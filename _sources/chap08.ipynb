{
 "cells": [
  {
   "cell_type": "markdown",
   "id": "b8bba8eb",
   "metadata": {},
   "source": [
    "# Estimation"
   ]
  },
  {
   "cell_type": "code",
   "execution_count": 1,
   "id": "cddf1967",
   "metadata": {},
   "outputs": [],
   "source": [
    "from os.path import basename, exists\n",
    "\n",
    "\n",
    "def download(url):\n",
    "    filename = basename(url)\n",
    "    if not exists(filename):\n",
    "        from urllib.request import urlretrieve\n",
    "\n",
    "        local, _ = urlretrieve(url, filename)\n",
    "        print(\"Downloaded \" + local)\n",
    "\n",
    "\n",
    "download(\"https://github.com/AllenDowney/ThinkStats2/raw/master/code/thinkstats2.py\")\n",
    "download(\"https://github.com/AllenDowney/ThinkStats2/raw/master/code/thinkplot.py\")"
   ]
  },
  {
   "cell_type": "code",
   "execution_count": 2,
   "id": "bb3a6450",
   "metadata": {},
   "outputs": [],
   "source": [
    "import numpy as np\n",
    "\n",
    "import thinkstats2\n",
    "import thinkplot"
   ]
  },
  {
   "cell_type": "markdown",
   "id": "7dacf078",
   "metadata": {},
   "source": [
    "## The estimation game\n",
    "\n",
    "Let's play a game. I think of a distribution, and you have to guess what\n",
    "it is. I'll give you two hints: it's a normal distribution, and here's a\n",
    "random sample drawn from it:\n",
    "\n",
    "`[-0.441, 1.774, -0.101, -1.138, 2.975, -2.138]`\n",
    "\n",
    "What do you think is the mean parameter, $\\mu$, of this distribution?\n",
    "\n",
    "One choice is to use the sample mean, $\\bar{x}$, as an estimate of $\\mu$.\n",
    "In this example, $\\bar{x}$ is 0.155, so it would be reasonable to guess\n",
    "$\\mu$ = 0.155. This process is called **estimation**, and the statistic\n",
    "we used (the sample mean) is called an **estimator**.\n",
    "\n",
    "Using the sample mean to estimate $\\mu$ is so obvious that it is hard to\n",
    "imagine a reasonable alternative. But suppose we change the game by\n",
    "introducing outliers."
   ]
  },
  {
   "cell_type": "markdown",
   "id": "5f2a7144",
   "metadata": {},
   "source": [
    "*I'm thinking of a distribution.* It's a normal distribution, and here's\n",
    "a sample that was collected by an unreliable surveyor who occasionally\n",
    "puts the decimal point in the wrong place.\n",
    "\n",
    "`[-0.441, 1.774, -0.101, -1.138, 2.975, -213.8]`\n",
    "\n",
    "Now what's your estimate of $\\mu$? If you use the sample mean, your\n",
    "guess is -35.12. Is that the best choice? What are the alternatives?\n",
    "\n",
    "One option is to identify and discard outliers, then compute the sample\n",
    "mean of the rest. Another option is to use the median as an estimator.\n",
    "\n",
    "Which estimator is best depends on the circumstances (for example,\n",
    "whether there are outliers) and on what the goal is. Are you trying to\n",
    "minimize errors, or maximize your chance of getting the right answer?"
   ]
  },
  {
   "cell_type": "markdown",
   "id": "5f619e94",
   "metadata": {},
   "source": [
    "If there are no outliers, the sample mean minimizes the **mean squared\n",
    "error** (MSE). That is, if we play the game many times, and each time\n",
    "compute the error $\\bar{x} - \\mu$, the sample mean minimizes\n",
    "$$MSE = \\frac{1}{m} \\sum (\\bar{x} - \\mu)^2$$ Where $m$ is the number of\n",
    "times you play the estimation game, not to be confused with $n$, which\n",
    "is the size of the sample used to compute $\\bar{x}$.\n",
    "\n",
    "Here is a function that simulates the estimation game and computes the\n",
    "root mean squared error (RMSE), which is the square root of MSE:"
   ]
  },
  {
   "cell_type": "code",
   "execution_count": 5,
   "id": "c6ae3ee6",
   "metadata": {},
   "outputs": [],
   "source": [
    "def RMSE(estimates, actual):\n",
    "    \"\"\"Computes the root mean squared error of a sequence of estimates.\n",
    "\n",
    "    estimate: sequence of numbers\n",
    "    actual: actual value\n",
    "\n",
    "    returns: float RMSE\n",
    "    \"\"\"\n",
    "    e2 = [(estimate-actual)**2 for estimate in estimates]\n",
    "    mse = np.mean(e2)\n",
    "    return np.sqrt(mse)"
   ]
  },
  {
   "cell_type": "code",
   "execution_count": 6,
   "id": "7c03dd73",
   "metadata": {},
   "outputs": [],
   "source": [
    "import random\n",
    "\n",
    "def Estimate1(n=7, m=1000):\n",
    "    mu = 0\n",
    "    sigma = 1\n",
    "\n",
    "    means = []\n",
    "    medians = []\n",
    "    for _ in range(m):\n",
    "        xs = [random.gauss(mu, sigma) for i in range(n)]\n",
    "        xbar = np.mean(xs)\n",
    "        median = np.median(xs)\n",
    "        means.append(xbar)\n",
    "        medians.append(median)\n",
    "\n",
    "    print('rmse xbar', RMSE(means, mu))\n",
    "    print('rmse median', RMSE(medians, mu))"
   ]
  },
  {
   "cell_type": "code",
   "execution_count": 7,
   "id": "6484add8",
   "metadata": {},
   "outputs": [
    {
     "name": "stdout",
     "output_type": "stream",
     "text": [
      "rmse xbar 0.39530236044347977\n",
      "rmse median 0.475238334720722\n"
     ]
    }
   ],
   "source": [
    "Estimate1()"
   ]
  },
  {
   "cell_type": "markdown",
   "id": "9700bb61",
   "metadata": {},
   "source": [
    "Again, `n` is the size of the sample, and `m` is the number of times we\n",
    "play the game. `means` is the list of estimates based on $\\bar{x}$.\n",
    "`medians` is the list of medians.\n",
    "\n",
    "Here's the function that computes RMSE:"
   ]
  },
  {
   "cell_type": "code",
   "execution_count": 8,
   "id": "f4a0e261",
   "metadata": {},
   "outputs": [],
   "source": [
    "def RMSE(estimates, actual):\n",
    "    e2 = [(estimate-actual)**2 for estimate in estimates]\n",
    "    mse = np.mean(e2)\n",
    "    return np.sqrt(mse)"
   ]
  },
  {
   "cell_type": "markdown",
   "id": "cf65739b",
   "metadata": {},
   "source": [
    "`estimates` is a list of estimates; `actual` is the actual value being\n",
    "estimated. In practice, of course, we don't know `actual`; if we did, we\n",
    "wouldn't have to estimate it. The purpose of this experiment is to\n",
    "compare the performance of the two estimators.\n",
    "\n",
    "When I ran this code, the RMSE of the sample mean was 0.41, which means\n",
    "that if we use $\\bar{x}$ to estimate the mean of this distribution, based\n",
    "on a sample with $n=7$, we should expect to be off by 0.41 on average.\n",
    "Using the median to estimate the mean yields RMSE 0.53, which confirms\n",
    "that $\\bar{x}$ yields lower RMSE, at least for this example.\n",
    "\n",
    "Minimizing MSE is a nice property, but it's not always the best\n",
    "strategy. For example, suppose we are estimating the distribution of\n",
    "wind speeds at a building site. If the estimate is too high, we might\n",
    "overbuild the structure, increasing its cost. But if it's too low, the\n",
    "building might collapse. Because cost as a function of error is not\n",
    "symmetric, minimizing MSE is not the best strategy."
   ]
  },
  {
   "cell_type": "markdown",
   "id": "3d994ac2",
   "metadata": {},
   "source": [
    "As another example, suppose I roll three six-sided dice and ask you to\n",
    "predict the total. If you get it exactly right, you get a prize;\n",
    "otherwise you get nothing. In this case the value that minimizes MSE is\n",
    "10.5, but that would be a bad guess, because the total of three dice is\n",
    "never 10.5. For this game, you want an estimator that has the highest\n",
    "chance of being right, which is a **maximum likelihood estimator**\n",
    "(MLE). If you pick 10 or 11, your chance of winning is 1 in 8, and\n",
    "that's the best you can do."
   ]
  },
  {
   "cell_type": "markdown",
   "id": "981535aa",
   "metadata": {},
   "source": [
    "## Guess the variance\n",
    "\n",
    "*I'm thinking of a distribution.* It's a normal distribution, and here's\n",
    "a (familiar) sample:\n",
    "\n",
    "`[-0.441, 1.774, -0.101, -1.138, 2.975, -2.138]`\n",
    "\n",
    "What do you think is the variance, $\\sigma^2$, of my distribution?\n",
    "Again, the obvious choice is to use the sample variance, $S^2$, as an\n",
    "estimator. $$S^2 = \\frac{1}{n} \\sum (x_i - \\bar{x})^2$$ For large samples,\n",
    "$S^2$ is an adequate estimator, but for small samples it tends to be too\n",
    "low. Because of this unfortunate property, it is called a **biased**\n",
    "estimator. An estimator is **unbiased** if the expected total (or mean)\n",
    "error, after many iterations of the estimation game, is 0.\n",
    "\n",
    "Fortunately, there is another simple statistic that is an unbiased\n",
    "estimator of $\\sigma^2$:\n",
    "$$S_{n-1}^2 = \\frac{1}{n-1} \\sum (x_i - \\bar{x})^2$$ For an explanation of\n",
    "why $S^2$ is biased, and a proof that $S_{n-1}^2$ is unbiased, see\n",
    "<http://wikipedia.org/wiki/Bias_of_an_estimator>."
   ]
  },
  {
   "cell_type": "markdown",
   "id": "17f227d8",
   "metadata": {},
   "source": [
    "The biggest problem with this estimator is that its name and symbol are\n",
    "used inconsistently. The name \"sample variance\" can refer to either\n",
    "$S^2$ or $S_{n-1}^2$, and the symbol $S^2$ is used for either or both.\n",
    "\n",
    "Here is a function that simulates the estimation game and tests the\n",
    "performance of $S^2$ and $S_{n-1}^2$:"
   ]
  },
  {
   "cell_type": "code",
   "execution_count": 11,
   "id": "48642d63",
   "metadata": {},
   "outputs": [],
   "source": [
    "def MeanError(estimates, actual):\n",
    "    \"\"\"Computes the mean error of a sequence of estimates.\n",
    "\n",
    "    estimate: sequence of numbers\n",
    "    actual: actual value\n",
    "\n",
    "    returns: float mean error\n",
    "    \"\"\"\n",
    "    errors = [estimate-actual for estimate in estimates]\n",
    "    return np.mean(errors)"
   ]
  },
  {
   "cell_type": "code",
   "execution_count": 12,
   "id": "09615c49",
   "metadata": {},
   "outputs": [],
   "source": [
    "def Estimate2(n=7, m=1000):\n",
    "    mu = 0\n",
    "    sigma = 1\n",
    "\n",
    "    estimates1 = []\n",
    "    estimates2 = []\n",
    "    for _ in range(m):\n",
    "        xs = [random.gauss(mu, sigma) for i in range(n)]\n",
    "        biased = np.var(xs)\n",
    "        unbiased = np.var(xs, ddof=1)\n",
    "        estimates1.append(biased)\n",
    "        estimates2.append(unbiased)\n",
    "\n",
    "    print('mean error biased', MeanError(estimates1, sigma**2))\n",
    "    print('mean error unbiased', MeanError(estimates2, sigma**2))"
   ]
  },
  {
   "cell_type": "code",
   "execution_count": 13,
   "id": "c75bc848",
   "metadata": {},
   "outputs": [
    {
     "name": "stdout",
     "output_type": "stream",
     "text": [
      "mean error biased -0.13695189314208897\n",
      "mean error unbiased 0.006889458000896184\n"
     ]
    }
   ],
   "source": [
    "Estimate2()"
   ]
  },
  {
   "cell_type": "markdown",
   "id": "27caa4cd",
   "metadata": {},
   "source": [
    "Again, `n` is the sample size and `m` is the number of times we play the\n",
    "game. `np.var` computes $S^2$ by default and $S_{n-1}^2$ if you provide\n",
    "the argument `ddof=1`, which stands for \"delta degrees of freedom.\" I\n",
    "won't explain that term, but you can read about it at\n",
    "<http://en.wikipedia.org/wiki/Degrees_of_freedom_(statistics)>.\n",
    "\n",
    "`MeanError` computes the mean difference between the estimates and the\n",
    "actual value:"
   ]
  },
  {
   "cell_type": "markdown",
   "id": "b56aab89",
   "metadata": {},
   "source": [
    "When I ran this code, the mean error for $S^2$ was -0.13. As expected,\n",
    "this biased estimator tends to be too low. For $S_{n-1}^2$, the mean\n",
    "error was 0.014, about 10 times smaller. As `m` increases, we expect the\n",
    "mean error for $S_{n-1}^2$ to approach 0.\n",
    "\n",
    "Properties like MSE and bias are long-term expectations based on many\n",
    "iterations of the estimation game. By running simulations like the ones\n",
    "in this chapter, we can compare estimators and check whether they have\n",
    "desired properties.\n",
    "\n",
    "But when you apply an estimator to real data, you just get one estimate.\n",
    "It would not be meaningful to say that the estimate is unbiased; being\n",
    "unbiased is a property of the estimator, not the estimate.\n",
    "\n",
    "After you choose an estimator with appropriate properties, and use it to\n",
    "generate an estimate, the next step is to characterize the uncertainty\n",
    "of the estimate, which is the topic of the next section."
   ]
  },
  {
   "cell_type": "markdown",
   "id": "8ae4b7f1",
   "metadata": {},
   "source": [
    "## Sampling distributions\n",
    "\n",
    "Suppose you are a scientist studying gorillas in a wildlife preserve.\n",
    "You want to know the average weight of the adult female gorillas in the\n",
    "preserve. To weigh them, you have to tranquilize them, which is\n",
    "dangerous, expensive, and possibly harmful to the gorillas. But if it is\n",
    "important to obtain this information, it might be acceptable to weigh a\n",
    "sample of 9 gorillas. Let's assume that the population of the preserve\n",
    "is well known, so we can choose a representative sample of adult\n",
    "females. We could use the sample mean, $\\bar{x}$, to estimate the unknown\n",
    "population mean, $\\mu$.\n",
    "\n",
    "Having weighed 9 female gorillas, you might find $\\bar{x}=90$ kg and\n",
    "sample standard deviation, $S=7.5$ kg. The sample mean is an unbiased\n",
    "estimator of $\\mu$, and in the long run it minimizes MSE. So if you\n",
    "report a single estimate that summarizes the results, you would report\n",
    "90 kg.\n",
    "\n",
    "But how confident should you be in this estimate? If you only weigh\n",
    "$n=9$ gorillas out of a much larger population, you might be unlucky and\n",
    "choose the 9 heaviest gorillas (or the 9 lightest ones) just by chance.\n",
    "Variation in the estimate caused by random selection is called\n",
    "**sampling error**."
   ]
  },
  {
   "cell_type": "markdown",
   "id": "24339e36",
   "metadata": {},
   "source": [
    "To quantify sampling error, we can simulate the sampling process with\n",
    "hypothetical values of $\\mu$ and $\\sigma$, and see how much $\\bar{x}$\n",
    "varies.\n",
    "\n",
    "Since we don't know the actual values of $\\mu$ and $\\sigma$ in the\n",
    "population, we'll use the estimates $\\bar{x}$ and $S$. So the question we\n",
    "answer is: \"If the actual values of $\\mu$ and $\\sigma$ were 90 kg and\n",
    "7.5 kg, and we ran the same experiment many times, how much would the\n",
    "estimated mean, $\\bar{x}$, vary?\"\n",
    "\n",
    "The following function answers that question:"
   ]
  },
  {
   "cell_type": "code",
   "execution_count": 16,
   "id": "8f35a3ec",
   "metadata": {},
   "outputs": [],
   "source": [
    "def SimulateSample(mu=90, sigma=7.5, n=9, iters=1000):\n",
    "    xbars = []\n",
    "    for j in range(iters):\n",
    "        xs = np.random.normal(mu, sigma, n)\n",
    "        xbar = np.mean(xs)\n",
    "        xbars.append(xbar)\n",
    "    return xbars"
   ]
  },
  {
   "cell_type": "markdown",
   "id": "c43ec017",
   "metadata": {},
   "source": [
    "`mu` and `sigma` are the *hypothetical* values of the parameters. `n` is\n",
    "the sample size, the number of gorillas we measured. `m` is the number\n",
    "of times we run the simulation."
   ]
  },
  {
   "cell_type": "code",
   "execution_count": 17,
   "id": "2a26d949",
   "metadata": {},
   "outputs": [
    {
     "data": {
      "image/png": "[encoded data removed]",
      "text/plain": [
       "<Figure size 640x480 with 1 Axes>"
      ]
     },
     "metadata": {},
     "output_type": "display_data"
    }
   ],
   "source": [
    "xbars = SimulateSample()\n",
    "cdf = thinkstats2.Cdf(xbars)\n",
    "thinkplot.Cdf(cdf)\n",
    "thinkplot.Config(xlabel='Sample mean',\n",
    "                 ylabel='CDF')"
   ]
  },
  {
   "cell_type": "markdown",
   "id": "0d0a0dc3",
   "metadata": {},
   "source": [
    "In each iteration, we choose `n` values from a normal distribution with\n",
    "the given parameters, and compute the sample mean, `xbar`. We run 1000\n",
    "simulations and then compute the distribution, `cdf`, of the estimates.\n",
    "The result is shown in\n",
    "Figure [\\[estimation1\\]](#estimation1){reference-type=\"ref\"\n",
    "reference=\"estimation1\"}. This distribution is called the **sampling\n",
    "distribution** of the estimator. It shows how much the estimates would\n",
    "vary if we ran the experiment over and over.\n",
    "\n",
    "The mean of the sampling distribution is pretty close to the\n",
    "hypothetical value of $\\mu$, which means that the experiment yields the\n",
    "right answer, on average. After 1000 tries, the lowest result is 82 kg,\n",
    "and the highest is 98 kg. This range suggests that the estimate might be\n",
    "off by as much as 8 kg."
   ]
  },
  {
   "cell_type": "code",
   "execution_count": 18,
   "id": "e4c223b2",
   "metadata": {},
   "outputs": [
    {
     "data": {
      "text/plain": [
       "90.06484084475981"
      ]
     },
     "execution_count": 18,
     "metadata": {},
     "output_type": "execute_result"
    }
   ],
   "source": [
    "np.mean(xbars)"
   ]
  },
  {
   "cell_type": "code",
   "execution_count": 19,
   "id": "931496f2",
   "metadata": {},
   "outputs": [
    {
     "data": {
      "text/plain": [
       "(85.96712753834224, 94.13764998760222)"
      ]
     },
     "execution_count": 19,
     "metadata": {},
     "output_type": "execute_result"
    }
   ],
   "source": [
    "ci = cdf.Percentile(5), cdf.Percentile(95)\n",
    "ci"
   ]
  },
  {
   "cell_type": "code",
   "execution_count": 20,
   "id": "4299ce1b",
   "metadata": {},
   "outputs": [
    {
     "data": {
      "text/plain": [
       "2.5378143765427614"
      ]
     },
     "execution_count": 20,
     "metadata": {},
     "output_type": "execute_result"
    }
   ],
   "source": [
    "stderr = RMSE(xbars, 90)\n",
    "stderr"
   ]
  },
  {
   "cell_type": "markdown",
   "id": "c103ec8f",
   "metadata": {},
   "source": [
    "There are two common ways to summarize the sampling distribution:\n",
    "\n",
    "-   **Standard error** (SE) is a measure of how far we expect the\n",
    "    estimate to be off, on average. For each simulated experiment, we\n",
    "    compute the error, $\\bar{x} - \\mu$, and then compute the root mean\n",
    "    squared error (RMSE). In this example, it is roughly 2.5 kg.\n",
    "\n",
    "-   A **confidence interval** (CI) is a range that includes a given\n",
    "    fraction of the sampling distribution. For example, the 90%\n",
    "    confidence interval is the range from the 5th to the 95th\n",
    "    percentile. In this example, the 90% CI is $(86, 94)$ kg."
   ]
  },
  {
   "cell_type": "markdown",
   "id": "7deaf510",
   "metadata": {},
   "source": [
    "Standard errors and confidence intervals are the source of much\n",
    "confusion:\n",
    "\n",
    "-   People often confuse standard error and standard deviation. Remember\n",
    "    that standard deviation describes variability in a measured\n",
    "    quantity; in this example, the standard deviation of gorilla weight\n",
    "    is 7.5 kg. Standard error describes variability in an estimate. In\n",
    "    this example, the standard error of the mean, based on a sample of 9\n",
    "    measurements, is 2.5 kg."
   ]
  },
  {
   "cell_type": "markdown",
   "id": "64cf014b",
   "metadata": {},
   "source": [
    "One way to remember the difference is that, as sample size\n",
    "increases, standard error gets smaller; standard deviation does not.\n",
    "\n",
    "-   People often think that there is a 90% probability that the actual\n",
    "    parameter, $\\mu$, falls in the 90% confidence interval. Sadly, that\n",
    "    is not true. If you want to make a claim like that, you have to use\n",
    "    Bayesian methods (see my book, *Think Bayes*)."
   ]
  },
  {
   "cell_type": "markdown",
   "id": "9812c4f0",
   "metadata": {},
   "source": [
    "The sampling distribution answers a different question: it gives you\n",
    "a sense of how reliable an estimate is by telling you how much it\n",
    "would vary if you ran the experiment again."
   ]
  },
  {
   "cell_type": "markdown",
   "id": "c7b6560b",
   "metadata": {},
   "source": [
    "It is important to remember that confidence intervals and standard\n",
    "errors only quantify sampling error; that is, error due to measuring\n",
    "only part of the population. The sampling distribution does not account\n",
    "for other sources of error, notably sampling bias and measurement error,\n",
    "which are the topics of the next section."
   ]
  },
  {
   "cell_type": "markdown",
   "id": "c9185ef3",
   "metadata": {},
   "source": [
    "## Sampling bias\n",
    "\n",
    "Suppose that instead of the weight of gorillas in a nature preserve, you\n",
    "want to know the average weight of women in the city where you live. It\n",
    "is unlikely that you would be allowed to choose a representative sample\n",
    "of women and weigh them.\n",
    "\n",
    "A simple alternative would be \"telephone sampling;\" that is, you could\n",
    "choose random numbers from the phone book, call and ask to speak to an\n",
    "adult woman, and ask how much she weighs.\n",
    "\n",
    "Telephone sampling has obvious limitations. For example, the sample is\n",
    "limited to people whose telephone numbers are listed, so it eliminates\n",
    "people without phones (who might be poorer than average) and people with\n",
    "unlisted numbers (who might be richer). Also, if you call home\n",
    "telephones during the day, you are less likely to sample people with\n",
    "jobs. And if you only sample the person who answers the phone, you are\n",
    "less likely to sample people who share a phone line."
   ]
  },
  {
   "cell_type": "markdown",
   "id": "29713752",
   "metadata": {},
   "source": [
    "If factors like income, employment, and household size are related to\n",
    "weight---and it is plausible that they are---the results of your survey\n",
    "would be affected one way or another. This problem is called **sampling\n",
    "bias** because it is a property of the sampling process.\n",
    "\n",
    "This sampling process is also vulnerable to self-selection, which is a\n",
    "kind of sampling bias. Some people will refuse to answer the question,\n",
    "and if the tendency to refuse is related to weight, that would affect\n",
    "the results.\n",
    "\n",
    "Finally, if you ask people how much they weigh, rather than weighing\n",
    "them, the results might not be accurate. Even helpful respondents might\n",
    "round up or down if they are uncomfortable with their actual weight. And\n",
    "not all respondents are helpful. These inaccuracies are examples of\n",
    "**measurement error**."
   ]
  },
  {
   "cell_type": "markdown",
   "id": "5a97787d",
   "metadata": {},
   "source": [
    "When you report an estimated quantity, it is useful to report standard\n",
    "error, or a confidence interval, or both, in order to quantify sampling\n",
    "error. But it is also important to remember that sampling error is only\n",
    "one source of error, and often it is not the biggest."
   ]
  },
  {
   "cell_type": "markdown",
   "id": "c8fee736",
   "metadata": {},
   "source": [
    "## Exponential distributions\n",
    "\n",
    "Let's play one more round of the estimation game. *I'm thinking of a\n",
    "distribution.* It's an exponential distribution, and here's a sample:\n",
    "\n",
    "`[5.384, 4.493, 19.198, 2.790, 6.122, 12.844]`\n",
    "\n",
    "What do you think is the parameter, $\\lambda$, of this distribution?\n",
    "\n",
    "In general, the mean of an exponential distribution is $1/\\lambda$, so\n",
    "working backwards, we might choose $$L= 1 / \\bar{x}$$ $L$ is an estimator\n",
    "of $\\lambda$. And not just any estimator; it is also the maximum\n",
    "likelihood estimator (see\n",
    "<http://wikipedia.org/wiki/Exponential_distribution#Maximum_likelihood>).\n",
    "So if you want to maximize your chance of guessing $\\lambda$ exactly,\n",
    "$L$ is the way to go.\n",
    "\n",
    "But we know that $\\bar{x}$ is not robust in the presence of outliers, so\n",
    "we expect $L$ to have the same problem."
   ]
  },
  {
   "cell_type": "markdown",
   "id": "92c023db",
   "metadata": {},
   "source": [
    "We can choose an alternative based on the sample median. The median of\n",
    "an exponential distribution is $\\ln(2) / \\lambda$, so working backwards\n",
    "again, we can define an estimator $$L_m= \\ln(2) / m$$ where $m$ is the\n",
    "sample median.\n",
    "\n",
    "To test the performance of these estimators, we can simulate the\n",
    "sampling process:"
   ]
  },
  {
   "cell_type": "code",
   "execution_count": 21,
   "id": "9d6dbd28",
   "metadata": {},
   "outputs": [],
   "source": [
    "def Estimate3(n=7, m=1000):\n",
    "    lam = 2\n",
    "\n",
    "    means = []\n",
    "    medians = []\n",
    "    for _ in range(m):\n",
    "        xs = np.random.exponential(1.0/lam, n)\n",
    "        L = 1 / np.mean(xs)\n",
    "        Lm = np.log(2) / thinkstats2.Median(xs)\n",
    "        means.append(L)\n",
    "        medians.append(Lm)\n",
    "\n",
    "    print('rmse L', RMSE(means, lam))\n",
    "    print('rmse Lm', RMSE(medians, lam))\n",
    "    print('mean error L', MeanError(means, lam))\n",
    "    print('mean error Lm', MeanError(medians, lam))"
   ]
  },
  {
   "cell_type": "markdown",
   "id": "3a550684",
   "metadata": {},
   "source": [
    "When I run this experiment with $\\lambda=2$, the RMSE of $L$ is 1.1. For\n",
    "the median-based estimator $L_m$, RMSE is 1.8. We can't tell from this\n",
    "experiment whether $L$ minimizes MSE, but at least it seems better than\n",
    "$L_m$."
   ]
  },
  {
   "cell_type": "code",
   "execution_count": 22,
   "id": "604bb600",
   "metadata": {},
   "outputs": [
    {
     "name": "stdout",
     "output_type": "stream",
     "text": [
      "rmse L 1.1170197988041468\n",
      "rmse Lm 1.7766765260102633\n",
      "mean error L 0.36424219588529966\n",
      "mean error Lm 0.5135627068422906\n"
     ]
    }
   ],
   "source": [
    "Estimate3()"
   ]
  },
  {
   "cell_type": "markdown",
   "id": "8a7e05a2",
   "metadata": {},
   "source": [
    "Sadly, it seems that both estimators are biased. For $L$ the mean error\n",
    "is 0.33; for $L_m$ it is 0.45. And neither converges to 0 as `m`\n",
    "increases.\n",
    "\n",
    "It turns out that $\\bar{x}$ is an unbiased estimator of the mean of the\n",
    "distribution, $1 / \\lambda$, but $L$ is not an unbiased estimator of\n",
    "$\\lambda$."
   ]
  },
  {
   "cell_type": "markdown",
   "id": "5a72892f",
   "metadata": {},
   "source": [
    "## Glossary\n",
    "\n",
    "-   **estimation**: The process of inferring the parameters of a\n",
    "    distribution from a sample.\n",
    "\n",
    "-   **estimator**: A statistic used to estimate a parameter.\n",
    "\n",
    "-   **mean squared error (MSE)**: A measure of estimation error.\n",
    "\n",
    "-   **root mean squared error (RMSE)**: The square root of MSE, a more\n",
    "    meaningful representation of typical error magnitude.\n",
    "\n",
    "-   **maximum likelihood estimator (MLE)**: An estimator that computes\n",
    "    the point estimate most likely to be correct.\n",
    "\n",
    "-   **bias (of an estimator)**: The tendency of an estimator to be above\n",
    "    or below the actual value of the parameter, when averaged over\n",
    "    repeated experiments.\n",
    "\n",
    "-   **sampling error**: Error in an estimate due to the limited size of\n",
    "    the sample and variation due to chance.\n",
    "\n",
    "-   **sampling bias**: Error in an estimate due to a sampling process\n",
    "    that is not representative of the population.\n",
    "\n",
    "-   **measurement error**: Error in an estimate due to inaccuracy\n",
    "    collecting or recording data.\n",
    "\n",
    "-   **sampling distribution**: The distribution of a statistic if an\n",
    "    experiment is repeated many times.\n",
    "\n",
    "-   **standard error**: The RMSE of an estimate, which quantifies\n",
    "    variability due to sampling error (but not other sources of error).\n",
    "\n",
    "-   **confidence interval**: An interval that represents the expected\n",
    "    range of an estimator if an experiment is repeated many times."
   ]
  },
  {
   "cell_type": "markdown",
   "id": "697621aa",
   "metadata": {},
   "source": [
    "## Exercises"
   ]
  },
  {
   "cell_type": "markdown",
   "id": "700f4df0",
   "metadata": {},
   "source": [
    "**Exercise:** Suppose you draw a sample with size n=10 from an exponential distribution with λ=2. Simulate this experiment 1000 times and plot the sampling distribution of the estimate L. Compute the standard error of the estimate and the 90% confidence interval.\n",
    "\n",
    "Repeat the experiment with a few different values of `n` and make a plot of standard error versus `n`.\n",
    "\n"
   ]
  },
  {
   "cell_type": "code",
   "execution_count": 23,
   "id": "71beaf3d",
   "metadata": {},
   "outputs": [
    {
     "name": "stdout",
     "output_type": "stream",
     "text": [
      "standard error 0.8123273990929318\n",
      "confidence interval (1.2708669507738428, 3.5959240022479264)\n"
     ]
    },
    {
     "data": {
      "text/plain": [
       "0.8123273990929318"
      ]
     },
     "execution_count": 23,
     "metadata": {},
     "output_type": "execute_result"
    },
    {
     "data": {
      "image/png": "[encoded data removed]",
      "text/plain": [
       "<Figure size 640x480 with 1 Axes>"
      ]
     },
     "metadata": {},
     "output_type": "display_data"
    }
   ],
   "source": []
  },
  {
   "cell_type": "code",
   "execution_count": 24,
   "id": "0c9affa4",
   "metadata": {},
   "outputs": [],
   "source": []
  },
  {
   "cell_type": "markdown",
   "id": "c8d4dc5c",
   "metadata": {},
   "source": [
    "**Exercise:** In games like hockey and soccer, the time between goals is roughly exponential. So you could estimate a team’s goal-scoring rate by observing the number of goals they score in a game. This estimation process is a little different from sampling the time between goals, so let’s see how it works.\n",
    "\n",
    "Write a function that takes a goal-scoring rate, `lam`, in goals per game, and simulates a game by generating the time between goals until the total time exceeds 1 game, then returns the number of goals scored.\n",
    "\n",
    "Write another function that simulates many games, stores the estimates of `lam`, then computes their mean error and RMSE.\n",
    "\n",
    "Is this way of making an estimate biased?"
   ]
  },
  {
   "cell_type": "code",
   "execution_count": 25,
   "id": "9dcfda77",
   "metadata": {},
   "outputs": [],
   "source": [
    "def SimulateGame(lam):\n",
    "    \"\"\"Simulates a game and returns the estimated goal-scoring rate.\n",
    "\n",
    "    lam: actual goal scoring rate in goals per game\n",
    "    \"\"\"\n",
    "    goals = 0\n",
    "    t = 0\n",
    "    while True:\n",
    "        time_between_goals = random.expovariate(lam)\n",
    "        t += time_between_goals\n",
    "        if t > 1:\n",
    "            break\n",
    "        goals += 1\n",
    "\n",
    "    # estimated goal-scoring rate is the actual number of goals scored\n",
    "    L = goals\n",
    "    return L"
   ]
  },
  {
   "cell_type": "code",
   "execution_count": 26,
   "id": "2a7a3a99",
   "metadata": {},
   "outputs": [
    {
     "name": "stdout",
     "output_type": "stream",
     "text": [
      "Experiment 4\n",
      "rmse L 1.4167646240642797\n",
      "mean error L 0.000938\n"
     ]
    },
    {
     "data": {
      "image/png": "[encoded data removed]",
      "text/plain": [
       "<Figure size 640x480 with 1 Axes>"
      ]
     },
     "metadata": {},
     "output_type": "display_data"
    }
   ],
   "source": []
  },
  {
   "cell_type": "code",
   "execution_count": 27,
   "id": "1ec0bff3",
   "metadata": {},
   "outputs": [],
   "source": []
  },
  {
   "cell_type": "markdown",
   "id": "3f4fbe65",
   "metadata": {},
   "source": [
    "**Exercise:**  In this chapter we used $\\bar{x}$ and median to estimate µ, and found that $\\bar{x}$ yields lower MSE. Also, we used $S^2$ and $S_{n-1}^2$ to estimate σ, and found that $S^2$ is biased and $S_{n-1}^2$ unbiased.\n",
    "Run similar experiments to see if $\\bar{x}$ and median are biased estimates of µ. Also check whether $S^2$ or $S_{n-1}^2$ yields a lower MSE."
   ]
  },
  {
   "cell_type": "code",
   "execution_count": 28,
   "id": "52ac2dbc",
   "metadata": {},
   "outputs": [
    {
     "name": "stdout",
     "output_type": "stream",
     "text": [
      "Experiment 1\n",
      "mean error xbar -0.0004525331787192879\n",
      "mean error median -0.0006871767159844678\n"
     ]
    }
   ],
   "source": []
  },
  {
   "cell_type": "code",
   "execution_count": 29,
   "id": "bbffceac",
   "metadata": {},
   "outputs": [
    {
     "name": "stdout",
     "output_type": "stream",
     "text": [
      "Experiment 2\n",
      "RMSE biased 0.5128622081175854\n",
      "RMSE unbiased 0.5744124496387355\n"
     ]
    }
   ],
   "source": []
  },
  {
   "cell_type": "code",
   "execution_count": 30,
   "id": "bac4114e",
   "metadata": {},
   "outputs": [],
   "source": []
  },
  {
   "cell_type": "code",
   "execution_count": null,
   "id": "37084486",
   "metadata": {},
   "outputs": [],
   "source": []
  }
 ],
 "metadata": {
  "kernelspec": {
   "display_name": "Python 3 (ipykernel)",
   "language": "python",
   "name": "python3"
  },
  "language_info": {
   "codemirror_mode": {
    "name": "ipython",
    "version": 3
   },
   "file_extension": ".py",
   "mimetype": "text/x-python",
   "name": "python",
   "nbconvert_exporter": "python",
   "pygments_lexer": "ipython3",
   "version": "3.10.14"
  }
 },
 "nbformat": 4,
 "nbformat_minor": 5
}
