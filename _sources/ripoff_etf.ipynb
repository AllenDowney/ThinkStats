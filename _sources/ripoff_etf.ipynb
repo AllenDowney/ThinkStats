{
 "cells": [
  {
   "cell_type": "markdown",
   "id": "f2f4242b",
   "metadata": {},
   "source": [
    "# Rip-off ETF?\n",
    "\n",
    "An article in a recent issue of  *The Economist* suggests, right in the title, \"[Investors should avoid a new generation of rip-off ETFs](https://www.economist.com/finance-and-economics/2024/08/22/investors-should-avoid-a-new-generation-of-rip-off-etfs)\".\n",
    "An exchange-traded fund (ETF) is an investment fund that holds a collection of assets, and trades on a stock exchange like a single stock. For example, the SPDR S&P 500 ETF Trust (SPY) tracks the S&P 500 index, but unlike traditional index funds, you can buy or sell shares in minutes.\n",
    "\n",
    "There's nothing obviously wrong with that -- but as an example of a \"rip-off ETF\", the article describes \"defined-outcome funds\" or buffer ETFs, which \"offer investors an enviable-sounding opportunity: hold stocks, with protection against falling prices. All they must do is forgo annual returns above a certain level, often 10% or so.\"\n",
    "\n",
    "That might sound like a good deal, but the article explains, \"Over the long term, they are a terrible deal for investors. Much of the compounding effect of stock ownership comes from rallies.\"\n",
    "\n",
    "To demonstrate, they use the value of the S&P index since 1980: \"An investor with returns capped at 10% and protected from losses would have made a real return of 403% over the period, a fraction of the 3,155% return offered by just buying and holding the S&P 500.\"\n",
    "\n",
    "So that sounds bad, but returns from 1980 to the present have been historically unusual -- and as we've been warned, past performance is not indicative of future results.\n",
    "To get a better sense of whether buffer ETFs are more generally a bad deal, let's get a bigger picture. "
   ]
  },
  {
   "cell_type": "markdown",
   "id": "87936a32",
   "metadata": {},
   "source": [
    "[Click here to run this notebook on Colab](https://colab.research.google.com/github/AllenDowney/ThinkStats/blob/v3/examples/ripoff_etf.ipynb)"
   ]
  },
  {
   "cell_type": "code",
   "execution_count": 1,
   "id": "41ffa5f5",
   "metadata": {
    "tags": [
     "hide-cell"
    ]
   },
   "outputs": [],
   "source": [
    "from os.path import basename, exists\n",
    "\n",
    "\n",
    "def download(url):\n",
    "    filename = basename(url)\n",
    "    if not exists(filename):\n",
    "        from urllib.request import urlretrieve\n",
    "\n",
    "        local, _ = urlretrieve(url, filename)\n",
    "        print(\"Downloaded \" + local)\n",
    "\n",
    "\n",
    "download(\"https://github.com/AllenDowney/ThinkStats/raw/v3/nb/thinkstats.py\")"
   ]
  },
  {
   "cell_type": "code",
   "execution_count": 2,
   "id": "52938742",
   "metadata": {
    "tags": [
     "hide-cell"
    ]
   },
   "outputs": [],
   "source": [
    "try:\n",
    "    import empiricaldist\n",
    "except ImportError:\n",
    "    !pip install empiricaldist"
   ]
  },
  {
   "cell_type": "code",
   "execution_count": 3,
   "id": "9fb94810",
   "metadata": {
    "tags": [
     "hide-cell"
    ]
   },
   "outputs": [],
   "source": [
    "import numpy as np\n",
    "import pandas as pd\n",
    "import matplotlib.pyplot as plt\n",
    "\n",
    "from thinkstats import decorate"
   ]
  },
  {
   "cell_type": "markdown",
   "id": "71dcb745",
   "metadata": {
    "tags": [
     "hide-cell"
    ]
   },
   "source": [
    "## The Dow Jones\n",
    "\n",
    "The MeasuringWorth Foundation has compiled the value of the Dow Jones Industrial Average at the end of each day from February 16, 1885 to the present, with adjustments at several points to make the values comparable.\n",
    "The series I collected starts on February 16, 1885 and ends on August 30, 2024.\n",
    "The following cells download and read the data."
   ]
  },
  {
   "cell_type": "code",
   "execution_count": 4,
   "id": "06eb0cd7",
   "metadata": {
    "tags": [
     "hide-cell"
    ]
   },
   "outputs": [],
   "source": [
    "# \"Citation: Samuel H. Williamson, 'Daily Closing Value of the Dow Jones Average, 1885 to Present,'\n",
    "# MeasuringWorth, 2022. \"\n",
    "\n",
    "# Downloaded from https://www.measuringworth.com/datasets/DJA, September 3, 2024"
   ]
  },
  {
   "cell_type": "code",
   "execution_count": 5,
   "id": "cd5e2a08",
   "metadata": {},
   "outputs": [],
   "source": [
    "DATA_PATH = \"https://github.com/AllenDowney/ThinkStats/raw/v3/data/\"\n",
    "filename = \"DJA.csv\"\n",
    "download(DATA_PATH + filename)"
   ]
  },
  {
   "cell_type": "code",
   "execution_count": 6,
   "id": "381ce949",
   "metadata": {},
   "outputs": [
    {
     "data": {
      "text/html": [
       "<div>\n",
       "<style scoped>\n",
       "    .dataframe tbody tr th:only-of-type {\n",
       "        vertical-align: middle;\n",
       "    }\n",
       "\n",
       "    .dataframe tbody tr th {\n",
       "        vertical-align: top;\n",
       "    }\n",
       "\n",
       "    .dataframe thead th {\n",
       "        text-align: right;\n",
       "    }\n",
       "</style>\n",
       "<table border=\"1\" class=\"dataframe\">\n",
       "  <thead>\n",
       "    <tr style=\"text-align: right;\">\n",
       "      <th></th>\n",
       "      <th>DJIA</th>\n",
       "    </tr>\n",
       "    <tr>\n",
       "      <th>Date</th>\n",
       "      <th></th>\n",
       "    </tr>\n",
       "  </thead>\n",
       "  <tbody>\n",
       "    <tr>\n",
       "      <th>1885-02-16</th>\n",
       "      <td>30.9226</td>\n",
       "    </tr>\n",
       "    <tr>\n",
       "      <th>1885-02-17</th>\n",
       "      <td>31.3365</td>\n",
       "    </tr>\n",
       "    <tr>\n",
       "      <th>1885-02-18</th>\n",
       "      <td>31.4744</td>\n",
       "    </tr>\n",
       "    <tr>\n",
       "      <th>1885-02-19</th>\n",
       "      <td>31.6765</td>\n",
       "    </tr>\n",
       "    <tr>\n",
       "      <th>1885-02-20</th>\n",
       "      <td>31.4252</td>\n",
       "    </tr>\n",
       "  </tbody>\n",
       "</table>\n",
       "</div>"
      ],
      "text/plain": [
       "               DJIA\n",
       "Date               \n",
       "1885-02-16  30.9226\n",
       "1885-02-17  31.3365\n",
       "1885-02-18  31.4744\n",
       "1885-02-19  31.6765\n",
       "1885-02-20  31.4252"
      ]
     },
     "execution_count": 6,
     "metadata": {},
     "output_type": "execute_result"
    }
   ],
   "source": [
    "djia = pd.read_csv(filename, skiprows=4, parse_dates=[0], index_col=0)\n",
    "djia.head()"
   ]
  },
  {
   "cell_type": "markdown",
   "id": "f84b1224",
   "metadata": {},
   "source": [
    "To compute annual returns, we'll start by selecting the closing price on the last trading day of each year (dropping 2024 because we don't have a complete year)."
   ]
  },
  {
   "cell_type": "code",
   "execution_count": 7,
   "id": "342c6d1f",
   "metadata": {},
   "outputs": [
    {
     "data": {
      "text/html": [
       "<div>\n",
       "<style scoped>\n",
       "    .dataframe tbody tr th:only-of-type {\n",
       "        vertical-align: middle;\n",
       "    }\n",
       "\n",
       "    .dataframe tbody tr th {\n",
       "        vertical-align: top;\n",
       "    }\n",
       "\n",
       "    .dataframe thead th {\n",
       "        text-align: right;\n",
       "    }\n",
       "</style>\n",
       "<table border=\"1\" class=\"dataframe\">\n",
       "  <thead>\n",
       "    <tr style=\"text-align: right;\">\n",
       "      <th></th>\n",
       "      <th>DJIA</th>\n",
       "    </tr>\n",
       "    <tr>\n",
       "      <th>Date</th>\n",
       "      <th></th>\n",
       "    </tr>\n",
       "  </thead>\n",
       "  <tbody>\n",
       "    <tr>\n",
       "      <th>1885</th>\n",
       "      <td>39.4859</td>\n",
       "    </tr>\n",
       "    <tr>\n",
       "      <th>1886</th>\n",
       "      <td>41.2391</td>\n",
       "    </tr>\n",
       "    <tr>\n",
       "      <th>1887</th>\n",
       "      <td>37.7693</td>\n",
       "    </tr>\n",
       "    <tr>\n",
       "      <th>1888</th>\n",
       "      <td>39.5866</td>\n",
       "    </tr>\n",
       "    <tr>\n",
       "      <th>1889</th>\n",
       "      <td>42.0394</td>\n",
       "    </tr>\n",
       "    <tr>\n",
       "      <th>...</th>\n",
       "      <td>...</td>\n",
       "    </tr>\n",
       "    <tr>\n",
       "      <th>2019</th>\n",
       "      <td>28538.4400</td>\n",
       "    </tr>\n",
       "    <tr>\n",
       "      <th>2020</th>\n",
       "      <td>30606.4800</td>\n",
       "    </tr>\n",
       "    <tr>\n",
       "      <th>2021</th>\n",
       "      <td>36338.3000</td>\n",
       "    </tr>\n",
       "    <tr>\n",
       "      <th>2022</th>\n",
       "      <td>33147.2500</td>\n",
       "    </tr>\n",
       "    <tr>\n",
       "      <th>2023</th>\n",
       "      <td>37689.5400</td>\n",
       "    </tr>\n",
       "  </tbody>\n",
       "</table>\n",
       "<p>139 rows × 1 columns</p>\n",
       "</div>"
      ],
      "text/plain": [
       "            DJIA\n",
       "Date            \n",
       "1885     39.4859\n",
       "1886     41.2391\n",
       "1887     37.7693\n",
       "1888     39.5866\n",
       "1889     42.0394\n",
       "...          ...\n",
       "2019  28538.4400\n",
       "2020  30606.4800\n",
       "2021  36338.3000\n",
       "2022  33147.2500\n",
       "2023  37689.5400\n",
       "\n",
       "[139 rows x 1 columns]"
      ]
     },
     "execution_count": 7,
     "metadata": {},
     "output_type": "execute_result"
    }
   ],
   "source": [
    "annual = djia.groupby(djia.index.year).last().drop(2024)\n",
    "annual"
   ]
  },
  {
   "cell_type": "markdown",
   "id": "e4a9631f",
   "metadata": {},
   "source": [
    "Next we'll compute the annual price return, which is the ratio of successive year-end closing prices."
   ]
  },
  {
   "cell_type": "code",
   "execution_count": 8,
   "id": "d7e05c04",
   "metadata": {},
   "outputs": [
    {
     "data": {
      "text/html": [
       "<div>\n",
       "<style scoped>\n",
       "    .dataframe tbody tr th:only-of-type {\n",
       "        vertical-align: middle;\n",
       "    }\n",
       "\n",
       "    .dataframe tbody tr th {\n",
       "        vertical-align: top;\n",
       "    }\n",
       "\n",
       "    .dataframe thead th {\n",
       "        text-align: right;\n",
       "    }\n",
       "</style>\n",
       "<table border=\"1\" class=\"dataframe\">\n",
       "  <thead>\n",
       "    <tr style=\"text-align: right;\">\n",
       "      <th></th>\n",
       "      <th>DJIA</th>\n",
       "      <th>Ratio</th>\n",
       "    </tr>\n",
       "    <tr>\n",
       "      <th>Date</th>\n",
       "      <th></th>\n",
       "      <th></th>\n",
       "    </tr>\n",
       "  </thead>\n",
       "  <tbody>\n",
       "    <tr>\n",
       "      <th>1885</th>\n",
       "      <td>39.4859</td>\n",
       "      <td>NaN</td>\n",
       "    </tr>\n",
       "    <tr>\n",
       "      <th>1886</th>\n",
       "      <td>41.2391</td>\n",
       "      <td>1.044401</td>\n",
       "    </tr>\n",
       "    <tr>\n",
       "      <th>1887</th>\n",
       "      <td>37.7693</td>\n",
       "      <td>0.915861</td>\n",
       "    </tr>\n",
       "    <tr>\n",
       "      <th>1888</th>\n",
       "      <td>39.5866</td>\n",
       "      <td>1.048116</td>\n",
       "    </tr>\n",
       "    <tr>\n",
       "      <th>1889</th>\n",
       "      <td>42.0394</td>\n",
       "      <td>1.061960</td>\n",
       "    </tr>\n",
       "    <tr>\n",
       "      <th>...</th>\n",
       "      <td>...</td>\n",
       "      <td>...</td>\n",
       "    </tr>\n",
       "    <tr>\n",
       "      <th>2019</th>\n",
       "      <td>28538.4400</td>\n",
       "      <td>1.223384</td>\n",
       "    </tr>\n",
       "    <tr>\n",
       "      <th>2020</th>\n",
       "      <td>30606.4800</td>\n",
       "      <td>1.072465</td>\n",
       "    </tr>\n",
       "    <tr>\n",
       "      <th>2021</th>\n",
       "      <td>36338.3000</td>\n",
       "      <td>1.187275</td>\n",
       "    </tr>\n",
       "    <tr>\n",
       "      <th>2022</th>\n",
       "      <td>33147.2500</td>\n",
       "      <td>0.912185</td>\n",
       "    </tr>\n",
       "    <tr>\n",
       "      <th>2023</th>\n",
       "      <td>37689.5400</td>\n",
       "      <td>1.137034</td>\n",
       "    </tr>\n",
       "  </tbody>\n",
       "</table>\n",
       "<p>139 rows × 2 columns</p>\n",
       "</div>"
      ],
      "text/plain": [
       "            DJIA     Ratio\n",
       "Date                      \n",
       "1885     39.4859       NaN\n",
       "1886     41.2391  1.044401\n",
       "1887     37.7693  0.915861\n",
       "1888     39.5866  1.048116\n",
       "1889     42.0394  1.061960\n",
       "...          ...       ...\n",
       "2019  28538.4400  1.223384\n",
       "2020  30606.4800  1.072465\n",
       "2021  36338.3000  1.187275\n",
       "2022  33147.2500  0.912185\n",
       "2023  37689.5400  1.137034\n",
       "\n",
       "[139 rows x 2 columns]"
      ]
     },
     "execution_count": 8,
     "metadata": {},
     "output_type": "execute_result"
    }
   ],
   "source": [
    "annual['Ratio'] = annual['DJIA'] / annual['DJIA'].shift(1)\n",
    "annual"
   ]
  },
  {
   "cell_type": "markdown",
   "id": "3669547c",
   "metadata": {},
   "source": [
    "And the relative return as a percentage."
   ]
  },
  {
   "cell_type": "code",
   "execution_count": 9,
   "id": "43f9e28b",
   "metadata": {},
   "outputs": [],
   "source": [
    "annual['Return'] = (annual['Ratio'] - 1) * 100"
   ]
  },
  {
   "cell_type": "markdown",
   "id": "a8291ea7",
   "metadata": {},
   "source": [
    "Looking at the years with the biggest losses and gains, we can see that most of the extremes were before the 1960s -- the exception is the 2008 financial crisis."
   ]
  },
  {
   "cell_type": "code",
   "execution_count": 10,
   "id": "b206ac45",
   "metadata": {},
   "outputs": [
    {
     "data": {
      "text/html": [
       "<div>\n",
       "<style scoped>\n",
       "    .dataframe tbody tr th:only-of-type {\n",
       "        vertical-align: middle;\n",
       "    }\n",
       "\n",
       "    .dataframe tbody tr th {\n",
       "        vertical-align: top;\n",
       "    }\n",
       "\n",
       "    .dataframe thead th {\n",
       "        text-align: right;\n",
       "    }\n",
       "</style>\n",
       "<table border=\"1\" class=\"dataframe\">\n",
       "  <thead>\n",
       "    <tr style=\"text-align: right;\">\n",
       "      <th></th>\n",
       "      <th>DJIA</th>\n",
       "      <th>Ratio</th>\n",
       "      <th>Return</th>\n",
       "    </tr>\n",
       "    <tr>\n",
       "      <th>Date</th>\n",
       "      <th></th>\n",
       "      <th></th>\n",
       "      <th></th>\n",
       "    </tr>\n",
       "  </thead>\n",
       "  <tbody>\n",
       "    <tr>\n",
       "      <th>1931</th>\n",
       "      <td>77.9000</td>\n",
       "      <td>0.473326</td>\n",
       "      <td>-52.667396</td>\n",
       "    </tr>\n",
       "    <tr>\n",
       "      <th>1907</th>\n",
       "      <td>43.0382</td>\n",
       "      <td>0.622683</td>\n",
       "      <td>-37.731743</td>\n",
       "    </tr>\n",
       "    <tr>\n",
       "      <th>2008</th>\n",
       "      <td>8776.3900</td>\n",
       "      <td>0.661629</td>\n",
       "      <td>-33.837097</td>\n",
       "    </tr>\n",
       "    <tr>\n",
       "      <th>1930</th>\n",
       "      <td>164.5800</td>\n",
       "      <td>0.662347</td>\n",
       "      <td>-33.765293</td>\n",
       "    </tr>\n",
       "    <tr>\n",
       "      <th>1920</th>\n",
       "      <td>71.9500</td>\n",
       "      <td>0.670988</td>\n",
       "      <td>-32.901240</td>\n",
       "    </tr>\n",
       "    <tr>\n",
       "      <th>...</th>\n",
       "      <td>...</td>\n",
       "      <td>...</td>\n",
       "      <td>...</td>\n",
       "    </tr>\n",
       "    <tr>\n",
       "      <th>1954</th>\n",
       "      <td>404.3900</td>\n",
       "      <td>1.439623</td>\n",
       "      <td>43.962264</td>\n",
       "    </tr>\n",
       "    <tr>\n",
       "      <th>1908</th>\n",
       "      <td>63.1104</td>\n",
       "      <td>1.466381</td>\n",
       "      <td>46.638103</td>\n",
       "    </tr>\n",
       "    <tr>\n",
       "      <th>1928</th>\n",
       "      <td>300.0000</td>\n",
       "      <td>1.482213</td>\n",
       "      <td>48.221344</td>\n",
       "    </tr>\n",
       "    <tr>\n",
       "      <th>1933</th>\n",
       "      <td>99.9000</td>\n",
       "      <td>1.666945</td>\n",
       "      <td>66.694477</td>\n",
       "    </tr>\n",
       "    <tr>\n",
       "      <th>1915</th>\n",
       "      <td>99.1500</td>\n",
       "      <td>1.816599</td>\n",
       "      <td>81.659949</td>\n",
       "    </tr>\n",
       "  </tbody>\n",
       "</table>\n",
       "<p>138 rows × 3 columns</p>\n",
       "</div>"
      ],
      "text/plain": [
       "           DJIA     Ratio     Return\n",
       "Date                                \n",
       "1931    77.9000  0.473326 -52.667396\n",
       "1907    43.0382  0.622683 -37.731743\n",
       "2008  8776.3900  0.661629 -33.837097\n",
       "1930   164.5800  0.662347 -33.765293\n",
       "1920    71.9500  0.670988 -32.901240\n",
       "...         ...       ...        ...\n",
       "1954   404.3900  1.439623  43.962264\n",
       "1908    63.1104  1.466381  46.638103\n",
       "1928   300.0000  1.482213  48.221344\n",
       "1933    99.9000  1.666945  66.694477\n",
       "1915    99.1500  1.816599  81.659949\n",
       "\n",
       "[138 rows x 3 columns]"
      ]
     },
     "execution_count": 10,
     "metadata": {},
     "output_type": "execute_result"
    }
   ],
   "source": [
    "annual.dropna().sort_values(by='Return')"
   ]
  },
  {
   "cell_type": "markdown",
   "id": "2c499526",
   "metadata": {},
   "source": [
    "Here's what the distribution of annual returns looks like."
   ]
  },
  {
   "cell_type": "code",
   "execution_count": 11,
   "id": "b6376b9d",
   "metadata": {},
   "outputs": [
    {
     "data": {
      "image/png": "[encoded data removed]",
      "text/plain": [
       "<Figure size 450x262.5 with 1 Axes>"
      ]
     },
     "metadata": {},
     "output_type": "display_data"
    }
   ],
   "source": [
    "from empiricaldist import Cdf\n",
    "\n",
    "cdf_return = Cdf.from_seq(annual['Return'])\n",
    "cdf_return.plot()\n",
    "\n",
    "decorate(xlabel='Annual return (percent)', ylabel='CDF')"
   ]
  },
  {
   "cell_type": "markdown",
   "id": "bc11c6f0",
   "metadata": {},
   "source": [
    "Immediately we see why capping returns at 10% might be a bad idea -- this cap is exceeded almost 45% of the time, and sometimes by a lot!"
   ]
  },
  {
   "cell_type": "code",
   "execution_count": 12,
   "id": "9b3e771e",
   "metadata": {},
   "outputs": [
    {
     "data": {
      "text/plain": [
       "0.4492753623188406"
      ]
     },
     "execution_count": 12,
     "metadata": {},
     "output_type": "execute_result"
    }
   ],
   "source": [
    "1 - cdf_return(10)"
   ]
  },
  {
   "cell_type": "markdown",
   "id": "ab50aba0",
   "metadata": {},
   "source": [
    "We'll use the following function to compute long-term returns.\n",
    "It takes a start date and a duration, and computes two ratios:\n",
    "\n",
    "* The total price return based on actual annual returns.\n",
    "\n",
    "* The total price return if annual returns are clipped at 0 and 10 -- that is, any negative returns are set to 0 and any returns above 10 are set to 10."
   ]
  },
  {
   "cell_type": "code",
   "execution_count": 13,
   "id": "54517700",
   "metadata": {},
   "outputs": [],
   "source": [
    "def compute_ratios(start=1993, duration=30):\n",
    "    end = start + duration\n",
    "    interval = annual.loc[start: end]\n",
    "    ratio = interval['Ratio'].prod()\n",
    "    low, high = 1.0, 1.10\n",
    "    clipped = interval['Ratio'].clip(low, high)\n",
    "    ratio_clipped = clipped.prod()\n",
    "    return start, end, ratio, ratio_clipped"
   ]
  },
  {
   "cell_type": "markdown",
   "id": "7d8613ad",
   "metadata": {},
   "source": [
    "With this function, we can replicate the analysis *The Economist* did with the S&P 500.\n",
    "Here are the results for the DJIA from the beginning of 1980 to the end of 2023."
   ]
  },
  {
   "cell_type": "code",
   "execution_count": 14,
   "id": "76ecaa05",
   "metadata": {},
   "outputs": [
    {
     "data": {
      "text/plain": [
       "(1980, 2023, 44.93751117788029, 15.356490985533199)"
      ]
     },
     "execution_count": 14,
     "metadata": {},
     "output_type": "execute_result"
    }
   ],
   "source": [
    "compute_ratios(1980, 43)"
   ]
  },
  {
   "cell_type": "markdown",
   "id": "26821cba",
   "metadata": {},
   "source": [
    "A buffer ETF over this period would have grown by a factor of more than 15 in nominal dollars, with no risk of loss.\n",
    "But an index fund would have grown by a factor of almost 50.\n",
    "So yeah, the ETF would have been a bad deal.\n",
    "\n",
    "However, if we go back to the bad old days, an investor in 1900 would have been substantially better off with a buffer ETF held for 43 years -- a factor of 7.2 compared to a factor of 2.8."
   ]
  },
  {
   "cell_type": "code",
   "execution_count": 15,
   "id": "2dbdc85e",
   "metadata": {},
   "outputs": [
    {
     "data": {
      "text/plain": [
       "(1900, 1943, 2.8071864303140583, 7.225624631784611)"
      ]
     },
     "execution_count": 15,
     "metadata": {},
     "output_type": "execute_result"
    }
   ],
   "source": [
    "compute_ratios(1900, 43)"
   ]
  },
  {
   "cell_type": "markdown",
   "id": "d92b72a6",
   "metadata": {},
   "source": [
    "It seems we can cherry-pick the data to make the comparison go either way -- so let's see how things look more generally.\n",
    "Starting in 1886, we'll compute price returns for all 30-year intervals, ending with the interval from 1993 to 2023."
   ]
  },
  {
   "cell_type": "code",
   "execution_count": 16,
   "id": "63718ce8",
   "metadata": {},
   "outputs": [],
   "source": [
    "ratios = [compute_ratios(start, 30) for start in range(1886, 1993+1)]\n",
    "ratios = pd.DataFrame(ratios, columns=['Start', 'End', 'Index Fund', 'Buffer ETF'])\n",
    "ratios.index = ratios['Start']"
   ]
  },
  {
   "cell_type": "markdown",
   "id": "de38429f",
   "metadata": {},
   "source": [
    "Here's what the returns look like for an index fund compared to a buffer ETF."
   ]
  },
  {
   "cell_type": "code",
   "execution_count": 17,
   "id": "54a7be0c",
   "metadata": {},
   "outputs": [
    {
     "data": {
      "image/png": "[encoded data removed]",
      "text/plain": [
       "<Figure size 450x262.5 with 1 Axes>"
      ]
     },
     "metadata": {},
     "output_type": "display_data"
    }
   ],
   "source": [
    "ratios['Index Fund'].plot()\n",
    "ratios['Buffer ETF'].plot()\n",
    "\n",
    "decorate(xlabel='Start year', ylabel='30-year price return')"
   ]
  },
  {
   "cell_type": "markdown",
   "id": "991fc871",
   "metadata": {},
   "source": [
    "The buffer ETF performs as advertised, substantially reducing volatility.\n",
    "But it has only occasionally been a good deal, and not in my lifetime.\n",
    "\n",
    "According to ChatGPT, the primary reasons for strong growth in stock prices since the 1960s are \"technological advancements, globalization, financial market innovation, and favorable monetary policies\".\n",
    "If you think these elements will generally persist over the next 30 years, you might want to avoid buffer ETFs. "
   ]
  },
  {
   "cell_type": "code",
   "execution_count": null,
   "id": "71672071",
   "metadata": {},
   "outputs": [],
   "source": []
  }
 ],
 "metadata": {
  "celltoolbar": "Tags",
  "kernelspec": {
   "display_name": "Python 3 (ipykernel)",
   "language": "python",
   "name": "python3"
  },
  "language_info": {
   "codemirror_mode": {
    "name": "ipython",
    "version": 3
   },
   "file_extension": ".py",
   "mimetype": "text/x-python",
   "name": "python",
   "nbconvert_exporter": "python",
   "pygments_lexer": "ipython3",
   "version": "3.10.14"
  }
 },
 "nbformat": 4,
 "nbformat_minor": 5
}
