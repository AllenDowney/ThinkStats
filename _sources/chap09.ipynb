{
 "cells": [
  {
   "cell_type": "markdown",
   "id": "d8c1d5d2",
   "metadata": {},
   "source": [
    "# Hypothesis testing"
   ]
  },
  {
   "cell_type": "code",
   "execution_count": 2,
   "id": "30615f97",
   "metadata": {
    "tags": [
     "hide-cell"
    ]
   },
   "outputs": [
    {
     "data": {
      "application/javascript": [
       "\n",
       "            setTimeout(function() {\n",
       "                var nbb_cell_id = 2;\n",
       "                var nbb_unformatted_code = \"from os.path import basename, exists\\n\\n\\ndef download(url):\\n    filename = basename(url)\\n    if not exists(filename):\\n        from urllib.request import urlretrieve\\n        local, _ = urlretrieve(url, filename)\\n        print('Downloaded ' + local)\\n\\n\\ndownload(\\n    'https://github.com/AllenDowney/ThinkStats2/raw/master/code/thinkstats2.py'\\n    )\\ndownload(\\n    'https://github.com/AllenDowney/ThinkStats2/raw/master/code/thinkplot.py')\";\n",
       "                var nbb_formatted_code = \"from os.path import basename, exists\\n\\n\\ndef download(url):\\n    filename = basename(url)\\n    if not exists(filename):\\n        from urllib.request import urlretrieve\\n\\n        local, _ = urlretrieve(url, filename)\\n        print(\\\"Downloaded \\\" + local)\\n\\n\\ndownload(\\\"https://github.com/AllenDowney/ThinkStats2/raw/master/code/thinkstats2.py\\\")\\ndownload(\\\"https://github.com/AllenDowney/ThinkStats2/raw/master/code/thinkplot.py\\\")\";\n",
       "                var nbb_cells = Jupyter.notebook.get_cells();\n",
       "                for (var i = 0; i < nbb_cells.length; ++i) {\n",
       "                    if (nbb_cells[i].input_prompt_number == nbb_cell_id) {\n",
       "                        if (nbb_cells[i].get_text() == nbb_unformatted_code) {\n",
       "                             nbb_cells[i].set_text(nbb_formatted_code);\n",
       "                        }\n",
       "                        break;\n",
       "                    }\n",
       "                }\n",
       "            }, 500);\n",
       "            "
      ],
      "text/plain": [
       "<IPython.core.display.Javascript object>"
      ]
     },
     "metadata": {},
     "output_type": "display_data"
    }
   ],
   "source": [
    "from os.path import basename, exists\n",
    "\n",
    "\n",
    "def download(url):\n",
    "    filename = basename(url)\n",
    "    if not exists(filename):\n",
    "        from urllib.request import urlretrieve\n",
    "\n",
    "        local, _ = urlretrieve(url, filename)\n",
    "        print(\"Downloaded \" + local)\n",
    "\n",
    "\n",
    "download(\"https://github.com/AllenDowney/ThinkStats/raw/v3/nb/thinkstats2.py\")\n",
    "download(\"https://github.com/AllenDowney/ThinkStats/raw/v3/nb/thinkplot.py\")"
   ]
  },
  {
   "cell_type": "code",
   "execution_count": 3,
   "id": "684b56bd",
   "metadata": {},
   "outputs": [
    {
     "data": {
      "application/javascript": [
       "\n",
       "            setTimeout(function() {\n",
       "                var nbb_cell_id = 3;\n",
       "                var nbb_unformatted_code = \"import numpy as np\\nimport random\\nimport thinkstats2\\nimport thinkplot\";\n",
       "                var nbb_formatted_code = \"import numpy as np\\nimport random\\nimport thinkstats2\\nimport thinkplot\";\n",
       "                var nbb_cells = Jupyter.notebook.get_cells();\n",
       "                for (var i = 0; i < nbb_cells.length; ++i) {\n",
       "                    if (nbb_cells[i].input_prompt_number == nbb_cell_id) {\n",
       "                        if (nbb_cells[i].get_text() == nbb_unformatted_code) {\n",
       "                             nbb_cells[i].set_text(nbb_formatted_code);\n",
       "                        }\n",
       "                        break;\n",
       "                    }\n",
       "                }\n",
       "            }, 500);\n",
       "            "
      ],
      "text/plain": [
       "<IPython.core.display.Javascript object>"
      ]
     },
     "metadata": {},
     "output_type": "display_data"
    }
   ],
   "source": [
    "import numpy as np\n",
    "import random\n",
    "import thinkstats2\n",
    "import thinkplot"
   ]
  },
  {
   "cell_type": "markdown",
   "id": "2f4bbe46",
   "metadata": {},
   "source": [
    "## Classical hypothesis testing\n",
    "\n",
    "Exploring the data from the NSFG, we saw several \"apparent effects,\"\n",
    "including differences between first babies and others. So far we have\n",
    "taken these effects at face value; in this chapter, we put them to the\n",
    "test.\n",
    "\n",
    "The fundamental question we want to address is whether the effects we\n",
    "see in a sample are likely to appear in the larger population. For\n",
    "example, in the NSFG sample we see a difference in mean pregnancy length\n",
    "for first babies and others. We would like to know if that effect\n",
    "reflects a real difference for women in the U.S., or if it might appear\n",
    "in the sample by chance.\n",
    "\n",
    "There are several ways we could formulate this question, including\n",
    "Fisher null hypothesis testing, Neyman-Pearson decision theory, and\n",
    "Bayesian inference[^1]. What I present here is a subset of all three\n",
    "that makes up most of what people use in practice, which I will call\n",
    "**classical hypothesis testing**."
   ]
  },
  {
   "cell_type": "markdown",
   "id": "ef77dd2f",
   "metadata": {},
   "source": [
    "The goal of classical hypothesis testing is to answer the question,\n",
    "\"Given a sample and an apparent effect, what is the probability of\n",
    "seeing such an effect by chance?\" Here's how we answer that question:\n",
    "\n",
    "-   The first step is to quantify the size of the apparent effect by\n",
    "    choosing a **test statistic**. In the NSFG example, the apparent\n",
    "    effect is a difference in pregnancy length between first babies and\n",
    "    others, so a natural choice for the test statistic is the difference\n",
    "    in means between the two groups.\n",
    "\n",
    "-   The second step is to define a **null hypothesis**, which is a model\n",
    "    of the system based on the assumption that the apparent effect is\n",
    "    not real. In the NSFG example the null hypothesis is that there is\n",
    "    no difference between first babies and others; that is, that\n",
    "    pregnancy lengths for both groups have the same distribution.\n",
    "\n",
    "-   The third step is to compute a **p-value**, which is the probability\n",
    "    of seeing the apparent effect if the null hypothesis is true. In the\n",
    "    NSFG example, we would compute the actual difference in means, then\n",
    "    compute the probability of seeing a difference as big, or bigger,\n",
    "    under the null hypothesis.\n",
    "\n",
    "-   The last step is to interpret the result. If the p-value is low, the\n",
    "    effect is said to be **statistically significant**, which means that\n",
    "    it is unlikely to have occurred by chance. In that case we infer\n",
    "    that the effect is more likely to appear in the larger population."
   ]
  },
  {
   "cell_type": "markdown",
   "id": "f95af12c",
   "metadata": {},
   "source": [
    "The logic of this process is similar to a proof by contradiction. To\n",
    "prove a mathematical statement, A, you assume temporarily that A is\n",
    "false. If that assumption leads to a contradiction, you conclude that A\n",
    "must actually be true.\n",
    "\n",
    "Similarly, to test a hypothesis like, \"This effect is real,\" we assume,\n",
    "temporarily, that it is not. That's the null hypothesis. Based on that\n",
    "assumption, we compute the probability of the apparent effect. That's\n",
    "the p-value. If the p-value is low, we conclude that the null hypothesis\n",
    "is unlikely to be true."
   ]
  },
  {
   "cell_type": "markdown",
   "id": "8bc51b88",
   "metadata": {},
   "source": [
    "## HypothesisTest\n",
    "\n",
    "`thinkstats2` provides `HypothesisTest`, a class that represents the\n",
    "structure of a classical hypothesis test. Here is the definition:"
   ]
  },
  {
   "cell_type": "code",
   "execution_count": 4,
   "id": "b2b0cc98",
   "metadata": {},
   "outputs": [
    {
     "data": {
      "application/javascript": [
       "\n",
       "            setTimeout(function() {\n",
       "                var nbb_cell_id = 4;\n",
       "                var nbb_unformatted_code = \"class HypothesisTest(object):\\n\\n    def __init__(self, data):\\n        self.data = data\\n        self.make_model()\\n        self.actual = self.test_statistic(data)\\n\\n    def p_value(self, iters=1000):\\n        self.test_stats = [self.test_statistic(self.run_model()) for _ in\\n            range(iters)]\\n        count = sum(1 for x in self.test_stats if x >= self.actual)\\n        return count / iters\\n\\n    def test_statistic(self, data):\\n        raise UnimplementedMethodException()\\n\\n    def make_model(self):\\n        pass\\n\\n    def run_model(self):\\n        raise UnimplementedMethodException()\";\n",
       "                var nbb_formatted_code = \"class HypothesisTest(object):\\n\\n    def __init__(self, data):\\n        self.data = data\\n        self.make_model()\\n        self.actual = self.test_statistic(data)\\n\\n    def p_value(self, iters=1000):\\n        self.test_stats = [self.test_statistic(self.run_model()) for _ in range(iters)]\\n        count = sum(1 for x in self.test_stats if x >= self.actual)\\n        return count / iters\\n\\n    def test_statistic(self, data):\\n        raise UnimplementedMethodException()\\n\\n    def make_model(self):\\n        pass\\n\\n    def run_model(self):\\n        raise UnimplementedMethodException()\";\n",
       "                var nbb_cells = Jupyter.notebook.get_cells();\n",
       "                for (var i = 0; i < nbb_cells.length; ++i) {\n",
       "                    if (nbb_cells[i].input_prompt_number == nbb_cell_id) {\n",
       "                        if (nbb_cells[i].get_text() == nbb_unformatted_code) {\n",
       "                             nbb_cells[i].set_text(nbb_formatted_code);\n",
       "                        }\n",
       "                        break;\n",
       "                    }\n",
       "                }\n",
       "            }, 500);\n",
       "            "
      ],
      "text/plain": [
       "<IPython.core.display.Javascript object>"
      ]
     },
     "metadata": {},
     "output_type": "display_data"
    }
   ],
   "source": [
    "class HypothesisTest(object):\n",
    "\n",
    "    def __init__(self, data):\n",
    "        self.data = data\n",
    "        self.make_model()\n",
    "        self.actual = self.test_statistic(data)\n",
    "\n",
    "    def p_value(self, iters=1000):\n",
    "        self.test_stats = [self.test_statistic(self.run_model()) for _ in range(iters)]\n",
    "        count = sum(1 for x in self.test_stats if x >= self.actual)\n",
    "        return count / iters\n",
    "\n",
    "    def test_statistic(self, data):\n",
    "        raise UnimplementedMethodException()\n",
    "\n",
    "    def make_model(self):\n",
    "        pass\n",
    "\n",
    "    def run_model(self):\n",
    "        raise UnimplementedMethodException()"
   ]
  },
  {
   "cell_type": "markdown",
   "id": "ff3a1e1a",
   "metadata": {},
   "source": [
    "`HypothesisTest` is an abstract parent class that provides complete\n",
    "definitions for some methods and place-keepers for others. Child classes\n",
    "based on `HypothesisTest` inherit `__init__` and `PValue` and provide\n",
    "`TestStatistic`, `RunModel`, and optionally `MakeModel`.\n",
    "\n",
    "`__init__` takes the data in whatever form is appropriate. It calls\n",
    "`MakeModel`, which builds a representation of the null hypothesis, then\n",
    "passes the data to `TestStatistic`, which computes the size of the\n",
    "effect in the sample.\n",
    "\n",
    "`PValue` computes the probability of the apparent effect under the null\n",
    "hypothesis. It takes as a parameter `iters`, which is the number of\n",
    "simulations to run. The first line generates simulated data, computes\n",
    "test statistics, and stores them in `test_stats`. The result is the\n",
    "fraction of elements in `test_stats` that exceed or equal the observed\n",
    "test statistic, `self.actual`."
   ]
  },
  {
   "cell_type": "markdown",
   "id": "a4e2164a",
   "metadata": {},
   "source": [
    "As a simple example[^2], suppose we toss a coin 250 times and see 140\n",
    "heads and 110 tails. Based on this result, we might suspect that the\n",
    "coin is biased; that is, more likely to land heads. To test this\n",
    "hypothesis, we compute the probability of seeing such a difference if\n",
    "the coin is actually fair:"
   ]
  },
  {
   "cell_type": "code",
   "execution_count": 5,
   "id": "3a8cc565",
   "metadata": {},
   "outputs": [
    {
     "data": {
      "application/javascript": [
       "\n",
       "            setTimeout(function() {\n",
       "                var nbb_cell_id = 5;\n",
       "                var nbb_unformatted_code = \"class CoinTest(thinkstats2.HypothesisTest):\\n\\n    def test_statistic(self, data):\\n        heads, tails = data\\n        test_stat = abs(heads - tails)\\n        return test_stat\\n\\n    def run_model(self):\\n        heads, tails = self.data\\n        n = heads + tails\\n        sample = [random.choice('HT') for _ in range(n)]\\n        hist = thinkstats2.Hist(sample)\\n        data = hist['H'], hist['T']\\n        return data\";\n",
       "                var nbb_formatted_code = \"class CoinTest(thinkstats2.HypothesisTest):\\n\\n    def test_statistic(self, data):\\n        heads, tails = data\\n        test_stat = abs(heads - tails)\\n        return test_stat\\n\\n    def run_model(self):\\n        heads, tails = self.data\\n        n = heads + tails\\n        sample = [random.choice(\\\"HT\\\") for _ in range(n)]\\n        hist = thinkstats2.Hist(sample)\\n        data = hist[\\\"H\\\"], hist[\\\"T\\\"]\\n        return data\";\n",
       "                var nbb_cells = Jupyter.notebook.get_cells();\n",
       "                for (var i = 0; i < nbb_cells.length; ++i) {\n",
       "                    if (nbb_cells[i].input_prompt_number == nbb_cell_id) {\n",
       "                        if (nbb_cells[i].get_text() == nbb_unformatted_code) {\n",
       "                             nbb_cells[i].set_text(nbb_formatted_code);\n",
       "                        }\n",
       "                        break;\n",
       "                    }\n",
       "                }\n",
       "            }, 500);\n",
       "            "
      ],
      "text/plain": [
       "<IPython.core.display.Javascript object>"
      ]
     },
     "metadata": {},
     "output_type": "display_data"
    }
   ],
   "source": [
    "class CoinTest(thinkstats2.HypothesisTest):\n",
    "\n",
    "    def test_statistic(self, data):\n",
    "        heads, tails = data\n",
    "        test_stat = abs(heads - tails)\n",
    "        return test_stat\n",
    "\n",
    "    def run_model(self):\n",
    "        heads, tails = self.data\n",
    "        n = heads + tails\n",
    "        sample = [random.choice(\"HT\") for _ in range(n)]\n",
    "        hist = thinkstats2.Hist(sample)\n",
    "        data = hist[\"H\"], hist[\"T\"]\n",
    "        return data"
   ]
  },
  {
   "cell_type": "markdown",
   "id": "2ca35d3f",
   "metadata": {},
   "source": [
    "The parameter, `data`, is a pair of integers: the number of heads and\n",
    "tails. The test statistic is the absolute difference between them, so\n",
    "`self.actual` is 30.\n",
    "\n",
    "`RunModel` simulates coin tosses assuming that the coin is actually\n",
    "fair. It generates a sample of 250 tosses, uses Hist to count the number\n",
    "of heads and tails, and returns a pair of integers.\n",
    "\n",
    "Now all we have to do is instantiate `CoinTest` and call `PValue`:"
   ]
  },
  {
   "cell_type": "code",
   "execution_count": 6,
   "id": "2b20d326",
   "metadata": {},
   "outputs": [
    {
     "data": {
      "text/plain": [
       "0.057"
      ]
     },
     "execution_count": 6,
     "metadata": {},
     "output_type": "execute_result"
    },
    {
     "data": {
      "application/javascript": [
       "\n",
       "            setTimeout(function() {\n",
       "                var nbb_cell_id = 6;\n",
       "                var nbb_unformatted_code = \"ct = CoinTest((140, 110))\\np_value = ct.p_value()\\np_value\";\n",
       "                var nbb_formatted_code = \"ct = CoinTest((140, 110))\\np_value = ct.p_value()\\np_value\";\n",
       "                var nbb_cells = Jupyter.notebook.get_cells();\n",
       "                for (var i = 0; i < nbb_cells.length; ++i) {\n",
       "                    if (nbb_cells[i].input_prompt_number == nbb_cell_id) {\n",
       "                        if (nbb_cells[i].get_text() == nbb_unformatted_code) {\n",
       "                             nbb_cells[i].set_text(nbb_formatted_code);\n",
       "                        }\n",
       "                        break;\n",
       "                    }\n",
       "                }\n",
       "            }, 500);\n",
       "            "
      ],
      "text/plain": [
       "<IPython.core.display.Javascript object>"
      ]
     },
     "metadata": {},
     "output_type": "display_data"
    }
   ],
   "source": [
    "ct = CoinTest((140, 110))\n",
    "p_value = ct.p_value()\n",
    "p_value"
   ]
  },
  {
   "cell_type": "markdown",
   "id": "97387824",
   "metadata": {},
   "source": [
    "The result is about 0.07, which means that if the coin is fair, we\n",
    "expect to see a difference as big as 30 about 7% of the time.\n",
    "\n",
    "How should we interpret this result? By convention, 5% is the threshold\n",
    "of statistical significance. If the p-value is less than 5%, the effect\n",
    "is considered significant; otherwise it is not.\n",
    "\n",
    "But the choice of 5% is arbitrary, and (as we will see later) the\n",
    "p-value depends on the choice of the test statistics and the model of\n",
    "the null hypothesis. So p-values should not be considered precise\n",
    "measurements."
   ]
  },
  {
   "cell_type": "markdown",
   "id": "f702fc14",
   "metadata": {},
   "source": [
    "I recommend interpreting p-values according to their order of magnitude:\n",
    "if the p-value is less than 1%, the effect is unlikely to be due to\n",
    "chance; if it is greater than 10%, the effect can plausibly be explained\n",
    "by chance. P-values between 1% and 10% should be considered borderline.\n",
    "So in this example I conclude that the data do not provide strong\n",
    "evidence that the coin is biased or not."
   ]
  },
  {
   "cell_type": "markdown",
   "id": "d0cd3e27",
   "metadata": {},
   "source": [
    "## Testing a difference in means\n",
    "\n",
    "One of the most common effects to test is a difference in mean between\n",
    "two groups. In the NSFG data, we saw that the mean pregnancy length for\n",
    "first babies is slightly longer, and the mean birth weight is slightly\n",
    "smaller. Now we will see if those effects are statistically significant.\n",
    "\n",
    "For these examples, the null hypothesis is that the distributions for\n",
    "the two groups are the same. One way to model the null hypothesis is by\n",
    "**permutation**; that is, we can take values for first babies and others\n",
    "and shuffle them, treating the two groups as one big group:"
   ]
  },
  {
   "cell_type": "code",
   "execution_count": 7,
   "id": "fa95626f",
   "metadata": {},
   "outputs": [
    {
     "data": {
      "application/javascript": [
       "\n",
       "            setTimeout(function() {\n",
       "                var nbb_cell_id = 7;\n",
       "                var nbb_unformatted_code = \"class DiffMeansPermute(thinkstats2.HypothesisTest):\\n\\n    def test_statistic(self, data):\\n        group1, group2 = data\\n        test_stat = abs(group1.mean() - group2.mean())\\n        return test_stat\\n\\n    def make_model(self):\\n        group1, group2 = self.data\\n        self.n, self.m = len(group1), len(group2)\\n        self.pool = np.hstack((group1, group2))\\n\\n    def run_model(self):\\n        np.random.shuffle(self.pool)\\n        data = self.pool[:self.n], self.pool[self.n:]\\n        return data\";\n",
       "                var nbb_formatted_code = \"class DiffMeansPermute(thinkstats2.HypothesisTest):\\n\\n    def test_statistic(self, data):\\n        group1, group2 = data\\n        test_stat = abs(group1.mean() - group2.mean())\\n        return test_stat\\n\\n    def make_model(self):\\n        group1, group2 = self.data\\n        self.n, self.m = len(group1), len(group2)\\n        self.pool = np.hstack((group1, group2))\\n\\n    def run_model(self):\\n        np.random.shuffle(self.pool)\\n        data = self.pool[: self.n], self.pool[self.n :]\\n        return data\";\n",
       "                var nbb_cells = Jupyter.notebook.get_cells();\n",
       "                for (var i = 0; i < nbb_cells.length; ++i) {\n",
       "                    if (nbb_cells[i].input_prompt_number == nbb_cell_id) {\n",
       "                        if (nbb_cells[i].get_text() == nbb_unformatted_code) {\n",
       "                             nbb_cells[i].set_text(nbb_formatted_code);\n",
       "                        }\n",
       "                        break;\n",
       "                    }\n",
       "                }\n",
       "            }, 500);\n",
       "            "
      ],
      "text/plain": [
       "<IPython.core.display.Javascript object>"
      ]
     },
     "metadata": {},
     "output_type": "display_data"
    }
   ],
   "source": [
    "class DiffMeansPermute(thinkstats2.HypothesisTest):\n",
    "\n",
    "    def test_statistic(self, data):\n",
    "        group1, group2 = data\n",
    "        test_stat = abs(group1.mean() - group2.mean())\n",
    "        return test_stat\n",
    "\n",
    "    def make_model(self):\n",
    "        group1, group2 = self.data\n",
    "        self.n, self.m = len(group1), len(group2)\n",
    "        self.pool = np.hstack((group1, group2))\n",
    "\n",
    "    def run_model(self):\n",
    "        np.random.shuffle(self.pool)\n",
    "        data = self.pool[: self.n], self.pool[self.n :]\n",
    "        return data"
   ]
  },
  {
   "cell_type": "markdown",
   "id": "78c725f1",
   "metadata": {},
   "source": [
    "`data` is a pair of sequences, one for each group. The test statistic is\n",
    "the absolute difference in the means.\n",
    "\n",
    "`MakeModel` records the sizes of the groups, `n` and `m`, and combines\n",
    "the groups into one NumPy array, `self.pool`.\n",
    "\n",
    "`RunModel` simulates the null hypothesis by shuffling the pooled values\n",
    "and splitting them into two groups with sizes `n` and `m`. As always,\n",
    "the return value from `RunModel` has the same format as the observed\n",
    "data.\n",
    "\n",
    "To test the difference in pregnancy length, we run:"
   ]
  },
  {
   "cell_type": "code",
   "execution_count": 8,
   "id": "aca382ad",
   "metadata": {},
   "outputs": [
    {
     "data": {
      "application/javascript": [
       "\n",
       "            setTimeout(function() {\n",
       "                var nbb_cell_id = 8;\n",
       "                var nbb_unformatted_code = \"download('https://github.com/AllenDowney/ThinkStats2/raw/master/code/nsfg.py')\\ndownload(\\n    'https://github.com/AllenDowney/ThinkStats2/raw/master/code/2002FemPreg.dct'\\n    )\\ndownload(\\n    'https://github.com/AllenDowney/ThinkStats2/raw/master/code/2002FemPreg.dat.gz'\\n    )\";\n",
       "                var nbb_formatted_code = \"download(\\\"https://github.com/AllenDowney/ThinkStats2/raw/master/code/nsfg.py\\\")\\ndownload(\\\"https://github.com/AllenDowney/ThinkStats2/raw/master/code/2002FemPreg.dct\\\")\\ndownload(\\n    \\\"https://github.com/AllenDowney/ThinkStats2/raw/master/code/2002FemPreg.dat.gz\\\"\\n)\";\n",
       "                var nbb_cells = Jupyter.notebook.get_cells();\n",
       "                for (var i = 0; i < nbb_cells.length; ++i) {\n",
       "                    if (nbb_cells[i].input_prompt_number == nbb_cell_id) {\n",
       "                        if (nbb_cells[i].get_text() == nbb_unformatted_code) {\n",
       "                             nbb_cells[i].set_text(nbb_formatted_code);\n",
       "                        }\n",
       "                        break;\n",
       "                    }\n",
       "                }\n",
       "            }, 500);\n",
       "            "
      ],
      "text/plain": [
       "<IPython.core.display.Javascript object>"
      ]
     },
     "metadata": {},
     "output_type": "display_data"
    }
   ],
   "source": [
    "download(\"https://github.com/AllenDowney/ThinkStats/raw/v3/nb/nsfg.py\")\n",
    "download(\"https://github.com/AllenDowney/ThinkStats/raw/v3/nb/2002FemPreg.dct\")\n",
    "download(\n",
    "    \"https://github.com/AllenDowney/ThinkStats/raw/v3/nb/2002FemPreg.dat.gz\"\n",
    ")"
   ]
  },
  {
   "cell_type": "code",
   "execution_count": 9,
   "id": "29e7d525",
   "metadata": {},
   "outputs": [
    {
     "data": {
      "application/javascript": [
       "\n",
       "            setTimeout(function() {\n",
       "                var nbb_cell_id = 9;\n",
       "                var nbb_unformatted_code = \"import nsfg\\nlive, firsts, others = nsfg.make_frames()\\ndata = firsts.prglngth.values, others.prglngth.values\\nht = DiffMeansPermute(data)\\npvalue = ht.p_value()\";\n",
       "                var nbb_formatted_code = \"import nsfg\\n\\nlive, firsts, others = nsfg.make_frames()\\ndata = firsts.prglngth.values, others.prglngth.values\\nht = DiffMeansPermute(data)\\npvalue = ht.p_value()\";\n",
       "                var nbb_cells = Jupyter.notebook.get_cells();\n",
       "                for (var i = 0; i < nbb_cells.length; ++i) {\n",
       "                    if (nbb_cells[i].input_prompt_number == nbb_cell_id) {\n",
       "                        if (nbb_cells[i].get_text() == nbb_unformatted_code) {\n",
       "                             nbb_cells[i].set_text(nbb_formatted_code);\n",
       "                        }\n",
       "                        break;\n",
       "                    }\n",
       "                }\n",
       "            }, 500);\n",
       "            "
      ],
      "text/plain": [
       "<IPython.core.display.Javascript object>"
      ]
     },
     "metadata": {},
     "output_type": "display_data"
    }
   ],
   "source": [
    "import nsfg\n",
    "\n",
    "live, firsts, others = nsfg.make_frames()\n",
    "data = firsts.prglngth.values, others.prglngth.values\n",
    "ht = DiffMeansPermute(data)\n",
    "pvalue = ht.p_value()"
   ]
  },
  {
   "cell_type": "markdown",
   "id": "707fcc69",
   "metadata": {},
   "source": [
    "`MakeFrames` reads the NSFG data and returns DataFrames representing all\n",
    "live births, first babies, and others. We extract pregnancy lengths as\n",
    "NumPy arrays, pass them as data to `DiffMeansPermute`, and compute the\n",
    "p-value. The result is about 0.17, which means that we expect to see a\n",
    "difference as big as the observed effect about 17% of the time. So this\n",
    "effect is not statistically significant."
   ]
  },
  {
   "cell_type": "markdown",
   "id": "53e27b27",
   "metadata": {},
   "source": [
    "`HypothesisTest` provides `PlotCdf`, which plots the distribution of the\n",
    "test statistic and a gray line indicating the observed effect size:"
   ]
  },
  {
   "cell_type": "code",
   "execution_count": 11,
   "id": "9927271d",
   "metadata": {},
   "outputs": [
    {
     "data": {
      "image/png": "[encoded data removed]",
      "text/plain": [
       "<Figure size 640x480 with 1 Axes>"
      ]
     },
     "metadata": {},
     "output_type": "display_data"
    },
    {
     "data": {
      "text/plain": [
       "<Figure size 800x600 with 0 Axes>"
      ]
     },
     "metadata": {},
     "output_type": "display_data"
    },
    {
     "data": {
      "application/javascript": [
       "\n",
       "            setTimeout(function() {\n",
       "                var nbb_cell_id = 11;\n",
       "                var nbb_unformatted_code = \"ht.plot_cdf()\\nthinkplot.show(xlabel=\\\"test statistic\\\", ylabel=\\\"CDF\\\")\";\n",
       "                var nbb_formatted_code = \"ht.plot_cdf()\\nthinkplot.show(xlabel=\\\"test statistic\\\", ylabel=\\\"CDF\\\")\";\n",
       "                var nbb_cells = Jupyter.notebook.get_cells();\n",
       "                for (var i = 0; i < nbb_cells.length; ++i) {\n",
       "                    if (nbb_cells[i].input_prompt_number == nbb_cell_id) {\n",
       "                        if (nbb_cells[i].get_text() == nbb_unformatted_code) {\n",
       "                             nbb_cells[i].set_text(nbb_formatted_code);\n",
       "                        }\n",
       "                        break;\n",
       "                    }\n",
       "                }\n",
       "            }, 500);\n",
       "            "
      ],
      "text/plain": [
       "<IPython.core.display.Javascript object>"
      ]
     },
     "metadata": {},
     "output_type": "display_data"
    }
   ],
   "source": [
    "ht.plot_cdf()\n",
    "thinkplot.show(xlabel=\"test statistic\", ylabel=\"CDF\")"
   ]
  },
  {
   "cell_type": "markdown",
   "id": "eb53d0c2",
   "metadata": {},
   "source": [
    "Figure [\\[hypothesis1\\]](#hypothesis1){reference-type=\"ref\"\n",
    "reference=\"hypothesis1\"} shows the result. The CDF intersects the\n",
    "observed difference at 0.83, which is the complement of the p-value,\n",
    "0.17.\n",
    "\n",
    "If we run the same analysis with birth weight, the computed p-value is\n",
    "0; after 1000 attempts, the simulation never yields an effect as big as\n",
    "the observed difference, 0.12 lbs. So we would report $p < 0.001$, and\n",
    "conclude that the difference in birth weight is statistically\n",
    "significant."
   ]
  },
  {
   "cell_type": "markdown",
   "id": "546e010e",
   "metadata": {},
   "source": [
    "## Other test statistics\n",
    "\n",
    "Choosing the best test statistic depends on what question you are trying\n",
    "to address. For example, if the relevant question is whether pregnancy\n",
    "lengths are different for first babies, then it makes sense to test the\n",
    "absolute difference in means, as we did in the previous section.\n",
    "\n",
    "If we had some reason to think that first babies are likely to be late,\n",
    "then we would not take the absolute value of the difference; instead we\n",
    "would use this test statistic:"
   ]
  },
  {
   "cell_type": "code",
   "execution_count": 12,
   "id": "d05b7efa",
   "metadata": {},
   "outputs": [
    {
     "data": {
      "application/javascript": [
       "\n",
       "            setTimeout(function() {\n",
       "                var nbb_cell_id = 12;\n",
       "                var nbb_unformatted_code = \"class DiffMeansOneSided(DiffMeansPermute):\\n\\n    def test_statistic(self, data):\\n        group1, group2 = data\\n        test_stat = group1.mean() - group2.mean()\\n        return test_stat\";\n",
       "                var nbb_formatted_code = \"class DiffMeansOneSided(DiffMeansPermute):\\n\\n    def test_statistic(self, data):\\n        group1, group2 = data\\n        test_stat = group1.mean() - group2.mean()\\n        return test_stat\";\n",
       "                var nbb_cells = Jupyter.notebook.get_cells();\n",
       "                for (var i = 0; i < nbb_cells.length; ++i) {\n",
       "                    if (nbb_cells[i].input_prompt_number == nbb_cell_id) {\n",
       "                        if (nbb_cells[i].get_text() == nbb_unformatted_code) {\n",
       "                             nbb_cells[i].set_text(nbb_formatted_code);\n",
       "                        }\n",
       "                        break;\n",
       "                    }\n",
       "                }\n",
       "            }, 500);\n",
       "            "
      ],
      "text/plain": [
       "<IPython.core.display.Javascript object>"
      ]
     },
     "metadata": {},
     "output_type": "display_data"
    }
   ],
   "source": [
    "class DiffMeansOneSided(DiffMeansPermute):\n",
    "\n",
    "    def test_statistic(self, data):\n",
    "        group1, group2 = data\n",
    "        test_stat = group1.mean() - group2.mean()\n",
    "        return test_stat"
   ]
  },
  {
   "cell_type": "markdown",
   "id": "360460b0",
   "metadata": {},
   "source": [
    "`DiffMeansOneSided` inherits `MakeModel` and `RunModel` from\n",
    "`DiffMeansPermute`; the only difference is that `TestStatistic` does not\n",
    "take the absolute value of the difference. This kind of test is called\n",
    "**one-sided** because it only counts one side of the distribution of\n",
    "differences. The previous test, using both sides, is **two-sided**.\n",
    "\n",
    "For this version of the test, the p-value is 0.09. In general the\n",
    "p-value for a one-sided test is about half the p-value for a two-sided\n",
    "test, depending on the shape of the distribution.\n",
    "\n",
    "The one-sided hypothesis, that first babies are born late, is more\n",
    "specific than the two-sided hypothesis, so the p-value is smaller. But\n",
    "even for the stronger hypothesis, the difference is not statistically\n",
    "significant."
   ]
  },
  {
   "cell_type": "markdown",
   "id": "b5cf8235",
   "metadata": {},
   "source": [
    "We can use the same framework to test for a difference in standard\n",
    "deviation. In\n",
    "Section [\\[visualization\\]](#visualization){reference-type=\"ref\"\n",
    "reference=\"visualization\"}, we saw some evidence that first babies are\n",
    "more likely to be early or late, and less likely to be on time. So we\n",
    "might hypothesize that the standard deviation is higher. Here's how we\n",
    "can test that:"
   ]
  },
  {
   "cell_type": "code",
   "execution_count": 13,
   "id": "c66134af",
   "metadata": {},
   "outputs": [
    {
     "data": {
      "application/javascript": [
       "\n",
       "            setTimeout(function() {\n",
       "                var nbb_cell_id = 13;\n",
       "                var nbb_unformatted_code = \"class DiffStdPermute(DiffMeansPermute):\\n\\n    def test_statistic(self, data):\\n        group1, group2 = data\\n        test_stat = group1.std() - group2.std()\\n        return test_stat\";\n",
       "                var nbb_formatted_code = \"class DiffStdPermute(DiffMeansPermute):\\n\\n    def test_statistic(self, data):\\n        group1, group2 = data\\n        test_stat = group1.std() - group2.std()\\n        return test_stat\";\n",
       "                var nbb_cells = Jupyter.notebook.get_cells();\n",
       "                for (var i = 0; i < nbb_cells.length; ++i) {\n",
       "                    if (nbb_cells[i].input_prompt_number == nbb_cell_id) {\n",
       "                        if (nbb_cells[i].get_text() == nbb_unformatted_code) {\n",
       "                             nbb_cells[i].set_text(nbb_formatted_code);\n",
       "                        }\n",
       "                        break;\n",
       "                    }\n",
       "                }\n",
       "            }, 500);\n",
       "            "
      ],
      "text/plain": [
       "<IPython.core.display.Javascript object>"
      ]
     },
     "metadata": {},
     "output_type": "display_data"
    }
   ],
   "source": [
    "class DiffStdPermute(DiffMeansPermute):\n",
    "\n",
    "    def test_statistic(self, data):\n",
    "        group1, group2 = data\n",
    "        test_stat = group1.std() - group2.std()\n",
    "        return test_stat"
   ]
  },
  {
   "cell_type": "markdown",
   "id": "8112432b",
   "metadata": {},
   "source": [
    "This is a one-sided test because the hypothesis is that the standard\n",
    "deviation for first babies is higher, not just different. The p-value is\n",
    "0.09, which is not statistically significant."
   ]
  },
  {
   "cell_type": "markdown",
   "id": "7efb6d21",
   "metadata": {},
   "source": [
    "## Testing a correlation\n",
    "\n",
    "This framework can also test correlations. For example, in the NSFG data\n",
    "set, the correlation between birth weight and mother's age is about\n",
    "0.07. It seems like older mothers have heavier babies. But could this\n",
    "effect be due to chance?\n",
    "\n",
    "For the test statistic, I use Pearson's correlation, but Spearman's\n",
    "would work as well. If we had reason to expect positive correlation, we\n",
    "would do a one-sided test. But since we have no such reason, I'll do a\n",
    "two-sided test using the absolute value of correlation.\n",
    "\n",
    "The null hypothesis is that there is no correlation between mother's age\n",
    "and birth weight. By shuffling the observed values, we can simulate a\n",
    "world where the distributions of age and birth weight are the same, but\n",
    "where the variables are unrelated:"
   ]
  },
  {
   "cell_type": "code",
   "execution_count": 14,
   "id": "e34d9386",
   "metadata": {},
   "outputs": [
    {
     "data": {
      "application/javascript": [
       "\n",
       "            setTimeout(function() {\n",
       "                var nbb_cell_id = 14;\n",
       "                var nbb_unformatted_code = \"class CorrelationPermute(thinkstats2.HypothesisTest):\\n\\n    def test_statistic(self, data):\\n        xs, ys = data\\n        test_stat = abs(thinkstats2.corr(xs, ys))\\n        return test_stat\\n\\n    def run_model(self):\\n        xs, ys = self.data\\n        xs = np.random.permutation(xs)\\n        return xs, ys\";\n",
       "                var nbb_formatted_code = \"class CorrelationPermute(thinkstats2.HypothesisTest):\\n\\n    def test_statistic(self, data):\\n        xs, ys = data\\n        test_stat = abs(thinkstats2.corr(xs, ys))\\n        return test_stat\\n\\n    def run_model(self):\\n        xs, ys = self.data\\n        xs = np.random.permutation(xs)\\n        return xs, ys\";\n",
       "                var nbb_cells = Jupyter.notebook.get_cells();\n",
       "                for (var i = 0; i < nbb_cells.length; ++i) {\n",
       "                    if (nbb_cells[i].input_prompt_number == nbb_cell_id) {\n",
       "                        if (nbb_cells[i].get_text() == nbb_unformatted_code) {\n",
       "                             nbb_cells[i].set_text(nbb_formatted_code);\n",
       "                        }\n",
       "                        break;\n",
       "                    }\n",
       "                }\n",
       "            }, 500);\n",
       "            "
      ],
      "text/plain": [
       "<IPython.core.display.Javascript object>"
      ]
     },
     "metadata": {},
     "output_type": "display_data"
    }
   ],
   "source": [
    "class CorrelationPermute(thinkstats2.HypothesisTest):\n",
    "\n",
    "    def test_statistic(self, data):\n",
    "        xs, ys = data\n",
    "        test_stat = abs(thinkstats2.corr(xs, ys))\n",
    "        return test_stat\n",
    "\n",
    "    def run_model(self):\n",
    "        xs, ys = self.data\n",
    "        xs = np.random.permutation(xs)\n",
    "        return xs, ys"
   ]
  },
  {
   "cell_type": "markdown",
   "id": "dc1c7f94",
   "metadata": {},
   "source": [
    "`data` is a pair of sequences. `TestStatistic` computes the absolute\n",
    "value of Pearson's correlation. `RunModel` shuffles the `xs` and returns\n",
    "simulated data.\n",
    "\n",
    "Here's the code that reads the data and runs the test:"
   ]
  },
  {
   "cell_type": "code",
   "execution_count": 15,
   "id": "782a7885",
   "metadata": {},
   "outputs": [
    {
     "data": {
      "text/plain": [
       "0.0"
      ]
     },
     "execution_count": 15,
     "metadata": {},
     "output_type": "execute_result"
    },
    {
     "data": {
      "application/javascript": [
       "\n",
       "            setTimeout(function() {\n",
       "                var nbb_cell_id = 15;\n",
       "                var nbb_unformatted_code = \"live = live.dropna(subset=['agepreg', 'totalwgt_lb'])\\ndata = live.agepreg.values, live.totalwgt_lb.values\\nht = CorrelationPermute(data)\\np_value = ht.p_value()\\np_value\";\n",
       "                var nbb_formatted_code = \"live = live.dropna(subset=[\\\"agepreg\\\", \\\"totalwgt_lb\\\"])\\ndata = live.agepreg.values, live.totalwgt_lb.values\\nht = CorrelationPermute(data)\\np_value = ht.p_value()\\np_value\";\n",
       "                var nbb_cells = Jupyter.notebook.get_cells();\n",
       "                for (var i = 0; i < nbb_cells.length; ++i) {\n",
       "                    if (nbb_cells[i].input_prompt_number == nbb_cell_id) {\n",
       "                        if (nbb_cells[i].get_text() == nbb_unformatted_code) {\n",
       "                             nbb_cells[i].set_text(nbb_formatted_code);\n",
       "                        }\n",
       "                        break;\n",
       "                    }\n",
       "                }\n",
       "            }, 500);\n",
       "            "
      ],
      "text/plain": [
       "<IPython.core.display.Javascript object>"
      ]
     },
     "metadata": {},
     "output_type": "display_data"
    }
   ],
   "source": [
    "live = live.dropna(subset=[\"agepreg\", \"totalwgt_lb\"])\n",
    "data = live.agepreg.values, live.totalwgt_lb.values\n",
    "ht = CorrelationPermute(data)\n",
    "p_value = ht.p_value()\n",
    "p_value"
   ]
  },
  {
   "cell_type": "markdown",
   "id": "fb204285",
   "metadata": {},
   "source": [
    "I use `dropna` with the `subset` argument to drop rows that are missing\n",
    "either of the variables we need.\n",
    "\n",
    "The actual correlation is 0.07. The computed p-value is 0; after 1000\n",
    "iterations the largest simulated correlation is 0.04. So although the\n",
    "observed correlation is small, it is statistically significant.\n",
    "\n",
    "This example is a reminder that \"statistically significant\" does not\n",
    "always mean that an effect is important, or significant in practice. It\n",
    "only means that it is unlikely to have occurred by chance."
   ]
  },
  {
   "cell_type": "markdown",
   "id": "fd1b7cdf",
   "metadata": {},
   "source": [
    "## Testing proportions\n",
    "\n",
    "Suppose you run a casino and you suspect that a customer is using a\n",
    "crooked die; that is, one that has been modified to make one of the\n",
    "faces more likely than the others. You apprehend the alleged cheater and\n",
    "confiscate the die, but now you have to prove that it is crooked. You\n",
    "roll the die 60 times and get the following results:\n",
    "\n",
    "```\n",
    " center\n",
    "  Value        1   2   3    4   5   6\n",
    "  ----------- --- --- ---- --- --- ----\n",
    "  Frequency    8   9   19   5   8   11\n",
    "```\n",
    "\n",
    "On average you expect each value to appear 10 times. In this dataset,\n",
    "the value 3 appears more often than expected, and the value 4 appears\n",
    "less often. But are these differences statistically significant?\n",
    "\n",
    "To test this hypothesis, we can compute the expected frequency for each\n",
    "value, the difference between the expected and observed frequencies, and\n",
    "the total absolute difference. In this example, we expect each side to\n",
    "come up 10 times out of 60; the deviations from this expectation are -2,\n",
    "-1, 9, -5, -2, and 1; so the total absolute difference is 20. How often\n",
    "would we see such a difference by chance?\n",
    "\n",
    "Here's a version of `HypothesisTest` that answers that question:"
   ]
  },
  {
   "cell_type": "code",
   "execution_count": 16,
   "id": "9a530baf",
   "metadata": {},
   "outputs": [
    {
     "data": {
      "application/javascript": [
       "\n",
       "            setTimeout(function() {\n",
       "                var nbb_cell_id = 16;\n",
       "                var nbb_unformatted_code = \"class DiceTest(thinkstats2.HypothesisTest):\\n\\n    def test_statistic(self, data):\\n        observed = data\\n        n = sum(observed)\\n        expected = np.ones(6) * n / 6\\n        test_stat = sum(abs(observed - expected))\\n        return test_stat\\n\\n    def run_model(self):\\n        n = sum(self.data)\\n        values = [1, 2, 3, 4, 5, 6]\\n        rolls = np.random.choice(values, n, replace=True)\\n        hist = thinkstats2.Hist(rolls)\\n        freqs = hist.freqs(values)\\n        return freqs\";\n",
       "                var nbb_formatted_code = \"class DiceTest(thinkstats2.HypothesisTest):\\n\\n    def test_statistic(self, data):\\n        observed = data\\n        n = sum(observed)\\n        expected = np.ones(6) * n / 6\\n        test_stat = sum(abs(observed - expected))\\n        return test_stat\\n\\n    def run_model(self):\\n        n = sum(self.data)\\n        values = [1, 2, 3, 4, 5, 6]\\n        rolls = np.random.choice(values, n, replace=True)\\n        hist = thinkstats2.Hist(rolls)\\n        freqs = hist.freqs(values)\\n        return freqs\";\n",
       "                var nbb_cells = Jupyter.notebook.get_cells();\n",
       "                for (var i = 0; i < nbb_cells.length; ++i) {\n",
       "                    if (nbb_cells[i].input_prompt_number == nbb_cell_id) {\n",
       "                        if (nbb_cells[i].get_text() == nbb_unformatted_code) {\n",
       "                             nbb_cells[i].set_text(nbb_formatted_code);\n",
       "                        }\n",
       "                        break;\n",
       "                    }\n",
       "                }\n",
       "            }, 500);\n",
       "            "
      ],
      "text/plain": [
       "<IPython.core.display.Javascript object>"
      ]
     },
     "metadata": {},
     "output_type": "display_data"
    }
   ],
   "source": [
    "class DiceTest(thinkstats2.HypothesisTest):\n",
    "\n",
    "    def test_statistic(self, data):\n",
    "        observed = data\n",
    "        n = sum(observed)\n",
    "        expected = np.ones(6) * n / 6\n",
    "        test_stat = sum(abs(observed - expected))\n",
    "        return test_stat\n",
    "\n",
    "    def run_model(self):\n",
    "        n = sum(self.data)\n",
    "        values = [1, 2, 3, 4, 5, 6]\n",
    "        rolls = np.random.choice(values, n, replace=True)\n",
    "        hist = thinkstats2.Hist(rolls)\n",
    "        freqs = hist.freqs(values)\n",
    "        return freqs"
   ]
  },
  {
   "cell_type": "markdown",
   "id": "fa590a55",
   "metadata": {},
   "source": [
    "The data are represented as a list of frequencies: the observed values\n",
    "are `[8, 9, 19, 5, 8, 11]`; the expected frequencies are all 10. The\n",
    "test statistic is the sum of the absolute differences.\n",
    "\n",
    "The null hypothesis is that the die is fair, so we simulate that by\n",
    "drawing random samples from `values`. `RunModel` uses `Hist` to compute\n",
    "and return the list of frequencies.\n",
    "\n",
    "The p-value for this data is 0.13, which means that if the die is fair\n",
    "we expect to see the observed total deviation, or more, about 13% of the\n",
    "time. So the apparent effect is not statistically significant."
   ]
  },
  {
   "cell_type": "markdown",
   "id": "544584d8",
   "metadata": {},
   "source": [
    "## Chi-squared tests\n",
    "\n",
    "In the previous section we used total deviation as the test statistic.\n",
    "But for testing proportions it is more common to use the chi-squared\n",
    "statistic: $$\\chi^2 = \\sum_i \\frac{(O_i - E_i)^2}{E_i}$$ Where $O_i$\n",
    "are the observed frequencies and $E_i$ are the expected frequencies.\n",
    "Here's the Python code:"
   ]
  },
  {
   "cell_type": "code",
   "execution_count": 17,
   "id": "398ea4cf",
   "metadata": {},
   "outputs": [
    {
     "data": {
      "application/javascript": [
       "\n",
       "            setTimeout(function() {\n",
       "                var nbb_cell_id = 17;\n",
       "                var nbb_unformatted_code = \"class DiceChiTest(DiceTest):\\n\\n    def test_statistic(self, data):\\n        observed = data\\n        n = sum(observed)\\n        expected = np.ones(6) * n / 6\\n        test_stat = sum((observed - expected) ** 2 / expected)\\n        return test_stat\";\n",
       "                var nbb_formatted_code = \"class DiceChiTest(DiceTest):\\n\\n    def test_statistic(self, data):\\n        observed = data\\n        n = sum(observed)\\n        expected = np.ones(6) * n / 6\\n        test_stat = sum((observed - expected) ** 2 / expected)\\n        return test_stat\";\n",
       "                var nbb_cells = Jupyter.notebook.get_cells();\n",
       "                for (var i = 0; i < nbb_cells.length; ++i) {\n",
       "                    if (nbb_cells[i].input_prompt_number == nbb_cell_id) {\n",
       "                        if (nbb_cells[i].get_text() == nbb_unformatted_code) {\n",
       "                             nbb_cells[i].set_text(nbb_formatted_code);\n",
       "                        }\n",
       "                        break;\n",
       "                    }\n",
       "                }\n",
       "            }, 500);\n",
       "            "
      ],
      "text/plain": [
       "<IPython.core.display.Javascript object>"
      ]
     },
     "metadata": {},
     "output_type": "display_data"
    }
   ],
   "source": [
    "class DiceChiTest(DiceTest):\n",
    "\n",
    "    def test_statistic(self, data):\n",
    "        observed = data\n",
    "        n = sum(observed)\n",
    "        expected = np.ones(6) * n / 6\n",
    "        test_stat = sum((observed - expected) ** 2 / expected)\n",
    "        return test_stat"
   ]
  },
  {
   "cell_type": "markdown",
   "id": "cc8c586e",
   "metadata": {},
   "source": [
    "Squaring the deviations (rather than taking absolute values) gives more\n",
    "weight to large deviations. Dividing through by `expected` standardizes\n",
    "the deviations, although in this case it has no effect because the\n",
    "expected frequencies are all equal.\n",
    "\n",
    "The p-value using the chi-squared statistic is 0.04, substantially\n",
    "smaller than what we got using total deviation, 0.13. If we take the 5%\n",
    "threshold seriously, we would consider this effect statistically\n",
    "significant. But considering the two tests togther, I would say that the\n",
    "results are borderline. I would not rule out the possibility that the\n",
    "die is crooked, but I would not convict the accused cheater.\n",
    "\n",
    "This example demonstrates an important point: the p-value depends on the\n",
    "choice of test statistic and the model of the null hypothesis, and\n",
    "sometimes these choices determine whether an effect is statistically\n",
    "significant or not."
   ]
  },
  {
   "cell_type": "markdown",
   "id": "a41e6d28",
   "metadata": {},
   "source": [
    "## First babies again\n",
    "\n",
    "Earlier in this chapter we looked at pregnancy lengths for first babies\n",
    "and others, and concluded that the apparent differences in mean and\n",
    "standard deviation are not statistically significant. But in\n",
    "Section [\\[visualization\\]](#visualization){reference-type=\"ref\"\n",
    "reference=\"visualization\"}, we saw several apparent differences in the\n",
    "distribution of pregnancy length, especially in the range from 35 to 43\n",
    "weeks. To see whether those differences are statistically significant,\n",
    "we can use a test based on a chi-squared statistic.\n",
    "\n",
    "The code combines elements from previous examples:"
   ]
  },
  {
   "cell_type": "code",
   "execution_count": 18,
   "id": "890dc8a9",
   "metadata": {},
   "outputs": [
    {
     "data": {
      "application/javascript": [
       "\n",
       "            setTimeout(function() {\n",
       "                var nbb_cell_id = 18;\n",
       "                var nbb_unformatted_code = \"class PregLengthTest(thinkstats2.HypothesisTest):\\n\\n    def make_model(self):\\n        firsts, others = self.data\\n        self.n = len(firsts)\\n        self.pool = np.hstack((firsts, others))\\n        pmf = thinkstats2.Pmf(self.pool)\\n        self.values = range(35, 44)\\n        self.expected_probs = np.array(pmf.probs(self.values))\\n\\n    def run_model(self):\\n        np.random.shuffle(self.pool)\\n        data = self.pool[:self.n], self.pool[self.n:]\\n        return data\\n\\n    def test_statistic(self, data):\\n        firsts, others = data\\n        stat = self.chi_squared(firsts) + self.chi_squared(others)\\n        return stat\\n\\n    def chi_squared(self, lengths):\\n        hist = thinkstats2.Hist(lengths)\\n        observed = np.array(hist.freqs(self.values))\\n        expected = self.expected_probs * len(lengths)\\n        stat = sum((observed - expected) ** 2 / expected)\\n        return stat\";\n",
       "                var nbb_formatted_code = \"class PregLengthTest(thinkstats2.HypothesisTest):\\n\\n    def make_model(self):\\n        firsts, others = self.data\\n        self.n = len(firsts)\\n        self.pool = np.hstack((firsts, others))\\n        pmf = thinkstats2.Pmf(self.pool)\\n        self.values = range(35, 44)\\n        self.expected_probs = np.array(pmf.probs(self.values))\\n\\n    def run_model(self):\\n        np.random.shuffle(self.pool)\\n        data = self.pool[: self.n], self.pool[self.n :]\\n        return data\\n\\n    def test_statistic(self, data):\\n        firsts, others = data\\n        stat = self.chi_squared(firsts) + self.chi_squared(others)\\n        return stat\\n\\n    def chi_squared(self, lengths):\\n        hist = thinkstats2.Hist(lengths)\\n        observed = np.array(hist.freqs(self.values))\\n        expected = self.expected_probs * len(lengths)\\n        stat = sum((observed - expected) ** 2 / expected)\\n        return stat\";\n",
       "                var nbb_cells = Jupyter.notebook.get_cells();\n",
       "                for (var i = 0; i < nbb_cells.length; ++i) {\n",
       "                    if (nbb_cells[i].input_prompt_number == nbb_cell_id) {\n",
       "                        if (nbb_cells[i].get_text() == nbb_unformatted_code) {\n",
       "                             nbb_cells[i].set_text(nbb_formatted_code);\n",
       "                        }\n",
       "                        break;\n",
       "                    }\n",
       "                }\n",
       "            }, 500);\n",
       "            "
      ],
      "text/plain": [
       "<IPython.core.display.Javascript object>"
      ]
     },
     "metadata": {},
     "output_type": "display_data"
    }
   ],
   "source": [
    "class PregLengthTest(thinkstats2.HypothesisTest):\n",
    "\n",
    "    def make_model(self):\n",
    "        firsts, others = self.data\n",
    "        self.n = len(firsts)\n",
    "        self.pool = np.hstack((firsts, others))\n",
    "        pmf = thinkstats2.Pmf(self.pool)\n",
    "        self.values = range(35, 44)\n",
    "        self.expected_probs = np.array(pmf.probs(self.values))\n",
    "\n",
    "    def run_model(self):\n",
    "        np.random.shuffle(self.pool)\n",
    "        data = self.pool[: self.n], self.pool[self.n :]\n",
    "        return data\n",
    "\n",
    "    def test_statistic(self, data):\n",
    "        firsts, others = data\n",
    "        stat = self.chi_squared(firsts) + self.chi_squared(others)\n",
    "        return stat\n",
    "\n",
    "    def chi_squared(self, lengths):\n",
    "        hist = thinkstats2.Hist(lengths)\n",
    "        observed = np.array(hist.freqs(self.values))\n",
    "        expected = self.expected_probs * len(lengths)\n",
    "        stat = sum((observed - expected) ** 2 / expected)\n",
    "        return stat"
   ]
  },
  {
   "cell_type": "markdown",
   "id": "dcc044ef",
   "metadata": {},
   "source": [
    "The data are represented as two lists of pregnancy lengths. The null\n",
    "hypothesis is that both samples are drawn from the same distribution.\n",
    "`MakeModel` models that distribution by pooling the two samples using\n",
    "`hstack`. Then `RunModel` generates simulated data by shuffling the\n",
    "pooled sample and splitting it into two parts.\n",
    "\n",
    "`MakeModel` also defines `values`, which is the range of weeks we'll\n",
    "use, and `expected_probs`, which is the probability of each value in the\n",
    "pooled distribution.\n",
    "\n",
    "Here's the code that computes the test statistic:"
   ]
  },
  {
   "cell_type": "code",
   "execution_count": 19,
   "id": "a9d180e8",
   "metadata": {},
   "outputs": [
    {
     "name": "stdout",
     "output_type": "stream",
     "text": [
      "p-value = 0.0\n",
      "actual = 101.50141482893264\n",
      "ts max = 26.4946075438446\n"
     ]
    },
    {
     "data": {
      "application/javascript": [
       "\n",
       "            setTimeout(function() {\n",
       "                var nbb_cell_id = 19;\n",
       "                var nbb_unformatted_code = \"data = firsts.prglngth.values, others.prglngth.values\\nht = PregLengthTest(data)\\np_value = ht.p_value()\\nprint('p-value =', p_value)\\nprint('actual =', ht.actual)\\nprint('ts max =', ht.max_test_stat())\";\n",
       "                var nbb_formatted_code = \"data = firsts.prglngth.values, others.prglngth.values\\nht = PregLengthTest(data)\\np_value = ht.p_value()\\nprint(\\\"p-value =\\\", p_value)\\nprint(\\\"actual =\\\", ht.actual)\\nprint(\\\"ts max =\\\", ht.max_test_stat())\";\n",
       "                var nbb_cells = Jupyter.notebook.get_cells();\n",
       "                for (var i = 0; i < nbb_cells.length; ++i) {\n",
       "                    if (nbb_cells[i].input_prompt_number == nbb_cell_id) {\n",
       "                        if (nbb_cells[i].get_text() == nbb_unformatted_code) {\n",
       "                             nbb_cells[i].set_text(nbb_formatted_code);\n",
       "                        }\n",
       "                        break;\n",
       "                    }\n",
       "                }\n",
       "            }, 500);\n",
       "            "
      ],
      "text/plain": [
       "<IPython.core.display.Javascript object>"
      ]
     },
     "metadata": {},
     "output_type": "display_data"
    }
   ],
   "source": [
    "data = firsts.prglngth.values, others.prglngth.values\n",
    "ht = PregLengthTest(data)\n",
    "p_value = ht.p_value()\n",
    "print(\"p-value =\", p_value)\n",
    "print(\"actual =\", ht.actual)\n",
    "print(\"ts max =\", ht.max_test_stat())"
   ]
  },
  {
   "cell_type": "markdown",
   "id": "eb3ba9dc",
   "metadata": {},
   "source": [
    "`TestStatistic` computes the chi-squared statistic for first babies and\n",
    "others, and adds them.\n",
    "\n",
    "`ChiSquared` takes a sequence of pregnancy lengths, computes its\n",
    "histogram, and computes `observed`, which is a list of frequencies\n",
    "corresponding to `self.values`. To compute the list of expected\n",
    "frequencies, it multiplies the pre-computed probabilities,\n",
    "`expected_probs`, by the sample size. It returns the chi-squared\n",
    "statistic, `stat`.\n",
    "\n",
    "For the NSFG data the total chi-squared statistic is 102, which doesn't\n",
    "mean much by itself. But after 1000 iterations, the largest test\n",
    "statistic generated under the null hypothesis is 32. We conclude that\n",
    "the observed chi-squared statistic is unlikely under the null\n",
    "hypothesis, so the apparent effect is statistically significant.\n",
    "\n",
    "This example demonstrates a limitation of chi-squared tests: they\n",
    "indicate that there is a difference between the two groups, but they\n",
    "don't say anything specific about what the difference is."
   ]
  },
  {
   "cell_type": "markdown",
   "id": "ec5893c6",
   "metadata": {},
   "source": [
    "## Errors\n",
    "\n",
    "In classical hypothesis testing, an effect is considered statistically\n",
    "significant if the p-value is below some threshold, commonly 5%. This\n",
    "procedure raises two questions:\n",
    "\n",
    "-   If the effect is actually due to chance, what is the probability\n",
    "    that we will wrongly consider it significant? This probability is\n",
    "    the **false positive rate**.\n",
    "\n",
    "-   If the effect is real, what is the chance that the hypothesis test\n",
    "    will fail? This probability is the **false negative rate**.\n",
    "\n",
    "The false positive rate is relatively easy to compute: if the threshold\n",
    "is 5%, the false positive rate is 5%. Here's why:\n",
    "\n",
    "-   If there is no real effect, the null hypothesis is true, so we can\n",
    "    compute the distribution of the test statistic by simulating the\n",
    "    null hypothesis. Call this distribution $\\CDF_T$.\n",
    "\n",
    "-   Each time we run an experiment, we get a test statistic, $t$, which\n",
    "    is drawn from $CDF_T$. Then we compute a p-value, which is the\n",
    "    probability that a random value from $CDF_T$ exceeds `t`, so that's\n",
    "    $1 - CDF_T(t)$.\n",
    "\n",
    "-   The p-value is less than 5% if $CDF_T(t)$ is greater than 95%; that\n",
    "    is, if $t$ exceeds the 95th percentile. And how often does a value\n",
    "    chosen from $CDF_T$ exceed the 95th percentile? 5% of the time.\n",
    "\n",
    "So if you perform one hypothesis test with a 5% threshold, you expect a\n",
    "false positive 1 time in 20."
   ]
  },
  {
   "cell_type": "markdown",
   "id": "c8789189",
   "metadata": {},
   "source": [
    "## Power\n",
    "\n",
    "The false negative rate is harder to compute because it depends on the\n",
    "actual effect size, and normally we don't know that. One option is to\n",
    "compute a rate conditioned on a hypothetical effect size.\n",
    "\n",
    "For example, if we assume that the observed difference between groups is\n",
    "accurate, we can use the observed samples as a model of the population\n",
    "and run hypothesis tests with simulated data:"
   ]
  },
  {
   "cell_type": "code",
   "execution_count": 20,
   "id": "6692e494",
   "metadata": {},
   "outputs": [
    {
     "data": {
      "application/javascript": [
       "\n",
       "            setTimeout(function() {\n",
       "                var nbb_cell_id = 20;\n",
       "                var nbb_unformatted_code = \"def false_neg_rate(data, num_runs=100):\\n    group1, group2 = data\\n    count = 0\\n    for i in range(num_runs):\\n        sample1 = thinkstats2.resample(group1)\\n        sample2 = thinkstats2.resample(group2)\\n        ht = DiffMeansPermute((sample1, sample2))\\n        pvalue = ht.p_value(iters=101)\\n        if pvalue > 0.05:\\n            count += 1\\n    return count / num_runs\";\n",
       "                var nbb_formatted_code = \"def false_neg_rate(data, num_runs=100):\\n    group1, group2 = data\\n    count = 0\\n    for i in range(num_runs):\\n        sample1 = thinkstats2.resample(group1)\\n        sample2 = thinkstats2.resample(group2)\\n        ht = DiffMeansPermute((sample1, sample2))\\n        pvalue = ht.p_value(iters=101)\\n        if pvalue > 0.05:\\n            count += 1\\n    return count / num_runs\";\n",
       "                var nbb_cells = Jupyter.notebook.get_cells();\n",
       "                for (var i = 0; i < nbb_cells.length; ++i) {\n",
       "                    if (nbb_cells[i].input_prompt_number == nbb_cell_id) {\n",
       "                        if (nbb_cells[i].get_text() == nbb_unformatted_code) {\n",
       "                             nbb_cells[i].set_text(nbb_formatted_code);\n",
       "                        }\n",
       "                        break;\n",
       "                    }\n",
       "                }\n",
       "            }, 500);\n",
       "            "
      ],
      "text/plain": [
       "<IPython.core.display.Javascript object>"
      ]
     },
     "metadata": {},
     "output_type": "display_data"
    }
   ],
   "source": [
    "def false_neg_rate(data, num_runs=100):\n",
    "    group1, group2 = data\n",
    "    count = 0\n",
    "    for i in range(num_runs):\n",
    "        sample1 = thinkstats2.resample(group1)\n",
    "        sample2 = thinkstats2.resample(group2)\n",
    "        ht = DiffMeansPermute((sample1, sample2))\n",
    "        pvalue = ht.p_value(iters=101)\n",
    "        if pvalue > 0.05:\n",
    "            count += 1\n",
    "    return count / num_runs"
   ]
  },
  {
   "cell_type": "markdown",
   "id": "e20ffd80",
   "metadata": {},
   "source": [
    "`FalseNegRate` takes data in the form of two sequences, one for each\n",
    "group. Each time through the loop, it simulates an experiment by drawing\n",
    "a random sample from each group and running a hypothesis test. Then it\n",
    "checks the result and counts the number of false negatives.\n",
    "\n",
    "`Resample` takes a sequence and draws a sample with the same length,\n",
    "with replacement:"
   ]
  },
  {
   "cell_type": "code",
   "execution_count": 21,
   "id": "29d63681",
   "metadata": {},
   "outputs": [
    {
     "data": {
      "application/javascript": [
       "\n",
       "            setTimeout(function() {\n",
       "                var nbb_cell_id = 21;\n",
       "                var nbb_unformatted_code = \"def resample(xs):\\n    return np.random.choice(xs, len(xs), replace=True)\";\n",
       "                var nbb_formatted_code = \"def resample(xs):\\n    return np.random.choice(xs, len(xs), replace=True)\";\n",
       "                var nbb_cells = Jupyter.notebook.get_cells();\n",
       "                for (var i = 0; i < nbb_cells.length; ++i) {\n",
       "                    if (nbb_cells[i].input_prompt_number == nbb_cell_id) {\n",
       "                        if (nbb_cells[i].get_text() == nbb_unformatted_code) {\n",
       "                             nbb_cells[i].set_text(nbb_formatted_code);\n",
       "                        }\n",
       "                        break;\n",
       "                    }\n",
       "                }\n",
       "            }, 500);\n",
       "            "
      ],
      "text/plain": [
       "<IPython.core.display.Javascript object>"
      ]
     },
     "metadata": {},
     "output_type": "display_data"
    }
   ],
   "source": [
    "def resample(xs):\n",
    "    return np.random.choice(xs, len(xs), replace=True)"
   ]
  },
  {
   "cell_type": "markdown",
   "id": "4fc4a5e8",
   "metadata": {},
   "source": [
    "Here's the code that tests pregnancy lengths:"
   ]
  },
  {
   "cell_type": "code",
   "execution_count": 22,
   "id": "4ff48293",
   "metadata": {},
   "outputs": [
    {
     "data": {
      "text/plain": [
       "0.7"
      ]
     },
     "execution_count": 22,
     "metadata": {},
     "output_type": "execute_result"
    },
    {
     "data": {
      "application/javascript": [
       "\n",
       "            setTimeout(function() {\n",
       "                var nbb_cell_id = 22;\n",
       "                var nbb_unformatted_code = \"live, firsts, others = nsfg.make_frames()\\ndata = firsts.prglngth.values, others.prglngth.values\\nneg_rate = false_neg_rate(data)\\nneg_rate\";\n",
       "                var nbb_formatted_code = \"live, firsts, others = nsfg.make_frames()\\ndata = firsts.prglngth.values, others.prglngth.values\\nneg_rate = false_neg_rate(data)\\nneg_rate\";\n",
       "                var nbb_cells = Jupyter.notebook.get_cells();\n",
       "                for (var i = 0; i < nbb_cells.length; ++i) {\n",
       "                    if (nbb_cells[i].input_prompt_number == nbb_cell_id) {\n",
       "                        if (nbb_cells[i].get_text() == nbb_unformatted_code) {\n",
       "                             nbb_cells[i].set_text(nbb_formatted_code);\n",
       "                        }\n",
       "                        break;\n",
       "                    }\n",
       "                }\n",
       "            }, 500);\n",
       "            "
      ],
      "text/plain": [
       "<IPython.core.display.Javascript object>"
      ]
     },
     "metadata": {},
     "output_type": "display_data"
    }
   ],
   "source": [
    "live, firsts, others = nsfg.make_frames()\n",
    "data = firsts.prglngth.values, others.prglngth.values\n",
    "neg_rate = false_neg_rate(data)\n",
    "neg_rate"
   ]
  },
  {
   "cell_type": "markdown",
   "id": "7dade836",
   "metadata": {},
   "source": [
    "The result is about 70%, which means that if the actual difference in\n",
    "mean pregnancy length is 0.078 weeks, we expect an experiment with this\n",
    "sample size to yield a negative test 70% of the time.\n",
    "\n",
    "This result is often presented the other way around: if the actual\n",
    "difference is 0.078 weeks, we should expect a positive test only 30% of\n",
    "the time. This \"correct positive rate\" is called the **power** of the\n",
    "test, or sometimes \"sensitivity\". It reflects the ability of the test to\n",
    "detect an effect of a given size.\n",
    "\n",
    "In this example, the test had only a 30% chance of yielding a positive\n",
    "result (again, assuming that the difference is 0.078 weeks). As a rule\n",
    "of thumb, a power of 80% is considered acceptable, so we would say that\n",
    "this test was \"underpowered.\"\n",
    "\n",
    "In general a negative hypothesis test does not imply that there is no\n",
    "difference between the groups; instead it suggests that if there is a\n",
    "difference, it is too small to detect with this sample size."
   ]
  },
  {
   "cell_type": "markdown",
   "id": "89c935af",
   "metadata": {},
   "source": [
    "## Replication\n",
    "\n",
    "The hypothesis testing process I demonstrated in this chapter is not,\n",
    "strictly speaking, good practice.\n",
    "\n",
    "First, I performed multiple tests. If you run one hypothesis test, the\n",
    "chance of a false positive is about 1 in 20, which might be acceptable.\n",
    "But if you run 20 tests, you should expect at least one false positive,\n",
    "most of the time.\n",
    "\n",
    "Second, I used the same dataset for exploration and testing. If you\n",
    "explore a large dataset, find a surprising effect, and then test whether\n",
    "it is significant, you have a good chance of generating a false\n",
    "positive.\n",
    "\n",
    "To compensate for multiple tests, you can adjust the p-value threshold\n",
    "(see <https://en.wikipedia.org/wiki/Holm-Bonferroni_method>). Or you can\n",
    "address both problems by partitioning the data, using one set for\n",
    "exploration and the other for testing."
   ]
  },
  {
   "cell_type": "markdown",
   "id": "729695dc",
   "metadata": {},
   "source": [
    "In some fields these practices are required or at least encouraged. But\n",
    "it is also common to address these problems implicitly by replicating\n",
    "published results. Typically the first paper to report a new result is\n",
    "considered exploratory. Subsequent papers that replicate the result with\n",
    "new data are considered confirmatory.\n",
    "\n",
    "As it happens, we have an opportunity to replicate the results in this\n",
    "chapter. The first edition of this book is based on Cycle 6 of the NSFG,\n",
    "which was released in 2002. In October 2011, the CDC released additional\n",
    "data based on interviews conducted from 2006--2010. `nsfg.py` contains\n",
    "code to read and clean this data. In the new dataset:\n",
    "\n",
    "-   The difference in mean pregnancy length is 0.16 weeks and\n",
    "    statistically significant with $p < 0.001$ (compared to 0.078 weeks\n",
    "    in the original dataset).\n",
    "\n",
    "-   The difference in birth weight is 0.17 pounds with $p < 0.001$\n",
    "    (compared to 0.12 lbs in the original dataset).\n",
    "\n",
    "-   The correlation between birth weight and mother's age is 0.08 with\n",
    "    $p < 0.001$ (compared to 0.07).\n",
    "\n",
    "-   The chi-squared test is statistically significant with $p < 0.001$\n",
    "    (as it was in the original).\n",
    "\n",
    "In summary, all of the effects that were statistically significant in\n",
    "the original dataset were replicated in the new dataset, and the\n",
    "difference in pregnancy length, which was not significant in the\n",
    "original, is bigger in the new dataset and significant."
   ]
  },
  {
   "cell_type": "markdown",
   "id": "6f1ff960",
   "metadata": {},
   "source": [
    "## Glossary\n",
    "\n",
    "-   **hypothesis testing**: The process of determining whether an\n",
    "    apparent effect is statistically significant.\n",
    "\n",
    "-   **test statistic**: A statistic used to quantify an effect size.\n",
    "\n",
    "-   **null hypothesis**: A model of a system based on the assumption\n",
    "    that an apparent effect is due to chance.\n",
    "\n",
    "-   **p-value**: The probability that an effect could occur by chance.\n",
    "\n",
    "-   **statistically significant**: An effect is statistically\n",
    "    significant if it is unlikely to occur by chance.\n",
    "\n",
    "-   **permutation test**: A way to compute p-values by generating\n",
    "    permutations of an observed dataset.\n",
    "\n",
    "-   **resampling test**: A way to compute p-values by generating\n",
    "    samples, with replacement, from an observed dataset.\n",
    "\n",
    "-   **two-sided test**: A test that asks, \"What is the chance of an\n",
    "    effect as big as the observed effect, positive or negative?\"\n",
    "\n",
    "-   **one-sided test**: A test that asks, \"What is the chance of an\n",
    "    effect as big as the observed effect, and with the same sign?\"\n",
    "\n",
    "-   **chi-squared test**: A test that uses the chi-squared statistic as\n",
    "    the test statistic.\n",
    "\n",
    "-   **false positive**: The conclusion that an effect is real when it is\n",
    "    not.\n",
    "\n",
    "-   **false negative**: The conclusion that an effect is due to chance\n",
    "    when it is not.\n",
    "\n",
    "-   **power**: The probability of a positive test if the null hypothesis\n",
    "    is false.\n",
    "\n",
    "[^1]: For more about Bayesian inference, see the sequel to this book,\n",
    "    *Think Bayes*.\n",
    "\n",
    "[^2]: Adapted from MacKay, *Information Theory, Inference, and Learning\n",
    "    Algorithms*, 2003."
   ]
  },
  {
   "cell_type": "markdown",
   "id": "940c93d6",
   "metadata": {},
   "source": [
    "## Exercises"
   ]
  },
  {
   "cell_type": "markdown",
   "id": "c31607e8",
   "metadata": {},
   "source": [
    "**Exercise:** As sample size increases, the power of a hypothesis test increases, which means it is more likely to be positive if the effect is real. Conversely, as sample size decreases, the test is less likely to be positive even if the effect is real.\n",
    "\n",
    "To investigate this behavior, run the tests in this chapter with different subsets of the NSFG data. You can use `thinkstats2.SampleRows` to select a random subset of the rows in a DataFrame.\n",
    "\n",
    "What happens to the p-values of these tests as sample size decreases? What is the smallest sample size that yields a positive test?"
   ]
  },
  {
   "cell_type": "code",
   "execution_count": 23,
   "id": "070d2b33",
   "metadata": {},
   "outputs": [
    {
     "data": {
      "application/javascript": [
       "\n",
       "            setTimeout(function() {\n",
       "                var nbb_cell_id = 23;\n",
       "                var nbb_unformatted_code = \"def run_tests(live, iters=1000):\\n    \\\"\\\"\\\"Runs the tests from Chapter 9 with a subset of the data.\\n\\n    live: DataFrame\\n    iters: how many iterations to run\\n    \\\"\\\"\\\"\\n    n = len(live)\\n    firsts = live[live.birthord == 1]\\n    others = live[live.birthord != 1]\\n    data = firsts.prglngth.values, others.prglngth.values\\n    ht = DiffMeansPermute(data)\\n    p1 = ht.p_value(iters=iters)\\n    data = firsts.totalwgt_lb.dropna().values, others.totalwgt_lb.dropna(\\n        ).values\\n    ht = DiffMeansPermute(data)\\n    p2 = ht.p_value(iters=iters)\\n    live2 = live.dropna(subset=['agepreg', 'totalwgt_lb'])\\n    data = live2.agepreg.values, live2.totalwgt_lb.values\\n    ht = CorrelationPermute(data)\\n    p3 = ht.p_value(iters=iters)\\n    data = firsts.prglngth.values, others.prglngth.values\\n    ht = PregLengthTest(data)\\n    p4 = ht.p_value(iters=iters)\\n    print('%d\\\\t%0.2f\\\\t%0.2f\\\\t%0.2f\\\\t%0.2f' % (n, p1, p2, p3, p4))\";\n",
       "                var nbb_formatted_code = \"def run_tests(live, iters=1000):\\n    \\\"\\\"\\\"Runs the tests from Chapter 9 with a subset of the data.\\n\\n    live: DataFrame\\n    iters: how many iterations to run\\n    \\\"\\\"\\\"\\n    n = len(live)\\n    firsts = live[live.birthord == 1]\\n    others = live[live.birthord != 1]\\n    data = firsts.prglngth.values, others.prglngth.values\\n    ht = DiffMeansPermute(data)\\n    p1 = ht.p_value(iters=iters)\\n    data = firsts.totalwgt_lb.dropna().values, others.totalwgt_lb.dropna().values\\n    ht = DiffMeansPermute(data)\\n    p2 = ht.p_value(iters=iters)\\n    live2 = live.dropna(subset=[\\\"agepreg\\\", \\\"totalwgt_lb\\\"])\\n    data = live2.agepreg.values, live2.totalwgt_lb.values\\n    ht = CorrelationPermute(data)\\n    p3 = ht.p_value(iters=iters)\\n    data = firsts.prglngth.values, others.prglngth.values\\n    ht = PregLengthTest(data)\\n    p4 = ht.p_value(iters=iters)\\n    print(\\\"%d\\\\t%0.2f\\\\t%0.2f\\\\t%0.2f\\\\t%0.2f\\\" % (n, p1, p2, p3, p4))\";\n",
       "                var nbb_cells = Jupyter.notebook.get_cells();\n",
       "                for (var i = 0; i < nbb_cells.length; ++i) {\n",
       "                    if (nbb_cells[i].input_prompt_number == nbb_cell_id) {\n",
       "                        if (nbb_cells[i].get_text() == nbb_unformatted_code) {\n",
       "                             nbb_cells[i].set_text(nbb_formatted_code);\n",
       "                        }\n",
       "                        break;\n",
       "                    }\n",
       "                }\n",
       "            }, 500);\n",
       "            "
      ],
      "text/plain": [
       "<IPython.core.display.Javascript object>"
      ]
     },
     "metadata": {},
     "output_type": "display_data"
    }
   ],
   "source": [
    "def run_tests(live, iters=1000):\n",
    "    \"\"\"Runs the tests from Chapter 9 with a subset of the data.\n",
    "\n",
    "    live: DataFrame\n",
    "    iters: how many iterations to run\n",
    "    \"\"\"\n",
    "    n = len(live)\n",
    "    firsts = live[live.birthord == 1]\n",
    "    others = live[live.birthord != 1]\n",
    "    data = firsts.prglngth.values, others.prglngth.values\n",
    "    ht = DiffMeansPermute(data)\n",
    "    p1 = ht.p_value(iters=iters)\n",
    "    data = firsts.totalwgt_lb.dropna().values, others.totalwgt_lb.dropna().values\n",
    "    ht = DiffMeansPermute(data)\n",
    "    p2 = ht.p_value(iters=iters)\n",
    "    live2 = live.dropna(subset=[\"agepreg\", \"totalwgt_lb\"])\n",
    "    data = live2.agepreg.values, live2.totalwgt_lb.values\n",
    "    ht = CorrelationPermute(data)\n",
    "    p3 = ht.p_value(iters=iters)\n",
    "    data = firsts.prglngth.values, others.prglngth.values\n",
    "    ht = PregLengthTest(data)\n",
    "    p4 = ht.p_value(iters=iters)\n",
    "    print(\"%d\\t%0.2f\\t%0.2f\\t%0.2f\\t%0.2f\" % (n, p1, p2, p3, p4))"
   ]
  },
  {
   "cell_type": "code",
   "execution_count": 24,
   "id": "7ab7fb0c",
   "metadata": {},
   "outputs": [
    {
     "name": "stdout",
     "output_type": "stream",
     "text": [
      "9148\t0.17\t0.00\t0.00\t0.00\n",
      "4574\t0.26\t0.00\t0.00\t0.00\n",
      "2287\t0.87\t0.00\t0.00\t0.00\n",
      "1143\t0.68\t0.11\t0.04\t0.00\n",
      "571\t0.24\t0.57\t0.50\t0.17\n",
      "285\t0.66\t0.15\t0.47\t0.44\n",
      "142\t0.37\t0.07\t0.01\t0.81\n"
     ]
    },
    {
     "data": {
      "application/javascript": [
       "\n",
       "            setTimeout(function() {\n",
       "                var nbb_cell_id = 24;\n",
       "                var nbb_unformatted_code = \"n = len(live)\\nfor _ in range(7):\\n    sample = thinkstats2.sample_rows(live, n)\\n    run_tests(sample)\\n    n //= 2\";\n",
       "                var nbb_formatted_code = \"n = len(live)\\nfor _ in range(7):\\n    sample = thinkstats2.sample_rows(live, n)\\n    run_tests(sample)\\n    n //= 2\";\n",
       "                var nbb_cells = Jupyter.notebook.get_cells();\n",
       "                for (var i = 0; i < nbb_cells.length; ++i) {\n",
       "                    if (nbb_cells[i].input_prompt_number == nbb_cell_id) {\n",
       "                        if (nbb_cells[i].get_text() == nbb_unformatted_code) {\n",
       "                             nbb_cells[i].set_text(nbb_formatted_code);\n",
       "                        }\n",
       "                        break;\n",
       "                    }\n",
       "                }\n",
       "            }, 500);\n",
       "            "
      ],
      "text/plain": [
       "<IPython.core.display.Javascript object>"
      ]
     },
     "metadata": {},
     "output_type": "display_data"
    }
   ],
   "source": [
    "n = len(live)\n",
    "for _ in range(7):\n",
    "    sample = thinkstats2.sample_rows(live, n)\n",
    "    run_tests(sample)\n",
    "    n //= 2"
   ]
  },
  {
   "cell_type": "markdown",
   "id": "91f4df49",
   "metadata": {},
   "source": [
    "**Exercise:** In Section 9.3, we simulated the null hypothesis by permutation; that is, we treated the observed values as if they represented the entire population, and randomly assigned the members of the population to the two groups.\n",
    "\n",
    "An alternative is to use the sample to estimate the distribution for the population, then draw a random sample from that distribution. This process is called resampling. There are several ways to implement resampling, but one of the simplest is to draw a sample with replacement from the observed values, as in Section 9.10.\n",
    "\n",
    "Write a class named `DiffMeansResample` that inherits from `DiffMeansPermute` and overrides `RunModel` to implement resampling, rather than permutation.\n",
    "\n",
    "Use this model to test the differences in pregnancy length and birth weight. How much does the model affect the results?"
   ]
  },
  {
   "cell_type": "code",
   "execution_count": 25,
   "id": "aac7aaab",
   "metadata": {},
   "outputs": [
    {
     "data": {
      "application/javascript": [
       "\n",
       "            setTimeout(function() {\n",
       "                var nbb_cell_id = 25;\n",
       "                var nbb_unformatted_code = \"class DiffMeansResample(DiffMeansPermute):\\n    \\\"\\\"\\\"Tests a difference in means using resampling.\\\"\\\"\\\"\\n\\n    def run_model(self):\\n        \\\"\\\"\\\"Run the model of the null hypothesis.\\n\\n        returns: simulated data\\n        \\\"\\\"\\\"\\n        group1 = np.random.choice(self.pool, self.n, replace=True)\\n        group2 = np.random.choice(self.pool, self.m, replace=True)\\n        return group1, group2\";\n",
       "                var nbb_formatted_code = \"class DiffMeansResample(DiffMeansPermute):\\n    \\\"\\\"\\\"Tests a difference in means using resampling.\\\"\\\"\\\"\\n\\n    def run_model(self):\\n        \\\"\\\"\\\"Run the model of the null hypothesis.\\n\\n        returns: simulated data\\n        \\\"\\\"\\\"\\n        group1 = np.random.choice(self.pool, self.n, replace=True)\\n        group2 = np.random.choice(self.pool, self.m, replace=True)\\n        return group1, group2\";\n",
       "                var nbb_cells = Jupyter.notebook.get_cells();\n",
       "                for (var i = 0; i < nbb_cells.length; ++i) {\n",
       "                    if (nbb_cells[i].input_prompt_number == nbb_cell_id) {\n",
       "                        if (nbb_cells[i].get_text() == nbb_unformatted_code) {\n",
       "                             nbb_cells[i].set_text(nbb_formatted_code);\n",
       "                        }\n",
       "                        break;\n",
       "                    }\n",
       "                }\n",
       "            }, 500);\n",
       "            "
      ],
      "text/plain": [
       "<IPython.core.display.Javascript object>"
      ]
     },
     "metadata": {},
     "output_type": "display_data"
    }
   ],
   "source": [
    "class DiffMeansResample(DiffMeansPermute):\n",
    "    \"\"\"Tests a difference in means using resampling.\"\"\"\n",
    "\n",
    "    def run_model(self):\n",
    "        \"\"\"Run the model of the null hypothesis.\n",
    "\n",
    "        returns: simulated data\n",
    "        \"\"\"\n",
    "        group1 = np.random.choice(self.pool, self.n, replace=True)\n",
    "        group2 = np.random.choice(self.pool, self.m, replace=True)\n",
    "        return group1, group2"
   ]
  },
  {
   "cell_type": "code",
   "execution_count": 26,
   "id": "241fe939",
   "metadata": {},
   "outputs": [
    {
     "data": {
      "application/javascript": [
       "\n",
       "            setTimeout(function() {\n",
       "                var nbb_cell_id = 26;\n",
       "                var nbb_unformatted_code = \"def run_resample_test(firsts, others):\\n    \\\"\\\"\\\"Tests differences in means by resampling.\\n\\n    firsts: DataFrame\\n    others: DataFrame\\n    \\\"\\\"\\\"\\n    data = firsts.prglngth.values, others.prglngth.values\\n    ht = DiffMeansResample(data)\\n    p_value = ht.p_value(iters=10000)\\n    print('\\\\ndiff means resample preglength')\\n    print('p-value =', p_value)\\n    print('actual =', ht.actual)\\n    print('ts max =', ht.max_test_stat())\\n    data = firsts.totalwgt_lb.dropna().values, others.totalwgt_lb.dropna(\\n        ).values\\n    ht = DiffMeansPermute(data)\\n    p_value = ht.p_value(iters=10000)\\n    print('\\\\ndiff means resample birthweight')\\n    print('p-value =', p_value)\\n    print('actual =', ht.actual)\\n    print('ts max =', ht.max_test_stat())\";\n",
       "                var nbb_formatted_code = \"def run_resample_test(firsts, others):\\n    \\\"\\\"\\\"Tests differences in means by resampling.\\n\\n    firsts: DataFrame\\n    others: DataFrame\\n    \\\"\\\"\\\"\\n    data = firsts.prglngth.values, others.prglngth.values\\n    ht = DiffMeansResample(data)\\n    p_value = ht.p_value(iters=10000)\\n    print(\\\"\\\\ndiff means resample preglength\\\")\\n    print(\\\"p-value =\\\", p_value)\\n    print(\\\"actual =\\\", ht.actual)\\n    print(\\\"ts max =\\\", ht.max_test_stat())\\n    data = firsts.totalwgt_lb.dropna().values, others.totalwgt_lb.dropna().values\\n    ht = DiffMeansPermute(data)\\n    p_value = ht.p_value(iters=10000)\\n    print(\\\"\\\\ndiff means resample birthweight\\\")\\n    print(\\\"p-value =\\\", p_value)\\n    print(\\\"actual =\\\", ht.actual)\\n    print(\\\"ts max =\\\", ht.max_test_stat())\";\n",
       "                var nbb_cells = Jupyter.notebook.get_cells();\n",
       "                for (var i = 0; i < nbb_cells.length; ++i) {\n",
       "                    if (nbb_cells[i].input_prompt_number == nbb_cell_id) {\n",
       "                        if (nbb_cells[i].get_text() == nbb_unformatted_code) {\n",
       "                             nbb_cells[i].set_text(nbb_formatted_code);\n",
       "                        }\n",
       "                        break;\n",
       "                    }\n",
       "                }\n",
       "            }, 500);\n",
       "            "
      ],
      "text/plain": [
       "<IPython.core.display.Javascript object>"
      ]
     },
     "metadata": {},
     "output_type": "display_data"
    }
   ],
   "source": [
    "def run_resample_test(firsts, others):\n",
    "    \"\"\"Tests differences in means by resampling.\n",
    "\n",
    "    firsts: DataFrame\n",
    "    others: DataFrame\n",
    "    \"\"\"\n",
    "    data = firsts.prglngth.values, others.prglngth.values\n",
    "    ht = DiffMeansResample(data)\n",
    "    p_value = ht.p_value(iters=10000)\n",
    "    print(\"\\ndiff means resample preglength\")\n",
    "    print(\"p-value =\", p_value)\n",
    "    print(\"actual =\", ht.actual)\n",
    "    print(\"ts max =\", ht.max_test_stat())\n",
    "    data = firsts.totalwgt_lb.dropna().values, others.totalwgt_lb.dropna().values\n",
    "    ht = DiffMeansPermute(data)\n",
    "    p_value = ht.p_value(iters=10000)\n",
    "    print(\"\\ndiff means resample birthweight\")\n",
    "    print(\"p-value =\", p_value)\n",
    "    print(\"actual =\", ht.actual)\n",
    "    print(\"ts max =\", ht.max_test_stat())"
   ]
  },
  {
   "cell_type": "code",
   "execution_count": 27,
   "id": "9c08df55",
   "metadata": {},
   "outputs": [
    {
     "name": "stdout",
     "output_type": "stream",
     "text": [
      "\n",
      "diff means resample preglength\n",
      "p-value = 0.1645\n",
      "actual = 0.07803726677754952\n",
      "ts max = 0.22159913914705953\n",
      "\n",
      "diff means resample birthweight\n",
      "p-value = 0.0001\n",
      "actual = 0.12476118453549034\n",
      "ts max = 0.1247893565360636\n"
     ]
    },
    {
     "data": {
      "application/javascript": [
       "\n",
       "            setTimeout(function() {\n",
       "                var nbb_cell_id = 27;\n",
       "                var nbb_unformatted_code = \"run_resample_test(firsts, others)\";\n",
       "                var nbb_formatted_code = \"run_resample_test(firsts, others)\";\n",
       "                var nbb_cells = Jupyter.notebook.get_cells();\n",
       "                for (var i = 0; i < nbb_cells.length; ++i) {\n",
       "                    if (nbb_cells[i].input_prompt_number == nbb_cell_id) {\n",
       "                        if (nbb_cells[i].get_text() == nbb_unformatted_code) {\n",
       "                             nbb_cells[i].set_text(nbb_formatted_code);\n",
       "                        }\n",
       "                        break;\n",
       "                    }\n",
       "                }\n",
       "            }, 500);\n",
       "            "
      ],
      "text/plain": [
       "<IPython.core.display.Javascript object>"
      ]
     },
     "metadata": {},
     "output_type": "display_data"
    }
   ],
   "source": [
    "run_resample_test(firsts, others)"
   ]
  },
  {
   "cell_type": "code",
   "execution_count": null,
   "id": "08891d42",
   "metadata": {},
   "outputs": [],
   "source": []
  }
 ],
 "metadata": {
  "kernelspec": {
   "display_name": "Python 3 (ipykernel)",
   "language": "python",
   "name": "python3"
  },
  "language_info": {
   "codemirror_mode": {
    "name": "ipython",
    "version": 3
   },
   "file_extension": ".py",
   "mimetype": "text/x-python",
   "name": "python",
   "nbconvert_exporter": "python",
   "pygments_lexer": "ipython3",
   "version": "3.10.14"
  }
 },
 "nbformat": 4,
 "nbformat_minor": 5
}
