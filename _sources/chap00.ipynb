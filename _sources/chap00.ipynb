{
 "cells": [
  {
   "cell_type": "markdown",
   "id": "f363d074",
   "metadata": {
    "tags": [
     "unnumbered"
    ]
   },
   "source": [
    "# Preface"
   ]
  },
  {
   "cell_type": "markdown",
   "id": "2cf1961c",
   "metadata": {},
   "source": [
    "From the earliest history of statistics, there have been two ideas about what statistics is. In one view, it is a branch of mathematics with the goal of establishing a theoretical foundation for probability and statistical inference.\n",
    "In another view, it is a set of tools and practices for working with data, answering questions, and making better decisions.\n",
    "Many introductory classes in statistics are based on the first view.\n",
    "This book is based on the second."
   ]
  },
  {
   "cell_type": "markdown",
   "id": "83fa4ca4",
   "metadata": {},
   "source": [
    "*Think Stats* is an introduction to practical methods for exploring and visualizing data, discovering relationships and trends, and communicating results. \n",
    "The organization of the book follows the process I use when I start working with a dataset:\n",
    "\n",
    "- Importing and cleaning: Whatever format the data is in, it usually takes some time and effort to read the data, clean and transform it, and check that everything made it through the translation process intact.\n",
    "\n",
    "- Single variable explorations: I usually start by examining one variable at a time, finding out what the variables mean, looking at distributions of the values, and choosing appropriate summary statistics.\n",
    "\n",
    "- Pair-wise explorations: To identify possible relationships between variables, I look at tables and scatter plots, and compute correlations and linear fits.\n",
    "\n",
    "- Multivariate analysis: If there are apparent relationships between variables, I use multiple regression to add control variables and investigate more complex relationships.\n",
    "\n",
    "- Estimation and hypothesis testing: When reporting statistical results, it is important to answer three questions: How big is the effect? How much variability should we expect if we run the same measurement again? Is it possible that the apparent effect is due to chance?\n",
    "\n",
    "- Visualization: During exploration, visualization is an important tool for finding possible relationships and effects. Then if an apparent effect holds up to scrutiny, visualization is an effective way to communicate results."
   ]
  },
  {
   "cell_type": "markdown",
   "id": "e73a22e0",
   "metadata": {},
   "source": [
    "This book takes a computational approach, which has several advantages over mathematical approaches:\n",
    "\n",
    "-  I present most ideas using Python code, rather than mathematical notation. In general, Python code is more readable -- also, because it is executable, run it and modify it to develop deeper understanding.\n",
    "\n",
    "-  Each chapter includes exercises readers can do to develop and solidify their learning. When you write programs, you express your understanding in code -- while you are debugging the program, you are also checking your understanding.\n",
    "\n",
    "-  Some exercises involve experiments to test statistical behavior. For example, you can explore the Central Limit Theorem (CLT) by generating random samples and computing their sums. The resulting visualizations demonstrate why the CLT works and when it doesn't.\n",
    "\n",
    "-  Some ideas that are hard to grasp mathematically are easy to understand by simulation. For example, we approximate p-values by running random simulations, which reinforces the meaning of hypothesis testing.\n",
    "\n",
    "-  Because the book is based on a general-purpose programming language (Python), readers can import data from almost any source. They are not limited to datasets that have been cleaned and formatted for a particular statistics tool."
   ]
  },
  {
   "cell_type": "markdown",
   "id": "4dd02518",
   "metadata": {},
   "source": [
    "The book lends itself to a project-based approach.\n",
    "In my class, students work on a semester-long project that requires them to pose a statistical question, find a dataset that can address it, and apply each of the techniques they learn to their own data.\n",
    "To demonstrate my approach to statistical analysis, the book presents a case study that runs through all of the chapters.\n",
    "It uses data from two sources:\n",
    "\n",
    "-  The National Survey of Family Growth (NSFG), conducted by the U.S. Centers for Disease Control and Prevention (CDC) to gather \"information on family life, marriage and divorce, pregnancy, infertility, use of contraception, and men's and women's health.\" (See <https://www.cdc.gov/nchs/nsfg/index.htm>.)\n",
    "\n",
    "-  The Behavioral Risk Factor Surveillance System (BRFSS), conducted by the National Center for Chronic Disease Prevention and Health Promotion to \"track health conditions and risk behaviors in the United States.\" (See <http://cdc.gov/BRFSS/>.)\n",
    "\n",
    "Other examples use data from the IRS, the U.S. Census, and the Boston Marathon."
   ]
  },
  {
   "cell_type": "markdown",
   "id": "8094c263",
   "metadata": {},
   "source": [
    "This third edition of *Think Stats* ... WHAT's NEW...\n"
   ]
  },
  {
   "cell_type": "markdown",
   "id": "713bf754",
   "metadata": {},
   "source": [
    "## Using the code\n",
    "\n",
    "The code and data used in this book are available from <https://github.com/AllenDowney/ThinkStats>.\n",
    "Git is a version control system that allows you to keep track of the files that make up a project.\n",
    "A collection of files under Git's control is called a **repository**.\n",
    "GitHub is a hosting service that provides storage for Git repositories and a convenient web interface.\n"
   ]
  },
  {
   "cell_type": "markdown",
   "id": "c7279831",
   "metadata": {},
   "source": [
    "All of the code is written to work in both Python 2 and Python 3 with no translation.\n",
    "I developed this book using Anaconda from Continuum Analytics, which is a free Python distribution that includes all the packages you'll need to run the code (and lots more).\n",
    "I found Anaconda easy to install.\n",
    "By default it does a user-level installation, not system-level, so you don't need administrative privileges.\n",
    "And it supports both Python 2 and Python 3.\n",
    "You can download Anaconda from <http://continuum.io/downloads>.\n",
    "\n",
    "If you don't want to use Anaconda, you will need the following packages:\n",
    "\n",
    "-  Pandas for representing and analyzing data, <http://Pandas.pydata.org/>;\n",
    "\n",
    "-  NumPy for basic numerical computation, <http://www.numpy.org/>;\n",
    "\n",
    "-  SciPy for scientific computation including statistics, <http://www.scipy.org/>;\n",
    "\n",
    "-  StatsModels for regression and other statistical analysis, <http://statsmodels.sourceforge.net/>; and\n",
    "\n",
    "-  Matplotlib for visualization, <http://matplotlib.org/>.\n",
    "\n",
    "Although these are commonly used packages, they are not included with all Python installations, and they can be hard to install in some environments.\n",
    "If you have trouble installing them, I strongly recommend using Anaconda or one of the other Python distributions that include these packages.\n",
    "After you clone the repository or unzip the zip file, you should have a folder called `ThinkStats2/code` with a file called nsfg.py.\n",
    "If you run nsfg.py, it should read a data file, run some tests, and print a message like, \"All tests passed.\" If you get import errors, it probably means there are packages you need to install."
   ]
  },
  {
   "cell_type": "markdown",
   "id": "26b2091f",
   "metadata": {},
   "source": [
    "All chapters are available in Jupyter notebooks.\n",
    "If you have not used Jupyter notebook before, I suggest you start with the documentation at <http://ipython.org/ipython-doc/stable\n",
    "otebook\n",
    "otebook.html>.\n",
    "I wrote this book assuming that the reader is familiar with core Python, including object-oriented features, but not Pandas, NumPy, and SciPy.\n",
    "If you are already familiar with these modules, you can skip a few sections.\n",
    "I assume that the reader knows basic mathematics, including logarithms, for example, and summations.\n",
    "I refer to calculus concepts in a few places, but you don't have to do any calculus.\n",
    "If you have never studied statistics, I think this book is a good place to start.\n",
    "And if you have taken a traditional statistics class, I hope this book will help repair the damage."
   ]
  },
  {
   "cell_type": "code",
   "execution_count": null,
   "id": "70094851",
   "metadata": {},
   "outputs": [],
   "source": []
  }
 ],
 "metadata": {
  "celltoolbar": "Tags",
  "kernelspec": {
   "display_name": "Python 3 (ipykernel)",
   "language": "python",
   "name": "python3"
  },
  "language_info": {
   "codemirror_mode": {
    "name": "ipython",
    "version": 3
   },
   "file_extension": ".py",
   "mimetype": "text/x-python",
   "name": "python",
   "nbconvert_exporter": "python",
   "pygments_lexer": "ipython3",
   "version": "3.10.14"
  }
 },
 "nbformat": 4,
 "nbformat_minor": 5
}
