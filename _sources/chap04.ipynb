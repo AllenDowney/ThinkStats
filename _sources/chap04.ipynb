{
 "cells": [
  {
   "cell_type": "markdown",
   "id": "2148ec88",
   "metadata": {},
   "source": [
    "# Cumulative Distribution Functions"
   ]
  },
  {
   "cell_type": "code",
   "execution_count": 2,
   "id": "b3d48912",
   "metadata": {
    "tags": [
     "hide-cell"
    ]
   },
   "outputs": [
    {
     "data": {
      "application/javascript": [
       "\n",
       "            setTimeout(function() {\n",
       "                var nbb_cell_id = 2;\n",
       "                var nbb_unformatted_code = \"from os.path import basename, exists\\n\\n\\ndef download(url):\\n    filename = basename(url)\\n    if not exists(filename):\\n        from urllib.request import urlretrieve\\n\\n        local, _ = urlretrieve(url, filename)\\n        print(\\\"Downloaded \\\" + local)\\n\\n\\ndownload(\\\"https://github.com/AllenDowney/ThinkStats/raw/v3/nb/thinkstats.py\\\")\";\n",
       "                var nbb_formatted_code = \"from os.path import basename, exists\\n\\n\\ndef download(url):\\n    filename = basename(url)\\n    if not exists(filename):\\n        from urllib.request import urlretrieve\\n\\n        local, _ = urlretrieve(url, filename)\\n        print(\\\"Downloaded \\\" + local)\\n\\n\\ndownload(\\\"https://github.com/AllenDowney/ThinkStats/raw/v3/nb/thinkstats.py\\\")\";\n",
       "                var nbb_cells = Jupyter.notebook.get_cells();\n",
       "                for (var i = 0; i < nbb_cells.length; ++i) {\n",
       "                    if (nbb_cells[i].input_prompt_number == nbb_cell_id) {\n",
       "                        if (nbb_cells[i].get_text() == nbb_unformatted_code) {\n",
       "                             nbb_cells[i].set_text(nbb_formatted_code);\n",
       "                        }\n",
       "                        break;\n",
       "                    }\n",
       "                }\n",
       "            }, 500);\n",
       "            "
      ],
      "text/plain": [
       "<IPython.core.display.Javascript object>"
      ]
     },
     "metadata": {},
     "output_type": "display_data"
    }
   ],
   "source": [
    "from os.path import basename, exists\n",
    "\n",
    "\n",
    "def download(url):\n",
    "    filename = basename(url)\n",
    "    if not exists(filename):\n",
    "        from urllib.request import urlretrieve\n",
    "\n",
    "        local, _ = urlretrieve(url, filename)\n",
    "        print(\"Downloaded \" + local)\n",
    "\n",
    "\n",
    "download(\"https://github.com/AllenDowney/ThinkStats/raw/v3/nb/thinkstats.py\")"
   ]
  },
  {
   "cell_type": "code",
   "execution_count": 3,
   "id": "162b32f7",
   "metadata": {},
   "outputs": [
    {
     "data": {
      "application/javascript": [
       "\n",
       "            setTimeout(function() {\n",
       "                var nbb_cell_id = 3;\n",
       "                var nbb_unformatted_code = \"import numpy as np\\nimport pandas as pd\\nimport matplotlib.pyplot as plt\\n\\nfrom thinkstats import decorate\";\n",
       "                var nbb_formatted_code = \"import numpy as np\\nimport pandas as pd\\nimport matplotlib.pyplot as plt\\n\\nfrom thinkstats import decorate\";\n",
       "                var nbb_cells = Jupyter.notebook.get_cells();\n",
       "                for (var i = 0; i < nbb_cells.length; ++i) {\n",
       "                    if (nbb_cells[i].input_prompt_number == nbb_cell_id) {\n",
       "                        if (nbb_cells[i].get_text() == nbb_unformatted_code) {\n",
       "                             nbb_cells[i].set_text(nbb_formatted_code);\n",
       "                        }\n",
       "                        break;\n",
       "                    }\n",
       "                }\n",
       "            }, 500);\n",
       "            "
      ],
      "text/plain": [
       "<IPython.core.display.Javascript object>"
      ]
     },
     "metadata": {},
     "output_type": "display_data"
    }
   ],
   "source": [
    "import numpy as np\n",
    "import pandas as pd\n",
    "import matplotlib.pyplot as plt\n",
    "\n",
    "from thinkstats import decorate"
   ]
  },
  {
   "cell_type": "markdown",
   "id": "68e60e56",
   "metadata": {},
   "source": [
    "## Percentiles and Percentile Ranks\n",
    "\n",
    "If you have taken a standardized test, you probably got your results in the form of a raw score and a **percentile rank**.\n",
    "In this context, the percentile rank is the percentage of people who got the same score as you or lower.\n",
    "So if you are \"in the 90th percentile,\" you did as well as or better than 90% of the people who took the exam.\n",
    "\n",
    "To understand percentiles and percentile ranks, let's consider an example based on running speeds.\n",
    "Some years ago I ran the James Joyce Ramble, which is a 10 kilometer road race in Massachusetts.\n",
    "After the race, I downloaded the results so to see how my time compared to other runners.\n",
    "The `relay.py` module provides a function that reads the results and returns a Pandas `DataFrame`."
   ]
  },
  {
   "cell_type": "code",
   "execution_count": 4,
   "id": "65e6a2a4",
   "metadata": {},
   "outputs": [
    {
     "data": {
      "application/javascript": [
       "\n",
       "            setTimeout(function() {\n",
       "                var nbb_cell_id = 4;\n",
       "                var nbb_unformatted_code = \"download(\\\"https://github.com/AllenDowney/ThinkStats/raw/v3/nb/relay.py\\\")\\ndownload(\\n    \\\"https://github.com/AllenDowney/ThinkStats/raw/v3/data/Apr25_27thAn_set1.shtml\\\"\\n)\";\n",
       "                var nbb_formatted_code = \"download(\\\"https://github.com/AllenDowney/ThinkStats/raw/v3/nb/relay.py\\\")\\ndownload(\\n    \\\"https://github.com/AllenDowney/ThinkStats/raw/v3/data/Apr25_27thAn_set1.shtml\\\"\\n)\";\n",
       "                var nbb_cells = Jupyter.notebook.get_cells();\n",
       "                for (var i = 0; i < nbb_cells.length; ++i) {\n",
       "                    if (nbb_cells[i].input_prompt_number == nbb_cell_id) {\n",
       "                        if (nbb_cells[i].get_text() == nbb_unformatted_code) {\n",
       "                             nbb_cells[i].set_text(nbb_formatted_code);\n",
       "                        }\n",
       "                        break;\n",
       "                    }\n",
       "                }\n",
       "            }, 500);\n",
       "            "
      ],
      "text/plain": [
       "<IPython.core.display.Javascript object>"
      ]
     },
     "metadata": {},
     "output_type": "display_data"
    }
   ],
   "source": [
    "download(\"https://github.com/AllenDowney/ThinkStats/raw/v3/nb/relay.py\")\n",
    "download(\n",
    "    \"https://github.com/AllenDowney/ThinkStats/raw/v3/data/Apr25_27thAn_set1.shtml\"\n",
    ")"
   ]
  },
  {
   "cell_type": "code",
   "execution_count": 5,
   "id": "909d3b27",
   "metadata": {},
   "outputs": [
    {
     "data": {
      "text/html": [
       "<div>\n",
       "<style scoped>\n",
       "    .dataframe tbody tr th:only-of-type {\n",
       "        vertical-align: middle;\n",
       "    }\n",
       "\n",
       "    .dataframe tbody tr th {\n",
       "        vertical-align: top;\n",
       "    }\n",
       "\n",
       "    .dataframe thead th {\n",
       "        text-align: right;\n",
       "    }\n",
       "</style>\n",
       "<table border=\"1\" class=\"dataframe\">\n",
       "  <thead>\n",
       "    <tr style=\"text-align: right;\">\n",
       "      <th></th>\n",
       "      <th>Place</th>\n",
       "      <th>Div/Tot</th>\n",
       "      <th>Division</th>\n",
       "      <th>Guntime</th>\n",
       "      <th>Nettime</th>\n",
       "      <th>Min/Mile</th>\n",
       "      <th>MPH</th>\n",
       "    </tr>\n",
       "  </thead>\n",
       "  <tbody>\n",
       "    <tr>\n",
       "      <th>0</th>\n",
       "      <td>1</td>\n",
       "      <td>1/362</td>\n",
       "      <td>M2039</td>\n",
       "      <td>30:43</td>\n",
       "      <td>30:42</td>\n",
       "      <td>4:57</td>\n",
       "      <td>12.121212</td>\n",
       "    </tr>\n",
       "    <tr>\n",
       "      <th>1</th>\n",
       "      <td>2</td>\n",
       "      <td>2/362</td>\n",
       "      <td>M2039</td>\n",
       "      <td>31:36</td>\n",
       "      <td>31:36</td>\n",
       "      <td>5:06</td>\n",
       "      <td>11.764706</td>\n",
       "    </tr>\n",
       "    <tr>\n",
       "      <th>2</th>\n",
       "      <td>3</td>\n",
       "      <td>3/362</td>\n",
       "      <td>M2039</td>\n",
       "      <td>31:42</td>\n",
       "      <td>31:42</td>\n",
       "      <td>5:07</td>\n",
       "      <td>11.726384</td>\n",
       "    </tr>\n",
       "    <tr>\n",
       "      <th>3</th>\n",
       "      <td>4</td>\n",
       "      <td>4/362</td>\n",
       "      <td>M2039</td>\n",
       "      <td>32:28</td>\n",
       "      <td>32:27</td>\n",
       "      <td>5:14</td>\n",
       "      <td>11.464968</td>\n",
       "    </tr>\n",
       "    <tr>\n",
       "      <th>4</th>\n",
       "      <td>5</td>\n",
       "      <td>5/362</td>\n",
       "      <td>M2039</td>\n",
       "      <td>32:52</td>\n",
       "      <td>32:52</td>\n",
       "      <td>5:18</td>\n",
       "      <td>11.320755</td>\n",
       "    </tr>\n",
       "  </tbody>\n",
       "</table>\n",
       "</div>"
      ],
      "text/plain": [
       "   Place Div/Tot Division Guntime Nettime Min/Mile        MPH\n",
       "0      1   1/362    M2039   30:43   30:42     4:57  12.121212\n",
       "1      2   2/362    M2039   31:36   31:36     5:06  11.764706\n",
       "2      3   3/362    M2039   31:42   31:42     5:07  11.726384\n",
       "3      4   4/362    M2039   32:28   32:27     5:14  11.464968\n",
       "4      5   5/362    M2039   32:52   32:52     5:18  11.320755"
      ]
     },
     "execution_count": 5,
     "metadata": {},
     "output_type": "execute_result"
    },
    {
     "data": {
      "application/javascript": [
       "\n",
       "            setTimeout(function() {\n",
       "                var nbb_cell_id = 5;\n",
       "                var nbb_unformatted_code = \"from relay import read_results\\n\\nresults = read_results()\\nresults.head()\";\n",
       "                var nbb_formatted_code = \"from relay import read_results\\n\\nresults = read_results()\\nresults.head()\";\n",
       "                var nbb_cells = Jupyter.notebook.get_cells();\n",
       "                for (var i = 0; i < nbb_cells.length; ++i) {\n",
       "                    if (nbb_cells[i].input_prompt_number == nbb_cell_id) {\n",
       "                        if (nbb_cells[i].get_text() == nbb_unformatted_code) {\n",
       "                             nbb_cells[i].set_text(nbb_formatted_code);\n",
       "                        }\n",
       "                        break;\n",
       "                    }\n",
       "                }\n",
       "            }, 500);\n",
       "            "
      ],
      "text/plain": [
       "<IPython.core.display.Javascript object>"
      ]
     },
     "metadata": {},
     "output_type": "display_data"
    }
   ],
   "source": [
    "from relay import read_results\n",
    "\n",
    "results = read_results()\n",
    "results.head()"
   ]
  },
  {
   "cell_type": "markdown",
   "id": "637bb60c",
   "metadata": {},
   "source": [
    "`results` contains one row for each of 1633 runners who finished the race.\n",
    "The column we'll use to quantify performance is `MPH`, which contains each runner's average speed in miles per hour.\n",
    "We'll select this column and use `values` to extract the speeds as a NumPy array."
   ]
  },
  {
   "cell_type": "code",
   "execution_count": 6,
   "id": "baa0dead",
   "metadata": {},
   "outputs": [
    {
     "data": {
      "application/javascript": [
       "\n",
       "            setTimeout(function() {\n",
       "                var nbb_cell_id = 6;\n",
       "                var nbb_unformatted_code = \"speeds = results[\\\"MPH\\\"].values\";\n",
       "                var nbb_formatted_code = \"speeds = results[\\\"MPH\\\"].values\";\n",
       "                var nbb_cells = Jupyter.notebook.get_cells();\n",
       "                for (var i = 0; i < nbb_cells.length; ++i) {\n",
       "                    if (nbb_cells[i].input_prompt_number == nbb_cell_id) {\n",
       "                        if (nbb_cells[i].get_text() == nbb_unformatted_code) {\n",
       "                             nbb_cells[i].set_text(nbb_formatted_code);\n",
       "                        }\n",
       "                        break;\n",
       "                    }\n",
       "                }\n",
       "            }, 500);\n",
       "            "
      ],
      "text/plain": [
       "<IPython.core.display.Javascript object>"
      ]
     },
     "metadata": {},
     "output_type": "display_data"
    }
   ],
   "source": [
    "speeds = results[\"MPH\"].values"
   ]
  },
  {
   "cell_type": "markdown",
   "id": "dddc7eac",
   "metadata": {},
   "source": [
    "I finished in 42:44, so we can find my row like this."
   ]
  },
  {
   "cell_type": "code",
   "execution_count": 7,
   "id": "3e9d1421",
   "metadata": {},
   "outputs": [
    {
     "data": {
      "text/html": [
       "<div>\n",
       "<style scoped>\n",
       "    .dataframe tbody tr th:only-of-type {\n",
       "        vertical-align: middle;\n",
       "    }\n",
       "\n",
       "    .dataframe tbody tr th {\n",
       "        vertical-align: top;\n",
       "    }\n",
       "\n",
       "    .dataframe thead th {\n",
       "        text-align: right;\n",
       "    }\n",
       "</style>\n",
       "<table border=\"1\" class=\"dataframe\">\n",
       "  <thead>\n",
       "    <tr style=\"text-align: right;\">\n",
       "      <th></th>\n",
       "      <th>Place</th>\n",
       "      <th>Div/Tot</th>\n",
       "      <th>Division</th>\n",
       "      <th>Guntime</th>\n",
       "      <th>Nettime</th>\n",
       "      <th>Min/Mile</th>\n",
       "      <th>MPH</th>\n",
       "    </tr>\n",
       "  </thead>\n",
       "  <tbody>\n",
       "    <tr>\n",
       "      <th>96</th>\n",
       "      <td>97</td>\n",
       "      <td>26/256</td>\n",
       "      <td>M4049</td>\n",
       "      <td>42:48</td>\n",
       "      <td>42:44</td>\n",
       "      <td>6:53</td>\n",
       "      <td>8.716707</td>\n",
       "    </tr>\n",
       "  </tbody>\n",
       "</table>\n",
       "</div>"
      ],
      "text/plain": [
       "    Place Div/Tot Division Guntime Nettime Min/Mile       MPH\n",
       "96     97  26/256    M4049   42:48   42:44     6:53  8.716707"
      ]
     },
     "execution_count": 7,
     "metadata": {},
     "output_type": "execute_result"
    },
    {
     "data": {
      "application/javascript": [
       "\n",
       "            setTimeout(function() {\n",
       "                var nbb_cell_id = 7;\n",
       "                var nbb_unformatted_code = \"my_result = results.query(\\\"Nettime == '42:44'\\\")\\nmy_result\";\n",
       "                var nbb_formatted_code = \"my_result = results.query(\\\"Nettime == '42:44'\\\")\\nmy_result\";\n",
       "                var nbb_cells = Jupyter.notebook.get_cells();\n",
       "                for (var i = 0; i < nbb_cells.length; ++i) {\n",
       "                    if (nbb_cells[i].input_prompt_number == nbb_cell_id) {\n",
       "                        if (nbb_cells[i].get_text() == nbb_unformatted_code) {\n",
       "                             nbb_cells[i].set_text(nbb_formatted_code);\n",
       "                        }\n",
       "                        break;\n",
       "                    }\n",
       "                }\n",
       "            }, 500);\n",
       "            "
      ],
      "text/plain": [
       "<IPython.core.display.Javascript object>"
      ]
     },
     "metadata": {},
     "output_type": "display_data"
    }
   ],
   "source": [
    "my_result = results.query(\"Nettime == '42:44'\")\n",
    "my_result"
   ]
  },
  {
   "cell_type": "markdown",
   "id": "bca670fc",
   "metadata": {},
   "source": [
    "The index of my row is 96, so we can extract my speed like this."
   ]
  },
  {
   "cell_type": "code",
   "execution_count": 8,
   "id": "017ef765",
   "metadata": {},
   "outputs": [
    {
     "data": {
      "application/javascript": [
       "\n",
       "            setTimeout(function() {\n",
       "                var nbb_cell_id = 8;\n",
       "                var nbb_unformatted_code = \"my_speed = speeds[96]\";\n",
       "                var nbb_formatted_code = \"my_speed = speeds[96]\";\n",
       "                var nbb_cells = Jupyter.notebook.get_cells();\n",
       "                for (var i = 0; i < nbb_cells.length; ++i) {\n",
       "                    if (nbb_cells[i].input_prompt_number == nbb_cell_id) {\n",
       "                        if (nbb_cells[i].get_text() == nbb_unformatted_code) {\n",
       "                             nbb_cells[i].set_text(nbb_formatted_code);\n",
       "                        }\n",
       "                        break;\n",
       "                    }\n",
       "                }\n",
       "            }, 500);\n",
       "            "
      ],
      "text/plain": [
       "<IPython.core.display.Javascript object>"
      ]
     },
     "metadata": {},
     "output_type": "display_data"
    }
   ],
   "source": [
    "my_speed = speeds[96]"
   ]
  },
  {
   "cell_type": "markdown",
   "id": "ca544c3d",
   "metadata": {},
   "source": [
    "We can use `sum` to count the number of runners at my speed or slower."
   ]
  },
  {
   "cell_type": "code",
   "execution_count": 9,
   "id": "dc321353",
   "metadata": {},
   "outputs": [
    {
     "data": {
      "text/plain": [
       "1537"
      ]
     },
     "execution_count": 9,
     "metadata": {},
     "output_type": "execute_result"
    },
    {
     "data": {
      "application/javascript": [
       "\n",
       "            setTimeout(function() {\n",
       "                var nbb_cell_id = 9;\n",
       "                var nbb_unformatted_code = \"(speeds <= my_speed).sum()\";\n",
       "                var nbb_formatted_code = \"(speeds <= my_speed).sum()\";\n",
       "                var nbb_cells = Jupyter.notebook.get_cells();\n",
       "                for (var i = 0; i < nbb_cells.length; ++i) {\n",
       "                    if (nbb_cells[i].input_prompt_number == nbb_cell_id) {\n",
       "                        if (nbb_cells[i].get_text() == nbb_unformatted_code) {\n",
       "                             nbb_cells[i].set_text(nbb_formatted_code);\n",
       "                        }\n",
       "                        break;\n",
       "                    }\n",
       "                }\n",
       "            }, 500);\n",
       "            "
      ],
      "text/plain": [
       "<IPython.core.display.Javascript object>"
      ]
     },
     "metadata": {},
     "output_type": "display_data"
    }
   ],
   "source": [
    "(speeds <= my_speed).sum()"
   ]
  },
  {
   "cell_type": "markdown",
   "id": "b8b19c0b",
   "metadata": {},
   "source": [
    "And we can use `mean` to compute the percentage of runners at my speed or slower."
   ]
  },
  {
   "cell_type": "code",
   "execution_count": 10,
   "id": "854e4f69",
   "metadata": {},
   "outputs": [
    {
     "data": {
      "text/plain": [
       "94.12124923453766"
      ]
     },
     "execution_count": 10,
     "metadata": {},
     "output_type": "execute_result"
    },
    {
     "data": {
      "application/javascript": [
       "\n",
       "            setTimeout(function() {\n",
       "                var nbb_cell_id = 10;\n",
       "                var nbb_unformatted_code = \"(speeds <= my_speed).mean() * 100\";\n",
       "                var nbb_formatted_code = \"(speeds <= my_speed).mean() * 100\";\n",
       "                var nbb_cells = Jupyter.notebook.get_cells();\n",
       "                for (var i = 0; i < nbb_cells.length; ++i) {\n",
       "                    if (nbb_cells[i].input_prompt_number == nbb_cell_id) {\n",
       "                        if (nbb_cells[i].get_text() == nbb_unformatted_code) {\n",
       "                             nbb_cells[i].set_text(nbb_formatted_code);\n",
       "                        }\n",
       "                        break;\n",
       "                    }\n",
       "                }\n",
       "            }, 500);\n",
       "            "
      ],
      "text/plain": [
       "<IPython.core.display.Javascript object>"
      ]
     },
     "metadata": {},
     "output_type": "display_data"
    }
   ],
   "source": [
    "(speeds <= my_speed).mean() * 100"
   ]
  },
  {
   "cell_type": "markdown",
   "id": "872f1011",
   "metadata": {},
   "source": [
    "The result is my percentile rank in the field, which was about 94%.\n",
    "\n",
    "More generally, the following functions computes the percentile rank of a particular value in a sequence of values."
   ]
  },
  {
   "cell_type": "code",
   "execution_count": 11,
   "id": "3341b73f",
   "metadata": {},
   "outputs": [
    {
     "data": {
      "application/javascript": [
       "\n",
       "            setTimeout(function() {\n",
       "                var nbb_cell_id = 11;\n",
       "                var nbb_unformatted_code = \"def percentile_rank(x, seq):\\n    \\\"\\\"\\\"Percentile rank of x.\\n\\n    x: value\\n    seq: sequence of values\\n\\n    returns: percentile rank 0-100\\n    \\\"\\\"\\\"\\n    return (seq <= x).mean() * 100\";\n",
       "                var nbb_formatted_code = \"def percentile_rank(x, seq):\\n    \\\"\\\"\\\"Percentile rank of x.\\n\\n    x: value\\n    seq: sequence of values\\n\\n    returns: percentile rank 0-100\\n    \\\"\\\"\\\"\\n    return (seq <= x).mean() * 100\";\n",
       "                var nbb_cells = Jupyter.notebook.get_cells();\n",
       "                for (var i = 0; i < nbb_cells.length; ++i) {\n",
       "                    if (nbb_cells[i].input_prompt_number == nbb_cell_id) {\n",
       "                        if (nbb_cells[i].get_text() == nbb_unformatted_code) {\n",
       "                             nbb_cells[i].set_text(nbb_formatted_code);\n",
       "                        }\n",
       "                        break;\n",
       "                    }\n",
       "                }\n",
       "            }, 500);\n",
       "            "
      ],
      "text/plain": [
       "<IPython.core.display.Javascript object>"
      ]
     },
     "metadata": {},
     "output_type": "display_data"
    }
   ],
   "source": [
    "def percentile_rank(x, seq):\n",
    "    \"\"\"Percentile rank of x.\n",
    "\n",
    "    x: value\n",
    "    seq: sequence of values\n",
    "\n",
    "    returns: percentile rank 0-100\n",
    "    \"\"\"\n",
    "    return (seq <= x).mean() * 100"
   ]
  },
  {
   "cell_type": "markdown",
   "id": "facb4819",
   "metadata": {},
   "source": [
    "In `results`, the `Division` column indicates the division each runner was in, identified by gender and age range -- for example, I was in the M4040 division, which includes male runners aged 40 to 49.\n",
    "We can use the `query` method to select the rows for people in my division and extract their speeds."
   ]
  },
  {
   "cell_type": "code",
   "execution_count": 12,
   "id": "32633522",
   "metadata": {},
   "outputs": [
    {
     "data": {
      "application/javascript": [
       "\n",
       "            setTimeout(function() {\n",
       "                var nbb_cell_id = 12;\n",
       "                var nbb_unformatted_code = \"my_division = results.query(\\\"Division == 'M4049'\\\")\\nmy_division_speeds = my_division[\\\"MPH\\\"].values\";\n",
       "                var nbb_formatted_code = \"my_division = results.query(\\\"Division == 'M4049'\\\")\\nmy_division_speeds = my_division[\\\"MPH\\\"].values\";\n",
       "                var nbb_cells = Jupyter.notebook.get_cells();\n",
       "                for (var i = 0; i < nbb_cells.length; ++i) {\n",
       "                    if (nbb_cells[i].input_prompt_number == nbb_cell_id) {\n",
       "                        if (nbb_cells[i].get_text() == nbb_unformatted_code) {\n",
       "                             nbb_cells[i].set_text(nbb_formatted_code);\n",
       "                        }\n",
       "                        break;\n",
       "                    }\n",
       "                }\n",
       "            }, 500);\n",
       "            "
      ],
      "text/plain": [
       "<IPython.core.display.Javascript object>"
      ]
     },
     "metadata": {},
     "output_type": "display_data"
    }
   ],
   "source": [
    "my_division = results.query(\"Division == 'M4049'\")\n",
    "my_division_speeds = my_division[\"MPH\"].values"
   ]
  },
  {
   "cell_type": "markdown",
   "id": "c4544572",
   "metadata": {},
   "source": [
    "Now we can use `percentile_rank` to compute my percentile rank in my division."
   ]
  },
  {
   "cell_type": "code",
   "execution_count": 13,
   "id": "ad01bcfb",
   "metadata": {},
   "outputs": [
    {
     "data": {
      "text/plain": [
       "90.234375"
      ]
     },
     "execution_count": 13,
     "metadata": {},
     "output_type": "execute_result"
    },
    {
     "data": {
      "application/javascript": [
       "\n",
       "            setTimeout(function() {\n",
       "                var nbb_cell_id = 13;\n",
       "                var nbb_unformatted_code = \"percentile_rank(my_speed, my_division_speeds)\";\n",
       "                var nbb_formatted_code = \"percentile_rank(my_speed, my_division_speeds)\";\n",
       "                var nbb_cells = Jupyter.notebook.get_cells();\n",
       "                for (var i = 0; i < nbb_cells.length; ++i) {\n",
       "                    if (nbb_cells[i].input_prompt_number == nbb_cell_id) {\n",
       "                        if (nbb_cells[i].get_text() == nbb_unformatted_code) {\n",
       "                             nbb_cells[i].set_text(nbb_formatted_code);\n",
       "                        }\n",
       "                        break;\n",
       "                    }\n",
       "                }\n",
       "            }, 500);\n",
       "            "
      ],
      "text/plain": [
       "<IPython.core.display.Javascript object>"
      ]
     },
     "metadata": {},
     "output_type": "display_data"
    }
   ],
   "source": [
    "percentile_rank(my_speed, my_division_speeds)"
   ]
  },
  {
   "cell_type": "markdown",
   "id": "6c442d84",
   "metadata": {},
   "source": [
    "Going in the other direction, if we are given a percentile rank, the following function finds the corresponding value in a sequence."
   ]
  },
  {
   "cell_type": "code",
   "execution_count": 14,
   "id": "9f45b897",
   "metadata": {},
   "outputs": [
    {
     "data": {
      "application/javascript": [
       "\n",
       "            setTimeout(function() {\n",
       "                var nbb_cell_id = 14;\n",
       "                var nbb_unformatted_code = \"def percentile(p, seq):\\n    n = len(seq)\\n    i = (1 - p / 100) * (n + 1)\\n    return seq[round(i)]\";\n",
       "                var nbb_formatted_code = \"def percentile(p, seq):\\n    n = len(seq)\\n    i = (1 - p / 100) * (n + 1)\\n    return seq[round(i)]\";\n",
       "                var nbb_cells = Jupyter.notebook.get_cells();\n",
       "                for (var i = 0; i < nbb_cells.length; ++i) {\n",
       "                    if (nbb_cells[i].input_prompt_number == nbb_cell_id) {\n",
       "                        if (nbb_cells[i].get_text() == nbb_unformatted_code) {\n",
       "                             nbb_cells[i].set_text(nbb_formatted_code);\n",
       "                        }\n",
       "                        break;\n",
       "                    }\n",
       "                }\n",
       "            }, 500);\n",
       "            "
      ],
      "text/plain": [
       "<IPython.core.display.Javascript object>"
      ]
     },
     "metadata": {},
     "output_type": "display_data"
    }
   ],
   "source": [
    "def percentile(p, seq):\n",
    "    n = len(seq)\n",
    "    i = (1 - p / 100) * (n + 1)\n",
    "    return seq[round(i)]"
   ]
  },
  {
   "cell_type": "markdown",
   "id": "b5a14555",
   "metadata": {},
   "source": [
    "`n` is the number of elements in the sequence; `i` is the index of the element with the given percentile rank.\n",
    "\n",
    "When we look up a percentile rank, the corresponding value is called a **percentile**."
   ]
  },
  {
   "cell_type": "code",
   "execution_count": 15,
   "id": "85c1454f",
   "metadata": {},
   "outputs": [
    {
     "data": {
      "text/plain": [
       "8.591885441527447"
      ]
     },
     "execution_count": 15,
     "metadata": {},
     "output_type": "execute_result"
    },
    {
     "data": {
      "application/javascript": [
       "\n",
       "            setTimeout(function() {\n",
       "                var nbb_cell_id = 15;\n",
       "                var nbb_unformatted_code = \"percentile(90, my_division_speeds)\";\n",
       "                var nbb_formatted_code = \"percentile(90, my_division_speeds)\";\n",
       "                var nbb_cells = Jupyter.notebook.get_cells();\n",
       "                for (var i = 0; i < nbb_cells.length; ++i) {\n",
       "                    if (nbb_cells[i].input_prompt_number == nbb_cell_id) {\n",
       "                        if (nbb_cells[i].get_text() == nbb_unformatted_code) {\n",
       "                             nbb_cells[i].set_text(nbb_formatted_code);\n",
       "                        }\n",
       "                        break;\n",
       "                    }\n",
       "                }\n",
       "            }, 500);\n",
       "            "
      ],
      "text/plain": [
       "<IPython.core.display.Javascript object>"
      ]
     },
     "metadata": {},
     "output_type": "display_data"
    }
   ],
   "source": [
    "percentile(90, my_division_speeds)"
   ]
  },
  {
   "cell_type": "markdown",
   "id": "205368e8",
   "metadata": {},
   "source": [
    "In my division, the 90th percentile was about 8.5 mph.\n",
    "\n",
    "If I am still running in 10 years (and I hope I am), I will be in the `M5059` division.\n",
    "[NOTE FOR THE THIRD EDITION: I am.]\n",
    "Assuming that my percentile rank in my division is the same, how much slower should I expect to be?\n",
    "We can answer that question by converting my percentile rank in the `M4049` division, which is about 90.2%, to a speed in the `M5059` division."
   ]
  },
  {
   "cell_type": "code",
   "execution_count": 16,
   "id": "53712a8d",
   "metadata": {},
   "outputs": [
    {
     "data": {
      "text/plain": [
       "8.017817371937639"
      ]
     },
     "execution_count": 16,
     "metadata": {},
     "output_type": "execute_result"
    },
    {
     "data": {
      "application/javascript": [
       "\n",
       "            setTimeout(function() {\n",
       "                var nbb_cell_id = 16;\n",
       "                var nbb_unformatted_code = \"next_division = results.query(\\\"Division == 'M5059'\\\")\\nnext_division_speeds = next_division[\\\"MPH\\\"].values\\n\\npercentile(90.2, next_division_speeds)\";\n",
       "                var nbb_formatted_code = \"next_division = results.query(\\\"Division == 'M5059'\\\")\\nnext_division_speeds = next_division[\\\"MPH\\\"].values\\n\\npercentile(90.2, next_division_speeds)\";\n",
       "                var nbb_cells = Jupyter.notebook.get_cells();\n",
       "                for (var i = 0; i < nbb_cells.length; ++i) {\n",
       "                    if (nbb_cells[i].input_prompt_number == nbb_cell_id) {\n",
       "                        if (nbb_cells[i].get_text() == nbb_unformatted_code) {\n",
       "                             nbb_cells[i].set_text(nbb_formatted_code);\n",
       "                        }\n",
       "                        break;\n",
       "                    }\n",
       "                }\n",
       "            }, 500);\n",
       "            "
      ],
      "text/plain": [
       "<IPython.core.display.Javascript object>"
      ]
     },
     "metadata": {},
     "output_type": "display_data"
    }
   ],
   "source": [
    "next_division = results.query(\"Division == 'M5059'\")\n",
    "next_division_speeds = next_division[\"MPH\"].values\n",
    "\n",
    "percentile(90.2, next_division_speeds)"
   ]
  },
  {
   "cell_type": "markdown",
   "id": "f7568f74",
   "metadata": {},
   "source": [
    "The person in the `M5059` division with the same percentile rank as me ran just over 8 mph.\n",
    "We can use `query` to find him."
   ]
  },
  {
   "cell_type": "code",
   "execution_count": 17,
   "id": "d8ca85d6",
   "metadata": {},
   "outputs": [
    {
     "data": {
      "text/html": [
       "<div>\n",
       "<style scoped>\n",
       "    .dataframe tbody tr th:only-of-type {\n",
       "        vertical-align: middle;\n",
       "    }\n",
       "\n",
       "    .dataframe tbody tr th {\n",
       "        vertical-align: top;\n",
       "    }\n",
       "\n",
       "    .dataframe thead th {\n",
       "        text-align: right;\n",
       "    }\n",
       "</style>\n",
       "<table border=\"1\" class=\"dataframe\">\n",
       "  <thead>\n",
       "    <tr style=\"text-align: right;\">\n",
       "      <th></th>\n",
       "      <th>Place</th>\n",
       "      <th>Div/Tot</th>\n",
       "      <th>Division</th>\n",
       "      <th>Guntime</th>\n",
       "      <th>Nettime</th>\n",
       "      <th>Min/Mile</th>\n",
       "      <th>MPH</th>\n",
       "    </tr>\n",
       "  </thead>\n",
       "  <tbody>\n",
       "    <tr>\n",
       "      <th>222</th>\n",
       "      <td>223</td>\n",
       "      <td>18/171</td>\n",
       "      <td>M5059</td>\n",
       "      <td>46:30</td>\n",
       "      <td>46:25</td>\n",
       "      <td>7:29</td>\n",
       "      <td>8.017817</td>\n",
       "    </tr>\n",
       "  </tbody>\n",
       "</table>\n",
       "</div>"
      ],
      "text/plain": [
       "     Place Div/Tot Division Guntime Nettime Min/Mile       MPH\n",
       "222    223  18/171    M5059   46:30   46:25     7:29  8.017817"
      ]
     },
     "execution_count": 17,
     "metadata": {},
     "output_type": "execute_result"
    },
    {
     "data": {
      "application/javascript": [
       "\n",
       "            setTimeout(function() {\n",
       "                var nbb_cell_id = 17;\n",
       "                var nbb_unformatted_code = \"next_division.query(\\\"MPH > 8.01\\\").tail(1)\";\n",
       "                var nbb_formatted_code = \"next_division.query(\\\"MPH > 8.01\\\").tail(1)\";\n",
       "                var nbb_cells = Jupyter.notebook.get_cells();\n",
       "                for (var i = 0; i < nbb_cells.length; ++i) {\n",
       "                    if (nbb_cells[i].input_prompt_number == nbb_cell_id) {\n",
       "                        if (nbb_cells[i].get_text() == nbb_unformatted_code) {\n",
       "                             nbb_cells[i].set_text(nbb_formatted_code);\n",
       "                        }\n",
       "                        break;\n",
       "                    }\n",
       "                }\n",
       "            }, 500);\n",
       "            "
      ],
      "text/plain": [
       "<IPython.core.display.Javascript object>"
      ]
     },
     "metadata": {},
     "output_type": "display_data"
    }
   ],
   "source": [
    "next_division.query(\"MPH > 8.01\").tail(1)"
   ]
  },
  {
   "cell_type": "markdown",
   "id": "8296a0a9",
   "metadata": {},
   "source": [
    "He finished in 46:25 and came in 18th out of 171 people in his division.\n",
    "\n",
    "The goal of these examples is to introduce percentile ranks and percentiles, which are the key to understanding cumulative distribution functions."
   ]
  },
  {
   "cell_type": "markdown",
   "id": "243f1bc9",
   "metadata": {},
   "source": [
    "## CDFs\n",
    "\n",
    "A **cumulative distribution function**, or CDF, is a way to describe the distribution of a set of values.\n",
    "Given a value `x`, the CDF computes the fraction of values less than or equal to `x`.\n",
    "As an example, we'll start with a short sequence."
   ]
  },
  {
   "cell_type": "code",
   "execution_count": 18,
   "id": "a092f3ac",
   "metadata": {},
   "outputs": [
    {
     "data": {
      "application/javascript": [
       "\n",
       "            setTimeout(function() {\n",
       "                var nbb_cell_id = 18;\n",
       "                var nbb_unformatted_code = \"t = [1, 2, 2, 3, 5]\";\n",
       "                var nbb_formatted_code = \"t = [1, 2, 2, 3, 5]\";\n",
       "                var nbb_cells = Jupyter.notebook.get_cells();\n",
       "                for (var i = 0; i < nbb_cells.length; ++i) {\n",
       "                    if (nbb_cells[i].input_prompt_number == nbb_cell_id) {\n",
       "                        if (nbb_cells[i].get_text() == nbb_unformatted_code) {\n",
       "                             nbb_cells[i].set_text(nbb_formatted_code);\n",
       "                        }\n",
       "                        break;\n",
       "                    }\n",
       "                }\n",
       "            }, 500);\n",
       "            "
      ],
      "text/plain": [
       "<IPython.core.display.Javascript object>"
      ]
     },
     "metadata": {},
     "output_type": "display_data"
    }
   ],
   "source": [
    "t = [1, 2, 2, 3, 5]"
   ]
  },
  {
   "cell_type": "markdown",
   "id": "d38c77c5",
   "metadata": {},
   "source": [
    "One way to compute a CDF is to start with a PMF.\n",
    "Here is a `Pmf` object that represents the distribution of values in `t`."
   ]
  },
  {
   "cell_type": "code",
   "execution_count": 19,
   "id": "fd9f1139",
   "metadata": {},
   "outputs": [
    {
     "data": {
      "text/html": [
       "<div>\n",
       "<style scoped>\n",
       "    .dataframe tbody tr th:only-of-type {\n",
       "        vertical-align: middle;\n",
       "    }\n",
       "\n",
       "    .dataframe tbody tr th {\n",
       "        vertical-align: top;\n",
       "    }\n",
       "\n",
       "    .dataframe thead th {\n",
       "        text-align: right;\n",
       "    }\n",
       "</style>\n",
       "<table border=\"1\" class=\"dataframe\">\n",
       "  <thead>\n",
       "    <tr style=\"text-align: right;\">\n",
       "      <th></th>\n",
       "      <th>probs</th>\n",
       "    </tr>\n",
       "  </thead>\n",
       "  <tbody>\n",
       "    <tr>\n",
       "      <th>1</th>\n",
       "      <td>0.2</td>\n",
       "    </tr>\n",
       "    <tr>\n",
       "      <th>2</th>\n",
       "      <td>0.4</td>\n",
       "    </tr>\n",
       "    <tr>\n",
       "      <th>3</th>\n",
       "      <td>0.2</td>\n",
       "    </tr>\n",
       "    <tr>\n",
       "      <th>5</th>\n",
       "      <td>0.2</td>\n",
       "    </tr>\n",
       "  </tbody>\n",
       "</table>\n",
       "</div>"
      ],
      "text/plain": [
       "1    0.2\n",
       "2    0.4\n",
       "3    0.2\n",
       "5    0.2\n",
       "Name: , dtype: float64"
      ]
     },
     "execution_count": 19,
     "metadata": {},
     "output_type": "execute_result"
    },
    {
     "data": {
      "application/javascript": [
       "\n",
       "            setTimeout(function() {\n",
       "                var nbb_cell_id = 19;\n",
       "                var nbb_unformatted_code = \"from empiricaldist import Pmf\\n\\npmf = Pmf.from_seq(t)\\npmf\";\n",
       "                var nbb_formatted_code = \"from empiricaldist import Pmf\\n\\npmf = Pmf.from_seq(t)\\npmf\";\n",
       "                var nbb_cells = Jupyter.notebook.get_cells();\n",
       "                for (var i = 0; i < nbb_cells.length; ++i) {\n",
       "                    if (nbb_cells[i].input_prompt_number == nbb_cell_id) {\n",
       "                        if (nbb_cells[i].get_text() == nbb_unformatted_code) {\n",
       "                             nbb_cells[i].set_text(nbb_formatted_code);\n",
       "                        }\n",
       "                        break;\n",
       "                    }\n",
       "                }\n",
       "            }, 500);\n",
       "            "
      ],
      "text/plain": [
       "<IPython.core.display.Javascript object>"
      ]
     },
     "metadata": {},
     "output_type": "display_data"
    }
   ],
   "source": [
    "from empiricaldist import Pmf\n",
    "\n",
    "pmf = Pmf.from_seq(t)\n",
    "pmf"
   ]
  },
  {
   "cell_type": "markdown",
   "id": "5e3d4d35",
   "metadata": {},
   "source": [
    "We can use the bracket operator to look up a value in a `Pmf`."
   ]
  },
  {
   "cell_type": "code",
   "execution_count": 20,
   "id": "69a98cf6",
   "metadata": {},
   "outputs": [
    {
     "data": {
      "text/plain": [
       "0.4"
      ]
     },
     "execution_count": 20,
     "metadata": {},
     "output_type": "execute_result"
    },
    {
     "data": {
      "application/javascript": [
       "\n",
       "            setTimeout(function() {\n",
       "                var nbb_cell_id = 20;\n",
       "                var nbb_unformatted_code = \"pmf[2]\";\n",
       "                var nbb_formatted_code = \"pmf[2]\";\n",
       "                var nbb_cells = Jupyter.notebook.get_cells();\n",
       "                for (var i = 0; i < nbb_cells.length; ++i) {\n",
       "                    if (nbb_cells[i].input_prompt_number == nbb_cell_id) {\n",
       "                        if (nbb_cells[i].get_text() == nbb_unformatted_code) {\n",
       "                             nbb_cells[i].set_text(nbb_formatted_code);\n",
       "                        }\n",
       "                        break;\n",
       "                    }\n",
       "                }\n",
       "            }, 500);\n",
       "            "
      ],
      "text/plain": [
       "<IPython.core.display.Javascript object>"
      ]
     },
     "metadata": {},
     "output_type": "display_data"
    }
   ],
   "source": [
    "pmf[2]"
   ]
  },
  {
   "cell_type": "markdown",
   "id": "d66c3383",
   "metadata": {},
   "source": [
    "The result is the proportion of values in the sequence equal to the given value.\n",
    "In this example, two out of five values are equal to `2`, so the result is 0.4, which is two fifths.\n",
    "We can also think of this proportion as the probability that a randomly chosen value from the sequence equals `2`.\n",
    "\n",
    "`Pmf` has a `make_cdf` method that computes the cumulative sum of the probabilities in the `Pmf`."
   ]
  },
  {
   "cell_type": "code",
   "execution_count": 21,
   "id": "0d211f25",
   "metadata": {},
   "outputs": [
    {
     "data": {
      "text/html": [
       "<div>\n",
       "<style scoped>\n",
       "    .dataframe tbody tr th:only-of-type {\n",
       "        vertical-align: middle;\n",
       "    }\n",
       "\n",
       "    .dataframe tbody tr th {\n",
       "        vertical-align: top;\n",
       "    }\n",
       "\n",
       "    .dataframe thead th {\n",
       "        text-align: right;\n",
       "    }\n",
       "</style>\n",
       "<table border=\"1\" class=\"dataframe\">\n",
       "  <thead>\n",
       "    <tr style=\"text-align: right;\">\n",
       "      <th></th>\n",
       "      <th>probs</th>\n",
       "    </tr>\n",
       "  </thead>\n",
       "  <tbody>\n",
       "    <tr>\n",
       "      <th>1</th>\n",
       "      <td>0.2</td>\n",
       "    </tr>\n",
       "    <tr>\n",
       "      <th>2</th>\n",
       "      <td>0.6</td>\n",
       "    </tr>\n",
       "    <tr>\n",
       "      <th>3</th>\n",
       "      <td>0.8</td>\n",
       "    </tr>\n",
       "    <tr>\n",
       "      <th>5</th>\n",
       "      <td>1.0</td>\n",
       "    </tr>\n",
       "  </tbody>\n",
       "</table>\n",
       "</div>"
      ],
      "text/plain": [
       "1    0.2\n",
       "2    0.6\n",
       "3    0.8\n",
       "5    1.0\n",
       "Name: , dtype: float64"
      ]
     },
     "execution_count": 21,
     "metadata": {},
     "output_type": "execute_result"
    },
    {
     "data": {
      "application/javascript": [
       "\n",
       "            setTimeout(function() {\n",
       "                var nbb_cell_id = 21;\n",
       "                var nbb_unformatted_code = \"cdf = pmf.make_cdf()\\ncdf\";\n",
       "                var nbb_formatted_code = \"cdf = pmf.make_cdf()\\ncdf\";\n",
       "                var nbb_cells = Jupyter.notebook.get_cells();\n",
       "                for (var i = 0; i < nbb_cells.length; ++i) {\n",
       "                    if (nbb_cells[i].input_prompt_number == nbb_cell_id) {\n",
       "                        if (nbb_cells[i].get_text() == nbb_unformatted_code) {\n",
       "                             nbb_cells[i].set_text(nbb_formatted_code);\n",
       "                        }\n",
       "                        break;\n",
       "                    }\n",
       "                }\n",
       "            }, 500);\n",
       "            "
      ],
      "text/plain": [
       "<IPython.core.display.Javascript object>"
      ]
     },
     "metadata": {},
     "output_type": "display_data"
    }
   ],
   "source": [
    "cdf = pmf.make_cdf()\n",
    "cdf"
   ]
  },
  {
   "cell_type": "markdown",
   "id": "930f1764",
   "metadata": {},
   "source": [
    "The result is a `Cdf` object, which is a kind of Pandas `Series`.\n",
    "We can use the bracket operator to look up a value."
   ]
  },
  {
   "cell_type": "code",
   "execution_count": 22,
   "id": "0040ec4c",
   "metadata": {},
   "outputs": [
    {
     "data": {
      "text/plain": [
       "0.6000000000000001"
      ]
     },
     "execution_count": 22,
     "metadata": {},
     "output_type": "execute_result"
    },
    {
     "data": {
      "application/javascript": [
       "\n",
       "            setTimeout(function() {\n",
       "                var nbb_cell_id = 22;\n",
       "                var nbb_unformatted_code = \"cdf[2]\";\n",
       "                var nbb_formatted_code = \"cdf[2]\";\n",
       "                var nbb_cells = Jupyter.notebook.get_cells();\n",
       "                for (var i = 0; i < nbb_cells.length; ++i) {\n",
       "                    if (nbb_cells[i].input_prompt_number == nbb_cell_id) {\n",
       "                        if (nbb_cells[i].get_text() == nbb_unformatted_code) {\n",
       "                             nbb_cells[i].set_text(nbb_formatted_code);\n",
       "                        }\n",
       "                        break;\n",
       "                    }\n",
       "                }\n",
       "            }, 500);\n",
       "            "
      ],
      "text/plain": [
       "<IPython.core.display.Javascript object>"
      ]
     },
     "metadata": {},
     "output_type": "display_data"
    }
   ],
   "source": [
    "cdf[2]"
   ]
  },
  {
   "cell_type": "markdown",
   "id": "33994391",
   "metadata": {},
   "source": [
    "The result is the proportion of values in the sequence less than or equal to the given value. In this example, three out of five of the values in the sequence are less than or equal to `2`, so the result is 0.6, which is three fifths.\n",
    "We can also think of this proportion as the probability that a randomly chosen value from the sequence is less than or equal to `2`.\n",
    "\n",
    "We can also use parentheses to call the `Cdf` object like a function."
   ]
  },
  {
   "cell_type": "code",
   "execution_count": 23,
   "id": "047f5500",
   "metadata": {},
   "outputs": [
    {
     "data": {
      "text/plain": [
       "array(0.8)"
      ]
     },
     "execution_count": 23,
     "metadata": {},
     "output_type": "execute_result"
    },
    {
     "data": {
      "application/javascript": [
       "\n",
       "            setTimeout(function() {\n",
       "                var nbb_cell_id = 23;\n",
       "                var nbb_unformatted_code = \"cdf(3)\";\n",
       "                var nbb_formatted_code = \"cdf(3)\";\n",
       "                var nbb_cells = Jupyter.notebook.get_cells();\n",
       "                for (var i = 0; i < nbb_cells.length; ++i) {\n",
       "                    if (nbb_cells[i].input_prompt_number == nbb_cell_id) {\n",
       "                        if (nbb_cells[i].get_text() == nbb_unformatted_code) {\n",
       "                             nbb_cells[i].set_text(nbb_formatted_code);\n",
       "                        }\n",
       "                        break;\n",
       "                    }\n",
       "                }\n",
       "            }, 500);\n",
       "            "
      ],
      "text/plain": [
       "<IPython.core.display.Javascript object>"
      ]
     },
     "metadata": {},
     "output_type": "display_data"
    }
   ],
   "source": [
    "cdf(3)"
   ]
  },
  {
   "cell_type": "markdown",
   "id": "07cfb95f",
   "metadata": {},
   "source": [
    "The cumulative distribution function is defined for all numbers, not just the ones that appear in the sequence."
   ]
  },
  {
   "cell_type": "code",
   "execution_count": 24,
   "id": "678d627d",
   "metadata": {},
   "outputs": [
    {
     "data": {
      "text/plain": [
       "array(0.8)"
      ]
     },
     "execution_count": 24,
     "metadata": {},
     "output_type": "execute_result"
    },
    {
     "data": {
      "application/javascript": [
       "\n",
       "            setTimeout(function() {\n",
       "                var nbb_cell_id = 24;\n",
       "                var nbb_unformatted_code = \"cdf(4)\";\n",
       "                var nbb_formatted_code = \"cdf(4)\";\n",
       "                var nbb_cells = Jupyter.notebook.get_cells();\n",
       "                for (var i = 0; i < nbb_cells.length; ++i) {\n",
       "                    if (nbb_cells[i].input_prompt_number == nbb_cell_id) {\n",
       "                        if (nbb_cells[i].get_text() == nbb_unformatted_code) {\n",
       "                             nbb_cells[i].set_text(nbb_formatted_code);\n",
       "                        }\n",
       "                        break;\n",
       "                    }\n",
       "                }\n",
       "            }, 500);\n",
       "            "
      ],
      "text/plain": [
       "<IPython.core.display.Javascript object>"
      ]
     },
     "metadata": {},
     "output_type": "display_data"
    }
   ],
   "source": [
    "cdf(4)"
   ]
  },
  {
   "cell_type": "markdown",
   "id": "5655c54c",
   "metadata": {},
   "source": [
    "To visualize the `Cdf`, we can use the `step` method, which plots the `Cdf` as a step function."
   ]
  },
  {
   "cell_type": "code",
   "execution_count": 25,
   "id": "a7bcf6ac",
   "metadata": {},
   "outputs": [
    {
     "data": {
      "image/png": "[encoded data removed]",
      "text/plain": [
       "<Figure size 640x480 with 1 Axes>"
      ]
     },
     "metadata": {},
     "output_type": "display_data"
    },
    {
     "data": {
      "application/javascript": [
       "\n",
       "            setTimeout(function() {\n",
       "                var nbb_cell_id = 25;\n",
       "                var nbb_unformatted_code = \"cdf.step()\\ndecorate(xlabel=\\\"x\\\", ylabel=\\\"CDF\\\")\";\n",
       "                var nbb_formatted_code = \"cdf.step()\\ndecorate(xlabel=\\\"x\\\", ylabel=\\\"CDF\\\")\";\n",
       "                var nbb_cells = Jupyter.notebook.get_cells();\n",
       "                for (var i = 0; i < nbb_cells.length; ++i) {\n",
       "                    if (nbb_cells[i].input_prompt_number == nbb_cell_id) {\n",
       "                        if (nbb_cells[i].get_text() == nbb_unformatted_code) {\n",
       "                             nbb_cells[i].set_text(nbb_formatted_code);\n",
       "                        }\n",
       "                        break;\n",
       "                    }\n",
       "                }\n",
       "            }, 500);\n",
       "            "
      ],
      "text/plain": [
       "<IPython.core.display.Javascript object>"
      ]
     },
     "metadata": {},
     "output_type": "display_data"
    }
   ],
   "source": [
    "cdf.step()\n",
    "decorate(xlabel=\"x\", ylabel=\"CDF\")"
   ]
  },
  {
   "cell_type": "markdown",
   "id": "7c3e26c6",
   "metadata": {},
   "source": [
    "As a second example, let's make a `Cdf` that represents the distribution of running speeds from the previous section.\n",
    "The `Cdf` class that provides a `from_seq` function we can use to create a `Cdf` object from a sequence, without making a `Pmf` first."
   ]
  },
  {
   "cell_type": "code",
   "execution_count": 26,
   "id": "aca0071e",
   "metadata": {},
   "outputs": [
    {
     "data": {
      "application/javascript": [
       "\n",
       "            setTimeout(function() {\n",
       "                var nbb_cell_id = 26;\n",
       "                var nbb_unformatted_code = \"from empiricaldist import Cdf\\n\\ncdf_speeds = Cdf.from_seq(speeds)\";\n",
       "                var nbb_formatted_code = \"from empiricaldist import Cdf\\n\\ncdf_speeds = Cdf.from_seq(speeds)\";\n",
       "                var nbb_cells = Jupyter.notebook.get_cells();\n",
       "                for (var i = 0; i < nbb_cells.length; ++i) {\n",
       "                    if (nbb_cells[i].input_prompt_number == nbb_cell_id) {\n",
       "                        if (nbb_cells[i].get_text() == nbb_unformatted_code) {\n",
       "                             nbb_cells[i].set_text(nbb_formatted_code);\n",
       "                        }\n",
       "                        break;\n",
       "                    }\n",
       "                }\n",
       "            }, 500);\n",
       "            "
      ],
      "text/plain": [
       "<IPython.core.display.Javascript object>"
      ]
     },
     "metadata": {},
     "output_type": "display_data"
    }
   ],
   "source": [
    "from empiricaldist import Cdf\n",
    "\n",
    "cdf_speeds = Cdf.from_seq(speeds)"
   ]
  },
  {
   "cell_type": "markdown",
   "id": "8e26481d",
   "metadata": {},
   "source": [
    "And here's what it looks like."
   ]
  },
  {
   "cell_type": "code",
   "execution_count": 27,
   "id": "b647b551",
   "metadata": {},
   "outputs": [
    {
     "data": {
      "image/png": "[encoded data removed]",
      "text/plain": [
       "<Figure size 640x480 with 1 Axes>"
      ]
     },
     "metadata": {},
     "output_type": "display_data"
    },
    {
     "data": {
      "application/javascript": [
       "\n",
       "            setTimeout(function() {\n",
       "                var nbb_cell_id = 27;\n",
       "                var nbb_unformatted_code = \"cdf_speeds.step()\\ndecorate(xlabel=\\\"Speed (mph)\\\", ylabel=\\\"CDF\\\")\";\n",
       "                var nbb_formatted_code = \"cdf_speeds.step()\\ndecorate(xlabel=\\\"Speed (mph)\\\", ylabel=\\\"CDF\\\")\";\n",
       "                var nbb_cells = Jupyter.notebook.get_cells();\n",
       "                for (var i = 0; i < nbb_cells.length; ++i) {\n",
       "                    if (nbb_cells[i].input_prompt_number == nbb_cell_id) {\n",
       "                        if (nbb_cells[i].get_text() == nbb_unformatted_code) {\n",
       "                             nbb_cells[i].set_text(nbb_formatted_code);\n",
       "                        }\n",
       "                        break;\n",
       "                    }\n",
       "                }\n",
       "            }, 500);\n",
       "            "
      ],
      "text/plain": [
       "<IPython.core.display.Javascript object>"
      ]
     },
     "metadata": {},
     "output_type": "display_data"
    }
   ],
   "source": [
    "cdf_speeds.step()\n",
    "decorate(xlabel=\"Speed (mph)\", ylabel=\"CDF\")"
   ]
  },
  {
   "cell_type": "markdown",
   "id": "99c45793",
   "metadata": {},
   "source": [
    "If we look up my speed, the result is the fraction of runners at my speed or slower.\n",
    "If we multiply by 100, we get my percentile rank."
   ]
  },
  {
   "cell_type": "code",
   "execution_count": 28,
   "id": "356e4321",
   "metadata": {},
   "outputs": [
    {
     "data": {
      "text/plain": [
       "94.12124923453766"
      ]
     },
     "execution_count": 28,
     "metadata": {},
     "output_type": "execute_result"
    },
    {
     "data": {
      "application/javascript": [
       "\n",
       "            setTimeout(function() {\n",
       "                var nbb_cell_id = 28;\n",
       "                var nbb_unformatted_code = \"cdf_speeds(my_speed) * 100\";\n",
       "                var nbb_formatted_code = \"cdf_speeds(my_speed) * 100\";\n",
       "                var nbb_cells = Jupyter.notebook.get_cells();\n",
       "                for (var i = 0; i < nbb_cells.length; ++i) {\n",
       "                    if (nbb_cells[i].input_prompt_number == nbb_cell_id) {\n",
       "                        if (nbb_cells[i].get_text() == nbb_unformatted_code) {\n",
       "                             nbb_cells[i].set_text(nbb_formatted_code);\n",
       "                        }\n",
       "                        break;\n",
       "                    }\n",
       "                }\n",
       "            }, 500);\n",
       "            "
      ],
      "text/plain": [
       "<IPython.core.display.Javascript object>"
      ]
     },
     "metadata": {},
     "output_type": "display_data"
    }
   ],
   "source": [
    "cdf_speeds(my_speed) * 100"
   ]
  },
  {
   "cell_type": "markdown",
   "id": "a7b291b0",
   "metadata": {},
   "source": [
    "So that's one way to think about the `Cdf` -- given a value, it computes something like a percentile rank, except that it's a proportion between 0 and 1 rather than a percentage between 0 and 100.\n",
    "\n",
    "`Cdf` provides an `inverse` method that computes the inverse of the cumulative distribution function -- given a proportion between 0 and 1, it finds the corresponding value.\n",
    "\n",
    "For example, if someone says they ran as fast or faster than 50% of the field, we can find their speed like this."
   ]
  },
  {
   "cell_type": "code",
   "execution_count": 29,
   "id": "1b78eb6a",
   "metadata": {},
   "outputs": [
    {
     "data": {
      "text/plain": [
       "array(6.70391061)"
      ]
     },
     "execution_count": 29,
     "metadata": {},
     "output_type": "execute_result"
    },
    {
     "data": {
      "application/javascript": [
       "\n",
       "            setTimeout(function() {\n",
       "                var nbb_cell_id = 29;\n",
       "                var nbb_unformatted_code = \"cdf_speeds.inverse(0.5)\";\n",
       "                var nbb_formatted_code = \"cdf_speeds.inverse(0.5)\";\n",
       "                var nbb_cells = Jupyter.notebook.get_cells();\n",
       "                for (var i = 0; i < nbb_cells.length; ++i) {\n",
       "                    if (nbb_cells[i].input_prompt_number == nbb_cell_id) {\n",
       "                        if (nbb_cells[i].get_text() == nbb_unformatted_code) {\n",
       "                             nbb_cells[i].set_text(nbb_formatted_code);\n",
       "                        }\n",
       "                        break;\n",
       "                    }\n",
       "                }\n",
       "            }, 500);\n",
       "            "
      ],
      "text/plain": [
       "<IPython.core.display.Javascript object>"
      ]
     },
     "metadata": {},
     "output_type": "display_data"
    }
   ],
   "source": [
    "cdf_speeds.inverse(0.5)"
   ]
  },
  {
   "cell_type": "markdown",
   "id": "98533954",
   "metadata": {},
   "source": [
    "If you have a proportion and you use the inverse CDF to find the corresponding value, the result is called a **quantile** -- so the inverse CDF is sometimes called the quantile function.\n",
    "\n",
    "If have have a quantile and you use the CDF to find the corresponding proportion, the result doesn't really have a name, strangely.\n",
    "To be consistent with percentile and percentile rank\", it could be called a \"quantile rank\", but as far as I can tell, no one calls it that.\n",
    "Most often, it is called a **cumulative probability**."
   ]
  },
  {
   "cell_type": "markdown",
   "id": "3bed54d9",
   "metadata": {},
   "source": [
    "## Comparing CDFs\n",
    "\n",
    "CDFs are especially useful for comparing distributions.\n",
    "As an example, let's compare the distribution of birth weights for first babies and others.\n",
    "We'll load the NSFG dataset again, and divide it into three `DataFrames`: all live births, first babies, and others."
   ]
  },
  {
   "cell_type": "code",
   "execution_count": 30,
   "id": "d2dfe8e8",
   "metadata": {},
   "outputs": [
    {
     "data": {
      "application/javascript": [
       "\n",
       "            setTimeout(function() {\n",
       "                var nbb_cell_id = 30;\n",
       "                var nbb_unformatted_code = \"download(\\\"https://github.com/AllenDowney/ThinkStats/raw/v3/nb/nsfg.py\\\")\\ndownload(\\\"https://github.com/AllenDowney/ThinkStats/raw/v3/data/2002FemPreg.dct\\\")\\ndownload(\\\"https://github.com/AllenDowney/ThinkStats/raw/v3/data/2002FemPreg.dat.gz\\\")\";\n",
       "                var nbb_formatted_code = \"download(\\\"https://github.com/AllenDowney/ThinkStats/raw/v3/nb/nsfg.py\\\")\\ndownload(\\\"https://github.com/AllenDowney/ThinkStats/raw/v3/data/2002FemPreg.dct\\\")\\ndownload(\\\"https://github.com/AllenDowney/ThinkStats/raw/v3/data/2002FemPreg.dat.gz\\\")\";\n",
       "                var nbb_cells = Jupyter.notebook.get_cells();\n",
       "                for (var i = 0; i < nbb_cells.length; ++i) {\n",
       "                    if (nbb_cells[i].input_prompt_number == nbb_cell_id) {\n",
       "                        if (nbb_cells[i].get_text() == nbb_unformatted_code) {\n",
       "                             nbb_cells[i].set_text(nbb_formatted_code);\n",
       "                        }\n",
       "                        break;\n",
       "                    }\n",
       "                }\n",
       "            }, 500);\n",
       "            "
      ],
      "text/plain": [
       "<IPython.core.display.Javascript object>"
      ]
     },
     "metadata": {},
     "output_type": "display_data"
    }
   ],
   "source": [
    "download(\"https://github.com/AllenDowney/ThinkStats/raw/v3/nb/nsfg.py\")\n",
    "download(\"https://github.com/AllenDowney/ThinkStats/raw/v3/data/2002FemPreg.dct\")\n",
    "download(\"https://github.com/AllenDowney/ThinkStats/raw/v3/data/2002FemPreg.dat.gz\")"
   ]
  },
  {
   "cell_type": "code",
   "execution_count": 31,
   "id": "7edf9827",
   "metadata": {},
   "outputs": [
    {
     "data": {
      "application/javascript": [
       "\n",
       "            setTimeout(function() {\n",
       "                var nbb_cell_id = 31;\n",
       "                var nbb_unformatted_code = \"from nsfg import get_nsfg_groups\\n\\nlive, firsts, others = get_nsfg_groups()\";\n",
       "                var nbb_formatted_code = \"from nsfg import get_nsfg_groups\\n\\nlive, firsts, others = get_nsfg_groups()\";\n",
       "                var nbb_cells = Jupyter.notebook.get_cells();\n",
       "                for (var i = 0; i < nbb_cells.length; ++i) {\n",
       "                    if (nbb_cells[i].input_prompt_number == nbb_cell_id) {\n",
       "                        if (nbb_cells[i].get_text() == nbb_unformatted_code) {\n",
       "                             nbb_cells[i].set_text(nbb_formatted_code);\n",
       "                        }\n",
       "                        break;\n",
       "                    }\n",
       "                }\n",
       "            }, 500);\n",
       "            "
      ],
      "text/plain": [
       "<IPython.core.display.Javascript object>"
      ]
     },
     "metadata": {},
     "output_type": "display_data"
    }
   ],
   "source": [
    "from nsfg import get_nsfg_groups\n",
    "\n",
    "live, firsts, others = get_nsfg_groups()"
   ]
  },
  {
   "cell_type": "markdown",
   "id": "70c1e6ec",
   "metadata": {},
   "source": [
    "From `firsts` and `others` we'll select total birth weights in pounds, using `dropna` to remove values that are `nan`."
   ]
  },
  {
   "cell_type": "code",
   "execution_count": 32,
   "id": "71dcbc39",
   "metadata": {},
   "outputs": [
    {
     "data": {
      "text/plain": [
       "7.201094430437772"
      ]
     },
     "execution_count": 32,
     "metadata": {},
     "output_type": "execute_result"
    },
    {
     "data": {
      "application/javascript": [
       "\n",
       "            setTimeout(function() {\n",
       "                var nbb_cell_id = 32;\n",
       "                var nbb_unformatted_code = \"first_weights = firsts[\\\"totalwgt_lb\\\"].dropna()\\nfirst_weights.mean()\";\n",
       "                var nbb_formatted_code = \"first_weights = firsts[\\\"totalwgt_lb\\\"].dropna()\\nfirst_weights.mean()\";\n",
       "                var nbb_cells = Jupyter.notebook.get_cells();\n",
       "                for (var i = 0; i < nbb_cells.length; ++i) {\n",
       "                    if (nbb_cells[i].input_prompt_number == nbb_cell_id) {\n",
       "                        if (nbb_cells[i].get_text() == nbb_unformatted_code) {\n",
       "                             nbb_cells[i].set_text(nbb_formatted_code);\n",
       "                        }\n",
       "                        break;\n",
       "                    }\n",
       "                }\n",
       "            }, 500);\n",
       "            "
      ],
      "text/plain": [
       "<IPython.core.display.Javascript object>"
      ]
     },
     "metadata": {},
     "output_type": "display_data"
    }
   ],
   "source": [
    "first_weights = firsts[\"totalwgt_lb\"].dropna()\n",
    "first_weights.mean()"
   ]
  },
  {
   "cell_type": "code",
   "execution_count": 33,
   "id": "af2f0434",
   "metadata": {},
   "outputs": [
    {
     "data": {
      "text/plain": [
       "7.325855614973262"
      ]
     },
     "execution_count": 33,
     "metadata": {},
     "output_type": "execute_result"
    },
    {
     "data": {
      "application/javascript": [
       "\n",
       "            setTimeout(function() {\n",
       "                var nbb_cell_id = 33;\n",
       "                var nbb_unformatted_code = \"other_weights = others[\\\"totalwgt_lb\\\"].dropna()\\nother_weights.mean()\";\n",
       "                var nbb_formatted_code = \"other_weights = others[\\\"totalwgt_lb\\\"].dropna()\\nother_weights.mean()\";\n",
       "                var nbb_cells = Jupyter.notebook.get_cells();\n",
       "                for (var i = 0; i < nbb_cells.length; ++i) {\n",
       "                    if (nbb_cells[i].input_prompt_number == nbb_cell_id) {\n",
       "                        if (nbb_cells[i].get_text() == nbb_unformatted_code) {\n",
       "                             nbb_cells[i].set_text(nbb_formatted_code);\n",
       "                        }\n",
       "                        break;\n",
       "                    }\n",
       "                }\n",
       "            }, 500);\n",
       "            "
      ],
      "text/plain": [
       "<IPython.core.display.Javascript object>"
      ]
     },
     "metadata": {},
     "output_type": "display_data"
    }
   ],
   "source": [
    "other_weights = others[\"totalwgt_lb\"].dropna()\n",
    "other_weights.mean()"
   ]
  },
  {
   "cell_type": "markdown",
   "id": "2eeaee10",
   "metadata": {},
   "source": [
    "As we saw in Section xxx, first babies are a little lighter on average.\n",
    "But there are several ways a difference like that could happen -- for example, there might be a small number of first babies who are especially light, or a small number of other babies who are especially heavy, but the result of the distribution might look the same.\n",
    "In those cases, the distributions would have different shapes.\n",
    "As another possibility, the distributions might have the same shape, but different locations.\n",
    "\n",
    "To compare the distributions, we can try plotting the PMFs."
   ]
  },
  {
   "cell_type": "code",
   "execution_count": 34,
   "id": "5fcc9ad3",
   "metadata": {},
   "outputs": [
    {
     "data": {
      "application/javascript": [
       "\n",
       "            setTimeout(function() {\n",
       "                var nbb_cell_id = 34;\n",
       "                var nbb_unformatted_code = \"from empiricaldist import Pmf\\n\\nfirst_pmf = Pmf.from_seq(first_weights, name=\\\"first\\\")\\nother_pmf = Pmf.from_seq(other_weights, name=\\\"other\\\")\";\n",
       "                var nbb_formatted_code = \"from empiricaldist import Pmf\\n\\nfirst_pmf = Pmf.from_seq(first_weights, name=\\\"first\\\")\\nother_pmf = Pmf.from_seq(other_weights, name=\\\"other\\\")\";\n",
       "                var nbb_cells = Jupyter.notebook.get_cells();\n",
       "                for (var i = 0; i < nbb_cells.length; ++i) {\n",
       "                    if (nbb_cells[i].input_prompt_number == nbb_cell_id) {\n",
       "                        if (nbb_cells[i].get_text() == nbb_unformatted_code) {\n",
       "                             nbb_cells[i].set_text(nbb_formatted_code);\n",
       "                        }\n",
       "                        break;\n",
       "                    }\n",
       "                }\n",
       "            }, 500);\n",
       "            "
      ],
      "text/plain": [
       "<IPython.core.display.Javascript object>"
      ]
     },
     "metadata": {},
     "output_type": "display_data"
    }
   ],
   "source": [
    "from empiricaldist import Pmf\n",
    "\n",
    "first_pmf = Pmf.from_seq(first_weights, name=\"first\")\n",
    "other_pmf = Pmf.from_seq(other_weights, name=\"other\")"
   ]
  },
  {
   "cell_type": "markdown",
   "id": "1148b768",
   "metadata": {},
   "source": [
    "But it doesn't work very well."
   ]
  },
  {
   "cell_type": "code",
   "execution_count": 35,
   "id": "87e7a30b",
   "metadata": {},
   "outputs": [
    {
     "data": {
      "image/png": "[encoded data removed]",
      "text/plain": [
       "<Figure size 640x480 with 1 Axes>"
      ]
     },
     "metadata": {},
     "output_type": "display_data"
    },
    {
     "data": {
      "application/javascript": [
       "\n",
       "            setTimeout(function() {\n",
       "                var nbb_cell_id = 35;\n",
       "                var nbb_unformatted_code = \"from thinkstats import two_bar_plots\\n\\ntwo_bar_plots(first_pmf, other_pmf, width=0.06, alpha=0.5)\\ndecorate(xlabel=\\\"Weight (pounds)\\\", ylabel=\\\"PMF\\\")\";\n",
       "                var nbb_formatted_code = \"from thinkstats import two_bar_plots\\n\\ntwo_bar_plots(first_pmf, other_pmf, width=0.06, alpha=0.5)\\ndecorate(xlabel=\\\"Weight (pounds)\\\", ylabel=\\\"PMF\\\")\";\n",
       "                var nbb_cells = Jupyter.notebook.get_cells();\n",
       "                for (var i = 0; i < nbb_cells.length; ++i) {\n",
       "                    if (nbb_cells[i].input_prompt_number == nbb_cell_id) {\n",
       "                        if (nbb_cells[i].get_text() == nbb_unformatted_code) {\n",
       "                             nbb_cells[i].set_text(nbb_formatted_code);\n",
       "                        }\n",
       "                        break;\n",
       "                    }\n",
       "                }\n",
       "            }, 500);\n",
       "            "
      ],
      "text/plain": [
       "<IPython.core.display.Javascript object>"
      ]
     },
     "metadata": {},
     "output_type": "display_data"
    }
   ],
   "source": [
    "from thinkstats import two_bar_plots\n",
    "\n",
    "two_bar_plots(first_pmf, other_pmf, width=0.06, alpha=0.5)\n",
    "decorate(xlabel=\"Weight (pounds)\", ylabel=\"PMF\")"
   ]
  },
  {
   "cell_type": "markdown",
   "id": "76886060",
   "metadata": {},
   "source": [
    "I adjusted the width and transparency of the bars to show the distributions as clearly as possible, but it is hard to compare them.\n",
    "There are many peaks and valleys, and some apparent differences, but it is hard to tell which of these features are meaningful.\n",
    "Also, it is hard to see overall patterns -- for example, it is not visually apparent which distribution has the higher mean.\n",
    "\n",
    "These problems can be mitigated by binning the data -- that is, dividing the range of quantities into non-overlapping intervals and counting the number of quantities in each bin.\n",
    "Binning can be useful, but it is tricky to get the size of the bins right.\n",
    "If they are big enough to smooth out noise, they might also smooth out useful information.\n",
    "\n",
    "A good alternative is to plot the CDFs."
   ]
  },
  {
   "cell_type": "code",
   "execution_count": 36,
   "id": "912dbd10",
   "metadata": {},
   "outputs": [
    {
     "data": {
      "application/javascript": [
       "\n",
       "            setTimeout(function() {\n",
       "                var nbb_cell_id = 36;\n",
       "                var nbb_unformatted_code = \"first_cdf = first_pmf.make_cdf()\\nother_cdf = other_pmf.make_cdf()\";\n",
       "                var nbb_formatted_code = \"first_cdf = first_pmf.make_cdf()\\nother_cdf = other_pmf.make_cdf()\";\n",
       "                var nbb_cells = Jupyter.notebook.get_cells();\n",
       "                for (var i = 0; i < nbb_cells.length; ++i) {\n",
       "                    if (nbb_cells[i].input_prompt_number == nbb_cell_id) {\n",
       "                        if (nbb_cells[i].get_text() == nbb_unformatted_code) {\n",
       "                             nbb_cells[i].set_text(nbb_formatted_code);\n",
       "                        }\n",
       "                        break;\n",
       "                    }\n",
       "                }\n",
       "            }, 500);\n",
       "            "
      ],
      "text/plain": [
       "<IPython.core.display.Javascript object>"
      ]
     },
     "metadata": {},
     "output_type": "display_data"
    }
   ],
   "source": [
    "first_cdf = first_pmf.make_cdf()\n",
    "other_cdf = other_pmf.make_cdf()"
   ]
  },
  {
   "cell_type": "markdown",
   "id": "da592fae",
   "metadata": {},
   "source": [
    "Here's what they look like."
   ]
  },
  {
   "cell_type": "code",
   "execution_count": 37,
   "id": "4089ef39",
   "metadata": {},
   "outputs": [
    {
     "data": {
      "image/png": "[encoded data removed]",
      "text/plain": [
       "<Figure size 640x480 with 1 Axes>"
      ]
     },
     "metadata": {},
     "output_type": "display_data"
    },
    {
     "data": {
      "application/javascript": [
       "\n",
       "            setTimeout(function() {\n",
       "                var nbb_cell_id = 37;\n",
       "                var nbb_unformatted_code = \"first_cdf.plot()\\nother_cdf.plot()\\ndecorate(xlabel=\\\"Weight (pounds)\\\", ylabel=\\\"CDF\\\")\";\n",
       "                var nbb_formatted_code = \"first_cdf.plot()\\nother_cdf.plot()\\ndecorate(xlabel=\\\"Weight (pounds)\\\", ylabel=\\\"CDF\\\")\";\n",
       "                var nbb_cells = Jupyter.notebook.get_cells();\n",
       "                for (var i = 0; i < nbb_cells.length; ++i) {\n",
       "                    if (nbb_cells[i].input_prompt_number == nbb_cell_id) {\n",
       "                        if (nbb_cells[i].get_text() == nbb_unformatted_code) {\n",
       "                             nbb_cells[i].set_text(nbb_formatted_code);\n",
       "                        }\n",
       "                        break;\n",
       "                    }\n",
       "                }\n",
       "            }, 500);\n",
       "            "
      ],
      "text/plain": [
       "<IPython.core.display.Javascript object>"
      ]
     },
     "metadata": {},
     "output_type": "display_data"
    }
   ],
   "source": [
    "first_cdf.plot()\n",
    "other_cdf.plot()\n",
    "decorate(xlabel=\"Weight (pounds)\", ylabel=\"CDF\")"
   ]
  },
  {
   "cell_type": "markdown",
   "id": "397bbdae",
   "metadata": {},
   "source": [
    "This figure makes the shape of the distributions, and the differences between them, much clearer.\n",
    "We can see that first babies are slightly lighter throughout the distribution, with a larger discrepancy above the midpoint."
   ]
  },
  {
   "cell_type": "markdown",
   "id": "fb7b5cb5",
   "metadata": {},
   "source": [
    "## Percentile-Based Statistics\n",
    "\n",
    "In Section xxx we computed the arithmetic mean, which identifies a central point in a distribution, and the standard deviations, which quantifies how spread out the distribution is.\n",
    "And in Section xxx we computed Pearson's skewness, which indicates whether a distribution is skewed left or right.\n",
    "One drawback of all of these statistics is that they are sensitive to outliers.\n",
    "A single extreme value in a dataset can have a large effect on mean, standard deviation, and skewness.\n",
    "\n",
    "An alternative is to use statistics that are based on percentiles of the distribution, which tend to be more **robust**, which means that they are less sensitive to outliers.\n",
    "\n",
    "To demonstrate, let's load the NSFG data again without doing any data cleaning."
   ]
  },
  {
   "cell_type": "code",
   "execution_count": 38,
   "id": "9e53ef96",
   "metadata": {},
   "outputs": [
    {
     "data": {
      "application/javascript": [
       "\n",
       "            setTimeout(function() {\n",
       "                var nbb_cell_id = 38;\n",
       "                var nbb_unformatted_code = \"from thinkstats import read_stata\\n\\ndct_file = \\\"2002FemPreg.dct\\\"\\ndat_file = \\\"2002FemPreg.dat.gz\\\"\\n\\npreg = read_stata(dct_file, dat_file)\";\n",
       "                var nbb_formatted_code = \"from thinkstats import read_stata\\n\\ndct_file = \\\"2002FemPreg.dct\\\"\\ndat_file = \\\"2002FemPreg.dat.gz\\\"\\n\\npreg = read_stata(dct_file, dat_file)\";\n",
       "                var nbb_cells = Jupyter.notebook.get_cells();\n",
       "                for (var i = 0; i < nbb_cells.length; ++i) {\n",
       "                    if (nbb_cells[i].input_prompt_number == nbb_cell_id) {\n",
       "                        if (nbb_cells[i].get_text() == nbb_unformatted_code) {\n",
       "                             nbb_cells[i].set_text(nbb_formatted_code);\n",
       "                        }\n",
       "                        break;\n",
       "                    }\n",
       "                }\n",
       "            }, 500);\n",
       "            "
      ],
      "text/plain": [
       "<IPython.core.display.Javascript object>"
      ]
     },
     "metadata": {},
     "output_type": "display_data"
    }
   ],
   "source": [
    "from thinkstats import read_stata\n",
    "\n",
    "dct_file = \"2002FemPreg.dct\"\n",
    "dat_file = \"2002FemPreg.dat.gz\"\n",
    "\n",
    "preg = read_stata(dct_file, dat_file)"
   ]
  },
  {
   "cell_type": "markdown",
   "id": "771f36fb",
   "metadata": {},
   "source": [
    "Recall that birth weight is recorded in two columns, one for the pounds and one for the ounces."
   ]
  },
  {
   "cell_type": "code",
   "execution_count": 39,
   "id": "92d7c323",
   "metadata": {},
   "outputs": [
    {
     "data": {
      "application/javascript": [
       "\n",
       "            setTimeout(function() {\n",
       "                var nbb_cell_id = 39;\n",
       "                var nbb_unformatted_code = \"birthwgt_lb = preg[\\\"birthwgt_lb\\\"]\\nbirthwgt_oz = preg[\\\"birthwgt_oz\\\"]\";\n",
       "                var nbb_formatted_code = \"birthwgt_lb = preg[\\\"birthwgt_lb\\\"]\\nbirthwgt_oz = preg[\\\"birthwgt_oz\\\"]\";\n",
       "                var nbb_cells = Jupyter.notebook.get_cells();\n",
       "                for (var i = 0; i < nbb_cells.length; ++i) {\n",
       "                    if (nbb_cells[i].input_prompt_number == nbb_cell_id) {\n",
       "                        if (nbb_cells[i].get_text() == nbb_unformatted_code) {\n",
       "                             nbb_cells[i].set_text(nbb_formatted_code);\n",
       "                        }\n",
       "                        break;\n",
       "                    }\n",
       "                }\n",
       "            }, 500);\n",
       "            "
      ],
      "text/plain": [
       "<IPython.core.display.Javascript object>"
      ]
     },
     "metadata": {},
     "output_type": "display_data"
    }
   ],
   "source": [
    "birthwgt_lb = preg[\"birthwgt_lb\"]\n",
    "birthwgt_oz = preg[\"birthwgt_oz\"]"
   ]
  },
  {
   "cell_type": "markdown",
   "id": "c46eb92a",
   "metadata": {},
   "source": [
    "If we make a `Hist` object with the values from `birthwgt_oz`, we can see that they include the special values 97, 98, and 99, which indicate missing data."
   ]
  },
  {
   "cell_type": "code",
   "execution_count": 40,
   "id": "87a3586c",
   "metadata": {},
   "outputs": [
    {
     "data": {
      "text/html": [
       "<div>\n",
       "<style scoped>\n",
       "    .dataframe tbody tr th:only-of-type {\n",
       "        vertical-align: middle;\n",
       "    }\n",
       "\n",
       "    .dataframe tbody tr th {\n",
       "        vertical-align: top;\n",
       "    }\n",
       "\n",
       "    .dataframe thead th {\n",
       "        text-align: right;\n",
       "    }\n",
       "</style>\n",
       "<table border=\"1\" class=\"dataframe\">\n",
       "  <thead>\n",
       "    <tr style=\"text-align: right;\">\n",
       "      <th></th>\n",
       "      <th>freqs</th>\n",
       "    </tr>\n",
       "    <tr>\n",
       "      <th>birthwgt_oz</th>\n",
       "      <th></th>\n",
       "    </tr>\n",
       "  </thead>\n",
       "  <tbody>\n",
       "    <tr>\n",
       "      <th>14.0</th>\n",
       "      <td>475</td>\n",
       "    </tr>\n",
       "    <tr>\n",
       "      <th>15.0</th>\n",
       "      <td>378</td>\n",
       "    </tr>\n",
       "    <tr>\n",
       "      <th>97.0</th>\n",
       "      <td>1</td>\n",
       "    </tr>\n",
       "    <tr>\n",
       "      <th>98.0</th>\n",
       "      <td>1</td>\n",
       "    </tr>\n",
       "    <tr>\n",
       "      <th>99.0</th>\n",
       "      <td>46</td>\n",
       "    </tr>\n",
       "  </tbody>\n",
       "</table>\n",
       "</div>"
      ],
      "text/plain": [
       "birthwgt_oz\n",
       "14.0    475\n",
       "15.0    378\n",
       "97.0      1\n",
       "98.0      1\n",
       "99.0     46\n",
       "Name: , dtype: int64"
      ]
     },
     "execution_count": 40,
     "metadata": {},
     "output_type": "execute_result"
    },
    {
     "data": {
      "application/javascript": [
       "\n",
       "            setTimeout(function() {\n",
       "                var nbb_cell_id = 40;\n",
       "                var nbb_unformatted_code = \"from empiricaldist import Hist\\n\\nHist.from_seq(birthwgt_oz).tail(5)\";\n",
       "                var nbb_formatted_code = \"from empiricaldist import Hist\\n\\nHist.from_seq(birthwgt_oz).tail(5)\";\n",
       "                var nbb_cells = Jupyter.notebook.get_cells();\n",
       "                for (var i = 0; i < nbb_cells.length; ++i) {\n",
       "                    if (nbb_cells[i].input_prompt_number == nbb_cell_id) {\n",
       "                        if (nbb_cells[i].get_text() == nbb_unformatted_code) {\n",
       "                             nbb_cells[i].set_text(nbb_formatted_code);\n",
       "                        }\n",
       "                        break;\n",
       "                    }\n",
       "                }\n",
       "            }, 500);\n",
       "            "
      ],
      "text/plain": [
       "<IPython.core.display.Javascript object>"
      ]
     },
     "metadata": {},
     "output_type": "display_data"
    }
   ],
   "source": [
    "from empiricaldist import Hist\n",
    "\n",
    "Hist.from_seq(birthwgt_oz).tail(5)"
   ]
  },
  {
   "cell_type": "markdown",
   "id": "ec957b1a",
   "metadata": {},
   "source": [
    "The `birthwgt_lb` column includes the same special values; it also includes the value 51, which has to be a mistake. "
   ]
  },
  {
   "cell_type": "code",
   "execution_count": 41,
   "id": "d71d7344",
   "metadata": {},
   "outputs": [
    {
     "data": {
      "text/html": [
       "<div>\n",
       "<style scoped>\n",
       "    .dataframe tbody tr th:only-of-type {\n",
       "        vertical-align: middle;\n",
       "    }\n",
       "\n",
       "    .dataframe tbody tr th {\n",
       "        vertical-align: top;\n",
       "    }\n",
       "\n",
       "    .dataframe thead th {\n",
       "        text-align: right;\n",
       "    }\n",
       "</style>\n",
       "<table border=\"1\" class=\"dataframe\">\n",
       "  <thead>\n",
       "    <tr style=\"text-align: right;\">\n",
       "      <th></th>\n",
       "      <th>freqs</th>\n",
       "    </tr>\n",
       "    <tr>\n",
       "      <th>birthwgt_lb</th>\n",
       "      <th></th>\n",
       "    </tr>\n",
       "  </thead>\n",
       "  <tbody>\n",
       "    <tr>\n",
       "      <th>15.0</th>\n",
       "      <td>1</td>\n",
       "    </tr>\n",
       "    <tr>\n",
       "      <th>51.0</th>\n",
       "      <td>1</td>\n",
       "    </tr>\n",
       "    <tr>\n",
       "      <th>97.0</th>\n",
       "      <td>1</td>\n",
       "    </tr>\n",
       "    <tr>\n",
       "      <th>98.0</th>\n",
       "      <td>1</td>\n",
       "    </tr>\n",
       "    <tr>\n",
       "      <th>99.0</th>\n",
       "      <td>57</td>\n",
       "    </tr>\n",
       "  </tbody>\n",
       "</table>\n",
       "</div>"
      ],
      "text/plain": [
       "birthwgt_lb\n",
       "15.0     1\n",
       "51.0     1\n",
       "97.0     1\n",
       "98.0     1\n",
       "99.0    57\n",
       "Name: , dtype: int64"
      ]
     },
     "execution_count": 41,
     "metadata": {},
     "output_type": "execute_result"
    },
    {
     "data": {
      "application/javascript": [
       "\n",
       "            setTimeout(function() {\n",
       "                var nbb_cell_id = 41;\n",
       "                var nbb_unformatted_code = \"Hist.from_seq(birthwgt_lb).tail(5)\";\n",
       "                var nbb_formatted_code = \"Hist.from_seq(birthwgt_lb).tail(5)\";\n",
       "                var nbb_cells = Jupyter.notebook.get_cells();\n",
       "                for (var i = 0; i < nbb_cells.length; ++i) {\n",
       "                    if (nbb_cells[i].input_prompt_number == nbb_cell_id) {\n",
       "                        if (nbb_cells[i].get_text() == nbb_unformatted_code) {\n",
       "                             nbb_cells[i].set_text(nbb_formatted_code);\n",
       "                        }\n",
       "                        break;\n",
       "                    }\n",
       "                }\n",
       "            }, 500);\n",
       "            "
      ],
      "text/plain": [
       "<IPython.core.display.Javascript object>"
      ]
     },
     "metadata": {},
     "output_type": "display_data"
    }
   ],
   "source": [
    "Hist.from_seq(birthwgt_lb).tail(5)"
   ]
  },
  {
   "cell_type": "markdown",
   "id": "3ac44041",
   "metadata": {},
   "source": [
    "Now let's imagine two scenarios.\n",
    "In one scenario, we clean these variables by replacing missing and invalid values with `nan`, and then compute total weight in pounds."
   ]
  },
  {
   "cell_type": "code",
   "execution_count": 42,
   "id": "7a73f8b3",
   "metadata": {},
   "outputs": [
    {
     "data": {
      "application/javascript": [
       "\n",
       "            setTimeout(function() {\n",
       "                var nbb_cell_id = 42;\n",
       "                var nbb_unformatted_code = \"birthwgt_lb_clean = birthwgt_lb.replace([51, 97, 98, 99], np.nan)\\nbirthwgt_oz_clean = birthwgt_oz.replace([97, 98, 99], np.nan)\\n\\ntotal_weight_clean = birthwgt_lb_clean + birthwgt_oz_clean / 16\";\n",
       "                var nbb_formatted_code = \"birthwgt_lb_clean = birthwgt_lb.replace([51, 97, 98, 99], np.nan)\\nbirthwgt_oz_clean = birthwgt_oz.replace([97, 98, 99], np.nan)\\n\\ntotal_weight_clean = birthwgt_lb_clean + birthwgt_oz_clean / 16\";\n",
       "                var nbb_cells = Jupyter.notebook.get_cells();\n",
       "                for (var i = 0; i < nbb_cells.length; ++i) {\n",
       "                    if (nbb_cells[i].input_prompt_number == nbb_cell_id) {\n",
       "                        if (nbb_cells[i].get_text() == nbb_unformatted_code) {\n",
       "                             nbb_cells[i].set_text(nbb_formatted_code);\n",
       "                        }\n",
       "                        break;\n",
       "                    }\n",
       "                }\n",
       "            }, 500);\n",
       "            "
      ],
      "text/plain": [
       "<IPython.core.display.Javascript object>"
      ]
     },
     "metadata": {},
     "output_type": "display_data"
    }
   ],
   "source": [
    "birthwgt_lb_clean = birthwgt_lb.replace([51, 97, 98, 99], np.nan)\n",
    "birthwgt_oz_clean = birthwgt_oz.replace([97, 98, 99], np.nan)\n",
    "\n",
    "total_weight_clean = birthwgt_lb_clean + birthwgt_oz_clean / 16"
   ]
  },
  {
   "cell_type": "markdown",
   "id": "cc474b46",
   "metadata": {},
   "source": [
    "In the other scenario, we neglect to clean the data and accidentally compute the total weight with these bogus values."
   ]
  },
  {
   "cell_type": "code",
   "execution_count": 43,
   "id": "af97d4c2",
   "metadata": {},
   "outputs": [
    {
     "data": {
      "application/javascript": [
       "\n",
       "            setTimeout(function() {\n",
       "                var nbb_cell_id = 43;\n",
       "                var nbb_unformatted_code = \"total_weight_bogus = birthwgt_lb + birthwgt_oz / 16\";\n",
       "                var nbb_formatted_code = \"total_weight_bogus = birthwgt_lb + birthwgt_oz / 16\";\n",
       "                var nbb_cells = Jupyter.notebook.get_cells();\n",
       "                for (var i = 0; i < nbb_cells.length; ++i) {\n",
       "                    if (nbb_cells[i].input_prompt_number == nbb_cell_id) {\n",
       "                        if (nbb_cells[i].get_text() == nbb_unformatted_code) {\n",
       "                             nbb_cells[i].set_text(nbb_formatted_code);\n",
       "                        }\n",
       "                        break;\n",
       "                    }\n",
       "                }\n",
       "            }, 500);\n",
       "            "
      ],
      "text/plain": [
       "<IPython.core.display.Javascript object>"
      ]
     },
     "metadata": {},
     "output_type": "display_data"
    }
   ],
   "source": [
    "total_weight_bogus = birthwgt_lb + birthwgt_oz / 16"
   ]
  },
  {
   "cell_type": "markdown",
   "id": "b83a1f79",
   "metadata": {},
   "source": [
    "I'll call the first result `total_weight_clean` and the second `total_weight_bogus`, so we remember which is which.\n",
    "The bogus dataset contains only 49 bogus values, which is about 0.5% of the data."
   ]
  },
  {
   "cell_type": "code",
   "execution_count": 44,
   "id": "ce7038dd",
   "metadata": {},
   "outputs": [
    {
     "data": {
      "text/plain": [
       "(49, 0.5421553441026776)"
      ]
     },
     "execution_count": 44,
     "metadata": {},
     "output_type": "execute_result"
    },
    {
     "data": {
      "application/javascript": [
       "\n",
       "            setTimeout(function() {\n",
       "                var nbb_cell_id = 44;\n",
       "                var nbb_unformatted_code = \"count1, count2 = total_weight_bogus.count(), total_weight_clean.count()\\ndiff = count1 - count2\\n\\ndiff, diff / count2 * 100\";\n",
       "                var nbb_formatted_code = \"count1, count2 = total_weight_bogus.count(), total_weight_clean.count()\\ndiff = count1 - count2\\n\\ndiff, diff / count2 * 100\";\n",
       "                var nbb_cells = Jupyter.notebook.get_cells();\n",
       "                for (var i = 0; i < nbb_cells.length; ++i) {\n",
       "                    if (nbb_cells[i].input_prompt_number == nbb_cell_id) {\n",
       "                        if (nbb_cells[i].get_text() == nbb_unformatted_code) {\n",
       "                             nbb_cells[i].set_text(nbb_formatted_code);\n",
       "                        }\n",
       "                        break;\n",
       "                    }\n",
       "                }\n",
       "            }, 500);\n",
       "            "
      ],
      "text/plain": [
       "<IPython.core.display.Javascript object>"
      ]
     },
     "metadata": {},
     "output_type": "display_data"
    }
   ],
   "source": [
    "count1, count2 = total_weight_bogus.count(), total_weight_clean.count()\n",
    "diff = count1 - count2\n",
    "\n",
    "diff, diff / count2 * 100"
   ]
  },
  {
   "cell_type": "markdown",
   "id": "b08b864e",
   "metadata": {},
   "source": [
    "Now let's compute the mean of the data in both scenarios."
   ]
  },
  {
   "cell_type": "code",
   "execution_count": 45,
   "id": "62814a8d",
   "metadata": {},
   "outputs": [
    {
     "data": {
      "text/plain": [
       "(7.319680587652691, 7.265628457623368)"
      ]
     },
     "execution_count": 45,
     "metadata": {},
     "output_type": "execute_result"
    },
    {
     "data": {
      "application/javascript": [
       "\n",
       "            setTimeout(function() {\n",
       "                var nbb_cell_id = 45;\n",
       "                var nbb_unformatted_code = \"mean1, mean2 = total_weight_bogus.mean(), total_weight_clean.mean()\\nmean1, mean2\";\n",
       "                var nbb_formatted_code = \"mean1, mean2 = total_weight_bogus.mean(), total_weight_clean.mean()\\nmean1, mean2\";\n",
       "                var nbb_cells = Jupyter.notebook.get_cells();\n",
       "                for (var i = 0; i < nbb_cells.length; ++i) {\n",
       "                    if (nbb_cells[i].input_prompt_number == nbb_cell_id) {\n",
       "                        if (nbb_cells[i].get_text() == nbb_unformatted_code) {\n",
       "                             nbb_cells[i].set_text(nbb_formatted_code);\n",
       "                        }\n",
       "                        break;\n",
       "                    }\n",
       "                }\n",
       "            }, 500);\n",
       "            "
      ],
      "text/plain": [
       "<IPython.core.display.Javascript object>"
      ]
     },
     "metadata": {},
     "output_type": "display_data"
    }
   ],
   "source": [
    "mean1, mean2 = total_weight_bogus.mean(), total_weight_clean.mean()\n",
    "mean1, mean2"
   ]
  },
  {
   "cell_type": "markdown",
   "id": "a6a6a336",
   "metadata": {},
   "source": [
    "The bogus values have a moderate effect on the mean.\n",
    "If we take the mean of the cleaned data to be correct, the mean of the bogus data is off by less than 1%, so an error like that might go undetected."
   ]
  },
  {
   "cell_type": "code",
   "execution_count": 46,
   "id": "96c2a49c",
   "metadata": {},
   "outputs": [
    {
     "data": {
      "text/plain": [
       "0.74394294099376"
      ]
     },
     "execution_count": 46,
     "metadata": {},
     "output_type": "execute_result"
    },
    {
     "data": {
      "application/javascript": [
       "\n",
       "            setTimeout(function() {\n",
       "                var nbb_cell_id = 46;\n",
       "                var nbb_unformatted_code = \"(mean1 - mean2) / mean2 * 100\";\n",
       "                var nbb_formatted_code = \"(mean1 - mean2) / mean2 * 100\";\n",
       "                var nbb_cells = Jupyter.notebook.get_cells();\n",
       "                for (var i = 0; i < nbb_cells.length; ++i) {\n",
       "                    if (nbb_cells[i].input_prompt_number == nbb_cell_id) {\n",
       "                        if (nbb_cells[i].get_text() == nbb_unformatted_code) {\n",
       "                             nbb_cells[i].set_text(nbb_formatted_code);\n",
       "                        }\n",
       "                        break;\n",
       "                    }\n",
       "                }\n",
       "            }, 500);\n",
       "            "
      ],
      "text/plain": [
       "<IPython.core.display.Javascript object>"
      ]
     },
     "metadata": {},
     "output_type": "display_data"
    }
   ],
   "source": [
    "(mean1 - mean2) / mean2 * 100"
   ]
  },
  {
   "cell_type": "markdown",
   "id": "63889aa3",
   "metadata": {},
   "source": [
    "Now let's see what happens to the standard deviations."
   ]
  },
  {
   "cell_type": "code",
   "execution_count": 47,
   "id": "2c8fcb1e",
   "metadata": {},
   "outputs": [
    {
     "data": {
      "text/plain": [
       "(2.096001779161835, 1.4082934455690173)"
      ]
     },
     "execution_count": 47,
     "metadata": {},
     "output_type": "execute_result"
    },
    {
     "data": {
      "application/javascript": [
       "\n",
       "            setTimeout(function() {\n",
       "                var nbb_cell_id = 47;\n",
       "                var nbb_unformatted_code = \"std1, std2 = total_weight_bogus.std(), total_weight_clean.std()\\nstd1, std2\";\n",
       "                var nbb_formatted_code = \"std1, std2 = total_weight_bogus.std(), total_weight_clean.std()\\nstd1, std2\";\n",
       "                var nbb_cells = Jupyter.notebook.get_cells();\n",
       "                for (var i = 0; i < nbb_cells.length; ++i) {\n",
       "                    if (nbb_cells[i].input_prompt_number == nbb_cell_id) {\n",
       "                        if (nbb_cells[i].get_text() == nbb_unformatted_code) {\n",
       "                             nbb_cells[i].set_text(nbb_formatted_code);\n",
       "                        }\n",
       "                        break;\n",
       "                    }\n",
       "                }\n",
       "            }, 500);\n",
       "            "
      ],
      "text/plain": [
       "<IPython.core.display.Javascript object>"
      ]
     },
     "metadata": {},
     "output_type": "display_data"
    }
   ],
   "source": [
    "std1, std2 = total_weight_bogus.std(), total_weight_clean.std()\n",
    "std1, std2"
   ]
  },
  {
   "cell_type": "code",
   "execution_count": 48,
   "id": "9ef21c59",
   "metadata": {},
   "outputs": [
    {
     "data": {
      "text/plain": [
       "48.83274403900607"
      ]
     },
     "execution_count": 48,
     "metadata": {},
     "output_type": "execute_result"
    },
    {
     "data": {
      "application/javascript": [
       "\n",
       "            setTimeout(function() {\n",
       "                var nbb_cell_id = 48;\n",
       "                var nbb_unformatted_code = \"(std1 - std2) / std2 * 100\";\n",
       "                var nbb_formatted_code = \"(std1 - std2) / std2 * 100\";\n",
       "                var nbb_cells = Jupyter.notebook.get_cells();\n",
       "                for (var i = 0; i < nbb_cells.length; ++i) {\n",
       "                    if (nbb_cells[i].input_prompt_number == nbb_cell_id) {\n",
       "                        if (nbb_cells[i].get_text() == nbb_unformatted_code) {\n",
       "                             nbb_cells[i].set_text(nbb_formatted_code);\n",
       "                        }\n",
       "                        break;\n",
       "                    }\n",
       "                }\n",
       "            }, 500);\n",
       "            "
      ],
      "text/plain": [
       "<IPython.core.display.Javascript object>"
      ]
     },
     "metadata": {},
     "output_type": "display_data"
    }
   ],
   "source": [
    "(std1 - std2) / std2 * 100"
   ]
  },
  {
   "cell_type": "markdown",
   "id": "284465b9",
   "metadata": {},
   "source": [
    "The standard deviation of the bogus data is off by almost 50%, so that's pretty bad.\n",
    "\n",
    "Finally, here's the skewness of the two datasets."
   ]
  },
  {
   "cell_type": "code",
   "execution_count": 49,
   "id": "41700da5",
   "metadata": {},
   "outputs": [
    {
     "data": {
      "application/javascript": [
       "\n",
       "            setTimeout(function() {\n",
       "                var nbb_cell_id = 49;\n",
       "                var nbb_unformatted_code = \"def skewness(seq):\\n    \\\"\\\"\\\"Compute the skewness of a sequence\\n    \\n    seq: sequence of numbers\\n    \\n    returns: float skewness\\n    \\\"\\\"\\\"\\n    deviations = seq - seq.mean()\\n    return np.mean(deviations**3) / seq.std(ddof=0) ** 3\";\n",
       "                var nbb_formatted_code = \"def skewness(seq):\\n    \\\"\\\"\\\"Compute the skewness of a sequence\\n\\n    seq: sequence of numbers\\n\\n    returns: float skewness\\n    \\\"\\\"\\\"\\n    deviations = seq - seq.mean()\\n    return np.mean(deviations**3) / seq.std(ddof=0) ** 3\";\n",
       "                var nbb_cells = Jupyter.notebook.get_cells();\n",
       "                for (var i = 0; i < nbb_cells.length; ++i) {\n",
       "                    if (nbb_cells[i].input_prompt_number == nbb_cell_id) {\n",
       "                        if (nbb_cells[i].get_text() == nbb_unformatted_code) {\n",
       "                             nbb_cells[i].set_text(nbb_formatted_code);\n",
       "                        }\n",
       "                        break;\n",
       "                    }\n",
       "                }\n",
       "            }, 500);\n",
       "            "
      ],
      "text/plain": [
       "<IPython.core.display.Javascript object>"
      ]
     },
     "metadata": {},
     "output_type": "display_data"
    }
   ],
   "source": [
    "def skewness(seq):\n",
    "    \"\"\"Compute the skewness of a sequence\n",
    "\n",
    "    seq: sequence of numbers\n",
    "\n",
    "    returns: float skewness\n",
    "    \"\"\"\n",
    "    deviations = seq - seq.mean()\n",
    "    return np.mean(deviations**3) / seq.std(ddof=0) ** 3"
   ]
  },
  {
   "cell_type": "code",
   "execution_count": 50,
   "id": "790afa09",
   "metadata": {},
   "outputs": [
    {
     "data": {
      "text/plain": [
       "(22.251846195422484, -0.5895062687577697)"
      ]
     },
     "execution_count": 50,
     "metadata": {},
     "output_type": "execute_result"
    },
    {
     "data": {
      "application/javascript": [
       "\n",
       "            setTimeout(function() {\n",
       "                var nbb_cell_id = 50;\n",
       "                var nbb_unformatted_code = \"skew1, skew2 = skewness(total_weight_bogus), skewness(total_weight_clean)\\nskew1, skew2\";\n",
       "                var nbb_formatted_code = \"skew1, skew2 = skewness(total_weight_bogus), skewness(total_weight_clean)\\nskew1, skew2\";\n",
       "                var nbb_cells = Jupyter.notebook.get_cells();\n",
       "                for (var i = 0; i < nbb_cells.length; ++i) {\n",
       "                    if (nbb_cells[i].input_prompt_number == nbb_cell_id) {\n",
       "                        if (nbb_cells[i].get_text() == nbb_unformatted_code) {\n",
       "                             nbb_cells[i].set_text(nbb_formatted_code);\n",
       "                        }\n",
       "                        break;\n",
       "                    }\n",
       "                }\n",
       "            }, 500);\n",
       "            "
      ],
      "text/plain": [
       "<IPython.core.display.Javascript object>"
      ]
     },
     "metadata": {},
     "output_type": "display_data"
    }
   ],
   "source": [
    "skew1, skew2 = skewness(total_weight_bogus), skewness(total_weight_clean)\n",
    "skew1, skew2"
   ]
  },
  {
   "cell_type": "code",
   "execution_count": 51,
   "id": "323e9b7d",
   "metadata": {},
   "outputs": [
    {
     "data": {
      "text/plain": [
       "-38.74658112171128"
      ]
     },
     "execution_count": 51,
     "metadata": {},
     "output_type": "execute_result"
    },
    {
     "data": {
      "application/javascript": [
       "\n",
       "            setTimeout(function() {\n",
       "                var nbb_cell_id = 51;\n",
       "                var nbb_unformatted_code = \"(skew1 - skew2) / skew2\";\n",
       "                var nbb_formatted_code = \"(skew1 - skew2) / skew2\";\n",
       "                var nbb_cells = Jupyter.notebook.get_cells();\n",
       "                for (var i = 0; i < nbb_cells.length; ++i) {\n",
       "                    if (nbb_cells[i].input_prompt_number == nbb_cell_id) {\n",
       "                        if (nbb_cells[i].get_text() == nbb_unformatted_code) {\n",
       "                             nbb_cells[i].set_text(nbb_formatted_code);\n",
       "                        }\n",
       "                        break;\n",
       "                    }\n",
       "                }\n",
       "            }, 500);\n",
       "            "
      ],
      "text/plain": [
       "<IPython.core.display.Javascript object>"
      ]
     },
     "metadata": {},
     "output_type": "display_data"
    }
   ],
   "source": [
    "(skew1 - skew2) / skew2"
   ]
  },
  {
   "cell_type": "markdown",
   "id": "409c5ccf",
   "metadata": {},
   "source": [
    "The skewness of the bogus dataset is off by a factor of almost 40, and it has the wrong sign! With the outliers added to the data, the distribution is strongly skewed to the right, as indicated by large positive skewness.\n",
    "But the distribution of the valid data is slightly skewed to the left, as indicated by small negative skewness.\n",
    "\n",
    "These results show that a small number of outliers have a moderate effect on the mean, a strong effect on the standard deviation, and a disastrous effect on skewness.\n",
    "\n",
    "An alternative is to use statistics based on percentiles.\n",
    "Specifically:\n",
    "\n",
    "* The median, which is the 50th percentile, identifies a central point in a distribution, like the mean.\n",
    "\n",
    "* The interquartile range, which is the difference between the 25th and 75th percentiles, quantifies the spread of the distribution, like the standard deviation.\n",
    "\n",
    "* The quartile skewness uses the quartiles of the distribution (25th, 50th, and 75th percentiles) to quantify the skewness."
   ]
  },
  {
   "cell_type": "markdown",
   "id": "d144baab",
   "metadata": {},
   "source": [
    "The `Cdf` object provides an efficient way to compute these percentile-based statistics.\n",
    "To demonstrate, let's make a `Cdf` object from the bogus and clean datasets."
   ]
  },
  {
   "cell_type": "code",
   "execution_count": 52,
   "id": "a32716e7",
   "metadata": {},
   "outputs": [
    {
     "data": {
      "application/javascript": [
       "\n",
       "            setTimeout(function() {\n",
       "                var nbb_cell_id = 52;\n",
       "                var nbb_unformatted_code = \"cdf_total_weight_bogus = Cdf.from_seq(total_weight_bogus)\\ncdf_total_weight_clean = Cdf.from_seq(total_weight_clean)\";\n",
       "                var nbb_formatted_code = \"cdf_total_weight_bogus = Cdf.from_seq(total_weight_bogus)\\ncdf_total_weight_clean = Cdf.from_seq(total_weight_clean)\";\n",
       "                var nbb_cells = Jupyter.notebook.get_cells();\n",
       "                for (var i = 0; i < nbb_cells.length; ++i) {\n",
       "                    if (nbb_cells[i].input_prompt_number == nbb_cell_id) {\n",
       "                        if (nbb_cells[i].get_text() == nbb_unformatted_code) {\n",
       "                             nbb_cells[i].set_text(nbb_formatted_code);\n",
       "                        }\n",
       "                        break;\n",
       "                    }\n",
       "                }\n",
       "            }, 500);\n",
       "            "
      ],
      "text/plain": [
       "<IPython.core.display.Javascript object>"
      ]
     },
     "metadata": {},
     "output_type": "display_data"
    }
   ],
   "source": [
    "cdf_total_weight_bogus = Cdf.from_seq(total_weight_bogus)\n",
    "cdf_total_weight_clean = Cdf.from_seq(total_weight_clean)"
   ]
  },
  {
   "cell_type": "markdown",
   "id": "a19196bd",
   "metadata": {},
   "source": [
    "The following function takes a `Cdf` and uses its `inverse` method to compute the 50th percentile, which is the median."
   ]
  },
  {
   "cell_type": "code",
   "execution_count": 53,
   "id": "90b90105",
   "metadata": {},
   "outputs": [
    {
     "data": {
      "application/javascript": [
       "\n",
       "            setTimeout(function() {\n",
       "                var nbb_cell_id = 53;\n",
       "                var nbb_unformatted_code = \"def median(cdf):\\n    m = cdf.inverse(0.5)\\n    return m\";\n",
       "                var nbb_formatted_code = \"def median(cdf):\\n    m = cdf.inverse(0.5)\\n    return m\";\n",
       "                var nbb_cells = Jupyter.notebook.get_cells();\n",
       "                for (var i = 0; i < nbb_cells.length; ++i) {\n",
       "                    if (nbb_cells[i].input_prompt_number == nbb_cell_id) {\n",
       "                        if (nbb_cells[i].get_text() == nbb_unformatted_code) {\n",
       "                             nbb_cells[i].set_text(nbb_formatted_code);\n",
       "                        }\n",
       "                        break;\n",
       "                    }\n",
       "                }\n",
       "            }, 500);\n",
       "            "
      ],
      "text/plain": [
       "<IPython.core.display.Javascript object>"
      ]
     },
     "metadata": {},
     "output_type": "display_data"
    }
   ],
   "source": [
    "def median(cdf):\n",
    "    m = cdf.inverse(0.5)\n",
    "    return m"
   ]
  },
  {
   "cell_type": "markdown",
   "id": "4f853749",
   "metadata": {},
   "source": [
    "Now we can compute the median of both datasets."
   ]
  },
  {
   "cell_type": "code",
   "execution_count": 54,
   "id": "eb2801c5",
   "metadata": {},
   "outputs": [
    {
     "data": {
      "text/plain": [
       "(array(7.375), array(7.375))"
      ]
     },
     "execution_count": 54,
     "metadata": {},
     "output_type": "execute_result"
    },
    {
     "data": {
      "application/javascript": [
       "\n",
       "            setTimeout(function() {\n",
       "                var nbb_cell_id = 54;\n",
       "                var nbb_unformatted_code = \"median(cdf_total_weight_bogus), median(cdf_total_weight_clean)\";\n",
       "                var nbb_formatted_code = \"median(cdf_total_weight_bogus), median(cdf_total_weight_clean)\";\n",
       "                var nbb_cells = Jupyter.notebook.get_cells();\n",
       "                for (var i = 0; i < nbb_cells.length; ++i) {\n",
       "                    if (nbb_cells[i].input_prompt_number == nbb_cell_id) {\n",
       "                        if (nbb_cells[i].get_text() == nbb_unformatted_code) {\n",
       "                             nbb_cells[i].set_text(nbb_formatted_code);\n",
       "                        }\n",
       "                        break;\n",
       "                    }\n",
       "                }\n",
       "            }, 500);\n",
       "            "
      ],
      "text/plain": [
       "<IPython.core.display.Javascript object>"
      ]
     },
     "metadata": {},
     "output_type": "display_data"
    }
   ],
   "source": [
    "median(cdf_total_weight_bogus), median(cdf_total_weight_clean)"
   ]
  },
  {
   "cell_type": "markdown",
   "id": "93134ba6",
   "metadata": {},
   "source": [
    "The results are identical, so in this case, the outliers have no effect on the median at all.\n",
    "In general, outliers have a smaller effect on the median than on the mean.\n",
    "\n",
    "The **interquartile range** (IQR) is the difference between the 75th and 25th percentiles.\n",
    "The following function takes a `Cdf` and returns the IQR."
   ]
  },
  {
   "cell_type": "code",
   "execution_count": 55,
   "id": "6c0b1e91",
   "metadata": {},
   "outputs": [
    {
     "data": {
      "application/javascript": [
       "\n",
       "            setTimeout(function() {\n",
       "                var nbb_cell_id = 55;\n",
       "                var nbb_unformatted_code = \"def iqr(cdf):\\n    low, high = cdf.inverse([0.25, 0.75])\\n    return high - low\";\n",
       "                var nbb_formatted_code = \"def iqr(cdf):\\n    low, high = cdf.inverse([0.25, 0.75])\\n    return high - low\";\n",
       "                var nbb_cells = Jupyter.notebook.get_cells();\n",
       "                for (var i = 0; i < nbb_cells.length; ++i) {\n",
       "                    if (nbb_cells[i].input_prompt_number == nbb_cell_id) {\n",
       "                        if (nbb_cells[i].get_text() == nbb_unformatted_code) {\n",
       "                             nbb_cells[i].set_text(nbb_formatted_code);\n",
       "                        }\n",
       "                        break;\n",
       "                    }\n",
       "                }\n",
       "            }, 500);\n",
       "            "
      ],
      "text/plain": [
       "<IPython.core.display.Javascript object>"
      ]
     },
     "metadata": {},
     "output_type": "display_data"
    }
   ],
   "source": [
    "def iqr(cdf):\n",
    "    low, high = cdf.inverse([0.25, 0.75])\n",
    "    return high - low"
   ]
  },
  {
   "cell_type": "markdown",
   "id": "10d2ed95",
   "metadata": {},
   "source": [
    "And here are the interquartile ranges of the two datasets."
   ]
  },
  {
   "cell_type": "code",
   "execution_count": 56,
   "id": "9426569c",
   "metadata": {},
   "outputs": [
    {
     "data": {
      "text/plain": [
       "(1.625, 1.625)"
      ]
     },
     "execution_count": 56,
     "metadata": {},
     "output_type": "execute_result"
    },
    {
     "data": {
      "application/javascript": [
       "\n",
       "            setTimeout(function() {\n",
       "                var nbb_cell_id = 56;\n",
       "                var nbb_unformatted_code = \"iqr(cdf_total_weight_bogus), iqr(cdf_total_weight_clean)\";\n",
       "                var nbb_formatted_code = \"iqr(cdf_total_weight_bogus), iqr(cdf_total_weight_clean)\";\n",
       "                var nbb_cells = Jupyter.notebook.get_cells();\n",
       "                for (var i = 0; i < nbb_cells.length; ++i) {\n",
       "                    if (nbb_cells[i].input_prompt_number == nbb_cell_id) {\n",
       "                        if (nbb_cells[i].get_text() == nbb_unformatted_code) {\n",
       "                             nbb_cells[i].set_text(nbb_formatted_code);\n",
       "                        }\n",
       "                        break;\n",
       "                    }\n",
       "                }\n",
       "            }, 500);\n",
       "            "
      ],
      "text/plain": [
       "<IPython.core.display.Javascript object>"
      ]
     },
     "metadata": {},
     "output_type": "display_data"
    }
   ],
   "source": [
    "iqr(cdf_total_weight_bogus), iqr(cdf_total_weight_clean)"
   ]
  },
  {
   "cell_type": "markdown",
   "id": "66f02ff8",
   "metadata": {},
   "source": [
    "In general, outliers have less effect on the IQR than on the standard deviation -- in this case they have no effect at all.\n",
    "\n",
    "Finally, here's a function that computes quartile skewness, which is depends on three statistics:\n",
    "\n",
    "* The median,\n",
    "\n",
    "* The midpoint of 25th and 75th percentiles, and\n",
    "\n",
    "* The semi-IQR, which is half of the IQR."
   ]
  },
  {
   "cell_type": "code",
   "execution_count": 57,
   "id": "f84e5df3",
   "metadata": {},
   "outputs": [
    {
     "data": {
      "application/javascript": [
       "\n",
       "            setTimeout(function() {\n",
       "                var nbb_cell_id = 57;\n",
       "                var nbb_unformatted_code = \"def quartile_skewness(cdf):\\n    low, median, high = cdf.inverse([0.25, 0.5, 0.75])\\n    midpoint = (high + low) / 2\\n    semi_iqr = (high - low) / 2\\n    return (midpoint - median) / semi_iqr\";\n",
       "                var nbb_formatted_code = \"def quartile_skewness(cdf):\\n    low, median, high = cdf.inverse([0.25, 0.5, 0.75])\\n    midpoint = (high + low) / 2\\n    semi_iqr = (high - low) / 2\\n    return (midpoint - median) / semi_iqr\";\n",
       "                var nbb_cells = Jupyter.notebook.get_cells();\n",
       "                for (var i = 0; i < nbb_cells.length; ++i) {\n",
       "                    if (nbb_cells[i].input_prompt_number == nbb_cell_id) {\n",
       "                        if (nbb_cells[i].get_text() == nbb_unformatted_code) {\n",
       "                             nbb_cells[i].set_text(nbb_formatted_code);\n",
       "                        }\n",
       "                        break;\n",
       "                    }\n",
       "                }\n",
       "            }, 500);\n",
       "            "
      ],
      "text/plain": [
       "<IPython.core.display.Javascript object>"
      ]
     },
     "metadata": {},
     "output_type": "display_data"
    }
   ],
   "source": [
    "def quartile_skewness(cdf):\n",
    "    low, median, high = cdf.inverse([0.25, 0.5, 0.75])\n",
    "    midpoint = (high + low) / 2\n",
    "    semi_iqr = (high - low) / 2\n",
    "    return (midpoint - median) / semi_iqr"
   ]
  },
  {
   "cell_type": "code",
   "execution_count": 58,
   "id": "c21f8174",
   "metadata": {},
   "outputs": [
    {
     "data": {
      "text/plain": [
       "(-0.07692307692307693, -0.07692307692307693)"
      ]
     },
     "execution_count": 58,
     "metadata": {},
     "output_type": "execute_result"
    },
    {
     "data": {
      "application/javascript": [
       "\n",
       "            setTimeout(function() {\n",
       "                var nbb_cell_id = 58;\n",
       "                var nbb_unformatted_code = \"qskew1 = quartile_skewness(cdf_total_weight_bogus)\\nqskew2 = quartile_skewness(cdf_total_weight_clean)\\nqskew1, qskew2\";\n",
       "                var nbb_formatted_code = \"qskew1 = quartile_skewness(cdf_total_weight_bogus)\\nqskew2 = quartile_skewness(cdf_total_weight_clean)\\nqskew1, qskew2\";\n",
       "                var nbb_cells = Jupyter.notebook.get_cells();\n",
       "                for (var i = 0; i < nbb_cells.length; ++i) {\n",
       "                    if (nbb_cells[i].input_prompt_number == nbb_cell_id) {\n",
       "                        if (nbb_cells[i].get_text() == nbb_unformatted_code) {\n",
       "                             nbb_cells[i].set_text(nbb_formatted_code);\n",
       "                        }\n",
       "                        break;\n",
       "                    }\n",
       "                }\n",
       "            }, 500);\n",
       "            "
      ],
      "text/plain": [
       "<IPython.core.display.Javascript object>"
      ]
     },
     "metadata": {},
     "output_type": "display_data"
    }
   ],
   "source": [
    "qskew1 = quartile_skewness(cdf_total_weight_bogus)\n",
    "qskew2 = quartile_skewness(cdf_total_weight_clean)\n",
    "qskew1, qskew2"
   ]
  },
  {
   "cell_type": "markdown",
   "id": "bad0090a",
   "metadata": {},
   "source": [
    "These examples show that percentile-based statistics are less sensitive to outliers and errors in the data."
   ]
  },
  {
   "cell_type": "markdown",
   "id": "6b4b5580",
   "metadata": {},
   "source": [
    "## Random Numbers\n",
    "\n",
    "`Cdf` objects provide an efficient way to generate random numbers from a distribution.\n",
    "First we generate random numbers from a uniform distribution between 0 and 1.\n",
    "Then we evaluate the inverse CDF at those points.\n",
    "The following function implements this algorithm."
   ]
  },
  {
   "cell_type": "code",
   "execution_count": 59,
   "id": "a76e2116",
   "metadata": {},
   "outputs": [
    {
     "data": {
      "application/javascript": [
       "\n",
       "            setTimeout(function() {\n",
       "                var nbb_cell_id = 59;\n",
       "                var nbb_unformatted_code = \"def sample_from_cdf(cdf, n):\\n    ps = np.random.random(size=n)\\n    return cdf.inverse(ps)\";\n",
       "                var nbb_formatted_code = \"def sample_from_cdf(cdf, n):\\n    ps = np.random.random(size=n)\\n    return cdf.inverse(ps)\";\n",
       "                var nbb_cells = Jupyter.notebook.get_cells();\n",
       "                for (var i = 0; i < nbb_cells.length; ++i) {\n",
       "                    if (nbb_cells[i].input_prompt_number == nbb_cell_id) {\n",
       "                        if (nbb_cells[i].get_text() == nbb_unformatted_code) {\n",
       "                             nbb_cells[i].set_text(nbb_formatted_code);\n",
       "                        }\n",
       "                        break;\n",
       "                    }\n",
       "                }\n",
       "            }, 500);\n",
       "            "
      ],
      "text/plain": [
       "<IPython.core.display.Javascript object>"
      ]
     },
     "metadata": {},
     "output_type": "display_data"
    }
   ],
   "source": [
    "def sample_from_cdf(cdf, n):\n",
    "    ps = np.random.random(size=n)\n",
    "    return cdf.inverse(ps)"
   ]
  },
  {
   "cell_type": "code",
   "execution_count": 60,
   "id": "b14f4c93",
   "metadata": {},
   "outputs": [
    {
     "data": {
      "application/javascript": [
       "\n",
       "            setTimeout(function() {\n",
       "                var nbb_cell_id = 60;\n",
       "                var nbb_unformatted_code = \"sample = sample_from_cdf(cdf_speeds, 1633)\";\n",
       "                var nbb_formatted_code = \"sample = sample_from_cdf(cdf_speeds, 1633)\";\n",
       "                var nbb_cells = Jupyter.notebook.get_cells();\n",
       "                for (var i = 0; i < nbb_cells.length; ++i) {\n",
       "                    if (nbb_cells[i].input_prompt_number == nbb_cell_id) {\n",
       "                        if (nbb_cells[i].get_text() == nbb_unformatted_code) {\n",
       "                             nbb_cells[i].set_text(nbb_formatted_code);\n",
       "                        }\n",
       "                        break;\n",
       "                    }\n",
       "                }\n",
       "            }, 500);\n",
       "            "
      ],
      "text/plain": [
       "<IPython.core.display.Javascript object>"
      ]
     },
     "metadata": {},
     "output_type": "display_data"
    }
   ],
   "source": [
    "sample = sample_from_cdf(cdf_speeds, 1633)"
   ]
  },
  {
   "cell_type": "code",
   "execution_count": 61,
   "id": "3cdbfd37",
   "metadata": {},
   "outputs": [
    {
     "data": {
      "application/javascript": [
       "\n",
       "            setTimeout(function() {\n",
       "                var nbb_cell_id = 61;\n",
       "                var nbb_unformatted_code = \"cdf_sample = Cdf.from_seq(sample)\";\n",
       "                var nbb_formatted_code = \"cdf_sample = Cdf.from_seq(sample)\";\n",
       "                var nbb_cells = Jupyter.notebook.get_cells();\n",
       "                for (var i = 0; i < nbb_cells.length; ++i) {\n",
       "                    if (nbb_cells[i].input_prompt_number == nbb_cell_id) {\n",
       "                        if (nbb_cells[i].get_text() == nbb_unformatted_code) {\n",
       "                             nbb_cells[i].set_text(nbb_formatted_code);\n",
       "                        }\n",
       "                        break;\n",
       "                    }\n",
       "                }\n",
       "            }, 500);\n",
       "            "
      ],
      "text/plain": [
       "<IPython.core.display.Javascript object>"
      ]
     },
     "metadata": {},
     "output_type": "display_data"
    }
   ],
   "source": [
    "cdf_sample = Cdf.from_seq(sample)"
   ]
  },
  {
   "cell_type": "code",
   "execution_count": 62,
   "id": "1eb9593d",
   "metadata": {},
   "outputs": [
    {
     "data": {
      "image/png": "[encoded data removed]",
      "text/plain": [
       "<Figure size 640x480 with 1 Axes>"
      ]
     },
     "metadata": {},
     "output_type": "display_data"
    },
    {
     "data": {
      "application/javascript": [
       "\n",
       "            setTimeout(function() {\n",
       "                var nbb_cell_id = 62;\n",
       "                var nbb_unformatted_code = \"cdf_speeds.plot(label=\\\"original\\\")\\ncdf_sample.plot(label=\\\"sample\\\")\\n\\ndecorate(xlabel=\\\"Speed (mph)\\\", ylabel=\\\"CDF\\\")\";\n",
       "                var nbb_formatted_code = \"cdf_speeds.plot(label=\\\"original\\\")\\ncdf_sample.plot(label=\\\"sample\\\")\\n\\ndecorate(xlabel=\\\"Speed (mph)\\\", ylabel=\\\"CDF\\\")\";\n",
       "                var nbb_cells = Jupyter.notebook.get_cells();\n",
       "                for (var i = 0; i < nbb_cells.length; ++i) {\n",
       "                    if (nbb_cells[i].input_prompt_number == nbb_cell_id) {\n",
       "                        if (nbb_cells[i].get_text() == nbb_unformatted_code) {\n",
       "                             nbb_cells[i].set_text(nbb_formatted_code);\n",
       "                        }\n",
       "                        break;\n",
       "                    }\n",
       "                }\n",
       "            }, 500);\n",
       "            "
      ],
      "text/plain": [
       "<IPython.core.display.Javascript object>"
      ]
     },
     "metadata": {},
     "output_type": "display_data"
    }
   ],
   "source": [
    "cdf_speeds.plot(label=\"original\")\n",
    "cdf_sample.plot(label=\"sample\")\n",
    "\n",
    "decorate(xlabel=\"Speed (mph)\", ylabel=\"CDF\")"
   ]
  },
  {
   "cell_type": "markdown",
   "id": "5279c66b",
   "metadata": {},
   "source": [
    "To understand how this algorithm works, consider this question:\n",
    "\n",
    "Suppose we choose a random sample from the population of running speed and look up the percentile ranks of the speeds in the sample.\n",
    "Now suppose we compute the CDF of the percentile ranks.\n",
    "What do you think it will look like?\n",
    "\n",
    "Let's find out. Here are the percentile ranks for the sample we generated."
   ]
  },
  {
   "cell_type": "code",
   "execution_count": 63,
   "id": "f95a1237",
   "metadata": {},
   "outputs": [
    {
     "data": {
      "application/javascript": [
       "\n",
       "            setTimeout(function() {\n",
       "                var nbb_cell_id = 63;\n",
       "                var nbb_unformatted_code = \"percentile_ranks = cdf_speeds(sample) * 100\";\n",
       "                var nbb_formatted_code = \"percentile_ranks = cdf_speeds(sample) * 100\";\n",
       "                var nbb_cells = Jupyter.notebook.get_cells();\n",
       "                for (var i = 0; i < nbb_cells.length; ++i) {\n",
       "                    if (nbb_cells[i].input_prompt_number == nbb_cell_id) {\n",
       "                        if (nbb_cells[i].get_text() == nbb_unformatted_code) {\n",
       "                             nbb_cells[i].set_text(nbb_formatted_code);\n",
       "                        }\n",
       "                        break;\n",
       "                    }\n",
       "                }\n",
       "            }, 500);\n",
       "            "
      ],
      "text/plain": [
       "<IPython.core.display.Javascript object>"
      ]
     },
     "metadata": {},
     "output_type": "display_data"
    }
   ],
   "source": [
    "percentile_ranks = cdf_speeds(sample) * 100"
   ]
  },
  {
   "cell_type": "markdown",
   "id": "80241b35",
   "metadata": {},
   "source": [
    "And here is the CDF of the percentile ranks."
   ]
  },
  {
   "cell_type": "code",
   "execution_count": 64,
   "id": "1e469506",
   "metadata": {},
   "outputs": [
    {
     "data": {
      "image/png": "[encoded data removed]",
      "text/plain": [
       "<Figure size 640x480 with 1 Axes>"
      ]
     },
     "metadata": {},
     "output_type": "display_data"
    },
    {
     "data": {
      "application/javascript": [
       "\n",
       "            setTimeout(function() {\n",
       "                var nbb_cell_id = 64;\n",
       "                var nbb_unformatted_code = \"cdf_percentile_rank = Cdf.from_seq(percentile_ranks)\\ncdf_percentile_rank.plot()\\n\\ndecorate(xlabel=\\\"Percentile rank\\\", ylabel=\\\"CDF\\\")\";\n",
       "                var nbb_formatted_code = \"cdf_percentile_rank = Cdf.from_seq(percentile_ranks)\\ncdf_percentile_rank.plot()\\n\\ndecorate(xlabel=\\\"Percentile rank\\\", ylabel=\\\"CDF\\\")\";\n",
       "                var nbb_cells = Jupyter.notebook.get_cells();\n",
       "                for (var i = 0; i < nbb_cells.length; ++i) {\n",
       "                    if (nbb_cells[i].input_prompt_number == nbb_cell_id) {\n",
       "                        if (nbb_cells[i].get_text() == nbb_unformatted_code) {\n",
       "                             nbb_cells[i].set_text(nbb_formatted_code);\n",
       "                        }\n",
       "                        break;\n",
       "                    }\n",
       "                }\n",
       "            }, 500);\n",
       "            "
      ],
      "text/plain": [
       "<IPython.core.display.Javascript object>"
      ]
     },
     "metadata": {},
     "output_type": "display_data"
    }
   ],
   "source": [
    "cdf_percentile_rank = Cdf.from_seq(percentile_ranks)\n",
    "cdf_percentile_rank.plot()\n",
    "\n",
    "decorate(xlabel=\"Percentile rank\", ylabel=\"CDF\")"
   ]
  },
  {
   "cell_type": "markdown",
   "id": "a687ada3",
   "metadata": {},
   "source": [
    "The CDF of the percentile ranks is close to a straight line, which suggests that it is a uniform distribution between 0 and 1.\n",
    "And that makes sense, because in any distribution, the proportion with percentile rank less than 50% is 0.5; the proportion with percentile rank less than 90% is 0.9, and so on.\n",
    "\n",
    "So, if we have a random sample from a distribution and we compute their percentile ranks, we get a uniform distribution."
   ]
  },
  {
   "cell_type": "markdown",
   "id": "86fe2474",
   "metadata": {},
   "source": [
    "`Cdf` provides a `sample` method that uses this algorithm, so we could also generate a sample like this."
   ]
  },
  {
   "cell_type": "code",
   "execution_count": 65,
   "id": "a9d31255",
   "metadata": {},
   "outputs": [
    {
     "data": {
      "application/javascript": [
       "\n",
       "            setTimeout(function() {\n",
       "                var nbb_cell_id = 65;\n",
       "                var nbb_unformatted_code = \"sample = cdf_speeds.sample(1633)\";\n",
       "                var nbb_formatted_code = \"sample = cdf_speeds.sample(1633)\";\n",
       "                var nbb_cells = Jupyter.notebook.get_cells();\n",
       "                for (var i = 0; i < nbb_cells.length; ++i) {\n",
       "                    if (nbb_cells[i].input_prompt_number == nbb_cell_id) {\n",
       "                        if (nbb_cells[i].get_text() == nbb_unformatted_code) {\n",
       "                             nbb_cells[i].set_text(nbb_formatted_code);\n",
       "                        }\n",
       "                        break;\n",
       "                    }\n",
       "                }\n",
       "            }, 500);\n",
       "            "
      ],
      "text/plain": [
       "<IPython.core.display.Javascript object>"
      ]
     },
     "metadata": {},
     "output_type": "display_data"
    }
   ],
   "source": [
    "sample = cdf_speeds.sample(1633)"
   ]
  },
  {
   "cell_type": "markdown",
   "id": "327f0a79",
   "metadata": {},
   "source": [
    "## Glossary\n",
    "\n",
    "-   **percentile rank**: The percentage of quantities in a distribution that are less than or equal to a given quantity.\n",
    "\n",
    "-   **percentile**: The quantity associated with a given percentile rank.\n",
    "\n",
    "-   **cumulative distribution function (CDF)**: A function that maps from quantities to their cumulative probabilities.\n",
    "$CDF(x)$ is the fraction of the sample less than or equal to $x$.\n",
    "\n",
    "-   **inverse CDF**: A function that maps from a cumulative probability, $p$, to the corresponding quantity.\n",
    "\n",
    "-   **median**: The 50th percentile, often used as a measure of central tendency.\n",
    "\n",
    "-   **interquartile range**: The difference between the 75th and 25th percentiles, used as a measure of spread.\n",
    "\n",
    "-   **quantile**: A sequence of quantities that correspond to equally spaced percentile ranks; for example, the quartiles of a distribution are the 25th, 50th and 75th percentiles.\n",
    "\n",
    "-   **replacement**: A property of a sampling process.\n",
    "\"With replacement\" means that the same quantity can be chosen more than once; \"without replacement\" means that once a quantity is chosen, it is removed from the population."
   ]
  },
  {
   "cell_type": "markdown",
   "id": "37ae0af7",
   "metadata": {
    "collapsed": true
   },
   "source": [
    "## Exercises"
   ]
  },
  {
   "cell_type": "markdown",
   "id": "ce30c7e3",
   "metadata": {
    "collapsed": true
   },
   "source": [
    "### Exercise \n",
    "\n",
    "How much did you weigh at birth? If you don't know, call your mother or someone else who knows.\n",
    "Using the NSFG data (all live births), compute the distribution of birth weights and use it to find your percentile rank.\n",
    "If you were a first baby, find your percentile rank in the distribution for first babies.\n",
    "Otherwise use the distribution for others.\n",
    "If you are in the 90th percentile or higher, call your mother back and apologize."
   ]
  },
  {
   "cell_type": "code",
   "execution_count": 66,
   "id": "f1600909",
   "metadata": {},
   "outputs": [
    {
     "data": {
      "application/javascript": [
       "\n",
       "            setTimeout(function() {\n",
       "                var nbb_cell_id = 66;\n",
       "                var nbb_unformatted_code = \"from nsfg import get_nsfg_groups\\n\\nlive, firsts, others = get_nsfg_groups()\";\n",
       "                var nbb_formatted_code = \"from nsfg import get_nsfg_groups\\n\\nlive, firsts, others = get_nsfg_groups()\";\n",
       "                var nbb_cells = Jupyter.notebook.get_cells();\n",
       "                for (var i = 0; i < nbb_cells.length; ++i) {\n",
       "                    if (nbb_cells[i].input_prompt_number == nbb_cell_id) {\n",
       "                        if (nbb_cells[i].get_text() == nbb_unformatted_code) {\n",
       "                             nbb_cells[i].set_text(nbb_formatted_code);\n",
       "                        }\n",
       "                        break;\n",
       "                    }\n",
       "                }\n",
       "            }, 500);\n",
       "            "
      ],
      "text/plain": [
       "<IPython.core.display.Javascript object>"
      ]
     },
     "metadata": {},
     "output_type": "display_data"
    }
   ],
   "source": [
    "from nsfg import get_nsfg_groups\n",
    "\n",
    "live, firsts, others = get_nsfg_groups()"
   ]
  },
  {
   "cell_type": "code",
   "execution_count": 67,
   "id": "cf12f4a1",
   "metadata": {},
   "outputs": [
    {
     "data": {
      "text/plain": [
       "84.06727152024784"
      ]
     },
     "execution_count": 67,
     "metadata": {},
     "output_type": "execute_result"
    },
    {
     "data": {
      "application/javascript": [
       "\n",
       "            setTimeout(function() {\n",
       "                var nbb_cell_id = 67;\n",
       "                var nbb_unformatted_code = \"# Solution\\n\\nweight = 8.5\\n\\nlive_cdf = Cdf.from_seq(live[\\\"totalwgt_lb\\\"])\\nlive_cdf(weight) * 100\";\n",
       "                var nbb_formatted_code = \"# Solution\\n\\nweight = 8.5\\n\\nlive_cdf = Cdf.from_seq(live[\\\"totalwgt_lb\\\"])\\nlive_cdf(weight) * 100\";\n",
       "                var nbb_cells = Jupyter.notebook.get_cells();\n",
       "                for (var i = 0; i < nbb_cells.length; ++i) {\n",
       "                    if (nbb_cells[i].input_prompt_number == nbb_cell_id) {\n",
       "                        if (nbb_cells[i].get_text() == nbb_unformatted_code) {\n",
       "                             nbb_cells[i].set_text(nbb_formatted_code);\n",
       "                        }\n",
       "                        break;\n",
       "                    }\n",
       "                }\n",
       "            }, 500);\n",
       "            "
      ],
      "text/plain": [
       "<IPython.core.display.Javascript object>"
      ]
     },
     "metadata": {},
     "output_type": "display_data"
    }
   ],
   "source": []
  },
  {
   "cell_type": "code",
   "execution_count": 68,
   "id": "cf35bb14",
   "metadata": {},
   "outputs": [
    {
     "data": {
      "text/plain": [
       "85.90419436167774"
      ]
     },
     "execution_count": 68,
     "metadata": {},
     "output_type": "execute_result"
    },
    {
     "data": {
      "application/javascript": [
       "\n",
       "            setTimeout(function() {\n",
       "                var nbb_cell_id = 68;\n",
       "                var nbb_unformatted_code = \"# Solution\\n\\nfirst_cdf = Cdf.from_seq(firsts[\\\"totalwgt_lb\\\"])\\nfirst_cdf(weight) * 100\";\n",
       "                var nbb_formatted_code = \"# Solution\\n\\nfirst_cdf = Cdf.from_seq(firsts[\\\"totalwgt_lb\\\"])\\nfirst_cdf(weight) * 100\";\n",
       "                var nbb_cells = Jupyter.notebook.get_cells();\n",
       "                for (var i = 0; i < nbb_cells.length; ++i) {\n",
       "                    if (nbb_cells[i].input_prompt_number == nbb_cell_id) {\n",
       "                        if (nbb_cells[i].get_text() == nbb_unformatted_code) {\n",
       "                             nbb_cells[i].set_text(nbb_formatted_code);\n",
       "                        }\n",
       "                        break;\n",
       "                    }\n",
       "                }\n",
       "            }, 500);\n",
       "            "
      ],
      "text/plain": [
       "<IPython.core.display.Javascript object>"
      ]
     },
     "metadata": {},
     "output_type": "display_data"
    }
   ],
   "source": []
  },
  {
   "cell_type": "code",
   "execution_count": 69,
   "id": "c93a0d00",
   "metadata": {},
   "outputs": [
    {
     "data": {
      "text/plain": [
       "82.35294117647058"
      ]
     },
     "execution_count": 69,
     "metadata": {},
     "output_type": "execute_result"
    },
    {
     "data": {
      "application/javascript": [
       "\n",
       "            setTimeout(function() {\n",
       "                var nbb_cell_id = 69;\n",
       "                var nbb_unformatted_code = \"# Solution\\n\\nother_cdf = Cdf.from_seq(others[\\\"totalwgt_lb\\\"])\\nother_cdf(weight) * 100\";\n",
       "                var nbb_formatted_code = \"# Solution\\n\\nother_cdf = Cdf.from_seq(others[\\\"totalwgt_lb\\\"])\\nother_cdf(weight) * 100\";\n",
       "                var nbb_cells = Jupyter.notebook.get_cells();\n",
       "                for (var i = 0; i < nbb_cells.length; ++i) {\n",
       "                    if (nbb_cells[i].input_prompt_number == nbb_cell_id) {\n",
       "                        if (nbb_cells[i].get_text() == nbb_unformatted_code) {\n",
       "                             nbb_cells[i].set_text(nbb_formatted_code);\n",
       "                        }\n",
       "                        break;\n",
       "                    }\n",
       "                }\n",
       "            }, 500);\n",
       "            "
      ],
      "text/plain": [
       "<IPython.core.display.Javascript object>"
      ]
     },
     "metadata": {},
     "output_type": "display_data"
    }
   ],
   "source": []
  },
  {
   "cell_type": "markdown",
   "id": "8ce9366c",
   "metadata": {},
   "source": [
    "### Exercise\n",
    "\n",
    "For live births in the NSFG dataset, the column `babysex` indicates whether the baby was male or female.\n",
    "We can use `query` to select the rows for male and female babies."
   ]
  },
  {
   "cell_type": "code",
   "execution_count": 70,
   "id": "8d6d3797",
   "metadata": {},
   "outputs": [
    {
     "data": {
      "text/plain": [
       "(4641, 4500)"
      ]
     },
     "execution_count": 70,
     "metadata": {},
     "output_type": "execute_result"
    },
    {
     "data": {
      "application/javascript": [
       "\n",
       "            setTimeout(function() {\n",
       "                var nbb_cell_id = 70;\n",
       "                var nbb_unformatted_code = \"male = live.query(\\\"babysex == 1\\\")\\nfemale = live.query(\\\"babysex == 2\\\")\\nlen(male), len(female)\";\n",
       "                var nbb_formatted_code = \"male = live.query(\\\"babysex == 1\\\")\\nfemale = live.query(\\\"babysex == 2\\\")\\nlen(male), len(female)\";\n",
       "                var nbb_cells = Jupyter.notebook.get_cells();\n",
       "                for (var i = 0; i < nbb_cells.length; ++i) {\n",
       "                    if (nbb_cells[i].input_prompt_number == nbb_cell_id) {\n",
       "                        if (nbb_cells[i].get_text() == nbb_unformatted_code) {\n",
       "                             nbb_cells[i].set_text(nbb_formatted_code);\n",
       "                        }\n",
       "                        break;\n",
       "                    }\n",
       "                }\n",
       "            }, 500);\n",
       "            "
      ],
      "text/plain": [
       "<IPython.core.display.Javascript object>"
      ]
     },
     "metadata": {},
     "output_type": "display_data"
    }
   ],
   "source": [
    "male = live.query(\"babysex == 1\")\n",
    "female = live.query(\"babysex == 2\")\n",
    "len(male), len(female)"
   ]
  },
  {
   "cell_type": "markdown",
   "id": "1cc5c0de",
   "metadata": {},
   "source": [
    "Make `Cdf` objects that represent the distribution of birth weights for male and female babies.\n",
    "Plot the two CDFs.\n",
    "What are the differences in the shape and location of the distributions?\n",
    "\n",
    "If a male baby weighs 8.5 pounds, what is his percentile rank? What is the weight of a female baby with the same percentile rank?"
   ]
  },
  {
   "cell_type": "code",
   "execution_count": 71,
   "id": "3e0c29d4",
   "metadata": {},
   "outputs": [
    {
     "data": {
      "application/javascript": [
       "\n",
       "            setTimeout(function() {\n",
       "                var nbb_cell_id = 71;\n",
       "                var nbb_unformatted_code = \"# Solution\\n\\ncdf_birth_weight_male = Cdf.from_seq(male[\\\"totalwgt_lb\\\"])\\ncdf_birth_weight_female = Cdf.from_seq(female[\\\"totalwgt_lb\\\"])\";\n",
       "                var nbb_formatted_code = \"# Solution\\n\\ncdf_birth_weight_male = Cdf.from_seq(male[\\\"totalwgt_lb\\\"])\\ncdf_birth_weight_female = Cdf.from_seq(female[\\\"totalwgt_lb\\\"])\";\n",
       "                var nbb_cells = Jupyter.notebook.get_cells();\n",
       "                for (var i = 0; i < nbb_cells.length; ++i) {\n",
       "                    if (nbb_cells[i].input_prompt_number == nbb_cell_id) {\n",
       "                        if (nbb_cells[i].get_text() == nbb_unformatted_code) {\n",
       "                             nbb_cells[i].set_text(nbb_formatted_code);\n",
       "                        }\n",
       "                        break;\n",
       "                    }\n",
       "                }\n",
       "            }, 500);\n",
       "            "
      ],
      "text/plain": [
       "<IPython.core.display.Javascript object>"
      ]
     },
     "metadata": {},
     "output_type": "display_data"
    }
   ],
   "source": []
  },
  {
   "cell_type": "code",
   "execution_count": 72,
   "id": "94fcf178",
   "metadata": {},
   "outputs": [
    {
     "data": {
      "image/png": "[encoded data removed]",
      "text/plain": [
       "<Figure size 640x480 with 1 Axes>"
      ]
     },
     "metadata": {},
     "output_type": "display_data"
    },
    {
     "data": {
      "application/javascript": [
       "\n",
       "            setTimeout(function() {\n",
       "                var nbb_cell_id = 72;\n",
       "                var nbb_unformatted_code = \"# Solution\\n\\ncdf_birth_weight_male.plot(label=\\\"male\\\")\\ncdf_birth_weight_female.plot(label=\\\"female\\\")\\n\\ndecorate(xlabel=\\\"Weight (pounds)\\\", ylabel=\\\"CDF\\\")\";\n",
       "                var nbb_formatted_code = \"# Solution\\n\\ncdf_birth_weight_male.plot(label=\\\"male\\\")\\ncdf_birth_weight_female.plot(label=\\\"female\\\")\\n\\ndecorate(xlabel=\\\"Weight (pounds)\\\", ylabel=\\\"CDF\\\")\";\n",
       "                var nbb_cells = Jupyter.notebook.get_cells();\n",
       "                for (var i = 0; i < nbb_cells.length; ++i) {\n",
       "                    if (nbb_cells[i].input_prompt_number == nbb_cell_id) {\n",
       "                        if (nbb_cells[i].get_text() == nbb_unformatted_code) {\n",
       "                             nbb_cells[i].set_text(nbb_formatted_code);\n",
       "                        }\n",
       "                        break;\n",
       "                    }\n",
       "                }\n",
       "            }, 500);\n",
       "            "
      ],
      "text/plain": [
       "<IPython.core.display.Javascript object>"
      ]
     },
     "metadata": {},
     "output_type": "display_data"
    }
   ],
   "source": []
  },
  {
   "cell_type": "code",
   "execution_count": 73,
   "id": "d60f5e77",
   "metadata": {},
   "outputs": [
    {
     "data": {
      "application/javascript": [
       "\n",
       "            setTimeout(function() {\n",
       "                var nbb_cell_id = 73;\n",
       "                var nbb_unformatted_code = \"# Solution\\n\\n# The shapes of the distributions are the same, but the locations are different.\";\n",
       "                var nbb_formatted_code = \"# Solution\\n\\n# The shapes of the distributions are the same, but the locations are different.\";\n",
       "                var nbb_cells = Jupyter.notebook.get_cells();\n",
       "                for (var i = 0; i < nbb_cells.length; ++i) {\n",
       "                    if (nbb_cells[i].input_prompt_number == nbb_cell_id) {\n",
       "                        if (nbb_cells[i].get_text() == nbb_unformatted_code) {\n",
       "                             nbb_cells[i].set_text(nbb_formatted_code);\n",
       "                        }\n",
       "                        break;\n",
       "                    }\n",
       "                }\n",
       "            }, 500);\n",
       "            "
      ],
      "text/plain": [
       "<IPython.core.display.Javascript object>"
      ]
     },
     "metadata": {},
     "output_type": "display_data"
    }
   ],
   "source": []
  },
  {
   "cell_type": "code",
   "execution_count": 74,
   "id": "c4d96906",
   "metadata": {},
   "outputs": [
    {
     "data": {
      "text/plain": [
       "80.65430752453653"
      ]
     },
     "execution_count": 74,
     "metadata": {},
     "output_type": "execute_result"
    },
    {
     "data": {
      "application/javascript": [
       "\n",
       "            setTimeout(function() {\n",
       "                var nbb_cell_id = 74;\n",
       "                var nbb_unformatted_code = \"# Solution\\n\\npercentile_rank = cdf_birth_weight_male(8.5) * 100\\npercentile_rank\";\n",
       "                var nbb_formatted_code = \"# Solution\\n\\npercentile_rank = cdf_birth_weight_male(8.5) * 100\\npercentile_rank\";\n",
       "                var nbb_cells = Jupyter.notebook.get_cells();\n",
       "                for (var i = 0; i < nbb_cells.length; ++i) {\n",
       "                    if (nbb_cells[i].input_prompt_number == nbb_cell_id) {\n",
       "                        if (nbb_cells[i].get_text() == nbb_unformatted_code) {\n",
       "                             nbb_cells[i].set_text(nbb_formatted_code);\n",
       "                        }\n",
       "                        break;\n",
       "                    }\n",
       "                }\n",
       "            }, 500);\n",
       "            "
      ],
      "text/plain": [
       "<IPython.core.display.Javascript object>"
      ]
     },
     "metadata": {},
     "output_type": "display_data"
    }
   ],
   "source": []
  },
  {
   "cell_type": "code",
   "execution_count": 75,
   "id": "4dc8cd84",
   "metadata": {},
   "outputs": [
    {
     "data": {
      "text/plain": [
       "array(8.1875)"
      ]
     },
     "execution_count": 75,
     "metadata": {},
     "output_type": "execute_result"
    },
    {
     "data": {
      "application/javascript": [
       "\n",
       "            setTimeout(function() {\n",
       "                var nbb_cell_id = 75;\n",
       "                var nbb_unformatted_code = \"# Solution\\n\\ncdf_birth_weight_female.inverse(percentile_rank / 100)\";\n",
       "                var nbb_formatted_code = \"# Solution\\n\\ncdf_birth_weight_female.inverse(percentile_rank / 100)\";\n",
       "                var nbb_cells = Jupyter.notebook.get_cells();\n",
       "                for (var i = 0; i < nbb_cells.length; ++i) {\n",
       "                    if (nbb_cells[i].input_prompt_number == nbb_cell_id) {\n",
       "                        if (nbb_cells[i].get_text() == nbb_unformatted_code) {\n",
       "                             nbb_cells[i].set_text(nbb_formatted_code);\n",
       "                        }\n",
       "                        break;\n",
       "                    }\n",
       "                }\n",
       "            }, 500);\n",
       "            "
      ],
      "text/plain": [
       "<IPython.core.display.Javascript object>"
      ]
     },
     "metadata": {},
     "output_type": "display_data"
    }
   ],
   "source": []
  },
  {
   "cell_type": "markdown",
   "id": "fd2489dd",
   "metadata": {},
   "source": [
    "### Exercise\n",
    "\n",
    "From the NSFG dataset pregnancy data, select the `agepreg` column, divide by 100 to convert to and make a `Cdf` to represent the distribution of age at conception for each pregnancy.\n",
    "\n",
    "Use the CDF to compute the percentage of ages less than or equal to 20, and the percentage less than or equal to 30.\n",
    "\n",
    "Use those results to compute the percentage between 20 and 30."
   ]
  },
  {
   "cell_type": "code",
   "execution_count": 76,
   "id": "b5f29514",
   "metadata": {},
   "outputs": [
    {
     "data": {
      "application/javascript": [
       "\n",
       "            setTimeout(function() {\n",
       "                var nbb_cell_id = 76;\n",
       "                var nbb_unformatted_code = \"from nsfg import read_fem_preg\\n\\npreg = read_fem_preg()\";\n",
       "                var nbb_formatted_code = \"from nsfg import read_fem_preg\\n\\npreg = read_fem_preg()\";\n",
       "                var nbb_cells = Jupyter.notebook.get_cells();\n",
       "                for (var i = 0; i < nbb_cells.length; ++i) {\n",
       "                    if (nbb_cells[i].input_prompt_number == nbb_cell_id) {\n",
       "                        if (nbb_cells[i].get_text() == nbb_unformatted_code) {\n",
       "                             nbb_cells[i].set_text(nbb_formatted_code);\n",
       "                        }\n",
       "                        break;\n",
       "                    }\n",
       "                }\n",
       "            }, 500);\n",
       "            "
      ],
      "text/plain": [
       "<IPython.core.display.Javascript object>"
      ]
     },
     "metadata": {},
     "output_type": "display_data"
    }
   ],
   "source": [
    "from nsfg import read_fem_preg\n",
    "\n",
    "preg = read_fem_preg()"
   ]
  },
  {
   "cell_type": "code",
   "execution_count": 77,
   "id": "5834fd4c",
   "metadata": {},
   "outputs": [
    {
     "data": {
      "application/javascript": [
       "\n",
       "            setTimeout(function() {\n",
       "                var nbb_cell_id = 77;\n",
       "                var nbb_unformatted_code = \"# Solution\\n\\nages = preg[\\\"agepreg\\\"]\\ncdf_ages = Cdf.from_seq(ages)\";\n",
       "                var nbb_formatted_code = \"# Solution\\n\\nages = preg[\\\"agepreg\\\"]\\ncdf_ages = Cdf.from_seq(ages)\";\n",
       "                var nbb_cells = Jupyter.notebook.get_cells();\n",
       "                for (var i = 0; i < nbb_cells.length; ++i) {\n",
       "                    if (nbb_cells[i].input_prompt_number == nbb_cell_id) {\n",
       "                        if (nbb_cells[i].get_text() == nbb_unformatted_code) {\n",
       "                             nbb_cells[i].set_text(nbb_formatted_code);\n",
       "                        }\n",
       "                        break;\n",
       "                    }\n",
       "                }\n",
       "            }, 500);\n",
       "            "
      ],
      "text/plain": [
       "<IPython.core.display.Javascript object>"
      ]
     },
     "metadata": {},
     "output_type": "display_data"
    }
   ],
   "source": []
  },
  {
   "cell_type": "code",
   "execution_count": 78,
   "id": "988569df",
   "metadata": {},
   "outputs": [
    {
     "data": {
      "text/plain": [
       "24.718676837096893"
      ]
     },
     "execution_count": 78,
     "metadata": {},
     "output_type": "execute_result"
    },
    {
     "data": {
      "application/javascript": [
       "\n",
       "            setTimeout(function() {\n",
       "                var nbb_cell_id = 78;\n",
       "                var nbb_unformatted_code = \"# Solution\\n\\nbelow20 = cdf_ages(20) * 100\\nbelow20\";\n",
       "                var nbb_formatted_code = \"# Solution\\n\\nbelow20 = cdf_ages(20) * 100\\nbelow20\";\n",
       "                var nbb_cells = Jupyter.notebook.get_cells();\n",
       "                for (var i = 0; i < nbb_cells.length; ++i) {\n",
       "                    if (nbb_cells[i].input_prompt_number == nbb_cell_id) {\n",
       "                        if (nbb_cells[i].get_text() == nbb_unformatted_code) {\n",
       "                             nbb_cells[i].set_text(nbb_formatted_code);\n",
       "                        }\n",
       "                        break;\n",
       "                    }\n",
       "                }\n",
       "            }, 500);\n",
       "            "
      ],
      "text/plain": [
       "<IPython.core.display.Javascript object>"
      ]
     },
     "metadata": {},
     "output_type": "display_data"
    }
   ],
   "source": []
  },
  {
   "cell_type": "code",
   "execution_count": 79,
   "id": "0e66dcd3",
   "metadata": {},
   "outputs": [
    {
     "data": {
      "text/plain": [
       "80.46220074012537"
      ]
     },
     "execution_count": 79,
     "metadata": {},
     "output_type": "execute_result"
    },
    {
     "data": {
      "application/javascript": [
       "\n",
       "            setTimeout(function() {\n",
       "                var nbb_cell_id = 79;\n",
       "                var nbb_unformatted_code = \"# Solution\\n\\nbelow30 = cdf_ages(30) * 100\\nbelow30\";\n",
       "                var nbb_formatted_code = \"# Solution\\n\\nbelow30 = cdf_ages(30) * 100\\nbelow30\";\n",
       "                var nbb_cells = Jupyter.notebook.get_cells();\n",
       "                for (var i = 0; i < nbb_cells.length; ++i) {\n",
       "                    if (nbb_cells[i].input_prompt_number == nbb_cell_id) {\n",
       "                        if (nbb_cells[i].get_text() == nbb_unformatted_code) {\n",
       "                             nbb_cells[i].set_text(nbb_formatted_code);\n",
       "                        }\n",
       "                        break;\n",
       "                    }\n",
       "                }\n",
       "            }, 500);\n",
       "            "
      ],
      "text/plain": [
       "<IPython.core.display.Javascript object>"
      ]
     },
     "metadata": {},
     "output_type": "display_data"
    }
   ],
   "source": []
  },
  {
   "cell_type": "code",
   "execution_count": 80,
   "id": "f92f4c46",
   "metadata": {},
   "outputs": [
    {
     "data": {
      "text/plain": [
       "55.743523903028475"
      ]
     },
     "execution_count": 80,
     "metadata": {},
     "output_type": "execute_result"
    },
    {
     "data": {
      "application/javascript": [
       "\n",
       "            setTimeout(function() {\n",
       "                var nbb_cell_id = 80;\n",
       "                var nbb_unformatted_code = \"# Solution\\n\\nbelow30 - below20\";\n",
       "                var nbb_formatted_code = \"# Solution\\n\\nbelow30 - below20\";\n",
       "                var nbb_cells = Jupyter.notebook.get_cells();\n",
       "                for (var i = 0; i < nbb_cells.length; ++i) {\n",
       "                    if (nbb_cells[i].input_prompt_number == nbb_cell_id) {\n",
       "                        if (nbb_cells[i].get_text() == nbb_unformatted_code) {\n",
       "                             nbb_cells[i].set_text(nbb_formatted_code);\n",
       "                        }\n",
       "                        break;\n",
       "                    }\n",
       "                }\n",
       "            }, 500);\n",
       "            "
      ],
      "text/plain": [
       "<IPython.core.display.Javascript object>"
      ]
     },
     "metadata": {},
     "output_type": "display_data"
    }
   ],
   "source": []
  },
  {
   "cell_type": "markdown",
   "id": "4e185577",
   "metadata": {},
   "source": [
    "### Exercise\n",
    "\n",
    "Here are the running speeds of the people who finished the James Joyce Ramble, described in Section xxx."
   ]
  },
  {
   "cell_type": "code",
   "execution_count": 81,
   "id": "79362fdc",
   "metadata": {},
   "outputs": [
    {
     "data": {
      "application/javascript": [
       "\n",
       "            setTimeout(function() {\n",
       "                var nbb_cell_id = 81;\n",
       "                var nbb_unformatted_code = \"speeds = results[\\\"MPH\\\"].values\";\n",
       "                var nbb_formatted_code = \"speeds = results[\\\"MPH\\\"].values\";\n",
       "                var nbb_cells = Jupyter.notebook.get_cells();\n",
       "                for (var i = 0; i < nbb_cells.length; ++i) {\n",
       "                    if (nbb_cells[i].input_prompt_number == nbb_cell_id) {\n",
       "                        if (nbb_cells[i].get_text() == nbb_unformatted_code) {\n",
       "                             nbb_cells[i].set_text(nbb_formatted_code);\n",
       "                        }\n",
       "                        break;\n",
       "                    }\n",
       "                }\n",
       "            }, 500);\n",
       "            "
      ],
      "text/plain": [
       "<IPython.core.display.Javascript object>"
      ]
     },
     "metadata": {},
     "output_type": "display_data"
    }
   ],
   "source": [
    "speeds = results[\"MPH\"].values"
   ]
  },
  {
   "cell_type": "markdown",
   "id": "1080c340",
   "metadata": {},
   "source": [
    "Make a `Cdf` that represents the distribution of these speeds, and use it to compute the median, IQR, and quartile skewness.\n",
    "Does the distribution skew to the left or right?"
   ]
  },
  {
   "cell_type": "code",
   "execution_count": 82,
   "id": "0d582d9c",
   "metadata": {},
   "outputs": [
    {
     "data": {
      "text/plain": [
       "(array(6.70391061), 1.4865637507146943, 0.13450795015040942)"
      ]
     },
     "execution_count": 82,
     "metadata": {},
     "output_type": "execute_result"
    },
    {
     "data": {
      "application/javascript": [
       "\n",
       "            setTimeout(function() {\n",
       "                var nbb_cell_id = 82;\n",
       "                var nbb_unformatted_code = \"# Solution\\n\\ncdf_speeds = Cdf.from_seq(speeds)\\nmedian(cdf_speeds), iqr(cdf_speeds), quartile_skewness(cdf_speeds)\";\n",
       "                var nbb_formatted_code = \"# Solution\\n\\ncdf_speeds = Cdf.from_seq(speeds)\\nmedian(cdf_speeds), iqr(cdf_speeds), quartile_skewness(cdf_speeds)\";\n",
       "                var nbb_cells = Jupyter.notebook.get_cells();\n",
       "                for (var i = 0; i < nbb_cells.length; ++i) {\n",
       "                    if (nbb_cells[i].input_prompt_number == nbb_cell_id) {\n",
       "                        if (nbb_cells[i].get_text() == nbb_unformatted_code) {\n",
       "                             nbb_cells[i].set_text(nbb_formatted_code);\n",
       "                        }\n",
       "                        break;\n",
       "                    }\n",
       "                }\n",
       "            }, 500);\n",
       "            "
      ],
      "text/plain": [
       "<IPython.core.display.Javascript object>"
      ]
     },
     "metadata": {},
     "output_type": "display_data"
    }
   ],
   "source": []
  },
  {
   "cell_type": "code",
   "execution_count": 83,
   "id": "068cf75b",
   "metadata": {},
   "outputs": [
    {
     "data": {
      "application/javascript": [
       "\n",
       "            setTimeout(function() {\n",
       "                var nbb_cell_id = 83;\n",
       "                var nbb_unformatted_code = \"# Solution\\n\\n# The quartile skewness is positive, which indicates that the distribution\\n# is skewed to the right -- that is, the tail extends farther to the\\n# right than to the left.\";\n",
       "                var nbb_formatted_code = \"# Solution\\n\\n# The quartile skewness is positive, which indicates that the distribution\\n# is skewed to the right -- that is, the tail extends farther to the\\n# right than to the left.\";\n",
       "                var nbb_cells = Jupyter.notebook.get_cells();\n",
       "                for (var i = 0; i < nbb_cells.length; ++i) {\n",
       "                    if (nbb_cells[i].input_prompt_number == nbb_cell_id) {\n",
       "                        if (nbb_cells[i].get_text() == nbb_unformatted_code) {\n",
       "                             nbb_cells[i].set_text(nbb_formatted_code);\n",
       "                        }\n",
       "                        break;\n",
       "                    }\n",
       "                }\n",
       "            }, 500);\n",
       "            "
      ],
      "text/plain": [
       "<IPython.core.display.Javascript object>"
      ]
     },
     "metadata": {},
     "output_type": "display_data"
    }
   ],
   "source": []
  },
  {
   "cell_type": "markdown",
   "id": "ed782fef",
   "metadata": {
    "collapsed": true
   },
   "source": [
    "### Exercise \n",
    "\n",
    "The numbers generated by `np.random.random` are supposed to be uniform between 0 and 1, which means that the CDF of a sample should be a straight line.\n",
    "Let's see if that's true.\n",
    "\n",
    "Here's a sample of 1000 numbers. Plot the CDF of this sample. Does it look like a straight line? "
   ]
  },
  {
   "cell_type": "code",
   "execution_count": 84,
   "id": "ff8cc9b5",
   "metadata": {},
   "outputs": [
    {
     "data": {
      "application/javascript": [
       "\n",
       "            setTimeout(function() {\n",
       "                var nbb_cell_id = 84;\n",
       "                var nbb_unformatted_code = \"t = np.random.random(1000)\";\n",
       "                var nbb_formatted_code = \"t = np.random.random(1000)\";\n",
       "                var nbb_cells = Jupyter.notebook.get_cells();\n",
       "                for (var i = 0; i < nbb_cells.length; ++i) {\n",
       "                    if (nbb_cells[i].input_prompt_number == nbb_cell_id) {\n",
       "                        if (nbb_cells[i].get_text() == nbb_unformatted_code) {\n",
       "                             nbb_cells[i].set_text(nbb_formatted_code);\n",
       "                        }\n",
       "                        break;\n",
       "                    }\n",
       "                }\n",
       "            }, 500);\n",
       "            "
      ],
      "text/plain": [
       "<IPython.core.display.Javascript object>"
      ]
     },
     "metadata": {},
     "output_type": "display_data"
    }
   ],
   "source": [
    "t = np.random.random(1000)"
   ]
  },
  {
   "cell_type": "code",
   "execution_count": 85,
   "id": "388e8eb4",
   "metadata": {},
   "outputs": [
    {
     "data": {
      "image/png": "[encoded data removed]",
      "text/plain": [
       "<Figure size 640x480 with 1 Axes>"
      ]
     },
     "metadata": {},
     "output_type": "display_data"
    },
    {
     "data": {
      "application/javascript": [
       "\n",
       "            setTimeout(function() {\n",
       "                var nbb_cell_id = 85;\n",
       "                var nbb_unformatted_code = \"# Solution\\n\\ncdf = Cdf.from_seq(t, name=\\\"random\\\")\\ncdf.plot()\\ndecorate(xlabel=\\\"Random variate\\\", ylabel=\\\"CDF\\\")\";\n",
       "                var nbb_formatted_code = \"# Solution\\n\\ncdf = Cdf.from_seq(t, name=\\\"random\\\")\\ncdf.plot()\\ndecorate(xlabel=\\\"Random variate\\\", ylabel=\\\"CDF\\\")\";\n",
       "                var nbb_cells = Jupyter.notebook.get_cells();\n",
       "                for (var i = 0; i < nbb_cells.length; ++i) {\n",
       "                    if (nbb_cells[i].input_prompt_number == nbb_cell_id) {\n",
       "                        if (nbb_cells[i].get_text() == nbb_unformatted_code) {\n",
       "                             nbb_cells[i].set_text(nbb_formatted_code);\n",
       "                        }\n",
       "                        break;\n",
       "                    }\n",
       "                }\n",
       "            }, 500);\n",
       "            "
      ],
      "text/plain": [
       "<IPython.core.display.Javascript object>"
      ]
     },
     "metadata": {},
     "output_type": "display_data"
    }
   ],
   "source": []
  },
  {
   "cell_type": "code",
   "execution_count": null,
   "id": "8035a266",
   "metadata": {},
   "outputs": [],
   "source": []
  }
 ],
 "metadata": {
  "kernelspec": {
   "display_name": "Python 3 (ipykernel)",
   "language": "python",
   "name": "python3"
  },
  "language_info": {
   "codemirror_mode": {
    "name": "ipython",
    "version": 3
   },
   "file_extension": ".py",
   "mimetype": "text/x-python",
   "name": "python",
   "nbconvert_exporter": "python",
   "pygments_lexer": "ipython3",
   "version": "3.10.14"
  }
 },
 "nbformat": 4,
 "nbformat_minor": 5
}
