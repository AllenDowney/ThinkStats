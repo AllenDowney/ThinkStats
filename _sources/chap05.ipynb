{
 "cells": [
  {
   "cell_type": "markdown",
   "id": "129937c8",
   "metadata": {},
   "source": [
    "# Modeling distributions\n",
    "\n",
    "The distributions we have used so far are called **empirical\n",
    "distributions** because they are based on empirical observations, which\n",
    "are necessarily finite samples.\n",
    "\n",
    "The alternative is an **analytic distribution**, which is characterized\n",
    "by a CDF that is a mathematical function. Analytic distributions can be\n",
    "used to model empirical distributions. In this context, a **model** is a\n",
    "simplification that leaves out unneeded details. This chapter presents\n",
    "common analytic distributions and uses them to model data from a variety\n",
    "of sources."
   ]
  },
  {
   "cell_type": "code",
   "execution_count": 1,
   "id": "904b3e96",
   "metadata": {},
   "outputs": [
    {
     "data": {
      "application/javascript": [
       "\n",
       "            setTimeout(function() {\n",
       "                var nbb_cell_id = 1;\n",
       "                var nbb_unformatted_code = \"%load_ext nb_black\\n%load_ext autoreload\\n%autoreload 2\";\n",
       "                var nbb_formatted_code = \"%load_ext nb_black\\n%load_ext autoreload\\n%autoreload 2\";\n",
       "                var nbb_cells = Jupyter.notebook.get_cells();\n",
       "                for (var i = 0; i < nbb_cells.length; ++i) {\n",
       "                    if (nbb_cells[i].input_prompt_number == nbb_cell_id) {\n",
       "                        if (nbb_cells[i].get_text() == nbb_unformatted_code) {\n",
       "                             nbb_cells[i].set_text(nbb_formatted_code);\n",
       "                        }\n",
       "                        break;\n",
       "                    }\n",
       "                }\n",
       "            }, 500);\n",
       "            "
      ],
      "text/plain": [
       "<IPython.core.display.Javascript object>"
      ]
     },
     "metadata": {},
     "output_type": "display_data"
    }
   ],
   "source": [
    "%load_ext nb_black\n",
    "%load_ext autoreload\n",
    "%autoreload 2\n"
   ]
  },
  {
   "cell_type": "code",
   "execution_count": 2,
   "id": "41ffa5f5",
   "metadata": {},
   "outputs": [
    {
     "data": {
      "application/javascript": [
       "\n",
       "            setTimeout(function() {\n",
       "                var nbb_cell_id = 2;\n",
       "                var nbb_unformatted_code = \"from os.path import basename, exists\\n\\n\\ndef download(url):\\n    filename = basename(url)\\n    if not exists(filename):\\n        from urllib.request import urlretrieve\\n        local, _ = urlretrieve(url, filename)\\n        print('Downloaded ' + local)\\n\\n\\ndownload(\\n    'https://github.com/AllenDowney/ThinkStats2/raw/master/code/thinkstats2.py'\\n    )\\ndownload(\\n    'https://github.com/AllenDowney/ThinkStats2/raw/master/code/thinkplot.py')\";\n",
       "                var nbb_formatted_code = \"from os.path import basename, exists\\n\\n\\ndef download(url):\\n    filename = basename(url)\\n    if not exists(filename):\\n        from urllib.request import urlretrieve\\n\\n        local, _ = urlretrieve(url, filename)\\n        print(\\\"Downloaded \\\" + local)\\n\\n\\ndownload(\\\"https://github.com/AllenDowney/ThinkStats2/raw/master/code/thinkstats2.py\\\")\\ndownload(\\\"https://github.com/AllenDowney/ThinkStats2/raw/master/code/thinkplot.py\\\")\";\n",
       "                var nbb_cells = Jupyter.notebook.get_cells();\n",
       "                for (var i = 0; i < nbb_cells.length; ++i) {\n",
       "                    if (nbb_cells[i].input_prompt_number == nbb_cell_id) {\n",
       "                        if (nbb_cells[i].get_text() == nbb_unformatted_code) {\n",
       "                             nbb_cells[i].set_text(nbb_formatted_code);\n",
       "                        }\n",
       "                        break;\n",
       "                    }\n",
       "                }\n",
       "            }, 500);\n",
       "            "
      ],
      "text/plain": [
       "<IPython.core.display.Javascript object>"
      ]
     },
     "metadata": {},
     "output_type": "display_data"
    }
   ],
   "source": [
    "from os.path import basename, exists\n",
    "\n",
    "\n",
    "def download(url):\n",
    "    filename = basename(url)\n",
    "    if not exists(filename):\n",
    "        from urllib.request import urlretrieve\n",
    "\n",
    "        local, _ = urlretrieve(url, filename)\n",
    "        print(\"Downloaded \" + local)\n",
    "\n",
    "\n",
    "download(\"https://github.com/AllenDowney/ThinkStats2/raw/master/code/thinkstats2.py\")\n",
    "download(\"https://github.com/AllenDowney/ThinkStats2/raw/master/code/thinkplot.py\")"
   ]
  },
  {
   "cell_type": "code",
   "execution_count": 3,
   "id": "9fb94810",
   "metadata": {},
   "outputs": [
    {
     "data": {
      "application/javascript": [
       "\n",
       "            setTimeout(function() {\n",
       "                var nbb_cell_id = 3;\n",
       "                var nbb_unformatted_code = \"import numpy as np\\nimport thinkstats2\\nimport thinkplot\";\n",
       "                var nbb_formatted_code = \"import numpy as np\\nimport thinkstats2\\nimport thinkplot\";\n",
       "                var nbb_cells = Jupyter.notebook.get_cells();\n",
       "                for (var i = 0; i < nbb_cells.length; ++i) {\n",
       "                    if (nbb_cells[i].input_prompt_number == nbb_cell_id) {\n",
       "                        if (nbb_cells[i].get_text() == nbb_unformatted_code) {\n",
       "                             nbb_cells[i].set_text(nbb_formatted_code);\n",
       "                        }\n",
       "                        break;\n",
       "                    }\n",
       "                }\n",
       "            }, 500);\n",
       "            "
      ],
      "text/plain": [
       "<IPython.core.display.Javascript object>"
      ]
     },
     "metadata": {},
     "output_type": "display_data"
    }
   ],
   "source": [
    "import numpy as np\n",
    "import thinkstats2\n",
    "import thinkplot"
   ]
  },
  {
   "cell_type": "markdown",
   "id": "50b350db",
   "metadata": {},
   "source": [
    "## The exponential distribution"
   ]
  },
  {
   "cell_type": "markdown",
   "id": "aa0bab15",
   "metadata": {},
   "source": [
    "I'll start with the **exponential distribution** because it is\n",
    "relatively simple. The CDF of the exponential distribution is\n",
    "$$CDF(x) = 1 - e^{-\\lambda x}$$ The parameter, $\\lambda$, determines\n",
    "the shape of the distribution.\n",
    "\n",
    "The following figure shows what this CDF looks like with $\\lambda =$ 0.5, 1, and 2."
   ]
  },
  {
   "cell_type": "code",
   "execution_count": 4,
   "id": "571e2b78",
   "metadata": {},
   "outputs": [
    {
     "data": {
      "image/png": "[encoded data removed]",
      "text/plain": [
       "<Figure size 640x480 with 1 Axes>"
      ]
     },
     "metadata": {},
     "output_type": "display_data"
    },
    {
     "data": {
      "application/javascript": [
       "\n",
       "            setTimeout(function() {\n",
       "                var nbb_cell_id = 4;\n",
       "                var nbb_unformatted_code = \"thinkplot.pre_plot(3)\\nfor lam in [2.0, 1, 0.5]:\\n    xs, ps = thinkstats2.render_expo_cdf(lam, 0, 3.0, 50)\\n    label = '$\\\\\\\\lambda=%g$' % lam\\n    thinkplot.plot(xs, ps, label=label)\\nthinkplot.config(title='Exponential CDF', xlabel='x', ylabel='CDF', loc=\\n    'lower right')\";\n",
       "                var nbb_formatted_code = \"thinkplot.pre_plot(3)\\nfor lam in [2.0, 1, 0.5]:\\n    xs, ps = thinkstats2.render_expo_cdf(lam, 0, 3.0, 50)\\n    label = \\\"$\\\\\\\\lambda=%g$\\\" % lam\\n    thinkplot.plot(xs, ps, label=label)\\nthinkplot.config(title=\\\"Exponential CDF\\\", xlabel=\\\"x\\\", ylabel=\\\"CDF\\\", loc=\\\"lower right\\\")\";\n",
       "                var nbb_cells = Jupyter.notebook.get_cells();\n",
       "                for (var i = 0; i < nbb_cells.length; ++i) {\n",
       "                    if (nbb_cells[i].input_prompt_number == nbb_cell_id) {\n",
       "                        if (nbb_cells[i].get_text() == nbb_unformatted_code) {\n",
       "                             nbb_cells[i].set_text(nbb_formatted_code);\n",
       "                        }\n",
       "                        break;\n",
       "                    }\n",
       "                }\n",
       "            }, 500);\n",
       "            "
      ],
      "text/plain": [
       "<IPython.core.display.Javascript object>"
      ]
     },
     "metadata": {},
     "output_type": "display_data"
    }
   ],
   "source": [
    "thinkplot.pre_plot(3)\n",
    "for lam in [2.0, 1, 0.5]:\n",
    "    xs, ps = thinkstats2.render_expo_cdf(lam, 0, 3.0, 50)\n",
    "    label = \"$\\\\lambda=%g$\" % lam\n",
    "    thinkplot.plot(xs, ps, label=label)\n",
    "thinkplot.config(title=\"Exponential CDF\", xlabel=\"x\", ylabel=\"CDF\", loc=\"lower right\")"
   ]
  },
  {
   "cell_type": "markdown",
   "id": "585cdd49",
   "metadata": {},
   "source": [
    "In the real world, exponential distributions come up when we look at a\n",
    "series of events and measure the times between events, called\n",
    "**interarrival times**. If the events are equally likely to occur at any\n",
    "time, the distribution of interarrival times tends to look like an\n",
    "exponential distribution.\n",
    "\n",
    "As an example, we will look at the interarrival time of births. On\n",
    "December 18, 1997, 44 babies were born in a hospital in Brisbane,\n",
    "Australia.[^1] The time of birth for all 44 babies was reported in the\n",
    "local paper; the complete dataset is in a file called `babyboom.dat`, in\n",
    "the `ThinkStats2` repository."
   ]
  },
  {
   "cell_type": "code",
   "execution_count": 5,
   "id": "ad843bd3",
   "metadata": {},
   "outputs": [
    {
     "data": {
      "application/javascript": [
       "\n",
       "            setTimeout(function() {\n",
       "                var nbb_cell_id = 5;\n",
       "                var nbb_unformatted_code = \"download(\\n    'https://github.com/AllenDowney/ThinkStats2/raw/master/code/babyboom.dat')\";\n",
       "                var nbb_formatted_code = \"download(\\\"https://github.com/AllenDowney/ThinkStats2/raw/master/code/babyboom.dat\\\")\";\n",
       "                var nbb_cells = Jupyter.notebook.get_cells();\n",
       "                for (var i = 0; i < nbb_cells.length; ++i) {\n",
       "                    if (nbb_cells[i].input_prompt_number == nbb_cell_id) {\n",
       "                        if (nbb_cells[i].get_text() == nbb_unformatted_code) {\n",
       "                             nbb_cells[i].set_text(nbb_formatted_code);\n",
       "                        }\n",
       "                        break;\n",
       "                    }\n",
       "                }\n",
       "            }, 500);\n",
       "            "
      ],
      "text/plain": [
       "<IPython.core.display.Javascript object>"
      ]
     },
     "metadata": {},
     "output_type": "display_data"
    }
   ],
   "source": [
    "download(\"https://github.com/AllenDowney/ThinkStats2/raw/master/code/babyboom.dat\")"
   ]
  },
  {
   "cell_type": "code",
   "execution_count": 6,
   "id": "50298fb3",
   "metadata": {},
   "outputs": [
    {
     "data": {
      "image/png": "[encoded data removed]",
      "text/plain": [
       "<Figure size 640x480 with 1 Axes>"
      ]
     },
     "metadata": {},
     "output_type": "display_data"
    },
    {
     "data": {
      "text/plain": [
       "<Figure size 800x600 with 0 Axes>"
      ]
     },
     "metadata": {},
     "output_type": "display_data"
    },
    {
     "data": {
      "application/javascript": [
       "\n",
       "            setTimeout(function() {\n",
       "                var nbb_cell_id = 6;\n",
       "                var nbb_unformatted_code = \"df = thinkstats2.read_baby_boom()\\ndiffs = df.minutes.diff()\\ncdf = thinkstats2.Cdf(diffs, label='actual')\\nthinkplot.cdf(cdf)\\nthinkplot.show(xlabel='minutes', ylabel='CDF')\";\n",
       "                var nbb_formatted_code = \"df = thinkstats2.read_baby_boom()\\ndiffs = df.minutes.diff()\\ncdf = thinkstats2.Cdf(diffs, label=\\\"actual\\\")\\nthinkplot.cdf(cdf)\\nthinkplot.show(xlabel=\\\"minutes\\\", ylabel=\\\"CDF\\\")\";\n",
       "                var nbb_cells = Jupyter.notebook.get_cells();\n",
       "                for (var i = 0; i < nbb_cells.length; ++i) {\n",
       "                    if (nbb_cells[i].input_prompt_number == nbb_cell_id) {\n",
       "                        if (nbb_cells[i].get_text() == nbb_unformatted_code) {\n",
       "                             nbb_cells[i].set_text(nbb_formatted_code);\n",
       "                        }\n",
       "                        break;\n",
       "                    }\n",
       "                }\n",
       "            }, 500);\n",
       "            "
      ],
      "text/plain": [
       "<IPython.core.display.Javascript object>"
      ]
     },
     "metadata": {},
     "output_type": "display_data"
    }
   ],
   "source": [
    "df = thinkstats2.read_baby_boom()\n",
    "diffs = df.minutes.diff()\n",
    "cdf = thinkstats2.Cdf(diffs, label=\"actual\")\n",
    "thinkplot.cdf(cdf)\n",
    "thinkplot.show(xlabel=\"minutes\", ylabel=\"CDF\")"
   ]
  },
  {
   "cell_type": "markdown",
   "id": "5bd6ac6e",
   "metadata": {},
   "source": [
    "`ReadBabyBoom` reads the data file and returns a DataFrame with columns\n",
    "`time`, `sex`, `weight_g`, and `minutes`, where `minutes` is time of\n",
    "birth converted to minutes since midnight.\n",
    "\n",
    "\n",
    "`diffs` is the difference between consecutive birth times, and `cdf` is\n",
    "the distribution of these interarrival times.\n",
    "Figure [\\[analytic_interarrival_cdf\\]](#analytic_interarrival_cdf){reference-type=\"ref\"\n",
    "reference=\"analytic_interarrival_cdf\"} (left) shows the CDF. It seems to\n",
    "have the general shape of an exponential distribution, but how can we\n",
    "tell?\n",
    "\n",
    "One way is to plot the **complementary CDF**, which is $1 - CDF(x)$, on\n",
    "a log-y scale. For data from an exponential distribution, the result is\n",
    "a straight line. Let's see why that works.\n",
    "\n",
    "If you plot the complementary CDF (CCDF) of a dataset that you think is\n",
    "exponential, you expect to see a function like:\n",
    "$$y \\approx e^{-\\lambda x}$$ Taking the log of both sides yields:\n",
    "$$\\log y \\approx -\\lambda x$$ So on a log-y scale the CCDF is a straight\n",
    "line with slope $-\\lambda$. Here's how we can generate a plot like that:"
   ]
  },
  {
   "cell_type": "code",
   "execution_count": 7,
   "id": "aaaf89d3",
   "metadata": {},
   "outputs": [
    {
     "data": {
      "image/png": "[encoded data removed]",
      "text/plain": [
       "<Figure size 640x480 with 1 Axes>"
      ]
     },
     "metadata": {},
     "output_type": "display_data"
    },
    {
     "data": {
      "text/plain": [
       "<Figure size 800x600 with 0 Axes>"
      ]
     },
     "metadata": {},
     "output_type": "display_data"
    },
    {
     "data": {
      "application/javascript": [
       "\n",
       "            setTimeout(function() {\n",
       "                var nbb_cell_id = 7;\n",
       "                var nbb_unformatted_code = \"thinkplot.cdf(cdf, complement=True)\\nthinkplot.show(xlabel='minutes', ylabel='CCDF', yscale='log')\";\n",
       "                var nbb_formatted_code = \"thinkplot.cdf(cdf, complement=True)\\nthinkplot.show(xlabel=\\\"minutes\\\", ylabel=\\\"CCDF\\\", yscale=\\\"log\\\")\";\n",
       "                var nbb_cells = Jupyter.notebook.get_cells();\n",
       "                for (var i = 0; i < nbb_cells.length; ++i) {\n",
       "                    if (nbb_cells[i].input_prompt_number == nbb_cell_id) {\n",
       "                        if (nbb_cells[i].get_text() == nbb_unformatted_code) {\n",
       "                             nbb_cells[i].set_text(nbb_formatted_code);\n",
       "                        }\n",
       "                        break;\n",
       "                    }\n",
       "                }\n",
       "            }, 500);\n",
       "            "
      ],
      "text/plain": [
       "<IPython.core.display.Javascript object>"
      ]
     },
     "metadata": {},
     "output_type": "display_data"
    }
   ],
   "source": [
    "thinkplot.cdf(cdf, complement=True)\n",
    "thinkplot.show(xlabel=\"minutes\", ylabel=\"CCDF\", yscale=\"log\")"
   ]
  },
  {
   "cell_type": "markdown",
   "id": "0bf0334d",
   "metadata": {},
   "source": [
    "With the argument `complement=True`, `thinkplot.Cdf` computes the\n",
    "complementary CDF before plotting. And with `yscale='log'`,\n",
    "`thinkplot.Show` sets the `y` axis to a logarithmic scale.\n",
    "\n",
    "Figure [\\[analytic_interarrival_cdf\\]](#analytic_interarrival_cdf){reference-type=\"ref\"\n",
    "reference=\"analytic_interarrival_cdf\"} (right) shows the result. It is\n",
    "not exactly straight, which indicates that the exponential distribution\n",
    "is not a perfect model for this data. Most likely the underlying\n",
    "assumption---that a birth is equally likely at any time of day---is not\n",
    "exactly true. Nevertheless, it might be reasonable to model this dataset\n",
    "with an exponential distribution. With that simplification, we can\n",
    "summarize the distribution with a single parameter.\n",
    "\n",
    "The parameter, $\\lambda$, can be interpreted as a rate; that is, the\n",
    "number of events that occur, on average, in a unit of time. In this\n",
    "example, 44 babies are born in 24 hours, so the rate is $\\lambda =\n",
    "0.0306$ births per minute. The mean of an exponential distribution is\n",
    "$1/\\lambda$, so the mean time between births is 32.7 minutes."
   ]
  },
  {
   "cell_type": "markdown",
   "id": "85734123",
   "metadata": {},
   "source": [
    "## The normal distribution\n",
    "\n",
    "The **normal distribution**, also called Gaussian, is commonly used\n",
    "because it describes many phenomena, at least approximately. It turns\n",
    "out that there is a good reason for its ubiquity, which we will get to\n",
    "in Section [\\[CLT\\]](#CLT){reference-type=\"ref\" reference=\"CLT\"}."
   ]
  },
  {
   "cell_type": "markdown",
   "id": "26118498",
   "metadata": {},
   "source": [
    "The normal distribution is characterized by two parameters: the mean,\n",
    "$\\mu$, and standard deviation $\\sigma$. The normal distribution with\n",
    "$\\mu=0$ and $\\sigma=1$ is called the **standard normal distribution**.\n",
    "Its CDF is defined by an integral that does not have a closed form\n",
    "solution, but there are algorithms that evaluate it efficiently. One of\n",
    "them is provided by SciPy: `scipy.stats.norm` is an object that\n",
    "represents a normal distribution; it provides a method, `cdf`, that\n",
    "evaluates the standard normal CDF:"
   ]
  },
  {
   "cell_type": "code",
   "execution_count": 8,
   "id": "90141e7b",
   "metadata": {},
   "outputs": [
    {
     "data": {
      "text/plain": [
       "0.5"
      ]
     },
     "execution_count": 8,
     "metadata": {},
     "output_type": "execute_result"
    },
    {
     "data": {
      "application/javascript": [
       "\n",
       "            setTimeout(function() {\n",
       "                var nbb_cell_id = 8;\n",
       "                var nbb_unformatted_code = \"import scipy.stats\\nscipy.stats.norm.cdf(0)\\n0.5\";\n",
       "                var nbb_formatted_code = \"import scipy.stats\\n\\nscipy.stats.norm.cdf(0)\\n0.5\";\n",
       "                var nbb_cells = Jupyter.notebook.get_cells();\n",
       "                for (var i = 0; i < nbb_cells.length; ++i) {\n",
       "                    if (nbb_cells[i].input_prompt_number == nbb_cell_id) {\n",
       "                        if (nbb_cells[i].get_text() == nbb_unformatted_code) {\n",
       "                             nbb_cells[i].set_text(nbb_formatted_code);\n",
       "                        }\n",
       "                        break;\n",
       "                    }\n",
       "                }\n",
       "            }, 500);\n",
       "            "
      ],
      "text/plain": [
       "<IPython.core.display.Javascript object>"
      ]
     },
     "metadata": {},
     "output_type": "display_data"
    }
   ],
   "source": [
    "import scipy.stats\n",
    "\n",
    "scipy.stats.norm.cdf(0)\n",
    "0.5"
   ]
  },
  {
   "cell_type": "markdown",
   "id": "49cce37a",
   "metadata": {},
   "source": [
    "This result is correct: the median of the standard normal distribution\n",
    "is 0 (the same as the mean), and half of the values fall below the\n",
    "median, so $CDF(0)$ is 0.5.\n",
    "\n",
    "`norm.cdf` takes optional parameters: `loc`, which specifies the mean,\n",
    "and `scale`, which specifies the standard deviation.\n",
    "\n",
    "`thinkstats2` makes this function a little easier to use by providing\n",
    "`EvalNormalCdf`, which takes parameters `mu` and `sigma` and evaluates\n",
    "the CDF at `x`:"
   ]
  },
  {
   "cell_type": "code",
   "execution_count": 9,
   "id": "f8b589a5",
   "metadata": {},
   "outputs": [
    {
     "data": {
      "application/javascript": [
       "\n",
       "            setTimeout(function() {\n",
       "                var nbb_cell_id = 9;\n",
       "                var nbb_unformatted_code = \"def eval_normal_cdf(x, mu=0, sigma=1):\\n    return scipy.stats.norm.cdf(x, loc=mu, scale=sigma)\";\n",
       "                var nbb_formatted_code = \"def eval_normal_cdf(x, mu=0, sigma=1):\\n    return scipy.stats.norm.cdf(x, loc=mu, scale=sigma)\";\n",
       "                var nbb_cells = Jupyter.notebook.get_cells();\n",
       "                for (var i = 0; i < nbb_cells.length; ++i) {\n",
       "                    if (nbb_cells[i].input_prompt_number == nbb_cell_id) {\n",
       "                        if (nbb_cells[i].get_text() == nbb_unformatted_code) {\n",
       "                             nbb_cells[i].set_text(nbb_formatted_code);\n",
       "                        }\n",
       "                        break;\n",
       "                    }\n",
       "                }\n",
       "            }, 500);\n",
       "            "
      ],
      "text/plain": [
       "<IPython.core.display.Javascript object>"
      ]
     },
     "metadata": {},
     "output_type": "display_data"
    }
   ],
   "source": [
    "def eval_normal_cdf(x, mu=0, sigma=1):\n",
    "    return scipy.stats.norm.cdf(x, loc=mu, scale=sigma)"
   ]
  },
  {
   "cell_type": "markdown",
   "id": "f4819e11",
   "metadata": {},
   "source": [
    "Figure [\\[analytic_gaussian_cdf\\]](#analytic_gaussian_cdf){reference-type=\"ref\"\n",
    "reference=\"analytic_gaussian_cdf\"} shows CDFs for normal distributions\n",
    "with a range of parameters. The sigmoid shape of these curves is a\n",
    "recognizable characteristic of a normal distribution."
   ]
  },
  {
   "cell_type": "code",
   "execution_count": 10,
   "id": "6fc8adae",
   "metadata": {},
   "outputs": [
    {
     "data": {
      "image/png": "[encoded data removed]",
      "text/plain": [
       "<Figure size 640x480 with 1 Axes>"
      ]
     },
     "metadata": {},
     "output_type": "display_data"
    },
    {
     "data": {
      "application/javascript": [
       "\n",
       "            setTimeout(function() {\n",
       "                var nbb_cell_id = 10;\n",
       "                var nbb_unformatted_code = \"thinkplot.pre_plot(3)\\nmus = [1.0, 2.0, 3.0]\\nsigmas = [0.5, 0.4, 0.3]\\nfor mu, sigma in zip(mus, sigmas):\\n    xs, ps = thinkstats2.render_normal_cdf(mu=mu, sigma=sigma, low=-1.0,\\n        high=4.0)\\n    label = '$\\\\\\\\mu=%g$, $\\\\\\\\sigma=%g$' % (mu, sigma)\\n    thinkplot.plot(xs, ps, label=label)\\nthinkplot.config(title='Normal CDF', xlabel='x', ylabel='CDF', loc='upper left'\\n    )\";\n",
       "                var nbb_formatted_code = \"thinkplot.pre_plot(3)\\nmus = [1.0, 2.0, 3.0]\\nsigmas = [0.5, 0.4, 0.3]\\nfor mu, sigma in zip(mus, sigmas):\\n    xs, ps = thinkstats2.render_normal_cdf(mu=mu, sigma=sigma, low=-1.0, high=4.0)\\n    label = \\\"$\\\\\\\\mu=%g$, $\\\\\\\\sigma=%g$\\\" % (mu, sigma)\\n    thinkplot.plot(xs, ps, label=label)\\nthinkplot.config(title=\\\"Normal CDF\\\", xlabel=\\\"x\\\", ylabel=\\\"CDF\\\", loc=\\\"upper left\\\")\";\n",
       "                var nbb_cells = Jupyter.notebook.get_cells();\n",
       "                for (var i = 0; i < nbb_cells.length; ++i) {\n",
       "                    if (nbb_cells[i].input_prompt_number == nbb_cell_id) {\n",
       "                        if (nbb_cells[i].get_text() == nbb_unformatted_code) {\n",
       "                             nbb_cells[i].set_text(nbb_formatted_code);\n",
       "                        }\n",
       "                        break;\n",
       "                    }\n",
       "                }\n",
       "            }, 500);\n",
       "            "
      ],
      "text/plain": [
       "<IPython.core.display.Javascript object>"
      ]
     },
     "metadata": {},
     "output_type": "display_data"
    }
   ],
   "source": [
    "thinkplot.pre_plot(3)\n",
    "mus = [1.0, 2.0, 3.0]\n",
    "sigmas = [0.5, 0.4, 0.3]\n",
    "for mu, sigma in zip(mus, sigmas):\n",
    "    xs, ps = thinkstats2.render_normal_cdf(mu=mu, sigma=sigma, low=-1.0, high=4.0)\n",
    "    label = \"$\\\\mu=%g$, $\\\\sigma=%g$\" % (mu, sigma)\n",
    "    thinkplot.plot(xs, ps, label=label)\n",
    "thinkplot.config(title=\"Normal CDF\", xlabel=\"x\", ylabel=\"CDF\", loc=\"upper left\")"
   ]
  },
  {
   "cell_type": "markdown",
   "id": "a5e0586f",
   "metadata": {},
   "source": [
    "In the previous chapter we looked at the distribution of birth weights\n",
    "in the NSFG.\n",
    "Figure [\\[analytic_birthwgt_model\\]](#analytic_birthwgt_model){reference-type=\"ref\"\n",
    "reference=\"analytic_birthwgt_model\"} shows the empirical CDF of weights\n",
    "for all live births and the CDF of a normal distribution with the same\n",
    "mean and variance."
   ]
  },
  {
   "cell_type": "code",
   "execution_count": 11,
   "id": "5486a05a",
   "metadata": {},
   "outputs": [
    {
     "data": {
      "application/javascript": [
       "\n",
       "            setTimeout(function() {\n",
       "                var nbb_cell_id = 11;\n",
       "                var nbb_unformatted_code = \"download('https://github.com/AllenDowney/ThinkStats2/raw/master/code/nsfg.py')\\ndownload(\\n    'https://github.com/AllenDowney/ThinkStats2/raw/master/code/2002FemPreg.dct'\\n    )\\ndownload(\\n    'https://github.com/AllenDowney/ThinkStats2/raw/master/code/2002FemPreg.dat.gz'\\n    )\";\n",
       "                var nbb_formatted_code = \"download(\\\"https://github.com/AllenDowney/ThinkStats2/raw/master/code/nsfg.py\\\")\\ndownload(\\\"https://github.com/AllenDowney/ThinkStats2/raw/master/code/2002FemPreg.dct\\\")\\ndownload(\\n    \\\"https://github.com/AllenDowney/ThinkStats2/raw/master/code/2002FemPreg.dat.gz\\\"\\n)\";\n",
       "                var nbb_cells = Jupyter.notebook.get_cells();\n",
       "                for (var i = 0; i < nbb_cells.length; ++i) {\n",
       "                    if (nbb_cells[i].input_prompt_number == nbb_cell_id) {\n",
       "                        if (nbb_cells[i].get_text() == nbb_unformatted_code) {\n",
       "                             nbb_cells[i].set_text(nbb_formatted_code);\n",
       "                        }\n",
       "                        break;\n",
       "                    }\n",
       "                }\n",
       "            }, 500);\n",
       "            "
      ],
      "text/plain": [
       "<IPython.core.display.Javascript object>"
      ]
     },
     "metadata": {},
     "output_type": "display_data"
    }
   ],
   "source": [
    "download(\"https://github.com/AllenDowney/ThinkStats2/raw/master/code/nsfg.py\")\n",
    "download(\"https://github.com/AllenDowney/ThinkStats2/raw/master/code/2002FemPreg.dct\")\n",
    "download(\n",
    "    \"https://github.com/AllenDowney/ThinkStats2/raw/master/code/2002FemPreg.dat.gz\"\n",
    ")"
   ]
  },
  {
   "cell_type": "code",
   "execution_count": 12,
   "id": "8a65ba55",
   "metadata": {},
   "outputs": [
    {
     "data": {
      "application/javascript": [
       "\n",
       "            setTimeout(function() {\n",
       "                var nbb_cell_id = 12;\n",
       "                var nbb_unformatted_code = \"import nsfg\\npreg = nsfg.read_fem_preg()\\nweights = preg.totalwgt_lb.dropna()\";\n",
       "                var nbb_formatted_code = \"import nsfg\\n\\npreg = nsfg.read_fem_preg()\\nweights = preg.totalwgt_lb.dropna()\";\n",
       "                var nbb_cells = Jupyter.notebook.get_cells();\n",
       "                for (var i = 0; i < nbb_cells.length; ++i) {\n",
       "                    if (nbb_cells[i].input_prompt_number == nbb_cell_id) {\n",
       "                        if (nbb_cells[i].get_text() == nbb_unformatted_code) {\n",
       "                             nbb_cells[i].set_text(nbb_formatted_code);\n",
       "                        }\n",
       "                        break;\n",
       "                    }\n",
       "                }\n",
       "            }, 500);\n",
       "            "
      ],
      "text/plain": [
       "<IPython.core.display.Javascript object>"
      ]
     },
     "metadata": {},
     "output_type": "display_data"
    }
   ],
   "source": [
    "import nsfg\n",
    "\n",
    "preg = nsfg.read_fem_preg()\n",
    "weights = preg.totalwgt_lb.dropna()"
   ]
  },
  {
   "cell_type": "code",
   "execution_count": 13,
   "id": "6b1ecbb0",
   "metadata": {},
   "outputs": [
    {
     "name": "stdout",
     "output_type": "stream",
     "text": [
      "Mean, Var 7.280883100022579 1.5452125703544897\n",
      "Sigma 1.2430657948614343\n"
     ]
    },
    {
     "data": {
      "image/png": "[encoded data removed]",
      "text/plain": [
       "<Figure size 640x480 with 1 Axes>"
      ]
     },
     "metadata": {},
     "output_type": "display_data"
    },
    {
     "data": {
      "application/javascript": [
       "\n",
       "            setTimeout(function() {\n",
       "                var nbb_cell_id = 13;\n",
       "                var nbb_unformatted_code = \"mu, var = thinkstats2.trimmed_mean_var(weights, p=0.01)\\nprint('Mean, Var', mu, var)\\nsigma = np.sqrt(var)\\nprint('Sigma', sigma)\\nxs, ps = thinkstats2.render_normal_cdf(mu, sigma, low=0, high=12.5)\\nthinkplot.plot(xs, ps, label='model', color='0.6')\\ncdf = thinkstats2.Cdf(weights, label='data')\\nthinkplot.pre_plot(1)\\nthinkplot.cdf(cdf)\\nthinkplot.config(title='Birth weights', xlabel='Birth weight (pounds)',\\n    ylabel='CDF')\";\n",
       "                var nbb_formatted_code = \"mu, var = thinkstats2.trimmed_mean_var(weights, p=0.01)\\nprint(\\\"Mean, Var\\\", mu, var)\\nsigma = np.sqrt(var)\\nprint(\\\"Sigma\\\", sigma)\\nxs, ps = thinkstats2.render_normal_cdf(mu, sigma, low=0, high=12.5)\\nthinkplot.plot(xs, ps, label=\\\"model\\\", color=\\\"0.6\\\")\\ncdf = thinkstats2.Cdf(weights, label=\\\"data\\\")\\nthinkplot.pre_plot(1)\\nthinkplot.cdf(cdf)\\nthinkplot.config(title=\\\"Birth weights\\\", xlabel=\\\"Birth weight (pounds)\\\", ylabel=\\\"CDF\\\")\";\n",
       "                var nbb_cells = Jupyter.notebook.get_cells();\n",
       "                for (var i = 0; i < nbb_cells.length; ++i) {\n",
       "                    if (nbb_cells[i].input_prompt_number == nbb_cell_id) {\n",
       "                        if (nbb_cells[i].get_text() == nbb_unformatted_code) {\n",
       "                             nbb_cells[i].set_text(nbb_formatted_code);\n",
       "                        }\n",
       "                        break;\n",
       "                    }\n",
       "                }\n",
       "            }, 500);\n",
       "            "
      ],
      "text/plain": [
       "<IPython.core.display.Javascript object>"
      ]
     },
     "metadata": {},
     "output_type": "display_data"
    }
   ],
   "source": [
    "mu, var = thinkstats2.trimmed_mean_var(weights, p=0.01)\n",
    "print(\"Mean, Var\", mu, var)\n",
    "sigma = np.sqrt(var)\n",
    "print(\"Sigma\", sigma)\n",
    "xs, ps = thinkstats2.render_normal_cdf(mu, sigma, low=0, high=12.5)\n",
    "thinkplot.plot(xs, ps, label=\"model\", color=\"0.6\")\n",
    "cdf = thinkstats2.Cdf(weights, label=\"data\")\n",
    "thinkplot.pre_plot(1)\n",
    "thinkplot.cdf(cdf)\n",
    "thinkplot.config(title=\"Birth weights\", xlabel=\"Birth weight (pounds)\", ylabel=\"CDF\")"
   ]
  },
  {
   "cell_type": "markdown",
   "id": "d61e00da",
   "metadata": {},
   "source": [
    "The normal distribution is a good model for this dataset, so if we\n",
    "summarize the distribution with the parameters $\\mu = 7.28$ and\n",
    "$\\sigma = 1.24$, the resulting error (difference between the model and\n",
    "the data) is small.\n",
    "\n",
    "Below the 10th percentile there is a discrepancy between the data and\n",
    "the model; there are more light babies than we would expect in a normal\n",
    "distribution. If we are specifically interested in preterm babies, it\n",
    "would be important to get this part of the distribution right, so it\n",
    "might not be appropriate to use the normal model."
   ]
  },
  {
   "cell_type": "markdown",
   "id": "0847a969",
   "metadata": {},
   "source": [
    "## Normal probability plot\n",
    "\n",
    "For the exponential distribution, and a few others, there are simple\n",
    "transformations we can use to test whether an analytic distribution is a\n",
    "good model for a dataset.\n",
    "\n",
    "For the normal distribution there is no such transformation, but there\n",
    "is an alternative called a **normal probability plot**. There are two\n",
    "ways to generate a normal probability plot: the hard way and the easy\n",
    "way. If you are interested in the hard way, you can read about it at\n",
    "<https://en.wikipedia.org/wiki/Normal_probability_plot>. Here's the easy\n",
    "way:\n",
    "\n",
    "1.  Sort the values in the sample.\n",
    "\n",
    "2.  From a standard normal distribution ($\\mu=0$ and $\\sigma=1$),\n",
    "    generate a random sample with the same size as the sample, and sort\n",
    "    it.\n",
    "\n",
    "3.  Plot the sorted values from the sample versus the random values.\n",
    "\n",
    "If the distribution of the sample is approximately normal, the result is\n",
    "a straight line with intercept `mu` and slope `sigma`. `thinkstats2`\n",
    "provides `NormalProbability`, which takes a sample and returns two NumPy\n",
    "arrays:"
   ]
  },
  {
   "cell_type": "raw",
   "id": "1f07d815",
   "metadata": {},
   "source": [
    "xs, ys = thinkstats2.NormalProbability(sample)"
   ]
  },
  {
   "cell_type": "markdown",
   "id": "b092cc6c",
   "metadata": {},
   "source": [
    "`ys` contains the sorted values from `sample`; `xs` contains the random\n",
    "values from the standard normal distribution.\n",
    "\n",
    "To test `NormalProbability` I generated some fake samples that were\n",
    "actually drawn from normal distributions with various parameters.\n",
    "Figure [\\[analytic_normal_prob_example\\]](#analytic_normal_prob_example){reference-type=\"ref\"\n",
    "reference=\"analytic_normal_prob_example\"} shows the results. The lines\n",
    "are approximately straight, with values in the tails deviating more than\n",
    "values near the mean."
   ]
  },
  {
   "cell_type": "code",
   "execution_count": 14,
   "id": "cdbf53bf",
   "metadata": {},
   "outputs": [
    {
     "data": {
      "image/png": "[encoded data removed]",
      "text/plain": [
       "<Figure size 640x480 with 1 Axes>"
      ]
     },
     "metadata": {},
     "output_type": "display_data"
    },
    {
     "data": {
      "application/javascript": [
       "\n",
       "            setTimeout(function() {\n",
       "                var nbb_cell_id = 14;\n",
       "                var nbb_unformatted_code = \"n = 1000\\nthinkplot.pre_plot(3)\\nmus = [0, 1, 5]\\nsigmas = [1, 1, 2]\\nfor mu, sigma in zip(mus, sigmas):\\n    sample = np.random.normal(mu, sigma, n)\\n    xs, ys = thinkstats2.normal_probability(sample)\\n    label = '$\\\\\\\\mu=%d$, $\\\\\\\\sigma=%d$' % (mu, sigma)\\n    thinkplot.plot(xs, ys, label=label)\\nthinkplot.config(title='Normal probability plot', xlabel=\\n    'standard normal sample', ylabel='sample values')\";\n",
       "                var nbb_formatted_code = \"n = 1000\\nthinkplot.pre_plot(3)\\nmus = [0, 1, 5]\\nsigmas = [1, 1, 2]\\nfor mu, sigma in zip(mus, sigmas):\\n    sample = np.random.normal(mu, sigma, n)\\n    xs, ys = thinkstats2.normal_probability(sample)\\n    label = \\\"$\\\\\\\\mu=%d$, $\\\\\\\\sigma=%d$\\\" % (mu, sigma)\\n    thinkplot.plot(xs, ys, label=label)\\nthinkplot.config(\\n    title=\\\"Normal probability plot\\\",\\n    xlabel=\\\"standard normal sample\\\",\\n    ylabel=\\\"sample values\\\",\\n)\";\n",
       "                var nbb_cells = Jupyter.notebook.get_cells();\n",
       "                for (var i = 0; i < nbb_cells.length; ++i) {\n",
       "                    if (nbb_cells[i].input_prompt_number == nbb_cell_id) {\n",
       "                        if (nbb_cells[i].get_text() == nbb_unformatted_code) {\n",
       "                             nbb_cells[i].set_text(nbb_formatted_code);\n",
       "                        }\n",
       "                        break;\n",
       "                    }\n",
       "                }\n",
       "            }, 500);\n",
       "            "
      ],
      "text/plain": [
       "<IPython.core.display.Javascript object>"
      ]
     },
     "metadata": {},
     "output_type": "display_data"
    }
   ],
   "source": [
    "n = 1000\n",
    "thinkplot.pre_plot(3)\n",
    "mus = [0, 1, 5]\n",
    "sigmas = [1, 1, 2]\n",
    "for mu, sigma in zip(mus, sigmas):\n",
    "    sample = np.random.normal(mu, sigma, n)\n",
    "    xs, ys = thinkstats2.normal_probability(sample)\n",
    "    label = \"$\\\\mu=%d$, $\\\\sigma=%d$\" % (mu, sigma)\n",
    "    thinkplot.plot(xs, ys, label=label)\n",
    "thinkplot.config(\n",
    "    title=\"Normal probability plot\",\n",
    "    xlabel=\"standard normal sample\",\n",
    "    ylabel=\"sample values\",\n",
    ")"
   ]
  },
  {
   "cell_type": "markdown",
   "id": "5d5bdbfb",
   "metadata": {},
   "source": [
    "Now let's try it with real data. Here's code to generate a normal\n",
    "probability plot for the birth weight data from the previous section. It\n",
    "plots a gray line that represents the model and a blue line that\n",
    "represents the data."
   ]
  },
  {
   "cell_type": "code",
   "execution_count": 15,
   "id": "37d261a1",
   "metadata": {},
   "outputs": [
    {
     "data": {
      "application/javascript": [
       "\n",
       "            setTimeout(function() {\n",
       "                var nbb_cell_id = 15;\n",
       "                var nbb_unformatted_code = \"def make_normal_plot(weights):\\n    mean = weights.mean()\\n    std = weights.std()\\n    xs = [-4, 4]\\n    fxs, fys = thinkstats2.fit_line(xs, inter=mean, slope=std)\\n    thinkplot.plot(fxs, fys, color='gray', label='model')\\n    xs, ys = thinkstats2.normal_probability(weights)\\n    thinkplot.plot(xs, ys, label='birth weights')\";\n",
       "                var nbb_formatted_code = \"def make_normal_plot(weights):\\n    mean = weights.mean()\\n    std = weights.std()\\n    xs = [-4, 4]\\n    fxs, fys = thinkstats2.fit_line(xs, inter=mean, slope=std)\\n    thinkplot.plot(fxs, fys, color=\\\"gray\\\", label=\\\"model\\\")\\n    xs, ys = thinkstats2.normal_probability(weights)\\n    thinkplot.plot(xs, ys, label=\\\"birth weights\\\")\";\n",
       "                var nbb_cells = Jupyter.notebook.get_cells();\n",
       "                for (var i = 0; i < nbb_cells.length; ++i) {\n",
       "                    if (nbb_cells[i].input_prompt_number == nbb_cell_id) {\n",
       "                        if (nbb_cells[i].get_text() == nbb_unformatted_code) {\n",
       "                             nbb_cells[i].set_text(nbb_formatted_code);\n",
       "                        }\n",
       "                        break;\n",
       "                    }\n",
       "                }\n",
       "            }, 500);\n",
       "            "
      ],
      "text/plain": [
       "<IPython.core.display.Javascript object>"
      ]
     },
     "metadata": {},
     "output_type": "display_data"
    }
   ],
   "source": [
    "def make_normal_plot(weights):\n",
    "    mean = weights.mean()\n",
    "    std = weights.std()\n",
    "    xs = [-4, 4]\n",
    "    fxs, fys = thinkstats2.fit_line(xs, inter=mean, slope=std)\n",
    "    thinkplot.plot(fxs, fys, color=\"gray\", label=\"model\")\n",
    "    xs, ys = thinkstats2.normal_probability(weights)\n",
    "    thinkplot.plot(xs, ys, label=\"birth weights\")"
   ]
  },
  {
   "cell_type": "markdown",
   "id": "f8695eca",
   "metadata": {},
   "source": [
    "`weights` is a pandas Series of birth weights; `mean` and `std` are the\n",
    "mean and standard deviation.\n",
    "\n",
    "`FitLine` takes a sequence of `xs`, an intercept, and a slope; it\n",
    "returns `xs` and `ys` that represent a line with the given parameters,\n",
    "evaluated at the values in `xs`.\n",
    "\n",
    "`NormalProbability` returns `xs` and `ys` that contain values from the\n",
    "standard normal distribution and values from `weights`. If the\n",
    "distribution of weights is normal, the data should match the model."
   ]
  },
  {
   "cell_type": "code",
   "execution_count": 16,
   "id": "3799bae7",
   "metadata": {},
   "outputs": [
    {
     "data": {
      "image/png": "[encoded data removed]",
      "text/plain": [
       "<Figure size 640x480 with 1 Axes>"
      ]
     },
     "metadata": {},
     "output_type": "display_data"
    },
    {
     "data": {
      "application/javascript": [
       "\n",
       "            setTimeout(function() {\n",
       "                var nbb_cell_id = 16;\n",
       "                var nbb_unformatted_code = \"mean, var = thinkstats2.trimmed_mean_var(weights, p=0.01)\\nstd = np.sqrt(var)\\nxs = [-4, 4]\\nfxs, fys = thinkstats2.fit_line(xs, mean, std)\\nthinkplot.plot(fxs, fys, linewidth=4, color='0.8')\\nxs, ys = thinkstats2.normal_probability(weights)\\nthinkplot.plot(xs, ys, label='all live')\\nthinkplot.config(title='Normal probability plot', xlabel=\\n    'Standard deviations from mean', ylabel='Birth weight (lbs)')\";\n",
       "                var nbb_formatted_code = \"mean, var = thinkstats2.trimmed_mean_var(weights, p=0.01)\\nstd = np.sqrt(var)\\nxs = [-4, 4]\\nfxs, fys = thinkstats2.fit_line(xs, mean, std)\\nthinkplot.plot(fxs, fys, linewidth=4, color=\\\"0.8\\\")\\nxs, ys = thinkstats2.normal_probability(weights)\\nthinkplot.plot(xs, ys, label=\\\"all live\\\")\\nthinkplot.config(\\n    title=\\\"Normal probability plot\\\",\\n    xlabel=\\\"Standard deviations from mean\\\",\\n    ylabel=\\\"Birth weight (lbs)\\\",\\n)\";\n",
       "                var nbb_cells = Jupyter.notebook.get_cells();\n",
       "                for (var i = 0; i < nbb_cells.length; ++i) {\n",
       "                    if (nbb_cells[i].input_prompt_number == nbb_cell_id) {\n",
       "                        if (nbb_cells[i].get_text() == nbb_unformatted_code) {\n",
       "                             nbb_cells[i].set_text(nbb_formatted_code);\n",
       "                        }\n",
       "                        break;\n",
       "                    }\n",
       "                }\n",
       "            }, 500);\n",
       "            "
      ],
      "text/plain": [
       "<IPython.core.display.Javascript object>"
      ]
     },
     "metadata": {},
     "output_type": "display_data"
    }
   ],
   "source": [
    "mean, var = thinkstats2.trimmed_mean_var(weights, p=0.01)\n",
    "std = np.sqrt(var)\n",
    "xs = [-4, 4]\n",
    "fxs, fys = thinkstats2.fit_line(xs, mean, std)\n",
    "thinkplot.plot(fxs, fys, linewidth=4, color=\"0.8\")\n",
    "xs, ys = thinkstats2.normal_probability(weights)\n",
    "thinkplot.plot(xs, ys, label=\"all live\")\n",
    "thinkplot.config(\n",
    "    title=\"Normal probability plot\",\n",
    "    xlabel=\"Standard deviations from mean\",\n",
    "    ylabel=\"Birth weight (lbs)\",\n",
    ")"
   ]
  },
  {
   "cell_type": "markdown",
   "id": "721d5bc0",
   "metadata": {},
   "source": [
    "Figure [\\[analytic_birthwgt_normal\\]](#analytic_birthwgt_normal){reference-type=\"ref\"\n",
    "reference=\"analytic_birthwgt_normal\"} shows the results for all live\n",
    "births, and also for full term births (pregnancy length greater than 36\n",
    "weeks). Both curves match the model near the mean and deviate in the\n",
    "tails. The heaviest babies are heavier than what the model expects, and\n",
    "the lightest babies are lighter.\n",
    "\n",
    "When we select only full term births, we remove some of the lightest\n",
    "weights, which reduces the discrepancy in the lower tail of the\n",
    "distribution.\n",
    "\n",
    "This plot suggests that the normal model describes the distribution well\n",
    "within a few standard deviations from the mean, but not in the tails.\n",
    "Whether it is good enough for practical purposes depends on the\n",
    "purposes."
   ]
  },
  {
   "cell_type": "markdown",
   "id": "0690e053",
   "metadata": {},
   "source": [
    "## The lognormal distribution\n",
    "\n",
    "If the logarithms of a set of values have a normal distribution, the\n",
    "values have a **lognormal distribution**. The CDF of the lognormal\n",
    "distribution is the same as the CDF of the normal distribution, with\n",
    "$\\log x$ substituted for $x$.\n",
    "$$CDF_{lognormal}(x) = CDF_{normal}(\\log x)$$ The parameters of the\n",
    "lognormal distribution are usually denoted $\\mu$ and $\\sigma$. But\n",
    "remember that these parameters are *not* the mean and standard\n",
    "deviation; the mean of a lognormal distribution is\n",
    "$\\exp(\\mu +\\sigma^2/2)$ and the standard deviation is ugly (see\n",
    "<http://wikipedia.org/wiki/Log-normal_distribution>)."
   ]
  },
  {
   "cell_type": "markdown",
   "id": "5b92b002",
   "metadata": {},
   "source": [
    "If a sample is approximately lognormal and you plot its CDF on a log-x\n",
    "scale, it will have the characteristic shape of a normal distribution.\n",
    "To test how well the sample fits a lognormal model, you can make a\n",
    "normal probability plot using the log of the values in the sample.\n",
    "\n",
    "As an example, let's look at the distribution of adult weights, which is\n",
    "approximately lognormal.[^2]\n",
    "\n",
    "The National Center for Chronic Disease Prevention and Health Promotion\n",
    "conducts an annual survey as part of the Behavioral Risk Factor\n",
    "Surveillance System (BRFSS).[^3] In 2008, they interviewed 414,509\n",
    "respondents and asked about their demographics, health, and health\n",
    "risks. Among the data they collected are the weights in kilograms of\n",
    "398,484 respondents.\n",
    "\n",
    "The repository for this book contains `CDBRFS08.ASC.gz`, a fixed-width\n",
    "ASCII file that contains data from the BRFSS, and `brfss.py`, which\n",
    "reads the file and analyzes the data."
   ]
  },
  {
   "cell_type": "code",
   "execution_count": 17,
   "id": "d80d103c",
   "metadata": {},
   "outputs": [
    {
     "data": {
      "application/javascript": [
       "\n",
       "            setTimeout(function() {\n",
       "                var nbb_cell_id = 17;\n",
       "                var nbb_unformatted_code = \"download('https://github.com/AllenDowney/ThinkStats2/raw/master/code/brfss.py')\\ndownload(\\n    'https://github.com/AllenDowney/ThinkStats2/raw/master/code/CDBRFS08.ASC.gz'\\n    )\";\n",
       "                var nbb_formatted_code = \"download(\\\"https://github.com/AllenDowney/ThinkStats2/raw/master/code/brfss.py\\\")\\ndownload(\\\"https://github.com/AllenDowney/ThinkStats2/raw/master/code/CDBRFS08.ASC.gz\\\")\";\n",
       "                var nbb_cells = Jupyter.notebook.get_cells();\n",
       "                for (var i = 0; i < nbb_cells.length; ++i) {\n",
       "                    if (nbb_cells[i].input_prompt_number == nbb_cell_id) {\n",
       "                        if (nbb_cells[i].get_text() == nbb_unformatted_code) {\n",
       "                             nbb_cells[i].set_text(nbb_formatted_code);\n",
       "                        }\n",
       "                        break;\n",
       "                    }\n",
       "                }\n",
       "            }, 500);\n",
       "            "
      ],
      "text/plain": [
       "<IPython.core.display.Javascript object>"
      ]
     },
     "metadata": {},
     "output_type": "display_data"
    }
   ],
   "source": [
    "download(\"https://github.com/AllenDowney/ThinkStats2/raw/master/code/brfss.py\")\n",
    "download(\"https://github.com/AllenDowney/ThinkStats2/raw/master/code/CDBRFS08.ASC.gz\")"
   ]
  },
  {
   "cell_type": "code",
   "execution_count": 18,
   "id": "7ea83cdd",
   "metadata": {},
   "outputs": [
    {
     "data": {
      "application/javascript": [
       "\n",
       "            setTimeout(function() {\n",
       "                var nbb_cell_id = 18;\n",
       "                var nbb_unformatted_code = \"import brfss\\ndf = brfss.read_brfss()\\nweights = df.wtkg2.dropna()\";\n",
       "                var nbb_formatted_code = \"import brfss\\n\\ndf = brfss.read_brfss()\\nweights = df.wtkg2.dropna()\";\n",
       "                var nbb_cells = Jupyter.notebook.get_cells();\n",
       "                for (var i = 0; i < nbb_cells.length; ++i) {\n",
       "                    if (nbb_cells[i].input_prompt_number == nbb_cell_id) {\n",
       "                        if (nbb_cells[i].get_text() == nbb_unformatted_code) {\n",
       "                             nbb_cells[i].set_text(nbb_formatted_code);\n",
       "                        }\n",
       "                        break;\n",
       "                    }\n",
       "                }\n",
       "            }, 500);\n",
       "            "
      ],
      "text/plain": [
       "<IPython.core.display.Javascript object>"
      ]
     },
     "metadata": {},
     "output_type": "display_data"
    }
   ],
   "source": [
    "import brfss\n",
    "\n",
    "df = brfss.read_brfss()\n",
    "weights = df.wtkg2.dropna()"
   ]
  },
  {
   "cell_type": "code",
   "execution_count": 19,
   "id": "c606acc8",
   "metadata": {},
   "outputs": [
    {
     "data": {
      "application/javascript": [
       "\n",
       "            setTimeout(function() {\n",
       "                var nbb_cell_id = 19;\n",
       "                var nbb_unformatted_code = \"def make_normal_model(weights):\\n    \\\"\\\"\\\"Plots a CDF with a Normal model.\\n\\n    weights: sequence\\n    \\\"\\\"\\\"\\n    cdf = thinkstats2.Cdf(weights, label='weights')\\n    mean, var = thinkstats2.trimmed_mean_var(weights)\\n    std = np.sqrt(var)\\n    print('n, mean, std', len(weights), mean, std)\\n    xmin = mean - 4 * std\\n    xmax = mean + 4 * std\\n    xs, ps = thinkstats2.render_normal_cdf(mean, std, xmin, xmax)\\n    thinkplot.plot(xs, ps, label='model', linewidth=4, color='0.8')\\n    thinkplot.cdf(cdf)\";\n",
       "                var nbb_formatted_code = \"def make_normal_model(weights):\\n    \\\"\\\"\\\"Plots a CDF with a Normal model.\\n\\n    weights: sequence\\n    \\\"\\\"\\\"\\n    cdf = thinkstats2.Cdf(weights, label=\\\"weights\\\")\\n    mean, var = thinkstats2.trimmed_mean_var(weights)\\n    std = np.sqrt(var)\\n    print(\\\"n, mean, std\\\", len(weights), mean, std)\\n    xmin = mean - 4 * std\\n    xmax = mean + 4 * std\\n    xs, ps = thinkstats2.render_normal_cdf(mean, std, xmin, xmax)\\n    thinkplot.plot(xs, ps, label=\\\"model\\\", linewidth=4, color=\\\"0.8\\\")\\n    thinkplot.cdf(cdf)\";\n",
       "                var nbb_cells = Jupyter.notebook.get_cells();\n",
       "                for (var i = 0; i < nbb_cells.length; ++i) {\n",
       "                    if (nbb_cells[i].input_prompt_number == nbb_cell_id) {\n",
       "                        if (nbb_cells[i].get_text() == nbb_unformatted_code) {\n",
       "                             nbb_cells[i].set_text(nbb_formatted_code);\n",
       "                        }\n",
       "                        break;\n",
       "                    }\n",
       "                }\n",
       "            }, 500);\n",
       "            "
      ],
      "text/plain": [
       "<IPython.core.display.Javascript object>"
      ]
     },
     "metadata": {},
     "output_type": "display_data"
    }
   ],
   "source": [
    "def make_normal_model(weights):\n",
    "    \"\"\"Plots a CDF with a Normal model.\n",
    "\n",
    "    weights: sequence\n",
    "    \"\"\"\n",
    "    cdf = thinkstats2.Cdf(weights, label=\"weights\")\n",
    "    mean, var = thinkstats2.trimmed_mean_var(weights)\n",
    "    std = np.sqrt(var)\n",
    "    print(\"n, mean, std\", len(weights), mean, std)\n",
    "    xmin = mean - 4 * std\n",
    "    xmax = mean + 4 * std\n",
    "    xs, ps = thinkstats2.render_normal_cdf(mean, std, xmin, xmax)\n",
    "    thinkplot.plot(xs, ps, label=\"model\", linewidth=4, color=\"0.8\")\n",
    "    thinkplot.cdf(cdf)"
   ]
  },
  {
   "cell_type": "code",
   "execution_count": 20,
   "id": "d6c83844",
   "metadata": {},
   "outputs": [
    {
     "name": "stdout",
     "output_type": "stream",
     "text": [
      "n, mean, std 398484 78.59599565702814 17.75455519179818\n"
     ]
    },
    {
     "data": {
      "image/png": "[encoded data removed]",
      "text/plain": [
       "<Figure size 640x480 with 1 Axes>"
      ]
     },
     "metadata": {},
     "output_type": "display_data"
    },
    {
     "data": {
      "application/javascript": [
       "\n",
       "            setTimeout(function() {\n",
       "                var nbb_cell_id = 20;\n",
       "                var nbb_unformatted_code = \"make_normal_model(weights)\\nthinkplot.config(title='Adult weight, linear scale', xlabel='Weight (kg)',\\n    ylabel='CDF', loc='upper right')\";\n",
       "                var nbb_formatted_code = \"make_normal_model(weights)\\nthinkplot.config(\\n    title=\\\"Adult weight, linear scale\\\",\\n    xlabel=\\\"Weight (kg)\\\",\\n    ylabel=\\\"CDF\\\",\\n    loc=\\\"upper right\\\",\\n)\";\n",
       "                var nbb_cells = Jupyter.notebook.get_cells();\n",
       "                for (var i = 0; i < nbb_cells.length; ++i) {\n",
       "                    if (nbb_cells[i].input_prompt_number == nbb_cell_id) {\n",
       "                        if (nbb_cells[i].get_text() == nbb_unformatted_code) {\n",
       "                             nbb_cells[i].set_text(nbb_formatted_code);\n",
       "                        }\n",
       "                        break;\n",
       "                    }\n",
       "                }\n",
       "            }, 500);\n",
       "            "
      ],
      "text/plain": [
       "<IPython.core.display.Javascript object>"
      ]
     },
     "metadata": {},
     "output_type": "display_data"
    }
   ],
   "source": [
    "make_normal_model(weights)\n",
    "thinkplot.config(\n",
    "    title=\"Adult weight, linear scale\",\n",
    "    xlabel=\"Weight (kg)\",\n",
    "    ylabel=\"CDF\",\n",
    "    loc=\"upper right\",\n",
    ")"
   ]
  },
  {
   "cell_type": "code",
   "execution_count": 21,
   "id": "2059a4bf",
   "metadata": {},
   "outputs": [
    {
     "name": "stdout",
     "output_type": "stream",
     "text": [
      "n, mean, std 398484 1.884660713731975 0.09623580259151746\n"
     ]
    },
    {
     "data": {
      "image/png": "[encoded data removed]",
      "text/plain": [
       "<Figure size 640x480 with 1 Axes>"
      ]
     },
     "metadata": {},
     "output_type": "display_data"
    },
    {
     "data": {
      "application/javascript": [
       "\n",
       "            setTimeout(function() {\n",
       "                var nbb_cell_id = 21;\n",
       "                var nbb_unformatted_code = \"log_weights = np.log10(weights)\\nmake_normal_model(log_weights)\\nthinkplot.config(title='Adult weight, log scale', xlabel=\\n    'Weight (log10 kg)', ylabel='CDF', loc='upper right')\";\n",
       "                var nbb_formatted_code = \"log_weights = np.log10(weights)\\nmake_normal_model(log_weights)\\nthinkplot.config(\\n    title=\\\"Adult weight, log scale\\\",\\n    xlabel=\\\"Weight (log10 kg)\\\",\\n    ylabel=\\\"CDF\\\",\\n    loc=\\\"upper right\\\",\\n)\";\n",
       "                var nbb_cells = Jupyter.notebook.get_cells();\n",
       "                for (var i = 0; i < nbb_cells.length; ++i) {\n",
       "                    if (nbb_cells[i].input_prompt_number == nbb_cell_id) {\n",
       "                        if (nbb_cells[i].get_text() == nbb_unformatted_code) {\n",
       "                             nbb_cells[i].set_text(nbb_formatted_code);\n",
       "                        }\n",
       "                        break;\n",
       "                    }\n",
       "                }\n",
       "            }, 500);\n",
       "            "
      ],
      "text/plain": [
       "<IPython.core.display.Javascript object>"
      ]
     },
     "metadata": {},
     "output_type": "display_data"
    }
   ],
   "source": [
    "log_weights = np.log10(weights)\n",
    "make_normal_model(log_weights)\n",
    "thinkplot.config(\n",
    "    title=\"Adult weight, log scale\",\n",
    "    xlabel=\"Weight (log10 kg)\",\n",
    "    ylabel=\"CDF\",\n",
    "    loc=\"upper right\",\n",
    ")"
   ]
  },
  {
   "cell_type": "markdown",
   "id": "ec523cbc",
   "metadata": {},
   "source": [
    "Figure [\\[brfss_weight\\]](#brfss_weight){reference-type=\"ref\"\n",
    "reference=\"brfss_weight\"} (left) shows the distribution of adult weights\n",
    "on a linear scale with a normal model.\n",
    "Figure [\\[brfss_weight\\]](#brfss_weight){reference-type=\"ref\"\n",
    "reference=\"brfss_weight\"} (right) shows the same distribution on a log\n",
    "scale with a lognormal model. The lognormal model is a better fit, but\n",
    "this representation of the data does not make the difference\n",
    "particularly dramatic.\n",
    "\n",
    "Figure [\\[brfss_weight_normal\\]](#brfss_weight_normal){reference-type=\"ref\"\n",
    "reference=\"brfss_weight_normal\"} shows normal probability plots for\n",
    "adult weights, $w$, and for their logarithms, $\\log_{10} w$. Now it is\n",
    "apparent that the data deviate substantially from the normal model. On\n",
    "the other hand, the lognormal model is a good match for the data."
   ]
  },
  {
   "cell_type": "markdown",
   "id": "ecaa5709",
   "metadata": {},
   "source": [
    "## The Pareto distribution\n",
    "\n",
    "The **Pareto distribution** is named after the economist Vilfredo\n",
    "Pareto, who used it to describe the distribution of wealth (see\n",
    "<http://wikipedia.org/wiki/Pareto_distribution>). Since then, it has\n",
    "been used to describe phenomena in the natural and social sciences\n",
    "including sizes of cities and towns, sand particles and meteorites,\n",
    "forest fires and earthquakes.\n",
    "\n",
    "The CDF of the Pareto distribution is:\n",
    "$$CDF(x) = 1 - \\left( \\frac{x}{x_m} \\right) ^{-\\alpha}$$ The parameters\n",
    "$x_{m}$ and $\\alpha$ determine the location and shape of the\n",
    "distribution. $x_{m}$ is the minimum possible value.\n",
    "Figure [\\[analytic_pareto_cdf\\]](#analytic_pareto_cdf){reference-type=\"ref\"\n",
    "reference=\"analytic_pareto_cdf\"} shows CDFs of Pareto distributions with\n",
    "$x_{m} = 0.5$ and different values of $\\alpha$."
   ]
  },
  {
   "cell_type": "code",
   "execution_count": 22,
   "id": "e559282f",
   "metadata": {},
   "outputs": [
    {
     "data": {
      "image/png": "[encoded data removed]",
      "text/plain": [
       "<Figure size 640x480 with 1 Axes>"
      ]
     },
     "metadata": {},
     "output_type": "display_data"
    },
    {
     "data": {
      "application/javascript": [
       "\n",
       "            setTimeout(function() {\n",
       "                var nbb_cell_id = 22;\n",
       "                var nbb_unformatted_code = \"xmin = 0.5\\nthinkplot.pre_plot(3)\\nfor alpha in [2.0, 1.0, 0.5]:\\n    xs, ps = thinkstats2.render_pareto_cdf(xmin, alpha, 0, 10.0, n=100)\\n    thinkplot.plot(xs, ps, label='$\\\\\\\\alpha=%g$' % alpha)\\nthinkplot.config(title='Pareto CDF', xlabel='x', ylabel='CDF', loc=\\n    'lower right')\";\n",
       "                var nbb_formatted_code = \"xmin = 0.5\\nthinkplot.pre_plot(3)\\nfor alpha in [2.0, 1.0, 0.5]:\\n    xs, ps = thinkstats2.render_pareto_cdf(xmin, alpha, 0, 10.0, n=100)\\n    thinkplot.plot(xs, ps, label=\\\"$\\\\\\\\alpha=%g$\\\" % alpha)\\nthinkplot.config(title=\\\"Pareto CDF\\\", xlabel=\\\"x\\\", ylabel=\\\"CDF\\\", loc=\\\"lower right\\\")\";\n",
       "                var nbb_cells = Jupyter.notebook.get_cells();\n",
       "                for (var i = 0; i < nbb_cells.length; ++i) {\n",
       "                    if (nbb_cells[i].input_prompt_number == nbb_cell_id) {\n",
       "                        if (nbb_cells[i].get_text() == nbb_unformatted_code) {\n",
       "                             nbb_cells[i].set_text(nbb_formatted_code);\n",
       "                        }\n",
       "                        break;\n",
       "                    }\n",
       "                }\n",
       "            }, 500);\n",
       "            "
      ],
      "text/plain": [
       "<IPython.core.display.Javascript object>"
      ]
     },
     "metadata": {},
     "output_type": "display_data"
    }
   ],
   "source": [
    "xmin = 0.5\n",
    "thinkplot.pre_plot(3)\n",
    "for alpha in [2.0, 1.0, 0.5]:\n",
    "    xs, ps = thinkstats2.render_pareto_cdf(xmin, alpha, 0, 10.0, n=100)\n",
    "    thinkplot.plot(xs, ps, label=\"$\\\\alpha=%g$\" % alpha)\n",
    "thinkplot.config(title=\"Pareto CDF\", xlabel=\"x\", ylabel=\"CDF\", loc=\"lower right\")"
   ]
  },
  {
   "cell_type": "markdown",
   "id": "a4360eee",
   "metadata": {},
   "source": [
    "There is a simple visual test that indicates whether an empirical\n",
    "distribution fits a Pareto distribution: on a log-log scale, the CCDF\n",
    "looks like a straight line. Let's see why that works.\n",
    "\n",
    "If you plot the CCDF of a sample from a Pareto distribution on a linear\n",
    "scale, you expect to see a function like:\n",
    "$$y \\approx \\left( \\frac{x}{x_m} \\right) ^{-\\alpha}$$ Taking the log of\n",
    "both sides yields: $$\\log y \\approx -\\alpha (\\log x - \\log x_{m})$$ So\n",
    "if you plot $\\log y$ versus $\\log x$, it should look like a straight\n",
    "line with slope $-\\alpha$ and intercept $\\alpha \\log x_{m}$.\n",
    "\n",
    "As an example, let's look at the sizes of cities and towns. The\n",
    "U.S. Census Bureau publishes the population of every incorporated city\n",
    "and town in the United States."
   ]
  },
  {
   "cell_type": "code",
   "execution_count": 23,
   "id": "9f1ede9d",
   "metadata": {},
   "outputs": [
    {
     "data": {
      "application/javascript": [
       "\n",
       "            setTimeout(function() {\n",
       "                var nbb_cell_id = 23;\n",
       "                var nbb_unformatted_code = \"download(\\n    'https://github.com/AllenDowney/ThinkStats2/raw/master/code/populations.py'\\n    )\\ndownload(\\n    'https://github.com/AllenDowney/ThinkStats2/raw/master/code/PEP_2012_PEPANNRES_with_ann.csv'\\n    )\";\n",
       "                var nbb_formatted_code = \"download(\\\"https://github.com/AllenDowney/ThinkStats2/raw/master/code/populations.py\\\")\\ndownload(\\n    \\\"https://github.com/AllenDowney/ThinkStats2/raw/master/code/PEP_2012_PEPANNRES_with_ann.csv\\\"\\n)\";\n",
       "                var nbb_cells = Jupyter.notebook.get_cells();\n",
       "                for (var i = 0; i < nbb_cells.length; ++i) {\n",
       "                    if (nbb_cells[i].input_prompt_number == nbb_cell_id) {\n",
       "                        if (nbb_cells[i].get_text() == nbb_unformatted_code) {\n",
       "                             nbb_cells[i].set_text(nbb_formatted_code);\n",
       "                        }\n",
       "                        break;\n",
       "                    }\n",
       "                }\n",
       "            }, 500);\n",
       "            "
      ],
      "text/plain": [
       "<IPython.core.display.Javascript object>"
      ]
     },
     "metadata": {},
     "output_type": "display_data"
    }
   ],
   "source": [
    "download(\"https://github.com/AllenDowney/ThinkStats2/raw/master/code/populations.py\")\n",
    "download(\n",
    "    \"https://github.com/AllenDowney/ThinkStats2/raw/master/code/PEP_2012_PEPANNRES_with_ann.csv\"\n",
    ")"
   ]
  },
  {
   "cell_type": "code",
   "execution_count": 24,
   "id": "18929b3d",
   "metadata": {},
   "outputs": [
    {
     "name": "stdout",
     "output_type": "stream",
     "text": [
      "Number of cities/towns 19515\n"
     ]
    },
    {
     "data": {
      "application/javascript": [
       "\n",
       "            setTimeout(function() {\n",
       "                var nbb_cell_id = 24;\n",
       "                var nbb_unformatted_code = \"import populations\\npops = populations.read_data()\\nprint('Number of cities/towns', len(pops))\";\n",
       "                var nbb_formatted_code = \"import populations\\n\\npops = populations.read_data()\\nprint(\\\"Number of cities/towns\\\", len(pops))\";\n",
       "                var nbb_cells = Jupyter.notebook.get_cells();\n",
       "                for (var i = 0; i < nbb_cells.length; ++i) {\n",
       "                    if (nbb_cells[i].input_prompt_number == nbb_cell_id) {\n",
       "                        if (nbb_cells[i].get_text() == nbb_unformatted_code) {\n",
       "                             nbb_cells[i].set_text(nbb_formatted_code);\n",
       "                        }\n",
       "                        break;\n",
       "                    }\n",
       "                }\n",
       "            }, 500);\n",
       "            "
      ],
      "text/plain": [
       "<IPython.core.display.Javascript object>"
      ]
     },
     "metadata": {},
     "output_type": "display_data"
    }
   ],
   "source": [
    "import populations\n",
    "\n",
    "pops = populations.read_data()\n",
    "print(\"Number of cities/towns\", len(pops))"
   ]
  },
  {
   "cell_type": "markdown",
   "id": "07f5b5e7",
   "metadata": {},
   "source": [
    "I downloaded their data from\n",
    "<http://www.census.gov/popest/data/cities/totals/2012/SUB-EST2012-3.html>;\n",
    "it is in the repository for this book in a file named\n",
    "`PEP_2012_PEPANNRES_with_ann.csv`. The repository also contains\n",
    "`populations.py`, which reads the file and plots the distribution of\n",
    "populations.\n",
    "\n",
    "Figure [\\[populations_pareto\\]](#populations_pareto){reference-type=\"ref\"\n",
    "reference=\"populations_pareto\"} shows the CCDF of populations on a\n",
    "log-log scale. The largest 1% of cities and towns, below $10^{-2}$, fall\n",
    "along a straight line. So we could conclude, as some researchers have,\n",
    "that the tail of this distribution fits a Pareto model.\n",
    "\n",
    "On the other hand, a lognormal distribution also models the data well.\n",
    "Figure [\\[populations_normal\\]](#populations_normal){reference-type=\"ref\"\n",
    "reference=\"populations_normal\"} shows the CDF of populations and a\n",
    "lognormal model (left), and a normal probability plot (right). Both\n",
    "plots show good agreement between the data and the model.\n",
    "\n",
    "Neither model is perfect. The Pareto model only applies to the largest\n",
    "1% of cities, but it is a better fit for that part of the distribution.\n",
    "The lognormal model is a better fit for the other 99%. Which model is\n",
    "appropriate depends on which part of the distribution is relevant."
   ]
  },
  {
   "cell_type": "code",
   "execution_count": 25,
   "id": "ad635d57",
   "metadata": {},
   "outputs": [
    {
     "data": {
      "image/png": "[encoded data removed]",
      "text/plain": [
       "<Figure size 640x480 with 1 Axes>"
      ]
     },
     "metadata": {},
     "output_type": "display_data"
    },
    {
     "data": {
      "application/javascript": [
       "\n",
       "            setTimeout(function() {\n",
       "                var nbb_cell_id = 25;\n",
       "                var nbb_unformatted_code = \"log_pops = np.log10(pops)\\ncdf = thinkstats2.Cdf(pops, label='data')\\ncdf_log = thinkstats2.Cdf(log_pops, label='data')\\nxs, ys = thinkstats2.render_pareto_cdf(xmin=5000, alpha=1.4, low=0, high=\\n    10000000.0)\\nthinkplot.plot(np.log10(xs), 1 - ys, label='model', color='0.8')\\nthinkplot.cdf(cdf_log, complement=True)\\nthinkplot.config(xlabel='log10 population', ylabel='CCDF', yscale='log',\\n    loc='lower left')\";\n",
       "                var nbb_formatted_code = \"log_pops = np.log10(pops)\\ncdf = thinkstats2.Cdf(pops, label=\\\"data\\\")\\ncdf_log = thinkstats2.Cdf(log_pops, label=\\\"data\\\")\\nxs, ys = thinkstats2.render_pareto_cdf(xmin=5000, alpha=1.4, low=0, high=10000000.0)\\nthinkplot.plot(np.log10(xs), 1 - ys, label=\\\"model\\\", color=\\\"0.8\\\")\\nthinkplot.cdf(cdf_log, complement=True)\\nthinkplot.config(\\n    xlabel=\\\"log10 population\\\", ylabel=\\\"CCDF\\\", yscale=\\\"log\\\", loc=\\\"lower left\\\"\\n)\";\n",
       "                var nbb_cells = Jupyter.notebook.get_cells();\n",
       "                for (var i = 0; i < nbb_cells.length; ++i) {\n",
       "                    if (nbb_cells[i].input_prompt_number == nbb_cell_id) {\n",
       "                        if (nbb_cells[i].get_text() == nbb_unformatted_code) {\n",
       "                             nbb_cells[i].set_text(nbb_formatted_code);\n",
       "                        }\n",
       "                        break;\n",
       "                    }\n",
       "                }\n",
       "            }, 500);\n",
       "            "
      ],
      "text/plain": [
       "<IPython.core.display.Javascript object>"
      ]
     },
     "metadata": {},
     "output_type": "display_data"
    }
   ],
   "source": [
    "log_pops = np.log10(pops)\n",
    "cdf = thinkstats2.Cdf(pops, label=\"data\")\n",
    "cdf_log = thinkstats2.Cdf(log_pops, label=\"data\")\n",
    "xs, ys = thinkstats2.render_pareto_cdf(xmin=5000, alpha=1.4, low=0, high=10000000.0)\n",
    "thinkplot.plot(np.log10(xs), 1 - ys, label=\"model\", color=\"0.8\")\n",
    "thinkplot.cdf(cdf_log, complement=True)\n",
    "thinkplot.config(\n",
    "    xlabel=\"log10 population\", ylabel=\"CCDF\", yscale=\"log\", loc=\"lower left\"\n",
    ")"
   ]
  },
  {
   "cell_type": "code",
   "execution_count": 26,
   "id": "6df10305",
   "metadata": {},
   "outputs": [
    {
     "data": {
      "image/png": "[encoded data removed]",
      "text/plain": [
       "<Figure size 1200x600 with 1 Axes>"
      ]
     },
     "metadata": {},
     "output_type": "display_data"
    },
    {
     "data": {
      "application/javascript": [
       "\n",
       "            setTimeout(function() {\n",
       "                var nbb_cell_id = 26;\n",
       "                var nbb_unformatted_code = \"thinkplot.pre_plot(cols=2)\\nmu, sigma = log_pops.mean(), log_pops.std()\\nxs, ps = thinkstats2.render_normal_cdf(mu, sigma, low=0, high=8)\\nthinkplot.plot(xs, ps, label='model', color='0.8')\\nthinkplot.cdf(cdf_log)\\nthinkplot.config(xlabel='log10 population', ylabel='CDF', loc='lower right')\";\n",
       "                var nbb_formatted_code = \"thinkplot.pre_plot(cols=2)\\nmu, sigma = log_pops.mean(), log_pops.std()\\nxs, ps = thinkstats2.render_normal_cdf(mu, sigma, low=0, high=8)\\nthinkplot.plot(xs, ps, label=\\\"model\\\", color=\\\"0.8\\\")\\nthinkplot.cdf(cdf_log)\\nthinkplot.config(xlabel=\\\"log10 population\\\", ylabel=\\\"CDF\\\", loc=\\\"lower right\\\")\";\n",
       "                var nbb_cells = Jupyter.notebook.get_cells();\n",
       "                for (var i = 0; i < nbb_cells.length; ++i) {\n",
       "                    if (nbb_cells[i].input_prompt_number == nbb_cell_id) {\n",
       "                        if (nbb_cells[i].get_text() == nbb_unformatted_code) {\n",
       "                             nbb_cells[i].set_text(nbb_formatted_code);\n",
       "                        }\n",
       "                        break;\n",
       "                    }\n",
       "                }\n",
       "            }, 500);\n",
       "            "
      ],
      "text/plain": [
       "<IPython.core.display.Javascript object>"
      ]
     },
     "metadata": {},
     "output_type": "display_data"
    }
   ],
   "source": [
    "thinkplot.pre_plot(cols=2)\n",
    "mu, sigma = log_pops.mean(), log_pops.std()\n",
    "xs, ps = thinkstats2.render_normal_cdf(mu, sigma, low=0, high=8)\n",
    "thinkplot.plot(xs, ps, label=\"model\", color=\"0.8\")\n",
    "thinkplot.cdf(cdf_log)\n",
    "thinkplot.config(xlabel=\"log10 population\", ylabel=\"CDF\", loc=\"lower right\")"
   ]
  },
  {
   "cell_type": "markdown",
   "id": "8be0f092",
   "metadata": {},
   "source": [
    "## Generating random numbers\n",
    "\n",
    "Analytic CDFs can be used to generate random numbers with a given\n",
    "distribution function, $p = CDF(x)$. If there is an efficient way to\n",
    "compute the inverse CDF, we can generate random values with the\n",
    "appropriate distribution by choosing $p$ from a uniform distribution\n",
    "between 0 and 1, then choosing $x = ICDF(p)$.\n",
    "\n",
    "For example, the CDF of the exponential distribution is\n",
    "$$p = 1 - e^{-\\lambda x}$$ Solving for $x$ yields:\n",
    "$$x = -\\log (1 - p) / \\lambda$$ So in Python we can write"
   ]
  },
  {
   "cell_type": "code",
   "execution_count": 27,
   "id": "3295e3ad",
   "metadata": {},
   "outputs": [
    {
     "data": {
      "application/javascript": [
       "\n",
       "            setTimeout(function() {\n",
       "                var nbb_cell_id = 27;\n",
       "                var nbb_unformatted_code = \"import random\\n\\n\\ndef expovariate(lam):\\n    p = random.random()\\n    x = -np.log(1 - p) / lam\\n    return x\";\n",
       "                var nbb_formatted_code = \"import random\\n\\n\\ndef expovariate(lam):\\n    p = random.random()\\n    x = -np.log(1 - p) / lam\\n    return x\";\n",
       "                var nbb_cells = Jupyter.notebook.get_cells();\n",
       "                for (var i = 0; i < nbb_cells.length; ++i) {\n",
       "                    if (nbb_cells[i].input_prompt_number == nbb_cell_id) {\n",
       "                        if (nbb_cells[i].get_text() == nbb_unformatted_code) {\n",
       "                             nbb_cells[i].set_text(nbb_formatted_code);\n",
       "                        }\n",
       "                        break;\n",
       "                    }\n",
       "                }\n",
       "            }, 500);\n",
       "            "
      ],
      "text/plain": [
       "<IPython.core.display.Javascript object>"
      ]
     },
     "metadata": {},
     "output_type": "display_data"
    }
   ],
   "source": [
    "import random\n",
    "\n",
    "\n",
    "def expovariate(lam):\n",
    "    p = random.random()\n",
    "    x = -np.log(1 - p) / lam\n",
    "    return x"
   ]
  },
  {
   "cell_type": "markdown",
   "id": "0bbbce62",
   "metadata": {},
   "source": [
    "`expovariate` takes `lam` and returns a random value chosen from the\n",
    "exponential distribution with parameter `lam`.\n",
    "\n",
    "Two notes about this implementation: I called the parameter `lam`\n",
    "because `lambda` is a Python keyword. Also, since $\\log 0$ is undefined,\n",
    "we have to be a little careful. The implementation of `random.random`\n",
    "can return 0 but not 1, so $1 - p$ can be 1 but not 0, so `log(1-p)` is\n",
    "always defined."
   ]
  },
  {
   "cell_type": "code",
   "execution_count": 28,
   "id": "b823e8ed",
   "metadata": {},
   "outputs": [
    {
     "data": {
      "application/javascript": [
       "\n",
       "            setTimeout(function() {\n",
       "                var nbb_cell_id = 28;\n",
       "                var nbb_unformatted_code = \"t = [expovariate(lam=2) for _ in range(1000)]\";\n",
       "                var nbb_formatted_code = \"t = [expovariate(lam=2) for _ in range(1000)]\";\n",
       "                var nbb_cells = Jupyter.notebook.get_cells();\n",
       "                for (var i = 0; i < nbb_cells.length; ++i) {\n",
       "                    if (nbb_cells[i].input_prompt_number == nbb_cell_id) {\n",
       "                        if (nbb_cells[i].get_text() == nbb_unformatted_code) {\n",
       "                             nbb_cells[i].set_text(nbb_formatted_code);\n",
       "                        }\n",
       "                        break;\n",
       "                    }\n",
       "                }\n",
       "            }, 500);\n",
       "            "
      ],
      "text/plain": [
       "<IPython.core.display.Javascript object>"
      ]
     },
     "metadata": {},
     "output_type": "display_data"
    }
   ],
   "source": [
    "t = [expovariate(lam=2) for _ in range(1000)]"
   ]
  },
  {
   "cell_type": "code",
   "execution_count": 29,
   "id": "2b671e3d",
   "metadata": {},
   "outputs": [
    {
     "data": {
      "image/png": "[encoded data removed]",
      "text/plain": [
       "<Figure size 640x480 with 1 Axes>"
      ]
     },
     "metadata": {},
     "output_type": "display_data"
    },
    {
     "data": {
      "application/javascript": [
       "\n",
       "            setTimeout(function() {\n",
       "                var nbb_cell_id = 29;\n",
       "                var nbb_unformatted_code = \"cdf = thinkstats2.Cdf(t)\\nthinkplot.cdf(cdf, complement=True)\\nthinkplot.config(xlabel='Exponential variate', ylabel='CCDF', yscale='log')\";\n",
       "                var nbb_formatted_code = \"cdf = thinkstats2.Cdf(t)\\nthinkplot.cdf(cdf, complement=True)\\nthinkplot.config(xlabel=\\\"Exponential variate\\\", ylabel=\\\"CCDF\\\", yscale=\\\"log\\\")\";\n",
       "                var nbb_cells = Jupyter.notebook.get_cells();\n",
       "                for (var i = 0; i < nbb_cells.length; ++i) {\n",
       "                    if (nbb_cells[i].input_prompt_number == nbb_cell_id) {\n",
       "                        if (nbb_cells[i].get_text() == nbb_unformatted_code) {\n",
       "                             nbb_cells[i].set_text(nbb_formatted_code);\n",
       "                        }\n",
       "                        break;\n",
       "                    }\n",
       "                }\n",
       "            }, 500);\n",
       "            "
      ],
      "text/plain": [
       "<IPython.core.display.Javascript object>"
      ]
     },
     "metadata": {},
     "output_type": "display_data"
    }
   ],
   "source": [
    "cdf = thinkstats2.Cdf(t)\n",
    "thinkplot.cdf(cdf, complement=True)\n",
    "thinkplot.config(xlabel=\"Exponential variate\", ylabel=\"CCDF\", yscale=\"log\")"
   ]
  },
  {
   "cell_type": "code",
   "execution_count": null,
   "id": "710eb305",
   "metadata": {},
   "outputs": [],
   "source": []
  },
  {
   "cell_type": "markdown",
   "id": "0f46ee83",
   "metadata": {},
   "source": [
    "## Why model?\n",
    "\n",
    "At the beginning of this chapter, I said that many real world phenomena\n",
    "can be modeled with analytic distributions. \"So,\" you might ask, \"what?\"\n",
    "\n",
    "Like all models, analytic distributions are abstractions, which means\n",
    "they leave out details that are considered irrelevant. For example, an\n",
    "observed distribution might have measurement errors or quirks that are\n",
    "specific to the sample; analytic models smooth out these idiosyncrasies.\n",
    "\n",
    "Analytic models are also a form of data compression. When a model fits a\n",
    "dataset well, a small set of parameters can summarize a large amount of\n",
    "data.\n",
    "\n",
    "It is sometimes surprising when data from a natural phenomenon fit an\n",
    "analytic distribution, but these observations can provide insight into\n",
    "physical systems. Sometimes we can explain why an observed distribution\n",
    "has a particular form. For example, Pareto distributions are often the\n",
    "result of generative processes with positive feedback (so-called\n",
    "preferential attachment processes: see\n",
    "<http://wikipedia.org/wiki/Preferential_attachment>.)."
   ]
  },
  {
   "cell_type": "markdown",
   "id": "439331ea",
   "metadata": {},
   "source": [
    "Also, analytic distributions lend themselves to mathematical analysis,\n",
    "as we will see in Chapter [\\[analysis\\]](#analysis){reference-type=\"ref\"\n",
    "reference=\"analysis\"}.\n",
    "\n",
    "But it is important to remember that all models are imperfect. Data from\n",
    "the real world never fit an analytic distribution perfectly. People\n",
    "sometimes talk as if data are generated by models; for example, they\n",
    "might say that the distribution of human heights is normal, or the\n",
    "distribution of income is lognormal. Taken literally, these claims\n",
    "cannot be true; there are always differences between the real world and\n",
    "mathematical models.\n",
    "\n",
    "Models are useful if they capture the relevant aspects of the real world\n",
    "and leave out unneeded details. But what is \"relevant\" or \"unneeded\"\n",
    "depends on what you are planning to use the model for."
   ]
  },
  {
   "cell_type": "markdown",
   "id": "51b53d8c",
   "metadata": {},
   "source": [
    "A straight line is consistent with an exponential distribution."
   ]
  },
  {
   "cell_type": "markdown",
   "id": "70f3aa6e",
   "metadata": {
    "collapsed": true
   },
   "source": [
    "## Exercises"
   ]
  },
  {
   "cell_type": "markdown",
   "id": "61517a44",
   "metadata": {
    "collapsed": true
   },
   "source": [
    "**Exercise:** Write a function that generates a Pareto variate. Generate a sample and plot its complementary CDF on a log-log scale. Does it look like a straight line?"
   ]
  },
  {
   "cell_type": "code",
   "execution_count": 30,
   "id": "beedf20a",
   "metadata": {},
   "outputs": [
    {
     "data": {
      "application/javascript": [
       "\n",
       "            setTimeout(function() {\n",
       "                var nbb_cell_id = 30;\n",
       "                var nbb_unformatted_code = \"def sample_pareto(alpha, x_m, size):\\n    u = np.random.random(size)\\n    return x_m * pow(1 - u, -1 / alpha)\";\n",
       "                var nbb_formatted_code = \"def sample_pareto(alpha, x_m, size):\\n    u = np.random.random(size)\\n    return x_m * pow(1 - u, -1 / alpha)\";\n",
       "                var nbb_cells = Jupyter.notebook.get_cells();\n",
       "                for (var i = 0; i < nbb_cells.length; ++i) {\n",
       "                    if (nbb_cells[i].input_prompt_number == nbb_cell_id) {\n",
       "                        if (nbb_cells[i].get_text() == nbb_unformatted_code) {\n",
       "                             nbb_cells[i].set_text(nbb_formatted_code);\n",
       "                        }\n",
       "                        break;\n",
       "                    }\n",
       "                }\n",
       "            }, 500);\n",
       "            "
      ],
      "text/plain": [
       "<IPython.core.display.Javascript object>"
      ]
     },
     "metadata": {},
     "output_type": "display_data"
    }
   ],
   "source": [
    "def sample_pareto(alpha, x_m, size):\n",
    "    u = np.random.random(size)\n",
    "    return x_m * pow(1 - u, -1 / alpha)"
   ]
  },
  {
   "cell_type": "code",
   "execution_count": 31,
   "id": "804a0e61",
   "metadata": {},
   "outputs": [
    {
     "data": {
      "image/png": "[encoded data removed]",
      "text/plain": [
       "<Figure size 640x480 with 1 Axes>"
      ]
     },
     "metadata": {},
     "output_type": "display_data"
    },
    {
     "data": {
      "application/javascript": [
       "\n",
       "            setTimeout(function() {\n",
       "                var nbb_cell_id = 31;\n",
       "                var nbb_unformatted_code = \"sample = sample_pareto(1, 2, 1000)\\ncdf = thinkstats2.Cdf(sample)\\nthinkplot.cdf(cdf, complement=True)\\nthinkplot.config(xlabel='Random values', ylabel='CCDF', xscale='log',\\n    yscale='log')\";\n",
       "                var nbb_formatted_code = \"sample = sample_pareto(1, 2, 1000)\\ncdf = thinkstats2.Cdf(sample)\\nthinkplot.cdf(cdf, complement=True)\\nthinkplot.config(xlabel=\\\"Random values\\\", ylabel=\\\"CCDF\\\", xscale=\\\"log\\\", yscale=\\\"log\\\")\";\n",
       "                var nbb_cells = Jupyter.notebook.get_cells();\n",
       "                for (var i = 0; i < nbb_cells.length; ++i) {\n",
       "                    if (nbb_cells[i].input_prompt_number == nbb_cell_id) {\n",
       "                        if (nbb_cells[i].get_text() == nbb_unformatted_code) {\n",
       "                             nbb_cells[i].set_text(nbb_formatted_code);\n",
       "                        }\n",
       "                        break;\n",
       "                    }\n",
       "                }\n",
       "            }, 500);\n",
       "            "
      ],
      "text/plain": [
       "<IPython.core.display.Javascript object>"
      ]
     },
     "metadata": {},
     "output_type": "display_data"
    }
   ],
   "source": [
    "sample = sample_pareto(1, 2, 1000)\n",
    "cdf = thinkstats2.Cdf(sample)\n",
    "thinkplot.cdf(cdf, complement=True)\n",
    "thinkplot.config(xlabel=\"Random values\", ylabel=\"CCDF\", xscale=\"log\", yscale=\"log\")"
   ]
  },
  {
   "cell_type": "markdown",
   "id": "b94c27ad",
   "metadata": {},
   "source": [
    "**Exercise:** In the BRFSS (see Section 5.4), the distribution of heights is roughly normal with parameters µ = 178 cm and σ = 7.7 cm for men, and µ = 163 cm and σ = 7.3 cm for women.\n",
    "\n",
    "In order to join Blue Man Group, you have to be male between 5’10” and 6’1” (see http://bluemancasting.com). What percentage of the U.S. male population is in this range? Hint: use `scipy.stats.norm.cdf`."
   ]
  },
  {
   "cell_type": "markdown",
   "id": "bcbf98a7",
   "metadata": {},
   "source": [
    "`scipy.stats` contains objects that represent analytic distributions"
   ]
  },
  {
   "cell_type": "code",
   "execution_count": 32,
   "id": "fb20ec1c",
   "metadata": {},
   "outputs": [
    {
     "data": {
      "application/javascript": [
       "\n",
       "            setTimeout(function() {\n",
       "                var nbb_cell_id = 32;\n",
       "                var nbb_unformatted_code = \"import scipy.stats\";\n",
       "                var nbb_formatted_code = \"import scipy.stats\";\n",
       "                var nbb_cells = Jupyter.notebook.get_cells();\n",
       "                for (var i = 0; i < nbb_cells.length; ++i) {\n",
       "                    if (nbb_cells[i].input_prompt_number == nbb_cell_id) {\n",
       "                        if (nbb_cells[i].get_text() == nbb_unformatted_code) {\n",
       "                             nbb_cells[i].set_text(nbb_formatted_code);\n",
       "                        }\n",
       "                        break;\n",
       "                    }\n",
       "                }\n",
       "            }, 500);\n",
       "            "
      ],
      "text/plain": [
       "<IPython.core.display.Javascript object>"
      ]
     },
     "metadata": {},
     "output_type": "display_data"
    }
   ],
   "source": [
    "import scipy.stats"
   ]
  },
  {
   "cell_type": "markdown",
   "id": "7427bcf9",
   "metadata": {},
   "source": [
    "For example <tt>scipy.stats.norm</tt> represents a normal distribution."
   ]
  },
  {
   "cell_type": "code",
   "execution_count": 33,
   "id": "5822d6bf",
   "metadata": {},
   "outputs": [
    {
     "data": {
      "text/plain": [
       "scipy.stats._distn_infrastructure.rv_continuous_frozen"
      ]
     },
     "execution_count": 33,
     "metadata": {},
     "output_type": "execute_result"
    },
    {
     "data": {
      "application/javascript": [
       "\n",
       "            setTimeout(function() {\n",
       "                var nbb_cell_id = 33;\n",
       "                var nbb_unformatted_code = \"mu = 178\\nsigma = 7.7\\ndist = scipy.stats.norm(loc=mu, scale=sigma)\\ntype(dist)\";\n",
       "                var nbb_formatted_code = \"mu = 178\\nsigma = 7.7\\ndist = scipy.stats.norm(loc=mu, scale=sigma)\\ntype(dist)\";\n",
       "                var nbb_cells = Jupyter.notebook.get_cells();\n",
       "                for (var i = 0; i < nbb_cells.length; ++i) {\n",
       "                    if (nbb_cells[i].input_prompt_number == nbb_cell_id) {\n",
       "                        if (nbb_cells[i].get_text() == nbb_unformatted_code) {\n",
       "                             nbb_cells[i].set_text(nbb_formatted_code);\n",
       "                        }\n",
       "                        break;\n",
       "                    }\n",
       "                }\n",
       "            }, 500);\n",
       "            "
      ],
      "text/plain": [
       "<IPython.core.display.Javascript object>"
      ]
     },
     "metadata": {},
     "output_type": "display_data"
    }
   ],
   "source": [
    "mu = 178\n",
    "sigma = 7.7\n",
    "dist = scipy.stats.norm(loc=mu, scale=sigma)\n",
    "type(dist)"
   ]
  },
  {
   "cell_type": "markdown",
   "id": "a08ac2c9",
   "metadata": {},
   "source": [
    "A \"frozen random variable\" can compute its mean and standard deviation."
   ]
  },
  {
   "cell_type": "code",
   "execution_count": 34,
   "id": "004a9632",
   "metadata": {},
   "outputs": [
    {
     "data": {
      "text/plain": [
       "(178.0, 7.7)"
      ]
     },
     "execution_count": 34,
     "metadata": {},
     "output_type": "execute_result"
    },
    {
     "data": {
      "application/javascript": [
       "\n",
       "            setTimeout(function() {\n",
       "                var nbb_cell_id = 34;\n",
       "                var nbb_unformatted_code = \"dist.mean(), dist.std()\";\n",
       "                var nbb_formatted_code = \"dist.mean(), dist.std()\";\n",
       "                var nbb_cells = Jupyter.notebook.get_cells();\n",
       "                for (var i = 0; i < nbb_cells.length; ++i) {\n",
       "                    if (nbb_cells[i].input_prompt_number == nbb_cell_id) {\n",
       "                        if (nbb_cells[i].get_text() == nbb_unformatted_code) {\n",
       "                             nbb_cells[i].set_text(nbb_formatted_code);\n",
       "                        }\n",
       "                        break;\n",
       "                    }\n",
       "                }\n",
       "            }, 500);\n",
       "            "
      ],
      "text/plain": [
       "<IPython.core.display.Javascript object>"
      ]
     },
     "metadata": {},
     "output_type": "display_data"
    }
   ],
   "source": [
    "dist.mean(), dist.std()"
   ]
  },
  {
   "cell_type": "markdown",
   "id": "c2184747",
   "metadata": {},
   "source": [
    "It can also evaluate its CDF.  How many people are below the mean by more than one standard deviation?  About 16%"
   ]
  },
  {
   "cell_type": "code",
   "execution_count": 35,
   "id": "23061ba2",
   "metadata": {},
   "outputs": [
    {
     "data": {
      "text/plain": [
       "0.1586552539314574"
      ]
     },
     "execution_count": 35,
     "metadata": {},
     "output_type": "execute_result"
    },
    {
     "data": {
      "application/javascript": [
       "\n",
       "            setTimeout(function() {\n",
       "                var nbb_cell_id = 35;\n",
       "                var nbb_unformatted_code = \"dist.cdf(mu - sigma)\";\n",
       "                var nbb_formatted_code = \"dist.cdf(mu - sigma)\";\n",
       "                var nbb_cells = Jupyter.notebook.get_cells();\n",
       "                for (var i = 0; i < nbb_cells.length; ++i) {\n",
       "                    if (nbb_cells[i].input_prompt_number == nbb_cell_id) {\n",
       "                        if (nbb_cells[i].get_text() == nbb_unformatted_code) {\n",
       "                             nbb_cells[i].set_text(nbb_formatted_code);\n",
       "                        }\n",
       "                        break;\n",
       "                    }\n",
       "                }\n",
       "            }, 500);\n",
       "            "
      ],
      "text/plain": [
       "<IPython.core.display.Javascript object>"
      ]
     },
     "metadata": {},
     "output_type": "display_data"
    }
   ],
   "source": [
    "dist.cdf(mu - sigma)"
   ]
  },
  {
   "cell_type": "markdown",
   "id": "563681fa",
   "metadata": {},
   "source": [
    "How many people are between 5'10\" and 6'1\"?"
   ]
  },
  {
   "cell_type": "code",
   "execution_count": 36,
   "id": "f295ffc8",
   "metadata": {},
   "outputs": [
    {
     "data": {
      "text/plain": [
       "(0.48963902786483265, 0.8317337108107857, 0.3420946829459531)"
      ]
     },
     "execution_count": 36,
     "metadata": {},
     "output_type": "execute_result"
    },
    {
     "data": {
      "application/javascript": [
       "\n",
       "            setTimeout(function() {\n",
       "                var nbb_cell_id = 36;\n",
       "                var nbb_unformatted_code = \"low = dist.cdf(177.8)\\nhigh = dist.cdf(185.4)\\nlow, high, high - low\";\n",
       "                var nbb_formatted_code = \"low = dist.cdf(177.8)\\nhigh = dist.cdf(185.4)\\nlow, high, high - low\";\n",
       "                var nbb_cells = Jupyter.notebook.get_cells();\n",
       "                for (var i = 0; i < nbb_cells.length; ++i) {\n",
       "                    if (nbb_cells[i].input_prompt_number == nbb_cell_id) {\n",
       "                        if (nbb_cells[i].get_text() == nbb_unformatted_code) {\n",
       "                             nbb_cells[i].set_text(nbb_formatted_code);\n",
       "                        }\n",
       "                        break;\n",
       "                    }\n",
       "                }\n",
       "            }, 500);\n",
       "            "
      ],
      "text/plain": [
       "<IPython.core.display.Javascript object>"
      ]
     },
     "metadata": {},
     "output_type": "display_data"
    }
   ],
   "source": [
    "low = dist.cdf(177.8)\n",
    "high = dist.cdf(185.4)\n",
    "low, high, high - low"
   ]
  },
  {
   "cell_type": "markdown",
   "id": "c8d839c1",
   "metadata": {},
   "source": [
    "**Exercise:** To get a feel for the Pareto distribution, let’s see how different the world would be if the distribution of human height were Pareto. With the parameters xm = 1 m and α = 1.7, we get a distribution with a reasonable minimum, 1 m, and median, 1.5 m.\n",
    "\n",
    "Plot this distribution. What is the mean human height in Pareto world? What fraction of the population is shorter than the mean? If there are 7 billion people in Pareto world, how many do we expect to be taller than 1 km? How tall do we expect the tallest person to be?\n",
    "\n",
    "`scipy.stats.pareto` represents a pareto distribution.  In Pareto world, the distribution of human heights has parameters alpha=1.7 and xmin=1 meter.  So the shortest person is 100 cm and the median is 150."
   ]
  },
  {
   "cell_type": "code",
   "execution_count": 37,
   "id": "b7f180dd",
   "metadata": {},
   "outputs": [
    {
     "data": {
      "text/plain": [
       "1.5034066538560549"
      ]
     },
     "execution_count": 37,
     "metadata": {},
     "output_type": "execute_result"
    },
    {
     "data": {
      "application/javascript": [
       "\n",
       "            setTimeout(function() {\n",
       "                var nbb_cell_id = 37;\n",
       "                var nbb_unformatted_code = \"alpha = 1.7\\nxmin = 1\\ndist = scipy.stats.pareto(b=alpha, scale=xmin)\\ndist.median()\";\n",
       "                var nbb_formatted_code = \"alpha = 1.7\\nxmin = 1\\ndist = scipy.stats.pareto(b=alpha, scale=xmin)\\ndist.median()\";\n",
       "                var nbb_cells = Jupyter.notebook.get_cells();\n",
       "                for (var i = 0; i < nbb_cells.length; ++i) {\n",
       "                    if (nbb_cells[i].input_prompt_number == nbb_cell_id) {\n",
       "                        if (nbb_cells[i].get_text() == nbb_unformatted_code) {\n",
       "                             nbb_cells[i].set_text(nbb_formatted_code);\n",
       "                        }\n",
       "                        break;\n",
       "                    }\n",
       "                }\n",
       "            }, 500);\n",
       "            "
      ],
      "text/plain": [
       "<IPython.core.display.Javascript object>"
      ]
     },
     "metadata": {},
     "output_type": "display_data"
    }
   ],
   "source": [
    "alpha = 1.7\n",
    "xmin = 1\n",
    "dist = scipy.stats.pareto(b=alpha, scale=xmin)\n",
    "dist.median()"
   ]
  },
  {
   "cell_type": "markdown",
   "id": "b2cd55ea",
   "metadata": {},
   "source": [
    "What is the mean height in Pareto world?"
   ]
  },
  {
   "cell_type": "code",
   "execution_count": 38,
   "id": "4d6c3f98",
   "metadata": {},
   "outputs": [
    {
     "data": {
      "text/plain": [
       "2.428571428571429"
      ]
     },
     "execution_count": 38,
     "metadata": {},
     "output_type": "execute_result"
    },
    {
     "data": {
      "application/javascript": [
       "\n",
       "            setTimeout(function() {\n",
       "                var nbb_cell_id = 38;\n",
       "                var nbb_unformatted_code = \"dist.mean()\";\n",
       "                var nbb_formatted_code = \"dist.mean()\";\n",
       "                var nbb_cells = Jupyter.notebook.get_cells();\n",
       "                for (var i = 0; i < nbb_cells.length; ++i) {\n",
       "                    if (nbb_cells[i].input_prompt_number == nbb_cell_id) {\n",
       "                        if (nbb_cells[i].get_text() == nbb_unformatted_code) {\n",
       "                             nbb_cells[i].set_text(nbb_formatted_code);\n",
       "                        }\n",
       "                        break;\n",
       "                    }\n",
       "                }\n",
       "            }, 500);\n",
       "            "
      ],
      "text/plain": [
       "<IPython.core.display.Javascript object>"
      ]
     },
     "metadata": {},
     "output_type": "display_data"
    }
   ],
   "source": [
    "dist.mean()"
   ]
  },
  {
   "cell_type": "markdown",
   "id": "59cb3e1d",
   "metadata": {},
   "source": [
    "What fraction of people are shorter than the mean?"
   ]
  },
  {
   "cell_type": "code",
   "execution_count": 39,
   "id": "96491bae",
   "metadata": {},
   "outputs": [
    {
     "data": {
      "text/plain": [
       "0.778739697565288"
      ]
     },
     "execution_count": 39,
     "metadata": {},
     "output_type": "execute_result"
    },
    {
     "data": {
      "application/javascript": [
       "\n",
       "            setTimeout(function() {\n",
       "                var nbb_cell_id = 39;\n",
       "                var nbb_unformatted_code = \"dist.cdf(dist.mean())\";\n",
       "                var nbb_formatted_code = \"dist.cdf(dist.mean())\";\n",
       "                var nbb_cells = Jupyter.notebook.get_cells();\n",
       "                for (var i = 0; i < nbb_cells.length; ++i) {\n",
       "                    if (nbb_cells[i].input_prompt_number == nbb_cell_id) {\n",
       "                        if (nbb_cells[i].get_text() == nbb_unformatted_code) {\n",
       "                             nbb_cells[i].set_text(nbb_formatted_code);\n",
       "                        }\n",
       "                        break;\n",
       "                    }\n",
       "                }\n",
       "            }, 500);\n",
       "            "
      ],
      "text/plain": [
       "<IPython.core.display.Javascript object>"
      ]
     },
     "metadata": {},
     "output_type": "display_data"
    }
   ],
   "source": [
    "dist.cdf(dist.mean())"
   ]
  },
  {
   "cell_type": "markdown",
   "id": "1baadb33",
   "metadata": {},
   "source": [
    "Out of 7 billion people, how many do we expect to be taller than 1 km?  You could use <tt>dist.cdf</tt> or <tt>dist.sf</tt>."
   ]
  },
  {
   "cell_type": "code",
   "execution_count": 40,
   "id": "689b2a73",
   "metadata": {},
   "outputs": [
    {
     "data": {
      "text/plain": [
       "(55602.976430479954, 55602.97643069972)"
      ]
     },
     "execution_count": 40,
     "metadata": {},
     "output_type": "execute_result"
    },
    {
     "data": {
      "application/javascript": [
       "\n",
       "            setTimeout(function() {\n",
       "                var nbb_cell_id = 40;\n",
       "                var nbb_unformatted_code = \"(1 - dist.cdf(1000)) * 7000000000.0, dist.sf(1000) * 7000000000.0\";\n",
       "                var nbb_formatted_code = \"(1 - dist.cdf(1000)) * 7000000000.0, dist.sf(1000) * 7000000000.0\";\n",
       "                var nbb_cells = Jupyter.notebook.get_cells();\n",
       "                for (var i = 0; i < nbb_cells.length; ++i) {\n",
       "                    if (nbb_cells[i].input_prompt_number == nbb_cell_id) {\n",
       "                        if (nbb_cells[i].get_text() == nbb_unformatted_code) {\n",
       "                             nbb_cells[i].set_text(nbb_formatted_code);\n",
       "                        }\n",
       "                        break;\n",
       "                    }\n",
       "                }\n",
       "            }, 500);\n",
       "            "
      ],
      "text/plain": [
       "<IPython.core.display.Javascript object>"
      ]
     },
     "metadata": {},
     "output_type": "display_data"
    }
   ],
   "source": [
    "(1 - dist.cdf(1000)) * 7000000000.0, dist.sf(1000) * 7000000000.0"
   ]
  },
  {
   "cell_type": "markdown",
   "id": "2a15aa58",
   "metadata": {},
   "source": [
    "How tall do we expect the tallest person to be?"
   ]
  },
  {
   "cell_type": "code",
   "execution_count": 41,
   "id": "d4c41e5a",
   "metadata": {},
   "outputs": [
    {
     "data": {
      "text/plain": [
       "1.0525455861201714"
      ]
     },
     "execution_count": 41,
     "metadata": {},
     "output_type": "execute_result"
    },
    {
     "data": {
      "application/javascript": [
       "\n",
       "            setTimeout(function() {\n",
       "                var nbb_cell_id = 41;\n",
       "                var nbb_unformatted_code = \"dist.sf(600000) * 7000000000.0\";\n",
       "                var nbb_formatted_code = \"dist.sf(600000) * 7000000000.0\";\n",
       "                var nbb_cells = Jupyter.notebook.get_cells();\n",
       "                for (var i = 0; i < nbb_cells.length; ++i) {\n",
       "                    if (nbb_cells[i].input_prompt_number == nbb_cell_id) {\n",
       "                        if (nbb_cells[i].get_text() == nbb_unformatted_code) {\n",
       "                             nbb_cells[i].set_text(nbb_formatted_code);\n",
       "                        }\n",
       "                        break;\n",
       "                    }\n",
       "                }\n",
       "            }, 500);\n",
       "            "
      ],
      "text/plain": [
       "<IPython.core.display.Javascript object>"
      ]
     },
     "metadata": {},
     "output_type": "display_data"
    }
   ],
   "source": [
    "dist.sf(600000) * 7000000000.0"
   ]
  },
  {
   "cell_type": "code",
   "execution_count": 42,
   "id": "e8f4c5fb",
   "metadata": {},
   "outputs": [
    {
     "data": {
      "text/plain": [
       "618349.6106759505"
      ]
     },
     "execution_count": 42,
     "metadata": {},
     "output_type": "execute_result"
    },
    {
     "data": {
      "application/javascript": [
       "\n",
       "            setTimeout(function() {\n",
       "                var nbb_cell_id = 42;\n",
       "                var nbb_unformatted_code = \"dist.ppf(1 - 1 / 7000000000.0)\";\n",
       "                var nbb_formatted_code = \"dist.ppf(1 - 1 / 7000000000.0)\";\n",
       "                var nbb_cells = Jupyter.notebook.get_cells();\n",
       "                for (var i = 0; i < nbb_cells.length; ++i) {\n",
       "                    if (nbb_cells[i].input_prompt_number == nbb_cell_id) {\n",
       "                        if (nbb_cells[i].get_text() == nbb_unformatted_code) {\n",
       "                             nbb_cells[i].set_text(nbb_formatted_code);\n",
       "                        }\n",
       "                        break;\n",
       "                    }\n",
       "                }\n",
       "            }, 500);\n",
       "            "
      ],
      "text/plain": [
       "<IPython.core.display.Javascript object>"
      ]
     },
     "metadata": {},
     "output_type": "display_data"
    }
   ],
   "source": [
    "dist.ppf(1 - 1 / 7000000000.0)"
   ]
  },
  {
   "cell_type": "markdown",
   "id": "235c3943",
   "metadata": {},
   "source": [
    "**Exercise:** The Weibull distribution is a generalization of the exponential distribution that comes up in failure analysis (see http://wikipedia.org/wiki/Weibull_distribution). Its CDF is\n",
    "\n",
    "$\\mathrm{CDF}(x) = 1 − \\exp[−(x / λ)^k]$ \n",
    "\n",
    "Can you find a transformation that makes a Weibull distribution look like a straight line? What do the slope and intercept of the line indicate?\n",
    "\n",
    "Use `random.weibullvariate` to generate a sample from a Weibull distribution and use it to test your transformation.\n",
    "\n",
    "Generate a sample from a Weibull distribution and plot it using a transform that makes a Weibull distribution look like a straight line."
   ]
  },
  {
   "cell_type": "markdown",
   "id": "eb527fb9",
   "metadata": {},
   "source": [
    "If you are stuck, you can get a hint from `thinkplot.Cdf`, which provides a transform that makes the CDF of a Weibull distribution look like a straight line.  Here's an example that shows how it's used."
   ]
  },
  {
   "cell_type": "code",
   "execution_count": 43,
   "id": "9e2083fc",
   "metadata": {},
   "outputs": [
    {
     "data": {
      "image/png": "[encoded data removed]",
      "text/plain": [
       "<Figure size 640x480 with 1 Axes>"
      ]
     },
     "metadata": {},
     "output_type": "display_data"
    },
    {
     "data": {
      "application/javascript": [
       "\n",
       "            setTimeout(function() {\n",
       "                var nbb_cell_id = 43;\n",
       "                var nbb_unformatted_code = \"sample = [random.weibullvariate(2, 1) for _ in range(1000)]\\ncdf = thinkstats2.Cdf(sample)\\nthinkplot.cdf(cdf, transform='weibull')\\nthinkplot.config(xlabel='Weibull variate', ylabel='CCDF', xscale='log',\\n    yscale='log')\";\n",
       "                var nbb_formatted_code = \"sample = [random.weibullvariate(2, 1) for _ in range(1000)]\\ncdf = thinkstats2.Cdf(sample)\\nthinkplot.cdf(cdf, transform=\\\"weibull\\\")\\nthinkplot.config(xlabel=\\\"Weibull variate\\\", ylabel=\\\"CCDF\\\", xscale=\\\"log\\\", yscale=\\\"log\\\")\";\n",
       "                var nbb_cells = Jupyter.notebook.get_cells();\n",
       "                for (var i = 0; i < nbb_cells.length; ++i) {\n",
       "                    if (nbb_cells[i].input_prompt_number == nbb_cell_id) {\n",
       "                        if (nbb_cells[i].get_text() == nbb_unformatted_code) {\n",
       "                             nbb_cells[i].set_text(nbb_formatted_code);\n",
       "                        }\n",
       "                        break;\n",
       "                    }\n",
       "                }\n",
       "            }, 500);\n",
       "            "
      ],
      "text/plain": [
       "<IPython.core.display.Javascript object>"
      ]
     },
     "metadata": {},
     "output_type": "display_data"
    }
   ],
   "source": [
    "sample = [random.weibullvariate(2, 1) for _ in range(1000)]\n",
    "cdf = thinkstats2.Cdf(sample)\n",
    "thinkplot.cdf(cdf, transform=\"weibull\")\n",
    "thinkplot.config(xlabel=\"Weibull variate\", ylabel=\"CCDF\", xscale=\"log\", yscale=\"log\")"
   ]
  },
  {
   "cell_type": "markdown",
   "id": "4cdfaaec",
   "metadata": {},
   "source": [
    "**Exercise:** For small values of `n`, we don’t expect an empirical distribution to fit an analytic distribution exactly. One way to evaluate the quality of fit is to generate a sample from an analytic distribution and see how well it matches the data.\n",
    "\n",
    "For example, in Section 5.1 we plotted the distribution of time between births and saw that it is approximately exponential. But the distribution is based on only 44 data points. To see whether the data might have come from an exponential distribution, generate 44 values from an exponential distribution with the same mean as the data, about 33 minutes between births.\n",
    "\n",
    "Plot the distribution of the random values and compare it to the actual distribution. You can use random.expovariate to generate the values."
   ]
  },
  {
   "cell_type": "code",
   "execution_count": 44,
   "id": "9955fd76",
   "metadata": {},
   "outputs": [
    {
     "data": {
      "text/plain": [
       "(32.72727272727273, 34.38255017109673)"
      ]
     },
     "execution_count": 44,
     "metadata": {},
     "output_type": "execute_result"
    },
    {
     "data": {
      "application/javascript": [
       "\n",
       "            setTimeout(function() {\n",
       "                var nbb_cell_id = 44;\n",
       "                var nbb_unformatted_code = \"df = thinkstats2.read_baby_boom()\\ndiffs = df.minutes.diff()\\ncdf = thinkstats2.Cdf(diffs, label='actual')\\nn = len(diffs)\\nlam = 44.0 / 24 / 60\\nsample = [random.expovariate(lam) for _ in range(n)]\\n1 / lam, np.mean(sample)\";\n",
       "                var nbb_formatted_code = \"df = thinkstats2.read_baby_boom()\\ndiffs = df.minutes.diff()\\ncdf = thinkstats2.Cdf(diffs, label=\\\"actual\\\")\\nn = len(diffs)\\nlam = 44.0 / 24 / 60\\nsample = [random.expovariate(lam) for _ in range(n)]\\n1 / lam, np.mean(sample)\";\n",
       "                var nbb_cells = Jupyter.notebook.get_cells();\n",
       "                for (var i = 0; i < nbb_cells.length; ++i) {\n",
       "                    if (nbb_cells[i].input_prompt_number == nbb_cell_id) {\n",
       "                        if (nbb_cells[i].get_text() == nbb_unformatted_code) {\n",
       "                             nbb_cells[i].set_text(nbb_formatted_code);\n",
       "                        }\n",
       "                        break;\n",
       "                    }\n",
       "                }\n",
       "            }, 500);\n",
       "            "
      ],
      "text/plain": [
       "<IPython.core.display.Javascript object>"
      ]
     },
     "metadata": {},
     "output_type": "display_data"
    }
   ],
   "source": [
    "df = thinkstats2.read_baby_boom()\n",
    "diffs = df.minutes.diff()\n",
    "cdf = thinkstats2.Cdf(diffs, label=\"actual\")\n",
    "n = len(diffs)\n",
    "lam = 44.0 / 24 / 60\n",
    "sample = [random.expovariate(lam) for _ in range(n)]\n",
    "1 / lam, np.mean(sample)"
   ]
  },
  {
   "cell_type": "code",
   "execution_count": 45,
   "id": "9dacaba8",
   "metadata": {},
   "outputs": [
    {
     "data": {
      "image/png": "[encoded data removed]",
      "text/plain": [
       "<Figure size 640x480 with 1 Axes>"
      ]
     },
     "metadata": {},
     "output_type": "display_data"
    },
    {
     "data": {
      "application/javascript": [
       "\n",
       "            setTimeout(function() {\n",
       "                var nbb_cell_id = 45;\n",
       "                var nbb_unformatted_code = \"model = thinkstats2.Cdf(sample, label='model')\\nthinkplot.pre_plot(2)\\nthinkplot.cdfs([cdf, model], complement=True)\\nthinkplot.config(xlabel='Time between births (minutes)', ylabel='CCDF',\\n    yscale='log')\";\n",
       "                var nbb_formatted_code = \"model = thinkstats2.Cdf(sample, label=\\\"model\\\")\\nthinkplot.pre_plot(2)\\nthinkplot.cdfs([cdf, model], complement=True)\\nthinkplot.config(xlabel=\\\"Time between births (minutes)\\\", ylabel=\\\"CCDF\\\", yscale=\\\"log\\\")\";\n",
       "                var nbb_cells = Jupyter.notebook.get_cells();\n",
       "                for (var i = 0; i < nbb_cells.length; ++i) {\n",
       "                    if (nbb_cells[i].input_prompt_number == nbb_cell_id) {\n",
       "                        if (nbb_cells[i].get_text() == nbb_unformatted_code) {\n",
       "                             nbb_cells[i].set_text(nbb_formatted_code);\n",
       "                        }\n",
       "                        break;\n",
       "                    }\n",
       "                }\n",
       "            }, 500);\n",
       "            "
      ],
      "text/plain": [
       "<IPython.core.display.Javascript object>"
      ]
     },
     "metadata": {},
     "output_type": "display_data"
    }
   ],
   "source": [
    "model = thinkstats2.Cdf(sample, label=\"model\")\n",
    "thinkplot.pre_plot(2)\n",
    "thinkplot.cdfs([cdf, model], complement=True)\n",
    "thinkplot.config(xlabel=\"Time between births (minutes)\", ylabel=\"CCDF\", yscale=\"log\")"
   ]
  },
  {
   "cell_type": "code",
   "execution_count": 46,
   "id": "48885ea5",
   "metadata": {},
   "outputs": [
    {
     "data": {
      "image/png": "[encoded data removed]",
      "text/plain": [
       "<Figure size 640x480 with 1 Axes>"
      ]
     },
     "metadata": {},
     "output_type": "display_data"
    },
    {
     "data": {
      "application/javascript": [
       "\n",
       "            setTimeout(function() {\n",
       "                var nbb_cell_id = 46;\n",
       "                var nbb_unformatted_code = \"for i in range(100):\\n    sample = [random.expovariate(lam) for _ in range(n)]\\n    thinkplot.cdf(thinkstats2.Cdf(sample), complement=True, color='0.9')\\nthinkplot.cdf(cdf, complement=True)\\nthinkplot.config(xlabel='Time between births (minutes)', ylabel='CCDF',\\n    yscale='log')\";\n",
       "                var nbb_formatted_code = \"for i in range(100):\\n    sample = [random.expovariate(lam) for _ in range(n)]\\n    thinkplot.cdf(thinkstats2.Cdf(sample), complement=True, color=\\\"0.9\\\")\\nthinkplot.cdf(cdf, complement=True)\\nthinkplot.config(xlabel=\\\"Time between births (minutes)\\\", ylabel=\\\"CCDF\\\", yscale=\\\"log\\\")\";\n",
       "                var nbb_cells = Jupyter.notebook.get_cells();\n",
       "                for (var i = 0; i < nbb_cells.length; ++i) {\n",
       "                    if (nbb_cells[i].input_prompt_number == nbb_cell_id) {\n",
       "                        if (nbb_cells[i].get_text() == nbb_unformatted_code) {\n",
       "                             nbb_cells[i].set_text(nbb_formatted_code);\n",
       "                        }\n",
       "                        break;\n",
       "                    }\n",
       "                }\n",
       "            }, 500);\n",
       "            "
      ],
      "text/plain": [
       "<IPython.core.display.Javascript object>"
      ]
     },
     "metadata": {},
     "output_type": "display_data"
    }
   ],
   "source": [
    "for i in range(100):\n",
    "    sample = [random.expovariate(lam) for _ in range(n)]\n",
    "    thinkplot.cdf(thinkstats2.Cdf(sample), complement=True, color=\"0.9\")\n",
    "thinkplot.cdf(cdf, complement=True)\n",
    "thinkplot.config(xlabel=\"Time between births (minutes)\", ylabel=\"CCDF\", yscale=\"log\")"
   ]
  },
  {
   "cell_type": "markdown",
   "id": "0e6d2633",
   "metadata": {},
   "source": [
    "**Bonus Example:** The distributions of wealth and income are sometimes modeled using lognormal and Pareto distributions. To see which is better, let’s look at some data.\n",
    "\n",
    "The Current Population Survey (CPS) is a joint effort of the Bureau of Labor Statistics and the Census Bureau to study income and related variables. Data collected in 2013 is available from http://www.census.gov/hhes/www/cpstables/032013/hhinc/toc.htm. I downloaded `hinc06.xls`, which is an Excel spreadsheet with information about household income, and converted it to `hinc06.csv`, a CSV file you will find in the repository for this book. You will also find `hinc.py`, which reads this file.\n",
    "\n",
    "Extract the distribution of incomes from this dataset. Are any of the analytic distributions in this chapter a good model of the data?"
   ]
  },
  {
   "cell_type": "code",
   "execution_count": 47,
   "id": "ad2e597a",
   "metadata": {},
   "outputs": [
    {
     "data": {
      "application/javascript": [
       "\n",
       "            setTimeout(function() {\n",
       "                var nbb_cell_id = 47;\n",
       "                var nbb_unformatted_code = \"download('https://github.com/AllenDowney/ThinkStats2/raw/master/code/hinc.py')\\ndownload(\\n    'https://github.com/AllenDowney/ThinkStats2/raw/master/code/hinc06.csv')\";\n",
       "                var nbb_formatted_code = \"download(\\\"https://github.com/AllenDowney/ThinkStats2/raw/master/code/hinc.py\\\")\\ndownload(\\\"https://github.com/AllenDowney/ThinkStats2/raw/master/code/hinc06.csv\\\")\";\n",
       "                var nbb_cells = Jupyter.notebook.get_cells();\n",
       "                for (var i = 0; i < nbb_cells.length; ++i) {\n",
       "                    if (nbb_cells[i].input_prompt_number == nbb_cell_id) {\n",
       "                        if (nbb_cells[i].get_text() == nbb_unformatted_code) {\n",
       "                             nbb_cells[i].set_text(nbb_formatted_code);\n",
       "                        }\n",
       "                        break;\n",
       "                    }\n",
       "                }\n",
       "            }, 500);\n",
       "            "
      ],
      "text/plain": [
       "<IPython.core.display.Javascript object>"
      ]
     },
     "metadata": {},
     "output_type": "display_data"
    }
   ],
   "source": [
    "download(\"https://github.com/AllenDowney/ThinkStats2/raw/master/code/hinc.py\")\n",
    "download(\"https://github.com/AllenDowney/ThinkStats2/raw/master/code/hinc06.csv\")"
   ]
  },
  {
   "cell_type": "code",
   "execution_count": 48,
   "id": "6461d780",
   "metadata": {},
   "outputs": [
    {
     "data": {
      "text/html": [
       "<div>\n",
       "<style scoped>\n",
       "    .dataframe tbody tr th:only-of-type {\n",
       "        vertical-align: middle;\n",
       "    }\n",
       "\n",
       "    .dataframe tbody tr th {\n",
       "        vertical-align: top;\n",
       "    }\n",
       "\n",
       "    .dataframe thead th {\n",
       "        text-align: right;\n",
       "    }\n",
       "</style>\n",
       "<table border=\"1\" class=\"dataframe\">\n",
       "  <thead>\n",
       "    <tr style=\"text-align: right;\">\n",
       "      <th></th>\n",
       "      <th>income</th>\n",
       "      <th>freq</th>\n",
       "      <th>cumsum</th>\n",
       "      <th>ps</th>\n",
       "    </tr>\n",
       "  </thead>\n",
       "  <tbody>\n",
       "    <tr>\n",
       "      <th>0</th>\n",
       "      <td>4999.0</td>\n",
       "      <td>4204</td>\n",
       "      <td>4204</td>\n",
       "      <td>0.034330</td>\n",
       "    </tr>\n",
       "    <tr>\n",
       "      <th>1</th>\n",
       "      <td>9999.0</td>\n",
       "      <td>4729</td>\n",
       "      <td>8933</td>\n",
       "      <td>0.072947</td>\n",
       "    </tr>\n",
       "    <tr>\n",
       "      <th>2</th>\n",
       "      <td>14999.0</td>\n",
       "      <td>6982</td>\n",
       "      <td>15915</td>\n",
       "      <td>0.129963</td>\n",
       "    </tr>\n",
       "    <tr>\n",
       "      <th>3</th>\n",
       "      <td>19999.0</td>\n",
       "      <td>7157</td>\n",
       "      <td>23072</td>\n",
       "      <td>0.188407</td>\n",
       "    </tr>\n",
       "    <tr>\n",
       "      <th>4</th>\n",
       "      <td>24999.0</td>\n",
       "      <td>7131</td>\n",
       "      <td>30203</td>\n",
       "      <td>0.246640</td>\n",
       "    </tr>\n",
       "    <tr>\n",
       "      <th>5</th>\n",
       "      <td>29999.0</td>\n",
       "      <td>6740</td>\n",
       "      <td>36943</td>\n",
       "      <td>0.301679</td>\n",
       "    </tr>\n",
       "    <tr>\n",
       "      <th>6</th>\n",
       "      <td>34999.0</td>\n",
       "      <td>6354</td>\n",
       "      <td>43297</td>\n",
       "      <td>0.353566</td>\n",
       "    </tr>\n",
       "    <tr>\n",
       "      <th>7</th>\n",
       "      <td>39999.0</td>\n",
       "      <td>5832</td>\n",
       "      <td>49129</td>\n",
       "      <td>0.401191</td>\n",
       "    </tr>\n",
       "    <tr>\n",
       "      <th>8</th>\n",
       "      <td>44999.0</td>\n",
       "      <td>5547</td>\n",
       "      <td>54676</td>\n",
       "      <td>0.446488</td>\n",
       "    </tr>\n",
       "    <tr>\n",
       "      <th>9</th>\n",
       "      <td>49999.0</td>\n",
       "      <td>5254</td>\n",
       "      <td>59930</td>\n",
       "      <td>0.489392</td>\n",
       "    </tr>\n",
       "    <tr>\n",
       "      <th>10</th>\n",
       "      <td>54999.0</td>\n",
       "      <td>5102</td>\n",
       "      <td>65032</td>\n",
       "      <td>0.531056</td>\n",
       "    </tr>\n",
       "    <tr>\n",
       "      <th>11</th>\n",
       "      <td>59999.0</td>\n",
       "      <td>4256</td>\n",
       "      <td>69288</td>\n",
       "      <td>0.565810</td>\n",
       "    </tr>\n",
       "    <tr>\n",
       "      <th>12</th>\n",
       "      <td>64999.0</td>\n",
       "      <td>4356</td>\n",
       "      <td>73644</td>\n",
       "      <td>0.601382</td>\n",
       "    </tr>\n",
       "    <tr>\n",
       "      <th>13</th>\n",
       "      <td>69999.0</td>\n",
       "      <td>3949</td>\n",
       "      <td>77593</td>\n",
       "      <td>0.633629</td>\n",
       "    </tr>\n",
       "    <tr>\n",
       "      <th>14</th>\n",
       "      <td>74999.0</td>\n",
       "      <td>3756</td>\n",
       "      <td>81349</td>\n",
       "      <td>0.664301</td>\n",
       "    </tr>\n",
       "    <tr>\n",
       "      <th>15</th>\n",
       "      <td>79999.0</td>\n",
       "      <td>3414</td>\n",
       "      <td>84763</td>\n",
       "      <td>0.692180</td>\n",
       "    </tr>\n",
       "    <tr>\n",
       "      <th>16</th>\n",
       "      <td>84999.0</td>\n",
       "      <td>3326</td>\n",
       "      <td>88089</td>\n",
       "      <td>0.719341</td>\n",
       "    </tr>\n",
       "    <tr>\n",
       "      <th>17</th>\n",
       "      <td>89999.0</td>\n",
       "      <td>2643</td>\n",
       "      <td>90732</td>\n",
       "      <td>0.740923</td>\n",
       "    </tr>\n",
       "    <tr>\n",
       "      <th>18</th>\n",
       "      <td>94999.0</td>\n",
       "      <td>2678</td>\n",
       "      <td>93410</td>\n",
       "      <td>0.762792</td>\n",
       "    </tr>\n",
       "    <tr>\n",
       "      <th>19</th>\n",
       "      <td>99999.0</td>\n",
       "      <td>2223</td>\n",
       "      <td>95633</td>\n",
       "      <td>0.780945</td>\n",
       "    </tr>\n",
       "    <tr>\n",
       "      <th>20</th>\n",
       "      <td>104999.0</td>\n",
       "      <td>2606</td>\n",
       "      <td>98239</td>\n",
       "      <td>0.802226</td>\n",
       "    </tr>\n",
       "    <tr>\n",
       "      <th>21</th>\n",
       "      <td>109999.0</td>\n",
       "      <td>1838</td>\n",
       "      <td>100077</td>\n",
       "      <td>0.817235</td>\n",
       "    </tr>\n",
       "    <tr>\n",
       "      <th>22</th>\n",
       "      <td>114999.0</td>\n",
       "      <td>1986</td>\n",
       "      <td>102063</td>\n",
       "      <td>0.833453</td>\n",
       "    </tr>\n",
       "    <tr>\n",
       "      <th>23</th>\n",
       "      <td>119999.0</td>\n",
       "      <td>1464</td>\n",
       "      <td>103527</td>\n",
       "      <td>0.845408</td>\n",
       "    </tr>\n",
       "    <tr>\n",
       "      <th>24</th>\n",
       "      <td>124999.0</td>\n",
       "      <td>1596</td>\n",
       "      <td>105123</td>\n",
       "      <td>0.858441</td>\n",
       "    </tr>\n",
       "    <tr>\n",
       "      <th>25</th>\n",
       "      <td>129999.0</td>\n",
       "      <td>1327</td>\n",
       "      <td>106450</td>\n",
       "      <td>0.869278</td>\n",
       "    </tr>\n",
       "    <tr>\n",
       "      <th>26</th>\n",
       "      <td>134999.0</td>\n",
       "      <td>1253</td>\n",
       "      <td>107703</td>\n",
       "      <td>0.879510</td>\n",
       "    </tr>\n",
       "    <tr>\n",
       "      <th>27</th>\n",
       "      <td>139999.0</td>\n",
       "      <td>1140</td>\n",
       "      <td>108843</td>\n",
       "      <td>0.888819</td>\n",
       "    </tr>\n",
       "    <tr>\n",
       "      <th>28</th>\n",
       "      <td>144999.0</td>\n",
       "      <td>1119</td>\n",
       "      <td>109962</td>\n",
       "      <td>0.897957</td>\n",
       "    </tr>\n",
       "    <tr>\n",
       "      <th>29</th>\n",
       "      <td>149999.0</td>\n",
       "      <td>920</td>\n",
       "      <td>110882</td>\n",
       "      <td>0.905470</td>\n",
       "    </tr>\n",
       "    <tr>\n",
       "      <th>30</th>\n",
       "      <td>154999.0</td>\n",
       "      <td>1143</td>\n",
       "      <td>112025</td>\n",
       "      <td>0.914803</td>\n",
       "    </tr>\n",
       "    <tr>\n",
       "      <th>31</th>\n",
       "      <td>159999.0</td>\n",
       "      <td>805</td>\n",
       "      <td>112830</td>\n",
       "      <td>0.921377</td>\n",
       "    </tr>\n",
       "    <tr>\n",
       "      <th>32</th>\n",
       "      <td>164999.0</td>\n",
       "      <td>731</td>\n",
       "      <td>113561</td>\n",
       "      <td>0.927347</td>\n",
       "    </tr>\n",
       "    <tr>\n",
       "      <th>33</th>\n",
       "      <td>169999.0</td>\n",
       "      <td>575</td>\n",
       "      <td>114136</td>\n",
       "      <td>0.932042</td>\n",
       "    </tr>\n",
       "    <tr>\n",
       "      <th>34</th>\n",
       "      <td>174999.0</td>\n",
       "      <td>616</td>\n",
       "      <td>114752</td>\n",
       "      <td>0.937072</td>\n",
       "    </tr>\n",
       "    <tr>\n",
       "      <th>35</th>\n",
       "      <td>179999.0</td>\n",
       "      <td>570</td>\n",
       "      <td>115322</td>\n",
       "      <td>0.941727</td>\n",
       "    </tr>\n",
       "    <tr>\n",
       "      <th>36</th>\n",
       "      <td>184999.0</td>\n",
       "      <td>502</td>\n",
       "      <td>115824</td>\n",
       "      <td>0.945826</td>\n",
       "    </tr>\n",
       "    <tr>\n",
       "      <th>37</th>\n",
       "      <td>189999.0</td>\n",
       "      <td>364</td>\n",
       "      <td>116188</td>\n",
       "      <td>0.948799</td>\n",
       "    </tr>\n",
       "    <tr>\n",
       "      <th>38</th>\n",
       "      <td>194999.0</td>\n",
       "      <td>432</td>\n",
       "      <td>116620</td>\n",
       "      <td>0.952327</td>\n",
       "    </tr>\n",
       "    <tr>\n",
       "      <th>39</th>\n",
       "      <td>199999.0</td>\n",
       "      <td>378</td>\n",
       "      <td>116998</td>\n",
       "      <td>0.955413</td>\n",
       "    </tr>\n",
       "    <tr>\n",
       "      <th>40</th>\n",
       "      <td>249999.0</td>\n",
       "      <td>2549</td>\n",
       "      <td>119547</td>\n",
       "      <td>0.976229</td>\n",
       "    </tr>\n",
       "    <tr>\n",
       "      <th>41</th>\n",
       "      <td>inf</td>\n",
       "      <td>2911</td>\n",
       "      <td>122458</td>\n",
       "      <td>1.000000</td>\n",
       "    </tr>\n",
       "  </tbody>\n",
       "</table>\n",
       "</div>"
      ],
      "text/plain": [
       "      income  freq  cumsum        ps\n",
       "0     4999.0  4204    4204  0.034330\n",
       "1     9999.0  4729    8933  0.072947\n",
       "2    14999.0  6982   15915  0.129963\n",
       "3    19999.0  7157   23072  0.188407\n",
       "4    24999.0  7131   30203  0.246640\n",
       "5    29999.0  6740   36943  0.301679\n",
       "6    34999.0  6354   43297  0.353566\n",
       "7    39999.0  5832   49129  0.401191\n",
       "8    44999.0  5547   54676  0.446488\n",
       "9    49999.0  5254   59930  0.489392\n",
       "10   54999.0  5102   65032  0.531056\n",
       "11   59999.0  4256   69288  0.565810\n",
       "12   64999.0  4356   73644  0.601382\n",
       "13   69999.0  3949   77593  0.633629\n",
       "14   74999.0  3756   81349  0.664301\n",
       "15   79999.0  3414   84763  0.692180\n",
       "16   84999.0  3326   88089  0.719341\n",
       "17   89999.0  2643   90732  0.740923\n",
       "18   94999.0  2678   93410  0.762792\n",
       "19   99999.0  2223   95633  0.780945\n",
       "20  104999.0  2606   98239  0.802226\n",
       "21  109999.0  1838  100077  0.817235\n",
       "22  114999.0  1986  102063  0.833453\n",
       "23  119999.0  1464  103527  0.845408\n",
       "24  124999.0  1596  105123  0.858441\n",
       "25  129999.0  1327  106450  0.869278\n",
       "26  134999.0  1253  107703  0.879510\n",
       "27  139999.0  1140  108843  0.888819\n",
       "28  144999.0  1119  109962  0.897957\n",
       "29  149999.0   920  110882  0.905470\n",
       "30  154999.0  1143  112025  0.914803\n",
       "31  159999.0   805  112830  0.921377\n",
       "32  164999.0   731  113561  0.927347\n",
       "33  169999.0   575  114136  0.932042\n",
       "34  174999.0   616  114752  0.937072\n",
       "35  179999.0   570  115322  0.941727\n",
       "36  184999.0   502  115824  0.945826\n",
       "37  189999.0   364  116188  0.948799\n",
       "38  194999.0   432  116620  0.952327\n",
       "39  199999.0   378  116998  0.955413\n",
       "40  249999.0  2549  119547  0.976229\n",
       "41       inf  2911  122458  1.000000"
      ]
     },
     "execution_count": 48,
     "metadata": {},
     "output_type": "execute_result"
    },
    {
     "data": {
      "application/javascript": [
       "\n",
       "            setTimeout(function() {\n",
       "                var nbb_cell_id = 48;\n",
       "                var nbb_unformatted_code = \"import hinc\\ndf = hinc.read_data()\\ndf\";\n",
       "                var nbb_formatted_code = \"import hinc\\n\\ndf = hinc.read_data()\\ndf\";\n",
       "                var nbb_cells = Jupyter.notebook.get_cells();\n",
       "                for (var i = 0; i < nbb_cells.length; ++i) {\n",
       "                    if (nbb_cells[i].input_prompt_number == nbb_cell_id) {\n",
       "                        if (nbb_cells[i].get_text() == nbb_unformatted_code) {\n",
       "                             nbb_cells[i].set_text(nbb_formatted_code);\n",
       "                        }\n",
       "                        break;\n",
       "                    }\n",
       "                }\n",
       "            }, 500);\n",
       "            "
      ],
      "text/plain": [
       "<IPython.core.display.Javascript object>"
      ]
     },
     "metadata": {},
     "output_type": "display_data"
    }
   ],
   "source": [
    "import hinc\n",
    "\n",
    "df = hinc.read_data()\n",
    "df"
   ]
  },
  {
   "cell_type": "markdown",
   "id": "1cb2fd41",
   "metadata": {},
   "source": [
    "Here's what the CDF looks like on a linear scale."
   ]
  },
  {
   "cell_type": "code",
   "execution_count": 49,
   "id": "76bfde61",
   "metadata": {},
   "outputs": [
    {
     "data": {
      "image/png": "[encoded data removed]",
      "text/plain": [
       "<Figure size 640x480 with 1 Axes>"
      ]
     },
     "metadata": {},
     "output_type": "display_data"
    },
    {
     "data": {
      "application/javascript": [
       "\n",
       "            setTimeout(function() {\n",
       "                var nbb_cell_id = 49;\n",
       "                var nbb_unformatted_code = \"xs, ps = df.income.values, df.ps.values\\ncdf = thinkstats2.Cdf(xs, ps, label='data')\\ncdf_log = thinkstats2.Cdf(np.log10(xs), ps, label='data')\\nthinkplot.cdf(cdf)\\nthinkplot.config(xlabel='household income', ylabel='CDF')\";\n",
       "                var nbb_formatted_code = \"xs, ps = df.income.values, df.ps.values\\ncdf = thinkstats2.Cdf(xs, ps, label=\\\"data\\\")\\ncdf_log = thinkstats2.Cdf(np.log10(xs), ps, label=\\\"data\\\")\\nthinkplot.cdf(cdf)\\nthinkplot.config(xlabel=\\\"household income\\\", ylabel=\\\"CDF\\\")\";\n",
       "                var nbb_cells = Jupyter.notebook.get_cells();\n",
       "                for (var i = 0; i < nbb_cells.length; ++i) {\n",
       "                    if (nbb_cells[i].input_prompt_number == nbb_cell_id) {\n",
       "                        if (nbb_cells[i].get_text() == nbb_unformatted_code) {\n",
       "                             nbb_cells[i].set_text(nbb_formatted_code);\n",
       "                        }\n",
       "                        break;\n",
       "                    }\n",
       "                }\n",
       "            }, 500);\n",
       "            "
      ],
      "text/plain": [
       "<IPython.core.display.Javascript object>"
      ]
     },
     "metadata": {},
     "output_type": "display_data"
    }
   ],
   "source": [
    "xs, ps = df.income.values, df.ps.values\n",
    "cdf = thinkstats2.Cdf(xs, ps, label=\"data\")\n",
    "cdf_log = thinkstats2.Cdf(np.log10(xs), ps, label=\"data\")\n",
    "thinkplot.cdf(cdf)\n",
    "thinkplot.config(xlabel=\"household income\", ylabel=\"CDF\")"
   ]
  },
  {
   "cell_type": "markdown",
   "id": "f29e5454",
   "metadata": {},
   "source": [
    "To check whether a Pareto model describes the data well, I plot the CCDF on a log-log scale.\n",
    "\n",
    "I found parameters for the Pareto model that match the tail of the distribution."
   ]
  },
  {
   "cell_type": "code",
   "execution_count": 50,
   "id": "aa01a710",
   "metadata": {},
   "outputs": [
    {
     "data": {
      "image/png": "[encoded data removed]",
      "text/plain": [
       "<Figure size 640x480 with 1 Axes>"
      ]
     },
     "metadata": {},
     "output_type": "display_data"
    },
    {
     "data": {
      "application/javascript": [
       "\n",
       "            setTimeout(function() {\n",
       "                var nbb_cell_id = 50;\n",
       "                var nbb_unformatted_code = \"xs, ys = thinkstats2.render_pareto_cdf(xmin=55000, alpha=2.5, low=0, high=\\n    250000)\\nthinkplot.plot(xs, 1 - ys, label='model', color='0.8')\\nthinkplot.cdf(cdf, complement=True)\\nthinkplot.config(xlabel='log10 household income', ylabel='CCDF', xscale=\\n    'log', yscale='log', loc='lower left')\";\n",
       "                var nbb_formatted_code = \"xs, ys = thinkstats2.render_pareto_cdf(xmin=55000, alpha=2.5, low=0, high=250000)\\nthinkplot.plot(xs, 1 - ys, label=\\\"model\\\", color=\\\"0.8\\\")\\nthinkplot.cdf(cdf, complement=True)\\nthinkplot.config(\\n    xlabel=\\\"log10 household income\\\",\\n    ylabel=\\\"CCDF\\\",\\n    xscale=\\\"log\\\",\\n    yscale=\\\"log\\\",\\n    loc=\\\"lower left\\\",\\n)\";\n",
       "                var nbb_cells = Jupyter.notebook.get_cells();\n",
       "                for (var i = 0; i < nbb_cells.length; ++i) {\n",
       "                    if (nbb_cells[i].input_prompt_number == nbb_cell_id) {\n",
       "                        if (nbb_cells[i].get_text() == nbb_unformatted_code) {\n",
       "                             nbb_cells[i].set_text(nbb_formatted_code);\n",
       "                        }\n",
       "                        break;\n",
       "                    }\n",
       "                }\n",
       "            }, 500);\n",
       "            "
      ],
      "text/plain": [
       "<IPython.core.display.Javascript object>"
      ]
     },
     "metadata": {},
     "output_type": "display_data"
    }
   ],
   "source": [
    "xs, ys = thinkstats2.render_pareto_cdf(xmin=55000, alpha=2.5, low=0, high=250000)\n",
    "thinkplot.plot(xs, 1 - ys, label=\"model\", color=\"0.8\")\n",
    "thinkplot.cdf(cdf, complement=True)\n",
    "thinkplot.config(\n",
    "    xlabel=\"log10 household income\",\n",
    "    ylabel=\"CCDF\",\n",
    "    xscale=\"log\",\n",
    "    yscale=\"log\",\n",
    "    loc=\"lower left\",\n",
    ")"
   ]
  },
  {
   "cell_type": "markdown",
   "id": "557a7734",
   "metadata": {},
   "source": [
    "For the lognormal model I estimate mu and sigma using percentile-based statistics (median and IQR)."
   ]
  },
  {
   "cell_type": "code",
   "execution_count": 51,
   "id": "b5ca3485",
   "metadata": {},
   "outputs": [
    {
     "name": "stdout",
     "output_type": "stream",
     "text": [
      "4.740354793159152 0.35\n"
     ]
    },
    {
     "data": {
      "application/javascript": [
       "\n",
       "            setTimeout(function() {\n",
       "                var nbb_cell_id = 51;\n",
       "                var nbb_unformatted_code = \"median = cdf_log.percentile(50)\\niqr = cdf_log.percentile(75) - cdf_log.percentile(25)\\nstd = iqr / 1.349\\nstd = 0.35\\nprint(median, std)\";\n",
       "                var nbb_formatted_code = \"median = cdf_log.percentile(50)\\niqr = cdf_log.percentile(75) - cdf_log.percentile(25)\\nstd = iqr / 1.349\\nstd = 0.35\\nprint(median, std)\";\n",
       "                var nbb_cells = Jupyter.notebook.get_cells();\n",
       "                for (var i = 0; i < nbb_cells.length; ++i) {\n",
       "                    if (nbb_cells[i].input_prompt_number == nbb_cell_id) {\n",
       "                        if (nbb_cells[i].get_text() == nbb_unformatted_code) {\n",
       "                             nbb_cells[i].set_text(nbb_formatted_code);\n",
       "                        }\n",
       "                        break;\n",
       "                    }\n",
       "                }\n",
       "            }, 500);\n",
       "            "
      ],
      "text/plain": [
       "<IPython.core.display.Javascript object>"
      ]
     },
     "metadata": {},
     "output_type": "display_data"
    }
   ],
   "source": [
    "median = cdf_log.percentile(50)\n",
    "iqr = cdf_log.percentile(75) - cdf_log.percentile(25)\n",
    "std = iqr / 1.349\n",
    "std = 0.35\n",
    "print(median, std)"
   ]
  },
  {
   "cell_type": "markdown",
   "id": "fcaaaba7",
   "metadata": {},
   "source": [
    "Here's what the distribution, and fitted model, look like on a log-x scale."
   ]
  },
  {
   "cell_type": "code",
   "execution_count": 52,
   "id": "f54aafa8",
   "metadata": {},
   "outputs": [
    {
     "data": {
      "image/png": "[encoded data removed]",
      "text/plain": [
       "<Figure size 640x480 with 1 Axes>"
      ]
     },
     "metadata": {},
     "output_type": "display_data"
    },
    {
     "data": {
      "application/javascript": [
       "\n",
       "            setTimeout(function() {\n",
       "                var nbb_cell_id = 52;\n",
       "                var nbb_unformatted_code = \"xs, ps = thinkstats2.render_normal_cdf(median, std, low=3.5, high=5.5)\\nthinkplot.plot(xs, ps, label='model', color='0.8')\\nthinkplot.cdf(cdf_log)\\nthinkplot.config(xlabel='log10 household income', ylabel='CDF')\";\n",
       "                var nbb_formatted_code = \"xs, ps = thinkstats2.render_normal_cdf(median, std, low=3.5, high=5.5)\\nthinkplot.plot(xs, ps, label=\\\"model\\\", color=\\\"0.8\\\")\\nthinkplot.cdf(cdf_log)\\nthinkplot.config(xlabel=\\\"log10 household income\\\", ylabel=\\\"CDF\\\")\";\n",
       "                var nbb_cells = Jupyter.notebook.get_cells();\n",
       "                for (var i = 0; i < nbb_cells.length; ++i) {\n",
       "                    if (nbb_cells[i].input_prompt_number == nbb_cell_id) {\n",
       "                        if (nbb_cells[i].get_text() == nbb_unformatted_code) {\n",
       "                             nbb_cells[i].set_text(nbb_formatted_code);\n",
       "                        }\n",
       "                        break;\n",
       "                    }\n",
       "                }\n",
       "            }, 500);\n",
       "            "
      ],
      "text/plain": [
       "<IPython.core.display.Javascript object>"
      ]
     },
     "metadata": {},
     "output_type": "display_data"
    }
   ],
   "source": [
    "xs, ps = thinkstats2.render_normal_cdf(median, std, low=3.5, high=5.5)\n",
    "thinkplot.plot(xs, ps, label=\"model\", color=\"0.8\")\n",
    "thinkplot.cdf(cdf_log)\n",
    "thinkplot.config(xlabel=\"log10 household income\", ylabel=\"CDF\")"
   ]
  },
  {
   "cell_type": "markdown",
   "id": "85a83604",
   "metadata": {},
   "source": [
    "My conclusions based on these figures are:\n",
    "\n",
    "1) The Pareto model might be a reasonable choice for the top\n",
    "   10-20% of incomes.\n",
    "\n",
    "2) The lognormal model captures the shape of the distribution better,\n",
    "   with some deviation in the left tail.  With different\n",
    "   choices for sigma, you could match the upper or lower tail, but not\n",
    "   both at the same time.\n",
    " \n",
    "In summary I would say that neither model captures the whole distribution,\n",
    "so you might have to \n",
    "\n",
    "1) look for another analytic model, \n",
    "\n",
    "2) choose one that captures the part of the distribution that is most \n",
    "   relevent, or \n",
    "\n",
    "3) avoid using an analytic model altogether."
   ]
  },
  {
   "cell_type": "code",
   "execution_count": null,
   "id": "0bb5d2ca",
   "metadata": {},
   "outputs": [],
   "source": []
  }
 ],
 "metadata": {
  "kernelspec": {
   "display_name": "Python 3 (ipykernel)",
   "language": "python",
   "name": "python3"
  },
  "language_info": {
   "codemirror_mode": {
    "name": "ipython",
    "version": 3
   },
   "file_extension": ".py",
   "mimetype": "text/x-python",
   "name": "python",
   "nbconvert_exporter": "python",
   "pygments_lexer": "ipython3",
   "version": "3.10.14"
  }
 },
 "nbformat": 4,
 "nbformat_minor": 5
}
