{
 "cells": [
  {
   "cell_type": "markdown",
   "id": "f2f4242b",
   "metadata": {},
   "source": [
    "# Modeling Distributions\n",
    "\n",
    "The distributions we have used so far are called empirical distributions because they are based on empirical observations -- in other words, data. Many datasets we see in the real world can be closely approximated by a theoretical distribution, which is usually based on a simple mathematical model. This chapter presents some of these theoretical distributions and datasets they can be used to model.\n",
    "\n",
    "As examples, we'll see that:\n",
    "\n",
    "*    In a skeet shooting competition, the number of hits and misses is well modeled by a binomial distribution.\n",
    "\n",
    "*    In games like hockey and soccer (football), the number of goals in a game follows a Poisson distribution, and the time between goals follows an exponential distribution.\n",
    "\n",
    "*    Birth weights follow a normal distribution, also called a Gaussian, and adult weights follow a lognormal distribution.\n",
    "\n",
    "If you are not familiar with these distributions -- or these sports -- I will explain what you need to know. For each example, we'll start with a simulation based on a simple model, and show that the simulation results follow an theoretical distribution. Then we'll see how well real data agrees with the model."
   ]
  },
  {
   "cell_type": "code",
   "execution_count": 2,
   "id": "41ffa5f5",
   "metadata": {
    "tags": [
     "hide-cell"
    ]
   },
   "outputs": [
    {
     "data": {
      "application/javascript": [
       "\n",
       "            setTimeout(function() {\n",
       "                var nbb_cell_id = 2;\n",
       "                var nbb_unformatted_code = \"from os.path import basename, exists\\n\\n\\ndef download(url):\\n    filename = basename(url)\\n    if not exists(filename):\\n        from urllib.request import urlretrieve\\n\\n        local, _ = urlretrieve(url, filename)\\n        print(\\\"Downloaded \\\" + local)\\n\\n\\ndownload(\\\"https://github.com/AllenDowney/ThinkStats/raw/v3/nb/thinkstats.py\\\")\";\n",
       "                var nbb_formatted_code = \"from os.path import basename, exists\\n\\n\\ndef download(url):\\n    filename = basename(url)\\n    if not exists(filename):\\n        from urllib.request import urlretrieve\\n\\n        local, _ = urlretrieve(url, filename)\\n        print(\\\"Downloaded \\\" + local)\\n\\n\\ndownload(\\\"https://github.com/AllenDowney/ThinkStats/raw/v3/nb/thinkstats.py\\\")\";\n",
       "                var nbb_cells = Jupyter.notebook.get_cells();\n",
       "                for (var i = 0; i < nbb_cells.length; ++i) {\n",
       "                    if (nbb_cells[i].input_prompt_number == nbb_cell_id) {\n",
       "                        if (nbb_cells[i].get_text() == nbb_unformatted_code) {\n",
       "                             nbb_cells[i].set_text(nbb_formatted_code);\n",
       "                        }\n",
       "                        break;\n",
       "                    }\n",
       "                }\n",
       "            }, 500);\n",
       "            "
      ],
      "text/plain": [
       "<IPython.core.display.Javascript object>"
      ]
     },
     "metadata": {},
     "output_type": "display_data"
    }
   ],
   "source": [
    "from os.path import basename, exists\n",
    "\n",
    "\n",
    "def download(url):\n",
    "    filename = basename(url)\n",
    "    if not exists(filename):\n",
    "        from urllib.request import urlretrieve\n",
    "\n",
    "        local, _ = urlretrieve(url, filename)\n",
    "        print(\"Downloaded \" + local)\n",
    "\n",
    "\n",
    "download(\"https://github.com/AllenDowney/ThinkStats/raw/v3/nb/thinkstats.py\")"
   ]
  },
  {
   "cell_type": "code",
   "execution_count": 3,
   "id": "52938742",
   "metadata": {},
   "outputs": [
    {
     "data": {
      "application/javascript": [
       "\n",
       "            setTimeout(function() {\n",
       "                var nbb_cell_id = 3;\n",
       "                var nbb_unformatted_code = \"try:\\n    import empiricaldist\\nexcept ImportError:\\n    !pip install empiricaldist\";\n",
       "                var nbb_formatted_code = \"try:\\n    import empiricaldist\\nexcept ImportError:\\n    !pip install empiricaldist\";\n",
       "                var nbb_cells = Jupyter.notebook.get_cells();\n",
       "                for (var i = 0; i < nbb_cells.length; ++i) {\n",
       "                    if (nbb_cells[i].input_prompt_number == nbb_cell_id) {\n",
       "                        if (nbb_cells[i].get_text() == nbb_unformatted_code) {\n",
       "                             nbb_cells[i].set_text(nbb_formatted_code);\n",
       "                        }\n",
       "                        break;\n",
       "                    }\n",
       "                }\n",
       "            }, 500);\n",
       "            "
      ],
      "text/plain": [
       "<IPython.core.display.Javascript object>"
      ]
     },
     "metadata": {},
     "output_type": "display_data"
    }
   ],
   "source": [
    "try:\n",
    "    import empiricaldist\n",
    "except ImportError:\n",
    "    !pip install empiricaldist"
   ]
  },
  {
   "cell_type": "code",
   "execution_count": 4,
   "id": "9fb94810",
   "metadata": {},
   "outputs": [
    {
     "data": {
      "application/javascript": [
       "\n",
       "            setTimeout(function() {\n",
       "                var nbb_cell_id = 4;\n",
       "                var nbb_unformatted_code = \"import numpy as np\\nimport pandas as pd\\nimport matplotlib.pyplot as plt\\n\\nfrom thinkstats import decorate\";\n",
       "                var nbb_formatted_code = \"import numpy as np\\nimport pandas as pd\\nimport matplotlib.pyplot as plt\\n\\nfrom thinkstats import decorate\";\n",
       "                var nbb_cells = Jupyter.notebook.get_cells();\n",
       "                for (var i = 0; i < nbb_cells.length; ++i) {\n",
       "                    if (nbb_cells[i].input_prompt_number == nbb_cell_id) {\n",
       "                        if (nbb_cells[i].get_text() == nbb_unformatted_code) {\n",
       "                             nbb_cells[i].set_text(nbb_formatted_code);\n",
       "                        }\n",
       "                        break;\n",
       "                    }\n",
       "                }\n",
       "            }, 500);\n",
       "            "
      ],
      "text/plain": [
       "<IPython.core.display.Javascript object>"
      ]
     },
     "metadata": {},
     "output_type": "display_data"
    }
   ],
   "source": [
    "import numpy as np\n",
    "import pandas as pd\n",
    "import matplotlib.pyplot as plt\n",
    "\n",
    "from thinkstats import decorate"
   ]
  },
  {
   "cell_type": "markdown",
   "id": "5887c412",
   "metadata": {},
   "source": [
    "## The Binomial Distribution\n",
    "\n",
    "As a first example, we'll consider the sport of skeet shooting, in which competitors use shotguns to shoot clay disks that are thrown into the air.\n",
    "In international competition, including the Olympics, there are five rounds with 25 targets per round, with additional rounds as needed to determine a winner.\n",
    "\n",
    "As a model of a skeet-shooting competition, suppose that every participant has the same probability of hitting every target, `p`.\n",
    "Of course, this model is a simplification -- in reality, it's likely that some competitors have a higher probability than others, and even for a single competitor, it might vary from one attempt to the next.\n",
    "But even if it is not realistic, this model make some surprisingly accurate predictions, as we'll see.\n",
    "\n",
    "To simulate the model, I'll use the following function, which takes the number of targets, `n`, and the probability of hitting each one, `p`, and returns a sequence of 1s and 0s to indicate hits and misses."
   ]
  },
  {
   "cell_type": "code",
   "execution_count": 5,
   "id": "3e420cb7",
   "metadata": {},
   "outputs": [
    {
     "data": {
      "application/javascript": [
       "\n",
       "            setTimeout(function() {\n",
       "                var nbb_cell_id = 5;\n",
       "                var nbb_unformatted_code = \"def flip(n, p):\\n    choices = [1, 0]\\n    probs = [p, 1 - p]\\n    return np.random.choice(choices, n, p=probs)\";\n",
       "                var nbb_formatted_code = \"def flip(n, p):\\n    choices = [1, 0]\\n    probs = [p, 1 - p]\\n    return np.random.choice(choices, n, p=probs)\";\n",
       "                var nbb_cells = Jupyter.notebook.get_cells();\n",
       "                for (var i = 0; i < nbb_cells.length; ++i) {\n",
       "                    if (nbb_cells[i].input_prompt_number == nbb_cell_id) {\n",
       "                        if (nbb_cells[i].get_text() == nbb_unformatted_code) {\n",
       "                             nbb_cells[i].set_text(nbb_formatted_code);\n",
       "                        }\n",
       "                        break;\n",
       "                    }\n",
       "                }\n",
       "            }, 500);\n",
       "            "
      ],
      "text/plain": [
       "<IPython.core.display.Javascript object>"
      ]
     },
     "metadata": {},
     "output_type": "display_data"
    }
   ],
   "source": [
    "def flip(n, p):\n",
    "    choices = [1, 0]\n",
    "    probs = [p, 1 - p]\n",
    "    return np.random.choice(choices, n, p=probs)"
   ]
  },
  {
   "cell_type": "markdown",
   "id": "6d721838",
   "metadata": {},
   "source": [
    "Here's an example that simulates a round of 25 targets where the probability of hitting each one is 90%."
   ]
  },
  {
   "cell_type": "code",
   "execution_count": 6,
   "id": "747c1000",
   "metadata": {},
   "outputs": [
    {
     "data": {
      "text/plain": [
       "array([1, 1, 1, 1, 1, 1, 1, 1, 0, 1, 0, 1, 1, 0, 1, 1, 1, 1, 1, 1, 1, 1,\n",
       "       1, 1, 1])"
      ]
     },
     "execution_count": 6,
     "metadata": {},
     "output_type": "execute_result"
    },
    {
     "data": {
      "application/javascript": [
       "\n",
       "            setTimeout(function() {\n",
       "                var nbb_cell_id = 6;\n",
       "                var nbb_unformatted_code = \"flip(25, 0.9)\";\n",
       "                var nbb_formatted_code = \"flip(25, 0.9)\";\n",
       "                var nbb_cells = Jupyter.notebook.get_cells();\n",
       "                for (var i = 0; i < nbb_cells.length; ++i) {\n",
       "                    if (nbb_cells[i].input_prompt_number == nbb_cell_id) {\n",
       "                        if (nbb_cells[i].get_text() == nbb_unformatted_code) {\n",
       "                             nbb_cells[i].set_text(nbb_formatted_code);\n",
       "                        }\n",
       "                        break;\n",
       "                    }\n",
       "                }\n",
       "            }, 500);\n",
       "            "
      ],
      "text/plain": [
       "<IPython.core.display.Javascript object>"
      ]
     },
     "metadata": {},
     "output_type": "display_data"
    }
   ],
   "source": [
    "flip(25, 0.9)"
   ]
  },
  {
   "cell_type": "markdown",
   "id": "529dc6a2",
   "metadata": {},
   "source": [
    "If we generate a sequence of 1000 attempts, and compute the `Pmf` of the results, we can confirm that the proportions of 1s and 0s are correct, at least approximately."
   ]
  },
  {
   "cell_type": "code",
   "execution_count": 7,
   "id": "bd4a9c2a",
   "metadata": {},
   "outputs": [
    {
     "data": {
      "text/html": [
       "<div>\n",
       "<style scoped>\n",
       "    .dataframe tbody tr th:only-of-type {\n",
       "        vertical-align: middle;\n",
       "    }\n",
       "\n",
       "    .dataframe tbody tr th {\n",
       "        vertical-align: top;\n",
       "    }\n",
       "\n",
       "    .dataframe thead th {\n",
       "        text-align: right;\n",
       "    }\n",
       "</style>\n",
       "<table border=\"1\" class=\"dataframe\">\n",
       "  <thead>\n",
       "    <tr style=\"text-align: right;\">\n",
       "      <th></th>\n",
       "      <th>probs</th>\n",
       "    </tr>\n",
       "  </thead>\n",
       "  <tbody>\n",
       "    <tr>\n",
       "      <th>0</th>\n",
       "      <td>0.118</td>\n",
       "    </tr>\n",
       "    <tr>\n",
       "      <th>1</th>\n",
       "      <td>0.882</td>\n",
       "    </tr>\n",
       "  </tbody>\n",
       "</table>\n",
       "</div>"
      ],
      "text/plain": [
       "0    0.118\n",
       "1    0.882\n",
       "Name: , dtype: float64"
      ]
     },
     "execution_count": 7,
     "metadata": {},
     "output_type": "execute_result"
    },
    {
     "data": {
      "application/javascript": [
       "\n",
       "            setTimeout(function() {\n",
       "                var nbb_cell_id = 7;\n",
       "                var nbb_unformatted_code = \"from empiricaldist import Pmf\\n\\nseq = flip(1000, 0.9)\\npmf = Pmf.from_seq(seq)\\npmf\";\n",
       "                var nbb_formatted_code = \"from empiricaldist import Pmf\\n\\nseq = flip(1000, 0.9)\\npmf = Pmf.from_seq(seq)\\npmf\";\n",
       "                var nbb_cells = Jupyter.notebook.get_cells();\n",
       "                for (var i = 0; i < nbb_cells.length; ++i) {\n",
       "                    if (nbb_cells[i].input_prompt_number == nbb_cell_id) {\n",
       "                        if (nbb_cells[i].get_text() == nbb_unformatted_code) {\n",
       "                             nbb_cells[i].set_text(nbb_formatted_code);\n",
       "                        }\n",
       "                        break;\n",
       "                    }\n",
       "                }\n",
       "            }, 500);\n",
       "            "
      ],
      "text/plain": [
       "<IPython.core.display.Javascript object>"
      ]
     },
     "metadata": {},
     "output_type": "display_data"
    }
   ],
   "source": [
    "from empiricaldist import Pmf\n",
    "\n",
    "seq = flip(1000, 0.9)\n",
    "pmf = Pmf.from_seq(seq)\n",
    "pmf"
   ]
  },
  {
   "cell_type": "markdown",
   "id": "28a62858",
   "metadata": {},
   "source": [
    "Now we can use `flip` to simulate a round of skeet shooting and return the number of hits."
   ]
  },
  {
   "cell_type": "code",
   "execution_count": 8,
   "id": "67ad325e",
   "metadata": {},
   "outputs": [
    {
     "data": {
      "application/javascript": [
       "\n",
       "            setTimeout(function() {\n",
       "                var nbb_cell_id = 8;\n",
       "                var nbb_unformatted_code = \"def simulate_round(n, p):\\n    seq = flip(n, p)\\n    return seq.sum()\";\n",
       "                var nbb_formatted_code = \"def simulate_round(n, p):\\n    seq = flip(n, p)\\n    return seq.sum()\";\n",
       "                var nbb_cells = Jupyter.notebook.get_cells();\n",
       "                for (var i = 0; i < nbb_cells.length; ++i) {\n",
       "                    if (nbb_cells[i].input_prompt_number == nbb_cell_id) {\n",
       "                        if (nbb_cells[i].get_text() == nbb_unformatted_code) {\n",
       "                             nbb_cells[i].set_text(nbb_formatted_code);\n",
       "                        }\n",
       "                        break;\n",
       "                    }\n",
       "                }\n",
       "            }, 500);\n",
       "            "
      ],
      "text/plain": [
       "<IPython.core.display.Javascript object>"
      ]
     },
     "metadata": {},
     "output_type": "display_data"
    }
   ],
   "source": [
    "def simulate_round(n, p):\n",
    "    seq = flip(n, p)\n",
    "    return seq.sum()"
   ]
  },
  {
   "cell_type": "markdown",
   "id": "ea2a95d7",
   "metadata": {},
   "source": [
    "In a large competition, suppose 200 competitors shoot 5 rounds each, all with the same probability of hitting the target, `p=0.9`.\n",
    "We can simulate a competition like that by calling `simulate_round` 1000 times."
   ]
  },
  {
   "cell_type": "code",
   "execution_count": 9,
   "id": "b515d45e",
   "metadata": {},
   "outputs": [
    {
     "data": {
      "application/javascript": [
       "\n",
       "            setTimeout(function() {\n",
       "                var nbb_cell_id = 9;\n",
       "                var nbb_unformatted_code = \"n = 25\\np = 0.9\\nresults_sim = [simulate_round(n, p) for i in range(1000)]\";\n",
       "                var nbb_formatted_code = \"n = 25\\np = 0.9\\nresults_sim = [simulate_round(n, p) for i in range(1000)]\";\n",
       "                var nbb_cells = Jupyter.notebook.get_cells();\n",
       "                for (var i = 0; i < nbb_cells.length; ++i) {\n",
       "                    if (nbb_cells[i].input_prompt_number == nbb_cell_id) {\n",
       "                        if (nbb_cells[i].get_text() == nbb_unformatted_code) {\n",
       "                             nbb_cells[i].set_text(nbb_formatted_code);\n",
       "                        }\n",
       "                        break;\n",
       "                    }\n",
       "                }\n",
       "            }, 500);\n",
       "            "
      ],
      "text/plain": [
       "<IPython.core.display.Javascript object>"
      ]
     },
     "metadata": {},
     "output_type": "display_data"
    }
   ],
   "source": [
    "n = 25\n",
    "p = 0.9\n",
    "results_sim = [simulate_round(n, p) for i in range(1000)]"
   ]
  },
  {
   "cell_type": "markdown",
   "id": "d2d07a13",
   "metadata": {},
   "source": [
    "The average score is close to `22.5`, which is the product of `n` and `p`."
   ]
  },
  {
   "cell_type": "code",
   "execution_count": 10,
   "id": "dd2e833c",
   "metadata": {},
   "outputs": [
    {
     "data": {
      "text/plain": [
       "(22.49, 22.5)"
      ]
     },
     "execution_count": 10,
     "metadata": {},
     "output_type": "execute_result"
    },
    {
     "data": {
      "application/javascript": [
       "\n",
       "            setTimeout(function() {\n",
       "                var nbb_cell_id = 10;\n",
       "                var nbb_unformatted_code = \"np.mean(results_sim), n * p\";\n",
       "                var nbb_formatted_code = \"np.mean(results_sim), n * p\";\n",
       "                var nbb_cells = Jupyter.notebook.get_cells();\n",
       "                for (var i = 0; i < nbb_cells.length; ++i) {\n",
       "                    if (nbb_cells[i].input_prompt_number == nbb_cell_id) {\n",
       "                        if (nbb_cells[i].get_text() == nbb_unformatted_code) {\n",
       "                             nbb_cells[i].set_text(nbb_formatted_code);\n",
       "                        }\n",
       "                        break;\n",
       "                    }\n",
       "                }\n",
       "            }, 500);\n",
       "            "
      ],
      "text/plain": [
       "<IPython.core.display.Javascript object>"
      ]
     },
     "metadata": {},
     "output_type": "display_data"
    }
   ],
   "source": [
    "np.mean(results_sim), n * p"
   ]
  },
  {
   "cell_type": "markdown",
   "id": "5d4d2ebf",
   "metadata": {},
   "source": [
    "Here's what the distribution of the results looks like."
   ]
  },
  {
   "cell_type": "code",
   "execution_count": 11,
   "id": "7c9814c2",
   "metadata": {},
   "outputs": [
    {
     "data": {
      "image/png": "[encoded data removed]",
      "text/plain": [
       "<Figure size 450x262.5 with 1 Axes>"
      ]
     },
     "metadata": {},
     "output_type": "display_data"
    },
    {
     "data": {
      "application/javascript": [
       "\n",
       "            setTimeout(function() {\n",
       "                var nbb_cell_id = 11;\n",
       "                var nbb_unformatted_code = \"from empiricaldist import Pmf\\n\\npmf_sim = Pmf.from_seq(results_sim, name=\\\"simulation results\\\")\\n\\npmf_sim.bar(alpha=0.6)\\ndecorate(xlabel=\\\"Hits\\\", ylabel=\\\"PMF\\\")\";\n",
       "                var nbb_formatted_code = \"from empiricaldist import Pmf\\n\\npmf_sim = Pmf.from_seq(results_sim, name=\\\"simulation results\\\")\\n\\npmf_sim.bar(alpha=0.6)\\ndecorate(xlabel=\\\"Hits\\\", ylabel=\\\"PMF\\\")\";\n",
       "                var nbb_cells = Jupyter.notebook.get_cells();\n",
       "                for (var i = 0; i < nbb_cells.length; ++i) {\n",
       "                    if (nbb_cells[i].input_prompt_number == nbb_cell_id) {\n",
       "                        if (nbb_cells[i].get_text() == nbb_unformatted_code) {\n",
       "                             nbb_cells[i].set_text(nbb_formatted_code);\n",
       "                        }\n",
       "                        break;\n",
       "                    }\n",
       "                }\n",
       "            }, 500);\n",
       "            "
      ],
      "text/plain": [
       "<IPython.core.display.Javascript object>"
      ]
     },
     "metadata": {},
     "output_type": "display_data"
    }
   ],
   "source": [
    "from empiricaldist import Pmf\n",
    "\n",
    "pmf_sim = Pmf.from_seq(results_sim, name=\"simulation results\")\n",
    "\n",
    "pmf_sim.bar(alpha=0.6)\n",
    "decorate(xlabel=\"Hits\", ylabel=\"PMF\")"
   ]
  },
  {
   "cell_type": "markdown",
   "id": "5c498948",
   "metadata": {},
   "source": [
    "Instead of running a simulation, we could have predicted this distribution.\n",
    "Mathematically, we can show that the distribution of these outcomes follows a binomial distribution, which has a PMF that is easy to compute."
   ]
  },
  {
   "cell_type": "code",
   "execution_count": 12,
   "id": "5f3b479d",
   "metadata": {},
   "outputs": [
    {
     "data": {
      "application/javascript": [
       "\n",
       "            setTimeout(function() {\n",
       "                var nbb_cell_id = 12;\n",
       "                var nbb_unformatted_code = \"from scipy.special import comb\\n\\n\\ndef binomial_pmf(k, n, p):\\n    \\\"\\\"\\\"Compute the binomial PMF.\\n\\n    k (int or array-like): number of successes\\n    n (int): number of trials\\n    p (float): probability of success on a single trial\\n\\n    returns: float or ndarray\\n    \\\"\\\"\\\"\\n    return comb(n, k) * (p**k) * ((1 - p) ** (n - k))\";\n",
       "                var nbb_formatted_code = \"from scipy.special import comb\\n\\n\\ndef binomial_pmf(k, n, p):\\n    \\\"\\\"\\\"Compute the binomial PMF.\\n\\n    k (int or array-like): number of successes\\n    n (int): number of trials\\n    p (float): probability of success on a single trial\\n\\n    returns: float or ndarray\\n    \\\"\\\"\\\"\\n    return comb(n, k) * (p**k) * ((1 - p) ** (n - k))\";\n",
       "                var nbb_cells = Jupyter.notebook.get_cells();\n",
       "                for (var i = 0; i < nbb_cells.length; ++i) {\n",
       "                    if (nbb_cells[i].input_prompt_number == nbb_cell_id) {\n",
       "                        if (nbb_cells[i].get_text() == nbb_unformatted_code) {\n",
       "                             nbb_cells[i].set_text(nbb_formatted_code);\n",
       "                        }\n",
       "                        break;\n",
       "                    }\n",
       "                }\n",
       "            }, 500);\n",
       "            "
      ],
      "text/plain": [
       "<IPython.core.display.Javascript object>"
      ]
     },
     "metadata": {},
     "output_type": "display_data"
    }
   ],
   "source": [
    "from scipy.special import comb\n",
    "\n",
    "\n",
    "def binomial_pmf(k, n, p):\n",
    "    \"\"\"Compute the binomial PMF.\n",
    "\n",
    "    k (int or array-like): number of successes\n",
    "    n (int): number of trials\n",
    "    p (float): probability of success on a single trial\n",
    "\n",
    "    returns: float or ndarray\n",
    "    \"\"\"\n",
    "    return comb(n, k) * (p**k) * ((1 - p) ** (n - k))"
   ]
  },
  {
   "cell_type": "markdown",
   "id": "ba15dee8",
   "metadata": {},
   "source": [
    "This function computes the probability of getting `k` hits out of `n` attempts, given `p`.\n",
    "If we call this function with a range of `k` values, we can make a `Pmf` that represents the distribution of the outcomes."
   ]
  },
  {
   "cell_type": "code",
   "execution_count": 13,
   "id": "9590e8cc",
   "metadata": {},
   "outputs": [
    {
     "data": {
      "application/javascript": [
       "\n",
       "            setTimeout(function() {\n",
       "                var nbb_cell_id = 13;\n",
       "                var nbb_unformatted_code = \"ks = np.arange(16, n + 1)\\nps = binomial_pmf(ks, n, p)\\npmf_binom = Pmf(ps, ks, name=\\\"binomial model\\\")\";\n",
       "                var nbb_formatted_code = \"ks = np.arange(16, n + 1)\\nps = binomial_pmf(ks, n, p)\\npmf_binom = Pmf(ps, ks, name=\\\"binomial model\\\")\";\n",
       "                var nbb_cells = Jupyter.notebook.get_cells();\n",
       "                for (var i = 0; i < nbb_cells.length; ++i) {\n",
       "                    if (nbb_cells[i].input_prompt_number == nbb_cell_id) {\n",
       "                        if (nbb_cells[i].get_text() == nbb_unformatted_code) {\n",
       "                             nbb_cells[i].set_text(nbb_formatted_code);\n",
       "                        }\n",
       "                        break;\n",
       "                    }\n",
       "                }\n",
       "            }, 500);\n",
       "            "
      ],
      "text/plain": [
       "<IPython.core.display.Javascript object>"
      ]
     },
     "metadata": {},
     "output_type": "display_data"
    }
   ],
   "source": [
    "ks = np.arange(16, n + 1)\n",
    "ps = binomial_pmf(ks, n, p)\n",
    "pmf_binom = Pmf(ps, ks, name=\"binomial model\")"
   ]
  },
  {
   "cell_type": "markdown",
   "id": "5b735403",
   "metadata": {},
   "source": [
    "And here's what it looks like compared to the simulation results."
   ]
  },
  {
   "cell_type": "code",
   "execution_count": 14,
   "id": "7a4138df",
   "metadata": {},
   "outputs": [
    {
     "data": {
      "image/png": "[encoded data removed]",
      "text/plain": [
       "<Figure size 450x262.5 with 1 Axes>"
      ]
     },
     "metadata": {},
     "output_type": "display_data"
    },
    {
     "data": {
      "application/javascript": [
       "\n",
       "            setTimeout(function() {\n",
       "                var nbb_cell_id = 14;\n",
       "                var nbb_unformatted_code = \"from thinkstats import two_bar_plots\\n\\ntwo_bar_plots(pmf_sim, pmf_binom)\\ndecorate(xlabel=\\\"Hits\\\", ylabel=\\\"PMF\\\")\";\n",
       "                var nbb_formatted_code = \"from thinkstats import two_bar_plots\\n\\ntwo_bar_plots(pmf_sim, pmf_binom)\\ndecorate(xlabel=\\\"Hits\\\", ylabel=\\\"PMF\\\")\";\n",
       "                var nbb_cells = Jupyter.notebook.get_cells();\n",
       "                for (var i = 0; i < nbb_cells.length; ++i) {\n",
       "                    if (nbb_cells[i].input_prompt_number == nbb_cell_id) {\n",
       "                        if (nbb_cells[i].get_text() == nbb_unformatted_code) {\n",
       "                             nbb_cells[i].set_text(nbb_formatted_code);\n",
       "                        }\n",
       "                        break;\n",
       "                    }\n",
       "                }\n",
       "            }, 500);\n",
       "            "
      ],
      "text/plain": [
       "<IPython.core.display.Javascript object>"
      ]
     },
     "metadata": {},
     "output_type": "display_data"
    }
   ],
   "source": [
    "from thinkstats import two_bar_plots\n",
    "\n",
    "two_bar_plots(pmf_sim, pmf_binom)\n",
    "decorate(xlabel=\"Hits\", ylabel=\"PMF\")"
   ]
  },
  {
   "cell_type": "markdown",
   "id": "7879e5af",
   "metadata": {},
   "source": [
    "They are similar, with small differences because of random variation in the simulation results.\n",
    "\n",
    "This agreement should not be surprising, because the simulation and the model are based on the same assumptions -- particularly the assumption that every attempt has the same probability of success.\n",
    "The real test of a model is how it compares to real data.\n",
    "\n",
    "From the Wikipedia page for the men's skeet shooting competition at the 2020 Summer Olympics, we can extract a table that shows the results for the qualification rounds of the competition."
   ]
  },
  {
   "cell_type": "markdown",
   "id": "d724e0ed",
   "metadata": {},
   "source": [
    "Downloaded from <https://en.wikipedia.org/wiki/Shooting_at_the_2020_Summer_Olympics_–_Men's_skeet> on July 15, 2024."
   ]
  },
  {
   "cell_type": "code",
   "execution_count": 23,
   "id": "86b5831c",
   "metadata": {
    "tags": [
     "remove-print"
    ]
   },
   "outputs": [
    {
     "name": "stdout",
     "output_type": "stream",
     "text": [
      "Downloaded Shooting_at_the_2020_Summer_Olympics_Mens_skeet\n"
     ]
    },
    {
     "data": {
      "application/javascript": [
       "\n",
       "            setTimeout(function() {\n",
       "                var nbb_cell_id = 23;\n",
       "                var nbb_unformatted_code = \"filename = \\\"Shooting_at_the_2020_Summer_Olympics_Mens_skeet\\\"\\ndownload(\\\"https://github.com/AllenDowney/ThinkStats/raw/v3/data/\\\" + filename)\";\n",
       "                var nbb_formatted_code = \"filename = \\\"Shooting_at_the_2020_Summer_Olympics_Mens_skeet\\\"\\ndownload(\\\"https://github.com/AllenDowney/ThinkStats/raw/v3/data/\\\" + filename)\";\n",
       "                var nbb_cells = Jupyter.notebook.get_cells();\n",
       "                for (var i = 0; i < nbb_cells.length; ++i) {\n",
       "                    if (nbb_cells[i].input_prompt_number == nbb_cell_id) {\n",
       "                        if (nbb_cells[i].get_text() == nbb_unformatted_code) {\n",
       "                             nbb_cells[i].set_text(nbb_formatted_code);\n",
       "                        }\n",
       "                        break;\n",
       "                    }\n",
       "                }\n",
       "            }, 500);\n",
       "            "
      ],
      "text/plain": [
       "<IPython.core.display.Javascript object>"
      ]
     },
     "metadata": {},
     "output_type": "display_data"
    }
   ],
   "source": [
    "filename = \"Shooting_at_the_2020_Summer_Olympics_Mens_skeet\"\n",
    "download(\"https://github.com/AllenDowney/ThinkStats/raw/v3/data/\" + filename)"
   ]
  },
  {
   "cell_type": "code",
   "execution_count": 24,
   "id": "80f462d5",
   "metadata": {},
   "outputs": [
    {
     "data": {
      "text/html": [
       "<div>\n",
       "<style scoped>\n",
       "    .dataframe tbody tr th:only-of-type {\n",
       "        vertical-align: middle;\n",
       "    }\n",
       "\n",
       "    .dataframe tbody tr th {\n",
       "        vertical-align: top;\n",
       "    }\n",
       "\n",
       "    .dataframe thead th {\n",
       "        text-align: right;\n",
       "    }\n",
       "</style>\n",
       "<table border=\"1\" class=\"dataframe\">\n",
       "  <thead>\n",
       "    <tr style=\"text-align: right;\">\n",
       "      <th></th>\n",
       "      <th>Rank</th>\n",
       "      <th>Athlete</th>\n",
       "      <th>Country</th>\n",
       "      <th>1</th>\n",
       "      <th>2</th>\n",
       "      <th>3</th>\n",
       "      <th>4</th>\n",
       "      <th>5</th>\n",
       "      <th>Total[3]</th>\n",
       "      <th>Shoot-off</th>\n",
       "      <th>Notes</th>\n",
       "    </tr>\n",
       "  </thead>\n",
       "  <tbody>\n",
       "    <tr>\n",
       "      <th>0</th>\n",
       "      <td>1</td>\n",
       "      <td>Éric Delaunay</td>\n",
       "      <td>France</td>\n",
       "      <td>25</td>\n",
       "      <td>25</td>\n",
       "      <td>25</td>\n",
       "      <td>24</td>\n",
       "      <td>25</td>\n",
       "      <td>124</td>\n",
       "      <td>+6</td>\n",
       "      <td>Q, OR</td>\n",
       "    </tr>\n",
       "    <tr>\n",
       "      <th>1</th>\n",
       "      <td>2</td>\n",
       "      <td>Tammaro Cassandro</td>\n",
       "      <td>Italy</td>\n",
       "      <td>24</td>\n",
       "      <td>25</td>\n",
       "      <td>25</td>\n",
       "      <td>25</td>\n",
       "      <td>25</td>\n",
       "      <td>124</td>\n",
       "      <td>+5</td>\n",
       "      <td>Q, OR</td>\n",
       "    </tr>\n",
       "    <tr>\n",
       "      <th>2</th>\n",
       "      <td>3</td>\n",
       "      <td>Eetu Kallioinen</td>\n",
       "      <td>Finland</td>\n",
       "      <td>25</td>\n",
       "      <td>25</td>\n",
       "      <td>24</td>\n",
       "      <td>25</td>\n",
       "      <td>24</td>\n",
       "      <td>123</td>\n",
       "      <td>NaN</td>\n",
       "      <td>Q</td>\n",
       "    </tr>\n",
       "    <tr>\n",
       "      <th>3</th>\n",
       "      <td>4</td>\n",
       "      <td>Vincent Hancock</td>\n",
       "      <td>United States</td>\n",
       "      <td>25</td>\n",
       "      <td>25</td>\n",
       "      <td>25</td>\n",
       "      <td>25</td>\n",
       "      <td>22</td>\n",
       "      <td>122</td>\n",
       "      <td>+8</td>\n",
       "      <td>Q</td>\n",
       "    </tr>\n",
       "    <tr>\n",
       "      <th>4</th>\n",
       "      <td>5</td>\n",
       "      <td>Abdullah Al-Rashidi</td>\n",
       "      <td>Kuwait</td>\n",
       "      <td>25</td>\n",
       "      <td>25</td>\n",
       "      <td>24</td>\n",
       "      <td>25</td>\n",
       "      <td>23</td>\n",
       "      <td>122</td>\n",
       "      <td>+7</td>\n",
       "      <td>Q</td>\n",
       "    </tr>\n",
       "  </tbody>\n",
       "</table>\n",
       "</div>"
      ],
      "text/plain": [
       "   Rank              Athlete        Country   1   2   3   4   5 Total[3]  \\\n",
       "0     1        Éric Delaunay         France  25  25  25  24  25      124   \n",
       "1     2    Tammaro Cassandro          Italy  24  25  25  25  25      124   \n",
       "2     3      Eetu Kallioinen        Finland  25  25  24  25  24      123   \n",
       "3     4      Vincent Hancock  United States  25  25  25  25  22      122   \n",
       "4     5  Abdullah Al-Rashidi         Kuwait  25  25  24  25  23      122   \n",
       "\n",
       "  Shoot-off  Notes  \n",
       "0        +6  Q, OR  \n",
       "1        +5  Q, OR  \n",
       "2       NaN      Q  \n",
       "3        +8      Q  \n",
       "4        +7      Q  "
      ]
     },
     "execution_count": 24,
     "metadata": {},
     "output_type": "execute_result"
    },
    {
     "data": {
      "application/javascript": [
       "\n",
       "            setTimeout(function() {\n",
       "                var nbb_cell_id = 24;\n",
       "                var nbb_unformatted_code = \"tables = pd.read_html(filename)\\ntable = tables[6]\\ntable.head()\";\n",
       "                var nbb_formatted_code = \"tables = pd.read_html(filename)\\ntable = tables[6]\\ntable.head()\";\n",
       "                var nbb_cells = Jupyter.notebook.get_cells();\n",
       "                for (var i = 0; i < nbb_cells.length; ++i) {\n",
       "                    if (nbb_cells[i].input_prompt_number == nbb_cell_id) {\n",
       "                        if (nbb_cells[i].get_text() == nbb_unformatted_code) {\n",
       "                             nbb_cells[i].set_text(nbb_formatted_code);\n",
       "                        }\n",
       "                        break;\n",
       "                    }\n",
       "                }\n",
       "            }, 500);\n",
       "            "
      ],
      "text/plain": [
       "<IPython.core.display.Javascript object>"
      ]
     },
     "metadata": {},
     "output_type": "display_data"
    }
   ],
   "source": [
    "tables = pd.read_html(filename)\n",
    "table = tables[6]\n",
    "table.head()"
   ]
  },
  {
   "cell_type": "markdown",
   "id": "ecc26901",
   "metadata": {},
   "source": [
    "The table has one row for each competitors, with one column for each of five rounds.\n",
    "We'll select the columns that contain the results and use `flatten` to put them into a single array."
   ]
  },
  {
   "cell_type": "code",
   "execution_count": null,
   "id": "58108620",
   "metadata": {},
   "outputs": [],
   "source": [
    "columns = [\"1\", \"2\", \"3\", \"4\", \"5\"]\n",
    "results = table[columns].values.flatten()"
   ]
  },
  {
   "cell_type": "code",
   "execution_count": null,
   "id": "0798664f",
   "metadata": {},
   "outputs": [],
   "source": [
    "total_shots = 25 * len(results)\n",
    "total_hits = results.sum()\n",
    "n, total_shots, total_hits"
   ]
  },
  {
   "cell_type": "markdown",
   "id": "3bfbd3a3",
   "metadata": {},
   "source": [
    "With 30 competitors, we have results from 150 rounds of 25 shots each, with 3750 hits out of a total of 3575 attempts.\n",
    "So the overall success rate is 95.3%."
   ]
  },
  {
   "cell_type": "code",
   "execution_count": null,
   "id": "d9c54715",
   "metadata": {},
   "outputs": [],
   "source": [
    "p = total_hits / total_shots\n",
    "p"
   ]
  },
  {
   "cell_type": "markdown",
   "id": "0081ed3b",
   "metadata": {},
   "source": [
    "Now we can compute a `Pmf` that represents the binomial distribution with `n=25` and the value of `p` we just computed."
   ]
  },
  {
   "cell_type": "code",
   "execution_count": null,
   "id": "e936f800",
   "metadata": {},
   "outputs": [],
   "source": [
    "ps = binomial_pmf(ks, n, p)\n",
    "pmf_binom = Pmf(ps, ks, name=\"binomial model\")"
   ]
  },
  {
   "cell_type": "markdown",
   "id": "a83ed3fd",
   "metadata": {},
   "source": [
    "And we can compare that to the `Pmf` of the actual results."
   ]
  },
  {
   "cell_type": "code",
   "execution_count": null,
   "id": "ee862bb0",
   "metadata": {},
   "outputs": [],
   "source": [
    "pmf_results = Pmf.from_seq(results, name=\"actual results\")\n",
    "\n",
    "two_bar_plots(pmf_results, pmf_binom)\n",
    "decorate(xlabel=\"Hits\", ylabel=\"PMF\")"
   ]
  },
  {
   "cell_type": "markdown",
   "id": "fb98f9e9",
   "metadata": {},
   "source": [
    "The binomial model is a good fit for the distribution of the data."
   ]
  },
  {
   "cell_type": "markdown",
   "id": "c2410330",
   "metadata": {},
   "source": [
    "## The Poisson Distribution\n",
    "\n",
    "As another example where the outcomes of sports events follow predictable patterns, let's look at the number of goals scored in ice hockey games.\n",
    "\n",
    "We'll start by simulating a 60-minute game, which is 3600 seconds, assuming that the teams score a total of 6 goals per game, on average, and that the probability of scoring a goal is the same during any second."
   ]
  },
  {
   "cell_type": "code",
   "execution_count": null,
   "id": "600e86a5",
   "metadata": {},
   "outputs": [],
   "source": [
    "n = 3600\n",
    "m = 6\n",
    "p = m / 3600\n",
    "p"
   ]
  },
  {
   "cell_type": "markdown",
   "id": "1dc6fbab",
   "metadata": {},
   "source": [
    "Now we can use the following function to simulate `n` seconds and return the total number of goals scored."
   ]
  },
  {
   "cell_type": "code",
   "execution_count": null,
   "id": "90168872",
   "metadata": {},
   "outputs": [],
   "source": [
    "def simulate_goals(n, p):\n",
    "    return flip(n, p).sum()"
   ]
  },
  {
   "cell_type": "markdown",
   "id": "d88b25ae",
   "metadata": {},
   "source": [
    "If we simulate 1000 games, we can confirm that the average number of goals per game is close to 6."
   ]
  },
  {
   "cell_type": "code",
   "execution_count": null,
   "id": "b0cb6428",
   "metadata": {},
   "outputs": [],
   "source": [
    "goals = [simulate_goals(n, p) for i in range(1000)]\n",
    "np.mean(goals)"
   ]
  },
  {
   "cell_type": "markdown",
   "id": "bba8f3af",
   "metadata": {},
   "source": [
    "We could use the binomial distribution to model these results, but when `n` is large and `p` is small, the results are also well-modeled by a Poisson distribution, which has just one parameter, denoted with the Greek letter λ, which is pronounced \"lambda\" and represented in code with the variable `lam` (because `lambda` is a Python keyword).\n",
    "`lam` represents the goal-scoring rate, which is 6 goals per game in the example.\n",
    "\n",
    "The PMF of the Poisson distribution is easy to compute -- given `lam`, we can use the following function to compute the probability of seeing `k` goals in a game."
   ]
  },
  {
   "cell_type": "code",
   "execution_count": null,
   "id": "f02db715",
   "metadata": {},
   "outputs": [],
   "source": [
    "from scipy.special import factorial\n",
    "\n",
    "\n",
    "def poisson_pmf(k, lam):\n",
    "    \"\"\"Compute the Poisson PMF.\n",
    "\n",
    "    k (int or array-like): The number of occurrences\n",
    "    lam (float): The rate parameter (λ) of the Poisson distribution\n",
    "\n",
    "    returns: float or ndarray\n",
    "    \"\"\"\n",
    "    return (lam**k) * np.exp(-lam) / factorial(k)"
   ]
  },
  {
   "cell_type": "markdown",
   "id": "4af07cfc",
   "metadata": {},
   "source": [
    "If we call this function with a range of `k` values, we can make a `Pmf` that represents the distribution of outcomes."
   ]
  },
  {
   "cell_type": "code",
   "execution_count": null,
   "id": "f8ba8513",
   "metadata": {},
   "outputs": [],
   "source": [
    "lam = 6\n",
    "ks = np.arange(20)\n",
    "ps = poisson_pmf(ks, lam)\n",
    "pmf_poisson = Pmf(ps, ks, name=\"Poisson model\")"
   ]
  },
  {
   "cell_type": "markdown",
   "id": "d740db17",
   "metadata": {},
   "source": [
    "And confirm that the mean of the distribution is close to 6."
   ]
  },
  {
   "cell_type": "code",
   "execution_count": null,
   "id": "2b22d566",
   "metadata": {},
   "outputs": [],
   "source": [
    "pmf_poisson.normalize()\n",
    "pmf_poisson.mean()"
   ]
  },
  {
   "cell_type": "markdown",
   "id": "3a4c0728",
   "metadata": {},
   "source": [
    "The following figure compares the results from the simulation to the Poisson distribution with the same mean."
   ]
  },
  {
   "cell_type": "code",
   "execution_count": null,
   "id": "8231e5fd",
   "metadata": {},
   "outputs": [],
   "source": [
    "pmf_sim = Pmf.from_seq(goals, name=\"simulation\")\n",
    "\n",
    "two_bar_plots(pmf_sim, pmf_poisson)\n",
    "decorate(xlabel=\"Goals\", ylabel=\"PMF\")"
   ]
  },
  {
   "cell_type": "markdown",
   "id": "2958fdf4",
   "metadata": {},
   "source": [
    "The distributions are similar except for small differences due to random variation.\n",
    "That should not be surprising, because the simulation and the Poisson model are based on the same assumption, notably that the probability of scoring a goal is the same during any second of the game.\n",
    "So the real test is to see how well the model fits real data.\n",
    "\n",
    "From HockeyReference, I downloaded results of every game of the National Hockey League (NHL) 2023-2024 regular season (not including the playoffs).\n",
    "I extracted information about goals scored during 60 minutes of regulation play, not including overtime or tie-breaking shootouts.\n",
    "The results are in an HDF file with one key for each game, and a list of times, in seconds since the beginning of the game, when a goal was scored."
   ]
  },
  {
   "cell_type": "markdown",
   "id": "eda870bc",
   "metadata": {},
   "source": [
    "Raw data downloaded from <https://www.hockey-reference.com/leagues/NHL_2024_games.html> on July 16, 2024."
   ]
  },
  {
   "cell_type": "code",
   "execution_count": null,
   "id": "184ee75f",
   "metadata": {},
   "outputs": [],
   "source": [
    "download(\"https://github.com/AllenDowney/ThinkStats/raw/v3/data/nhl_2023_2024.hdf\")"
   ]
  },
  {
   "cell_type": "markdown",
   "id": "95e2f638",
   "metadata": {},
   "source": [
    "Here's how we read the keys from the file."
   ]
  },
  {
   "cell_type": "code",
   "execution_count": null,
   "id": "4b2c9ae5",
   "metadata": {},
   "outputs": [],
   "source": [
    "filename = \"nhl_2023_2024.hdf\"\n",
    "\n",
    "with pd.HDFStore(filename, \"r\") as store:\n",
    "    keys = store.keys()\n",
    "\n",
    "len(keys), keys[0]"
   ]
  },
  {
   "cell_type": "markdown",
   "id": "559cbeb6",
   "metadata": {},
   "source": [
    "There were 1312 games during the regular season.\n",
    "Each key contains the date of the game and a three-letter abbreviation for the home team.\n",
    "We can use `read_hdf` to look up a key and get the list of times when a goal was scored."
   ]
  },
  {
   "cell_type": "code",
   "execution_count": null,
   "id": "b39108c7",
   "metadata": {},
   "outputs": [],
   "source": [
    "times = pd.read_hdf(filename, key=keys[0])\n",
    "times"
   ]
  },
  {
   "cell_type": "markdown",
   "id": "fd132503",
   "metadata": {},
   "source": [
    "In the first game of the season, six goals were scored, the first after 424s second of play, the last at after 3513 seconds -- with only 87 seconds left in the game."
   ]
  },
  {
   "cell_type": "code",
   "execution_count": null,
   "id": "32a54906",
   "metadata": {
    "tags": [
     "remove-print"
    ]
   },
   "outputs": [],
   "source": [
    "3600 - times[5]"
   ]
  },
  {
   "cell_type": "markdown",
   "id": "99919d66",
   "metadata": {},
   "source": [
    "The following loop reads the results for all games, counts the number of goals, and stores the result in a list."
   ]
  },
  {
   "cell_type": "code",
   "execution_count": null,
   "id": "ffcf3dfd",
   "metadata": {},
   "outputs": [],
   "source": [
    "goals = []\n",
    "\n",
    "for key in keys:\n",
    "    times = pd.read_hdf(filename, key=key)\n",
    "    n = len(times)\n",
    "    goals.append(n)"
   ]
  },
  {
   "cell_type": "markdown",
   "id": "1d84dd07",
   "metadata": {},
   "source": [
    "The average number of goals per game is just over 6."
   ]
  },
  {
   "cell_type": "code",
   "execution_count": null,
   "id": "4f6ab6bc",
   "metadata": {},
   "outputs": [],
   "source": [
    "lam = np.mean(goals)\n",
    "lam"
   ]
  },
  {
   "cell_type": "markdown",
   "id": "b61ec268",
   "metadata": {},
   "source": [
    "We can use `poisson_pmf` to make a `Pmf` that represents a Poisson distribution with the same mean as the data."
   ]
  },
  {
   "cell_type": "code",
   "execution_count": null,
   "id": "b5bec1ba",
   "metadata": {},
   "outputs": [],
   "source": [
    "ps = poisson_pmf(ks, lam)\n",
    "pmf_poisson = Pmf(ps, ks, name=\"Poisson model\")"
   ]
  },
  {
   "cell_type": "markdown",
   "id": "bb748573",
   "metadata": {},
   "source": [
    "And here's what it looks like compared to the PMF of the data."
   ]
  },
  {
   "cell_type": "code",
   "execution_count": null,
   "id": "e97704a1",
   "metadata": {},
   "outputs": [],
   "source": [
    "pmf_goals = Pmf.from_seq(goals, name=\"home goals\")\n",
    "\n",
    "two_bar_plots(pmf_goals, pmf_poisson)\n",
    "decorate(xlabel=\"Goals\", ylabel=\"PMF\")"
   ]
  },
  {
   "cell_type": "markdown",
   "id": "6fac89a4",
   "metadata": {},
   "source": [
    "The data fit the Poisson model remarkably well."
   ]
  },
  {
   "cell_type": "markdown",
   "id": "c50c6fc5",
   "metadata": {},
   "source": [
    "## The Exponential Distribution\n",
    "\n",
    "In the previous section, we simulated a simple model of a hockey game where a goal has the same probability of being scored during any second of the game.\n",
    "Under the same model, it turns out, the times until the first goal follow an **exponential distribution**.\n",
    "\n",
    "To demonstrate, let's assume again that the teams score a total of 6 goals, on average, and compute the probability of a goal during each second."
   ]
  },
  {
   "cell_type": "code",
   "execution_count": null,
   "id": "a3e05e31",
   "metadata": {},
   "outputs": [],
   "source": [
    "n = 3600\n",
    "m = 6\n",
    "p = m / 3600\n",
    "p"
   ]
  },
  {
   "cell_type": "markdown",
   "id": "a221b23a",
   "metadata": {},
   "source": [
    "The following function simulates `n` seconds and uses `argmax` to find the time of the first goal."
   ]
  },
  {
   "cell_type": "code",
   "execution_count": null,
   "id": "8c1052b2",
   "metadata": {},
   "outputs": [],
   "source": [
    "def simulate_first_goal(n, p):\n",
    "    return flip(n, p).argmax()"
   ]
  },
  {
   "cell_type": "markdown",
   "id": "56185216",
   "metadata": {},
   "source": [
    "This works because the result from `flip` is a sequence of 1s and 0s, so the maximum is almost always 1.\n",
    "If there is at least one goal in the sequence, `argmax` returns the index of the first.\n",
    "If there are no goals, it returns 0, but that happens seldom enough that we'll ignore it.\n",
    "\n",
    "We'll use `simulate_first_goal` to simulate 1000 games and make a list of the times until the first goal."
   ]
  },
  {
   "cell_type": "code",
   "execution_count": null,
   "id": "380ff529",
   "metadata": {},
   "outputs": [],
   "source": [
    "first_goal_times = [simulate_first_goal(n, p) for i in range(1000)]\n",
    "mean = np.mean(first_goal_times)\n",
    "mean"
   ]
  },
  {
   "cell_type": "markdown",
   "id": "b0ee4dd3",
   "metadata": {},
   "source": [
    "The average time until the first goal is about 600 seconds, or 10 minutes.\n",
    "And that makes sense -- if we expect 6 goals per game, we expect one goal every 10 minutes, on average."
   ]
  },
  {
   "cell_type": "markdown",
   "id": "3a3afd97",
   "metadata": {},
   "source": [
    "When `n` is large and `p` is small, we can show mathematically that the expected time until the first goal follows an exponential distribution.\n",
    "\n",
    "Because the simulation generates many unique time values, we'll use CDFs to compare distributions, rather than PMFs.\n",
    "And the CDF of the exponential distribution is easy to compute."
   ]
  },
  {
   "cell_type": "code",
   "execution_count": null,
   "id": "1a306c50",
   "metadata": {},
   "outputs": [],
   "source": [
    "def exponential_cdf(x, lam):\n",
    "    \"\"\"Compute the exponential CDF.\n",
    "\n",
    "    x: float or sequence of floats\n",
    "    lam: rate parameter\n",
    "\n",
    "    returns: float or NumPy array of cumulative probability\n",
    "    \"\"\"\n",
    "    return 1 - np.exp(-lam * x)"
   ]
  },
  {
   "cell_type": "markdown",
   "id": "4fdccc6c",
   "metadata": {},
   "source": [
    "The parameter, `lam`, is the average number of events per unit of time -- in this example it is goals per second.\n",
    "We can use the mean of the simulated results to compute lam."
   ]
  },
  {
   "cell_type": "code",
   "execution_count": null,
   "id": "2dfbaf1d",
   "metadata": {},
   "outputs": [],
   "source": [
    "lam = 1 / mean\n",
    "lam"
   ]
  },
  {
   "cell_type": "markdown",
   "id": "5e5cfba3",
   "metadata": {},
   "source": [
    "If we call this function with a range of time values, we can approximate the distribution of first goal times."
   ]
  },
  {
   "cell_type": "code",
   "execution_count": null,
   "id": "07f133ab",
   "metadata": {},
   "outputs": [],
   "source": [
    "from empiricaldist import Cdf\n",
    "\n",
    "ts = np.linspace(0, 3600, 201)\n",
    "ps = exponential_cdf(ts, lam)\n",
    "cdf_expo = Cdf(ps, ts, name=\"exponential model\")"
   ]
  },
  {
   "cell_type": "markdown",
   "id": "084f957c",
   "metadata": {},
   "source": [
    "The following figure compares the simulation results to the exponential distribution we just computed."
   ]
  },
  {
   "cell_type": "code",
   "execution_count": null,
   "id": "09108861",
   "metadata": {},
   "outputs": [],
   "source": [
    "cdf_sim = Cdf.from_seq(first_goal_times, name=\"simulation\")\n",
    "\n",
    "cdf_expo.plot(alpha=0.6, color=\"gray\")\n",
    "cdf_sim.plot(alpha=0.6)\n",
    "\n",
    "decorate(xlabel=\"Time of first goal (seconds)\", ylabel=\"CDF\")"
   ]
  },
  {
   "cell_type": "markdown",
   "id": "15579092",
   "metadata": {},
   "source": [
    "The exponential model fits the results from the simulation very well -- but the real test is to see how it does with real data.\n",
    "\n",
    "The following loop reads the results for all games, gets the time of the first goal, and stores the result in a list.\n",
    "If no goals were scored, it adds `nan` to the list."
   ]
  },
  {
   "cell_type": "code",
   "execution_count": null,
   "id": "ac770972",
   "metadata": {
    "tags": [
     "remove-print"
    ]
   },
   "outputs": [],
   "source": [
    "filename = \"nhl_2023_2024.hdf\"\n",
    "\n",
    "with pd.HDFStore(filename, \"r\") as store:\n",
    "    keys = store.keys()"
   ]
  },
  {
   "cell_type": "code",
   "execution_count": null,
   "id": "ae894db8",
   "metadata": {},
   "outputs": [],
   "source": [
    "firsts = []\n",
    "\n",
    "for key in keys:\n",
    "    times = pd.read_hdf(filename, key=key)\n",
    "    if len(times) > 0:\n",
    "        firsts.append(times[0])\n",
    "    else:\n",
    "        firsts.append(np.nan)"
   ]
  },
  {
   "cell_type": "markdown",
   "id": "dc068e1c",
   "metadata": {},
   "source": [
    "To estimate the goal-scoring rate, we can use `nanmean`, which computes the mean of the times, ignoring `nan` values."
   ]
  },
  {
   "cell_type": "code",
   "execution_count": null,
   "id": "34e582dd",
   "metadata": {},
   "outputs": [],
   "source": [
    "lam = 1 / np.nanmean(firsts)\n",
    "lam"
   ]
  },
  {
   "cell_type": "markdown",
   "id": "3424954f",
   "metadata": {},
   "source": [
    "Now we can compute the CDF of an exponential distribution with the same goal-scoring rate as the data."
   ]
  },
  {
   "cell_type": "code",
   "execution_count": null,
   "id": "b735052d",
   "metadata": {},
   "outputs": [],
   "source": [
    "ps = exponential_cdf(ts, lam)\n",
    "cdf_expo = Cdf(ps, ts, name=\"exponential model\")"
   ]
  },
  {
   "cell_type": "markdown",
   "id": "fec90844",
   "metadata": {},
   "source": [
    "To compute the CDF of the data, we'll use the `dropna=False` argument, which includes `nan` values at the end."
   ]
  },
  {
   "cell_type": "code",
   "execution_count": null,
   "id": "c8211d5a",
   "metadata": {},
   "outputs": [],
   "source": [
    "cdf_firsts = Cdf.from_seq(firsts, name=\"data\", dropna=False)\n",
    "cdf_firsts.tail()"
   ]
  },
  {
   "cell_type": "markdown",
   "id": "2ab13fa7",
   "metadata": {},
   "source": [
    "The following figure compares the exponential distribution to the distribution of the data."
   ]
  },
  {
   "cell_type": "code",
   "execution_count": null,
   "id": "514f52fe",
   "metadata": {
    "scrolled": true
   },
   "outputs": [],
   "source": [
    "cdf_expo.plot(alpha=0.6, color=\"gray\")\n",
    "cdf_firsts.plot(alpha=0.6)\n",
    "\n",
    "decorate(xlabel=\"Time of first goal (seconds)\", ylabel=\"CDF\")"
   ]
  },
  {
   "cell_type": "markdown",
   "id": "dc25e009",
   "metadata": {},
   "source": [
    "The data deviate from the model in some places -- it looks like there are fewer goals in the first 1000 seconds than the model predicts.\n",
    "But still, the model fits the data well.\n",
    "\n",
    "The underlying assumption of these models -- the Poisson model of goals and the exponential model of times -- is that a goal is equally likely during any second of a game.\n",
    "If you ask a hockey fan whether that's true, they would say no, and they would be right -- the real world violates assumptions like these in many ways.\n",
    "But despite these violations, theoretical distributions often fit real data remarkably well."
   ]
  },
  {
   "cell_type": "markdown",
   "id": "58afaa9f",
   "metadata": {},
   "source": [
    "## The Normal Distribution\n",
    "\n",
    "Many things we measure in the real world follow a normal distribution, also known as a Gaussian distribution or a \"bell curve\".\n",
    "To see where these distributions come from, let's consider a model of the way giant pumpkins grow.\n",
    "Suppose that each day, a pumpkin gains 1 pound if the weather is bad, 2 pounds if the weather is fair, and 3 pounds if the weather is good.\n",
    "And suppose the weather each day is bad, fair, or good with the same probability.\n",
    "\n",
    "We can use the following function to simulate this model for `n` days and return the total of the weight gains."
   ]
  },
  {
   "cell_type": "code",
   "execution_count": null,
   "id": "3cbcb8fb",
   "metadata": {},
   "outputs": [],
   "source": [
    "def simulate_growth(n):\n",
    "    choices = [1, 2, 3]\n",
    "    gains = np.random.choice(choices, n)\n",
    "    return gains.sum()"
   ]
  },
  {
   "cell_type": "markdown",
   "id": "b90a600a",
   "metadata": {},
   "source": [
    "Now suppose 1001 people grow giant pumpkins in different places with different weather.\n",
    "If we simulate the growth process for 100 days, we get a list of 1001 weights."
   ]
  },
  {
   "cell_type": "code",
   "execution_count": null,
   "id": "d6f08810",
   "metadata": {},
   "outputs": [],
   "source": [
    "sim_weights = [simulate_growth(100) for i in range(1001)]\n",
    "m, s = np.mean(sim_weights), np.std(sim_weights)\n",
    "m, s"
   ]
  },
  {
   "cell_type": "markdown",
   "id": "f0982329",
   "metadata": {},
   "source": [
    "The mean is close to 200 and the standard deviation is about 8.\n",
    "To see whether the weights follow a normal distribution, we'll use the following function, which takes a sample and makes a `Cdf` that represents a normal distribution with the same mean and standard deviation of the sample, evaluated over the range of the sample. "
   ]
  },
  {
   "cell_type": "code",
   "execution_count": null,
   "id": "d51f4c59",
   "metadata": {},
   "outputs": [],
   "source": [
    "from scipy.stats import norm\n",
    "\n",
    "\n",
    "def make_normal_model(data):\n",
    "    \"\"\"Make the Cdf of a normal distribution based on data.\n",
    "\n",
    "    data: sequence of numbers\n",
    "    \"\"\"\n",
    "    m, s = np.mean(data), np.std(data)\n",
    "    low, high = m - 4 * s, m + 4 * s\n",
    "    qs = np.linspace(low, high, 201)\n",
    "    ps = norm.cdf(qs, m, s)\n",
    "    return Cdf(ps, qs, name=\"normal model\")"
   ]
  },
  {
   "cell_type": "markdown",
   "id": "04258779",
   "metadata": {},
   "source": [
    "Here's how we use it."
   ]
  },
  {
   "cell_type": "code",
   "execution_count": null,
   "id": "ae5e0fff",
   "metadata": {},
   "outputs": [],
   "source": [
    "cdf_model = make_normal_model(sim_weights)"
   ]
  },
  {
   "cell_type": "markdown",
   "id": "299e1662",
   "metadata": {},
   "source": [
    "Now we can make a `Cdf` that represents the distribution of the simulation results."
   ]
  },
  {
   "cell_type": "code",
   "execution_count": null,
   "id": "09bc72cf",
   "metadata": {},
   "outputs": [],
   "source": [
    "cdf_sim_weights = Cdf.from_seq(sim_weights, name=\"simulation\")"
   ]
  },
  {
   "cell_type": "markdown",
   "id": "361ba786",
   "metadata": {},
   "source": [
    "We'll use the following function to compare the distributions."
   ]
  },
  {
   "cell_type": "code",
   "execution_count": null,
   "id": "a9257e03",
   "metadata": {},
   "outputs": [],
   "source": [
    "def two_cdf_plots(cdf_model, cdf_data, xlabel=\"\", **options):\n",
    "    \"\"\"Plot an empirical CDF and a theoretical model.\n",
    "\n",
    "    cdf_model: Cdf object\n",
    "    cdf_data: Cdf object\n",
    "    xlabel: string\n",
    "    options: control the way cdf_data is plotted\n",
    "    \"\"\"\n",
    "    cdf_model.plot(alpha=0.6, color=\"gray\")\n",
    "    cdf_data.plot(alpha=0.6, **options)\n",
    "\n",
    "    decorate(xlabel=xlabel, ylabel=\"CDF\")"
   ]
  },
  {
   "cell_type": "code",
   "execution_count": null,
   "id": "4e1fc84d",
   "metadata": {},
   "outputs": [],
   "source": [
    "two_cdf_plots(cdf_model, cdf_sim_weights, color=\"C1\", xlabel=\"Weight (pounds)\")"
   ]
  },
  {
   "cell_type": "markdown",
   "id": "f1ba6267",
   "metadata": {},
   "source": [
    "The normal model fits the distribution of the weights pretty well.\n",
    "In general, when we add up random factors, the sum tends to follow a normal distribution.\n",
    "That's a consequence of the Central Limit Theorem, which we'll come back to in Chapter xxx.\n",
    "\n",
    "But first let's see how well the normal distribution fits real data.\n",
    "As an example, we'll look at the distribution of birth weights in the National Survey of Family Growth (NSFG).\n",
    "We can use `read_fem_preg` to read the data, then select the `totalwgt_lb` column, which records birth weights in pounds."
   ]
  },
  {
   "cell_type": "code",
   "execution_count": null,
   "id": "5486a05a",
   "metadata": {
    "tags": [
     "remove-print"
    ]
   },
   "outputs": [],
   "source": [
    "download(\"https://github.com/AllenDowney/ThinkStats/raw/v3/nb/nsfg.py\")\n",
    "download(\"https://github.com/AllenDowney/ThinkStats/raw/v3/data/2002FemPreg.dct\")\n",
    "download(\"https://github.com/AllenDowney/ThinkStats/raw/v3/data/2002FemPreg.dat.gz\")"
   ]
  },
  {
   "cell_type": "code",
   "execution_count": null,
   "id": "8a65ba55",
   "metadata": {},
   "outputs": [],
   "source": [
    "import nsfg\n",
    "\n",
    "preg = nsfg.read_fem_preg()\n",
    "birth_weights = preg[\"totalwgt_lb\"].dropna()"
   ]
  },
  {
   "cell_type": "markdown",
   "id": "74fe7638",
   "metadata": {},
   "source": [
    "The average of the birth weights is about 7.27 pounds, and the standard deviation is 1.4 pounds, but as we've seen, there are some outliers in this dataset that are probably errors."
   ]
  },
  {
   "cell_type": "code",
   "execution_count": null,
   "id": "02fb28ee",
   "metadata": {},
   "outputs": [],
   "source": [
    "m, s = np.mean(birth_weights), np.std(birth_weights)\n",
    "m, s"
   ]
  },
  {
   "cell_type": "markdown",
   "id": "a5216bb4",
   "metadata": {},
   "source": [
    "To reduce the effect of the outliers on the estimated mean and standard deviation, we'll use the SciPy function `trimboth` to remove the highest and lowest values."
   ]
  },
  {
   "cell_type": "code",
   "execution_count": null,
   "id": "70b9c45c",
   "metadata": {},
   "outputs": [],
   "source": [
    "from scipy.stats import trimboth\n",
    "\n",
    "trimmed = trimboth(birth_weights, 0.01)\n",
    "m, s = np.mean(trimmed), np.std(trimmed)\n",
    "m, s"
   ]
  },
  {
   "cell_type": "markdown",
   "id": "bd0f6d53",
   "metadata": {},
   "source": [
    "With the trimmed data, the mean is a little lower and the standard deviation is substantially lower.\n",
    "We'll use the trimmed data to make a normal model."
   ]
  },
  {
   "cell_type": "code",
   "execution_count": null,
   "id": "78f7462a",
   "metadata": {},
   "outputs": [],
   "source": [
    "cdf_model = make_normal_model(trimmed)"
   ]
  },
  {
   "cell_type": "markdown",
   "id": "47f4e1d8",
   "metadata": {},
   "source": [
    "And compare it to the `Cdf` of the data."
   ]
  },
  {
   "cell_type": "code",
   "execution_count": null,
   "id": "519a5674",
   "metadata": {},
   "outputs": [],
   "source": [
    "cdf_birth_weight = Cdf.from_seq(birth_weights)\n",
    "\n",
    "two_cdf_plots(cdf_model, cdf_birth_weight, xlabel=\"Birth weight (pounds)\")"
   ]
  },
  {
   "cell_type": "markdown",
   "id": "58346f03",
   "metadata": {},
   "source": [
    "The normal model fits the data well except in the range of the lightest babies."
   ]
  },
  {
   "cell_type": "markdown",
   "id": "0690e053",
   "metadata": {},
   "source": [
    "## The Lognormal Distribution\n",
    "\n",
    "In the previous section, we simulated pumpkin growth under the assumption that pumpkins grow 1-3 pounds per day, depending on the weather.\n",
    "Instead, let's suppose their growth is proportional to their current weight, so big pumpkins gain more weight per day than small pumpkins -- which is probably more realistic.\n",
    "\n",
    "The following function simulates this kind of proportionate growth, where a pumpkin gains 3% of its weight if the weather is bad, 5% if the weather is fair, and 7% if the weather is good.\n",
    "Again, we'll assume that the weather is bad, fair, or good on any given day with equal probability."
   ]
  },
  {
   "cell_type": "code",
   "execution_count": null,
   "id": "19fc51ca",
   "metadata": {},
   "outputs": [],
   "source": [
    "def simulate_proportionate_growth(n):\n",
    "    choices = [1.03, 1.05, 1.07]\n",
    "    gains = np.random.choice(choices, n)\n",
    "    return gains.prod()"
   ]
  },
  {
   "cell_type": "markdown",
   "id": "87ed4173",
   "metadata": {},
   "source": [
    "If a pumpkin gains 3% of its weight, the final weight is the product of the initial weight and the factor 1.03.\n",
    "So we can compute the weight after 100 days by choosing random factors and multiplying them together.\n",
    "\n",
    "We can call this function 1000 times to simulate 1000 pumpkins and save their weights."
   ]
  },
  {
   "cell_type": "code",
   "execution_count": null,
   "id": "fef49be7",
   "metadata": {},
   "outputs": [],
   "source": [
    "sim_weights = [simulate_proportionate_growth(100) for i in range(1000)]\n",
    "np.mean(sim_weights), np.std(sim_weights)"
   ]
  },
  {
   "cell_type": "markdown",
   "id": "caaf6579",
   "metadata": {},
   "source": [
    "The average weight is about 132 pounds; the standard deviation is about 20 pounds.\n",
    "So the pumpkins in this model are smaller but more variable than in the previous model.\n",
    "\n",
    "And we can show mathematically that they follow a lognormal distribution.\n",
    "In the proportionate growth model, the final weight is the product of an initial weight and 100 random factors, which we can write like this:\n",
    "\n",
    "$$ w_n = w_0 \\cdot f_1 \\cdot f_2 \\cdot \\dots \\cdot f_n $$ \n",
    "\n",
    "where $w_0$ is the initial weight, $w_n$ is the final weight after $n$ steps, and $f_i$ is a random multiplicative factor at step $i$.\n",
    "If we take the log of both sides of this equation, the log of the product is the sum of the logs:\n",
    "\n",
    "$$ \\log w_n = \\log w_0 + \\log f_1 + \\log f_2 + \\dots + \\log f_n $$ \n",
    "\n",
    "So the logarithm of each weight is the sum of a sequence of random terms, which we expect to follow a normal distribution, according to the Central Limit Theorem.\n",
    "And if the logarithms of the weights follow a normal distribution, we'd say that the weights themselves follow a **lognormal distribution**.\n",
    "\n",
    "To check, we'll compute the logs of the weights.\n",
    "We could use logarithms with any base, but I'll use base 10 because it makes the results easier to interpret."
   ]
  },
  {
   "cell_type": "code",
   "execution_count": null,
   "id": "3bbd4a9a",
   "metadata": {},
   "outputs": [],
   "source": [
    "log_sim_weights = np.log10(sim_weights)\n",
    "m, s = np.mean(log_sim_weights), np.std(log_sim_weights)\n",
    "m, s"
   ]
  },
  {
   "cell_type": "markdown",
   "id": "2baedea6",
   "metadata": {},
   "source": [
    "Now let's compare the distribution of the logarithms to a normal distribution with the same mean and standard deviation.\n",
    "\n"
   ]
  },
  {
   "cell_type": "code",
   "execution_count": null,
   "id": "443e7661",
   "metadata": {},
   "outputs": [],
   "source": [
    "cdf_model = make_normal_model(log_sim_weights)"
   ]
  },
  {
   "cell_type": "code",
   "execution_count": null,
   "id": "3ef3b407",
   "metadata": {},
   "outputs": [],
   "source": [
    "cdf_log_sim_weights = Cdf.from_seq(log_sim_weights, name=\"simulation\")"
   ]
  },
  {
   "cell_type": "code",
   "execution_count": null,
   "id": "0f4c8387",
   "metadata": {},
   "outputs": [],
   "source": [
    "two_cdf_plots(\n",
    "    cdf_model, cdf_log_sim_weights, color=\"C1\", xlabel=\"Pumpkin weight (pounds)\"\n",
    ")"
   ]
  },
  {
   "cell_type": "markdown",
   "id": "5b92b002",
   "metadata": {},
   "source": [
    "If people are like pumpkins, where the change in weight from year to year is proportionate to current weight, we might expect the distribution of adult weights to follow a lognormal distribution.\n",
    "Let's find out.\n",
    "\n",
    "The National Center for Chronic Disease Prevention and Health Promotion conducts an annual survey as part of the Behavioral Risk Factor Surveillance System (BRFSS).[^3] In 2008, they interviewed 414,509 respondents and asked about their demographics, health, and health risks.\n",
    "Among the data they collected are the weights in kilograms of 398,484 respondents.\n",
    "\n",
    "The `thinkstats` module provides a function that reads data from the BRFSS and returns a Pandas `DataFrame`."
   ]
  },
  {
   "cell_type": "code",
   "execution_count": null,
   "id": "d80d103c",
   "metadata": {
    "tags": [
     "remove-print"
    ]
   },
   "outputs": [],
   "source": [
    "download(\"https://github.com/AllenDowney/ThinkStats/raw/v3/data/CDBRFS08.ASC.gz\")"
   ]
  },
  {
   "cell_type": "code",
   "execution_count": null,
   "id": "0e38e93a",
   "metadata": {},
   "outputs": [],
   "source": [
    "from thinkstats import read_brfss\n",
    "\n",
    "brfss = read_brfss()"
   ]
  },
  {
   "cell_type": "markdown",
   "id": "7cb5e75b",
   "metadata": {},
   "source": [
    "Adult weights in kilograms are recorded in the `wtkg2` column."
   ]
  },
  {
   "cell_type": "code",
   "execution_count": null,
   "id": "7ea83cdd",
   "metadata": {},
   "outputs": [],
   "source": [
    "adult_weights = brfss[\"wtkg2\"].dropna()\n",
    "m, s = np.mean(adult_weights), np.std(adult_weights)\n",
    "m, s"
   ]
  },
  {
   "cell_type": "markdown",
   "id": "0bf89666",
   "metadata": {},
   "source": [
    "The mean is about 79 kg.\n",
    "Before we compute logarithms, let's see if the weights follow a normal distribution."
   ]
  },
  {
   "cell_type": "code",
   "execution_count": null,
   "id": "fc748844",
   "metadata": {},
   "outputs": [],
   "source": [
    "cdf_model = make_normal_model(adult_weights)"
   ]
  },
  {
   "cell_type": "code",
   "execution_count": null,
   "id": "6760ba44",
   "metadata": {},
   "outputs": [],
   "source": [
    "cdf_adult_weights = Cdf.from_seq(adult_weights, name=\"adult weight\")"
   ]
  },
  {
   "cell_type": "code",
   "execution_count": null,
   "id": "a5fca979",
   "metadata": {},
   "outputs": [],
   "source": [
    "two_cdf_plots(cdf_model, cdf_adult_weights, xlabel=\"Adult weight (kilograms)\")"
   ]
  },
  {
   "cell_type": "markdown",
   "id": "8bccb11f",
   "metadata": {},
   "source": [
    "The normal distribution is not a terrible model for the data, and might be good enough for some purposes -- but let's see if we can do better.\n",
    "\n",
    "Here's the distribution of the log-transformed weights and a normal model with the same mean and standard deviation."
   ]
  },
  {
   "cell_type": "code",
   "execution_count": null,
   "id": "77b2f37f",
   "metadata": {},
   "outputs": [],
   "source": [
    "log_adult_weights = np.log10(adult_weights)"
   ]
  },
  {
   "cell_type": "code",
   "execution_count": null,
   "id": "0341a470",
   "metadata": {},
   "outputs": [],
   "source": [
    "cdf_model = make_normal_model(log_adult_weights)"
   ]
  },
  {
   "cell_type": "code",
   "execution_count": null,
   "id": "aba9309d",
   "metadata": {},
   "outputs": [],
   "source": [
    "cdf_log_adult_weights = Cdf.from_seq(log_adult_weights, name=\"log adult weight\")"
   ]
  },
  {
   "cell_type": "code",
   "execution_count": null,
   "id": "6d4d7124",
   "metadata": {
    "scrolled": true
   },
   "outputs": [],
   "source": [
    "two_cdf_plots(cdf_model, cdf_log_adult_weights, xlabel=\"Adult weight (log10 kg)\")"
   ]
  },
  {
   "cell_type": "markdown",
   "id": "76dcae0d",
   "metadata": {},
   "source": [
    "The normal model fits the logarithms better than it fits the weights themselves, which suggests that the weights follow a lognormal model."
   ]
  },
  {
   "cell_type": "markdown",
   "id": "0f46ee83",
   "metadata": {},
   "source": [
    "## Why model?\n",
    "\n",
    "At the beginning of this chapter, I said that many real world phenomena can be modeled with theoretical distributions.\n",
    "But it might not have been clear why we should care.\n",
    "\n",
    "Like all models, theoretical distributions are abstractions, which means they leave out details that are considered irrelevant.\n",
    "For example, an observed distribution might have measurement errors or quirks that are specific to the sample; theoretical models smooth out these idiosyncrasies.\n",
    "\n",
    "Theoretical models are also a form of data compression.\n",
    "When a model fits a dataset well, a small set of parameters can summarize a large amount of data.\n",
    "\n",
    "It is sometimes surprising when data from a natural phenomenon fit an theoretical distribution, but these observations can provide insight into physical systems.\n",
    "Sometimes we can explain why an observed distribution has a particular form.\n",
    "\n",
    "For example, "
   ]
  },
  {
   "cell_type": "markdown",
   "id": "439331ea",
   "metadata": {},
   "source": [
    "Also, theoretical distributions lend themselves to mathematical analysis, as we will see in Chapter [\\[analysis\\]](#analysis){reference-type=\"ref\" reference=\"analysis\"}.\n",
    "\n",
    "But it is important to remember that all models are imperfect.\n",
    "Data from the real world never fit an theoretical distribution perfectly.\n",
    "People sometimes talk as if data are generated by models; for example, they might say that the distribution of human heights is normal, or the distribution of income is lognormal.\n",
    "Taken literally, these claims cannot be true -- there are always differences between the real world and mathematical models.\n",
    "\n",
    "Models are useful if they capture the relevant aspects of the real world and leave out unneeded details.\n",
    "But what is \"relevant\" or \"unneeded\" depends on what you are planning to use the model for."
   ]
  },
  {
   "cell_type": "markdown",
   "id": "70f3aa6e",
   "metadata": {
    "collapsed": true
   },
   "source": [
    "## Exercises"
   ]
  },
  {
   "cell_type": "markdown",
   "id": "4608be3e",
   "metadata": {},
   "source": [
    "### Exercise\n",
    "\n",
    "In the NSFG respondent file, the `numfmhh` column records the \"number of family members in\" each respondent's household.\n",
    "We can use `read_fem_resp` to read the file, and `query` to select respondents who were 25 or older when they were interviewed."
   ]
  },
  {
   "cell_type": "code",
   "execution_count": null,
   "id": "eb919b34",
   "metadata": {
    "tags": [
     "remove-print"
    ]
   },
   "outputs": [],
   "source": [
    "download(\"https://github.com/AllenDowney/ThinkStats/raw/v3/data/2002FemResp.dct\")\n",
    "download(\"https://github.com/AllenDowney/ThinkStats/raw/v3/data/2002FemResp.dat.gz\")"
   ]
  },
  {
   "cell_type": "code",
   "execution_count": null,
   "id": "032f7704",
   "metadata": {},
   "outputs": [],
   "source": [
    "from nsfg import read_fem_resp\n",
    "\n",
    "resp = read_fem_resp()"
   ]
  },
  {
   "cell_type": "code",
   "execution_count": null,
   "id": "32777c1c",
   "metadata": {},
   "outputs": [],
   "source": [
    "older = resp.query(\"age >= 25\")\n",
    "num_family = older[\"numfmhh\"]"
   ]
  },
  {
   "cell_type": "markdown",
   "id": "249de556",
   "metadata": {},
   "source": [
    "Compute the `Pmf` of `numfmhh` for these older respondents and compare it with a Poisson distribution with the same mean.\n",
    "How well does the Poisson model fit the data?"
   ]
  },
  {
   "cell_type": "code",
   "execution_count": null,
   "id": "8aab6cfb",
   "metadata": {},
   "outputs": [],
   "source": []
  },
  {
   "cell_type": "code",
   "execution_count": null,
   "id": "390873eb",
   "metadata": {},
   "outputs": [],
   "source": []
  },
  {
   "cell_type": "code",
   "execution_count": null,
   "id": "6206d2d6",
   "metadata": {},
   "outputs": [],
   "source": []
  },
  {
   "cell_type": "code",
   "execution_count": null,
   "id": "165d7fea",
   "metadata": {},
   "outputs": [],
   "source": []
  },
  {
   "cell_type": "code",
   "execution_count": null,
   "id": "e49d067a",
   "metadata": {},
   "outputs": [],
   "source": []
  },
  {
   "cell_type": "code",
   "execution_count": null,
   "id": "6d5b94ad",
   "metadata": {},
   "outputs": [],
   "source": []
  },
  {
   "cell_type": "markdown",
   "id": "2d2bf28f",
   "metadata": {},
   "source": [
    "### Exercise\n",
    "\n",
    "In Section xxx, we saw that the time until the first goal in a hockey game follows an exponential distribution.\n",
    "If our model of goal-scoring is correct, a goal is equally likely at any time, regardless of how long it has been since the previous goal.\n",
    "And if that's true, we expect the time between goals to follow an exponential distribution.\n",
    "\n",
    "The following loop reads the hockey data, computes the time between successive goals, if there is more than one in a game, and collects the inter-goal times in a list."
   ]
  },
  {
   "cell_type": "code",
   "execution_count": null,
   "id": "65e775e0",
   "metadata": {
    "tags": [
     "remove-print"
    ]
   },
   "outputs": [],
   "source": [
    "filename = \"nhl_2023_2024.hdf\"\n",
    "\n",
    "with pd.HDFStore(filename, \"r\") as store:\n",
    "    keys = store.keys()"
   ]
  },
  {
   "cell_type": "code",
   "execution_count": null,
   "id": "6743cb7b",
   "metadata": {},
   "outputs": [],
   "source": [
    "times = pd.read_hdf(filename, key=keys[0])\n",
    "times"
   ]
  },
  {
   "cell_type": "code",
   "execution_count": null,
   "id": "902435c5",
   "metadata": {},
   "outputs": [],
   "source": [
    "times.diff()"
   ]
  },
  {
   "cell_type": "code",
   "execution_count": null,
   "id": "c02f9d7c",
   "metadata": {},
   "outputs": [],
   "source": [
    "intervals = []\n",
    "\n",
    "for key in keys:\n",
    "    times = pd.read_hdf(filename, key=key)\n",
    "    if len(times) > 1:\n",
    "        intervals.extend(times.diff().dropna())"
   ]
  },
  {
   "cell_type": "markdown",
   "id": "8848768b",
   "metadata": {},
   "source": [
    "Use `exponential_cdf` to compute the CDF of an exponential distribution with the same mean as the observed intervals and compare this model to the CDF of the data."
   ]
  },
  {
   "cell_type": "code",
   "execution_count": null,
   "id": "5ad78619",
   "metadata": {},
   "outputs": [],
   "source": []
  },
  {
   "cell_type": "code",
   "execution_count": null,
   "id": "93e46bc6",
   "metadata": {},
   "outputs": [],
   "source": []
  },
  {
   "cell_type": "code",
   "execution_count": null,
   "id": "26696a2f",
   "metadata": {},
   "outputs": [],
   "source": []
  },
  {
   "cell_type": "code",
   "execution_count": null,
   "id": "e77cb2f0",
   "metadata": {
    "scrolled": true
   },
   "outputs": [],
   "source": []
  },
  {
   "cell_type": "markdown",
   "id": "82106650",
   "metadata": {},
   "source": [
    "### Exercise\n",
    "\n",
    "Is the distribution of human height more like a normal or a lognormal distribution?\n",
    "To find out, we can select height data from the BRFSS like this:"
   ]
  },
  {
   "cell_type": "code",
   "execution_count": null,
   "id": "1916f8dc",
   "metadata": {},
   "outputs": [],
   "source": [
    "adult_heights = brfss[\"htm3\"].dropna()\n",
    "m, s = np.mean(adult_heights), np.std(adult_heights)\n",
    "m, s"
   ]
  },
  {
   "cell_type": "markdown",
   "id": "f894fdf1",
   "metadata": {},
   "source": [
    "Compute the CDF of these values and compare it to a normal distribution with the same mean and standard deviation.\n",
    "Then compute the logarithms of the heights and compute the distribution of the logarithms to a normal distribution.\n",
    "Which model fits the data better?"
   ]
  },
  {
   "cell_type": "code",
   "execution_count": null,
   "id": "4b5c0630",
   "metadata": {},
   "outputs": [],
   "source": []
  },
  {
   "cell_type": "code",
   "execution_count": null,
   "id": "2435a8f8",
   "metadata": {},
   "outputs": [],
   "source": []
  },
  {
   "cell_type": "code",
   "execution_count": null,
   "id": "387cf404",
   "metadata": {},
   "outputs": [],
   "source": []
  },
  {
   "cell_type": "code",
   "execution_count": null,
   "id": "c337cb43",
   "metadata": {},
   "outputs": [],
   "source": []
  },
  {
   "cell_type": "code",
   "execution_count": null,
   "id": "724121e7",
   "metadata": {},
   "outputs": [],
   "source": []
  },
  {
   "cell_type": "code",
   "execution_count": null,
   "id": "f4534a26",
   "metadata": {},
   "outputs": [],
   "source": []
  }
 ],
 "metadata": {
  "celltoolbar": "Tags",
  "kernelspec": {
   "display_name": "Python 3 (ipykernel)",
   "language": "python",
   "name": "python3"
  },
  "language_info": {
   "codemirror_mode": {
    "name": "ipython",
    "version": 3
   },
   "file_extension": ".py",
   "mimetype": "text/x-python",
   "name": "python",
   "nbconvert_exporter": "python",
   "pygments_lexer": "ipython3",
   "version": "3.10.14"
  }
 },
 "nbformat": 4,
 "nbformat_minor": 5
}
