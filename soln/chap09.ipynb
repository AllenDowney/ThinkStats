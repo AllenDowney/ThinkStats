{
 "cells": [
  {
   "cell_type": "markdown",
   "id": "d8c1d5d2",
   "metadata": {},
   "source": [
    "# Hypothesis Testing\n",
    "\n",
    "Exploring the data from the NSFG, we saw several \"apparent effects,\" including differences between first babies and others.\n",
    "So far we have taken these effects at face value; in this chapter, we put them to the test.\n",
    "\n",
    "The fundamental question we want to address is whether the effects we see in a sample are likely to appear in the larger population.\n",
    "For example, in the NSFG sample we see a difference in mean pregnancy length for first babies and others.\n",
    "We would like to know if that effect reflects a real difference for women in the U.S., or if it might appear in the sample by chance.\n",
    "\n",
    "There are several ways we could formulate this question, including Fisher null hypothesis testing, Neyman-Pearson decision theory, and Bayesian inference.\n",
    "What I present here is a subset of all three that makes up most of what people use in practice, which I will call **classical hypothesis testing**."
   ]
  },
  {
   "cell_type": "code",
   "execution_count": 1,
   "id": "dd3e39fa",
   "metadata": {},
   "outputs": [
    {
     "data": {
      "application/javascript": [
       "\n",
       "            setTimeout(function() {\n",
       "                var nbb_cell_id = 1;\n",
       "                var nbb_unformatted_code = \"%load_ext nb_black\\n%load_ext autoreload\\n%autoreload 2\";\n",
       "                var nbb_formatted_code = \"%load_ext nb_black\\n%load_ext autoreload\\n%autoreload 2\";\n",
       "                var nbb_cells = Jupyter.notebook.get_cells();\n",
       "                for (var i = 0; i < nbb_cells.length; ++i) {\n",
       "                    if (nbb_cells[i].input_prompt_number == nbb_cell_id) {\n",
       "                        if (nbb_cells[i].get_text() == nbb_unformatted_code) {\n",
       "                             nbb_cells[i].set_text(nbb_formatted_code);\n",
       "                        }\n",
       "                        break;\n",
       "                    }\n",
       "                }\n",
       "            }, 500);\n",
       "            "
      ],
      "text/plain": [
       "<IPython.core.display.Javascript object>"
      ]
     },
     "metadata": {},
     "output_type": "display_data"
    }
   ],
   "source": [
    "%load_ext nb_black\n",
    "%load_ext autoreload\n",
    "%autoreload 2"
   ]
  },
  {
   "cell_type": "code",
   "execution_count": 2,
   "id": "30615f97",
   "metadata": {},
   "outputs": [
    {
     "data": {
      "application/javascript": [
       "\n",
       "            setTimeout(function() {\n",
       "                var nbb_cell_id = 2;\n",
       "                var nbb_unformatted_code = \"from os.path import basename, exists\\n\\n\\ndef download(url):\\n    filename = basename(url)\\n    if not exists(filename):\\n        from urllib.request import urlretrieve\\n\\n        local, _ = urlretrieve(url, filename)\\n        print(\\\"Downloaded \\\" + local)\\n\\n\\ndownload(\\\"https://github.com/AllenDowney/ThinkStats/raw/v3/nb/thinkstats.py\\\")\";\n",
       "                var nbb_formatted_code = \"from os.path import basename, exists\\n\\n\\ndef download(url):\\n    filename = basename(url)\\n    if not exists(filename):\\n        from urllib.request import urlretrieve\\n\\n        local, _ = urlretrieve(url, filename)\\n        print(\\\"Downloaded \\\" + local)\\n\\n\\ndownload(\\\"https://github.com/AllenDowney/ThinkStats/raw/v3/nb/thinkstats.py\\\")\";\n",
       "                var nbb_cells = Jupyter.notebook.get_cells();\n",
       "                for (var i = 0; i < nbb_cells.length; ++i) {\n",
       "                    if (nbb_cells[i].input_prompt_number == nbb_cell_id) {\n",
       "                        if (nbb_cells[i].get_text() == nbb_unformatted_code) {\n",
       "                             nbb_cells[i].set_text(nbb_formatted_code);\n",
       "                        }\n",
       "                        break;\n",
       "                    }\n",
       "                }\n",
       "            }, 500);\n",
       "            "
      ],
      "text/plain": [
       "<IPython.core.display.Javascript object>"
      ]
     },
     "metadata": {},
     "output_type": "display_data"
    }
   ],
   "source": [
    "from os.path import basename, exists\n",
    "\n",
    "\n",
    "def download(url):\n",
    "    filename = basename(url)\n",
    "    if not exists(filename):\n",
    "        from urllib.request import urlretrieve\n",
    "\n",
    "        local, _ = urlretrieve(url, filename)\n",
    "        print(\"Downloaded \" + local)\n",
    "\n",
    "\n",
    "download(\"https://github.com/AllenDowney/ThinkStats/raw/v3/nb/thinkstats.py\")"
   ]
  },
  {
   "cell_type": "code",
   "execution_count": 3,
   "id": "046c37e6",
   "metadata": {},
   "outputs": [
    {
     "data": {
      "application/javascript": [
       "\n",
       "            setTimeout(function() {\n",
       "                var nbb_cell_id = 3;\n",
       "                var nbb_unformatted_code = \"try:\\n    import statadict\\nexcept ImportError:\\n    !pip install statadict\";\n",
       "                var nbb_formatted_code = \"try:\\n    import statadict\\nexcept ImportError:\\n    !pip install statadict\";\n",
       "                var nbb_cells = Jupyter.notebook.get_cells();\n",
       "                for (var i = 0; i < nbb_cells.length; ++i) {\n",
       "                    if (nbb_cells[i].input_prompt_number == nbb_cell_id) {\n",
       "                        if (nbb_cells[i].get_text() == nbb_unformatted_code) {\n",
       "                             nbb_cells[i].set_text(nbb_formatted_code);\n",
       "                        }\n",
       "                        break;\n",
       "                    }\n",
       "                }\n",
       "            }, 500);\n",
       "            "
      ],
      "text/plain": [
       "<IPython.core.display.Javascript object>"
      ]
     },
     "metadata": {},
     "output_type": "display_data"
    }
   ],
   "source": [
    "try:\n",
    "    import statadict\n",
    "except ImportError:\n",
    "    !pip install statadict"
   ]
  },
  {
   "cell_type": "code",
   "execution_count": 4,
   "id": "708e5a1e",
   "metadata": {},
   "outputs": [
    {
     "data": {
      "application/javascript": [
       "\n",
       "            setTimeout(function() {\n",
       "                var nbb_cell_id = 4;\n",
       "                var nbb_unformatted_code = \"try:\\n    import empiricaldist\\nexcept ImportError:\\n    !pip install empiricaldist\";\n",
       "                var nbb_formatted_code = \"try:\\n    import empiricaldist\\nexcept ImportError:\\n    !pip install empiricaldist\";\n",
       "                var nbb_cells = Jupyter.notebook.get_cells();\n",
       "                for (var i = 0; i < nbb_cells.length; ++i) {\n",
       "                    if (nbb_cells[i].input_prompt_number == nbb_cell_id) {\n",
       "                        if (nbb_cells[i].get_text() == nbb_unformatted_code) {\n",
       "                             nbb_cells[i].set_text(nbb_formatted_code);\n",
       "                        }\n",
       "                        break;\n",
       "                    }\n",
       "                }\n",
       "            }, 500);\n",
       "            "
      ],
      "text/plain": [
       "<IPython.core.display.Javascript object>"
      ]
     },
     "metadata": {},
     "output_type": "display_data"
    }
   ],
   "source": [
    "try:\n",
    "    import empiricaldist\n",
    "except ImportError:\n",
    "    !pip install empiricaldist"
   ]
  },
  {
   "cell_type": "code",
   "execution_count": 5,
   "id": "684b56bd",
   "metadata": {},
   "outputs": [
    {
     "data": {
      "application/javascript": [
       "\n",
       "            setTimeout(function() {\n",
       "                var nbb_cell_id = 5;\n",
       "                var nbb_unformatted_code = \"import numpy as np\\nimport pandas as pd\\nimport matplotlib.pyplot as plt\\n\\nfrom thinkstats import decorate\";\n",
       "                var nbb_formatted_code = \"import numpy as np\\nimport pandas as pd\\nimport matplotlib.pyplot as plt\\n\\nfrom thinkstats import decorate\";\n",
       "                var nbb_cells = Jupyter.notebook.get_cells();\n",
       "                for (var i = 0; i < nbb_cells.length; ++i) {\n",
       "                    if (nbb_cells[i].input_prompt_number == nbb_cell_id) {\n",
       "                        if (nbb_cells[i].get_text() == nbb_unformatted_code) {\n",
       "                             nbb_cells[i].set_text(nbb_formatted_code);\n",
       "                        }\n",
       "                        break;\n",
       "                    }\n",
       "                }\n",
       "            }, 500);\n",
       "            "
      ],
      "text/plain": [
       "<IPython.core.display.Javascript object>"
      ]
     },
     "metadata": {},
     "output_type": "display_data"
    }
   ],
   "source": [
    "import numpy as np\n",
    "import pandas as pd\n",
    "import matplotlib.pyplot as plt\n",
    "\n",
    "from thinkstats import decorate"
   ]
  },
  {
   "cell_type": "markdown",
   "id": "8bc51b88",
   "metadata": {},
   "source": [
    "## Flipping Coins\n",
    "\n",
    "We'll start with a simple example.\n",
    "When Euro coins were introduced in 2002, a curious coin enthusiast spun a Belgian one-Euro coin on edge 250 times and noted that it landed with the heads side up 140 times and tails side up 110 times.\n",
    "If the coin is perfectly balanced, we expect only 125 heads, so this data suggests the coin is biased.\n",
    "On the other hand, we don't expect to get exactly 125 heads every time, so it's possible that the coin is actually fair, and the apparent excess of heads is due to chance.\n",
    "To see whether that's plausible, we can perform a hypothesis test.\n",
    "\n",
    "We'll use the following function to compute the excess number of heads, which is the difference between the observed number and the expected number if the coin is fair."
   ]
  },
  {
   "cell_type": "code",
   "execution_count": 6,
   "id": "eca557aa",
   "metadata": {},
   "outputs": [
    {
     "data": {
      "application/javascript": [
       "\n",
       "            setTimeout(function() {\n",
       "                var nbb_cell_id = 6;\n",
       "                var nbb_unformatted_code = \"n = 250\\np = 0.5\\n\\n\\ndef excess_heads(heads):\\n    expected = n * p\\n    return heads - expected\";\n",
       "                var nbb_formatted_code = \"n = 250\\np = 0.5\\n\\n\\ndef excess_heads(heads):\\n    expected = n * p\\n    return heads - expected\";\n",
       "                var nbb_cells = Jupyter.notebook.get_cells();\n",
       "                for (var i = 0; i < nbb_cells.length; ++i) {\n",
       "                    if (nbb_cells[i].input_prompt_number == nbb_cell_id) {\n",
       "                        if (nbb_cells[i].get_text() == nbb_unformatted_code) {\n",
       "                             nbb_cells[i].set_text(nbb_formatted_code);\n",
       "                        }\n",
       "                        break;\n",
       "                    }\n",
       "                }\n",
       "            }, 500);\n",
       "            "
      ],
      "text/plain": [
       "<IPython.core.display.Javascript object>"
      ]
     },
     "metadata": {},
     "output_type": "display_data"
    }
   ],
   "source": [
    "n = 250\n",
    "p = 0.5\n",
    "\n",
    "\n",
    "def excess_heads(heads):\n",
    "    expected = n * p\n",
    "    return heads - expected"
   ]
  },
  {
   "cell_type": "markdown",
   "id": "b69024b6",
   "metadata": {},
   "source": [
    "In the observed data, the number of excess heads is 15."
   ]
  },
  {
   "cell_type": "code",
   "execution_count": 7,
   "id": "39a9fa58",
   "metadata": {},
   "outputs": [
    {
     "data": {
      "text/plain": [
       "15.0"
      ]
     },
     "execution_count": 7,
     "metadata": {},
     "output_type": "execute_result"
    },
    {
     "data": {
      "application/javascript": [
       "\n",
       "            setTimeout(function() {\n",
       "                var nbb_cell_id = 7;\n",
       "                var nbb_unformatted_code = \"heads = 140\\ntails = 110\\n\\nobserved_stat = excess_heads(heads)\\nobserved_stat\";\n",
       "                var nbb_formatted_code = \"heads = 140\\ntails = 110\\n\\nobserved_stat = excess_heads(heads)\\nobserved_stat\";\n",
       "                var nbb_cells = Jupyter.notebook.get_cells();\n",
       "                for (var i = 0; i < nbb_cells.length; ++i) {\n",
       "                    if (nbb_cells[i].input_prompt_number == nbb_cell_id) {\n",
       "                        if (nbb_cells[i].get_text() == nbb_unformatted_code) {\n",
       "                             nbb_cells[i].set_text(nbb_formatted_code);\n",
       "                        }\n",
       "                        break;\n",
       "                    }\n",
       "                }\n",
       "            }, 500);\n",
       "            "
      ],
      "text/plain": [
       "<IPython.core.display.Javascript object>"
      ]
     },
     "metadata": {},
     "output_type": "display_data"
    }
   ],
   "source": [
    "heads = 140\n",
    "tails = 110\n",
    "\n",
    "observed_stat = excess_heads(heads)\n",
    "observed_stat"
   ]
  },
  {
   "cell_type": "markdown",
   "id": "ca821d5e",
   "metadata": {},
   "source": [
    "If the coin is actually fair, we can simulate the coin-spinning experiment by generating a sequence of random strings -- either `'H'` or `'T'` with equal probability -- and counting the number of times `'H'` appears."
   ]
  },
  {
   "cell_type": "code",
   "execution_count": 8,
   "id": "a3ecbcc8",
   "metadata": {},
   "outputs": [
    {
     "data": {
      "application/javascript": [
       "\n",
       "            setTimeout(function() {\n",
       "                var nbb_cell_id = 8;\n",
       "                var nbb_unformatted_code = \"def simulate_flips():\\n    flips = np.random.choice([\\\"H\\\", \\\"T\\\"], size=n)\\n    heads = np.sum(flips == \\\"H\\\")\\n    return heads\";\n",
       "                var nbb_formatted_code = \"def simulate_flips():\\n    flips = np.random.choice([\\\"H\\\", \\\"T\\\"], size=n)\\n    heads = np.sum(flips == \\\"H\\\")\\n    return heads\";\n",
       "                var nbb_cells = Jupyter.notebook.get_cells();\n",
       "                for (var i = 0; i < nbb_cells.length; ++i) {\n",
       "                    if (nbb_cells[i].input_prompt_number == nbb_cell_id) {\n",
       "                        if (nbb_cells[i].get_text() == nbb_unformatted_code) {\n",
       "                             nbb_cells[i].set_text(nbb_formatted_code);\n",
       "                        }\n",
       "                        break;\n",
       "                    }\n",
       "                }\n",
       "            }, 500);\n",
       "            "
      ],
      "text/plain": [
       "<IPython.core.display.Javascript object>"
      ]
     },
     "metadata": {},
     "output_type": "display_data"
    }
   ],
   "source": [
    "def simulate_flips():\n",
    "    flips = np.random.choice([\"H\", \"T\"], size=n)\n",
    "    heads = np.sum(flips == \"H\")\n",
    "    return heads"
   ]
  },
  {
   "cell_type": "markdown",
   "id": "3d2be8aa",
   "metadata": {},
   "source": [
    "Each time we call this function, we get the outcome of a simulated experiment."
   ]
  },
  {
   "cell_type": "code",
   "execution_count": 9,
   "id": "a7da09b2",
   "metadata": {},
   "outputs": [
    {
     "data": {
      "text/plain": [
       "126"
      ]
     },
     "execution_count": 9,
     "metadata": {},
     "output_type": "execute_result"
    },
    {
     "data": {
      "application/javascript": [
       "\n",
       "            setTimeout(function() {\n",
       "                var nbb_cell_id = 9;\n",
       "                var nbb_unformatted_code = \"simulate_flips()\";\n",
       "                var nbb_formatted_code = \"simulate_flips()\";\n",
       "                var nbb_cells = Jupyter.notebook.get_cells();\n",
       "                for (var i = 0; i < nbb_cells.length; ++i) {\n",
       "                    if (nbb_cells[i].input_prompt_number == nbb_cell_id) {\n",
       "                        if (nbb_cells[i].get_text() == nbb_unformatted_code) {\n",
       "                             nbb_cells[i].set_text(nbb_formatted_code);\n",
       "                        }\n",
       "                        break;\n",
       "                    }\n",
       "                }\n",
       "            }, 500);\n",
       "            "
      ],
      "text/plain": [
       "<IPython.core.display.Javascript object>"
      ]
     },
     "metadata": {},
     "output_type": "display_data"
    }
   ],
   "source": [
    "simulate_flips()"
   ]
  },
  {
   "cell_type": "markdown",
   "id": "9a8e4bee",
   "metadata": {},
   "source": [
    "The following loop simulates the experiment many times and computes the number of excess heads for each one."
   ]
  },
  {
   "cell_type": "code",
   "execution_count": 10,
   "id": "8e9ddd8d",
   "metadata": {},
   "outputs": [
    {
     "data": {
      "application/javascript": [
       "\n",
       "            setTimeout(function() {\n",
       "                var nbb_cell_id = 10;\n",
       "                var nbb_unformatted_code = \"simulated_stats = [excess_heads(simulate_flips()) for i in range(10001)]\";\n",
       "                var nbb_formatted_code = \"simulated_stats = [excess_heads(simulate_flips()) for i in range(10001)]\";\n",
       "                var nbb_cells = Jupyter.notebook.get_cells();\n",
       "                for (var i = 0; i < nbb_cells.length; ++i) {\n",
       "                    if (nbb_cells[i].input_prompt_number == nbb_cell_id) {\n",
       "                        if (nbb_cells[i].get_text() == nbb_unformatted_code) {\n",
       "                             nbb_cells[i].set_text(nbb_formatted_code);\n",
       "                        }\n",
       "                        break;\n",
       "                    }\n",
       "                }\n",
       "            }, 500);\n",
       "            "
      ],
      "text/plain": [
       "<IPython.core.display.Javascript object>"
      ]
     },
     "metadata": {},
     "output_type": "display_data"
    }
   ],
   "source": [
    "simulated_stats = [excess_heads(simulate_flips()) for i in range(10001)]"
   ]
  },
  {
   "cell_type": "markdown",
   "id": "8a8a0734",
   "metadata": {},
   "source": [
    "The result is a sample from the distribution of excess heads under the assumption that the coin is fair.\n",
    "Here's what the distribution of these values looks like."
   ]
  },
  {
   "cell_type": "code",
   "execution_count": 11,
   "id": "23878b6f",
   "metadata": {},
   "outputs": [
    {
     "data": {
      "image/png": "[encoded data removed]",
      "text/plain": [
       "<Figure size 450x262.5 with 1 Axes>"
      ]
     },
     "metadata": {},
     "output_type": "display_data"
    },
    {
     "data": {
      "application/javascript": [
       "\n",
       "            setTimeout(function() {\n",
       "                var nbb_cell_id = 11;\n",
       "                var nbb_unformatted_code = \"from empiricaldist import Pmf\\n\\npmf_effects = Pmf.from_seq(simulated_stats)\\npmf_effects.bar(alpha=0.5)\\n\\ndecorate(xlabel=\\\"Excess Heads\\\", ylabel=\\\"PMF\\\")\";\n",
       "                var nbb_formatted_code = \"from empiricaldist import Pmf\\n\\npmf_effects = Pmf.from_seq(simulated_stats)\\npmf_effects.bar(alpha=0.5)\\n\\ndecorate(xlabel=\\\"Excess Heads\\\", ylabel=\\\"PMF\\\")\";\n",
       "                var nbb_cells = Jupyter.notebook.get_cells();\n",
       "                for (var i = 0; i < nbb_cells.length; ++i) {\n",
       "                    if (nbb_cells[i].input_prompt_number == nbb_cell_id) {\n",
       "                        if (nbb_cells[i].get_text() == nbb_unformatted_code) {\n",
       "                             nbb_cells[i].set_text(nbb_formatted_code);\n",
       "                        }\n",
       "                        break;\n",
       "                    }\n",
       "                }\n",
       "            }, 500);\n",
       "            "
      ],
      "text/plain": [
       "<IPython.core.display.Javascript object>"
      ]
     },
     "metadata": {},
     "output_type": "display_data"
    }
   ],
   "source": [
    "from empiricaldist import Pmf\n",
    "\n",
    "pmf_effects = Pmf.from_seq(simulated_stats)\n",
    "pmf_effects.bar(alpha=0.5)\n",
    "\n",
    "decorate(xlabel=\"Excess Heads\", ylabel=\"PMF\")"
   ]
  },
  {
   "cell_type": "markdown",
   "id": "f71fbbfd",
   "metadata": {},
   "source": [
    "Values near 0 are the most common.\n",
    "Values greater than 10 and less than -10 are less common.\n",
    "Remembering that in the observed data, there were 15 excess heads, we see that excesses of that magnitude are rare, but not impossible.\n",
    "In this example, the simulated results exceed or equal 15 about 3.5% of the time."
   ]
  },
  {
   "cell_type": "code",
   "execution_count": 12,
   "id": "5f9d5d10",
   "metadata": {},
   "outputs": [
    {
     "data": {
      "text/plain": [
       "3.5096490350964906"
      ]
     },
     "execution_count": 12,
     "metadata": {},
     "output_type": "execute_result"
    },
    {
     "data": {
      "application/javascript": [
       "\n",
       "            setTimeout(function() {\n",
       "                var nbb_cell_id = 12;\n",
       "                var nbb_unformatted_code = \"(np.array(simulated_stats) >= 15).mean() * 100\";\n",
       "                var nbb_formatted_code = \"(np.array(simulated_stats) >= 15).mean() * 100\";\n",
       "                var nbb_cells = Jupyter.notebook.get_cells();\n",
       "                for (var i = 0; i < nbb_cells.length; ++i) {\n",
       "                    if (nbb_cells[i].input_prompt_number == nbb_cell_id) {\n",
       "                        if (nbb_cells[i].get_text() == nbb_unformatted_code) {\n",
       "                             nbb_cells[i].set_text(nbb_formatted_code);\n",
       "                        }\n",
       "                        break;\n",
       "                    }\n",
       "                }\n",
       "            }, 500);\n",
       "            "
      ],
      "text/plain": [
       "<IPython.core.display.Javascript object>"
      ]
     },
     "metadata": {},
     "output_type": "display_data"
    }
   ],
   "source": [
    "(np.array(simulated_stats) >= 15).mean() * 100"
   ]
  },
  {
   "cell_type": "markdown",
   "id": "fb096cc7",
   "metadata": {},
   "source": [
    "And about as often the number of excess heads is less than or equal to -15."
   ]
  },
  {
   "cell_type": "code",
   "execution_count": 13,
   "id": "b4c44fff",
   "metadata": {},
   "outputs": [
    {
     "data": {
      "text/plain": [
       "3.0696930306969303"
      ]
     },
     "execution_count": 13,
     "metadata": {},
     "output_type": "execute_result"
    },
    {
     "data": {
      "application/javascript": [
       "\n",
       "            setTimeout(function() {\n",
       "                var nbb_cell_id = 13;\n",
       "                var nbb_unformatted_code = \"(np.array(simulated_stats) <= -15).mean() * 100\";\n",
       "                var nbb_formatted_code = \"(np.array(simulated_stats) <= -15).mean() * 100\";\n",
       "                var nbb_cells = Jupyter.notebook.get_cells();\n",
       "                for (var i = 0; i < nbb_cells.length; ++i) {\n",
       "                    if (nbb_cells[i].input_prompt_number == nbb_cell_id) {\n",
       "                        if (nbb_cells[i].get_text() == nbb_unformatted_code) {\n",
       "                             nbb_cells[i].set_text(nbb_formatted_code);\n",
       "                        }\n",
       "                        break;\n",
       "                    }\n",
       "                }\n",
       "            }, 500);\n",
       "            "
      ],
      "text/plain": [
       "<IPython.core.display.Javascript object>"
      ]
     },
     "metadata": {},
     "output_type": "display_data"
    }
   ],
   "source": [
    "(np.array(simulated_stats) <= -15).mean() * 100"
   ]
  },
  {
   "cell_type": "markdown",
   "id": "4e2c7107",
   "metadata": {},
   "source": [
    "If the coin is fair, we expect the excess to be 15 or more 3.5% of the time, just by chance.\n",
    "And we expect the the magnitude of the excess, in either direction, to be 15 or more about 7% of the time.\n",
    "\n",
    "In conclusion, an apparent effect of this size is not common, but it is certainly not impossible, even if the coin is fair.\n",
    "On the basis of this experiment, we can't rule out the possibility that the coin is fair.\n",
    "\n",
    "This example demonstrates the logic of statistical hypothesis testing.\n",
    "\n",
    "* We started with an observation, 140 heads out of 250 spins, and the hypothesis that the coin is biased -- that is, that the probability of heads is greater than 50%.\n",
    "\n",
    "* We chose a **test statistic** that quantifies the size of the apparent effect. In this example, the test statistic is the number of excess heads.\n",
    "\n",
    "* We defined a **null hypothesis**, which is a model based on the assumption that the apparent effect is due to chance. In this example, the null hypothesis is that the coin is fair.\n",
    "\n",
    "* The third step is to compute a **p-value**, which is the probability of seeing the apparent effect if the null hypothesis is true. In this example, the p-value is the probability of 15 or more excess heads.\n",
    "\n",
    "The last step is to interpret the result.\n",
    "If the p-value is low, we can conclude that the effect would be unlikely to happen by chance.\n",
    "In this example, the p-value is either 3.5% or 7%, depending on how we define the effect.\n",
    "So the effect is unlikely to happen by chance, but we can't rule out the possibility.\n",
    "\n",
    "All hypothesis tests are based on these elements -- a test statistic, a null hypothesis, and a p-value."
   ]
  },
  {
   "cell_type": "markdown",
   "id": "d0cd3e27",
   "metadata": {},
   "source": [
    "## Testing a Difference in Means\n",
    "\n",
    "In the NSFG data, we saw that the average pregnancy length for first babies is slightly longer than for other babies.\n",
    "Now let's see if that difference could be due to chance.\n",
    "\n"
   ]
  },
  {
   "cell_type": "markdown",
   "id": "19f83bb2",
   "metadata": {
    "tags": [
     "remove-print"
    ]
   },
   "source": [
    "The following cell downloads the data."
   ]
  },
  {
   "cell_type": "code",
   "execution_count": 15,
   "id": "aca382ad",
   "metadata": {
    "tags": [
     "remove-print"
    ]
   },
   "outputs": [
    {
     "data": {
      "application/javascript": [
       "\n",
       "            setTimeout(function() {\n",
       "                var nbb_cell_id = 15;\n",
       "                var nbb_unformatted_code = \"download(\\\"https://github.com/AllenDowney/ThinkStats/raw/v3/nb/nsfg.py\\\")\\ndownload(\\\"https://github.com/AllenDowney/ThinkStats/raw/v3/data/2002FemPreg.dct\\\")\\ndownload(\\\"https://github.com/AllenDowney/ThinkStats/raw/v3/data/2002FemPreg.dat.gz\\\")\";\n",
       "                var nbb_formatted_code = \"download(\\\"https://github.com/AllenDowney/ThinkStats/raw/v3/nb/nsfg.py\\\")\\ndownload(\\\"https://github.com/AllenDowney/ThinkStats/raw/v3/data/2002FemPreg.dct\\\")\\ndownload(\\\"https://github.com/AllenDowney/ThinkStats/raw/v3/data/2002FemPreg.dat.gz\\\")\";\n",
       "                var nbb_cells = Jupyter.notebook.get_cells();\n",
       "                for (var i = 0; i < nbb_cells.length; ++i) {\n",
       "                    if (nbb_cells[i].input_prompt_number == nbb_cell_id) {\n",
       "                        if (nbb_cells[i].get_text() == nbb_unformatted_code) {\n",
       "                             nbb_cells[i].set_text(nbb_formatted_code);\n",
       "                        }\n",
       "                        break;\n",
       "                    }\n",
       "                }\n",
       "            }, 500);\n",
       "            "
      ],
      "text/plain": [
       "<IPython.core.display.Javascript object>"
      ]
     },
     "metadata": {},
     "output_type": "display_data"
    }
   ],
   "source": [
    "download(\"https://github.com/AllenDowney/ThinkStats/raw/v3/nb/nsfg.py\")\n",
    "download(\"https://github.com/AllenDowney/ThinkStats/raw/v3/data/2002FemPreg.dct\")\n",
    "download(\"https://github.com/AllenDowney/ThinkStats/raw/v3/data/2002FemPreg.dat.gz\")"
   ]
  },
  {
   "cell_type": "markdown",
   "id": "0495e1e4",
   "metadata": {},
   "source": [
    "The function `get_nsfg_groups` reads the data, selects live births, and groups live births into first babies and others."
   ]
  },
  {
   "cell_type": "code",
   "execution_count": 16,
   "id": "bbb9b2bd",
   "metadata": {},
   "outputs": [
    {
     "data": {
      "application/javascript": [
       "\n",
       "            setTimeout(function() {\n",
       "                var nbb_cell_id = 16;\n",
       "                var nbb_unformatted_code = \"from nsfg import get_nsfg_groups\\n\\nlive, firsts, others = get_nsfg_groups()\";\n",
       "                var nbb_formatted_code = \"from nsfg import get_nsfg_groups\\n\\nlive, firsts, others = get_nsfg_groups()\";\n",
       "                var nbb_cells = Jupyter.notebook.get_cells();\n",
       "                for (var i = 0; i < nbb_cells.length; ++i) {\n",
       "                    if (nbb_cells[i].input_prompt_number == nbb_cell_id) {\n",
       "                        if (nbb_cells[i].get_text() == nbb_unformatted_code) {\n",
       "                             nbb_cells[i].set_text(nbb_formatted_code);\n",
       "                        }\n",
       "                        break;\n",
       "                    }\n",
       "                }\n",
       "            }, 500);\n",
       "            "
      ],
      "text/plain": [
       "<IPython.core.display.Javascript object>"
      ]
     },
     "metadata": {},
     "output_type": "display_data"
    }
   ],
   "source": [
    "from nsfg import get_nsfg_groups\n",
    "\n",
    "live, firsts, others = get_nsfg_groups()"
   ]
  },
  {
   "cell_type": "markdown",
   "id": "6a99eb55",
   "metadata": {},
   "source": [
    "Now we can select pregnancy lengths, in weeks, for both groups."
   ]
  },
  {
   "cell_type": "code",
   "execution_count": 17,
   "id": "f8038bfb",
   "metadata": {},
   "outputs": [
    {
     "data": {
      "application/javascript": [
       "\n",
       "            setTimeout(function() {\n",
       "                var nbb_cell_id = 17;\n",
       "                var nbb_unformatted_code = \"data = firsts[\\\"prglngth\\\"].values, others[\\\"prglngth\\\"].values\";\n",
       "                var nbb_formatted_code = \"data = firsts[\\\"prglngth\\\"].values, others[\\\"prglngth\\\"].values\";\n",
       "                var nbb_cells = Jupyter.notebook.get_cells();\n",
       "                for (var i = 0; i < nbb_cells.length; ++i) {\n",
       "                    if (nbb_cells[i].input_prompt_number == nbb_cell_id) {\n",
       "                        if (nbb_cells[i].get_text() == nbb_unformatted_code) {\n",
       "                             nbb_cells[i].set_text(nbb_formatted_code);\n",
       "                        }\n",
       "                        break;\n",
       "                    }\n",
       "                }\n",
       "            }, 500);\n",
       "            "
      ],
      "text/plain": [
       "<IPython.core.display.Javascript object>"
      ]
     },
     "metadata": {},
     "output_type": "display_data"
    }
   ],
   "source": [
    "data = firsts[\"prglngth\"].values, others[\"prglngth\"].values"
   ]
  },
  {
   "cell_type": "markdown",
   "id": "22b93fa5",
   "metadata": {},
   "source": [
    "The following function takes the data, as a tuple of two sequences, and computes the difference in means. "
   ]
  },
  {
   "cell_type": "code",
   "execution_count": 18,
   "id": "29e7d525",
   "metadata": {},
   "outputs": [
    {
     "data": {
      "application/javascript": [
       "\n",
       "            setTimeout(function() {\n",
       "                var nbb_cell_id = 18;\n",
       "                var nbb_unformatted_code = \"def diff_means(data):\\n    group1, group2 = data\\n    diff = np.mean(group1) - np.mean(group2)\\n    return np.abs(diff)\";\n",
       "                var nbb_formatted_code = \"def diff_means(data):\\n    group1, group2 = data\\n    diff = np.mean(group1) - np.mean(group2)\\n    return np.abs(diff)\";\n",
       "                var nbb_cells = Jupyter.notebook.get_cells();\n",
       "                for (var i = 0; i < nbb_cells.length; ++i) {\n",
       "                    if (nbb_cells[i].input_prompt_number == nbb_cell_id) {\n",
       "                        if (nbb_cells[i].get_text() == nbb_unformatted_code) {\n",
       "                             nbb_cells[i].set_text(nbb_formatted_code);\n",
       "                        }\n",
       "                        break;\n",
       "                    }\n",
       "                }\n",
       "            }, 500);\n",
       "            "
      ],
      "text/plain": [
       "<IPython.core.display.Javascript object>"
      ]
     },
     "metadata": {},
     "output_type": "display_data"
    }
   ],
   "source": [
    "def diff_means(data):\n",
    "    group1, group2 = data\n",
    "    diff = np.mean(group1) - np.mean(group2)\n",
    "    return np.abs(diff)"
   ]
  },
  {
   "cell_type": "markdown",
   "id": "979f893e",
   "metadata": {},
   "source": [
    "The average pregnancy length is 0.078 weeks longer for first babies."
   ]
  },
  {
   "cell_type": "code",
   "execution_count": 19,
   "id": "389cb8fe",
   "metadata": {},
   "outputs": [
    {
     "data": {
      "text/plain": [
       "0.07803726677754952"
      ]
     },
     "execution_count": 19,
     "metadata": {},
     "output_type": "execute_result"
    },
    {
     "data": {
      "application/javascript": [
       "\n",
       "            setTimeout(function() {\n",
       "                var nbb_cell_id = 19;\n",
       "                var nbb_unformatted_code = \"observed_diff = diff_means(data)\\nobserved_diff\";\n",
       "                var nbb_formatted_code = \"observed_diff = diff_means(data)\\nobserved_diff\";\n",
       "                var nbb_cells = Jupyter.notebook.get_cells();\n",
       "                for (var i = 0; i < nbb_cells.length; ++i) {\n",
       "                    if (nbb_cells[i].input_prompt_number == nbb_cell_id) {\n",
       "                        if (nbb_cells[i].get_text() == nbb_unformatted_code) {\n",
       "                             nbb_cells[i].set_text(nbb_formatted_code);\n",
       "                        }\n",
       "                        break;\n",
       "                    }\n",
       "                }\n",
       "            }, 500);\n",
       "            "
      ],
      "text/plain": [
       "<IPython.core.display.Javascript object>"
      ]
     },
     "metadata": {},
     "output_type": "display_data"
    }
   ],
   "source": [
    "observed_diff = diff_means(data)\n",
    "observed_diff"
   ]
  },
  {
   "cell_type": "markdown",
   "id": "74756058",
   "metadata": {},
   "source": [
    "So the hypothesis we'll test is whether pregnancy length is generally longer for first babies.\n",
    "The null hypothesis is that pregnancy lengths are actually the same for both groups, and the apparent difference is due to chance.\n",
    "If pregnancy lengths are the same for both groups, we can combine the two groups into a single pool."
   ]
  },
  {
   "cell_type": "code",
   "execution_count": 20,
   "id": "533453b7",
   "metadata": {},
   "outputs": [
    {
     "data": {
      "text/plain": [
       "9148"
      ]
     },
     "execution_count": 20,
     "metadata": {},
     "output_type": "execute_result"
    },
    {
     "data": {
      "application/javascript": [
       "\n",
       "            setTimeout(function() {\n",
       "                var nbb_cell_id = 20;\n",
       "                var nbb_unformatted_code = \"pool = np.hstack(data)\\nlen(pool)\";\n",
       "                var nbb_formatted_code = \"pool = np.hstack(data)\\nlen(pool)\";\n",
       "                var nbb_cells = Jupyter.notebook.get_cells();\n",
       "                for (var i = 0; i < nbb_cells.length; ++i) {\n",
       "                    if (nbb_cells[i].input_prompt_number == nbb_cell_id) {\n",
       "                        if (nbb_cells[i].get_text() == nbb_unformatted_code) {\n",
       "                             nbb_cells[i].set_text(nbb_formatted_code);\n",
       "                        }\n",
       "                        break;\n",
       "                    }\n",
       "                }\n",
       "            }, 500);\n",
       "            "
      ],
      "text/plain": [
       "<IPython.core.display.Javascript object>"
      ]
     },
     "metadata": {},
     "output_type": "display_data"
    }
   ],
   "source": [
    "pool = np.hstack(data)\n",
    "len(pool)"
   ]
  },
  {
   "cell_type": "markdown",
   "id": "fab47f04",
   "metadata": {},
   "source": [
    "Now to simulate the experiment, we can shuffle the pool and divide it into two groups with the same sizes as the original."
   ]
  },
  {
   "cell_type": "code",
   "execution_count": 21,
   "id": "213b5f25",
   "metadata": {},
   "outputs": [
    {
     "data": {
      "application/javascript": [
       "\n",
       "            setTimeout(function() {\n",
       "                var nbb_cell_id = 21;\n",
       "                var nbb_unformatted_code = \"def simulate_groups(data):\\n    group1, group2 = data\\n    n, m = len(group1), len(group2)\\n\\n    np.random.shuffle(pool)\\n    return pool[:n], pool[-m:]\";\n",
       "                var nbb_formatted_code = \"def simulate_groups(data):\\n    group1, group2 = data\\n    n, m = len(group1), len(group2)\\n\\n    np.random.shuffle(pool)\\n    return pool[:n], pool[-m:]\";\n",
       "                var nbb_cells = Jupyter.notebook.get_cells();\n",
       "                for (var i = 0; i < nbb_cells.length; ++i) {\n",
       "                    if (nbb_cells[i].input_prompt_number == nbb_cell_id) {\n",
       "                        if (nbb_cells[i].get_text() == nbb_unformatted_code) {\n",
       "                             nbb_cells[i].set_text(nbb_formatted_code);\n",
       "                        }\n",
       "                        break;\n",
       "                    }\n",
       "                }\n",
       "            }, 500);\n",
       "            "
      ],
      "text/plain": [
       "<IPython.core.display.Javascript object>"
      ]
     },
     "metadata": {},
     "output_type": "display_data"
    }
   ],
   "source": [
    "def simulate_groups(data):\n",
    "    group1, group2 = data\n",
    "    n, m = len(group1), len(group2)\n",
    "\n",
    "    np.random.shuffle(pool)\n",
    "    return pool[:n], pool[-m:]"
   ]
  },
  {
   "cell_type": "markdown",
   "id": "244fdf24",
   "metadata": {},
   "source": [
    "Each time we call this function, it returns a tuple of sequences, which we can pass to `diff_means`."
   ]
  },
  {
   "cell_type": "code",
   "execution_count": 22,
   "id": "0156bc24",
   "metadata": {},
   "outputs": [
    {
     "data": {
      "text/plain": [
       "0.016964564951727823"
      ]
     },
     "execution_count": 22,
     "metadata": {},
     "output_type": "execute_result"
    },
    {
     "data": {
      "application/javascript": [
       "\n",
       "            setTimeout(function() {\n",
       "                var nbb_cell_id = 22;\n",
       "                var nbb_unformatted_code = \"diff_means(simulate_groups(data))\";\n",
       "                var nbb_formatted_code = \"diff_means(simulate_groups(data))\";\n",
       "                var nbb_cells = Jupyter.notebook.get_cells();\n",
       "                for (var i = 0; i < nbb_cells.length; ++i) {\n",
       "                    if (nbb_cells[i].input_prompt_number == nbb_cell_id) {\n",
       "                        if (nbb_cells[i].get_text() == nbb_unformatted_code) {\n",
       "                             nbb_cells[i].set_text(nbb_formatted_code);\n",
       "                        }\n",
       "                        break;\n",
       "                    }\n",
       "                }\n",
       "            }, 500);\n",
       "            "
      ],
      "text/plain": [
       "<IPython.core.display.Javascript object>"
      ]
     },
     "metadata": {},
     "output_type": "display_data"
    }
   ],
   "source": [
    "diff_means(simulate_groups(data))"
   ]
  },
  {
   "cell_type": "markdown",
   "id": "6af5f548",
   "metadata": {},
   "source": [
    "The following loop simulated the experiment many times and computes the difference in means for each simulated dataset."
   ]
  },
  {
   "cell_type": "code",
   "execution_count": 23,
   "id": "d9f6f902",
   "metadata": {},
   "outputs": [
    {
     "data": {
      "application/javascript": [
       "\n",
       "            setTimeout(function() {\n",
       "                var nbb_cell_id = 23;\n",
       "                var nbb_unformatted_code = \"simulated_diffs = [diff_means(simulate_groups(data)) for i in range(1001)]\";\n",
       "                var nbb_formatted_code = \"simulated_diffs = [diff_means(simulate_groups(data)) for i in range(1001)]\";\n",
       "                var nbb_cells = Jupyter.notebook.get_cells();\n",
       "                for (var i = 0; i < nbb_cells.length; ++i) {\n",
       "                    if (nbb_cells[i].input_prompt_number == nbb_cell_id) {\n",
       "                        if (nbb_cells[i].get_text() == nbb_unformatted_code) {\n",
       "                             nbb_cells[i].set_text(nbb_formatted_code);\n",
       "                        }\n",
       "                        break;\n",
       "                    }\n",
       "                }\n",
       "            }, 500);\n",
       "            "
      ],
      "text/plain": [
       "<IPython.core.display.Javascript object>"
      ]
     },
     "metadata": {},
     "output_type": "display_data"
    }
   ],
   "source": [
    "simulated_diffs = [diff_means(simulate_groups(data)) for i in range(1001)]"
   ]
  },
  {
   "cell_type": "markdown",
   "id": "c2714eb6",
   "metadata": {},
   "source": [
    "To visualize the results, we'll use the following function, which takes a sample of simulated results and makes a `Pmf` object that approximates its distribution."
   ]
  },
  {
   "cell_type": "code",
   "execution_count": 24,
   "id": "bd54b2db",
   "metadata": {},
   "outputs": [
    {
     "data": {
      "application/javascript": [
       "\n",
       "            setTimeout(function() {\n",
       "                var nbb_cell_id = 24;\n",
       "                var nbb_unformatted_code = \"from scipy.stats import gaussian_kde\\nfrom empiricaldist import Pmf\\n\\n\\ndef make_pmf(sample, low, high):\\n    kde = gaussian_kde(sample)\\n    qs = np.linspace(low, high, 201)\\n    ps = kde(qs)\\n    return Pmf(ps, qs)\";\n",
       "                var nbb_formatted_code = \"from scipy.stats import gaussian_kde\\nfrom empiricaldist import Pmf\\n\\n\\ndef make_pmf(sample, low, high):\\n    kde = gaussian_kde(sample)\\n    qs = np.linspace(low, high, 201)\\n    ps = kde(qs)\\n    return Pmf(ps, qs)\";\n",
       "                var nbb_cells = Jupyter.notebook.get_cells();\n",
       "                for (var i = 0; i < nbb_cells.length; ++i) {\n",
       "                    if (nbb_cells[i].input_prompt_number == nbb_cell_id) {\n",
       "                        if (nbb_cells[i].get_text() == nbb_unformatted_code) {\n",
       "                             nbb_cells[i].set_text(nbb_formatted_code);\n",
       "                        }\n",
       "                        break;\n",
       "                    }\n",
       "                }\n",
       "            }, 500);\n",
       "            "
      ],
      "text/plain": [
       "<IPython.core.display.Javascript object>"
      ]
     },
     "metadata": {},
     "output_type": "display_data"
    }
   ],
   "source": [
    "from scipy.stats import gaussian_kde\n",
    "from empiricaldist import Pmf\n",
    "\n",
    "\n",
    "def make_pmf(sample, low, high):\n",
    "    kde = gaussian_kde(sample)\n",
    "    qs = np.linspace(low, high, 201)\n",
    "    ps = kde(qs)\n",
    "    return Pmf(ps, qs)"
   ]
  },
  {
   "cell_type": "markdown",
   "id": "4c97730e",
   "metadata": {},
   "source": [
    "We'll also use this function, which fills in the tail of the distribution."
   ]
  },
  {
   "cell_type": "code",
   "execution_count": 25,
   "id": "a10aa249",
   "metadata": {},
   "outputs": [
    {
     "data": {
      "application/javascript": [
       "\n",
       "            setTimeout(function() {\n",
       "                var nbb_cell_id = 25;\n",
       "                var nbb_unformatted_code = \"from thinkstats import underride\\n\\n\\ndef fill_tail(pmf, observed, side, **options):\\n    \\\"\\\"\\\"Fill the area under a PMF, right or left of an observed value.\\\"\\\"\\\"\\n    options = underride(options, alpha=0.3)\\n\\n    if side == \\\"right\\\":\\n        condition = pmf.qs >= observed\\n    elif side == \\\"left\\\":\\n        condition = pmf.qs <= observed\\n\\n    series = pmf[condition]\\n    plt.fill_between(series.index, 0, series, **options)\";\n",
       "                var nbb_formatted_code = \"from thinkstats import underride\\n\\n\\ndef fill_tail(pmf, observed, side, **options):\\n    \\\"\\\"\\\"Fill the area under a PMF, right or left of an observed value.\\\"\\\"\\\"\\n    options = underride(options, alpha=0.3)\\n\\n    if side == \\\"right\\\":\\n        condition = pmf.qs >= observed\\n    elif side == \\\"left\\\":\\n        condition = pmf.qs <= observed\\n\\n    series = pmf[condition]\\n    plt.fill_between(series.index, 0, series, **options)\";\n",
       "                var nbb_cells = Jupyter.notebook.get_cells();\n",
       "                for (var i = 0; i < nbb_cells.length; ++i) {\n",
       "                    if (nbb_cells[i].input_prompt_number == nbb_cell_id) {\n",
       "                        if (nbb_cells[i].get_text() == nbb_unformatted_code) {\n",
       "                             nbb_cells[i].set_text(nbb_formatted_code);\n",
       "                        }\n",
       "                        break;\n",
       "                    }\n",
       "                }\n",
       "            }, 500);\n",
       "            "
      ],
      "text/plain": [
       "<IPython.core.display.Javascript object>"
      ]
     },
     "metadata": {},
     "output_type": "display_data"
    }
   ],
   "source": [
    "from thinkstats import underride\n",
    "\n",
    "\n",
    "def fill_tail(pmf, observed, side, **options):\n",
    "    \"\"\"Fill the area under a PMF, right or left of an observed value.\"\"\"\n",
    "    options = underride(options, alpha=0.3)\n",
    "\n",
    "    if side == \"right\":\n",
    "        condition = pmf.qs >= observed\n",
    "    elif side == \"left\":\n",
    "        condition = pmf.qs <= observed\n",
    "\n",
    "    series = pmf[condition]\n",
    "    plt.fill_between(series.index, 0, series, **options)"
   ]
  },
  {
   "cell_type": "markdown",
   "id": "5132a2a4",
   "metadata": {},
   "source": [
    "Here's what the distribution of the simulated results looks like.\n",
    "The shaded region shows the cases where the difference in means under the null hypothesis exceeds the observed difference.\n",
    "The area of this region is the p-value."
   ]
  },
  {
   "cell_type": "code",
   "execution_count": 26,
   "id": "f631723e",
   "metadata": {},
   "outputs": [
    {
     "data": {
      "image/png": "[encoded data removed]",
      "text/plain": [
       "<Figure size 450x262.5 with 1 Axes>"
      ]
     },
     "metadata": {},
     "output_type": "display_data"
    },
    {
     "data": {
      "application/javascript": [
       "\n",
       "            setTimeout(function() {\n",
       "                var nbb_cell_id = 26;\n",
       "                var nbb_unformatted_code = \"pmf = make_pmf(simulated_diffs, 0, 0.2)\\npmf.plot()\\nfill_tail(pmf, observed_diff, \\\"right\\\")\\ndecorate(xlabel=\\\"Absolute difference in means (weeks)\\\", ylabel=\\\"Density\\\")\";\n",
       "                var nbb_formatted_code = \"pmf = make_pmf(simulated_diffs, 0, 0.2)\\npmf.plot()\\nfill_tail(pmf, observed_diff, \\\"right\\\")\\ndecorate(xlabel=\\\"Absolute difference in means (weeks)\\\", ylabel=\\\"Density\\\")\";\n",
       "                var nbb_cells = Jupyter.notebook.get_cells();\n",
       "                for (var i = 0; i < nbb_cells.length; ++i) {\n",
       "                    if (nbb_cells[i].input_prompt_number == nbb_cell_id) {\n",
       "                        if (nbb_cells[i].get_text() == nbb_unformatted_code) {\n",
       "                             nbb_cells[i].set_text(nbb_formatted_code);\n",
       "                        }\n",
       "                        break;\n",
       "                    }\n",
       "                }\n",
       "            }, 500);\n",
       "            "
      ],
      "text/plain": [
       "<IPython.core.display.Javascript object>"
      ]
     },
     "metadata": {},
     "output_type": "display_data"
    }
   ],
   "source": [
    "pmf = make_pmf(simulated_diffs, 0, 0.2)\n",
    "pmf.plot()\n",
    "fill_tail(pmf, observed_diff, \"right\")\n",
    "decorate(xlabel=\"Absolute difference in means (weeks)\", ylabel=\"Density\")"
   ]
  },
  {
   "cell_type": "markdown",
   "id": "9332d42d",
   "metadata": {},
   "source": [
    "The following function computes the p-value, which is the fraction of simulated values that are as big or bigger than the observed value."
   ]
  },
  {
   "cell_type": "code",
   "execution_count": 27,
   "id": "74e7cda1",
   "metadata": {},
   "outputs": [
    {
     "data": {
      "application/javascript": [
       "\n",
       "            setTimeout(function() {\n",
       "                var nbb_cell_id = 27;\n",
       "                var nbb_unformatted_code = \"def compute_p_value(simulated, observed):\\n    \\\"\\\"\\\"Fraction of simulated values as big or bigger than the observed value.\\\"\\\"\\\"\\n    return (np.asarray(simulated) >= observed).mean()\";\n",
       "                var nbb_formatted_code = \"def compute_p_value(simulated, observed):\\n    \\\"\\\"\\\"Fraction of simulated values as big or bigger than the observed value.\\\"\\\"\\\"\\n    return (np.asarray(simulated) >= observed).mean()\";\n",
       "                var nbb_cells = Jupyter.notebook.get_cells();\n",
       "                for (var i = 0; i < nbb_cells.length; ++i) {\n",
       "                    if (nbb_cells[i].input_prompt_number == nbb_cell_id) {\n",
       "                        if (nbb_cells[i].get_text() == nbb_unformatted_code) {\n",
       "                             nbb_cells[i].set_text(nbb_formatted_code);\n",
       "                        }\n",
       "                        break;\n",
       "                    }\n",
       "                }\n",
       "            }, 500);\n",
       "            "
      ],
      "text/plain": [
       "<IPython.core.display.Javascript object>"
      ]
     },
     "metadata": {},
     "output_type": "display_data"
    }
   ],
   "source": [
    "def compute_p_value(simulated, observed):\n",
    "    \"\"\"Fraction of simulated values as big or bigger than the observed value.\"\"\"\n",
    "    return (np.asarray(simulated) >= observed).mean()"
   ]
  },
  {
   "cell_type": "markdown",
   "id": "c8f6d773",
   "metadata": {},
   "source": [
    "In this example, the p-value is almost 16%, which means it is plausible that a difference as big as 0.078 weeks could happen by chance."
   ]
  },
  {
   "cell_type": "code",
   "execution_count": 28,
   "id": "275305f0",
   "metadata": {},
   "outputs": [
    {
     "data": {
      "text/plain": [
       "0.17782217782217782"
      ]
     },
     "execution_count": 28,
     "metadata": {},
     "output_type": "execute_result"
    },
    {
     "data": {
      "application/javascript": [
       "\n",
       "            setTimeout(function() {\n",
       "                var nbb_cell_id = 28;\n",
       "                var nbb_unformatted_code = \"compute_p_value(simulated_diffs, observed_diff)\";\n",
       "                var nbb_formatted_code = \"compute_p_value(simulated_diffs, observed_diff)\";\n",
       "                var nbb_cells = Jupyter.notebook.get_cells();\n",
       "                for (var i = 0; i < nbb_cells.length; ++i) {\n",
       "                    if (nbb_cells[i].input_prompt_number == nbb_cell_id) {\n",
       "                        if (nbb_cells[i].get_text() == nbb_unformatted_code) {\n",
       "                             nbb_cells[i].set_text(nbb_formatted_code);\n",
       "                        }\n",
       "                        break;\n",
       "                    }\n",
       "                }\n",
       "            }, 500);\n",
       "            "
      ],
      "text/plain": [
       "<IPython.core.display.Javascript object>"
      ]
     },
     "metadata": {},
     "output_type": "display_data"
    }
   ],
   "source": [
    "compute_p_value(simulated_diffs, observed_diff)"
   ]
  },
  {
   "cell_type": "markdown",
   "id": "102b66e6",
   "metadata": {},
   "source": [
    "Based on this result, we can't be sure that pregnancy lengths are generally longer for first babies -- it's possible that the difference in this dataset is due to chance.\n",
    "\n",
    "Notice that we've seen the same elements in both examples of hypothesis testing.\n",
    "In this example, the test statistic is the difference in the means.\n",
    "The null hypothesis is that the distribution of pregnancy lengths is actually the same in both groups.\n",
    "We modeled the null hypothesis by combining the data from both groups into a single pool, shuffling the pool, and splitting it into two groups with the same sizes as the originals.\n",
    "This process is called **permutation**, which is another word for shuffling.\n",
    "\n",
    "A strength of this computational approach to hypothesis testing is that we can combine these elements to test different statistics."
   ]
  },
  {
   "cell_type": "markdown",
   "id": "cd343faf",
   "metadata": {},
   "source": [
    "## Other Test Statistics\n",
    "\n",
    "We might wonder whether pregnancy lengths for first babies are not just longer, but maybe more variable.\n",
    "To test that hypothesis, we can use as a test statistic the difference between the standard deviations of the two groups.\n",
    "The following function computes this test statistic."
   ]
  },
  {
   "cell_type": "code",
   "execution_count": 29,
   "id": "bf26e145",
   "metadata": {},
   "outputs": [
    {
     "data": {
      "application/javascript": [
       "\n",
       "            setTimeout(function() {\n",
       "                var nbb_cell_id = 29;\n",
       "                var nbb_unformatted_code = \"def diff_stds(data):\\n    group1, group2 = data\\n    diff = np.std(group1) - np.std(group2)\\n    return np.abs(diff)\";\n",
       "                var nbb_formatted_code = \"def diff_stds(data):\\n    group1, group2 = data\\n    diff = np.std(group1) - np.std(group2)\\n    return np.abs(diff)\";\n",
       "                var nbb_cells = Jupyter.notebook.get_cells();\n",
       "                for (var i = 0; i < nbb_cells.length; ++i) {\n",
       "                    if (nbb_cells[i].input_prompt_number == nbb_cell_id) {\n",
       "                        if (nbb_cells[i].get_text() == nbb_unformatted_code) {\n",
       "                             nbb_cells[i].set_text(nbb_formatted_code);\n",
       "                        }\n",
       "                        break;\n",
       "                    }\n",
       "                }\n",
       "            }, 500);\n",
       "            "
      ],
      "text/plain": [
       "<IPython.core.display.Javascript object>"
      ]
     },
     "metadata": {},
     "output_type": "display_data"
    }
   ],
   "source": [
    "def diff_stds(data):\n",
    "    group1, group2 = data\n",
    "    diff = np.std(group1) - np.std(group2)\n",
    "    return np.abs(diff)"
   ]
  },
  {
   "cell_type": "markdown",
   "id": "6113fe16",
   "metadata": {},
   "source": [
    "In the NSFG dataset, the difference in standard deviations is about 0.18, pregnancy lengths for first babies are apparently more variable."
   ]
  },
  {
   "cell_type": "code",
   "execution_count": 30,
   "id": "7e239d63",
   "metadata": {},
   "outputs": [
    {
     "data": {
      "text/plain": [
       "0.17600895913991677"
      ]
     },
     "execution_count": 30,
     "metadata": {},
     "output_type": "execute_result"
    },
    {
     "data": {
      "application/javascript": [
       "\n",
       "            setTimeout(function() {\n",
       "                var nbb_cell_id = 30;\n",
       "                var nbb_unformatted_code = \"observed_diff = diff_stds(data)\\nobserved_diff\";\n",
       "                var nbb_formatted_code = \"observed_diff = diff_stds(data)\\nobserved_diff\";\n",
       "                var nbb_cells = Jupyter.notebook.get_cells();\n",
       "                for (var i = 0; i < nbb_cells.length; ++i) {\n",
       "                    if (nbb_cells[i].input_prompt_number == nbb_cell_id) {\n",
       "                        if (nbb_cells[i].get_text() == nbb_unformatted_code) {\n",
       "                             nbb_cells[i].set_text(nbb_formatted_code);\n",
       "                        }\n",
       "                        break;\n",
       "                    }\n",
       "                }\n",
       "            }, 500);\n",
       "            "
      ],
      "text/plain": [
       "<IPython.core.display.Javascript object>"
      ]
     },
     "metadata": {},
     "output_type": "display_data"
    }
   ],
   "source": [
    "observed_diff = diff_stds(data)\n",
    "observed_diff"
   ]
  },
  {
   "cell_type": "markdown",
   "id": "536705f5",
   "metadata": {},
   "source": [
    "To see whether this difference might be due to chance, we can use permutation again.\n",
    "The following loop simulates the null hypothesis many times and computes the difference in standard deviation for each simulated dataset."
   ]
  },
  {
   "cell_type": "code",
   "execution_count": 31,
   "id": "77cb5b1a",
   "metadata": {},
   "outputs": [
    {
     "data": {
      "application/javascript": [
       "\n",
       "            setTimeout(function() {\n",
       "                var nbb_cell_id = 31;\n",
       "                var nbb_unformatted_code = \"simulated_diffs = [diff_stds(simulate_groups(data)) for i in range(1001)]\";\n",
       "                var nbb_formatted_code = \"simulated_diffs = [diff_stds(simulate_groups(data)) for i in range(1001)]\";\n",
       "                var nbb_cells = Jupyter.notebook.get_cells();\n",
       "                for (var i = 0; i < nbb_cells.length; ++i) {\n",
       "                    if (nbb_cells[i].input_prompt_number == nbb_cell_id) {\n",
       "                        if (nbb_cells[i].get_text() == nbb_unformatted_code) {\n",
       "                             nbb_cells[i].set_text(nbb_formatted_code);\n",
       "                        }\n",
       "                        break;\n",
       "                    }\n",
       "                }\n",
       "            }, 500);\n",
       "            "
      ],
      "text/plain": [
       "<IPython.core.display.Javascript object>"
      ]
     },
     "metadata": {},
     "output_type": "display_data"
    }
   ],
   "source": [
    "simulated_diffs = [diff_stds(simulate_groups(data)) for i in range(1001)]"
   ]
  },
  {
   "cell_type": "markdown",
   "id": "1fab987e",
   "metadata": {},
   "source": [
    "Here's what the distribution of the results looks like.\n",
    "Again, the shaded region shows where the test statistic under the null hypothesis exceeds the observed difference."
   ]
  },
  {
   "cell_type": "code",
   "execution_count": 32,
   "id": "1ef21386",
   "metadata": {},
   "outputs": [
    {
     "data": {
      "image/png": "[encoded data removed]",
      "text/plain": [
       "<Figure size 450x262.5 with 1 Axes>"
      ]
     },
     "metadata": {},
     "output_type": "display_data"
    },
    {
     "data": {
      "application/javascript": [
       "\n",
       "            setTimeout(function() {\n",
       "                var nbb_cell_id = 32;\n",
       "                var nbb_unformatted_code = \"pmf = make_pmf(simulated_diffs, 0, 0.5)\\npmf.plot()\\nfill_tail(pmf, observed_diff, \\\"right\\\")\\ndecorate(xlabel=\\\"Absolute difference in standard deviation (weeks)\\\", ylabel=\\\"Density\\\")\";\n",
       "                var nbb_formatted_code = \"pmf = make_pmf(simulated_diffs, 0, 0.5)\\npmf.plot()\\nfill_tail(pmf, observed_diff, \\\"right\\\")\\ndecorate(xlabel=\\\"Absolute difference in standard deviation (weeks)\\\", ylabel=\\\"Density\\\")\";\n",
       "                var nbb_cells = Jupyter.notebook.get_cells();\n",
       "                for (var i = 0; i < nbb_cells.length; ++i) {\n",
       "                    if (nbb_cells[i].input_prompt_number == nbb_cell_id) {\n",
       "                        if (nbb_cells[i].get_text() == nbb_unformatted_code) {\n",
       "                             nbb_cells[i].set_text(nbb_formatted_code);\n",
       "                        }\n",
       "                        break;\n",
       "                    }\n",
       "                }\n",
       "            }, 500);\n",
       "            "
      ],
      "text/plain": [
       "<IPython.core.display.Javascript object>"
      ]
     },
     "metadata": {},
     "output_type": "display_data"
    }
   ],
   "source": [
    "pmf = make_pmf(simulated_diffs, 0, 0.5)\n",
    "pmf.plot()\n",
    "fill_tail(pmf, observed_diff, \"right\")\n",
    "decorate(xlabel=\"Absolute difference in standard deviation (weeks)\", ylabel=\"Density\")"
   ]
  },
  {
   "cell_type": "markdown",
   "id": "a9ca94ff",
   "metadata": {},
   "source": [
    "We can estimate the area of this region by computing the fraction of results that are as big or bigger than the observed difference."
   ]
  },
  {
   "cell_type": "code",
   "execution_count": 33,
   "id": "ef1aa33e",
   "metadata": {},
   "outputs": [
    {
     "data": {
      "text/plain": [
       "0.1798201798201798"
      ]
     },
     "execution_count": 33,
     "metadata": {},
     "output_type": "execute_result"
    },
    {
     "data": {
      "application/javascript": [
       "\n",
       "            setTimeout(function() {\n",
       "                var nbb_cell_id = 33;\n",
       "                var nbb_unformatted_code = \"compute_p_value(simulated_diffs, observed_diff)\";\n",
       "                var nbb_formatted_code = \"compute_p_value(simulated_diffs, observed_diff)\";\n",
       "                var nbb_cells = Jupyter.notebook.get_cells();\n",
       "                for (var i = 0; i < nbb_cells.length; ++i) {\n",
       "                    if (nbb_cells[i].input_prompt_number == nbb_cell_id) {\n",
       "                        if (nbb_cells[i].get_text() == nbb_unformatted_code) {\n",
       "                             nbb_cells[i].set_text(nbb_formatted_code);\n",
       "                        }\n",
       "                        break;\n",
       "                    }\n",
       "                }\n",
       "            }, 500);\n",
       "            "
      ],
      "text/plain": [
       "<IPython.core.display.Javascript object>"
      ]
     },
     "metadata": {},
     "output_type": "display_data"
    }
   ],
   "source": [
    "compute_p_value(simulated_diffs, observed_diff)"
   ]
  },
  {
   "cell_type": "markdown",
   "id": "8112432b",
   "metadata": {},
   "source": [
    "Again, it is plausible that we could see a difference this big even if the two groups are the same.\n",
    "So we can't be sure that pregnancy lengths are generally more variable for first babies -- the difference we see in this dataset could be due to chance."
   ]
  },
  {
   "cell_type": "markdown",
   "id": "7efb6d21",
   "metadata": {},
   "source": [
    "## Testing a Correlation\n",
    "\n",
    "We can use the same framework to test correlations.\n",
    "For example, in the NSFG data set, there is a correlation between birth weight and mother's age -- older mothers have heavier babies, on average.\n",
    "But could this apparent effect be due to chance?\n",
    "\n",
    "To find out, we'll start by preparing the data.\n",
    "From live births, we'll select cases where the age of the mother and birth weight are known."
   ]
  },
  {
   "cell_type": "code",
   "execution_count": 34,
   "id": "b4c66a66",
   "metadata": {},
   "outputs": [
    {
     "data": {
      "text/plain": [
       "(9038, 244)"
      ]
     },
     "execution_count": 34,
     "metadata": {},
     "output_type": "execute_result"
    },
    {
     "data": {
      "application/javascript": [
       "\n",
       "            setTimeout(function() {\n",
       "                var nbb_cell_id = 34;\n",
       "                var nbb_unformatted_code = \"subset = live.dropna(subset=[\\\"agepreg\\\", \\\"birthwgt_lb\\\", \\\"birthwgt_oz\\\"])\\nsubset.shape\";\n",
       "                var nbb_formatted_code = \"subset = live.dropna(subset=[\\\"agepreg\\\", \\\"birthwgt_lb\\\", \\\"birthwgt_oz\\\"])\\nsubset.shape\";\n",
       "                var nbb_cells = Jupyter.notebook.get_cells();\n",
       "                for (var i = 0; i < nbb_cells.length; ++i) {\n",
       "                    if (nbb_cells[i].input_prompt_number == nbb_cell_id) {\n",
       "                        if (nbb_cells[i].get_text() == nbb_unformatted_code) {\n",
       "                             nbb_cells[i].set_text(nbb_formatted_code);\n",
       "                        }\n",
       "                        break;\n",
       "                    }\n",
       "                }\n",
       "            }, 500);\n",
       "            "
      ],
      "text/plain": [
       "<IPython.core.display.Javascript object>"
      ]
     },
     "metadata": {},
     "output_type": "display_data"
    }
   ],
   "source": [
    "subset = live.dropna(subset=[\"agepreg\", \"birthwgt_lb\", \"birthwgt_oz\"])\n",
    "subset.shape"
   ]
  },
  {
   "cell_type": "markdown",
   "id": "de677813",
   "metadata": {},
   "source": [
    "Then we'll select the relevant columns."
   ]
  },
  {
   "cell_type": "code",
   "execution_count": 35,
   "id": "5dc70bad",
   "metadata": {},
   "outputs": [
    {
     "data": {
      "application/javascript": [
       "\n",
       "            setTimeout(function() {\n",
       "                var nbb_cell_id = 35;\n",
       "                var nbb_unformatted_code = \"xs = subset[\\\"agepreg\\\"]\";\n",
       "                var nbb_formatted_code = \"xs = subset[\\\"agepreg\\\"]\";\n",
       "                var nbb_cells = Jupyter.notebook.get_cells();\n",
       "                for (var i = 0; i < nbb_cells.length; ++i) {\n",
       "                    if (nbb_cells[i].input_prompt_number == nbb_cell_id) {\n",
       "                        if (nbb_cells[i].get_text() == nbb_unformatted_code) {\n",
       "                             nbb_cells[i].set_text(nbb_formatted_code);\n",
       "                        }\n",
       "                        break;\n",
       "                    }\n",
       "                }\n",
       "            }, 500);\n",
       "            "
      ],
      "text/plain": [
       "<IPython.core.display.Javascript object>"
      ]
     },
     "metadata": {},
     "output_type": "display_data"
    }
   ],
   "source": [
    "xs = subset[\"agepreg\"]"
   ]
  },
  {
   "cell_type": "code",
   "execution_count": 36,
   "id": "391c85d7",
   "metadata": {},
   "outputs": [
    {
     "data": {
      "application/javascript": [
       "\n",
       "            setTimeout(function() {\n",
       "                var nbb_cell_id = 36;\n",
       "                var nbb_unformatted_code = \"ys = subset[\\\"birthwgt_lb\\\"] + subset[\\\"birthwgt_oz\\\"] / 16\";\n",
       "                var nbb_formatted_code = \"ys = subset[\\\"birthwgt_lb\\\"] + subset[\\\"birthwgt_oz\\\"] / 16\";\n",
       "                var nbb_cells = Jupyter.notebook.get_cells();\n",
       "                for (var i = 0; i < nbb_cells.length; ++i) {\n",
       "                    if (nbb_cells[i].input_prompt_number == nbb_cell_id) {\n",
       "                        if (nbb_cells[i].get_text() == nbb_unformatted_code) {\n",
       "                             nbb_cells[i].set_text(nbb_formatted_code);\n",
       "                        }\n",
       "                        break;\n",
       "                    }\n",
       "                }\n",
       "            }, 500);\n",
       "            "
      ],
      "text/plain": [
       "<IPython.core.display.Javascript object>"
      ]
     },
     "metadata": {},
     "output_type": "display_data"
    }
   ],
   "source": [
    "ys = subset[\"birthwgt_lb\"] + subset[\"birthwgt_oz\"] / 16"
   ]
  },
  {
   "cell_type": "markdown",
   "id": "b157bccb",
   "metadata": {},
   "source": [
    "The following function takes a tuple of `xs` and `ys` and computes the magnitude of the correlation, positive or negative."
   ]
  },
  {
   "cell_type": "code",
   "execution_count": 37,
   "id": "686a44fe",
   "metadata": {},
   "outputs": [
    {
     "data": {
      "application/javascript": [
       "\n",
       "            setTimeout(function() {\n",
       "                var nbb_cell_id = 37;\n",
       "                var nbb_unformatted_code = \"def correlation(data):\\n    xs, ys = data\\n    corr = np.corrcoef(xs, ys)[0, 1]\\n    return np.abs(corr)\";\n",
       "                var nbb_formatted_code = \"def correlation(data):\\n    xs, ys = data\\n    corr = np.corrcoef(xs, ys)[0, 1]\\n    return np.abs(corr)\";\n",
       "                var nbb_cells = Jupyter.notebook.get_cells();\n",
       "                for (var i = 0; i < nbb_cells.length; ++i) {\n",
       "                    if (nbb_cells[i].input_prompt_number == nbb_cell_id) {\n",
       "                        if (nbb_cells[i].get_text() == nbb_unformatted_code) {\n",
       "                             nbb_cells[i].set_text(nbb_formatted_code);\n",
       "                        }\n",
       "                        break;\n",
       "                    }\n",
       "                }\n",
       "            }, 500);\n",
       "            "
      ],
      "text/plain": [
       "<IPython.core.display.Javascript object>"
      ]
     },
     "metadata": {},
     "output_type": "display_data"
    }
   ],
   "source": [
    "def correlation(data):\n",
    "    xs, ys = data\n",
    "    corr = np.corrcoef(xs, ys)[0, 1]\n",
    "    return np.abs(corr)"
   ]
  },
  {
   "cell_type": "markdown",
   "id": "2a9eaf12",
   "metadata": {},
   "source": [
    "In the NSFG dataset, the correlation is about 0.07."
   ]
  },
  {
   "cell_type": "code",
   "execution_count": 38,
   "id": "3be4c743",
   "metadata": {},
   "outputs": [
    {
     "data": {
      "text/plain": [
       "0.0688339703541091"
      ]
     },
     "execution_count": 38,
     "metadata": {},
     "output_type": "execute_result"
    },
    {
     "data": {
      "application/javascript": [
       "\n",
       "            setTimeout(function() {\n",
       "                var nbb_cell_id = 38;\n",
       "                var nbb_unformatted_code = \"data = xs, ys\\nobserved_corr = correlation(data)\\nobserved_corr\";\n",
       "                var nbb_formatted_code = \"data = xs, ys\\nobserved_corr = correlation(data)\\nobserved_corr\";\n",
       "                var nbb_cells = Jupyter.notebook.get_cells();\n",
       "                for (var i = 0; i < nbb_cells.length; ++i) {\n",
       "                    if (nbb_cells[i].input_prompt_number == nbb_cell_id) {\n",
       "                        if (nbb_cells[i].get_text() == nbb_unformatted_code) {\n",
       "                             nbb_cells[i].set_text(nbb_formatted_code);\n",
       "                        }\n",
       "                        break;\n",
       "                    }\n",
       "                }\n",
       "            }, 500);\n",
       "            "
      ],
      "text/plain": [
       "<IPython.core.display.Javascript object>"
      ]
     },
     "metadata": {},
     "output_type": "display_data"
    }
   ],
   "source": [
    "data = xs, ys\n",
    "observed_corr = correlation(data)\n",
    "observed_corr"
   ]
  },
  {
   "cell_type": "markdown",
   "id": "94504de1",
   "metadata": {},
   "source": [
    "The null hypothesis is that there is no correlation between mother's age and birth weight.\n",
    "By shuffling the observed values, we can simulate a world where the distributions of age and birth weight are the same, but where the variables are unrelated.\n",
    "\n",
    "The following function takes a tuple of `xs` and `ys`, shuffles `xs` and returns a tuple containing the shuffled `xs` and the original `ys`.\n",
    "We could have shuffle the `ys` instead, or shuffled both.\n",
    "Any of those variations would work just as well."
   ]
  },
  {
   "cell_type": "code",
   "execution_count": 39,
   "id": "8f8fdc2f",
   "metadata": {},
   "outputs": [
    {
     "data": {
      "application/javascript": [
       "\n",
       "            setTimeout(function() {\n",
       "                var nbb_cell_id = 39;\n",
       "                var nbb_unformatted_code = \"def permute(data):\\n    xs, ys = data\\n    new_xs = xs.values.copy()\\n    np.random.shuffle(new_xs)\\n    return new_xs, ys\";\n",
       "                var nbb_formatted_code = \"def permute(data):\\n    xs, ys = data\\n    new_xs = xs.values.copy()\\n    np.random.shuffle(new_xs)\\n    return new_xs, ys\";\n",
       "                var nbb_cells = Jupyter.notebook.get_cells();\n",
       "                for (var i = 0; i < nbb_cells.length; ++i) {\n",
       "                    if (nbb_cells[i].input_prompt_number == nbb_cell_id) {\n",
       "                        if (nbb_cells[i].get_text() == nbb_unformatted_code) {\n",
       "                             nbb_cells[i].set_text(nbb_formatted_code);\n",
       "                        }\n",
       "                        break;\n",
       "                    }\n",
       "                }\n",
       "            }, 500);\n",
       "            "
      ],
      "text/plain": [
       "<IPython.core.display.Javascript object>"
      ]
     },
     "metadata": {},
     "output_type": "display_data"
    }
   ],
   "source": [
    "def permute(data):\n",
    "    xs, ys = data\n",
    "    new_xs = xs.values.copy()\n",
    "    np.random.shuffle(new_xs)\n",
    "    return new_xs, ys"
   ]
  },
  {
   "cell_type": "markdown",
   "id": "ba2e93ab",
   "metadata": {},
   "source": [
    "The correlation of the shuffled values is usually close to 0."
   ]
  },
  {
   "cell_type": "code",
   "execution_count": 40,
   "id": "d539d4e5",
   "metadata": {},
   "outputs": [
    {
     "data": {
      "text/plain": [
       "0.013463207296077792"
      ]
     },
     "execution_count": 40,
     "metadata": {},
     "output_type": "execute_result"
    },
    {
     "data": {
      "application/javascript": [
       "\n",
       "            setTimeout(function() {\n",
       "                var nbb_cell_id = 40;\n",
       "                var nbb_unformatted_code = \"correlation(permute(data))\";\n",
       "                var nbb_formatted_code = \"correlation(permute(data))\";\n",
       "                var nbb_cells = Jupyter.notebook.get_cells();\n",
       "                for (var i = 0; i < nbb_cells.length; ++i) {\n",
       "                    if (nbb_cells[i].input_prompt_number == nbb_cell_id) {\n",
       "                        if (nbb_cells[i].get_text() == nbb_unformatted_code) {\n",
       "                             nbb_cells[i].set_text(nbb_formatted_code);\n",
       "                        }\n",
       "                        break;\n",
       "                    }\n",
       "                }\n",
       "            }, 500);\n",
       "            "
      ],
      "text/plain": [
       "<IPython.core.display.Javascript object>"
      ]
     },
     "metadata": {},
     "output_type": "display_data"
    }
   ],
   "source": [
    "correlation(permute(data))"
   ]
  },
  {
   "cell_type": "markdown",
   "id": "2630c347",
   "metadata": {},
   "source": [
    "The following loop generates many shuffled datasets and computes the correlation of each one."
   ]
  },
  {
   "cell_type": "code",
   "execution_count": 41,
   "id": "4dd4066f",
   "metadata": {},
   "outputs": [
    {
     "data": {
      "application/javascript": [
       "\n",
       "            setTimeout(function() {\n",
       "                var nbb_cell_id = 41;\n",
       "                var nbb_unformatted_code = \"simulated_corrs = [correlation(permute(data)) for i in range(1001)]\";\n",
       "                var nbb_formatted_code = \"simulated_corrs = [correlation(permute(data)) for i in range(1001)]\";\n",
       "                var nbb_cells = Jupyter.notebook.get_cells();\n",
       "                for (var i = 0; i < nbb_cells.length; ++i) {\n",
       "                    if (nbb_cells[i].input_prompt_number == nbb_cell_id) {\n",
       "                        if (nbb_cells[i].get_text() == nbb_unformatted_code) {\n",
       "                             nbb_cells[i].set_text(nbb_formatted_code);\n",
       "                        }\n",
       "                        break;\n",
       "                    }\n",
       "                }\n",
       "            }, 500);\n",
       "            "
      ],
      "text/plain": [
       "<IPython.core.display.Javascript object>"
      ]
     },
     "metadata": {},
     "output_type": "display_data"
    }
   ],
   "source": [
    "simulated_corrs = [correlation(permute(data)) for i in range(1001)]"
   ]
  },
  {
   "cell_type": "markdown",
   "id": "4d2fbbd9",
   "metadata": {},
   "source": [
    "Here's what the distribution of the results looks like.\n",
    "The vertical dotted line shows the observed correlation."
   ]
  },
  {
   "cell_type": "code",
   "execution_count": 42,
   "id": "d3ed9d0b",
   "metadata": {},
   "outputs": [
    {
     "data": {
      "image/png": "[encoded data removed]",
      "text/plain": [
       "<Figure size 450x262.5 with 1 Axes>"
      ]
     },
     "metadata": {},
     "output_type": "display_data"
    },
    {
     "data": {
      "application/javascript": [
       "\n",
       "            setTimeout(function() {\n",
       "                var nbb_cell_id = 42;\n",
       "                var nbb_unformatted_code = \"pmf = make_pmf(simulated_corrs, 0, 0.07)\\npmf.plot()\\nplt.axvline(observed_corr, ls=\\\":\\\")\\ndecorate(xlabel=\\\"Correlation\\\", ylabel=\\\"Density\\\")\";\n",
       "                var nbb_formatted_code = \"pmf = make_pmf(simulated_corrs, 0, 0.07)\\npmf.plot()\\nplt.axvline(observed_corr, ls=\\\":\\\")\\ndecorate(xlabel=\\\"Correlation\\\", ylabel=\\\"Density\\\")\";\n",
       "                var nbb_cells = Jupyter.notebook.get_cells();\n",
       "                for (var i = 0; i < nbb_cells.length; ++i) {\n",
       "                    if (nbb_cells[i].input_prompt_number == nbb_cell_id) {\n",
       "                        if (nbb_cells[i].get_text() == nbb_unformatted_code) {\n",
       "                             nbb_cells[i].set_text(nbb_formatted_code);\n",
       "                        }\n",
       "                        break;\n",
       "                    }\n",
       "                }\n",
       "            }, 500);\n",
       "            "
      ],
      "text/plain": [
       "<IPython.core.display.Javascript object>"
      ]
     },
     "metadata": {},
     "output_type": "display_data"
    }
   ],
   "source": [
    "pmf = make_pmf(simulated_corrs, 0, 0.07)\n",
    "pmf.plot()\n",
    "plt.axvline(observed_corr, ls=\":\")\n",
    "decorate(xlabel=\"Correlation\", ylabel=\"Density\")"
   ]
  },
  {
   "cell_type": "markdown",
   "id": "546bb60a",
   "metadata": {},
   "source": [
    "We can see that the observed correlation is in the tail of the distribution, with no visible area under the curve.\n",
    "If we try to compute a p-value, the result is 0, indicating that the correlation in the shuffled data did not exceed the observed value in any of the simulations."
   ]
  },
  {
   "cell_type": "code",
   "execution_count": 43,
   "id": "401168b5",
   "metadata": {},
   "outputs": [
    {
     "data": {
      "text/plain": [
       "0.0"
      ]
     },
     "execution_count": 43,
     "metadata": {},
     "output_type": "execute_result"
    },
    {
     "data": {
      "application/javascript": [
       "\n",
       "            setTimeout(function() {\n",
       "                var nbb_cell_id = 43;\n",
       "                var nbb_unformatted_code = \"compute_p_value(simulated_corrs, observed_corr)\";\n",
       "                var nbb_formatted_code = \"compute_p_value(simulated_corrs, observed_corr)\";\n",
       "                var nbb_cells = Jupyter.notebook.get_cells();\n",
       "                for (var i = 0; i < nbb_cells.length; ++i) {\n",
       "                    if (nbb_cells[i].input_prompt_number == nbb_cell_id) {\n",
       "                        if (nbb_cells[i].get_text() == nbb_unformatted_code) {\n",
       "                             nbb_cells[i].set_text(nbb_formatted_code);\n",
       "                        }\n",
       "                        break;\n",
       "                    }\n",
       "                }\n",
       "            }, 500);\n",
       "            "
      ],
      "text/plain": [
       "<IPython.core.display.Javascript object>"
      ]
     },
     "metadata": {},
     "output_type": "display_data"
    }
   ],
   "source": [
    "compute_p_value(simulated_corrs, observed_corr)"
   ]
  },
  {
   "cell_type": "markdown",
   "id": "cede1136",
   "metadata": {},
   "source": [
    "The actual p-value is not exactly zero -- it is possible for the correlation of the shuffled data to exceed the observed value -- but it is very unlikely.\n",
    "\n",
    "When the p-value is small, traditionally less than 0.05, we can say that the result is **statistically significant**.\n",
    "But this way of interpreting p-values has always been problematic, and it is slowly becoming less widely used.\n",
    "\n",
    "One problem is that the traditional threshold is arbitrary and not appropriate for all applications.\n",
    "Another problem is that this use of \"significant\" is misleading because it suggests that the effect is important in practice.\n",
    "The correlation between mother's age and birth weight is a good example -- it is statistically significant, but so small that it is not important.\n",
    "\n",
    "An alternative is to interpret p-values qualitatively.\n",
    "\n",
    "* If a p-value is large, it is plausible that the apparent effect could happen by chance.\n",
    "\n",
    "* If the p-value is small, we can often rule out the possibility that the effect is due to chance -- but we should remember that it could still be due to non-representative sampling or measurement errors.\n"
   ]
  },
  {
   "cell_type": "markdown",
   "id": "e9934be2",
   "metadata": {},
   "source": [
    "## Testing Proportions\n",
    "\n",
    "As a final example, let's consider a case where the choice of the test statistic takes some thought.\n",
    "Suppose you run a casino and you suspect that a customer is using a crooked die -- that is, one that has been modified to make one of the faces more likely than the others.\n",
    "You apprehend the alleged cheater and confiscate the die, but now you have to prove that it is crooked.\n",
    "You roll the die 60 times and record the frequency of each outcome from 1 to 6.\n",
    "Here are the results in a `Hist` object."
   ]
  },
  {
   "cell_type": "code",
   "execution_count": 64,
   "id": "20912051",
   "metadata": {},
   "outputs": [
    {
     "data": {
      "text/html": [
       "<div>\n",
       "<style scoped>\n",
       "    .dataframe tbody tr th:only-of-type {\n",
       "        vertical-align: middle;\n",
       "    }\n",
       "\n",
       "    .dataframe tbody tr th {\n",
       "        vertical-align: top;\n",
       "    }\n",
       "\n",
       "    .dataframe thead th {\n",
       "        text-align: right;\n",
       "    }\n",
       "</style>\n",
       "<table border=\"1\" class=\"dataframe\">\n",
       "  <thead>\n",
       "    <tr style=\"text-align: right;\">\n",
       "      <th></th>\n",
       "      <th>freqs</th>\n",
       "    </tr>\n",
       "    <tr>\n",
       "      <th>outcome</th>\n",
       "      <th></th>\n",
       "    </tr>\n",
       "  </thead>\n",
       "  <tbody>\n",
       "    <tr>\n",
       "      <th>1</th>\n",
       "      <td>8</td>\n",
       "    </tr>\n",
       "    <tr>\n",
       "      <th>2</th>\n",
       "      <td>9</td>\n",
       "    </tr>\n",
       "    <tr>\n",
       "      <th>3</th>\n",
       "      <td>19</td>\n",
       "    </tr>\n",
       "    <tr>\n",
       "      <th>4</th>\n",
       "      <td>5</td>\n",
       "    </tr>\n",
       "    <tr>\n",
       "      <th>5</th>\n",
       "      <td>8</td>\n",
       "    </tr>\n",
       "    <tr>\n",
       "      <th>6</th>\n",
       "      <td>11</td>\n",
       "    </tr>\n",
       "  </tbody>\n",
       "</table>\n",
       "</div>"
      ],
      "text/plain": [
       "outcome\n",
       "1     8\n",
       "2     9\n",
       "3    19\n",
       "4     5\n",
       "5     8\n",
       "6    11\n",
       "dtype: int64"
      ]
     },
     "execution_count": 64,
     "metadata": {},
     "output_type": "execute_result"
    },
    {
     "data": {
      "application/javascript": [
       "\n",
       "            setTimeout(function() {\n",
       "                var nbb_cell_id = 64;\n",
       "                var nbb_unformatted_code = \"from empiricaldist import Hist\\n\\nqs = np.arange(1, 7)\\nfreqs = [8, 9, 19, 5, 8, 11]\\nobserved = Hist(freqs, qs)\\nobserved.index.name = \\\"outcome\\\"\\nobserved\";\n",
       "                var nbb_formatted_code = \"from empiricaldist import Hist\\n\\nqs = np.arange(1, 7)\\nfreqs = [8, 9, 19, 5, 8, 11]\\nobserved = Hist(freqs, qs)\\nobserved.index.name = \\\"outcome\\\"\\nobserved\";\n",
       "                var nbb_cells = Jupyter.notebook.get_cells();\n",
       "                for (var i = 0; i < nbb_cells.length; ++i) {\n",
       "                    if (nbb_cells[i].input_prompt_number == nbb_cell_id) {\n",
       "                        if (nbb_cells[i].get_text() == nbb_unformatted_code) {\n",
       "                             nbb_cells[i].set_text(nbb_formatted_code);\n",
       "                        }\n",
       "                        break;\n",
       "                    }\n",
       "                }\n",
       "            }, 500);\n",
       "            "
      ],
      "text/plain": [
       "<IPython.core.display.Javascript object>"
      ]
     },
     "metadata": {},
     "output_type": "display_data"
    }
   ],
   "source": [
    "from empiricaldist import Hist\n",
    "\n",
    "qs = np.arange(1, 7)\n",
    "freqs = [8, 9, 19, 5, 8, 11]\n",
    "observed = Hist(freqs, qs)\n",
    "observed.index.name = \"outcome\"\n",
    "observed"
   ]
  },
  {
   "cell_type": "markdown",
   "id": "fd1b7cdf",
   "metadata": {},
   "source": [
    "On average you expect each value to appear 10 times.\n",
    "In this dataset, the value 3 appears more often than expected, and the value 4 appears less often.\n",
    "But could these differences happen by chance?\n",
    "\n",
    "To test this hypothesis, we'll use the following function to compute the expected frequency for each value, the difference between the expected and observed frequencies, and the total of the absolute differences."
   ]
  },
  {
   "cell_type": "code",
   "execution_count": 65,
   "id": "dd8c56fa",
   "metadata": {},
   "outputs": [
    {
     "data": {
      "application/javascript": [
       "\n",
       "            setTimeout(function() {\n",
       "                var nbb_cell_id = 65;\n",
       "                var nbb_unformatted_code = \"def total_deviation(observed):\\n    n = observed.sum()\\n    outcomes = observed.qs\\n    expected = Hist(n / 6, outcomes)\\n    return sum(abs(observed - expected))\";\n",
       "                var nbb_formatted_code = \"def total_deviation(observed):\\n    n = observed.sum()\\n    outcomes = observed.qs\\n    expected = Hist(n / 6, outcomes)\\n    return sum(abs(observed - expected))\";\n",
       "                var nbb_cells = Jupyter.notebook.get_cells();\n",
       "                for (var i = 0; i < nbb_cells.length; ++i) {\n",
       "                    if (nbb_cells[i].input_prompt_number == nbb_cell_id) {\n",
       "                        if (nbb_cells[i].get_text() == nbb_unformatted_code) {\n",
       "                             nbb_cells[i].set_text(nbb_formatted_code);\n",
       "                        }\n",
       "                        break;\n",
       "                    }\n",
       "                }\n",
       "            }, 500);\n",
       "            "
      ],
      "text/plain": [
       "<IPython.core.display.Javascript object>"
      ]
     },
     "metadata": {},
     "output_type": "display_data"
    }
   ],
   "source": [
    "def total_deviation(observed):\n",
    "    n = observed.sum()\n",
    "    outcomes = observed.qs\n",
    "    expected = Hist(n / 6, outcomes)\n",
    "    return sum(abs(observed - expected))"
   ]
  },
  {
   "cell_type": "markdown",
   "id": "97100b5f",
   "metadata": {},
   "source": [
    "In the observed dataset, the sum of the absolute difference is 20."
   ]
  },
  {
   "cell_type": "code",
   "execution_count": 66,
   "id": "fba77210",
   "metadata": {},
   "outputs": [
    {
     "data": {
      "text/plain": [
       "20.0"
      ]
     },
     "execution_count": 66,
     "metadata": {},
     "output_type": "execute_result"
    },
    {
     "data": {
      "application/javascript": [
       "\n",
       "            setTimeout(function() {\n",
       "                var nbb_cell_id = 66;\n",
       "                var nbb_unformatted_code = \"observed_dev = total_deviation(observed)\\nobserved_dev\";\n",
       "                var nbb_formatted_code = \"observed_dev = total_deviation(observed)\\nobserved_dev\";\n",
       "                var nbb_cells = Jupyter.notebook.get_cells();\n",
       "                for (var i = 0; i < nbb_cells.length; ++i) {\n",
       "                    if (nbb_cells[i].input_prompt_number == nbb_cell_id) {\n",
       "                        if (nbb_cells[i].get_text() == nbb_unformatted_code) {\n",
       "                             nbb_cells[i].set_text(nbb_formatted_code);\n",
       "                        }\n",
       "                        break;\n",
       "                    }\n",
       "                }\n",
       "            }, 500);\n",
       "            "
      ],
      "text/plain": [
       "<IPython.core.display.Javascript object>"
      ]
     },
     "metadata": {},
     "output_type": "display_data"
    }
   ],
   "source": [
    "observed_dev = total_deviation(observed)\n",
    "observed_dev"
   ]
  },
  {
   "cell_type": "markdown",
   "id": "0cff22e1",
   "metadata": {},
   "source": [
    "The following function takes the observed data, simulates rolling a fair die the same number of times, and returns a `Hist` object that contains the simulated frequencies."
   ]
  },
  {
   "cell_type": "code",
   "execution_count": 67,
   "id": "9a530baf",
   "metadata": {},
   "outputs": [
    {
     "data": {
      "application/javascript": [
       "\n",
       "            setTimeout(function() {\n",
       "                var nbb_cell_id = 67;\n",
       "                var nbb_unformatted_code = \"def simulate_dice(observed):\\n    n = np.sum(observed)\\n    rolls = np.random.choice(observed.qs, n, replace=True)\\n    hist = Hist.from_seq(rolls)\\n    return hist\";\n",
       "                var nbb_formatted_code = \"def simulate_dice(observed):\\n    n = np.sum(observed)\\n    rolls = np.random.choice(observed.qs, n, replace=True)\\n    hist = Hist.from_seq(rolls)\\n    return hist\";\n",
       "                var nbb_cells = Jupyter.notebook.get_cells();\n",
       "                for (var i = 0; i < nbb_cells.length; ++i) {\n",
       "                    if (nbb_cells[i].input_prompt_number == nbb_cell_id) {\n",
       "                        if (nbb_cells[i].get_text() == nbb_unformatted_code) {\n",
       "                             nbb_cells[i].set_text(nbb_formatted_code);\n",
       "                        }\n",
       "                        break;\n",
       "                    }\n",
       "                }\n",
       "            }, 500);\n",
       "            "
      ],
      "text/plain": [
       "<IPython.core.display.Javascript object>"
      ]
     },
     "metadata": {},
     "output_type": "display_data"
    }
   ],
   "source": [
    "def simulate_dice(observed):\n",
    "    n = np.sum(observed)\n",
    "    rolls = np.random.choice(observed.qs, n, replace=True)\n",
    "    hist = Hist.from_seq(rolls)\n",
    "    return hist"
   ]
  },
  {
   "cell_type": "markdown",
   "id": "4cb4ced1",
   "metadata": {},
   "source": [
    "The following loop simulates the experiment many times and computes to total absolute deviation for each one."
   ]
  },
  {
   "cell_type": "code",
   "execution_count": 68,
   "id": "dcaef547",
   "metadata": {},
   "outputs": [
    {
     "data": {
      "application/javascript": [
       "\n",
       "            setTimeout(function() {\n",
       "                var nbb_cell_id = 68;\n",
       "                var nbb_unformatted_code = \"simulated_devs = [total_deviation(simulate_dice(observed)) for i in range(1001)]\";\n",
       "                var nbb_formatted_code = \"simulated_devs = [total_deviation(simulate_dice(observed)) for i in range(1001)]\";\n",
       "                var nbb_cells = Jupyter.notebook.get_cells();\n",
       "                for (var i = 0; i < nbb_cells.length; ++i) {\n",
       "                    if (nbb_cells[i].input_prompt_number == nbb_cell_id) {\n",
       "                        if (nbb_cells[i].get_text() == nbb_unformatted_code) {\n",
       "                             nbb_cells[i].set_text(nbb_formatted_code);\n",
       "                        }\n",
       "                        break;\n",
       "                    }\n",
       "                }\n",
       "            }, 500);\n",
       "            "
      ],
      "text/plain": [
       "<IPython.core.display.Javascript object>"
      ]
     },
     "metadata": {},
     "output_type": "display_data"
    }
   ],
   "source": [
    "simulated_devs = [total_deviation(simulate_dice(observed)) for i in range(1001)]"
   ]
  },
  {
   "cell_type": "markdown",
   "id": "a2fa98a9",
   "metadata": {},
   "source": [
    "Here's what the distribution of the total deviations looks like.\n",
    "Notice that the total is always even, because every time an outcome appears more often than expected, another outcome has to appear less often."
   ]
  },
  {
   "cell_type": "code",
   "execution_count": 69,
   "id": "23e5c8b6",
   "metadata": {},
   "outputs": [
    {
     "data": {
      "image/png": "[encoded data removed]",
      "text/plain": [
       "<Figure size 450x262.5 with 1 Axes>"
      ]
     },
     "metadata": {},
     "output_type": "display_data"
    },
    {
     "data": {
      "application/javascript": [
       "\n",
       "            setTimeout(function() {\n",
       "                var nbb_cell_id = 69;\n",
       "                var nbb_unformatted_code = \"pmf_devs = Pmf.from_seq(simulated_devs)\\npmf_devs.bar(alpha=0.5)\";\n",
       "                var nbb_formatted_code = \"pmf_devs = Pmf.from_seq(simulated_devs)\\npmf_devs.bar(alpha=0.5)\";\n",
       "                var nbb_cells = Jupyter.notebook.get_cells();\n",
       "                for (var i = 0; i < nbb_cells.length; ++i) {\n",
       "                    if (nbb_cells[i].input_prompt_number == nbb_cell_id) {\n",
       "                        if (nbb_cells[i].get_text() == nbb_unformatted_code) {\n",
       "                             nbb_cells[i].set_text(nbb_formatted_code);\n",
       "                        }\n",
       "                        break;\n",
       "                    }\n",
       "                }\n",
       "            }, 500);\n",
       "            "
      ],
      "text/plain": [
       "<IPython.core.display.Javascript object>"
      ]
     },
     "metadata": {},
     "output_type": "display_data"
    }
   ],
   "source": [
    "pmf_devs = Pmf.from_seq(simulated_devs)\n",
    "pmf_devs.bar(alpha=0.5)"
   ]
  },
  {
   "cell_type": "markdown",
   "id": "2d86d6d4",
   "metadata": {},
   "source": [
    "We can see that a total deviation of 20 is not unusual.\n",
    "And the p-value is almost 12%, which means that we can't be sure the die is crooked."
   ]
  },
  {
   "cell_type": "code",
   "execution_count": 70,
   "id": "aea4115a",
   "metadata": {},
   "outputs": [
    {
     "data": {
      "text/plain": [
       "0.14085914085914086"
      ]
     },
     "execution_count": 70,
     "metadata": {},
     "output_type": "execute_result"
    },
    {
     "data": {
      "application/javascript": [
       "\n",
       "            setTimeout(function() {\n",
       "                var nbb_cell_id = 70;\n",
       "                var nbb_unformatted_code = \"compute_p_value(simulated_devs, observed_dev)\";\n",
       "                var nbb_formatted_code = \"compute_p_value(simulated_devs, observed_dev)\";\n",
       "                var nbb_cells = Jupyter.notebook.get_cells();\n",
       "                for (var i = 0; i < nbb_cells.length; ++i) {\n",
       "                    if (nbb_cells[i].input_prompt_number == nbb_cell_id) {\n",
       "                        if (nbb_cells[i].get_text() == nbb_unformatted_code) {\n",
       "                             nbb_cells[i].set_text(nbb_formatted_code);\n",
       "                        }\n",
       "                        break;\n",
       "                    }\n",
       "                }\n",
       "            }, 500);\n",
       "            "
      ],
      "text/plain": [
       "<IPython.core.display.Javascript object>"
      ]
     },
     "metadata": {},
     "output_type": "display_data"
    }
   ],
   "source": [
    "compute_p_value(simulated_devs, observed_dev)"
   ]
  },
  {
   "cell_type": "markdown",
   "id": "96f25f12",
   "metadata": {},
   "source": [
    "But the test statistic we chose was not the only option.\n",
    "For a problem like this, it would be more conventional to use the chi-squared statistic, which we can compute like this."
   ]
  },
  {
   "cell_type": "code",
   "execution_count": 72,
   "id": "047569cc",
   "metadata": {},
   "outputs": [
    {
     "data": {
      "application/javascript": [
       "\n",
       "            setTimeout(function() {\n",
       "                var nbb_cell_id = 72;\n",
       "                var nbb_unformatted_code = \"def chi_squared_stat(observed):\\n    n = observed.sum()\\n    outcomes = observed.qs\\n    expected = Hist(n / 6, outcomes)\\n    diffs = (observed - expected) ** 2\\n    return sum((observed - expected) ** 2 / expected)\";\n",
       "                var nbb_formatted_code = \"def chi_squared_stat(observed):\\n    n = observed.sum()\\n    outcomes = observed.qs\\n    expected = Hist(n / 6, outcomes)\\n    diffs = (observed - expected) ** 2\\n    return sum((observed - expected) ** 2 / expected)\";\n",
       "                var nbb_cells = Jupyter.notebook.get_cells();\n",
       "                for (var i = 0; i < nbb_cells.length; ++i) {\n",
       "                    if (nbb_cells[i].input_prompt_number == nbb_cell_id) {\n",
       "                        if (nbb_cells[i].get_text() == nbb_unformatted_code) {\n",
       "                             nbb_cells[i].set_text(nbb_formatted_code);\n",
       "                        }\n",
       "                        break;\n",
       "                    }\n",
       "                }\n",
       "            }, 500);\n",
       "            "
      ],
      "text/plain": [
       "<IPython.core.display.Javascript object>"
      ]
     },
     "metadata": {},
     "output_type": "display_data"
    }
   ],
   "source": [
    "def chi_squared_stat(observed):\n",
    "    n = observed.sum()\n",
    "    outcomes = observed.qs\n",
    "    expected = Hist(n / 6, outcomes)\n",
    "    diffs = (observed - expected) ** 2\n",
    "    return sum((observed - expected) ** 2 / expected)"
   ]
  },
  {
   "cell_type": "markdown",
   "id": "cd9cd605",
   "metadata": {},
   "source": [
    "Squaring the deviations (rather than taking absolute values) gives more weight to large deviations.\n",
    "Dividing through by `expected` standardizes the deviations, although in this case it has no effect on the results because the expected frequencies are all equal."
   ]
  },
  {
   "cell_type": "code",
   "execution_count": 73,
   "id": "b905361b",
   "metadata": {},
   "outputs": [
    {
     "data": {
      "text/plain": [
       "11.6"
      ]
     },
     "execution_count": 73,
     "metadata": {},
     "output_type": "execute_result"
    },
    {
     "data": {
      "application/javascript": [
       "\n",
       "            setTimeout(function() {\n",
       "                var nbb_cell_id = 73;\n",
       "                var nbb_unformatted_code = \"observed_chi_squared = chi_squared_stat(observed)\\nobserved_chi_squared\";\n",
       "                var nbb_formatted_code = \"observed_chi_squared = chi_squared_stat(observed)\\nobserved_chi_squared\";\n",
       "                var nbb_cells = Jupyter.notebook.get_cells();\n",
       "                for (var i = 0; i < nbb_cells.length; ++i) {\n",
       "                    if (nbb_cells[i].input_prompt_number == nbb_cell_id) {\n",
       "                        if (nbb_cells[i].get_text() == nbb_unformatted_code) {\n",
       "                             nbb_cells[i].set_text(nbb_formatted_code);\n",
       "                        }\n",
       "                        break;\n",
       "                    }\n",
       "                }\n",
       "            }, 500);\n",
       "            "
      ],
      "text/plain": [
       "<IPython.core.display.Javascript object>"
      ]
     },
     "metadata": {},
     "output_type": "display_data"
    }
   ],
   "source": [
    "observed_chi_squared = chi_squared_stat(observed)\n",
    "observed_chi_squared"
   ]
  },
  {
   "cell_type": "code",
   "execution_count": 74,
   "id": "1f4dff17",
   "metadata": {},
   "outputs": [
    {
     "data": {
      "application/javascript": [
       "\n",
       "            setTimeout(function() {\n",
       "                var nbb_cell_id = 74;\n",
       "                var nbb_unformatted_code = \"simulated_chi_squared = [chi_squared_stat(simulate_dice(observed)) for i in range(11)]\";\n",
       "                var nbb_formatted_code = \"simulated_chi_squared = [chi_squared_stat(simulate_dice(observed)) for i in range(11)]\";\n",
       "                var nbb_cells = Jupyter.notebook.get_cells();\n",
       "                for (var i = 0; i < nbb_cells.length; ++i) {\n",
       "                    if (nbb_cells[i].input_prompt_number == nbb_cell_id) {\n",
       "                        if (nbb_cells[i].get_text() == nbb_unformatted_code) {\n",
       "                             nbb_cells[i].set_text(nbb_formatted_code);\n",
       "                        }\n",
       "                        break;\n",
       "                    }\n",
       "                }\n",
       "            }, 500);\n",
       "            "
      ],
      "text/plain": [
       "<IPython.core.display.Javascript object>"
      ]
     },
     "metadata": {},
     "output_type": "display_data"
    }
   ],
   "source": [
    "simulated_chi_squared = [chi_squared_stat(simulate_dice(observed)) for i in range(11)]"
   ]
  },
  {
   "cell_type": "code",
   "execution_count": 75,
   "id": "fb9776d8",
   "metadata": {},
   "outputs": [
    {
     "data": {
      "image/png": "[encoded data removed]",
      "text/plain": [
       "<Figure size 450x262.5 with 1 Axes>"
      ]
     },
     "metadata": {},
     "output_type": "display_data"
    },
    {
     "data": {
      "application/javascript": [
       "\n",
       "            setTimeout(function() {\n",
       "                var nbb_cell_id = 75;\n",
       "                var nbb_unformatted_code = \"pmf = make_pmf(simulated_chi_squared, 0, 20)\\npmf.plot()\\nfill_tail(pmf, observed_chi_squared, \\\"right\\\")\\ndecorate(xlabel=\\\"Chi-Squared Statistic\\\", ylabel=\\\"Density\\\")\";\n",
       "                var nbb_formatted_code = \"pmf = make_pmf(simulated_chi_squared, 0, 20)\\npmf.plot()\\nfill_tail(pmf, observed_chi_squared, \\\"right\\\")\\ndecorate(xlabel=\\\"Chi-Squared Statistic\\\", ylabel=\\\"Density\\\")\";\n",
       "                var nbb_cells = Jupyter.notebook.get_cells();\n",
       "                for (var i = 0; i < nbb_cells.length; ++i) {\n",
       "                    if (nbb_cells[i].input_prompt_number == nbb_cell_id) {\n",
       "                        if (nbb_cells[i].get_text() == nbb_unformatted_code) {\n",
       "                             nbb_cells[i].set_text(nbb_formatted_code);\n",
       "                        }\n",
       "                        break;\n",
       "                    }\n",
       "                }\n",
       "            }, 500);\n",
       "            "
      ],
      "text/plain": [
       "<IPython.core.display.Javascript object>"
      ]
     },
     "metadata": {},
     "output_type": "display_data"
    }
   ],
   "source": [
    "pmf = make_pmf(simulated_chi_squared, 0, 20)\n",
    "pmf.plot()\n",
    "fill_tail(pmf, observed_chi_squared, \"right\")\n",
    "decorate(xlabel=\"Chi-Squared Statistic\", ylabel=\"Density\")"
   ]
  },
  {
   "cell_type": "code",
   "execution_count": 76,
   "id": "dc505143",
   "metadata": {},
   "outputs": [
    {
     "data": {
      "text/plain": [
       "0.09090909090909091"
      ]
     },
     "execution_count": 76,
     "metadata": {},
     "output_type": "execute_result"
    },
    {
     "data": {
      "application/javascript": [
       "\n",
       "            setTimeout(function() {\n",
       "                var nbb_cell_id = 76;\n",
       "                var nbb_unformatted_code = \"compute_p_value(simulated_chi_squared, observed_chi_squared)\";\n",
       "                var nbb_formatted_code = \"compute_p_value(simulated_chi_squared, observed_chi_squared)\";\n",
       "                var nbb_cells = Jupyter.notebook.get_cells();\n",
       "                for (var i = 0; i < nbb_cells.length; ++i) {\n",
       "                    if (nbb_cells[i].input_prompt_number == nbb_cell_id) {\n",
       "                        if (nbb_cells[i].get_text() == nbb_unformatted_code) {\n",
       "                             nbb_cells[i].set_text(nbb_formatted_code);\n",
       "                        }\n",
       "                        break;\n",
       "                    }\n",
       "                }\n",
       "            }, 500);\n",
       "            "
      ],
      "text/plain": [
       "<IPython.core.display.Javascript object>"
      ]
     },
     "metadata": {},
     "output_type": "display_data"
    }
   ],
   "source": [
    "compute_p_value(simulated_chi_squared, observed_chi_squared)"
   ]
  },
  {
   "cell_type": "markdown",
   "id": "cd6d27ef",
   "metadata": {},
   "source": [
    "The p-value using the chi-squared statistic is 0.037, substantially smaller than what we got using total deviation, 0.13. If we take the 5% threshold seriously, we would consider this effect statistically significant.\n",
    "But considering the two tests together, I would say that the results are borderline.\n",
    "I would not rule out the possibility that the die is crooked, but I would not convict the accused cheater.\n",
    "\n",
    "This example demonstrates an important point: the p-value depends on the choice of test statistic and the model of the null hypothesis, and sometimes these choices determine whether an effect is statistically significant or not."
   ]
  },
  {
   "cell_type": "markdown",
   "id": "fa590a55",
   "metadata": {},
   "source": [
    "The p-value for this data is 0.13, which means that if the die is fair we expect to see the observed total deviation, or more, about 13% of the time.\n",
    "So the apparent effect is not statistically significant."
   ]
  },
  {
   "cell_type": "markdown",
   "id": "ec5893c6",
   "metadata": {},
   "source": [
    "## Errors\n",
    "\n",
    "In classical hypothesis testing, an effect is considered statistically significant if the p-value is below some threshold, commonly 5%. This procedure raises two questions:\n",
    "\n",
    "-   If the effect is actually due to chance, what is the probability that we will wrongly consider it significant? This probability is the **false positive rate**.\n",
    "\n",
    "-   If the effect is real, what is the chance that the hypothesis test will fail? This probability is the **false negative rate**.\n",
    "\n",
    "The false positive rate is relatively easy to compute: if the threshold is 5%, the false positive rate is 5%. Here's why:\n",
    "\n",
    "-   If there is no real effect, the null hypothesis is true, so we can compute the distribution of the test statistic by simulating the null hypothesis.\n",
    "Call this distribution $CDF_T$.\n",
    "\n",
    "-   Each time we run an experiment, we get a test statistic, $t$, which is drawn from $CDF_T$.\n",
    "Then we compute a p-value, which is the probability that a random value from $CDF_T$ exceeds `t`, so that's $1 - CDF_T(t)$.\n",
    "\n",
    "-   The p-value is less than 5% if $CDF_T(t)$ is greater than 95%; that is, if $t$ exceeds the 95th percentile.\n",
    "And how often does a value chosen from $CDF_T$ exceed the 95th percentile? 5% of the time.\n",
    "\n",
    "So if you perform one hypothesis test with a 5% threshold, you expect a false positive 1 time in 20."
   ]
  },
  {
   "cell_type": "markdown",
   "id": "c8789189",
   "metadata": {},
   "source": [
    "## Power\n",
    "\n",
    "The false negative rate is harder to compute because it depends on the actual effect size, and normally we don't know that.\n",
    "One option is to compute a rate conditioned on a hypothetical effect size.\n",
    "\n",
    "For example, if we assume that the observed difference between groups is accurate, we can use the observed samples as a model of the population and run hypothesis tests with simulated data:"
   ]
  },
  {
   "cell_type": "code",
   "execution_count": null,
   "id": "6692e494",
   "metadata": {},
   "outputs": [],
   "source": [
    "def false_neg_rate(data, num_runs=100):\n",
    "    group1, group2 = data\n",
    "    count = 0\n",
    "    for i in range(num_runs):\n",
    "        sample1 = resample(group1)\n",
    "        sample2 = resample(group2)\n",
    "        ht = DiffMeansPermute((sample1, sample2))\n",
    "        p_value = ht.p_value(iters=101)\n",
    "        if p_value > 0.05:\n",
    "            count += 1\n",
    "    return count / num_runs"
   ]
  },
  {
   "cell_type": "markdown",
   "id": "e20ffd80",
   "metadata": {},
   "source": [
    "`FalseNegRate` takes data in the form of two sequences, one for each group.\n",
    "Each time through the loop, it simulates an experiment by drawing a random sample from each group and running a hypothesis test.\n",
    "Then it checks the result and counts the number of false negatives.\n",
    "\n",
    "`Resample` takes a sequence and draws a sample with the same length, with replacement:"
   ]
  },
  {
   "cell_type": "code",
   "execution_count": null,
   "id": "29d63681",
   "metadata": {},
   "outputs": [],
   "source": [
    "def resample(xs):\n",
    "    return np.random.choice(xs, len(xs), replace=True)"
   ]
  },
  {
   "cell_type": "markdown",
   "id": "4fc4a5e8",
   "metadata": {},
   "source": [
    "Here's the code that tests pregnancy lengths:"
   ]
  },
  {
   "cell_type": "code",
   "execution_count": null,
   "id": "4ff48293",
   "metadata": {},
   "outputs": [],
   "source": [
    "live, firsts, others = nsfg.make_frames()\n",
    "data = firsts.prglngth.values, others.prglngth.values\n",
    "neg_rate = false_neg_rate(data)\n",
    "neg_rate"
   ]
  },
  {
   "cell_type": "markdown",
   "id": "7dade836",
   "metadata": {},
   "source": [
    "The result is about 70%, which means that if the actual difference in mean pregnancy length is 0.078 weeks, we expect an experiment with this sample size to yield a negative test 70% of the time.\n",
    "\n",
    "This result is often presented the other way around: if the actual difference is 0.078 weeks, we should expect a positive test only 30% of the time.\n",
    "This \"correct positive rate\" is called the **power** of the test, or sometimes \"sensitivity\".\n",
    "It reflects the ability of the test to detect an effect of a given size.\n",
    "\n",
    "In this example, the test had only a 30% chance of yielding a positive result (again, assuming that the difference is 0.078 weeks).\n",
    "As a rule of thumb, a power of 80% is considered acceptable, so we would say that this test was \"underpowered.\"\n",
    "\n",
    "In general, a negative hypothesis test does not imply that there is no difference between the groups; instead, it suggests that if there is a difference, it is too small to detect with this sample size."
   ]
  },
  {
   "cell_type": "markdown",
   "id": "89c935af",
   "metadata": {},
   "source": [
    "## Replication\n",
    "\n",
    "The hypothesis testing process I demonstrated in this chapter is not, strictly speaking, good practice.\n",
    "\n",
    "First, I performed multiple tests.\n",
    "If you run one hypothesis test, the chance of a false positive is about 1 in 20, which might be acceptable.\n",
    "But if you run 20 tests, you should expect at least one false positive, most of the time.\n",
    "\n",
    "Second, I used the same dataset for exploration and testing.\n",
    "If you explore a large dataset, find a surprising effect, and then test whether it is significant, you have a good chance of generating a false positive.\n",
    "\n",
    "To compensate for multiple tests, you can adjust the p-value threshold (see <https://en.wikipedia.org/wiki/Holm-Bonferroni_method>).\n",
    "Or you can address both problems by partitioning the data, using one set for exploration and the other for testing."
   ]
  },
  {
   "cell_type": "markdown",
   "id": "729695dc",
   "metadata": {},
   "source": [
    "In some fields these practices are required or at least encouraged.\n",
    "But it is also common to address these problems implicitly by replicating published results.\n",
    "Typically the first paper to report a new result is considered exploratory.\n",
    "Subsequent papers that replicate the result with new data are considered confirmatory.\n",
    "\n",
    "As it happens, we have an opportunity to replicate the results in this chapter.\n",
    "The first edition of this book is based on Cycle 6 of the NSFG, which was released in 2002.\n",
    "In October 2011, the CDC released additional data based on interviews conducted from 2006--2010.\n",
    "`nsfg.py` contains code to read and clean this data.\n",
    "In the new dataset:\n",
    "\n",
    "-   The difference in mean pregnancy length is 0.16 weeks and statistically significant with $p < 0.001$ (compared to 0.078 weeks in the original dataset).\n",
    "\n",
    "-   The difference in birth weight is 0.17 pounds with $p < 0.001$ (compared to 0.12 lbs in the original dataset).\n",
    "\n",
    "-   The correlation between birth weight and mother's age is 0.08 with $p < 0.001$ (compared to 0.07).\n",
    "\n",
    "-   The chi-squared test is statistically significant with $p < 0.001$ (as it was in the original).\n",
    "\n",
    "In summary, all of the effects that were statistically significant in the original dataset were replicated in the new dataset, and the difference in pregnancy length, which was not significant in the original, is bigger in the new dataset and significant."
   ]
  },
  {
   "cell_type": "markdown",
   "id": "6f1ff960",
   "metadata": {},
   "source": [
    "## Glossary\n",
    "\n",
    "-   **hypothesis testing**: The process of determining whether an apparent effect is statistically significant.\n",
    "\n",
    "-   **test statistic**: A statistic used to quantify an effect size.\n",
    "\n",
    "-   **null hypothesis**: A model of a system based on the assumption that an apparent effect is due to chance.\n",
    "\n",
    "-   **p-value**: The probability that an effect could occur by chance.\n",
    "\n",
    "-   **statistically significant**: An effect is statistically significant if it is unlikely to occur by chance.\n",
    "\n",
    "-   **permutation test**: A way to compute p-values by generating permutations of an observed dataset.\n",
    "\n",
    "-   **resampling test**: A way to compute p-values by generating samples, with replacement, from an observed dataset.\n",
    "\n",
    "-   **two-sided test**: A test that asks, \"What is the chance of an effect as big as the observed effect, positive or negative?\"\n",
    "\n",
    "-   **one-sided test**: A test that asks, \"What is the chance of an effect as big as the observed effect, and with the same sign?\"\n",
    "\n",
    "-   **chi-squared test**: A test that uses the chi-squared statistic as the test statistic.\n",
    "\n",
    "-   **false positive**: The conclusion that an effect is real when it is not.\n",
    "\n",
    "-   **false negative**: The conclusion that an effect is due to chance when it is not.\n",
    "\n",
    "-   **power**: The probability of a positive test if the null hypothesis is false."
   ]
  },
  {
   "cell_type": "markdown",
   "id": "940c93d6",
   "metadata": {},
   "source": [
    "## Exercises"
   ]
  },
  {
   "cell_type": "markdown",
   "id": "40894391",
   "metadata": {},
   "source": [
    "**Exercise:** As sample size increases, the power of a hypothesis test increases, which means it is more likely detect an effect if there is one.\n",
    "\n",
    "To investigate this behavior, run the tests in this chapter with different subsets of the NSFG data."
   ]
  },
  {
   "cell_type": "markdown",
   "id": "5e2051c2",
   "metadata": {},
   "source": [
    "To choose a random subset of the data, you can use the `DataFrame` method `sample` like this:"
   ]
  },
  {
   "cell_type": "code",
   "execution_count": null,
   "id": "d355ee08",
   "metadata": {},
   "outputs": [],
   "source": [
    "n = 100\n",
    "sample = live.sample(n)"
   ]
  },
  {
   "cell_type": "markdown",
   "id": "c31607e8",
   "metadata": {},
   "source": [
    "What happens to the p-values of these tests as sample size decreases? What is the smallest sample size that yields a positive test?"
   ]
  },
  {
   "cell_type": "code",
   "execution_count": null,
   "id": "070d2b33",
   "metadata": {},
   "outputs": [],
   "source": [
    "# Solution\n",
    "\n",
    "\n",
    "def run_tests(df, iters=1001):\n",
    "    \"\"\"Runs the tests from this chapter with a subset of the data.\n",
    "\n",
    "    data: DataFrame\n",
    "    iters: how many iterations to run\n",
    "    \"\"\"\n",
    "    firsts = df[df.birthord == 1]\n",
    "    others = df[df.birthord != 1]\n",
    "\n",
    "    # test the difference in pregnancy lengths\n",
    "    data = firsts.prglngth.values, others.prglngth.values\n",
    "    ht = DiffMeansPermute(data)\n",
    "    p1 = ht.p_value(iters=iters)\n",
    "\n",
    "    # test the difference in pregnancy lengths with a chi-squared test\n",
    "    ht = PregLengthTest(data)\n",
    "    p2 = ht.p_value(iters=iters)\n",
    "\n",
    "    # test the difference in birthweights\n",
    "    data = firsts.totalwgt_lb.dropna().values, others.totalwgt_lb.dropna().values\n",
    "    ht = DiffMeansPermute(data)\n",
    "    p3 = ht.p_value(iters=iters)\n",
    "\n",
    "    # test the correlation of maternal age and birthweight\n",
    "    valid = df.dropna(subset=[\"agepreg\", \"totalwgt_lb\"])\n",
    "    data = valid.agepreg.values, valid.totalwgt_lb.values\n",
    "    ht = CorrelationPermute(data)\n",
    "    p4 = ht.p_value(iters=iters)\n",
    "\n",
    "    print(\"%d\\t%0.2f\\t%0.2f\\t%0.2f\\t%0.2f\" % (n, p1, p2, p3, p4))"
   ]
  },
  {
   "cell_type": "code",
   "execution_count": null,
   "id": "7ab7fb0c",
   "metadata": {},
   "outputs": [],
   "source": [
    "# Solution\n",
    "\n",
    "n = len(live)\n",
    "for _ in range(7):\n",
    "    sample = live.sample(n)\n",
    "    run_tests(sample)\n",
    "    n //= 2"
   ]
  },
  {
   "cell_type": "markdown",
   "id": "91f4df49",
   "metadata": {},
   "source": [
    "**Exercise:** In Section 9.3, we simulated the null hypothesis by permutation; that is, we treated the observed values as if they represented the entire population, and randomly assigned the members of the population to the two groups.\n",
    "\n",
    "An alternative is to use the sample to estimate the distribution for the population, then draw a random sample from that distribution.\n",
    "This process is called resampling.\n",
    "There are several ways to implement resampling, but one of the simplest is to draw a sample with replacement from the observed values, as in Section 9.10.\n",
    "\n",
    "Write a class named `DiffMeansResample` that inherits from `DiffMeansPermute` and overrides `run_model` to implement resampling, rather than permutation.\n",
    "\n",
    "Use this model to test the differences in pregnancy length and birth weight.\n",
    "How much does the model affect the results?"
   ]
  },
  {
   "cell_type": "code",
   "execution_count": null,
   "id": "aac7aaab",
   "metadata": {},
   "outputs": [],
   "source": [
    "# Solution\n",
    "\n",
    "\n",
    "class DiffMeansResample(DiffMeansPermute):\n",
    "    \"\"\"Tests a difference in means using resampling.\"\"\"\n",
    "\n",
    "    def run_model(self):\n",
    "        \"\"\"Run the model of the null hypothesis.\n",
    "\n",
    "        returns: simulated data\n",
    "        \"\"\"\n",
    "        group1 = np.random.choice(self.pool, self.n, replace=True)\n",
    "        group2 = np.random.choice(self.pool, self.m, replace=True)\n",
    "        return group1, group2"
   ]
  },
  {
   "cell_type": "code",
   "execution_count": null,
   "id": "ebaed2e2",
   "metadata": {},
   "outputs": [],
   "source": [
    "# Solution\n",
    "\n",
    "data = firsts.prglngth.values, others.prglngth.values\n",
    "ht = DiffMeansResample(data)\n",
    "p_value = ht.p_value(iters=10000)\n",
    "print(\"\\ndiff means resample preglength\")\n",
    "print(\"p-value =\", p_value)\n",
    "print(\"actual =\", ht.actual)\n",
    "print(\"ts max =\", max(ht.test_stats))"
   ]
  },
  {
   "cell_type": "code",
   "execution_count": null,
   "id": "241fe939",
   "metadata": {},
   "outputs": [],
   "source": [
    "# Solution\n",
    "\n",
    "data = firsts.totalwgt_lb.dropna().values, others.totalwgt_lb.dropna().values\n",
    "ht = DiffMeansPermute(data)\n",
    "p_value = ht.p_value(iters=10000)\n",
    "print(\"\\ndiff means resample birthweight\")\n",
    "print(\"p-value =\", p_value)\n",
    "print(\"actual =\", ht.actual)\n",
    "print(\"ts max =\", max(ht.test_stats))"
   ]
  },
  {
   "cell_type": "code",
   "execution_count": null,
   "id": "08891d42",
   "metadata": {},
   "outputs": [],
   "source": []
  },
  {
   "cell_type": "markdown",
   "id": "294e172c",
   "metadata": {},
   "source": [
    "## First babies again\n",
    "\n",
    "Earlier in this chapter we looked at pregnancy lengths for first babies and others, and concluded that the apparent differences in mean and standard deviation are not statistically significant.\n",
    "But in Section [\\[visualization\\]](#visualization){reference-type=\"ref\" reference=\"visualization\"}, we saw several apparent differences in the distribution of pregnancy length, especially in the range from 35 to 43 weeks.\n",
    "To see whether those differences are statistically significant, we can use a test based on a chi-squared statistic.\n",
    "\n",
    "The code combines elements from previous examples:"
   ]
  },
  {
   "cell_type": "code",
   "execution_count": null,
   "id": "ea81d91b",
   "metadata": {},
   "outputs": [],
   "source": [
    "from empiricaldist import Pmf\n",
    "\n",
    "\n",
    "class PregLengthTest(HypothesisTest):\n",
    "\n",
    "    def make_model(self):\n",
    "        firsts, others = self.data\n",
    "        self.n = len(firsts)\n",
    "        self.pool = np.hstack((firsts, others))\n",
    "        pmf = Pmf.from_seq(self.pool)\n",
    "        self.values = range(35, 44)\n",
    "        self.expected_probs = pmf(self.values)\n",
    "\n",
    "    def run_model(self):\n",
    "        np.random.shuffle(self.pool)\n",
    "        data = self.pool[: self.n], self.pool[self.n :]\n",
    "        return data\n",
    "\n",
    "    def test_statistic(self, data):\n",
    "        firsts, others = data\n",
    "        stat = self.chi_squared(firsts) + self.chi_squared(others)\n",
    "        return stat\n",
    "\n",
    "    def chi_squared(self, lengths):\n",
    "        hist = Hist(lengths)\n",
    "        observed = np.array(hist.freqs(self.values))\n",
    "        expected = self.expected_probs * len(lengths)\n",
    "        stat = sum((observed - expected) ** 2 / expected)\n",
    "        return stat"
   ]
  },
  {
   "cell_type": "markdown",
   "id": "57b769be",
   "metadata": {},
   "source": [
    "The data are represented as two lists of pregnancy lengths.\n",
    "The null hypothesis is that both samples are drawn from the same distribution.\n",
    "`make_model` models that distribution by pooling the two samples using `hstack`.\n",
    "Then `run_model` generates simulated data by shuffling the pooled sample and splitting it into two parts.\n",
    "\n",
    "`make_model` also defines `values`, which is the range of weeks we'll use, and `expected_probs`, which is the probability of each value in the pooled distribution.\n",
    "\n",
    "Here's the code that computes the test statistic:"
   ]
  },
  {
   "cell_type": "code",
   "execution_count": null,
   "id": "462d3927",
   "metadata": {},
   "outputs": [],
   "source": [
    "data = firsts.prglngth.values, others.prglngth.values"
   ]
  },
  {
   "cell_type": "code",
   "execution_count": null,
   "id": "2dd4dec2",
   "metadata": {},
   "outputs": [],
   "source": [
    "ht = PregLengthTest(data)\n",
    "p_value = ht.p_value()\n",
    "print(\"p-value =\", p_value)\n",
    "print(\"actual =\", ht.actual)\n",
    "print(\"ts max =\", np.max(ht.test_stats))"
   ]
  },
  {
   "cell_type": "markdown",
   "id": "4f069ab1",
   "metadata": {},
   "source": [
    "`TestStatistic` computes the chi-squared statistic for first babies and others, and adds them.\n",
    "\n",
    "`ChiSquared` takes a sequence of pregnancy lengths, computes its histogram, and computes `observed`, which is a list of frequencies corresponding to `self.values`.\n",
    "To compute the list of expected frequencies, it multiplies the pre-computed probabilities, `expected_probs`, by the sample size.\n",
    "It returns the chi-squared statistic, `stat`.\n",
    "\n",
    "For the NSFG data the total chi-squared statistic is 102, which doesn't mean much by itself.\n",
    "But after 1000 iterations, the largest test statistic generated under the null hypothesis is 32. We conclude that the observed chi-squared statistic is unlikely under the null hypothesis, so the apparent effect is statistically significant.\n",
    "\n",
    "This example demonstrates a limitation of chi-squared tests: they indicate that there is a difference between the two groups, but they don't say anything specific about what the difference is."
   ]
  }
 ],
 "metadata": {
  "celltoolbar": "Tags",
  "kernelspec": {
   "display_name": "Python 3 (ipykernel)",
   "language": "python",
   "name": "python3"
  },
  "language_info": {
   "codemirror_mode": {
    "name": "ipython",
    "version": 3
   },
   "file_extension": ".py",
   "mimetype": "text/x-python",
   "name": "python",
   "nbconvert_exporter": "python",
   "pygments_lexer": "ipython3",
   "version": "3.10.14"
  }
 },
 "nbformat": 4,
 "nbformat_minor": 5
}
