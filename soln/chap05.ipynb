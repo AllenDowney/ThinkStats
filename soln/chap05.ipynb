{
 "cells": [
  {
   "cell_type": "markdown",
   "id": "129937c8",
   "metadata": {},
   "source": [
    "# Modeling distributions\n",
    "\n",
    "The distributions we have used so far are called **empirical distributions** because they are based on empirical observations -- in other words, data.\n",
    "Many datasets we see in the real world can be closely approximated by a **theoretical distribution**, which is usually based on a simple mathematical model.\n",
    "This chapter presents some of these theoretical distributions and datasets they can be used to model.\n",
    "\n",
    "As examples, we'll see that:\n",
    "\n",
    "* In a skeet shooting competition, the number of hits and misses is well modeled by a binomial distribution.\n",
    "\n",
    "* In games like hockey and soccer (football), the number of goals in a game follows a Poisson distribution, and the time between goals follows an exponential distribution.\n",
    "\n",
    "* Birth weights follow a normal distribution, also called a Gaussian, and adult weights follow a lognormal distribution.\n",
    "\n",
    "If you are not familiar with these distributions -- or these sports -- I will explain what you need to know.\n",
    "For each example, we'll start with a simulation based on a simple model, and show that the simulation results follow an theoretical distribution.\n",
    "Then we'll see how well real data agrees with the model."
   ]
  },
  {
   "cell_type": "code",
   "execution_count": 1,
   "id": "904b3e96",
   "metadata": {},
   "outputs": [
    {
     "data": {
      "application/javascript": [
       "\n",
       "        setTimeout(function() {\n",
       "            var nbb_cell_id = 1;\n",
       "            var nbb_formatted_code = \"%load_ext nb_black\\n%load_ext autoreload\\n%autoreload 2\";\n",
       "            var nbb_cells = Jupyter.notebook.get_cells();\n",
       "            for (var i = 0; i < nbb_cells.length; ++i) {\n",
       "                if (nbb_cells[i].input_prompt_number == nbb_cell_id) {\n",
       "                    nbb_cells[i].set_text(nbb_formatted_code);\n",
       "                    break;\n",
       "                }\n",
       "            }\n",
       "        }, 500);\n",
       "        "
      ],
      "text/plain": [
       "<IPython.core.display.Javascript object>"
      ]
     },
     "metadata": {},
     "output_type": "display_data"
    }
   ],
   "source": [
    "%load_ext nb_black\n",
    "%load_ext autoreload\n",
    "%autoreload 2"
   ]
  },
  {
   "cell_type": "code",
   "execution_count": 2,
   "id": "41ffa5f5",
   "metadata": {},
   "outputs": [
    {
     "data": {
      "application/javascript": [
       "\n",
       "        setTimeout(function() {\n",
       "            var nbb_cell_id = 2;\n",
       "            var nbb_formatted_code = \"from os.path import basename, exists\\n\\n\\ndef download(url):\\n    filename = basename(url)\\n    if not exists(filename):\\n        from urllib.request import urlretrieve\\n\\n        local, _ = urlretrieve(url, filename)\\n        print(\\\"Downloaded \\\" + local)\\n\\n\\ndownload(\\\"https://github.com/AllenDowney/ThinkStats/raw/v3/nb/thinkstats.py\\\")\";\n",
       "            var nbb_cells = Jupyter.notebook.get_cells();\n",
       "            for (var i = 0; i < nbb_cells.length; ++i) {\n",
       "                if (nbb_cells[i].input_prompt_number == nbb_cell_id) {\n",
       "                    nbb_cells[i].set_text(nbb_formatted_code);\n",
       "                    break;\n",
       "                }\n",
       "            }\n",
       "        }, 500);\n",
       "        "
      ],
      "text/plain": [
       "<IPython.core.display.Javascript object>"
      ]
     },
     "metadata": {},
     "output_type": "display_data"
    }
   ],
   "source": [
    "from os.path import basename, exists\n",
    "\n",
    "\n",
    "def download(url):\n",
    "    filename = basename(url)\n",
    "    if not exists(filename):\n",
    "        from urllib.request import urlretrieve\n",
    "\n",
    "        local, _ = urlretrieve(url, filename)\n",
    "        print(\"Downloaded \" + local)\n",
    "\n",
    "\n",
    "download(\"https://github.com/AllenDowney/ThinkStats/raw/v3/nb/thinkstats.py\")"
   ]
  },
  {
   "cell_type": "code",
   "execution_count": 3,
   "id": "9fb94810",
   "metadata": {},
   "outputs": [
    {
     "data": {
      "application/javascript": [
       "\n",
       "        setTimeout(function() {\n",
       "            var nbb_cell_id = 3;\n",
       "            var nbb_formatted_code = \"import numpy as np\\nimport pandas as pd\\nimport matplotlib.pyplot as plt\\n\\nfrom thinkstats import decorate\";\n",
       "            var nbb_cells = Jupyter.notebook.get_cells();\n",
       "            for (var i = 0; i < nbb_cells.length; ++i) {\n",
       "                if (nbb_cells[i].input_prompt_number == nbb_cell_id) {\n",
       "                    nbb_cells[i].set_text(nbb_formatted_code);\n",
       "                    break;\n",
       "                }\n",
       "            }\n",
       "        }, 500);\n",
       "        "
      ],
      "text/plain": [
       "<IPython.core.display.Javascript object>"
      ]
     },
     "metadata": {},
     "output_type": "display_data"
    }
   ],
   "source": [
    "import numpy as np\n",
    "import pandas as pd\n",
    "import matplotlib.pyplot as plt\n",
    "\n",
    "from thinkstats import decorate"
   ]
  },
  {
   "cell_type": "markdown",
   "id": "5887c412",
   "metadata": {},
   "source": [
    "## The Binomial Distribution\n",
    "\n",
    "As a first example, we'll consider the sport of skeet shooting, in which competitors use shotguns to shoot clay disks that are thrown into the air.\n",
    "In international competition, including the Olympics, there are five rounds with 25 targets per round, with additional rounds as needed to determine a winner.\n",
    "\n",
    "As a model of a skeet-shooting competition, suppose that every participant has the same probability of hitting every target, `p`.\n",
    "Of course, this model is a simplification -- in reality, it's likely that some competitors have a higher probability than others, and even for a single competitor, it might vary from one attempt to the next.\n",
    "But even if it is not realistic, this model make some surprisingly accurate predictions, as we'll see.\n",
    "\n",
    "To simulate the model, I'll use the following function, which takes the number of targets, `n`, and the probability of hitting each one, `p`, and returns a sequence of 1s and 0s to indicate hits and misses."
   ]
  },
  {
   "cell_type": "code",
   "execution_count": 4,
   "id": "3e420cb7",
   "metadata": {},
   "outputs": [
    {
     "data": {
      "application/javascript": [
       "\n",
       "        setTimeout(function() {\n",
       "            var nbb_cell_id = 4;\n",
       "            var nbb_formatted_code = \"def flip(n, p):\\n    choices = [1, 0]\\n    probs = [p, 1 - p]\\n    return np.random.choice(choices, n, p=probs)\";\n",
       "            var nbb_cells = Jupyter.notebook.get_cells();\n",
       "            for (var i = 0; i < nbb_cells.length; ++i) {\n",
       "                if (nbb_cells[i].input_prompt_number == nbb_cell_id) {\n",
       "                    nbb_cells[i].set_text(nbb_formatted_code);\n",
       "                    break;\n",
       "                }\n",
       "            }\n",
       "        }, 500);\n",
       "        "
      ],
      "text/plain": [
       "<IPython.core.display.Javascript object>"
      ]
     },
     "metadata": {},
     "output_type": "display_data"
    }
   ],
   "source": [
    "def flip(n, p):\n",
    "    choices = [1, 0]\n",
    "    probs = [p, 1 - p]\n",
    "    return np.random.choice(choices, n, p=probs)"
   ]
  },
  {
   "cell_type": "markdown",
   "id": "6d721838",
   "metadata": {},
   "source": [
    "Here's an example that simulates a round of 25 targets where the probability of hitting each one is 90%."
   ]
  },
  {
   "cell_type": "code",
   "execution_count": 5,
   "id": "747c1000",
   "metadata": {},
   "outputs": [
    {
     "data": {
      "text/plain": [
       "array([1, 1, 1, 1, 1, 1, 1, 1, 1, 0, 1, 1, 1, 0, 1, 1, 1, 1, 1, 1, 0, 1,\n",
       "       1, 1, 1])"
      ]
     },
     "execution_count": 5,
     "metadata": {},
     "output_type": "execute_result"
    },
    {
     "data": {
      "application/javascript": [
       "\n",
       "        setTimeout(function() {\n",
       "            var nbb_cell_id = 5;\n",
       "            var nbb_formatted_code = \"flip(25, 0.9)\";\n",
       "            var nbb_cells = Jupyter.notebook.get_cells();\n",
       "            for (var i = 0; i < nbb_cells.length; ++i) {\n",
       "                if (nbb_cells[i].input_prompt_number == nbb_cell_id) {\n",
       "                    nbb_cells[i].set_text(nbb_formatted_code);\n",
       "                    break;\n",
       "                }\n",
       "            }\n",
       "        }, 500);\n",
       "        "
      ],
      "text/plain": [
       "<IPython.core.display.Javascript object>"
      ]
     },
     "metadata": {},
     "output_type": "display_data"
    }
   ],
   "source": [
    "flip(25, 0.9)"
   ]
  },
  {
   "cell_type": "markdown",
   "id": "529dc6a2",
   "metadata": {},
   "source": [
    "If we generate a sequence of 1000 attempts, and compute the `Pmf` of the results, we can confirm that the proportions of 1s and 0s are correct, at least approximately."
   ]
  },
  {
   "cell_type": "code",
   "execution_count": 6,
   "id": "bd4a9c2a",
   "metadata": {},
   "outputs": [
    {
     "data": {
      "text/html": [
       "<div>\n",
       "<style scoped>\n",
       "    .dataframe tbody tr th:only-of-type {\n",
       "        vertical-align: middle;\n",
       "    }\n",
       "\n",
       "    .dataframe tbody tr th {\n",
       "        vertical-align: top;\n",
       "    }\n",
       "\n",
       "    .dataframe thead th {\n",
       "        text-align: right;\n",
       "    }\n",
       "</style>\n",
       "<table border=\"1\" class=\"dataframe\">\n",
       "  <thead>\n",
       "    <tr style=\"text-align: right;\">\n",
       "      <th></th>\n",
       "      <th>probs</th>\n",
       "    </tr>\n",
       "  </thead>\n",
       "  <tbody>\n",
       "    <tr>\n",
       "      <th>0</th>\n",
       "      <td>0.1</td>\n",
       "    </tr>\n",
       "    <tr>\n",
       "      <th>1</th>\n",
       "      <td>0.9</td>\n",
       "    </tr>\n",
       "  </tbody>\n",
       "</table>\n",
       "</div>"
      ],
      "text/plain": [
       "0    0.1\n",
       "1    0.9\n",
       "Name: , dtype: float64"
      ]
     },
     "execution_count": 6,
     "metadata": {},
     "output_type": "execute_result"
    },
    {
     "data": {
      "application/javascript": [
       "\n",
       "        setTimeout(function() {\n",
       "            var nbb_cell_id = 6;\n",
       "            var nbb_formatted_code = \"from empiricaldist import Pmf\\n\\nseq = flip(1000, 0.9)\\npmf = Pmf.from_seq(seq)\\npmf\";\n",
       "            var nbb_cells = Jupyter.notebook.get_cells();\n",
       "            for (var i = 0; i < nbb_cells.length; ++i) {\n",
       "                if (nbb_cells[i].input_prompt_number == nbb_cell_id) {\n",
       "                    nbb_cells[i].set_text(nbb_formatted_code);\n",
       "                    break;\n",
       "                }\n",
       "            }\n",
       "        }, 500);\n",
       "        "
      ],
      "text/plain": [
       "<IPython.core.display.Javascript object>"
      ]
     },
     "metadata": {},
     "output_type": "display_data"
    }
   ],
   "source": [
    "from empiricaldist import Pmf\n",
    "\n",
    "seq = flip(1000, 0.9)\n",
    "pmf = Pmf.from_seq(seq)\n",
    "pmf"
   ]
  },
  {
   "cell_type": "markdown",
   "id": "28a62858",
   "metadata": {},
   "source": [
    "Now we can use `flip` to simulate a round of skeet shooting and return the number of hits."
   ]
  },
  {
   "cell_type": "code",
   "execution_count": 7,
   "id": "67ad325e",
   "metadata": {},
   "outputs": [
    {
     "data": {
      "application/javascript": [
       "\n",
       "        setTimeout(function() {\n",
       "            var nbb_cell_id = 7;\n",
       "            var nbb_formatted_code = \"def simulate_round(n, p):\\n    seq = flip(n, p)\\n    return seq.sum()\";\n",
       "            var nbb_cells = Jupyter.notebook.get_cells();\n",
       "            for (var i = 0; i < nbb_cells.length; ++i) {\n",
       "                if (nbb_cells[i].input_prompt_number == nbb_cell_id) {\n",
       "                    nbb_cells[i].set_text(nbb_formatted_code);\n",
       "                    break;\n",
       "                }\n",
       "            }\n",
       "        }, 500);\n",
       "        "
      ],
      "text/plain": [
       "<IPython.core.display.Javascript object>"
      ]
     },
     "metadata": {},
     "output_type": "display_data"
    }
   ],
   "source": [
    "def simulate_round(n, p):\n",
    "    seq = flip(n, p)\n",
    "    return seq.sum()"
   ]
  },
  {
   "cell_type": "markdown",
   "id": "ea2a95d7",
   "metadata": {},
   "source": [
    "In a large competition, suppose 200 competitors shoot 5 rounds each, all with the same probability of hitting the target, `p=0.9`.\n",
    "We can simulate a competition like that by calling `simulate_round` 1000 times."
   ]
  },
  {
   "cell_type": "code",
   "execution_count": 8,
   "id": "b515d45e",
   "metadata": {},
   "outputs": [
    {
     "data": {
      "application/javascript": [
       "\n",
       "        setTimeout(function() {\n",
       "            var nbb_cell_id = 8;\n",
       "            var nbb_formatted_code = \"n = 25\\np = 0.9\\nresults_sim = [simulate_round(n, p) for i in range(1000)]\";\n",
       "            var nbb_cells = Jupyter.notebook.get_cells();\n",
       "            for (var i = 0; i < nbb_cells.length; ++i) {\n",
       "                if (nbb_cells[i].input_prompt_number == nbb_cell_id) {\n",
       "                    nbb_cells[i].set_text(nbb_formatted_code);\n",
       "                    break;\n",
       "                }\n",
       "            }\n",
       "        }, 500);\n",
       "        "
      ],
      "text/plain": [
       "<IPython.core.display.Javascript object>"
      ]
     },
     "metadata": {},
     "output_type": "display_data"
    }
   ],
   "source": [
    "n = 25\n",
    "p = 0.9\n",
    "results_sim = [simulate_round(n, p) for i in range(1000)]"
   ]
  },
  {
   "cell_type": "markdown",
   "id": "d2d07a13",
   "metadata": {},
   "source": [
    "The average score is close to `22.5`, which is the product of `n` and `p`."
   ]
  },
  {
   "cell_type": "code",
   "execution_count": 9,
   "id": "dd2e833c",
   "metadata": {},
   "outputs": [
    {
     "data": {
      "text/plain": [
       "(22.546, 22.5)"
      ]
     },
     "execution_count": 9,
     "metadata": {},
     "output_type": "execute_result"
    },
    {
     "data": {
      "application/javascript": [
       "\n",
       "        setTimeout(function() {\n",
       "            var nbb_cell_id = 9;\n",
       "            var nbb_formatted_code = \"np.mean(results_sim), n * p\";\n",
       "            var nbb_cells = Jupyter.notebook.get_cells();\n",
       "            for (var i = 0; i < nbb_cells.length; ++i) {\n",
       "                if (nbb_cells[i].input_prompt_number == nbb_cell_id) {\n",
       "                    nbb_cells[i].set_text(nbb_formatted_code);\n",
       "                    break;\n",
       "                }\n",
       "            }\n",
       "        }, 500);\n",
       "        "
      ],
      "text/plain": [
       "<IPython.core.display.Javascript object>"
      ]
     },
     "metadata": {},
     "output_type": "display_data"
    }
   ],
   "source": [
    "np.mean(results_sim), n * p"
   ]
  },
  {
   "cell_type": "markdown",
   "id": "5d4d2ebf",
   "metadata": {},
   "source": [
    "Here's what the distribution of the results looks like."
   ]
  },
  {
   "cell_type": "code",
   "execution_count": 10,
   "id": "7c9814c2",
   "metadata": {},
   "outputs": [
    {
     "data": {
      "image/png": "[encoded data removed]",
      "text/plain": [
       "<Figure size 450x262.5 with 1 Axes>"
      ]
     },
     "metadata": {},
     "output_type": "display_data"
    },
    {
     "data": {
      "application/javascript": [
       "\n",
       "        setTimeout(function() {\n",
       "            var nbb_cell_id = 10;\n",
       "            var nbb_formatted_code = \"from empiricaldist import Pmf\\n\\npmf_sim = Pmf.from_seq(results_sim, name=\\\"simulation results\\\")\\n\\npmf_sim.bar(alpha=0.6)\\ndecorate(xlabel=\\\"Hits\\\", ylabel=\\\"PMF\\\")\";\n",
       "            var nbb_cells = Jupyter.notebook.get_cells();\n",
       "            for (var i = 0; i < nbb_cells.length; ++i) {\n",
       "                if (nbb_cells[i].input_prompt_number == nbb_cell_id) {\n",
       "                    nbb_cells[i].set_text(nbb_formatted_code);\n",
       "                    break;\n",
       "                }\n",
       "            }\n",
       "        }, 500);\n",
       "        "
      ],
      "text/plain": [
       "<IPython.core.display.Javascript object>"
      ]
     },
     "metadata": {},
     "output_type": "display_data"
    }
   ],
   "source": [
    "from empiricaldist import Pmf\n",
    "\n",
    "pmf_sim = Pmf.from_seq(results_sim, name=\"simulation results\")\n",
    "\n",
    "pmf_sim.bar(alpha=0.6)\n",
    "decorate(xlabel=\"Hits\", ylabel=\"PMF\")"
   ]
  },
  {
   "cell_type": "markdown",
   "id": "5c498948",
   "metadata": {},
   "source": [
    "Instead of running a simulation, we could have predicted this distribution.\n",
    "Mathematically, we can show that the distribution of these outcomes follows a binomial distribution, which has a PMF that is easy to compute."
   ]
  },
  {
   "cell_type": "code",
   "execution_count": 11,
   "id": "5f3b479d",
   "metadata": {},
   "outputs": [
    {
     "data": {
      "application/javascript": [
       "\n",
       "        setTimeout(function() {\n",
       "            var nbb_cell_id = 11;\n",
       "            var nbb_formatted_code = \"from scipy.special import comb\\n\\n\\ndef binomial_pmf(k, n, p):\\n    \\\"\\\"\\\"Compute the binomial PMF.\\n\\n    k (int or array-like): number of successes\\n    n (int): number of trials\\n    p (float): probability of success on a single trial\\n\\n    returns: float or ndarray\\n    \\\"\\\"\\\"\\n    return comb(n, k) * (p**k) * ((1 - p) ** (n - k))\";\n",
       "            var nbb_cells = Jupyter.notebook.get_cells();\n",
       "            for (var i = 0; i < nbb_cells.length; ++i) {\n",
       "                if (nbb_cells[i].input_prompt_number == nbb_cell_id) {\n",
       "                    nbb_cells[i].set_text(nbb_formatted_code);\n",
       "                    break;\n",
       "                }\n",
       "            }\n",
       "        }, 500);\n",
       "        "
      ],
      "text/plain": [
       "<IPython.core.display.Javascript object>"
      ]
     },
     "metadata": {},
     "output_type": "display_data"
    }
   ],
   "source": [
    "from scipy.special import comb\n",
    "\n",
    "\n",
    "def binomial_pmf(k, n, p):\n",
    "    \"\"\"Compute the binomial PMF.\n",
    "\n",
    "    k (int or array-like): number of successes\n",
    "    n (int): number of trials\n",
    "    p (float): probability of success on a single trial\n",
    "\n",
    "    returns: float or ndarray\n",
    "    \"\"\"\n",
    "    return comb(n, k) * (p**k) * ((1 - p) ** (n - k))"
   ]
  },
  {
   "cell_type": "markdown",
   "id": "ba15dee8",
   "metadata": {},
   "source": [
    "This function computes the probability of getting `k` hits out of `n` attempts, given `p`.\n",
    "If we call this function with a range of `k` values, we can make a `Pmf` that represents the distribution of the outcomes."
   ]
  },
  {
   "cell_type": "code",
   "execution_count": 12,
   "id": "9590e8cc",
   "metadata": {},
   "outputs": [
    {
     "data": {
      "application/javascript": [
       "\n",
       "        setTimeout(function() {\n",
       "            var nbb_cell_id = 12;\n",
       "            var nbb_formatted_code = \"ks = np.arange(16, n + 1)\\nps = binomial_pmf(ks, n, p)\\npmf_binom = Pmf(ps, ks, name=\\\"binomial model\\\")\";\n",
       "            var nbb_cells = Jupyter.notebook.get_cells();\n",
       "            for (var i = 0; i < nbb_cells.length; ++i) {\n",
       "                if (nbb_cells[i].input_prompt_number == nbb_cell_id) {\n",
       "                    nbb_cells[i].set_text(nbb_formatted_code);\n",
       "                    break;\n",
       "                }\n",
       "            }\n",
       "        }, 500);\n",
       "        "
      ],
      "text/plain": [
       "<IPython.core.display.Javascript object>"
      ]
     },
     "metadata": {},
     "output_type": "display_data"
    }
   ],
   "source": [
    "ks = np.arange(16, n + 1)\n",
    "ps = binomial_pmf(ks, n, p)\n",
    "pmf_binom = Pmf(ps, ks, name=\"binomial model\")"
   ]
  },
  {
   "cell_type": "markdown",
   "id": "5b735403",
   "metadata": {},
   "source": [
    "And here's what it looks like compared to the simulation results."
   ]
  },
  {
   "cell_type": "code",
   "execution_count": 13,
   "id": "7a4138df",
   "metadata": {},
   "outputs": [
    {
     "data": {
      "image/png": "[encoded data removed]",
      "text/plain": [
       "<Figure size 450x262.5 with 1 Axes>"
      ]
     },
     "metadata": {},
     "output_type": "display_data"
    },
    {
     "data": {
      "application/javascript": [
       "\n",
       "        setTimeout(function() {\n",
       "            var nbb_cell_id = 13;\n",
       "            var nbb_formatted_code = \"from thinkstats import two_bar_plots\\n\\ntwo_bar_plots(pmf_sim, pmf_binom)\\ndecorate(xlabel=\\\"Hits\\\", ylabel=\\\"PMF\\\")\";\n",
       "            var nbb_cells = Jupyter.notebook.get_cells();\n",
       "            for (var i = 0; i < nbb_cells.length; ++i) {\n",
       "                if (nbb_cells[i].input_prompt_number == nbb_cell_id) {\n",
       "                    nbb_cells[i].set_text(nbb_formatted_code);\n",
       "                    break;\n",
       "                }\n",
       "            }\n",
       "        }, 500);\n",
       "        "
      ],
      "text/plain": [
       "<IPython.core.display.Javascript object>"
      ]
     },
     "metadata": {},
     "output_type": "display_data"
    }
   ],
   "source": [
    "from thinkstats import two_bar_plots\n",
    "\n",
    "two_bar_plots(pmf_sim, pmf_binom)\n",
    "decorate(xlabel=\"Hits\", ylabel=\"PMF\")"
   ]
  },
  {
   "cell_type": "markdown",
   "id": "7879e5af",
   "metadata": {},
   "source": [
    "They are similar, with small differences because of random variation in the simulation results.\n",
    "\n",
    "This agreement should not be surprising, because the simulation and the model are based on the same assumptions -- particularly the assumption that every attempt has the same probability of success.\n",
    "The real test of a model is how it compares to real data.\n",
    "\n",
    "From the Wikipedia page for the men's skeet shooting competition at the 2020 Summer Olympics, we can extract a table that shows the results for the qualification rounds of the competition."
   ]
  },
  {
   "cell_type": "markdown",
   "id": "d724e0ed",
   "metadata": {},
   "source": [
    "Downloaded from <https://en.wikipedia.org/wiki/Shooting_at_the_2020_Summer_Olympics_–_Men's_skeet> on July 15, 2024."
   ]
  },
  {
   "cell_type": "code",
   "execution_count": 14,
   "id": "86b5831c",
   "metadata": {},
   "outputs": [
    {
     "data": {
      "application/javascript": [
       "\n",
       "        setTimeout(function() {\n",
       "            var nbb_cell_id = 14;\n",
       "            var nbb_formatted_code = \"filename = \\\"Shooting_at_the_2020_Summer_Olympics_\\u2013_Men's_skeet\\\"\\ndownload(\\\"https://github.com/AllenDowney/ThinkStats/raw/v3/data/\\\" + filename)\";\n",
       "            var nbb_cells = Jupyter.notebook.get_cells();\n",
       "            for (var i = 0; i < nbb_cells.length; ++i) {\n",
       "                if (nbb_cells[i].input_prompt_number == nbb_cell_id) {\n",
       "                    nbb_cells[i].set_text(nbb_formatted_code);\n",
       "                    break;\n",
       "                }\n",
       "            }\n",
       "        }, 500);\n",
       "        "
      ],
      "text/plain": [
       "<IPython.core.display.Javascript object>"
      ]
     },
     "metadata": {},
     "output_type": "display_data"
    }
   ],
   "source": [
    "filename = \"Shooting_at_the_2020_Summer_Olympics_–_Men's_skeet\"\n",
    "download(\"https://github.com/AllenDowney/ThinkStats/raw/v3/data/\" + filename)"
   ]
  },
  {
   "cell_type": "code",
   "execution_count": 15,
   "id": "80f462d5",
   "metadata": {},
   "outputs": [
    {
     "data": {
      "text/html": [
       "<div>\n",
       "<style scoped>\n",
       "    .dataframe tbody tr th:only-of-type {\n",
       "        vertical-align: middle;\n",
       "    }\n",
       "\n",
       "    .dataframe tbody tr th {\n",
       "        vertical-align: top;\n",
       "    }\n",
       "\n",
       "    .dataframe thead th {\n",
       "        text-align: right;\n",
       "    }\n",
       "</style>\n",
       "<table border=\"1\" class=\"dataframe\">\n",
       "  <thead>\n",
       "    <tr style=\"text-align: right;\">\n",
       "      <th></th>\n",
       "      <th>Rank</th>\n",
       "      <th>Athlete</th>\n",
       "      <th>Country</th>\n",
       "      <th>1</th>\n",
       "      <th>2</th>\n",
       "      <th>3</th>\n",
       "      <th>4</th>\n",
       "      <th>5</th>\n",
       "      <th>Total[3]</th>\n",
       "      <th>Shoot-off</th>\n",
       "      <th>Notes</th>\n",
       "    </tr>\n",
       "  </thead>\n",
       "  <tbody>\n",
       "    <tr>\n",
       "      <th>0</th>\n",
       "      <td>1</td>\n",
       "      <td>Éric Delaunay</td>\n",
       "      <td>France</td>\n",
       "      <td>25</td>\n",
       "      <td>25</td>\n",
       "      <td>25</td>\n",
       "      <td>24</td>\n",
       "      <td>25</td>\n",
       "      <td>124</td>\n",
       "      <td>+6</td>\n",
       "      <td>Q, OR</td>\n",
       "    </tr>\n",
       "    <tr>\n",
       "      <th>1</th>\n",
       "      <td>2</td>\n",
       "      <td>Tammaro Cassandro</td>\n",
       "      <td>Italy</td>\n",
       "      <td>24</td>\n",
       "      <td>25</td>\n",
       "      <td>25</td>\n",
       "      <td>25</td>\n",
       "      <td>25</td>\n",
       "      <td>124</td>\n",
       "      <td>+5</td>\n",
       "      <td>Q, OR</td>\n",
       "    </tr>\n",
       "    <tr>\n",
       "      <th>2</th>\n",
       "      <td>3</td>\n",
       "      <td>Eetu Kallioinen</td>\n",
       "      <td>Finland</td>\n",
       "      <td>25</td>\n",
       "      <td>25</td>\n",
       "      <td>24</td>\n",
       "      <td>25</td>\n",
       "      <td>24</td>\n",
       "      <td>123</td>\n",
       "      <td>NaN</td>\n",
       "      <td>Q</td>\n",
       "    </tr>\n",
       "    <tr>\n",
       "      <th>3</th>\n",
       "      <td>4</td>\n",
       "      <td>Vincent Hancock</td>\n",
       "      <td>United States</td>\n",
       "      <td>25</td>\n",
       "      <td>25</td>\n",
       "      <td>25</td>\n",
       "      <td>25</td>\n",
       "      <td>22</td>\n",
       "      <td>122</td>\n",
       "      <td>+8</td>\n",
       "      <td>Q</td>\n",
       "    </tr>\n",
       "    <tr>\n",
       "      <th>4</th>\n",
       "      <td>5</td>\n",
       "      <td>Abdullah Al-Rashidi</td>\n",
       "      <td>Kuwait</td>\n",
       "      <td>25</td>\n",
       "      <td>25</td>\n",
       "      <td>24</td>\n",
       "      <td>25</td>\n",
       "      <td>23</td>\n",
       "      <td>122</td>\n",
       "      <td>+7</td>\n",
       "      <td>Q</td>\n",
       "    </tr>\n",
       "  </tbody>\n",
       "</table>\n",
       "</div>"
      ],
      "text/plain": [
       "   Rank              Athlete        Country   1   2   3   4   5 Total[3]  \\\n",
       "0     1        Éric Delaunay         France  25  25  25  24  25      124   \n",
       "1     2    Tammaro Cassandro          Italy  24  25  25  25  25      124   \n",
       "2     3      Eetu Kallioinen        Finland  25  25  24  25  24      123   \n",
       "3     4      Vincent Hancock  United States  25  25  25  25  22      122   \n",
       "4     5  Abdullah Al-Rashidi         Kuwait  25  25  24  25  23      122   \n",
       "\n",
       "  Shoot-off  Notes  \n",
       "0        +6  Q, OR  \n",
       "1        +5  Q, OR  \n",
       "2       NaN      Q  \n",
       "3        +8      Q  \n",
       "4        +7      Q  "
      ]
     },
     "execution_count": 15,
     "metadata": {},
     "output_type": "execute_result"
    },
    {
     "data": {
      "application/javascript": [
       "\n",
       "        setTimeout(function() {\n",
       "            var nbb_cell_id = 15;\n",
       "            var nbb_formatted_code = \"tables = pd.read_html(\\\"Shooting_at_the_2020_Summer_Olympics_\\u2013_Men's_skeet\\\")\\ntable = tables[6]\\ntable.head()\";\n",
       "            var nbb_cells = Jupyter.notebook.get_cells();\n",
       "            for (var i = 0; i < nbb_cells.length; ++i) {\n",
       "                if (nbb_cells[i].input_prompt_number == nbb_cell_id) {\n",
       "                    nbb_cells[i].set_text(nbb_formatted_code);\n",
       "                    break;\n",
       "                }\n",
       "            }\n",
       "        }, 500);\n",
       "        "
      ],
      "text/plain": [
       "<IPython.core.display.Javascript object>"
      ]
     },
     "metadata": {},
     "output_type": "display_data"
    }
   ],
   "source": [
    "tables = pd.read_html(\"Shooting_at_the_2020_Summer_Olympics_–_Men's_skeet\")\n",
    "table = tables[6]\n",
    "table.head()"
   ]
  },
  {
   "cell_type": "markdown",
   "id": "ecc26901",
   "metadata": {},
   "source": [
    "The table has one row for each competitors, with one column for each of five rounds.\n",
    "We'll select the columns that contain the results and use `flatten` to put them into a single array."
   ]
  },
  {
   "cell_type": "code",
   "execution_count": 16,
   "id": "58108620",
   "metadata": {},
   "outputs": [
    {
     "data": {
      "application/javascript": [
       "\n",
       "        setTimeout(function() {\n",
       "            var nbb_cell_id = 16;\n",
       "            var nbb_formatted_code = \"columns = [\\\"1\\\", \\\"2\\\", \\\"3\\\", \\\"4\\\", \\\"5\\\"]\\nresults = table[columns].values.flatten()\";\n",
       "            var nbb_cells = Jupyter.notebook.get_cells();\n",
       "            for (var i = 0; i < nbb_cells.length; ++i) {\n",
       "                if (nbb_cells[i].input_prompt_number == nbb_cell_id) {\n",
       "                    nbb_cells[i].set_text(nbb_formatted_code);\n",
       "                    break;\n",
       "                }\n",
       "            }\n",
       "        }, 500);\n",
       "        "
      ],
      "text/plain": [
       "<IPython.core.display.Javascript object>"
      ]
     },
     "metadata": {},
     "output_type": "display_data"
    }
   ],
   "source": [
    "columns = [\"1\", \"2\", \"3\", \"4\", \"5\"]\n",
    "results = table[columns].values.flatten()"
   ]
  },
  {
   "cell_type": "code",
   "execution_count": 17,
   "id": "0798664f",
   "metadata": {},
   "outputs": [
    {
     "data": {
      "text/plain": [
       "(25, 3750, 3575)"
      ]
     },
     "execution_count": 17,
     "metadata": {},
     "output_type": "execute_result"
    },
    {
     "data": {
      "application/javascript": [
       "\n",
       "        setTimeout(function() {\n",
       "            var nbb_cell_id = 17;\n",
       "            var nbb_formatted_code = \"total_shots = 25 * len(results)\\ntotal_hits = results.sum()\\nn, total_shots, total_hits\";\n",
       "            var nbb_cells = Jupyter.notebook.get_cells();\n",
       "            for (var i = 0; i < nbb_cells.length; ++i) {\n",
       "                if (nbb_cells[i].input_prompt_number == nbb_cell_id) {\n",
       "                    nbb_cells[i].set_text(nbb_formatted_code);\n",
       "                    break;\n",
       "                }\n",
       "            }\n",
       "        }, 500);\n",
       "        "
      ],
      "text/plain": [
       "<IPython.core.display.Javascript object>"
      ]
     },
     "metadata": {},
     "output_type": "display_data"
    }
   ],
   "source": [
    "total_shots = 25 * len(results)\n",
    "total_hits = results.sum()\n",
    "n, total_shots, total_hits"
   ]
  },
  {
   "cell_type": "markdown",
   "id": "3bfbd3a3",
   "metadata": {},
   "source": [
    "With 30 competitors, we have results from 150 rounds of 25 shots each, with 3750 hits out of a total of 3575 attempts.\n",
    "So the overall success rate is 95.3%."
   ]
  },
  {
   "cell_type": "code",
   "execution_count": 18,
   "id": "d9c54715",
   "metadata": {},
   "outputs": [
    {
     "data": {
      "text/plain": [
       "0.9533333333333334"
      ]
     },
     "execution_count": 18,
     "metadata": {},
     "output_type": "execute_result"
    },
    {
     "data": {
      "application/javascript": [
       "\n",
       "        setTimeout(function() {\n",
       "            var nbb_cell_id = 18;\n",
       "            var nbb_formatted_code = \"p = total_hits / total_shots\\np\";\n",
       "            var nbb_cells = Jupyter.notebook.get_cells();\n",
       "            for (var i = 0; i < nbb_cells.length; ++i) {\n",
       "                if (nbb_cells[i].input_prompt_number == nbb_cell_id) {\n",
       "                    nbb_cells[i].set_text(nbb_formatted_code);\n",
       "                    break;\n",
       "                }\n",
       "            }\n",
       "        }, 500);\n",
       "        "
      ],
      "text/plain": [
       "<IPython.core.display.Javascript object>"
      ]
     },
     "metadata": {},
     "output_type": "display_data"
    }
   ],
   "source": [
    "p = total_hits / total_shots\n",
    "p"
   ]
  },
  {
   "cell_type": "markdown",
   "id": "0081ed3b",
   "metadata": {},
   "source": [
    "Now we can compute a `Pmf` that represents the binomial distribution with `n=25` and the value of `p` we just computed."
   ]
  },
  {
   "cell_type": "code",
   "execution_count": 19,
   "id": "e936f800",
   "metadata": {},
   "outputs": [
    {
     "data": {
      "application/javascript": [
       "\n",
       "        setTimeout(function() {\n",
       "            var nbb_cell_id = 19;\n",
       "            var nbb_formatted_code = \"ps = binomial_pmf(ks, n, p)\\npmf_binom = Pmf(ps, ks, name=\\\"binomial model\\\")\";\n",
       "            var nbb_cells = Jupyter.notebook.get_cells();\n",
       "            for (var i = 0; i < nbb_cells.length; ++i) {\n",
       "                if (nbb_cells[i].input_prompt_number == nbb_cell_id) {\n",
       "                    nbb_cells[i].set_text(nbb_formatted_code);\n",
       "                    break;\n",
       "                }\n",
       "            }\n",
       "        }, 500);\n",
       "        "
      ],
      "text/plain": [
       "<IPython.core.display.Javascript object>"
      ]
     },
     "metadata": {},
     "output_type": "display_data"
    }
   ],
   "source": [
    "ps = binomial_pmf(ks, n, p)\n",
    "pmf_binom = Pmf(ps, ks, name=\"binomial model\")"
   ]
  },
  {
   "cell_type": "markdown",
   "id": "a83ed3fd",
   "metadata": {},
   "source": [
    "And we can compare that to the `Pmf` of the actual results."
   ]
  },
  {
   "cell_type": "code",
   "execution_count": 20,
   "id": "ee862bb0",
   "metadata": {},
   "outputs": [
    {
     "data": {
      "image/png": "[encoded data removed]",
      "text/plain": [
       "<Figure size 450x262.5 with 1 Axes>"
      ]
     },
     "metadata": {},
     "output_type": "display_data"
    },
    {
     "data": {
      "application/javascript": [
       "\n",
       "        setTimeout(function() {\n",
       "            var nbb_cell_id = 20;\n",
       "            var nbb_formatted_code = \"pmf_results = Pmf.from_seq(results, name=\\\"actual results\\\")\\n\\ntwo_bar_plots(pmf_results, pmf_binom)\\ndecorate(xlabel=\\\"Hits\\\", ylabel=\\\"CDF\\\")\";\n",
       "            var nbb_cells = Jupyter.notebook.get_cells();\n",
       "            for (var i = 0; i < nbb_cells.length; ++i) {\n",
       "                if (nbb_cells[i].input_prompt_number == nbb_cell_id) {\n",
       "                    nbb_cells[i].set_text(nbb_formatted_code);\n",
       "                    break;\n",
       "                }\n",
       "            }\n",
       "        }, 500);\n",
       "        "
      ],
      "text/plain": [
       "<IPython.core.display.Javascript object>"
      ]
     },
     "metadata": {},
     "output_type": "display_data"
    }
   ],
   "source": [
    "pmf_results = Pmf.from_seq(results, name=\"actual results\")\n",
    "\n",
    "two_bar_plots(pmf_results, pmf_binom)\n",
    "decorate(xlabel=\"Hits\", ylabel=\"CDF\")"
   ]
  },
  {
   "cell_type": "markdown",
   "id": "fb98f9e9",
   "metadata": {},
   "source": [
    "The binomial model is a good fit for the distribution of the data."
   ]
  },
  {
   "cell_type": "markdown",
   "id": "c2410330",
   "metadata": {},
   "source": [
    "## The Poisson Distribution\n",
    "\n",
    "As another example where the outcomes of sports events follow predictable patterns, let's look at the number of goals scored in ice hockey games.\n",
    "\n",
    "We'll start by simulating a 60-minute game, which is 3600 seconds, assuming that the teams score a total of 6 goals per game, on average, and that the probability of scoring a goal is the same during any second."
   ]
  },
  {
   "cell_type": "code",
   "execution_count": 21,
   "id": "600e86a5",
   "metadata": {},
   "outputs": [
    {
     "data": {
      "text/plain": [
       "0.0016666666666666668"
      ]
     },
     "execution_count": 21,
     "metadata": {},
     "output_type": "execute_result"
    },
    {
     "data": {
      "application/javascript": [
       "\n",
       "        setTimeout(function() {\n",
       "            var nbb_cell_id = 21;\n",
       "            var nbb_formatted_code = \"n = 3600\\nm = 6\\np = m / 3600\\np\";\n",
       "            var nbb_cells = Jupyter.notebook.get_cells();\n",
       "            for (var i = 0; i < nbb_cells.length; ++i) {\n",
       "                if (nbb_cells[i].input_prompt_number == nbb_cell_id) {\n",
       "                    nbb_cells[i].set_text(nbb_formatted_code);\n",
       "                    break;\n",
       "                }\n",
       "            }\n",
       "        }, 500);\n",
       "        "
      ],
      "text/plain": [
       "<IPython.core.display.Javascript object>"
      ]
     },
     "metadata": {},
     "output_type": "display_data"
    }
   ],
   "source": [
    "n = 3600\n",
    "m = 6\n",
    "p = m / 3600\n",
    "p"
   ]
  },
  {
   "cell_type": "markdown",
   "id": "1dc6fbab",
   "metadata": {},
   "source": [
    "Now we can use the following function to simulate `n` seconds and return the total number of goals scored."
   ]
  },
  {
   "cell_type": "code",
   "execution_count": 22,
   "id": "90168872",
   "metadata": {},
   "outputs": [
    {
     "data": {
      "application/javascript": [
       "\n",
       "        setTimeout(function() {\n",
       "            var nbb_cell_id = 22;\n",
       "            var nbb_formatted_code = \"def simulate_goals(n, p):\\n    return flip(n, p).sum()\";\n",
       "            var nbb_cells = Jupyter.notebook.get_cells();\n",
       "            for (var i = 0; i < nbb_cells.length; ++i) {\n",
       "                if (nbb_cells[i].input_prompt_number == nbb_cell_id) {\n",
       "                    nbb_cells[i].set_text(nbb_formatted_code);\n",
       "                    break;\n",
       "                }\n",
       "            }\n",
       "        }, 500);\n",
       "        "
      ],
      "text/plain": [
       "<IPython.core.display.Javascript object>"
      ]
     },
     "metadata": {},
     "output_type": "display_data"
    }
   ],
   "source": [
    "def simulate_goals(n, p):\n",
    "    return flip(n, p).sum()"
   ]
  },
  {
   "cell_type": "markdown",
   "id": "d88b25ae",
   "metadata": {},
   "source": [
    "If we simulate 1000 games, we can confirm that the average number of goals per game is close to 6."
   ]
  },
  {
   "cell_type": "code",
   "execution_count": 23,
   "id": "b0cb6428",
   "metadata": {},
   "outputs": [
    {
     "data": {
      "text/plain": [
       "6.026"
      ]
     },
     "execution_count": 23,
     "metadata": {},
     "output_type": "execute_result"
    },
    {
     "data": {
      "application/javascript": [
       "\n",
       "        setTimeout(function() {\n",
       "            var nbb_cell_id = 23;\n",
       "            var nbb_formatted_code = \"goals = [simulate_goals(n, p) for i in range(1000)]\\nnp.mean(goals)\";\n",
       "            var nbb_cells = Jupyter.notebook.get_cells();\n",
       "            for (var i = 0; i < nbb_cells.length; ++i) {\n",
       "                if (nbb_cells[i].input_prompt_number == nbb_cell_id) {\n",
       "                    nbb_cells[i].set_text(nbb_formatted_code);\n",
       "                    break;\n",
       "                }\n",
       "            }\n",
       "        }, 500);\n",
       "        "
      ],
      "text/plain": [
       "<IPython.core.display.Javascript object>"
      ]
     },
     "metadata": {},
     "output_type": "display_data"
    }
   ],
   "source": [
    "goals = [simulate_goals(n, p) for i in range(1000)]\n",
    "np.mean(goals)"
   ]
  },
  {
   "cell_type": "markdown",
   "id": "bba8f3af",
   "metadata": {},
   "source": [
    "We could use the binomial distribution to model these results, but when `n` is large and `p` is small, the results are also well-modeled by a Poisson distribution, which has just one parameter, denoted with the Greek letter λ, which is pronounced \"lambda\" and represented in code with the variable `lam` (because `lambda` is a Python keyword).\n",
    "`lam` represents the goal-scoring rate, which is 6 goals per game in the example.\n",
    "\n",
    "The PMF of the Poisson distribution is easy to compute -- given `lam`, we can use the following function to compute the probability of seeing `k` goals in a game."
   ]
  },
  {
   "cell_type": "code",
   "execution_count": 24,
   "id": "f02db715",
   "metadata": {},
   "outputs": [
    {
     "data": {
      "application/javascript": [
       "\n",
       "        setTimeout(function() {\n",
       "            var nbb_cell_id = 24;\n",
       "            var nbb_formatted_code = \"from scipy.special import factorial\\n\\n\\ndef poisson_pmf(k, lam):\\n    \\\"\\\"\\\"Compute the Poisson PMF.\\n\\n    k (int or array-like): The number of occurrences\\n    lam (float): The rate parameter (\\u03bb) of the Poisson distribution\\n\\n    returns: float or ndarray\\n    \\\"\\\"\\\"\\n    return (lam**k) * np.exp(-lam) / factorial(k)\";\n",
       "            var nbb_cells = Jupyter.notebook.get_cells();\n",
       "            for (var i = 0; i < nbb_cells.length; ++i) {\n",
       "                if (nbb_cells[i].input_prompt_number == nbb_cell_id) {\n",
       "                    nbb_cells[i].set_text(nbb_formatted_code);\n",
       "                    break;\n",
       "                }\n",
       "            }\n",
       "        }, 500);\n",
       "        "
      ],
      "text/plain": [
       "<IPython.core.display.Javascript object>"
      ]
     },
     "metadata": {},
     "output_type": "display_data"
    }
   ],
   "source": [
    "from scipy.special import factorial\n",
    "\n",
    "\n",
    "def poisson_pmf(k, lam):\n",
    "    \"\"\"Compute the Poisson PMF.\n",
    "\n",
    "    k (int or array-like): The number of occurrences\n",
    "    lam (float): The rate parameter (λ) of the Poisson distribution\n",
    "\n",
    "    returns: float or ndarray\n",
    "    \"\"\"\n",
    "    return (lam**k) * np.exp(-lam) / factorial(k)"
   ]
  },
  {
   "cell_type": "markdown",
   "id": "4af07cfc",
   "metadata": {},
   "source": [
    "If we call this function with a range of `k` values, we can make a `Pmf` that represents the distribution of outcomes."
   ]
  },
  {
   "cell_type": "code",
   "execution_count": 25,
   "id": "f8ba8513",
   "metadata": {},
   "outputs": [
    {
     "data": {
      "application/javascript": [
       "\n",
       "        setTimeout(function() {\n",
       "            var nbb_cell_id = 25;\n",
       "            var nbb_formatted_code = \"lam = 6\\nks = np.arange(20)\\nps = poisson_pmf(ks, lam)\\npmf_poisson = Pmf(ps, ks, name=\\\"Poisson model\\\")\";\n",
       "            var nbb_cells = Jupyter.notebook.get_cells();\n",
       "            for (var i = 0; i < nbb_cells.length; ++i) {\n",
       "                if (nbb_cells[i].input_prompt_number == nbb_cell_id) {\n",
       "                    nbb_cells[i].set_text(nbb_formatted_code);\n",
       "                    break;\n",
       "                }\n",
       "            }\n",
       "        }, 500);\n",
       "        "
      ],
      "text/plain": [
       "<IPython.core.display.Javascript object>"
      ]
     },
     "metadata": {},
     "output_type": "display_data"
    }
   ],
   "source": [
    "lam = 6\n",
    "ks = np.arange(20)\n",
    "ps = poisson_pmf(ks, lam)\n",
    "pmf_poisson = Pmf(ps, ks, name=\"Poisson model\")"
   ]
  },
  {
   "cell_type": "markdown",
   "id": "d740db17",
   "metadata": {},
   "source": [
    "And confirm that the mean of the distribution is close to 6."
   ]
  },
  {
   "cell_type": "code",
   "execution_count": 26,
   "id": "2b22d566",
   "metadata": {},
   "outputs": [
    {
     "data": {
      "text/plain": [
       "5.999925498375129"
      ]
     },
     "execution_count": 26,
     "metadata": {},
     "output_type": "execute_result"
    },
    {
     "data": {
      "application/javascript": [
       "\n",
       "        setTimeout(function() {\n",
       "            var nbb_cell_id = 26;\n",
       "            var nbb_formatted_code = \"pmf_poisson.normalize()\\npmf_poisson.mean()\";\n",
       "            var nbb_cells = Jupyter.notebook.get_cells();\n",
       "            for (var i = 0; i < nbb_cells.length; ++i) {\n",
       "                if (nbb_cells[i].input_prompt_number == nbb_cell_id) {\n",
       "                    nbb_cells[i].set_text(nbb_formatted_code);\n",
       "                    break;\n",
       "                }\n",
       "            }\n",
       "        }, 500);\n",
       "        "
      ],
      "text/plain": [
       "<IPython.core.display.Javascript object>"
      ]
     },
     "metadata": {},
     "output_type": "display_data"
    }
   ],
   "source": [
    "pmf_poisson.normalize()\n",
    "pmf_poisson.mean()"
   ]
  },
  {
   "cell_type": "markdown",
   "id": "3a4c0728",
   "metadata": {},
   "source": [
    "The following figure compares the results from the simulation to the Poisson distribution with the same mean."
   ]
  },
  {
   "cell_type": "code",
   "execution_count": 27,
   "id": "8231e5fd",
   "metadata": {},
   "outputs": [
    {
     "data": {
      "image/png": "[encoded data removed]",
      "text/plain": [
       "<Figure size 450x262.5 with 1 Axes>"
      ]
     },
     "metadata": {},
     "output_type": "display_data"
    },
    {
     "data": {
      "application/javascript": [
       "\n",
       "        setTimeout(function() {\n",
       "            var nbb_cell_id = 27;\n",
       "            var nbb_formatted_code = \"pmf_sim = Pmf.from_seq(goals, name=\\\"simulation\\\")\\n\\ntwo_bar_plots(pmf_sim, pmf_poisson)\\ndecorate(xlabel=\\\"Goals\\\", ylabel=\\\"PMF\\\")\";\n",
       "            var nbb_cells = Jupyter.notebook.get_cells();\n",
       "            for (var i = 0; i < nbb_cells.length; ++i) {\n",
       "                if (nbb_cells[i].input_prompt_number == nbb_cell_id) {\n",
       "                    nbb_cells[i].set_text(nbb_formatted_code);\n",
       "                    break;\n",
       "                }\n",
       "            }\n",
       "        }, 500);\n",
       "        "
      ],
      "text/plain": [
       "<IPython.core.display.Javascript object>"
      ]
     },
     "metadata": {},
     "output_type": "display_data"
    }
   ],
   "source": [
    "pmf_sim = Pmf.from_seq(goals, name=\"simulation\")\n",
    "\n",
    "two_bar_plots(pmf_sim, pmf_poisson)\n",
    "decorate(xlabel=\"Goals\", ylabel=\"PMF\")"
   ]
  },
  {
   "cell_type": "markdown",
   "id": "2958fdf4",
   "metadata": {},
   "source": [
    "The distributions are similar except for small differences due to random variation.\n",
    "That should not be surprising, because the simulation and the Poisson model are based on the same assumption, notably that the probability of scoring a goal is the same during any second of the game.\n",
    "So the real test is to see how well the model fits real data.\n",
    "\n",
    "From HockeyReference, I downloaded results of every game of the National Hockey League (NHL) 2023-2024 regular season (not including the playoffs).\n",
    "I extracted information about goals scored during 60 minutes of regulation play, not including overtime or tie-breaking shootouts.\n",
    "The results are in an HDF file with one key for each game, and a list of times, in seconds since the beginning of the game, when a goal was scored."
   ]
  },
  {
   "cell_type": "markdown",
   "id": "eda870bc",
   "metadata": {},
   "source": [
    "Row data downloaded from <https://www.hockey-reference.com/leagues/NHL_2024_games.html> on July 16, 2024."
   ]
  },
  {
   "cell_type": "code",
   "execution_count": 28,
   "id": "184ee75f",
   "metadata": {},
   "outputs": [
    {
     "data": {
      "application/javascript": [
       "\n",
       "        setTimeout(function() {\n",
       "            var nbb_cell_id = 28;\n",
       "            var nbb_formatted_code = \"download(\\\"https://github.com/AllenDowney/ThinkStats/raw/v3/data/nhl_2023_2024.hdf\\\")\";\n",
       "            var nbb_cells = Jupyter.notebook.get_cells();\n",
       "            for (var i = 0; i < nbb_cells.length; ++i) {\n",
       "                if (nbb_cells[i].input_prompt_number == nbb_cell_id) {\n",
       "                    nbb_cells[i].set_text(nbb_formatted_code);\n",
       "                    break;\n",
       "                }\n",
       "            }\n",
       "        }, 500);\n",
       "        "
      ],
      "text/plain": [
       "<IPython.core.display.Javascript object>"
      ]
     },
     "metadata": {},
     "output_type": "display_data"
    }
   ],
   "source": [
    "download(\"https://github.com/AllenDowney/ThinkStats/raw/v3/data/nhl_2023_2024.hdf\")"
   ]
  },
  {
   "cell_type": "markdown",
   "id": "95e2f638",
   "metadata": {},
   "source": [
    "Here's how we read the keys from the file."
   ]
  },
  {
   "cell_type": "code",
   "execution_count": 29,
   "id": "4b2c9ae5",
   "metadata": {},
   "outputs": [
    {
     "data": {
      "text/plain": [
       "(1312, '/202310100PIT')"
      ]
     },
     "execution_count": 29,
     "metadata": {},
     "output_type": "execute_result"
    },
    {
     "data": {
      "application/javascript": [
       "\n",
       "        setTimeout(function() {\n",
       "            var nbb_cell_id = 29;\n",
       "            var nbb_formatted_code = \"filename = \\\"nhl_2023_2024.hdf\\\"\\n\\nwith pd.HDFStore(filename, \\\"r\\\") as store:\\n    keys = store.keys()\\n\\nlen(keys), keys[0]\";\n",
       "            var nbb_cells = Jupyter.notebook.get_cells();\n",
       "            for (var i = 0; i < nbb_cells.length; ++i) {\n",
       "                if (nbb_cells[i].input_prompt_number == nbb_cell_id) {\n",
       "                    nbb_cells[i].set_text(nbb_formatted_code);\n",
       "                    break;\n",
       "                }\n",
       "            }\n",
       "        }, 500);\n",
       "        "
      ],
      "text/plain": [
       "<IPython.core.display.Javascript object>"
      ]
     },
     "metadata": {},
     "output_type": "display_data"
    }
   ],
   "source": [
    "filename = \"nhl_2023_2024.hdf\"\n",
    "\n",
    "with pd.HDFStore(filename, \"r\") as store:\n",
    "    keys = store.keys()\n",
    "\n",
    "len(keys), keys[0]"
   ]
  },
  {
   "cell_type": "markdown",
   "id": "559cbeb6",
   "metadata": {},
   "source": [
    "There were 1312 games during the regular season.\n",
    "Each key contains the date of the game and a three-letter abbreviation for the home team.\n",
    "We can use `read_hdf` to look up a key and get the list of times when a goal was scored."
   ]
  },
  {
   "cell_type": "code",
   "execution_count": 30,
   "id": "b39108c7",
   "metadata": {},
   "outputs": [
    {
     "data": {
      "text/plain": [
       "0     424\n",
       "1    1916\n",
       "2    2137\n",
       "3    3005\n",
       "4    3329\n",
       "5    3513\n",
       "dtype: int64"
      ]
     },
     "execution_count": 30,
     "metadata": {},
     "output_type": "execute_result"
    },
    {
     "data": {
      "application/javascript": [
       "\n",
       "        setTimeout(function() {\n",
       "            var nbb_cell_id = 30;\n",
       "            var nbb_formatted_code = \"times = pd.read_hdf(filename, key=keys[0])\\ntimes\";\n",
       "            var nbb_cells = Jupyter.notebook.get_cells();\n",
       "            for (var i = 0; i < nbb_cells.length; ++i) {\n",
       "                if (nbb_cells[i].input_prompt_number == nbb_cell_id) {\n",
       "                    nbb_cells[i].set_text(nbb_formatted_code);\n",
       "                    break;\n",
       "                }\n",
       "            }\n",
       "        }, 500);\n",
       "        "
      ],
      "text/plain": [
       "<IPython.core.display.Javascript object>"
      ]
     },
     "metadata": {},
     "output_type": "display_data"
    }
   ],
   "source": [
    "times = pd.read_hdf(filename, key=keys[0])\n",
    "times"
   ]
  },
  {
   "cell_type": "markdown",
   "id": "fd132503",
   "metadata": {},
   "source": [
    "In the first game of the season, six goals were scored, the first after 424s second of play, the last at after 3513 seconds -- with only 87 seconds left in the game."
   ]
  },
  {
   "cell_type": "code",
   "execution_count": 31,
   "id": "32a54906",
   "metadata": {
    "tags": [
     "remove-print"
    ]
   },
   "outputs": [
    {
     "data": {
      "text/plain": [
       "87"
      ]
     },
     "execution_count": 31,
     "metadata": {},
     "output_type": "execute_result"
    },
    {
     "data": {
      "application/javascript": [
       "\n",
       "        setTimeout(function() {\n",
       "            var nbb_cell_id = 31;\n",
       "            var nbb_formatted_code = \"3600 - times[5]\";\n",
       "            var nbb_cells = Jupyter.notebook.get_cells();\n",
       "            for (var i = 0; i < nbb_cells.length; ++i) {\n",
       "                if (nbb_cells[i].input_prompt_number == nbb_cell_id) {\n",
       "                    nbb_cells[i].set_text(nbb_formatted_code);\n",
       "                    break;\n",
       "                }\n",
       "            }\n",
       "        }, 500);\n",
       "        "
      ],
      "text/plain": [
       "<IPython.core.display.Javascript object>"
      ]
     },
     "metadata": {},
     "output_type": "display_data"
    }
   ],
   "source": [
    "3600 - times[5]"
   ]
  },
  {
   "cell_type": "markdown",
   "id": "99919d66",
   "metadata": {},
   "source": [
    "The following loop reads the results for all games, counts the number of goals, and stores the result in a list."
   ]
  },
  {
   "cell_type": "code",
   "execution_count": 32,
   "id": "ffcf3dfd",
   "metadata": {},
   "outputs": [
    {
     "data": {
      "application/javascript": [
       "\n",
       "        setTimeout(function() {\n",
       "            var nbb_cell_id = 32;\n",
       "            var nbb_formatted_code = \"goals = []\\n\\nfor key in keys:\\n    times = pd.read_hdf(filename, key=key)\\n    n = len(times)\\n    goals.append(n)\";\n",
       "            var nbb_cells = Jupyter.notebook.get_cells();\n",
       "            for (var i = 0; i < nbb_cells.length; ++i) {\n",
       "                if (nbb_cells[i].input_prompt_number == nbb_cell_id) {\n",
       "                    nbb_cells[i].set_text(nbb_formatted_code);\n",
       "                    break;\n",
       "                }\n",
       "            }\n",
       "        }, 500);\n",
       "        "
      ],
      "text/plain": [
       "<IPython.core.display.Javascript object>"
      ]
     },
     "metadata": {},
     "output_type": "display_data"
    }
   ],
   "source": [
    "goals = []\n",
    "\n",
    "for key in keys:\n",
    "    times = pd.read_hdf(filename, key=key)\n",
    "    n = len(times)\n",
    "    goals.append(n)"
   ]
  },
  {
   "cell_type": "markdown",
   "id": "1d84dd07",
   "metadata": {},
   "source": [
    "The average number of goals per game is just over 6."
   ]
  },
  {
   "cell_type": "code",
   "execution_count": 33,
   "id": "4f6ab6bc",
   "metadata": {},
   "outputs": [
    {
     "data": {
      "text/plain": [
       "6.0182926829268295"
      ]
     },
     "execution_count": 33,
     "metadata": {},
     "output_type": "execute_result"
    },
    {
     "data": {
      "application/javascript": [
       "\n",
       "        setTimeout(function() {\n",
       "            var nbb_cell_id = 33;\n",
       "            var nbb_formatted_code = \"lam = np.mean(goals)\\nlam\";\n",
       "            var nbb_cells = Jupyter.notebook.get_cells();\n",
       "            for (var i = 0; i < nbb_cells.length; ++i) {\n",
       "                if (nbb_cells[i].input_prompt_number == nbb_cell_id) {\n",
       "                    nbb_cells[i].set_text(nbb_formatted_code);\n",
       "                    break;\n",
       "                }\n",
       "            }\n",
       "        }, 500);\n",
       "        "
      ],
      "text/plain": [
       "<IPython.core.display.Javascript object>"
      ]
     },
     "metadata": {},
     "output_type": "display_data"
    }
   ],
   "source": [
    "lam = np.mean(goals)\n",
    "lam"
   ]
  },
  {
   "cell_type": "markdown",
   "id": "b61ec268",
   "metadata": {},
   "source": [
    "We can use `poisson_pmf` to make a `Pmf` that represents a Poisson distribution with the same mean as the data."
   ]
  },
  {
   "cell_type": "code",
   "execution_count": 34,
   "id": "b5bec1ba",
   "metadata": {},
   "outputs": [
    {
     "data": {
      "application/javascript": [
       "\n",
       "        setTimeout(function() {\n",
       "            var nbb_cell_id = 34;\n",
       "            var nbb_formatted_code = \"ps = poisson_pmf(ks, lam)\\npmf_poisson = Pmf(ps, ks, name=\\\"Poisson model\\\")\";\n",
       "            var nbb_cells = Jupyter.notebook.get_cells();\n",
       "            for (var i = 0; i < nbb_cells.length; ++i) {\n",
       "                if (nbb_cells[i].input_prompt_number == nbb_cell_id) {\n",
       "                    nbb_cells[i].set_text(nbb_formatted_code);\n",
       "                    break;\n",
       "                }\n",
       "            }\n",
       "        }, 500);\n",
       "        "
      ],
      "text/plain": [
       "<IPython.core.display.Javascript object>"
      ]
     },
     "metadata": {},
     "output_type": "display_data"
    }
   ],
   "source": [
    "ps = poisson_pmf(ks, lam)\n",
    "pmf_poisson = Pmf(ps, ks, name=\"Poisson model\")"
   ]
  },
  {
   "cell_type": "markdown",
   "id": "bb748573",
   "metadata": {},
   "source": [
    "And here's what it looks like compared to the PMF of the data."
   ]
  },
  {
   "cell_type": "code",
   "execution_count": 35,
   "id": "e97704a1",
   "metadata": {},
   "outputs": [
    {
     "data": {
      "image/png": "[encoded data removed]",
      "text/plain": [
       "<Figure size 450x262.5 with 1 Axes>"
      ]
     },
     "metadata": {},
     "output_type": "display_data"
    },
    {
     "data": {
      "application/javascript": [
       "\n",
       "        setTimeout(function() {\n",
       "            var nbb_cell_id = 35;\n",
       "            var nbb_formatted_code = \"pmf_goals = Pmf.from_seq(goals, name=\\\"home goals\\\")\\n\\ntwo_bar_plots(pmf_goals, pmf_poisson)\\ndecorate(xlabel=\\\"Goals\\\", ylabel=\\\"PMF\\\")\";\n",
       "            var nbb_cells = Jupyter.notebook.get_cells();\n",
       "            for (var i = 0; i < nbb_cells.length; ++i) {\n",
       "                if (nbb_cells[i].input_prompt_number == nbb_cell_id) {\n",
       "                    nbb_cells[i].set_text(nbb_formatted_code);\n",
       "                    break;\n",
       "                }\n",
       "            }\n",
       "        }, 500);\n",
       "        "
      ],
      "text/plain": [
       "<IPython.core.display.Javascript object>"
      ]
     },
     "metadata": {},
     "output_type": "display_data"
    }
   ],
   "source": [
    "pmf_goals = Pmf.from_seq(goals, name=\"home goals\")\n",
    "\n",
    "two_bar_plots(pmf_goals, pmf_poisson)\n",
    "decorate(xlabel=\"Goals\", ylabel=\"PMF\")"
   ]
  },
  {
   "cell_type": "markdown",
   "id": "6fac89a4",
   "metadata": {},
   "source": [
    "The data fit the Poisson model remarkably well."
   ]
  },
  {
   "cell_type": "markdown",
   "id": "c50c6fc5",
   "metadata": {},
   "source": [
    "## The Exponential Distribution\n",
    "\n",
    "In the previous section, we simulated a simple model of a hockey game where a goal has the same probability of being scored during any second of the game.\n",
    "Under the same model, it turns out, the times until the first goal follow an **exponential distribution**.\n",
    "\n",
    "To demonstrate, let's assume again that the teams score a total of 6 goals, on average, and compute the probability of a goal during each second."
   ]
  },
  {
   "cell_type": "code",
   "execution_count": 36,
   "id": "a3e05e31",
   "metadata": {},
   "outputs": [
    {
     "data": {
      "text/plain": [
       "0.0016666666666666668"
      ]
     },
     "execution_count": 36,
     "metadata": {},
     "output_type": "execute_result"
    },
    {
     "data": {
      "application/javascript": [
       "\n",
       "        setTimeout(function() {\n",
       "            var nbb_cell_id = 36;\n",
       "            var nbb_formatted_code = \"n = 3600\\nm = 6\\np = m / 3600\\np\";\n",
       "            var nbb_cells = Jupyter.notebook.get_cells();\n",
       "            for (var i = 0; i < nbb_cells.length; ++i) {\n",
       "                if (nbb_cells[i].input_prompt_number == nbb_cell_id) {\n",
       "                    nbb_cells[i].set_text(nbb_formatted_code);\n",
       "                    break;\n",
       "                }\n",
       "            }\n",
       "        }, 500);\n",
       "        "
      ],
      "text/plain": [
       "<IPython.core.display.Javascript object>"
      ]
     },
     "metadata": {},
     "output_type": "display_data"
    }
   ],
   "source": [
    "n = 3600\n",
    "m = 6\n",
    "p = m / 3600\n",
    "p"
   ]
  },
  {
   "cell_type": "markdown",
   "id": "a221b23a",
   "metadata": {},
   "source": [
    "The following function simulates `n` seconds and uses `argmax` to find the time of the first goal."
   ]
  },
  {
   "cell_type": "code",
   "execution_count": 37,
   "id": "8c1052b2",
   "metadata": {},
   "outputs": [
    {
     "data": {
      "application/javascript": [
       "\n",
       "        setTimeout(function() {\n",
       "            var nbb_cell_id = 37;\n",
       "            var nbb_formatted_code = \"def simulate_first_goal(n, p):\\n    return flip(n, p).argmax()\";\n",
       "            var nbb_cells = Jupyter.notebook.get_cells();\n",
       "            for (var i = 0; i < nbb_cells.length; ++i) {\n",
       "                if (nbb_cells[i].input_prompt_number == nbb_cell_id) {\n",
       "                    nbb_cells[i].set_text(nbb_formatted_code);\n",
       "                    break;\n",
       "                }\n",
       "            }\n",
       "        }, 500);\n",
       "        "
      ],
      "text/plain": [
       "<IPython.core.display.Javascript object>"
      ]
     },
     "metadata": {},
     "output_type": "display_data"
    }
   ],
   "source": [
    "def simulate_first_goal(n, p):\n",
    "    return flip(n, p).argmax()"
   ]
  },
  {
   "cell_type": "markdown",
   "id": "56185216",
   "metadata": {},
   "source": [
    "This works because the result from `flip` is a sequence of 1s and 0s, so the maximum is almost always 1.\n",
    "If there is at least one goal in the sequence, `argmax` returns the index of the first.\n",
    "If there are no goals, it returns 0, but that happens seldom enough that we'll ignore it.\n",
    "\n",
    "We'll use `simulate_first_goal` to simulate 1000 games and make a list of the times until the first goal."
   ]
  },
  {
   "cell_type": "code",
   "execution_count": 38,
   "id": "380ff529",
   "metadata": {},
   "outputs": [
    {
     "data": {
      "text/plain": [
       "602.07"
      ]
     },
     "execution_count": 38,
     "metadata": {},
     "output_type": "execute_result"
    },
    {
     "data": {
      "application/javascript": [
       "\n",
       "        setTimeout(function() {\n",
       "            var nbb_cell_id = 38;\n",
       "            var nbb_formatted_code = \"first_goal_times = [simulate_first_goal(n, p) for i in range(1000)]\\nmean = np.mean(first_goal_times)\\nmean\";\n",
       "            var nbb_cells = Jupyter.notebook.get_cells();\n",
       "            for (var i = 0; i < nbb_cells.length; ++i) {\n",
       "                if (nbb_cells[i].input_prompt_number == nbb_cell_id) {\n",
       "                    nbb_cells[i].set_text(nbb_formatted_code);\n",
       "                    break;\n",
       "                }\n",
       "            }\n",
       "        }, 500);\n",
       "        "
      ],
      "text/plain": [
       "<IPython.core.display.Javascript object>"
      ]
     },
     "metadata": {},
     "output_type": "display_data"
    }
   ],
   "source": [
    "first_goal_times = [simulate_first_goal(n, p) for i in range(1000)]\n",
    "mean = np.mean(first_goal_times)\n",
    "mean"
   ]
  },
  {
   "cell_type": "markdown",
   "id": "b0ee4dd3",
   "metadata": {},
   "source": [
    "The average time until the first goal is about 600 seconds, or 10 minutes.\n",
    "And that makes sense -- if we expect 6 goals per game, we expect one goal every 10 minutes, on average."
   ]
  },
  {
   "cell_type": "markdown",
   "id": "3a3afd97",
   "metadata": {},
   "source": [
    "When `n` is large and `p` is small, we can show mathematically that the expected time until the first goal follows an exponential distribution.\n",
    "\n",
    "Because the simulation generates many unique time values, we'll use CDFs to compare distributions, rather than PMFs.\n",
    "And the CDF of the exponential distribution is easy to compute."
   ]
  },
  {
   "cell_type": "code",
   "execution_count": 39,
   "id": "1a306c50",
   "metadata": {},
   "outputs": [
    {
     "data": {
      "application/javascript": [
       "\n",
       "        setTimeout(function() {\n",
       "            var nbb_cell_id = 39;\n",
       "            var nbb_formatted_code = \"def exponential_cdf(t, lam):\\n    return 1 - np.exp(-lam * t)\";\n",
       "            var nbb_cells = Jupyter.notebook.get_cells();\n",
       "            for (var i = 0; i < nbb_cells.length; ++i) {\n",
       "                if (nbb_cells[i].input_prompt_number == nbb_cell_id) {\n",
       "                    nbb_cells[i].set_text(nbb_formatted_code);\n",
       "                    break;\n",
       "                }\n",
       "            }\n",
       "        }, 500);\n",
       "        "
      ],
      "text/plain": [
       "<IPython.core.display.Javascript object>"
      ]
     },
     "metadata": {},
     "output_type": "display_data"
    }
   ],
   "source": [
    "def exponential_cdf(t, lam):\n",
    "    return 1 - np.exp(-lam * t)"
   ]
  },
  {
   "cell_type": "markdown",
   "id": "4fdccc6c",
   "metadata": {},
   "source": [
    "The parameter, `lam`, is the average number of events per unit of time -- in this example it is goals per second.\n",
    "We can use the mean of the simulated results to compute lam."
   ]
  },
  {
   "cell_type": "code",
   "execution_count": 40,
   "id": "2dfbaf1d",
   "metadata": {},
   "outputs": [
    {
     "data": {
      "text/plain": [
       "0.0016609364359625957"
      ]
     },
     "execution_count": 40,
     "metadata": {},
     "output_type": "execute_result"
    },
    {
     "data": {
      "application/javascript": [
       "\n",
       "        setTimeout(function() {\n",
       "            var nbb_cell_id = 40;\n",
       "            var nbb_formatted_code = \"lam = 1 / mean\\nlam\";\n",
       "            var nbb_cells = Jupyter.notebook.get_cells();\n",
       "            for (var i = 0; i < nbb_cells.length; ++i) {\n",
       "                if (nbb_cells[i].input_prompt_number == nbb_cell_id) {\n",
       "                    nbb_cells[i].set_text(nbb_formatted_code);\n",
       "                    break;\n",
       "                }\n",
       "            }\n",
       "        }, 500);\n",
       "        "
      ],
      "text/plain": [
       "<IPython.core.display.Javascript object>"
      ]
     },
     "metadata": {},
     "output_type": "display_data"
    }
   ],
   "source": [
    "lam = 1 / mean\n",
    "lam"
   ]
  },
  {
   "cell_type": "markdown",
   "id": "5e5cfba3",
   "metadata": {},
   "source": [
    "If we call this function with a range of time values, we can approximate the distribution of first goal times."
   ]
  },
  {
   "cell_type": "code",
   "execution_count": 41,
   "id": "07f133ab",
   "metadata": {},
   "outputs": [
    {
     "data": {
      "application/javascript": [
       "\n",
       "        setTimeout(function() {\n",
       "            var nbb_cell_id = 41;\n",
       "            var nbb_formatted_code = \"from empiricaldist import Cdf\\n\\nts = np.linspace(0, 3600, 201)\\nps = exponential_cdf(ts, lam)\\ncdf_expo = Cdf(ps, ts, name=\\\"exponential model\\\")\";\n",
       "            var nbb_cells = Jupyter.notebook.get_cells();\n",
       "            for (var i = 0; i < nbb_cells.length; ++i) {\n",
       "                if (nbb_cells[i].input_prompt_number == nbb_cell_id) {\n",
       "                    nbb_cells[i].set_text(nbb_formatted_code);\n",
       "                    break;\n",
       "                }\n",
       "            }\n",
       "        }, 500);\n",
       "        "
      ],
      "text/plain": [
       "<IPython.core.display.Javascript object>"
      ]
     },
     "metadata": {},
     "output_type": "display_data"
    }
   ],
   "source": [
    "from empiricaldist import Cdf\n",
    "\n",
    "ts = np.linspace(0, 3600, 201)\n",
    "ps = exponential_cdf(ts, lam)\n",
    "cdf_expo = Cdf(ps, ts, name=\"exponential model\")"
   ]
  },
  {
   "cell_type": "markdown",
   "id": "084f957c",
   "metadata": {},
   "source": [
    "The following figure compares the simulation results to the exponential distribution we just computed."
   ]
  },
  {
   "cell_type": "code",
   "execution_count": 42,
   "id": "09108861",
   "metadata": {},
   "outputs": [
    {
     "data": {
      "image/png": "[encoded data removed]",
      "text/plain": [
       "<Figure size 450x262.5 with 1 Axes>"
      ]
     },
     "metadata": {},
     "output_type": "display_data"
    },
    {
     "data": {
      "application/javascript": [
       "\n",
       "        setTimeout(function() {\n",
       "            var nbb_cell_id = 42;\n",
       "            var nbb_formatted_code = \"cdf_sim = Cdf.from_seq(first_goal_times, name=\\\"simulation\\\")\\n\\ncdf_expo.plot(alpha=0.6, color=\\\"gray\\\")\\ncdf_sim.plot(alpha=0.6)\\n\\ndecorate(xlabel=\\\"Time of first goal (seconds)\\\", ylabel=\\\"CDF\\\")\";\n",
       "            var nbb_cells = Jupyter.notebook.get_cells();\n",
       "            for (var i = 0; i < nbb_cells.length; ++i) {\n",
       "                if (nbb_cells[i].input_prompt_number == nbb_cell_id) {\n",
       "                    nbb_cells[i].set_text(nbb_formatted_code);\n",
       "                    break;\n",
       "                }\n",
       "            }\n",
       "        }, 500);\n",
       "        "
      ],
      "text/plain": [
       "<IPython.core.display.Javascript object>"
      ]
     },
     "metadata": {},
     "output_type": "display_data"
    }
   ],
   "source": [
    "cdf_sim = Cdf.from_seq(first_goal_times, name=\"simulation\")\n",
    "\n",
    "cdf_expo.plot(alpha=0.6, color=\"gray\")\n",
    "cdf_sim.plot(alpha=0.6)\n",
    "\n",
    "decorate(xlabel=\"Time of first goal (seconds)\", ylabel=\"CDF\")"
   ]
  },
  {
   "cell_type": "markdown",
   "id": "15579092",
   "metadata": {},
   "source": [
    "The exponential model fits the results from the simulation very well -- but the real test is to see how it does with real data.\n",
    "\n",
    "The following loop reads the results for all games, gets the time of the first goal, and stores the result in a list.\n",
    "If no goals were scored, it adds `nan` to the list."
   ]
  },
  {
   "cell_type": "code",
   "execution_count": 43,
   "id": "ac770972",
   "metadata": {
    "tags": [
     "remove-print"
    ]
   },
   "outputs": [
    {
     "data": {
      "application/javascript": [
       "\n",
       "        setTimeout(function() {\n",
       "            var nbb_cell_id = 43;\n",
       "            var nbb_formatted_code = \"filename = \\\"nhl_2023_2024.hdf\\\"\\n\\nwith pd.HDFStore(filename, \\\"r\\\") as store:\\n    keys = store.keys()\";\n",
       "            var nbb_cells = Jupyter.notebook.get_cells();\n",
       "            for (var i = 0; i < nbb_cells.length; ++i) {\n",
       "                if (nbb_cells[i].input_prompt_number == nbb_cell_id) {\n",
       "                    nbb_cells[i].set_text(nbb_formatted_code);\n",
       "                    break;\n",
       "                }\n",
       "            }\n",
       "        }, 500);\n",
       "        "
      ],
      "text/plain": [
       "<IPython.core.display.Javascript object>"
      ]
     },
     "metadata": {},
     "output_type": "display_data"
    }
   ],
   "source": [
    "filename = \"nhl_2023_2024.hdf\"\n",
    "\n",
    "with pd.HDFStore(filename, \"r\") as store:\n",
    "    keys = store.keys()"
   ]
  },
  {
   "cell_type": "code",
   "execution_count": 44,
   "id": "ae894db8",
   "metadata": {},
   "outputs": [
    {
     "data": {
      "application/javascript": [
       "\n",
       "        setTimeout(function() {\n",
       "            var nbb_cell_id = 44;\n",
       "            var nbb_formatted_code = \"firsts = []\\n\\nfor key in keys:\\n    times = pd.read_hdf(filename, key=key)\\n    if len(times) > 0:\\n        firsts.append(times[0])\\n    else:\\n        firsts.append(np.nan)\";\n",
       "            var nbb_cells = Jupyter.notebook.get_cells();\n",
       "            for (var i = 0; i < nbb_cells.length; ++i) {\n",
       "                if (nbb_cells[i].input_prompt_number == nbb_cell_id) {\n",
       "                    nbb_cells[i].set_text(nbb_formatted_code);\n",
       "                    break;\n",
       "                }\n",
       "            }\n",
       "        }, 500);\n",
       "        "
      ],
      "text/plain": [
       "<IPython.core.display.Javascript object>"
      ]
     },
     "metadata": {},
     "output_type": "display_data"
    }
   ],
   "source": [
    "firsts = []\n",
    "\n",
    "for key in keys:\n",
    "    times = pd.read_hdf(filename, key=key)\n",
    "    if len(times) > 0:\n",
    "        firsts.append(times[0])\n",
    "    else:\n",
    "        firsts.append(np.nan)"
   ]
  },
  {
   "cell_type": "markdown",
   "id": "dc068e1c",
   "metadata": {},
   "source": [
    "To estimate the goal-scoring rate, we can use `nanmean`, which computes the mean of the times, ignoring `nan` values."
   ]
  },
  {
   "cell_type": "code",
   "execution_count": 45,
   "id": "34e582dd",
   "metadata": {},
   "outputs": [
    {
     "data": {
      "text/plain": [
       "0.0015121567467720825"
      ]
     },
     "execution_count": 45,
     "metadata": {},
     "output_type": "execute_result"
    },
    {
     "data": {
      "application/javascript": [
       "\n",
       "        setTimeout(function() {\n",
       "            var nbb_cell_id = 45;\n",
       "            var nbb_formatted_code = \"lam = 1 / np.nanmean(firsts)\\nlam\";\n",
       "            var nbb_cells = Jupyter.notebook.get_cells();\n",
       "            for (var i = 0; i < nbb_cells.length; ++i) {\n",
       "                if (nbb_cells[i].input_prompt_number == nbb_cell_id) {\n",
       "                    nbb_cells[i].set_text(nbb_formatted_code);\n",
       "                    break;\n",
       "                }\n",
       "            }\n",
       "        }, 500);\n",
       "        "
      ],
      "text/plain": [
       "<IPython.core.display.Javascript object>"
      ]
     },
     "metadata": {},
     "output_type": "display_data"
    }
   ],
   "source": [
    "lam = 1 / np.nanmean(firsts)\n",
    "lam"
   ]
  },
  {
   "cell_type": "markdown",
   "id": "3424954f",
   "metadata": {},
   "source": [
    "Now we can compute the CDF of an exponential distribution with the same goal-scoring rate as the data."
   ]
  },
  {
   "cell_type": "code",
   "execution_count": 46,
   "id": "b735052d",
   "metadata": {},
   "outputs": [
    {
     "data": {
      "application/javascript": [
       "\n",
       "        setTimeout(function() {\n",
       "            var nbb_cell_id = 46;\n",
       "            var nbb_formatted_code = \"ps = exponential_cdf(ts, lam)\\ncdf_expo = Cdf(ps, ts, name=\\\"exponential model\\\")\";\n",
       "            var nbb_cells = Jupyter.notebook.get_cells();\n",
       "            for (var i = 0; i < nbb_cells.length; ++i) {\n",
       "                if (nbb_cells[i].input_prompt_number == nbb_cell_id) {\n",
       "                    nbb_cells[i].set_text(nbb_formatted_code);\n",
       "                    break;\n",
       "                }\n",
       "            }\n",
       "        }, 500);\n",
       "        "
      ],
      "text/plain": [
       "<IPython.core.display.Javascript object>"
      ]
     },
     "metadata": {},
     "output_type": "display_data"
    }
   ],
   "source": [
    "ps = exponential_cdf(ts, lam)\n",
    "cdf_expo = Cdf(ps, ts, name=\"exponential model\")"
   ]
  },
  {
   "cell_type": "markdown",
   "id": "fec90844",
   "metadata": {},
   "source": [
    "To compute the CDF of the data, we'll use the `dropna=False` argument, which includes `nan` values at the end."
   ]
  },
  {
   "cell_type": "code",
   "execution_count": 47,
   "id": "c8211d5a",
   "metadata": {},
   "outputs": [
    {
     "data": {
      "text/html": [
       "<div>\n",
       "<style scoped>\n",
       "    .dataframe tbody tr th:only-of-type {\n",
       "        vertical-align: middle;\n",
       "    }\n",
       "\n",
       "    .dataframe tbody tr th {\n",
       "        vertical-align: top;\n",
       "    }\n",
       "\n",
       "    .dataframe thead th {\n",
       "        text-align: right;\n",
       "    }\n",
       "</style>\n",
       "<table border=\"1\" class=\"dataframe\">\n",
       "  <thead>\n",
       "    <tr style=\"text-align: right;\">\n",
       "      <th></th>\n",
       "      <th>probs</th>\n",
       "    </tr>\n",
       "  </thead>\n",
       "  <tbody>\n",
       "    <tr>\n",
       "      <th>3286.0</th>\n",
       "      <td>0.996951</td>\n",
       "    </tr>\n",
       "    <tr>\n",
       "      <th>3581.0</th>\n",
       "      <td>0.997713</td>\n",
       "    </tr>\n",
       "    <tr>\n",
       "      <th>NaN</th>\n",
       "      <td>1.000000</td>\n",
       "    </tr>\n",
       "  </tbody>\n",
       "</table>\n",
       "</div>"
      ],
      "text/plain": [
       "3286.0    0.996951\n",
       "3581.0    0.997713\n",
       "NaN       1.000000\n",
       "Name: data, dtype: float64"
      ]
     },
     "execution_count": 47,
     "metadata": {},
     "output_type": "execute_result"
    },
    {
     "data": {
      "application/javascript": [
       "\n",
       "        setTimeout(function() {\n",
       "            var nbb_cell_id = 47;\n",
       "            var nbb_formatted_code = \"cdf_firsts = Cdf.from_seq(firsts, name=\\\"data\\\", dropna=False)\\ncdf_firsts.tail()\";\n",
       "            var nbb_cells = Jupyter.notebook.get_cells();\n",
       "            for (var i = 0; i < nbb_cells.length; ++i) {\n",
       "                if (nbb_cells[i].input_prompt_number == nbb_cell_id) {\n",
       "                    nbb_cells[i].set_text(nbb_formatted_code);\n",
       "                    break;\n",
       "                }\n",
       "            }\n",
       "        }, 500);\n",
       "        "
      ],
      "text/plain": [
       "<IPython.core.display.Javascript object>"
      ]
     },
     "metadata": {},
     "output_type": "display_data"
    }
   ],
   "source": [
    "cdf_firsts = Cdf.from_seq(firsts, name=\"data\", dropna=False)\n",
    "cdf_firsts.tail()"
   ]
  },
  {
   "cell_type": "markdown",
   "id": "2ab13fa7",
   "metadata": {},
   "source": [
    "The following figure compares the exponential distribution to the distribution of the data."
   ]
  },
  {
   "cell_type": "code",
   "execution_count": 48,
   "id": "514f52fe",
   "metadata": {
    "scrolled": true
   },
   "outputs": [
    {
     "data": {
      "image/png": "[encoded data removed]",
      "text/plain": [
       "<Figure size 450x262.5 with 1 Axes>"
      ]
     },
     "metadata": {},
     "output_type": "display_data"
    },
    {
     "data": {
      "application/javascript": [
       "\n",
       "        setTimeout(function() {\n",
       "            var nbb_cell_id = 48;\n",
       "            var nbb_formatted_code = \"cdf_expo.plot(alpha=0.6, color=\\\"gray\\\")\\ncdf_firsts.plot(alpha=0.6)\\n\\ndecorate(xlabel=\\\"Time of first goal (seconds)\\\", ylabel=\\\"CDF\\\")\";\n",
       "            var nbb_cells = Jupyter.notebook.get_cells();\n",
       "            for (var i = 0; i < nbb_cells.length; ++i) {\n",
       "                if (nbb_cells[i].input_prompt_number == nbb_cell_id) {\n",
       "                    nbb_cells[i].set_text(nbb_formatted_code);\n",
       "                    break;\n",
       "                }\n",
       "            }\n",
       "        }, 500);\n",
       "        "
      ],
      "text/plain": [
       "<IPython.core.display.Javascript object>"
      ]
     },
     "metadata": {},
     "output_type": "display_data"
    }
   ],
   "source": [
    "cdf_expo.plot(alpha=0.6, color=\"gray\")\n",
    "cdf_firsts.plot(alpha=0.6)\n",
    "\n",
    "decorate(xlabel=\"Time of first goal (seconds)\", ylabel=\"CDF\")"
   ]
  },
  {
   "cell_type": "markdown",
   "id": "dc25e009",
   "metadata": {},
   "source": [
    "The data deviate from the model in some places -- it looks like there are fewer goals in the first 1000 seconds than the model predicts.\n",
    "But still, the model fits the data well.\n",
    "\n",
    "The underlying assumption of these models -- the Poisson model of goals and the exponential model of times -- is that a goal is equally likely during any second of a game.\n",
    "If you ask a hockey fan whether that's true, they would say no, and they would be right -- the real world violates assumptions like these in many ways.\n",
    "But despite these violations, theoretical distributions often fit real data remarkably well."
   ]
  },
  {
   "cell_type": "markdown",
   "id": "58afaa9f",
   "metadata": {},
   "source": [
    "## The Normal Distribution\n",
    "\n",
    "Many things we measure in the real world follow a normal distribution, also known as a Gaussian distribution or a \"bell curve\".\n",
    "To see where these distributions come from, let's consider a model of the way giant pumpkins grow.\n",
    "Suppose that each day, a pumpkin gains 1 pound if the weather is bad, 2 pounds if the weather is fair, and 3 pounds if the weather is good.\n",
    "And suppose the weather each day is bad, fair, or good with the same probability.\n",
    "\n",
    "We can use the following function to simulate this model for `n` days and return the total of the weight gains."
   ]
  },
  {
   "cell_type": "code",
   "execution_count": 49,
   "id": "3cbcb8fb",
   "metadata": {},
   "outputs": [
    {
     "data": {
      "application/javascript": [
       "\n",
       "        setTimeout(function() {\n",
       "            var nbb_cell_id = 49;\n",
       "            var nbb_formatted_code = \"def simulate_growth(n):\\n    choices = [1, 2, 3]\\n    gains = np.random.choice(choices, n)\\n    return gains.sum()\";\n",
       "            var nbb_cells = Jupyter.notebook.get_cells();\n",
       "            for (var i = 0; i < nbb_cells.length; ++i) {\n",
       "                if (nbb_cells[i].input_prompt_number == nbb_cell_id) {\n",
       "                    nbb_cells[i].set_text(nbb_formatted_code);\n",
       "                    break;\n",
       "                }\n",
       "            }\n",
       "        }, 500);\n",
       "        "
      ],
      "text/plain": [
       "<IPython.core.display.Javascript object>"
      ]
     },
     "metadata": {},
     "output_type": "display_data"
    }
   ],
   "source": [
    "def simulate_growth(n):\n",
    "    choices = [1, 2, 3]\n",
    "    gains = np.random.choice(choices, n)\n",
    "    return gains.sum()"
   ]
  },
  {
   "cell_type": "markdown",
   "id": "b90a600a",
   "metadata": {},
   "source": [
    "Now suppose 1001 people grow giant pumpkins in different places with different weather.\n",
    "If we simulate the growth process for 100 days, we get a list of 1001 weights."
   ]
  },
  {
   "cell_type": "code",
   "execution_count": 50,
   "id": "d6f08810",
   "metadata": {},
   "outputs": [
    {
     "data": {
      "text/plain": [
       "(199.9060939060939, 8.08021552585255)"
      ]
     },
     "execution_count": 50,
     "metadata": {},
     "output_type": "execute_result"
    },
    {
     "data": {
      "application/javascript": [
       "\n",
       "        setTimeout(function() {\n",
       "            var nbb_cell_id = 50;\n",
       "            var nbb_formatted_code = \"sim_weights = [simulate_growth(100) for i in range(1001)]\\nm, s = np.mean(sim_weights), np.std(sim_weights)\\nm, s\";\n",
       "            var nbb_cells = Jupyter.notebook.get_cells();\n",
       "            for (var i = 0; i < nbb_cells.length; ++i) {\n",
       "                if (nbb_cells[i].input_prompt_number == nbb_cell_id) {\n",
       "                    nbb_cells[i].set_text(nbb_formatted_code);\n",
       "                    break;\n",
       "                }\n",
       "            }\n",
       "        }, 500);\n",
       "        "
      ],
      "text/plain": [
       "<IPython.core.display.Javascript object>"
      ]
     },
     "metadata": {},
     "output_type": "display_data"
    }
   ],
   "source": [
    "sim_weights = [simulate_growth(100) for i in range(1001)]\n",
    "m, s = np.mean(sim_weights), np.std(sim_weights)\n",
    "m, s"
   ]
  },
  {
   "cell_type": "markdown",
   "id": "f0982329",
   "metadata": {},
   "source": [
    "The mean is close to 200 and the standard deviation is about 8.\n",
    "To see whether the weights follow a normal distribution, we'll use the following function, which takes a sample and makes a `Cdf` that represents a normal distribution with the same mean and standard deviation of the sample, evaluated over the range of the sample. "
   ]
  },
  {
   "cell_type": "code",
   "execution_count": 51,
   "id": "d51f4c59",
   "metadata": {},
   "outputs": [
    {
     "data": {
      "application/javascript": [
       "\n",
       "        setTimeout(function() {\n",
       "            var nbb_cell_id = 51;\n",
       "            var nbb_formatted_code = \"from scipy.stats import norm\\n\\n\\ndef make_normal_model(data):\\n    \\\"\\\"\\\"Make the Cdf of a normal distribution based on data.\\n\\n    data: sequence of numbers\\n    \\\"\\\"\\\"\\n    m, s = np.mean(data), np.std(data)\\n    low, high = np.min(data), np.max(data)\\n    qs = np.linspace(low, high, 201)\\n    ps = norm.cdf(qs, m, s)\\n    return Cdf(ps, qs, name=\\\"normal model\\\")\";\n",
       "            var nbb_cells = Jupyter.notebook.get_cells();\n",
       "            for (var i = 0; i < nbb_cells.length; ++i) {\n",
       "                if (nbb_cells[i].input_prompt_number == nbb_cell_id) {\n",
       "                    nbb_cells[i].set_text(nbb_formatted_code);\n",
       "                    break;\n",
       "                }\n",
       "            }\n",
       "        }, 500);\n",
       "        "
      ],
      "text/plain": [
       "<IPython.core.display.Javascript object>"
      ]
     },
     "metadata": {},
     "output_type": "display_data"
    }
   ],
   "source": [
    "from scipy.stats import norm\n",
    "\n",
    "\n",
    "def make_normal_model(data):\n",
    "    \"\"\"Make the Cdf of a normal distribution based on data.\n",
    "\n",
    "    data: sequence of numbers\n",
    "    \"\"\"\n",
    "    m, s = np.mean(data), np.std(data)\n",
    "    low, high = np.min(data), np.max(data)\n",
    "    qs = np.linspace(low, high, 201)\n",
    "    ps = norm.cdf(qs, m, s)\n",
    "    return Cdf(ps, qs, name=\"normal model\")"
   ]
  },
  {
   "cell_type": "markdown",
   "id": "04258779",
   "metadata": {},
   "source": [
    "Here's how we use it."
   ]
  },
  {
   "cell_type": "code",
   "execution_count": 52,
   "id": "ae5e0fff",
   "metadata": {},
   "outputs": [
    {
     "data": {
      "application/javascript": [
       "\n",
       "        setTimeout(function() {\n",
       "            var nbb_cell_id = 52;\n",
       "            var nbb_formatted_code = \"cdf_model = make_normal_model(sim_weights)\";\n",
       "            var nbb_cells = Jupyter.notebook.get_cells();\n",
       "            for (var i = 0; i < nbb_cells.length; ++i) {\n",
       "                if (nbb_cells[i].input_prompt_number == nbb_cell_id) {\n",
       "                    nbb_cells[i].set_text(nbb_formatted_code);\n",
       "                    break;\n",
       "                }\n",
       "            }\n",
       "        }, 500);\n",
       "        "
      ],
      "text/plain": [
       "<IPython.core.display.Javascript object>"
      ]
     },
     "metadata": {},
     "output_type": "display_data"
    }
   ],
   "source": [
    "cdf_model = make_normal_model(sim_weights)"
   ]
  },
  {
   "cell_type": "markdown",
   "id": "299e1662",
   "metadata": {},
   "source": [
    "Now we can make a `Cdf` that represents the distribution of the simulation results."
   ]
  },
  {
   "cell_type": "code",
   "execution_count": 53,
   "id": "09bc72cf",
   "metadata": {},
   "outputs": [
    {
     "data": {
      "application/javascript": [
       "\n",
       "        setTimeout(function() {\n",
       "            var nbb_cell_id = 53;\n",
       "            var nbb_formatted_code = \"cdf_sim_weights = Cdf.from_seq(sim_weights, name=\\\"simulation\\\")\";\n",
       "            var nbb_cells = Jupyter.notebook.get_cells();\n",
       "            for (var i = 0; i < nbb_cells.length; ++i) {\n",
       "                if (nbb_cells[i].input_prompt_number == nbb_cell_id) {\n",
       "                    nbb_cells[i].set_text(nbb_formatted_code);\n",
       "                    break;\n",
       "                }\n",
       "            }\n",
       "        }, 500);\n",
       "        "
      ],
      "text/plain": [
       "<IPython.core.display.Javascript object>"
      ]
     },
     "metadata": {},
     "output_type": "display_data"
    }
   ],
   "source": [
    "cdf_sim_weights = Cdf.from_seq(sim_weights, name=\"simulation\")"
   ]
  },
  {
   "cell_type": "markdown",
   "id": "361ba786",
   "metadata": {},
   "source": [
    "We'll use the following function to compare the distributions."
   ]
  },
  {
   "cell_type": "code",
   "execution_count": 111,
   "id": "a9257e03",
   "metadata": {},
   "outputs": [
    {
     "data": {
      "application/javascript": [
       "\n",
       "        setTimeout(function() {\n",
       "            var nbb_cell_id = 111;\n",
       "            var nbb_formatted_code = \"def two_cdf_plots(cdf_model, cdf_data, xlabel=\\\"\\\", **options):\\n    \\\"\\\"\\\"Plot an empirical CDF and a theoretical model.\\n\\n    cdf_model: Cdf object\\n    cdf_data: Cdf object\\n    xlabel: string\\n    options: control the way cdf_data is plotted\\n    \\\"\\\"\\\"\\n    cdf_model.plot(alpha=0.6, color=\\\"gray\\\")\\n    cdf_data.plot(alpha=0.6, **options)\\n\\n    decorate(xlabel=xlabel, ylabel=\\\"CDF\\\")\";\n",
       "            var nbb_cells = Jupyter.notebook.get_cells();\n",
       "            for (var i = 0; i < nbb_cells.length; ++i) {\n",
       "                if (nbb_cells[i].input_prompt_number == nbb_cell_id) {\n",
       "                    nbb_cells[i].set_text(nbb_formatted_code);\n",
       "                    break;\n",
       "                }\n",
       "            }\n",
       "        }, 500);\n",
       "        "
      ],
      "text/plain": [
       "<IPython.core.display.Javascript object>"
      ]
     },
     "metadata": {},
     "output_type": "display_data"
    }
   ],
   "source": [
    "def two_cdf_plots(cdf_model, cdf_data, xlabel=\"\", **options):\n",
    "    \"\"\"Plot an empirical CDF and a theoretical model.\n",
    "\n",
    "    cdf_model: Cdf object\n",
    "    cdf_data: Cdf object\n",
    "    xlabel: string\n",
    "    options: control the way cdf_data is plotted\n",
    "    \"\"\"\n",
    "    cdf_model.plot(alpha=0.6, color=\"gray\")\n",
    "    cdf_data.plot(alpha=0.6, **options)\n",
    "\n",
    "    decorate(xlabel=xlabel, ylabel=\"CDF\")"
   ]
  },
  {
   "cell_type": "code",
   "execution_count": 55,
   "id": "4e1fc84d",
   "metadata": {},
   "outputs": [
    {
     "data": {
      "image/png": "[encoded data removed]",
      "text/plain": [
       "<Figure size 450x262.5 with 1 Axes>"
      ]
     },
     "metadata": {},
     "output_type": "display_data"
    },
    {
     "data": {
      "application/javascript": [
       "\n",
       "        setTimeout(function() {\n",
       "            var nbb_cell_id = 55;\n",
       "            var nbb_formatted_code = \"two_cdf_plots(cdf_model, cdf_sim_weights, color=\\\"C1\\\", xlabel=\\\"Weight (pounds)\\\")\";\n",
       "            var nbb_cells = Jupyter.notebook.get_cells();\n",
       "            for (var i = 0; i < nbb_cells.length; ++i) {\n",
       "                if (nbb_cells[i].input_prompt_number == nbb_cell_id) {\n",
       "                    nbb_cells[i].set_text(nbb_formatted_code);\n",
       "                    break;\n",
       "                }\n",
       "            }\n",
       "        }, 500);\n",
       "        "
      ],
      "text/plain": [
       "<IPython.core.display.Javascript object>"
      ]
     },
     "metadata": {},
     "output_type": "display_data"
    }
   ],
   "source": [
    "two_cdf_plots(cdf_model, cdf_sim_weights, color=\"C1\", xlabel=\"Weight (pounds)\")"
   ]
  },
  {
   "cell_type": "markdown",
   "id": "f1ba6267",
   "metadata": {},
   "source": [
    "The normal model fits the distribution of the weights pretty well.\n",
    "In general, when we add up random factors, the sum tends to follow a normal distribution.\n",
    "That's a consequence of the Central Limit Theorem, which we'll come back to in Chapter xxx.\n",
    "\n",
    "But first let's see how well the normal distribution fits real data.\n",
    "As an example, we'll look at the distribution of birth weights in the National Survey of Family Growth (NSFG).\n",
    "We can use `read_fem_preg` to read the data, then select the `totalwgt_lb` column, which records birth weights in pounds."
   ]
  },
  {
   "cell_type": "code",
   "execution_count": 56,
   "id": "5486a05a",
   "metadata": {
    "tags": [
     "remove-print"
    ]
   },
   "outputs": [
    {
     "data": {
      "application/javascript": [
       "\n",
       "        setTimeout(function() {\n",
       "            var nbb_cell_id = 56;\n",
       "            var nbb_formatted_code = \"download(\\\"https://github.com/AllenDowney/ThinkStats/raw/v3/nb/nsfg.py\\\")\\ndownload(\\\"https://github.com/AllenDowney/ThinkStats/raw/v3/data/2002FemPreg.dct\\\")\\ndownload(\\\"https://github.com/AllenDowney/ThinkStats/raw/v3/data/2002FemPreg.dat.gz\\\")\";\n",
       "            var nbb_cells = Jupyter.notebook.get_cells();\n",
       "            for (var i = 0; i < nbb_cells.length; ++i) {\n",
       "                if (nbb_cells[i].input_prompt_number == nbb_cell_id) {\n",
       "                    nbb_cells[i].set_text(nbb_formatted_code);\n",
       "                    break;\n",
       "                }\n",
       "            }\n",
       "        }, 500);\n",
       "        "
      ],
      "text/plain": [
       "<IPython.core.display.Javascript object>"
      ]
     },
     "metadata": {},
     "output_type": "display_data"
    }
   ],
   "source": [
    "download(\"https://github.com/AllenDowney/ThinkStats/raw/v3/nb/nsfg.py\")\n",
    "download(\"https://github.com/AllenDowney/ThinkStats/raw/v3/data/2002FemPreg.dct\")\n",
    "download(\"https://github.com/AllenDowney/ThinkStats/raw/v3/data/2002FemPreg.dat.gz\")"
   ]
  },
  {
   "cell_type": "code",
   "execution_count": 57,
   "id": "8a65ba55",
   "metadata": {},
   "outputs": [
    {
     "data": {
      "application/javascript": [
       "\n",
       "        setTimeout(function() {\n",
       "            var nbb_cell_id = 57;\n",
       "            var nbb_formatted_code = \"import nsfg\\n\\npreg = nsfg.read_fem_preg()\\nbirth_weights = preg[\\\"totalwgt_lb\\\"].dropna()\";\n",
       "            var nbb_cells = Jupyter.notebook.get_cells();\n",
       "            for (var i = 0; i < nbb_cells.length; ++i) {\n",
       "                if (nbb_cells[i].input_prompt_number == nbb_cell_id) {\n",
       "                    nbb_cells[i].set_text(nbb_formatted_code);\n",
       "                    break;\n",
       "                }\n",
       "            }\n",
       "        }, 500);\n",
       "        "
      ],
      "text/plain": [
       "<IPython.core.display.Javascript object>"
      ]
     },
     "metadata": {},
     "output_type": "display_data"
    }
   ],
   "source": [
    "import nsfg\n",
    "\n",
    "preg = nsfg.read_fem_preg()\n",
    "birth_weights = preg[\"totalwgt_lb\"].dropna()"
   ]
  },
  {
   "cell_type": "markdown",
   "id": "74fe7638",
   "metadata": {},
   "source": [
    "The average of the birth weights is about 7.27 pounds, and the standard deviation is 1.4 pounds, but as we've seen, there are some outliers in this dataset that are probably errors."
   ]
  },
  {
   "cell_type": "code",
   "execution_count": 112,
   "id": "02fb28ee",
   "metadata": {},
   "outputs": [
    {
     "data": {
      "text/plain": [
       "(7.265628457623368, 1.40821553384062)"
      ]
     },
     "execution_count": 112,
     "metadata": {},
     "output_type": "execute_result"
    },
    {
     "data": {
      "application/javascript": [
       "\n",
       "        setTimeout(function() {\n",
       "            var nbb_cell_id = 112;\n",
       "            var nbb_formatted_code = \"m, s = np.mean(birth_weights), np.std(birth_weights)\\nm, s\";\n",
       "            var nbb_cells = Jupyter.notebook.get_cells();\n",
       "            for (var i = 0; i < nbb_cells.length; ++i) {\n",
       "                if (nbb_cells[i].input_prompt_number == nbb_cell_id) {\n",
       "                    nbb_cells[i].set_text(nbb_formatted_code);\n",
       "                    break;\n",
       "                }\n",
       "            }\n",
       "        }, 500);\n",
       "        "
      ],
      "text/plain": [
       "<IPython.core.display.Javascript object>"
      ]
     },
     "metadata": {},
     "output_type": "display_data"
    }
   ],
   "source": [
    "m, s = np.mean(birth_weights), np.std(birth_weights)\n",
    "m, s"
   ]
  },
  {
   "cell_type": "markdown",
   "id": "a5216bb4",
   "metadata": {},
   "source": [
    "To reduce the effect of the outliers on the estimated mean and standard deviation, we'll use the SciPy function `trimboth` to remove the highest and lowest values."
   ]
  },
  {
   "cell_type": "code",
   "execution_count": 113,
   "id": "70b9c45c",
   "metadata": {},
   "outputs": [
    {
     "data": {
      "text/plain": [
       "(7.280883100022579, 1.2430657948614345)"
      ]
     },
     "execution_count": 113,
     "metadata": {},
     "output_type": "execute_result"
    },
    {
     "data": {
      "application/javascript": [
       "\n",
       "        setTimeout(function() {\n",
       "            var nbb_cell_id = 113;\n",
       "            var nbb_formatted_code = \"from scipy.stats import trimboth\\n\\ntrimmed = trimboth(birth_weights, 0.01)\\nm, s = np.mean(trimmed), np.std(trimmed)\\nm, s\";\n",
       "            var nbb_cells = Jupyter.notebook.get_cells();\n",
       "            for (var i = 0; i < nbb_cells.length; ++i) {\n",
       "                if (nbb_cells[i].input_prompt_number == nbb_cell_id) {\n",
       "                    nbb_cells[i].set_text(nbb_formatted_code);\n",
       "                    break;\n",
       "                }\n",
       "            }\n",
       "        }, 500);\n",
       "        "
      ],
      "text/plain": [
       "<IPython.core.display.Javascript object>"
      ]
     },
     "metadata": {},
     "output_type": "display_data"
    }
   ],
   "source": [
    "from scipy.stats import trimboth\n",
    "\n",
    "trimmed = trimboth(birth_weights, 0.01)\n",
    "m, s = np.mean(trimmed), np.std(trimmed)\n",
    "m, s"
   ]
  },
  {
   "cell_type": "markdown",
   "id": "bd0f6d53",
   "metadata": {},
   "source": [
    "With the trimmed data, the mean is a little lower and the standard deviation is substantially lower.\n",
    "We'll use the trimmed data to make a normal model."
   ]
  },
  {
   "cell_type": "code",
   "execution_count": 114,
   "id": "78f7462a",
   "metadata": {},
   "outputs": [
    {
     "data": {
      "application/javascript": [
       "\n",
       "        setTimeout(function() {\n",
       "            var nbb_cell_id = 114;\n",
       "            var nbb_formatted_code = \"cdf_model = make_normal_model(trimmed)\";\n",
       "            var nbb_cells = Jupyter.notebook.get_cells();\n",
       "            for (var i = 0; i < nbb_cells.length; ++i) {\n",
       "                if (nbb_cells[i].input_prompt_number == nbb_cell_id) {\n",
       "                    nbb_cells[i].set_text(nbb_formatted_code);\n",
       "                    break;\n",
       "                }\n",
       "            }\n",
       "        }, 500);\n",
       "        "
      ],
      "text/plain": [
       "<IPython.core.display.Javascript object>"
      ]
     },
     "metadata": {},
     "output_type": "display_data"
    }
   ],
   "source": [
    "cdf_model = make_normal_model(trimmed)"
   ]
  },
  {
   "cell_type": "markdown",
   "id": "47f4e1d8",
   "metadata": {},
   "source": [
    "And compare it to the `Cdf` of the data."
   ]
  },
  {
   "cell_type": "code",
   "execution_count": 115,
   "id": "519a5674",
   "metadata": {},
   "outputs": [
    {
     "data": {
      "image/png": "[encoded data removed]",
      "text/plain": [
       "<Figure size 450x262.5 with 1 Axes>"
      ]
     },
     "metadata": {},
     "output_type": "display_data"
    },
    {
     "data": {
      "application/javascript": [
       "\n",
       "        setTimeout(function() {\n",
       "            var nbb_cell_id = 115;\n",
       "            var nbb_formatted_code = \"cdf_birth_weight = Cdf.from_seq(birth_weights, name=\\\"sample\\\")\\ntwo_cdf_plots(cdf_model, cdf_birth_weight, xlabel=\\\"Birth weight (pounds)\\\")\";\n",
       "            var nbb_cells = Jupyter.notebook.get_cells();\n",
       "            for (var i = 0; i < nbb_cells.length; ++i) {\n",
       "                if (nbb_cells[i].input_prompt_number == nbb_cell_id) {\n",
       "                    nbb_cells[i].set_text(nbb_formatted_code);\n",
       "                    break;\n",
       "                }\n",
       "            }\n",
       "        }, 500);\n",
       "        "
      ],
      "text/plain": [
       "<IPython.core.display.Javascript object>"
      ]
     },
     "metadata": {},
     "output_type": "display_data"
    }
   ],
   "source": [
    "cdf_birth_weight = Cdf.from_seq(birth_weights, name=\"sample\")\n",
    "two_cdf_plots(cdf_model, cdf_birth_weight, xlabel=\"Birth weight (pounds)\")"
   ]
  },
  {
   "cell_type": "markdown",
   "id": "58346f03",
   "metadata": {},
   "source": [
    "The normal model fits the data well except in the range of the lightest babies."
   ]
  },
  {
   "cell_type": "markdown",
   "id": "0690e053",
   "metadata": {},
   "source": [
    "## The Lognormal Distribution\n",
    "\n",
    "In the previous section, we simulated pumpkin growth under the assumption that pumpkins grow 1-3 pounds per day, depending on the weather.\n",
    "Instead, let's suppose their growth is proportional to their current weight, so big pumpkins gain more weight per day than small pumpkins -- which is probably more realistic.\n",
    "\n",
    "The following function simulates this kind of proportionate growth, where a pumpkin gains 3% of its weight if the weather is bad, 5% if the weather is fair, and 7% if the weather is good.\n",
    "Again, we'll assume that the weather is bad, fair, or good on any given day with equal probability."
   ]
  },
  {
   "cell_type": "code",
   "execution_count": 116,
   "id": "19fc51ca",
   "metadata": {},
   "outputs": [
    {
     "data": {
      "application/javascript": [
       "\n",
       "        setTimeout(function() {\n",
       "            var nbb_cell_id = 116;\n",
       "            var nbb_formatted_code = \"def simulate_proportionate_growth(n):\\n    choices = [1.03, 1.05, 1.07]\\n    gains = np.random.choice(choices, n)\\n    return gains.prod()\";\n",
       "            var nbb_cells = Jupyter.notebook.get_cells();\n",
       "            for (var i = 0; i < nbb_cells.length; ++i) {\n",
       "                if (nbb_cells[i].input_prompt_number == nbb_cell_id) {\n",
       "                    nbb_cells[i].set_text(nbb_formatted_code);\n",
       "                    break;\n",
       "                }\n",
       "            }\n",
       "        }, 500);\n",
       "        "
      ],
      "text/plain": [
       "<IPython.core.display.Javascript object>"
      ]
     },
     "metadata": {},
     "output_type": "display_data"
    }
   ],
   "source": [
    "def simulate_proportionate_growth(n):\n",
    "    choices = [1.03, 1.05, 1.07]\n",
    "    gains = np.random.choice(choices, n)\n",
    "    return gains.prod()"
   ]
  },
  {
   "cell_type": "markdown",
   "id": "87ed4173",
   "metadata": {},
   "source": [
    "If a pumpkin gains 3% of its weight, the final weight is the product of the initial weight and the factor 1.03.\n",
    "So we can compute the weight after 100 days by choosing random factors and multiplying them together.\n",
    "\n",
    "We can call this function 1000 times to simulate 1000 pumpkins and save their weights."
   ]
  },
  {
   "cell_type": "code",
   "execution_count": 117,
   "id": "fef49be7",
   "metadata": {},
   "outputs": [
    {
     "data": {
      "text/plain": [
       "(131.9650245447624, 20.554709114208627)"
      ]
     },
     "execution_count": 117,
     "metadata": {},
     "output_type": "execute_result"
    },
    {
     "data": {
      "application/javascript": [
       "\n",
       "        setTimeout(function() {\n",
       "            var nbb_cell_id = 117;\n",
       "            var nbb_formatted_code = \"sim_weights = [simulate_proportionate_growth(100) for i in range(1000)]\\nnp.mean(sim_weights), np.std(sim_weights)\";\n",
       "            var nbb_cells = Jupyter.notebook.get_cells();\n",
       "            for (var i = 0; i < nbb_cells.length; ++i) {\n",
       "                if (nbb_cells[i].input_prompt_number == nbb_cell_id) {\n",
       "                    nbb_cells[i].set_text(nbb_formatted_code);\n",
       "                    break;\n",
       "                }\n",
       "            }\n",
       "        }, 500);\n",
       "        "
      ],
      "text/plain": [
       "<IPython.core.display.Javascript object>"
      ]
     },
     "metadata": {},
     "output_type": "display_data"
    }
   ],
   "source": [
    "sim_weights = [simulate_proportionate_growth(100) for i in range(1000)]\n",
    "np.mean(sim_weights), np.std(sim_weights)"
   ]
  },
  {
   "cell_type": "markdown",
   "id": "caaf6579",
   "metadata": {},
   "source": [
    "The average weight is about 132 pounds; the standard deviation is about 20 pounds.\n",
    "So the pumpkins in this model are smaller but more variable than in the previous model.\n",
    "\n",
    "And we can show mathematically that they follow a lognormal distribution.\n",
    "In the proportionate growth model, the final weight is the product of an initial weight and 100 random factors, which we can write like this:\n",
    "\n",
    "$$ w_n = w_0 \\cdot f_1 \\cdot f_2 \\cdot \\dots \\cdot f_n $$ \n",
    "\n",
    "where $w_0$ is the initial weight, $w_n$ is the final weight after $n$ steps, and $f_i$ is a random multiplicative factor at step $i$.\n",
    "If we take the log of both sides of this equation, the log of the product is the sum of the logs:\n",
    "\n",
    "$$ \\log w_n = \\log w_0 + \\log f_1 + \\log f_2 + \\dots + \\log f_n $$ \n",
    "\n",
    "So the logarithm of each weight is the sum of a sequence of random terms, which we expect to follow a normal distribution, according to the Central Limit Theorem.\n",
    "And if the logarithms of the weights follow a normal distribution, we'd say that the weights themselves follow a **lognormal distribution**.\n",
    "\n",
    "To check, we'll compute the logs of the weights.\n",
    "We could use logarithms with any base, but I'll use base 10 because it makes the results easier to interpret."
   ]
  },
  {
   "cell_type": "code",
   "execution_count": 118,
   "id": "3bbd4a9a",
   "metadata": {},
   "outputs": [
    {
     "data": {
      "text/plain": [
       "(2.115283045281692, 0.0669487105781818)"
      ]
     },
     "execution_count": 118,
     "metadata": {},
     "output_type": "execute_result"
    },
    {
     "data": {
      "application/javascript": [
       "\n",
       "        setTimeout(function() {\n",
       "            var nbb_cell_id = 118;\n",
       "            var nbb_formatted_code = \"log_sim_weights = np.log10(sim_weights)\\nm, s = np.mean(log_sim_weights), np.std(log_sim_weights)\\nm, s\";\n",
       "            var nbb_cells = Jupyter.notebook.get_cells();\n",
       "            for (var i = 0; i < nbb_cells.length; ++i) {\n",
       "                if (nbb_cells[i].input_prompt_number == nbb_cell_id) {\n",
       "                    nbb_cells[i].set_text(nbb_formatted_code);\n",
       "                    break;\n",
       "                }\n",
       "            }\n",
       "        }, 500);\n",
       "        "
      ],
      "text/plain": [
       "<IPython.core.display.Javascript object>"
      ]
     },
     "metadata": {},
     "output_type": "display_data"
    }
   ],
   "source": [
    "log_sim_weights = np.log10(sim_weights)\n",
    "m, s = np.mean(log_sim_weights), np.std(log_sim_weights)\n",
    "m, s"
   ]
  },
  {
   "cell_type": "markdown",
   "id": "2baedea6",
   "metadata": {},
   "source": [
    "Now let's compare the distribution of the logarithms to a normal distribution with the same mean and standard deviation.\n",
    "\n"
   ]
  },
  {
   "cell_type": "code",
   "execution_count": 119,
   "id": "443e7661",
   "metadata": {},
   "outputs": [
    {
     "data": {
      "application/javascript": [
       "\n",
       "        setTimeout(function() {\n",
       "            var nbb_cell_id = 119;\n",
       "            var nbb_formatted_code = \"cdf_model = make_normal_model(log_sim_weights)\";\n",
       "            var nbb_cells = Jupyter.notebook.get_cells();\n",
       "            for (var i = 0; i < nbb_cells.length; ++i) {\n",
       "                if (nbb_cells[i].input_prompt_number == nbb_cell_id) {\n",
       "                    nbb_cells[i].set_text(nbb_formatted_code);\n",
       "                    break;\n",
       "                }\n",
       "            }\n",
       "        }, 500);\n",
       "        "
      ],
      "text/plain": [
       "<IPython.core.display.Javascript object>"
      ]
     },
     "metadata": {},
     "output_type": "display_data"
    }
   ],
   "source": [
    "cdf_model = make_normal_model(log_sim_weights)"
   ]
  },
  {
   "cell_type": "code",
   "execution_count": 120,
   "id": "3ef3b407",
   "metadata": {},
   "outputs": [
    {
     "data": {
      "application/javascript": [
       "\n",
       "        setTimeout(function() {\n",
       "            var nbb_cell_id = 120;\n",
       "            var nbb_formatted_code = \"cdf_log_sim_weights = Cdf.from_seq(log_sim_weights, name=\\\"simulation\\\")\";\n",
       "            var nbb_cells = Jupyter.notebook.get_cells();\n",
       "            for (var i = 0; i < nbb_cells.length; ++i) {\n",
       "                if (nbb_cells[i].input_prompt_number == nbb_cell_id) {\n",
       "                    nbb_cells[i].set_text(nbb_formatted_code);\n",
       "                    break;\n",
       "                }\n",
       "            }\n",
       "        }, 500);\n",
       "        "
      ],
      "text/plain": [
       "<IPython.core.display.Javascript object>"
      ]
     },
     "metadata": {},
     "output_type": "display_data"
    }
   ],
   "source": [
    "cdf_log_sim_weights = Cdf.from_seq(log_sim_weights, name=\"simulation\")"
   ]
  },
  {
   "cell_type": "code",
   "execution_count": 121,
   "id": "0f4c8387",
   "metadata": {},
   "outputs": [
    {
     "data": {
      "image/png": "[encoded data removed]",
      "text/plain": [
       "<Figure size 450x262.5 with 1 Axes>"
      ]
     },
     "metadata": {},
     "output_type": "display_data"
    },
    {
     "data": {
      "application/javascript": [
       "\n",
       "        setTimeout(function() {\n",
       "            var nbb_cell_id = 121;\n",
       "            var nbb_formatted_code = \"two_cdf_plots(\\n    cdf_model, cdf_log_sim_weights, color=\\\"C1\\\", xlabel=\\\"Pumpkin weight (pounds)\\\"\\n)\";\n",
       "            var nbb_cells = Jupyter.notebook.get_cells();\n",
       "            for (var i = 0; i < nbb_cells.length; ++i) {\n",
       "                if (nbb_cells[i].input_prompt_number == nbb_cell_id) {\n",
       "                    nbb_cells[i].set_text(nbb_formatted_code);\n",
       "                    break;\n",
       "                }\n",
       "            }\n",
       "        }, 500);\n",
       "        "
      ],
      "text/plain": [
       "<IPython.core.display.Javascript object>"
      ]
     },
     "metadata": {},
     "output_type": "display_data"
    }
   ],
   "source": [
    "two_cdf_plots(\n",
    "    cdf_model, cdf_log_sim_weights, color=\"C1\", xlabel=\"Pumpkin weight (pounds)\"\n",
    ")"
   ]
  },
  {
   "cell_type": "markdown",
   "id": "5b92b002",
   "metadata": {},
   "source": [
    "If people are like pumpkins, where the change in weight from year to year is proportionate to current weight, we might expect the distribution of adult weights to follow a lognormal distribution.\n",
    "Let's find out.\n",
    "\n",
    "The National Center for Chronic Disease Prevention and Health Promotion conducts an annual survey as part of the Behavioral Risk Factor Surveillance System (BRFSS).[^3] In 2008, they interviewed 414,509 respondents and asked about their demographics, health, and health risks.\n",
    "Among the data they collected are the weights in kilograms of 398,484 respondents.\n",
    "\n",
    "The `thinkstats` module provides a function that reads data from the BRFSS and returns a Pandas `DataFrame`."
   ]
  },
  {
   "cell_type": "code",
   "execution_count": 122,
   "id": "d80d103c",
   "metadata": {
    "tags": [
     "remove-print"
    ]
   },
   "outputs": [
    {
     "data": {
      "application/javascript": [
       "\n",
       "        setTimeout(function() {\n",
       "            var nbb_cell_id = 122;\n",
       "            var nbb_formatted_code = \"download(\\\"https://github.com/AllenDowney/ThinkStats/raw/v3/data/CDBRFS08.ASC.gz\\\")\";\n",
       "            var nbb_cells = Jupyter.notebook.get_cells();\n",
       "            for (var i = 0; i < nbb_cells.length; ++i) {\n",
       "                if (nbb_cells[i].input_prompt_number == nbb_cell_id) {\n",
       "                    nbb_cells[i].set_text(nbb_formatted_code);\n",
       "                    break;\n",
       "                }\n",
       "            }\n",
       "        }, 500);\n",
       "        "
      ],
      "text/plain": [
       "<IPython.core.display.Javascript object>"
      ]
     },
     "metadata": {},
     "output_type": "display_data"
    }
   ],
   "source": [
    "download(\"https://github.com/AllenDowney/ThinkStats/raw/v3/data/CDBRFS08.ASC.gz\")"
   ]
  },
  {
   "cell_type": "code",
   "execution_count": 123,
   "id": "0e38e93a",
   "metadata": {},
   "outputs": [
    {
     "data": {
      "application/javascript": [
       "\n",
       "        setTimeout(function() {\n",
       "            var nbb_cell_id = 123;\n",
       "            var nbb_formatted_code = \"from thinkstats import read_brfss\\n\\nbrfss = read_brfss()\";\n",
       "            var nbb_cells = Jupyter.notebook.get_cells();\n",
       "            for (var i = 0; i < nbb_cells.length; ++i) {\n",
       "                if (nbb_cells[i].input_prompt_number == nbb_cell_id) {\n",
       "                    nbb_cells[i].set_text(nbb_formatted_code);\n",
       "                    break;\n",
       "                }\n",
       "            }\n",
       "        }, 500);\n",
       "        "
      ],
      "text/plain": [
       "<IPython.core.display.Javascript object>"
      ]
     },
     "metadata": {},
     "output_type": "display_data"
    }
   ],
   "source": [
    "from thinkstats import read_brfss\n",
    "\n",
    "brfss = read_brfss()"
   ]
  },
  {
   "cell_type": "markdown",
   "id": "7cb5e75b",
   "metadata": {},
   "source": [
    "Adult weights in kilograms are recorded in the `wtkg2` column."
   ]
  },
  {
   "cell_type": "code",
   "execution_count": 124,
   "id": "7ea83cdd",
   "metadata": {},
   "outputs": [
    {
     "data": {
      "text/plain": [
       "(78.9924529968581, 19.546132387397257)"
      ]
     },
     "execution_count": 124,
     "metadata": {},
     "output_type": "execute_result"
    },
    {
     "data": {
      "application/javascript": [
       "\n",
       "        setTimeout(function() {\n",
       "            var nbb_cell_id = 124;\n",
       "            var nbb_formatted_code = \"adult_weights = brfss[\\\"wtkg2\\\"].dropna()\\nm, s = np.mean(adult_weights), np.std(adult_weights)\\nm, s\";\n",
       "            var nbb_cells = Jupyter.notebook.get_cells();\n",
       "            for (var i = 0; i < nbb_cells.length; ++i) {\n",
       "                if (nbb_cells[i].input_prompt_number == nbb_cell_id) {\n",
       "                    nbb_cells[i].set_text(nbb_formatted_code);\n",
       "                    break;\n",
       "                }\n",
       "            }\n",
       "        }, 500);\n",
       "        "
      ],
      "text/plain": [
       "<IPython.core.display.Javascript object>"
      ]
     },
     "metadata": {},
     "output_type": "display_data"
    }
   ],
   "source": [
    "adult_weights = brfss[\"wtkg2\"].dropna()\n",
    "m, s = np.mean(adult_weights), np.std(adult_weights)\n",
    "m, s"
   ]
  },
  {
   "cell_type": "markdown",
   "id": "0bf89666",
   "metadata": {},
   "source": [
    "The mean is about 79 kg.\n",
    "Before we compute logarithms, let's see if the weights follow a normal distribution."
   ]
  },
  {
   "cell_type": "code",
   "execution_count": 125,
   "id": "fc748844",
   "metadata": {},
   "outputs": [
    {
     "data": {
      "application/javascript": [
       "\n",
       "        setTimeout(function() {\n",
       "            var nbb_cell_id = 125;\n",
       "            var nbb_formatted_code = \"cdf_model = make_normal_model(adult_weights)\";\n",
       "            var nbb_cells = Jupyter.notebook.get_cells();\n",
       "            for (var i = 0; i < nbb_cells.length; ++i) {\n",
       "                if (nbb_cells[i].input_prompt_number == nbb_cell_id) {\n",
       "                    nbb_cells[i].set_text(nbb_formatted_code);\n",
       "                    break;\n",
       "                }\n",
       "            }\n",
       "        }, 500);\n",
       "        "
      ],
      "text/plain": [
       "<IPython.core.display.Javascript object>"
      ]
     },
     "metadata": {},
     "output_type": "display_data"
    }
   ],
   "source": [
    "cdf_model = make_normal_model(adult_weights)"
   ]
  },
  {
   "cell_type": "code",
   "execution_count": 126,
   "id": "6760ba44",
   "metadata": {},
   "outputs": [
    {
     "data": {
      "application/javascript": [
       "\n",
       "        setTimeout(function() {\n",
       "            var nbb_cell_id = 126;\n",
       "            var nbb_formatted_code = \"cdf_adult_weights = Cdf.from_seq(adult_weights, name=\\\"adult weight\\\")\";\n",
       "            var nbb_cells = Jupyter.notebook.get_cells();\n",
       "            for (var i = 0; i < nbb_cells.length; ++i) {\n",
       "                if (nbb_cells[i].input_prompt_number == nbb_cell_id) {\n",
       "                    nbb_cells[i].set_text(nbb_formatted_code);\n",
       "                    break;\n",
       "                }\n",
       "            }\n",
       "        }, 500);\n",
       "        "
      ],
      "text/plain": [
       "<IPython.core.display.Javascript object>"
      ]
     },
     "metadata": {},
     "output_type": "display_data"
    }
   ],
   "source": [
    "cdf_adult_weights = Cdf.from_seq(adult_weights, name=\"adult weight\")"
   ]
  },
  {
   "cell_type": "code",
   "execution_count": 127,
   "id": "a5fca979",
   "metadata": {},
   "outputs": [
    {
     "data": {
      "image/png": "[encoded data removed]",
      "text/plain": [
       "<Figure size 450x262.5 with 1 Axes>"
      ]
     },
     "metadata": {},
     "output_type": "display_data"
    },
    {
     "data": {
      "application/javascript": [
       "\n",
       "        setTimeout(function() {\n",
       "            var nbb_cell_id = 127;\n",
       "            var nbb_formatted_code = \"two_cdf_plots(cdf_model, cdf_adult_weights, xlabel=\\\"Adult weight (kilograms)\\\")\";\n",
       "            var nbb_cells = Jupyter.notebook.get_cells();\n",
       "            for (var i = 0; i < nbb_cells.length; ++i) {\n",
       "                if (nbb_cells[i].input_prompt_number == nbb_cell_id) {\n",
       "                    nbb_cells[i].set_text(nbb_formatted_code);\n",
       "                    break;\n",
       "                }\n",
       "            }\n",
       "        }, 500);\n",
       "        "
      ],
      "text/plain": [
       "<IPython.core.display.Javascript object>"
      ]
     },
     "metadata": {},
     "output_type": "display_data"
    }
   ],
   "source": [
    "two_cdf_plots(cdf_model, cdf_adult_weights, xlabel=\"Adult weight (kilograms)\")"
   ]
  },
  {
   "cell_type": "markdown",
   "id": "8bccb11f",
   "metadata": {},
   "source": [
    "The normal distribution is not a terrible model for the data, and might be good enough for some purposes -- but let's see if we can do better.\n",
    "\n",
    "Here's the distribution of the log-transformed weights and a normal model with the same mean and standard deviation."
   ]
  },
  {
   "cell_type": "code",
   "execution_count": 128,
   "id": "77b2f37f",
   "metadata": {},
   "outputs": [
    {
     "data": {
      "application/javascript": [
       "\n",
       "        setTimeout(function() {\n",
       "            var nbb_cell_id = 128;\n",
       "            var nbb_formatted_code = \"log_adult_weights = np.log10(adult_weights)\";\n",
       "            var nbb_cells = Jupyter.notebook.get_cells();\n",
       "            for (var i = 0; i < nbb_cells.length; ++i) {\n",
       "                if (nbb_cells[i].input_prompt_number == nbb_cell_id) {\n",
       "                    nbb_cells[i].set_text(nbb_formatted_code);\n",
       "                    break;\n",
       "                }\n",
       "            }\n",
       "        }, 500);\n",
       "        "
      ],
      "text/plain": [
       "<IPython.core.display.Javascript object>"
      ]
     },
     "metadata": {},
     "output_type": "display_data"
    }
   ],
   "source": [
    "log_adult_weights = np.log10(adult_weights)"
   ]
  },
  {
   "cell_type": "code",
   "execution_count": 129,
   "id": "0341a470",
   "metadata": {},
   "outputs": [
    {
     "data": {
      "application/javascript": [
       "\n",
       "        setTimeout(function() {\n",
       "            var nbb_cell_id = 129;\n",
       "            var nbb_formatted_code = \"cdf_model = make_normal_model(log_adult_weights)\";\n",
       "            var nbb_cells = Jupyter.notebook.get_cells();\n",
       "            for (var i = 0; i < nbb_cells.length; ++i) {\n",
       "                if (nbb_cells[i].input_prompt_number == nbb_cell_id) {\n",
       "                    nbb_cells[i].set_text(nbb_formatted_code);\n",
       "                    break;\n",
       "                }\n",
       "            }\n",
       "        }, 500);\n",
       "        "
      ],
      "text/plain": [
       "<IPython.core.display.Javascript object>"
      ]
     },
     "metadata": {},
     "output_type": "display_data"
    }
   ],
   "source": [
    "cdf_model = make_normal_model(log_adult_weights)"
   ]
  },
  {
   "cell_type": "code",
   "execution_count": 130,
   "id": "aba9309d",
   "metadata": {},
   "outputs": [
    {
     "data": {
      "application/javascript": [
       "\n",
       "        setTimeout(function() {\n",
       "            var nbb_cell_id = 130;\n",
       "            var nbb_formatted_code = \"cdf_log_adult_weights = Cdf.from_seq(log_adult_weights, name=\\\"log adult weight\\\")\";\n",
       "            var nbb_cells = Jupyter.notebook.get_cells();\n",
       "            for (var i = 0; i < nbb_cells.length; ++i) {\n",
       "                if (nbb_cells[i].input_prompt_number == nbb_cell_id) {\n",
       "                    nbb_cells[i].set_text(nbb_formatted_code);\n",
       "                    break;\n",
       "                }\n",
       "            }\n",
       "        }, 500);\n",
       "        "
      ],
      "text/plain": [
       "<IPython.core.display.Javascript object>"
      ]
     },
     "metadata": {},
     "output_type": "display_data"
    }
   ],
   "source": [
    "cdf_log_adult_weights = Cdf.from_seq(log_adult_weights, name=\"log adult weight\")"
   ]
  },
  {
   "cell_type": "code",
   "execution_count": 131,
   "id": "6d4d7124",
   "metadata": {
    "scrolled": true
   },
   "outputs": [
    {
     "data": {
      "image/png": "[encoded data removed]",
      "text/plain": [
       "<Figure size 450x262.5 with 1 Axes>"
      ]
     },
     "metadata": {},
     "output_type": "display_data"
    },
    {
     "data": {
      "application/javascript": [
       "\n",
       "        setTimeout(function() {\n",
       "            var nbb_cell_id = 131;\n",
       "            var nbb_formatted_code = \"two_cdf_plots(cdf_model, cdf_log_adult_weights, xlabel=\\\"Adult weight (log10 kg)\\\")\";\n",
       "            var nbb_cells = Jupyter.notebook.get_cells();\n",
       "            for (var i = 0; i < nbb_cells.length; ++i) {\n",
       "                if (nbb_cells[i].input_prompt_number == nbb_cell_id) {\n",
       "                    nbb_cells[i].set_text(nbb_formatted_code);\n",
       "                    break;\n",
       "                }\n",
       "            }\n",
       "        }, 500);\n",
       "        "
      ],
      "text/plain": [
       "<IPython.core.display.Javascript object>"
      ]
     },
     "metadata": {},
     "output_type": "display_data"
    }
   ],
   "source": [
    "two_cdf_plots(cdf_model, cdf_log_adult_weights, xlabel=\"Adult weight (log10 kg)\")"
   ]
  },
  {
   "cell_type": "markdown",
   "id": "76dcae0d",
   "metadata": {},
   "source": [
    "The normal model fits the logarithms better than it fits the weights themselves, which suggests that the weights follow a lognormal model."
   ]
  },
  {
   "cell_type": "markdown",
   "id": "0f46ee83",
   "metadata": {},
   "source": [
    "## Why model?\n",
    "\n",
    "At the beginning of this chapter, I said that many real world phenomena can be modeled with theoretical distributions.\n",
    "But it might not have been clear why we should care.\n",
    "\n",
    "Like all models, theoretical distributions are abstractions, which means they leave out details that are considered irrelevant.\n",
    "For example, an observed distribution might have measurement errors or quirks that are specific to the sample; theoretical models smooth out these idiosyncrasies.\n",
    "\n",
    "Theoretical models are also a form of data compression.\n",
    "When a model fits a dataset well, a small set of parameters can summarize a large amount of data.\n",
    "\n",
    "It is sometimes surprising when data from a natural phenomenon fit an theoretical distribution, but these observations can provide insight into physical systems.\n",
    "Sometimes we can explain why an observed distribution has a particular form.\n",
    "\n",
    "For example, "
   ]
  },
  {
   "cell_type": "markdown",
   "id": "439331ea",
   "metadata": {},
   "source": [
    "Also, theoretical distributions lend themselves to mathematical analysis, as we will see in Chapter [\\[analysis\\]](#analysis){reference-type=\"ref\" reference=\"analysis\"}.\n",
    "\n",
    "But it is important to remember that all models are imperfect.\n",
    "Data from the real world never fit an theoretical distribution perfectly.\n",
    "People sometimes talk as if data are generated by models; for example, they might say that the distribution of human heights is normal, or the distribution of income is lognormal.\n",
    "Taken literally, these claims cannot be true -- there are always differences between the real world and mathematical models.\n",
    "\n",
    "Models are useful if they capture the relevant aspects of the real world and leave out unneeded details.\n",
    "But what is \"relevant\" or \"unneeded\" depends on what you are planning to use the model for."
   ]
  },
  {
   "cell_type": "markdown",
   "id": "70f3aa6e",
   "metadata": {
    "collapsed": true
   },
   "source": [
    "## Exercises"
   ]
  },
  {
   "cell_type": "markdown",
   "id": "0b022c39",
   "metadata": {},
   "source": [
    "Another binomial example?\n",
    "\n",
    "Another Poisson example?\n",
    "\n",
    "Check if the times between goals are exponential\n",
    "\n",
    "Check if human heights from the BRFSS are normal"
   ]
  },
  {
   "cell_type": "markdown",
   "id": "4608be3e",
   "metadata": {},
   "source": [
    "### Exercise"
   ]
  },
  {
   "cell_type": "code",
   "execution_count": null,
   "id": "eb919b34",
   "metadata": {
    "tags": [
     "remove-print"
    ]
   },
   "outputs": [],
   "source": [
    "download(\"https://github.com/AllenDowney/ThinkStats/raw/v3/data/2002FemResp.dct\")\n",
    "download(\"https://github.com/AllenDowney/ThinkStats/raw/v3/data/2002FemResp.dat.gz\")"
   ]
  },
  {
   "cell_type": "code",
   "execution_count": 138,
   "id": "32777c1c",
   "metadata": {},
   "outputs": [
    {
     "data": {
      "application/javascript": [
       "\n",
       "        setTimeout(function() {\n",
       "            var nbb_cell_id = 138;\n",
       "            var nbb_formatted_code = \"from nsfg import read_fem_resp\\n\\nresp = read_fem_resp()\\nolder = resp.query(\\\"age >= 30\\\")\";\n",
       "            var nbb_cells = Jupyter.notebook.get_cells();\n",
       "            for (var i = 0; i < nbb_cells.length; ++i) {\n",
       "                if (nbb_cells[i].input_prompt_number == nbb_cell_id) {\n",
       "                    nbb_cells[i].set_text(nbb_formatted_code);\n",
       "                    break;\n",
       "                }\n",
       "            }\n",
       "        }, 500);\n",
       "        "
      ],
      "text/plain": [
       "<IPython.core.display.Javascript object>"
      ]
     },
     "metadata": {},
     "output_type": "display_data"
    }
   ],
   "source": [
    "from nsfg import read_fem_resp\n",
    "\n",
    "resp = read_fem_resp()\n",
    "older = resp.query(\"age >= 30\")"
   ]
  },
  {
   "cell_type": "code",
   "execution_count": 139,
   "id": "8aab6cfb",
   "metadata": {},
   "outputs": [
    {
     "data": {
      "image/png": "[encoded data removed]",
      "text/plain": [
       "<Figure size 450x262.5 with 1 Axes>"
      ]
     },
     "metadata": {},
     "output_type": "display_data"
    },
    {
     "data": {
      "application/javascript": [
       "\n",
       "        setTimeout(function() {\n",
       "            var nbb_cell_id = 139;\n",
       "            var nbb_formatted_code = \"num_children = older[\\\"numbabes\\\"].replace(97, np.nan)\\n\\npmf_children = Pmf.from_seq(num_children)\\npmf_children.bar()\";\n",
       "            var nbb_cells = Jupyter.notebook.get_cells();\n",
       "            for (var i = 0; i < nbb_cells.length; ++i) {\n",
       "                if (nbb_cells[i].input_prompt_number == nbb_cell_id) {\n",
       "                    nbb_cells[i].set_text(nbb_formatted_code);\n",
       "                    break;\n",
       "                }\n",
       "            }\n",
       "        }, 500);\n",
       "        "
      ],
      "text/plain": [
       "<IPython.core.display.Javascript object>"
      ]
     },
     "metadata": {},
     "output_type": "display_data"
    }
   ],
   "source": [
    "num_children = older[\"numbabes\"].replace(97, np.nan)\n",
    "\n",
    "pmf_children = Pmf.from_seq(num_children)\n",
    "pmf_children.bar()"
   ]
  },
  {
   "cell_type": "code",
   "execution_count": 140,
   "id": "390873eb",
   "metadata": {},
   "outputs": [
    {
     "data": {
      "text/plain": [
       "1.752534442422667"
      ]
     },
     "execution_count": 140,
     "metadata": {},
     "output_type": "execute_result"
    },
    {
     "data": {
      "application/javascript": [
       "\n",
       "        setTimeout(function() {\n",
       "            var nbb_cell_id = 140;\n",
       "            var nbb_formatted_code = \"lam = num_children.mean()\\nlam\";\n",
       "            var nbb_cells = Jupyter.notebook.get_cells();\n",
       "            for (var i = 0; i < nbb_cells.length; ++i) {\n",
       "                if (nbb_cells[i].input_prompt_number == nbb_cell_id) {\n",
       "                    nbb_cells[i].set_text(nbb_formatted_code);\n",
       "                    break;\n",
       "                }\n",
       "            }\n",
       "        }, 500);\n",
       "        "
      ],
      "text/plain": [
       "<IPython.core.display.Javascript object>"
      ]
     },
     "metadata": {},
     "output_type": "display_data"
    }
   ],
   "source": [
    "lam = num_children.mean()\n",
    "lam"
   ]
  },
  {
   "cell_type": "code",
   "execution_count": 141,
   "id": "6206d2d6",
   "metadata": {},
   "outputs": [
    {
     "data": {
      "application/javascript": [
       "\n",
       "        setTimeout(function() {\n",
       "            var nbb_cell_id = 141;\n",
       "            var nbb_formatted_code = \"ks = np.arange(10)\\nps = poisson_pmf(ks, lam)\\npmf_poisson = Pmf(ps, ks, name=\\\"Poisson model\\\")\";\n",
       "            var nbb_cells = Jupyter.notebook.get_cells();\n",
       "            for (var i = 0; i < nbb_cells.length; ++i) {\n",
       "                if (nbb_cells[i].input_prompt_number == nbb_cell_id) {\n",
       "                    nbb_cells[i].set_text(nbb_formatted_code);\n",
       "                    break;\n",
       "                }\n",
       "            }\n",
       "        }, 500);\n",
       "        "
      ],
      "text/plain": [
       "<IPython.core.display.Javascript object>"
      ]
     },
     "metadata": {},
     "output_type": "display_data"
    }
   ],
   "source": [
    "ks = np.arange(10)\n",
    "ps = poisson_pmf(ks, lam)\n",
    "pmf_poisson = Pmf(ps, ks, name=\"Poisson model\")"
   ]
  },
  {
   "cell_type": "code",
   "execution_count": 145,
   "id": "165d7fea",
   "metadata": {},
   "outputs": [
    {
     "data": {
      "image/png": "[encoded data removed]",
      "text/plain": [
       "<Figure size 450x262.5 with 1 Axes>"
      ]
     },
     "metadata": {},
     "output_type": "display_data"
    },
    {
     "data": {
      "application/javascript": [
       "\n",
       "        setTimeout(function() {\n",
       "            var nbb_cell_id = 145;\n",
       "            var nbb_formatted_code = \"two_bar_plots(pmf_children, pmf_poisson)\\ndecorate(xlim=[-1, 9])\";\n",
       "            var nbb_cells = Jupyter.notebook.get_cells();\n",
       "            for (var i = 0; i < nbb_cells.length; ++i) {\n",
       "                if (nbb_cells[i].input_prompt_number == nbb_cell_id) {\n",
       "                    nbb_cells[i].set_text(nbb_formatted_code);\n",
       "                    break;\n",
       "                }\n",
       "            }\n",
       "        }, 500);\n",
       "        "
      ],
      "text/plain": [
       "<IPython.core.display.Javascript object>"
      ]
     },
     "metadata": {},
     "output_type": "display_data"
    }
   ],
   "source": [
    "two_bar_plots(pmf_children, pmf_poisson)\n",
    "decorate(xlim=[-1, 9])"
   ]
  },
  {
   "cell_type": "markdown",
   "id": "2d2bf28f",
   "metadata": {},
   "source": [
    "### Exercise\n",
    "\n",
    "In Section xxx, we saw that the time until the first goal in a hockey game follows an exponential distribution.\n",
    "If our model of goal-scoring is correct, a goal is equally likely at any time, regardless of how long it has been since the previous goal.\n",
    "And if that's true, we expect the time between goals to follow an exponential distribution.\n",
    "\n",
    "The following loop reads the hockey data, computes the time between successive goals, if there is more than one in a game, and collects the inter-goal times in a list."
   ]
  },
  {
   "cell_type": "code",
   "execution_count": 78,
   "id": "65e775e0",
   "metadata": {
    "tags": [
     "remove-print"
    ]
   },
   "outputs": [
    {
     "data": {
      "application/javascript": [
       "\n",
       "        setTimeout(function() {\n",
       "            var nbb_cell_id = 78;\n",
       "            var nbb_formatted_code = \"filename = \\\"nhl_2023_2024.hdf\\\"\\n\\nwith pd.HDFStore(filename, \\\"r\\\") as store:\\n    keys = store.keys()\";\n",
       "            var nbb_cells = Jupyter.notebook.get_cells();\n",
       "            for (var i = 0; i < nbb_cells.length; ++i) {\n",
       "                if (nbb_cells[i].input_prompt_number == nbb_cell_id) {\n",
       "                    nbb_cells[i].set_text(nbb_formatted_code);\n",
       "                    break;\n",
       "                }\n",
       "            }\n",
       "        }, 500);\n",
       "        "
      ],
      "text/plain": [
       "<IPython.core.display.Javascript object>"
      ]
     },
     "metadata": {},
     "output_type": "display_data"
    }
   ],
   "source": [
    "filename = \"nhl_2023_2024.hdf\"\n",
    "\n",
    "with pd.HDFStore(filename, \"r\") as store:\n",
    "    keys = store.keys()"
   ]
  },
  {
   "cell_type": "code",
   "execution_count": 79,
   "id": "6743cb7b",
   "metadata": {},
   "outputs": [
    {
     "data": {
      "text/plain": [
       "0     424\n",
       "1    1916\n",
       "2    2137\n",
       "3    3005\n",
       "4    3329\n",
       "5    3513\n",
       "dtype: int64"
      ]
     },
     "execution_count": 79,
     "metadata": {},
     "output_type": "execute_result"
    },
    {
     "data": {
      "application/javascript": [
       "\n",
       "        setTimeout(function() {\n",
       "            var nbb_cell_id = 79;\n",
       "            var nbb_formatted_code = \"times = pd.read_hdf(filename, key=keys[0])\\ntimes\";\n",
       "            var nbb_cells = Jupyter.notebook.get_cells();\n",
       "            for (var i = 0; i < nbb_cells.length; ++i) {\n",
       "                if (nbb_cells[i].input_prompt_number == nbb_cell_id) {\n",
       "                    nbb_cells[i].set_text(nbb_formatted_code);\n",
       "                    break;\n",
       "                }\n",
       "            }\n",
       "        }, 500);\n",
       "        "
      ],
      "text/plain": [
       "<IPython.core.display.Javascript object>"
      ]
     },
     "metadata": {},
     "output_type": "display_data"
    }
   ],
   "source": [
    "times = pd.read_hdf(filename, key=keys[0])\n",
    "times"
   ]
  },
  {
   "cell_type": "code",
   "execution_count": 80,
   "id": "902435c5",
   "metadata": {},
   "outputs": [
    {
     "data": {
      "text/plain": [
       "0       NaN\n",
       "1    1492.0\n",
       "2     221.0\n",
       "3     868.0\n",
       "4     324.0\n",
       "5     184.0\n",
       "dtype: float64"
      ]
     },
     "execution_count": 80,
     "metadata": {},
     "output_type": "execute_result"
    },
    {
     "data": {
      "application/javascript": [
       "\n",
       "        setTimeout(function() {\n",
       "            var nbb_cell_id = 80;\n",
       "            var nbb_formatted_code = \"times.diff()\";\n",
       "            var nbb_cells = Jupyter.notebook.get_cells();\n",
       "            for (var i = 0; i < nbb_cells.length; ++i) {\n",
       "                if (nbb_cells[i].input_prompt_number == nbb_cell_id) {\n",
       "                    nbb_cells[i].set_text(nbb_formatted_code);\n",
       "                    break;\n",
       "                }\n",
       "            }\n",
       "        }, 500);\n",
       "        "
      ],
      "text/plain": [
       "<IPython.core.display.Javascript object>"
      ]
     },
     "metadata": {},
     "output_type": "display_data"
    }
   ],
   "source": [
    "times.diff()"
   ]
  },
  {
   "cell_type": "code",
   "execution_count": 81,
   "id": "c02f9d7c",
   "metadata": {},
   "outputs": [
    {
     "data": {
      "application/javascript": [
       "\n",
       "        setTimeout(function() {\n",
       "            var nbb_cell_id = 81;\n",
       "            var nbb_formatted_code = \"intervals = []\\n\\nfor key in keys:\\n    times = pd.read_hdf(filename, key=key)\\n    if len(times) > 1:\\n        intervals.extend(times.diff().dropna())\";\n",
       "            var nbb_cells = Jupyter.notebook.get_cells();\n",
       "            for (var i = 0; i < nbb_cells.length; ++i) {\n",
       "                if (nbb_cells[i].input_prompt_number == nbb_cell_id) {\n",
       "                    nbb_cells[i].set_text(nbb_formatted_code);\n",
       "                    break;\n",
       "                }\n",
       "            }\n",
       "        }, 500);\n",
       "        "
      ],
      "text/plain": [
       "<IPython.core.display.Javascript object>"
      ]
     },
     "metadata": {},
     "output_type": "display_data"
    }
   ],
   "source": [
    "intervals = []\n",
    "\n",
    "for key in keys:\n",
    "    times = pd.read_hdf(filename, key=key)\n",
    "    if len(times) > 1:\n",
    "        intervals.extend(times.diff().dropna())"
   ]
  },
  {
   "cell_type": "code",
   "execution_count": 82,
   "id": "5ad78619",
   "metadata": {},
   "outputs": [
    {
     "data": {
      "text/plain": [
       "0.002040836560191201"
      ]
     },
     "execution_count": 82,
     "metadata": {},
     "output_type": "execute_result"
    },
    {
     "data": {
      "application/javascript": [
       "\n",
       "        setTimeout(function() {\n",
       "            var nbb_cell_id = 82;\n",
       "            var nbb_formatted_code = \"lam = 1 / np.mean(intervals)\\nlam\";\n",
       "            var nbb_cells = Jupyter.notebook.get_cells();\n",
       "            for (var i = 0; i < nbb_cells.length; ++i) {\n",
       "                if (nbb_cells[i].input_prompt_number == nbb_cell_id) {\n",
       "                    nbb_cells[i].set_text(nbb_formatted_code);\n",
       "                    break;\n",
       "                }\n",
       "            }\n",
       "        }, 500);\n",
       "        "
      ],
      "text/plain": [
       "<IPython.core.display.Javascript object>"
      ]
     },
     "metadata": {},
     "output_type": "display_data"
    }
   ],
   "source": [
    "lam = 1 / np.mean(intervals)\n",
    "lam"
   ]
  },
  {
   "cell_type": "code",
   "execution_count": 83,
   "id": "93e46bc6",
   "metadata": {},
   "outputs": [
    {
     "data": {
      "application/javascript": [
       "\n",
       "        setTimeout(function() {\n",
       "            var nbb_cell_id = 83;\n",
       "            var nbb_formatted_code = \"ts = np.linspace(0, np.max(intervals), 201)\\nps = exponential_cdf(ts, lam)\\ncdf_expo = Cdf(ps, ts, name=\\\"exponential model\\\")\";\n",
       "            var nbb_cells = Jupyter.notebook.get_cells();\n",
       "            for (var i = 0; i < nbb_cells.length; ++i) {\n",
       "                if (nbb_cells[i].input_prompt_number == nbb_cell_id) {\n",
       "                    nbb_cells[i].set_text(nbb_formatted_code);\n",
       "                    break;\n",
       "                }\n",
       "            }\n",
       "        }, 500);\n",
       "        "
      ],
      "text/plain": [
       "<IPython.core.display.Javascript object>"
      ]
     },
     "metadata": {},
     "output_type": "display_data"
    }
   ],
   "source": [
    "ts = np.linspace(0, np.max(intervals), 201)\n",
    "ps = exponential_cdf(ts, lam)\n",
    "cdf_expo = Cdf(ps, ts, name=\"exponential model\")"
   ]
  },
  {
   "cell_type": "code",
   "execution_count": 84,
   "id": "26696a2f",
   "metadata": {},
   "outputs": [
    {
     "data": {
      "application/javascript": [
       "\n",
       "        setTimeout(function() {\n",
       "            var nbb_cell_id = 84;\n",
       "            var nbb_formatted_code = \"cdf_intervals = Cdf.from_seq(intervals, name=\\\"data\\\", dropna=False)\";\n",
       "            var nbb_cells = Jupyter.notebook.get_cells();\n",
       "            for (var i = 0; i < nbb_cells.length; ++i) {\n",
       "                if (nbb_cells[i].input_prompt_number == nbb_cell_id) {\n",
       "                    nbb_cells[i].set_text(nbb_formatted_code);\n",
       "                    break;\n",
       "                }\n",
       "            }\n",
       "        }, 500);\n",
       "        "
      ],
      "text/plain": [
       "<IPython.core.display.Javascript object>"
      ]
     },
     "metadata": {},
     "output_type": "display_data"
    }
   ],
   "source": [
    "cdf_intervals = Cdf.from_seq(intervals, name=\"data\", dropna=False)"
   ]
  },
  {
   "cell_type": "code",
   "execution_count": 85,
   "id": "e77cb2f0",
   "metadata": {
    "scrolled": true
   },
   "outputs": [
    {
     "data": {
      "image/png": "[encoded data removed]",
      "text/plain": [
       "<Figure size 450x262.5 with 1 Axes>"
      ]
     },
     "metadata": {},
     "output_type": "display_data"
    },
    {
     "data": {
      "application/javascript": [
       "\n",
       "        setTimeout(function() {\n",
       "            var nbb_cell_id = 85;\n",
       "            var nbb_formatted_code = \"cdf_expo.plot(alpha=0.6, color=\\\"gray\\\")\\ncdf_intervals.plot(alpha=0.6)\\n\\ndecorate(xlabel=\\\"Time of first goal (seconds)\\\", ylabel=\\\"CDF\\\")\";\n",
       "            var nbb_cells = Jupyter.notebook.get_cells();\n",
       "            for (var i = 0; i < nbb_cells.length; ++i) {\n",
       "                if (nbb_cells[i].input_prompt_number == nbb_cell_id) {\n",
       "                    nbb_cells[i].set_text(nbb_formatted_code);\n",
       "                    break;\n",
       "                }\n",
       "            }\n",
       "        }, 500);\n",
       "        "
      ],
      "text/plain": [
       "<IPython.core.display.Javascript object>"
      ]
     },
     "metadata": {},
     "output_type": "display_data"
    }
   ],
   "source": [
    "cdf_expo.plot(alpha=0.6, color=\"gray\")\n",
    "cdf_intervals.plot(alpha=0.6)\n",
    "\n",
    "decorate(xlabel=\"Time of first goal (seconds)\", ylabel=\"CDF\")"
   ]
  },
  {
   "cell_type": "markdown",
   "id": "82106650",
   "metadata": {},
   "source": [
    "### Exercise\n",
    "\n",
    "Is the distribution of human height more like a normal or a lognormal distribution?\n",
    "To find out, we can select height data from the BRFSS like this:"
   ]
  },
  {
   "cell_type": "code",
   "execution_count": 97,
   "id": "1916f8dc",
   "metadata": {},
   "outputs": [
    {
     "data": {
      "text/plain": [
       "(168.82518961012298, 10.35264015645592)"
      ]
     },
     "execution_count": 97,
     "metadata": {},
     "output_type": "execute_result"
    },
    {
     "data": {
      "application/javascript": [
       "\n",
       "        setTimeout(function() {\n",
       "            var nbb_cell_id = 97;\n",
       "            var nbb_formatted_code = \"adult_heights = brfss[\\\"htm3\\\"].dropna()\\nm, s = np.mean(adult_heights), np.std(adult_heights)\\nm, s\";\n",
       "            var nbb_cells = Jupyter.notebook.get_cells();\n",
       "            for (var i = 0; i < nbb_cells.length; ++i) {\n",
       "                if (nbb_cells[i].input_prompt_number == nbb_cell_id) {\n",
       "                    nbb_cells[i].set_text(nbb_formatted_code);\n",
       "                    break;\n",
       "                }\n",
       "            }\n",
       "        }, 500);\n",
       "        "
      ],
      "text/plain": [
       "<IPython.core.display.Javascript object>"
      ]
     },
     "metadata": {},
     "output_type": "display_data"
    }
   ],
   "source": [
    "adult_heights = brfss[\"htm3\"].dropna()\n",
    "m, s = np.mean(adult_heights), np.std(adult_heights)\n",
    "m, s"
   ]
  },
  {
   "cell_type": "markdown",
   "id": "f894fdf1",
   "metadata": {},
   "source": [
    "Compute the CDF of these values and compare it to a normal distribution with the same mean and standard deviation.\n",
    "Then compute the logarithms of the heights and compute the distribution of the logarithms to a normal distribution.\n",
    "Which model fits the data better?"
   ]
  },
  {
   "cell_type": "code",
   "execution_count": 103,
   "id": "4b5c0630",
   "metadata": {},
   "outputs": [
    {
     "data": {
      "application/javascript": [
       "\n",
       "        setTimeout(function() {\n",
       "            var nbb_cell_id = 103;\n",
       "            var nbb_formatted_code = \"cdf_adult_heights = Cdf.from_seq(adult_heights, name=\\\"adult height\\\")\";\n",
       "            var nbb_cells = Jupyter.notebook.get_cells();\n",
       "            for (var i = 0; i < nbb_cells.length; ++i) {\n",
       "                if (nbb_cells[i].input_prompt_number == nbb_cell_id) {\n",
       "                    nbb_cells[i].set_text(nbb_formatted_code);\n",
       "                    break;\n",
       "                }\n",
       "            }\n",
       "        }, 500);\n",
       "        "
      ],
      "text/plain": [
       "<IPython.core.display.Javascript object>"
      ]
     },
     "metadata": {},
     "output_type": "display_data"
    }
   ],
   "source": [
    "cdf_adult_heights = Cdf.from_seq(adult_heights, name=\"adult height\")"
   ]
  },
  {
   "cell_type": "code",
   "execution_count": 104,
   "id": "2435a8f8",
   "metadata": {},
   "outputs": [
    {
     "data": {
      "application/javascript": [
       "\n",
       "        setTimeout(function() {\n",
       "            var nbb_cell_id = 104;\n",
       "            var nbb_formatted_code = \"cdf_model = make_normal_model(adult_heights)\";\n",
       "            var nbb_cells = Jupyter.notebook.get_cells();\n",
       "            for (var i = 0; i < nbb_cells.length; ++i) {\n",
       "                if (nbb_cells[i].input_prompt_number == nbb_cell_id) {\n",
       "                    nbb_cells[i].set_text(nbb_formatted_code);\n",
       "                    break;\n",
       "                }\n",
       "            }\n",
       "        }, 500);\n",
       "        "
      ],
      "text/plain": [
       "<IPython.core.display.Javascript object>"
      ]
     },
     "metadata": {},
     "output_type": "display_data"
    }
   ],
   "source": [
    "cdf_model = make_normal_model(adult_heights)"
   ]
  },
  {
   "cell_type": "code",
   "execution_count": 105,
   "id": "387cf404",
   "metadata": {},
   "outputs": [
    {
     "data": {
      "image/png": "[encoded data removed]",
      "text/plain": [
       "<Figure size 450x262.5 with 1 Axes>"
      ]
     },
     "metadata": {},
     "output_type": "display_data"
    },
    {
     "data": {
      "application/javascript": [
       "\n",
       "        setTimeout(function() {\n",
       "            var nbb_cell_id = 105;\n",
       "            var nbb_formatted_code = \"two_cdf_plots(cdf_model, cdf_adult_heights, xlabel=\\\"Adult height (cm)\\\")\";\n",
       "            var nbb_cells = Jupyter.notebook.get_cells();\n",
       "            for (var i = 0; i < nbb_cells.length; ++i) {\n",
       "                if (nbb_cells[i].input_prompt_number == nbb_cell_id) {\n",
       "                    nbb_cells[i].set_text(nbb_formatted_code);\n",
       "                    break;\n",
       "                }\n",
       "            }\n",
       "        }, 500);\n",
       "        "
      ],
      "text/plain": [
       "<IPython.core.display.Javascript object>"
      ]
     },
     "metadata": {},
     "output_type": "display_data"
    }
   ],
   "source": [
    "two_cdf_plots(cdf_model, cdf_adult_heights, xlabel=\"Adult height (cm)\")"
   ]
  },
  {
   "cell_type": "code",
   "execution_count": 106,
   "id": "c337cb43",
   "metadata": {},
   "outputs": [
    {
     "data": {
      "application/javascript": [
       "\n",
       "        setTimeout(function() {\n",
       "            var nbb_cell_id = 106;\n",
       "            var nbb_formatted_code = \"log_adult_heights = np.log10(adult_heights)\\n\\ncdf_model = make_normal_model(log_adult_heights)\\n\\ncdf_log_adult_heights = Cdf.from_seq(log_adult_heights, name=\\\"log adult height\\\")\";\n",
       "            var nbb_cells = Jupyter.notebook.get_cells();\n",
       "            for (var i = 0; i < nbb_cells.length; ++i) {\n",
       "                if (nbb_cells[i].input_prompt_number == nbb_cell_id) {\n",
       "                    nbb_cells[i].set_text(nbb_formatted_code);\n",
       "                    break;\n",
       "                }\n",
       "            }\n",
       "        }, 500);\n",
       "        "
      ],
      "text/plain": [
       "<IPython.core.display.Javascript object>"
      ]
     },
     "metadata": {},
     "output_type": "display_data"
    }
   ],
   "source": [
    "log_adult_heights = np.log10(adult_heights)\n",
    "\n",
    "cdf_model = make_normal_model(log_adult_heights)\n",
    "\n",
    "cdf_log_adult_heights = Cdf.from_seq(log_adult_heights, name=\"log adult height\")"
   ]
  },
  {
   "cell_type": "code",
   "execution_count": 108,
   "id": "724121e7",
   "metadata": {},
   "outputs": [
    {
     "data": {
      "image/png": "[encoded data removed]",
      "text/plain": [
       "<Figure size 450x262.5 with 1 Axes>"
      ]
     },
     "metadata": {},
     "output_type": "display_data"
    },
    {
     "data": {
      "application/javascript": [
       "\n",
       "        setTimeout(function() {\n",
       "            var nbb_cell_id = 108;\n",
       "            var nbb_formatted_code = \"two_cdf_plots(cdf_model, cdf_log_adult_heights, xlabel=\\\"Adult height (log10 cm)\\\")\";\n",
       "            var nbb_cells = Jupyter.notebook.get_cells();\n",
       "            for (var i = 0; i < nbb_cells.length; ++i) {\n",
       "                if (nbb_cells[i].input_prompt_number == nbb_cell_id) {\n",
       "                    nbb_cells[i].set_text(nbb_formatted_code);\n",
       "                    break;\n",
       "                }\n",
       "            }\n",
       "        }, 500);\n",
       "        "
      ],
      "text/plain": [
       "<IPython.core.display.Javascript object>"
      ]
     },
     "metadata": {},
     "output_type": "display_data"
    }
   ],
   "source": [
    "two_cdf_plots(cdf_model, cdf_log_adult_heights, xlabel=\"Adult height (log10 cm)\")"
   ]
  },
  {
   "cell_type": "code",
   "execution_count": null,
   "id": "37e30774",
   "metadata": {},
   "outputs": [],
   "source": []
  }
 ],
 "metadata": {
  "celltoolbar": "Tags",
  "kernelspec": {
   "display_name": "Python 3 (ipykernel)",
   "language": "python",
   "name": "python3"
  },
  "language_info": {
   "codemirror_mode": {
    "name": "ipython",
    "version": 3
   },
   "file_extension": ".py",
   "mimetype": "text/x-python",
   "name": "python",
   "nbconvert_exporter": "python",
   "pygments_lexer": "ipython3",
   "version": "3.10.14"
  }
 },
 "nbformat": 4,
 "nbformat_minor": 5
}
