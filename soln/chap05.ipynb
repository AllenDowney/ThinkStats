{
 "cells": [
  {
   "cell_type": "markdown",
   "id": "129937c8",
   "metadata": {},
   "source": [
    "# Modeling distributions\n",
    "\n",
    "The distributions we have used so far are called **empirical distributions** because they are based on empirical observations -- in other words, data.\n",
    "\n",
    "Many datasets we see in the real world can be closely approximated by a **theoretical distribution**, which is usually based on a simple mathematical model.\n",
    "\n",
    "This chapter presents some of these theoretical distribution and examples of datasets they can be used to model.\n",
    "\n",
    "As examples, we'll see that:\n",
    "\n",
    "* In a skeet shooting competition, the number of hits and misses is well modeled by a binomial distribution.\n",
    "\n",
    "* In games like hockey and soccer (football), the number of goals in a game follows a Poisson distribution, and the time between goals follows an exponential distribution.\n",
    "\n",
    "* Birth weights follow a normal distribution, also called a Gaussian distribution.\n",
    "\n",
    "* Adult weights follow a lognormal distribution.\n",
    "\n",
    "If you are not familiar with these distributions -- or these sports -- I will explain what you need to know.\n",
    "\n",
    "For each example, we'll start with a simulation based on a simple model of a real-world scenario, and show that the simulation results follow an analytic distribution.\n",
    "Then we'll see how well real data agrees with the model.\n",
    "\n"
   ]
  },
  {
   "cell_type": "code",
   "execution_count": 2,
   "id": "904b3e96",
   "metadata": {},
   "outputs": [
    {
     "data": {
      "application/javascript": [
       "\n",
       "        setTimeout(function() {\n",
       "            var nbb_cell_id = 2;\n",
       "            var nbb_formatted_code = \"%load_ext nb_black\\n%load_ext autoreload\\n%autoreload 2\";\n",
       "            var nbb_cells = Jupyter.notebook.get_cells();\n",
       "            for (var i = 0; i < nbb_cells.length; ++i) {\n",
       "                if (nbb_cells[i].input_prompt_number == nbb_cell_id) {\n",
       "                    nbb_cells[i].set_text(nbb_formatted_code);\n",
       "                    break;\n",
       "                }\n",
       "            }\n",
       "        }, 500);\n",
       "        "
      ],
      "text/plain": [
       "<IPython.core.display.Javascript object>"
      ]
     },
     "metadata": {},
     "output_type": "display_data"
    }
   ],
   "source": [
    "%load_ext nb_black\n",
    "%load_ext autoreload\n",
    "%autoreload 2"
   ]
  },
  {
   "cell_type": "code",
   "execution_count": 3,
   "id": "41ffa5f5",
   "metadata": {},
   "outputs": [
    {
     "data": {
      "application/javascript": [
       "\n",
       "        setTimeout(function() {\n",
       "            var nbb_cell_id = 3;\n",
       "            var nbb_formatted_code = \"from os.path import basename, exists\\n\\n\\ndef download(url):\\n    filename = basename(url)\\n    if not exists(filename):\\n        from urllib.request import urlretrieve\\n\\n        local, _ = urlretrieve(url, filename)\\n        print(\\\"Downloaded \\\" + local)\\n\\n\\ndownload(\\\"https://github.com/AllenDowney/ThinkStats/raw/v3/nb/thinkstats.py\\\")\";\n",
       "            var nbb_cells = Jupyter.notebook.get_cells();\n",
       "            for (var i = 0; i < nbb_cells.length; ++i) {\n",
       "                if (nbb_cells[i].input_prompt_number == nbb_cell_id) {\n",
       "                    nbb_cells[i].set_text(nbb_formatted_code);\n",
       "                    break;\n",
       "                }\n",
       "            }\n",
       "        }, 500);\n",
       "        "
      ],
      "text/plain": [
       "<IPython.core.display.Javascript object>"
      ]
     },
     "metadata": {},
     "output_type": "display_data"
    }
   ],
   "source": [
    "from os.path import basename, exists\n",
    "\n",
    "\n",
    "def download(url):\n",
    "    filename = basename(url)\n",
    "    if not exists(filename):\n",
    "        from urllib.request import urlretrieve\n",
    "\n",
    "        local, _ = urlretrieve(url, filename)\n",
    "        print(\"Downloaded \" + local)\n",
    "\n",
    "\n",
    "download(\"https://github.com/AllenDowney/ThinkStats/raw/v3/nb/thinkstats.py\")"
   ]
  },
  {
   "cell_type": "code",
   "execution_count": 4,
   "id": "9fb94810",
   "metadata": {},
   "outputs": [
    {
     "data": {
      "application/javascript": [
       "\n",
       "        setTimeout(function() {\n",
       "            var nbb_cell_id = 4;\n",
       "            var nbb_formatted_code = \"import numpy as np\\nimport pandas as pd\\nimport matplotlib.pyplot as plt\\n\\nfrom thinkstats import decorate\";\n",
       "            var nbb_cells = Jupyter.notebook.get_cells();\n",
       "            for (var i = 0; i < nbb_cells.length; ++i) {\n",
       "                if (nbb_cells[i].input_prompt_number == nbb_cell_id) {\n",
       "                    nbb_cells[i].set_text(nbb_formatted_code);\n",
       "                    break;\n",
       "                }\n",
       "            }\n",
       "        }, 500);\n",
       "        "
      ],
      "text/plain": [
       "<IPython.core.display.Javascript object>"
      ]
     },
     "metadata": {},
     "output_type": "display_data"
    }
   ],
   "source": [
    "import numpy as np\n",
    "import pandas as pd\n",
    "import matplotlib.pyplot as plt\n",
    "\n",
    "from thinkstats import decorate"
   ]
  },
  {
   "cell_type": "markdown",
   "id": "5887c412",
   "metadata": {},
   "source": [
    "## The Binomial Distribution\n",
    "\n",
    "As a first example, let's consider the sport of skeet shooting, in which competitors use shotguns to shoot clay disks that are thrown into the air.\n",
    "In international competition, including the Olympics, there are five rounds with 25 targets per round, with additional rounds as needed to determine a winner.\n",
    "\n",
    "As a model of a skeet-shooting competition, let suppose that every participant has the same probability of hitting every target, `p`.\n",
    "Of course, this model is a simplification -- in reality, it's likely that some competitors have a higher probability than others, and even for a single competitor, it might vary from one attempt to the next.\n",
    "But even if it is not realistic, this model make some remarkable predictions, as we'll see.\n",
    "\n",
    "To simulate the model, I'll use the following function, which takes the number of targets, `n`, and the probability of hitting each one, `p`, and returns a sequence of 1s and 0s to indicate hits and misses."
   ]
  },
  {
   "cell_type": "code",
   "execution_count": 5,
   "id": "3e420cb7",
   "metadata": {},
   "outputs": [
    {
     "data": {
      "application/javascript": [
       "\n",
       "        setTimeout(function() {\n",
       "            var nbb_cell_id = 5;\n",
       "            var nbb_formatted_code = \"def flip(n, p):\\n    choices = [1, 0]\\n    probs = [p, 1 - p]\\n    return np.random.choice(choices, n, p=probs)\";\n",
       "            var nbb_cells = Jupyter.notebook.get_cells();\n",
       "            for (var i = 0; i < nbb_cells.length; ++i) {\n",
       "                if (nbb_cells[i].input_prompt_number == nbb_cell_id) {\n",
       "                    nbb_cells[i].set_text(nbb_formatted_code);\n",
       "                    break;\n",
       "                }\n",
       "            }\n",
       "        }, 500);\n",
       "        "
      ],
      "text/plain": [
       "<IPython.core.display.Javascript object>"
      ]
     },
     "metadata": {},
     "output_type": "display_data"
    }
   ],
   "source": [
    "def flip(n, p):\n",
    "    choices = [1, 0]\n",
    "    probs = [p, 1 - p]\n",
    "    return np.random.choice(choices, n, p=probs)"
   ]
  },
  {
   "cell_type": "markdown",
   "id": "6d721838",
   "metadata": {},
   "source": [
    "Here's an example that simulates a round of 25 targets where the probability of hitting each one is 90%."
   ]
  },
  {
   "cell_type": "code",
   "execution_count": 6,
   "id": "747c1000",
   "metadata": {},
   "outputs": [
    {
     "data": {
      "text/plain": [
       "array([1, 0, 1, 1, 1, 1, 1, 0, 1, 1, 1, 1, 1, 1, 1, 1, 1, 1, 1, 1, 1, 1,\n",
       "       1, 1, 1])"
      ]
     },
     "execution_count": 6,
     "metadata": {},
     "output_type": "execute_result"
    },
    {
     "data": {
      "application/javascript": [
       "\n",
       "        setTimeout(function() {\n",
       "            var nbb_cell_id = 6;\n",
       "            var nbb_formatted_code = \"flip(25, 0.9)\";\n",
       "            var nbb_cells = Jupyter.notebook.get_cells();\n",
       "            for (var i = 0; i < nbb_cells.length; ++i) {\n",
       "                if (nbb_cells[i].input_prompt_number == nbb_cell_id) {\n",
       "                    nbb_cells[i].set_text(nbb_formatted_code);\n",
       "                    break;\n",
       "                }\n",
       "            }\n",
       "        }, 500);\n",
       "        "
      ],
      "text/plain": [
       "<IPython.core.display.Javascript object>"
      ]
     },
     "metadata": {},
     "output_type": "display_data"
    }
   ],
   "source": [
    "flip(25, 0.9)"
   ]
  },
  {
   "cell_type": "markdown",
   "id": "529dc6a2",
   "metadata": {},
   "source": [
    "If we generate a sequence of 1000 attempts, and compute the `Pmf` of the results, we can check whether the proportions of 1s and 0s are correct. "
   ]
  },
  {
   "cell_type": "code",
   "execution_count": 7,
   "id": "bd4a9c2a",
   "metadata": {},
   "outputs": [
    {
     "data": {
      "text/html": [
       "<div>\n",
       "<style scoped>\n",
       "    .dataframe tbody tr th:only-of-type {\n",
       "        vertical-align: middle;\n",
       "    }\n",
       "\n",
       "    .dataframe tbody tr th {\n",
       "        vertical-align: top;\n",
       "    }\n",
       "\n",
       "    .dataframe thead th {\n",
       "        text-align: right;\n",
       "    }\n",
       "</style>\n",
       "<table border=\"1\" class=\"dataframe\">\n",
       "  <thead>\n",
       "    <tr style=\"text-align: right;\">\n",
       "      <th></th>\n",
       "      <th>probs</th>\n",
       "    </tr>\n",
       "  </thead>\n",
       "  <tbody>\n",
       "    <tr>\n",
       "      <th>0</th>\n",
       "      <td>0.093</td>\n",
       "    </tr>\n",
       "    <tr>\n",
       "      <th>1</th>\n",
       "      <td>0.907</td>\n",
       "    </tr>\n",
       "  </tbody>\n",
       "</table>\n",
       "</div>"
      ],
      "text/plain": [
       "0    0.093\n",
       "1    0.907\n",
       "Name: , dtype: float64"
      ]
     },
     "execution_count": 7,
     "metadata": {},
     "output_type": "execute_result"
    },
    {
     "data": {
      "application/javascript": [
       "\n",
       "        setTimeout(function() {\n",
       "            var nbb_cell_id = 7;\n",
       "            var nbb_formatted_code = \"from empiricaldist import Pmf\\n\\nseq = flip(1000, 0.9)\\npmf = Pmf.from_seq(seq)\\npmf\";\n",
       "            var nbb_cells = Jupyter.notebook.get_cells();\n",
       "            for (var i = 0; i < nbb_cells.length; ++i) {\n",
       "                if (nbb_cells[i].input_prompt_number == nbb_cell_id) {\n",
       "                    nbb_cells[i].set_text(nbb_formatted_code);\n",
       "                    break;\n",
       "                }\n",
       "            }\n",
       "        }, 500);\n",
       "        "
      ],
      "text/plain": [
       "<IPython.core.display.Javascript object>"
      ]
     },
     "metadata": {},
     "output_type": "display_data"
    }
   ],
   "source": [
    "from empiricaldist import Pmf\n",
    "\n",
    "seq = flip(1000, 0.9)\n",
    "pmf = Pmf.from_seq(seq)\n",
    "pmf"
   ]
  },
  {
   "cell_type": "markdown",
   "id": "28a62858",
   "metadata": {},
   "source": [
    "And they are, at least approximately.\n",
    "Now we can use `flip` to simulate a round of skeet shooting and return the number of hits."
   ]
  },
  {
   "cell_type": "code",
   "execution_count": 8,
   "id": "67ad325e",
   "metadata": {},
   "outputs": [
    {
     "data": {
      "application/javascript": [
       "\n",
       "        setTimeout(function() {\n",
       "            var nbb_cell_id = 8;\n",
       "            var nbb_formatted_code = \"def simulate_round(n, p):\\n    seq = flip(n, p)\\n    return seq.sum()\";\n",
       "            var nbb_cells = Jupyter.notebook.get_cells();\n",
       "            for (var i = 0; i < nbb_cells.length; ++i) {\n",
       "                if (nbb_cells[i].input_prompt_number == nbb_cell_id) {\n",
       "                    nbb_cells[i].set_text(nbb_formatted_code);\n",
       "                    break;\n",
       "                }\n",
       "            }\n",
       "        }, 500);\n",
       "        "
      ],
      "text/plain": [
       "<IPython.core.display.Javascript object>"
      ]
     },
     "metadata": {},
     "output_type": "display_data"
    }
   ],
   "source": [
    "def simulate_round(n, p):\n",
    "    seq = flip(n, p)\n",
    "    return seq.sum()"
   ]
  },
  {
   "cell_type": "markdown",
   "id": "ea2a95d7",
   "metadata": {},
   "source": [
    "In a large competition, suppose 200 competitors shoot 5 rounds each, all with the same probability of hitting the target, `p=0.9`.\n",
    "We can simulate a competition like that by calling `simulate_round` 1000 times."
   ]
  },
  {
   "cell_type": "code",
   "execution_count": 9,
   "id": "b515d45e",
   "metadata": {},
   "outputs": [
    {
     "data": {
      "application/javascript": [
       "\n",
       "        setTimeout(function() {\n",
       "            var nbb_cell_id = 9;\n",
       "            var nbb_formatted_code = \"n = 25\\np = 0.9\\nresults_sim = [simulate_round(n, p) for i in range(1000)]\";\n",
       "            var nbb_cells = Jupyter.notebook.get_cells();\n",
       "            for (var i = 0; i < nbb_cells.length; ++i) {\n",
       "                if (nbb_cells[i].input_prompt_number == nbb_cell_id) {\n",
       "                    nbb_cells[i].set_text(nbb_formatted_code);\n",
       "                    break;\n",
       "                }\n",
       "            }\n",
       "        }, 500);\n",
       "        "
      ],
      "text/plain": [
       "<IPython.core.display.Javascript object>"
      ]
     },
     "metadata": {},
     "output_type": "display_data"
    }
   ],
   "source": [
    "n = 25\n",
    "p = 0.9\n",
    "results_sim = [simulate_round(n, p) for i in range(1000)]"
   ]
  },
  {
   "cell_type": "markdown",
   "id": "d2d07a13",
   "metadata": {},
   "source": [
    "The average score is close to `22.5`, which is the product of `n` and `p`."
   ]
  },
  {
   "cell_type": "code",
   "execution_count": 10,
   "id": "dd2e833c",
   "metadata": {},
   "outputs": [
    {
     "data": {
      "text/plain": [
       "(22.531, 22.5)"
      ]
     },
     "execution_count": 10,
     "metadata": {},
     "output_type": "execute_result"
    },
    {
     "data": {
      "application/javascript": [
       "\n",
       "        setTimeout(function() {\n",
       "            var nbb_cell_id = 10;\n",
       "            var nbb_formatted_code = \"np.mean(results_sim), n * p\";\n",
       "            var nbb_cells = Jupyter.notebook.get_cells();\n",
       "            for (var i = 0; i < nbb_cells.length; ++i) {\n",
       "                if (nbb_cells[i].input_prompt_number == nbb_cell_id) {\n",
       "                    nbb_cells[i].set_text(nbb_formatted_code);\n",
       "                    break;\n",
       "                }\n",
       "            }\n",
       "        }, 500);\n",
       "        "
      ],
      "text/plain": [
       "<IPython.core.display.Javascript object>"
      ]
     },
     "metadata": {},
     "output_type": "display_data"
    }
   ],
   "source": [
    "np.mean(results_sim), n * p"
   ]
  },
  {
   "cell_type": "markdown",
   "id": "5d4d2ebf",
   "metadata": {},
   "source": [
    "Here's what the distribution of the results looks like."
   ]
  },
  {
   "cell_type": "code",
   "execution_count": 11,
   "id": "7c9814c2",
   "metadata": {},
   "outputs": [
    {
     "data": {
      "image/png": "[encoded data removed]",
      "text/plain": [
       "<Figure size 450x262.5 with 1 Axes>"
      ]
     },
     "metadata": {},
     "output_type": "display_data"
    },
    {
     "data": {
      "application/javascript": [
       "\n",
       "        setTimeout(function() {\n",
       "            var nbb_cell_id = 11;\n",
       "            var nbb_formatted_code = \"from empiricaldist import Pmf\\n\\npmf_sim = Pmf.from_seq(results_sim, name=\\\"simulation results\\\")\\n\\npmf_sim.bar(alpha=0.6)\\ndecorate(xlabel=\\\"Hits\\\", ylabel=\\\"PMF\\\")\";\n",
       "            var nbb_cells = Jupyter.notebook.get_cells();\n",
       "            for (var i = 0; i < nbb_cells.length; ++i) {\n",
       "                if (nbb_cells[i].input_prompt_number == nbb_cell_id) {\n",
       "                    nbb_cells[i].set_text(nbb_formatted_code);\n",
       "                    break;\n",
       "                }\n",
       "            }\n",
       "        }, 500);\n",
       "        "
      ],
      "text/plain": [
       "<IPython.core.display.Javascript object>"
      ]
     },
     "metadata": {},
     "output_type": "display_data"
    }
   ],
   "source": [
    "from empiricaldist import Pmf\n",
    "\n",
    "pmf_sim = Pmf.from_seq(results_sim, name=\"simulation results\")\n",
    "\n",
    "pmf_sim.bar(alpha=0.6)\n",
    "decorate(xlabel=\"Hits\", ylabel=\"PMF\")"
   ]
  },
  {
   "cell_type": "markdown",
   "id": "5c498948",
   "metadata": {},
   "source": [
    "Instead of running a simulation, we could have predicted this distribution.\n",
    "Mathematically, we can show that the distribution of these outcomes follows a binomial distribution, which has a PMF that is easy to compute."
   ]
  },
  {
   "cell_type": "code",
   "execution_count": 12,
   "id": "5f3b479d",
   "metadata": {},
   "outputs": [
    {
     "data": {
      "application/javascript": [
       "\n",
       "        setTimeout(function() {\n",
       "            var nbb_cell_id = 12;\n",
       "            var nbb_formatted_code = \"from scipy.special import comb\\n\\n\\ndef binomial_pmf(k, n, p):\\n    \\\"\\\"\\\"Compute the binomial PMF.\\n\\n    k (int or array-like): number of successes\\n    n (int): number of trials\\n    p (float): probability of success on a single trial\\n\\n    returns: float or ndarray\\n    \\\"\\\"\\\"\\n    return comb(n, k) * (p**k) * ((1 - p) ** (n - k))\";\n",
       "            var nbb_cells = Jupyter.notebook.get_cells();\n",
       "            for (var i = 0; i < nbb_cells.length; ++i) {\n",
       "                if (nbb_cells[i].input_prompt_number == nbb_cell_id) {\n",
       "                    nbb_cells[i].set_text(nbb_formatted_code);\n",
       "                    break;\n",
       "                }\n",
       "            }\n",
       "        }, 500);\n",
       "        "
      ],
      "text/plain": [
       "<IPython.core.display.Javascript object>"
      ]
     },
     "metadata": {},
     "output_type": "display_data"
    }
   ],
   "source": [
    "from scipy.special import comb\n",
    "\n",
    "\n",
    "def binomial_pmf(k, n, p):\n",
    "    \"\"\"Compute the binomial PMF.\n",
    "\n",
    "    k (int or array-like): number of successes\n",
    "    n (int): number of trials\n",
    "    p (float): probability of success on a single trial\n",
    "\n",
    "    returns: float or ndarray\n",
    "    \"\"\"\n",
    "    return comb(n, k) * (p**k) * ((1 - p) ** (n - k))"
   ]
  },
  {
   "cell_type": "markdown",
   "id": "ba15dee8",
   "metadata": {},
   "source": [
    "This function computes the probability of getting `k` hits out of `n` attempts, given `p`.\n",
    "If we call this function with a range of `k`, we can make a `Pmf` that represents the distribution of the outcomes."
   ]
  },
  {
   "cell_type": "code",
   "execution_count": 13,
   "id": "9590e8cc",
   "metadata": {},
   "outputs": [
    {
     "data": {
      "application/javascript": [
       "\n",
       "        setTimeout(function() {\n",
       "            var nbb_cell_id = 13;\n",
       "            var nbb_formatted_code = \"ks = np.arange(16, n + 1)\\nps = binomial_pmf(ks, n, p)\\npmf_binom = Pmf(ps, ks, name=\\\"binomial model\\\")\";\n",
       "            var nbb_cells = Jupyter.notebook.get_cells();\n",
       "            for (var i = 0; i < nbb_cells.length; ++i) {\n",
       "                if (nbb_cells[i].input_prompt_number == nbb_cell_id) {\n",
       "                    nbb_cells[i].set_text(nbb_formatted_code);\n",
       "                    break;\n",
       "                }\n",
       "            }\n",
       "        }, 500);\n",
       "        "
      ],
      "text/plain": [
       "<IPython.core.display.Javascript object>"
      ]
     },
     "metadata": {},
     "output_type": "display_data"
    }
   ],
   "source": [
    "ks = np.arange(16, n + 1)\n",
    "ps = binomial_pmf(ks, n, p)\n",
    "pmf_binom = Pmf(ps, ks, name=\"binomial model\")"
   ]
  },
  {
   "cell_type": "markdown",
   "id": "5b735403",
   "metadata": {},
   "source": [
    "And here's what it looks like compared to the simulation results."
   ]
  },
  {
   "cell_type": "code",
   "execution_count": 14,
   "id": "7a4138df",
   "metadata": {},
   "outputs": [
    {
     "data": {
      "image/png": "[encoded data removed]",
      "text/plain": [
       "<Figure size 450x262.5 with 1 Axes>"
      ]
     },
     "metadata": {},
     "output_type": "display_data"
    },
    {
     "data": {
      "application/javascript": [
       "\n",
       "        setTimeout(function() {\n",
       "            var nbb_cell_id = 14;\n",
       "            var nbb_formatted_code = \"from thinkstats import two_bar_plots\\n\\ntwo_bar_plots(pmf_sim, pmf_binom)\\ndecorate(xlabel=\\\"Hits\\\", ylabel=\\\"PMF\\\")\";\n",
       "            var nbb_cells = Jupyter.notebook.get_cells();\n",
       "            for (var i = 0; i < nbb_cells.length; ++i) {\n",
       "                if (nbb_cells[i].input_prompt_number == nbb_cell_id) {\n",
       "                    nbb_cells[i].set_text(nbb_formatted_code);\n",
       "                    break;\n",
       "                }\n",
       "            }\n",
       "        }, 500);\n",
       "        "
      ],
      "text/plain": [
       "<IPython.core.display.Javascript object>"
      ]
     },
     "metadata": {},
     "output_type": "display_data"
    }
   ],
   "source": [
    "from thinkstats import two_bar_plots\n",
    "\n",
    "two_bar_plots(pmf_sim, pmf_binom)\n",
    "decorate(xlabel=\"Hits\", ylabel=\"PMF\")"
   ]
  },
  {
   "cell_type": "markdown",
   "id": "7879e5af",
   "metadata": {},
   "source": [
    "They are similar, with small differences because of random variation in the simulation results.\n",
    "\n",
    "This agreement should not be surprising, because the simulation and the model are based on the same assumptions -- particularly the assumption that every attempt has the same probability of success.\n",
    "The real test of a model is how it compares to real data.\n",
    "\n",
    "From the Wikipedia page for the men's skeet shooting competition at the 2020 Summer Olympics, we can extract a table that shows the results for the qualification rounds of the competition."
   ]
  },
  {
   "cell_type": "markdown",
   "id": "d724e0ed",
   "metadata": {},
   "source": [
    "Downloaded from <https://en.wikipedia.org/wiki/Shooting_at_the_2020_Summer_Olympics_–_Men's_skeet> on July 15, 2024."
   ]
  },
  {
   "cell_type": "code",
   "execution_count": 15,
   "id": "86b5831c",
   "metadata": {},
   "outputs": [
    {
     "data": {
      "application/javascript": [
       "\n",
       "        setTimeout(function() {\n",
       "            var nbb_cell_id = 15;\n",
       "            var nbb_formatted_code = \"filename = \\\"Shooting_at_the_2020_Summer_Olympics_\\u2013_Men's_skeet\\\"\\ndownload(\\\"https://github.com/AllenDowney/ThinkStats/raw/v3/data/\\\" + filename)\";\n",
       "            var nbb_cells = Jupyter.notebook.get_cells();\n",
       "            for (var i = 0; i < nbb_cells.length; ++i) {\n",
       "                if (nbb_cells[i].input_prompt_number == nbb_cell_id) {\n",
       "                    nbb_cells[i].set_text(nbb_formatted_code);\n",
       "                    break;\n",
       "                }\n",
       "            }\n",
       "        }, 500);\n",
       "        "
      ],
      "text/plain": [
       "<IPython.core.display.Javascript object>"
      ]
     },
     "metadata": {},
     "output_type": "display_data"
    }
   ],
   "source": [
    "filename = \"Shooting_at_the_2020_Summer_Olympics_–_Men's_skeet\"\n",
    "download(\"https://github.com/AllenDowney/ThinkStats/raw/v3/data/\" + filename)"
   ]
  },
  {
   "cell_type": "code",
   "execution_count": 91,
   "id": "80f462d5",
   "metadata": {},
   "outputs": [
    {
     "data": {
      "text/html": [
       "<div>\n",
       "<style scoped>\n",
       "    .dataframe tbody tr th:only-of-type {\n",
       "        vertical-align: middle;\n",
       "    }\n",
       "\n",
       "    .dataframe tbody tr th {\n",
       "        vertical-align: top;\n",
       "    }\n",
       "\n",
       "    .dataframe thead th {\n",
       "        text-align: right;\n",
       "    }\n",
       "</style>\n",
       "<table border=\"1\" class=\"dataframe\">\n",
       "  <thead>\n",
       "    <tr style=\"text-align: right;\">\n",
       "      <th></th>\n",
       "      <th>Rank</th>\n",
       "      <th>Athlete</th>\n",
       "      <th>Country</th>\n",
       "      <th>1</th>\n",
       "      <th>2</th>\n",
       "      <th>3</th>\n",
       "      <th>4</th>\n",
       "      <th>5</th>\n",
       "      <th>Total[3]</th>\n",
       "      <th>Shoot-off</th>\n",
       "      <th>Notes</th>\n",
       "    </tr>\n",
       "  </thead>\n",
       "  <tbody>\n",
       "    <tr>\n",
       "      <th>0</th>\n",
       "      <td>1</td>\n",
       "      <td>Éric Delaunay</td>\n",
       "      <td>France</td>\n",
       "      <td>25</td>\n",
       "      <td>25</td>\n",
       "      <td>25</td>\n",
       "      <td>24</td>\n",
       "      <td>25</td>\n",
       "      <td>124</td>\n",
       "      <td>+6</td>\n",
       "      <td>Q, OR</td>\n",
       "    </tr>\n",
       "    <tr>\n",
       "      <th>1</th>\n",
       "      <td>2</td>\n",
       "      <td>Tammaro Cassandro</td>\n",
       "      <td>Italy</td>\n",
       "      <td>24</td>\n",
       "      <td>25</td>\n",
       "      <td>25</td>\n",
       "      <td>25</td>\n",
       "      <td>25</td>\n",
       "      <td>124</td>\n",
       "      <td>+5</td>\n",
       "      <td>Q, OR</td>\n",
       "    </tr>\n",
       "    <tr>\n",
       "      <th>2</th>\n",
       "      <td>3</td>\n",
       "      <td>Eetu Kallioinen</td>\n",
       "      <td>Finland</td>\n",
       "      <td>25</td>\n",
       "      <td>25</td>\n",
       "      <td>24</td>\n",
       "      <td>25</td>\n",
       "      <td>24</td>\n",
       "      <td>123</td>\n",
       "      <td>NaN</td>\n",
       "      <td>Q</td>\n",
       "    </tr>\n",
       "    <tr>\n",
       "      <th>3</th>\n",
       "      <td>4</td>\n",
       "      <td>Vincent Hancock</td>\n",
       "      <td>United States</td>\n",
       "      <td>25</td>\n",
       "      <td>25</td>\n",
       "      <td>25</td>\n",
       "      <td>25</td>\n",
       "      <td>22</td>\n",
       "      <td>122</td>\n",
       "      <td>+8</td>\n",
       "      <td>Q</td>\n",
       "    </tr>\n",
       "    <tr>\n",
       "      <th>4</th>\n",
       "      <td>5</td>\n",
       "      <td>Abdullah Al-Rashidi</td>\n",
       "      <td>Kuwait</td>\n",
       "      <td>25</td>\n",
       "      <td>25</td>\n",
       "      <td>24</td>\n",
       "      <td>25</td>\n",
       "      <td>23</td>\n",
       "      <td>122</td>\n",
       "      <td>+7</td>\n",
       "      <td>Q</td>\n",
       "    </tr>\n",
       "  </tbody>\n",
       "</table>\n",
       "</div>"
      ],
      "text/plain": [
       "   Rank              Athlete        Country   1   2   3   4   5 Total[3]  \\\n",
       "0     1        Éric Delaunay         France  25  25  25  24  25      124   \n",
       "1     2    Tammaro Cassandro          Italy  24  25  25  25  25      124   \n",
       "2     3      Eetu Kallioinen        Finland  25  25  24  25  24      123   \n",
       "3     4      Vincent Hancock  United States  25  25  25  25  22      122   \n",
       "4     5  Abdullah Al-Rashidi         Kuwait  25  25  24  25  23      122   \n",
       "\n",
       "  Shoot-off  Notes  \n",
       "0        +6  Q, OR  \n",
       "1        +5  Q, OR  \n",
       "2       NaN      Q  \n",
       "3        +8      Q  \n",
       "4        +7      Q  "
      ]
     },
     "execution_count": 91,
     "metadata": {},
     "output_type": "execute_result"
    },
    {
     "data": {
      "application/javascript": [
       "\n",
       "        setTimeout(function() {\n",
       "            var nbb_cell_id = 91;\n",
       "            var nbb_formatted_code = \"tables = pd.read_html(\\\"Shooting_at_the_2020_Summer_Olympics_\\u2013_Men's_skeet\\\")\\ntable = tables[6]\\ntable.head()\";\n",
       "            var nbb_cells = Jupyter.notebook.get_cells();\n",
       "            for (var i = 0; i < nbb_cells.length; ++i) {\n",
       "                if (nbb_cells[i].input_prompt_number == nbb_cell_id) {\n",
       "                    nbb_cells[i].set_text(nbb_formatted_code);\n",
       "                    break;\n",
       "                }\n",
       "            }\n",
       "        }, 500);\n",
       "        "
      ],
      "text/plain": [
       "<IPython.core.display.Javascript object>"
      ]
     },
     "metadata": {},
     "output_type": "display_data"
    }
   ],
   "source": [
    "tables = pd.read_html(\"Shooting_at_the_2020_Summer_Olympics_–_Men's_skeet\")\n",
    "table = tables[6]\n",
    "table.head()"
   ]
  },
  {
   "cell_type": "markdown",
   "id": "ecc26901",
   "metadata": {},
   "source": [
    "The table has one row for each competitor, with one column for each of five rounds.\n",
    "We'll select the columns that contain the results and use `flatten` to put them into a single array."
   ]
  },
  {
   "cell_type": "code",
   "execution_count": null,
   "id": "58108620",
   "metadata": {},
   "outputs": [],
   "source": [
    "columns = [\"1\", \"2\", \"3\", \"4\", \"5\"]\n",
    "results = table[columns].values.flatten()"
   ]
  },
  {
   "cell_type": "code",
   "execution_count": 93,
   "id": "0798664f",
   "metadata": {},
   "outputs": [
    {
     "data": {
      "text/plain": [
       "(150, 3750, 3575)"
      ]
     },
     "execution_count": 93,
     "metadata": {},
     "output_type": "execute_result"
    },
    {
     "data": {
      "application/javascript": [
       "\n",
       "        setTimeout(function() {\n",
       "            var nbb_cell_id = 93;\n",
       "            var nbb_formatted_code = \"total_shots = 25 * len(results)\\ntotal_hits = results.sum()\\nn, total_shots, total_hits\";\n",
       "            var nbb_cells = Jupyter.notebook.get_cells();\n",
       "            for (var i = 0; i < nbb_cells.length; ++i) {\n",
       "                if (nbb_cells[i].input_prompt_number == nbb_cell_id) {\n",
       "                    nbb_cells[i].set_text(nbb_formatted_code);\n",
       "                    break;\n",
       "                }\n",
       "            }\n",
       "        }, 500);\n",
       "        "
      ],
      "text/plain": [
       "<IPython.core.display.Javascript object>"
      ]
     },
     "metadata": {},
     "output_type": "display_data"
    }
   ],
   "source": [
    "total_shots = 25 * len(results)\n",
    "total_hits = results.sum()\n",
    "n, total_shots, total_hits"
   ]
  },
  {
   "cell_type": "markdown",
   "id": "3bfbd3a3",
   "metadata": {},
   "source": [
    "With 30 competitors, we have results from 150 rounds of 25 shots each, with 3750 hits out of a total of 3575 attempts."
   ]
  },
  {
   "cell_type": "code",
   "execution_count": 19,
   "id": "d9c54715",
   "metadata": {},
   "outputs": [
    {
     "data": {
      "text/plain": [
       "0.9533333333333334"
      ]
     },
     "execution_count": 19,
     "metadata": {},
     "output_type": "execute_result"
    },
    {
     "data": {
      "application/javascript": [
       "\n",
       "        setTimeout(function() {\n",
       "            var nbb_cell_id = 19;\n",
       "            var nbb_formatted_code = \"total_shots = 25 * len(results)\\ntotal_hits = results.sum()\\np = total_hits / total_shots\\np\";\n",
       "            var nbb_cells = Jupyter.notebook.get_cells();\n",
       "            for (var i = 0; i < nbb_cells.length; ++i) {\n",
       "                if (nbb_cells[i].input_prompt_number == nbb_cell_id) {\n",
       "                    nbb_cells[i].set_text(nbb_formatted_code);\n",
       "                    break;\n",
       "                }\n",
       "            }\n",
       "        }, 500);\n",
       "        "
      ],
      "text/plain": [
       "<IPython.core.display.Javascript object>"
      ]
     },
     "metadata": {},
     "output_type": "display_data"
    }
   ],
   "source": [
    "p = total_hits / total_shots\n",
    "p"
   ]
  },
  {
   "cell_type": "markdown",
   "id": "0081ed3b",
   "metadata": {},
   "source": [
    "So the overall success rate is 95.3%.\n",
    "Now we can compute a `Pmf` that represents the binomial distribution with `n=25` and the value of `p` we just computed."
   ]
  },
  {
   "cell_type": "code",
   "execution_count": 20,
   "id": "e936f800",
   "metadata": {},
   "outputs": [
    {
     "data": {
      "application/javascript": [
       "\n",
       "        setTimeout(function() {\n",
       "            var nbb_cell_id = 20;\n",
       "            var nbb_formatted_code = \"n = 25\\nks = np.arange(16, n + 1)\\nps = binomial_pmf(ks, n, p)\\npmf_binom = Pmf(ps, ks, name=\\\"binomial model\\\")\";\n",
       "            var nbb_cells = Jupyter.notebook.get_cells();\n",
       "            for (var i = 0; i < nbb_cells.length; ++i) {\n",
       "                if (nbb_cells[i].input_prompt_number == nbb_cell_id) {\n",
       "                    nbb_cells[i].set_text(nbb_formatted_code);\n",
       "                    break;\n",
       "                }\n",
       "            }\n",
       "        }, 500);\n",
       "        "
      ],
      "text/plain": [
       "<IPython.core.display.Javascript object>"
      ]
     },
     "metadata": {},
     "output_type": "display_data"
    }
   ],
   "source": [
    "n = 25\n",
    "ks = np.arange(16, n + 1)\n",
    "ps = binomial_pmf(ks, n, p)\n",
    "pmf_binom = Pmf(ps, ks, name=\"binomial model\")"
   ]
  },
  {
   "cell_type": "markdown",
   "id": "a83ed3fd",
   "metadata": {},
   "source": [
    "And we can compare that to the `Pmf` of the actual results."
   ]
  },
  {
   "cell_type": "code",
   "execution_count": 22,
   "id": "ee862bb0",
   "metadata": {},
   "outputs": [
    {
     "data": {
      "image/png": "[encoded data removed]",
      "text/plain": [
       "<Figure size 450x262.5 with 1 Axes>"
      ]
     },
     "metadata": {},
     "output_type": "display_data"
    },
    {
     "data": {
      "application/javascript": [
       "\n",
       "        setTimeout(function() {\n",
       "            var nbb_cell_id = 22;\n",
       "            var nbb_formatted_code = \"pmf_results = Pmf.from_seq(results, name=\\\"actual results\\\")\\n\\ntwo_bar_plots(pmf_results, pmf_binom)\\ndecorate(xlabel=\\\"Hits\\\", ylabel=\\\"CDF\\\")\";\n",
       "            var nbb_cells = Jupyter.notebook.get_cells();\n",
       "            for (var i = 0; i < nbb_cells.length; ++i) {\n",
       "                if (nbb_cells[i].input_prompt_number == nbb_cell_id) {\n",
       "                    nbb_cells[i].set_text(nbb_formatted_code);\n",
       "                    break;\n",
       "                }\n",
       "            }\n",
       "        }, 500);\n",
       "        "
      ],
      "text/plain": [
       "<IPython.core.display.Javascript object>"
      ]
     },
     "metadata": {},
     "output_type": "display_data"
    }
   ],
   "source": [
    "pmf_results = Pmf.from_seq(results, name=\"actual results\")\n",
    "\n",
    "two_bar_plots(pmf_results, pmf_binom)\n",
    "decorate(xlabel=\"Hits\", ylabel=\"CDF\")"
   ]
  },
  {
   "cell_type": "markdown",
   "id": "fb98f9e9",
   "metadata": {},
   "source": [
    "The binomial model is a good fit for the distribution of the data."
   ]
  },
  {
   "cell_type": "markdown",
   "id": "c2410330",
   "metadata": {},
   "source": [
    "## The Poisson Distribution\n",
    "\n",
    "As another example where the outcomes of sports events follow predictable patterns, let's look at the number of goals scored in ice hockey games.\n",
    "\n",
    "We'll start by simulating a game of ice hockey that lasts 60 minutes, which is 3600 seconds. We'll assume that the teams score a total of 6 goals per game, on average, and that the probability of scoring a goal during any second is the same."
   ]
  },
  {
   "cell_type": "code",
   "execution_count": 136,
   "id": "600e86a5",
   "metadata": {},
   "outputs": [
    {
     "data": {
      "text/plain": [
       "0.0016666666666666668"
      ]
     },
     "execution_count": 136,
     "metadata": {},
     "output_type": "execute_result"
    },
    {
     "data": {
      "application/javascript": [
       "\n",
       "        setTimeout(function() {\n",
       "            var nbb_cell_id = 136;\n",
       "            var nbb_formatted_code = \"n = 3600\\nm = 6\\np = m / 3600\\np\";\n",
       "            var nbb_cells = Jupyter.notebook.get_cells();\n",
       "            for (var i = 0; i < nbb_cells.length; ++i) {\n",
       "                if (nbb_cells[i].input_prompt_number == nbb_cell_id) {\n",
       "                    nbb_cells[i].set_text(nbb_formatted_code);\n",
       "                    break;\n",
       "                }\n",
       "            }\n",
       "        }, 500);\n",
       "        "
      ],
      "text/plain": [
       "<IPython.core.display.Javascript object>"
      ]
     },
     "metadata": {},
     "output_type": "display_data"
    }
   ],
   "source": [
    "n = 3600\n",
    "m = 6\n",
    "p = m / 3600\n",
    "p"
   ]
  },
  {
   "cell_type": "markdown",
   "id": "1dc6fbab",
   "metadata": {},
   "source": [
    "Now we can use the following function to simulate `n` second and return the total number of goals scored."
   ]
  },
  {
   "cell_type": "code",
   "execution_count": 137,
   "id": "90168872",
   "metadata": {},
   "outputs": [
    {
     "data": {
      "application/javascript": [
       "\n",
       "        setTimeout(function() {\n",
       "            var nbb_cell_id = 137;\n",
       "            var nbb_formatted_code = \"def simulate_goals(n, p):\\n    return flip(n, p).sum()\";\n",
       "            var nbb_cells = Jupyter.notebook.get_cells();\n",
       "            for (var i = 0; i < nbb_cells.length; ++i) {\n",
       "                if (nbb_cells[i].input_prompt_number == nbb_cell_id) {\n",
       "                    nbb_cells[i].set_text(nbb_formatted_code);\n",
       "                    break;\n",
       "                }\n",
       "            }\n",
       "        }, 500);\n",
       "        "
      ],
      "text/plain": [
       "<IPython.core.display.Javascript object>"
      ]
     },
     "metadata": {},
     "output_type": "display_data"
    }
   ],
   "source": [
    "def simulate_goals(n, p):\n",
    "    return flip(n, p).sum()"
   ]
  },
  {
   "cell_type": "markdown",
   "id": "d88b25ae",
   "metadata": {},
   "source": [
    "If we simulate 1000 games, we can confirm that the average number of goals per game is close to 6."
   ]
  },
  {
   "cell_type": "code",
   "execution_count": 138,
   "id": "b0cb6428",
   "metadata": {},
   "outputs": [
    {
     "data": {
      "text/plain": [
       "6.036963036963037"
      ]
     },
     "execution_count": 138,
     "metadata": {},
     "output_type": "execute_result"
    },
    {
     "data": {
      "application/javascript": [
       "\n",
       "        setTimeout(function() {\n",
       "            var nbb_cell_id = 138;\n",
       "            var nbb_formatted_code = \"goals = [simulate_goals(n, p) for i in range(1001)]\\nnp.mean(goals)\";\n",
       "            var nbb_cells = Jupyter.notebook.get_cells();\n",
       "            for (var i = 0; i < nbb_cells.length; ++i) {\n",
       "                if (nbb_cells[i].input_prompt_number == nbb_cell_id) {\n",
       "                    nbb_cells[i].set_text(nbb_formatted_code);\n",
       "                    break;\n",
       "                }\n",
       "            }\n",
       "        }, 500);\n",
       "        "
      ],
      "text/plain": [
       "<IPython.core.display.Javascript object>"
      ]
     },
     "metadata": {},
     "output_type": "display_data"
    }
   ],
   "source": [
    "goals = [simulate_goals(n, p) for i in range(1001)]\n",
    "np.mean(goals)"
   ]
  },
  {
   "cell_type": "markdown",
   "id": "bba8f3af",
   "metadata": {},
   "source": [
    "And we can compute the `Pmf` of the number of goals.\n",
    "\n",
    "We could use the binomial distribution to model these results, but when `n` is large and `p` is small, the results are also well-modeled by a Poisson distribution, which has just one parameter, denoted with the Greek letter λ, which is pronounced \"lambda\" and represented in code with the variable `lam` (because `lambda` is a Python keyword).\n",
    "`lam` represents the rate of goal-scoring, which is 6 goals per game.\n",
    "\n",
    "The PMF of the Poisson distribution is easy to compute -- given `lam`, we can use the following function to compute the probability of seeing `k` goals in a game."
   ]
  },
  {
   "cell_type": "code",
   "execution_count": 139,
   "id": "f02db715",
   "metadata": {},
   "outputs": [
    {
     "data": {
      "application/javascript": [
       "\n",
       "        setTimeout(function() {\n",
       "            var nbb_cell_id = 139;\n",
       "            var nbb_formatted_code = \"from scipy.special import factorial\\n\\n\\ndef poisson_pmf(k, lam):\\n    \\\"\\\"\\\"Compute the Poisson PMF.\\n\\n    k (int or array-like): The number of occurrences\\n    lam (float): The rate parameter (\\u03bb) of the Poisson distribution\\n\\n    returns: float or ndarray\\n    \\\"\\\"\\\"\\n    return (lam**k) * np.exp(-lam) / factorial(k)\";\n",
       "            var nbb_cells = Jupyter.notebook.get_cells();\n",
       "            for (var i = 0; i < nbb_cells.length; ++i) {\n",
       "                if (nbb_cells[i].input_prompt_number == nbb_cell_id) {\n",
       "                    nbb_cells[i].set_text(nbb_formatted_code);\n",
       "                    break;\n",
       "                }\n",
       "            }\n",
       "        }, 500);\n",
       "        "
      ],
      "text/plain": [
       "<IPython.core.display.Javascript object>"
      ]
     },
     "metadata": {},
     "output_type": "display_data"
    }
   ],
   "source": [
    "from scipy.special import factorial\n",
    "\n",
    "\n",
    "def poisson_pmf(k, lam):\n",
    "    \"\"\"Compute the Poisson PMF.\n",
    "\n",
    "    k (int or array-like): The number of occurrences\n",
    "    lam (float): The rate parameter (λ) of the Poisson distribution\n",
    "\n",
    "    returns: float or ndarray\n",
    "    \"\"\"\n",
    "    return (lam**k) * np.exp(-lam) / factorial(k)"
   ]
  },
  {
   "cell_type": "markdown",
   "id": "4af07cfc",
   "metadata": {},
   "source": [
    "If we call this function with a range of `k` values, we can compute the distribution of outcomes."
   ]
  },
  {
   "cell_type": "code",
   "execution_count": 140,
   "id": "f8ba8513",
   "metadata": {},
   "outputs": [
    {
     "data": {
      "text/plain": [
       "0.999994819831063"
      ]
     },
     "execution_count": 140,
     "metadata": {},
     "output_type": "execute_result"
    },
    {
     "data": {
      "application/javascript": [
       "\n",
       "        setTimeout(function() {\n",
       "            var nbb_cell_id = 140;\n",
       "            var nbb_formatted_code = \"lam = 6\\nks = np.arange(20)\\nps = poisson_pmf(ks, lam)\\npmf_poisson = Pmf(ps, ks, name=\\\"Poisson model\\\")\\npmf_poisson.sum()\";\n",
       "            var nbb_cells = Jupyter.notebook.get_cells();\n",
       "            for (var i = 0; i < nbb_cells.length; ++i) {\n",
       "                if (nbb_cells[i].input_prompt_number == nbb_cell_id) {\n",
       "                    nbb_cells[i].set_text(nbb_formatted_code);\n",
       "                    break;\n",
       "                }\n",
       "            }\n",
       "        }, 500);\n",
       "        "
      ],
      "text/plain": [
       "<IPython.core.display.Javascript object>"
      ]
     },
     "metadata": {},
     "output_type": "display_data"
    }
   ],
   "source": [
    "lam = 6\n",
    "ks = np.arange(20)\n",
    "ps = poisson_pmf(ks, lam)\n",
    "pmf_poisson = Pmf(ps, ks, name=\"Poisson model\")\n",
    "pmf_poisson.sum()"
   ]
  },
  {
   "cell_type": "markdown",
   "id": "d740db17",
   "metadata": {},
   "source": [
    "And confirm that the mean of the distribution is close to 6."
   ]
  },
  {
   "cell_type": "code",
   "execution_count": 141,
   "id": "2b22d566",
   "metadata": {},
   "outputs": [
    {
     "data": {
      "text/plain": [
       "5.999925498375129"
      ]
     },
     "execution_count": 141,
     "metadata": {},
     "output_type": "execute_result"
    },
    {
     "data": {
      "application/javascript": [
       "\n",
       "        setTimeout(function() {\n",
       "            var nbb_cell_id = 141;\n",
       "            var nbb_formatted_code = \"pmf_poisson.normalize()\\npmf_poisson.mean()\";\n",
       "            var nbb_cells = Jupyter.notebook.get_cells();\n",
       "            for (var i = 0; i < nbb_cells.length; ++i) {\n",
       "                if (nbb_cells[i].input_prompt_number == nbb_cell_id) {\n",
       "                    nbb_cells[i].set_text(nbb_formatted_code);\n",
       "                    break;\n",
       "                }\n",
       "            }\n",
       "        }, 500);\n",
       "        "
      ],
      "text/plain": [
       "<IPython.core.display.Javascript object>"
      ]
     },
     "metadata": {},
     "output_type": "display_data"
    }
   ],
   "source": [
    "pmf_poisson.normalize()\n",
    "pmf_poisson.mean()"
   ]
  },
  {
   "cell_type": "markdown",
   "id": "3a4c0728",
   "metadata": {},
   "source": [
    "The following figure compares the results from the simulation to the Poisson distribution with the same mean."
   ]
  },
  {
   "cell_type": "code",
   "execution_count": 142,
   "id": "8231e5fd",
   "metadata": {},
   "outputs": [
    {
     "data": {
      "image/png": "[encoded data removed]",
      "text/plain": [
       "<Figure size 450x262.5 with 1 Axes>"
      ]
     },
     "metadata": {},
     "output_type": "display_data"
    },
    {
     "data": {
      "application/javascript": [
       "\n",
       "        setTimeout(function() {\n",
       "            var nbb_cell_id = 142;\n",
       "            var nbb_formatted_code = \"pmf_sim = Pmf.from_seq(goals, name=\\\"simulation\\\")\\n\\ntwo_bar_plots(pmf_sim, pmf_poisson)\\ndecorate(xlabel=\\\"Goals\\\", ylabel=\\\"PMF\\\")\";\n",
       "            var nbb_cells = Jupyter.notebook.get_cells();\n",
       "            for (var i = 0; i < nbb_cells.length; ++i) {\n",
       "                if (nbb_cells[i].input_prompt_number == nbb_cell_id) {\n",
       "                    nbb_cells[i].set_text(nbb_formatted_code);\n",
       "                    break;\n",
       "                }\n",
       "            }\n",
       "        }, 500);\n",
       "        "
      ],
      "text/plain": [
       "<IPython.core.display.Javascript object>"
      ]
     },
     "metadata": {},
     "output_type": "display_data"
    }
   ],
   "source": [
    "pmf_sim = Pmf.from_seq(goals, name=\"simulation\")\n",
    "\n",
    "two_bar_plots(pmf_sim, pmf_poisson)\n",
    "decorate(xlabel=\"Goals\", ylabel=\"PMF\")"
   ]
  },
  {
   "cell_type": "markdown",
   "id": "2958fdf4",
   "metadata": {},
   "source": [
    "The distributions are similar except for small differences due to random variation.\n",
    "That should not be surprising, because the simulation and the Poisson model are based on the same assumption, notably that the probability of scoring a goal is the same during any second of the game.\n",
    "So the real test is to see how well the model fits real data.\n",
    "\n",
    "From HockeyReference, I downloaded results of every game of the National Hockey League (NHL) 2023-2024 regular season (not including the playoffs).\n",
    "I extracted information about goals scored during 60 minutes of regulation play, not including overtime or tie-breaking shootouts.\n",
    "The results are in an HDF file with one key for each game, and a list of times, in seconds since the beginning of the game, when a goal was scored."
   ]
  },
  {
   "cell_type": "markdown",
   "id": "eda870bc",
   "metadata": {},
   "source": [
    "Downloaded from <https://www.hockey-reference.com/leagues/NHL_2024_games.html> on July 16, 2024."
   ]
  },
  {
   "cell_type": "code",
   "execution_count": 117,
   "id": "184ee75f",
   "metadata": {},
   "outputs": [
    {
     "data": {
      "application/javascript": [
       "\n",
       "        setTimeout(function() {\n",
       "            var nbb_cell_id = 117;\n",
       "            var nbb_formatted_code = \"download(\\\"https://github.com/AllenDowney/ThinkStats/raw/v3/data/NHL_2024_games.html\\\")\";\n",
       "            var nbb_cells = Jupyter.notebook.get_cells();\n",
       "            for (var i = 0; i < nbb_cells.length; ++i) {\n",
       "                if (nbb_cells[i].input_prompt_number == nbb_cell_id) {\n",
       "                    nbb_cells[i].set_text(nbb_formatted_code);\n",
       "                    break;\n",
       "                }\n",
       "            }\n",
       "        }, 500);\n",
       "        "
      ],
      "text/plain": [
       "<IPython.core.display.Javascript object>"
      ]
     },
     "metadata": {},
     "output_type": "display_data"
    }
   ],
   "source": [
    "download(\"https://github.com/AllenDowney/ThinkStats/raw/v3/data/nhl_2023_2024.hdf\")"
   ]
  },
  {
   "cell_type": "markdown",
   "id": "95e2f638",
   "metadata": {},
   "source": [
    "Here's how we read the keys from the file."
   ]
  },
  {
   "cell_type": "code",
   "execution_count": 123,
   "id": "4b2c9ae5",
   "metadata": {},
   "outputs": [
    {
     "data": {
      "text/plain": [
       "(1312, '/202310100PIT')"
      ]
     },
     "execution_count": 123,
     "metadata": {},
     "output_type": "execute_result"
    },
    {
     "data": {
      "application/javascript": [
       "\n",
       "        setTimeout(function() {\n",
       "            var nbb_cell_id = 123;\n",
       "            var nbb_formatted_code = \"filename = \\\"nhl_2023_2024.hdf\\\"\\n\\nwith pd.HDFStore(filename, \\\"r\\\") as store:\\n    keys = store.keys()\\n\\nlen(keys), keys[0]\";\n",
       "            var nbb_cells = Jupyter.notebook.get_cells();\n",
       "            for (var i = 0; i < nbb_cells.length; ++i) {\n",
       "                if (nbb_cells[i].input_prompt_number == nbb_cell_id) {\n",
       "                    nbb_cells[i].set_text(nbb_formatted_code);\n",
       "                    break;\n",
       "                }\n",
       "            }\n",
       "        }, 500);\n",
       "        "
      ],
      "text/plain": [
       "<IPython.core.display.Javascript object>"
      ]
     },
     "metadata": {},
     "output_type": "display_data"
    }
   ],
   "source": [
    "filename = \"nhl_2023_2024.hdf\"\n",
    "\n",
    "with pd.HDFStore(filename, \"r\") as store:\n",
    "    keys = store.keys()\n",
    "\n",
    "len(keys), keys[0]"
   ]
  },
  {
   "cell_type": "markdown",
   "id": "559cbeb6",
   "metadata": {},
   "source": [
    "There were 1312 games during the regular season.\n",
    "Each key represents the date of the game and a three-letter abbreviation for the home team.\n",
    "We can use `read_hdf` to look up a key and get the list of times when a goal was scored.\n"
   ]
  },
  {
   "cell_type": "code",
   "execution_count": 126,
   "id": "b39108c7",
   "metadata": {},
   "outputs": [
    {
     "data": {
      "text/plain": [
       "0     424\n",
       "1    1916\n",
       "2    2137\n",
       "3    3005\n",
       "4    3329\n",
       "5    3513\n",
       "dtype: int64"
      ]
     },
     "execution_count": 126,
     "metadata": {},
     "output_type": "execute_result"
    },
    {
     "data": {
      "application/javascript": [
       "\n",
       "        setTimeout(function() {\n",
       "            var nbb_cell_id = 126;\n",
       "            var nbb_formatted_code = \"times = pd.read_hdf(filename, key=keys[0])\\ntimes\";\n",
       "            var nbb_cells = Jupyter.notebook.get_cells();\n",
       "            for (var i = 0; i < nbb_cells.length; ++i) {\n",
       "                if (nbb_cells[i].input_prompt_number == nbb_cell_id) {\n",
       "                    nbb_cells[i].set_text(nbb_formatted_code);\n",
       "                    break;\n",
       "                }\n",
       "            }\n",
       "        }, 500);\n",
       "        "
      ],
      "text/plain": [
       "<IPython.core.display.Javascript object>"
      ]
     },
     "metadata": {},
     "output_type": "display_data"
    }
   ],
   "source": [
    "times = pd.read_hdf(filename, key=keys[0])\n",
    "times"
   ]
  },
  {
   "cell_type": "markdown",
   "id": "fd132503",
   "metadata": {},
   "source": [
    "In the first game of the season, six goals were scored, the first after 424 second of play, the last at after 3513 seconds, with only 87 second left in the game."
   ]
  },
  {
   "cell_type": "code",
   "execution_count": 128,
   "id": "32a54906",
   "metadata": {},
   "outputs": [
    {
     "data": {
      "text/plain": [
       "87"
      ]
     },
     "execution_count": 128,
     "metadata": {},
     "output_type": "execute_result"
    },
    {
     "data": {
      "application/javascript": [
       "\n",
       "        setTimeout(function() {\n",
       "            var nbb_cell_id = 128;\n",
       "            var nbb_formatted_code = \"3600 - times[5]\";\n",
       "            var nbb_cells = Jupyter.notebook.get_cells();\n",
       "            for (var i = 0; i < nbb_cells.length; ++i) {\n",
       "                if (nbb_cells[i].input_prompt_number == nbb_cell_id) {\n",
       "                    nbb_cells[i].set_text(nbb_formatted_code);\n",
       "                    break;\n",
       "                }\n",
       "            }\n",
       "        }, 500);\n",
       "        "
      ],
      "text/plain": [
       "<IPython.core.display.Javascript object>"
      ]
     },
     "metadata": {},
     "output_type": "display_data"
    }
   ],
   "source": [
    "3600 - times[5]"
   ]
  },
  {
   "cell_type": "markdown",
   "id": "99919d66",
   "metadata": {},
   "source": [
    "The following loop reads the results for all games, counts the number of goals, and stores the result in a list."
   ]
  },
  {
   "cell_type": "code",
   "execution_count": 170,
   "id": "ffcf3dfd",
   "metadata": {},
   "outputs": [
    {
     "data": {
      "application/javascript": [
       "\n",
       "        setTimeout(function() {\n",
       "            var nbb_cell_id = 170;\n",
       "            var nbb_formatted_code = \"goals = []\\n\\nfor key in keys:\\n    times = pd.read_hdf(filename, key=key)\\n    n = len(times)\\n    goals.append(n)\";\n",
       "            var nbb_cells = Jupyter.notebook.get_cells();\n",
       "            for (var i = 0; i < nbb_cells.length; ++i) {\n",
       "                if (nbb_cells[i].input_prompt_number == nbb_cell_id) {\n",
       "                    nbb_cells[i].set_text(nbb_formatted_code);\n",
       "                    break;\n",
       "                }\n",
       "            }\n",
       "        }, 500);\n",
       "        "
      ],
      "text/plain": [
       "<IPython.core.display.Javascript object>"
      ]
     },
     "metadata": {},
     "output_type": "display_data"
    }
   ],
   "source": [
    "goals = []\n",
    "\n",
    "for key in keys:\n",
    "    times = pd.read_hdf(filename, key=key)\n",
    "    n = len(times)\n",
    "    goals.append(n)"
   ]
  },
  {
   "cell_type": "markdown",
   "id": "1d84dd07",
   "metadata": {},
   "source": [
    "The average number of goals per game is just over 6."
   ]
  },
  {
   "cell_type": "code",
   "execution_count": 171,
   "id": "4f6ab6bc",
   "metadata": {},
   "outputs": [
    {
     "data": {
      "text/plain": [
       "6.0182926829268295"
      ]
     },
     "execution_count": 171,
     "metadata": {},
     "output_type": "execute_result"
    },
    {
     "data": {
      "application/javascript": [
       "\n",
       "        setTimeout(function() {\n",
       "            var nbb_cell_id = 171;\n",
       "            var nbb_formatted_code = \"lam = np.mean(goals)\\nlam\";\n",
       "            var nbb_cells = Jupyter.notebook.get_cells();\n",
       "            for (var i = 0; i < nbb_cells.length; ++i) {\n",
       "                if (nbb_cells[i].input_prompt_number == nbb_cell_id) {\n",
       "                    nbb_cells[i].set_text(nbb_formatted_code);\n",
       "                    break;\n",
       "                }\n",
       "            }\n",
       "        }, 500);\n",
       "        "
      ],
      "text/plain": [
       "<IPython.core.display.Javascript object>"
      ]
     },
     "metadata": {},
     "output_type": "display_data"
    }
   ],
   "source": [
    "lam = np.mean(goals)\n",
    "lam"
   ]
  },
  {
   "cell_type": "markdown",
   "id": "b61ec268",
   "metadata": {},
   "source": [
    "We can use `poisson_pmf` to make a `Pmf` that represents a Poisson distribution with the same mean as the data."
   ]
  },
  {
   "cell_type": "code",
   "execution_count": 172,
   "id": "b5bec1ba",
   "metadata": {},
   "outputs": [
    {
     "data": {
      "application/javascript": [
       "\n",
       "        setTimeout(function() {\n",
       "            var nbb_cell_id = 172;\n",
       "            var nbb_formatted_code = \"ks = np.arange(25)\\nps = poisson_pmf(ks, lam)\\npmf_poisson = Pmf(ps, ks, name=\\\"Poisson model\\\")\";\n",
       "            var nbb_cells = Jupyter.notebook.get_cells();\n",
       "            for (var i = 0; i < nbb_cells.length; ++i) {\n",
       "                if (nbb_cells[i].input_prompt_number == nbb_cell_id) {\n",
       "                    nbb_cells[i].set_text(nbb_formatted_code);\n",
       "                    break;\n",
       "                }\n",
       "            }\n",
       "        }, 500);\n",
       "        "
      ],
      "text/plain": [
       "<IPython.core.display.Javascript object>"
      ]
     },
     "metadata": {},
     "output_type": "display_data"
    }
   ],
   "source": [
    "ks = np.arange(25)\n",
    "ps = poisson_pmf(ks, lam)\n",
    "pmf_poisson = Pmf(ps, ks, name=\"Poisson model\")"
   ]
  },
  {
   "cell_type": "code",
   "execution_count": 173,
   "id": "d436cfd9",
   "metadata": {},
   "outputs": [
    {
     "data": {
      "text/plain": [
       "0.9999999937565296"
      ]
     },
     "execution_count": 173,
     "metadata": {},
     "output_type": "execute_result"
    },
    {
     "data": {
      "application/javascript": [
       "\n",
       "        setTimeout(function() {\n",
       "            var nbb_cell_id = 173;\n",
       "            var nbb_formatted_code = \"pmf_poisson.sum()\";\n",
       "            var nbb_cells = Jupyter.notebook.get_cells();\n",
       "            for (var i = 0; i < nbb_cells.length; ++i) {\n",
       "                if (nbb_cells[i].input_prompt_number == nbb_cell_id) {\n",
       "                    nbb_cells[i].set_text(nbb_formatted_code);\n",
       "                    break;\n",
       "                }\n",
       "            }\n",
       "        }, 500);\n",
       "        "
      ],
      "text/plain": [
       "<IPython.core.display.Javascript object>"
      ]
     },
     "metadata": {},
     "output_type": "display_data"
    }
   ],
   "source": [
    "pmf_poisson.sum()"
   ]
  },
  {
   "cell_type": "markdown",
   "id": "bb748573",
   "metadata": {},
   "source": [
    "And here's what it looks like compared to the PMF of the data."
   ]
  },
  {
   "cell_type": "code",
   "execution_count": 174,
   "id": "e97704a1",
   "metadata": {},
   "outputs": [
    {
     "data": {
      "image/png": "[encoded data removed]",
      "text/plain": [
       "<Figure size 450x262.5 with 1 Axes>"
      ]
     },
     "metadata": {},
     "output_type": "display_data"
    },
    {
     "data": {
      "application/javascript": [
       "\n",
       "        setTimeout(function() {\n",
       "            var nbb_cell_id = 174;\n",
       "            var nbb_formatted_code = \"pmf_goals = Pmf.from_seq(goals, name=\\\"home goals\\\")\\n\\ntwo_bar_plots(pmf_goals, pmf_poisson)\\ndecorate(xlabel=\\\"Goals\\\", ylabel=\\\"PMF\\\")\";\n",
       "            var nbb_cells = Jupyter.notebook.get_cells();\n",
       "            for (var i = 0; i < nbb_cells.length; ++i) {\n",
       "                if (nbb_cells[i].input_prompt_number == nbb_cell_id) {\n",
       "                    nbb_cells[i].set_text(nbb_formatted_code);\n",
       "                    break;\n",
       "                }\n",
       "            }\n",
       "        }, 500);\n",
       "        "
      ],
      "text/plain": [
       "<IPython.core.display.Javascript object>"
      ]
     },
     "metadata": {},
     "output_type": "display_data"
    }
   ],
   "source": [
    "pmf_goals = Pmf.from_seq(goals, name=\"home goals\")\n",
    "\n",
    "two_bar_plots(pmf_goals, pmf_poisson)\n",
    "decorate(xlabel=\"Goals\", ylabel=\"PMF\")"
   ]
  },
  {
   "cell_type": "markdown",
   "id": "6fac89a4",
   "metadata": {},
   "source": [
    "The data fit the Poisson model remarkably well."
   ]
  },
  {
   "cell_type": "markdown",
   "id": "c50c6fc5",
   "metadata": {},
   "source": [
    "## The Exponential Distribution\n",
    "\n",
    "In the previous section, we simulated a simple model of a hockey game where a goal has the same probability of being scored during any second of the game.\n",
    "Under the same model, it turns out, the time until the first goal follows an **exponential distribution**.\n",
    "\n",
    "As an example, let's assume again that the average number of goals per game is 6 and compute the probabilyt of a goal during any particular second."
   ]
  },
  {
   "cell_type": "code",
   "execution_count": 160,
   "id": "a3e05e31",
   "metadata": {},
   "outputs": [
    {
     "data": {
      "text/plain": [
       "0.0016666666666666668"
      ]
     },
     "execution_count": 160,
     "metadata": {},
     "output_type": "execute_result"
    },
    {
     "data": {
      "application/javascript": [
       "\n",
       "        setTimeout(function() {\n",
       "            var nbb_cell_id = 160;\n",
       "            var nbb_formatted_code = \"n = 3600\\nm = 6\\np = m / 3600\\np\";\n",
       "            var nbb_cells = Jupyter.notebook.get_cells();\n",
       "            for (var i = 0; i < nbb_cells.length; ++i) {\n",
       "                if (nbb_cells[i].input_prompt_number == nbb_cell_id) {\n",
       "                    nbb_cells[i].set_text(nbb_formatted_code);\n",
       "                    break;\n",
       "                }\n",
       "            }\n",
       "        }, 500);\n",
       "        "
      ],
      "text/plain": [
       "<IPython.core.display.Javascript object>"
      ]
     },
     "metadata": {},
     "output_type": "display_data"
    }
   ],
   "source": [
    "n = 3600\n",
    "m = 6\n",
    "p = m / 3600\n",
    "p"
   ]
  },
  {
   "cell_type": "markdown",
   "id": "a221b23a",
   "metadata": {},
   "source": [
    "The following function simulates `n` seconds and uses `argmax` to find and return the time of the first goal."
   ]
  },
  {
   "cell_type": "code",
   "execution_count": 161,
   "id": "8c1052b2",
   "metadata": {},
   "outputs": [
    {
     "data": {
      "application/javascript": [
       "\n",
       "        setTimeout(function() {\n",
       "            var nbb_cell_id = 161;\n",
       "            var nbb_formatted_code = \"def simulate_first_goal(n, p):\\n    return flip(n, p).argmax()\";\n",
       "            var nbb_cells = Jupyter.notebook.get_cells();\n",
       "            for (var i = 0; i < nbb_cells.length; ++i) {\n",
       "                if (nbb_cells[i].input_prompt_number == nbb_cell_id) {\n",
       "                    nbb_cells[i].set_text(nbb_formatted_code);\n",
       "                    break;\n",
       "                }\n",
       "            }\n",
       "        }, 500);\n",
       "        "
      ],
      "text/plain": [
       "<IPython.core.display.Javascript object>"
      ]
     },
     "metadata": {},
     "output_type": "display_data"
    }
   ],
   "source": [
    "def simulate_first_goal(n, p):\n",
    "    return flip(n, p).argmax()"
   ]
  },
  {
   "cell_type": "markdown",
   "id": "56185216",
   "metadata": {},
   "source": [
    "This works because the result from `flip` is a sequence of 1s and 0s, so the maximum is almost always 1.\n",
    "If there is at least one goal in the sequence, `argmax` returns the index of the first 1.\n",
    "If there are no goals, it returns 0, but that happens seldom enough that we'll ignore it.\n",
    "\n",
    "We'll use `simulate_first_goal` to simulate 1001 games and make a list of the times until the first goal."
   ]
  },
  {
   "cell_type": "code",
   "execution_count": 162,
   "id": "380ff529",
   "metadata": {},
   "outputs": [
    {
     "data": {
      "text/plain": [
       "580.3206793206793"
      ]
     },
     "execution_count": 162,
     "metadata": {},
     "output_type": "execute_result"
    },
    {
     "data": {
      "application/javascript": [
       "\n",
       "        setTimeout(function() {\n",
       "            var nbb_cell_id = 162;\n",
       "            var nbb_formatted_code = \"first_goal_times = [simulate_first_goal(n, p) for i in range(1001)]\\nmean = np.mean(first_goal_times)\\nmean\";\n",
       "            var nbb_cells = Jupyter.notebook.get_cells();\n",
       "            for (var i = 0; i < nbb_cells.length; ++i) {\n",
       "                if (nbb_cells[i].input_prompt_number == nbb_cell_id) {\n",
       "                    nbb_cells[i].set_text(nbb_formatted_code);\n",
       "                    break;\n",
       "                }\n",
       "            }\n",
       "        }, 500);\n",
       "        "
      ],
      "text/plain": [
       "<IPython.core.display.Javascript object>"
      ]
     },
     "metadata": {},
     "output_type": "display_data"
    }
   ],
   "source": [
    "first_goal_times = [simulate_first_goal(n, p) for i in range(1001)]\n",
    "mean = np.mean(first_goal_times)\n",
    "mean"
   ]
  },
  {
   "cell_type": "markdown",
   "id": "b0ee4dd3",
   "metadata": {},
   "source": [
    "The average time until the first goal is about 600 seconds, or 10 minutes.\n",
    "And that makes sense -- if we expect 6 goals per game, we expect one goal every 10 minutes, on average."
   ]
  },
  {
   "cell_type": "markdown",
   "id": "3a3afd97",
   "metadata": {},
   "source": [
    "When `n` is large and `p` is small, we can show mathematically that the expected time until the first goal follows an exponential distribution.\n",
    "And the CDF of the exponential distribution is easy to compute."
   ]
  },
  {
   "cell_type": "code",
   "execution_count": 163,
   "id": "1a306c50",
   "metadata": {},
   "outputs": [
    {
     "data": {
      "application/javascript": [
       "\n",
       "        setTimeout(function() {\n",
       "            var nbb_cell_id = 163;\n",
       "            var nbb_formatted_code = \"def exponential_cdf(t, lam):\\n    return 1 - np.exp(-lam * t)\";\n",
       "            var nbb_cells = Jupyter.notebook.get_cells();\n",
       "            for (var i = 0; i < nbb_cells.length; ++i) {\n",
       "                if (nbb_cells[i].input_prompt_number == nbb_cell_id) {\n",
       "                    nbb_cells[i].set_text(nbb_formatted_code);\n",
       "                    break;\n",
       "                }\n",
       "            }\n",
       "        }, 500);\n",
       "        "
      ],
      "text/plain": [
       "<IPython.core.display.Javascript object>"
      ]
     },
     "metadata": {},
     "output_type": "display_data"
    }
   ],
   "source": [
    "def exponential_cdf(t, lam):\n",
    "    return 1 - np.exp(-lam * t)"
   ]
  },
  {
   "cell_type": "markdown",
   "id": "4fdccc6c",
   "metadata": {},
   "source": [
    "The parameter, `lam`, is the average number of events per unit of time -- in this example it is goals per second.\n",
    "We can use the mean of the simulated results to compute lam."
   ]
  },
  {
   "cell_type": "code",
   "execution_count": 164,
   "id": "2dfbaf1d",
   "metadata": {},
   "outputs": [
    {
     "data": {
      "text/plain": [
       "0.001723185189903271"
      ]
     },
     "execution_count": 164,
     "metadata": {},
     "output_type": "execute_result"
    },
    {
     "data": {
      "application/javascript": [
       "\n",
       "        setTimeout(function() {\n",
       "            var nbb_cell_id = 164;\n",
       "            var nbb_formatted_code = \"lam = 1 / mean\\nlam\";\n",
       "            var nbb_cells = Jupyter.notebook.get_cells();\n",
       "            for (var i = 0; i < nbb_cells.length; ++i) {\n",
       "                if (nbb_cells[i].input_prompt_number == nbb_cell_id) {\n",
       "                    nbb_cells[i].set_text(nbb_formatted_code);\n",
       "                    break;\n",
       "                }\n",
       "            }\n",
       "        }, 500);\n",
       "        "
      ],
      "text/plain": [
       "<IPython.core.display.Javascript object>"
      ]
     },
     "metadata": {},
     "output_type": "display_data"
    }
   ],
   "source": [
    "lam = 1 / mean\n",
    "lam"
   ]
  },
  {
   "cell_type": "markdown",
   "id": "5e5cfba3",
   "metadata": {},
   "source": [
    "If we call this function with a range of time values, `ts`, we can approximate the distribution of first goal times."
   ]
  },
  {
   "cell_type": "code",
   "execution_count": 165,
   "id": "07f133ab",
   "metadata": {},
   "outputs": [
    {
     "data": {
      "application/javascript": [
       "\n",
       "        setTimeout(function() {\n",
       "            var nbb_cell_id = 165;\n",
       "            var nbb_formatted_code = \"low, high = 0, np.max(first_goal_times)\\nts = np.linspace(low, high, 101)\\nps = exponential_cdf(ts, lam)\\ncdf_expo = Cdf(ps, ts, name=\\\"exponential model\\\")\";\n",
       "            var nbb_cells = Jupyter.notebook.get_cells();\n",
       "            for (var i = 0; i < nbb_cells.length; ++i) {\n",
       "                if (nbb_cells[i].input_prompt_number == nbb_cell_id) {\n",
       "                    nbb_cells[i].set_text(nbb_formatted_code);\n",
       "                    break;\n",
       "                }\n",
       "            }\n",
       "        }, 500);\n",
       "        "
      ],
      "text/plain": [
       "<IPython.core.display.Javascript object>"
      ]
     },
     "metadata": {},
     "output_type": "display_data"
    }
   ],
   "source": [
    "ts = np.linspace(0, 3600, 201)\n",
    "ps = exponential_cdf(ts, lam)\n",
    "cdf_expo = Cdf(ps, ts, name=\"exponential model\")"
   ]
  },
  {
   "cell_type": "markdown",
   "id": "084f957c",
   "metadata": {},
   "source": [
    "The following figure compares the simulation results to the exponential distribution we just computed.\n",
    "Because there are many unique time values, we'll use CDFs to compare the distributions, rather than PMFs."
   ]
  },
  {
   "cell_type": "code",
   "execution_count": 169,
   "id": "09108861",
   "metadata": {},
   "outputs": [
    {
     "data": {
      "image/png": "[encoded data removed]",
      "text/plain": [
       "<Figure size 450x262.5 with 1 Axes>"
      ]
     },
     "metadata": {},
     "output_type": "display_data"
    },
    {
     "data": {
      "application/javascript": [
       "\n",
       "        setTimeout(function() {\n",
       "            var nbb_cell_id = 169;\n",
       "            var nbb_formatted_code = \"cdf_sim = Cdf.from_seq(first_goal_times, name=\\\"simulation\\\")\\n\\ncdf_expo.plot(alpha=0.6, color=\\\"gray\\\")\\ncdf_sim.plot(alpha=0.6)\\n\\ndecorate(xlabel=\\\"Time of first goal (seconds)\\\", ylabel=\\\"CDF\\\")\";\n",
       "            var nbb_cells = Jupyter.notebook.get_cells();\n",
       "            for (var i = 0; i < nbb_cells.length; ++i) {\n",
       "                if (nbb_cells[i].input_prompt_number == nbb_cell_id) {\n",
       "                    nbb_cells[i].set_text(nbb_formatted_code);\n",
       "                    break;\n",
       "                }\n",
       "            }\n",
       "        }, 500);\n",
       "        "
      ],
      "text/plain": [
       "<IPython.core.display.Javascript object>"
      ]
     },
     "metadata": {},
     "output_type": "display_data"
    }
   ],
   "source": [
    "cdf_sim = Cdf.from_seq(first_goal_times, name=\"simulation\")\n",
    "\n",
    "cdf_expo.plot(alpha=0.6, color=\"gray\")\n",
    "cdf_sim.plot(alpha=0.6)\n",
    "\n",
    "decorate(xlabel=\"Time of first goal (seconds)\", ylabel=\"CDF\")"
   ]
  },
  {
   "cell_type": "markdown",
   "id": "15579092",
   "metadata": {},
   "source": [
    "The exponential model fits the results from the simulation very well.\n",
    "But the real test is to see whether it does as well with real data.\n",
    "\n",
    "The following loop reads the results for all games, gets the time of the first goal, and stores the result in a list.\n",
    "If no goals were scored, it adds `nan` to the list."
   ]
  },
  {
   "cell_type": "code",
   "execution_count": 175,
   "id": "ac770972",
   "metadata": {},
   "outputs": [
    {
     "data": {
      "application/javascript": [
       "\n",
       "        setTimeout(function() {\n",
       "            var nbb_cell_id = 175;\n",
       "            var nbb_formatted_code = \"filename = \\\"nhl_2023_2024.hdf\\\"\\n\\nwith pd.HDFStore(filename, \\\"r\\\") as store:\\n    keys = store.keys()\";\n",
       "            var nbb_cells = Jupyter.notebook.get_cells();\n",
       "            for (var i = 0; i < nbb_cells.length; ++i) {\n",
       "                if (nbb_cells[i].input_prompt_number == nbb_cell_id) {\n",
       "                    nbb_cells[i].set_text(nbb_formatted_code);\n",
       "                    break;\n",
       "                }\n",
       "            }\n",
       "        }, 500);\n",
       "        "
      ],
      "text/plain": [
       "<IPython.core.display.Javascript object>"
      ]
     },
     "metadata": {},
     "output_type": "display_data"
    }
   ],
   "source": [
    "filename = \"nhl_2023_2024.hdf\"\n",
    "\n",
    "with pd.HDFStore(filename, \"r\") as store:\n",
    "    keys = store.keys()"
   ]
  },
  {
   "cell_type": "code",
   "execution_count": 176,
   "id": "ae894db8",
   "metadata": {},
   "outputs": [
    {
     "data": {
      "application/javascript": [
       "\n",
       "        setTimeout(function() {\n",
       "            var nbb_cell_id = 176;\n",
       "            var nbb_formatted_code = \"firsts = []\\n\\nfor key in keys:\\n    times = pd.read_hdf(filename, key=key)\\n    if len(times) > 0:\\n        firsts.append(times[0])\\n    else:\\n        firsts.append(np.nan)\";\n",
       "            var nbb_cells = Jupyter.notebook.get_cells();\n",
       "            for (var i = 0; i < nbb_cells.length; ++i) {\n",
       "                if (nbb_cells[i].input_prompt_number == nbb_cell_id) {\n",
       "                    nbb_cells[i].set_text(nbb_formatted_code);\n",
       "                    break;\n",
       "                }\n",
       "            }\n",
       "        }, 500);\n",
       "        "
      ],
      "text/plain": [
       "<IPython.core.display.Javascript object>"
      ]
     },
     "metadata": {},
     "output_type": "display_data"
    }
   ],
   "source": [
    "firsts = []\n",
    "\n",
    "for key in keys:\n",
    "    times = pd.read_hdf(filename, key=key)\n",
    "    if len(times) > 0:\n",
    "        firsts.append(times[0])\n",
    "    else:\n",
    "        firsts.append(np.nan)"
   ]
  },
  {
   "cell_type": "markdown",
   "id": "dc068e1c",
   "metadata": {},
   "source": [
    "To compute the goal-scoring rate, we can use `nanmean`, which computes the mean of the times, ignoring `nan` values."
   ]
  },
  {
   "cell_type": "code",
   "execution_count": 178,
   "id": "34e582dd",
   "metadata": {},
   "outputs": [
    {
     "data": {
      "text/plain": [
       "0.0015121567467720825"
      ]
     },
     "execution_count": 178,
     "metadata": {},
     "output_type": "execute_result"
    },
    {
     "data": {
      "application/javascript": [
       "\n",
       "        setTimeout(function() {\n",
       "            var nbb_cell_id = 178;\n",
       "            var nbb_formatted_code = \"lam = 1 / np.nanmean(firsts)\\nlam\";\n",
       "            var nbb_cells = Jupyter.notebook.get_cells();\n",
       "            for (var i = 0; i < nbb_cells.length; ++i) {\n",
       "                if (nbb_cells[i].input_prompt_number == nbb_cell_id) {\n",
       "                    nbb_cells[i].set_text(nbb_formatted_code);\n",
       "                    break;\n",
       "                }\n",
       "            }\n",
       "        }, 500);\n",
       "        "
      ],
      "text/plain": [
       "<IPython.core.display.Javascript object>"
      ]
     },
     "metadata": {},
     "output_type": "display_data"
    }
   ],
   "source": [
    "lam = 1 / np.nanmean(firsts)\n",
    "lam"
   ]
  },
  {
   "cell_type": "markdown",
   "id": "3424954f",
   "metadata": {},
   "source": [
    "Now we can compute the CDF of an exponential distribution with the same goal-scoring rate as the data."
   ]
  },
  {
   "cell_type": "code",
   "execution_count": 184,
   "id": "b735052d",
   "metadata": {},
   "outputs": [
    {
     "data": {
      "application/javascript": [
       "\n",
       "        setTimeout(function() {\n",
       "            var nbb_cell_id = 184;\n",
       "            var nbb_formatted_code = \"ts = np.linspace(0, 3600, 201)\\nps = exponential_cdf(ts, lam)\\ncdf_expo = Cdf(ps, ts, name=\\\"exponential model\\\")\";\n",
       "            var nbb_cells = Jupyter.notebook.get_cells();\n",
       "            for (var i = 0; i < nbb_cells.length; ++i) {\n",
       "                if (nbb_cells[i].input_prompt_number == nbb_cell_id) {\n",
       "                    nbb_cells[i].set_text(nbb_formatted_code);\n",
       "                    break;\n",
       "                }\n",
       "            }\n",
       "        }, 500);\n",
       "        "
      ],
      "text/plain": [
       "<IPython.core.display.Javascript object>"
      ]
     },
     "metadata": {},
     "output_type": "display_data"
    }
   ],
   "source": [
    "ts = np.linspace(0, 3600, 201)\n",
    "ps = exponential_cdf(ts, lam)\n",
    "cdf_expo = Cdf(ps, ts, name=\"exponential model\")"
   ]
  },
  {
   "cell_type": "markdown",
   "id": "fec90844",
   "metadata": {},
   "source": [
    "To compute the CDF of the data, we use the `dropna=False` argument, which includes `nan` values at the end."
   ]
  },
  {
   "cell_type": "code",
   "execution_count": 185,
   "id": "c8211d5a",
   "metadata": {},
   "outputs": [
    {
     "data": {
      "text/html": [
       "<div>\n",
       "<style scoped>\n",
       "    .dataframe tbody tr th:only-of-type {\n",
       "        vertical-align: middle;\n",
       "    }\n",
       "\n",
       "    .dataframe tbody tr th {\n",
       "        vertical-align: top;\n",
       "    }\n",
       "\n",
       "    .dataframe thead th {\n",
       "        text-align: right;\n",
       "    }\n",
       "</style>\n",
       "<table border=\"1\" class=\"dataframe\">\n",
       "  <thead>\n",
       "    <tr style=\"text-align: right;\">\n",
       "      <th></th>\n",
       "      <th>probs</th>\n",
       "    </tr>\n",
       "  </thead>\n",
       "  <tbody>\n",
       "    <tr>\n",
       "      <th>3286.0</th>\n",
       "      <td>0.996951</td>\n",
       "    </tr>\n",
       "    <tr>\n",
       "      <th>3581.0</th>\n",
       "      <td>0.997713</td>\n",
       "    </tr>\n",
       "    <tr>\n",
       "      <th>NaN</th>\n",
       "      <td>1.000000</td>\n",
       "    </tr>\n",
       "  </tbody>\n",
       "</table>\n",
       "</div>"
      ],
      "text/plain": [
       "3286.0    0.996951\n",
       "3581.0    0.997713\n",
       "NaN       1.000000\n",
       "Name: data, dtype: float64"
      ]
     },
     "execution_count": 185,
     "metadata": {},
     "output_type": "execute_result"
    },
    {
     "data": {
      "application/javascript": [
       "\n",
       "        setTimeout(function() {\n",
       "            var nbb_cell_id = 185;\n",
       "            var nbb_formatted_code = \"cdf_firsts = Cdf.from_seq(firsts, name=\\\"data\\\", dropna=False)\\ncdf_firsts.tail()\";\n",
       "            var nbb_cells = Jupyter.notebook.get_cells();\n",
       "            for (var i = 0; i < nbb_cells.length; ++i) {\n",
       "                if (nbb_cells[i].input_prompt_number == nbb_cell_id) {\n",
       "                    nbb_cells[i].set_text(nbb_formatted_code);\n",
       "                    break;\n",
       "                }\n",
       "            }\n",
       "        }, 500);\n",
       "        "
      ],
      "text/plain": [
       "<IPython.core.display.Javascript object>"
      ]
     },
     "metadata": {},
     "output_type": "display_data"
    }
   ],
   "source": [
    "cdf_firsts = Cdf.from_seq(firsts, name=\"data\", dropna=False)\n",
    "cdf_firsts.tail()"
   ]
  },
  {
   "cell_type": "markdown",
   "id": "2ab13fa7",
   "metadata": {},
   "source": [
    "The following figure compares the exponential distribution to the distribution of the data."
   ]
  },
  {
   "cell_type": "code",
   "execution_count": 186,
   "id": "514f52fe",
   "metadata": {},
   "outputs": [
    {
     "data": {
      "image/png": "[encoded data removed]",
      "text/plain": [
       "<Figure size 450x262.5 with 1 Axes>"
      ]
     },
     "metadata": {},
     "output_type": "display_data"
    },
    {
     "data": {
      "application/javascript": [
       "\n",
       "        setTimeout(function() {\n",
       "            var nbb_cell_id = 186;\n",
       "            var nbb_formatted_code = \"cdf_expo.plot(alpha=0.6, color=\\\"gray\\\")\\ncdf_firsts.plot(alpha=0.6)\\n\\ndecorate(xlabel=\\\"Time of first goal (seconds)\\\", ylabel=\\\"CDF\\\")\";\n",
       "            var nbb_cells = Jupyter.notebook.get_cells();\n",
       "            for (var i = 0; i < nbb_cells.length; ++i) {\n",
       "                if (nbb_cells[i].input_prompt_number == nbb_cell_id) {\n",
       "                    nbb_cells[i].set_text(nbb_formatted_code);\n",
       "                    break;\n",
       "                }\n",
       "            }\n",
       "        }, 500);\n",
       "        "
      ],
      "text/plain": [
       "<IPython.core.display.Javascript object>"
      ]
     },
     "metadata": {},
     "output_type": "display_data"
    }
   ],
   "source": [
    "cdf_expo.plot(alpha=0.6, color=\"gray\")\n",
    "cdf_firsts.plot(alpha=0.6)\n",
    "\n",
    "decorate(xlabel=\"Time of first goal (seconds)\", ylabel=\"CDF\")"
   ]
  },
  {
   "cell_type": "markdown",
   "id": "dc25e009",
   "metadata": {},
   "source": [
    "The data deviate from the model in some places -- it looks like there are fewer goals in the first 1000 seconds than the model predicts.\n",
    "But still, the model fits the data well.\n",
    "\n",
    "If you ask a hockey fan whether a goal is equally likely during any second of a game, which is the underlying assumption of the Poisson model of goals and the exponential model of times, they would say no.\n",
    "And they would be right -- the real world violates assumptions like these in many ways.\n",
    "Despite these violations, theoretical distributions often fit real data remarkably well."
   ]
  },
  {
   "cell_type": "markdown",
   "id": "58afaa9f",
   "metadata": {},
   "source": [
    "## The Normal Distribution\n",
    "\n",
    "Suppose you grow pumpkins"
   ]
  },
  {
   "cell_type": "code",
   "execution_count": 226,
   "id": "3cbcb8fb",
   "metadata": {},
   "outputs": [
    {
     "data": {
      "application/javascript": [
       "\n",
       "        setTimeout(function() {\n",
       "            var nbb_cell_id = 226;\n",
       "            var nbb_formatted_code = \"def simulate_growth(n):\\n    choices = [1, 2, 3]\\n    gains = np.random.choice(choices, n)\\n    return gains.sum()\";\n",
       "            var nbb_cells = Jupyter.notebook.get_cells();\n",
       "            for (var i = 0; i < nbb_cells.length; ++i) {\n",
       "                if (nbb_cells[i].input_prompt_number == nbb_cell_id) {\n",
       "                    nbb_cells[i].set_text(nbb_formatted_code);\n",
       "                    break;\n",
       "                }\n",
       "            }\n",
       "        }, 500);\n",
       "        "
      ],
      "text/plain": [
       "<IPython.core.display.Javascript object>"
      ]
     },
     "metadata": {},
     "output_type": "display_data"
    }
   ],
   "source": [
    "def simulate_growth(n):\n",
    "    choices = [1, 2, 3]\n",
    "    gains = np.random.choice(choices, n)\n",
    "    return gains.sum()"
   ]
  },
  {
   "cell_type": "code",
   "execution_count": 227,
   "id": "d6f08810",
   "metadata": {},
   "outputs": [
    {
     "data": {
      "text/plain": [
       "(200.1008991008991, 8.277336219818142)"
      ]
     },
     "execution_count": 227,
     "metadata": {},
     "output_type": "execute_result"
    },
    {
     "data": {
      "application/javascript": [
       "\n",
       "        setTimeout(function() {\n",
       "            var nbb_cell_id = 227;\n",
       "            var nbb_formatted_code = \"weights = [simulate_growth(100) for i in range(1001)]\\nm, s = np.mean(weights), np.std(weights)\\nm, s\";\n",
       "            var nbb_cells = Jupyter.notebook.get_cells();\n",
       "            for (var i = 0; i < nbb_cells.length; ++i) {\n",
       "                if (nbb_cells[i].input_prompt_number == nbb_cell_id) {\n",
       "                    nbb_cells[i].set_text(nbb_formatted_code);\n",
       "                    break;\n",
       "                }\n",
       "            }\n",
       "        }, 500);\n",
       "        "
      ],
      "text/plain": [
       "<IPython.core.display.Javascript object>"
      ]
     },
     "metadata": {},
     "output_type": "display_data"
    }
   ],
   "source": [
    "weights = [simulate_growth(100) for i in range(1001)]\n",
    "m, s = np.mean(weights), np.std(weights)\n",
    "m, s"
   ]
  },
  {
   "cell_type": "code",
   "execution_count": 233,
   "id": "d51f4c59",
   "metadata": {},
   "outputs": [
    {
     "data": {
      "application/javascript": [
       "\n",
       "        setTimeout(function() {\n",
       "            var nbb_cell_id = 233;\n",
       "            var nbb_formatted_code = \"from scipy.stats import norm\\n\\nlow, high = np.min(weights), np.max(weights)\\nqs = np.linspace(low, high, 201)\\nps = norm.cdf(qs, m, s)\\ncdf_sim = Cdf(ps, qs, name=\\\"normal model\\\")\";\n",
       "            var nbb_cells = Jupyter.notebook.get_cells();\n",
       "            for (var i = 0; i < nbb_cells.length; ++i) {\n",
       "                if (nbb_cells[i].input_prompt_number == nbb_cell_id) {\n",
       "                    nbb_cells[i].set_text(nbb_formatted_code);\n",
       "                    break;\n",
       "                }\n",
       "            }\n",
       "        }, 500);\n",
       "        "
      ],
      "text/plain": [
       "<IPython.core.display.Javascript object>"
      ]
     },
     "metadata": {},
     "output_type": "display_data"
    }
   ],
   "source": [
    "from scipy.stats import norm\n",
    "\n",
    "low, high = np.min(weights), np.max(weights)\n",
    "qs = np.linspace(low, high, 201)\n",
    "ps = norm.cdf(qs, m, s)\n",
    "cdf_sim = Cdf(ps, qs, name=\"normal model\")"
   ]
  },
  {
   "cell_type": "code",
   "execution_count": 234,
   "id": "09bc72cf",
   "metadata": {},
   "outputs": [
    {
     "data": {
      "application/javascript": [
       "\n",
       "        setTimeout(function() {\n",
       "            var nbb_cell_id = 234;\n",
       "            var nbb_formatted_code = \"cdf_weights = Cdf.from_seq(weights, name=\\\"simulation\\\")\";\n",
       "            var nbb_cells = Jupyter.notebook.get_cells();\n",
       "            for (var i = 0; i < nbb_cells.length; ++i) {\n",
       "                if (nbb_cells[i].input_prompt_number == nbb_cell_id) {\n",
       "                    nbb_cells[i].set_text(nbb_formatted_code);\n",
       "                    break;\n",
       "                }\n",
       "            }\n",
       "        }, 500);\n",
       "        "
      ],
      "text/plain": [
       "<IPython.core.display.Javascript object>"
      ]
     },
     "metadata": {},
     "output_type": "display_data"
    }
   ],
   "source": [
    "cdf_weights = Cdf.from_seq(weights, name=\"simulation\")"
   ]
  },
  {
   "cell_type": "code",
   "execution_count": 241,
   "id": "88913b5e",
   "metadata": {},
   "outputs": [
    {
     "data": {
      "application/javascript": [
       "\n",
       "        setTimeout(function() {\n",
       "            var nbb_cell_id = 241;\n",
       "            var nbb_formatted_code = \"# TODO: Make simulation curves orange\";\n",
       "            var nbb_cells = Jupyter.notebook.get_cells();\n",
       "            for (var i = 0; i < nbb_cells.length; ++i) {\n",
       "                if (nbb_cells[i].input_prompt_number == nbb_cell_id) {\n",
       "                    nbb_cells[i].set_text(nbb_formatted_code);\n",
       "                    break;\n",
       "                }\n",
       "            }\n",
       "        }, 500);\n",
       "        "
      ],
      "text/plain": [
       "<IPython.core.display.Javascript object>"
      ]
     },
     "metadata": {},
     "output_type": "display_data"
    }
   ],
   "source": [
    "# TODO: Make simulation curves orange"
   ]
  },
  {
   "cell_type": "code",
   "execution_count": 235,
   "id": "a9257e03",
   "metadata": {},
   "outputs": [
    {
     "data": {
      "image/png": "[encoded data removed]",
      "text/plain": [
       "<Figure size 450x262.5 with 1 Axes>"
      ]
     },
     "metadata": {},
     "output_type": "display_data"
    },
    {
     "data": {
      "application/javascript": [
       "\n",
       "        setTimeout(function() {\n",
       "            var nbb_cell_id = 235;\n",
       "            var nbb_formatted_code = \"cdf_sim.plot(color=\\\"gray\\\", alpha=0.6)\\ncdf_weights.plot(alpha=0.6)\\n\\ndecorate(xlabel=\\\"Pumpkin weight (pounds)\\\", ylabel=\\\"CDF\\\")\";\n",
       "            var nbb_cells = Jupyter.notebook.get_cells();\n",
       "            for (var i = 0; i < nbb_cells.length; ++i) {\n",
       "                if (nbb_cells[i].input_prompt_number == nbb_cell_id) {\n",
       "                    nbb_cells[i].set_text(nbb_formatted_code);\n",
       "                    break;\n",
       "                }\n",
       "            }\n",
       "        }, 500);\n",
       "        "
      ],
      "text/plain": [
       "<IPython.core.display.Javascript object>"
      ]
     },
     "metadata": {},
     "output_type": "display_data"
    }
   ],
   "source": [
    "cdf_sim.plot(color=\"gray\", alpha=0.6)\n",
    "cdf_weights.plot(alpha=0.6)\n",
    "\n",
    "decorate(xlabel=\"Pumpkin weight (pounds)\", ylabel=\"CDF\")"
   ]
  },
  {
   "cell_type": "markdown",
   "id": "a5e0586f",
   "metadata": {},
   "source": [
    "In the previous chapter we looked at the distribution of birth weights in the NSFG.\n",
    "The following figure shows the empirical CDF of weights for all live births and the CDF of a normal distribution with the same mean and variance."
   ]
  },
  {
   "cell_type": "code",
   "execution_count": 190,
   "id": "5486a05a",
   "metadata": {},
   "outputs": [
    {
     "data": {
      "application/javascript": [
       "\n",
       "        setTimeout(function() {\n",
       "            var nbb_cell_id = 190;\n",
       "            var nbb_formatted_code = \"download(\\\"https://github.com/AllenDowney/ThinkStats/raw/v3/nb/nsfg.py\\\")\\ndownload(\\\"https://github.com/AllenDowney/ThinkStats/raw/v3/data/2002FemPreg.dct\\\")\\ndownload(\\\"https://github.com/AllenDowney/ThinkStats/raw/v3/data/2002FemPreg.dat.gz\\\")\";\n",
       "            var nbb_cells = Jupyter.notebook.get_cells();\n",
       "            for (var i = 0; i < nbb_cells.length; ++i) {\n",
       "                if (nbb_cells[i].input_prompt_number == nbb_cell_id) {\n",
       "                    nbb_cells[i].set_text(nbb_formatted_code);\n",
       "                    break;\n",
       "                }\n",
       "            }\n",
       "        }, 500);\n",
       "        "
      ],
      "text/plain": [
       "<IPython.core.display.Javascript object>"
      ]
     },
     "metadata": {},
     "output_type": "display_data"
    }
   ],
   "source": [
    "download(\"https://github.com/AllenDowney/ThinkStats/raw/v3/nb/nsfg.py\")\n",
    "download(\"https://github.com/AllenDowney/ThinkStats/raw/v3/data/2002FemPreg.dct\")\n",
    "download(\"https://github.com/AllenDowney/ThinkStats/raw/v3/data/2002FemPreg.dat.gz\")"
   ]
  },
  {
   "cell_type": "code",
   "execution_count": 236,
   "id": "8a65ba55",
   "metadata": {},
   "outputs": [
    {
     "data": {
      "application/javascript": [
       "\n",
       "        setTimeout(function() {\n",
       "            var nbb_cell_id = 236;\n",
       "            var nbb_formatted_code = \"import nsfg\\n\\npreg = nsfg.read_fem_preg()\\nbirth_weights = preg[\\\"totalwgt_lb\\\"].dropna()\";\n",
       "            var nbb_cells = Jupyter.notebook.get_cells();\n",
       "            for (var i = 0; i < nbb_cells.length; ++i) {\n",
       "                if (nbb_cells[i].input_prompt_number == nbb_cell_id) {\n",
       "                    nbb_cells[i].set_text(nbb_formatted_code);\n",
       "                    break;\n",
       "                }\n",
       "            }\n",
       "        }, 500);\n",
       "        "
      ],
      "text/plain": [
       "<IPython.core.display.Javascript object>"
      ]
     },
     "metadata": {},
     "output_type": "display_data"
    }
   ],
   "source": [
    "import nsfg\n",
    "\n",
    "preg = nsfg.read_fem_preg()\n",
    "birth_weights = preg[\"totalwgt_lb\"].dropna()"
   ]
  },
  {
   "cell_type": "code",
   "execution_count": 237,
   "id": "519a5674",
   "metadata": {},
   "outputs": [
    {
     "data": {
      "application/javascript": [
       "\n",
       "        setTimeout(function() {\n",
       "            var nbb_cell_id = 237;\n",
       "            var nbb_formatted_code = \"from empiricaldist import Cdf\\n\\ncdf_birth_weight = Cdf.from_seq(birth_weights, name=\\\"sample\\\")\";\n",
       "            var nbb_cells = Jupyter.notebook.get_cells();\n",
       "            for (var i = 0; i < nbb_cells.length; ++i) {\n",
       "                if (nbb_cells[i].input_prompt_number == nbb_cell_id) {\n",
       "                    nbb_cells[i].set_text(nbb_formatted_code);\n",
       "                    break;\n",
       "                }\n",
       "            }\n",
       "        }, 500);\n",
       "        "
      ],
      "text/plain": [
       "<IPython.core.display.Javascript object>"
      ]
     },
     "metadata": {},
     "output_type": "display_data"
    }
   ],
   "source": [
    "from empiricaldist import Cdf\n",
    "\n",
    "cdf_birth_weight = Cdf.from_seq(birth_weights, name=\"sample\")"
   ]
  },
  {
   "cell_type": "code",
   "execution_count": 238,
   "id": "02fb28ee",
   "metadata": {},
   "outputs": [
    {
     "data": {
      "text/plain": [
       "(7.265628457623368, 1.40821553384062)"
      ]
     },
     "execution_count": 238,
     "metadata": {},
     "output_type": "execute_result"
    },
    {
     "data": {
      "application/javascript": [
       "\n",
       "        setTimeout(function() {\n",
       "            var nbb_cell_id = 238;\n",
       "            var nbb_formatted_code = \"m, s = np.mean(birth_weights), np.std(birth_weights)\\nm, s\";\n",
       "            var nbb_cells = Jupyter.notebook.get_cells();\n",
       "            for (var i = 0; i < nbb_cells.length; ++i) {\n",
       "                if (nbb_cells[i].input_prompt_number == nbb_cell_id) {\n",
       "                    nbb_cells[i].set_text(nbb_formatted_code);\n",
       "                    break;\n",
       "                }\n",
       "            }\n",
       "        }, 500);\n",
       "        "
      ],
      "text/plain": [
       "<IPython.core.display.Javascript object>"
      ]
     },
     "metadata": {},
     "output_type": "display_data"
    }
   ],
   "source": [
    "m, s = np.mean(birth_weights), np.std(birth_weights)\n",
    "m, s"
   ]
  },
  {
   "cell_type": "code",
   "execution_count": 239,
   "id": "70b9c45c",
   "metadata": {},
   "outputs": [
    {
     "data": {
      "text/plain": [
       "(7.280883100022579, 1.2430657948614345)"
      ]
     },
     "execution_count": 239,
     "metadata": {},
     "output_type": "execute_result"
    },
    {
     "data": {
      "application/javascript": [
       "\n",
       "        setTimeout(function() {\n",
       "            var nbb_cell_id = 239;\n",
       "            var nbb_formatted_code = \"from scipy.stats import trimboth\\n\\ntrimmed = trimboth(birth_weights, 0.01)\\nm, s = np.mean(trimmed), np.std(trimmed)\\nm, s\";\n",
       "            var nbb_cells = Jupyter.notebook.get_cells();\n",
       "            for (var i = 0; i < nbb_cells.length; ++i) {\n",
       "                if (nbb_cells[i].input_prompt_number == nbb_cell_id) {\n",
       "                    nbb_cells[i].set_text(nbb_formatted_code);\n",
       "                    break;\n",
       "                }\n",
       "            }\n",
       "        }, 500);\n",
       "        "
      ],
      "text/plain": [
       "<IPython.core.display.Javascript object>"
      ]
     },
     "metadata": {},
     "output_type": "display_data"
    }
   ],
   "source": [
    "from scipy.stats import trimboth\n",
    "\n",
    "trimmed = trimboth(birth_weights, 0.01)\n",
    "m, s = np.mean(trimmed), np.std(trimmed)\n",
    "m, s"
   ]
  },
  {
   "cell_type": "code",
   "execution_count": 240,
   "id": "0866e249",
   "metadata": {},
   "outputs": [
    {
     "data": {
      "image/png": "[encoded data removed]",
      "text/plain": [
       "<Figure size 450x262.5 with 1 Axes>"
      ]
     },
     "metadata": {},
     "output_type": "display_data"
    },
    {
     "data": {
      "application/javascript": [
       "\n",
       "        setTimeout(function() {\n",
       "            var nbb_cell_id = 240;\n",
       "            var nbb_formatted_code = \"low, high = np.min(birth_weights), np.max(birth_weights)\\nxs = np.linspace(low, high, 201)\\n\\nps = norm.cdf(xs, m, s)\\nplt.plot(xs, ps, color=\\\"gray\\\", alpha=0.6, label=\\\"normal model\\\")\\n\\ncdf_birth_weight.plot(alpha=0.6, label=\\\"data\\\")\\n\\ndecorate(xlabel=\\\"Birth weight (pounds)\\\", ylabel=\\\"CDF\\\")\";\n",
       "            var nbb_cells = Jupyter.notebook.get_cells();\n",
       "            for (var i = 0; i < nbb_cells.length; ++i) {\n",
       "                if (nbb_cells[i].input_prompt_number == nbb_cell_id) {\n",
       "                    nbb_cells[i].set_text(nbb_formatted_code);\n",
       "                    break;\n",
       "                }\n",
       "            }\n",
       "        }, 500);\n",
       "        "
      ],
      "text/plain": [
       "<IPython.core.display.Javascript object>"
      ]
     },
     "metadata": {},
     "output_type": "display_data"
    }
   ],
   "source": [
    "low, high = np.min(birth_weights), np.max(birth_weights)\n",
    "xs = np.linspace(low, high, 201)\n",
    "\n",
    "ps = norm.cdf(xs, m, s)\n",
    "plt.plot(xs, ps, color=\"gray\", alpha=0.6, label=\"normal model\")\n",
    "\n",
    "cdf_birth_weight.plot(alpha=0.6, label=\"data\")\n",
    "\n",
    "decorate(xlabel=\"Birth weight (pounds)\", ylabel=\"CDF\")"
   ]
  },
  {
   "cell_type": "markdown",
   "id": "0690e053",
   "metadata": {},
   "source": [
    "## The lognormal distribution\n",
    "\n",
    "If the logarithms of a set of values have a normal distribution, the values have a **lognormal distribution**.\n",
    "The CDF of the lognormal distribution is the same as the CDF of the normal distribution, with $\\log x$ substituted for $x$.\n",
    "\n",
    "$$CDF_{lognormal}(x) = CDF_{normal}(\\log x)$$\n",
    "\n",
    "The parameters of the lognormal distribution are usually denoted $\\mu$ and $\\sigma$.\n",
    "But remember that these parameters are *not* the mean and standard deviation; the mean of a lognormal distribution is $\\exp(\\mu +\\sigma^2/2)$ and the standard deviation is ugly (see <http://wikipedia.org/wiki/Log-normal_distribution>)."
   ]
  },
  {
   "cell_type": "code",
   "execution_count": 280,
   "id": "19fc51ca",
   "metadata": {},
   "outputs": [
    {
     "data": {
      "application/javascript": [
       "\n",
       "        setTimeout(function() {\n",
       "            var nbb_cell_id = 280;\n",
       "            var nbb_formatted_code = \"def simulate_proportionate_growth(n):\\n    choices = [1.03, 1.05, 1.07]\\n    gains = np.random.choice(choices, n)\\n    return gains.prod()\";\n",
       "            var nbb_cells = Jupyter.notebook.get_cells();\n",
       "            for (var i = 0; i < nbb_cells.length; ++i) {\n",
       "                if (nbb_cells[i].input_prompt_number == nbb_cell_id) {\n",
       "                    nbb_cells[i].set_text(nbb_formatted_code);\n",
       "                    break;\n",
       "                }\n",
       "            }\n",
       "        }, 500);\n",
       "        "
      ],
      "text/plain": [
       "<IPython.core.display.Javascript object>"
      ]
     },
     "metadata": {},
     "output_type": "display_data"
    }
   ],
   "source": [
    "def simulate_proportionate_growth(n):\n",
    "    choices = [1.03, 1.05, 1.07]\n",
    "    gains = np.random.choice(choices, n)\n",
    "    return gains.prod()"
   ]
  },
  {
   "cell_type": "code",
   "execution_count": 281,
   "id": "fef49be7",
   "metadata": {},
   "outputs": [
    {
     "data": {
      "text/plain": [
       "(131.60367202039063, 20.061394041006118)"
      ]
     },
     "execution_count": 281,
     "metadata": {},
     "output_type": "execute_result"
    },
    {
     "data": {
      "application/javascript": [
       "\n",
       "        setTimeout(function() {\n",
       "            var nbb_cell_id = 281;\n",
       "            var nbb_formatted_code = \"weights = [simulate_proportionate_growth(100) for i in range(1001)]\\nnp.mean(weights), np.std(weights)\";\n",
       "            var nbb_cells = Jupyter.notebook.get_cells();\n",
       "            for (var i = 0; i < nbb_cells.length; ++i) {\n",
       "                if (nbb_cells[i].input_prompt_number == nbb_cell_id) {\n",
       "                    nbb_cells[i].set_text(nbb_formatted_code);\n",
       "                    break;\n",
       "                }\n",
       "            }\n",
       "        }, 500);\n",
       "        "
      ],
      "text/plain": [
       "<IPython.core.display.Javascript object>"
      ]
     },
     "metadata": {},
     "output_type": "display_data"
    }
   ],
   "source": [
    "weights = [simulate_proportionate_growth(100) for i in range(1001)]\n",
    "np.mean(weights), np.std(weights)"
   ]
  },
  {
   "cell_type": "code",
   "execution_count": 282,
   "id": "3bbd4a9a",
   "metadata": {},
   "outputs": [
    {
     "data": {
      "text/plain": [
       "(2.114283236187875, 0.06576844872638053)"
      ]
     },
     "execution_count": 282,
     "metadata": {},
     "output_type": "execute_result"
    },
    {
     "data": {
      "application/javascript": [
       "\n",
       "        setTimeout(function() {\n",
       "            var nbb_cell_id = 282;\n",
       "            var nbb_formatted_code = \"log_weights = np.log10(weights)\\nm, s = np.mean(log_weights), np.std(log_weights)\\nm, s\";\n",
       "            var nbb_cells = Jupyter.notebook.get_cells();\n",
       "            for (var i = 0; i < nbb_cells.length; ++i) {\n",
       "                if (nbb_cells[i].input_prompt_number == nbb_cell_id) {\n",
       "                    nbb_cells[i].set_text(nbb_formatted_code);\n",
       "                    break;\n",
       "                }\n",
       "            }\n",
       "        }, 500);\n",
       "        "
      ],
      "text/plain": [
       "<IPython.core.display.Javascript object>"
      ]
     },
     "metadata": {},
     "output_type": "display_data"
    }
   ],
   "source": [
    "log_weights = np.log10(weights)\n",
    "m, s = np.mean(log_weights), np.std(log_weights)\n",
    "m, s"
   ]
  },
  {
   "cell_type": "markdown",
   "id": "2baedea6",
   "metadata": {},
   "source": [
    "I use log10 because it doesn't matter and it's interpretable"
   ]
  },
  {
   "cell_type": "code",
   "execution_count": 283,
   "id": "443e7661",
   "metadata": {},
   "outputs": [
    {
     "data": {
      "application/javascript": [
       "\n",
       "        setTimeout(function() {\n",
       "            var nbb_cell_id = 283;\n",
       "            var nbb_formatted_code = \"from scipy.stats import norm\\n\\nlow, high = np.min(log_weights), np.max(log_weights)\\nqs = np.linspace(low, high, 201)\\nps = norm.cdf(qs, m, s)\\ncdf_normal = Cdf(ps, qs, name=\\\"normal model\\\")\";\n",
       "            var nbb_cells = Jupyter.notebook.get_cells();\n",
       "            for (var i = 0; i < nbb_cells.length; ++i) {\n",
       "                if (nbb_cells[i].input_prompt_number == nbb_cell_id) {\n",
       "                    nbb_cells[i].set_text(nbb_formatted_code);\n",
       "                    break;\n",
       "                }\n",
       "            }\n",
       "        }, 500);\n",
       "        "
      ],
      "text/plain": [
       "<IPython.core.display.Javascript object>"
      ]
     },
     "metadata": {},
     "output_type": "display_data"
    }
   ],
   "source": [
    "from scipy.stats import norm\n",
    "\n",
    "low, high = np.min(log_weights), np.max(log_weights)\n",
    "qs = np.linspace(low, high, 201)\n",
    "ps = norm.cdf(qs, m, s)\n",
    "cdf_normal = Cdf(ps, qs, name=\"normal model\")"
   ]
  },
  {
   "cell_type": "code",
   "execution_count": 284,
   "id": "3ef3b407",
   "metadata": {},
   "outputs": [
    {
     "data": {
      "application/javascript": [
       "\n",
       "        setTimeout(function() {\n",
       "            var nbb_cell_id = 284;\n",
       "            var nbb_formatted_code = \"cdf_log_weights = Cdf.from_seq(log_weights, name=\\\"simulation\\\")\";\n",
       "            var nbb_cells = Jupyter.notebook.get_cells();\n",
       "            for (var i = 0; i < nbb_cells.length; ++i) {\n",
       "                if (nbb_cells[i].input_prompt_number == nbb_cell_id) {\n",
       "                    nbb_cells[i].set_text(nbb_formatted_code);\n",
       "                    break;\n",
       "                }\n",
       "            }\n",
       "        }, 500);\n",
       "        "
      ],
      "text/plain": [
       "<IPython.core.display.Javascript object>"
      ]
     },
     "metadata": {},
     "output_type": "display_data"
    }
   ],
   "source": [
    "cdf_log_weights = Cdf.from_seq(log_weights, name=\"simulation\")"
   ]
  },
  {
   "cell_type": "code",
   "execution_count": 285,
   "id": "b095575d",
   "metadata": {},
   "outputs": [
    {
     "data": {
      "application/javascript": [
       "\n",
       "        setTimeout(function() {\n",
       "            var nbb_cell_id = 285;\n",
       "            var nbb_formatted_code = \"# TODO: Make simulation curves orange\";\n",
       "            var nbb_cells = Jupyter.notebook.get_cells();\n",
       "            for (var i = 0; i < nbb_cells.length; ++i) {\n",
       "                if (nbb_cells[i].input_prompt_number == nbb_cell_id) {\n",
       "                    nbb_cells[i].set_text(nbb_formatted_code);\n",
       "                    break;\n",
       "                }\n",
       "            }\n",
       "        }, 500);\n",
       "        "
      ],
      "text/plain": [
       "<IPython.core.display.Javascript object>"
      ]
     },
     "metadata": {},
     "output_type": "display_data"
    }
   ],
   "source": [
    "# TODO: Make simulation curves orange"
   ]
  },
  {
   "cell_type": "code",
   "execution_count": 286,
   "id": "0f4c8387",
   "metadata": {},
   "outputs": [
    {
     "data": {
      "image/png": "[encoded data removed]",
      "text/plain": [
       "<Figure size 450x262.5 with 1 Axes>"
      ]
     },
     "metadata": {},
     "output_type": "display_data"
    },
    {
     "data": {
      "application/javascript": [
       "\n",
       "        setTimeout(function() {\n",
       "            var nbb_cell_id = 286;\n",
       "            var nbb_formatted_code = \"cdf_normal.plot(color=\\\"gray\\\", alpha=0.6)\\ncdf_log_weights.plot(alpha=0.6)\\n\\ndecorate(xlabel=\\\"Pumpkin weight (pounds)\\\", ylabel=\\\"CDF\\\")\";\n",
       "            var nbb_cells = Jupyter.notebook.get_cells();\n",
       "            for (var i = 0; i < nbb_cells.length; ++i) {\n",
       "                if (nbb_cells[i].input_prompt_number == nbb_cell_id) {\n",
       "                    nbb_cells[i].set_text(nbb_formatted_code);\n",
       "                    break;\n",
       "                }\n",
       "            }\n",
       "        }, 500);\n",
       "        "
      ],
      "text/plain": [
       "<IPython.core.display.Javascript object>"
      ]
     },
     "metadata": {},
     "output_type": "display_data"
    }
   ],
   "source": [
    "cdf_normal.plot(color=\"gray\", alpha=0.6)\n",
    "cdf_log_weights.plot(alpha=0.6)\n",
    "\n",
    "decorate(xlabel=\"Pumpkin weight (pounds)\", ylabel=\"CDF\")"
   ]
  },
  {
   "cell_type": "markdown",
   "id": "5b92b002",
   "metadata": {},
   "source": [
    "\n",
    "\n",
    "As an example, let's look at the distribution of adult weights\n",
    "\n",
    "The National Center for Chronic Disease Prevention and Health Promotion conducts an annual survey as part of the Behavioral Risk Factor Surveillance System (BRFSS).[^3] In 2008, they interviewed 414,509 respondents and asked about their demographics, health, and health risks.\n",
    "Among the data they collected are the weights in kilograms of 398,484 respondents.\n",
    "\n",
    "The repository for this book contains `CDBRFS08.ASC.gz`, a fixed-width ASCII file that contains data from the BRFSS, and `brfss.py`, which reads the file and analyzes the data."
   ]
  },
  {
   "cell_type": "code",
   "execution_count": 287,
   "id": "d80d103c",
   "metadata": {},
   "outputs": [
    {
     "data": {
      "application/javascript": [
       "\n",
       "        setTimeout(function() {\n",
       "            var nbb_cell_id = 287;\n",
       "            var nbb_formatted_code = \"download(\\\"https://github.com/AllenDowney/ThinkStats/raw/v3/nb/brfss.py\\\")\\ndownload(\\\"https://github.com/AllenDowney/ThinkStats/raw/v3/data/CDBRFS08.ASC.gz\\\")\";\n",
       "            var nbb_cells = Jupyter.notebook.get_cells();\n",
       "            for (var i = 0; i < nbb_cells.length; ++i) {\n",
       "                if (nbb_cells[i].input_prompt_number == nbb_cell_id) {\n",
       "                    nbb_cells[i].set_text(nbb_formatted_code);\n",
       "                    break;\n",
       "                }\n",
       "            }\n",
       "        }, 500);\n",
       "        "
      ],
      "text/plain": [
       "<IPython.core.display.Javascript object>"
      ]
     },
     "metadata": {},
     "output_type": "display_data"
    }
   ],
   "source": [
    "download(\"https://github.com/AllenDowney/ThinkStats/raw/v3/nb/brfss.py\")\n",
    "download(\"https://github.com/AllenDowney/ThinkStats/raw/v3/data/CDBRFS08.ASC.gz\")"
   ]
  },
  {
   "cell_type": "code",
   "execution_count": 288,
   "id": "0e38e93a",
   "metadata": {},
   "outputs": [
    {
     "data": {
      "application/javascript": [
       "\n",
       "        setTimeout(function() {\n",
       "            var nbb_cell_id = 288;\n",
       "            var nbb_formatted_code = \"from thinkstats import read_brfss\\n\\nbrfss = read_brfss()\";\n",
       "            var nbb_cells = Jupyter.notebook.get_cells();\n",
       "            for (var i = 0; i < nbb_cells.length; ++i) {\n",
       "                if (nbb_cells[i].input_prompt_number == nbb_cell_id) {\n",
       "                    nbb_cells[i].set_text(nbb_formatted_code);\n",
       "                    break;\n",
       "                }\n",
       "            }\n",
       "        }, 500);\n",
       "        "
      ],
      "text/plain": [
       "<IPython.core.display.Javascript object>"
      ]
     },
     "metadata": {},
     "output_type": "display_data"
    }
   ],
   "source": [
    "from thinkstats import read_brfss\n",
    "\n",
    "brfss = read_brfss()"
   ]
  },
  {
   "cell_type": "code",
   "execution_count": 298,
   "id": "7ea83cdd",
   "metadata": {},
   "outputs": [
    {
     "data": {
      "text/plain": [
       "(78.9924529968581, 19.546132387397257)"
      ]
     },
     "execution_count": 298,
     "metadata": {},
     "output_type": "execute_result"
    },
    {
     "data": {
      "application/javascript": [
       "\n",
       "        setTimeout(function() {\n",
       "            var nbb_cell_id = 298;\n",
       "            var nbb_formatted_code = \"adult_weights = brfss[\\\"wtkg2\\\"].dropna()\\nm, s = np.mean(adult_weights), np.std(adult_weights)\\nm, s\";\n",
       "            var nbb_cells = Jupyter.notebook.get_cells();\n",
       "            for (var i = 0; i < nbb_cells.length; ++i) {\n",
       "                if (nbb_cells[i].input_prompt_number == nbb_cell_id) {\n",
       "                    nbb_cells[i].set_text(nbb_formatted_code);\n",
       "                    break;\n",
       "                }\n",
       "            }\n",
       "        }, 500);\n",
       "        "
      ],
      "text/plain": [
       "<IPython.core.display.Javascript object>"
      ]
     },
     "metadata": {},
     "output_type": "display_data"
    }
   ],
   "source": [
    "adult_weights = brfss[\"wtkg2\"].dropna()\n",
    "m, s = np.mean(adult_weights), np.std(adult_weights)\n",
    "m, s"
   ]
  },
  {
   "cell_type": "code",
   "execution_count": 299,
   "id": "fc748844",
   "metadata": {},
   "outputs": [
    {
     "data": {
      "application/javascript": [
       "\n",
       "        setTimeout(function() {\n",
       "            var nbb_cell_id = 299;\n",
       "            var nbb_formatted_code = \"low, high = np.min(adult_weights), np.max(adult_weights)\\nqs = np.linspace(low, high, 201)\\nps = norm.cdf(qs, m, s)\\ncdf_normal = Cdf(ps, qs, name=\\\"normal model\\\")\";\n",
       "            var nbb_cells = Jupyter.notebook.get_cells();\n",
       "            for (var i = 0; i < nbb_cells.length; ++i) {\n",
       "                if (nbb_cells[i].input_prompt_number == nbb_cell_id) {\n",
       "                    nbb_cells[i].set_text(nbb_formatted_code);\n",
       "                    break;\n",
       "                }\n",
       "            }\n",
       "        }, 500);\n",
       "        "
      ],
      "text/plain": [
       "<IPython.core.display.Javascript object>"
      ]
     },
     "metadata": {},
     "output_type": "display_data"
    }
   ],
   "source": [
    "low, high = np.min(adult_weights), np.max(adult_weights)\n",
    "qs = np.linspace(low, high, 201)\n",
    "ps = norm.cdf(qs, m, s)\n",
    "cdf_normal = Cdf(ps, qs, name=\"normal model\")"
   ]
  },
  {
   "cell_type": "code",
   "execution_count": 300,
   "id": "6760ba44",
   "metadata": {},
   "outputs": [
    {
     "data": {
      "application/javascript": [
       "\n",
       "        setTimeout(function() {\n",
       "            var nbb_cell_id = 300;\n",
       "            var nbb_formatted_code = \"cdf_adult_weights = Cdf.from_seq(adult_weights, name=\\\"adult weight\\\")\";\n",
       "            var nbb_cells = Jupyter.notebook.get_cells();\n",
       "            for (var i = 0; i < nbb_cells.length; ++i) {\n",
       "                if (nbb_cells[i].input_prompt_number == nbb_cell_id) {\n",
       "                    nbb_cells[i].set_text(nbb_formatted_code);\n",
       "                    break;\n",
       "                }\n",
       "            }\n",
       "        }, 500);\n",
       "        "
      ],
      "text/plain": [
       "<IPython.core.display.Javascript object>"
      ]
     },
     "metadata": {},
     "output_type": "display_data"
    }
   ],
   "source": [
    "cdf_adult_weights = Cdf.from_seq(adult_weights, name=\"adult weight\")"
   ]
  },
  {
   "cell_type": "code",
   "execution_count": 301,
   "id": "a5fca979",
   "metadata": {},
   "outputs": [
    {
     "data": {
      "image/png": "[encoded data removed]",
      "text/plain": [
       "<Figure size 450x262.5 with 1 Axes>"
      ]
     },
     "metadata": {},
     "output_type": "display_data"
    },
    {
     "data": {
      "application/javascript": [
       "\n",
       "        setTimeout(function() {\n",
       "            var nbb_cell_id = 301;\n",
       "            var nbb_formatted_code = \"cdf_normal.plot(color=\\\"gray\\\", alpha=0.6)\\ncdf_adult_weights.plot(alpha=0.6)\\n\\ndecorate(xlabel=\\\"Adult weight (kilograms)\\\", ylabel=\\\"CDF\\\")\";\n",
       "            var nbb_cells = Jupyter.notebook.get_cells();\n",
       "            for (var i = 0; i < nbb_cells.length; ++i) {\n",
       "                if (nbb_cells[i].input_prompt_number == nbb_cell_id) {\n",
       "                    nbb_cells[i].set_text(nbb_formatted_code);\n",
       "                    break;\n",
       "                }\n",
       "            }\n",
       "        }, 500);\n",
       "        "
      ],
      "text/plain": [
       "<IPython.core.display.Javascript object>"
      ]
     },
     "metadata": {},
     "output_type": "display_data"
    }
   ],
   "source": [
    "cdf_normal.plot(color=\"gray\", alpha=0.6)\n",
    "cdf_adult_weights.plot(alpha=0.6)\n",
    "\n",
    "decorate(xlabel=\"Adult weight (kilograms)\", ylabel=\"CDF\")"
   ]
  },
  {
   "cell_type": "code",
   "execution_count": 306,
   "id": "77b2f37f",
   "metadata": {},
   "outputs": [
    {
     "data": {
      "application/javascript": [
       "\n",
       "        setTimeout(function() {\n",
       "            var nbb_cell_id = 306;\n",
       "            var nbb_formatted_code = \"log_adult_weights = np.log10(adult_weights)\";\n",
       "            var nbb_cells = Jupyter.notebook.get_cells();\n",
       "            for (var i = 0; i < nbb_cells.length; ++i) {\n",
       "                if (nbb_cells[i].input_prompt_number == nbb_cell_id) {\n",
       "                    nbb_cells[i].set_text(nbb_formatted_code);\n",
       "                    break;\n",
       "                }\n",
       "            }\n",
       "        }, 500);\n",
       "        "
      ],
      "text/plain": [
       "<IPython.core.display.Javascript object>"
      ]
     },
     "metadata": {},
     "output_type": "display_data"
    }
   ],
   "source": [
    "log_adult_weights = np.log10(adult_weights)"
   ]
  },
  {
   "cell_type": "code",
   "execution_count": 307,
   "id": "5961580b",
   "metadata": {},
   "outputs": [
    {
     "data": {
      "application/javascript": [
       "\n",
       "        setTimeout(function() {\n",
       "            var nbb_cell_id = 307;\n",
       "            var nbb_formatted_code = \"def make_normal_model(seq):\\n    m, s = np.mean(seq), np.std(seq)\\n    low, high = np.min(seq), np.max(seq)\\n    qs = np.linspace(low, high, 201)\\n    ps = norm.cdf(qs, m, s)\\n    return Cdf(ps, qs, name=\\\"normal model\\\")\";\n",
       "            var nbb_cells = Jupyter.notebook.get_cells();\n",
       "            for (var i = 0; i < nbb_cells.length; ++i) {\n",
       "                if (nbb_cells[i].input_prompt_number == nbb_cell_id) {\n",
       "                    nbb_cells[i].set_text(nbb_formatted_code);\n",
       "                    break;\n",
       "                }\n",
       "            }\n",
       "        }, 500);\n",
       "        "
      ],
      "text/plain": [
       "<IPython.core.display.Javascript object>"
      ]
     },
     "metadata": {},
     "output_type": "display_data"
    }
   ],
   "source": [
    "def make_normal_model(seq):\n",
    "    m, s = np.mean(seq), np.std(seq)\n",
    "    low, high = np.min(seq), np.max(seq)\n",
    "    qs = np.linspace(low, high, 201)\n",
    "    ps = norm.cdf(qs, m, s)\n",
    "    return Cdf(ps, qs, name=\"normal model\")"
   ]
  },
  {
   "cell_type": "code",
   "execution_count": 308,
   "id": "0341a470",
   "metadata": {},
   "outputs": [
    {
     "data": {
      "application/javascript": [
       "\n",
       "        setTimeout(function() {\n",
       "            var nbb_cell_id = 308;\n",
       "            var nbb_formatted_code = \"cdf_normal = make_normal_model(log_adult_weights)\";\n",
       "            var nbb_cells = Jupyter.notebook.get_cells();\n",
       "            for (var i = 0; i < nbb_cells.length; ++i) {\n",
       "                if (nbb_cells[i].input_prompt_number == nbb_cell_id) {\n",
       "                    nbb_cells[i].set_text(nbb_formatted_code);\n",
       "                    break;\n",
       "                }\n",
       "            }\n",
       "        }, 500);\n",
       "        "
      ],
      "text/plain": [
       "<IPython.core.display.Javascript object>"
      ]
     },
     "metadata": {},
     "output_type": "display_data"
    }
   ],
   "source": [
    "cdf_normal = make_normal_model(log_adult_weights)"
   ]
  },
  {
   "cell_type": "code",
   "execution_count": 309,
   "id": "aba9309d",
   "metadata": {},
   "outputs": [
    {
     "data": {
      "application/javascript": [
       "\n",
       "        setTimeout(function() {\n",
       "            var nbb_cell_id = 309;\n",
       "            var nbb_formatted_code = \"cdf_log_adult_weights = Cdf.from_seq(log_adult_weights, name=\\\"log adult weight\\\")\";\n",
       "            var nbb_cells = Jupyter.notebook.get_cells();\n",
       "            for (var i = 0; i < nbb_cells.length; ++i) {\n",
       "                if (nbb_cells[i].input_prompt_number == nbb_cell_id) {\n",
       "                    nbb_cells[i].set_text(nbb_formatted_code);\n",
       "                    break;\n",
       "                }\n",
       "            }\n",
       "        }, 500);\n",
       "        "
      ],
      "text/plain": [
       "<IPython.core.display.Javascript object>"
      ]
     },
     "metadata": {},
     "output_type": "display_data"
    }
   ],
   "source": [
    "cdf_log_adult_weights = Cdf.from_seq(log_adult_weights, name=\"log adult weight\")"
   ]
  },
  {
   "cell_type": "code",
   "execution_count": 310,
   "id": "6d4d7124",
   "metadata": {},
   "outputs": [
    {
     "data": {
      "image/png": "[encoded data removed]",
      "text/plain": [
       "<Figure size 450x262.5 with 1 Axes>"
      ]
     },
     "metadata": {},
     "output_type": "display_data"
    },
    {
     "data": {
      "application/javascript": [
       "\n",
       "        setTimeout(function() {\n",
       "            var nbb_cell_id = 310;\n",
       "            var nbb_formatted_code = \"cdf_normal.plot(color=\\\"gray\\\", alpha=0.6)\\ncdf_log_adult_weights.plot(alpha=0.6)\\n\\ndecorate(xlabel=\\\"Adult weight (log10 kg)\\\", ylabel=\\\"CDF\\\")\";\n",
       "            var nbb_cells = Jupyter.notebook.get_cells();\n",
       "            for (var i = 0; i < nbb_cells.length; ++i) {\n",
       "                if (nbb_cells[i].input_prompt_number == nbb_cell_id) {\n",
       "                    nbb_cells[i].set_text(nbb_formatted_code);\n",
       "                    break;\n",
       "                }\n",
       "            }\n",
       "        }, 500);\n",
       "        "
      ],
      "text/plain": [
       "<IPython.core.display.Javascript object>"
      ]
     },
     "metadata": {},
     "output_type": "display_data"
    }
   ],
   "source": [
    "cdf_normal.plot(color=\"gray\", alpha=0.6)\n",
    "cdf_log_adult_weights.plot(alpha=0.6)\n",
    "\n",
    "decorate(xlabel=\"Adult weight (log10 kg)\", ylabel=\"CDF\")"
   ]
  },
  {
   "cell_type": "markdown",
   "id": "ec523cbc",
   "metadata": {},
   "source": [
    "The following figure (left) shows the distribution of adult weights on a linear scale with a normal model.\n",
    "The following figure (right) shows the same distribution on a log scale with a lognormal model.\n",
    "The lognormal model is a better fit, but this representation of the data does not make the difference particularly dramatic.\n",
    "\n",
    "The following figure shows normal probability plots for adult weights, $w$, and for their logarithms, $\\log_{10} w$. Now it is apparent that the data deviate substantially from the normal model.\n",
    "On the other hand, the lognormal model is a good match for the data."
   ]
  },
  {
   "cell_type": "markdown",
   "id": "ecaa5709",
   "metadata": {},
   "source": [
    "## The Pareto distribution\n",
    "\n",
    "The **Pareto distribution** is named after the economist Vilfredo Pareto, who used it to describe the distribution of wealth (see <http://wikipedia.org/wiki/Pareto_distribution>).\n",
    "Since then, it has been used to describe phenomena in the natural and social sciences including sizes of cities and towns, sand particles and meteorites, forest fires and earthquakes.\n",
    "\n",
    "The CDF of the Pareto distribution is:\n",
    "\n",
    "$$CDF(x) = 1 - \\left( \\frac{x}{x_m} \\right) ^{-\\alpha}$$\n",
    "\n",
    "The parameters $x_{m}$ and $\\alpha$ determine the location and shape of the distribution.\n",
    "$x_{m}$ is the minimum possible value.\n",
    "The following figure shows CDFs of Pareto distributions with $x_{m} = 0.5$ and different values of $\\alpha$."
   ]
  },
  {
   "cell_type": "code",
   "execution_count": 23,
   "id": "e559282f",
   "metadata": {},
   "outputs": [
    {
     "data": {
      "image/png": "[encoded data removed]",
      "text/plain": [
       "<Figure size 640x480 with 1 Axes>"
      ]
     },
     "metadata": {},
     "output_type": "display_data"
    },
    {
     "data": {
      "application/javascript": [
       "\n",
       "            setTimeout(function() {\n",
       "                var nbb_cell_id = 23;\n",
       "                var nbb_unformatted_code = \"from thinkstats import render_pareto_cdf\\n\\nxmin = 0.5\\nfor alpha in [2.0, 1.0, 0.5]:\\n    xs, ps = render_pareto_cdf(xmin, alpha, 0, 10.0, n=100)\\n    plt.plot(xs, ps, label=\\\"$\\\\\\\\alpha=%g$\\\" % alpha)\\n\\ndecorate(title=\\\"Pareto CDF\\\", xlabel=\\\"x\\\", ylabel=\\\"CDF\\\", loc=\\\"lower right\\\")\";\n",
       "                var nbb_formatted_code = \"from thinkstats import render_pareto_cdf\\n\\nxmin = 0.5\\nfor alpha in [2.0, 1.0, 0.5]:\\n    xs, ps = render_pareto_cdf(xmin, alpha, 0, 10.0, n=100)\\n    plt.plot(xs, ps, label=\\\"$\\\\\\\\alpha=%g$\\\" % alpha)\\n\\ndecorate(title=\\\"Pareto CDF\\\", xlabel=\\\"x\\\", ylabel=\\\"CDF\\\", loc=\\\"lower right\\\")\";\n",
       "                var nbb_cells = Jupyter.notebook.get_cells();\n",
       "                for (var i = 0; i < nbb_cells.length; ++i) {\n",
       "                    if (nbb_cells[i].input_prompt_number == nbb_cell_id) {\n",
       "                        if (nbb_cells[i].get_text() == nbb_unformatted_code) {\n",
       "                             nbb_cells[i].set_text(nbb_formatted_code);\n",
       "                        }\n",
       "                        break;\n",
       "                    }\n",
       "                }\n",
       "            }, 500);\n",
       "            "
      ],
      "text/plain": [
       "<IPython.core.display.Javascript object>"
      ]
     },
     "metadata": {},
     "output_type": "display_data"
    }
   ],
   "source": [
    "from thinkstats import render_pareto_cdf\n",
    "\n",
    "xmin = 0.5\n",
    "for alpha in [2.0, 1.0, 0.5]:\n",
    "    xs, ps = render_pareto_cdf(xmin, alpha, 0, 10.0, n=100)\n",
    "    plt.plot(xs, ps, label=\"$\\\\alpha=%g$\" % alpha)\n",
    "\n",
    "decorate(title=\"Pareto CDF\", xlabel=\"x\", ylabel=\"CDF\", loc=\"lower right\")"
   ]
  },
  {
   "cell_type": "markdown",
   "id": "a4360eee",
   "metadata": {},
   "source": [
    "There is a simple visual test that indicates whether an empirical distribution fits a Pareto distribution: on a log-log scale, the CCDF looks like a straight line.\n",
    "Let's see why that works.\n",
    "\n",
    "If you plot the CCDF of a sample from a Pareto distribution on a linear scale, you expect to see a function like: $$y \\approx \\left( \\frac{x}{x_m} \\right) ^{-\\alpha}$$ Taking the log of both sides yields: $$\\log y \\approx -\\alpha (\\log x - \\log x_{m})$$ So if you plot $\\log y$ versus $\\log x$, it should look like a straight line with slope $-\\alpha$ and intercept $\\alpha \\log x_{m}$.\n",
    "\n",
    "As an example, let's look at the sizes of cities and towns.\n",
    "The U.S. Census Bureau publishes the population of every incorporated city and town in the United States."
   ]
  },
  {
   "cell_type": "code",
   "execution_count": 24,
   "id": "9f1ede9d",
   "metadata": {},
   "outputs": [
    {
     "data": {
      "application/javascript": [
       "\n",
       "            setTimeout(function() {\n",
       "                var nbb_cell_id = 24;\n",
       "                var nbb_unformatted_code = \"download(\\\"https://github.com/AllenDowney/ThinkStats/raw/v3/nb/populations.py\\\")\\ndownload(\\n    \\\"https://github.com/AllenDowney/ThinkStats/raw/v3/data/PEP_2012_PEPANNRES_with_ann.csv\\\"\\n)\";\n",
       "                var nbb_formatted_code = \"download(\\\"https://github.com/AllenDowney/ThinkStats/raw/v3/nb/populations.py\\\")\\ndownload(\\n    \\\"https://github.com/AllenDowney/ThinkStats/raw/v3/data/PEP_2012_PEPANNRES_with_ann.csv\\\"\\n)\";\n",
       "                var nbb_cells = Jupyter.notebook.get_cells();\n",
       "                for (var i = 0; i < nbb_cells.length; ++i) {\n",
       "                    if (nbb_cells[i].input_prompt_number == nbb_cell_id) {\n",
       "                        if (nbb_cells[i].get_text() == nbb_unformatted_code) {\n",
       "                             nbb_cells[i].set_text(nbb_formatted_code);\n",
       "                        }\n",
       "                        break;\n",
       "                    }\n",
       "                }\n",
       "            }, 500);\n",
       "            "
      ],
      "text/plain": [
       "<IPython.core.display.Javascript object>"
      ]
     },
     "metadata": {},
     "output_type": "display_data"
    }
   ],
   "source": [
    "download(\"https://github.com/AllenDowney/ThinkStats/raw/v3/nb/populations.py\")\n",
    "download(\n",
    "    \"https://github.com/AllenDowney/ThinkStats/raw/v3/data/PEP_2012_PEPANNRES_with_ann.csv\"\n",
    ")"
   ]
  },
  {
   "cell_type": "code",
   "execution_count": 25,
   "id": "18929b3d",
   "metadata": {},
   "outputs": [
    {
     "name": "stdout",
     "output_type": "stream",
     "text": [
      "Number of cities/towns 19515\n"
     ]
    },
    {
     "data": {
      "application/javascript": [
       "\n",
       "            setTimeout(function() {\n",
       "                var nbb_cell_id = 25;\n",
       "                var nbb_unformatted_code = \"import populations\\n\\npops = populations.read_data()\\nprint(\\\"Number of cities/towns\\\", len(pops))\";\n",
       "                var nbb_formatted_code = \"import populations\\n\\npops = populations.read_data()\\nprint(\\\"Number of cities/towns\\\", len(pops))\";\n",
       "                var nbb_cells = Jupyter.notebook.get_cells();\n",
       "                for (var i = 0; i < nbb_cells.length; ++i) {\n",
       "                    if (nbb_cells[i].input_prompt_number == nbb_cell_id) {\n",
       "                        if (nbb_cells[i].get_text() == nbb_unformatted_code) {\n",
       "                             nbb_cells[i].set_text(nbb_formatted_code);\n",
       "                        }\n",
       "                        break;\n",
       "                    }\n",
       "                }\n",
       "            }, 500);\n",
       "            "
      ],
      "text/plain": [
       "<IPython.core.display.Javascript object>"
      ]
     },
     "metadata": {},
     "output_type": "display_data"
    }
   ],
   "source": [
    "import populations\n",
    "\n",
    "pops = populations.read_data()\n",
    "print(\"Number of cities/towns\", len(pops))"
   ]
  },
  {
   "cell_type": "markdown",
   "id": "07f5b5e7",
   "metadata": {},
   "source": [
    "I downloaded their data from <http://www.census.gov/popest/data/cities/totals/2012/SUB-EST2012-3.html>; it is in the repository for this book in a file named `PEP_2012_PEPANNRES_with_ann.csv`.\n",
    "The repository also contains `populations.py`, which reads the file and plots the distribution of populations.\n",
    "\n",
    "The following figure shows the CCDF of populations on a log-log scale.\n",
    "The largest 1% of cities and towns, below $10^{-2}$, fall along a straight line.\n",
    "So we could conclude, as some researchers have, that the tail of this distribution fits a Pareto model.\n",
    "\n",
    "On the other hand, a lognormal distribution also models the data well.\n",
    "The following figure shows the CDF of populations and a lognormal model (left), and a normal probability plot (right).\n",
    "Both plots show good agreement between the data and the model.\n",
    "\n",
    "Neither model is perfect.\n",
    "The Pareto model only applies to the largest 1% of cities, but it is a better fit for that part of the distribution.\n",
    "The lognormal model is a better fit for the other 99%.\n",
    "Which model is appropriate depends on which part of the distribution is relevant."
   ]
  },
  {
   "cell_type": "code",
   "execution_count": 26,
   "id": "cedd45d3",
   "metadata": {},
   "outputs": [
    {
     "data": {
      "application/javascript": [
       "\n",
       "            setTimeout(function() {\n",
       "                var nbb_cell_id = 26;\n",
       "                var nbb_unformatted_code = \"log_pops = np.log10(pops)\\ncdf = Cdf.from_seq(pops, name=\\\"data\\\")\\ncdf_log = Cdf.from_seq(log_pops, name=\\\"data\\\")\";\n",
       "                var nbb_formatted_code = \"log_pops = np.log10(pops)\\ncdf = Cdf.from_seq(pops, name=\\\"data\\\")\\ncdf_log = Cdf.from_seq(log_pops, name=\\\"data\\\")\";\n",
       "                var nbb_cells = Jupyter.notebook.get_cells();\n",
       "                for (var i = 0; i < nbb_cells.length; ++i) {\n",
       "                    if (nbb_cells[i].input_prompt_number == nbb_cell_id) {\n",
       "                        if (nbb_cells[i].get_text() == nbb_unformatted_code) {\n",
       "                             nbb_cells[i].set_text(nbb_formatted_code);\n",
       "                        }\n",
       "                        break;\n",
       "                    }\n",
       "                }\n",
       "            }, 500);\n",
       "            "
      ],
      "text/plain": [
       "<IPython.core.display.Javascript object>"
      ]
     },
     "metadata": {},
     "output_type": "display_data"
    }
   ],
   "source": [
    "log_pops = np.log10(pops)\n",
    "cdf = Cdf.from_seq(pops, name=\"data\")\n",
    "cdf_log = Cdf.from_seq(log_pops, name=\"data\")"
   ]
  },
  {
   "cell_type": "code",
   "execution_count": 27,
   "id": "ad635d57",
   "metadata": {},
   "outputs": [
    {
     "data": {
      "image/png": "[encoded data removed]",
      "text/plain": [
       "<Figure size 640x480 with 1 Axes>"
      ]
     },
     "metadata": {},
     "output_type": "display_data"
    },
    {
     "data": {
      "application/javascript": [
       "\n",
       "            setTimeout(function() {\n",
       "                var nbb_cell_id = 27;\n",
       "                var nbb_unformatted_code = \"xs, ys = render_pareto_cdf(xmin=5000, alpha=1.4, low=0, high=10000000.0)\\nplt.plot(np.log10(xs), 1 - ys, label=\\\"model\\\", color=\\\"0.8\\\")\\n\\n(1 - cdf_log).plot()\\n\\ndecorate(xlabel=\\\"log10 population\\\", ylabel=\\\"CCDF\\\", yscale=\\\"log\\\", loc=\\\"lower left\\\")\";\n",
       "                var nbb_formatted_code = \"xs, ys = render_pareto_cdf(xmin=5000, alpha=1.4, low=0, high=10000000.0)\\nplt.plot(np.log10(xs), 1 - ys, label=\\\"model\\\", color=\\\"0.8\\\")\\n\\n(1 - cdf_log).plot()\\n\\ndecorate(xlabel=\\\"log10 population\\\", ylabel=\\\"CCDF\\\", yscale=\\\"log\\\", loc=\\\"lower left\\\")\";\n",
       "                var nbb_cells = Jupyter.notebook.get_cells();\n",
       "                for (var i = 0; i < nbb_cells.length; ++i) {\n",
       "                    if (nbb_cells[i].input_prompt_number == nbb_cell_id) {\n",
       "                        if (nbb_cells[i].get_text() == nbb_unformatted_code) {\n",
       "                             nbb_cells[i].set_text(nbb_formatted_code);\n",
       "                        }\n",
       "                        break;\n",
       "                    }\n",
       "                }\n",
       "            }, 500);\n",
       "            "
      ],
      "text/plain": [
       "<IPython.core.display.Javascript object>"
      ]
     },
     "metadata": {},
     "output_type": "display_data"
    }
   ],
   "source": [
    "xs, ys = render_pareto_cdf(xmin=5000, alpha=1.4, low=0, high=10000000.0)\n",
    "plt.plot(np.log10(xs), 1 - ys, label=\"model\", color=\"0.8\")\n",
    "\n",
    "(1 - cdf_log).plot()\n",
    "\n",
    "decorate(xlabel=\"log10 population\", ylabel=\"CCDF\", yscale=\"log\", loc=\"lower left\")"
   ]
  },
  {
   "cell_type": "code",
   "execution_count": 28,
   "id": "6df10305",
   "metadata": {},
   "outputs": [
    {
     "data": {
      "image/png": "[encoded data removed]",
      "text/plain": [
       "<Figure size 640x480 with 1 Axes>"
      ]
     },
     "metadata": {},
     "output_type": "display_data"
    },
    {
     "data": {
      "application/javascript": [
       "\n",
       "            setTimeout(function() {\n",
       "                var nbb_cell_id = 28;\n",
       "                var nbb_unformatted_code = \"mu, sigma = log_pops.mean(), log_pops.std()\\nxs, ps = render_normal_cdf(mu, sigma, low=0, high=8)\\nplt.plot(xs, ps, label=\\\"model\\\", color=\\\"0.8\\\")\\ncdf_log.plot()\\ndecorate(xlabel=\\\"log10 population\\\", ylabel=\\\"CDF\\\", loc=\\\"lower right\\\")\";\n",
       "                var nbb_formatted_code = \"mu, sigma = log_pops.mean(), log_pops.std()\\nxs, ps = render_normal_cdf(mu, sigma, low=0, high=8)\\nplt.plot(xs, ps, label=\\\"model\\\", color=\\\"0.8\\\")\\ncdf_log.plot()\\ndecorate(xlabel=\\\"log10 population\\\", ylabel=\\\"CDF\\\", loc=\\\"lower right\\\")\";\n",
       "                var nbb_cells = Jupyter.notebook.get_cells();\n",
       "                for (var i = 0; i < nbb_cells.length; ++i) {\n",
       "                    if (nbb_cells[i].input_prompt_number == nbb_cell_id) {\n",
       "                        if (nbb_cells[i].get_text() == nbb_unformatted_code) {\n",
       "                             nbb_cells[i].set_text(nbb_formatted_code);\n",
       "                        }\n",
       "                        break;\n",
       "                    }\n",
       "                }\n",
       "            }, 500);\n",
       "            "
      ],
      "text/plain": [
       "<IPython.core.display.Javascript object>"
      ]
     },
     "metadata": {},
     "output_type": "display_data"
    }
   ],
   "source": [
    "mu, sigma = log_pops.mean(), log_pops.std()\n",
    "xs, ps = render_normal_cdf(mu, sigma, low=0, high=8)\n",
    "plt.plot(xs, ps, label=\"model\", color=\"0.8\")\n",
    "cdf_log.plot()\n",
    "decorate(xlabel=\"log10 population\", ylabel=\"CDF\", loc=\"lower right\")"
   ]
  },
  {
   "cell_type": "markdown",
   "id": "8be0f092",
   "metadata": {},
   "source": [
    "## Generating random numbers\n",
    "\n",
    "Analytic CDFs can be used to generate random numbers with a given distribution function, $p = CDF(x)$.\n",
    "If there is an efficient way to compute the inverse CDF, we can generate random values with the appropriate distribution by choosing $p$ from a uniform distribution between 0 and 1, then choosing $x = ICDF(p)$.\n",
    "\n",
    "For example, the CDF of the exponential distribution is $$p = 1 - e^{-\\lambda x}$$ Solving for $x$ yields: $$x = -\\log (1 - p) / \\lambda$$ So in Python we can write"
   ]
  },
  {
   "cell_type": "code",
   "execution_count": 29,
   "id": "3295e3ad",
   "metadata": {},
   "outputs": [
    {
     "data": {
      "application/javascript": [
       "\n",
       "            setTimeout(function() {\n",
       "                var nbb_cell_id = 29;\n",
       "                var nbb_unformatted_code = \"import random\\n\\n\\ndef expovariate(lam):\\n    p = random.random()\\n    x = -np.log(1 - p) / lam\\n    return x\";\n",
       "                var nbb_formatted_code = \"import random\\n\\n\\ndef expovariate(lam):\\n    p = random.random()\\n    x = -np.log(1 - p) / lam\\n    return x\";\n",
       "                var nbb_cells = Jupyter.notebook.get_cells();\n",
       "                for (var i = 0; i < nbb_cells.length; ++i) {\n",
       "                    if (nbb_cells[i].input_prompt_number == nbb_cell_id) {\n",
       "                        if (nbb_cells[i].get_text() == nbb_unformatted_code) {\n",
       "                             nbb_cells[i].set_text(nbb_formatted_code);\n",
       "                        }\n",
       "                        break;\n",
       "                    }\n",
       "                }\n",
       "            }, 500);\n",
       "            "
      ],
      "text/plain": [
       "<IPython.core.display.Javascript object>"
      ]
     },
     "metadata": {},
     "output_type": "display_data"
    }
   ],
   "source": [
    "import random\n",
    "\n",
    "\n",
    "def expovariate(lam):\n",
    "    p = random.random()\n",
    "    x = -np.log(1 - p) / lam\n",
    "    return x"
   ]
  },
  {
   "cell_type": "markdown",
   "id": "0bbbce62",
   "metadata": {},
   "source": [
    "`expovariate` takes `lam` and returns a random value chosen from the exponential distribution with parameter `lam`.\n",
    "\n",
    "Two notes about this implementation: I called the parameter `lam` because `lambda` is a Python keyword.\n",
    "Also, since $\\log 0$ is undefined, we have to be a little careful.\n",
    "The implementation of `random.random` can return 0 but not 1, so $1 - p$ can be 1 but not 0, so `log(1-p)` is always defined."
   ]
  },
  {
   "cell_type": "code",
   "execution_count": 30,
   "id": "b823e8ed",
   "metadata": {},
   "outputs": [
    {
     "data": {
      "application/javascript": [
       "\n",
       "            setTimeout(function() {\n",
       "                var nbb_cell_id = 30;\n",
       "                var nbb_unformatted_code = \"t = [expovariate(lam=2) for _ in range(1000)]\";\n",
       "                var nbb_formatted_code = \"t = [expovariate(lam=2) for _ in range(1000)]\";\n",
       "                var nbb_cells = Jupyter.notebook.get_cells();\n",
       "                for (var i = 0; i < nbb_cells.length; ++i) {\n",
       "                    if (nbb_cells[i].input_prompt_number == nbb_cell_id) {\n",
       "                        if (nbb_cells[i].get_text() == nbb_unformatted_code) {\n",
       "                             nbb_cells[i].set_text(nbb_formatted_code);\n",
       "                        }\n",
       "                        break;\n",
       "                    }\n",
       "                }\n",
       "            }, 500);\n",
       "            "
      ],
      "text/plain": [
       "<IPython.core.display.Javascript object>"
      ]
     },
     "metadata": {},
     "output_type": "display_data"
    }
   ],
   "source": [
    "t = [expovariate(lam=2) for _ in range(1000)]"
   ]
  },
  {
   "cell_type": "code",
   "execution_count": 31,
   "id": "2b671e3d",
   "metadata": {},
   "outputs": [
    {
     "data": {
      "image/png": "[encoded data removed]",
      "text/plain": [
       "<Figure size 640x480 with 1 Axes>"
      ]
     },
     "metadata": {},
     "output_type": "display_data"
    },
    {
     "data": {
      "application/javascript": [
       "\n",
       "            setTimeout(function() {\n",
       "                var nbb_cell_id = 31;\n",
       "                var nbb_unformatted_code = \"cdf = Cdf.from_seq(t)\\n(1 - cdf).plot()\\ndecorate(xlabel=\\\"Exponential variate\\\", ylabel=\\\"CCDF\\\", yscale=\\\"log\\\")\";\n",
       "                var nbb_formatted_code = \"cdf = Cdf.from_seq(t)\\n(1 - cdf).plot()\\ndecorate(xlabel=\\\"Exponential variate\\\", ylabel=\\\"CCDF\\\", yscale=\\\"log\\\")\";\n",
       "                var nbb_cells = Jupyter.notebook.get_cells();\n",
       "                for (var i = 0; i < nbb_cells.length; ++i) {\n",
       "                    if (nbb_cells[i].input_prompt_number == nbb_cell_id) {\n",
       "                        if (nbb_cells[i].get_text() == nbb_unformatted_code) {\n",
       "                             nbb_cells[i].set_text(nbb_formatted_code);\n",
       "                        }\n",
       "                        break;\n",
       "                    }\n",
       "                }\n",
       "            }, 500);\n",
       "            "
      ],
      "text/plain": [
       "<IPython.core.display.Javascript object>"
      ]
     },
     "metadata": {},
     "output_type": "display_data"
    }
   ],
   "source": [
    "cdf = Cdf.from_seq(t)\n",
    "(1 - cdf).plot()\n",
    "decorate(xlabel=\"Exponential variate\", ylabel=\"CCDF\", yscale=\"log\")"
   ]
  },
  {
   "cell_type": "markdown",
   "id": "0f46ee83",
   "metadata": {},
   "source": [
    "## Why model?\n",
    "\n",
    "At the beginning of this chapter, I said that many real world phenomena can be modeled with analytic distributions.\n",
    "\"So,\" you might ask, \"what?\"\n",
    "\n",
    "Like all models, analytic distributions are abstractions, which means they leave out details that are considered irrelevant.\n",
    "For example, an observed distribution might have measurement errors or quirks that are specific to the sample; analytic models smooth out these idiosyncrasies.\n",
    "\n",
    "Analytic models are also a form of data compression.\n",
    "When a model fits a dataset well, a small set of parameters can summarize a large amount of data.\n",
    "\n",
    "It is sometimes surprising when data from a natural phenomenon fit an analytic distribution, but these observations can provide insight into physical systems.\n",
    "Sometimes we can explain why an observed distribution has a particular form.\n",
    "For example, Pareto distributions are often the result of generative processes with positive feedback (so-called preferential attachment processes: see <http://wikipedia.org/wiki/Preferential_attachment>.)."
   ]
  },
  {
   "cell_type": "markdown",
   "id": "439331ea",
   "metadata": {},
   "source": [
    "Also, analytic distributions lend themselves to mathematical analysis, as we will see in Chapter [\\[analysis\\]](#analysis){reference-type=\"ref\" reference=\"analysis\"}.\n",
    "\n",
    "But it is important to remember that all models are imperfect.\n",
    "Data from the real world never fit an analytic distribution perfectly.\n",
    "People sometimes talk as if data are generated by models; for example, they might say that the distribution of human heights is normal, or the distribution of income is lognormal.\n",
    "Taken literally, these claims cannot be true; there are always differences between the real world and mathematical models.\n",
    "\n",
    "Models are useful if they capture the relevant aspects of the real world and leave out unneeded details.\n",
    "But what is \"relevant\" or \"unneeded\" depends on what you are planning to use the model for."
   ]
  },
  {
   "cell_type": "markdown",
   "id": "51b53d8c",
   "metadata": {},
   "source": [
    "A straight line is consistent with an exponential distribution."
   ]
  },
  {
   "cell_type": "markdown",
   "id": "70f3aa6e",
   "metadata": {
    "collapsed": true
   },
   "source": [
    "## Exercises"
   ]
  },
  {
   "cell_type": "markdown",
   "id": "61517a44",
   "metadata": {
    "collapsed": true
   },
   "source": [
    "### Exercise\n",
    "\n",
    "Write a function that generates a Pareto variate.\n",
    "Generate a sample and plot its complementary CDF on a log-log scale.\n",
    "Does it look like a straight line?"
   ]
  },
  {
   "cell_type": "code",
   "execution_count": 32,
   "id": "beedf20a",
   "metadata": {},
   "outputs": [
    {
     "data": {
      "application/javascript": [
       "\n",
       "            setTimeout(function() {\n",
       "                var nbb_cell_id = 32;\n",
       "                var nbb_unformatted_code = \"def sample_pareto(alpha, x_m, size):\\n    u = np.random.random(size)\\n    return x_m * pow(1 - u, -1 / alpha)\";\n",
       "                var nbb_formatted_code = \"def sample_pareto(alpha, x_m, size):\\n    u = np.random.random(size)\\n    return x_m * pow(1 - u, -1 / alpha)\";\n",
       "                var nbb_cells = Jupyter.notebook.get_cells();\n",
       "                for (var i = 0; i < nbb_cells.length; ++i) {\n",
       "                    if (nbb_cells[i].input_prompt_number == nbb_cell_id) {\n",
       "                        if (nbb_cells[i].get_text() == nbb_unformatted_code) {\n",
       "                             nbb_cells[i].set_text(nbb_formatted_code);\n",
       "                        }\n",
       "                        break;\n",
       "                    }\n",
       "                }\n",
       "            }, 500);\n",
       "            "
      ],
      "text/plain": [
       "<IPython.core.display.Javascript object>"
      ]
     },
     "metadata": {},
     "output_type": "display_data"
    }
   ],
   "source": [
    "def sample_pareto(alpha, x_m, size):\n",
    "    u = np.random.random(size)\n",
    "    return x_m * pow(1 - u, -1 / alpha)"
   ]
  },
  {
   "cell_type": "code",
   "execution_count": 33,
   "id": "804a0e61",
   "metadata": {},
   "outputs": [
    {
     "data": {
      "image/png": "[encoded data removed]",
      "text/plain": [
       "<Figure size 640x480 with 1 Axes>"
      ]
     },
     "metadata": {},
     "output_type": "display_data"
    },
    {
     "data": {
      "application/javascript": [
       "\n",
       "            setTimeout(function() {\n",
       "                var nbb_cell_id = 33;\n",
       "                var nbb_unformatted_code = \"sample = sample_pareto(1, 2, 1000)\\ncdf = Cdf.from_seq(sample)\\n(1 - cdf).plot()\\ndecorate(xlabel=\\\"Random values\\\", ylabel=\\\"CCDF\\\", xscale=\\\"log\\\", yscale=\\\"log\\\")\";\n",
       "                var nbb_formatted_code = \"sample = sample_pareto(1, 2, 1000)\\ncdf = Cdf.from_seq(sample)\\n(1 - cdf).plot()\\ndecorate(xlabel=\\\"Random values\\\", ylabel=\\\"CCDF\\\", xscale=\\\"log\\\", yscale=\\\"log\\\")\";\n",
       "                var nbb_cells = Jupyter.notebook.get_cells();\n",
       "                for (var i = 0; i < nbb_cells.length; ++i) {\n",
       "                    if (nbb_cells[i].input_prompt_number == nbb_cell_id) {\n",
       "                        if (nbb_cells[i].get_text() == nbb_unformatted_code) {\n",
       "                             nbb_cells[i].set_text(nbb_formatted_code);\n",
       "                        }\n",
       "                        break;\n",
       "                    }\n",
       "                }\n",
       "            }, 500);\n",
       "            "
      ],
      "text/plain": [
       "<IPython.core.display.Javascript object>"
      ]
     },
     "metadata": {},
     "output_type": "display_data"
    }
   ],
   "source": [
    "sample = sample_pareto(1, 2, 1000)\n",
    "cdf = Cdf.from_seq(sample)\n",
    "(1 - cdf).plot()\n",
    "decorate(xlabel=\"Random values\", ylabel=\"CCDF\", xscale=\"log\", yscale=\"log\")"
   ]
  },
  {
   "cell_type": "markdown",
   "id": "b94c27ad",
   "metadata": {},
   "source": [
    "### Exercise\n",
    "\n",
    "In the BRFSS (see Section 5.4), the distribution of heights is roughly normal with parameters µ = 178 cm and σ = 7.7 cm for men, and µ = 163 cm and σ = 7.3 cm for women.\n",
    "\n",
    "In order to join Blue Man Group, you have to be male between 5’10” and 6’1” (see http://bluemancasting.com).\n",
    "What percentage of the U.S. male population is in this range? Hint: use `scipy.stats.norm.cdf`."
   ]
  },
  {
   "cell_type": "markdown",
   "id": "bcbf98a7",
   "metadata": {},
   "source": [
    "`scipy.stats` contains objects that represent analytic distributions"
   ]
  },
  {
   "cell_type": "code",
   "execution_count": 34,
   "id": "fb20ec1c",
   "metadata": {},
   "outputs": [
    {
     "data": {
      "application/javascript": [
       "\n",
       "            setTimeout(function() {\n",
       "                var nbb_cell_id = 34;\n",
       "                var nbb_unformatted_code = \"import scipy.stats\";\n",
       "                var nbb_formatted_code = \"import scipy.stats\";\n",
       "                var nbb_cells = Jupyter.notebook.get_cells();\n",
       "                for (var i = 0; i < nbb_cells.length; ++i) {\n",
       "                    if (nbb_cells[i].input_prompt_number == nbb_cell_id) {\n",
       "                        if (nbb_cells[i].get_text() == nbb_unformatted_code) {\n",
       "                             nbb_cells[i].set_text(nbb_formatted_code);\n",
       "                        }\n",
       "                        break;\n",
       "                    }\n",
       "                }\n",
       "            }, 500);\n",
       "            "
      ],
      "text/plain": [
       "<IPython.core.display.Javascript object>"
      ]
     },
     "metadata": {},
     "output_type": "display_data"
    }
   ],
   "source": [
    "import scipy.stats"
   ]
  },
  {
   "cell_type": "markdown",
   "id": "7427bcf9",
   "metadata": {},
   "source": [
    "For example <tt>scipy.stats.norm</tt> represents a normal distribution."
   ]
  },
  {
   "cell_type": "code",
   "execution_count": 35,
   "id": "5822d6bf",
   "metadata": {},
   "outputs": [
    {
     "data": {
      "application/javascript": [
       "\n",
       "            setTimeout(function() {\n",
       "                var nbb_cell_id = 35;\n",
       "                var nbb_unformatted_code = \"mu = 178\\nsigma = 7.7\\ndist = scipy.stats.norm(loc=mu, scale=sigma)\";\n",
       "                var nbb_formatted_code = \"mu = 178\\nsigma = 7.7\\ndist = scipy.stats.norm(loc=mu, scale=sigma)\";\n",
       "                var nbb_cells = Jupyter.notebook.get_cells();\n",
       "                for (var i = 0; i < nbb_cells.length; ++i) {\n",
       "                    if (nbb_cells[i].input_prompt_number == nbb_cell_id) {\n",
       "                        if (nbb_cells[i].get_text() == nbb_unformatted_code) {\n",
       "                             nbb_cells[i].set_text(nbb_formatted_code);\n",
       "                        }\n",
       "                        break;\n",
       "                    }\n",
       "                }\n",
       "            }, 500);\n",
       "            "
      ],
      "text/plain": [
       "<IPython.core.display.Javascript object>"
      ]
     },
     "metadata": {},
     "output_type": "display_data"
    }
   ],
   "source": [
    "mu = 178\n",
    "sigma = 7.7\n",
    "dist = scipy.stats.norm(loc=mu, scale=sigma)"
   ]
  },
  {
   "cell_type": "markdown",
   "id": "a08ac2c9",
   "metadata": {},
   "source": [
    "A \"frozen random variable\" can compute its mean and standard deviation."
   ]
  },
  {
   "cell_type": "code",
   "execution_count": 36,
   "id": "004a9632",
   "metadata": {},
   "outputs": [
    {
     "data": {
      "text/plain": [
       "(178.0, 7.7)"
      ]
     },
     "execution_count": 36,
     "metadata": {},
     "output_type": "execute_result"
    },
    {
     "data": {
      "application/javascript": [
       "\n",
       "            setTimeout(function() {\n",
       "                var nbb_cell_id = 36;\n",
       "                var nbb_unformatted_code = \"dist.mean(), dist.std()\";\n",
       "                var nbb_formatted_code = \"dist.mean(), dist.std()\";\n",
       "                var nbb_cells = Jupyter.notebook.get_cells();\n",
       "                for (var i = 0; i < nbb_cells.length; ++i) {\n",
       "                    if (nbb_cells[i].input_prompt_number == nbb_cell_id) {\n",
       "                        if (nbb_cells[i].get_text() == nbb_unformatted_code) {\n",
       "                             nbb_cells[i].set_text(nbb_formatted_code);\n",
       "                        }\n",
       "                        break;\n",
       "                    }\n",
       "                }\n",
       "            }, 500);\n",
       "            "
      ],
      "text/plain": [
       "<IPython.core.display.Javascript object>"
      ]
     },
     "metadata": {},
     "output_type": "display_data"
    }
   ],
   "source": [
    "dist.mean(), dist.std()"
   ]
  },
  {
   "cell_type": "markdown",
   "id": "c2184747",
   "metadata": {},
   "source": [
    "It can also evaluate its CDF.\n",
    "How many people are below the mean by more than one standard deviation?  About 16%"
   ]
  },
  {
   "cell_type": "code",
   "execution_count": 37,
   "id": "23061ba2",
   "metadata": {},
   "outputs": [
    {
     "data": {
      "text/plain": [
       "0.1586552539314574"
      ]
     },
     "execution_count": 37,
     "metadata": {},
     "output_type": "execute_result"
    },
    {
     "data": {
      "application/javascript": [
       "\n",
       "            setTimeout(function() {\n",
       "                var nbb_cell_id = 37;\n",
       "                var nbb_unformatted_code = \"dist.cdf(mu - sigma)\";\n",
       "                var nbb_formatted_code = \"dist.cdf(mu - sigma)\";\n",
       "                var nbb_cells = Jupyter.notebook.get_cells();\n",
       "                for (var i = 0; i < nbb_cells.length; ++i) {\n",
       "                    if (nbb_cells[i].input_prompt_number == nbb_cell_id) {\n",
       "                        if (nbb_cells[i].get_text() == nbb_unformatted_code) {\n",
       "                             nbb_cells[i].set_text(nbb_formatted_code);\n",
       "                        }\n",
       "                        break;\n",
       "                    }\n",
       "                }\n",
       "            }, 500);\n",
       "            "
      ],
      "text/plain": [
       "<IPython.core.display.Javascript object>"
      ]
     },
     "metadata": {},
     "output_type": "display_data"
    }
   ],
   "source": [
    "dist.cdf(mu - sigma)"
   ]
  },
  {
   "cell_type": "markdown",
   "id": "563681fa",
   "metadata": {},
   "source": [
    "How many people are between 5'10\" and 6'1\"?"
   ]
  },
  {
   "cell_type": "code",
   "execution_count": 38,
   "id": "f295ffc8",
   "metadata": {},
   "outputs": [
    {
     "data": {
      "text/plain": [
       "(0.48963902786483265, 0.8317337108107857, 0.3420946829459531)"
      ]
     },
     "execution_count": 38,
     "metadata": {},
     "output_type": "execute_result"
    },
    {
     "data": {
      "application/javascript": [
       "\n",
       "            setTimeout(function() {\n",
       "                var nbb_cell_id = 38;\n",
       "                var nbb_unformatted_code = \"low = dist.cdf(177.8)\\nhigh = dist.cdf(185.4)\\nlow, high, high - low\";\n",
       "                var nbb_formatted_code = \"low = dist.cdf(177.8)\\nhigh = dist.cdf(185.4)\\nlow, high, high - low\";\n",
       "                var nbb_cells = Jupyter.notebook.get_cells();\n",
       "                for (var i = 0; i < nbb_cells.length; ++i) {\n",
       "                    if (nbb_cells[i].input_prompt_number == nbb_cell_id) {\n",
       "                        if (nbb_cells[i].get_text() == nbb_unformatted_code) {\n",
       "                             nbb_cells[i].set_text(nbb_formatted_code);\n",
       "                        }\n",
       "                        break;\n",
       "                    }\n",
       "                }\n",
       "            }, 500);\n",
       "            "
      ],
      "text/plain": [
       "<IPython.core.display.Javascript object>"
      ]
     },
     "metadata": {},
     "output_type": "display_data"
    }
   ],
   "source": [
    "low = dist.cdf(177.8)\n",
    "high = dist.cdf(185.4)\n",
    "low, high, high - low"
   ]
  },
  {
   "cell_type": "markdown",
   "id": "c8d839c1",
   "metadata": {},
   "source": [
    "### Exercise\n",
    "\n",
    "To get a feel for the Pareto distribution, let's see how different the world would be if the distribution of human height were Pareto.\n",
    "With the parameters xm = 1 m and α = 1.7, we get a distribution with a reasonable minimum, 1 m, and median, 1.5 m.\n",
    "\n",
    "Plot this distribution.\n",
    "What is the mean human height in Pareto world? What fraction of the population is shorter than the mean? If there are 7 billion people in Pareto world, how many do we expect to be taller than 1 km? How tall do we expect the tallest person to be?\n",
    "\n",
    "`scipy.stats.pareto` represents a Pareto distribution.\n",
    "In Pareto world, the distribution of human heights has parameters alpha=1.7 and xmin=1 meter.\n",
    "So the shortest person is 100 cm and the median is 150."
   ]
  },
  {
   "cell_type": "code",
   "execution_count": 39,
   "id": "b7f180dd",
   "metadata": {},
   "outputs": [
    {
     "data": {
      "text/plain": [
       "1.5034066538560549"
      ]
     },
     "execution_count": 39,
     "metadata": {},
     "output_type": "execute_result"
    },
    {
     "data": {
      "application/javascript": [
       "\n",
       "            setTimeout(function() {\n",
       "                var nbb_cell_id = 39;\n",
       "                var nbb_unformatted_code = \"alpha = 1.7\\nxmin = 1\\ndist = scipy.stats.pareto(b=alpha, scale=xmin)\\ndist.median()\";\n",
       "                var nbb_formatted_code = \"alpha = 1.7\\nxmin = 1\\ndist = scipy.stats.pareto(b=alpha, scale=xmin)\\ndist.median()\";\n",
       "                var nbb_cells = Jupyter.notebook.get_cells();\n",
       "                for (var i = 0; i < nbb_cells.length; ++i) {\n",
       "                    if (nbb_cells[i].input_prompt_number == nbb_cell_id) {\n",
       "                        if (nbb_cells[i].get_text() == nbb_unformatted_code) {\n",
       "                             nbb_cells[i].set_text(nbb_formatted_code);\n",
       "                        }\n",
       "                        break;\n",
       "                    }\n",
       "                }\n",
       "            }, 500);\n",
       "            "
      ],
      "text/plain": [
       "<IPython.core.display.Javascript object>"
      ]
     },
     "metadata": {},
     "output_type": "display_data"
    }
   ],
   "source": [
    "alpha = 1.7\n",
    "xmin = 1\n",
    "dist = scipy.stats.pareto(b=alpha, scale=xmin)\n",
    "dist.median()"
   ]
  },
  {
   "cell_type": "markdown",
   "id": "b2cd55ea",
   "metadata": {},
   "source": [
    "What is the mean height in Pareto world?"
   ]
  },
  {
   "cell_type": "code",
   "execution_count": 40,
   "id": "4d6c3f98",
   "metadata": {},
   "outputs": [
    {
     "data": {
      "text/plain": [
       "2.428571428571429"
      ]
     },
     "execution_count": 40,
     "metadata": {},
     "output_type": "execute_result"
    },
    {
     "data": {
      "application/javascript": [
       "\n",
       "            setTimeout(function() {\n",
       "                var nbb_cell_id = 40;\n",
       "                var nbb_unformatted_code = \"dist.mean()\";\n",
       "                var nbb_formatted_code = \"dist.mean()\";\n",
       "                var nbb_cells = Jupyter.notebook.get_cells();\n",
       "                for (var i = 0; i < nbb_cells.length; ++i) {\n",
       "                    if (nbb_cells[i].input_prompt_number == nbb_cell_id) {\n",
       "                        if (nbb_cells[i].get_text() == nbb_unformatted_code) {\n",
       "                             nbb_cells[i].set_text(nbb_formatted_code);\n",
       "                        }\n",
       "                        break;\n",
       "                    }\n",
       "                }\n",
       "            }, 500);\n",
       "            "
      ],
      "text/plain": [
       "<IPython.core.display.Javascript object>"
      ]
     },
     "metadata": {},
     "output_type": "display_data"
    }
   ],
   "source": [
    "dist.mean()"
   ]
  },
  {
   "cell_type": "markdown",
   "id": "59cb3e1d",
   "metadata": {},
   "source": [
    "What fraction of people are shorter than the mean?"
   ]
  },
  {
   "cell_type": "code",
   "execution_count": 41,
   "id": "96491bae",
   "metadata": {},
   "outputs": [
    {
     "data": {
      "text/plain": [
       "0.778739697565288"
      ]
     },
     "execution_count": 41,
     "metadata": {},
     "output_type": "execute_result"
    },
    {
     "data": {
      "application/javascript": [
       "\n",
       "            setTimeout(function() {\n",
       "                var nbb_cell_id = 41;\n",
       "                var nbb_unformatted_code = \"dist.cdf(dist.mean())\";\n",
       "                var nbb_formatted_code = \"dist.cdf(dist.mean())\";\n",
       "                var nbb_cells = Jupyter.notebook.get_cells();\n",
       "                for (var i = 0; i < nbb_cells.length; ++i) {\n",
       "                    if (nbb_cells[i].input_prompt_number == nbb_cell_id) {\n",
       "                        if (nbb_cells[i].get_text() == nbb_unformatted_code) {\n",
       "                             nbb_cells[i].set_text(nbb_formatted_code);\n",
       "                        }\n",
       "                        break;\n",
       "                    }\n",
       "                }\n",
       "            }, 500);\n",
       "            "
      ],
      "text/plain": [
       "<IPython.core.display.Javascript object>"
      ]
     },
     "metadata": {},
     "output_type": "display_data"
    }
   ],
   "source": [
    "dist.cdf(dist.mean())"
   ]
  },
  {
   "cell_type": "markdown",
   "id": "1baadb33",
   "metadata": {},
   "source": [
    "Out of 7 billion people, how many do we expect to be taller than 1 km?  You could use <tt>dist.cdf</tt> or <tt>dist.sf</tt>."
   ]
  },
  {
   "cell_type": "code",
   "execution_count": 42,
   "id": "689b2a73",
   "metadata": {},
   "outputs": [
    {
     "data": {
      "text/plain": [
       "(55602.976430479954, 55602.97643069972)"
      ]
     },
     "execution_count": 42,
     "metadata": {},
     "output_type": "execute_result"
    },
    {
     "data": {
      "application/javascript": [
       "\n",
       "            setTimeout(function() {\n",
       "                var nbb_cell_id = 42;\n",
       "                var nbb_unformatted_code = \"(1 - dist.cdf(1000)) * 7000000000.0, dist.sf(1000) * 7000000000.0\";\n",
       "                var nbb_formatted_code = \"(1 - dist.cdf(1000)) * 7000000000.0, dist.sf(1000) * 7000000000.0\";\n",
       "                var nbb_cells = Jupyter.notebook.get_cells();\n",
       "                for (var i = 0; i < nbb_cells.length; ++i) {\n",
       "                    if (nbb_cells[i].input_prompt_number == nbb_cell_id) {\n",
       "                        if (nbb_cells[i].get_text() == nbb_unformatted_code) {\n",
       "                             nbb_cells[i].set_text(nbb_formatted_code);\n",
       "                        }\n",
       "                        break;\n",
       "                    }\n",
       "                }\n",
       "            }, 500);\n",
       "            "
      ],
      "text/plain": [
       "<IPython.core.display.Javascript object>"
      ]
     },
     "metadata": {},
     "output_type": "display_data"
    }
   ],
   "source": [
    "(1 - dist.cdf(1000)) * 7000000000.0, dist.sf(1000) * 7000000000.0"
   ]
  },
  {
   "cell_type": "markdown",
   "id": "2a15aa58",
   "metadata": {},
   "source": [
    "How tall do we expect the tallest person to be?"
   ]
  },
  {
   "cell_type": "code",
   "execution_count": 43,
   "id": "d4c41e5a",
   "metadata": {},
   "outputs": [
    {
     "data": {
      "text/plain": [
       "1.0525455861201714"
      ]
     },
     "execution_count": 43,
     "metadata": {},
     "output_type": "execute_result"
    },
    {
     "data": {
      "application/javascript": [
       "\n",
       "            setTimeout(function() {\n",
       "                var nbb_cell_id = 43;\n",
       "                var nbb_unformatted_code = \"dist.sf(600000) * 7000000000.0\";\n",
       "                var nbb_formatted_code = \"dist.sf(600000) * 7000000000.0\";\n",
       "                var nbb_cells = Jupyter.notebook.get_cells();\n",
       "                for (var i = 0; i < nbb_cells.length; ++i) {\n",
       "                    if (nbb_cells[i].input_prompt_number == nbb_cell_id) {\n",
       "                        if (nbb_cells[i].get_text() == nbb_unformatted_code) {\n",
       "                             nbb_cells[i].set_text(nbb_formatted_code);\n",
       "                        }\n",
       "                        break;\n",
       "                    }\n",
       "                }\n",
       "            }, 500);\n",
       "            "
      ],
      "text/plain": [
       "<IPython.core.display.Javascript object>"
      ]
     },
     "metadata": {},
     "output_type": "display_data"
    }
   ],
   "source": [
    "dist.sf(600000) * 7000000000.0"
   ]
  },
  {
   "cell_type": "code",
   "execution_count": 44,
   "id": "e8f4c5fb",
   "metadata": {},
   "outputs": [
    {
     "data": {
      "text/plain": [
       "618349.6106759505"
      ]
     },
     "execution_count": 44,
     "metadata": {},
     "output_type": "execute_result"
    },
    {
     "data": {
      "application/javascript": [
       "\n",
       "            setTimeout(function() {\n",
       "                var nbb_cell_id = 44;\n",
       "                var nbb_unformatted_code = \"dist.ppf(1 - 1 / 7000000000.0)\";\n",
       "                var nbb_formatted_code = \"dist.ppf(1 - 1 / 7000000000.0)\";\n",
       "                var nbb_cells = Jupyter.notebook.get_cells();\n",
       "                for (var i = 0; i < nbb_cells.length; ++i) {\n",
       "                    if (nbb_cells[i].input_prompt_number == nbb_cell_id) {\n",
       "                        if (nbb_cells[i].get_text() == nbb_unformatted_code) {\n",
       "                             nbb_cells[i].set_text(nbb_formatted_code);\n",
       "                        }\n",
       "                        break;\n",
       "                    }\n",
       "                }\n",
       "            }, 500);\n",
       "            "
      ],
      "text/plain": [
       "<IPython.core.display.Javascript object>"
      ]
     },
     "metadata": {},
     "output_type": "display_data"
    }
   ],
   "source": [
    "dist.ppf(1 - 1 / 7000000000.0)"
   ]
  },
  {
   "cell_type": "markdown",
   "id": "235c3943",
   "metadata": {},
   "source": [
    "### Exercise\n",
    "\n",
    "The Weibull distribution is a generalization of the exponential distribution that comes up in failure analysis (see http://wikipedia.org/wiki/Weibull_distribution).\n",
    "Its CDF is\n",
    "\n",
    "$\\mathrm{CDF}(x) = 1 − \\exp[−(x / λ)^k]$ \n",
    "\n",
    "Can you find a transformation that makes a Weibull distribution look like a straight line? What do the slope and intercept of the line indicate?\n",
    "\n",
    "Use `random.weibullvariate` to generate a sample from a Weibull distribution and use it to test your transformation.\n",
    "\n",
    "Generate a sample from a Weibull distribution and plot it using a transform that makes a Weibull distribution look like a straight line."
   ]
  },
  {
   "cell_type": "markdown",
   "id": "eb527fb9",
   "metadata": {},
   "source": [
    "Here's an example that shows how it's used."
   ]
  },
  {
   "cell_type": "code",
   "execution_count": 45,
   "id": "e829427c",
   "metadata": {},
   "outputs": [
    {
     "data": {
      "application/javascript": [
       "\n",
       "            setTimeout(function() {\n",
       "                var nbb_cell_id = 45;\n",
       "                var nbb_unformatted_code = \"# TODO: implement the Weibull transform\";\n",
       "                var nbb_formatted_code = \"# TODO: implement the Weibull transform\";\n",
       "                var nbb_cells = Jupyter.notebook.get_cells();\n",
       "                for (var i = 0; i < nbb_cells.length; ++i) {\n",
       "                    if (nbb_cells[i].input_prompt_number == nbb_cell_id) {\n",
       "                        if (nbb_cells[i].get_text() == nbb_unformatted_code) {\n",
       "                             nbb_cells[i].set_text(nbb_formatted_code);\n",
       "                        }\n",
       "                        break;\n",
       "                    }\n",
       "                }\n",
       "            }, 500);\n",
       "            "
      ],
      "text/plain": [
       "<IPython.core.display.Javascript object>"
      ]
     },
     "metadata": {},
     "output_type": "display_data"
    }
   ],
   "source": [
    "# TODO: implement the Weibull transform"
   ]
  },
  {
   "cell_type": "code",
   "execution_count": 46,
   "id": "9e2083fc",
   "metadata": {},
   "outputs": [
    {
     "data": {
      "image/png": "[encoded data removed]",
      "text/plain": [
       "<Figure size 640x480 with 1 Axes>"
      ]
     },
     "metadata": {},
     "output_type": "display_data"
    },
    {
     "data": {
      "application/javascript": [
       "\n",
       "            setTimeout(function() {\n",
       "                var nbb_cell_id = 46;\n",
       "                var nbb_unformatted_code = \"sample = [random.weibullvariate(2, 1) for _ in range(1000)]\\ncdf = Cdf.from_seq(sample)\\ncdf.plot()\\ndecorate(xlabel=\\\"Weibull variate\\\", ylabel=\\\"CCDF\\\", xscale=\\\"log\\\", yscale=\\\"log\\\")\";\n",
       "                var nbb_formatted_code = \"sample = [random.weibullvariate(2, 1) for _ in range(1000)]\\ncdf = Cdf.from_seq(sample)\\ncdf.plot()\\ndecorate(xlabel=\\\"Weibull variate\\\", ylabel=\\\"CCDF\\\", xscale=\\\"log\\\", yscale=\\\"log\\\")\";\n",
       "                var nbb_cells = Jupyter.notebook.get_cells();\n",
       "                for (var i = 0; i < nbb_cells.length; ++i) {\n",
       "                    if (nbb_cells[i].input_prompt_number == nbb_cell_id) {\n",
       "                        if (nbb_cells[i].get_text() == nbb_unformatted_code) {\n",
       "                             nbb_cells[i].set_text(nbb_formatted_code);\n",
       "                        }\n",
       "                        break;\n",
       "                    }\n",
       "                }\n",
       "            }, 500);\n",
       "            "
      ],
      "text/plain": [
       "<IPython.core.display.Javascript object>"
      ]
     },
     "metadata": {},
     "output_type": "display_data"
    }
   ],
   "source": [
    "sample = [random.weibullvariate(2, 1) for _ in range(1000)]\n",
    "cdf = Cdf.from_seq(sample)\n",
    "cdf.plot()\n",
    "decorate(xlabel=\"Weibull variate\", ylabel=\"CCDF\", xscale=\"log\", yscale=\"log\")"
   ]
  },
  {
   "cell_type": "markdown",
   "id": "4cdfaaec",
   "metadata": {},
   "source": [
    "### Exercise\n",
    "\n",
    "For small values of `n`, we don’t expect an empirical distribution to fit an analytic distribution exactly.\n",
    "One way to evaluate the quality of fit is to generate a sample from an analytic distribution and see how well it matches the data.\n",
    "\n",
    "For example, in Section 5.1 we plotted the distribution of time between births and saw that it is approximately exponential.\n",
    "But the distribution is based on only 44 data points.\n",
    "To see whether the data might have come from an exponential distribution, generate 44 values from an exponential distribution with the same mean as the data, about 33 minutes between births.\n",
    "\n",
    "Plot the distribution of the random values and compare it to the actual distribution.\n",
    "You can use random.expovariate to generate the values."
   ]
  },
  {
   "cell_type": "code",
   "execution_count": 47,
   "id": "3fe7463e",
   "metadata": {},
   "outputs": [
    {
     "data": {
      "application/javascript": [
       "\n",
       "            setTimeout(function() {\n",
       "                var nbb_cell_id = 47;\n",
       "                var nbb_unformatted_code = \"df = read_baby_boom()\\ndiffs = df.minutes.diff()\\ncdf_diffs = Cdf.from_seq(diffs, name=\\\"actual\\\")\";\n",
       "                var nbb_formatted_code = \"df = read_baby_boom()\\ndiffs = df.minutes.diff()\\ncdf_diffs = Cdf.from_seq(diffs, name=\\\"actual\\\")\";\n",
       "                var nbb_cells = Jupyter.notebook.get_cells();\n",
       "                for (var i = 0; i < nbb_cells.length; ++i) {\n",
       "                    if (nbb_cells[i].input_prompt_number == nbb_cell_id) {\n",
       "                        if (nbb_cells[i].get_text() == nbb_unformatted_code) {\n",
       "                             nbb_cells[i].set_text(nbb_formatted_code);\n",
       "                        }\n",
       "                        break;\n",
       "                    }\n",
       "                }\n",
       "            }, 500);\n",
       "            "
      ],
      "text/plain": [
       "<IPython.core.display.Javascript object>"
      ]
     },
     "metadata": {},
     "output_type": "display_data"
    }
   ],
   "source": [
    "df = read_baby_boom()\n",
    "diffs = df.minutes.diff()\n",
    "cdf_diffs = Cdf.from_seq(diffs, name=\"actual\")"
   ]
  },
  {
   "cell_type": "code",
   "execution_count": 48,
   "id": "9955fd76",
   "metadata": {},
   "outputs": [
    {
     "data": {
      "text/plain": [
       "(32.72727272727273, 40.85751680004956)"
      ]
     },
     "execution_count": 48,
     "metadata": {},
     "output_type": "execute_result"
    },
    {
     "data": {
      "application/javascript": [
       "\n",
       "            setTimeout(function() {\n",
       "                var nbb_cell_id = 48;\n",
       "                var nbb_unformatted_code = \"n = len(diffs)\\nlam = 44.0 / 24 / 60\\nsample = [random.expovariate(lam) for _ in range(n)]\\n1 / lam, np.mean(sample)\";\n",
       "                var nbb_formatted_code = \"n = len(diffs)\\nlam = 44.0 / 24 / 60\\nsample = [random.expovariate(lam) for _ in range(n)]\\n1 / lam, np.mean(sample)\";\n",
       "                var nbb_cells = Jupyter.notebook.get_cells();\n",
       "                for (var i = 0; i < nbb_cells.length; ++i) {\n",
       "                    if (nbb_cells[i].input_prompt_number == nbb_cell_id) {\n",
       "                        if (nbb_cells[i].get_text() == nbb_unformatted_code) {\n",
       "                             nbb_cells[i].set_text(nbb_formatted_code);\n",
       "                        }\n",
       "                        break;\n",
       "                    }\n",
       "                }\n",
       "            }, 500);\n",
       "            "
      ],
      "text/plain": [
       "<IPython.core.display.Javascript object>"
      ]
     },
     "metadata": {},
     "output_type": "display_data"
    }
   ],
   "source": [
    "n = len(diffs)\n",
    "lam = 44.0 / 24 / 60\n",
    "sample = [random.expovariate(lam) for _ in range(n)]\n",
    "1 / lam, np.mean(sample)"
   ]
  },
  {
   "cell_type": "code",
   "execution_count": 49,
   "id": "d87ab62b",
   "metadata": {},
   "outputs": [
    {
     "data": {
      "application/javascript": [
       "\n",
       "            setTimeout(function() {\n",
       "                var nbb_cell_id = 49;\n",
       "                var nbb_unformatted_code = \"model = Cdf.from_seq(sample, name=\\\"model\\\")\";\n",
       "                var nbb_formatted_code = \"model = Cdf.from_seq(sample, name=\\\"model\\\")\";\n",
       "                var nbb_cells = Jupyter.notebook.get_cells();\n",
       "                for (var i = 0; i < nbb_cells.length; ++i) {\n",
       "                    if (nbb_cells[i].input_prompt_number == nbb_cell_id) {\n",
       "                        if (nbb_cells[i].get_text() == nbb_unformatted_code) {\n",
       "                             nbb_cells[i].set_text(nbb_formatted_code);\n",
       "                        }\n",
       "                        break;\n",
       "                    }\n",
       "                }\n",
       "            }, 500);\n",
       "            "
      ],
      "text/plain": [
       "<IPython.core.display.Javascript object>"
      ]
     },
     "metadata": {},
     "output_type": "display_data"
    }
   ],
   "source": [
    "model = Cdf.from_seq(sample, name=\"model\")"
   ]
  },
  {
   "cell_type": "code",
   "execution_count": 50,
   "id": "9dacaba8",
   "metadata": {},
   "outputs": [
    {
     "data": {
      "image/png": "[encoded data removed]",
      "text/plain": [
       "<Figure size 640x480 with 1 Axes>"
      ]
     },
     "metadata": {},
     "output_type": "display_data"
    },
    {
     "data": {
      "application/javascript": [
       "\n",
       "            setTimeout(function() {\n",
       "                var nbb_cell_id = 50;\n",
       "                var nbb_unformatted_code = \"(1 - model).plot()\\n(1 - cdf_diffs).plot()\\ndecorate(xlabel=\\\"Time between births (minutes)\\\", ylabel=\\\"CCDF\\\", yscale=\\\"log\\\")\";\n",
       "                var nbb_formatted_code = \"(1 - model).plot()\\n(1 - cdf_diffs).plot()\\ndecorate(xlabel=\\\"Time between births (minutes)\\\", ylabel=\\\"CCDF\\\", yscale=\\\"log\\\")\";\n",
       "                var nbb_cells = Jupyter.notebook.get_cells();\n",
       "                for (var i = 0; i < nbb_cells.length; ++i) {\n",
       "                    if (nbb_cells[i].input_prompt_number == nbb_cell_id) {\n",
       "                        if (nbb_cells[i].get_text() == nbb_unformatted_code) {\n",
       "                             nbb_cells[i].set_text(nbb_formatted_code);\n",
       "                        }\n",
       "                        break;\n",
       "                    }\n",
       "                }\n",
       "            }, 500);\n",
       "            "
      ],
      "text/plain": [
       "<IPython.core.display.Javascript object>"
      ]
     },
     "metadata": {},
     "output_type": "display_data"
    }
   ],
   "source": [
    "(1 - model).plot()\n",
    "(1 - cdf_diffs).plot()\n",
    "decorate(xlabel=\"Time between births (minutes)\", ylabel=\"CCDF\", yscale=\"log\")"
   ]
  },
  {
   "cell_type": "code",
   "execution_count": 51,
   "id": "48885ea5",
   "metadata": {},
   "outputs": [
    {
     "data": {
      "image/png": "[encoded data removed]",
      "text/plain": [
       "<Figure size 640x480 with 1 Axes>"
      ]
     },
     "metadata": {},
     "output_type": "display_data"
    },
    {
     "data": {
      "application/javascript": [
       "\n",
       "            setTimeout(function() {\n",
       "                var nbb_cell_id = 51;\n",
       "                var nbb_unformatted_code = \"for i in range(100):\\n    sample = [random.expovariate(lam) for _ in range(n)]\\n    cdf = Cdf.from_seq(sample, name=\\\"\\\")\\n    (1 - cdf).plot(color=\\\"0.9\\\")\\n(1 - cdf_diffs).plot()\\ndecorate(xlabel=\\\"Time between births (minutes)\\\", ylabel=\\\"CCDF\\\", yscale=\\\"log\\\")\";\n",
       "                var nbb_formatted_code = \"for i in range(100):\\n    sample = [random.expovariate(lam) for _ in range(n)]\\n    cdf = Cdf.from_seq(sample, name=\\\"\\\")\\n    (1 - cdf).plot(color=\\\"0.9\\\")\\n(1 - cdf_diffs).plot()\\ndecorate(xlabel=\\\"Time between births (minutes)\\\", ylabel=\\\"CCDF\\\", yscale=\\\"log\\\")\";\n",
       "                var nbb_cells = Jupyter.notebook.get_cells();\n",
       "                for (var i = 0; i < nbb_cells.length; ++i) {\n",
       "                    if (nbb_cells[i].input_prompt_number == nbb_cell_id) {\n",
       "                        if (nbb_cells[i].get_text() == nbb_unformatted_code) {\n",
       "                             nbb_cells[i].set_text(nbb_formatted_code);\n",
       "                        }\n",
       "                        break;\n",
       "                    }\n",
       "                }\n",
       "            }, 500);\n",
       "            "
      ],
      "text/plain": [
       "<IPython.core.display.Javascript object>"
      ]
     },
     "metadata": {},
     "output_type": "display_data"
    }
   ],
   "source": [
    "for i in range(100):\n",
    "    sample = [random.expovariate(lam) for _ in range(n)]\n",
    "    cdf = Cdf.from_seq(sample, name=\"\")\n",
    "    (1 - cdf).plot(color=\"0.9\")\n",
    "(1 - cdf_diffs).plot()\n",
    "decorate(xlabel=\"Time between births (minutes)\", ylabel=\"CCDF\", yscale=\"log\")"
   ]
  },
  {
   "cell_type": "markdown",
   "id": "0e6d2633",
   "metadata": {},
   "source": [
    "**Bonus Example:** The distributions of wealth and income are sometimes modeled using lognormal and Pareto distributions.\n",
    "To see which is better, let’s look at some data.\n",
    "\n",
    "The Current Population Survey (CPS) is a joint effort of the Bureau of Labor Statistics and the Census Bureau to study income and related variables.\n",
    "Data collected in 2013 is available from http://www.census.gov/hhes/www/cpstables/032013/hhinc/toc.htm.\n",
    "I downloaded `hinc06.xls`, which is an Excel spreadsheet with information about household income, and converted it to `hinc06.csv`, a CSV file you will find in the repository for this book.\n",
    "You will also find `hinc.py`, which reads this file.\n",
    "\n",
    "Extract the distribution of incomes from this dataset.\n",
    "Are any of the analytic distributions in this chapter a good model of the data?"
   ]
  },
  {
   "cell_type": "code",
   "execution_count": 52,
   "id": "ad2e597a",
   "metadata": {},
   "outputs": [
    {
     "data": {
      "application/javascript": [
       "\n",
       "            setTimeout(function() {\n",
       "                var nbb_cell_id = 52;\n",
       "                var nbb_unformatted_code = \"download(\\\"https://github.com/AllenDowney/ThinkStats/raw/v3/nb/hinc.py\\\")\\ndownload(\\\"https://github.com/AllenDowney/ThinkStats/raw/v3/data/hinc06.csv\\\")\";\n",
       "                var nbb_formatted_code = \"download(\\\"https://github.com/AllenDowney/ThinkStats/raw/v3/nb/hinc.py\\\")\\ndownload(\\\"https://github.com/AllenDowney/ThinkStats/raw/v3/data/hinc06.csv\\\")\";\n",
       "                var nbb_cells = Jupyter.notebook.get_cells();\n",
       "                for (var i = 0; i < nbb_cells.length; ++i) {\n",
       "                    if (nbb_cells[i].input_prompt_number == nbb_cell_id) {\n",
       "                        if (nbb_cells[i].get_text() == nbb_unformatted_code) {\n",
       "                             nbb_cells[i].set_text(nbb_formatted_code);\n",
       "                        }\n",
       "                        break;\n",
       "                    }\n",
       "                }\n",
       "            }, 500);\n",
       "            "
      ],
      "text/plain": [
       "<IPython.core.display.Javascript object>"
      ]
     },
     "metadata": {},
     "output_type": "display_data"
    }
   ],
   "source": [
    "download(\"https://github.com/AllenDowney/ThinkStats/raw/v3/nb/hinc.py\")\n",
    "download(\"https://github.com/AllenDowney/ThinkStats/raw/v3/data/hinc06.csv\")"
   ]
  },
  {
   "cell_type": "code",
   "execution_count": 53,
   "id": "6461d780",
   "metadata": {},
   "outputs": [
    {
     "data": {
      "text/html": [
       "<div>\n",
       "<style scoped>\n",
       "    .dataframe tbody tr th:only-of-type {\n",
       "        vertical-align: middle;\n",
       "    }\n",
       "\n",
       "    .dataframe tbody tr th {\n",
       "        vertical-align: top;\n",
       "    }\n",
       "\n",
       "    .dataframe thead th {\n",
       "        text-align: right;\n",
       "    }\n",
       "</style>\n",
       "<table border=\"1\" class=\"dataframe\">\n",
       "  <thead>\n",
       "    <tr style=\"text-align: right;\">\n",
       "      <th></th>\n",
       "      <th>income</th>\n",
       "      <th>freq</th>\n",
       "      <th>cumsum</th>\n",
       "      <th>ps</th>\n",
       "    </tr>\n",
       "  </thead>\n",
       "  <tbody>\n",
       "    <tr>\n",
       "      <th>0</th>\n",
       "      <td>4999.0</td>\n",
       "      <td>4204</td>\n",
       "      <td>4204</td>\n",
       "      <td>0.034330</td>\n",
       "    </tr>\n",
       "    <tr>\n",
       "      <th>1</th>\n",
       "      <td>9999.0</td>\n",
       "      <td>4729</td>\n",
       "      <td>8933</td>\n",
       "      <td>0.072947</td>\n",
       "    </tr>\n",
       "    <tr>\n",
       "      <th>2</th>\n",
       "      <td>14999.0</td>\n",
       "      <td>6982</td>\n",
       "      <td>15915</td>\n",
       "      <td>0.129963</td>\n",
       "    </tr>\n",
       "    <tr>\n",
       "      <th>3</th>\n",
       "      <td>19999.0</td>\n",
       "      <td>7157</td>\n",
       "      <td>23072</td>\n",
       "      <td>0.188407</td>\n",
       "    </tr>\n",
       "    <tr>\n",
       "      <th>4</th>\n",
       "      <td>24999.0</td>\n",
       "      <td>7131</td>\n",
       "      <td>30203</td>\n",
       "      <td>0.246640</td>\n",
       "    </tr>\n",
       "    <tr>\n",
       "      <th>5</th>\n",
       "      <td>29999.0</td>\n",
       "      <td>6740</td>\n",
       "      <td>36943</td>\n",
       "      <td>0.301679</td>\n",
       "    </tr>\n",
       "    <tr>\n",
       "      <th>6</th>\n",
       "      <td>34999.0</td>\n",
       "      <td>6354</td>\n",
       "      <td>43297</td>\n",
       "      <td>0.353566</td>\n",
       "    </tr>\n",
       "    <tr>\n",
       "      <th>7</th>\n",
       "      <td>39999.0</td>\n",
       "      <td>5832</td>\n",
       "      <td>49129</td>\n",
       "      <td>0.401191</td>\n",
       "    </tr>\n",
       "    <tr>\n",
       "      <th>8</th>\n",
       "      <td>44999.0</td>\n",
       "      <td>5547</td>\n",
       "      <td>54676</td>\n",
       "      <td>0.446488</td>\n",
       "    </tr>\n",
       "    <tr>\n",
       "      <th>9</th>\n",
       "      <td>49999.0</td>\n",
       "      <td>5254</td>\n",
       "      <td>59930</td>\n",
       "      <td>0.489392</td>\n",
       "    </tr>\n",
       "    <tr>\n",
       "      <th>10</th>\n",
       "      <td>54999.0</td>\n",
       "      <td>5102</td>\n",
       "      <td>65032</td>\n",
       "      <td>0.531056</td>\n",
       "    </tr>\n",
       "    <tr>\n",
       "      <th>11</th>\n",
       "      <td>59999.0</td>\n",
       "      <td>4256</td>\n",
       "      <td>69288</td>\n",
       "      <td>0.565810</td>\n",
       "    </tr>\n",
       "    <tr>\n",
       "      <th>12</th>\n",
       "      <td>64999.0</td>\n",
       "      <td>4356</td>\n",
       "      <td>73644</td>\n",
       "      <td>0.601382</td>\n",
       "    </tr>\n",
       "    <tr>\n",
       "      <th>13</th>\n",
       "      <td>69999.0</td>\n",
       "      <td>3949</td>\n",
       "      <td>77593</td>\n",
       "      <td>0.633629</td>\n",
       "    </tr>\n",
       "    <tr>\n",
       "      <th>14</th>\n",
       "      <td>74999.0</td>\n",
       "      <td>3756</td>\n",
       "      <td>81349</td>\n",
       "      <td>0.664301</td>\n",
       "    </tr>\n",
       "    <tr>\n",
       "      <th>15</th>\n",
       "      <td>79999.0</td>\n",
       "      <td>3414</td>\n",
       "      <td>84763</td>\n",
       "      <td>0.692180</td>\n",
       "    </tr>\n",
       "    <tr>\n",
       "      <th>16</th>\n",
       "      <td>84999.0</td>\n",
       "      <td>3326</td>\n",
       "      <td>88089</td>\n",
       "      <td>0.719341</td>\n",
       "    </tr>\n",
       "    <tr>\n",
       "      <th>17</th>\n",
       "      <td>89999.0</td>\n",
       "      <td>2643</td>\n",
       "      <td>90732</td>\n",
       "      <td>0.740923</td>\n",
       "    </tr>\n",
       "    <tr>\n",
       "      <th>18</th>\n",
       "      <td>94999.0</td>\n",
       "      <td>2678</td>\n",
       "      <td>93410</td>\n",
       "      <td>0.762792</td>\n",
       "    </tr>\n",
       "    <tr>\n",
       "      <th>19</th>\n",
       "      <td>99999.0</td>\n",
       "      <td>2223</td>\n",
       "      <td>95633</td>\n",
       "      <td>0.780945</td>\n",
       "    </tr>\n",
       "    <tr>\n",
       "      <th>20</th>\n",
       "      <td>104999.0</td>\n",
       "      <td>2606</td>\n",
       "      <td>98239</td>\n",
       "      <td>0.802226</td>\n",
       "    </tr>\n",
       "    <tr>\n",
       "      <th>21</th>\n",
       "      <td>109999.0</td>\n",
       "      <td>1838</td>\n",
       "      <td>100077</td>\n",
       "      <td>0.817235</td>\n",
       "    </tr>\n",
       "    <tr>\n",
       "      <th>22</th>\n",
       "      <td>114999.0</td>\n",
       "      <td>1986</td>\n",
       "      <td>102063</td>\n",
       "      <td>0.833453</td>\n",
       "    </tr>\n",
       "    <tr>\n",
       "      <th>23</th>\n",
       "      <td>119999.0</td>\n",
       "      <td>1464</td>\n",
       "      <td>103527</td>\n",
       "      <td>0.845408</td>\n",
       "    </tr>\n",
       "    <tr>\n",
       "      <th>24</th>\n",
       "      <td>124999.0</td>\n",
       "      <td>1596</td>\n",
       "      <td>105123</td>\n",
       "      <td>0.858441</td>\n",
       "    </tr>\n",
       "    <tr>\n",
       "      <th>25</th>\n",
       "      <td>129999.0</td>\n",
       "      <td>1327</td>\n",
       "      <td>106450</td>\n",
       "      <td>0.869278</td>\n",
       "    </tr>\n",
       "    <tr>\n",
       "      <th>26</th>\n",
       "      <td>134999.0</td>\n",
       "      <td>1253</td>\n",
       "      <td>107703</td>\n",
       "      <td>0.879510</td>\n",
       "    </tr>\n",
       "    <tr>\n",
       "      <th>27</th>\n",
       "      <td>139999.0</td>\n",
       "      <td>1140</td>\n",
       "      <td>108843</td>\n",
       "      <td>0.888819</td>\n",
       "    </tr>\n",
       "    <tr>\n",
       "      <th>28</th>\n",
       "      <td>144999.0</td>\n",
       "      <td>1119</td>\n",
       "      <td>109962</td>\n",
       "      <td>0.897957</td>\n",
       "    </tr>\n",
       "    <tr>\n",
       "      <th>29</th>\n",
       "      <td>149999.0</td>\n",
       "      <td>920</td>\n",
       "      <td>110882</td>\n",
       "      <td>0.905470</td>\n",
       "    </tr>\n",
       "    <tr>\n",
       "      <th>30</th>\n",
       "      <td>154999.0</td>\n",
       "      <td>1143</td>\n",
       "      <td>112025</td>\n",
       "      <td>0.914803</td>\n",
       "    </tr>\n",
       "    <tr>\n",
       "      <th>31</th>\n",
       "      <td>159999.0</td>\n",
       "      <td>805</td>\n",
       "      <td>112830</td>\n",
       "      <td>0.921377</td>\n",
       "    </tr>\n",
       "    <tr>\n",
       "      <th>32</th>\n",
       "      <td>164999.0</td>\n",
       "      <td>731</td>\n",
       "      <td>113561</td>\n",
       "      <td>0.927347</td>\n",
       "    </tr>\n",
       "    <tr>\n",
       "      <th>33</th>\n",
       "      <td>169999.0</td>\n",
       "      <td>575</td>\n",
       "      <td>114136</td>\n",
       "      <td>0.932042</td>\n",
       "    </tr>\n",
       "    <tr>\n",
       "      <th>34</th>\n",
       "      <td>174999.0</td>\n",
       "      <td>616</td>\n",
       "      <td>114752</td>\n",
       "      <td>0.937072</td>\n",
       "    </tr>\n",
       "    <tr>\n",
       "      <th>35</th>\n",
       "      <td>179999.0</td>\n",
       "      <td>570</td>\n",
       "      <td>115322</td>\n",
       "      <td>0.941727</td>\n",
       "    </tr>\n",
       "    <tr>\n",
       "      <th>36</th>\n",
       "      <td>184999.0</td>\n",
       "      <td>502</td>\n",
       "      <td>115824</td>\n",
       "      <td>0.945826</td>\n",
       "    </tr>\n",
       "    <tr>\n",
       "      <th>37</th>\n",
       "      <td>189999.0</td>\n",
       "      <td>364</td>\n",
       "      <td>116188</td>\n",
       "      <td>0.948799</td>\n",
       "    </tr>\n",
       "    <tr>\n",
       "      <th>38</th>\n",
       "      <td>194999.0</td>\n",
       "      <td>432</td>\n",
       "      <td>116620</td>\n",
       "      <td>0.952327</td>\n",
       "    </tr>\n",
       "    <tr>\n",
       "      <th>39</th>\n",
       "      <td>199999.0</td>\n",
       "      <td>378</td>\n",
       "      <td>116998</td>\n",
       "      <td>0.955413</td>\n",
       "    </tr>\n",
       "    <tr>\n",
       "      <th>40</th>\n",
       "      <td>249999.0</td>\n",
       "      <td>2549</td>\n",
       "      <td>119547</td>\n",
       "      <td>0.976229</td>\n",
       "    </tr>\n",
       "    <tr>\n",
       "      <th>41</th>\n",
       "      <td>inf</td>\n",
       "      <td>2911</td>\n",
       "      <td>122458</td>\n",
       "      <td>1.000000</td>\n",
       "    </tr>\n",
       "  </tbody>\n",
       "</table>\n",
       "</div>"
      ],
      "text/plain": [
       "      income  freq  cumsum        ps\n",
       "0     4999.0  4204    4204  0.034330\n",
       "1     9999.0  4729    8933  0.072947\n",
       "2    14999.0  6982   15915  0.129963\n",
       "3    19999.0  7157   23072  0.188407\n",
       "4    24999.0  7131   30203  0.246640\n",
       "5    29999.0  6740   36943  0.301679\n",
       "6    34999.0  6354   43297  0.353566\n",
       "7    39999.0  5832   49129  0.401191\n",
       "8    44999.0  5547   54676  0.446488\n",
       "9    49999.0  5254   59930  0.489392\n",
       "10   54999.0  5102   65032  0.531056\n",
       "11   59999.0  4256   69288  0.565810\n",
       "12   64999.0  4356   73644  0.601382\n",
       "13   69999.0  3949   77593  0.633629\n",
       "14   74999.0  3756   81349  0.664301\n",
       "15   79999.0  3414   84763  0.692180\n",
       "16   84999.0  3326   88089  0.719341\n",
       "17   89999.0  2643   90732  0.740923\n",
       "18   94999.0  2678   93410  0.762792\n",
       "19   99999.0  2223   95633  0.780945\n",
       "20  104999.0  2606   98239  0.802226\n",
       "21  109999.0  1838  100077  0.817235\n",
       "22  114999.0  1986  102063  0.833453\n",
       "23  119999.0  1464  103527  0.845408\n",
       "24  124999.0  1596  105123  0.858441\n",
       "25  129999.0  1327  106450  0.869278\n",
       "26  134999.0  1253  107703  0.879510\n",
       "27  139999.0  1140  108843  0.888819\n",
       "28  144999.0  1119  109962  0.897957\n",
       "29  149999.0   920  110882  0.905470\n",
       "30  154999.0  1143  112025  0.914803\n",
       "31  159999.0   805  112830  0.921377\n",
       "32  164999.0   731  113561  0.927347\n",
       "33  169999.0   575  114136  0.932042\n",
       "34  174999.0   616  114752  0.937072\n",
       "35  179999.0   570  115322  0.941727\n",
       "36  184999.0   502  115824  0.945826\n",
       "37  189999.0   364  116188  0.948799\n",
       "38  194999.0   432  116620  0.952327\n",
       "39  199999.0   378  116998  0.955413\n",
       "40  249999.0  2549  119547  0.976229\n",
       "41       inf  2911  122458  1.000000"
      ]
     },
     "execution_count": 53,
     "metadata": {},
     "output_type": "execute_result"
    },
    {
     "data": {
      "application/javascript": [
       "\n",
       "            setTimeout(function() {\n",
       "                var nbb_cell_id = 53;\n",
       "                var nbb_unformatted_code = \"import hinc\\n\\ndf = hinc.read_data()\\ndf\";\n",
       "                var nbb_formatted_code = \"import hinc\\n\\ndf = hinc.read_data()\\ndf\";\n",
       "                var nbb_cells = Jupyter.notebook.get_cells();\n",
       "                for (var i = 0; i < nbb_cells.length; ++i) {\n",
       "                    if (nbb_cells[i].input_prompt_number == nbb_cell_id) {\n",
       "                        if (nbb_cells[i].get_text() == nbb_unformatted_code) {\n",
       "                             nbb_cells[i].set_text(nbb_formatted_code);\n",
       "                        }\n",
       "                        break;\n",
       "                    }\n",
       "                }\n",
       "            }, 500);\n",
       "            "
      ],
      "text/plain": [
       "<IPython.core.display.Javascript object>"
      ]
     },
     "metadata": {},
     "output_type": "display_data"
    }
   ],
   "source": [
    "import hinc\n",
    "\n",
    "df = hinc.read_data()\n",
    "df"
   ]
  },
  {
   "cell_type": "markdown",
   "id": "1cb2fd41",
   "metadata": {},
   "source": [
    "Here's what the CDF looks like on a linear scale."
   ]
  },
  {
   "cell_type": "code",
   "execution_count": 54,
   "id": "befbaa4b",
   "metadata": {},
   "outputs": [
    {
     "data": {
      "application/javascript": [
       "\n",
       "            setTimeout(function() {\n",
       "                var nbb_cell_id = 54;\n",
       "                var nbb_unformatted_code = \"xs, ps = df.income.values, df.ps.values\\n\\ncdf = Cdf(ps, xs, name=\\\"data\\\")\\ncdf_log = Cdf(ps, np.log10(xs), name=\\\"log data\\\")\";\n",
       "                var nbb_formatted_code = \"xs, ps = df.income.values, df.ps.values\\n\\ncdf = Cdf(ps, xs, name=\\\"data\\\")\\ncdf_log = Cdf(ps, np.log10(xs), name=\\\"log data\\\")\";\n",
       "                var nbb_cells = Jupyter.notebook.get_cells();\n",
       "                for (var i = 0; i < nbb_cells.length; ++i) {\n",
       "                    if (nbb_cells[i].input_prompt_number == nbb_cell_id) {\n",
       "                        if (nbb_cells[i].get_text() == nbb_unformatted_code) {\n",
       "                             nbb_cells[i].set_text(nbb_formatted_code);\n",
       "                        }\n",
       "                        break;\n",
       "                    }\n",
       "                }\n",
       "            }, 500);\n",
       "            "
      ],
      "text/plain": [
       "<IPython.core.display.Javascript object>"
      ]
     },
     "metadata": {},
     "output_type": "display_data"
    }
   ],
   "source": [
    "xs, ps = df.income.values, df.ps.values\n",
    "\n",
    "cdf = Cdf(ps, xs, name=\"data\")\n",
    "cdf_log = Cdf(ps, np.log10(xs), name=\"log data\")"
   ]
  },
  {
   "cell_type": "code",
   "execution_count": 55,
   "id": "76bfde61",
   "metadata": {},
   "outputs": [
    {
     "data": {
      "image/png": "[encoded data removed]",
      "text/plain": [
       "<Figure size 640x480 with 1 Axes>"
      ]
     },
     "metadata": {},
     "output_type": "display_data"
    },
    {
     "data": {
      "application/javascript": [
       "\n",
       "            setTimeout(function() {\n",
       "                var nbb_cell_id = 55;\n",
       "                var nbb_unformatted_code = \"cdf.plot()\\ndecorate(xlabel=\\\"household income\\\", ylabel=\\\"CDF\\\")\";\n",
       "                var nbb_formatted_code = \"cdf.plot()\\ndecorate(xlabel=\\\"household income\\\", ylabel=\\\"CDF\\\")\";\n",
       "                var nbb_cells = Jupyter.notebook.get_cells();\n",
       "                for (var i = 0; i < nbb_cells.length; ++i) {\n",
       "                    if (nbb_cells[i].input_prompt_number == nbb_cell_id) {\n",
       "                        if (nbb_cells[i].get_text() == nbb_unformatted_code) {\n",
       "                             nbb_cells[i].set_text(nbb_formatted_code);\n",
       "                        }\n",
       "                        break;\n",
       "                    }\n",
       "                }\n",
       "            }, 500);\n",
       "            "
      ],
      "text/plain": [
       "<IPython.core.display.Javascript object>"
      ]
     },
     "metadata": {},
     "output_type": "display_data"
    }
   ],
   "source": [
    "cdf.plot()\n",
    "decorate(xlabel=\"household income\", ylabel=\"CDF\")"
   ]
  },
  {
   "cell_type": "markdown",
   "id": "f29e5454",
   "metadata": {},
   "source": [
    "To check whether a Pareto model describes the data well, I plot the CCDF on a log-log scale.\n",
    "\n",
    "I found parameters for the Pareto model that match the tail of the distribution."
   ]
  },
  {
   "cell_type": "code",
   "execution_count": 56,
   "id": "aa01a710",
   "metadata": {},
   "outputs": [
    {
     "data": {
      "image/png": "[encoded data removed]",
      "text/plain": [
       "<Figure size 640x480 with 1 Axes>"
      ]
     },
     "metadata": {},
     "output_type": "display_data"
    },
    {
     "data": {
      "application/javascript": [
       "\n",
       "            setTimeout(function() {\n",
       "                var nbb_cell_id = 56;\n",
       "                var nbb_unformatted_code = \"xs, ys = render_pareto_cdf(xmin=55000, alpha=2.5, low=0, high=250000)\\nplt.plot(xs, 1 - ys, label=\\\"model\\\", color=\\\"0.8\\\")\\n(1 - cdf).plot()\\ndecorate(\\n    xlabel=\\\"log10 household income\\\",\\n    ylabel=\\\"CCDF\\\",\\n    xscale=\\\"log\\\",\\n    yscale=\\\"log\\\",\\n    loc=\\\"lower left\\\",\\n)\";\n",
       "                var nbb_formatted_code = \"xs, ys = render_pareto_cdf(xmin=55000, alpha=2.5, low=0, high=250000)\\nplt.plot(xs, 1 - ys, label=\\\"model\\\", color=\\\"0.8\\\")\\n(1 - cdf).plot()\\ndecorate(\\n    xlabel=\\\"log10 household income\\\",\\n    ylabel=\\\"CCDF\\\",\\n    xscale=\\\"log\\\",\\n    yscale=\\\"log\\\",\\n    loc=\\\"lower left\\\",\\n)\";\n",
       "                var nbb_cells = Jupyter.notebook.get_cells();\n",
       "                for (var i = 0; i < nbb_cells.length; ++i) {\n",
       "                    if (nbb_cells[i].input_prompt_number == nbb_cell_id) {\n",
       "                        if (nbb_cells[i].get_text() == nbb_unformatted_code) {\n",
       "                             nbb_cells[i].set_text(nbb_formatted_code);\n",
       "                        }\n",
       "                        break;\n",
       "                    }\n",
       "                }\n",
       "            }, 500);\n",
       "            "
      ],
      "text/plain": [
       "<IPython.core.display.Javascript object>"
      ]
     },
     "metadata": {},
     "output_type": "display_data"
    }
   ],
   "source": [
    "xs, ys = render_pareto_cdf(xmin=55000, alpha=2.5, low=0, high=250000)\n",
    "plt.plot(xs, 1 - ys, label=\"model\", color=\"0.8\")\n",
    "(1 - cdf).plot()\n",
    "decorate(\n",
    "    xlabel=\"log10 household income\",\n",
    "    ylabel=\"CCDF\",\n",
    "    xscale=\"log\",\n",
    "    yscale=\"log\",\n",
    "    loc=\"lower left\",\n",
    ")"
   ]
  },
  {
   "cell_type": "markdown",
   "id": "557a7734",
   "metadata": {},
   "source": [
    "For the lognormal model I estimate mu and sigma using percentile-based statistics (median and IQR)."
   ]
  },
  {
   "cell_type": "code",
   "execution_count": 57,
   "id": "b5ca3485",
   "metadata": {},
   "outputs": [
    {
     "name": "stdout",
     "output_type": "stream",
     "text": [
      "4.740354793159152 0.35\n"
     ]
    },
    {
     "data": {
      "application/javascript": [
       "\n",
       "            setTimeout(function() {\n",
       "                var nbb_cell_id = 57;\n",
       "                var nbb_unformatted_code = \"median = cdf_log.inverse(0.5)\\niqr = cdf_log.inverse([0.25, 0.75])\\nstd = np.diff(iqr) / 1.349\\nstd = 0.35\\nprint(median, std)\";\n",
       "                var nbb_formatted_code = \"median = cdf_log.inverse(0.5)\\niqr = cdf_log.inverse([0.25, 0.75])\\nstd = np.diff(iqr) / 1.349\\nstd = 0.35\\nprint(median, std)\";\n",
       "                var nbb_cells = Jupyter.notebook.get_cells();\n",
       "                for (var i = 0; i < nbb_cells.length; ++i) {\n",
       "                    if (nbb_cells[i].input_prompt_number == nbb_cell_id) {\n",
       "                        if (nbb_cells[i].get_text() == nbb_unformatted_code) {\n",
       "                             nbb_cells[i].set_text(nbb_formatted_code);\n",
       "                        }\n",
       "                        break;\n",
       "                    }\n",
       "                }\n",
       "            }, 500);\n",
       "            "
      ],
      "text/plain": [
       "<IPython.core.display.Javascript object>"
      ]
     },
     "metadata": {},
     "output_type": "display_data"
    }
   ],
   "source": [
    "median = cdf_log.inverse(0.5)\n",
    "iqr = cdf_log.inverse([0.25, 0.75])\n",
    "std = np.diff(iqr) / 1.349\n",
    "std = 0.35\n",
    "print(median, std)"
   ]
  },
  {
   "cell_type": "markdown",
   "id": "fcaaaba7",
   "metadata": {},
   "source": [
    "Here's what the distribution, and fitted model, look like on a log-x scale."
   ]
  },
  {
   "cell_type": "code",
   "execution_count": 58,
   "id": "f54aafa8",
   "metadata": {},
   "outputs": [
    {
     "data": {
      "image/png": "[encoded data removed]",
      "text/plain": [
       "<Figure size 640x480 with 1 Axes>"
      ]
     },
     "metadata": {},
     "output_type": "display_data"
    },
    {
     "data": {
      "application/javascript": [
       "\n",
       "            setTimeout(function() {\n",
       "                var nbb_cell_id = 58;\n",
       "                var nbb_unformatted_code = \"xs, ps = render_normal_cdf(median, std, low=3.5, high=5.5)\\nplt.plot(xs, ps, label=\\\"model\\\", color=\\\"0.8\\\")\\ncdf_log.plot()\\ndecorate(xlabel=\\\"log10 household income\\\", ylabel=\\\"CDF\\\")\";\n",
       "                var nbb_formatted_code = \"xs, ps = render_normal_cdf(median, std, low=3.5, high=5.5)\\nplt.plot(xs, ps, label=\\\"model\\\", color=\\\"0.8\\\")\\ncdf_log.plot()\\ndecorate(xlabel=\\\"log10 household income\\\", ylabel=\\\"CDF\\\")\";\n",
       "                var nbb_cells = Jupyter.notebook.get_cells();\n",
       "                for (var i = 0; i < nbb_cells.length; ++i) {\n",
       "                    if (nbb_cells[i].input_prompt_number == nbb_cell_id) {\n",
       "                        if (nbb_cells[i].get_text() == nbb_unformatted_code) {\n",
       "                             nbb_cells[i].set_text(nbb_formatted_code);\n",
       "                        }\n",
       "                        break;\n",
       "                    }\n",
       "                }\n",
       "            }, 500);\n",
       "            "
      ],
      "text/plain": [
       "<IPython.core.display.Javascript object>"
      ]
     },
     "metadata": {},
     "output_type": "display_data"
    }
   ],
   "source": [
    "xs, ps = render_normal_cdf(median, std, low=3.5, high=5.5)\n",
    "plt.plot(xs, ps, label=\"model\", color=\"0.8\")\n",
    "cdf_log.plot()\n",
    "decorate(xlabel=\"log10 household income\", ylabel=\"CDF\")"
   ]
  },
  {
   "cell_type": "markdown",
   "id": "85a83604",
   "metadata": {},
   "source": [
    "My conclusions based on these figures are:\n",
    "\n",
    "1) The Pareto model might be a reasonable choice for the top    10-20% of incomes.\n",
    "\n",
    "2) The lognormal model captures the shape of the distribution better,    with some deviation in the left tail.\n",
    "With different    choices for sigma, you could match the upper or lower tail, but not    both at the same time.\n",
    "In summary I would say that neither model captures the whole distribution, so you might have to \n",
    "\n",
    "1) look for another analytic model, \n",
    "\n",
    "2) choose one that captures the part of the distribution that is most relevent, or \n",
    "\n",
    "3) avoid using an analytic model altogether."
   ]
  },
  {
   "cell_type": "code",
   "execution_count": null,
   "id": "0bb5d2ca",
   "metadata": {},
   "outputs": [],
   "source": []
  }
 ],
 "metadata": {
  "kernelspec": {
   "display_name": "Python 3 (ipykernel)",
   "language": "python",
   "name": "python3"
  },
  "language_info": {
   "codemirror_mode": {
    "name": "ipython",
    "version": 3
   },
   "file_extension": ".py",
   "mimetype": "text/x-python",
   "name": "python",
   "nbconvert_exporter": "python",
   "pygments_lexer": "ipython3",
   "version": "3.10.14"
  }
 },
 "nbformat": 4,
 "nbformat_minor": 5
}
