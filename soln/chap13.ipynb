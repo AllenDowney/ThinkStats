{
 "cells": [
  {
   "cell_type": "markdown",
   "id": "210938a1",
   "metadata": {},
   "source": [
    "# Survival analysis"
   ]
  },
  {
   "cell_type": "code",
   "execution_count": 2,
   "id": "75384c1c",
   "metadata": {},
   "outputs": [
    {
     "data": {
      "application/javascript": [
       "\n",
       "            setTimeout(function() {\n",
       "                var nbb_cell_id = 2;\n",
       "                var nbb_unformatted_code = \"%load_ext nb_black\\n%load_ext autoreload\\n%autoreload 2\";\n",
       "                var nbb_formatted_code = \"%load_ext nb_black\\n%load_ext autoreload\\n%autoreload 2\";\n",
       "                var nbb_cells = Jupyter.notebook.get_cells();\n",
       "                for (var i = 0; i < nbb_cells.length; ++i) {\n",
       "                    if (nbb_cells[i].input_prompt_number == nbb_cell_id) {\n",
       "                        if (nbb_cells[i].get_text() == nbb_unformatted_code) {\n",
       "                             nbb_cells[i].set_text(nbb_formatted_code);\n",
       "                        }\n",
       "                        break;\n",
       "                    }\n",
       "                }\n",
       "            }, 500);\n",
       "            "
      ],
      "text/plain": [
       "<IPython.core.display.Javascript object>"
      ]
     },
     "metadata": {},
     "output_type": "display_data"
    }
   ],
   "source": [
    "%load_ext nb_black\n",
    "%load_ext autoreload\n",
    "%autoreload 2\n"
   ]
  },
  {
   "cell_type": "code",
   "execution_count": 3,
   "id": "ef31aaeb",
   "metadata": {},
   "outputs": [
    {
     "data": {
      "application/javascript": [
       "\n",
       "            setTimeout(function() {\n",
       "                var nbb_cell_id = 3;\n",
       "                var nbb_unformatted_code = \"from os.path import basename, exists\\n\\n\\ndef download(url):\\n    filename = basename(url)\\n    if not exists(filename):\\n        from urllib.request import urlretrieve\\n\\n        local, _ = urlretrieve(url, filename)\\n        print(\\\"Downloaded \\\" + local)\\n\\n\\ndownload(\\\"https://github.com/AllenDowney/ThinkStats/raw/v3/nb/thinkstats.py\\\")\";\n",
       "                var nbb_formatted_code = \"from os.path import basename, exists\\n\\n\\ndef download(url):\\n    filename = basename(url)\\n    if not exists(filename):\\n        from urllib.request import urlretrieve\\n\\n        local, _ = urlretrieve(url, filename)\\n        print(\\\"Downloaded \\\" + local)\\n\\n\\ndownload(\\\"https://github.com/AllenDowney/ThinkStats/raw/v3/nb/thinkstats.py\\\")\";\n",
       "                var nbb_cells = Jupyter.notebook.get_cells();\n",
       "                for (var i = 0; i < nbb_cells.length; ++i) {\n",
       "                    if (nbb_cells[i].input_prompt_number == nbb_cell_id) {\n",
       "                        if (nbb_cells[i].get_text() == nbb_unformatted_code) {\n",
       "                             nbb_cells[i].set_text(nbb_formatted_code);\n",
       "                        }\n",
       "                        break;\n",
       "                    }\n",
       "                }\n",
       "            }, 500);\n",
       "            "
      ],
      "text/plain": [
       "<IPython.core.display.Javascript object>"
      ]
     },
     "metadata": {},
     "output_type": "display_data"
    }
   ],
   "source": [
    "from os.path import basename, exists\n",
    "\n",
    "\n",
    "def download(url):\n",
    "    filename = basename(url)\n",
    "    if not exists(filename):\n",
    "        from urllib.request import urlretrieve\n",
    "\n",
    "        local, _ = urlretrieve(url, filename)\n",
    "        print(\"Downloaded \" + local)\n",
    "\n",
    "\n",
    "download(\"https://github.com/AllenDowney/ThinkStats/raw/v3/nb/thinkstats.py\")"
   ]
  },
  {
   "cell_type": "code",
   "execution_count": 5,
   "id": "59b4d378",
   "metadata": {},
   "outputs": [
    {
     "data": {
      "application/javascript": [
       "\n",
       "            setTimeout(function() {\n",
       "                var nbb_cell_id = 5;\n",
       "                var nbb_unformatted_code = \"try:\\n    import empiricaldist\\nexcept ImportError:\\n    !pip install empiricaldist\";\n",
       "                var nbb_formatted_code = \"try:\\n    import empiricaldist\\nexcept ImportError:\\n    !pip install empiricaldist\";\n",
       "                var nbb_cells = Jupyter.notebook.get_cells();\n",
       "                for (var i = 0; i < nbb_cells.length; ++i) {\n",
       "                    if (nbb_cells[i].input_prompt_number == nbb_cell_id) {\n",
       "                        if (nbb_cells[i].get_text() == nbb_unformatted_code) {\n",
       "                             nbb_cells[i].set_text(nbb_formatted_code);\n",
       "                        }\n",
       "                        break;\n",
       "                    }\n",
       "                }\n",
       "            }, 500);\n",
       "            "
      ],
      "text/plain": [
       "<IPython.core.display.Javascript object>"
      ]
     },
     "metadata": {},
     "output_type": "display_data"
    }
   ],
   "source": [
    "try:\n",
    "    import empiricaldist\n",
    "except ImportError:\n",
    "    !pip install empiricaldist"
   ]
  },
  {
   "cell_type": "code",
   "execution_count": 6,
   "id": "babb4f14",
   "metadata": {},
   "outputs": [
    {
     "data": {
      "application/javascript": [
       "\n",
       "            setTimeout(function() {\n",
       "                var nbb_cell_id = 6;\n",
       "                var nbb_unformatted_code = \"import numpy as np\\nimport pandas as pd\\nimport matplotlib.pyplot as plt\\n\\nfrom thinkstats import decorate\";\n",
       "                var nbb_formatted_code = \"import numpy as np\\nimport pandas as pd\\nimport matplotlib.pyplot as plt\\n\\nfrom thinkstats import decorate\";\n",
       "                var nbb_cells = Jupyter.notebook.get_cells();\n",
       "                for (var i = 0; i < nbb_cells.length; ++i) {\n",
       "                    if (nbb_cells[i].input_prompt_number == nbb_cell_id) {\n",
       "                        if (nbb_cells[i].get_text() == nbb_unformatted_code) {\n",
       "                             nbb_cells[i].set_text(nbb_formatted_code);\n",
       "                        }\n",
       "                        break;\n",
       "                    }\n",
       "                }\n",
       "            }, 500);\n",
       "            "
      ],
      "text/plain": [
       "<IPython.core.display.Javascript object>"
      ]
     },
     "metadata": {},
     "output_type": "display_data"
    }
   ],
   "source": [
    "import numpy as np\n",
    "import pandas as pd\n",
    "import matplotlib.pyplot as plt\n",
    "\n",
    "from thinkstats import decorate"
   ]
  },
  {
   "cell_type": "markdown",
   "id": "5b04b823",
   "metadata": {},
   "source": [
    "**Survival analysis** is a way to describe how long things last.\n",
    "It is often used to study human lifetimes, but it also applies to \"survival\" of mechanical and electronic components, or more generally to intervals in time before an event.\n",
    "\n",
    "If someone you know has been diagnosed with a life-threatening disease, you might have seen a \"5-year survival rate,\" which is the probability of surviving five years after diagnosis.\n",
    "That estimate and related statistics are the result of survival analysis."
   ]
  },
  {
   "cell_type": "markdown",
   "id": "6d47eaa6",
   "metadata": {},
   "source": [
    "## Survival curves\n",
    "\n",
    "The fundamental concept in survival analysis is the **survival curve**, $S(t)$, which is a function that maps from a duration, $t$, to the probability of surviving longer than $t$.\n",
    "If you know the distribution of durations, or \"lifetimes\", finding the survival curve is easy; it's just the complement of the CDF: \n",
    "\n",
    "$$S(t) = 1 - CDF(t)$$ \n",
    "\n",
    "where $CDF(t)$ is the probability of a lifetime less than or equal to $t$.\n",
    "\n",
    "For example, in the NSFG dataset, we know the duration of 11,189 complete pregnancies.\n",
    "We can read this data and compute the CDF:"
   ]
  },
  {
   "cell_type": "code",
   "execution_count": 22,
   "id": "f8675281",
   "metadata": {},
   "outputs": [
    {
     "name": "stdout",
     "output_type": "stream",
     "text": [
      "Downloaded lamps.csv\n"
     ]
    },
    {
     "data": {
      "application/javascript": [
       "\n",
       "            setTimeout(function() {\n",
       "                var nbb_cell_id = 22;\n",
       "                var nbb_unformatted_code = \"download(\\n    \\\"https://gist.github.com/epogrebnyak/7933e16c0ad215742c4c104be4fbdeb1/raw/c932bc5b6aa6317770c4cbf43eb591511fec08f9/lamps.csv\\\"\\n)\";\n",
       "                var nbb_formatted_code = \"download(\\n    \\\"https://gist.github.com/epogrebnyak/7933e16c0ad215742c4c104be4fbdeb1/raw/c932bc5b6aa6317770c4cbf43eb591511fec08f9/lamps.csv\\\"\\n)\";\n",
       "                var nbb_cells = Jupyter.notebook.get_cells();\n",
       "                for (var i = 0; i < nbb_cells.length; ++i) {\n",
       "                    if (nbb_cells[i].input_prompt_number == nbb_cell_id) {\n",
       "                        if (nbb_cells[i].get_text() == nbb_unformatted_code) {\n",
       "                             nbb_cells[i].set_text(nbb_formatted_code);\n",
       "                        }\n",
       "                        break;\n",
       "                    }\n",
       "                }\n",
       "            }, 500);\n",
       "            "
      ],
      "text/plain": [
       "<IPython.core.display.Javascript object>"
      ]
     },
     "metadata": {},
     "output_type": "display_data"
    }
   ],
   "source": [
    "download(\n",
    "    \"https://gist.github.com/epogrebnyak/7933e16c0ad215742c4c104be4fbdeb1/raw/c932bc5b6aa6317770c4cbf43eb591511fec08f9/lamps.csv\"\n",
    ")"
   ]
  },
  {
   "cell_type": "code",
   "execution_count": 23,
   "id": "86afc71c",
   "metadata": {},
   "outputs": [
    {
     "data": {
      "text/html": [
       "<div>\n",
       "<style scoped>\n",
       "    .dataframe tbody tr th:only-of-type {\n",
       "        vertical-align: middle;\n",
       "    }\n",
       "\n",
       "    .dataframe tbody tr th {\n",
       "        vertical-align: top;\n",
       "    }\n",
       "\n",
       "    .dataframe thead th {\n",
       "        text-align: right;\n",
       "    }\n",
       "</style>\n",
       "<table border=\"1\" class=\"dataframe\">\n",
       "  <thead>\n",
       "    <tr style=\"text-align: right;\">\n",
       "      <th></th>\n",
       "      <th>h</th>\n",
       "      <th>f</th>\n",
       "      <th>K</th>\n",
       "    </tr>\n",
       "    <tr>\n",
       "      <th>i</th>\n",
       "      <th></th>\n",
       "      <th></th>\n",
       "      <th></th>\n",
       "    </tr>\n",
       "  </thead>\n",
       "  <tbody>\n",
       "    <tr>\n",
       "      <th>28</th>\n",
       "      <td>1812</td>\n",
       "      <td>1</td>\n",
       "      <td>4</td>\n",
       "    </tr>\n",
       "    <tr>\n",
       "      <th>29</th>\n",
       "      <td>1836</td>\n",
       "      <td>1</td>\n",
       "      <td>3</td>\n",
       "    </tr>\n",
       "    <tr>\n",
       "      <th>30</th>\n",
       "      <td>1860</td>\n",
       "      <td>1</td>\n",
       "      <td>2</td>\n",
       "    </tr>\n",
       "    <tr>\n",
       "      <th>31</th>\n",
       "      <td>1980</td>\n",
       "      <td>1</td>\n",
       "      <td>1</td>\n",
       "    </tr>\n",
       "    <tr>\n",
       "      <th>32</th>\n",
       "      <td>2568</td>\n",
       "      <td>1</td>\n",
       "      <td>0</td>\n",
       "    </tr>\n",
       "  </tbody>\n",
       "</table>\n",
       "</div>"
      ],
      "text/plain": [
       "       h  f  K\n",
       "i             \n",
       "28  1812  1  4\n",
       "29  1836  1  3\n",
       "30  1860  1  2\n",
       "31  1980  1  1\n",
       "32  2568  1  0"
      ]
     },
     "execution_count": 23,
     "metadata": {},
     "output_type": "execute_result"
    },
    {
     "data": {
      "application/javascript": [
       "\n",
       "            setTimeout(function() {\n",
       "                var nbb_cell_id = 23;\n",
       "                var nbb_unformatted_code = \"df = pd.read_csv(\\\"lamps.csv\\\", index_col=0)\\ndf.tail()\";\n",
       "                var nbb_formatted_code = \"df = pd.read_csv(\\\"lamps.csv\\\", index_col=0)\\ndf.tail()\";\n",
       "                var nbb_cells = Jupyter.notebook.get_cells();\n",
       "                for (var i = 0; i < nbb_cells.length; ++i) {\n",
       "                    if (nbb_cells[i].input_prompt_number == nbb_cell_id) {\n",
       "                        if (nbb_cells[i].get_text() == nbb_unformatted_code) {\n",
       "                             nbb_cells[i].set_text(nbb_formatted_code);\n",
       "                        }\n",
       "                        break;\n",
       "                    }\n",
       "                }\n",
       "            }, 500);\n",
       "            "
      ],
      "text/plain": [
       "<IPython.core.display.Javascript object>"
      ]
     },
     "metadata": {},
     "output_type": "display_data"
    }
   ],
   "source": [
    "df = pd.read_csv(\"lamps.csv\", index_col=0)\n",
    "df.tail()"
   ]
  },
  {
   "cell_type": "code",
   "execution_count": 34,
   "id": "4f7e0d03",
   "metadata": {},
   "outputs": [
    {
     "data": {
      "application/javascript": [
       "\n",
       "            setTimeout(function() {\n",
       "                var nbb_cell_id = 34;\n",
       "                var nbb_unformatted_code = \"from empiricaldist import Pmf\\n\\npmf_bulblife = Pmf(df[\\\"f\\\"].values, index=df[\\\"h\\\"])\\npmf_bulblife.normalize()\\npmf_bulblife.index.name = \\\"t\\\"\";\n",
       "                var nbb_formatted_code = \"from empiricaldist import Pmf\\n\\npmf_bulblife = Pmf(df[\\\"f\\\"].values, index=df[\\\"h\\\"])\\npmf_bulblife.normalize()\\npmf_bulblife.index.name = \\\"t\\\"\";\n",
       "                var nbb_cells = Jupyter.notebook.get_cells();\n",
       "                for (var i = 0; i < nbb_cells.length; ++i) {\n",
       "                    if (nbb_cells[i].input_prompt_number == nbb_cell_id) {\n",
       "                        if (nbb_cells[i].get_text() == nbb_unformatted_code) {\n",
       "                             nbb_cells[i].set_text(nbb_formatted_code);\n",
       "                        }\n",
       "                        break;\n",
       "                    }\n",
       "                }\n",
       "            }, 500);\n",
       "            "
      ],
      "text/plain": [
       "<IPython.core.display.Javascript object>"
      ]
     },
     "metadata": {},
     "output_type": "display_data"
    }
   ],
   "source": [
    "from empiricaldist import Pmf\n",
    "\n",
    "pmf_bulblife = Pmf(df[\"f\"].values, index=df[\"h\"])\n",
    "pmf_bulblife.normalize()\n",
    "pmf_bulblife.index.name = \"t\""
   ]
  },
  {
   "cell_type": "code",
   "execution_count": 42,
   "id": "921461a2",
   "metadata": {},
   "outputs": [
    {
     "data": {
      "text/plain": [
       "0.7800000000000002"
      ]
     },
     "execution_count": 42,
     "metadata": {},
     "output_type": "execute_result"
    },
    {
     "data": {
      "application/javascript": [
       "\n",
       "            setTimeout(function() {\n",
       "                var nbb_cell_id = 42;\n",
       "                var nbb_unformatted_code = \"cdf_bulblife = pmf_bulblife.make_cdf()\\ncdf_bulblife[1656]\";\n",
       "                var nbb_formatted_code = \"cdf_bulblife = pmf_bulblife.make_cdf()\\ncdf_bulblife[1656]\";\n",
       "                var nbb_cells = Jupyter.notebook.get_cells();\n",
       "                for (var i = 0; i < nbb_cells.length; ++i) {\n",
       "                    if (nbb_cells[i].input_prompt_number == nbb_cell_id) {\n",
       "                        if (nbb_cells[i].get_text() == nbb_unformatted_code) {\n",
       "                             nbb_cells[i].set_text(nbb_formatted_code);\n",
       "                        }\n",
       "                        break;\n",
       "                    }\n",
       "                }\n",
       "            }, 500);\n",
       "            "
      ],
      "text/plain": [
       "<IPython.core.display.Javascript object>"
      ]
     },
     "metadata": {},
     "output_type": "display_data"
    }
   ],
   "source": [
    "cdf_bulblife = pmf_bulblife.make_cdf()\n",
    "cdf_bulblife[1656]"
   ]
  },
  {
   "cell_type": "code",
   "execution_count": 46,
   "id": "37e908dd",
   "metadata": {},
   "outputs": [
    {
     "data": {
      "text/plain": [
       "0.21999999999999975"
      ]
     },
     "execution_count": 46,
     "metadata": {},
     "output_type": "execute_result"
    },
    {
     "data": {
      "application/javascript": [
       "\n",
       "            setTimeout(function() {\n",
       "                var nbb_cell_id = 46;\n",
       "                var nbb_unformatted_code = \"complementary_cdf = 1 - cdf_bulblife\\ncomplementary_cdf[1656]\";\n",
       "                var nbb_formatted_code = \"complementary_cdf = 1 - cdf_bulblife\\ncomplementary_cdf[1656]\";\n",
       "                var nbb_cells = Jupyter.notebook.get_cells();\n",
       "                for (var i = 0; i < nbb_cells.length; ++i) {\n",
       "                    if (nbb_cells[i].input_prompt_number == nbb_cell_id) {\n",
       "                        if (nbb_cells[i].get_text() == nbb_unformatted_code) {\n",
       "                             nbb_cells[i].set_text(nbb_formatted_code);\n",
       "                        }\n",
       "                        break;\n",
       "                    }\n",
       "                }\n",
       "            }, 500);\n",
       "            "
      ],
      "text/plain": [
       "<IPython.core.display.Javascript object>"
      ]
     },
     "metadata": {},
     "output_type": "display_data"
    }
   ],
   "source": [
    "complementary_cdf = 1 - cdf_bulblife\n",
    "complementary_cdf[1656]"
   ]
  },
  {
   "cell_type": "code",
   "execution_count": 47,
   "id": "10cf0ddc",
   "metadata": {},
   "outputs": [
    {
     "data": {
      "application/javascript": [
       "\n",
       "            setTimeout(function() {\n",
       "                var nbb_cell_id = 47;\n",
       "                var nbb_unformatted_code = \"# surv_bulblife[1657]\";\n",
       "                var nbb_formatted_code = \"# surv_bulblife[1657]\";\n",
       "                var nbb_cells = Jupyter.notebook.get_cells();\n",
       "                for (var i = 0; i < nbb_cells.length; ++i) {\n",
       "                    if (nbb_cells[i].input_prompt_number == nbb_cell_id) {\n",
       "                        if (nbb_cells[i].get_text() == nbb_unformatted_code) {\n",
       "                             nbb_cells[i].set_text(nbb_formatted_code);\n",
       "                        }\n",
       "                        break;\n",
       "                    }\n",
       "                }\n",
       "            }, 500);\n",
       "            "
      ],
      "text/plain": [
       "<IPython.core.display.Javascript object>"
      ]
     },
     "metadata": {},
     "output_type": "display_data"
    }
   ],
   "source": [
    "# surv_bulblife[1657]"
   ]
  },
  {
   "cell_type": "code",
   "execution_count": 48,
   "id": "1c58a46c",
   "metadata": {},
   "outputs": [
    {
     "data": {
      "text/plain": [
       "0.21999999999999997"
      ]
     },
     "execution_count": 48,
     "metadata": {},
     "output_type": "execute_result"
    },
    {
     "data": {
      "application/javascript": [
       "\n",
       "            setTimeout(function() {\n",
       "                var nbb_cell_id = 48;\n",
       "                var nbb_unformatted_code = \"surv_bulblife = cdf_bulblife.make_surv()\\nsurv_bulblife[1656]\";\n",
       "                var nbb_formatted_code = \"surv_bulblife = cdf_bulblife.make_surv()\\nsurv_bulblife[1656]\";\n",
       "                var nbb_cells = Jupyter.notebook.get_cells();\n",
       "                for (var i = 0; i < nbb_cells.length; ++i) {\n",
       "                    if (nbb_cells[i].input_prompt_number == nbb_cell_id) {\n",
       "                        if (nbb_cells[i].get_text() == nbb_unformatted_code) {\n",
       "                             nbb_cells[i].set_text(nbb_formatted_code);\n",
       "                        }\n",
       "                        break;\n",
       "                    }\n",
       "                }\n",
       "            }, 500);\n",
       "            "
      ],
      "text/plain": [
       "<IPython.core.display.Javascript object>"
      ]
     },
     "metadata": {},
     "output_type": "display_data"
    }
   ],
   "source": [
    "surv_bulblife = cdf_bulblife.make_surv()\n",
    "surv_bulblife[1656]"
   ]
  },
  {
   "cell_type": "code",
   "execution_count": null,
   "id": "46005b0a",
   "metadata": {},
   "outputs": [],
   "source": []
  },
  {
   "cell_type": "code",
   "execution_count": 233,
   "id": "62e97cb9",
   "metadata": {},
   "outputs": [
    {
     "data": {
      "image/png": "[encoded data removed]",
      "text/plain": [
       "<Figure size 450x262.5 with 1 Axes>"
      ]
     },
     "metadata": {},
     "output_type": "display_data"
    },
    {
     "data": {
      "application/javascript": [
       "\n",
       "            setTimeout(function() {\n",
       "                var nbb_cell_id = 233;\n",
       "                var nbb_unformatted_code = \"cdf_bulblife.plot(ls=\\\"--\\\", label=\\\"CDF\\\")\\nsurv_bulblife.plot(label=\\\"Survival\\\")\\n\\ndecorate(xlabel=\\\"Light bulb duration (hours)\\\", ylabel=\\\"Probability\\\")\";\n",
       "                var nbb_formatted_code = \"cdf_bulblife.plot(ls=\\\"--\\\", label=\\\"CDF\\\")\\nsurv_bulblife.plot(label=\\\"Survival\\\")\\n\\ndecorate(xlabel=\\\"Light bulb duration (hours)\\\", ylabel=\\\"Probability\\\")\";\n",
       "                var nbb_cells = Jupyter.notebook.get_cells();\n",
       "                for (var i = 0; i < nbb_cells.length; ++i) {\n",
       "                    if (nbb_cells[i].input_prompt_number == nbb_cell_id) {\n",
       "                        if (nbb_cells[i].get_text() == nbb_unformatted_code) {\n",
       "                             nbb_cells[i].set_text(nbb_formatted_code);\n",
       "                        }\n",
       "                        break;\n",
       "                    }\n",
       "                }\n",
       "            }, 500);\n",
       "            "
      ],
      "text/plain": [
       "<IPython.core.display.Javascript object>"
      ]
     },
     "metadata": {},
     "output_type": "display_data"
    }
   ],
   "source": [
    "cdf_bulblife.plot(ls=\"--\", label=\"CDF\")\n",
    "surv_bulblife.plot(label=\"Survival\")\n",
    "\n",
    "decorate(xlabel=\"Light bulb duration (hours)\", ylabel=\"Probability\")"
   ]
  },
  {
   "cell_type": "code",
   "execution_count": 53,
   "id": "ea7b583d",
   "metadata": {},
   "outputs": [
    {
     "data": {
      "text/plain": [
       "0.15384615384615388"
      ]
     },
     "execution_count": 53,
     "metadata": {},
     "output_type": "execute_result"
    },
    {
     "data": {
      "application/javascript": [
       "\n",
       "            setTimeout(function() {\n",
       "                var nbb_cell_id = 53;\n",
       "                var nbb_unformatted_code = \"hazard = pmf_bulblife / (pmf_bulblife + surv_bulblife)\\nhazard[1656]\";\n",
       "                var nbb_formatted_code = \"hazard = pmf_bulblife / (pmf_bulblife + surv_bulblife)\\nhazard[1656]\";\n",
       "                var nbb_cells = Jupyter.notebook.get_cells();\n",
       "                for (var i = 0; i < nbb_cells.length; ++i) {\n",
       "                    if (nbb_cells[i].input_prompt_number == nbb_cell_id) {\n",
       "                        if (nbb_cells[i].get_text() == nbb_unformatted_code) {\n",
       "                             nbb_cells[i].set_text(nbb_formatted_code);\n",
       "                        }\n",
       "                        break;\n",
       "                    }\n",
       "                }\n",
       "            }, 500);\n",
       "            "
      ],
      "text/plain": [
       "<IPython.core.display.Javascript object>"
      ]
     },
     "metadata": {},
     "output_type": "display_data"
    }
   ],
   "source": [
    "hazard = pmf_bulblife / (pmf_bulblife + surv_bulblife)\n",
    "hazard[1656]"
   ]
  },
  {
   "cell_type": "code",
   "execution_count": 58,
   "id": "b15bbdaf",
   "metadata": {},
   "outputs": [
    {
     "data": {
      "text/plain": [
       "0.15384615384615397"
      ]
     },
     "execution_count": 58,
     "metadata": {},
     "output_type": "execute_result"
    },
    {
     "data": {
      "application/javascript": [
       "\n",
       "            setTimeout(function() {\n",
       "                var nbb_cell_id = 58;\n",
       "                var nbb_unformatted_code = \"hazard_bulblife = surv_bulblife.make_hazard()\\nhazard_bulblife[1656]\";\n",
       "                var nbb_formatted_code = \"hazard_bulblife = surv_bulblife.make_hazard()\\nhazard_bulblife[1656]\";\n",
       "                var nbb_cells = Jupyter.notebook.get_cells();\n",
       "                for (var i = 0; i < nbb_cells.length; ++i) {\n",
       "                    if (nbb_cells[i].input_prompt_number == nbb_cell_id) {\n",
       "                        if (nbb_cells[i].get_text() == nbb_unformatted_code) {\n",
       "                             nbb_cells[i].set_text(nbb_formatted_code);\n",
       "                        }\n",
       "                        break;\n",
       "                    }\n",
       "                }\n",
       "            }, 500);\n",
       "            "
      ],
      "text/plain": [
       "<IPython.core.display.Javascript object>"
      ]
     },
     "metadata": {},
     "output_type": "display_data"
    }
   ],
   "source": [
    "hazard_bulblife = surv_bulblife.make_hazard()\n",
    "hazard_bulblife[1656]"
   ]
  },
  {
   "cell_type": "code",
   "execution_count": 59,
   "id": "b61ff097",
   "metadata": {},
   "outputs": [
    {
     "data": {
      "image/png": "[encoded data removed]",
      "text/plain": [
       "<Figure size 450x262.5 with 1 Axes>"
      ]
     },
     "metadata": {},
     "output_type": "display_data"
    },
    {
     "data": {
      "application/javascript": [
       "\n",
       "            setTimeout(function() {\n",
       "                var nbb_cell_id = 59;\n",
       "                var nbb_unformatted_code = \"hazard_bulblife.plot()\\ndecorate(xlabel=\\\"Light bulb duration (hours)\\\", ylabel=\\\"Hazard\\\")\";\n",
       "                var nbb_formatted_code = \"hazard_bulblife.plot()\\ndecorate(xlabel=\\\"Light bulb duration (hours)\\\", ylabel=\\\"Hazard\\\")\";\n",
       "                var nbb_cells = Jupyter.notebook.get_cells();\n",
       "                for (var i = 0; i < nbb_cells.length; ++i) {\n",
       "                    if (nbb_cells[i].input_prompt_number == nbb_cell_id) {\n",
       "                        if (nbb_cells[i].get_text() == nbb_unformatted_code) {\n",
       "                             nbb_cells[i].set_text(nbb_formatted_code);\n",
       "                        }\n",
       "                        break;\n",
       "                    }\n",
       "                }\n",
       "            }, 500);\n",
       "            "
      ],
      "text/plain": [
       "<IPython.core.display.Javascript object>"
      ]
     },
     "metadata": {},
     "output_type": "display_data"
    }
   ],
   "source": [
    "hazard_bulblife.plot()\n",
    "decorate(xlabel=\"Light bulb duration (hours)\", ylabel=\"Hazard\")"
   ]
  },
  {
   "cell_type": "code",
   "execution_count": 61,
   "id": "97ffdb68",
   "metadata": {},
   "outputs": [
    {
     "data": {
      "image/png": "[encoded data removed]",
      "text/plain": [
       "<Figure size 450x262.5 with 1 Axes>"
      ]
     },
     "metadata": {},
     "output_type": "display_data"
    },
    {
     "data": {
      "application/javascript": [
       "\n",
       "            setTimeout(function() {\n",
       "                var nbb_cell_id = 61;\n",
       "                var nbb_unformatted_code = \"cumulative_hazard = hazard_bulblife.cumsum()\\ncumulative_hazard.plot()\\n\\ndecorate(xlabel=\\\"Light bulb duration (hours)\\\", ylabel=\\\"Cumulative hazard\\\")\";\n",
       "                var nbb_formatted_code = \"cumulative_hazard = hazard_bulblife.cumsum()\\ncumulative_hazard.plot()\\n\\ndecorate(xlabel=\\\"Light bulb duration (hours)\\\", ylabel=\\\"Cumulative hazard\\\")\";\n",
       "                var nbb_cells = Jupyter.notebook.get_cells();\n",
       "                for (var i = 0; i < nbb_cells.length; ++i) {\n",
       "                    if (nbb_cells[i].input_prompt_number == nbb_cell_id) {\n",
       "                        if (nbb_cells[i].get_text() == nbb_unformatted_code) {\n",
       "                             nbb_cells[i].set_text(nbb_formatted_code);\n",
       "                        }\n",
       "                        break;\n",
       "                    }\n",
       "                }\n",
       "            }, 500);\n",
       "            "
      ],
      "text/plain": [
       "<IPython.core.display.Javascript object>"
      ]
     },
     "metadata": {},
     "output_type": "display_data"
    }
   ],
   "source": [
    "cumulative_hazard = hazard_bulblife.cumsum()\n",
    "cumulative_hazard.plot()\n",
    "\n",
    "decorate(xlabel=\"Light bulb duration (hours)\", ylabel=\"Cumulative hazard\")"
   ]
  },
  {
   "cell_type": "code",
   "execution_count": null,
   "id": "fb7be4c0",
   "metadata": {},
   "outputs": [],
   "source": []
  },
  {
   "cell_type": "code",
   "execution_count": null,
   "id": "406a003f",
   "metadata": {},
   "outputs": [],
   "source": []
  },
  {
   "cell_type": "code",
   "execution_count": null,
   "id": "c824295d",
   "metadata": {},
   "outputs": [],
   "source": []
  },
  {
   "cell_type": "code",
   "execution_count": null,
   "id": "74802574",
   "metadata": {},
   "outputs": [],
   "source": []
  },
  {
   "cell_type": "markdown",
   "id": "087c5cc4",
   "metadata": {},
   "source": [
    "## Marriage Data"
   ]
  },
  {
   "cell_type": "code",
   "execution_count": 68,
   "id": "c26c557c",
   "metadata": {},
   "outputs": [
    {
     "data": {
      "application/javascript": [
       "\n",
       "            setTimeout(function() {\n",
       "                var nbb_cell_id = 68;\n",
       "                var nbb_unformatted_code = \"filename = \\\"marriage_nsfg_female.csv.gz\\\"\\ndownload(\\\"https://github.com/AllenDowney/ThinkStats/raw/v3/data/\\\" + filename)\";\n",
       "                var nbb_formatted_code = \"filename = \\\"marriage_nsfg_female.csv.gz\\\"\\ndownload(\\\"https://github.com/AllenDowney/ThinkStats/raw/v3/data/\\\" + filename)\";\n",
       "                var nbb_cells = Jupyter.notebook.get_cells();\n",
       "                for (var i = 0; i < nbb_cells.length; ++i) {\n",
       "                    if (nbb_cells[i].input_prompt_number == nbb_cell_id) {\n",
       "                        if (nbb_cells[i].get_text() == nbb_unformatted_code) {\n",
       "                             nbb_cells[i].set_text(nbb_formatted_code);\n",
       "                        }\n",
       "                        break;\n",
       "                    }\n",
       "                }\n",
       "            }, 500);\n",
       "            "
      ],
      "text/plain": [
       "<IPython.core.display.Javascript object>"
      ]
     },
     "metadata": {},
     "output_type": "display_data"
    }
   ],
   "source": [
    "filename = \"marriage_nsfg_female.csv.gz\"\n",
    "download(\"https://github.com/AllenDowney/ThinkStats/raw/v3/data/\" + filename)"
   ]
  },
  {
   "cell_type": "code",
   "execution_count": 69,
   "id": "8c404800",
   "metadata": {},
   "outputs": [
    {
     "data": {
      "text/plain": [
       "(70183, 40)"
      ]
     },
     "execution_count": 69,
     "metadata": {},
     "output_type": "execute_result"
    },
    {
     "data": {
      "application/javascript": [
       "\n",
       "            setTimeout(function() {\n",
       "                var nbb_cell_id = 69;\n",
       "                var nbb_unformatted_code = \"resp = pd.read_csv(filename)\\nresp.shape\";\n",
       "                var nbb_formatted_code = \"resp = pd.read_csv(filename)\\nresp.shape\";\n",
       "                var nbb_cells = Jupyter.notebook.get_cells();\n",
       "                for (var i = 0; i < nbb_cells.length; ++i) {\n",
       "                    if (nbb_cells[i].input_prompt_number == nbb_cell_id) {\n",
       "                        if (nbb_cells[i].get_text() == nbb_unformatted_code) {\n",
       "                             nbb_cells[i].set_text(nbb_formatted_code);\n",
       "                        }\n",
       "                        break;\n",
       "                    }\n",
       "                }\n",
       "            }, 500);\n",
       "            "
      ],
      "text/plain": [
       "<IPython.core.display.Javascript object>"
      ]
     },
     "metadata": {},
     "output_type": "display_data"
    }
   ],
   "source": [
    "resp = pd.read_csv(filename)\n",
    "resp.shape"
   ]
  },
  {
   "cell_type": "markdown",
   "id": "03a369f2",
   "metadata": {},
   "source": [
    "Marriage data\n",
    "\n",
    "-   `cmbirth`: The respondent's date of birth, known for all respondents.\n",
    "\n",
    "-   `cmintvw`: The date the respondent was interviewed, known for all respondents.\n",
    "\n",
    "-   `cmmarrhx`: The date the respondent was first married, if applicable and known.\n",
    "\n",
    "-   `evrmarry`: 1 if the respondent had been married prior to the date of interview, 0 otherwise.\n",
    "\n",
    "The first three variables are encoded in \"century-months\"; that is, the integer number of months since December 1899.\n",
    "So century-month 1 is January 1900."
   ]
  },
  {
   "cell_type": "code",
   "execution_count": 70,
   "id": "edf30d65",
   "metadata": {},
   "outputs": [
    {
     "data": {
      "application/javascript": [
       "\n",
       "            setTimeout(function() {\n",
       "                var nbb_cell_id = 70;\n",
       "                var nbb_unformatted_code = \"month0 = pd.to_datetime(\\\"1899-12-31\\\")\\n\\n\\ndef decade_of_birth(cmbirth):\\n    date = month0 + pd.DateOffset(months=cmbirth)\\n    return date.year // 10 * 10\";\n",
       "                var nbb_formatted_code = \"month0 = pd.to_datetime(\\\"1899-12-31\\\")\\n\\n\\ndef decade_of_birth(cmbirth):\\n    date = month0 + pd.DateOffset(months=cmbirth)\\n    return date.year // 10 * 10\";\n",
       "                var nbb_cells = Jupyter.notebook.get_cells();\n",
       "                for (var i = 0; i < nbb_cells.length; ++i) {\n",
       "                    if (nbb_cells[i].input_prompt_number == nbb_cell_id) {\n",
       "                        if (nbb_cells[i].get_text() == nbb_unformatted_code) {\n",
       "                             nbb_cells[i].set_text(nbb_formatted_code);\n",
       "                        }\n",
       "                        break;\n",
       "                    }\n",
       "                }\n",
       "            }, 500);\n",
       "            "
      ],
      "text/plain": [
       "<IPython.core.display.Javascript object>"
      ]
     },
     "metadata": {},
     "output_type": "display_data"
    }
   ],
   "source": [
    "month0 = pd.to_datetime(\"1899-12-31\")\n",
    "\n",
    "\n",
    "def decade_of_birth(cmbirth):\n",
    "    date = month0 + pd.DateOffset(months=cmbirth)\n",
    "    return date.year // 10 * 10"
   ]
  },
  {
   "cell_type": "code",
   "execution_count": 71,
   "id": "4509f3db",
   "metadata": {},
   "outputs": [
    {
     "data": {
      "text/plain": [
       "cohort\n",
       "1930      325\n",
       "1940     3608\n",
       "1950    10631\n",
       "1960    15064\n",
       "1970    16466\n",
       "1980    14318\n",
       "1990     8539\n",
       "2000     1232\n",
       "Name: count, dtype: int64"
      ]
     },
     "execution_count": 71,
     "metadata": {},
     "output_type": "execute_result"
    },
    {
     "data": {
      "application/javascript": [
       "\n",
       "            setTimeout(function() {\n",
       "                var nbb_cell_id = 71;\n",
       "                var nbb_unformatted_code = \"from thinkstats import value_counts\\n\\nresp[\\\"cohort\\\"] = resp[\\\"cmbirth\\\"].apply(decade_of_birth)\\nvalue_counts(resp[\\\"cohort\\\"])\";\n",
       "                var nbb_formatted_code = \"from thinkstats import value_counts\\n\\nresp[\\\"cohort\\\"] = resp[\\\"cmbirth\\\"].apply(decade_of_birth)\\nvalue_counts(resp[\\\"cohort\\\"])\";\n",
       "                var nbb_cells = Jupyter.notebook.get_cells();\n",
       "                for (var i = 0; i < nbb_cells.length; ++i) {\n",
       "                    if (nbb_cells[i].input_prompt_number == nbb_cell_id) {\n",
       "                        if (nbb_cells[i].get_text() == nbb_unformatted_code) {\n",
       "                             nbb_cells[i].set_text(nbb_formatted_code);\n",
       "                        }\n",
       "                        break;\n",
       "                    }\n",
       "                }\n",
       "            }, 500);\n",
       "            "
      ],
      "text/plain": [
       "<IPython.core.display.Javascript object>"
      ]
     },
     "metadata": {},
     "output_type": "display_data"
    }
   ],
   "source": [
    "from thinkstats import value_counts\n",
    "\n",
    "resp[\"cohort\"] = resp[\"cmbirth\"].apply(decade_of_birth)\n",
    "value_counts(resp[\"cohort\"])"
   ]
  },
  {
   "cell_type": "code",
   "execution_count": 72,
   "id": "01039087",
   "metadata": {},
   "outputs": [
    {
     "data": {
      "text/plain": [
       "cmmarrhx\n",
       "626.0         1\n",
       "628.0         1\n",
       "629.0         1\n",
       "630.0         1\n",
       "639.0         2\n",
       "          ...  \n",
       "1392.0      203\n",
       "1404.0      117\n",
       "1416.0       55\n",
       "1428.0       13\n",
       "NaN       33682\n",
       "Name: count, Length: 746, dtype: int64"
      ]
     },
     "execution_count": 72,
     "metadata": {},
     "output_type": "execute_result"
    },
    {
     "data": {
      "application/javascript": [
       "\n",
       "            setTimeout(function() {\n",
       "                var nbb_cell_id = 72;\n",
       "                var nbb_unformatted_code = \"value_counts(resp[\\\"cmmarrhx\\\"])\";\n",
       "                var nbb_formatted_code = \"value_counts(resp[\\\"cmmarrhx\\\"])\";\n",
       "                var nbb_cells = Jupyter.notebook.get_cells();\n",
       "                for (var i = 0; i < nbb_cells.length; ++i) {\n",
       "                    if (nbb_cells[i].input_prompt_number == nbb_cell_id) {\n",
       "                        if (nbb_cells[i].get_text() == nbb_unformatted_code) {\n",
       "                             nbb_cells[i].set_text(nbb_formatted_code);\n",
       "                        }\n",
       "                        break;\n",
       "                    }\n",
       "                }\n",
       "            }, 500);\n",
       "            "
      ],
      "text/plain": [
       "<IPython.core.display.Javascript object>"
      ]
     },
     "metadata": {},
     "output_type": "display_data"
    }
   ],
   "source": [
    "value_counts(resp[\"cmmarrhx\"])"
   ]
  },
  {
   "cell_type": "markdown",
   "id": "505bf1ef",
   "metadata": {},
   "source": [
    "Then we compute each respondent's age when married and age when interviewed:"
   ]
  },
  {
   "cell_type": "code",
   "execution_count": 82,
   "id": "3eb44770",
   "metadata": {},
   "outputs": [
    {
     "data": {
      "application/javascript": [
       "\n",
       "            setTimeout(function() {\n",
       "                var nbb_cell_id = 82;\n",
       "                var nbb_unformatted_code = \"resp[\\\"agemarr\\\"] = (resp[\\\"cmmarrhx\\\"] - resp[\\\"cmbirth\\\"]) / 12\\nresp[\\\"age\\\"] = (resp[\\\"cmintvw\\\"] - resp[\\\"cmbirth\\\"]) / 12\";\n",
       "                var nbb_formatted_code = \"resp[\\\"agemarr\\\"] = (resp[\\\"cmmarrhx\\\"] - resp[\\\"cmbirth\\\"]) / 12\\nresp[\\\"age\\\"] = (resp[\\\"cmintvw\\\"] - resp[\\\"cmbirth\\\"]) / 12\";\n",
       "                var nbb_cells = Jupyter.notebook.get_cells();\n",
       "                for (var i = 0; i < nbb_cells.length; ++i) {\n",
       "                    if (nbb_cells[i].input_prompt_number == nbb_cell_id) {\n",
       "                        if (nbb_cells[i].get_text() == nbb_unformatted_code) {\n",
       "                             nbb_cells[i].set_text(nbb_formatted_code);\n",
       "                        }\n",
       "                        break;\n",
       "                    }\n",
       "                }\n",
       "            }, 500);\n",
       "            "
      ],
      "text/plain": [
       "<IPython.core.display.Javascript object>"
      ]
     },
     "metadata": {},
     "output_type": "display_data"
    }
   ],
   "source": [
    "resp[\"agemarr\"] = (resp[\"cmmarrhx\"] - resp[\"cmbirth\"]) / 12\n",
    "resp[\"age\"] = (resp[\"cmintvw\"] - resp[\"cmbirth\"]) / 12"
   ]
  },
  {
   "cell_type": "code",
   "execution_count": 83,
   "id": "a1b414fa",
   "metadata": {},
   "outputs": [
    {
     "name": "stdout",
     "output_type": "stream",
     "text": [
      "1930 325\n",
      "1940 3608\n",
      "1950 10631\n",
      "1960 15064\n",
      "1970 16466\n",
      "1980 14318\n",
      "1990 8539\n",
      "2000 1232\n"
     ]
    },
    {
     "data": {
      "application/javascript": [
       "\n",
       "            setTimeout(function() {\n",
       "                var nbb_cell_id = 83;\n",
       "                var nbb_unformatted_code = \"grouped = resp.groupby(\\\"cohort\\\")\\nfor name, group in grouped:\\n    print(name, len(group))\";\n",
       "                var nbb_formatted_code = \"grouped = resp.groupby(\\\"cohort\\\")\\nfor name, group in grouped:\\n    print(name, len(group))\";\n",
       "                var nbb_cells = Jupyter.notebook.get_cells();\n",
       "                for (var i = 0; i < nbb_cells.length; ++i) {\n",
       "                    if (nbb_cells[i].input_prompt_number == nbb_cell_id) {\n",
       "                        if (nbb_cells[i].get_text() == nbb_unformatted_code) {\n",
       "                             nbb_cells[i].set_text(nbb_formatted_code);\n",
       "                        }\n",
       "                        break;\n",
       "                    }\n",
       "                }\n",
       "            }, 500);\n",
       "            "
      ],
      "text/plain": [
       "<IPython.core.display.Javascript object>"
      ]
     },
     "metadata": {},
     "output_type": "display_data"
    }
   ],
   "source": [
    "grouped = resp.groupby(\"cohort\")\n",
    "for name, group in grouped:\n",
    "    print(name, len(group))"
   ]
  },
  {
   "cell_type": "code",
   "execution_count": 321,
   "id": "fc4be0d4",
   "metadata": {},
   "outputs": [
    {
     "data": {
      "application/javascript": [
       "\n",
       "            setTimeout(function() {\n",
       "                var nbb_cell_id = 321;\n",
       "                var nbb_unformatted_code = \"from empiricaldist import Surv\\n\\n\\ndef make_survival_curves(resp, cohorts):\\n    curve_map = {}\\n\\n    grouped = resp.groupby(\\\"cohort\\\")\\n    for cohort in cohorts:\\n        group = grouped.get_group(cohort)\\n        curve_map[cohort] = Surv.from_seq(group[\\\"agemarr\\\"], dropna=False)\\n\\n    return curve_map\";\n",
       "                var nbb_formatted_code = \"from empiricaldist import Surv\\n\\n\\ndef make_survival_curves(resp, cohorts):\\n    curve_map = {}\\n\\n    grouped = resp.groupby(\\\"cohort\\\")\\n    for cohort in cohorts:\\n        group = grouped.get_group(cohort)\\n        curve_map[cohort] = Surv.from_seq(group[\\\"agemarr\\\"], dropna=False)\\n\\n    return curve_map\";\n",
       "                var nbb_cells = Jupyter.notebook.get_cells();\n",
       "                for (var i = 0; i < nbb_cells.length; ++i) {\n",
       "                    if (nbb_cells[i].input_prompt_number == nbb_cell_id) {\n",
       "                        if (nbb_cells[i].get_text() == nbb_unformatted_code) {\n",
       "                             nbb_cells[i].set_text(nbb_formatted_code);\n",
       "                        }\n",
       "                        break;\n",
       "                    }\n",
       "                }\n",
       "            }, 500);\n",
       "            "
      ],
      "text/plain": [
       "<IPython.core.display.Javascript object>"
      ]
     },
     "metadata": {},
     "output_type": "display_data"
    }
   ],
   "source": [
    "from empiricaldist import Surv\n",
    "\n",
    "\n",
    "def make_survival_curves(resp, cohorts):\n",
    "    curve_map = {}\n",
    "\n",
    "    grouped = resp.groupby(\"cohort\")\n",
    "    for cohort in cohorts:\n",
    "        group = grouped.get_group(cohort)\n",
    "        curve_map[cohort] = Surv.from_seq(group[\"agemarr\"], dropna=False)\n",
    "\n",
    "    return curve_map"
   ]
  },
  {
   "cell_type": "code",
   "execution_count": 323,
   "id": "5e64993c",
   "metadata": {},
   "outputs": [
    {
     "data": {
      "image/png": "[encoded data removed]",
      "text/plain": [
       "<Figure size 450x262.5 with 1 Axes>"
      ]
     },
     "metadata": {},
     "output_type": "display_data"
    },
    {
     "data": {
      "application/javascript": [
       "\n",
       "            setTimeout(function() {\n",
       "                var nbb_cell_id = 323;\n",
       "                var nbb_unformatted_code = \"cohorts = [1980, 1960, 1940]\\ncurve_map = make_survival_curves(resp, cohorts)\\n\\nfor cohort, curve in curve_map.items():\\n    curve.plot(label=f\\\"{cohort}s\\\")\\n\\ndecorate(xlabel=\\\"Age\\\", ylabel=\\\"Prob never married\\\")\";\n",
       "                var nbb_formatted_code = \"cohorts = [1980, 1960, 1940]\\ncurve_map = make_survival_curves(resp, cohorts)\\n\\nfor cohort, curve in curve_map.items():\\n    curve.plot(label=f\\\"{cohort}s\\\")\\n\\ndecorate(xlabel=\\\"Age\\\", ylabel=\\\"Prob never married\\\")\";\n",
       "                var nbb_cells = Jupyter.notebook.get_cells();\n",
       "                for (var i = 0; i < nbb_cells.length; ++i) {\n",
       "                    if (nbb_cells[i].input_prompt_number == nbb_cell_id) {\n",
       "                        if (nbb_cells[i].get_text() == nbb_unformatted_code) {\n",
       "                             nbb_cells[i].set_text(nbb_formatted_code);\n",
       "                        }\n",
       "                        break;\n",
       "                    }\n",
       "                }\n",
       "            }, 500);\n",
       "            "
      ],
      "text/plain": [
       "<IPython.core.display.Javascript object>"
      ]
     },
     "metadata": {},
     "output_type": "display_data"
    }
   ],
   "source": [
    "cohorts = [1980, 1960, 1940]\n",
    "curve_map = make_survival_curves(resp, cohorts)\n",
    "\n",
    "for cohort, curve in curve_map.items():\n",
    "    curve.plot(label=f\"{cohort}s\")\n",
    "\n",
    "decorate(xlabel=\"Age\", ylabel=\"Prob never married\")"
   ]
  },
  {
   "cell_type": "markdown",
   "id": "be407678",
   "metadata": {},
   "source": [
    "The problem is that these are totally wrong"
   ]
  },
  {
   "cell_type": "code",
   "execution_count": null,
   "id": "ece4dc82",
   "metadata": {},
   "outputs": [],
   "source": []
  },
  {
   "cell_type": "markdown",
   "id": "8ce39ee8",
   "metadata": {},
   "source": [
    "## Weighted resampling"
   ]
  },
  {
   "cell_type": "code",
   "execution_count": 105,
   "id": "3114969b",
   "metadata": {},
   "outputs": [
    {
     "data": {
      "application/javascript": [
       "\n",
       "            setTimeout(function() {\n",
       "                var nbb_cell_id = 105;\n",
       "                var nbb_unformatted_code = \"from thinkstats import resample_rows_weighted\\n\\n\\ndef resample_cycles(resp):\\n    grouped = resp.groupby(\\\"cycle\\\")\\n    samples = [resample_rows_weighted(group, column=\\\"finalwgt\\\") for _, group in grouped]\\n    return pd.concat(samples)\";\n",
       "                var nbb_formatted_code = \"from thinkstats import resample_rows_weighted\\n\\n\\ndef resample_cycles(resp):\\n    grouped = resp.groupby(\\\"cycle\\\")\\n    samples = [resample_rows_weighted(group, column=\\\"finalwgt\\\") for _, group in grouped]\\n    return pd.concat(samples)\";\n",
       "                var nbb_cells = Jupyter.notebook.get_cells();\n",
       "                for (var i = 0; i < nbb_cells.length; ++i) {\n",
       "                    if (nbb_cells[i].input_prompt_number == nbb_cell_id) {\n",
       "                        if (nbb_cells[i].get_text() == nbb_unformatted_code) {\n",
       "                             nbb_cells[i].set_text(nbb_formatted_code);\n",
       "                        }\n",
       "                        break;\n",
       "                    }\n",
       "                }\n",
       "            }, 500);\n",
       "            "
      ],
      "text/plain": [
       "<IPython.core.display.Javascript object>"
      ]
     },
     "metadata": {},
     "output_type": "display_data"
    }
   ],
   "source": [
    "from thinkstats import resample_rows_weighted\n",
    "\n",
    "\n",
    "def resample_cycles(resp):\n",
    "    grouped = resp.groupby(\"cycle\")\n",
    "    samples = [resample_rows_weighted(group, column=\"finalwgt\") for _, group in grouped]\n",
    "    return pd.concat(samples)"
   ]
  },
  {
   "cell_type": "code",
   "execution_count": 106,
   "id": "2057504b",
   "metadata": {},
   "outputs": [
    {
     "data": {
      "application/javascript": [
       "\n",
       "            setTimeout(function() {\n",
       "                var nbb_cell_id = 106;\n",
       "                var nbb_unformatted_code = \"sample = resample_cycles(resp)\";\n",
       "                var nbb_formatted_code = \"sample = resample_cycles(resp)\";\n",
       "                var nbb_cells = Jupyter.notebook.get_cells();\n",
       "                for (var i = 0; i < nbb_cells.length; ++i) {\n",
       "                    if (nbb_cells[i].input_prompt_number == nbb_cell_id) {\n",
       "                        if (nbb_cells[i].get_text() == nbb_unformatted_code) {\n",
       "                             nbb_cells[i].set_text(nbb_formatted_code);\n",
       "                        }\n",
       "                        break;\n",
       "                    }\n",
       "                }\n",
       "            }, 500);\n",
       "            "
      ],
      "text/plain": [
       "<IPython.core.display.Javascript object>"
      ]
     },
     "metadata": {},
     "output_type": "display_data"
    }
   ],
   "source": [
    "sample = resample_cycles(resp)"
   ]
  },
  {
   "cell_type": "code",
   "execution_count": 108,
   "id": "1dbee61f",
   "metadata": {},
   "outputs": [
    {
     "data": {
      "image/png": "[encoded data removed]",
      "text/plain": [
       "<Figure size 450x262.5 with 1 Axes>"
      ]
     },
     "metadata": {},
     "output_type": "display_data"
    },
    {
     "data": {
      "application/javascript": [
       "\n",
       "            setTimeout(function() {\n",
       "                var nbb_cell_id = 108;\n",
       "                var nbb_unformatted_code = \"for label, curve in curves.items():\\n    curve.plot(ls=':', color=\\\"gray\\\", alpha=0.5)\\n\\ncurves_resampled = make_survival_curves(sample, cohorts)\\n\\nfor label, curve in curves_resampled.items():\\n    curve.plot(label=label)\\n\\ndecorate(xlabel=\\\"Age\\\", ylabel=\\\"Prob never married\\\")\";\n",
       "                var nbb_formatted_code = \"for label, curve in curves.items():\\n    curve.plot(ls=\\\":\\\", color=\\\"gray\\\", alpha=0.5)\\n\\ncurves_resampled = make_survival_curves(sample, cohorts)\\n\\nfor label, curve in curves_resampled.items():\\n    curve.plot(label=label)\\n\\ndecorate(xlabel=\\\"Age\\\", ylabel=\\\"Prob never married\\\")\";\n",
       "                var nbb_cells = Jupyter.notebook.get_cells();\n",
       "                for (var i = 0; i < nbb_cells.length; ++i) {\n",
       "                    if (nbb_cells[i].input_prompt_number == nbb_cell_id) {\n",
       "                        if (nbb_cells[i].get_text() == nbb_unformatted_code) {\n",
       "                             nbb_cells[i].set_text(nbb_formatted_code);\n",
       "                        }\n",
       "                        break;\n",
       "                    }\n",
       "                }\n",
       "            }, 500);\n",
       "            "
      ],
      "text/plain": [
       "<IPython.core.display.Javascript object>"
      ]
     },
     "metadata": {},
     "output_type": "display_data"
    }
   ],
   "source": [
    "for label, curve in curves.items():\n",
    "    curve.plot(ls=\":\", color=\"gray\", alpha=0.5)\n",
    "\n",
    "curves_resampled = make_survival_curves(sample, cohorts)\n",
    "\n",
    "for label, curve in curves_resampled.items():\n",
    "    curve.plot(label=label)\n",
    "\n",
    "decorate(xlabel=\"Age\", ylabel=\"Prob never married\")"
   ]
  },
  {
   "cell_type": "markdown",
   "id": "e76885a6",
   "metadata": {},
   "source": [
    "## Inferring survival curves\n",
    "\n",
    "If someone gives you the CDF of lifetimes, it is easy to compute the survival and hazard functions.\n",
    "But in many real-world scenarios, we can't measure the distribution of lifetimes directly.\n",
    "We have to infer it.\n",
    "\n",
    "For example, suppose you are following a group of patients to see how long they survive after diagnosis.\n",
    "Not all patients are diagnosed on the same day, so at any point in time, some patients have survived longer than others.\n",
    "If some patients have died, we know their survival times.\n",
    "For patients who are still alive, we don't know survival times, but we have a lower bound.\n",
    "\n",
    "If we wait until all patients are dead, we can compute the survival curve, but if we are evaluating the effectiveness of a new treatment, we can't wait that long! We need a way to estimate survival curves using incomplete information."
   ]
  },
  {
   "cell_type": "markdown",
   "id": "116f50ba",
   "metadata": {},
   "source": [
    "As a more cheerful example, I will use NSFG data to quantify how long respondents \"survive\" until they get married for the first time.\n",
    "The range of respondents' ages is 14 to 44 years, so the dataset provides a snapshot of women at different stages in their lives.\n",
    "\n",
    "For women who have been married, the dataset includes the date of their first marriage and their age at the time.\n",
    "For women who have not been married, we know their age when interviewed, but have no way of knowing when or if they will get married.\n",
    "\n",
    "Since we know the age at first marriage for *some* women, it might be tempting to exclude the rest and compute the CDF of the known data.\n",
    "That is a bad idea.\n",
    "The result would be doubly misleading: (1) older women would be overrepresented, because they are more likely to be married when interviewed, and (2) married women would be overrepresented! In fact, this analysis would lead to the conclusion that all women get married, which is obviously incorrect."
   ]
  },
  {
   "cell_type": "markdown",
   "id": "1c458c8d",
   "metadata": {},
   "source": [
    "## Kaplan-Meier estimation\n",
    "\n",
    "In this example it is not only desirable but necessary to include observations of unmarried women, which brings us to one of the central algorithms in survival analysis, **Kaplan-Meier estimation**.\n",
    "\n",
    "The general idea is that we can use the data to estimate the hazard function, then convert the hazard function to a survival curve.\n",
    "To estimate the hazard function, we consider, for each age, (1) the number of women who got married at that age and (2) the number of women \"at risk\" of getting married, which includes all women who were not married at an earlier age.\n",
    "\n",
    "Here's the code:"
   ]
  },
  {
   "cell_type": "code",
   "execution_count": 187,
   "id": "4ebb98a2",
   "metadata": {},
   "outputs": [
    {
     "data": {
      "application/javascript": [
       "\n",
       "            setTimeout(function() {\n",
       "                var nbb_cell_id = 187;\n",
       "                var nbb_unformatted_code = \"resp60 = sample.query(\\\"cohort == 1960\\\")\";\n",
       "                var nbb_formatted_code = \"resp60 = sample.query(\\\"cohort == 1960\\\")\";\n",
       "                var nbb_cells = Jupyter.notebook.get_cells();\n",
       "                for (var i = 0; i < nbb_cells.length; ++i) {\n",
       "                    if (nbb_cells[i].input_prompt_number == nbb_cell_id) {\n",
       "                        if (nbb_cells[i].get_text() == nbb_unformatted_code) {\n",
       "                             nbb_cells[i].set_text(nbb_formatted_code);\n",
       "                        }\n",
       "                        break;\n",
       "                    }\n",
       "                }\n",
       "            }, 500);\n",
       "            "
      ],
      "text/plain": [
       "<IPython.core.display.Javascript object>"
      ]
     },
     "metadata": {},
     "output_type": "display_data"
    }
   ],
   "source": [
    "resp60 = sample.query(\"cohort == 1960\")"
   ]
  },
  {
   "cell_type": "code",
   "execution_count": 188,
   "id": "ec4d381b",
   "metadata": {},
   "outputs": [
    {
     "data": {
      "text/plain": [
       "10046"
      ]
     },
     "execution_count": 188,
     "metadata": {},
     "output_type": "execute_result"
    },
    {
     "data": {
      "application/javascript": [
       "\n",
       "            setTimeout(function() {\n",
       "                var nbb_cell_id = 188;\n",
       "                var nbb_unformatted_code = \"complete = resp60.query(\\\"evrmarry == 1\\\")[\\\"agemarry\\\"].dropna()\\nlen(complete)\";\n",
       "                var nbb_formatted_code = \"complete = resp60.query(\\\"evrmarry == 1\\\")[\\\"agemarry\\\"].dropna()\\nlen(complete)\";\n",
       "                var nbb_cells = Jupyter.notebook.get_cells();\n",
       "                for (var i = 0; i < nbb_cells.length; ++i) {\n",
       "                    if (nbb_cells[i].input_prompt_number == nbb_cell_id) {\n",
       "                        if (nbb_cells[i].get_text() == nbb_unformatted_code) {\n",
       "                             nbb_cells[i].set_text(nbb_formatted_code);\n",
       "                        }\n",
       "                        break;\n",
       "                    }\n",
       "                }\n",
       "            }, 500);\n",
       "            "
      ],
      "text/plain": [
       "<IPython.core.display.Javascript object>"
      ]
     },
     "metadata": {},
     "output_type": "display_data"
    }
   ],
   "source": [
    "complete = resp60.query(\"evrmarry == 1\")[\"agemarry\"].dropna()\n",
    "len(complete)"
   ]
  },
  {
   "cell_type": "code",
   "execution_count": 189,
   "id": "694093e2",
   "metadata": {},
   "outputs": [
    {
     "data": {
      "text/plain": [
       "5522"
      ]
     },
     "execution_count": 189,
     "metadata": {},
     "output_type": "execute_result"
    },
    {
     "data": {
      "application/javascript": [
       "\n",
       "            setTimeout(function() {\n",
       "                var nbb_cell_id = 189;\n",
       "                var nbb_unformatted_code = \"ongoing = resp60.query(\\\"evrmarry == 0\\\")[\\\"age\\\"]\\nlen(ongoing)\";\n",
       "                var nbb_formatted_code = \"ongoing = resp60.query(\\\"evrmarry == 0\\\")[\\\"age\\\"]\\nlen(ongoing)\";\n",
       "                var nbb_cells = Jupyter.notebook.get_cells();\n",
       "                for (var i = 0; i < nbb_cells.length; ++i) {\n",
       "                    if (nbb_cells[i].input_prompt_number == nbb_cell_id) {\n",
       "                        if (nbb_cells[i].get_text() == nbb_unformatted_code) {\n",
       "                             nbb_cells[i].set_text(nbb_formatted_code);\n",
       "                        }\n",
       "                        break;\n",
       "                    }\n",
       "                }\n",
       "            }, 500);\n",
       "            "
      ],
      "text/plain": [
       "<IPython.core.display.Javascript object>"
      ]
     },
     "metadata": {},
     "output_type": "display_data"
    }
   ],
   "source": [
    "ongoing = resp60.query(\"evrmarry == 0\")[\"age\"]\n",
    "len(ongoing)"
   ]
  },
  {
   "cell_type": "code",
   "execution_count": 273,
   "id": "93387c6a",
   "metadata": {},
   "outputs": [
    {
     "data": {
      "application/javascript": [
       "\n",
       "            setTimeout(function() {\n",
       "                var nbb_cell_id = 273;\n",
       "                var nbb_unformatted_code = \"from empiricaldist import Hist\\n\\nhist_complete = Hist.from_seq(complete)\\nhist_ongoing = Hist.from_seq(ongoing)\";\n",
       "                var nbb_formatted_code = \"from empiricaldist import Hist\\n\\nhist_complete = Hist.from_seq(complete)\\nhist_ongoing = Hist.from_seq(ongoing)\";\n",
       "                var nbb_cells = Jupyter.notebook.get_cells();\n",
       "                for (var i = 0; i < nbb_cells.length; ++i) {\n",
       "                    if (nbb_cells[i].input_prompt_number == nbb_cell_id) {\n",
       "                        if (nbb_cells[i].get_text() == nbb_unformatted_code) {\n",
       "                             nbb_cells[i].set_text(nbb_formatted_code);\n",
       "                        }\n",
       "                        break;\n",
       "                    }\n",
       "                }\n",
       "            }, 500);\n",
       "            "
      ],
      "text/plain": [
       "<IPython.core.display.Javascript object>"
      ]
     },
     "metadata": {},
     "output_type": "display_data"
    }
   ],
   "source": [
    "from empiricaldist import Hist\n",
    "\n",
    "hist_complete = Hist.from_seq(complete)\n",
    "hist_ongoing = Hist.from_seq(ongoing)"
   ]
  },
  {
   "cell_type": "code",
   "execution_count": 274,
   "id": "6f4d2c49",
   "metadata": {},
   "outputs": [
    {
     "data": {
      "text/plain": [
       "75"
      ]
     },
     "execution_count": 274,
     "metadata": {},
     "output_type": "execute_result"
    },
    {
     "data": {
      "application/javascript": [
       "\n",
       "            setTimeout(function() {\n",
       "                var nbb_cell_id = 274;\n",
       "                var nbb_unformatted_code = \"hist_complete[25]\";\n",
       "                var nbb_formatted_code = \"hist_complete[25]\";\n",
       "                var nbb_cells = Jupyter.notebook.get_cells();\n",
       "                for (var i = 0; i < nbb_cells.length; ++i) {\n",
       "                    if (nbb_cells[i].input_prompt_number == nbb_cell_id) {\n",
       "                        if (nbb_cells[i].get_text() == nbb_unformatted_code) {\n",
       "                             nbb_cells[i].set_text(nbb_formatted_code);\n",
       "                        }\n",
       "                        break;\n",
       "                    }\n",
       "                }\n",
       "            }, 500);\n",
       "            "
      ],
      "text/plain": [
       "<IPython.core.display.Javascript object>"
      ]
     },
     "metadata": {},
     "output_type": "display_data"
    }
   ],
   "source": [
    "hist_complete[25]"
   ]
  },
  {
   "cell_type": "code",
   "execution_count": 275,
   "id": "7d234834",
   "metadata": {},
   "outputs": [
    {
     "data": {
      "text/plain": [
       "11"
      ]
     },
     "execution_count": 275,
     "metadata": {},
     "output_type": "execute_result"
    },
    {
     "data": {
      "application/javascript": [
       "\n",
       "            setTimeout(function() {\n",
       "                var nbb_cell_id = 275;\n",
       "                var nbb_unformatted_code = \"hist_ongoing[25]\";\n",
       "                var nbb_formatted_code = \"hist_ongoing[25]\";\n",
       "                var nbb_cells = Jupyter.notebook.get_cells();\n",
       "                for (var i = 0; i < nbb_cells.length; ++i) {\n",
       "                    if (nbb_cells[i].input_prompt_number == nbb_cell_id) {\n",
       "                        if (nbb_cells[i].get_text() == nbb_unformatted_code) {\n",
       "                             nbb_cells[i].set_text(nbb_formatted_code);\n",
       "                        }\n",
       "                        break;\n",
       "                    }\n",
       "                }\n",
       "            }, 500);\n",
       "            "
      ],
      "text/plain": [
       "<IPython.core.display.Javascript object>"
      ]
     },
     "metadata": {},
     "output_type": "display_data"
    }
   ],
   "source": [
    "hist_ongoing[25]"
   ]
  },
  {
   "cell_type": "code",
   "execution_count": 276,
   "id": "730cc280",
   "metadata": {},
   "outputs": [
    {
     "data": {
      "application/javascript": [
       "\n",
       "            setTimeout(function() {\n",
       "                var nbb_cell_id = 276;\n",
       "                var nbb_unformatted_code = \"surv_complete = hist_complete.make_surv()\\nsurv_ongoing = hist_ongoing.make_surv()\";\n",
       "                var nbb_formatted_code = \"surv_complete = hist_complete.make_surv()\\nsurv_ongoing = hist_ongoing.make_surv()\";\n",
       "                var nbb_cells = Jupyter.notebook.get_cells();\n",
       "                for (var i = 0; i < nbb_cells.length; ++i) {\n",
       "                    if (nbb_cells[i].input_prompt_number == nbb_cell_id) {\n",
       "                        if (nbb_cells[i].get_text() == nbb_unformatted_code) {\n",
       "                             nbb_cells[i].set_text(nbb_formatted_code);\n",
       "                        }\n",
       "                        break;\n",
       "                    }\n",
       "                }\n",
       "            }, 500);\n",
       "            "
      ],
      "text/plain": [
       "<IPython.core.display.Javascript object>"
      ]
     },
     "metadata": {},
     "output_type": "display_data"
    }
   ],
   "source": [
    "surv_complete = hist_complete.make_surv()\n",
    "surv_ongoing = hist_ongoing.make_surv()"
   ]
  },
  {
   "cell_type": "code",
   "execution_count": 277,
   "id": "8f591e82",
   "metadata": {},
   "outputs": [
    {
     "data": {
      "text/plain": [
       "2927"
      ]
     },
     "execution_count": 277,
     "metadata": {},
     "output_type": "execute_result"
    },
    {
     "data": {
      "application/javascript": [
       "\n",
       "            setTimeout(function() {\n",
       "                var nbb_cell_id = 277;\n",
       "                var nbb_unformatted_code = \"surv_complete[25]\";\n",
       "                var nbb_formatted_code = \"surv_complete[25]\";\n",
       "                var nbb_cells = Jupyter.notebook.get_cells();\n",
       "                for (var i = 0; i < nbb_cells.length; ++i) {\n",
       "                    if (nbb_cells[i].input_prompt_number == nbb_cell_id) {\n",
       "                        if (nbb_cells[i].get_text() == nbb_unformatted_code) {\n",
       "                             nbb_cells[i].set_text(nbb_formatted_code);\n",
       "                        }\n",
       "                        break;\n",
       "                    }\n",
       "                }\n",
       "            }, 500);\n",
       "            "
      ],
      "text/plain": [
       "<IPython.core.display.Javascript object>"
      ]
     },
     "metadata": {},
     "output_type": "display_data"
    }
   ],
   "source": [
    "surv_complete[25]"
   ]
  },
  {
   "cell_type": "code",
   "execution_count": 278,
   "id": "b8662dac",
   "metadata": {},
   "outputs": [
    {
     "data": {
      "text/plain": [
       "2261"
      ]
     },
     "execution_count": 278,
     "metadata": {},
     "output_type": "execute_result"
    },
    {
     "data": {
      "application/javascript": [
       "\n",
       "            setTimeout(function() {\n",
       "                var nbb_cell_id = 278;\n",
       "                var nbb_unformatted_code = \"surv_ongoing[25]\";\n",
       "                var nbb_formatted_code = \"surv_ongoing[25]\";\n",
       "                var nbb_cells = Jupyter.notebook.get_cells();\n",
       "                for (var i = 0; i < nbb_cells.length; ++i) {\n",
       "                    if (nbb_cells[i].input_prompt_number == nbb_cell_id) {\n",
       "                        if (nbb_cells[i].get_text() == nbb_unformatted_code) {\n",
       "                             nbb_cells[i].set_text(nbb_formatted_code);\n",
       "                        }\n",
       "                        break;\n",
       "                    }\n",
       "                }\n",
       "            }, 500);\n",
       "            "
      ],
      "text/plain": [
       "<IPython.core.display.Javascript object>"
      ]
     },
     "metadata": {},
     "output_type": "display_data"
    }
   ],
   "source": [
    "surv_ongoing[25]"
   ]
  },
  {
   "cell_type": "code",
   "execution_count": 279,
   "id": "c931e932",
   "metadata": {},
   "outputs": [
    {
     "data": {
      "text/plain": [
       "5274"
      ]
     },
     "execution_count": 279,
     "metadata": {},
     "output_type": "execute_result"
    },
    {
     "data": {
      "application/javascript": [
       "\n",
       "            setTimeout(function() {\n",
       "                var nbb_cell_id = 279;\n",
       "                var nbb_unformatted_code = \"at_risk = hist_complete[25] + hist_ongoing[25] + surv_complete[25] + surv_ongoing[25]\\nat_risk\";\n",
       "                var nbb_formatted_code = \"at_risk = hist_complete[25] + hist_ongoing[25] + surv_complete[25] + surv_ongoing[25]\\nat_risk\";\n",
       "                var nbb_cells = Jupyter.notebook.get_cells();\n",
       "                for (var i = 0; i < nbb_cells.length; ++i) {\n",
       "                    if (nbb_cells[i].input_prompt_number == nbb_cell_id) {\n",
       "                        if (nbb_cells[i].get_text() == nbb_unformatted_code) {\n",
       "                             nbb_cells[i].set_text(nbb_formatted_code);\n",
       "                        }\n",
       "                        break;\n",
       "                    }\n",
       "                }\n",
       "            }, 500);\n",
       "            "
      ],
      "text/plain": [
       "<IPython.core.display.Javascript object>"
      ]
     },
     "metadata": {},
     "output_type": "display_data"
    }
   ],
   "source": [
    "at_risk = hist_complete[25] + hist_ongoing[25] + surv_complete[25] + surv_ongoing[25]\n",
    "at_risk"
   ]
  },
  {
   "cell_type": "code",
   "execution_count": 280,
   "id": "81c6dece",
   "metadata": {},
   "outputs": [
    {
     "data": {
      "text/plain": [
       "0.01422070534698521"
      ]
     },
     "execution_count": 280,
     "metadata": {},
     "output_type": "execute_result"
    },
    {
     "data": {
      "application/javascript": [
       "\n",
       "            setTimeout(function() {\n",
       "                var nbb_cell_id = 280;\n",
       "                var nbb_unformatted_code = \"hazard = hist_complete[25] / at_risk\\nhazard\";\n",
       "                var nbb_formatted_code = \"hazard = hist_complete[25] / at_risk\\nhazard\";\n",
       "                var nbb_cells = Jupyter.notebook.get_cells();\n",
       "                for (var i = 0; i < nbb_cells.length; ++i) {\n",
       "                    if (nbb_cells[i].input_prompt_number == nbb_cell_id) {\n",
       "                        if (nbb_cells[i].get_text() == nbb_unformatted_code) {\n",
       "                             nbb_cells[i].set_text(nbb_formatted_code);\n",
       "                        }\n",
       "                        break;\n",
       "                    }\n",
       "                }\n",
       "            }, 500);\n",
       "            "
      ],
      "text/plain": [
       "<IPython.core.display.Javascript object>"
      ]
     },
     "metadata": {},
     "output_type": "display_data"
    }
   ],
   "source": [
    "hazard = hist_complete[25] / at_risk\n",
    "hazard"
   ]
  },
  {
   "cell_type": "code",
   "execution_count": 281,
   "id": "5c6fa0c0",
   "metadata": {},
   "outputs": [
    {
     "data": {
      "text/plain": [
       "383"
      ]
     },
     "execution_count": 281,
     "metadata": {},
     "output_type": "execute_result"
    },
    {
     "data": {
      "application/javascript": [
       "\n",
       "            setTimeout(function() {\n",
       "                var nbb_cell_id = 281;\n",
       "                var nbb_unformatted_code = \"ts = pd.Index.union(hist_complete.index, hist_ongoing.index)\\nlen(ts)\";\n",
       "                var nbb_formatted_code = \"ts = pd.Index.union(hist_complete.index, hist_ongoing.index)\\nlen(ts)\";\n",
       "                var nbb_cells = Jupyter.notebook.get_cells();\n",
       "                for (var i = 0; i < nbb_cells.length; ++i) {\n",
       "                    if (nbb_cells[i].input_prompt_number == nbb_cell_id) {\n",
       "                        if (nbb_cells[i].get_text() == nbb_unformatted_code) {\n",
       "                             nbb_cells[i].set_text(nbb_formatted_code);\n",
       "                        }\n",
       "                        break;\n",
       "                    }\n",
       "                }\n",
       "            }, 500);\n",
       "            "
      ],
      "text/plain": [
       "<IPython.core.display.Javascript object>"
      ]
     },
     "metadata": {},
     "output_type": "display_data"
    }
   ],
   "source": [
    "ts = pd.Index.union(hist_complete.index, hist_ongoing.index)\n",
    "len(ts)"
   ]
  },
  {
   "cell_type": "code",
   "execution_count": 282,
   "id": "c6fe9eb3",
   "metadata": {},
   "outputs": [
    {
     "data": {
      "text/plain": [
       "383"
      ]
     },
     "execution_count": 282,
     "metadata": {},
     "output_type": "execute_result"
    },
    {
     "data": {
      "application/javascript": [
       "\n",
       "            setTimeout(function() {\n",
       "                var nbb_cell_id = 282;\n",
       "                var nbb_unformatted_code = \"at_risk = hist_complete(ts) + hist_ongoing(ts) + surv_complete(ts) + surv_ongoing(ts)\\nlen(at_risk)\";\n",
       "                var nbb_formatted_code = \"at_risk = hist_complete(ts) + hist_ongoing(ts) + surv_complete(ts) + surv_ongoing(ts)\\nlen(at_risk)\";\n",
       "                var nbb_cells = Jupyter.notebook.get_cells();\n",
       "                for (var i = 0; i < nbb_cells.length; ++i) {\n",
       "                    if (nbb_cells[i].input_prompt_number == nbb_cell_id) {\n",
       "                        if (nbb_cells[i].get_text() == nbb_unformatted_code) {\n",
       "                             nbb_cells[i].set_text(nbb_formatted_code);\n",
       "                        }\n",
       "                        break;\n",
       "                    }\n",
       "                }\n",
       "            }, 500);\n",
       "            "
      ],
      "text/plain": [
       "<IPython.core.display.Javascript object>"
      ]
     },
     "metadata": {},
     "output_type": "display_data"
    }
   ],
   "source": [
    "at_risk = hist_complete(ts) + hist_ongoing(ts) + surv_complete(ts) + surv_ongoing(ts)\n",
    "len(at_risk)"
   ]
  },
  {
   "cell_type": "code",
   "execution_count": 283,
   "id": "6a2c4292",
   "metadata": {},
   "outputs": [
    {
     "data": {
      "text/plain": [
       "383"
      ]
     },
     "execution_count": 283,
     "metadata": {},
     "output_type": "execute_result"
    },
    {
     "data": {
      "application/javascript": [
       "\n",
       "            setTimeout(function() {\n",
       "                var nbb_cell_id = 283;\n",
       "                var nbb_unformatted_code = \"hs = hist_complete(ts) / at_risk\\nlen(hs)\";\n",
       "                var nbb_formatted_code = \"hs = hist_complete(ts) / at_risk\\nlen(hs)\";\n",
       "                var nbb_cells = Jupyter.notebook.get_cells();\n",
       "                for (var i = 0; i < nbb_cells.length; ++i) {\n",
       "                    if (nbb_cells[i].input_prompt_number == nbb_cell_id) {\n",
       "                        if (nbb_cells[i].get_text() == nbb_unformatted_code) {\n",
       "                             nbb_cells[i].set_text(nbb_formatted_code);\n",
       "                        }\n",
       "                        break;\n",
       "                    }\n",
       "                }\n",
       "            }, 500);\n",
       "            "
      ],
      "text/plain": [
       "<IPython.core.display.Javascript object>"
      ]
     },
     "metadata": {},
     "output_type": "display_data"
    }
   ],
   "source": [
    "hs = hist_complete(ts) / at_risk\n",
    "len(hs)"
   ]
  },
  {
   "cell_type": "code",
   "execution_count": 284,
   "id": "6f0e2041",
   "metadata": {},
   "outputs": [
    {
     "data": {
      "image/png": "[encoded data removed]",
      "text/plain": [
       "<Figure size 450x262.5 with 1 Axes>"
      ]
     },
     "metadata": {},
     "output_type": "display_data"
    },
    {
     "data": {
      "application/javascript": [
       "\n",
       "            setTimeout(function() {\n",
       "                var nbb_cell_id = 284;\n",
       "                var nbb_unformatted_code = \"from empiricaldist import Hazard\\n\\nhazard = Hazard(hs, ts)\\nhazard.cumsum().plot()\\n\\ndecorate(xlabel=\\\"Age\\\", ylabel=\\\"Cumulative hazard\\\")\";\n",
       "                var nbb_formatted_code = \"from empiricaldist import Hazard\\n\\nhazard = Hazard(hs, ts)\\nhazard.cumsum().plot()\\n\\ndecorate(xlabel=\\\"Age\\\", ylabel=\\\"Cumulative hazard\\\")\";\n",
       "                var nbb_cells = Jupyter.notebook.get_cells();\n",
       "                for (var i = 0; i < nbb_cells.length; ++i) {\n",
       "                    if (nbb_cells[i].input_prompt_number == nbb_cell_id) {\n",
       "                        if (nbb_cells[i].get_text() == nbb_unformatted_code) {\n",
       "                             nbb_cells[i].set_text(nbb_formatted_code);\n",
       "                        }\n",
       "                        break;\n",
       "                    }\n",
       "                }\n",
       "            }, 500);\n",
       "            "
      ],
      "text/plain": [
       "<IPython.core.display.Javascript object>"
      ]
     },
     "metadata": {},
     "output_type": "display_data"
    }
   ],
   "source": [
    "from empiricaldist import Hazard\n",
    "\n",
    "hazard = Hazard(hs, ts)\n",
    "hazard.cumsum().plot()\n",
    "\n",
    "decorate(xlabel=\"Age\", ylabel=\"Cumulative hazard\")"
   ]
  },
  {
   "cell_type": "code",
   "execution_count": 285,
   "id": "13eb81c3",
   "metadata": {},
   "outputs": [
    {
     "data": {
      "application/javascript": [
       "\n",
       "            setTimeout(function() {\n",
       "                var nbb_cell_id = 285;\n",
       "                var nbb_unformatted_code = \"ps = (1 - hazard).cumprod()\";\n",
       "                var nbb_formatted_code = \"ps = (1 - hazard).cumprod()\";\n",
       "                var nbb_cells = Jupyter.notebook.get_cells();\n",
       "                for (var i = 0; i < nbb_cells.length; ++i) {\n",
       "                    if (nbb_cells[i].input_prompt_number == nbb_cell_id) {\n",
       "                        if (nbb_cells[i].get_text() == nbb_unformatted_code) {\n",
       "                             nbb_cells[i].set_text(nbb_formatted_code);\n",
       "                        }\n",
       "                        break;\n",
       "                    }\n",
       "                }\n",
       "            }, 500);\n",
       "            "
      ],
      "text/plain": [
       "<IPython.core.display.Javascript object>"
      ]
     },
     "metadata": {},
     "output_type": "display_data"
    }
   ],
   "source": [
    "ps = (1 - hazard).cumprod()"
   ]
  },
  {
   "cell_type": "code",
   "execution_count": 286,
   "id": "decf8dae",
   "metadata": {},
   "outputs": [
    {
     "data": {
      "application/javascript": [
       "\n",
       "            setTimeout(function() {\n",
       "                var nbb_cell_id = 286;\n",
       "                var nbb_unformatted_code = \"surv = hazard.make_surv()\";\n",
       "                var nbb_formatted_code = \"surv = hazard.make_surv()\";\n",
       "                var nbb_cells = Jupyter.notebook.get_cells();\n",
       "                for (var i = 0; i < nbb_cells.length; ++i) {\n",
       "                    if (nbb_cells[i].input_prompt_number == nbb_cell_id) {\n",
       "                        if (nbb_cells[i].get_text() == nbb_unformatted_code) {\n",
       "                             nbb_cells[i].set_text(nbb_formatted_code);\n",
       "                        }\n",
       "                        break;\n",
       "                    }\n",
       "                }\n",
       "            }, 500);\n",
       "            "
      ],
      "text/plain": [
       "<IPython.core.display.Javascript object>"
      ]
     },
     "metadata": {},
     "output_type": "display_data"
    }
   ],
   "source": [
    "surv = hazard.make_surv()"
   ]
  },
  {
   "cell_type": "code",
   "execution_count": 287,
   "id": "1eac6104",
   "metadata": {},
   "outputs": [
    {
     "data": {
      "image/png": "[encoded data removed]",
      "text/plain": [
       "<Figure size 450x262.5 with 1 Axes>"
      ]
     },
     "metadata": {},
     "output_type": "display_data"
    },
    {
     "data": {
      "application/javascript": [
       "\n",
       "            setTimeout(function() {\n",
       "                var nbb_cell_id = 287;\n",
       "                var nbb_unformatted_code = \"label = \\\"1960s\\\"\\ncurves_resampled[label].plot(ls=':', color='gray', label=\\\"resampled\\\")\\nsurv.plot(label=\\\"Kaplan-Meier\\\")\\n\\ndecorate(xlabel=\\\"Age\\\", ylabel=\\\"Prob never married\\\")\";\n",
       "                var nbb_formatted_code = \"label = \\\"1960s\\\"\\ncurves_resampled[label].plot(ls=\\\":\\\", color=\\\"gray\\\", label=\\\"resampled\\\")\\nsurv.plot(label=\\\"Kaplan-Meier\\\")\\n\\ndecorate(xlabel=\\\"Age\\\", ylabel=\\\"Prob never married\\\")\";\n",
       "                var nbb_cells = Jupyter.notebook.get_cells();\n",
       "                for (var i = 0; i < nbb_cells.length; ++i) {\n",
       "                    if (nbb_cells[i].input_prompt_number == nbb_cell_id) {\n",
       "                        if (nbb_cells[i].get_text() == nbb_unformatted_code) {\n",
       "                             nbb_cells[i].set_text(nbb_formatted_code);\n",
       "                        }\n",
       "                        break;\n",
       "                    }\n",
       "                }\n",
       "            }, 500);\n",
       "            "
      ],
      "text/plain": [
       "<IPython.core.display.Javascript object>"
      ]
     },
     "metadata": {},
     "output_type": "display_data"
    }
   ],
   "source": [
    "curves_resampled[1960].plot(ls=':', color='gray', label=\"resampled\")\n",
    "surv.plot(label=\"Kaplan-Meier\")\n",
    "\n",
    "decorate(xlabel=\"Age\", ylabel=\"Prob never married\")"
   ]
  },
  {
   "cell_type": "code",
   "execution_count": 300,
   "id": "49ceaeb4",
   "metadata": {},
   "outputs": [
    {
     "data": {
      "application/javascript": [
       "\n",
       "            setTimeout(function() {\n",
       "                var nbb_cell_id = 300;\n",
       "                var nbb_unformatted_code = \"def estimate_hazard(complete, ongoing):\\n\\n    hist_complete = Hist.from_seq(complete)\\n    hist_ongoing = Hist.from_seq(ongoing)\\n\\n    surv_complete = hist_complete.make_surv()\\n    surv_ongoing = hist_ongoing.make_surv()\\n\\n    ts = pd.Index.union(hist_complete.index, hist_ongoing.index)\\n    at_risk = (\\n        hist_complete(ts) + hist_ongoing(ts) + surv_complete(ts) + surv_ongoing(ts)\\n    )\\n\\n    hs = hist_complete(ts) / at_risk\\n    return Hazard(hs, ts)\";\n",
       "                var nbb_formatted_code = \"def estimate_hazard(complete, ongoing):\\n\\n    hist_complete = Hist.from_seq(complete)\\n    hist_ongoing = Hist.from_seq(ongoing)\\n\\n    surv_complete = hist_complete.make_surv()\\n    surv_ongoing = hist_ongoing.make_surv()\\n\\n    ts = pd.Index.union(hist_complete.index, hist_ongoing.index)\\n    at_risk = (\\n        hist_complete(ts) + hist_ongoing(ts) + surv_complete(ts) + surv_ongoing(ts)\\n    )\\n\\n    hs = hist_complete(ts) / at_risk\\n    return Hazard(hs, ts)\";\n",
       "                var nbb_cells = Jupyter.notebook.get_cells();\n",
       "                for (var i = 0; i < nbb_cells.length; ++i) {\n",
       "                    if (nbb_cells[i].input_prompt_number == nbb_cell_id) {\n",
       "                        if (nbb_cells[i].get_text() == nbb_unformatted_code) {\n",
       "                             nbb_cells[i].set_text(nbb_formatted_code);\n",
       "                        }\n",
       "                        break;\n",
       "                    }\n",
       "                }\n",
       "            }, 500);\n",
       "            "
      ],
      "text/plain": [
       "<IPython.core.display.Javascript object>"
      ]
     },
     "metadata": {},
     "output_type": "display_data"
    }
   ],
   "source": [
    "def estimate_hazard(complete, ongoing):\n",
    "    \"\"\"Kaplan-Meier estimation.\"\"\"\n",
    "    hist_complete = Hist.from_seq(complete)\n",
    "    hist_ongoing = Hist.from_seq(ongoing)\n",
    "\n",
    "    surv_complete = hist_complete.make_surv()\n",
    "    surv_ongoing = hist_ongoing.make_surv()\n",
    "\n",
    "    ts = pd.Index.union(hist_complete.index, hist_ongoing.index)\n",
    "    at_risk = (\n",
    "        hist_complete(ts) + hist_ongoing(ts) + surv_complete(ts) + surv_ongoing(ts)\n",
    "    )\n",
    "\n",
    "    hs = hist_complete(ts) / at_risk\n",
    "    return Hazard(hs, ts)"
   ]
  },
  {
   "cell_type": "code",
   "execution_count": 305,
   "id": "f667426d",
   "metadata": {},
   "outputs": [
    {
     "data": {
      "application/javascript": [
       "\n",
       "            setTimeout(function() {\n",
       "                var nbb_cell_id = 305;\n",
       "                var nbb_unformatted_code = \"def estimate_survival(group):\\n    \\\"\\\"\\\"Estimate the survival curve.\\\"\\\"\\\"\\n    complete = group.query(\\\"evrmarry == 1\\\")[\\\"agemarry\\\"].dropna()\\n    ongoing = group.query(\\\"evrmarry == 0\\\")[\\\"age\\\"]\\n    hf = estimate_hazard(complete, ongoing)\\n    sf = hf.make_surv()\\n    return sf\";\n",
       "                var nbb_formatted_code = \"def estimate_survival(group):\\n    \\\"\\\"\\\"Estimate the survival curve.\\\"\\\"\\\"\\n    complete = group.query(\\\"evrmarry == 1\\\")[\\\"agemarry\\\"].dropna()\\n    ongoing = group.query(\\\"evrmarry == 0\\\")[\\\"age\\\"]\\n    hf = estimate_hazard(complete, ongoing)\\n    sf = hf.make_surv()\\n    return sf\";\n",
       "                var nbb_cells = Jupyter.notebook.get_cells();\n",
       "                for (var i = 0; i < nbb_cells.length; ++i) {\n",
       "                    if (nbb_cells[i].input_prompt_number == nbb_cell_id) {\n",
       "                        if (nbb_cells[i].get_text() == nbb_unformatted_code) {\n",
       "                             nbb_cells[i].set_text(nbb_formatted_code);\n",
       "                        }\n",
       "                        break;\n",
       "                    }\n",
       "                }\n",
       "            }, 500);\n",
       "            "
      ],
      "text/plain": [
       "<IPython.core.display.Javascript object>"
      ]
     },
     "metadata": {},
     "output_type": "display_data"
    }
   ],
   "source": [
    "def estimate_survival(group):\n",
    "    \"\"\"Estimate the survival curve.\"\"\"\n",
    "    complete = group.query(\"evrmarry == 1\")[\"agemarry\"].dropna()\n",
    "    ongoing = group.query(\"evrmarry == 0\")[\"age\"]\n",
    "    hf = estimate_hazard(complete, ongoing)\n",
    "    sf = hf.make_surv()\n",
    "    return sf"
   ]
  },
  {
   "cell_type": "code",
   "execution_count": 309,
   "id": "9a492356",
   "metadata": {},
   "outputs": [
    {
     "data": {
      "application/javascript": [
       "\n",
       "            setTimeout(function() {\n",
       "                var nbb_cell_id = 309;\n",
       "                var nbb_unformatted_code = \"surv = estimate_survival(resp60)\";\n",
       "                var nbb_formatted_code = \"surv = estimate_survival(resp60)\";\n",
       "                var nbb_cells = Jupyter.notebook.get_cells();\n",
       "                for (var i = 0; i < nbb_cells.length; ++i) {\n",
       "                    if (nbb_cells[i].input_prompt_number == nbb_cell_id) {\n",
       "                        if (nbb_cells[i].get_text() == nbb_unformatted_code) {\n",
       "                             nbb_cells[i].set_text(nbb_formatted_code);\n",
       "                        }\n",
       "                        break;\n",
       "                    }\n",
       "                }\n",
       "            }, 500);\n",
       "            "
      ],
      "text/plain": [
       "<IPython.core.display.Javascript object>"
      ]
     },
     "metadata": {},
     "output_type": "display_data"
    }
   ],
   "source": [
    "surv = estimate_survival(resp60)"
   ]
  },
  {
   "cell_type": "code",
   "execution_count": 310,
   "id": "5fea8f7f",
   "metadata": {},
   "outputs": [
    {
     "data": {
      "application/javascript": [
       "\n",
       "            setTimeout(function() {\n",
       "                var nbb_cell_id = 310;\n",
       "                var nbb_unformatted_code = \"try:\\n    import lifelines\\nexcept ImportError:\\n    !pip install lifelines\";\n",
       "                var nbb_formatted_code = \"try:\\n    import lifelines\\nexcept ImportError:\\n    !pip install lifelines\";\n",
       "                var nbb_cells = Jupyter.notebook.get_cells();\n",
       "                for (var i = 0; i < nbb_cells.length; ++i) {\n",
       "                    if (nbb_cells[i].input_prompt_number == nbb_cell_id) {\n",
       "                        if (nbb_cells[i].get_text() == nbb_unformatted_code) {\n",
       "                             nbb_cells[i].set_text(nbb_formatted_code);\n",
       "                        }\n",
       "                        break;\n",
       "                    }\n",
       "                }\n",
       "            }, 500);\n",
       "            "
      ],
      "text/plain": [
       "<IPython.core.display.Javascript object>"
      ]
     },
     "metadata": {},
     "output_type": "display_data"
    }
   ],
   "source": [
    "try:\n",
    "    import lifelines\n",
    "except ImportError:\n",
    "    !pip install lifelines"
   ]
  },
  {
   "cell_type": "code",
   "execution_count": 311,
   "id": "676168a2",
   "metadata": {},
   "outputs": [
    {
     "data": {
      "text/plain": [
       "True"
      ]
     },
     "execution_count": 311,
     "metadata": {},
     "output_type": "execute_result"
    },
    {
     "data": {
      "application/javascript": [
       "\n",
       "            setTimeout(function() {\n",
       "                var nbb_cell_id = 311;\n",
       "                var nbb_unformatted_code = \"from lifelines import KaplanMeierFitter\\n\\nall_times = np.concatenate([complete, ongoing])\\n\\n# 1 for complete cases, 0 for ongoing (censored) cases\\nevent_observed = np.concatenate([np.ones(len(complete)), np.zeros(len(ongoing))])\\n\\nkmf = KaplanMeierFitter()\\nkmf.fit(durations=all_times, event_observed=event_observed)\\n\\nps = kmf.survival_function_[\\\"KM_estimate\\\"].drop(0)\\nnp.allclose(ps, surv)\";\n",
       "                var nbb_formatted_code = \"from lifelines import KaplanMeierFitter\\n\\nall_times = np.concatenate([complete, ongoing])\\n\\n# 1 for complete cases, 0 for ongoing (censored) cases\\nevent_observed = np.concatenate([np.ones(len(complete)), np.zeros(len(ongoing))])\\n\\nkmf = KaplanMeierFitter()\\nkmf.fit(durations=all_times, event_observed=event_observed)\\n\\nps = kmf.survival_function_[\\\"KM_estimate\\\"].drop(0)\\nnp.allclose(ps, surv)\";\n",
       "                var nbb_cells = Jupyter.notebook.get_cells();\n",
       "                for (var i = 0; i < nbb_cells.length; ++i) {\n",
       "                    if (nbb_cells[i].input_prompt_number == nbb_cell_id) {\n",
       "                        if (nbb_cells[i].get_text() == nbb_unformatted_code) {\n",
       "                             nbb_cells[i].set_text(nbb_formatted_code);\n",
       "                        }\n",
       "                        break;\n",
       "                    }\n",
       "                }\n",
       "            }, 500);\n",
       "            "
      ],
      "text/plain": [
       "<IPython.core.display.Javascript object>"
      ]
     },
     "metadata": {},
     "output_type": "display_data"
    }
   ],
   "source": [
    "from lifelines import KaplanMeierFitter\n",
    "\n",
    "all_times = np.concatenate([complete, ongoing])\n",
    "\n",
    "# 1 for complete cases, 0 for ongoing (censored) cases\n",
    "event_observed = np.concatenate([np.ones(len(complete)), np.zeros(len(ongoing))])\n",
    "\n",
    "kmf = KaplanMeierFitter()\n",
    "kmf.fit(durations=all_times, event_observed=event_observed)\n",
    "\n",
    "ps = kmf.survival_function_[\"KM_estimate\"].drop(0)\n",
    "np.allclose(ps, surv)"
   ]
  },
  {
   "cell_type": "markdown",
   "id": "9b69d128",
   "metadata": {},
   "source": [
    "A curve like this was the basis of a famous magazine article in 1986; *Newsweek* reported that a 40-year old unmarried woman was \"more likely to be killed by a terrorist\" than get married.\n",
    "These statistics were widely reported and became part of popular culture, but they were wrong then (because they were based on faulty analysis) and turned out to be even more wrong (because of cultural changes that were already in progress and continued).\n",
    "In 2006, *Newsweek* ran an another article admitting that they were wrong.\n",
    "\n",
    "I encourage you to read more about this article, the statistics it was based on, and the reaction.\n",
    "It should remind you of the ethical obligation to perform statistical analysis with care, interpret the results with appropriate skepticism, and present them to the public accurately and honestly."
   ]
  },
  {
   "cell_type": "markdown",
   "id": "67f540f8",
   "metadata": {},
   "source": [
    "## Confidence intervals\n",
    "\n",
    "Kaplan-Meier analysis yields a single estimate of the survival curve, but it is also important to quantify the uncertainty of the estimate.\n",
    "As usual, there are three possible sources of error: measurement error, sampling error, and modeling error.\n",
    "\n",
    "In this example, measurement error is probably small.\n",
    "People generally know when they were born, whether they've been married, and when.\n",
    "And they can be expected to report this information accurately.\n",
    "\n",
    "We can quantify sampling error by resampling.\n",
    "Here's the code:"
   ]
  },
  {
   "cell_type": "code",
   "execution_count": 324,
   "id": "6e2bdae5",
   "metadata": {},
   "outputs": [
    {
     "data": {
      "application/javascript": [
       "\n",
       "            setTimeout(function() {\n",
       "                var nbb_cell_id = 324;\n",
       "                var nbb_unformatted_code = \"def make_survival_curves(resp, cohorts):\\n    curve_map = {}\\n\\n    grouped = resp.groupby(\\\"cohort\\\")\\n    for cohort in cohorts:\\n        group = grouped.get_group(cohort)\\n        curve_map[cohort] = estimate_survival(group)\\n\\n    return curve_map\";\n",
       "                var nbb_formatted_code = \"def make_survival_curves(resp, cohorts):\\n    curve_map = {}\\n\\n    grouped = resp.groupby(\\\"cohort\\\")\\n    for cohort in cohorts:\\n        group = grouped.get_group(cohort)\\n        curve_map[cohort] = estimate_survival(group)\\n\\n    return curve_map\";\n",
       "                var nbb_cells = Jupyter.notebook.get_cells();\n",
       "                for (var i = 0; i < nbb_cells.length; ++i) {\n",
       "                    if (nbb_cells[i].input_prompt_number == nbb_cell_id) {\n",
       "                        if (nbb_cells[i].get_text() == nbb_unformatted_code) {\n",
       "                             nbb_cells[i].set_text(nbb_formatted_code);\n",
       "                        }\n",
       "                        break;\n",
       "                    }\n",
       "                }\n",
       "            }, 500);\n",
       "            "
      ],
      "text/plain": [
       "<IPython.core.display.Javascript object>"
      ]
     },
     "metadata": {},
     "output_type": "display_data"
    }
   ],
   "source": [
    "def make_survival_curves(resp, cohorts):\n",
    "    curve_map = {}\n",
    "\n",
    "    grouped = resp.groupby(\"cohort\")\n",
    "    for cohort in cohorts:\n",
    "        group = grouped.get_group(cohort)\n",
    "        curve_map[cohort] = estimate_survival(group)\n",
    "\n",
    "    return curve_map"
   ]
  },
  {
   "cell_type": "code",
   "execution_count": 329,
   "id": "644230ac",
   "metadata": {},
   "outputs": [
    {
     "data": {
      "application/javascript": [
       "\n",
       "            setTimeout(function() {\n",
       "                var nbb_cell_id = 329;\n",
       "                var nbb_unformatted_code = \"curve_maps = [make_survival_curves(resample_cycles(resp), cohorts) for i in range(101)]\";\n",
       "                var nbb_formatted_code = \"curve_maps = [make_survival_curves(resample_cycles(resp), cohorts) for i in range(101)]\";\n",
       "                var nbb_cells = Jupyter.notebook.get_cells();\n",
       "                for (var i = 0; i < nbb_cells.length; ++i) {\n",
       "                    if (nbb_cells[i].input_prompt_number == nbb_cell_id) {\n",
       "                        if (nbb_cells[i].get_text() == nbb_unformatted_code) {\n",
       "                             nbb_cells[i].set_text(nbb_formatted_code);\n",
       "                        }\n",
       "                        break;\n",
       "                    }\n",
       "                }\n",
       "            }, 500);\n",
       "            "
      ],
      "text/plain": [
       "<IPython.core.display.Javascript object>"
      ]
     },
     "metadata": {},
     "output_type": "display_data"
    }
   ],
   "source": [
    "curve_maps = [make_survival_curves(resample_cycles(resp), cohorts) for i in range(101)]"
   ]
  },
  {
   "cell_type": "code",
   "execution_count": 334,
   "id": "f3bae783",
   "metadata": {},
   "outputs": [
    {
     "data": {
      "application/javascript": [
       "\n",
       "            setTimeout(function() {\n",
       "                var nbb_cell_id = 334;\n",
       "                var nbb_unformatted_code = \"def plot_cohort(curve_maps, cohort, color):\\n    curves = [curve_map[cohort] for curve_map in curve_maps]\\n    for curve in curves:\\n        curve.plot(color=color, alpha=0.05)\";\n",
       "                var nbb_formatted_code = \"def plot_cohort(curve_maps, cohort, color):\\n    curves = [curve_map[cohort] for curve_map in curve_maps]\\n    for curve in curves:\\n        curve.plot(color=color, alpha=0.05)\";\n",
       "                var nbb_cells = Jupyter.notebook.get_cells();\n",
       "                for (var i = 0; i < nbb_cells.length; ++i) {\n",
       "                    if (nbb_cells[i].input_prompt_number == nbb_cell_id) {\n",
       "                        if (nbb_cells[i].get_text() == nbb_unformatted_code) {\n",
       "                             nbb_cells[i].set_text(nbb_formatted_code);\n",
       "                        }\n",
       "                        break;\n",
       "                    }\n",
       "                }\n",
       "            }, 500);\n",
       "            "
      ],
      "text/plain": [
       "<IPython.core.display.Javascript object>"
      ]
     },
     "metadata": {},
     "output_type": "display_data"
    }
   ],
   "source": [
    "def plot_cohort(curve_maps, cohort, color):\n",
    "    curves = [curve_map[cohort] for curve_map in curve_maps]\n",
    "    for curve in curves:\n",
    "        curve.plot(color=color, alpha=0.05)"
   ]
  },
  {
   "cell_type": "code",
   "execution_count": 336,
   "id": "fcc30c31",
   "metadata": {},
   "outputs": [
    {
     "data": {
      "image/png": "[encoded data removed]",
      "text/plain": [
       "<Figure size 450x262.5 with 1 Axes>"
      ]
     },
     "metadata": {},
     "output_type": "display_data"
    },
    {
     "data": {
      "application/javascript": [
       "\n",
       "            setTimeout(function() {\n",
       "                var nbb_cell_id = 336;\n",
       "                var nbb_unformatted_code = \"colors = ['C0', 'C1', 'C2']\\nfor cohort, color in zip(cohorts, colors):\\n    plot_cohort(curve_maps, cohort, color)\\n\\ndecorate(xlabel=\\\"Age\\\", ylabel=\\\"Prob never married\\\")\";\n",
       "                var nbb_formatted_code = \"colors = [\\\"C0\\\", \\\"C1\\\", \\\"C2\\\"]\\nfor cohort, color in zip(cohorts, colors):\\n    plot_cohort(curve_maps, cohort, color)\\n\\ndecorate(xlabel=\\\"Age\\\", ylabel=\\\"Prob never married\\\")\";\n",
       "                var nbb_cells = Jupyter.notebook.get_cells();\n",
       "                for (var i = 0; i < nbb_cells.length; ++i) {\n",
       "                    if (nbb_cells[i].input_prompt_number == nbb_cell_id) {\n",
       "                        if (nbb_cells[i].get_text() == nbb_unformatted_code) {\n",
       "                             nbb_cells[i].set_text(nbb_formatted_code);\n",
       "                        }\n",
       "                        break;\n",
       "                    }\n",
       "                }\n",
       "            }, 500);\n",
       "            "
      ],
      "text/plain": [
       "<IPython.core.display.Javascript object>"
      ]
     },
     "metadata": {},
     "output_type": "display_data"
    }
   ],
   "source": [
    "colors = [\"C0\", \"C1\", \"C2\"]\n",
    "for cohort, color in zip(cohorts, colors):\n",
    "    plot_cohort(curve_maps, cohort, color)\n",
    "\n",
    "decorate(xlabel=\"Age\", ylabel=\"Prob never married\")"
   ]
  },
  {
   "cell_type": "code",
   "execution_count": null,
   "id": "768d8785",
   "metadata": {},
   "outputs": [],
   "source": []
  },
  {
   "cell_type": "code",
   "execution_count": null,
   "id": "aa8ef9f0",
   "metadata": {},
   "outputs": [],
   "source": []
  },
  {
   "cell_type": "code",
   "execution_count": null,
   "id": "02626222",
   "metadata": {},
   "outputs": [],
   "source": []
  },
  {
   "cell_type": "markdown",
   "id": "b4d12c58",
   "metadata": {},
   "source": [
    "Several patterns are visible:\n",
    "\n",
    "-   Women born in the 50s married earliest, with successive cohorts marrying later and later, at least until age 30 or so.\n",
    "\n",
    "-   Women born in the 60s follow a surprising pattern.\n",
    "Prior to age 25, they were marrying at slower rates than their predecessors.\n",
    "After age 25, they were marrying faster.\n",
    "By age 32 they had overtaken the 50s cohort, and at age 44 they are substantially more likely to have married."
   ]
  },
  {
   "cell_type": "markdown",
   "id": "90fa5b2b",
   "metadata": {},
   "source": [
    "Women born in the 60s turned 25 between 1985 and 1995.\n",
    "Remembering that the *Newsweek* article I mentioned was published in 1986, it is tempting to imagine that the article triggered a marriage boom.\n",
    "That explanation would be too pat, but it is possible that the article and the reaction to it were indicative of a mood that affected the behavior of this cohort."
   ]
  },
  {
   "cell_type": "markdown",
   "id": "61a802ba",
   "metadata": {},
   "source": [
    "-   The pattern of the 70s cohort is similar.\n",
    "They are less likely than their predecessors to be married before age 25, but at age 35 they have caught up with both of the previous cohorts.\n",
    "\n",
    "-   Women born in the 80s are even less likely to marry before age 25. What happens after that is not clear; for more data, we have to wait for the next cycle of the NSFG.\n",
    "\n",
    "In the meantime we can make some predictions."
   ]
  },
  {
   "cell_type": "markdown",
   "id": "8516df63",
   "metadata": {},
   "source": [
    "## Expected remaining lifetime\n",
    "\n",
    "Given a survival curve, we can compute the expected remaining lifetime as a function of current age.\n",
    "For example, given the survival curve of pregnancy length, we can compute the expected time until delivery.\n",
    "\n",
    "The first step is to extract the PMF of lifetimes.\n",
    "`SurvivalFunction` provides a method that does that:"
   ]
  },
  {
   "cell_type": "markdown",
   "id": "ae87cc89",
   "metadata": {},
   "source": [
    "The following cells download the data files and install `statadict`, which we need to read the data."
   ]
  },
  {
   "cell_type": "code",
   "execution_count": 337,
   "id": "5ababdb5",
   "metadata": {},
   "outputs": [
    {
     "data": {
      "application/javascript": [
       "\n",
       "            setTimeout(function() {\n",
       "                var nbb_cell_id = 337;\n",
       "                var nbb_unformatted_code = \"download(\\\"https://github.com/AllenDowney/ThinkStats/raw/v3/nb/nsfg.py\\\")\\ndownload(\\\"https://github.com/AllenDowney/ThinkStats/raw/v3/data/2002FemPreg.dct\\\")\\ndownload(\\\"https://github.com/AllenDowney/ThinkStats/raw/v3/data/2002FemPreg.dat.gz\\\")\";\n",
       "                var nbb_formatted_code = \"download(\\\"https://github.com/AllenDowney/ThinkStats/raw/v3/nb/nsfg.py\\\")\\ndownload(\\\"https://github.com/AllenDowney/ThinkStats/raw/v3/data/2002FemPreg.dct\\\")\\ndownload(\\\"https://github.com/AllenDowney/ThinkStats/raw/v3/data/2002FemPreg.dat.gz\\\")\";\n",
       "                var nbb_cells = Jupyter.notebook.get_cells();\n",
       "                for (var i = 0; i < nbb_cells.length; ++i) {\n",
       "                    if (nbb_cells[i].input_prompt_number == nbb_cell_id) {\n",
       "                        if (nbb_cells[i].get_text() == nbb_unformatted_code) {\n",
       "                             nbb_cells[i].set_text(nbb_formatted_code);\n",
       "                        }\n",
       "                        break;\n",
       "                    }\n",
       "                }\n",
       "            }, 500);\n",
       "            "
      ],
      "text/plain": [
       "<IPython.core.display.Javascript object>"
      ]
     },
     "metadata": {},
     "output_type": "display_data"
    }
   ],
   "source": [
    "download(\"https://github.com/AllenDowney/ThinkStats/raw/v3/nb/nsfg.py\")\n",
    "download(\"https://github.com/AllenDowney/ThinkStats/raw/v3/data/2002FemPreg.dct\")\n",
    "download(\"https://github.com/AllenDowney/ThinkStats/raw/v3/data/2002FemPreg.dat.gz\")"
   ]
  },
  {
   "cell_type": "code",
   "execution_count": 338,
   "id": "d74f7f21",
   "metadata": {},
   "outputs": [
    {
     "data": {
      "application/javascript": [
       "\n",
       "            setTimeout(function() {\n",
       "                var nbb_cell_id = 338;\n",
       "                var nbb_unformatted_code = \"try:\\n    import statadict\\nexcept ImportError:\\n    !pip install statadict\";\n",
       "                var nbb_formatted_code = \"try:\\n    import statadict\\nexcept ImportError:\\n    !pip install statadict\";\n",
       "                var nbb_cells = Jupyter.notebook.get_cells();\n",
       "                for (var i = 0; i < nbb_cells.length; ++i) {\n",
       "                    if (nbb_cells[i].input_prompt_number == nbb_cell_id) {\n",
       "                        if (nbb_cells[i].get_text() == nbb_unformatted_code) {\n",
       "                             nbb_cells[i].set_text(nbb_formatted_code);\n",
       "                        }\n",
       "                        break;\n",
       "                    }\n",
       "                }\n",
       "            }, 500);\n",
       "            "
      ],
      "text/plain": [
       "<IPython.core.display.Javascript object>"
      ]
     },
     "metadata": {},
     "output_type": "display_data"
    }
   ],
   "source": [
    "try:\n",
    "    import statadict\n",
    "except ImportError:\n",
    "    !pip install statadict"
   ]
  },
  {
   "cell_type": "code",
   "execution_count": 339,
   "id": "7bd046bb",
   "metadata": {},
   "outputs": [
    {
     "data": {
      "application/javascript": [
       "\n",
       "            setTimeout(function() {\n",
       "                var nbb_cell_id = 339;\n",
       "                var nbb_unformatted_code = \"from nsfg import get_nsfg_groups\\n\\nlive, firsts, others = get_nsfg_groups()\";\n",
       "                var nbb_formatted_code = \"from nsfg import get_nsfg_groups\\n\\nlive, firsts, others = get_nsfg_groups()\";\n",
       "                var nbb_cells = Jupyter.notebook.get_cells();\n",
       "                for (var i = 0; i < nbb_cells.length; ++i) {\n",
       "                    if (nbb_cells[i].input_prompt_number == nbb_cell_id) {\n",
       "                        if (nbb_cells[i].get_text() == nbb_unformatted_code) {\n",
       "                             nbb_cells[i].set_text(nbb_formatted_code);\n",
       "                        }\n",
       "                        break;\n",
       "                    }\n",
       "                }\n",
       "            }, 500);\n",
       "            "
      ],
      "text/plain": [
       "<IPython.core.display.Javascript object>"
      ]
     },
     "metadata": {},
     "output_type": "display_data"
    }
   ],
   "source": [
    "from nsfg import get_nsfg_groups\n",
    "\n",
    "live, firsts, others = get_nsfg_groups()"
   ]
  },
  {
   "cell_type": "code",
   "execution_count": 340,
   "id": "40f2f1e9",
   "metadata": {},
   "outputs": [
    {
     "data": {
      "application/javascript": [
       "\n",
       "            setTimeout(function() {\n",
       "                var nbb_cell_id = 340;\n",
       "                var nbb_unformatted_code = \"# TODO: compute remaining lifetimes\";\n",
       "                var nbb_formatted_code = \"# TODO: compute remaining lifetimes\";\n",
       "                var nbb_cells = Jupyter.notebook.get_cells();\n",
       "                for (var i = 0; i < nbb_cells.length; ++i) {\n",
       "                    if (nbb_cells[i].input_prompt_number == nbb_cell_id) {\n",
       "                        if (nbb_cells[i].get_text() == nbb_unformatted_code) {\n",
       "                             nbb_cells[i].set_text(nbb_formatted_code);\n",
       "                        }\n",
       "                        break;\n",
       "                    }\n",
       "                }\n",
       "            }, 500);\n",
       "            "
      ],
      "text/plain": [
       "<IPython.core.display.Javascript object>"
      ]
     },
     "metadata": {},
     "output_type": "display_data"
    }
   ],
   "source": [
    "# TODO: compute remaining lifetimes"
   ]
  },
  {
   "cell_type": "markdown",
   "id": "c6ff9bb9",
   "metadata": {},
   "source": [
    "For example, during Week 0, the expected remaining duration is about 34 weeks.\n",
    "That's less than full term (39 weeks) because terminations of pregnancy in the first trimester bring the average down.\n",
    "\n",
    "The curve drops slowly during the first trimester.\n",
    "After 13 weeks, the expected remaining lifetime has dropped by only 9 weeks, to 25. After that the curve drops faster, by about a week per week.\n",
    "\n",
    "Between Week 37 and 42, the curve levels off between 1 and 2 weeks.\n",
    "At any time during this period, the expected remaining lifetime is the same; with each week that passes, the destination gets no closer.\n",
    "Processes with this property are called **memoryless** because the past has no effect on the predictions.\n",
    "This behavior is the mathematical basis of the infuriating mantra of obstetrics nurses: \"Any day now.\""
   ]
  },
  {
   "cell_type": "markdown",
   "id": "36c47cb8",
   "metadata": {},
   "source": [
    "## Glossary\n",
    "\n",
    "-   **survival analysis**: A set of methods for describing and predicting lifetimes, or more generally time until an event occurs.\n",
    "\n",
    "-   **survival curve**: A function that maps from a time, $t$, to the probability of surviving past $t$.\n",
    "\n",
    "-   **hazard function**: A function that maps from $t$ to the fraction of people alive until $t$ who die at $t$.\n",
    "\n",
    "-   **Kaplan-Meier estimation**: An algorithm for estimating hazard and survival functions.\n",
    "\n",
    "-   **cohort**: a group of subjects defined by an event, like date of birth, in a particular interval of time.\n",
    "\n",
    "-   **cohort effect**: a difference between cohorts.\n",
    "\n",
    "-   **NBUE**: A property of expected remaining lifetime, \"New better than used in expectation.\"\n",
    "\n",
    "-   **UBNE**: A property of expected remaining lifetime, \"Used better than new in expectation.\""
   ]
  },
  {
   "cell_type": "markdown",
   "id": "2976a19b",
   "metadata": {
    "collapsed": true
   },
   "source": [
    "## Exercises"
   ]
  },
  {
   "cell_type": "markdown",
   "id": "b1c1fe48",
   "metadata": {
    "collapsed": true
   },
   "source": [
    "**Exercise:**    In NSFG Cycles 6 and 7, the variable `cmdivorcx` contains the date of divorce for the respondent’s first marriage, if applicable, encoded in century-months.\n",
    "\n",
    "Compute the duration of marriages that have ended in divorce, and the duration, so far, of marriages that are ongoing.\n",
    "Estimate the hazard and survival curve for the duration of marriage.\n",
    "\n",
    "Use resampling to take into account sampling weights, and plot data from several resamples to visualize sampling error.\n",
    "\n",
    "Consider dividing the respondents into groups by decade of birth, and possibly by age at first marriage."
   ]
  },
  {
   "cell_type": "code",
   "execution_count": null,
   "id": "a59ce5d0",
   "metadata": {},
   "outputs": [],
   "source": []
  },
  {
   "cell_type": "markdown",
   "id": "e27da3a4",
   "metadata": {
    "tags": []
   },
   "source": [
    "[Think Stats: Exploratory Data Analysis in Python, 3rd Edition](https://allendowney.github.io/ThinkStats/index.html)\n",
    "\n",
    "Copyright 2024 [Allen B. Downey](https://allendowney.com)\n",
    "\n",
    "Code license: [MIT License](https://mit-license.org/)\n",
    "\n",
    "Text license: [Creative Commons Attribution-NonCommercial-ShareAlike 4.0 International](https://creativecommons.org/licenses/by-nc-sa/4.0/)"
   ]
  }
 ],
 "metadata": {
  "kernelspec": {
   "display_name": "Python 3 (ipykernel)",
   "language": "python",
   "name": "python3"
  },
  "language_info": {
   "codemirror_mode": {
    "name": "ipython",
    "version": 3
   },
   "file_extension": ".py",
   "mimetype": "text/x-python",
   "name": "python",
   "nbconvert_exporter": "python",
   "pygments_lexer": "ipython3",
   "version": "3.10.14"
  }
 },
 "nbformat": 4,
 "nbformat_minor": 5
}
