{
 "cells": [
  {
   "cell_type": "markdown",
   "id": "56aaf47a",
   "metadata": {},
   "source": [
    "# Probability density functions"
   ]
  },
  {
   "cell_type": "code",
   "execution_count": 1,
   "id": "c252c784",
   "metadata": {},
   "outputs": [
    {
     "data": {
      "application/javascript": [
       "\n",
       "            setTimeout(function() {\n",
       "                var nbb_cell_id = 1;\n",
       "                var nbb_unformatted_code = \"%load_ext nb_black\\n%load_ext autoreload\\n%autoreload 2\";\n",
       "                var nbb_formatted_code = \"%load_ext nb_black\\n%load_ext autoreload\\n%autoreload 2\";\n",
       "                var nbb_cells = Jupyter.notebook.get_cells();\n",
       "                for (var i = 0; i < nbb_cells.length; ++i) {\n",
       "                    if (nbb_cells[i].input_prompt_number == nbb_cell_id) {\n",
       "                        if (nbb_cells[i].get_text() == nbb_unformatted_code) {\n",
       "                             nbb_cells[i].set_text(nbb_formatted_code);\n",
       "                        }\n",
       "                        break;\n",
       "                    }\n",
       "                }\n",
       "            }, 500);\n",
       "            "
      ],
      "text/plain": [
       "<IPython.core.display.Javascript object>"
      ]
     },
     "metadata": {},
     "output_type": "display_data"
    }
   ],
   "source": [
    "%load_ext nb_black\n",
    "%load_ext autoreload\n",
    "%autoreload 2\n"
   ]
  },
  {
   "cell_type": "code",
   "execution_count": 2,
   "id": "79f64f53",
   "metadata": {},
   "outputs": [
    {
     "data": {
      "application/javascript": [
       "\n",
       "            setTimeout(function() {\n",
       "                var nbb_cell_id = 2;\n",
       "                var nbb_unformatted_code = \"from os.path import basename, exists\\n\\n\\ndef download(url):\\n    filename = basename(url)\\n    if not exists(filename):\\n        from urllib.request import urlretrieve\\n\\n        local, _ = urlretrieve(url, filename)\\n        print(\\\"Downloaded \\\" + local)\\n\\n\\ndownload(\\\"https://github.com/AllenDowney/ThinkStats/raw/v3/nb/thinkstats.py\\\")\";\n",
       "                var nbb_formatted_code = \"from os.path import basename, exists\\n\\n\\ndef download(url):\\n    filename = basename(url)\\n    if not exists(filename):\\n        from urllib.request import urlretrieve\\n\\n        local, _ = urlretrieve(url, filename)\\n        print(\\\"Downloaded \\\" + local)\\n\\n\\ndownload(\\\"https://github.com/AllenDowney/ThinkStats/raw/v3/nb/thinkstats.py\\\")\";\n",
       "                var nbb_cells = Jupyter.notebook.get_cells();\n",
       "                for (var i = 0; i < nbb_cells.length; ++i) {\n",
       "                    if (nbb_cells[i].input_prompt_number == nbb_cell_id) {\n",
       "                        if (nbb_cells[i].get_text() == nbb_unformatted_code) {\n",
       "                             nbb_cells[i].set_text(nbb_formatted_code);\n",
       "                        }\n",
       "                        break;\n",
       "                    }\n",
       "                }\n",
       "            }, 500);\n",
       "            "
      ],
      "text/plain": [
       "<IPython.core.display.Javascript object>"
      ]
     },
     "metadata": {},
     "output_type": "display_data"
    }
   ],
   "source": [
    "from os.path import basename, exists\n",
    "\n",
    "\n",
    "def download(url):\n",
    "    filename = basename(url)\n",
    "    if not exists(filename):\n",
    "        from urllib.request import urlretrieve\n",
    "\n",
    "        local, _ = urlretrieve(url, filename)\n",
    "        print(\"Downloaded \" + local)\n",
    "\n",
    "\n",
    "download(\"https://github.com/AllenDowney/ThinkStats/raw/v3/nb/thinkstats.py\")"
   ]
  },
  {
   "cell_type": "code",
   "execution_count": 3,
   "id": "955f8f40",
   "metadata": {},
   "outputs": [
    {
     "data": {
      "application/javascript": [
       "\n",
       "            setTimeout(function() {\n",
       "                var nbb_cell_id = 3;\n",
       "                var nbb_unformatted_code = \"import numpy as np\\nimport pandas as pd\\nimport matplotlib.pyplot as plt\\n\\nfrom thinkstats import decorate\";\n",
       "                var nbb_formatted_code = \"import numpy as np\\nimport pandas as pd\\nimport matplotlib.pyplot as plt\\n\\nfrom thinkstats import decorate\";\n",
       "                var nbb_cells = Jupyter.notebook.get_cells();\n",
       "                for (var i = 0; i < nbb_cells.length; ++i) {\n",
       "                    if (nbb_cells[i].input_prompt_number == nbb_cell_id) {\n",
       "                        if (nbb_cells[i].get_text() == nbb_unformatted_code) {\n",
       "                             nbb_cells[i].set_text(nbb_formatted_code);\n",
       "                        }\n",
       "                        break;\n",
       "                    }\n",
       "                }\n",
       "            }, 500);\n",
       "            "
      ],
      "text/plain": [
       "<IPython.core.display.Javascript object>"
      ]
     },
     "metadata": {},
     "output_type": "display_data"
    }
   ],
   "source": [
    "import numpy as np\n",
    "import pandas as pd\n",
    "import matplotlib.pyplot as plt\n",
    "\n",
    "from thinkstats import decorate"
   ]
  },
  {
   "cell_type": "markdown",
   "id": "e8a27c56",
   "metadata": {},
   "source": [
    "I'll start with the data from the BRFSS again."
   ]
  },
  {
   "cell_type": "markdown",
   "id": "327c8d17",
   "metadata": {},
   "source": [
    "## PDFs\n",
    "\n",
    "The derivative of a CDF is called a **probability density function**, or PDF.\n",
    "For example, the PDF of an exponential distribution is $$PDF_{expo}(x) = \\lambda e^{-\\lambda x}$$ The PDF of a normal distribution is $$PDF_{normal}(x) = \\frac{1}{\\sigma \\sqrt{2 \\pi}}       \\exp \\left[ -\\frac{1}{2}       \\left( \\frac{x - \\mu}{\\sigma} \\right)^2 \\right]$$ Evaluating a PDF for a particular value of $x$ is usually not useful.\n",
    "The result is not a probability; it is a probability *density*.\n",
    "\n",
    "In physics, density is mass per unit of volume; in order to get a mass, you have to multiply by volume or, if the density is not constant, you have to integrate over volume.\n",
    "\n",
    "Similarly, **probability density** measures probability per unit of $x$.\n",
    "In order to get a probability mass, you have to integrate over $x$."
   ]
  },
  {
   "cell_type": "markdown",
   "id": "a43aba55",
   "metadata": {},
   "source": [
    "`thinkstats2` provides a class called `Pdf` that represents a probability density function.\n",
    "Every `Pdf` object provides the following methods:\n",
    "\n",
    "-   `density`, which takes a value, `x`, and returns the density of the distribution at `x`.\n",
    "\n",
    "-   `render`, which evaluates the density at a discrete set of values and returns a pair of sequences: the sorted values, `xs`, and their probability densities, `ds`.\n",
    "\n",
    "-   `make_pmf`, which evaluates `Density` at a discrete set of values and returns a normalized `Pmf` that approximates the Pdf.\n",
    "\n",
    "-   `get_linspace`, which returns the default set of points used by `render` and `make_pmf`.\n",
    "\n",
    "`Pdf` is an abstract parent class, which means you should not instantiate it; that is, you cannot create a `Pdf` object.\n",
    "Instead, you should define a child class that inherits from `Pdf` and provides definitions of `density` and `get_linspace`.\n",
    "`Pdf` provides `render` and `make_pdf`.\n",
    "\n",
    "For example, here's a class named `NormalPdf` that evaluates the normal density function."
   ]
  },
  {
   "cell_type": "code",
   "execution_count": 4,
   "id": "5a0f012c",
   "metadata": {},
   "outputs": [
    {
     "data": {
      "application/javascript": [
       "\n",
       "            setTimeout(function() {\n",
       "                var nbb_cell_id = 4;\n",
       "                var nbb_unformatted_code = \"from thinkstats import NormalPdf\";\n",
       "                var nbb_formatted_code = \"from thinkstats import NormalPdf\";\n",
       "                var nbb_cells = Jupyter.notebook.get_cells();\n",
       "                for (var i = 0; i < nbb_cells.length; ++i) {\n",
       "                    if (nbb_cells[i].input_prompt_number == nbb_cell_id) {\n",
       "                        if (nbb_cells[i].get_text() == nbb_unformatted_code) {\n",
       "                             nbb_cells[i].set_text(nbb_formatted_code);\n",
       "                        }\n",
       "                        break;\n",
       "                    }\n",
       "                }\n",
       "            }, 500);\n",
       "            "
      ],
      "text/plain": [
       "<IPython.core.display.Javascript object>"
      ]
     },
     "metadata": {},
     "output_type": "display_data"
    }
   ],
   "source": [
    "from thinkstats import NormalPdf"
   ]
  },
  {
   "cell_type": "markdown",
   "id": "956261d5",
   "metadata": {},
   "source": [
    "The `Normal`Pdf object contains the parameters `mu` and `sigma`.\n",
    "`Density` uses `scipy.stats.norm`, which is an object that represents a normal distribution and provides `cdf` and `pdf`, among other methods (see Section [\\[normal\\]](#normal){reference-type=\"ref\" reference=\"normal\"}).\n",
    "\n",
    "The following example creates a `Normal`Pdf with the mean and variance of adult female heights, in cm, from the BRFSS (see Section [\\[brfss\\]](#brfss){reference-type=\"ref\" reference=\"brfss\"}).\n",
    "Then it computes the density of the distribution at a location one standard deviation from the mean."
   ]
  },
  {
   "cell_type": "code",
   "execution_count": 5,
   "id": "64ac3b29",
   "metadata": {},
   "outputs": [
    {
     "data": {
      "application/javascript": [
       "\n",
       "            setTimeout(function() {\n",
       "                var nbb_cell_id = 5;\n",
       "                var nbb_unformatted_code = \"download(\\\"https://github.com/AllenDowney/ThinkStats/raw/v3/nb/brfss.py\\\")\\ndownload(\\\"https://github.com/AllenDowney/ThinkStats/raw/v3/data/CDBRFS08.ASC.gz\\\")\";\n",
       "                var nbb_formatted_code = \"download(\\\"https://github.com/AllenDowney/ThinkStats/raw/v3/nb/brfss.py\\\")\\ndownload(\\\"https://github.com/AllenDowney/ThinkStats/raw/v3/data/CDBRFS08.ASC.gz\\\")\";\n",
       "                var nbb_cells = Jupyter.notebook.get_cells();\n",
       "                for (var i = 0; i < nbb_cells.length; ++i) {\n",
       "                    if (nbb_cells[i].input_prompt_number == nbb_cell_id) {\n",
       "                        if (nbb_cells[i].get_text() == nbb_unformatted_code) {\n",
       "                             nbb_cells[i].set_text(nbb_formatted_code);\n",
       "                        }\n",
       "                        break;\n",
       "                    }\n",
       "                }\n",
       "            }, 500);\n",
       "            "
      ],
      "text/plain": [
       "<IPython.core.display.Javascript object>"
      ]
     },
     "metadata": {},
     "output_type": "display_data"
    }
   ],
   "source": [
    "download(\"https://github.com/AllenDowney/ThinkStats/raw/v3/nb/brfss.py\")\n",
    "download(\"https://github.com/AllenDowney/ThinkStats/raw/v3/data/CDBRFS08.ASC.gz\")"
   ]
  },
  {
   "cell_type": "code",
   "execution_count": 6,
   "id": "e45150ed",
   "metadata": {},
   "outputs": [
    {
     "data": {
      "application/javascript": [
       "\n",
       "            setTimeout(function() {\n",
       "                var nbb_cell_id = 6;\n",
       "                var nbb_unformatted_code = \"import brfss\\n\\ndf = brfss.read_brfss(nrows=None)\";\n",
       "                var nbb_formatted_code = \"import brfss\\n\\ndf = brfss.read_brfss(nrows=None)\";\n",
       "                var nbb_cells = Jupyter.notebook.get_cells();\n",
       "                for (var i = 0; i < nbb_cells.length; ++i) {\n",
       "                    if (nbb_cells[i].input_prompt_number == nbb_cell_id) {\n",
       "                        if (nbb_cells[i].get_text() == nbb_unformatted_code) {\n",
       "                             nbb_cells[i].set_text(nbb_formatted_code);\n",
       "                        }\n",
       "                        break;\n",
       "                    }\n",
       "                }\n",
       "            }, 500);\n",
       "            "
      ],
      "text/plain": [
       "<IPython.core.display.Javascript object>"
      ]
     },
     "metadata": {},
     "output_type": "display_data"
    }
   ],
   "source": [
    "import brfss\n",
    "\n",
    "df = brfss.read_brfss(nrows=None)"
   ]
  },
  {
   "cell_type": "code",
   "execution_count": 7,
   "id": "2a4e85ed",
   "metadata": {},
   "outputs": [
    {
     "data": {
      "text/plain": [
       "(163.22347500412215, 7.269156286642232)"
      ]
     },
     "execution_count": 7,
     "metadata": {},
     "output_type": "execute_result"
    },
    {
     "data": {
      "application/javascript": [
       "\n",
       "            setTimeout(function() {\n",
       "                var nbb_cell_id = 7;\n",
       "                var nbb_unformatted_code = \"female = df[df.sex == 2]\\nfemale_heights = female.htm3.dropna()\\nmean, std = female_heights.mean(), female_heights.std()\\nmean, std\";\n",
       "                var nbb_formatted_code = \"female = df[df.sex == 2]\\nfemale_heights = female.htm3.dropna()\\nmean, std = female_heights.mean(), female_heights.std()\\nmean, std\";\n",
       "                var nbb_cells = Jupyter.notebook.get_cells();\n",
       "                for (var i = 0; i < nbb_cells.length; ++i) {\n",
       "                    if (nbb_cells[i].input_prompt_number == nbb_cell_id) {\n",
       "                        if (nbb_cells[i].get_text() == nbb_unformatted_code) {\n",
       "                             nbb_cells[i].set_text(nbb_formatted_code);\n",
       "                        }\n",
       "                        break;\n",
       "                    }\n",
       "                }\n",
       "            }, 500);\n",
       "            "
      ],
      "text/plain": [
       "<IPython.core.display.Javascript object>"
      ]
     },
     "metadata": {},
     "output_type": "display_data"
    }
   ],
   "source": [
    "female = df[df.sex == 2]\n",
    "female_heights = female.htm3.dropna()\n",
    "mean, std = female_heights.mean(), female_heights.std()\n",
    "mean, std"
   ]
  },
  {
   "cell_type": "code",
   "execution_count": 9,
   "id": "452138d1",
   "metadata": {},
   "outputs": [
    {
     "data": {
      "text/plain": [
       "0.033287319047437085"
      ]
     },
     "execution_count": 9,
     "metadata": {},
     "output_type": "execute_result"
    },
    {
     "data": {
      "application/javascript": [
       "\n",
       "            setTimeout(function() {\n",
       "                var nbb_cell_id = 9;\n",
       "                var nbb_unformatted_code = \"pdf = NormalPdf(mean, std)\\npdf.density(mean + std)\";\n",
       "                var nbb_formatted_code = \"pdf = NormalPdf(mean, std)\\npdf.density(mean + std)\";\n",
       "                var nbb_cells = Jupyter.notebook.get_cells();\n",
       "                for (var i = 0; i < nbb_cells.length; ++i) {\n",
       "                    if (nbb_cells[i].input_prompt_number == nbb_cell_id) {\n",
       "                        if (nbb_cells[i].get_text() == nbb_unformatted_code) {\n",
       "                             nbb_cells[i].set_text(nbb_formatted_code);\n",
       "                        }\n",
       "                        break;\n",
       "                    }\n",
       "                }\n",
       "            }, 500);\n",
       "            "
      ],
      "text/plain": [
       "<IPython.core.display.Javascript object>"
      ]
     },
     "metadata": {},
     "output_type": "display_data"
    }
   ],
   "source": [
    "pdf = NormalPdf(mean, std)\n",
    "pdf.density(mean + std)"
   ]
  },
  {
   "cell_type": "markdown",
   "id": "c185111e",
   "metadata": {},
   "source": [
    "The result is about 0.03, in units of probability mass per cm. Again, a probability density doesn't mean much by itself.\n",
    "But if we plot the Pdf, we can see the shape of the distribution:"
   ]
  },
  {
   "cell_type": "code",
   "execution_count": 10,
   "id": "1ddbf508",
   "metadata": {},
   "outputs": [
    {
     "data": {
      "image/png": "[encoded data removed]",
      "text/plain": [
       "<Figure size 640x480 with 1 Axes>"
      ]
     },
     "metadata": {},
     "output_type": "display_data"
    },
    {
     "data": {
      "application/javascript": [
       "\n",
       "            setTimeout(function() {\n",
       "                var nbb_cell_id = 10;\n",
       "                var nbb_unformatted_code = \"pdf.plot()\\ndecorate(xlabel=\\\"height (cm)\\\", ylabel=\\\"density\\\")\";\n",
       "                var nbb_formatted_code = \"pdf.plot()\\ndecorate(xlabel=\\\"height (cm)\\\", ylabel=\\\"density\\\")\";\n",
       "                var nbb_cells = Jupyter.notebook.get_cells();\n",
       "                for (var i = 0; i < nbb_cells.length; ++i) {\n",
       "                    if (nbb_cells[i].input_prompt_number == nbb_cell_id) {\n",
       "                        if (nbb_cells[i].get_text() == nbb_unformatted_code) {\n",
       "                             nbb_cells[i].set_text(nbb_formatted_code);\n",
       "                        }\n",
       "                        break;\n",
       "                    }\n",
       "                }\n",
       "            }, 500);\n",
       "            "
      ],
      "text/plain": [
       "<IPython.core.display.Javascript object>"
      ]
     },
     "metadata": {},
     "output_type": "display_data"
    }
   ],
   "source": [
    "pdf.plot()\n",
    "decorate(xlabel=\"height (cm)\", ylabel=\"density\")"
   ]
  },
  {
   "cell_type": "markdown",
   "id": "491f7694",
   "metadata": {},
   "source": [
    "By default, the resulting `Pmf` contains 101 points equally spaced from `mu - 3*sigma` to `mu + 3*sigma`."
   ]
  },
  {
   "cell_type": "markdown",
   "id": "91858c9e",
   "metadata": {},
   "source": [
    "## Kernel density estimation\n",
    "\n",
    "**Kernel density estimation** (KDE) is an algorithm that takes a sample and finds an appropriately smooth PDF that fits the data.\n",
    "You can read details at <http://en.wikipedia.org/wiki/Kernel_density_estimation>.\n",
    "\n",
    "`scipy` provides an implementation of KDE and `thinkstats2` provides a class called `EstimatedPdf` that uses it:"
   ]
  },
  {
   "cell_type": "code",
   "execution_count": 11,
   "id": "0c78136f",
   "metadata": {},
   "outputs": [
    {
     "data": {
      "application/javascript": [
       "\n",
       "            setTimeout(function() {\n",
       "                var nbb_cell_id = 11;\n",
       "                var nbb_unformatted_code = \"from thinkstats import EstimatedPdf\";\n",
       "                var nbb_formatted_code = \"from thinkstats import EstimatedPdf\";\n",
       "                var nbb_cells = Jupyter.notebook.get_cells();\n",
       "                for (var i = 0; i < nbb_cells.length; ++i) {\n",
       "                    if (nbb_cells[i].input_prompt_number == nbb_cell_id) {\n",
       "                        if (nbb_cells[i].get_text() == nbb_unformatted_code) {\n",
       "                             nbb_cells[i].set_text(nbb_formatted_code);\n",
       "                        }\n",
       "                        break;\n",
       "                    }\n",
       "                }\n",
       "            }, 500);\n",
       "            "
      ],
      "text/plain": [
       "<IPython.core.display.Javascript object>"
      ]
     },
     "metadata": {},
     "output_type": "display_data"
    }
   ],
   "source": [
    "from thinkstats import EstimatedPdf"
   ]
  },
  {
   "cell_type": "markdown",
   "id": "bac2ef96",
   "metadata": {},
   "source": [
    "Here's an example that generates a sample from a normal distribution and then makes an `EstimatedPdf` to fit it:"
   ]
  },
  {
   "cell_type": "code",
   "execution_count": 12,
   "id": "363b8193",
   "metadata": {},
   "outputs": [
    {
     "data": {
      "image/png": "[encoded data removed]",
      "text/plain": [
       "<Figure size 640x480 with 1 Axes>"
      ]
     },
     "metadata": {},
     "output_type": "display_data"
    },
    {
     "data": {
      "application/javascript": [
       "\n",
       "            setTimeout(function() {\n",
       "                var nbb_cell_id = 12;\n",
       "                var nbb_unformatted_code = \"import random\\n\\nsample = [random.gauss(mean, std) for i in range(500)]\\nsample_pdf = EstimatedPdf(sample, name=\\\"sample KDE\\\")\\nsample_pdf.plot()\";\n",
       "                var nbb_formatted_code = \"import random\\n\\nsample = [random.gauss(mean, std) for i in range(500)]\\nsample_pdf = EstimatedPdf(sample, name=\\\"sample KDE\\\")\\nsample_pdf.plot()\";\n",
       "                var nbb_cells = Jupyter.notebook.get_cells();\n",
       "                for (var i = 0; i < nbb_cells.length; ++i) {\n",
       "                    if (nbb_cells[i].input_prompt_number == nbb_cell_id) {\n",
       "                        if (nbb_cells[i].get_text() == nbb_unformatted_code) {\n",
       "                             nbb_cells[i].set_text(nbb_formatted_code);\n",
       "                        }\n",
       "                        break;\n",
       "                    }\n",
       "                }\n",
       "            }, 500);\n",
       "            "
      ],
      "text/plain": [
       "<IPython.core.display.Javascript object>"
      ]
     },
     "metadata": {},
     "output_type": "display_data"
    }
   ],
   "source": [
    "import random\n",
    "\n",
    "sample = [random.gauss(mean, std) for i in range(500)]\n",
    "sample_pdf = EstimatedPdf(sample, name=\"sample KDE\")\n",
    "sample_pdf.plot()"
   ]
  },
  {
   "cell_type": "markdown",
   "id": "547b06b6",
   "metadata": {},
   "source": [
    "`sample` is a list of 500 random heights.\n",
    "`sample_pdf` is a `Pdf` object that contains the estimated KDE of the sample.\n",
    "\n",
    "The following figure shows the normal density function and a KDE based on a sample of 500 random heights.\n",
    "The estimate is a good match for the original distribution.\n",
    "\n",
    "Estimating a density function with KDE is useful for several purposes:\n",
    "\n",
    "-   *Visualization:* During the exploration phase of a project, CDFs are usually the best visualization of a distribution.\n",
    "After you look at a CDF, you can decide whether an estimated PDF is an appropriate model of the distribution.\n",
    "If so, it can be a better choice for presenting the distribution to an audience that is unfamiliar with CDFs.\n",
    "\n",
    "-   *Interpolation:* An estimated PDF is a way to get from a sample to a model of the population.\n",
    "If you have reason to believe that the population distribution is smooth, you can use KDE to interpolate the density for values that don't appear in the sample.\n",
    "\n",
    "-   *Simulation:* Simulations are often based on the distribution of a sample.\n",
    "If the sample size is small, it might be appropriate to smooth the sample distribution using KDE, which allows the simulation to explore more possible outcomes, rather than replicating the observed data."
   ]
  },
  {
   "cell_type": "markdown",
   "id": "9890ea3b",
   "metadata": {},
   "source": [
    "## The distribution framework\n",
    "\n",
    "At this point we have seen PMFs, CDFs and PDFs; let's take a minute to review.\n",
    "The following figure shows how these functions relate to each other."
   ]
  },
  {
   "cell_type": "code",
   "execution_count": 13,
   "id": "bf96cbce",
   "metadata": {},
   "outputs": [
    {
     "data": {
      "application/javascript": [
       "\n",
       "            setTimeout(function() {\n",
       "                var nbb_cell_id = 13;\n",
       "                var nbb_unformatted_code = \"# TODO: add the figure\\n\\n# ![A framework that relates representations of distribution functions.]\\n# (figs/distribution_functions.pdf){height=\\\"2.2in\\\"}\";\n",
       "                var nbb_formatted_code = \"# TODO: add the figure\\n\\n# ![A framework that relates representations of distribution functions.]\\n# (figs/distribution_functions.pdf){height=\\\"2.2in\\\"}\";\n",
       "                var nbb_cells = Jupyter.notebook.get_cells();\n",
       "                for (var i = 0; i < nbb_cells.length; ++i) {\n",
       "                    if (nbb_cells[i].input_prompt_number == nbb_cell_id) {\n",
       "                        if (nbb_cells[i].get_text() == nbb_unformatted_code) {\n",
       "                             nbb_cells[i].set_text(nbb_formatted_code);\n",
       "                        }\n",
       "                        break;\n",
       "                    }\n",
       "                }\n",
       "            }, 500);\n",
       "            "
      ],
      "text/plain": [
       "<IPython.core.display.Javascript object>"
      ]
     },
     "metadata": {},
     "output_type": "display_data"
    }
   ],
   "source": [
    "# TODO: add the figure\n",
    "\n",
    "# ![A framework that relates representations of distribution functions.]\n",
    "# (figs/distribution_functions.pdf){height=\"2.2in\"}"
   ]
  },
  {
   "cell_type": "markdown",
   "id": "bdb6bc7c",
   "metadata": {},
   "source": [
    "We started with PMFs, which represent the probabilities for a discrete set of values.\n",
    "To get from a PMF to a CDF, you add up the probability masses to get cumulative probabilities.\n",
    "To get from a CDF back to a PMF, you compute differences in cumulative probabilities.\n",
    "We'll see the implementation of these operations in the next few sections.\n",
    "\n",
    "A PDF is the derivative of a continuous CDF; or, equivalently, a CDF is the integral of a PDF.\n",
    "Remember that a PDF maps from values to probability densities; to get a probability, you have to integrate."
   ]
  },
  {
   "cell_type": "markdown",
   "id": "3a82910f",
   "metadata": {},
   "source": [
    "To get from a discrete to a continuous distribution, you can perform various kinds of smoothing.\n",
    "One form of smoothing is to assume that the data come from an analytic continuous distribution (like exponential or normal) and to estimate the parameters of that distribution.\n",
    "Another option is kernel density estimation.\n",
    "\n",
    "The opposite of smoothing is **discretizing**, or quantizing.\n",
    "If you evaluate a PDF at discrete points, you can generate a PMF that is an approximation of the PDF.\n",
    "You can get a better approximation using numerical integration.\n",
    "\n",
    "To distinguish between continuous and discrete CDFs, it might be better for a discrete CDF to be a \"cumulative mass function,\" but as far as I can tell no one uses that term."
   ]
  },
  {
   "cell_type": "markdown",
   "id": "bb0018d7",
   "metadata": {},
   "source": [
    "## Hist implementation\n",
    "\n",
    "At this point you should know how to use the basic types provided by `thinkstats2`: Hist, `Pmf`, `Cdf`, and Pdf.\n",
    "The next few sections provide details about how they are implemented.\n",
    "This material might help you use these classes more effectively, but it is not strictly necessary.\n",
    "\n",
    "Hist and `Pmf` inherit from a parent class called `_DictWrapper`.\n",
    "The leading underscore indicates that this class is \"internal;\" that is, it should not be used by code in other modules.\n",
    "The name indicates what it is: a dictionary wrapper.\n",
    "Its primary attribute is `d`, the dictionary that maps from values to their frequencies.\n",
    "\n",
    "The values can be any hashable type.\n",
    "The frequencies should be integers, but can be any numeric type.\n",
    "\n",
    "`_DictWrapper` contains methods appropriate for both `Hist` and `Pmf`, including `__init__`, `values`, `items` and `render`.\n",
    "It also provides modifier methods `set`, `incr`, `mult`, and `remove`.\n",
    "These methods are all implemented with dictionary operations.\n",
    "For example:"
   ]
  },
  {
   "cell_type": "code",
   "execution_count": 14,
   "id": "672faf1c",
   "metadata": {},
   "outputs": [
    {
     "data": {
      "application/javascript": [
       "\n",
       "            setTimeout(function() {\n",
       "                var nbb_cell_id = 14;\n",
       "                var nbb_unformatted_code = \"# TODO: Show implementation?\";\n",
       "                var nbb_formatted_code = \"# TODO: Show implementation?\";\n",
       "                var nbb_cells = Jupyter.notebook.get_cells();\n",
       "                for (var i = 0; i < nbb_cells.length; ++i) {\n",
       "                    if (nbb_cells[i].input_prompt_number == nbb_cell_id) {\n",
       "                        if (nbb_cells[i].get_text() == nbb_unformatted_code) {\n",
       "                             nbb_cells[i].set_text(nbb_formatted_code);\n",
       "                        }\n",
       "                        break;\n",
       "                    }\n",
       "                }\n",
       "            }, 500);\n",
       "            "
      ],
      "text/plain": [
       "<IPython.core.display.Javascript object>"
      ]
     },
     "metadata": {},
     "output_type": "display_data"
    }
   ],
   "source": [
    "# TODO: Show implementation?"
   ]
  },
  {
   "cell_type": "markdown",
   "id": "076b8ce6",
   "metadata": {},
   "source": [
    "`Hist` also provides `freq`, which looks up the frequency of a given value.\n",
    "\n",
    "Because `Hist` operators and methods are based on dictionaries, these methods are constant time operations; that is, their run time does not increase as the Hist gets bigger."
   ]
  },
  {
   "cell_type": "markdown",
   "id": "2b5fae95",
   "metadata": {},
   "source": [
    "## `Pmf` implementation\n",
    "\n",
    "`Pmf` and Hist are almost the same thing, except that a `Pmf` maps values to floating-point probabilities, rather than integer frequencies.\n",
    "If the sum of the probabilities is 1, the `Pmf` is normalized.\n",
    "\n",
    "`Pmf` provides `Normalize`, which computes the sum of the probabilities and divides through by a factor:"
   ]
  },
  {
   "cell_type": "code",
   "execution_count": 15,
   "id": "3881b291",
   "metadata": {},
   "outputs": [
    {
     "data": {
      "application/javascript": [
       "\n",
       "            setTimeout(function() {\n",
       "                var nbb_cell_id = 15;\n",
       "                var nbb_unformatted_code = \"def normalize(self, fraction=1.0):\\n    total = self.total()\\n    if total == 0.0:\\n        raise ValueError(\\\"Total probability is zero.\\\")\\n\\n    factor = fraction / total\\n    for x in self.d:\\n        self.d[x] *= factor\\n    return total\";\n",
       "                var nbb_formatted_code = \"def normalize(self, fraction=1.0):\\n    total = self.total()\\n    if total == 0.0:\\n        raise ValueError(\\\"Total probability is zero.\\\")\\n\\n    factor = fraction / total\\n    for x in self.d:\\n        self.d[x] *= factor\\n    return total\";\n",
       "                var nbb_cells = Jupyter.notebook.get_cells();\n",
       "                for (var i = 0; i < nbb_cells.length; ++i) {\n",
       "                    if (nbb_cells[i].input_prompt_number == nbb_cell_id) {\n",
       "                        if (nbb_cells[i].get_text() == nbb_unformatted_code) {\n",
       "                             nbb_cells[i].set_text(nbb_formatted_code);\n",
       "                        }\n",
       "                        break;\n",
       "                    }\n",
       "                }\n",
       "            }, 500);\n",
       "            "
      ],
      "text/plain": [
       "<IPython.core.display.Javascript object>"
      ]
     },
     "metadata": {},
     "output_type": "display_data"
    }
   ],
   "source": [
    "def normalize(self, fraction=1.0):\n",
    "    total = self.total()\n",
    "    if total == 0.0:\n",
    "        raise ValueError(\"Total probability is zero.\")\n",
    "\n",
    "    factor = fraction / total\n",
    "    for x in self.d:\n",
    "        self.d[x] *= factor\n",
    "    return total"
   ]
  },
  {
   "cell_type": "markdown",
   "id": "470d1825",
   "metadata": {},
   "source": [
    "`fraction` determines the sum of the probabilities after normalizing; the default value is 1. If the total probability is 0, the `Pmf` cannot be normalized, so `Normalize` raises `ValueError`.\n",
    "\n",
    "Hist and `Pmf` have the same constructor.\n",
    "It can take as an argument a `dict`, Hist, `Pmf` or `Cdf`, a Pandas `Series`, a list of (value, frequency) pairs, or a sequence of values.\n",
    "\n",
    "If you instantiate a `Pmf`, the result is normalized.\n",
    "If you instantiate a Hist, it is not.\n",
    "To construct an unnormalized `Pmf`, you can create an empty `Pmf` and modify it. The `Pmf` modifiers do not renormalize the `Pmf`."
   ]
  },
  {
   "cell_type": "markdown",
   "id": "ced7ce0c",
   "metadata": {},
   "source": [
    "## `Cdf` implementation\n",
    "\n",
    "A CDF maps from values to cumulative probabilities, so I could have implemented `Cdf` as a `_DictWrapper`.\n",
    "But the values in a CDF are ordered and the values in a `_DictWrapper` are not.\n",
    "Also, it is often useful to compute the inverse CDF; that is, the map from cumulative probability to value.\n",
    "So the implementation I chose is two sorted lists.\n",
    "That way I can use binary search to do a forward or inverse lookup in logarithmic time.\n",
    "\n",
    "The `Cdf` constructor can take as a parameter a sequence of values or a Pandas `Series`, a dictionary that maps from values to probabilities, a sequence of (value, probability) pairs, a Hist, `Pmf`, or `Cdf`.\n",
    "Or if it is given two parameters, it treats them as a sorted sequence of values and the sequence of corresponding cumulative probabilities.\n",
    "\n",
    "Given a sequence, Pandas `Series`, or dictionary, the constructor makes a Hist.\n",
    "Then it uses the Hist to initialize the attributes:"
   ]
  },
  {
   "cell_type": "raw",
   "id": "83a33778",
   "metadata": {},
   "source": [
    "self.xs, freqs = zip(*sorted(dw.Items()))\n",
    "self.ps = np.cumsum(freqs, dtype=np.float)\n",
    "self.ps /= self.ps[-1]"
   ]
  },
  {
   "cell_type": "markdown",
   "id": "59809f47",
   "metadata": {},
   "source": [
    "`xs` is the sorted list of values; `freqs` is the list of corresponding frequencies.\n",
    "`np.cumsum` computes the cumulative sum of the frequencies.\n",
    "Dividing through by the total frequency yields cumulative probabilities.\n",
    "For `n` values, the time to construct the `Cdf` is proportional to $n \\log n$.\n",
    "\n",
    "Here is the implementation of `Prob`, which takes a value and returns its cumulative probability:"
   ]
  },
  {
   "cell_type": "code",
   "execution_count": 16,
   "id": "17bd7f22",
   "metadata": {},
   "outputs": [
    {
     "data": {
      "application/javascript": [
       "\n",
       "            setTimeout(function() {\n",
       "                var nbb_cell_id = 16;\n",
       "                var nbb_unformatted_code = \"def prob(self, x):\\n    if x < self.xs[0]:\\n        return 0.0\\n    index = bisect.bisect(self.xs, x)\\n    p = self.ps[index - 1]\\n    return p\";\n",
       "                var nbb_formatted_code = \"def prob(self, x):\\n    if x < self.xs[0]:\\n        return 0.0\\n    index = bisect.bisect(self.xs, x)\\n    p = self.ps[index - 1]\\n    return p\";\n",
       "                var nbb_cells = Jupyter.notebook.get_cells();\n",
       "                for (var i = 0; i < nbb_cells.length; ++i) {\n",
       "                    if (nbb_cells[i].input_prompt_number == nbb_cell_id) {\n",
       "                        if (nbb_cells[i].get_text() == nbb_unformatted_code) {\n",
       "                             nbb_cells[i].set_text(nbb_formatted_code);\n",
       "                        }\n",
       "                        break;\n",
       "                    }\n",
       "                }\n",
       "            }, 500);\n",
       "            "
      ],
      "text/plain": [
       "<IPython.core.display.Javascript object>"
      ]
     },
     "metadata": {},
     "output_type": "display_data"
    }
   ],
   "source": [
    "def prob(self, x):\n",
    "    if x < self.xs[0]:\n",
    "        return 0.0\n",
    "    index = bisect.bisect(self.xs, x)\n",
    "    p = self.ps[index - 1]\n",
    "    return p"
   ]
  },
  {
   "cell_type": "markdown",
   "id": "879a57d0",
   "metadata": {},
   "source": [
    "The `bisect` module provides an implementation of binary search.\n",
    "And here is the implementation of `Value`, which takes a cumulative probability and returns the corresponding value:"
   ]
  },
  {
   "cell_type": "code",
   "execution_count": 17,
   "id": "aad82744",
   "metadata": {},
   "outputs": [
    {
     "data": {
      "application/javascript": [
       "\n",
       "            setTimeout(function() {\n",
       "                var nbb_cell_id = 17;\n",
       "                var nbb_unformatted_code = \"def value(self, p):\\n    if p < 0 or p > 1:\\n        raise ValueError(\\\"p must be in range [0, 1]\\\")\\n    index = bisect.bisect_left(self.ps, p)\\n    return self.xs[index]\";\n",
       "                var nbb_formatted_code = \"def value(self, p):\\n    if p < 0 or p > 1:\\n        raise ValueError(\\\"p must be in range [0, 1]\\\")\\n    index = bisect.bisect_left(self.ps, p)\\n    return self.xs[index]\";\n",
       "                var nbb_cells = Jupyter.notebook.get_cells();\n",
       "                for (var i = 0; i < nbb_cells.length; ++i) {\n",
       "                    if (nbb_cells[i].input_prompt_number == nbb_cell_id) {\n",
       "                        if (nbb_cells[i].get_text() == nbb_unformatted_code) {\n",
       "                             nbb_cells[i].set_text(nbb_formatted_code);\n",
       "                        }\n",
       "                        break;\n",
       "                    }\n",
       "                }\n",
       "            }, 500);\n",
       "            "
      ],
      "text/plain": [
       "<IPython.core.display.Javascript object>"
      ]
     },
     "metadata": {},
     "output_type": "display_data"
    }
   ],
   "source": [
    "def value(self, p):\n",
    "    if p < 0 or p > 1:\n",
    "        raise ValueError(\"p must be in range [0, 1]\")\n",
    "    index = bisect.bisect_left(self.ps, p)\n",
    "    return self.xs[index]"
   ]
  },
  {
   "cell_type": "markdown",
   "id": "b67ea490",
   "metadata": {},
   "source": [
    "Given a `Cdf`, we can compute the `Pmf` by computing differences between consecutive cumulative probabilities.\n",
    "If you call the `Cdf` constructor and pass a `Pmf`, it computes differences by calling `Cdf.Items`:"
   ]
  },
  {
   "cell_type": "code",
   "execution_count": 18,
   "id": "8b5f6fa5",
   "metadata": {},
   "outputs": [
    {
     "data": {
      "application/javascript": [
       "\n",
       "            setTimeout(function() {\n",
       "                var nbb_cell_id = 18;\n",
       "                var nbb_unformatted_code = \"def items(self):\\n    a = self.ps\\n    b = np.roll(a, 1)\\n    b[0] = 0\\n    return zip(self.xs, a - b)\";\n",
       "                var nbb_formatted_code = \"def items(self):\\n    a = self.ps\\n    b = np.roll(a, 1)\\n    b[0] = 0\\n    return zip(self.xs, a - b)\";\n",
       "                var nbb_cells = Jupyter.notebook.get_cells();\n",
       "                for (var i = 0; i < nbb_cells.length; ++i) {\n",
       "                    if (nbb_cells[i].input_prompt_number == nbb_cell_id) {\n",
       "                        if (nbb_cells[i].get_text() == nbb_unformatted_code) {\n",
       "                             nbb_cells[i].set_text(nbb_formatted_code);\n",
       "                        }\n",
       "                        break;\n",
       "                    }\n",
       "                }\n",
       "            }, 500);\n",
       "            "
      ],
      "text/plain": [
       "<IPython.core.display.Javascript object>"
      ]
     },
     "metadata": {},
     "output_type": "display_data"
    }
   ],
   "source": [
    "def items(self):\n",
    "    a = self.ps\n",
    "    b = np.roll(a, 1)\n",
    "    b[0] = 0\n",
    "    return zip(self.xs, a - b)"
   ]
  },
  {
   "cell_type": "markdown",
   "id": "8dcdda40",
   "metadata": {},
   "source": [
    "`np.roll` shifts the elements of `a` to the right, and \"rolls\" the last one back to the beginning.\n",
    "We replace the first element of `b` with 0 and then compute the difference `a-b`.\n",
    "The result is a NumPy array of probabilities.\n",
    "\n",
    "`Cdf` provides `shift` and `scale`, which modify the values in the `Cdf`, but the probabilities should be treated as immutable."
   ]
  },
  {
   "cell_type": "markdown",
   "id": "37d8c58e",
   "metadata": {},
   "source": [
    "## Moments\n",
    "\n",
    "Any time you take a sample and reduce it to a single number, that number is a statistic.\n",
    "The statistics we have seen so far include mean, variance, median, and interquartile range.\n",
    "\n",
    "A **raw moment** is a kind of statistic.\n",
    "If you have a sample of values, $x_i$, the $k$th raw moment is: $$m'_k = \\frac{1}{n} \\sum_i x_i^k$$ Or if you prefer Python notation:"
   ]
  },
  {
   "cell_type": "code",
   "execution_count": 19,
   "id": "a4247231",
   "metadata": {},
   "outputs": [
    {
     "data": {
      "application/javascript": [
       "\n",
       "            setTimeout(function() {\n",
       "                var nbb_cell_id = 19;\n",
       "                var nbb_unformatted_code = \"def raw_moment(xs, k):\\n    return sum(x**k for x in xs) / len(xs)\";\n",
       "                var nbb_formatted_code = \"def raw_moment(xs, k):\\n    return sum(x**k for x in xs) / len(xs)\";\n",
       "                var nbb_cells = Jupyter.notebook.get_cells();\n",
       "                for (var i = 0; i < nbb_cells.length; ++i) {\n",
       "                    if (nbb_cells[i].input_prompt_number == nbb_cell_id) {\n",
       "                        if (nbb_cells[i].get_text() == nbb_unformatted_code) {\n",
       "                             nbb_cells[i].set_text(nbb_formatted_code);\n",
       "                        }\n",
       "                        break;\n",
       "                    }\n",
       "                }\n",
       "            }, 500);\n",
       "            "
      ],
      "text/plain": [
       "<IPython.core.display.Javascript object>"
      ]
     },
     "metadata": {},
     "output_type": "display_data"
    }
   ],
   "source": [
    "def raw_moment(xs, k):\n",
    "    return sum(x**k for x in xs) / len(xs)"
   ]
  },
  {
   "cell_type": "code",
   "execution_count": 20,
   "id": "340e35a0",
   "metadata": {},
   "outputs": [
    {
     "data": {
      "application/javascript": [
       "\n",
       "            setTimeout(function() {\n",
       "                var nbb_cell_id = 20;\n",
       "                var nbb_unformatted_code = \"def mean(xs):\\n    return raw_moment(xs, 1)\";\n",
       "                var nbb_formatted_code = \"def mean(xs):\\n    return raw_moment(xs, 1)\";\n",
       "                var nbb_cells = Jupyter.notebook.get_cells();\n",
       "                for (var i = 0; i < nbb_cells.length; ++i) {\n",
       "                    if (nbb_cells[i].input_prompt_number == nbb_cell_id) {\n",
       "                        if (nbb_cells[i].get_text() == nbb_unformatted_code) {\n",
       "                             nbb_cells[i].set_text(nbb_formatted_code);\n",
       "                        }\n",
       "                        break;\n",
       "                    }\n",
       "                }\n",
       "            }, 500);\n",
       "            "
      ],
      "text/plain": [
       "<IPython.core.display.Javascript object>"
      ]
     },
     "metadata": {},
     "output_type": "display_data"
    }
   ],
   "source": [
    "def mean(xs):\n",
    "    return raw_moment(xs, 1)"
   ]
  },
  {
   "cell_type": "code",
   "execution_count": 21,
   "id": "cb23e825",
   "metadata": {},
   "outputs": [
    {
     "data": {
      "text/plain": [
       "163.22347500412215"
      ]
     },
     "execution_count": 21,
     "metadata": {},
     "output_type": "execute_result"
    },
    {
     "data": {
      "application/javascript": [
       "\n",
       "            setTimeout(function() {\n",
       "                var nbb_cell_id = 21;\n",
       "                var nbb_unformatted_code = \"mean(female_heights)\";\n",
       "                var nbb_formatted_code = \"mean(female_heights)\";\n",
       "                var nbb_cells = Jupyter.notebook.get_cells();\n",
       "                for (var i = 0; i < nbb_cells.length; ++i) {\n",
       "                    if (nbb_cells[i].input_prompt_number == nbb_cell_id) {\n",
       "                        if (nbb_cells[i].get_text() == nbb_unformatted_code) {\n",
       "                             nbb_cells[i].set_text(nbb_formatted_code);\n",
       "                        }\n",
       "                        break;\n",
       "                    }\n",
       "                }\n",
       "            }, 500);\n",
       "            "
      ],
      "text/plain": [
       "<IPython.core.display.Javascript object>"
      ]
     },
     "metadata": {},
     "output_type": "display_data"
    }
   ],
   "source": [
    "mean(female_heights)"
   ]
  },
  {
   "cell_type": "markdown",
   "id": "23bd7d0b",
   "metadata": {},
   "source": [
    "When $k=1$ the result is the sample mean, $\\bar{x}$.\n",
    "The other raw moments don't mean much by themselves, but they are used in some computations.\n",
    "\n",
    "The **central moments** are more useful.\n",
    "The $k$th central moment is: $$m_k = \\frac{1}{n} \\sum_i (x_i - \\bar{x})^k$$ Or in Python:"
   ]
  },
  {
   "cell_type": "code",
   "execution_count": 22,
   "id": "cfb7012a",
   "metadata": {},
   "outputs": [
    {
     "data": {
      "application/javascript": [
       "\n",
       "            setTimeout(function() {\n",
       "                var nbb_cell_id = 22;\n",
       "                var nbb_unformatted_code = \"def central_moment(xs, k):\\n    mean = raw_moment(xs, 1)\\n    return sum((x - mean) ** k for x in xs) / len(xs)\";\n",
       "                var nbb_formatted_code = \"def central_moment(xs, k):\\n    mean = raw_moment(xs, 1)\\n    return sum((x - mean) ** k for x in xs) / len(xs)\";\n",
       "                var nbb_cells = Jupyter.notebook.get_cells();\n",
       "                for (var i = 0; i < nbb_cells.length; ++i) {\n",
       "                    if (nbb_cells[i].input_prompt_number == nbb_cell_id) {\n",
       "                        if (nbb_cells[i].get_text() == nbb_unformatted_code) {\n",
       "                             nbb_cells[i].set_text(nbb_formatted_code);\n",
       "                        }\n",
       "                        break;\n",
       "                    }\n",
       "                }\n",
       "            }, 500);\n",
       "            "
      ],
      "text/plain": [
       "<IPython.core.display.Javascript object>"
      ]
     },
     "metadata": {},
     "output_type": "display_data"
    }
   ],
   "source": [
    "def central_moment(xs, k):\n",
    "    mean = raw_moment(xs, 1)\n",
    "    return sum((x - mean) ** k for x in xs) / len(xs)"
   ]
  },
  {
   "cell_type": "code",
   "execution_count": 23,
   "id": "61926432",
   "metadata": {},
   "outputs": [
    {
     "data": {
      "text/plain": [
       "-9.903557940122168e-14"
      ]
     },
     "execution_count": 23,
     "metadata": {},
     "output_type": "execute_result"
    },
    {
     "data": {
      "application/javascript": [
       "\n",
       "            setTimeout(function() {\n",
       "                var nbb_cell_id = 23;\n",
       "                var nbb_unformatted_code = \"central_moment(female_heights, 1)\";\n",
       "                var nbb_formatted_code = \"central_moment(female_heights, 1)\";\n",
       "                var nbb_cells = Jupyter.notebook.get_cells();\n",
       "                for (var i = 0; i < nbb_cells.length; ++i) {\n",
       "                    if (nbb_cells[i].input_prompt_number == nbb_cell_id) {\n",
       "                        if (nbb_cells[i].get_text() == nbb_unformatted_code) {\n",
       "                             nbb_cells[i].set_text(nbb_formatted_code);\n",
       "                        }\n",
       "                        break;\n",
       "                    }\n",
       "                }\n",
       "            }, 500);\n",
       "            "
      ],
      "text/plain": [
       "<IPython.core.display.Javascript object>"
      ]
     },
     "metadata": {},
     "output_type": "display_data"
    }
   ],
   "source": [
    "central_moment(female_heights, 1)"
   ]
  },
  {
   "cell_type": "code",
   "execution_count": 24,
   "id": "4510bad5",
   "metadata": {},
   "outputs": [
    {
     "data": {
      "text/plain": [
       "52.84042567529328"
      ]
     },
     "execution_count": 24,
     "metadata": {},
     "output_type": "execute_result"
    },
    {
     "data": {
      "application/javascript": [
       "\n",
       "            setTimeout(function() {\n",
       "                var nbb_cell_id = 24;\n",
       "                var nbb_unformatted_code = \"central_moment(female_heights, 2)\";\n",
       "                var nbb_formatted_code = \"central_moment(female_heights, 2)\";\n",
       "                var nbb_cells = Jupyter.notebook.get_cells();\n",
       "                for (var i = 0; i < nbb_cells.length; ++i) {\n",
       "                    if (nbb_cells[i].input_prompt_number == nbb_cell_id) {\n",
       "                        if (nbb_cells[i].get_text() == nbb_unformatted_code) {\n",
       "                             nbb_cells[i].set_text(nbb_formatted_code);\n",
       "                        }\n",
       "                        break;\n",
       "                    }\n",
       "                }\n",
       "            }, 500);\n",
       "            "
      ],
      "text/plain": [
       "<IPython.core.display.Javascript object>"
      ]
     },
     "metadata": {},
     "output_type": "display_data"
    }
   ],
   "source": [
    "central_moment(female_heights, 2)"
   ]
  },
  {
   "cell_type": "code",
   "execution_count": 25,
   "id": "8fc44e67",
   "metadata": {},
   "outputs": [
    {
     "data": {
      "text/plain": [
       "-46.88569506887073"
      ]
     },
     "execution_count": 25,
     "metadata": {},
     "output_type": "execute_result"
    },
    {
     "data": {
      "application/javascript": [
       "\n",
       "            setTimeout(function() {\n",
       "                var nbb_cell_id = 25;\n",
       "                var nbb_unformatted_code = \"central_moment(female_heights, 3)\";\n",
       "                var nbb_formatted_code = \"central_moment(female_heights, 3)\";\n",
       "                var nbb_cells = Jupyter.notebook.get_cells();\n",
       "                for (var i = 0; i < nbb_cells.length; ++i) {\n",
       "                    if (nbb_cells[i].input_prompt_number == nbb_cell_id) {\n",
       "                        if (nbb_cells[i].get_text() == nbb_unformatted_code) {\n",
       "                             nbb_cells[i].set_text(nbb_formatted_code);\n",
       "                        }\n",
       "                        break;\n",
       "                    }\n",
       "                }\n",
       "            }, 500);\n",
       "            "
      ],
      "text/plain": [
       "<IPython.core.display.Javascript object>"
      ]
     },
     "metadata": {},
     "output_type": "display_data"
    }
   ],
   "source": [
    "central_moment(female_heights, 3)"
   ]
  },
  {
   "cell_type": "markdown",
   "id": "095c40c1",
   "metadata": {},
   "source": [
    "When $k=2$ the result is the second central moment, which you might recognize as variance.\n",
    "The definition of variance gives a hint about why these statistics are called moments.\n",
    "If we attach a weight along a ruler at each location, $x_i$, and then spin the ruler around the mean, the moment of inertia of the spinning weights is the variance of the values.\n",
    "If you are not familiar with moment of inertia, see <http://en.wikipedia.org/wiki/Moment_of_inertia>."
   ]
  },
  {
   "cell_type": "code",
   "execution_count": 26,
   "id": "12147739",
   "metadata": {},
   "outputs": [
    {
     "data": {
      "text/plain": [
       "52.84042567529328"
      ]
     },
     "execution_count": 26,
     "metadata": {},
     "output_type": "execute_result"
    },
    {
     "data": {
      "application/javascript": [
       "\n",
       "            setTimeout(function() {\n",
       "                var nbb_cell_id = 26;\n",
       "                var nbb_unformatted_code = \"def var(xs):\\n    return central_moment(xs, 2)\\n\\n\\nvar(female_heights)\";\n",
       "                var nbb_formatted_code = \"def var(xs):\\n    return central_moment(xs, 2)\\n\\n\\nvar(female_heights)\";\n",
       "                var nbb_cells = Jupyter.notebook.get_cells();\n",
       "                for (var i = 0; i < nbb_cells.length; ++i) {\n",
       "                    if (nbb_cells[i].input_prompt_number == nbb_cell_id) {\n",
       "                        if (nbb_cells[i].get_text() == nbb_unformatted_code) {\n",
       "                             nbb_cells[i].set_text(nbb_formatted_code);\n",
       "                        }\n",
       "                        break;\n",
       "                    }\n",
       "                }\n",
       "            }, 500);\n",
       "            "
      ],
      "text/plain": [
       "<IPython.core.display.Javascript object>"
      ]
     },
     "metadata": {},
     "output_type": "display_data"
    }
   ],
   "source": [
    "def var(xs):\n",
    "    return central_moment(xs, 2)\n",
    "\n",
    "\n",
    "var(female_heights)"
   ]
  },
  {
   "cell_type": "markdown",
   "id": "d0f97f91",
   "metadata": {},
   "source": [
    "When you report moment-based statistics, it is important to think about the units.\n",
    "For example, if the values $x_i$ are in cm, the first raw moment is also in cm. But the second moment is in cm$^2$, the third moment is in cm$^3$, and so on.\n",
    "\n",
    "Because of these units, moments are hard to interpret by themselves.\n",
    "That's why, for the second moment, it is common to report standard deviation, which is the square root of variance, so it is in the same units as $x_i$."
   ]
  },
  {
   "cell_type": "markdown",
   "id": "3c926907",
   "metadata": {},
   "source": [
    "## Skewness\n",
    "\n",
    "**Skewness** is a property that describes the shape of a distribution.\n",
    "If the distribution is symmetric around its central tendency, it is unskewed.\n",
    "If the values extend farther to the right, it is \"right skewed\" and if the values extend left, it is \"left skewed.\"\n",
    "\n",
    "This use of \"skewed\" does not have the usual connotation of \"biased.\" Skewness only describes the shape of the distribution; it says nothing about whether the sampling process might have been biased.\n",
    "\n",
    "Several statistics are commonly used to quantify the skewness of a distribution.\n",
    "Given a sequence of values, $x_i$, the **sample skewness**, $g_1$, can be computed like this:"
   ]
  },
  {
   "cell_type": "code",
   "execution_count": 27,
   "id": "2a1d93df",
   "metadata": {},
   "outputs": [
    {
     "data": {
      "application/javascript": [
       "\n",
       "            setTimeout(function() {\n",
       "                var nbb_cell_id = 27;\n",
       "                var nbb_unformatted_code = \"def standardized_moment(xs, k):\\n    var = central_moment(xs, 2)\\n    std = np.sqrt(var)\\n    return central_moment(xs, k) / std**k\";\n",
       "                var nbb_formatted_code = \"def standardized_moment(xs, k):\\n    var = central_moment(xs, 2)\\n    std = np.sqrt(var)\\n    return central_moment(xs, k) / std**k\";\n",
       "                var nbb_cells = Jupyter.notebook.get_cells();\n",
       "                for (var i = 0; i < nbb_cells.length; ++i) {\n",
       "                    if (nbb_cells[i].input_prompt_number == nbb_cell_id) {\n",
       "                        if (nbb_cells[i].get_text() == nbb_unformatted_code) {\n",
       "                             nbb_cells[i].set_text(nbb_formatted_code);\n",
       "                        }\n",
       "                        break;\n",
       "                    }\n",
       "                }\n",
       "            }, 500);\n",
       "            "
      ],
      "text/plain": [
       "<IPython.core.display.Javascript object>"
      ]
     },
     "metadata": {},
     "output_type": "display_data"
    }
   ],
   "source": [
    "def standardized_moment(xs, k):\n",
    "    var = central_moment(xs, 2)\n",
    "    std = np.sqrt(var)\n",
    "    return central_moment(xs, k) / std**k"
   ]
  },
  {
   "cell_type": "code",
   "execution_count": 28,
   "id": "6b8a6c3f",
   "metadata": {},
   "outputs": [
    {
     "data": {
      "text/plain": [
       "[-1.3624108479155668e-14, 1.0, -0.1220649274510512]"
      ]
     },
     "execution_count": 28,
     "metadata": {},
     "output_type": "execute_result"
    },
    {
     "data": {
      "application/javascript": [
       "\n",
       "            setTimeout(function() {\n",
       "                var nbb_cell_id = 28;\n",
       "                var nbb_unformatted_code = \"[\\n    standardized_moment(female_heights, 1),\\n    standardized_moment(female_heights, 2),\\n    standardized_moment(female_heights, 3),\\n]\";\n",
       "                var nbb_formatted_code = \"[\\n    standardized_moment(female_heights, 1),\\n    standardized_moment(female_heights, 2),\\n    standardized_moment(female_heights, 3),\\n]\";\n",
       "                var nbb_cells = Jupyter.notebook.get_cells();\n",
       "                for (var i = 0; i < nbb_cells.length; ++i) {\n",
       "                    if (nbb_cells[i].input_prompt_number == nbb_cell_id) {\n",
       "                        if (nbb_cells[i].get_text() == nbb_unformatted_code) {\n",
       "                             nbb_cells[i].set_text(nbb_formatted_code);\n",
       "                        }\n",
       "                        break;\n",
       "                    }\n",
       "                }\n",
       "            }, 500);\n",
       "            "
      ],
      "text/plain": [
       "<IPython.core.display.Javascript object>"
      ]
     },
     "metadata": {},
     "output_type": "display_data"
    }
   ],
   "source": [
    "[\n",
    "    standardized_moment(female_heights, 1),\n",
    "    standardized_moment(female_heights, 2),\n",
    "    standardized_moment(female_heights, 3),\n",
    "]"
   ]
  },
  {
   "cell_type": "code",
   "execution_count": 29,
   "id": "c0268216",
   "metadata": {},
   "outputs": [
    {
     "data": {
      "application/javascript": [
       "\n",
       "            setTimeout(function() {\n",
       "                var nbb_cell_id = 29;\n",
       "                var nbb_unformatted_code = \"def skewness(xs):\\n    return standardized_moment(xs, 3)\";\n",
       "                var nbb_formatted_code = \"def skewness(xs):\\n    return standardized_moment(xs, 3)\";\n",
       "                var nbb_cells = Jupyter.notebook.get_cells();\n",
       "                for (var i = 0; i < nbb_cells.length; ++i) {\n",
       "                    if (nbb_cells[i].input_prompt_number == nbb_cell_id) {\n",
       "                        if (nbb_cells[i].get_text() == nbb_unformatted_code) {\n",
       "                             nbb_cells[i].set_text(nbb_formatted_code);\n",
       "                        }\n",
       "                        break;\n",
       "                    }\n",
       "                }\n",
       "            }, 500);\n",
       "            "
      ],
      "text/plain": [
       "<IPython.core.display.Javascript object>"
      ]
     },
     "metadata": {},
     "output_type": "display_data"
    }
   ],
   "source": [
    "def skewness(xs):\n",
    "    return standardized_moment(xs, 3)"
   ]
  },
  {
   "cell_type": "code",
   "execution_count": 30,
   "id": "4dfacd5c",
   "metadata": {},
   "outputs": [
    {
     "data": {
      "text/plain": [
       "-0.1220649274510512"
      ]
     },
     "execution_count": 30,
     "metadata": {},
     "output_type": "execute_result"
    },
    {
     "data": {
      "application/javascript": [
       "\n",
       "            setTimeout(function() {\n",
       "                var nbb_cell_id = 30;\n",
       "                var nbb_unformatted_code = \"skewness(female_heights)\";\n",
       "                var nbb_formatted_code = \"skewness(female_heights)\";\n",
       "                var nbb_cells = Jupyter.notebook.get_cells();\n",
       "                for (var i = 0; i < nbb_cells.length; ++i) {\n",
       "                    if (nbb_cells[i].input_prompt_number == nbb_cell_id) {\n",
       "                        if (nbb_cells[i].get_text() == nbb_unformatted_code) {\n",
       "                             nbb_cells[i].set_text(nbb_formatted_code);\n",
       "                        }\n",
       "                        break;\n",
       "                    }\n",
       "                }\n",
       "            }, 500);\n",
       "            "
      ],
      "text/plain": [
       "<IPython.core.display.Javascript object>"
      ]
     },
     "metadata": {},
     "output_type": "display_data"
    }
   ],
   "source": [
    "skewness(female_heights)"
   ]
  },
  {
   "cell_type": "markdown",
   "id": "c4592341",
   "metadata": {},
   "source": [
    "$g_1$ is the third **standardized moment**, which means that it has been normalized so it has no units.\n",
    "\n",
    "Negative skewness indicates that a distribution skews left; positive skewness indicates that a distribution skews right.\n",
    "The magnitude of $g_1$ indicates the strength of the skewness, but by itself it is not easy to interpret.\n",
    "\n",
    "In practice, computing sample skewness is usually not a good idea.\n",
    "If there are any outliers, they have a disproportionate effect on $g_1$.\n",
    "\n",
    "Another way to evaluate the asymmetry of a distribution is to look at the relationship between the mean and median.\n",
    "Extreme values have more effect on the mean than the median, so in a distribution that skews left, the mean is less than the median.\n",
    "In a distribution that skews right, the mean is greater.\n",
    "\n",
    "**Pearson's median skewness coefficient** is a measure of skewness based on the difference between the sample mean and median: $$g_p = 3 (\\bar{x} - m) / S$$ Where $\\bar{x}$ is the sample mean, $m$ is the median, and $S$ is the standard deviation.\n",
    "Or in Python:"
   ]
  },
  {
   "cell_type": "code",
   "execution_count": 31,
   "id": "05b8b6af",
   "metadata": {},
   "outputs": [
    {
     "data": {
      "application/javascript": [
       "\n",
       "            setTimeout(function() {\n",
       "                var nbb_cell_id = 31;\n",
       "                var nbb_unformatted_code = \"from empiricaldist import Cdf\\n\\n\\ndef median(xs):\\n    cdf = Cdf.from_seq(xs)\\n    return cdf.inverse(0.5)\";\n",
       "                var nbb_formatted_code = \"from empiricaldist import Cdf\\n\\n\\ndef median(xs):\\n    cdf = Cdf.from_seq(xs)\\n    return cdf.inverse(0.5)\";\n",
       "                var nbb_cells = Jupyter.notebook.get_cells();\n",
       "                for (var i = 0; i < nbb_cells.length; ++i) {\n",
       "                    if (nbb_cells[i].input_prompt_number == nbb_cell_id) {\n",
       "                        if (nbb_cells[i].get_text() == nbb_unformatted_code) {\n",
       "                             nbb_cells[i].set_text(nbb_formatted_code);\n",
       "                        }\n",
       "                        break;\n",
       "                    }\n",
       "                }\n",
       "            }, 500);\n",
       "            "
      ],
      "text/plain": [
       "<IPython.core.display.Javascript object>"
      ]
     },
     "metadata": {},
     "output_type": "display_data"
    }
   ],
   "source": [
    "from empiricaldist import Cdf\n",
    "\n",
    "\n",
    "def median(xs):\n",
    "    cdf = Cdf.from_seq(xs)\n",
    "    return cdf.inverse(0.5)"
   ]
  },
  {
   "cell_type": "code",
   "execution_count": 32,
   "id": "fc62c23f",
   "metadata": {},
   "outputs": [
    {
     "data": {
      "text/plain": [
       "(163.22347500412215, array(163.))"
      ]
     },
     "execution_count": 32,
     "metadata": {},
     "output_type": "execute_result"
    },
    {
     "data": {
      "application/javascript": [
       "\n",
       "            setTimeout(function() {\n",
       "                var nbb_cell_id = 32;\n",
       "                var nbb_unformatted_code = \"mean(female_heights), median(female_heights)\";\n",
       "                var nbb_formatted_code = \"mean(female_heights), median(female_heights)\";\n",
       "                var nbb_cells = Jupyter.notebook.get_cells();\n",
       "                for (var i = 0; i < nbb_cells.length; ++i) {\n",
       "                    if (nbb_cells[i].input_prompt_number == nbb_cell_id) {\n",
       "                        if (nbb_cells[i].get_text() == nbb_unformatted_code) {\n",
       "                             nbb_cells[i].set_text(nbb_formatted_code);\n",
       "                        }\n",
       "                        break;\n",
       "                    }\n",
       "                }\n",
       "            }, 500);\n",
       "            "
      ],
      "text/plain": [
       "<IPython.core.display.Javascript object>"
      ]
     },
     "metadata": {},
     "output_type": "display_data"
    }
   ],
   "source": [
    "mean(female_heights), median(female_heights)"
   ]
  },
  {
   "cell_type": "code",
   "execution_count": 33,
   "id": "78c5f8d2",
   "metadata": {},
   "outputs": [
    {
     "data": {
      "application/javascript": [
       "\n",
       "            setTimeout(function() {\n",
       "                var nbb_cell_id = 33;\n",
       "                var nbb_unformatted_code = \"def pearson_median_skewness(xs):\\n    xbar = raw_moment(xs, 1)\\n    m = median(xs)\\n    s2 = central_moment(xs, 2)\\n    s = np.sqrt(s2)\\n    gp = 3 * (xbar - m) / s\\n    return gp\";\n",
       "                var nbb_formatted_code = \"def pearson_median_skewness(xs):\\n    xbar = raw_moment(xs, 1)\\n    m = median(xs)\\n    s2 = central_moment(xs, 2)\\n    s = np.sqrt(s2)\\n    gp = 3 * (xbar - m) / s\\n    return gp\";\n",
       "                var nbb_cells = Jupyter.notebook.get_cells();\n",
       "                for (var i = 0; i < nbb_cells.length; ++i) {\n",
       "                    if (nbb_cells[i].input_prompt_number == nbb_cell_id) {\n",
       "                        if (nbb_cells[i].get_text() == nbb_unformatted_code) {\n",
       "                             nbb_cells[i].set_text(nbb_formatted_code);\n",
       "                        }\n",
       "                        break;\n",
       "                    }\n",
       "                }\n",
       "            }, 500);\n",
       "            "
      ],
      "text/plain": [
       "<IPython.core.display.Javascript object>"
      ]
     },
     "metadata": {},
     "output_type": "display_data"
    }
   ],
   "source": [
    "def pearson_median_skewness(xs):\n",
    "    xbar = raw_moment(xs, 1)\n",
    "    m = median(xs)\n",
    "    s2 = central_moment(xs, 2)\n",
    "    s = np.sqrt(s2)\n",
    "    gp = 3 * (xbar - m) / s\n",
    "    return gp"
   ]
  },
  {
   "cell_type": "code",
   "execution_count": 34,
   "id": "ed0887cd",
   "metadata": {},
   "outputs": [
    {
     "data": {
      "text/plain": [
       "0.0922289055190516"
      ]
     },
     "execution_count": 34,
     "metadata": {},
     "output_type": "execute_result"
    },
    {
     "data": {
      "application/javascript": [
       "\n",
       "            setTimeout(function() {\n",
       "                var nbb_cell_id = 34;\n",
       "                var nbb_unformatted_code = \"pearson_median_skewness(female_heights)\";\n",
       "                var nbb_formatted_code = \"pearson_median_skewness(female_heights)\";\n",
       "                var nbb_cells = Jupyter.notebook.get_cells();\n",
       "                for (var i = 0; i < nbb_cells.length; ++i) {\n",
       "                    if (nbb_cells[i].input_prompt_number == nbb_cell_id) {\n",
       "                        if (nbb_cells[i].get_text() == nbb_unformatted_code) {\n",
       "                             nbb_cells[i].set_text(nbb_formatted_code);\n",
       "                        }\n",
       "                        break;\n",
       "                    }\n",
       "                }\n",
       "            }, 500);\n",
       "            "
      ],
      "text/plain": [
       "<IPython.core.display.Javascript object>"
      ]
     },
     "metadata": {},
     "output_type": "display_data"
    }
   ],
   "source": [
    "pearson_median_skewness(female_heights)"
   ]
  },
  {
   "cell_type": "markdown",
   "id": "9e3ca4ec",
   "metadata": {},
   "source": [
    "This statistic is **robust**, which means that it is less vulnerable to the effect of outliers."
   ]
  },
  {
   "cell_type": "markdown",
   "id": "aaed2aa7",
   "metadata": {},
   "source": [
    "As an example, let's look at the skewness of birth weights in the NSFG pregnancy data.\n",
    "Here's the code to estimate and plot the PDF:"
   ]
  },
  {
   "cell_type": "code",
   "execution_count": 35,
   "id": "af2e5656",
   "metadata": {},
   "outputs": [
    {
     "data": {
      "application/javascript": [
       "\n",
       "            setTimeout(function() {\n",
       "                var nbb_cell_id = 35;\n",
       "                var nbb_unformatted_code = \"download(\\\"https://github.com/AllenDowney/ThinkStats/raw/v3/nb/nsfg.py\\\")\\ndownload(\\\"https://github.com/AllenDowney/ThinkStats/raw/v3/data/2002FemPreg.dct\\\")\\ndownload(\\\"https://github.com/AllenDowney/ThinkStats/raw/v3/data/2002FemPreg.dat.gz\\\")\";\n",
       "                var nbb_formatted_code = \"download(\\\"https://github.com/AllenDowney/ThinkStats/raw/v3/nb/nsfg.py\\\")\\ndownload(\\\"https://github.com/AllenDowney/ThinkStats/raw/v3/data/2002FemPreg.dct\\\")\\ndownload(\\\"https://github.com/AllenDowney/ThinkStats/raw/v3/data/2002FemPreg.dat.gz\\\")\";\n",
       "                var nbb_cells = Jupyter.notebook.get_cells();\n",
       "                for (var i = 0; i < nbb_cells.length; ++i) {\n",
       "                    if (nbb_cells[i].input_prompt_number == nbb_cell_id) {\n",
       "                        if (nbb_cells[i].get_text() == nbb_unformatted_code) {\n",
       "                             nbb_cells[i].set_text(nbb_formatted_code);\n",
       "                        }\n",
       "                        break;\n",
       "                    }\n",
       "                }\n",
       "            }, 500);\n",
       "            "
      ],
      "text/plain": [
       "<IPython.core.display.Javascript object>"
      ]
     },
     "metadata": {},
     "output_type": "display_data"
    }
   ],
   "source": [
    "download(\"https://github.com/AllenDowney/ThinkStats/raw/v3/nb/nsfg.py\")\n",
    "download(\"https://github.com/AllenDowney/ThinkStats/raw/v3/data/2002FemPreg.dct\")\n",
    "download(\"https://github.com/AllenDowney/ThinkStats/raw/v3/data/2002FemPreg.dat.gz\")"
   ]
  },
  {
   "cell_type": "code",
   "execution_count": 36,
   "id": "30b28e42",
   "metadata": {},
   "outputs": [
    {
     "data": {
      "application/javascript": [
       "\n",
       "            setTimeout(function() {\n",
       "                var nbb_cell_id = 36;\n",
       "                var nbb_unformatted_code = \"import nsfg\\n\\nlive, firsts, others = nsfg.make_frames()\";\n",
       "                var nbb_formatted_code = \"import nsfg\\n\\nlive, firsts, others = nsfg.make_frames()\";\n",
       "                var nbb_cells = Jupyter.notebook.get_cells();\n",
       "                for (var i = 0; i < nbb_cells.length; ++i) {\n",
       "                    if (nbb_cells[i].input_prompt_number == nbb_cell_id) {\n",
       "                        if (nbb_cells[i].get_text() == nbb_unformatted_code) {\n",
       "                             nbb_cells[i].set_text(nbb_formatted_code);\n",
       "                        }\n",
       "                        break;\n",
       "                    }\n",
       "                }\n",
       "            }, 500);\n",
       "            "
      ],
      "text/plain": [
       "<IPython.core.display.Javascript object>"
      ]
     },
     "metadata": {},
     "output_type": "display_data"
    }
   ],
   "source": [
    "import nsfg\n",
    "\n",
    "live, firsts, others = nsfg.make_frames()"
   ]
  },
  {
   "cell_type": "markdown",
   "id": "8111241a",
   "metadata": {},
   "source": [
    "The following figure shows the result.\n",
    "The left tail appears longer than the right, so we suspect the distribution is skewed left.\n",
    "The mean, 7.27 lbs, is a bit less than the median, 7.38 lbs, so that is consistent with left skew.\n",
    "And both skewness coefficients are negative: sample skewness is -0.59; Pearson's median skewness is -0.23."
   ]
  },
  {
   "cell_type": "code",
   "execution_count": 37,
   "id": "6e7cbbca",
   "metadata": {},
   "outputs": [
    {
     "data": {
      "image/png": "[encoded data removed]",
      "text/plain": [
       "<Figure size 640x480 with 1 Axes>"
      ]
     },
     "metadata": {},
     "output_type": "display_data"
    },
    {
     "data": {
      "application/javascript": [
       "\n",
       "            setTimeout(function() {\n",
       "                var nbb_cell_id = 37;\n",
       "                var nbb_unformatted_code = \"data = live.totalwgt_lb.dropna()\\npdf = EstimatedPdf(data, name=\\\"birth weight\\\")\\npdf.plot()\";\n",
       "                var nbb_formatted_code = \"data = live.totalwgt_lb.dropna()\\npdf = EstimatedPdf(data, name=\\\"birth weight\\\")\\npdf.plot()\";\n",
       "                var nbb_cells = Jupyter.notebook.get_cells();\n",
       "                for (var i = 0; i < nbb_cells.length; ++i) {\n",
       "                    if (nbb_cells[i].input_prompt_number == nbb_cell_id) {\n",
       "                        if (nbb_cells[i].get_text() == nbb_unformatted_code) {\n",
       "                             nbb_cells[i].set_text(nbb_formatted_code);\n",
       "                        }\n",
       "                        break;\n",
       "                    }\n",
       "                }\n",
       "            }, 500);\n",
       "            "
      ],
      "text/plain": [
       "<IPython.core.display.Javascript object>"
      ]
     },
     "metadata": {},
     "output_type": "display_data"
    }
   ],
   "source": [
    "data = live.totalwgt_lb.dropna()\n",
    "pdf = EstimatedPdf(data, name=\"birth weight\")\n",
    "pdf.plot()"
   ]
  },
  {
   "cell_type": "markdown",
   "id": "1a5c5621",
   "metadata": {},
   "source": [
    "Now let's compare this distribution to the distribution of adult weight in the BRFSS.\n",
    "Again, here's the code:"
   ]
  },
  {
   "cell_type": "code",
   "execution_count": 38,
   "id": "c8e124a0",
   "metadata": {},
   "outputs": [
    {
     "data": {
      "image/png": "[encoded data removed]",
      "text/plain": [
       "<Figure size 640x480 with 1 Axes>"
      ]
     },
     "metadata": {},
     "output_type": "display_data"
    },
    {
     "data": {
      "application/javascript": [
       "\n",
       "            setTimeout(function() {\n",
       "                var nbb_cell_id = 38;\n",
       "                var nbb_unformatted_code = \"df = brfss.read_brfss()\\ndata = df.wtkg2.dropna()\\npdf = EstimatedPdf(data, name=\\\"adult weight\\\")\\npdf.plot()\";\n",
       "                var nbb_formatted_code = \"df = brfss.read_brfss()\\ndata = df.wtkg2.dropna()\\npdf = EstimatedPdf(data, name=\\\"adult weight\\\")\\npdf.plot()\";\n",
       "                var nbb_cells = Jupyter.notebook.get_cells();\n",
       "                for (var i = 0; i < nbb_cells.length; ++i) {\n",
       "                    if (nbb_cells[i].input_prompt_number == nbb_cell_id) {\n",
       "                        if (nbb_cells[i].get_text() == nbb_unformatted_code) {\n",
       "                             nbb_cells[i].set_text(nbb_formatted_code);\n",
       "                        }\n",
       "                        break;\n",
       "                    }\n",
       "                }\n",
       "            }, 500);\n",
       "            "
      ],
      "text/plain": [
       "<IPython.core.display.Javascript object>"
      ]
     },
     "metadata": {},
     "output_type": "display_data"
    }
   ],
   "source": [
    "df = brfss.read_brfss()\n",
    "data = df.wtkg2.dropna()\n",
    "pdf = EstimatedPdf(data, name=\"adult weight\")\n",
    "pdf.plot()"
   ]
  },
  {
   "cell_type": "markdown",
   "id": "a46267ba",
   "metadata": {},
   "source": [
    "The following figure shows the result.\n",
    "The distribution appears skewed to the right.\n",
    "Sure enough, the mean, 79.0, is bigger than the median, 77.3. The sample skewness is 1.1 and Pearson's median skewness is 0.26.\n",
    "\n",
    "The sign of the skewness coefficient indicates whether the distribution skews left or right, but other than that, they are hard to interpret.\n",
    "Sample skewness is less robust; that is, it is more susceptible to outliers.\n",
    "As a result it is less reliable when applied to skewed distributions, exactly when it would be most relevant.\n",
    "\n",
    "Pearson's median skewness is based on a computed mean and variance, so it is also susceptible to outliers, but since it does not depend on a third moment, it is somewhat more robust."
   ]
  },
  {
   "cell_type": "markdown",
   "id": "83d0b0db",
   "metadata": {},
   "source": [
    "## Glossary\n",
    "\n",
    "-   **Probability density function (PDF)**: The derivative of a continuous CDF, a function that maps a value to its probability density.\n",
    "\n",
    "-   **Probability density**: A quantity that can be integrated over a range of values to yield a probability.\n",
    "If the values are in units of cm, for example, probability density is in units of probability per cm.\n",
    "\n",
    "-   **Kernel density estimation (KDE)**: An algorithm that estimates a PDF based on a sample.\n",
    "\n",
    "-   **discretize**: To approximate a continuous function or distribution with a discrete function.\n",
    "The opposite of smoothing.\n",
    "\n",
    "-   **raw moment**: A statistic based on the sum of data raised to a power.\n",
    "\n",
    "-   **central moment**: A statistic based on deviation from the mean, raised to a power.\n",
    "\n",
    "-   **standardized moment**: A ratio of moments that has no units.\n",
    "\n",
    "-   **skewness**: A measure of how asymmetric a distribution is.\n",
    "\n",
    "-   **sample skewness**: A moment-based statistic intended to quantify the skewness of a distribution.\n",
    "\n",
    "-   **Pearson's median skewness coefficient**: A statistic intended to quantify the skewness of a distribution based on the median, mean, and standard deviation.\n",
    "\n",
    "-   **robust**: A statistic is robust if it is relatively immune to the effect of outliers."
   ]
  },
  {
   "cell_type": "markdown",
   "id": "a21248f4",
   "metadata": {},
   "source": [
    "## Exercises"
   ]
  },
  {
   "cell_type": "markdown",
   "id": "c2c5d940",
   "metadata": {},
   "source": [
    "### Exercise\n",
    "\n",
    "The distribution of income is famously skewed to the right.\n",
    "In this exercise, we’ll measure how strong that skew is. The Current Population Survey (CPS) is a joint effort of the Bureau of Labor Statistics and the Census Bureau to study income and related variables.\n",
    "Data collected in 2013 is available from http://www.census.gov/hhes/www/cpstables/032013/hhinc/toc.htm.\n",
    "I downloaded `hinc06.xls`, which is an Excel spreadsheet with information about household income, and converted it to `hinc06.csv`, a CSV file you will find in the repository for this book.\n",
    "You will also find `hinc2.py`, which reads this file and transforms the data.\n",
    "\n",
    "The dataset is in the form of a series of income ranges and the number of respondents who fell in each range.\n",
    "The lowest range includes respondents who reported annual household income “Under \\$5000.” \n",
    "\n",
    "The highest range includes respondents who made “\\$250,000 or more.”\n",
    "\n",
    "To estimate mean and other statistics from these data, we have to make some assumptions about the lower and upper bounds, and how the values are distributed in each range.\n",
    "`hinc2.py` provides `interpolate_sample`, which shows one way to model this data.\n",
    "It takes a `DataFrame` with a column, `income`, that contains the upper bound of each range, and `freq`, which contains the number of respondents in each frame.\n",
    "\n",
    "It also takes `log_upper`, which is an assumed upper bound on the highest range, expressed in `log10` dollars.\n",
    "The default value, `log_upper=6.0` represents the assumption that the largest income among the respondents is $10^6$, or one million dollars.\n",
    "\n",
    "`interpolate_sample` generates a pseudo-sample; that is, a sample of household incomes that yields the same number of respondents in each range as the actual data.\n",
    "It assumes that incomes in each range are equally spaced on a `log10` scale."
   ]
  },
  {
   "cell_type": "code",
   "execution_count": 39,
   "id": "762e66be",
   "metadata": {},
   "outputs": [
    {
     "data": {
      "application/javascript": [
       "\n",
       "            setTimeout(function() {\n",
       "                var nbb_cell_id = 39;\n",
       "                var nbb_unformatted_code = \"download(\\\"https://github.com/AllenDowney/ThinkStats/raw/v3/data/hinc.py\\\")\\ndownload(\\\"https://github.com/AllenDowney/ThinkStats/raw/v3/nb/hinc06.csv\\\")\";\n",
       "                var nbb_formatted_code = \"download(\\\"https://github.com/AllenDowney/ThinkStats/raw/v3/data/hinc.py\\\")\\ndownload(\\\"https://github.com/AllenDowney/ThinkStats/raw/v3/nb/hinc06.csv\\\")\";\n",
       "                var nbb_cells = Jupyter.notebook.get_cells();\n",
       "                for (var i = 0; i < nbb_cells.length; ++i) {\n",
       "                    if (nbb_cells[i].input_prompt_number == nbb_cell_id) {\n",
       "                        if (nbb_cells[i].get_text() == nbb_unformatted_code) {\n",
       "                             nbb_cells[i].set_text(nbb_formatted_code);\n",
       "                        }\n",
       "                        break;\n",
       "                    }\n",
       "                }\n",
       "            }, 500);\n",
       "            "
      ],
      "text/plain": [
       "<IPython.core.display.Javascript object>"
      ]
     },
     "metadata": {},
     "output_type": "display_data"
    }
   ],
   "source": [
    "download(\"https://github.com/AllenDowney/ThinkStats/raw/v3/data/hinc.py\")\n",
    "download(\"https://github.com/AllenDowney/ThinkStats/raw/v3/nb/hinc06.csv\")"
   ]
  },
  {
   "cell_type": "code",
   "execution_count": 40,
   "id": "39fe25c5",
   "metadata": {},
   "outputs": [
    {
     "data": {
      "application/javascript": [
       "\n",
       "            setTimeout(function() {\n",
       "                var nbb_cell_id = 40;\n",
       "                var nbb_unformatted_code = \"def interpolate_sample(df, log_upper=6.0):\\n    \\\"\\\"\\\"Makes a sample of log10 household income.\\n\\n    Assumes that log10 income is uniform in each range.\\n\\n    df: DataFrame with columns income and freq\\n    log_upper: log10 of the assumed upper bound for the highest range\\n\\n    returns: NumPy array of log10 household income\\n    \\\"\\\"\\\"\\n    df[\\\"log_upper\\\"] = np.log10(df.income)\\n    df[\\\"log_lower\\\"] = df.log_upper.shift(1)\\n    df.loc[0, \\\"log_lower\\\"] = 3.0\\n    df.loc[41, \\\"log_upper\\\"] = log_upper\\n    arrays = []\\n    for _, row in df.iterrows():\\n        vals = np.linspace(row.log_lower, row.log_upper, int(row.freq))\\n        arrays.append(vals)\\n    log_sample = np.concatenate(arrays)\\n    return log_sample\";\n",
       "                var nbb_formatted_code = \"def interpolate_sample(df, log_upper=6.0):\\n    \\\"\\\"\\\"Makes a sample of log10 household income.\\n\\n    Assumes that log10 income is uniform in each range.\\n\\n    df: DataFrame with columns income and freq\\n    log_upper: log10 of the assumed upper bound for the highest range\\n\\n    returns: NumPy array of log10 household income\\n    \\\"\\\"\\\"\\n    df[\\\"log_upper\\\"] = np.log10(df.income)\\n    df[\\\"log_lower\\\"] = df.log_upper.shift(1)\\n    df.loc[0, \\\"log_lower\\\"] = 3.0\\n    df.loc[41, \\\"log_upper\\\"] = log_upper\\n    arrays = []\\n    for _, row in df.iterrows():\\n        vals = np.linspace(row.log_lower, row.log_upper, int(row.freq))\\n        arrays.append(vals)\\n    log_sample = np.concatenate(arrays)\\n    return log_sample\";\n",
       "                var nbb_cells = Jupyter.notebook.get_cells();\n",
       "                for (var i = 0; i < nbb_cells.length; ++i) {\n",
       "                    if (nbb_cells[i].input_prompt_number == nbb_cell_id) {\n",
       "                        if (nbb_cells[i].get_text() == nbb_unformatted_code) {\n",
       "                             nbb_cells[i].set_text(nbb_formatted_code);\n",
       "                        }\n",
       "                        break;\n",
       "                    }\n",
       "                }\n",
       "            }, 500);\n",
       "            "
      ],
      "text/plain": [
       "<IPython.core.display.Javascript object>"
      ]
     },
     "metadata": {},
     "output_type": "display_data"
    }
   ],
   "source": [
    "def interpolate_sample(df, log_upper=6.0):\n",
    "    \"\"\"Makes a sample of log10 household income.\n",
    "\n",
    "    Assumes that log10 income is uniform in each range.\n",
    "\n",
    "    df: DataFrame with columns income and freq\n",
    "    log_upper: log10 of the assumed upper bound for the highest range\n",
    "\n",
    "    returns: NumPy array of log10 household income\n",
    "    \"\"\"\n",
    "    df[\"log_upper\"] = np.log10(df.income)\n",
    "    df[\"log_lower\"] = df.log_upper.shift(1)\n",
    "    df.loc[0, \"log_lower\"] = 3.0\n",
    "    df.loc[41, \"log_upper\"] = log_upper\n",
    "    arrays = []\n",
    "    for _, row in df.iterrows():\n",
    "        vals = np.linspace(row.log_lower, row.log_upper, int(row.freq))\n",
    "        arrays.append(vals)\n",
    "    log_sample = np.concatenate(arrays)\n",
    "    return log_sample"
   ]
  },
  {
   "cell_type": "code",
   "execution_count": 41,
   "id": "9d738aa2",
   "metadata": {},
   "outputs": [
    {
     "data": {
      "application/javascript": [
       "\n",
       "            setTimeout(function() {\n",
       "                var nbb_cell_id = 41;\n",
       "                var nbb_unformatted_code = \"import hinc\\n\\nincome_df = hinc.read_data()\";\n",
       "                var nbb_formatted_code = \"import hinc\\n\\nincome_df = hinc.read_data()\";\n",
       "                var nbb_cells = Jupyter.notebook.get_cells();\n",
       "                for (var i = 0; i < nbb_cells.length; ++i) {\n",
       "                    if (nbb_cells[i].input_prompt_number == nbb_cell_id) {\n",
       "                        if (nbb_cells[i].get_text() == nbb_unformatted_code) {\n",
       "                             nbb_cells[i].set_text(nbb_formatted_code);\n",
       "                        }\n",
       "                        break;\n",
       "                    }\n",
       "                }\n",
       "            }, 500);\n",
       "            "
      ],
      "text/plain": [
       "<IPython.core.display.Javascript object>"
      ]
     },
     "metadata": {},
     "output_type": "display_data"
    }
   ],
   "source": [
    "import hinc\n",
    "\n",
    "income_df = hinc.read_data()"
   ]
  },
  {
   "cell_type": "code",
   "execution_count": 42,
   "id": "004dd414",
   "metadata": {},
   "outputs": [
    {
     "data": {
      "application/javascript": [
       "\n",
       "            setTimeout(function() {\n",
       "                var nbb_cell_id = 42;\n",
       "                var nbb_unformatted_code = \"# Solution\\n\\nlog_sample = interpolate_sample(income_df, log_upper=6.0)\";\n",
       "                var nbb_formatted_code = \"# Solution\\n\\nlog_sample = interpolate_sample(income_df, log_upper=6.0)\";\n",
       "                var nbb_cells = Jupyter.notebook.get_cells();\n",
       "                for (var i = 0; i < nbb_cells.length; ++i) {\n",
       "                    if (nbb_cells[i].input_prompt_number == nbb_cell_id) {\n",
       "                        if (nbb_cells[i].get_text() == nbb_unformatted_code) {\n",
       "                             nbb_cells[i].set_text(nbb_formatted_code);\n",
       "                        }\n",
       "                        break;\n",
       "                    }\n",
       "                }\n",
       "            }, 500);\n",
       "            "
      ],
      "text/plain": [
       "<IPython.core.display.Javascript object>"
      ]
     },
     "metadata": {},
     "output_type": "display_data"
    }
   ],
   "source": [
    "# Solution\n",
    "\n",
    "log_sample = interpolate_sample(income_df, log_upper=6.0)"
   ]
  },
  {
   "cell_type": "code",
   "execution_count": 43,
   "id": "8c0f5a43",
   "metadata": {},
   "outputs": [
    {
     "data": {
      "image/png": "[encoded data removed]",
      "text/plain": [
       "<Figure size 640x480 with 1 Axes>"
      ]
     },
     "metadata": {},
     "output_type": "display_data"
    },
    {
     "data": {
      "application/javascript": [
       "\n",
       "            setTimeout(function() {\n",
       "                var nbb_cell_id = 43;\n",
       "                var nbb_unformatted_code = \"# Solution\\n\\nlog_cdf = Cdf.from_seq(log_sample)\\nlog_cdf.plot()\\ndecorate(xlabel=\\\"Household income (log $)\\\", ylabel=\\\"CDF\\\")\";\n",
       "                var nbb_formatted_code = \"# Solution\\n\\nlog_cdf = Cdf.from_seq(log_sample)\\nlog_cdf.plot()\\ndecorate(xlabel=\\\"Household income (log $)\\\", ylabel=\\\"CDF\\\")\";\n",
       "                var nbb_cells = Jupyter.notebook.get_cells();\n",
       "                for (var i = 0; i < nbb_cells.length; ++i) {\n",
       "                    if (nbb_cells[i].input_prompt_number == nbb_cell_id) {\n",
       "                        if (nbb_cells[i].get_text() == nbb_unformatted_code) {\n",
       "                             nbb_cells[i].set_text(nbb_formatted_code);\n",
       "                        }\n",
       "                        break;\n",
       "                    }\n",
       "                }\n",
       "            }, 500);\n",
       "            "
      ],
      "text/plain": [
       "<IPython.core.display.Javascript object>"
      ]
     },
     "metadata": {},
     "output_type": "display_data"
    }
   ],
   "source": [
    "# Solution\n",
    "\n",
    "log_cdf = Cdf.from_seq(log_sample)\n",
    "log_cdf.plot()\n",
    "decorate(xlabel=\"Household income (log $)\", ylabel=\"CDF\")"
   ]
  },
  {
   "cell_type": "code",
   "execution_count": 44,
   "id": "127d4383",
   "metadata": {},
   "outputs": [
    {
     "data": {
      "application/javascript": [
       "\n",
       "            setTimeout(function() {\n",
       "                var nbb_cell_id = 44;\n",
       "                var nbb_unformatted_code = \"# Solution\\n\\nsample = np.power(10, log_sample)\";\n",
       "                var nbb_formatted_code = \"# Solution\\n\\nsample = np.power(10, log_sample)\";\n",
       "                var nbb_cells = Jupyter.notebook.get_cells();\n",
       "                for (var i = 0; i < nbb_cells.length; ++i) {\n",
       "                    if (nbb_cells[i].input_prompt_number == nbb_cell_id) {\n",
       "                        if (nbb_cells[i].get_text() == nbb_unformatted_code) {\n",
       "                             nbb_cells[i].set_text(nbb_formatted_code);\n",
       "                        }\n",
       "                        break;\n",
       "                    }\n",
       "                }\n",
       "            }, 500);\n",
       "            "
      ],
      "text/plain": [
       "<IPython.core.display.Javascript object>"
      ]
     },
     "metadata": {},
     "output_type": "display_data"
    }
   ],
   "source": [
    "# Solution\n",
    "\n",
    "sample = np.power(10, log_sample)"
   ]
  },
  {
   "cell_type": "code",
   "execution_count": 45,
   "id": "f49ad492",
   "metadata": {},
   "outputs": [
    {
     "data": {
      "image/png": "[encoded data removed]",
      "text/plain": [
       "<Figure size 640x480 with 1 Axes>"
      ]
     },
     "metadata": {},
     "output_type": "display_data"
    },
    {
     "data": {
      "application/javascript": [
       "\n",
       "            setTimeout(function() {\n",
       "                var nbb_cell_id = 45;\n",
       "                var nbb_unformatted_code = \"# Solution\\n\\ncdf = Cdf.from_seq(sample)\\ncdf.plot()\\ndecorate(xlabel=\\\"Household income ($)\\\", ylabel=\\\"CDF\\\")\";\n",
       "                var nbb_formatted_code = \"# Solution\\n\\ncdf = Cdf.from_seq(sample)\\ncdf.plot()\\ndecorate(xlabel=\\\"Household income ($)\\\", ylabel=\\\"CDF\\\")\";\n",
       "                var nbb_cells = Jupyter.notebook.get_cells();\n",
       "                for (var i = 0; i < nbb_cells.length; ++i) {\n",
       "                    if (nbb_cells[i].input_prompt_number == nbb_cell_id) {\n",
       "                        if (nbb_cells[i].get_text() == nbb_unformatted_code) {\n",
       "                             nbb_cells[i].set_text(nbb_formatted_code);\n",
       "                        }\n",
       "                        break;\n",
       "                    }\n",
       "                }\n",
       "            }, 500);\n",
       "            "
      ],
      "text/plain": [
       "<IPython.core.display.Javascript object>"
      ]
     },
     "metadata": {},
     "output_type": "display_data"
    }
   ],
   "source": [
    "# Solution\n",
    "\n",
    "cdf = Cdf.from_seq(sample)\n",
    "cdf.plot()\n",
    "decorate(xlabel=\"Household income ($)\", ylabel=\"CDF\")"
   ]
  },
  {
   "cell_type": "markdown",
   "id": "f25f96e4",
   "metadata": {},
   "source": [
    "Compute the median, mean, skewness and Pearson’s skewness of the resulting sample.\n",
    "What fraction of households report a taxable income below the mean? How do the results depend on the assumed upper bound?"
   ]
  },
  {
   "cell_type": "code",
   "execution_count": 46,
   "id": "7f2b2719",
   "metadata": {},
   "outputs": [
    {
     "data": {
      "text/plain": [
       "(74278.70753118739, array(51226.45447894))"
      ]
     },
     "execution_count": 46,
     "metadata": {},
     "output_type": "execute_result"
    },
    {
     "data": {
      "application/javascript": [
       "\n",
       "            setTimeout(function() {\n",
       "                var nbb_cell_id = 46;\n",
       "                var nbb_unformatted_code = \"# Solution\\n\\nmean(sample), median(sample)\";\n",
       "                var nbb_formatted_code = \"# Solution\\n\\nmean(sample), median(sample)\";\n",
       "                var nbb_cells = Jupyter.notebook.get_cells();\n",
       "                for (var i = 0; i < nbb_cells.length; ++i) {\n",
       "                    if (nbb_cells[i].input_prompt_number == nbb_cell_id) {\n",
       "                        if (nbb_cells[i].get_text() == nbb_unformatted_code) {\n",
       "                             nbb_cells[i].set_text(nbb_formatted_code);\n",
       "                        }\n",
       "                        break;\n",
       "                    }\n",
       "                }\n",
       "            }, 500);\n",
       "            "
      ],
      "text/plain": [
       "<IPython.core.display.Javascript object>"
      ]
     },
     "metadata": {},
     "output_type": "display_data"
    }
   ],
   "source": [
    "# Solution\n",
    "\n",
    "mean(sample), median(sample)"
   ]
  },
  {
   "cell_type": "code",
   "execution_count": 47,
   "id": "b771f4d6",
   "metadata": {},
   "outputs": [
    {
     "data": {
      "text/plain": [
       "(4.949920244429579, 0.7361258019141795)"
      ]
     },
     "execution_count": 47,
     "metadata": {},
     "output_type": "execute_result"
    },
    {
     "data": {
      "application/javascript": [
       "\n",
       "            setTimeout(function() {\n",
       "                var nbb_cell_id = 47;\n",
       "                var nbb_unformatted_code = \"# Solution\\n\\nskewness(sample), pearson_median_skewness(sample)\";\n",
       "                var nbb_formatted_code = \"# Solution\\n\\nskewness(sample), pearson_median_skewness(sample)\";\n",
       "                var nbb_cells = Jupyter.notebook.get_cells();\n",
       "                for (var i = 0; i < nbb_cells.length; ++i) {\n",
       "                    if (nbb_cells[i].input_prompt_number == nbb_cell_id) {\n",
       "                        if (nbb_cells[i].get_text() == nbb_unformatted_code) {\n",
       "                             nbb_cells[i].set_text(nbb_formatted_code);\n",
       "                        }\n",
       "                        break;\n",
       "                    }\n",
       "                }\n",
       "            }, 500);\n",
       "            "
      ],
      "text/plain": [
       "<IPython.core.display.Javascript object>"
      ]
     },
     "metadata": {},
     "output_type": "display_data"
    }
   ],
   "source": [
    "# Solution\n",
    "\n",
    "skewness(sample), pearson_median_skewness(sample)"
   ]
  },
  {
   "cell_type": "code",
   "execution_count": 48,
   "id": "e849e80c",
   "metadata": {},
   "outputs": [
    {
     "data": {
      "text/plain": [
       "array(0.66000588)"
      ]
     },
     "execution_count": 48,
     "metadata": {},
     "output_type": "execute_result"
    },
    {
     "data": {
      "application/javascript": [
       "\n",
       "            setTimeout(function() {\n",
       "                var nbb_cell_id = 48;\n",
       "                var nbb_unformatted_code = \"# Solution\\n\\ncdf(mean(sample))\";\n",
       "                var nbb_formatted_code = \"# Solution\\n\\ncdf(mean(sample))\";\n",
       "                var nbb_cells = Jupyter.notebook.get_cells();\n",
       "                for (var i = 0; i < nbb_cells.length; ++i) {\n",
       "                    if (nbb_cells[i].input_prompt_number == nbb_cell_id) {\n",
       "                        if (nbb_cells[i].get_text() == nbb_unformatted_code) {\n",
       "                             nbb_cells[i].set_text(nbb_formatted_code);\n",
       "                        }\n",
       "                        break;\n",
       "                    }\n",
       "                }\n",
       "            }, 500);\n",
       "            "
      ],
      "text/plain": [
       "<IPython.core.display.Javascript object>"
      ]
     },
     "metadata": {},
     "output_type": "display_data"
    }
   ],
   "source": [
    "# Solution\n",
    "\n",
    "cdf(mean(sample))"
   ]
  },
  {
   "cell_type": "markdown",
   "id": "48e5bd15",
   "metadata": {},
   "source": [
    "All of this is based on an assumption that the highest income is one million dollars, but that's certainly not correct.\n",
    "What happens to the skew if the upper bound is 10 million?\n",
    "\n",
    "Without better information about the top of this distribution, we can't say much about the skewness of the distribution."
   ]
  },
  {
   "cell_type": "code",
   "execution_count": null,
   "id": "c726d530",
   "metadata": {},
   "outputs": [],
   "source": []
  }
 ],
 "metadata": {
  "kernelspec": {
   "display_name": "Python 3 (ipykernel)",
   "language": "python",
   "name": "python3"
  },
  "language_info": {
   "codemirror_mode": {
    "name": "ipython",
    "version": 3
   },
   "file_extension": ".py",
   "mimetype": "text/x-python",
   "name": "python",
   "nbconvert_exporter": "python",
   "pygments_lexer": "ipython3",
   "version": "3.10.14"
  }
 },
 "nbformat": 4,
 "nbformat_minor": 5
}
