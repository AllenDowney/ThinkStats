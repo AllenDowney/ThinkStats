{
 "cells": [
  {
   "cell_type": "markdown",
   "id": "56aaf47a",
   "metadata": {},
   "source": [
    "# Probability density functions\n",
    "\n",
    "In the previous chapter, we modeled empirical distributions with theoretical distributions including the binomial, Poisson, exponential, and normal distributions.\n",
    "\n",
    "The binomial and Poisson distributions are **discrete**, which means that the outcomes have to be distinct or separate elements, like an integer number of hits and misses, or goal scored.\n",
    "In a discrete distribution, each outcome is associated with a probability mass.\n",
    "\n",
    "The exponential and normal distribution are **continuous** which means the outcomes can be locations on a spectrum -- like a wavelength -- or ratios -- like height and weight, which are ratios relative to their units of measure.\n",
    "In a discrete distribution, each outcome is associated with a **probability density**.\n",
    "To understand probability density, let's start by comparing distributions."
   ]
  },
  {
   "cell_type": "code",
   "execution_count": 1,
   "id": "c252c784",
   "metadata": {},
   "outputs": [
    {
     "data": {
      "application/javascript": [
       "\n",
       "        setTimeout(function() {\n",
       "            var nbb_cell_id = 1;\n",
       "            var nbb_formatted_code = \"%load_ext nb_black\\n%load_ext autoreload\\n%autoreload 2\";\n",
       "            var nbb_cells = Jupyter.notebook.get_cells();\n",
       "            for (var i = 0; i < nbb_cells.length; ++i) {\n",
       "                if (nbb_cells[i].input_prompt_number == nbb_cell_id) {\n",
       "                    nbb_cells[i].set_text(nbb_formatted_code);\n",
       "                    break;\n",
       "                }\n",
       "            }\n",
       "        }, 500);\n",
       "        "
      ],
      "text/plain": [
       "<IPython.core.display.Javascript object>"
      ]
     },
     "metadata": {},
     "output_type": "display_data"
    }
   ],
   "source": [
    "%load_ext nb_black\n",
    "%load_ext autoreload\n",
    "%autoreload 2"
   ]
  },
  {
   "cell_type": "code",
   "execution_count": 2,
   "id": "79f64f53",
   "metadata": {},
   "outputs": [
    {
     "data": {
      "application/javascript": [
       "\n",
       "        setTimeout(function() {\n",
       "            var nbb_cell_id = 2;\n",
       "            var nbb_formatted_code = \"from os.path import basename, exists\\n\\n\\ndef download(url):\\n    filename = basename(url)\\n    if not exists(filename):\\n        from urllib.request import urlretrieve\\n\\n        local, _ = urlretrieve(url, filename)\\n        print(\\\"Downloaded \\\" + local)\\n\\n\\ndownload(\\\"https://github.com/AllenDowney/ThinkStats/raw/v3/nb/thinkstats.py\\\")\";\n",
       "            var nbb_cells = Jupyter.notebook.get_cells();\n",
       "            for (var i = 0; i < nbb_cells.length; ++i) {\n",
       "                if (nbb_cells[i].input_prompt_number == nbb_cell_id) {\n",
       "                    nbb_cells[i].set_text(nbb_formatted_code);\n",
       "                    break;\n",
       "                }\n",
       "            }\n",
       "        }, 500);\n",
       "        "
      ],
      "text/plain": [
       "<IPython.core.display.Javascript object>"
      ]
     },
     "metadata": {},
     "output_type": "display_data"
    }
   ],
   "source": [
    "from os.path import basename, exists\n",
    "\n",
    "\n",
    "def download(url):\n",
    "    filename = basename(url)\n",
    "    if not exists(filename):\n",
    "        from urllib.request import urlretrieve\n",
    "\n",
    "        local, _ = urlretrieve(url, filename)\n",
    "        print(\"Downloaded \" + local)\n",
    "\n",
    "\n",
    "download(\"https://github.com/AllenDowney/ThinkStats/raw/v3/nb/thinkstats.py\")"
   ]
  },
  {
   "cell_type": "code",
   "execution_count": 3,
   "id": "955f8f40",
   "metadata": {},
   "outputs": [
    {
     "data": {
      "application/javascript": [
       "\n",
       "        setTimeout(function() {\n",
       "            var nbb_cell_id = 3;\n",
       "            var nbb_formatted_code = \"import numpy as np\\nimport pandas as pd\\nimport matplotlib.pyplot as plt\\n\\nfrom thinkstats import decorate\";\n",
       "            var nbb_cells = Jupyter.notebook.get_cells();\n",
       "            for (var i = 0; i < nbb_cells.length; ++i) {\n",
       "                if (nbb_cells[i].input_prompt_number == nbb_cell_id) {\n",
       "                    nbb_cells[i].set_text(nbb_formatted_code);\n",
       "                    break;\n",
       "                }\n",
       "            }\n",
       "        }, 500);\n",
       "        "
      ],
      "text/plain": [
       "<IPython.core.display.Javascript object>"
      ]
     },
     "metadata": {},
     "output_type": "display_data"
    }
   ],
   "source": [
    "import numpy as np\n",
    "import pandas as pd\n",
    "import matplotlib.pyplot as plt\n",
    "\n",
    "from thinkstats import decorate"
   ]
  },
  {
   "cell_type": "markdown",
   "id": "6f90e9d5",
   "metadata": {},
   "source": [
    "## Comparing Distributions\n",
    "\n",
    "In the previous chapter, when we compared discrete distributions, we used a bar plot to show their probability mass functions (PMFs).\n",
    "When we compared continuous distributions, we used a line plot to show their cumulative distribution functions (CDFs).\n",
    "\n",
    "For the discrete distributions, we could also have used CDFs.\n",
    "For example, here's the PMF of a Poisson distribution with parameter `lam=2.2`, which is a good model for the distribution of household size in the NSFG."
   ]
  },
  {
   "cell_type": "code",
   "execution_count": 4,
   "id": "54c3271b",
   "metadata": {},
   "outputs": [
    {
     "data": {
      "application/javascript": [
       "\n",
       "        setTimeout(function() {\n",
       "            var nbb_cell_id = 4;\n",
       "            var nbb_formatted_code = \"download(\\\"https://github.com/AllenDowney/ThinkStats/raw/v3/nb/nsfg.py\\\")\\ndownload(\\\"https://github.com/AllenDowney/ThinkStats/raw/v3/data/2002FemResp.dct\\\")\\ndownload(\\\"https://github.com/AllenDowney/ThinkStats/raw/v3/data/2002FemResp.dat.gz\\\")\";\n",
       "            var nbb_cells = Jupyter.notebook.get_cells();\n",
       "            for (var i = 0; i < nbb_cells.length; ++i) {\n",
       "                if (nbb_cells[i].input_prompt_number == nbb_cell_id) {\n",
       "                    nbb_cells[i].set_text(nbb_formatted_code);\n",
       "                    break;\n",
       "                }\n",
       "            }\n",
       "        }, 500);\n",
       "        "
      ],
      "text/plain": [
       "<IPython.core.display.Javascript object>"
      ]
     },
     "metadata": {},
     "output_type": "display_data"
    }
   ],
   "source": [
    "download(\"https://github.com/AllenDowney/ThinkStats/raw/v3/nb/nsfg.py\")\n",
    "download(\"https://github.com/AllenDowney/ThinkStats/raw/v3/data/2002FemResp.dct\")\n",
    "download(\"https://github.com/AllenDowney/ThinkStats/raw/v3/data/2002FemResp.dat.gz\")"
   ]
  },
  {
   "cell_type": "code",
   "execution_count": 5,
   "id": "605099ec",
   "metadata": {},
   "outputs": [
    {
     "data": {
      "application/javascript": [
       "\n",
       "        setTimeout(function() {\n",
       "            var nbb_cell_id = 5;\n",
       "            var nbb_formatted_code = \"from nsfg import read_fem_resp\\n\\nresp = read_fem_resp()\\nolder = resp.query(\\\"age >= 25\\\")\\nnum_family = older[\\\"numfmhh\\\"]\";\n",
       "            var nbb_cells = Jupyter.notebook.get_cells();\n",
       "            for (var i = 0; i < nbb_cells.length; ++i) {\n",
       "                if (nbb_cells[i].input_prompt_number == nbb_cell_id) {\n",
       "                    nbb_cells[i].set_text(nbb_formatted_code);\n",
       "                    break;\n",
       "                }\n",
       "            }\n",
       "        }, 500);\n",
       "        "
      ],
      "text/plain": [
       "<IPython.core.display.Javascript object>"
      ]
     },
     "metadata": {},
     "output_type": "display_data"
    }
   ],
   "source": [
    "from nsfg import read_fem_resp\n",
    "\n",
    "resp = read_fem_resp()\n",
    "older = resp.query(\"age >= 25\")\n",
    "num_family = older[\"numfmhh\"]"
   ]
  },
  {
   "cell_type": "code",
   "execution_count": 6,
   "id": "763da396",
   "metadata": {},
   "outputs": [
    {
     "data": {
      "application/javascript": [
       "\n",
       "        setTimeout(function() {\n",
       "            var nbb_cell_id = 6;\n",
       "            var nbb_formatted_code = \"from empiricaldist import Pmf\\n\\npmf_family = Pmf.from_seq(num_family, name=\\\"data\\\")\";\n",
       "            var nbb_cells = Jupyter.notebook.get_cells();\n",
       "            for (var i = 0; i < nbb_cells.length; ++i) {\n",
       "                if (nbb_cells[i].input_prompt_number == nbb_cell_id) {\n",
       "                    nbb_cells[i].set_text(nbb_formatted_code);\n",
       "                    break;\n",
       "                }\n",
       "            }\n",
       "        }, 500);\n",
       "        "
      ],
      "text/plain": [
       "<IPython.core.display.Javascript object>"
      ]
     },
     "metadata": {},
     "output_type": "display_data"
    }
   ],
   "source": [
    "from empiricaldist import Pmf\n",
    "\n",
    "pmf_family = Pmf.from_seq(num_family, name=\"data\")"
   ]
  },
  {
   "cell_type": "code",
   "execution_count": 7,
   "id": "4a4d6062",
   "metadata": {},
   "outputs": [
    {
     "data": {
      "application/javascript": [
       "\n",
       "        setTimeout(function() {\n",
       "            var nbb_cell_id = 7;\n",
       "            var nbb_formatted_code = \"from thinkstats import poisson_pmf\\n\\nlam = 2.2\\nks = np.arange(11)\\nps = poisson_pmf(ks, lam)\";\n",
       "            var nbb_cells = Jupyter.notebook.get_cells();\n",
       "            for (var i = 0; i < nbb_cells.length; ++i) {\n",
       "                if (nbb_cells[i].input_prompt_number == nbb_cell_id) {\n",
       "                    nbb_cells[i].set_text(nbb_formatted_code);\n",
       "                    break;\n",
       "                }\n",
       "            }\n",
       "        }, 500);\n",
       "        "
      ],
      "text/plain": [
       "<IPython.core.display.Javascript object>"
      ]
     },
     "metadata": {},
     "output_type": "display_data"
    }
   ],
   "source": [
    "from thinkstats import poisson_pmf\n",
    "\n",
    "lam = 2.2\n",
    "ks = np.arange(11)\n",
    "ps = poisson_pmf(ks, lam)"
   ]
  },
  {
   "cell_type": "code",
   "execution_count": 8,
   "id": "4587e3c5",
   "metadata": {},
   "outputs": [
    {
     "data": {
      "application/javascript": [
       "\n",
       "        setTimeout(function() {\n",
       "            var nbb_cell_id = 8;\n",
       "            var nbb_formatted_code = \"pmf_poisson = Pmf(ps, ks, name=\\\"Poisson model\\\")\";\n",
       "            var nbb_cells = Jupyter.notebook.get_cells();\n",
       "            for (var i = 0; i < nbb_cells.length; ++i) {\n",
       "                if (nbb_cells[i].input_prompt_number == nbb_cell_id) {\n",
       "                    nbb_cells[i].set_text(nbb_formatted_code);\n",
       "                    break;\n",
       "                }\n",
       "            }\n",
       "        }, 500);\n",
       "        "
      ],
      "text/plain": [
       "<IPython.core.display.Javascript object>"
      ]
     },
     "metadata": {},
     "output_type": "display_data"
    }
   ],
   "source": [
    "pmf_poisson = Pmf(ps, ks, name=\"Poisson model\")"
   ]
  },
  {
   "cell_type": "code",
   "execution_count": 9,
   "id": "f70ae409",
   "metadata": {},
   "outputs": [
    {
     "data": {
      "image/png": "[encoded data removed]",
      "text/plain": [
       "<Figure size 450x262.5 with 1 Axes>"
      ]
     },
     "metadata": {},
     "output_type": "display_data"
    },
    {
     "data": {
      "application/javascript": [
       "\n",
       "        setTimeout(function() {\n",
       "            var nbb_cell_id = 9;\n",
       "            var nbb_formatted_code = \"from thinkstats import two_bar_plots\\n\\ntwo_bar_plots(pmf_family, pmf_poisson)\\ndecorate(xlabel=\\\"Number of family members\\\")\";\n",
       "            var nbb_cells = Jupyter.notebook.get_cells();\n",
       "            for (var i = 0; i < nbb_cells.length; ++i) {\n",
       "                if (nbb_cells[i].input_prompt_number == nbb_cell_id) {\n",
       "                    nbb_cells[i].set_text(nbb_formatted_code);\n",
       "                    break;\n",
       "                }\n",
       "            }\n",
       "        }, 500);\n",
       "        "
      ],
      "text/plain": [
       "<IPython.core.display.Javascript object>"
      ]
     },
     "metadata": {},
     "output_type": "display_data"
    }
   ],
   "source": [
    "from thinkstats import two_bar_plots\n",
    "\n",
    "two_bar_plots(pmf_family, pmf_poisson)\n",
    "decorate(xlabel=\"Number of family members\")"
   ]
  },
  {
   "cell_type": "markdown",
   "id": "6bc92687",
   "metadata": {},
   "source": [
    "Comparing the PMFs, we can see where the data deviates from the model.\n",
    "But PMFs tend to emphasize small differences that might be due to random variation.\n",
    "Sometimes we can see the big picture more clearly by comparing CDFs.\n",
    "\n",
    "For example, here's the CDF of family size compared to the CDF of the Poisson model."
   ]
  },
  {
   "cell_type": "code",
   "execution_count": 10,
   "id": "54e8e079",
   "metadata": {},
   "outputs": [
    {
     "data": {
      "application/javascript": [
       "\n",
       "        setTimeout(function() {\n",
       "            var nbb_cell_id = 10;\n",
       "            var nbb_formatted_code = \"cdf_family = pmf_family.make_cdf()\\ncdf_poisson = pmf_poisson.make_cdf()\";\n",
       "            var nbb_cells = Jupyter.notebook.get_cells();\n",
       "            for (var i = 0; i < nbb_cells.length; ++i) {\n",
       "                if (nbb_cells[i].input_prompt_number == nbb_cell_id) {\n",
       "                    nbb_cells[i].set_text(nbb_formatted_code);\n",
       "                    break;\n",
       "                }\n",
       "            }\n",
       "        }, 500);\n",
       "        "
      ],
      "text/plain": [
       "<IPython.core.display.Javascript object>"
      ]
     },
     "metadata": {},
     "output_type": "display_data"
    }
   ],
   "source": [
    "cdf_family = pmf_family.make_cdf()\n",
    "cdf_poisson = pmf_poisson.make_cdf()"
   ]
  },
  {
   "cell_type": "code",
   "execution_count": 11,
   "id": "001fc097",
   "metadata": {},
   "outputs": [
    {
     "data": {
      "image/png": "[encoded data removed]",
      "text/plain": [
       "<Figure size 450x262.5 with 1 Axes>"
      ]
     },
     "metadata": {},
     "output_type": "display_data"
    },
    {
     "data": {
      "application/javascript": [
       "\n",
       "        setTimeout(function() {\n",
       "            var nbb_cell_id = 11;\n",
       "            var nbb_formatted_code = \"from thinkstats import two_cdf_plots\\n\\ntwo_cdf_plots(cdf_poisson, cdf_family)\\ndecorate(xlabel=\\\"Number of family members\\\")\";\n",
       "            var nbb_cells = Jupyter.notebook.get_cells();\n",
       "            for (var i = 0; i < nbb_cells.length; ++i) {\n",
       "                if (nbb_cells[i].input_prompt_number == nbb_cell_id) {\n",
       "                    nbb_cells[i].set_text(nbb_formatted_code);\n",
       "                    break;\n",
       "                }\n",
       "            }\n",
       "        }, 500);\n",
       "        "
      ],
      "text/plain": [
       "<IPython.core.display.Javascript object>"
      ]
     },
     "metadata": {},
     "output_type": "display_data"
    }
   ],
   "source": [
    "from thinkstats import two_cdf_plots\n",
    "\n",
    "two_cdf_plots(cdf_poisson, cdf_family)\n",
    "decorate(xlabel=\"Number of family members\")"
   ]
  },
  {
   "cell_type": "markdown",
   "id": "ef2b2a89",
   "metadata": {},
   "source": [
    "In my opinion, CDFs are usually the best way to compare data to a model, or compare data from different groups, etc.\n",
    "\n",
    "Also, CDFs work well with continuous data."
   ]
  },
  {
   "cell_type": "code",
   "execution_count": 12,
   "id": "fcbe6cab",
   "metadata": {},
   "outputs": [
    {
     "data": {
      "application/javascript": [
       "\n",
       "        setTimeout(function() {\n",
       "            var nbb_cell_id = 12;\n",
       "            var nbb_formatted_code = \"download(\\\"https://github.com/AllenDowney/ThinkStats/raw/v3/data/2002FemPreg.dct\\\")\\ndownload(\\\"https://github.com/AllenDowney/ThinkStats/raw/v3/data/2002FemPreg.dat.gz\\\")\";\n",
       "            var nbb_cells = Jupyter.notebook.get_cells();\n",
       "            for (var i = 0; i < nbb_cells.length; ++i) {\n",
       "                if (nbb_cells[i].input_prompt_number == nbb_cell_id) {\n",
       "                    nbb_cells[i].set_text(nbb_formatted_code);\n",
       "                    break;\n",
       "                }\n",
       "            }\n",
       "        }, 500);\n",
       "        "
      ],
      "text/plain": [
       "<IPython.core.display.Javascript object>"
      ]
     },
     "metadata": {},
     "output_type": "display_data"
    }
   ],
   "source": [
    "download(\"https://github.com/AllenDowney/ThinkStats/raw/v3/data/2002FemPreg.dct\")\n",
    "download(\"https://github.com/AllenDowney/ThinkStats/raw/v3/data/2002FemPreg.dat.gz\")"
   ]
  },
  {
   "cell_type": "code",
   "execution_count": 13,
   "id": "0d674fef",
   "metadata": {},
   "outputs": [
    {
     "data": {
      "application/javascript": [
       "\n",
       "        setTimeout(function() {\n",
       "            var nbb_cell_id = 13;\n",
       "            var nbb_formatted_code = \"from nsfg import read_fem_preg\\n\\npreg = read_fem_preg()\\nbirth_weights = preg[\\\"totalwgt_lb\\\"].dropna()\";\n",
       "            var nbb_cells = Jupyter.notebook.get_cells();\n",
       "            for (var i = 0; i < nbb_cells.length; ++i) {\n",
       "                if (nbb_cells[i].input_prompt_number == nbb_cell_id) {\n",
       "                    nbb_cells[i].set_text(nbb_formatted_code);\n",
       "                    break;\n",
       "                }\n",
       "            }\n",
       "        }, 500);\n",
       "        "
      ],
      "text/plain": [
       "<IPython.core.display.Javascript object>"
      ]
     },
     "metadata": {},
     "output_type": "display_data"
    }
   ],
   "source": [
    "from nsfg import read_fem_preg\n",
    "\n",
    "preg = read_fem_preg()\n",
    "birth_weights = preg[\"totalwgt_lb\"].dropna()"
   ]
  },
  {
   "cell_type": "code",
   "execution_count": 14,
   "id": "1a0bd573",
   "metadata": {},
   "outputs": [
    {
     "data": {
      "application/javascript": [
       "\n",
       "        setTimeout(function() {\n",
       "            var nbb_cell_id = 14;\n",
       "            var nbb_formatted_code = \"from scipy.stats import trimboth\\n\\ntrimmed = trimboth(birth_weights, 0.01)\";\n",
       "            var nbb_cells = Jupyter.notebook.get_cells();\n",
       "            for (var i = 0; i < nbb_cells.length; ++i) {\n",
       "                if (nbb_cells[i].input_prompt_number == nbb_cell_id) {\n",
       "                    nbb_cells[i].set_text(nbb_formatted_code);\n",
       "                    break;\n",
       "                }\n",
       "            }\n",
       "        }, 500);\n",
       "        "
      ],
      "text/plain": [
       "<IPython.core.display.Javascript object>"
      ]
     },
     "metadata": {},
     "output_type": "display_data"
    }
   ],
   "source": [
    "from scipy.stats import trimboth\n",
    "\n",
    "trimmed = trimboth(birth_weights, 0.01)"
   ]
  },
  {
   "cell_type": "code",
   "execution_count": 15,
   "id": "568d5ee7",
   "metadata": {},
   "outputs": [
    {
     "data": {
      "application/javascript": [
       "\n",
       "        setTimeout(function() {\n",
       "            var nbb_cell_id = 15;\n",
       "            var nbb_formatted_code = \"from thinkstats import make_normal_model\\n\\ncdf_model = make_normal_model(trimmed)\";\n",
       "            var nbb_cells = Jupyter.notebook.get_cells();\n",
       "            for (var i = 0; i < nbb_cells.length; ++i) {\n",
       "                if (nbb_cells[i].input_prompt_number == nbb_cell_id) {\n",
       "                    nbb_cells[i].set_text(nbb_formatted_code);\n",
       "                    break;\n",
       "                }\n",
       "            }\n",
       "        }, 500);\n",
       "        "
      ],
      "text/plain": [
       "<IPython.core.display.Javascript object>"
      ]
     },
     "metadata": {},
     "output_type": "display_data"
    }
   ],
   "source": [
    "from thinkstats import make_normal_model\n",
    "\n",
    "cdf_model = make_normal_model(trimmed)"
   ]
  },
  {
   "cell_type": "code",
   "execution_count": 16,
   "id": "89dc754a",
   "metadata": {},
   "outputs": [
    {
     "data": {
      "image/png": "[encoded data removed]",
      "text/plain": [
       "<Figure size 450x262.5 with 1 Axes>"
      ]
     },
     "metadata": {},
     "output_type": "display_data"
    },
    {
     "data": {
      "application/javascript": [
       "\n",
       "        setTimeout(function() {\n",
       "            var nbb_cell_id = 16;\n",
       "            var nbb_formatted_code = \"from empiricaldist import Cdf\\n\\ncdf_birth_weight = Cdf.from_seq(birth_weights, name=\\\"sample\\\")\\ntwo_cdf_plots(cdf_model, cdf_birth_weight, xlabel=\\\"Birth weight (pounds)\\\")\";\n",
       "            var nbb_cells = Jupyter.notebook.get_cells();\n",
       "            for (var i = 0; i < nbb_cells.length; ++i) {\n",
       "                if (nbb_cells[i].input_prompt_number == nbb_cell_id) {\n",
       "                    nbb_cells[i].set_text(nbb_formatted_code);\n",
       "                    break;\n",
       "                }\n",
       "            }\n",
       "        }, 500);\n",
       "        "
      ],
      "text/plain": [
       "<IPython.core.display.Javascript object>"
      ]
     },
     "metadata": {},
     "output_type": "display_data"
    }
   ],
   "source": [
    "from empiricaldist import Cdf\n",
    "\n",
    "cdf_birth_weight = Cdf.from_seq(birth_weights, name=\"sample\")\n",
    "two_cdf_plots(cdf_model, cdf_birth_weight, xlabel=\"Birth weight (pounds)\")"
   ]
  },
  {
   "cell_type": "markdown",
   "id": "b47cc69d",
   "metadata": {},
   "source": [
    "## Probability Density\n",
    "\n",
    "The familiar bell curve is actually the probability density function (PDF) of the normal distribution, which we can compute like this."
   ]
  },
  {
   "cell_type": "code",
   "execution_count": 17,
   "id": "73a75926",
   "metadata": {},
   "outputs": [
    {
     "data": {
      "application/javascript": [
       "\n",
       "        setTimeout(function() {\n",
       "            var nbb_cell_id = 17;\n",
       "            var nbb_formatted_code = \"def normal_pdf(xs, mu, sigma):\\n    \\\"\\\"\\\"Evaluates the normal probability density function.\\n\\n    xs: float or sequence of floats\\n    mu: mean of the distribution\\n    sigma: standard deviation of the distribution\\n\\n    returns: float or NumPy array of probability density\\n    \\\"\\\"\\\"\\n    z = (xs - mu) / sigma\\n    return np.exp(-(z**2) / 2) / sigma / np.sqrt(2 * np.pi)\";\n",
       "            var nbb_cells = Jupyter.notebook.get_cells();\n",
       "            for (var i = 0; i < nbb_cells.length; ++i) {\n",
       "                if (nbb_cells[i].input_prompt_number == nbb_cell_id) {\n",
       "                    nbb_cells[i].set_text(nbb_formatted_code);\n",
       "                    break;\n",
       "                }\n",
       "            }\n",
       "        }, 500);\n",
       "        "
      ],
      "text/plain": [
       "<IPython.core.display.Javascript object>"
      ]
     },
     "metadata": {},
     "output_type": "display_data"
    }
   ],
   "source": [
    "def normal_pdf(xs, mu, sigma):\n",
    "    \"\"\"Evaluates the normal probability density function.\n",
    "\n",
    "    xs: float or sequence of floats\n",
    "    mu: mean of the distribution\n",
    "    sigma: standard deviation of the distribution\n",
    "\n",
    "    returns: float or NumPy array of probability density\n",
    "    \"\"\"\n",
    "    z = (xs - mu) / sigma\n",
    "    return np.exp(-(z**2) / 2) / sigma / np.sqrt(2 * np.pi)"
   ]
  },
  {
   "cell_type": "markdown",
   "id": "0025774f",
   "metadata": {},
   "source": [
    "`thinkstats` provides a `NormalPdf` object that represents the PDF of a normal distribution.\n",
    "We can use it to create a `NormalPdf` with the same mean and standard deviation as the birth weights in the NSFG dataset."
   ]
  },
  {
   "cell_type": "code",
   "execution_count": 18,
   "id": "65c2db0c",
   "metadata": {},
   "outputs": [
    {
     "data": {
      "text/plain": [
       "NormalPdf(7.280883100022579, 1.2430657948614345, name='normal model')"
      ]
     },
     "execution_count": 18,
     "metadata": {},
     "output_type": "execute_result"
    },
    {
     "data": {
      "application/javascript": [
       "\n",
       "        setTimeout(function() {\n",
       "            var nbb_cell_id = 18;\n",
       "            var nbb_formatted_code = \"from thinkstats import NormalPdf\\n\\nm, s = np.mean(trimmed), np.std(trimmed)\\npdf_model = NormalPdf(m, s, name=\\\"normal model\\\")\\npdf_model\";\n",
       "            var nbb_cells = Jupyter.notebook.get_cells();\n",
       "            for (var i = 0; i < nbb_cells.length; ++i) {\n",
       "                if (nbb_cells[i].input_prompt_number == nbb_cell_id) {\n",
       "                    nbb_cells[i].set_text(nbb_formatted_code);\n",
       "                    break;\n",
       "                }\n",
       "            }\n",
       "        }, 500);\n",
       "        "
      ],
      "text/plain": [
       "<IPython.core.display.Javascript object>"
      ]
     },
     "metadata": {},
     "output_type": "display_data"
    }
   ],
   "source": [
    "from thinkstats import NormalPdf\n",
    "\n",
    "m, s = np.mean(trimmed), np.std(trimmed)\n",
    "pdf_model = NormalPdf(m, s, name=\"normal model\")\n",
    "pdf_model"
   ]
  },
  {
   "cell_type": "markdown",
   "id": "8d75407e",
   "metadata": {},
   "source": [
    "If we call the `NormalPdf` object as a function, it evaluates the normal PDF."
   ]
  },
  {
   "cell_type": "code",
   "execution_count": 19,
   "id": "cfb6935c",
   "metadata": {},
   "outputs": [
    {
     "data": {
      "application/javascript": [
       "\n",
       "        setTimeout(function() {\n",
       "            var nbb_cell_id = 19;\n",
       "            var nbb_formatted_code = \"low = m - 3.5 * s\\nhigh = m + 3.5 * s\\nqs = np.linspace(low, high, 201)\\nps = pdf_model(qs)\";\n",
       "            var nbb_cells = Jupyter.notebook.get_cells();\n",
       "            for (var i = 0; i < nbb_cells.length; ++i) {\n",
       "                if (nbb_cells[i].input_prompt_number == nbb_cell_id) {\n",
       "                    nbb_cells[i].set_text(nbb_formatted_code);\n",
       "                    break;\n",
       "                }\n",
       "            }\n",
       "        }, 500);\n",
       "        "
      ],
      "text/plain": [
       "<IPython.core.display.Javascript object>"
      ]
     },
     "metadata": {},
     "output_type": "display_data"
    }
   ],
   "source": [
    "low = m - 3.5 * s\n",
    "high = m + 3.5 * s\n",
    "qs = np.linspace(low, high, 201)\n",
    "ps = pdf_model(qs)"
   ]
  },
  {
   "cell_type": "markdown",
   "id": "6cc1c3d7",
   "metadata": {},
   "source": [
    "The result looks like a bell curve."
   ]
  },
  {
   "cell_type": "code",
   "execution_count": 20,
   "id": "c8080871",
   "metadata": {},
   "outputs": [
    {
     "data": {
      "image/png": "[encoded data removed]",
      "text/plain": [
       "<Figure size 450x262.5 with 1 Axes>"
      ]
     },
     "metadata": {},
     "output_type": "display_data"
    },
    {
     "data": {
      "application/javascript": [
       "\n",
       "        setTimeout(function() {\n",
       "            var nbb_cell_id = 20;\n",
       "            var nbb_formatted_code = \"plt.plot(qs, ps, label=\\\"normal model\\\")\\ndecorate(xlabel=\\\"Birth weight (pounds)\\\", ylabel=\\\"Density\\\")\";\n",
       "            var nbb_cells = Jupyter.notebook.get_cells();\n",
       "            for (var i = 0; i < nbb_cells.length; ++i) {\n",
       "                if (nbb_cells[i].input_prompt_number == nbb_cell_id) {\n",
       "                    nbb_cells[i].set_text(nbb_formatted_code);\n",
       "                    break;\n",
       "                }\n",
       "            }\n",
       "        }, 500);\n",
       "        "
      ],
      "text/plain": [
       "<IPython.core.display.Javascript object>"
      ]
     },
     "metadata": {},
     "output_type": "display_data"
    }
   ],
   "source": [
    "plt.plot(qs, ps, label=\"normal model\")\n",
    "decorate(xlabel=\"Birth weight (pounds)\", ylabel=\"Density\")"
   ]
  },
  {
   "cell_type": "markdown",
   "id": "11cb9399",
   "metadata": {},
   "source": [
    "The `PdfNormal` object provides a `plot` function that does the same thing.\n",
    "\n",
    "The peak of the distribution is at `m`.\n",
    "If we evaluate the PDF there, the result is a probability density."
   ]
  },
  {
   "cell_type": "code",
   "execution_count": 21,
   "id": "40ee0737",
   "metadata": {},
   "outputs": [
    {
     "data": {
      "text/plain": [
       "0.32093416297880123"
      ]
     },
     "execution_count": 21,
     "metadata": {},
     "output_type": "execute_result"
    },
    {
     "data": {
      "application/javascript": [
       "\n",
       "        setTimeout(function() {\n",
       "            var nbb_cell_id = 21;\n",
       "            var nbb_formatted_code = \"pdf_model(m)\";\n",
       "            var nbb_cells = Jupyter.notebook.get_cells();\n",
       "            for (var i = 0; i < nbb_cells.length; ++i) {\n",
       "                if (nbb_cells[i].input_prompt_number == nbb_cell_id) {\n",
       "                    nbb_cells[i].set_text(nbb_formatted_code);\n",
       "                    break;\n",
       "                }\n",
       "            }\n",
       "        }, 500);\n",
       "        "
      ],
      "text/plain": [
       "<IPython.core.display.Javascript object>"
      ]
     },
     "metadata": {},
     "output_type": "display_data"
    }
   ],
   "source": [
    "pdf_model(m)"
   ]
  },
  {
   "cell_type": "markdown",
   "id": "7f400a25",
   "metadata": {},
   "source": [
    "By itself, a probability density doesn't mean much -- most importantly, it is *not* a probability.\n",
    "It would be incorrect to say that the probability is 32% that a randomly-chosen birth weight equals `m`.\n",
    "In fact, the probability that a birth weight is truly, exactly, and precisely equal to `m` -- or any other specific value -- is effectively zero.\n",
    "\n",
    "However, we can use these probability densities to compute the probability that a birth weight falls in an interval between two values, by computing the area under the curve.\n",
    "The following function takes a `NormalPdf` object and the bounds of an interval, `low` and `high`.\n",
    "It evaluates the normal PDF at equally-spaced quantities between `low` and `high`, and uses Simpson's method to estimate the area under the curve."
   ]
  },
  {
   "cell_type": "code",
   "execution_count": 22,
   "id": "2186dbe1",
   "metadata": {},
   "outputs": [
    {
     "data": {
      "application/javascript": [
       "\n",
       "        setTimeout(function() {\n",
       "            var nbb_cell_id = 22;\n",
       "            var nbb_formatted_code = \"from scipy.integrate import simpson\\n\\n\\ndef area_under(pdf, low, high):\\n    qs = np.linspace(low, high, 501)\\n    ps = pdf(qs)\\n    return simpson(y=ps, x=qs)\";\n",
       "            var nbb_cells = Jupyter.notebook.get_cells();\n",
       "            for (var i = 0; i < nbb_cells.length; ++i) {\n",
       "                if (nbb_cells[i].input_prompt_number == nbb_cell_id) {\n",
       "                    nbb_cells[i].set_text(nbb_formatted_code);\n",
       "                    break;\n",
       "                }\n",
       "            }\n",
       "        }, 500);\n",
       "        "
      ],
      "text/plain": [
       "<IPython.core.display.Javascript object>"
      ]
     },
     "metadata": {},
     "output_type": "display_data"
    }
   ],
   "source": [
    "from scipy.integrate import simpson\n",
    "\n",
    "\n",
    "def area_under(pdf, low, high):\n",
    "    qs = np.linspace(low, high, 501)\n",
    "    ps = pdf(qs)\n",
    "    return simpson(y=ps, x=qs)"
   ]
  },
  {
   "cell_type": "markdown",
   "id": "3890ad65",
   "metadata": {},
   "source": [
    "If we compute the area under the curve from the lowest to the highest point in the graph, the result is close to 1."
   ]
  },
  {
   "cell_type": "code",
   "execution_count": 23,
   "id": "631bade0",
   "metadata": {},
   "outputs": [
    {
     "data": {
      "text/plain": [
       "0.999639791157586"
      ]
     },
     "execution_count": 23,
     "metadata": {},
     "output_type": "execute_result"
    },
    {
     "data": {
      "application/javascript": [
       "\n",
       "        setTimeout(function() {\n",
       "            var nbb_cell_id = 23;\n",
       "            var nbb_formatted_code = \"area_under(pdf_model, 3, 12)\";\n",
       "            var nbb_cells = Jupyter.notebook.get_cells();\n",
       "            for (var i = 0; i < nbb_cells.length; ++i) {\n",
       "                if (nbb_cells[i].input_prompt_number == nbb_cell_id) {\n",
       "                    nbb_cells[i].set_text(nbb_formatted_code);\n",
       "                    break;\n",
       "                }\n",
       "            }\n",
       "        }, 500);\n",
       "        "
      ],
      "text/plain": [
       "<IPython.core.display.Javascript object>"
      ]
     },
     "metadata": {},
     "output_type": "display_data"
    }
   ],
   "source": [
    "area_under(pdf_model, 3, 12)"
   ]
  },
  {
   "cell_type": "markdown",
   "id": "87c0dc81",
   "metadata": {},
   "source": [
    "If we extend the interval from negative infinity to positive infinity, the total area is exactly 1.\n",
    "\n",
    "If we start from 0 -- or any value far below the mean -- we can compute the fraction of birth weights less than or equal to 8.5 pounds."
   ]
  },
  {
   "cell_type": "code",
   "execution_count": 24,
   "id": "dc85a2dd",
   "metadata": {},
   "outputs": [
    {
     "data": {
      "text/plain": [
       "0.8366380335513807"
      ]
     },
     "execution_count": 24,
     "metadata": {},
     "output_type": "execute_result"
    },
    {
     "data": {
      "application/javascript": [
       "\n",
       "        setTimeout(function() {\n",
       "            var nbb_cell_id = 24;\n",
       "            var nbb_formatted_code = \"area_under(pdf_model, 0, 8.5)\";\n",
       "            var nbb_cells = Jupyter.notebook.get_cells();\n",
       "            for (var i = 0; i < nbb_cells.length; ++i) {\n",
       "                if (nbb_cells[i].input_prompt_number == nbb_cell_id) {\n",
       "                    nbb_cells[i].set_text(nbb_formatted_code);\n",
       "                    break;\n",
       "                }\n",
       "            }\n",
       "        }, 500);\n",
       "        "
      ],
      "text/plain": [
       "<IPython.core.display.Javascript object>"
      ]
     },
     "metadata": {},
     "output_type": "display_data"
    }
   ],
   "source": [
    "area_under(pdf_model, 0, 8.5)"
   ]
  },
  {
   "cell_type": "markdown",
   "id": "a3ccedba",
   "metadata": {},
   "source": [
    "You might recall that the \"fraction less than or equal to a given value\" is the definition of the CDF.\n",
    "So we could compute the same result using the CDF of the normal distribution."
   ]
  },
  {
   "cell_type": "code",
   "execution_count": 25,
   "id": "45841eca",
   "metadata": {},
   "outputs": [
    {
     "data": {
      "text/plain": [
       "0.8366380358092718"
      ]
     },
     "execution_count": 25,
     "metadata": {},
     "output_type": "execute_result"
    },
    {
     "data": {
      "application/javascript": [
       "\n",
       "        setTimeout(function() {\n",
       "            var nbb_cell_id = 25;\n",
       "            var nbb_formatted_code = \"from scipy.stats import norm\\n\\nnorm.cdf(8.5, m, s)\";\n",
       "            var nbb_cells = Jupyter.notebook.get_cells();\n",
       "            for (var i = 0; i < nbb_cells.length; ++i) {\n",
       "                if (nbb_cells[i].input_prompt_number == nbb_cell_id) {\n",
       "                    nbb_cells[i].set_text(nbb_formatted_code);\n",
       "                    break;\n",
       "                }\n",
       "            }\n",
       "        }, 500);\n",
       "        "
      ],
      "text/plain": [
       "<IPython.core.display.Javascript object>"
      ]
     },
     "metadata": {},
     "output_type": "display_data"
    }
   ],
   "source": [
    "from scipy.stats import norm\n",
    "\n",
    "norm.cdf(8.5, m, s)"
   ]
  },
  {
   "cell_type": "markdown",
   "id": "27850ccf",
   "metadata": {},
   "source": [
    "Similarly, we can use the area under the density curve to compute the fraction of birth weights between 6 and 8 pounds."
   ]
  },
  {
   "cell_type": "code",
   "execution_count": 26,
   "id": "53737676",
   "metadata": {},
   "outputs": [
    {
     "data": {
      "text/plain": [
       "0.5671317752927691"
      ]
     },
     "execution_count": 26,
     "metadata": {},
     "output_type": "execute_result"
    },
    {
     "data": {
      "application/javascript": [
       "\n",
       "        setTimeout(function() {\n",
       "            var nbb_cell_id = 26;\n",
       "            var nbb_formatted_code = \"area_under(pdf_model, 6, 8)\";\n",
       "            var nbb_cells = Jupyter.notebook.get_cells();\n",
       "            for (var i = 0; i < nbb_cells.length; ++i) {\n",
       "                if (nbb_cells[i].input_prompt_number == nbb_cell_id) {\n",
       "                    nbb_cells[i].set_text(nbb_formatted_code);\n",
       "                    break;\n",
       "                }\n",
       "            }\n",
       "        }, 500);\n",
       "        "
      ],
      "text/plain": [
       "<IPython.core.display.Javascript object>"
      ]
     },
     "metadata": {},
     "output_type": "display_data"
    }
   ],
   "source": [
    "area_under(pdf_model, 6, 8)"
   ]
  },
  {
   "cell_type": "markdown",
   "id": "d3402340",
   "metadata": {},
   "source": [
    "Or we can get the same result using the CDF to compute the fraction less than 8 and then subtracting off the fraction less than 6. "
   ]
  },
  {
   "cell_type": "code",
   "execution_count": 27,
   "id": "143933f5",
   "metadata": {},
   "outputs": [
    {
     "data": {
      "text/plain": [
       "0.5671317752921801"
      ]
     },
     "execution_count": 27,
     "metadata": {},
     "output_type": "execute_result"
    },
    {
     "data": {
      "application/javascript": [
       "\n",
       "        setTimeout(function() {\n",
       "            var nbb_cell_id = 27;\n",
       "            var nbb_formatted_code = \"norm.cdf(8, m, s) - norm.cdf(6, m, s)\";\n",
       "            var nbb_cells = Jupyter.notebook.get_cells();\n",
       "            for (var i = 0; i < nbb_cells.length; ++i) {\n",
       "                if (nbb_cells[i].input_prompt_number == nbb_cell_id) {\n",
       "                    nbb_cells[i].set_text(nbb_formatted_code);\n",
       "                    break;\n",
       "                }\n",
       "            }\n",
       "        }, 500);\n",
       "        "
      ],
      "text/plain": [
       "<IPython.core.display.Javascript object>"
      ]
     },
     "metadata": {},
     "output_type": "display_data"
    }
   ],
   "source": [
    "norm.cdf(8, m, s) - norm.cdf(6, m, s)"
   ]
  },
  {
   "cell_type": "markdown",
   "id": "da31401d",
   "metadata": {},
   "source": [
    "So the CDF is the area under the curve of the PDF.\n",
    "If you know calculus, another way to say the same thing is that the CDF is the integral of the PDF.\n",
    "And conversely, the PDF is the derivative of the CDF."
   ]
  },
  {
   "cell_type": "markdown",
   "id": "98b83653",
   "metadata": {},
   "source": [
    "## The Exponential PDF\n",
    "\n",
    "To get your head around probability density, it might help to look at another example.\n",
    "In the previous chapter, we used an exponential distribution to model the time until the first goal in a hockey game.\n",
    "We used the following function to compute the exponential CDF."
   ]
  },
  {
   "cell_type": "code",
   "execution_count": 28,
   "id": "18fb5032",
   "metadata": {},
   "outputs": [
    {
     "data": {
      "application/javascript": [
       "\n",
       "        setTimeout(function() {\n",
       "            var nbb_cell_id = 28;\n",
       "            var nbb_formatted_code = \"def exponential_cdf(x, lam):\\n    \\\"\\\"\\\"Compute the exponential CDF.\\n\\n    x: float or sequence of floats\\n    lam: rate parameter\\n\\n    returns: float or NumPy array of cumulative probability\\n    \\\"\\\"\\\"\\n    return 1 - np.exp(-lam * x)\";\n",
       "            var nbb_cells = Jupyter.notebook.get_cells();\n",
       "            for (var i = 0; i < nbb_cells.length; ++i) {\n",
       "                if (nbb_cells[i].input_prompt_number == nbb_cell_id) {\n",
       "                    nbb_cells[i].set_text(nbb_formatted_code);\n",
       "                    break;\n",
       "                }\n",
       "            }\n",
       "        }, 500);\n",
       "        "
      ],
      "text/plain": [
       "<IPython.core.display.Javascript object>"
      ]
     },
     "metadata": {},
     "output_type": "display_data"
    }
   ],
   "source": [
    "def exponential_cdf(x, lam):\n",
    "    \"\"\"Compute the exponential CDF.\n",
    "\n",
    "    x: float or sequence of floats\n",
    "    lam: rate parameter\n",
    "\n",
    "    returns: float or NumPy array of cumulative probability\n",
    "    \"\"\"\n",
    "    return 1 - np.exp(-lam * x)"
   ]
  },
  {
   "cell_type": "markdown",
   "id": "2cbcc93a",
   "metadata": {},
   "source": [
    "Where `lam` is the rate parameter in goals per unit of time.\n",
    "We can compute the exponential PDF like this.\n"
   ]
  },
  {
   "cell_type": "code",
   "execution_count": 29,
   "id": "37368771",
   "metadata": {},
   "outputs": [
    {
     "data": {
      "application/javascript": [
       "\n",
       "        setTimeout(function() {\n",
       "            var nbb_cell_id = 29;\n",
       "            var nbb_formatted_code = \"def exponential_pdf(x, lam):\\n    \\\"\\\"\\\"Evaluates the exponential PDF.\\n\\n    x: float or sequence of floats\\n    lam: rate parameter\\n\\n    returns: float or NumPy array of probability density\\n    \\\"\\\"\\\"\\n    return lam * np.exp(-lam * x)\";\n",
       "            var nbb_cells = Jupyter.notebook.get_cells();\n",
       "            for (var i = 0; i < nbb_cells.length; ++i) {\n",
       "                if (nbb_cells[i].input_prompt_number == nbb_cell_id) {\n",
       "                    nbb_cells[i].set_text(nbb_formatted_code);\n",
       "                    break;\n",
       "                }\n",
       "            }\n",
       "        }, 500);\n",
       "        "
      ],
      "text/plain": [
       "<IPython.core.display.Javascript object>"
      ]
     },
     "metadata": {},
     "output_type": "display_data"
    }
   ],
   "source": [
    "def exponential_pdf(x, lam):\n",
    "    \"\"\"Evaluates the exponential PDF.\n",
    "\n",
    "    x: float or sequence of floats\n",
    "    lam: rate parameter\n",
    "\n",
    "    returns: float or NumPy array of probability density\n",
    "    \"\"\"\n",
    "    return lam * np.exp(-lam * x)"
   ]
  },
  {
   "cell_type": "markdown",
   "id": "4891494d",
   "metadata": {},
   "source": [
    "`thinkstats` provides an `ExponentialPdf` object that uses this function to compute the exponential PDF.\n",
    "We can use one to represent an exponential distribution with rate parameter 6 goals per game."
   ]
  },
  {
   "cell_type": "code",
   "execution_count": 30,
   "id": "5f77d24b",
   "metadata": {},
   "outputs": [
    {
     "data": {
      "text/plain": [
       "ExponentialPdf(6, name='model')"
      ]
     },
     "execution_count": 30,
     "metadata": {},
     "output_type": "execute_result"
    },
    {
     "data": {
      "application/javascript": [
       "\n",
       "        setTimeout(function() {\n",
       "            var nbb_cell_id = 30;\n",
       "            var nbb_formatted_code = \"from thinkstats import ExponentialPdf\\n\\nlam = 6\\npdf_expo = ExponentialPdf(lam, name=\\\"model\\\")\\npdf_expo\";\n",
       "            var nbb_cells = Jupyter.notebook.get_cells();\n",
       "            for (var i = 0; i < nbb_cells.length; ++i) {\n",
       "                if (nbb_cells[i].input_prompt_number == nbb_cell_id) {\n",
       "                    nbb_cells[i].set_text(nbb_formatted_code);\n",
       "                    break;\n",
       "                }\n",
       "            }\n",
       "        }, 500);\n",
       "        "
      ],
      "text/plain": [
       "<IPython.core.display.Javascript object>"
      ]
     },
     "metadata": {},
     "output_type": "display_data"
    }
   ],
   "source": [
    "from thinkstats import ExponentialPdf\n",
    "\n",
    "lam = 6\n",
    "pdf_expo = ExponentialPdf(lam, name=\"model\")\n",
    "pdf_expo"
   ]
  },
  {
   "cell_type": "markdown",
   "id": "7095c57f",
   "metadata": {},
   "source": [
    "`ExponentialPdf` provides a `plot` function we can use to plot the PDF -- notice that the unit of time is games here, rather than seconds as in the previous chapter."
   ]
  },
  {
   "cell_type": "code",
   "execution_count": 31,
   "id": "6d999a2f",
   "metadata": {},
   "outputs": [
    {
     "data": {
      "image/png": "[encoded data removed]",
      "text/plain": [
       "<Figure size 450x262.5 with 1 Axes>"
      ]
     },
     "metadata": {},
     "output_type": "display_data"
    },
    {
     "data": {
      "application/javascript": [
       "\n",
       "        setTimeout(function() {\n",
       "            var nbb_cell_id = 31;\n",
       "            var nbb_formatted_code = \"qs = np.linspace(0, 1.5, 201)\\npdf_expo.plot(qs)\\ndecorate(xlabel=\\\"Time (games)\\\", ylabel=\\\"Density\\\")\";\n",
       "            var nbb_cells = Jupyter.notebook.get_cells();\n",
       "            for (var i = 0; i < nbb_cells.length; ++i) {\n",
       "                if (nbb_cells[i].input_prompt_number == nbb_cell_id) {\n",
       "                    nbb_cells[i].set_text(nbb_formatted_code);\n",
       "                    break;\n",
       "                }\n",
       "            }\n",
       "        }, 500);\n",
       "        "
      ],
      "text/plain": [
       "<IPython.core.display.Javascript object>"
      ]
     },
     "metadata": {},
     "output_type": "display_data"
    }
   ],
   "source": [
    "qs = np.linspace(0, 1.5, 201)\n",
    "pdf_expo.plot(qs)\n",
    "decorate(xlabel=\"Time (games)\", ylabel=\"Density\")"
   ]
  },
  {
   "cell_type": "markdown",
   "id": "a89be81f",
   "metadata": {},
   "source": [
    "Looking at the y-axis, you might notice that some of these densities are greater than 1, which is a reminder that a probability density is not a probability.\n",
    "But the area under a density curve is a probability, so it should never be greater than 1.\n",
    "\n",
    "If we compute the area under this curve from 0 to 1.5 games, we can confirm that the result is close to 1."
   ]
  },
  {
   "cell_type": "code",
   "execution_count": 32,
   "id": "c0dfefb4",
   "metadata": {},
   "outputs": [
    {
     "data": {
      "text/plain": [
       "0.999876590779019"
      ]
     },
     "execution_count": 32,
     "metadata": {},
     "output_type": "execute_result"
    },
    {
     "data": {
      "application/javascript": [
       "\n",
       "        setTimeout(function() {\n",
       "            var nbb_cell_id = 32;\n",
       "            var nbb_formatted_code = \"area_under(pdf_expo, 0, 1.5)\";\n",
       "            var nbb_cells = Jupyter.notebook.get_cells();\n",
       "            for (var i = 0; i < nbb_cells.length; ++i) {\n",
       "                if (nbb_cells[i].input_prompt_number == nbb_cell_id) {\n",
       "                    nbb_cells[i].set_text(nbb_formatted_code);\n",
       "                    break;\n",
       "                }\n",
       "            }\n",
       "        }, 500);\n",
       "        "
      ],
      "text/plain": [
       "<IPython.core.display.Javascript object>"
      ]
     },
     "metadata": {},
     "output_type": "display_data"
    }
   ],
   "source": [
    "area_under(pdf_expo, 0, 1.5)"
   ]
  },
  {
   "cell_type": "markdown",
   "id": "fb0e98cd",
   "metadata": {},
   "source": [
    "If we extend the interval much farther, the result is slightly great than 1, but that's because we're approximating the area numerically.\n",
    "Mathematically, it is exactly 1, as we can confirm using the exponential CDF."
   ]
  },
  {
   "cell_type": "code",
   "execution_count": 33,
   "id": "57963394",
   "metadata": {},
   "outputs": [
    {
     "data": {
      "text/plain": [
       "1.0"
      ]
     },
     "execution_count": 33,
     "metadata": {},
     "output_type": "execute_result"
    },
    {
     "data": {
      "application/javascript": [
       "\n",
       "        setTimeout(function() {\n",
       "            var nbb_cell_id = 33;\n",
       "            var nbb_formatted_code = \"from thinkstats import exponential_cdf\\n\\nexponential_cdf(7, lam)\";\n",
       "            var nbb_cells = Jupyter.notebook.get_cells();\n",
       "            for (var i = 0; i < nbb_cells.length; ++i) {\n",
       "                if (nbb_cells[i].input_prompt_number == nbb_cell_id) {\n",
       "                    nbb_cells[i].set_text(nbb_formatted_code);\n",
       "                    break;\n",
       "                }\n",
       "            }\n",
       "        }, 500);\n",
       "        "
      ],
      "text/plain": [
       "<IPython.core.display.Javascript object>"
      ]
     },
     "metadata": {},
     "output_type": "display_data"
    }
   ],
   "source": [
    "from thinkstats import exponential_cdf\n",
    "\n",
    "exponential_cdf(7, lam)"
   ]
  },
  {
   "cell_type": "markdown",
   "id": "6eec9cff",
   "metadata": {},
   "source": [
    "We can use the area under the density curve to compute the probability of a goal during any interval.\n",
    "For example, here is the probability of a goal during the first minute of a 60-minute game."
   ]
  },
  {
   "cell_type": "code",
   "execution_count": 34,
   "id": "418d568c",
   "metadata": {},
   "outputs": [
    {
     "data": {
      "text/plain": [
       "0.09516258196404043"
      ]
     },
     "execution_count": 34,
     "metadata": {},
     "output_type": "execute_result"
    },
    {
     "data": {
      "application/javascript": [
       "\n",
       "        setTimeout(function() {\n",
       "            var nbb_cell_id = 34;\n",
       "            var nbb_formatted_code = \"area_under(pdf_expo, 0, 1 / 60)\";\n",
       "            var nbb_cells = Jupyter.notebook.get_cells();\n",
       "            for (var i = 0; i < nbb_cells.length; ++i) {\n",
       "                if (nbb_cells[i].input_prompt_number == nbb_cell_id) {\n",
       "                    nbb_cells[i].set_text(nbb_formatted_code);\n",
       "                    break;\n",
       "                }\n",
       "            }\n",
       "        }, 500);\n",
       "        "
      ],
      "text/plain": [
       "<IPython.core.display.Javascript object>"
      ]
     },
     "metadata": {},
     "output_type": "display_data"
    }
   ],
   "source": [
    "area_under(pdf_expo, 0, 1 / 60)"
   ]
  },
  {
   "cell_type": "markdown",
   "id": "650d6f29",
   "metadata": {},
   "source": [
    "We can compute the same result using the exponential CDF."
   ]
  },
  {
   "cell_type": "code",
   "execution_count": 35,
   "id": "f6a4f81b",
   "metadata": {},
   "outputs": [
    {
     "data": {
      "text/plain": [
       "0.09516258196404048"
      ]
     },
     "execution_count": 35,
     "metadata": {},
     "output_type": "execute_result"
    },
    {
     "data": {
      "application/javascript": [
       "\n",
       "        setTimeout(function() {\n",
       "            var nbb_cell_id = 35;\n",
       "            var nbb_formatted_code = \"exponential_cdf(1 / 60, lam)\";\n",
       "            var nbb_cells = Jupyter.notebook.get_cells();\n",
       "            for (var i = 0; i < nbb_cells.length; ++i) {\n",
       "                if (nbb_cells[i].input_prompt_number == nbb_cell_id) {\n",
       "                    nbb_cells[i].set_text(nbb_formatted_code);\n",
       "                    break;\n",
       "                }\n",
       "            }\n",
       "        }, 500);\n",
       "        "
      ],
      "text/plain": [
       "<IPython.core.display.Javascript object>"
      ]
     },
     "metadata": {},
     "output_type": "display_data"
    }
   ],
   "source": [
    "exponential_cdf(1 / 60, lam)"
   ]
  },
  {
   "cell_type": "markdown",
   "id": "4678cf49",
   "metadata": {},
   "source": [
    "Exercise: What's the probability that the first goal is in the second period?"
   ]
  },
  {
   "cell_type": "markdown",
   "id": "f7687b0f",
   "metadata": {},
   "source": [
    "## Comparing PMFs and PDFs\n",
    "\n",
    "It is a common error to compare the PMF of a sample with the PDF of a theoretical model.\n",
    "For example, suppose we want to compare the distribution of birth weights to a normal model.\n",
    "Here's a `Pmf` that represents the distribution of the data."
   ]
  },
  {
   "cell_type": "code",
   "execution_count": 36,
   "id": "284649e4",
   "metadata": {},
   "outputs": [
    {
     "data": {
      "application/javascript": [
       "\n",
       "        setTimeout(function() {\n",
       "            var nbb_cell_id = 36;\n",
       "            var nbb_formatted_code = \"pmf_birth_weight = Pmf.from_seq(birth_weights, name=\\\"data\\\")\";\n",
       "            var nbb_cells = Jupyter.notebook.get_cells();\n",
       "            for (var i = 0; i < nbb_cells.length; ++i) {\n",
       "                if (nbb_cells[i].input_prompt_number == nbb_cell_id) {\n",
       "                    nbb_cells[i].set_text(nbb_formatted_code);\n",
       "                    break;\n",
       "                }\n",
       "            }\n",
       "        }, 500);\n",
       "        "
      ],
      "text/plain": [
       "<IPython.core.display.Javascript object>"
      ]
     },
     "metadata": {},
     "output_type": "display_data"
    }
   ],
   "source": [
    "pmf_birth_weight = Pmf.from_seq(birth_weights, name=\"data\")"
   ]
  },
  {
   "cell_type": "markdown",
   "id": "2d898d5f",
   "metadata": {},
   "source": [
    "And we already have `pdf_model`, which represents the PDF of the normal distribution with the same mean and standard deviation.\n",
    "Here's what happens if we plot them on the same axis."
   ]
  },
  {
   "cell_type": "code",
   "execution_count": 37,
   "id": "55f3831b",
   "metadata": {},
   "outputs": [
    {
     "data": {
      "image/png": "[encoded data removed]",
      "text/plain": [
       "<Figure size 450x262.5 with 1 Axes>"
      ]
     },
     "metadata": {},
     "output_type": "display_data"
    },
    {
     "data": {
      "application/javascript": [
       "\n",
       "        setTimeout(function() {\n",
       "            var nbb_cell_id = 37;\n",
       "            var nbb_formatted_code = \"pmf_birth_weight.plot()\\npdf_model.plot(color=\\\"gray\\\")\\n\\ndecorate(xlabel=\\\"Birth weight (pounds)\\\", ylabel=\\\"PMF? Density?\\\")\";\n",
       "            var nbb_cells = Jupyter.notebook.get_cells();\n",
       "            for (var i = 0; i < nbb_cells.length; ++i) {\n",
       "                if (nbb_cells[i].input_prompt_number == nbb_cell_id) {\n",
       "                    nbb_cells[i].set_text(nbb_formatted_code);\n",
       "                    break;\n",
       "                }\n",
       "            }\n",
       "        }, 500);\n",
       "        "
      ],
      "text/plain": [
       "<IPython.core.display.Javascript object>"
      ]
     },
     "metadata": {},
     "output_type": "display_data"
    }
   ],
   "source": [
    "pmf_birth_weight.plot()\n",
    "pdf_model.plot(color=\"gray\")\n",
    "\n",
    "decorate(xlabel=\"Birth weight (pounds)\", ylabel=\"PMF? Density?\")"
   ]
  },
  {
   "cell_type": "markdown",
   "id": "27604636",
   "metadata": {},
   "source": [
    "It doesn't work very well.\n",
    "One reason is that they are not in the same units.\n",
    "A `Pmf` contains probability masses and a `NormalPdf` contains probability densities, so we can't compare them, and we shouldn't plot them on the same axes.\n",
    "\n",
    "As a first attempt to solve the problem, we can make a `Pmf` that approximates the normal distribution by evaluating the PDF at a discrete set of points.\n",
    "`NormalPdf` provides a `make_pmf` method that does that."
   ]
  },
  {
   "cell_type": "code",
   "execution_count": 38,
   "id": "f829f686",
   "metadata": {},
   "outputs": [
    {
     "data": {
      "application/javascript": [
       "\n",
       "        setTimeout(function() {\n",
       "            var nbb_cell_id = 38;\n",
       "            var nbb_formatted_code = \"pmf_model = pdf_model.make_pmf()\";\n",
       "            var nbb_cells = Jupyter.notebook.get_cells();\n",
       "            for (var i = 0; i < nbb_cells.length; ++i) {\n",
       "                if (nbb_cells[i].input_prompt_number == nbb_cell_id) {\n",
       "                    nbb_cells[i].set_text(nbb_formatted_code);\n",
       "                    break;\n",
       "                }\n",
       "            }\n",
       "        }, 500);\n",
       "        "
      ],
      "text/plain": [
       "<IPython.core.display.Javascript object>"
      ]
     },
     "metadata": {},
     "output_type": "display_data"
    }
   ],
   "source": [
    "pmf_model = pdf_model.make_pmf()"
   ]
  },
  {
   "cell_type": "markdown",
   "id": "e0e4d5e7",
   "metadata": {},
   "source": [
    "The result contain probability masses, so we can at least plot it on the same axes as the PMF of the data."
   ]
  },
  {
   "cell_type": "code",
   "execution_count": 39,
   "id": "36507db8",
   "metadata": {},
   "outputs": [
    {
     "data": {
      "image/png": "[encoded data removed]",
      "text/plain": [
       "<Figure size 450x262.5 with 1 Axes>"
      ]
     },
     "metadata": {},
     "output_type": "display_data"
    },
    {
     "data": {
      "application/javascript": [
       "\n",
       "        setTimeout(function() {\n",
       "            var nbb_cell_id = 39;\n",
       "            var nbb_formatted_code = \"pmf_model.plot(color=\\\"gray\\\")\\npmf_birth_weight.plot()\\n\\ndecorate(xlabel=\\\"Birth weight (pounds)\\\", ylabel=\\\"PMF\\\")\";\n",
       "            var nbb_cells = Jupyter.notebook.get_cells();\n",
       "            for (var i = 0; i < nbb_cells.length; ++i) {\n",
       "                if (nbb_cells[i].input_prompt_number == nbb_cell_id) {\n",
       "                    nbb_cells[i].set_text(nbb_formatted_code);\n",
       "                    break;\n",
       "                }\n",
       "            }\n",
       "        }, 500);\n",
       "        "
      ],
      "text/plain": [
       "<IPython.core.display.Javascript object>"
      ]
     },
     "metadata": {},
     "output_type": "display_data"
    }
   ],
   "source": [
    "pmf_model.plot(color=\"gray\")\n",
    "pmf_birth_weight.plot()\n",
    "\n",
    "decorate(xlabel=\"Birth weight (pounds)\", ylabel=\"PMF\")"
   ]
  },
  {
   "cell_type": "markdown",
   "id": "b8aac9e9",
   "metadata": {},
   "source": [
    "But this is still not a good way to compare distributions.\n",
    "One problem is that the two `Pmf` objects contains different numbers of quantities, and the quantities in `pmf_birth_weight` are not equally spaced, so the probability masses are not really comparable."
   ]
  },
  {
   "cell_type": "code",
   "execution_count": 40,
   "id": "e6a44c0e",
   "metadata": {},
   "outputs": [
    {
     "data": {
      "text/plain": [
       "(201, 184)"
      ]
     },
     "execution_count": 40,
     "metadata": {},
     "output_type": "execute_result"
    },
    {
     "data": {
      "application/javascript": [
       "\n",
       "        setTimeout(function() {\n",
       "            var nbb_cell_id = 40;\n",
       "            var nbb_formatted_code = \"len(pmf_model), len(pmf_birth_weight)\";\n",
       "            var nbb_cells = Jupyter.notebook.get_cells();\n",
       "            for (var i = 0; i < nbb_cells.length; ++i) {\n",
       "                if (nbb_cells[i].input_prompt_number == nbb_cell_id) {\n",
       "                    nbb_cells[i].set_text(nbb_formatted_code);\n",
       "                    break;\n",
       "                }\n",
       "            }\n",
       "        }, 500);\n",
       "        "
      ],
      "text/plain": [
       "<IPython.core.display.Javascript object>"
      ]
     },
     "metadata": {},
     "output_type": "display_data"
    }
   ],
   "source": [
    "len(pmf_model), len(pmf_birth_weight)"
   ]
  },
  {
   "cell_type": "markdown",
   "id": "5cf1cf84",
   "metadata": {},
   "source": [
    "The other problem is that the `Pmf` of the data is noisy."
   ]
  },
  {
   "cell_type": "markdown",
   "id": "7d7a5b57",
   "metadata": {},
   "source": [
    "## Kernel Density Estimation\n",
    "\n",
    "So let's try something else -- instead of converting the model to a PMF, we can convert the distribution of the data to a PDF.\n",
    "To show how that works, I'll start with a small sample of the data."
   ]
  },
  {
   "cell_type": "code",
   "execution_count": 41,
   "id": "6c83c956",
   "metadata": {},
   "outputs": [
    {
     "data": {
      "application/javascript": [
       "\n",
       "        setTimeout(function() {\n",
       "            var nbb_cell_id = 41;\n",
       "            var nbb_formatted_code = \"np.random.seed(3)\";\n",
       "            var nbb_cells = Jupyter.notebook.get_cells();\n",
       "            for (var i = 0; i < nbb_cells.length; ++i) {\n",
       "                if (nbb_cells[i].input_prompt_number == nbb_cell_id) {\n",
       "                    nbb_cells[i].set_text(nbb_formatted_code);\n",
       "                    break;\n",
       "                }\n",
       "            }\n",
       "        }, 500);\n",
       "        "
      ],
      "text/plain": [
       "<IPython.core.display.Javascript object>"
      ]
     },
     "metadata": {},
     "output_type": "display_data"
    }
   ],
   "source": [
    "np.random.seed(3)\n",
    "\n",
    "n = 10\n",
    "sample = birth_weights.sample(n)"
   ]
  },
  {
   "cell_type": "markdown",
   "id": "8f5356cf",
   "metadata": {},
   "source": [
    "The `Pmf` of this sample looks like this."
   ]
  },
  {
   "cell_type": "code",
   "execution_count": 63,
   "id": "e44b1ecd",
   "metadata": {},
   "outputs": [
    {
     "data": {
      "image/png": "[encoded data removed]",
      "text/plain": [
       "<Figure size 450x262.5 with 1 Axes>"
      ]
     },
     "metadata": {},
     "output_type": "display_data"
    },
    {
     "data": {
      "application/javascript": [
       "\n",
       "        setTimeout(function() {\n",
       "            var nbb_cell_id = 63;\n",
       "            var nbb_formatted_code = \"for weight in sample:\\n    pmf = Pmf.from_seq([weight]) / n\\n    pmf.bar(width=0.08, alpha=0.5)\\n\\nxlim = [1.5, 12.5]\\ndecorate(xlabel=\\\"Birth weight (pounds)\\\", ylabel=\\\"PMF\\\", xlim=xlim)\";\n",
       "            var nbb_cells = Jupyter.notebook.get_cells();\n",
       "            for (var i = 0; i < nbb_cells.length; ++i) {\n",
       "                if (nbb_cells[i].input_prompt_number == nbb_cell_id) {\n",
       "                    nbb_cells[i].set_text(nbb_formatted_code);\n",
       "                    break;\n",
       "                }\n",
       "            }\n",
       "        }, 500);\n",
       "        "
      ],
      "text/plain": [
       "<IPython.core.display.Javascript object>"
      ]
     },
     "metadata": {},
     "output_type": "display_data"
    }
   ],
   "source": [
    "for weight in sample:\n",
    "    pmf = Pmf.from_seq([weight]) / n\n",
    "    pmf.bar(width=0.08, alpha=0.5)\n",
    "\n",
    "xlim = [1.5, 12.5]\n",
    "decorate(xlabel=\"Birth weight (pounds)\", ylabel=\"PMF\", xlim=xlim)"
   ]
  },
  {
   "cell_type": "markdown",
   "id": "70d7c7e0",
   "metadata": {},
   "source": [
    "This way of representing the distribution treats the data as if it is discrete, so each probability mass is stacked up on a single point.\n",
    "But birth weight is actually a continuous quantity, so the quantities between the measurements are also possible.\n",
    "We can represent that possibility by replacing each discrete probability mass with a continuous probability density, like this."
   ]
  },
  {
   "cell_type": "code",
   "execution_count": 64,
   "id": "2bd8fe67",
   "metadata": {},
   "outputs": [
    {
     "data": {
      "image/png": "[encoded data removed]",
      "text/plain": [
       "<Figure size 450x262.5 with 1 Axes>"
      ]
     },
     "metadata": {},
     "output_type": "display_data"
    },
    {
     "data": {
      "application/javascript": [
       "\n",
       "        setTimeout(function() {\n",
       "            var nbb_cell_id = 64;\n",
       "            var nbb_formatted_code = \"qs = np.linspace(2, 12, 201)\\n\\nfor weight in sample:\\n    ps = NormalPdf(weight, 0.75)(qs) / n\\n    plt.plot(qs, ps, alpha=0.5)\\n\\ndecorate(xlabel=\\\"Birth weight (pounds)\\\", ylabel=\\\"PDF\\\", xlim=xlim)\";\n",
       "            var nbb_cells = Jupyter.notebook.get_cells();\n",
       "            for (var i = 0; i < nbb_cells.length; ++i) {\n",
       "                if (nbb_cells[i].input_prompt_number == nbb_cell_id) {\n",
       "                    nbb_cells[i].set_text(nbb_formatted_code);\n",
       "                    break;\n",
       "                }\n",
       "            }\n",
       "        }, 500);\n",
       "        "
      ],
      "text/plain": [
       "<IPython.core.display.Javascript object>"
      ]
     },
     "metadata": {},
     "output_type": "display_data"
    }
   ],
   "source": [
    "qs = np.linspace(2, 12, 201)\n",
    "\n",
    "for weight in sample:\n",
    "    ps = NormalPdf(weight, 0.75)(qs) / n\n",
    "    plt.plot(qs, ps, alpha=0.5)\n",
    "\n",
    "decorate(xlabel=\"Birth weight (pounds)\", ylabel=\"PDF\", xlim=xlim)"
   ]
  },
  {
   "cell_type": "markdown",
   "id": "bf0aeeb4",
   "metadata": {},
   "source": [
    "For each weight in the sample, we create a `NormalPdf` with the observed weight as the mean -- now let's add them up."
   ]
  },
  {
   "cell_type": "code",
   "execution_count": 65,
   "id": "065680cb",
   "metadata": {},
   "outputs": [
    {
     "data": {
      "image/png": "[encoded data removed]",
      "text/plain": [
       "<Figure size 450x262.5 with 1 Axes>"
      ]
     },
     "metadata": {},
     "output_type": "display_data"
    },
    {
     "data": {
      "application/javascript": [
       "\n",
       "        setTimeout(function() {\n",
       "            var nbb_cell_id = 65;\n",
       "            var nbb_formatted_code = \"low_ps = np.zeros_like(qs)\\n\\nfor weight in sample:\\n    ps = NormalPdf(weight, 0.75)(qs) / n\\n    high_ps = low_ps + ps\\n    plt.fill_between(qs, low_ps, high_ps, alpha=0.5, lw=0)\\n    low_ps = high_ps\\n\\ndecorate(xlabel=\\\"Birth weight (pounds)\\\", ylabel=\\\"PDF\\\", xlim=xlim)\";\n",
       "            var nbb_cells = Jupyter.notebook.get_cells();\n",
       "            for (var i = 0; i < nbb_cells.length; ++i) {\n",
       "                if (nbb_cells[i].input_prompt_number == nbb_cell_id) {\n",
       "                    nbb_cells[i].set_text(nbb_formatted_code);\n",
       "                    break;\n",
       "                }\n",
       "            }\n",
       "        }, 500);\n",
       "        "
      ],
      "text/plain": [
       "<IPython.core.display.Javascript object>"
      ]
     },
     "metadata": {},
     "output_type": "display_data"
    }
   ],
   "source": [
    "low_ps = np.zeros_like(qs)\n",
    "\n",
    "for weight in sample:\n",
    "    ps = NormalPdf(weight, 0.75)(qs) / n\n",
    "    high_ps = low_ps + ps\n",
    "    plt.fill_between(qs, low_ps, high_ps, alpha=0.5, lw=0)\n",
    "    low_ps = high_ps\n",
    "\n",
    "decorate(xlabel=\"Birth weight (pounds)\", ylabel=\"PDF\", xlim=xlim)"
   ]
  },
  {
   "cell_type": "markdown",
   "id": "594b5d14",
   "metadata": {},
   "source": [
    "When we add up the probability densities for each data point, the result is an estimate of the probability density for the whole sample.\n",
    "This process is called **kernel density estimation** or KDE.\n",
    "In this context, a \"kernel\" is one of the small density functions we added up.\n",
    "Because the kernels we used are normal distributions -- also known as Gaussians -- we could say more specifically that we computed a Gaussian KDE.\n",
    "\n",
    "SciPy provides a function called `gaussian_kde` that implements this algorithm.\n",
    "Here's how we can use it to estimate the distribution of birth weights."
   ]
  },
  {
   "cell_type": "code",
   "execution_count": 71,
   "id": "c3dba7b9",
   "metadata": {},
   "outputs": [
    {
     "data": {
      "application/javascript": [
       "\n",
       "        setTimeout(function() {\n",
       "            var nbb_cell_id = 71;\n",
       "            var nbb_formatted_code = \"from scipy.stats import gaussian_kde\\n\\nkde = gaussian_kde(birth_weights)\";\n",
       "            var nbb_cells = Jupyter.notebook.get_cells();\n",
       "            for (var i = 0; i < nbb_cells.length; ++i) {\n",
       "                if (nbb_cells[i].input_prompt_number == nbb_cell_id) {\n",
       "                    nbb_cells[i].set_text(nbb_formatted_code);\n",
       "                    break;\n",
       "                }\n",
       "            }\n",
       "        }, 500);\n",
       "        "
      ],
      "text/plain": [
       "<IPython.core.display.Javascript object>"
      ]
     },
     "metadata": {},
     "output_type": "display_data"
    }
   ],
   "source": [
    "from scipy.stats import gaussian_kde\n",
    "\n",
    "kde = gaussian_kde(birth_weights)"
   ]
  },
  {
   "cell_type": "markdown",
   "id": "eaaa1528",
   "metadata": {},
   "source": [
    "The result is an object that represents the estimated PDF, which we can evaluate by calling it like  a function."
   ]
  },
  {
   "cell_type": "code",
   "execution_count": 72,
   "id": "10685681",
   "metadata": {},
   "outputs": [
    {
     "data": {
      "application/javascript": [
       "\n",
       "        setTimeout(function() {\n",
       "            var nbb_cell_id = 72;\n",
       "            var nbb_formatted_code = \"ps = kde(qs)\";\n",
       "            var nbb_cells = Jupyter.notebook.get_cells();\n",
       "            for (var i = 0; i < nbb_cells.length; ++i) {\n",
       "                if (nbb_cells[i].input_prompt_number == nbb_cell_id) {\n",
       "                    nbb_cells[i].set_text(nbb_formatted_code);\n",
       "                    break;\n",
       "                }\n",
       "            }\n",
       "        }, 500);\n",
       "        "
      ],
      "text/plain": [
       "<IPython.core.display.Javascript object>"
      ]
     },
     "metadata": {},
     "output_type": "display_data"
    }
   ],
   "source": [
    "ps = kde(qs)"
   ]
  },
  {
   "cell_type": "markdown",
   "id": "be22fbe4",
   "metadata": {},
   "source": [
    "Here's what the result looks like."
   ]
  },
  {
   "cell_type": "code",
   "execution_count": 73,
   "id": "b5a6b73f",
   "metadata": {},
   "outputs": [
    {
     "data": {
      "image/png": "[encoded data removed]",
      "text/plain": [
       "<Figure size 450x262.5 with 1 Axes>"
      ]
     },
     "metadata": {},
     "output_type": "display_data"
    },
    {
     "data": {
      "application/javascript": [
       "\n",
       "        setTimeout(function() {\n",
       "            var nbb_cell_id = 73;\n",
       "            var nbb_formatted_code = \"plt.plot(qs, ps)\\n\\ndecorate(xlabel=\\\"Birth weight (pounds)\\\", ylabel=\\\"Density\\\")\";\n",
       "            var nbb_cells = Jupyter.notebook.get_cells();\n",
       "            for (var i = 0; i < nbb_cells.length; ++i) {\n",
       "                if (nbb_cells[i].input_prompt_number == nbb_cell_id) {\n",
       "                    nbb_cells[i].set_text(nbb_formatted_code);\n",
       "                    break;\n",
       "                }\n",
       "            }\n",
       "        }, 500);\n",
       "        "
      ],
      "text/plain": [
       "<IPython.core.display.Javascript object>"
      ]
     },
     "metadata": {},
     "output_type": "display_data"
    }
   ],
   "source": [
    "plt.plot(qs, ps)\n",
    "\n",
    "decorate(xlabel=\"Birth weight (pounds)\", ylabel=\"Density\")"
   ]
  },
  {
   "cell_type": "markdown",
   "id": "1a3283fa",
   "metadata": {},
   "source": [
    "`thinkstats` provides an `EstimatedPdf` object that uses Gaussian KDE to estimate the distribution of a sample, and provides the same methods as `NormalPdf` and `ExponentialPdf`.\n",
    "Here's how we make one."
   ]
  },
  {
   "cell_type": "code",
   "execution_count": 77,
   "id": "b0774e65",
   "metadata": {},
   "outputs": [
    {
     "data": {
      "application/javascript": [
       "\n",
       "        setTimeout(function() {\n",
       "            var nbb_cell_id = 77;\n",
       "            var nbb_formatted_code = \"from thinkstats import EstimatedPdf\\n\\nkde_birth_weights = EstimatedPdf(birth_weights, name=\\\"data\\\")\";\n",
       "            var nbb_cells = Jupyter.notebook.get_cells();\n",
       "            for (var i = 0; i < nbb_cells.length; ++i) {\n",
       "                if (nbb_cells[i].input_prompt_number == nbb_cell_id) {\n",
       "                    nbb_cells[i].set_text(nbb_formatted_code);\n",
       "                    break;\n",
       "                }\n",
       "            }\n",
       "        }, 500);\n",
       "        "
      ],
      "text/plain": [
       "<IPython.core.display.Javascript object>"
      ]
     },
     "metadata": {},
     "output_type": "display_data"
    }
   ],
   "source": [
    "from thinkstats import EstimatedPdf\n",
    "\n",
    "kde_birth_weights = EstimatedPdf(birth_weights, name=\"data\")"
   ]
  },
  {
   "cell_type": "markdown",
   "id": "e0023131",
   "metadata": {},
   "source": [
    "And now, finally, we can compare the estimated PDF of the sample to the PDF of a normal distribution."
   ]
  },
  {
   "cell_type": "code",
   "execution_count": 79,
   "id": "4d79028e",
   "metadata": {},
   "outputs": [
    {
     "data": {
      "image/png": "[encoded data removed]",
      "text/plain": [
       "<Figure size 450x262.5 with 1 Axes>"
      ]
     },
     "metadata": {},
     "output_type": "display_data"
    },
    {
     "data": {
      "application/javascript": [
       "\n",
       "        setTimeout(function() {\n",
       "            var nbb_cell_id = 79;\n",
       "            var nbb_formatted_code = \"kde_birth_weights.plot()\\npdf_model.plot(color=\\\"gray\\\")\\n\\ndecorate(xlabel=\\\"Birth weight (pounds)\\\", ylabel=\\\"Density\\\")\";\n",
       "            var nbb_cells = Jupyter.notebook.get_cells();\n",
       "            for (var i = 0; i < nbb_cells.length; ++i) {\n",
       "                if (nbb_cells[i].input_prompt_number == nbb_cell_id) {\n",
       "                    nbb_cells[i].set_text(nbb_formatted_code);\n",
       "                    break;\n",
       "                }\n",
       "            }\n",
       "        }, 500);\n",
       "        "
      ],
      "text/plain": [
       "<IPython.core.display.Javascript object>"
      ]
     },
     "metadata": {},
     "output_type": "display_data"
    }
   ],
   "source": [
    "kde_birth_weights.plot()\n",
    "pdf_model.plot(color=\"gray\")\n",
    "\n",
    "decorate(xlabel=\"Birth weight (pounds)\", ylabel=\"Density\")"
   ]
  },
  {
   "cell_type": "markdown",
   "id": "2eaf2160",
   "metadata": {},
   "source": [
    "KDE makes it possible to compare the distribution of a dataset to a theoretical model, and for some audiences, this is a good way to visualize the comparison.\n",
    "But for continuous quantities, I think it's usually better to compare CDFs."
   ]
  },
  {
   "cell_type": "markdown",
   "id": "9890ea3b",
   "metadata": {},
   "source": [
    "## The distribution framework\n",
    "\n",
    "At this point we have a complete set of ways to represent a distribution: PMFs, CDFs and PDFs\n",
    "The following figure shows how these functions relate to each other."
   ]
  },
  {
   "cell_type": "markdown",
   "id": "d7cf40a7",
   "metadata": {},
   "source": [
    "<img width=\"400\" src=\"https://github.com/AllenDowney/ThinkStats/raw/v3/figs/distribution_framework.png\">\n"
   ]
  },
  {
   "cell_type": "markdown",
   "id": "5709c4e6",
   "metadata": {},
   "source": [
    "To show how these objects work together, we'll load a new dataset that \"contains the time of birth, sex, and birth weight for each of 44 babies born in one 24-hour period at a Brisbane, Australia, hospital. Also included is the number of minutes since midnight for\n",
    "each birth.\"\n",
    "\n",
    "`thinkstats` provides a function that reads the data and returns a `DataFrame`."
   ]
  },
  {
   "cell_type": "code",
   "execution_count": 82,
   "id": "209b7e67",
   "metadata": {},
   "outputs": [
    {
     "data": {
      "application/javascript": [
       "\n",
       "        setTimeout(function() {\n",
       "            var nbb_cell_id = 82;\n",
       "            var nbb_formatted_code = \"download(\\\"https://github.com/AllenDowney/ThinkStats/raw/v3/data/babyboom.dat\\\")\";\n",
       "            var nbb_cells = Jupyter.notebook.get_cells();\n",
       "            for (var i = 0; i < nbb_cells.length; ++i) {\n",
       "                if (nbb_cells[i].input_prompt_number == nbb_cell_id) {\n",
       "                    nbb_cells[i].set_text(nbb_formatted_code);\n",
       "                    break;\n",
       "                }\n",
       "            }\n",
       "        }, 500);\n",
       "        "
      ],
      "text/plain": [
       "<IPython.core.display.Javascript object>"
      ]
     },
     "metadata": {},
     "output_type": "display_data"
    }
   ],
   "source": [
    "download(\"https://github.com/AllenDowney/ThinkStats/raw/v3/data/babyboom.dat\")"
   ]
  },
  {
   "cell_type": "code",
   "execution_count": 150,
   "id": "1d4c6176",
   "metadata": {},
   "outputs": [
    {
     "data": {
      "text/html": [
       "<div>\n",
       "<style scoped>\n",
       "    .dataframe tbody tr th:only-of-type {\n",
       "        vertical-align: middle;\n",
       "    }\n",
       "\n",
       "    .dataframe tbody tr th {\n",
       "        vertical-align: top;\n",
       "    }\n",
       "\n",
       "    .dataframe thead th {\n",
       "        text-align: right;\n",
       "    }\n",
       "</style>\n",
       "<table border=\"1\" class=\"dataframe\">\n",
       "  <thead>\n",
       "    <tr style=\"text-align: right;\">\n",
       "      <th></th>\n",
       "      <th>time</th>\n",
       "      <th>sex</th>\n",
       "      <th>weight_g</th>\n",
       "      <th>minutes</th>\n",
       "    </tr>\n",
       "  </thead>\n",
       "  <tbody>\n",
       "    <tr>\n",
       "      <th>0</th>\n",
       "      <td>5</td>\n",
       "      <td>1</td>\n",
       "      <td>3837</td>\n",
       "      <td>5</td>\n",
       "    </tr>\n",
       "    <tr>\n",
       "      <th>1</th>\n",
       "      <td>104</td>\n",
       "      <td>1</td>\n",
       "      <td>3334</td>\n",
       "      <td>64</td>\n",
       "    </tr>\n",
       "    <tr>\n",
       "      <th>2</th>\n",
       "      <td>118</td>\n",
       "      <td>2</td>\n",
       "      <td>3554</td>\n",
       "      <td>78</td>\n",
       "    </tr>\n",
       "    <tr>\n",
       "      <th>3</th>\n",
       "      <td>155</td>\n",
       "      <td>2</td>\n",
       "      <td>3838</td>\n",
       "      <td>115</td>\n",
       "    </tr>\n",
       "    <tr>\n",
       "      <th>4</th>\n",
       "      <td>257</td>\n",
       "      <td>2</td>\n",
       "      <td>3625</td>\n",
       "      <td>177</td>\n",
       "    </tr>\n",
       "  </tbody>\n",
       "</table>\n",
       "</div>"
      ],
      "text/plain": [
       "   time  sex  weight_g  minutes\n",
       "0     5    1      3837        5\n",
       "1   104    1      3334       64\n",
       "2   118    2      3554       78\n",
       "3   155    2      3838      115\n",
       "4   257    2      3625      177"
      ]
     },
     "execution_count": 150,
     "metadata": {},
     "output_type": "execute_result"
    },
    {
     "data": {
      "application/javascript": [
       "\n",
       "        setTimeout(function() {\n",
       "            var nbb_cell_id = 150;\n",
       "            var nbb_formatted_code = \"from thinkstats import read_baby_boom\\n\\nboom = read_baby_boom()\\nboom.head()\";\n",
       "            var nbb_cells = Jupyter.notebook.get_cells();\n",
       "            for (var i = 0; i < nbb_cells.length; ++i) {\n",
       "                if (nbb_cells[i].input_prompt_number == nbb_cell_id) {\n",
       "                    nbb_cells[i].set_text(nbb_formatted_code);\n",
       "                    break;\n",
       "                }\n",
       "            }\n",
       "        }, 500);\n",
       "        "
      ],
      "text/plain": [
       "<IPython.core.display.Javascript object>"
      ]
     },
     "metadata": {},
     "output_type": "display_data"
    }
   ],
   "source": [
    "from thinkstats import read_baby_boom\n",
    "\n",
    "boom = read_baby_boom()\n",
    "boom.head()"
   ]
  },
  {
   "cell_type": "markdown",
   "id": "e9cc296d",
   "metadata": {},
   "source": [
    "We can use the `minutes` column to compute the time in minutes between each successive birth."
   ]
  },
  {
   "cell_type": "code",
   "execution_count": 100,
   "id": "942f38eb",
   "metadata": {},
   "outputs": [
    {
     "data": {
      "application/javascript": [
       "\n",
       "        setTimeout(function() {\n",
       "            var nbb_cell_id = 100;\n",
       "            var nbb_formatted_code = \"diffs = boom[\\\"minutes\\\"].diff().dropna()\";\n",
       "            var nbb_cells = Jupyter.notebook.get_cells();\n",
       "            for (var i = 0; i < nbb_cells.length; ++i) {\n",
       "                if (nbb_cells[i].input_prompt_number == nbb_cell_id) {\n",
       "                    nbb_cells[i].set_text(nbb_formatted_code);\n",
       "                    break;\n",
       "                }\n",
       "            }\n",
       "        }, 500);\n",
       "        "
      ],
      "text/plain": [
       "<IPython.core.display.Javascript object>"
      ]
     },
     "metadata": {},
     "output_type": "display_data"
    }
   ],
   "source": [
    "diffs = boom[\"minutes\"].diff().dropna()"
   ]
  },
  {
   "cell_type": "markdown",
   "id": "fab56d42",
   "metadata": {},
   "source": [
    "If birth happen at random, with equal probability during any minute of the day, we expect these intervals to follow an exponential distribution.\n",
    "In reality, that assumption is not precisely true, but the exponential distribution might still be a good model for the data.\n",
    "\n",
    "To find out, we'll start by making a `Pmf` that represents the distribution of intervals."
   ]
  },
  {
   "cell_type": "code",
   "execution_count": 110,
   "id": "ee30688b",
   "metadata": {},
   "outputs": [
    {
     "data": {
      "image/png": "[encoded data removed]",
      "text/plain": [
       "<Figure size 450x262.5 with 1 Axes>"
      ]
     },
     "metadata": {},
     "output_type": "display_data"
    },
    {
     "data": {
      "application/javascript": [
       "\n",
       "        setTimeout(function() {\n",
       "            var nbb_cell_id = 110;\n",
       "            var nbb_formatted_code = \"pmf_diffs = Pmf.from_seq(diffs, name=\\\"data\\\")\\npmf_diffs.bar(width=1)\\n\\ndecorate(xlabel=\\\"Interval (minutes)\\\", ylabel=\\\"PMF\\\")\";\n",
       "            var nbb_cells = Jupyter.notebook.get_cells();\n",
       "            for (var i = 0; i < nbb_cells.length; ++i) {\n",
       "                if (nbb_cells[i].input_prompt_number == nbb_cell_id) {\n",
       "                    nbb_cells[i].set_text(nbb_formatted_code);\n",
       "                    break;\n",
       "                }\n",
       "            }\n",
       "        }, 500);\n",
       "        "
      ],
      "text/plain": [
       "<IPython.core.display.Javascript object>"
      ]
     },
     "metadata": {},
     "output_type": "display_data"
    }
   ],
   "source": [
    "pmf_diffs = Pmf.from_seq(diffs, name=\"data\")\n",
    "pmf_diffs.bar(width=1)\n",
    "\n",
    "decorate(xlabel=\"Interval (minutes)\", ylabel=\"PMF\")"
   ]
  },
  {
   "cell_type": "markdown",
   "id": "cdcd639f",
   "metadata": {},
   "source": [
    "The `make_cdf` method computes the cumulative sum of the probabilities in the `Pmf` and returns a `Cdf` object. "
   ]
  },
  {
   "cell_type": "code",
   "execution_count": 126,
   "id": "4466e8cc",
   "metadata": {},
   "outputs": [
    {
     "data": {
      "image/png": "[encoded data removed]",
      "text/plain": [
       "<Figure size 450x262.5 with 1 Axes>"
      ]
     },
     "metadata": {},
     "output_type": "display_data"
    },
    {
     "data": {
      "application/javascript": [
       "\n",
       "        setTimeout(function() {\n",
       "            var nbb_cell_id = 126;\n",
       "            var nbb_formatted_code = \"cdf_diffs = pmf_diffs.make_cdf()\\ncdf_diffs.step(color=\\\"C1\\\")\\n\\ndecorate(xlabel=\\\"Interval (minutes)\\\", ylabel=\\\"CDF\\\")\";\n",
       "            var nbb_cells = Jupyter.notebook.get_cells();\n",
       "            for (var i = 0; i < nbb_cells.length; ++i) {\n",
       "                if (nbb_cells[i].input_prompt_number == nbb_cell_id) {\n",
       "                    nbb_cells[i].set_text(nbb_formatted_code);\n",
       "                    break;\n",
       "                }\n",
       "            }\n",
       "        }, 500);\n",
       "        "
      ],
      "text/plain": [
       "<IPython.core.display.Javascript object>"
      ]
     },
     "metadata": {},
     "output_type": "display_data"
    }
   ],
   "source": [
    "cdf_diffs = pmf_diffs.make_cdf()\n",
    "cdf_diffs.step(color=\"C1\")\n",
    "\n",
    "decorate(xlabel=\"Interval (minutes)\", ylabel=\"CDF\")"
   ]
  },
  {
   "cell_type": "markdown",
   "id": "8960e286",
   "metadata": {},
   "source": [
    "The `Pmf` and `Cdf` are equivalent in the sense that if we are given either one, we can compute the other.\n",
    "To demonstrate, we'll use the `make_pmf` method, which computes the differences between successive probabilities in a `Cdf` and returns a `Pmf`."
   ]
  },
  {
   "cell_type": "code",
   "execution_count": 154,
   "id": "9367a75f",
   "metadata": {},
   "outputs": [
    {
     "data": {
      "application/javascript": [
       "\n",
       "        setTimeout(function() {\n",
       "            var nbb_cell_id = 154;\n",
       "            var nbb_formatted_code = \"pmf_diffs2 = cdf_diffs.make_pmf()\";\n",
       "            var nbb_cells = Jupyter.notebook.get_cells();\n",
       "            for (var i = 0; i < nbb_cells.length; ++i) {\n",
       "                if (nbb_cells[i].input_prompt_number == nbb_cell_id) {\n",
       "                    nbb_cells[i].set_text(nbb_formatted_code);\n",
       "                    break;\n",
       "                }\n",
       "            }\n",
       "        }, 500);\n",
       "        "
      ],
      "text/plain": [
       "<IPython.core.display.Javascript object>"
      ]
     },
     "metadata": {},
     "output_type": "display_data"
    }
   ],
   "source": [
    "pmf_diffs2 = cdf_diffs.make_pmf()"
   ]
  },
  {
   "cell_type": "markdown",
   "id": "db091dd4",
   "metadata": {},
   "source": [
    "The result should be identical to the original `Pmf`, but there might be small floating-point errors.\n",
    "We can use `allclose` to check that the result is close to the original `Pmf`."
   ]
  },
  {
   "cell_type": "code",
   "execution_count": 155,
   "id": "57be0167",
   "metadata": {},
   "outputs": [
    {
     "data": {
      "text/plain": [
       "True"
      ]
     },
     "execution_count": 155,
     "metadata": {},
     "output_type": "execute_result"
    },
    {
     "data": {
      "application/javascript": [
       "\n",
       "        setTimeout(function() {\n",
       "            var nbb_cell_id = 155;\n",
       "            var nbb_formatted_code = \"np.allclose(pmf_diffs, pmf_diffs2)\";\n",
       "            var nbb_cells = Jupyter.notebook.get_cells();\n",
       "            for (var i = 0; i < nbb_cells.length; ++i) {\n",
       "                if (nbb_cells[i].input_prompt_number == nbb_cell_id) {\n",
       "                    nbb_cells[i].set_text(nbb_formatted_code);\n",
       "                    break;\n",
       "                }\n",
       "            }\n",
       "        }, 500);\n",
       "        "
      ],
      "text/plain": [
       "<IPython.core.display.Javascript object>"
      ]
     },
     "metadata": {},
     "output_type": "display_data"
    }
   ],
   "source": [
    "np.allclose(pmf_diffs, pmf_diffs2)"
   ]
  },
  {
   "cell_type": "markdown",
   "id": "dfc925f4",
   "metadata": {},
   "source": [
    "From a `Pmf`, we can use KDE to estimate a density function."
   ]
  },
  {
   "cell_type": "code",
   "execution_count": 117,
   "id": "42a9782f",
   "metadata": {},
   "outputs": [
    {
     "data": {
      "image/png": "[encoded data removed]",
      "text/plain": [
       "<Figure size 450x262.5 with 1 Axes>"
      ]
     },
     "metadata": {},
     "output_type": "display_data"
    },
    {
     "data": {
      "application/javascript": [
       "\n",
       "        setTimeout(function() {\n",
       "            var nbb_cell_id = 117;\n",
       "            var nbb_formatted_code = \"kde_diffs = EstimatedPdf(diffs, name=\\\"estimated density\\\")\\n\\nkde_diffs.plot()\\ndecorate(xlabel=\\\"Interval (minutes)\\\", ylabel=\\\"Density\\\")\";\n",
       "            var nbb_cells = Jupyter.notebook.get_cells();\n",
       "            for (var i = 0; i < nbb_cells.length; ++i) {\n",
       "                if (nbb_cells[i].input_prompt_number == nbb_cell_id) {\n",
       "                    nbb_cells[i].set_text(nbb_formatted_code);\n",
       "                    break;\n",
       "                }\n",
       "            }\n",
       "        }, 500);\n",
       "        "
      ],
      "text/plain": [
       "<IPython.core.display.Javascript object>"
      ]
     },
     "metadata": {},
     "output_type": "display_data"
    }
   ],
   "source": [
    "kde_diffs = EstimatedPdf(diffs, name=\"estimated density\")\n",
    "\n",
    "kde_diffs.plot()\n",
    "decorate(xlabel=\"Interval (minutes)\", ylabel=\"Density\")"
   ]
  },
  {
   "cell_type": "markdown",
   "id": "8ff7e136",
   "metadata": {},
   "source": [
    "To see whether the estimated density follows an exponential model, we can make an `ExponentialPdf` with the same mean as the data."
   ]
  },
  {
   "cell_type": "code",
   "execution_count": 156,
   "id": "e277f839",
   "metadata": {},
   "outputs": [
    {
     "data": {
      "application/javascript": [
       "\n",
       "        setTimeout(function() {\n",
       "            var nbb_cell_id = 156;\n",
       "            var nbb_formatted_code = \"m = diffs.mean()\\nlam = 1 / m\\npdf_model = ExponentialPdf(lam, name=\\\"exponential PDF\\\")\";\n",
       "            var nbb_cells = Jupyter.notebook.get_cells();\n",
       "            for (var i = 0; i < nbb_cells.length; ++i) {\n",
       "                if (nbb_cells[i].input_prompt_number == nbb_cell_id) {\n",
       "                    nbb_cells[i].set_text(nbb_formatted_code);\n",
       "                    break;\n",
       "                }\n",
       "            }\n",
       "        }, 500);\n",
       "        "
      ],
      "text/plain": [
       "<IPython.core.display.Javascript object>"
      ]
     },
     "metadata": {},
     "output_type": "display_data"
    }
   ],
   "source": [
    "m = diffs.mean()\n",
    "lam = 1 / m\n",
    "pdf_model = ExponentialPdf(lam, name=\"exponential PDF\")"
   ]
  },
  {
   "cell_type": "markdown",
   "id": "21a50afc",
   "metadata": {},
   "source": [
    "Here's what it looks like compared to the estimated density."
   ]
  },
  {
   "cell_type": "code",
   "execution_count": 157,
   "id": "7daa6d23",
   "metadata": {},
   "outputs": [
    {
     "data": {
      "image/png": "[encoded data removed]",
      "text/plain": [
       "<Figure size 450x262.5 with 1 Axes>"
      ]
     },
     "metadata": {},
     "output_type": "display_data"
    },
    {
     "data": {
      "application/javascript": [
       "\n",
       "        setTimeout(function() {\n",
       "            var nbb_cell_id = 157;\n",
       "            var nbb_formatted_code = \"pdf_model.plot(color=\\\"gray\\\")\\nkde_diffs.plot()\\ndecorate(xlabel=\\\"Interval (minutes)\\\", ylabel=\\\"Density\\\")\";\n",
       "            var nbb_cells = Jupyter.notebook.get_cells();\n",
       "            for (var i = 0; i < nbb_cells.length; ++i) {\n",
       "                if (nbb_cells[i].input_prompt_number == nbb_cell_id) {\n",
       "                    nbb_cells[i].set_text(nbb_formatted_code);\n",
       "                    break;\n",
       "                }\n",
       "            }\n",
       "        }, 500);\n",
       "        "
      ],
      "text/plain": [
       "<IPython.core.display.Javascript object>"
      ]
     },
     "metadata": {},
     "output_type": "display_data"
    }
   ],
   "source": [
    "pdf_model.plot(color=\"gray\")\n",
    "kde_diffs.plot()\n",
    "decorate(xlabel=\"Interval (minutes)\", ylabel=\"Density\")"
   ]
  },
  {
   "cell_type": "markdown",
   "id": "d752b804",
   "metadata": {},
   "source": [
    "Comparing the estimated density to an exponential PDF, it doesn't seem like the data fit the model well.\n",
    "But that might be misleading -- again, I think comparing CDFs provides the clearer picture.\n",
    "\n",
    "Here's the CDF of an exponential distribution compared to the CDF of the data."
   ]
  },
  {
   "cell_type": "code",
   "execution_count": 125,
   "id": "fe493a82",
   "metadata": {},
   "outputs": [
    {
     "data": {
      "image/png": "[encoded data removed]",
      "text/plain": [
       "<Figure size 450x262.5 with 1 Axes>"
      ]
     },
     "metadata": {},
     "output_type": "display_data"
    },
    {
     "data": {
      "application/javascript": [
       "\n",
       "        setTimeout(function() {\n",
       "            var nbb_cell_id = 125;\n",
       "            var nbb_formatted_code = \"from thinkstats import ExponentialCdf\\n\\ncdf_model = ExponentialCdf(lam, name=\\\"exponential CDF\\\")\\ncdf_model.plot(color=\\\"gray\\\")\\ncdf_diffs.step(color=\\\"C1\\\")\\n\\ndecorate(xlabel=\\\"Interval (minutes)\\\", ylabel=\\\"CDF\\\")\";\n",
       "            var nbb_cells = Jupyter.notebook.get_cells();\n",
       "            for (var i = 0; i < nbb_cells.length; ++i) {\n",
       "                if (nbb_cells[i].input_prompt_number == nbb_cell_id) {\n",
       "                    nbb_cells[i].set_text(nbb_formatted_code);\n",
       "                    break;\n",
       "                }\n",
       "            }\n",
       "        }, 500);\n",
       "        "
      ],
      "text/plain": [
       "<IPython.core.display.Javascript object>"
      ]
     },
     "metadata": {},
     "output_type": "display_data"
    }
   ],
   "source": [
    "from thinkstats import ExponentialCdf\n",
    "\n",
    "cdf_model = ExponentialCdf(lam, name=\"exponential CDF\")\n",
    "cdf_model.plot(color=\"gray\")\n",
    "cdf_diffs.step(color=\"C1\")\n",
    "\n",
    "decorate(xlabel=\"Interval (minutes)\", ylabel=\"CDF\")"
   ]
  },
  {
   "cell_type": "markdown",
   "id": "323b1e1b",
   "metadata": {},
   "source": [
    "The exponential CDF fits the data well.\n",
    "\n",
    "Given an `ExponentialPdf`, we can use `make_pmf` to make a discrete approximation of the exponential PDF."
   ]
  },
  {
   "cell_type": "code",
   "execution_count": 148,
   "id": "7b8aa512",
   "metadata": {},
   "outputs": [
    {
     "data": {
      "image/png": "[encoded data removed]",
      "text/plain": [
       "<Figure size 450x262.5 with 1 Axes>"
      ]
     },
     "metadata": {},
     "output_type": "display_data"
    },
    {
     "data": {
      "application/javascript": [
       "\n",
       "        setTimeout(function() {\n",
       "            var nbb_cell_id = 148;\n",
       "            var nbb_formatted_code = \"qs = np.linspace(0, 175, 31)\\npmf_model = pdf_model.make_pmf(qs)\\npmf_model.bar(width=2)\";\n",
       "            var nbb_cells = Jupyter.notebook.get_cells();\n",
       "            for (var i = 0; i < nbb_cells.length; ++i) {\n",
       "                if (nbb_cells[i].input_prompt_number == nbb_cell_id) {\n",
       "                    nbb_cells[i].set_text(nbb_formatted_code);\n",
       "                    break;\n",
       "                }\n",
       "            }\n",
       "        }, 500);\n",
       "        "
      ],
      "text/plain": [
       "<IPython.core.display.Javascript object>"
      ]
     },
     "metadata": {},
     "output_type": "display_data"
    }
   ],
   "source": [
    "qs = np.linspace(0, 175, 31)\n",
    "pmf_model = pdf_model.make_pmf(qs)\n",
    "pmf_model.bar(width=2)\n",
    "\n",
    "decorate(xlabel=\"Interval (minutes)\", ylabel=\"PMF\")"
   ]
  },
  {
   "cell_type": "markdown",
   "id": "51583008",
   "metadata": {},
   "source": [
    "And given an `ExponentialCdf`, we can use `make_cdf` to make a discrete approximation of the exponential CDF."
   ]
  },
  {
   "cell_type": "code",
   "execution_count": 160,
   "id": "6993364d",
   "metadata": {},
   "outputs": [
    {
     "data": {
      "image/png": "[encoded data removed]",
      "text/plain": [
       "<Figure size 450x262.5 with 1 Axes>"
      ]
     },
     "metadata": {},
     "output_type": "display_data"
    },
    {
     "data": {
      "application/javascript": [
       "\n",
       "        setTimeout(function() {\n",
       "            var nbb_cell_id = 160;\n",
       "            var nbb_formatted_code = \"discrete_cdf_model = cdf_model.make_cdf(qs)\\ndiscrete_cdf_model.step()\\n\\ndecorate(xlabel=\\\"Interval (minutes)\\\", ylabel=\\\"CDF\\\")\";\n",
       "            var nbb_cells = Jupyter.notebook.get_cells();\n",
       "            for (var i = 0; i < nbb_cells.length; ++i) {\n",
       "                if (nbb_cells[i].input_prompt_number == nbb_cell_id) {\n",
       "                    nbb_cells[i].set_text(nbb_formatted_code);\n",
       "                    break;\n",
       "                }\n",
       "            }\n",
       "        }, 500);\n",
       "        "
      ],
      "text/plain": [
       "<IPython.core.display.Javascript object>"
      ]
     },
     "metadata": {},
     "output_type": "display_data"
    }
   ],
   "source": [
    "discrete_cdf_model = cdf_model.make_cdf(qs)\n",
    "discrete_cdf_model.step()\n",
    "\n",
    "decorate(xlabel=\"Interval (minutes)\", ylabel=\"CDF\")"
   ]
  },
  {
   "cell_type": "markdown",
   "id": "ed63815d",
   "metadata": {},
   "source": [
    "Finally, to get from a discrete CDF to a continuous CDF, we can interpolate between the steps, which is what we see if we use the `plot` method instead of the `step` method."
   ]
  },
  {
   "cell_type": "code",
   "execution_count": 161,
   "id": "bf96cbce",
   "metadata": {},
   "outputs": [
    {
     "data": {
      "image/png": "[encoded data removed]",
      "text/plain": [
       "<Figure size 450x262.5 with 1 Axes>"
      ]
     },
     "metadata": {},
     "output_type": "display_data"
    },
    {
     "data": {
      "application/javascript": [
       "\n",
       "        setTimeout(function() {\n",
       "            var nbb_cell_id = 161;\n",
       "            var nbb_formatted_code = \"discrete_cdf_model.plot()\\n\\ndecorate(xlabel=\\\"Interval (minutes)\\\", ylabel=\\\"CDF\\\")\";\n",
       "            var nbb_cells = Jupyter.notebook.get_cells();\n",
       "            for (var i = 0; i < nbb_cells.length; ++i) {\n",
       "                if (nbb_cells[i].input_prompt_number == nbb_cell_id) {\n",
       "                    nbb_cells[i].set_text(nbb_formatted_code);\n",
       "                    break;\n",
       "                }\n",
       "            }\n",
       "        }, 500);\n",
       "        "
      ],
      "text/plain": [
       "<IPython.core.display.Javascript object>"
      ]
     },
     "metadata": {},
     "output_type": "display_data"
    }
   ],
   "source": [
    "discrete_cdf_model.plot()\n",
    "\n",
    "decorate(xlabel=\"Interval (minutes)\", ylabel=\"CDF\")"
   ]
  },
  {
   "cell_type": "markdown",
   "id": "bdb6bc7c",
   "metadata": {},
   "source": [
    "We started with PMFs, which represent the probabilities for a discrete set of values.\n",
    "To get from a PMF to a CDF, you add up the probability masses to get cumulative probabilities.\n",
    "To get from a CDF back to a PMF, you compute differences in cumulative probabilities.\n",
    "We'll see the implementation of these operations in the next few sections.\n",
    "\n",
    "A PDF is the derivative of a continuous CDF; or, equivalently, a CDF is the integral of a PDF.\n",
    "Remember that a PDF maps from values to probability densities; to get a probability, you have to integrate."
   ]
  },
  {
   "cell_type": "markdown",
   "id": "3a82910f",
   "metadata": {},
   "source": [
    "To get from a discrete to a continuous distribution, you can perform various kinds of smoothing.\n",
    "One form of smoothing is to assume that the data come from an analytic continuous distribution (like exponential or normal) and to estimate the parameters of that distribution.\n",
    "Another option is kernel density estimation.\n",
    "\n",
    "The opposite of smoothing is **discretizing**, or quantizing.\n",
    "If you evaluate a PDF at discrete points, you can generate a PMF that is an approximation of the PDF.\n",
    "You can get a better approximation using numerical integration.\n",
    "\n",
    "To distinguish between continuous and discrete CDFs, it might be better for a discrete CDF to be a \"cumulative mass function,\" but as far as I can tell no one uses that term."
   ]
  },
  {
   "cell_type": "markdown",
   "id": "bb0018d7",
   "metadata": {},
   "source": [
    "## Hist implementation\n",
    "\n",
    "At this point you should know how to use the basic types provided by `thinkstats2`: Hist, `Pmf`, `Cdf`, and Pdf.\n",
    "The next few sections provide details about how they are implemented.\n",
    "This material might help you use these classes more effectively, but it is not strictly necessary.\n",
    "\n",
    "Hist and `Pmf` inherit from a parent class called `_DictWrapper`.\n",
    "The leading underscore indicates that this class is \"internal;\" that is, it should not be used by code in other modules.\n",
    "The name indicates what it is: a dictionary wrapper.\n",
    "Its primary attribute is `d`, the dictionary that maps from values to their frequencies.\n",
    "\n",
    "The values can be any hashable type.\n",
    "The frequencies should be integers, but can be any numeric type.\n",
    "\n",
    "`_DictWrapper` contains methods appropriate for both `Hist` and `Pmf`, including `__init__`, `values`, `items` and `render`.\n",
    "It also provides modifier methods `set`, `incr`, `mult`, and `remove`.\n",
    "These methods are all implemented with dictionary operations.\n",
    "For example:"
   ]
  },
  {
   "cell_type": "code",
   "execution_count": null,
   "id": "672faf1c",
   "metadata": {},
   "outputs": [],
   "source": [
    "# TODO: Show implementation?"
   ]
  },
  {
   "cell_type": "markdown",
   "id": "076b8ce6",
   "metadata": {},
   "source": [
    "`Hist` also provides `freq`, which looks up the frequency of a given value.\n",
    "\n",
    "Because `Hist` operators and methods are based on dictionaries, these methods are constant time operations; that is, their run time does not increase as the Hist gets bigger."
   ]
  },
  {
   "cell_type": "markdown",
   "id": "2b5fae95",
   "metadata": {},
   "source": [
    "## `Pmf` implementation\n",
    "\n",
    "`Pmf` and Hist are almost the same thing, except that a `Pmf` maps values to floating-point probabilities, rather than integer frequencies.\n",
    "If the sum of the probabilities is 1, the `Pmf` is normalized.\n",
    "\n",
    "`Pmf` provides `Normalize`, which computes the sum of the probabilities and divides through by a factor:"
   ]
  },
  {
   "cell_type": "code",
   "execution_count": null,
   "id": "3881b291",
   "metadata": {},
   "outputs": [],
   "source": [
    "def normalize(self, fraction=1.0):\n",
    "    total = self.total()\n",
    "    if total == 0.0:\n",
    "        raise ValueError(\"Total probability is zero.\")\n",
    "\n",
    "    factor = fraction / total\n",
    "    for x in self.d:\n",
    "        self.d[x] *= factor\n",
    "    return total"
   ]
  },
  {
   "cell_type": "markdown",
   "id": "470d1825",
   "metadata": {},
   "source": [
    "`fraction` determines the sum of the probabilities after normalizing; the default value is 1. If the total probability is 0, the `Pmf` cannot be normalized, so `Normalize` raises `ValueError`.\n",
    "\n",
    "Hist and `Pmf` have the same constructor.\n",
    "It can take as an argument a `dict`, Hist, `Pmf` or `Cdf`, a Pandas `Series`, a list of (value, frequency) pairs, or a sequence of values.\n",
    "\n",
    "If you instantiate a `Pmf`, the result is normalized.\n",
    "If you instantiate a Hist, it is not.\n",
    "To construct an unnormalized `Pmf`, you can create an empty `Pmf` and modify it. The `Pmf` modifiers do not renormalize the `Pmf`."
   ]
  },
  {
   "cell_type": "markdown",
   "id": "ced7ce0c",
   "metadata": {},
   "source": [
    "## `Cdf` implementation\n",
    "\n",
    "A CDF maps from values to cumulative probabilities, so I could have implemented `Cdf` as a `_DictWrapper`.\n",
    "But the values in a CDF are ordered and the values in a `_DictWrapper` are not.\n",
    "Also, it is often useful to compute the inverse CDF; that is, the map from cumulative probability to value.\n",
    "So the implementation I chose is two sorted lists.\n",
    "That way I can use binary search to do a forward or inverse lookup in logarithmic time.\n",
    "\n",
    "The `Cdf` constructor can take as a parameter a sequence of values or a Pandas `Series`, a dictionary that maps from values to probabilities, a sequence of (value, probability) pairs, a Hist, `Pmf`, or `Cdf`.\n",
    "Or if it is given two parameters, it treats them as a sorted sequence of values and the sequence of corresponding cumulative probabilities.\n",
    "\n",
    "Given a sequence, Pandas `Series`, or dictionary, the constructor makes a Hist.\n",
    "Then it uses the Hist to initialize the attributes:"
   ]
  },
  {
   "cell_type": "raw",
   "id": "83a33778",
   "metadata": {},
   "source": [
    "self.xs, freqs = zip(*sorted(dw.Items()))\n",
    "self.ps = np.cumsum(freqs, dtype=np.float)\n",
    "self.ps /= self.ps[-1]"
   ]
  },
  {
   "cell_type": "markdown",
   "id": "59809f47",
   "metadata": {},
   "source": [
    "`xs` is the sorted list of values; `freqs` is the list of corresponding frequencies.\n",
    "`np.cumsum` computes the cumulative sum of the frequencies.\n",
    "Dividing through by the total frequency yields cumulative probabilities.\n",
    "For `n` values, the time to construct the `Cdf` is proportional to $n \\log n$.\n",
    "\n",
    "Here is the implementation of `Prob`, which takes a value and returns its cumulative probability:"
   ]
  },
  {
   "cell_type": "code",
   "execution_count": null,
   "id": "17bd7f22",
   "metadata": {},
   "outputs": [],
   "source": [
    "def prob(self, x):\n",
    "    if x < self.xs[0]:\n",
    "        return 0.0\n",
    "    index = bisect.bisect(self.xs, x)\n",
    "    p = self.ps[index - 1]\n",
    "    return p"
   ]
  },
  {
   "cell_type": "markdown",
   "id": "879a57d0",
   "metadata": {},
   "source": [
    "The `bisect` module provides an implementation of binary search.\n",
    "And here is the implementation of `Value`, which takes a cumulative probability and returns the corresponding value:"
   ]
  },
  {
   "cell_type": "code",
   "execution_count": null,
   "id": "aad82744",
   "metadata": {},
   "outputs": [],
   "source": [
    "def value(self, p):\n",
    "    if p < 0 or p > 1:\n",
    "        raise ValueError(\"p must be in range [0, 1]\")\n",
    "    index = bisect.bisect_left(self.ps, p)\n",
    "    return self.xs[index]"
   ]
  },
  {
   "cell_type": "markdown",
   "id": "b67ea490",
   "metadata": {},
   "source": [
    "Given a `Cdf`, we can compute the `Pmf` by computing differences between consecutive cumulative probabilities.\n",
    "If you call the `Cdf` constructor and pass a `Pmf`, it computes differences by calling `Cdf.Items`:"
   ]
  },
  {
   "cell_type": "code",
   "execution_count": null,
   "id": "8b5f6fa5",
   "metadata": {},
   "outputs": [],
   "source": [
    "def items(self):\n",
    "    a = self.ps\n",
    "    b = np.roll(a, 1)\n",
    "    b[0] = 0\n",
    "    return zip(self.xs, a - b)"
   ]
  },
  {
   "cell_type": "markdown",
   "id": "8dcdda40",
   "metadata": {},
   "source": [
    "`np.roll` shifts the elements of `a` to the right, and \"rolls\" the last one back to the beginning.\n",
    "We replace the first element of `b` with 0 and then compute the difference `a-b`.\n",
    "The result is a NumPy array of probabilities.\n",
    "\n",
    "`Cdf` provides `shift` and `scale`, which modify the values in the `Cdf`, but the probabilities should be treated as immutable."
   ]
  },
  {
   "cell_type": "markdown",
   "id": "aaed2aa7",
   "metadata": {},
   "source": [
    "## NSFG"
   ]
  },
  {
   "cell_type": "code",
   "execution_count": null,
   "id": "30b28e42",
   "metadata": {},
   "outputs": [],
   "source": [
    "import nsfg\n",
    "\n",
    "live, firsts, others = nsfg.make_frames()"
   ]
  },
  {
   "cell_type": "markdown",
   "id": "8111241a",
   "metadata": {},
   "source": [
    "The following figure shows the result.\n",
    "The left tail appears longer than the right, so we suspect the distribution is skewed left.\n",
    "The mean, 7.27 lbs, is a bit less than the median, 7.38 lbs, so that is consistent with left skew.\n",
    "And both skewness coefficients are negative: sample skewness is -0.59; Pearson's median skewness is -0.23."
   ]
  },
  {
   "cell_type": "code",
   "execution_count": null,
   "id": "6e7cbbca",
   "metadata": {},
   "outputs": [],
   "source": [
    "data = live.totalwgt_lb.dropna()\n",
    "pdf = EstimatedPdf(data, name=\"birth weight\")\n",
    "pdf.plot()"
   ]
  },
  {
   "cell_type": "markdown",
   "id": "1a5c5621",
   "metadata": {},
   "source": [
    "Now let's compare this distribution to the distribution of adult weight in the BRFSS.\n",
    "Again, here's the code:"
   ]
  },
  {
   "cell_type": "code",
   "execution_count": null,
   "id": "c8e124a0",
   "metadata": {},
   "outputs": [],
   "source": [
    "df = brfss.read_brfss()\n",
    "data = df.wtkg2.dropna()\n",
    "pdf = EstimatedPdf(data, name=\"adult weight\")\n",
    "pdf.plot()"
   ]
  },
  {
   "cell_type": "markdown",
   "id": "83d0b0db",
   "metadata": {},
   "source": [
    "## Glossary\n",
    "\n",
    "-   **Probability density function (PDF)**: The derivative of a continuous CDF, a function that maps a value to its probability density.\n",
    "\n",
    "-   **Probability density**: A quantity that can be integrated over a range of values to yield a probability.\n",
    "If the values are in units of cm, for example, probability density is in units of probability per cm.\n",
    "\n",
    "-   **Kernel density estimation (KDE)**: An algorithm that estimates a PDF based on a sample.\n",
    "\n",
    "-   **discretize**: To approximate a continuous function or distribution with a discrete function.\n",
    "The opposite of smoothing.\n",
    "\n",
    "-   **raw moment**: A statistic based on the sum of data raised to a power.\n",
    "\n",
    "-   **central moment**: A statistic based on deviation from the mean, raised to a power.\n",
    "\n",
    "-   **standardized moment**: A ratio of moments that has no units.\n",
    "\n",
    "-   **skewness**: A measure of how asymmetric a distribution is.\n",
    "\n",
    "-   **sample skewness**: A moment-based statistic intended to quantify the skewness of a distribution.\n",
    "\n",
    "-   **Pearson's median skewness coefficient**: A statistic intended to quantify the skewness of a distribution based on the median, mean, and standard deviation.\n",
    "\n",
    "-   **robust**: A statistic is robust if it is relatively immune to the effect of outliers."
   ]
  },
  {
   "cell_type": "markdown",
   "id": "a21248f4",
   "metadata": {},
   "source": [
    "## Exercises"
   ]
  },
  {
   "cell_type": "markdown",
   "id": "b9af74ab",
   "metadata": {},
   "source": [
    "### Exercise"
   ]
  },
  {
   "cell_type": "code",
   "execution_count": 80,
   "id": "144be6c8",
   "metadata": {},
   "outputs": [
    {
     "data": {
      "application/javascript": [
       "\n",
       "        setTimeout(function() {\n",
       "            var nbb_cell_id = 80;\n",
       "            var nbb_formatted_code = \"download(\\\"https://github.com/AllenDowney/ThinkStats/raw/v3/data/CDBRFS08.ASC.gz\\\")\";\n",
       "            var nbb_cells = Jupyter.notebook.get_cells();\n",
       "            for (var i = 0; i < nbb_cells.length; ++i) {\n",
       "                if (nbb_cells[i].input_prompt_number == nbb_cell_id) {\n",
       "                    nbb_cells[i].set_text(nbb_formatted_code);\n",
       "                    break;\n",
       "                }\n",
       "            }\n",
       "        }, 500);\n",
       "        "
      ],
      "text/plain": [
       "<IPython.core.display.Javascript object>"
      ]
     },
     "metadata": {},
     "output_type": "display_data"
    }
   ],
   "source": [
    "download(\"https://github.com/AllenDowney/ThinkStats/raw/v3/data/CDBRFS08.ASC.gz\")"
   ]
  },
  {
   "cell_type": "code",
   "execution_count": 81,
   "id": "984f0b34",
   "metadata": {},
   "outputs": [
    {
     "data": {
      "application/javascript": [
       "\n",
       "        setTimeout(function() {\n",
       "            var nbb_cell_id = 81;\n",
       "            var nbb_formatted_code = \"from thinkstats import read_brfss\\n\\ndf = read_brfss(nrows=None)\";\n",
       "            var nbb_cells = Jupyter.notebook.get_cells();\n",
       "            for (var i = 0; i < nbb_cells.length; ++i) {\n",
       "                if (nbb_cells[i].input_prompt_number == nbb_cell_id) {\n",
       "                    nbb_cells[i].set_text(nbb_formatted_code);\n",
       "                    break;\n",
       "                }\n",
       "            }\n",
       "        }, 500);\n",
       "        "
      ],
      "text/plain": [
       "<IPython.core.display.Javascript object>"
      ]
     },
     "metadata": {},
     "output_type": "display_data"
    }
   ],
   "source": [
    "from thinkstats import read_brfss\n",
    "\n",
    "df = read_brfss(nrows=None)"
   ]
  },
  {
   "cell_type": "markdown",
   "id": "16858dd0",
   "metadata": {},
   "source": [
    "### Exercise"
   ]
  },
  {
   "cell_type": "markdown",
   "id": "c2c5d940",
   "metadata": {},
   "source": [
    "### Exercise\n",
    "\n",
    "The distribution of income is famously skewed to the right.\n",
    "In this exercise, we’ll measure how strong that skew is. The Current Population Survey (CPS) is a joint effort of the Bureau of Labor Statistics and the Census Bureau to study income and related variables.\n",
    "Data collected in 2013 is available from http://www.census.gov/hhes/www/cpstables/032013/hhinc/toc.htm.\n",
    "I downloaded `hinc06.xls`, which is an Excel spreadsheet with information about household income, and converted it to `hinc06.csv`, a CSV file you will find in the repository for this book.\n",
    "You will also find `hinc2.py`, which reads this file and transforms the data.\n",
    "\n",
    "The dataset is in the form of a series of income ranges and the number of respondents who fell in each range.\n",
    "The lowest range includes respondents who reported annual household income “Under \\$5000.” \n",
    "\n",
    "The highest range includes respondents who made “\\$250,000 or more.”\n",
    "\n",
    "To estimate mean and other statistics from these data, we have to make some assumptions about the lower and upper bounds, and how the values are distributed in each range.\n",
    "`hinc2.py` provides `interpolate_sample`, which shows one way to model this data.\n",
    "It takes a `DataFrame` with a column, `income`, that contains the upper bound of each range, and `freq`, which contains the number of respondents in each frame.\n",
    "\n",
    "It also takes `log_upper`, which is an assumed upper bound on the highest range, expressed in `log10` dollars.\n",
    "The default value, `log_upper=6.0` represents the assumption that the largest income among the respondents is $10^6$, or one million dollars.\n",
    "\n",
    "`interpolate_sample` generates a pseudo-sample; that is, a sample of household incomes that yields the same number of respondents in each range as the actual data.\n",
    "It assumes that incomes in each range are equally spaced on a `log10` scale."
   ]
  },
  {
   "cell_type": "code",
   "execution_count": null,
   "id": "762e66be",
   "metadata": {},
   "outputs": [],
   "source": [
    "download(\"https://github.com/AllenDowney/ThinkStats/raw/v3/data/hinc.py\")\n",
    "download(\"https://github.com/AllenDowney/ThinkStats/raw/v3/nb/hinc06.csv\")"
   ]
  },
  {
   "cell_type": "code",
   "execution_count": null,
   "id": "39fe25c5",
   "metadata": {},
   "outputs": [],
   "source": [
    "def interpolate_sample(df, log_upper=6.0):\n",
    "    \"\"\"Makes a sample of log10 household income.\n",
    "\n",
    "    Assumes that log10 income is uniform in each range.\n",
    "\n",
    "    df: DataFrame with columns income and freq\n",
    "    log_upper: log10 of the assumed upper bound for the highest range\n",
    "\n",
    "    returns: NumPy array of log10 household income\n",
    "    \"\"\"\n",
    "    df[\"log_upper\"] = np.log10(df.income)\n",
    "    df[\"log_lower\"] = df.log_upper.shift(1)\n",
    "    df.loc[0, \"log_lower\"] = 3.0\n",
    "    df.loc[41, \"log_upper\"] = log_upper\n",
    "    arrays = []\n",
    "    for _, row in df.iterrows():\n",
    "        vals = np.linspace(row.log_lower, row.log_upper, int(row.freq))\n",
    "        arrays.append(vals)\n",
    "    log_sample = np.concatenate(arrays)\n",
    "    return log_sample"
   ]
  },
  {
   "cell_type": "code",
   "execution_count": null,
   "id": "9d738aa2",
   "metadata": {},
   "outputs": [],
   "source": [
    "import hinc\n",
    "\n",
    "income_df = hinc.read_data()"
   ]
  },
  {
   "cell_type": "code",
   "execution_count": null,
   "id": "004dd414",
   "metadata": {},
   "outputs": [],
   "source": [
    "# Solution\n",
    "\n",
    "log_sample = interpolate_sample(income_df, log_upper=6.0)"
   ]
  },
  {
   "cell_type": "code",
   "execution_count": null,
   "id": "8c0f5a43",
   "metadata": {},
   "outputs": [],
   "source": [
    "# Solution\n",
    "\n",
    "log_cdf = Cdf.from_seq(log_sample)\n",
    "log_cdf.plot()\n",
    "decorate(xlabel=\"Household income (log $)\", ylabel=\"CDF\")"
   ]
  },
  {
   "cell_type": "code",
   "execution_count": null,
   "id": "127d4383",
   "metadata": {},
   "outputs": [],
   "source": [
    "# Solution\n",
    "\n",
    "sample = np.power(10, log_sample)"
   ]
  },
  {
   "cell_type": "code",
   "execution_count": null,
   "id": "f49ad492",
   "metadata": {},
   "outputs": [],
   "source": [
    "# Solution\n",
    "\n",
    "cdf = Cdf.from_seq(sample)\n",
    "cdf.plot()\n",
    "decorate(xlabel=\"Household income ($)\", ylabel=\"CDF\")"
   ]
  },
  {
   "cell_type": "markdown",
   "id": "f25f96e4",
   "metadata": {},
   "source": [
    "Compute the median, mean, skewness and Pearson’s skewness of the resulting sample.\n",
    "What fraction of households report a taxable income below the mean? How do the results depend on the assumed upper bound?"
   ]
  },
  {
   "cell_type": "code",
   "execution_count": null,
   "id": "7f2b2719",
   "metadata": {},
   "outputs": [],
   "source": [
    "# Solution\n",
    "\n",
    "mean(sample), median(sample)"
   ]
  },
  {
   "cell_type": "code",
   "execution_count": null,
   "id": "b771f4d6",
   "metadata": {},
   "outputs": [],
   "source": [
    "# Solution\n",
    "\n",
    "skewness(sample), pearson_median_skewness(sample)"
   ]
  },
  {
   "cell_type": "code",
   "execution_count": null,
   "id": "e849e80c",
   "metadata": {},
   "outputs": [],
   "source": [
    "# Solution\n",
    "\n",
    "cdf(mean(sample))"
   ]
  },
  {
   "cell_type": "markdown",
   "id": "48e5bd15",
   "metadata": {},
   "source": [
    "All of this is based on an assumption that the highest income is one million dollars, but that's certainly not correct.\n",
    "What happens to the skew if the upper bound is 10 million?\n",
    "\n",
    "Without better information about the top of this distribution, we can't say much about the skewness of the distribution."
   ]
  },
  {
   "cell_type": "code",
   "execution_count": null,
   "id": "c726d530",
   "metadata": {},
   "outputs": [],
   "source": []
  }
 ],
 "metadata": {
  "kernelspec": {
   "display_name": "Python 3 (ipykernel)",
   "language": "python",
   "name": "python3"
  },
  "language_info": {
   "codemirror_mode": {
    "name": "ipython",
    "version": 3
   },
   "file_extension": ".py",
   "mimetype": "text/x-python",
   "name": "python",
   "nbconvert_exporter": "python",
   "pygments_lexer": "ipython3",
   "version": "3.10.14"
  }
 },
 "nbformat": 4,
 "nbformat_minor": 5
}
