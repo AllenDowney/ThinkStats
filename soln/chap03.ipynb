{
 "cells": [
  {
   "cell_type": "markdown",
   "id": "259c89bc",
   "metadata": {},
   "source": [
    "# Probability Mass Functions\n",
    "\n",
    "In the previous chapter we represented distributions using a `Hist` object, which contains a set of quantities and their frequencies -- that is, the number of times each one appears.\n",
    "In this chapter we'll introduce another way to represent a distribution: a `Pmf` object, which contains a set of quantities and their probabilities.\n",
    "\n",
    "And we'll use `Pmf` objects to compute the mean and variance of a distribution, and the skewness, which indicates whether it is skewed to the left or right.\n",
    "Finally, we will explore how a phenomenon called the \"inspection paradox\" can cause a sample to give a biased view of a distribution."
   ]
  },
  {
   "cell_type": "code",
   "execution_count": 1,
   "id": "11dd3ca1",
   "metadata": {},
   "outputs": [
    {
     "data": {
      "application/javascript": [
       "\n",
       "            setTimeout(function() {\n",
       "                var nbb_cell_id = 1;\n",
       "                var nbb_unformatted_code = \"%load_ext nb_black\\n%load_ext autoreload\\n%autoreload 2\";\n",
       "                var nbb_formatted_code = \"%load_ext nb_black\\n%load_ext autoreload\\n%autoreload 2\";\n",
       "                var nbb_cells = Jupyter.notebook.get_cells();\n",
       "                for (var i = 0; i < nbb_cells.length; ++i) {\n",
       "                    if (nbb_cells[i].input_prompt_number == nbb_cell_id) {\n",
       "                        if (nbb_cells[i].get_text() == nbb_unformatted_code) {\n",
       "                             nbb_cells[i].set_text(nbb_formatted_code);\n",
       "                        }\n",
       "                        break;\n",
       "                    }\n",
       "                }\n",
       "            }, 500);\n",
       "            "
      ],
      "text/plain": [
       "<IPython.core.display.Javascript object>"
      ]
     },
     "metadata": {},
     "output_type": "display_data"
    }
   ],
   "source": [
    "%load_ext nb_black\n",
    "%load_ext autoreload\n",
    "%autoreload 2"
   ]
  },
  {
   "cell_type": "code",
   "execution_count": 2,
   "id": "c4578587",
   "metadata": {},
   "outputs": [
    {
     "data": {
      "application/javascript": [
       "\n",
       "            setTimeout(function() {\n",
       "                var nbb_cell_id = 2;\n",
       "                var nbb_unformatted_code = \"from os.path import basename, exists\\n\\n\\ndef download(url):\\n    filename = basename(url)\\n    if not exists(filename):\\n        from urllib.request import urlretrieve\\n\\n        local, _ = urlretrieve(url, filename)\\n        print(\\\"Downloaded \\\" + local)\\n\\n\\ndownload(\\\"https://github.com/AllenDowney/ThinkStats/raw/v3/nb/thinkstats.py\\\")\";\n",
       "                var nbb_formatted_code = \"from os.path import basename, exists\\n\\n\\ndef download(url):\\n    filename = basename(url)\\n    if not exists(filename):\\n        from urllib.request import urlretrieve\\n\\n        local, _ = urlretrieve(url, filename)\\n        print(\\\"Downloaded \\\" + local)\\n\\n\\ndownload(\\\"https://github.com/AllenDowney/ThinkStats/raw/v3/nb/thinkstats.py\\\")\";\n",
       "                var nbb_cells = Jupyter.notebook.get_cells();\n",
       "                for (var i = 0; i < nbb_cells.length; ++i) {\n",
       "                    if (nbb_cells[i].input_prompt_number == nbb_cell_id) {\n",
       "                        if (nbb_cells[i].get_text() == nbb_unformatted_code) {\n",
       "                             nbb_cells[i].set_text(nbb_formatted_code);\n",
       "                        }\n",
       "                        break;\n",
       "                    }\n",
       "                }\n",
       "            }, 500);\n",
       "            "
      ],
      "text/plain": [
       "<IPython.core.display.Javascript object>"
      ]
     },
     "metadata": {},
     "output_type": "display_data"
    }
   ],
   "source": [
    "from os.path import basename, exists\n",
    "\n",
    "\n",
    "def download(url):\n",
    "    filename = basename(url)\n",
    "    if not exists(filename):\n",
    "        from urllib.request import urlretrieve\n",
    "\n",
    "        local, _ = urlretrieve(url, filename)\n",
    "        print(\"Downloaded \" + local)\n",
    "\n",
    "\n",
    "download(\"https://github.com/AllenDowney/ThinkStats/raw/v3/nb/thinkstats.py\")"
   ]
  },
  {
   "cell_type": "code",
   "execution_count": 1,
   "id": "f66668e0",
   "metadata": {},
   "outputs": [],
   "source": [
    "try:\n",
    "    import empiricaldist\n",
    "except ImportError:\n",
    "    !pip install empiricaldist"
   ]
  },
  {
   "cell_type": "code",
   "execution_count": 3,
   "id": "e47f1afd",
   "metadata": {},
   "outputs": [
    {
     "data": {
      "application/javascript": [
       "\n",
       "            setTimeout(function() {\n",
       "                var nbb_cell_id = 3;\n",
       "                var nbb_unformatted_code = \"import numpy as np\\nimport pandas as pd\\nimport matplotlib.pyplot as plt\\n\\nfrom thinkstats import decorate\";\n",
       "                var nbb_formatted_code = \"import numpy as np\\nimport pandas as pd\\nimport matplotlib.pyplot as plt\\n\\nfrom thinkstats import decorate\";\n",
       "                var nbb_cells = Jupyter.notebook.get_cells();\n",
       "                for (var i = 0; i < nbb_cells.length; ++i) {\n",
       "                    if (nbb_cells[i].input_prompt_number == nbb_cell_id) {\n",
       "                        if (nbb_cells[i].get_text() == nbb_unformatted_code) {\n",
       "                             nbb_cells[i].set_text(nbb_formatted_code);\n",
       "                        }\n",
       "                        break;\n",
       "                    }\n",
       "                }\n",
       "            }, 500);\n",
       "            "
      ],
      "text/plain": [
       "<IPython.core.display.Javascript object>"
      ]
     },
     "metadata": {},
     "output_type": "display_data"
    }
   ],
   "source": [
    "import numpy as np\n",
    "import pandas as pd\n",
    "import matplotlib.pyplot as plt\n",
    "\n",
    "from thinkstats import decorate"
   ]
  },
  {
   "cell_type": "markdown",
   "id": "5f56b6a7",
   "metadata": {},
   "source": [
    "## PMFs\n",
    "\n",
    "A `Pmf` object is like a `Hist` that contains probabilities instead of frequencies.\n",
    "So one way to make a `Pmf` is to start with a `Hist`.\n",
    "For example, here's a `Hist` that represents the distribution of values in a short sequence."
   ]
  },
  {
   "cell_type": "code",
   "execution_count": 4,
   "id": "8f418fed",
   "metadata": {},
   "outputs": [
    {
     "data": {
      "text/html": [
       "<div>\n",
       "<style scoped>\n",
       "    .dataframe tbody tr th:only-of-type {\n",
       "        vertical-align: middle;\n",
       "    }\n",
       "\n",
       "    .dataframe tbody tr th {\n",
       "        vertical-align: top;\n",
       "    }\n",
       "\n",
       "    .dataframe thead th {\n",
       "        text-align: right;\n",
       "    }\n",
       "</style>\n",
       "<table border=\"1\" class=\"dataframe\">\n",
       "  <thead>\n",
       "    <tr style=\"text-align: right;\">\n",
       "      <th></th>\n",
       "      <th>freqs</th>\n",
       "    </tr>\n",
       "  </thead>\n",
       "  <tbody>\n",
       "    <tr>\n",
       "      <th>1</th>\n",
       "      <td>1</td>\n",
       "    </tr>\n",
       "    <tr>\n",
       "      <th>2</th>\n",
       "      <td>2</td>\n",
       "    </tr>\n",
       "    <tr>\n",
       "      <th>3</th>\n",
       "      <td>1</td>\n",
       "    </tr>\n",
       "    <tr>\n",
       "      <th>5</th>\n",
       "      <td>1</td>\n",
       "    </tr>\n",
       "  </tbody>\n",
       "</table>\n",
       "</div>"
      ],
      "text/plain": [
       "1    1\n",
       "2    2\n",
       "3    1\n",
       "5    1\n",
       "Name: , dtype: int64"
      ]
     },
     "execution_count": 4,
     "metadata": {},
     "output_type": "execute_result"
    },
    {
     "data": {
      "application/javascript": [
       "\n",
       "            setTimeout(function() {\n",
       "                var nbb_cell_id = 4;\n",
       "                var nbb_unformatted_code = \"from empiricaldist import Hist\\n\\nhist = Hist.from_seq([1, 2, 2, 3, 5])\\nhist\";\n",
       "                var nbb_formatted_code = \"from empiricaldist import Hist\\n\\nhist = Hist.from_seq([1, 2, 2, 3, 5])\\nhist\";\n",
       "                var nbb_cells = Jupyter.notebook.get_cells();\n",
       "                for (var i = 0; i < nbb_cells.length; ++i) {\n",
       "                    if (nbb_cells[i].input_prompt_number == nbb_cell_id) {\n",
       "                        if (nbb_cells[i].get_text() == nbb_unformatted_code) {\n",
       "                             nbb_cells[i].set_text(nbb_formatted_code);\n",
       "                        }\n",
       "                        break;\n",
       "                    }\n",
       "                }\n",
       "            }, 500);\n",
       "            "
      ],
      "text/plain": [
       "<IPython.core.display.Javascript object>"
      ]
     },
     "metadata": {},
     "output_type": "display_data"
    }
   ],
   "source": [
    "from empiricaldist import Hist\n",
    "\n",
    "hist = Hist.from_seq([1, 2, 2, 3, 5])\n",
    "hist"
   ]
  },
  {
   "cell_type": "markdown",
   "id": "f70e8df4",
   "metadata": {},
   "source": [
    "The sum of the frequencies is the size of the original sequence."
   ]
  },
  {
   "cell_type": "code",
   "execution_count": 5,
   "id": "8e1ee1ca",
   "metadata": {},
   "outputs": [
    {
     "data": {
      "text/plain": [
       "5"
      ]
     },
     "execution_count": 5,
     "metadata": {},
     "output_type": "execute_result"
    },
    {
     "data": {
      "application/javascript": [
       "\n",
       "            setTimeout(function() {\n",
       "                var nbb_cell_id = 5;\n",
       "                var nbb_unformatted_code = \"n = hist.sum()\\nn\";\n",
       "                var nbb_formatted_code = \"n = hist.sum()\\nn\";\n",
       "                var nbb_cells = Jupyter.notebook.get_cells();\n",
       "                for (var i = 0; i < nbb_cells.length; ++i) {\n",
       "                    if (nbb_cells[i].input_prompt_number == nbb_cell_id) {\n",
       "                        if (nbb_cells[i].get_text() == nbb_unformatted_code) {\n",
       "                             nbb_cells[i].set_text(nbb_formatted_code);\n",
       "                        }\n",
       "                        break;\n",
       "                    }\n",
       "                }\n",
       "            }, 500);\n",
       "            "
      ],
      "text/plain": [
       "<IPython.core.display.Javascript object>"
      ]
     },
     "metadata": {},
     "output_type": "display_data"
    }
   ],
   "source": [
    "n = hist.sum()\n",
    "n"
   ]
  },
  {
   "cell_type": "markdown",
   "id": "eeed5af8",
   "metadata": {},
   "source": [
    "If we divide the frequencies by `n`, they represent proportions, rather than counts."
   ]
  },
  {
   "cell_type": "code",
   "execution_count": 6,
   "id": "07dab3d2",
   "metadata": {},
   "outputs": [
    {
     "data": {
      "text/html": [
       "<div>\n",
       "<style scoped>\n",
       "    .dataframe tbody tr th:only-of-type {\n",
       "        vertical-align: middle;\n",
       "    }\n",
       "\n",
       "    .dataframe tbody tr th {\n",
       "        vertical-align: top;\n",
       "    }\n",
       "\n",
       "    .dataframe thead th {\n",
       "        text-align: right;\n",
       "    }\n",
       "</style>\n",
       "<table border=\"1\" class=\"dataframe\">\n",
       "  <thead>\n",
       "    <tr style=\"text-align: right;\">\n",
       "      <th></th>\n",
       "      <th>probs</th>\n",
       "    </tr>\n",
       "  </thead>\n",
       "  <tbody>\n",
       "    <tr>\n",
       "      <th>1</th>\n",
       "      <td>0.2</td>\n",
       "    </tr>\n",
       "    <tr>\n",
       "      <th>2</th>\n",
       "      <td>0.4</td>\n",
       "    </tr>\n",
       "    <tr>\n",
       "      <th>3</th>\n",
       "      <td>0.2</td>\n",
       "    </tr>\n",
       "    <tr>\n",
       "      <th>5</th>\n",
       "      <td>0.2</td>\n",
       "    </tr>\n",
       "  </tbody>\n",
       "</table>\n",
       "</div>"
      ],
      "text/plain": [
       "1    0.2\n",
       "2    0.4\n",
       "3    0.2\n",
       "5    0.2\n",
       "Name: , dtype: float64"
      ]
     },
     "execution_count": 6,
     "metadata": {},
     "output_type": "execute_result"
    },
    {
     "data": {
      "application/javascript": [
       "\n",
       "            setTimeout(function() {\n",
       "                var nbb_cell_id = 6;\n",
       "                var nbb_unformatted_code = \"pmf = hist / n\\npmf\";\n",
       "                var nbb_formatted_code = \"pmf = hist / n\\npmf\";\n",
       "                var nbb_cells = Jupyter.notebook.get_cells();\n",
       "                for (var i = 0; i < nbb_cells.length; ++i) {\n",
       "                    if (nbb_cells[i].input_prompt_number == nbb_cell_id) {\n",
       "                        if (nbb_cells[i].get_text() == nbb_unformatted_code) {\n",
       "                             nbb_cells[i].set_text(nbb_formatted_code);\n",
       "                        }\n",
       "                        break;\n",
       "                    }\n",
       "                }\n",
       "            }, 500);\n",
       "            "
      ],
      "text/plain": [
       "<IPython.core.display.Javascript object>"
      ]
     },
     "metadata": {},
     "output_type": "display_data"
    }
   ],
   "source": [
    "pmf = hist / n\n",
    "pmf"
   ]
  },
  {
   "cell_type": "markdown",
   "id": "1e0a7d3c",
   "metadata": {},
   "source": [
    "This result indicates that 20% of the values in the sequence are 1, 40% are 2, and so on.\n",
    "\n",
    "We can also think of these proportions as probabilities in the following sense: if we choose a random value from the original sequence, the probability we choose the value 1 is 0.2, the probability we choose the value 2 is 0.4, and so on.\n",
    "\n",
    "Because we divided through by `n`, the sum of the probabilities is 1, which means that this distribution is **normalized**."
   ]
  },
  {
   "cell_type": "code",
   "execution_count": 7,
   "id": "af296dc9",
   "metadata": {},
   "outputs": [
    {
     "data": {
      "text/plain": [
       "1.0"
      ]
     },
     "execution_count": 7,
     "metadata": {},
     "output_type": "execute_result"
    },
    {
     "data": {
      "application/javascript": [
       "\n",
       "            setTimeout(function() {\n",
       "                var nbb_cell_id = 7;\n",
       "                var nbb_unformatted_code = \"pmf.sum()\";\n",
       "                var nbb_formatted_code = \"pmf.sum()\";\n",
       "                var nbb_cells = Jupyter.notebook.get_cells();\n",
       "                for (var i = 0; i < nbb_cells.length; ++i) {\n",
       "                    if (nbb_cells[i].input_prompt_number == nbb_cell_id) {\n",
       "                        if (nbb_cells[i].get_text() == nbb_unformatted_code) {\n",
       "                             nbb_cells[i].set_text(nbb_formatted_code);\n",
       "                        }\n",
       "                        break;\n",
       "                    }\n",
       "                }\n",
       "            }, 500);\n",
       "            "
      ],
      "text/plain": [
       "<IPython.core.display.Javascript object>"
      ]
     },
     "metadata": {},
     "output_type": "display_data"
    }
   ],
   "source": [
    "pmf.sum()"
   ]
  },
  {
   "cell_type": "markdown",
   "id": "c81d485a",
   "metadata": {},
   "source": [
    "A normalized `Hist` object represents a **probability mass function** (PMF), so-called because probabilities associated with discrete quantities are also called \"probability masses\".\n",
    "\n",
    "The `empiricaldist` library provides a `Pmf` object that represents a probability mass function, so instead of creating a `Hist` object and then normalizing it, we can create a `Pmf` object directly."
   ]
  },
  {
   "cell_type": "code",
   "execution_count": 8,
   "id": "3fff30ec",
   "metadata": {},
   "outputs": [
    {
     "data": {
      "text/html": [
       "<div>\n",
       "<style scoped>\n",
       "    .dataframe tbody tr th:only-of-type {\n",
       "        vertical-align: middle;\n",
       "    }\n",
       "\n",
       "    .dataframe tbody tr th {\n",
       "        vertical-align: top;\n",
       "    }\n",
       "\n",
       "    .dataframe thead th {\n",
       "        text-align: right;\n",
       "    }\n",
       "</style>\n",
       "<table border=\"1\" class=\"dataframe\">\n",
       "  <thead>\n",
       "    <tr style=\"text-align: right;\">\n",
       "      <th></th>\n",
       "      <th>probs</th>\n",
       "    </tr>\n",
       "  </thead>\n",
       "  <tbody>\n",
       "    <tr>\n",
       "      <th>1</th>\n",
       "      <td>0.2</td>\n",
       "    </tr>\n",
       "    <tr>\n",
       "      <th>2</th>\n",
       "      <td>0.4</td>\n",
       "    </tr>\n",
       "    <tr>\n",
       "      <th>3</th>\n",
       "      <td>0.2</td>\n",
       "    </tr>\n",
       "    <tr>\n",
       "      <th>5</th>\n",
       "      <td>0.2</td>\n",
       "    </tr>\n",
       "  </tbody>\n",
       "</table>\n",
       "</div>"
      ],
      "text/plain": [
       "1    0.2\n",
       "2    0.4\n",
       "3    0.2\n",
       "5    0.2\n",
       "Name: , dtype: float64"
      ]
     },
     "execution_count": 8,
     "metadata": {},
     "output_type": "execute_result"
    },
    {
     "data": {
      "application/javascript": [
       "\n",
       "            setTimeout(function() {\n",
       "                var nbb_cell_id = 8;\n",
       "                var nbb_unformatted_code = \"from empiricaldist import Pmf\\n\\npmf = Pmf.from_seq([1, 2, 2, 3, 5])\\npmf\";\n",
       "                var nbb_formatted_code = \"from empiricaldist import Pmf\\n\\npmf = Pmf.from_seq([1, 2, 2, 3, 5])\\npmf\";\n",
       "                var nbb_cells = Jupyter.notebook.get_cells();\n",
       "                for (var i = 0; i < nbb_cells.length; ++i) {\n",
       "                    if (nbb_cells[i].input_prompt_number == nbb_cell_id) {\n",
       "                        if (nbb_cells[i].get_text() == nbb_unformatted_code) {\n",
       "                             nbb_cells[i].set_text(nbb_formatted_code);\n",
       "                        }\n",
       "                        break;\n",
       "                    }\n",
       "                }\n",
       "            }, 500);\n",
       "            "
      ],
      "text/plain": [
       "<IPython.core.display.Javascript object>"
      ]
     },
     "metadata": {},
     "output_type": "display_data"
    }
   ],
   "source": [
    "from empiricaldist import Pmf\n",
    "\n",
    "pmf = Pmf.from_seq([1, 2, 2, 3, 5])\n",
    "pmf"
   ]
  },
  {
   "cell_type": "markdown",
   "id": "d8428fe8",
   "metadata": {},
   "source": [
    "The `Pmf` is normalized so the total probability is 1."
   ]
  },
  {
   "cell_type": "code",
   "execution_count": 9,
   "id": "5e01b656",
   "metadata": {},
   "outputs": [
    {
     "data": {
      "text/plain": [
       "1.0"
      ]
     },
     "execution_count": 9,
     "metadata": {},
     "output_type": "execute_result"
    },
    {
     "data": {
      "application/javascript": [
       "\n",
       "            setTimeout(function() {\n",
       "                var nbb_cell_id = 9;\n",
       "                var nbb_unformatted_code = \"pmf.sum()\";\n",
       "                var nbb_formatted_code = \"pmf.sum()\";\n",
       "                var nbb_cells = Jupyter.notebook.get_cells();\n",
       "                for (var i = 0; i < nbb_cells.length; ++i) {\n",
       "                    if (nbb_cells[i].input_prompt_number == nbb_cell_id) {\n",
       "                        if (nbb_cells[i].get_text() == nbb_unformatted_code) {\n",
       "                             nbb_cells[i].set_text(nbb_formatted_code);\n",
       "                        }\n",
       "                        break;\n",
       "                    }\n",
       "                }\n",
       "            }, 500);\n",
       "            "
      ],
      "text/plain": [
       "<IPython.core.display.Javascript object>"
      ]
     },
     "metadata": {},
     "output_type": "display_data"
    }
   ],
   "source": [
    "pmf.sum()"
   ]
  },
  {
   "cell_type": "markdown",
   "id": "4cc44f90",
   "metadata": {},
   "source": [
    "`Pmf` and `Hist` objects are similar in many ways.\n",
    "To look up the probability associated with a value, we can use the bracket operator."
   ]
  },
  {
   "cell_type": "code",
   "execution_count": 10,
   "id": "41280992",
   "metadata": {},
   "outputs": [
    {
     "data": {
      "text/plain": [
       "0.4"
      ]
     },
     "execution_count": 10,
     "metadata": {},
     "output_type": "execute_result"
    },
    {
     "data": {
      "application/javascript": [
       "\n",
       "            setTimeout(function() {\n",
       "                var nbb_cell_id = 10;\n",
       "                var nbb_unformatted_code = \"pmf[2]\";\n",
       "                var nbb_formatted_code = \"pmf[2]\";\n",
       "                var nbb_cells = Jupyter.notebook.get_cells();\n",
       "                for (var i = 0; i < nbb_cells.length; ++i) {\n",
       "                    if (nbb_cells[i].input_prompt_number == nbb_cell_id) {\n",
       "                        if (nbb_cells[i].get_text() == nbb_unformatted_code) {\n",
       "                             nbb_cells[i].set_text(nbb_formatted_code);\n",
       "                        }\n",
       "                        break;\n",
       "                    }\n",
       "                }\n",
       "            }, 500);\n",
       "            "
      ],
      "text/plain": [
       "<IPython.core.display.Javascript object>"
      ]
     },
     "metadata": {},
     "output_type": "display_data"
    }
   ],
   "source": [
    "pmf[2]"
   ]
  },
  {
   "cell_type": "markdown",
   "id": "ff05014f",
   "metadata": {},
   "source": [
    "Or use parentheses to call the `Pmf` like a function."
   ]
  },
  {
   "cell_type": "code",
   "execution_count": 11,
   "id": "2ac2919b",
   "metadata": {},
   "outputs": [
    {
     "data": {
      "text/plain": [
       "0.4"
      ]
     },
     "execution_count": 11,
     "metadata": {},
     "output_type": "execute_result"
    },
    {
     "data": {
      "application/javascript": [
       "\n",
       "            setTimeout(function() {\n",
       "                var nbb_cell_id = 11;\n",
       "                var nbb_unformatted_code = \"pmf(2)\";\n",
       "                var nbb_formatted_code = \"pmf(2)\";\n",
       "                var nbb_cells = Jupyter.notebook.get_cells();\n",
       "                for (var i = 0; i < nbb_cells.length; ++i) {\n",
       "                    if (nbb_cells[i].input_prompt_number == nbb_cell_id) {\n",
       "                        if (nbb_cells[i].get_text() == nbb_unformatted_code) {\n",
       "                             nbb_cells[i].set_text(nbb_formatted_code);\n",
       "                        }\n",
       "                        break;\n",
       "                    }\n",
       "                }\n",
       "            }, 500);\n",
       "            "
      ],
      "text/plain": [
       "<IPython.core.display.Javascript object>"
      ]
     },
     "metadata": {},
     "output_type": "display_data"
    }
   ],
   "source": [
    "pmf(2)"
   ]
  },
  {
   "cell_type": "markdown",
   "id": "98af6144",
   "metadata": {},
   "source": [
    "To assign a probability to a quantity, you have to use the bracket operator."
   ]
  },
  {
   "cell_type": "code",
   "execution_count": 12,
   "id": "b53f5742",
   "metadata": {},
   "outputs": [
    {
     "data": {
      "text/plain": [
       "0.2"
      ]
     },
     "execution_count": 12,
     "metadata": {},
     "output_type": "execute_result"
    },
    {
     "data": {
      "application/javascript": [
       "\n",
       "            setTimeout(function() {\n",
       "                var nbb_cell_id = 12;\n",
       "                var nbb_unformatted_code = \"pmf[2] = 0.2\\npmf(2)\";\n",
       "                var nbb_formatted_code = \"pmf[2] = 0.2\\npmf(2)\";\n",
       "                var nbb_cells = Jupyter.notebook.get_cells();\n",
       "                for (var i = 0; i < nbb_cells.length; ++i) {\n",
       "                    if (nbb_cells[i].input_prompt_number == nbb_cell_id) {\n",
       "                        if (nbb_cells[i].get_text() == nbb_unformatted_code) {\n",
       "                             nbb_cells[i].set_text(nbb_formatted_code);\n",
       "                        }\n",
       "                        break;\n",
       "                    }\n",
       "                }\n",
       "            }, 500);\n",
       "            "
      ],
      "text/plain": [
       "<IPython.core.display.Javascript object>"
      ]
     },
     "metadata": {},
     "output_type": "display_data"
    }
   ],
   "source": [
    "pmf[2] = 0.2\n",
    "pmf(2)"
   ]
  },
  {
   "cell_type": "markdown",
   "id": "69db5cfb",
   "metadata": {},
   "source": [
    "You can modify an existing `Pmf` by incrementing the probability associated with a value:"
   ]
  },
  {
   "cell_type": "code",
   "execution_count": 13,
   "id": "25ecc3b0",
   "metadata": {},
   "outputs": [
    {
     "data": {
      "text/plain": [
       "0.5"
      ]
     },
     "execution_count": 13,
     "metadata": {},
     "output_type": "execute_result"
    },
    {
     "data": {
      "application/javascript": [
       "\n",
       "            setTimeout(function() {\n",
       "                var nbb_cell_id = 13;\n",
       "                var nbb_unformatted_code = \"pmf[2] += 0.3\\npmf[2]\";\n",
       "                var nbb_formatted_code = \"pmf[2] += 0.3\\npmf[2]\";\n",
       "                var nbb_cells = Jupyter.notebook.get_cells();\n",
       "                for (var i = 0; i < nbb_cells.length; ++i) {\n",
       "                    if (nbb_cells[i].input_prompt_number == nbb_cell_id) {\n",
       "                        if (nbb_cells[i].get_text() == nbb_unformatted_code) {\n",
       "                             nbb_cells[i].set_text(nbb_formatted_code);\n",
       "                        }\n",
       "                        break;\n",
       "                    }\n",
       "                }\n",
       "            }, 500);\n",
       "            "
      ],
      "text/plain": [
       "<IPython.core.display.Javascript object>"
      ]
     },
     "metadata": {},
     "output_type": "display_data"
    }
   ],
   "source": [
    "pmf[2] += 0.3\n",
    "pmf[2]"
   ]
  },
  {
   "cell_type": "markdown",
   "id": "b4de74dd",
   "metadata": {},
   "source": [
    "Or you can multiply a probability by a factor:"
   ]
  },
  {
   "cell_type": "code",
   "execution_count": 14,
   "id": "df663bda",
   "metadata": {},
   "outputs": [
    {
     "data": {
      "text/plain": [
       "0.25"
      ]
     },
     "execution_count": 14,
     "metadata": {},
     "output_type": "execute_result"
    },
    {
     "data": {
      "application/javascript": [
       "\n",
       "            setTimeout(function() {\n",
       "                var nbb_cell_id = 14;\n",
       "                var nbb_unformatted_code = \"pmf[2] *= 0.5\\npmf[2]\";\n",
       "                var nbb_formatted_code = \"pmf[2] *= 0.5\\npmf[2]\";\n",
       "                var nbb_cells = Jupyter.notebook.get_cells();\n",
       "                for (var i = 0; i < nbb_cells.length; ++i) {\n",
       "                    if (nbb_cells[i].input_prompt_number == nbb_cell_id) {\n",
       "                        if (nbb_cells[i].get_text() == nbb_unformatted_code) {\n",
       "                             nbb_cells[i].set_text(nbb_formatted_code);\n",
       "                        }\n",
       "                        break;\n",
       "                    }\n",
       "                }\n",
       "            }, 500);\n",
       "            "
      ],
      "text/plain": [
       "<IPython.core.display.Javascript object>"
      ]
     },
     "metadata": {},
     "output_type": "display_data"
    }
   ],
   "source": [
    "pmf[2] *= 0.5\n",
    "pmf[2]"
   ]
  },
  {
   "cell_type": "markdown",
   "id": "3abe8d9e",
   "metadata": {},
   "source": [
    "If you modify a `Pmf`, the result may not be normalized -- that is, the probabilities may no longer add up to 1."
   ]
  },
  {
   "cell_type": "code",
   "execution_count": 15,
   "id": "864a09be",
   "metadata": {},
   "outputs": [
    {
     "data": {
      "text/plain": [
       "0.8500000000000001"
      ]
     },
     "execution_count": 15,
     "metadata": {},
     "output_type": "execute_result"
    },
    {
     "data": {
      "application/javascript": [
       "\n",
       "            setTimeout(function() {\n",
       "                var nbb_cell_id = 15;\n",
       "                var nbb_unformatted_code = \"pmf.sum()\";\n",
       "                var nbb_formatted_code = \"pmf.sum()\";\n",
       "                var nbb_cells = Jupyter.notebook.get_cells();\n",
       "                for (var i = 0; i < nbb_cells.length; ++i) {\n",
       "                    if (nbb_cells[i].input_prompt_number == nbb_cell_id) {\n",
       "                        if (nbb_cells[i].get_text() == nbb_unformatted_code) {\n",
       "                             nbb_cells[i].set_text(nbb_formatted_code);\n",
       "                        }\n",
       "                        break;\n",
       "                    }\n",
       "                }\n",
       "            }, 500);\n",
       "            "
      ],
      "text/plain": [
       "<IPython.core.display.Javascript object>"
      ]
     },
     "metadata": {},
     "output_type": "display_data"
    }
   ],
   "source": [
    "pmf.sum()"
   ]
  },
  {
   "cell_type": "markdown",
   "id": "bce848f1",
   "metadata": {},
   "source": [
    "The `normalize` method renormalizes the `Pmf` by dividing through by the sum -- and returning the sum. "
   ]
  },
  {
   "cell_type": "code",
   "execution_count": 16,
   "id": "a06845d8",
   "metadata": {},
   "outputs": [
    {
     "data": {
      "text/plain": [
       "0.8500000000000001"
      ]
     },
     "execution_count": 16,
     "metadata": {},
     "output_type": "execute_result"
    },
    {
     "data": {
      "application/javascript": [
       "\n",
       "            setTimeout(function() {\n",
       "                var nbb_cell_id = 16;\n",
       "                var nbb_unformatted_code = \"pmf.normalize()\";\n",
       "                var nbb_formatted_code = \"pmf.normalize()\";\n",
       "                var nbb_cells = Jupyter.notebook.get_cells();\n",
       "                for (var i = 0; i < nbb_cells.length; ++i) {\n",
       "                    if (nbb_cells[i].input_prompt_number == nbb_cell_id) {\n",
       "                        if (nbb_cells[i].get_text() == nbb_unformatted_code) {\n",
       "                             nbb_cells[i].set_text(nbb_formatted_code);\n",
       "                        }\n",
       "                        break;\n",
       "                    }\n",
       "                }\n",
       "            }, 500);\n",
       "            "
      ],
      "text/plain": [
       "<IPython.core.display.Javascript object>"
      ]
     },
     "metadata": {},
     "output_type": "display_data"
    }
   ],
   "source": [
    "pmf.normalize()"
   ]
  },
  {
   "cell_type": "markdown",
   "id": "4ae297e6",
   "metadata": {},
   "source": [
    "`Pmf` objects provide a `copy` method so you can make and modify a copy without affecting the original."
   ]
  },
  {
   "cell_type": "code",
   "execution_count": 17,
   "id": "7738244e",
   "metadata": {},
   "outputs": [
    {
     "data": {
      "text/html": [
       "<div>\n",
       "<style scoped>\n",
       "    .dataframe tbody tr th:only-of-type {\n",
       "        vertical-align: middle;\n",
       "    }\n",
       "\n",
       "    .dataframe tbody tr th {\n",
       "        vertical-align: top;\n",
       "    }\n",
       "\n",
       "    .dataframe thead th {\n",
       "        text-align: right;\n",
       "    }\n",
       "</style>\n",
       "<table border=\"1\" class=\"dataframe\">\n",
       "  <thead>\n",
       "    <tr style=\"text-align: right;\">\n",
       "      <th></th>\n",
       "      <th>probs</th>\n",
       "    </tr>\n",
       "  </thead>\n",
       "  <tbody>\n",
       "    <tr>\n",
       "      <th>1</th>\n",
       "      <td>0.235294</td>\n",
       "    </tr>\n",
       "    <tr>\n",
       "      <th>2</th>\n",
       "      <td>0.294118</td>\n",
       "    </tr>\n",
       "    <tr>\n",
       "      <th>3</th>\n",
       "      <td>0.235294</td>\n",
       "    </tr>\n",
       "    <tr>\n",
       "      <th>5</th>\n",
       "      <td>0.235294</td>\n",
       "    </tr>\n",
       "  </tbody>\n",
       "</table>\n",
       "</div>"
      ],
      "text/plain": [
       "1    0.235294\n",
       "2    0.294118\n",
       "3    0.235294\n",
       "5    0.235294\n",
       "Name: , dtype: float64"
      ]
     },
     "execution_count": 17,
     "metadata": {},
     "output_type": "execute_result"
    },
    {
     "data": {
      "application/javascript": [
       "\n",
       "            setTimeout(function() {\n",
       "                var nbb_cell_id = 17;\n",
       "                var nbb_unformatted_code = \"pmf.copy()\";\n",
       "                var nbb_formatted_code = \"pmf.copy()\";\n",
       "                var nbb_cells = Jupyter.notebook.get_cells();\n",
       "                for (var i = 0; i < nbb_cells.length; ++i) {\n",
       "                    if (nbb_cells[i].input_prompt_number == nbb_cell_id) {\n",
       "                        if (nbb_cells[i].get_text() == nbb_unformatted_code) {\n",
       "                             nbb_cells[i].set_text(nbb_formatted_code);\n",
       "                        }\n",
       "                        break;\n",
       "                    }\n",
       "                }\n",
       "            }, 500);\n",
       "            "
      ],
      "text/plain": [
       "<IPython.core.display.Javascript object>"
      ]
     },
     "metadata": {},
     "output_type": "display_data"
    }
   ],
   "source": [
    "pmf.copy()"
   ]
  },
  {
   "cell_type": "markdown",
   "id": "94f5f531",
   "metadata": {},
   "source": [
    "Like a `Hist` object, a `Pmf` object has a `qs` attribute that accesses the quantities and a `ps` attribute that accesses the probabilities.\n",
    "\n",
    "It also has a `bar` method that plots the `Pmf` as a bar graph and a `plot` method that plots it as a line graph."
   ]
  },
  {
   "cell_type": "markdown",
   "id": "3e77da45",
   "metadata": {},
   "source": [
    "## Summary Statistics\n",
    "\n",
    "In Section XXX we computed the mean of a sample by adding up the elements and dividing by `n`.\n",
    "Here's a simple example."
   ]
  },
  {
   "cell_type": "code",
   "execution_count": 18,
   "id": "07579612",
   "metadata": {},
   "outputs": [
    {
     "data": {
      "text/plain": [
       "2.6"
      ]
     },
     "execution_count": 18,
     "metadata": {},
     "output_type": "execute_result"
    },
    {
     "data": {
      "application/javascript": [
       "\n",
       "            setTimeout(function() {\n",
       "                var nbb_cell_id = 18;\n",
       "                var nbb_unformatted_code = \"seq = [1, 2, 2, 3, 5]\\n\\nmean = np.sum(seq) / len(seq)\\nmean\";\n",
       "                var nbb_formatted_code = \"seq = [1, 2, 2, 3, 5]\\n\\nmean = np.sum(seq) / len(seq)\\nmean\";\n",
       "                var nbb_cells = Jupyter.notebook.get_cells();\n",
       "                for (var i = 0; i < nbb_cells.length; ++i) {\n",
       "                    if (nbb_cells[i].input_prompt_number == nbb_cell_id) {\n",
       "                        if (nbb_cells[i].get_text() == nbb_unformatted_code) {\n",
       "                             nbb_cells[i].set_text(nbb_formatted_code);\n",
       "                        }\n",
       "                        break;\n",
       "                    }\n",
       "                }\n",
       "            }, 500);\n",
       "            "
      ],
      "text/plain": [
       "<IPython.core.display.Javascript object>"
      ]
     },
     "metadata": {},
     "output_type": "display_data"
    }
   ],
   "source": [
    "seq = [1, 2, 2, 3, 5]\n",
    "\n",
    "mean = np.sum(seq) / len(seq)\n",
    "mean"
   ]
  },
  {
   "cell_type": "markdown",
   "id": "7ca46b48",
   "metadata": {},
   "source": [
    "Now suppose we compute the PMF of the values in the sequence."
   ]
  },
  {
   "cell_type": "code",
   "execution_count": 19,
   "id": "fa1ca2c9",
   "metadata": {},
   "outputs": [
    {
     "data": {
      "application/javascript": [
       "\n",
       "            setTimeout(function() {\n",
       "                var nbb_cell_id = 19;\n",
       "                var nbb_unformatted_code = \"pmf = Pmf.from_seq(seq)\";\n",
       "                var nbb_formatted_code = \"pmf = Pmf.from_seq(seq)\";\n",
       "                var nbb_cells = Jupyter.notebook.get_cells();\n",
       "                for (var i = 0; i < nbb_cells.length; ++i) {\n",
       "                    if (nbb_cells[i].input_prompt_number == nbb_cell_id) {\n",
       "                        if (nbb_cells[i].get_text() == nbb_unformatted_code) {\n",
       "                             nbb_cells[i].set_text(nbb_formatted_code);\n",
       "                        }\n",
       "                        break;\n",
       "                    }\n",
       "                }\n",
       "            }, 500);\n",
       "            "
      ],
      "text/plain": [
       "<IPython.core.display.Javascript object>"
      ]
     },
     "metadata": {},
     "output_type": "display_data"
    }
   ],
   "source": [
    "pmf = Pmf.from_seq(seq)"
   ]
  },
  {
   "cell_type": "markdown",
   "id": "ea4a034d",
   "metadata": {},
   "source": [
    "Given the `Pmf`, we can still compute the mean, but the process is different -- we have to multiply the probabilities and quantities and add up the products."
   ]
  },
  {
   "cell_type": "code",
   "execution_count": 20,
   "id": "f73de148",
   "metadata": {},
   "outputs": [
    {
     "data": {
      "text/plain": [
       "2.6"
      ]
     },
     "execution_count": 20,
     "metadata": {},
     "output_type": "execute_result"
    },
    {
     "data": {
      "application/javascript": [
       "\n",
       "            setTimeout(function() {\n",
       "                var nbb_cell_id = 20;\n",
       "                var nbb_unformatted_code = \"mean = np.sum(pmf.ps * pmf.qs)\\nmean\";\n",
       "                var nbb_formatted_code = \"mean = np.sum(pmf.ps * pmf.qs)\\nmean\";\n",
       "                var nbb_cells = Jupyter.notebook.get_cells();\n",
       "                for (var i = 0; i < nbb_cells.length; ++i) {\n",
       "                    if (nbb_cells[i].input_prompt_number == nbb_cell_id) {\n",
       "                        if (nbb_cells[i].get_text() == nbb_unformatted_code) {\n",
       "                             nbb_cells[i].set_text(nbb_formatted_code);\n",
       "                        }\n",
       "                        break;\n",
       "                    }\n",
       "                }\n",
       "            }, 500);\n",
       "            "
      ],
      "text/plain": [
       "<IPython.core.display.Javascript object>"
      ]
     },
     "metadata": {},
     "output_type": "display_data"
    }
   ],
   "source": [
    "mean = np.sum(pmf.ps * pmf.qs)\n",
    "mean"
   ]
  },
  {
   "cell_type": "markdown",
   "id": "b7913b14",
   "metadata": {},
   "source": [
    "The `mean` method does the same thing."
   ]
  },
  {
   "cell_type": "code",
   "execution_count": 21,
   "id": "b7a352d8",
   "metadata": {},
   "outputs": [
    {
     "data": {
      "text/plain": [
       "2.6"
      ]
     },
     "execution_count": 21,
     "metadata": {},
     "output_type": "execute_result"
    },
    {
     "data": {
      "application/javascript": [
       "\n",
       "            setTimeout(function() {\n",
       "                var nbb_cell_id = 21;\n",
       "                var nbb_unformatted_code = \"pmf.mean()\";\n",
       "                var nbb_formatted_code = \"pmf.mean()\";\n",
       "                var nbb_cells = Jupyter.notebook.get_cells();\n",
       "                for (var i = 0; i < nbb_cells.length; ++i) {\n",
       "                    if (nbb_cells[i].input_prompt_number == nbb_cell_id) {\n",
       "                        if (nbb_cells[i].get_text() == nbb_unformatted_code) {\n",
       "                             nbb_cells[i].set_text(nbb_formatted_code);\n",
       "                        }\n",
       "                        break;\n",
       "                    }\n",
       "                }\n",
       "            }, 500);\n",
       "            "
      ],
      "text/plain": [
       "<IPython.core.display.Javascript object>"
      ]
     },
     "metadata": {},
     "output_type": "display_data"
    }
   ],
   "source": [
    "pmf.mean()"
   ]
  },
  {
   "cell_type": "markdown",
   "id": "444f74bd",
   "metadata": {},
   "source": [
    "Notice that we *don't* have to divide by `n`, because we already did that when we normalized the `Pmf`.\n",
    "\n",
    "Give a `Pmf`, we can compute the variance by computing the deviation of each quantity from the mean."
   ]
  },
  {
   "cell_type": "code",
   "execution_count": 22,
   "id": "06ecd356",
   "metadata": {},
   "outputs": [
    {
     "data": {
      "application/javascript": [
       "\n",
       "            setTimeout(function() {\n",
       "                var nbb_cell_id = 22;\n",
       "                var nbb_unformatted_code = \"deviations = pmf.qs - mean\";\n",
       "                var nbb_formatted_code = \"deviations = pmf.qs - mean\";\n",
       "                var nbb_cells = Jupyter.notebook.get_cells();\n",
       "                for (var i = 0; i < nbb_cells.length; ++i) {\n",
       "                    if (nbb_cells[i].input_prompt_number == nbb_cell_id) {\n",
       "                        if (nbb_cells[i].get_text() == nbb_unformatted_code) {\n",
       "                             nbb_cells[i].set_text(nbb_formatted_code);\n",
       "                        }\n",
       "                        break;\n",
       "                    }\n",
       "                }\n",
       "            }, 500);\n",
       "            "
      ],
      "text/plain": [
       "<IPython.core.display.Javascript object>"
      ]
     },
     "metadata": {},
     "output_type": "display_data"
    }
   ],
   "source": [
    "deviations = pmf.qs - mean"
   ]
  },
  {
   "cell_type": "markdown",
   "id": "b4a01857",
   "metadata": {},
   "source": [
    "Then we multiply the squared deviations by the probabilities and add up the products."
   ]
  },
  {
   "cell_type": "code",
   "execution_count": 23,
   "id": "bd600815",
   "metadata": {},
   "outputs": [
    {
     "data": {
      "text/plain": [
       "1.84"
      ]
     },
     "execution_count": 23,
     "metadata": {},
     "output_type": "execute_result"
    },
    {
     "data": {
      "application/javascript": [
       "\n",
       "            setTimeout(function() {\n",
       "                var nbb_cell_id = 23;\n",
       "                var nbb_unformatted_code = \"var = np.sum(pmf.ps * deviations**2)\\nvar\";\n",
       "                var nbb_formatted_code = \"var = np.sum(pmf.ps * deviations**2)\\nvar\";\n",
       "                var nbb_cells = Jupyter.notebook.get_cells();\n",
       "                for (var i = 0; i < nbb_cells.length; ++i) {\n",
       "                    if (nbb_cells[i].input_prompt_number == nbb_cell_id) {\n",
       "                        if (nbb_cells[i].get_text() == nbb_unformatted_code) {\n",
       "                             nbb_cells[i].set_text(nbb_formatted_code);\n",
       "                        }\n",
       "                        break;\n",
       "                    }\n",
       "                }\n",
       "            }, 500);\n",
       "            "
      ],
      "text/plain": [
       "<IPython.core.display.Javascript object>"
      ]
     },
     "metadata": {},
     "output_type": "display_data"
    }
   ],
   "source": [
    "var = np.sum(pmf.ps * deviations**2)\n",
    "var"
   ]
  },
  {
   "cell_type": "markdown",
   "id": "f8a9a9b6",
   "metadata": {},
   "source": [
    "The `var` method does the same thing."
   ]
  },
  {
   "cell_type": "code",
   "execution_count": 24,
   "id": "a220d0e6",
   "metadata": {},
   "outputs": [
    {
     "data": {
      "text/plain": [
       "1.84"
      ]
     },
     "execution_count": 24,
     "metadata": {},
     "output_type": "execute_result"
    },
    {
     "data": {
      "application/javascript": [
       "\n",
       "            setTimeout(function() {\n",
       "                var nbb_cell_id = 24;\n",
       "                var nbb_unformatted_code = \"pmf.var()\";\n",
       "                var nbb_formatted_code = \"pmf.var()\";\n",
       "                var nbb_cells = Jupyter.notebook.get_cells();\n",
       "                for (var i = 0; i < nbb_cells.length; ++i) {\n",
       "                    if (nbb_cells[i].input_prompt_number == nbb_cell_id) {\n",
       "                        if (nbb_cells[i].get_text() == nbb_unformatted_code) {\n",
       "                             nbb_cells[i].set_text(nbb_formatted_code);\n",
       "                        }\n",
       "                        break;\n",
       "                    }\n",
       "                }\n",
       "            }, 500);\n",
       "            "
      ],
      "text/plain": [
       "<IPython.core.display.Javascript object>"
      ]
     },
     "metadata": {},
     "output_type": "display_data"
    }
   ],
   "source": [
    "pmf.var()"
   ]
  },
  {
   "cell_type": "markdown",
   "id": "9a1c2c57",
   "metadata": {},
   "source": [
    "From the variance, we can compute the standard deviation in the usual way."
   ]
  },
  {
   "cell_type": "code",
   "execution_count": 25,
   "id": "5e152cda",
   "metadata": {},
   "outputs": [
    {
     "data": {
      "text/plain": [
       "1.3564659966250536"
      ]
     },
     "execution_count": 25,
     "metadata": {},
     "output_type": "execute_result"
    },
    {
     "data": {
      "application/javascript": [
       "\n",
       "            setTimeout(function() {\n",
       "                var nbb_cell_id = 25;\n",
       "                var nbb_unformatted_code = \"np.sqrt(var)\";\n",
       "                var nbb_formatted_code = \"np.sqrt(var)\";\n",
       "                var nbb_cells = Jupyter.notebook.get_cells();\n",
       "                for (var i = 0; i < nbb_cells.length; ++i) {\n",
       "                    if (nbb_cells[i].input_prompt_number == nbb_cell_id) {\n",
       "                        if (nbb_cells[i].get_text() == nbb_unformatted_code) {\n",
       "                             nbb_cells[i].set_text(nbb_formatted_code);\n",
       "                        }\n",
       "                        break;\n",
       "                    }\n",
       "                }\n",
       "            }, 500);\n",
       "            "
      ],
      "text/plain": [
       "<IPython.core.display.Javascript object>"
      ]
     },
     "metadata": {},
     "output_type": "display_data"
    }
   ],
   "source": [
    "np.sqrt(var)"
   ]
  },
  {
   "cell_type": "markdown",
   "id": "f2accd22",
   "metadata": {},
   "source": [
    "Or the `std` method does the same thing."
   ]
  },
  {
   "cell_type": "code",
   "execution_count": 26,
   "id": "e7557612",
   "metadata": {},
   "outputs": [
    {
     "data": {
      "text/plain": [
       "1.3564659966250536"
      ]
     },
     "execution_count": 26,
     "metadata": {},
     "output_type": "execute_result"
    },
    {
     "data": {
      "application/javascript": [
       "\n",
       "            setTimeout(function() {\n",
       "                var nbb_cell_id = 26;\n",
       "                var nbb_unformatted_code = \"pmf.std()\";\n",
       "                var nbb_formatted_code = \"pmf.std()\";\n",
       "                var nbb_cells = Jupyter.notebook.get_cells();\n",
       "                for (var i = 0; i < nbb_cells.length; ++i) {\n",
       "                    if (nbb_cells[i].input_prompt_number == nbb_cell_id) {\n",
       "                        if (nbb_cells[i].get_text() == nbb_unformatted_code) {\n",
       "                             nbb_cells[i].set_text(nbb_formatted_code);\n",
       "                        }\n",
       "                        break;\n",
       "                    }\n",
       "                }\n",
       "            }, 500);\n",
       "            "
      ],
      "text/plain": [
       "<IPython.core.display.Javascript object>"
      ]
     },
     "metadata": {},
     "output_type": "display_data"
    }
   ],
   "source": [
    "pmf.std()"
   ]
  },
  {
   "cell_type": "markdown",
   "id": "6645531f",
   "metadata": {},
   "source": [
    "`Pmf` also provides a `mode` method that finds the value with the highest probability."
   ]
  },
  {
   "cell_type": "code",
   "execution_count": 27,
   "id": "19405109",
   "metadata": {},
   "outputs": [
    {
     "data": {
      "text/plain": [
       "2"
      ]
     },
     "execution_count": 27,
     "metadata": {},
     "output_type": "execute_result"
    },
    {
     "data": {
      "application/javascript": [
       "\n",
       "            setTimeout(function() {\n",
       "                var nbb_cell_id = 27;\n",
       "                var nbb_unformatted_code = \"pmf.mode()\";\n",
       "                var nbb_formatted_code = \"pmf.mode()\";\n",
       "                var nbb_cells = Jupyter.notebook.get_cells();\n",
       "                for (var i = 0; i < nbb_cells.length; ++i) {\n",
       "                    if (nbb_cells[i].input_prompt_number == nbb_cell_id) {\n",
       "                        if (nbb_cells[i].get_text() == nbb_unformatted_code) {\n",
       "                             nbb_cells[i].set_text(nbb_formatted_code);\n",
       "                        }\n",
       "                        break;\n",
       "                    }\n",
       "                }\n",
       "            }, 500);\n",
       "            "
      ],
      "text/plain": [
       "<IPython.core.display.Javascript object>"
      ]
     },
     "metadata": {},
     "output_type": "display_data"
    }
   ],
   "source": [
    "pmf.mode()"
   ]
  },
  {
   "cell_type": "markdown",
   "id": "51fc69ca",
   "metadata": {},
   "source": [
    "## The Class Size Paradox\n",
    "\n",
    "As an example of what we can do with `Pmf` objects, let's consider a phenomenon I call \"the class size paradox.\"\n",
    "\n",
    "At many American colleges and universities, the student-to-faculty ratio is about 10:1.\n",
    "But students are often surprised to discover that their average class size is bigger than 10. There are two reasons for the discrepancy:\n",
    "\n",
    "-   Students typically take 4 or 5 classes per semester, but professors often teach 1 or 2.\n",
    "\n",
    "-   The number of students who enjoy a small class is small, but the number of students in a large class is large.\n",
    "\n",
    "The first effect is obvious, at least once it is pointed out; the second is more subtle.\n",
    "Let's look at an example.\n",
    "Suppose that a college offers 65 classes in a given semester, and we are given the number of classes in each of the following size ranges."
   ]
  },
  {
   "cell_type": "code",
   "execution_count": 28,
   "id": "36fa48bc",
   "metadata": {},
   "outputs": [
    {
     "data": {
      "text/html": [
       "<div>\n",
       "<style scoped>\n",
       "    .dataframe tbody tr th:only-of-type {\n",
       "        vertical-align: middle;\n",
       "    }\n",
       "\n",
       "    .dataframe tbody tr th {\n",
       "        vertical-align: top;\n",
       "    }\n",
       "\n",
       "    .dataframe thead th {\n",
       "        text-align: right;\n",
       "    }\n",
       "</style>\n",
       "<table border=\"1\" class=\"dataframe\">\n",
       "  <thead>\n",
       "    <tr style=\"text-align: right;\">\n",
       "      <th></th>\n",
       "      <th>count</th>\n",
       "    </tr>\n",
       "    <tr>\n",
       "      <th>class size</th>\n",
       "      <th></th>\n",
       "    </tr>\n",
       "  </thead>\n",
       "  <tbody>\n",
       "    <tr>\n",
       "      <th>[5, 10)</th>\n",
       "      <td>8</td>\n",
       "    </tr>\n",
       "    <tr>\n",
       "      <th>[10, 15)</th>\n",
       "      <td>8</td>\n",
       "    </tr>\n",
       "    <tr>\n",
       "      <th>[15, 20)</th>\n",
       "      <td>14</td>\n",
       "    </tr>\n",
       "    <tr>\n",
       "      <th>[20, 25)</th>\n",
       "      <td>4</td>\n",
       "    </tr>\n",
       "    <tr>\n",
       "      <th>[25, 30)</th>\n",
       "      <td>6</td>\n",
       "    </tr>\n",
       "    <tr>\n",
       "      <th>[30, 35)</th>\n",
       "      <td>12</td>\n",
       "    </tr>\n",
       "    <tr>\n",
       "      <th>[35, 40)</th>\n",
       "      <td>8</td>\n",
       "    </tr>\n",
       "    <tr>\n",
       "      <th>[40, 45)</th>\n",
       "      <td>3</td>\n",
       "    </tr>\n",
       "    <tr>\n",
       "      <th>[45, 50)</th>\n",
       "      <td>2</td>\n",
       "    </tr>\n",
       "  </tbody>\n",
       "</table>\n",
       "</div>"
      ],
      "text/plain": [
       "            count\n",
       "class size       \n",
       "[5, 10)         8\n",
       "[10, 15)        8\n",
       "[15, 20)       14\n",
       "[20, 25)        4\n",
       "[25, 30)        6\n",
       "[30, 35)       12\n",
       "[35, 40)        8\n",
       "[40, 45)        3\n",
       "[45, 50)        2"
      ]
     },
     "execution_count": 28,
     "metadata": {},
     "output_type": "execute_result"
    },
    {
     "data": {
      "application/javascript": [
       "\n",
       "            setTimeout(function() {\n",
       "                var nbb_cell_id = 28;\n",
       "                var nbb_unformatted_code = \"ranges = pd.interval_range(start=5, end=50, freq=5, closed=\\\"left\\\")\\nranges.name = \\\"class size\\\"\\n\\ndata = pd.DataFrame(index=ranges)\\ndata[\\\"count\\\"] = [8, 8, 14, 4, 6, 12, 8, 3, 2]\\ndata\";\n",
       "                var nbb_formatted_code = \"ranges = pd.interval_range(start=5, end=50, freq=5, closed=\\\"left\\\")\\nranges.name = \\\"class size\\\"\\n\\ndata = pd.DataFrame(index=ranges)\\ndata[\\\"count\\\"] = [8, 8, 14, 4, 6, 12, 8, 3, 2]\\ndata\";\n",
       "                var nbb_cells = Jupyter.notebook.get_cells();\n",
       "                for (var i = 0; i < nbb_cells.length; ++i) {\n",
       "                    if (nbb_cells[i].input_prompt_number == nbb_cell_id) {\n",
       "                        if (nbb_cells[i].get_text() == nbb_unformatted_code) {\n",
       "                             nbb_cells[i].set_text(nbb_formatted_code);\n",
       "                        }\n",
       "                        break;\n",
       "                    }\n",
       "                }\n",
       "            }, 500);\n",
       "            "
      ],
      "text/plain": [
       "<IPython.core.display.Javascript object>"
      ]
     },
     "metadata": {},
     "output_type": "display_data"
    }
   ],
   "source": [
    "ranges = pd.interval_range(start=5, end=50, freq=5, closed=\"left\")\n",
    "ranges.name = \"class size\"\n",
    "\n",
    "data = pd.DataFrame(index=ranges)\n",
    "data[\"count\"] = [8, 8, 14, 4, 6, 12, 8, 3, 2]\n",
    "data"
   ]
  },
  {
   "cell_type": "markdown",
   "id": "2e43baa6",
   "metadata": {},
   "source": [
    "Since we don't know the sizes of the classes in each range, let's assume that all sizes are at the midpoint of the range."
   ]
  },
  {
   "cell_type": "code",
   "execution_count": 30,
   "id": "36f208f9",
   "metadata": {},
   "outputs": [
    {
     "data": {
      "text/plain": [
       "Index([7, 12, 17, 22, 27, 32, 37, 42, 47], dtype='int64')"
      ]
     },
     "execution_count": 30,
     "metadata": {},
     "output_type": "execute_result"
    },
    {
     "data": {
      "application/javascript": [
       "\n",
       "            setTimeout(function() {\n",
       "                var nbb_cell_id = 30;\n",
       "                var nbb_unformatted_code = \"sizes = ranges.left + 2\\nsizes\";\n",
       "                var nbb_formatted_code = \"sizes = ranges.left + 2\\nsizes\";\n",
       "                var nbb_cells = Jupyter.notebook.get_cells();\n",
       "                for (var i = 0; i < nbb_cells.length; ++i) {\n",
       "                    if (nbb_cells[i].input_prompt_number == nbb_cell_id) {\n",
       "                        if (nbb_cells[i].get_text() == nbb_unformatted_code) {\n",
       "                             nbb_cells[i].set_text(nbb_formatted_code);\n",
       "                        }\n",
       "                        break;\n",
       "                    }\n",
       "                }\n",
       "            }, 500);\n",
       "            "
      ],
      "text/plain": [
       "<IPython.core.display.Javascript object>"
      ]
     },
     "metadata": {},
     "output_type": "display_data"
    }
   ],
   "source": [
    "sizes = ranges.left + 2\n",
    "sizes"
   ]
  },
  {
   "cell_type": "markdown",
   "id": "7551d814",
   "metadata": {},
   "source": [
    "Now let's make a `Pmf` that represents the distribution of class sizes.\n",
    "Because we already know the frequency of each size, we don't have to use `from_seq`; instead, we can create a `Pmf` directly, passing as arguments the counts, sizes, and name.\n",
    "When we normalize the new `Pmf`, the result is the sum of the counts."
   ]
  },
  {
   "cell_type": "code",
   "execution_count": 31,
   "id": "c1db28bc",
   "metadata": {},
   "outputs": [
    {
     "data": {
      "text/plain": [
       "65"
      ]
     },
     "execution_count": 31,
     "metadata": {},
     "output_type": "execute_result"
    },
    {
     "data": {
      "application/javascript": [
       "\n",
       "            setTimeout(function() {\n",
       "                var nbb_cell_id = 31;\n",
       "                var nbb_unformatted_code = \"counts = data[\\\"count\\\"]\\nactual_pmf = Pmf(counts, sizes, name=\\\"actual\\\")\\nactual_pmf.normalize()\";\n",
       "                var nbb_formatted_code = \"counts = data[\\\"count\\\"]\\nactual_pmf = Pmf(counts, sizes, name=\\\"actual\\\")\\nactual_pmf.normalize()\";\n",
       "                var nbb_cells = Jupyter.notebook.get_cells();\n",
       "                for (var i = 0; i < nbb_cells.length; ++i) {\n",
       "                    if (nbb_cells[i].input_prompt_number == nbb_cell_id) {\n",
       "                        if (nbb_cells[i].get_text() == nbb_unformatted_code) {\n",
       "                             nbb_cells[i].set_text(nbb_formatted_code);\n",
       "                        }\n",
       "                        break;\n",
       "                    }\n",
       "                }\n",
       "            }, 500);\n",
       "            "
      ],
      "text/plain": [
       "<IPython.core.display.Javascript object>"
      ]
     },
     "metadata": {},
     "output_type": "display_data"
    }
   ],
   "source": [
    "counts = data[\"count\"]\n",
    "actual_pmf = Pmf(counts, sizes, name=\"actual\")\n",
    "actual_pmf.normalize()"
   ]
  },
  {
   "cell_type": "markdown",
   "id": "ca39aa3a",
   "metadata": {},
   "source": [
    "If you ask the college for the average class size, they report the mean of this distribution, which is 23.7."
   ]
  },
  {
   "cell_type": "code",
   "execution_count": 32,
   "id": "6f8eb2c2",
   "metadata": {},
   "outputs": [
    {
     "name": "stdout",
     "output_type": "stream",
     "text": [
      "mean 23.692307692307693\n"
     ]
    },
    {
     "data": {
      "application/javascript": [
       "\n",
       "            setTimeout(function() {\n",
       "                var nbb_cell_id = 32;\n",
       "                var nbb_unformatted_code = \"print(\\\"mean\\\", actual_pmf.mean())\";\n",
       "                var nbb_formatted_code = \"print(\\\"mean\\\", actual_pmf.mean())\";\n",
       "                var nbb_cells = Jupyter.notebook.get_cells();\n",
       "                for (var i = 0; i < nbb_cells.length; ++i) {\n",
       "                    if (nbb_cells[i].input_prompt_number == nbb_cell_id) {\n",
       "                        if (nbb_cells[i].get_text() == nbb_unformatted_code) {\n",
       "                             nbb_cells[i].set_text(nbb_formatted_code);\n",
       "                        }\n",
       "                        break;\n",
       "                    }\n",
       "                }\n",
       "            }, 500);\n",
       "            "
      ],
      "text/plain": [
       "<IPython.core.display.Javascript object>"
      ]
     },
     "metadata": {},
     "output_type": "display_data"
    }
   ],
   "source": [
    "print(\"mean\", actual_pmf.mean())"
   ]
  },
  {
   "cell_type": "markdown",
   "id": "0d22bd69",
   "metadata": {},
   "source": [
    "But if you survey a group of students, ask them how many students are in their classes, and compute the mean, the average is bigger.\n",
    "Let's see how much bigger.\n",
    "\n",
    "The following function takes the actual `Pmf` of class sizes and makes a new `Pmf` that represents the class sizes as seen by students.\n",
    "The quantities in the two distributions are the same, but the probabilities in the distribution are multiplied by the quantities, because in a class with size `x`, there are `x` students who observe that class.\n",
    "So the probability of observing a class is proportional to its size."
   ]
  },
  {
   "cell_type": "code",
   "execution_count": 33,
   "id": "3cef6126",
   "metadata": {},
   "outputs": [
    {
     "data": {
      "application/javascript": [
       "\n",
       "            setTimeout(function() {\n",
       "                var nbb_cell_id = 33;\n",
       "                var nbb_unformatted_code = \"def bias(pmf, name):\\n    qs = pmf.qs\\n    ps = pmf.ps * pmf.qs\\n\\n    new_pmf = Pmf(ps, pmf.qs, name=name)\\n    new_pmf.normalize()\\n    return new_pmf\";\n",
       "                var nbb_formatted_code = \"def bias(pmf, name):\\n    qs = pmf.qs\\n    ps = pmf.ps * pmf.qs\\n\\n    new_pmf = Pmf(ps, pmf.qs, name=name)\\n    new_pmf.normalize()\\n    return new_pmf\";\n",
       "                var nbb_cells = Jupyter.notebook.get_cells();\n",
       "                for (var i = 0; i < nbb_cells.length; ++i) {\n",
       "                    if (nbb_cells[i].input_prompt_number == nbb_cell_id) {\n",
       "                        if (nbb_cells[i].get_text() == nbb_unformatted_code) {\n",
       "                             nbb_cells[i].set_text(nbb_formatted_code);\n",
       "                        }\n",
       "                        break;\n",
       "                    }\n",
       "                }\n",
       "            }, 500);\n",
       "            "
      ],
      "text/plain": [
       "<IPython.core.display.Javascript object>"
      ]
     },
     "metadata": {},
     "output_type": "display_data"
    }
   ],
   "source": [
    "def bias(pmf, name):\n",
    "    qs = pmf.qs\n",
    "    ps = pmf.ps * pmf.qs\n",
    "\n",
    "    new_pmf = Pmf(ps, pmf.qs, name=name)\n",
    "    new_pmf.normalize()\n",
    "    return new_pmf"
   ]
  },
  {
   "cell_type": "markdown",
   "id": "f1449478",
   "metadata": {},
   "source": [
    "Now we can compute the biased `Pmf` as observed by students."
   ]
  },
  {
   "cell_type": "code",
   "execution_count": 35,
   "id": "6df3cccb",
   "metadata": {},
   "outputs": [
    {
     "data": {
      "application/javascript": [
       "\n",
       "            setTimeout(function() {\n",
       "                var nbb_cell_id = 35;\n",
       "                var nbb_unformatted_code = \"observed_pmf = bias(actual_pmf, name=\\\"observed\\\")\";\n",
       "                var nbb_formatted_code = \"observed_pmf = bias(actual_pmf, name=\\\"observed\\\")\";\n",
       "                var nbb_cells = Jupyter.notebook.get_cells();\n",
       "                for (var i = 0; i < nbb_cells.length; ++i) {\n",
       "                    if (nbb_cells[i].input_prompt_number == nbb_cell_id) {\n",
       "                        if (nbb_cells[i].get_text() == nbb_unformatted_code) {\n",
       "                             nbb_cells[i].set_text(nbb_formatted_code);\n",
       "                        }\n",
       "                        break;\n",
       "                    }\n",
       "                }\n",
       "            }, 500);\n",
       "            "
      ],
      "text/plain": [
       "<IPython.core.display.Javascript object>"
      ]
     },
     "metadata": {},
     "output_type": "display_data"
    }
   ],
   "source": [
    "observed_pmf = bias(actual_pmf, name=\"observed\")"
   ]
  },
  {
   "cell_type": "markdown",
   "id": "e96df61b",
   "metadata": {},
   "source": [
    "Here's what the two distributions look like."
   ]
  },
  {
   "cell_type": "code",
   "execution_count": 36,
   "id": "1c2b81d9",
   "metadata": {},
   "outputs": [
    {
     "data": {
      "image/png": "[encoded data removed]",
      "text/plain": [
       "<Figure size 640x480 with 1 Axes>"
      ]
     },
     "metadata": {},
     "output_type": "display_data"
    },
    {
     "data": {
      "application/javascript": [
       "\n",
       "            setTimeout(function() {\n",
       "                var nbb_cell_id = 36;\n",
       "                var nbb_unformatted_code = \"from thinkstats import two_bar_plots\\n\\ntwo_bar_plots(actual_pmf, observed_pmf, width=2)\\ndecorate(xlabel=\\\"Class size\\\", ylabel=\\\"PMF\\\")\";\n",
       "                var nbb_formatted_code = \"from thinkstats import two_bar_plots\\n\\ntwo_bar_plots(actual_pmf, observed_pmf, width=2)\\ndecorate(xlabel=\\\"Class size\\\", ylabel=\\\"PMF\\\")\";\n",
       "                var nbb_cells = Jupyter.notebook.get_cells();\n",
       "                for (var i = 0; i < nbb_cells.length; ++i) {\n",
       "                    if (nbb_cells[i].input_prompt_number == nbb_cell_id) {\n",
       "                        if (nbb_cells[i].get_text() == nbb_unformatted_code) {\n",
       "                             nbb_cells[i].set_text(nbb_formatted_code);\n",
       "                        }\n",
       "                        break;\n",
       "                    }\n",
       "                }\n",
       "            }, 500);\n",
       "            "
      ],
      "text/plain": [
       "<IPython.core.display.Javascript object>"
      ]
     },
     "metadata": {},
     "output_type": "display_data"
    }
   ],
   "source": [
    "from thinkstats import two_bar_plots\n",
    "\n",
    "two_bar_plots(actual_pmf, observed_pmf, width=2)\n",
    "decorate(xlabel=\"Class size\", ylabel=\"PMF\")"
   ]
  },
  {
   "cell_type": "markdown",
   "id": "2842ea59",
   "metadata": {},
   "source": [
    "In the observed distribution there are fewer small classes and more large ones.\n",
    "And the mean is 29.1, almost 25% higher than the actual mean."
   ]
  },
  {
   "cell_type": "code",
   "execution_count": 37,
   "id": "61623eb5",
   "metadata": {},
   "outputs": [
    {
     "data": {
      "text/plain": [
       "29.123376623376622"
      ]
     },
     "execution_count": 37,
     "metadata": {},
     "output_type": "execute_result"
    },
    {
     "data": {
      "application/javascript": [
       "\n",
       "            setTimeout(function() {\n",
       "                var nbb_cell_id = 37;\n",
       "                var nbb_unformatted_code = \"observed_pmf.mean()\";\n",
       "                var nbb_formatted_code = \"observed_pmf.mean()\";\n",
       "                var nbb_cells = Jupyter.notebook.get_cells();\n",
       "                for (var i = 0; i < nbb_cells.length; ++i) {\n",
       "                    if (nbb_cells[i].input_prompt_number == nbb_cell_id) {\n",
       "                        if (nbb_cells[i].get_text() == nbb_unformatted_code) {\n",
       "                             nbb_cells[i].set_text(nbb_formatted_code);\n",
       "                        }\n",
       "                        break;\n",
       "                    }\n",
       "                }\n",
       "            }, 500);\n",
       "            "
      ],
      "text/plain": [
       "<IPython.core.display.Javascript object>"
      ]
     },
     "metadata": {},
     "output_type": "display_data"
    }
   ],
   "source": [
    "observed_pmf.mean()"
   ]
  },
  {
   "cell_type": "markdown",
   "id": "d6820e00",
   "metadata": {},
   "source": [
    "It is also possible to invert this operation.\n",
    "Suppose you want to find the distribution of class sizes at a college, but you can't get reliable data.\n",
    "One option is to choose a random sample of students and ask how many students are in their classes.\n",
    "\n",
    "The result would be biased for the reasons we've just seen, but you can use it to estimate the actual distribution.\n",
    "Here's the function that unbiases a `Pmf` by dividing the probabilities by the sizes."
   ]
  },
  {
   "cell_type": "code",
   "execution_count": 38,
   "id": "4c52202b",
   "metadata": {},
   "outputs": [
    {
     "data": {
      "application/javascript": [
       "\n",
       "            setTimeout(function() {\n",
       "                var nbb_cell_id = 38;\n",
       "                var nbb_unformatted_code = \"def unbias(pmf, name):\\n    qs = pmf.qs\\n    ps = pmf.ps / pmf.qs\\n\\n    new_pmf = Pmf(ps, pmf.qs, name=name)\\n    new_pmf.normalize()\\n    return new_pmf\";\n",
       "                var nbb_formatted_code = \"def unbias(pmf, name):\\n    qs = pmf.qs\\n    ps = pmf.ps / pmf.qs\\n\\n    new_pmf = Pmf(ps, pmf.qs, name=name)\\n    new_pmf.normalize()\\n    return new_pmf\";\n",
       "                var nbb_cells = Jupyter.notebook.get_cells();\n",
       "                for (var i = 0; i < nbb_cells.length; ++i) {\n",
       "                    if (nbb_cells[i].input_prompt_number == nbb_cell_id) {\n",
       "                        if (nbb_cells[i].get_text() == nbb_unformatted_code) {\n",
       "                             nbb_cells[i].set_text(nbb_formatted_code);\n",
       "                        }\n",
       "                        break;\n",
       "                    }\n",
       "                }\n",
       "            }, 500);\n",
       "            "
      ],
      "text/plain": [
       "<IPython.core.display.Javascript object>"
      ]
     },
     "metadata": {},
     "output_type": "display_data"
    }
   ],
   "source": [
    "def unbias(pmf, name):\n",
    "    qs = pmf.qs\n",
    "    ps = pmf.ps / pmf.qs\n",
    "\n",
    "    new_pmf = Pmf(ps, pmf.qs, name=name)\n",
    "    new_pmf.normalize()\n",
    "    return new_pmf"
   ]
  },
  {
   "cell_type": "markdown",
   "id": "9728cc41",
   "metadata": {},
   "source": [
    "And here's the result."
   ]
  },
  {
   "cell_type": "code",
   "execution_count": 39,
   "id": "e69c6e88",
   "metadata": {},
   "outputs": [
    {
     "data": {
      "text/plain": [
       "23.692307692307693"
      ]
     },
     "execution_count": 39,
     "metadata": {},
     "output_type": "execute_result"
    },
    {
     "data": {
      "application/javascript": [
       "\n",
       "            setTimeout(function() {\n",
       "                var nbb_cell_id = 39;\n",
       "                var nbb_unformatted_code = \"debiased_pmf = unbias(observed_pmf, \\\"debiased\\\")\\ndebiased_pmf.mean()\";\n",
       "                var nbb_formatted_code = \"debiased_pmf = unbias(observed_pmf, \\\"debiased\\\")\\ndebiased_pmf.mean()\";\n",
       "                var nbb_cells = Jupyter.notebook.get_cells();\n",
       "                for (var i = 0; i < nbb_cells.length; ++i) {\n",
       "                    if (nbb_cells[i].input_prompt_number == nbb_cell_id) {\n",
       "                        if (nbb_cells[i].get_text() == nbb_unformatted_code) {\n",
       "                             nbb_cells[i].set_text(nbb_formatted_code);\n",
       "                        }\n",
       "                        break;\n",
       "                    }\n",
       "                }\n",
       "            }, 500);\n",
       "            "
      ],
      "text/plain": [
       "<IPython.core.display.Javascript object>"
      ]
     },
     "metadata": {},
     "output_type": "display_data"
    }
   ],
   "source": [
    "debiased_pmf = unbias(observed_pmf, \"debiased\")\n",
    "debiased_pmf.mean()"
   ]
  },
  {
   "cell_type": "markdown",
   "id": "d9b23744",
   "metadata": {},
   "source": [
    "The mean of the debiased `Pmf` is the same as the mean of the actual distribution we started with.\n",
    "If you think this example is interesting, you might like Chapter 2 of *Probably Overthinking It*, which includes this and several other examples of what's called the \"inspection paradox\"."
   ]
  },
  {
   "cell_type": "markdown",
   "id": "089ffa11",
   "metadata": {},
   "source": [
    "## NSFG Data\n",
    "\n",
    "In the previous chapter, we plotting histograms for the distributions of pregnancy lengths for first babies and others.\n",
    "But the sizes of the groups are not the same, so we can't compare the histograms directly.\n",
    "Because PMFs are normalized so they add up to 1, we can compare them."
   ]
  },
  {
   "cell_type": "code",
   "execution_count": 40,
   "id": "7deaf238",
   "metadata": {},
   "outputs": [
    {
     "data": {
      "application/javascript": [
       "\n",
       "            setTimeout(function() {\n",
       "                var nbb_cell_id = 40;\n",
       "                var nbb_unformatted_code = \"download(\\\"https://github.com/AllenDowney/ThinkStats/raw/v3/nb/nsfg.py\\\")\\ndownload(\\\"https://github.com/AllenDowney/ThinkStats/raw/v3/data/2002FemPreg.dct\\\")\\ndownload(\\\"https://github.com/AllenDowney/ThinkStats/raw/v3/data/2002FemPreg.dat.gz\\\")\";\n",
       "                var nbb_formatted_code = \"download(\\\"https://github.com/AllenDowney/ThinkStats/raw/v3/nb/nsfg.py\\\")\\ndownload(\\\"https://github.com/AllenDowney/ThinkStats/raw/v3/data/2002FemPreg.dct\\\")\\ndownload(\\\"https://github.com/AllenDowney/ThinkStats/raw/v3/data/2002FemPreg.dat.gz\\\")\";\n",
       "                var nbb_cells = Jupyter.notebook.get_cells();\n",
       "                for (var i = 0; i < nbb_cells.length; ++i) {\n",
       "                    if (nbb_cells[i].input_prompt_number == nbb_cell_id) {\n",
       "                        if (nbb_cells[i].get_text() == nbb_unformatted_code) {\n",
       "                             nbb_cells[i].set_text(nbb_formatted_code);\n",
       "                        }\n",
       "                        break;\n",
       "                    }\n",
       "                }\n",
       "            }, 500);\n",
       "            "
      ],
      "text/plain": [
       "<IPython.core.display.Javascript object>"
      ]
     },
     "metadata": {},
     "output_type": "display_data"
    }
   ],
   "source": [
    "download(\"https://github.com/AllenDowney/ThinkStats/raw/v3/nb/nsfg.py\")\n",
    "download(\"https://github.com/AllenDowney/ThinkStats/raw/v3/data/2002FemPreg.dct\")\n",
    "download(\"https://github.com/AllenDowney/ThinkStats/raw/v3/data/2002FemPreg.dat.gz\")"
   ]
  },
  {
   "cell_type": "markdown",
   "id": "550534f3",
   "metadata": {},
   "source": [
    "Again, we can use `read_fem_preg` to read the pregnancy file and use the `query` method to select live births."
   ]
  },
  {
   "cell_type": "markdown",
   "id": "1b94e467",
   "metadata": {},
   "source": [
    "We can use `birthord` to separate first babies and others into two groups."
   ]
  },
  {
   "cell_type": "code",
   "execution_count": 63,
   "id": "945aea2d",
   "metadata": {},
   "outputs": [
    {
     "data": {
      "application/javascript": [
       "\n",
       "            setTimeout(function() {\n",
       "                var nbb_cell_id = 63;\n",
       "                var nbb_unformatted_code = \"from nsfg import read_fem_preg\\n\\ndef get_nsfg_groups():\\n    preg = read_fem_preg()\\n    live = preg.query(\\\"outcome == 1\\\")\\n    firsts = live.query(\\\"birthord == 1\\\")\\n    others = live.query(\\\"birthord != 1\\\")\\n    return live, firsts, others\";\n",
       "                var nbb_formatted_code = \"from nsfg import read_fem_preg\\n\\n\\ndef get_nsfg_groups():\\n    preg = read_fem_preg()\\n    live = preg.query(\\\"outcome == 1\\\")\\n    firsts = live.query(\\\"birthord == 1\\\")\\n    others = live.query(\\\"birthord != 1\\\")\\n    return live, firsts, others\";\n",
       "                var nbb_cells = Jupyter.notebook.get_cells();\n",
       "                for (var i = 0; i < nbb_cells.length; ++i) {\n",
       "                    if (nbb_cells[i].input_prompt_number == nbb_cell_id) {\n",
       "                        if (nbb_cells[i].get_text() == nbb_unformatted_code) {\n",
       "                             nbb_cells[i].set_text(nbb_formatted_code);\n",
       "                        }\n",
       "                        break;\n",
       "                    }\n",
       "                }\n",
       "            }, 500);\n",
       "            "
      ],
      "text/plain": [
       "<IPython.core.display.Javascript object>"
      ]
     },
     "metadata": {},
     "output_type": "display_data"
    }
   ],
   "source": [
    "from nsfg import read_fem_preg\n",
    "\n",
    "\n",
    "def get_nsfg_groups():\n",
    "    \"\"\"Read the NSFG pregnancy file and split into groups.\n",
    "    \n",
    "    returns: all live births, first babies, other babies\n",
    "    \"\"\"\n",
    "    preg = read_fem_preg()\n",
    "    live = preg.query(\"outcome == 1\")\n",
    "    firsts = live.query(\"birthord == 1\")\n",
    "    others = live.query(\"birthord != 1\")\n",
    "    return live, firsts, others"
   ]
  },
  {
   "cell_type": "code",
   "execution_count": 64,
   "id": "4424061e",
   "metadata": {},
   "outputs": [
    {
     "data": {
      "application/javascript": [
       "\n",
       "            setTimeout(function() {\n",
       "                var nbb_cell_id = 64;\n",
       "                var nbb_unformatted_code = \"live, firsts, others = get_nsfg_groups()\";\n",
       "                var nbb_formatted_code = \"live, firsts, others = get_nsfg_groups()\";\n",
       "                var nbb_cells = Jupyter.notebook.get_cells();\n",
       "                for (var i = 0; i < nbb_cells.length; ++i) {\n",
       "                    if (nbb_cells[i].input_prompt_number == nbb_cell_id) {\n",
       "                        if (nbb_cells[i].get_text() == nbb_unformatted_code) {\n",
       "                             nbb_cells[i].set_text(nbb_formatted_code);\n",
       "                        }\n",
       "                        break;\n",
       "                    }\n",
       "                }\n",
       "            }, 500);\n",
       "            "
      ],
      "text/plain": [
       "<IPython.core.display.Javascript object>"
      ]
     },
     "metadata": {},
     "output_type": "display_data"
    }
   ],
   "source": [
    "live, firsts, others = get_nsfg_groups()"
   ]
  },
  {
   "cell_type": "markdown",
   "id": "db6ed39a",
   "metadata": {},
   "source": [
    "And make a `Pmf` for the pregnancy lengths in each group."
   ]
  },
  {
   "cell_type": "code",
   "execution_count": 43,
   "id": "900062cf",
   "metadata": {},
   "outputs": [
    {
     "data": {
      "application/javascript": [
       "\n",
       "            setTimeout(function() {\n",
       "                var nbb_cell_id = 43;\n",
       "                var nbb_unformatted_code = \"first_pmf = Pmf.from_seq(firsts[\\\"prglngth\\\"], name=\\\"firsts\\\")\\nother_pmf = Pmf.from_seq(others[\\\"prglngth\\\"], name=\\\"others\\\")\";\n",
       "                var nbb_formatted_code = \"first_pmf = Pmf.from_seq(firsts[\\\"prglngth\\\"], name=\\\"firsts\\\")\\nother_pmf = Pmf.from_seq(others[\\\"prglngth\\\"], name=\\\"others\\\")\";\n",
       "                var nbb_cells = Jupyter.notebook.get_cells();\n",
       "                for (var i = 0; i < nbb_cells.length; ++i) {\n",
       "                    if (nbb_cells[i].input_prompt_number == nbb_cell_id) {\n",
       "                        if (nbb_cells[i].get_text() == nbb_unformatted_code) {\n",
       "                             nbb_cells[i].set_text(nbb_formatted_code);\n",
       "                        }\n",
       "                        break;\n",
       "                    }\n",
       "                }\n",
       "            }, 500);\n",
       "            "
      ],
      "text/plain": [
       "<IPython.core.display.Javascript object>"
      ]
     },
     "metadata": {},
     "output_type": "display_data"
    }
   ],
   "source": [
    "first_pmf = Pmf.from_seq(firsts[\"prglngth\"], name=\"firsts\")\n",
    "other_pmf = Pmf.from_seq(others[\"prglngth\"], name=\"others\")"
   ]
  },
  {
   "cell_type": "markdown",
   "id": "26d3185a",
   "metadata": {},
   "source": [
    "Here are the PMFs of pregnancy length for first babies and others, plotted as bar graphs."
   ]
  },
  {
   "cell_type": "code",
   "execution_count": 44,
   "id": "62c91cfa",
   "metadata": {},
   "outputs": [
    {
     "data": {
      "image/png": "[encoded data removed]",
      "text/plain": [
       "<Figure size 640x480 with 1 Axes>"
      ]
     },
     "metadata": {},
     "output_type": "display_data"
    },
    {
     "data": {
      "application/javascript": [
       "\n",
       "            setTimeout(function() {\n",
       "                var nbb_cell_id = 44;\n",
       "                var nbb_unformatted_code = \"two_bar_plots(first_pmf, other_pmf)\\ndecorate(xlabel=\\\"weeks\\\", ylabel=\\\"probability\\\", xlim=[20, 50])\";\n",
       "                var nbb_formatted_code = \"two_bar_plots(first_pmf, other_pmf)\\ndecorate(xlabel=\\\"weeks\\\", ylabel=\\\"probability\\\", xlim=[20, 50])\";\n",
       "                var nbb_cells = Jupyter.notebook.get_cells();\n",
       "                for (var i = 0; i < nbb_cells.length; ++i) {\n",
       "                    if (nbb_cells[i].input_prompt_number == nbb_cell_id) {\n",
       "                        if (nbb_cells[i].get_text() == nbb_unformatted_code) {\n",
       "                             nbb_cells[i].set_text(nbb_formatted_code);\n",
       "                        }\n",
       "                        break;\n",
       "                    }\n",
       "                }\n",
       "            }, 500);\n",
       "            "
      ],
      "text/plain": [
       "<IPython.core.display.Javascript object>"
      ]
     },
     "metadata": {},
     "output_type": "display_data"
    }
   ],
   "source": [
    "two_bar_plots(first_pmf, other_pmf)\n",
    "decorate(xlabel=\"weeks\", ylabel=\"probability\", xlim=[20, 50])"
   ]
  },
  {
   "cell_type": "markdown",
   "id": "cc505018",
   "metadata": {},
   "source": [
    "By plotting the PMF instead of the histogram, we can compare the two distributions without being misled by the difference in sample size.\n",
    "Based on this figure, first babies seem to be less likely than others to arrive on time (week 39) and more likely to be late (weeks 41 and 42)."
   ]
  },
  {
   "cell_type": "markdown",
   "id": "8f2e5b2f",
   "metadata": {},
   "source": [
    "## Other Visualizations\n",
    "\n",
    "Histograms and PMFs are useful while you are exploring data and trying to identify patterns and relationships.\n",
    "Once you have an idea what is going on, a good next step is to design a visualization that makes the patterns you have identified as clear as possible.\n",
    "\n",
    "In the NSFG data, the biggest differences in the distributions are near the mode.\n",
    "So it makes sense to zoom in on that part of the graph, and select data from weeks 35 to 46.\n",
    "\n",
    "When we call a `Pmf` object like a function, we can look up a sequence of quantities and get a sequence of probabilities."
   ]
  },
  {
   "cell_type": "code",
   "execution_count": 45,
   "id": "9f134fc5",
   "metadata": {},
   "outputs": [
    {
     "data": {
      "text/plain": [
       "array([0.03602991, 0.03897575, 0.04713347, 0.06163608, 0.4790392 ,\n",
       "       0.12145932, 0.08157716, 0.04645366, 0.01971448, 0.00521187,\n",
       "       0.00135962])"
      ]
     },
     "execution_count": 45,
     "metadata": {},
     "output_type": "execute_result"
    },
    {
     "data": {
      "application/javascript": [
       "\n",
       "            setTimeout(function() {\n",
       "                var nbb_cell_id = 45;\n",
       "                var nbb_unformatted_code = \"weeks = range(35, 46)\\nfirst_pmf(weeks)\";\n",
       "                var nbb_formatted_code = \"weeks = range(35, 46)\\nfirst_pmf(weeks)\";\n",
       "                var nbb_cells = Jupyter.notebook.get_cells();\n",
       "                for (var i = 0; i < nbb_cells.length; ++i) {\n",
       "                    if (nbb_cells[i].input_prompt_number == nbb_cell_id) {\n",
       "                        if (nbb_cells[i].get_text() == nbb_unformatted_code) {\n",
       "                             nbb_cells[i].set_text(nbb_formatted_code);\n",
       "                        }\n",
       "                        break;\n",
       "                    }\n",
       "                }\n",
       "            }, 500);\n",
       "            "
      ],
      "text/plain": [
       "<IPython.core.display.Javascript object>"
      ]
     },
     "metadata": {},
     "output_type": "display_data"
    }
   ],
   "source": [
    "weeks = range(35, 46)\n",
    "first_pmf(weeks)"
   ]
  },
  {
   "cell_type": "code",
   "execution_count": 46,
   "id": "e185339f",
   "metadata": {},
   "outputs": [
    {
     "data": {
      "text/plain": [
       "array([0.03210137, 0.03146779, 0.05216473, 0.07074974, 0.54466737,\n",
       "       0.12249208, 0.04794087, 0.02597677, 0.01288279, 0.00485744,\n",
       "       0.00084477])"
      ]
     },
     "execution_count": 46,
     "metadata": {},
     "output_type": "execute_result"
    },
    {
     "data": {
      "application/javascript": [
       "\n",
       "            setTimeout(function() {\n",
       "                var nbb_cell_id = 46;\n",
       "                var nbb_unformatted_code = \"other_pmf(weeks)\";\n",
       "                var nbb_formatted_code = \"other_pmf(weeks)\";\n",
       "                var nbb_cells = Jupyter.notebook.get_cells();\n",
       "                for (var i = 0; i < nbb_cells.length; ++i) {\n",
       "                    if (nbb_cells[i].input_prompt_number == nbb_cell_id) {\n",
       "                        if (nbb_cells[i].get_text() == nbb_unformatted_code) {\n",
       "                             nbb_cells[i].set_text(nbb_formatted_code);\n",
       "                        }\n",
       "                        break;\n",
       "                    }\n",
       "                }\n",
       "            }, 500);\n",
       "            "
      ],
      "text/plain": [
       "<IPython.core.display.Javascript object>"
      ]
     },
     "metadata": {},
     "output_type": "display_data"
    }
   ],
   "source": [
    "other_pmf(weeks)"
   ]
  },
  {
   "cell_type": "markdown",
   "id": "332a7946",
   "metadata": {},
   "source": [
    "So we can compute the differences in the probabilities like this."
   ]
  },
  {
   "cell_type": "code",
   "execution_count": 47,
   "id": "36d0ba81",
   "metadata": {},
   "outputs": [
    {
     "data": {
      "text/plain": [
       "array([ 0.00392854,  0.00750796, -0.00503126, -0.00911366, -0.06562817,\n",
       "       -0.00103276,  0.03363629,  0.02047689,  0.00683169,  0.00035443,\n",
       "        0.00051485])"
      ]
     },
     "execution_count": 47,
     "metadata": {},
     "output_type": "execute_result"
    },
    {
     "data": {
      "application/javascript": [
       "\n",
       "            setTimeout(function() {\n",
       "                var nbb_cell_id = 47;\n",
       "                var nbb_unformatted_code = \"diffs = first_pmf(weeks) - other_pmf(weeks)\\ndiffs\";\n",
       "                var nbb_formatted_code = \"diffs = first_pmf(weeks) - other_pmf(weeks)\\ndiffs\";\n",
       "                var nbb_cells = Jupyter.notebook.get_cells();\n",
       "                for (var i = 0; i < nbb_cells.length; ++i) {\n",
       "                    if (nbb_cells[i].input_prompt_number == nbb_cell_id) {\n",
       "                        if (nbb_cells[i].get_text() == nbb_unformatted_code) {\n",
       "                             nbb_cells[i].set_text(nbb_formatted_code);\n",
       "                        }\n",
       "                        break;\n",
       "                    }\n",
       "                }\n",
       "            }, 500);\n",
       "            "
      ],
      "text/plain": [
       "<IPython.core.display.Javascript object>"
      ]
     },
     "metadata": {},
     "output_type": "display_data"
    }
   ],
   "source": [
    "diffs = first_pmf(weeks) - other_pmf(weeks)\n",
    "diffs"
   ]
  },
  {
   "cell_type": "markdown",
   "id": "cdad3427",
   "metadata": {},
   "source": [
    "Here's what they look like, multiplied by 100 to express the differences in percentage points."
   ]
  },
  {
   "cell_type": "code",
   "execution_count": 48,
   "id": "3f40b276",
   "metadata": {},
   "outputs": [
    {
     "data": {
      "image/png": "[encoded data removed]",
      "text/plain": [
       "<Figure size 640x480 with 1 Axes>"
      ]
     },
     "metadata": {},
     "output_type": "display_data"
    },
    {
     "data": {
      "application/javascript": [
       "\n",
       "            setTimeout(function() {\n",
       "                var nbb_cell_id = 48;\n",
       "                var nbb_unformatted_code = \"plt.bar(weeks, diffs * 100)\\ndecorate(xlabel=\\\"Weeks\\\", ylabel=\\\"Difference (percentage points)\\\")\";\n",
       "                var nbb_formatted_code = \"plt.bar(weeks, diffs * 100)\\ndecorate(xlabel=\\\"Weeks\\\", ylabel=\\\"Difference (percentage points)\\\")\";\n",
       "                var nbb_cells = Jupyter.notebook.get_cells();\n",
       "                for (var i = 0; i < nbb_cells.length; ++i) {\n",
       "                    if (nbb_cells[i].input_prompt_number == nbb_cell_id) {\n",
       "                        if (nbb_cells[i].get_text() == nbb_unformatted_code) {\n",
       "                             nbb_cells[i].set_text(nbb_formatted_code);\n",
       "                        }\n",
       "                        break;\n",
       "                    }\n",
       "                }\n",
       "            }, 500);\n",
       "            "
      ],
      "text/plain": [
       "<IPython.core.display.Javascript object>"
      ]
     },
     "metadata": {},
     "output_type": "display_data"
    }
   ],
   "source": [
    "plt.bar(weeks, diffs * 100)\n",
    "decorate(xlabel=\"Weeks\", ylabel=\"Difference (percentage points)\")"
   ]
  },
  {
   "cell_type": "markdown",
   "id": "11615bb9",
   "metadata": {},
   "source": [
    "This figure makes the pattern clearer: first babies are less likely to be born in week 39, and somewhat more likely to be born in weeks 41 and 42.\n",
    "\n",
    "For now we can't be sure this effect is real -- it might be due to random variation.\n",
    "We'll revisit that question in Chapter xxx."
   ]
  },
  {
   "cell_type": "markdown",
   "id": "93d2684e",
   "metadata": {},
   "source": [
    "## Glossary\n",
    "\n",
    "-   **Probability mass function (PMF)**: a representation of a distribution as a function that maps from values to probabilities.\n",
    "\n",
    "-   **probability**: A frequency expressed as a fraction of the sample size.\n",
    "\n",
    "-   **normalization**: The process of dividing a frequency by a sample size to get a probability.\n",
    "\n",
    "-   **index**: In a Pandas `DataFrame`, the index is a special column that contains the row labels."
   ]
  },
  {
   "cell_type": "markdown",
   "id": "e818cde9",
   "metadata": {
    "collapsed": true
   },
   "source": [
    "## Exercises\n",
    "\n",
    "For the exercises in this chapter, we'll use the NSFG respondent file, which contains one row for each respondent."
   ]
  },
  {
   "cell_type": "code",
   "execution_count": 49,
   "id": "461a9ed7",
   "metadata": {
    "tags": [
     "remove-print"
    ]
   },
   "outputs": [
    {
     "data": {
      "application/javascript": [
       "\n",
       "            setTimeout(function() {\n",
       "                var nbb_cell_id = 49;\n",
       "                var nbb_unformatted_code = \"download(\\\"https://github.com/AllenDowney/ThinkStats/raw/v3/data/2002FemResp.dct\\\")\\ndownload(\\\"https://github.com/AllenDowney/ThinkStats/raw/v3/data/2002FemResp.dat.gz\\\")\";\n",
       "                var nbb_formatted_code = \"download(\\\"https://github.com/AllenDowney/ThinkStats/raw/v3/data/2002FemResp.dct\\\")\\ndownload(\\\"https://github.com/AllenDowney/ThinkStats/raw/v3/data/2002FemResp.dat.gz\\\")\";\n",
       "                var nbb_cells = Jupyter.notebook.get_cells();\n",
       "                for (var i = 0; i < nbb_cells.length; ++i) {\n",
       "                    if (nbb_cells[i].input_prompt_number == nbb_cell_id) {\n",
       "                        if (nbb_cells[i].get_text() == nbb_unformatted_code) {\n",
       "                             nbb_cells[i].set_text(nbb_formatted_code);\n",
       "                        }\n",
       "                        break;\n",
       "                    }\n",
       "                }\n",
       "            }, 500);\n",
       "            "
      ],
      "text/plain": [
       "<IPython.core.display.Javascript object>"
      ]
     },
     "metadata": {},
     "output_type": "display_data"
    }
   ],
   "source": [
    "download(\"https://github.com/AllenDowney/ThinkStats/raw/v3/data/2002FemResp.dct\")\n",
    "download(\"https://github.com/AllenDowney/ThinkStats/raw/v3/data/2002FemResp.dat.gz\")"
   ]
  },
  {
   "cell_type": "markdown",
   "id": "7c7ce2b7",
   "metadata": {
    "tags": [
     "remove-print"
    ]
   },
   "source": [
    "The codebook for this dataset is at <https://ftp.cdc.gov/pub/Health_Statistics/NCHS/Dataset_Documentation/NSFG/Cycle6Codebook-Female.pdf>."
   ]
  },
  {
   "cell_type": "markdown",
   "id": "1b40d801",
   "metadata": {},
   "source": [
    "The `nsfg.py` module provides a function that reads the respondent file and returns a `DataFrame`."
   ]
  },
  {
   "cell_type": "code",
   "execution_count": 50,
   "id": "861e38b1",
   "metadata": {},
   "outputs": [
    {
     "data": {
      "text/plain": [
       "(7643, 3092)"
      ]
     },
     "execution_count": 50,
     "metadata": {},
     "output_type": "execute_result"
    },
    {
     "data": {
      "application/javascript": [
       "\n",
       "            setTimeout(function() {\n",
       "                var nbb_cell_id = 50;\n",
       "                var nbb_unformatted_code = \"from nsfg import read_fem_resp\\n\\nresp = read_fem_resp()\\nresp.shape\";\n",
       "                var nbb_formatted_code = \"from nsfg import read_fem_resp\\n\\nresp = read_fem_resp()\\nresp.shape\";\n",
       "                var nbb_cells = Jupyter.notebook.get_cells();\n",
       "                for (var i = 0; i < nbb_cells.length; ++i) {\n",
       "                    if (nbb_cells[i].input_prompt_number == nbb_cell_id) {\n",
       "                        if (nbb_cells[i].get_text() == nbb_unformatted_code) {\n",
       "                             nbb_cells[i].set_text(nbb_formatted_code);\n",
       "                        }\n",
       "                        break;\n",
       "                    }\n",
       "                }\n",
       "            }, 500);\n",
       "            "
      ],
      "text/plain": [
       "<IPython.core.display.Javascript object>"
      ]
     },
     "metadata": {},
     "output_type": "display_data"
    }
   ],
   "source": [
    "from nsfg import read_fem_resp\n",
    "\n",
    "resp = read_fem_resp()\n",
    "resp.shape"
   ]
  },
  {
   "cell_type": "markdown",
   "id": "5495601a",
   "metadata": {},
   "source": [
    "This `DataFrame` contains 7643 rows and 3092 columns."
   ]
  },
  {
   "cell_type": "markdown",
   "id": "8e509710",
   "metadata": {},
   "source": [
    "### Exercise\n",
    "\n",
    "Select the column `numbabes`, which records the \"number of babies born alive\" to the respondent.\n",
    "Make a `Hist` object and display the frequencies of the values in this column.\n",
    "Check that they are consistent with the frequencies in the code book.\n",
    "Are there any special values that should be replaced with `nan`?\n",
    "\n",
    "Then make a `Pmf` object and plot it as a bar graph. Is the distribution symmetric, skewed to the left, or skewed to the right?"
   ]
  },
  {
   "cell_type": "code",
   "execution_count": 51,
   "id": "e4933509",
   "metadata": {},
   "outputs": [
    {
     "data": {
      "text/html": [
       "<div>\n",
       "<style scoped>\n",
       "    .dataframe tbody tr th:only-of-type {\n",
       "        vertical-align: middle;\n",
       "    }\n",
       "\n",
       "    .dataframe tbody tr th {\n",
       "        vertical-align: top;\n",
       "    }\n",
       "\n",
       "    .dataframe thead th {\n",
       "        text-align: right;\n",
       "    }\n",
       "</style>\n",
       "<table border=\"1\" class=\"dataframe\">\n",
       "  <thead>\n",
       "    <tr style=\"text-align: right;\">\n",
       "      <th></th>\n",
       "      <th>freqs</th>\n",
       "    </tr>\n",
       "    <tr>\n",
       "      <th>numbabes</th>\n",
       "      <th></th>\n",
       "    </tr>\n",
       "  </thead>\n",
       "  <tbody>\n",
       "    <tr>\n",
       "      <th>0</th>\n",
       "      <td>3229</td>\n",
       "    </tr>\n",
       "    <tr>\n",
       "      <th>1</th>\n",
       "      <td>1519</td>\n",
       "    </tr>\n",
       "    <tr>\n",
       "      <th>2</th>\n",
       "      <td>1603</td>\n",
       "    </tr>\n",
       "    <tr>\n",
       "      <th>3</th>\n",
       "      <td>828</td>\n",
       "    </tr>\n",
       "    <tr>\n",
       "      <th>4</th>\n",
       "      <td>309</td>\n",
       "    </tr>\n",
       "    <tr>\n",
       "      <th>5</th>\n",
       "      <td>95</td>\n",
       "    </tr>\n",
       "    <tr>\n",
       "      <th>6</th>\n",
       "      <td>29</td>\n",
       "    </tr>\n",
       "    <tr>\n",
       "      <th>7</th>\n",
       "      <td>15</td>\n",
       "    </tr>\n",
       "    <tr>\n",
       "      <th>8</th>\n",
       "      <td>8</td>\n",
       "    </tr>\n",
       "    <tr>\n",
       "      <th>9</th>\n",
       "      <td>2</td>\n",
       "    </tr>\n",
       "    <tr>\n",
       "      <th>10</th>\n",
       "      <td>3</td>\n",
       "    </tr>\n",
       "    <tr>\n",
       "      <th>16</th>\n",
       "      <td>1</td>\n",
       "    </tr>\n",
       "    <tr>\n",
       "      <th>22</th>\n",
       "      <td>1</td>\n",
       "    </tr>\n",
       "    <tr>\n",
       "      <th>97</th>\n",
       "      <td>1</td>\n",
       "    </tr>\n",
       "  </tbody>\n",
       "</table>\n",
       "</div>"
      ],
      "text/plain": [
       "numbabes\n",
       "0     3229\n",
       "1     1519\n",
       "2     1603\n",
       "3      828\n",
       "4      309\n",
       "5       95\n",
       "6       29\n",
       "7       15\n",
       "8        8\n",
       "9        2\n",
       "10       3\n",
       "16       1\n",
       "22       1\n",
       "97       1\n",
       "Name: numbabes, dtype: int64"
      ]
     },
     "execution_count": 51,
     "metadata": {},
     "output_type": "execute_result"
    },
    {
     "data": {
      "application/javascript": [
       "\n",
       "            setTimeout(function() {\n",
       "                var nbb_cell_id = 51;\n",
       "                var nbb_unformatted_code = \"# Solution\\n\\nfrom empiricaldist import Hist\\n\\nhist = Hist.from_seq(resp[\\\"numbabes\\\"], name=\\\"numbabes\\\")\\nhist\";\n",
       "                var nbb_formatted_code = \"# Solution\\n\\nfrom empiricaldist import Hist\\n\\nhist = Hist.from_seq(resp[\\\"numbabes\\\"], name=\\\"numbabes\\\")\\nhist\";\n",
       "                var nbb_cells = Jupyter.notebook.get_cells();\n",
       "                for (var i = 0; i < nbb_cells.length; ++i) {\n",
       "                    if (nbb_cells[i].input_prompt_number == nbb_cell_id) {\n",
       "                        if (nbb_cells[i].get_text() == nbb_unformatted_code) {\n",
       "                             nbb_cells[i].set_text(nbb_formatted_code);\n",
       "                        }\n",
       "                        break;\n",
       "                    }\n",
       "                }\n",
       "            }, 500);\n",
       "            "
      ],
      "text/plain": [
       "<IPython.core.display.Javascript object>"
      ]
     },
     "metadata": {},
     "output_type": "display_data"
    }
   ],
   "source": [
    "# Solution\n",
    "\n",
    "from empiricaldist import Hist\n",
    "\n",
    "hist = Hist.from_seq(resp[\"numbabes\"], name=\"numbabes\")\n",
    "hist"
   ]
  },
  {
   "cell_type": "code",
   "execution_count": 52,
   "id": "92d10a12",
   "metadata": {},
   "outputs": [
    {
     "data": {
      "application/javascript": [
       "\n",
       "            setTimeout(function() {\n",
       "                var nbb_cell_id = 52;\n",
       "                var nbb_unformatted_code = \"# Solution\\n\\nnumbabes = resp[\\\"numbabes\\\"].replace(97, np.nan)\\n\\npmf = Pmf.from_seq(numbabes, name=\\\"numbabes\\\")\";\n",
       "                var nbb_formatted_code = \"# Solution\\n\\nnumbabes = resp[\\\"numbabes\\\"].replace(97, np.nan)\\n\\npmf = Pmf.from_seq(numbabes, name=\\\"numbabes\\\")\";\n",
       "                var nbb_cells = Jupyter.notebook.get_cells();\n",
       "                for (var i = 0; i < nbb_cells.length; ++i) {\n",
       "                    if (nbb_cells[i].input_prompt_number == nbb_cell_id) {\n",
       "                        if (nbb_cells[i].get_text() == nbb_unformatted_code) {\n",
       "                             nbb_cells[i].set_text(nbb_formatted_code);\n",
       "                        }\n",
       "                        break;\n",
       "                    }\n",
       "                }\n",
       "            }, 500);\n",
       "            "
      ],
      "text/plain": [
       "<IPython.core.display.Javascript object>"
      ]
     },
     "metadata": {},
     "output_type": "display_data"
    }
   ],
   "source": [
    "# Solution\n",
    "\n",
    "numbabes = resp[\"numbabes\"].replace(97, np.nan)\n",
    "\n",
    "pmf = Pmf.from_seq(numbabes, name=\"numbabes\")"
   ]
  },
  {
   "cell_type": "code",
   "execution_count": 53,
   "id": "9f96f3d4",
   "metadata": {},
   "outputs": [
    {
     "data": {
      "image/png": "[encoded data removed]",
      "text/plain": [
       "<Figure size 640x480 with 1 Axes>"
      ]
     },
     "metadata": {},
     "output_type": "display_data"
    },
    {
     "data": {
      "application/javascript": [
       "\n",
       "            setTimeout(function() {\n",
       "                var nbb_cell_id = 53;\n",
       "                var nbb_unformatted_code = \"pmf.bar()\\ndecorate(xlabel=\\\"Number of babies\\\", ylabel=\\\"PMF\\\")\";\n",
       "                var nbb_formatted_code = \"pmf.bar()\\ndecorate(xlabel=\\\"Number of babies\\\", ylabel=\\\"PMF\\\")\";\n",
       "                var nbb_cells = Jupyter.notebook.get_cells();\n",
       "                for (var i = 0; i < nbb_cells.length; ++i) {\n",
       "                    if (nbb_cells[i].input_prompt_number == nbb_cell_id) {\n",
       "                        if (nbb_cells[i].get_text() == nbb_unformatted_code) {\n",
       "                             nbb_cells[i].set_text(nbb_formatted_code);\n",
       "                        }\n",
       "                        break;\n",
       "                    }\n",
       "                }\n",
       "            }, 500);\n",
       "            "
      ],
      "text/plain": [
       "<IPython.core.display.Javascript object>"
      ]
     },
     "metadata": {},
     "output_type": "display_data"
    }
   ],
   "source": [
    "pmf.bar()\n",
    "decorate(xlabel=\"Number of babies\", ylabel=\"PMF\")"
   ]
  },
  {
   "cell_type": "code",
   "execution_count": 54,
   "id": "64937b8c",
   "metadata": {},
   "outputs": [
    {
     "data": {
      "application/javascript": [
       "\n",
       "            setTimeout(function() {\n",
       "                var nbb_cell_id = 54;\n",
       "                var nbb_unformatted_code = \"# Solution\\n\\n# The tail of the distribution extends farther right than left, so the\\n# distribution is skewed to the right\";\n",
       "                var nbb_formatted_code = \"# Solution\\n\\n# The tail of the distribution extends farther right than left, so the\\n# distribution is skewed to the right\";\n",
       "                var nbb_cells = Jupyter.notebook.get_cells();\n",
       "                for (var i = 0; i < nbb_cells.length; ++i) {\n",
       "                    if (nbb_cells[i].input_prompt_number == nbb_cell_id) {\n",
       "                        if (nbb_cells[i].get_text() == nbb_unformatted_code) {\n",
       "                             nbb_cells[i].set_text(nbb_formatted_code);\n",
       "                        }\n",
       "                        break;\n",
       "                    }\n",
       "                }\n",
       "            }, 500);\n",
       "            "
      ],
      "text/plain": [
       "<IPython.core.display.Javascript object>"
      ]
     },
     "metadata": {},
     "output_type": "display_data"
    }
   ],
   "source": [
    "# Solution\n",
    "\n",
    "# The tail of the distribution extends farther right than left, so the\n",
    "# distribution is skewed to the right"
   ]
  },
  {
   "cell_type": "markdown",
   "id": "071ae7e7",
   "metadata": {},
   "source": [
    "### Exercise\n",
    "\n",
    "In the same way that the mean identifies a central point in a distribution, and variance quantifies its spread, there is another statistic, called **skewness**, that is intended to indicate whether a distribution is skewed to the left or right.\n",
    "\n",
    "Given a sample, we can compute the skewness by computing the sum of the cubed deviations and dividing by the standard deviation cubed.\n",
    "For example, here's how we compute the skewness of `numbabes`.\n"
   ]
  },
  {
   "cell_type": "code",
   "execution_count": 55,
   "id": "f67d55f5",
   "metadata": {},
   "outputs": [
    {
     "data": {
      "application/javascript": [
       "\n",
       "            setTimeout(function() {\n",
       "                var nbb_cell_id = 55;\n",
       "                var nbb_unformatted_code = \"numbabes = resp[\\\"numbabes\\\"].replace(97, np.nan)\";\n",
       "                var nbb_formatted_code = \"numbabes = resp[\\\"numbabes\\\"].replace(97, np.nan)\";\n",
       "                var nbb_cells = Jupyter.notebook.get_cells();\n",
       "                for (var i = 0; i < nbb_cells.length; ++i) {\n",
       "                    if (nbb_cells[i].input_prompt_number == nbb_cell_id) {\n",
       "                        if (nbb_cells[i].get_text() == nbb_unformatted_code) {\n",
       "                             nbb_cells[i].set_text(nbb_formatted_code);\n",
       "                        }\n",
       "                        break;\n",
       "                    }\n",
       "                }\n",
       "            }, 500);\n",
       "            "
      ],
      "text/plain": [
       "<IPython.core.display.Javascript object>"
      ]
     },
     "metadata": {},
     "output_type": "display_data"
    }
   ],
   "source": [
    "numbabes = resp[\"numbabes\"].replace(97, np.nan)"
   ]
  },
  {
   "cell_type": "code",
   "execution_count": 56,
   "id": "7e1b1e04",
   "metadata": {},
   "outputs": [
    {
     "data": {
      "text/plain": [
       "1.7018914266755958"
      ]
     },
     "execution_count": 56,
     "metadata": {},
     "output_type": "execute_result"
    },
    {
     "data": {
      "application/javascript": [
       "\n",
       "            setTimeout(function() {\n",
       "                var nbb_cell_id = 56;\n",
       "                var nbb_unformatted_code = \"deviations = numbabes - numbabes.mean()\\nskewness = np.mean(deviations**3) / numbabes.std(ddof=0) ** 3\\nskewness\";\n",
       "                var nbb_formatted_code = \"deviations = numbabes - numbabes.mean()\\nskewness = np.mean(deviations**3) / numbabes.std(ddof=0) ** 3\\nskewness\";\n",
       "                var nbb_cells = Jupyter.notebook.get_cells();\n",
       "                for (var i = 0; i < nbb_cells.length; ++i) {\n",
       "                    if (nbb_cells[i].input_prompt_number == nbb_cell_id) {\n",
       "                        if (nbb_cells[i].get_text() == nbb_unformatted_code) {\n",
       "                             nbb_cells[i].set_text(nbb_formatted_code);\n",
       "                        }\n",
       "                        break;\n",
       "                    }\n",
       "                }\n",
       "            }, 500);\n",
       "            "
      ],
      "text/plain": [
       "<IPython.core.display.Javascript object>"
      ]
     },
     "metadata": {},
     "output_type": "display_data"
    }
   ],
   "source": [
    "deviations = numbabes - numbabes.mean()\n",
    "skewness = np.mean(deviations**3) / numbabes.std(ddof=0) ** 3\n",
    "skewness"
   ]
  },
  {
   "cell_type": "markdown",
   "id": "79f68b36",
   "metadata": {},
   "source": [
    "In general, a positive value indicates that a distribution is skewed to the right, and a negative value indicates that it is skewed to the left.\n",
    "\n",
    "If you are given a `Pmf`, rather than a sequence of values, you can compute skewness like this:\n",
    "\n",
    "1. Compute the deviation of each quantity in the `Pmf` from the mean.\n",
    "\n",
    "2. Cube the deviations, multiply by the probabilities in the `Pmf`, and add up the products.\n",
    "\n",
    "3. Divide the sum by the standard deviation cubed.\n",
    "\n",
    "Write a function called `pmf_skewness` that takes a `Pmf` object and returns its skewness."
   ]
  },
  {
   "cell_type": "code",
   "execution_count": 57,
   "id": "95e9d102",
   "metadata": {},
   "outputs": [
    {
     "data": {
      "application/javascript": [
       "\n",
       "            setTimeout(function() {\n",
       "                var nbb_cell_id = 57;\n",
       "                var nbb_unformatted_code = \"# Solution\\n\\ndef pmf_skewness(pmf):\\n    deviations = pmf.qs - pmf.mean()\\n    moment = np.sum(pmf.ps * deviations**3)\\n    return moment / pmf.std() ** 3\";\n",
       "                var nbb_formatted_code = \"# Solution\\n\\n\\ndef pmf_skewness(pmf):\\n    deviations = pmf.qs - pmf.mean()\\n    moment = np.sum(pmf.ps * deviations**3)\\n    return moment / pmf.std() ** 3\";\n",
       "                var nbb_cells = Jupyter.notebook.get_cells();\n",
       "                for (var i = 0; i < nbb_cells.length; ++i) {\n",
       "                    if (nbb_cells[i].input_prompt_number == nbb_cell_id) {\n",
       "                        if (nbb_cells[i].get_text() == nbb_unformatted_code) {\n",
       "                             nbb_cells[i].set_text(nbb_formatted_code);\n",
       "                        }\n",
       "                        break;\n",
       "                    }\n",
       "                }\n",
       "            }, 500);\n",
       "            "
      ],
      "text/plain": [
       "<IPython.core.display.Javascript object>"
      ]
     },
     "metadata": {},
     "output_type": "display_data"
    }
   ],
   "source": [
    "# Solution\n",
    "\n",
    "\n",
    "def pmf_skewness(pmf):\n",
    "    deviations = pmf.qs - pmf.mean()\n",
    "    moment = np.sum(pmf.ps * deviations**3)\n",
    "    return moment / pmf.std() ** 3"
   ]
  },
  {
   "cell_type": "markdown",
   "id": "bbd5e64f",
   "metadata": {},
   "source": [
    "Use your function and the `Pmf` of `numbabes` to compute skewness, and confirm you get the same result."
   ]
  },
  {
   "cell_type": "code",
   "execution_count": 58,
   "id": "4e442b4b",
   "metadata": {},
   "outputs": [
    {
     "data": {
      "text/plain": [
       "1.7018914266755958"
      ]
     },
     "execution_count": 58,
     "metadata": {},
     "output_type": "execute_result"
    },
    {
     "data": {
      "application/javascript": [
       "\n",
       "            setTimeout(function() {\n",
       "                var nbb_cell_id = 58;\n",
       "                var nbb_unformatted_code = \"# Solution\\n\\npmf_numbabes = Pmf.from_seq(numbabes)\\npmf_skewness(pmf_numbabes)\";\n",
       "                var nbb_formatted_code = \"# Solution\\n\\npmf_numbabes = Pmf.from_seq(numbabes)\\npmf_skewness(pmf_numbabes)\";\n",
       "                var nbb_cells = Jupyter.notebook.get_cells();\n",
       "                for (var i = 0; i < nbb_cells.length; ++i) {\n",
       "                    if (nbb_cells[i].input_prompt_number == nbb_cell_id) {\n",
       "                        if (nbb_cells[i].get_text() == nbb_unformatted_code) {\n",
       "                             nbb_cells[i].set_text(nbb_formatted_code);\n",
       "                        }\n",
       "                        break;\n",
       "                    }\n",
       "                }\n",
       "            }, 500);\n",
       "            "
      ],
      "text/plain": [
       "<IPython.core.display.Javascript object>"
      ]
     },
     "metadata": {},
     "output_type": "display_data"
    }
   ],
   "source": [
    "# Solution\n",
    "\n",
    "pmf_numbabes = Pmf.from_seq(numbabes)\n",
    "pmf_skewness(pmf_numbabes)"
   ]
  },
  {
   "cell_type": "markdown",
   "id": "81e26051",
   "metadata": {},
   "source": [
    "**Exercise:** Something like the class size paradox appears if you survey children and ask how many children are in their family.\n",
    "Families with many children are more likely to appear in your sample, and families with no children have no chance to be in the sample.\n",
    "\n",
    "From `resp`, select `numkdhh`, which records the number of children under 18 in each respondent's household.\n",
    "Make a `Pmf` of the values in this column.\n",
    "\n",
    "Use the `bias` function to compute the distribution we would see if we surveyed the children and asked them how many children under 18 (including themselves) are in their household.\n",
    "\n",
    "Plot the actual and biased distributions, and compute their means."
   ]
  },
  {
   "cell_type": "code",
   "execution_count": 59,
   "id": "8a263d8e",
   "metadata": {},
   "outputs": [
    {
     "data": {
      "text/html": [
       "<div>\n",
       "<style scoped>\n",
       "    .dataframe tbody tr th:only-of-type {\n",
       "        vertical-align: middle;\n",
       "    }\n",
       "\n",
       "    .dataframe tbody tr th {\n",
       "        vertical-align: top;\n",
       "    }\n",
       "\n",
       "    .dataframe thead th {\n",
       "        text-align: right;\n",
       "    }\n",
       "</style>\n",
       "<table border=\"1\" class=\"dataframe\">\n",
       "  <thead>\n",
       "    <tr style=\"text-align: right;\">\n",
       "      <th></th>\n",
       "      <th>freqs</th>\n",
       "    </tr>\n",
       "    <tr>\n",
       "      <th>numkdhh</th>\n",
       "      <th></th>\n",
       "    </tr>\n",
       "  </thead>\n",
       "  <tbody>\n",
       "    <tr>\n",
       "      <th>0</th>\n",
       "      <td>3563</td>\n",
       "    </tr>\n",
       "    <tr>\n",
       "      <th>1</th>\n",
       "      <td>1636</td>\n",
       "    </tr>\n",
       "    <tr>\n",
       "      <th>2</th>\n",
       "      <td>1500</td>\n",
       "    </tr>\n",
       "    <tr>\n",
       "      <th>3</th>\n",
       "      <td>666</td>\n",
       "    </tr>\n",
       "    <tr>\n",
       "      <th>4</th>\n",
       "      <td>196</td>\n",
       "    </tr>\n",
       "    <tr>\n",
       "      <th>5</th>\n",
       "      <td>82</td>\n",
       "    </tr>\n",
       "  </tbody>\n",
       "</table>\n",
       "</div>"
      ],
      "text/plain": [
       "numkdhh\n",
       "0    3563\n",
       "1    1636\n",
       "2    1500\n",
       "3     666\n",
       "4     196\n",
       "5      82\n",
       "Name: , dtype: int64"
      ]
     },
     "execution_count": 59,
     "metadata": {},
     "output_type": "execute_result"
    },
    {
     "data": {
      "application/javascript": [
       "\n",
       "            setTimeout(function() {\n",
       "                var nbb_cell_id = 59;\n",
       "                var nbb_unformatted_code = \"# Solution\\n\\nnum_kids = resp[\\\"numkdhh\\\"]\\nHist.from_seq(num_kids)\";\n",
       "                var nbb_formatted_code = \"# Solution\\n\\nnum_kids = resp[\\\"numkdhh\\\"]\\nHist.from_seq(num_kids)\";\n",
       "                var nbb_cells = Jupyter.notebook.get_cells();\n",
       "                for (var i = 0; i < nbb_cells.length; ++i) {\n",
       "                    if (nbb_cells[i].input_prompt_number == nbb_cell_id) {\n",
       "                        if (nbb_cells[i].get_text() == nbb_unformatted_code) {\n",
       "                             nbb_cells[i].set_text(nbb_formatted_code);\n",
       "                        }\n",
       "                        break;\n",
       "                    }\n",
       "                }\n",
       "            }, 500);\n",
       "            "
      ],
      "text/plain": [
       "<IPython.core.display.Javascript object>"
      ]
     },
     "metadata": {},
     "output_type": "display_data"
    }
   ],
   "source": [
    "# Solution\n",
    "\n",
    "num_kids = resp[\"numkdhh\"]\n",
    "Hist.from_seq(num_kids)"
   ]
  },
  {
   "cell_type": "code",
   "execution_count": 60,
   "id": "019396ef",
   "metadata": {},
   "outputs": [
    {
     "data": {
      "application/javascript": [
       "\n",
       "            setTimeout(function() {\n",
       "                var nbb_cell_id = 60;\n",
       "                var nbb_unformatted_code = \"# Solution\\n\\nnum_kids_pmf = Pmf.from_seq(num_kids, name=\\\"num_kids\\\")\\nnum_kids_biased = bias(pmf, name=\\\"biased\\\")\";\n",
       "                var nbb_formatted_code = \"# Solution\\n\\nnum_kids_pmf = Pmf.from_seq(num_kids, name=\\\"num_kids\\\")\\nnum_kids_biased = bias(pmf, name=\\\"biased\\\")\";\n",
       "                var nbb_cells = Jupyter.notebook.get_cells();\n",
       "                for (var i = 0; i < nbb_cells.length; ++i) {\n",
       "                    if (nbb_cells[i].input_prompt_number == nbb_cell_id) {\n",
       "                        if (nbb_cells[i].get_text() == nbb_unformatted_code) {\n",
       "                             nbb_cells[i].set_text(nbb_formatted_code);\n",
       "                        }\n",
       "                        break;\n",
       "                    }\n",
       "                }\n",
       "            }, 500);\n",
       "            "
      ],
      "text/plain": [
       "<IPython.core.display.Javascript object>"
      ]
     },
     "metadata": {},
     "output_type": "display_data"
    }
   ],
   "source": [
    "# Solution\n",
    "\n",
    "num_kids_pmf = Pmf.from_seq(num_kids, name=\"num_kids\")\n",
    "num_kids_biased = bias(pmf, name=\"biased\")"
   ]
  },
  {
   "cell_type": "code",
   "execution_count": 61,
   "id": "064c0161",
   "metadata": {},
   "outputs": [
    {
     "data": {
      "image/png": "[encoded data removed]",
      "text/plain": [
       "<Figure size 640x480 with 1 Axes>"
      ]
     },
     "metadata": {},
     "output_type": "display_data"
    },
    {
     "data": {
      "application/javascript": [
       "\n",
       "            setTimeout(function() {\n",
       "                var nbb_cell_id = 61;\n",
       "                var nbb_unformatted_code = \"# Solution\\n\\ntwo_bar_plots(num_kids_pmf, num_kids_biased)\\ndecorate(xlabel=\\\"Number of children\\\", ylabel=\\\"PMF\\\")\";\n",
       "                var nbb_formatted_code = \"# Solution\\n\\ntwo_bar_plots(num_kids_pmf, num_kids_biased)\\ndecorate(xlabel=\\\"Number of children\\\", ylabel=\\\"PMF\\\")\";\n",
       "                var nbb_cells = Jupyter.notebook.get_cells();\n",
       "                for (var i = 0; i < nbb_cells.length; ++i) {\n",
       "                    if (nbb_cells[i].input_prompt_number == nbb_cell_id) {\n",
       "                        if (nbb_cells[i].get_text() == nbb_unformatted_code) {\n",
       "                             nbb_cells[i].set_text(nbb_formatted_code);\n",
       "                        }\n",
       "                        break;\n",
       "                    }\n",
       "                }\n",
       "            }, 500);\n",
       "            "
      ],
      "text/plain": [
       "<IPython.core.display.Javascript object>"
      ]
     },
     "metadata": {},
     "output_type": "display_data"
    }
   ],
   "source": [
    "# Solution\n",
    "\n",
    "two_bar_plots(num_kids_pmf, num_kids_biased)\n",
    "decorate(xlabel=\"Number of children\", ylabel=\"PMF\")"
   ]
  },
  {
   "cell_type": "code",
   "execution_count": 62,
   "id": "e0c4082f",
   "metadata": {},
   "outputs": [
    {
     "data": {
      "text/plain": [
       "(1.024205155043831, 2.8019039469461977)"
      ]
     },
     "execution_count": 62,
     "metadata": {},
     "output_type": "execute_result"
    },
    {
     "data": {
      "application/javascript": [
       "\n",
       "            setTimeout(function() {\n",
       "                var nbb_cell_id = 62;\n",
       "                var nbb_unformatted_code = \"# Solution\\n\\nnum_kids_pmf.mean(), num_kids_biased.mean()\";\n",
       "                var nbb_formatted_code = \"# Solution\\n\\nnum_kids_pmf.mean(), num_kids_biased.mean()\";\n",
       "                var nbb_cells = Jupyter.notebook.get_cells();\n",
       "                for (var i = 0; i < nbb_cells.length; ++i) {\n",
       "                    if (nbb_cells[i].input_prompt_number == nbb_cell_id) {\n",
       "                        if (nbb_cells[i].get_text() == nbb_unformatted_code) {\n",
       "                             nbb_cells[i].set_text(nbb_formatted_code);\n",
       "                        }\n",
       "                        break;\n",
       "                    }\n",
       "                }\n",
       "            }, 500);\n",
       "            "
      ],
      "text/plain": [
       "<IPython.core.display.Javascript object>"
      ]
     },
     "metadata": {},
     "output_type": "display_data"
    }
   ],
   "source": [
    "# Solution\n",
    "\n",
    "num_kids_pmf.mean(), num_kids_biased.mean()"
   ]
  },
  {
   "cell_type": "code",
   "execution_count": null,
   "id": "8c0f582a",
   "metadata": {},
   "outputs": [],
   "source": []
  }
 ],
 "metadata": {
  "celltoolbar": "Tags",
  "kernelspec": {
   "display_name": "Python 3 (ipykernel)",
   "language": "python",
   "name": "python3"
  },
  "language_info": {
   "codemirror_mode": {
    "name": "ipython",
    "version": 3
   },
   "file_extension": ".py",
   "mimetype": "text/x-python",
   "name": "python",
   "nbconvert_exporter": "python",
   "pygments_lexer": "ipython3",
   "version": "3.10.14"
  }
 },
 "nbformat": 4,
 "nbformat_minor": 5
}
