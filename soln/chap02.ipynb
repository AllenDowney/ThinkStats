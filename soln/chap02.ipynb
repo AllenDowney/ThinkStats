{
 "cells": [
  {
   "cell_type": "markdown",
   "id": "d2f1937f",
   "metadata": {},
   "source": [
    "# Distributions"
   ]
  },
  {
   "cell_type": "code",
   "execution_count": 1,
   "id": "fb58046b",
   "metadata": {},
   "outputs": [
    {
     "data": {
      "application/javascript": [
       "\n",
       "            setTimeout(function() {\n",
       "                var nbb_cell_id = 1;\n",
       "                var nbb_unformatted_code = \"%load_ext nb_black\\n%load_ext autoreload\\n%autoreload 2\";\n",
       "                var nbb_formatted_code = \"%load_ext nb_black\\n%load_ext autoreload\\n%autoreload 2\";\n",
       "                var nbb_cells = Jupyter.notebook.get_cells();\n",
       "                for (var i = 0; i < nbb_cells.length; ++i) {\n",
       "                    if (nbb_cells[i].input_prompt_number == nbb_cell_id) {\n",
       "                        if (nbb_cells[i].get_text() == nbb_unformatted_code) {\n",
       "                             nbb_cells[i].set_text(nbb_formatted_code);\n",
       "                        }\n",
       "                        break;\n",
       "                    }\n",
       "                }\n",
       "            }, 500);\n",
       "            "
      ],
      "text/plain": [
       "<IPython.core.display.Javascript object>"
      ]
     },
     "metadata": {},
     "output_type": "display_data"
    }
   ],
   "source": [
    "%load_ext nb_black\n",
    "%load_ext autoreload\n",
    "%autoreload 2\n"
   ]
  },
  {
   "cell_type": "code",
   "execution_count": 2,
   "id": "1b3797b5",
   "metadata": {},
   "outputs": [
    {
     "data": {
      "application/javascript": [
       "\n",
       "            setTimeout(function() {\n",
       "                var nbb_cell_id = 2;\n",
       "                var nbb_unformatted_code = \"from os.path import basename, exists\\n\\n\\ndef download(url):\\n    filename = basename(url)\\n    if not exists(filename):\\n        from urllib.request import urlretrieve\\n\\n        local, _ = urlretrieve(url, filename)\\n        print(\\\"Downloaded \\\" + local)\\n\\n\\ndownload(\\\"https://github.com/AllenDowney/ThinkStats/raw/v3/nb/thinkstats.py\\\")\";\n",
       "                var nbb_formatted_code = \"from os.path import basename, exists\\n\\n\\ndef download(url):\\n    filename = basename(url)\\n    if not exists(filename):\\n        from urllib.request import urlretrieve\\n\\n        local, _ = urlretrieve(url, filename)\\n        print(\\\"Downloaded \\\" + local)\\n\\n\\ndownload(\\\"https://github.com/AllenDowney/ThinkStats/raw/v3/nb/thinkstats.py\\\")\";\n",
       "                var nbb_cells = Jupyter.notebook.get_cells();\n",
       "                for (var i = 0; i < nbb_cells.length; ++i) {\n",
       "                    if (nbb_cells[i].input_prompt_number == nbb_cell_id) {\n",
       "                        if (nbb_cells[i].get_text() == nbb_unformatted_code) {\n",
       "                             nbb_cells[i].set_text(nbb_formatted_code);\n",
       "                        }\n",
       "                        break;\n",
       "                    }\n",
       "                }\n",
       "            }, 500);\n",
       "            "
      ],
      "text/plain": [
       "<IPython.core.display.Javascript object>"
      ]
     },
     "metadata": {},
     "output_type": "display_data"
    }
   ],
   "source": [
    "from os.path import basename, exists\n",
    "\n",
    "\n",
    "def download(url):\n",
    "    filename = basename(url)\n",
    "    if not exists(filename):\n",
    "        from urllib.request import urlretrieve\n",
    "\n",
    "        local, _ = urlretrieve(url, filename)\n",
    "        print(\"Downloaded \" + local)\n",
    "\n",
    "\n",
    "download(\"https://github.com/AllenDowney/ThinkStats/raw/v3/nb/thinkstats.py\")"
   ]
  },
  {
   "cell_type": "code",
   "execution_count": 3,
   "id": "338d162a",
   "metadata": {},
   "outputs": [
    {
     "data": {
      "application/javascript": [
       "\n",
       "            setTimeout(function() {\n",
       "                var nbb_cell_id = 3;\n",
       "                var nbb_unformatted_code = \"import numpy as np\\nimport matplotlib.pyplot as plt\\nfrom thinkstats import decorate\";\n",
       "                var nbb_formatted_code = \"import numpy as np\\nimport matplotlib.pyplot as plt\\nfrom thinkstats import decorate\";\n",
       "                var nbb_cells = Jupyter.notebook.get_cells();\n",
       "                for (var i = 0; i < nbb_cells.length; ++i) {\n",
       "                    if (nbb_cells[i].input_prompt_number == nbb_cell_id) {\n",
       "                        if (nbb_cells[i].get_text() == nbb_unformatted_code) {\n",
       "                             nbb_cells[i].set_text(nbb_formatted_code);\n",
       "                        }\n",
       "                        break;\n",
       "                    }\n",
       "                }\n",
       "            }, 500);\n",
       "            "
      ],
      "text/plain": [
       "<IPython.core.display.Javascript object>"
      ]
     },
     "metadata": {},
     "output_type": "display_data"
    }
   ],
   "source": [
    "import numpy as np\n",
    "import matplotlib.pyplot as plt\n",
    "from thinkstats import decorate"
   ]
  },
  {
   "cell_type": "markdown",
   "id": "1541ba29",
   "metadata": {},
   "source": [
    "## Histograms\n",
    "\n",
    "One of the best ways to describe a variable is to report the values that\n",
    "appear in the dataset and how many times each value appears. This\n",
    "description is called the **distribution** of the variable.\n",
    "\n",
    "The most common representation of a distribution is a **histogram**,\n",
    "which is a graph that shows the **frequency** of each value. In this\n",
    "context, \"frequency\" means the number of times the value appears.\n",
    "\n",
    "In Python, an efficient way to compute frequencies is with a dictionary.\n",
    "Given a sequence of values, `t`:"
   ]
  },
  {
   "cell_type": "code",
   "execution_count": 4,
   "id": "a8c88e69",
   "metadata": {},
   "outputs": [
    {
     "data": {
      "application/javascript": [
       "\n",
       "            setTimeout(function() {\n",
       "                var nbb_cell_id = 4;\n",
       "                var nbb_unformatted_code = \"t = [1, 2, 2, 3, 5]\";\n",
       "                var nbb_formatted_code = \"t = [1, 2, 2, 3, 5]\";\n",
       "                var nbb_cells = Jupyter.notebook.get_cells();\n",
       "                for (var i = 0; i < nbb_cells.length; ++i) {\n",
       "                    if (nbb_cells[i].input_prompt_number == nbb_cell_id) {\n",
       "                        if (nbb_cells[i].get_text() == nbb_unformatted_code) {\n",
       "                             nbb_cells[i].set_text(nbb_formatted_code);\n",
       "                        }\n",
       "                        break;\n",
       "                    }\n",
       "                }\n",
       "            }, 500);\n",
       "            "
      ],
      "text/plain": [
       "<IPython.core.display.Javascript object>"
      ]
     },
     "metadata": {},
     "output_type": "display_data"
    }
   ],
   "source": [
    "t = [1, 2, 2, 3, 5]"
   ]
  },
  {
   "cell_type": "code",
   "execution_count": 5,
   "id": "32a8fcc3",
   "metadata": {},
   "outputs": [
    {
     "data": {
      "application/javascript": [
       "\n",
       "            setTimeout(function() {\n",
       "                var nbb_cell_id = 5;\n",
       "                var nbb_unformatted_code = \"hist = {}\\nfor x in t:\\n    hist[x] = hist.get(x, 0) + 1\";\n",
       "                var nbb_formatted_code = \"hist = {}\\nfor x in t:\\n    hist[x] = hist.get(x, 0) + 1\";\n",
       "                var nbb_cells = Jupyter.notebook.get_cells();\n",
       "                for (var i = 0; i < nbb_cells.length; ++i) {\n",
       "                    if (nbb_cells[i].input_prompt_number == nbb_cell_id) {\n",
       "                        if (nbb_cells[i].get_text() == nbb_unformatted_code) {\n",
       "                             nbb_cells[i].set_text(nbb_formatted_code);\n",
       "                        }\n",
       "                        break;\n",
       "                    }\n",
       "                }\n",
       "            }, 500);\n",
       "            "
      ],
      "text/plain": [
       "<IPython.core.display.Javascript object>"
      ]
     },
     "metadata": {},
     "output_type": "display_data"
    }
   ],
   "source": [
    "hist = {}\n",
    "for x in t:\n",
    "    hist[x] = hist.get(x, 0) + 1"
   ]
  },
  {
   "cell_type": "markdown",
   "id": "52b89af5",
   "metadata": {},
   "source": [
    "The result is a dictionary that maps from values to frequencies.\n",
    "Alternatively, you could use the `Counter` class defined in the\n",
    "`collections` module:"
   ]
  },
  {
   "cell_type": "code",
   "execution_count": 6,
   "id": "614aa0bc",
   "metadata": {},
   "outputs": [
    {
     "data": {
      "application/javascript": [
       "\n",
       "            setTimeout(function() {\n",
       "                var nbb_cell_id = 6;\n",
       "                var nbb_unformatted_code = \"from collections import Counter\\n\\ncounter = Counter(t)\";\n",
       "                var nbb_formatted_code = \"from collections import Counter\\n\\ncounter = Counter(t)\";\n",
       "                var nbb_cells = Jupyter.notebook.get_cells();\n",
       "                for (var i = 0; i < nbb_cells.length; ++i) {\n",
       "                    if (nbb_cells[i].input_prompt_number == nbb_cell_id) {\n",
       "                        if (nbb_cells[i].get_text() == nbb_unformatted_code) {\n",
       "                             nbb_cells[i].set_text(nbb_formatted_code);\n",
       "                        }\n",
       "                        break;\n",
       "                    }\n",
       "                }\n",
       "            }, 500);\n",
       "            "
      ],
      "text/plain": [
       "<IPython.core.display.Javascript object>"
      ]
     },
     "metadata": {},
     "output_type": "display_data"
    }
   ],
   "source": [
    "from collections import Counter\n",
    "\n",
    "counter = Counter(t)"
   ]
  },
  {
   "cell_type": "markdown",
   "id": "cbea952a",
   "metadata": {},
   "source": [
    "The result is a `Counter` object, which is a subclass of dictionary.\n",
    "\n",
    "Another option is to use the pandas method `value_counts`, which we saw\n",
    "in the previous chapter. But for this book I created a class, Hist, that\n",
    "represents histograms and provides the methods that operate on them."
   ]
  },
  {
   "cell_type": "markdown",
   "id": "6ddf0ec9",
   "metadata": {},
   "source": [
    "## Representing histograms\n",
    "\n",
    "The Hist constructor can take a sequence, dictionary, pandas `Series`, or\n",
    "another Hist. You can instantiate a Hist object like this:"
   ]
  },
  {
   "cell_type": "code",
   "execution_count": 7,
   "id": "2776a645",
   "metadata": {},
   "outputs": [
    {
     "data": {
      "application/javascript": [
       "\n",
       "            setTimeout(function() {\n",
       "                var nbb_cell_id = 7;\n",
       "                var nbb_unformatted_code = \"from empiricaldist import Pmf\\n\\n\\nclass Hist(Pmf):\\n\\n    @staticmethod\\n    def from_seq(seq, normalize=False, **options):\\n        \\\"\\\"\\\"Make a distribution from a sequence of values.\\n\\n        seq: sequence of anything\\n        normalize: whether to normalize the probabilities\\n        sort: whether to sort the values\\n\\n        returns: Counter object\\n        \\\"\\\"\\\"\\n        pmf = Pmf.from_seq(seq, normalize=normalize, **options)\\n        return Hist(pmf, copy=False)\";\n",
       "                var nbb_formatted_code = \"from empiricaldist import Pmf\\n\\n\\nclass Hist(Pmf):\\n\\n    @staticmethod\\n    def from_seq(seq, normalize=False, **options):\\n        \\\"\\\"\\\"Make a distribution from a sequence of values.\\n\\n        seq: sequence of anything\\n        normalize: whether to normalize the probabilities\\n        sort: whether to sort the values\\n\\n        returns: Counter object\\n        \\\"\\\"\\\"\\n        pmf = Pmf.from_seq(seq, normalize=normalize, **options)\\n        return Hist(pmf, copy=False)\";\n",
       "                var nbb_cells = Jupyter.notebook.get_cells();\n",
       "                for (var i = 0; i < nbb_cells.length; ++i) {\n",
       "                    if (nbb_cells[i].input_prompt_number == nbb_cell_id) {\n",
       "                        if (nbb_cells[i].get_text() == nbb_unformatted_code) {\n",
       "                             nbb_cells[i].set_text(nbb_formatted_code);\n",
       "                        }\n",
       "                        break;\n",
       "                    }\n",
       "                }\n",
       "            }, 500);\n",
       "            "
      ],
      "text/plain": [
       "<IPython.core.display.Javascript object>"
      ]
     },
     "metadata": {},
     "output_type": "display_data"
    }
   ],
   "source": [
    "from empiricaldist import Pmf\n",
    "\n",
    "\n",
    "class Hist(Pmf):\n",
    "\n",
    "    @staticmethod\n",
    "    def from_seq(seq, normalize=False, **options):\n",
    "        \"\"\"Make a distribution from a sequence of values.\n",
    "\n",
    "        seq: sequence of anything\n",
    "        normalize: whether to normalize the probabilities\n",
    "        options: passed along to Pmf\n",
    "\n",
    "        returns: Counter object\n",
    "        \"\"\"\n",
    "        pmf = Pmf.from_seq(seq, normalize=normalize, **options)\n",
    "        return Hist(pmf, copy=False)"
   ]
  },
  {
   "cell_type": "code",
   "execution_count": 8,
   "id": "664f3c8c",
   "metadata": {},
   "outputs": [
    {
     "data": {
      "text/html": [
       "<div>\n",
       "<style scoped>\n",
       "    .dataframe tbody tr th:only-of-type {\n",
       "        vertical-align: middle;\n",
       "    }\n",
       "\n",
       "    .dataframe tbody tr th {\n",
       "        vertical-align: top;\n",
       "    }\n",
       "\n",
       "    .dataframe thead th {\n",
       "        text-align: right;\n",
       "    }\n",
       "</style>\n",
       "<table border=\"1\" class=\"dataframe\">\n",
       "  <thead>\n",
       "    <tr style=\"text-align: right;\">\n",
       "      <th></th>\n",
       "      <th>probs</th>\n",
       "    </tr>\n",
       "  </thead>\n",
       "  <tbody>\n",
       "    <tr>\n",
       "      <th>1</th>\n",
       "      <td>1</td>\n",
       "    </tr>\n",
       "    <tr>\n",
       "      <th>2</th>\n",
       "      <td>2</td>\n",
       "    </tr>\n",
       "    <tr>\n",
       "      <th>3</th>\n",
       "      <td>1</td>\n",
       "    </tr>\n",
       "    <tr>\n",
       "      <th>5</th>\n",
       "      <td>1</td>\n",
       "    </tr>\n",
       "  </tbody>\n",
       "</table>\n",
       "</div>"
      ],
      "text/plain": [
       "1    1\n",
       "2    2\n",
       "3    1\n",
       "5    1\n",
       "Name: count, dtype: int64"
      ]
     },
     "execution_count": 8,
     "metadata": {},
     "output_type": "execute_result"
    },
    {
     "data": {
      "application/javascript": [
       "\n",
       "            setTimeout(function() {\n",
       "                var nbb_cell_id = 8;\n",
       "                var nbb_unformatted_code = \"hist = Hist.from_seq([1, 2, 2, 3, 5])\\nhist\";\n",
       "                var nbb_formatted_code = \"hist = Hist.from_seq([1, 2, 2, 3, 5])\\nhist\";\n",
       "                var nbb_cells = Jupyter.notebook.get_cells();\n",
       "                for (var i = 0; i < nbb_cells.length; ++i) {\n",
       "                    if (nbb_cells[i].input_prompt_number == nbb_cell_id) {\n",
       "                        if (nbb_cells[i].get_text() == nbb_unformatted_code) {\n",
       "                             nbb_cells[i].set_text(nbb_formatted_code);\n",
       "                        }\n",
       "                        break;\n",
       "                    }\n",
       "                }\n",
       "            }, 500);\n",
       "            "
      ],
      "text/plain": [
       "<IPython.core.display.Javascript object>"
      ]
     },
     "metadata": {},
     "output_type": "display_data"
    }
   ],
   "source": [
    "hist = Hist.from_seq([1, 2, 2, 3, 5])\n",
    "hist"
   ]
  },
  {
   "cell_type": "markdown",
   "id": "9b20fe7c",
   "metadata": {},
   "source": [
    "Hist objects provide `Freq`, which takes a value and returns its\n",
    "frequency:"
   ]
  },
  {
   "cell_type": "code",
   "execution_count": 9,
   "id": "b788c0ba",
   "metadata": {},
   "outputs": [
    {
     "data": {
      "text/plain": [
       "2"
      ]
     },
     "execution_count": 9,
     "metadata": {},
     "output_type": "execute_result"
    },
    {
     "data": {
      "application/javascript": [
       "\n",
       "            setTimeout(function() {\n",
       "                var nbb_cell_id = 9;\n",
       "                var nbb_unformatted_code = \"hist(2)\";\n",
       "                var nbb_formatted_code = \"hist(2)\";\n",
       "                var nbb_cells = Jupyter.notebook.get_cells();\n",
       "                for (var i = 0; i < nbb_cells.length; ++i) {\n",
       "                    if (nbb_cells[i].input_prompt_number == nbb_cell_id) {\n",
       "                        if (nbb_cells[i].get_text() == nbb_unformatted_code) {\n",
       "                             nbb_cells[i].set_text(nbb_formatted_code);\n",
       "                        }\n",
       "                        break;\n",
       "                    }\n",
       "                }\n",
       "            }, 500);\n",
       "            "
      ],
      "text/plain": [
       "<IPython.core.display.Javascript object>"
      ]
     },
     "metadata": {},
     "output_type": "display_data"
    }
   ],
   "source": [
    "hist(2)"
   ]
  },
  {
   "cell_type": "markdown",
   "id": "3af2a2e9",
   "metadata": {},
   "source": [
    "The bracket operator does the same thing:"
   ]
  },
  {
   "cell_type": "code",
   "execution_count": 10,
   "id": "dabde3b8",
   "metadata": {},
   "outputs": [
    {
     "data": {
      "text/plain": [
       "2"
      ]
     },
     "execution_count": 10,
     "metadata": {},
     "output_type": "execute_result"
    },
    {
     "data": {
      "application/javascript": [
       "\n",
       "            setTimeout(function() {\n",
       "                var nbb_cell_id = 10;\n",
       "                var nbb_unformatted_code = \"hist[2]\";\n",
       "                var nbb_formatted_code = \"hist[2]\";\n",
       "                var nbb_cells = Jupyter.notebook.get_cells();\n",
       "                for (var i = 0; i < nbb_cells.length; ++i) {\n",
       "                    if (nbb_cells[i].input_prompt_number == nbb_cell_id) {\n",
       "                        if (nbb_cells[i].get_text() == nbb_unformatted_code) {\n",
       "                             nbb_cells[i].set_text(nbb_formatted_code);\n",
       "                        }\n",
       "                        break;\n",
       "                    }\n",
       "                }\n",
       "            }, 500);\n",
       "            "
      ],
      "text/plain": [
       "<IPython.core.display.Javascript object>"
      ]
     },
     "metadata": {},
     "output_type": "display_data"
    }
   ],
   "source": [
    "hist[2]"
   ]
  },
  {
   "cell_type": "markdown",
   "id": "fd2ce71f",
   "metadata": {},
   "source": [
    "If you look up a value that has never appeared, the frequency is 0."
   ]
  },
  {
   "cell_type": "code",
   "execution_count": 11,
   "id": "ef936c4c",
   "metadata": {},
   "outputs": [
    {
     "data": {
      "text/plain": [
       "0"
      ]
     },
     "execution_count": 11,
     "metadata": {},
     "output_type": "execute_result"
    },
    {
     "data": {
      "application/javascript": [
       "\n",
       "            setTimeout(function() {\n",
       "                var nbb_cell_id = 11;\n",
       "                var nbb_unformatted_code = \"hist(4)\";\n",
       "                var nbb_formatted_code = \"hist(4)\";\n",
       "                var nbb_cells = Jupyter.notebook.get_cells();\n",
       "                for (var i = 0; i < nbb_cells.length; ++i) {\n",
       "                    if (nbb_cells[i].input_prompt_number == nbb_cell_id) {\n",
       "                        if (nbb_cells[i].get_text() == nbb_unformatted_code) {\n",
       "                             nbb_cells[i].set_text(nbb_formatted_code);\n",
       "                        }\n",
       "                        break;\n",
       "                    }\n",
       "                }\n",
       "            }, 500);\n",
       "            "
      ],
      "text/plain": [
       "<IPython.core.display.Javascript object>"
      ]
     },
     "metadata": {},
     "output_type": "display_data"
    }
   ],
   "source": [
    "hist(4)"
   ]
  },
  {
   "cell_type": "markdown",
   "id": "4f6c7454",
   "metadata": {},
   "source": [
    "`Values` returns an unsorted list of the values in the Hist:"
   ]
  },
  {
   "cell_type": "code",
   "execution_count": 12,
   "id": "800a81bc",
   "metadata": {},
   "outputs": [
    {
     "data": {
      "text/plain": [
       "array([1, 2, 3, 5])"
      ]
     },
     "execution_count": 12,
     "metadata": {},
     "output_type": "execute_result"
    },
    {
     "data": {
      "application/javascript": [
       "\n",
       "            setTimeout(function() {\n",
       "                var nbb_cell_id = 12;\n",
       "                var nbb_unformatted_code = \"hist.qs\";\n",
       "                var nbb_formatted_code = \"hist.qs\";\n",
       "                var nbb_cells = Jupyter.notebook.get_cells();\n",
       "                for (var i = 0; i < nbb_cells.length; ++i) {\n",
       "                    if (nbb_cells[i].input_prompt_number == nbb_cell_id) {\n",
       "                        if (nbb_cells[i].get_text() == nbb_unformatted_code) {\n",
       "                             nbb_cells[i].set_text(nbb_formatted_code);\n",
       "                        }\n",
       "                        break;\n",
       "                    }\n",
       "                }\n",
       "            }, 500);\n",
       "            "
      ],
      "text/plain": [
       "<IPython.core.display.Javascript object>"
      ]
     },
     "metadata": {},
     "output_type": "display_data"
    }
   ],
   "source": [
    "hist.qs"
   ]
  },
  {
   "cell_type": "code",
   "execution_count": 13,
   "id": "51efc825",
   "metadata": {},
   "outputs": [
    {
     "data": {
      "text/plain": [
       "array([1, 2, 1, 1])"
      ]
     },
     "execution_count": 13,
     "metadata": {},
     "output_type": "execute_result"
    },
    {
     "data": {
      "application/javascript": [
       "\n",
       "            setTimeout(function() {\n",
       "                var nbb_cell_id = 13;\n",
       "                var nbb_unformatted_code = \"hist.ps\";\n",
       "                var nbb_formatted_code = \"hist.ps\";\n",
       "                var nbb_cells = Jupyter.notebook.get_cells();\n",
       "                for (var i = 0; i < nbb_cells.length; ++i) {\n",
       "                    if (nbb_cells[i].input_prompt_number == nbb_cell_id) {\n",
       "                        if (nbb_cells[i].get_text() == nbb_unformatted_code) {\n",
       "                             nbb_cells[i].set_text(nbb_formatted_code);\n",
       "                        }\n",
       "                        break;\n",
       "                    }\n",
       "                }\n",
       "            }, 500);\n",
       "            "
      ],
      "text/plain": [
       "<IPython.core.display.Javascript object>"
      ]
     },
     "metadata": {},
     "output_type": "display_data"
    }
   ],
   "source": [
    "hist.ps"
   ]
  },
  {
   "cell_type": "markdown",
   "id": "7cef9cc4",
   "metadata": {},
   "source": [
    "Or you can use `Items` to iterate through value-frequency pairs:"
   ]
  },
  {
   "cell_type": "code",
   "execution_count": 14,
   "id": "631f0d3e",
   "metadata": {},
   "outputs": [
    {
     "name": "stdout",
     "output_type": "stream",
     "text": [
      "1 1\n",
      "2 2\n",
      "3 1\n",
      "5 1\n"
     ]
    },
    {
     "data": {
      "application/javascript": [
       "\n",
       "            setTimeout(function() {\n",
       "                var nbb_cell_id = 14;\n",
       "                var nbb_unformatted_code = \"for val, freq in hist.items():\\n    print(val, freq)\";\n",
       "                var nbb_formatted_code = \"for val, freq in hist.items():\\n    print(val, freq)\";\n",
       "                var nbb_cells = Jupyter.notebook.get_cells();\n",
       "                for (var i = 0; i < nbb_cells.length; ++i) {\n",
       "                    if (nbb_cells[i].input_prompt_number == nbb_cell_id) {\n",
       "                        if (nbb_cells[i].get_text() == nbb_unformatted_code) {\n",
       "                             nbb_cells[i].set_text(nbb_formatted_code);\n",
       "                        }\n",
       "                        break;\n",
       "                    }\n",
       "                }\n",
       "            }, 500);\n",
       "            "
      ],
      "text/plain": [
       "<IPython.core.display.Javascript object>"
      ]
     },
     "metadata": {},
     "output_type": "display_data"
    }
   ],
   "source": [
    "for x, freq in hist.items():\n",
    "    print(x, freq)"
   ]
  },
  {
   "cell_type": "markdown",
   "id": "a7c56908",
   "metadata": {},
   "source": [
    "## Plotting histograms\n",
    "\n",
    "`Hist` provides a `bar` method that make a bar plot."
   ]
  },
  {
   "cell_type": "code",
   "execution_count": 15,
   "id": "4addf63a",
   "metadata": {},
   "outputs": [
    {
     "data": {
      "image/png": "[encoded data removed]",
      "text/plain": [
       "<Figure size 640x480 with 1 Axes>"
      ]
     },
     "metadata": {},
     "output_type": "display_data"
    },
    {
     "data": {
      "application/javascript": [
       "\n",
       "            setTimeout(function() {\n",
       "                var nbb_cell_id = 15;\n",
       "                var nbb_unformatted_code = \"hist.bar()\\ndecorate(xlabel=\\\"value\\\", ylabel=\\\"frequency\\\")\";\n",
       "                var nbb_formatted_code = \"hist.bar()\\ndecorate(xlabel=\\\"value\\\", ylabel=\\\"frequency\\\")\";\n",
       "                var nbb_cells = Jupyter.notebook.get_cells();\n",
       "                for (var i = 0; i < nbb_cells.length; ++i) {\n",
       "                    if (nbb_cells[i].input_prompt_number == nbb_cell_id) {\n",
       "                        if (nbb_cells[i].get_text() == nbb_unformatted_code) {\n",
       "                             nbb_cells[i].set_text(nbb_formatted_code);\n",
       "                        }\n",
       "                        break;\n",
       "                    }\n",
       "                }\n",
       "            }, 500);\n",
       "            "
      ],
      "text/plain": [
       "<IPython.core.display.Javascript object>"
      ]
     },
     "metadata": {},
     "output_type": "display_data"
    }
   ],
   "source": [
    "hist.bar()\n",
    "decorate(xlabel=\"value\", ylabel=\"frequency\")"
   ]
  },
  {
   "cell_type": "markdown",
   "id": "f3aa1263",
   "metadata": {},
   "source": [
    "## NSFG variables\n",
    "\n",
    "Now let's get back to the data from the NSFG. \n",
    "When you start working with a new dataset, I suggest you explore the\n",
    "variables you are planning to use one at a time, and a good way to start\n",
    "is by looking at histograms.\n",
    "\n",
    "In Section [\\[cleaning\\]](#cleaning){reference-type=\"ref\"\n",
    "reference=\"cleaning\"} we transformed `agepreg` from centiyears to years,\n",
    "and combined `birthwgt_lb` and `birthwgt_oz` into a single quantity,\n",
    "`totalwgt_lb`. In this section I use these variables to demonstrate some\n",
    "features of histograms.\n",
    "\n",
    "I'll start by reading the data and selecting records for live births:"
   ]
  },
  {
   "cell_type": "code",
   "execution_count": 16,
   "id": "2bbaa48e",
   "metadata": {},
   "outputs": [
    {
     "data": {
      "application/javascript": [
       "\n",
       "            setTimeout(function() {\n",
       "                var nbb_cell_id = 16;\n",
       "                var nbb_unformatted_code = \"download(\\\"https://github.com/AllenDowney/ThinkStats/raw/v3/nb/nsfg.py\\\")\\ndownload(\\\"https://github.com/AllenDowney/ThinkStats/raw/v3/data/2002FemPreg.dct\\\")\\ndownload(\\\"https://github.com/AllenDowney/ThinkStats/raw/v3/data/2002FemPreg.dat.gz\\\")\";\n",
       "                var nbb_formatted_code = \"download(\\\"https://github.com/AllenDowney/ThinkStats/raw/v3/nb/nsfg.py\\\")\\ndownload(\\\"https://github.com/AllenDowney/ThinkStats/raw/v3/data/2002FemPreg.dct\\\")\\ndownload(\\\"https://github.com/AllenDowney/ThinkStats/raw/v3/data/2002FemPreg.dat.gz\\\")\";\n",
       "                var nbb_cells = Jupyter.notebook.get_cells();\n",
       "                for (var i = 0; i < nbb_cells.length; ++i) {\n",
       "                    if (nbb_cells[i].input_prompt_number == nbb_cell_id) {\n",
       "                        if (nbb_cells[i].get_text() == nbb_unformatted_code) {\n",
       "                             nbb_cells[i].set_text(nbb_formatted_code);\n",
       "                        }\n",
       "                        break;\n",
       "                    }\n",
       "                }\n",
       "            }, 500);\n",
       "            "
      ],
      "text/plain": [
       "<IPython.core.display.Javascript object>"
      ]
     },
     "metadata": {},
     "output_type": "display_data"
    }
   ],
   "source": [
    "download(\"https://github.com/AllenDowney/ThinkStats/raw/v3/nb/nsfg.py\")\n",
    "download(\"https://github.com/AllenDowney/ThinkStats/raw/v3/data/2002FemPreg.dct\")\n",
    "download(\"https://github.com/AllenDowney/ThinkStats/raw/v3/data/2002FemPreg.dat.gz\")"
   ]
  },
  {
   "cell_type": "code",
   "execution_count": 17,
   "id": "32e122bf",
   "metadata": {},
   "outputs": [
    {
     "data": {
      "application/javascript": [
       "\n",
       "            setTimeout(function() {\n",
       "                var nbb_cell_id = 17;\n",
       "                var nbb_unformatted_code = \"from nsfg import read_fem_preg\\n\\npreg = read_fem_preg()\\nlive = preg[preg.outcome == 1]\";\n",
       "                var nbb_formatted_code = \"from nsfg import read_fem_preg\\n\\npreg = read_fem_preg()\\nlive = preg[preg.outcome == 1]\";\n",
       "                var nbb_cells = Jupyter.notebook.get_cells();\n",
       "                for (var i = 0; i < nbb_cells.length; ++i) {\n",
       "                    if (nbb_cells[i].input_prompt_number == nbb_cell_id) {\n",
       "                        if (nbb_cells[i].get_text() == nbb_unformatted_code) {\n",
       "                             nbb_cells[i].set_text(nbb_formatted_code);\n",
       "                        }\n",
       "                        break;\n",
       "                    }\n",
       "                }\n",
       "            }, 500);\n",
       "            "
      ],
      "text/plain": [
       "<IPython.core.display.Javascript object>"
      ]
     },
     "metadata": {},
     "output_type": "display_data"
    }
   ],
   "source": [
    "from nsfg import read_fem_preg\n",
    "\n",
    "preg = read_fem_preg()\n",
    "live = preg[preg.outcome == 1]"
   ]
  },
  {
   "cell_type": "markdown",
   "id": "cd02a26b",
   "metadata": {},
   "source": [
    "The expression in brackets is a boolean `Series` that selects rows from\n",
    "the `DataFrame` and returns a new `DataFrame`. Next I generate and plot the\n",
    "histogram of `birthwgt_lb` for live births."
   ]
  },
  {
   "cell_type": "code",
   "execution_count": 18,
   "id": "114aec3c",
   "metadata": {},
   "outputs": [
    {
     "data": {
      "image/png": "[encoded data removed]",
      "text/plain": [
       "<Figure size 640x480 with 1 Axes>"
      ]
     },
     "metadata": {},
     "output_type": "display_data"
    },
    {
     "data": {
      "application/javascript": [
       "\n",
       "            setTimeout(function() {\n",
       "                var nbb_cell_id = 18;\n",
       "                var nbb_unformatted_code = \"hist = Hist.from_seq(live.birthwgt_lb, name=\\\"birthwgt_lb\\\")\\nhist.bar()\\ndecorate(xlabel=\\\"pounds\\\", ylabel=\\\"frequency\\\")\";\n",
       "                var nbb_formatted_code = \"hist = Hist.from_seq(live.birthwgt_lb, name=\\\"birthwgt_lb\\\")\\nhist.bar()\\ndecorate(xlabel=\\\"pounds\\\", ylabel=\\\"frequency\\\")\";\n",
       "                var nbb_cells = Jupyter.notebook.get_cells();\n",
       "                for (var i = 0; i < nbb_cells.length; ++i) {\n",
       "                    if (nbb_cells[i].input_prompt_number == nbb_cell_id) {\n",
       "                        if (nbb_cells[i].get_text() == nbb_unformatted_code) {\n",
       "                             nbb_cells[i].set_text(nbb_formatted_code);\n",
       "                        }\n",
       "                        break;\n",
       "                    }\n",
       "                }\n",
       "            }, 500);\n",
       "            "
      ],
      "text/plain": [
       "<IPython.core.display.Javascript object>"
      ]
     },
     "metadata": {},
     "output_type": "display_data"
    }
   ],
   "source": [
    "hist = Hist.from_seq(live.birthwgt_lb, name=\"birthwgt_lb\")\n",
    "hist.bar()\n",
    "decorate(xlabel=\"pounds\", ylabel=\"frequency\")"
   ]
  },
  {
   "cell_type": "markdown",
   "id": "3db5e2ae",
   "metadata": {},
   "source": [
    "When the argument passed to Hist is a pandas `Series`, any `nan` values\n",
    "are dropped. `label` is a string that appears in the legend when the\n",
    "Hist is plotted."
   ]
  },
  {
   "cell_type": "markdown",
   "id": "c3c93c85",
   "metadata": {},
   "source": [
    "The most common value,\n",
    "called the **mode**, is 7 pounds. The distribution is approximately\n",
    "bell-shaped, which is the shape of the **normal** distribution, also\n",
    "called a **Gaussian** distribution. But unlike a true normal\n",
    "distribution, this distribution is asymmetric; it has a **tail** that\n",
    "extends farther to the left than to the right.\n",
    "\n",
    "The following figure shows the histogram of `birthwgt_oz`,\n",
    "which is the ounces part of birth weight. In theory we expect this\n",
    "distribution to be **uniform**; that is, all values should have the same\n",
    "frequency. In fact, 0 is more common than the other values, and 1 and 15\n",
    "are less common, probably because respondents round off birth weights\n",
    "that are close to an integer value."
   ]
  },
  {
   "cell_type": "code",
   "execution_count": 19,
   "id": "70fbced6",
   "metadata": {},
   "outputs": [
    {
     "data": {
      "image/png": "[encoded data removed]",
      "text/plain": [
       "<Figure size 640x480 with 1 Axes>"
      ]
     },
     "metadata": {},
     "output_type": "display_data"
    },
    {
     "data": {
      "application/javascript": [
       "\n",
       "            setTimeout(function() {\n",
       "                var nbb_cell_id = 19;\n",
       "                var nbb_unformatted_code = \"hist = Hist.from_seq(live.birthwgt_oz, name=\\\"birthwgt_oz\\\")\\nhist.bar()\\ndecorate(xlabel=\\\"ounces\\\", ylabel=\\\"frequency\\\")\";\n",
       "                var nbb_formatted_code = \"hist = Hist.from_seq(live.birthwgt_oz, name=\\\"birthwgt_oz\\\")\\nhist.bar()\\ndecorate(xlabel=\\\"ounces\\\", ylabel=\\\"frequency\\\")\";\n",
       "                var nbb_cells = Jupyter.notebook.get_cells();\n",
       "                for (var i = 0; i < nbb_cells.length; ++i) {\n",
       "                    if (nbb_cells[i].input_prompt_number == nbb_cell_id) {\n",
       "                        if (nbb_cells[i].get_text() == nbb_unformatted_code) {\n",
       "                             nbb_cells[i].set_text(nbb_formatted_code);\n",
       "                        }\n",
       "                        break;\n",
       "                    }\n",
       "                }\n",
       "            }, 500);\n",
       "            "
      ],
      "text/plain": [
       "<IPython.core.display.Javascript object>"
      ]
     },
     "metadata": {},
     "output_type": "display_data"
    }
   ],
   "source": [
    "hist = Hist.from_seq(live.birthwgt_oz, name=\"birthwgt_oz\")\n",
    "hist.bar()\n",
    "decorate(xlabel=\"ounces\", ylabel=\"frequency\")"
   ]
  },
  {
   "cell_type": "markdown",
   "id": "8f5b352c",
   "metadata": {},
   "source": [
    "The following figure shows the histogram of `agepreg`, the\n",
    "mother's age at the end of pregnancy. The mode is 21 years. The\n",
    "distribution is very roughly bell-shaped, but in this case the tail\n",
    "extends farther to the right than left; most mothers are in their 20s,\n",
    "fewer in their 30s."
   ]
  },
  {
   "cell_type": "code",
   "execution_count": 20,
   "id": "c2655abf",
   "metadata": {},
   "outputs": [
    {
     "data": {
      "image/png": "[encoded data removed]",
      "text/plain": [
       "<Figure size 640x480 with 1 Axes>"
      ]
     },
     "metadata": {},
     "output_type": "display_data"
    },
    {
     "data": {
      "application/javascript": [
       "\n",
       "            setTimeout(function() {\n",
       "                var nbb_cell_id = 20;\n",
       "                var nbb_unformatted_code = \"hist = Hist.from_seq(live.agepreg, name=\\\"agepreg\\\")\\nhist.bar(width=0.1)\\ndecorate(xlabel=\\\"age\\\", ylabel=\\\"frequency\\\")\";\n",
       "                var nbb_formatted_code = \"hist = Hist.from_seq(live.agepreg, name=\\\"agepreg\\\")\\nhist.bar(width=0.1)\\ndecorate(xlabel=\\\"age\\\", ylabel=\\\"frequency\\\")\";\n",
       "                var nbb_cells = Jupyter.notebook.get_cells();\n",
       "                for (var i = 0; i < nbb_cells.length; ++i) {\n",
       "                    if (nbb_cells[i].input_prompt_number == nbb_cell_id) {\n",
       "                        if (nbb_cells[i].get_text() == nbb_unformatted_code) {\n",
       "                             nbb_cells[i].set_text(nbb_formatted_code);\n",
       "                        }\n",
       "                        break;\n",
       "                    }\n",
       "                }\n",
       "            }, 500);\n",
       "            "
      ],
      "text/plain": [
       "<IPython.core.display.Javascript object>"
      ]
     },
     "metadata": {},
     "output_type": "display_data"
    }
   ],
   "source": [
    "hist = Hist.from_seq(live.agepreg, name=\"agepreg\")\n",
    "hist.bar(width=0.1)\n",
    "decorate(xlabel=\"age\", ylabel=\"frequency\")"
   ]
  },
  {
   "cell_type": "markdown",
   "id": "c536d409",
   "metadata": {},
   "source": [
    "The following figure shows the histogram of `prglngth`, the\n",
    "length of the pregnancy in weeks. By far the most common value is 39\n",
    "weeks. The left tail is longer than the right; early babies are common,\n",
    "but pregnancies seldom go past 43 weeks, and doctors often intervene if\n",
    "they do."
   ]
  },
  {
   "cell_type": "code",
   "execution_count": 21,
   "id": "4be5468c",
   "metadata": {},
   "outputs": [
    {
     "data": {
      "image/png": "[encoded data removed]",
      "text/plain": [
       "<Figure size 640x480 with 1 Axes>"
      ]
     },
     "metadata": {},
     "output_type": "display_data"
    },
    {
     "data": {
      "application/javascript": [
       "\n",
       "            setTimeout(function() {\n",
       "                var nbb_cell_id = 21;\n",
       "                var nbb_unformatted_code = \"hist = Hist.from_seq(live.prglngth, name=\\\"prglngth\\\")\\nhist.bar()\\ndecorate(xlabel=\\\"weeks\\\", ylabel=\\\"frequency\\\")\";\n",
       "                var nbb_formatted_code = \"hist = Hist.from_seq(live.prglngth, name=\\\"prglngth\\\")\\nhist.bar()\\ndecorate(xlabel=\\\"weeks\\\", ylabel=\\\"frequency\\\")\";\n",
       "                var nbb_cells = Jupyter.notebook.get_cells();\n",
       "                for (var i = 0; i < nbb_cells.length; ++i) {\n",
       "                    if (nbb_cells[i].input_prompt_number == nbb_cell_id) {\n",
       "                        if (nbb_cells[i].get_text() == nbb_unformatted_code) {\n",
       "                             nbb_cells[i].set_text(nbb_formatted_code);\n",
       "                        }\n",
       "                        break;\n",
       "                    }\n",
       "                }\n",
       "            }, 500);\n",
       "            "
      ],
      "text/plain": [
       "<IPython.core.display.Javascript object>"
      ]
     },
     "metadata": {},
     "output_type": "display_data"
    }
   ],
   "source": [
    "hist = Hist.from_seq(live.prglngth, name=\"prglngth\")\n",
    "hist.bar()\n",
    "decorate(xlabel=\"weeks\", ylabel=\"frequency\")"
   ]
  },
  {
   "cell_type": "markdown",
   "id": "c742286d",
   "metadata": {},
   "source": [
    "## Outliers\n",
    "\n",
    "Looking at histograms, it is easy to identify the most common values and\n",
    "the shape of the distribution, but rare values are not always visible.\n",
    "\n",
    "Before going on, it is a good idea to check for **outliers**, which are\n",
    "extreme values that might be errors in measurement and recording, or\n",
    "might be accurate reports of rare events.\n",
    "\n",
    "Hist provides methods `largest` and `smallest`, which take an integer\n",
    "`n` and return the `n` largest or smallest values from the histogram:"
   ]
  },
  {
   "cell_type": "code",
   "execution_count": 22,
   "id": "205cad0e",
   "metadata": {},
   "outputs": [
    {
     "data": {
      "application/javascript": [
       "\n",
       "            setTimeout(function() {\n",
       "                var nbb_cell_id = 22;\n",
       "                var nbb_unformatted_code = \"def smallest(hist, n=10):\\n    return hist[:n]\";\n",
       "                var nbb_formatted_code = \"def smallest(hist, n=10):\\n    return hist[:n]\";\n",
       "                var nbb_cells = Jupyter.notebook.get_cells();\n",
       "                for (var i = 0; i < nbb_cells.length; ++i) {\n",
       "                    if (nbb_cells[i].input_prompt_number == nbb_cell_id) {\n",
       "                        if (nbb_cells[i].get_text() == nbb_unformatted_code) {\n",
       "                             nbb_cells[i].set_text(nbb_formatted_code);\n",
       "                        }\n",
       "                        break;\n",
       "                    }\n",
       "                }\n",
       "            }, 500);\n",
       "            "
      ],
      "text/plain": [
       "<IPython.core.display.Javascript object>"
      ]
     },
     "metadata": {},
     "output_type": "display_data"
    }
   ],
   "source": [
    "def smallest(hist, n=10):\n",
    "    return hist[:n]"
   ]
  },
  {
   "cell_type": "code",
   "execution_count": 23,
   "id": "aa9cc34c",
   "metadata": {},
   "outputs": [
    {
     "data": {
      "text/plain": [
       "prglngth\n",
       "0     1\n",
       "4     1\n",
       "9     1\n",
       "13    1\n",
       "17    2\n",
       "18    1\n",
       "19    1\n",
       "20    1\n",
       "21    2\n",
       "22    7\n",
       "Name: prglngth, dtype: int64"
      ]
     },
     "execution_count": 23,
     "metadata": {},
     "output_type": "execute_result"
    },
    {
     "data": {
      "application/javascript": [
       "\n",
       "            setTimeout(function() {\n",
       "                var nbb_cell_id = 23;\n",
       "                var nbb_unformatted_code = \"smallest(hist)\";\n",
       "                var nbb_formatted_code = \"smallest(hist)\";\n",
       "                var nbb_cells = Jupyter.notebook.get_cells();\n",
       "                for (var i = 0; i < nbb_cells.length; ++i) {\n",
       "                    if (nbb_cells[i].input_prompt_number == nbb_cell_id) {\n",
       "                        if (nbb_cells[i].get_text() == nbb_unformatted_code) {\n",
       "                             nbb_cells[i].set_text(nbb_formatted_code);\n",
       "                        }\n",
       "                        break;\n",
       "                    }\n",
       "                }\n",
       "            }, 500);\n",
       "            "
      ],
      "text/plain": [
       "<IPython.core.display.Javascript object>"
      ]
     },
     "metadata": {},
     "output_type": "display_data"
    }
   ],
   "source": [
    "smallest(hist)"
   ]
  },
  {
   "cell_type": "markdown",
   "id": "8d0885b6",
   "metadata": {},
   "source": [
    "Values below 10 weeks are certainly errors; the most likely explanation is that the outcome was not coded correctly. \n",
    "Values higher than 30 weeks are probably legitimate.\n",
    "Between 10 and 30 weeks, it is hard to be sure; some values\n",
    "are probably errors, but some represent premature babies.\n",
    "\n",
    "On the other end of the range, the highest values are:"
   ]
  },
  {
   "cell_type": "code",
   "execution_count": 24,
   "id": "f6c279f3",
   "metadata": {},
   "outputs": [
    {
     "data": {
      "application/javascript": [
       "\n",
       "            setTimeout(function() {\n",
       "                var nbb_cell_id = 24;\n",
       "                var nbb_unformatted_code = \"def largest(hist, n=10):\\n    return hist[-n:]\";\n",
       "                var nbb_formatted_code = \"def largest(hist, n=10):\\n    return hist[-n:]\";\n",
       "                var nbb_cells = Jupyter.notebook.get_cells();\n",
       "                for (var i = 0; i < nbb_cells.length; ++i) {\n",
       "                    if (nbb_cells[i].input_prompt_number == nbb_cell_id) {\n",
       "                        if (nbb_cells[i].get_text() == nbb_unformatted_code) {\n",
       "                             nbb_cells[i].set_text(nbb_formatted_code);\n",
       "                        }\n",
       "                        break;\n",
       "                    }\n",
       "                }\n",
       "            }, 500);\n",
       "            "
      ],
      "text/plain": [
       "<IPython.core.display.Javascript object>"
      ]
     },
     "metadata": {},
     "output_type": "display_data"
    }
   ],
   "source": [
    "def largest(hist, n=10):\n",
    "    return hist[-n:]"
   ]
  },
  {
   "cell_type": "code",
   "execution_count": 25,
   "id": "79ab04ed",
   "metadata": {},
   "outputs": [
    {
     "data": {
      "text/plain": [
       "prglngth\n",
       "40    1116\n",
       "41     587\n",
       "42     328\n",
       "43     148\n",
       "44      46\n",
       "45      10\n",
       "46       1\n",
       "47       1\n",
       "48       7\n",
       "50       2\n",
       "Name: prglngth, dtype: int64"
      ]
     },
     "execution_count": 25,
     "metadata": {},
     "output_type": "execute_result"
    },
    {
     "data": {
      "application/javascript": [
       "\n",
       "            setTimeout(function() {\n",
       "                var nbb_cell_id = 25;\n",
       "                var nbb_unformatted_code = \"largest(hist)\";\n",
       "                var nbb_formatted_code = \"largest(hist)\";\n",
       "                var nbb_cells = Jupyter.notebook.get_cells();\n",
       "                for (var i = 0; i < nbb_cells.length; ++i) {\n",
       "                    if (nbb_cells[i].input_prompt_number == nbb_cell_id) {\n",
       "                        if (nbb_cells[i].get_text() == nbb_unformatted_code) {\n",
       "                             nbb_cells[i].set_text(nbb_formatted_code);\n",
       "                        }\n",
       "                        break;\n",
       "                    }\n",
       "                }\n",
       "            }, 500);\n",
       "            "
      ],
      "text/plain": [
       "<IPython.core.display.Javascript object>"
      ]
     },
     "metadata": {},
     "output_type": "display_data"
    }
   ],
   "source": [
    "largest(hist)"
   ]
  },
  {
   "cell_type": "markdown",
   "id": "532bed4a",
   "metadata": {},
   "source": [
    "Most doctors recommend induced labor if a pregnancy exceeds 41 weeks, so\n",
    "some of the longer values are surprising.\n",
    "In particular, 50 weeks seems medically unlikely.\n",
    "\n",
    "The best way to handle outliers depends on \"domain knowledge\" -- that is,\n",
    "information about where the data come from and what they mean. And it\n",
    "depends on what analysis you are planning to perform.\n",
    "\n",
    "In this example, the motivating question is whether first babies tend to\n",
    "be early (or late). When people ask this question, they are usually\n",
    "interested in full-term pregnancies, so for this analysis I will focus\n",
    "on pregnancies longer than 27 weeks."
   ]
  },
  {
   "cell_type": "markdown",
   "id": "ed8019a0",
   "metadata": {},
   "source": [
    "## First babies\n",
    "\n",
    "Now we can compare the distribution of pregnancy lengths for first\n",
    "babies and others. I divided the `DataFrame` of live births using\n",
    "`birthord`, and computed their histograms:"
   ]
  },
  {
   "cell_type": "code",
   "execution_count": 26,
   "id": "0be43f7f",
   "metadata": {},
   "outputs": [
    {
     "data": {
      "application/javascript": [
       "\n",
       "            setTimeout(function() {\n",
       "                var nbb_cell_id = 26;\n",
       "                var nbb_unformatted_code = \"firsts = live[live.birthord == 1]\\nothers = live[live.birthord != 1]\\nfirst_hist = Hist.from_seq(firsts.prglngth, name=\\\"first\\\")\\nother_hist = Hist.from_seq(others.prglngth, name=\\\"other\\\")\";\n",
       "                var nbb_formatted_code = \"firsts = live[live.birthord == 1]\\nothers = live[live.birthord != 1]\\nfirst_hist = Hist.from_seq(firsts.prglngth, name=\\\"first\\\")\\nother_hist = Hist.from_seq(others.prglngth, name=\\\"other\\\")\";\n",
       "                var nbb_cells = Jupyter.notebook.get_cells();\n",
       "                for (var i = 0; i < nbb_cells.length; ++i) {\n",
       "                    if (nbb_cells[i].input_prompt_number == nbb_cell_id) {\n",
       "                        if (nbb_cells[i].get_text() == nbb_unformatted_code) {\n",
       "                             nbb_cells[i].set_text(nbb_formatted_code);\n",
       "                        }\n",
       "                        break;\n",
       "                    }\n",
       "                }\n",
       "            }, 500);\n",
       "            "
      ],
      "text/plain": [
       "<IPython.core.display.Javascript object>"
      ]
     },
     "metadata": {},
     "output_type": "display_data"
    }
   ],
   "source": [
    "firsts = live[live.birthord == 1]\n",
    "others = live[live.birthord != 1]\n",
    "first_hist = Hist.from_seq(firsts.prglngth, name=\"first\")\n",
    "other_hist = Hist.from_seq(others.prglngth, name=\"other\")"
   ]
  },
  {
   "cell_type": "markdown",
   "id": "53df72ac",
   "metadata": {},
   "source": [
    "Then I plotted their histograms on the same axis:"
   ]
  },
  {
   "cell_type": "code",
   "execution_count": 27,
   "id": "840ecd72",
   "metadata": {},
   "outputs": [
    {
     "data": {
      "application/javascript": [
       "\n",
       "            setTimeout(function() {\n",
       "                var nbb_cell_id = 27;\n",
       "                var nbb_unformatted_code = \"def two_bar_plots(hist1, hist2, width=0.45, **options):\\n    \\\"\\\"\\\"Makes two back-to-back bar plots.\\n\\n    hist1: Hist object\\n    hist2: Hist object\\n    width: width of the bars\\n    options: passed along to plt.bar\\n    \\\"\\\"\\\"\\n    hist1.bar(align=\\\"edge\\\", width=-width, **options)\\n    hist2.bar(align=\\\"edge\\\", width=width, **options)\";\n",
       "                var nbb_formatted_code = \"def two_bar_plots(hist1, hist2, width=0.45, **options):\\n    \\\"\\\"\\\"Makes two back-to-back bar plots.\\n\\n    hist1: Hist object\\n    hist2: Hist object\\n    width: width of the bars\\n    options: passed along to plt.bar\\n    \\\"\\\"\\\"\\n    hist1.bar(align=\\\"edge\\\", width=-width, **options)\\n    hist2.bar(align=\\\"edge\\\", width=width, **options)\";\n",
       "                var nbb_cells = Jupyter.notebook.get_cells();\n",
       "                for (var i = 0; i < nbb_cells.length; ++i) {\n",
       "                    if (nbb_cells[i].input_prompt_number == nbb_cell_id) {\n",
       "                        if (nbb_cells[i].get_text() == nbb_unformatted_code) {\n",
       "                             nbb_cells[i].set_text(nbb_formatted_code);\n",
       "                        }\n",
       "                        break;\n",
       "                    }\n",
       "                }\n",
       "            }, 500);\n",
       "            "
      ],
      "text/plain": [
       "<IPython.core.display.Javascript object>"
      ]
     },
     "metadata": {},
     "output_type": "display_data"
    }
   ],
   "source": [
    "def two_bar_plots(hist1, hist2, width=0.45, **options):\n",
    "    \"\"\"Makes two back-to-back bar plots.\n",
    "\n",
    "    hist1: Hist object\n",
    "    hist2: Hist object\n",
    "    width: width of the bars\n",
    "    options: passed along to plt.bar\n",
    "    \"\"\"\n",
    "    hist1.bar(align=\"edge\", width=-width, **options)\n",
    "    hist2.bar(align=\"edge\", width=width, **options)"
   ]
  },
  {
   "cell_type": "code",
   "execution_count": 28,
   "id": "2f668802",
   "metadata": {},
   "outputs": [
    {
     "data": {
      "image/png": "[encoded data removed]",
      "text/plain": [
       "<Figure size 640x480 with 1 Axes>"
      ]
     },
     "metadata": {},
     "output_type": "display_data"
    },
    {
     "data": {
      "application/javascript": [
       "\n",
       "            setTimeout(function() {\n",
       "                var nbb_cell_id = 28;\n",
       "                var nbb_unformatted_code = \"two_bar_plots(first_hist, other_hist)\\ndecorate(xlabel=\\\"weeks\\\", ylabel=\\\"frequency\\\", xlim=[27, 46])\";\n",
       "                var nbb_formatted_code = \"two_bar_plots(first_hist, other_hist)\\ndecorate(xlabel=\\\"weeks\\\", ylabel=\\\"frequency\\\", xlim=[27, 46])\";\n",
       "                var nbb_cells = Jupyter.notebook.get_cells();\n",
       "                for (var i = 0; i < nbb_cells.length; ++i) {\n",
       "                    if (nbb_cells[i].input_prompt_number == nbb_cell_id) {\n",
       "                        if (nbb_cells[i].get_text() == nbb_unformatted_code) {\n",
       "                             nbb_cells[i].set_text(nbb_formatted_code);\n",
       "                        }\n",
       "                        break;\n",
       "                    }\n",
       "                }\n",
       "            }, 500);\n",
       "            "
      ],
      "text/plain": [
       "<IPython.core.display.Javascript object>"
      ]
     },
     "metadata": {},
     "output_type": "display_data"
    }
   ],
   "source": [
    "two_bar_plots(first_hist, other_hist)\n",
    "decorate(xlabel=\"weeks\", ylabel=\"frequency\", xlim=[27, 46])"
   ]
  },
  {
   "cell_type": "markdown",
   "id": "c745318e",
   "metadata": {},
   "source": [
    "\n",
    "\n",
    "Finally, I adjust the axis to show only data between 27 and 46 weeks."
   ]
  },
  {
   "cell_type": "markdown",
   "id": "841bec16",
   "metadata": {},
   "source": [
    "Histograms are useful because they make the most frequent values\n",
    "immediately apparent. But they are not the best choice for comparing two\n",
    "distributions. In this example, there are fewer \"first babies\" than\n",
    "\"others,\" so some of the apparent differences in the histograms are due\n",
    "to the different sample sizes. In the next chapter we address this problem using\n",
    "probability mass functions."
   ]
  },
  {
   "cell_type": "markdown",
   "id": "4fca3ea9",
   "metadata": {},
   "source": [
    "## Summarizing distributions\n",
    "\n",
    "A histogram is a complete description of the distribution of a sample;\n",
    "that is, given a histogram, we could reconstruct the values in the\n",
    "sample (although not their order).\n",
    "\n",
    "If the details of the distribution are important, it might be necessary\n",
    "to present a histogram. But often we want to summarize the distribution\n",
    "with a few descriptive statistics.\n",
    "\n",
    "Some of the characteristics we might want to report are:\n",
    "\n",
    "-   central tendency: Do the values tend to cluster around a particular\n",
    "    point?\n",
    "\n",
    "-   modes: Is there more than one cluster?\n",
    "\n",
    "-   spread: How much variability is there in the values?\n",
    "\n",
    "-   tails: How quickly do the probabilities drop off as we move away\n",
    "    from the modes?\n",
    "\n",
    "-   outliers: Are there extreme values far from the modes?\n",
    "\n",
    "Statistics designed to answer these questions are called **summary\n",
    "statistics**. By far the most common summary statistic is the **mean**,\n",
    "which is meant to describe the central tendency of the distribution.\n",
    "\n",
    "If you have a sample of `n` values, $x_i$, the mean, $\\bar{x}$, is the sum\n",
    "of the values divided by the number of values; in other words\n",
    "$$\\bar{x} = \\frac{1}{n} \\sum_i x_i$$ The words \"mean\" and \"average\" are\n",
    "sometimes used interchangeably, but I make this distinction:\n",
    "\n",
    "-   The \"mean\" of a sample is the summary statistic computed with the\n",
    "    previous formula.\n",
    "\n",
    "-   An \"average\" is one of several summary statistics you might choose\n",
    "    to describe a central tendency.\n",
    "\n",
    "Sometimes the mean is a good description of a set of values. For\n",
    "example, apples are all pretty much the same size (at least the ones\n",
    "sold in supermarkets). So if I buy 6 apples and the total weight is 3\n",
    "pounds, it would be a reasonable summary to say they are about a half\n",
    "pound each.\n",
    "\n",
    "But pumpkins are more diverse. Suppose I grow several varieties in my\n",
    "garden, and one day I harvest three decorative pumpkins that are 1 pound\n",
    "each, two pie pumpkins that are 3 pounds each, and one Atlantic\n",
    "Giant pumpkin that weighs 591 pounds. The mean of this sample is 100\n",
    "pounds, but if I told you \"The average pumpkin in my garden is 100\n",
    "pounds,\" that would be misleading. In this example, there is no\n",
    "meaningful average because there is no typical pumpkin."
   ]
  },
  {
   "cell_type": "markdown",
   "id": "ea5a5abc",
   "metadata": {},
   "source": [
    "## Variance\n",
    "\n",
    "If there is no single number that summarizes pumpkin weights, we can do\n",
    "a little better with two numbers: mean and **variance**.\n",
    "\n",
    "Variance is a summary statistic intended to describe the variability or\n",
    "spread of a distribution. The variance of a set of values is\n",
    "$$S^2 = \\frac{1}{n} \\sum_i (x_i - \\bar{x})^2$$ The term $x_i - \\bar{x}$ is\n",
    "called the \"deviation from the mean,\" so variance is the mean squared\n",
    "deviation. The square root of variance, $S$, is the **standard\n",
    "deviation**.\n",
    "\n",
    "If you have prior experience, you might have seen a formula for variance\n",
    "with $n-1$ in the denominator, rather than `n`. This statistic is used\n",
    "to estimate the variance in a population using a sample. We will come\n",
    "back to this in\n",
    "Chapter [\\[estimation\\]](#estimation){reference-type=\"ref\"\n",
    "reference=\"estimation\"}.\n",
    "\n",
    "pandas data structures provides methods to compute mean, variance and\n",
    "standard deviation:"
   ]
  },
  {
   "cell_type": "code",
   "execution_count": 29,
   "id": "dfa080dd",
   "metadata": {},
   "outputs": [
    {
     "data": {
      "text/plain": [
       "38.56055968517709"
      ]
     },
     "execution_count": 29,
     "metadata": {},
     "output_type": "execute_result"
    },
    {
     "data": {
      "application/javascript": [
       "\n",
       "            setTimeout(function() {\n",
       "                var nbb_cell_id = 29;\n",
       "                var nbb_unformatted_code = \"mean = live.prglngth.mean()\\nmean\";\n",
       "                var nbb_formatted_code = \"mean = live.prglngth.mean()\\nmean\";\n",
       "                var nbb_cells = Jupyter.notebook.get_cells();\n",
       "                for (var i = 0; i < nbb_cells.length; ++i) {\n",
       "                    if (nbb_cells[i].input_prompt_number == nbb_cell_id) {\n",
       "                        if (nbb_cells[i].get_text() == nbb_unformatted_code) {\n",
       "                             nbb_cells[i].set_text(nbb_formatted_code);\n",
       "                        }\n",
       "                        break;\n",
       "                    }\n",
       "                }\n",
       "            }, 500);\n",
       "            "
      ],
      "text/plain": [
       "<IPython.core.display.Javascript object>"
      ]
     },
     "metadata": {},
     "output_type": "display_data"
    }
   ],
   "source": [
    "mean = live.prglngth.mean()\n",
    "mean"
   ]
  },
  {
   "cell_type": "code",
   "execution_count": 30,
   "id": "c3da2a84",
   "metadata": {},
   "outputs": [
    {
     "data": {
      "text/plain": [
       "7.302662067826817"
      ]
     },
     "execution_count": 30,
     "metadata": {},
     "output_type": "execute_result"
    },
    {
     "data": {
      "application/javascript": [
       "\n",
       "            setTimeout(function() {\n",
       "                var nbb_cell_id = 30;\n",
       "                var nbb_unformatted_code = \"var = live.prglngth.var()\\nvar\";\n",
       "                var nbb_formatted_code = \"var = live.prglngth.var()\\nvar\";\n",
       "                var nbb_cells = Jupyter.notebook.get_cells();\n",
       "                for (var i = 0; i < nbb_cells.length; ++i) {\n",
       "                    if (nbb_cells[i].input_prompt_number == nbb_cell_id) {\n",
       "                        if (nbb_cells[i].get_text() == nbb_unformatted_code) {\n",
       "                             nbb_cells[i].set_text(nbb_formatted_code);\n",
       "                        }\n",
       "                        break;\n",
       "                    }\n",
       "                }\n",
       "            }, 500);\n",
       "            "
      ],
      "text/plain": [
       "<IPython.core.display.Javascript object>"
      ]
     },
     "metadata": {},
     "output_type": "display_data"
    }
   ],
   "source": [
    "var = live.prglngth.var()\n",
    "var"
   ]
  },
  {
   "cell_type": "code",
   "execution_count": 31,
   "id": "8fac18bb",
   "metadata": {},
   "outputs": [
    {
     "data": {
      "text/plain": [
       "2.702343810070587"
      ]
     },
     "execution_count": 31,
     "metadata": {},
     "output_type": "execute_result"
    },
    {
     "data": {
      "application/javascript": [
       "\n",
       "            setTimeout(function() {\n",
       "                var nbb_cell_id = 31;\n",
       "                var nbb_unformatted_code = \"std = live.prglngth.std()\\nstd\";\n",
       "                var nbb_formatted_code = \"std = live.prglngth.std()\\nstd\";\n",
       "                var nbb_cells = Jupyter.notebook.get_cells();\n",
       "                for (var i = 0; i < nbb_cells.length; ++i) {\n",
       "                    if (nbb_cells[i].input_prompt_number == nbb_cell_id) {\n",
       "                        if (nbb_cells[i].get_text() == nbb_unformatted_code) {\n",
       "                             nbb_cells[i].set_text(nbb_formatted_code);\n",
       "                        }\n",
       "                        break;\n",
       "                    }\n",
       "                }\n",
       "            }, 500);\n",
       "            "
      ],
      "text/plain": [
       "<IPython.core.display.Javascript object>"
      ]
     },
     "metadata": {},
     "output_type": "display_data"
    }
   ],
   "source": [
    "std = live.prglngth.std()\n",
    "std"
   ]
  },
  {
   "cell_type": "markdown",
   "id": "d5868bde",
   "metadata": {},
   "source": [
    "For all live births, the mean pregnancy length is 38.6 weeks, the\n",
    "standard deviation is 2.7 weeks, which means we should expect deviations\n",
    "of 2-3 weeks to be common.\n",
    "\n",
    "Variance of pregnancy length is 7.3, which is hard to interpret,\n",
    "especially since the units are weeks$^2$, or \"square weeks.\" Variance is\n",
    "useful in some calculations, but it is not a good summary statistic."
   ]
  },
  {
   "cell_type": "markdown",
   "id": "72c5526f",
   "metadata": {},
   "source": [
    "## Effect size\n",
    "\n",
    "An **effect size** is a summary statistic intended to describe (wait for\n",
    "it) the size of an effect. For example, to describe the difference\n",
    "between two groups, one obvious choice is the difference in the means.\n",
    "\n",
    "Mean pregnancy length for first babies is 38.601; for other babies it is\n",
    "38.523. The difference is 0.078 weeks, which works out to 13 hours. As a\n",
    "fraction of the typical pregnancy length, this difference is about 0.2%.\n",
    "\n",
    "If we assume this estimate is accurate, such a difference would have no\n",
    "practical consequences. In fact, without observing a large number of\n",
    "pregnancies, it is unlikely that anyone would notice this difference at\n",
    "all.\n",
    "\n",
    "Another way to convey the size of the effect is to compare the\n",
    "difference between groups to the variability within groups. Cohen's $d$\n",
    "is a statistic intended to do that; it is defined\n",
    "$$d = \\frac{\\bar{x_1} - \\bar{x_2}}{s}$$ where $\\bar{x_1}$ and\n",
    "$\\bar{x_2}$ are the means of the groups and $s$ is the \"pooled standard\n",
    "deviation\". Here's the Python code that computes Cohen's $d$:"
   ]
  },
  {
   "cell_type": "code",
   "execution_count": 32,
   "id": "0cecadaa",
   "metadata": {},
   "outputs": [
    {
     "data": {
      "application/javascript": [
       "\n",
       "            setTimeout(function() {\n",
       "                var nbb_cell_id = 32;\n",
       "                var nbb_unformatted_code = \"def cohen_effect_size(group1, group2):\\n    \\\"\\\"\\\"Computes Cohen's effect size for two groups.\\n\\n    group1: sequence\\n    group2: sequence\\n\\n    returns: float\\n    \\\"\\\"\\\"\\n    diff = np.mean(group1) - np.mean(group2)\\n    var1 = np.var(group1)\\n    var2 = np.var(group2)\\n    n1, n2 = len(group1), len(group2)\\n    pooled_var = (n1 * var1 + n2 * var2) / (n1 + n2)\\n    d = diff / np.sqrt(pooled_var)\\n    return d\";\n",
       "                var nbb_formatted_code = \"def cohen_effect_size(group1, group2):\\n    \\\"\\\"\\\"Computes Cohen's effect size for two groups.\\n\\n    group1: sequence\\n    group2: sequence\\n\\n    returns: float\\n    \\\"\\\"\\\"\\n    diff = np.mean(group1) - np.mean(group2)\\n    var1 = np.var(group1)\\n    var2 = np.var(group2)\\n    n1, n2 = len(group1), len(group2)\\n    pooled_var = (n1 * var1 + n2 * var2) / (n1 + n2)\\n    d = diff / np.sqrt(pooled_var)\\n    return d\";\n",
       "                var nbb_cells = Jupyter.notebook.get_cells();\n",
       "                for (var i = 0; i < nbb_cells.length; ++i) {\n",
       "                    if (nbb_cells[i].input_prompt_number == nbb_cell_id) {\n",
       "                        if (nbb_cells[i].get_text() == nbb_unformatted_code) {\n",
       "                             nbb_cells[i].set_text(nbb_formatted_code);\n",
       "                        }\n",
       "                        break;\n",
       "                    }\n",
       "                }\n",
       "            }, 500);\n",
       "            "
      ],
      "text/plain": [
       "<IPython.core.display.Javascript object>"
      ]
     },
     "metadata": {},
     "output_type": "display_data"
    }
   ],
   "source": [
    "def cohen_effect_size(group1, group2):\n",
    "    \"\"\"Computes Cohen's effect size for two groups.\n",
    "\n",
    "    group1: sequence\n",
    "    group2: sequence\n",
    "\n",
    "    returns: float\n",
    "    \"\"\"\n",
    "    diff = np.mean(group1) - np.mean(group2)\n",
    "    var1 = np.var(group1)\n",
    "    var2 = np.var(group2)\n",
    "    n1, n2 = len(group1), len(group2)\n",
    "    pooled_var = (n1 * var1 + n2 * var2) / (n1 + n2)\n",
    "    d = diff / np.sqrt(pooled_var)\n",
    "    return d"
   ]
  },
  {
   "cell_type": "code",
   "execution_count": 33,
   "id": "e6e19a82",
   "metadata": {},
   "outputs": [
    {
     "data": {
      "text/plain": [
       "0.028882209288160876"
      ]
     },
     "execution_count": 33,
     "metadata": {},
     "output_type": "execute_result"
    },
    {
     "data": {
      "application/javascript": [
       "\n",
       "            setTimeout(function() {\n",
       "                var nbb_cell_id = 33;\n",
       "                var nbb_unformatted_code = \"cohen_effect_size(firsts.prglngth, others.prglngth)\";\n",
       "                var nbb_formatted_code = \"cohen_effect_size(firsts.prglngth, others.prglngth)\";\n",
       "                var nbb_cells = Jupyter.notebook.get_cells();\n",
       "                for (var i = 0; i < nbb_cells.length; ++i) {\n",
       "                    if (nbb_cells[i].input_prompt_number == nbb_cell_id) {\n",
       "                        if (nbb_cells[i].get_text() == nbb_unformatted_code) {\n",
       "                             nbb_cells[i].set_text(nbb_formatted_code);\n",
       "                        }\n",
       "                        break;\n",
       "                    }\n",
       "                }\n",
       "            }, 500);\n",
       "            "
      ],
      "text/plain": [
       "<IPython.core.display.Javascript object>"
      ]
     },
     "metadata": {},
     "output_type": "display_data"
    }
   ],
   "source": [
    "cohen_effect_size(firsts.prglngth, others.prglngth)"
   ]
  },
  {
   "cell_type": "markdown",
   "id": "bd8c1b97",
   "metadata": {},
   "source": [
    "In this example, the difference in means is 0.029 standard deviations,\n",
    "which is small. To put that in perspective, the difference in height\n",
    "between men and women is about 1.7 standard deviations (see\n",
    "<https://en.wikipedia.org/wiki/Effect_size>)."
   ]
  },
  {
   "cell_type": "markdown",
   "id": "73d554e6",
   "metadata": {},
   "source": [
    "## Reporting results\n",
    "\n",
    "We have seen several ways to describe the difference in pregnancy length\n",
    "(if there is one) between first babies and others. How should we report\n",
    "these results?\n",
    "\n",
    "The answer depends on who is asking the question. A scientist might be\n",
    "interested in any (real) effect, no matter how small. A doctor might\n",
    "only care about effects that are **clinically significant**; that is,\n",
    "differences that affect treatment decisions. A pregnant woman might be\n",
    "interested in results that are relevant to her, like the probability of\n",
    "delivering early or late.\n",
    "\n",
    "How you report results also depends on your goals. If you are trying to\n",
    "demonstrate the importance of an effect, you might choose summary\n",
    "statistics that emphasize differences. If you are trying to reassure a\n",
    "patient, you might choose statistics that put the differences in\n",
    "context.\n",
    "\n",
    "Of course your decisions should also be guided by professional ethics.\n",
    "It's OK to be persuasive; you *should* design statistical reports and\n",
    "visualizations that tell a story clearly. But you should also do your\n",
    "best to make your reports honest, and to acknowledge uncertainty and\n",
    "limitations."
   ]
  },
  {
   "cell_type": "markdown",
   "id": "9d070d5e",
   "metadata": {},
   "source": [
    "## Glossary\n",
    "\n",
    "-   **distribution**: The values that appear in a sample and the\n",
    "    frequency of each.\n",
    "\n",
    "-   **histogram**: A mapping from values to frequencies, or a graph that\n",
    "    shows this mapping.\n",
    "\n",
    "-   **frequency**: The number of times a value appears in a sample.\n",
    "\n",
    "-   **mode**: The most frequent value in a sample, or one of the most\n",
    "    frequent values.\n",
    "\n",
    "-   **normal distribution**: An idealization of a bell-shaped\n",
    "    distribution; also known as a Gaussian distribution.\n",
    "\n",
    "-   **uniform distribution**: A distribution in which all values have\n",
    "    the same frequency.\n",
    "\n",
    "-   **tail**: The part of a distribution at the high and low extremes.\n",
    "\n",
    "-   **central tendency**: A characteristic of a sample or population;\n",
    "    intuitively, it is an average or typical value.\n",
    "\n",
    "-   **outlier**: A value far from the central tendency.\n",
    "\n",
    "-   **spread**: A measure of how spread out the values in a distribution\n",
    "    are.\n",
    "\n",
    "-   **summary statistic**: A statistic that quantifies some aspect of a\n",
    "    distribution, like central tendency or spread.\n",
    "\n",
    "-   **variance**: A summary statistic often used to quantify spread.\n",
    "\n",
    "-   **standard deviation**: The square root of variance, also used as a\n",
    "    measure of spread.\n",
    "\n",
    "-   **effect size**: A summary statistic intended to quantify the size\n",
    "    of an effect like a difference between groups.\n",
    "\n",
    "-   **clinically significant**: A result, like a difference between\n",
    "    groups, that is relevant in practice."
   ]
  },
  {
   "cell_type": "markdown",
   "id": "65b9f818",
   "metadata": {
    "collapsed": true
   },
   "source": [
    "## Exercises"
   ]
  },
  {
   "cell_type": "markdown",
   "id": "b8f8d29d",
   "metadata": {},
   "source": [
    "**Exercise:** Using the variable `totalwgt_lb`, investigate whether first babies are lighter or heavier than others. \n",
    "\n",
    "Compute Cohen's effect size to quantify the difference between the groups.  How does it compare to the difference in pregnancy length?"
   ]
  },
  {
   "cell_type": "code",
   "execution_count": 34,
   "id": "018bdb7d",
   "metadata": {},
   "outputs": [
    {
     "data": {
      "text/plain": [
       "(7.201094430437772, 7.325855614973262)"
      ]
     },
     "execution_count": 34,
     "metadata": {},
     "output_type": "execute_result"
    },
    {
     "data": {
      "application/javascript": [
       "\n",
       "            setTimeout(function() {\n",
       "                var nbb_cell_id = 34;\n",
       "                var nbb_unformatted_code = \"# Solution\\n\\nfirsts.totalwgt_lb.mean(), others.totalwgt_lb.mean()\";\n",
       "                var nbb_formatted_code = \"# Solution\\n\\nfirsts.totalwgt_lb.mean(), others.totalwgt_lb.mean()\";\n",
       "                var nbb_cells = Jupyter.notebook.get_cells();\n",
       "                for (var i = 0; i < nbb_cells.length; ++i) {\n",
       "                    if (nbb_cells[i].input_prompt_number == nbb_cell_id) {\n",
       "                        if (nbb_cells[i].get_text() == nbb_unformatted_code) {\n",
       "                             nbb_cells[i].set_text(nbb_formatted_code);\n",
       "                        }\n",
       "                        break;\n",
       "                    }\n",
       "                }\n",
       "            }, 500);\n",
       "            "
      ],
      "text/plain": [
       "<IPython.core.display.Javascript object>"
      ]
     },
     "metadata": {},
     "output_type": "display_data"
    }
   ],
   "source": [
    "# Solution\n",
    "\n",
    "firsts.totalwgt_lb.mean(), others.totalwgt_lb.mean()"
   ]
  },
  {
   "cell_type": "code",
   "execution_count": 35,
   "id": "67b2718d",
   "metadata": {},
   "outputs": [
    {
     "data": {
      "text/plain": [
       "-0.08868274594712998"
      ]
     },
     "execution_count": 35,
     "metadata": {},
     "output_type": "execute_result"
    },
    {
     "data": {
      "application/javascript": [
       "\n",
       "            setTimeout(function() {\n",
       "                var nbb_cell_id = 35;\n",
       "                var nbb_unformatted_code = \"# Solution\\n\\ncohen_effect_size(firsts.totalwgt_lb, others.totalwgt_lb)\";\n",
       "                var nbb_formatted_code = \"# Solution\\n\\ncohen_effect_size(firsts.totalwgt_lb, others.totalwgt_lb)\";\n",
       "                var nbb_cells = Jupyter.notebook.get_cells();\n",
       "                for (var i = 0; i < nbb_cells.length; ++i) {\n",
       "                    if (nbb_cells[i].input_prompt_number == nbb_cell_id) {\n",
       "                        if (nbb_cells[i].get_text() == nbb_unformatted_code) {\n",
       "                             nbb_cells[i].set_text(nbb_formatted_code);\n",
       "                        }\n",
       "                        break;\n",
       "                    }\n",
       "                }\n",
       "            }, 500);\n",
       "            "
      ],
      "text/plain": [
       "<IPython.core.display.Javascript object>"
      ]
     },
     "metadata": {},
     "output_type": "display_data"
    }
   ],
   "source": [
    "# Solution\n",
    "\n",
    "cohen_effect_size(firsts.totalwgt_lb, others.totalwgt_lb)"
   ]
  },
  {
   "cell_type": "markdown",
   "id": "86f4893b",
   "metadata": {},
   "source": [
    "**Exercise:** For the next few exercises, we'll load the NSFG respondent file:"
   ]
  },
  {
   "cell_type": "code",
   "execution_count": 36,
   "id": "6261b596",
   "metadata": {},
   "outputs": [
    {
     "data": {
      "application/javascript": [
       "\n",
       "            setTimeout(function() {\n",
       "                var nbb_cell_id = 36;\n",
       "                var nbb_unformatted_code = \"download(\\\"https://github.com/AllenDowney/ThinkStats/raw/v3/data/2002FemResp.dct\\\")\\ndownload(\\\"https://github.com/AllenDowney/ThinkStats/raw/v3/data/2002FemResp.dat.gz\\\")\";\n",
       "                var nbb_formatted_code = \"download(\\\"https://github.com/AllenDowney/ThinkStats/raw/v3/data/2002FemResp.dct\\\")\\ndownload(\\\"https://github.com/AllenDowney/ThinkStats/raw/v3/data/2002FemResp.dat.gz\\\")\";\n",
       "                var nbb_cells = Jupyter.notebook.get_cells();\n",
       "                for (var i = 0; i < nbb_cells.length; ++i) {\n",
       "                    if (nbb_cells[i].input_prompt_number == nbb_cell_id) {\n",
       "                        if (nbb_cells[i].get_text() == nbb_unformatted_code) {\n",
       "                             nbb_cells[i].set_text(nbb_formatted_code);\n",
       "                        }\n",
       "                        break;\n",
       "                    }\n",
       "                }\n",
       "            }, 500);\n",
       "            "
      ],
      "text/plain": [
       "<IPython.core.display.Javascript object>"
      ]
     },
     "metadata": {},
     "output_type": "display_data"
    }
   ],
   "source": [
    "download(\"https://github.com/AllenDowney/ThinkStats/raw/v3/data/2002FemResp.dct\")\n",
    "download(\"https://github.com/AllenDowney/ThinkStats/raw/v3/data/2002FemResp.dat.gz\")"
   ]
  },
  {
   "cell_type": "code",
   "execution_count": 37,
   "id": "6dffc3cb",
   "metadata": {},
   "outputs": [
    {
     "data": {
      "application/javascript": [
       "\n",
       "            setTimeout(function() {\n",
       "                var nbb_cell_id = 37;\n",
       "                var nbb_unformatted_code = \"from nsfg import read_fem_resp\\n\\nresp = read_fem_resp()\";\n",
       "                var nbb_formatted_code = \"from nsfg import read_fem_resp\\n\\nresp = read_fem_resp()\";\n",
       "                var nbb_cells = Jupyter.notebook.get_cells();\n",
       "                for (var i = 0; i < nbb_cells.length; ++i) {\n",
       "                    if (nbb_cells[i].input_prompt_number == nbb_cell_id) {\n",
       "                        if (nbb_cells[i].get_text() == nbb_unformatted_code) {\n",
       "                             nbb_cells[i].set_text(nbb_formatted_code);\n",
       "                        }\n",
       "                        break;\n",
       "                    }\n",
       "                }\n",
       "            }, 500);\n",
       "            "
      ],
      "text/plain": [
       "<IPython.core.display.Javascript object>"
      ]
     },
     "metadata": {},
     "output_type": "display_data"
    }
   ],
   "source": [
    "from nsfg import read_fem_resp\n",
    "\n",
    "resp = read_fem_resp()"
   ]
  },
  {
   "cell_type": "markdown",
   "id": "0f0c3861",
   "metadata": {},
   "source": [
    "Make a histogram of `totincr` the total income for the respondent's family.  To interpret the codes see the [codebook](ftp://ftp.cdc.gov/pub/Health_Statistics/NCHS/Dataset_Documentation/NSFG/Cycle6Codebook-Pregnancy.pdf)."
   ]
  },
  {
   "cell_type": "code",
   "execution_count": 38,
   "id": "2c49d30c",
   "metadata": {},
   "outputs": [
    {
     "data": {
      "image/png": "[encoded data removed]",
      "text/plain": [
       "<Figure size 640x480 with 1 Axes>"
      ]
     },
     "metadata": {},
     "output_type": "display_data"
    },
    {
     "data": {
      "application/javascript": [
       "\n",
       "            setTimeout(function() {\n",
       "                var nbb_cell_id = 38;\n",
       "                var nbb_unformatted_code = \"# Solution\\n\\nhist = Hist.from_seq(resp.totincr, name=\\\"totincr\\\")\\nhist.bar()\\ndecorate(xlabel=\\\"income (category)\\\", ylabel=\\\"Count\\\")\";\n",
       "                var nbb_formatted_code = \"# Solution\\n\\nhist = Hist.from_seq(resp.totincr, name=\\\"totincr\\\")\\nhist.bar()\\ndecorate(xlabel=\\\"income (category)\\\", ylabel=\\\"Count\\\")\";\n",
       "                var nbb_cells = Jupyter.notebook.get_cells();\n",
       "                for (var i = 0; i < nbb_cells.length; ++i) {\n",
       "                    if (nbb_cells[i].input_prompt_number == nbb_cell_id) {\n",
       "                        if (nbb_cells[i].get_text() == nbb_unformatted_code) {\n",
       "                             nbb_cells[i].set_text(nbb_formatted_code);\n",
       "                        }\n",
       "                        break;\n",
       "                    }\n",
       "                }\n",
       "            }, 500);\n",
       "            "
      ],
      "text/plain": [
       "<IPython.core.display.Javascript object>"
      ]
     },
     "metadata": {},
     "output_type": "display_data"
    }
   ],
   "source": [
    "# Solution\n",
    "\n",
    "hist = Hist.from_seq(resp.totincr, name=\"totincr\")\n",
    "hist.bar()\n",
    "decorate(xlabel=\"income (category)\", ylabel=\"Count\")"
   ]
  },
  {
   "cell_type": "markdown",
   "id": "ca38328c",
   "metadata": {},
   "source": [
    "**Exercise:** Make a histogram of `age_r`, the respondent's age at the time of interview."
   ]
  },
  {
   "cell_type": "code",
   "execution_count": 39,
   "id": "b5229999",
   "metadata": {},
   "outputs": [
    {
     "data": {
      "image/png": "[encoded data removed]",
      "text/plain": [
       "<Figure size 640x480 with 1 Axes>"
      ]
     },
     "metadata": {},
     "output_type": "display_data"
    },
    {
     "data": {
      "application/javascript": [
       "\n",
       "            setTimeout(function() {\n",
       "                var nbb_cell_id = 39;\n",
       "                var nbb_unformatted_code = \"# Solution\\n\\nhist = Hist.from_seq(resp.ager, name=\\\"ager\\\")\\nhist.bar()\\ndecorate(xlabel=\\\"age (years)\\\", ylabel=\\\"Count\\\")\";\n",
       "                var nbb_formatted_code = \"# Solution\\n\\nhist = Hist.from_seq(resp.ager, name=\\\"ager\\\")\\nhist.bar()\\ndecorate(xlabel=\\\"age (years)\\\", ylabel=\\\"Count\\\")\";\n",
       "                var nbb_cells = Jupyter.notebook.get_cells();\n",
       "                for (var i = 0; i < nbb_cells.length; ++i) {\n",
       "                    if (nbb_cells[i].input_prompt_number == nbb_cell_id) {\n",
       "                        if (nbb_cells[i].get_text() == nbb_unformatted_code) {\n",
       "                             nbb_cells[i].set_text(nbb_formatted_code);\n",
       "                        }\n",
       "                        break;\n",
       "                    }\n",
       "                }\n",
       "            }, 500);\n",
       "            "
      ],
      "text/plain": [
       "<IPython.core.display.Javascript object>"
      ]
     },
     "metadata": {},
     "output_type": "display_data"
    }
   ],
   "source": [
    "# Solution\n",
    "\n",
    "hist = Hist.from_seq(resp.ager, name=\"ager\")\n",
    "hist.bar()\n",
    "decorate(xlabel=\"age (years)\", ylabel=\"Count\")"
   ]
  },
  {
   "cell_type": "markdown",
   "id": "8d8de98a",
   "metadata": {},
   "source": [
    "**Exercise:** Make a histogram of `numfmhh`, the number of people in the respondent's household."
   ]
  },
  {
   "cell_type": "code",
   "execution_count": 40,
   "id": "e97c1d0b",
   "metadata": {},
   "outputs": [
    {
     "data": {
      "image/png": "[encoded data removed]",
      "text/plain": [
       "<Figure size 640x480 with 1 Axes>"
      ]
     },
     "metadata": {},
     "output_type": "display_data"
    },
    {
     "data": {
      "application/javascript": [
       "\n",
       "            setTimeout(function() {\n",
       "                var nbb_cell_id = 40;\n",
       "                var nbb_unformatted_code = \"# Solution\\n\\nhist = Hist.from_seq(resp.numfmhh, name=\\\"numfmhh\\\")\\nhist.bar()\\ndecorate(xlabel=\\\"number of people\\\", ylabel=\\\"Count\\\")\";\n",
       "                var nbb_formatted_code = \"# Solution\\n\\nhist = Hist.from_seq(resp.numfmhh, name=\\\"numfmhh\\\")\\nhist.bar()\\ndecorate(xlabel=\\\"number of people\\\", ylabel=\\\"Count\\\")\";\n",
       "                var nbb_cells = Jupyter.notebook.get_cells();\n",
       "                for (var i = 0; i < nbb_cells.length; ++i) {\n",
       "                    if (nbb_cells[i].input_prompt_number == nbb_cell_id) {\n",
       "                        if (nbb_cells[i].get_text() == nbb_unformatted_code) {\n",
       "                             nbb_cells[i].set_text(nbb_formatted_code);\n",
       "                        }\n",
       "                        break;\n",
       "                    }\n",
       "                }\n",
       "            }, 500);\n",
       "            "
      ],
      "text/plain": [
       "<IPython.core.display.Javascript object>"
      ]
     },
     "metadata": {},
     "output_type": "display_data"
    }
   ],
   "source": [
    "# Solution\n",
    "\n",
    "hist = Hist.from_seq(resp.numfmhh, name=\"numfmhh\")\n",
    "hist.bar()\n",
    "decorate(xlabel=\"number of people\", ylabel=\"Count\")"
   ]
  },
  {
   "cell_type": "markdown",
   "id": "ebe67fc8",
   "metadata": {},
   "source": [
    "**Exercise:** Make a histogram of `parity`, the number of children borne by the respondent.  How would you describe this distribution?"
   ]
  },
  {
   "cell_type": "code",
   "execution_count": 41,
   "id": "e740d764",
   "metadata": {},
   "outputs": [
    {
     "data": {
      "image/png": "[encoded data removed]",
      "text/plain": [
       "<Figure size 640x480 with 1 Axes>"
      ]
     },
     "metadata": {},
     "output_type": "display_data"
    },
    {
     "data": {
      "application/javascript": [
       "\n",
       "            setTimeout(function() {\n",
       "                var nbb_cell_id = 41;\n",
       "                var nbb_unformatted_code = \"# Solution\\n\\nhist = Hist.from_seq(resp.parity, name=\\\"parity\\\")\\nhist.bar()\\ndecorate(xlabel=\\\"parity\\\", ylabel=\\\"Count\\\")\";\n",
       "                var nbb_formatted_code = \"# Solution\\n\\nhist = Hist.from_seq(resp.parity, name=\\\"parity\\\")\\nhist.bar()\\ndecorate(xlabel=\\\"parity\\\", ylabel=\\\"Count\\\")\";\n",
       "                var nbb_cells = Jupyter.notebook.get_cells();\n",
       "                for (var i = 0; i < nbb_cells.length; ++i) {\n",
       "                    if (nbb_cells[i].input_prompt_number == nbb_cell_id) {\n",
       "                        if (nbb_cells[i].get_text() == nbb_unformatted_code) {\n",
       "                             nbb_cells[i].set_text(nbb_formatted_code);\n",
       "                        }\n",
       "                        break;\n",
       "                    }\n",
       "                }\n",
       "            }, 500);\n",
       "            "
      ],
      "text/plain": [
       "<IPython.core.display.Javascript object>"
      ]
     },
     "metadata": {},
     "output_type": "display_data"
    }
   ],
   "source": [
    "# Solution\n",
    "\n",
    "hist = Hist.from_seq(resp.parity, name=\"parity\")\n",
    "hist.bar()\n",
    "decorate(xlabel=\"parity\", ylabel=\"Count\")"
   ]
  },
  {
   "cell_type": "markdown",
   "id": "b5180cf3",
   "metadata": {},
   "source": [
    "Use `Hist.largest` to find the largest values of `parity`."
   ]
  },
  {
   "cell_type": "code",
   "execution_count": 42,
   "id": "a5a1c3ee",
   "metadata": {},
   "outputs": [
    {
     "data": {
      "text/plain": [
       "parity\n",
       "3     828\n",
       "4     309\n",
       "5      95\n",
       "6      29\n",
       "7      15\n",
       "8       8\n",
       "9       2\n",
       "10      3\n",
       "16      1\n",
       "22      1\n",
       "Name: parity, dtype: int64"
      ]
     },
     "execution_count": 42,
     "metadata": {},
     "output_type": "execute_result"
    },
    {
     "data": {
      "application/javascript": [
       "\n",
       "            setTimeout(function() {\n",
       "                var nbb_cell_id = 42;\n",
       "                var nbb_unformatted_code = \"# Solution\\n\\nlargest(hist)\";\n",
       "                var nbb_formatted_code = \"# Solution\\n\\nlargest(hist)\";\n",
       "                var nbb_cells = Jupyter.notebook.get_cells();\n",
       "                for (var i = 0; i < nbb_cells.length; ++i) {\n",
       "                    if (nbb_cells[i].input_prompt_number == nbb_cell_id) {\n",
       "                        if (nbb_cells[i].get_text() == nbb_unformatted_code) {\n",
       "                             nbb_cells[i].set_text(nbb_formatted_code);\n",
       "                        }\n",
       "                        break;\n",
       "                    }\n",
       "                }\n",
       "            }, 500);\n",
       "            "
      ],
      "text/plain": [
       "<IPython.core.display.Javascript object>"
      ]
     },
     "metadata": {},
     "output_type": "display_data"
    }
   ],
   "source": [
    "# Solution\n",
    "\n",
    "largest(hist)"
   ]
  },
  {
   "cell_type": "markdown",
   "id": "0b7de721",
   "metadata": {},
   "source": [
    "**Exercise:** Let's investigate whether people with higher income have higher parity.  Keep in mind that in this study, we are observing different people at different times during their lives, so this data is not the best choice for answering this question.  But for now let's take it at face value.\n",
    "\n",
    "Use `totincr` to select the respondents with the highest income (level 14).  Plot the histogram of `parity` for just the high income respondents."
   ]
  },
  {
   "cell_type": "code",
   "execution_count": 43,
   "id": "8e3ce887",
   "metadata": {},
   "outputs": [
    {
     "data": {
      "image/png": "[encoded data removed]",
      "text/plain": [
       "<Figure size 640x480 with 1 Axes>"
      ]
     },
     "metadata": {},
     "output_type": "display_data"
    },
    {
     "data": {
      "application/javascript": [
       "\n",
       "            setTimeout(function() {\n",
       "                var nbb_cell_id = 43;\n",
       "                var nbb_unformatted_code = \"# Solution\\n\\nrich = resp[resp.totincr == 14]\\nhist = Hist.from_seq(rich.parity, name=\\\"parity\\\")\\nhist.bar()\\ndecorate(xlabel=\\\"parity\\\", ylabel=\\\"Count\\\")\";\n",
       "                var nbb_formatted_code = \"# Solution\\n\\nrich = resp[resp.totincr == 14]\\nhist = Hist.from_seq(rich.parity, name=\\\"parity\\\")\\nhist.bar()\\ndecorate(xlabel=\\\"parity\\\", ylabel=\\\"Count\\\")\";\n",
       "                var nbb_cells = Jupyter.notebook.get_cells();\n",
       "                for (var i = 0; i < nbb_cells.length; ++i) {\n",
       "                    if (nbb_cells[i].input_prompt_number == nbb_cell_id) {\n",
       "                        if (nbb_cells[i].get_text() == nbb_unformatted_code) {\n",
       "                             nbb_cells[i].set_text(nbb_formatted_code);\n",
       "                        }\n",
       "                        break;\n",
       "                    }\n",
       "                }\n",
       "            }, 500);\n",
       "            "
      ],
      "text/plain": [
       "<IPython.core.display.Javascript object>"
      ]
     },
     "metadata": {},
     "output_type": "display_data"
    }
   ],
   "source": [
    "# Solution\n",
    "\n",
    "rich = resp[resp.totincr == 14]\n",
    "hist = Hist.from_seq(rich.parity, name=\"parity\")\n",
    "hist.bar()\n",
    "decorate(xlabel=\"parity\", ylabel=\"Count\")"
   ]
  },
  {
   "cell_type": "markdown",
   "id": "a115dd1e",
   "metadata": {},
   "source": [
    "Find the largest parities for high income respondents."
   ]
  },
  {
   "cell_type": "code",
   "execution_count": 44,
   "id": "80852943",
   "metadata": {},
   "outputs": [
    {
     "data": {
      "text/plain": [
       "parity\n",
       "0    515\n",
       "1    229\n",
       "2    267\n",
       "3    123\n",
       "4     19\n",
       "5      5\n",
       "7      1\n",
       "8      1\n",
       "Name: parity, dtype: int64"
      ]
     },
     "execution_count": 44,
     "metadata": {},
     "output_type": "execute_result"
    },
    {
     "data": {
      "application/javascript": [
       "\n",
       "            setTimeout(function() {\n",
       "                var nbb_cell_id = 44;\n",
       "                var nbb_unformatted_code = \"# Solution\\n\\nlargest(hist)\";\n",
       "                var nbb_formatted_code = \"# Solution\\n\\nlargest(hist)\";\n",
       "                var nbb_cells = Jupyter.notebook.get_cells();\n",
       "                for (var i = 0; i < nbb_cells.length; ++i) {\n",
       "                    if (nbb_cells[i].input_prompt_number == nbb_cell_id) {\n",
       "                        if (nbb_cells[i].get_text() == nbb_unformatted_code) {\n",
       "                             nbb_cells[i].set_text(nbb_formatted_code);\n",
       "                        }\n",
       "                        break;\n",
       "                    }\n",
       "                }\n",
       "            }, 500);\n",
       "            "
      ],
      "text/plain": [
       "<IPython.core.display.Javascript object>"
      ]
     },
     "metadata": {},
     "output_type": "display_data"
    }
   ],
   "source": [
    "# Solution\n",
    "\n",
    "largest(hist)"
   ]
  },
  {
   "cell_type": "markdown",
   "id": "b1c9b431",
   "metadata": {},
   "source": [
    "Compare the mean `parity` for high income respondents and others."
   ]
  },
  {
   "cell_type": "code",
   "execution_count": 45,
   "id": "9a3f1210",
   "metadata": {},
   "outputs": [
    {
     "data": {
      "text/plain": [
       "(1.0758620689655172, 1.2495758136665125)"
      ]
     },
     "execution_count": 45,
     "metadata": {},
     "output_type": "execute_result"
    },
    {
     "data": {
      "application/javascript": [
       "\n",
       "            setTimeout(function() {\n",
       "                var nbb_cell_id = 45;\n",
       "                var nbb_unformatted_code = \"# Solution\\n\\nnot_rich = resp[resp.totincr < 14]\\nrich.parity.mean(), not_rich.parity.mean()\";\n",
       "                var nbb_formatted_code = \"# Solution\\n\\nnot_rich = resp[resp.totincr < 14]\\nrich.parity.mean(), not_rich.parity.mean()\";\n",
       "                var nbb_cells = Jupyter.notebook.get_cells();\n",
       "                for (var i = 0; i < nbb_cells.length; ++i) {\n",
       "                    if (nbb_cells[i].input_prompt_number == nbb_cell_id) {\n",
       "                        if (nbb_cells[i].get_text() == nbb_unformatted_code) {\n",
       "                             nbb_cells[i].set_text(nbb_formatted_code);\n",
       "                        }\n",
       "                        break;\n",
       "                    }\n",
       "                }\n",
       "            }, 500);\n",
       "            "
      ],
      "text/plain": [
       "<IPython.core.display.Javascript object>"
      ]
     },
     "metadata": {},
     "output_type": "display_data"
    }
   ],
   "source": [
    "# Solution\n",
    "\n",
    "not_rich = resp[resp.totincr < 14]\n",
    "rich.parity.mean(), not_rich.parity.mean()"
   ]
  },
  {
   "cell_type": "markdown",
   "id": "fbf95bb5",
   "metadata": {},
   "source": [
    "Compute the Cohen effect size for this difference.  How does it compare with the difference in pregnancy length for first babies and others?"
   ]
  },
  {
   "cell_type": "code",
   "execution_count": 46,
   "id": "91b96d39",
   "metadata": {},
   "outputs": [
    {
     "data": {
      "text/plain": [
       "-0.12513302844452415"
      ]
     },
     "execution_count": 46,
     "metadata": {},
     "output_type": "execute_result"
    },
    {
     "data": {
      "application/javascript": [
       "\n",
       "            setTimeout(function() {\n",
       "                var nbb_cell_id = 46;\n",
       "                var nbb_unformatted_code = \"# Solution\\n\\ncohen_effect_size(rich.parity, not_rich.parity)\";\n",
       "                var nbb_formatted_code = \"# Solution\\n\\ncohen_effect_size(rich.parity, not_rich.parity)\";\n",
       "                var nbb_cells = Jupyter.notebook.get_cells();\n",
       "                for (var i = 0; i < nbb_cells.length; ++i) {\n",
       "                    if (nbb_cells[i].input_prompt_number == nbb_cell_id) {\n",
       "                        if (nbb_cells[i].get_text() == nbb_unformatted_code) {\n",
       "                             nbb_cells[i].set_text(nbb_formatted_code);\n",
       "                        }\n",
       "                        break;\n",
       "                    }\n",
       "                }\n",
       "            }, 500);\n",
       "            "
      ],
      "text/plain": [
       "<IPython.core.display.Javascript object>"
      ]
     },
     "metadata": {},
     "output_type": "display_data"
    }
   ],
   "source": [
    "# Solution\n",
    "\n",
    "cohen_effect_size(rich.parity, not_rich.parity)"
   ]
  },
  {
   "cell_type": "code",
   "execution_count": null,
   "id": "72605520",
   "metadata": {},
   "outputs": [],
   "source": []
  }
 ],
 "metadata": {
  "kernelspec": {
   "display_name": "Python 3 (ipykernel)",
   "language": "python",
   "name": "python3"
  },
  "language_info": {
   "codemirror_mode": {
    "name": "ipython",
    "version": 3
   },
   "file_extension": ".py",
   "mimetype": "text/x-python",
   "name": "python",
   "nbconvert_exporter": "python",
   "pygments_lexer": "ipython3",
   "version": "3.10.14"
  }
 },
 "nbformat": 4,
 "nbformat_minor": 5
}
