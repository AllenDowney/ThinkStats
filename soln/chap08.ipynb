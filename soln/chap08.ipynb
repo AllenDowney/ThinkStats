{
 "cells": [
  {
   "cell_type": "markdown",
   "id": "b8bba8eb",
   "metadata": {},
   "source": [
    "# Estimation\n",
    "\n",
    "Chapter intro..."
   ]
  },
  {
   "cell_type": "code",
   "execution_count": 114,
   "id": "5a815d57",
   "metadata": {},
   "outputs": [
    {
     "name": "stdout",
     "output_type": "stream",
     "text": [
      "The nb_black extension is already loaded. To reload it, use:\n",
      "  %reload_ext nb_black\n",
      "The autoreload extension is already loaded. To reload it, use:\n",
      "  %reload_ext autoreload\n"
     ]
    },
    {
     "data": {
      "application/javascript": [
       "\n",
       "            setTimeout(function() {\n",
       "                var nbb_cell_id = 114;\n",
       "                var nbb_unformatted_code = \"%load_ext nb_black\\n%load_ext autoreload\\n%autoreload 2\";\n",
       "                var nbb_formatted_code = \"%load_ext nb_black\\n%load_ext autoreload\\n%autoreload 2\";\n",
       "                var nbb_cells = Jupyter.notebook.get_cells();\n",
       "                for (var i = 0; i < nbb_cells.length; ++i) {\n",
       "                    if (nbb_cells[i].input_prompt_number == nbb_cell_id) {\n",
       "                        if (nbb_cells[i].get_text() == nbb_unformatted_code) {\n",
       "                             nbb_cells[i].set_text(nbb_formatted_code);\n",
       "                        }\n",
       "                        break;\n",
       "                    }\n",
       "                }\n",
       "            }, 500);\n",
       "            "
      ],
      "text/plain": [
       "<IPython.core.display.Javascript object>"
      ]
     },
     "metadata": {},
     "output_type": "display_data"
    }
   ],
   "source": [
    "%load_ext nb_black\n",
    "%load_ext autoreload\n",
    "%autoreload 2"
   ]
  },
  {
   "cell_type": "code",
   "execution_count": 115,
   "id": "cddf1967",
   "metadata": {},
   "outputs": [
    {
     "data": {
      "application/javascript": [
       "\n",
       "            setTimeout(function() {\n",
       "                var nbb_cell_id = 115;\n",
       "                var nbb_unformatted_code = \"from os.path import basename, exists\\n\\n\\ndef download(url):\\n    filename = basename(url)\\n    if not exists(filename):\\n        from urllib.request import urlretrieve\\n\\n        local, _ = urlretrieve(url, filename)\\n        print(\\\"Downloaded \\\" + local)\\n\\n\\ndownload(\\\"https://github.com/AllenDowney/ThinkStats/raw/v3/nb/thinkstats.py\\\")\";\n",
       "                var nbb_formatted_code = \"from os.path import basename, exists\\n\\n\\ndef download(url):\\n    filename = basename(url)\\n    if not exists(filename):\\n        from urllib.request import urlretrieve\\n\\n        local, _ = urlretrieve(url, filename)\\n        print(\\\"Downloaded \\\" + local)\\n\\n\\ndownload(\\\"https://github.com/AllenDowney/ThinkStats/raw/v3/nb/thinkstats.py\\\")\";\n",
       "                var nbb_cells = Jupyter.notebook.get_cells();\n",
       "                for (var i = 0; i < nbb_cells.length; ++i) {\n",
       "                    if (nbb_cells[i].input_prompt_number == nbb_cell_id) {\n",
       "                        if (nbb_cells[i].get_text() == nbb_unformatted_code) {\n",
       "                             nbb_cells[i].set_text(nbb_formatted_code);\n",
       "                        }\n",
       "                        break;\n",
       "                    }\n",
       "                }\n",
       "            }, 500);\n",
       "            "
      ],
      "text/plain": [
       "<IPython.core.display.Javascript object>"
      ]
     },
     "metadata": {},
     "output_type": "display_data"
    }
   ],
   "source": [
    "from os.path import basename, exists\n",
    "\n",
    "\n",
    "def download(url):\n",
    "    filename = basename(url)\n",
    "    if not exists(filename):\n",
    "        from urllib.request import urlretrieve\n",
    "\n",
    "        local, _ = urlretrieve(url, filename)\n",
    "        print(\"Downloaded \" + local)\n",
    "\n",
    "\n",
    "download(\"https://github.com/AllenDowney/ThinkStats/raw/v3/nb/thinkstats.py\")"
   ]
  },
  {
   "cell_type": "code",
   "execution_count": 116,
   "id": "bb3a6450",
   "metadata": {},
   "outputs": [
    {
     "data": {
      "application/javascript": [
       "\n",
       "            setTimeout(function() {\n",
       "                var nbb_cell_id = 116;\n",
       "                var nbb_unformatted_code = \"import numpy as np\\nimport pandas as pd\\nimport matplotlib.pyplot as plt\\n\\nfrom thinkstats import decorate\";\n",
       "                var nbb_formatted_code = \"import numpy as np\\nimport pandas as pd\\nimport matplotlib.pyplot as plt\\n\\nfrom thinkstats import decorate\";\n",
       "                var nbb_cells = Jupyter.notebook.get_cells();\n",
       "                for (var i = 0; i < nbb_cells.length; ++i) {\n",
       "                    if (nbb_cells[i].input_prompt_number == nbb_cell_id) {\n",
       "                        if (nbb_cells[i].get_text() == nbb_unformatted_code) {\n",
       "                             nbb_cells[i].set_text(nbb_formatted_code);\n",
       "                        }\n",
       "                        break;\n",
       "                    }\n",
       "                }\n",
       "            }, 500);\n",
       "            "
      ],
      "text/plain": [
       "<IPython.core.display.Javascript object>"
      ]
     },
     "metadata": {},
     "output_type": "display_data"
    }
   ],
   "source": [
    "import numpy as np\n",
    "import pandas as pd\n",
    "import matplotlib.pyplot as plt\n",
    "\n",
    "from thinkstats import decorate"
   ]
  },
  {
   "cell_type": "markdown",
   "id": "35cc8fc8",
   "metadata": {},
   "source": [
    "## The German Tank Problem\n",
    "\n",
    "To motivate the idea of estimation..."
   ]
  },
  {
   "cell_type": "code",
   "execution_count": 117,
   "id": "60f3ab59",
   "metadata": {},
   "outputs": [
    {
     "data": {
      "application/javascript": [
       "\n",
       "            setTimeout(function() {\n",
       "                var nbb_cell_id = 117;\n",
       "                var nbb_unformatted_code = \"download(\\n    \\\"https://raw.githubusercontent.com/allisonhorst/palmerpenguins/c19a904462482430170bfe2c718775ddb7dbb885/inst/extdata/penguins_raw.csv\\\"\\n)\";\n",
       "                var nbb_formatted_code = \"download(\\n    \\\"https://raw.githubusercontent.com/allisonhorst/palmerpenguins/c19a904462482430170bfe2c718775ddb7dbb885/inst/extdata/penguins_raw.csv\\\"\\n)\";\n",
       "                var nbb_cells = Jupyter.notebook.get_cells();\n",
       "                for (var i = 0; i < nbb_cells.length; ++i) {\n",
       "                    if (nbb_cells[i].input_prompt_number == nbb_cell_id) {\n",
       "                        if (nbb_cells[i].get_text() == nbb_unformatted_code) {\n",
       "                             nbb_cells[i].set_text(nbb_formatted_code);\n",
       "                        }\n",
       "                        break;\n",
       "                    }\n",
       "                }\n",
       "            }, 500);\n",
       "            "
      ],
      "text/plain": [
       "<IPython.core.display.Javascript object>"
      ]
     },
     "metadata": {},
     "output_type": "display_data"
    }
   ],
   "source": [
    "download(\n",
    "    \"https://raw.githubusercontent.com/allisonhorst/palmerpenguins/c19a904462482430170bfe2c718775ddb7dbb885/inst/extdata/penguins_raw.csv\"\n",
    ")"
   ]
  },
  {
   "cell_type": "code",
   "execution_count": 124,
   "id": "8eebfb24",
   "metadata": {},
   "outputs": [
    {
     "data": {
      "application/javascript": [
       "\n",
       "            setTimeout(function() {\n",
       "                var nbb_cell_id = 124;\n",
       "                var nbb_unformatted_code = \"import pandas as pd\\n\\ndf = pd.read_csv(\\\"penguins_raw.csv\\\").dropna(subset=[\\\"Body Mass (g)\\\"])\";\n",
       "                var nbb_formatted_code = \"import pandas as pd\\n\\ndf = pd.read_csv(\\\"penguins_raw.csv\\\").dropna(subset=[\\\"Body Mass (g)\\\"])\";\n",
       "                var nbb_cells = Jupyter.notebook.get_cells();\n",
       "                for (var i = 0; i < nbb_cells.length; ++i) {\n",
       "                    if (nbb_cells[i].input_prompt_number == nbb_cell_id) {\n",
       "                        if (nbb_cells[i].get_text() == nbb_unformatted_code) {\n",
       "                             nbb_cells[i].set_text(nbb_formatted_code);\n",
       "                        }\n",
       "                        break;\n",
       "                    }\n",
       "                }\n",
       "            }, 500);\n",
       "            "
      ],
      "text/plain": [
       "<IPython.core.display.Javascript object>"
      ]
     },
     "metadata": {},
     "output_type": "display_data"
    }
   ],
   "source": [
    "import pandas as pd\n",
    "\n",
    "df = pd.read_csv(\"penguins_raw.csv\").dropna(subset=[\"Body Mass (g)\"])"
   ]
  },
  {
   "cell_type": "code",
   "execution_count": 135,
   "id": "2dc4fc48",
   "metadata": {},
   "outputs": [
    {
     "data": {
      "text/plain": [
       "count    151.000000\n",
       "mean       3.700662\n",
       "std        0.458566\n",
       "min        2.850000\n",
       "25%        3.350000\n",
       "50%        3.700000\n",
       "75%        4.000000\n",
       "max        4.775000\n",
       "Name: Body Mass (g), dtype: float64"
      ]
     },
     "execution_count": 135,
     "metadata": {},
     "output_type": "execute_result"
    },
    {
     "data": {
      "application/javascript": [
       "\n",
       "            setTimeout(function() {\n",
       "                var nbb_cell_id = 135;\n",
       "                var nbb_unformatted_code = \"np.random.seed(17)\\nadelie = df.query('Species.str.startswith(\\\"Adelie\\\")')\\nweights = adelie[\\\"Body Mass (g)\\\"] / 1000\\nweights.describe()\";\n",
       "                var nbb_formatted_code = \"np.random.seed(17)\\nadelie = df.query('Species.str.startswith(\\\"Adelie\\\")')\\nweights = adelie[\\\"Body Mass (g)\\\"] / 1000\\nweights.describe()\";\n",
       "                var nbb_cells = Jupyter.notebook.get_cells();\n",
       "                for (var i = 0; i < nbb_cells.length; ++i) {\n",
       "                    if (nbb_cells[i].input_prompt_number == nbb_cell_id) {\n",
       "                        if (nbb_cells[i].get_text() == nbb_unformatted_code) {\n",
       "                             nbb_cells[i].set_text(nbb_formatted_code);\n",
       "                        }\n",
       "                        break;\n",
       "                    }\n",
       "                }\n",
       "            }, 500);\n",
       "            "
      ],
      "text/plain": [
       "<IPython.core.display.Javascript object>"
      ]
     },
     "metadata": {},
     "output_type": "display_data"
    }
   ],
   "source": [
    "np.random.seed(17)\n",
    "adelie = df.query('Species.str.startswith(\"Adelie\")')\n",
    "weights = adelie[\"Body Mass (g)\"] / 1000\n",
    "weights.describe()"
   ]
  },
  {
   "cell_type": "markdown",
   "id": "e4bb0892",
   "metadata": {},
   "source": [
    "## Weighing penguins\n",
    "\n",
    "Suppose you are a researcher at Palmer Station in Antarctica, studying local populations of penguins.\n",
    "One of your tasks is to monitor the average weight of the penguins as it varies over the course of the year.\n",
    "It would be impractical to weigh every penguin in the environment, so your plan is to collect a random sample of 10 penguins each week, weigh them, and use the sample to estimate the mean of the entire population -- which is called the **population mean**.\n",
    "\n",
    "There are many ways you could use the sample to estimate the population mean, but we'll consider just two: the sample mean and the sample median.\n",
    "They are both reasonable choices, but let's see which is better -- and think about what we mean by \"better\".\n",
    "\n",
    "For purposes of experiment, we'll start with the assumption that the penguins' weights are drawn from a normal distribution, and that we know the actual mean and standard deviation of that distribution, in kilograms -- which I'll denote `mu` and `sigma`."
   ]
  },
  {
   "cell_type": "code",
   "execution_count": 136,
   "id": "4229791a",
   "metadata": {},
   "outputs": [
    {
     "data": {
      "application/javascript": [
       "\n",
       "            setTimeout(function() {\n",
       "                var nbb_cell_id = 136;\n",
       "                var nbb_unformatted_code = \"mu = 3.7\\nsigma = 0.46\";\n",
       "                var nbb_formatted_code = \"mu = 3.7\\nsigma = 0.46\";\n",
       "                var nbb_cells = Jupyter.notebook.get_cells();\n",
       "                for (var i = 0; i < nbb_cells.length; ++i) {\n",
       "                    if (nbb_cells[i].input_prompt_number == nbb_cell_id) {\n",
       "                        if (nbb_cells[i].get_text() == nbb_unformatted_code) {\n",
       "                             nbb_cells[i].set_text(nbb_formatted_code);\n",
       "                        }\n",
       "                        break;\n",
       "                    }\n",
       "                }\n",
       "            }, 500);\n",
       "            "
      ],
      "text/plain": [
       "<IPython.core.display.Javascript object>"
      ]
     },
     "metadata": {},
     "output_type": "display_data"
    }
   ],
   "source": [
    "mu = 3.7\n",
    "sigma = 0.46"
   ]
  },
  {
   "cell_type": "markdown",
   "id": "c32c96c1",
   "metadata": {},
   "source": [
    "With these parameters, we can use NumPy to simulate the sampling process and generate a sample of any size.\n",
    "For example, here's a hypothetical sample of 10 weights."
   ]
  },
  {
   "cell_type": "code",
   "execution_count": 138,
   "id": "f2429fdd",
   "metadata": {},
   "outputs": [
    {
     "data": {
      "text/plain": [
       "array([4.69877822, 4.23006272, 2.86334632, 3.6364973 , 3.94832622,\n",
       "       2.88337015, 4.30484321, 3.4822139 , 3.19757425, 3.58498738])"
      ]
     },
     "execution_count": 138,
     "metadata": {},
     "output_type": "execute_result"
    },
    {
     "data": {
      "application/javascript": [
       "\n",
       "            setTimeout(function() {\n",
       "                var nbb_cell_id = 138;\n",
       "                var nbb_unformatted_code = \"sample = np.random.normal(mu, sigma, size=10)\\nsample\";\n",
       "                var nbb_formatted_code = \"sample = np.random.normal(mu, sigma, size=10)\\nsample\";\n",
       "                var nbb_cells = Jupyter.notebook.get_cells();\n",
       "                for (var i = 0; i < nbb_cells.length; ++i) {\n",
       "                    if (nbb_cells[i].input_prompt_number == nbb_cell_id) {\n",
       "                        if (nbb_cells[i].get_text() == nbb_unformatted_code) {\n",
       "                             nbb_cells[i].set_text(nbb_formatted_code);\n",
       "                        }\n",
       "                        break;\n",
       "                    }\n",
       "                }\n",
       "            }, 500);\n",
       "            "
      ],
      "text/plain": [
       "<IPython.core.display.Javascript object>"
      ]
     },
     "metadata": {},
     "output_type": "display_data"
    }
   ],
   "source": [
    "sample = np.random.normal(mu, sigma, size=10)\n",
    "sample"
   ]
  },
  {
   "cell_type": "markdown",
   "id": "64cb97f8",
   "metadata": {},
   "source": [
    "And here are the mean and median of the sample."
   ]
  },
  {
   "cell_type": "code",
   "execution_count": 139,
   "id": "bd68824a",
   "metadata": {},
   "outputs": [
    {
     "data": {
      "text/plain": [
       "(3.6829999658891546, 3.6107423400049)"
      ]
     },
     "execution_count": 139,
     "metadata": {},
     "output_type": "execute_result"
    },
    {
     "data": {
      "application/javascript": [
       "\n",
       "            setTimeout(function() {\n",
       "                var nbb_cell_id = 139;\n",
       "                var nbb_unformatted_code = \"np.mean(sample), np.median(sample)\";\n",
       "                var nbb_formatted_code = \"np.mean(sample), np.median(sample)\";\n",
       "                var nbb_cells = Jupyter.notebook.get_cells();\n",
       "                for (var i = 0; i < nbb_cells.length; ++i) {\n",
       "                    if (nbb_cells[i].input_prompt_number == nbb_cell_id) {\n",
       "                        if (nbb_cells[i].get_text() == nbb_unformatted_code) {\n",
       "                             nbb_cells[i].set_text(nbb_formatted_code);\n",
       "                        }\n",
       "                        break;\n",
       "                    }\n",
       "                }\n",
       "            }, 500);\n",
       "            "
      ],
      "text/plain": [
       "<IPython.core.display.Javascript object>"
      ]
     },
     "metadata": {},
     "output_type": "display_data"
    }
   ],
   "source": [
    "np.mean(sample), np.median(sample)"
   ]
  },
  {
   "cell_type": "markdown",
   "id": "7dacf078",
   "metadata": {},
   "source": [
    "Because the normal distribution is symmetric, the mean and median are not very different.\n",
    "But they are different enough that we should wonder which is a better estimate."
   ]
  },
  {
   "cell_type": "markdown",
   "id": "5f2a7144",
   "metadata": {},
   "source": [
    "To find out, we'll use the following function to generate hypothetical samples with the given size, `n`."
   ]
  },
  {
   "cell_type": "code",
   "execution_count": 141,
   "id": "5283fcbb",
   "metadata": {},
   "outputs": [
    {
     "data": {
      "application/javascript": [
       "\n",
       "            setTimeout(function() {\n",
       "                var nbb_cell_id = 141;\n",
       "                var nbb_unformatted_code = \"def make_sample(n):\\n    return np.random.normal(mu, sigma, size=n)\";\n",
       "                var nbb_formatted_code = \"def make_sample(n):\\n    return np.random.normal(mu, sigma, size=n)\";\n",
       "                var nbb_cells = Jupyter.notebook.get_cells();\n",
       "                for (var i = 0; i < nbb_cells.length; ++i) {\n",
       "                    if (nbb_cells[i].input_prompt_number == nbb_cell_id) {\n",
       "                        if (nbb_cells[i].get_text() == nbb_unformatted_code) {\n",
       "                             nbb_cells[i].set_text(nbb_formatted_code);\n",
       "                        }\n",
       "                        break;\n",
       "                    }\n",
       "                }\n",
       "            }, 500);\n",
       "            "
      ],
      "text/plain": [
       "<IPython.core.display.Javascript object>"
      ]
     },
     "metadata": {},
     "output_type": "display_data"
    }
   ],
   "source": [
    "def make_sample(n):\n",
    "    return np.random.normal(mu, sigma, size=n)"
   ]
  },
  {
   "cell_type": "markdown",
   "id": "8751c2aa",
   "metadata": {},
   "source": [
    "As a first experiment, let's see how the sample mean and sample median behave as the sample size increases.\n",
    "We'll use `logspace` to make a range of `ns` from 1 to 10,000, equally space on a logarithmic scale."
   ]
  },
  {
   "cell_type": "code",
   "execution_count": 142,
   "id": "7f7baff5",
   "metadata": {},
   "outputs": [
    {
     "data": {
      "application/javascript": [
       "\n",
       "            setTimeout(function() {\n",
       "                var nbb_cell_id = 142;\n",
       "                var nbb_unformatted_code = \"ns = np.logspace(1, 5).astype(int)\";\n",
       "                var nbb_formatted_code = \"ns = np.logspace(1, 5).astype(int)\";\n",
       "                var nbb_cells = Jupyter.notebook.get_cells();\n",
       "                for (var i = 0; i < nbb_cells.length; ++i) {\n",
       "                    if (nbb_cells[i].input_prompt_number == nbb_cell_id) {\n",
       "                        if (nbb_cells[i].get_text() == nbb_unformatted_code) {\n",
       "                             nbb_cells[i].set_text(nbb_formatted_code);\n",
       "                        }\n",
       "                        break;\n",
       "                    }\n",
       "                }\n",
       "            }, 500);\n",
       "            "
      ],
      "text/plain": [
       "<IPython.core.display.Javascript object>"
      ]
     },
     "metadata": {},
     "output_type": "display_data"
    }
   ],
   "source": [
    "ns = np.logspace(1, 5).astype(int)"
   ]
  },
  {
   "cell_type": "markdown",
   "id": "0aa40e96",
   "metadata": {},
   "source": [
    "For each value of `n`, we'll generate a hypothetical sample and compute it's mean. "
   ]
  },
  {
   "cell_type": "code",
   "execution_count": 143,
   "id": "158c8c57",
   "metadata": {},
   "outputs": [
    {
     "data": {
      "application/javascript": [
       "\n",
       "            setTimeout(function() {\n",
       "                var nbb_cell_id = 143;\n",
       "                var nbb_unformatted_code = \"means = [np.mean(make_sample(n)) for n in ns]\";\n",
       "                var nbb_formatted_code = \"means = [np.mean(make_sample(n)) for n in ns]\";\n",
       "                var nbb_cells = Jupyter.notebook.get_cells();\n",
       "                for (var i = 0; i < nbb_cells.length; ++i) {\n",
       "                    if (nbb_cells[i].input_prompt_number == nbb_cell_id) {\n",
       "                        if (nbb_cells[i].get_text() == nbb_unformatted_code) {\n",
       "                             nbb_cells[i].set_text(nbb_formatted_code);\n",
       "                        }\n",
       "                        break;\n",
       "                    }\n",
       "                }\n",
       "            }, 500);\n",
       "            "
      ],
      "text/plain": [
       "<IPython.core.display.Javascript object>"
      ]
     },
     "metadata": {},
     "output_type": "display_data"
    }
   ],
   "source": [
    "means = [np.mean(make_sample(n)) for n in ns]"
   ]
  },
  {
   "cell_type": "markdown",
   "id": "58f75dca",
   "metadata": {},
   "source": [
    "And we'll do the same for the median."
   ]
  },
  {
   "cell_type": "code",
   "execution_count": 144,
   "id": "19649a68",
   "metadata": {},
   "outputs": [
    {
     "data": {
      "application/javascript": [
       "\n",
       "            setTimeout(function() {\n",
       "                var nbb_cell_id = 144;\n",
       "                var nbb_unformatted_code = \"medians = [np.median(make_sample(n)) for n in ns]\";\n",
       "                var nbb_formatted_code = \"medians = [np.median(make_sample(n)) for n in ns]\";\n",
       "                var nbb_cells = Jupyter.notebook.get_cells();\n",
       "                for (var i = 0; i < nbb_cells.length; ++i) {\n",
       "                    if (nbb_cells[i].input_prompt_number == nbb_cell_id) {\n",
       "                        if (nbb_cells[i].get_text() == nbb_unformatted_code) {\n",
       "                             nbb_cells[i].set_text(nbb_formatted_code);\n",
       "                        }\n",
       "                        break;\n",
       "                    }\n",
       "                }\n",
       "            }, 500);\n",
       "            "
      ],
      "text/plain": [
       "<IPython.core.display.Javascript object>"
      ]
     },
     "metadata": {},
     "output_type": "display_data"
    }
   ],
   "source": [
    "medians = [np.median(make_sample(n)) for n in ns]"
   ]
  },
  {
   "cell_type": "markdown",
   "id": "645bebae",
   "metadata": {},
   "source": [
    "The following figure shows how the sample mean and median behave as we increase the sample size.\n",
    "The horizontal line shows the actual mean in the population."
   ]
  },
  {
   "cell_type": "code",
   "execution_count": 145,
   "id": "ab87f873",
   "metadata": {},
   "outputs": [
    {
     "data": {
      "image/png": "[encoded data removed]",
      "text/plain": [
       "<Figure size 450x262.5 with 1 Axes>"
      ]
     },
     "metadata": {},
     "output_type": "display_data"
    },
    {
     "data": {
      "application/javascript": [
       "\n",
       "            setTimeout(function() {\n",
       "                var nbb_cell_id = 145;\n",
       "                var nbb_unformatted_code = \"plt.axhline(mu, color=\\\"0.9\\\")\\nplt.plot(ns, means, \\\"--\\\", label=\\\"mean\\\")\\nplt.plot(ns, medians, label=\\\"median\\\")\\n\\ndecorate(xscale=\\\"log\\\")\";\n",
       "                var nbb_formatted_code = \"plt.axhline(mu, color=\\\"0.9\\\")\\nplt.plot(ns, means, \\\"--\\\", label=\\\"mean\\\")\\nplt.plot(ns, medians, label=\\\"median\\\")\\n\\ndecorate(xscale=\\\"log\\\")\";\n",
       "                var nbb_cells = Jupyter.notebook.get_cells();\n",
       "                for (var i = 0; i < nbb_cells.length; ++i) {\n",
       "                    if (nbb_cells[i].input_prompt_number == nbb_cell_id) {\n",
       "                        if (nbb_cells[i].get_text() == nbb_unformatted_code) {\n",
       "                             nbb_cells[i].set_text(nbb_formatted_code);\n",
       "                        }\n",
       "                        break;\n",
       "                    }\n",
       "                }\n",
       "            }, 500);\n",
       "            "
      ],
      "text/plain": [
       "<IPython.core.display.Javascript object>"
      ]
     },
     "metadata": {},
     "output_type": "display_data"
    }
   ],
   "source": [
    "plt.axhline(mu, color=\"0.9\")\n",
    "plt.plot(ns, means, \"--\", label=\"mean\")\n",
    "plt.plot(ns, medians, label=\"median\")\n",
    "\n",
    "decorate(xscale=\"log\")"
   ]
  },
  {
   "cell_type": "markdown",
   "id": "eac134e5",
   "metadata": {},
   "source": [
    "For both estimators, the estimates converge to the actual value as the sample size increases.\n",
    "This demonstrates that both estimators are **consistent**, which is one of the properties a good estimator should have.\n",
    "Based on this property, mean and median seem equally good. "
   ]
  },
  {
   "cell_type": "markdown",
   "id": "461950dc",
   "metadata": {},
   "source": [
    "In the previous figure, you might notice that the estimates are sometimes too high and sometimes too low -- and it looks like the variation is roughly symmetric around the true value.\n",
    "And that suggests another experiment: if we collect many samples with the same size and compute the sample mean, what is the average of the means?\n",
    "\n",
    "The following loop simulates this scenario, collecting 1001 samples of 10 penguins and computing the mean of each sample."
   ]
  },
  {
   "cell_type": "code",
   "execution_count": 146,
   "id": "581aea3f",
   "metadata": {},
   "outputs": [
    {
     "data": {
      "text/plain": [
       "3.699988241223501"
      ]
     },
     "execution_count": 146,
     "metadata": {},
     "output_type": "execute_result"
    },
    {
     "data": {
      "application/javascript": [
       "\n",
       "            setTimeout(function() {\n",
       "                var nbb_cell_id = 146;\n",
       "                var nbb_unformatted_code = \"means = [np.mean(make_sample(n=10)) for i in range(10001)]\\nnp.mean(means)\";\n",
       "                var nbb_formatted_code = \"means = [np.mean(make_sample(n=10)) for i in range(10001)]\\nnp.mean(means)\";\n",
       "                var nbb_cells = Jupyter.notebook.get_cells();\n",
       "                for (var i = 0; i < nbb_cells.length; ++i) {\n",
       "                    if (nbb_cells[i].input_prompt_number == nbb_cell_id) {\n",
       "                        if (nbb_cells[i].get_text() == nbb_unformatted_code) {\n",
       "                             nbb_cells[i].set_text(nbb_formatted_code);\n",
       "                        }\n",
       "                        break;\n",
       "                    }\n",
       "                }\n",
       "            }, 500);\n",
       "            "
      ],
      "text/plain": [
       "<IPython.core.display.Javascript object>"
      ]
     },
     "metadata": {},
     "output_type": "display_data"
    }
   ],
   "source": [
    "means = [np.mean(make_sample(n=10)) for i in range(1001)]\n",
    "np.mean(means)"
   ]
  },
  {
   "cell_type": "markdown",
   "id": "7d703c58",
   "metadata": {},
   "source": [
    "The average of the means is very close to the actual mean we used to generate the samples: 3.7 kg.\n",
    "The following loop simulates the same scenario, but this time it computes the median of each sample."
   ]
  },
  {
   "cell_type": "code",
   "execution_count": 147,
   "id": "ecf9f53b",
   "metadata": {},
   "outputs": [
    {
     "data": {
      "text/plain": [
       "3.6992674642726935"
      ]
     },
     "execution_count": 147,
     "metadata": {},
     "output_type": "execute_result"
    },
    {
     "data": {
      "application/javascript": [
       "\n",
       "            setTimeout(function() {\n",
       "                var nbb_cell_id = 147;\n",
       "                var nbb_unformatted_code = \"medians = [np.median(make_sample(n=10)) for i in range(10001)]\\nnp.mean(medians)\";\n",
       "                var nbb_formatted_code = \"medians = [np.median(make_sample(n=10)) for i in range(10001)]\\nnp.mean(medians)\";\n",
       "                var nbb_cells = Jupyter.notebook.get_cells();\n",
       "                for (var i = 0; i < nbb_cells.length; ++i) {\n",
       "                    if (nbb_cells[i].input_prompt_number == nbb_cell_id) {\n",
       "                        if (nbb_cells[i].get_text() == nbb_unformatted_code) {\n",
       "                             nbb_cells[i].set_text(nbb_formatted_code);\n",
       "                        }\n",
       "                        break;\n",
       "                    }\n",
       "                }\n",
       "            }, 500);\n",
       "            "
      ],
      "text/plain": [
       "<IPython.core.display.Javascript object>"
      ]
     },
     "metadata": {},
     "output_type": "display_data"
    }
   ],
   "source": [
    "medians = [np.median(make_sample(n=10)) for i in range(1001)]\n",
    "np.mean(medians)"
   ]
  },
  {
   "cell_type": "markdown",
   "id": "5f4b5d2d",
   "metadata": {},
   "source": [
    "The mean of these hypothetical medians is also very close to the actual population mean.\n",
    "And if we increase the number of samples, it gets closer and closer.\n",
    "\n",
    "These results demonstrate that the sample mean and sample median are **unbiased** estimators, which means that they are right on average.\n",
    "The word \"bias\" means different things in different contexts, which can be a source of confusion.\n",
    "In this context, it means that the average of the estimates is the actual value.\n",
    "\n",
    "So far, we've shown that both estimators are consistent and unbiased, but it's still not clear which is better.\n",
    "Let's try one more experiment: let's see which estimator is more accurate.\n",
    "The word \"accurate\" also means different things in different contexts -- to be more specific, let's consider the **mean squared error** (MSE).\n",
    "\n",
    "The following function takes a sequence of estimates and the actual value, computes the differences between the estimates and the actual values, and returns the average of the squares of these errors."
   ]
  },
  {
   "cell_type": "code",
   "execution_count": 148,
   "id": "c6ae3ee6",
   "metadata": {},
   "outputs": [
    {
     "data": {
      "application/javascript": [
       "\n",
       "            setTimeout(function() {\n",
       "                var nbb_cell_id = 148;\n",
       "                var nbb_unformatted_code = \"def mse(estimates, actual):\\n    \\\"\\\"\\\"Mean squared error of a sequence of estimates.\\\"\\\"\\\"\\n    errors = np.asarray(estimates) - actual\\n    return np.mean(errors**2)\";\n",
       "                var nbb_formatted_code = \"def mse(estimates, actual):\\n    \\\"\\\"\\\"Mean squared error of a sequence of estimates.\\\"\\\"\\\"\\n    errors = np.asarray(estimates) - actual\\n    return np.mean(errors**2)\";\n",
       "                var nbb_cells = Jupyter.notebook.get_cells();\n",
       "                for (var i = 0; i < nbb_cells.length; ++i) {\n",
       "                    if (nbb_cells[i].input_prompt_number == nbb_cell_id) {\n",
       "                        if (nbb_cells[i].get_text() == nbb_unformatted_code) {\n",
       "                             nbb_cells[i].set_text(nbb_formatted_code);\n",
       "                        }\n",
       "                        break;\n",
       "                    }\n",
       "                }\n",
       "            }, 500);\n",
       "            "
      ],
      "text/plain": [
       "<IPython.core.display.Javascript object>"
      ]
     },
     "metadata": {},
     "output_type": "display_data"
    }
   ],
   "source": [
    "def mse(estimates, actual):\n",
    "    \"\"\"Mean squared error of a sequence of estimates.\"\"\"\n",
    "    errors = np.asarray(estimates) - actual\n",
    "    return np.mean(errors**2)"
   ]
  },
  {
   "cell_type": "markdown",
   "id": "88ab3d00",
   "metadata": {},
   "source": []
  },
  {
   "cell_type": "code",
   "execution_count": 149,
   "id": "feebf620",
   "metadata": {},
   "outputs": [
    {
     "data": {
      "text/plain": [
       "0.021559792615083447"
      ]
     },
     "execution_count": 149,
     "metadata": {},
     "output_type": "execute_result"
    },
    {
     "data": {
      "application/javascript": [
       "\n",
       "            setTimeout(function() {\n",
       "                var nbb_cell_id = 149;\n",
       "                var nbb_unformatted_code = \"mse(means, mu)\";\n",
       "                var nbb_formatted_code = \"mse(means, mu)\";\n",
       "                var nbb_cells = Jupyter.notebook.get_cells();\n",
       "                for (var i = 0; i < nbb_cells.length; ++i) {\n",
       "                    if (nbb_cells[i].input_prompt_number == nbb_cell_id) {\n",
       "                        if (nbb_cells[i].get_text() == nbb_unformatted_code) {\n",
       "                             nbb_cells[i].set_text(nbb_formatted_code);\n",
       "                        }\n",
       "                        break;\n",
       "                    }\n",
       "                }\n",
       "            }, 500);\n",
       "            "
      ],
      "text/plain": [
       "<IPython.core.display.Javascript object>"
      ]
     },
     "metadata": {},
     "output_type": "display_data"
    }
   ],
   "source": [
    "mse(means, mu)"
   ]
  },
  {
   "cell_type": "code",
   "execution_count": 150,
   "id": "c6963a67",
   "metadata": {},
   "outputs": [
    {
     "data": {
      "text/plain": [
       "0.02958052005772322"
      ]
     },
     "execution_count": 150,
     "metadata": {},
     "output_type": "execute_result"
    },
    {
     "data": {
      "application/javascript": [
       "\n",
       "            setTimeout(function() {\n",
       "                var nbb_cell_id = 150;\n",
       "                var nbb_unformatted_code = \"mse(medians, mu)\";\n",
       "                var nbb_formatted_code = \"mse(medians, mu)\";\n",
       "                var nbb_cells = Jupyter.notebook.get_cells();\n",
       "                for (var i = 0; i < nbb_cells.length; ++i) {\n",
       "                    if (nbb_cells[i].input_prompt_number == nbb_cell_id) {\n",
       "                        if (nbb_cells[i].get_text() == nbb_unformatted_code) {\n",
       "                             nbb_cells[i].set_text(nbb_formatted_code);\n",
       "                        }\n",
       "                        break;\n",
       "                    }\n",
       "                }\n",
       "            }, 500);\n",
       "            "
      ],
      "text/plain": [
       "<IPython.core.display.Javascript object>"
      ]
     },
     "metadata": {},
     "output_type": "display_data"
    }
   ],
   "source": [
    "mse(medians, mu)"
   ]
  },
  {
   "cell_type": "markdown",
   "id": "5f619e94",
   "metadata": {},
   "source": [
    "In practice, of course, we don't know `actual`.\n",
    "If we did, we wouldn't have to estimate it. The purpose of this experiment is to compare the performance of the two estimators."
   ]
  },
  {
   "cell_type": "markdown",
   "id": "4ad768ad",
   "metadata": {},
   "source": [
    "Notice that we need to know the actual value"
   ]
  },
  {
   "cell_type": "code",
   "execution_count": 59,
   "id": "8a10dc2a",
   "metadata": {},
   "outputs": [
    {
     "data": {
      "application/javascript": [
       "\n",
       "            setTimeout(function() {\n",
       "                var nbb_cell_id = 59;\n",
       "                var nbb_unformatted_code = \"def mae(estimates, actual):\\n    \\\"\\\"\\\"Computes the mean absolute error of a sequence of estimates.\\n\\n    estimate: sequence of numbers\\n    actual: actual value\\n\\n    returns: float MAE\\n    \\\"\\\"\\\"\\n    errors = np.asarray(estimates) - actual\\n    return np.mean(np.abs(errors))\";\n",
       "                var nbb_formatted_code = \"def mae(estimates, actual):\\n    \\\"\\\"\\\"Computes the mean absolute error of a sequence of estimates.\\n\\n    estimate: sequence of numbers\\n    actual: actual value\\n\\n    returns: float MAE\\n    \\\"\\\"\\\"\\n    errors = np.asarray(estimates) - actual\\n    return np.mean(np.abs(errors))\";\n",
       "                var nbb_cells = Jupyter.notebook.get_cells();\n",
       "                for (var i = 0; i < nbb_cells.length; ++i) {\n",
       "                    if (nbb_cells[i].input_prompt_number == nbb_cell_id) {\n",
       "                        if (nbb_cells[i].get_text() == nbb_unformatted_code) {\n",
       "                             nbb_cells[i].set_text(nbb_formatted_code);\n",
       "                        }\n",
       "                        break;\n",
       "                    }\n",
       "                }\n",
       "            }, 500);\n",
       "            "
      ],
      "text/plain": [
       "<IPython.core.display.Javascript object>"
      ]
     },
     "metadata": {},
     "output_type": "display_data"
    }
   ],
   "source": [
    "def mae(estimates, actual):\n",
    "    \"\"\"Computes the mean absolute error of a sequence of estimates.\n",
    "\n",
    "    estimate: sequence of numbers\n",
    "    actual: actual value\n",
    "\n",
    "    returns: float MAE\n",
    "    \"\"\"\n",
    "    errors = np.asarray(estimates) - actual\n",
    "    return np.mean(np.abs(errors))"
   ]
  },
  {
   "cell_type": "code",
   "execution_count": 60,
   "id": "9a56d759",
   "metadata": {},
   "outputs": [
    {
     "data": {
      "text/plain": [
       "0.0784394201664938"
      ]
     },
     "execution_count": 60,
     "metadata": {},
     "output_type": "execute_result"
    },
    {
     "data": {
      "application/javascript": [
       "\n",
       "            setTimeout(function() {\n",
       "                var nbb_cell_id = 60;\n",
       "                var nbb_unformatted_code = \"mae(means, 10)\";\n",
       "                var nbb_formatted_code = \"mae(means, 10)\";\n",
       "                var nbb_cells = Jupyter.notebook.get_cells();\n",
       "                for (var i = 0; i < nbb_cells.length; ++i) {\n",
       "                    if (nbb_cells[i].input_prompt_number == nbb_cell_id) {\n",
       "                        if (nbb_cells[i].get_text() == nbb_unformatted_code) {\n",
       "                             nbb_cells[i].set_text(nbb_formatted_code);\n",
       "                        }\n",
       "                        break;\n",
       "                    }\n",
       "                }\n",
       "            }, 500);\n",
       "            "
      ],
      "text/plain": [
       "<IPython.core.display.Javascript object>"
      ]
     },
     "metadata": {},
     "output_type": "display_data"
    }
   ],
   "source": [
    "mae(means, 10)"
   ]
  },
  {
   "cell_type": "code",
   "execution_count": 61,
   "id": "bec2793b",
   "metadata": {},
   "outputs": [
    {
     "data": {
      "text/plain": [
       "0.09968087496606018"
      ]
     },
     "execution_count": 61,
     "metadata": {},
     "output_type": "execute_result"
    },
    {
     "data": {
      "application/javascript": [
       "\n",
       "            setTimeout(function() {\n",
       "                var nbb_cell_id = 61;\n",
       "                var nbb_unformatted_code = \"mae(medians, 10)\";\n",
       "                var nbb_formatted_code = \"mae(medians, 10)\";\n",
       "                var nbb_cells = Jupyter.notebook.get_cells();\n",
       "                for (var i = 0; i < nbb_cells.length; ++i) {\n",
       "                    if (nbb_cells[i].input_prompt_number == nbb_cell_id) {\n",
       "                        if (nbb_cells[i].get_text() == nbb_unformatted_code) {\n",
       "                             nbb_cells[i].set_text(nbb_formatted_code);\n",
       "                        }\n",
       "                        break;\n",
       "                    }\n",
       "                }\n",
       "            }, 500);\n",
       "            "
      ],
      "text/plain": [
       "<IPython.core.display.Javascript object>"
      ]
     },
     "metadata": {},
     "output_type": "display_data"
    }
   ],
   "source": [
    "mae(medians, 10)"
   ]
  },
  {
   "cell_type": "markdown",
   "id": "5eb3abe3",
   "metadata": {},
   "source": [
    "## Robustness"
   ]
  },
  {
   "cell_type": "code",
   "execution_count": 62,
   "id": "1d7d3582",
   "metadata": {},
   "outputs": [
    {
     "data": {
      "application/javascript": [
       "\n",
       "            setTimeout(function() {\n",
       "                var nbb_cell_id = 62;\n",
       "                var nbb_unformatted_code = \"def make_sample_with_errors(n):\\n    mu, sigma = 10, 1\\n    sample = np.random.normal(mu, sigma, size=n)\\n    factor = np.random.choice([1, 10], p=[0.99, 0.01], size=n)\\n    return sample * factor\";\n",
       "                var nbb_formatted_code = \"def make_sample_with_errors(n):\\n    mu, sigma = 10, 1\\n    sample = np.random.normal(mu, sigma, size=n)\\n    factor = np.random.choice([1, 10], p=[0.99, 0.01], size=n)\\n    return sample * factor\";\n",
       "                var nbb_cells = Jupyter.notebook.get_cells();\n",
       "                for (var i = 0; i < nbb_cells.length; ++i) {\n",
       "                    if (nbb_cells[i].input_prompt_number == nbb_cell_id) {\n",
       "                        if (nbb_cells[i].get_text() == nbb_unformatted_code) {\n",
       "                             nbb_cells[i].set_text(nbb_formatted_code);\n",
       "                        }\n",
       "                        break;\n",
       "                    }\n",
       "                }\n",
       "            }, 500);\n",
       "            "
      ],
      "text/plain": [
       "<IPython.core.display.Javascript object>"
      ]
     },
     "metadata": {},
     "output_type": "display_data"
    }
   ],
   "source": [
    "def make_sample_with_errors(n):\n",
    "    mu, sigma = 10, 1\n",
    "    sample = np.random.normal(mu, sigma, size=n)\n",
    "    factor = np.random.choice([1, 10], p=[0.99, 0.01], size=n)\n",
    "    return sample * factor"
   ]
  },
  {
   "cell_type": "code",
   "execution_count": 63,
   "id": "7d2b23be",
   "metadata": {},
   "outputs": [
    {
     "data": {
      "application/javascript": [
       "\n",
       "            setTimeout(function() {\n",
       "                var nbb_cell_id = 63;\n",
       "                var nbb_unformatted_code = \"from thinkstats import Pdf\\n\\nsample = make_sample_with_errors(1000)\";\n",
       "                var nbb_formatted_code = \"from thinkstats import Pdf\\n\\nsample = make_sample_with_errors(1000)\";\n",
       "                var nbb_cells = Jupyter.notebook.get_cells();\n",
       "                for (var i = 0; i < nbb_cells.length; ++i) {\n",
       "                    if (nbb_cells[i].input_prompt_number == nbb_cell_id) {\n",
       "                        if (nbb_cells[i].get_text() == nbb_unformatted_code) {\n",
       "                             nbb_cells[i].set_text(nbb_formatted_code);\n",
       "                        }\n",
       "                        break;\n",
       "                    }\n",
       "                }\n",
       "            }, 500);\n",
       "            "
      ],
      "text/plain": [
       "<IPython.core.display.Javascript object>"
      ]
     },
     "metadata": {},
     "output_type": "display_data"
    }
   ],
   "source": [
    "sample = make_sample_with_errors(n=1000)"
   ]
  },
  {
   "cell_type": "code",
   "execution_count": 64,
   "id": "19ae4610",
   "metadata": {},
   "outputs": [
    {
     "data": {
      "application/javascript": [
       "\n",
       "            setTimeout(function() {\n",
       "                var nbb_cell_id = 64;\n",
       "                var nbb_unformatted_code = \"from scipy.stats import gaussian_kde\\n\\nkde = gaussian_kde(sample)\";\n",
       "                var nbb_formatted_code = \"from scipy.stats import gaussian_kde\\n\\nkde = gaussian_kde(sample)\";\n",
       "                var nbb_cells = Jupyter.notebook.get_cells();\n",
       "                for (var i = 0; i < nbb_cells.length; ++i) {\n",
       "                    if (nbb_cells[i].input_prompt_number == nbb_cell_id) {\n",
       "                        if (nbb_cells[i].get_text() == nbb_unformatted_code) {\n",
       "                             nbb_cells[i].set_text(nbb_formatted_code);\n",
       "                        }\n",
       "                        break;\n",
       "                    }\n",
       "                }\n",
       "            }, 500);\n",
       "            "
      ],
      "text/plain": [
       "<IPython.core.display.Javascript object>"
      ]
     },
     "metadata": {},
     "output_type": "display_data"
    }
   ],
   "source": [
    "from scipy.stats import gaussian_kde\n",
    "\n",
    "kde = gaussian_kde(sample)"
   ]
  },
  {
   "cell_type": "code",
   "execution_count": 65,
   "id": "fe162af9",
   "metadata": {},
   "outputs": [
    {
     "data": {
      "image/png": "[encoded data removed]",
      "text/plain": [
       "<Figure size 450x262.5 with 1 Axes>"
      ]
     },
     "metadata": {},
     "output_type": "display_data"
    },
    {
     "data": {
      "application/javascript": [
       "\n",
       "            setTimeout(function() {\n",
       "                var nbb_cell_id = 65;\n",
       "                var nbb_unformatted_code = \"from thinkstats import Pdf\\n\\ndomain = 0, 120\\npdf = Pdf(kde, domain)\\npdf.plot()\";\n",
       "                var nbb_formatted_code = \"from thinkstats import Pdf\\n\\ndomain = 0, 120\\npdf = Pdf(kde, domain)\\npdf.plot()\";\n",
       "                var nbb_cells = Jupyter.notebook.get_cells();\n",
       "                for (var i = 0; i < nbb_cells.length; ++i) {\n",
       "                    if (nbb_cells[i].input_prompt_number == nbb_cell_id) {\n",
       "                        if (nbb_cells[i].get_text() == nbb_unformatted_code) {\n",
       "                             nbb_cells[i].set_text(nbb_formatted_code);\n",
       "                        }\n",
       "                        break;\n",
       "                    }\n",
       "                }\n",
       "            }, 500);\n",
       "            "
      ],
      "text/plain": [
       "<IPython.core.display.Javascript object>"
      ]
     },
     "metadata": {},
     "output_type": "display_data"
    }
   ],
   "source": [
    "from thinkstats import Pdf\n",
    "\n",
    "domain = 0, 120\n",
    "pdf = Pdf(kde, domain)\n",
    "pdf.plot()"
   ]
  },
  {
   "cell_type": "code",
   "execution_count": 82,
   "id": "1ab50ca1",
   "metadata": {},
   "outputs": [
    {
     "data": {
      "text/plain": [
       "10.916260292822704"
      ]
     },
     "execution_count": 82,
     "metadata": {},
     "output_type": "execute_result"
    },
    {
     "data": {
      "application/javascript": [
       "\n",
       "            setTimeout(function() {\n",
       "                var nbb_cell_id = 82;\n",
       "                var nbb_unformatted_code = \"means = [np.mean(make_sample_with_errors(n=100)) for i in range(10001)]\\nnp.mean(means)\";\n",
       "                var nbb_formatted_code = \"means = [np.mean(make_sample_with_errors(n=100)) for i in range(10001)]\\nnp.mean(means)\";\n",
       "                var nbb_cells = Jupyter.notebook.get_cells();\n",
       "                for (var i = 0; i < nbb_cells.length; ++i) {\n",
       "                    if (nbb_cells[i].input_prompt_number == nbb_cell_id) {\n",
       "                        if (nbb_cells[i].get_text() == nbb_unformatted_code) {\n",
       "                             nbb_cells[i].set_text(nbb_formatted_code);\n",
       "                        }\n",
       "                        break;\n",
       "                    }\n",
       "                }\n",
       "            }, 500);\n",
       "            "
      ],
      "text/plain": [
       "<IPython.core.display.Javascript object>"
      ]
     },
     "metadata": {},
     "output_type": "display_data"
    }
   ],
   "source": [
    "means = [np.mean(make_sample_with_errors(n=100)) for i in range(10001)]\n",
    "np.mean(means)"
   ]
  },
  {
   "cell_type": "code",
   "execution_count": 83,
   "id": "0e4f36c8",
   "metadata": {},
   "outputs": [
    {
     "data": {
      "text/plain": [
       "10.011866023381195"
      ]
     },
     "execution_count": 83,
     "metadata": {},
     "output_type": "execute_result"
    },
    {
     "data": {
      "application/javascript": [
       "\n",
       "            setTimeout(function() {\n",
       "                var nbb_cell_id = 83;\n",
       "                var nbb_unformatted_code = \"medians = [np.median(make_sample_with_errors(n=100)) for i in range(10001)]\\nnp.mean(medians)\";\n",
       "                var nbb_formatted_code = \"medians = [np.median(make_sample_with_errors(n=100)) for i in range(10001)]\\nnp.mean(medians)\";\n",
       "                var nbb_cells = Jupyter.notebook.get_cells();\n",
       "                for (var i = 0; i < nbb_cells.length; ++i) {\n",
       "                    if (nbb_cells[i].input_prompt_number == nbb_cell_id) {\n",
       "                        if (nbb_cells[i].get_text() == nbb_unformatted_code) {\n",
       "                             nbb_cells[i].set_text(nbb_formatted_code);\n",
       "                        }\n",
       "                        break;\n",
       "                    }\n",
       "                }\n",
       "            }, 500);\n",
       "            "
      ],
      "text/plain": [
       "<IPython.core.display.Javascript object>"
      ]
     },
     "metadata": {},
     "output_type": "display_data"
    }
   ],
   "source": [
    "medians = [np.median(make_sample_with_errors(n=100)) for i in range(10001)]\n",
    "np.mean(medians)"
   ]
  },
  {
   "cell_type": "code",
   "execution_count": 69,
   "id": "c0620a58",
   "metadata": {},
   "outputs": [
    {
     "data": {
      "text/plain": [
       "(1.591930738008331, 0.0159623040767279)"
      ]
     },
     "execution_count": 69,
     "metadata": {},
     "output_type": "execute_result"
    },
    {
     "data": {
      "application/javascript": [
       "\n",
       "            setTimeout(function() {\n",
       "                var nbb_cell_id = 69;\n",
       "                var nbb_unformatted_code = \"mse(means, 10), mse(medians, 10)\";\n",
       "                var nbb_formatted_code = \"mse(means, 10), mse(medians, 10)\";\n",
       "                var nbb_cells = Jupyter.notebook.get_cells();\n",
       "                for (var i = 0; i < nbb_cells.length; ++i) {\n",
       "                    if (nbb_cells[i].input_prompt_number == nbb_cell_id) {\n",
       "                        if (nbb_cells[i].get_text() == nbb_unformatted_code) {\n",
       "                             nbb_cells[i].set_text(nbb_formatted_code);\n",
       "                        }\n",
       "                        break;\n",
       "                    }\n",
       "                }\n",
       "            }, 500);\n",
       "            "
      ],
      "text/plain": [
       "<IPython.core.display.Javascript object>"
      ]
     },
     "metadata": {},
     "output_type": "display_data"
    }
   ],
   "source": [
    "mse(means, 10), mse(medians, 10)"
   ]
  },
  {
   "cell_type": "markdown",
   "id": "cf65739b",
   "metadata": {},
   "source": [
    "The results depend on random numbers, so they vary from one run to the next.\n",
    "But most often we expect the sample mean to yield a lower RMSE than the sample median.\n",
    "\n",
    "Minimizing MSE is a nice property, but it's not always the best strategy.\n",
    "For example, suppose we are estimating the distribution of wind speeds at a building site.\n",
    "If the estimate is too high, we might overbuild the structure, increasing its cost.\n",
    "But if it's too low, the building might collapse.\n",
    "Because cost as a function of error is not symmetric, minimizing MSE is not the best strategy."
   ]
  },
  {
   "cell_type": "markdown",
   "id": "981535aa",
   "metadata": {},
   "source": [
    "## Guess the variance\n",
    "\n",
    "*I'm thinking of a distribution.* It's a normal distribution, and here's a (familiar) sample:\n",
    "\n",
    "`[-0.441, 1.774, -0.101, -1.138, 2.975, -2.138]`\n",
    "\n",
    "What do you think is the variance, $\\sigma^2$, of my distribution? Again, the obvious choice is to use the sample variance, $S^2$, as an estimator.\n",
    "\n",
    "\n",
    "$$S^2 = \\frac{1}{n} \\sum (x_i - \\bar{x})^2$$ \n",
    "\n",
    "For large samples, $S^2$ is an adequate estimator, but for small samples it tends to be too low.\n",
    "Because of this unfortunate property, it is called a **biased** estimator.\n",
    "An estimator is **unbiased** if the expected total (or mean) error, after many iterations of the estimation game, is 0.\n",
    "\n",
    "Fortunately, there is another simple statistic that is an unbiased estimator of $\\sigma^2$:\n",
    "\n",
    "$$S_{n-1}^2 = \\frac{1}{n-1} \\sum (x_i - \\bar{x})^2$$\n",
    "\n",
    "For an explanation of why $S^2$ is biased, and a proof that $S_{n-1}^2$ is unbiased, see <http://wikipedia.org/wiki/Bias_of_an_estimator>."
   ]
  },
  {
   "cell_type": "markdown",
   "id": "1925b591",
   "metadata": {},
   "source": [
    "Remember from Chapter 1 that there are two definitions of variance:\n",
    "\n",
    "* The **population variance** has `n` in the denominator.\n",
    "\n",
    "* The **sample variance** has `n-1` in the denominator."
   ]
  },
  {
   "cell_type": "code",
   "execution_count": 76,
   "id": "1323320b",
   "metadata": {},
   "outputs": [
    {
     "data": {
      "application/javascript": [
       "\n",
       "            setTimeout(function() {\n",
       "                var nbb_cell_id = 76;\n",
       "                var nbb_unformatted_code = \"def pvar(xs):\\n    \\\"\\\"\\\"Population variance with n in the denominator\\\"\\\"\\\"\\n    return np.var(xs, ddof=0)\";\n",
       "                var nbb_formatted_code = \"def pvar(xs):\\n    \\\"\\\"\\\"Population variance with n in the denominator\\\"\\\"\\\"\\n    return np.var(xs, ddof=0)\";\n",
       "                var nbb_cells = Jupyter.notebook.get_cells();\n",
       "                for (var i = 0; i < nbb_cells.length; ++i) {\n",
       "                    if (nbb_cells[i].input_prompt_number == nbb_cell_id) {\n",
       "                        if (nbb_cells[i].get_text() == nbb_unformatted_code) {\n",
       "                             nbb_cells[i].set_text(nbb_formatted_code);\n",
       "                        }\n",
       "                        break;\n",
       "                    }\n",
       "                }\n",
       "            }, 500);\n",
       "            "
      ],
      "text/plain": [
       "<IPython.core.display.Javascript object>"
      ]
     },
     "metadata": {},
     "output_type": "display_data"
    }
   ],
   "source": [
    "def pvar(xs):\n",
    "    \"\"\"Population variance with n in the denominator\"\"\"\n",
    "    return np.var(xs, ddof=0)"
   ]
  },
  {
   "cell_type": "code",
   "execution_count": 77,
   "id": "b15c3444",
   "metadata": {},
   "outputs": [
    {
     "data": {
      "application/javascript": [
       "\n",
       "            setTimeout(function() {\n",
       "                var nbb_cell_id = 77;\n",
       "                var nbb_unformatted_code = \"def svar(xs):\\n    \\\"\\\"\\\"Sample variance with n-1 in the denominator\\\"\\\"\\\"\\n    return np.var(xs, ddof=1)\";\n",
       "                var nbb_formatted_code = \"def svar(xs):\\n    \\\"\\\"\\\"Sample variance with n-1 in the denominator\\\"\\\"\\\"\\n    return np.var(xs, ddof=1)\";\n",
       "                var nbb_cells = Jupyter.notebook.get_cells();\n",
       "                for (var i = 0; i < nbb_cells.length; ++i) {\n",
       "                    if (nbb_cells[i].input_prompt_number == nbb_cell_id) {\n",
       "                        if (nbb_cells[i].get_text() == nbb_unformatted_code) {\n",
       "                             nbb_cells[i].set_text(nbb_formatted_code);\n",
       "                        }\n",
       "                        break;\n",
       "                    }\n",
       "                }\n",
       "            }, 500);\n",
       "            "
      ],
      "text/plain": [
       "<IPython.core.display.Javascript object>"
      ]
     },
     "metadata": {},
     "output_type": "display_data"
    }
   ],
   "source": [
    "def svar(xs):\n",
    "    \"\"\"Sample variance with n-1 in the denominator\"\"\"\n",
    "    return np.var(xs, ddof=1)"
   ]
  },
  {
   "cell_type": "code",
   "execution_count": 94,
   "id": "0739a9d4",
   "metadata": {},
   "outputs": [
    {
     "data": {
      "text/plain": [
       "0.8976306880269037"
      ]
     },
     "execution_count": 94,
     "metadata": {},
     "output_type": "execute_result"
    },
    {
     "data": {
      "application/javascript": [
       "\n",
       "            setTimeout(function() {\n",
       "                var nbb_cell_id = 94;\n",
       "                var nbb_unformatted_code = \"pvars = [pvar(make_sample(n=10)) for i in range(100001)]\\nnp.mean(pvars)\";\n",
       "                var nbb_formatted_code = \"pvars = [pvar(make_sample(n=10)) for i in range(100001)]\\nnp.mean(pvars)\";\n",
       "                var nbb_cells = Jupyter.notebook.get_cells();\n",
       "                for (var i = 0; i < nbb_cells.length; ++i) {\n",
       "                    if (nbb_cells[i].input_prompt_number == nbb_cell_id) {\n",
       "                        if (nbb_cells[i].get_text() == nbb_unformatted_code) {\n",
       "                             nbb_cells[i].set_text(nbb_formatted_code);\n",
       "                        }\n",
       "                        break;\n",
       "                    }\n",
       "                }\n",
       "            }, 500);\n",
       "            "
      ],
      "text/plain": [
       "<IPython.core.display.Javascript object>"
      ]
     },
     "metadata": {},
     "output_type": "display_data"
    }
   ],
   "source": [
    "pvars = [pvar(make_sample(n=10)) for i in range(100001)]\n",
    "np.mean(pvars)"
   ]
  },
  {
   "cell_type": "code",
   "execution_count": 95,
   "id": "ddb825d1",
   "metadata": {},
   "outputs": [
    {
     "data": {
      "text/plain": [
       "1.0010222190101532"
      ]
     },
     "execution_count": 95,
     "metadata": {},
     "output_type": "execute_result"
    },
    {
     "data": {
      "application/javascript": [
       "\n",
       "            setTimeout(function() {\n",
       "                var nbb_cell_id = 95;\n",
       "                var nbb_unformatted_code = \"svars = [svar(make_sample(n=10)) for i in range(100001)]\\nnp.mean(svars)\";\n",
       "                var nbb_formatted_code = \"svars = [svar(make_sample(n=10)) for i in range(100001)]\\nnp.mean(svars)\";\n",
       "                var nbb_cells = Jupyter.notebook.get_cells();\n",
       "                for (var i = 0; i < nbb_cells.length; ++i) {\n",
       "                    if (nbb_cells[i].input_prompt_number == nbb_cell_id) {\n",
       "                        if (nbb_cells[i].get_text() == nbb_unformatted_code) {\n",
       "                             nbb_cells[i].set_text(nbb_formatted_code);\n",
       "                        }\n",
       "                        break;\n",
       "                    }\n",
       "                }\n",
       "            }, 500);\n",
       "            "
      ],
      "text/plain": [
       "<IPython.core.display.Javascript object>"
      ]
     },
     "metadata": {},
     "output_type": "display_data"
    }
   ],
   "source": [
    "svars = [svar(make_sample(n=10)) for i in range(100001)]\n",
    "np.mean(svars)"
   ]
  },
  {
   "cell_type": "code",
   "execution_count": 96,
   "id": "7a2a0142",
   "metadata": {},
   "outputs": [
    {
     "data": {
      "text/plain": [
       "(0.19029448179380304, 0.22063875362151075)"
      ]
     },
     "execution_count": 96,
     "metadata": {},
     "output_type": "execute_result"
    },
    {
     "data": {
      "application/javascript": [
       "\n",
       "            setTimeout(function() {\n",
       "                var nbb_cell_id = 96;\n",
       "                var nbb_unformatted_code = \"mse(pvars, 1), mse(svars, 1)\";\n",
       "                var nbb_formatted_code = \"mse(pvars, 1), mse(svars, 1)\";\n",
       "                var nbb_cells = Jupyter.notebook.get_cells();\n",
       "                for (var i = 0; i < nbb_cells.length; ++i) {\n",
       "                    if (nbb_cells[i].input_prompt_number == nbb_cell_id) {\n",
       "                        if (nbb_cells[i].get_text() == nbb_unformatted_code) {\n",
       "                             nbb_cells[i].set_text(nbb_formatted_code);\n",
       "                        }\n",
       "                        break;\n",
       "                    }\n",
       "                }\n",
       "            }, 500);\n",
       "            "
      ],
      "text/plain": [
       "<IPython.core.display.Javascript object>"
      ]
     },
     "metadata": {},
     "output_type": "display_data"
    }
   ],
   "source": [
    "mse(pvars, 1), mse(svars, 1)"
   ]
  },
  {
   "cell_type": "code",
   "execution_count": 97,
   "id": "d3b5c682",
   "metadata": {},
   "outputs": [
    {
     "data": {
      "text/plain": [
       "0.9914506561716301"
      ]
     },
     "execution_count": 97,
     "metadata": {},
     "output_type": "execute_result"
    },
    {
     "data": {
      "application/javascript": [
       "\n",
       "            setTimeout(function() {\n",
       "                var nbb_cell_id = 97;\n",
       "                var nbb_unformatted_code = \"pvars = [pvar(make_sample(n=100)) for i in range(10001)]\\nnp.mean(pvars)\";\n",
       "                var nbb_formatted_code = \"pvars = [pvar(make_sample(n=100)) for i in range(10001)]\\nnp.mean(pvars)\";\n",
       "                var nbb_cells = Jupyter.notebook.get_cells();\n",
       "                for (var i = 0; i < nbb_cells.length; ++i) {\n",
       "                    if (nbb_cells[i].input_prompt_number == nbb_cell_id) {\n",
       "                        if (nbb_cells[i].get_text() == nbb_unformatted_code) {\n",
       "                             nbb_cells[i].set_text(nbb_formatted_code);\n",
       "                        }\n",
       "                        break;\n",
       "                    }\n",
       "                }\n",
       "            }, 500);\n",
       "            "
      ],
      "text/plain": [
       "<IPython.core.display.Javascript object>"
      ]
     },
     "metadata": {},
     "output_type": "display_data"
    }
   ],
   "source": [
    "pvars = [pvar(make_sample(n=100)) for i in range(10001)]\n",
    "np.mean(pvars)"
   ]
  },
  {
   "cell_type": "code",
   "execution_count": 98,
   "id": "679824f6",
   "metadata": {},
   "outputs": [
    {
     "data": {
      "text/plain": [
       "0.9983085340441913"
      ]
     },
     "execution_count": 98,
     "metadata": {},
     "output_type": "execute_result"
    },
    {
     "data": {
      "application/javascript": [
       "\n",
       "            setTimeout(function() {\n",
       "                var nbb_cell_id = 98;\n",
       "                var nbb_unformatted_code = \"svars = [svar(make_sample(n=100)) for i in range(10001)]\\nnp.mean(svars)\";\n",
       "                var nbb_formatted_code = \"svars = [svar(make_sample(n=100)) for i in range(10001)]\\nnp.mean(svars)\";\n",
       "                var nbb_cells = Jupyter.notebook.get_cells();\n",
       "                for (var i = 0; i < nbb_cells.length; ++i) {\n",
       "                    if (nbb_cells[i].input_prompt_number == nbb_cell_id) {\n",
       "                        if (nbb_cells[i].get_text() == nbb_unformatted_code) {\n",
       "                             nbb_cells[i].set_text(nbb_formatted_code);\n",
       "                        }\n",
       "                        break;\n",
       "                    }\n",
       "                }\n",
       "            }, 500);\n",
       "            "
      ],
      "text/plain": [
       "<IPython.core.display.Javascript object>"
      ]
     },
     "metadata": {},
     "output_type": "display_data"
    }
   ],
   "source": [
    "svars = [svar(make_sample(n=100)) for i in range(10001)]\n",
    "np.mean(svars)"
   ]
  },
  {
   "cell_type": "code",
   "execution_count": 99,
   "id": "dc57654a",
   "metadata": {},
   "outputs": [
    {
     "data": {
      "text/plain": [
       "(0.01977832963707464, 0.02036425241678166)"
      ]
     },
     "execution_count": 99,
     "metadata": {},
     "output_type": "execute_result"
    },
    {
     "data": {
      "application/javascript": [
       "\n",
       "            setTimeout(function() {\n",
       "                var nbb_cell_id = 99;\n",
       "                var nbb_unformatted_code = \"mse(pvars, 1), mse(svars, 1)\";\n",
       "                var nbb_formatted_code = \"mse(pvars, 1), mse(svars, 1)\";\n",
       "                var nbb_cells = Jupyter.notebook.get_cells();\n",
       "                for (var i = 0; i < nbb_cells.length; ++i) {\n",
       "                    if (nbb_cells[i].input_prompt_number == nbb_cell_id) {\n",
       "                        if (nbb_cells[i].get_text() == nbb_unformatted_code) {\n",
       "                             nbb_cells[i].set_text(nbb_formatted_code);\n",
       "                        }\n",
       "                        break;\n",
       "                    }\n",
       "                }\n",
       "            }, 500);\n",
       "            "
      ],
      "text/plain": [
       "<IPython.core.display.Javascript object>"
      ]
     },
     "metadata": {},
     "output_type": "display_data"
    }
   ],
   "source": [
    "mse(pvars, 1), mse(svars, 1)"
   ]
  },
  {
   "cell_type": "markdown",
   "id": "b56aab89",
   "metadata": {},
   "source": [
    "When I ran this code, the mean error for $S^2$ was -0.13. As expected, this biased estimator tends to be too low.\n",
    "For $S_{n-1}^2$, the mean error was 0.014, about 10 times smaller.\n",
    "As `m` increases, we expect the mean error for $S_{n-1}^2$ to approach 0.\n",
    "\n",
    "Properties like MSE and bias are long-term expectations based on many iterations of the estimation game.\n",
    "By running simulations like the ones in this chapter, we can compare estimators and check whether they have desired properties.\n",
    "\n",
    "But when you apply an estimator to real data, you just get one estimate.\n",
    "It would not be meaningful to say that the estimate is unbiased; being unbiased is a property of the estimator, not the estimate.\n",
    "\n",
    "After you choose an estimator with appropriate properties, and use it to generate an estimate, the next step is to characterize the uncertainty of the estimate, which is the topic of the next section."
   ]
  },
  {
   "cell_type": "markdown",
   "id": "c8fee736",
   "metadata": {},
   "source": [
    "## Exponential distributions\n",
    "\n",
    "Let's play one more round of the estimation game.\n",
    "*I'm thinking of a distribution.* It's an exponential distribution, and here's a sample:\n",
    "\n",
    "`[5.384, 4.493, 19.198, 2.790, 6.122, 12.844]`\n",
    "\n",
    "What do you think is the parameter, $\\lambda$, of this distribution?\n",
    "\n",
    "In general, the mean of an exponential distribution is $1/\\lambda$, so working backwards, we might choose \n",
    "\n",
    "$$L= 1 / \\bar{x}$$\n",
    "\n",
    "$L$ is an estimator of $\\lambda$.\n",
    "And not just any estimator; it is also the maximum likelihood estimator (see <http://wikipedia.org/wiki/Exponential_distribution#Maximum_likelihood>).\n",
    "So if you want to maximize your chance of guessing $\\lambda$ exactly, $L$ is the way to go.\n",
    "\n",
    "But we know that $\\bar{x}$ is not robust in the presence of outliers, so we expect $L$ to have the same problem."
   ]
  },
  {
   "cell_type": "markdown",
   "id": "92c023db",
   "metadata": {},
   "source": [
    "We can choose an alternative based on the sample median.\n",
    "The median of an exponential distribution is $\\ln(2) / \\lambda$, so working backwards again, we can define an estimator $$L_m= \\ln(2) / m$$ where $m$ is the sample median.\n",
    "\n",
    "To test the performance of these estimators, we can simulate the sampling process:"
   ]
  },
  {
   "cell_type": "code",
   "execution_count": 16,
   "id": "c9791e47",
   "metadata": {},
   "outputs": [
    {
     "data": {
      "application/javascript": [
       "\n",
       "        setTimeout(function() {\n",
       "            var nbb_cell_id = 16;\n",
       "            var nbb_formatted_code = \"def median(seq):\\n    n = len(seq)\\n    t = sorted(seq)\\n    i = (n - 1) // 2\\n    return t[i]\";\n",
       "            var nbb_cells = Jupyter.notebook.get_cells();\n",
       "            for (var i = 0; i < nbb_cells.length; ++i) {\n",
       "                if (nbb_cells[i].input_prompt_number == nbb_cell_id) {\n",
       "                    nbb_cells[i].set_text(nbb_formatted_code);\n",
       "                    break;\n",
       "                }\n",
       "            }\n",
       "        }, 500);\n",
       "        "
      ],
      "text/plain": [
       "<IPython.core.display.Javascript object>"
      ]
     },
     "metadata": {},
     "output_type": "display_data"
    }
   ],
   "source": [
    "def median(seq):\n",
    "    n = len(seq)\n",
    "    t = sorted(seq)\n",
    "    i = (n - 1) // 2\n",
    "    return t[i]"
   ]
  },
  {
   "cell_type": "code",
   "execution_count": 17,
   "id": "699a569e",
   "metadata": {},
   "outputs": [
    {
     "data": {
      "application/javascript": [
       "\n",
       "        setTimeout(function() {\n",
       "            var nbb_cell_id = 17;\n",
       "            var nbb_formatted_code = \"lam = 2\\nls = []\\nlms = []\\n\\nfor _ in range(iters):\\n    xs = np.random.exponential(1.0 / lam, n)\\n    L = 1 / np.mean(xs)\\n    Lm = np.log(2) / median(xs)\\n    ls.append(L)\\n    lms.append(Lm)\";\n",
       "            var nbb_cells = Jupyter.notebook.get_cells();\n",
       "            for (var i = 0; i < nbb_cells.length; ++i) {\n",
       "                if (nbb_cells[i].input_prompt_number == nbb_cell_id) {\n",
       "                    nbb_cells[i].set_text(nbb_formatted_code);\n",
       "                    break;\n",
       "                }\n",
       "            }\n",
       "        }, 500);\n",
       "        "
      ],
      "text/plain": [
       "<IPython.core.display.Javascript object>"
      ]
     },
     "metadata": {},
     "output_type": "display_data"
    }
   ],
   "source": [
    "lam = 2\n",
    "ls = []\n",
    "lms = []\n",
    "\n",
    "for _ in range(iters):\n",
    "    xs = np.random.exponential(1.0 / lam, n)\n",
    "    L = 1 / np.mean(xs)\n",
    "    Lm = np.log(2) / median(xs)\n",
    "    ls.append(L)\n",
    "    lms.append(Lm)"
   ]
  },
  {
   "cell_type": "code",
   "execution_count": 18,
   "id": "5b4e4ddf",
   "metadata": {},
   "outputs": [
    {
     "name": "stdout",
     "output_type": "stream",
     "text": [
      "rmse L 0.8560691042601719\n",
      "rmse Lm 1.753367380943278\n"
     ]
    },
    {
     "data": {
      "application/javascript": [
       "\n",
       "        setTimeout(function() {\n",
       "            var nbb_cell_id = 18;\n",
       "            var nbb_formatted_code = \"print(\\\"rmse L\\\", rmse(ls, lam))\\nprint(\\\"rmse Lm\\\", rmse(lms, lam))\";\n",
       "            var nbb_cells = Jupyter.notebook.get_cells();\n",
       "            for (var i = 0; i < nbb_cells.length; ++i) {\n",
       "                if (nbb_cells[i].input_prompt_number == nbb_cell_id) {\n",
       "                    nbb_cells[i].set_text(nbb_formatted_code);\n",
       "                    break;\n",
       "                }\n",
       "            }\n",
       "        }, 500);\n",
       "        "
      ],
      "text/plain": [
       "<IPython.core.display.Javascript object>"
      ]
     },
     "metadata": {},
     "output_type": "display_data"
    }
   ],
   "source": [
    "print(\"rmse L\", rmse(ls, lam))\n",
    "print(\"rmse Lm\", rmse(lms, lam))"
   ]
  },
  {
   "cell_type": "markdown",
   "id": "3a550684",
   "metadata": {},
   "source": [
    "When I run this experiment with $\\lambda=2$, the RMSE of $L$ is 1.1. For the median-based estimator $L_m$, RMSE is 1.8. We can't tell from this experiment whether $L$ minimizes MSE, but at least it seems better than $L_m$."
   ]
  },
  {
   "cell_type": "code",
   "execution_count": 19,
   "id": "9d6dbd28",
   "metadata": {},
   "outputs": [
    {
     "name": "stdout",
     "output_type": "stream",
     "text": [
      "mean error L 0.2540278485011342\n",
      "mean error Lm 0.7173415794334793\n"
     ]
    },
    {
     "data": {
      "application/javascript": [
       "\n",
       "        setTimeout(function() {\n",
       "            var nbb_cell_id = 19;\n",
       "            var nbb_formatted_code = \"print(\\\"mean error L\\\", mean_error(ls, lam))\\nprint(\\\"mean error Lm\\\", mean_error(lms, lam))\";\n",
       "            var nbb_cells = Jupyter.notebook.get_cells();\n",
       "            for (var i = 0; i < nbb_cells.length; ++i) {\n",
       "                if (nbb_cells[i].input_prompt_number == nbb_cell_id) {\n",
       "                    nbb_cells[i].set_text(nbb_formatted_code);\n",
       "                    break;\n",
       "                }\n",
       "            }\n",
       "        }, 500);\n",
       "        "
      ],
      "text/plain": [
       "<IPython.core.display.Javascript object>"
      ]
     },
     "metadata": {},
     "output_type": "display_data"
    }
   ],
   "source": [
    "print(\"mean error L\", mean_error(ls, lam))\n",
    "print(\"mean error Lm\", mean_error(lms, lam))"
   ]
  },
  {
   "cell_type": "markdown",
   "id": "8a7e05a2",
   "metadata": {},
   "source": [
    "Sadly, it seems that both estimators are biased.\n",
    "For $L$ the mean error is 0.33; for $L_m$ it is 0.45. And neither converges to 0 as `m` increases.\n",
    "\n",
    "It turns out that $\\bar{x}$ is an unbiased estimator of the mean of the distribution, but $L$ is not an unbiased estimator of $\\lambda$."
   ]
  },
  {
   "cell_type": "markdown",
   "id": "8e2b1e65",
   "metadata": {},
   "source": [
    "## Sampling distributions\n",
    "\n",
    "Suppose you are a scientist studying gorillas in a wildlife preserve.\n",
    "You want to know the average weight of the adult female gorillas in the preserve.\n",
    "To weigh them, you have to tranquilize them, which is dangerous, expensive, and possibly harmful to the gorillas.\n",
    "But if it is important to obtain this information, it might be acceptable to weigh a sample of 9 gorillas.\n",
    "Let's assume that the population of the preserve is well known, so we can choose a representative sample of adult females.\n",
    "We could use the sample mean, $\\bar{x}$, to estimate the unknown population mean, $\\mu$.\n",
    "\n",
    "Having weighed 9 female gorillas, you might find $\\bar{x}=90$ kg and sample standard deviation, $S=7.5$ kg. The sample mean is an unbiased estimator of $\\mu$, and in the long run it minimizes MSE.\n",
    "So if you report a single estimate that summarizes the results, you would report 90 kg.\n",
    "\n",
    "But how confident should you be in this estimate? If you only weigh $n=9$ gorillas out of a much larger population, you might be unlucky and choose the 9 heaviest gorillas (or the 9 lightest ones) just by chance.\n",
    "Variation in the estimate caused by random selection is called **sampling error**."
   ]
  },
  {
   "cell_type": "markdown",
   "id": "3688d129",
   "metadata": {},
   "source": [
    "To quantify sampling error, we can simulate the sampling process with hypothetical values of $\\mu$ and $\\sigma$, and see how much $\\bar{x}$ varies.\n",
    "\n",
    "Since we don't know the actual values of $\\mu$ and $\\sigma$ in the population, we'll use the estimates $\\bar{x}$ and $S$.\n",
    "So the question we answer is: \"If the actual values of $\\mu$ and $\\sigma$ were 90 kg and 7.5 kg, and we ran the same experiment many times, how much would the estimated mean, $\\bar{x}$, vary?\"\n",
    "\n",
    "The following function answers that question:"
   ]
  },
  {
   "cell_type": "code",
   "execution_count": 11,
   "id": "d35a0faf",
   "metadata": {},
   "outputs": [
    {
     "data": {
      "application/javascript": [
       "\n",
       "        setTimeout(function() {\n",
       "            var nbb_cell_id = 11;\n",
       "            var nbb_formatted_code = \"def simulate_sample(mu=90, sigma=7.5, n=9, iters=1000):\\n    xbars = []\\n    for j in range(iters):\\n        xs = np.random.normal(mu, sigma, n)\\n        xbar = np.mean(xs)\\n        xbars.append(xbar)\\n    return xbars\";\n",
       "            var nbb_cells = Jupyter.notebook.get_cells();\n",
       "            for (var i = 0; i < nbb_cells.length; ++i) {\n",
       "                if (nbb_cells[i].input_prompt_number == nbb_cell_id) {\n",
       "                    nbb_cells[i].set_text(nbb_formatted_code);\n",
       "                    break;\n",
       "                }\n",
       "            }\n",
       "        }, 500);\n",
       "        "
      ],
      "text/plain": [
       "<IPython.core.display.Javascript object>"
      ]
     },
     "metadata": {},
     "output_type": "display_data"
    }
   ],
   "source": [
    "def simulate_sample(mu=90, sigma=7.5, n=9, iters=1000):\n",
    "    xbars = []\n",
    "    for j in range(iters):\n",
    "        xs = np.random.normal(mu, sigma, n)\n",
    "        xbar = np.mean(xs)\n",
    "        xbars.append(xbar)\n",
    "    return xbars"
   ]
  },
  {
   "cell_type": "markdown",
   "id": "9213d143",
   "metadata": {},
   "source": [
    "`mu` and `sigma` are the *hypothetical* values of the parameters.\n",
    "`n` is the sample size, the number of gorillas we measured.\n",
    "`m` is the number of times we run the simulation."
   ]
  },
  {
   "cell_type": "code",
   "execution_count": 12,
   "id": "cc198a8c",
   "metadata": {},
   "outputs": [
    {
     "data": {
      "image/png": "[encoded data removed]",
      "text/plain": [
       "<Figure size 450x262.5 with 1 Axes>"
      ]
     },
     "metadata": {},
     "output_type": "display_data"
    },
    {
     "data": {
      "application/javascript": [
       "\n",
       "        setTimeout(function() {\n",
       "            var nbb_cell_id = 12;\n",
       "            var nbb_formatted_code = \"from empiricaldist import Cdf\\n\\nxbars = simulate_sample()\\ncdf = Cdf.from_seq(xbars)\\ncdf.plot()\\ndecorate(xlabel=\\\"Sample mean\\\", ylabel=\\\"CDF\\\")\";\n",
       "            var nbb_cells = Jupyter.notebook.get_cells();\n",
       "            for (var i = 0; i < nbb_cells.length; ++i) {\n",
       "                if (nbb_cells[i].input_prompt_number == nbb_cell_id) {\n",
       "                    nbb_cells[i].set_text(nbb_formatted_code);\n",
       "                    break;\n",
       "                }\n",
       "            }\n",
       "        }, 500);\n",
       "        "
      ],
      "text/plain": [
       "<IPython.core.display.Javascript object>"
      ]
     },
     "metadata": {},
     "output_type": "display_data"
    }
   ],
   "source": [
    "from empiricaldist import Cdf\n",
    "\n",
    "xbars = simulate_sample()\n",
    "cdf = Cdf.from_seq(xbars)\n",
    "cdf.plot()\n",
    "decorate(xlabel=\"Sample mean\", ylabel=\"CDF\")"
   ]
  },
  {
   "cell_type": "markdown",
   "id": "9765c4c5",
   "metadata": {},
   "source": [
    "In each iteration, we choose `n` values from a normal distribution with the given parameters, and compute the sample mean, `xbar`.\n",
    "We run 1000 simulations and then compute the distribution, `cdf`, of the estimates.\n",
    "The result is shown in Figure [\\[estimation1\\]](#estimation1){reference-type=\"ref\" reference=\"estimation1\"}.\n",
    "This distribution is called the **sampling distribution** of the estimator.\n",
    "It shows how much the estimates would vary if we ran the experiment over and over.\n",
    "\n",
    "The mean of the sampling distribution is pretty close to the hypothetical value of $\\mu$, which means that the experiment yields the right answer, on average.\n",
    "After 1000 tries, the lowest result is 82 kg, and the highest is 98 kg. This range suggests that the estimate might be off by as much as 8 kg."
   ]
  },
  {
   "cell_type": "code",
   "execution_count": 13,
   "id": "02a60445",
   "metadata": {},
   "outputs": [
    {
     "data": {
      "text/plain": [
       "89.97975274187043"
      ]
     },
     "execution_count": 13,
     "metadata": {},
     "output_type": "execute_result"
    },
    {
     "data": {
      "application/javascript": [
       "\n",
       "        setTimeout(function() {\n",
       "            var nbb_cell_id = 13;\n",
       "            var nbb_formatted_code = \"np.mean(xbars)\";\n",
       "            var nbb_cells = Jupyter.notebook.get_cells();\n",
       "            for (var i = 0; i < nbb_cells.length; ++i) {\n",
       "                if (nbb_cells[i].input_prompt_number == nbb_cell_id) {\n",
       "                    nbb_cells[i].set_text(nbb_formatted_code);\n",
       "                    break;\n",
       "                }\n",
       "            }\n",
       "        }, 500);\n",
       "        "
      ],
      "text/plain": [
       "<IPython.core.display.Javascript object>"
      ]
     },
     "metadata": {},
     "output_type": "display_data"
    }
   ],
   "source": [
    "np.mean(xbars)"
   ]
  },
  {
   "cell_type": "code",
   "execution_count": 14,
   "id": "87820a28",
   "metadata": {},
   "outputs": [
    {
     "data": {
      "text/plain": [
       "array([85.9691665 , 93.89352504])"
      ]
     },
     "execution_count": 14,
     "metadata": {},
     "output_type": "execute_result"
    },
    {
     "data": {
      "application/javascript": [
       "\n",
       "        setTimeout(function() {\n",
       "            var nbb_cell_id = 14;\n",
       "            var nbb_formatted_code = \"# TODO: make this a function\\n\\nci = cdf.inverse([0.05, 0.95])\\nci\";\n",
       "            var nbb_cells = Jupyter.notebook.get_cells();\n",
       "            for (var i = 0; i < nbb_cells.length; ++i) {\n",
       "                if (nbb_cells[i].input_prompt_number == nbb_cell_id) {\n",
       "                    nbb_cells[i].set_text(nbb_formatted_code);\n",
       "                    break;\n",
       "                }\n",
       "            }\n",
       "        }, 500);\n",
       "        "
      ],
      "text/plain": [
       "<IPython.core.display.Javascript object>"
      ]
     },
     "metadata": {},
     "output_type": "display_data"
    }
   ],
   "source": [
    "# TODO: make this a function\n",
    "\n",
    "ci = cdf.inverse([0.05, 0.95])\n",
    "ci"
   ]
  },
  {
   "cell_type": "code",
   "execution_count": 15,
   "id": "a5343830",
   "metadata": {},
   "outputs": [
    {
     "data": {
      "text/plain": [
       "2.4328629138051032"
      ]
     },
     "execution_count": 15,
     "metadata": {},
     "output_type": "execute_result"
    },
    {
     "data": {
      "application/javascript": [
       "\n",
       "        setTimeout(function() {\n",
       "            var nbb_cell_id = 15;\n",
       "            var nbb_formatted_code = \"stderr = rmse(xbars, 90)\\nstderr\";\n",
       "            var nbb_cells = Jupyter.notebook.get_cells();\n",
       "            for (var i = 0; i < nbb_cells.length; ++i) {\n",
       "                if (nbb_cells[i].input_prompt_number == nbb_cell_id) {\n",
       "                    nbb_cells[i].set_text(nbb_formatted_code);\n",
       "                    break;\n",
       "                }\n",
       "            }\n",
       "        }, 500);\n",
       "        "
      ],
      "text/plain": [
       "<IPython.core.display.Javascript object>"
      ]
     },
     "metadata": {},
     "output_type": "display_data"
    }
   ],
   "source": [
    "stderr = rmse(xbars, 90)\n",
    "stderr"
   ]
  },
  {
   "cell_type": "markdown",
   "id": "77a5217f",
   "metadata": {},
   "source": [
    "There are two common ways to summarize the sampling distribution:\n",
    "\n",
    "-   **Standard error** (SE) is a measure of how far we expect the estimate to be off, on average.\n",
    "For each simulated experiment, we compute the error, $\\bar{x} - \\mu$, and then compute the root mean squared error (RMSE).\n",
    "In this example, it is roughly 2.5 kg.\n",
    "\n",
    "-   A **confidence interval** (CI) is a range that includes a given fraction of the sampling distribution.\n",
    "For example, the 90% confidence interval is the range from the 5th to the 95th percentile.\n",
    "In this example, the 90% CI is $(86, 94)$ kg."
   ]
  },
  {
   "cell_type": "markdown",
   "id": "082625d3",
   "metadata": {},
   "source": [
    "Standard errors and confidence intervals are the source of much confusion:\n",
    "\n",
    "-   People often confuse standard error and standard deviation.\n",
    "Remember that standard deviation describes variability in a measured quantity; in this example, the standard deviation of gorilla weight is 7.5 kg. Standard error describes variability in an estimate.\n",
    "In this example, the standard error of the mean, based on a sample of 9 measurements, is 2.5 kg."
   ]
  },
  {
   "cell_type": "markdown",
   "id": "824f48a5",
   "metadata": {},
   "source": [
    "One way to remember the difference is that, as sample size increases, standard error gets smaller; standard deviation does not.\n",
    "\n",
    "-   People often think that there is a 90% probability that the actual parameter, $\\mu$, falls in the 90% confidence interval.\n",
    "Sadly, that is not true.\n",
    "If you want to make a claim like that, you have to use Bayesian methods (see my book, *Think Bayes*)."
   ]
  },
  {
   "cell_type": "markdown",
   "id": "378233c2",
   "metadata": {},
   "source": [
    "The sampling distribution answers a different question: it gives you a sense of how reliable an estimate is by telling you how much it would vary if you ran the experiment again."
   ]
  },
  {
   "cell_type": "markdown",
   "id": "fd157984",
   "metadata": {},
   "source": [
    "It is important to remember that confidence intervals and standard errors only quantify sampling error; that is, error due to measuring only part of the population.\n",
    "The sampling distribution does not account for other sources of error, notably sampling bias and measurement error, which are the topics of the next section."
   ]
  },
  {
   "cell_type": "markdown",
   "id": "bb261f13",
   "metadata": {},
   "source": [
    "## Sampling bias\n",
    "\n",
    "Suppose that instead of the weight of gorillas in a nature preserve, you want to know the average weight of women in the city where you live.\n",
    "It is unlikely that you would be allowed to choose a representative sample of women and weigh them.\n",
    "\n",
    "A simple alternative would be \"telephone sampling;\" that is, you could choose random numbers from the phone book, call and ask to speak to an adult woman, and ask how much she weighs.\n",
    "\n",
    "Telephone sampling has obvious limitations.\n",
    "For example, the sample is limited to people whose telephone numbers are listed, so it eliminates people without phones (who might be poorer than average) and people with unlisted numbers (who might be richer).\n",
    "Also, if you call home telephones during the day, you are less likely to sample people with jobs.\n",
    "And if you only sample the person who answers the phone, you are less likely to sample people who share a phone line."
   ]
  },
  {
   "cell_type": "markdown",
   "id": "f4732e1c",
   "metadata": {},
   "source": [
    "If factors like income, employment, and household size are related to weight---and it is plausible that they are---the results of your survey would be affected one way or another.\n",
    "This problem is called **sampling bias** because it is a property of the sampling process.\n",
    "\n",
    "This sampling process is also vulnerable to self-selection, which is a kind of sampling bias.\n",
    "Some people will refuse to answer the question, and if the tendency to refuse is related to weight, that would affect the results.\n",
    "\n",
    "Finally, if you ask people how much they weigh, rather than weighing them, the results might not be accurate.\n",
    "Even helpful respondents might round up or down if they are uncomfortable with their actual weight.\n",
    "And not all respondents are helpful.\n",
    "These inaccuracies are examples of **measurement error**."
   ]
  },
  {
   "cell_type": "markdown",
   "id": "c2bafbb5",
   "metadata": {},
   "source": [
    "When you report an estimated quantity, it is useful to report standard error, or a confidence interval, or both, in order to quantify sampling error.\n",
    "But it is also important to remember that sampling error is only one source of error, and often it is not the biggest."
   ]
  },
  {
   "cell_type": "markdown",
   "id": "5a72892f",
   "metadata": {},
   "source": [
    "## Glossary\n",
    "\n",
    "-   **estimation**: The process of inferring the parameters of a distribution from a sample.\n",
    "\n",
    "-   **estimator**: A statistic used to estimate a parameter.\n",
    "\n",
    "-   **mean squared error (MSE)**: A measure of estimation error.\n",
    "\n",
    "-   **root mean squared error (RMSE)**: The square root of MSE, a more meaningful representation of typical error magnitude.\n",
    "\n",
    "-   **maximum likelihood estimator (MLE)**: An estimator that computes the point estimate most likely to be correct.\n",
    "\n",
    "-   **bias (of an estimator)**: The tendency of an estimator to be above or below the actual value of the parameter, when averaged over repeated experiments.\n",
    "\n",
    "-   **sampling error**: Error in an estimate due to the limited size of the sample and variation due to chance.\n",
    "\n",
    "-   **sampling bias**: Error in an estimate due to a sampling process that is not representative of the population.\n",
    "\n",
    "-   **measurement error**: Error in an estimate due to inaccuracy collecting or recording data.\n",
    "\n",
    "-   **sampling distribution**: The distribution of a statistic if an experiment is repeated many times.\n",
    "\n",
    "-   **standard error**: The RMSE of an estimate, which quantifies variability due to sampling error (but not other sources of error).\n",
    "\n",
    "-   **confidence interval**: An interval that represents the expected range of an estimator if an experiment is repeated many times."
   ]
  },
  {
   "cell_type": "markdown",
   "id": "697621aa",
   "metadata": {},
   "source": [
    "## Exercises"
   ]
  },
  {
   "cell_type": "markdown",
   "id": "700f4df0",
   "metadata": {},
   "source": [
    "**Exercise:** Suppose you draw a sample with size n=10 from an exponential distribution with λ=2.\n",
    "Simulate this experiment 1000 times and plot the sampling distribution of the estimate L. Compute the standard error of the estimate and the 90% confidence interval.\n",
    "\n",
    "Repeat the experiment with a few different values of `n` and make a plot of standard error versus `n`.\n",
    "\n"
   ]
  },
  {
   "cell_type": "code",
   "execution_count": 20,
   "id": "41dfd70d",
   "metadata": {},
   "outputs": [
    {
     "name": "stdout",
     "output_type": "stream",
     "text": [
      "standard error 0.9017891711693963\n"
     ]
    },
    {
     "data": {
      "application/javascript": [
       "\n",
       "        setTimeout(function() {\n",
       "            var nbb_cell_id = 20;\n",
       "            var nbb_formatted_code = \"# Solution\\n\\nlam = 2\\nestimates = []\\nfor _ in range(iters):\\n    xs = np.random.exponential(1.0 / lam, n)\\n    lamhat = 1.0 / np.mean(xs)\\n    estimates.append(lamhat)\\nstderr = rmse(estimates, lam)\\nprint(\\\"standard error\\\", stderr)\";\n",
       "            var nbb_cells = Jupyter.notebook.get_cells();\n",
       "            for (var i = 0; i < nbb_cells.length; ++i) {\n",
       "                if (nbb_cells[i].input_prompt_number == nbb_cell_id) {\n",
       "                    nbb_cells[i].set_text(nbb_formatted_code);\n",
       "                    break;\n",
       "                }\n",
       "            }\n",
       "        }, 500);\n",
       "        "
      ],
      "text/plain": [
       "<IPython.core.display.Javascript object>"
      ]
     },
     "metadata": {},
     "output_type": "display_data"
    }
   ],
   "source": [
    "# Solution\n",
    "\n",
    "lam = 2\n",
    "estimates = []\n",
    "for _ in range(iters):\n",
    "    xs = np.random.exponential(1.0 / lam, n)\n",
    "    lamhat = 1.0 / np.mean(xs)\n",
    "    estimates.append(lamhat)\n",
    "stderr = rmse(estimates, lam)\n",
    "print(\"standard error\", stderr)"
   ]
  },
  {
   "cell_type": "code",
   "execution_count": 21,
   "id": "b4bb502a",
   "metadata": {},
   "outputs": [
    {
     "name": "stdout",
     "output_type": "stream",
     "text": [
      "confidence interval [1.24258435 3.8582495 ]\n"
     ]
    },
    {
     "data": {
      "application/javascript": [
       "\n",
       "        setTimeout(function() {\n",
       "            var nbb_cell_id = 21;\n",
       "            var nbb_formatted_code = \"# Solution\\n\\ncdf = Cdf.from_seq(estimates)\\nci = cdf.inverse([0.05, 0.95])\\nprint(\\\"confidence interval\\\", ci)\";\n",
       "            var nbb_cells = Jupyter.notebook.get_cells();\n",
       "            for (var i = 0; i < nbb_cells.length; ++i) {\n",
       "                if (nbb_cells[i].input_prompt_number == nbb_cell_id) {\n",
       "                    nbb_cells[i].set_text(nbb_formatted_code);\n",
       "                    break;\n",
       "                }\n",
       "            }\n",
       "        }, 500);\n",
       "        "
      ],
      "text/plain": [
       "<IPython.core.display.Javascript object>"
      ]
     },
     "metadata": {},
     "output_type": "display_data"
    }
   ],
   "source": [
    "# Solution\n",
    "\n",
    "cdf = Cdf.from_seq(estimates)\n",
    "ci = cdf.inverse([0.05, 0.95])\n",
    "print(\"confidence interval\", ci)"
   ]
  },
  {
   "cell_type": "code",
   "execution_count": 22,
   "id": "53a58369",
   "metadata": {},
   "outputs": [
    {
     "data": {
      "application/javascript": [
       "\n",
       "        setTimeout(function() {\n",
       "            var nbb_cell_id = 22;\n",
       "            var nbb_formatted_code = \"# Solution\\n\\nimport matplotlib.pyplot as plt\\n\\n\\ndef vert_line(x, y=1):\\n    plt.plot([x, x], [0, y], color=\\\"gray\\\")\";\n",
       "            var nbb_cells = Jupyter.notebook.get_cells();\n",
       "            for (var i = 0; i < nbb_cells.length; ++i) {\n",
       "                if (nbb_cells[i].input_prompt_number == nbb_cell_id) {\n",
       "                    nbb_cells[i].set_text(nbb_formatted_code);\n",
       "                    break;\n",
       "                }\n",
       "            }\n",
       "        }, 500);\n",
       "        "
      ],
      "text/plain": [
       "<IPython.core.display.Javascript object>"
      ]
     },
     "metadata": {},
     "output_type": "display_data"
    }
   ],
   "source": [
    "# Solution\n",
    "\n",
    "import matplotlib.pyplot as plt\n",
    "\n",
    "\n",
    "def vert_line(x, y=1):\n",
    "    plt.plot([x, x], [0, y], color=\"gray\")"
   ]
  },
  {
   "cell_type": "code",
   "execution_count": 23,
   "id": "71beaf3d",
   "metadata": {},
   "outputs": [
    {
     "data": {
      "image/png": "[encoded data removed]",
      "text/plain": [
       "<Figure size 450x262.5 with 1 Axes>"
      ]
     },
     "metadata": {},
     "output_type": "display_data"
    },
    {
     "data": {
      "application/javascript": [
       "\n",
       "        setTimeout(function() {\n",
       "            var nbb_cell_id = 23;\n",
       "            var nbb_formatted_code = \"# Solution\\n\\nvert_line(ci[0])\\nvert_line(ci[1])\\ncdf.plot()\\ndecorate(xlabel=\\\"estimate\\\", ylabel=\\\"CDF\\\", title=\\\"Sampling distribution\\\")\";\n",
       "            var nbb_cells = Jupyter.notebook.get_cells();\n",
       "            for (var i = 0; i < nbb_cells.length; ++i) {\n",
       "                if (nbb_cells[i].input_prompt_number == nbb_cell_id) {\n",
       "                    nbb_cells[i].set_text(nbb_formatted_code);\n",
       "                    break;\n",
       "                }\n",
       "            }\n",
       "        }, 500);\n",
       "        "
      ],
      "text/plain": [
       "<IPython.core.display.Javascript object>"
      ]
     },
     "metadata": {},
     "output_type": "display_data"
    }
   ],
   "source": [
    "# Solution\n",
    "\n",
    "vert_line(ci[0])\n",
    "vert_line(ci[1])\n",
    "cdf.plot()\n",
    "decorate(xlabel=\"estimate\", ylabel=\"CDF\", title=\"Sampling distribution\")"
   ]
  },
  {
   "cell_type": "markdown",
   "id": "c8d4dc5c",
   "metadata": {},
   "source": [
    "**Exercise:** In games like hockey and soccer, the time between goals is roughly exponential.\n",
    "So you could estimate a team's goal-scoring rate by observing the number of goals they score in a game.\n",
    "This estimation process is a little different from sampling the time between goals, so let's see how it works.\n",
    "\n",
    "Write a function that takes a goal-scoring rate, `lam`, in goals per game, and simulates a game by generating the time between goals until the total time exceeds 1 game, then returns the number of goals scored.\n",
    "\n",
    "Write another function that simulates many games, stores the estimates of `lam`, then computes their mean error and RMSE.\n",
    "\n",
    "Is this way of making an estimate biased?"
   ]
  },
  {
   "cell_type": "code",
   "execution_count": 24,
   "id": "9dcfda77",
   "metadata": {},
   "outputs": [
    {
     "data": {
      "application/javascript": [
       "\n",
       "        setTimeout(function() {\n",
       "            var nbb_cell_id = 24;\n",
       "            var nbb_formatted_code = \"def simulate_game(lam):\\n    \\\"\\\"\\\"Simulates a game and returns the estimated goal-scoring rate.\\n\\n    lam: actual goal scoring rate in goals per game\\n    \\\"\\\"\\\"\\n    goals = 0\\n    t = 0\\n    while True:\\n        time_between_goals = random.expovariate(lam)\\n        t += time_between_goals\\n        if t > 1:\\n            break\\n        goals += 1\\n    L = goals\\n    return L\";\n",
       "            var nbb_cells = Jupyter.notebook.get_cells();\n",
       "            for (var i = 0; i < nbb_cells.length; ++i) {\n",
       "                if (nbb_cells[i].input_prompt_number == nbb_cell_id) {\n",
       "                    nbb_cells[i].set_text(nbb_formatted_code);\n",
       "                    break;\n",
       "                }\n",
       "            }\n",
       "        }, 500);\n",
       "        "
      ],
      "text/plain": [
       "<IPython.core.display.Javascript object>"
      ]
     },
     "metadata": {},
     "output_type": "display_data"
    }
   ],
   "source": [
    "def simulate_game(lam):\n",
    "    \"\"\"Simulates a game and returns the estimated goal-scoring rate.\n",
    "\n",
    "    lam: actual goal scoring rate in goals per game\n",
    "    \"\"\"\n",
    "    goals = 0\n",
    "    t = 0\n",
    "    while True:\n",
    "        time_between_goals = random.expovariate(lam)\n",
    "        t += time_between_goals\n",
    "        if t > 1:\n",
    "            break\n",
    "        goals += 1\n",
    "    L = goals\n",
    "    return L"
   ]
  },
  {
   "cell_type": "code",
   "execution_count": 25,
   "id": "645285a7",
   "metadata": {},
   "outputs": [
    {
     "name": "stdout",
     "output_type": "stream",
     "text": [
      "Experiment 4\n",
      "rmse L 1.453233674220396\n",
      "mean error L 0.015984015984015984\n"
     ]
    },
    {
     "data": {
      "application/javascript": [
       "\n",
       "        setTimeout(function() {\n",
       "            var nbb_cell_id = 25;\n",
       "            var nbb_formatted_code = \"# Solution\\n\\nlam = 2\\n\\nestimates = []\\nfor i in range(iters):\\n    L = simulate_game(lam)\\n    estimates.append(L)\\nprint(\\\"Experiment 4\\\")\\nprint(\\\"rmse L\\\", rmse(estimates, lam))\\nprint(\\\"mean error L\\\", mean_error(estimates, lam))\";\n",
       "            var nbb_cells = Jupyter.notebook.get_cells();\n",
       "            for (var i = 0; i < nbb_cells.length; ++i) {\n",
       "                if (nbb_cells[i].input_prompt_number == nbb_cell_id) {\n",
       "                    nbb_cells[i].set_text(nbb_formatted_code);\n",
       "                    break;\n",
       "                }\n",
       "            }\n",
       "        }, 500);\n",
       "        "
      ],
      "text/plain": [
       "<IPython.core.display.Javascript object>"
      ]
     },
     "metadata": {},
     "output_type": "display_data"
    }
   ],
   "source": [
    "# Solution\n",
    "\n",
    "lam = 2\n",
    "\n",
    "estimates = []\n",
    "for i in range(iters):\n",
    "    L = simulate_game(lam)\n",
    "    estimates.append(L)\n",
    "print(\"Experiment 4\")\n",
    "print(\"rmse L\", rmse(estimates, lam))\n",
    "print(\"mean error L\", mean_error(estimates, lam))"
   ]
  },
  {
   "cell_type": "code",
   "execution_count": 26,
   "id": "2a7a3a99",
   "metadata": {},
   "outputs": [
    {
     "data": {
      "image/png": "[encoded data removed]",
      "text/plain": [
       "<Figure size 450x262.5 with 1 Axes>"
      ]
     },
     "metadata": {},
     "output_type": "display_data"
    },
    {
     "data": {
      "application/javascript": [
       "\n",
       "        setTimeout(function() {\n",
       "            var nbb_cell_id = 26;\n",
       "            var nbb_formatted_code = \"# Solution\\n\\nfrom empiricaldist import Pmf\\n\\npmf = Pmf.from_seq(estimates)\\npmf.bar()\\ndecorate(xlabel=\\\"Goals scored\\\", ylabel=\\\"PMF\\\")\";\n",
       "            var nbb_cells = Jupyter.notebook.get_cells();\n",
       "            for (var i = 0; i < nbb_cells.length; ++i) {\n",
       "                if (nbb_cells[i].input_prompt_number == nbb_cell_id) {\n",
       "                    nbb_cells[i].set_text(nbb_formatted_code);\n",
       "                    break;\n",
       "                }\n",
       "            }\n",
       "        }, 500);\n",
       "        "
      ],
      "text/plain": [
       "<IPython.core.display.Javascript object>"
      ]
     },
     "metadata": {},
     "output_type": "display_data"
    }
   ],
   "source": [
    "# Solution\n",
    "\n",
    "from empiricaldist import Pmf\n",
    "\n",
    "pmf = Pmf.from_seq(estimates)\n",
    "pmf.bar()\n",
    "decorate(xlabel=\"Goals scored\", ylabel=\"PMF\")"
   ]
  },
  {
   "cell_type": "markdown",
   "id": "7bdfad9f",
   "metadata": {},
   "source": [
    "### Exercise\n",
    "\n",
    "Check whether $S_n$ or $S_{n-1}$ is an unbiased estimate of the population standard deviation, $\\sigma$."
   ]
  },
  {
   "cell_type": "markdown",
   "id": "3f4fbe65",
   "metadata": {},
   "source": [
    "**Exercise:**  In this chapter we used $\\bar{x}$ and median to estimate µ, and found that $\\bar{x}$ yields lower MSE.\n",
    "Also, we used $S^2$ and $S_{n-1}^2$ to estimate σ, and found that $S^2$ is biased and $S_{n-1}^2$ unbiased.\n",
    "Run similar experiments to see if $\\bar{x}$ and median are biased estimates of µ. Also check whether $S^2$ or $S_{n-1}^2$ yields a lower MSE."
   ]
  },
  {
   "cell_type": "code",
   "execution_count": 27,
   "id": "52ac2dbc",
   "metadata": {},
   "outputs": [
    {
     "name": "stdout",
     "output_type": "stream",
     "text": [
      "mean error xbar 0.018458590041731\n",
      "mean error median 0.019914102450594582\n"
     ]
    },
    {
     "data": {
      "application/javascript": [
       "\n",
       "        setTimeout(function() {\n",
       "            var nbb_cell_id = 27;\n",
       "            var nbb_formatted_code = \"n = 7\\niters = 1001\\n\\nmu = 0\\nsigma = 1\\nmeans = []\\nmedians = []\\nfor _ in range(iters):\\n    xs = [random.gauss(mu, sigma) for i in range(n)]\\n    xbar = np.mean(xs)\\n    median = np.median(xs)\\n    means.append(xbar)\\n    medians.append(median)\\n\\nprint(\\\"mean error xbar\\\", mean_error(means, mu))\\nprint(\\\"mean error median\\\", mean_error(medians, mu))\";\n",
       "            var nbb_cells = Jupyter.notebook.get_cells();\n",
       "            for (var i = 0; i < nbb_cells.length; ++i) {\n",
       "                if (nbb_cells[i].input_prompt_number == nbb_cell_id) {\n",
       "                    nbb_cells[i].set_text(nbb_formatted_code);\n",
       "                    break;\n",
       "                }\n",
       "            }\n",
       "        }, 500);\n",
       "        "
      ],
      "text/plain": [
       "<IPython.core.display.Javascript object>"
      ]
     },
     "metadata": {},
     "output_type": "display_data"
    }
   ],
   "source": [
    "n = 7\n",
    "iters = 1001\n",
    "\n",
    "mu = 0\n",
    "sigma = 1\n",
    "means = []\n",
    "medians = []\n",
    "for _ in range(iters):\n",
    "    xs = [random.gauss(mu, sigma) for i in range(n)]\n",
    "    xbar = np.mean(xs)\n",
    "    median = np.median(xs)\n",
    "    means.append(xbar)\n",
    "    medians.append(median)\n",
    "\n",
    "print(\"mean error xbar\", mean_error(means, mu))\n",
    "print(\"mean error median\", mean_error(medians, mu))"
   ]
  },
  {
   "cell_type": "code",
   "execution_count": 28,
   "id": "bbffceac",
   "metadata": {},
   "outputs": [
    {
     "name": "stdout",
     "output_type": "stream",
     "text": [
      "RMSE biased 0.5286359123121629\n",
      "RMSE unbiased 0.5994651143057945\n"
     ]
    },
    {
     "data": {
      "application/javascript": [
       "\n",
       "        setTimeout(function() {\n",
       "            var nbb_cell_id = 28;\n",
       "            var nbb_formatted_code = \"n = 7\\niters = 1001\\n\\nmu = 0\\nsigma = 1\\nestimates1 = []\\nestimates2 = []\\nfor _ in range(iters):\\n    xs = [random.gauss(mu, sigma) for i in range(n)]\\n    biased = np.var(xs)\\n    unbiased = np.var(xs, ddof=1)\\n    estimates1.append(biased)\\n    estimates2.append(unbiased)\\nprint(\\\"RMSE biased\\\", rmse(estimates1, sigma**2))\\nprint(\\\"RMSE unbiased\\\", rmse(estimates2, sigma**2))\";\n",
       "            var nbb_cells = Jupyter.notebook.get_cells();\n",
       "            for (var i = 0; i < nbb_cells.length; ++i) {\n",
       "                if (nbb_cells[i].input_prompt_number == nbb_cell_id) {\n",
       "                    nbb_cells[i].set_text(nbb_formatted_code);\n",
       "                    break;\n",
       "                }\n",
       "            }\n",
       "        }, 500);\n",
       "        "
      ],
      "text/plain": [
       "<IPython.core.display.Javascript object>"
      ]
     },
     "metadata": {},
     "output_type": "display_data"
    }
   ],
   "source": [
    "n = 7\n",
    "iters = 1001\n",
    "\n",
    "mu = 0\n",
    "sigma = 1\n",
    "estimates1 = []\n",
    "estimates2 = []\n",
    "for _ in range(iters):\n",
    "    xs = [random.gauss(mu, sigma) for i in range(n)]\n",
    "    biased = np.var(xs)\n",
    "    unbiased = np.var(xs, ddof=1)\n",
    "    estimates1.append(biased)\n",
    "    estimates2.append(unbiased)\n",
    "print(\"RMSE biased\", rmse(estimates1, sigma**2))\n",
    "print(\"RMSE unbiased\", rmse(estimates2, sigma**2))"
   ]
  },
  {
   "cell_type": "markdown",
   "id": "d6a88e85",
   "metadata": {},
   "source": [
    "### Exercise (or maybe example)\n",
    "\n",
    "Hot hand experiment"
   ]
  },
  {
   "cell_type": "code",
   "execution_count": null,
   "id": "01f60a68",
   "metadata": {},
   "outputs": [],
   "source": []
  }
 ],
 "metadata": {
  "kernelspec": {
   "display_name": "Python 3 (ipykernel)",
   "language": "python",
   "name": "python3"
  },
  "language_info": {
   "codemirror_mode": {
    "name": "ipython",
    "version": 3
   },
   "file_extension": ".py",
   "mimetype": "text/x-python",
   "name": "python",
   "nbconvert_exporter": "python",
   "pygments_lexer": "ipython3",
   "version": "3.10.14"
  }
 },
 "nbformat": 4,
 "nbformat_minor": 5
}
