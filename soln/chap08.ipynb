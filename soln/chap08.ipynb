{
 "cells": [
  {
   "cell_type": "markdown",
   "id": "b8bba8eb",
   "metadata": {},
   "source": [
    "# Estimation"
   ]
  },
  {
   "cell_type": "code",
   "execution_count": 1,
   "id": "5a815d57",
   "metadata": {},
   "outputs": [
    {
     "data": {
      "application/javascript": [
       "\n",
       "            setTimeout(function() {\n",
       "                var nbb_cell_id = 1;\n",
       "                var nbb_unformatted_code = \"%load_ext nb_black\\n%load_ext autoreload\\n%autoreload 2\";\n",
       "                var nbb_formatted_code = \"%load_ext nb_black\\n%load_ext autoreload\\n%autoreload 2\";\n",
       "                var nbb_cells = Jupyter.notebook.get_cells();\n",
       "                for (var i = 0; i < nbb_cells.length; ++i) {\n",
       "                    if (nbb_cells[i].input_prompt_number == nbb_cell_id) {\n",
       "                        if (nbb_cells[i].get_text() == nbb_unformatted_code) {\n",
       "                             nbb_cells[i].set_text(nbb_formatted_code);\n",
       "                        }\n",
       "                        break;\n",
       "                    }\n",
       "                }\n",
       "            }, 500);\n",
       "            "
      ],
      "text/plain": [
       "<IPython.core.display.Javascript object>"
      ]
     },
     "metadata": {},
     "output_type": "display_data"
    }
   ],
   "source": [
    "%load_ext nb_black\n",
    "%load_ext autoreload\n",
    "%autoreload 2\n"
   ]
  },
  {
   "cell_type": "code",
   "execution_count": 2,
   "id": "cddf1967",
   "metadata": {},
   "outputs": [
    {
     "data": {
      "application/javascript": [
       "\n",
       "            setTimeout(function() {\n",
       "                var nbb_cell_id = 2;\n",
       "                var nbb_unformatted_code = \"from os.path import basename, exists\\n\\n\\ndef download(url):\\n    filename = basename(url)\\n    if not exists(filename):\\n        from urllib.request import urlretrieve\\n\\n        local, _ = urlretrieve(url, filename)\\n        print(\\\"Downloaded \\\" + local)\\n\\n\\ndownload(\\\"https://github.com/AllenDowney/ThinkStats/raw/v3/nb/thinkstats.py\\\")\";\n",
       "                var nbb_formatted_code = \"from os.path import basename, exists\\n\\n\\ndef download(url):\\n    filename = basename(url)\\n    if not exists(filename):\\n        from urllib.request import urlretrieve\\n\\n        local, _ = urlretrieve(url, filename)\\n        print(\\\"Downloaded \\\" + local)\\n\\n\\ndownload(\\\"https://github.com/AllenDowney/ThinkStats/raw/v3/nb/thinkstats.py\\\")\";\n",
       "                var nbb_cells = Jupyter.notebook.get_cells();\n",
       "                for (var i = 0; i < nbb_cells.length; ++i) {\n",
       "                    if (nbb_cells[i].input_prompt_number == nbb_cell_id) {\n",
       "                        if (nbb_cells[i].get_text() == nbb_unformatted_code) {\n",
       "                             nbb_cells[i].set_text(nbb_formatted_code);\n",
       "                        }\n",
       "                        break;\n",
       "                    }\n",
       "                }\n",
       "            }, 500);\n",
       "            "
      ],
      "text/plain": [
       "<IPython.core.display.Javascript object>"
      ]
     },
     "metadata": {},
     "output_type": "display_data"
    }
   ],
   "source": [
    "from os.path import basename, exists\n",
    "\n",
    "\n",
    "def download(url):\n",
    "    filename = basename(url)\n",
    "    if not exists(filename):\n",
    "        from urllib.request import urlretrieve\n",
    "\n",
    "        local, _ = urlretrieve(url, filename)\n",
    "        print(\"Downloaded \" + local)\n",
    "\n",
    "\n",
    "download(\"https://github.com/AllenDowney/ThinkStats/raw/v3/nb/thinkstats.py\")"
   ]
  },
  {
   "cell_type": "code",
   "execution_count": 3,
   "id": "bb3a6450",
   "metadata": {},
   "outputs": [
    {
     "data": {
      "application/javascript": [
       "\n",
       "            setTimeout(function() {\n",
       "                var nbb_cell_id = 3;\n",
       "                var nbb_unformatted_code = \"import numpy as np\\nfrom thinkstats import decorate\";\n",
       "                var nbb_formatted_code = \"import numpy as np\\nfrom thinkstats import decorate\";\n",
       "                var nbb_cells = Jupyter.notebook.get_cells();\n",
       "                for (var i = 0; i < nbb_cells.length; ++i) {\n",
       "                    if (nbb_cells[i].input_prompt_number == nbb_cell_id) {\n",
       "                        if (nbb_cells[i].get_text() == nbb_unformatted_code) {\n",
       "                             nbb_cells[i].set_text(nbb_formatted_code);\n",
       "                        }\n",
       "                        break;\n",
       "                    }\n",
       "                }\n",
       "            }, 500);\n",
       "            "
      ],
      "text/plain": [
       "<IPython.core.display.Javascript object>"
      ]
     },
     "metadata": {},
     "output_type": "display_data"
    }
   ],
   "source": [
    "import numpy as np\n",
    "import pandas as pd\n",
    "import matplotlib.pyplot as plt\n",
    "\n",
    "from thinkstats import decorate"
   ]
  },
  {
   "cell_type": "markdown",
   "id": "7dacf078",
   "metadata": {},
   "source": [
    "## The estimation game\n",
    "\n",
    "Let's play a game. I think of a distribution, and you have to guess what\n",
    "it is. I'll give you two hints: it's a normal distribution, and here's a\n",
    "random sample drawn from it:\n",
    "\n",
    "`[-0.441, 1.774, -0.101, -1.138, 2.975, -2.138]`\n",
    "\n",
    "What do you think is the mean parameter, $\\mu$, of this distribution?\n",
    "\n",
    "One choice is to use the sample mean, $\\bar{x}$, as an estimate of $\\mu$.\n",
    "In this example, $\\bar{x}$ is 0.155, so it would be reasonable to guess\n",
    "$\\mu$ = 0.155. This process is called **estimation**, and the statistic\n",
    "we used (the sample mean) is called an **estimator**.\n",
    "\n",
    "Using the sample mean to estimate $\\mu$ is so obvious that it is hard to\n",
    "imagine a reasonable alternative. But suppose we change the game by\n",
    "introducing outliers."
   ]
  },
  {
   "cell_type": "markdown",
   "id": "5f2a7144",
   "metadata": {},
   "source": [
    "*I'm thinking of a distribution.* It's a normal distribution, and here's\n",
    "a sample that was collected by an unreliable surveyor who occasionally\n",
    "puts the decimal point in the wrong place.\n",
    "\n",
    "`[-0.441, 1.774, -0.101, -1.138, 2.975, -213.8]`\n",
    "\n",
    "Now what's your estimate of $\\mu$? If you use the sample mean, your\n",
    "guess is -35.12. Is that the best choice? What are the alternatives?\n",
    "\n",
    "One option is to identify and discard outliers, then compute the sample\n",
    "mean of the rest. Another option is to use the median as an estimator.\n",
    "\n",
    "Which estimator is best depends on the circumstances (for example,\n",
    "whether there are outliers) and on what the goal is. Are you trying to\n",
    "minimize errors, or maximize your chance of getting the right answer?"
   ]
  },
  {
   "cell_type": "markdown",
   "id": "44e3ceca",
   "metadata": {},
   "source": [
    "If there are no outliers, the sample mean minimizes the **mean squared\n",
    "error** (MSE). That is, if we play the game many times, and each time\n",
    "compute the error $\\bar{x} - \\mu$, the sample mean minimizes\n",
    "\n",
    "$$MSE = \\frac{1}{m} \\sum (\\bar{x} - \\mu)^2$$\n",
    "\n",
    "Where $m$ is the number of\n",
    "times you play the estimation game, not to be confused with $n$, which\n",
    "is the size of the sample used to compute $\\bar{x}$."
   ]
  },
  {
   "cell_type": "markdown",
   "id": "ae7fa33d",
   "metadata": {},
   "source": [
    "The following function takes a sequence of estimates and the actual value, and returns the square root of the mean squared error (RMSE)."
   ]
  },
  {
   "cell_type": "code",
   "execution_count": 4,
   "id": "c6ae3ee6",
   "metadata": {},
   "outputs": [
    {
     "data": {
      "application/javascript": [
       "\n",
       "            setTimeout(function() {\n",
       "                var nbb_cell_id = 4;\n",
       "                var nbb_unformatted_code = \"def rmse(estimates, actual):\\n    \\\"\\\"\\\"Computes the root mean squared error of a sequence of estimates.\\n\\n    estimate: sequence of numbers\\n    actual: actual value\\n\\n    returns: float RMSE\\n    \\\"\\\"\\\"\\n    e2 = [((estimate - actual) ** 2) for estimate in estimates]\\n    mse = np.mean(e2)\\n    return np.sqrt(mse)\";\n",
       "                var nbb_formatted_code = \"def rmse(estimates, actual):\\n    \\\"\\\"\\\"Computes the root mean squared error of a sequence of estimates.\\n\\n    estimate: sequence of numbers\\n    actual: actual value\\n\\n    returns: float RMSE\\n    \\\"\\\"\\\"\\n    e2 = [((estimate - actual) ** 2) for estimate in estimates]\\n    mse = np.mean(e2)\\n    return np.sqrt(mse)\";\n",
       "                var nbb_cells = Jupyter.notebook.get_cells();\n",
       "                for (var i = 0; i < nbb_cells.length; ++i) {\n",
       "                    if (nbb_cells[i].input_prompt_number == nbb_cell_id) {\n",
       "                        if (nbb_cells[i].get_text() == nbb_unformatted_code) {\n",
       "                             nbb_cells[i].set_text(nbb_formatted_code);\n",
       "                        }\n",
       "                        break;\n",
       "                    }\n",
       "                }\n",
       "            }, 500);\n",
       "            "
      ],
      "text/plain": [
       "<IPython.core.display.Javascript object>"
      ]
     },
     "metadata": {},
     "output_type": "display_data"
    }
   ],
   "source": [
    "def rmse(estimates, actual):\n",
    "    \"\"\"Computes the root mean squared error of a sequence of estimates.\n",
    "\n",
    "    estimate: sequence of numbers\n",
    "    actual: actual value\n",
    "\n",
    "    returns: float RMSE\n",
    "    \"\"\"\n",
    "    e2 = [((estimate - actual) ** 2) for estimate in estimates]\n",
    "    mse = np.mean(e2)\n",
    "    return np.sqrt(mse)"
   ]
  },
  {
   "cell_type": "markdown",
   "id": "5f619e94",
   "metadata": {},
   "source": [
    "Now here is a function that simulates the estimation game. Each time through the loop, it generates a random sample, computes the sample mean and median, and collects them in lists.\n",
    "The it computes the RMSE of the estimates.\n",
    "\n",
    "In practice, of course, we don't know `actual`.\n",
    "If we did, we wouldn't have to estimate it.\n",
    "The purpose of this experiment is to\n",
    "compare the performance of the two estimators."
   ]
  },
  {
   "cell_type": "code",
   "execution_count": 5,
   "id": "feebf620",
   "metadata": {},
   "outputs": [
    {
     "data": {
      "application/javascript": [
       "\n",
       "            setTimeout(function() {\n",
       "                var nbb_cell_id = 5;\n",
       "                var nbb_unformatted_code = \"np.random.seed(17)\";\n",
       "                var nbb_formatted_code = \"np.random.seed(17)\";\n",
       "                var nbb_cells = Jupyter.notebook.get_cells();\n",
       "                for (var i = 0; i < nbb_cells.length; ++i) {\n",
       "                    if (nbb_cells[i].input_prompt_number == nbb_cell_id) {\n",
       "                        if (nbb_cells[i].get_text() == nbb_unformatted_code) {\n",
       "                             nbb_cells[i].set_text(nbb_formatted_code);\n",
       "                        }\n",
       "                        break;\n",
       "                    }\n",
       "                }\n",
       "            }, 500);\n",
       "            "
      ],
      "text/plain": [
       "<IPython.core.display.Javascript object>"
      ]
     },
     "metadata": {},
     "output_type": "display_data"
    }
   ],
   "source": [
    "np.random.seed(17)"
   ]
  },
  {
   "cell_type": "code",
   "execution_count": 6,
   "id": "7c03dd73",
   "metadata": {},
   "outputs": [
    {
     "name": "stdout",
     "output_type": "stream",
     "text": [
      "rmse xbar 0.32150024725221277\n",
      "rmse m 0.37546219649035123\n"
     ]
    },
    {
     "data": {
      "application/javascript": [
       "\n",
       "            setTimeout(function() {\n",
       "                var nbb_cell_id = 6;\n",
       "                var nbb_unformatted_code = \"import random\\n\\nn = 10\\niters = 1001\\n\\nmu = 0\\nsigma = 1\\nmeans = []\\nmedians = []\\nfor _ in range(iters):\\n    xs = [random.gauss(mu, sigma) for i in range(n)]\\n    xbar = np.mean(xs)\\n    m = np.median(xs)\\n    means.append(xbar)\\n    medians.append(m)\\n\\nprint(\\\"rmse xbar\\\", rmse(means, mu))\\nprint(\\\"rmse m\\\", rmse(medians, mu))\";\n",
       "                var nbb_formatted_code = \"import random\\n\\nn = 10\\niters = 1001\\n\\nmu = 0\\nsigma = 1\\nmeans = []\\nmedians = []\\nfor _ in range(iters):\\n    xs = [random.gauss(mu, sigma) for i in range(n)]\\n    xbar = np.mean(xs)\\n    m = np.median(xs)\\n    means.append(xbar)\\n    medians.append(m)\\n\\nprint(\\\"rmse xbar\\\", rmse(means, mu))\\nprint(\\\"rmse m\\\", rmse(medians, mu))\";\n",
       "                var nbb_cells = Jupyter.notebook.get_cells();\n",
       "                for (var i = 0; i < nbb_cells.length; ++i) {\n",
       "                    if (nbb_cells[i].input_prompt_number == nbb_cell_id) {\n",
       "                        if (nbb_cells[i].get_text() == nbb_unformatted_code) {\n",
       "                             nbb_cells[i].set_text(nbb_formatted_code);\n",
       "                        }\n",
       "                        break;\n",
       "                    }\n",
       "                }\n",
       "            }, 500);\n",
       "            "
      ],
      "text/plain": [
       "<IPython.core.display.Javascript object>"
      ]
     },
     "metadata": {},
     "output_type": "display_data"
    }
   ],
   "source": [
    "import random\n",
    "\n",
    "n = 10\n",
    "iters = 1001\n",
    "\n",
    "mu = 0\n",
    "sigma = 1\n",
    "means = []\n",
    "medians = []\n",
    "for _ in range(iters):\n",
    "    xs = [random.gauss(mu, sigma) for i in range(n)]\n",
    "    xbar = np.mean(xs)\n",
    "    m = np.median(xs)\n",
    "    means.append(xbar)\n",
    "    medians.append(m)\n",
    "\n",
    "print(\"rmse xbar\", rmse(means, mu))\n",
    "print(\"rmse m\", rmse(medians, mu))"
   ]
  },
  {
   "cell_type": "markdown",
   "id": "9700bb61",
   "metadata": {},
   "source": [
    "Again, `n` is the size of the sample, and `m` is the number of times we\n",
    "play the game."
   ]
  },
  {
   "cell_type": "markdown",
   "id": "cf65739b",
   "metadata": {},
   "source": [
    "The results depend on random numbers, so they vary from one run to the next.\n",
    "But most often we expect the sample mean to yield a lower RMSE than the sample median.\n",
    "\n",
    "Minimizing MSE is a nice property, but it's not always the best\n",
    "strategy. For example, suppose we are estimating the distribution of\n",
    "wind speeds at a building site. If the estimate is too high, we might\n",
    "overbuild the structure, increasing its cost. But if it's too low, the\n",
    "building might collapse. Because cost as a function of error is not\n",
    "symmetric, minimizing MSE is not the best strategy."
   ]
  },
  {
   "cell_type": "markdown",
   "id": "3d994ac2",
   "metadata": {},
   "source": [
    "As another example, suppose I roll three six-sided dice and ask you to\n",
    "predict the total. If you get it exactly right, you get a prize;\n",
    "otherwise you get nothing. In this case the value that minimizes MSE is\n",
    "10.5, but that would be a bad guess, because the total of three dice is\n",
    "never 10.5. For this game, you want an estimator that has the highest\n",
    "chance of being right, which is a **maximum likelihood estimator**\n",
    "(MLE). If you pick 10 or 11, your chance of winning is 1 in 8, and\n",
    "that's the best you can do."
   ]
  },
  {
   "cell_type": "markdown",
   "id": "981535aa",
   "metadata": {},
   "source": [
    "## Guess the variance\n",
    "\n",
    "*I'm thinking of a distribution.* It's a normal distribution, and here's\n",
    "a (familiar) sample:\n",
    "\n",
    "`[-0.441, 1.774, -0.101, -1.138, 2.975, -2.138]`\n",
    "\n",
    "What do you think is the variance, $\\sigma^2$, of my distribution?\n",
    "Again, the obvious choice is to use the sample variance, $S^2$, as an\n",
    "estimator. \n",
    "\n",
    "$$S^2 = \\frac{1}{n} \\sum (x_i - \\bar{x})^2$$ \n",
    "\n",
    "For large samples,\n",
    "$S^2$ is an adequate estimator, but for small samples it tends to be too\n",
    "low. Because of this unfortunate property, it is called a **biased**\n",
    "estimator. An estimator is **unbiased** if the expected total (or mean)\n",
    "error, after many iterations of the estimation game, is 0.\n",
    "\n",
    "Fortunately, there is another simple statistic that is an unbiased\n",
    "estimator of $\\sigma^2$:\n",
    "\n",
    "$$S_{n-1}^2 = \\frac{1}{n-1} \\sum (x_i - \\bar{x})^2$$\n",
    "\n",
    "For an explanation of why $S^2$ is biased, and a proof that $S_{n-1}^2$ is unbiased, see\n",
    "<http://wikipedia.org/wiki/Bias_of_an_estimator>."
   ]
  },
  {
   "cell_type": "code",
   "execution_count": 7,
   "id": "1323320b",
   "metadata": {},
   "outputs": [
    {
     "data": {
      "application/javascript": [
       "\n",
       "            setTimeout(function() {\n",
       "                var nbb_cell_id = 7;\n",
       "                var nbb_unformatted_code = \"def var(xs, correction=0):\\n    \\\"\\\"\\\"Computes variance.\\n\\n    xs: sequence of values\\n    ddof: delta degrees of freedom\\n\\n    returns: float\\n    \\\"\\\"\\\"\\n    xs = np.asarray(xs)\\n    mu = xs.mean()\\n    ds = xs - mu\\n    n = len(xs)\\n    return np.sum(ds**2) / (n - correction)\";\n",
       "                var nbb_formatted_code = \"def var(xs, correction=0):\\n    \\\"\\\"\\\"Computes variance.\\n\\n    xs: sequence of values\\n    ddof: delta degrees of freedom\\n\\n    returns: float\\n    \\\"\\\"\\\"\\n    xs = np.asarray(xs)\\n    mu = xs.mean()\\n    ds = xs - mu\\n    n = len(xs)\\n    return np.sum(ds**2) / (n - correction)\";\n",
       "                var nbb_cells = Jupyter.notebook.get_cells();\n",
       "                for (var i = 0; i < nbb_cells.length; ++i) {\n",
       "                    if (nbb_cells[i].input_prompt_number == nbb_cell_id) {\n",
       "                        if (nbb_cells[i].get_text() == nbb_unformatted_code) {\n",
       "                             nbb_cells[i].set_text(nbb_formatted_code);\n",
       "                        }\n",
       "                        break;\n",
       "                    }\n",
       "                }\n",
       "            }, 500);\n",
       "            "
      ],
      "text/plain": [
       "<IPython.core.display.Javascript object>"
      ]
     },
     "metadata": {},
     "output_type": "display_data"
    }
   ],
   "source": [
    "def var(xs, correction=0):\n",
    "    \"\"\"Computes variance.\n",
    "\n",
    "    xs: sequence of values\n",
    "    ddof: delta degrees of freedom\n",
    "\n",
    "    returns: float\n",
    "    \"\"\"\n",
    "    xs = np.asarray(xs)\n",
    "    mu = xs.mean()\n",
    "    ds = xs - mu\n",
    "    n = len(xs)\n",
    "    return np.sum(ds**2) / (n - correction)"
   ]
  },
  {
   "cell_type": "code",
   "execution_count": 8,
   "id": "52e55f32",
   "metadata": {},
   "outputs": [
    {
     "data": {
      "application/javascript": [
       "\n",
       "            setTimeout(function() {\n",
       "                var nbb_cell_id = 8;\n",
       "                var nbb_unformatted_code = \"# TODO: Test RMSE and then check for bias\";\n",
       "                var nbb_formatted_code = \"# TODO: Test RMSE and then check for bias\";\n",
       "                var nbb_cells = Jupyter.notebook.get_cells();\n",
       "                for (var i = 0; i < nbb_cells.length; ++i) {\n",
       "                    if (nbb_cells[i].input_prompt_number == nbb_cell_id) {\n",
       "                        if (nbb_cells[i].get_text() == nbb_unformatted_code) {\n",
       "                             nbb_cells[i].set_text(nbb_formatted_code);\n",
       "                        }\n",
       "                        break;\n",
       "                    }\n",
       "                }\n",
       "            }, 500);\n",
       "            "
      ],
      "text/plain": [
       "<IPython.core.display.Javascript object>"
      ]
     },
     "metadata": {},
     "output_type": "display_data"
    }
   ],
   "source": [
    "# TODO: Test RMSE and then check for bias"
   ]
  },
  {
   "cell_type": "markdown",
   "id": "27caa4cd",
   "metadata": {},
   "source": [
    "`mean_error` computes the mean difference between the estimates and the\n",
    "actual value:"
   ]
  },
  {
   "cell_type": "code",
   "execution_count": 9,
   "id": "48642d63",
   "metadata": {},
   "outputs": [
    {
     "data": {
      "application/javascript": [
       "\n",
       "            setTimeout(function() {\n",
       "                var nbb_cell_id = 9;\n",
       "                var nbb_unformatted_code = \"def mean_error(estimates, actual):\\n    \\\"\\\"\\\"Computes the mean error of a sequence of estimates.\\n\\n    estimate: sequence of numbers\\n    actual: actual value\\n\\n    returns: float mean error\\n    \\\"\\\"\\\"\\n    errors = [(estimate - actual) for estimate in estimates]\\n    return np.mean(errors)\";\n",
       "                var nbb_formatted_code = \"def mean_error(estimates, actual):\\n    \\\"\\\"\\\"Computes the mean error of a sequence of estimates.\\n\\n    estimate: sequence of numbers\\n    actual: actual value\\n\\n    returns: float mean error\\n    \\\"\\\"\\\"\\n    errors = [(estimate - actual) for estimate in estimates]\\n    return np.mean(errors)\";\n",
       "                var nbb_cells = Jupyter.notebook.get_cells();\n",
       "                for (var i = 0; i < nbb_cells.length; ++i) {\n",
       "                    if (nbb_cells[i].input_prompt_number == nbb_cell_id) {\n",
       "                        if (nbb_cells[i].get_text() == nbb_unformatted_code) {\n",
       "                             nbb_cells[i].set_text(nbb_formatted_code);\n",
       "                        }\n",
       "                        break;\n",
       "                    }\n",
       "                }\n",
       "            }, 500);\n",
       "            "
      ],
      "text/plain": [
       "<IPython.core.display.Javascript object>"
      ]
     },
     "metadata": {},
     "output_type": "display_data"
    }
   ],
   "source": [
    "def mean_error(estimates, actual):\n",
    "    \"\"\"Computes the mean error of a sequence of estimates.\n",
    "\n",
    "    estimate: sequence of numbers\n",
    "    actual: actual value\n",
    "\n",
    "    returns: float mean error\n",
    "    \"\"\"\n",
    "    errors = [(estimate - actual) for estimate in estimates]\n",
    "    return np.mean(errors)"
   ]
  },
  {
   "cell_type": "markdown",
   "id": "17f227d8",
   "metadata": {},
   "source": [
    "Here is a function that simulates the estimation game and tests the\n",
    "performance of $S^2$ and $S_{n-1}^2$:"
   ]
  },
  {
   "cell_type": "code",
   "execution_count": 10,
   "id": "09615c49",
   "metadata": {},
   "outputs": [
    {
     "name": "stdout",
     "output_type": "stream",
     "text": [
      "mean error biased -0.10785005847344203\n",
      "mean error unbiased -0.008722287192713373\n"
     ]
    },
    {
     "data": {
      "application/javascript": [
       "\n",
       "            setTimeout(function() {\n",
       "                var nbb_cell_id = 10;\n",
       "                var nbb_unformatted_code = \"mu = 0\\nsigma = 1\\nestimates1 = []\\nestimates2 = []\\nfor _ in range(iters):\\n    xs = [random.gauss(mu, sigma) for i in range(n)]\\n    biased = var(xs)\\n    unbiased = var(xs, correction=1)\\n    estimates1.append(biased)\\n    estimates2.append(unbiased)\\n\\nprint(\\\"mean error biased\\\", mean_error(estimates1, sigma**2))\\nprint(\\\"mean error unbiased\\\", mean_error(estimates2, sigma**2))\";\n",
       "                var nbb_formatted_code = \"mu = 0\\nsigma = 1\\nestimates1 = []\\nestimates2 = []\\nfor _ in range(iters):\\n    xs = [random.gauss(mu, sigma) for i in range(n)]\\n    biased = var(xs)\\n    unbiased = var(xs, correction=1)\\n    estimates1.append(biased)\\n    estimates2.append(unbiased)\\n\\nprint(\\\"mean error biased\\\", mean_error(estimates1, sigma**2))\\nprint(\\\"mean error unbiased\\\", mean_error(estimates2, sigma**2))\";\n",
       "                var nbb_cells = Jupyter.notebook.get_cells();\n",
       "                for (var i = 0; i < nbb_cells.length; ++i) {\n",
       "                    if (nbb_cells[i].input_prompt_number == nbb_cell_id) {\n",
       "                        if (nbb_cells[i].get_text() == nbb_unformatted_code) {\n",
       "                             nbb_cells[i].set_text(nbb_formatted_code);\n",
       "                        }\n",
       "                        break;\n",
       "                    }\n",
       "                }\n",
       "            }, 500);\n",
       "            "
      ],
      "text/plain": [
       "<IPython.core.display.Javascript object>"
      ]
     },
     "metadata": {},
     "output_type": "display_data"
    }
   ],
   "source": [
    "mu = 0\n",
    "sigma = 1\n",
    "estimates1 = []\n",
    "estimates2 = []\n",
    "for _ in range(iters):\n",
    "    xs = [random.gauss(mu, sigma) for i in range(n)]\n",
    "    biased = var(xs)\n",
    "    unbiased = var(xs, correction=1)\n",
    "    estimates1.append(biased)\n",
    "    estimates2.append(unbiased)\n",
    "\n",
    "print(\"mean error biased\", mean_error(estimates1, sigma**2))\n",
    "print(\"mean error unbiased\", mean_error(estimates2, sigma**2))"
   ]
  },
  {
   "cell_type": "markdown",
   "id": "fa4fe027",
   "metadata": {},
   "source": [
    "Again, `n` is the sample size and `m` is the number of times we play the\n",
    "game. "
   ]
  },
  {
   "cell_type": "markdown",
   "id": "b56aab89",
   "metadata": {},
   "source": [
    "When I ran this code, the mean error for $S^2$ was -0.13. As expected,\n",
    "this biased estimator tends to be too low. For $S_{n-1}^2$, the mean\n",
    "error was 0.014, about 10 times smaller. As `m` increases, we expect the\n",
    "mean error for $S_{n-1}^2$ to approach 0.\n",
    "\n",
    "Properties like MSE and bias are long-term expectations based on many\n",
    "iterations of the estimation game. By running simulations like the ones\n",
    "in this chapter, we can compare estimators and check whether they have\n",
    "desired properties.\n",
    "\n",
    "But when you apply an estimator to real data, you just get one estimate.\n",
    "It would not be meaningful to say that the estimate is unbiased; being\n",
    "unbiased is a property of the estimator, not the estimate.\n",
    "\n",
    "After you choose an estimator with appropriate properties, and use it to\n",
    "generate an estimate, the next step is to characterize the uncertainty\n",
    "of the estimate, which is the topic of the next section."
   ]
  },
  {
   "cell_type": "markdown",
   "id": "8ae4b7f1",
   "metadata": {},
   "source": [
    "## Sampling distributions\n",
    "\n",
    "Suppose you are a scientist studying gorillas in a wildlife preserve.\n",
    "You want to know the average weight of the adult female gorillas in the\n",
    "preserve. To weigh them, you have to tranquilize them, which is\n",
    "dangerous, expensive, and possibly harmful to the gorillas. But if it is\n",
    "important to obtain this information, it might be acceptable to weigh a\n",
    "sample of 9 gorillas. Let's assume that the population of the preserve\n",
    "is well known, so we can choose a representative sample of adult\n",
    "females. We could use the sample mean, $\\bar{x}$, to estimate the unknown\n",
    "population mean, $\\mu$.\n",
    "\n",
    "Having weighed 9 female gorillas, you might find $\\bar{x}=90$ kg and\n",
    "sample standard deviation, $S=7.5$ kg. The sample mean is an unbiased\n",
    "estimator of $\\mu$, and in the long run it minimizes MSE. So if you\n",
    "report a single estimate that summarizes the results, you would report\n",
    "90 kg.\n",
    "\n",
    "But how confident should you be in this estimate? If you only weigh\n",
    "$n=9$ gorillas out of a much larger population, you might be unlucky and\n",
    "choose the 9 heaviest gorillas (or the 9 lightest ones) just by chance.\n",
    "Variation in the estimate caused by random selection is called\n",
    "**sampling error**."
   ]
  },
  {
   "cell_type": "markdown",
   "id": "24339e36",
   "metadata": {},
   "source": [
    "To quantify sampling error, we can simulate the sampling process with\n",
    "hypothetical values of $\\mu$ and $\\sigma$, and see how much $\\bar{x}$\n",
    "varies.\n",
    "\n",
    "Since we don't know the actual values of $\\mu$ and $\\sigma$ in the\n",
    "population, we'll use the estimates $\\bar{x}$ and $S$. So the question we\n",
    "answer is: \"If the actual values of $\\mu$ and $\\sigma$ were 90 kg and\n",
    "7.5 kg, and we ran the same experiment many times, how much would the\n",
    "estimated mean, $\\bar{x}$, vary?\"\n",
    "\n",
    "The following function answers that question:"
   ]
  },
  {
   "cell_type": "code",
   "execution_count": 11,
   "id": "8f35a3ec",
   "metadata": {},
   "outputs": [
    {
     "data": {
      "application/javascript": [
       "\n",
       "            setTimeout(function() {\n",
       "                var nbb_cell_id = 11;\n",
       "                var nbb_unformatted_code = \"def simulate_sample(mu=90, sigma=7.5, n=9, iters=1000):\\n    xbars = []\\n    for j in range(iters):\\n        xs = np.random.normal(mu, sigma, n)\\n        xbar = np.mean(xs)\\n        xbars.append(xbar)\\n    return xbars\";\n",
       "                var nbb_formatted_code = \"def simulate_sample(mu=90, sigma=7.5, n=9, iters=1000):\\n    xbars = []\\n    for j in range(iters):\\n        xs = np.random.normal(mu, sigma, n)\\n        xbar = np.mean(xs)\\n        xbars.append(xbar)\\n    return xbars\";\n",
       "                var nbb_cells = Jupyter.notebook.get_cells();\n",
       "                for (var i = 0; i < nbb_cells.length; ++i) {\n",
       "                    if (nbb_cells[i].input_prompt_number == nbb_cell_id) {\n",
       "                        if (nbb_cells[i].get_text() == nbb_unformatted_code) {\n",
       "                             nbb_cells[i].set_text(nbb_formatted_code);\n",
       "                        }\n",
       "                        break;\n",
       "                    }\n",
       "                }\n",
       "            }, 500);\n",
       "            "
      ],
      "text/plain": [
       "<IPython.core.display.Javascript object>"
      ]
     },
     "metadata": {},
     "output_type": "display_data"
    }
   ],
   "source": [
    "def simulate_sample(mu=90, sigma=7.5, n=9, iters=1000):\n",
    "    xbars = []\n",
    "    for j in range(iters):\n",
    "        xs = np.random.normal(mu, sigma, n)\n",
    "        xbar = np.mean(xs)\n",
    "        xbars.append(xbar)\n",
    "    return xbars"
   ]
  },
  {
   "cell_type": "markdown",
   "id": "c43ec017",
   "metadata": {},
   "source": [
    "`mu` and `sigma` are the *hypothetical* values of the parameters. `n` is\n",
    "the sample size, the number of gorillas we measured. `m` is the number\n",
    "of times we run the simulation."
   ]
  },
  {
   "cell_type": "code",
   "execution_count": 12,
   "id": "2a26d949",
   "metadata": {},
   "outputs": [
    {
     "data": {
      "image/png": "[encoded data removed]",
      "text/plain": [
       "<Figure size 640x480 with 1 Axes>"
      ]
     },
     "metadata": {},
     "output_type": "display_data"
    },
    {
     "data": {
      "application/javascript": [
       "\n",
       "            setTimeout(function() {\n",
       "                var nbb_cell_id = 12;\n",
       "                var nbb_unformatted_code = \"from empiricaldist import Cdf\\n\\nxbars = simulate_sample()\\ncdf = Cdf.from_seq(xbars)\\ncdf.plot()\\ndecorate(xlabel=\\\"Sample mean\\\", ylabel=\\\"CDF\\\")\";\n",
       "                var nbb_formatted_code = \"from empiricaldist import Cdf\\n\\nxbars = simulate_sample()\\ncdf = Cdf.from_seq(xbars)\\ncdf.plot()\\ndecorate(xlabel=\\\"Sample mean\\\", ylabel=\\\"CDF\\\")\";\n",
       "                var nbb_cells = Jupyter.notebook.get_cells();\n",
       "                for (var i = 0; i < nbb_cells.length; ++i) {\n",
       "                    if (nbb_cells[i].input_prompt_number == nbb_cell_id) {\n",
       "                        if (nbb_cells[i].get_text() == nbb_unformatted_code) {\n",
       "                             nbb_cells[i].set_text(nbb_formatted_code);\n",
       "                        }\n",
       "                        break;\n",
       "                    }\n",
       "                }\n",
       "            }, 500);\n",
       "            "
      ],
      "text/plain": [
       "<IPython.core.display.Javascript object>"
      ]
     },
     "metadata": {},
     "output_type": "display_data"
    }
   ],
   "source": [
    "from empiricaldist import Cdf\n",
    "\n",
    "xbars = simulate_sample()\n",
    "cdf = Cdf.from_seq(xbars)\n",
    "cdf.plot()\n",
    "decorate(xlabel=\"Sample mean\", ylabel=\"CDF\")"
   ]
  },
  {
   "cell_type": "markdown",
   "id": "0d0a0dc3",
   "metadata": {},
   "source": [
    "In each iteration, we choose `n` values from a normal distribution with\n",
    "the given parameters, and compute the sample mean, `xbar`. We run 1000\n",
    "simulations and then compute the distribution, `cdf`, of the estimates.\n",
    "The result is shown in\n",
    "Figure [\\[estimation1\\]](#estimation1){reference-type=\"ref\"\n",
    "reference=\"estimation1\"}. This distribution is called the **sampling\n",
    "distribution** of the estimator. It shows how much the estimates would\n",
    "vary if we ran the experiment over and over.\n",
    "\n",
    "The mean of the sampling distribution is pretty close to the\n",
    "hypothetical value of $\\mu$, which means that the experiment yields the\n",
    "right answer, on average. After 1000 tries, the lowest result is 82 kg,\n",
    "and the highest is 98 kg. This range suggests that the estimate might be\n",
    "off by as much as 8 kg."
   ]
  },
  {
   "cell_type": "code",
   "execution_count": 13,
   "id": "e4c223b2",
   "metadata": {},
   "outputs": [
    {
     "data": {
      "text/plain": [
       "89.97975274187043"
      ]
     },
     "execution_count": 13,
     "metadata": {},
     "output_type": "execute_result"
    },
    {
     "data": {
      "application/javascript": [
       "\n",
       "            setTimeout(function() {\n",
       "                var nbb_cell_id = 13;\n",
       "                var nbb_unformatted_code = \"np.mean(xbars)\";\n",
       "                var nbb_formatted_code = \"np.mean(xbars)\";\n",
       "                var nbb_cells = Jupyter.notebook.get_cells();\n",
       "                for (var i = 0; i < nbb_cells.length; ++i) {\n",
       "                    if (nbb_cells[i].input_prompt_number == nbb_cell_id) {\n",
       "                        if (nbb_cells[i].get_text() == nbb_unformatted_code) {\n",
       "                             nbb_cells[i].set_text(nbb_formatted_code);\n",
       "                        }\n",
       "                        break;\n",
       "                    }\n",
       "                }\n",
       "            }, 500);\n",
       "            "
      ],
      "text/plain": [
       "<IPython.core.display.Javascript object>"
      ]
     },
     "metadata": {},
     "output_type": "display_data"
    }
   ],
   "source": [
    "np.mean(xbars)"
   ]
  },
  {
   "cell_type": "code",
   "execution_count": 16,
   "id": "931496f2",
   "metadata": {},
   "outputs": [
    {
     "data": {
      "text/plain": [
       "array([85.9691665 , 93.89352504])"
      ]
     },
     "execution_count": 16,
     "metadata": {},
     "output_type": "execute_result"
    },
    {
     "data": {
      "application/javascript": [
       "\n",
       "            setTimeout(function() {\n",
       "                var nbb_cell_id = 16;\n",
       "                var nbb_unformatted_code = \"ci = cdf.inverse([0.05, 0.95])\\nci\";\n",
       "                var nbb_formatted_code = \"ci = cdf.inverse([0.05, 0.95])\\nci\";\n",
       "                var nbb_cells = Jupyter.notebook.get_cells();\n",
       "                for (var i = 0; i < nbb_cells.length; ++i) {\n",
       "                    if (nbb_cells[i].input_prompt_number == nbb_cell_id) {\n",
       "                        if (nbb_cells[i].get_text() == nbb_unformatted_code) {\n",
       "                             nbb_cells[i].set_text(nbb_formatted_code);\n",
       "                        }\n",
       "                        break;\n",
       "                    }\n",
       "                }\n",
       "            }, 500);\n",
       "            "
      ],
      "text/plain": [
       "<IPython.core.display.Javascript object>"
      ]
     },
     "metadata": {},
     "output_type": "display_data"
    }
   ],
   "source": [
    "# TODO: make this a function\n",
    "\n",
    "ci = cdf.inverse([0.05, 0.95])\n",
    "ci"
   ]
  },
  {
   "cell_type": "code",
   "execution_count": 17,
   "id": "4299ce1b",
   "metadata": {},
   "outputs": [
    {
     "data": {
      "text/plain": [
       "2.4328629138051032"
      ]
     },
     "execution_count": 17,
     "metadata": {},
     "output_type": "execute_result"
    },
    {
     "data": {
      "application/javascript": [
       "\n",
       "            setTimeout(function() {\n",
       "                var nbb_cell_id = 17;\n",
       "                var nbb_unformatted_code = \"stderr = rmse(xbars, 90)\\nstderr\";\n",
       "                var nbb_formatted_code = \"stderr = rmse(xbars, 90)\\nstderr\";\n",
       "                var nbb_cells = Jupyter.notebook.get_cells();\n",
       "                for (var i = 0; i < nbb_cells.length; ++i) {\n",
       "                    if (nbb_cells[i].input_prompt_number == nbb_cell_id) {\n",
       "                        if (nbb_cells[i].get_text() == nbb_unformatted_code) {\n",
       "                             nbb_cells[i].set_text(nbb_formatted_code);\n",
       "                        }\n",
       "                        break;\n",
       "                    }\n",
       "                }\n",
       "            }, 500);\n",
       "            "
      ],
      "text/plain": [
       "<IPython.core.display.Javascript object>"
      ]
     },
     "metadata": {},
     "output_type": "display_data"
    }
   ],
   "source": [
    "stderr = rmse(xbars, 90)\n",
    "stderr"
   ]
  },
  {
   "cell_type": "markdown",
   "id": "c103ec8f",
   "metadata": {},
   "source": [
    "There are two common ways to summarize the sampling distribution:\n",
    "\n",
    "-   **Standard error** (SE) is a measure of how far we expect the\n",
    "    estimate to be off, on average. For each simulated experiment, we\n",
    "    compute the error, $\\bar{x} - \\mu$, and then compute the root mean\n",
    "    squared error (RMSE). In this example, it is roughly 2.5 kg.\n",
    "\n",
    "-   A **confidence interval** (CI) is a range that includes a given\n",
    "    fraction of the sampling distribution. For example, the 90%\n",
    "    confidence interval is the range from the 5th to the 95th\n",
    "    percentile. In this example, the 90% CI is $(86, 94)$ kg."
   ]
  },
  {
   "cell_type": "markdown",
   "id": "7deaf510",
   "metadata": {},
   "source": [
    "Standard errors and confidence intervals are the source of much\n",
    "confusion:\n",
    "\n",
    "-   People often confuse standard error and standard deviation. Remember\n",
    "    that standard deviation describes variability in a measured\n",
    "    quantity; in this example, the standard deviation of gorilla weight\n",
    "    is 7.5 kg. Standard error describes variability in an estimate. In\n",
    "    this example, the standard error of the mean, based on a sample of 9\n",
    "    measurements, is 2.5 kg."
   ]
  },
  {
   "cell_type": "markdown",
   "id": "64cf014b",
   "metadata": {},
   "source": [
    "One way to remember the difference is that, as sample size\n",
    "increases, standard error gets smaller; standard deviation does not.\n",
    "\n",
    "-   People often think that there is a 90% probability that the actual\n",
    "    parameter, $\\mu$, falls in the 90% confidence interval. Sadly, that\n",
    "    is not true. If you want to make a claim like that, you have to use\n",
    "    Bayesian methods (see my book, *Think Bayes*)."
   ]
  },
  {
   "cell_type": "markdown",
   "id": "9812c4f0",
   "metadata": {},
   "source": [
    "The sampling distribution answers a different question: it gives you\n",
    "a sense of how reliable an estimate is by telling you how much it\n",
    "would vary if you ran the experiment again."
   ]
  },
  {
   "cell_type": "markdown",
   "id": "c7b6560b",
   "metadata": {},
   "source": [
    "It is important to remember that confidence intervals and standard\n",
    "errors only quantify sampling error; that is, error due to measuring\n",
    "only part of the population. The sampling distribution does not account\n",
    "for other sources of error, notably sampling bias and measurement error,\n",
    "which are the topics of the next section."
   ]
  },
  {
   "cell_type": "markdown",
   "id": "c9185ef3",
   "metadata": {},
   "source": [
    "## Sampling bias\n",
    "\n",
    "Suppose that instead of the weight of gorillas in a nature preserve, you\n",
    "want to know the average weight of women in the city where you live. It\n",
    "is unlikely that you would be allowed to choose a representative sample\n",
    "of women and weigh them.\n",
    "\n",
    "A simple alternative would be \"telephone sampling;\" that is, you could\n",
    "choose random numbers from the phone book, call and ask to speak to an\n",
    "adult woman, and ask how much she weighs.\n",
    "\n",
    "Telephone sampling has obvious limitations. For example, the sample is\n",
    "limited to people whose telephone numbers are listed, so it eliminates\n",
    "people without phones (who might be poorer than average) and people with\n",
    "unlisted numbers (who might be richer). Also, if you call home\n",
    "telephones during the day, you are less likely to sample people with\n",
    "jobs. And if you only sample the person who answers the phone, you are\n",
    "less likely to sample people who share a phone line."
   ]
  },
  {
   "cell_type": "markdown",
   "id": "29713752",
   "metadata": {},
   "source": [
    "If factors like income, employment, and household size are related to\n",
    "weight---and it is plausible that they are---the results of your survey\n",
    "would be affected one way or another. This problem is called **sampling\n",
    "bias** because it is a property of the sampling process.\n",
    "\n",
    "This sampling process is also vulnerable to self-selection, which is a\n",
    "kind of sampling bias. Some people will refuse to answer the question,\n",
    "and if the tendency to refuse is related to weight, that would affect\n",
    "the results.\n",
    "\n",
    "Finally, if you ask people how much they weigh, rather than weighing\n",
    "them, the results might not be accurate. Even helpful respondents might\n",
    "round up or down if they are uncomfortable with their actual weight. And\n",
    "not all respondents are helpful. These inaccuracies are examples of\n",
    "**measurement error**."
   ]
  },
  {
   "cell_type": "markdown",
   "id": "5a97787d",
   "metadata": {},
   "source": [
    "When you report an estimated quantity, it is useful to report standard\n",
    "error, or a confidence interval, or both, in order to quantify sampling\n",
    "error. But it is also important to remember that sampling error is only\n",
    "one source of error, and often it is not the biggest."
   ]
  },
  {
   "cell_type": "markdown",
   "id": "c8fee736",
   "metadata": {},
   "source": [
    "## Exponential distributions\n",
    "\n",
    "Let's play one more round of the estimation game. *I'm thinking of a\n",
    "distribution.* It's an exponential distribution, and here's a sample:\n",
    "\n",
    "`[5.384, 4.493, 19.198, 2.790, 6.122, 12.844]`\n",
    "\n",
    "What do you think is the parameter, $\\lambda$, of this distribution?\n",
    "\n",
    "In general, the mean of an exponential distribution is $1/\\lambda$, so\n",
    "working backwards, we might choose \n",
    "\n",
    "$$L= 1 / \\bar{x}$$\n",
    "\n",
    "$L$ is an estimator\n",
    "of $\\lambda$. And not just any estimator; it is also the maximum\n",
    "likelihood estimator (see\n",
    "<http://wikipedia.org/wiki/Exponential_distribution#Maximum_likelihood>).\n",
    "So if you want to maximize your chance of guessing $\\lambda$ exactly,\n",
    "$L$ is the way to go.\n",
    "\n",
    "But we know that $\\bar{x}$ is not robust in the presence of outliers, so\n",
    "we expect $L$ to have the same problem."
   ]
  },
  {
   "cell_type": "markdown",
   "id": "92c023db",
   "metadata": {},
   "source": [
    "We can choose an alternative based on the sample median. The median of\n",
    "an exponential distribution is $\\ln(2) / \\lambda$, so working backwards\n",
    "again, we can define an estimator $$L_m= \\ln(2) / m$$ where $m$ is the\n",
    "sample median.\n",
    "\n",
    "To test the performance of these estimators, we can simulate the\n",
    "sampling process:"
   ]
  },
  {
   "cell_type": "code",
   "execution_count": 18,
   "id": "c9791e47",
   "metadata": {},
   "outputs": [
    {
     "data": {
      "application/javascript": [
       "\n",
       "            setTimeout(function() {\n",
       "                var nbb_cell_id = 18;\n",
       "                var nbb_unformatted_code = \"def median(seq):\\n    n = len(seq)\\n    t = sorted(seq)\\n    i = (n - 1) // 2\\n    return t[i]\";\n",
       "                var nbb_formatted_code = \"def median(seq):\\n    n = len(seq)\\n    t = sorted(seq)\\n    i = (n - 1) // 2\\n    return t[i]\";\n",
       "                var nbb_cells = Jupyter.notebook.get_cells();\n",
       "                for (var i = 0; i < nbb_cells.length; ++i) {\n",
       "                    if (nbb_cells[i].input_prompt_number == nbb_cell_id) {\n",
       "                        if (nbb_cells[i].get_text() == nbb_unformatted_code) {\n",
       "                             nbb_cells[i].set_text(nbb_formatted_code);\n",
       "                        }\n",
       "                        break;\n",
       "                    }\n",
       "                }\n",
       "            }, 500);\n",
       "            "
      ],
      "text/plain": [
       "<IPython.core.display.Javascript object>"
      ]
     },
     "metadata": {},
     "output_type": "display_data"
    }
   ],
   "source": [
    "def median(seq):\n",
    "    n = len(seq)\n",
    "    t = sorted(seq)\n",
    "    i = (n - 1) // 2\n",
    "    return t[i]"
   ]
  },
  {
   "cell_type": "code",
   "execution_count": 19,
   "id": "699a569e",
   "metadata": {},
   "outputs": [
    {
     "data": {
      "application/javascript": [
       "\n",
       "            setTimeout(function() {\n",
       "                var nbb_cell_id = 19;\n",
       "                var nbb_unformatted_code = \"lam = 2\\nls = []\\nlms = []\\n\\nfor _ in range(iters):\\n    xs = np.random.exponential(1.0 / lam, n)\\n    L = 1 / np.mean(xs)\\n    Lm = np.log(2) / median(xs)\\n    ls.append(L)\\n    lms.append(Lm)\";\n",
       "                var nbb_formatted_code = \"lam = 2\\nls = []\\nlms = []\\n\\nfor _ in range(iters):\\n    xs = np.random.exponential(1.0 / lam, n)\\n    L = 1 / np.mean(xs)\\n    Lm = np.log(2) / median(xs)\\n    ls.append(L)\\n    lms.append(Lm)\";\n",
       "                var nbb_cells = Jupyter.notebook.get_cells();\n",
       "                for (var i = 0; i < nbb_cells.length; ++i) {\n",
       "                    if (nbb_cells[i].input_prompt_number == nbb_cell_id) {\n",
       "                        if (nbb_cells[i].get_text() == nbb_unformatted_code) {\n",
       "                             nbb_cells[i].set_text(nbb_formatted_code);\n",
       "                        }\n",
       "                        break;\n",
       "                    }\n",
       "                }\n",
       "            }, 500);\n",
       "            "
      ],
      "text/plain": [
       "<IPython.core.display.Javascript object>"
      ]
     },
     "metadata": {},
     "output_type": "display_data"
    }
   ],
   "source": [
    "lam = 2\n",
    "ls = []\n",
    "lms = []\n",
    "\n",
    "for _ in range(iters):\n",
    "    xs = np.random.exponential(1.0 / lam, n)\n",
    "    L = 1 / np.mean(xs)\n",
    "    Lm = np.log(2) / median(xs)\n",
    "    ls.append(L)\n",
    "    lms.append(Lm)"
   ]
  },
  {
   "cell_type": "code",
   "execution_count": 20,
   "id": "5b4e4ddf",
   "metadata": {},
   "outputs": [
    {
     "name": "stdout",
     "output_type": "stream",
     "text": [
      "rmse L 0.8560691042601719\n",
      "rmse Lm 1.753367380943278\n"
     ]
    },
    {
     "data": {
      "application/javascript": [
       "\n",
       "            setTimeout(function() {\n",
       "                var nbb_cell_id = 20;\n",
       "                var nbb_unformatted_code = \"print(\\\"rmse L\\\", rmse(ls, lam))\\nprint(\\\"rmse Lm\\\", rmse(lms, lam))\";\n",
       "                var nbb_formatted_code = \"print(\\\"rmse L\\\", rmse(ls, lam))\\nprint(\\\"rmse Lm\\\", rmse(lms, lam))\";\n",
       "                var nbb_cells = Jupyter.notebook.get_cells();\n",
       "                for (var i = 0; i < nbb_cells.length; ++i) {\n",
       "                    if (nbb_cells[i].input_prompt_number == nbb_cell_id) {\n",
       "                        if (nbb_cells[i].get_text() == nbb_unformatted_code) {\n",
       "                             nbb_cells[i].set_text(nbb_formatted_code);\n",
       "                        }\n",
       "                        break;\n",
       "                    }\n",
       "                }\n",
       "            }, 500);\n",
       "            "
      ],
      "text/plain": [
       "<IPython.core.display.Javascript object>"
      ]
     },
     "metadata": {},
     "output_type": "display_data"
    }
   ],
   "source": [
    "print(\"rmse L\", rmse(ls, lam))\n",
    "print(\"rmse Lm\", rmse(lms, lam))"
   ]
  },
  {
   "cell_type": "markdown",
   "id": "3a550684",
   "metadata": {},
   "source": [
    "When I run this experiment with $\\lambda=2$, the RMSE of $L$ is 1.1. For\n",
    "the median-based estimator $L_m$, RMSE is 1.8. We can't tell from this\n",
    "experiment whether $L$ minimizes MSE, but at least it seems better than\n",
    "$L_m$."
   ]
  },
  {
   "cell_type": "code",
   "execution_count": 21,
   "id": "9d6dbd28",
   "metadata": {},
   "outputs": [
    {
     "name": "stdout",
     "output_type": "stream",
     "text": [
      "mean error L 0.2540278485011342\n",
      "mean error Lm 0.7173415794334793\n"
     ]
    },
    {
     "data": {
      "application/javascript": [
       "\n",
       "            setTimeout(function() {\n",
       "                var nbb_cell_id = 21;\n",
       "                var nbb_unformatted_code = \"print(\\\"mean error L\\\", mean_error(ls, lam))\\nprint(\\\"mean error Lm\\\", mean_error(lms, lam))\";\n",
       "                var nbb_formatted_code = \"print(\\\"mean error L\\\", mean_error(ls, lam))\\nprint(\\\"mean error Lm\\\", mean_error(lms, lam))\";\n",
       "                var nbb_cells = Jupyter.notebook.get_cells();\n",
       "                for (var i = 0; i < nbb_cells.length; ++i) {\n",
       "                    if (nbb_cells[i].input_prompt_number == nbb_cell_id) {\n",
       "                        if (nbb_cells[i].get_text() == nbb_unformatted_code) {\n",
       "                             nbb_cells[i].set_text(nbb_formatted_code);\n",
       "                        }\n",
       "                        break;\n",
       "                    }\n",
       "                }\n",
       "            }, 500);\n",
       "            "
      ],
      "text/plain": [
       "<IPython.core.display.Javascript object>"
      ]
     },
     "metadata": {},
     "output_type": "display_data"
    }
   ],
   "source": [
    "print(\"mean error L\", mean_error(ls, lam))\n",
    "print(\"mean error Lm\", mean_error(lms, lam))"
   ]
  },
  {
   "cell_type": "markdown",
   "id": "8a7e05a2",
   "metadata": {},
   "source": [
    "Sadly, it seems that both estimators are biased. For $L$ the mean error\n",
    "is 0.33; for $L_m$ it is 0.45. And neither converges to 0 as `m`\n",
    "increases.\n",
    "\n",
    "It turns out that $\\bar{x}$ is an unbiased estimator of the mean of the\n",
    "distribution, but $L$ is not an unbiased estimator of\n",
    "$\\lambda$."
   ]
  },
  {
   "cell_type": "markdown",
   "id": "5a72892f",
   "metadata": {},
   "source": [
    "## Glossary\n",
    "\n",
    "-   **estimation**: The process of inferring the parameters of a\n",
    "    distribution from a sample.\n",
    "\n",
    "-   **estimator**: A statistic used to estimate a parameter.\n",
    "\n",
    "-   **mean squared error (MSE)**: A measure of estimation error.\n",
    "\n",
    "-   **root mean squared error (RMSE)**: The square root of MSE, a more\n",
    "    meaningful representation of typical error magnitude.\n",
    "\n",
    "-   **maximum likelihood estimator (MLE)**: An estimator that computes\n",
    "    the point estimate most likely to be correct.\n",
    "\n",
    "-   **bias (of an estimator)**: The tendency of an estimator to be above\n",
    "    or below the actual value of the parameter, when averaged over\n",
    "    repeated experiments.\n",
    "\n",
    "-   **sampling error**: Error in an estimate due to the limited size of\n",
    "    the sample and variation due to chance.\n",
    "\n",
    "-   **sampling bias**: Error in an estimate due to a sampling process\n",
    "    that is not representative of the population.\n",
    "\n",
    "-   **measurement error**: Error in an estimate due to inaccuracy\n",
    "    collecting or recording data.\n",
    "\n",
    "-   **sampling distribution**: The distribution of a statistic if an\n",
    "    experiment is repeated many times.\n",
    "\n",
    "-   **standard error**: The RMSE of an estimate, which quantifies\n",
    "    variability due to sampling error (but not other sources of error).\n",
    "\n",
    "-   **confidence interval**: An interval that represents the expected\n",
    "    range of an estimator if an experiment is repeated many times."
   ]
  },
  {
   "cell_type": "markdown",
   "id": "697621aa",
   "metadata": {},
   "source": [
    "## Exercises"
   ]
  },
  {
   "cell_type": "markdown",
   "id": "700f4df0",
   "metadata": {},
   "source": [
    "**Exercise:** Suppose you draw a sample with size n=10 from an exponential distribution with λ=2. Simulate this experiment 1000 times and plot the sampling distribution of the estimate L. Compute the standard error of the estimate and the 90% confidence interval.\n",
    "\n",
    "Repeat the experiment with a few different values of `n` and make a plot of standard error versus `n`.\n",
    "\n"
   ]
  },
  {
   "cell_type": "code",
   "execution_count": 22,
   "id": "41dfd70d",
   "metadata": {},
   "outputs": [
    {
     "name": "stdout",
     "output_type": "stream",
     "text": [
      "standard error 0.9017891711693963\n"
     ]
    },
    {
     "data": {
      "application/javascript": [
       "\n",
       "            setTimeout(function() {\n",
       "                var nbb_cell_id = 22;\n",
       "                var nbb_unformatted_code = \"# Solution\\n\\nlam = 2\\nestimates = []\\nfor _ in range(iters):\\n    xs = np.random.exponential(1.0 / lam, n)\\n    lamhat = 1.0 / np.mean(xs)\\n    estimates.append(lamhat)\\nstderr = rmse(estimates, lam)\\nprint(\\\"standard error\\\", stderr)\";\n",
       "                var nbb_formatted_code = \"# Solution\\n\\nlam = 2\\nestimates = []\\nfor _ in range(iters):\\n    xs = np.random.exponential(1.0 / lam, n)\\n    lamhat = 1.0 / np.mean(xs)\\n    estimates.append(lamhat)\\nstderr = rmse(estimates, lam)\\nprint(\\\"standard error\\\", stderr)\";\n",
       "                var nbb_cells = Jupyter.notebook.get_cells();\n",
       "                for (var i = 0; i < nbb_cells.length; ++i) {\n",
       "                    if (nbb_cells[i].input_prompt_number == nbb_cell_id) {\n",
       "                        if (nbb_cells[i].get_text() == nbb_unformatted_code) {\n",
       "                             nbb_cells[i].set_text(nbb_formatted_code);\n",
       "                        }\n",
       "                        break;\n",
       "                    }\n",
       "                }\n",
       "            }, 500);\n",
       "            "
      ],
      "text/plain": [
       "<IPython.core.display.Javascript object>"
      ]
     },
     "metadata": {},
     "output_type": "display_data"
    }
   ],
   "source": [
    "# Solution\n",
    "\n",
    "lam = 2\n",
    "estimates = []\n",
    "for _ in range(iters):\n",
    "    xs = np.random.exponential(1.0 / lam, n)\n",
    "    lamhat = 1.0 / np.mean(xs)\n",
    "    estimates.append(lamhat)\n",
    "stderr = rmse(estimates, lam)\n",
    "print(\"standard error\", stderr)"
   ]
  },
  {
   "cell_type": "code",
   "execution_count": 24,
   "id": "b4bb502a",
   "metadata": {},
   "outputs": [
    {
     "name": "stdout",
     "output_type": "stream",
     "text": [
      "confidence interval [1.24258435 3.8582495 ]\n"
     ]
    },
    {
     "data": {
      "application/javascript": [
       "\n",
       "            setTimeout(function() {\n",
       "                var nbb_cell_id = 24;\n",
       "                var nbb_unformatted_code = \"# Solution\\n\\ncdf = Cdf.from_seq(estimates)\\nci = cdf.inverse([0.05, 0.95])\\nprint(\\\"confidence interval\\\", ci)\";\n",
       "                var nbb_formatted_code = \"# Solution\\n\\ncdf = Cdf.from_seq(estimates)\\nci = cdf.inverse([0.05, 0.95])\\nprint(\\\"confidence interval\\\", ci)\";\n",
       "                var nbb_cells = Jupyter.notebook.get_cells();\n",
       "                for (var i = 0; i < nbb_cells.length; ++i) {\n",
       "                    if (nbb_cells[i].input_prompt_number == nbb_cell_id) {\n",
       "                        if (nbb_cells[i].get_text() == nbb_unformatted_code) {\n",
       "                             nbb_cells[i].set_text(nbb_formatted_code);\n",
       "                        }\n",
       "                        break;\n",
       "                    }\n",
       "                }\n",
       "            }, 500);\n",
       "            "
      ],
      "text/plain": [
       "<IPython.core.display.Javascript object>"
      ]
     },
     "metadata": {},
     "output_type": "display_data"
    }
   ],
   "source": [
    "# Solution\n",
    "\n",
    "cdf = Cdf.from_seq(estimates)\n",
    "ci = cdf.inverse([0.05, 0.95])\n",
    "print(\"confidence interval\", ci)"
   ]
  },
  {
   "cell_type": "code",
   "execution_count": 27,
   "id": "53a58369",
   "metadata": {},
   "outputs": [
    {
     "data": {
      "application/javascript": [
       "\n",
       "            setTimeout(function() {\n",
       "                var nbb_cell_id = 27;\n",
       "                var nbb_unformatted_code = \"# Solution\\n\\nimport matplotlib.pyplot as plt\\n\\ndef vert_line(x, y=1):\\n    plt.plot([x, x], [0, y], color=\\\"gray\\\")\";\n",
       "                var nbb_formatted_code = \"# Solution\\n\\nimport matplotlib.pyplot as plt\\n\\n\\ndef vert_line(x, y=1):\\n    plt.plot([x, x], [0, y], color=\\\"gray\\\")\";\n",
       "                var nbb_cells = Jupyter.notebook.get_cells();\n",
       "                for (var i = 0; i < nbb_cells.length; ++i) {\n",
       "                    if (nbb_cells[i].input_prompt_number == nbb_cell_id) {\n",
       "                        if (nbb_cells[i].get_text() == nbb_unformatted_code) {\n",
       "                             nbb_cells[i].set_text(nbb_formatted_code);\n",
       "                        }\n",
       "                        break;\n",
       "                    }\n",
       "                }\n",
       "            }, 500);\n",
       "            "
      ],
      "text/plain": [
       "<IPython.core.display.Javascript object>"
      ]
     },
     "metadata": {},
     "output_type": "display_data"
    }
   ],
   "source": [
    "# Solution\n",
    "\n",
    "import matplotlib.pyplot as plt\n",
    "\n",
    "\n",
    "def vert_line(x, y=1):\n",
    "    plt.plot([x, x], [0, y], color=\"gray\")"
   ]
  },
  {
   "cell_type": "code",
   "execution_count": 28,
   "id": "71beaf3d",
   "metadata": {},
   "outputs": [
    {
     "data": {
      "image/png": "[encoded data removed]",
      "text/plain": [
       "<Figure size 640x480 with 1 Axes>"
      ]
     },
     "metadata": {},
     "output_type": "display_data"
    },
    {
     "data": {
      "application/javascript": [
       "\n",
       "            setTimeout(function() {\n",
       "                var nbb_cell_id = 28;\n",
       "                var nbb_unformatted_code = \"# Solution\\n\\nvert_line(ci[0])\\nvert_line(ci[1])\\ncdf.plot()\\ndecorate(xlabel=\\\"estimate\\\", ylabel=\\\"CDF\\\", title=\\\"Sampling distribution\\\")\";\n",
       "                var nbb_formatted_code = \"# Solution\\n\\nvert_line(ci[0])\\nvert_line(ci[1])\\ncdf.plot()\\ndecorate(xlabel=\\\"estimate\\\", ylabel=\\\"CDF\\\", title=\\\"Sampling distribution\\\")\";\n",
       "                var nbb_cells = Jupyter.notebook.get_cells();\n",
       "                for (var i = 0; i < nbb_cells.length; ++i) {\n",
       "                    if (nbb_cells[i].input_prompt_number == nbb_cell_id) {\n",
       "                        if (nbb_cells[i].get_text() == nbb_unformatted_code) {\n",
       "                             nbb_cells[i].set_text(nbb_formatted_code);\n",
       "                        }\n",
       "                        break;\n",
       "                    }\n",
       "                }\n",
       "            }, 500);\n",
       "            "
      ],
      "text/plain": [
       "<IPython.core.display.Javascript object>"
      ]
     },
     "metadata": {},
     "output_type": "display_data"
    }
   ],
   "source": [
    "# Solution\n",
    "\n",
    "vert_line(ci[0])\n",
    "vert_line(ci[1])\n",
    "cdf.plot()\n",
    "decorate(xlabel=\"estimate\", ylabel=\"CDF\", title=\"Sampling distribution\")"
   ]
  },
  {
   "cell_type": "markdown",
   "id": "c8d4dc5c",
   "metadata": {},
   "source": [
    "**Exercise:** In games like hockey and soccer, the time between goals is roughly exponential. So you could estimate a team's goal-scoring rate by observing the number of goals they score in a game. This estimation process is a little different from sampling the time between goals, so let's see how it works.\n",
    "\n",
    "Write a function that takes a goal-scoring rate, `lam`, in goals per game, and simulates a game by generating the time between goals until the total time exceeds 1 game, then returns the number of goals scored.\n",
    "\n",
    "Write another function that simulates many games, stores the estimates of `lam`, then computes their mean error and RMSE.\n",
    "\n",
    "Is this way of making an estimate biased?"
   ]
  },
  {
   "cell_type": "code",
   "execution_count": 29,
   "id": "9dcfda77",
   "metadata": {},
   "outputs": [
    {
     "data": {
      "application/javascript": [
       "\n",
       "            setTimeout(function() {\n",
       "                var nbb_cell_id = 29;\n",
       "                var nbb_unformatted_code = \"def simulate_game(lam):\\n    \\\"\\\"\\\"Simulates a game and returns the estimated goal-scoring rate.\\n\\n    lam: actual goal scoring rate in goals per game\\n    \\\"\\\"\\\"\\n    goals = 0\\n    t = 0\\n    while True:\\n        time_between_goals = random.expovariate(lam)\\n        t += time_between_goals\\n        if t > 1:\\n            break\\n        goals += 1\\n    L = goals\\n    return L\";\n",
       "                var nbb_formatted_code = \"def simulate_game(lam):\\n    \\\"\\\"\\\"Simulates a game and returns the estimated goal-scoring rate.\\n\\n    lam: actual goal scoring rate in goals per game\\n    \\\"\\\"\\\"\\n    goals = 0\\n    t = 0\\n    while True:\\n        time_between_goals = random.expovariate(lam)\\n        t += time_between_goals\\n        if t > 1:\\n            break\\n        goals += 1\\n    L = goals\\n    return L\";\n",
       "                var nbb_cells = Jupyter.notebook.get_cells();\n",
       "                for (var i = 0; i < nbb_cells.length; ++i) {\n",
       "                    if (nbb_cells[i].input_prompt_number == nbb_cell_id) {\n",
       "                        if (nbb_cells[i].get_text() == nbb_unformatted_code) {\n",
       "                             nbb_cells[i].set_text(nbb_formatted_code);\n",
       "                        }\n",
       "                        break;\n",
       "                    }\n",
       "                }\n",
       "            }, 500);\n",
       "            "
      ],
      "text/plain": [
       "<IPython.core.display.Javascript object>"
      ]
     },
     "metadata": {},
     "output_type": "display_data"
    }
   ],
   "source": [
    "def simulate_game(lam):\n",
    "    \"\"\"Simulates a game and returns the estimated goal-scoring rate.\n",
    "\n",
    "    lam: actual goal scoring rate in goals per game\n",
    "    \"\"\"\n",
    "    goals = 0\n",
    "    t = 0\n",
    "    while True:\n",
    "        time_between_goals = random.expovariate(lam)\n",
    "        t += time_between_goals\n",
    "        if t > 1:\n",
    "            break\n",
    "        goals += 1\n",
    "    L = goals\n",
    "    return L"
   ]
  },
  {
   "cell_type": "code",
   "execution_count": 30,
   "id": "645285a7",
   "metadata": {},
   "outputs": [
    {
     "name": "stdout",
     "output_type": "stream",
     "text": [
      "Experiment 4\n",
      "rmse L 1.429320482941822\n",
      "mean error L 0.06293706293706294\n"
     ]
    },
    {
     "data": {
      "application/javascript": [
       "\n",
       "            setTimeout(function() {\n",
       "                var nbb_cell_id = 30;\n",
       "                var nbb_unformatted_code = \"# Solution\\n\\nlam = 2\\n\\nestimates = []\\nfor i in range(iters):\\n    L = simulate_game(lam)\\n    estimates.append(L)\\nprint(\\\"Experiment 4\\\")\\nprint(\\\"rmse L\\\", rmse(estimates, lam))\\nprint(\\\"mean error L\\\", mean_error(estimates, lam))\";\n",
       "                var nbb_formatted_code = \"# Solution\\n\\nlam = 2\\n\\nestimates = []\\nfor i in range(iters):\\n    L = simulate_game(lam)\\n    estimates.append(L)\\nprint(\\\"Experiment 4\\\")\\nprint(\\\"rmse L\\\", rmse(estimates, lam))\\nprint(\\\"mean error L\\\", mean_error(estimates, lam))\";\n",
       "                var nbb_cells = Jupyter.notebook.get_cells();\n",
       "                for (var i = 0; i < nbb_cells.length; ++i) {\n",
       "                    if (nbb_cells[i].input_prompt_number == nbb_cell_id) {\n",
       "                        if (nbb_cells[i].get_text() == nbb_unformatted_code) {\n",
       "                             nbb_cells[i].set_text(nbb_formatted_code);\n",
       "                        }\n",
       "                        break;\n",
       "                    }\n",
       "                }\n",
       "            }, 500);\n",
       "            "
      ],
      "text/plain": [
       "<IPython.core.display.Javascript object>"
      ]
     },
     "metadata": {},
     "output_type": "display_data"
    }
   ],
   "source": [
    "# Solution\n",
    "\n",
    "lam = 2\n",
    "\n",
    "estimates = []\n",
    "for i in range(iters):\n",
    "    L = simulate_game(lam)\n",
    "    estimates.append(L)\n",
    "print(\"Experiment 4\")\n",
    "print(\"rmse L\", rmse(estimates, lam))\n",
    "print(\"mean error L\", mean_error(estimates, lam))"
   ]
  },
  {
   "cell_type": "code",
   "execution_count": 32,
   "id": "2a7a3a99",
   "metadata": {},
   "outputs": [
    {
     "data": {
      "image/png": "[encoded data removed]",
      "text/plain": [
       "<Figure size 640x480 with 1 Axes>"
      ]
     },
     "metadata": {},
     "output_type": "display_data"
    },
    {
     "data": {
      "application/javascript": [
       "\n",
       "            setTimeout(function() {\n",
       "                var nbb_cell_id = 32;\n",
       "                var nbb_unformatted_code = \"# Solution\\n\\nfrom empiricaldist import Pmf\\n\\npmf = Pmf.from_seq(estimates)\\npmf.bar()\\ndecorate(xlabel=\\\"Goals scored\\\", ylabel=\\\"PMF\\\")\";\n",
       "                var nbb_formatted_code = \"# Solution\\n\\nfrom empiricaldist import Pmf\\n\\npmf = Pmf.from_seq(estimates)\\npmf.bar()\\ndecorate(xlabel=\\\"Goals scored\\\", ylabel=\\\"PMF\\\")\";\n",
       "                var nbb_cells = Jupyter.notebook.get_cells();\n",
       "                for (var i = 0; i < nbb_cells.length; ++i) {\n",
       "                    if (nbb_cells[i].input_prompt_number == nbb_cell_id) {\n",
       "                        if (nbb_cells[i].get_text() == nbb_unformatted_code) {\n",
       "                             nbb_cells[i].set_text(nbb_formatted_code);\n",
       "                        }\n",
       "                        break;\n",
       "                    }\n",
       "                }\n",
       "            }, 500);\n",
       "            "
      ],
      "text/plain": [
       "<IPython.core.display.Javascript object>"
      ]
     },
     "metadata": {},
     "output_type": "display_data"
    }
   ],
   "source": [
    "# Solution\n",
    "\n",
    "from empiricaldist import Pmf\n",
    "\n",
    "pmf = Pmf.from_seq(estimates)\n",
    "pmf.bar()\n",
    "decorate(xlabel=\"Goals scored\", ylabel=\"PMF\")"
   ]
  },
  {
   "cell_type": "markdown",
   "id": "3f4fbe65",
   "metadata": {},
   "source": [
    "**Exercise:**  In this chapter we used $\\bar{x}$ and median to estimate µ, and found that $\\bar{x}$ yields lower MSE. Also, we used $S^2$ and $S_{n-1}^2$ to estimate σ, and found that $S^2$ is biased and $S_{n-1}^2$ unbiased.\n",
    "Run similar experiments to see if $\\bar{x}$ and median are biased estimates of µ. Also check whether $S^2$ or $S_{n-1}^2$ yields a lower MSE."
   ]
  },
  {
   "cell_type": "code",
   "execution_count": 33,
   "id": "52ac2dbc",
   "metadata": {},
   "outputs": [
    {
     "name": "stdout",
     "output_type": "stream",
     "text": [
      "mean error xbar 0.008203271420080288\n",
      "mean error median 0.012497819977177567\n"
     ]
    },
    {
     "data": {
      "application/javascript": [
       "\n",
       "            setTimeout(function() {\n",
       "                var nbb_cell_id = 33;\n",
       "                var nbb_unformatted_code = \"n = 7\\niters = 1001\\n\\nmu = 0\\nsigma = 1\\nmeans = []\\nmedians = []\\nfor _ in range(iters):\\n    xs = [random.gauss(mu, sigma) for i in range(n)]\\n    xbar = np.mean(xs)\\n    median = np.median(xs)\\n    means.append(xbar)\\n    medians.append(median)\\n\\nprint(\\\"mean error xbar\\\", mean_error(means, mu))\\nprint(\\\"mean error median\\\", mean_error(medians, mu))\";\n",
       "                var nbb_formatted_code = \"n = 7\\niters = 1001\\n\\nmu = 0\\nsigma = 1\\nmeans = []\\nmedians = []\\nfor _ in range(iters):\\n    xs = [random.gauss(mu, sigma) for i in range(n)]\\n    xbar = np.mean(xs)\\n    median = np.median(xs)\\n    means.append(xbar)\\n    medians.append(median)\\n\\nprint(\\\"mean error xbar\\\", mean_error(means, mu))\\nprint(\\\"mean error median\\\", mean_error(medians, mu))\";\n",
       "                var nbb_cells = Jupyter.notebook.get_cells();\n",
       "                for (var i = 0; i < nbb_cells.length; ++i) {\n",
       "                    if (nbb_cells[i].input_prompt_number == nbb_cell_id) {\n",
       "                        if (nbb_cells[i].get_text() == nbb_unformatted_code) {\n",
       "                             nbb_cells[i].set_text(nbb_formatted_code);\n",
       "                        }\n",
       "                        break;\n",
       "                    }\n",
       "                }\n",
       "            }, 500);\n",
       "            "
      ],
      "text/plain": [
       "<IPython.core.display.Javascript object>"
      ]
     },
     "metadata": {},
     "output_type": "display_data"
    }
   ],
   "source": [
    "n = 7\n",
    "iters = 1001\n",
    "\n",
    "mu = 0\n",
    "sigma = 1\n",
    "means = []\n",
    "medians = []\n",
    "for _ in range(iters):\n",
    "    xs = [random.gauss(mu, sigma) for i in range(n)]\n",
    "    xbar = np.mean(xs)\n",
    "    median = np.median(xs)\n",
    "    means.append(xbar)\n",
    "    medians.append(median)\n",
    "\n",
    "print(\"mean error xbar\", mean_error(means, mu))\n",
    "print(\"mean error median\", mean_error(medians, mu))"
   ]
  },
  {
   "cell_type": "code",
   "execution_count": 34,
   "id": "bbffceac",
   "metadata": {},
   "outputs": [
    {
     "name": "stdout",
     "output_type": "stream",
     "text": [
      "RMSE biased 0.5348051198239759\n",
      "RMSE unbiased 0.6044002451720858\n"
     ]
    },
    {
     "data": {
      "application/javascript": [
       "\n",
       "            setTimeout(function() {\n",
       "                var nbb_cell_id = 34;\n",
       "                var nbb_unformatted_code = \"n = 7\\niters = 1001\\n\\nmu = 0\\nsigma = 1\\nestimates1 = []\\nestimates2 = []\\nfor _ in range(iters):\\n    xs = [random.gauss(mu, sigma) for i in range(n)]\\n    biased = np.var(xs)\\n    unbiased = np.var(xs, ddof=1)\\n    estimates1.append(biased)\\n    estimates2.append(unbiased)\\nprint(\\\"RMSE biased\\\", rmse(estimates1, sigma**2))\\nprint(\\\"RMSE unbiased\\\", rmse(estimates2, sigma**2))\";\n",
       "                var nbb_formatted_code = \"n = 7\\niters = 1001\\n\\nmu = 0\\nsigma = 1\\nestimates1 = []\\nestimates2 = []\\nfor _ in range(iters):\\n    xs = [random.gauss(mu, sigma) for i in range(n)]\\n    biased = np.var(xs)\\n    unbiased = np.var(xs, ddof=1)\\n    estimates1.append(biased)\\n    estimates2.append(unbiased)\\nprint(\\\"RMSE biased\\\", rmse(estimates1, sigma**2))\\nprint(\\\"RMSE unbiased\\\", rmse(estimates2, sigma**2))\";\n",
       "                var nbb_cells = Jupyter.notebook.get_cells();\n",
       "                for (var i = 0; i < nbb_cells.length; ++i) {\n",
       "                    if (nbb_cells[i].input_prompt_number == nbb_cell_id) {\n",
       "                        if (nbb_cells[i].get_text() == nbb_unformatted_code) {\n",
       "                             nbb_cells[i].set_text(nbb_formatted_code);\n",
       "                        }\n",
       "                        break;\n",
       "                    }\n",
       "                }\n",
       "            }, 500);\n",
       "            "
      ],
      "text/plain": [
       "<IPython.core.display.Javascript object>"
      ]
     },
     "metadata": {},
     "output_type": "display_data"
    }
   ],
   "source": [
    "n = 7\n",
    "iters = 1001\n",
    "\n",
    "mu = 0\n",
    "sigma = 1\n",
    "estimates1 = []\n",
    "estimates2 = []\n",
    "for _ in range(iters):\n",
    "    xs = [random.gauss(mu, sigma) for i in range(n)]\n",
    "    biased = np.var(xs)\n",
    "    unbiased = np.var(xs, ddof=1)\n",
    "    estimates1.append(biased)\n",
    "    estimates2.append(unbiased)\n",
    "print(\"RMSE biased\", rmse(estimates1, sigma**2))\n",
    "print(\"RMSE unbiased\", rmse(estimates2, sigma**2))"
   ]
  },
  {
   "cell_type": "code",
   "execution_count": null,
   "id": "bac4114e",
   "metadata": {},
   "outputs": [],
   "source": []
  }
 ],
 "metadata": {
  "kernelspec": {
   "display_name": "Python 3 (ipykernel)",
   "language": "python",
   "name": "python3"
  },
  "language_info": {
   "codemirror_mode": {
    "name": "ipython",
    "version": 3
   },
   "file_extension": ".py",
   "mimetype": "text/x-python",
   "name": "python",
   "nbconvert_exporter": "python",
   "pygments_lexer": "ipython3",
   "version": "3.10.14"
  }
 },
 "nbformat": 4,
 "nbformat_minor": 5
}
