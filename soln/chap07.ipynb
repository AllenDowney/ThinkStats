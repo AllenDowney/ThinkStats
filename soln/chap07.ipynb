{
 "cells": [
  {
   "cell_type": "markdown",
   "id": "79cfee17",
   "metadata": {},
   "source": [
    "# Relationships between variables\n",
    "\n",
    "So far we have only looked at one variable at a time.\n",
    "In this chapter we look at relationships between variables.\n",
    "Two variables are related if knowing one gives you information about the other.\n",
    "For example, height and weight are related; people who are taller tend to be heavier.\n",
    "Of course, it is not a perfect relationship: there are short heavy people and tall light ones.\n",
    "But if you are trying to guess someone's weight, you will be more accurate if you know their height than if you don't."
   ]
  },
  {
   "cell_type": "code",
   "execution_count": 1,
   "id": "b39cb1c8",
   "metadata": {},
   "outputs": [
    {
     "data": {
      "application/javascript": [
       "\n",
       "            setTimeout(function() {\n",
       "                var nbb_cell_id = 1;\n",
       "                var nbb_unformatted_code = \"%load_ext nb_black\\n%load_ext autoreload\\n%autoreload 2\";\n",
       "                var nbb_formatted_code = \"%load_ext nb_black\\n%load_ext autoreload\\n%autoreload 2\";\n",
       "                var nbb_cells = Jupyter.notebook.get_cells();\n",
       "                for (var i = 0; i < nbb_cells.length; ++i) {\n",
       "                    if (nbb_cells[i].input_prompt_number == nbb_cell_id) {\n",
       "                        if (nbb_cells[i].get_text() == nbb_unformatted_code) {\n",
       "                             nbb_cells[i].set_text(nbb_formatted_code);\n",
       "                        }\n",
       "                        break;\n",
       "                    }\n",
       "                }\n",
       "            }, 500);\n",
       "            "
      ],
      "text/plain": [
       "<IPython.core.display.Javascript object>"
      ]
     },
     "metadata": {},
     "output_type": "display_data"
    }
   ],
   "source": [
    "%load_ext nb_black\n",
    "%load_ext autoreload\n",
    "%autoreload 2"
   ]
  },
  {
   "cell_type": "code",
   "execution_count": 2,
   "id": "542c6943",
   "metadata": {},
   "outputs": [
    {
     "data": {
      "application/javascript": [
       "\n",
       "            setTimeout(function() {\n",
       "                var nbb_cell_id = 2;\n",
       "                var nbb_unformatted_code = \"from os.path import basename, exists\\n\\n\\ndef download(url):\\n    filename = basename(url)\\n    if not exists(filename):\\n        from urllib.request import urlretrieve\\n\\n        local, _ = urlretrieve(url, filename)\\n        print(\\\"Downloaded \\\" + local)\\n\\n\\ndownload(\\\"https://github.com/AllenDowney/ThinkStats/raw/v3/nb/thinkstats.py\\\")\";\n",
       "                var nbb_formatted_code = \"from os.path import basename, exists\\n\\n\\ndef download(url):\\n    filename = basename(url)\\n    if not exists(filename):\\n        from urllib.request import urlretrieve\\n\\n        local, _ = urlretrieve(url, filename)\\n        print(\\\"Downloaded \\\" + local)\\n\\n\\ndownload(\\\"https://github.com/AllenDowney/ThinkStats/raw/v3/nb/thinkstats.py\\\")\";\n",
       "                var nbb_cells = Jupyter.notebook.get_cells();\n",
       "                for (var i = 0; i < nbb_cells.length; ++i) {\n",
       "                    if (nbb_cells[i].input_prompt_number == nbb_cell_id) {\n",
       "                        if (nbb_cells[i].get_text() == nbb_unformatted_code) {\n",
       "                             nbb_cells[i].set_text(nbb_formatted_code);\n",
       "                        }\n",
       "                        break;\n",
       "                    }\n",
       "                }\n",
       "            }, 500);\n",
       "            "
      ],
      "text/plain": [
       "<IPython.core.display.Javascript object>"
      ]
     },
     "metadata": {},
     "output_type": "display_data"
    }
   ],
   "source": [
    "from os.path import basename, exists\n",
    "\n",
    "\n",
    "def download(url):\n",
    "    filename = basename(url)\n",
    "    if not exists(filename):\n",
    "        from urllib.request import urlretrieve\n",
    "\n",
    "        local, _ = urlretrieve(url, filename)\n",
    "        print(\"Downloaded \" + local)\n",
    "\n",
    "\n",
    "download(\"https://github.com/AllenDowney/ThinkStats/raw/v3/nb/thinkstats.py\")"
   ]
  },
  {
   "cell_type": "code",
   "execution_count": 3,
   "id": "7f41c5c5",
   "metadata": {},
   "outputs": [
    {
     "data": {
      "application/javascript": [
       "\n",
       "            setTimeout(function() {\n",
       "                var nbb_cell_id = 3;\n",
       "                var nbb_unformatted_code = \"try:\\n    import empiricaldist\\nexcept ImportError:\\n    !pip install empiricaldist\";\n",
       "                var nbb_formatted_code = \"try:\\n    import empiricaldist\\nexcept ImportError:\\n    !pip install empiricaldist\";\n",
       "                var nbb_cells = Jupyter.notebook.get_cells();\n",
       "                for (var i = 0; i < nbb_cells.length; ++i) {\n",
       "                    if (nbb_cells[i].input_prompt_number == nbb_cell_id) {\n",
       "                        if (nbb_cells[i].get_text() == nbb_unformatted_code) {\n",
       "                             nbb_cells[i].set_text(nbb_formatted_code);\n",
       "                        }\n",
       "                        break;\n",
       "                    }\n",
       "                }\n",
       "            }, 500);\n",
       "            "
      ],
      "text/plain": [
       "<IPython.core.display.Javascript object>"
      ]
     },
     "metadata": {},
     "output_type": "display_data"
    }
   ],
   "source": [
    "try:\n",
    "    import empiricaldist\n",
    "except ImportError:\n",
    "    !pip install empiricaldist"
   ]
  },
  {
   "cell_type": "code",
   "execution_count": 4,
   "id": "c826e189",
   "metadata": {},
   "outputs": [
    {
     "data": {
      "application/javascript": [
       "\n",
       "            setTimeout(function() {\n",
       "                var nbb_cell_id = 4;\n",
       "                var nbb_unformatted_code = \"import numpy as np\\nimport pandas as pd\\nimport matplotlib.pyplot as plt\\n\\nfrom thinkstats import decorate\";\n",
       "                var nbb_formatted_code = \"import numpy as np\\nimport pandas as pd\\nimport matplotlib.pyplot as plt\\n\\nfrom thinkstats import decorate\";\n",
       "                var nbb_cells = Jupyter.notebook.get_cells();\n",
       "                for (var i = 0; i < nbb_cells.length; ++i) {\n",
       "                    if (nbb_cells[i].input_prompt_number == nbb_cell_id) {\n",
       "                        if (nbb_cells[i].get_text() == nbb_unformatted_code) {\n",
       "                             nbb_cells[i].set_text(nbb_formatted_code);\n",
       "                        }\n",
       "                        break;\n",
       "                    }\n",
       "                }\n",
       "            }, 500);\n",
       "            "
      ],
      "text/plain": [
       "<IPython.core.display.Javascript object>"
      ]
     },
     "metadata": {},
     "output_type": "display_data"
    }
   ],
   "source": [
    "import numpy as np\n",
    "import pandas as pd\n",
    "import matplotlib.pyplot as plt\n",
    "\n",
    "from thinkstats import decorate"
   ]
  },
  {
   "cell_type": "markdown",
   "id": "df42f753",
   "metadata": {},
   "source": [
    "## Scatter Plots\n",
    "\n",
    "If you meet someone who is unusually good at math, do you expect their verbal skills to be better or worse than average?\n",
    "On one hand, you might imagine that people specialize in one area or the other, so someone who excels at one might be less good at the other.\n",
    "On the other hand, you might expect someone who is generally smart to be above average in both areas.\n",
    "Let's find out which is true.\n",
    "\n",
    "We'll use data from the National Longitudinal Survey of Youth 1997 (NLSY97), which \"follows the lives of a sample of 8,984 American youth born between 1980-84\". \n",
    "The public data set includes the participants' scores on several standardized tests, including the tests most often used in college admissions, the SAT and ACT.\n",
    "Because test-takers get separate scores for the math and verbal sections, we can use this data to explore the relationship between mathematical and verbal ability.\n",
    "\n",
    "I used the NLS Investigator to create excerpt that contains the variables I'll use for this analysis.\n",
    "With their permission, I can redistribute this except. \n",
    "We can use `read_csv` to read the data and `replace` to replace the special codes for missing data with `np.nan`."
   ]
  },
  {
   "cell_type": "code",
   "execution_count": 5,
   "id": "c8e375cd",
   "metadata": {
    "tags": [
     "remove-print"
    ]
   },
   "outputs": [
    {
     "data": {
      "application/javascript": [
       "\n",
       "            setTimeout(function() {\n",
       "                var nbb_cell_id = 5;\n",
       "                var nbb_unformatted_code = \"download(\\\"https://github.com/AllenDowney/ThinkStats/raw/v3/data/nlsy97-extract.csv.gz\\\")\";\n",
       "                var nbb_formatted_code = \"download(\\\"https://github.com/AllenDowney/ThinkStats/raw/v3/data/nlsy97-extract.csv.gz\\\")\";\n",
       "                var nbb_cells = Jupyter.notebook.get_cells();\n",
       "                for (var i = 0; i < nbb_cells.length; ++i) {\n",
       "                    if (nbb_cells[i].input_prompt_number == nbb_cell_id) {\n",
       "                        if (nbb_cells[i].get_text() == nbb_unformatted_code) {\n",
       "                             nbb_cells[i].set_text(nbb_formatted_code);\n",
       "                        }\n",
       "                        break;\n",
       "                    }\n",
       "                }\n",
       "            }, 500);\n",
       "            "
      ],
      "text/plain": [
       "<IPython.core.display.Javascript object>"
      ]
     },
     "metadata": {},
     "output_type": "display_data"
    }
   ],
   "source": [
    "download(\"https://github.com/AllenDowney/ThinkStats/raw/v3/data/nlsy97-extract.csv.gz\")"
   ]
  },
  {
   "cell_type": "code",
   "execution_count": 6,
   "id": "5395bff6",
   "metadata": {},
   "outputs": [
    {
     "data": {
      "text/plain": [
       "(8984, 34)"
      ]
     },
     "execution_count": 6,
     "metadata": {},
     "output_type": "execute_result"
    },
    {
     "data": {
      "application/javascript": [
       "\n",
       "            setTimeout(function() {\n",
       "                var nbb_cell_id = 6;\n",
       "                var nbb_unformatted_code = \"missing_codes = [-1, -2, -3, -4, -5]\\nnlsy = pd.read_csv(\\\"nlsy97-extract.csv.gz\\\").replace(missing_codes, np.nan)\\nnlsy.shape\";\n",
       "                var nbb_formatted_code = \"missing_codes = [-1, -2, -3, -4, -5]\\nnlsy = pd.read_csv(\\\"nlsy97-extract.csv.gz\\\").replace(missing_codes, np.nan)\\nnlsy.shape\";\n",
       "                var nbb_cells = Jupyter.notebook.get_cells();\n",
       "                for (var i = 0; i < nbb_cells.length; ++i) {\n",
       "                    if (nbb_cells[i].input_prompt_number == nbb_cell_id) {\n",
       "                        if (nbb_cells[i].get_text() == nbb_unformatted_code) {\n",
       "                             nbb_cells[i].set_text(nbb_formatted_code);\n",
       "                        }\n",
       "                        break;\n",
       "                    }\n",
       "                }\n",
       "            }, 500);\n",
       "            "
      ],
      "text/plain": [
       "<IPython.core.display.Javascript object>"
      ]
     },
     "metadata": {},
     "output_type": "display_data"
    }
   ],
   "source": [
    "missing_codes = [-1, -2, -3, -4, -5]\n",
    "nlsy = pd.read_csv(\"nlsy97-extract.csv.gz\").replace(missing_codes, np.nan)\n",
    "nlsy.shape"
   ]
  },
  {
   "cell_type": "code",
   "execution_count": 7,
   "id": "76e92c9c",
   "metadata": {},
   "outputs": [
    {
     "data": {
      "text/plain": [
       "array([[1.        , 0.30338587],\n",
       "       [0.30338587, 1.        ]])"
      ]
     },
     "execution_count": 7,
     "metadata": {},
     "output_type": "execute_result"
    },
    {
     "data": {
      "application/javascript": [
       "\n",
       "            setTimeout(function() {\n",
       "                var nbb_cell_id = 7;\n",
       "                var nbb_unformatted_code = \"xvar = \\\"R1318200\\\"\\nyvar = \\\"U4949700\\\"\\n\\nvalid = nlsy.dropna(subset=[xvar, yvar])\\nnp.corrcoef(valid[xvar], valid[yvar])\";\n",
       "                var nbb_formatted_code = \"xvar = \\\"R1318200\\\"\\nyvar = \\\"U4949700\\\"\\n\\nvalid = nlsy.dropna(subset=[xvar, yvar])\\nnp.corrcoef(valid[xvar], valid[yvar])\";\n",
       "                var nbb_cells = Jupyter.notebook.get_cells();\n",
       "                for (var i = 0; i < nbb_cells.length; ++i) {\n",
       "                    if (nbb_cells[i].input_prompt_number == nbb_cell_id) {\n",
       "                        if (nbb_cells[i].get_text() == nbb_unformatted_code) {\n",
       "                             nbb_cells[i].set_text(nbb_formatted_code);\n",
       "                        }\n",
       "                        break;\n",
       "                    }\n",
       "                }\n",
       "            }, 500);\n",
       "            "
      ],
      "text/plain": [
       "<IPython.core.display.Javascript object>"
      ]
     },
     "metadata": {},
     "output_type": "display_data"
    }
   ],
   "source": [
    "xvar = \"R1318200\"\n",
    "yvar = \"U4949700\"\n",
    "\n",
    "valid = nlsy.dropna(subset=[xvar, yvar])\n",
    "np.corrcoef(valid[xvar], valid[yvar])"
   ]
  },
  {
   "cell_type": "code",
   "execution_count": 8,
   "id": "80f09e49",
   "metadata": {
    "tags": [
     "remove-print"
    ]
   },
   "outputs": [
    {
     "data": {
      "text/html": [
       "<div>\n",
       "<style scoped>\n",
       "    .dataframe tbody tr th:only-of-type {\n",
       "        vertical-align: middle;\n",
       "    }\n",
       "\n",
       "    .dataframe tbody tr th {\n",
       "        vertical-align: top;\n",
       "    }\n",
       "\n",
       "    .dataframe thead th {\n",
       "        text-align: right;\n",
       "    }\n",
       "</style>\n",
       "<table border=\"1\" class=\"dataframe\">\n",
       "  <thead>\n",
       "    <tr style=\"text-align: right;\">\n",
       "      <th></th>\n",
       "      <th>R0000100</th>\n",
       "      <th>R0490200</th>\n",
       "      <th>R0536300</th>\n",
       "      <th>R0536401</th>\n",
       "      <th>R0536402</th>\n",
       "      <th>R1235800</th>\n",
       "      <th>R1318200</th>\n",
       "      <th>R1482600</th>\n",
       "      <th>R3961900</th>\n",
       "      <th>R3989200</th>\n",
       "      <th>...</th>\n",
       "      <th>R9872200</th>\n",
       "      <th>R9872300</th>\n",
       "      <th>R9872400</th>\n",
       "      <th>S1552700</th>\n",
       "      <th>U0008900</th>\n",
       "      <th>U1845500</th>\n",
       "      <th>U3444000</th>\n",
       "      <th>U4949700</th>\n",
       "      <th>Z9083800</th>\n",
       "      <th>Z9083900</th>\n",
       "    </tr>\n",
       "  </thead>\n",
       "  <tbody>\n",
       "    <tr>\n",
       "      <th>0</th>\n",
       "      <td>1</td>\n",
       "      <td>NaN</td>\n",
       "      <td>2</td>\n",
       "      <td>9</td>\n",
       "      <td>1981</td>\n",
       "      <td>1</td>\n",
       "      <td>NaN</td>\n",
       "      <td>4</td>\n",
       "      <td>NaN</td>\n",
       "      <td>NaN</td>\n",
       "      <td>...</td>\n",
       "      <td>293.0</td>\n",
       "      <td>250.0</td>\n",
       "      <td>333.0</td>\n",
       "      <td>NaN</td>\n",
       "      <td>120000.0</td>\n",
       "      <td>NaN</td>\n",
       "      <td>NaN</td>\n",
       "      <td>NaN</td>\n",
       "      <td>16.0</td>\n",
       "      <td>4.0</td>\n",
       "    </tr>\n",
       "    <tr>\n",
       "      <th>1</th>\n",
       "      <td>2</td>\n",
       "      <td>NaN</td>\n",
       "      <td>1</td>\n",
       "      <td>7</td>\n",
       "      <td>1982</td>\n",
       "      <td>1</td>\n",
       "      <td>145.0</td>\n",
       "      <td>2</td>\n",
       "      <td>NaN</td>\n",
       "      <td>NaN</td>\n",
       "      <td>...</td>\n",
       "      <td>114.0</td>\n",
       "      <td>230.0</td>\n",
       "      <td>143.0</td>\n",
       "      <td>NaN</td>\n",
       "      <td>98928.0</td>\n",
       "      <td>116000.0</td>\n",
       "      <td>188857.0</td>\n",
       "      <td>180000.0</td>\n",
       "      <td>14.0</td>\n",
       "      <td>2.0</td>\n",
       "    </tr>\n",
       "    <tr>\n",
       "      <th>2</th>\n",
       "      <td>3</td>\n",
       "      <td>NaN</td>\n",
       "      <td>2</td>\n",
       "      <td>9</td>\n",
       "      <td>1983</td>\n",
       "      <td>1</td>\n",
       "      <td>82.0</td>\n",
       "      <td>2</td>\n",
       "      <td>NaN</td>\n",
       "      <td>NaN</td>\n",
       "      <td>...</td>\n",
       "      <td>NaN</td>\n",
       "      <td>NaN</td>\n",
       "      <td>NaN</td>\n",
       "      <td>NaN</td>\n",
       "      <td>NaN</td>\n",
       "      <td>NaN</td>\n",
       "      <td>NaN</td>\n",
       "      <td>75000.0</td>\n",
       "      <td>16.0</td>\n",
       "      <td>4.0</td>\n",
       "    </tr>\n",
       "    <tr>\n",
       "      <th>3</th>\n",
       "      <td>4</td>\n",
       "      <td>NaN</td>\n",
       "      <td>2</td>\n",
       "      <td>2</td>\n",
       "      <td>1981</td>\n",
       "      <td>1</td>\n",
       "      <td>NaN</td>\n",
       "      <td>2</td>\n",
       "      <td>NaN</td>\n",
       "      <td>NaN</td>\n",
       "      <td>...</td>\n",
       "      <td>195.0</td>\n",
       "      <td>230.0</td>\n",
       "      <td>216.0</td>\n",
       "      <td>NaN</td>\n",
       "      <td>85000.0</td>\n",
       "      <td>45000.0</td>\n",
       "      <td>NaN</td>\n",
       "      <td>NaN</td>\n",
       "      <td>13.0</td>\n",
       "      <td>2.0</td>\n",
       "    </tr>\n",
       "    <tr>\n",
       "      <th>4</th>\n",
       "      <td>5</td>\n",
       "      <td>NaN</td>\n",
       "      <td>1</td>\n",
       "      <td>10</td>\n",
       "      <td>1982</td>\n",
       "      <td>1</td>\n",
       "      <td>NaN</td>\n",
       "      <td>2</td>\n",
       "      <td>NaN</td>\n",
       "      <td>NaN</td>\n",
       "      <td>...</td>\n",
       "      <td>293.0</td>\n",
       "      <td>230.0</td>\n",
       "      <td>231.0</td>\n",
       "      <td>NaN</td>\n",
       "      <td>210000.0</td>\n",
       "      <td>212000.0</td>\n",
       "      <td>NaN</td>\n",
       "      <td>240000.0</td>\n",
       "      <td>12.0</td>\n",
       "      <td>2.0</td>\n",
       "    </tr>\n",
       "  </tbody>\n",
       "</table>\n",
       "<p>5 rows × 34 columns</p>\n",
       "</div>"
      ],
      "text/plain": [
       "   R0000100  R0490200  R0536300  R0536401  R0536402  R1235800  R1318200  \\\n",
       "0         1       NaN         2         9      1981         1       NaN   \n",
       "1         2       NaN         1         7      1982         1     145.0   \n",
       "2         3       NaN         2         9      1983         1      82.0   \n",
       "3         4       NaN         2         2      1981         1       NaN   \n",
       "4         5       NaN         1        10      1982         1       NaN   \n",
       "\n",
       "   R1482600  R3961900  R3989200  ...  R9872200  R9872300  R9872400  S1552700  \\\n",
       "0         4       NaN       NaN  ...     293.0     250.0     333.0       NaN   \n",
       "1         2       NaN       NaN  ...     114.0     230.0     143.0       NaN   \n",
       "2         2       NaN       NaN  ...       NaN       NaN       NaN       NaN   \n",
       "3         2       NaN       NaN  ...     195.0     230.0     216.0       NaN   \n",
       "4         2       NaN       NaN  ...     293.0     230.0     231.0       NaN   \n",
       "\n",
       "   U0008900  U1845500  U3444000  U4949700  Z9083800  Z9083900  \n",
       "0  120000.0       NaN       NaN       NaN      16.0       4.0  \n",
       "1   98928.0  116000.0  188857.0  180000.0      14.0       2.0  \n",
       "2       NaN       NaN       NaN   75000.0      16.0       4.0  \n",
       "3   85000.0   45000.0       NaN       NaN      13.0       2.0  \n",
       "4  210000.0  212000.0       NaN  240000.0      12.0       2.0  \n",
       "\n",
       "[5 rows x 34 columns]"
      ]
     },
     "execution_count": 8,
     "metadata": {},
     "output_type": "execute_result"
    },
    {
     "data": {
      "application/javascript": [
       "\n",
       "            setTimeout(function() {\n",
       "                var nbb_cell_id = 8;\n",
       "                var nbb_unformatted_code = \"nlsy.head()\";\n",
       "                var nbb_formatted_code = \"nlsy.head()\";\n",
       "                var nbb_cells = Jupyter.notebook.get_cells();\n",
       "                for (var i = 0; i < nbb_cells.length; ++i) {\n",
       "                    if (nbb_cells[i].input_prompt_number == nbb_cell_id) {\n",
       "                        if (nbb_cells[i].get_text() == nbb_unformatted_code) {\n",
       "                             nbb_cells[i].set_text(nbb_formatted_code);\n",
       "                        }\n",
       "                        break;\n",
       "                    }\n",
       "                }\n",
       "            }, 500);\n",
       "            "
      ],
      "text/plain": [
       "<IPython.core.display.Javascript object>"
      ]
     },
     "metadata": {},
     "output_type": "display_data"
    }
   ],
   "source": [
    "nlsy.head()"
   ]
  },
  {
   "cell_type": "markdown",
   "id": "164d0fd5",
   "metadata": {},
   "source": [
    "The `DataFrame` contains one row for each of the 8984 participants in the survey and one column for each of the 34 variables I selected.\n",
    "The column names don't mean much by themselves, but we can replace the ones we use with more interpretable names."
   ]
  },
  {
   "cell_type": "code",
   "execution_count": 9,
   "id": "4fc65d7e",
   "metadata": {},
   "outputs": [
    {
     "data": {
      "application/javascript": [
       "\n",
       "            setTimeout(function() {\n",
       "                var nbb_cell_id = 9;\n",
       "                var nbb_unformatted_code = \"nlsy[\\\"sat_verbal\\\"] =nlsy[\\\"R9793800\\\"]\\nnlsy[\\\"sat_math\\\"] = nlsy[\\\"R9793900\\\"]\";\n",
       "                var nbb_formatted_code = \"nlsy[\\\"sat_verbal\\\"] = nlsy[\\\"R9793800\\\"]\\nnlsy[\\\"sat_math\\\"] = nlsy[\\\"R9793900\\\"]\";\n",
       "                var nbb_cells = Jupyter.notebook.get_cells();\n",
       "                for (var i = 0; i < nbb_cells.length; ++i) {\n",
       "                    if (nbb_cells[i].input_prompt_number == nbb_cell_id) {\n",
       "                        if (nbb_cells[i].get_text() == nbb_unformatted_code) {\n",
       "                             nbb_cells[i].set_text(nbb_formatted_code);\n",
       "                        }\n",
       "                        break;\n",
       "                    }\n",
       "                }\n",
       "            }, 500);\n",
       "            "
      ],
      "text/plain": [
       "<IPython.core.display.Javascript object>"
      ]
     },
     "metadata": {},
     "output_type": "display_data"
    }
   ],
   "source": [
    "nlsy[\"sat_verbal\"] = nlsy[\"R9793800\"]\n",
    "nlsy[\"sat_math\"] = nlsy[\"R9793900\"]"
   ]
  },
  {
   "cell_type": "markdown",
   "id": "123a6b38",
   "metadata": {},
   "source": [
    "Both columns contain a few values less than 200, which is not possible because 200 is the lowest score, so we'll replace them with `np.nan`."
   ]
  },
  {
   "cell_type": "code",
   "execution_count": 10,
   "id": "75f0085d",
   "metadata": {},
   "outputs": [
    {
     "data": {
      "application/javascript": [
       "\n",
       "            setTimeout(function() {\n",
       "                var nbb_cell_id = 10;\n",
       "                var nbb_unformatted_code = \"columns = [\\\"sat_verbal\\\", \\\"sat_math\\\"]\\n\\nfor column in columns:\\n    invalid = nlsy[column] < 200\\n    nlsy.loc[invalid, column] = np.nan\";\n",
       "                var nbb_formatted_code = \"columns = [\\\"sat_verbal\\\", \\\"sat_math\\\"]\\n\\nfor column in columns:\\n    invalid = nlsy[column] < 200\\n    nlsy.loc[invalid, column] = np.nan\";\n",
       "                var nbb_cells = Jupyter.notebook.get_cells();\n",
       "                for (var i = 0; i < nbb_cells.length; ++i) {\n",
       "                    if (nbb_cells[i].input_prompt_number == nbb_cell_id) {\n",
       "                        if (nbb_cells[i].get_text() == nbb_unformatted_code) {\n",
       "                             nbb_cells[i].set_text(nbb_formatted_code);\n",
       "                        }\n",
       "                        break;\n",
       "                    }\n",
       "                }\n",
       "            }, 500);\n",
       "            "
      ],
      "text/plain": [
       "<IPython.core.display.Javascript object>"
      ]
     },
     "metadata": {},
     "output_type": "display_data"
    }
   ],
   "source": [
    "columns = [\"sat_verbal\", \"sat_math\"]\n",
    "\n",
    "for column in columns:\n",
    "    invalid = nlsy[column] < 200\n",
    "    nlsy.loc[invalid, column] = np.nan"
   ]
  },
  {
   "cell_type": "markdown",
   "id": "41efbdaf",
   "metadata": {},
   "source": [
    "Next we'll use `dropna` to select only rows where both scores are valid."
   ]
  },
  {
   "cell_type": "code",
   "execution_count": 11,
   "id": "6f3d8b49",
   "metadata": {},
   "outputs": [
    {
     "data": {
      "text/plain": [
       "(1398, 36)"
      ]
     },
     "execution_count": 11,
     "metadata": {},
     "output_type": "execute_result"
    },
    {
     "data": {
      "application/javascript": [
       "\n",
       "            setTimeout(function() {\n",
       "                var nbb_cell_id = 11;\n",
       "                var nbb_unformatted_code = \"nlsy_valid = nlsy.dropna(subset=columns).copy()\\nnlsy_valid.shape\";\n",
       "                var nbb_formatted_code = \"nlsy_valid = nlsy.dropna(subset=columns).copy()\\nnlsy_valid.shape\";\n",
       "                var nbb_cells = Jupyter.notebook.get_cells();\n",
       "                for (var i = 0; i < nbb_cells.length; ++i) {\n",
       "                    if (nbb_cells[i].input_prompt_number == nbb_cell_id) {\n",
       "                        if (nbb_cells[i].get_text() == nbb_unformatted_code) {\n",
       "                             nbb_cells[i].set_text(nbb_formatted_code);\n",
       "                        }\n",
       "                        break;\n",
       "                    }\n",
       "                }\n",
       "            }, 500);\n",
       "            "
      ],
      "text/plain": [
       "<IPython.core.display.Javascript object>"
      ]
     },
     "metadata": {},
     "output_type": "display_data"
    }
   ],
   "source": [
    "nlsy_valid = nlsy.dropna(subset=columns).copy()\n",
    "nlsy_valid.shape"
   ]
  },
  {
   "cell_type": "markdown",
   "id": "16a23c87",
   "metadata": {},
   "source": [
    "SAT scores are standardized so the mean is 500 and the standard deviation is 100.\n",
    "In the NLSY sample, the means and standard deviations are close to these values."
   ]
  },
  {
   "cell_type": "code",
   "execution_count": 12,
   "id": "0d31de9e",
   "metadata": {},
   "outputs": [
    {
     "data": {
      "text/plain": [
       "(501.80972818311875, 108.36562024213643)"
      ]
     },
     "execution_count": 12,
     "metadata": {},
     "output_type": "execute_result"
    },
    {
     "data": {
      "application/javascript": [
       "\n",
       "            setTimeout(function() {\n",
       "                var nbb_cell_id = 12;\n",
       "                var nbb_unformatted_code = \"sat_verbal = nlsy_valid[\\\"sat_verbal\\\"]\\nsat_verbal.mean(), sat_verbal.std()\";\n",
       "                var nbb_formatted_code = \"sat_verbal = nlsy_valid[\\\"sat_verbal\\\"]\\nsat_verbal.mean(), sat_verbal.std()\";\n",
       "                var nbb_cells = Jupyter.notebook.get_cells();\n",
       "                for (var i = 0; i < nbb_cells.length; ++i) {\n",
       "                    if (nbb_cells[i].input_prompt_number == nbb_cell_id) {\n",
       "                        if (nbb_cells[i].get_text() == nbb_unformatted_code) {\n",
       "                             nbb_cells[i].set_text(nbb_formatted_code);\n",
       "                        }\n",
       "                        break;\n",
       "                    }\n",
       "                }\n",
       "            }, 500);\n",
       "            "
      ],
      "text/plain": [
       "<IPython.core.display.Javascript object>"
      ]
     },
     "metadata": {},
     "output_type": "display_data"
    }
   ],
   "source": [
    "sat_verbal = nlsy_valid[\"sat_verbal\"]\n",
    "sat_verbal.mean(), sat_verbal.std()"
   ]
  },
  {
   "cell_type": "code",
   "execution_count": 13,
   "id": "4a984b59",
   "metadata": {},
   "outputs": [
    {
     "data": {
      "text/plain": [
       "(503.0829756795422, 109.8329973731453)"
      ]
     },
     "execution_count": 13,
     "metadata": {},
     "output_type": "execute_result"
    },
    {
     "data": {
      "application/javascript": [
       "\n",
       "            setTimeout(function() {\n",
       "                var nbb_cell_id = 13;\n",
       "                var nbb_unformatted_code = \"sat_math = nlsy_valid[\\\"sat_math\\\"]\\nsat_math.mean(), sat_math.std()\";\n",
       "                var nbb_formatted_code = \"sat_math = nlsy_valid[\\\"sat_math\\\"]\\nsat_math.mean(), sat_math.std()\";\n",
       "                var nbb_cells = Jupyter.notebook.get_cells();\n",
       "                for (var i = 0; i < nbb_cells.length; ++i) {\n",
       "                    if (nbb_cells[i].input_prompt_number == nbb_cell_id) {\n",
       "                        if (nbb_cells[i].get_text() == nbb_unformatted_code) {\n",
       "                             nbb_cells[i].set_text(nbb_formatted_code);\n",
       "                        }\n",
       "                        break;\n",
       "                    }\n",
       "                }\n",
       "            }, 500);\n",
       "            "
      ],
      "text/plain": [
       "<IPython.core.display.Javascript object>"
      ]
     },
     "metadata": {},
     "output_type": "display_data"
    }
   ],
   "source": [
    "sat_math = nlsy_valid[\"sat_math\"]\n",
    "sat_math.mean(), sat_math.std()"
   ]
  },
  {
   "cell_type": "markdown",
   "id": "3c079e47",
   "metadata": {},
   "source": [
    "Now, to see whether there is a relationship between these variables, let's look at a **scatter plot**."
   ]
  },
  {
   "cell_type": "code",
   "execution_count": 14,
   "id": "f2e362ab",
   "metadata": {},
   "outputs": [
    {
     "data": {
      "image/png": "[encoded data removed]",
      "text/plain": [
       "<Figure size 450x262.5 with 1 Axes>"
      ]
     },
     "metadata": {},
     "output_type": "display_data"
    },
    {
     "data": {
      "application/javascript": [
       "\n",
       "            setTimeout(function() {\n",
       "                var nbb_cell_id = 14;\n",
       "                var nbb_unformatted_code = \"plt.scatter(sat_verbal, sat_math)\\n\\ndecorate(xlabel=\\\"SAT Verbal\\\", ylabel=\\\"SAT Math\\\")\";\n",
       "                var nbb_formatted_code = \"plt.scatter(sat_verbal, sat_math)\\n\\ndecorate(xlabel=\\\"SAT Verbal\\\", ylabel=\\\"SAT Math\\\")\";\n",
       "                var nbb_cells = Jupyter.notebook.get_cells();\n",
       "                for (var i = 0; i < nbb_cells.length; ++i) {\n",
       "                    if (nbb_cells[i].input_prompt_number == nbb_cell_id) {\n",
       "                        if (nbb_cells[i].get_text() == nbb_unformatted_code) {\n",
       "                             nbb_cells[i].set_text(nbb_formatted_code);\n",
       "                        }\n",
       "                        break;\n",
       "                    }\n",
       "                }\n",
       "            }, 500);\n",
       "            "
      ],
      "text/plain": [
       "<IPython.core.display.Javascript object>"
      ]
     },
     "metadata": {},
     "output_type": "display_data"
    }
   ],
   "source": [
    "plt.scatter(sat_verbal, sat_math)\n",
    "\n",
    "decorate(xlabel=\"SAT Verbal\", ylabel=\"SAT Math\")"
   ]
  },
  {
   "cell_type": "markdown",
   "id": "39524848",
   "metadata": {},
   "source": [
    "Using the default options of the `scatter` function, we can see the general shape of the relationship.\n",
    "People who do well on one section of the test tend to do better on the other, too.\n",
    "\n",
    "However, this version of the figure is **overplotted**, which means there are a lot of overlapping points, which can create a misleading impression of the relationship.\n",
    "The center, where the density of points is highest, is not as dark as it should be; by comparison, the extreme values are darker than they should be.\n",
    "Overplotting tend to give too much visual weight to outliers.\n",
    "\n",
    "We can improve the plot by reducing the marker size so they overlap less."
   ]
  },
  {
   "cell_type": "code",
   "execution_count": 15,
   "id": "f658d7ae",
   "metadata": {},
   "outputs": [
    {
     "data": {
      "image/png": "[encoded data removed]",
      "text/plain": [
       "<Figure size 450x262.5 with 1 Axes>"
      ]
     },
     "metadata": {},
     "output_type": "display_data"
    },
    {
     "data": {
      "application/javascript": [
       "\n",
       "            setTimeout(function() {\n",
       "                var nbb_cell_id = 15;\n",
       "                var nbb_unformatted_code = \"plt.scatter(sat_verbal, sat_math, s=5)\\n\\ndecorate(xlabel=\\\"SAT Verbal\\\", ylabel=\\\"SAT Math\\\")\";\n",
       "                var nbb_formatted_code = \"plt.scatter(sat_verbal, sat_math, s=5)\\n\\ndecorate(xlabel=\\\"SAT Verbal\\\", ylabel=\\\"SAT Math\\\")\";\n",
       "                var nbb_cells = Jupyter.notebook.get_cells();\n",
       "                for (var i = 0; i < nbb_cells.length; ++i) {\n",
       "                    if (nbb_cells[i].input_prompt_number == nbb_cell_id) {\n",
       "                        if (nbb_cells[i].get_text() == nbb_unformatted_code) {\n",
       "                             nbb_cells[i].set_text(nbb_formatted_code);\n",
       "                        }\n",
       "                        break;\n",
       "                    }\n",
       "                }\n",
       "            }, 500);\n",
       "            "
      ],
      "text/plain": [
       "<IPython.core.display.Javascript object>"
      ]
     },
     "metadata": {},
     "output_type": "display_data"
    }
   ],
   "source": [
    "plt.scatter(sat_verbal, sat_math, s=5)\n",
    "\n",
    "decorate(xlabel=\"SAT Verbal\", ylabel=\"SAT Math\")"
   ]
  },
  {
   "cell_type": "markdown",
   "id": "fac65084",
   "metadata": {},
   "source": [
    "Now we can see that the markers are aligned in rows and columns, because scores are rounded off to the nearest multiple of 10.\n",
    "Some information is lost in the process.\n",
    "\n",
    "We can't get that information back, but we can minimize the effect on the scatter plot by **jittering** the data, which means adding random noise to reverse the effect of rounding off.\n",
    "The following function takes a sequence and jitters it by adding random values from a normal distribution with mean 0 and the given standard deviation."
   ]
  },
  {
   "cell_type": "code",
   "execution_count": 16,
   "id": "d2de395a",
   "metadata": {},
   "outputs": [
    {
     "data": {
      "application/javascript": [
       "\n",
       "            setTimeout(function() {\n",
       "                var nbb_cell_id = 16;\n",
       "                var nbb_unformatted_code = \"def jitter(seq, std=1):\\n    \\\"\\\"\\\"Jitters the values by adding random Gaussian noise.\\n\\n    seq: sequence of numbers\\n    std: standard deviation of the added noise\\n\\n    returns: new Numpy array\\n    \\\"\\\"\\\"\\n    n = len(seq)\\n    return np.random.normal(0, std, n) + seq\";\n",
       "                var nbb_formatted_code = \"def jitter(seq, std=1):\\n    \\\"\\\"\\\"Jitters the values by adding random Gaussian noise.\\n\\n    seq: sequence of numbers\\n    std: standard deviation of the added noise\\n\\n    returns: new Numpy array\\n    \\\"\\\"\\\"\\n    n = len(seq)\\n    return np.random.normal(0, std, n) + seq\";\n",
       "                var nbb_cells = Jupyter.notebook.get_cells();\n",
       "                for (var i = 0; i < nbb_cells.length; ++i) {\n",
       "                    if (nbb_cells[i].input_prompt_number == nbb_cell_id) {\n",
       "                        if (nbb_cells[i].get_text() == nbb_unformatted_code) {\n",
       "                             nbb_cells[i].set_text(nbb_formatted_code);\n",
       "                        }\n",
       "                        break;\n",
       "                    }\n",
       "                }\n",
       "            }, 500);\n",
       "            "
      ],
      "text/plain": [
       "<IPython.core.display.Javascript object>"
      ]
     },
     "metadata": {},
     "output_type": "display_data"
    }
   ],
   "source": [
    "def jitter(seq, std=1):\n",
    "    \"\"\"Jitters the values by adding random Gaussian noise.\n",
    "\n",
    "    seq: sequence of numbers\n",
    "    std: standard deviation of the added noise\n",
    "\n",
    "    returns: new Numpy array\n",
    "    \"\"\"\n",
    "    n = len(seq)\n",
    "    return np.random.normal(0, std, n) + seq"
   ]
  },
  {
   "cell_type": "markdown",
   "id": "696a9d53",
   "metadata": {},
   "source": [
    "If we jitter the scores with a standard deviation of 3, the rows and columns are no longer visible in the scatter plot."
   ]
  },
  {
   "cell_type": "code",
   "execution_count": 17,
   "id": "30e7bb4a",
   "metadata": {},
   "outputs": [
    {
     "data": {
      "application/javascript": [
       "\n",
       "            setTimeout(function() {\n",
       "                var nbb_cell_id = 17;\n",
       "                var nbb_unformatted_code = \"sat_verbal_jittered = jitter(sat_verbal, 3)\\nsat_math_jittered = jitter(sat_math, 3)\";\n",
       "                var nbb_formatted_code = \"sat_verbal_jittered = jitter(sat_verbal, 3)\\nsat_math_jittered = jitter(sat_math, 3)\";\n",
       "                var nbb_cells = Jupyter.notebook.get_cells();\n",
       "                for (var i = 0; i < nbb_cells.length; ++i) {\n",
       "                    if (nbb_cells[i].input_prompt_number == nbb_cell_id) {\n",
       "                        if (nbb_cells[i].get_text() == nbb_unformatted_code) {\n",
       "                             nbb_cells[i].set_text(nbb_formatted_code);\n",
       "                        }\n",
       "                        break;\n",
       "                    }\n",
       "                }\n",
       "            }, 500);\n",
       "            "
      ],
      "text/plain": [
       "<IPython.core.display.Javascript object>"
      ]
     },
     "metadata": {},
     "output_type": "display_data"
    }
   ],
   "source": [
    "sat_verbal_jittered = jitter(sat_verbal, 3)\n",
    "sat_math_jittered = jitter(sat_math, 3)"
   ]
  },
  {
   "cell_type": "code",
   "execution_count": 18,
   "id": "feb909a3",
   "metadata": {},
   "outputs": [
    {
     "data": {
      "image/png": "[encoded data removed]",
      "text/plain": [
       "<Figure size 450x262.5 with 1 Axes>"
      ]
     },
     "metadata": {},
     "output_type": "display_data"
    },
    {
     "data": {
      "application/javascript": [
       "\n",
       "            setTimeout(function() {\n",
       "                var nbb_cell_id = 18;\n",
       "                var nbb_unformatted_code = \"plt.scatter(sat_verbal_jittered, sat_math_jittered, s=5)\\n\\ndecorate(xlabel=\\\"SAT Verbal\\\", ylabel=\\\"SAT Math\\\")\";\n",
       "                var nbb_formatted_code = \"plt.scatter(sat_verbal_jittered, sat_math_jittered, s=5)\\n\\ndecorate(xlabel=\\\"SAT Verbal\\\", ylabel=\\\"SAT Math\\\")\";\n",
       "                var nbb_cells = Jupyter.notebook.get_cells();\n",
       "                for (var i = 0; i < nbb_cells.length; ++i) {\n",
       "                    if (nbb_cells[i].input_prompt_number == nbb_cell_id) {\n",
       "                        if (nbb_cells[i].get_text() == nbb_unformatted_code) {\n",
       "                             nbb_cells[i].set_text(nbb_formatted_code);\n",
       "                        }\n",
       "                        break;\n",
       "                    }\n",
       "                }\n",
       "            }, 500);\n",
       "            "
      ],
      "text/plain": [
       "<IPython.core.display.Javascript object>"
      ]
     },
     "metadata": {},
     "output_type": "display_data"
    }
   ],
   "source": [
    "plt.scatter(sat_verbal_jittered, sat_math_jittered, s=5)\n",
    "\n",
    "decorate(xlabel=\"SAT Verbal\", ylabel=\"SAT Math\")"
   ]
  },
  {
   "cell_type": "markdown",
   "id": "d7ef7d8f",
   "metadata": {},
   "source": [
    "Jittering reduces the visual effect of rounding and makes the shape of the relationship clearer.\n",
    "But in general you should only jitter data for purposes of visualization and avoid using jittered data for analysis.\n",
    "\n",
    "In this example, even after adjusting the marker size and jittering the data, there is still some overplotting.\n",
    "So let's try one more thing: we can use the `alpha` parameter to make the markers partly transparent."
   ]
  },
  {
   "cell_type": "code",
   "execution_count": 19,
   "id": "267e85f3",
   "metadata": {},
   "outputs": [
    {
     "data": {
      "image/png": "[encoded data removed]",
      "text/plain": [
       "<Figure size 450x262.5 with 1 Axes>"
      ]
     },
     "metadata": {},
     "output_type": "display_data"
    },
    {
     "data": {
      "application/javascript": [
       "\n",
       "            setTimeout(function() {\n",
       "                var nbb_cell_id = 19;\n",
       "                var nbb_unformatted_code = \"plt.scatter(sat_verbal_jittered, sat_math_jittered, s=5, alpha=0.2)\\n\\ndecorate(xlabel=\\\"SAT Verbal\\\", ylabel=\\\"SAT Math\\\")\";\n",
       "                var nbb_formatted_code = \"plt.scatter(sat_verbal_jittered, sat_math_jittered, s=5, alpha=0.2)\\n\\ndecorate(xlabel=\\\"SAT Verbal\\\", ylabel=\\\"SAT Math\\\")\";\n",
       "                var nbb_cells = Jupyter.notebook.get_cells();\n",
       "                for (var i = 0; i < nbb_cells.length; ++i) {\n",
       "                    if (nbb_cells[i].input_prompt_number == nbb_cell_id) {\n",
       "                        if (nbb_cells[i].get_text() == nbb_unformatted_code) {\n",
       "                             nbb_cells[i].set_text(nbb_formatted_code);\n",
       "                        }\n",
       "                        break;\n",
       "                    }\n",
       "                }\n",
       "            }, 500);\n",
       "            "
      ],
      "text/plain": [
       "<IPython.core.display.Javascript object>"
      ]
     },
     "metadata": {},
     "output_type": "display_data"
    }
   ],
   "source": [
    "plt.scatter(sat_verbal_jittered, sat_math_jittered, s=5, alpha=0.2)\n",
    "\n",
    "decorate(xlabel=\"SAT Verbal\", ylabel=\"SAT Math\")"
   ]
  },
  {
   "cell_type": "markdown",
   "id": "63cd6085",
   "metadata": {},
   "source": [
    "With transparency, overlapping data points look darker, so darkness is proportional to density.\n",
    "\n",
    "Although scatter plots are a simple and widely-used visualization, they can be hard to get right.\n",
    "In general, it takes some trial and error to adjust marker sizes, transparency, and jittering to find the best visual representation of the relationship between variables."
   ]
  },
  {
   "cell_type": "markdown",
   "id": "85e28ec5",
   "metadata": {},
   "source": [
    "## Decile Plots\n",
    "\n",
    "Scatter plots provide a general impression of the relationship between variables, but there are other visualizations that provide more insight into the nature of the relationship.\n",
    "One of them is a **decile plot**.\n",
    "\n",
    "To generate a decile plot, we'll sort the respondents by verbal scores and divide them into 10 groups, called **deciles**.\n",
    "We can use the `qcut` method to compute the deciles and add the results as a column in the `DataFrame`."
   ]
  },
  {
   "cell_type": "code",
   "execution_count": 20,
   "id": "c74cc154",
   "metadata": {},
   "outputs": [
    {
     "data": {
      "text/plain": [
       "decile\n",
       "1     142\n",
       "2     150\n",
       "3     139\n",
       "4     140\n",
       "5     159\n",
       "6     130\n",
       "7     148\n",
       "8     121\n",
       "9     138\n",
       "10    131\n",
       "Name: count, dtype: int64"
      ]
     },
     "execution_count": 20,
     "metadata": {},
     "output_type": "execute_result"
    },
    {
     "data": {
      "application/javascript": [
       "\n",
       "            setTimeout(function() {\n",
       "                var nbb_cell_id = 20;\n",
       "                var nbb_unformatted_code = \"nlsy_valid[\\\"decile\\\"] = pd.qcut(nlsy_valid[\\\"sat_verbal\\\"], 10, labels=False) + 1\\nnlsy_valid[\\\"decile\\\"].value_counts().sort_index()\";\n",
       "                var nbb_formatted_code = \"nlsy_valid[\\\"decile\\\"] = pd.qcut(nlsy_valid[\\\"sat_verbal\\\"], 10, labels=False) + 1\\nnlsy_valid[\\\"decile\\\"].value_counts().sort_index()\";\n",
       "                var nbb_cells = Jupyter.notebook.get_cells();\n",
       "                for (var i = 0; i < nbb_cells.length; ++i) {\n",
       "                    if (nbb_cells[i].input_prompt_number == nbb_cell_id) {\n",
       "                        if (nbb_cells[i].get_text() == nbb_unformatted_code) {\n",
       "                             nbb_cells[i].set_text(nbb_formatted_code);\n",
       "                        }\n",
       "                        break;\n",
       "                    }\n",
       "                }\n",
       "            }, 500);\n",
       "            "
      ],
      "text/plain": [
       "<IPython.core.display.Javascript object>"
      ]
     },
     "metadata": {},
     "output_type": "display_data"
    }
   ],
   "source": [
    "nlsy_valid[\"decile\"] = pd.qcut(nlsy_valid[\"sat_verbal\"], 10, labels=False) + 1\n",
    "nlsy_valid[\"decile\"].value_counts().sort_index()"
   ]
  },
  {
   "cell_type": "markdown",
   "id": "b217759e",
   "metadata": {},
   "source": [
    "For each respondent, the `decile` column indicates which decile their verbal score falls in.\n",
    "The number of respondents in each decile is roughly equal.\n",
    "\n",
    "Now we can use the `groupby` method to divide the `DataFrame` into groups by `decile`."
   ]
  },
  {
   "cell_type": "code",
   "execution_count": 21,
   "id": "fc2d2294",
   "metadata": {},
   "outputs": [
    {
     "data": {
      "text/plain": [
       "<pandas.core.groupby.generic.DataFrameGroupBy object at 0x7fbe7eae10c0>"
      ]
     },
     "execution_count": 21,
     "metadata": {},
     "output_type": "execute_result"
    },
    {
     "data": {
      "application/javascript": [
       "\n",
       "            setTimeout(function() {\n",
       "                var nbb_cell_id = 21;\n",
       "                var nbb_unformatted_code = \"df_groupby = nlsy_valid.groupby(\\\"decile\\\")\\ndf_groupby\";\n",
       "                var nbb_formatted_code = \"df_groupby = nlsy_valid.groupby(\\\"decile\\\")\\ndf_groupby\";\n",
       "                var nbb_cells = Jupyter.notebook.get_cells();\n",
       "                for (var i = 0; i < nbb_cells.length; ++i) {\n",
       "                    if (nbb_cells[i].input_prompt_number == nbb_cell_id) {\n",
       "                        if (nbb_cells[i].get_text() == nbb_unformatted_code) {\n",
       "                             nbb_cells[i].set_text(nbb_formatted_code);\n",
       "                        }\n",
       "                        break;\n",
       "                    }\n",
       "                }\n",
       "            }, 500);\n",
       "            "
      ],
      "text/plain": [
       "<IPython.core.display.Javascript object>"
      ]
     },
     "metadata": {},
     "output_type": "display_data"
    }
   ],
   "source": [
    "df_groupby = nlsy_valid.groupby(\"decile\")\n",
    "df_groupby"
   ]
  },
  {
   "cell_type": "markdown",
   "id": "e4a1bd59",
   "metadata": {},
   "source": [
    "The result is a `DataFrameGroupBy` object that represents the groups.\n",
    "We can select the `sat_math` column from it."
   ]
  },
  {
   "cell_type": "code",
   "execution_count": 22,
   "id": "316b9219",
   "metadata": {},
   "outputs": [
    {
     "data": {
      "text/plain": [
       "<pandas.core.groupby.generic.SeriesGroupBy object at 0x7fbe7eb1e2f0>"
      ]
     },
     "execution_count": 22,
     "metadata": {},
     "output_type": "execute_result"
    },
    {
     "data": {
      "application/javascript": [
       "\n",
       "            setTimeout(function() {\n",
       "                var nbb_cell_id = 22;\n",
       "                var nbb_unformatted_code = \"series_groupby = df_groupby[\\\"sat_math\\\"]\\nseries_groupby\";\n",
       "                var nbb_formatted_code = \"series_groupby = df_groupby[\\\"sat_math\\\"]\\nseries_groupby\";\n",
       "                var nbb_cells = Jupyter.notebook.get_cells();\n",
       "                for (var i = 0; i < nbb_cells.length; ++i) {\n",
       "                    if (nbb_cells[i].input_prompt_number == nbb_cell_id) {\n",
       "                        if (nbb_cells[i].get_text() == nbb_unformatted_code) {\n",
       "                             nbb_cells[i].set_text(nbb_formatted_code);\n",
       "                        }\n",
       "                        break;\n",
       "                    }\n",
       "                }\n",
       "            }, 500);\n",
       "            "
      ],
      "text/plain": [
       "<IPython.core.display.Javascript object>"
      ]
     },
     "metadata": {},
     "output_type": "display_data"
    }
   ],
   "source": [
    "series_groupby = df_groupby[\"sat_math\"]\n",
    "series_groupby"
   ]
  },
  {
   "cell_type": "markdown",
   "id": "7d4af738",
   "metadata": {},
   "source": [
    "The result is a `SeriesGroupBy` object that represents the math scores in each decile.\n",
    "We can use the `quantile` function to compute the 10th, 50th, and 90th percentiles in each group."
   ]
  },
  {
   "cell_type": "code",
   "execution_count": 23,
   "id": "0f2dc655",
   "metadata": {},
   "outputs": [
    {
     "data": {
      "application/javascript": [
       "\n",
       "            setTimeout(function() {\n",
       "                var nbb_cell_id = 23;\n",
       "                var nbb_unformatted_code = \"low = series_groupby.quantile(0.1)\\nmedian = series_groupby.quantile(0.5)\\nhigh = series_groupby.quantile(0.9)\";\n",
       "                var nbb_formatted_code = \"low = series_groupby.quantile(0.1)\\nmedian = series_groupby.quantile(0.5)\\nhigh = series_groupby.quantile(0.9)\";\n",
       "                var nbb_cells = Jupyter.notebook.get_cells();\n",
       "                for (var i = 0; i < nbb_cells.length; ++i) {\n",
       "                    if (nbb_cells[i].input_prompt_number == nbb_cell_id) {\n",
       "                        if (nbb_cells[i].get_text() == nbb_unformatted_code) {\n",
       "                             nbb_cells[i].set_text(nbb_formatted_code);\n",
       "                        }\n",
       "                        break;\n",
       "                    }\n",
       "                }\n",
       "            }, 500);\n",
       "            "
      ],
      "text/plain": [
       "<IPython.core.display.Javascript object>"
      ]
     },
     "metadata": {},
     "output_type": "display_data"
    }
   ],
   "source": [
    "low = series_groupby.quantile(0.1)\n",
    "median = series_groupby.quantile(0.5)\n",
    "high = series_groupby.quantile(0.9)"
   ]
  },
  {
   "cell_type": "markdown",
   "id": "8ef92e8e",
   "metadata": {},
   "source": [
    "A decile plot shows these percentiles for each decile group.\n",
    "In the following figure, the line shows the median and the shaded region shows the area between the 10th and 90th percentiles."
   ]
  },
  {
   "cell_type": "code",
   "execution_count": 24,
   "id": "33bebae6",
   "metadata": {},
   "outputs": [
    {
     "data": {
      "image/png": "[encoded data removed]",
      "text/plain": [
       "<Figure size 450x262.5 with 1 Axes>"
      ]
     },
     "metadata": {},
     "output_type": "display_data"
    },
    {
     "data": {
      "application/javascript": [
       "\n",
       "            setTimeout(function() {\n",
       "                var nbb_cell_id = 24;\n",
       "                var nbb_unformatted_code = \"xs = low.index\\n\\nplt.fill_between(xs, low, high, alpha=0.2)\\nplt.plot(xs, median, color=\\\"C0\\\", label=\\\"median\\\")\\n\\ndecorate(xlabel=\\\"SAT Verbal Decile\\\", ylabel=\\\"SAT Math\\\")\";\n",
       "                var nbb_formatted_code = \"xs = low.index\\n\\nplt.fill_between(xs, low, high, alpha=0.2)\\nplt.plot(xs, median, color=\\\"C0\\\", label=\\\"median\\\")\\n\\ndecorate(xlabel=\\\"SAT Verbal Decile\\\", ylabel=\\\"SAT Math\\\")\";\n",
       "                var nbb_cells = Jupyter.notebook.get_cells();\n",
       "                for (var i = 0; i < nbb_cells.length; ++i) {\n",
       "                    if (nbb_cells[i].input_prompt_number == nbb_cell_id) {\n",
       "                        if (nbb_cells[i].get_text() == nbb_unformatted_code) {\n",
       "                             nbb_cells[i].set_text(nbb_formatted_code);\n",
       "                        }\n",
       "                        break;\n",
       "                    }\n",
       "                }\n",
       "            }, 500);\n",
       "            "
      ],
      "text/plain": [
       "<IPython.core.display.Javascript object>"
      ]
     },
     "metadata": {},
     "output_type": "display_data"
    }
   ],
   "source": [
    "xs = low.index\n",
    "\n",
    "plt.fill_between(xs, low, high, alpha=0.2)\n",
    "plt.plot(xs, median, color=\"C0\", label=\"median\")\n",
    "\n",
    "decorate(xlabel=\"SAT Verbal Decile\", ylabel=\"SAT Math\")"
   ]
  },
  {
   "cell_type": "markdown",
   "id": "ba049565",
   "metadata": {},
   "source": [
    "As an alternative, we can compute the median verbal score in each group and plot those values on the x-axis, rather than the decile numbers. "
   ]
  },
  {
   "cell_type": "code",
   "execution_count": 25,
   "id": "7079db5e",
   "metadata": {},
   "outputs": [
    {
     "data": {
      "image/png": "[encoded data removed]",
      "text/plain": [
       "<Figure size 450x262.5 with 1 Axes>"
      ]
     },
     "metadata": {},
     "output_type": "display_data"
    },
    {
     "data": {
      "application/javascript": [
       "\n",
       "            setTimeout(function() {\n",
       "                var nbb_cell_id = 25;\n",
       "                var nbb_unformatted_code = \"xs = df_groupby[\\\"sat_verbal\\\"].median()\\n\\nplt.fill_between(xs, low, high, alpha=0.2)\\nplt.plot(xs, median, color=\\\"C0\\\", label=\\\"median\\\")\\n\\ndecorate(xlabel=\\\"SAT Verbal\\\", ylabel=\\\"SAT Math\\\")\";\n",
       "                var nbb_formatted_code = \"xs = df_groupby[\\\"sat_verbal\\\"].median()\\n\\nplt.fill_between(xs, low, high, alpha=0.2)\\nplt.plot(xs, median, color=\\\"C0\\\", label=\\\"median\\\")\\n\\ndecorate(xlabel=\\\"SAT Verbal\\\", ylabel=\\\"SAT Math\\\")\";\n",
       "                var nbb_cells = Jupyter.notebook.get_cells();\n",
       "                for (var i = 0; i < nbb_cells.length; ++i) {\n",
       "                    if (nbb_cells[i].input_prompt_number == nbb_cell_id) {\n",
       "                        if (nbb_cells[i].get_text() == nbb_unformatted_code) {\n",
       "                             nbb_cells[i].set_text(nbb_formatted_code);\n",
       "                        }\n",
       "                        break;\n",
       "                    }\n",
       "                }\n",
       "            }, 500);\n",
       "            "
      ],
      "text/plain": [
       "<IPython.core.display.Javascript object>"
      ]
     },
     "metadata": {},
     "output_type": "display_data"
    }
   ],
   "source": [
    "xs = df_groupby[\"sat_verbal\"].median()\n",
    "\n",
    "plt.fill_between(xs, low, high, alpha=0.2)\n",
    "plt.plot(xs, median, color=\"C0\", label=\"median\")\n",
    "\n",
    "decorate(xlabel=\"SAT Verbal\", ylabel=\"SAT Math\")"
   ]
  },
  {
   "cell_type": "markdown",
   "id": "27526e6c",
   "metadata": {},
   "source": [
    "It looks like the relationship between these variables is linear -- that is, each increase the median verbal scores corresponds to a roughly equal increase in median math scores.\n",
    "\n",
    "More generally, we could divide the respondents into any number of groups, not necessarily 10, and we could compute other summary statistics in each group, not just these percentiles."
   ]
  },
  {
   "cell_type": "markdown",
   "id": "503b7c6e",
   "metadata": {},
   "source": [
    "## Correlation\n",
    "\n",
    "When the NLSY participants were in 9th grade, many of them took the mathematics section of the Peabody Individual Achievement Test (PIAT).\n",
    "Let's give the column that contains the results a more interpretable name."
   ]
  },
  {
   "cell_type": "code",
   "execution_count": 110,
   "id": "db6aaf59",
   "metadata": {},
   "outputs": [
    {
     "data": {
      "text/plain": [
       "count    6044.000000\n",
       "mean       93.903706\n",
       "std        14.631148\n",
       "min        55.000000\n",
       "25%        84.000000\n",
       "50%        92.000000\n",
       "75%       103.000000\n",
       "max       145.000000\n",
       "Name: piat_math, dtype: float64"
      ]
     },
     "execution_count": 110,
     "metadata": {},
     "output_type": "execute_result"
    },
    {
     "data": {
      "application/javascript": [
       "\n",
       "            setTimeout(function() {\n",
       "                var nbb_cell_id = 110;\n",
       "                var nbb_unformatted_code = \"nlsy[\\\"piat_math\\\"] = nlsy[\\\"R1318200\\\"]\\nnlsy[\\\"piat_math\\\"].describe()\";\n",
       "                var nbb_formatted_code = \"nlsy[\\\"piat_math\\\"] = nlsy[\\\"R1318200\\\"]\\nnlsy[\\\"piat_math\\\"].describe()\";\n",
       "                var nbb_cells = Jupyter.notebook.get_cells();\n",
       "                for (var i = 0; i < nbb_cells.length; ++i) {\n",
       "                    if (nbb_cells[i].input_prompt_number == nbb_cell_id) {\n",
       "                        if (nbb_cells[i].get_text() == nbb_unformatted_code) {\n",
       "                             nbb_cells[i].set_text(nbb_formatted_code);\n",
       "                        }\n",
       "                        break;\n",
       "                    }\n",
       "                }\n",
       "            }, 500);\n",
       "            "
      ],
      "text/plain": [
       "<IPython.core.display.Javascript object>"
      ]
     },
     "metadata": {},
     "output_type": "display_data"
    }
   ],
   "source": [
    "nlsy[\"piat_math\"] = nlsy[\"R1318200\"]\n",
    "nlsy[\"piat_math\"].describe()"
   ]
  },
  {
   "cell_type": "markdown",
   "id": "4b4e4716",
   "metadata": {
    "tags": [
     "remove-print"
    ]
   },
   "source": [
    "Here's what the distribution of scores looks like."
   ]
  },
  {
   "cell_type": "code",
   "execution_count": 109,
   "id": "9ace951d",
   "metadata": {
    "tags": [
     "remove-print"
    ]
   },
   "outputs": [
    {
     "data": {
      "image/png": "[encoded data removed]",
      "text/plain": [
       "<Figure size 450x262.5 with 1 Axes>"
      ]
     },
     "metadata": {},
     "output_type": "display_data"
    },
    {
     "data": {
      "application/javascript": [
       "\n",
       "            setTimeout(function() {\n",
       "                var nbb_cell_id = 109;\n",
       "                var nbb_unformatted_code = \"cdf_piat_math = Cdf.from_seq(nlsy[\\\"piat_math\\\"])\\ncdf_piat_math.step()\";\n",
       "                var nbb_formatted_code = \"cdf_piat_math = Cdf.from_seq(nlsy[\\\"piat_math\\\"])\\ncdf_piat_math.step()\";\n",
       "                var nbb_cells = Jupyter.notebook.get_cells();\n",
       "                for (var i = 0; i < nbb_cells.length; ++i) {\n",
       "                    if (nbb_cells[i].input_prompt_number == nbb_cell_id) {\n",
       "                        if (nbb_cells[i].get_text() == nbb_unformatted_code) {\n",
       "                             nbb_cells[i].set_text(nbb_formatted_code);\n",
       "                        }\n",
       "                        break;\n",
       "                    }\n",
       "                }\n",
       "            }, 500);\n",
       "            "
      ],
      "text/plain": [
       "<IPython.core.display.Javascript object>"
      ]
     },
     "metadata": {},
     "output_type": "display_data"
    }
   ],
   "source": [
    "cdf_piat_math = Cdf.from_seq(nlsy[\"piat_math\"])\n",
    "cdf_piat_math.step()"
   ]
  },
  {
   "cell_type": "markdown",
   "id": "472b6f2e",
   "metadata": {},
   "source": [
    "Students who do well on the PIAT in 9th grade are likely to do well on the SAT math second in 12th grade.\n",
    "For the NLSY participants who took both tests, the following scatter plot shows the relationship between their scores."
   ]
  },
  {
   "cell_type": "code",
   "execution_count": 27,
   "id": "e1ab698c",
   "metadata": {},
   "outputs": [
    {
     "data": {
      "image/png": "[encoded data removed]",
      "text/plain": [
       "<Figure size 450x262.5 with 1 Axes>"
      ]
     },
     "metadata": {},
     "output_type": "display_data"
    },
    {
     "data": {
      "application/javascript": [
       "\n",
       "            setTimeout(function() {\n",
       "                var nbb_cell_id = 27;\n",
       "                var nbb_unformatted_code = \"from thinkstats import scatter\\n\\nscatter(nlsy, \\\"piat_math\\\", \\\"sat_math\\\")\\n\\ndecorate(xlabel=\\\"PIAT Math\\\", ylabel=\\\"SAT Math\\\")\";\n",
       "                var nbb_formatted_code = \"from thinkstats import scatter\\n\\nscatter(nlsy, \\\"piat_math\\\", \\\"sat_math\\\")\\n\\ndecorate(xlabel=\\\"PIAT Math\\\", ylabel=\\\"SAT Math\\\")\";\n",
       "                var nbb_cells = Jupyter.notebook.get_cells();\n",
       "                for (var i = 0; i < nbb_cells.length; ++i) {\n",
       "                    if (nbb_cells[i].input_prompt_number == nbb_cell_id) {\n",
       "                        if (nbb_cells[i].get_text() == nbb_unformatted_code) {\n",
       "                             nbb_cells[i].set_text(nbb_formatted_code);\n",
       "                        }\n",
       "                        break;\n",
       "                    }\n",
       "                }\n",
       "            }, 500);\n",
       "            "
      ],
      "text/plain": [
       "<IPython.core.display.Javascript object>"
      ]
     },
     "metadata": {},
     "output_type": "display_data"
    }
   ],
   "source": [
    "from thinkstats import scatter\n",
    "\n",
    "scatter(nlsy, \"piat_math\", \"sat_math\")\n",
    "\n",
    "decorate(xlabel=\"PIAT Math\", ylabel=\"SAT Math\")"
   ]
  },
  {
   "cell_type": "markdown",
   "id": "2157c0c7",
   "metadata": {},
   "source": [
    "Students who do well on the PIAT are also likely to do well on the SAT verbal.\n",
    "The following figure shows the relationship between the scores."
   ]
  },
  {
   "cell_type": "code",
   "execution_count": 28,
   "id": "f1f033da",
   "metadata": {},
   "outputs": [
    {
     "data": {
      "image/png": "[encoded data removed]",
      "text/plain": [
       "<Figure size 450x262.5 with 1 Axes>"
      ]
     },
     "metadata": {},
     "output_type": "display_data"
    },
    {
     "data": {
      "application/javascript": [
       "\n",
       "            setTimeout(function() {\n",
       "                var nbb_cell_id = 28;\n",
       "                var nbb_unformatted_code = \"scatter(nlsy, \\\"piat_math\\\", \\\"sat_verbal\\\")\\n\\ndecorate(xlabel=\\\"PIAT Math\\\", ylabel=\\\"SAT Verbal\\\")\";\n",
       "                var nbb_formatted_code = \"scatter(nlsy, \\\"piat_math\\\", \\\"sat_verbal\\\")\\n\\ndecorate(xlabel=\\\"PIAT Math\\\", ylabel=\\\"SAT Verbal\\\")\";\n",
       "                var nbb_cells = Jupyter.notebook.get_cells();\n",
       "                for (var i = 0; i < nbb_cells.length; ++i) {\n",
       "                    if (nbb_cells[i].input_prompt_number == nbb_cell_id) {\n",
       "                        if (nbb_cells[i].get_text() == nbb_unformatted_code) {\n",
       "                             nbb_cells[i].set_text(nbb_formatted_code);\n",
       "                        }\n",
       "                        break;\n",
       "                    }\n",
       "                }\n",
       "            }, 500);\n",
       "            "
      ],
      "text/plain": [
       "<IPython.core.display.Javascript object>"
      ]
     },
     "metadata": {},
     "output_type": "display_data"
    }
   ],
   "source": [
    "scatter(nlsy, \"piat_math\", \"sat_verbal\")\n",
    "\n",
    "decorate(xlabel=\"PIAT Math\", ylabel=\"SAT Verbal\")"
   ]
  },
  {
   "cell_type": "markdown",
   "id": "0a4ce427",
   "metadata": {},
   "source": [
    "Comparing the scatter plots, the points in the first figure might be more compact, and the points in the second figure more dispersed.\n",
    "If so, that means that the PIAT math scores predict SAT math scores more accurately than they predict SAT verbal scores -- and it makes sense if they do.\n",
    "\n",
    "To quantify the strength of these relationships, we can use the **Pearson correlation coefficient**, often just called \"correlation\".\n",
    "To understand correlation, let's start with standardization.\n",
    "\n",
    "To standardize a variable, we subtract off the mean and divide through by the standard deviation, as in this function."
   ]
  },
  {
   "cell_type": "code",
   "execution_count": 29,
   "id": "19abd26d",
   "metadata": {},
   "outputs": [
    {
     "data": {
      "application/javascript": [
       "\n",
       "            setTimeout(function() {\n",
       "                var nbb_cell_id = 29;\n",
       "                var nbb_unformatted_code = \"def standardize(xs):\\n    \\\"\\\"\\\"Standardizes a sequence of numbers.\\n\\n    xs: sequence of numbers\\n\\n    returns: NumPy array\\n    \\\"\\\"\\\"\\n    return (xs - np.mean(xs)) / np.std(xs)\";\n",
       "                var nbb_formatted_code = \"def standardize(xs):\\n    \\\"\\\"\\\"Standardizes a sequence of numbers.\\n\\n    xs: sequence of numbers\\n\\n    returns: NumPy array\\n    \\\"\\\"\\\"\\n    return (xs - np.mean(xs)) / np.std(xs)\";\n",
       "                var nbb_cells = Jupyter.notebook.get_cells();\n",
       "                for (var i = 0; i < nbb_cells.length; ++i) {\n",
       "                    if (nbb_cells[i].input_prompt_number == nbb_cell_id) {\n",
       "                        if (nbb_cells[i].get_text() == nbb_unformatted_code) {\n",
       "                             nbb_cells[i].set_text(nbb_formatted_code);\n",
       "                        }\n",
       "                        break;\n",
       "                    }\n",
       "                }\n",
       "            }, 500);\n",
       "            "
      ],
      "text/plain": [
       "<IPython.core.display.Javascript object>"
      ]
     },
     "metadata": {},
     "output_type": "display_data"
    }
   ],
   "source": [
    "def standardize(xs):\n",
    "    \"\"\"Standardizes a sequence of numbers.\n",
    "\n",
    "    xs: sequence of numbers\n",
    "\n",
    "    returns: NumPy array\n",
    "    \"\"\"\n",
    "    return (xs - np.mean(xs)) / np.std(xs)"
   ]
  },
  {
   "cell_type": "markdown",
   "id": "a2ffd0a5",
   "metadata": {},
   "source": [
    "To show how it's used, we'll select the rows where `piat_math` and `sat_math` are valid."
   ]
  },
  {
   "cell_type": "code",
   "execution_count": 30,
   "id": "e86cfdab",
   "metadata": {},
   "outputs": [
    {
     "data": {
      "application/javascript": [
       "\n",
       "            setTimeout(function() {\n",
       "                var nbb_cell_id = 30;\n",
       "                var nbb_unformatted_code = \"valid = nlsy.dropna(subset=[\\\"piat_math\\\", \\\"sat_math\\\"])\\npiat_math = valid[\\\"piat_math\\\"]\\nsat_math = valid[\\\"sat_math\\\"]\";\n",
       "                var nbb_formatted_code = \"valid = nlsy.dropna(subset=[\\\"piat_math\\\", \\\"sat_math\\\"])\\npiat_math = valid[\\\"piat_math\\\"]\\nsat_math = valid[\\\"sat_math\\\"]\";\n",
       "                var nbb_cells = Jupyter.notebook.get_cells();\n",
       "                for (var i = 0; i < nbb_cells.length; ++i) {\n",
       "                    if (nbb_cells[i].input_prompt_number == nbb_cell_id) {\n",
       "                        if (nbb_cells[i].get_text() == nbb_unformatted_code) {\n",
       "                             nbb_cells[i].set_text(nbb_formatted_code);\n",
       "                        }\n",
       "                        break;\n",
       "                    }\n",
       "                }\n",
       "            }, 500);\n",
       "            "
      ],
      "text/plain": [
       "<IPython.core.display.Javascript object>"
      ]
     },
     "metadata": {},
     "output_type": "display_data"
    }
   ],
   "source": [
    "valid = nlsy.dropna(subset=[\"piat_math\", \"sat_math\"])\n",
    "piat_math = valid[\"piat_math\"]\n",
    "sat_math = valid[\"sat_math\"]"
   ]
  },
  {
   "cell_type": "markdown",
   "id": "a610382c",
   "metadata": {},
   "source": [
    "And standardize the PIAT math scores."
   ]
  },
  {
   "cell_type": "code",
   "execution_count": 31,
   "id": "446d2357",
   "metadata": {},
   "outputs": [
    {
     "data": {
      "text/plain": [
       "(-2.4321756236287047e-16, 1.0)"
      ]
     },
     "execution_count": 31,
     "metadata": {},
     "output_type": "execute_result"
    },
    {
     "data": {
      "application/javascript": [
       "\n",
       "            setTimeout(function() {\n",
       "                var nbb_cell_id = 31;\n",
       "                var nbb_unformatted_code = \"piat_math_standard = standardize(piat_math)\\nnp.mean(piat_math_standard), np.std(piat_math_standard)\";\n",
       "                var nbb_formatted_code = \"piat_math_standard = standardize(piat_math)\\nnp.mean(piat_math_standard), np.std(piat_math_standard)\";\n",
       "                var nbb_cells = Jupyter.notebook.get_cells();\n",
       "                for (var i = 0; i < nbb_cells.length; ++i) {\n",
       "                    if (nbb_cells[i].input_prompt_number == nbb_cell_id) {\n",
       "                        if (nbb_cells[i].get_text() == nbb_unformatted_code) {\n",
       "                             nbb_cells[i].set_text(nbb_formatted_code);\n",
       "                        }\n",
       "                        break;\n",
       "                    }\n",
       "                }\n",
       "            }, 500);\n",
       "            "
      ],
      "text/plain": [
       "<IPython.core.display.Javascript object>"
      ]
     },
     "metadata": {},
     "output_type": "display_data"
    }
   ],
   "source": [
    "piat_math_standard = standardize(piat_math)\n",
    "np.mean(piat_math_standard), np.std(piat_math_standard)"
   ]
  },
  {
   "cell_type": "markdown",
   "id": "5f2e36a4",
   "metadata": {},
   "source": [
    "The results are **standard scores**, also called \"z-scores\".\n",
    "By design, the mean of the standard scores is close to 0 and the standard deviation is close to 1.\n",
    "\n",
    "Let's also standardize the SAT math scores."
   ]
  },
  {
   "cell_type": "code",
   "execution_count": 32,
   "id": "cf067f1a",
   "metadata": {},
   "outputs": [
    {
     "data": {
      "text/plain": [
       "(-1.737268302591932e-16, 0.9999999999999998)"
      ]
     },
     "execution_count": 32,
     "metadata": {},
     "output_type": "execute_result"
    },
    {
     "data": {
      "application/javascript": [
       "\n",
       "            setTimeout(function() {\n",
       "                var nbb_cell_id = 32;\n",
       "                var nbb_unformatted_code = \"sat_math_standard = standardize(sat_math)\\nnp.mean(sat_math_standard), np.std(sat_math_standard)\";\n",
       "                var nbb_formatted_code = \"sat_math_standard = standardize(sat_math)\\nnp.mean(sat_math_standard), np.std(sat_math_standard)\";\n",
       "                var nbb_cells = Jupyter.notebook.get_cells();\n",
       "                for (var i = 0; i < nbb_cells.length; ++i) {\n",
       "                    if (nbb_cells[i].input_prompt_number == nbb_cell_id) {\n",
       "                        if (nbb_cells[i].get_text() == nbb_unformatted_code) {\n",
       "                             nbb_cells[i].set_text(nbb_formatted_code);\n",
       "                        }\n",
       "                        break;\n",
       "                    }\n",
       "                }\n",
       "            }, 500);\n",
       "            "
      ],
      "text/plain": [
       "<IPython.core.display.Javascript object>"
      ]
     },
     "metadata": {},
     "output_type": "display_data"
    }
   ],
   "source": [
    "sat_math_standard = standardize(sat_math)\n",
    "np.mean(sat_math_standard), np.std(sat_math_standard)"
   ]
  },
  {
   "cell_type": "markdown",
   "id": "8486034c",
   "metadata": {},
   "source": [
    "The following figure shows sequences of these scores for the first 100 participants."
   ]
  },
  {
   "cell_type": "code",
   "execution_count": 33,
   "id": "391880a1",
   "metadata": {},
   "outputs": [
    {
     "data": {
      "image/png": "[encoded data removed]",
      "text/plain": [
       "<Figure size 450x262.5 with 2 Axes>"
      ]
     },
     "metadata": {},
     "output_type": "display_data"
    },
    {
     "data": {
      "application/javascript": [
       "\n",
       "            setTimeout(function() {\n",
       "                var nbb_cell_id = 33;\n",
       "                var nbb_unformatted_code = \"plt.subplot(2, 1, 1)\\nplt.axhline(0, color=\\\"gray\\\", lw=1, alpha=0.5)\\nplt.plot(piat_math_standard.values[:100], label=\\\"PIAT math\\\")\\ndecorate(ylabel=\\\"z-score\\\", xticks=[])\\n\\nplt.subplot(2, 1, 2)\\nplt.axhline(0, color=\\\"gray\\\", lw=1, alpha=0.5)\\nplt.plot(sat_math_standard.values[:100], label=\\\"SAT math\\\", color=\\\"C1\\\")\\ndecorate(ylabel=\\\"z-score\\\", xticks=[])\";\n",
       "                var nbb_formatted_code = \"plt.subplot(2, 1, 1)\\nplt.axhline(0, color=\\\"gray\\\", lw=1, alpha=0.5)\\nplt.plot(piat_math_standard.values[:100], label=\\\"PIAT math\\\")\\ndecorate(ylabel=\\\"z-score\\\", xticks=[])\\n\\nplt.subplot(2, 1, 2)\\nplt.axhline(0, color=\\\"gray\\\", lw=1, alpha=0.5)\\nplt.plot(sat_math_standard.values[:100], label=\\\"SAT math\\\", color=\\\"C1\\\")\\ndecorate(ylabel=\\\"z-score\\\", xticks=[])\";\n",
       "                var nbb_cells = Jupyter.notebook.get_cells();\n",
       "                for (var i = 0; i < nbb_cells.length; ++i) {\n",
       "                    if (nbb_cells[i].input_prompt_number == nbb_cell_id) {\n",
       "                        if (nbb_cells[i].get_text() == nbb_unformatted_code) {\n",
       "                             nbb_cells[i].set_text(nbb_formatted_code);\n",
       "                        }\n",
       "                        break;\n",
       "                    }\n",
       "                }\n",
       "            }, 500);\n",
       "            "
      ],
      "text/plain": [
       "<IPython.core.display.Javascript object>"
      ]
     },
     "metadata": {},
     "output_type": "display_data"
    }
   ],
   "source": [
    "plt.subplot(2, 1, 1)\n",
    "plt.axhline(0, color=\"gray\", lw=1, alpha=0.5)\n",
    "plt.plot(piat_math_standard.values[:100], label=\"PIAT math\")\n",
    "decorate(ylabel=\"z-score\", xticks=[])\n",
    "\n",
    "plt.subplot(2, 1, 2)\n",
    "plt.axhline(0, color=\"gray\", lw=1, alpha=0.5)\n",
    "plt.plot(sat_math_standard.values[:100], label=\"SAT math\", color=\"C1\")\n",
    "decorate(ylabel=\"z-score\", xticks=[])"
   ]
  },
  {
   "cell_type": "markdown",
   "id": "07ae4459",
   "metadata": {},
   "source": [
    "These variables are clearly related: when one is above the mean, the other is likely to be above the mean, too.\n",
    "To quantify the strength of this relationship, we'll multiply the standard scores element-wise and compute the mean of the products.\n",
    "\n",
    "When both scores are positive, their product is positive, so it tends to increase the mean.\n",
    "And when both scores are negative, their product is positive, so it also tends to increase the mean.\n",
    "When the scores have opposite signs, the product is negative, so it decreases the mean.\n",
    "As a result, the mean of the product measures the similarity between the sequences."
   ]
  },
  {
   "cell_type": "code",
   "execution_count": 34,
   "id": "5373a730",
   "metadata": {},
   "outputs": [
    {
     "data": {
      "text/plain": [
       "0.639735816517885"
      ]
     },
     "execution_count": 34,
     "metadata": {},
     "output_type": "execute_result"
    },
    {
     "data": {
      "application/javascript": [
       "\n",
       "            setTimeout(function() {\n",
       "                var nbb_cell_id = 34;\n",
       "                var nbb_unformatted_code = \"np.mean(piat_math_standard * sat_math_standard)\";\n",
       "                var nbb_formatted_code = \"np.mean(piat_math_standard * sat_math_standard)\";\n",
       "                var nbb_cells = Jupyter.notebook.get_cells();\n",
       "                for (var i = 0; i < nbb_cells.length; ++i) {\n",
       "                    if (nbb_cells[i].input_prompt_number == nbb_cell_id) {\n",
       "                        if (nbb_cells[i].get_text() == nbb_unformatted_code) {\n",
       "                             nbb_cells[i].set_text(nbb_formatted_code);\n",
       "                        }\n",
       "                        break;\n",
       "                    }\n",
       "                }\n",
       "            }, 500);\n",
       "            "
      ],
      "text/plain": [
       "<IPython.core.display.Javascript object>"
      ]
     },
     "metadata": {},
     "output_type": "display_data"
    }
   ],
   "source": [
    "np.mean(piat_math_standard * sat_math_standard)"
   ]
  },
  {
   "cell_type": "markdown",
   "id": "4b7351bf",
   "metadata": {},
   "source": [
    "The result, which is about 0.64, is the correlation coefficient.\n",
    "Here's one way to interpret it: if someone's PIAT math score is 1 standard deviation above the mean, we expect their SAT math score to be 0.64 standard deviations above the mean, on average.\n",
    "\n",
    "The result is the same if we multiply the elements in the other order."
   ]
  },
  {
   "cell_type": "code",
   "execution_count": 35,
   "id": "dc6e256d",
   "metadata": {},
   "outputs": [
    {
     "data": {
      "text/plain": [
       "0.639735816517885"
      ]
     },
     "execution_count": 35,
     "metadata": {},
     "output_type": "execute_result"
    },
    {
     "data": {
      "application/javascript": [
       "\n",
       "            setTimeout(function() {\n",
       "                var nbb_cell_id = 35;\n",
       "                var nbb_unformatted_code = \"np.mean(sat_math_standard * piat_math_standard)\";\n",
       "                var nbb_formatted_code = \"np.mean(sat_math_standard * piat_math_standard)\";\n",
       "                var nbb_cells = Jupyter.notebook.get_cells();\n",
       "                for (var i = 0; i < nbb_cells.length; ++i) {\n",
       "                    if (nbb_cells[i].input_prompt_number == nbb_cell_id) {\n",
       "                        if (nbb_cells[i].get_text() == nbb_unformatted_code) {\n",
       "                             nbb_cells[i].set_text(nbb_formatted_code);\n",
       "                        }\n",
       "                        break;\n",
       "                    }\n",
       "                }\n",
       "            }, 500);\n",
       "            "
      ],
      "text/plain": [
       "<IPython.core.display.Javascript object>"
      ]
     },
     "metadata": {},
     "output_type": "display_data"
    }
   ],
   "source": [
    "np.mean(sat_math_standard * piat_math_standard)"
   ]
  },
  {
   "cell_type": "markdown",
   "id": "4567ddce",
   "metadata": {},
   "source": [
    "So the correlation coefficient is symmetric: if someone's SAT math score is 1 standard deviation above the mean, we expect their PIAT math score to be 0.64 standard deviations above the mean, on average.\n",
    "\n",
    "Correlation is a commonly-used statistic, so NumPy provides a function that computes it."
   ]
  },
  {
   "cell_type": "code",
   "execution_count": 36,
   "id": "c0227198",
   "metadata": {},
   "outputs": [
    {
     "data": {
      "text/plain": [
       "array([[1.        , 0.63973582],\n",
       "       [0.63973582, 1.        ]])"
      ]
     },
     "execution_count": 36,
     "metadata": {},
     "output_type": "execute_result"
    },
    {
     "data": {
      "application/javascript": [
       "\n",
       "            setTimeout(function() {\n",
       "                var nbb_cell_id = 36;\n",
       "                var nbb_unformatted_code = \"np.corrcoef(piat_math, sat_math)\";\n",
       "                var nbb_formatted_code = \"np.corrcoef(piat_math, sat_math)\";\n",
       "                var nbb_cells = Jupyter.notebook.get_cells();\n",
       "                for (var i = 0; i < nbb_cells.length; ++i) {\n",
       "                    if (nbb_cells[i].input_prompt_number == nbb_cell_id) {\n",
       "                        if (nbb_cells[i].get_text() == nbb_unformatted_code) {\n",
       "                             nbb_cells[i].set_text(nbb_formatted_code);\n",
       "                        }\n",
       "                        break;\n",
       "                    }\n",
       "                }\n",
       "            }, 500);\n",
       "            "
      ],
      "text/plain": [
       "<IPython.core.display.Javascript object>"
      ]
     },
     "metadata": {},
     "output_type": "display_data"
    }
   ],
   "source": [
    "np.corrcoef(piat_math, sat_math)"
   ]
  },
  {
   "cell_type": "markdown",
   "id": "3f3919d9",
   "metadata": {},
   "source": [
    "The result is a **correlation matrix**, with one row and one column for each variable.\n",
    "The value in the upper left is the correlation of `piat_math` with itself.\n",
    "The value in the lower right is the correlation of `sat_math` with itself.\n",
    "The correlation of any variable with itself is 1, which indicates perfect correlation.\n",
    "\n",
    "The values in the upper right and lower left are the correlation of `piat_math` with `sat_math` and the correlation of `sat_math` with `piat_math`, which are necessarily equal. \n",
    "\n",
    "`thinkstats` provides a `corrcoef` function that takes a `DataFrame` and two column names, selects the rows where both columns are valid, and computes their correlation."
   ]
  },
  {
   "cell_type": "code",
   "execution_count": 37,
   "id": "846e2cb5",
   "metadata": {},
   "outputs": [
    {
     "data": {
      "text/plain": [
       "0.6397358165178849"
      ]
     },
     "execution_count": 37,
     "metadata": {},
     "output_type": "execute_result"
    },
    {
     "data": {
      "application/javascript": [
       "\n",
       "            setTimeout(function() {\n",
       "                var nbb_cell_id = 37;\n",
       "                var nbb_unformatted_code = \"from thinkstats import corrcoef\\n\\ncorrcoef(nlsy, \\\"piat_math\\\", \\\"sat_math\\\")\";\n",
       "                var nbb_formatted_code = \"from thinkstats import corrcoef\\n\\ncorrcoef(nlsy, \\\"piat_math\\\", \\\"sat_math\\\")\";\n",
       "                var nbb_cells = Jupyter.notebook.get_cells();\n",
       "                for (var i = 0; i < nbb_cells.length; ++i) {\n",
       "                    if (nbb_cells[i].input_prompt_number == nbb_cell_id) {\n",
       "                        if (nbb_cells[i].get_text() == nbb_unformatted_code) {\n",
       "                             nbb_cells[i].set_text(nbb_formatted_code);\n",
       "                        }\n",
       "                        break;\n",
       "                    }\n",
       "                }\n",
       "            }, 500);\n",
       "            "
      ],
      "text/plain": [
       "<IPython.core.display.Javascript object>"
      ]
     },
     "metadata": {},
     "output_type": "display_data"
    }
   ],
   "source": [
    "from thinkstats import corrcoef\n",
    "\n",
    "corrcoef(nlsy, \"piat_math\", \"sat_math\")"
   ]
  },
  {
   "cell_type": "markdown",
   "id": "9b8d5a6c",
   "metadata": {},
   "source": [
    "We can use this function to compute the correlation of `piat_math` and `sat_verbal`."
   ]
  },
  {
   "cell_type": "code",
   "execution_count": 38,
   "id": "37e14193",
   "metadata": {},
   "outputs": [
    {
     "data": {
      "text/plain": [
       "0.509413914696731"
      ]
     },
     "execution_count": 38,
     "metadata": {},
     "output_type": "execute_result"
    },
    {
     "data": {
      "application/javascript": [
       "\n",
       "            setTimeout(function() {\n",
       "                var nbb_cell_id = 38;\n",
       "                var nbb_unformatted_code = \"corrcoef(nlsy, \\\"piat_math\\\", \\\"sat_verbal\\\")\";\n",
       "                var nbb_formatted_code = \"corrcoef(nlsy, \\\"piat_math\\\", \\\"sat_verbal\\\")\";\n",
       "                var nbb_cells = Jupyter.notebook.get_cells();\n",
       "                for (var i = 0; i < nbb_cells.length; ++i) {\n",
       "                    if (nbb_cells[i].input_prompt_number == nbb_cell_id) {\n",
       "                        if (nbb_cells[i].get_text() == nbb_unformatted_code) {\n",
       "                             nbb_cells[i].set_text(nbb_formatted_code);\n",
       "                        }\n",
       "                        break;\n",
       "                    }\n",
       "                }\n",
       "            }, 500);\n",
       "            "
      ],
      "text/plain": [
       "<IPython.core.display.Javascript object>"
      ]
     },
     "metadata": {},
     "output_type": "display_data"
    }
   ],
   "source": [
    "corrcoef(nlsy, \"piat_math\", \"sat_verbal\")"
   ]
  },
  {
   "cell_type": "markdown",
   "id": "29a98516",
   "metadata": {},
   "source": [
    "The correlation is about 0.51, so if someone's PIAT math score is one standard deviation above the mean, we expect their SAT verbal score to be 0.51 standard deviations above the mean, on average.\n",
    "\n",
    "As we might expect, PIAT math scores predict SAT math scores better than they predict SAT verbal score -- but not by very much."
   ]
  },
  {
   "cell_type": "markdown",
   "id": "c19d94ec",
   "metadata": {},
   "source": [
    "## Strength of Correlation\n",
    "\n",
    "As you look at more scatter plots, you will get a sense of what different correlations look like.\n",
    "To help you develop this sense, the following figure shows scatter plots for randomly-generated data with different correlations."
   ]
  },
  {
   "cell_type": "code",
   "execution_count": 39,
   "id": "a6eb14d8",
   "metadata": {
    "tags": [
     "remove-print"
    ]
   },
   "outputs": [
    {
     "data": {
      "application/javascript": [
       "\n",
       "            setTimeout(function() {\n",
       "                var nbb_cell_id = 39;\n",
       "                var nbb_unformatted_code = \"np.random.seed(17)\\nxs = np.random.normal(size=300)\\nys = np.random.normal(size=300)\";\n",
       "                var nbb_formatted_code = \"np.random.seed(17)\\nxs = np.random.normal(size=300)\\nys = np.random.normal(size=300)\";\n",
       "                var nbb_cells = Jupyter.notebook.get_cells();\n",
       "                for (var i = 0; i < nbb_cells.length; ++i) {\n",
       "                    if (nbb_cells[i].input_prompt_number == nbb_cell_id) {\n",
       "                        if (nbb_cells[i].get_text() == nbb_unformatted_code) {\n",
       "                             nbb_cells[i].set_text(nbb_formatted_code);\n",
       "                        }\n",
       "                        break;\n",
       "                    }\n",
       "                }\n",
       "            }, 500);\n",
       "            "
      ],
      "text/plain": [
       "<IPython.core.display.Javascript object>"
      ]
     },
     "metadata": {},
     "output_type": "display_data"
    }
   ],
   "source": [
    "np.random.seed(17)\n",
    "xs = np.random.normal(size=300)\n",
    "ys = np.random.normal(size=300)"
   ]
  },
  {
   "cell_type": "code",
   "execution_count": 40,
   "id": "b70be932",
   "metadata": {
    "tags": [
     "remove-input"
    ]
   },
   "outputs": [
    {
     "data": {
      "image/png": "[encoded data removed]",
      "text/plain": [
       "<Figure size 750x187.5 with 4 Axes>"
      ]
     },
     "metadata": {},
     "output_type": "display_data"
    },
    {
     "data": {
      "application/javascript": [
       "\n",
       "            setTimeout(function() {\n",
       "                var nbb_cell_id = 40;\n",
       "                var nbb_unformatted_code = \"from thinkstats import make_correlated_scatter\\n\\nplt.figure(figsize=(10, 2.5))\\n\\nfor i, rho in enumerate([0, 0.3, 0.7, 0.99]):\\n    plt.subplot(1, 4, i + 1)\\n    make_correlated_scatter(xs, ys, rho)\\ndecorate()\";\n",
       "                var nbb_formatted_code = \"from thinkstats import make_correlated_scatter\\n\\nplt.figure(figsize=(10, 2.5))\\n\\nfor i, rho in enumerate([0, 0.3, 0.7, 0.99]):\\n    plt.subplot(1, 4, i + 1)\\n    make_correlated_scatter(xs, ys, rho)\\ndecorate()\";\n",
       "                var nbb_cells = Jupyter.notebook.get_cells();\n",
       "                for (var i = 0; i < nbb_cells.length; ++i) {\n",
       "                    if (nbb_cells[i].input_prompt_number == nbb_cell_id) {\n",
       "                        if (nbb_cells[i].get_text() == nbb_unformatted_code) {\n",
       "                             nbb_cells[i].set_text(nbb_formatted_code);\n",
       "                        }\n",
       "                        break;\n",
       "                    }\n",
       "                }\n",
       "            }, 500);\n",
       "            "
      ],
      "text/plain": [
       "<IPython.core.display.Javascript object>"
      ]
     },
     "metadata": {},
     "output_type": "display_data"
    }
   ],
   "source": [
    "from thinkstats import make_correlated_scatter\n",
    "\n",
    "plt.figure(figsize=(10, 2.5))\n",
    "\n",
    "for i, rho in enumerate([0, 0.3, 0.7, 0.99]):\n",
    "    plt.subplot(1, 4, i + 1)\n",
    "    make_correlated_scatter(xs, ys, rho)\n",
    "decorate()"
   ]
  },
  {
   "cell_type": "markdown",
   "id": "75ec51a8",
   "metadata": {},
   "source": [
    "The Greek letter ρ, which is spelled \"rho\" and pronounced like \"row\", is the conventional symbol for the correlation coefficient.\n",
    "\n",
    "Correlation can also be negative.\n",
    "Here are scatter plots for random data with a range of negative correlations"
   ]
  },
  {
   "cell_type": "code",
   "execution_count": 41,
   "id": "fbe1a470",
   "metadata": {
    "tags": [
     "remove-input"
    ]
   },
   "outputs": [
    {
     "data": {
      "image/png": "[encoded data removed]",
      "text/plain": [
       "<Figure size 750x187.5 with 4 Axes>"
      ]
     },
     "metadata": {},
     "output_type": "display_data"
    },
    {
     "data": {
      "application/javascript": [
       "\n",
       "            setTimeout(function() {\n",
       "                var nbb_cell_id = 41;\n",
       "                var nbb_unformatted_code = \"plt.figure(figsize=(10, 2.5))\\n\\nfor i, rho in enumerate([-0.1, -0.3, -0.7, -0.99]):\\n    plt.subplot(1, 4, i + 1)\\n    make_correlated_scatter(xs, ys, rho)\\ndecorate()\";\n",
       "                var nbb_formatted_code = \"plt.figure(figsize=(10, 2.5))\\n\\nfor i, rho in enumerate([-0.1, -0.3, -0.7, -0.99]):\\n    plt.subplot(1, 4, i + 1)\\n    make_correlated_scatter(xs, ys, rho)\\ndecorate()\";\n",
       "                var nbb_cells = Jupyter.notebook.get_cells();\n",
       "                for (var i = 0; i < nbb_cells.length; ++i) {\n",
       "                    if (nbb_cells[i].input_prompt_number == nbb_cell_id) {\n",
       "                        if (nbb_cells[i].get_text() == nbb_unformatted_code) {\n",
       "                             nbb_cells[i].set_text(nbb_formatted_code);\n",
       "                        }\n",
       "                        break;\n",
       "                    }\n",
       "                }\n",
       "            }, 500);\n",
       "            "
      ],
      "text/plain": [
       "<IPython.core.display.Javascript object>"
      ]
     },
     "metadata": {},
     "output_type": "display_data"
    }
   ],
   "source": [
    "plt.figure(figsize=(10, 2.5))\n",
    "\n",
    "for i, rho in enumerate([-0.1, -0.3, -0.7, -0.99]):\n",
    "    plt.subplot(1, 4, i + 1)\n",
    "    make_correlated_scatter(xs, ys, rho)\n",
    "decorate()"
   ]
  },
  {
   "cell_type": "markdown",
   "id": "eaf40c0f",
   "metadata": {},
   "source": [
    "The correlation coefficient is always between -1 and 1.\n",
    "If there is no relationship between two variables, their correlation is 0 -- but if the correlation is 0, that doesn't necessarily mean there is no relationship.\n",
    "\n",
    "In particular, if there is a non-linear relationship, the correlation coefficient can be close to 0.\n",
    "In each of the following examples, there is a clear relationship between the variables in the sense that if we are given one of the values, we can make a substantially better prediction of the other.\n",
    "But in each case the correlation coefficient is close to 0."
   ]
  },
  {
   "cell_type": "code",
   "execution_count": 42,
   "id": "55bb0f69",
   "metadata": {
    "tags": [
     "remove-input"
    ]
   },
   "outputs": [
    {
     "data": {
      "image/png": "[encoded data removed]",
      "text/plain": [
       "<Figure size 750x187.5 with 3 Axes>"
      ]
     },
     "metadata": {},
     "output_type": "display_data"
    },
    {
     "data": {
      "application/javascript": [
       "\n",
       "            setTimeout(function() {\n",
       "                var nbb_cell_id = 42;\n",
       "                var nbb_unformatted_code = \"from thinkstats import make_nonlinear_scatter\\n\\nplt.figure(figsize=(10, 2.5))\\n\\nfor i, kind in enumerate([\\\"abs\\\", \\\"quadratic\\\", \\\"sinusoid\\\"]):\\n    plt.subplot(1, 4, i + 1)\\n    make_nonlinear_scatter(xs, ys, kind)\\ndecorate()\";\n",
       "                var nbb_formatted_code = \"from thinkstats import make_nonlinear_scatter\\n\\nplt.figure(figsize=(10, 2.5))\\n\\nfor i, kind in enumerate([\\\"abs\\\", \\\"quadratic\\\", \\\"sinusoid\\\"]):\\n    plt.subplot(1, 4, i + 1)\\n    make_nonlinear_scatter(xs, ys, kind)\\ndecorate()\";\n",
       "                var nbb_cells = Jupyter.notebook.get_cells();\n",
       "                for (var i = 0; i < nbb_cells.length; ++i) {\n",
       "                    if (nbb_cells[i].input_prompt_number == nbb_cell_id) {\n",
       "                        if (nbb_cells[i].get_text() == nbb_unformatted_code) {\n",
       "                             nbb_cells[i].set_text(nbb_formatted_code);\n",
       "                        }\n",
       "                        break;\n",
       "                    }\n",
       "                }\n",
       "            }, 500);\n",
       "            "
      ],
      "text/plain": [
       "<IPython.core.display.Javascript object>"
      ]
     },
     "metadata": {},
     "output_type": "display_data"
    }
   ],
   "source": [
    "from thinkstats import make_nonlinear_scatter\n",
    "\n",
    "plt.figure(figsize=(10, 2.5))\n",
    "\n",
    "for i, kind in enumerate([\"abs\", \"quadratic\", \"sinusoid\"]):\n",
    "    plt.subplot(1, 4, i + 1)\n",
    "    make_nonlinear_scatter(xs, ys, kind)\n",
    "decorate()"
   ]
  },
  {
   "cell_type": "markdown",
   "id": "813492ce",
   "metadata": {},
   "source": [
    "The important thing to remember is that correlation quantifies the strength of a *linear* relationship between variables.\n",
    "If there is a non-linear relationship, the correlation coefficient can be misleading.\n",
    "And if the correlation is close to 0, that does *not* mean there is no relationship."
   ]
  },
  {
   "cell_type": "markdown",
   "id": "fc7d3927",
   "metadata": {},
   "source": [
    "## Rank Correlation\n",
    "\n",
    "\n",
    "The NLSY is longitudinal, which means that it follows the same group of people over time.\n",
    "The group we've been studying includes people born between 1980 and 1984.\n",
    "The ones who took the SAT probably took it in the late 1990s, when they were about 18 years old.\n",
    "So when they were asked about their income in 2021, they were in their late 30s or early 40s.\n",
    "\n",
    "Let's give the column with the income data a more interpretable name."
   ]
  },
  {
   "cell_type": "code",
   "execution_count": 111,
   "id": "e84e6376",
   "metadata": {},
   "outputs": [
    {
     "data": {
      "text/plain": [
       "count      6051.000000\n",
       "mean     104274.239960\n",
       "std      108470.571497\n",
       "min           0.000000\n",
       "25%       38000.000000\n",
       "50%       80000.000000\n",
       "75%      134157.000000\n",
       "max      599728.000000\n",
       "Name: income, dtype: float64"
      ]
     },
     "execution_count": 111,
     "metadata": {},
     "output_type": "execute_result"
    },
    {
     "data": {
      "application/javascript": [
       "\n",
       "            setTimeout(function() {\n",
       "                var nbb_cell_id = 111;\n",
       "                var nbb_unformatted_code = \"nlsy[\\\"income\\\"] = nlsy[\\\"U4949700\\\"]\\nnlsy[\\\"income\\\"].describe()\";\n",
       "                var nbb_formatted_code = \"nlsy[\\\"income\\\"] = nlsy[\\\"U4949700\\\"]\\nnlsy[\\\"income\\\"].describe()\";\n",
       "                var nbb_cells = Jupyter.notebook.get_cells();\n",
       "                for (var i = 0; i < nbb_cells.length; ++i) {\n",
       "                    if (nbb_cells[i].input_prompt_number == nbb_cell_id) {\n",
       "                        if (nbb_cells[i].get_text() == nbb_unformatted_code) {\n",
       "                             nbb_cells[i].set_text(nbb_formatted_code);\n",
       "                        }\n",
       "                        break;\n",
       "                    }\n",
       "                }\n",
       "            }, 500);\n",
       "            "
      ],
      "text/plain": [
       "<IPython.core.display.Javascript object>"
      ]
     },
     "metadata": {},
     "output_type": "display_data"
    }
   ],
   "source": [
    "nlsy[\"income\"] = nlsy[\"U4949700\"]\n",
    "nlsy[\"income\"].describe()"
   ]
  },
  {
   "cell_type": "markdown",
   "id": "0d8cbcbb",
   "metadata": {},
   "source": [
    "The values in this column are gross family income, which is total income from all sources of the respondent and the other members of their household, reported in U.S. dollars (USD).\n",
    "Here's what the distribution of income looks like."
   ]
  },
  {
   "cell_type": "code",
   "execution_count": 44,
   "id": "02490eb3",
   "metadata": {},
   "outputs": [
    {
     "data": {
      "image/png": "[encoded data removed]",
      "text/plain": [
       "<Figure size 450x262.5 with 1 Axes>"
      ]
     },
     "metadata": {},
     "output_type": "display_data"
    },
    {
     "data": {
      "application/javascript": [
       "\n",
       "            setTimeout(function() {\n",
       "                var nbb_cell_id = 44;\n",
       "                var nbb_unformatted_code = \"from empiricaldist import Cdf\\n\\ncdf_income = Cdf.from_seq(nlsy[\\\"income\\\"])\\ncdf_income.step()\\n\\ndecorate(xlabel=\\\"Income (USD)\\\", ylabel=\\\"CDF\\\")\";\n",
       "                var nbb_formatted_code = \"from empiricaldist import Cdf\\n\\ncdf_income = Cdf.from_seq(nlsy[\\\"income\\\"])\\ncdf_income.step()\\n\\ndecorate(xlabel=\\\"Income (USD)\\\", ylabel=\\\"CDF\\\")\";\n",
       "                var nbb_cells = Jupyter.notebook.get_cells();\n",
       "                for (var i = 0; i < nbb_cells.length; ++i) {\n",
       "                    if (nbb_cells[i].input_prompt_number == nbb_cell_id) {\n",
       "                        if (nbb_cells[i].get_text() == nbb_unformatted_code) {\n",
       "                             nbb_cells[i].set_text(nbb_formatted_code);\n",
       "                        }\n",
       "                        break;\n",
       "                    }\n",
       "                }\n",
       "            }, 500);\n",
       "            "
      ],
      "text/plain": [
       "<IPython.core.display.Javascript object>"
      ]
     },
     "metadata": {},
     "output_type": "display_data"
    }
   ],
   "source": [
    "from empiricaldist import Cdf\n",
    "\n",
    "cdf_income = Cdf.from_seq(nlsy[\"income\"])\n",
    "cdf_income.step()\n",
    "\n",
    "decorate(xlabel=\"Income (USD)\", ylabel=\"CDF\")"
   ]
  },
  {
   "cell_type": "markdown",
   "id": "fd5fee5a",
   "metadata": {},
   "source": [
    "Notice the step near $600,000 -- values above this threshold were capped to protect the anonymity of the participants.\n",
    "Now here's a scatter plot of the respondents' SAT math scores and their income later in life."
   ]
  },
  {
   "cell_type": "code",
   "execution_count": 45,
   "id": "122dfbe2",
   "metadata": {},
   "outputs": [
    {
     "data": {
      "image/png": "[encoded data removed]",
      "text/plain": [
       "<Figure size 450x262.5 with 1 Axes>"
      ]
     },
     "metadata": {},
     "output_type": "display_data"
    },
    {
     "data": {
      "application/javascript": [
       "\n",
       "            setTimeout(function() {\n",
       "                var nbb_cell_id = 45;\n",
       "                var nbb_unformatted_code = \"scatter(nlsy, \\\"piat_math\\\", \\\"income\\\")\\n\\ndecorate(xlabel=\\\"PIAT math\\\", ylabel=\\\"Gross Family Income (USD)\\\")\";\n",
       "                var nbb_formatted_code = \"scatter(nlsy, \\\"piat_math\\\", \\\"income\\\")\\n\\ndecorate(xlabel=\\\"PIAT math\\\", ylabel=\\\"Gross Family Income (USD)\\\")\";\n",
       "                var nbb_cells = Jupyter.notebook.get_cells();\n",
       "                for (var i = 0; i < nbb_cells.length; ++i) {\n",
       "                    if (nbb_cells[i].input_prompt_number == nbb_cell_id) {\n",
       "                        if (nbb_cells[i].get_text() == nbb_unformatted_code) {\n",
       "                             nbb_cells[i].set_text(nbb_formatted_code);\n",
       "                        }\n",
       "                        break;\n",
       "                    }\n",
       "                }\n",
       "            }, 500);\n",
       "            "
      ],
      "text/plain": [
       "<IPython.core.display.Javascript object>"
      ]
     },
     "metadata": {},
     "output_type": "display_data"
    }
   ],
   "source": [
    "scatter(nlsy, \"piat_math\", \"income\")\n",
    "\n",
    "decorate(xlabel=\"PIAT math\", ylabel=\"Gross Family Income (USD)\")"
   ]
  },
  {
   "cell_type": "markdown",
   "id": "05f8fc85",
   "metadata": {},
   "source": [
    "It looks like there is a relationship between these variables.\n",
    "Here is the correlation."
   ]
  },
  {
   "cell_type": "code",
   "execution_count": 46,
   "id": "805329c5",
   "metadata": {},
   "outputs": [
    {
     "data": {
      "text/plain": [
       "0.30338587288641233"
      ]
     },
     "execution_count": 46,
     "metadata": {},
     "output_type": "execute_result"
    },
    {
     "data": {
      "application/javascript": [
       "\n",
       "            setTimeout(function() {\n",
       "                var nbb_cell_id = 46;\n",
       "                var nbb_unformatted_code = \"corrcoef(nlsy, \\\"piat_math\\\", \\\"income\\\")\";\n",
       "                var nbb_formatted_code = \"corrcoef(nlsy, \\\"piat_math\\\", \\\"income\\\")\";\n",
       "                var nbb_cells = Jupyter.notebook.get_cells();\n",
       "                for (var i = 0; i < nbb_cells.length; ++i) {\n",
       "                    if (nbb_cells[i].input_prompt_number == nbb_cell_id) {\n",
       "                        if (nbb_cells[i].get_text() == nbb_unformatted_code) {\n",
       "                             nbb_cells[i].set_text(nbb_formatted_code);\n",
       "                        }\n",
       "                        break;\n",
       "                    }\n",
       "                }\n",
       "            }, 500);\n",
       "            "
      ],
      "text/plain": [
       "<IPython.core.display.Javascript object>"
      ]
     },
     "metadata": {},
     "output_type": "display_data"
    }
   ],
   "source": [
    "corrcoef(nlsy, \"piat_math\", \"income\")"
   ]
  },
  {
   "cell_type": "markdown",
   "id": "ed93365a",
   "metadata": {},
   "source": [
    "The correlation is about 0.3, which means that if someone gets a PIAT math score one standard deviation above the mean when they are 15 years old, we expect their income to be about 0.3 standard deviations above the mean when they are 40.\n",
    "That's not as strong as the correlation between PIAT scores and SAT scores, but considering the number of factors that affect income, it's pretty strong.\n",
    "\n",
    "In fact, Pearson's correlation coefficient might understate the strength of the relationship.\n",
    "As we can see in the previous scatter plot, both variables have an apparent excess of values at the extremes.\n",
    "Because the correlation coefficient is based on the product of deviations from the mean, it is sensitive to these extreme values.\n",
    "\n",
    "A more robust alternative is the **rank correlation**, which is based on the ranks of the scores rather than standardized scores.\n",
    "We can use the Pandas method `rank` to compute the rank of each score and each income."
   ]
  },
  {
   "cell_type": "code",
   "execution_count": 117,
   "id": "fb84c189",
   "metadata": {},
   "outputs": [
    {
     "data": {
      "application/javascript": [
       "\n",
       "            setTimeout(function() {\n",
       "                var nbb_cell_id = 117;\n",
       "                var nbb_unformatted_code = \"nlsy[\\\"piat_math_rank\\\"] = nlsy[\\\"piat_math\\\"].rank(method=\\\"first\\\")\\nnlsy[\\\"income_rank\\\"] = nlsy[\\\"income\\\"].rank(method=\\\"first\\\")\";\n",
       "                var nbb_formatted_code = \"nlsy[\\\"piat_math_rank\\\"] = nlsy[\\\"piat_math\\\"].rank(method=\\\"first\\\")\\nnlsy[\\\"income_rank\\\"] = nlsy[\\\"income\\\"].rank(method=\\\"first\\\")\";\n",
       "                var nbb_cells = Jupyter.notebook.get_cells();\n",
       "                for (var i = 0; i < nbb_cells.length; ++i) {\n",
       "                    if (nbb_cells[i].input_prompt_number == nbb_cell_id) {\n",
       "                        if (nbb_cells[i].get_text() == nbb_unformatted_code) {\n",
       "                             nbb_cells[i].set_text(nbb_formatted_code);\n",
       "                        }\n",
       "                        break;\n",
       "                    }\n",
       "                }\n",
       "            }, 500);\n",
       "            "
      ],
      "text/plain": [
       "<IPython.core.display.Javascript object>"
      ]
     },
     "metadata": {},
     "output_type": "display_data"
    }
   ],
   "source": [
    "nlsy[\"piat_math_rank\"] = nlsy[\"piat_math\"].rank(method=\"first\")\n",
    "nlsy[\"income_rank\"] = nlsy[\"income\"].rank(method=\"first\")"
   ]
  },
  {
   "cell_type": "markdown",
   "id": "d8a6704d",
   "metadata": {},
   "source": [
    "The results for both variables are ranks from 1 to 6051"
   ]
  },
  {
   "cell_type": "code",
   "execution_count": 122,
   "id": "4baac236",
   "metadata": {},
   "outputs": [
    {
     "data": {
      "text/plain": [
       "(1.0, 6051.0)"
      ]
     },
     "execution_count": 122,
     "metadata": {},
     "output_type": "execute_result"
    },
    {
     "data": {
      "application/javascript": [
       "\n",
       "            setTimeout(function() {\n",
       "                var nbb_cell_id = 122;\n",
       "                var nbb_unformatted_code = \"nlsy[\\\"income_rank\\\"].min(), nlsy[\\\"income_rank\\\"].max() \";\n",
       "                var nbb_formatted_code = \"nlsy[\\\"income_rank\\\"].min(), nlsy[\\\"income_rank\\\"].max()\";\n",
       "                var nbb_cells = Jupyter.notebook.get_cells();\n",
       "                for (var i = 0; i < nbb_cells.length; ++i) {\n",
       "                    if (nbb_cells[i].input_prompt_number == nbb_cell_id) {\n",
       "                        if (nbb_cells[i].get_text() == nbb_unformatted_code) {\n",
       "                             nbb_cells[i].set_text(nbb_formatted_code);\n",
       "                        }\n",
       "                        break;\n",
       "                    }\n",
       "                }\n",
       "            }, 500);\n",
       "            "
      ],
      "text/plain": [
       "<IPython.core.display.Javascript object>"
      ]
     },
     "metadata": {},
     "output_type": "display_data"
    }
   ],
   "source": [
    "nlsy[\"income_rank\"].min(), nlsy[\"income_rank\"].max()"
   ]
  },
  {
   "cell_type": "markdown",
   "id": "2a1aacca",
   "metadata": {},
   "source": [
    "Here's a scatter plot of the ranks."
   ]
  },
  {
   "cell_type": "code",
   "execution_count": 120,
   "id": "4470cb53",
   "metadata": {},
   "outputs": [
    {
     "data": {
      "image/png": "[encoded data removed]",
      "text/plain": [
       "<Figure size 450x262.5 with 1 Axes>"
      ]
     },
     "metadata": {},
     "output_type": "display_data"
    },
    {
     "data": {
      "application/javascript": [
       "\n",
       "            setTimeout(function() {\n",
       "                var nbb_cell_id = 120;\n",
       "                var nbb_unformatted_code = \"scatter(nlsy, \\\"piat_math_rank\\\", \\\"income_rank\\\")\\n\\ndecorate(xlabel=\\\"PIAT math rank\\\", ylabel=\\\"Income rank\\\")\";\n",
       "                var nbb_formatted_code = \"scatter(nlsy, \\\"piat_math_rank\\\", \\\"income_rank\\\")\\n\\ndecorate(xlabel=\\\"PIAT math rank\\\", ylabel=\\\"Income rank\\\")\";\n",
       "                var nbb_cells = Jupyter.notebook.get_cells();\n",
       "                for (var i = 0; i < nbb_cells.length; ++i) {\n",
       "                    if (nbb_cells[i].input_prompt_number == nbb_cell_id) {\n",
       "                        if (nbb_cells[i].get_text() == nbb_unformatted_code) {\n",
       "                             nbb_cells[i].set_text(nbb_formatted_code);\n",
       "                        }\n",
       "                        break;\n",
       "                    }\n",
       "                }\n",
       "            }, 500);\n",
       "            "
      ],
      "text/plain": [
       "<IPython.core.display.Javascript object>"
      ]
     },
     "metadata": {},
     "output_type": "display_data"
    }
   ],
   "source": [
    "scatter(nlsy, \"piat_math_rank\", \"income_rank\")\n",
    "\n",
    "decorate(xlabel=\"PIAT math rank\", ylabel=\"Income rank\")"
   ]
  },
  {
   "cell_type": "markdown",
   "id": "71fde67d",
   "metadata": {},
   "source": [
    "And here's the correlation of the ranks."
   ]
  },
  {
   "cell_type": "code",
   "execution_count": 121,
   "id": "f9cfd2c2",
   "metadata": {},
   "outputs": [
    {
     "data": {
      "text/plain": [
       "0.3814091858940045"
      ]
     },
     "execution_count": 121,
     "metadata": {},
     "output_type": "execute_result"
    },
    {
     "data": {
      "application/javascript": [
       "\n",
       "            setTimeout(function() {\n",
       "                var nbb_cell_id = 121;\n",
       "                var nbb_unformatted_code = \"corrcoef(nlsy, \\\"piat_math_rank\\\", \\\"income_rank\\\")\";\n",
       "                var nbb_formatted_code = \"corrcoef(nlsy, \\\"piat_math_rank\\\", \\\"income_rank\\\")\";\n",
       "                var nbb_cells = Jupyter.notebook.get_cells();\n",
       "                for (var i = 0; i < nbb_cells.length; ++i) {\n",
       "                    if (nbb_cells[i].input_prompt_number == nbb_cell_id) {\n",
       "                        if (nbb_cells[i].get_text() == nbb_unformatted_code) {\n",
       "                             nbb_cells[i].set_text(nbb_formatted_code);\n",
       "                        }\n",
       "                        break;\n",
       "                    }\n",
       "                }\n",
       "            }, 500);\n",
       "            "
      ],
      "text/plain": [
       "<IPython.core.display.Javascript object>"
      ]
     },
     "metadata": {},
     "output_type": "display_data"
    }
   ],
   "source": [
    "corrcoef(nlsy, \"piat_math_rank\", \"income_rank\")"
   ]
  },
  {
   "cell_type": "markdown",
   "id": "a4d26d41",
   "metadata": {},
   "source": [
    "The result is about 0.38, somewhat higher than the Pearson correlation, which is 0.3.\n",
    "Because rank correlation is less sensitive to the effect of extreme values, it is probably a better measure of the strength of the relationship between these variables.\n",
    "\n",
    "As an exercise, you'll have a chance to compute the correlation between SAT verbal scores and income, both Pearson's correlation and the rank correlation."
   ]
  },
  {
   "cell_type": "markdown",
   "id": "22a5b4cd",
   "metadata": {},
   "source": [
    "## Correlation and causation\n",
    "\n",
    "If variables A and B are correlated, there are three possible explanations: A causes B, or B causes A, or some other set of factors causes both A and B. These explanations are called \"causal relationships\".\n",
    "\n",
    "Correlation alone does not distinguish between these explanations, so it does not tell you which ones are true.\n",
    "This rule is often summarized with the phrase \"Correlation does not imply causation,\" which is so pithy it has its own Wikipedia page."
   ]
  },
  {
   "cell_type": "markdown",
   "id": "06983fb0",
   "metadata": {
    "tags": [
     "remove-print"
    ]
   },
   "source": [
    "<http://wikipedia.org/wiki/Correlation_does_not_imply_causation>"
   ]
  },
  {
   "cell_type": "markdown",
   "id": "1f4ace1e",
   "metadata": {},
   "source": [
    "So what can you do to provide evidence of causation?\n",
    "\n",
    "1.  Use time. If A comes before B, then A can cause B but not the other way around.\n",
    "The order of events can help us infer the direction of causation, but it does not preclude the possibility that something else causes both A and B.\n",
    "\n",
    "2.  Use randomness.\n",
    "If you divide a large sample into two groups at random and compute the means of almost any variable, you expect the difference to be small.\n",
    "If the groups are nearly identical in all variables but one, you can eliminate spurious relationships.\n",
    "\n",
    "These ideas are the motivation for the **randomized controlled trial**, in which subjects are assigned randomly to two (or more) groups: a **treatment group** that receives some kind of intervention, like a new medicine, and a **control group** that receives no intervention, or another treatment whose effects are known.\n",
    "A randomized controlled trial is the most reliable way to demonstrate a causal relationship, and the foundation of science-based medicine.\n",
    "\n",
    "Unfortunately, controlled trials are only possible in the laboratory sciences, medicine, and a few other disciplines.\n",
    "In the social sciences, controlled experiments are rare, usually because they are impossible or unethical.\n",
    "An alternative is to look for a **natural experiment**, where similar groups are exposed to different conditions due to circumstances beyond the control of the experimenter.\n",
    "\n",
    "Identifying and measuring causal relationships is the topic of a branch of statistics called **causal inference**."
   ]
  },
  {
   "cell_type": "markdown",
   "id": "c4586192",
   "metadata": {},
   "source": [
    "## Glossary\n",
    "\n",
    "-   **scatter plot**: A visualization of the relationship between two variables, showing one point for each row of data.\n",
    "\n",
    "-   **jitter**: Random noise added to data for purposes of visualization.\n",
    "\n",
    "-   **saturation**: Loss of information when multiple points are plotted on top of each other.\n",
    "\n",
    "-   **correlation**: A statistic that measures the strength of the relationship between two variables.\n",
    "\n",
    "-   **standardize**: To transform a set of values so that their mean is 0 and their variance is 1.\n",
    "\n",
    "-   **standard score**: A value that has been standardized so that it is expressed in standard deviations from the mean.\n",
    "\n",
    "-   **covariance**: A measure of the tendency of two variables to vary together.\n",
    "\n",
    "-   **rank**: The index where an element appears in a sorted list.\n",
    "\n",
    "-   **randomized controlled trial**: An experimental design in which subjects are divided into groups at random, and different groups are given different treatments.\n",
    "\n",
    "-   **treatment group**: A group in a controlled trial that receives some kind of intervention.\n",
    "\n",
    "-   **control group**: A group in a controlled trial that receives no treatment, or a treatment whose effect is known.\n",
    "\n",
    "-   **natural experiment**: An experimental design that takes advantage of a natural division of subjects into groups in ways that are at least approximately random."
   ]
  },
  {
   "cell_type": "markdown",
   "id": "89eff46b",
   "metadata": {},
   "source": [
    "## Exercises"
   ]
  },
  {
   "cell_type": "markdown",
   "id": "8988e57e",
   "metadata": {},
   "source": [
    "### Exercise\n",
    "\n"
   ]
  },
  {
   "cell_type": "code",
   "execution_count": 97,
   "id": "3b4bae3d",
   "metadata": {},
   "outputs": [
    {
     "data": {
      "text/plain": [
       "count    6004.000000\n",
       "mean        2.818408\n",
       "std         0.616357\n",
       "min         0.100000\n",
       "25%         2.430000\n",
       "50%         2.860000\n",
       "75%         3.260000\n",
       "max         4.170000\n",
       "Name: gpa, dtype: float64"
      ]
     },
     "execution_count": 97,
     "metadata": {},
     "output_type": "execute_result"
    },
    {
     "data": {
      "application/javascript": [
       "\n",
       "            setTimeout(function() {\n",
       "                var nbb_cell_id = 97;\n",
       "                var nbb_unformatted_code = \"missing_codes = [-6, -7, -8, -9]\\nnlsy[\\\"gpa\\\"] = nlsy[\\\"R9871900\\\"].replace(missing_codes, np.nan) / 100\\nnlsy[\\\"gpa\\\"].describe()\";\n",
       "                var nbb_formatted_code = \"missing_codes = [-6, -7, -8, -9]\\nnlsy[\\\"gpa\\\"] = nlsy[\\\"R9871900\\\"].replace(missing_codes, np.nan) / 100\\nnlsy[\\\"gpa\\\"].describe()\";\n",
       "                var nbb_cells = Jupyter.notebook.get_cells();\n",
       "                for (var i = 0; i < nbb_cells.length; ++i) {\n",
       "                    if (nbb_cells[i].input_prompt_number == nbb_cell_id) {\n",
       "                        if (nbb_cells[i].get_text() == nbb_unformatted_code) {\n",
       "                             nbb_cells[i].set_text(nbb_formatted_code);\n",
       "                        }\n",
       "                        break;\n",
       "                    }\n",
       "                }\n",
       "            }, 500);\n",
       "            "
      ],
      "text/plain": [
       "<IPython.core.display.Javascript object>"
      ]
     },
     "metadata": {},
     "output_type": "display_data"
    }
   ],
   "source": [
    "missing_codes = [-6, -7, -8, -9]\n",
    "nlsy[\"gpa\"] = nlsy[\"R9871900\"].replace(missing_codes, np.nan) / 100\n",
    "nlsy[\"gpa\"].describe()"
   ]
  },
  {
   "cell_type": "code",
   "execution_count": 98,
   "id": "b9c42969",
   "metadata": {},
   "outputs": [
    {
     "data": {
      "image/png": "[encoded data removed]",
      "text/plain": [
       "<Figure size 450x262.5 with 1 Axes>"
      ]
     },
     "metadata": {},
     "output_type": "display_data"
    },
    {
     "data": {
      "application/javascript": [
       "\n",
       "            setTimeout(function() {\n",
       "                var nbb_cell_id = 98;\n",
       "                var nbb_unformatted_code = \"cdf_income = Cdf.from_seq(nlsy[\\\"gpa\\\"])\\ncdf_income.step()\\ndecorate(xlabel=\\\"Income (USD)\\\", ylabel=\\\"CDF\\\")\";\n",
       "                var nbb_formatted_code = \"cdf_income = Cdf.from_seq(nlsy[\\\"gpa\\\"])\\ncdf_income.step()\\ndecorate(xlabel=\\\"Income (USD)\\\", ylabel=\\\"CDF\\\")\";\n",
       "                var nbb_cells = Jupyter.notebook.get_cells();\n",
       "                for (var i = 0; i < nbb_cells.length; ++i) {\n",
       "                    if (nbb_cells[i].input_prompt_number == nbb_cell_id) {\n",
       "                        if (nbb_cells[i].get_text() == nbb_unformatted_code) {\n",
       "                             nbb_cells[i].set_text(nbb_formatted_code);\n",
       "                        }\n",
       "                        break;\n",
       "                    }\n",
       "                }\n",
       "            }, 500);\n",
       "            "
      ],
      "text/plain": [
       "<IPython.core.display.Javascript object>"
      ]
     },
     "metadata": {},
     "output_type": "display_data"
    }
   ],
   "source": [
    "cdf_income = Cdf.from_seq(nlsy[\"gpa\"])\n",
    "cdf_income.step()\n",
    "decorate(xlabel=\"Income (USD)\", ylabel=\"CDF\")"
   ]
  },
  {
   "cell_type": "code",
   "execution_count": 96,
   "id": "8ac28b4a",
   "metadata": {},
   "outputs": [
    {
     "data": {
      "text/plain": [
       "count    1398.000000\n",
       "mean     1004.892704\n",
       "std       203.214916\n",
       "min       430.000000\n",
       "25%       860.000000\n",
       "50%      1000.000000\n",
       "75%      1140.000000\n",
       "max      1580.000000\n",
       "Name: sat_total, dtype: float64"
      ]
     },
     "execution_count": 96,
     "metadata": {},
     "output_type": "execute_result"
    },
    {
     "data": {
      "application/javascript": [
       "\n",
       "            setTimeout(function() {\n",
       "                var nbb_cell_id = 96;\n",
       "                var nbb_unformatted_code = \"nlsy[\\\"sat_total\\\"] = nlsy[\\\"sat_verbal\\\"] + nlsy[\\\"sat_math\\\"]\\nnlsy[\\\"sat_total\\\"].describe()\";\n",
       "                var nbb_formatted_code = \"nlsy[\\\"sat_total\\\"] = nlsy[\\\"sat_verbal\\\"] + nlsy[\\\"sat_math\\\"]\\nnlsy[\\\"sat_total\\\"].describe()\";\n",
       "                var nbb_cells = Jupyter.notebook.get_cells();\n",
       "                for (var i = 0; i < nbb_cells.length; ++i) {\n",
       "                    if (nbb_cells[i].input_prompt_number == nbb_cell_id) {\n",
       "                        if (nbb_cells[i].get_text() == nbb_unformatted_code) {\n",
       "                             nbb_cells[i].set_text(nbb_formatted_code);\n",
       "                        }\n",
       "                        break;\n",
       "                    }\n",
       "                }\n",
       "            }, 500);\n",
       "            "
      ],
      "text/plain": [
       "<IPython.core.display.Javascript object>"
      ]
     },
     "metadata": {},
     "output_type": "display_data"
    }
   ],
   "source": [
    "nlsy[\"sat_total\"] = nlsy[\"sat_verbal\"] + nlsy[\"sat_math\"]\n",
    "nlsy[\"sat_total\"].describe()"
   ]
  },
  {
   "cell_type": "code",
   "execution_count": 101,
   "id": "fa23e11a",
   "metadata": {},
   "outputs": [
    {
     "data": {
      "text/plain": [
       "0.49151202115123105"
      ]
     },
     "execution_count": 101,
     "metadata": {},
     "output_type": "execute_result"
    },
    {
     "data": {
      "application/javascript": [
       "\n",
       "            setTimeout(function() {\n",
       "                var nbb_cell_id = 101;\n",
       "                var nbb_unformatted_code = \"corrcoef(nlsy, \\\"gpa\\\", \\\"sat_total\\\")\";\n",
       "                var nbb_formatted_code = \"corrcoef(nlsy, \\\"gpa\\\", \\\"sat_total\\\")\";\n",
       "                var nbb_cells = Jupyter.notebook.get_cells();\n",
       "                for (var i = 0; i < nbb_cells.length; ++i) {\n",
       "                    if (nbb_cells[i].input_prompt_number == nbb_cell_id) {\n",
       "                        if (nbb_cells[i].get_text() == nbb_unformatted_code) {\n",
       "                             nbb_cells[i].set_text(nbb_formatted_code);\n",
       "                        }\n",
       "                        break;\n",
       "                    }\n",
       "                }\n",
       "            }, 500);\n",
       "            "
      ],
      "text/plain": [
       "<IPython.core.display.Javascript object>"
      ]
     },
     "metadata": {},
     "output_type": "display_data"
    }
   ],
   "source": [
    "corrcoef(nlsy, \"gpa\", \"sat_total\")"
   ]
  },
  {
   "cell_type": "code",
   "execution_count": 100,
   "id": "35bcc08f",
   "metadata": {},
   "outputs": [
    {
     "data": {
      "text/plain": [
       "0.2769331736366622"
      ]
     },
     "execution_count": 100,
     "metadata": {},
     "output_type": "execute_result"
    },
    {
     "data": {
      "application/javascript": [
       "\n",
       "            setTimeout(function() {\n",
       "                var nbb_cell_id = 100;\n",
       "                var nbb_unformatted_code = \"corrcoef(nlsy, \\\"gpa\\\", \\\"income\\\")\";\n",
       "                var nbb_formatted_code = \"corrcoef(nlsy, \\\"gpa\\\", \\\"income\\\")\";\n",
       "                var nbb_cells = Jupyter.notebook.get_cells();\n",
       "                for (var i = 0; i < nbb_cells.length; ++i) {\n",
       "                    if (nbb_cells[i].input_prompt_number == nbb_cell_id) {\n",
       "                        if (nbb_cells[i].get_text() == nbb_unformatted_code) {\n",
       "                             nbb_cells[i].set_text(nbb_formatted_code);\n",
       "                        }\n",
       "                        break;\n",
       "                    }\n",
       "                }\n",
       "            }, 500);\n",
       "            "
      ],
      "text/plain": [
       "<IPython.core.display.Javascript object>"
      ]
     },
     "metadata": {},
     "output_type": "display_data"
    }
   ],
   "source": [
    "corrcoef(nlsy, \"gpa\", \"income\")"
   ]
  },
  {
   "cell_type": "code",
   "execution_count": 102,
   "id": "2a9a7758",
   "metadata": {},
   "outputs": [
    {
     "data": {
      "text/plain": [
       "sex\n",
       "1    4599\n",
       "2    4385\n",
       "Name: count, dtype: int64"
      ]
     },
     "execution_count": 102,
     "metadata": {},
     "output_type": "execute_result"
    },
    {
     "data": {
      "application/javascript": [
       "\n",
       "            setTimeout(function() {\n",
       "                var nbb_cell_id = 102;\n",
       "                var nbb_unformatted_code = \"nlsy[\\\"sex\\\"] = nlsy[\\\"R0536300\\\"]\\nnlsy[\\\"sex\\\"].value_counts()\";\n",
       "                var nbb_formatted_code = \"nlsy[\\\"sex\\\"] = nlsy[\\\"R0536300\\\"]\\nnlsy[\\\"sex\\\"].value_counts()\";\n",
       "                var nbb_cells = Jupyter.notebook.get_cells();\n",
       "                for (var i = 0; i < nbb_cells.length; ++i) {\n",
       "                    if (nbb_cells[i].input_prompt_number == nbb_cell_id) {\n",
       "                        if (nbb_cells[i].get_text() == nbb_unformatted_code) {\n",
       "                             nbb_cells[i].set_text(nbb_formatted_code);\n",
       "                        }\n",
       "                        break;\n",
       "                    }\n",
       "                }\n",
       "            }, 500);\n",
       "            "
      ],
      "text/plain": [
       "<IPython.core.display.Javascript object>"
      ]
     },
     "metadata": {},
     "output_type": "display_data"
    }
   ],
   "source": [
    "nlsy[\"sex\"] = nlsy[\"R0536300\"]\n",
    "nlsy[\"sex\"].value_counts()"
   ]
  },
  {
   "cell_type": "code",
   "execution_count": 104,
   "id": "f663a36a",
   "metadata": {},
   "outputs": [
    {
     "data": {
      "text/plain": [
       "0.5370919853275717"
      ]
     },
     "execution_count": 104,
     "metadata": {},
     "output_type": "execute_result"
    },
    {
     "data": {
      "application/javascript": [
       "\n",
       "            setTimeout(function() {\n",
       "                var nbb_cell_id = 104;\n",
       "                var nbb_unformatted_code = \"corrcoef(nlsy.query(\\\"sex == 1\\\"), \\\"gpa\\\", \\\"sat_total\\\")\";\n",
       "                var nbb_formatted_code = \"corrcoef(nlsy.query(\\\"sex == 1\\\"), \\\"gpa\\\", \\\"sat_total\\\")\";\n",
       "                var nbb_cells = Jupyter.notebook.get_cells();\n",
       "                for (var i = 0; i < nbb_cells.length; ++i) {\n",
       "                    if (nbb_cells[i].input_prompt_number == nbb_cell_id) {\n",
       "                        if (nbb_cells[i].get_text() == nbb_unformatted_code) {\n",
       "                             nbb_cells[i].set_text(nbb_formatted_code);\n",
       "                        }\n",
       "                        break;\n",
       "                    }\n",
       "                }\n",
       "            }, 500);\n",
       "            "
      ],
      "text/plain": [
       "<IPython.core.display.Javascript object>"
      ]
     },
     "metadata": {},
     "output_type": "display_data"
    }
   ],
   "source": [
    "corrcoef(nlsy.query(\"sex == 1\"), \"gpa\", \"sat_total\")"
   ]
  },
  {
   "cell_type": "code",
   "execution_count": 105,
   "id": "a62e7063",
   "metadata": {},
   "outputs": [
    {
     "data": {
      "text/plain": [
       "0.4909916575472292"
      ]
     },
     "execution_count": 105,
     "metadata": {},
     "output_type": "execute_result"
    },
    {
     "data": {
      "application/javascript": [
       "\n",
       "            setTimeout(function() {\n",
       "                var nbb_cell_id = 105;\n",
       "                var nbb_unformatted_code = \"corrcoef(nlsy.query(\\\"sex == 2\\\"), \\\"gpa\\\", \\\"sat_total\\\")\";\n",
       "                var nbb_formatted_code = \"corrcoef(nlsy.query(\\\"sex == 2\\\"), \\\"gpa\\\", \\\"sat_total\\\")\";\n",
       "                var nbb_cells = Jupyter.notebook.get_cells();\n",
       "                for (var i = 0; i < nbb_cells.length; ++i) {\n",
       "                    if (nbb_cells[i].input_prompt_number == nbb_cell_id) {\n",
       "                        if (nbb_cells[i].get_text() == nbb_unformatted_code) {\n",
       "                             nbb_cells[i].set_text(nbb_formatted_code);\n",
       "                        }\n",
       "                        break;\n",
       "                    }\n",
       "                }\n",
       "            }, 500);\n",
       "            "
      ],
      "text/plain": [
       "<IPython.core.display.Javascript object>"
      ]
     },
     "metadata": {},
     "output_type": "display_data"
    }
   ],
   "source": [
    "corrcoef(nlsy.query(\"sex == 2\"), \"gpa\", \"sat_total\")"
   ]
  },
  {
   "cell_type": "code",
   "execution_count": 106,
   "id": "ed34f523",
   "metadata": {},
   "outputs": [
    {
     "data": {
      "text/plain": [
       "0.26896499010590313"
      ]
     },
     "execution_count": 106,
     "metadata": {},
     "output_type": "execute_result"
    },
    {
     "data": {
      "application/javascript": [
       "\n",
       "            setTimeout(function() {\n",
       "                var nbb_cell_id = 106;\n",
       "                var nbb_unformatted_code = \"corrcoef(nlsy.query(\\\"sex == 1\\\"), \\\"gpa\\\", \\\"income\\\")\";\n",
       "                var nbb_formatted_code = \"corrcoef(nlsy.query(\\\"sex == 1\\\"), \\\"gpa\\\", \\\"income\\\")\";\n",
       "                var nbb_cells = Jupyter.notebook.get_cells();\n",
       "                for (var i = 0; i < nbb_cells.length; ++i) {\n",
       "                    if (nbb_cells[i].input_prompt_number == nbb_cell_id) {\n",
       "                        if (nbb_cells[i].get_text() == nbb_unformatted_code) {\n",
       "                             nbb_cells[i].set_text(nbb_formatted_code);\n",
       "                        }\n",
       "                        break;\n",
       "                    }\n",
       "                }\n",
       "            }, 500);\n",
       "            "
      ],
      "text/plain": [
       "<IPython.core.display.Javascript object>"
      ]
     },
     "metadata": {},
     "output_type": "display_data"
    }
   ],
   "source": [
    "corrcoef(nlsy.query(\"sex == 1\"), \"gpa\", \"income\")"
   ]
  },
  {
   "cell_type": "code",
   "execution_count": 107,
   "id": "ec9b7242",
   "metadata": {},
   "outputs": [
    {
     "data": {
      "text/plain": [
       "0.3040642590135165"
      ]
     },
     "execution_count": 107,
     "metadata": {},
     "output_type": "execute_result"
    },
    {
     "data": {
      "application/javascript": [
       "\n",
       "            setTimeout(function() {\n",
       "                var nbb_cell_id = 107;\n",
       "                var nbb_unformatted_code = \"corrcoef(nlsy.query(\\\"sex == 2\\\"), \\\"gpa\\\", \\\"income\\\")\";\n",
       "                var nbb_formatted_code = \"corrcoef(nlsy.query(\\\"sex == 2\\\"), \\\"gpa\\\", \\\"income\\\")\";\n",
       "                var nbb_cells = Jupyter.notebook.get_cells();\n",
       "                for (var i = 0; i < nbb_cells.length; ++i) {\n",
       "                    if (nbb_cells[i].input_prompt_number == nbb_cell_id) {\n",
       "                        if (nbb_cells[i].get_text() == nbb_unformatted_code) {\n",
       "                             nbb_cells[i].set_text(nbb_formatted_code);\n",
       "                        }\n",
       "                        break;\n",
       "                    }\n",
       "                }\n",
       "            }, 500);\n",
       "            "
      ],
      "text/plain": [
       "<IPython.core.display.Javascript object>"
      ]
     },
     "metadata": {},
     "output_type": "display_data"
    }
   ],
   "source": [
    "corrcoef(nlsy.query(\"sex == 2\"), \"gpa\", \"income\")"
   ]
  },
  {
   "cell_type": "markdown",
   "id": "88d7b0f8",
   "metadata": {},
   "source": [
    "### Exercise\n",
    "\n",
    "Income versus education"
   ]
  },
  {
   "cell_type": "code",
   "execution_count": 53,
   "id": "f1fa8729",
   "metadata": {},
   "outputs": [
    {
     "data": {
      "application/javascript": [
       "\n",
       "            setTimeout(function() {\n",
       "                var nbb_cell_id = 53;\n",
       "                var nbb_unformatted_code = \"xvar = \\\"Z9083900\\\"\\nyvar = \\\"U4949700\\\"\";\n",
       "                var nbb_formatted_code = \"xvar = \\\"Z9083900\\\"\\nyvar = \\\"U4949700\\\"\";\n",
       "                var nbb_cells = Jupyter.notebook.get_cells();\n",
       "                for (var i = 0; i < nbb_cells.length; ++i) {\n",
       "                    if (nbb_cells[i].input_prompt_number == nbb_cell_id) {\n",
       "                        if (nbb_cells[i].get_text() == nbb_unformatted_code) {\n",
       "                             nbb_cells[i].set_text(nbb_formatted_code);\n",
       "                        }\n",
       "                        break;\n",
       "                    }\n",
       "                }\n",
       "            }, 500);\n",
       "            "
      ],
      "text/plain": [
       "<IPython.core.display.Javascript object>"
      ]
     },
     "metadata": {},
     "output_type": "display_data"
    }
   ],
   "source": [
    "xvar = \"Z9083900\"\n",
    "yvar = \"U4949700\""
   ]
  },
  {
   "cell_type": "code",
   "execution_count": 54,
   "id": "7ef255d0",
   "metadata": {},
   "outputs": [
    {
     "data": {
      "text/plain": [
       "count    6028.000000\n",
       "mean        2.634041\n",
       "std         1.520432\n",
       "min         0.000000\n",
       "25%         2.000000\n",
       "50%         2.000000\n",
       "75%         4.000000\n",
       "max         7.000000\n",
       "Name: Z9083900, dtype: float64"
      ]
     },
     "execution_count": 54,
     "metadata": {},
     "output_type": "execute_result"
    },
    {
     "data": {
      "application/javascript": [
       "\n",
       "            setTimeout(function() {\n",
       "                var nbb_cell_id = 54;\n",
       "                var nbb_unformatted_code = \"valid = nlsy.dropna(subset=[xvar, yvar])\\nvalid[xvar].describe()\";\n",
       "                var nbb_formatted_code = \"valid = nlsy.dropna(subset=[xvar, yvar])\\nvalid[xvar].describe()\";\n",
       "                var nbb_cells = Jupyter.notebook.get_cells();\n",
       "                for (var i = 0; i < nbb_cells.length; ++i) {\n",
       "                    if (nbb_cells[i].input_prompt_number == nbb_cell_id) {\n",
       "                        if (nbb_cells[i].get_text() == nbb_unformatted_code) {\n",
       "                             nbb_cells[i].set_text(nbb_formatted_code);\n",
       "                        }\n",
       "                        break;\n",
       "                    }\n",
       "                }\n",
       "            }, 500);\n",
       "            "
      ],
      "text/plain": [
       "<IPython.core.display.Javascript object>"
      ]
     },
     "metadata": {},
     "output_type": "display_data"
    }
   ],
   "source": [
    "valid = nlsy.dropna(subset=[xvar, yvar])\n",
    "valid[xvar].describe()"
   ]
  },
  {
   "cell_type": "code",
   "execution_count": 55,
   "id": "cfdc04d4",
   "metadata": {},
   "outputs": [
    {
     "data": {
      "application/javascript": [
       "\n",
       "            setTimeout(function() {\n",
       "                var nbb_cell_id = 55;\n",
       "                var nbb_unformatted_code = \"positions = [0, 1, 2, 3, 4, 5, 6, 7]\\nlabels = [\\n    'None', \\n    'GED', \\n    'High school diploma', \\n    \\\"Associate's degree\\\", \\n    \\\"Bachelor's degree\\\", \\n    \\\"Master's degree\\\", \\n    'PhD', \\n    'Professional degree'\\n]\";\n",
       "                var nbb_formatted_code = \"positions = [0, 1, 2, 3, 4, 5, 6, 7]\\nlabels = [\\n    \\\"None\\\",\\n    \\\"GED\\\",\\n    \\\"High school diploma\\\",\\n    \\\"Associate's degree\\\",\\n    \\\"Bachelor's degree\\\",\\n    \\\"Master's degree\\\",\\n    \\\"PhD\\\",\\n    \\\"Professional degree\\\",\\n]\";\n",
       "                var nbb_cells = Jupyter.notebook.get_cells();\n",
       "                for (var i = 0; i < nbb_cells.length; ++i) {\n",
       "                    if (nbb_cells[i].input_prompt_number == nbb_cell_id) {\n",
       "                        if (nbb_cells[i].get_text() == nbb_unformatted_code) {\n",
       "                             nbb_cells[i].set_text(nbb_formatted_code);\n",
       "                        }\n",
       "                        break;\n",
       "                    }\n",
       "                }\n",
       "            }, 500);\n",
       "            "
      ],
      "text/plain": [
       "<IPython.core.display.Javascript object>"
      ]
     },
     "metadata": {},
     "output_type": "display_data"
    }
   ],
   "source": [
    "positions = [0, 1, 2, 3, 4, 5, 6, 7]\n",
    "labels = [\n",
    "    'None', \n",
    "    'GED', \n",
    "    'High school diploma', \n",
    "    \"Associate's degree\", \n",
    "    \"Bachelor's degree\", \n",
    "    \"Master's degree\", \n",
    "    'PhD', \n",
    "    'Professional degree'\n",
    "]\n"
   ]
  },
  {
   "cell_type": "code",
   "execution_count": 56,
   "id": "f496ca9c",
   "metadata": {},
   "outputs": [
    {
     "data": {
      "image/png": "[encoded data removed]",
      "text/plain": [
       "<Figure size 450x262.5 with 1 Axes>"
      ]
     },
     "metadata": {},
     "output_type": "display_data"
    },
    {
     "data": {
      "application/javascript": [
       "\n",
       "            setTimeout(function() {\n",
       "                var nbb_cell_id = 56;\n",
       "                var nbb_unformatted_code = \"from empiricaldist import Pmf\\n\\nPmf.from_seq(valid[xvar]).bar()\\n\\nplt.xticks(positions, labels, rotation=30, ha=\\\"right\\\")\\ndecorate(ylabel=\\\"PMF\\\")\";\n",
       "                var nbb_formatted_code = \"from empiricaldist import Pmf\\n\\nPmf.from_seq(valid[xvar]).bar()\\n\\nplt.xticks(positions, labels, rotation=30, ha=\\\"right\\\")\\ndecorate(ylabel=\\\"PMF\\\")\";\n",
       "                var nbb_cells = Jupyter.notebook.get_cells();\n",
       "                for (var i = 0; i < nbb_cells.length; ++i) {\n",
       "                    if (nbb_cells[i].input_prompt_number == nbb_cell_id) {\n",
       "                        if (nbb_cells[i].get_text() == nbb_unformatted_code) {\n",
       "                             nbb_cells[i].set_text(nbb_formatted_code);\n",
       "                        }\n",
       "                        break;\n",
       "                    }\n",
       "                }\n",
       "            }, 500);\n",
       "            "
      ],
      "text/plain": [
       "<IPython.core.display.Javascript object>"
      ]
     },
     "metadata": {},
     "output_type": "display_data"
    }
   ],
   "source": [
    "from empiricaldist import Pmf\n",
    "\n",
    "Pmf.from_seq(valid[xvar]).bar()\n",
    "\n",
    "plt.xticks(positions, labels, rotation=30, ha=\"right\")\n",
    "decorate(ylabel=\"PMF\")"
   ]
  },
  {
   "cell_type": "code",
   "execution_count": 57,
   "id": "72d38760",
   "metadata": {},
   "outputs": [
    {
     "data": {
      "image/png": "[encoded data removed]",
      "text/plain": [
       "<Figure size 450x262.5 with 1 Axes>"
      ]
     },
     "metadata": {},
     "output_type": "display_data"
    },
    {
     "data": {
      "application/javascript": [
       "\n",
       "            setTimeout(function() {\n",
       "                var nbb_cell_id = 57;\n",
       "                var nbb_unformatted_code = \"xs = jitter(valid[xvar], 0.1)\\nplt.plot(xs, valid[yvar], \\\".\\\", ms=1, alpha=0.4)\\n\\nplt.xticks(positions, labels, rotation=30, ha=\\\"right\\\")\\ndecorate()\";\n",
       "                var nbb_formatted_code = \"xs = jitter(valid[xvar], 0.1)\\nplt.plot(xs, valid[yvar], \\\".\\\", ms=1, alpha=0.4)\\n\\nplt.xticks(positions, labels, rotation=30, ha=\\\"right\\\")\\ndecorate()\";\n",
       "                var nbb_cells = Jupyter.notebook.get_cells();\n",
       "                for (var i = 0; i < nbb_cells.length; ++i) {\n",
       "                    if (nbb_cells[i].input_prompt_number == nbb_cell_id) {\n",
       "                        if (nbb_cells[i].get_text() == nbb_unformatted_code) {\n",
       "                             nbb_cells[i].set_text(nbb_formatted_code);\n",
       "                        }\n",
       "                        break;\n",
       "                    }\n",
       "                }\n",
       "            }, 500);\n",
       "            "
      ],
      "text/plain": [
       "<IPython.core.display.Javascript object>"
      ]
     },
     "metadata": {},
     "output_type": "display_data"
    }
   ],
   "source": [
    "xs = jitter(valid[xvar], 0.1)\n",
    "plt.plot(xs, valid[yvar], \".\", ms=1, alpha=0.4)\n",
    "\n",
    "plt.xticks(positions, labels, rotation=30, ha=\"right\")\n",
    "decorate()"
   ]
  },
  {
   "cell_type": "code",
   "execution_count": 58,
   "id": "7b997d87",
   "metadata": {},
   "outputs": [
    {
     "data": {
      "text/plain": [
       "array([[1.        , 0.40973088],\n",
       "       [0.40973088, 1.        ]])"
      ]
     },
     "execution_count": 58,
     "metadata": {},
     "output_type": "execute_result"
    },
    {
     "data": {
      "application/javascript": [
       "\n",
       "            setTimeout(function() {\n",
       "                var nbb_cell_id = 58;\n",
       "                var nbb_unformatted_code = \"np.corrcoef(valid[xvar], valid[yvar])\";\n",
       "                var nbb_formatted_code = \"np.corrcoef(valid[xvar], valid[yvar])\";\n",
       "                var nbb_cells = Jupyter.notebook.get_cells();\n",
       "                for (var i = 0; i < nbb_cells.length; ++i) {\n",
       "                    if (nbb_cells[i].input_prompt_number == nbb_cell_id) {\n",
       "                        if (nbb_cells[i].get_text() == nbb_unformatted_code) {\n",
       "                             nbb_cells[i].set_text(nbb_formatted_code);\n",
       "                        }\n",
       "                        break;\n",
       "                    }\n",
       "                }\n",
       "            }, 500);\n",
       "            "
      ],
      "text/plain": [
       "<IPython.core.display.Javascript object>"
      ]
     },
     "metadata": {},
     "output_type": "display_data"
    }
   ],
   "source": [
    "np.corrcoef(valid[xvar], valid[yvar])"
   ]
  },
  {
   "cell_type": "code",
   "execution_count": 59,
   "id": "168c5247",
   "metadata": {},
   "outputs": [
    {
     "data": {
      "text/plain": [
       "[<matplotlib.lines.Line2D at 0x7fbe7e73ee00>]"
      ]
     },
     "execution_count": 59,
     "metadata": {},
     "output_type": "execute_result"
    },
    {
     "data": {
      "image/png": "[encoded data removed]",
      "text/plain": [
       "<Figure size 450x262.5 with 1 Axes>"
      ]
     },
     "metadata": {},
     "output_type": "display_data"
    },
    {
     "data": {
      "application/javascript": [
       "\n",
       "            setTimeout(function() {\n",
       "                var nbb_cell_id = 59;\n",
       "                var nbb_unformatted_code = \"x_ranks = valid[xvar].rank()\\ny_ranks = valid[yvar].rank()\\n\\nplt.plot(x_ranks, y_ranks, \\\".\\\", alpha=0.5)\";\n",
       "                var nbb_formatted_code = \"x_ranks = valid[xvar].rank()\\ny_ranks = valid[yvar].rank()\\n\\nplt.plot(x_ranks, y_ranks, \\\".\\\", alpha=0.5)\";\n",
       "                var nbb_cells = Jupyter.notebook.get_cells();\n",
       "                for (var i = 0; i < nbb_cells.length; ++i) {\n",
       "                    if (nbb_cells[i].input_prompt_number == nbb_cell_id) {\n",
       "                        if (nbb_cells[i].get_text() == nbb_unformatted_code) {\n",
       "                             nbb_cells[i].set_text(nbb_formatted_code);\n",
       "                        }\n",
       "                        break;\n",
       "                    }\n",
       "                }\n",
       "            }, 500);\n",
       "            "
      ],
      "text/plain": [
       "<IPython.core.display.Javascript object>"
      ]
     },
     "metadata": {},
     "output_type": "display_data"
    }
   ],
   "source": [
    "x_ranks = valid[xvar].rank()\n",
    "y_ranks = valid[yvar].rank()\n",
    "\n",
    "plt.plot(x_ranks, y_ranks, \".\", alpha=0.5)\n"
   ]
  },
  {
   "cell_type": "code",
   "execution_count": 60,
   "id": "61c36907",
   "metadata": {},
   "outputs": [
    {
     "data": {
      "text/plain": [
       "array([[1.        , 0.47941203],\n",
       "       [0.47941203, 1.        ]])"
      ]
     },
     "execution_count": 60,
     "metadata": {},
     "output_type": "execute_result"
    },
    {
     "data": {
      "application/javascript": [
       "\n",
       "            setTimeout(function() {\n",
       "                var nbb_cell_id = 60;\n",
       "                var nbb_unformatted_code = \"np.corrcoef(x_ranks, y_ranks)\";\n",
       "                var nbb_formatted_code = \"np.corrcoef(x_ranks, y_ranks)\";\n",
       "                var nbb_cells = Jupyter.notebook.get_cells();\n",
       "                for (var i = 0; i < nbb_cells.length; ++i) {\n",
       "                    if (nbb_cells[i].input_prompt_number == nbb_cell_id) {\n",
       "                        if (nbb_cells[i].get_text() == nbb_unformatted_code) {\n",
       "                             nbb_cells[i].set_text(nbb_formatted_code);\n",
       "                        }\n",
       "                        break;\n",
       "                    }\n",
       "                }\n",
       "            }, 500);\n",
       "            "
      ],
      "text/plain": [
       "<IPython.core.display.Javascript object>"
      ]
     },
     "metadata": {},
     "output_type": "display_data"
    }
   ],
   "source": [
    "np.corrcoef(x_ranks, y_ranks)"
   ]
  },
  {
   "cell_type": "markdown",
   "id": "25da22f6",
   "metadata": {},
   "source": [
    "**Exercise:**  So far we have been working with a subset of only 5000 respondents.\n",
    "When we include the entire dataset, making an effective scatter plot can be tricky.\n",
    "As an exercise, experiment with `scatter` and `hex_bin` to make a plot that represents the entire dataset well."
   ]
  },
  {
   "cell_type": "code",
   "execution_count": 61,
   "id": "42185f2e",
   "metadata": {},
   "outputs": [
    {
     "data": {
      "application/javascript": [
       "\n",
       "            setTimeout(function() {\n",
       "                var nbb_cell_id = 61;\n",
       "                var nbb_unformatted_code = \"download(\\\"https://github.com/AllenDowney/ThinkStats/raw/v3/data/CDBRFS08.ASC.gz\\\")\";\n",
       "                var nbb_formatted_code = \"download(\\\"https://github.com/AllenDowney/ThinkStats/raw/v3/data/CDBRFS08.ASC.gz\\\")\";\n",
       "                var nbb_cells = Jupyter.notebook.get_cells();\n",
       "                for (var i = 0; i < nbb_cells.length; ++i) {\n",
       "                    if (nbb_cells[i].input_prompt_number == nbb_cell_id) {\n",
       "                        if (nbb_cells[i].get_text() == nbb_unformatted_code) {\n",
       "                             nbb_cells[i].set_text(nbb_formatted_code);\n",
       "                        }\n",
       "                        break;\n",
       "                    }\n",
       "                }\n",
       "            }, 500);\n",
       "            "
      ],
      "text/plain": [
       "<IPython.core.display.Javascript object>"
      ]
     },
     "metadata": {},
     "output_type": "display_data"
    }
   ],
   "source": [
    "download(\"https://github.com/AllenDowney/ThinkStats/raw/v3/data/CDBRFS08.ASC.gz\")"
   ]
  },
  {
   "cell_type": "code",
   "execution_count": 62,
   "id": "c19a66f1",
   "metadata": {},
   "outputs": [
    {
     "data": {
      "application/javascript": [
       "\n",
       "            setTimeout(function() {\n",
       "                var nbb_cell_id = 62;\n",
       "                var nbb_unformatted_code = \"from thinkstats import read_brfss\\n\\nbrfss = read_brfss()\";\n",
       "                var nbb_formatted_code = \"from thinkstats import read_brfss\\n\\nbrfss = read_brfss()\";\n",
       "                var nbb_cells = Jupyter.notebook.get_cells();\n",
       "                for (var i = 0; i < nbb_cells.length; ++i) {\n",
       "                    if (nbb_cells[i].input_prompt_number == nbb_cell_id) {\n",
       "                        if (nbb_cells[i].get_text() == nbb_unformatted_code) {\n",
       "                             nbb_cells[i].set_text(nbb_formatted_code);\n",
       "                        }\n",
       "                        break;\n",
       "                    }\n",
       "                }\n",
       "            }, 500);\n",
       "            "
      ],
      "text/plain": [
       "<IPython.core.display.Javascript object>"
      ]
     },
     "metadata": {},
     "output_type": "display_data"
    }
   ],
   "source": [
    "from thinkstats import read_brfss\n",
    "\n",
    "brfss = read_brfss()"
   ]
  },
  {
   "cell_type": "code",
   "execution_count": 63,
   "id": "113a01af",
   "metadata": {},
   "outputs": [
    {
     "data": {
      "application/javascript": [
       "\n",
       "            setTimeout(function() {\n",
       "                var nbb_cell_id = 63;\n",
       "                var nbb_unformatted_code = \"# Solution\\n\\nfrom thinkstats import jitter\\n\\nheights_jittered = jitter(brfss['htm3'], 2.8)\\nweights_jittered = jitter(brfss['wtkg2'], 1.0)\";\n",
       "                var nbb_formatted_code = \"# Solution\\n\\nfrom thinkstats import jitter\\n\\nheights_jittered = jitter(brfss[\\\"htm3\\\"], 2.8)\\nweights_jittered = jitter(brfss[\\\"wtkg2\\\"], 1.0)\";\n",
       "                var nbb_cells = Jupyter.notebook.get_cells();\n",
       "                for (var i = 0; i < nbb_cells.length; ++i) {\n",
       "                    if (nbb_cells[i].input_prompt_number == nbb_cell_id) {\n",
       "                        if (nbb_cells[i].get_text() == nbb_unformatted_code) {\n",
       "                             nbb_cells[i].set_text(nbb_formatted_code);\n",
       "                        }\n",
       "                        break;\n",
       "                    }\n",
       "                }\n",
       "            }, 500);\n",
       "            "
      ],
      "text/plain": [
       "<IPython.core.display.Javascript object>"
      ]
     },
     "metadata": {},
     "output_type": "display_data"
    }
   ],
   "source": [
    "# Solution\n",
    "\n",
    "from thinkstats import jitter\n",
    "\n",
    "heights_jittered = jitter(brfss[\"htm3\"], 2.8)\n",
    "weights_jittered = jitter(brfss[\"wtkg2\"], 1.0)"
   ]
  },
  {
   "cell_type": "code",
   "execution_count": 64,
   "id": "8918c1ea",
   "metadata": {},
   "outputs": [
    {
     "name": "stdout",
     "output_type": "stream",
     "text": [
      "CPU times: user 18.8 ms, sys: 0 ns, total: 18.8 ms\n",
      "Wall time: 18 ms\n"
     ]
    },
    {
     "data": {
      "image/png": "[encoded data removed]",
      "text/plain": [
       "<Figure size 450x262.5 with 1 Axes>"
      ]
     },
     "metadata": {},
     "output_type": "display_data"
    },
    {
     "data": {
      "application/javascript": [
       "\n",
       "            setTimeout(function() {\n",
       "                var nbb_cell_id = 64;\n",
       "                var nbb_unformatted_code = \"%time plt.plot(heights_jittered, weights_jittered, \\\"o\\\", ms=2, alpha=0.01)\\ndecorate(xlabel=\\\"Height (cm)\\\", ylabel=\\\"Weight (kg)\\\")\";\n",
       "                var nbb_formatted_code = \"%time plt.plot(heights_jittered, weights_jittered, \\\"o\\\", ms=2, alpha=0.01)\\ndecorate(xlabel=\\\"Height (cm)\\\", ylabel=\\\"Weight (kg)\\\")\";\n",
       "                var nbb_cells = Jupyter.notebook.get_cells();\n",
       "                for (var i = 0; i < nbb_cells.length; ++i) {\n",
       "                    if (nbb_cells[i].input_prompt_number == nbb_cell_id) {\n",
       "                        if (nbb_cells[i].get_text() == nbb_unformatted_code) {\n",
       "                             nbb_cells[i].set_text(nbb_formatted_code);\n",
       "                        }\n",
       "                        break;\n",
       "                    }\n",
       "                }\n",
       "            }, 500);\n",
       "            "
      ],
      "text/plain": [
       "<IPython.core.display.Javascript object>"
      ]
     },
     "metadata": {},
     "output_type": "display_data"
    }
   ],
   "source": [
    "%time plt.plot(heights_jittered, weights_jittered, \"o\", ms=2, alpha=0.01)\n",
    "decorate(xlabel=\"Height (cm)\", ylabel=\"Weight (kg)\")"
   ]
  },
  {
   "cell_type": "code",
   "execution_count": 65,
   "id": "dc2b3889",
   "metadata": {},
   "outputs": [
    {
     "name": "stdout",
     "output_type": "stream",
     "text": [
      "CPU times: user 26.1 ms, sys: 4.87 ms, total: 31 ms\n",
      "Wall time: 29.5 ms\n"
     ]
    },
    {
     "data": {
      "image/png": "[encoded data removed]",
      "text/plain": [
       "<Figure size 450x262.5 with 1 Axes>"
      ]
     },
     "metadata": {},
     "output_type": "display_data"
    },
    {
     "data": {
      "application/javascript": [
       "\n",
       "            setTimeout(function() {\n",
       "                var nbb_cell_id = 65;\n",
       "                var nbb_unformatted_code = \"%time plt.scatter(heights_jittered, weights_jittered)\\ndecorate(xlabel=\\\"Height (cm)\\\", ylabel=\\\"Weight (kg)\\\")\";\n",
       "                var nbb_formatted_code = \"%time plt.scatter(heights_jittered, weights_jittered)\\ndecorate(xlabel=\\\"Height (cm)\\\", ylabel=\\\"Weight (kg)\\\")\";\n",
       "                var nbb_cells = Jupyter.notebook.get_cells();\n",
       "                for (var i = 0; i < nbb_cells.length; ++i) {\n",
       "                    if (nbb_cells[i].input_prompt_number == nbb_cell_id) {\n",
       "                        if (nbb_cells[i].get_text() == nbb_unformatted_code) {\n",
       "                             nbb_cells[i].set_text(nbb_formatted_code);\n",
       "                        }\n",
       "                        break;\n",
       "                    }\n",
       "                }\n",
       "            }, 500);\n",
       "            "
      ],
      "text/plain": [
       "<IPython.core.display.Javascript object>"
      ]
     },
     "metadata": {},
     "output_type": "display_data"
    }
   ],
   "source": [
    "%time plt.scatter(heights_jittered, weights_jittered)\n",
    "decorate(xlabel=\"Height (cm)\", ylabel=\"Weight (kg)\")"
   ]
  },
  {
   "cell_type": "markdown",
   "id": "c52dad78",
   "metadata": {},
   "source": [
    "**Exercise:** Yet another option is to divide the dataset into groups and then plot the CDF for each group.\n",
    "As an exercise, divide the dataset into a smaller number of groups and plot the CDF for each group."
   ]
  },
  {
   "cell_type": "code",
   "execution_count": 66,
   "id": "e8573793",
   "metadata": {},
   "outputs": [
    {
     "ename": "NameError",
     "evalue": "name 'df' is not defined",
     "output_type": "error",
     "traceback": [
      "\u001b[0;31m---------------------------------------------------------------------------\u001b[0m",
      "\u001b[0;31mNameError\u001b[0m                                 Traceback (most recent call last)",
      "Cell \u001b[0;32mIn[66], line 3\u001b[0m\n\u001b[1;32m      1\u001b[0m \u001b[38;5;66;03m# Solution\u001b[39;00m\n\u001b[0;32m----> 3\u001b[0m cleaned \u001b[38;5;241m=\u001b[39m \u001b[43mdf\u001b[49m\u001b[38;5;241m.\u001b[39mdropna(subset\u001b[38;5;241m=\u001b[39m[\u001b[38;5;124m\"\u001b[39m\u001b[38;5;124mhtm3\u001b[39m\u001b[38;5;124m\"\u001b[39m, \u001b[38;5;124m\"\u001b[39m\u001b[38;5;124mwtkg2\u001b[39m\u001b[38;5;124m\"\u001b[39m])\n",
      "\u001b[0;31mNameError\u001b[0m: name 'df' is not defined"
     ]
    },
    {
     "data": {
      "application/javascript": [
       "\n",
       "            setTimeout(function() {\n",
       "                var nbb_cell_id = 66;\n",
       "                var nbb_unformatted_code = \"# Solution\\n\\ncleaned = df.dropna(subset=[\\\"htm3\\\", \\\"wtkg2\\\"])\";\n",
       "                var nbb_formatted_code = \"# Solution\\n\\ncleaned = df.dropna(subset=[\\\"htm3\\\", \\\"wtkg2\\\"])\";\n",
       "                var nbb_cells = Jupyter.notebook.get_cells();\n",
       "                for (var i = 0; i < nbb_cells.length; ++i) {\n",
       "                    if (nbb_cells[i].input_prompt_number == nbb_cell_id) {\n",
       "                        if (nbb_cells[i].get_text() == nbb_unformatted_code) {\n",
       "                             nbb_cells[i].set_text(nbb_formatted_code);\n",
       "                        }\n",
       "                        break;\n",
       "                    }\n",
       "                }\n",
       "            }, 500);\n",
       "            "
      ],
      "text/plain": [
       "<IPython.core.display.Javascript object>"
      ]
     },
     "metadata": {},
     "output_type": "display_data"
    }
   ],
   "source": [
    "# Solution\n",
    "\n",
    "cleaned = df.dropna(subset=[\"htm3\", \"wtkg2\"])"
   ]
  },
  {
   "cell_type": "code",
   "execution_count": null,
   "id": "66c5d783",
   "metadata": {},
   "outputs": [],
   "source": [
    "# Solution\n",
    "\n",
    "bins = np.arange(140, 210, 10)\n",
    "indices = np.digitize(cleaned['htm3'], bins)\n",
    "groups = cleaned.groupby(indices)\n",
    "cdfs = [Cdf.from_seq(group.wtkg2, name=i) for i, group in groups]\n",
    "\n",
    "for cdf in cdfs:\n",
    "    cdf.plot()\n",
    "decorate(xlabel=\"Weight (kg)\", ylabel=\"CDF\")"
   ]
  },
  {
   "cell_type": "markdown",
   "id": "67cfdd57",
   "metadata": {},
   "source": [
    "Using data from the NSFG, make a scatter plot of birth weight versus mother’s age.\n",
    "Plot percentiles of birth weight versus mother’s age.\n",
    "Compute Pearson’s and Spearman’s correlations.\n",
    "How would you characterize the relationship between these variables?"
   ]
  },
  {
   "cell_type": "code",
   "execution_count": null,
   "id": "65016a99",
   "metadata": {},
   "outputs": [],
   "source": [
    "download(\"https://github.com/AllenDowney/ThinkStats/raw/v3/nb/nsfg.py\")\n",
    "download(\"https://github.com/AllenDowney/ThinkStats/raw/v3/data/2002FemPreg.dct\")\n",
    "download(\"https://github.com/AllenDowney/ThinkStats/raw/v3/data/2002FemPreg.dat.gz\")"
   ]
  },
  {
   "cell_type": "code",
   "execution_count": null,
   "id": "47c256b2",
   "metadata": {},
   "outputs": [],
   "source": [
    "import nsfg\n",
    "\n",
    "live, firsts, others = nsfg.make_frames()\n",
    "live = live.dropna(subset=[\"agepreg\", \"totalwgt_lb\"])"
   ]
  },
  {
   "cell_type": "code",
   "execution_count": null,
   "id": "662c6094",
   "metadata": {},
   "outputs": [],
   "source": [
    "# Solution\n",
    "\n",
    "ages = live.agepreg\n",
    "weights = live.totalwgt_lb\n",
    "print(\"corr\", corr(ages, weights))\n",
    "print(\"spearman_corr\", spearman_corr(ages, weights))"
   ]
  },
  {
   "cell_type": "code",
   "execution_count": null,
   "id": "cc5960fe",
   "metadata": {},
   "outputs": [],
   "source": [
    "# Solution\n",
    "\n",
    "\n",
    "def binned_percentiles(df):\n",
    "    \"\"\"Bin the data by age and plot percentiles of weight for each bin.\n",
    "\n",
    "    df: DataFrame\n",
    "    \"\"\"\n",
    "    bins = np.arange(10, 48, 3)\n",
    "    indices = np.digitize(df.agepreg, bins)\n",
    "    groups = df.groupby(indices)\n",
    "    ages = [group.agepreg.mean() for i, group in groups][1:-1]\n",
    "    cdfs = [Cdf.from_seq(group.totalwgt_lb) for i, group in groups][1:-1]\n",
    "\n",
    "    for percent in [0.75, 0.50, 0.25]:\n",
    "        weights = [cdf.inverse(percent) for cdf in cdfs]\n",
    "        label = \"%dth\" % percent\n",
    "        plt.plot(ages, weights, label=label)\n",
    "\n",
    "    decorate(\n",
    "        xlabel=\"Mother's age (years)\",\n",
    "        ylabel=\"Birth weight (lbs)\",\n",
    "        xlim=[14, 45],\n",
    "        legend=True,\n",
    "    )\n",
    "\n",
    "\n",
    "binned_percentiles(live)"
   ]
  },
  {
   "cell_type": "code",
   "execution_count": null,
   "id": "5c86e915",
   "metadata": {},
   "outputs": [],
   "source": [
    "# Solution\n",
    "\n",
    "plt.scatter(ages, weights, alpha=0.05, s=10)\n",
    "decorate(\n",
    "    xlabel=\"Age (years)\",\n",
    "    ylabel=\"Birth weight (lbs)\",\n",
    "    xlim=[10, 45],\n",
    "    ylim=[0, 15],\n",
    ")"
   ]
  },
  {
   "cell_type": "code",
   "execution_count": null,
   "id": "890e2c89",
   "metadata": {},
   "outputs": [],
   "source": []
  }
 ],
 "metadata": {
  "celltoolbar": "Tags",
  "kernelspec": {
   "display_name": "Python 3 (ipykernel)",
   "language": "python",
   "name": "python3"
  },
  "language_info": {
   "codemirror_mode": {
    "name": "ipython",
    "version": 3
   },
   "file_extension": ".py",
   "mimetype": "text/x-python",
   "name": "python",
   "nbconvert_exporter": "python",
   "pygments_lexer": "ipython3",
   "version": "3.10.14"
  }
 },
 "nbformat": 4,
 "nbformat_minor": 5
}
