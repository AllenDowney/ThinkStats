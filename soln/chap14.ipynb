{
 "cells": [
  {
   "cell_type": "markdown",
   "id": "52c53da4",
   "metadata": {},
   "source": [
    "# Analytic methods\n",
    "\n",
    "This book has focused on computational methods like simulation and\n",
    "resampling, but some of the problems we solved have analytic solutions\n",
    "that can be much faster.\n",
    "\n",
    "I present some of these methods in this chapter, and explain how they\n",
    "work. At the end of the chapter, I make suggestions for integrating\n",
    "computational and analytic methods for exploratory data analysis."
   ]
  },
  {
   "cell_type": "code",
   "execution_count": 1,
   "id": "e1e0ae6b",
   "metadata": {},
   "outputs": [
    {
     "data": {
      "application/javascript": [
       "\n",
       "            setTimeout(function() {\n",
       "                var nbb_cell_id = 1;\n",
       "                var nbb_unformatted_code = \"%load_ext nb_black\\n%load_ext autoreload\\n%autoreload 2\";\n",
       "                var nbb_formatted_code = \"%load_ext nb_black\\n%load_ext autoreload\\n%autoreload 2\";\n",
       "                var nbb_cells = Jupyter.notebook.get_cells();\n",
       "                for (var i = 0; i < nbb_cells.length; ++i) {\n",
       "                    if (nbb_cells[i].input_prompt_number == nbb_cell_id) {\n",
       "                        if (nbb_cells[i].get_text() == nbb_unformatted_code) {\n",
       "                             nbb_cells[i].set_text(nbb_formatted_code);\n",
       "                        }\n",
       "                        break;\n",
       "                    }\n",
       "                }\n",
       "            }, 500);\n",
       "            "
      ],
      "text/plain": [
       "<IPython.core.display.Javascript object>"
      ]
     },
     "metadata": {},
     "output_type": "display_data"
    }
   ],
   "source": [
    "%load_ext nb_black\n",
    "%load_ext autoreload\n",
    "%autoreload 2\n"
   ]
  },
  {
   "cell_type": "code",
   "execution_count": 2,
   "id": "f61641d6",
   "metadata": {},
   "outputs": [
    {
     "data": {
      "application/javascript": [
       "\n",
       "            setTimeout(function() {\n",
       "                var nbb_cell_id = 2;\n",
       "                var nbb_unformatted_code = \"from os.path import basename, exists\\n\\n\\ndef download(url):\\n    filename = basename(url)\\n    if not exists(filename):\\n        from urllib.request import urlretrieve\\n        local, _ = urlretrieve(url, filename)\\n        print('Downloaded ' + local)\\n\\n\\ndownload(\\n    'https://github.com/AllenDowney/ThinkStats2/raw/master/code/thinkstats2.py'\\n    )\\ndownload(\\n    'https://github.com/AllenDowney/ThinkStats2/raw/master/code/thinkplot.py')\";\n",
       "                var nbb_formatted_code = \"from os.path import basename, exists\\n\\n\\ndef download(url):\\n    filename = basename(url)\\n    if not exists(filename):\\n        from urllib.request import urlretrieve\\n\\n        local, _ = urlretrieve(url, filename)\\n        print(\\\"Downloaded \\\" + local)\\n\\n\\ndownload(\\\"https://github.com/AllenDowney/ThinkStats2/raw/master/code/thinkstats2.py\\\")\\ndownload(\\\"https://github.com/AllenDowney/ThinkStats2/raw/master/code/thinkplot.py\\\")\";\n",
       "                var nbb_cells = Jupyter.notebook.get_cells();\n",
       "                for (var i = 0; i < nbb_cells.length; ++i) {\n",
       "                    if (nbb_cells[i].input_prompt_number == nbb_cell_id) {\n",
       "                        if (nbb_cells[i].get_text() == nbb_unformatted_code) {\n",
       "                             nbb_cells[i].set_text(nbb_formatted_code);\n",
       "                        }\n",
       "                        break;\n",
       "                    }\n",
       "                }\n",
       "            }, 500);\n",
       "            "
      ],
      "text/plain": [
       "<IPython.core.display.Javascript object>"
      ]
     },
     "metadata": {},
     "output_type": "display_data"
    }
   ],
   "source": [
    "from os.path import basename, exists\n",
    "\n",
    "\n",
    "def download(url):\n",
    "    filename = basename(url)\n",
    "    if not exists(filename):\n",
    "        from urllib.request import urlretrieve\n",
    "\n",
    "        local, _ = urlretrieve(url, filename)\n",
    "        print(\"Downloaded \" + local)\n",
    "\n",
    "\n",
    "download(\"https://github.com/AllenDowney/ThinkStats2/raw/master/code/thinkstats2.py\")\n",
    "download(\"https://github.com/AllenDowney/ThinkStats2/raw/master/code/thinkplot.py\")"
   ]
  },
  {
   "cell_type": "code",
   "execution_count": 3,
   "id": "101a23bc",
   "metadata": {},
   "outputs": [
    {
     "data": {
      "application/javascript": [
       "\n",
       "            setTimeout(function() {\n",
       "                var nbb_cell_id = 3;\n",
       "                var nbb_unformatted_code = \"import numpy as np\\nimport pandas as pd\\nimport random\\nimport thinkstats2\\nimport thinkplot\";\n",
       "                var nbb_formatted_code = \"import numpy as np\\nimport pandas as pd\\nimport random\\nimport thinkstats2\\nimport thinkplot\";\n",
       "                var nbb_cells = Jupyter.notebook.get_cells();\n",
       "                for (var i = 0; i < nbb_cells.length; ++i) {\n",
       "                    if (nbb_cells[i].input_prompt_number == nbb_cell_id) {\n",
       "                        if (nbb_cells[i].get_text() == nbb_unformatted_code) {\n",
       "                             nbb_cells[i].set_text(nbb_formatted_code);\n",
       "                        }\n",
       "                        break;\n",
       "                    }\n",
       "                }\n",
       "            }, 500);\n",
       "            "
      ],
      "text/plain": [
       "<IPython.core.display.Javascript object>"
      ]
     },
     "metadata": {},
     "output_type": "display_data"
    }
   ],
   "source": [
    "import numpy as np\n",
    "import pandas as pd\n",
    "import random\n",
    "import thinkstats2\n",
    "import thinkplot"
   ]
  },
  {
   "cell_type": "markdown",
   "id": "a66b3b13",
   "metadata": {},
   "source": [
    "## Normal distributions\n",
    "\n",
    "As a motivating example, let's review the problem from\n",
    "Section [\\[gorilla\\]](#gorilla){reference-type=\"ref\"\n",
    "reference=\"gorilla\"}:\n",
    "\n",
    "> Suppose you are a scientist studying gorillas in a wildlife preserve.\n",
    "> Having weighed 9 gorillas, you find sample mean $\\bar{x}=90$ kg and\n",
    "> sample standard deviation, $S=7.5$ kg. If you use $\\bar{x}$ to estimate\n",
    "> the population mean, what is the standard error of the estimate?\n",
    "\n",
    "To answer that question, we need the sampling distribution of $\\bar{x}$.\n",
    "In Section [\\[gorilla\\]](#gorilla){reference-type=\"ref\"\n",
    "reference=\"gorilla\"} we approximated this distribution by simulating the\n",
    "experiment (weighing 9 gorillas), computing $\\bar{x}$ for each simulated\n",
    "experiment, and accumulating the distribution of estimates.\n",
    "\n",
    "The result is an approximation of the sampling distribution. Then we use\n",
    "the sampling distribution to compute standard errors and confidence\n",
    "intervals:\n",
    "\n",
    "1.  The standard deviation of the sampling distribution is the standard\n",
    "    error of the estimate; in the example, it is about 2.5 kg.\n",
    "\n",
    "2.  The interval between the 5th and 95th percentile of the sampling\n",
    "    distribution is a 90% confidence interval. If we run the experiment\n",
    "    many times, we expect the estimate to fall in this interval 90% of\n",
    "    the time. In the example, the 90% CI is $(86, 94)$ kg."
   ]
  },
  {
   "cell_type": "markdown",
   "id": "f8d4ead4",
   "metadata": {},
   "source": [
    "Now we'll do the same calculation analytically. We take advantage of the\n",
    "fact that the weights of adult female gorillas are roughly normally\n",
    "distributed. Normal distributions have two properties that make them\n",
    "amenable for analysis: they are \"closed\" under linear transformation and\n",
    "addition. To explain what that means, I need some notation.\n",
    "\n",
    "If the distribution of a quantity, $X$, is normal with parameters $\\mu$\n",
    "and $\\sigma$, you can write $$X \\sim Normal~(\\mu, \\sigma^{2})$$ where\n",
    "the symbol $\\sim$ means \"is distributed\" and the script letter $Normal$\n",
    "stands for \"normal.\"\n",
    "\n",
    "A linear transformation of $X$ is something like $X' = a X + b$, where\n",
    "$a$ and $b$ are real numbers. A family of distributions is closed under\n",
    "linear transformation if $X'$ is in the same family as $X$. The normal\n",
    "distribution has this property; if $X \\sim Normal~(\\mu,\n",
    "\\sigma^2)$, $$X' \\sim Normal~(a \\mu + b, a^{2} \\sigma^2) \\tag*{(1)}$$\n",
    "Normal distributions are also closed under addition. If $Z = X + Y$ and\n",
    "$X \\sim Normal~(\\mu_{X}, \\sigma_{X}^{2})$ and\n",
    "$Y \\sim Normal~(\\mu_{Y}, \\sigma_{Y}^{2})$ then\n",
    "$$Z \\sim Normal~(\\mu_X + \\mu_Y, \\sigma_X^2 + \\sigma_Y^2)  \\tag*{(2)}$$\n",
    "In the special case $Z = X + X$, we have\n",
    "$$Z \\sim Normal~(2 \\mu_X, 2 \\sigma_X^2)$$ and in general if we draw $n$\n",
    "values of $X$ and add them up, we have\n",
    "$$Z \\sim Normal~(n \\mu_X, n \\sigma_X^2)  \\tag*{(3)}$$"
   ]
  },
  {
   "cell_type": "markdown",
   "id": "9d753c4a",
   "metadata": {},
   "source": [
    "## Sampling distributions\n",
    "\n",
    "Now we have everything we need to compute the sampling distribution of\n",
    "$\\bar{x}$. Remember that we compute $\\bar{x}$ by weighing $n$ gorillas,\n",
    "adding up the total weight, and dividing by $n$.\n",
    "\n",
    "Assume that the distribution of gorilla weights, $X$, is approximately\n",
    "normal: $$X \\sim Normal~(\\mu, \\sigma^2)$$ If we weigh $n$ gorillas, the\n",
    "total weight, $Y$, is distributed $$Y \\sim Normal~(n \\mu, n \\sigma^2)$$\n",
    "using Equation 3. And if we divide by $n$, the sample mean, $Z$, is\n",
    "distributed $$Z \\sim Normal~(\\mu, \\sigma^2/n)$$ using Equation 1 with\n",
    "$a = 1/n$.\n",
    "\n",
    "The distribution of $Z$ is the sampling distribution of $\\bar{x}$. The\n",
    "mean of $Z$ is $\\mu$, which shows that $\\bar{x}$ is an unbiased estimate\n",
    "of $\\mu$. The variance of the sampling distribution is $\\sigma^2 / n$.\n",
    "\n",
    "So the standard deviation of the sampling distribution, which is the\n",
    "standard error of the estimate, is $\\sigma / \\sqrt{n}$. In the example,\n",
    "$\\sigma$ is 7.5 kg and $n$ is 9, so the standard error is 2.5 kg. That\n",
    "result is consistent with what we estimated by simulation, but much\n",
    "faster to compute!"
   ]
  },
  {
   "cell_type": "markdown",
   "id": "ea501ca9",
   "metadata": {},
   "source": [
    "We can also use the sampling distribution to compute confidence\n",
    "intervals. A 90% confidence interval for $\\bar{x}$ is the interval between\n",
    "the 5th and 95th percentiles of $Z$. Since $Z$ is normally distributed,\n",
    "we can compute percentiles by evaluating the inverse CDF.\n",
    "\n",
    "There is no closed form for the CDF of the normal distribution or its\n",
    "inverse, but there are fast numerical methods and they are implemented\n",
    "in SciPy, as we saw in\n",
    "Section [\\[normal\\]](#normal){reference-type=\"ref\" reference=\"normal\"}.\n",
    "`thinkstats2` provides a wrapper function that makes the SciPy function\n",
    "a little easier to use:"
   ]
  },
  {
   "cell_type": "code",
   "execution_count": 4,
   "id": "6746d20a",
   "metadata": {},
   "outputs": [
    {
     "data": {
      "application/javascript": [
       "\n",
       "            setTimeout(function() {\n",
       "                var nbb_cell_id = 4;\n",
       "                var nbb_unformatted_code = \"from scipy.stats import norm\\n\\n\\ndef eval_normal_cdf_inverse(p, mu=0, sigma=1):\\n    return norm.ppf(p, loc=mu, scale=sigma)\";\n",
       "                var nbb_formatted_code = \"from scipy.stats import norm\\n\\n\\ndef eval_normal_cdf_inverse(p, mu=0, sigma=1):\\n    return norm.ppf(p, loc=mu, scale=sigma)\";\n",
       "                var nbb_cells = Jupyter.notebook.get_cells();\n",
       "                for (var i = 0; i < nbb_cells.length; ++i) {\n",
       "                    if (nbb_cells[i].input_prompt_number == nbb_cell_id) {\n",
       "                        if (nbb_cells[i].get_text() == nbb_unformatted_code) {\n",
       "                             nbb_cells[i].set_text(nbb_formatted_code);\n",
       "                        }\n",
       "                        break;\n",
       "                    }\n",
       "                }\n",
       "            }, 500);\n",
       "            "
      ],
      "text/plain": [
       "<IPython.core.display.Javascript object>"
      ]
     },
     "metadata": {},
     "output_type": "display_data"
    }
   ],
   "source": [
    "from scipy.stats import norm\n",
    "\n",
    "\n",
    "def eval_normal_cdf_inverse(p, mu=0, sigma=1):\n",
    "    return norm.ppf(p, loc=mu, scale=sigma)"
   ]
  },
  {
   "cell_type": "markdown",
   "id": "96d84578",
   "metadata": {},
   "source": [
    "Given a probability, `p`, it returns the corresponding percentile from a\n",
    "normal distribution with parameters `mu` and `sigma`. For the 90%\n",
    "confidence interval of $\\bar{x}$, we compute the 5th and 95th percentiles\n",
    "like this:"
   ]
  },
  {
   "cell_type": "code",
   "execution_count": 5,
   "id": "24e98507",
   "metadata": {},
   "outputs": [
    {
     "data": {
      "text/plain": [
       "85.88786593262132"
      ]
     },
     "execution_count": 5,
     "metadata": {},
     "output_type": "execute_result"
    },
    {
     "data": {
      "application/javascript": [
       "\n",
       "            setTimeout(function() {\n",
       "                var nbb_cell_id = 5;\n",
       "                var nbb_unformatted_code = \"eval_normal_cdf_inverse(0.05, mu=90, sigma=2.5)\";\n",
       "                var nbb_formatted_code = \"eval_normal_cdf_inverse(0.05, mu=90, sigma=2.5)\";\n",
       "                var nbb_cells = Jupyter.notebook.get_cells();\n",
       "                for (var i = 0; i < nbb_cells.length; ++i) {\n",
       "                    if (nbb_cells[i].input_prompt_number == nbb_cell_id) {\n",
       "                        if (nbb_cells[i].get_text() == nbb_unformatted_code) {\n",
       "                             nbb_cells[i].set_text(nbb_formatted_code);\n",
       "                        }\n",
       "                        break;\n",
       "                    }\n",
       "                }\n",
       "            }, 500);\n",
       "            "
      ],
      "text/plain": [
       "<IPython.core.display.Javascript object>"
      ]
     },
     "metadata": {},
     "output_type": "display_data"
    }
   ],
   "source": [
    "eval_normal_cdf_inverse(0.05, mu=90, sigma=2.5)"
   ]
  },
  {
   "cell_type": "code",
   "execution_count": 6,
   "id": "5c0f1b48",
   "metadata": {},
   "outputs": [
    {
     "data": {
      "text/plain": [
       "94.11213406737868"
      ]
     },
     "execution_count": 6,
     "metadata": {},
     "output_type": "execute_result"
    },
    {
     "data": {
      "application/javascript": [
       "\n",
       "            setTimeout(function() {\n",
       "                var nbb_cell_id = 6;\n",
       "                var nbb_unformatted_code = \"eval_normal_cdf_inverse(0.95, mu=90, sigma=2.5)\";\n",
       "                var nbb_formatted_code = \"eval_normal_cdf_inverse(0.95, mu=90, sigma=2.5)\";\n",
       "                var nbb_cells = Jupyter.notebook.get_cells();\n",
       "                for (var i = 0; i < nbb_cells.length; ++i) {\n",
       "                    if (nbb_cells[i].input_prompt_number == nbb_cell_id) {\n",
       "                        if (nbb_cells[i].get_text() == nbb_unformatted_code) {\n",
       "                             nbb_cells[i].set_text(nbb_formatted_code);\n",
       "                        }\n",
       "                        break;\n",
       "                    }\n",
       "                }\n",
       "            }, 500);\n",
       "            "
      ],
      "text/plain": [
       "<IPython.core.display.Javascript object>"
      ]
     },
     "metadata": {},
     "output_type": "display_data"
    }
   ],
   "source": [
    "eval_normal_cdf_inverse(0.95, mu=90, sigma=2.5)"
   ]
  },
  {
   "cell_type": "markdown",
   "id": "5131aba9",
   "metadata": {},
   "source": [
    "So if we run the experiment many times, we expect the estimate, $\\bar{x}$,\n",
    "to fall in the range $(85.9, 94.1)$ about 90% of the time. Again, this\n",
    "is consistent with the result we got by simulation."
   ]
  },
  {
   "cell_type": "markdown",
   "id": "7a60bc2c",
   "metadata": {},
   "source": [
    "## Representing normal distributions\n",
    "\n",
    "To make these calculations easier, I have defined a class called\n",
    "`Normal` that represents a normal distribution and encodes the equations\n",
    "in the previous sections. Here's what it looks like:"
   ]
  },
  {
   "cell_type": "code",
   "execution_count": 7,
   "id": "a50af1ef",
   "metadata": {},
   "outputs": [
    {
     "data": {
      "application/javascript": [
       "\n",
       "            setTimeout(function() {\n",
       "                var nbb_cell_id = 7;\n",
       "                var nbb_unformatted_code = \"class Normal(object):\\n\\n    def __init__(self, mu, sigma2):\\n        self.mu = mu\\n        self.sigma2 = sigma2\\n\\n    def __str__(self):\\n        return 'N(%g, %g)' % (self.mu, self.sigma2)\\n\\n    def sum(self, n):\\n        return Normal(n * self.mu, n * self.sigma2)\\n\\n    def __mul__(self, factor):\\n        return Normal(factor * self.mu, factor ** 2 * self.sigma2)\\n\\n    def __divide__(self, divisor):\\n        return 1 / divisor * self\";\n",
       "                var nbb_formatted_code = \"class Normal(object):\\n\\n    def __init__(self, mu, sigma2):\\n        self.mu = mu\\n        self.sigma2 = sigma2\\n\\n    def __str__(self):\\n        return \\\"N(%g, %g)\\\" % (self.mu, self.sigma2)\\n\\n    def sum(self, n):\\n        return Normal(n * self.mu, n * self.sigma2)\\n\\n    def __mul__(self, factor):\\n        return Normal(factor * self.mu, factor**2 * self.sigma2)\\n\\n    def __divide__(self, divisor):\\n        return 1 / divisor * self\";\n",
       "                var nbb_cells = Jupyter.notebook.get_cells();\n",
       "                for (var i = 0; i < nbb_cells.length; ++i) {\n",
       "                    if (nbb_cells[i].input_prompt_number == nbb_cell_id) {\n",
       "                        if (nbb_cells[i].get_text() == nbb_unformatted_code) {\n",
       "                             nbb_cells[i].set_text(nbb_formatted_code);\n",
       "                        }\n",
       "                        break;\n",
       "                    }\n",
       "                }\n",
       "            }, 500);\n",
       "            "
      ],
      "text/plain": [
       "<IPython.core.display.Javascript object>"
      ]
     },
     "metadata": {},
     "output_type": "display_data"
    }
   ],
   "source": [
    "class Normal(object):\n",
    "\n",
    "    def __init__(self, mu, sigma2):\n",
    "        self.mu = mu\n",
    "        self.sigma2 = sigma2\n",
    "\n",
    "    def __str__(self):\n",
    "        return \"N(%g, %g)\" % (self.mu, self.sigma2)\n",
    "\n",
    "    def sum(self, n):\n",
    "        return Normal(n * self.mu, n * self.sigma2)\n",
    "\n",
    "    def __mul__(self, factor):\n",
    "        return Normal(factor * self.mu, factor**2 * self.sigma2)\n",
    "\n",
    "    def __divide__(self, divisor):\n",
    "        return 1 / divisor * self"
   ]
  },
  {
   "cell_type": "markdown",
   "id": "6f93b2c3",
   "metadata": {},
   "source": [
    "So we can instantiate a Normal that represents the distribution of\n",
    "gorilla weights:"
   ]
  },
  {
   "cell_type": "code",
   "execution_count": 8,
   "id": "2ef7229c",
   "metadata": {},
   "outputs": [
    {
     "name": "stdout",
     "output_type": "stream",
     "text": [
      "Normal(90, 56.25)\n"
     ]
    },
    {
     "data": {
      "application/javascript": [
       "\n",
       "            setTimeout(function() {\n",
       "                var nbb_cell_id = 8;\n",
       "                var nbb_unformatted_code = \"from thinkstats2 import Normal\\ndist = Normal(90, 7.5 ** 2)\\nprint(dist)\";\n",
       "                var nbb_formatted_code = \"from thinkstats2 import Normal\\n\\ndist = Normal(90, 7.5**2)\\nprint(dist)\";\n",
       "                var nbb_cells = Jupyter.notebook.get_cells();\n",
       "                for (var i = 0; i < nbb_cells.length; ++i) {\n",
       "                    if (nbb_cells[i].input_prompt_number == nbb_cell_id) {\n",
       "                        if (nbb_cells[i].get_text() == nbb_unformatted_code) {\n",
       "                             nbb_cells[i].set_text(nbb_formatted_code);\n",
       "                        }\n",
       "                        break;\n",
       "                    }\n",
       "                }\n",
       "            }, 500);\n",
       "            "
      ],
      "text/plain": [
       "<IPython.core.display.Javascript object>"
      ]
     },
     "metadata": {},
     "output_type": "display_data"
    }
   ],
   "source": [
    "from thinkstats2 import Normal\n",
    "\n",
    "dist = Normal(90, 7.5**2)\n",
    "print(dist)"
   ]
  },
  {
   "cell_type": "markdown",
   "id": "e33ba377",
   "metadata": {},
   "source": [
    "`Normal` provides `Sum`, which takes a sample size, `n`, and returns the\n",
    "distribution of the sum of `n` values, using Equation 3:"
   ]
  },
  {
   "cell_type": "markdown",
   "id": "5de85591",
   "metadata": {},
   "source": [
    "So we can compute the sampling distribution of the mean with sample size\n",
    "9:"
   ]
  },
  {
   "cell_type": "code",
   "execution_count": 9,
   "id": "c027758f",
   "metadata": {},
   "outputs": [
    {
     "data": {
      "text/plain": [
       "2.5"
      ]
     },
     "execution_count": 9,
     "metadata": {},
     "output_type": "execute_result"
    },
    {
     "data": {
      "application/javascript": [
       "\n",
       "            setTimeout(function() {\n",
       "                var nbb_cell_id = 9;\n",
       "                var nbb_unformatted_code = \"dist_xbar = dist.sum(9) / 9\\ndist_xbar.sigma\";\n",
       "                var nbb_formatted_code = \"dist_xbar = dist.sum(9) / 9\\ndist_xbar.sigma\";\n",
       "                var nbb_cells = Jupyter.notebook.get_cells();\n",
       "                for (var i = 0; i < nbb_cells.length; ++i) {\n",
       "                    if (nbb_cells[i].input_prompt_number == nbb_cell_id) {\n",
       "                        if (nbb_cells[i].get_text() == nbb_unformatted_code) {\n",
       "                             nbb_cells[i].set_text(nbb_formatted_code);\n",
       "                        }\n",
       "                        break;\n",
       "                    }\n",
       "                }\n",
       "            }, 500);\n",
       "            "
      ],
      "text/plain": [
       "<IPython.core.display.Javascript object>"
      ]
     },
     "metadata": {},
     "output_type": "display_data"
    }
   ],
   "source": [
    "dist_xbar = dist.sum(9) / 9\n",
    "dist_xbar.sigma"
   ]
  },
  {
   "cell_type": "markdown",
   "id": "7122f409",
   "metadata": {},
   "source": [
    "The standard deviation of the sampling distribution is 2.5 kg, as we saw\n",
    "in the previous section. Finally, Normal provides `Percentile`, which we\n",
    "can use to compute a confidence interval:"
   ]
  },
  {
   "cell_type": "code",
   "execution_count": 10,
   "id": "e33ee8c0",
   "metadata": {},
   "outputs": [
    {
     "data": {
      "text/plain": [
       "(85.88786593262132, 94.11213406737868)"
      ]
     },
     "execution_count": 10,
     "metadata": {},
     "output_type": "execute_result"
    },
    {
     "data": {
      "application/javascript": [
       "\n",
       "            setTimeout(function() {\n",
       "                var nbb_cell_id = 10;\n",
       "                var nbb_unformatted_code = \"dist_xbar.percentile(5), dist_xbar.percentile(95)\";\n",
       "                var nbb_formatted_code = \"dist_xbar.percentile(5), dist_xbar.percentile(95)\";\n",
       "                var nbb_cells = Jupyter.notebook.get_cells();\n",
       "                for (var i = 0; i < nbb_cells.length; ++i) {\n",
       "                    if (nbb_cells[i].input_prompt_number == nbb_cell_id) {\n",
       "                        if (nbb_cells[i].get_text() == nbb_unformatted_code) {\n",
       "                             nbb_cells[i].set_text(nbb_formatted_code);\n",
       "                        }\n",
       "                        break;\n",
       "                    }\n",
       "                }\n",
       "            }, 500);\n",
       "            "
      ],
      "text/plain": [
       "<IPython.core.display.Javascript object>"
      ]
     },
     "metadata": {},
     "output_type": "display_data"
    }
   ],
   "source": [
    "dist_xbar.percentile(5), dist_xbar.percentile(95)"
   ]
  },
  {
   "cell_type": "markdown",
   "id": "54c8288d",
   "metadata": {},
   "source": [
    "And that's the same answer we got before. We'll use the Normal class\n",
    "again later, but before we go on, we need one more bit of analysis."
   ]
  },
  {
   "cell_type": "markdown",
   "id": "a2d7def3",
   "metadata": {},
   "source": [
    "## Central limit theorem\n",
    "\n",
    "As we saw in the previous sections, if we add values drawn from normal\n",
    "distributions, the distribution of the sum is normal. Most other\n",
    "distributions don't have this property; if we add values drawn from\n",
    "other distributions, the sum does not generally have an analytic\n",
    "distribution.\n",
    "\n",
    "But if we add up `n` values from almost any distribution, the\n",
    "distribution of the sum converges to normal as `n` increases.\n",
    "\n",
    "More specifically, if the distribution of the values has mean and\n",
    "standard deviation $\\mu$ and $\\sigma$, the distribution of the sum is\n",
    "approximately $Normal(n \\mu, n \\sigma^2)$.\n",
    "\n",
    "This result is the Central Limit Theorem (CLT). It is one of the most\n",
    "useful tools for statistical analysis, but it comes with caveats:"
   ]
  },
  {
   "cell_type": "markdown",
   "id": "b496c8e0",
   "metadata": {},
   "source": [
    "-   The values have to be drawn independently. If they are correlated,\n",
    "    the CLT doesn't apply (although this is seldom a problem in\n",
    "    practice).\n",
    "\n",
    "-   The values have to come from the same distribution (although this\n",
    "    requirement can be relaxed).\n",
    "\n",
    "-   The values have to be drawn from a distribution with finite mean and\n",
    "    variance. So most Pareto distributions are out.\n",
    "\n",
    "-   The rate of convergence depends on the skewness of the distribution.\n",
    "    Sums from an exponential distribution converge for small `n`. Sums\n",
    "    from a lognormal distribution require larger sizes."
   ]
  },
  {
   "cell_type": "markdown",
   "id": "a64651d4",
   "metadata": {},
   "source": [
    "The Central Limit Theorem explains the prevalence of normal\n",
    "distributions in the natural world. Many characteristics of living\n",
    "things are affected by genetic and environmental factors whose effect is\n",
    "additive. The characteristics we measure are the sum of a large number\n",
    "of small effects, so their distribution tends to be normal."
   ]
  },
  {
   "cell_type": "markdown",
   "id": "f3d89aae",
   "metadata": {},
   "source": [
    "## Testing the CLT\n",
    "\n",
    "To see how the Central Limit Theorem works, and when it doesn't, let's\n",
    "try some experiments. First, we'll try an exponential distribution:"
   ]
  },
  {
   "cell_type": "code",
   "execution_count": 11,
   "id": "c3c5b9d9",
   "metadata": {},
   "outputs": [
    {
     "data": {
      "application/javascript": [
       "\n",
       "            setTimeout(function() {\n",
       "                var nbb_cell_id = 11;\n",
       "                var nbb_unformatted_code = \"def make_expo_samples(beta=2.0, iters=1000):\\n    \\\"\\\"\\\"Generates samples from an exponential distribution.\\n\\n    beta: parameter\\n    iters: number of samples to generate for each size\\n\\n    returns: list of samples\\n    \\\"\\\"\\\"\\n    samples = []\\n    for n in [1, 10, 100]:\\n        sample = [np.sum(np.random.exponential(beta, n)) for _ in range(iters)]\\n        samples.append((n, sample))\\n    return samples\";\n",
       "                var nbb_formatted_code = \"def make_expo_samples(beta=2.0, iters=1000):\\n    \\\"\\\"\\\"Generates samples from an exponential distribution.\\n\\n    beta: parameter\\n    iters: number of samples to generate for each size\\n\\n    returns: list of samples\\n    \\\"\\\"\\\"\\n    samples = []\\n    for n in [1, 10, 100]:\\n        sample = [np.sum(np.random.exponential(beta, n)) for _ in range(iters)]\\n        samples.append((n, sample))\\n    return samples\";\n",
       "                var nbb_cells = Jupyter.notebook.get_cells();\n",
       "                for (var i = 0; i < nbb_cells.length; ++i) {\n",
       "                    if (nbb_cells[i].input_prompt_number == nbb_cell_id) {\n",
       "                        if (nbb_cells[i].get_text() == nbb_unformatted_code) {\n",
       "                             nbb_cells[i].set_text(nbb_formatted_code);\n",
       "                        }\n",
       "                        break;\n",
       "                    }\n",
       "                }\n",
       "            }, 500);\n",
       "            "
      ],
      "text/plain": [
       "<IPython.core.display.Javascript object>"
      ]
     },
     "metadata": {},
     "output_type": "display_data"
    }
   ],
   "source": [
    "def make_expo_samples(beta=2.0, iters=1000):\n",
    "    \"\"\"Generates samples from an exponential distribution.\n",
    "\n",
    "    beta: parameter\n",
    "    iters: number of samples to generate for each size\n",
    "\n",
    "    returns: list of samples\n",
    "    \"\"\"\n",
    "    samples = []\n",
    "    for n in [1, 10, 100]:\n",
    "        sample = [np.sum(np.random.exponential(beta, n)) for _ in range(iters)]\n",
    "        samples.append((n, sample))\n",
    "    return samples"
   ]
  },
  {
   "cell_type": "markdown",
   "id": "6e6d3d30",
   "metadata": {},
   "source": [
    "`MakeExpoSamples` generates samples of sums of exponential values (I use\n",
    "\"exponential values\" as shorthand for \"values from an exponential\n",
    "distribution\"). `beta` is the parameter of the distribution; `iters` is\n",
    "the number of sums to generate.\n",
    "\n",
    "To explain this function, I'll start from the inside and work my way\n",
    "out. Each time we call `np.random.exponential`, we get a sequence of `n`\n",
    "exponential values and compute its sum. `sample` is a list of these\n",
    "sums, with length `iters`.\n",
    "\n",
    "It is easy to get `n` and `iters` confused: `n` is the number of terms\n",
    "in each sum; `iters` is the number of sums we compute in order to\n",
    "characterize the distribution of sums.\n",
    "\n",
    "The return value is a list of `(n, sample)` pairs. For each pair, we\n",
    "make a normal probability plot:"
   ]
  },
  {
   "cell_type": "code",
   "execution_count": 12,
   "id": "8f957be2",
   "metadata": {},
   "outputs": [
    {
     "data": {
      "application/javascript": [
       "\n",
       "            setTimeout(function() {\n",
       "                var nbb_cell_id = 12;\n",
       "                var nbb_unformatted_code = \"def normal_plot_samples(samples, plot=1, ylabel=''):\\n    \\\"\\\"\\\"Makes normal probability plots for samples.\\n\\n    samples: list of samples\\n    label: string\\n    \\\"\\\"\\\"\\n    for n, sample in samples:\\n        thinkplot.sub_plot(plot)\\n        thinkstats2.normal_probability_plot(sample)\\n        thinkplot.config(title='n=%d' % n, legend=False, xticks=[], yticks=\\n            [], xlabel='random normal variate', ylabel=ylabel)\\n        plot += 1\";\n",
       "                var nbb_formatted_code = \"def normal_plot_samples(samples, plot=1, ylabel=\\\"\\\"):\\n    \\\"\\\"\\\"Makes normal probability plots for samples.\\n\\n    samples: list of samples\\n    label: string\\n    \\\"\\\"\\\"\\n    for n, sample in samples:\\n        thinkplot.sub_plot(plot)\\n        thinkstats2.normal_probability_plot(sample)\\n        thinkplot.config(\\n            title=\\\"n=%d\\\" % n,\\n            legend=False,\\n            xticks=[],\\n            yticks=[],\\n            xlabel=\\\"random normal variate\\\",\\n            ylabel=ylabel,\\n        )\\n        plot += 1\";\n",
       "                var nbb_cells = Jupyter.notebook.get_cells();\n",
       "                for (var i = 0; i < nbb_cells.length; ++i) {\n",
       "                    if (nbb_cells[i].input_prompt_number == nbb_cell_id) {\n",
       "                        if (nbb_cells[i].get_text() == nbb_unformatted_code) {\n",
       "                             nbb_cells[i].set_text(nbb_formatted_code);\n",
       "                        }\n",
       "                        break;\n",
       "                    }\n",
       "                }\n",
       "            }, 500);\n",
       "            "
      ],
      "text/plain": [
       "<IPython.core.display.Javascript object>"
      ]
     },
     "metadata": {},
     "output_type": "display_data"
    }
   ],
   "source": [
    "def normal_plot_samples(samples, plot=1, ylabel=\"\"):\n",
    "    \"\"\"Makes normal probability plots for samples.\n",
    "\n",
    "    samples: list of samples\n",
    "    label: string\n",
    "    \"\"\"\n",
    "    for n, sample in samples:\n",
    "        thinkplot.sub_plot(plot)\n",
    "        thinkstats2.normal_probability_plot(sample)\n",
    "        thinkplot.config(\n",
    "            title=\"n=%d\" % n,\n",
    "            legend=False,\n",
    "            xticks=[],\n",
    "            yticks=[],\n",
    "            xlabel=\"random normal variate\",\n",
    "            ylabel=ylabel,\n",
    "        )\n",
    "        plot += 1"
   ]
  },
  {
   "cell_type": "markdown",
   "id": "42166062",
   "metadata": {},
   "source": [
    "`NormalPlotSamples` takes the list of pairs from `MakeExpoSamples` and\n",
    "generates a row of normal probability plots."
   ]
  },
  {
   "cell_type": "code",
   "execution_count": 13,
   "id": "8955b2c9",
   "metadata": {},
   "outputs": [
    {
     "data": {
      "image/png": "[encoded data removed]",
      "text/plain": [
       "<Figure size 1600x1000 with 3 Axes>"
      ]
     },
     "metadata": {},
     "output_type": "display_data"
    },
    {
     "data": {
      "application/javascript": [
       "\n",
       "            setTimeout(function() {\n",
       "                var nbb_cell_id = 13;\n",
       "                var nbb_unformatted_code = \"thinkplot.pre_plot(num=3, rows=2, cols=3)\\nsamples = make_expo_samples()\\nnormal_plot_samples(samples, plot=1, ylabel='sum of expo values')\";\n",
       "                var nbb_formatted_code = \"thinkplot.pre_plot(num=3, rows=2, cols=3)\\nsamples = make_expo_samples()\\nnormal_plot_samples(samples, plot=1, ylabel=\\\"sum of expo values\\\")\";\n",
       "                var nbb_cells = Jupyter.notebook.get_cells();\n",
       "                for (var i = 0; i < nbb_cells.length; ++i) {\n",
       "                    if (nbb_cells[i].input_prompt_number == nbb_cell_id) {\n",
       "                        if (nbb_cells[i].get_text() == nbb_unformatted_code) {\n",
       "                             nbb_cells[i].set_text(nbb_formatted_code);\n",
       "                        }\n",
       "                        break;\n",
       "                    }\n",
       "                }\n",
       "            }, 500);\n",
       "            "
      ],
      "text/plain": [
       "<IPython.core.display.Javascript object>"
      ]
     },
     "metadata": {},
     "output_type": "display_data"
    }
   ],
   "source": [
    "thinkplot.pre_plot(num=3, rows=2, cols=3)\n",
    "samples = make_expo_samples()\n",
    "normal_plot_samples(samples, plot=1, ylabel=\"sum of expo values\")"
   ]
  },
  {
   "cell_type": "markdown",
   "id": "0a347e4e",
   "metadata": {},
   "source": [
    "Figure [\\[normal1\\]](#normal1){reference-type=\"ref\" reference=\"normal1\"}\n",
    "(top row) shows the results. With `n=1`, the distribution of the sum is\n",
    "still exponential, so the normal probability plot is not a straight\n",
    "line. But with `n=10` the distribution of the sum is approximately\n",
    "normal, and with `n=100` it is all but indistinguishable from normal.\n",
    "\n",
    "Figure [\\[normal1\\]](#normal1){reference-type=\"ref\" reference=\"normal1\"}\n",
    "(bottom row) shows similar results for a lognormal distribution.\n",
    "Lognormal distributions are generally more skewed than exponential\n",
    "distributions, so the distribution of sums takes longer to converge.\n",
    "With `n=10` the normal probability plot is nowhere near straight, but\n",
    "with `n=100` it is approximately normal."
   ]
  },
  {
   "cell_type": "code",
   "execution_count": 14,
   "id": "3f2234ae",
   "metadata": {},
   "outputs": [
    {
     "data": {
      "application/javascript": [
       "\n",
       "            setTimeout(function() {\n",
       "                var nbb_cell_id = 14;\n",
       "                var nbb_unformatted_code = \"def make_lognormal_samples(mu=1.0, sigma=1.0, iters=1000):\\n    \\\"\\\"\\\"Generates samples from a lognormal distribution.\\n\\n    mu: parmeter\\n    sigma: parameter\\n    iters: number of samples to generate for each size\\n\\n    returns: list of samples\\n    \\\"\\\"\\\"\\n    samples = []\\n    for n in [1, 10, 100]:\\n        sample = [np.sum(np.random.lognormal(mu, sigma, n)) for _ in range(\\n            iters)]\\n        samples.append((n, sample))\\n    return samples\";\n",
       "                var nbb_formatted_code = \"def make_lognormal_samples(mu=1.0, sigma=1.0, iters=1000):\\n    \\\"\\\"\\\"Generates samples from a lognormal distribution.\\n\\n    mu: parmeter\\n    sigma: parameter\\n    iters: number of samples to generate for each size\\n\\n    returns: list of samples\\n    \\\"\\\"\\\"\\n    samples = []\\n    for n in [1, 10, 100]:\\n        sample = [np.sum(np.random.lognormal(mu, sigma, n)) for _ in range(iters)]\\n        samples.append((n, sample))\\n    return samples\";\n",
       "                var nbb_cells = Jupyter.notebook.get_cells();\n",
       "                for (var i = 0; i < nbb_cells.length; ++i) {\n",
       "                    if (nbb_cells[i].input_prompt_number == nbb_cell_id) {\n",
       "                        if (nbb_cells[i].get_text() == nbb_unformatted_code) {\n",
       "                             nbb_cells[i].set_text(nbb_formatted_code);\n",
       "                        }\n",
       "                        break;\n",
       "                    }\n",
       "                }\n",
       "            }, 500);\n",
       "            "
      ],
      "text/plain": [
       "<IPython.core.display.Javascript object>"
      ]
     },
     "metadata": {},
     "output_type": "display_data"
    }
   ],
   "source": [
    "def make_lognormal_samples(mu=1.0, sigma=1.0, iters=1000):\n",
    "    \"\"\"Generates samples from a lognormal distribution.\n",
    "\n",
    "    mu: parmeter\n",
    "    sigma: parameter\n",
    "    iters: number of samples to generate for each size\n",
    "\n",
    "    returns: list of samples\n",
    "    \"\"\"\n",
    "    samples = []\n",
    "    for n in [1, 10, 100]:\n",
    "        sample = [np.sum(np.random.lognormal(mu, sigma, n)) for _ in range(iters)]\n",
    "        samples.append((n, sample))\n",
    "    return samples"
   ]
  },
  {
   "cell_type": "code",
   "execution_count": 15,
   "id": "7a807d6d",
   "metadata": {},
   "outputs": [
    {
     "data": {
      "image/png": "[encoded data removed]",
      "text/plain": [
       "<Figure size 1600x1000 with 3 Axes>"
      ]
     },
     "metadata": {},
     "output_type": "display_data"
    },
    {
     "data": {
      "application/javascript": [
       "\n",
       "            setTimeout(function() {\n",
       "                var nbb_cell_id = 15;\n",
       "                var nbb_unformatted_code = \"thinkplot.pre_plot(num=3, rows=2, cols=3)\\nsamples = make_lognormal_samples()\\nnormal_plot_samples(samples, ylabel='sum of lognormal values')\";\n",
       "                var nbb_formatted_code = \"thinkplot.pre_plot(num=3, rows=2, cols=3)\\nsamples = make_lognormal_samples()\\nnormal_plot_samples(samples, ylabel=\\\"sum of lognormal values\\\")\";\n",
       "                var nbb_cells = Jupyter.notebook.get_cells();\n",
       "                for (var i = 0; i < nbb_cells.length; ++i) {\n",
       "                    if (nbb_cells[i].input_prompt_number == nbb_cell_id) {\n",
       "                        if (nbb_cells[i].get_text() == nbb_unformatted_code) {\n",
       "                             nbb_cells[i].set_text(nbb_formatted_code);\n",
       "                        }\n",
       "                        break;\n",
       "                    }\n",
       "                }\n",
       "            }, 500);\n",
       "            "
      ],
      "text/plain": [
       "<IPython.core.display.Javascript object>"
      ]
     },
     "metadata": {},
     "output_type": "display_data"
    }
   ],
   "source": [
    "thinkplot.pre_plot(num=3, rows=2, cols=3)\n",
    "samples = make_lognormal_samples()\n",
    "normal_plot_samples(samples, ylabel=\"sum of lognormal values\")"
   ]
  },
  {
   "cell_type": "code",
   "execution_count": 16,
   "id": "7f98ab93",
   "metadata": {},
   "outputs": [
    {
     "data": {
      "application/javascript": [
       "\n",
       "            setTimeout(function() {\n",
       "                var nbb_cell_id = 16;\n",
       "                var nbb_unformatted_code = \"def make_pareto_samples(alpha=1.0, iters=1000):\\n    \\\"\\\"\\\"Generates samples from a Pareto distribution.\\n\\n    alpha: parameter\\n    iters: number of samples to generate for each size\\n\\n    returns: list of samples\\n    \\\"\\\"\\\"\\n    samples = []\\n    for n in [1, 10, 100]:\\n        sample = [np.sum(np.random.pareto(alpha, n)) for _ in range(iters)]\\n        samples.append((n, sample))\\n    return samples\";\n",
       "                var nbb_formatted_code = \"def make_pareto_samples(alpha=1.0, iters=1000):\\n    \\\"\\\"\\\"Generates samples from a Pareto distribution.\\n\\n    alpha: parameter\\n    iters: number of samples to generate for each size\\n\\n    returns: list of samples\\n    \\\"\\\"\\\"\\n    samples = []\\n    for n in [1, 10, 100]:\\n        sample = [np.sum(np.random.pareto(alpha, n)) for _ in range(iters)]\\n        samples.append((n, sample))\\n    return samples\";\n",
       "                var nbb_cells = Jupyter.notebook.get_cells();\n",
       "                for (var i = 0; i < nbb_cells.length; ++i) {\n",
       "                    if (nbb_cells[i].input_prompt_number == nbb_cell_id) {\n",
       "                        if (nbb_cells[i].get_text() == nbb_unformatted_code) {\n",
       "                             nbb_cells[i].set_text(nbb_formatted_code);\n",
       "                        }\n",
       "                        break;\n",
       "                    }\n",
       "                }\n",
       "            }, 500);\n",
       "            "
      ],
      "text/plain": [
       "<IPython.core.display.Javascript object>"
      ]
     },
     "metadata": {},
     "output_type": "display_data"
    }
   ],
   "source": [
    "def make_pareto_samples(alpha=1.0, iters=1000):\n",
    "    \"\"\"Generates samples from a Pareto distribution.\n",
    "\n",
    "    alpha: parameter\n",
    "    iters: number of samples to generate for each size\n",
    "\n",
    "    returns: list of samples\n",
    "    \"\"\"\n",
    "    samples = []\n",
    "    for n in [1, 10, 100]:\n",
    "        sample = [np.sum(np.random.pareto(alpha, n)) for _ in range(iters)]\n",
    "        samples.append((n, sample))\n",
    "    return samples"
   ]
  },
  {
   "cell_type": "code",
   "execution_count": 17,
   "id": "5a039a30",
   "metadata": {},
   "outputs": [
    {
     "data": {
      "image/png": "[encoded data removed]",
      "text/plain": [
       "<Figure size 1600x1000 with 3 Axes>"
      ]
     },
     "metadata": {},
     "output_type": "display_data"
    },
    {
     "data": {
      "application/javascript": [
       "\n",
       "            setTimeout(function() {\n",
       "                var nbb_cell_id = 17;\n",
       "                var nbb_unformatted_code = \"thinkplot.pre_plot(num=3, rows=2, cols=3)\\nsamples = make_pareto_samples()\\nnormal_plot_samples(samples, ylabel='sum of Pareto values')\";\n",
       "                var nbb_formatted_code = \"thinkplot.pre_plot(num=3, rows=2, cols=3)\\nsamples = make_pareto_samples()\\nnormal_plot_samples(samples, ylabel=\\\"sum of Pareto values\\\")\";\n",
       "                var nbb_cells = Jupyter.notebook.get_cells();\n",
       "                for (var i = 0; i < nbb_cells.length; ++i) {\n",
       "                    if (nbb_cells[i].input_prompt_number == nbb_cell_id) {\n",
       "                        if (nbb_cells[i].get_text() == nbb_unformatted_code) {\n",
       "                             nbb_cells[i].set_text(nbb_formatted_code);\n",
       "                        }\n",
       "                        break;\n",
       "                    }\n",
       "                }\n",
       "            }, 500);\n",
       "            "
      ],
      "text/plain": [
       "<IPython.core.display.Javascript object>"
      ]
     },
     "metadata": {},
     "output_type": "display_data"
    }
   ],
   "source": [
    "thinkplot.pre_plot(num=3, rows=2, cols=3)\n",
    "samples = make_pareto_samples()\n",
    "normal_plot_samples(samples, ylabel=\"sum of Pareto values\")"
   ]
  },
  {
   "cell_type": "markdown",
   "id": "0cec0afd",
   "metadata": {},
   "source": [
    "Pareto distributions are even more skewed than lognormal. Depending on\n",
    "the parameters, many Pareto distributions do not have finite mean and\n",
    "variance. As a result, the Central Limit Theorem does not apply.\n",
    "Figure [\\[normal2\\]](#normal2){reference-type=\"ref\" reference=\"normal2\"}\n",
    "(top row) shows distributions of sums of Pareto values. Even with\n",
    "`n=100` the normal probability plot is far from straight.\n",
    "\n",
    "I also mentioned that CLT does not apply if the values are correlated.\n",
    "To test that, I generate correlated values from an exponential\n",
    "distribution. The algorithm for generating correlated values is (1)\n",
    "generate correlated normal values, (2) use the normal CDF to transform\n",
    "the values to uniform, and (3) use the inverse exponential CDF to\n",
    "transform the uniform values to exponential.\n",
    "\n",
    "`GenerateCorrelated` returns an iterator of `n` normal values with\n",
    "serial correlation `rho`:"
   ]
  },
  {
   "cell_type": "code",
   "execution_count": 18,
   "id": "7bf8b9c0",
   "metadata": {},
   "outputs": [
    {
     "data": {
      "application/javascript": [
       "\n",
       "            setTimeout(function() {\n",
       "                var nbb_cell_id = 18;\n",
       "                var nbb_unformatted_code = \"def generate_correlated(rho, n):\\n    \\\"\\\"\\\"Generates a sequence of correlated values from a standard normal dist.\\n\\n    rho: coefficient of correlation\\n    n: length of sequence\\n\\n    returns: iterator\\n    \\\"\\\"\\\"\\n    x = random.gauss(0, 1)\\n    yield x\\n    sigma = np.sqrt(1 - rho ** 2)\\n    for _ in range(n - 1):\\n        x = random.gauss(x * rho, sigma)\\n        yield x\";\n",
       "                var nbb_formatted_code = \"def generate_correlated(rho, n):\\n    \\\"\\\"\\\"Generates a sequence of correlated values from a standard normal dist.\\n\\n    rho: coefficient of correlation\\n    n: length of sequence\\n\\n    returns: iterator\\n    \\\"\\\"\\\"\\n    x = random.gauss(0, 1)\\n    yield x\\n    sigma = np.sqrt(1 - rho**2)\\n    for _ in range(n - 1):\\n        x = random.gauss(x * rho, sigma)\\n        yield x\";\n",
       "                var nbb_cells = Jupyter.notebook.get_cells();\n",
       "                for (var i = 0; i < nbb_cells.length; ++i) {\n",
       "                    if (nbb_cells[i].input_prompt_number == nbb_cell_id) {\n",
       "                        if (nbb_cells[i].get_text() == nbb_unformatted_code) {\n",
       "                             nbb_cells[i].set_text(nbb_formatted_code);\n",
       "                        }\n",
       "                        break;\n",
       "                    }\n",
       "                }\n",
       "            }, 500);\n",
       "            "
      ],
      "text/plain": [
       "<IPython.core.display.Javascript object>"
      ]
     },
     "metadata": {},
     "output_type": "display_data"
    }
   ],
   "source": [
    "def generate_correlated(rho, n):\n",
    "    \"\"\"Generates a sequence of correlated values from a standard normal dist.\n",
    "\n",
    "    rho: coefficient of correlation\n",
    "    n: length of sequence\n",
    "\n",
    "    returns: iterator\n",
    "    \"\"\"\n",
    "    x = random.gauss(0, 1)\n",
    "    yield x\n",
    "    sigma = np.sqrt(1 - rho**2)\n",
    "    for _ in range(n - 1):\n",
    "        x = random.gauss(x * rho, sigma)\n",
    "        yield x"
   ]
  },
  {
   "cell_type": "markdown",
   "id": "060814fb",
   "metadata": {},
   "source": [
    "The first value is a standard normal value. Each subsequent value\n",
    "depends on its predecessor: if the previous value is `x`, the mean of\n",
    "the next value is `x*rho`, with variance `1-rho**2`. Note that\n",
    "`random.gauss` takes the standard deviation as the second argument, not\n",
    "variance.\n",
    "\n",
    "`GenerateExpoCorrelated` takes the resulting sequence and transforms it\n",
    "to exponential:"
   ]
  },
  {
   "cell_type": "code",
   "execution_count": 19,
   "id": "e0de13ae",
   "metadata": {},
   "outputs": [
    {
     "data": {
      "application/javascript": [
       "\n",
       "            setTimeout(function() {\n",
       "                var nbb_cell_id = 19;\n",
       "                var nbb_unformatted_code = \"from scipy.stats import expon\\n\\n\\ndef generate_expo_correlated(rho, n):\\n    \\\"\\\"\\\"Generates a sequence of correlated values from an exponential dist.\\n\\n    rho: coefficient of correlation\\n    n: length of sequence\\n\\n    returns: NumPy array\\n    \\\"\\\"\\\"\\n    normal = list(generate_correlated(rho, n))\\n    uniform = norm.cdf(normal)\\n    expo = expon.ppf(uniform)\\n    return expo\";\n",
       "                var nbb_formatted_code = \"from scipy.stats import expon\\n\\n\\ndef generate_expo_correlated(rho, n):\\n    \\\"\\\"\\\"Generates a sequence of correlated values from an exponential dist.\\n\\n    rho: coefficient of correlation\\n    n: length of sequence\\n\\n    returns: NumPy array\\n    \\\"\\\"\\\"\\n    normal = list(generate_correlated(rho, n))\\n    uniform = norm.cdf(normal)\\n    expo = expon.ppf(uniform)\\n    return expo\";\n",
       "                var nbb_cells = Jupyter.notebook.get_cells();\n",
       "                for (var i = 0; i < nbb_cells.length; ++i) {\n",
       "                    if (nbb_cells[i].input_prompt_number == nbb_cell_id) {\n",
       "                        if (nbb_cells[i].get_text() == nbb_unformatted_code) {\n",
       "                             nbb_cells[i].set_text(nbb_formatted_code);\n",
       "                        }\n",
       "                        break;\n",
       "                    }\n",
       "                }\n",
       "            }, 500);\n",
       "            "
      ],
      "text/plain": [
       "<IPython.core.display.Javascript object>"
      ]
     },
     "metadata": {},
     "output_type": "display_data"
    }
   ],
   "source": [
    "from scipy.stats import expon\n",
    "\n",
    "\n",
    "def generate_expo_correlated(rho, n):\n",
    "    \"\"\"Generates a sequence of correlated values from an exponential dist.\n",
    "\n",
    "    rho: coefficient of correlation\n",
    "    n: length of sequence\n",
    "\n",
    "    returns: NumPy array\n",
    "    \"\"\"\n",
    "    normal = list(generate_correlated(rho, n))\n",
    "    uniform = norm.cdf(normal)\n",
    "    expo = expon.ppf(uniform)\n",
    "    return expo"
   ]
  },
  {
   "cell_type": "code",
   "execution_count": 20,
   "id": "9054d1e4",
   "metadata": {},
   "outputs": [
    {
     "data": {
      "application/javascript": [
       "\n",
       "            setTimeout(function() {\n",
       "                var nbb_cell_id = 20;\n",
       "                var nbb_unformatted_code = \"def make_correlated_samples(rho=0.9, iters=1000):\\n    \\\"\\\"\\\"Generates samples from a correlated exponential distribution.\\n\\n    rho: correlation\\n    iters: number of samples to generate for each size\\n\\n    returns: list of samples\\n    \\\"\\\"\\\"\\n    samples = []\\n    for n in [1, 10, 100]:\\n        sample = [np.sum(generate_expo_correlated(rho, n)) for _ in range(\\n            iters)]\\n        samples.append((n, sample))\\n    return samples\";\n",
       "                var nbb_formatted_code = \"def make_correlated_samples(rho=0.9, iters=1000):\\n    \\\"\\\"\\\"Generates samples from a correlated exponential distribution.\\n\\n    rho: correlation\\n    iters: number of samples to generate for each size\\n\\n    returns: list of samples\\n    \\\"\\\"\\\"\\n    samples = []\\n    for n in [1, 10, 100]:\\n        sample = [np.sum(generate_expo_correlated(rho, n)) for _ in range(iters)]\\n        samples.append((n, sample))\\n    return samples\";\n",
       "                var nbb_cells = Jupyter.notebook.get_cells();\n",
       "                for (var i = 0; i < nbb_cells.length; ++i) {\n",
       "                    if (nbb_cells[i].input_prompt_number == nbb_cell_id) {\n",
       "                        if (nbb_cells[i].get_text() == nbb_unformatted_code) {\n",
       "                             nbb_cells[i].set_text(nbb_formatted_code);\n",
       "                        }\n",
       "                        break;\n",
       "                    }\n",
       "                }\n",
       "            }, 500);\n",
       "            "
      ],
      "text/plain": [
       "<IPython.core.display.Javascript object>"
      ]
     },
     "metadata": {},
     "output_type": "display_data"
    }
   ],
   "source": [
    "def make_correlated_samples(rho=0.9, iters=1000):\n",
    "    \"\"\"Generates samples from a correlated exponential distribution.\n",
    "\n",
    "    rho: correlation\n",
    "    iters: number of samples to generate for each size\n",
    "\n",
    "    returns: list of samples\n",
    "    \"\"\"\n",
    "    samples = []\n",
    "    for n in [1, 10, 100]:\n",
    "        sample = [np.sum(generate_expo_correlated(rho, n)) for _ in range(iters)]\n",
    "        samples.append((n, sample))\n",
    "    return samples"
   ]
  },
  {
   "cell_type": "code",
   "execution_count": 21,
   "id": "be3de5f3",
   "metadata": {},
   "outputs": [
    {
     "data": {
      "image/png": "[encoded data removed]",
      "text/plain": [
       "<Figure size 1600x1000 with 3 Axes>"
      ]
     },
     "metadata": {},
     "output_type": "display_data"
    },
    {
     "data": {
      "application/javascript": [
       "\n",
       "            setTimeout(function() {\n",
       "                var nbb_cell_id = 21;\n",
       "                var nbb_unformatted_code = \"thinkplot.pre_plot(num=3, rows=2, cols=3)\\nsamples = make_correlated_samples()\\nnormal_plot_samples(samples, ylabel='sum of correlated exponential values')\";\n",
       "                var nbb_formatted_code = \"thinkplot.pre_plot(num=3, rows=2, cols=3)\\nsamples = make_correlated_samples()\\nnormal_plot_samples(samples, ylabel=\\\"sum of correlated exponential values\\\")\";\n",
       "                var nbb_cells = Jupyter.notebook.get_cells();\n",
       "                for (var i = 0; i < nbb_cells.length; ++i) {\n",
       "                    if (nbb_cells[i].input_prompt_number == nbb_cell_id) {\n",
       "                        if (nbb_cells[i].get_text() == nbb_unformatted_code) {\n",
       "                             nbb_cells[i].set_text(nbb_formatted_code);\n",
       "                        }\n",
       "                        break;\n",
       "                    }\n",
       "                }\n",
       "            }, 500);\n",
       "            "
      ],
      "text/plain": [
       "<IPython.core.display.Javascript object>"
      ]
     },
     "metadata": {},
     "output_type": "display_data"
    }
   ],
   "source": [
    "thinkplot.pre_plot(num=3, rows=2, cols=3)\n",
    "samples = make_correlated_samples()\n",
    "normal_plot_samples(samples, ylabel=\"sum of correlated exponential values\")"
   ]
  },
  {
   "cell_type": "markdown",
   "id": "0e44ca00",
   "metadata": {},
   "source": [
    "`normal` is a list of correlated normal values. `uniform` is a sequence\n",
    "of uniform values between 0 and 1. `expo` is a correlated sequence of\n",
    "exponential values. `ppf` stands for \"percent point function,\" which is\n",
    "another name for the inverse CDF.\n",
    "\n",
    "Figure [\\[normal2\\]](#normal2){reference-type=\"ref\" reference=\"normal2\"}\n",
    "(bottom row) shows distributions of sums of correlated exponential\n",
    "values with `rho=0.9`. The correlation slows the rate of convergence;\n",
    "nevertheless, with `n=100` the normal probability plot is nearly\n",
    "straight. So even though CLT does not strictly apply when the values are\n",
    "correlated, moderate correlations are seldom a problem in practice.\n",
    "\n",
    "These experiments are meant to show how the Central Limit Theorem works,\n",
    "and what happens when it doesn't. Now let's see how we can use it."
   ]
  },
  {
   "cell_type": "markdown",
   "id": "fa118107",
   "metadata": {},
   "source": [
    "## Applying the CLT\n",
    "\n",
    "To see why the Central Limit Theorem is useful, let's get back to the\n",
    "example in Section [\\[testdiff\\]](#testdiff){reference-type=\"ref\"\n",
    "reference=\"testdiff\"}: testing the apparent difference in mean pregnancy\n",
    "length for first babies and others. As we've seen, the apparent\n",
    "difference is about 0.078 weeks:"
   ]
  },
  {
   "cell_type": "code",
   "execution_count": 22,
   "id": "eb1410e5",
   "metadata": {},
   "outputs": [
    {
     "data": {
      "application/javascript": [
       "\n",
       "            setTimeout(function() {\n",
       "                var nbb_cell_id = 22;\n",
       "                var nbb_unformatted_code = \"download('https://github.com/AllenDowney/ThinkStats2/raw/master/code/nsfg.py')\\ndownload(\\n    'https://github.com/AllenDowney/ThinkStats2/raw/master/code/2002FemPreg.dct'\\n    )\\ndownload(\\n    'https://github.com/AllenDowney/ThinkStats2/raw/master/code/2002FemPreg.dat.gz'\\n    )\";\n",
       "                var nbb_formatted_code = \"download(\\\"https://github.com/AllenDowney/ThinkStats2/raw/master/code/nsfg.py\\\")\\ndownload(\\\"https://github.com/AllenDowney/ThinkStats2/raw/master/code/2002FemPreg.dct\\\")\\ndownload(\\n    \\\"https://github.com/AllenDowney/ThinkStats2/raw/master/code/2002FemPreg.dat.gz\\\"\\n)\";\n",
       "                var nbb_cells = Jupyter.notebook.get_cells();\n",
       "                for (var i = 0; i < nbb_cells.length; ++i) {\n",
       "                    if (nbb_cells[i].input_prompt_number == nbb_cell_id) {\n",
       "                        if (nbb_cells[i].get_text() == nbb_unformatted_code) {\n",
       "                             nbb_cells[i].set_text(nbb_formatted_code);\n",
       "                        }\n",
       "                        break;\n",
       "                    }\n",
       "                }\n",
       "            }, 500);\n",
       "            "
      ],
      "text/plain": [
       "<IPython.core.display.Javascript object>"
      ]
     },
     "metadata": {},
     "output_type": "display_data"
    }
   ],
   "source": [
    "download(\"https://github.com/AllenDowney/ThinkStats2/raw/master/code/nsfg.py\")\n",
    "download(\"https://github.com/AllenDowney/ThinkStats2/raw/master/code/2002FemPreg.dct\")\n",
    "download(\n",
    "    \"https://github.com/AllenDowney/ThinkStats2/raw/master/code/2002FemPreg.dat.gz\"\n",
    ")"
   ]
  },
  {
   "cell_type": "code",
   "execution_count": 23,
   "id": "6564a11c",
   "metadata": {},
   "outputs": [
    {
     "data": {
      "text/plain": [
       "0.07803726677754952"
      ]
     },
     "execution_count": 23,
     "metadata": {},
     "output_type": "execute_result"
    },
    {
     "data": {
      "application/javascript": [
       "\n",
       "            setTimeout(function() {\n",
       "                var nbb_cell_id = 23;\n",
       "                var nbb_unformatted_code = \"import nsfg\\nlive, firsts, others = nsfg.make_frames()\\ndelta = firsts.prglngth.mean() - others.prglngth.mean()\\ndelta\";\n",
       "                var nbb_formatted_code = \"import nsfg\\n\\nlive, firsts, others = nsfg.make_frames()\\ndelta = firsts.prglngth.mean() - others.prglngth.mean()\\ndelta\";\n",
       "                var nbb_cells = Jupyter.notebook.get_cells();\n",
       "                for (var i = 0; i < nbb_cells.length; ++i) {\n",
       "                    if (nbb_cells[i].input_prompt_number == nbb_cell_id) {\n",
       "                        if (nbb_cells[i].get_text() == nbb_unformatted_code) {\n",
       "                             nbb_cells[i].set_text(nbb_formatted_code);\n",
       "                        }\n",
       "                        break;\n",
       "                    }\n",
       "                }\n",
       "            }, 500);\n",
       "            "
      ],
      "text/plain": [
       "<IPython.core.display.Javascript object>"
      ]
     },
     "metadata": {},
     "output_type": "display_data"
    }
   ],
   "source": [
    "import nsfg\n",
    "\n",
    "live, firsts, others = nsfg.make_frames()\n",
    "delta = firsts.prglngth.mean() - others.prglngth.mean()\n",
    "delta"
   ]
  },
  {
   "cell_type": "markdown",
   "id": "4677bb23",
   "metadata": {},
   "source": [
    "Remember the logic of hypothesis testing: we compute a p-value, which is\n",
    "the probability of the observed difference under the null hypothesis; if\n",
    "it is small, we conclude that the observed difference is unlikely to be\n",
    "due to chance.\n",
    "\n",
    "In this example, the null hypothesis is that the distribution of\n",
    "pregnancy lengths is the same for first babies and others. So we can\n",
    "compute the sampling distribution of the mean like this:"
   ]
  },
  {
   "cell_type": "code",
   "execution_count": 44,
   "id": "759c7700",
   "metadata": {},
   "outputs": [
    {
     "data": {
      "application/javascript": [
       "\n",
       "            setTimeout(function() {\n",
       "                var nbb_cell_id = 44;\n",
       "                var nbb_unformatted_code = \"def sampling_dist_mean(data, n):\\n    \\\"\\\"\\\"Computes the sampling distribution of the mean.\\n\\n    data: sequence of values representing the population\\n    n: sample size\\n\\n    returns: Normal object\\n    \\\"\\\"\\\"\\n    mean, var = data.mean(), data.var()\\n    dist = Normal(mean, var)\\n    return dist.sum(n) / n\";\n",
       "                var nbb_formatted_code = \"def sampling_dist_mean(data, n):\\n    \\\"\\\"\\\"Computes the sampling distribution of the mean.\\n\\n    data: sequence of values representing the population\\n    n: sample size\\n\\n    returns: Normal object\\n    \\\"\\\"\\\"\\n    mean, var = data.mean(), data.var()\\n    dist = Normal(mean, var)\\n    return dist.sum(n) / n\";\n",
       "                var nbb_cells = Jupyter.notebook.get_cells();\n",
       "                for (var i = 0; i < nbb_cells.length; ++i) {\n",
       "                    if (nbb_cells[i].input_prompt_number == nbb_cell_id) {\n",
       "                        if (nbb_cells[i].get_text() == nbb_unformatted_code) {\n",
       "                             nbb_cells[i].set_text(nbb_formatted_code);\n",
       "                        }\n",
       "                        break;\n",
       "                    }\n",
       "                }\n",
       "            }, 500);\n",
       "            "
      ],
      "text/plain": [
       "<IPython.core.display.Javascript object>"
      ]
     },
     "metadata": {},
     "output_type": "display_data"
    }
   ],
   "source": [
    "def sampling_dist_mean(data, n):\n",
    "    \"\"\"Computes the sampling distribution of the mean.\n",
    "\n",
    "    data: sequence of values representing the population\n",
    "    n: sample size\n",
    "\n",
    "    returns: Normal object\n",
    "    \"\"\"\n",
    "    mean, var = data.mean(), data.var()\n",
    "    dist = Normal(mean, var)\n",
    "    return dist.sum(n) / n"
   ]
  },
  {
   "cell_type": "code",
   "execution_count": 45,
   "id": "0d436eda",
   "metadata": {},
   "outputs": [
    {
     "data": {
      "application/javascript": [
       "\n",
       "            setTimeout(function() {\n",
       "                var nbb_cell_id = 45;\n",
       "                var nbb_unformatted_code = \"dist1 = sampling_dist_mean(live.prglngth, len(firsts))\\ndist2 = sampling_dist_mean(live.prglngth, len(others))\";\n",
       "                var nbb_formatted_code = \"dist1 = sampling_dist_mean(live.prglngth, len(firsts))\\ndist2 = sampling_dist_mean(live.prglngth, len(others))\";\n",
       "                var nbb_cells = Jupyter.notebook.get_cells();\n",
       "                for (var i = 0; i < nbb_cells.length; ++i) {\n",
       "                    if (nbb_cells[i].input_prompt_number == nbb_cell_id) {\n",
       "                        if (nbb_cells[i].get_text() == nbb_unformatted_code) {\n",
       "                             nbb_cells[i].set_text(nbb_formatted_code);\n",
       "                        }\n",
       "                        break;\n",
       "                    }\n",
       "                }\n",
       "            }, 500);\n",
       "            "
      ],
      "text/plain": [
       "<IPython.core.display.Javascript object>"
      ]
     },
     "metadata": {},
     "output_type": "display_data"
    }
   ],
   "source": [
    "dist1 = sampling_dist_mean(live.prglngth, len(firsts))\n",
    "dist2 = sampling_dist_mean(live.prglngth, len(others))"
   ]
  },
  {
   "cell_type": "markdown",
   "id": "882fd9c6",
   "metadata": {},
   "source": [
    "Both sampling distributions are based on the same population, which is\n",
    "the pool of all live births. `SamplingDistMean` takes this sequence of\n",
    "values and the sample size, and returns a Normal object representing the\n",
    "sampling distribution:"
   ]
  },
  {
   "cell_type": "markdown",
   "id": "6eb7ae51",
   "metadata": {},
   "source": [
    "`mean` and `var` are the mean and variance of `data`. We approximate the\n",
    "distribution of the data with a normal distribution, `dist`.\n",
    "\n",
    "In this example, the data are not normally distributed, so this\n",
    "approximation is not very good. But then we compute `dist.Sum(n) / n`,\n",
    "which is the sampling distribution of the mean of `n` values. Even if\n",
    "the data are not normally distributed, the sampling distribution of the\n",
    "mean is, by the Central Limit Theorem.\n",
    "\n",
    "Next, we compute the sampling distribution of the difference in the\n",
    "means. The `Normal` class knows how to perform subtraction using\n",
    "Equation 2:"
   ]
  },
  {
   "cell_type": "raw",
   "id": "8f3a2aff",
   "metadata": {},
   "source": [
    "def __sub__(self, other):\n",
    "    return Normal(self.mu - other.mu,\n",
    "                  self.sigma2 + other.sigma2)"
   ]
  },
  {
   "cell_type": "markdown",
   "id": "e712960d",
   "metadata": {},
   "source": [
    "So we can compute the sampling distribution of the difference like this:"
   ]
  },
  {
   "cell_type": "code",
   "execution_count": 46,
   "id": "750e153c",
   "metadata": {},
   "outputs": [
    {
     "name": "stdout",
     "output_type": "stream",
     "text": [
      "Normal(0, 0.00319708)\n"
     ]
    },
    {
     "data": {
      "application/javascript": [
       "\n",
       "            setTimeout(function() {\n",
       "                var nbb_cell_id = 46;\n",
       "                var nbb_unformatted_code = \"dist = dist1 - dist2\\nprint(dist)\";\n",
       "                var nbb_formatted_code = \"dist = dist1 - dist2\\nprint(dist)\";\n",
       "                var nbb_cells = Jupyter.notebook.get_cells();\n",
       "                for (var i = 0; i < nbb_cells.length; ++i) {\n",
       "                    if (nbb_cells[i].input_prompt_number == nbb_cell_id) {\n",
       "                        if (nbb_cells[i].get_text() == nbb_unformatted_code) {\n",
       "                             nbb_cells[i].set_text(nbb_formatted_code);\n",
       "                        }\n",
       "                        break;\n",
       "                    }\n",
       "                }\n",
       "            }, 500);\n",
       "            "
      ],
      "text/plain": [
       "<IPython.core.display.Javascript object>"
      ]
     },
     "metadata": {},
     "output_type": "display_data"
    }
   ],
   "source": [
    "dist = dist1 - dist2\n",
    "print(dist)"
   ]
  },
  {
   "cell_type": "markdown",
   "id": "f95cd9ca",
   "metadata": {},
   "source": [
    "The mean is 0, which makes sense because we expect two samples from the\n",
    "same distribution to have the same mean, on average. The variance of the\n",
    "sampling distribution is 0.0032.\n",
    "\n",
    "`Normal` provides `Prob`, which evaluates the normal CDF. We can use\n",
    "`Prob` to compute the probability of a difference as large as `delta`\n",
    "under the null hypothesis:"
   ]
  },
  {
   "cell_type": "code",
   "execution_count": 47,
   "id": "74bf6c31",
   "metadata": {},
   "outputs": [
    {
     "data": {
      "text/plain": [
       "0.08377070425543787"
      ]
     },
     "execution_count": 47,
     "metadata": {},
     "output_type": "execute_result"
    },
    {
     "data": {
      "application/javascript": [
       "\n",
       "            setTimeout(function() {\n",
       "                var nbb_cell_id = 47;\n",
       "                var nbb_unformatted_code = \"1 - dist.prob(delta)\";\n",
       "                var nbb_formatted_code = \"1 - dist.prob(delta)\";\n",
       "                var nbb_cells = Jupyter.notebook.get_cells();\n",
       "                for (var i = 0; i < nbb_cells.length; ++i) {\n",
       "                    if (nbb_cells[i].input_prompt_number == nbb_cell_id) {\n",
       "                        if (nbb_cells[i].get_text() == nbb_unformatted_code) {\n",
       "                             nbb_cells[i].set_text(nbb_formatted_code);\n",
       "                        }\n",
       "                        break;\n",
       "                    }\n",
       "                }\n",
       "            }, 500);\n",
       "            "
      ],
      "text/plain": [
       "<IPython.core.display.Javascript object>"
      ]
     },
     "metadata": {},
     "output_type": "display_data"
    }
   ],
   "source": [
    "1 - dist.prob(delta)"
   ]
  },
  {
   "cell_type": "markdown",
   "id": "558c5533",
   "metadata": {},
   "source": [
    "Which means that the p-value for a one-sided test is 0.084. For a\n",
    "two-sided test we would also compute"
   ]
  },
  {
   "cell_type": "code",
   "execution_count": 48,
   "id": "356d9768",
   "metadata": {},
   "outputs": [
    {
     "data": {
      "text/plain": [
       "0.08377070425543781"
      ]
     },
     "execution_count": 48,
     "metadata": {},
     "output_type": "execute_result"
    },
    {
     "data": {
      "application/javascript": [
       "\n",
       "            setTimeout(function() {\n",
       "                var nbb_cell_id = 48;\n",
       "                var nbb_unformatted_code = \"dist.prob(-delta)\";\n",
       "                var nbb_formatted_code = \"dist.prob(-delta)\";\n",
       "                var nbb_cells = Jupyter.notebook.get_cells();\n",
       "                for (var i = 0; i < nbb_cells.length; ++i) {\n",
       "                    if (nbb_cells[i].input_prompt_number == nbb_cell_id) {\n",
       "                        if (nbb_cells[i].get_text() == nbb_unformatted_code) {\n",
       "                             nbb_cells[i].set_text(nbb_formatted_code);\n",
       "                        }\n",
       "                        break;\n",
       "                    }\n",
       "                }\n",
       "            }, 500);\n",
       "            "
      ],
      "text/plain": [
       "<IPython.core.display.Javascript object>"
      ]
     },
     "metadata": {},
     "output_type": "display_data"
    }
   ],
   "source": [
    "dist.prob(-delta)"
   ]
  },
  {
   "cell_type": "markdown",
   "id": "c7c262b4",
   "metadata": {},
   "source": [
    "Which is the same because the normal distribution is symmetric. The sum\n",
    "of the tails is 0.168, which is consistent with the estimate in\n",
    "Section [\\[testdiff\\]](#testdiff){reference-type=\"ref\"\n",
    "reference=\"testdiff\"}, which was 0.17."
   ]
  },
  {
   "cell_type": "markdown",
   "id": "b85a36a5",
   "metadata": {},
   "source": [
    "## Correlation test\n",
    "\n",
    "In Section [\\[corrtest\\]](#corrtest){reference-type=\"ref\"\n",
    "reference=\"corrtest\"} we used a permutation test for the correlation\n",
    "between birth weight and mother's age, and found that it is\n",
    "statistically significant, with p-value less than 0.001.\n",
    "\n",
    "Now we can do the same thing analytically. The method is based on this\n",
    "mathematical result: given two variables that are normally distributed\n",
    "and uncorrelated, if we generate a sample with size $n$, compute\n",
    "Pearson's correlation, $r$, and then compute the transformed correlation\n",
    "$$t = r \\sqrt{\\frac{n-2}{1-r^2}}$$ the distribution of $t$ is Student's\n",
    "t-distribution with parameter $n-2$. The t-distribution is an analytic\n",
    "distribution; the CDF can be computed efficiently using gamma functions.\n",
    "\n",
    "We can use this result to compute the sampling distribution of\n",
    "correlation under the null hypothesis; that is, if we generate\n",
    "uncorrelated sequences of normal values, what is the distribution of\n",
    "their correlation? `StudentCdf` takes the sample size, `n`, and returns\n",
    "the sampling distribution of correlation:"
   ]
  },
  {
   "cell_type": "code",
   "execution_count": 49,
   "id": "34f8fa6c",
   "metadata": {},
   "outputs": [
    {
     "data": {
      "application/javascript": [
       "\n",
       "            setTimeout(function() {\n",
       "                var nbb_cell_id = 49;\n",
       "                var nbb_unformatted_code = \"from scipy.stats import t as studentt\\n\\n\\ndef student_cdf(n):\\n    \\\"\\\"\\\"Computes the CDF correlations from uncorrelated variables.\\n\\n    n: sample size\\n\\n    returns: Cdf\\n    \\\"\\\"\\\"\\n    ts = np.linspace(-3, 3, 101)\\n    ps = studentt.cdf(ts, df=n - 2)\\n    rs = ts / np.sqrt(n - 2 + ts**2)\\n    return thinkstats2.Cdf(rs, ps)\";\n",
       "                var nbb_formatted_code = \"from scipy.stats import t as studentt\\n\\n\\ndef student_cdf(n):\\n    \\\"\\\"\\\"Computes the CDF correlations from uncorrelated variables.\\n\\n    n: sample size\\n\\n    returns: Cdf\\n    \\\"\\\"\\\"\\n    ts = np.linspace(-3, 3, 101)\\n    ps = studentt.cdf(ts, df=n - 2)\\n    rs = ts / np.sqrt(n - 2 + ts**2)\\n    return thinkstats2.Cdf(rs, ps)\";\n",
       "                var nbb_cells = Jupyter.notebook.get_cells();\n",
       "                for (var i = 0; i < nbb_cells.length; ++i) {\n",
       "                    if (nbb_cells[i].input_prompt_number == nbb_cell_id) {\n",
       "                        if (nbb_cells[i].get_text() == nbb_unformatted_code) {\n",
       "                             nbb_cells[i].set_text(nbb_formatted_code);\n",
       "                        }\n",
       "                        break;\n",
       "                    }\n",
       "                }\n",
       "            }, 500);\n",
       "            "
      ],
      "text/plain": [
       "<IPython.core.display.Javascript object>"
      ]
     },
     "metadata": {},
     "output_type": "display_data"
    }
   ],
   "source": [
    "from scipy.stats import t as studentt\n",
    "\n",
    "\n",
    "def student_cdf(n):\n",
    "    \"\"\"Computes the CDF correlations from uncorrelated variables.\n",
    "\n",
    "    n: sample size\n",
    "\n",
    "    returns: Cdf\n",
    "    \"\"\"\n",
    "    ts = np.linspace(-3, 3, 101)\n",
    "    ps = studentt.cdf(ts, df=n - 2)\n",
    "    rs = ts / np.sqrt(n - 2 + ts**2)\n",
    "    return thinkstats2.Cdf(rs, ps)"
   ]
  },
  {
   "cell_type": "markdown",
   "id": "406e406c",
   "metadata": {},
   "source": [
    "`ts` is a NumPy array of values for $t$, the transformed correlation.\n",
    "`ps` contains the corresponding probabilities, computed using the CDF of\n",
    "the Student's t-distribution implemented in SciPy. The parameter of the\n",
    "t-distribution, `df`, stands for \"degrees of freedom.\" I won't explain\n",
    "that term, but you can read about it at\n",
    "<http://en.wikipedia.org/wiki/Degrees_of_freedom_(statistics)>."
   ]
  },
  {
   "cell_type": "markdown",
   "id": "78aec25e",
   "metadata": {},
   "source": [
    "To get from `ts` to the correlation coefficients, `rs`, we apply the\n",
    "inverse transform, $$r = t / \\sqrt{n - 2 + t^2}$$ The result is the\n",
    "sampling distribution of $r$ under the null hypothesis.\n",
    "Figure [\\[normal4\\]](#normal4){reference-type=\"ref\" reference=\"normal4\"}\n",
    "shows this distribution along with the distribution we generated in\n",
    "Section [\\[corrtest\\]](#corrtest){reference-type=\"ref\"\n",
    "reference=\"corrtest\"} by resampling. They are nearly identical. Although\n",
    "the actual distributions are not normal, Pearson's coefficient of\n",
    "correlation is based on sample means and variances. By the Central Limit\n",
    "Theorem, these moment-based statistics are normally distributed even if\n",
    "the data are not."
   ]
  },
  {
   "cell_type": "code",
   "execution_count": 50,
   "id": "bb5ab96a",
   "metadata": {},
   "outputs": [
    {
     "data": {
      "application/javascript": [
       "\n",
       "            setTimeout(function() {\n",
       "                var nbb_cell_id = 50;\n",
       "                var nbb_unformatted_code = \"class CorrelationPermute(thinkstats2.CorrelationPermute):\\n    \\\"\\\"\\\"Tests correlations by permutation.\\\"\\\"\\\"\\n\\n    def test_statistic(self, data):\\n        \\\"\\\"\\\"Computes the test statistic.\\n\\n        data: tuple of xs and ys\\n        \\\"\\\"\\\"\\n        xs, ys = data\\n        return np.corrcoef(xs, ys)[0][1]\";\n",
       "                var nbb_formatted_code = \"class CorrelationPermute(thinkstats2.CorrelationPermute):\\n    \\\"\\\"\\\"Tests correlations by permutation.\\\"\\\"\\\"\\n\\n    def test_statistic(self, data):\\n        \\\"\\\"\\\"Computes the test statistic.\\n\\n        data: tuple of xs and ys\\n        \\\"\\\"\\\"\\n        xs, ys = data\\n        return np.corrcoef(xs, ys)[0][1]\";\n",
       "                var nbb_cells = Jupyter.notebook.get_cells();\n",
       "                for (var i = 0; i < nbb_cells.length; ++i) {\n",
       "                    if (nbb_cells[i].input_prompt_number == nbb_cell_id) {\n",
       "                        if (nbb_cells[i].get_text() == nbb_unformatted_code) {\n",
       "                             nbb_cells[i].set_text(nbb_formatted_code);\n",
       "                        }\n",
       "                        break;\n",
       "                    }\n",
       "                }\n",
       "            }, 500);\n",
       "            "
      ],
      "text/plain": [
       "<IPython.core.display.Javascript object>"
      ]
     },
     "metadata": {},
     "output_type": "display_data"
    }
   ],
   "source": [
    "class CorrelationPermute(thinkstats2.CorrelationPermute):\n",
    "    \"\"\"Tests correlations by permutation.\"\"\"\n",
    "\n",
    "    def test_statistic(self, data):\n",
    "        \"\"\"Computes the test statistic.\n",
    "\n",
    "        data: tuple of xs and ys\n",
    "        \"\"\"\n",
    "        xs, ys = data\n",
    "        return np.corrcoef(xs, ys)[0][1]"
   ]
  },
  {
   "cell_type": "code",
   "execution_count": 51,
   "id": "4009d34a",
   "metadata": {},
   "outputs": [
    {
     "data": {
      "application/javascript": [
       "\n",
       "            setTimeout(function() {\n",
       "                var nbb_cell_id = 51;\n",
       "                var nbb_unformatted_code = \"def resample_correlations(live):\\n    \\\"\\\"\\\"Tests the correlation between birth weight and mother's age.\\n\\n    live: DataFrame for live births\\n\\n    returns: sample size, observed correlation, CDF of resampled correlations\\n    \\\"\\\"\\\"\\n    live2 = live.dropna(subset=[\\\"agepreg\\\", \\\"totalwgt_lb\\\"])\\n    data = live2.agepreg.values, live2.totalwgt_lb.values\\n    ht = CorrelationPermute(data)\\n    p_value = ht.p_value()\\n    return len(live2), ht.actual, ht.test_cdf\";\n",
       "                var nbb_formatted_code = \"def resample_correlations(live):\\n    \\\"\\\"\\\"Tests the correlation between birth weight and mother's age.\\n\\n    live: DataFrame for live births\\n\\n    returns: sample size, observed correlation, CDF of resampled correlations\\n    \\\"\\\"\\\"\\n    live2 = live.dropna(subset=[\\\"agepreg\\\", \\\"totalwgt_lb\\\"])\\n    data = live2.agepreg.values, live2.totalwgt_lb.values\\n    ht = CorrelationPermute(data)\\n    p_value = ht.p_value()\\n    return len(live2), ht.actual, ht.test_cdf\";\n",
       "                var nbb_cells = Jupyter.notebook.get_cells();\n",
       "                for (var i = 0; i < nbb_cells.length; ++i) {\n",
       "                    if (nbb_cells[i].input_prompt_number == nbb_cell_id) {\n",
       "                        if (nbb_cells[i].get_text() == nbb_unformatted_code) {\n",
       "                             nbb_cells[i].set_text(nbb_formatted_code);\n",
       "                        }\n",
       "                        break;\n",
       "                    }\n",
       "                }\n",
       "            }, 500);\n",
       "            "
      ],
      "text/plain": [
       "<IPython.core.display.Javascript object>"
      ]
     },
     "metadata": {},
     "output_type": "display_data"
    }
   ],
   "source": [
    "def resample_correlations(live):\n",
    "    \"\"\"Tests the correlation between birth weight and mother's age.\n",
    "\n",
    "    live: DataFrame for live births\n",
    "\n",
    "    returns: sample size, observed correlation, CDF of resampled correlations\n",
    "    \"\"\"\n",
    "    live2 = live.dropna(subset=[\"agepreg\", \"totalwgt_lb\"])\n",
    "    data = live2.agepreg.values, live2.totalwgt_lb.values\n",
    "    ht = CorrelationPermute(data)\n",
    "    p_value = ht.p_value()\n",
    "    return len(live2), ht.actual, ht.test_cdf"
   ]
  },
  {
   "cell_type": "code",
   "execution_count": 52,
   "id": "4541a0be",
   "metadata": {},
   "outputs": [
    {
     "data": {
      "image/png": "[encoded data removed]",
      "text/plain": [
       "<Figure size 640x480 with 1 Axes>"
      ]
     },
     "metadata": {},
     "output_type": "display_data"
    },
    {
     "data": {
      "application/javascript": [
       "\n",
       "            setTimeout(function() {\n",
       "                var nbb_cell_id = 52;\n",
       "                var nbb_unformatted_code = \"n, r, cdf = resample_correlations(live)\\nmodel = student_cdf(n)\\nthinkplot.plot(model.xs, model.ps, color=\\\"gray\\\", alpha=0.5, label=\\\"Student t\\\")\\nthinkplot.cdf(cdf, label=\\\"sample\\\")\\nthinkplot.config(xlabel=\\\"correlation\\\", ylabel=\\\"CDF\\\", legend=True, loc=\\\"lower right\\\")\";\n",
       "                var nbb_formatted_code = \"n, r, cdf = resample_correlations(live)\\nmodel = student_cdf(n)\\nthinkplot.plot(model.xs, model.ps, color=\\\"gray\\\", alpha=0.5, label=\\\"Student t\\\")\\nthinkplot.cdf(cdf, label=\\\"sample\\\")\\nthinkplot.config(xlabel=\\\"correlation\\\", ylabel=\\\"CDF\\\", legend=True, loc=\\\"lower right\\\")\";\n",
       "                var nbb_cells = Jupyter.notebook.get_cells();\n",
       "                for (var i = 0; i < nbb_cells.length; ++i) {\n",
       "                    if (nbb_cells[i].input_prompt_number == nbb_cell_id) {\n",
       "                        if (nbb_cells[i].get_text() == nbb_unformatted_code) {\n",
       "                             nbb_cells[i].set_text(nbb_formatted_code);\n",
       "                        }\n",
       "                        break;\n",
       "                    }\n",
       "                }\n",
       "            }, 500);\n",
       "            "
      ],
      "text/plain": [
       "<IPython.core.display.Javascript object>"
      ]
     },
     "metadata": {},
     "output_type": "display_data"
    }
   ],
   "source": [
    "n, r, cdf = resample_correlations(live)\n",
    "model = student_cdf(n)\n",
    "thinkplot.plot(model.xs, model.ps, color=\"gray\", alpha=0.5, label=\"Student t\")\n",
    "thinkplot.cdf(cdf, label=\"sample\")\n",
    "thinkplot.config(xlabel=\"correlation\", ylabel=\"CDF\", legend=True, loc=\"lower right\")"
   ]
  },
  {
   "cell_type": "markdown",
   "id": "3f9f8866",
   "metadata": {},
   "source": [
    "From Figure [\\[normal4\\]](#normal4){reference-type=\"ref\"\n",
    "reference=\"normal4\"}, we can see that the observed correlation, 0.07, is\n",
    "unlikely to occur if the variables are actually uncorrelated. Using the\n",
    "analytic distribution, we can compute just how unlikely:"
   ]
  },
  {
   "cell_type": "code",
   "execution_count": 53,
   "id": "561a79d0",
   "metadata": {},
   "outputs": [
    {
     "data": {
      "text/plain": [
       "2.861466619208386e-11"
      ]
     },
     "execution_count": 53,
     "metadata": {},
     "output_type": "execute_result"
    },
    {
     "data": {
      "application/javascript": [
       "\n",
       "            setTimeout(function() {\n",
       "                var nbb_cell_id = 53;\n",
       "                var nbb_unformatted_code = \"t = r * np.sqrt((n - 2) / (1 - r**2))\\np_value = 1 - studentt.cdf(t, df=n - 2)\\np_value\";\n",
       "                var nbb_formatted_code = \"t = r * np.sqrt((n - 2) / (1 - r**2))\\np_value = 1 - studentt.cdf(t, df=n - 2)\\np_value\";\n",
       "                var nbb_cells = Jupyter.notebook.get_cells();\n",
       "                for (var i = 0; i < nbb_cells.length; ++i) {\n",
       "                    if (nbb_cells[i].input_prompt_number == nbb_cell_id) {\n",
       "                        if (nbb_cells[i].get_text() == nbb_unformatted_code) {\n",
       "                             nbb_cells[i].set_text(nbb_formatted_code);\n",
       "                        }\n",
       "                        break;\n",
       "                    }\n",
       "                }\n",
       "            }, 500);\n",
       "            "
      ],
      "text/plain": [
       "<IPython.core.display.Javascript object>"
      ]
     },
     "metadata": {},
     "output_type": "display_data"
    }
   ],
   "source": [
    "t = r * np.sqrt((n - 2) / (1 - r**2))\n",
    "p_value = 1 - studentt.cdf(t, df=n - 2)\n",
    "p_value"
   ]
  },
  {
   "cell_type": "markdown",
   "id": "4d80df7d",
   "metadata": {},
   "source": [
    "We compute the value of `t` that corresponds to `r=0.07`, and then\n",
    "evaluate the t-distribution at `t`. The result is `2.9e-11`. This\n",
    "example demonstrates an advantage of the analytic method: we can compute\n",
    "very small p-values. But in practice it usually doesn't matter."
   ]
  },
  {
   "cell_type": "markdown",
   "id": "9eea3ee6",
   "metadata": {},
   "source": [
    "## Chi-squared test\n",
    "\n",
    "In Section [\\[casino2\\]](#casino2){reference-type=\"ref\"\n",
    "reference=\"casino2\"} we used the chi-squared statistic to test whether a\n",
    "die is crooked. The chi-squared statistic measures the total normalized\n",
    "deviation from the expected values in a table:\n",
    "\n",
    "$$\\chi^2 = \\sum_i \\frac{{(O_i - E_i)}^2}{E_i}$$ \n",
    "\n",
    "One reason the\n",
    "chi-squared statistic is widely used is that its sampling distribution\n",
    "under the null hypothesis is analytic; by a remarkable coincidence[^1],\n",
    "it is called the chi-squared distribution. Like the t-distribution, the\n",
    "chi-squared CDF can be computed efficiently using gamma functions."
   ]
  },
  {
   "cell_type": "markdown",
   "id": "26014ba0",
   "metadata": {},
   "source": [
    "SciPy provides an implementation of the chi-squared distribution, which\n",
    "we use to compute the sampling distribution of the chi-squared\n",
    "statistic:"
   ]
  },
  {
   "cell_type": "code",
   "execution_count": 54,
   "id": "3e2be4ba",
   "metadata": {},
   "outputs": [
    {
     "data": {
      "application/javascript": [
       "\n",
       "            setTimeout(function() {\n",
       "                var nbb_cell_id = 54;\n",
       "                var nbb_unformatted_code = \"from scipy.stats import chi2 as chi2_dist\\n\\n\\ndef chi_squared_cdf(n):\\n    \\\"\\\"\\\"Discrete approximation of the chi-squared CDF with df=n-1.\\n\\n    n: sample size\\n\\n    returns: Cdf\\n    \\\"\\\"\\\"\\n    xs = np.linspace(0, 25, 101)\\n    ps = chi2_dist.cdf(xs, df=n - 1)\\n    return thinkstats2.Cdf(xs, ps)\";\n",
       "                var nbb_formatted_code = \"from scipy.stats import chi2 as chi2_dist\\n\\n\\ndef chi_squared_cdf(n):\\n    \\\"\\\"\\\"Discrete approximation of the chi-squared CDF with df=n-1.\\n\\n    n: sample size\\n\\n    returns: Cdf\\n    \\\"\\\"\\\"\\n    xs = np.linspace(0, 25, 101)\\n    ps = chi2_dist.cdf(xs, df=n - 1)\\n    return thinkstats2.Cdf(xs, ps)\";\n",
       "                var nbb_cells = Jupyter.notebook.get_cells();\n",
       "                for (var i = 0; i < nbb_cells.length; ++i) {\n",
       "                    if (nbb_cells[i].input_prompt_number == nbb_cell_id) {\n",
       "                        if (nbb_cells[i].get_text() == nbb_unformatted_code) {\n",
       "                             nbb_cells[i].set_text(nbb_formatted_code);\n",
       "                        }\n",
       "                        break;\n",
       "                    }\n",
       "                }\n",
       "            }, 500);\n",
       "            "
      ],
      "text/plain": [
       "<IPython.core.display.Javascript object>"
      ]
     },
     "metadata": {},
     "output_type": "display_data"
    }
   ],
   "source": [
    "from scipy.stats import chi2 as chi2_dist\n",
    "\n",
    "\n",
    "def chi_squared_cdf(n):\n",
    "    \"\"\"Discrete approximation of the chi-squared CDF with df=n-1.\n",
    "\n",
    "    n: sample size\n",
    "\n",
    "    returns: Cdf\n",
    "    \"\"\"\n",
    "    xs = np.linspace(0, 25, 101)\n",
    "    ps = chi2_dist.cdf(xs, df=n - 1)\n",
    "    return thinkstats2.Cdf(xs, ps)"
   ]
  },
  {
   "cell_type": "markdown",
   "id": "7017c5e5",
   "metadata": {},
   "source": [
    "Figure [\\[normal5\\]](#normal5){reference-type=\"ref\" reference=\"normal5\"}\n",
    "shows the analytic result along with the distribution we got by\n",
    "resampling. They are very similar, especially in the tail, which is the\n",
    "part we usually care most about.\n",
    "\n",
    "We can use this distribution to compute the p-value of the observed test\n",
    "statistic, `chi2`:"
   ]
  },
  {
   "cell_type": "code",
   "execution_count": 55,
   "id": "bdda1ad0",
   "metadata": {},
   "outputs": [
    {
     "data": {
      "image/png": "[encoded data removed]",
      "text/plain": [
       "<Figure size 640x480 with 1 Axes>"
      ]
     },
     "metadata": {},
     "output_type": "display_data"
    },
    {
     "data": {
      "application/javascript": [
       "\n",
       "            setTimeout(function() {\n",
       "                var nbb_cell_id = 55;\n",
       "                var nbb_unformatted_code = \"data = [8, 9, 19, 5, 8, 11]\\ndt = thinkstats2.DiceChiTest(data)\\np_value = dt.p_value(iters=1000)\\nn, chi2, cdf = len(data), dt.actual, dt.test_cdf\\nmodel = chi_squared_cdf(n)\\nthinkplot.plot(model.xs, model.ps, color=\\\"gray\\\", alpha=0.3, label=\\\"chi squared\\\")\\nthinkplot.cdf(cdf, label=\\\"sample\\\")\\nthinkplot.config(xlabel=\\\"chi-squared statistic\\\", ylabel=\\\"CDF\\\", loc=\\\"lower right\\\")\";\n",
       "                var nbb_formatted_code = \"data = [8, 9, 19, 5, 8, 11]\\ndt = thinkstats2.DiceChiTest(data)\\np_value = dt.p_value(iters=1000)\\nn, chi2, cdf = len(data), dt.actual, dt.test_cdf\\nmodel = chi_squared_cdf(n)\\nthinkplot.plot(model.xs, model.ps, color=\\\"gray\\\", alpha=0.3, label=\\\"chi squared\\\")\\nthinkplot.cdf(cdf, label=\\\"sample\\\")\\nthinkplot.config(xlabel=\\\"chi-squared statistic\\\", ylabel=\\\"CDF\\\", loc=\\\"lower right\\\")\";\n",
       "                var nbb_cells = Jupyter.notebook.get_cells();\n",
       "                for (var i = 0; i < nbb_cells.length; ++i) {\n",
       "                    if (nbb_cells[i].input_prompt_number == nbb_cell_id) {\n",
       "                        if (nbb_cells[i].get_text() == nbb_unformatted_code) {\n",
       "                             nbb_cells[i].set_text(nbb_formatted_code);\n",
       "                        }\n",
       "                        break;\n",
       "                    }\n",
       "                }\n",
       "            }, 500);\n",
       "            "
      ],
      "text/plain": [
       "<IPython.core.display.Javascript object>"
      ]
     },
     "metadata": {},
     "output_type": "display_data"
    }
   ],
   "source": [
    "data = [8, 9, 19, 5, 8, 11]\n",
    "dt = thinkstats2.DiceChiTest(data)\n",
    "p_value = dt.p_value(iters=1000)\n",
    "n, chi2, cdf = len(data), dt.actual, dt.test_cdf\n",
    "model = chi_squared_cdf(n)\n",
    "thinkplot.plot(model.xs, model.ps, color=\"gray\", alpha=0.3, label=\"chi squared\")\n",
    "thinkplot.cdf(cdf, label=\"sample\")\n",
    "thinkplot.config(xlabel=\"chi-squared statistic\", ylabel=\"CDF\", loc=\"lower right\")"
   ]
  },
  {
   "cell_type": "code",
   "execution_count": 56,
   "id": "761861dc",
   "metadata": {},
   "outputs": [
    {
     "data": {
      "text/plain": [
       "0.04069938850404997"
      ]
     },
     "execution_count": 56,
     "metadata": {},
     "output_type": "execute_result"
    },
    {
     "data": {
      "application/javascript": [
       "\n",
       "            setTimeout(function() {\n",
       "                var nbb_cell_id = 56;\n",
       "                var nbb_unformatted_code = \"p_value = 1 - chi2_dist.cdf(chi2, df=n - 1)\\np_value\";\n",
       "                var nbb_formatted_code = \"p_value = 1 - chi2_dist.cdf(chi2, df=n - 1)\\np_value\";\n",
       "                var nbb_cells = Jupyter.notebook.get_cells();\n",
       "                for (var i = 0; i < nbb_cells.length; ++i) {\n",
       "                    if (nbb_cells[i].input_prompt_number == nbb_cell_id) {\n",
       "                        if (nbb_cells[i].get_text() == nbb_unformatted_code) {\n",
       "                             nbb_cells[i].set_text(nbb_formatted_code);\n",
       "                        }\n",
       "                        break;\n",
       "                    }\n",
       "                }\n",
       "            }, 500);\n",
       "            "
      ],
      "text/plain": [
       "<IPython.core.display.Javascript object>"
      ]
     },
     "metadata": {},
     "output_type": "display_data"
    }
   ],
   "source": [
    "p_value = 1 - chi2_dist.cdf(chi2, df=n - 1)\n",
    "p_value"
   ]
  },
  {
   "cell_type": "markdown",
   "id": "158635d2",
   "metadata": {},
   "source": [
    "The result is 0.041, which is consistent with the result from\n",
    "Section [\\[casino2\\]](#casino2){reference-type=\"ref\"\n",
    "reference=\"casino2\"}.\n",
    "\n",
    "The parameter of the chi-squared distribution is \"degrees of freedom\"\n",
    "again. In this case the correct parameter is `n-1`, where `n` is the\n",
    "size of the table, 6. Choosing this parameter can be tricky; to be\n",
    "honest, I am never confident that I have it right until I generate\n",
    "something like Figure [\\[normal5\\]](#normal5){reference-type=\"ref\"\n",
    "reference=\"normal5\"} to compare the analytic results to the resampling\n",
    "results."
   ]
  },
  {
   "cell_type": "markdown",
   "id": "9ffdd14a",
   "metadata": {},
   "source": [
    "## Discussion\n",
    "\n",
    "This book focuses on computational methods like resampling and\n",
    "permutation. These methods have several advantages over analysis:\n",
    "\n",
    "-   They are easier to explain and understand. For example, one of the\n",
    "    most difficult topics in an introductory statistics class is\n",
    "    hypothesis testing. Many students don't really understand what\n",
    "    p-values are. I think the approach I presented in\n",
    "    Chapter [\\[testing\\]](#testing){reference-type=\"ref\"\n",
    "    reference=\"testing\"}---simulating the null hypothesis and computing\n",
    "    test statistics---makes the fundamental idea clearer.\n",
    "\n",
    "-   They are robust and versatile. Analytic methods are often based on\n",
    "    assumptions that might not hold in practice. Computational methods\n",
    "    require fewer assumptions, and can be adapted and extended more\n",
    "    easily.\n",
    "\n",
    "-   They are debuggable. Analytic methods are often like a black box:\n",
    "    you plug in numbers and they spit out results. But it's easy to make\n",
    "    subtle errors, hard to be confident that the results are right, and\n",
    "    hard to find the problem if they are not. Computational methods lend\n",
    "    themselves to incremental development and testing, which fosters\n",
    "    confidence in the results."
   ]
  },
  {
   "cell_type": "markdown",
   "id": "6a568fca",
   "metadata": {},
   "source": [
    "But there is one drawback: computational methods can be slow. Taking\n",
    "into account these pros and cons, I recommend the following process:\n",
    "\n",
    "1.  Use computational methods during exploration. If you find a\n",
    "    satisfactory answer and the run time is acceptable, you can stop.\n",
    "\n",
    "2.  If run time is not acceptable, look for opportunities to optimize.\n",
    "    Using analytic methods is one of several methods of optimization.\n",
    "\n",
    "3.  If replacing a computational method with an analytic method is\n",
    "    appropriate, use the computational method as a basis of comparison,\n",
    "    providing mutual validation between the computational and analytic\n",
    "    results.\n",
    "\n",
    "For the vast majority of problems I have worked on, I didn't have to go\n",
    "past Step 1."
   ]
  },
  {
   "cell_type": "markdown",
   "id": "14c6a1da",
   "metadata": {},
   "source": [
    "[^1]: Not really.\n",
    "\n",
    "[^2]: \"Evidence for the persistent effects of an intervention to\n",
    "    mitigate gender-sterotypical task allocation within student\n",
    "    engineering teams,\" Proceedings of the IEEE Frontiers in Education\n",
    "    Conference, 2014."
   ]
  },
  {
   "cell_type": "markdown",
   "id": "73e9a0da",
   "metadata": {
    "collapsed": true
   },
   "source": [
    "## Exercises"
   ]
  },
  {
   "cell_type": "markdown",
   "id": "b33a1489",
   "metadata": {
    "collapsed": true
   },
   "source": [
    "**Exercise:**    In Section 5.4, we saw that the distribution of adult weights is approximately lognormal. One possible explanation is that the weight a person gains each year is proportional to their current weight. In that case, adult weight is the product of a large number of multiplicative factors:\n",
    "\n",
    "w = w0 f1 f2 ... fn  \n",
    "\n",
    "where w is adult weight, w0 is birth weight, and fi is the weight gain factor for year i.\n",
    "\n",
    "The log of a product is the sum of the logs of the factors:\n",
    "\n",
    "logw = logw0 + logf1 + logf2 + ... + logfn \n",
    "\n",
    "So by the Central Limit Theorem, the distribution of logw is approximately normal for large n, which implies that the distribution of w is lognormal.\n",
    "\n",
    "To model this phenomenon, choose a distribution for f that seems reasonable, then generate a sample of adult weights by choosing a random value from the distribution of birth weights, choosing a sequence of factors from the distribution of f, and computing the product. What value of n is needed to converge to a lognormal distribution?"
   ]
  },
  {
   "cell_type": "code",
   "execution_count": 57,
   "id": "25edad95",
   "metadata": {},
   "outputs": [
    {
     "data": {
      "application/javascript": [
       "\n",
       "            setTimeout(function() {\n",
       "                var nbb_cell_id = 57;\n",
       "                var nbb_unformatted_code = \"def generate_adult_weight(birth_weights, n):\\n    \\\"\\\"\\\"Generate a random adult weight by simulating annual gain.\\n\\n    birth_weights: sequence of birth weights in lbs\\n    n: number of years to simulate\\n\\n    returns: adult weight in lbs\\n    \\\"\\\"\\\"\\n    bw = random.choice(birth_weights)\\n    factors = np.random.normal(1.09, 0.03, n)\\n    aw = bw * np.prod(factors)\\n    return aw\";\n",
       "                var nbb_formatted_code = \"def generate_adult_weight(birth_weights, n):\\n    \\\"\\\"\\\"Generate a random adult weight by simulating annual gain.\\n\\n    birth_weights: sequence of birth weights in lbs\\n    n: number of years to simulate\\n\\n    returns: adult weight in lbs\\n    \\\"\\\"\\\"\\n    bw = random.choice(birth_weights)\\n    factors = np.random.normal(1.09, 0.03, n)\\n    aw = bw * np.prod(factors)\\n    return aw\";\n",
       "                var nbb_cells = Jupyter.notebook.get_cells();\n",
       "                for (var i = 0; i < nbb_cells.length; ++i) {\n",
       "                    if (nbb_cells[i].input_prompt_number == nbb_cell_id) {\n",
       "                        if (nbb_cells[i].get_text() == nbb_unformatted_code) {\n",
       "                             nbb_cells[i].set_text(nbb_formatted_code);\n",
       "                        }\n",
       "                        break;\n",
       "                    }\n",
       "                }\n",
       "            }, 500);\n",
       "            "
      ],
      "text/plain": [
       "<IPython.core.display.Javascript object>"
      ]
     },
     "metadata": {},
     "output_type": "display_data"
    }
   ],
   "source": [
    "def generate_adult_weight(birth_weights, n):\n",
    "    \"\"\"Generate a random adult weight by simulating annual gain.\n",
    "\n",
    "    birth_weights: sequence of birth weights in lbs\n",
    "    n: number of years to simulate\n",
    "\n",
    "    returns: adult weight in lbs\n",
    "    \"\"\"\n",
    "    bw = random.choice(birth_weights)\n",
    "    factors = np.random.normal(1.09, 0.03, n)\n",
    "    aw = bw * np.prod(factors)\n",
    "    return aw"
   ]
  },
  {
   "cell_type": "code",
   "execution_count": 58,
   "id": "21a33acf",
   "metadata": {},
   "outputs": [
    {
     "data": {
      "application/javascript": [
       "\n",
       "            setTimeout(function() {\n",
       "                var nbb_cell_id = 58;\n",
       "                var nbb_unformatted_code = \"def plot_adult_weights(live):\\n    \\\"\\\"\\\"Makes a normal probability plot of log10 adult weight.\\n\\n    live: DataFrame of live births\\n\\n\\n    \\\"\\\"\\\"\\n    birth_weights = live.totalwgt_lb.dropna().values\\n    aws = [generate_adult_weight(birth_weights, 40) for _ in range(1000)]\\n    log_aws = np.log10(aws)\\n    thinkstats2.normal_probability_plot(log_aws)\\n    thinkplot.config(\\n        xlabel=\\\"standard normal values\\\",\\n        ylabel=\\\"adult weight (log10 lbs)\\\",\\n        loc=\\\"lower right\\\",\\n    )\";\n",
       "                var nbb_formatted_code = \"def plot_adult_weights(live):\\n    \\\"\\\"\\\"Makes a normal probability plot of log10 adult weight.\\n\\n    live: DataFrame of live births\\n\\n\\n    \\\"\\\"\\\"\\n    birth_weights = live.totalwgt_lb.dropna().values\\n    aws = [generate_adult_weight(birth_weights, 40) for _ in range(1000)]\\n    log_aws = np.log10(aws)\\n    thinkstats2.normal_probability_plot(log_aws)\\n    thinkplot.config(\\n        xlabel=\\\"standard normal values\\\",\\n        ylabel=\\\"adult weight (log10 lbs)\\\",\\n        loc=\\\"lower right\\\",\\n    )\";\n",
       "                var nbb_cells = Jupyter.notebook.get_cells();\n",
       "                for (var i = 0; i < nbb_cells.length; ++i) {\n",
       "                    if (nbb_cells[i].input_prompt_number == nbb_cell_id) {\n",
       "                        if (nbb_cells[i].get_text() == nbb_unformatted_code) {\n",
       "                             nbb_cells[i].set_text(nbb_formatted_code);\n",
       "                        }\n",
       "                        break;\n",
       "                    }\n",
       "                }\n",
       "            }, 500);\n",
       "            "
      ],
      "text/plain": [
       "<IPython.core.display.Javascript object>"
      ]
     },
     "metadata": {},
     "output_type": "display_data"
    }
   ],
   "source": [
    "def plot_adult_weights(live):\n",
    "    \"\"\"Makes a normal probability plot of log10 adult weight.\n",
    "\n",
    "    live: DataFrame of live births\n",
    "\n",
    "\n",
    "    \"\"\"\n",
    "    birth_weights = live.totalwgt_lb.dropna().values\n",
    "    aws = [generate_adult_weight(birth_weights, 40) for _ in range(1000)]\n",
    "    log_aws = np.log10(aws)\n",
    "    thinkstats2.normal_probability_plot(log_aws)\n",
    "    thinkplot.config(\n",
    "        xlabel=\"standard normal values\",\n",
    "        ylabel=\"adult weight (log10 lbs)\",\n",
    "        loc=\"lower right\",\n",
    "    )"
   ]
  },
  {
   "cell_type": "code",
   "execution_count": 59,
   "id": "0545eb69",
   "metadata": {},
   "outputs": [
    {
     "data": {
      "image/png": "[encoded data removed]",
      "text/plain": [
       "<Figure size 640x480 with 1 Axes>"
      ]
     },
     "metadata": {},
     "output_type": "display_data"
    },
    {
     "data": {
      "application/javascript": [
       "\n",
       "            setTimeout(function() {\n",
       "                var nbb_cell_id = 59;\n",
       "                var nbb_unformatted_code = \"plot_adult_weights(live)\";\n",
       "                var nbb_formatted_code = \"plot_adult_weights(live)\";\n",
       "                var nbb_cells = Jupyter.notebook.get_cells();\n",
       "                for (var i = 0; i < nbb_cells.length; ++i) {\n",
       "                    if (nbb_cells[i].input_prompt_number == nbb_cell_id) {\n",
       "                        if (nbb_cells[i].get_text() == nbb_unformatted_code) {\n",
       "                             nbb_cells[i].set_text(nbb_formatted_code);\n",
       "                        }\n",
       "                        break;\n",
       "                    }\n",
       "                }\n",
       "            }, 500);\n",
       "            "
      ],
      "text/plain": [
       "<IPython.core.display.Javascript object>"
      ]
     },
     "metadata": {},
     "output_type": "display_data"
    }
   ],
   "source": [
    "plot_adult_weights(live)"
   ]
  },
  {
   "cell_type": "markdown",
   "id": "a5286d50",
   "metadata": {},
   "source": [
    "**Exercise:** In Section 14.6 we used the Central Limit Theorem to find the sampling distribution of the difference in means, δ, under the null hypothesis that both samples are drawn from the same population.\n",
    "\n",
    "We can also use this distribution to find the standard error of the estimate and confidence intervals, but that would only be approximately correct. To be more precise, we should compute the sampling distribution of δ under the alternate hypothesis that the samples are drawn from different populations.\n",
    "\n",
    "Compute this distribution and use it to calculate the standard error and a 90% confidence interval for the difference in means."
   ]
  },
  {
   "cell_type": "code",
   "execution_count": 60,
   "id": "49d9b077",
   "metadata": {},
   "outputs": [
    {
     "name": "stdout",
     "output_type": "stream",
     "text": [
      "0.07803726677754952\n"
     ]
    },
    {
     "data": {
      "application/javascript": [
       "\n",
       "            setTimeout(function() {\n",
       "                var nbb_cell_id = 60;\n",
       "                var nbb_unformatted_code = \"delta = firsts.prglngth.mean() - others.prglngth.mean()\\nprint(delta)\";\n",
       "                var nbb_formatted_code = \"delta = firsts.prglngth.mean() - others.prglngth.mean()\\nprint(delta)\";\n",
       "                var nbb_cells = Jupyter.notebook.get_cells();\n",
       "                for (var i = 0; i < nbb_cells.length; ++i) {\n",
       "                    if (nbb_cells[i].input_prompt_number == nbb_cell_id) {\n",
       "                        if (nbb_cells[i].get_text() == nbb_unformatted_code) {\n",
       "                             nbb_cells[i].set_text(nbb_formatted_code);\n",
       "                        }\n",
       "                        break;\n",
       "                    }\n",
       "                }\n",
       "            }, 500);\n",
       "            "
      ],
      "text/plain": [
       "<IPython.core.display.Javascript object>"
      ]
     },
     "metadata": {},
     "output_type": "display_data"
    }
   ],
   "source": [
    "delta = firsts.prglngth.mean() - others.prglngth.mean()\n",
    "print(delta)"
   ]
  },
  {
   "cell_type": "code",
   "execution_count": 61,
   "id": "c3de198b",
   "metadata": {},
   "outputs": [
    {
     "name": "stdout",
     "output_type": "stream",
     "text": [
      "null hypothesis Normal(0, 0.00319708)\n",
      "0.08377070425543781 0.08377070425543787\n"
     ]
    },
    {
     "data": {
      "application/javascript": [
       "\n",
       "            setTimeout(function() {\n",
       "                var nbb_cell_id = 61;\n",
       "                var nbb_unformatted_code = \"dist1 = sampling_dist_mean(live.prglngth, len(firsts))\\ndist2 = sampling_dist_mean(live.prglngth, len(others))\\ndist_diff_null = dist1 - dist2\\nprint(\\\"null hypothesis\\\", dist_diff_null)\\nprint(dist_diff_null.prob(-delta), 1 - dist_diff_null.prob(delta))\";\n",
       "                var nbb_formatted_code = \"dist1 = sampling_dist_mean(live.prglngth, len(firsts))\\ndist2 = sampling_dist_mean(live.prglngth, len(others))\\ndist_diff_null = dist1 - dist2\\nprint(\\\"null hypothesis\\\", dist_diff_null)\\nprint(dist_diff_null.prob(-delta), 1 - dist_diff_null.prob(delta))\";\n",
       "                var nbb_cells = Jupyter.notebook.get_cells();\n",
       "                for (var i = 0; i < nbb_cells.length; ++i) {\n",
       "                    if (nbb_cells[i].input_prompt_number == nbb_cell_id) {\n",
       "                        if (nbb_cells[i].get_text() == nbb_unformatted_code) {\n",
       "                             nbb_cells[i].set_text(nbb_formatted_code);\n",
       "                        }\n",
       "                        break;\n",
       "                    }\n",
       "                }\n",
       "            }, 500);\n",
       "            "
      ],
      "text/plain": [
       "<IPython.core.display.Javascript object>"
      ]
     },
     "metadata": {},
     "output_type": "display_data"
    }
   ],
   "source": [
    "dist1 = sampling_dist_mean(live.prglngth, len(firsts))\n",
    "dist2 = sampling_dist_mean(live.prglngth, len(others))\n",
    "dist_diff_null = dist1 - dist2\n",
    "print(\"null hypothesis\", dist_diff_null)\n",
    "print(dist_diff_null.prob(-delta), 1 - dist_diff_null.prob(delta))"
   ]
  },
  {
   "cell_type": "code",
   "execution_count": 62,
   "id": "e81a97cf",
   "metadata": {},
   "outputs": [
    {
     "name": "stdout",
     "output_type": "stream",
     "text": [
      "estimated params Normal(0.0780373, 0.00321144)\n",
      "-0.015175815869865758 0.17125034942497896\n"
     ]
    },
    {
     "data": {
      "application/javascript": [
       "\n",
       "            setTimeout(function() {\n",
       "                var nbb_cell_id = 62;\n",
       "                var nbb_unformatted_code = \"dist1 = sampling_dist_mean(firsts.prglngth, len(firsts))\\ndist2 = sampling_dist_mean(others.prglngth, len(others))\\ndist_diff_alt = dist1 - dist2\\nprint(\\\"estimated params\\\", dist_diff_alt)\\nprint(dist_diff_alt.percentile(5), dist_diff_alt.percentile(95))\";\n",
       "                var nbb_formatted_code = \"dist1 = sampling_dist_mean(firsts.prglngth, len(firsts))\\ndist2 = sampling_dist_mean(others.prglngth, len(others))\\ndist_diff_alt = dist1 - dist2\\nprint(\\\"estimated params\\\", dist_diff_alt)\\nprint(dist_diff_alt.percentile(5), dist_diff_alt.percentile(95))\";\n",
       "                var nbb_cells = Jupyter.notebook.get_cells();\n",
       "                for (var i = 0; i < nbb_cells.length; ++i) {\n",
       "                    if (nbb_cells[i].input_prompt_number == nbb_cell_id) {\n",
       "                        if (nbb_cells[i].get_text() == nbb_unformatted_code) {\n",
       "                             nbb_cells[i].set_text(nbb_formatted_code);\n",
       "                        }\n",
       "                        break;\n",
       "                    }\n",
       "                }\n",
       "            }, 500);\n",
       "            "
      ],
      "text/plain": [
       "<IPython.core.display.Javascript object>"
      ]
     },
     "metadata": {},
     "output_type": "display_data"
    }
   ],
   "source": [
    "dist1 = sampling_dist_mean(firsts.prglngth, len(firsts))\n",
    "dist2 = sampling_dist_mean(others.prglngth, len(others))\n",
    "dist_diff_alt = dist1 - dist2\n",
    "print(\"estimated params\", dist_diff_alt)\n",
    "print(dist_diff_alt.percentile(5), dist_diff_alt.percentile(95))"
   ]
  },
  {
   "cell_type": "code",
   "execution_count": 63,
   "id": "d175ac6a",
   "metadata": {},
   "outputs": [
    {
     "data": {
      "image/png": "[encoded data removed]",
      "text/plain": [
       "<Figure size 640x480 with 1 Axes>"
      ]
     },
     "metadata": {},
     "output_type": "display_data"
    },
    {
     "data": {
      "application/javascript": [
       "\n",
       "            setTimeout(function() {\n",
       "                var nbb_cell_id = 63;\n",
       "                var nbb_unformatted_code = \"thinkplot.pre_plot(2)\\nthinkplot.plot(dist_diff_null, label=\\\"null hypothesis\\\")\\nthinkplot.plot(dist_diff_alt, label=\\\"estimated params\\\")\\nthinkplot.config(xlabel=\\\"Difference in means (weeks)\\\", ylabel=\\\"CDF\\\", loc=\\\"lower right\\\")\";\n",
       "                var nbb_formatted_code = \"thinkplot.pre_plot(2)\\nthinkplot.plot(dist_diff_null, label=\\\"null hypothesis\\\")\\nthinkplot.plot(dist_diff_alt, label=\\\"estimated params\\\")\\nthinkplot.config(xlabel=\\\"Difference in means (weeks)\\\", ylabel=\\\"CDF\\\", loc=\\\"lower right\\\")\";\n",
       "                var nbb_cells = Jupyter.notebook.get_cells();\n",
       "                for (var i = 0; i < nbb_cells.length; ++i) {\n",
       "                    if (nbb_cells[i].input_prompt_number == nbb_cell_id) {\n",
       "                        if (nbb_cells[i].get_text() == nbb_unformatted_code) {\n",
       "                             nbb_cells[i].set_text(nbb_formatted_code);\n",
       "                        }\n",
       "                        break;\n",
       "                    }\n",
       "                }\n",
       "            }, 500);\n",
       "            "
      ],
      "text/plain": [
       "<IPython.core.display.Javascript object>"
      ]
     },
     "metadata": {},
     "output_type": "display_data"
    }
   ],
   "source": [
    "thinkplot.pre_plot(2)\n",
    "thinkplot.plot(dist_diff_null, label=\"null hypothesis\")\n",
    "thinkplot.plot(dist_diff_alt, label=\"estimated params\")\n",
    "thinkplot.config(xlabel=\"Difference in means (weeks)\", ylabel=\"CDF\", loc=\"lower right\")"
   ]
  },
  {
   "cell_type": "markdown",
   "id": "c8623c0d",
   "metadata": {},
   "source": [
    "**Exercise:** [In a 2014 paper](http://ieeexplore.ieee.org/document/7044435/), Stein et al. investigate the effects of an intervention intended to mitigate gender-stereotypical task allocation within student engineering teams.\n",
    "\n",
    "Before and after the intervention, students responded to a survey that asked them to rate their contribution to each aspect of class projects on a 7-point scale.\n",
    "\n",
    "Before the intervention, male students reported higher scores for the programming aspect of the project than female students; on average men reported a score of 3.57 with standard error 0.28. Women reported 1.91, on average, with standard error 0.32.\n",
    "\n",
    "Compute the sampling distribution of the gender gap (the difference in means), and test whether it is statistically significant. Because you are given standard errors for the estimated means, you don’t need to know the sample size to figure out the sampling distributions.\n",
    "\n",
    "After the intervention, the gender gap was smaller: the average score for men was 3.44 (SE 0.16); the average score for women was 3.18 (SE 0.16). Again, compute the sampling distribution of the gender gap and test it.\n",
    "\n",
    "Finally, estimate the change in gender gap; what is the sampling distribution of this change, and is it statistically significant?"
   ]
  },
  {
   "cell_type": "code",
   "execution_count": 64,
   "id": "ef290a97",
   "metadata": {},
   "outputs": [
    {
     "data": {
      "application/javascript": [
       "\n",
       "            setTimeout(function() {\n",
       "                var nbb_cell_id = 64;\n",
       "                var nbb_unformatted_code = \"male_before = Normal(3.57, 0.28 ** 2)\\nmale_after = Normal(3.44, 0.16 ** 2)\\nfemale_before = Normal(1.91, 0.32 ** 2)\\nfemale_after = Normal(3.18, 0.16 ** 2)\";\n",
       "                var nbb_formatted_code = \"male_before = Normal(3.57, 0.28**2)\\nmale_after = Normal(3.44, 0.16**2)\\nfemale_before = Normal(1.91, 0.32**2)\\nfemale_after = Normal(3.18, 0.16**2)\";\n",
       "                var nbb_cells = Jupyter.notebook.get_cells();\n",
       "                for (var i = 0; i < nbb_cells.length; ++i) {\n",
       "                    if (nbb_cells[i].input_prompt_number == nbb_cell_id) {\n",
       "                        if (nbb_cells[i].get_text() == nbb_unformatted_code) {\n",
       "                             nbb_cells[i].set_text(nbb_formatted_code);\n",
       "                        }\n",
       "                        break;\n",
       "                    }\n",
       "                }\n",
       "            }, 500);\n",
       "            "
      ],
      "text/plain": [
       "<IPython.core.display.Javascript object>"
      ]
     },
     "metadata": {},
     "output_type": "display_data"
    }
   ],
   "source": [
    "male_before = Normal(3.57, 0.28**2)\n",
    "male_after = Normal(3.44, 0.16**2)\n",
    "female_before = Normal(1.91, 0.32**2)\n",
    "female_after = Normal(3.18, 0.16**2)"
   ]
  },
  {
   "cell_type": "code",
   "execution_count": 65,
   "id": "327daf88",
   "metadata": {},
   "outputs": [
    {
     "name": "stdout",
     "output_type": "stream",
     "text": [
      "mean, p-value -1.66 4.7309532320793934e-05\n",
      "CI -2.3594013558039837 -0.9605986441960161\n",
      "stderr 0.425205832509386\n"
     ]
    },
    {
     "data": {
      "application/javascript": [
       "\n",
       "            setTimeout(function() {\n",
       "                var nbb_cell_id = 65;\n",
       "                var nbb_unformatted_code = \"diff_before = female_before - male_before\\nprint('mean, p-value', diff_before.mu, 1 - diff_before.prob(0))\\nprint('CI', diff_before.percentile(5), diff_before.percentile(95))\\nprint('stderr', diff_before.sigma)\";\n",
       "                var nbb_formatted_code = \"diff_before = female_before - male_before\\nprint(\\\"mean, p-value\\\", diff_before.mu, 1 - diff_before.prob(0))\\nprint(\\\"CI\\\", diff_before.percentile(5), diff_before.percentile(95))\\nprint(\\\"stderr\\\", diff_before.sigma)\";\n",
       "                var nbb_cells = Jupyter.notebook.get_cells();\n",
       "                for (var i = 0; i < nbb_cells.length; ++i) {\n",
       "                    if (nbb_cells[i].input_prompt_number == nbb_cell_id) {\n",
       "                        if (nbb_cells[i].get_text() == nbb_unformatted_code) {\n",
       "                             nbb_cells[i].set_text(nbb_formatted_code);\n",
       "                        }\n",
       "                        break;\n",
       "                    }\n",
       "                }\n",
       "            }, 500);\n",
       "            "
      ],
      "text/plain": [
       "<IPython.core.display.Javascript object>"
      ]
     },
     "metadata": {},
     "output_type": "display_data"
    }
   ],
   "source": [
    "diff_before = female_before - male_before\n",
    "print(\"mean, p-value\", diff_before.mu, 1 - diff_before.prob(0))\n",
    "print(\"CI\", diff_before.percentile(5), diff_before.percentile(95))\n",
    "print(\"stderr\", diff_before.sigma)"
   ]
  },
  {
   "cell_type": "code",
   "execution_count": 66,
   "id": "380056cb",
   "metadata": {},
   "outputs": [
    {
     "name": "stdout",
     "output_type": "stream",
     "text": [
      "mean, p-value -0.2599999999999998 0.1252679872068192\n",
      "CI -0.6321878891765356 0.11218788917653583\n",
      "stderr 0.2262741699796952\n"
     ]
    },
    {
     "data": {
      "application/javascript": [
       "\n",
       "            setTimeout(function() {\n",
       "                var nbb_cell_id = 66;\n",
       "                var nbb_unformatted_code = \"diff_after = female_after - male_after\\nprint('mean, p-value', diff_after.mu, 1 - diff_after.prob(0))\\nprint('CI', diff_after.percentile(5), diff_after.percentile(95))\\nprint('stderr', diff_after.sigma)\";\n",
       "                var nbb_formatted_code = \"diff_after = female_after - male_after\\nprint(\\\"mean, p-value\\\", diff_after.mu, 1 - diff_after.prob(0))\\nprint(\\\"CI\\\", diff_after.percentile(5), diff_after.percentile(95))\\nprint(\\\"stderr\\\", diff_after.sigma)\";\n",
       "                var nbb_cells = Jupyter.notebook.get_cells();\n",
       "                for (var i = 0; i < nbb_cells.length; ++i) {\n",
       "                    if (nbb_cells[i].input_prompt_number == nbb_cell_id) {\n",
       "                        if (nbb_cells[i].get_text() == nbb_unformatted_code) {\n",
       "                             nbb_cells[i].set_text(nbb_formatted_code);\n",
       "                        }\n",
       "                        break;\n",
       "                    }\n",
       "                }\n",
       "            }, 500);\n",
       "            "
      ],
      "text/plain": [
       "<IPython.core.display.Javascript object>"
      ]
     },
     "metadata": {},
     "output_type": "display_data"
    }
   ],
   "source": [
    "diff_after = female_after - male_after\n",
    "print(\"mean, p-value\", diff_after.mu, 1 - diff_after.prob(0))\n",
    "print(\"CI\", diff_after.percentile(5), diff_after.percentile(95))\n",
    "print(\"stderr\", diff_after.sigma)"
   ]
  },
  {
   "cell_type": "code",
   "execution_count": 67,
   "id": "834ffcc1",
   "metadata": {},
   "outputs": [
    {
     "name": "stdout",
     "output_type": "stream",
     "text": [
      "mean, p-value 1.4000000000000001 0.0018269483689769925\n",
      "CI 0.6077335793117721 2.192266420688228\n",
      "stderr 0.48166378315169184\n"
     ]
    },
    {
     "data": {
      "application/javascript": [
       "\n",
       "            setTimeout(function() {\n",
       "                var nbb_cell_id = 67;\n",
       "                var nbb_unformatted_code = \"diff = diff_after - diff_before\\nprint('mean, p-value', diff.mu, diff.prob(0))\\nprint('CI', diff.percentile(5), diff.percentile(95))\\nprint('stderr', diff.sigma)\";\n",
       "                var nbb_formatted_code = \"diff = diff_after - diff_before\\nprint(\\\"mean, p-value\\\", diff.mu, diff.prob(0))\\nprint(\\\"CI\\\", diff.percentile(5), diff.percentile(95))\\nprint(\\\"stderr\\\", diff.sigma)\";\n",
       "                var nbb_cells = Jupyter.notebook.get_cells();\n",
       "                for (var i = 0; i < nbb_cells.length; ++i) {\n",
       "                    if (nbb_cells[i].input_prompt_number == nbb_cell_id) {\n",
       "                        if (nbb_cells[i].get_text() == nbb_unformatted_code) {\n",
       "                             nbb_cells[i].set_text(nbb_formatted_code);\n",
       "                        }\n",
       "                        break;\n",
       "                    }\n",
       "                }\n",
       "            }, 500);\n",
       "            "
      ],
      "text/plain": [
       "<IPython.core.display.Javascript object>"
      ]
     },
     "metadata": {},
     "output_type": "display_data"
    }
   ],
   "source": [
    "diff = diff_after - diff_before\n",
    "print(\"mean, p-value\", diff.mu, diff.prob(0))\n",
    "print(\"CI\", diff.percentile(5), diff.percentile(95))\n",
    "print(\"stderr\", diff.sigma)"
   ]
  },
  {
   "cell_type": "code",
   "execution_count": null,
   "id": "f4b59440",
   "metadata": {},
   "outputs": [],
   "source": []
  }
 ],
 "metadata": {
  "kernelspec": {
   "display_name": "Python 3 (ipykernel)",
   "language": "python",
   "name": "python3"
  },
  "language_info": {
   "codemirror_mode": {
    "name": "ipython",
    "version": 3
   },
   "file_extension": ".py",
   "mimetype": "text/x-python",
   "name": "python",
   "nbconvert_exporter": "python",
   "pygments_lexer": "ipython3",
   "version": "3.10.14"
  }
 },
 "nbformat": 4,
 "nbformat_minor": 5
}
