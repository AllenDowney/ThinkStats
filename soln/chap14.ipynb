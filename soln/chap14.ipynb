{
 "cells": [
  {
   "cell_type": "markdown",
   "id": "52c53da4",
   "metadata": {},
   "source": [
    "# Analytic methods\n",
    "\n",
    "This book has focused on computational methods like simulation and resampling, but some of the problems we solved have analytic solutions that can be much faster.\n",
    "\n",
    "I present some of these methods in this chapter, and explain how they work.\n",
    "At the end of the chapter, I make suggestions for integrating computational and analytic methods for exploratory data analysis."
   ]
  },
  {
   "cell_type": "markdown",
   "id": "07a92b7f",
   "metadata": {
    "tags": [
     "remove-print"
    ]
   },
   "source": [
    "[Click here to run this notebook on Colab](https://colab.research.google.com/github/AllenDowney/ThinkStats/blob/v3/nb/chap14.ipynb)."
   ]
  },
  {
   "cell_type": "code",
   "execution_count": 1,
   "id": "e1e0ae6b",
   "metadata": {
    "tags": [
     "remove-print",
     "hide-cell"
    ]
   },
   "outputs": [
    {
     "data": {
      "application/javascript": [
       "\n",
       "            setTimeout(function() {\n",
       "                var nbb_cell_id = 1;\n",
       "                var nbb_unformatted_code = \"%load_ext nb_black\\n%load_ext autoreload\\n%autoreload 2\";\n",
       "                var nbb_formatted_code = \"%load_ext nb_black\\n%load_ext autoreload\\n%autoreload 2\";\n",
       "                var nbb_cells = Jupyter.notebook.get_cells();\n",
       "                for (var i = 0; i < nbb_cells.length; ++i) {\n",
       "                    if (nbb_cells[i].input_prompt_number == nbb_cell_id) {\n",
       "                        if (nbb_cells[i].get_text() == nbb_unformatted_code) {\n",
       "                             nbb_cells[i].set_text(nbb_formatted_code);\n",
       "                        }\n",
       "                        break;\n",
       "                    }\n",
       "                }\n",
       "            }, 500);\n",
       "            "
      ],
      "text/plain": [
       "<IPython.core.display.Javascript object>"
      ]
     },
     "metadata": {},
     "output_type": "display_data"
    }
   ],
   "source": [
    "%load_ext nb_black\n",
    "%load_ext autoreload\n",
    "%autoreload 2"
   ]
  },
  {
   "cell_type": "code",
   "execution_count": 2,
   "id": "f61641d6",
   "metadata": {
    "tags": [
     "remove-print",
     "hide-cell"
    ]
   },
   "outputs": [
    {
     "data": {
      "application/javascript": [
       "\n",
       "            setTimeout(function() {\n",
       "                var nbb_cell_id = 2;\n",
       "                var nbb_unformatted_code = \"from os.path import basename, exists\\n\\n\\ndef download(url):\\n    filename = basename(url)\\n    if not exists(filename):\\n        from urllib.request import urlretrieve\\n\\n        local, _ = urlretrieve(url, filename)\\n        print(\\\"Downloaded \\\" + local)\\n\\n\\ndownload(\\\"https://github.com/AllenDowney/ThinkStats/raw/v3/nb/thinkstats.py\\\")\";\n",
       "                var nbb_formatted_code = \"from os.path import basename, exists\\n\\n\\ndef download(url):\\n    filename = basename(url)\\n    if not exists(filename):\\n        from urllib.request import urlretrieve\\n\\n        local, _ = urlretrieve(url, filename)\\n        print(\\\"Downloaded \\\" + local)\\n\\n\\ndownload(\\\"https://github.com/AllenDowney/ThinkStats/raw/v3/nb/thinkstats.py\\\")\";\n",
       "                var nbb_cells = Jupyter.notebook.get_cells();\n",
       "                for (var i = 0; i < nbb_cells.length; ++i) {\n",
       "                    if (nbb_cells[i].input_prompt_number == nbb_cell_id) {\n",
       "                        if (nbb_cells[i].get_text() == nbb_unformatted_code) {\n",
       "                             nbb_cells[i].set_text(nbb_formatted_code);\n",
       "                        }\n",
       "                        break;\n",
       "                    }\n",
       "                }\n",
       "            }, 500);\n",
       "            "
      ],
      "text/plain": [
       "<IPython.core.display.Javascript object>"
      ]
     },
     "metadata": {},
     "output_type": "display_data"
    }
   ],
   "source": [
    "from os.path import basename, exists\n",
    "\n",
    "\n",
    "def download(url):\n",
    "    filename = basename(url)\n",
    "    if not exists(filename):\n",
    "        from urllib.request import urlretrieve\n",
    "\n",
    "        local, _ = urlretrieve(url, filename)\n",
    "        print(\"Downloaded \" + local)\n",
    "\n",
    "\n",
    "download(\"https://github.com/AllenDowney/ThinkStats/raw/v3/nb/thinkstats.py\")"
   ]
  },
  {
   "cell_type": "code",
   "execution_count": 3,
   "id": "dfb3ff15",
   "metadata": {
    "tags": [
     "remove-print",
     "hide-cell"
    ]
   },
   "outputs": [
    {
     "data": {
      "application/javascript": [
       "\n",
       "            setTimeout(function() {\n",
       "                var nbb_cell_id = 3;\n",
       "                var nbb_unformatted_code = \"try:\\n    import empiricaldist\\nexcept ImportError:\\n    !pip install empiricaldist\";\n",
       "                var nbb_formatted_code = \"try:\\n    import empiricaldist\\nexcept ImportError:\\n    !pip install empiricaldist\";\n",
       "                var nbb_cells = Jupyter.notebook.get_cells();\n",
       "                for (var i = 0; i < nbb_cells.length; ++i) {\n",
       "                    if (nbb_cells[i].input_prompt_number == nbb_cell_id) {\n",
       "                        if (nbb_cells[i].get_text() == nbb_unformatted_code) {\n",
       "                             nbb_cells[i].set_text(nbb_formatted_code);\n",
       "                        }\n",
       "                        break;\n",
       "                    }\n",
       "                }\n",
       "            }, 500);\n",
       "            "
      ],
      "text/plain": [
       "<IPython.core.display.Javascript object>"
      ]
     },
     "metadata": {},
     "output_type": "display_data"
    }
   ],
   "source": [
    "try:\n",
    "    import empiricaldist\n",
    "except ImportError:\n",
    "    !pip install empiricaldist"
   ]
  },
  {
   "cell_type": "code",
   "execution_count": 4,
   "id": "101a23bc",
   "metadata": {
    "tags": [
     "remove-print",
     "hide-cell"
    ]
   },
   "outputs": [
    {
     "data": {
      "application/javascript": [
       "\n",
       "            setTimeout(function() {\n",
       "                var nbb_cell_id = 4;\n",
       "                var nbb_unformatted_code = \"import numpy as np\\nimport pandas as pd\\nimport matplotlib.pyplot as plt\\n\\nfrom thinkstats import decorate\";\n",
       "                var nbb_formatted_code = \"import numpy as np\\nimport pandas as pd\\nimport matplotlib.pyplot as plt\\n\\nfrom thinkstats import decorate\";\n",
       "                var nbb_cells = Jupyter.notebook.get_cells();\n",
       "                for (var i = 0; i < nbb_cells.length; ++i) {\n",
       "                    if (nbb_cells[i].input_prompt_number == nbb_cell_id) {\n",
       "                        if (nbb_cells[i].get_text() == nbb_unformatted_code) {\n",
       "                             nbb_cells[i].set_text(nbb_formatted_code);\n",
       "                        }\n",
       "                        break;\n",
       "                    }\n",
       "                }\n",
       "            }, 500);\n",
       "            "
      ],
      "text/plain": [
       "<IPython.core.display.Javascript object>"
      ]
     },
     "metadata": {},
     "output_type": "display_data"
    }
   ],
   "source": [
    "import numpy as np\n",
    "import pandas as pd\n",
    "import matplotlib.pyplot as plt\n",
    "\n",
    "from thinkstats import decorate"
   ]
  },
  {
   "cell_type": "markdown",
   "id": "a66b3b13",
   "metadata": {},
   "source": [
    "## `Normal` distributions\n",
    "\n",
    "As a motivating example, let's review the problem from Section [\\[gorilla\\]](#gorilla){reference-type=\"ref\" reference=\"gorilla\"}:\n",
    "\n",
    "> Suppose you are a scientist studying gorillas in a wildlife preserve.\n",
    "> Having weighed 9 gorillas, you find sample mean $\\bar{x}=90$ kg and > sample standard deviation, $S=7.5$ kg. If you use $\\bar{x}$ to estimate > the population mean, what is the standard error of the estimate?\n",
    "\n",
    "To answer that question, we need the sampling distribution of $\\bar{x}$.\n",
    "In Section [\\[gorilla\\]](#gorilla){reference-type=\"ref\" reference=\"gorilla\"} we approximated this distribution by simulating the experiment (weighing 9 gorillas), computing $\\bar{x}$ for each simulated experiment, and accumulating the distribution of estimates.\n",
    "\n",
    "The result is an approximation of the sampling distribution.\n",
    "Then we use the sampling distribution to compute standard errors and confidence intervals:\n",
    "\n",
    "1.  The standard deviation of the sampling distribution is the standard error of the estimate; in the example, it is about 2.5 kg.\n",
    "\n",
    "2.  The interval between the 5th and 95th percentile of the sampling distribution is a 90% confidence interval.\n",
    "If we run the experiment many times, we expect the estimate to fall in this interval 90% of the time.\n",
    "In the example, the 90% CI is $(86, 94)$ kg."
   ]
  },
  {
   "cell_type": "markdown",
   "id": "0f3e7431",
   "metadata": {},
   "source": [
    "The following cell downloads the data."
   ]
  },
  {
   "cell_type": "code",
   "execution_count": 5,
   "id": "b5305102",
   "metadata": {},
   "outputs": [
    {
     "data": {
      "application/javascript": [
       "\n",
       "            setTimeout(function() {\n",
       "                var nbb_cell_id = 5;\n",
       "                var nbb_unformatted_code = \"download(\\n    \\\"https://raw.githubusercontent.com/allisonhorst/palmerpenguins/c19a904462482430170bfe2c718775ddb7dbb885/inst/extdata/penguins_raw.csv\\\"\\n)\";\n",
       "                var nbb_formatted_code = \"download(\\n    \\\"https://raw.githubusercontent.com/allisonhorst/palmerpenguins/c19a904462482430170bfe2c718775ddb7dbb885/inst/extdata/penguins_raw.csv\\\"\\n)\";\n",
       "                var nbb_cells = Jupyter.notebook.get_cells();\n",
       "                for (var i = 0; i < nbb_cells.length; ++i) {\n",
       "                    if (nbb_cells[i].input_prompt_number == nbb_cell_id) {\n",
       "                        if (nbb_cells[i].get_text() == nbb_unformatted_code) {\n",
       "                             nbb_cells[i].set_text(nbb_formatted_code);\n",
       "                        }\n",
       "                        break;\n",
       "                    }\n",
       "                }\n",
       "            }, 500);\n",
       "            "
      ],
      "text/plain": [
       "<IPython.core.display.Javascript object>"
      ]
     },
     "metadata": {},
     "output_type": "display_data"
    }
   ],
   "source": [
    "download(\n",
    "    \"https://raw.githubusercontent.com/allisonhorst/palmerpenguins/c19a904462482430170bfe2c718775ddb7dbb885/inst/extdata/penguins_raw.csv\"\n",
    ")"
   ]
  },
  {
   "cell_type": "markdown",
   "id": "31ecea73",
   "metadata": {},
   "source": [
    "We can read the data like this."
   ]
  },
  {
   "cell_type": "code",
   "execution_count": 6,
   "id": "4b616c33",
   "metadata": {},
   "outputs": [
    {
     "data": {
      "text/plain": [
       "(344, 17)"
      ]
     },
     "execution_count": 6,
     "metadata": {},
     "output_type": "execute_result"
    },
    {
     "data": {
      "application/javascript": [
       "\n",
       "            setTimeout(function() {\n",
       "                var nbb_cell_id = 6;\n",
       "                var nbb_unformatted_code = \"penguins = pd.read_csv(\\\"penguins_raw.csv\\\")\\npenguins.shape\";\n",
       "                var nbb_formatted_code = \"penguins = pd.read_csv(\\\"penguins_raw.csv\\\")\\npenguins.shape\";\n",
       "                var nbb_cells = Jupyter.notebook.get_cells();\n",
       "                for (var i = 0; i < nbb_cells.length; ++i) {\n",
       "                    if (nbb_cells[i].input_prompt_number == nbb_cell_id) {\n",
       "                        if (nbb_cells[i].get_text() == nbb_unformatted_code) {\n",
       "                             nbb_cells[i].set_text(nbb_formatted_code);\n",
       "                        }\n",
       "                        break;\n",
       "                    }\n",
       "                }\n",
       "            }, 500);\n",
       "            "
      ],
      "text/plain": [
       "<IPython.core.display.Javascript object>"
      ]
     },
     "metadata": {},
     "output_type": "display_data"
    }
   ],
   "source": [
    "penguins = pd.read_csv(\"penguins_raw.csv\")\n",
    "penguins.shape"
   ]
  },
  {
   "cell_type": "code",
   "execution_count": 7,
   "id": "90473d57",
   "metadata": {},
   "outputs": [
    {
     "data": {
      "text/plain": [
       "152"
      ]
     },
     "execution_count": 7,
     "metadata": {},
     "output_type": "execute_result"
    },
    {
     "data": {
      "application/javascript": [
       "\n",
       "            setTimeout(function() {\n",
       "                var nbb_cell_id = 7;\n",
       "                var nbb_unformatted_code = \"adelie = penguins.query('Species.str.startswith(\\\"Adelie\\\")').copy()\\nlen(adelie)\";\n",
       "                var nbb_formatted_code = \"adelie = penguins.query('Species.str.startswith(\\\"Adelie\\\")').copy()\\nlen(adelie)\";\n",
       "                var nbb_cells = Jupyter.notebook.get_cells();\n",
       "                for (var i = 0; i < nbb_cells.length; ++i) {\n",
       "                    if (nbb_cells[i].input_prompt_number == nbb_cell_id) {\n",
       "                        if (nbb_cells[i].get_text() == nbb_unformatted_code) {\n",
       "                             nbb_cells[i].set_text(nbb_formatted_code);\n",
       "                        }\n",
       "                        break;\n",
       "                    }\n",
       "                }\n",
       "            }, 500);\n",
       "            "
      ],
      "text/plain": [
       "<IPython.core.display.Javascript object>"
      ]
     },
     "metadata": {},
     "output_type": "display_data"
    }
   ],
   "source": [
    "adelie = penguins.query('Species.str.startswith(\"Adelie\")').copy()\n",
    "len(adelie)"
   ]
  },
  {
   "cell_type": "code",
   "execution_count": 8,
   "id": "125f106d",
   "metadata": {},
   "outputs": [
    {
     "data": {
      "application/javascript": [
       "\n",
       "            setTimeout(function() {\n",
       "                var nbb_cell_id = 8;\n",
       "                var nbb_unformatted_code = \"from empiricaldist import Cdf\\n\\nweights = adelie[\\\"Body Mass (g)\\\"]\\ncdf_weights = Cdf.from_seq(weights)\";\n",
       "                var nbb_formatted_code = \"from empiricaldist import Cdf\\n\\nweights = adelie[\\\"Body Mass (g)\\\"]\\ncdf_weights = Cdf.from_seq(weights)\";\n",
       "                var nbb_cells = Jupyter.notebook.get_cells();\n",
       "                for (var i = 0; i < nbb_cells.length; ++i) {\n",
       "                    if (nbb_cells[i].input_prompt_number == nbb_cell_id) {\n",
       "                        if (nbb_cells[i].get_text() == nbb_unformatted_code) {\n",
       "                             nbb_cells[i].set_text(nbb_formatted_code);\n",
       "                        }\n",
       "                        break;\n",
       "                    }\n",
       "                }\n",
       "            }, 500);\n",
       "            "
      ],
      "text/plain": [
       "<IPython.core.display.Javascript object>"
      ]
     },
     "metadata": {},
     "output_type": "display_data"
    }
   ],
   "source": [
    "from empiricaldist import Cdf\n",
    "\n",
    "weights = adelie[\"Body Mass (g)\"]\n",
    "cdf_weights = Cdf.from_seq(weights)"
   ]
  },
  {
   "cell_type": "code",
   "execution_count": 9,
   "id": "82688ccb",
   "metadata": {},
   "outputs": [
    {
     "data": {
      "text/plain": [
       "(3700.662251655629, 457.04517271224495)"
      ]
     },
     "execution_count": 9,
     "metadata": {},
     "output_type": "execute_result"
    },
    {
     "data": {
      "application/javascript": [
       "\n",
       "            setTimeout(function() {\n",
       "                var nbb_cell_id = 9;\n",
       "                var nbb_unformatted_code = \"m, s = np.mean(weights), np.std(weights)\\nm, s\";\n",
       "                var nbb_formatted_code = \"m, s = np.mean(weights), np.std(weights)\\nm, s\";\n",
       "                var nbb_cells = Jupyter.notebook.get_cells();\n",
       "                for (var i = 0; i < nbb_cells.length; ++i) {\n",
       "                    if (nbb_cells[i].input_prompt_number == nbb_cell_id) {\n",
       "                        if (nbb_cells[i].get_text() == nbb_unformatted_code) {\n",
       "                             nbb_cells[i].set_text(nbb_formatted_code);\n",
       "                        }\n",
       "                        break;\n",
       "                    }\n",
       "                }\n",
       "            }, 500);\n",
       "            "
      ],
      "text/plain": [
       "<IPython.core.display.Javascript object>"
      ]
     },
     "metadata": {},
     "output_type": "display_data"
    }
   ],
   "source": [
    "m, s = np.mean(weights), np.std(weights)\n",
    "m, s"
   ]
  },
  {
   "cell_type": "code",
   "execution_count": 10,
   "id": "a076e36d",
   "metadata": {},
   "outputs": [
    {
     "data": {
      "application/javascript": [
       "\n",
       "            setTimeout(function() {\n",
       "                var nbb_cell_id = 10;\n",
       "                var nbb_unformatted_code = \"from scipy.stats import norm\\n\\ndist = norm(m, s)\\nqs = np.linspace(m - 3.5 * s, m + 3.5 * s)\\nps = dist.cdf(qs)\";\n",
       "                var nbb_formatted_code = \"from scipy.stats import norm\\n\\ndist = norm(m, s)\\nqs = np.linspace(m - 3.5 * s, m + 3.5 * s)\\nps = dist.cdf(qs)\";\n",
       "                var nbb_cells = Jupyter.notebook.get_cells();\n",
       "                for (var i = 0; i < nbb_cells.length; ++i) {\n",
       "                    if (nbb_cells[i].input_prompt_number == nbb_cell_id) {\n",
       "                        if (nbb_cells[i].get_text() == nbb_unformatted_code) {\n",
       "                             nbb_cells[i].set_text(nbb_formatted_code);\n",
       "                        }\n",
       "                        break;\n",
       "                    }\n",
       "                }\n",
       "            }, 500);\n",
       "            "
      ],
      "text/plain": [
       "<IPython.core.display.Javascript object>"
      ]
     },
     "metadata": {},
     "output_type": "display_data"
    }
   ],
   "source": [
    "from scipy.stats import norm\n",
    "\n",
    "dist = norm(m, s)\n",
    "qs = np.linspace(m - 3.5 * s, m + 3.5 * s)\n",
    "ps = dist.cdf(qs)"
   ]
  },
  {
   "cell_type": "code",
   "execution_count": 11,
   "id": "b992d5e4",
   "metadata": {},
   "outputs": [
    {
     "data": {
      "image/png": "[encoded data removed]",
      "text/plain": [
       "<Figure size 450x262.5 with 1 Axes>"
      ]
     },
     "metadata": {},
     "output_type": "display_data"
    },
    {
     "data": {
      "application/javascript": [
       "\n",
       "            setTimeout(function() {\n",
       "                var nbb_cell_id = 11;\n",
       "                var nbb_unformatted_code = \"plt.plot(qs, ps, color=\\\"gray\\\", alpha=0.5, label=\\\"Normal model\\\")\\ncdf_weights.plot(label=\\\"data\\\")\\n\\ndecorate(ylabel=\\\"CDF\\\")\";\n",
       "                var nbb_formatted_code = \"plt.plot(qs, ps, color=\\\"gray\\\", alpha=0.5, label=\\\"Normal model\\\")\\ncdf_weights.plot(label=\\\"data\\\")\\n\\ndecorate(ylabel=\\\"CDF\\\")\";\n",
       "                var nbb_cells = Jupyter.notebook.get_cells();\n",
       "                for (var i = 0; i < nbb_cells.length; ++i) {\n",
       "                    if (nbb_cells[i].input_prompt_number == nbb_cell_id) {\n",
       "                        if (nbb_cells[i].get_text() == nbb_unformatted_code) {\n",
       "                             nbb_cells[i].set_text(nbb_formatted_code);\n",
       "                        }\n",
       "                        break;\n",
       "                    }\n",
       "                }\n",
       "            }, 500);\n",
       "            "
      ],
      "text/plain": [
       "<IPython.core.display.Javascript object>"
      ]
     },
     "metadata": {},
     "output_type": "display_data"
    }
   ],
   "source": [
    "plt.plot(qs, ps, color=\"gray\", alpha=0.5, label=\"Normal model\")\n",
    "cdf_weights.plot(label=\"data\")\n",
    "\n",
    "decorate(ylabel=\"CDF\")"
   ]
  },
  {
   "cell_type": "code",
   "execution_count": 12,
   "id": "2d24b276",
   "metadata": {},
   "outputs": [
    {
     "data": {
      "application/javascript": [
       "\n",
       "            setTimeout(function() {\n",
       "                var nbb_cell_id = 12;\n",
       "                var nbb_unformatted_code = \"n = len(weights)\\nxs = norm.ppf((np.arange(n) + 0.5) / n)\";\n",
       "                var nbb_formatted_code = \"n = len(weights)\\nxs = norm.ppf((np.arange(n) + 0.5) / n)\";\n",
       "                var nbb_cells = Jupyter.notebook.get_cells();\n",
       "                for (var i = 0; i < nbb_cells.length; ++i) {\n",
       "                    if (nbb_cells[i].input_prompt_number == nbb_cell_id) {\n",
       "                        if (nbb_cells[i].get_text() == nbb_unformatted_code) {\n",
       "                             nbb_cells[i].set_text(nbb_formatted_code);\n",
       "                        }\n",
       "                        break;\n",
       "                    }\n",
       "                }\n",
       "            }, 500);\n",
       "            "
      ],
      "text/plain": [
       "<IPython.core.display.Javascript object>"
      ]
     },
     "metadata": {},
     "output_type": "display_data"
    }
   ],
   "source": [
    "n = len(weights)\n",
    "xs = norm.ppf((np.arange(n) + 0.5) / n)"
   ]
  },
  {
   "cell_type": "code",
   "execution_count": 13,
   "id": "0638de99",
   "metadata": {},
   "outputs": [
    {
     "data": {
      "application/javascript": [
       "\n",
       "            setTimeout(function() {\n",
       "                var nbb_cell_id = 13;\n",
       "                var nbb_unformatted_code = \"ys = np.sort(weights)\";\n",
       "                var nbb_formatted_code = \"ys = np.sort(weights)\";\n",
       "                var nbb_cells = Jupyter.notebook.get_cells();\n",
       "                for (var i = 0; i < nbb_cells.length; ++i) {\n",
       "                    if (nbb_cells[i].input_prompt_number == nbb_cell_id) {\n",
       "                        if (nbb_cells[i].get_text() == nbb_unformatted_code) {\n",
       "                             nbb_cells[i].set_text(nbb_formatted_code);\n",
       "                        }\n",
       "                        break;\n",
       "                    }\n",
       "                }\n",
       "            }, 500);\n",
       "            "
      ],
      "text/plain": [
       "<IPython.core.display.Javascript object>"
      ]
     },
     "metadata": {},
     "output_type": "display_data"
    }
   ],
   "source": [
    "ys = np.sort(weights)"
   ]
  },
  {
   "cell_type": "code",
   "execution_count": 14,
   "id": "8bdfc00a",
   "metadata": {},
   "outputs": [
    {
     "data": {
      "application/javascript": [
       "\n",
       "            setTimeout(function() {\n",
       "                var nbb_cell_id = 14;\n",
       "                var nbb_unformatted_code = \"inter, slope = m, s\\nfit_xs = np.linspace(-3, 3)\\nfit_ys = inter + slope * fit_xs\";\n",
       "                var nbb_formatted_code = \"inter, slope = m, s\\nfit_xs = np.linspace(-3, 3)\\nfit_ys = inter + slope * fit_xs\";\n",
       "                var nbb_cells = Jupyter.notebook.get_cells();\n",
       "                for (var i = 0; i < nbb_cells.length; ++i) {\n",
       "                    if (nbb_cells[i].input_prompt_number == nbb_cell_id) {\n",
       "                        if (nbb_cells[i].get_text() == nbb_unformatted_code) {\n",
       "                             nbb_cells[i].set_text(nbb_formatted_code);\n",
       "                        }\n",
       "                        break;\n",
       "                    }\n",
       "                }\n",
       "            }, 500);\n",
       "            "
      ],
      "text/plain": [
       "<IPython.core.display.Javascript object>"
      ]
     },
     "metadata": {},
     "output_type": "display_data"
    }
   ],
   "source": [
    "inter, slope = m, s\n",
    "fit_xs = np.linspace(-3, 3)\n",
    "fit_ys = inter + slope * fit_xs"
   ]
  },
  {
   "cell_type": "code",
   "execution_count": 15,
   "id": "cdcc30c5",
   "metadata": {},
   "outputs": [
    {
     "data": {
      "image/png": "[encoded data removed]",
      "text/plain": [
       "<Figure size 450x262.5 with 1 Axes>"
      ]
     },
     "metadata": {},
     "output_type": "display_data"
    },
    {
     "data": {
      "application/javascript": [
       "\n",
       "            setTimeout(function() {\n",
       "                var nbb_cell_id = 15;\n",
       "                var nbb_unformatted_code = \"plt.plot(fit_xs, fit_ys, color=\\\"gray\\\", alpha=0.5, label=\\\"model\\\")\\nplt.plot(xs, ys, label=\\\"data\\\")\\n\\ndecorate(xlabel=\\\"Standard normal\\\", ylabel=\\\"Body mass (g)\\\")\";\n",
       "                var nbb_formatted_code = \"plt.plot(fit_xs, fit_ys, color=\\\"gray\\\", alpha=0.5, label=\\\"model\\\")\\nplt.plot(xs, ys, label=\\\"data\\\")\\n\\ndecorate(xlabel=\\\"Standard normal\\\", ylabel=\\\"Body mass (g)\\\")\";\n",
       "                var nbb_cells = Jupyter.notebook.get_cells();\n",
       "                for (var i = 0; i < nbb_cells.length; ++i) {\n",
       "                    if (nbb_cells[i].input_prompt_number == nbb_cell_id) {\n",
       "                        if (nbb_cells[i].get_text() == nbb_unformatted_code) {\n",
       "                             nbb_cells[i].set_text(nbb_formatted_code);\n",
       "                        }\n",
       "                        break;\n",
       "                    }\n",
       "                }\n",
       "            }, 500);\n",
       "            "
      ],
      "text/plain": [
       "<IPython.core.display.Javascript object>"
      ]
     },
     "metadata": {},
     "output_type": "display_data"
    }
   ],
   "source": [
    "plt.plot(fit_xs, fit_ys, color=\"gray\", alpha=0.5, label=\"model\")\n",
    "plt.plot(xs, ys, label=\"data\")\n",
    "\n",
    "decorate(xlabel=\"Standard normal\", ylabel=\"Body mass (g)\")"
   ]
  },
  {
   "cell_type": "code",
   "execution_count": 16,
   "id": "976ff517",
   "metadata": {},
   "outputs": [
    {
     "data": {
      "application/javascript": [
       "\n",
       "            setTimeout(function() {\n",
       "                var nbb_cell_id = 16;\n",
       "                var nbb_unformatted_code = \"def normal_probability_plot(sample, **options):\\n    \\\"\\\"\\\"Makes a normal probability plot with a fitted line.\\\"\\\"\\\"\\n    n = len(sample)\\n    xs = norm.ppf((np.arange(n) + 0.5) / n)\\n    ys = np.sort(sample)\\n\\n    inter, slope = np.mean(sample), np.std(sample)\\n    fit_xs = np.linspace(-3, 3)\\n    fit_ys = inter + slope * fit_xs\\n\\n    plt.plot(fit_xs, fit_ys, color=\\\"gray\\\", alpha=0.5)\\n    plt.plot(xs, ys, **options)\\n    decorate(xlabel=\\\"Standard normal\\\")\";\n",
       "                var nbb_formatted_code = \"def normal_probability_plot(sample, **options):\\n    \\\"\\\"\\\"Makes a normal probability plot with a fitted line.\\\"\\\"\\\"\\n    n = len(sample)\\n    xs = norm.ppf((np.arange(n) + 0.5) / n)\\n    ys = np.sort(sample)\\n\\n    inter, slope = np.mean(sample), np.std(sample)\\n    fit_xs = np.linspace(-3, 3)\\n    fit_ys = inter + slope * fit_xs\\n\\n    plt.plot(fit_xs, fit_ys, color=\\\"gray\\\", alpha=0.5)\\n    plt.plot(xs, ys, **options)\\n    decorate(xlabel=\\\"Standard normal\\\")\";\n",
       "                var nbb_cells = Jupyter.notebook.get_cells();\n",
       "                for (var i = 0; i < nbb_cells.length; ++i) {\n",
       "                    if (nbb_cells[i].input_prompt_number == nbb_cell_id) {\n",
       "                        if (nbb_cells[i].get_text() == nbb_unformatted_code) {\n",
       "                             nbb_cells[i].set_text(nbb_formatted_code);\n",
       "                        }\n",
       "                        break;\n",
       "                    }\n",
       "                }\n",
       "            }, 500);\n",
       "            "
      ],
      "text/plain": [
       "<IPython.core.display.Javascript object>"
      ]
     },
     "metadata": {},
     "output_type": "display_data"
    }
   ],
   "source": [
    "def normal_probability_plot(sample, **options):\n",
    "    \"\"\"Makes a normal probability plot with a fitted line.\"\"\"\n",
    "    n = len(sample)\n",
    "    xs = norm.ppf((np.arange(n) + 0.5) / n)\n",
    "    ys = np.sort(sample)\n",
    "\n",
    "    inter, slope = np.mean(sample), np.std(sample)\n",
    "    fit_xs = np.linspace(-3, 3)\n",
    "    fit_ys = inter + slope * fit_xs\n",
    "\n",
    "    plt.plot(fit_xs, fit_ys, color=\"gray\", alpha=0.5)\n",
    "    plt.plot(xs, ys, **options)\n",
    "    decorate(xlabel=\"Standard normal\")"
   ]
  },
  {
   "cell_type": "code",
   "execution_count": 17,
   "id": "f9ce4632",
   "metadata": {},
   "outputs": [
    {
     "data": {
      "image/png": "[encoded data removed]",
      "text/plain": [
       "<Figure size 450x262.5 with 1 Axes>"
      ]
     },
     "metadata": {},
     "output_type": "display_data"
    },
    {
     "data": {
      "application/javascript": [
       "\n",
       "            setTimeout(function() {\n",
       "                var nbb_cell_id = 17;\n",
       "                var nbb_unformatted_code = \"grouped = adelie.groupby(\\\"Sex\\\")\\n\\nweights_male = grouped.get_group(\\\"MALE\\\")[\\\"Body Mass (g)\\\"]\\nnormal_probability_plot(weights_male, ls=\\\"--\\\", label=\\\"Male\\\")\\n\\nweights_female = grouped.get_group(\\\"FEMALE\\\")[\\\"Body Mass (g)\\\"]\\nnormal_probability_plot(weights_female, label=\\\"Female\\\")\";\n",
       "                var nbb_formatted_code = \"grouped = adelie.groupby(\\\"Sex\\\")\\n\\nweights_male = grouped.get_group(\\\"MALE\\\")[\\\"Body Mass (g)\\\"]\\nnormal_probability_plot(weights_male, ls=\\\"--\\\", label=\\\"Male\\\")\\n\\nweights_female = grouped.get_group(\\\"FEMALE\\\")[\\\"Body Mass (g)\\\"]\\nnormal_probability_plot(weights_female, label=\\\"Female\\\")\";\n",
       "                var nbb_cells = Jupyter.notebook.get_cells();\n",
       "                for (var i = 0; i < nbb_cells.length; ++i) {\n",
       "                    if (nbb_cells[i].input_prompt_number == nbb_cell_id) {\n",
       "                        if (nbb_cells[i].get_text() == nbb_unformatted_code) {\n",
       "                             nbb_cells[i].set_text(nbb_formatted_code);\n",
       "                        }\n",
       "                        break;\n",
       "                    }\n",
       "                }\n",
       "            }, 500);\n",
       "            "
      ],
      "text/plain": [
       "<IPython.core.display.Javascript object>"
      ]
     },
     "metadata": {},
     "output_type": "display_data"
    }
   ],
   "source": [
    "grouped = adelie.groupby(\"Sex\")\n",
    "\n",
    "weights_male = grouped.get_group(\"MALE\")[\"Body Mass (g)\"]\n",
    "normal_probability_plot(weights_male, ls=\"--\", label=\"Male\")\n",
    "\n",
    "weights_female = grouped.get_group(\"FEMALE\")[\"Body Mass (g)\"]\n",
    "normal_probability_plot(weights_female, label=\"Female\")"
   ]
  },
  {
   "cell_type": "markdown",
   "id": "f8d4ead4",
   "metadata": {},
   "source": [
    "Now we'll do the same calculation analytically.\n",
    "We take advantage of the fact that the weights of adult female gorillas are roughly normally distributed.\n",
    "`Normal` distributions have two properties that make them amenable for analysis: they are \"closed\" under linear transformation and addition.\n",
    "To explain what that means, I need some notation.\n",
    "\n",
    "If the distribution of a quantity, $X$, is normal with parameters $\\mu$ and $\\sigma$, you can write \n",
    "\n",
    "$$X \\sim `Normal`~(\\mu, \\sigma^{2})$$ \n",
    "\n",
    "where the symbol $\\sim$ means \"is distributed\" and the script letter $`Normal`$ stands for \"normal.\"\n",
    "\n",
    "A linear transformation of $X$ is something like $X' = a X + b$, where $a$ and $b$ are real numbers.\n",
    "A family of distributions is closed under linear transformation if $X'$ is in the same family as $X$.\n",
    "The normal distribution has this property; if $X \\sim `Normal`~(\\mu, \\sigma^2)$, \n",
    "\n",
    "$$X' \\sim `Normal`~(a \\mu + b, a^{2} \\sigma^2) \\tag*{(1)}$$\n",
    "\n",
    "`Normal` distributions are also closed under addition.\n",
    "If $Z = X + Y$ and\n",
    "\n",
    "$X \\sim `Normal`~(\\mu_{X}, \\sigma_{X}^{2})$ and\n",
    "\n",
    "$Y \\sim `Normal`~(\\mu_{Y}, \\sigma_{Y}^{2})$ then\n",
    "\n",
    "$$Z \\sim `Normal`~(\\mu_X + \\mu_Y, \\sigma_X^2 + \\sigma_Y^2)  \\tag*{(2)}$$\n",
    "\n",
    "In the special case $Z = X + X$, we have\n",
    "\n",
    "$$Z \\sim `Normal`~(2 \\mu_X, 2 \\sigma_X^2)$$ \n",
    "\n",
    "and in general if we draw $n$ values of $X$ and add them up, we have\n",
    "\n",
    "$$Z \\sim `Normal`~(n \\mu_X, n \\sigma_X^2)  \\tag*{(3)}$$"
   ]
  },
  {
   "cell_type": "code",
   "execution_count": 18,
   "id": "0baee14d",
   "metadata": {},
   "outputs": [
    {
     "data": {
      "application/javascript": [
       "\n",
       "            setTimeout(function() {\n",
       "                var nbb_cell_id = 18;\n",
       "                var nbb_unformatted_code = \"class Normal:\\n    \\\"\\\"\\\"Represents a Normal distribution\\\"\\\"\\\"\\n\\n    def __init__(self, mu, sigma2):\\n        \\\"\\\"\\\"Make a Normal object.\\n\\n        mu: mean\\n        sigma2: variance\\n        \\\"\\\"\\\"\\n        self.mu = mu\\n        self.sigma2 = sigma2\\n\\n    def __repr__(self):\\n        \\\"\\\"\\\"Returns a string representation.\\\"\\\"\\\"\\n        return f\\\"Normal({self.mu}, {self.sigma2})\\\"\\n\\n    __str__ = __repr__\";\n",
       "                var nbb_formatted_code = \"class Normal:\\n    \\\"\\\"\\\"Represents a Normal distribution\\\"\\\"\\\"\\n\\n    def __init__(self, mu, sigma2):\\n        \\\"\\\"\\\"Make a Normal object.\\n\\n        mu: mean\\n        sigma2: variance\\n        \\\"\\\"\\\"\\n        self.mu = mu\\n        self.sigma2 = sigma2\\n\\n    def __repr__(self):\\n        \\\"\\\"\\\"Returns a string representation.\\\"\\\"\\\"\\n        return f\\\"Normal({self.mu}, {self.sigma2})\\\"\\n\\n    __str__ = __repr__\";\n",
       "                var nbb_cells = Jupyter.notebook.get_cells();\n",
       "                for (var i = 0; i < nbb_cells.length; ++i) {\n",
       "                    if (nbb_cells[i].input_prompt_number == nbb_cell_id) {\n",
       "                        if (nbb_cells[i].get_text() == nbb_unformatted_code) {\n",
       "                             nbb_cells[i].set_text(nbb_formatted_code);\n",
       "                        }\n",
       "                        break;\n",
       "                    }\n",
       "                }\n",
       "            }, 500);\n",
       "            "
      ],
      "text/plain": [
       "<IPython.core.display.Javascript object>"
      ]
     },
     "metadata": {},
     "output_type": "display_data"
    }
   ],
   "source": [
    "class Normal:\n",
    "    \"\"\"Represents a Normal distribution\"\"\"\n",
    "\n",
    "    def __init__(self, mu, sigma2):\n",
    "        \"\"\"Make a Normal object.\n",
    "\n",
    "        mu: mean\n",
    "        sigma2: variance\n",
    "        \"\"\"\n",
    "        self.mu = mu\n",
    "        self.sigma2 = sigma2\n",
    "\n",
    "    def __repr__(self):\n",
    "        \"\"\"Returns a string representation.\"\"\"\n",
    "        return f\"Normal({self.mu}, {self.sigma2})\"\n",
    "\n",
    "    __str__ = __repr__"
   ]
  },
  {
   "cell_type": "code",
   "execution_count": 19,
   "id": "1efbcfc0",
   "metadata": {},
   "outputs": [
    {
     "data": {
      "text/plain": [
       "Normal(4043.4931506849316, 118630.60611747044)"
      ]
     },
     "execution_count": 19,
     "metadata": {},
     "output_type": "execute_result"
    },
    {
     "data": {
      "application/javascript": [
       "\n",
       "            setTimeout(function() {\n",
       "                var nbb_cell_id = 19;\n",
       "                var nbb_unformatted_code = \"m, s = np.mean(weights_male), np.std(weights_male)\\ndist_male = Normal(m, s**2)\\ndist_male\";\n",
       "                var nbb_formatted_code = \"m, s = np.mean(weights_male), np.std(weights_male)\\ndist_male = Normal(m, s**2)\\ndist_male\";\n",
       "                var nbb_cells = Jupyter.notebook.get_cells();\n",
       "                for (var i = 0; i < nbb_cells.length; ++i) {\n",
       "                    if (nbb_cells[i].input_prompt_number == nbb_cell_id) {\n",
       "                        if (nbb_cells[i].get_text() == nbb_unformatted_code) {\n",
       "                             nbb_cells[i].set_text(nbb_formatted_code);\n",
       "                        }\n",
       "                        break;\n",
       "                    }\n",
       "                }\n",
       "            }, 500);\n",
       "            "
      ],
      "text/plain": [
       "<IPython.core.display.Javascript object>"
      ]
     },
     "metadata": {},
     "output_type": "display_data"
    }
   ],
   "source": [
    "m, s = np.mean(weights_male), np.std(weights_male)\n",
    "dist_male = Normal(m, s**2)\n",
    "dist_male"
   ]
  },
  {
   "cell_type": "code",
   "execution_count": 20,
   "id": "7ecc2c62",
   "metadata": {},
   "outputs": [
    {
     "data": {
      "text/plain": [
       "Normal(3368.8356164383563, 71571.58941640082)"
      ]
     },
     "execution_count": 20,
     "metadata": {},
     "output_type": "execute_result"
    },
    {
     "data": {
      "application/javascript": [
       "\n",
       "            setTimeout(function() {\n",
       "                var nbb_cell_id = 20;\n",
       "                var nbb_unformatted_code = \"m, s = np.mean(weights_female), np.std(weights_female)\\ndist_female = Normal(m, s**2)\\ndist_female\";\n",
       "                var nbb_formatted_code = \"m, s = np.mean(weights_female), np.std(weights_female)\\ndist_female = Normal(m, s**2)\\ndist_female\";\n",
       "                var nbb_cells = Jupyter.notebook.get_cells();\n",
       "                for (var i = 0; i < nbb_cells.length; ++i) {\n",
       "                    if (nbb_cells[i].input_prompt_number == nbb_cell_id) {\n",
       "                        if (nbb_cells[i].get_text() == nbb_unformatted_code) {\n",
       "                             nbb_cells[i].set_text(nbb_formatted_code);\n",
       "                        }\n",
       "                        break;\n",
       "                    }\n",
       "                }\n",
       "            }, 500);\n",
       "            "
      ],
      "text/plain": [
       "<IPython.core.display.Javascript object>"
      ]
     },
     "metadata": {},
     "output_type": "display_data"
    }
   ],
   "source": [
    "m, s = np.mean(weights_female), np.std(weights_female)\n",
    "dist_female = Normal(m, s**2)\n",
    "dist_female"
   ]
  },
  {
   "cell_type": "code",
   "execution_count": 21,
   "id": "5dacba9a",
   "metadata": {},
   "outputs": [
    {
     "data": {
      "application/javascript": [
       "\n",
       "            setTimeout(function() {\n",
       "                var nbb_cell_id = 21;\n",
       "                var nbb_unformatted_code = \"%%add_method_to Normal\\n\\ndef sample(self, n):\\n    \\\"\\\"\\\"Generate a random sample from this distribution.\\\"\\\"\\\"\\n    sigma = np.sqrt(self.sigma2)\\n    return np.random.normal(self.mu, sigma, n)\";\n",
       "                var nbb_formatted_code = \"%%add_method_to Normal\\n\\ndef sample(self, n):\\n    \\\"\\\"\\\"Generate a random sample from this distribution.\\\"\\\"\\\"\\n    sigma = np.sqrt(self.sigma2)\\n    return np.random.normal(self.mu, sigma, n)\";\n",
       "                var nbb_cells = Jupyter.notebook.get_cells();\n",
       "                for (var i = 0; i < nbb_cells.length; ++i) {\n",
       "                    if (nbb_cells[i].input_prompt_number == nbb_cell_id) {\n",
       "                        if (nbb_cells[i].get_text() == nbb_unformatted_code) {\n",
       "                             nbb_cells[i].set_text(nbb_formatted_code);\n",
       "                        }\n",
       "                        break;\n",
       "                    }\n",
       "                }\n",
       "            }, 500);\n",
       "            "
      ],
      "text/plain": [
       "<IPython.core.display.Javascript object>"
      ]
     },
     "metadata": {},
     "output_type": "display_data"
    },
    {
     "data": {
      "application/javascript": [
       "\n",
       "            setTimeout(function() {\n",
       "                var nbb_cell_id = 21;\n",
       "                var nbb_unformatted_code = \"%%add_method_to Normal\\n\\ndef sample(self, n):\\n    \\\"\\\"\\\"Generate a random sample from this distribution.\\\"\\\"\\\"\\n    sigma = np.sqrt(self.sigma2)\\n    return np.random.normal(self.mu, sigma, n)\";\n",
       "                var nbb_formatted_code = \"%%add_method_to Normal\\n\\ndef sample(self, n):\\n    \\\"\\\"\\\"Generate a random sample from this distribution.\\\"\\\"\\\"\\n    sigma = np.sqrt(self.sigma2)\\n    return np.random.normal(self.mu, sigma, n)\";\n",
       "                var nbb_cells = Jupyter.notebook.get_cells();\n",
       "                for (var i = 0; i < nbb_cells.length; ++i) {\n",
       "                    if (nbb_cells[i].input_prompt_number == nbb_cell_id) {\n",
       "                        if (nbb_cells[i].get_text() == nbb_unformatted_code) {\n",
       "                             nbb_cells[i].set_text(nbb_formatted_code);\n",
       "                        }\n",
       "                        break;\n",
       "                    }\n",
       "                }\n",
       "            }, 500);\n",
       "            "
      ],
      "text/plain": [
       "<IPython.core.display.Javascript object>"
      ]
     },
     "metadata": {},
     "output_type": "display_data"
    }
   ],
   "source": [
    "%%add_method_to Normal\n",
    "\n",
    "def sample(self, n):\n",
    "    \"\"\"Generate a random sample from this distribution.\"\"\"\n",
    "    sigma = np.sqrt(self.sigma2)\n",
    "    return np.random.normal(self.mu, sigma, n)"
   ]
  },
  {
   "cell_type": "code",
   "execution_count": 22,
   "id": "f44bed89",
   "metadata": {},
   "outputs": [
    {
     "data": {
      "image/png": "[encoded data removed]",
      "text/plain": [
       "<Figure size 450x262.5 with 1 Axes>"
      ]
     },
     "metadata": {},
     "output_type": "display_data"
    },
    {
     "data": {
      "application/javascript": [
       "\n",
       "            setTimeout(function() {\n",
       "                var nbb_cell_id = 22;\n",
       "                var nbb_unformatted_code = \"sample_sum = dist_male.sample(1000) + dist_female.sample(1000)\\nnormal_probability_plot(sample_sum)\";\n",
       "                var nbb_formatted_code = \"sample_sum = dist_male.sample(1000) + dist_female.sample(1000)\\nnormal_probability_plot(sample_sum)\";\n",
       "                var nbb_cells = Jupyter.notebook.get_cells();\n",
       "                for (var i = 0; i < nbb_cells.length; ++i) {\n",
       "                    if (nbb_cells[i].input_prompt_number == nbb_cell_id) {\n",
       "                        if (nbb_cells[i].get_text() == nbb_unformatted_code) {\n",
       "                             nbb_cells[i].set_text(nbb_formatted_code);\n",
       "                        }\n",
       "                        break;\n",
       "                    }\n",
       "                }\n",
       "            }, 500);\n",
       "            "
      ],
      "text/plain": [
       "<IPython.core.display.Javascript object>"
      ]
     },
     "metadata": {},
     "output_type": "display_data"
    }
   ],
   "source": [
    "sample_sum = dist_male.sample(1000) + dist_female.sample(1000)\n",
    "normal_probability_plot(sample_sum)"
   ]
  },
  {
   "cell_type": "code",
   "execution_count": 23,
   "id": "55aea182",
   "metadata": {},
   "outputs": [
    {
     "data": {
      "application/javascript": [
       "\n",
       "            setTimeout(function() {\n",
       "                var nbb_cell_id = 23;\n",
       "                var nbb_unformatted_code = \"%%add_method_to Normal\\n\\n\\ndef __add__(self, other):\\n    \\\"\\\"\\\"Adds a number or other Normal.\\n\\n    other: number or Normal\\n\\n    returns: new Normal\\n    \\\"\\\"\\\"\\n    if isinstance(other, Normal):\\n        return Normal(self.mu + other.mu, self.sigma2 + other.sigma2)\\n    else:\\n        return Normal(self.mu + other, self.sigma2)\";\n",
       "                var nbb_formatted_code = \"%%add_method_to Normal\\n\\n\\ndef __add__(self, other):\\n    \\\"\\\"\\\"Adds a number or other Normal.\\n\\n    other: number or Normal\\n\\n    returns: new Normal\\n    \\\"\\\"\\\"\\n    if isinstance(other, Normal):\\n        return Normal(self.mu + other.mu, self.sigma2 + other.sigma2)\\n    else:\\n        return Normal(self.mu + other, self.sigma2)\";\n",
       "                var nbb_cells = Jupyter.notebook.get_cells();\n",
       "                for (var i = 0; i < nbb_cells.length; ++i) {\n",
       "                    if (nbb_cells[i].input_prompt_number == nbb_cell_id) {\n",
       "                        if (nbb_cells[i].get_text() == nbb_unformatted_code) {\n",
       "                             nbb_cells[i].set_text(nbb_formatted_code);\n",
       "                        }\n",
       "                        break;\n",
       "                    }\n",
       "                }\n",
       "            }, 500);\n",
       "            "
      ],
      "text/plain": [
       "<IPython.core.display.Javascript object>"
      ]
     },
     "metadata": {},
     "output_type": "display_data"
    },
    {
     "data": {
      "application/javascript": [
       "\n",
       "            setTimeout(function() {\n",
       "                var nbb_cell_id = 23;\n",
       "                var nbb_unformatted_code = \"%%add_method_to Normal\\n\\n\\ndef __add__(self, other):\\n    \\\"\\\"\\\"Adds a number or other Normal.\\n\\n    other: number or Normal\\n\\n    returns: new Normal\\n    \\\"\\\"\\\"\\n    if isinstance(other, Normal):\\n        return Normal(self.mu + other.mu, self.sigma2 + other.sigma2)\\n    else:\\n        return Normal(self.mu + other, self.sigma2)\";\n",
       "                var nbb_formatted_code = \"%%add_method_to Normal\\n\\n\\ndef __add__(self, other):\\n    \\\"\\\"\\\"Adds a number or other Normal.\\n\\n    other: number or Normal\\n\\n    returns: new Normal\\n    \\\"\\\"\\\"\\n    if isinstance(other, Normal):\\n        return Normal(self.mu + other.mu, self.sigma2 + other.sigma2)\\n    else:\\n        return Normal(self.mu + other, self.sigma2)\";\n",
       "                var nbb_cells = Jupyter.notebook.get_cells();\n",
       "                for (var i = 0; i < nbb_cells.length; ++i) {\n",
       "                    if (nbb_cells[i].input_prompt_number == nbb_cell_id) {\n",
       "                        if (nbb_cells[i].get_text() == nbb_unformatted_code) {\n",
       "                             nbb_cells[i].set_text(nbb_formatted_code);\n",
       "                        }\n",
       "                        break;\n",
       "                    }\n",
       "                }\n",
       "            }, 500);\n",
       "            "
      ],
      "text/plain": [
       "<IPython.core.display.Javascript object>"
      ]
     },
     "metadata": {},
     "output_type": "display_data"
    }
   ],
   "source": [
    "%%add_method_to Normal\n",
    "\n",
    "\n",
    "def __add__(self, other):\n",
    "    \"\"\"Adds a number or other Normal.\n",
    "\n",
    "    other: number or Normal\n",
    "\n",
    "    returns: new Normal\n",
    "    \"\"\"\n",
    "    if isinstance(other, Normal):\n",
    "        return Normal(self.mu + other.mu, self.sigma2 + other.sigma2)\n",
    "    else:\n",
    "        return Normal(self.mu + other, self.sigma2)"
   ]
  },
  {
   "cell_type": "code",
   "execution_count": 24,
   "id": "2c113bc6",
   "metadata": {},
   "outputs": [
    {
     "data": {
      "text/plain": [
       "Normal(7412.328767123288, 190202.19553387124)"
      ]
     },
     "execution_count": 24,
     "metadata": {},
     "output_type": "execute_result"
    },
    {
     "data": {
      "application/javascript": [
       "\n",
       "            setTimeout(function() {\n",
       "                var nbb_cell_id = 24;\n",
       "                var nbb_unformatted_code = \"dist_sum = dist_male + dist_female\\ndist_sum\";\n",
       "                var nbb_formatted_code = \"dist_sum = dist_male + dist_female\\ndist_sum\";\n",
       "                var nbb_cells = Jupyter.notebook.get_cells();\n",
       "                for (var i = 0; i < nbb_cells.length; ++i) {\n",
       "                    if (nbb_cells[i].input_prompt_number == nbb_cell_id) {\n",
       "                        if (nbb_cells[i].get_text() == nbb_unformatted_code) {\n",
       "                             nbb_cells[i].set_text(nbb_formatted_code);\n",
       "                        }\n",
       "                        break;\n",
       "                    }\n",
       "                }\n",
       "            }, 500);\n",
       "            "
      ],
      "text/plain": [
       "<IPython.core.display.Javascript object>"
      ]
     },
     "metadata": {},
     "output_type": "display_data"
    }
   ],
   "source": [
    "dist_sum = dist_male + dist_female\n",
    "dist_sum"
   ]
  },
  {
   "cell_type": "code",
   "execution_count": 27,
   "id": "b44c04a3",
   "metadata": {},
   "outputs": [
    {
     "data": {
      "application/javascript": [
       "\n",
       "            setTimeout(function() {\n",
       "                var nbb_cell_id = 27;\n",
       "                var nbb_unformatted_code = \"%%add_method_to Normal\\n\\n\\ndef plot_cdf(self, n_sigmas=4, **options):\\n    \\\"\\\"\\\"Plot the CDF of this distribution.\\\"\\\"\\\"\\n    mu, sigma = self.mu, np.sqrt(self.sigma2)\\n    low, high = mu - n_sigmas * sigma, mu + 3 * sigma\\n    xs = np.linspace(low, high, 101)\\n    ys = norm.cdf(xs, mu, sigma)\\n    plt.plot(xs, ys, **options)\";\n",
       "                var nbb_formatted_code = \"%%add_method_to Normal\\n\\n\\ndef plot_cdf(self, n_sigmas=4, **options):\\n    \\\"\\\"\\\"Plot the CDF of this distribution.\\\"\\\"\\\"\\n    mu, sigma = self.mu, np.sqrt(self.sigma2)\\n    low, high = mu - n_sigmas * sigma, mu + 3 * sigma\\n    xs = np.linspace(low, high, 101)\\n    ys = norm.cdf(xs, mu, sigma)\\n    plt.plot(xs, ys, **options)\";\n",
       "                var nbb_cells = Jupyter.notebook.get_cells();\n",
       "                for (var i = 0; i < nbb_cells.length; ++i) {\n",
       "                    if (nbb_cells[i].input_prompt_number == nbb_cell_id) {\n",
       "                        if (nbb_cells[i].get_text() == nbb_unformatted_code) {\n",
       "                             nbb_cells[i].set_text(nbb_formatted_code);\n",
       "                        }\n",
       "                        break;\n",
       "                    }\n",
       "                }\n",
       "            }, 500);\n",
       "            "
      ],
      "text/plain": [
       "<IPython.core.display.Javascript object>"
      ]
     },
     "metadata": {},
     "output_type": "display_data"
    },
    {
     "data": {
      "application/javascript": [
       "\n",
       "            setTimeout(function() {\n",
       "                var nbb_cell_id = 27;\n",
       "                var nbb_unformatted_code = \"%%add_method_to Normal\\n\\n\\ndef plot_cdf(self, n_sigmas=4, **options):\\n    \\\"\\\"\\\"Plot the CDF of this distribution.\\\"\\\"\\\"\\n    mu, sigma = self.mu, np.sqrt(self.sigma2)\\n    low, high = mu - n_sigmas * sigma, mu + 3 * sigma\\n    xs = np.linspace(low, high, 101)\\n    ys = norm.cdf(xs, mu, sigma)\\n    plt.plot(xs, ys, **options)\";\n",
       "                var nbb_formatted_code = \"%%add_method_to Normal\\n\\n\\ndef plot_cdf(self, n_sigmas=4, **options):\\n    \\\"\\\"\\\"Plot the CDF of this distribution.\\\"\\\"\\\"\\n    mu, sigma = self.mu, np.sqrt(self.sigma2)\\n    low, high = mu - n_sigmas * sigma, mu + 3 * sigma\\n    xs = np.linspace(low, high, 101)\\n    ys = norm.cdf(xs, mu, sigma)\\n    plt.plot(xs, ys, **options)\";\n",
       "                var nbb_cells = Jupyter.notebook.get_cells();\n",
       "                for (var i = 0; i < nbb_cells.length; ++i) {\n",
       "                    if (nbb_cells[i].input_prompt_number == nbb_cell_id) {\n",
       "                        if (nbb_cells[i].get_text() == nbb_unformatted_code) {\n",
       "                             nbb_cells[i].set_text(nbb_formatted_code);\n",
       "                        }\n",
       "                        break;\n",
       "                    }\n",
       "                }\n",
       "            }, 500);\n",
       "            "
      ],
      "text/plain": [
       "<IPython.core.display.Javascript object>"
      ]
     },
     "metadata": {},
     "output_type": "display_data"
    }
   ],
   "source": [
    "%%add_method_to Normal\n",
    "\n",
    "\n",
    "def plot_cdf(self, n_sigmas=4, **options):\n",
    "    \"\"\"Plot the CDF of this distribution.\"\"\"\n",
    "    mu, sigma = self.mu, np.sqrt(self.sigma2)\n",
    "    low, high = mu - n_sigmas * sigma, mu + 3 * sigma\n",
    "    xs = np.linspace(low, high, 101)\n",
    "    ys = norm.cdf(xs, mu, sigma)\n",
    "    plt.plot(xs, ys, **options)"
   ]
  },
  {
   "cell_type": "code",
   "execution_count": 32,
   "id": "a12aeec5",
   "metadata": {},
   "outputs": [
    {
     "data": {
      "image/png": "[encoded data removed]",
      "text/plain": [
       "<Figure size 450x262.5 with 1 Axes>"
      ]
     },
     "metadata": {},
     "output_type": "display_data"
    },
    {
     "data": {
      "application/javascript": [
       "\n",
       "            setTimeout(function() {\n",
       "                var nbb_cell_id = 32;\n",
       "                var nbb_unformatted_code = \"dist_sum.plot_cdf(color=\\\"gray\\\", alpha=0.4, label=\\\"model\\\")\\nCdf.from_seq(sample_sum).plot(label=\\\"sample\\\")\\n\\ndecorate(xlabel=\\\"Body mass (g)\\\", ylabel=\\\"CDF\\\")\";\n",
       "                var nbb_formatted_code = \"dist_sum.plot_cdf(color=\\\"gray\\\", alpha=0.4, label=\\\"model\\\")\\nCdf.from_seq(sample_sum).plot(label=\\\"sample\\\")\\n\\ndecorate(xlabel=\\\"Body mass (g)\\\", ylabel=\\\"CDF\\\")\";\n",
       "                var nbb_cells = Jupyter.notebook.get_cells();\n",
       "                for (var i = 0; i < nbb_cells.length; ++i) {\n",
       "                    if (nbb_cells[i].input_prompt_number == nbb_cell_id) {\n",
       "                        if (nbb_cells[i].get_text() == nbb_unformatted_code) {\n",
       "                             nbb_cells[i].set_text(nbb_formatted_code);\n",
       "                        }\n",
       "                        break;\n",
       "                    }\n",
       "                }\n",
       "            }, 500);\n",
       "            "
      ],
      "text/plain": [
       "<IPython.core.display.Javascript object>"
      ]
     },
     "metadata": {},
     "output_type": "display_data"
    }
   ],
   "source": [
    "dist_sum.plot_cdf(color=\"gray\", alpha=0.4, label=\"model\")\n",
    "Cdf.from_seq(sample_sum).plot(label=\"sample\")\n",
    "\n",
    "decorate(xlabel=\"Total weights (g)\", ylabel=\"CDF\")"
   ]
  },
  {
   "cell_type": "code",
   "execution_count": 80,
   "id": "b338ce4a",
   "metadata": {},
   "outputs": [
    {
     "data": {
      "text/plain": [
       "73"
      ]
     },
     "execution_count": 80,
     "metadata": {},
     "output_type": "execute_result"
    },
    {
     "data": {
      "application/javascript": [
       "\n",
       "            setTimeout(function() {\n",
       "                var nbb_cell_id = 80;\n",
       "                var nbb_unformatted_code = \"n = len(weights_male)\\nsample_sums_male = [dist_male.sample(n).sum() for i in range(1001)]\\nn\";\n",
       "                var nbb_formatted_code = \"n = len(weights_male)\\nsample_sums_male = [dist_male.sample(n).sum() for i in range(1001)]\\nn\";\n",
       "                var nbb_cells = Jupyter.notebook.get_cells();\n",
       "                for (var i = 0; i < nbb_cells.length; ++i) {\n",
       "                    if (nbb_cells[i].input_prompt_number == nbb_cell_id) {\n",
       "                        if (nbb_cells[i].get_text() == nbb_unformatted_code) {\n",
       "                             nbb_cells[i].set_text(nbb_formatted_code);\n",
       "                        }\n",
       "                        break;\n",
       "                    }\n",
       "                }\n",
       "            }, 500);\n",
       "            "
      ],
      "text/plain": [
       "<IPython.core.display.Javascript object>"
      ]
     },
     "metadata": {},
     "output_type": "display_data"
    }
   ],
   "source": [
    "n = len(weights_male)\n",
    "sample_sums_male = [dist_male.sample(n).sum() for i in range(1001)]\n",
    "n"
   ]
  },
  {
   "cell_type": "code",
   "execution_count": 81,
   "id": "e9d0e16f",
   "metadata": {},
   "outputs": [
    {
     "data": {
      "application/javascript": [
       "\n",
       "            setTimeout(function() {\n",
       "                var nbb_cell_id = 81;\n",
       "                var nbb_unformatted_code = \"%%add_method_to Normal\\n\\n\\ndef sum(self, n):\\n    \\\"\\\"\\\"Return the distribution of the sum of n values.\\\"\\\"\\\"\\n    return Normal(n * self.mu, n * self.sigma2)\";\n",
       "                var nbb_formatted_code = \"%%add_method_to Normal\\n\\n\\ndef sum(self, n):\\n    \\\"\\\"\\\"Return the distribution of the sum of n values.\\\"\\\"\\\"\\n    return Normal(n * self.mu, n * self.sigma2)\";\n",
       "                var nbb_cells = Jupyter.notebook.get_cells();\n",
       "                for (var i = 0; i < nbb_cells.length; ++i) {\n",
       "                    if (nbb_cells[i].input_prompt_number == nbb_cell_id) {\n",
       "                        if (nbb_cells[i].get_text() == nbb_unformatted_code) {\n",
       "                             nbb_cells[i].set_text(nbb_formatted_code);\n",
       "                        }\n",
       "                        break;\n",
       "                    }\n",
       "                }\n",
       "            }, 500);\n",
       "            "
      ],
      "text/plain": [
       "<IPython.core.display.Javascript object>"
      ]
     },
     "metadata": {},
     "output_type": "display_data"
    },
    {
     "data": {
      "application/javascript": [
       "\n",
       "            setTimeout(function() {\n",
       "                var nbb_cell_id = 81;\n",
       "                var nbb_unformatted_code = \"%%add_method_to Normal\\n\\n\\ndef sum(self, n):\\n    \\\"\\\"\\\"Return the distribution of the sum of n values.\\\"\\\"\\\"\\n    return Normal(n * self.mu, n * self.sigma2)\";\n",
       "                var nbb_formatted_code = \"%%add_method_to Normal\\n\\n\\ndef sum(self, n):\\n    \\\"\\\"\\\"Return the distribution of the sum of n values.\\\"\\\"\\\"\\n    return Normal(n * self.mu, n * self.sigma2)\";\n",
       "                var nbb_cells = Jupyter.notebook.get_cells();\n",
       "                for (var i = 0; i < nbb_cells.length; ++i) {\n",
       "                    if (nbb_cells[i].input_prompt_number == nbb_cell_id) {\n",
       "                        if (nbb_cells[i].get_text() == nbb_unformatted_code) {\n",
       "                             nbb_cells[i].set_text(nbb_formatted_code);\n",
       "                        }\n",
       "                        break;\n",
       "                    }\n",
       "                }\n",
       "            }, 500);\n",
       "            "
      ],
      "text/plain": [
       "<IPython.core.display.Javascript object>"
      ]
     },
     "metadata": {},
     "output_type": "display_data"
    }
   ],
   "source": [
    "%%add_method_to Normal\n",
    "\n",
    "\n",
    "def sum(self, n):\n",
    "    \"\"\"Return the distribution of the sum of n values.\"\"\"\n",
    "    return Normal(n * self.mu, n * self.sigma2)"
   ]
  },
  {
   "cell_type": "code",
   "execution_count": 82,
   "id": "dab094b4",
   "metadata": {},
   "outputs": [
    {
     "data": {
      "application/javascript": [
       "\n",
       "            setTimeout(function() {\n",
       "                var nbb_cell_id = 82;\n",
       "                var nbb_unformatted_code = \"dist_sums_male = dist_male.sum(n)\";\n",
       "                var nbb_formatted_code = \"dist_sums_male = dist_male.sum(n)\";\n",
       "                var nbb_cells = Jupyter.notebook.get_cells();\n",
       "                for (var i = 0; i < nbb_cells.length; ++i) {\n",
       "                    if (nbb_cells[i].input_prompt_number == nbb_cell_id) {\n",
       "                        if (nbb_cells[i].get_text() == nbb_unformatted_code) {\n",
       "                             nbb_cells[i].set_text(nbb_formatted_code);\n",
       "                        }\n",
       "                        break;\n",
       "                    }\n",
       "                }\n",
       "            }, 500);\n",
       "            "
      ],
      "text/plain": [
       "<IPython.core.display.Javascript object>"
      ]
     },
     "metadata": {},
     "output_type": "display_data"
    }
   ],
   "source": [
    "dist_sums_male = dist_male.sum(n)"
   ]
  },
  {
   "cell_type": "code",
   "execution_count": 83,
   "id": "47a89b6d",
   "metadata": {},
   "outputs": [
    {
     "data": {
      "image/png": "[encoded data removed]",
      "text/plain": [
       "<Figure size 450x262.5 with 1 Axes>"
      ]
     },
     "metadata": {},
     "output_type": "display_data"
    },
    {
     "data": {
      "application/javascript": [
       "\n",
       "            setTimeout(function() {\n",
       "                var nbb_cell_id = 83;\n",
       "                var nbb_unformatted_code = \"model_options = dict(color=\\\"gray\\\", alpha=0.4, label=\\\"model\\\")\\n\\ndist_sums_male.plot_cdf(**model_options)\\nCdf.from_seq(sample_sums_male).plot(label=\\\"sample\\\")\\n\\ndecorate(xlabel=\\\"Total weights (g)\\\", ylabel=\\\"CDF\\\")\";\n",
       "                var nbb_formatted_code = \"model_options = dict(color=\\\"gray\\\", alpha=0.4, label=\\\"model\\\")\\n\\ndist_sums_male.plot_cdf(**model_options)\\nCdf.from_seq(sample_sums_male).plot(label=\\\"sample\\\")\\n\\ndecorate(xlabel=\\\"Total weights (g)\\\", ylabel=\\\"CDF\\\")\";\n",
       "                var nbb_cells = Jupyter.notebook.get_cells();\n",
       "                for (var i = 0; i < nbb_cells.length; ++i) {\n",
       "                    if (nbb_cells[i].input_prompt_number == nbb_cell_id) {\n",
       "                        if (nbb_cells[i].get_text() == nbb_unformatted_code) {\n",
       "                             nbb_cells[i].set_text(nbb_formatted_code);\n",
       "                        }\n",
       "                        break;\n",
       "                    }\n",
       "                }\n",
       "            }, 500);\n",
       "            "
      ],
      "text/plain": [
       "<IPython.core.display.Javascript object>"
      ]
     },
     "metadata": {},
     "output_type": "display_data"
    }
   ],
   "source": [
    "model_options = dict(color=\"gray\", alpha=0.4, label=\"model\")\n",
    "\n",
    "dist_sums_male.plot_cdf(**model_options)\n",
    "Cdf.from_seq(sample_sums_male).plot(label=\"sample\")\n",
    "\n",
    "decorate(xlabel=\"Total weights (g)\", ylabel=\"CDF\")"
   ]
  },
  {
   "cell_type": "code",
   "execution_count": 84,
   "id": "30b72270",
   "metadata": {},
   "outputs": [
    {
     "data": {
      "application/javascript": [
       "\n",
       "            setTimeout(function() {\n",
       "                var nbb_cell_id = 84;\n",
       "                var nbb_unformatted_code = \"%%add_method_to Normal\\n\\n\\ndef __mul__(self, factor):\\n    \\\"\\\"\\\"Multiplies by a scalar.\\\"\\\"\\\"\\n    return Normal(factor * self.mu, factor**2 * self.sigma2)\";\n",
       "                var nbb_formatted_code = \"%%add_method_to Normal\\n\\n\\ndef __mul__(self, factor):\\n    \\\"\\\"\\\"Multiplies by a scalar.\\\"\\\"\\\"\\n    return Normal(factor * self.mu, factor**2 * self.sigma2)\";\n",
       "                var nbb_cells = Jupyter.notebook.get_cells();\n",
       "                for (var i = 0; i < nbb_cells.length; ++i) {\n",
       "                    if (nbb_cells[i].input_prompt_number == nbb_cell_id) {\n",
       "                        if (nbb_cells[i].get_text() == nbb_unformatted_code) {\n",
       "                             nbb_cells[i].set_text(nbb_formatted_code);\n",
       "                        }\n",
       "                        break;\n",
       "                    }\n",
       "                }\n",
       "            }, 500);\n",
       "            "
      ],
      "text/plain": [
       "<IPython.core.display.Javascript object>"
      ]
     },
     "metadata": {},
     "output_type": "display_data"
    },
    {
     "data": {
      "application/javascript": [
       "\n",
       "            setTimeout(function() {\n",
       "                var nbb_cell_id = 84;\n",
       "                var nbb_unformatted_code = \"%%add_method_to Normal\\n\\n\\ndef __mul__(self, factor):\\n    \\\"\\\"\\\"Multiplies by a scalar.\\\"\\\"\\\"\\n    return Normal(factor * self.mu, factor**2 * self.sigma2)\";\n",
       "                var nbb_formatted_code = \"%%add_method_to Normal\\n\\n\\ndef __mul__(self, factor):\\n    \\\"\\\"\\\"Multiplies by a scalar.\\\"\\\"\\\"\\n    return Normal(factor * self.mu, factor**2 * self.sigma2)\";\n",
       "                var nbb_cells = Jupyter.notebook.get_cells();\n",
       "                for (var i = 0; i < nbb_cells.length; ++i) {\n",
       "                    if (nbb_cells[i].input_prompt_number == nbb_cell_id) {\n",
       "                        if (nbb_cells[i].get_text() == nbb_unformatted_code) {\n",
       "                             nbb_cells[i].set_text(nbb_formatted_code);\n",
       "                        }\n",
       "                        break;\n",
       "                    }\n",
       "                }\n",
       "            }, 500);\n",
       "            "
      ],
      "text/plain": [
       "<IPython.core.display.Javascript object>"
      ]
     },
     "metadata": {},
     "output_type": "display_data"
    }
   ],
   "source": [
    "%%add_method_to Normal\n",
    "\n",
    "\n",
    "def __mul__(self, factor):\n",
    "    \"\"\"Multiplies by a scalar.\"\"\"\n",
    "    return Normal(factor * self.mu, factor**2 * self.sigma2)"
   ]
  },
  {
   "cell_type": "code",
   "execution_count": 85,
   "id": "99d5b7eb",
   "metadata": {},
   "outputs": [
    {
     "data": {
      "application/javascript": [
       "\n",
       "            setTimeout(function() {\n",
       "                var nbb_cell_id = 85;\n",
       "                var nbb_unformatted_code = \"dist_mean_male = dist_sums * (1 / n)\\nsample_means_male = np.array(sample_sums_male) / n\";\n",
       "                var nbb_formatted_code = \"dist_mean_male = dist_sums * (1 / n)\\nsample_means_male = np.array(sample_sums_male) / n\";\n",
       "                var nbb_cells = Jupyter.notebook.get_cells();\n",
       "                for (var i = 0; i < nbb_cells.length; ++i) {\n",
       "                    if (nbb_cells[i].input_prompt_number == nbb_cell_id) {\n",
       "                        if (nbb_cells[i].get_text() == nbb_unformatted_code) {\n",
       "                             nbb_cells[i].set_text(nbb_formatted_code);\n",
       "                        }\n",
       "                        break;\n",
       "                    }\n",
       "                }\n",
       "            }, 500);\n",
       "            "
      ],
      "text/plain": [
       "<IPython.core.display.Javascript object>"
      ]
     },
     "metadata": {},
     "output_type": "display_data"
    }
   ],
   "source": [
    "dist_mean_male = dist_sums * (1 / n)\n",
    "sample_means_male = np.array(sample_sums_male) / n"
   ]
  },
  {
   "cell_type": "code",
   "execution_count": 86,
   "id": "d43572f9",
   "metadata": {},
   "outputs": [
    {
     "data": {
      "image/png": "[encoded data removed]",
      "text/plain": [
       "<Figure size 450x262.5 with 1 Axes>"
      ]
     },
     "metadata": {},
     "output_type": "display_data"
    },
    {
     "data": {
      "application/javascript": [
       "\n",
       "            setTimeout(function() {\n",
       "                var nbb_cell_id = 86;\n",
       "                var nbb_unformatted_code = \"dist_mean_male.plot_cdf(**model_options)\\nCdf.from_seq(sample_means_male).plot(label=\\\"sample\\\")\\n\\ndecorate(xlabel=\\\"Average weight (g)\\\", ylabel=\\\"CDF\\\")\";\n",
       "                var nbb_formatted_code = \"dist_mean_male.plot_cdf(**model_options)\\nCdf.from_seq(sample_means_male).plot(label=\\\"sample\\\")\\n\\ndecorate(xlabel=\\\"Average weight (g)\\\", ylabel=\\\"CDF\\\")\";\n",
       "                var nbb_cells = Jupyter.notebook.get_cells();\n",
       "                for (var i = 0; i < nbb_cells.length; ++i) {\n",
       "                    if (nbb_cells[i].input_prompt_number == nbb_cell_id) {\n",
       "                        if (nbb_cells[i].get_text() == nbb_unformatted_code) {\n",
       "                             nbb_cells[i].set_text(nbb_formatted_code);\n",
       "                        }\n",
       "                        break;\n",
       "                    }\n",
       "                }\n",
       "            }, 500);\n",
       "            "
      ],
      "text/plain": [
       "<IPython.core.display.Javascript object>"
      ]
     },
     "metadata": {},
     "output_type": "display_data"
    }
   ],
   "source": [
    "dist_mean_male.plot_cdf(**model_options)\n",
    "Cdf.from_seq(sample_means_male).plot(label=\"sample\")\n",
    "\n",
    "decorate(xlabel=\"Average weight (g)\", ylabel=\"CDF\")"
   ]
  },
  {
   "cell_type": "code",
   "execution_count": 87,
   "id": "288384ab",
   "metadata": {},
   "outputs": [
    {
     "data": {
      "text/plain": [
       "40.31224126899585"
      ]
     },
     "execution_count": 87,
     "metadata": {},
     "output_type": "execute_result"
    },
    {
     "data": {
      "application/javascript": [
       "\n",
       "            setTimeout(function() {\n",
       "                var nbb_cell_id = 87;\n",
       "                var nbb_unformatted_code = \"standard_error = np.sqrt(dist_mean.sigma2)\\nstandard_error\";\n",
       "                var nbb_formatted_code = \"standard_error = np.sqrt(dist_mean.sigma2)\\nstandard_error\";\n",
       "                var nbb_cells = Jupyter.notebook.get_cells();\n",
       "                for (var i = 0; i < nbb_cells.length; ++i) {\n",
       "                    if (nbb_cells[i].input_prompt_number == nbb_cell_id) {\n",
       "                        if (nbb_cells[i].get_text() == nbb_unformatted_code) {\n",
       "                             nbb_cells[i].set_text(nbb_formatted_code);\n",
       "                        }\n",
       "                        break;\n",
       "                    }\n",
       "                }\n",
       "            }, 500);\n",
       "            "
      ],
      "text/plain": [
       "<IPython.core.display.Javascript object>"
      ]
     },
     "metadata": {},
     "output_type": "display_data"
    }
   ],
   "source": [
    "standard_error = np.sqrt(dist_mean.sigma2)\n",
    "standard_error"
   ]
  },
  {
   "cell_type": "code",
   "execution_count": 88,
   "id": "c2ed43cb",
   "metadata": {},
   "outputs": [
    {
     "data": {
      "text/plain": [
       "40.31224126899585"
      ]
     },
     "execution_count": 88,
     "metadata": {},
     "output_type": "execute_result"
    },
    {
     "data": {
      "application/javascript": [
       "\n",
       "            setTimeout(function() {\n",
       "                var nbb_cell_id = 88;\n",
       "                var nbb_unformatted_code = \"standard_error = np.std(weights_male) / np.sqrt(n)\\nstandard_error\";\n",
       "                var nbb_formatted_code = \"standard_error = np.std(weights_male) / np.sqrt(n)\\nstandard_error\";\n",
       "                var nbb_cells = Jupyter.notebook.get_cells();\n",
       "                for (var i = 0; i < nbb_cells.length; ++i) {\n",
       "                    if (nbb_cells[i].input_prompt_number == nbb_cell_id) {\n",
       "                        if (nbb_cells[i].get_text() == nbb_unformatted_code) {\n",
       "                             nbb_cells[i].set_text(nbb_formatted_code);\n",
       "                        }\n",
       "                        break;\n",
       "                    }\n",
       "                }\n",
       "            }, 500);\n",
       "            "
      ],
      "text/plain": [
       "<IPython.core.display.Javascript object>"
      ]
     },
     "metadata": {},
     "output_type": "display_data"
    }
   ],
   "source": [
    "standard_error = np.std(weights_male) / np.sqrt(n)\n",
    "standard_error"
   ]
  },
  {
   "cell_type": "code",
   "execution_count": null,
   "id": "2c3b04ac",
   "metadata": {},
   "outputs": [],
   "source": []
  },
  {
   "cell_type": "code",
   "execution_count": 90,
   "id": "dfb669f8",
   "metadata": {},
   "outputs": [
    {
     "data": {
      "text/plain": [
       "Normal(3368.835616438356, 980.4327317315181)"
      ]
     },
     "execution_count": 90,
     "metadata": {},
     "output_type": "execute_result"
    },
    {
     "data": {
      "application/javascript": [
       "\n",
       "            setTimeout(function() {\n",
       "                var nbb_cell_id = 90;\n",
       "                var nbb_unformatted_code = \"n = len(weights_female)\\ndist_mean_female = dist_female.sum(n) * (1 / n)\\ndist_mean_female\";\n",
       "                var nbb_formatted_code = \"n = len(weights_female)\\ndist_mean_female = dist_female.sum(n) * (1 / n)\\ndist_mean_female\";\n",
       "                var nbb_cells = Jupyter.notebook.get_cells();\n",
       "                for (var i = 0; i < nbb_cells.length; ++i) {\n",
       "                    if (nbb_cells[i].input_prompt_number == nbb_cell_id) {\n",
       "                        if (nbb_cells[i].get_text() == nbb_unformatted_code) {\n",
       "                             nbb_cells[i].set_text(nbb_formatted_code);\n",
       "                        }\n",
       "                        break;\n",
       "                    }\n",
       "                }\n",
       "            }, 500);\n",
       "            "
      ],
      "text/plain": [
       "<IPython.core.display.Javascript object>"
      ]
     },
     "metadata": {},
     "output_type": "display_data"
    }
   ],
   "source": [
    "n = len(weights_female)\n",
    "dist_mean_female = dist_female.sum(n) * (1 / n)\n",
    "dist_mean_female"
   ]
  },
  {
   "cell_type": "code",
   "execution_count": 75,
   "id": "ccc5b615",
   "metadata": {},
   "outputs": [
    {
     "data": {
      "application/javascript": [
       "\n",
       "            setTimeout(function() {\n",
       "                var nbb_cell_id = 75;\n",
       "                var nbb_unformatted_code = \"%%add_method_to Normal\\n\\ndef __sub__(self, other):\\n    \\\"\\\"\\\"Compute the distribution of a difference.\\\"\\\"\\\"\\n    return Normal(self.mu - other.mu, self.sigma2 + other.sigma2)\";\n",
       "                var nbb_formatted_code = \"%%add_method_to Normal\\n\\ndef __sub__(self, other):\\n    \\\"\\\"\\\"Compute the distribution of a difference.\\\"\\\"\\\"\\n    return Normal(self.mu - other.mu, self.sigma2 + other.sigma2)\";\n",
       "                var nbb_cells = Jupyter.notebook.get_cells();\n",
       "                for (var i = 0; i < nbb_cells.length; ++i) {\n",
       "                    if (nbb_cells[i].input_prompt_number == nbb_cell_id) {\n",
       "                        if (nbb_cells[i].get_text() == nbb_unformatted_code) {\n",
       "                             nbb_cells[i].set_text(nbb_formatted_code);\n",
       "                        }\n",
       "                        break;\n",
       "                    }\n",
       "                }\n",
       "            }, 500);\n",
       "            "
      ],
      "text/plain": [
       "<IPython.core.display.Javascript object>"
      ]
     },
     "metadata": {},
     "output_type": "display_data"
    },
    {
     "data": {
      "application/javascript": [
       "\n",
       "            setTimeout(function() {\n",
       "                var nbb_cell_id = 75;\n",
       "                var nbb_unformatted_code = \"%%add_method_to Normal\\n\\ndef __sub__(self, other):\\n    \\\"\\\"\\\"Compute the distribution of a difference.\\\"\\\"\\\"\\n    return Normal(self.mu - other.mu, self.sigma2 + other.sigma2)\";\n",
       "                var nbb_formatted_code = \"%%add_method_to Normal\\n\\ndef __sub__(self, other):\\n    \\\"\\\"\\\"Compute the distribution of a difference.\\\"\\\"\\\"\\n    return Normal(self.mu - other.mu, self.sigma2 + other.sigma2)\";\n",
       "                var nbb_cells = Jupyter.notebook.get_cells();\n",
       "                for (var i = 0; i < nbb_cells.length; ++i) {\n",
       "                    if (nbb_cells[i].input_prompt_number == nbb_cell_id) {\n",
       "                        if (nbb_cells[i].get_text() == nbb_unformatted_code) {\n",
       "                             nbb_cells[i].set_text(nbb_formatted_code);\n",
       "                        }\n",
       "                        break;\n",
       "                    }\n",
       "                }\n",
       "            }, 500);\n",
       "            "
      ],
      "text/plain": [
       "<IPython.core.display.Javascript object>"
      ]
     },
     "metadata": {},
     "output_type": "display_data"
    }
   ],
   "source": [
    "%%add_method_to Normal\n",
    "\n",
    "def __sub__(self, other):\n",
    "    \"\"\"Compute the distribution of a difference.\"\"\"\n",
    "    return Normal(self.mu - other.mu, self.sigma2 + other.sigma2)"
   ]
  },
  {
   "cell_type": "code",
   "execution_count": 91,
   "id": "a5a76915",
   "metadata": {},
   "outputs": [
    {
     "data": {
      "text/plain": [
       "Normal(674.6575342465753, 2605.50952786125)"
      ]
     },
     "execution_count": 91,
     "metadata": {},
     "output_type": "execute_result"
    },
    {
     "data": {
      "application/javascript": [
       "\n",
       "            setTimeout(function() {\n",
       "                var nbb_cell_id = 91;\n",
       "                var nbb_unformatted_code = \"dist_diff_means = dist_mean_male - dist_mean_female\\ndist_diff_means\";\n",
       "                var nbb_formatted_code = \"dist_diff_means = dist_mean_male - dist_mean_female\\ndist_diff_means\";\n",
       "                var nbb_cells = Jupyter.notebook.get_cells();\n",
       "                for (var i = 0; i < nbb_cells.length; ++i) {\n",
       "                    if (nbb_cells[i].input_prompt_number == nbb_cell_id) {\n",
       "                        if (nbb_cells[i].get_text() == nbb_unformatted_code) {\n",
       "                             nbb_cells[i].set_text(nbb_formatted_code);\n",
       "                        }\n",
       "                        break;\n",
       "                    }\n",
       "                }\n",
       "            }, 500);\n",
       "            "
      ],
      "text/plain": [
       "<IPython.core.display.Javascript object>"
      ]
     },
     "metadata": {},
     "output_type": "display_data"
    }
   ],
   "source": [
    "dist_diff_means = dist_mean_male - dist_mean_female\n",
    "dist_diff_means"
   ]
  },
  {
   "cell_type": "code",
   "execution_count": 92,
   "id": "ce97b0e4",
   "metadata": {},
   "outputs": [
    {
     "data": {
      "application/javascript": [
       "\n",
       "            setTimeout(function() {\n",
       "                var nbb_cell_id = 92;\n",
       "                var nbb_unformatted_code = \"sample_sums_female = [dist_female.sample(n).sum() for i in range(1001)]\\nsample_means_female = np.array(sample_sums_female) / n\";\n",
       "                var nbb_formatted_code = \"sample_sums_female = [dist_female.sample(n).sum() for i in range(1001)]\\nsample_means_female = np.array(sample_sums_female) / n\";\n",
       "                var nbb_cells = Jupyter.notebook.get_cells();\n",
       "                for (var i = 0; i < nbb_cells.length; ++i) {\n",
       "                    if (nbb_cells[i].input_prompt_number == nbb_cell_id) {\n",
       "                        if (nbb_cells[i].get_text() == nbb_unformatted_code) {\n",
       "                             nbb_cells[i].set_text(nbb_formatted_code);\n",
       "                        }\n",
       "                        break;\n",
       "                    }\n",
       "                }\n",
       "            }, 500);\n",
       "            "
      ],
      "text/plain": [
       "<IPython.core.display.Javascript object>"
      ]
     },
     "metadata": {},
     "output_type": "display_data"
    }
   ],
   "source": [
    "sample_sums_female = [dist_female.sample(n).sum() for i in range(1001)]\n",
    "sample_means_female = np.array(sample_sums_female) / n"
   ]
  },
  {
   "cell_type": "code",
   "execution_count": 94,
   "id": "7f9ee032",
   "metadata": {},
   "outputs": [
    {
     "data": {
      "application/javascript": [
       "\n",
       "            setTimeout(function() {\n",
       "                var nbb_cell_id = 94;\n",
       "                var nbb_unformatted_code = \"sample_diff_means = sample_means_male - sample_means_female\";\n",
       "                var nbb_formatted_code = \"sample_diff_means = sample_means_male - sample_means_female\";\n",
       "                var nbb_cells = Jupyter.notebook.get_cells();\n",
       "                for (var i = 0; i < nbb_cells.length; ++i) {\n",
       "                    if (nbb_cells[i].input_prompt_number == nbb_cell_id) {\n",
       "                        if (nbb_cells[i].get_text() == nbb_unformatted_code) {\n",
       "                             nbb_cells[i].set_text(nbb_formatted_code);\n",
       "                        }\n",
       "                        break;\n",
       "                    }\n",
       "                }\n",
       "            }, 500);\n",
       "            "
      ],
      "text/plain": [
       "<IPython.core.display.Javascript object>"
      ]
     },
     "metadata": {},
     "output_type": "display_data"
    }
   ],
   "source": [
    "sample_diff_means = sample_means_male - sample_means_female"
   ]
  },
  {
   "cell_type": "code",
   "execution_count": 95,
   "id": "5a3c4db5",
   "metadata": {},
   "outputs": [
    {
     "data": {
      "image/png": "[encoded data removed]",
      "text/plain": [
       "<Figure size 450x262.5 with 1 Axes>"
      ]
     },
     "metadata": {},
     "output_type": "display_data"
    },
    {
     "data": {
      "application/javascript": [
       "\n",
       "            setTimeout(function() {\n",
       "                var nbb_cell_id = 95;\n",
       "                var nbb_unformatted_code = \"dist_diff_means.plot_cdf(**model_options)\\nCdf.from_seq(sample_diff_means).plot(label=\\\"sample\\\")\\n\\ndecorate(xlabel=\\\"Difference in average weight (g)\\\", ylabel=\\\"CDF\\\")\";\n",
       "                var nbb_formatted_code = \"dist_diff_means.plot_cdf(**model_options)\\nCdf.from_seq(sample_diff_means).plot(label=\\\"sample\\\")\\n\\ndecorate(xlabel=\\\"Difference in average weight (g)\\\", ylabel=\\\"CDF\\\")\";\n",
       "                var nbb_cells = Jupyter.notebook.get_cells();\n",
       "                for (var i = 0; i < nbb_cells.length; ++i) {\n",
       "                    if (nbb_cells[i].input_prompt_number == nbb_cell_id) {\n",
       "                        if (nbb_cells[i].get_text() == nbb_unformatted_code) {\n",
       "                             nbb_cells[i].set_text(nbb_formatted_code);\n",
       "                        }\n",
       "                        break;\n",
       "                    }\n",
       "                }\n",
       "            }, 500);\n",
       "            "
      ],
      "text/plain": [
       "<IPython.core.display.Javascript object>"
      ]
     },
     "metadata": {},
     "output_type": "display_data"
    }
   ],
   "source": [
    "dist_diff_means.plot_cdf(**model_options)\n",
    "Cdf.from_seq(sample_diff_means).plot(label=\"sample\")\n",
    "\n",
    "decorate(xlabel=\"Difference in average weight (g)\", ylabel=\"CDF\")"
   ]
  },
  {
   "cell_type": "markdown",
   "id": "b34c147b",
   "metadata": {},
   "source": [
    "But that only works if the distribution of measurements is normal.\n",
    "Or does it???"
   ]
  },
  {
   "cell_type": "markdown",
   "id": "9d753c4a",
   "metadata": {},
   "source": [
    "## Sampling distributions\n",
    "\n",
    "Now we have everything we need to compute the sampling distribution of $\\bar{x}$.\n",
    "Remember that we compute $\\bar{x}$ by weighing $n$ gorillas, adding up the total weight, and dividing by $n$.\n",
    "\n",
    "Assume that the distribution of gorilla weights, $X$, is approximately normal: \n",
    "\n",
    "$$X \\sim `Normal`~(\\mu, \\sigma^2)$$ \n",
    "\n",
    "If we weigh $n$ gorillas, the total weight, $Y$, is distributed \n",
    "\n",
    "$$Y \\sim `Normal`~(n \\mu, n \\sigma^2)$$\n",
    "\n",
    "using Equation 3. And if we divide by $n$, the sample mean, $Z$, is distributed \n",
    "\n",
    "$$Z \\sim `Normal`~(\\mu, \\sigma^2/n)$$ \n",
    "\n",
    "using Equation 1 with $a = 1/n$.\n",
    "\n",
    "The distribution of $Z$ is the sampling distribution of $\\bar{x}$.\n",
    "The mean of $Z$ is $\\mu$, which shows that $\\bar{x}$ is an unbiased estimate of $\\mu$.\n",
    "The variance of the sampling distribution is $\\sigma^2 / n$.\n",
    "\n",
    "So the standard deviation of the sampling distribution, which is the standard error of the estimate, is $\\sigma / \\sqrt{n}$.\n",
    "In the example, $\\sigma$ is 7.5 kg and $n$ is 9, so the standard error is 2.5 kg. That result is consistent with what we estimated by simulation, but much faster to compute!"
   ]
  },
  {
   "cell_type": "markdown",
   "id": "ea501ca9",
   "metadata": {},
   "source": [
    "We can also use the sampling distribution to compute confidence intervals.\n",
    "A 90% confidence interval for $\\bar{x}$ is the interval between the 5th and 95th percentiles of $Z$.\n",
    "Since $Z$ is normally distributed, we can compute percentiles by evaluating the inverse CDF.\n",
    "\n",
    "There is no closed form for the CDF of the normal distribution or its inverse, but there are fast numerical methods and they are implemented in SciPy.\n",
    "`thinkstats2` provides a wrapper function that makes the SciPy function a little easier to use:"
   ]
  },
  {
   "cell_type": "code",
   "execution_count": 5,
   "id": "6746d20a",
   "metadata": {},
   "outputs": [
    {
     "data": {
      "application/javascript": [
       "\n",
       "            setTimeout(function() {\n",
       "                var nbb_cell_id = 5;\n",
       "                var nbb_unformatted_code = \"from scipy.stats import norm\\n\\n\\ndef eval_normal_cdf_inverse(p, mu=0, sigma=1):\\n    return norm.ppf(p, loc=mu, scale=sigma)\";\n",
       "                var nbb_formatted_code = \"from scipy.stats import norm\\n\\n\\ndef eval_normal_cdf_inverse(p, mu=0, sigma=1):\\n    return norm.ppf(p, loc=mu, scale=sigma)\";\n",
       "                var nbb_cells = Jupyter.notebook.get_cells();\n",
       "                for (var i = 0; i < nbb_cells.length; ++i) {\n",
       "                    if (nbb_cells[i].input_prompt_number == nbb_cell_id) {\n",
       "                        if (nbb_cells[i].get_text() == nbb_unformatted_code) {\n",
       "                             nbb_cells[i].set_text(nbb_formatted_code);\n",
       "                        }\n",
       "                        break;\n",
       "                    }\n",
       "                }\n",
       "            }, 500);\n",
       "            "
      ],
      "text/plain": [
       "<IPython.core.display.Javascript object>"
      ]
     },
     "metadata": {},
     "output_type": "display_data"
    }
   ],
   "source": [
    "from scipy.stats import norm\n",
    "\n",
    "\n",
    "def eval_normal_cdf_inverse(p, mu=0, sigma=1):\n",
    "    return norm.ppf(p, loc=mu, scale=sigma)"
   ]
  },
  {
   "cell_type": "markdown",
   "id": "96d84578",
   "metadata": {},
   "source": [
    "Given a probability, `p`, it returns the corresponding percentile from a normal distribution with parameters `mu` and `sigma`.\n",
    "For the 90% confidence interval of $\\bar{x}$, we compute the 5th and 95th percentiles like this:"
   ]
  },
  {
   "cell_type": "code",
   "execution_count": 6,
   "id": "24e98507",
   "metadata": {},
   "outputs": [
    {
     "data": {
      "text/plain": [
       "85.88786593262132"
      ]
     },
     "execution_count": 6,
     "metadata": {},
     "output_type": "execute_result"
    },
    {
     "data": {
      "application/javascript": [
       "\n",
       "            setTimeout(function() {\n",
       "                var nbb_cell_id = 6;\n",
       "                var nbb_unformatted_code = \"eval_normal_cdf_inverse(0.05, mu=90, sigma=2.5)\";\n",
       "                var nbb_formatted_code = \"eval_normal_cdf_inverse(0.05, mu=90, sigma=2.5)\";\n",
       "                var nbb_cells = Jupyter.notebook.get_cells();\n",
       "                for (var i = 0; i < nbb_cells.length; ++i) {\n",
       "                    if (nbb_cells[i].input_prompt_number == nbb_cell_id) {\n",
       "                        if (nbb_cells[i].get_text() == nbb_unformatted_code) {\n",
       "                             nbb_cells[i].set_text(nbb_formatted_code);\n",
       "                        }\n",
       "                        break;\n",
       "                    }\n",
       "                }\n",
       "            }, 500);\n",
       "            "
      ],
      "text/plain": [
       "<IPython.core.display.Javascript object>"
      ]
     },
     "metadata": {},
     "output_type": "display_data"
    }
   ],
   "source": [
    "eval_normal_cdf_inverse(0.05, mu=90, sigma=2.5)"
   ]
  },
  {
   "cell_type": "code",
   "execution_count": 7,
   "id": "5c0f1b48",
   "metadata": {},
   "outputs": [
    {
     "data": {
      "text/plain": [
       "94.11213406737868"
      ]
     },
     "execution_count": 7,
     "metadata": {},
     "output_type": "execute_result"
    },
    {
     "data": {
      "application/javascript": [
       "\n",
       "            setTimeout(function() {\n",
       "                var nbb_cell_id = 7;\n",
       "                var nbb_unformatted_code = \"eval_normal_cdf_inverse(0.95, mu=90, sigma=2.5)\";\n",
       "                var nbb_formatted_code = \"eval_normal_cdf_inverse(0.95, mu=90, sigma=2.5)\";\n",
       "                var nbb_cells = Jupyter.notebook.get_cells();\n",
       "                for (var i = 0; i < nbb_cells.length; ++i) {\n",
       "                    if (nbb_cells[i].input_prompt_number == nbb_cell_id) {\n",
       "                        if (nbb_cells[i].get_text() == nbb_unformatted_code) {\n",
       "                             nbb_cells[i].set_text(nbb_formatted_code);\n",
       "                        }\n",
       "                        break;\n",
       "                    }\n",
       "                }\n",
       "            }, 500);\n",
       "            "
      ],
      "text/plain": [
       "<IPython.core.display.Javascript object>"
      ]
     },
     "metadata": {},
     "output_type": "display_data"
    }
   ],
   "source": [
    "eval_normal_cdf_inverse(0.95, mu=90, sigma=2.5)"
   ]
  },
  {
   "cell_type": "markdown",
   "id": "5131aba9",
   "metadata": {},
   "source": [
    "So if we run the experiment many times, we expect the estimate, $\\bar{x}$, to fall in the range $(85.9, 94.1)$ about 90% of the time.\n",
    "Again, this is consistent with the result we got by simulation."
   ]
  },
  {
   "cell_type": "markdown",
   "id": "7a60bc2c",
   "metadata": {},
   "source": [
    "## Representing normal distributions\n",
    "\n",
    "To make these calculations easier, I have defined a class called `Normal` that represents a normal distribution and encodes the equations in the previous sections.\n",
    "Here's what it looks like:"
   ]
  },
  {
   "cell_type": "raw",
   "id": "812e8911",
   "metadata": {},
   "source": [
    "class Normal(object):\n",
    "\n",
    "    def __init__(self, mu, sigma2):\n",
    "        self.mu = mu\n",
    "        self.sigma2 = sigma2\n",
    "\n",
    "    def __str__(self):\n",
    "        return \"N(%g, %g)\" % (self.mu, self.sigma2)\n",
    "\n",
    "    def sum(self, n):\n",
    "        return Normal(n * self.mu, n * self.sigma2)\n",
    "\n",
    "    def __mul__(self, factor):\n",
    "        return Normal(factor * self.mu, factor**2 * self.sigma2)\n",
    "\n",
    "    def __divide__(self, divisor):\n",
    "        return 1 / divisor * self"
   ]
  },
  {
   "cell_type": "markdown",
   "id": "6f93b2c3",
   "metadata": {},
   "source": [
    "So we can instantiate a `Normal` that represents the distribution of gorilla weights:"
   ]
  },
  {
   "cell_type": "code",
   "execution_count": 8,
   "id": "2ef7229c",
   "metadata": {},
   "outputs": [
    {
     "data": {
      "application/javascript": [
       "\n",
       "            setTimeout(function() {\n",
       "                var nbb_cell_id = 8;\n",
       "                var nbb_unformatted_code = \"from thinkstats import Normal\\n\\ndist = Normal(90, 7.5**2)\";\n",
       "                var nbb_formatted_code = \"from thinkstats import Normal\\n\\ndist = Normal(90, 7.5**2)\";\n",
       "                var nbb_cells = Jupyter.notebook.get_cells();\n",
       "                for (var i = 0; i < nbb_cells.length; ++i) {\n",
       "                    if (nbb_cells[i].input_prompt_number == nbb_cell_id) {\n",
       "                        if (nbb_cells[i].get_text() == nbb_unformatted_code) {\n",
       "                             nbb_cells[i].set_text(nbb_formatted_code);\n",
       "                        }\n",
       "                        break;\n",
       "                    }\n",
       "                }\n",
       "            }, 500);\n",
       "            "
      ],
      "text/plain": [
       "<IPython.core.display.Javascript object>"
      ]
     },
     "metadata": {},
     "output_type": "display_data"
    }
   ],
   "source": [
    "from thinkstats import Normal\n",
    "\n",
    "dist = Normal(90, 7.5**2)"
   ]
  },
  {
   "cell_type": "markdown",
   "id": "e33ba377",
   "metadata": {},
   "source": [
    "`Normal` provides `sum`, which takes a sample size, `n`, and returns the distribution of the sum of `n` values, using Equation 3.\n",
    "\n",
    "So we can compute the sampling distribution of the mean with sample size 9:"
   ]
  },
  {
   "cell_type": "code",
   "execution_count": 9,
   "id": "c027758f",
   "metadata": {},
   "outputs": [
    {
     "data": {
      "text/plain": [
       "2.5"
      ]
     },
     "execution_count": 9,
     "metadata": {},
     "output_type": "execute_result"
    },
    {
     "data": {
      "application/javascript": [
       "\n",
       "            setTimeout(function() {\n",
       "                var nbb_cell_id = 9;\n",
       "                var nbb_unformatted_code = \"dist_xbar = dist.sum(9) / 9\\ndist_xbar.sigma\";\n",
       "                var nbb_formatted_code = \"dist_xbar = dist.sum(9) / 9\\ndist_xbar.sigma\";\n",
       "                var nbb_cells = Jupyter.notebook.get_cells();\n",
       "                for (var i = 0; i < nbb_cells.length; ++i) {\n",
       "                    if (nbb_cells[i].input_prompt_number == nbb_cell_id) {\n",
       "                        if (nbb_cells[i].get_text() == nbb_unformatted_code) {\n",
       "                             nbb_cells[i].set_text(nbb_formatted_code);\n",
       "                        }\n",
       "                        break;\n",
       "                    }\n",
       "                }\n",
       "            }, 500);\n",
       "            "
      ],
      "text/plain": [
       "<IPython.core.display.Javascript object>"
      ]
     },
     "metadata": {},
     "output_type": "display_data"
    }
   ],
   "source": [
    "dist_xbar = dist.sum(9) / 9\n",
    "dist_xbar.sigma"
   ]
  },
  {
   "cell_type": "markdown",
   "id": "7122f409",
   "metadata": {},
   "source": [
    "The standard deviation of the sampling distribution is 2.5 kg, as we saw in the previous section.\n",
    "Finally, `Normal` provides `percentile`, which we can use to compute a confidence interval:"
   ]
  },
  {
   "cell_type": "code",
   "execution_count": 10,
   "id": "e33ee8c0",
   "metadata": {},
   "outputs": [
    {
     "data": {
      "text/plain": [
       "(85.88786593262132, 94.11213406737868)"
      ]
     },
     "execution_count": 10,
     "metadata": {},
     "output_type": "execute_result"
    },
    {
     "data": {
      "application/javascript": [
       "\n",
       "            setTimeout(function() {\n",
       "                var nbb_cell_id = 10;\n",
       "                var nbb_unformatted_code = \"dist_xbar.percentile(5), dist_xbar.percentile(95)\";\n",
       "                var nbb_formatted_code = \"dist_xbar.percentile(5), dist_xbar.percentile(95)\";\n",
       "                var nbb_cells = Jupyter.notebook.get_cells();\n",
       "                for (var i = 0; i < nbb_cells.length; ++i) {\n",
       "                    if (nbb_cells[i].input_prompt_number == nbb_cell_id) {\n",
       "                        if (nbb_cells[i].get_text() == nbb_unformatted_code) {\n",
       "                             nbb_cells[i].set_text(nbb_formatted_code);\n",
       "                        }\n",
       "                        break;\n",
       "                    }\n",
       "                }\n",
       "            }, 500);\n",
       "            "
      ],
      "text/plain": [
       "<IPython.core.display.Javascript object>"
      ]
     },
     "metadata": {},
     "output_type": "display_data"
    }
   ],
   "source": [
    "dist_xbar.percentile(5), dist_xbar.percentile(95)"
   ]
  },
  {
   "cell_type": "markdown",
   "id": "54c8288d",
   "metadata": {},
   "source": [
    "And that's the same answer we got before.\n",
    "We'll use the `Normal` class again later, but before we go on, we need one more bit of analysis."
   ]
  },
  {
   "cell_type": "markdown",
   "id": "a2d7def3",
   "metadata": {},
   "source": [
    "## Central Limit Theorem\n",
    "\n",
    "As we saw in the previous sections, if we add values drawn from normal distributions, the distribution of the sum is normal.\n",
    "Most other distributions don't have this property; if we add values drawn from other distributions, the sum does not generally have an analytic distribution.\n",
    "\n",
    "But if we add up `n` values from almost any distribution, the distribution of the sum converges to normal as `n` increases.\n",
    "\n",
    "More specifically, if the distribution of the values has mean and standard deviation $\\mu$ and $\\sigma$, the distribution of the sum is approximately $`Normal`(n \\mu, n \\sigma^2)$.\n",
    "\n",
    "This result is the Central Limit Theorem (CLT).\n",
    "It is one of the most useful tools for statistical analysis, but it comes with caveats:"
   ]
  },
  {
   "cell_type": "markdown",
   "id": "b496c8e0",
   "metadata": {},
   "source": [
    "-   The values have to be drawn independently.\n",
    "If they are correlated, the CLT doesn't apply (although this is seldom a problem in practice).\n",
    "\n",
    "-   The values have to come from the same distribution (although this requirement can be relaxed).\n",
    "\n",
    "-   The values have to be drawn from a distribution with finite mean and variance.\n",
    "So most Pareto distributions are out.\n",
    "\n",
    "-   The rate of convergence depends on the skewness of the distribution.\n",
    "Sums from an exponential distribution converge for small `n`.\n",
    "Sums from a lognormal distribution require larger sizes."
   ]
  },
  {
   "cell_type": "markdown",
   "id": "a64651d4",
   "metadata": {},
   "source": [
    "The Central Limit Theorem explains the prevalence of normal distributions in the natural world.\n",
    "Many characteristics of living things are affected by genetic and environmental factors whose effect is additive.\n",
    "The characteristics we measure are the sum of a large number of small effects, so their distribution tends to be normal."
   ]
  },
  {
   "cell_type": "markdown",
   "id": "f3d89aae",
   "metadata": {},
   "source": [
    "## Testing the CLT\n",
    "\n",
    "To see how the Central Limit Theorem works, and when it doesn't, let's try some experiments.\n",
    "First, we'll try an exponential distribution:"
   ]
  },
  {
   "cell_type": "code",
   "execution_count": 11,
   "id": "c3c5b9d9",
   "metadata": {},
   "outputs": [
    {
     "data": {
      "application/javascript": [
       "\n",
       "            setTimeout(function() {\n",
       "                var nbb_cell_id = 11;\n",
       "                var nbb_unformatted_code = \"def make_expo_samples(beta=2.0, iters=1000):\\n    \\\"\\\"\\\"Generates samples from an exponential distribution.\\n\\n    beta: parameter\\n    iters: number of samples to generate for each size\\n\\n    returns: list of samples\\n    \\\"\\\"\\\"\\n    samples = []\\n    for n in [1, 10, 100]:\\n        sample = [np.sum(np.random.exponential(beta, n)) for _ in range(iters)]\\n        samples.append((n, sample))\\n    return samples\";\n",
       "                var nbb_formatted_code = \"def make_expo_samples(beta=2.0, iters=1000):\\n    \\\"\\\"\\\"Generates samples from an exponential distribution.\\n\\n    beta: parameter\\n    iters: number of samples to generate for each size\\n\\n    returns: list of samples\\n    \\\"\\\"\\\"\\n    samples = []\\n    for n in [1, 10, 100]:\\n        sample = [np.sum(np.random.exponential(beta, n)) for _ in range(iters)]\\n        samples.append((n, sample))\\n    return samples\";\n",
       "                var nbb_cells = Jupyter.notebook.get_cells();\n",
       "                for (var i = 0; i < nbb_cells.length; ++i) {\n",
       "                    if (nbb_cells[i].input_prompt_number == nbb_cell_id) {\n",
       "                        if (nbb_cells[i].get_text() == nbb_unformatted_code) {\n",
       "                             nbb_cells[i].set_text(nbb_formatted_code);\n",
       "                        }\n",
       "                        break;\n",
       "                    }\n",
       "                }\n",
       "            }, 500);\n",
       "            "
      ],
      "text/plain": [
       "<IPython.core.display.Javascript object>"
      ]
     },
     "metadata": {},
     "output_type": "display_data"
    }
   ],
   "source": [
    "def make_expo_samples(beta=2.0, iters=1000):\n",
    "    \"\"\"Generates samples from an exponential distribution.\n",
    "\n",
    "    beta: parameter\n",
    "    iters: number of samples to generate for each size\n",
    "\n",
    "    returns: list of samples\n",
    "    \"\"\"\n",
    "    samples = []\n",
    "    for n in [1, 10, 100]:\n",
    "        sample = [np.sum(np.random.exponential(beta, n)) for _ in range(iters)]\n",
    "        samples.append((n, sample))\n",
    "    return samples"
   ]
  },
  {
   "cell_type": "markdown",
   "id": "6e6d3d30",
   "metadata": {},
   "source": [
    "`make_expo_samples` generates samples of sums of exponential values (I use \"exponential values\" as shorthand for \"values from an exponential distribution\").\n",
    "`beta` is the parameter of the distribution; `iters` is the number of sums to generate.\n",
    "\n",
    "To explain this function, I'll start from the inside and work my way out.\n",
    "Each time we call `np.random.exponential`, we get a sequence of `n` exponential values and compute its sum.\n",
    "`sample` is a list of these sums, with length `iters`.\n",
    "\n",
    "It is easy to get `n` and `iters` confused: `n` is the number of terms in each sum; `iters` is the number of sums we compute in order to characterize the distribution of sums.\n",
    "\n",
    "The return value is a list of `(n, sample)` pairs.\n",
    "For each pair, we make a normal probability plot:"
   ]
  },
  {
   "cell_type": "code",
   "execution_count": 13,
   "id": "8f957be2",
   "metadata": {},
   "outputs": [
    {
     "data": {
      "application/javascript": [
       "\n",
       "            setTimeout(function() {\n",
       "                var nbb_cell_id = 13;\n",
       "                var nbb_unformatted_code = \"def normal_plot_samples(samples, plot=1, ylabel=\\\"\\\"):\\n    \\\"\\\"\\\"Makes normal probability plots for samples.\\n\\n    samples: list of samples\\n    label: string\\n    \\\"\\\"\\\"\\n    for n, sample in samples:\\n        plt.subplot(1, 3, plot)\\n        normal_probability_plot(sample)\\n        decorate(\\n            title=\\\"n=%d\\\" % n,\\n            legend=False,\\n            xticks=[],\\n            yticks=[],\\n            xlabel=\\\"random normal variate\\\",\\n            ylabel=ylabel,\\n        )\\n        plot += 1\";\n",
       "                var nbb_formatted_code = \"def normal_plot_samples(samples, plot=1, ylabel=\\\"\\\"):\\n    \\\"\\\"\\\"Makes normal probability plots for samples.\\n\\n    samples: list of samples\\n    label: string\\n    \\\"\\\"\\\"\\n    for n, sample in samples:\\n        plt.subplot(1, 3, plot)\\n        normal_probability_plot(sample)\\n        decorate(\\n            title=\\\"n=%d\\\" % n,\\n            legend=False,\\n            xticks=[],\\n            yticks=[],\\n            xlabel=\\\"random normal variate\\\",\\n            ylabel=ylabel,\\n        )\\n        plot += 1\";\n",
       "                var nbb_cells = Jupyter.notebook.get_cells();\n",
       "                for (var i = 0; i < nbb_cells.length; ++i) {\n",
       "                    if (nbb_cells[i].input_prompt_number == nbb_cell_id) {\n",
       "                        if (nbb_cells[i].get_text() == nbb_unformatted_code) {\n",
       "                             nbb_cells[i].set_text(nbb_formatted_code);\n",
       "                        }\n",
       "                        break;\n",
       "                    }\n",
       "                }\n",
       "            }, 500);\n",
       "            "
      ],
      "text/plain": [
       "<IPython.core.display.Javascript object>"
      ]
     },
     "metadata": {},
     "output_type": "display_data"
    }
   ],
   "source": [
    "def normal_plot_samples(samples, plot=1, ylabel=\"\"):\n",
    "    \"\"\"Makes normal probability plots for samples.\n",
    "\n",
    "    samples: list of samples\n",
    "    label: string\n",
    "    \"\"\"\n",
    "    for n, sample in samples:\n",
    "        plt.subplot(1, 3, plot)\n",
    "        normal_probability_plot(sample)\n",
    "        decorate(\n",
    "            title=\"n=%d\" % n,\n",
    "            legend=False,\n",
    "            xticks=[],\n",
    "            yticks=[],\n",
    "            xlabel=\"random normal variate\",\n",
    "            ylabel=ylabel,\n",
    "        )\n",
    "        plot += 1"
   ]
  },
  {
   "cell_type": "markdown",
   "id": "42166062",
   "metadata": {},
   "source": [
    "`normal_plot_samples` takes the list of pairs from `make_expo_samples` and generates a row of normal probability plots."
   ]
  },
  {
   "cell_type": "code",
   "execution_count": 14,
   "id": "8955b2c9",
   "metadata": {},
   "outputs": [
    {
     "data": {
      "image/png": "[encoded data removed]",
      "text/plain": [
       "<Figure size 450x262.5 with 3 Axes>"
      ]
     },
     "metadata": {},
     "output_type": "display_data"
    },
    {
     "data": {
      "application/javascript": [
       "\n",
       "            setTimeout(function() {\n",
       "                var nbb_cell_id = 14;\n",
       "                var nbb_unformatted_code = \"samples = make_expo_samples()\\nnormal_plot_samples(samples, plot=1, ylabel=\\\"sum of expo values\\\")\";\n",
       "                var nbb_formatted_code = \"samples = make_expo_samples()\\nnormal_plot_samples(samples, plot=1, ylabel=\\\"sum of expo values\\\")\";\n",
       "                var nbb_cells = Jupyter.notebook.get_cells();\n",
       "                for (var i = 0; i < nbb_cells.length; ++i) {\n",
       "                    if (nbb_cells[i].input_prompt_number == nbb_cell_id) {\n",
       "                        if (nbb_cells[i].get_text() == nbb_unformatted_code) {\n",
       "                             nbb_cells[i].set_text(nbb_formatted_code);\n",
       "                        }\n",
       "                        break;\n",
       "                    }\n",
       "                }\n",
       "            }, 500);\n",
       "            "
      ],
      "text/plain": [
       "<IPython.core.display.Javascript object>"
      ]
     },
     "metadata": {},
     "output_type": "display_data"
    }
   ],
   "source": [
    "samples = make_expo_samples()\n",
    "normal_plot_samples(samples, plot=1, ylabel=\"sum of expo values\")"
   ]
  },
  {
   "cell_type": "markdown",
   "id": "0a347e4e",
   "metadata": {},
   "source": [
    "With `n=1`, the distribution of the sum is still exponential, so the normal probability plot is not a straight line.\n",
    "But with `n=10` the distribution of the sum is approximately normal, and with `n=100` it is all but indistinguishable from normal.\n",
    "\n",
    "The following shows similar results for a lognormal distribution.\n",
    "Lognormal distributions are generally more skewed than exponential distributions, so the distribution of sums takes longer to converge.\n",
    "With `n=10` the normal probability plot is nowhere near straight, but with `n=100` it is approximately normal."
   ]
  },
  {
   "cell_type": "code",
   "execution_count": 15,
   "id": "3f2234ae",
   "metadata": {},
   "outputs": [
    {
     "data": {
      "application/javascript": [
       "\n",
       "            setTimeout(function() {\n",
       "                var nbb_cell_id = 15;\n",
       "                var nbb_unformatted_code = \"def make_lognormal_samples(mu=1.0, sigma=1.0, iters=1000):\\n    \\\"\\\"\\\"Generates samples from a lognormal distribution.\\n\\n    mu: parmeter\\n    sigma: parameter\\n    iters: number of samples to generate for each size\\n\\n    returns: list of samples\\n    \\\"\\\"\\\"\\n    samples = []\\n    for n in [1, 10, 100]:\\n        sample = [np.sum(np.random.lognormal(mu, sigma, n)) for _ in range(iters)]\\n        samples.append((n, sample))\\n    return samples\";\n",
       "                var nbb_formatted_code = \"def make_lognormal_samples(mu=1.0, sigma=1.0, iters=1000):\\n    \\\"\\\"\\\"Generates samples from a lognormal distribution.\\n\\n    mu: parmeter\\n    sigma: parameter\\n    iters: number of samples to generate for each size\\n\\n    returns: list of samples\\n    \\\"\\\"\\\"\\n    samples = []\\n    for n in [1, 10, 100]:\\n        sample = [np.sum(np.random.lognormal(mu, sigma, n)) for _ in range(iters)]\\n        samples.append((n, sample))\\n    return samples\";\n",
       "                var nbb_cells = Jupyter.notebook.get_cells();\n",
       "                for (var i = 0; i < nbb_cells.length; ++i) {\n",
       "                    if (nbb_cells[i].input_prompt_number == nbb_cell_id) {\n",
       "                        if (nbb_cells[i].get_text() == nbb_unformatted_code) {\n",
       "                             nbb_cells[i].set_text(nbb_formatted_code);\n",
       "                        }\n",
       "                        break;\n",
       "                    }\n",
       "                }\n",
       "            }, 500);\n",
       "            "
      ],
      "text/plain": [
       "<IPython.core.display.Javascript object>"
      ]
     },
     "metadata": {},
     "output_type": "display_data"
    }
   ],
   "source": [
    "def make_lognormal_samples(mu=1.0, sigma=1.0, iters=1000):\n",
    "    \"\"\"Generates samples from a lognormal distribution.\n",
    "\n",
    "    mu: parmeter\n",
    "    sigma: parameter\n",
    "    iters: number of samples to generate for each size\n",
    "\n",
    "    returns: list of samples\n",
    "    \"\"\"\n",
    "    samples = []\n",
    "    for n in [1, 10, 100]:\n",
    "        sample = [np.sum(np.random.lognormal(mu, sigma, n)) for _ in range(iters)]\n",
    "        samples.append((n, sample))\n",
    "    return samples"
   ]
  },
  {
   "cell_type": "code",
   "execution_count": 16,
   "id": "7a807d6d",
   "metadata": {},
   "outputs": [
    {
     "data": {
      "image/png": "[encoded data removed]",
      "text/plain": [
       "<Figure size 450x262.5 with 3 Axes>"
      ]
     },
     "metadata": {},
     "output_type": "display_data"
    },
    {
     "data": {
      "application/javascript": [
       "\n",
       "            setTimeout(function() {\n",
       "                var nbb_cell_id = 16;\n",
       "                var nbb_unformatted_code = \"samples = make_lognormal_samples()\\nnormal_plot_samples(samples, ylabel=\\\"sum of lognormal values\\\")\";\n",
       "                var nbb_formatted_code = \"samples = make_lognormal_samples()\\nnormal_plot_samples(samples, ylabel=\\\"sum of lognormal values\\\")\";\n",
       "                var nbb_cells = Jupyter.notebook.get_cells();\n",
       "                for (var i = 0; i < nbb_cells.length; ++i) {\n",
       "                    if (nbb_cells[i].input_prompt_number == nbb_cell_id) {\n",
       "                        if (nbb_cells[i].get_text() == nbb_unformatted_code) {\n",
       "                             nbb_cells[i].set_text(nbb_formatted_code);\n",
       "                        }\n",
       "                        break;\n",
       "                    }\n",
       "                }\n",
       "            }, 500);\n",
       "            "
      ],
      "text/plain": [
       "<IPython.core.display.Javascript object>"
      ]
     },
     "metadata": {},
     "output_type": "display_data"
    }
   ],
   "source": [
    "samples = make_lognormal_samples()\n",
    "normal_plot_samples(samples, ylabel=\"sum of lognormal values\")"
   ]
  },
  {
   "cell_type": "markdown",
   "id": "e2a4a63a",
   "metadata": {},
   "source": [
    "Pareto distributions are even more skewed than lognormal.\n",
    "Depending on the parameters, many Pareto distributions do not have finite mean and variance.\n",
    "As a result, the Central Limit Theorem does not apply.\n",
    "Figure [\\[normal2\\]](#normal2){reference-type=\"ref\" reference=\"normal2\"} (top row) shows distributions of sums of Pareto values.\n",
    "Even with `n=100` the normal probability plot is far from straight."
   ]
  },
  {
   "cell_type": "code",
   "execution_count": 17,
   "id": "7f98ab93",
   "metadata": {},
   "outputs": [
    {
     "data": {
      "application/javascript": [
       "\n",
       "            setTimeout(function() {\n",
       "                var nbb_cell_id = 17;\n",
       "                var nbb_unformatted_code = \"def make_pareto_samples(alpha=1.0, iters=1000):\\n    \\\"\\\"\\\"Generates samples from a Pareto distribution.\\n\\n    alpha: parameter\\n    iters: number of samples to generate for each size\\n\\n    returns: list of samples\\n    \\\"\\\"\\\"\\n    samples = []\\n    for n in [1, 10, 100]:\\n        sample = [np.sum(np.random.pareto(alpha, n)) for _ in range(iters)]\\n        samples.append((n, sample))\\n    return samples\";\n",
       "                var nbb_formatted_code = \"def make_pareto_samples(alpha=1.0, iters=1000):\\n    \\\"\\\"\\\"Generates samples from a Pareto distribution.\\n\\n    alpha: parameter\\n    iters: number of samples to generate for each size\\n\\n    returns: list of samples\\n    \\\"\\\"\\\"\\n    samples = []\\n    for n in [1, 10, 100]:\\n        sample = [np.sum(np.random.pareto(alpha, n)) for _ in range(iters)]\\n        samples.append((n, sample))\\n    return samples\";\n",
       "                var nbb_cells = Jupyter.notebook.get_cells();\n",
       "                for (var i = 0; i < nbb_cells.length; ++i) {\n",
       "                    if (nbb_cells[i].input_prompt_number == nbb_cell_id) {\n",
       "                        if (nbb_cells[i].get_text() == nbb_unformatted_code) {\n",
       "                             nbb_cells[i].set_text(nbb_formatted_code);\n",
       "                        }\n",
       "                        break;\n",
       "                    }\n",
       "                }\n",
       "            }, 500);\n",
       "            "
      ],
      "text/plain": [
       "<IPython.core.display.Javascript object>"
      ]
     },
     "metadata": {},
     "output_type": "display_data"
    }
   ],
   "source": [
    "def make_pareto_samples(alpha=1.0, iters=1000):\n",
    "    \"\"\"Generates samples from a Pareto distribution.\n",
    "\n",
    "    alpha: parameter\n",
    "    iters: number of samples to generate for each size\n",
    "\n",
    "    returns: list of samples\n",
    "    \"\"\"\n",
    "    samples = []\n",
    "    for n in [1, 10, 100]:\n",
    "        sample = [np.sum(np.random.pareto(alpha, n)) for _ in range(iters)]\n",
    "        samples.append((n, sample))\n",
    "    return samples"
   ]
  },
  {
   "cell_type": "code",
   "execution_count": 18,
   "id": "5a039a30",
   "metadata": {},
   "outputs": [
    {
     "data": {
      "image/png": "[encoded data removed]",
      "text/plain": [
       "<Figure size 450x262.5 with 3 Axes>"
      ]
     },
     "metadata": {},
     "output_type": "display_data"
    },
    {
     "data": {
      "application/javascript": [
       "\n",
       "            setTimeout(function() {\n",
       "                var nbb_cell_id = 18;\n",
       "                var nbb_unformatted_code = \"samples = make_pareto_samples()\\nnormal_plot_samples(samples, ylabel=\\\"sum of Pareto values\\\")\";\n",
       "                var nbb_formatted_code = \"samples = make_pareto_samples()\\nnormal_plot_samples(samples, ylabel=\\\"sum of Pareto values\\\")\";\n",
       "                var nbb_cells = Jupyter.notebook.get_cells();\n",
       "                for (var i = 0; i < nbb_cells.length; ++i) {\n",
       "                    if (nbb_cells[i].input_prompt_number == nbb_cell_id) {\n",
       "                        if (nbb_cells[i].get_text() == nbb_unformatted_code) {\n",
       "                             nbb_cells[i].set_text(nbb_formatted_code);\n",
       "                        }\n",
       "                        break;\n",
       "                    }\n",
       "                }\n",
       "            }, 500);\n",
       "            "
      ],
      "text/plain": [
       "<IPython.core.display.Javascript object>"
      ]
     },
     "metadata": {},
     "output_type": "display_data"
    }
   ],
   "source": [
    "samples = make_pareto_samples()\n",
    "normal_plot_samples(samples, ylabel=\"sum of Pareto values\")"
   ]
  },
  {
   "cell_type": "markdown",
   "id": "0cec0afd",
   "metadata": {},
   "source": [
    "I also mentioned that CLT does not apply if the values are correlated.\n",
    "To test that, I generate correlated values from an exponential distribution.\n",
    "The algorithm for generating correlated values is (1) generate correlated normal values, (2) use the normal CDF to transform the values to uniform, and (3) use the inverse exponential CDF to transform the uniform values to exponential.\n",
    "\n",
    "`generate_correlated` returns an iterator of `n` normal values with serial correlation `rho`:"
   ]
  },
  {
   "cell_type": "code",
   "execution_count": 19,
   "id": "7bf8b9c0",
   "metadata": {},
   "outputs": [
    {
     "data": {
      "application/javascript": [
       "\n",
       "            setTimeout(function() {\n",
       "                var nbb_cell_id = 19;\n",
       "                var nbb_unformatted_code = \"import random\\n\\n\\ndef generate_correlated(rho, n):\\n    \\\"\\\"\\\"Generates a sequence of correlated values from a standard normal dist.\\n\\n    rho: coefficient of correlation\\n    n: length of sequence\\n\\n    returns: iterator\\n    \\\"\\\"\\\"\\n    x = random.gauss(0, 1)\\n    yield x\\n    sigma = np.sqrt(1 - rho**2)\\n    for _ in range(n - 1):\\n        x = random.gauss(x * rho, sigma)\\n        yield x\";\n",
       "                var nbb_formatted_code = \"import random\\n\\n\\ndef generate_correlated(rho, n):\\n    \\\"\\\"\\\"Generates a sequence of correlated values from a standard normal dist.\\n\\n    rho: coefficient of correlation\\n    n: length of sequence\\n\\n    returns: iterator\\n    \\\"\\\"\\\"\\n    x = random.gauss(0, 1)\\n    yield x\\n    sigma = np.sqrt(1 - rho**2)\\n    for _ in range(n - 1):\\n        x = random.gauss(x * rho, sigma)\\n        yield x\";\n",
       "                var nbb_cells = Jupyter.notebook.get_cells();\n",
       "                for (var i = 0; i < nbb_cells.length; ++i) {\n",
       "                    if (nbb_cells[i].input_prompt_number == nbb_cell_id) {\n",
       "                        if (nbb_cells[i].get_text() == nbb_unformatted_code) {\n",
       "                             nbb_cells[i].set_text(nbb_formatted_code);\n",
       "                        }\n",
       "                        break;\n",
       "                    }\n",
       "                }\n",
       "            }, 500);\n",
       "            "
      ],
      "text/plain": [
       "<IPython.core.display.Javascript object>"
      ]
     },
     "metadata": {},
     "output_type": "display_data"
    }
   ],
   "source": [
    "import random\n",
    "\n",
    "\n",
    "def generate_correlated(rho, n):\n",
    "    \"\"\"Generates a sequence of correlated values from a standard normal dist.\n",
    "\n",
    "    rho: coefficient of correlation\n",
    "    n: length of sequence\n",
    "\n",
    "    returns: iterator\n",
    "    \"\"\"\n",
    "    x = random.gauss(0, 1)\n",
    "    yield x\n",
    "    sigma = np.sqrt(1 - rho**2)\n",
    "    for _ in range(n - 1):\n",
    "        x = random.gauss(x * rho, sigma)\n",
    "        yield x"
   ]
  },
  {
   "cell_type": "markdown",
   "id": "060814fb",
   "metadata": {},
   "source": [
    "The first value is a standard normal value.\n",
    "Each subsequent value depends on its predecessor: if the previous value is `x`, the mean of the next value is `x*rho`, with variance `1-rho**2`.\n",
    "Note that `random.gauss` takes the standard deviation as the second argument, not variance.\n",
    "\n",
    "`generate_expo_correlated` takes the resulting sequence and transforms it to exponential:"
   ]
  },
  {
   "cell_type": "code",
   "execution_count": 20,
   "id": "e0de13ae",
   "metadata": {},
   "outputs": [
    {
     "data": {
      "application/javascript": [
       "\n",
       "            setTimeout(function() {\n",
       "                var nbb_cell_id = 20;\n",
       "                var nbb_unformatted_code = \"from scipy.stats import expon\\n\\n\\ndef generate_expo_correlated(rho, n):\\n    \\\"\\\"\\\"Generates a sequence of correlated values from an exponential dist.\\n\\n    rho: coefficient of correlation\\n    n: length of sequence\\n\\n    returns: NumPy array\\n    \\\"\\\"\\\"\\n    normal = list(generate_correlated(rho, n))\\n    uniform = norm.cdf(normal)\\n    expo = expon.ppf(uniform)\\n    return expo\";\n",
       "                var nbb_formatted_code = \"from scipy.stats import expon\\n\\n\\ndef generate_expo_correlated(rho, n):\\n    \\\"\\\"\\\"Generates a sequence of correlated values from an exponential dist.\\n\\n    rho: coefficient of correlation\\n    n: length of sequence\\n\\n    returns: NumPy array\\n    \\\"\\\"\\\"\\n    normal = list(generate_correlated(rho, n))\\n    uniform = norm.cdf(normal)\\n    expo = expon.ppf(uniform)\\n    return expo\";\n",
       "                var nbb_cells = Jupyter.notebook.get_cells();\n",
       "                for (var i = 0; i < nbb_cells.length; ++i) {\n",
       "                    if (nbb_cells[i].input_prompt_number == nbb_cell_id) {\n",
       "                        if (nbb_cells[i].get_text() == nbb_unformatted_code) {\n",
       "                             nbb_cells[i].set_text(nbb_formatted_code);\n",
       "                        }\n",
       "                        break;\n",
       "                    }\n",
       "                }\n",
       "            }, 500);\n",
       "            "
      ],
      "text/plain": [
       "<IPython.core.display.Javascript object>"
      ]
     },
     "metadata": {},
     "output_type": "display_data"
    }
   ],
   "source": [
    "from scipy.stats import expon\n",
    "\n",
    "\n",
    "def generate_expo_correlated(rho, n):\n",
    "    \"\"\"Generates a sequence of correlated values from an exponential dist.\n",
    "\n",
    "    rho: coefficient of correlation\n",
    "    n: length of sequence\n",
    "\n",
    "    returns: NumPy array\n",
    "    \"\"\"\n",
    "    normal = list(generate_correlated(rho, n))\n",
    "    uniform = norm.cdf(normal)\n",
    "    expo = expon.ppf(uniform)\n",
    "    return expo"
   ]
  },
  {
   "cell_type": "markdown",
   "id": "fa600477",
   "metadata": {},
   "source": [
    "`normal` is a list of correlated normal values.\n",
    "`uniform` is a sequence of uniform values between 0 and 1. `expo` is a correlated sequence of exponential values.\n",
    "`ppf` stands for \"percent point function,\" which is another name for the inverse CDF."
   ]
  },
  {
   "cell_type": "code",
   "execution_count": 21,
   "id": "9054d1e4",
   "metadata": {},
   "outputs": [
    {
     "data": {
      "application/javascript": [
       "\n",
       "            setTimeout(function() {\n",
       "                var nbb_cell_id = 21;\n",
       "                var nbb_unformatted_code = \"def make_correlated_samples(rho=0.9, iters=1000):\\n    \\\"\\\"\\\"Generates samples from a correlated exponential distribution.\\n\\n    rho: correlation\\n    iters: number of samples to generate for each size\\n\\n    returns: list of samples\\n    \\\"\\\"\\\"\\n    samples = []\\n    for n in [1, 10, 100]:\\n        sample = [np.sum(generate_expo_correlated(rho, n)) for _ in range(iters)]\\n        samples.append((n, sample))\\n    return samples\";\n",
       "                var nbb_formatted_code = \"def make_correlated_samples(rho=0.9, iters=1000):\\n    \\\"\\\"\\\"Generates samples from a correlated exponential distribution.\\n\\n    rho: correlation\\n    iters: number of samples to generate for each size\\n\\n    returns: list of samples\\n    \\\"\\\"\\\"\\n    samples = []\\n    for n in [1, 10, 100]:\\n        sample = [np.sum(generate_expo_correlated(rho, n)) for _ in range(iters)]\\n        samples.append((n, sample))\\n    return samples\";\n",
       "                var nbb_cells = Jupyter.notebook.get_cells();\n",
       "                for (var i = 0; i < nbb_cells.length; ++i) {\n",
       "                    if (nbb_cells[i].input_prompt_number == nbb_cell_id) {\n",
       "                        if (nbb_cells[i].get_text() == nbb_unformatted_code) {\n",
       "                             nbb_cells[i].set_text(nbb_formatted_code);\n",
       "                        }\n",
       "                        break;\n",
       "                    }\n",
       "                }\n",
       "            }, 500);\n",
       "            "
      ],
      "text/plain": [
       "<IPython.core.display.Javascript object>"
      ]
     },
     "metadata": {},
     "output_type": "display_data"
    }
   ],
   "source": [
    "def make_correlated_samples(rho=0.9, iters=1000):\n",
    "    \"\"\"Generates samples from a correlated exponential distribution.\n",
    "\n",
    "    rho: correlation\n",
    "    iters: number of samples to generate for each size\n",
    "\n",
    "    returns: list of samples\n",
    "    \"\"\"\n",
    "    samples = []\n",
    "    for n in [1, 10, 100]:\n",
    "        sample = [np.sum(generate_expo_correlated(rho, n)) for _ in range(iters)]\n",
    "        samples.append((n, sample))\n",
    "    return samples"
   ]
  },
  {
   "cell_type": "markdown",
   "id": "07b9a015",
   "metadata": {},
   "source": [
    "The following figure shows distributions of sums of correlated exponential values with `rho=0.9`. The correlation slows the rate of convergence; nevertheless, with `n=100` the normal probability plot is nearly straight.\n",
    "So even though CLT does not strictly apply when the values are correlated, moderate correlations are seldom a problem in practice."
   ]
  },
  {
   "cell_type": "code",
   "execution_count": 22,
   "id": "be3de5f3",
   "metadata": {},
   "outputs": [
    {
     "data": {
      "image/png": "[encoded data removed]",
      "text/plain": [
       "<Figure size 450x262.5 with 3 Axes>"
      ]
     },
     "metadata": {},
     "output_type": "display_data"
    },
    {
     "data": {
      "application/javascript": [
       "\n",
       "            setTimeout(function() {\n",
       "                var nbb_cell_id = 22;\n",
       "                var nbb_unformatted_code = \"samples = make_correlated_samples()\\nnormal_plot_samples(samples, ylabel=\\\"sum of correlated exponential values\\\")\";\n",
       "                var nbb_formatted_code = \"samples = make_correlated_samples()\\nnormal_plot_samples(samples, ylabel=\\\"sum of correlated exponential values\\\")\";\n",
       "                var nbb_cells = Jupyter.notebook.get_cells();\n",
       "                for (var i = 0; i < nbb_cells.length; ++i) {\n",
       "                    if (nbb_cells[i].input_prompt_number == nbb_cell_id) {\n",
       "                        if (nbb_cells[i].get_text() == nbb_unformatted_code) {\n",
       "                             nbb_cells[i].set_text(nbb_formatted_code);\n",
       "                        }\n",
       "                        break;\n",
       "                    }\n",
       "                }\n",
       "            }, 500);\n",
       "            "
      ],
      "text/plain": [
       "<IPython.core.display.Javascript object>"
      ]
     },
     "metadata": {},
     "output_type": "display_data"
    }
   ],
   "source": [
    "samples = make_correlated_samples()\n",
    "normal_plot_samples(samples, ylabel=\"sum of correlated exponential values\")"
   ]
  },
  {
   "cell_type": "markdown",
   "id": "0e44ca00",
   "metadata": {},
   "source": [
    "These experiments are meant to show how the Central Limit Theorem works, and what happens when it doesn't.\n",
    "Now let's see how we can use it."
   ]
  },
  {
   "cell_type": "markdown",
   "id": "fa118107",
   "metadata": {},
   "source": [
    "## Applying the CLT\n",
    "\n",
    "To see why the Central Limit Theorem is useful, let's get back to the example in Section XXX: testing the apparent difference in mean pregnancy length for first babies and others.\n",
    "As we've seen, the apparent difference is about 0.078 weeks:"
   ]
  },
  {
   "cell_type": "code",
   "execution_count": 23,
   "id": "eb1410e5",
   "metadata": {},
   "outputs": [
    {
     "data": {
      "application/javascript": [
       "\n",
       "            setTimeout(function() {\n",
       "                var nbb_cell_id = 23;\n",
       "                var nbb_unformatted_code = \"download(\\\"https://github.com/AllenDowney/ThinkStats/raw/v3/nb/nsfg.py\\\")\\ndownload(\\\"https://github.com/AllenDowney/ThinkStats/raw/v3/data/2002FemPreg.dct\\\")\\ndownload(\\\"https://github.com/AllenDowney/ThinkStats/raw/v3/data/2002FemPreg.dat.gz\\\")\";\n",
       "                var nbb_formatted_code = \"download(\\\"https://github.com/AllenDowney/ThinkStats/raw/v3/nb/nsfg.py\\\")\\ndownload(\\\"https://github.com/AllenDowney/ThinkStats/raw/v3/data/2002FemPreg.dct\\\")\\ndownload(\\\"https://github.com/AllenDowney/ThinkStats/raw/v3/data/2002FemPreg.dat.gz\\\")\";\n",
       "                var nbb_cells = Jupyter.notebook.get_cells();\n",
       "                for (var i = 0; i < nbb_cells.length; ++i) {\n",
       "                    if (nbb_cells[i].input_prompt_number == nbb_cell_id) {\n",
       "                        if (nbb_cells[i].get_text() == nbb_unformatted_code) {\n",
       "                             nbb_cells[i].set_text(nbb_formatted_code);\n",
       "                        }\n",
       "                        break;\n",
       "                    }\n",
       "                }\n",
       "            }, 500);\n",
       "            "
      ],
      "text/plain": [
       "<IPython.core.display.Javascript object>"
      ]
     },
     "metadata": {},
     "output_type": "display_data"
    }
   ],
   "source": [
    "download(\"https://github.com/AllenDowney/ThinkStats/raw/v3/nb/nsfg.py\")\n",
    "download(\"https://github.com/AllenDowney/ThinkStats/raw/v3/data/2002FemPreg.dct\")\n",
    "download(\"https://github.com/AllenDowney/ThinkStats/raw/v3/data/2002FemPreg.dat.gz\")"
   ]
  },
  {
   "cell_type": "code",
   "execution_count": 24,
   "id": "0e95be2a",
   "metadata": {},
   "outputs": [
    {
     "data": {
      "application/javascript": [
       "\n",
       "            setTimeout(function() {\n",
       "                var nbb_cell_id = 24;\n",
       "                var nbb_unformatted_code = \"from nsfg import get_nsfg_groups\\n\\nlive, firsts, others = get_nsfg_groups()\";\n",
       "                var nbb_formatted_code = \"from nsfg import get_nsfg_groups\\n\\nlive, firsts, others = get_nsfg_groups()\";\n",
       "                var nbb_cells = Jupyter.notebook.get_cells();\n",
       "                for (var i = 0; i < nbb_cells.length; ++i) {\n",
       "                    if (nbb_cells[i].input_prompt_number == nbb_cell_id) {\n",
       "                        if (nbb_cells[i].get_text() == nbb_unformatted_code) {\n",
       "                             nbb_cells[i].set_text(nbb_formatted_code);\n",
       "                        }\n",
       "                        break;\n",
       "                    }\n",
       "                }\n",
       "            }, 500);\n",
       "            "
      ],
      "text/plain": [
       "<IPython.core.display.Javascript object>"
      ]
     },
     "metadata": {},
     "output_type": "display_data"
    }
   ],
   "source": [
    "from nsfg import get_nsfg_groups\n",
    "\n",
    "live, firsts, others = get_nsfg_groups()"
   ]
  },
  {
   "cell_type": "code",
   "execution_count": 25,
   "id": "6564a11c",
   "metadata": {},
   "outputs": [
    {
     "data": {
      "text/plain": [
       "0.07803726677754952"
      ]
     },
     "execution_count": 25,
     "metadata": {},
     "output_type": "execute_result"
    },
    {
     "data": {
      "application/javascript": [
       "\n",
       "            setTimeout(function() {\n",
       "                var nbb_cell_id = 25;\n",
       "                var nbb_unformatted_code = \"delta = firsts['prglngth'].mean() - others['prglngth'].mean()\\ndelta\";\n",
       "                var nbb_formatted_code = \"delta = firsts[\\\"prglngth\\\"].mean() - others[\\\"prglngth\\\"].mean()\\ndelta\";\n",
       "                var nbb_cells = Jupyter.notebook.get_cells();\n",
       "                for (var i = 0; i < nbb_cells.length; ++i) {\n",
       "                    if (nbb_cells[i].input_prompt_number == nbb_cell_id) {\n",
       "                        if (nbb_cells[i].get_text() == nbb_unformatted_code) {\n",
       "                             nbb_cells[i].set_text(nbb_formatted_code);\n",
       "                        }\n",
       "                        break;\n",
       "                    }\n",
       "                }\n",
       "            }, 500);\n",
       "            "
      ],
      "text/plain": [
       "<IPython.core.display.Javascript object>"
      ]
     },
     "metadata": {},
     "output_type": "display_data"
    }
   ],
   "source": [
    "delta = firsts[\"prglngth\"].mean() - others[\"prglngth\"].mean()\n",
    "delta"
   ]
  },
  {
   "cell_type": "markdown",
   "id": "4677bb23",
   "metadata": {},
   "source": [
    "Remember the logic of hypothesis testing: we compute a p-value, which is the probability of the observed difference under the null hypothesis; if it is small, we conclude that the observed difference is unlikely to be due to chance.\n",
    "\n",
    "In this example, the null hypothesis is that the distribution of pregnancy lengths is the same for first babies and others.\n",
    "So we can compute the sampling distribution of the mean like this:"
   ]
  },
  {
   "cell_type": "code",
   "execution_count": 26,
   "id": "759c7700",
   "metadata": {},
   "outputs": [
    {
     "data": {
      "application/javascript": [
       "\n",
       "            setTimeout(function() {\n",
       "                var nbb_cell_id = 26;\n",
       "                var nbb_unformatted_code = \"def sampling_dist_mean(data, n):\\n    \\\"\\\"\\\"Computes the sampling distribution of the mean.\\n\\n    data: sequence of values representing the population\\n    n: sample size\\n\\n    returns: Normal object\\n    \\\"\\\"\\\"\\n    mean, var = data.mean(), data.var()\\n    dist = Normal(mean, var)\\n    return dist.sum(n) / n\";\n",
       "                var nbb_formatted_code = \"def sampling_dist_mean(data, n):\\n    \\\"\\\"\\\"Computes the sampling distribution of the mean.\\n\\n    data: sequence of values representing the population\\n    n: sample size\\n\\n    returns: Normal object\\n    \\\"\\\"\\\"\\n    mean, var = data.mean(), data.var()\\n    dist = Normal(mean, var)\\n    return dist.sum(n) / n\";\n",
       "                var nbb_cells = Jupyter.notebook.get_cells();\n",
       "                for (var i = 0; i < nbb_cells.length; ++i) {\n",
       "                    if (nbb_cells[i].input_prompt_number == nbb_cell_id) {\n",
       "                        if (nbb_cells[i].get_text() == nbb_unformatted_code) {\n",
       "                             nbb_cells[i].set_text(nbb_formatted_code);\n",
       "                        }\n",
       "                        break;\n",
       "                    }\n",
       "                }\n",
       "            }, 500);\n",
       "            "
      ],
      "text/plain": [
       "<IPython.core.display.Javascript object>"
      ]
     },
     "metadata": {},
     "output_type": "display_data"
    }
   ],
   "source": [
    "def sampling_dist_mean(data, n):\n",
    "    \"\"\"Computes the sampling distribution of the mean.\n",
    "\n",
    "    data: sequence of values representing the population\n",
    "    n: sample size\n",
    "\n",
    "    returns: Normal object\n",
    "    \"\"\"\n",
    "    mean, var = data.mean(), data.var()\n",
    "    dist = Normal(mean, var)\n",
    "    return dist.sum(n) / n"
   ]
  },
  {
   "cell_type": "code",
   "execution_count": 27,
   "id": "0d436eda",
   "metadata": {},
   "outputs": [
    {
     "data": {
      "application/javascript": [
       "\n",
       "            setTimeout(function() {\n",
       "                var nbb_cell_id = 27;\n",
       "                var nbb_unformatted_code = \"dist1 = sampling_dist_mean(live.prglngth, len(firsts))\\ndist2 = sampling_dist_mean(live.prglngth, len(others))\";\n",
       "                var nbb_formatted_code = \"dist1 = sampling_dist_mean(live.prglngth, len(firsts))\\ndist2 = sampling_dist_mean(live.prglngth, len(others))\";\n",
       "                var nbb_cells = Jupyter.notebook.get_cells();\n",
       "                for (var i = 0; i < nbb_cells.length; ++i) {\n",
       "                    if (nbb_cells[i].input_prompt_number == nbb_cell_id) {\n",
       "                        if (nbb_cells[i].get_text() == nbb_unformatted_code) {\n",
       "                             nbb_cells[i].set_text(nbb_formatted_code);\n",
       "                        }\n",
       "                        break;\n",
       "                    }\n",
       "                }\n",
       "            }, 500);\n",
       "            "
      ],
      "text/plain": [
       "<IPython.core.display.Javascript object>"
      ]
     },
     "metadata": {},
     "output_type": "display_data"
    }
   ],
   "source": [
    "dist1 = sampling_dist_mean(live.prglngth, len(firsts))\n",
    "dist2 = sampling_dist_mean(live.prglngth, len(others))"
   ]
  },
  {
   "cell_type": "markdown",
   "id": "882fd9c6",
   "metadata": {},
   "source": [
    "Both sampling distributions are based on the same population, which is the pool of all live births.\n",
    "`SamplingDistMean` takes this sequence of values and the sample size, and returns a `Normal` object representing the sampling distribution:"
   ]
  },
  {
   "cell_type": "markdown",
   "id": "6eb7ae51",
   "metadata": {},
   "source": [
    "`mean` and `var` are the mean and variance of `data`.\n",
    "We approximate the distribution of the data with a normal distribution, `dist`.\n",
    "\n",
    "In this example, the data are not normally distributed, so this approximation is not very good.\n",
    "But then we compute `dist.Sum(n) / n`, which is the sampling distribution of the mean of `n` values.\n",
    "Even if the data are not normally distributed, the sampling distribution of the mean is, by the Central Limit Theorem.\n",
    "\n",
    "Next, we compute the sampling distribution of the difference in the means.\n",
    "The `Normal` class knows how to perform subtraction using Equation 2:"
   ]
  },
  {
   "cell_type": "raw",
   "id": "8f3a2aff",
   "metadata": {},
   "source": [
    "def __sub__(self, other):\n",
    "    return Normal(self.mu - other.mu,\n",
    "                  self.sigma2 + other.sigma2)"
   ]
  },
  {
   "cell_type": "markdown",
   "id": "e712960d",
   "metadata": {},
   "source": [
    "So we can compute the sampling distribution of the difference like this:"
   ]
  },
  {
   "cell_type": "code",
   "execution_count": 28,
   "id": "750e153c",
   "metadata": {},
   "outputs": [
    {
     "data": {
      "text/plain": [
       "Normal(0, 0.00319708)"
      ]
     },
     "execution_count": 28,
     "metadata": {},
     "output_type": "execute_result"
    },
    {
     "data": {
      "application/javascript": [
       "\n",
       "            setTimeout(function() {\n",
       "                var nbb_cell_id = 28;\n",
       "                var nbb_unformatted_code = \"dist = dist1 - dist2\\ndist\";\n",
       "                var nbb_formatted_code = \"dist = dist1 - dist2\\ndist\";\n",
       "                var nbb_cells = Jupyter.notebook.get_cells();\n",
       "                for (var i = 0; i < nbb_cells.length; ++i) {\n",
       "                    if (nbb_cells[i].input_prompt_number == nbb_cell_id) {\n",
       "                        if (nbb_cells[i].get_text() == nbb_unformatted_code) {\n",
       "                             nbb_cells[i].set_text(nbb_formatted_code);\n",
       "                        }\n",
       "                        break;\n",
       "                    }\n",
       "                }\n",
       "            }, 500);\n",
       "            "
      ],
      "text/plain": [
       "<IPython.core.display.Javascript object>"
      ]
     },
     "metadata": {},
     "output_type": "display_data"
    }
   ],
   "source": [
    "dist = dist1 - dist2\n",
    "dist"
   ]
  },
  {
   "cell_type": "markdown",
   "id": "f95cd9ca",
   "metadata": {},
   "source": [
    "The mean is 0, which makes sense because we expect two samples from the same distribution to have the same mean, on average.\n",
    "The variance of the sampling distribution is 0.0032.\n",
    "\n",
    "`Normal` provides `Prob`, which evaluates the normal CDF.\n",
    "We can use `Prob` to compute the probability of a difference as large as `delta` under the null hypothesis:"
   ]
  },
  {
   "cell_type": "code",
   "execution_count": 29,
   "id": "74bf6c31",
   "metadata": {},
   "outputs": [
    {
     "data": {
      "text/plain": [
       "0.08377070425543787"
      ]
     },
     "execution_count": 29,
     "metadata": {},
     "output_type": "execute_result"
    },
    {
     "data": {
      "application/javascript": [
       "\n",
       "            setTimeout(function() {\n",
       "                var nbb_cell_id = 29;\n",
       "                var nbb_unformatted_code = \"1 - dist.prob(delta)\";\n",
       "                var nbb_formatted_code = \"1 - dist.prob(delta)\";\n",
       "                var nbb_cells = Jupyter.notebook.get_cells();\n",
       "                for (var i = 0; i < nbb_cells.length; ++i) {\n",
       "                    if (nbb_cells[i].input_prompt_number == nbb_cell_id) {\n",
       "                        if (nbb_cells[i].get_text() == nbb_unformatted_code) {\n",
       "                             nbb_cells[i].set_text(nbb_formatted_code);\n",
       "                        }\n",
       "                        break;\n",
       "                    }\n",
       "                }\n",
       "            }, 500);\n",
       "            "
      ],
      "text/plain": [
       "<IPython.core.display.Javascript object>"
      ]
     },
     "metadata": {},
     "output_type": "display_data"
    }
   ],
   "source": [
    "1 - dist.prob(delta)"
   ]
  },
  {
   "cell_type": "markdown",
   "id": "558c5533",
   "metadata": {},
   "source": [
    "Which means that the p-value for a one-sided test is 0.084.\n",
    "For a two-sided test we would also compute"
   ]
  },
  {
   "cell_type": "code",
   "execution_count": 30,
   "id": "356d9768",
   "metadata": {},
   "outputs": [
    {
     "data": {
      "text/plain": [
       "0.08377070425543781"
      ]
     },
     "execution_count": 30,
     "metadata": {},
     "output_type": "execute_result"
    },
    {
     "data": {
      "application/javascript": [
       "\n",
       "            setTimeout(function() {\n",
       "                var nbb_cell_id = 30;\n",
       "                var nbb_unformatted_code = \"dist.prob(-delta)\";\n",
       "                var nbb_formatted_code = \"dist.prob(-delta)\";\n",
       "                var nbb_cells = Jupyter.notebook.get_cells();\n",
       "                for (var i = 0; i < nbb_cells.length; ++i) {\n",
       "                    if (nbb_cells[i].input_prompt_number == nbb_cell_id) {\n",
       "                        if (nbb_cells[i].get_text() == nbb_unformatted_code) {\n",
       "                             nbb_cells[i].set_text(nbb_formatted_code);\n",
       "                        }\n",
       "                        break;\n",
       "                    }\n",
       "                }\n",
       "            }, 500);\n",
       "            "
      ],
      "text/plain": [
       "<IPython.core.display.Javascript object>"
      ]
     },
     "metadata": {},
     "output_type": "display_data"
    }
   ],
   "source": [
    "dist.prob(-delta)"
   ]
  },
  {
   "cell_type": "markdown",
   "id": "c7c262b4",
   "metadata": {},
   "source": [
    "Which is the same because the normal distribution is symmetric.\n",
    "The sum of the tails is 0.168, which is consistent with the estimate in Section XXX, which was 0.17."
   ]
  },
  {
   "cell_type": "markdown",
   "id": "b85a36a5",
   "metadata": {},
   "source": [
    "## Correlation test\n",
    "\n",
    "In Section xxx we used a permutation test for the correlation between birth weight and mother's age, and found that it is statistically significant, with p-value less than 0.001.\n",
    "\n",
    "Now we can do the same thing analytically.\n",
    "The method is based on this mathematical result: given two variables that are normally distributed and uncorrelated, if we generate a sample with size $n$, compute Pearson's correlation, $r$, and then compute the transformed correlation $$t = r \\sqrt{\\frac{n-2}{1-r^2}}$$ the distribution of $t$ is Student's t-distribution with parameter $n-2$.\n",
    "The t-distribution is an analytic distribution; the CDF can be computed efficiently using gamma functions.\n",
    "\n",
    "We can use this result to compute the sampling distribution of correlation under the null hypothesis; that is, if we generate uncorrelated sequences of normal values, what is the distribution of their correlation? `student_cdf` takes the sample size, `n`, and returns the sampling distribution of correlation:"
   ]
  },
  {
   "cell_type": "code",
   "execution_count": 31,
   "id": "34f8fa6c",
   "metadata": {},
   "outputs": [
    {
     "data": {
      "application/javascript": [
       "\n",
       "            setTimeout(function() {\n",
       "                var nbb_cell_id = 31;\n",
       "                var nbb_unformatted_code = \"from scipy.stats import t as student_t\\nfrom empiricaldist import Cdf\\n\\n\\ndef student_cdf(n):\\n    \\\"\\\"\\\"Computes the CDF correlations from uncorrelated variables.\\n\\n    n: sample size\\n\\n    returns: Cdf\\n    \\\"\\\"\\\"\\n    ts = np.linspace(-3, 3, 101)\\n    ps = student_t.cdf(ts, df=n - 2)\\n    rs = ts / np.sqrt(n - 2 + ts**2)\\n    return Cdf(ps, rs)\";\n",
       "                var nbb_formatted_code = \"from scipy.stats import t as student_t\\nfrom empiricaldist import Cdf\\n\\n\\ndef student_cdf(n):\\n    \\\"\\\"\\\"Computes the CDF correlations from uncorrelated variables.\\n\\n    n: sample size\\n\\n    returns: Cdf\\n    \\\"\\\"\\\"\\n    ts = np.linspace(-3, 3, 101)\\n    ps = student_t.cdf(ts, df=n - 2)\\n    rs = ts / np.sqrt(n - 2 + ts**2)\\n    return Cdf(ps, rs)\";\n",
       "                var nbb_cells = Jupyter.notebook.get_cells();\n",
       "                for (var i = 0; i < nbb_cells.length; ++i) {\n",
       "                    if (nbb_cells[i].input_prompt_number == nbb_cell_id) {\n",
       "                        if (nbb_cells[i].get_text() == nbb_unformatted_code) {\n",
       "                             nbb_cells[i].set_text(nbb_formatted_code);\n",
       "                        }\n",
       "                        break;\n",
       "                    }\n",
       "                }\n",
       "            }, 500);\n",
       "            "
      ],
      "text/plain": [
       "<IPython.core.display.Javascript object>"
      ]
     },
     "metadata": {},
     "output_type": "display_data"
    }
   ],
   "source": [
    "from scipy.stats import t as student_t\n",
    "from empiricaldist import Cdf\n",
    "\n",
    "\n",
    "def student_cdf(n):\n",
    "    \"\"\"Computes the CDF correlations from uncorrelated variables.\n",
    "\n",
    "    n: sample size\n",
    "\n",
    "    returns: Cdf\n",
    "    \"\"\"\n",
    "    ts = np.linspace(-3, 3, 101)\n",
    "    ps = student_t.cdf(ts, df=n - 2)\n",
    "    rs = ts / np.sqrt(n - 2 + ts**2)\n",
    "    return Cdf(ps, rs)"
   ]
  },
  {
   "cell_type": "markdown",
   "id": "406e406c",
   "metadata": {},
   "source": [
    "`ts` is a NumPy array of values for $t$, the transformed correlation.\n",
    "`ps` contains the corresponding probabilities, computed using the CDF of the Student's t-distribution implemented in SciPy.\n",
    "The parameter of the t-distribution, `df`, stands for \"degrees of freedom.\" I won't explain that term, but you can read about it at <http://en.wikipedia.org/wiki/Degrees_of_freedom_(statistics)>."
   ]
  },
  {
   "cell_type": "markdown",
   "id": "78aec25e",
   "metadata": {},
   "source": [
    "To get from `ts` to the correlation coefficients, `rs`, we apply the inverse transform, \n",
    "\n",
    "$$r = t / \\sqrt{n - 2 + t^2}$$ \n",
    "\n",
    "The result is the sampling distribution of $r$ under the null hypothesis.\n",
    "\n",
    "The following figure shows this distribution along with the distribution we generated by resampling.\n",
    "They are nearly identical.\n",
    "Although the actual distributions are not normal, Pearson's coefficient of correlation is based on sample means and variances.\n",
    "By the Central Limit Theorem, these moment-based statistics are normally distributed even if the data are not."
   ]
  },
  {
   "cell_type": "code",
   "execution_count": 33,
   "id": "4009d34a",
   "metadata": {},
   "outputs": [
    {
     "data": {
      "application/javascript": [
       "\n",
       "            setTimeout(function() {\n",
       "                var nbb_cell_id = 33;\n",
       "                var nbb_unformatted_code = \"def resample_correlations(live):\\n    \\\"\\\"\\\"Tests the correlation between birth weight and mother's age.\\n\\n    live: DataFrame for live births\\n\\n    returns: sample size, observed correlation, CDF of resampled correlations\\n    \\\"\\\"\\\"\\n    live2 = live.dropna(subset=[\\\"agepreg\\\", \\\"totalwgt_lb\\\"])\\n    data = live2.agepreg.values, live2.totalwgt_lb.values\\n    ht = CorrelationPermute(data)\\n    p_value = ht.p_value()\\n    return len(live2), ht.actual, ht.test_cdf\";\n",
       "                var nbb_formatted_code = \"def resample_correlations(live):\\n    \\\"\\\"\\\"Tests the correlation between birth weight and mother's age.\\n\\n    live: DataFrame for live births\\n\\n    returns: sample size, observed correlation, CDF of resampled correlations\\n    \\\"\\\"\\\"\\n    live2 = live.dropna(subset=[\\\"agepreg\\\", \\\"totalwgt_lb\\\"])\\n    data = live2.agepreg.values, live2.totalwgt_lb.values\\n    ht = CorrelationPermute(data)\\n    p_value = ht.p_value()\\n    return len(live2), ht.actual, ht.test_cdf\";\n",
       "                var nbb_cells = Jupyter.notebook.get_cells();\n",
       "                for (var i = 0; i < nbb_cells.length; ++i) {\n",
       "                    if (nbb_cells[i].input_prompt_number == nbb_cell_id) {\n",
       "                        if (nbb_cells[i].get_text() == nbb_unformatted_code) {\n",
       "                             nbb_cells[i].set_text(nbb_formatted_code);\n",
       "                        }\n",
       "                        break;\n",
       "                    }\n",
       "                }\n",
       "            }, 500);\n",
       "            "
      ],
      "text/plain": [
       "<IPython.core.display.Javascript object>"
      ]
     },
     "metadata": {},
     "output_type": "display_data"
    }
   ],
   "source": [
    "def resample_correlations(live):\n",
    "    \"\"\"Tests the correlation between birth weight and mother's age.\n",
    "\n",
    "    live: DataFrame for live births\n",
    "\n",
    "    returns: sample size, observed correlation, CDF of resampled correlations\n",
    "    \"\"\"\n",
    "    live2 = live.dropna(subset=[\"agepreg\", \"totalwgt_lb\"])\n",
    "    data = live2.agepreg.values, live2.totalwgt_lb.values\n",
    "    ht = CorrelationPermute(data)\n",
    "    p_value = ht.p_value()\n",
    "    return len(live2), ht.actual, ht.test_cdf"
   ]
  },
  {
   "cell_type": "code",
   "execution_count": 34,
   "id": "6bd62d55",
   "metadata": {},
   "outputs": [
    {
     "ename": "NameError",
     "evalue": "name 'CorrelationPermute' is not defined",
     "output_type": "error",
     "traceback": [
      "\u001b[0;31m---------------------------------------------------------------------------\u001b[0m",
      "\u001b[0;31mNameError\u001b[0m                                 Traceback (most recent call last)",
      "Cell \u001b[0;32mIn[34], line 1\u001b[0m\n\u001b[0;32m----> 1\u001b[0m n, r_actual, test_cdf \u001b[38;5;241m=\u001b[39m \u001b[43mresample_correlations\u001b[49m\u001b[43m(\u001b[49m\u001b[43mlive\u001b[49m\u001b[43m)\u001b[49m\n",
      "Cell \u001b[0;32mIn[33], line 10\u001b[0m, in \u001b[0;36mresample_correlations\u001b[0;34m(live)\u001b[0m\n\u001b[1;32m      8\u001b[0m live2 \u001b[38;5;241m=\u001b[39m live\u001b[38;5;241m.\u001b[39mdropna(subset\u001b[38;5;241m=\u001b[39m[\u001b[38;5;124m\"\u001b[39m\u001b[38;5;124magepreg\u001b[39m\u001b[38;5;124m\"\u001b[39m, \u001b[38;5;124m\"\u001b[39m\u001b[38;5;124mtotalwgt_lb\u001b[39m\u001b[38;5;124m\"\u001b[39m])\n\u001b[1;32m      9\u001b[0m data \u001b[38;5;241m=\u001b[39m live2\u001b[38;5;241m.\u001b[39magepreg\u001b[38;5;241m.\u001b[39mvalues, live2\u001b[38;5;241m.\u001b[39mtotalwgt_lb\u001b[38;5;241m.\u001b[39mvalues\n\u001b[0;32m---> 10\u001b[0m ht \u001b[38;5;241m=\u001b[39m \u001b[43mCorrelationPermute\u001b[49m(data)\n\u001b[1;32m     11\u001b[0m p_value \u001b[38;5;241m=\u001b[39m ht\u001b[38;5;241m.\u001b[39mp_value()\n\u001b[1;32m     12\u001b[0m \u001b[38;5;28;01mreturn\u001b[39;00m \u001b[38;5;28mlen\u001b[39m(live2), ht\u001b[38;5;241m.\u001b[39mactual, ht\u001b[38;5;241m.\u001b[39mtest_cdf\n",
      "\u001b[0;31mNameError\u001b[0m: name 'CorrelationPermute' is not defined"
     ]
    },
    {
     "data": {
      "application/javascript": [
       "\n",
       "            setTimeout(function() {\n",
       "                var nbb_cell_id = 34;\n",
       "                var nbb_unformatted_code = \"n, r_actual, test_cdf = resample_correlations(live)\";\n",
       "                var nbb_formatted_code = \"n, r_actual, test_cdf = resample_correlations(live)\";\n",
       "                var nbb_cells = Jupyter.notebook.get_cells();\n",
       "                for (var i = 0; i < nbb_cells.length; ++i) {\n",
       "                    if (nbb_cells[i].input_prompt_number == nbb_cell_id) {\n",
       "                        if (nbb_cells[i].get_text() == nbb_unformatted_code) {\n",
       "                             nbb_cells[i].set_text(nbb_formatted_code);\n",
       "                        }\n",
       "                        break;\n",
       "                    }\n",
       "                }\n",
       "            }, 500);\n",
       "            "
      ],
      "text/plain": [
       "<IPython.core.display.Javascript object>"
      ]
     },
     "metadata": {},
     "output_type": "display_data"
    }
   ],
   "source": [
    "n, r_actual, test_cdf = resample_correlations(live)"
   ]
  },
  {
   "cell_type": "code",
   "execution_count": 35,
   "id": "7a27033c",
   "metadata": {},
   "outputs": [
    {
     "ename": "NameError",
     "evalue": "name 'n' is not defined",
     "output_type": "error",
     "traceback": [
      "\u001b[0;31m---------------------------------------------------------------------------\u001b[0m",
      "\u001b[0;31mNameError\u001b[0m                                 Traceback (most recent call last)",
      "Cell \u001b[0;32mIn[35], line 1\u001b[0m\n\u001b[0;32m----> 1\u001b[0m model \u001b[38;5;241m=\u001b[39m student_cdf(\u001b[43mn\u001b[49m)\n\u001b[1;32m      2\u001b[0m plt\u001b[38;5;241m.\u001b[39mplot(model\u001b[38;5;241m.\u001b[39mqs, model\u001b[38;5;241m.\u001b[39mps, color\u001b[38;5;241m=\u001b[39m\u001b[38;5;124m\"\u001b[39m\u001b[38;5;124mgray\u001b[39m\u001b[38;5;124m\"\u001b[39m, alpha\u001b[38;5;241m=\u001b[39m\u001b[38;5;241m0.5\u001b[39m, label\u001b[38;5;241m=\u001b[39m\u001b[38;5;124m\"\u001b[39m\u001b[38;5;124mStudent t\u001b[39m\u001b[38;5;124m\"\u001b[39m)\n\u001b[1;32m      4\u001b[0m test_cdf\u001b[38;5;241m.\u001b[39mplot(label\u001b[38;5;241m=\u001b[39m\u001b[38;5;124m\"\u001b[39m\u001b[38;5;124msample\u001b[39m\u001b[38;5;124m\"\u001b[39m)\n",
      "\u001b[0;31mNameError\u001b[0m: name 'n' is not defined"
     ]
    },
    {
     "data": {
      "application/javascript": [
       "\n",
       "            setTimeout(function() {\n",
       "                var nbb_cell_id = 35;\n",
       "                var nbb_unformatted_code = \"model = student_cdf(n)\\nplt.plot(model.qs, model.ps, color=\\\"gray\\\", alpha=0.5, label=\\\"Student t\\\")\\n\\ntest_cdf.plot(label=\\\"sample\\\")\\ndecorate(xlabel=\\\"correlation\\\", ylabel=\\\"CDF\\\")\";\n",
       "                var nbb_formatted_code = \"model = student_cdf(n)\\nplt.plot(model.qs, model.ps, color=\\\"gray\\\", alpha=0.5, label=\\\"Student t\\\")\\n\\ntest_cdf.plot(label=\\\"sample\\\")\\ndecorate(xlabel=\\\"correlation\\\", ylabel=\\\"CDF\\\")\";\n",
       "                var nbb_cells = Jupyter.notebook.get_cells();\n",
       "                for (var i = 0; i < nbb_cells.length; ++i) {\n",
       "                    if (nbb_cells[i].input_prompt_number == nbb_cell_id) {\n",
       "                        if (nbb_cells[i].get_text() == nbb_unformatted_code) {\n",
       "                             nbb_cells[i].set_text(nbb_formatted_code);\n",
       "                        }\n",
       "                        break;\n",
       "                    }\n",
       "                }\n",
       "            }, 500);\n",
       "            "
      ],
      "text/plain": [
       "<IPython.core.display.Javascript object>"
      ]
     },
     "metadata": {},
     "output_type": "display_data"
    }
   ],
   "source": [
    "model = student_cdf(n)\n",
    "plt.plot(model.qs, model.ps, color=\"gray\", alpha=0.5, label=\"Student t\")\n",
    "\n",
    "test_cdf.plot(label=\"sample\")\n",
    "decorate(xlabel=\"correlation\", ylabel=\"CDF\")"
   ]
  },
  {
   "cell_type": "markdown",
   "id": "3f9f8866",
   "metadata": {},
   "source": [
    "We can see that the observed correlation, 0.07, is unlikely to occur if the variables are actually uncorrelated.\n",
    "Using the analytic distribution, we can compute just how unlikely:"
   ]
  },
  {
   "cell_type": "code",
   "execution_count": 36,
   "id": "561a79d0",
   "metadata": {},
   "outputs": [
    {
     "data": {
      "text/plain": [
       "2.861466619208386e-11"
      ]
     },
     "execution_count": 36,
     "metadata": {},
     "output_type": "execute_result"
    },
    {
     "data": {
      "application/javascript": [
       "\n",
       "            setTimeout(function() {\n",
       "                var nbb_cell_id = 36;\n",
       "                var nbb_unformatted_code = \"t = r_actual * np.sqrt((n - 2) / (1 - r_actual**2))\\np_value = 1 - student_t.cdf(t, df=n - 2)\\np_value\";\n",
       "                var nbb_formatted_code = \"t = r_actual * np.sqrt((n - 2) / (1 - r_actual**2))\\np_value = 1 - student_t.cdf(t, df=n - 2)\\np_value\";\n",
       "                var nbb_cells = Jupyter.notebook.get_cells();\n",
       "                for (var i = 0; i < nbb_cells.length; ++i) {\n",
       "                    if (nbb_cells[i].input_prompt_number == nbb_cell_id) {\n",
       "                        if (nbb_cells[i].get_text() == nbb_unformatted_code) {\n",
       "                             nbb_cells[i].set_text(nbb_formatted_code);\n",
       "                        }\n",
       "                        break;\n",
       "                    }\n",
       "                }\n",
       "            }, 500);\n",
       "            "
      ],
      "text/plain": [
       "<IPython.core.display.Javascript object>"
      ]
     },
     "metadata": {},
     "output_type": "display_data"
    }
   ],
   "source": [
    "t = r_actual * np.sqrt((n - 2) / (1 - r_actual**2))\n",
    "p_value = 1 - student_t.cdf(t, df=n - 2)\n",
    "p_value"
   ]
  },
  {
   "cell_type": "markdown",
   "id": "4d80df7d",
   "metadata": {},
   "source": [
    "We compute the value of `t` that corresponds to `r=0.07`, and then evaluate the t-distribution at `t`.\n",
    "The result is `2.9e-11`.\n",
    "This example demonstrates an advantage of the analytic method: we can compute very small p-values.\n",
    "But in practice it usually doesn't matter."
   ]
  },
  {
   "cell_type": "markdown",
   "id": "9eea3ee6",
   "metadata": {},
   "source": [
    "## Chi-squared test\n",
    "\n",
    "In Section XXX we used the chi-squared statistic to test whether a die is crooked.\n",
    "The chi-squared statistic measures the total normalized deviation from the expected values in a table:\n",
    "\n",
    "$$\\chi^2 = \\sum_i \\frac{{(O_i - E_i)}^2}{E_i}$$ \n",
    "\n",
    "One reason the chi-squared statistic is widely used is that its sampling distribution under the null hypothesis is analytic; by a remarkable coincidence (not really), it is called the chi-squared distribution.\n",
    "Like the t-distribution, the chi-squared CDF can be computed efficiently using gamma functions."
   ]
  },
  {
   "cell_type": "markdown",
   "id": "26014ba0",
   "metadata": {},
   "source": [
    "SciPy provides an implementation of the chi-squared distribution, which we use to compute the sampling distribution of the chi-squared statistic:"
   ]
  },
  {
   "cell_type": "code",
   "execution_count": 36,
   "id": "3e2be4ba",
   "metadata": {},
   "outputs": [
    {
     "data": {
      "application/javascript": [
       "\n",
       "            setTimeout(function() {\n",
       "                var nbb_cell_id = 36;\n",
       "                var nbb_unformatted_code = \"from scipy.stats import chi2 as chi2_dist\\n\\n\\ndef chi_squared_cdf(n):\\n    \\\"\\\"\\\"Discrete approximation of the chi-squared CDF with df=n-1.\\n\\n    n: sample size\\n\\n    returns: Cdf\\n    \\\"\\\"\\\"\\n    xs = np.linspace(0, 25, 101)\\n    ps = chi2_dist.cdf(xs, df=n - 1)\\n    return Cdf(ps, xs)\";\n",
       "                var nbb_formatted_code = \"from scipy.stats import chi2 as chi2_dist\\n\\n\\ndef chi_squared_cdf(n):\\n    \\\"\\\"\\\"Discrete approximation of the chi-squared CDF with df=n-1.\\n\\n    n: sample size\\n\\n    returns: Cdf\\n    \\\"\\\"\\\"\\n    xs = np.linspace(0, 25, 101)\\n    ps = chi2_dist.cdf(xs, df=n - 1)\\n    return Cdf(ps, xs)\";\n",
       "                var nbb_cells = Jupyter.notebook.get_cells();\n",
       "                for (var i = 0; i < nbb_cells.length; ++i) {\n",
       "                    if (nbb_cells[i].input_prompt_number == nbb_cell_id) {\n",
       "                        if (nbb_cells[i].get_text() == nbb_unformatted_code) {\n",
       "                             nbb_cells[i].set_text(nbb_formatted_code);\n",
       "                        }\n",
       "                        break;\n",
       "                    }\n",
       "                }\n",
       "            }, 500);\n",
       "            "
      ],
      "text/plain": [
       "<IPython.core.display.Javascript object>"
      ]
     },
     "metadata": {},
     "output_type": "display_data"
    }
   ],
   "source": [
    "from scipy.stats import chi2 as chi2_dist\n",
    "\n",
    "\n",
    "def chi_squared_cdf(n):\n",
    "    \"\"\"Discrete approximation of the chi-squared CDF with df=n-1.\n",
    "\n",
    "    n: sample size\n",
    "\n",
    "    returns: Cdf\n",
    "    \"\"\"\n",
    "    xs = np.linspace(0, 25, 101)\n",
    "    ps = chi2_dist.cdf(xs, df=n - 1)\n",
    "    return Cdf(ps, xs)"
   ]
  },
  {
   "cell_type": "markdown",
   "id": "7017c5e5",
   "metadata": {},
   "source": [
    "The following figure shows the analytic result along with the distribution we got by resampling.\n",
    "They are very similar, especially in the tail, which is the part we usually care most about.\n",
    "\n",
    "We can use this distribution to compute the p-value of the observed test statistic, `chi2`:"
   ]
  },
  {
   "cell_type": "code",
   "execution_count": 37,
   "id": "9f19d65d",
   "metadata": {},
   "outputs": [
    {
     "ename": "ImportError",
     "evalue": "cannot import name 'DiceChiTest' from 'thinkstats' (/home/downey/ThinkStats/soln/thinkstats.py)",
     "output_type": "error",
     "traceback": [
      "\u001b[0;31m---------------------------------------------------------------------------\u001b[0m",
      "\u001b[0;31mImportError\u001b[0m                               Traceback (most recent call last)",
      "Cell \u001b[0;32mIn[37], line 1\u001b[0m\n\u001b[0;32m----> 1\u001b[0m \u001b[38;5;28;01mfrom\u001b[39;00m \u001b[38;5;21;01mthinkstats\u001b[39;00m \u001b[38;5;28;01mimport\u001b[39;00m DiceChiTest\n\u001b[1;32m      3\u001b[0m data \u001b[38;5;241m=\u001b[39m [\u001b[38;5;241m8\u001b[39m, \u001b[38;5;241m9\u001b[39m, \u001b[38;5;241m19\u001b[39m, \u001b[38;5;241m5\u001b[39m, \u001b[38;5;241m8\u001b[39m, \u001b[38;5;241m11\u001b[39m]\n\u001b[1;32m      5\u001b[0m dt \u001b[38;5;241m=\u001b[39m DiceChiTest(data)\n",
      "\u001b[0;31mImportError\u001b[0m: cannot import name 'DiceChiTest' from 'thinkstats' (/home/downey/ThinkStats/soln/thinkstats.py)"
     ]
    },
    {
     "data": {
      "application/javascript": [
       "\n",
       "            setTimeout(function() {\n",
       "                var nbb_cell_id = 37;\n",
       "                var nbb_unformatted_code = \"from thinkstats import DiceChiTest\\n\\ndata = [8, 9, 19, 5, 8, 11]\\n\\ndt = DiceChiTest(data)\\np_value = dt.p_value(iters=1000)\\nn, chi2, test_cdf = len(data), dt.actual, dt.test_cdf\\n\\nmodel = chi_squared_cdf(n)\";\n",
       "                var nbb_formatted_code = \"from thinkstats import DiceChiTest\\n\\ndata = [8, 9, 19, 5, 8, 11]\\n\\ndt = DiceChiTest(data)\\np_value = dt.p_value(iters=1000)\\nn, chi2, test_cdf = len(data), dt.actual, dt.test_cdf\\n\\nmodel = chi_squared_cdf(n)\";\n",
       "                var nbb_cells = Jupyter.notebook.get_cells();\n",
       "                for (var i = 0; i < nbb_cells.length; ++i) {\n",
       "                    if (nbb_cells[i].input_prompt_number == nbb_cell_id) {\n",
       "                        if (nbb_cells[i].get_text() == nbb_unformatted_code) {\n",
       "                             nbb_cells[i].set_text(nbb_formatted_code);\n",
       "                        }\n",
       "                        break;\n",
       "                    }\n",
       "                }\n",
       "            }, 500);\n",
       "            "
      ],
      "text/plain": [
       "<IPython.core.display.Javascript object>"
      ]
     },
     "metadata": {},
     "output_type": "display_data"
    }
   ],
   "source": [
    "from thinkstats import DiceChiTest\n",
    "\n",
    "data = [8, 9, 19, 5, 8, 11]\n",
    "\n",
    "dt = DiceChiTest(data)\n",
    "p_value = dt.p_value(iters=1000)\n",
    "n, chi2, test_cdf = len(data), dt.actual, dt.test_cdf\n",
    "\n",
    "model = chi_squared_cdf(n)"
   ]
  },
  {
   "cell_type": "code",
   "execution_count": 38,
   "id": "e48b58d4",
   "metadata": {},
   "outputs": [
    {
     "ename": "NameError",
     "evalue": "name 'model' is not defined",
     "output_type": "error",
     "traceback": [
      "\u001b[0;31m---------------------------------------------------------------------------\u001b[0m",
      "\u001b[0;31mNameError\u001b[0m                                 Traceback (most recent call last)",
      "Cell \u001b[0;32mIn[38], line 1\u001b[0m\n\u001b[0;32m----> 1\u001b[0m plt\u001b[38;5;241m.\u001b[39mplot(\u001b[43mmodel\u001b[49m\u001b[38;5;241m.\u001b[39mqs, model\u001b[38;5;241m.\u001b[39mps, color\u001b[38;5;241m=\u001b[39m\u001b[38;5;124m\"\u001b[39m\u001b[38;5;124mgray\u001b[39m\u001b[38;5;124m\"\u001b[39m, alpha\u001b[38;5;241m=\u001b[39m\u001b[38;5;241m0.3\u001b[39m, label\u001b[38;5;241m=\u001b[39m\u001b[38;5;124m\"\u001b[39m\u001b[38;5;124mchi squared\u001b[39m\u001b[38;5;124m\"\u001b[39m)\n\u001b[1;32m      3\u001b[0m test_cdf\u001b[38;5;241m.\u001b[39mplot(label\u001b[38;5;241m=\u001b[39m\u001b[38;5;124m\"\u001b[39m\u001b[38;5;124msample\u001b[39m\u001b[38;5;124m\"\u001b[39m)\n\u001b[1;32m      4\u001b[0m decorate(xlabel\u001b[38;5;241m=\u001b[39m\u001b[38;5;124m\"\u001b[39m\u001b[38;5;124mchi-squared statistic\u001b[39m\u001b[38;5;124m\"\u001b[39m, ylabel\u001b[38;5;241m=\u001b[39m\u001b[38;5;124m\"\u001b[39m\u001b[38;5;124mCDF\u001b[39m\u001b[38;5;124m\"\u001b[39m, loc\u001b[38;5;241m=\u001b[39m\u001b[38;5;124m\"\u001b[39m\u001b[38;5;124mlower right\u001b[39m\u001b[38;5;124m\"\u001b[39m)\n",
      "\u001b[0;31mNameError\u001b[0m: name 'model' is not defined"
     ]
    },
    {
     "data": {
      "application/javascript": [
       "\n",
       "            setTimeout(function() {\n",
       "                var nbb_cell_id = 38;\n",
       "                var nbb_unformatted_code = \"plt.plot(model.qs, model.ps, color=\\\"gray\\\", alpha=0.3, label=\\\"chi squared\\\")\\n\\ntest_cdf.plot(label=\\\"sample\\\")\\ndecorate(xlabel=\\\"chi-squared statistic\\\", ylabel=\\\"CDF\\\", loc=\\\"lower right\\\")\";\n",
       "                var nbb_formatted_code = \"plt.plot(model.qs, model.ps, color=\\\"gray\\\", alpha=0.3, label=\\\"chi squared\\\")\\n\\ntest_cdf.plot(label=\\\"sample\\\")\\ndecorate(xlabel=\\\"chi-squared statistic\\\", ylabel=\\\"CDF\\\", loc=\\\"lower right\\\")\";\n",
       "                var nbb_cells = Jupyter.notebook.get_cells();\n",
       "                for (var i = 0; i < nbb_cells.length; ++i) {\n",
       "                    if (nbb_cells[i].input_prompt_number == nbb_cell_id) {\n",
       "                        if (nbb_cells[i].get_text() == nbb_unformatted_code) {\n",
       "                             nbb_cells[i].set_text(nbb_formatted_code);\n",
       "                        }\n",
       "                        break;\n",
       "                    }\n",
       "                }\n",
       "            }, 500);\n",
       "            "
      ],
      "text/plain": [
       "<IPython.core.display.Javascript object>"
      ]
     },
     "metadata": {},
     "output_type": "display_data"
    }
   ],
   "source": [
    "plt.plot(model.qs, model.ps, color=\"gray\", alpha=0.3, label=\"chi squared\")\n",
    "\n",
    "test_cdf.plot(label=\"sample\")\n",
    "decorate(xlabel=\"chi-squared statistic\", ylabel=\"CDF\", loc=\"lower right\")"
   ]
  },
  {
   "cell_type": "code",
   "execution_count": 39,
   "id": "761861dc",
   "metadata": {},
   "outputs": [
    {
     "ename": "NameError",
     "evalue": "name 'chi2' is not defined",
     "output_type": "error",
     "traceback": [
      "\u001b[0;31m---------------------------------------------------------------------------\u001b[0m",
      "\u001b[0;31mNameError\u001b[0m                                 Traceback (most recent call last)",
      "Cell \u001b[0;32mIn[39], line 1\u001b[0m\n\u001b[0;32m----> 1\u001b[0m p_value \u001b[38;5;241m=\u001b[39m \u001b[38;5;241m1\u001b[39m \u001b[38;5;241m-\u001b[39m chi2_dist\u001b[38;5;241m.\u001b[39mcdf(\u001b[43mchi2\u001b[49m, df\u001b[38;5;241m=\u001b[39mn \u001b[38;5;241m-\u001b[39m \u001b[38;5;241m1\u001b[39m)\n\u001b[1;32m      2\u001b[0m p_value\n",
      "\u001b[0;31mNameError\u001b[0m: name 'chi2' is not defined"
     ]
    },
    {
     "data": {
      "application/javascript": [
       "\n",
       "            setTimeout(function() {\n",
       "                var nbb_cell_id = 39;\n",
       "                var nbb_unformatted_code = \"p_value = 1 - chi2_dist.cdf(chi2, df=n - 1)\\np_value\";\n",
       "                var nbb_formatted_code = \"p_value = 1 - chi2_dist.cdf(chi2, df=n - 1)\\np_value\";\n",
       "                var nbb_cells = Jupyter.notebook.get_cells();\n",
       "                for (var i = 0; i < nbb_cells.length; ++i) {\n",
       "                    if (nbb_cells[i].input_prompt_number == nbb_cell_id) {\n",
       "                        if (nbb_cells[i].get_text() == nbb_unformatted_code) {\n",
       "                             nbb_cells[i].set_text(nbb_formatted_code);\n",
       "                        }\n",
       "                        break;\n",
       "                    }\n",
       "                }\n",
       "            }, 500);\n",
       "            "
      ],
      "text/plain": [
       "<IPython.core.display.Javascript object>"
      ]
     },
     "metadata": {},
     "output_type": "display_data"
    }
   ],
   "source": [
    "p_value = 1 - chi2_dist.cdf(chi2, df=n - 1)\n",
    "p_value"
   ]
  },
  {
   "cell_type": "markdown",
   "id": "158635d2",
   "metadata": {},
   "source": [
    "The result is 0.041, which is consistent with the result from resampling.\n",
    "\n",
    "The parameter of the chi-squared distribution is \"degrees of freedom\" again.\n",
    "In this case the correct parameter is `n-1`, where `n` is the size of the table, 6. Choosing this parameter can be tricky; to be honest, I am never confident that I have it right until I generate something like the previous figure to compare the analytic results to the resampling results."
   ]
  },
  {
   "cell_type": "markdown",
   "id": "9ffdd14a",
   "metadata": {},
   "source": [
    "## Discussion\n",
    "\n",
    "This book focuses on computational methods like resampling and permutation.\n",
    "These methods have several advantages over analysis:\n",
    "\n",
    "-   They are easier to explain and understand.\n",
    "For example, one of the most difficult topics in an introductory statistics class is hypothesis testing.\n",
    "Many students don't really understand what p-values are.\n",
    "I think the approach I presented in Chapter [\\[testing\\]](#testing){reference-type=\"ref\" reference=\"testing\"}---simulating the null hypothesis and computing test statistics---makes the fundamental idea clearer.\n",
    "\n",
    "-   They are robust and versatile.\n",
    "Analytic methods are often based on assumptions that might not hold in practice.\n",
    "Computational methods require fewer assumptions, and can be adapted and extended more easily.\n",
    "\n",
    "-   They are debuggable.\n",
    "Analytic methods are often like a black box: you plug in numbers and they spit out results.\n",
    "But it's easy to make subtle errors, hard to be confident that the results are right, and hard to find the problem if they are not.\n",
    "Computational methods lend themselves to incremental development and testing, which fosters confidence in the results."
   ]
  },
  {
   "cell_type": "markdown",
   "id": "6a568fca",
   "metadata": {},
   "source": [
    "But there is one drawback: computational methods can be slow.\n",
    "Taking into account these pros and cons, I recommend the following process:\n",
    "\n",
    "1.  Use computational methods during exploration.\n",
    "If you find a satisfactory answer and the run time is acceptable, you can stop.\n",
    "\n",
    "2.  If run time is not acceptable, look for opportunities to optimize.\n",
    "Using analytic methods is one of several methods of optimization.\n",
    "\n",
    "3.  If replacing a computational method with an analytic method is appropriate, use the computational method as a basis of comparison, providing mutual validation between the computational and analytic results.\n",
    "\n",
    "For the vast majority of problems I have worked on, I didn't have to go past Step 1."
   ]
  },
  {
   "cell_type": "markdown",
   "id": "73e9a0da",
   "metadata": {
    "collapsed": true
   },
   "source": [
    "## Exercises"
   ]
  },
  {
   "cell_type": "markdown",
   "id": "b33a1489",
   "metadata": {
    "collapsed": true
   },
   "source": [
    "**Exercise:**    In Section 5.4, we saw that the distribution of adult weights is approximately lognormal.\n",
    "One possible explanation is that the weight a person gains each year is proportional to their current weight.\n",
    "In that case, adult weight is the product of a large number of multiplicative factors:\n",
    "\n",
    "w = w0 f1 f2 ... fn  \n",
    "\n",
    "where w is adult weight, w0 is birth weight, and fi is the weight gain factor for year i.\n",
    "\n",
    "The log of a product is the sum of the logs of the factors:\n",
    "\n",
    "logw = logw0 + logf1 + logf2 + ... + logfn \n",
    "\n",
    "So by the Central Limit Theorem, the distribution of logw is approximately normal for large n, which implies that the distribution of w is lognormal.\n",
    "\n",
    "To model this phenomenon, choose a distribution for f that seems reasonable, then generate a sample of adult weights by choosing a random value from the distribution of birth weights, choosing a sequence of factors from the distribution of f, and computing the product.\n",
    "What value of n is needed to converge to a lognormal distribution?"
   ]
  },
  {
   "cell_type": "code",
   "execution_count": 40,
   "id": "25edad95",
   "metadata": {},
   "outputs": [
    {
     "data": {
      "application/javascript": [
       "\n",
       "            setTimeout(function() {\n",
       "                var nbb_cell_id = 40;\n",
       "                var nbb_unformatted_code = \"def generate_adult_weight(birth_weights, n):\\n    \\\"\\\"\\\"Generate a random adult weight by simulating annual gain.\\n\\n    birth_weights: sequence of birth weights in lbs\\n    n: number of years to simulate\\n\\n    returns: adult weight in lbs\\n    \\\"\\\"\\\"\\n    bw = random.choice(birth_weights)\\n    factors = np.random.normal(1.09, 0.03, n)\\n    aw = bw * np.prod(factors)\\n    return aw\";\n",
       "                var nbb_formatted_code = \"def generate_adult_weight(birth_weights, n):\\n    \\\"\\\"\\\"Generate a random adult weight by simulating annual gain.\\n\\n    birth_weights: sequence of birth weights in lbs\\n    n: number of years to simulate\\n\\n    returns: adult weight in lbs\\n    \\\"\\\"\\\"\\n    bw = random.choice(birth_weights)\\n    factors = np.random.normal(1.09, 0.03, n)\\n    aw = bw * np.prod(factors)\\n    return aw\";\n",
       "                var nbb_cells = Jupyter.notebook.get_cells();\n",
       "                for (var i = 0; i < nbb_cells.length; ++i) {\n",
       "                    if (nbb_cells[i].input_prompt_number == nbb_cell_id) {\n",
       "                        if (nbb_cells[i].get_text() == nbb_unformatted_code) {\n",
       "                             nbb_cells[i].set_text(nbb_formatted_code);\n",
       "                        }\n",
       "                        break;\n",
       "                    }\n",
       "                }\n",
       "            }, 500);\n",
       "            "
      ],
      "text/plain": [
       "<IPython.core.display.Javascript object>"
      ]
     },
     "metadata": {},
     "output_type": "display_data"
    }
   ],
   "source": [
    "def generate_adult_weight(birth_weights, n):\n",
    "    \"\"\"Generate a random adult weight by simulating annual gain.\n",
    "\n",
    "    birth_weights: sequence of birth weights in lbs\n",
    "    n: number of years to simulate\n",
    "\n",
    "    returns: adult weight in lbs\n",
    "    \"\"\"\n",
    "    bw = random.choice(birth_weights)\n",
    "    factors = np.random.normal(1.09, 0.03, n)\n",
    "    aw = bw * np.prod(factors)\n",
    "    return aw"
   ]
  },
  {
   "cell_type": "code",
   "execution_count": 41,
   "id": "21a33acf",
   "metadata": {},
   "outputs": [
    {
     "data": {
      "application/javascript": [
       "\n",
       "            setTimeout(function() {\n",
       "                var nbb_cell_id = 41;\n",
       "                var nbb_unformatted_code = \"def plot_adult_weights(live):\\n    \\\"\\\"\\\"Makes a normal probability plot of log10 adult weight.\\n\\n    live: DataFrame of live births\\n\\n\\n    \\\"\\\"\\\"\\n    birth_weights = live.totalwgt_lb.dropna().values\\n    aws = [generate_adult_weight(birth_weights, 40) for _ in range(1000)]\\n    log_aws = np.log10(aws)\\n    normal_probability_plot(log_aws)\\n    decorate(\\n        xlabel=\\\"standard normal values\\\",\\n        ylabel=\\\"adult weight (log10 lbs)\\\",\\n        loc=\\\"lower right\\\",\\n    )\";\n",
       "                var nbb_formatted_code = \"def plot_adult_weights(live):\\n    \\\"\\\"\\\"Makes a normal probability plot of log10 adult weight.\\n\\n    live: DataFrame of live births\\n\\n\\n    \\\"\\\"\\\"\\n    birth_weights = live.totalwgt_lb.dropna().values\\n    aws = [generate_adult_weight(birth_weights, 40) for _ in range(1000)]\\n    log_aws = np.log10(aws)\\n    normal_probability_plot(log_aws)\\n    decorate(\\n        xlabel=\\\"standard normal values\\\",\\n        ylabel=\\\"adult weight (log10 lbs)\\\",\\n        loc=\\\"lower right\\\",\\n    )\";\n",
       "                var nbb_cells = Jupyter.notebook.get_cells();\n",
       "                for (var i = 0; i < nbb_cells.length; ++i) {\n",
       "                    if (nbb_cells[i].input_prompt_number == nbb_cell_id) {\n",
       "                        if (nbb_cells[i].get_text() == nbb_unformatted_code) {\n",
       "                             nbb_cells[i].set_text(nbb_formatted_code);\n",
       "                        }\n",
       "                        break;\n",
       "                    }\n",
       "                }\n",
       "            }, 500);\n",
       "            "
      ],
      "text/plain": [
       "<IPython.core.display.Javascript object>"
      ]
     },
     "metadata": {},
     "output_type": "display_data"
    }
   ],
   "source": [
    "def plot_adult_weights(live):\n",
    "    \"\"\"Makes a normal probability plot of log10 adult weight.\n",
    "\n",
    "    live: DataFrame of live births\n",
    "\n",
    "\n",
    "    \"\"\"\n",
    "    birth_weights = live.totalwgt_lb.dropna().values\n",
    "    aws = [generate_adult_weight(birth_weights, 40) for _ in range(1000)]\n",
    "    log_aws = np.log10(aws)\n",
    "    normal_probability_plot(log_aws)\n",
    "    decorate(\n",
    "        xlabel=\"standard normal values\",\n",
    "        ylabel=\"adult weight (log10 lbs)\",\n",
    "        loc=\"lower right\",\n",
    "    )"
   ]
  },
  {
   "cell_type": "code",
   "execution_count": 42,
   "id": "0545eb69",
   "metadata": {},
   "outputs": [
    {
     "data": {
      "image/png": "[encoded data removed]",
      "text/plain": [
       "<Figure size 450x262.5 with 1 Axes>"
      ]
     },
     "metadata": {},
     "output_type": "display_data"
    },
    {
     "data": {
      "application/javascript": [
       "\n",
       "            setTimeout(function() {\n",
       "                var nbb_cell_id = 42;\n",
       "                var nbb_unformatted_code = \"plot_adult_weights(live)\";\n",
       "                var nbb_formatted_code = \"plot_adult_weights(live)\";\n",
       "                var nbb_cells = Jupyter.notebook.get_cells();\n",
       "                for (var i = 0; i < nbb_cells.length; ++i) {\n",
       "                    if (nbb_cells[i].input_prompt_number == nbb_cell_id) {\n",
       "                        if (nbb_cells[i].get_text() == nbb_unformatted_code) {\n",
       "                             nbb_cells[i].set_text(nbb_formatted_code);\n",
       "                        }\n",
       "                        break;\n",
       "                    }\n",
       "                }\n",
       "            }, 500);\n",
       "            "
      ],
      "text/plain": [
       "<IPython.core.display.Javascript object>"
      ]
     },
     "metadata": {},
     "output_type": "display_data"
    }
   ],
   "source": [
    "plot_adult_weights(live)"
   ]
  },
  {
   "cell_type": "markdown",
   "id": "a5286d50",
   "metadata": {},
   "source": [
    "**Exercise:** In Section 14.6 we used the Central Limit Theorem to find the sampling distribution of the difference in means, δ, under the null hypothesis that both samples are drawn from the same population.\n",
    "\n",
    "We can also use this distribution to find the standard error of the estimate and confidence intervals, but that would only be approximately correct.\n",
    "To be more precise, we should compute the sampling distribution of δ under the alternate hypothesis that the samples are drawn from different populations.\n",
    "\n",
    "Compute this distribution and use it to calculate the standard error and a 90% confidence interval for the difference in means."
   ]
  },
  {
   "cell_type": "code",
   "execution_count": 43,
   "id": "49d9b077",
   "metadata": {},
   "outputs": [
    {
     "name": "stdout",
     "output_type": "stream",
     "text": [
      "0.07803726677754952\n"
     ]
    },
    {
     "data": {
      "application/javascript": [
       "\n",
       "            setTimeout(function() {\n",
       "                var nbb_cell_id = 43;\n",
       "                var nbb_unformatted_code = \"# Solution\\n\\ndelta = firsts.prglngth.mean() - others.prglngth.mean()\\nprint(delta)\";\n",
       "                var nbb_formatted_code = \"# Solution\\n\\ndelta = firsts.prglngth.mean() - others.prglngth.mean()\\nprint(delta)\";\n",
       "                var nbb_cells = Jupyter.notebook.get_cells();\n",
       "                for (var i = 0; i < nbb_cells.length; ++i) {\n",
       "                    if (nbb_cells[i].input_prompt_number == nbb_cell_id) {\n",
       "                        if (nbb_cells[i].get_text() == nbb_unformatted_code) {\n",
       "                             nbb_cells[i].set_text(nbb_formatted_code);\n",
       "                        }\n",
       "                        break;\n",
       "                    }\n",
       "                }\n",
       "            }, 500);\n",
       "            "
      ],
      "text/plain": [
       "<IPython.core.display.Javascript object>"
      ]
     },
     "metadata": {},
     "output_type": "display_data"
    }
   ],
   "source": [
    "# Solution\n",
    "\n",
    "delta = firsts.prglngth.mean() - others.prglngth.mean()\n",
    "print(delta)"
   ]
  },
  {
   "cell_type": "code",
   "execution_count": 44,
   "id": "c3de198b",
   "metadata": {},
   "outputs": [
    {
     "name": "stdout",
     "output_type": "stream",
     "text": [
      "null hypothesis Normal(0, 0.00319708)\n",
      "0.08377070425543781 0.08377070425543787\n"
     ]
    },
    {
     "data": {
      "application/javascript": [
       "\n",
       "            setTimeout(function() {\n",
       "                var nbb_cell_id = 44;\n",
       "                var nbb_unformatted_code = \"# Solution\\n\\ndist1 = sampling_dist_mean(live.prglngth, len(firsts))\\ndist2 = sampling_dist_mean(live.prglngth, len(others))\\ndist_diff_null = dist1 - dist2\\nprint(\\\"null hypothesis\\\", dist_diff_null)\\nprint(dist_diff_null.prob(-delta), 1 - dist_diff_null.prob(delta))\";\n",
       "                var nbb_formatted_code = \"# Solution\\n\\ndist1 = sampling_dist_mean(live.prglngth, len(firsts))\\ndist2 = sampling_dist_mean(live.prglngth, len(others))\\ndist_diff_null = dist1 - dist2\\nprint(\\\"null hypothesis\\\", dist_diff_null)\\nprint(dist_diff_null.prob(-delta), 1 - dist_diff_null.prob(delta))\";\n",
       "                var nbb_cells = Jupyter.notebook.get_cells();\n",
       "                for (var i = 0; i < nbb_cells.length; ++i) {\n",
       "                    if (nbb_cells[i].input_prompt_number == nbb_cell_id) {\n",
       "                        if (nbb_cells[i].get_text() == nbb_unformatted_code) {\n",
       "                             nbb_cells[i].set_text(nbb_formatted_code);\n",
       "                        }\n",
       "                        break;\n",
       "                    }\n",
       "                }\n",
       "            }, 500);\n",
       "            "
      ],
      "text/plain": [
       "<IPython.core.display.Javascript object>"
      ]
     },
     "metadata": {},
     "output_type": "display_data"
    }
   ],
   "source": [
    "# Solution\n",
    "\n",
    "dist1 = sampling_dist_mean(live.prglngth, len(firsts))\n",
    "dist2 = sampling_dist_mean(live.prglngth, len(others))\n",
    "dist_diff_null = dist1 - dist2\n",
    "print(\"null hypothesis\", dist_diff_null)\n",
    "print(dist_diff_null.prob(-delta), 1 - dist_diff_null.prob(delta))"
   ]
  },
  {
   "cell_type": "code",
   "execution_count": 45,
   "id": "e81a97cf",
   "metadata": {},
   "outputs": [
    {
     "name": "stdout",
     "output_type": "stream",
     "text": [
      "estimated params Normal(0.0780373, 0.00321144)\n",
      "-0.015175815869865758 0.17125034942497896\n"
     ]
    },
    {
     "data": {
      "application/javascript": [
       "\n",
       "            setTimeout(function() {\n",
       "                var nbb_cell_id = 45;\n",
       "                var nbb_unformatted_code = \"# Solution\\n\\ndist1 = sampling_dist_mean(firsts.prglngth, len(firsts))\\ndist2 = sampling_dist_mean(others.prglngth, len(others))\\ndist_diff_alt = dist1 - dist2\\nprint(\\\"estimated params\\\", dist_diff_alt)\\nprint(dist_diff_alt.percentile(5), dist_diff_alt.percentile(95))\";\n",
       "                var nbb_formatted_code = \"# Solution\\n\\ndist1 = sampling_dist_mean(firsts.prglngth, len(firsts))\\ndist2 = sampling_dist_mean(others.prglngth, len(others))\\ndist_diff_alt = dist1 - dist2\\nprint(\\\"estimated params\\\", dist_diff_alt)\\nprint(dist_diff_alt.percentile(5), dist_diff_alt.percentile(95))\";\n",
       "                var nbb_cells = Jupyter.notebook.get_cells();\n",
       "                for (var i = 0; i < nbb_cells.length; ++i) {\n",
       "                    if (nbb_cells[i].input_prompt_number == nbb_cell_id) {\n",
       "                        if (nbb_cells[i].get_text() == nbb_unformatted_code) {\n",
       "                             nbb_cells[i].set_text(nbb_formatted_code);\n",
       "                        }\n",
       "                        break;\n",
       "                    }\n",
       "                }\n",
       "            }, 500);\n",
       "            "
      ],
      "text/plain": [
       "<IPython.core.display.Javascript object>"
      ]
     },
     "metadata": {},
     "output_type": "display_data"
    }
   ],
   "source": [
    "# Solution\n",
    "\n",
    "dist1 = sampling_dist_mean(firsts.prglngth, len(firsts))\n",
    "dist2 = sampling_dist_mean(others.prglngth, len(others))\n",
    "dist_diff_alt = dist1 - dist2\n",
    "print(\"estimated params\", dist_diff_alt)\n",
    "print(dist_diff_alt.percentile(5), dist_diff_alt.percentile(95))"
   ]
  },
  {
   "cell_type": "code",
   "execution_count": 46,
   "id": "c489c9cc",
   "metadata": {},
   "outputs": [
    {
     "data": {
      "text/plain": [
       "Normal(0, 0.00319708)"
      ]
     },
     "execution_count": 46,
     "metadata": {},
     "output_type": "execute_result"
    },
    {
     "data": {
      "application/javascript": [
       "\n",
       "            setTimeout(function() {\n",
       "                var nbb_cell_id = 46;\n",
       "                var nbb_unformatted_code = \"dist_diff_null\";\n",
       "                var nbb_formatted_code = \"dist_diff_null\";\n",
       "                var nbb_cells = Jupyter.notebook.get_cells();\n",
       "                for (var i = 0; i < nbb_cells.length; ++i) {\n",
       "                    if (nbb_cells[i].input_prompt_number == nbb_cell_id) {\n",
       "                        if (nbb_cells[i].get_text() == nbb_unformatted_code) {\n",
       "                             nbb_cells[i].set_text(nbb_formatted_code);\n",
       "                        }\n",
       "                        break;\n",
       "                    }\n",
       "                }\n",
       "            }, 500);\n",
       "            "
      ],
      "text/plain": [
       "<IPython.core.display.Javascript object>"
      ]
     },
     "metadata": {},
     "output_type": "display_data"
    }
   ],
   "source": [
    "dist_diff_null"
   ]
  },
  {
   "cell_type": "code",
   "execution_count": 47,
   "id": "d175ac6a",
   "metadata": {},
   "outputs": [
    {
     "ename": "NameError",
     "evalue": "name 'render_normal_cdf' is not defined",
     "output_type": "error",
     "traceback": [
      "\u001b[0;31m---------------------------------------------------------------------------\u001b[0m",
      "\u001b[0;31mNameError\u001b[0m                                 Traceback (most recent call last)",
      "Cell \u001b[0;32mIn[47], line 3\u001b[0m\n\u001b[1;32m      1\u001b[0m \u001b[38;5;66;03m# Solution\u001b[39;00m\n\u001b[0;32m----> 3\u001b[0m \u001b[43mdist_diff_null\u001b[49m\u001b[38;5;241;43m.\u001b[39;49m\u001b[43mplot\u001b[49m\u001b[43m(\u001b[49m\u001b[43mlabel\u001b[49m\u001b[38;5;241;43m=\u001b[39;49m\u001b[38;5;124;43m\"\u001b[39;49m\u001b[38;5;124;43mnull hypothesis\u001b[39;49m\u001b[38;5;124;43m\"\u001b[39;49m\u001b[43m)\u001b[49m\n\u001b[1;32m      4\u001b[0m dist_diff_alt\u001b[38;5;241m.\u001b[39mplot(label\u001b[38;5;241m=\u001b[39m\u001b[38;5;124m\"\u001b[39m\u001b[38;5;124mestimated params\u001b[39m\u001b[38;5;124m\"\u001b[39m)\n\u001b[1;32m      5\u001b[0m decorate(xlabel\u001b[38;5;241m=\u001b[39m\u001b[38;5;124m\"\u001b[39m\u001b[38;5;124mDifference in means (weeks)\u001b[39m\u001b[38;5;124m\"\u001b[39m, ylabel\u001b[38;5;241m=\u001b[39m\u001b[38;5;124m\"\u001b[39m\u001b[38;5;124mCDF\u001b[39m\u001b[38;5;124m\"\u001b[39m, loc\u001b[38;5;241m=\u001b[39m\u001b[38;5;124m\"\u001b[39m\u001b[38;5;124mlower right\u001b[39m\u001b[38;5;124m\"\u001b[39m)\n",
      "File \u001b[0;32m~/ThinkStats/soln/thinkstats.py:1052\u001b[0m, in \u001b[0;36mNormal.plot\u001b[0;34m(self, n_sigmas, **options)\u001b[0m\n\u001b[1;32m   1050\u001b[0m mu, sigma \u001b[38;5;241m=\u001b[39m \u001b[38;5;28mself\u001b[39m\u001b[38;5;241m.\u001b[39mmu, \u001b[38;5;28mself\u001b[39m\u001b[38;5;241m.\u001b[39msigma\n\u001b[1;32m   1051\u001b[0m low, high \u001b[38;5;241m=\u001b[39m mu \u001b[38;5;241m-\u001b[39m n_sigmas \u001b[38;5;241m*\u001b[39m sigma, mu \u001b[38;5;241m+\u001b[39m \u001b[38;5;241m3\u001b[39m \u001b[38;5;241m*\u001b[39m sigma\n\u001b[0;32m-> 1052\u001b[0m xs, ys \u001b[38;5;241m=\u001b[39m \u001b[43mrender_normal_cdf\u001b[49m(mu, sigma, low, high)\n\u001b[1;32m   1053\u001b[0m plt\u001b[38;5;241m.\u001b[39mplot(xs, ys, \u001b[38;5;241m*\u001b[39m\u001b[38;5;241m*\u001b[39moptions)\n",
      "\u001b[0;31mNameError\u001b[0m: name 'render_normal_cdf' is not defined"
     ]
    },
    {
     "data": {
      "application/javascript": [
       "\n",
       "            setTimeout(function() {\n",
       "                var nbb_cell_id = 47;\n",
       "                var nbb_unformatted_code = \"# Solution\\n\\ndist_diff_null.plot(label=\\\"null hypothesis\\\")\\ndist_diff_alt.plot(label=\\\"estimated params\\\")\\ndecorate(xlabel=\\\"Difference in means (weeks)\\\", ylabel=\\\"CDF\\\", loc=\\\"lower right\\\")\";\n",
       "                var nbb_formatted_code = \"# Solution\\n\\ndist_diff_null.plot(label=\\\"null hypothesis\\\")\\ndist_diff_alt.plot(label=\\\"estimated params\\\")\\ndecorate(xlabel=\\\"Difference in means (weeks)\\\", ylabel=\\\"CDF\\\", loc=\\\"lower right\\\")\";\n",
       "                var nbb_cells = Jupyter.notebook.get_cells();\n",
       "                for (var i = 0; i < nbb_cells.length; ++i) {\n",
       "                    if (nbb_cells[i].input_prompt_number == nbb_cell_id) {\n",
       "                        if (nbb_cells[i].get_text() == nbb_unformatted_code) {\n",
       "                             nbb_cells[i].set_text(nbb_formatted_code);\n",
       "                        }\n",
       "                        break;\n",
       "                    }\n",
       "                }\n",
       "            }, 500);\n",
       "            "
      ],
      "text/plain": [
       "<IPython.core.display.Javascript object>"
      ]
     },
     "metadata": {},
     "output_type": "display_data"
    }
   ],
   "source": [
    "# Solution\n",
    "\n",
    "dist_diff_null.plot(label=\"null hypothesis\")\n",
    "dist_diff_alt.plot(label=\"estimated params\")\n",
    "decorate(xlabel=\"Difference in means (weeks)\", ylabel=\"CDF\", loc=\"lower right\")"
   ]
  },
  {
   "cell_type": "markdown",
   "id": "c8623c0d",
   "metadata": {},
   "source": [
    "**Exercise:** [In a 2014 paper](http://ieeexplore.ieee.org/document/7044435/), Stein et al. investigate the effects of an intervention intended to mitigate gender-stereotypical task allocation within student engineering teams.\n",
    "\n",
    "Before and after the intervention, students responded to a survey that asked them to rate their contribution to each aspect of class projects on a 7-point scale.\n",
    "\n",
    "Before the intervention, male students reported higher scores for the programming aspect of the project than female students; on average men reported a score of 3.57 with standard error 0.28. Women reported 1.91, on average, with standard error 0.32.\n",
    "\n",
    "Compute the sampling distribution of the gender gap (the difference in means), and test whether it is statistically significant.\n",
    "Because you are given standard errors for the estimated means, you don’t need to know the sample size to figure out the sampling distributions.\n",
    "\n",
    "After the intervention, the gender gap was smaller: the average score for men was 3.44 (SE 0.16); the average score for women was 3.18 (SE 0.16).\n",
    "Again, compute the sampling distribution of the gender gap and test it.\n",
    "\n",
    "Finally, estimate the change in gender gap; what is the sampling distribution of this change, and is it statistically significant?"
   ]
  },
  {
   "cell_type": "markdown",
   "id": "92ca1151",
   "metadata": {},
   "source": [
    "\"Evidence for the persistent effects of an intervention to mitigate gender-stereotypical task allocation within student engineering teams,\" Proceedings of the IEEE Frontiers in Education Conference, 2014."
   ]
  },
  {
   "cell_type": "code",
   "execution_count": 48,
   "id": "ef290a97",
   "metadata": {},
   "outputs": [
    {
     "data": {
      "application/javascript": [
       "\n",
       "            setTimeout(function() {\n",
       "                var nbb_cell_id = 48;\n",
       "                var nbb_unformatted_code = \"# Solution\\n\\nmale_before = Normal(3.57, 0.28**2)\\nmale_after = Normal(3.44, 0.16**2)\\nfemale_before = Normal(1.91, 0.32**2)\\nfemale_after = Normal(3.18, 0.16**2)\";\n",
       "                var nbb_formatted_code = \"# Solution\\n\\nmale_before = Normal(3.57, 0.28**2)\\nmale_after = Normal(3.44, 0.16**2)\\nfemale_before = Normal(1.91, 0.32**2)\\nfemale_after = Normal(3.18, 0.16**2)\";\n",
       "                var nbb_cells = Jupyter.notebook.get_cells();\n",
       "                for (var i = 0; i < nbb_cells.length; ++i) {\n",
       "                    if (nbb_cells[i].input_prompt_number == nbb_cell_id) {\n",
       "                        if (nbb_cells[i].get_text() == nbb_unformatted_code) {\n",
       "                             nbb_cells[i].set_text(nbb_formatted_code);\n",
       "                        }\n",
       "                        break;\n",
       "                    }\n",
       "                }\n",
       "            }, 500);\n",
       "            "
      ],
      "text/plain": [
       "<IPython.core.display.Javascript object>"
      ]
     },
     "metadata": {},
     "output_type": "display_data"
    }
   ],
   "source": [
    "# Solution\n",
    "\n",
    "male_before = Normal(3.57, 0.28**2)\n",
    "male_after = Normal(3.44, 0.16**2)\n",
    "female_before = Normal(1.91, 0.32**2)\n",
    "female_after = Normal(3.18, 0.16**2)"
   ]
  },
  {
   "cell_type": "code",
   "execution_count": 49,
   "id": "d3476d14",
   "metadata": {},
   "outputs": [
    {
     "data": {
      "text/plain": [
       "0.9999526904676792"
      ]
     },
     "execution_count": 49,
     "metadata": {},
     "output_type": "execute_result"
    },
    {
     "data": {
      "application/javascript": [
       "\n",
       "            setTimeout(function() {\n",
       "                var nbb_cell_id = 49;\n",
       "                var nbb_unformatted_code = \"# Solution\\n\\ndiff_before = female_before - male_before\\ndiff_before.prob(0)\";\n",
       "                var nbb_formatted_code = \"# Solution\\n\\ndiff_before = female_before - male_before\\ndiff_before.prob(0)\";\n",
       "                var nbb_cells = Jupyter.notebook.get_cells();\n",
       "                for (var i = 0; i < nbb_cells.length; ++i) {\n",
       "                    if (nbb_cells[i].input_prompt_number == nbb_cell_id) {\n",
       "                        if (nbb_cells[i].get_text() == nbb_unformatted_code) {\n",
       "                             nbb_cells[i].set_text(nbb_formatted_code);\n",
       "                        }\n",
       "                        break;\n",
       "                    }\n",
       "                }\n",
       "            }, 500);\n",
       "            "
      ],
      "text/plain": [
       "<IPython.core.display.Javascript object>"
      ]
     },
     "metadata": {},
     "output_type": "display_data"
    }
   ],
   "source": [
    "# Solution\n",
    "\n",
    "diff_before = female_before - male_before\n",
    "diff_before.prob(0)"
   ]
  },
  {
   "cell_type": "code",
   "execution_count": 51,
   "id": "327daf88",
   "metadata": {},
   "outputs": [
    {
     "name": "stdout",
     "output_type": "stream",
     "text": [
      "mean, p-value -1.66 4.7309532320793934e-05\n",
      "CI -2.3594013558039837 -0.9605986441960161\n",
      "stderr 0.425205832509386\n"
     ]
    },
    {
     "data": {
      "application/javascript": [
       "\n",
       "            setTimeout(function() {\n",
       "                var nbb_cell_id = 51;\n",
       "                var nbb_unformatted_code = \"# Solution\\n\\nprint(\\\"mean, p-value\\\", diff_before.mu, 1 - diff_before.prob(0))\\nprint(\\\"CI\\\", diff_before.percentile(5), diff_before.percentile(95))\\nprint(\\\"stderr\\\", diff_before.sigma)\";\n",
       "                var nbb_formatted_code = \"# Solution\\n\\nprint(\\\"mean, p-value\\\", diff_before.mu, 1 - diff_before.prob(0))\\nprint(\\\"CI\\\", diff_before.percentile(5), diff_before.percentile(95))\\nprint(\\\"stderr\\\", diff_before.sigma)\";\n",
       "                var nbb_cells = Jupyter.notebook.get_cells();\n",
       "                for (var i = 0; i < nbb_cells.length; ++i) {\n",
       "                    if (nbb_cells[i].input_prompt_number == nbb_cell_id) {\n",
       "                        if (nbb_cells[i].get_text() == nbb_unformatted_code) {\n",
       "                             nbb_cells[i].set_text(nbb_formatted_code);\n",
       "                        }\n",
       "                        break;\n",
       "                    }\n",
       "                }\n",
       "            }, 500);\n",
       "            "
      ],
      "text/plain": [
       "<IPython.core.display.Javascript object>"
      ]
     },
     "metadata": {},
     "output_type": "display_data"
    }
   ],
   "source": [
    "# Solution\n",
    "\n",
    "print(\"mean, p-value\", diff_before.mu, 1 - diff_before.prob(0))\n",
    "print(\"CI\", diff_before.percentile(5), diff_before.percentile(95))\n",
    "print(\"stderr\", diff_before.sigma)"
   ]
  },
  {
   "cell_type": "code",
   "execution_count": 52,
   "id": "380056cb",
   "metadata": {},
   "outputs": [
    {
     "name": "stdout",
     "output_type": "stream",
     "text": [
      "mean, p-value -0.2599999999999998 0.1252679872068192\n",
      "CI -0.6321878891765356 0.11218788917653583\n",
      "stderr 0.2262741699796952\n"
     ]
    },
    {
     "data": {
      "application/javascript": [
       "\n",
       "            setTimeout(function() {\n",
       "                var nbb_cell_id = 52;\n",
       "                var nbb_unformatted_code = \"# Solution\\n\\ndiff_after = female_after - male_after\\nprint(\\\"mean, p-value\\\", diff_after.mu, 1 - diff_after.prob(0))\\nprint(\\\"CI\\\", diff_after.percentile(5), diff_after.percentile(95))\\nprint(\\\"stderr\\\", diff_after.sigma)\";\n",
       "                var nbb_formatted_code = \"# Solution\\n\\ndiff_after = female_after - male_after\\nprint(\\\"mean, p-value\\\", diff_after.mu, 1 - diff_after.prob(0))\\nprint(\\\"CI\\\", diff_after.percentile(5), diff_after.percentile(95))\\nprint(\\\"stderr\\\", diff_after.sigma)\";\n",
       "                var nbb_cells = Jupyter.notebook.get_cells();\n",
       "                for (var i = 0; i < nbb_cells.length; ++i) {\n",
       "                    if (nbb_cells[i].input_prompt_number == nbb_cell_id) {\n",
       "                        if (nbb_cells[i].get_text() == nbb_unformatted_code) {\n",
       "                             nbb_cells[i].set_text(nbb_formatted_code);\n",
       "                        }\n",
       "                        break;\n",
       "                    }\n",
       "                }\n",
       "            }, 500);\n",
       "            "
      ],
      "text/plain": [
       "<IPython.core.display.Javascript object>"
      ]
     },
     "metadata": {},
     "output_type": "display_data"
    }
   ],
   "source": [
    "# Solution\n",
    "\n",
    "diff_after = female_after - male_after\n",
    "print(\"mean, p-value\", diff_after.mu, 1 - diff_after.prob(0))\n",
    "print(\"CI\", diff_after.percentile(5), diff_after.percentile(95))\n",
    "print(\"stderr\", diff_after.sigma)"
   ]
  },
  {
   "cell_type": "code",
   "execution_count": 53,
   "id": "834ffcc1",
   "metadata": {},
   "outputs": [
    {
     "name": "stdout",
     "output_type": "stream",
     "text": [
      "mean, p-value 1.4000000000000001 0.0018269483689769925\n",
      "CI 0.6077335793117721 2.192266420688228\n",
      "stderr 0.48166378315169184\n"
     ]
    },
    {
     "data": {
      "application/javascript": [
       "\n",
       "            setTimeout(function() {\n",
       "                var nbb_cell_id = 53;\n",
       "                var nbb_unformatted_code = \"# Solution\\n\\ndiff = diff_after - diff_before\\nprint(\\\"mean, p-value\\\", diff.mu, diff.prob(0))\\nprint(\\\"CI\\\", diff.percentile(5), diff.percentile(95))\\nprint(\\\"stderr\\\", diff.sigma)\";\n",
       "                var nbb_formatted_code = \"# Solution\\n\\ndiff = diff_after - diff_before\\nprint(\\\"mean, p-value\\\", diff.mu, diff.prob(0))\\nprint(\\\"CI\\\", diff.percentile(5), diff.percentile(95))\\nprint(\\\"stderr\\\", diff.sigma)\";\n",
       "                var nbb_cells = Jupyter.notebook.get_cells();\n",
       "                for (var i = 0; i < nbb_cells.length; ++i) {\n",
       "                    if (nbb_cells[i].input_prompt_number == nbb_cell_id) {\n",
       "                        if (nbb_cells[i].get_text() == nbb_unformatted_code) {\n",
       "                             nbb_cells[i].set_text(nbb_formatted_code);\n",
       "                        }\n",
       "                        break;\n",
       "                    }\n",
       "                }\n",
       "            }, 500);\n",
       "            "
      ],
      "text/plain": [
       "<IPython.core.display.Javascript object>"
      ]
     },
     "metadata": {},
     "output_type": "display_data"
    }
   ],
   "source": [
    "# Solution\n",
    "\n",
    "diff = diff_after - diff_before\n",
    "print(\"mean, p-value\", diff.mu, diff.prob(0))\n",
    "print(\"CI\", diff.percentile(5), diff.percentile(95))\n",
    "print(\"stderr\", diff.sigma)"
   ]
  },
  {
   "cell_type": "markdown",
   "id": "e27da3a4",
   "metadata": {
    "tags": []
   },
   "source": [
    "[Think Stats: Exploratory Data Analysis in Python, 3rd Edition](https://allendowney.github.io/ThinkStats/index.html)\n",
    "\n",
    "Copyright 2024 [Allen B. Downey](https://allendowney.com)\n",
    "\n",
    "Code license: [MIT License](https://mit-license.org/)\n",
    "\n",
    "Text license: [Creative Commons Attribution-NonCommercial-ShareAlike 4.0 International](https://creativecommons.org/licenses/by-nc-sa/4.0/)"
   ]
  },
  {
   "cell_type": "code",
   "execution_count": null,
   "id": "cf5d3c15",
   "metadata": {},
   "outputs": [],
   "source": []
  }
 ],
 "metadata": {
  "celltoolbar": "Tags",
  "kernelspec": {
   "display_name": "Python 3 (ipykernel)",
   "language": "python",
   "name": "python3"
  },
  "language_info": {
   "codemirror_mode": {
    "name": "ipython",
    "version": 3
   },
   "file_extension": ".py",
   "mimetype": "text/x-python",
   "name": "python",
   "nbconvert_exporter": "python",
   "pygments_lexer": "ipython3",
   "version": "3.10.14"
  }
 },
 "nbformat": 4,
 "nbformat_minor": 5
}
