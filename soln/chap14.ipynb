{
 "cells": [
  {
   "cell_type": "markdown",
   "id": "52c53da4",
   "metadata": {},
   "source": [
    "# Analytic Methods\n",
    "\n",
    "This book has focused on computational methods like simulation and resampling, but some of the problems we solved have analytic solutions that can be much faster.\n",
    "\n",
    "This chapter presents some of these methods and explains how they work.\n",
    "At the end of the chapter, I make suggestions for integrating computational and analytic methods for data analysis."
   ]
  },
  {
   "cell_type": "markdown",
   "id": "07a92b7f",
   "metadata": {
    "tags": [
     "remove-print"
    ]
   },
   "source": [
    "[Click here to run this notebook on Colab](https://colab.research.google.com/github/AllenDowney/ThinkStats/blob/v3/nb/chap14.ipynb)."
   ]
  },
  {
   "cell_type": "code",
   "execution_count": 1,
   "id": "e1e0ae6b",
   "metadata": {
    "tags": [
     "remove-print",
     "hide-cell"
    ]
   },
   "outputs": [
    {
     "data": {
      "application/javascript": [
       "\n",
       "            setTimeout(function() {\n",
       "                var nbb_cell_id = 1;\n",
       "                var nbb_unformatted_code = \"%load_ext nb_black\\n%load_ext autoreload\\n%autoreload 2\";\n",
       "                var nbb_formatted_code = \"%load_ext nb_black\\n%load_ext autoreload\\n%autoreload 2\";\n",
       "                var nbb_cells = Jupyter.notebook.get_cells();\n",
       "                for (var i = 0; i < nbb_cells.length; ++i) {\n",
       "                    if (nbb_cells[i].input_prompt_number == nbb_cell_id) {\n",
       "                        if (nbb_cells[i].get_text() == nbb_unformatted_code) {\n",
       "                             nbb_cells[i].set_text(nbb_formatted_code);\n",
       "                        }\n",
       "                        break;\n",
       "                    }\n",
       "                }\n",
       "            }, 500);\n",
       "            "
      ],
      "text/plain": [
       "<IPython.core.display.Javascript object>"
      ]
     },
     "metadata": {},
     "output_type": "display_data"
    }
   ],
   "source": [
    "%load_ext nb_black\n",
    "%load_ext autoreload\n",
    "%autoreload 2"
   ]
  },
  {
   "cell_type": "code",
   "execution_count": 2,
   "id": "f61641d6",
   "metadata": {
    "tags": [
     "remove-print",
     "hide-cell"
    ]
   },
   "outputs": [
    {
     "data": {
      "application/javascript": [
       "\n",
       "            setTimeout(function() {\n",
       "                var nbb_cell_id = 2;\n",
       "                var nbb_unformatted_code = \"from os.path import basename, exists\\n\\n\\ndef download(url):\\n    filename = basename(url)\\n    if not exists(filename):\\n        from urllib.request import urlretrieve\\n\\n        local, _ = urlretrieve(url, filename)\\n        print(\\\"Downloaded \\\" + local)\\n\\n\\ndownload(\\\"https://github.com/AllenDowney/ThinkStats/raw/v3/nb/thinkstats.py\\\")\";\n",
       "                var nbb_formatted_code = \"from os.path import basename, exists\\n\\n\\ndef download(url):\\n    filename = basename(url)\\n    if not exists(filename):\\n        from urllib.request import urlretrieve\\n\\n        local, _ = urlretrieve(url, filename)\\n        print(\\\"Downloaded \\\" + local)\\n\\n\\ndownload(\\\"https://github.com/AllenDowney/ThinkStats/raw/v3/nb/thinkstats.py\\\")\";\n",
       "                var nbb_cells = Jupyter.notebook.get_cells();\n",
       "                for (var i = 0; i < nbb_cells.length; ++i) {\n",
       "                    if (nbb_cells[i].input_prompt_number == nbb_cell_id) {\n",
       "                        if (nbb_cells[i].get_text() == nbb_unformatted_code) {\n",
       "                             nbb_cells[i].set_text(nbb_formatted_code);\n",
       "                        }\n",
       "                        break;\n",
       "                    }\n",
       "                }\n",
       "            }, 500);\n",
       "            "
      ],
      "text/plain": [
       "<IPython.core.display.Javascript object>"
      ]
     },
     "metadata": {},
     "output_type": "display_data"
    }
   ],
   "source": [
    "from os.path import basename, exists\n",
    "\n",
    "\n",
    "def download(url):\n",
    "    filename = basename(url)\n",
    "    if not exists(filename):\n",
    "        from urllib.request import urlretrieve\n",
    "\n",
    "        local, _ = urlretrieve(url, filename)\n",
    "        print(\"Downloaded \" + local)\n",
    "\n",
    "\n",
    "download(\"https://github.com/AllenDowney/ThinkStats/raw/v3/nb/thinkstats.py\")"
   ]
  },
  {
   "cell_type": "code",
   "execution_count": 3,
   "id": "dfb3ff15",
   "metadata": {
    "tags": [
     "remove-print",
     "hide-cell"
    ]
   },
   "outputs": [
    {
     "data": {
      "application/javascript": [
       "\n",
       "            setTimeout(function() {\n",
       "                var nbb_cell_id = 3;\n",
       "                var nbb_unformatted_code = \"try:\\n    import empiricaldist\\nexcept ImportError:\\n    !pip install empiricaldist\";\n",
       "                var nbb_formatted_code = \"try:\\n    import empiricaldist\\nexcept ImportError:\\n    !pip install empiricaldist\";\n",
       "                var nbb_cells = Jupyter.notebook.get_cells();\n",
       "                for (var i = 0; i < nbb_cells.length; ++i) {\n",
       "                    if (nbb_cells[i].input_prompt_number == nbb_cell_id) {\n",
       "                        if (nbb_cells[i].get_text() == nbb_unformatted_code) {\n",
       "                             nbb_cells[i].set_text(nbb_formatted_code);\n",
       "                        }\n",
       "                        break;\n",
       "                    }\n",
       "                }\n",
       "            }, 500);\n",
       "            "
      ],
      "text/plain": [
       "<IPython.core.display.Javascript object>"
      ]
     },
     "metadata": {},
     "output_type": "display_data"
    }
   ],
   "source": [
    "try:\n",
    "    import empiricaldist\n",
    "except ImportError:\n",
    "    !pip install empiricaldist"
   ]
  },
  {
   "cell_type": "code",
   "execution_count": 4,
   "id": "101a23bc",
   "metadata": {
    "tags": [
     "remove-print",
     "hide-cell"
    ]
   },
   "outputs": [
    {
     "data": {
      "application/javascript": [
       "\n",
       "            setTimeout(function() {\n",
       "                var nbb_cell_id = 4;\n",
       "                var nbb_unformatted_code = \"import numpy as np\\nimport pandas as pd\\nimport matplotlib.pyplot as plt\\n\\nfrom thinkstats import decorate\";\n",
       "                var nbb_formatted_code = \"import numpy as np\\nimport pandas as pd\\nimport matplotlib.pyplot as plt\\n\\nfrom thinkstats import decorate\";\n",
       "                var nbb_cells = Jupyter.notebook.get_cells();\n",
       "                for (var i = 0; i < nbb_cells.length; ++i) {\n",
       "                    if (nbb_cells[i].input_prompt_number == nbb_cell_id) {\n",
       "                        if (nbb_cells[i].get_text() == nbb_unformatted_code) {\n",
       "                             nbb_cells[i].set_text(nbb_formatted_code);\n",
       "                        }\n",
       "                        break;\n",
       "                    }\n",
       "                }\n",
       "            }, 500);\n",
       "            "
      ],
      "text/plain": [
       "<IPython.core.display.Javascript object>"
      ]
     },
     "metadata": {},
     "output_type": "display_data"
    }
   ],
   "source": [
    "import numpy as np\n",
    "import pandas as pd\n",
    "import matplotlib.pyplot as plt\n",
    "\n",
    "from thinkstats import decorate"
   ]
  },
  {
   "cell_type": "markdown",
   "id": "a66b3b13",
   "metadata": {},
   "source": [
    "## Normal Probability Plots\n",
    "\n",
    "Many analytic methods are based on the properties of the normal distribution, for two reasons: distributions of many measurements in the real world are well-approximated by normal distributions, and normal distributions have mathematical properties that make them useful for analysis.\n",
    "\n",
    "To demonstrate the first point, we'll look at some of the measurements in the penguin dataset, which we saw in Section XXX.\n",
    "Then we'll explore the mathematical properties of the normal distribution.\n",
    "Instructions for downloading the penguin dataset are in the notebook for this chapter.\n"
   ]
  },
  {
   "cell_type": "markdown",
   "id": "0f3e7431",
   "metadata": {
    "tags": [
     "remove-print"
    ]
   },
   "source": [
    "The following cell downloads the data."
   ]
  },
  {
   "cell_type": "code",
   "execution_count": 5,
   "id": "b5305102",
   "metadata": {
    "tags": [
     "remove-print"
    ]
   },
   "outputs": [
    {
     "data": {
      "application/javascript": [
       "\n",
       "            setTimeout(function() {\n",
       "                var nbb_cell_id = 5;\n",
       "                var nbb_unformatted_code = \"download(\\n    \\\"https://raw.githubusercontent.com/allisonhorst/palmerpenguins/c19a904462482430170bfe2c718775ddb7dbb885/inst/extdata/penguins_raw.csv\\\"\\n)\";\n",
       "                var nbb_formatted_code = \"download(\\n    \\\"https://raw.githubusercontent.com/allisonhorst/palmerpenguins/c19a904462482430170bfe2c718775ddb7dbb885/inst/extdata/penguins_raw.csv\\\"\\n)\";\n",
       "                var nbb_cells = Jupyter.notebook.get_cells();\n",
       "                for (var i = 0; i < nbb_cells.length; ++i) {\n",
       "                    if (nbb_cells[i].input_prompt_number == nbb_cell_id) {\n",
       "                        if (nbb_cells[i].get_text() == nbb_unformatted_code) {\n",
       "                             nbb_cells[i].set_text(nbb_formatted_code);\n",
       "                        }\n",
       "                        break;\n",
       "                    }\n",
       "                }\n",
       "            }, 500);\n",
       "            "
      ],
      "text/plain": [
       "<IPython.core.display.Javascript object>"
      ]
     },
     "metadata": {},
     "output_type": "display_data"
    }
   ],
   "source": [
    "download(\n",
    "    \"https://raw.githubusercontent.com/allisonhorst/palmerpenguins/c19a904462482430170bfe2c718775ddb7dbb885/inst/extdata/penguins_raw.csv\"\n",
    ")"
   ]
  },
  {
   "cell_type": "markdown",
   "id": "31ecea73",
   "metadata": {},
   "source": [
    "We can read the data like this."
   ]
  },
  {
   "cell_type": "code",
   "execution_count": 6,
   "id": "4b616c33",
   "metadata": {},
   "outputs": [
    {
     "data": {
      "text/plain": [
       "(344, 17)"
      ]
     },
     "execution_count": 6,
     "metadata": {},
     "output_type": "execute_result"
    },
    {
     "data": {
      "application/javascript": [
       "\n",
       "            setTimeout(function() {\n",
       "                var nbb_cell_id = 6;\n",
       "                var nbb_unformatted_code = \"penguins = pd.read_csv(\\\"penguins_raw.csv\\\")\\npenguins.shape\";\n",
       "                var nbb_formatted_code = \"penguins = pd.read_csv(\\\"penguins_raw.csv\\\")\\npenguins.shape\";\n",
       "                var nbb_cells = Jupyter.notebook.get_cells();\n",
       "                for (var i = 0; i < nbb_cells.length; ++i) {\n",
       "                    if (nbb_cells[i].input_prompt_number == nbb_cell_id) {\n",
       "                        if (nbb_cells[i].get_text() == nbb_unformatted_code) {\n",
       "                             nbb_cells[i].set_text(nbb_formatted_code);\n",
       "                        }\n",
       "                        break;\n",
       "                    }\n",
       "                }\n",
       "            }, 500);\n",
       "            "
      ],
      "text/plain": [
       "<IPython.core.display.Javascript object>"
      ]
     },
     "metadata": {},
     "output_type": "display_data"
    }
   ],
   "source": [
    "penguins = pd.read_csv(\"penguins_raw.csv\")\n",
    "penguins.shape"
   ]
  },
  {
   "cell_type": "markdown",
   "id": "cf96d0ee",
   "metadata": {},
   "source": [
    "The datasets contain measurements from three penguin species.\n",
    "For this example, we'll select the Adelie penguins."
   ]
  },
  {
   "cell_type": "code",
   "execution_count": 7,
   "id": "90473d57",
   "metadata": {},
   "outputs": [
    {
     "data": {
      "text/plain": [
       "152"
      ]
     },
     "execution_count": 7,
     "metadata": {},
     "output_type": "execute_result"
    },
    {
     "data": {
      "application/javascript": [
       "\n",
       "            setTimeout(function() {\n",
       "                var nbb_cell_id = 7;\n",
       "                var nbb_unformatted_code = \"adelie = penguins.query('Species.str.startswith(\\\"Adelie\\\")').copy()\\nlen(adelie)\";\n",
       "                var nbb_formatted_code = \"adelie = penguins.query('Species.str.startswith(\\\"Adelie\\\")').copy()\\nlen(adelie)\";\n",
       "                var nbb_cells = Jupyter.notebook.get_cells();\n",
       "                for (var i = 0; i < nbb_cells.length; ++i) {\n",
       "                    if (nbb_cells[i].input_prompt_number == nbb_cell_id) {\n",
       "                        if (nbb_cells[i].get_text() == nbb_unformatted_code) {\n",
       "                             nbb_cells[i].set_text(nbb_formatted_code);\n",
       "                        }\n",
       "                        break;\n",
       "                    }\n",
       "                }\n",
       "            }, 500);\n",
       "            "
      ],
      "text/plain": [
       "<IPython.core.display.Javascript object>"
      ]
     },
     "metadata": {},
     "output_type": "display_data"
    }
   ],
   "source": [
    "adelie = penguins.query('Species.str.startswith(\"Adelie\")').copy()\n",
    "len(adelie)"
   ]
  },
  {
   "cell_type": "markdown",
   "id": "ebc1881b",
   "metadata": {},
   "source": [
    "To see if the penguin weights follow a normal distribution, we'll compute the empirical CDF of the data."
   ]
  },
  {
   "cell_type": "code",
   "execution_count": 8,
   "id": "125f106d",
   "metadata": {},
   "outputs": [
    {
     "data": {
      "application/javascript": [
       "\n",
       "            setTimeout(function() {\n",
       "                var nbb_cell_id = 8;\n",
       "                var nbb_unformatted_code = \"from empiricaldist import Cdf\\n\\nweights = adelie[\\\"Body Mass (g)\\\"].dropna()\\ncdf_weights = Cdf.from_seq(weights)\";\n",
       "                var nbb_formatted_code = \"from empiricaldist import Cdf\\n\\nweights = adelie[\\\"Body Mass (g)\\\"].dropna()\\ncdf_weights = Cdf.from_seq(weights)\";\n",
       "                var nbb_cells = Jupyter.notebook.get_cells();\n",
       "                for (var i = 0; i < nbb_cells.length; ++i) {\n",
       "                    if (nbb_cells[i].input_prompt_number == nbb_cell_id) {\n",
       "                        if (nbb_cells[i].get_text() == nbb_unformatted_code) {\n",
       "                             nbb_cells[i].set_text(nbb_formatted_code);\n",
       "                        }\n",
       "                        break;\n",
       "                    }\n",
       "                }\n",
       "            }, 500);\n",
       "            "
      ],
      "text/plain": [
       "<IPython.core.display.Javascript object>"
      ]
     },
     "metadata": {},
     "output_type": "display_data"
    }
   ],
   "source": [
    "from empiricaldist import Cdf\n",
    "\n",
    "weights = adelie[\"Body Mass (g)\"].dropna()\n",
    "cdf_weights = Cdf.from_seq(weights)"
   ]
  },
  {
   "cell_type": "markdown",
   "id": "a8ad44ce",
   "metadata": {},
   "source": [
    "And we'll compute the analytic CDF of a normal distribution with the same mean and standard deviation."
   ]
  },
  {
   "cell_type": "code",
   "execution_count": 9,
   "id": "82688ccb",
   "metadata": {},
   "outputs": [
    {
     "data": {
      "text/plain": [
       "(3700.662251655629, 458.5661259101348)"
      ]
     },
     "execution_count": 9,
     "metadata": {},
     "output_type": "execute_result"
    },
    {
     "data": {
      "application/javascript": [
       "\n",
       "            setTimeout(function() {\n",
       "                var nbb_cell_id = 9;\n",
       "                var nbb_unformatted_code = \"m, s = weights.mean(), weights.std()\\nm, s\";\n",
       "                var nbb_formatted_code = \"m, s = weights.mean(), weights.std()\\nm, s\";\n",
       "                var nbb_cells = Jupyter.notebook.get_cells();\n",
       "                for (var i = 0; i < nbb_cells.length; ++i) {\n",
       "                    if (nbb_cells[i].input_prompt_number == nbb_cell_id) {\n",
       "                        if (nbb_cells[i].get_text() == nbb_unformatted_code) {\n",
       "                             nbb_cells[i].set_text(nbb_formatted_code);\n",
       "                        }\n",
       "                        break;\n",
       "                    }\n",
       "                }\n",
       "            }, 500);\n",
       "            "
      ],
      "text/plain": [
       "<IPython.core.display.Javascript object>"
      ]
     },
     "metadata": {},
     "output_type": "display_data"
    }
   ],
   "source": [
    "m, s = weights.mean(), weights.std()\n",
    "m, s"
   ]
  },
  {
   "cell_type": "code",
   "execution_count": 10,
   "id": "a076e36d",
   "metadata": {},
   "outputs": [
    {
     "data": {
      "application/javascript": [
       "\n",
       "            setTimeout(function() {\n",
       "                var nbb_cell_id = 10;\n",
       "                var nbb_unformatted_code = \"from scipy.stats import norm\\n\\ndist = norm(m, s)\\nqs = np.linspace(m - 3.5 * s, m + 3.5 * s)\\nps = dist.cdf(qs)\";\n",
       "                var nbb_formatted_code = \"from scipy.stats import norm\\n\\ndist = norm(m, s)\\nqs = np.linspace(m - 3.5 * s, m + 3.5 * s)\\nps = dist.cdf(qs)\";\n",
       "                var nbb_cells = Jupyter.notebook.get_cells();\n",
       "                for (var i = 0; i < nbb_cells.length; ++i) {\n",
       "                    if (nbb_cells[i].input_prompt_number == nbb_cell_id) {\n",
       "                        if (nbb_cells[i].get_text() == nbb_unformatted_code) {\n",
       "                             nbb_cells[i].set_text(nbb_formatted_code);\n",
       "                        }\n",
       "                        break;\n",
       "                    }\n",
       "                }\n",
       "            }, 500);\n",
       "            "
      ],
      "text/plain": [
       "<IPython.core.display.Javascript object>"
      ]
     },
     "metadata": {},
     "output_type": "display_data"
    }
   ],
   "source": [
    "from scipy.stats import norm\n",
    "\n",
    "dist = norm(m, s)\n",
    "qs = np.linspace(m - 3.5 * s, m + 3.5 * s)\n",
    "ps = dist.cdf(qs)"
   ]
  },
  {
   "cell_type": "markdown",
   "id": "80ddb849",
   "metadata": {},
   "source": [
    "Here's what the CDF of the data looks like compared to the normal model."
   ]
  },
  {
   "cell_type": "code",
   "execution_count": 11,
   "id": "b992d5e4",
   "metadata": {},
   "outputs": [
    {
     "data": {
      "image/png": "[encoded data removed]",
      "text/plain": [
       "<Figure size 450x262.5 with 1 Axes>"
      ]
     },
     "metadata": {},
     "output_type": "display_data"
    },
    {
     "data": {
      "application/javascript": [
       "\n",
       "            setTimeout(function() {\n",
       "                var nbb_cell_id = 11;\n",
       "                var nbb_unformatted_code = \"plt.plot(qs, ps, color=\\\"gray\\\", alpha=0.5, label=\\\"Normal model\\\")\\ncdf_weights.plot(label=\\\"data\\\")\\n\\ndecorate(ylabel=\\\"CDF\\\")\";\n",
       "                var nbb_formatted_code = \"plt.plot(qs, ps, color=\\\"gray\\\", alpha=0.5, label=\\\"Normal model\\\")\\ncdf_weights.plot(label=\\\"data\\\")\\n\\ndecorate(ylabel=\\\"CDF\\\")\";\n",
       "                var nbb_cells = Jupyter.notebook.get_cells();\n",
       "                for (var i = 0; i < nbb_cells.length; ++i) {\n",
       "                    if (nbb_cells[i].input_prompt_number == nbb_cell_id) {\n",
       "                        if (nbb_cells[i].get_text() == nbb_unformatted_code) {\n",
       "                             nbb_cells[i].set_text(nbb_formatted_code);\n",
       "                        }\n",
       "                        break;\n",
       "                    }\n",
       "                }\n",
       "            }, 500);\n",
       "            "
      ],
      "text/plain": [
       "<IPython.core.display.Javascript object>"
      ]
     },
     "metadata": {},
     "output_type": "display_data"
    }
   ],
   "source": [
    "plt.plot(qs, ps, color=\"gray\", alpha=0.5, label=\"Normal model\")\n",
    "cdf_weights.plot(label=\"data\")\n",
    "\n",
    "decorate(ylabel=\"CDF\")"
   ]
  },
  {
   "cell_type": "markdown",
   "id": "9c7780bb",
   "metadata": {},
   "source": [
    "The normal distribution might be a good enough model of this data, but it's certainly not a perfect fit.\n",
    "\n",
    "In general, plotting the CDF of the data and the CDF of a model is a good way to evaluate how well the model fits the data.\n",
    "But one drawback of this method is that it depends on how well we estimate the parameters of the model -- in this example the mean and standard deviation.\n",
    "\n",
    "An alternative is a normal probability plot, which does not depend on our ability to estimate parameters.\n",
    "A normal probability plot is a kind of \"P-P plot\", which stands for **percentile-percentile plot**, because it plots the percentiles of the data against the percentiles of a model.\n",
    "In a normal probability plot, the model is a standard normal distribution -- that is, one with mean 0 and standard deviation 1.\n",
    "\n",
    "In a normal probability plot the $y$ values are the sorted measurements."
   ]
  },
  {
   "cell_type": "code",
   "execution_count": 12,
   "id": "0638de99",
   "metadata": {},
   "outputs": [
    {
     "data": {
      "application/javascript": [
       "\n",
       "            setTimeout(function() {\n",
       "                var nbb_cell_id = 12;\n",
       "                var nbb_unformatted_code = \"ys = np.sort(weights)\";\n",
       "                var nbb_formatted_code = \"ys = np.sort(weights)\";\n",
       "                var nbb_cells = Jupyter.notebook.get_cells();\n",
       "                for (var i = 0; i < nbb_cells.length; ++i) {\n",
       "                    if (nbb_cells[i].input_prompt_number == nbb_cell_id) {\n",
       "                        if (nbb_cells[i].get_text() == nbb_unformatted_code) {\n",
       "                             nbb_cells[i].set_text(nbb_formatted_code);\n",
       "                        }\n",
       "                        break;\n",
       "                    }\n",
       "                }\n",
       "            }, 500);\n",
       "            "
      ],
      "text/plain": [
       "<IPython.core.display.Javascript object>"
      ]
     },
     "metadata": {},
     "output_type": "display_data"
    }
   ],
   "source": [
    "ys = np.sort(weights)"
   ]
  },
  {
   "cell_type": "markdown",
   "id": "9fc490c0",
   "metadata": {},
   "source": [
    "And the $x$ values are the corresponding percentiles of a normal distribution, computes using the `ppf` method of the `norm` object, which computes the inverse CDF."
   ]
  },
  {
   "cell_type": "code",
   "execution_count": 13,
   "id": "2d24b276",
   "metadata": {},
   "outputs": [
    {
     "data": {
      "application/javascript": [
       "\n",
       "            setTimeout(function() {\n",
       "                var nbb_cell_id = 13;\n",
       "                var nbb_unformatted_code = \"n = len(weights)\\nxs = norm.ppf((np.arange(n) + 0.5) / n)\";\n",
       "                var nbb_formatted_code = \"n = len(weights)\\nxs = norm.ppf((np.arange(n) + 0.5) / n)\";\n",
       "                var nbb_cells = Jupyter.notebook.get_cells();\n",
       "                for (var i = 0; i < nbb_cells.length; ++i) {\n",
       "                    if (nbb_cells[i].input_prompt_number == nbb_cell_id) {\n",
       "                        if (nbb_cells[i].get_text() == nbb_unformatted_code) {\n",
       "                             nbb_cells[i].set_text(nbb_formatted_code);\n",
       "                        }\n",
       "                        break;\n",
       "                    }\n",
       "                }\n",
       "            }, 500);\n",
       "            "
      ],
      "text/plain": [
       "<IPython.core.display.Javascript object>"
      ]
     },
     "metadata": {},
     "output_type": "display_data"
    }
   ],
   "source": [
    "n = len(weights)\n",
    "xs = norm.ppf((np.arange(n) + 0.5) / n)"
   ]
  },
  {
   "cell_type": "markdown",
   "id": "9860c3fb",
   "metadata": {},
   "source": [
    "If the measurements are actually drawn from a normal distribution, the $y$ and $x$ values should fall on a straight line.\n",
    "To see how well they do, we can use `linregress` to fit a line."
   ]
  },
  {
   "cell_type": "code",
   "execution_count": 14,
   "id": "b1bebe9d",
   "metadata": {},
   "outputs": [
    {
     "data": {
      "application/javascript": [
       "\n",
       "            setTimeout(function() {\n",
       "                var nbb_cell_id = 14;\n",
       "                var nbb_unformatted_code = \"from scipy.stats import linregress\\n\\nresults = linregress(xs, ys)\\nintercept, slope = results.intercept, results.slope\\n\\nfit_xs = np.linspace(-3, 3)\\nfit_ys = intercept + slope * fit_xs\";\n",
       "                var nbb_formatted_code = \"from scipy.stats import linregress\\n\\nresults = linregress(xs, ys)\\nintercept, slope = results.intercept, results.slope\\n\\nfit_xs = np.linspace(-3, 3)\\nfit_ys = intercept + slope * fit_xs\";\n",
       "                var nbb_cells = Jupyter.notebook.get_cells();\n",
       "                for (var i = 0; i < nbb_cells.length; ++i) {\n",
       "                    if (nbb_cells[i].input_prompt_number == nbb_cell_id) {\n",
       "                        if (nbb_cells[i].get_text() == nbb_unformatted_code) {\n",
       "                             nbb_cells[i].set_text(nbb_formatted_code);\n",
       "                        }\n",
       "                        break;\n",
       "                    }\n",
       "                }\n",
       "            }, 500);\n",
       "            "
      ],
      "text/plain": [
       "<IPython.core.display.Javascript object>"
      ]
     },
     "metadata": {},
     "output_type": "display_data"
    }
   ],
   "source": [
    "from scipy.stats import linregress\n",
    "\n",
    "results = linregress(xs, ys)\n",
    "intercept, slope = results.intercept, results.slope\n",
    "\n",
    "fit_xs = np.linspace(-3, 3)\n",
    "fit_ys = intercept + slope * fit_xs"
   ]
  },
  {
   "cell_type": "markdown",
   "id": "020a663a",
   "metadata": {},
   "source": [
    "Here are the results along with the fitted line."
   ]
  },
  {
   "cell_type": "code",
   "execution_count": 15,
   "id": "cdcc30c5",
   "metadata": {},
   "outputs": [
    {
     "data": {
      "image/png": "[encoded data removed]",
      "text/plain": [
       "<Figure size 450x262.5 with 1 Axes>"
      ]
     },
     "metadata": {},
     "output_type": "display_data"
    },
    {
     "data": {
      "application/javascript": [
       "\n",
       "            setTimeout(function() {\n",
       "                var nbb_cell_id = 15;\n",
       "                var nbb_unformatted_code = \"plt.plot(fit_xs, fit_ys, color=\\\"gray\\\", alpha=0.5, label=\\\"model\\\")\\nplt.plot(xs, ys, label=\\\"data\\\")\\n\\ndecorate(xlabel=\\\"Standard normal\\\", ylabel=\\\"Body mass (g)\\\")\";\n",
       "                var nbb_formatted_code = \"plt.plot(fit_xs, fit_ys, color=\\\"gray\\\", alpha=0.5, label=\\\"model\\\")\\nplt.plot(xs, ys, label=\\\"data\\\")\\n\\ndecorate(xlabel=\\\"Standard normal\\\", ylabel=\\\"Body mass (g)\\\")\";\n",
       "                var nbb_cells = Jupyter.notebook.get_cells();\n",
       "                for (var i = 0; i < nbb_cells.length; ++i) {\n",
       "                    if (nbb_cells[i].input_prompt_number == nbb_cell_id) {\n",
       "                        if (nbb_cells[i].get_text() == nbb_unformatted_code) {\n",
       "                             nbb_cells[i].set_text(nbb_formatted_code);\n",
       "                        }\n",
       "                        break;\n",
       "                    }\n",
       "                }\n",
       "            }, 500);\n",
       "            "
      ],
      "text/plain": [
       "<IPython.core.display.Javascript object>"
      ]
     },
     "metadata": {},
     "output_type": "display_data"
    }
   ],
   "source": [
    "plt.plot(fit_xs, fit_ys, color=\"gray\", alpha=0.5, label=\"model\")\n",
    "plt.plot(xs, ys, label=\"data\")\n",
    "\n",
    "decorate(xlabel=\"Standard normal\", ylabel=\"Body mass (g)\")"
   ]
  },
  {
   "cell_type": "markdown",
   "id": "5381ed78",
   "metadata": {},
   "source": [
    "The normal probability plot is not a perfectly straight line, which indicates that the normal distribution is not a perfect model for this data.\n",
    "One reason is that the dataset includes male and female penguins, so let's see what happens if we plot the two groups separately.\n",
    "The following function encapsulates the steps we used to make a normal probability plot.\n"
   ]
  },
  {
   "cell_type": "code",
   "execution_count": 16,
   "id": "976ff517",
   "metadata": {},
   "outputs": [
    {
     "data": {
      "application/javascript": [
       "\n",
       "            setTimeout(function() {\n",
       "                var nbb_cell_id = 16;\n",
       "                var nbb_unformatted_code = \"def normal_probability_plot(sample, **options):\\n    \\\"\\\"\\\"Makes a normal probability plot with a fitted line.\\\"\\\"\\\"\\n    n = len(sample)\\n    xs = norm.ppf((np.arange(n) + 0.5) / n)\\n    ys = np.sort(sample)\\n\\n    results = linregress(xs, ys)\\n    intercept, slope = results.intercept, results.slope\\n\\n    fit_xs = np.linspace(-3, 3)\\n    fit_ys = intercept + slope * fit_xs\\n\\n    plt.plot(fit_xs, fit_ys, color=\\\"gray\\\", alpha=0.5)\\n    plt.plot(xs, ys, **options)\\n    decorate(xlabel=\\\"Standard normal\\\")\";\n",
       "                var nbb_formatted_code = \"def normal_probability_plot(sample, **options):\\n    \\\"\\\"\\\"Makes a normal probability plot with a fitted line.\\\"\\\"\\\"\\n    n = len(sample)\\n    xs = norm.ppf((np.arange(n) + 0.5) / n)\\n    ys = np.sort(sample)\\n\\n    results = linregress(xs, ys)\\n    intercept, slope = results.intercept, results.slope\\n\\n    fit_xs = np.linspace(-3, 3)\\n    fit_ys = intercept + slope * fit_xs\\n\\n    plt.plot(fit_xs, fit_ys, color=\\\"gray\\\", alpha=0.5)\\n    plt.plot(xs, ys, **options)\\n    decorate(xlabel=\\\"Standard normal\\\")\";\n",
       "                var nbb_cells = Jupyter.notebook.get_cells();\n",
       "                for (var i = 0; i < nbb_cells.length; ++i) {\n",
       "                    if (nbb_cells[i].input_prompt_number == nbb_cell_id) {\n",
       "                        if (nbb_cells[i].get_text() == nbb_unformatted_code) {\n",
       "                             nbb_cells[i].set_text(nbb_formatted_code);\n",
       "                        }\n",
       "                        break;\n",
       "                    }\n",
       "                }\n",
       "            }, 500);\n",
       "            "
      ],
      "text/plain": [
       "<IPython.core.display.Javascript object>"
      ]
     },
     "metadata": {},
     "output_type": "display_data"
    }
   ],
   "source": [
    "def normal_probability_plot(sample, **options):\n",
    "    \"\"\"Makes a normal probability plot with a fitted line.\"\"\"\n",
    "    n = len(sample)\n",
    "    xs = norm.ppf((np.arange(n) + 0.5) / n)\n",
    "    ys = np.sort(sample)\n",
    "\n",
    "    results = linregress(xs, ys)\n",
    "    intercept, slope = results.intercept, results.slope\n",
    "\n",
    "    fit_xs = np.linspace(-3, 3)\n",
    "    fit_ys = intercept + slope * fit_xs\n",
    "\n",
    "    plt.plot(fit_xs, fit_ys, color=\"gray\", alpha=0.5)\n",
    "    plt.plot(xs, ys, **options)\n",
    "    decorate(xlabel=\"Standard normal\")"
   ]
  },
  {
   "cell_type": "markdown",
   "id": "e2447c63",
   "metadata": {},
   "source": [
    "Here's what the results look like for male and female penguins."
   ]
  },
  {
   "cell_type": "code",
   "execution_count": 17,
   "id": "f9ce4632",
   "metadata": {},
   "outputs": [
    {
     "data": {
      "image/png": "[encoded data removed]",
      "text/plain": [
       "<Figure size 450x262.5 with 1 Axes>"
      ]
     },
     "metadata": {},
     "output_type": "display_data"
    },
    {
     "data": {
      "application/javascript": [
       "\n",
       "            setTimeout(function() {\n",
       "                var nbb_cell_id = 17;\n",
       "                var nbb_unformatted_code = \"grouped = adelie.groupby(\\\"Sex\\\")\\n\\nweights_male = grouped.get_group(\\\"MALE\\\")[\\\"Body Mass (g)\\\"]\\nnormal_probability_plot(weights_male, ls=\\\"--\\\", label=\\\"Male\\\")\\n\\nweights_female = grouped.get_group(\\\"FEMALE\\\")[\\\"Body Mass (g)\\\"]\\nnormal_probability_plot(weights_female, label=\\\"Female\\\")\";\n",
       "                var nbb_formatted_code = \"grouped = adelie.groupby(\\\"Sex\\\")\\n\\nweights_male = grouped.get_group(\\\"MALE\\\")[\\\"Body Mass (g)\\\"]\\nnormal_probability_plot(weights_male, ls=\\\"--\\\", label=\\\"Male\\\")\\n\\nweights_female = grouped.get_group(\\\"FEMALE\\\")[\\\"Body Mass (g)\\\"]\\nnormal_probability_plot(weights_female, label=\\\"Female\\\")\";\n",
       "                var nbb_cells = Jupyter.notebook.get_cells();\n",
       "                for (var i = 0; i < nbb_cells.length; ++i) {\n",
       "                    if (nbb_cells[i].input_prompt_number == nbb_cell_id) {\n",
       "                        if (nbb_cells[i].get_text() == nbb_unformatted_code) {\n",
       "                             nbb_cells[i].set_text(nbb_formatted_code);\n",
       "                        }\n",
       "                        break;\n",
       "                    }\n",
       "                }\n",
       "            }, 500);\n",
       "            "
      ],
      "text/plain": [
       "<IPython.core.display.Javascript object>"
      ]
     },
     "metadata": {},
     "output_type": "display_data"
    }
   ],
   "source": [
    "grouped = adelie.groupby(\"Sex\")\n",
    "\n",
    "weights_male = grouped.get_group(\"MALE\")[\"Body Mass (g)\"]\n",
    "normal_probability_plot(weights_male, ls=\"--\", label=\"Male\")\n",
    "\n",
    "weights_female = grouped.get_group(\"FEMALE\")[\"Body Mass (g)\"]\n",
    "normal_probability_plot(weights_female, label=\"Female\")"
   ]
  },
  {
   "cell_type": "markdown",
   "id": "fb725e29",
   "metadata": {},
   "source": [
    "The normal probability plots for both groups are close to a straight line, which indicates that the distributions of weight follow normal distributions.\n",
    "When we put the groups together, the distribution of their weights is a mixture of two normal distributions with different means -- and a mixture like that is not always well modeled by a normal distribution.\n",
    "\n",
    "Now let's consider some of the mathematical properties of a normal distribution that make them so useful for analysis."
   ]
  },
  {
   "cell_type": "markdown",
   "id": "249a2d83",
   "metadata": {},
   "source": [
    "## Normal Distributions\n",
    "\n",
    "The following class defines an object that represents a normal distribution.\n",
    "It contains as attributes the parameters `mu` and `sigma2`, which represent the mean and variance of the distribution."
   ]
  },
  {
   "cell_type": "code",
   "execution_count": 18,
   "id": "0baee14d",
   "metadata": {},
   "outputs": [
    {
     "data": {
      "application/javascript": [
       "\n",
       "            setTimeout(function() {\n",
       "                var nbb_cell_id = 18;\n",
       "                var nbb_unformatted_code = \"class Normal:\\n    \\\"\\\"\\\"Represents a Normal distribution\\\"\\\"\\\"\\n\\n    def __init__(self, mu, sigma2):\\n        \\\"\\\"\\\"Make a Normal object.\\n\\n        mu: mean\\n        sigma2: variance\\n        \\\"\\\"\\\"\\n        self.mu = mu\\n        self.sigma2 = sigma2\\n\\n    def __repr__(self):\\n        \\\"\\\"\\\"Returns a string representation.\\\"\\\"\\\"\\n        return f\\\"Normal({self.mu}, {self.sigma2})\\\"\\n\\n    __str__ = __repr__\";\n",
       "                var nbb_formatted_code = \"class Normal:\\n    \\\"\\\"\\\"Represents a Normal distribution\\\"\\\"\\\"\\n\\n    def __init__(self, mu, sigma2):\\n        \\\"\\\"\\\"Make a Normal object.\\n\\n        mu: mean\\n        sigma2: variance\\n        \\\"\\\"\\\"\\n        self.mu = mu\\n        self.sigma2 = sigma2\\n\\n    def __repr__(self):\\n        \\\"\\\"\\\"Returns a string representation.\\\"\\\"\\\"\\n        return f\\\"Normal({self.mu}, {self.sigma2})\\\"\\n\\n    __str__ = __repr__\";\n",
       "                var nbb_cells = Jupyter.notebook.get_cells();\n",
       "                for (var i = 0; i < nbb_cells.length; ++i) {\n",
       "                    if (nbb_cells[i].input_prompt_number == nbb_cell_id) {\n",
       "                        if (nbb_cells[i].get_text() == nbb_unformatted_code) {\n",
       "                             nbb_cells[i].set_text(nbb_formatted_code);\n",
       "                        }\n",
       "                        break;\n",
       "                    }\n",
       "                }\n",
       "            }, 500);\n",
       "            "
      ],
      "text/plain": [
       "<IPython.core.display.Javascript object>"
      ]
     },
     "metadata": {},
     "output_type": "display_data"
    }
   ],
   "source": [
    "class Normal:\n",
    "    \"\"\"Represents a Normal distribution\"\"\"\n",
    "\n",
    "    def __init__(self, mu, sigma2):\n",
    "        \"\"\"Make a Normal object.\n",
    "\n",
    "        mu: mean\n",
    "        sigma2: variance\n",
    "        \"\"\"\n",
    "        self.mu = mu\n",
    "        self.sigma2 = sigma2\n",
    "\n",
    "    def __repr__(self):\n",
    "        \"\"\"Returns a string representation.\"\"\"\n",
    "        return f\"Normal({self.mu}, {self.sigma2})\"\n",
    "\n",
    "    __str__ = __repr__"
   ]
  },
  {
   "cell_type": "markdown",
   "id": "75c0586b",
   "metadata": {},
   "source": [
    "As an example, we'll create a `Normal` object that represents a normal distribution with the same mean and variance as the weights of the male penguins."
   ]
  },
  {
   "cell_type": "code",
   "execution_count": 19,
   "id": "1efbcfc0",
   "metadata": {},
   "outputs": [
    {
     "data": {
      "text/plain": [
       "Normal(4043.4931506849316, 120278.25342465754)"
      ]
     },
     "execution_count": 19,
     "metadata": {},
     "output_type": "execute_result"
    },
    {
     "data": {
      "application/javascript": [
       "\n",
       "            setTimeout(function() {\n",
       "                var nbb_cell_id = 19;\n",
       "                var nbb_unformatted_code = \"m, s = weights_male.mean(), weights_male.std()\\ndist_male = Normal(m, s**2)\\ndist_male\";\n",
       "                var nbb_formatted_code = \"m, s = weights_male.mean(), weights_male.std()\\ndist_male = Normal(m, s**2)\\ndist_male\";\n",
       "                var nbb_cells = Jupyter.notebook.get_cells();\n",
       "                for (var i = 0; i < nbb_cells.length; ++i) {\n",
       "                    if (nbb_cells[i].input_prompt_number == nbb_cell_id) {\n",
       "                        if (nbb_cells[i].get_text() == nbb_unformatted_code) {\n",
       "                             nbb_cells[i].set_text(nbb_formatted_code);\n",
       "                        }\n",
       "                        break;\n",
       "                    }\n",
       "                }\n",
       "            }, 500);\n",
       "            "
      ],
      "text/plain": [
       "<IPython.core.display.Javascript object>"
      ]
     },
     "metadata": {},
     "output_type": "display_data"
    }
   ],
   "source": [
    "m, s = weights_male.mean(), weights_male.std()\n",
    "dist_male = Normal(m, s**2)\n",
    "dist_male"
   ]
  },
  {
   "cell_type": "markdown",
   "id": "1401fdd9",
   "metadata": {},
   "source": [
    "And another `Normal` object with the same mean and variance as the weights of the female penguins."
   ]
  },
  {
   "cell_type": "code",
   "execution_count": 20,
   "id": "7ecc2c62",
   "metadata": {},
   "outputs": [
    {
     "data": {
      "text/plain": [
       "Normal(3368.8356164383563, 72565.63926940637)"
      ]
     },
     "execution_count": 20,
     "metadata": {},
     "output_type": "execute_result"
    },
    {
     "data": {
      "application/javascript": [
       "\n",
       "            setTimeout(function() {\n",
       "                var nbb_cell_id = 20;\n",
       "                var nbb_unformatted_code = \"m, s = weights_female.mean(), weights_female.std()\\ndist_female = Normal(m, s**2)\\ndist_female\";\n",
       "                var nbb_formatted_code = \"m, s = weights_female.mean(), weights_female.std()\\ndist_female = Normal(m, s**2)\\ndist_female\";\n",
       "                var nbb_cells = Jupyter.notebook.get_cells();\n",
       "                for (var i = 0; i < nbb_cells.length; ++i) {\n",
       "                    if (nbb_cells[i].input_prompt_number == nbb_cell_id) {\n",
       "                        if (nbb_cells[i].get_text() == nbb_unformatted_code) {\n",
       "                             nbb_cells[i].set_text(nbb_formatted_code);\n",
       "                        }\n",
       "                        break;\n",
       "                    }\n",
       "                }\n",
       "            }, 500);\n",
       "            "
      ],
      "text/plain": [
       "<IPython.core.display.Javascript object>"
      ]
     },
     "metadata": {},
     "output_type": "display_data"
    }
   ],
   "source": [
    "m, s = weights_female.mean(), weights_female.std()\n",
    "dist_female = Normal(m, s**2)\n",
    "dist_female"
   ]
  },
  {
   "cell_type": "markdown",
   "id": "4025ae97",
   "metadata": {},
   "source": [
    "As we add methods to this class, we'll use a Jupyter magic command, `add_method_to`, which adds a method to a existing class.\n",
    "This command is not part of Python -- it only works in Jupyter notebooks.\n",
    "\n",
    "The following method generates a random sample from a normal distribution."
   ]
  },
  {
   "cell_type": "code",
   "execution_count": 21,
   "id": "5dacba9a",
   "metadata": {},
   "outputs": [
    {
     "data": {
      "application/javascript": [
       "\n",
       "            setTimeout(function() {\n",
       "                var nbb_cell_id = 21;\n",
       "                var nbb_unformatted_code = \"%%add_method_to Normal\\n\\ndef sample(self, n):\\n    \\\"\\\"\\\"Generate a random sample from this distribution.\\\"\\\"\\\"\\n    sigma = np.sqrt(self.sigma2)\\n    return np.random.normal(self.mu, sigma, n)\";\n",
       "                var nbb_formatted_code = \"%%add_method_to Normal\\n\\ndef sample(self, n):\\n    \\\"\\\"\\\"Generate a random sample from this distribution.\\\"\\\"\\\"\\n    sigma = np.sqrt(self.sigma2)\\n    return np.random.normal(self.mu, sigma, n)\";\n",
       "                var nbb_cells = Jupyter.notebook.get_cells();\n",
       "                for (var i = 0; i < nbb_cells.length; ++i) {\n",
       "                    if (nbb_cells[i].input_prompt_number == nbb_cell_id) {\n",
       "                        if (nbb_cells[i].get_text() == nbb_unformatted_code) {\n",
       "                             nbb_cells[i].set_text(nbb_formatted_code);\n",
       "                        }\n",
       "                        break;\n",
       "                    }\n",
       "                }\n",
       "            }, 500);\n",
       "            "
      ],
      "text/plain": [
       "<IPython.core.display.Javascript object>"
      ]
     },
     "metadata": {},
     "output_type": "display_data"
    },
    {
     "data": {
      "application/javascript": [
       "\n",
       "            setTimeout(function() {\n",
       "                var nbb_cell_id = 21;\n",
       "                var nbb_unformatted_code = \"%%add_method_to Normal\\n\\ndef sample(self, n):\\n    \\\"\\\"\\\"Generate a random sample from this distribution.\\\"\\\"\\\"\\n    sigma = np.sqrt(self.sigma2)\\n    return np.random.normal(self.mu, sigma, n)\";\n",
       "                var nbb_formatted_code = \"%%add_method_to Normal\\n\\ndef sample(self, n):\\n    \\\"\\\"\\\"Generate a random sample from this distribution.\\\"\\\"\\\"\\n    sigma = np.sqrt(self.sigma2)\\n    return np.random.normal(self.mu, sigma, n)\";\n",
       "                var nbb_cells = Jupyter.notebook.get_cells();\n",
       "                for (var i = 0; i < nbb_cells.length; ++i) {\n",
       "                    if (nbb_cells[i].input_prompt_number == nbb_cell_id) {\n",
       "                        if (nbb_cells[i].get_text() == nbb_unformatted_code) {\n",
       "                             nbb_cells[i].set_text(nbb_formatted_code);\n",
       "                        }\n",
       "                        break;\n",
       "                    }\n",
       "                }\n",
       "            }, 500);\n",
       "            "
      ],
      "text/plain": [
       "<IPython.core.display.Javascript object>"
      ]
     },
     "metadata": {},
     "output_type": "display_data"
    }
   ],
   "source": [
    "%%add_method_to Normal\n",
    "\n",
    "def sample(self, n):\n",
    "    \"\"\"Generate a random sample from this distribution.\"\"\"\n",
    "    sigma = np.sqrt(self.sigma2)\n",
    "    return np.random.normal(self.mu, sigma, n)"
   ]
  },
  {
   "cell_type": "markdown",
   "id": "ca6fa3fe",
   "metadata": {},
   "source": [
    "We'll use `sample` to demonstrate the first useful property of a normal distribution: if you draw values from two normal distributions and add them, the distribution of the sum is also normal.\n",
    "\n",
    "As an example, we'll generate samples from the distributions based on male and female weights, and add them together, and make a normal probability plot of the sums."
   ]
  },
  {
   "cell_type": "code",
   "execution_count": 22,
   "id": "f44bed89",
   "metadata": {},
   "outputs": [
    {
     "data": {
      "image/png": "[encoded data removed]",
      "text/plain": [
       "<Figure size 450x262.5 with 1 Axes>"
      ]
     },
     "metadata": {},
     "output_type": "display_data"
    },
    {
     "data": {
      "application/javascript": [
       "\n",
       "            setTimeout(function() {\n",
       "                var nbb_cell_id = 22;\n",
       "                var nbb_unformatted_code = \"sample_sum = dist_male.sample(1000) + dist_female.sample(1000)\\nnormal_probability_plot(sample_sum)\";\n",
       "                var nbb_formatted_code = \"sample_sum = dist_male.sample(1000) + dist_female.sample(1000)\\nnormal_probability_plot(sample_sum)\";\n",
       "                var nbb_cells = Jupyter.notebook.get_cells();\n",
       "                for (var i = 0; i < nbb_cells.length; ++i) {\n",
       "                    if (nbb_cells[i].input_prompt_number == nbb_cell_id) {\n",
       "                        if (nbb_cells[i].get_text() == nbb_unformatted_code) {\n",
       "                             nbb_cells[i].set_text(nbb_formatted_code);\n",
       "                        }\n",
       "                        break;\n",
       "                    }\n",
       "                }\n",
       "            }, 500);\n",
       "            "
      ],
      "text/plain": [
       "<IPython.core.display.Javascript object>"
      ]
     },
     "metadata": {},
     "output_type": "display_data"
    }
   ],
   "source": [
    "sample_sum = dist_male.sample(1000) + dist_female.sample(1000)\n",
    "normal_probability_plot(sample_sum)"
   ]
  },
  {
   "cell_type": "markdown",
   "id": "fec23c17",
   "metadata": {},
   "source": [
    "The normal probability plot looks like a straight line, which indicates that the sum follows a normal distribution.\n",
    "\n",
    "And that's not all -- if we know the parameters of the two distributions, we can compute the parameters of the distribution of the sum.\n",
    "The following method shows how."
   ]
  },
  {
   "cell_type": "code",
   "execution_count": 23,
   "id": "55aea182",
   "metadata": {},
   "outputs": [
    {
     "data": {
      "application/javascript": [
       "\n",
       "            setTimeout(function() {\n",
       "                var nbb_cell_id = 23;\n",
       "                var nbb_unformatted_code = \"%%add_method_to Normal\\n\\n\\ndef __add__(self, other):\\n    \\\"\\\"\\\"Distribution of the sum of two normal distribution.\\\"\\\"\\\"\\n    return Normal(self.mu + other.mu, self.sigma2 + other.sigma2)\";\n",
       "                var nbb_formatted_code = \"%%add_method_to Normal\\n\\n\\ndef __add__(self, other):\\n    \\\"\\\"\\\"Distribution of the sum of two normal distribution.\\\"\\\"\\\"\\n    return Normal(self.mu + other.mu, self.sigma2 + other.sigma2)\";\n",
       "                var nbb_cells = Jupyter.notebook.get_cells();\n",
       "                for (var i = 0; i < nbb_cells.length; ++i) {\n",
       "                    if (nbb_cells[i].input_prompt_number == nbb_cell_id) {\n",
       "                        if (nbb_cells[i].get_text() == nbb_unformatted_code) {\n",
       "                             nbb_cells[i].set_text(nbb_formatted_code);\n",
       "                        }\n",
       "                        break;\n",
       "                    }\n",
       "                }\n",
       "            }, 500);\n",
       "            "
      ],
      "text/plain": [
       "<IPython.core.display.Javascript object>"
      ]
     },
     "metadata": {},
     "output_type": "display_data"
    },
    {
     "data": {
      "application/javascript": [
       "\n",
       "            setTimeout(function() {\n",
       "                var nbb_cell_id = 23;\n",
       "                var nbb_unformatted_code = \"%%add_method_to Normal\\n\\n\\ndef __add__(self, other):\\n    \\\"\\\"\\\"Distribution of the sum of two normal distribution.\\\"\\\"\\\"\\n    return Normal(self.mu + other.mu, self.sigma2 + other.sigma2)\";\n",
       "                var nbb_formatted_code = \"%%add_method_to Normal\\n\\n\\ndef __add__(self, other):\\n    \\\"\\\"\\\"Distribution of the sum of two normal distribution.\\\"\\\"\\\"\\n    return Normal(self.mu + other.mu, self.sigma2 + other.sigma2)\";\n",
       "                var nbb_cells = Jupyter.notebook.get_cells();\n",
       "                for (var i = 0; i < nbb_cells.length; ++i) {\n",
       "                    if (nbb_cells[i].input_prompt_number == nbb_cell_id) {\n",
       "                        if (nbb_cells[i].get_text() == nbb_unformatted_code) {\n",
       "                             nbb_cells[i].set_text(nbb_formatted_code);\n",
       "                        }\n",
       "                        break;\n",
       "                    }\n",
       "                }\n",
       "            }, 500);\n",
       "            "
      ],
      "text/plain": [
       "<IPython.core.display.Javascript object>"
      ]
     },
     "metadata": {},
     "output_type": "display_data"
    }
   ],
   "source": [
    "%%add_method_to Normal\n",
    "\n",
    "\n",
    "def __add__(self, other):\n",
    "    \"\"\"Distribution of the sum of two normal distribution.\"\"\"\n",
    "    return Normal(self.mu + other.mu, self.sigma2 + other.sigma2)"
   ]
  },
  {
   "cell_type": "markdown",
   "id": "79c79e93",
   "metadata": {},
   "source": [
    "In the distribution of the sum, the mean is the sum of the means and the variance is the sum of the variances.\n",
    "Now that we've defined the special method `__add__`, we can use the `+` operator to \"add\" two distributions -- that is, to compute the distribution of their sum."
   ]
  },
  {
   "cell_type": "code",
   "execution_count": 24,
   "id": "2c113bc6",
   "metadata": {},
   "outputs": [
    {
     "data": {
      "text/plain": [
       "Normal(7412.328767123288, 192843.8926940639)"
      ]
     },
     "execution_count": 24,
     "metadata": {},
     "output_type": "execute_result"
    },
    {
     "data": {
      "application/javascript": [
       "\n",
       "            setTimeout(function() {\n",
       "                var nbb_cell_id = 24;\n",
       "                var nbb_unformatted_code = \"dist_sum = dist_male + dist_female\\ndist_sum\";\n",
       "                var nbb_formatted_code = \"dist_sum = dist_male + dist_female\\ndist_sum\";\n",
       "                var nbb_cells = Jupyter.notebook.get_cells();\n",
       "                for (var i = 0; i < nbb_cells.length; ++i) {\n",
       "                    if (nbb_cells[i].input_prompt_number == nbb_cell_id) {\n",
       "                        if (nbb_cells[i].get_text() == nbb_unformatted_code) {\n",
       "                             nbb_cells[i].set_text(nbb_formatted_code);\n",
       "                        }\n",
       "                        break;\n",
       "                    }\n",
       "                }\n",
       "            }, 500);\n",
       "            "
      ],
      "text/plain": [
       "<IPython.core.display.Javascript object>"
      ]
     },
     "metadata": {},
     "output_type": "display_data"
    }
   ],
   "source": [
    "dist_sum = dist_male + dist_female\n",
    "dist_sum"
   ]
  },
  {
   "cell_type": "markdown",
   "id": "a44ddddb",
   "metadata": {},
   "source": [
    "To confirm that this result is correct, we'll use the following method, which plots the analytic CDF of a normal distribution."
   ]
  },
  {
   "cell_type": "code",
   "execution_count": 25,
   "id": "b44c04a3",
   "metadata": {},
   "outputs": [
    {
     "data": {
      "application/javascript": [
       "\n",
       "            setTimeout(function() {\n",
       "                var nbb_cell_id = 25;\n",
       "                var nbb_unformatted_code = \"%%add_method_to Normal\\n\\n\\ndef plot_cdf(self, n_sigmas=4, **options):\\n    \\\"\\\"\\\"Plot the CDF of this distribution.\\\"\\\"\\\"\\n    mu, sigma = self.mu, np.sqrt(self.sigma2)\\n    low, high = mu - n_sigmas * sigma, mu + 3 * sigma\\n    xs = np.linspace(low, high, 101)\\n    ys = norm.cdf(xs, mu, sigma)\\n    plt.plot(xs, ys, **options)\";\n",
       "                var nbb_formatted_code = \"%%add_method_to Normal\\n\\n\\ndef plot_cdf(self, n_sigmas=4, **options):\\n    \\\"\\\"\\\"Plot the CDF of this distribution.\\\"\\\"\\\"\\n    mu, sigma = self.mu, np.sqrt(self.sigma2)\\n    low, high = mu - n_sigmas * sigma, mu + 3 * sigma\\n    xs = np.linspace(low, high, 101)\\n    ys = norm.cdf(xs, mu, sigma)\\n    plt.plot(xs, ys, **options)\";\n",
       "                var nbb_cells = Jupyter.notebook.get_cells();\n",
       "                for (var i = 0; i < nbb_cells.length; ++i) {\n",
       "                    if (nbb_cells[i].input_prompt_number == nbb_cell_id) {\n",
       "                        if (nbb_cells[i].get_text() == nbb_unformatted_code) {\n",
       "                             nbb_cells[i].set_text(nbb_formatted_code);\n",
       "                        }\n",
       "                        break;\n",
       "                    }\n",
       "                }\n",
       "            }, 500);\n",
       "            "
      ],
      "text/plain": [
       "<IPython.core.display.Javascript object>"
      ]
     },
     "metadata": {},
     "output_type": "display_data"
    },
    {
     "data": {
      "application/javascript": [
       "\n",
       "            setTimeout(function() {\n",
       "                var nbb_cell_id = 25;\n",
       "                var nbb_unformatted_code = \"%%add_method_to Normal\\n\\n\\ndef plot_cdf(self, n_sigmas=4, **options):\\n    \\\"\\\"\\\"Plot the CDF of this distribution.\\\"\\\"\\\"\\n    mu, sigma = self.mu, np.sqrt(self.sigma2)\\n    low, high = mu - n_sigmas * sigma, mu + 3 * sigma\\n    xs = np.linspace(low, high, 101)\\n    ys = norm.cdf(xs, mu, sigma)\\n    plt.plot(xs, ys, **options)\";\n",
       "                var nbb_formatted_code = \"%%add_method_to Normal\\n\\n\\ndef plot_cdf(self, n_sigmas=4, **options):\\n    \\\"\\\"\\\"Plot the CDF of this distribution.\\\"\\\"\\\"\\n    mu, sigma = self.mu, np.sqrt(self.sigma2)\\n    low, high = mu - n_sigmas * sigma, mu + 3 * sigma\\n    xs = np.linspace(low, high, 101)\\n    ys = norm.cdf(xs, mu, sigma)\\n    plt.plot(xs, ys, **options)\";\n",
       "                var nbb_cells = Jupyter.notebook.get_cells();\n",
       "                for (var i = 0; i < nbb_cells.length; ++i) {\n",
       "                    if (nbb_cells[i].input_prompt_number == nbb_cell_id) {\n",
       "                        if (nbb_cells[i].get_text() == nbb_unformatted_code) {\n",
       "                             nbb_cells[i].set_text(nbb_formatted_code);\n",
       "                        }\n",
       "                        break;\n",
       "                    }\n",
       "                }\n",
       "            }, 500);\n",
       "            "
      ],
      "text/plain": [
       "<IPython.core.display.Javascript object>"
      ]
     },
     "metadata": {},
     "output_type": "display_data"
    }
   ],
   "source": [
    "%%add_method_to Normal\n",
    "\n",
    "\n",
    "def plot_cdf(self, n_sigmas=4, **options):\n",
    "    \"\"\"Plot the CDF of this distribution.\"\"\"\n",
    "    mu, sigma = self.mu, np.sqrt(self.sigma2)\n",
    "    low, high = mu - n_sigmas * sigma, mu + 3 * sigma\n",
    "    xs = np.linspace(low, high, 101)\n",
    "    ys = norm.cdf(xs, mu, sigma)\n",
    "    plt.plot(xs, ys, **options)"
   ]
  },
  {
   "cell_type": "markdown",
   "id": "040fe2fa",
   "metadata": {},
   "source": [
    "Here's the result along with the empirical CDF of the random sample of sums."
   ]
  },
  {
   "cell_type": "code",
   "execution_count": 26,
   "id": "a12aeec5",
   "metadata": {},
   "outputs": [
    {
     "data": {
      "image/png": "[encoded data removed]",
      "text/plain": [
       "<Figure size 450x262.5 with 1 Axes>"
      ]
     },
     "metadata": {},
     "output_type": "display_data"
    },
    {
     "data": {
      "application/javascript": [
       "\n",
       "            setTimeout(function() {\n",
       "                var nbb_cell_id = 26;\n",
       "                var nbb_unformatted_code = \"dist_sum.plot_cdf(color=\\\"gray\\\", alpha=0.4, label=\\\"model\\\")\\nCdf.from_seq(sample_sum).plot(label=\\\"sample\\\")\\n\\ndecorate(xlabel=\\\"Total weights (g)\\\", ylabel=\\\"CDF\\\")\";\n",
       "                var nbb_formatted_code = \"dist_sum.plot_cdf(color=\\\"gray\\\", alpha=0.4, label=\\\"model\\\")\\nCdf.from_seq(sample_sum).plot(label=\\\"sample\\\")\\n\\ndecorate(xlabel=\\\"Total weights (g)\\\", ylabel=\\\"CDF\\\")\";\n",
       "                var nbb_cells = Jupyter.notebook.get_cells();\n",
       "                for (var i = 0; i < nbb_cells.length; ++i) {\n",
       "                    if (nbb_cells[i].input_prompt_number == nbb_cell_id) {\n",
       "                        if (nbb_cells[i].get_text() == nbb_unformatted_code) {\n",
       "                             nbb_cells[i].set_text(nbb_formatted_code);\n",
       "                        }\n",
       "                        break;\n",
       "                    }\n",
       "                }\n",
       "            }, 500);\n",
       "            "
      ],
      "text/plain": [
       "<IPython.core.display.Javascript object>"
      ]
     },
     "metadata": {},
     "output_type": "display_data"
    }
   ],
   "source": [
    "dist_sum.plot_cdf(color=\"gray\", alpha=0.4, label=\"model\")\n",
    "Cdf.from_seq(sample_sum).plot(label=\"sample\")\n",
    "\n",
    "decorate(xlabel=\"Total weights (g)\", ylabel=\"CDF\")"
   ]
  },
  {
   "cell_type": "markdown",
   "id": "f89ccf81",
   "metadata": {},
   "source": [
    "It looks like the parameters we computed are correct, which confirms that we can add two normal distributions by adding their means and variances.\n",
    "\n",
    "As a corollary, if we generate `n` values from a normal distribution and add them up, the distribution of the sum is also a normal distribution.\n",
    "To demonstrate, we'll start by generating 73 values from the distribution of male weights and adding them up.\n",
    "The following loop does that 1001 times, so the result is a sample from the distribution of sums."
   ]
  },
  {
   "cell_type": "code",
   "execution_count": 27,
   "id": "b338ce4a",
   "metadata": {},
   "outputs": [
    {
     "data": {
      "text/plain": [
       "73"
      ]
     },
     "execution_count": 27,
     "metadata": {},
     "output_type": "execute_result"
    },
    {
     "data": {
      "application/javascript": [
       "\n",
       "            setTimeout(function() {\n",
       "                var nbb_cell_id = 27;\n",
       "                var nbb_unformatted_code = \"n = len(weights_male)\\nsample_sums_male = [dist_male.sample(n).sum() for i in range(1001)]\\nn\";\n",
       "                var nbb_formatted_code = \"n = len(weights_male)\\nsample_sums_male = [dist_male.sample(n).sum() for i in range(1001)]\\nn\";\n",
       "                var nbb_cells = Jupyter.notebook.get_cells();\n",
       "                for (var i = 0; i < nbb_cells.length; ++i) {\n",
       "                    if (nbb_cells[i].input_prompt_number == nbb_cell_id) {\n",
       "                        if (nbb_cells[i].get_text() == nbb_unformatted_code) {\n",
       "                             nbb_cells[i].set_text(nbb_formatted_code);\n",
       "                        }\n",
       "                        break;\n",
       "                    }\n",
       "                }\n",
       "            }, 500);\n",
       "            "
      ],
      "text/plain": [
       "<IPython.core.display.Javascript object>"
      ]
     },
     "metadata": {},
     "output_type": "display_data"
    }
   ],
   "source": [
    "n = len(weights_male)\n",
    "sample_sums_male = [dist_male.sample(n).sum() for i in range(1001)]\n",
    "n"
   ]
  },
  {
   "cell_type": "markdown",
   "id": "799c0137",
   "metadata": {},
   "source": [
    "The following method makes a `Normal` object that represents the distribution of the sums.\n",
    "To compute the parameters, we multiply both the mean and variance by `n`."
   ]
  },
  {
   "cell_type": "code",
   "execution_count": 28,
   "id": "e9d0e16f",
   "metadata": {},
   "outputs": [
    {
     "data": {
      "application/javascript": [
       "\n",
       "            setTimeout(function() {\n",
       "                var nbb_cell_id = 28;\n",
       "                var nbb_unformatted_code = \"%%add_method_to Normal\\n\\n\\ndef sum(self, n):\\n    \\\"\\\"\\\"Return the distribution of the sum of n values.\\\"\\\"\\\"\\n    return Normal(n * self.mu, n * self.sigma2)\";\n",
       "                var nbb_formatted_code = \"%%add_method_to Normal\\n\\n\\ndef sum(self, n):\\n    \\\"\\\"\\\"Return the distribution of the sum of n values.\\\"\\\"\\\"\\n    return Normal(n * self.mu, n * self.sigma2)\";\n",
       "                var nbb_cells = Jupyter.notebook.get_cells();\n",
       "                for (var i = 0; i < nbb_cells.length; ++i) {\n",
       "                    if (nbb_cells[i].input_prompt_number == nbb_cell_id) {\n",
       "                        if (nbb_cells[i].get_text() == nbb_unformatted_code) {\n",
       "                             nbb_cells[i].set_text(nbb_formatted_code);\n",
       "                        }\n",
       "                        break;\n",
       "                    }\n",
       "                }\n",
       "            }, 500);\n",
       "            "
      ],
      "text/plain": [
       "<IPython.core.display.Javascript object>"
      ]
     },
     "metadata": {},
     "output_type": "display_data"
    },
    {
     "data": {
      "application/javascript": [
       "\n",
       "            setTimeout(function() {\n",
       "                var nbb_cell_id = 28;\n",
       "                var nbb_unformatted_code = \"%%add_method_to Normal\\n\\n\\ndef sum(self, n):\\n    \\\"\\\"\\\"Return the distribution of the sum of n values.\\\"\\\"\\\"\\n    return Normal(n * self.mu, n * self.sigma2)\";\n",
       "                var nbb_formatted_code = \"%%add_method_to Normal\\n\\n\\ndef sum(self, n):\\n    \\\"\\\"\\\"Return the distribution of the sum of n values.\\\"\\\"\\\"\\n    return Normal(n * self.mu, n * self.sigma2)\";\n",
       "                var nbb_cells = Jupyter.notebook.get_cells();\n",
       "                for (var i = 0; i < nbb_cells.length; ++i) {\n",
       "                    if (nbb_cells[i].input_prompt_number == nbb_cell_id) {\n",
       "                        if (nbb_cells[i].get_text() == nbb_unformatted_code) {\n",
       "                             nbb_cells[i].set_text(nbb_formatted_code);\n",
       "                        }\n",
       "                        break;\n",
       "                    }\n",
       "                }\n",
       "            }, 500);\n",
       "            "
      ],
      "text/plain": [
       "<IPython.core.display.Javascript object>"
      ]
     },
     "metadata": {},
     "output_type": "display_data"
    }
   ],
   "source": [
    "%%add_method_to Normal\n",
    "\n",
    "\n",
    "def sum(self, n):\n",
    "    \"\"\"Return the distribution of the sum of n values.\"\"\"\n",
    "    return Normal(n * self.mu, n * self.sigma2)"
   ]
  },
  {
   "cell_type": "markdown",
   "id": "394aef21",
   "metadata": {},
   "source": [
    "Here's the distribution of the sum of the weights."
   ]
  },
  {
   "cell_type": "code",
   "execution_count": 29,
   "id": "dab094b4",
   "metadata": {},
   "outputs": [
    {
     "data": {
      "application/javascript": [
       "\n",
       "            setTimeout(function() {\n",
       "                var nbb_cell_id = 29;\n",
       "                var nbb_unformatted_code = \"dist_sums_male = dist_male.sum(n)\";\n",
       "                var nbb_formatted_code = \"dist_sums_male = dist_male.sum(n)\";\n",
       "                var nbb_cells = Jupyter.notebook.get_cells();\n",
       "                for (var i = 0; i < nbb_cells.length; ++i) {\n",
       "                    if (nbb_cells[i].input_prompt_number == nbb_cell_id) {\n",
       "                        if (nbb_cells[i].get_text() == nbb_unformatted_code) {\n",
       "                             nbb_cells[i].set_text(nbb_formatted_code);\n",
       "                        }\n",
       "                        break;\n",
       "                    }\n",
       "                }\n",
       "            }, 500);\n",
       "            "
      ],
      "text/plain": [
       "<IPython.core.display.Javascript object>"
      ]
     },
     "metadata": {},
     "output_type": "display_data"
    }
   ],
   "source": [
    "dist_sums_male = dist_male.sum(n)"
   ]
  },
  {
   "cell_type": "markdown",
   "id": "f92f17a0",
   "metadata": {},
   "source": [
    "And here's how it compares to the empirical distribution of the random sample."
   ]
  },
  {
   "cell_type": "code",
   "execution_count": 30,
   "id": "47a89b6d",
   "metadata": {},
   "outputs": [
    {
     "data": {
      "image/png": "[encoded data removed]",
      "text/plain": [
       "<Figure size 450x262.5 with 1 Axes>"
      ]
     },
     "metadata": {},
     "output_type": "display_data"
    },
    {
     "data": {
      "application/javascript": [
       "\n",
       "            setTimeout(function() {\n",
       "                var nbb_cell_id = 30;\n",
       "                var nbb_unformatted_code = \"model_options = dict(color=\\\"gray\\\", alpha=0.4, label=\\\"model\\\")\\n\\ndist_sums_male.plot_cdf(**model_options)\\nCdf.from_seq(sample_sums_male).plot(label=\\\"sample\\\")\\n\\ndecorate(xlabel=\\\"Total weights (g)\\\", ylabel=\\\"CDF\\\")\";\n",
       "                var nbb_formatted_code = \"model_options = dict(color=\\\"gray\\\", alpha=0.4, label=\\\"model\\\")\\n\\ndist_sums_male.plot_cdf(**model_options)\\nCdf.from_seq(sample_sums_male).plot(label=\\\"sample\\\")\\n\\ndecorate(xlabel=\\\"Total weights (g)\\\", ylabel=\\\"CDF\\\")\";\n",
       "                var nbb_cells = Jupyter.notebook.get_cells();\n",
       "                for (var i = 0; i < nbb_cells.length; ++i) {\n",
       "                    if (nbb_cells[i].input_prompt_number == nbb_cell_id) {\n",
       "                        if (nbb_cells[i].get_text() == nbb_unformatted_code) {\n",
       "                             nbb_cells[i].set_text(nbb_formatted_code);\n",
       "                        }\n",
       "                        break;\n",
       "                    }\n",
       "                }\n",
       "            }, 500);\n",
       "            "
      ],
      "text/plain": [
       "<IPython.core.display.Javascript object>"
      ]
     },
     "metadata": {},
     "output_type": "display_data"
    }
   ],
   "source": [
    "model_options = dict(color=\"gray\", alpha=0.4, label=\"model\")\n",
    "\n",
    "dist_sums_male.plot_cdf(**model_options)\n",
    "Cdf.from_seq(sample_sums_male).plot(label=\"sample\")\n",
    "\n",
    "decorate(xlabel=\"Total weights (g)\", ylabel=\"CDF\")"
   ]
  },
  {
   "cell_type": "markdown",
   "id": "ac5d17c5",
   "metadata": {},
   "source": [
    "The analytic distribution fits the distribution of the sample, which confirms that the `sum` method is correct.\n",
    "So if we collect a sample of `n` measurements, we can compute the distribution of their sum.\n",
    "\n",
    "Then, to compute the distribution of their mean, we can use a third property of a normal distribution: if we multiply or divide by a constant, the result is a normal distribution.\n",
    "The following methods shows how we compute the parameters of the distribution of the product or quotient."
   ]
  },
  {
   "cell_type": "code",
   "execution_count": 31,
   "id": "30b72270",
   "metadata": {},
   "outputs": [
    {
     "data": {
      "application/javascript": [
       "\n",
       "            setTimeout(function() {\n",
       "                var nbb_cell_id = 31;\n",
       "                var nbb_unformatted_code = \"%%add_method_to Normal\\n\\n\\ndef __mul__(self, factor):\\n    \\\"\\\"\\\"Multiplies by a scalar.\\\"\\\"\\\"\\n    return Normal(factor * self.mu, factor**2 * self.sigma2)\";\n",
       "                var nbb_formatted_code = \"%%add_method_to Normal\\n\\n\\ndef __mul__(self, factor):\\n    \\\"\\\"\\\"Multiplies by a scalar.\\\"\\\"\\\"\\n    return Normal(factor * self.mu, factor**2 * self.sigma2)\";\n",
       "                var nbb_cells = Jupyter.notebook.get_cells();\n",
       "                for (var i = 0; i < nbb_cells.length; ++i) {\n",
       "                    if (nbb_cells[i].input_prompt_number == nbb_cell_id) {\n",
       "                        if (nbb_cells[i].get_text() == nbb_unformatted_code) {\n",
       "                             nbb_cells[i].set_text(nbb_formatted_code);\n",
       "                        }\n",
       "                        break;\n",
       "                    }\n",
       "                }\n",
       "            }, 500);\n",
       "            "
      ],
      "text/plain": [
       "<IPython.core.display.Javascript object>"
      ]
     },
     "metadata": {},
     "output_type": "display_data"
    },
    {
     "data": {
      "application/javascript": [
       "\n",
       "            setTimeout(function() {\n",
       "                var nbb_cell_id = 31;\n",
       "                var nbb_unformatted_code = \"%%add_method_to Normal\\n\\n\\ndef __mul__(self, factor):\\n    \\\"\\\"\\\"Multiplies by a scalar.\\\"\\\"\\\"\\n    return Normal(factor * self.mu, factor**2 * self.sigma2)\";\n",
       "                var nbb_formatted_code = \"%%add_method_to Normal\\n\\n\\ndef __mul__(self, factor):\\n    \\\"\\\"\\\"Multiplies by a scalar.\\\"\\\"\\\"\\n    return Normal(factor * self.mu, factor**2 * self.sigma2)\";\n",
       "                var nbb_cells = Jupyter.notebook.get_cells();\n",
       "                for (var i = 0; i < nbb_cells.length; ++i) {\n",
       "                    if (nbb_cells[i].input_prompt_number == nbb_cell_id) {\n",
       "                        if (nbb_cells[i].get_text() == nbb_unformatted_code) {\n",
       "                             nbb_cells[i].set_text(nbb_formatted_code);\n",
       "                        }\n",
       "                        break;\n",
       "                    }\n",
       "                }\n",
       "            }, 500);\n",
       "            "
      ],
      "text/plain": [
       "<IPython.core.display.Javascript object>"
      ]
     },
     "metadata": {},
     "output_type": "display_data"
    }
   ],
   "source": [
    "%%add_method_to Normal\n",
    "\n",
    "\n",
    "def __mul__(self, factor):\n",
    "    \"\"\"Multiplies by a scalar.\"\"\"\n",
    "    return Normal(factor * self.mu, factor**2 * self.sigma2)"
   ]
  },
  {
   "cell_type": "code",
   "execution_count": 32,
   "id": "06428155",
   "metadata": {},
   "outputs": [
    {
     "data": {
      "application/javascript": [
       "\n",
       "            setTimeout(function() {\n",
       "                var nbb_cell_id = 32;\n",
       "                var nbb_unformatted_code = \"%%add_method_to Normal\\n\\n\\ndef __truediv__(self, factor):\\n    \\\"\\\"\\\"Multiplies by a scalar.\\\"\\\"\\\"\\n    return self * (1/factor)\";\n",
       "                var nbb_formatted_code = \"%%add_method_to Normal\\n\\n\\ndef __truediv__(self, factor):\\n    \\\"\\\"\\\"Multiplies by a scalar.\\\"\\\"\\\"\\n    return self * (1/factor)\";\n",
       "                var nbb_cells = Jupyter.notebook.get_cells();\n",
       "                for (var i = 0; i < nbb_cells.length; ++i) {\n",
       "                    if (nbb_cells[i].input_prompt_number == nbb_cell_id) {\n",
       "                        if (nbb_cells[i].get_text() == nbb_unformatted_code) {\n",
       "                             nbb_cells[i].set_text(nbb_formatted_code);\n",
       "                        }\n",
       "                        break;\n",
       "                    }\n",
       "                }\n",
       "            }, 500);\n",
       "            "
      ],
      "text/plain": [
       "<IPython.core.display.Javascript object>"
      ]
     },
     "metadata": {},
     "output_type": "display_data"
    },
    {
     "data": {
      "application/javascript": [
       "\n",
       "            setTimeout(function() {\n",
       "                var nbb_cell_id = 32;\n",
       "                var nbb_unformatted_code = \"%%add_method_to Normal\\n\\n\\ndef __truediv__(self, factor):\\n    \\\"\\\"\\\"Multiplies by a scalar.\\\"\\\"\\\"\\n    return self * (1/factor)\";\n",
       "                var nbb_formatted_code = \"%%add_method_to Normal\\n\\n\\ndef __truediv__(self, factor):\\n    \\\"\\\"\\\"Multiplies by a scalar.\\\"\\\"\\\"\\n    return self * (1/factor)\";\n",
       "                var nbb_cells = Jupyter.notebook.get_cells();\n",
       "                for (var i = 0; i < nbb_cells.length; ++i) {\n",
       "                    if (nbb_cells[i].input_prompt_number == nbb_cell_id) {\n",
       "                        if (nbb_cells[i].get_text() == nbb_unformatted_code) {\n",
       "                             nbb_cells[i].set_text(nbb_formatted_code);\n",
       "                        }\n",
       "                        break;\n",
       "                    }\n",
       "                }\n",
       "            }, 500);\n",
       "            "
      ],
      "text/plain": [
       "<IPython.core.display.Javascript object>"
      ]
     },
     "metadata": {},
     "output_type": "display_data"
    }
   ],
   "source": [
    "%%add_method_to Normal\n",
    "\n",
    "\n",
    "def __truediv__(self, factor):\n",
    "    \"\"\"Divides by a scalar.\"\"\"\n",
    "    return self * (1/factor)"
   ]
  },
  {
   "cell_type": "markdown",
   "id": "14e1fdc0",
   "metadata": {},
   "source": [
    "We can compute the distribution of the product by multiplying the mean by `factor` and the variance by the square of `factor`.\n",
    "We can use this property to compute the distribution of the sample means."
   ]
  },
  {
   "cell_type": "code",
   "execution_count": 33,
   "id": "f6f5f3e8",
   "metadata": {},
   "outputs": [
    {
     "data": {
      "application/javascript": [
       "\n",
       "            setTimeout(function() {\n",
       "                var nbb_cell_id = 33;\n",
       "                var nbb_unformatted_code = \"dist_mean_male = dist_sums_male / n\";\n",
       "                var nbb_formatted_code = \"dist_mean_male = dist_sums_male / n\";\n",
       "                var nbb_cells = Jupyter.notebook.get_cells();\n",
       "                for (var i = 0; i < nbb_cells.length; ++i) {\n",
       "                    if (nbb_cells[i].input_prompt_number == nbb_cell_id) {\n",
       "                        if (nbb_cells[i].get_text() == nbb_unformatted_code) {\n",
       "                             nbb_cells[i].set_text(nbb_formatted_code);\n",
       "                        }\n",
       "                        break;\n",
       "                    }\n",
       "                }\n",
       "            }, 500);\n",
       "            "
      ],
      "text/plain": [
       "<IPython.core.display.Javascript object>"
      ]
     },
     "metadata": {},
     "output_type": "display_data"
    }
   ],
   "source": [
    "dist_mean_male = dist_sums_male / n"
   ]
  },
  {
   "cell_type": "markdown",
   "id": "1e438275",
   "metadata": {},
   "source": [
    "To see if the result is correct, we'll also compute the means of the random samples."
   ]
  },
  {
   "cell_type": "code",
   "execution_count": 34,
   "id": "a80243eb",
   "metadata": {},
   "outputs": [
    {
     "data": {
      "application/javascript": [
       "\n",
       "            setTimeout(function() {\n",
       "                var nbb_cell_id = 34;\n",
       "                var nbb_unformatted_code = \"sample_means_male = np.array(sample_sums_male) / n\";\n",
       "                var nbb_formatted_code = \"sample_means_male = np.array(sample_sums_male) / n\";\n",
       "                var nbb_cells = Jupyter.notebook.get_cells();\n",
       "                for (var i = 0; i < nbb_cells.length; ++i) {\n",
       "                    if (nbb_cells[i].input_prompt_number == nbb_cell_id) {\n",
       "                        if (nbb_cells[i].get_text() == nbb_unformatted_code) {\n",
       "                             nbb_cells[i].set_text(nbb_formatted_code);\n",
       "                        }\n",
       "                        break;\n",
       "                    }\n",
       "                }\n",
       "            }, 500);\n",
       "            "
      ],
      "text/plain": [
       "<IPython.core.display.Javascript object>"
      ]
     },
     "metadata": {},
     "output_type": "display_data"
    }
   ],
   "source": [
    "sample_means_male = np.array(sample_sums_male) / n"
   ]
  },
  {
   "cell_type": "markdown",
   "id": "68efbe8a",
   "metadata": {},
   "source": [
    "And compare the normal model to the empirical CDF of the sample means."
   ]
  },
  {
   "cell_type": "code",
   "execution_count": 35,
   "id": "d43572f9",
   "metadata": {},
   "outputs": [
    {
     "data": {
      "image/png": "[encoded data removed]",
      "text/plain": [
       "<Figure size 450x262.5 with 1 Axes>"
      ]
     },
     "metadata": {},
     "output_type": "display_data"
    },
    {
     "data": {
      "application/javascript": [
       "\n",
       "            setTimeout(function() {\n",
       "                var nbb_cell_id = 35;\n",
       "                var nbb_unformatted_code = \"dist_mean_male.plot_cdf(**model_options)\\nCdf.from_seq(sample_means_male).plot(label=\\\"sample\\\")\\n\\ndecorate(xlabel=\\\"Average weight (g)\\\", ylabel=\\\"CDF\\\")\";\n",
       "                var nbb_formatted_code = \"dist_mean_male.plot_cdf(**model_options)\\nCdf.from_seq(sample_means_male).plot(label=\\\"sample\\\")\\n\\ndecorate(xlabel=\\\"Average weight (g)\\\", ylabel=\\\"CDF\\\")\";\n",
       "                var nbb_cells = Jupyter.notebook.get_cells();\n",
       "                for (var i = 0; i < nbb_cells.length; ++i) {\n",
       "                    if (nbb_cells[i].input_prompt_number == nbb_cell_id) {\n",
       "                        if (nbb_cells[i].get_text() == nbb_unformatted_code) {\n",
       "                             nbb_cells[i].set_text(nbb_formatted_code);\n",
       "                        }\n",
       "                        break;\n",
       "                    }\n",
       "                }\n",
       "            }, 500);\n",
       "            "
      ],
      "text/plain": [
       "<IPython.core.display.Javascript object>"
      ]
     },
     "metadata": {},
     "output_type": "display_data"
    }
   ],
   "source": [
    "dist_mean_male.plot_cdf(**model_options)\n",
    "Cdf.from_seq(sample_means_male).plot(label=\"sample\")\n",
    "\n",
    "decorate(xlabel=\"Average weight (g)\", ylabel=\"CDF\")"
   ]
  },
  {
   "cell_type": "markdown",
   "id": "f179135b",
   "metadata": {},
   "source": [
    "The model and the simulation results agree, which shows that we can compute the distribution of the sample means analytically -- which is very fast, compared to resampling.\n",
    "\n",
    "The standard deviation of the analytic distribution is the standard error of the estimated mean. "
   ]
  },
  {
   "cell_type": "code",
   "execution_count": 36,
   "id": "288384ab",
   "metadata": {},
   "outputs": [
    {
     "data": {
      "text/plain": [
       "40.591222045992765"
      ]
     },
     "execution_count": 36,
     "metadata": {},
     "output_type": "execute_result"
    },
    {
     "data": {
      "application/javascript": [
       "\n",
       "            setTimeout(function() {\n",
       "                var nbb_cell_id = 36;\n",
       "                var nbb_unformatted_code = \"standard_error = np.sqrt(dist_mean_male.sigma2)\\nstandard_error\";\n",
       "                var nbb_formatted_code = \"standard_error = np.sqrt(dist_mean_male.sigma2)\\nstandard_error\";\n",
       "                var nbb_cells = Jupyter.notebook.get_cells();\n",
       "                for (var i = 0; i < nbb_cells.length; ++i) {\n",
       "                    if (nbb_cells[i].input_prompt_number == nbb_cell_id) {\n",
       "                        if (nbb_cells[i].get_text() == nbb_unformatted_code) {\n",
       "                             nbb_cells[i].set_text(nbb_formatted_code);\n",
       "                        }\n",
       "                        break;\n",
       "                    }\n",
       "                }\n",
       "            }, 500);\n",
       "            "
      ],
      "text/plain": [
       "<IPython.core.display.Javascript object>"
      ]
     },
     "metadata": {},
     "output_type": "display_data"
    }
   ],
   "source": [
    "standard_error = np.sqrt(dist_mean_male.sigma2)\n",
    "standard_error"
   ]
  },
  {
   "cell_type": "markdown",
   "id": "8c59a783",
   "metadata": {},
   "source": [
    "This result suggests a shortcut we can use to compute the standard error directly, without computing the sampling distribution.\n",
    "In the sequence of steps we followed, we multiplied the variance by `n` and then divided by `n**2` -- the net effect was to divide the variance by `n`, which is the same as dividing the standard deviation by the square root of `n`.\n",
    "\n",
    "So we can compute the standard error of the sample mean like this."
   ]
  },
  {
   "cell_type": "code",
   "execution_count": 37,
   "id": "c2ed43cb",
   "metadata": {},
   "outputs": [
    {
     "data": {
      "text/plain": [
       "40.59122204599277"
      ]
     },
     "execution_count": 37,
     "metadata": {},
     "output_type": "execute_result"
    },
    {
     "data": {
      "application/javascript": [
       "\n",
       "            setTimeout(function() {\n",
       "                var nbb_cell_id = 37;\n",
       "                var nbb_unformatted_code = \"standard_error = weights_male.std() / np.sqrt(n)\\nstandard_error\";\n",
       "                var nbb_formatted_code = \"standard_error = weights_male.std() / np.sqrt(n)\\nstandard_error\";\n",
       "                var nbb_cells = Jupyter.notebook.get_cells();\n",
       "                for (var i = 0; i < nbb_cells.length; ++i) {\n",
       "                    if (nbb_cells[i].input_prompt_number == nbb_cell_id) {\n",
       "                        if (nbb_cells[i].get_text() == nbb_unformatted_code) {\n",
       "                             nbb_cells[i].set_text(nbb_formatted_code);\n",
       "                        }\n",
       "                        break;\n",
       "                    }\n",
       "                }\n",
       "            }, 500);\n",
       "            "
      ],
      "text/plain": [
       "<IPython.core.display.Javascript object>"
      ]
     },
     "metadata": {},
     "output_type": "display_data"
    }
   ],
   "source": [
    "standard_error = weights_male.std() / np.sqrt(n)\n",
    "standard_error"
   ]
  },
  {
   "cell_type": "markdown",
   "id": "4f26c24d",
   "metadata": {},
   "source": [
    "This calculation is exact if the original distribution is normal, and approximate if the original distribution is approximately normal.\n",
    "We'll see why soon, but first let's consider one last operation we can compute with normal distributions, the distribution of differences."
   ]
  },
  {
   "cell_type": "markdown",
   "id": "d75191ea",
   "metadata": {},
   "source": [
    "## Distribution of Differences\n",
    "\n",
    "Putting together the steps from the previous section, we can compute the distribution of sample means for the weights of the female penguins."
   ]
  },
  {
   "cell_type": "code",
   "execution_count": 38,
   "id": "dfb669f8",
   "metadata": {},
   "outputs": [
    {
     "data": {
      "text/plain": [
       "Normal(3368.835616438356, 994.0498530055667)"
      ]
     },
     "execution_count": 38,
     "metadata": {},
     "output_type": "execute_result"
    },
    {
     "data": {
      "application/javascript": [
       "\n",
       "            setTimeout(function() {\n",
       "                var nbb_cell_id = 38;\n",
       "                var nbb_unformatted_code = \"n = len(weights_female)\\ndist_mean_female = dist_female.sum(n) / n\\ndist_mean_female\";\n",
       "                var nbb_formatted_code = \"n = len(weights_female)\\ndist_mean_female = dist_female.sum(n) / n\\ndist_mean_female\";\n",
       "                var nbb_cells = Jupyter.notebook.get_cells();\n",
       "                for (var i = 0; i < nbb_cells.length; ++i) {\n",
       "                    if (nbb_cells[i].input_prompt_number == nbb_cell_id) {\n",
       "                        if (nbb_cells[i].get_text() == nbb_unformatted_code) {\n",
       "                             nbb_cells[i].set_text(nbb_formatted_code);\n",
       "                        }\n",
       "                        break;\n",
       "                    }\n",
       "                }\n",
       "            }, 500);\n",
       "            "
      ],
      "text/plain": [
       "<IPython.core.display.Javascript object>"
      ]
     },
     "metadata": {},
     "output_type": "display_data"
    }
   ],
   "source": [
    "n = len(weights_female)\n",
    "dist_mean_female = dist_female.sum(n) / n\n",
    "dist_mean_female"
   ]
  },
  {
   "cell_type": "markdown",
   "id": "e8c427ef",
   "metadata": {},
   "source": [
    "Now we have sampling distributions for the average weight of male and female penguins -- let's compute the distribution of the differences.\n",
    "The following method computes the distribution of the difference between values from two normal distributions."
   ]
  },
  {
   "cell_type": "code",
   "execution_count": 39,
   "id": "ccc5b615",
   "metadata": {},
   "outputs": [
    {
     "data": {
      "application/javascript": [
       "\n",
       "            setTimeout(function() {\n",
       "                var nbb_cell_id = 39;\n",
       "                var nbb_unformatted_code = \"%%add_method_to Normal\\n\\ndef __sub__(self, other):\\n    \\\"\\\"\\\"Compute the distribution of a difference.\\\"\\\"\\\"\\n    return Normal(self.mu - other.mu, self.sigma2 + other.sigma2)\";\n",
       "                var nbb_formatted_code = \"%%add_method_to Normal\\n\\ndef __sub__(self, other):\\n    \\\"\\\"\\\"Compute the distribution of a difference.\\\"\\\"\\\"\\n    return Normal(self.mu - other.mu, self.sigma2 + other.sigma2)\";\n",
       "                var nbb_cells = Jupyter.notebook.get_cells();\n",
       "                for (var i = 0; i < nbb_cells.length; ++i) {\n",
       "                    if (nbb_cells[i].input_prompt_number == nbb_cell_id) {\n",
       "                        if (nbb_cells[i].get_text() == nbb_unformatted_code) {\n",
       "                             nbb_cells[i].set_text(nbb_formatted_code);\n",
       "                        }\n",
       "                        break;\n",
       "                    }\n",
       "                }\n",
       "            }, 500);\n",
       "            "
      ],
      "text/plain": [
       "<IPython.core.display.Javascript object>"
      ]
     },
     "metadata": {},
     "output_type": "display_data"
    },
    {
     "data": {
      "application/javascript": [
       "\n",
       "            setTimeout(function() {\n",
       "                var nbb_cell_id = 39;\n",
       "                var nbb_unformatted_code = \"%%add_method_to Normal\\n\\ndef __sub__(self, other):\\n    \\\"\\\"\\\"Compute the distribution of a difference.\\\"\\\"\\\"\\n    return Normal(self.mu - other.mu, self.sigma2 + other.sigma2)\";\n",
       "                var nbb_formatted_code = \"%%add_method_to Normal\\n\\ndef __sub__(self, other):\\n    \\\"\\\"\\\"Compute the distribution of a difference.\\\"\\\"\\\"\\n    return Normal(self.mu - other.mu, self.sigma2 + other.sigma2)\";\n",
       "                var nbb_cells = Jupyter.notebook.get_cells();\n",
       "                for (var i = 0; i < nbb_cells.length; ++i) {\n",
       "                    if (nbb_cells[i].input_prompt_number == nbb_cell_id) {\n",
       "                        if (nbb_cells[i].get_text() == nbb_unformatted_code) {\n",
       "                             nbb_cells[i].set_text(nbb_formatted_code);\n",
       "                        }\n",
       "                        break;\n",
       "                    }\n",
       "                }\n",
       "            }, 500);\n",
       "            "
      ],
      "text/plain": [
       "<IPython.core.display.Javascript object>"
      ]
     },
     "metadata": {},
     "output_type": "display_data"
    }
   ],
   "source": [
    "%%add_method_to Normal\n",
    "\n",
    "def __sub__(self, other):\n",
    "    \"\"\"Compute the distribution of a difference.\"\"\"\n",
    "    return Normal(self.mu - other.mu, self.sigma2 + other.sigma2)"
   ]
  },
  {
   "cell_type": "markdown",
   "id": "b0e41c7f",
   "metadata": {},
   "source": [
    "As you might expect, the mean of the differences is the difference of the means.\n",
    "But as you might not expect, the variance of the differences is not the difference of the variances -- it's the sum!\n",
    "To see why, imagine we perform subtraction in two steps:\n",
    "\n",
    "* If we negate the second distribution, the mean is negated but the variance is the same.\n",
    "\n",
    "* The if we add in the first distribution, the variance of the sum is the sum of the variances.\n",
    "\n",
    "If that doesn't convince you, let's test it.\n",
    "Here's the analytic distribution of the differences."
   ]
  },
  {
   "cell_type": "code",
   "execution_count": 40,
   "id": "a5a76915",
   "metadata": {},
   "outputs": [
    {
     "data": {
      "text/plain": [
       "Normal(674.6575342465753, 2641.697160192656)"
      ]
     },
     "execution_count": 40,
     "metadata": {},
     "output_type": "execute_result"
    },
    {
     "data": {
      "application/javascript": [
       "\n",
       "            setTimeout(function() {\n",
       "                var nbb_cell_id = 40;\n",
       "                var nbb_unformatted_code = \"dist_diff_means = dist_mean_male - dist_mean_female\\ndist_diff_means\";\n",
       "                var nbb_formatted_code = \"dist_diff_means = dist_mean_male - dist_mean_female\\ndist_diff_means\";\n",
       "                var nbb_cells = Jupyter.notebook.get_cells();\n",
       "                for (var i = 0; i < nbb_cells.length; ++i) {\n",
       "                    if (nbb_cells[i].input_prompt_number == nbb_cell_id) {\n",
       "                        if (nbb_cells[i].get_text() == nbb_unformatted_code) {\n",
       "                             nbb_cells[i].set_text(nbb_formatted_code);\n",
       "                        }\n",
       "                        break;\n",
       "                    }\n",
       "                }\n",
       "            }, 500);\n",
       "            "
      ],
      "text/plain": [
       "<IPython.core.display.Javascript object>"
      ]
     },
     "metadata": {},
     "output_type": "display_data"
    }
   ],
   "source": [
    "dist_diff_means = dist_mean_male - dist_mean_female\n",
    "dist_diff_means"
   ]
  },
  {
   "cell_type": "markdown",
   "id": "3298c6aa",
   "metadata": {},
   "source": [
    "And here's a random sample of differences."
   ]
  },
  {
   "cell_type": "code",
   "execution_count": 41,
   "id": "ce97b0e4",
   "metadata": {},
   "outputs": [
    {
     "data": {
      "application/javascript": [
       "\n",
       "            setTimeout(function() {\n",
       "                var nbb_cell_id = 41;\n",
       "                var nbb_unformatted_code = \"sample_sums_female = [dist_female.sample(n).sum() for i in range(1001)]\\nsample_means_female = np.array(sample_sums_female) / n\\nsample_diff_means = sample_means_male - sample_means_female\";\n",
       "                var nbb_formatted_code = \"sample_sums_female = [dist_female.sample(n).sum() for i in range(1001)]\\nsample_means_female = np.array(sample_sums_female) / n\\nsample_diff_means = sample_means_male - sample_means_female\";\n",
       "                var nbb_cells = Jupyter.notebook.get_cells();\n",
       "                for (var i = 0; i < nbb_cells.length; ++i) {\n",
       "                    if (nbb_cells[i].input_prompt_number == nbb_cell_id) {\n",
       "                        if (nbb_cells[i].get_text() == nbb_unformatted_code) {\n",
       "                             nbb_cells[i].set_text(nbb_formatted_code);\n",
       "                        }\n",
       "                        break;\n",
       "                    }\n",
       "                }\n",
       "            }, 500);\n",
       "            "
      ],
      "text/plain": [
       "<IPython.core.display.Javascript object>"
      ]
     },
     "metadata": {},
     "output_type": "display_data"
    }
   ],
   "source": [
    "sample_sums_female = [dist_female.sample(n).sum() for i in range(1001)]\n",
    "sample_means_female = np.array(sample_sums_female) / n\n",
    "sample_diff_means = sample_means_male - sample_means_female"
   ]
  },
  {
   "cell_type": "markdown",
   "id": "833be653",
   "metadata": {},
   "source": [
    "The following figure shows the empirical CDF of the random sample and the analytic CDF of the normal disrtibution."
   ]
  },
  {
   "cell_type": "code",
   "execution_count": 42,
   "id": "5a3c4db5",
   "metadata": {
    "scrolled": true
   },
   "outputs": [
    {
     "data": {
      "image/png": "[encoded data removed]",
      "text/plain": [
       "<Figure size 450x262.5 with 1 Axes>"
      ]
     },
     "metadata": {},
     "output_type": "display_data"
    },
    {
     "data": {
      "application/javascript": [
       "\n",
       "            setTimeout(function() {\n",
       "                var nbb_cell_id = 42;\n",
       "                var nbb_unformatted_code = \"dist_diff_means.plot_cdf(**model_options)\\nCdf.from_seq(sample_diff_means).plot(label=\\\"sample\\\")\\n\\ndecorate(xlabel=\\\"Difference in average weight (g)\\\", ylabel=\\\"CDF\\\")\";\n",
       "                var nbb_formatted_code = \"dist_diff_means.plot_cdf(**model_options)\\nCdf.from_seq(sample_diff_means).plot(label=\\\"sample\\\")\\n\\ndecorate(xlabel=\\\"Difference in average weight (g)\\\", ylabel=\\\"CDF\\\")\";\n",
       "                var nbb_cells = Jupyter.notebook.get_cells();\n",
       "                for (var i = 0; i < nbb_cells.length; ++i) {\n",
       "                    if (nbb_cells[i].input_prompt_number == nbb_cell_id) {\n",
       "                        if (nbb_cells[i].get_text() == nbb_unformatted_code) {\n",
       "                             nbb_cells[i].set_text(nbb_formatted_code);\n",
       "                        }\n",
       "                        break;\n",
       "                    }\n",
       "                }\n",
       "            }, 500);\n",
       "            "
      ],
      "text/plain": [
       "<IPython.core.display.Javascript object>"
      ]
     },
     "metadata": {},
     "output_type": "display_data"
    }
   ],
   "source": [
    "dist_diff_means.plot_cdf(**model_options)\n",
    "Cdf.from_seq(sample_diff_means).plot(label=\"sample\")\n",
    "\n",
    "decorate(xlabel=\"Difference in average weight (g)\", ylabel=\"CDF\")"
   ]
  },
  {
   "cell_type": "markdown",
   "id": "492d290f",
   "metadata": {},
   "source": [
    "They agree, which confirms that we found the distribution of the differences correctly. \n",
    "We can use this distribution to compute a confidence interval for the difference in weights.\n",
    "We'll use the following method to compute the \"percent point function\", which is the inverse CDF."
   ]
  },
  {
   "cell_type": "code",
   "execution_count": 43,
   "id": "53cf66c1",
   "metadata": {},
   "outputs": [
    {
     "data": {
      "application/javascript": [
       "\n",
       "            setTimeout(function() {\n",
       "                var nbb_cell_id = 43;\n",
       "                var nbb_unformatted_code = \"%%add_method_to Normal\\n\\ndef ppf(self, xs):\\n    sigma = np.sqrt(self.sigma2)\\n    return norm.ppf(xs, self.mu, sigma)\";\n",
       "                var nbb_formatted_code = \"%%add_method_to Normal\\n\\ndef ppf(self, xs):\\n    sigma = np.sqrt(self.sigma2)\\n    return norm.ppf(xs, self.mu, sigma)\";\n",
       "                var nbb_cells = Jupyter.notebook.get_cells();\n",
       "                for (var i = 0; i < nbb_cells.length; ++i) {\n",
       "                    if (nbb_cells[i].input_prompt_number == nbb_cell_id) {\n",
       "                        if (nbb_cells[i].get_text() == nbb_unformatted_code) {\n",
       "                             nbb_cells[i].set_text(nbb_formatted_code);\n",
       "                        }\n",
       "                        break;\n",
       "                    }\n",
       "                }\n",
       "            }, 500);\n",
       "            "
      ],
      "text/plain": [
       "<IPython.core.display.Javascript object>"
      ]
     },
     "metadata": {},
     "output_type": "display_data"
    },
    {
     "data": {
      "application/javascript": [
       "\n",
       "            setTimeout(function() {\n",
       "                var nbb_cell_id = 43;\n",
       "                var nbb_unformatted_code = \"%%add_method_to Normal\\n\\ndef ppf(self, xs):\\n    sigma = np.sqrt(self.sigma2)\\n    return norm.ppf(xs, self.mu, sigma)\";\n",
       "                var nbb_formatted_code = \"%%add_method_to Normal\\n\\ndef ppf(self, xs):\\n    sigma = np.sqrt(self.sigma2)\\n    return norm.ppf(xs, self.mu, sigma)\";\n",
       "                var nbb_cells = Jupyter.notebook.get_cells();\n",
       "                for (var i = 0; i < nbb_cells.length; ++i) {\n",
       "                    if (nbb_cells[i].input_prompt_number == nbb_cell_id) {\n",
       "                        if (nbb_cells[i].get_text() == nbb_unformatted_code) {\n",
       "                             nbb_cells[i].set_text(nbb_formatted_code);\n",
       "                        }\n",
       "                        break;\n",
       "                    }\n",
       "                }\n",
       "            }, 500);\n",
       "            "
      ],
      "text/plain": [
       "<IPython.core.display.Javascript object>"
      ]
     },
     "metadata": {},
     "output_type": "display_data"
    }
   ],
   "source": [
    "%%add_method_to Normal\n",
    "\n",
    "def ppf(self, xs):\n",
    "    sigma = np.sqrt(self.sigma2)\n",
    "    return norm.ppf(xs, self.mu, sigma)"
   ]
  },
  {
   "cell_type": "markdown",
   "id": "339941c6",
   "metadata": {},
   "source": [
    "The 5th and 95th percentiles form a 90% confidence interval."
   ]
  },
  {
   "cell_type": "code",
   "execution_count": 44,
   "id": "21d807a4",
   "metadata": {},
   "outputs": [
    {
     "data": {
      "text/plain": [
       "array([590.1162635 , 759.19880499])"
      ]
     },
     "execution_count": 44,
     "metadata": {},
     "output_type": "execute_result"
    },
    {
     "data": {
      "application/javascript": [
       "\n",
       "            setTimeout(function() {\n",
       "                var nbb_cell_id = 44;\n",
       "                var nbb_unformatted_code = \"ci90 = dist_diff_means.ppf([0.05, 0.95])\\nci90\";\n",
       "                var nbb_formatted_code = \"ci90 = dist_diff_means.ppf([0.05, 0.95])\\nci90\";\n",
       "                var nbb_cells = Jupyter.notebook.get_cells();\n",
       "                for (var i = 0; i < nbb_cells.length; ++i) {\n",
       "                    if (nbb_cells[i].input_prompt_number == nbb_cell_id) {\n",
       "                        if (nbb_cells[i].get_text() == nbb_unformatted_code) {\n",
       "                             nbb_cells[i].set_text(nbb_formatted_code);\n",
       "                        }\n",
       "                        break;\n",
       "                    }\n",
       "                }\n",
       "            }, 500);\n",
       "            "
      ],
      "text/plain": [
       "<IPython.core.display.Javascript object>"
      ]
     },
     "metadata": {},
     "output_type": "display_data"
    }
   ],
   "source": [
    "ci90 = dist_diff_means.ppf([0.05, 0.95])\n",
    "ci90"
   ]
  },
  {
   "cell_type": "markdown",
   "id": "57913169",
   "metadata": {},
   "source": [
    "We can get approximately the same results from the random sample."
   ]
  },
  {
   "cell_type": "code",
   "execution_count": 45,
   "id": "5bcbbf0b",
   "metadata": {},
   "outputs": [
    {
     "data": {
      "text/plain": [
       "array([583.36365513, 754.63796736])"
      ]
     },
     "execution_count": 45,
     "metadata": {},
     "output_type": "execute_result"
    },
    {
     "data": {
      "application/javascript": [
       "\n",
       "            setTimeout(function() {\n",
       "                var nbb_cell_id = 45;\n",
       "                var nbb_unformatted_code = \"np.percentile(sample_diff_means, [5, 95])\";\n",
       "                var nbb_formatted_code = \"np.percentile(sample_diff_means, [5, 95])\";\n",
       "                var nbb_cells = Jupyter.notebook.get_cells();\n",
       "                for (var i = 0; i < nbb_cells.length; ++i) {\n",
       "                    if (nbb_cells[i].input_prompt_number == nbb_cell_id) {\n",
       "                        if (nbb_cells[i].get_text() == nbb_unformatted_code) {\n",
       "                             nbb_cells[i].set_text(nbb_formatted_code);\n",
       "                        }\n",
       "                        break;\n",
       "                    }\n",
       "                }\n",
       "            }, 500);\n",
       "            "
      ],
      "text/plain": [
       "<IPython.core.display.Javascript object>"
      ]
     },
     "metadata": {},
     "output_type": "display_data"
    }
   ],
   "source": [
    "np.percentile(sample_diff_means, [5, 95])"
   ]
  },
  {
   "cell_type": "markdown",
   "id": "b34c147b",
   "metadata": {},
   "source": [
    "The analytic method is faster than resampling, and it is deterministic -- that is, not random.\n",
    "\n",
    "However, everything we've done so far is based on the assumption that the distribution of measurements is normal.\n",
    "Of course that's not always true with real data, but even if the distribution of the measurements isn't normal, if we add up many measurements, the distribution of their sum is often close to normal.\n",
    "That is the power of the Central Limit Theorem."
   ]
  },
  {
   "cell_type": "markdown",
   "id": "25a0241c",
   "metadata": {},
   "source": [
    "## Central Limit Theorem\n",
    "\n",
    "As we saw in the previous sections, if we add values drawn from normal distributions, the distribution of the sum is normal.\n",
    "Most other distributions don't have this property -- if we add values drawn from other distributions, the sum does not generally have an analytic distribution.\n",
    "\n",
    "But if we add up `n` values from almost any distribution, the distribution of the sum converges to normal as `n` increases.\n",
    "\n",
    "More specifically, if the distribution of the values has mean `m` and variance `s2` the distribution of the sum converges to a normal distribution with mean `n * m` and variance `n * s2`."
   ]
  },
  {
   "cell_type": "markdown",
   "id": "a2d7def3",
   "metadata": {},
   "source": [
    "That conclusion is the Central Limit Theorem (CLT).\n",
    "It is one of the most useful tools for statistical analysis, but it comes with caveats:\n",
    "\n",
    "-   The values have to be drawn independently. If they are correlated, the CLT doesn't apply.\n",
    "\n",
    "-   The values have to come from the same distribution (although this requirement can be relaxed).\n",
    "\n",
    "-   The values have to be drawn from a distribution with finite mean and variance. So the CL doesn't apply to some long-tailed distributions.\n",
    "\n",
    "-   The rate of convergence depends on the skewness of the distribution. Sums from an exponential distribution converge for small `n`. Sums from a lognormal distribution require larger sizes."
   ]
  },
  {
   "cell_type": "markdown",
   "id": "a64651d4",
   "metadata": {},
   "source": [
    "The Central Limit Theorem explains the prevalence of normal distributions in the natural world.\n",
    "Many characteristics of living things are affected by genetic and environmental factors whose effect is additive.\n",
    "The characteristics we measure are the sum of a large number of small effects, so their distribution tends to be normal.\n",
    "\n",
    "To see how the Central Limit Theorem works, and when it doesn't, let's try some experiments.\n",
    "\n",
    "First, we'll try an exponential distribution:"
   ]
  },
  {
   "cell_type": "code",
   "execution_count": 46,
   "id": "c3c5b9d9",
   "metadata": {},
   "outputs": [
    {
     "data": {
      "application/javascript": [
       "\n",
       "            setTimeout(function() {\n",
       "                var nbb_cell_id = 46;\n",
       "                var nbb_unformatted_code = \"lam = 0.5\\nsample_map = {}\\nfor n in [1, 10, 100]:\\n    sample_map[n] = [np.sum(np.random.exponential(1 / lam, n)) for _ in range(1001)]\";\n",
       "                var nbb_formatted_code = \"lam = 0.5\\nsample_map = {}\\nfor n in [1, 10, 100]:\\n    sample_map[n] = [np.sum(np.random.exponential(1 / lam, n)) for _ in range(1001)]\";\n",
       "                var nbb_cells = Jupyter.notebook.get_cells();\n",
       "                for (var i = 0; i < nbb_cells.length; ++i) {\n",
       "                    if (nbb_cells[i].input_prompt_number == nbb_cell_id) {\n",
       "                        if (nbb_cells[i].get_text() == nbb_unformatted_code) {\n",
       "                             nbb_cells[i].set_text(nbb_formatted_code);\n",
       "                        }\n",
       "                        break;\n",
       "                    }\n",
       "                }\n",
       "            }, 500);\n",
       "            "
      ],
      "text/plain": [
       "<IPython.core.display.Javascript object>"
      ]
     },
     "metadata": {},
     "output_type": "display_data"
    }
   ],
   "source": [
    "lam = 0.5\n",
    "sample_map = {}\n",
    "for n in [1, 10, 100]:\n",
    "    sample_map[n] = [np.sum(np.random.exponential(1 / lam, n)) for _ in range(1001)]"
   ]
  },
  {
   "cell_type": "markdown",
   "id": "6e6d3d30",
   "metadata": {},
   "source": [
    "`make_expo_samples` generates samples of sums of exponential values (I use \"exponential values\" as shorthand for \"values from an exponential distribution\").\n",
    "`beta` is the parameter of the distribution; `iters` is the number of sums to generate.\n",
    "\n",
    "To explain this function, I'll start from the inside and work my way out.\n",
    "Each time we call `np.random.exponential`, we get a sequence of `n` exponential values and compute its sum.\n",
    "`sample` is a list of these sums, with length `iters`.\n",
    "\n",
    "It is easy to get `n` and `iters` confused: `n` is the number of terms in each sum; `iters` is the number of sums we compute in order to characterize the distribution of sums.\n",
    "\n",
    "The return value is a list of `(n, sample)` pairs.\n",
    "For each pair, we make a normal probability plot:"
   ]
  },
  {
   "cell_type": "code",
   "execution_count": 47,
   "id": "5da7bb3f",
   "metadata": {},
   "outputs": [
    {
     "name": "stdout",
     "output_type": "stream",
     "text": [
      "1 1.9566554314847073\n",
      "10 20.374521077479002\n",
      "100 200.85599942473655\n"
     ]
    },
    {
     "data": {
      "application/javascript": [
       "\n",
       "            setTimeout(function() {\n",
       "                var nbb_cell_id = 47;\n",
       "                var nbb_unformatted_code = \"for n, sample in sample_map.items():\\n    print(n, np.mean(sample))\";\n",
       "                var nbb_formatted_code = \"for n, sample in sample_map.items():\\n    print(n, np.mean(sample))\";\n",
       "                var nbb_cells = Jupyter.notebook.get_cells();\n",
       "                for (var i = 0; i < nbb_cells.length; ++i) {\n",
       "                    if (nbb_cells[i].input_prompt_number == nbb_cell_id) {\n",
       "                        if (nbb_cells[i].get_text() == nbb_unformatted_code) {\n",
       "                             nbb_cells[i].set_text(nbb_formatted_code);\n",
       "                        }\n",
       "                        break;\n",
       "                    }\n",
       "                }\n",
       "            }, 500);\n",
       "            "
      ],
      "text/plain": [
       "<IPython.core.display.Javascript object>"
      ]
     },
     "metadata": {},
     "output_type": "display_data"
    }
   ],
   "source": [
    "for n, sample in sample_map.items():\n",
    "    print(n, np.mean(sample))"
   ]
  },
  {
   "cell_type": "code",
   "execution_count": 48,
   "id": "8f957be2",
   "metadata": {},
   "outputs": [
    {
     "data": {
      "application/javascript": [
       "\n",
       "            setTimeout(function() {\n",
       "                var nbb_cell_id = 48;\n",
       "                var nbb_unformatted_code = \"def normal_plot_samples(samples, ylabel=\\\"\\\"):\\n    \\\"\\\"\\\"Makes normal probability plots for samples.\\n\\n    samples: map from n to sample\\n    label: string\\n    \\\"\\\"\\\"\\n    plt.figure(figsize=(8, 3.5))\\n    for i, n in enumerate(sample_map):\\n        plt.subplot(1, 3, i + 1)\\n        normal_probability_plot(sample_map[n])\\n        decorate(\\n            title=\\\"n=%d\\\" % n,\\n            xticks=[],\\n            yticks=[],\\n            xlabel=\\\"Standard normal\\\",\\n            ylabel=ylabel,\\n        )\";\n",
       "                var nbb_formatted_code = \"def normal_plot_samples(samples, ylabel=\\\"\\\"):\\n    \\\"\\\"\\\"Makes normal probability plots for samples.\\n\\n    samples: map from n to sample\\n    label: string\\n    \\\"\\\"\\\"\\n    plt.figure(figsize=(8, 3.5))\\n    for i, n in enumerate(sample_map):\\n        plt.subplot(1, 3, i + 1)\\n        normal_probability_plot(sample_map[n])\\n        decorate(\\n            title=\\\"n=%d\\\" % n,\\n            xticks=[],\\n            yticks=[],\\n            xlabel=\\\"Standard normal\\\",\\n            ylabel=ylabel,\\n        )\";\n",
       "                var nbb_cells = Jupyter.notebook.get_cells();\n",
       "                for (var i = 0; i < nbb_cells.length; ++i) {\n",
       "                    if (nbb_cells[i].input_prompt_number == nbb_cell_id) {\n",
       "                        if (nbb_cells[i].get_text() == nbb_unformatted_code) {\n",
       "                             nbb_cells[i].set_text(nbb_formatted_code);\n",
       "                        }\n",
       "                        break;\n",
       "                    }\n",
       "                }\n",
       "            }, 500);\n",
       "            "
      ],
      "text/plain": [
       "<IPython.core.display.Javascript object>"
      ]
     },
     "metadata": {},
     "output_type": "display_data"
    }
   ],
   "source": [
    "def normal_plot_samples(samples, ylabel=\"\"):\n",
    "    \"\"\"Makes normal probability plots for samples.\n",
    "\n",
    "    samples: map from n to sample\n",
    "    label: string\n",
    "    \"\"\"\n",
    "    plt.figure(figsize=(8, 3.5))\n",
    "    for i, n in enumerate(sample_map):\n",
    "        plt.subplot(1, 3, i + 1)\n",
    "        normal_probability_plot(sample_map[n])\n",
    "        decorate(\n",
    "            title=\"n=%d\" % n,\n",
    "            xticks=[],\n",
    "            yticks=[],\n",
    "            xlabel=\"Standard normal\",\n",
    "            ylabel=ylabel,\n",
    "        )"
   ]
  },
  {
   "cell_type": "markdown",
   "id": "42166062",
   "metadata": {},
   "source": [
    "`normal_plot_samples` takes the list of pairs from `make_expo_samples` and generates a row of normal probability plots."
   ]
  },
  {
   "cell_type": "code",
   "execution_count": 49,
   "id": "8955b2c9",
   "metadata": {},
   "outputs": [
    {
     "data": {
      "image/png": "[encoded data removed]",
      "text/plain": [
       "<Figure size 600x262.5 with 3 Axes>"
      ]
     },
     "metadata": {},
     "output_type": "display_data"
    },
    {
     "data": {
      "application/javascript": [
       "\n",
       "            setTimeout(function() {\n",
       "                var nbb_cell_id = 49;\n",
       "                var nbb_unformatted_code = \"normal_plot_samples(sample_map, ylabel=\\\"Sum of exponential values\\\")\";\n",
       "                var nbb_formatted_code = \"normal_plot_samples(sample_map, ylabel=\\\"Sum of exponential values\\\")\";\n",
       "                var nbb_cells = Jupyter.notebook.get_cells();\n",
       "                for (var i = 0; i < nbb_cells.length; ++i) {\n",
       "                    if (nbb_cells[i].input_prompt_number == nbb_cell_id) {\n",
       "                        if (nbb_cells[i].get_text() == nbb_unformatted_code) {\n",
       "                             nbb_cells[i].set_text(nbb_formatted_code);\n",
       "                        }\n",
       "                        break;\n",
       "                    }\n",
       "                }\n",
       "            }, 500);\n",
       "            "
      ],
      "text/plain": [
       "<IPython.core.display.Javascript object>"
      ]
     },
     "metadata": {},
     "output_type": "display_data"
    }
   ],
   "source": [
    "normal_plot_samples(sample_map, ylabel=\"Sum of exponential values\")"
   ]
  },
  {
   "cell_type": "markdown",
   "id": "0a347e4e",
   "metadata": {},
   "source": [
    "With `n=1`, the distribution of the sum is exponential, so the normal probability plot is not a straight line.\n",
    "But with `n=10` the distribution of the sum is approximately normal, and with `n=100` it is all but indistinguishable from normal.\n",
    "\n",
    "The following shows similar results for a lognormal distribution.\n",
    "Lognormal distributions are generally more skewed than exponential distributions, so the distribution of sums takes longer to converge.\n",
    "With `n=10` the normal probability plot is nowhere near straight, but with `n=100` it is approximately normal."
   ]
  },
  {
   "cell_type": "code",
   "execution_count": 50,
   "id": "3f2234ae",
   "metadata": {},
   "outputs": [
    {
     "data": {
      "application/javascript": [
       "\n",
       "            setTimeout(function() {\n",
       "                var nbb_cell_id = 50;\n",
       "                var nbb_unformatted_code = \"mu, sigma = 1.0, 1.0\\nsample_map = {}\\nfor n in [1, 10, 100]:\\n    sample_map[n] = [np.sum(np.random.lognormal(mu, sigma, n)) for _ in range(1001)]\";\n",
       "                var nbb_formatted_code = \"mu, sigma = 1.0, 1.0\\nsample_map = {}\\nfor n in [1, 10, 100]:\\n    sample_map[n] = [np.sum(np.random.lognormal(mu, sigma, n)) for _ in range(1001)]\";\n",
       "                var nbb_cells = Jupyter.notebook.get_cells();\n",
       "                for (var i = 0; i < nbb_cells.length; ++i) {\n",
       "                    if (nbb_cells[i].input_prompt_number == nbb_cell_id) {\n",
       "                        if (nbb_cells[i].get_text() == nbb_unformatted_code) {\n",
       "                             nbb_cells[i].set_text(nbb_formatted_code);\n",
       "                        }\n",
       "                        break;\n",
       "                    }\n",
       "                }\n",
       "            }, 500);\n",
       "            "
      ],
      "text/plain": [
       "<IPython.core.display.Javascript object>"
      ]
     },
     "metadata": {},
     "output_type": "display_data"
    }
   ],
   "source": [
    "mu, sigma = 1.0, 1.0\n",
    "sample_map = {}\n",
    "for n in [1, 10, 100]:\n",
    "    sample_map[n] = [np.sum(np.random.lognormal(mu, sigma, n)) for _ in range(1001)]"
   ]
  },
  {
   "cell_type": "code",
   "execution_count": 51,
   "id": "7a807d6d",
   "metadata": {},
   "outputs": [
    {
     "data": {
      "image/png": "[encoded data removed]",
      "text/plain": [
       "<Figure size 600x262.5 with 3 Axes>"
      ]
     },
     "metadata": {},
     "output_type": "display_data"
    },
    {
     "data": {
      "application/javascript": [
       "\n",
       "            setTimeout(function() {\n",
       "                var nbb_cell_id = 51;\n",
       "                var nbb_unformatted_code = \"normal_plot_samples(sample_map, ylabel=\\\"Sum of lognormal values\\\")\";\n",
       "                var nbb_formatted_code = \"normal_plot_samples(sample_map, ylabel=\\\"Sum of lognormal values\\\")\";\n",
       "                var nbb_cells = Jupyter.notebook.get_cells();\n",
       "                for (var i = 0; i < nbb_cells.length; ++i) {\n",
       "                    if (nbb_cells[i].input_prompt_number == nbb_cell_id) {\n",
       "                        if (nbb_cells[i].get_text() == nbb_unformatted_code) {\n",
       "                             nbb_cells[i].set_text(nbb_formatted_code);\n",
       "                        }\n",
       "                        break;\n",
       "                    }\n",
       "                }\n",
       "            }, 500);\n",
       "            "
      ],
      "text/plain": [
       "<IPython.core.display.Javascript object>"
      ]
     },
     "metadata": {},
     "output_type": "display_data"
    }
   ],
   "source": [
    "normal_plot_samples(sample_map, ylabel=\"Sum of lognormal values\")"
   ]
  },
  {
   "cell_type": "markdown",
   "id": "e2a4a63a",
   "metadata": {},
   "source": [
    "Pareto distributions are even more skewed than lognormal.\n",
    "Depending on the parameters, many Pareto distributions do not have finite mean and variance.\n",
    "As a result, the Central Limit Theorem does not apply.\n",
    "Figure [\\[normal2\\]](#normal2){reference-type=\"ref\" reference=\"normal2\"} (top row) shows distributions of sums of Pareto values.\n",
    "Even with `n=100` the normal probability plot is far from straight."
   ]
  },
  {
   "cell_type": "code",
   "execution_count": 52,
   "id": "7f98ab93",
   "metadata": {},
   "outputs": [
    {
     "data": {
      "application/javascript": [
       "\n",
       "            setTimeout(function() {\n",
       "                var nbb_cell_id = 52;\n",
       "                var nbb_unformatted_code = \"alpha = 1.0\\nsample_map = {}\\nfor n in [1, 10, 100]:\\n    sample_map[n] = [np.sum(np.random.pareto(alpha, n)) for _ in range(1001)]\";\n",
       "                var nbb_formatted_code = \"alpha = 1.0\\nsample_map = {}\\nfor n in [1, 10, 100]:\\n    sample_map[n] = [np.sum(np.random.pareto(alpha, n)) for _ in range(1001)]\";\n",
       "                var nbb_cells = Jupyter.notebook.get_cells();\n",
       "                for (var i = 0; i < nbb_cells.length; ++i) {\n",
       "                    if (nbb_cells[i].input_prompt_number == nbb_cell_id) {\n",
       "                        if (nbb_cells[i].get_text() == nbb_unformatted_code) {\n",
       "                             nbb_cells[i].set_text(nbb_formatted_code);\n",
       "                        }\n",
       "                        break;\n",
       "                    }\n",
       "                }\n",
       "            }, 500);\n",
       "            "
      ],
      "text/plain": [
       "<IPython.core.display.Javascript object>"
      ]
     },
     "metadata": {},
     "output_type": "display_data"
    }
   ],
   "source": [
    "alpha = 1.0\n",
    "sample_map = {}\n",
    "for n in [1, 10, 100]:\n",
    "    sample_map[n] = [np.sum(np.random.pareto(alpha, n)) for _ in range(1001)]"
   ]
  },
  {
   "cell_type": "code",
   "execution_count": 53,
   "id": "5a039a30",
   "metadata": {},
   "outputs": [
    {
     "data": {
      "image/png": "[encoded data removed]",
      "text/plain": [
       "<Figure size 600x262.5 with 3 Axes>"
      ]
     },
     "metadata": {},
     "output_type": "display_data"
    },
    {
     "data": {
      "application/javascript": [
       "\n",
       "            setTimeout(function() {\n",
       "                var nbb_cell_id = 53;\n",
       "                var nbb_unformatted_code = \"normal_plot_samples(sample_map, ylabel=\\\"Sum of Pareto values\\\")\";\n",
       "                var nbb_formatted_code = \"normal_plot_samples(sample_map, ylabel=\\\"Sum of Pareto values\\\")\";\n",
       "                var nbb_cells = Jupyter.notebook.get_cells();\n",
       "                for (var i = 0; i < nbb_cells.length; ++i) {\n",
       "                    if (nbb_cells[i].input_prompt_number == nbb_cell_id) {\n",
       "                        if (nbb_cells[i].get_text() == nbb_unformatted_code) {\n",
       "                             nbb_cells[i].set_text(nbb_formatted_code);\n",
       "                        }\n",
       "                        break;\n",
       "                    }\n",
       "                }\n",
       "            }, 500);\n",
       "            "
      ],
      "text/plain": [
       "<IPython.core.display.Javascript object>"
      ]
     },
     "metadata": {},
     "output_type": "display_data"
    }
   ],
   "source": [
    "normal_plot_samples(sample_map, ylabel=\"Sum of Pareto values\")"
   ]
  },
  {
   "cell_type": "markdown",
   "id": "0cec0afd",
   "metadata": {},
   "source": [
    "## Correlated Samples\n",
    "\n",
    "I also mentioned that CLT does not apply if the values are correlated.\n",
    "To test that, I generate correlated values from an exponential distribution.\n",
    "The algorithm for generating correlated values is (1) generate correlated normal values, (2) use the normal CDF to transform the values to uniform, and (3) use the inverse exponential CDF to transform the uniform values to exponential.\n",
    "\n",
    "`generate_correlated` returns an iterator of `n` normal values with serial correlation `rho`:"
   ]
  },
  {
   "cell_type": "code",
   "execution_count": 54,
   "id": "7bf8b9c0",
   "metadata": {},
   "outputs": [
    {
     "data": {
      "application/javascript": [
       "\n",
       "            setTimeout(function() {\n",
       "                var nbb_cell_id = 54;\n",
       "                var nbb_unformatted_code = \"def generate_normal_correlated(rho, n):\\n    \\\"\\\"\\\"Generates an array of correlated values from a standard normal dist.\\\"\\\"\\\"\\n    xs = np.empty(n)\\n    xs[0] = np.random.normal(0, 1)\\n\\n    sigma = np.sqrt(1 - rho**2)\\n    for i in range(1, n):\\n        xs[i] = rho * xs[i - 1] + np.random.normal(0, sigma)\\n\\n    return xs\";\n",
       "                var nbb_formatted_code = \"def generate_normal_correlated(rho, n):\\n    \\\"\\\"\\\"Generates an array of correlated values from a standard normal dist.\\\"\\\"\\\"\\n    xs = np.empty(n)\\n    xs[0] = np.random.normal(0, 1)\\n\\n    sigma = np.sqrt(1 - rho**2)\\n    for i in range(1, n):\\n        xs[i] = rho * xs[i - 1] + np.random.normal(0, sigma)\\n\\n    return xs\";\n",
       "                var nbb_cells = Jupyter.notebook.get_cells();\n",
       "                for (var i = 0; i < nbb_cells.length; ++i) {\n",
       "                    if (nbb_cells[i].input_prompt_number == nbb_cell_id) {\n",
       "                        if (nbb_cells[i].get_text() == nbb_unformatted_code) {\n",
       "                             nbb_cells[i].set_text(nbb_formatted_code);\n",
       "                        }\n",
       "                        break;\n",
       "                    }\n",
       "                }\n",
       "            }, 500);\n",
       "            "
      ],
      "text/plain": [
       "<IPython.core.display.Javascript object>"
      ]
     },
     "metadata": {},
     "output_type": "display_data"
    }
   ],
   "source": [
    "def generate_normal_correlated(rho, n):\n",
    "    \"\"\"Generates an array of correlated values from a standard normal dist.\"\"\"\n",
    "    xs = np.empty(n)\n",
    "    xs[0] = np.random.normal(0, 1)\n",
    "\n",
    "    sigma = np.sqrt(1 - rho**2)\n",
    "    for i in range(1, n):\n",
    "        xs[i] = rho * xs[i - 1] + np.random.normal(0, sigma)\n",
    "\n",
    "    return xs"
   ]
  },
  {
   "cell_type": "markdown",
   "id": "060814fb",
   "metadata": {},
   "source": [
    "The first value is a standard normal value.\n",
    "Each subsequent value depends on its predecessor: if the previous value is `x`, the mean of the next value is `x*rho`, with variance `1-rho**2`.\n",
    "Note that `random.gauss` takes the standard deviation as the second argument, not variance.\n",
    "\n",
    "`generate_expo_correlated` takes the resulting sequence and transforms it to exponential:"
   ]
  },
  {
   "cell_type": "code",
   "execution_count": 55,
   "id": "e0de13ae",
   "metadata": {},
   "outputs": [
    {
     "data": {
      "application/javascript": [
       "\n",
       "            setTimeout(function() {\n",
       "                var nbb_cell_id = 55;\n",
       "                var nbb_unformatted_code = \"from scipy.stats import expon\\n\\n\\ndef generate_expo_correlated(rho, n):\\n    \\\"\\\"\\\"Generates a sequence of correlated values from an exponential dist.\\\"\\\"\\\"\\n    normal = generate_normal_correlated(rho, n)\\n    uniform = norm.cdf(normal)\\n    expo = expon.ppf(uniform)\\n    return expo\";\n",
       "                var nbb_formatted_code = \"from scipy.stats import expon\\n\\n\\ndef generate_expo_correlated(rho, n):\\n    \\\"\\\"\\\"Generates a sequence of correlated values from an exponential dist.\\\"\\\"\\\"\\n    normal = generate_normal_correlated(rho, n)\\n    uniform = norm.cdf(normal)\\n    expo = expon.ppf(uniform)\\n    return expo\";\n",
       "                var nbb_cells = Jupyter.notebook.get_cells();\n",
       "                for (var i = 0; i < nbb_cells.length; ++i) {\n",
       "                    if (nbb_cells[i].input_prompt_number == nbb_cell_id) {\n",
       "                        if (nbb_cells[i].get_text() == nbb_unformatted_code) {\n",
       "                             nbb_cells[i].set_text(nbb_formatted_code);\n",
       "                        }\n",
       "                        break;\n",
       "                    }\n",
       "                }\n",
       "            }, 500);\n",
       "            "
      ],
      "text/plain": [
       "<IPython.core.display.Javascript object>"
      ]
     },
     "metadata": {},
     "output_type": "display_data"
    }
   ],
   "source": [
    "from scipy.stats import expon\n",
    "\n",
    "\n",
    "def generate_expo_correlated(rho, n):\n",
    "    \"\"\"Generates a sequence of correlated values from an exponential dist.\"\"\"\n",
    "    normal = generate_normal_correlated(rho, n)\n",
    "    uniform = norm.cdf(normal)\n",
    "    expo = expon.ppf(uniform)\n",
    "    return expo"
   ]
  },
  {
   "cell_type": "markdown",
   "id": "fa600477",
   "metadata": {},
   "source": [
    "`normal` is a list of correlated normal values.\n",
    "`uniform` is a sequence of uniform values between 0 and 1. `expo` is a correlated sequence of exponential values.\n",
    "`ppf` stands for \"percent point function,\" which is another name for the inverse CDF."
   ]
  },
  {
   "cell_type": "code",
   "execution_count": 56,
   "id": "9054d1e4",
   "metadata": {},
   "outputs": [
    {
     "data": {
      "application/javascript": [
       "\n",
       "            setTimeout(function() {\n",
       "                var nbb_cell_id = 56;\n",
       "                var nbb_unformatted_code = \"rho = 0.6\\nsample_map = {}\\nfor n in [1, 10, 100]:\\n    sample_map[n] = [np.sum(generate_expo_correlated(rho, n)) for _ in range(1001)]\";\n",
       "                var nbb_formatted_code = \"rho = 0.6\\nsample_map = {}\\nfor n in [1, 10, 100]:\\n    sample_map[n] = [np.sum(generate_expo_correlated(rho, n)) for _ in range(1001)]\";\n",
       "                var nbb_cells = Jupyter.notebook.get_cells();\n",
       "                for (var i = 0; i < nbb_cells.length; ++i) {\n",
       "                    if (nbb_cells[i].input_prompt_number == nbb_cell_id) {\n",
       "                        if (nbb_cells[i].get_text() == nbb_unformatted_code) {\n",
       "                             nbb_cells[i].set_text(nbb_formatted_code);\n",
       "                        }\n",
       "                        break;\n",
       "                    }\n",
       "                }\n",
       "            }, 500);\n",
       "            "
      ],
      "text/plain": [
       "<IPython.core.display.Javascript object>"
      ]
     },
     "metadata": {},
     "output_type": "display_data"
    }
   ],
   "source": [
    "rho = 0.6\n",
    "sample_map = {}\n",
    "for n in [1, 10, 100]:\n",
    "    sample_map[n] = [np.sum(generate_expo_correlated(rho, n)) for _ in range(1001)]"
   ]
  },
  {
   "cell_type": "code",
   "execution_count": 57,
   "id": "be3de5f3",
   "metadata": {},
   "outputs": [
    {
     "data": {
      "image/png": "[encoded data removed]",
      "text/plain": [
       "<Figure size 600x262.5 with 3 Axes>"
      ]
     },
     "metadata": {},
     "output_type": "display_data"
    },
    {
     "data": {
      "application/javascript": [
       "\n",
       "            setTimeout(function() {\n",
       "                var nbb_cell_id = 57;\n",
       "                var nbb_unformatted_code = \"normal_plot_samples(sample_map, ylabel=\\\"sum of correlated exponential values\\\")\";\n",
       "                var nbb_formatted_code = \"normal_plot_samples(sample_map, ylabel=\\\"sum of correlated exponential values\\\")\";\n",
       "                var nbb_cells = Jupyter.notebook.get_cells();\n",
       "                for (var i = 0; i < nbb_cells.length; ++i) {\n",
       "                    if (nbb_cells[i].input_prompt_number == nbb_cell_id) {\n",
       "                        if (nbb_cells[i].get_text() == nbb_unformatted_code) {\n",
       "                             nbb_cells[i].set_text(nbb_formatted_code);\n",
       "                        }\n",
       "                        break;\n",
       "                    }\n",
       "                }\n",
       "            }, 500);\n",
       "            "
      ],
      "text/plain": [
       "<IPython.core.display.Javascript object>"
      ]
     },
     "metadata": {},
     "output_type": "display_data"
    }
   ],
   "source": [
    "normal_plot_samples(sample_map, ylabel=\"sum of correlated exponential values\")"
   ]
  },
  {
   "cell_type": "markdown",
   "id": "0e44ca00",
   "metadata": {},
   "source": [
    "These experiments are meant to show how the Central Limit Theorem works, and what happens when it doesn't.\n",
    "Now let's see how we can use it."
   ]
  },
  {
   "cell_type": "markdown",
   "id": "fa118107",
   "metadata": {},
   "source": [
    "## Applying the CLT\n",
    "\n",
    "To see why the Central Limit Theorem is useful, let's get back to the example in Section XXX: testing the apparent difference in mean pregnancy length for first babies and others.\n",
    "As we've seen, the apparent difference is about 0.078 weeks:"
   ]
  },
  {
   "cell_type": "code",
   "execution_count": 58,
   "id": "eb1410e5",
   "metadata": {},
   "outputs": [
    {
     "data": {
      "application/javascript": [
       "\n",
       "            setTimeout(function() {\n",
       "                var nbb_cell_id = 58;\n",
       "                var nbb_unformatted_code = \"download(\\\"https://github.com/AllenDowney/ThinkStats/raw/v3/nb/nsfg.py\\\")\\ndownload(\\\"https://github.com/AllenDowney/ThinkStats/raw/v3/data/2002FemPreg.dct\\\")\\ndownload(\\\"https://github.com/AllenDowney/ThinkStats/raw/v3/data/2002FemPreg.dat.gz\\\")\";\n",
       "                var nbb_formatted_code = \"download(\\\"https://github.com/AllenDowney/ThinkStats/raw/v3/nb/nsfg.py\\\")\\ndownload(\\\"https://github.com/AllenDowney/ThinkStats/raw/v3/data/2002FemPreg.dct\\\")\\ndownload(\\\"https://github.com/AllenDowney/ThinkStats/raw/v3/data/2002FemPreg.dat.gz\\\")\";\n",
       "                var nbb_cells = Jupyter.notebook.get_cells();\n",
       "                for (var i = 0; i < nbb_cells.length; ++i) {\n",
       "                    if (nbb_cells[i].input_prompt_number == nbb_cell_id) {\n",
       "                        if (nbb_cells[i].get_text() == nbb_unformatted_code) {\n",
       "                             nbb_cells[i].set_text(nbb_formatted_code);\n",
       "                        }\n",
       "                        break;\n",
       "                    }\n",
       "                }\n",
       "            }, 500);\n",
       "            "
      ],
      "text/plain": [
       "<IPython.core.display.Javascript object>"
      ]
     },
     "metadata": {},
     "output_type": "display_data"
    }
   ],
   "source": [
    "download(\"https://github.com/AllenDowney/ThinkStats/raw/v3/nb/nsfg.py\")\n",
    "download(\"https://github.com/AllenDowney/ThinkStats/raw/v3/data/2002FemPreg.dct\")\n",
    "download(\"https://github.com/AllenDowney/ThinkStats/raw/v3/data/2002FemPreg.dat.gz\")"
   ]
  },
  {
   "cell_type": "code",
   "execution_count": 59,
   "id": "0e95be2a",
   "metadata": {},
   "outputs": [
    {
     "data": {
      "application/javascript": [
       "\n",
       "            setTimeout(function() {\n",
       "                var nbb_cell_id = 59;\n",
       "                var nbb_unformatted_code = \"from nsfg import get_nsfg_groups\\n\\nlive, firsts, others = get_nsfg_groups()\";\n",
       "                var nbb_formatted_code = \"from nsfg import get_nsfg_groups\\n\\nlive, firsts, others = get_nsfg_groups()\";\n",
       "                var nbb_cells = Jupyter.notebook.get_cells();\n",
       "                for (var i = 0; i < nbb_cells.length; ++i) {\n",
       "                    if (nbb_cells[i].input_prompt_number == nbb_cell_id) {\n",
       "                        if (nbb_cells[i].get_text() == nbb_unformatted_code) {\n",
       "                             nbb_cells[i].set_text(nbb_formatted_code);\n",
       "                        }\n",
       "                        break;\n",
       "                    }\n",
       "                }\n",
       "            }, 500);\n",
       "            "
      ],
      "text/plain": [
       "<IPython.core.display.Javascript object>"
      ]
     },
     "metadata": {},
     "output_type": "display_data"
    }
   ],
   "source": [
    "from nsfg import get_nsfg_groups\n",
    "\n",
    "live, firsts, others = get_nsfg_groups()"
   ]
  },
  {
   "cell_type": "code",
   "execution_count": 60,
   "id": "6564a11c",
   "metadata": {},
   "outputs": [
    {
     "data": {
      "text/plain": [
       "0.07803726677754952"
      ]
     },
     "execution_count": 60,
     "metadata": {},
     "output_type": "execute_result"
    },
    {
     "data": {
      "application/javascript": [
       "\n",
       "            setTimeout(function() {\n",
       "                var nbb_cell_id = 60;\n",
       "                var nbb_unformatted_code = \"delta = firsts[\\\"prglngth\\\"].mean() - others[\\\"prglngth\\\"].mean()\\ndelta\";\n",
       "                var nbb_formatted_code = \"delta = firsts[\\\"prglngth\\\"].mean() - others[\\\"prglngth\\\"].mean()\\ndelta\";\n",
       "                var nbb_cells = Jupyter.notebook.get_cells();\n",
       "                for (var i = 0; i < nbb_cells.length; ++i) {\n",
       "                    if (nbb_cells[i].input_prompt_number == nbb_cell_id) {\n",
       "                        if (nbb_cells[i].get_text() == nbb_unformatted_code) {\n",
       "                             nbb_cells[i].set_text(nbb_formatted_code);\n",
       "                        }\n",
       "                        break;\n",
       "                    }\n",
       "                }\n",
       "            }, 500);\n",
       "            "
      ],
      "text/plain": [
       "<IPython.core.display.Javascript object>"
      ]
     },
     "metadata": {},
     "output_type": "display_data"
    }
   ],
   "source": [
    "delta = firsts[\"prglngth\"].mean() - others[\"prglngth\"].mean()\n",
    "delta"
   ]
  },
  {
   "cell_type": "markdown",
   "id": "4677bb23",
   "metadata": {},
   "source": [
    "Remember the logic of hypothesis testing: we compute a p-value, which is the probability of the observed difference under the null hypothesis; if it is small, we conclude that the observed difference is unlikely to be due to chance.\n",
    "\n",
    "In this example, the null hypothesis is that the distribution of pregnancy lengths is the same for first babies and others.\n",
    "So we can compute the sampling distribution of the mean like this:"
   ]
  },
  {
   "cell_type": "code",
   "execution_count": 61,
   "id": "759c7700",
   "metadata": {},
   "outputs": [
    {
     "data": {
      "application/javascript": [
       "\n",
       "            setTimeout(function() {\n",
       "                var nbb_cell_id = 61;\n",
       "                var nbb_unformatted_code = \"def sampling_dist_mean(data, n):\\n    \\\"\\\"\\\"Computes the sampling distribution of the mean.\\n\\n    data: sequence of values representing the population\\n    n: sample size\\n\\n    returns: Normal object\\n    \\\"\\\"\\\"\\n    mean, var = data.mean(), data.var()\\n    dist = Normal(mean, var)\\n    return dist.sum(n) * (1 / n)\";\n",
       "                var nbb_formatted_code = \"def sampling_dist_mean(data, n):\\n    \\\"\\\"\\\"Computes the sampling distribution of the mean.\\n\\n    data: sequence of values representing the population\\n    n: sample size\\n\\n    returns: Normal object\\n    \\\"\\\"\\\"\\n    mean, var = data.mean(), data.var()\\n    dist = Normal(mean, var)\\n    return dist.sum(n) * (1 / n)\";\n",
       "                var nbb_cells = Jupyter.notebook.get_cells();\n",
       "                for (var i = 0; i < nbb_cells.length; ++i) {\n",
       "                    if (nbb_cells[i].input_prompt_number == nbb_cell_id) {\n",
       "                        if (nbb_cells[i].get_text() == nbb_unformatted_code) {\n",
       "                             nbb_cells[i].set_text(nbb_formatted_code);\n",
       "                        }\n",
       "                        break;\n",
       "                    }\n",
       "                }\n",
       "            }, 500);\n",
       "            "
      ],
      "text/plain": [
       "<IPython.core.display.Javascript object>"
      ]
     },
     "metadata": {},
     "output_type": "display_data"
    }
   ],
   "source": [
    "def sampling_dist_mean(data, n):\n",
    "    \"\"\"Computes the sampling distribution of the mean.\n",
    "\n",
    "    data: sequence of values representing the population\n",
    "    n: sample size\n",
    "\n",
    "    returns: Normal object\n",
    "    \"\"\"\n",
    "    mean, var = data.mean(), data.var()\n",
    "    dist = Normal(mean, var)\n",
    "    return dist.sum(n) * (1 / n)"
   ]
  },
  {
   "cell_type": "code",
   "execution_count": 62,
   "id": "bf7a2643",
   "metadata": {},
   "outputs": [
    {
     "data": {
      "text/plain": [
       "Normal(38.56055968517709, 0.0016548067228250207)"
      ]
     },
     "execution_count": 62,
     "metadata": {},
     "output_type": "execute_result"
    },
    {
     "data": {
      "application/javascript": [
       "\n",
       "            setTimeout(function() {\n",
       "                var nbb_cell_id = 62;\n",
       "                var nbb_unformatted_code = \"dist1 = sampling_dist_mean(live.prglngth, len(firsts))\\ndist1\";\n",
       "                var nbb_formatted_code = \"dist1 = sampling_dist_mean(live.prglngth, len(firsts))\\ndist1\";\n",
       "                var nbb_cells = Jupyter.notebook.get_cells();\n",
       "                for (var i = 0; i < nbb_cells.length; ++i) {\n",
       "                    if (nbb_cells[i].input_prompt_number == nbb_cell_id) {\n",
       "                        if (nbb_cells[i].get_text() == nbb_unformatted_code) {\n",
       "                             nbb_cells[i].set_text(nbb_formatted_code);\n",
       "                        }\n",
       "                        break;\n",
       "                    }\n",
       "                }\n",
       "            }, 500);\n",
       "            "
      ],
      "text/plain": [
       "<IPython.core.display.Javascript object>"
      ]
     },
     "metadata": {},
     "output_type": "display_data"
    }
   ],
   "source": [
    "dist1 = sampling_dist_mean(live.prglngth, len(firsts))\n",
    "dist1"
   ]
  },
  {
   "cell_type": "code",
   "execution_count": 63,
   "id": "0d436eda",
   "metadata": {},
   "outputs": [
    {
     "data": {
      "text/plain": [
       "Normal(38.56055968517709, 0.0015422728759929918)"
      ]
     },
     "execution_count": 63,
     "metadata": {},
     "output_type": "execute_result"
    },
    {
     "data": {
      "application/javascript": [
       "\n",
       "            setTimeout(function() {\n",
       "                var nbb_cell_id = 63;\n",
       "                var nbb_unformatted_code = \"dist2 = sampling_dist_mean(live.prglngth, len(others))\\ndist2\";\n",
       "                var nbb_formatted_code = \"dist2 = sampling_dist_mean(live.prglngth, len(others))\\ndist2\";\n",
       "                var nbb_cells = Jupyter.notebook.get_cells();\n",
       "                for (var i = 0; i < nbb_cells.length; ++i) {\n",
       "                    if (nbb_cells[i].input_prompt_number == nbb_cell_id) {\n",
       "                        if (nbb_cells[i].get_text() == nbb_unformatted_code) {\n",
       "                             nbb_cells[i].set_text(nbb_formatted_code);\n",
       "                        }\n",
       "                        break;\n",
       "                    }\n",
       "                }\n",
       "            }, 500);\n",
       "            "
      ],
      "text/plain": [
       "<IPython.core.display.Javascript object>"
      ]
     },
     "metadata": {},
     "output_type": "display_data"
    }
   ],
   "source": [
    "dist2 = sampling_dist_mean(live.prglngth, len(others))\n",
    "dist2"
   ]
  },
  {
   "cell_type": "markdown",
   "id": "882fd9c6",
   "metadata": {},
   "source": [
    "Both sampling distributions are based on the same population, which is the pool of all live births.\n",
    "`SamplingDistMean` takes this sequence of values and the sample size, and returns a `Normal` object representing the sampling distribution:"
   ]
  },
  {
   "cell_type": "markdown",
   "id": "6eb7ae51",
   "metadata": {},
   "source": [
    "`mean` and `var` are the mean and variance of `data`.\n",
    "We approximate the distribution of the data with a normal distribution, `dist`.\n",
    "\n",
    "In this example, the data are not normally distributed, so this approximation is not very good.\n",
    "But then we compute `dist.Sum(n) / n`, which is the sampling distribution of the mean of `n` values.\n",
    "Even if the data are not normally distributed, the sampling distribution of the mean is, by the Central Limit Theorem.\n",
    "\n",
    "Next, we compute the sampling distribution of the difference in the means.\n",
    "The `Normal` class knows how to perform subtraction using Equation 2:"
   ]
  },
  {
   "cell_type": "markdown",
   "id": "e712960d",
   "metadata": {},
   "source": [
    "So we can compute the sampling distribution of the difference like this:"
   ]
  },
  {
   "cell_type": "code",
   "execution_count": 64,
   "id": "750e153c",
   "metadata": {},
   "outputs": [
    {
     "data": {
      "text/plain": [
       "Normal(0.0, 0.0031970795988180128)"
      ]
     },
     "execution_count": 64,
     "metadata": {},
     "output_type": "execute_result"
    },
    {
     "data": {
      "application/javascript": [
       "\n",
       "            setTimeout(function() {\n",
       "                var nbb_cell_id = 64;\n",
       "                var nbb_unformatted_code = \"dist_diff = dist1 - dist2\\ndist_diff\";\n",
       "                var nbb_formatted_code = \"dist_diff = dist1 - dist2\\ndist_diff\";\n",
       "                var nbb_cells = Jupyter.notebook.get_cells();\n",
       "                for (var i = 0; i < nbb_cells.length; ++i) {\n",
       "                    if (nbb_cells[i].input_prompt_number == nbb_cell_id) {\n",
       "                        if (nbb_cells[i].get_text() == nbb_unformatted_code) {\n",
       "                             nbb_cells[i].set_text(nbb_formatted_code);\n",
       "                        }\n",
       "                        break;\n",
       "                    }\n",
       "                }\n",
       "            }, 500);\n",
       "            "
      ],
      "text/plain": [
       "<IPython.core.display.Javascript object>"
      ]
     },
     "metadata": {},
     "output_type": "display_data"
    }
   ],
   "source": [
    "dist_diff = dist1 - dist2\n",
    "dist_diff"
   ]
  },
  {
   "cell_type": "markdown",
   "id": "f95cd9ca",
   "metadata": {},
   "source": [
    "The mean is 0, which makes sense because we expect two samples from the same distribution to have the same mean, on average.\n",
    "The variance of the sampling distribution is 0.0032.\n",
    "\n",
    "`Normal` provides `Prob`, which evaluates the normal CDF.\n",
    "We can use `Prob` to compute the probability of a difference as large as `delta` under the null hypothesis:"
   ]
  },
  {
   "cell_type": "code",
   "execution_count": 65,
   "id": "0c328609",
   "metadata": {},
   "outputs": [
    {
     "data": {
      "application/javascript": [
       "\n",
       "            setTimeout(function() {\n",
       "                var nbb_cell_id = 65;\n",
       "                var nbb_unformatted_code = \"%%add_method_to Normal\\n\\ndef cdf(self, xs):\\n    sigma = np.sqrt(self.sigma2)\\n    return norm.cdf(xs, self.mu, sigma)\";\n",
       "                var nbb_formatted_code = \"%%add_method_to Normal\\n\\ndef cdf(self, xs):\\n    sigma = np.sqrt(self.sigma2)\\n    return norm.cdf(xs, self.mu, sigma)\";\n",
       "                var nbb_cells = Jupyter.notebook.get_cells();\n",
       "                for (var i = 0; i < nbb_cells.length; ++i) {\n",
       "                    if (nbb_cells[i].input_prompt_number == nbb_cell_id) {\n",
       "                        if (nbb_cells[i].get_text() == nbb_unformatted_code) {\n",
       "                             nbb_cells[i].set_text(nbb_formatted_code);\n",
       "                        }\n",
       "                        break;\n",
       "                    }\n",
       "                }\n",
       "            }, 500);\n",
       "            "
      ],
      "text/plain": [
       "<IPython.core.display.Javascript object>"
      ]
     },
     "metadata": {},
     "output_type": "display_data"
    },
    {
     "data": {
      "application/javascript": [
       "\n",
       "            setTimeout(function() {\n",
       "                var nbb_cell_id = 65;\n",
       "                var nbb_unformatted_code = \"%%add_method_to Normal\\n\\ndef cdf(self, xs):\\n    sigma = np.sqrt(self.sigma2)\\n    return norm.cdf(xs, self.mu, sigma)\";\n",
       "                var nbb_formatted_code = \"%%add_method_to Normal\\n\\ndef cdf(self, xs):\\n    sigma = np.sqrt(self.sigma2)\\n    return norm.cdf(xs, self.mu, sigma)\";\n",
       "                var nbb_cells = Jupyter.notebook.get_cells();\n",
       "                for (var i = 0; i < nbb_cells.length; ++i) {\n",
       "                    if (nbb_cells[i].input_prompt_number == nbb_cell_id) {\n",
       "                        if (nbb_cells[i].get_text() == nbb_unformatted_code) {\n",
       "                             nbb_cells[i].set_text(nbb_formatted_code);\n",
       "                        }\n",
       "                        break;\n",
       "                    }\n",
       "                }\n",
       "            }, 500);\n",
       "            "
      ],
      "text/plain": [
       "<IPython.core.display.Javascript object>"
      ]
     },
     "metadata": {},
     "output_type": "display_data"
    }
   ],
   "source": [
    "%%add_method_to Normal\n",
    "\n",
    "def cdf(self, xs):\n",
    "    sigma = np.sqrt(self.sigma2)\n",
    "    return norm.cdf(xs, self.mu, sigma)"
   ]
  },
  {
   "cell_type": "code",
   "execution_count": 66,
   "id": "74bf6c31",
   "metadata": {},
   "outputs": [
    {
     "data": {
      "text/plain": [
       "0.08377070425543787"
      ]
     },
     "execution_count": 66,
     "metadata": {},
     "output_type": "execute_result"
    },
    {
     "data": {
      "application/javascript": [
       "\n",
       "            setTimeout(function() {\n",
       "                var nbb_cell_id = 66;\n",
       "                var nbb_unformatted_code = \"1 - dist_diff.cdf(delta)\";\n",
       "                var nbb_formatted_code = \"1 - dist_diff.cdf(delta)\";\n",
       "                var nbb_cells = Jupyter.notebook.get_cells();\n",
       "                for (var i = 0; i < nbb_cells.length; ++i) {\n",
       "                    if (nbb_cells[i].input_prompt_number == nbb_cell_id) {\n",
       "                        if (nbb_cells[i].get_text() == nbb_unformatted_code) {\n",
       "                             nbb_cells[i].set_text(nbb_formatted_code);\n",
       "                        }\n",
       "                        break;\n",
       "                    }\n",
       "                }\n",
       "            }, 500);\n",
       "            "
      ],
      "text/plain": [
       "<IPython.core.display.Javascript object>"
      ]
     },
     "metadata": {},
     "output_type": "display_data"
    }
   ],
   "source": [
    "1 - dist_diff.cdf(delta)"
   ]
  },
  {
   "cell_type": "markdown",
   "id": "558c5533",
   "metadata": {},
   "source": [
    "Which means that the p-value for a one-sided test is 0.084.\n",
    "For a two-sided test we would also compute"
   ]
  },
  {
   "cell_type": "code",
   "execution_count": 67,
   "id": "356d9768",
   "metadata": {},
   "outputs": [
    {
     "data": {
      "text/plain": [
       "0.08377070425543781"
      ]
     },
     "execution_count": 67,
     "metadata": {},
     "output_type": "execute_result"
    },
    {
     "data": {
      "application/javascript": [
       "\n",
       "            setTimeout(function() {\n",
       "                var nbb_cell_id = 67;\n",
       "                var nbb_unformatted_code = \"dist_diff.cdf(-delta)\";\n",
       "                var nbb_formatted_code = \"dist_diff.cdf(-delta)\";\n",
       "                var nbb_cells = Jupyter.notebook.get_cells();\n",
       "                for (var i = 0; i < nbb_cells.length; ++i) {\n",
       "                    if (nbb_cells[i].input_prompt_number == nbb_cell_id) {\n",
       "                        if (nbb_cells[i].get_text() == nbb_unformatted_code) {\n",
       "                             nbb_cells[i].set_text(nbb_formatted_code);\n",
       "                        }\n",
       "                        break;\n",
       "                    }\n",
       "                }\n",
       "            }, 500);\n",
       "            "
      ],
      "text/plain": [
       "<IPython.core.display.Javascript object>"
      ]
     },
     "metadata": {},
     "output_type": "display_data"
    }
   ],
   "source": [
    "dist_diff.cdf(-delta)"
   ]
  },
  {
   "cell_type": "markdown",
   "id": "c7c262b4",
   "metadata": {},
   "source": [
    "Which is the same because the normal distribution is symmetric.\n",
    "The sum of the tails is 0.168, which is consistent with the estimate in Section XXX, which was 0.17."
   ]
  },
  {
   "cell_type": "markdown",
   "id": "1e7ab3a0",
   "metadata": {},
   "source": [
    "## Correlation test\n",
    "\n",
    "In Section xxx we used a permutation test for the correlation between birth weight and mother's age, and found that it is statistically significant, with p-value less than 0.001.\n",
    "\n",
    "Now we can do the same thing analytically.\n",
    "The method is based on this mathematical result: given two variables that are normally distributed and uncorrelated, if we generate a sample with size $n$, compute Pearson's correlation, $r$, and then compute the transformed correlation $$t = r \\sqrt{\\frac{n-2}{1-r^2}}$$ the distribution of $t$ is Student's t-distribution with parameter $n-2$.\n",
    "The t-distribution is an analytic distribution; the CDF can be computed efficiently using gamma functions."
   ]
  },
  {
   "cell_type": "markdown",
   "id": "9500674d",
   "metadata": {},
   "source": [
    "To get from `ts` to the correlation coefficients, `rs`, we apply the inverse transform, \n",
    "\n",
    "$$r = t / \\sqrt{n - 2 + t^2}$$ \n",
    "\n",
    "The result is the sampling distribution of $r$ under the null hypothesis.\n",
    "\n",
    "The following figure shows this distribution along with the distribution we generated by resampling.\n",
    "They are nearly identical.\n",
    "Although the actual distributions are not normal, Pearson's coefficient of correlation is based on sample means and variances.\n",
    "By the Central Limit Theorem, these moment-based statistics are normally distributed even if the data are not."
   ]
  },
  {
   "cell_type": "code",
   "execution_count": 68,
   "id": "db8fb263",
   "metadata": {},
   "outputs": [
    {
     "data": {
      "application/javascript": [
       "\n",
       "            setTimeout(function() {\n",
       "                var nbb_cell_id = 68;\n",
       "                var nbb_unformatted_code = \"from scipy.stats import t as student_t\\n\\n\\ndef student_cdf(n):\\n    \\\"\\\"\\\"Computes the CDF correlations from uncorrelated variables.\\n\\n    n: sample size\\n\\n    returns: Cdf\\n    \\\"\\\"\\\"\\n    ts = np.linspace(-3, 3, 101)\\n    ps = student_t.cdf(ts, df=n - 2)\\n    rs = ts / np.sqrt(n - 2 + ts**2)\\n    return Cdf(ps, rs)\";\n",
       "                var nbb_formatted_code = \"from scipy.stats import t as student_t\\n\\n\\ndef student_cdf(n):\\n    \\\"\\\"\\\"Computes the CDF correlations from uncorrelated variables.\\n\\n    n: sample size\\n\\n    returns: Cdf\\n    \\\"\\\"\\\"\\n    ts = np.linspace(-3, 3, 101)\\n    ps = student_t.cdf(ts, df=n - 2)\\n    rs = ts / np.sqrt(n - 2 + ts**2)\\n    return Cdf(ps, rs)\";\n",
       "                var nbb_cells = Jupyter.notebook.get_cells();\n",
       "                for (var i = 0; i < nbb_cells.length; ++i) {\n",
       "                    if (nbb_cells[i].input_prompt_number == nbb_cell_id) {\n",
       "                        if (nbb_cells[i].get_text() == nbb_unformatted_code) {\n",
       "                             nbb_cells[i].set_text(nbb_formatted_code);\n",
       "                        }\n",
       "                        break;\n",
       "                    }\n",
       "                }\n",
       "            }, 500);\n",
       "            "
      ],
      "text/plain": [
       "<IPython.core.display.Javascript object>"
      ]
     },
     "metadata": {},
     "output_type": "display_data"
    }
   ],
   "source": [
    "from scipy.stats import t as student_t\n",
    "\n",
    "\n",
    "def student_cdf(n):\n",
    "    \"\"\"Computes the CDF correlations from uncorrelated variables.\n",
    "\n",
    "    n: sample size\n",
    "\n",
    "    returns: Cdf\n",
    "    \"\"\"\n",
    "    ts = np.linspace(-3, 3, 101)\n",
    "    ps = student_t.cdf(ts, df=n - 2)\n",
    "    rs = ts / np.sqrt(n - 2 + ts**2)\n",
    "    return Cdf(ps, rs)"
   ]
  },
  {
   "cell_type": "code",
   "execution_count": 69,
   "id": "1cbd4f76",
   "metadata": {},
   "outputs": [
    {
     "data": {
      "application/javascript": [
       "\n",
       "            setTimeout(function() {\n",
       "                var nbb_cell_id = 69;\n",
       "                var nbb_unformatted_code = \"def generate_data(n):\\n    xs = np.random.normal(0, 1, n)\\n    ys = np.random.normal(0, 1, n)\\n    return xs, ys\";\n",
       "                var nbb_formatted_code = \"def generate_data(n):\\n    xs = np.random.normal(0, 1, n)\\n    ys = np.random.normal(0, 1, n)\\n    return xs, ys\";\n",
       "                var nbb_cells = Jupyter.notebook.get_cells();\n",
       "                for (var i = 0; i < nbb_cells.length; ++i) {\n",
       "                    if (nbb_cells[i].input_prompt_number == nbb_cell_id) {\n",
       "                        if (nbb_cells[i].get_text() == nbb_unformatted_code) {\n",
       "                             nbb_cells[i].set_text(nbb_formatted_code);\n",
       "                        }\n",
       "                        break;\n",
       "                    }\n",
       "                }\n",
       "            }, 500);\n",
       "            "
      ],
      "text/plain": [
       "<IPython.core.display.Javascript object>"
      ]
     },
     "metadata": {},
     "output_type": "display_data"
    }
   ],
   "source": [
    "def generate_data(n):\n",
    "    xs = np.random.normal(0, 1, n)\n",
    "    ys = np.random.normal(0, 1, n)\n",
    "    return xs, ys"
   ]
  },
  {
   "cell_type": "code",
   "execution_count": 70,
   "id": "459d2014",
   "metadata": {},
   "outputs": [
    {
     "data": {
      "application/javascript": [
       "\n",
       "            setTimeout(function() {\n",
       "                var nbb_cell_id = 70;\n",
       "                var nbb_unformatted_code = \"def correlation(data):\\n    xs, ys = data\\n    return np.corrcoef(xs, ys)[0, 1]\";\n",
       "                var nbb_formatted_code = \"def correlation(data):\\n    xs, ys = data\\n    return np.corrcoef(xs, ys)[0, 1]\";\n",
       "                var nbb_cells = Jupyter.notebook.get_cells();\n",
       "                for (var i = 0; i < nbb_cells.length; ++i) {\n",
       "                    if (nbb_cells[i].input_prompt_number == nbb_cell_id) {\n",
       "                        if (nbb_cells[i].get_text() == nbb_unformatted_code) {\n",
       "                             nbb_cells[i].set_text(nbb_formatted_code);\n",
       "                        }\n",
       "                        break;\n",
       "                    }\n",
       "                }\n",
       "            }, 500);\n",
       "            "
      ],
      "text/plain": [
       "<IPython.core.display.Javascript object>"
      ]
     },
     "metadata": {},
     "output_type": "display_data"
    }
   ],
   "source": [
    "def correlation(data):\n",
    "    xs, ys = data\n",
    "    return np.corrcoef(xs, ys)[0, 1]"
   ]
  },
  {
   "cell_type": "code",
   "execution_count": 71,
   "id": "1257357f",
   "metadata": {},
   "outputs": [
    {
     "data": {
      "text/plain": [
       "-0.014108615966714472"
      ]
     },
     "execution_count": 71,
     "metadata": {},
     "output_type": "execute_result"
    },
    {
     "data": {
      "application/javascript": [
       "\n",
       "            setTimeout(function() {\n",
       "                var nbb_cell_id = 71;\n",
       "                var nbb_unformatted_code = \"correlation(generate_data(n))\";\n",
       "                var nbb_formatted_code = \"correlation(generate_data(n))\";\n",
       "                var nbb_cells = Jupyter.notebook.get_cells();\n",
       "                for (var i = 0; i < nbb_cells.length; ++i) {\n",
       "                    if (nbb_cells[i].input_prompt_number == nbb_cell_id) {\n",
       "                        if (nbb_cells[i].get_text() == nbb_unformatted_code) {\n",
       "                             nbb_cells[i].set_text(nbb_formatted_code);\n",
       "                        }\n",
       "                        break;\n",
       "                    }\n",
       "                }\n",
       "            }, 500);\n",
       "            "
      ],
      "text/plain": [
       "<IPython.core.display.Javascript object>"
      ]
     },
     "metadata": {},
     "output_type": "display_data"
    }
   ],
   "source": [
    "correlation(generate_data(n))"
   ]
  },
  {
   "cell_type": "code",
   "execution_count": 72,
   "id": "15ebc032",
   "metadata": {},
   "outputs": [
    {
     "data": {
      "application/javascript": [
       "\n",
       "            setTimeout(function() {\n",
       "                var nbb_cell_id = 72;\n",
       "                var nbb_unformatted_code = \"corrs = [correlation(generate_data(n)) for i in range(1001)]\\ncdf_corrs = Cdf.from_seq(corrs)\";\n",
       "                var nbb_formatted_code = \"corrs = [correlation(generate_data(n)) for i in range(1001)]\\ncdf_corrs = Cdf.from_seq(corrs)\";\n",
       "                var nbb_cells = Jupyter.notebook.get_cells();\n",
       "                for (var i = 0; i < nbb_cells.length; ++i) {\n",
       "                    if (nbb_cells[i].input_prompt_number == nbb_cell_id) {\n",
       "                        if (nbb_cells[i].get_text() == nbb_unformatted_code) {\n",
       "                             nbb_cells[i].set_text(nbb_formatted_code);\n",
       "                        }\n",
       "                        break;\n",
       "                    }\n",
       "                }\n",
       "            }, 500);\n",
       "            "
      ],
      "text/plain": [
       "<IPython.core.display.Javascript object>"
      ]
     },
     "metadata": {},
     "output_type": "display_data"
    }
   ],
   "source": [
    "corrs = [correlation(generate_data(n)) for i in range(1001)]\n",
    "cdf_corrs = Cdf.from_seq(corrs)"
   ]
  },
  {
   "cell_type": "markdown",
   "id": "58f6aa57",
   "metadata": {},
   "source": [
    "We can use this result to compute the sampling distribution of correlation under the null hypothesis; that is, if we generate uncorrelated sequences of normal values, what is the distribution of their correlation? `student_cdf` takes the sample size, `n`, and returns the sampling distribution of correlation:"
   ]
  },
  {
   "cell_type": "markdown",
   "id": "74936ecd",
   "metadata": {},
   "source": [
    "`ts` is a NumPy array of values for $t$, the transformed correlation.\n",
    "`ps` contains the corresponding probabilities, computed using the CDF of the Student's t-distribution implemented in SciPy.\n",
    "The parameter of the t-distribution, `df`, stands for \"degrees of freedom.\" I won't explain that term, but you can read about it at <http://en.wikipedia.org/wiki/Degrees_of_freedom_(statistics)>."
   ]
  },
  {
   "cell_type": "code",
   "execution_count": 73,
   "id": "1a79964c",
   "metadata": {},
   "outputs": [
    {
     "data": {
      "image/png": "[encoded data removed]",
      "text/plain": [
       "<Figure size 450x262.5 with 1 Axes>"
      ]
     },
     "metadata": {},
     "output_type": "display_data"
    },
    {
     "data": {
      "application/javascript": [
       "\n",
       "            setTimeout(function() {\n",
       "                var nbb_cell_id = 73;\n",
       "                var nbb_unformatted_code = \"student_cdf(n).plot(**model_options)\\ncdf_corrs.plot(label=\\\"random normals\\\")\\n\\ndecorate(xlabel=\\\"Correlation\\\", ylabel=\\\"CDF\\\")\";\n",
       "                var nbb_formatted_code = \"student_cdf(n).plot(**model_options)\\ncdf_corrs.plot(label=\\\"random normals\\\")\\n\\ndecorate(xlabel=\\\"Correlation\\\", ylabel=\\\"CDF\\\")\";\n",
       "                var nbb_cells = Jupyter.notebook.get_cells();\n",
       "                for (var i = 0; i < nbb_cells.length; ++i) {\n",
       "                    if (nbb_cells[i].input_prompt_number == nbb_cell_id) {\n",
       "                        if (nbb_cells[i].get_text() == nbb_unformatted_code) {\n",
       "                             nbb_cells[i].set_text(nbb_formatted_code);\n",
       "                        }\n",
       "                        break;\n",
       "                    }\n",
       "                }\n",
       "            }, 500);\n",
       "            "
      ],
      "text/plain": [
       "<IPython.core.display.Javascript object>"
      ]
     },
     "metadata": {},
     "output_type": "display_data"
    }
   ],
   "source": [
    "student_cdf(n).plot(**model_options)\n",
    "cdf_corrs.plot(label=\"random normals\")\n",
    "\n",
    "decorate(xlabel=\"Correlation\", ylabel=\"CDF\")"
   ]
  },
  {
   "cell_type": "code",
   "execution_count": 74,
   "id": "238c9ded",
   "metadata": {},
   "outputs": [
    {
     "data": {
      "text/plain": [
       "9038"
      ]
     },
     "execution_count": 74,
     "metadata": {},
     "output_type": "execute_result"
    },
    {
     "data": {
      "application/javascript": [
       "\n",
       "            setTimeout(function() {\n",
       "                var nbb_cell_id = 74;\n",
       "                var nbb_unformatted_code = \"valid = live.dropna(subset=[\\\"agepreg\\\", \\\"totalwgt_lb\\\"])\\nn = len(valid)\\nn\";\n",
       "                var nbb_formatted_code = \"valid = live.dropna(subset=[\\\"agepreg\\\", \\\"totalwgt_lb\\\"])\\nn = len(valid)\\nn\";\n",
       "                var nbb_cells = Jupyter.notebook.get_cells();\n",
       "                for (var i = 0; i < nbb_cells.length; ++i) {\n",
       "                    if (nbb_cells[i].input_prompt_number == nbb_cell_id) {\n",
       "                        if (nbb_cells[i].get_text() == nbb_unformatted_code) {\n",
       "                             nbb_cells[i].set_text(nbb_formatted_code);\n",
       "                        }\n",
       "                        break;\n",
       "                    }\n",
       "                }\n",
       "            }, 500);\n",
       "            "
      ],
      "text/plain": [
       "<IPython.core.display.Javascript object>"
      ]
     },
     "metadata": {},
     "output_type": "display_data"
    }
   ],
   "source": [
    "valid = live.dropna(subset=[\"agepreg\", \"totalwgt_lb\"])\n",
    "n = len(valid)\n",
    "n"
   ]
  },
  {
   "cell_type": "code",
   "execution_count": 75,
   "id": "41245280",
   "metadata": {},
   "outputs": [
    {
     "data": {
      "text/plain": [
       "0.0688339703541091"
      ]
     },
     "execution_count": 75,
     "metadata": {},
     "output_type": "execute_result"
    },
    {
     "data": {
      "application/javascript": [
       "\n",
       "            setTimeout(function() {\n",
       "                var nbb_cell_id = 75;\n",
       "                var nbb_unformatted_code = \"data = valid[\\\"agepreg\\\"].values, valid[\\\"totalwgt_lb\\\"].values\\nr_actual = correlation(data)\\nr_actual\";\n",
       "                var nbb_formatted_code = \"data = valid[\\\"agepreg\\\"].values, valid[\\\"totalwgt_lb\\\"].values\\nr_actual = correlation(data)\\nr_actual\";\n",
       "                var nbb_cells = Jupyter.notebook.get_cells();\n",
       "                for (var i = 0; i < nbb_cells.length; ++i) {\n",
       "                    if (nbb_cells[i].input_prompt_number == nbb_cell_id) {\n",
       "                        if (nbb_cells[i].get_text() == nbb_unformatted_code) {\n",
       "                             nbb_cells[i].set_text(nbb_formatted_code);\n",
       "                        }\n",
       "                        break;\n",
       "                    }\n",
       "                }\n",
       "            }, 500);\n",
       "            "
      ],
      "text/plain": [
       "<IPython.core.display.Javascript object>"
      ]
     },
     "metadata": {},
     "output_type": "display_data"
    }
   ],
   "source": [
    "data = valid[\"agepreg\"].values, valid[\"totalwgt_lb\"].values\n",
    "r_actual = correlation(data)\n",
    "r_actual"
   ]
  },
  {
   "cell_type": "code",
   "execution_count": 76,
   "id": "85b8e6a6",
   "metadata": {},
   "outputs": [
    {
     "data": {
      "application/javascript": [
       "\n",
       "            setTimeout(function() {\n",
       "                var nbb_cell_id = 76;\n",
       "                var nbb_unformatted_code = \"def permute(data):\\n    \\\"\\\"\\\"Shuffle the x values.\\\"\\\"\\\"\\n    xs, ys = data\\n    new_xs = xs.copy()\\n    np.random.shuffle(new_xs)\\n    return new_xs, ys\";\n",
       "                var nbb_formatted_code = \"def permute(data):\\n    \\\"\\\"\\\"Shuffle the x values.\\\"\\\"\\\"\\n    xs, ys = data\\n    new_xs = xs.copy()\\n    np.random.shuffle(new_xs)\\n    return new_xs, ys\";\n",
       "                var nbb_cells = Jupyter.notebook.get_cells();\n",
       "                for (var i = 0; i < nbb_cells.length; ++i) {\n",
       "                    if (nbb_cells[i].input_prompt_number == nbb_cell_id) {\n",
       "                        if (nbb_cells[i].get_text() == nbb_unformatted_code) {\n",
       "                             nbb_cells[i].set_text(nbb_formatted_code);\n",
       "                        }\n",
       "                        break;\n",
       "                    }\n",
       "                }\n",
       "            }, 500);\n",
       "            "
      ],
      "text/plain": [
       "<IPython.core.display.Javascript object>"
      ]
     },
     "metadata": {},
     "output_type": "display_data"
    }
   ],
   "source": [
    "def permute(data):\n",
    "    \"\"\"Shuffle the x values.\"\"\"\n",
    "    xs, ys = data\n",
    "    new_xs = xs.copy()\n",
    "    np.random.shuffle(new_xs)\n",
    "    return new_xs, ys"
   ]
  },
  {
   "cell_type": "code",
   "execution_count": 77,
   "id": "4009d34a",
   "metadata": {},
   "outputs": [
    {
     "data": {
      "application/javascript": [
       "\n",
       "            setTimeout(function() {\n",
       "                var nbb_cell_id = 77;\n",
       "                var nbb_unformatted_code = \"permuted_corrs = [correlation(permute(data)) for i in range(1001)]\\ncdf_permuted = Cdf.from_seq(permuted_corrs)\";\n",
       "                var nbb_formatted_code = \"permuted_corrs = [correlation(permute(data)) for i in range(1001)]\\ncdf_permuted = Cdf.from_seq(permuted_corrs)\";\n",
       "                var nbb_cells = Jupyter.notebook.get_cells();\n",
       "                for (var i = 0; i < nbb_cells.length; ++i) {\n",
       "                    if (nbb_cells[i].input_prompt_number == nbb_cell_id) {\n",
       "                        if (nbb_cells[i].get_text() == nbb_unformatted_code) {\n",
       "                             nbb_cells[i].set_text(nbb_formatted_code);\n",
       "                        }\n",
       "                        break;\n",
       "                    }\n",
       "                }\n",
       "            }, 500);\n",
       "            "
      ],
      "text/plain": [
       "<IPython.core.display.Javascript object>"
      ]
     },
     "metadata": {},
     "output_type": "display_data"
    }
   ],
   "source": [
    "permuted_corrs = [correlation(permute(data)) for i in range(1001)]\n",
    "cdf_permuted = Cdf.from_seq(permuted_corrs)"
   ]
  },
  {
   "cell_type": "code",
   "execution_count": 78,
   "id": "6bd62d55",
   "metadata": {},
   "outputs": [
    {
     "data": {
      "image/png": "[encoded data removed]",
      "text/plain": [
       "<Figure size 450x262.5 with 1 Axes>"
      ]
     },
     "metadata": {},
     "output_type": "display_data"
    },
    {
     "data": {
      "application/javascript": [
       "\n",
       "            setTimeout(function() {\n",
       "                var nbb_cell_id = 78;\n",
       "                var nbb_unformatted_code = \"student_cdf(n).plot(**model_options)\\ncdf_permuted.plot(label=\\\"permuted data\\\")\\n\\ndecorate(xlabel=\\\"Correlation\\\", ylabel=\\\"CDF\\\")\";\n",
       "                var nbb_formatted_code = \"student_cdf(n).plot(**model_options)\\ncdf_permuted.plot(label=\\\"permuted data\\\")\\n\\ndecorate(xlabel=\\\"Correlation\\\", ylabel=\\\"CDF\\\")\";\n",
       "                var nbb_cells = Jupyter.notebook.get_cells();\n",
       "                for (var i = 0; i < nbb_cells.length; ++i) {\n",
       "                    if (nbb_cells[i].input_prompt_number == nbb_cell_id) {\n",
       "                        if (nbb_cells[i].get_text() == nbb_unformatted_code) {\n",
       "                             nbb_cells[i].set_text(nbb_formatted_code);\n",
       "                        }\n",
       "                        break;\n",
       "                    }\n",
       "                }\n",
       "            }, 500);\n",
       "            "
      ],
      "text/plain": [
       "<IPython.core.display.Javascript object>"
      ]
     },
     "metadata": {},
     "output_type": "display_data"
    }
   ],
   "source": [
    "student_cdf(n).plot(**model_options)\n",
    "cdf_permuted.plot(label=\"permuted data\")\n",
    "\n",
    "decorate(xlabel=\"Correlation\", ylabel=\"CDF\")"
   ]
  },
  {
   "cell_type": "markdown",
   "id": "3f9f8866",
   "metadata": {},
   "source": [
    "We can see that the observed correlation, 0.07, is unlikely to occur if the variables are actually uncorrelated.\n",
    "Using the analytic distribution, we can compute just how unlikely:"
   ]
  },
  {
   "cell_type": "code",
   "execution_count": 79,
   "id": "561a79d0",
   "metadata": {},
   "outputs": [
    {
     "data": {
      "text/plain": [
       "2.861466619208386e-11"
      ]
     },
     "execution_count": 79,
     "metadata": {},
     "output_type": "execute_result"
    },
    {
     "data": {
      "application/javascript": [
       "\n",
       "            setTimeout(function() {\n",
       "                var nbb_cell_id = 79;\n",
       "                var nbb_unformatted_code = \"t = r_actual * np.sqrt((n - 2) / (1 - r_actual**2))\\np_value = 1 - student_t.cdf(t, df=n - 2)\\np_value\";\n",
       "                var nbb_formatted_code = \"t = r_actual * np.sqrt((n - 2) / (1 - r_actual**2))\\np_value = 1 - student_t.cdf(t, df=n - 2)\\np_value\";\n",
       "                var nbb_cells = Jupyter.notebook.get_cells();\n",
       "                for (var i = 0; i < nbb_cells.length; ++i) {\n",
       "                    if (nbb_cells[i].input_prompt_number == nbb_cell_id) {\n",
       "                        if (nbb_cells[i].get_text() == nbb_unformatted_code) {\n",
       "                             nbb_cells[i].set_text(nbb_formatted_code);\n",
       "                        }\n",
       "                        break;\n",
       "                    }\n",
       "                }\n",
       "            }, 500);\n",
       "            "
      ],
      "text/plain": [
       "<IPython.core.display.Javascript object>"
      ]
     },
     "metadata": {},
     "output_type": "display_data"
    }
   ],
   "source": [
    "t = r_actual * np.sqrt((n - 2) / (1 - r_actual**2))\n",
    "p_value = 1 - student_t.cdf(t, df=n - 2)\n",
    "p_value"
   ]
  },
  {
   "cell_type": "code",
   "execution_count": 80,
   "id": "e52caba5",
   "metadata": {},
   "outputs": [
    {
     "data": {
      "text/plain": [
       "5.722933238416772e-11"
      ]
     },
     "execution_count": 80,
     "metadata": {},
     "output_type": "execute_result"
    },
    {
     "data": {
      "application/javascript": [
       "\n",
       "            setTimeout(function() {\n",
       "                var nbb_cell_id = 80;\n",
       "                var nbb_unformatted_code = \"p_value * 2\";\n",
       "                var nbb_formatted_code = \"p_value * 2\";\n",
       "                var nbb_cells = Jupyter.notebook.get_cells();\n",
       "                for (var i = 0; i < nbb_cells.length; ++i) {\n",
       "                    if (nbb_cells[i].input_prompt_number == nbb_cell_id) {\n",
       "                        if (nbb_cells[i].get_text() == nbb_unformatted_code) {\n",
       "                             nbb_cells[i].set_text(nbb_formatted_code);\n",
       "                        }\n",
       "                        break;\n",
       "                    }\n",
       "                }\n",
       "            }, 500);\n",
       "            "
      ],
      "text/plain": [
       "<IPython.core.display.Javascript object>"
      ]
     },
     "metadata": {},
     "output_type": "display_data"
    }
   ],
   "source": [
    "p_value * 2"
   ]
  },
  {
   "cell_type": "code",
   "execution_count": 81,
   "id": "612bccac",
   "metadata": {},
   "outputs": [
    {
     "data": {
      "text/plain": [
       "5.722947107314431e-11"
      ]
     },
     "execution_count": 81,
     "metadata": {},
     "output_type": "execute_result"
    },
    {
     "data": {
      "application/javascript": [
       "\n",
       "            setTimeout(function() {\n",
       "                var nbb_cell_id = 81;\n",
       "                var nbb_unformatted_code = \"from scipy.stats import pearsonr\\n\\ncorr, p_value = pearsonr(*data)\\np_value\";\n",
       "                var nbb_formatted_code = \"from scipy.stats import pearsonr\\n\\ncorr, p_value = pearsonr(*data)\\np_value\";\n",
       "                var nbb_cells = Jupyter.notebook.get_cells();\n",
       "                for (var i = 0; i < nbb_cells.length; ++i) {\n",
       "                    if (nbb_cells[i].input_prompt_number == nbb_cell_id) {\n",
       "                        if (nbb_cells[i].get_text() == nbb_unformatted_code) {\n",
       "                             nbb_cells[i].set_text(nbb_formatted_code);\n",
       "                        }\n",
       "                        break;\n",
       "                    }\n",
       "                }\n",
       "            }, 500);\n",
       "            "
      ],
      "text/plain": [
       "<IPython.core.display.Javascript object>"
      ]
     },
     "metadata": {},
     "output_type": "display_data"
    }
   ],
   "source": [
    "from scipy.stats import pearsonr\n",
    "\n",
    "corr, p_value = pearsonr(*data)\n",
    "p_value"
   ]
  },
  {
   "cell_type": "markdown",
   "id": "4d80df7d",
   "metadata": {},
   "source": [
    "We compute the value of `t` that corresponds to `r=0.07`, and then evaluate the t-distribution at `t`.\n",
    "The result is `2.9e-11`.\n",
    "This example demonstrates an advantage of the analytic method: we can compute very small p-values.\n",
    "But in practice it usually doesn't matter."
   ]
  },
  {
   "cell_type": "markdown",
   "id": "9eea3ee6",
   "metadata": {},
   "source": [
    "## Chi-squared test\n",
    "\n",
    "In Section XXX we used the chi-squared statistic to test whether a die is crooked.\n",
    "The chi-squared statistic measures the total normalized deviation from the expected values in a table:\n",
    "\n",
    "$$\\chi^2 = \\sum_i \\frac{{(O_i - E_i)}^2}{E_i}$$ \n",
    "\n",
    "One reason the chi-squared statistic is widely used is that its sampling distribution under the null hypothesis is analytic; by a remarkable coincidence (not really), it is called the chi-squared distribution.\n",
    "Like the t-distribution, the chi-squared CDF can be computed efficiently using gamma functions."
   ]
  },
  {
   "cell_type": "code",
   "execution_count": 82,
   "id": "5b66ea48",
   "metadata": {},
   "outputs": [
    {
     "data": {
      "text/html": [
       "<div>\n",
       "<style scoped>\n",
       "    .dataframe tbody tr th:only-of-type {\n",
       "        vertical-align: middle;\n",
       "    }\n",
       "\n",
       "    .dataframe tbody tr th {\n",
       "        vertical-align: top;\n",
       "    }\n",
       "\n",
       "    .dataframe thead th {\n",
       "        text-align: right;\n",
       "    }\n",
       "</style>\n",
       "<table border=\"1\" class=\"dataframe\">\n",
       "  <thead>\n",
       "    <tr style=\"text-align: right;\">\n",
       "      <th></th>\n",
       "      <th>freqs</th>\n",
       "    </tr>\n",
       "    <tr>\n",
       "      <th>outcome</th>\n",
       "      <th></th>\n",
       "    </tr>\n",
       "  </thead>\n",
       "  <tbody>\n",
       "    <tr>\n",
       "      <th>1</th>\n",
       "      <td>8</td>\n",
       "    </tr>\n",
       "    <tr>\n",
       "      <th>2</th>\n",
       "      <td>9</td>\n",
       "    </tr>\n",
       "    <tr>\n",
       "      <th>3</th>\n",
       "      <td>19</td>\n",
       "    </tr>\n",
       "    <tr>\n",
       "      <th>4</th>\n",
       "      <td>5</td>\n",
       "    </tr>\n",
       "    <tr>\n",
       "      <th>5</th>\n",
       "      <td>8</td>\n",
       "    </tr>\n",
       "    <tr>\n",
       "      <th>6</th>\n",
       "      <td>11</td>\n",
       "    </tr>\n",
       "  </tbody>\n",
       "</table>\n",
       "</div>"
      ],
      "text/plain": [
       "outcome\n",
       "1     8\n",
       "2     9\n",
       "3    19\n",
       "4     5\n",
       "5     8\n",
       "6    11\n",
       "dtype: int64"
      ]
     },
     "execution_count": 82,
     "metadata": {},
     "output_type": "execute_result"
    },
    {
     "data": {
      "application/javascript": [
       "\n",
       "            setTimeout(function() {\n",
       "                var nbb_cell_id = 82;\n",
       "                var nbb_unformatted_code = \"from empiricaldist import Hist\\n\\nqs = np.arange(1, 7)\\nfreqs = [8, 9, 19, 5, 8, 11]\\nobserved = Hist(freqs, qs)\\nobserved.index.name = \\\"outcome\\\"\\nobserved\";\n",
       "                var nbb_formatted_code = \"from empiricaldist import Hist\\n\\nqs = np.arange(1, 7)\\nfreqs = [8, 9, 19, 5, 8, 11]\\nobserved = Hist(freqs, qs)\\nobserved.index.name = \\\"outcome\\\"\\nobserved\";\n",
       "                var nbb_cells = Jupyter.notebook.get_cells();\n",
       "                for (var i = 0; i < nbb_cells.length; ++i) {\n",
       "                    if (nbb_cells[i].input_prompt_number == nbb_cell_id) {\n",
       "                        if (nbb_cells[i].get_text() == nbb_unformatted_code) {\n",
       "                             nbb_cells[i].set_text(nbb_formatted_code);\n",
       "                        }\n",
       "                        break;\n",
       "                    }\n",
       "                }\n",
       "            }, 500);\n",
       "            "
      ],
      "text/plain": [
       "<IPython.core.display.Javascript object>"
      ]
     },
     "metadata": {},
     "output_type": "display_data"
    }
   ],
   "source": [
    "from empiricaldist import Hist\n",
    "\n",
    "qs = np.arange(1, 7)\n",
    "freqs = [8, 9, 19, 5, 8, 11]\n",
    "observed = Hist(freqs, qs)\n",
    "observed.index.name = \"outcome\"\n",
    "observed"
   ]
  },
  {
   "cell_type": "code",
   "execution_count": 83,
   "id": "c8d5022e",
   "metadata": {},
   "outputs": [
    {
     "data": {
      "application/javascript": [
       "\n",
       "            setTimeout(function() {\n",
       "                var nbb_cell_id = 83;\n",
       "                var nbb_unformatted_code = \"def chi_squared_stat(observed):\\n    n = observed.sum()\\n    outcomes = observed.qs\\n    expected = Hist(n / 6, outcomes)\\n    diffs = (observed - expected) ** 2\\n    return sum((observed - expected) ** 2 / expected)\";\n",
       "                var nbb_formatted_code = \"def chi_squared_stat(observed):\\n    n = observed.sum()\\n    outcomes = observed.qs\\n    expected = Hist(n / 6, outcomes)\\n    diffs = (observed - expected) ** 2\\n    return sum((observed - expected) ** 2 / expected)\";\n",
       "                var nbb_cells = Jupyter.notebook.get_cells();\n",
       "                for (var i = 0; i < nbb_cells.length; ++i) {\n",
       "                    if (nbb_cells[i].input_prompt_number == nbb_cell_id) {\n",
       "                        if (nbb_cells[i].get_text() == nbb_unformatted_code) {\n",
       "                             nbb_cells[i].set_text(nbb_formatted_code);\n",
       "                        }\n",
       "                        break;\n",
       "                    }\n",
       "                }\n",
       "            }, 500);\n",
       "            "
      ],
      "text/plain": [
       "<IPython.core.display.Javascript object>"
      ]
     },
     "metadata": {},
     "output_type": "display_data"
    }
   ],
   "source": [
    "def chi_squared_stat(observed):\n",
    "    n = observed.sum()\n",
    "    outcomes = observed.qs\n",
    "    expected = Hist(n / 6, outcomes)\n",
    "    diffs = (observed - expected) ** 2\n",
    "    return sum((observed - expected) ** 2 / expected)"
   ]
  },
  {
   "cell_type": "code",
   "execution_count": 84,
   "id": "49e8668b",
   "metadata": {},
   "outputs": [
    {
     "data": {
      "text/plain": [
       "11.6"
      ]
     },
     "execution_count": 84,
     "metadata": {},
     "output_type": "execute_result"
    },
    {
     "data": {
      "application/javascript": [
       "\n",
       "            setTimeout(function() {\n",
       "                var nbb_cell_id = 84;\n",
       "                var nbb_unformatted_code = \"observed_chi2 = chi_squared_stat(observed)\\nobserved_chi2\";\n",
       "                var nbb_formatted_code = \"observed_chi2 = chi_squared_stat(observed)\\nobserved_chi2\";\n",
       "                var nbb_cells = Jupyter.notebook.get_cells();\n",
       "                for (var i = 0; i < nbb_cells.length; ++i) {\n",
       "                    if (nbb_cells[i].input_prompt_number == nbb_cell_id) {\n",
       "                        if (nbb_cells[i].get_text() == nbb_unformatted_code) {\n",
       "                             nbb_cells[i].set_text(nbb_formatted_code);\n",
       "                        }\n",
       "                        break;\n",
       "                    }\n",
       "                }\n",
       "            }, 500);\n",
       "            "
      ],
      "text/plain": [
       "<IPython.core.display.Javascript object>"
      ]
     },
     "metadata": {},
     "output_type": "display_data"
    }
   ],
   "source": [
    "observed_chi2 = chi_squared_stat(observed)\n",
    "observed_chi2"
   ]
  },
  {
   "cell_type": "markdown",
   "id": "7017c5e5",
   "metadata": {},
   "source": [
    "The following figure shows the analytic result along with the distribution we got by resampling.\n",
    "They are very similar, especially in the tail, which is the part we usually care most about.\n",
    "\n",
    "We can use this distribution to compute the p-value of the observed test statistic, `chi2`:"
   ]
  },
  {
   "cell_type": "code",
   "execution_count": 85,
   "id": "8d3a4e1b",
   "metadata": {},
   "outputs": [
    {
     "data": {
      "application/javascript": [
       "\n",
       "            setTimeout(function() {\n",
       "                var nbb_cell_id = 85;\n",
       "                var nbb_unformatted_code = \"def simulate_dice(observed):\\n    n = np.sum(observed)\\n    rolls = np.random.choice(observed.qs, n, replace=True)\\n    hist = Hist.from_seq(rolls)\\n    return hist\";\n",
       "                var nbb_formatted_code = \"def simulate_dice(observed):\\n    n = np.sum(observed)\\n    rolls = np.random.choice(observed.qs, n, replace=True)\\n    hist = Hist.from_seq(rolls)\\n    return hist\";\n",
       "                var nbb_cells = Jupyter.notebook.get_cells();\n",
       "                for (var i = 0; i < nbb_cells.length; ++i) {\n",
       "                    if (nbb_cells[i].input_prompt_number == nbb_cell_id) {\n",
       "                        if (nbb_cells[i].get_text() == nbb_unformatted_code) {\n",
       "                             nbb_cells[i].set_text(nbb_formatted_code);\n",
       "                        }\n",
       "                        break;\n",
       "                    }\n",
       "                }\n",
       "            }, 500);\n",
       "            "
      ],
      "text/plain": [
       "<IPython.core.display.Javascript object>"
      ]
     },
     "metadata": {},
     "output_type": "display_data"
    }
   ],
   "source": [
    "def simulate_dice(observed):\n",
    "    n = np.sum(observed)\n",
    "    rolls = np.random.choice(observed.qs, n, replace=True)\n",
    "    hist = Hist.from_seq(rolls)\n",
    "    return hist"
   ]
  },
  {
   "cell_type": "code",
   "execution_count": 86,
   "id": "21c97c1e",
   "metadata": {},
   "outputs": [
    {
     "data": {
      "application/javascript": [
       "\n",
       "            setTimeout(function() {\n",
       "                var nbb_cell_id = 86;\n",
       "                var nbb_unformatted_code = \"simulated_chi_squared = [chi_squared_stat(simulate_dice(observed)) for i in range(1001)]\\ncdf_simulated = Cdf.from_seq(simulated_chi_squared)\";\n",
       "                var nbb_formatted_code = \"simulated_chi_squared = [chi_squared_stat(simulate_dice(observed)) for i in range(1001)]\\ncdf_simulated = Cdf.from_seq(simulated_chi_squared)\";\n",
       "                var nbb_cells = Jupyter.notebook.get_cells();\n",
       "                for (var i = 0; i < nbb_cells.length; ++i) {\n",
       "                    if (nbb_cells[i].input_prompt_number == nbb_cell_id) {\n",
       "                        if (nbb_cells[i].get_text() == nbb_unformatted_code) {\n",
       "                             nbb_cells[i].set_text(nbb_formatted_code);\n",
       "                        }\n",
       "                        break;\n",
       "                    }\n",
       "                }\n",
       "            }, 500);\n",
       "            "
      ],
      "text/plain": [
       "<IPython.core.display.Javascript object>"
      ]
     },
     "metadata": {},
     "output_type": "display_data"
    }
   ],
   "source": [
    "simulated_chi_squared = [chi_squared_stat(simulate_dice(observed)) for i in range(1001)]\n",
    "cdf_simulated = Cdf.from_seq(simulated_chi_squared)"
   ]
  },
  {
   "cell_type": "markdown",
   "id": "d66f4fd7",
   "metadata": {},
   "source": [
    "SciPy provides an implementation of the chi-squared distribution, which we use to compute the sampling distribution of the chi-squared statistic:"
   ]
  },
  {
   "cell_type": "code",
   "execution_count": 87,
   "id": "3e2be4ba",
   "metadata": {},
   "outputs": [
    {
     "data": {
      "application/javascript": [
       "\n",
       "            setTimeout(function() {\n",
       "                var nbb_cell_id = 87;\n",
       "                var nbb_unformatted_code = \"from scipy.stats import chi2 as chi2_dist\\n\\n\\ndef chi_squared_cdf(n):\\n    \\\"\\\"\\\"Discrete approximation of the chi-squared CDF with df=n-1.\\n\\n    n: sample size\\n\\n    returns: Cdf\\n    \\\"\\\"\\\"\\n    xs = np.linspace(0, 25, 101)\\n    ps = chi2_dist.cdf(xs, df=n - 1)\\n    return Cdf(ps, xs)\";\n",
       "                var nbb_formatted_code = \"from scipy.stats import chi2 as chi2_dist\\n\\n\\ndef chi_squared_cdf(n):\\n    \\\"\\\"\\\"Discrete approximation of the chi-squared CDF with df=n-1.\\n\\n    n: sample size\\n\\n    returns: Cdf\\n    \\\"\\\"\\\"\\n    xs = np.linspace(0, 25, 101)\\n    ps = chi2_dist.cdf(xs, df=n - 1)\\n    return Cdf(ps, xs)\";\n",
       "                var nbb_cells = Jupyter.notebook.get_cells();\n",
       "                for (var i = 0; i < nbb_cells.length; ++i) {\n",
       "                    if (nbb_cells[i].input_prompt_number == nbb_cell_id) {\n",
       "                        if (nbb_cells[i].get_text() == nbb_unformatted_code) {\n",
       "                             nbb_cells[i].set_text(nbb_formatted_code);\n",
       "                        }\n",
       "                        break;\n",
       "                    }\n",
       "                }\n",
       "            }, 500);\n",
       "            "
      ],
      "text/plain": [
       "<IPython.core.display.Javascript object>"
      ]
     },
     "metadata": {},
     "output_type": "display_data"
    }
   ],
   "source": [
    "from scipy.stats import chi2 as chi2_dist\n",
    "\n",
    "\n",
    "def chi_squared_cdf(n):\n",
    "    \"\"\"Discrete approximation of the chi-squared CDF with df=n-1.\n",
    "\n",
    "    n: sample size\n",
    "\n",
    "    returns: Cdf\n",
    "    \"\"\"\n",
    "    xs = np.linspace(0, 25, 101)\n",
    "    ps = chi2_dist.cdf(xs, df=n - 1)\n",
    "    return Cdf(ps, xs)"
   ]
  },
  {
   "cell_type": "code",
   "execution_count": 88,
   "id": "a4801a28",
   "metadata": {},
   "outputs": [
    {
     "data": {
      "application/javascript": [
       "\n",
       "            setTimeout(function() {\n",
       "                var nbb_cell_id = 88;\n",
       "                var nbb_unformatted_code = \"n = len(observed)\\ncdf_model = chi_squared_cdf(n)\";\n",
       "                var nbb_formatted_code = \"n = len(observed)\\ncdf_model = chi_squared_cdf(n)\";\n",
       "                var nbb_cells = Jupyter.notebook.get_cells();\n",
       "                for (var i = 0; i < nbb_cells.length; ++i) {\n",
       "                    if (nbb_cells[i].input_prompt_number == nbb_cell_id) {\n",
       "                        if (nbb_cells[i].get_text() == nbb_unformatted_code) {\n",
       "                             nbb_cells[i].set_text(nbb_formatted_code);\n",
       "                        }\n",
       "                        break;\n",
       "                    }\n",
       "                }\n",
       "            }, 500);\n",
       "            "
      ],
      "text/plain": [
       "<IPython.core.display.Javascript object>"
      ]
     },
     "metadata": {},
     "output_type": "display_data"
    }
   ],
   "source": [
    "n = len(observed)\n",
    "cdf_model = chi_squared_cdf(n)"
   ]
  },
  {
   "cell_type": "code",
   "execution_count": 89,
   "id": "aca6b307",
   "metadata": {},
   "outputs": [
    {
     "data": {
      "text/plain": [
       "<Axes: >"
      ]
     },
     "execution_count": 89,
     "metadata": {},
     "output_type": "execute_result"
    },
    {
     "data": {
      "image/png": "[encoded data removed]",
      "text/plain": [
       "<Figure size 450x262.5 with 1 Axes>"
      ]
     },
     "metadata": {},
     "output_type": "display_data"
    },
    {
     "data": {
      "application/javascript": [
       "\n",
       "            setTimeout(function() {\n",
       "                var nbb_cell_id = 89;\n",
       "                var nbb_unformatted_code = \"cdf_model.plot(**model_options)\\ncdf_simulated.plot(label=\\\"simulation\\\")\";\n",
       "                var nbb_formatted_code = \"cdf_model.plot(**model_options)\\ncdf_simulated.plot(label=\\\"simulation\\\")\";\n",
       "                var nbb_cells = Jupyter.notebook.get_cells();\n",
       "                for (var i = 0; i < nbb_cells.length; ++i) {\n",
       "                    if (nbb_cells[i].input_prompt_number == nbb_cell_id) {\n",
       "                        if (nbb_cells[i].get_text() == nbb_unformatted_code) {\n",
       "                             nbb_cells[i].set_text(nbb_formatted_code);\n",
       "                        }\n",
       "                        break;\n",
       "                    }\n",
       "                }\n",
       "            }, 500);\n",
       "            "
      ],
      "text/plain": [
       "<IPython.core.display.Javascript object>"
      ]
     },
     "metadata": {},
     "output_type": "display_data"
    }
   ],
   "source": [
    "cdf_model.plot(**model_options)\n",
    "cdf_simulated.plot(label=\"simulation\")"
   ]
  },
  {
   "cell_type": "code",
   "execution_count": 90,
   "id": "761861dc",
   "metadata": {},
   "outputs": [
    {
     "data": {
      "text/plain": [
       "0.04069938850404997"
      ]
     },
     "execution_count": 90,
     "metadata": {},
     "output_type": "execute_result"
    },
    {
     "data": {
      "application/javascript": [
       "\n",
       "            setTimeout(function() {\n",
       "                var nbb_cell_id = 90;\n",
       "                var nbb_unformatted_code = \"p_value = 1 - chi2_dist.cdf(observed_chi2, df=n - 1)\\np_value\";\n",
       "                var nbb_formatted_code = \"p_value = 1 - chi2_dist.cdf(observed_chi2, df=n - 1)\\np_value\";\n",
       "                var nbb_cells = Jupyter.notebook.get_cells();\n",
       "                for (var i = 0; i < nbb_cells.length; ++i) {\n",
       "                    if (nbb_cells[i].input_prompt_number == nbb_cell_id) {\n",
       "                        if (nbb_cells[i].get_text() == nbb_unformatted_code) {\n",
       "                             nbb_cells[i].set_text(nbb_formatted_code);\n",
       "                        }\n",
       "                        break;\n",
       "                    }\n",
       "                }\n",
       "            }, 500);\n",
       "            "
      ],
      "text/plain": [
       "<IPython.core.display.Javascript object>"
      ]
     },
     "metadata": {},
     "output_type": "display_data"
    }
   ],
   "source": [
    "p_value = 1 - chi2_dist.cdf(observed_chi2, df=n - 1)\n",
    "p_value"
   ]
  },
  {
   "cell_type": "code",
   "execution_count": 91,
   "id": "3bb23688",
   "metadata": {},
   "outputs": [
    {
     "data": {
      "text/html": [
       "<div>\n",
       "<style scoped>\n",
       "    .dataframe tbody tr th:only-of-type {\n",
       "        vertical-align: middle;\n",
       "    }\n",
       "\n",
       "    .dataframe tbody tr th {\n",
       "        vertical-align: top;\n",
       "    }\n",
       "\n",
       "    .dataframe thead th {\n",
       "        text-align: right;\n",
       "    }\n",
       "</style>\n",
       "<table border=\"1\" class=\"dataframe\">\n",
       "  <thead>\n",
       "    <tr style=\"text-align: right;\">\n",
       "      <th></th>\n",
       "      <th>freqs</th>\n",
       "    </tr>\n",
       "    <tr>\n",
       "      <th>outcome</th>\n",
       "      <th></th>\n",
       "    </tr>\n",
       "  </thead>\n",
       "  <tbody>\n",
       "    <tr>\n",
       "      <th>1</th>\n",
       "      <td>8</td>\n",
       "    </tr>\n",
       "    <tr>\n",
       "      <th>2</th>\n",
       "      <td>9</td>\n",
       "    </tr>\n",
       "    <tr>\n",
       "      <th>3</th>\n",
       "      <td>19</td>\n",
       "    </tr>\n",
       "    <tr>\n",
       "      <th>4</th>\n",
       "      <td>5</td>\n",
       "    </tr>\n",
       "    <tr>\n",
       "      <th>5</th>\n",
       "      <td>8</td>\n",
       "    </tr>\n",
       "    <tr>\n",
       "      <th>6</th>\n",
       "      <td>11</td>\n",
       "    </tr>\n",
       "  </tbody>\n",
       "</table>\n",
       "</div>"
      ],
      "text/plain": [
       "outcome\n",
       "1     8\n",
       "2     9\n",
       "3    19\n",
       "4     5\n",
       "5     8\n",
       "6    11\n",
       "dtype: int64"
      ]
     },
     "execution_count": 91,
     "metadata": {},
     "output_type": "execute_result"
    },
    {
     "data": {
      "application/javascript": [
       "\n",
       "            setTimeout(function() {\n",
       "                var nbb_cell_id = 91;\n",
       "                var nbb_unformatted_code = \"observed\";\n",
       "                var nbb_formatted_code = \"observed\";\n",
       "                var nbb_cells = Jupyter.notebook.get_cells();\n",
       "                for (var i = 0; i < nbb_cells.length; ++i) {\n",
       "                    if (nbb_cells[i].input_prompt_number == nbb_cell_id) {\n",
       "                        if (nbb_cells[i].get_text() == nbb_unformatted_code) {\n",
       "                             nbb_cells[i].set_text(nbb_formatted_code);\n",
       "                        }\n",
       "                        break;\n",
       "                    }\n",
       "                }\n",
       "            }, 500);\n",
       "            "
      ],
      "text/plain": [
       "<IPython.core.display.Javascript object>"
      ]
     },
     "metadata": {},
     "output_type": "display_data"
    }
   ],
   "source": [
    "observed"
   ]
  },
  {
   "cell_type": "code",
   "execution_count": 92,
   "id": "25ccd21b",
   "metadata": {},
   "outputs": [
    {
     "data": {
      "application/javascript": [
       "\n",
       "            setTimeout(function() {\n",
       "                var nbb_cell_id = 92;\n",
       "                var nbb_unformatted_code = \"from empiricaldist import Pmf\\n\\nn = observed.sum()\\noutcomes = observed.qs\\nexpected = Pmf(n / 6, outcomes)\";\n",
       "                var nbb_formatted_code = \"from empiricaldist import Pmf\\n\\nn = observed.sum()\\noutcomes = observed.qs\\nexpected = Pmf(n / 6, outcomes)\";\n",
       "                var nbb_cells = Jupyter.notebook.get_cells();\n",
       "                for (var i = 0; i < nbb_cells.length; ++i) {\n",
       "                    if (nbb_cells[i].input_prompt_number == nbb_cell_id) {\n",
       "                        if (nbb_cells[i].get_text() == nbb_unformatted_code) {\n",
       "                             nbb_cells[i].set_text(nbb_formatted_code);\n",
       "                        }\n",
       "                        break;\n",
       "                    }\n",
       "                }\n",
       "            }, 500);\n",
       "            "
      ],
      "text/plain": [
       "<IPython.core.display.Javascript object>"
      ]
     },
     "metadata": {},
     "output_type": "display_data"
    }
   ],
   "source": [
    "from empiricaldist import Pmf\n",
    "\n",
    "n = observed.sum()\n",
    "outcomes = observed.qs\n",
    "expected = Pmf(n / 6, outcomes)"
   ]
  },
  {
   "cell_type": "code",
   "execution_count": 93,
   "id": "e924fa1e",
   "metadata": {},
   "outputs": [
    {
     "data": {
      "text/plain": [
       "11.6"
      ]
     },
     "execution_count": 93,
     "metadata": {},
     "output_type": "execute_result"
    },
    {
     "data": {
      "application/javascript": [
       "\n",
       "            setTimeout(function() {\n",
       "                var nbb_cell_id = 93;\n",
       "                var nbb_unformatted_code = \"from scipy.stats import chisquare\\n\\nchi2_stat, p_value = chisquare(f_obs=observed, f_exp=expected)\\nchi2_stat\";\n",
       "                var nbb_formatted_code = \"from scipy.stats import chisquare\\n\\nchi2_stat, p_value = chisquare(f_obs=observed, f_exp=expected)\\nchi2_stat\";\n",
       "                var nbb_cells = Jupyter.notebook.get_cells();\n",
       "                for (var i = 0; i < nbb_cells.length; ++i) {\n",
       "                    if (nbb_cells[i].input_prompt_number == nbb_cell_id) {\n",
       "                        if (nbb_cells[i].get_text() == nbb_unformatted_code) {\n",
       "                             nbb_cells[i].set_text(nbb_formatted_code);\n",
       "                        }\n",
       "                        break;\n",
       "                    }\n",
       "                }\n",
       "            }, 500);\n",
       "            "
      ],
      "text/plain": [
       "<IPython.core.display.Javascript object>"
      ]
     },
     "metadata": {},
     "output_type": "display_data"
    }
   ],
   "source": [
    "from scipy.stats import chisquare\n",
    "\n",
    "chi2_stat, p_value = chisquare(f_obs=observed, f_exp=expected)\n",
    "chi2_stat"
   ]
  },
  {
   "cell_type": "code",
   "execution_count": 94,
   "id": "f403b881",
   "metadata": {},
   "outputs": [
    {
     "data": {
      "text/plain": [
       "0.040699388504049985"
      ]
     },
     "execution_count": 94,
     "metadata": {},
     "output_type": "execute_result"
    },
    {
     "data": {
      "application/javascript": [
       "\n",
       "            setTimeout(function() {\n",
       "                var nbb_cell_id = 94;\n",
       "                var nbb_unformatted_code = \"p_value\";\n",
       "                var nbb_formatted_code = \"p_value\";\n",
       "                var nbb_cells = Jupyter.notebook.get_cells();\n",
       "                for (var i = 0; i < nbb_cells.length; ++i) {\n",
       "                    if (nbb_cells[i].input_prompt_number == nbb_cell_id) {\n",
       "                        if (nbb_cells[i].get_text() == nbb_unformatted_code) {\n",
       "                             nbb_cells[i].set_text(nbb_formatted_code);\n",
       "                        }\n",
       "                        break;\n",
       "                    }\n",
       "                }\n",
       "            }, 500);\n",
       "            "
      ],
      "text/plain": [
       "<IPython.core.display.Javascript object>"
      ]
     },
     "metadata": {},
     "output_type": "display_data"
    }
   ],
   "source": [
    "p_value"
   ]
  },
  {
   "cell_type": "markdown",
   "id": "158635d2",
   "metadata": {},
   "source": [
    "The result is 0.041, which is consistent with the result from resampling.\n",
    "\n",
    "The parameter of the chi-squared distribution is \"degrees of freedom\" again.\n",
    "In this case the correct parameter is `n-1`, where `n` is the size of the table, 6. Choosing this parameter can be tricky; to be honest, I am never confident that I have it right until I generate something like the previous figure to compare the analytic results to the resampling results."
   ]
  },
  {
   "cell_type": "markdown",
   "id": "9ffdd14a",
   "metadata": {},
   "source": [
    "## Discussion\n",
    "\n",
    "This book focuses on computational methods like resampling and permutation.\n",
    "These methods have several advantages over analysis:\n",
    "\n",
    "-   They are easier to explain and understand.\n",
    "For example, one of the most difficult topics in an introductory statistics class is hypothesis testing.\n",
    "Many students don't really understand what p-values are.\n",
    "I think the approach I presented in Chapter [\\[testing\\]](#testing){reference-type=\"ref\" reference=\"testing\"}---simulating the null hypothesis and computing test statistics---makes the fundamental idea clearer.\n",
    "\n",
    "-   They are robust and versatile.\n",
    "Analytic methods are often based on assumptions that might not hold in practice.\n",
    "Computational methods require fewer assumptions, and can be adapted and extended more easily.\n",
    "\n",
    "-   They are debuggable.\n",
    "Analytic methods are often like a black box: you plug in numbers and they spit out results.\n",
    "But it's easy to make subtle errors, hard to be confident that the results are right, and hard to find the problem if they are not.\n",
    "Computational methods lend themselves to incremental development and testing, which fosters confidence in the results."
   ]
  },
  {
   "cell_type": "markdown",
   "id": "6a568fca",
   "metadata": {},
   "source": [
    "But there is one drawback: computational methods can be slow.\n",
    "Taking into account these pros and cons, I recommend the following process:\n",
    "\n",
    "1.  Use computational methods during exploration.\n",
    "If you find a satisfactory answer and the run time is acceptable, you can stop.\n",
    "\n",
    "2.  If run time is not acceptable, look for opportunities to optimize.\n",
    "Using analytic methods is one of several methods of optimization.\n",
    "\n",
    "3.  If replacing a computational method with an analytic method is appropriate, use the computational method as a basis of comparison, providing mutual validation between the computational and analytic results.\n",
    "\n",
    "For the vast majority of problems I have worked on, I didn't have to go past Step 1."
   ]
  },
  {
   "cell_type": "markdown",
   "id": "73e9a0da",
   "metadata": {
    "collapsed": true
   },
   "source": [
    "## Exercises"
   ]
  },
  {
   "cell_type": "markdown",
   "id": "b33a1489",
   "metadata": {
    "collapsed": true
   },
   "source": [
    "**Exercise:**    In Section 5.4, we saw that the distribution of adult weights is approximately lognormal.\n",
    "One possible explanation is that the weight a person gains each year is proportional to their current weight.\n",
    "In that case, adult weight is the product of a large number of multiplicative factors:\n",
    "\n",
    "w = w0 f1 f2 ... fn  \n",
    "\n",
    "where w is adult weight, w0 is birth weight, and fi is the weight gain factor for year i.\n",
    "\n",
    "The log of a product is the sum of the logs of the factors:\n",
    "\n",
    "logw = logw0 + logf1 + logf2 + ... + logfn \n",
    "\n",
    "So by the Central Limit Theorem, the distribution of logw is approximately normal for large n, which implies that the distribution of w is lognormal.\n",
    "\n",
    "To model this phenomenon, choose a distribution for f that seems reasonable, then generate a sample of adult weights by choosing a random value from the distribution of birth weights, choosing a sequence of factors from the distribution of f, and computing the product.\n",
    "What value of n is needed to converge to a lognormal distribution?"
   ]
  },
  {
   "cell_type": "code",
   "execution_count": 95,
   "id": "25edad95",
   "metadata": {},
   "outputs": [
    {
     "data": {
      "application/javascript": [
       "\n",
       "            setTimeout(function() {\n",
       "                var nbb_cell_id = 95;\n",
       "                var nbb_unformatted_code = \"def generate_adult_weight(birth_weights, n):\\n    \\\"\\\"\\\"Generate a random adult weight by simulating annual gain.\\n\\n    birth_weights: sequence of birth weights in lbs\\n    n: number of years to simulate\\n\\n    returns: adult weight in lbs\\n    \\\"\\\"\\\"\\n    bw = np.random.choice(birth_weights)\\n    factors = np.random.normal(1.09, 0.03, n)\\n    aw = bw * np.prod(factors)\\n    return aw\";\n",
       "                var nbb_formatted_code = \"def generate_adult_weight(birth_weights, n):\\n    \\\"\\\"\\\"Generate a random adult weight by simulating annual gain.\\n\\n    birth_weights: sequence of birth weights in lbs\\n    n: number of years to simulate\\n\\n    returns: adult weight in lbs\\n    \\\"\\\"\\\"\\n    bw = np.random.choice(birth_weights)\\n    factors = np.random.normal(1.09, 0.03, n)\\n    aw = bw * np.prod(factors)\\n    return aw\";\n",
       "                var nbb_cells = Jupyter.notebook.get_cells();\n",
       "                for (var i = 0; i < nbb_cells.length; ++i) {\n",
       "                    if (nbb_cells[i].input_prompt_number == nbb_cell_id) {\n",
       "                        if (nbb_cells[i].get_text() == nbb_unformatted_code) {\n",
       "                             nbb_cells[i].set_text(nbb_formatted_code);\n",
       "                        }\n",
       "                        break;\n",
       "                    }\n",
       "                }\n",
       "            }, 500);\n",
       "            "
      ],
      "text/plain": [
       "<IPython.core.display.Javascript object>"
      ]
     },
     "metadata": {},
     "output_type": "display_data"
    }
   ],
   "source": [
    "def generate_adult_weight(birth_weights, n):\n",
    "    \"\"\"Generate a random adult weight by simulating annual gain.\n",
    "\n",
    "    birth_weights: sequence of birth weights in lbs\n",
    "    n: number of years to simulate\n",
    "\n",
    "    returns: adult weight in lbs\n",
    "    \"\"\"\n",
    "    bw = np.random.choice(birth_weights)\n",
    "    factors = np.random.normal(1.09, 0.03, n)\n",
    "    aw = bw * np.prod(factors)\n",
    "    return aw"
   ]
  },
  {
   "cell_type": "code",
   "execution_count": 96,
   "id": "21a33acf",
   "metadata": {},
   "outputs": [
    {
     "data": {
      "image/png": "[encoded data removed]",
      "text/plain": [
       "<Figure size 450x262.5 with 1 Axes>"
      ]
     },
     "metadata": {},
     "output_type": "display_data"
    },
    {
     "data": {
      "application/javascript": [
       "\n",
       "            setTimeout(function() {\n",
       "                var nbb_cell_id = 96;\n",
       "                var nbb_unformatted_code = \"birth_weights = live.totalwgt_lb.dropna().values\\naws = [generate_adult_weight(birth_weights, 40) for _ in range(1000)]\\nlog_aws = np.log10(aws)\\nnormal_probability_plot(log_aws)\\ndecorate(\\n    xlabel=\\\"standard normal values\\\",\\n    ylabel=\\\"adult weight (log10 lbs)\\\",\\n)\";\n",
       "                var nbb_formatted_code = \"birth_weights = live.totalwgt_lb.dropna().values\\naws = [generate_adult_weight(birth_weights, 40) for _ in range(1000)]\\nlog_aws = np.log10(aws)\\nnormal_probability_plot(log_aws)\\ndecorate(\\n    xlabel=\\\"standard normal values\\\",\\n    ylabel=\\\"adult weight (log10 lbs)\\\",\\n)\";\n",
       "                var nbb_cells = Jupyter.notebook.get_cells();\n",
       "                for (var i = 0; i < nbb_cells.length; ++i) {\n",
       "                    if (nbb_cells[i].input_prompt_number == nbb_cell_id) {\n",
       "                        if (nbb_cells[i].get_text() == nbb_unformatted_code) {\n",
       "                             nbb_cells[i].set_text(nbb_formatted_code);\n",
       "                        }\n",
       "                        break;\n",
       "                    }\n",
       "                }\n",
       "            }, 500);\n",
       "            "
      ],
      "text/plain": [
       "<IPython.core.display.Javascript object>"
      ]
     },
     "metadata": {},
     "output_type": "display_data"
    }
   ],
   "source": [
    "birth_weights = live.totalwgt_lb.dropna().values\n",
    "aws = [generate_adult_weight(birth_weights, 40) for _ in range(1000)]\n",
    "log_aws = np.log10(aws)\n",
    "normal_probability_plot(log_aws)\n",
    "decorate(\n",
    "    xlabel=\"standard normal values\",\n",
    "    ylabel=\"adult weight (log10 lbs)\",\n",
    ")"
   ]
  },
  {
   "cell_type": "markdown",
   "id": "a5286d50",
   "metadata": {},
   "source": [
    "**Exercise:** In Section 14.6 we used the Central Limit Theorem to find the sampling distribution of the difference in means, δ, under the null hypothesis that both samples are drawn from the same population.\n",
    "\n",
    "We can also use this distribution to find the standard error of the estimate and confidence intervals, but that would only be approximately correct.\n",
    "To be more precise, we should compute the sampling distribution of δ under the alternate hypothesis that the samples are drawn from different populations.\n",
    "\n",
    "Compute this distribution and use it to calculate the standard error and a 90% confidence interval for the difference in means."
   ]
  },
  {
   "cell_type": "code",
   "execution_count": 97,
   "id": "49d9b077",
   "metadata": {},
   "outputs": [
    {
     "name": "stdout",
     "output_type": "stream",
     "text": [
      "0.07803726677754952\n"
     ]
    },
    {
     "data": {
      "application/javascript": [
       "\n",
       "            setTimeout(function() {\n",
       "                var nbb_cell_id = 97;\n",
       "                var nbb_unformatted_code = \"# Solution\\n\\ndelta = firsts[\\\"prglngth\\\"].mean() - others[\\\"prglngth\\\"].mean()\\nprint(delta)\";\n",
       "                var nbb_formatted_code = \"# Solution\\n\\ndelta = firsts[\\\"prglngth\\\"].mean() - others[\\\"prglngth\\\"].mean()\\nprint(delta)\";\n",
       "                var nbb_cells = Jupyter.notebook.get_cells();\n",
       "                for (var i = 0; i < nbb_cells.length; ++i) {\n",
       "                    if (nbb_cells[i].input_prompt_number == nbb_cell_id) {\n",
       "                        if (nbb_cells[i].get_text() == nbb_unformatted_code) {\n",
       "                             nbb_cells[i].set_text(nbb_formatted_code);\n",
       "                        }\n",
       "                        break;\n",
       "                    }\n",
       "                }\n",
       "            }, 500);\n",
       "            "
      ],
      "text/plain": [
       "<IPython.core.display.Javascript object>"
      ]
     },
     "metadata": {},
     "output_type": "display_data"
    }
   ],
   "source": [
    "# Solution\n",
    "\n",
    "delta = firsts[\"prglngth\"].mean() - others[\"prglngth\"].mean()\n",
    "print(delta)"
   ]
  },
  {
   "cell_type": "code",
   "execution_count": 98,
   "id": "c3de198b",
   "metadata": {},
   "outputs": [
    {
     "name": "stdout",
     "output_type": "stream",
     "text": [
      "null hypothesis Normal(0.0, 0.0031970795988180128)\n",
      "0.08377070425543781 0.08377070425543787\n"
     ]
    },
    {
     "data": {
      "application/javascript": [
       "\n",
       "            setTimeout(function() {\n",
       "                var nbb_cell_id = 98;\n",
       "                var nbb_unformatted_code = \"# Solution\\n\\ndist1 = sampling_dist_mean(live.prglngth, len(firsts))\\ndist2 = sampling_dist_mean(live.prglngth, len(others))\\ndist_diff_null = dist1 - dist2\\nprint(\\\"null hypothesis\\\", dist_diff_null)\\nprint(dist_diff_null.cdf(-delta), 1 - dist_diff_null.cdf(delta))\";\n",
       "                var nbb_formatted_code = \"# Solution\\n\\ndist1 = sampling_dist_mean(live.prglngth, len(firsts))\\ndist2 = sampling_dist_mean(live.prglngth, len(others))\\ndist_diff_null = dist1 - dist2\\nprint(\\\"null hypothesis\\\", dist_diff_null)\\nprint(dist_diff_null.cdf(-delta), 1 - dist_diff_null.cdf(delta))\";\n",
       "                var nbb_cells = Jupyter.notebook.get_cells();\n",
       "                for (var i = 0; i < nbb_cells.length; ++i) {\n",
       "                    if (nbb_cells[i].input_prompt_number == nbb_cell_id) {\n",
       "                        if (nbb_cells[i].get_text() == nbb_unformatted_code) {\n",
       "                             nbb_cells[i].set_text(nbb_formatted_code);\n",
       "                        }\n",
       "                        break;\n",
       "                    }\n",
       "                }\n",
       "            }, 500);\n",
       "            "
      ],
      "text/plain": [
       "<IPython.core.display.Javascript object>"
      ]
     },
     "metadata": {},
     "output_type": "display_data"
    }
   ],
   "source": [
    "# Solution\n",
    "\n",
    "dist1 = sampling_dist_mean(live.prglngth, len(firsts))\n",
    "dist2 = sampling_dist_mean(live.prglngth, len(others))\n",
    "dist_diff_null = dist1 - dist2\n",
    "print(\"null hypothesis\", dist_diff_null)\n",
    "print(dist_diff_null.cdf(-delta), 1 - dist_diff_null.cdf(delta))"
   ]
  },
  {
   "cell_type": "code",
   "execution_count": 99,
   "id": "e81a97cf",
   "metadata": {},
   "outputs": [
    {
     "name": "stdout",
     "output_type": "stream",
     "text": [
      "estimated params Normal(0.07803726677755662, 0.003211435677916403)\n",
      "[-0.01517582  0.17125035]\n"
     ]
    },
    {
     "data": {
      "application/javascript": [
       "\n",
       "            setTimeout(function() {\n",
       "                var nbb_cell_id = 99;\n",
       "                var nbb_unformatted_code = \"# Solution\\n\\ndist1 = sampling_dist_mean(firsts.prglngth, len(firsts))\\ndist2 = sampling_dist_mean(others.prglngth, len(others))\\ndist_diff_alt = dist1 - dist2\\nprint(\\\"estimated params\\\", dist_diff_alt)\\nprint(dist_diff_alt.ppf([0.05, 0.95]))\";\n",
       "                var nbb_formatted_code = \"# Solution\\n\\ndist1 = sampling_dist_mean(firsts.prglngth, len(firsts))\\ndist2 = sampling_dist_mean(others.prglngth, len(others))\\ndist_diff_alt = dist1 - dist2\\nprint(\\\"estimated params\\\", dist_diff_alt)\\nprint(dist_diff_alt.ppf([0.05, 0.95]))\";\n",
       "                var nbb_cells = Jupyter.notebook.get_cells();\n",
       "                for (var i = 0; i < nbb_cells.length; ++i) {\n",
       "                    if (nbb_cells[i].input_prompt_number == nbb_cell_id) {\n",
       "                        if (nbb_cells[i].get_text() == nbb_unformatted_code) {\n",
       "                             nbb_cells[i].set_text(nbb_formatted_code);\n",
       "                        }\n",
       "                        break;\n",
       "                    }\n",
       "                }\n",
       "            }, 500);\n",
       "            "
      ],
      "text/plain": [
       "<IPython.core.display.Javascript object>"
      ]
     },
     "metadata": {},
     "output_type": "display_data"
    }
   ],
   "source": [
    "# Solution\n",
    "\n",
    "dist1 = sampling_dist_mean(firsts.prglngth, len(firsts))\n",
    "dist2 = sampling_dist_mean(others.prglngth, len(others))\n",
    "dist_diff_alt = dist1 - dist2\n",
    "print(\"estimated params\", dist_diff_alt)\n",
    "print(dist_diff_alt.ppf([0.05, 0.95]))"
   ]
  },
  {
   "cell_type": "code",
   "execution_count": 100,
   "id": "c489c9cc",
   "metadata": {},
   "outputs": [
    {
     "data": {
      "text/plain": [
       "Normal(0.0, 0.0031970795988180128)"
      ]
     },
     "execution_count": 100,
     "metadata": {},
     "output_type": "execute_result"
    },
    {
     "data": {
      "application/javascript": [
       "\n",
       "            setTimeout(function() {\n",
       "                var nbb_cell_id = 100;\n",
       "                var nbb_unformatted_code = \"dist_diff_null\";\n",
       "                var nbb_formatted_code = \"dist_diff_null\";\n",
       "                var nbb_cells = Jupyter.notebook.get_cells();\n",
       "                for (var i = 0; i < nbb_cells.length; ++i) {\n",
       "                    if (nbb_cells[i].input_prompt_number == nbb_cell_id) {\n",
       "                        if (nbb_cells[i].get_text() == nbb_unformatted_code) {\n",
       "                             nbb_cells[i].set_text(nbb_formatted_code);\n",
       "                        }\n",
       "                        break;\n",
       "                    }\n",
       "                }\n",
       "            }, 500);\n",
       "            "
      ],
      "text/plain": [
       "<IPython.core.display.Javascript object>"
      ]
     },
     "metadata": {},
     "output_type": "display_data"
    }
   ],
   "source": [
    "dist_diff_null"
   ]
  },
  {
   "cell_type": "code",
   "execution_count": 101,
   "id": "d175ac6a",
   "metadata": {},
   "outputs": [
    {
     "data": {
      "image/png": "[encoded data removed]",
      "text/plain": [
       "<Figure size 450x262.5 with 1 Axes>"
      ]
     },
     "metadata": {},
     "output_type": "display_data"
    },
    {
     "data": {
      "application/javascript": [
       "\n",
       "            setTimeout(function() {\n",
       "                var nbb_cell_id = 101;\n",
       "                var nbb_unformatted_code = \"# Solution\\n\\ndist_diff_null.plot_cdf(label=\\\"null hypothesis\\\")\\ndist_diff_alt.plot_cdf(label=\\\"estimated params\\\")\\ndecorate(xlabel=\\\"Difference in means (weeks)\\\", ylabel=\\\"CDF\\\", loc=\\\"lower right\\\")\";\n",
       "                var nbb_formatted_code = \"# Solution\\n\\ndist_diff_null.plot_cdf(label=\\\"null hypothesis\\\")\\ndist_diff_alt.plot_cdf(label=\\\"estimated params\\\")\\ndecorate(xlabel=\\\"Difference in means (weeks)\\\", ylabel=\\\"CDF\\\", loc=\\\"lower right\\\")\";\n",
       "                var nbb_cells = Jupyter.notebook.get_cells();\n",
       "                for (var i = 0; i < nbb_cells.length; ++i) {\n",
       "                    if (nbb_cells[i].input_prompt_number == nbb_cell_id) {\n",
       "                        if (nbb_cells[i].get_text() == nbb_unformatted_code) {\n",
       "                             nbb_cells[i].set_text(nbb_formatted_code);\n",
       "                        }\n",
       "                        break;\n",
       "                    }\n",
       "                }\n",
       "            }, 500);\n",
       "            "
      ],
      "text/plain": [
       "<IPython.core.display.Javascript object>"
      ]
     },
     "metadata": {},
     "output_type": "display_data"
    }
   ],
   "source": [
    "# Solution\n",
    "\n",
    "dist_diff_null.plot_cdf(label=\"null hypothesis\")\n",
    "dist_diff_alt.plot_cdf(label=\"estimated params\")\n",
    "decorate(xlabel=\"Difference in means (weeks)\", ylabel=\"CDF\", loc=\"lower right\")"
   ]
  },
  {
   "cell_type": "markdown",
   "id": "c8623c0d",
   "metadata": {},
   "source": [
    "**Exercise:** [In a 2014 paper](http://ieeexplore.ieee.org/document/7044435/), Stein et al. investigate the effects of an intervention intended to mitigate gender-stereotypical task allocation within student engineering teams.\n",
    "\n",
    "Before and after the intervention, students responded to a survey that asked them to rate their contribution to each aspect of class projects on a 7-point scale.\n",
    "\n",
    "Before the intervention, male students reported higher scores for the programming aspect of the project than female students; on average men reported a score of 3.57 with standard error 0.28. Women reported 1.91, on average, with standard error 0.32.\n",
    "\n",
    "Compute the sampling distribution of the gender gap (the difference in means), and test whether it is statistically significant.\n",
    "Because you are given standard errors for the estimated means, you don’t need to know the sample size to figure out the sampling distributions.\n",
    "\n",
    "After the intervention, the gender gap was smaller: the average score for men was 3.44 (SE 0.16); the average score for women was 3.18 (SE 0.16).\n",
    "Again, compute the sampling distribution of the gender gap and test it.\n",
    "\n",
    "Finally, estimate the change in gender gap; what is the sampling distribution of this change, and is it statistically significant?"
   ]
  },
  {
   "cell_type": "markdown",
   "id": "92ca1151",
   "metadata": {},
   "source": [
    "\"Evidence for the persistent effects of an intervention to mitigate gender-stereotypical task allocation within student engineering teams,\" Proceedings of the IEEE Frontiers in Education Conference, 2014."
   ]
  },
  {
   "cell_type": "code",
   "execution_count": 102,
   "id": "ef290a97",
   "metadata": {},
   "outputs": [
    {
     "data": {
      "application/javascript": [
       "\n",
       "            setTimeout(function() {\n",
       "                var nbb_cell_id = 102;\n",
       "                var nbb_unformatted_code = \"# Solution\\n\\nmale_before = Normal(3.57, 0.28**2)\\nmale_after = Normal(3.44, 0.16**2)\\nfemale_before = Normal(1.91, 0.32**2)\\nfemale_after = Normal(3.18, 0.16**2)\";\n",
       "                var nbb_formatted_code = \"# Solution\\n\\nmale_before = Normal(3.57, 0.28**2)\\nmale_after = Normal(3.44, 0.16**2)\\nfemale_before = Normal(1.91, 0.32**2)\\nfemale_after = Normal(3.18, 0.16**2)\";\n",
       "                var nbb_cells = Jupyter.notebook.get_cells();\n",
       "                for (var i = 0; i < nbb_cells.length; ++i) {\n",
       "                    if (nbb_cells[i].input_prompt_number == nbb_cell_id) {\n",
       "                        if (nbb_cells[i].get_text() == nbb_unformatted_code) {\n",
       "                             nbb_cells[i].set_text(nbb_formatted_code);\n",
       "                        }\n",
       "                        break;\n",
       "                    }\n",
       "                }\n",
       "            }, 500);\n",
       "            "
      ],
      "text/plain": [
       "<IPython.core.display.Javascript object>"
      ]
     },
     "metadata": {},
     "output_type": "display_data"
    }
   ],
   "source": [
    "# Solution\n",
    "\n",
    "male_before = Normal(3.57, 0.28**2)\n",
    "male_after = Normal(3.44, 0.16**2)\n",
    "female_before = Normal(1.91, 0.32**2)\n",
    "female_after = Normal(3.18, 0.16**2)"
   ]
  },
  {
   "cell_type": "code",
   "execution_count": 103,
   "id": "327daf88",
   "metadata": {},
   "outputs": [
    {
     "data": {
      "application/javascript": [
       "\n",
       "            setTimeout(function() {\n",
       "                var nbb_cell_id = 103;\n",
       "                var nbb_unformatted_code = \"# Solution\\n\\n\\ndef summarize(dist):\\n    print(\\\"mean, p-value\\\", dist.mu, 1 - dist.cdf(0))\\n    print(\\\"CI\\\", dist.ppf([0.05, 0.95]))\\n    print(\\\"stderr\\\", np.sqrt(dist.sigma2))\";\n",
       "                var nbb_formatted_code = \"# Solution\\n\\n\\ndef summarize(dist):\\n    print(\\\"mean, p-value\\\", dist.mu, 1 - dist.cdf(0))\\n    print(\\\"CI\\\", dist.ppf([0.05, 0.95]))\\n    print(\\\"stderr\\\", np.sqrt(dist.sigma2))\";\n",
       "                var nbb_cells = Jupyter.notebook.get_cells();\n",
       "                for (var i = 0; i < nbb_cells.length; ++i) {\n",
       "                    if (nbb_cells[i].input_prompt_number == nbb_cell_id) {\n",
       "                        if (nbb_cells[i].get_text() == nbb_unformatted_code) {\n",
       "                             nbb_cells[i].set_text(nbb_formatted_code);\n",
       "                        }\n",
       "                        break;\n",
       "                    }\n",
       "                }\n",
       "            }, 500);\n",
       "            "
      ],
      "text/plain": [
       "<IPython.core.display.Javascript object>"
      ]
     },
     "metadata": {},
     "output_type": "display_data"
    }
   ],
   "source": [
    "# Solution\n",
    "\n",
    "\n",
    "def summarize(dist):\n",
    "    print(\"mean, p-value\", dist.mu, 1 - dist.cdf(0))\n",
    "    print(\"CI\", dist.ppf([0.05, 0.95]))\n",
    "    print(\"stderr\", np.sqrt(dist.sigma2))"
   ]
  },
  {
   "cell_type": "code",
   "execution_count": 104,
   "id": "feb8e71c",
   "metadata": {},
   "outputs": [
    {
     "name": "stdout",
     "output_type": "stream",
     "text": [
      "mean, p-value -1.66 4.7309532320793934e-05\n",
      "CI [-2.35940136 -0.96059864]\n",
      "stderr 0.425205832509386\n"
     ]
    },
    {
     "data": {
      "application/javascript": [
       "\n",
       "            setTimeout(function() {\n",
       "                var nbb_cell_id = 104;\n",
       "                var nbb_unformatted_code = \"# Solution\\n\\ndiff_before = female_before - male_before\\nsummarize(diff_before)\";\n",
       "                var nbb_formatted_code = \"# Solution\\n\\ndiff_before = female_before - male_before\\nsummarize(diff_before)\";\n",
       "                var nbb_cells = Jupyter.notebook.get_cells();\n",
       "                for (var i = 0; i < nbb_cells.length; ++i) {\n",
       "                    if (nbb_cells[i].input_prompt_number == nbb_cell_id) {\n",
       "                        if (nbb_cells[i].get_text() == nbb_unformatted_code) {\n",
       "                             nbb_cells[i].set_text(nbb_formatted_code);\n",
       "                        }\n",
       "                        break;\n",
       "                    }\n",
       "                }\n",
       "            }, 500);\n",
       "            "
      ],
      "text/plain": [
       "<IPython.core.display.Javascript object>"
      ]
     },
     "metadata": {},
     "output_type": "display_data"
    }
   ],
   "source": [
    "# Solution\n",
    "\n",
    "diff_before = female_before - male_before\n",
    "summarize(diff_before)"
   ]
  },
  {
   "cell_type": "code",
   "execution_count": 105,
   "id": "d3476d14",
   "metadata": {},
   "outputs": [
    {
     "name": "stdout",
     "output_type": "stream",
     "text": [
      "mean, p-value -0.2599999999999998 0.1252679872068192\n",
      "CI [-0.63218789  0.11218789]\n",
      "stderr 0.2262741699796952\n"
     ]
    },
    {
     "data": {
      "application/javascript": [
       "\n",
       "            setTimeout(function() {\n",
       "                var nbb_cell_id = 105;\n",
       "                var nbb_unformatted_code = \"# Solution\\n\\ndiff_after = female_after - male_after\\nsummarize(diff_after)\";\n",
       "                var nbb_formatted_code = \"# Solution\\n\\ndiff_after = female_after - male_after\\nsummarize(diff_after)\";\n",
       "                var nbb_cells = Jupyter.notebook.get_cells();\n",
       "                for (var i = 0; i < nbb_cells.length; ++i) {\n",
       "                    if (nbb_cells[i].input_prompt_number == nbb_cell_id) {\n",
       "                        if (nbb_cells[i].get_text() == nbb_unformatted_code) {\n",
       "                             nbb_cells[i].set_text(nbb_formatted_code);\n",
       "                        }\n",
       "                        break;\n",
       "                    }\n",
       "                }\n",
       "            }, 500);\n",
       "            "
      ],
      "text/plain": [
       "<IPython.core.display.Javascript object>"
      ]
     },
     "metadata": {},
     "output_type": "display_data"
    }
   ],
   "source": [
    "# Solution\n",
    "\n",
    "diff_after = female_after - male_after\n",
    "summarize(diff_after)"
   ]
  },
  {
   "cell_type": "code",
   "execution_count": 106,
   "id": "834ffcc1",
   "metadata": {},
   "outputs": [
    {
     "name": "stdout",
     "output_type": "stream",
     "text": [
      "mean, p-value 1.4000000000000001 0.998173051631023\n",
      "CI [0.60773358 2.19226642]\n",
      "stderr 0.48166378315169184\n"
     ]
    },
    {
     "data": {
      "application/javascript": [
       "\n",
       "            setTimeout(function() {\n",
       "                var nbb_cell_id = 106;\n",
       "                var nbb_unformatted_code = \"# Solution\\n\\ndiff = diff_after - diff_before\\nsummarize(diff)\";\n",
       "                var nbb_formatted_code = \"# Solution\\n\\ndiff = diff_after - diff_before\\nsummarize(diff)\";\n",
       "                var nbb_cells = Jupyter.notebook.get_cells();\n",
       "                for (var i = 0; i < nbb_cells.length; ++i) {\n",
       "                    if (nbb_cells[i].input_prompt_number == nbb_cell_id) {\n",
       "                        if (nbb_cells[i].get_text() == nbb_unformatted_code) {\n",
       "                             nbb_cells[i].set_text(nbb_formatted_code);\n",
       "                        }\n",
       "                        break;\n",
       "                    }\n",
       "                }\n",
       "            }, 500);\n",
       "            "
      ],
      "text/plain": [
       "<IPython.core.display.Javascript object>"
      ]
     },
     "metadata": {},
     "output_type": "display_data"
    }
   ],
   "source": [
    "# Solution\n",
    "\n",
    "diff = diff_after - diff_before\n",
    "summarize(diff)"
   ]
  },
  {
   "cell_type": "markdown",
   "id": "e27da3a4",
   "metadata": {
    "tags": []
   },
   "source": [
    "[Think Stats: Exploratory Data Analysis in Python, 3rd Edition](https://allendowney.github.io/ThinkStats/index.html)\n",
    "\n",
    "Copyright 2024 [Allen B. Downey](https://allendowney.com)\n",
    "\n",
    "Code license: [MIT License](https://mit-license.org/)\n",
    "\n",
    "Text license: [Creative Commons Attribution-NonCommercial-ShareAlike 4.0 International](https://creativecommons.org/licenses/by-nc-sa/4.0/)"
   ]
  },
  {
   "cell_type": "code",
   "execution_count": null,
   "id": "cf5d3c15",
   "metadata": {},
   "outputs": [],
   "source": []
  }
 ],
 "metadata": {
  "celltoolbar": "Tags",
  "kernelspec": {
   "display_name": "Python 3 (ipykernel)",
   "language": "python",
   "name": "python3"
  },
  "language_info": {
   "codemirror_mode": {
    "name": "ipython",
    "version": 3
   },
   "file_extension": ".py",
   "mimetype": "text/x-python",
   "name": "python",
   "nbconvert_exporter": "python",
   "pygments_lexer": "ipython3",
   "version": "3.10.14"
  }
 },
 "nbformat": 4,
 "nbformat_minor": 5
}
