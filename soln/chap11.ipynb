{
 "cells": [
  {
   "cell_type": "markdown",
   "id": "3e9baa5d",
   "metadata": {},
   "source": [
    "# Regression\n",
    "\n",
    "The linear least squares fit in the previous chapter is an example of **regression**, which is the more general problem of quantifying the relationship between one set of variables, called **dependent variables** or outcomes, and another set of variables, called **independent variables** or predictors.\n",
    "\n",
    "In the examples in the previous chapter, there is only one dependent and one explanatory variable, which is called **simple regression**.\n",
    "In this chapter, we move on to **multiple regression**, with more than one explanatory variable, but still only one dependent variable.\n",
    "If there is more than one dependent variable, that's multivariate regression, which we won't cover in this book."
   ]
  },
  {
   "cell_type": "code",
   "execution_count": 1,
   "id": "7222b4d2",
   "metadata": {},
   "outputs": [
    {
     "data": {
      "application/javascript": [
       "\n",
       "            setTimeout(function() {\n",
       "                var nbb_cell_id = 1;\n",
       "                var nbb_unformatted_code = \"%load_ext nb_black\\n%load_ext autoreload\\n%autoreload 2\";\n",
       "                var nbb_formatted_code = \"%load_ext nb_black\\n%load_ext autoreload\\n%autoreload 2\";\n",
       "                var nbb_cells = Jupyter.notebook.get_cells();\n",
       "                for (var i = 0; i < nbb_cells.length; ++i) {\n",
       "                    if (nbb_cells[i].input_prompt_number == nbb_cell_id) {\n",
       "                        if (nbb_cells[i].get_text() == nbb_unformatted_code) {\n",
       "                             nbb_cells[i].set_text(nbb_formatted_code);\n",
       "                        }\n",
       "                        break;\n",
       "                    }\n",
       "                }\n",
       "            }, 500);\n",
       "            "
      ],
      "text/plain": [
       "<IPython.core.display.Javascript object>"
      ]
     },
     "metadata": {},
     "output_type": "display_data"
    }
   ],
   "source": [
    "%load_ext nb_black\n",
    "%load_ext autoreload\n",
    "%autoreload 2"
   ]
  },
  {
   "cell_type": "code",
   "execution_count": 2,
   "id": "08579655",
   "metadata": {},
   "outputs": [
    {
     "data": {
      "application/javascript": [
       "\n",
       "            setTimeout(function() {\n",
       "                var nbb_cell_id = 2;\n",
       "                var nbb_unformatted_code = \"from os.path import basename, exists\\n\\n\\ndef download(url):\\n    filename = basename(url)\\n    if not exists(filename):\\n        from urllib.request import urlretrieve\\n\\n        local, _ = urlretrieve(url, filename)\\n        print(\\\"Downloaded \\\" + local)\\n\\n\\ndownload(\\\"https://github.com/AllenDowney/ThinkStats/raw/v3/nb/thinkstats.py\\\")\";\n",
       "                var nbb_formatted_code = \"from os.path import basename, exists\\n\\n\\ndef download(url):\\n    filename = basename(url)\\n    if not exists(filename):\\n        from urllib.request import urlretrieve\\n\\n        local, _ = urlretrieve(url, filename)\\n        print(\\\"Downloaded \\\" + local)\\n\\n\\ndownload(\\\"https://github.com/AllenDowney/ThinkStats/raw/v3/nb/thinkstats.py\\\")\";\n",
       "                var nbb_cells = Jupyter.notebook.get_cells();\n",
       "                for (var i = 0; i < nbb_cells.length; ++i) {\n",
       "                    if (nbb_cells[i].input_prompt_number == nbb_cell_id) {\n",
       "                        if (nbb_cells[i].get_text() == nbb_unformatted_code) {\n",
       "                             nbb_cells[i].set_text(nbb_formatted_code);\n",
       "                        }\n",
       "                        break;\n",
       "                    }\n",
       "                }\n",
       "            }, 500);\n",
       "            "
      ],
      "text/plain": [
       "<IPython.core.display.Javascript object>"
      ]
     },
     "metadata": {},
     "output_type": "display_data"
    }
   ],
   "source": [
    "from os.path import basename, exists\n",
    "\n",
    "\n",
    "def download(url):\n",
    "    filename = basename(url)\n",
    "    if not exists(filename):\n",
    "        from urllib.request import urlretrieve\n",
    "\n",
    "        local, _ = urlretrieve(url, filename)\n",
    "        print(\"Downloaded \" + local)\n",
    "\n",
    "\n",
    "download(\"https://github.com/AllenDowney/ThinkStats/raw/v3/nb/thinkstats.py\")"
   ]
  },
  {
   "cell_type": "code",
   "execution_count": 3,
   "id": "4b829ec6",
   "metadata": {},
   "outputs": [
    {
     "data": {
      "application/javascript": [
       "\n",
       "            setTimeout(function() {\n",
       "                var nbb_cell_id = 3;\n",
       "                var nbb_unformatted_code = \"try:\\n    import empiricaldist\\nexcept ImportError:\\n    !pip install empiricaldist\";\n",
       "                var nbb_formatted_code = \"try:\\n    import empiricaldist\\nexcept ImportError:\\n    !pip install empiricaldist\";\n",
       "                var nbb_cells = Jupyter.notebook.get_cells();\n",
       "                for (var i = 0; i < nbb_cells.length; ++i) {\n",
       "                    if (nbb_cells[i].input_prompt_number == nbb_cell_id) {\n",
       "                        if (nbb_cells[i].get_text() == nbb_unformatted_code) {\n",
       "                             nbb_cells[i].set_text(nbb_formatted_code);\n",
       "                        }\n",
       "                        break;\n",
       "                    }\n",
       "                }\n",
       "            }, 500);\n",
       "            "
      ],
      "text/plain": [
       "<IPython.core.display.Javascript object>"
      ]
     },
     "metadata": {},
     "output_type": "display_data"
    }
   ],
   "source": [
    "try:\n",
    "    import empiricaldist\n",
    "except ImportError:\n",
    "    !pip install empiricaldist"
   ]
  },
  {
   "cell_type": "code",
   "execution_count": 4,
   "id": "f2dfc492",
   "metadata": {},
   "outputs": [
    {
     "data": {
      "application/javascript": [
       "\n",
       "            setTimeout(function() {\n",
       "                var nbb_cell_id = 4;\n",
       "                var nbb_unformatted_code = \"import numpy as np\\nimport pandas as pd\\nimport matplotlib.pyplot as plt\\n\\nfrom thinkstats import decorate\";\n",
       "                var nbb_formatted_code = \"import numpy as np\\nimport pandas as pd\\nimport matplotlib.pyplot as plt\\n\\nfrom thinkstats import decorate\";\n",
       "                var nbb_cells = Jupyter.notebook.get_cells();\n",
       "                for (var i = 0; i < nbb_cells.length; ++i) {\n",
       "                    if (nbb_cells[i].input_prompt_number == nbb_cell_id) {\n",
       "                        if (nbb_cells[i].get_text() == nbb_unformatted_code) {\n",
       "                             nbb_cells[i].set_text(nbb_formatted_code);\n",
       "                        }\n",
       "                        break;\n",
       "                    }\n",
       "                }\n",
       "            }, 500);\n",
       "            "
      ],
      "text/plain": [
       "<IPython.core.display.Javascript object>"
      ]
     },
     "metadata": {},
     "output_type": "display_data"
    }
   ],
   "source": [
    "import numpy as np\n",
    "import pandas as pd\n",
    "import matplotlib.pyplot as plt\n",
    "\n",
    "from thinkstats import decorate"
   ]
  },
  {
   "cell_type": "markdown",
   "id": "43363a26",
   "metadata": {},
   "source": [
    "## StatsModels\n",
    "\n",
    "In the previous chapter we used the SciPy function `linregress` to compute least squares fit. This function performs simple regression, but not multiple regression.\n",
    "For that, we'll use `StatsModels`, a package that provides several forms of regression and other analyses.\n",
    "\n",
    "As an first example, we'll continue exploring the penguin data."
   ]
  },
  {
   "cell_type": "markdown",
   "id": "8092e2ce",
   "metadata": {
    "tags": [
     "remove-print"
    ]
   },
   "source": [
    "The following cell downloads the data."
   ]
  },
  {
   "cell_type": "code",
   "execution_count": 5,
   "id": "9718340f",
   "metadata": {
    "tags": [
     "remove-print"
    ]
   },
   "outputs": [
    {
     "data": {
      "application/javascript": [
       "\n",
       "            setTimeout(function() {\n",
       "                var nbb_cell_id = 5;\n",
       "                var nbb_unformatted_code = \"download(\\n    \\\"https://raw.githubusercontent.com/allisonhorst/palmerpenguins/c19a904462482430170bfe2c718775ddb7dbb885/inst/extdata/penguins_raw.csv\\\"\\n)\";\n",
       "                var nbb_formatted_code = \"download(\\n    \\\"https://raw.githubusercontent.com/allisonhorst/palmerpenguins/c19a904462482430170bfe2c718775ddb7dbb885/inst/extdata/penguins_raw.csv\\\"\\n)\";\n",
       "                var nbb_cells = Jupyter.notebook.get_cells();\n",
       "                for (var i = 0; i < nbb_cells.length; ++i) {\n",
       "                    if (nbb_cells[i].input_prompt_number == nbb_cell_id) {\n",
       "                        if (nbb_cells[i].get_text() == nbb_unformatted_code) {\n",
       "                             nbb_cells[i].set_text(nbb_formatted_code);\n",
       "                        }\n",
       "                        break;\n",
       "                    }\n",
       "                }\n",
       "            }, 500);\n",
       "            "
      ],
      "text/plain": [
       "<IPython.core.display.Javascript object>"
      ]
     },
     "metadata": {},
     "output_type": "display_data"
    }
   ],
   "source": [
    "download(\n",
    "    \"https://raw.githubusercontent.com/allisonhorst/palmerpenguins/c19a904462482430170bfe2c718775ddb7dbb885/inst/extdata/penguins_raw.csv\"\n",
    ")"
   ]
  },
  {
   "cell_type": "markdown",
   "id": "4200c1bf",
   "metadata": {},
   "source": [
    "When we load the data, we'll use the following dictionary to give the columns names that don't contain spaces, which will make them easier to use with StatsModels."
   ]
  },
  {
   "cell_type": "code",
   "execution_count": 6,
   "id": "a0eab1db",
   "metadata": {},
   "outputs": [
    {
     "data": {
      "application/javascript": [
       "\n",
       "            setTimeout(function() {\n",
       "                var nbb_cell_id = 6;\n",
       "                var nbb_unformatted_code = \"columns = {\\n    \\\"Body Mass (g)\\\": \\\"mass\\\",\\n    \\\"Flipper Length (mm)\\\": \\\"flipper_length\\\",\\n    \\\"Culmen Length (mm)\\\": \\\"culmen_length\\\",\\n    \\\"Culmen Depth (mm)\\\": \\\"culmen_depth\\\",\\n}\";\n",
       "                var nbb_formatted_code = \"columns = {\\n    \\\"Body Mass (g)\\\": \\\"mass\\\",\\n    \\\"Flipper Length (mm)\\\": \\\"flipper_length\\\",\\n    \\\"Culmen Length (mm)\\\": \\\"culmen_length\\\",\\n    \\\"Culmen Depth (mm)\\\": \\\"culmen_depth\\\",\\n}\";\n",
       "                var nbb_cells = Jupyter.notebook.get_cells();\n",
       "                for (var i = 0; i < nbb_cells.length; ++i) {\n",
       "                    if (nbb_cells[i].input_prompt_number == nbb_cell_id) {\n",
       "                        if (nbb_cells[i].get_text() == nbb_unformatted_code) {\n",
       "                             nbb_cells[i].set_text(nbb_formatted_code);\n",
       "                        }\n",
       "                        break;\n",
       "                    }\n",
       "                }\n",
       "            }, 500);\n",
       "            "
      ],
      "text/plain": [
       "<IPython.core.display.Javascript object>"
      ]
     },
     "metadata": {},
     "output_type": "display_data"
    }
   ],
   "source": [
    "columns = {\n",
    "    \"Body Mass (g)\": \"mass\",\n",
    "    \"Flipper Length (mm)\": \"flipper_length\",\n",
    "    \"Culmen Length (mm)\": \"culmen_length\",\n",
    "    \"Culmen Depth (mm)\": \"culmen_depth\",\n",
    "}"
   ]
  },
  {
   "cell_type": "markdown",
   "id": "43733749",
   "metadata": {},
   "source": [
    "Now we can loar the data, drop the rows with missing weights, and rename the columns."
   ]
  },
  {
   "cell_type": "code",
   "execution_count": 7,
   "id": "8b193db2",
   "metadata": {},
   "outputs": [
    {
     "data": {
      "text/plain": [
       "(342, 17)"
      ]
     },
     "execution_count": 7,
     "metadata": {},
     "output_type": "execute_result"
    },
    {
     "data": {
      "application/javascript": [
       "\n",
       "            setTimeout(function() {\n",
       "                var nbb_cell_id = 7;\n",
       "                var nbb_unformatted_code = \"penguins = (\\n    pd.read_csv(\\\"penguins_raw.csv\\\")\\n    .dropna(subset=[\\\"Body Mass (g)\\\"])\\n    .rename(columns=columns)\\n)\\npenguins.shape\";\n",
       "                var nbb_formatted_code = \"penguins = (\\n    pd.read_csv(\\\"penguins_raw.csv\\\")\\n    .dropna(subset=[\\\"Body Mass (g)\\\"])\\n    .rename(columns=columns)\\n)\\npenguins.shape\";\n",
       "                var nbb_cells = Jupyter.notebook.get_cells();\n",
       "                for (var i = 0; i < nbb_cells.length; ++i) {\n",
       "                    if (nbb_cells[i].input_prompt_number == nbb_cell_id) {\n",
       "                        if (nbb_cells[i].get_text() == nbb_unformatted_code) {\n",
       "                             nbb_cells[i].set_text(nbb_formatted_code);\n",
       "                        }\n",
       "                        break;\n",
       "                    }\n",
       "                }\n",
       "            }, 500);\n",
       "            "
      ],
      "text/plain": [
       "<IPython.core.display.Javascript object>"
      ]
     },
     "metadata": {},
     "output_type": "display_data"
    }
   ],
   "source": [
    "penguins = (\n",
    "    pd.read_csv(\"penguins_raw.csv\")\n",
    "    .dropna(subset=[\"Body Mass (g)\"])\n",
    "    .rename(columns=columns)\n",
    ")\n",
    "penguins.shape"
   ]
  },
  {
   "cell_type": "markdown",
   "id": "3c5d9a44",
   "metadata": {},
   "source": [
    "The dataset contains three species of penguins.\n",
    "We'll work with just the Adélie penguins."
   ]
  },
  {
   "cell_type": "code",
   "execution_count": 8,
   "id": "7ee55cf7",
   "metadata": {},
   "outputs": [
    {
     "data": {
      "text/plain": [
       "151"
      ]
     },
     "execution_count": 8,
     "metadata": {},
     "output_type": "execute_result"
    },
    {
     "data": {
      "application/javascript": [
       "\n",
       "            setTimeout(function() {\n",
       "                var nbb_cell_id = 8;\n",
       "                var nbb_unformatted_code = \"adelie = penguins.query('Species.str.startswith(\\\"Adelie\\\")').copy()\\nlen(adelie)\";\n",
       "                var nbb_formatted_code = \"adelie = penguins.query('Species.str.startswith(\\\"Adelie\\\")').copy()\\nlen(adelie)\";\n",
       "                var nbb_cells = Jupyter.notebook.get_cells();\n",
       "                for (var i = 0; i < nbb_cells.length; ++i) {\n",
       "                    if (nbb_cells[i].input_prompt_number == nbb_cell_id) {\n",
       "                        if (nbb_cells[i].get_text() == nbb_unformatted_code) {\n",
       "                             nbb_cells[i].set_text(nbb_formatted_code);\n",
       "                        }\n",
       "                        break;\n",
       "                    }\n",
       "                }\n",
       "            }, 500);\n",
       "            "
      ],
      "text/plain": [
       "<IPython.core.display.Javascript object>"
      ]
     },
     "metadata": {},
     "output_type": "display_data"
    }
   ],
   "source": [
    "adelie = penguins.query('Species.str.startswith(\"Adelie\")').copy()\n",
    "len(adelie)"
   ]
  },
  {
   "cell_type": "markdown",
   "id": "b9a4f790",
   "metadata": {},
   "source": [
    "In the previous chapter, we computed a least squares fit between the penguins' flipper lengths and weights."
   ]
  },
  {
   "cell_type": "code",
   "execution_count": 9,
   "id": "60142108",
   "metadata": {},
   "outputs": [
    {
     "data": {
      "application/javascript": [
       "\n",
       "            setTimeout(function() {\n",
       "                var nbb_cell_id = 9;\n",
       "                var nbb_unformatted_code = \"flipper_length = adelie[\\\"flipper_length\\\"]\\nbody_mass = adelie[\\\"mass\\\"]\";\n",
       "                var nbb_formatted_code = \"flipper_length = adelie[\\\"flipper_length\\\"]\\nbody_mass = adelie[\\\"mass\\\"]\";\n",
       "                var nbb_cells = Jupyter.notebook.get_cells();\n",
       "                for (var i = 0; i < nbb_cells.length; ++i) {\n",
       "                    if (nbb_cells[i].input_prompt_number == nbb_cell_id) {\n",
       "                        if (nbb_cells[i].get_text() == nbb_unformatted_code) {\n",
       "                             nbb_cells[i].set_text(nbb_formatted_code);\n",
       "                        }\n",
       "                        break;\n",
       "                    }\n",
       "                }\n",
       "            }, 500);\n",
       "            "
      ],
      "text/plain": [
       "<IPython.core.display.Javascript object>"
      ]
     },
     "metadata": {},
     "output_type": "display_data"
    }
   ],
   "source": [
    "flipper_length = adelie[\"flipper_length\"]\n",
    "body_mass = adelie[\"mass\"]"
   ]
  },
  {
   "cell_type": "markdown",
   "id": "c9a1010c",
   "metadata": {},
   "source": [
    "As a reminder, here's how we did that with `linregress`."
   ]
  },
  {
   "cell_type": "code",
   "execution_count": 10,
   "id": "9b54e3f1",
   "metadata": {},
   "outputs": [
    {
     "data": {
      "text/plain": [
       "(-2535.8368022002514, 32.83168975115009)"
      ]
     },
     "execution_count": 10,
     "metadata": {},
     "output_type": "execute_result"
    },
    {
     "data": {
      "application/javascript": [
       "\n",
       "            setTimeout(function() {\n",
       "                var nbb_cell_id = 10;\n",
       "                var nbb_unformatted_code = \"from scipy.stats import linregress\\n\\nresult_linregress = linregress(flipper_length, body_mass)\\nresult_linregress.intercept, result_linregress.slope\";\n",
       "                var nbb_formatted_code = \"from scipy.stats import linregress\\n\\nresult_linregress = linregress(flipper_length, body_mass)\\nresult_linregress.intercept, result_linregress.slope\";\n",
       "                var nbb_cells = Jupyter.notebook.get_cells();\n",
       "                for (var i = 0; i < nbb_cells.length; ++i) {\n",
       "                    if (nbb_cells[i].input_prompt_number == nbb_cell_id) {\n",
       "                        if (nbb_cells[i].get_text() == nbb_unformatted_code) {\n",
       "                             nbb_cells[i].set_text(nbb_formatted_code);\n",
       "                        }\n",
       "                        break;\n",
       "                    }\n",
       "                }\n",
       "            }, 500);\n",
       "            "
      ],
      "text/plain": [
       "<IPython.core.display.Javascript object>"
      ]
     },
     "metadata": {},
     "output_type": "display_data"
    }
   ],
   "source": [
    "from scipy.stats import linregress\n",
    "\n",
    "result_linregress = linregress(flipper_length, body_mass)\n",
    "result_linregress.intercept, result_linregress.slope"
   ]
  },
  {
   "cell_type": "markdown",
   "id": "d45fa482",
   "metadata": {},
   "source": [
    "`StatsModels` provides two interfaces (APIs) -- we'll use the \"formula\" API, which uses the Patsy formula language to identify the dependent and explanatory variables.\n",
    "The following formula string specifies that the dependent variable, `mass`, is a linear function of one explanatory variable, `flipper_length`"
   ]
  },
  {
   "cell_type": "code",
   "execution_count": 11,
   "id": "60e67076",
   "metadata": {},
   "outputs": [
    {
     "data": {
      "application/javascript": [
       "\n",
       "            setTimeout(function() {\n",
       "                var nbb_cell_id = 11;\n",
       "                var nbb_unformatted_code = \"import statsmodels.formula.api as smf\\n\\nformula = \\\"mass ~ flipper_length\\\"\";\n",
       "                var nbb_formatted_code = \"import statsmodels.formula.api as smf\\n\\nformula = \\\"mass ~ flipper_length\\\"\";\n",
       "                var nbb_cells = Jupyter.notebook.get_cells();\n",
       "                for (var i = 0; i < nbb_cells.length; ++i) {\n",
       "                    if (nbb_cells[i].input_prompt_number == nbb_cell_id) {\n",
       "                        if (nbb_cells[i].get_text() == nbb_unformatted_code) {\n",
       "                             nbb_cells[i].set_text(nbb_formatted_code);\n",
       "                        }\n",
       "                        break;\n",
       "                    }\n",
       "                }\n",
       "            }, 500);\n",
       "            "
      ],
      "text/plain": [
       "<IPython.core.display.Javascript object>"
      ]
     },
     "metadata": {},
     "output_type": "display_data"
    }
   ],
   "source": [
    "import statsmodels.formula.api as smf\n",
    "\n",
    "formula = \"mass ~ flipper_length\""
   ]
  },
  {
   "cell_type": "markdown",
   "id": "a9e88039",
   "metadata": {},
   "source": [
    "We can pass this formulat to the `StatsModels` function `ols`, along with the data."
   ]
  },
  {
   "cell_type": "code",
   "execution_count": 12,
   "id": "f0eb4f87",
   "metadata": {},
   "outputs": [
    {
     "data": {
      "text/plain": [
       "statsmodels.regression.linear_model.OLS"
      ]
     },
     "execution_count": 12,
     "metadata": {},
     "output_type": "execute_result"
    },
    {
     "data": {
      "application/javascript": [
       "\n",
       "            setTimeout(function() {\n",
       "                var nbb_cell_id = 12;\n",
       "                var nbb_unformatted_code = \"model = smf.ols(formula, data=adelie)\\ntype(model)\";\n",
       "                var nbb_formatted_code = \"model = smf.ols(formula, data=adelie)\\ntype(model)\";\n",
       "                var nbb_cells = Jupyter.notebook.get_cells();\n",
       "                for (var i = 0; i < nbb_cells.length; ++i) {\n",
       "                    if (nbb_cells[i].input_prompt_number == nbb_cell_id) {\n",
       "                        if (nbb_cells[i].get_text() == nbb_unformatted_code) {\n",
       "                             nbb_cells[i].set_text(nbb_formatted_code);\n",
       "                        }\n",
       "                        break;\n",
       "                    }\n",
       "                }\n",
       "            }, 500);\n",
       "            "
      ],
      "text/plain": [
       "<IPython.core.display.Javascript object>"
      ]
     },
     "metadata": {},
     "output_type": "display_data"
    }
   ],
   "source": [
    "model = smf.ols(formula, data=adelie)\n",
    "type(model)"
   ]
  },
  {
   "cell_type": "markdown",
   "id": "714a1994",
   "metadata": {},
   "source": [
    "The name `ols` stands for \"ordinary least squares\", which indicates that this function computes a least squares fit under the most common, or \"ordinary\", set of assumptions.\n",
    "\n",
    "The result `OLS` object that represents the model.\n",
    "In general, a model is a simplified description of the relationship between variable.\n",
    "In this example, it's a linear model, which means that it assume that the dependent variable is a linear function of the explanatory variables.\n",
    "\n",
    "The `fit` method fits the model to the data and returns a `RegressionResults` object that contains the result."
   ]
  },
  {
   "cell_type": "code",
   "execution_count": 13,
   "id": "5cb8a9cc",
   "metadata": {},
   "outputs": [
    {
     "data": {
      "application/javascript": [
       "\n",
       "            setTimeout(function() {\n",
       "                var nbb_cell_id = 13;\n",
       "                var nbb_unformatted_code = \"result_ols = model.fit()\";\n",
       "                var nbb_formatted_code = \"result_ols = model.fit()\";\n",
       "                var nbb_cells = Jupyter.notebook.get_cells();\n",
       "                for (var i = 0; i < nbb_cells.length; ++i) {\n",
       "                    if (nbb_cells[i].input_prompt_number == nbb_cell_id) {\n",
       "                        if (nbb_cells[i].get_text() == nbb_unformatted_code) {\n",
       "                             nbb_cells[i].set_text(nbb_formatted_code);\n",
       "                        }\n",
       "                        break;\n",
       "                    }\n",
       "                }\n",
       "            }, 500);\n",
       "            "
      ],
      "text/plain": [
       "<IPython.core.display.Javascript object>"
      ]
     },
     "metadata": {},
     "output_type": "display_data"
    }
   ],
   "source": [
    "result_ols = model.fit()"
   ]
  },
  {
   "cell_type": "code",
   "execution_count": 14,
   "id": "d42b3143",
   "metadata": {
    "tags": [
     "remove-print"
    ]
   },
   "outputs": [
    {
     "data": {
      "text/plain": [
       "statsmodels.regression.linear_model.RegressionResultsWrapper"
      ]
     },
     "execution_count": 14,
     "metadata": {},
     "output_type": "execute_result"
    },
    {
     "data": {
      "application/javascript": [
       "\n",
       "            setTimeout(function() {\n",
       "                var nbb_cell_id = 14;\n",
       "                var nbb_unformatted_code = \"# Technically it's a RegressionResultsWrapper\\n\\ntype(result_ols)\";\n",
       "                var nbb_formatted_code = \"# Technically it's a RegressionResultsWrapper\\n\\ntype(result_ols)\";\n",
       "                var nbb_cells = Jupyter.notebook.get_cells();\n",
       "                for (var i = 0; i < nbb_cells.length; ++i) {\n",
       "                    if (nbb_cells[i].input_prompt_number == nbb_cell_id) {\n",
       "                        if (nbb_cells[i].get_text() == nbb_unformatted_code) {\n",
       "                             nbb_cells[i].set_text(nbb_formatted_code);\n",
       "                        }\n",
       "                        break;\n",
       "                    }\n",
       "                }\n",
       "            }, 500);\n",
       "            "
      ],
      "text/plain": [
       "<IPython.core.display.Javascript object>"
      ]
     },
     "metadata": {},
     "output_type": "display_data"
    }
   ],
   "source": [
    "# Technically it's a RegressionResultsWrapper\n",
    "\n",
    "type(result_ols)"
   ]
  },
  {
   "cell_type": "markdown",
   "id": "46df78bb",
   "metadata": {},
   "source": [
    "The `RegressionResults` object contains a lot of information, so `thinkstats` provides a function that just displays the information we need for now."
   ]
  },
  {
   "cell_type": "code",
   "execution_count": 15,
   "id": "dc69b9b2",
   "metadata": {},
   "outputs": [
    {
     "data": {
      "text/html": [
       "<table class=\"simpletable\">\n",
       "<tr>\n",
       "         <td></td>           <th>coef</th>     <th>std err</th>      <th>t</th>      <th>P>|t|</th>  <th>[0.025</th>    <th>0.975]</th>  \n",
       "</tr>\n",
       "<tr>\n",
       "  <th>Intercept</th>      <td>-2535.8368</td> <td>  964.798</td> <td>   -2.628</td> <td> 0.009</td> <td>-4442.291</td> <td> -629.382</td>\n",
       "</tr>\n",
       "<tr>\n",
       "  <th>flipper_length</th> <td>   32.8317</td> <td>    5.076</td> <td>    6.468</td> <td> 0.000</td> <td>   22.801</td> <td>   42.862</td>\n",
       "</tr>\n",
       "</table>"
      ],
      "text/latex": [
       "\\begin{center}\n",
       "\\begin{tabular}{lcccccc}\n",
       "\\toprule\n",
       "                         & \\textbf{coef} & \\textbf{std err} & \\textbf{t} & \\textbf{P$> |$t$|$} & \\textbf{[0.025} & \\textbf{0.975]}  \\\\\n",
       "\\midrule\n",
       "\\textbf{Intercept}       &   -2535.8368  &      964.798     &    -2.628  &         0.009        &    -4442.291    &     -629.382     \\\\\n",
       "\\textbf{flipper\\_length} &      32.8317  &        5.076     &     6.468  &         0.000        &       22.801    &       42.862     \\\\\n",
       "\\bottomrule\n",
       "\\end{tabular}\n",
       "\\end{center}"
      ],
      "text/plain": [
       "<class 'statsmodels.iolib.table.SimpleTable'>"
      ]
     },
     "metadata": {},
     "output_type": "display_data"
    },
    {
     "data": {
      "text/html": [
       "<table class=\"simpletable\">\n",
       "<tr>\n",
       "  <td>R-squared:</td> <td>0.2192</td>\n",
       "</tr>\n",
       "</table>"
      ],
      "text/latex": [
       "\\begin{center}\n",
       "\\begin{tabular}{cc}\n",
       "\\toprule\n",
       "R-squared: & 0.2192  \\\\\n",
       "\\bottomrule\n",
       "\\end{tabular}\n",
       "\\end{center}"
      ],
      "text/plain": [
       "<class 'statsmodels.iolib.table.SimpleTable'>"
      ]
     },
     "metadata": {},
     "output_type": "display_data"
    },
    {
     "data": {
      "application/javascript": [
       "\n",
       "            setTimeout(function() {\n",
       "                var nbb_cell_id = 15;\n",
       "                var nbb_unformatted_code = \"from thinkstats import display_summary\\n\\ndisplay_summary(result_ols)\";\n",
       "                var nbb_formatted_code = \"from thinkstats import display_summary\\n\\ndisplay_summary(result_ols)\";\n",
       "                var nbb_cells = Jupyter.notebook.get_cells();\n",
       "                for (var i = 0; i < nbb_cells.length; ++i) {\n",
       "                    if (nbb_cells[i].input_prompt_number == nbb_cell_id) {\n",
       "                        if (nbb_cells[i].get_text() == nbb_unformatted_code) {\n",
       "                             nbb_cells[i].set_text(nbb_formatted_code);\n",
       "                        }\n",
       "                        break;\n",
       "                    }\n",
       "                }\n",
       "            }, 500);\n",
       "            "
      ],
      "text/plain": [
       "<IPython.core.display.Javascript object>"
      ]
     },
     "metadata": {},
     "output_type": "display_data"
    }
   ],
   "source": [
    "from thinkstats import display_summary\n",
    "\n",
    "display_summary(result_ols)"
   ]
  },
  {
   "cell_type": "markdown",
   "id": "83799398",
   "metadata": {},
   "source": [
    "The first column contains the intercept and slope, which are the **coefficients** of the model, also called parameters.\n",
    "We can confirm that they are are same as the parameters we got from `linregress`."
   ]
  },
  {
   "cell_type": "code",
   "execution_count": 16,
   "id": "f1655045",
   "metadata": {},
   "outputs": [
    {
     "data": {
      "text/plain": [
       "(-2535.8368022002514, 32.83168975115009)"
      ]
     },
     "execution_count": 16,
     "metadata": {},
     "output_type": "execute_result"
    },
    {
     "data": {
      "application/javascript": [
       "\n",
       "            setTimeout(function() {\n",
       "                var nbb_cell_id = 16;\n",
       "                var nbb_unformatted_code = \"result_linregress.intercept, result_linregress.slope\";\n",
       "                var nbb_formatted_code = \"result_linregress.intercept, result_linregress.slope\";\n",
       "                var nbb_cells = Jupyter.notebook.get_cells();\n",
       "                for (var i = 0; i < nbb_cells.length; ++i) {\n",
       "                    if (nbb_cells[i].input_prompt_number == nbb_cell_id) {\n",
       "                        if (nbb_cells[i].get_text() == nbb_unformatted_code) {\n",
       "                             nbb_cells[i].set_text(nbb_formatted_code);\n",
       "                        }\n",
       "                        break;\n",
       "                    }\n",
       "                }\n",
       "            }, 500);\n",
       "            "
      ],
      "text/plain": [
       "<IPython.core.display.Javascript object>"
      ]
     },
     "metadata": {},
     "output_type": "display_data"
    }
   ],
   "source": [
    "result_linregress.intercept, result_linregress.slope"
   ]
  },
  {
   "cell_type": "markdown",
   "id": "17921bca",
   "metadata": {},
   "source": [
    "The second column contains the standard errors of the estimates parameters -- again, they are the same as as the values we got from `linregress`."
   ]
  },
  {
   "cell_type": "code",
   "execution_count": 17,
   "id": "05152a64",
   "metadata": {},
   "outputs": [
    {
     "data": {
      "text/plain": [
       "(964.7984274994059, 5.076138407990821)"
      ]
     },
     "execution_count": 17,
     "metadata": {},
     "output_type": "execute_result"
    },
    {
     "data": {
      "application/javascript": [
       "\n",
       "            setTimeout(function() {\n",
       "                var nbb_cell_id = 17;\n",
       "                var nbb_unformatted_code = \"result_linregress.intercept_stderr, result_linregress.stderr,\";\n",
       "                var nbb_formatted_code = \"result_linregress.intercept_stderr, result_linregress.stderr,\";\n",
       "                var nbb_cells = Jupyter.notebook.get_cells();\n",
       "                for (var i = 0; i < nbb_cells.length; ++i) {\n",
       "                    if (nbb_cells[i].input_prompt_number == nbb_cell_id) {\n",
       "                        if (nbb_cells[i].get_text() == nbb_unformatted_code) {\n",
       "                             nbb_cells[i].set_text(nbb_formatted_code);\n",
       "                        }\n",
       "                        break;\n",
       "                    }\n",
       "                }\n",
       "            }, 500);\n",
       "            "
      ],
      "text/plain": [
       "<IPython.core.display.Javascript object>"
      ]
     },
     "metadata": {},
     "output_type": "display_data"
    }
   ],
   "source": [
    "result_linregress.intercept_stderr, result_linregress.stderr,"
   ]
  },
  {
   "cell_type": "markdown",
   "id": "041525fd",
   "metadata": {},
   "source": [
    "The next column report t statistics, which are used to compute p-values -- we can ignore them, because the p-values are in the next column, labeled `P<|t|`.\n",
    "The p-value for `flipper_length` is rounded down to 0, but we can display it like this."
   ]
  },
  {
   "cell_type": "code",
   "execution_count": 18,
   "id": "66e01c46",
   "metadata": {},
   "outputs": [
    {
     "data": {
      "text/plain": [
       "1.3432645947789321e-09"
      ]
     },
     "execution_count": 18,
     "metadata": {},
     "output_type": "execute_result"
    },
    {
     "data": {
      "application/javascript": [
       "\n",
       "            setTimeout(function() {\n",
       "                var nbb_cell_id = 18;\n",
       "                var nbb_unformatted_code = \"result_ols.pvalues[\\\"flipper_length\\\"]\";\n",
       "                var nbb_formatted_code = \"result_ols.pvalues[\\\"flipper_length\\\"]\";\n",
       "                var nbb_cells = Jupyter.notebook.get_cells();\n",
       "                for (var i = 0; i < nbb_cells.length; ++i) {\n",
       "                    if (nbb_cells[i].input_prompt_number == nbb_cell_id) {\n",
       "                        if (nbb_cells[i].get_text() == nbb_unformatted_code) {\n",
       "                             nbb_cells[i].set_text(nbb_formatted_code);\n",
       "                        }\n",
       "                        break;\n",
       "                    }\n",
       "                }\n",
       "            }, 500);\n",
       "            "
      ],
      "text/plain": [
       "<IPython.core.display.Javascript object>"
      ]
     },
     "metadata": {},
     "output_type": "display_data"
    }
   ],
   "source": [
    "result_ols.pvalues[\"flipper_length\"]"
   ]
  },
  {
   "cell_type": "markdown",
   "id": "3312fcfd",
   "metadata": {},
   "source": [
    "And confirm that `linregress` computed the same result."
   ]
  },
  {
   "cell_type": "code",
   "execution_count": 19,
   "id": "4f8aced0",
   "metadata": {},
   "outputs": [
    {
     "data": {
      "text/plain": [
       "1.3432645947790051e-09"
      ]
     },
     "execution_count": 19,
     "metadata": {},
     "output_type": "execute_result"
    },
    {
     "data": {
      "application/javascript": [
       "\n",
       "            setTimeout(function() {\n",
       "                var nbb_cell_id = 19;\n",
       "                var nbb_unformatted_code = \"result_linregress.pvalue\";\n",
       "                var nbb_formatted_code = \"result_linregress.pvalue\";\n",
       "                var nbb_cells = Jupyter.notebook.get_cells();\n",
       "                for (var i = 0; i < nbb_cells.length; ++i) {\n",
       "                    if (nbb_cells[i].input_prompt_number == nbb_cell_id) {\n",
       "                        if (nbb_cells[i].get_text() == nbb_unformatted_code) {\n",
       "                             nbb_cells[i].set_text(nbb_formatted_code);\n",
       "                        }\n",
       "                        break;\n",
       "                    }\n",
       "                }\n",
       "            }, 500);\n",
       "            "
      ],
      "text/plain": [
       "<IPython.core.display.Javascript object>"
      ]
     },
     "metadata": {},
     "output_type": "display_data"
    }
   ],
   "source": [
    "result_linregress.pvalue"
   ]
  },
  {
   "cell_type": "markdown",
   "id": "79bf229f",
   "metadata": {},
   "source": [
    "The p-value is very small, which means that if there were actually no relationship between weight and flipper length, it is very unlikely we would see a slope as big as the estimated value -- 32.8 grams per mm -- by chance.\n",
    "\n",
    "The last two columns, labeled `[0.025` and `0.975]`, report 95% confidence intervals for the intercept and slope.\n",
    "So the 95% CI for the slope is [22.8, 42.9]."
   ]
  },
  {
   "cell_type": "markdown",
   "id": "900c1d78",
   "metadata": {},
   "source": [
    "The last line reports the $R^2$ value of the model, which is about 0.22 -- that means we can reduce MSE by about 22% if we use flipper length to predict weight.\n",
    "\n",
    "For a simple regression $R^2$ is the correlation of the dependent and explanatory variable, $r$, squared.\n",
    "So we can compare $R^2$ computed by `ols` with $r^2$ computed by `linregress`."
   ]
  },
  {
   "cell_type": "code",
   "execution_count": 20,
   "id": "d5c858cb",
   "metadata": {},
   "outputs": [
    {
     "data": {
      "text/plain": [
       "0.21921282646854875"
      ]
     },
     "execution_count": 20,
     "metadata": {},
     "output_type": "execute_result"
    },
    {
     "data": {
      "application/javascript": [
       "\n",
       "            setTimeout(function() {\n",
       "                var nbb_cell_id = 20;\n",
       "                var nbb_unformatted_code = \"result_linregress.rvalue**2\";\n",
       "                var nbb_formatted_code = \"result_linregress.rvalue**2\";\n",
       "                var nbb_cells = Jupyter.notebook.get_cells();\n",
       "                for (var i = 0; i < nbb_cells.length; ++i) {\n",
       "                    if (nbb_cells[i].input_prompt_number == nbb_cell_id) {\n",
       "                        if (nbb_cells[i].get_text() == nbb_unformatted_code) {\n",
       "                             nbb_cells[i].set_text(nbb_formatted_code);\n",
       "                        }\n",
       "                        break;\n",
       "                    }\n",
       "                }\n",
       "            }, 500);\n",
       "            "
      ],
      "text/plain": [
       "<IPython.core.display.Javascript object>"
      ]
     },
     "metadata": {},
     "output_type": "display_data"
    }
   ],
   "source": [
    "result_linregress.rvalue**2"
   ]
  },
  {
   "cell_type": "markdown",
   "id": "a79625c3",
   "metadata": {},
   "source": [
    "Before we go on to multiple regression, let's compute one more simple regression, with `culmen_length` as the explanatory variable (the culmen is the top ridge of the bill)."
   ]
  },
  {
   "cell_type": "code",
   "execution_count": 21,
   "id": "81cb5eb2",
   "metadata": {},
   "outputs": [
    {
     "data": {
      "text/html": [
       "<table class=\"simpletable\">\n",
       "<tr>\n",
       "        <td></td>           <th>coef</th>     <th>std err</th>      <th>t</th>      <th>P>|t|</th>  <th>[0.025</th>    <th>0.975]</th>  \n",
       "</tr>\n",
       "<tr>\n",
       "  <th>Intercept</th>     <td>   34.8830</td> <td>  458.439</td> <td>    0.076</td> <td> 0.939</td> <td> -870.998</td> <td>  940.764</td>\n",
       "</tr>\n",
       "<tr>\n",
       "  <th>culmen_length</th> <td>   94.4998</td> <td>   11.790</td> <td>    8.015</td> <td> 0.000</td> <td>   71.202</td> <td>  117.798</td>\n",
       "</tr>\n",
       "</table>"
      ],
      "text/latex": [
       "\\begin{center}\n",
       "\\begin{tabular}{lcccccc}\n",
       "\\toprule\n",
       "                        & \\textbf{coef} & \\textbf{std err} & \\textbf{t} & \\textbf{P$> |$t$|$} & \\textbf{[0.025} & \\textbf{0.975]}  \\\\\n",
       "\\midrule\n",
       "\\textbf{Intercept}      &      34.8830  &      458.439     &     0.076  &         0.939        &     -870.998    &      940.764     \\\\\n",
       "\\textbf{culmen\\_length} &      94.4998  &       11.790     &     8.015  &         0.000        &       71.202    &      117.798     \\\\\n",
       "\\bottomrule\n",
       "\\end{tabular}\n",
       "\\end{center}"
      ],
      "text/plain": [
       "<class 'statsmodels.iolib.table.SimpleTable'>"
      ]
     },
     "metadata": {},
     "output_type": "display_data"
    },
    {
     "data": {
      "text/html": [
       "<table class=\"simpletable\">\n",
       "<tr>\n",
       "  <td>R-squared:</td> <td>0.3013</td>\n",
       "</tr>\n",
       "</table>"
      ],
      "text/latex": [
       "\\begin{center}\n",
       "\\begin{tabular}{cc}\n",
       "\\toprule\n",
       "R-squared: & 0.3013  \\\\\n",
       "\\bottomrule\n",
       "\\end{tabular}\n",
       "\\end{center}"
      ],
      "text/plain": [
       "<class 'statsmodels.iolib.table.SimpleTable'>"
      ]
     },
     "metadata": {},
     "output_type": "display_data"
    },
    {
     "data": {
      "application/javascript": [
       "\n",
       "            setTimeout(function() {\n",
       "                var nbb_cell_id = 21;\n",
       "                var nbb_unformatted_code = \"formula = \\\"mass ~ culmen_length\\\"\\nresult = smf.ols(formula, data=adelie).fit()\\ndisplay_summary(result)\";\n",
       "                var nbb_formatted_code = \"formula = \\\"mass ~ culmen_length\\\"\\nresult = smf.ols(formula, data=adelie).fit()\\ndisplay_summary(result)\";\n",
       "                var nbb_cells = Jupyter.notebook.get_cells();\n",
       "                for (var i = 0; i < nbb_cells.length; ++i) {\n",
       "                    if (nbb_cells[i].input_prompt_number == nbb_cell_id) {\n",
       "                        if (nbb_cells[i].get_text() == nbb_unformatted_code) {\n",
       "                             nbb_cells[i].set_text(nbb_formatted_code);\n",
       "                        }\n",
       "                        break;\n",
       "                    }\n",
       "                }\n",
       "            }, 500);\n",
       "            "
      ],
      "text/plain": [
       "<IPython.core.display.Javascript object>"
      ]
     },
     "metadata": {},
     "output_type": "display_data"
    }
   ],
   "source": [
    "formula = \"mass ~ culmen_length\"\n",
    "result = smf.ols(formula, data=adelie).fit()\n",
    "display_summary(result)"
   ]
  },
  {
   "cell_type": "markdown",
   "id": "fa273683",
   "metadata": {},
   "source": [
    "Again, the p-value of the slope is very small, which means that if there were actually no relationship between mass and culmen length, it is unlikely we would see a slope this big by chance.\n",
    "You might notice that the p-value associated with the intercept is large, but that's not a problem because we are not concerned about whether the intercept might be zero.\n",
    "In this model, the intercept is close to zero, but that's just a coincidence -- it doesn't indicate a problem with the model. \n",
    "\n",
    "The $R^2$ value for this model is about 0.30, so the reduction in MSE is a little higher if we use culmen length rather than flipper length as an explanatory variable (the $R^2$ value with flipper length is 0.22).\n",
    "\n",
    "Now, let's see what happens if we combine them."
   ]
  },
  {
   "cell_type": "markdown",
   "id": "5ce69ebd",
   "metadata": {},
   "source": [
    "## On To Multiple Regression\n",
    "\n",
    "Here's the formula for a multiple regression model where mass is a linear function of both flipper length and culmen length."
   ]
  },
  {
   "cell_type": "code",
   "execution_count": 22,
   "id": "d11da4db",
   "metadata": {},
   "outputs": [
    {
     "data": {
      "application/javascript": [
       "\n",
       "            setTimeout(function() {\n",
       "                var nbb_cell_id = 22;\n",
       "                var nbb_unformatted_code = \"formula = \\\"mass ~ flipper_length + culmen_length\\\"\";\n",
       "                var nbb_formatted_code = \"formula = \\\"mass ~ flipper_length + culmen_length\\\"\";\n",
       "                var nbb_cells = Jupyter.notebook.get_cells();\n",
       "                for (var i = 0; i < nbb_cells.length; ++i) {\n",
       "                    if (nbb_cells[i].input_prompt_number == nbb_cell_id) {\n",
       "                        if (nbb_cells[i].get_text() == nbb_unformatted_code) {\n",
       "                             nbb_cells[i].set_text(nbb_formatted_code);\n",
       "                        }\n",
       "                        break;\n",
       "                    }\n",
       "                }\n",
       "            }, 500);\n",
       "            "
      ],
      "text/plain": [
       "<IPython.core.display.Javascript object>"
      ]
     },
     "metadata": {},
     "output_type": "display_data"
    }
   ],
   "source": [
    "formula = \"mass ~ flipper_length + culmen_length\""
   ]
  },
  {
   "cell_type": "markdown",
   "id": "59de0004",
   "metadata": {},
   "source": [
    "And here is the result of fitting this model to the data."
   ]
  },
  {
   "cell_type": "code",
   "execution_count": 23,
   "id": "68f063a7",
   "metadata": {},
   "outputs": [
    {
     "data": {
      "text/html": [
       "<table class=\"simpletable\">\n",
       "<tr>\n",
       "         <td></td>           <th>coef</th>     <th>std err</th>      <th>t</th>      <th>P>|t|</th>  <th>[0.025</th>    <th>0.975]</th>  \n",
       "</tr>\n",
       "<tr>\n",
       "  <th>Intercept</th>      <td>-3573.0817</td> <td>  866.739</td> <td>   -4.122</td> <td> 0.000</td> <td>-5285.864</td> <td>-1860.299</td>\n",
       "</tr>\n",
       "<tr>\n",
       "  <th>flipper_length</th> <td>   22.7024</td> <td>    4.742</td> <td>    4.787</td> <td> 0.000</td> <td>   13.331</td> <td>   32.074</td>\n",
       "</tr>\n",
       "<tr>\n",
       "  <th>culmen_length</th>  <td>   76.3402</td> <td>   11.644</td> <td>    6.556</td> <td> 0.000</td> <td>   53.331</td> <td>   99.350</td>\n",
       "</tr>\n",
       "</table>"
      ],
      "text/latex": [
       "\\begin{center}\n",
       "\\begin{tabular}{lcccccc}\n",
       "\\toprule\n",
       "                         & \\textbf{coef} & \\textbf{std err} & \\textbf{t} & \\textbf{P$> |$t$|$} & \\textbf{[0.025} & \\textbf{0.975]}  \\\\\n",
       "\\midrule\n",
       "\\textbf{Intercept}       &   -3573.0817  &      866.739     &    -4.122  &         0.000        &    -5285.864    &    -1860.299     \\\\\n",
       "\\textbf{flipper\\_length} &      22.7024  &        4.742     &     4.787  &         0.000        &       13.331    &       32.074     \\\\\n",
       "\\textbf{culmen\\_length}  &      76.3402  &       11.644     &     6.556  &         0.000        &       53.331    &       99.350     \\\\\n",
       "\\bottomrule\n",
       "\\end{tabular}\n",
       "\\end{center}"
      ],
      "text/plain": [
       "<class 'statsmodels.iolib.table.SimpleTable'>"
      ]
     },
     "metadata": {},
     "output_type": "display_data"
    },
    {
     "data": {
      "text/html": [
       "<table class=\"simpletable\">\n",
       "<tr>\n",
       "  <td>R-squared:</td> <td>0.3949</td>\n",
       "</tr>\n",
       "</table>"
      ],
      "text/latex": [
       "\\begin{center}\n",
       "\\begin{tabular}{cc}\n",
       "\\toprule\n",
       "R-squared: & 0.3949  \\\\\n",
       "\\bottomrule\n",
       "\\end{tabular}\n",
       "\\end{center}"
      ],
      "text/plain": [
       "<class 'statsmodels.iolib.table.SimpleTable'>"
      ]
     },
     "metadata": {},
     "output_type": "display_data"
    },
    {
     "data": {
      "application/javascript": [
       "\n",
       "            setTimeout(function() {\n",
       "                var nbb_cell_id = 23;\n",
       "                var nbb_unformatted_code = \"result = smf.ols(formula, data=adelie).fit()\\ndisplay_summary(result)\";\n",
       "                var nbb_formatted_code = \"result = smf.ols(formula, data=adelie).fit()\\ndisplay_summary(result)\";\n",
       "                var nbb_cells = Jupyter.notebook.get_cells();\n",
       "                for (var i = 0; i < nbb_cells.length; ++i) {\n",
       "                    if (nbb_cells[i].input_prompt_number == nbb_cell_id) {\n",
       "                        if (nbb_cells[i].get_text() == nbb_unformatted_code) {\n",
       "                             nbb_cells[i].set_text(nbb_formatted_code);\n",
       "                        }\n",
       "                        break;\n",
       "                    }\n",
       "                }\n",
       "            }, 500);\n",
       "            "
      ],
      "text/plain": [
       "<IPython.core.display.Javascript object>"
      ]
     },
     "metadata": {},
     "output_type": "display_data"
    }
   ],
   "source": [
    "result = smf.ols(formula, data=adelie).fit()\n",
    "display_summary(result)"
   ]
  },
  {
   "cell_type": "markdown",
   "id": "2ea18102",
   "metadata": {},
   "source": [
    "This model has three coefficients, an intercept and two slopes.\n",
    "The slope associated with flipper length is 22.7, which means we expect a penguin with a longer flipper, by one millimeter, to weight more, by 22.7 grams -- assuming that culmen length is the same.\n",
    "Similarly, we expect a penguin with a longer culmen, by one millimeter, to weight more, by 76.3 grams -- assuming that flipper length is the same.\n",
    "\n",
    "The p-values associated with both slopes are small, which means that the contribution of both explanatory variables would be unlikely to happen by chance.\n",
    "\n",
    "And the $R^2$ value is 0.39, higher than the model with only culmen length (0.30) and the model with only flipper length (0.22).\n",
    "So predictions based on both explanatory variables are better than predictions based on either one alone.\n",
    "\n",
    "But it is not as much better as we might have hoped.\n",
    "If flipper length reduces MSE by 22% and culmen length reduces it by 30%, why don't the two of them together reduce it by a total of 52%.\n",
    "The reason is that the explanatory variables are correlated with each other."
   ]
  },
  {
   "cell_type": "code",
   "execution_count": 24,
   "id": "657912df",
   "metadata": {},
   "outputs": [
    {
     "data": {
      "text/plain": [
       "0.32578471516515944"
      ]
     },
     "execution_count": 24,
     "metadata": {},
     "output_type": "execute_result"
    },
    {
     "data": {
      "application/javascript": [
       "\n",
       "            setTimeout(function() {\n",
       "                var nbb_cell_id = 24;\n",
       "                var nbb_unformatted_code = \"from thinkstats import corrcoef\\n\\ncorrcoef(adelie, \\\"flipper_length\\\", \\\"culmen_length\\\")\";\n",
       "                var nbb_formatted_code = \"from thinkstats import corrcoef\\n\\ncorrcoef(adelie, \\\"flipper_length\\\", \\\"culmen_length\\\")\";\n",
       "                var nbb_cells = Jupyter.notebook.get_cells();\n",
       "                for (var i = 0; i < nbb_cells.length; ++i) {\n",
       "                    if (nbb_cells[i].input_prompt_number == nbb_cell_id) {\n",
       "                        if (nbb_cells[i].get_text() == nbb_unformatted_code) {\n",
       "                             nbb_cells[i].set_text(nbb_formatted_code);\n",
       "                        }\n",
       "                        break;\n",
       "                    }\n",
       "                }\n",
       "            }, 500);\n",
       "            "
      ],
      "text/plain": [
       "<IPython.core.display.Javascript object>"
      ]
     },
     "metadata": {},
     "output_type": "display_data"
    }
   ],
   "source": [
    "from thinkstats import corrcoef\n",
    "\n",
    "corrcoef(adelie, \"flipper_length\", \"culmen_length\")"
   ]
  },
  {
   "cell_type": "markdown",
   "id": "c8bd172b",
   "metadata": {},
   "source": [
    "A penguin with a longer flipper also has a longer culmen, on average.\n",
    "The explanatory variables contain some information about each other, which means that they contain some of the same information about the dependent variable.\n",
    "When we add an explanatory variable to the model, the improvement in $R^2$ reflects only the new information provided by the new variable.\n",
    "\n",
    "We see the same pattern if we add culmen depth as a third explanatory variable."
   ]
  },
  {
   "cell_type": "code",
   "execution_count": 25,
   "id": "8d274c32",
   "metadata": {},
   "outputs": [
    {
     "data": {
      "text/html": [
       "<table class=\"simpletable\">\n",
       "<tr>\n",
       "         <td></td>           <th>coef</th>     <th>std err</th>      <th>t</th>      <th>P>|t|</th>  <th>[0.025</th>    <th>0.975]</th>  \n",
       "</tr>\n",
       "<tr>\n",
       "  <th>Intercept</th>      <td>-4341.3019</td> <td>  795.117</td> <td>   -5.460</td> <td> 0.000</td> <td>-5912.639</td> <td>-2769.964</td>\n",
       "</tr>\n",
       "<tr>\n",
       "  <th>flipper_length</th> <td>   17.4215</td> <td>    4.385</td> <td>    3.973</td> <td> 0.000</td> <td>    8.756</td> <td>   26.087</td>\n",
       "</tr>\n",
       "<tr>\n",
       "  <th>culmen_length</th>  <td>   55.3676</td> <td>   11.133</td> <td>    4.973</td> <td> 0.000</td> <td>   33.366</td> <td>   77.369</td>\n",
       "</tr>\n",
       "<tr>\n",
       "  <th>culmen_depth</th>   <td>  140.8946</td> <td>   24.216</td> <td>    5.818</td> <td> 0.000</td> <td>   93.037</td> <td>  188.752</td>\n",
       "</tr>\n",
       "</table>"
      ],
      "text/latex": [
       "\\begin{center}\n",
       "\\begin{tabular}{lcccccc}\n",
       "\\toprule\n",
       "                         & \\textbf{coef} & \\textbf{std err} & \\textbf{t} & \\textbf{P$> |$t$|$} & \\textbf{[0.025} & \\textbf{0.975]}  \\\\\n",
       "\\midrule\n",
       "\\textbf{Intercept}       &   -4341.3019  &      795.117     &    -5.460  &         0.000        &    -5912.639    &    -2769.964     \\\\\n",
       "\\textbf{flipper\\_length} &      17.4215  &        4.385     &     3.973  &         0.000        &        8.756    &       26.087     \\\\\n",
       "\\textbf{culmen\\_length}  &      55.3676  &       11.133     &     4.973  &         0.000        &       33.366    &       77.369     \\\\\n",
       "\\textbf{culmen\\_depth}   &     140.8946  &       24.216     &     5.818  &         0.000        &       93.037    &      188.752     \\\\\n",
       "\\bottomrule\n",
       "\\end{tabular}\n",
       "\\end{center}"
      ],
      "text/plain": [
       "<class 'statsmodels.iolib.table.SimpleTable'>"
      ]
     },
     "metadata": {},
     "output_type": "display_data"
    },
    {
     "data": {
      "text/html": [
       "<table class=\"simpletable\">\n",
       "<tr>\n",
       "  <td>R-squared:</td> <td>0.5082</td>\n",
       "</tr>\n",
       "</table>"
      ],
      "text/latex": [
       "\\begin{center}\n",
       "\\begin{tabular}{cc}\n",
       "\\toprule\n",
       "R-squared: & 0.5082  \\\\\n",
       "\\bottomrule\n",
       "\\end{tabular}\n",
       "\\end{center}"
      ],
      "text/plain": [
       "<class 'statsmodels.iolib.table.SimpleTable'>"
      ]
     },
     "metadata": {},
     "output_type": "display_data"
    },
    {
     "data": {
      "application/javascript": [
       "\n",
       "            setTimeout(function() {\n",
       "                var nbb_cell_id = 25;\n",
       "                var nbb_unformatted_code = \"formula = \\\"mass ~ flipper_length + culmen_length + culmen_depth\\\"\\nresult = smf.ols(formula, data=adelie).fit()\\ndisplay_summary(result)\";\n",
       "                var nbb_formatted_code = \"formula = \\\"mass ~ flipper_length + culmen_length + culmen_depth\\\"\\nresult = smf.ols(formula, data=adelie).fit()\\ndisplay_summary(result)\";\n",
       "                var nbb_cells = Jupyter.notebook.get_cells();\n",
       "                for (var i = 0; i < nbb_cells.length; ++i) {\n",
       "                    if (nbb_cells[i].input_prompt_number == nbb_cell_id) {\n",
       "                        if (nbb_cells[i].get_text() == nbb_unformatted_code) {\n",
       "                             nbb_cells[i].set_text(nbb_formatted_code);\n",
       "                        }\n",
       "                        break;\n",
       "                    }\n",
       "                }\n",
       "            }, 500);\n",
       "            "
      ],
      "text/plain": [
       "<IPython.core.display.Javascript object>"
      ]
     },
     "metadata": {},
     "output_type": "display_data"
    }
   ],
   "source": [
    "formula = \"mass ~ flipper_length + culmen_length + culmen_depth\"\n",
    "result = smf.ols(formula, data=adelie).fit()\n",
    "display_summary(result)"
   ]
  },
  {
   "cell_type": "markdown",
   "id": "35134365",
   "metadata": {},
   "source": [
    "This model has four coefficients.\n",
    "All of the p-values are small, which means that the contribution of each explanatory variable would be unlikely to happen by chance.\n",
    "And the $R^2$ value is about 0.51, somewhat better than the previous model with two explanatory variables (0.39), and better than either model with a single variable (0.22 and 0.30).\n",
    "\n",
    "But again, the incremental improvement is smaller than we might have hoped, because culmen depth is correlated with the other two measurements."
   ]
  },
  {
   "cell_type": "code",
   "execution_count": 26,
   "id": "f12b5e69",
   "metadata": {},
   "outputs": [
    {
     "data": {
      "text/plain": [
       "[0.30762017939668534, 0.39149169183587634]"
      ]
     },
     "execution_count": 26,
     "metadata": {},
     "output_type": "execute_result"
    },
    {
     "data": {
      "application/javascript": [
       "\n",
       "            setTimeout(function() {\n",
       "                var nbb_cell_id = 26;\n",
       "                var nbb_unformatted_code = \"[\\n    corrcoef(adelie, \\\"culmen_depth\\\", \\\"flipper_length\\\"),\\n    corrcoef(adelie, \\\"culmen_depth\\\", \\\"culmen_length\\\"),\\n]\";\n",
       "                var nbb_formatted_code = \"[\\n    corrcoef(adelie, \\\"culmen_depth\\\", \\\"flipper_length\\\"),\\n    corrcoef(adelie, \\\"culmen_depth\\\", \\\"culmen_length\\\"),\\n]\";\n",
       "                var nbb_cells = Jupyter.notebook.get_cells();\n",
       "                for (var i = 0; i < nbb_cells.length; ++i) {\n",
       "                    if (nbb_cells[i].input_prompt_number == nbb_cell_id) {\n",
       "                        if (nbb_cells[i].get_text() == nbb_unformatted_code) {\n",
       "                             nbb_cells[i].set_text(nbb_formatted_code);\n",
       "                        }\n",
       "                        break;\n",
       "                    }\n",
       "                }\n",
       "            }, 500);\n",
       "            "
      ],
      "text/plain": [
       "<IPython.core.display.Javascript object>"
      ]
     },
     "metadata": {},
     "output_type": "display_data"
    }
   ],
   "source": [
    "[\n",
    "    corrcoef(adelie, \"culmen_depth\", \"flipper_length\"),\n",
    "    corrcoef(adelie, \"culmen_depth\", \"culmen_length\"),\n",
    "]"
   ]
  },
  {
   "cell_type": "markdown",
   "id": "782d56de",
   "metadata": {},
   "source": [
    "This example demonstrates a common use of multiple regression, combining multiple explanatory variables to make better predictions.\n",
    "Another common use is to quantify the contribution of one set of variables while controlling for the contribution of another set."
   ]
  },
  {
   "cell_type": "markdown",
   "id": "f24f9329",
   "metadata": {},
   "source": [
    "## Control Variables\n",
    "\n",
    "In Section <<section_comparing_cdfs>> we saw that first babies are lighter than other babies, on average.\n",
    "And in Section <<section_test_correlation>> we saw that birth weight is correlated with the mother's age -- older mothers have heavier babies on average.\n",
    "\n",
    "These results might be related.\n",
    "If mothers of first babies are younger than mothers of other babies -- which seems likely -- that might explain why their babies are younger.\n",
    "We can use multiple regression to test this conjecture, by estimating the difference in birth weight between first babies and others while controlling for the mothers' ages."
   ]
  },
  {
   "cell_type": "markdown",
   "id": "c242a31c",
   "metadata": {
    "tags": [
     "remove-print"
    ]
   },
   "source": [
    "The following cells download the data and install `statadict`, which we need to read the data."
   ]
  },
  {
   "cell_type": "code",
   "execution_count": 27,
   "id": "d7f0275f",
   "metadata": {
    "tags": [
     "remove-print"
    ]
   },
   "outputs": [
    {
     "data": {
      "application/javascript": [
       "\n",
       "            setTimeout(function() {\n",
       "                var nbb_cell_id = 27;\n",
       "                var nbb_unformatted_code = \"download(\\\"https://github.com/AllenDowney/ThinkStats/raw/v3/nb/nsfg.py\\\")\\ndownload(\\\"https://github.com/AllenDowney/ThinkStats/raw/v3/data/2002FemPreg.dct\\\")\\ndownload(\\\"https://github.com/AllenDowney/ThinkStats/raw/v3/data/2002FemPreg.dat.gz\\\")\";\n",
       "                var nbb_formatted_code = \"download(\\\"https://github.com/AllenDowney/ThinkStats/raw/v3/nb/nsfg.py\\\")\\ndownload(\\\"https://github.com/AllenDowney/ThinkStats/raw/v3/data/2002FemPreg.dct\\\")\\ndownload(\\\"https://github.com/AllenDowney/ThinkStats/raw/v3/data/2002FemPreg.dat.gz\\\")\";\n",
       "                var nbb_cells = Jupyter.notebook.get_cells();\n",
       "                for (var i = 0; i < nbb_cells.length; ++i) {\n",
       "                    if (nbb_cells[i].input_prompt_number == nbb_cell_id) {\n",
       "                        if (nbb_cells[i].get_text() == nbb_unformatted_code) {\n",
       "                             nbb_cells[i].set_text(nbb_formatted_code);\n",
       "                        }\n",
       "                        break;\n",
       "                    }\n",
       "                }\n",
       "            }, 500);\n",
       "            "
      ],
      "text/plain": [
       "<IPython.core.display.Javascript object>"
      ]
     },
     "metadata": {},
     "output_type": "display_data"
    }
   ],
   "source": [
    "download(\"https://github.com/AllenDowney/ThinkStats/raw/v3/nb/nsfg.py\")\n",
    "download(\"https://github.com/AllenDowney/ThinkStats/raw/v3/data/2002FemPreg.dct\")\n",
    "download(\"https://github.com/AllenDowney/ThinkStats/raw/v3/data/2002FemPreg.dat.gz\")"
   ]
  },
  {
   "cell_type": "code",
   "execution_count": 28,
   "id": "c6328caf",
   "metadata": {
    "tags": [
     "remove-print"
    ]
   },
   "outputs": [
    {
     "data": {
      "application/javascript": [
       "\n",
       "            setTimeout(function() {\n",
       "                var nbb_cell_id = 28;\n",
       "                var nbb_unformatted_code = \"try:\\n    import statadict\\nexcept ImportError:\\n    !pip install statadict\";\n",
       "                var nbb_formatted_code = \"try:\\n    import statadict\\nexcept ImportError:\\n    !pip install statadict\";\n",
       "                var nbb_cells = Jupyter.notebook.get_cells();\n",
       "                for (var i = 0; i < nbb_cells.length; ++i) {\n",
       "                    if (nbb_cells[i].input_prompt_number == nbb_cell_id) {\n",
       "                        if (nbb_cells[i].get_text() == nbb_unformatted_code) {\n",
       "                             nbb_cells[i].set_text(nbb_formatted_code);\n",
       "                        }\n",
       "                        break;\n",
       "                    }\n",
       "                }\n",
       "            }, 500);\n",
       "            "
      ],
      "text/plain": [
       "<IPython.core.display.Javascript object>"
      ]
     },
     "metadata": {},
     "output_type": "display_data"
    }
   ],
   "source": [
    "try:\n",
    "    import statadict\n",
    "except ImportError:\n",
    "    !pip install statadict"
   ]
  },
  {
   "cell_type": "markdown",
   "id": "39692bf9",
   "metadata": {},
   "source": [
    "We can use `get_nsfg_groups` to read the NSFG data, select live births, and group live births into first babies and others."
   ]
  },
  {
   "cell_type": "code",
   "execution_count": 29,
   "id": "749b75c7",
   "metadata": {},
   "outputs": [
    {
     "data": {
      "application/javascript": [
       "\n",
       "            setTimeout(function() {\n",
       "                var nbb_cell_id = 29;\n",
       "                var nbb_unformatted_code = \"from nsfg import get_nsfg_groups\\n\\nlive, firsts, others = get_nsfg_groups()\";\n",
       "                var nbb_formatted_code = \"from nsfg import get_nsfg_groups\\n\\nlive, firsts, others = get_nsfg_groups()\";\n",
       "                var nbb_cells = Jupyter.notebook.get_cells();\n",
       "                for (var i = 0; i < nbb_cells.length; ++i) {\n",
       "                    if (nbb_cells[i].input_prompt_number == nbb_cell_id) {\n",
       "                        if (nbb_cells[i].get_text() == nbb_unformatted_code) {\n",
       "                             nbb_cells[i].set_text(nbb_formatted_code);\n",
       "                        }\n",
       "                        break;\n",
       "                    }\n",
       "                }\n",
       "            }, 500);\n",
       "            "
      ],
      "text/plain": [
       "<IPython.core.display.Javascript object>"
      ]
     },
     "metadata": {},
     "output_type": "display_data"
    }
   ],
   "source": [
    "from nsfg import get_nsfg_groups\n",
    "\n",
    "live, firsts, others = get_nsfg_groups()"
   ]
  },
  {
   "cell_type": "markdown",
   "id": "ee459af7",
   "metadata": {},
   "source": [
    "We'll use `dropna` to select the rows with valid birth weights, birth order, and mother's ages."
   ]
  },
  {
   "cell_type": "code",
   "execution_count": 30,
   "id": "bf9e310e",
   "metadata": {},
   "outputs": [
    {
     "data": {
      "application/javascript": [
       "\n",
       "            setTimeout(function() {\n",
       "                var nbb_cell_id = 30;\n",
       "                var nbb_unformatted_code = \"valid = live.dropna(subset=[\\\"agepreg\\\", \\\"birthord\\\", \\\"totalwgt_lb\\\"]).copy()\";\n",
       "                var nbb_formatted_code = \"valid = live.dropna(subset=[\\\"agepreg\\\", \\\"birthord\\\", \\\"totalwgt_lb\\\"]).copy()\";\n",
       "                var nbb_cells = Jupyter.notebook.get_cells();\n",
       "                for (var i = 0; i < nbb_cells.length; ++i) {\n",
       "                    if (nbb_cells[i].input_prompt_number == nbb_cell_id) {\n",
       "                        if (nbb_cells[i].get_text() == nbb_unformatted_code) {\n",
       "                             nbb_cells[i].set_text(nbb_formatted_code);\n",
       "                        }\n",
       "                        break;\n",
       "                    }\n",
       "                }\n",
       "            }, 500);\n",
       "            "
      ],
      "text/plain": [
       "<IPython.core.display.Javascript object>"
      ]
     },
     "metadata": {},
     "output_type": "display_data"
    }
   ],
   "source": [
    "valid = live.dropna(subset=[\"agepreg\", \"birthord\", \"totalwgt_lb\"]).copy()"
   ]
  },
  {
   "cell_type": "markdown",
   "id": "766538f8",
   "metadata": {},
   "source": [
    "Now we can use `StatsModels` to confirm that birth weight is correlated with age, and to estimate the slope -- assuming that it is a linear relationship."
   ]
  },
  {
   "cell_type": "code",
   "execution_count": 31,
   "id": "9cc0b70e",
   "metadata": {},
   "outputs": [
    {
     "data": {
      "text/html": [
       "<table class=\"simpletable\">\n",
       "<tr>\n",
       "      <td></td>         <th>coef</th>     <th>std err</th>      <th>t</th>      <th>P>|t|</th>  <th>[0.025</th>    <th>0.975]</th>  \n",
       "</tr>\n",
       "<tr>\n",
       "  <th>Intercept</th> <td>    6.8304</td> <td>    0.068</td> <td>  100.470</td> <td> 0.000</td> <td>    6.697</td> <td>    6.964</td>\n",
       "</tr>\n",
       "<tr>\n",
       "  <th>agepreg</th>   <td>    0.0175</td> <td>    0.003</td> <td>    6.559</td> <td> 0.000</td> <td>    0.012</td> <td>    0.023</td>\n",
       "</tr>\n",
       "</table>"
      ],
      "text/latex": [
       "\\begin{center}\n",
       "\\begin{tabular}{lcccccc}\n",
       "\\toprule\n",
       "                   & \\textbf{coef} & \\textbf{std err} & \\textbf{t} & \\textbf{P$> |$t$|$} & \\textbf{[0.025} & \\textbf{0.975]}  \\\\\n",
       "\\midrule\n",
       "\\textbf{Intercept} &       6.8304  &        0.068     &   100.470  &         0.000        &        6.697    &        6.964     \\\\\n",
       "\\textbf{agepreg}   &       0.0175  &        0.003     &     6.559  &         0.000        &        0.012    &        0.023     \\\\\n",
       "\\bottomrule\n",
       "\\end{tabular}\n",
       "\\end{center}"
      ],
      "text/plain": [
       "<class 'statsmodels.iolib.table.SimpleTable'>"
      ]
     },
     "metadata": {},
     "output_type": "display_data"
    },
    {
     "data": {
      "text/html": [
       "<table class=\"simpletable\">\n",
       "<tr>\n",
       "  <td>R-squared:</td> <td>0.004738</td>\n",
       "</tr>\n",
       "</table>"
      ],
      "text/latex": [
       "\\begin{center}\n",
       "\\begin{tabular}{cc}\n",
       "\\toprule\n",
       "R-squared: & 0.004738  \\\\\n",
       "\\bottomrule\n",
       "\\end{tabular}\n",
       "\\end{center}"
      ],
      "text/plain": [
       "<class 'statsmodels.iolib.table.SimpleTable'>"
      ]
     },
     "metadata": {},
     "output_type": "display_data"
    },
    {
     "data": {
      "application/javascript": [
       "\n",
       "            setTimeout(function() {\n",
       "                var nbb_cell_id = 31;\n",
       "                var nbb_unformatted_code = \"formula = \\\"totalwgt_lb ~ agepreg\\\"\\nresult_age = smf.ols(formula, data=valid).fit()\\ndisplay_summary(result_age)\";\n",
       "                var nbb_formatted_code = \"formula = \\\"totalwgt_lb ~ agepreg\\\"\\nresult_age = smf.ols(formula, data=valid).fit()\\ndisplay_summary(result_age)\";\n",
       "                var nbb_cells = Jupyter.notebook.get_cells();\n",
       "                for (var i = 0; i < nbb_cells.length; ++i) {\n",
       "                    if (nbb_cells[i].input_prompt_number == nbb_cell_id) {\n",
       "                        if (nbb_cells[i].get_text() == nbb_unformatted_code) {\n",
       "                             nbb_cells[i].set_text(nbb_formatted_code);\n",
       "                        }\n",
       "                        break;\n",
       "                    }\n",
       "                }\n",
       "            }, 500);\n",
       "            "
      ],
      "text/plain": [
       "<IPython.core.display.Javascript object>"
      ]
     },
     "metadata": {},
     "output_type": "display_data"
    }
   ],
   "source": [
    "formula = \"totalwgt_lb ~ agepreg\"\n",
    "result_age = smf.ols(formula, data=valid).fit()\n",
    "display_summary(result_age)"
   ]
  },
  {
   "cell_type": "markdown",
   "id": "577fb2c5",
   "metadata": {},
   "source": [
    "The slope is small, only 0.0175 pounds per year.\n",
    "So if two mothers differ in age by a decade, we expect their babies to differ in weight by 0.175 pounds.\n",
    "But the p-value is small, so this slope -- small as it is -- would be unlikely if there were actually no relationship.\n",
    "\n",
    "The $R^2$ value is also small, which means that mother's age is not very useful as a predictive variable.\n",
    "If we know the mother's age, our ability to predict the baby's weight is hardly improved at all.\n",
    "\n",
    "This combination of a small p-value and a small $R^2$ value is a common source of confusion, because it seems contradictory -- if the relationship is statistically significant, it seems like it should be predictive.\n",
    "But this example shows that there is no contradiction -- a relationship can be statistically significant but not very useful for prediction.\n",
    "\n",
    "If we visualize the results, we'll see why.\n",
    "First let's select the relevant columns."
   ]
  },
  {
   "cell_type": "code",
   "execution_count": 32,
   "id": "50251a38",
   "metadata": {},
   "outputs": [
    {
     "data": {
      "application/javascript": [
       "\n",
       "            setTimeout(function() {\n",
       "                var nbb_cell_id = 32;\n",
       "                var nbb_unformatted_code = \"totalwgt = valid[\\\"totalwgt_lb\\\"]\\nagepreg = valid[\\\"agepreg\\\"]\";\n",
       "                var nbb_formatted_code = \"totalwgt = valid[\\\"totalwgt_lb\\\"]\\nagepreg = valid[\\\"agepreg\\\"]\";\n",
       "                var nbb_cells = Jupyter.notebook.get_cells();\n",
       "                for (var i = 0; i < nbb_cells.length; ++i) {\n",
       "                    if (nbb_cells[i].input_prompt_number == nbb_cell_id) {\n",
       "                        if (nbb_cells[i].get_text() == nbb_unformatted_code) {\n",
       "                             nbb_cells[i].set_text(nbb_formatted_code);\n",
       "                        }\n",
       "                        break;\n",
       "                    }\n",
       "                }\n",
       "            }, 500);\n",
       "            "
      ],
      "text/plain": [
       "<IPython.core.display.Javascript object>"
      ]
     },
     "metadata": {},
     "output_type": "display_data"
    }
   ],
   "source": [
    "totalwgt = valid[\"totalwgt_lb\"]\n",
    "agepreg = valid[\"agepreg\"]"
   ]
  },
  {
   "cell_type": "markdown",
   "id": "98c664a9",
   "metadata": {},
   "source": [
    "To compute the fitted line, we could extract the intercept and slope from `result_age`, but we don't have to.\n",
    "The `RegressionResults` object provides a `predict` method we can use instead.\n",
    "First we'll compute a range of values for `agepreg`."
   ]
  },
  {
   "cell_type": "code",
   "execution_count": 33,
   "id": "5356fcd5",
   "metadata": {},
   "outputs": [
    {
     "data": {
      "application/javascript": [
       "\n",
       "            setTimeout(function() {\n",
       "                var nbb_cell_id = 33;\n",
       "                var nbb_unformatted_code = \"agepreg_range = np.linspace(agepreg.min(), agepreg.max())\";\n",
       "                var nbb_formatted_code = \"agepreg_range = np.linspace(agepreg.min(), agepreg.max())\";\n",
       "                var nbb_cells = Jupyter.notebook.get_cells();\n",
       "                for (var i = 0; i < nbb_cells.length; ++i) {\n",
       "                    if (nbb_cells[i].input_prompt_number == nbb_cell_id) {\n",
       "                        if (nbb_cells[i].get_text() == nbb_unformatted_code) {\n",
       "                             nbb_cells[i].set_text(nbb_formatted_code);\n",
       "                        }\n",
       "                        break;\n",
       "                    }\n",
       "                }\n",
       "            }, 500);\n",
       "            "
      ],
      "text/plain": [
       "<IPython.core.display.Javascript object>"
      ]
     },
     "metadata": {},
     "output_type": "display_data"
    }
   ],
   "source": [
    "agepreg_range = np.linspace(agepreg.min(), agepreg.max())"
   ]
  },
  {
   "cell_type": "markdown",
   "id": "c01d5264",
   "metadata": {},
   "source": [
    "To use predict, we have to put values for the explanatory variables in a `DataFrame`. "
   ]
  },
  {
   "cell_type": "code",
   "execution_count": 34,
   "id": "ad3f2c5f",
   "metadata": {},
   "outputs": [
    {
     "data": {
      "application/javascript": [
       "\n",
       "            setTimeout(function() {\n",
       "                var nbb_cell_id = 34;\n",
       "                var nbb_unformatted_code = \"df = pd.DataFrame({\\\"agepreg\\\": agepreg_range})\";\n",
       "                var nbb_formatted_code = \"df = pd.DataFrame({\\\"agepreg\\\": agepreg_range})\";\n",
       "                var nbb_cells = Jupyter.notebook.get_cells();\n",
       "                for (var i = 0; i < nbb_cells.length; ++i) {\n",
       "                    if (nbb_cells[i].input_prompt_number == nbb_cell_id) {\n",
       "                        if (nbb_cells[i].get_text() == nbb_unformatted_code) {\n",
       "                             nbb_cells[i].set_text(nbb_formatted_code);\n",
       "                        }\n",
       "                        break;\n",
       "                    }\n",
       "                }\n",
       "            }, 500);\n",
       "            "
      ],
      "text/plain": [
       "<IPython.core.display.Javascript object>"
      ]
     },
     "metadata": {},
     "output_type": "display_data"
    }
   ],
   "source": [
    "df = pd.DataFrame({\"agepreg\": agepreg_range})"
   ]
  },
  {
   "cell_type": "markdown",
   "id": "3aeba490",
   "metadata": {},
   "source": [
    "The columns in the `DataFrame` have to have the same names as the explanatory variables.\n",
    "Then we can pass it to `predict`."
   ]
  },
  {
   "cell_type": "code",
   "execution_count": 35,
   "id": "3f043955",
   "metadata": {},
   "outputs": [
    {
     "data": {
      "application/javascript": [
       "\n",
       "            setTimeout(function() {\n",
       "                var nbb_cell_id = 35;\n",
       "                var nbb_unformatted_code = \"fit_ys = result_age.predict(df)\";\n",
       "                var nbb_formatted_code = \"fit_ys = result_age.predict(df)\";\n",
       "                var nbb_cells = Jupyter.notebook.get_cells();\n",
       "                for (var i = 0; i < nbb_cells.length; ++i) {\n",
       "                    if (nbb_cells[i].input_prompt_number == nbb_cell_id) {\n",
       "                        if (nbb_cells[i].get_text() == nbb_unformatted_code) {\n",
       "                             nbb_cells[i].set_text(nbb_formatted_code);\n",
       "                        }\n",
       "                        break;\n",
       "                    }\n",
       "                }\n",
       "            }, 500);\n",
       "            "
      ],
      "text/plain": [
       "<IPython.core.display.Javascript object>"
      ]
     },
     "metadata": {},
     "output_type": "display_data"
    }
   ],
   "source": [
    "fit_ys = result_age.predict(df)"
   ]
  },
  {
   "cell_type": "markdown",
   "id": "60aabcb7",
   "metadata": {},
   "source": [
    "The result is a `Series` containing the predicted values.\n",
    "Here's what they look like, along with a scatter plot of the data."
   ]
  },
  {
   "cell_type": "code",
   "execution_count": 36,
   "id": "f4b5458c",
   "metadata": {},
   "outputs": [
    {
     "data": {
      "image/png": "[encoded data removed]",
      "text/plain": [
       "<Figure size 450x262.5 with 1 Axes>"
      ]
     },
     "metadata": {},
     "output_type": "display_data"
    },
    {
     "data": {
      "application/javascript": [
       "\n",
       "            setTimeout(function() {\n",
       "                var nbb_cell_id = 36;\n",
       "                var nbb_unformatted_code = \"plt.scatter(agepreg, totalwgt, marker=\\\".\\\", alpha=0.1, s=5)\\nplt.plot(agepreg_range, fit_ys, color=\\\"C1\\\", label=\\\"Linear model\\\")\\n\\ndecorate(xlabel=\\\"Maternal Age\\\", ylabel=\\\"Birth weight (pounds)\\\")\";\n",
       "                var nbb_formatted_code = \"plt.scatter(agepreg, totalwgt, marker=\\\".\\\", alpha=0.1, s=5)\\nplt.plot(agepreg_range, fit_ys, color=\\\"C1\\\", label=\\\"Linear model\\\")\\n\\ndecorate(xlabel=\\\"Maternal Age\\\", ylabel=\\\"Birth weight (pounds)\\\")\";\n",
       "                var nbb_cells = Jupyter.notebook.get_cells();\n",
       "                for (var i = 0; i < nbb_cells.length; ++i) {\n",
       "                    if (nbb_cells[i].input_prompt_number == nbb_cell_id) {\n",
       "                        if (nbb_cells[i].get_text() == nbb_unformatted_code) {\n",
       "                             nbb_cells[i].set_text(nbb_formatted_code);\n",
       "                        }\n",
       "                        break;\n",
       "                    }\n",
       "                }\n",
       "            }, 500);\n",
       "            "
      ],
      "text/plain": [
       "<IPython.core.display.Javascript object>"
      ]
     },
     "metadata": {},
     "output_type": "display_data"
    }
   ],
   "source": [
    "plt.scatter(agepreg, totalwgt, marker=\".\", alpha=0.1, s=5)\n",
    "plt.plot(agepreg_range, fit_ys, color=\"C1\", label=\"Linear model\")\n",
    "\n",
    "decorate(xlabel=\"Maternal Age\", ylabel=\"Birth weight (pounds)\")"
   ]
  },
  {
   "cell_type": "markdown",
   "id": "27160c42",
   "metadata": {},
   "source": [
    "Because the slope of the fitted line is small, we can barely see the difference in the expected birth weight between the youngest and oldest mothers.\n",
    "The variation in birth weight, at every maternal age, is much larger.\n",
    "\n",
    "Next we'll use `StatsModels` to confirm that first babies are lighter than others.\n",
    "To make that work, we'll add a column to `live`, a Boolean `Series` that is `True` for first babies and `False` for others."
   ]
  },
  {
   "cell_type": "code",
   "execution_count": 37,
   "id": "6d848517",
   "metadata": {},
   "outputs": [
    {
     "data": {
      "application/javascript": [
       "\n",
       "            setTimeout(function() {\n",
       "                var nbb_cell_id = 37;\n",
       "                var nbb_unformatted_code = \"valid[\\\"is_first\\\"] = valid[\\\"birthord\\\"] == 1\";\n",
       "                var nbb_formatted_code = \"valid[\\\"is_first\\\"] = valid[\\\"birthord\\\"] == 1\";\n",
       "                var nbb_cells = Jupyter.notebook.get_cells();\n",
       "                for (var i = 0; i < nbb_cells.length; ++i) {\n",
       "                    if (nbb_cells[i].input_prompt_number == nbb_cell_id) {\n",
       "                        if (nbb_cells[i].get_text() == nbb_unformatted_code) {\n",
       "                             nbb_cells[i].set_text(nbb_formatted_code);\n",
       "                        }\n",
       "                        break;\n",
       "                    }\n",
       "                }\n",
       "            }, 500);\n",
       "            "
      ],
      "text/plain": [
       "<IPython.core.display.Javascript object>"
      ]
     },
     "metadata": {},
     "output_type": "display_data"
    }
   ],
   "source": [
    "valid[\"is_first\"] = valid[\"birthord\"] == 1"
   ]
  },
  {
   "cell_type": "code",
   "execution_count": 38,
   "id": "2b37b8f6",
   "metadata": {
    "tags": [
     "remove-print"
    ]
   },
   "outputs": [
    {
     "data": {
      "text/plain": [
       "is_first\n",
       "False    4675\n",
       "True     4363\n",
       "Name: count, dtype: int64"
      ]
     },
     "execution_count": 38,
     "metadata": {},
     "output_type": "execute_result"
    },
    {
     "data": {
      "application/javascript": [
       "\n",
       "            setTimeout(function() {\n",
       "                var nbb_cell_id = 38;\n",
       "                var nbb_unformatted_code = \"from thinkstats import value_counts\\n\\n# check the results\\nvalue_counts(valid[\\\"is_first\\\"])\";\n",
       "                var nbb_formatted_code = \"from thinkstats import value_counts\\n\\n# check the results\\nvalue_counts(valid[\\\"is_first\\\"])\";\n",
       "                var nbb_cells = Jupyter.notebook.get_cells();\n",
       "                for (var i = 0; i < nbb_cells.length; ++i) {\n",
       "                    if (nbb_cells[i].input_prompt_number == nbb_cell_id) {\n",
       "                        if (nbb_cells[i].get_text() == nbb_unformatted_code) {\n",
       "                             nbb_cells[i].set_text(nbb_formatted_code);\n",
       "                        }\n",
       "                        break;\n",
       "                    }\n",
       "                }\n",
       "            }, 500);\n",
       "            "
      ],
      "text/plain": [
       "<IPython.core.display.Javascript object>"
      ]
     },
     "metadata": {},
     "output_type": "display_data"
    }
   ],
   "source": [
    "from thinkstats import value_counts\n",
    "\n",
    "# check the results\n",
    "value_counts(valid[\"is_first\"])"
   ]
  },
  {
   "cell_type": "markdown",
   "id": "1879ed6a",
   "metadata": {},
   "source": [
    "Here's the formula for a model with birth weight as the dependent variable and `is_first` as the explanatory variable.\n",
    "In the Patsy formula language, `C` and the parentheses around the variable name indicate that it is categorical, not numerical."
   ]
  },
  {
   "cell_type": "code",
   "execution_count": 39,
   "id": "14bb666d",
   "metadata": {},
   "outputs": [
    {
     "data": {
      "application/javascript": [
       "\n",
       "            setTimeout(function() {\n",
       "                var nbb_cell_id = 39;\n",
       "                var nbb_unformatted_code = \"formula = \\\"totalwgt_lb ~ C(is_first)\\\"\";\n",
       "                var nbb_formatted_code = \"formula = \\\"totalwgt_lb ~ C(is_first)\\\"\";\n",
       "                var nbb_cells = Jupyter.notebook.get_cells();\n",
       "                for (var i = 0; i < nbb_cells.length; ++i) {\n",
       "                    if (nbb_cells[i].input_prompt_number == nbb_cell_id) {\n",
       "                        if (nbb_cells[i].get_text() == nbb_unformatted_code) {\n",
       "                             nbb_cells[i].set_text(nbb_formatted_code);\n",
       "                        }\n",
       "                        break;\n",
       "                    }\n",
       "                }\n",
       "            }, 500);\n",
       "            "
      ],
      "text/plain": [
       "<IPython.core.display.Javascript object>"
      ]
     },
     "metadata": {},
     "output_type": "display_data"
    }
   ],
   "source": [
    "formula = \"totalwgt_lb ~ C(is_first)\""
   ]
  },
  {
   "cell_type": "markdown",
   "id": "87d84142",
   "metadata": {},
   "source": [
    "Now we can fit the model and display the results, as usual."
   ]
  },
  {
   "cell_type": "code",
   "execution_count": 40,
   "id": "16135518",
   "metadata": {},
   "outputs": [
    {
     "data": {
      "text/html": [
       "<table class=\"simpletable\">\n",
       "<tr>\n",
       "           <td></td>              <th>coef</th>     <th>std err</th>      <th>t</th>      <th>P>|t|</th>  <th>[0.025</th>    <th>0.975]</th>  \n",
       "</tr>\n",
       "<tr>\n",
       "  <th>Intercept</th>           <td>    7.3259</td> <td>    0.021</td> <td>  356.007</td> <td> 0.000</td> <td>    7.286</td> <td>    7.366</td>\n",
       "</tr>\n",
       "<tr>\n",
       "  <th>C(is_first)[T.True]</th> <td>   -0.1248</td> <td>    0.030</td> <td>   -4.212</td> <td> 0.000</td> <td>   -0.183</td> <td>   -0.067</td>\n",
       "</tr>\n",
       "</table>"
      ],
      "text/latex": [
       "\\begin{center}\n",
       "\\begin{tabular}{lcccccc}\n",
       "\\toprule\n",
       "                              & \\textbf{coef} & \\textbf{std err} & \\textbf{t} & \\textbf{P$> |$t$|$} & \\textbf{[0.025} & \\textbf{0.975]}  \\\\\n",
       "\\midrule\n",
       "\\textbf{Intercept}            &       7.3259  &        0.021     &   356.007  &         0.000        &        7.286    &        7.366     \\\\\n",
       "\\textbf{C(is\\_first)[T.True]} &      -0.1248  &        0.030     &    -4.212  &         0.000        &       -0.183    &       -0.067     \\\\\n",
       "\\bottomrule\n",
       "\\end{tabular}\n",
       "\\end{center}"
      ],
      "text/plain": [
       "<class 'statsmodels.iolib.table.SimpleTable'>"
      ]
     },
     "metadata": {},
     "output_type": "display_data"
    },
    {
     "data": {
      "text/html": [
       "<table class=\"simpletable\">\n",
       "<tr>\n",
       "  <td>R-squared:</td> <td>0.00196</td>\n",
       "</tr>\n",
       "</table>"
      ],
      "text/latex": [
       "\\begin{center}\n",
       "\\begin{tabular}{cc}\n",
       "\\toprule\n",
       "R-squared: & 0.00196  \\\\\n",
       "\\bottomrule\n",
       "\\end{tabular}\n",
       "\\end{center}"
      ],
      "text/plain": [
       "<class 'statsmodels.iolib.table.SimpleTable'>"
      ]
     },
     "metadata": {},
     "output_type": "display_data"
    },
    {
     "data": {
      "application/javascript": [
       "\n",
       "            setTimeout(function() {\n",
       "                var nbb_cell_id = 40;\n",
       "                var nbb_unformatted_code = \"result_first = smf.ols(formula, data=valid).fit()\\ndisplay_summary(result_first)\";\n",
       "                var nbb_formatted_code = \"result_first = smf.ols(formula, data=valid).fit()\\ndisplay_summary(result_first)\";\n",
       "                var nbb_cells = Jupyter.notebook.get_cells();\n",
       "                for (var i = 0; i < nbb_cells.length; ++i) {\n",
       "                    if (nbb_cells[i].input_prompt_number == nbb_cell_id) {\n",
       "                        if (nbb_cells[i].get_text() == nbb_unformatted_code) {\n",
       "                             nbb_cells[i].set_text(nbb_formatted_code);\n",
       "                        }\n",
       "                        break;\n",
       "                    }\n",
       "                }\n",
       "            }, 500);\n",
       "            "
      ],
      "text/plain": [
       "<IPython.core.display.Javascript object>"
      ]
     },
     "metadata": {},
     "output_type": "display_data"
    }
   ],
   "source": [
    "result_first = smf.ols(formula, data=valid).fit()\n",
    "display_summary(result_first)"
   ]
  },
  {
   "cell_type": "markdown",
   "id": "7ae0449c",
   "metadata": {},
   "source": [
    "In the results, the label `C(is_first)[T.True]` indicates that `is_first` is a categorical variable and the coefficient is associated with the value `True`.\n",
    "The `T` before `True` stands for \"treatment\" -- in the language of a controlled experiment, first babies are considered the treatment group and other babies are considered the reference group.\n",
    "These designations are arbitrary -- we could consider first babies to be the reference group and others to be the treatment group.\n",
    "But we need to know which is which in order to interpret the results.\n",
    "\n",
    "The intercept is about 7.3, which means that the average weight of the reference group is 7.3 pounds.\n",
    "The \"slope\" is -0.12, which means that the average weight of the treatment group -- first babies -- is 0.12 pounds lighter.\n",
    "We can check both of these results by computing them directly."
   ]
  },
  {
   "cell_type": "code",
   "execution_count": 41,
   "id": "3e6d1b88",
   "metadata": {},
   "outputs": [
    {
     "data": {
      "text/plain": [
       "7.325855614973262"
      ]
     },
     "execution_count": 41,
     "metadata": {},
     "output_type": "execute_result"
    },
    {
     "data": {
      "application/javascript": [
       "\n",
       "            setTimeout(function() {\n",
       "                var nbb_cell_id = 41;\n",
       "                var nbb_unformatted_code = \"others[\\\"totalwgt_lb\\\"].mean()\";\n",
       "                var nbb_formatted_code = \"others[\\\"totalwgt_lb\\\"].mean()\";\n",
       "                var nbb_cells = Jupyter.notebook.get_cells();\n",
       "                for (var i = 0; i < nbb_cells.length; ++i) {\n",
       "                    if (nbb_cells[i].input_prompt_number == nbb_cell_id) {\n",
       "                        if (nbb_cells[i].get_text() == nbb_unformatted_code) {\n",
       "                             nbb_cells[i].set_text(nbb_formatted_code);\n",
       "                        }\n",
       "                        break;\n",
       "                    }\n",
       "                }\n",
       "            }, 500);\n",
       "            "
      ],
      "text/plain": [
       "<IPython.core.display.Javascript object>"
      ]
     },
     "metadata": {},
     "output_type": "display_data"
    }
   ],
   "source": [
    "others[\"totalwgt_lb\"].mean()"
   ]
  },
  {
   "cell_type": "code",
   "execution_count": 42,
   "id": "4a76b734",
   "metadata": {},
   "outputs": [
    {
     "data": {
      "text/plain": [
       "-0.12476118453549034"
      ]
     },
     "execution_count": 42,
     "metadata": {},
     "output_type": "execute_result"
    },
    {
     "data": {
      "application/javascript": [
       "\n",
       "            setTimeout(function() {\n",
       "                var nbb_cell_id = 42;\n",
       "                var nbb_unformatted_code = \"diff_weight = firsts[\\\"totalwgt_lb\\\"].mean() - others[\\\"totalwgt_lb\\\"].mean()\\ndiff_weight\";\n",
       "                var nbb_formatted_code = \"diff_weight = firsts[\\\"totalwgt_lb\\\"].mean() - others[\\\"totalwgt_lb\\\"].mean()\\ndiff_weight\";\n",
       "                var nbb_cells = Jupyter.notebook.get_cells();\n",
       "                for (var i = 0; i < nbb_cells.length; ++i) {\n",
       "                    if (nbb_cells[i].input_prompt_number == nbb_cell_id) {\n",
       "                        if (nbb_cells[i].get_text() == nbb_unformatted_code) {\n",
       "                             nbb_cells[i].set_text(nbb_formatted_code);\n",
       "                        }\n",
       "                        break;\n",
       "                    }\n",
       "                }\n",
       "            }, 500);\n",
       "            "
      ],
      "text/plain": [
       "<IPython.core.display.Javascript object>"
      ]
     },
     "metadata": {},
     "output_type": "display_data"
    }
   ],
   "source": [
    "diff_weight = firsts[\"totalwgt_lb\"].mean() - others[\"totalwgt_lb\"].mean()\n",
    "diff_weight"
   ]
  },
  {
   "cell_type": "markdown",
   "id": "7f2cbc19",
   "metadata": {},
   "source": [
    "In addition to these coefficients, `StatsModels` also computes p-values, confidence intervals, and $R^2$.\n",
    "The p-value associated with first babies is small, which means that the difference between the groups is statistically significant.\n",
    "And the $R^2$ value is small, which means that if we're trying to guess the weight of a baby, it doesn't help much to know whether it is a first baby.\n",
    "\n",
    "Now let's see if it's plausible that the difference in birth weight is due to the difference in maternal age.\n",
    "On average, mothers of first babies are about 3.6 years younger than other mothers."
   ]
  },
  {
   "cell_type": "code",
   "execution_count": 43,
   "id": "5206250a",
   "metadata": {},
   "outputs": [
    {
     "data": {
      "text/plain": [
       "-3.5864347661500275"
      ]
     },
     "execution_count": 43,
     "metadata": {},
     "output_type": "execute_result"
    },
    {
     "data": {
      "application/javascript": [
       "\n",
       "            setTimeout(function() {\n",
       "                var nbb_cell_id = 43;\n",
       "                var nbb_unformatted_code = \"diff_age = firsts[\\\"agepreg\\\"].mean() - others[\\\"agepreg\\\"].mean()\\ndiff_age\";\n",
       "                var nbb_formatted_code = \"diff_age = firsts[\\\"agepreg\\\"].mean() - others[\\\"agepreg\\\"].mean()\\ndiff_age\";\n",
       "                var nbb_cells = Jupyter.notebook.get_cells();\n",
       "                for (var i = 0; i < nbb_cells.length; ++i) {\n",
       "                    if (nbb_cells[i].input_prompt_number == nbb_cell_id) {\n",
       "                        if (nbb_cells[i].get_text() == nbb_unformatted_code) {\n",
       "                             nbb_cells[i].set_text(nbb_formatted_code);\n",
       "                        }\n",
       "                        break;\n",
       "                    }\n",
       "                }\n",
       "            }, 500);\n",
       "            "
      ],
      "text/plain": [
       "<IPython.core.display.Javascript object>"
      ]
     },
     "metadata": {},
     "output_type": "display_data"
    }
   ],
   "source": [
    "diff_age = firsts[\"agepreg\"].mean() - others[\"agepreg\"].mean()\n",
    "diff_age"
   ]
  },
  {
   "cell_type": "markdown",
   "id": "23593ff3",
   "metadata": {},
   "source": [
    "And the slope of birth weight as a function of age is 0.0175 pounds per year."
   ]
  },
  {
   "cell_type": "code",
   "execution_count": 44,
   "id": "3e62d320",
   "metadata": {},
   "outputs": [
    {
     "data": {
      "text/plain": [
       "0.017453851471802638"
      ]
     },
     "execution_count": 44,
     "metadata": {},
     "output_type": "execute_result"
    },
    {
     "data": {
      "application/javascript": [
       "\n",
       "            setTimeout(function() {\n",
       "                var nbb_cell_id = 44;\n",
       "                var nbb_unformatted_code = \"slope = result_age.params[\\\"agepreg\\\"]\\nslope\";\n",
       "                var nbb_formatted_code = \"slope = result_age.params[\\\"agepreg\\\"]\\nslope\";\n",
       "                var nbb_cells = Jupyter.notebook.get_cells();\n",
       "                for (var i = 0; i < nbb_cells.length; ++i) {\n",
       "                    if (nbb_cells[i].input_prompt_number == nbb_cell_id) {\n",
       "                        if (nbb_cells[i].get_text() == nbb_unformatted_code) {\n",
       "                             nbb_cells[i].set_text(nbb_formatted_code);\n",
       "                        }\n",
       "                        break;\n",
       "                    }\n",
       "                }\n",
       "            }, 500);\n",
       "            "
      ],
      "text/plain": [
       "<IPython.core.display.Javascript object>"
      ]
     },
     "metadata": {},
     "output_type": "display_data"
    }
   ],
   "source": [
    "slope = result_age.params[\"agepreg\"]\n",
    "slope"
   ]
  },
  {
   "cell_type": "markdown",
   "id": "ad61e908",
   "metadata": {},
   "source": [
    "If we multiply the slope by the difference in ages, we get the expected difference in birth weight for first babies and others, due to mother's age."
   ]
  },
  {
   "cell_type": "code",
   "execution_count": 45,
   "id": "e65be931",
   "metadata": {},
   "outputs": [
    {
     "data": {
      "text/plain": [
       "-0.0625970997216918"
      ]
     },
     "execution_count": 45,
     "metadata": {},
     "output_type": "execute_result"
    },
    {
     "data": {
      "application/javascript": [
       "\n",
       "            setTimeout(function() {\n",
       "                var nbb_cell_id = 45;\n",
       "                var nbb_unformatted_code = \"slope * diff_age\";\n",
       "                var nbb_formatted_code = \"slope * diff_age\";\n",
       "                var nbb_cells = Jupyter.notebook.get_cells();\n",
       "                for (var i = 0; i < nbb_cells.length; ++i) {\n",
       "                    if (nbb_cells[i].input_prompt_number == nbb_cell_id) {\n",
       "                        if (nbb_cells[i].get_text() == nbb_unformatted_code) {\n",
       "                             nbb_cells[i].set_text(nbb_formatted_code);\n",
       "                        }\n",
       "                        break;\n",
       "                    }\n",
       "                }\n",
       "            }, 500);\n",
       "            "
      ],
      "text/plain": [
       "<IPython.core.display.Javascript object>"
      ]
     },
     "metadata": {},
     "output_type": "display_data"
    }
   ],
   "source": [
    "slope * diff_age"
   ]
  },
  {
   "cell_type": "markdown",
   "id": "4eee213c",
   "metadata": {},
   "source": [
    "The result is 0.063 pounds, which is about half of the observed difference.\n",
    "So it seems like the observed difference in birth weight can be partly explained by the difference in mother's age.\n",
    "\n",
    "Using multiple regression, we can estimate coefficients for maternal age and first babies at the same time."
   ]
  },
  {
   "cell_type": "code",
   "execution_count": 46,
   "id": "33340364",
   "metadata": {},
   "outputs": [
    {
     "data": {
      "text/html": [
       "<table class=\"simpletable\">\n",
       "<tr>\n",
       "           <td></td>              <th>coef</th>     <th>std err</th>      <th>t</th>      <th>P>|t|</th>  <th>[0.025</th>    <th>0.975]</th>  \n",
       "</tr>\n",
       "<tr>\n",
       "  <th>Intercept</th>           <td>    6.9142</td> <td>    0.078</td> <td>   89.073</td> <td> 0.000</td> <td>    6.762</td> <td>    7.066</td>\n",
       "</tr>\n",
       "<tr>\n",
       "  <th>C(is_first)[T.True]</th> <td>   -0.0698</td> <td>    0.031</td> <td>   -2.236</td> <td> 0.025</td> <td>   -0.131</td> <td>   -0.009</td>\n",
       "</tr>\n",
       "<tr>\n",
       "  <th>agepreg</th>             <td>    0.0154</td> <td>    0.003</td> <td>    5.499</td> <td> 0.000</td> <td>    0.010</td> <td>    0.021</td>\n",
       "</tr>\n",
       "</table>"
      ],
      "text/latex": [
       "\\begin{center}\n",
       "\\begin{tabular}{lcccccc}\n",
       "\\toprule\n",
       "                              & \\textbf{coef} & \\textbf{std err} & \\textbf{t} & \\textbf{P$> |$t$|$} & \\textbf{[0.025} & \\textbf{0.975]}  \\\\\n",
       "\\midrule\n",
       "\\textbf{Intercept}            &       6.9142  &        0.078     &    89.073  &         0.000        &        6.762    &        7.066     \\\\\n",
       "\\textbf{C(is\\_first)[T.True]} &      -0.0698  &        0.031     &    -2.236  &         0.025        &       -0.131    &       -0.009     \\\\\n",
       "\\textbf{agepreg}              &       0.0154  &        0.003     &     5.499  &         0.000        &        0.010    &        0.021     \\\\\n",
       "\\bottomrule\n",
       "\\end{tabular}\n",
       "\\end{center}"
      ],
      "text/plain": [
       "<class 'statsmodels.iolib.table.SimpleTable'>"
      ]
     },
     "metadata": {},
     "output_type": "display_data"
    },
    {
     "data": {
      "text/html": [
       "<table class=\"simpletable\">\n",
       "<tr>\n",
       "  <td>R-squared:</td> <td>0.005289</td>\n",
       "</tr>\n",
       "</table>"
      ],
      "text/latex": [
       "\\begin{center}\n",
       "\\begin{tabular}{cc}\n",
       "\\toprule\n",
       "R-squared: & 0.005289  \\\\\n",
       "\\bottomrule\n",
       "\\end{tabular}\n",
       "\\end{center}"
      ],
      "text/plain": [
       "<class 'statsmodels.iolib.table.SimpleTable'>"
      ]
     },
     "metadata": {},
     "output_type": "display_data"
    },
    {
     "data": {
      "application/javascript": [
       "\n",
       "            setTimeout(function() {\n",
       "                var nbb_cell_id = 46;\n",
       "                var nbb_unformatted_code = \"formula = \\\"totalwgt_lb ~ agepreg + C(is_first)\\\"\\nresult = smf.ols(formula, data=valid).fit()\\ndisplay_summary(result)\";\n",
       "                var nbb_formatted_code = \"formula = \\\"totalwgt_lb ~ agepreg + C(is_first)\\\"\\nresult = smf.ols(formula, data=valid).fit()\\ndisplay_summary(result)\";\n",
       "                var nbb_cells = Jupyter.notebook.get_cells();\n",
       "                for (var i = 0; i < nbb_cells.length; ++i) {\n",
       "                    if (nbb_cells[i].input_prompt_number == nbb_cell_id) {\n",
       "                        if (nbb_cells[i].get_text() == nbb_unformatted_code) {\n",
       "                             nbb_cells[i].set_text(nbb_formatted_code);\n",
       "                        }\n",
       "                        break;\n",
       "                    }\n",
       "                }\n",
       "            }, 500);\n",
       "            "
      ],
      "text/plain": [
       "<IPython.core.display.Javascript object>"
      ]
     },
     "metadata": {},
     "output_type": "display_data"
    }
   ],
   "source": [
    "formula = \"totalwgt_lb ~ agepreg + C(is_first)\"\n",
    "result = smf.ols(formula, data=valid).fit()\n",
    "display_summary(result)"
   ]
  },
  {
   "cell_type": "markdown",
   "id": "fa2113bf",
   "metadata": {},
   "source": [
    "The coefficient of `is_first` is -0.0698, which means that first babies are 0.0698 pounds lighter than others, on average, after accounting for the difference due to maternal age.\n",
    "That's about half of the difference we get without accounting for maternal age.\n",
    "\n",
    "And the p-value is 0.025, which is still considered statistically significant, but it is in the borderline range where we can't exclude the possibility that a difference this size could happen by chance. \n",
    "\n",
    "Because this model takes into account the weight difference due to maternal age, we can say that it **controls for** maternal age.\n",
    "But it assumes that the relationship between weight and maternal age is linear.\n",
    "So let's see if that's true."
   ]
  },
  {
   "cell_type": "markdown",
   "id": "aa7fd6f7",
   "metadata": {},
   "source": [
    "## Nonlinear Relationships\n",
    "\n",
    "To check whether the contribution of `agepreg` might be nonlinear, can add a new column to the dataset, which contains the values of `agepreg` squared."
   ]
  },
  {
   "cell_type": "code",
   "execution_count": 47,
   "id": "8641e353",
   "metadata": {},
   "outputs": [
    {
     "data": {
      "application/javascript": [
       "\n",
       "            setTimeout(function() {\n",
       "                var nbb_cell_id = 47;\n",
       "                var nbb_unformatted_code = \"valid[\\\"agepreg2\\\"] = valid[\\\"agepreg\\\"] ** 2\";\n",
       "                var nbb_formatted_code = \"valid[\\\"agepreg2\\\"] = valid[\\\"agepreg\\\"] ** 2\";\n",
       "                var nbb_cells = Jupyter.notebook.get_cells();\n",
       "                for (var i = 0; i < nbb_cells.length; ++i) {\n",
       "                    if (nbb_cells[i].input_prompt_number == nbb_cell_id) {\n",
       "                        if (nbb_cells[i].get_text() == nbb_unformatted_code) {\n",
       "                             nbb_cells[i].set_text(nbb_formatted_code);\n",
       "                        }\n",
       "                        break;\n",
       "                    }\n",
       "                }\n",
       "            }, 500);\n",
       "            "
      ],
      "text/plain": [
       "<IPython.core.display.Javascript object>"
      ]
     },
     "metadata": {},
     "output_type": "display_data"
    }
   ],
   "source": [
    "valid[\"agepreg2\"] = valid[\"agepreg\"] ** 2"
   ]
  },
  {
   "cell_type": "markdown",
   "id": "f553302e",
   "metadata": {},
   "source": [
    "Now we can define a model that includes a linear relationship *and* a quadratic relationship."
   ]
  },
  {
   "cell_type": "code",
   "execution_count": 48,
   "id": "895dd57b",
   "metadata": {},
   "outputs": [
    {
     "data": {
      "application/javascript": [
       "\n",
       "            setTimeout(function() {\n",
       "                var nbb_cell_id = 48;\n",
       "                var nbb_unformatted_code = \"formula = \\\"totalwgt_lb ~ agepreg + agepreg2\\\"\";\n",
       "                var nbb_formatted_code = \"formula = \\\"totalwgt_lb ~ agepreg + agepreg2\\\"\";\n",
       "                var nbb_cells = Jupyter.notebook.get_cells();\n",
       "                for (var i = 0; i < nbb_cells.length; ++i) {\n",
       "                    if (nbb_cells[i].input_prompt_number == nbb_cell_id) {\n",
       "                        if (nbb_cells[i].get_text() == nbb_unformatted_code) {\n",
       "                             nbb_cells[i].set_text(nbb_formatted_code);\n",
       "                        }\n",
       "                        break;\n",
       "                    }\n",
       "                }\n",
       "            }, 500);\n",
       "            "
      ],
      "text/plain": [
       "<IPython.core.display.Javascript object>"
      ]
     },
     "metadata": {},
     "output_type": "display_data"
    }
   ],
   "source": [
    "formula = \"totalwgt_lb ~ agepreg + agepreg2\""
   ]
  },
  {
   "cell_type": "markdown",
   "id": "74e460d0",
   "metadata": {},
   "source": [
    "We can fit the model in the usual way."
   ]
  },
  {
   "cell_type": "code",
   "execution_count": 49,
   "id": "7fe0861a",
   "metadata": {},
   "outputs": [
    {
     "data": {
      "text/html": [
       "<table class=\"simpletable\">\n",
       "<tr>\n",
       "      <td></td>         <th>coef</th>     <th>std err</th>      <th>t</th>      <th>P>|t|</th>  <th>[0.025</th>    <th>0.975]</th>  \n",
       "</tr>\n",
       "<tr>\n",
       "  <th>Intercept</th> <td>    5.5720</td> <td>    0.275</td> <td>   20.226</td> <td> 0.000</td> <td>    5.032</td> <td>    6.112</td>\n",
       "</tr>\n",
       "<tr>\n",
       "  <th>agepreg</th>   <td>    0.1186</td> <td>    0.022</td> <td>    5.485</td> <td> 0.000</td> <td>    0.076</td> <td>    0.161</td>\n",
       "</tr>\n",
       "<tr>\n",
       "  <th>agepreg2</th>  <td>   -0.0019</td> <td>    0.000</td> <td>   -4.714</td> <td> 0.000</td> <td>   -0.003</td> <td>   -0.001</td>\n",
       "</tr>\n",
       "</table>"
      ],
      "text/latex": [
       "\\begin{center}\n",
       "\\begin{tabular}{lcccccc}\n",
       "\\toprule\n",
       "                   & \\textbf{coef} & \\textbf{std err} & \\textbf{t} & \\textbf{P$> |$t$|$} & \\textbf{[0.025} & \\textbf{0.975]}  \\\\\n",
       "\\midrule\n",
       "\\textbf{Intercept} &       5.5720  &        0.275     &    20.226  &         0.000        &        5.032    &        6.112     \\\\\n",
       "\\textbf{agepreg}   &       0.1186  &        0.022     &     5.485  &         0.000        &        0.076    &        0.161     \\\\\n",
       "\\textbf{agepreg2}  &      -0.0019  &        0.000     &    -4.714  &         0.000        &       -0.003    &       -0.001     \\\\\n",
       "\\bottomrule\n",
       "\\end{tabular}\n",
       "\\end{center}"
      ],
      "text/plain": [
       "<class 'statsmodels.iolib.table.SimpleTable'>"
      ]
     },
     "metadata": {},
     "output_type": "display_data"
    },
    {
     "data": {
      "text/html": [
       "<table class=\"simpletable\">\n",
       "<tr>\n",
       "  <td>R-squared:</td> <td>0.00718</td>\n",
       "</tr>\n",
       "</table>"
      ],
      "text/latex": [
       "\\begin{center}\n",
       "\\begin{tabular}{cc}\n",
       "\\toprule\n",
       "R-squared: & 0.00718  \\\\\n",
       "\\bottomrule\n",
       "\\end{tabular}\n",
       "\\end{center}"
      ],
      "text/plain": [
       "<class 'statsmodels.iolib.table.SimpleTable'>"
      ]
     },
     "metadata": {},
     "output_type": "display_data"
    },
    {
     "data": {
      "application/javascript": [
       "\n",
       "            setTimeout(function() {\n",
       "                var nbb_cell_id = 49;\n",
       "                var nbb_unformatted_code = \"result_age2 = smf.ols(formula, data=valid).fit()\\ndisplay_summary(result_age2)\";\n",
       "                var nbb_formatted_code = \"result_age2 = smf.ols(formula, data=valid).fit()\\ndisplay_summary(result_age2)\";\n",
       "                var nbb_cells = Jupyter.notebook.get_cells();\n",
       "                for (var i = 0; i < nbb_cells.length; ++i) {\n",
       "                    if (nbb_cells[i].input_prompt_number == nbb_cell_id) {\n",
       "                        if (nbb_cells[i].get_text() == nbb_unformatted_code) {\n",
       "                             nbb_cells[i].set_text(nbb_formatted_code);\n",
       "                        }\n",
       "                        break;\n",
       "                    }\n",
       "                }\n",
       "            }, 500);\n",
       "            "
      ],
      "text/plain": [
       "<IPython.core.display.Javascript object>"
      ]
     },
     "metadata": {},
     "output_type": "display_data"
    }
   ],
   "source": [
    "result_age2 = smf.ols(formula, data=valid).fit()\n",
    "display_summary(result_age2)"
   ]
  },
  {
   "cell_type": "markdown",
   "id": "49cd90c0",
   "metadata": {},
   "source": [
    "The p-value associated with the quadratic term, `agepreg2`, is very small, which suggests that it contributes more information about birth weight than we would expect by chance.\n",
    "And the $R^2$ value for this model is 0.0072, higher than for the linear model (0.0047).\n",
    "\n",
    "By estimating parameters for `agepreg` and `agepreg2`, we are effectively fitting a parabola to the data.\n",
    "To see that, we can use the `RegressionResults` object to generate predictions for a range of maternal ages.\n",
    "\n",
    "First we'll create a temporary `DataFrame` that contains columns named `agepreg` and `agepreg2`, based on the range of ages in `agepreg_range`."
   ]
  },
  {
   "cell_type": "code",
   "execution_count": 50,
   "id": "d8e92c66",
   "metadata": {},
   "outputs": [
    {
     "data": {
      "application/javascript": [
       "\n",
       "            setTimeout(function() {\n",
       "                var nbb_cell_id = 50;\n",
       "                var nbb_unformatted_code = \"df = pd.DataFrame({\\\"agepreg\\\": agepreg_range})\\ndf[\\\"agepreg2\\\"] = df[\\\"agepreg\\\"] ** 2\";\n",
       "                var nbb_formatted_code = \"df = pd.DataFrame({\\\"agepreg\\\": agepreg_range})\\ndf[\\\"agepreg2\\\"] = df[\\\"agepreg\\\"] ** 2\";\n",
       "                var nbb_cells = Jupyter.notebook.get_cells();\n",
       "                for (var i = 0; i < nbb_cells.length; ++i) {\n",
       "                    if (nbb_cells[i].input_prompt_number == nbb_cell_id) {\n",
       "                        if (nbb_cells[i].get_text() == nbb_unformatted_code) {\n",
       "                             nbb_cells[i].set_text(nbb_formatted_code);\n",
       "                        }\n",
       "                        break;\n",
       "                    }\n",
       "                }\n",
       "            }, 500);\n",
       "            "
      ],
      "text/plain": [
       "<IPython.core.display.Javascript object>"
      ]
     },
     "metadata": {},
     "output_type": "display_data"
    }
   ],
   "source": [
    "df = pd.DataFrame({\"agepreg\": agepreg_range})\n",
    "df[\"agepreg2\"] = df[\"agepreg\"] ** 2"
   ]
  },
  {
   "cell_type": "markdown",
   "id": "00cb8b32",
   "metadata": {},
   "source": [
    "Now we can use the `predict` method, passing the `DataFrame` as an argument and getting back a `Series` of predictions."
   ]
  },
  {
   "cell_type": "code",
   "execution_count": 51,
   "id": "653f1142",
   "metadata": {},
   "outputs": [
    {
     "data": {
      "application/javascript": [
       "\n",
       "            setTimeout(function() {\n",
       "                var nbb_cell_id = 51;\n",
       "                var nbb_unformatted_code = \"fit_ys = result_age2.predict(df)\";\n",
       "                var nbb_formatted_code = \"fit_ys = result_age2.predict(df)\";\n",
       "                var nbb_cells = Jupyter.notebook.get_cells();\n",
       "                for (var i = 0; i < nbb_cells.length; ++i) {\n",
       "                    if (nbb_cells[i].input_prompt_number == nbb_cell_id) {\n",
       "                        if (nbb_cells[i].get_text() == nbb_unformatted_code) {\n",
       "                             nbb_cells[i].set_text(nbb_formatted_code);\n",
       "                        }\n",
       "                        break;\n",
       "                    }\n",
       "                }\n",
       "            }, 500);\n",
       "            "
      ],
      "text/plain": [
       "<IPython.core.display.Javascript object>"
      ]
     },
     "metadata": {},
     "output_type": "display_data"
    }
   ],
   "source": [
    "fit_ys = result_age2.predict(df)"
   ]
  },
  {
   "cell_type": "markdown",
   "id": "5f7028e1",
   "metadata": {},
   "source": [
    "Here's what the fitted parabola looks like, along with a scatter plot of the data. "
   ]
  },
  {
   "cell_type": "code",
   "execution_count": 52,
   "id": "e31ed85c",
   "metadata": {},
   "outputs": [
    {
     "data": {
      "image/png": "[encoded data removed]",
      "text/plain": [
       "<Figure size 450x262.5 with 1 Axes>"
      ]
     },
     "metadata": {},
     "output_type": "display_data"
    },
    {
     "data": {
      "application/javascript": [
       "\n",
       "            setTimeout(function() {\n",
       "                var nbb_cell_id = 52;\n",
       "                var nbb_unformatted_code = \"plt.plot(agepreg_range, fit_ys, color=\\\"C2\\\", label=\\\"Quadratic model\\\")\\n\\nplt.scatter(agepreg, totalwgt, marker=\\\".\\\", alpha=0.1, s=5)\\n\\ndecorate(xlabel=\\\"Maternal Age\\\", ylabel=\\\"Birth weight (pounds)\\\")\";\n",
       "                var nbb_formatted_code = \"plt.plot(agepreg_range, fit_ys, color=\\\"C2\\\", label=\\\"Quadratic model\\\")\\n\\nplt.scatter(agepreg, totalwgt, marker=\\\".\\\", alpha=0.1, s=5)\\n\\ndecorate(xlabel=\\\"Maternal Age\\\", ylabel=\\\"Birth weight (pounds)\\\")\";\n",
       "                var nbb_cells = Jupyter.notebook.get_cells();\n",
       "                for (var i = 0; i < nbb_cells.length; ++i) {\n",
       "                    if (nbb_cells[i].input_prompt_number == nbb_cell_id) {\n",
       "                        if (nbb_cells[i].get_text() == nbb_unformatted_code) {\n",
       "                             nbb_cells[i].set_text(nbb_formatted_code);\n",
       "                        }\n",
       "                        break;\n",
       "                    }\n",
       "                }\n",
       "            }, 500);\n",
       "            "
      ],
      "text/plain": [
       "<IPython.core.display.Javascript object>"
      ]
     },
     "metadata": {},
     "output_type": "display_data"
    }
   ],
   "source": [
    "plt.plot(agepreg_range, fit_ys, color=\"C2\", label=\"Quadratic model\")\n",
    "\n",
    "plt.scatter(agepreg, totalwgt, marker=\".\", alpha=0.1, s=5)\n",
    "\n",
    "decorate(xlabel=\"Maternal Age\", ylabel=\"Birth weight (pounds)\")"
   ]
  },
  {
   "cell_type": "markdown",
   "id": "dae7e7da",
   "metadata": {},
   "source": [
    "The curvature is subtle, but it suggests that birth weights are lower for the youngest and oldest mothers, and higher in the middle.\n",
    "\n",
    "The quadratic model captures the relationship between these variables better than the linear model, which means it can account more effectively for the difference in birth weight due to maternal age.\n",
    "So let's see what happens when we add `is_first` to the quadratic model."
   ]
  },
  {
   "cell_type": "code",
   "execution_count": 53,
   "id": "f307a218",
   "metadata": {},
   "outputs": [
    {
     "data": {
      "text/html": [
       "<table class=\"simpletable\">\n",
       "<tr>\n",
       "           <td></td>              <th>coef</th>     <th>std err</th>      <th>t</th>      <th>P>|t|</th>  <th>[0.025</th>    <th>0.975]</th>  \n",
       "</tr>\n",
       "<tr>\n",
       "  <th>Intercept</th>           <td>    5.6923</td> <td>    0.286</td> <td>   19.937</td> <td> 0.000</td> <td>    5.133</td> <td>    6.252</td>\n",
       "</tr>\n",
       "<tr>\n",
       "  <th>C(is_first)[T.True]</th> <td>   -0.0504</td> <td>    0.031</td> <td>   -1.602</td> <td> 0.109</td> <td>   -0.112</td> <td>    0.011</td>\n",
       "</tr>\n",
       "<tr>\n",
       "  <th>agepreg</th>             <td>    0.1124</td> <td>    0.022</td> <td>    5.113</td> <td> 0.000</td> <td>    0.069</td> <td>    0.155</td>\n",
       "</tr>\n",
       "<tr>\n",
       "  <th>agepreg2</th>            <td>   -0.0018</td> <td>    0.000</td> <td>   -4.447</td> <td> 0.000</td> <td>   -0.003</td> <td>   -0.001</td>\n",
       "</tr>\n",
       "</table>"
      ],
      "text/latex": [
       "\\begin{center}\n",
       "\\begin{tabular}{lcccccc}\n",
       "\\toprule\n",
       "                              & \\textbf{coef} & \\textbf{std err} & \\textbf{t} & \\textbf{P$> |$t$|$} & \\textbf{[0.025} & \\textbf{0.975]}  \\\\\n",
       "\\midrule\n",
       "\\textbf{Intercept}            &       5.6923  &        0.286     &    19.937  &         0.000        &        5.133    &        6.252     \\\\\n",
       "\\textbf{C(is\\_first)[T.True]} &      -0.0504  &        0.031     &    -1.602  &         0.109        &       -0.112    &        0.011     \\\\\n",
       "\\textbf{agepreg}              &       0.1124  &        0.022     &     5.113  &         0.000        &        0.069    &        0.155     \\\\\n",
       "\\textbf{agepreg2}             &      -0.0018  &        0.000     &    -4.447  &         0.000        &       -0.003    &       -0.001     \\\\\n",
       "\\bottomrule\n",
       "\\end{tabular}\n",
       "\\end{center}"
      ],
      "text/plain": [
       "<class 'statsmodels.iolib.table.SimpleTable'>"
      ]
     },
     "metadata": {},
     "output_type": "display_data"
    },
    {
     "data": {
      "text/html": [
       "<table class=\"simpletable\">\n",
       "<tr>\n",
       "  <td>R-squared:</td> <td>0.007462</td>\n",
       "</tr>\n",
       "</table>"
      ],
      "text/latex": [
       "\\begin{center}\n",
       "\\begin{tabular}{cc}\n",
       "\\toprule\n",
       "R-squared: & 0.007462  \\\\\n",
       "\\bottomrule\n",
       "\\end{tabular}\n",
       "\\end{center}"
      ],
      "text/plain": [
       "<class 'statsmodels.iolib.table.SimpleTable'>"
      ]
     },
     "metadata": {},
     "output_type": "display_data"
    },
    {
     "data": {
      "application/javascript": [
       "\n",
       "            setTimeout(function() {\n",
       "                var nbb_cell_id = 53;\n",
       "                var nbb_unformatted_code = \"formula = \\\"totalwgt_lb ~ agepreg + agepreg2 + C(is_first)\\\"\\nresult = smf.ols(formula, data=valid).fit()\\ndisplay_summary(result)\";\n",
       "                var nbb_formatted_code = \"formula = \\\"totalwgt_lb ~ agepreg + agepreg2 + C(is_first)\\\"\\nresult = smf.ols(formula, data=valid).fit()\\ndisplay_summary(result)\";\n",
       "                var nbb_cells = Jupyter.notebook.get_cells();\n",
       "                for (var i = 0; i < nbb_cells.length; ++i) {\n",
       "                    if (nbb_cells[i].input_prompt_number == nbb_cell_id) {\n",
       "                        if (nbb_cells[i].get_text() == nbb_unformatted_code) {\n",
       "                             nbb_cells[i].set_text(nbb_formatted_code);\n",
       "                        }\n",
       "                        break;\n",
       "                    }\n",
       "                }\n",
       "            }, 500);\n",
       "            "
      ],
      "text/plain": [
       "<IPython.core.display.Javascript object>"
      ]
     },
     "metadata": {},
     "output_type": "display_data"
    }
   ],
   "source": [
    "formula = \"totalwgt_lb ~ agepreg + agepreg2 + C(is_first)\"\n",
    "result = smf.ols(formula, data=valid).fit()\n",
    "display_summary(result)"
   ]
  },
  {
   "cell_type": "markdown",
   "id": "938c9f8b",
   "metadata": {},
   "source": [
    "With a more effective control for maternal age, the estimated difference between first babies and others is 0.0504 pounds, smaller than the estimate in the linear model (0.0698 pounds).\n",
    "And the p-value associated with `is_first` is 0.109, which mean it is plausible that the remaining difference between these groups is due to chance.\n",
    "\n",
    "We can conclude that the difference in birth weight is explained -- at least in part and possibly in full -- by the difference in mother's age."
   ]
  },
  {
   "cell_type": "markdown",
   "id": "279304ea",
   "metadata": {},
   "source": [
    "## Logistic Regression\n",
    "\n",
    "Linear regression is based on a model where the dependent variable is the weighted sum of the explanatory variables, an intercept, and a random residual.\n",
    "This model is appropriate when the dependent variable is a continuous quantity like birth weight or penguin weight, but not when the dependent variable is discrete quantity like a count or a categorical variable.\n",
    "\n",
    "For these kinds of dependent variables, we can use **generalized linear models** or GLMs.\n",
    "For example:\n",
    "\n",
    "* If the dependent variable is a count, we can use Poisson regression.\n",
    "\n",
    "* If it's categorical with only two categories, we can use logistic regression.\n",
    "\n",
    "* If it's categorical with more than two categories, we can use multinomial logistic regression\n",
    "\n",
    "* If it's categorical and ordered, we can use ordered logistic regression.\n",
    "\n",
    "We won't cover all of them -- just logistic regression, which is the most widely used.\n",
    "As an example, we'll use the penguin dataset again, and see if we can tell whether a penguin is male or female, based on its weight and other measurements.\n",
    "\n",
    "`StatsModels` provides a function that does logistic regression -- it's called `logit` because that's the name of a mathematical function that appears in the definition of logistic regression.\n",
    "Before we can use the `logit` function, we have to transform the dependent variable so the values are `0` and `1'."
   ]
  },
  {
   "cell_type": "code",
   "execution_count": 54,
   "id": "3e6bda23",
   "metadata": {},
   "outputs": [
    {
     "data": {
      "application/javascript": [
       "\n",
       "            setTimeout(function() {\n",
       "                var nbb_cell_id = 54;\n",
       "                var nbb_unformatted_code = \"adelie[\\\"y\\\"] = (adelie[\\\"Sex\\\"] == \\\"MALE\\\").astype(int)\";\n",
       "                var nbb_formatted_code = \"adelie[\\\"y\\\"] = (adelie[\\\"Sex\\\"] == \\\"MALE\\\").astype(int)\";\n",
       "                var nbb_cells = Jupyter.notebook.get_cells();\n",
       "                for (var i = 0; i < nbb_cells.length; ++i) {\n",
       "                    if (nbb_cells[i].input_prompt_number == nbb_cell_id) {\n",
       "                        if (nbb_cells[i].get_text() == nbb_unformatted_code) {\n",
       "                             nbb_cells[i].set_text(nbb_formatted_code);\n",
       "                        }\n",
       "                        break;\n",
       "                    }\n",
       "                }\n",
       "            }, 500);\n",
       "            "
      ],
      "text/plain": [
       "<IPython.core.display.Javascript object>"
      ]
     },
     "metadata": {},
     "output_type": "display_data"
    }
   ],
   "source": [
    "adelie[\"y\"] = (adelie[\"Sex\"] == \"MALE\").astype(int)"
   ]
  },
  {
   "cell_type": "code",
   "execution_count": 55,
   "id": "0f99922f",
   "metadata": {
    "tags": [
     "remove-print"
    ]
   },
   "outputs": [
    {
     "data": {
      "text/plain": [
       "y\n",
       "0    78\n",
       "1    73\n",
       "Name: count, dtype: int64"
      ]
     },
     "execution_count": 55,
     "metadata": {},
     "output_type": "execute_result"
    },
    {
     "data": {
      "application/javascript": [
       "\n",
       "            setTimeout(function() {\n",
       "                var nbb_cell_id = 55;\n",
       "                var nbb_unformatted_code = \"adelie[\\\"y\\\"].value_counts()\";\n",
       "                var nbb_formatted_code = \"adelie[\\\"y\\\"].value_counts()\";\n",
       "                var nbb_cells = Jupyter.notebook.get_cells();\n",
       "                for (var i = 0; i < nbb_cells.length; ++i) {\n",
       "                    if (nbb_cells[i].input_prompt_number == nbb_cell_id) {\n",
       "                        if (nbb_cells[i].get_text() == nbb_unformatted_code) {\n",
       "                             nbb_cells[i].set_text(nbb_formatted_code);\n",
       "                        }\n",
       "                        break;\n",
       "                    }\n",
       "                }\n",
       "            }, 500);\n",
       "            "
      ],
      "text/plain": [
       "<IPython.core.display.Javascript object>"
      ]
     },
     "metadata": {},
     "output_type": "display_data"
    }
   ],
   "source": [
    "adelie[\"y\"].value_counts()"
   ]
  },
  {
   "cell_type": "markdown",
   "id": "8340edaf",
   "metadata": {},
   "source": [
    "We'll start with a simple model with `y` as the dependent variable and `mass` as the explanatory variable.\n",
    "Here's how we make and fit the model -- and display the results."
   ]
  },
  {
   "cell_type": "code",
   "execution_count": 56,
   "id": "f89cfc31",
   "metadata": {},
   "outputs": [
    {
     "data": {
      "text/html": [
       "<table class=\"simpletable\">\n",
       "<tr>\n",
       "      <td></td>         <th>coef</th>     <th>std err</th>      <th>z</th>      <th>P>|z|</th>  <th>[0.025</th>    <th>0.975]</th>  \n",
       "</tr>\n",
       "<tr>\n",
       "  <th>Intercept</th> <td>  -25.9871</td> <td>    4.221</td> <td>   -6.156</td> <td> 0.000</td> <td>  -34.261</td> <td>  -17.713</td>\n",
       "</tr>\n",
       "<tr>\n",
       "  <th>mass</th>      <td>    0.0070</td> <td>    0.001</td> <td>    6.138</td> <td> 0.000</td> <td>    0.005</td> <td>    0.009</td>\n",
       "</tr>\n",
       "</table>"
      ],
      "text/latex": [
       "\\begin{center}\n",
       "\\begin{tabular}{lcccccc}\n",
       "\\toprule\n",
       "                   & \\textbf{coef} & \\textbf{std err} & \\textbf{z} & \\textbf{P$> |$z$|$} & \\textbf{[0.025} & \\textbf{0.975]}  \\\\\n",
       "\\midrule\n",
       "\\textbf{Intercept} &     -25.9871  &        4.221     &    -6.156  &         0.000        &      -34.261    &      -17.713     \\\\\n",
       "\\textbf{mass}      &       0.0070  &        0.001     &     6.138  &         0.000        &        0.005    &        0.009     \\\\\n",
       "\\bottomrule\n",
       "\\end{tabular}\n",
       "\\end{center}"
      ],
      "text/plain": [
       "<class 'statsmodels.iolib.table.SimpleTable'>"
      ]
     },
     "metadata": {},
     "output_type": "display_data"
    },
    {
     "data": {
      "text/html": [
       "<table class=\"simpletable\">\n",
       "<tr>\n",
       "  <td>Pseudo R-squared:</td> <td>0.5264</td>\n",
       "</tr>\n",
       "</table>"
      ],
      "text/latex": [
       "\\begin{center}\n",
       "\\begin{tabular}{cc}\n",
       "\\toprule\n",
       "Pseudo R-squared: & 0.5264  \\\\\n",
       "\\bottomrule\n",
       "\\end{tabular}\n",
       "\\end{center}"
      ],
      "text/plain": [
       "<class 'statsmodels.iolib.table.SimpleTable'>"
      ]
     },
     "metadata": {},
     "output_type": "display_data"
    },
    {
     "data": {
      "application/javascript": [
       "\n",
       "            setTimeout(function() {\n",
       "                var nbb_cell_id = 56;\n",
       "                var nbb_unformatted_code = \"model = smf.logit(\\\"y ~ mass\\\", data=adelie)\\nresult = model.fit(disp=False)\\ndisplay_summary(result)\";\n",
       "                var nbb_formatted_code = \"model = smf.logit(\\\"y ~ mass\\\", data=adelie)\\nresult = model.fit(disp=False)\\ndisplay_summary(result)\";\n",
       "                var nbb_cells = Jupyter.notebook.get_cells();\n",
       "                for (var i = 0; i < nbb_cells.length; ++i) {\n",
       "                    if (nbb_cells[i].input_prompt_number == nbb_cell_id) {\n",
       "                        if (nbb_cells[i].get_text() == nbb_unformatted_code) {\n",
       "                             nbb_cells[i].set_text(nbb_formatted_code);\n",
       "                        }\n",
       "                        break;\n",
       "                    }\n",
       "                }\n",
       "            }, 500);\n",
       "            "
      ],
      "text/plain": [
       "<IPython.core.display.Javascript object>"
      ]
     },
     "metadata": {},
     "output_type": "display_data"
    }
   ],
   "source": [
    "model = smf.logit(\"y ~ mass\", data=adelie)\n",
    "result = model.fit(disp=False)\n",
    "display_summary(result)"
   ]
  },
  {
   "cell_type": "markdown",
   "id": "4b0f5a06",
   "metadata": {},
   "source": [
    "The coefficient of determination, $R^2$, does not apply to logistic regression, but there are several alternatives that are used as \"pseudo $R^2$ values.\"\n",
    "The pseudo $R^2$ value for this model is about 0.526, which doesn't mean much by itself, but we will use it to compare models.\n",
    "\n",
    "The parameter of `mass` is positive, which means that heavier penguins are more likely to be male.\n",
    "Other than that, the estimated coefficients are not easy to interpret.\n",
    "But we can understand the model better by plotting the predictions.\n",
    "We'll make a `DataFrame` with a range of values for `mass`, and use `predict` to compute a `Series` of predictions."
   ]
  },
  {
   "cell_type": "code",
   "execution_count": 57,
   "id": "c54e6c79",
   "metadata": {},
   "outputs": [
    {
     "data": {
      "application/javascript": [
       "\n",
       "            setTimeout(function() {\n",
       "                var nbb_cell_id = 57;\n",
       "                var nbb_unformatted_code = \"mass = adelie[\\\"mass\\\"]\\nmass_range = np.linspace(mass.min(), mass.max())\\ndf = pd.DataFrame({\\\"mass\\\": mass_range})\\nfit_ys = result.predict(df)\";\n",
       "                var nbb_formatted_code = \"mass = adelie[\\\"mass\\\"]\\nmass_range = np.linspace(mass.min(), mass.max())\\ndf = pd.DataFrame({\\\"mass\\\": mass_range})\\nfit_ys = result.predict(df)\";\n",
       "                var nbb_cells = Jupyter.notebook.get_cells();\n",
       "                for (var i = 0; i < nbb_cells.length; ++i) {\n",
       "                    if (nbb_cells[i].input_prompt_number == nbb_cell_id) {\n",
       "                        if (nbb_cells[i].get_text() == nbb_unformatted_code) {\n",
       "                             nbb_cells[i].set_text(nbb_formatted_code);\n",
       "                        }\n",
       "                        break;\n",
       "                    }\n",
       "                }\n",
       "            }, 500);\n",
       "            "
      ],
      "text/plain": [
       "<IPython.core.display.Javascript object>"
      ]
     },
     "metadata": {},
     "output_type": "display_data"
    }
   ],
   "source": [
    "mass = adelie[\"mass\"]\n",
    "mass_range = np.linspace(mass.min(), mass.max())\n",
    "df = pd.DataFrame({\"mass\": mass_range})\n",
    "fit_ys = result.predict(df)"
   ]
  },
  {
   "cell_type": "markdown",
   "id": "ec78a6cf",
   "metadata": {},
   "source": [
    "Each predicted value is the probability a penguin is male as a function of its weight.\n",
    "Here's what the predicted values look like."
   ]
  },
  {
   "cell_type": "code",
   "execution_count": 58,
   "id": "f448d010",
   "metadata": {},
   "outputs": [
    {
     "data": {
      "image/png": "[encoded data removed]",
      "text/plain": [
       "<Figure size 450x262.5 with 1 Axes>"
      ]
     },
     "metadata": {},
     "output_type": "display_data"
    },
    {
     "data": {
      "application/javascript": [
       "\n",
       "            setTimeout(function() {\n",
       "                var nbb_cell_id = 58;\n",
       "                var nbb_unformatted_code = \"plt.plot(mass_range, fit_ys)\\n\\ndecorate(xlabel=\\\"Body mass (g)\\\", ylabel=\\\"Prob(male)\\\")\";\n",
       "                var nbb_formatted_code = \"plt.plot(mass_range, fit_ys)\\n\\ndecorate(xlabel=\\\"Body mass (g)\\\", ylabel=\\\"Prob(male)\\\")\";\n",
       "                var nbb_cells = Jupyter.notebook.get_cells();\n",
       "                for (var i = 0; i < nbb_cells.length; ++i) {\n",
       "                    if (nbb_cells[i].input_prompt_number == nbb_cell_id) {\n",
       "                        if (nbb_cells[i].get_text() == nbb_unformatted_code) {\n",
       "                             nbb_cells[i].set_text(nbb_formatted_code);\n",
       "                        }\n",
       "                        break;\n",
       "                    }\n",
       "                }\n",
       "            }, 500);\n",
       "            "
      ],
      "text/plain": [
       "<IPython.core.display.Javascript object>"
      ]
     },
     "metadata": {},
     "output_type": "display_data"
    }
   ],
   "source": [
    "plt.plot(mass_range, fit_ys)\n",
    "\n",
    "decorate(xlabel=\"Mass (g)\", ylabel=\"Prob(male)\")"
   ]
  },
  {
   "cell_type": "markdown",
   "id": "1275bc24",
   "metadata": {},
   "source": [
    "The lightest penguins are almost certain to be female, and the heaviest are likely to be male -- in the middle, a penguin weighing 3750 grams is equally likely to be male or female.\n",
    "\n",
    "Now let's see what happens if we add the other measurements as explanatory variables."
   ]
  },
  {
   "cell_type": "code",
   "execution_count": 59,
   "id": "399c5393",
   "metadata": {},
   "outputs": [
    {
     "data": {
      "text/html": [
       "<table class=\"simpletable\">\n",
       "<tr>\n",
       "         <td></td>           <th>coef</th>     <th>std err</th>      <th>z</th>      <th>P>|z|</th>  <th>[0.025</th>    <th>0.975]</th>  \n",
       "</tr>\n",
       "<tr>\n",
       "  <th>Intercept</th>      <td>  -60.6075</td> <td>   13.793</td> <td>   -4.394</td> <td> 0.000</td> <td>  -87.642</td> <td>  -33.573</td>\n",
       "</tr>\n",
       "<tr>\n",
       "  <th>mass</th>           <td>    0.0059</td> <td>    0.001</td> <td>    4.153</td> <td> 0.000</td> <td>    0.003</td> <td>    0.009</td>\n",
       "</tr>\n",
       "<tr>\n",
       "  <th>flipper_length</th> <td>   -0.0209</td> <td>    0.052</td> <td>   -0.403</td> <td> 0.687</td> <td>   -0.123</td> <td>    0.081</td>\n",
       "</tr>\n",
       "<tr>\n",
       "  <th>culmen_length</th>  <td>    0.6208</td> <td>    0.176</td> <td>    3.536</td> <td> 0.000</td> <td>    0.277</td> <td>    0.965</td>\n",
       "</tr>\n",
       "<tr>\n",
       "  <th>culmen_depth</th>   <td>    1.0111</td> <td>    0.349</td> <td>    2.896</td> <td> 0.004</td> <td>    0.327</td> <td>    1.695</td>\n",
       "</tr>\n",
       "</table>"
      ],
      "text/latex": [
       "\\begin{center}\n",
       "\\begin{tabular}{lcccccc}\n",
       "\\toprule\n",
       "                         & \\textbf{coef} & \\textbf{std err} & \\textbf{z} & \\textbf{P$> |$z$|$} & \\textbf{[0.025} & \\textbf{0.975]}  \\\\\n",
       "\\midrule\n",
       "\\textbf{Intercept}       &     -60.6075  &       13.793     &    -4.394  &         0.000        &      -87.642    &      -33.573     \\\\\n",
       "\\textbf{mass}            &       0.0059  &        0.001     &     4.153  &         0.000        &        0.003    &        0.009     \\\\\n",
       "\\textbf{flipper\\_length} &      -0.0209  &        0.052     &    -0.403  &         0.687        &       -0.123    &        0.081     \\\\\n",
       "\\textbf{culmen\\_length}  &       0.6208  &        0.176     &     3.536  &         0.000        &        0.277    &        0.965     \\\\\n",
       "\\textbf{culmen\\_depth}   &       1.0111  &        0.349     &     2.896  &         0.004        &        0.327    &        1.695     \\\\\n",
       "\\bottomrule\n",
       "\\end{tabular}\n",
       "\\end{center}"
      ],
      "text/plain": [
       "<class 'statsmodels.iolib.table.SimpleTable'>"
      ]
     },
     "metadata": {},
     "output_type": "display_data"
    },
    {
     "data": {
      "text/html": [
       "<table class=\"simpletable\">\n",
       "<tr>\n",
       "  <td>Pseudo R-squared:</td> <td>0.6622</td>\n",
       "</tr>\n",
       "</table>"
      ],
      "text/latex": [
       "\\begin{center}\n",
       "\\begin{tabular}{cc}\n",
       "\\toprule\n",
       "Pseudo R-squared: & 0.6622  \\\\\n",
       "\\bottomrule\n",
       "\\end{tabular}\n",
       "\\end{center}"
      ],
      "text/plain": [
       "<class 'statsmodels.iolib.table.SimpleTable'>"
      ]
     },
     "metadata": {},
     "output_type": "display_data"
    },
    {
     "data": {
      "application/javascript": [
       "\n",
       "            setTimeout(function() {\n",
       "                var nbb_cell_id = 59;\n",
       "                var nbb_unformatted_code = \"formula = \\\"y ~ mass + flipper_length + culmen_length + culmen_depth\\\"\\nmodel = smf.logit(formula, data=adelie)\\nresult = model.fit(disp=False)\\ndisplay_summary(result)\";\n",
       "                var nbb_formatted_code = \"formula = \\\"y ~ mass + flipper_length + culmen_length + culmen_depth\\\"\\nmodel = smf.logit(formula, data=adelie)\\nresult = model.fit(disp=False)\\ndisplay_summary(result)\";\n",
       "                var nbb_cells = Jupyter.notebook.get_cells();\n",
       "                for (var i = 0; i < nbb_cells.length; ++i) {\n",
       "                    if (nbb_cells[i].input_prompt_number == nbb_cell_id) {\n",
       "                        if (nbb_cells[i].get_text() == nbb_unformatted_code) {\n",
       "                             nbb_cells[i].set_text(nbb_formatted_code);\n",
       "                        }\n",
       "                        break;\n",
       "                    }\n",
       "                }\n",
       "            }, 500);\n",
       "            "
      ],
      "text/plain": [
       "<IPython.core.display.Javascript object>"
      ]
     },
     "metadata": {},
     "output_type": "display_data"
    }
   ],
   "source": [
    "formula = \"y ~ mass + flipper_length + culmen_length + culmen_depth\"\n",
    "model = smf.logit(formula, data=adelie)\n",
    "result = model.fit(disp=False)\n",
    "display_summary(result)"
   ]
  },
  {
   "cell_type": "markdown",
   "id": "9577f69c",
   "metadata": {},
   "source": [
    "The pseudo $R^2$ value of this model is 0.662, higher than the previous model (0.526) -- so the additional measurement contain additional information that distinguishes male and female penguins.\n",
    "\n",
    "The p-values for culmen length and depth are small, which indicates that they contribute more information than we expect by chance.\n",
    "The p-value for flipper length is large, which suggests that if you know a penguin's weight a bill dimensions, flipper length doesn't contribute any additional information.\n",
    "\n",
    "To understand this model, let's look at some of it's predictions.\n",
    "We'll use the following function, which takes a sequence of masses and a specific value for `culmen_length`.\n",
    "It sets the other measurements to their mean values, computes predicted probabilities as a function of mass, and plots the results."
   ]
  },
  {
   "cell_type": "code",
   "execution_count": 64,
   "id": "27ccf471",
   "metadata": {},
   "outputs": [
    {
     "data": {
      "application/javascript": [
       "\n",
       "            setTimeout(function() {\n",
       "                var nbb_cell_id = 64;\n",
       "                var nbb_unformatted_code = \"def plot_predictions(mass_range, culmen_length, **options):\\n    \\\"\\\"\\\"Plot predicted probabilities as a function of mass.\\\"\\\"\\\"\\n    df = pd.DataFrame({\\\"mass\\\": mass_range})\\n    df[\\\"flipper_length\\\"] = adelie[\\\"flipper_length\\\"].mean()\\n    df[\\\"culmen_length\\\"] = culmen_length\\n    df[\\\"culmen_depth\\\"] = adelie[\\\"culmen_depth\\\"].mean()\\n    fit_ys = result.predict(df)\\n    plt.plot(mass_range, fit_ys, **options)\";\n",
       "                var nbb_formatted_code = \"def plot_predictions(mass_range, culmen_length, **options):\\n    \\\"\\\"\\\"Plot predicted probabilities as a function of mass.\\\"\\\"\\\"\\n    df = pd.DataFrame({\\\"mass\\\": mass_range})\\n    df[\\\"flipper_length\\\"] = adelie[\\\"flipper_length\\\"].mean()\\n    df[\\\"culmen_length\\\"] = culmen_length\\n    df[\\\"culmen_depth\\\"] = adelie[\\\"culmen_depth\\\"].mean()\\n    fit_ys = result.predict(df)\\n    plt.plot(mass_range, fit_ys, **options)\";\n",
       "                var nbb_cells = Jupyter.notebook.get_cells();\n",
       "                for (var i = 0; i < nbb_cells.length; ++i) {\n",
       "                    if (nbb_cells[i].input_prompt_number == nbb_cell_id) {\n",
       "                        if (nbb_cells[i].get_text() == nbb_unformatted_code) {\n",
       "                             nbb_cells[i].set_text(nbb_formatted_code);\n",
       "                        }\n",
       "                        break;\n",
       "                    }\n",
       "                }\n",
       "            }, 500);\n",
       "            "
      ],
      "text/plain": [
       "<IPython.core.display.Javascript object>"
      ]
     },
     "metadata": {},
     "output_type": "display_data"
    }
   ],
   "source": [
    "def plot_predictions(mass_range, culmen_length, **options):\n",
    "    \"\"\"Plot predicted probabilities as a function of mass.\"\"\"\n",
    "    df = pd.DataFrame({\"mass\": mass_range})\n",
    "    df[\"flipper_length\"] = adelie[\"flipper_length\"].mean()\n",
    "    df[\"culmen_length\"] = culmen_length\n",
    "    df[\"culmen_depth\"] = adelie[\"culmen_depth\"].mean()\n",
    "    fit_ys = result.predict(df)\n",
    "    plt.plot(mass_range, fit_ys, **options)"
   ]
  },
  {
   "cell_type": "markdown",
   "id": "5b6ccf67",
   "metadata": {},
   "source": [
    "Here's what the results look like for three values of `culmen_length`: on standard deviation above average, average, and one standard deviation below average."
   ]
  },
  {
   "cell_type": "code",
   "execution_count": 65,
   "id": "bbe111ce",
   "metadata": {},
   "outputs": [
    {
     "data": {
      "application/javascript": [
       "\n",
       "            setTimeout(function() {\n",
       "                var nbb_cell_id = 65;\n",
       "                var nbb_unformatted_code = \"culmen_length = adelie[\\\"culmen_length\\\"]\\nm, s = culmen_length.mean(), culmen_length.std()\";\n",
       "                var nbb_formatted_code = \"culmen_length = adelie[\\\"culmen_length\\\"]\\nm, s = culmen_length.mean(), culmen_length.std()\";\n",
       "                var nbb_cells = Jupyter.notebook.get_cells();\n",
       "                for (var i = 0; i < nbb_cells.length; ++i) {\n",
       "                    if (nbb_cells[i].input_prompt_number == nbb_cell_id) {\n",
       "                        if (nbb_cells[i].get_text() == nbb_unformatted_code) {\n",
       "                             nbb_cells[i].set_text(nbb_formatted_code);\n",
       "                        }\n",
       "                        break;\n",
       "                    }\n",
       "                }\n",
       "            }, 500);\n",
       "            "
      ],
      "text/plain": [
       "<IPython.core.display.Javascript object>"
      ]
     },
     "metadata": {},
     "output_type": "display_data"
    }
   ],
   "source": [
    "culmen_length = adelie[\"culmen_length\"]\n",
    "m, s = culmen_length.mean(), culmen_length.std()"
   ]
  },
  {
   "cell_type": "code",
   "execution_count": 66,
   "id": "3f68ee5d",
   "metadata": {},
   "outputs": [
    {
     "data": {
      "image/png": "[encoded data removed]",
      "text/plain": [
       "<Figure size 450x262.5 with 1 Axes>"
      ]
     },
     "metadata": {},
     "output_type": "display_data"
    },
    {
     "data": {
      "application/javascript": [
       "\n",
       "            setTimeout(function() {\n",
       "                var nbb_cell_id = 66;\n",
       "                var nbb_unformatted_code = \"plot_predictions(mass_range, m + s, ls=\\\"--\\\", label=\\\"Above average culmen length\\\")\\nplot_predictions(mass_range, m, label=\\\"Average culmen length\\\")\\nplot_predictions(mass_range, m - s, ls=\\\":\\\", label=\\\"Below average culmen length\\\")\\n\\ndecorate(xlabel=\\\"Body mass (g)\\\", ylabel=\\\"Prob(male)\\\")\";\n",
       "                var nbb_formatted_code = \"plot_predictions(mass_range, m + s, ls=\\\"--\\\", label=\\\"Above average culmen length\\\")\\nplot_predictions(mass_range, m, label=\\\"Average culmen length\\\")\\nplot_predictions(mass_range, m - s, ls=\\\":\\\", label=\\\"Below average culmen length\\\")\\n\\ndecorate(xlabel=\\\"Body mass (g)\\\", ylabel=\\\"Prob(male)\\\")\";\n",
       "                var nbb_cells = Jupyter.notebook.get_cells();\n",
       "                for (var i = 0; i < nbb_cells.length; ++i) {\n",
       "                    if (nbb_cells[i].input_prompt_number == nbb_cell_id) {\n",
       "                        if (nbb_cells[i].get_text() == nbb_unformatted_code) {\n",
       "                             nbb_cells[i].set_text(nbb_formatted_code);\n",
       "                        }\n",
       "                        break;\n",
       "                    }\n",
       "                }\n",
       "            }, 500);\n",
       "            "
      ],
      "text/plain": [
       "<IPython.core.display.Javascript object>"
      ]
     },
     "metadata": {},
     "output_type": "display_data"
    }
   ],
   "source": [
    "plot_predictions(mass_range, m + s, ls=\"--\", label=\"Above average culmen length\")\n",
    "plot_predictions(mass_range, m, label=\"Average culmen length\")\n",
    "plot_predictions(mass_range, m - s, ls=\":\", label=\"Below average culmen length\")\n",
    "\n",
    "decorate(xlabel=\"Mass (g)\", ylabel=\"Prob(male)\")"
   ]
  },
  {
   "cell_type": "markdown",
   "id": "ccf09c20",
   "metadata": {},
   "source": [
    "As we saw in the simpler model, heavier penguins are more likely to be male.\n",
    "Also, at any weight, a penguin with a longer bill is more likely to be male."
   ]
  },
  {
   "cell_type": "markdown",
   "id": "f46133a1",
   "metadata": {},
   "source": [
    "This model is more useful than it might seem -- in fact, it is similar to models that were used in the original research paper this dataset was collected for.\n",
    "The primary topic of that research is sexual dimorphism, which is the degree to which male and female bodies differ.\n",
    "One way to quantify dimorphism is to use measurements to identify males and females.\n",
    "In a species with higher dimorphism, we expect these identifications to be more accurate."
   ]
  },
  {
   "cell_type": "markdown",
   "id": "75e2eac1",
   "metadata": {
    "tags": [
     "remove-print"
    ]
   },
   "source": [
    "The original paper is Gorman KB, Williams TD, Fraser WR (2014). Ecological sexual dimorphism and environmental variability within a community of Antarctic penguins (genus Pygoscelis). PLoS ONE 9(3):e90081. https://doi.org/10.1371/journal.pone.0090081"
   ]
  },
  {
   "cell_type": "markdown",
   "id": "72367f38",
   "metadata": {},
   "source": [
    "To test this methodology, let's try the same model on a different species.\n",
    "In addition to the Adélie penguins we've worked with so far, the dataset also contains measurements from 123 Gentoo penguins.\n",
    "We'll use the following function to select them."
   ]
  },
  {
   "cell_type": "code",
   "execution_count": null,
   "id": "66f85f4c",
   "metadata": {},
   "outputs": [],
   "source": [
    "def get_species(penguins, species):\n",
    "    df = penguins.query(f'Species.str.startswith(\"{species}\")').copy()\n",
    "    df[\"y\"] = (df[\"Sex\"] == \"MALE\").astype(int)\n",
    "    return df"
   ]
  },
  {
   "cell_type": "code",
   "execution_count": null,
   "id": "d4f57919",
   "metadata": {},
   "outputs": [],
   "source": [
    "gentoo = get_species(penguins, \"Gentoo\")\n",
    "len(gentoo)"
   ]
  },
  {
   "cell_type": "markdown",
   "id": "7e9a17a9",
   "metadata": {},
   "source": [
    "And here are the results."
   ]
  },
  {
   "cell_type": "code",
   "execution_count": null,
   "id": "76af3a48",
   "metadata": {},
   "outputs": [],
   "source": [
    "formula = \"y ~ mass + flipper_length + culmen_length + culmen_depth\"\n",
    "model = smf.logit(formula, data=gentoo)\n",
    "result = model.fit(disp=False)\n",
    "display_summary(result)"
   ]
  },
  {
   "cell_type": "markdown",
   "id": "2c5116e1",
   "metadata": {},
   "source": [
    "The pseudo-$R^2$ value is 0.848, higher what we got with Adélie penguins (0.662) -- that suggests that Gentoo penguins are more dimorphic."
   ]
  },
  {
   "cell_type": "markdown",
   "id": "e0a3487c",
   "metadata": {},
   "source": [
    "## Glossary\n",
    "\n",
    "-   **regression**: One of several related processes for estimating parameters that fit a model to data.\n",
    "\n",
    "-   **dependent variables**: The variables in a regression model we would like to predict.\n",
    "Also known as endogenous variables.\n",
    "\n",
    "-   **explanatory variables**: The variables used to predict or explain the dependent variables.\n",
    "Also known as independent, or exogenous, variables.\n",
    "\n",
    "-   **simple regression**: A regression with only one dependent and one explanatory variable.\n",
    "\n",
    "-   **multiple regression**: A regression with multiple explanatory variables, but only one dependent variable.\n",
    "\n",
    "-   **linear regression**: A regression based on a linear model.\n",
    "\n",
    "-   **ordinary least squares**: A linear regression that estimates parameters by minimizing the squared error of the residuals.\n",
    "\n",
    "-   **spurious relationship**: A relationship between two variables that is caused by a statistical artifact or a factor, not included in the model, that is related to both variables.\n",
    "\n",
    "-   **control variable**: A variable included in a regression to eliminate or \"control for\" a spurious relationship.\n",
    "\n",
    "-   **proxy variable**: A variable that contributes information to a regression model indirectly because of a relationship with another factor, so it acts as a proxy for that factor.\n",
    "\n",
    "-   **categorical variable**: A variable that can have one of a discrete set of unordered values.\n",
    "\n",
    "-   **join**: An operation that combines data from two `DataFrame`s using a key to match up rows in the two frames.\n",
    "\n",
    "-   **data mining**: An approach to finding relationships between variables by testing a large number of models.\n",
    "\n",
    "-   **logistic regression**: A form of regression used when the dependent variable is boolean.\n",
    "\n",
    "-   **Poisson regression**: A form of regression used when the dependent variable is a non-negative integer, usually a count.\n",
    "\n",
    "-   **odds**: An alternative way of representing a probability, $p$, as the ratio of the probability and its complement, $p / (1-p)$."
   ]
  },
  {
   "cell_type": "markdown",
   "id": "5e334137",
   "metadata": {
    "collapsed": true
   },
   "source": [
    "## Exercises"
   ]
  },
  {
   "cell_type": "markdown",
   "id": "eeda414b",
   "metadata": {},
   "source": [
    "### Exercise\n",
    "\n",
    "Continuing the last example, let's see if Chinstrap penguins are more or less dimorphic than the other penguin species in the dataset -- as quantified by the pseudo $R^2$ value of the model.\n",
    "Use `get_species` to select the Chinstrap penguins, then use logistic regression to fit the model to the data.\n",
    "How does the pseudo $R^2$ value compare to the other models?"
   ]
  },
  {
   "cell_type": "code",
   "execution_count": null,
   "id": "5eac789b",
   "metadata": {},
   "outputs": [],
   "source": [
    "chinstrap = get_species(penguins, \"Chinstrap\")\n",
    "len(chinstrap)"
   ]
  },
  {
   "cell_type": "code",
   "execution_count": null,
   "id": "3f347214",
   "metadata": {},
   "outputs": [],
   "source": [
    "formula = \"y ~ mass + flipper_length + culmen_length + culmen_depth\"\n",
    "model = smf.logit(formula, data=chinstrap)\n",
    "result = model.fit(disp=False)\n",
    "display_summary(result)"
   ]
  },
  {
   "cell_type": "markdown",
   "id": "10888cd5",
   "metadata": {},
   "source": [
    "### Exercise\n",
    "\n",
    "For the Adelie penguins, fit a linear regression model that predicts penguin weights as a function of `flipper_length`, `culmen_depth`,  and `Sex` as a categorical variable.\n",
    "Generate predictions for a range of flipper lengths, for male and female penguins, with `culmen_depth` set to its average value.\n",
    "If we control for flipper length and culmen depth, how much heavier are male penguins?"
   ]
  },
  {
   "cell_type": "code",
   "execution_count": null,
   "id": "5b6eae45",
   "metadata": {},
   "outputs": [],
   "source": [
    "# Solution\n",
    "\n",
    "# Controlling for flipper length and culmen depth, male Adelie penguins\n",
    "# are about 505 grams heavier, which is substantial!\n",
    "# And the difference is statistically significant.\n",
    "\n",
    "formula = \"mass ~ flipper_length + culmen_depth + C(Sex)\"\n",
    "model = smf.ols(formula, data=adelie)\n",
    "result = model.fit()\n",
    "display_summary(result)"
   ]
  },
  {
   "cell_type": "code",
   "execution_count": null,
   "id": "7c6507f0",
   "metadata": {},
   "outputs": [],
   "source": [
    "# Solution\n",
    "\n",
    "flipper_range = np.linspace(flipper_length.min(), flipper_length.max())\n",
    "df = pd.DataFrame({\"flipper_length\": flipper_range})\n",
    "df[\"culmen_length\"] = adelie[\"culmen_length\"].mean()\n",
    "df[\"culmen_depth\"] = adelie[\"culmen_depth\"].mean()\n",
    "\n",
    "df[\"Sex\"] = \"MALE\"\n",
    "fit_ys_male = result.predict(df)\n",
    "\n",
    "# note: we can reuse the temporary DataFrame to generate preditions\n",
    "df[\"Sex\"] = \"FEMALE\"\n",
    "fit_ys_female = result.predict(df)"
   ]
  },
  {
   "cell_type": "code",
   "execution_count": null,
   "id": "23da96b4",
   "metadata": {},
   "outputs": [],
   "source": [
    "# Solution\n",
    "\n",
    "flipper_length = adelie[\"flipper_length\"]\n",
    "mass = adelie[\"mass\"]\n",
    "plt.scatter(flipper_length, mass, marker=\".\", alpha=0.5)\n",
    "\n",
    "plt.plot(flipper_range, fit_ys_male, color=\"C2\", label=\"Male\")\n",
    "plt.plot(flipper_range, fit_ys_female, color=\"C1\", label=\"Female\")\n",
    "\n",
    "decorate(xlabel=\"Flipper length (mm)\", ylabel=\"Mass (g)\")"
   ]
  },
  {
   "cell_type": "markdown",
   "id": "6caad11a",
   "metadata": {},
   "source": [
    "### Exercise\n"
   ]
  },
  {
   "cell_type": "code",
   "execution_count": 63,
   "id": "457b7530",
   "metadata": {},
   "outputs": [
    {
     "data": {
      "text/html": [
       "<table class=\"simpletable\">\n",
       "<tr>\n",
       "         <td></td>           <th>coef</th>     <th>std err</th>      <th>z</th>      <th>P>|z|</th>  <th>[0.025</th>    <th>0.975]</th>  \n",
       "</tr>\n",
       "<tr>\n",
       "  <th>Intercept</th>      <td>  -60.6075</td> <td>   13.793</td> <td>   -4.394</td> <td> 0.000</td> <td>  -87.642</td> <td>  -33.573</td>\n",
       "</tr>\n",
       "<tr>\n",
       "  <th>mass</th>           <td>    0.0059</td> <td>    0.001</td> <td>    4.153</td> <td> 0.000</td> <td>    0.003</td> <td>    0.009</td>\n",
       "</tr>\n",
       "<tr>\n",
       "  <th>flipper_length</th> <td>   -0.0209</td> <td>    0.052</td> <td>   -0.403</td> <td> 0.687</td> <td>   -0.123</td> <td>    0.081</td>\n",
       "</tr>\n",
       "<tr>\n",
       "  <th>culmen_length</th>  <td>    0.6208</td> <td>    0.176</td> <td>    3.536</td> <td> 0.000</td> <td>    0.277</td> <td>    0.965</td>\n",
       "</tr>\n",
       "<tr>\n",
       "  <th>culmen_depth</th>   <td>    1.0111</td> <td>    0.349</td> <td>    2.896</td> <td> 0.004</td> <td>    0.327</td> <td>    1.695</td>\n",
       "</tr>\n",
       "</table>"
      ],
      "text/latex": [
       "\\begin{center}\n",
       "\\begin{tabular}{lcccccc}\n",
       "\\toprule\n",
       "                         & \\textbf{coef} & \\textbf{std err} & \\textbf{z} & \\textbf{P$> |$z$|$} & \\textbf{[0.025} & \\textbf{0.975]}  \\\\\n",
       "\\midrule\n",
       "\\textbf{Intercept}       &     -60.6075  &       13.793     &    -4.394  &         0.000        &      -87.642    &      -33.573     \\\\\n",
       "\\textbf{mass}            &       0.0059  &        0.001     &     4.153  &         0.000        &        0.003    &        0.009     \\\\\n",
       "\\textbf{flipper\\_length} &      -0.0209  &        0.052     &    -0.403  &         0.687        &       -0.123    &        0.081     \\\\\n",
       "\\textbf{culmen\\_length}  &       0.6208  &        0.176     &     3.536  &         0.000        &        0.277    &        0.965     \\\\\n",
       "\\textbf{culmen\\_depth}   &       1.0111  &        0.349     &     2.896  &         0.004        &        0.327    &        1.695     \\\\\n",
       "\\bottomrule\n",
       "\\end{tabular}\n",
       "\\end{center}"
      ],
      "text/plain": [
       "<class 'statsmodels.iolib.table.SimpleTable'>"
      ]
     },
     "metadata": {},
     "output_type": "display_data"
    },
    {
     "data": {
      "text/html": [
       "<table class=\"simpletable\">\n",
       "<tr>\n",
       "  <td>Pseudo R-squared:</td> <td>0.6622</td>\n",
       "</tr>\n",
       "</table>"
      ],
      "text/latex": [
       "\\begin{center}\n",
       "\\begin{tabular}{cc}\n",
       "\\toprule\n",
       "Pseudo R-squared: & 0.6622  \\\\\n",
       "\\bottomrule\n",
       "\\end{tabular}\n",
       "\\end{center}"
      ],
      "text/plain": [
       "<class 'statsmodels.iolib.table.SimpleTable'>"
      ]
     },
     "metadata": {},
     "output_type": "display_data"
    },
    {
     "data": {
      "application/javascript": [
       "\n",
       "            setTimeout(function() {\n",
       "                var nbb_cell_id = 63;\n",
       "                var nbb_unformatted_code = \"formula = \\\"y ~ mass + flipper_length + culmen_length + culmen_depth\\\"\\nmodel = smf.logit(\\n    formula, data=adelie\\n)\\nresult = model.fit(disp=False)\\ndisplay_summary(result)\";\n",
       "                var nbb_formatted_code = \"formula = \\\"y ~ mass + flipper_length + culmen_length + culmen_depth\\\"\\nmodel = smf.logit(formula, data=adelie)\\nresult = model.fit(disp=False)\\ndisplay_summary(result)\";\n",
       "                var nbb_cells = Jupyter.notebook.get_cells();\n",
       "                for (var i = 0; i < nbb_cells.length; ++i) {\n",
       "                    if (nbb_cells[i].input_prompt_number == nbb_cell_id) {\n",
       "                        if (nbb_cells[i].get_text() == nbb_unformatted_code) {\n",
       "                             nbb_cells[i].set_text(nbb_formatted_code);\n",
       "                        }\n",
       "                        break;\n",
       "                    }\n",
       "                }\n",
       "            }, 500);\n",
       "            "
      ],
      "text/plain": [
       "<IPython.core.display.Javascript object>"
      ]
     },
     "metadata": {},
     "output_type": "display_data"
    }
   ],
   "source": [
    "formula = \"y ~ mass + flipper_length + culmen_length + culmen_depth\"\n",
    "model = smf.logit(formula, data=adelie)\n",
    "result = model.fit(disp=False)\n",
    "display_summary(result)"
   ]
  },
  {
   "cell_type": "code",
   "execution_count": null,
   "id": "2cf73a9a",
   "metadata": {},
   "outputs": [],
   "source": [
    "model = smf.logit(\"y ~ mass + culmen_length + culmen_depth\", data=adelie)\n",
    "result = model.fit(disp=False)\n",
    "display_summary(result)"
   ]
  },
  {
   "cell_type": "code",
   "execution_count": null,
   "id": "73e4f81e",
   "metadata": {},
   "outputs": [],
   "source": []
  }
 ],
 "metadata": {
  "celltoolbar": "Tags",
  "kernelspec": {
   "display_name": "Python 3 (ipykernel)",
   "language": "python",
   "name": "python3"
  },
  "language_info": {
   "codemirror_mode": {
    "name": "ipython",
    "version": 3
   },
   "file_extension": ".py",
   "mimetype": "text/x-python",
   "name": "python",
   "nbconvert_exporter": "python",
   "pygments_lexer": "ipython3",
   "version": "3.10.14"
  }
 },
 "nbformat": 4,
 "nbformat_minor": 5
}
