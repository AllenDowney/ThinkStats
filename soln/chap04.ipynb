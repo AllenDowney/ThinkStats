{
 "cells": [
  {
   "cell_type": "markdown",
   "id": "2148ec88",
   "metadata": {},
   "source": [
    "# Cumulative distribution functions"
   ]
  },
  {
   "cell_type": "code",
   "execution_count": 1,
   "id": "7ad70082",
   "metadata": {},
   "outputs": [],
   "source": [
    "from os.path import basename, exists\n",
    "\n",
    "\n",
    "def download(url):\n",
    "    filename = basename(url)\n",
    "    if not exists(filename):\n",
    "        from urllib.request import urlretrieve\n",
    "\n",
    "        local, _ = urlretrieve(url, filename)\n",
    "        print(\"Downloaded \" + local)\n",
    "\n",
    "\n",
    "download(\"https://github.com/AllenDowney/ThinkStats2/raw/master/code/thinkstats2.py\")\n",
    "download(\"https://github.com/AllenDowney/ThinkStats2/raw/master/code/thinkplot.py\")\n",
    "download(\"https://github.com/AllenDowney/ThinkStats2/raw/master/code/nsfg.py\")\n",
    "download(\"https://github.com/AllenDowney/ThinkStats2/raw/master/code/first.py\")\n",
    "\n",
    "\n",
    "download(\"https://github.com/AllenDowney/ThinkStats2/raw/master/code/2002FemPreg.dct\")\n",
    "download(\n",
    "    \"https://github.com/AllenDowney/ThinkStats2/raw/master/code/2002FemPreg.dat.gz\"\n",
    ")"
   ]
  },
  {
   "cell_type": "code",
   "execution_count": 2,
   "id": "162b32f7",
   "metadata": {},
   "outputs": [],
   "source": [
    "import thinkstats2\n",
    "import thinkplot"
   ]
  },
  {
   "cell_type": "markdown",
   "id": "3e5f2250",
   "metadata": {},
   "source": [
    "## The limits of PMFs\n",
    "\n",
    "PMFs work well if the number of values is small. But as the number of\n",
    "values increases, the probability associated with each value gets\n",
    "smaller and the effect of random noise increases.\n",
    "\n",
    "For example, we might be interested in the distribution of birth\n",
    "weights. In the NSFG data, the variable `totalwgt_lb` records weight at\n",
    "birth in pounds.\n",
    "Figure [\\[nsfg_birthwgt_pmf\\]](#nsfg_birthwgt_pmf){reference-type=\"ref\"\n",
    "reference=\"nsfg_birthwgt_pmf\"} shows the PMF of these values for first\n",
    "babies and others."
   ]
  },
  {
   "cell_type": "code",
   "execution_count": 3,
   "id": "d9dd00be",
   "metadata": {},
   "outputs": [],
   "source": [
    "import first\n",
    "\n",
    "live, firsts, others = first.MakeFrames()\n"
   ]
  },
  {
   "cell_type": "code",
   "execution_count": 4,
   "id": "cec7492a",
   "metadata": {},
   "outputs": [
    {
     "name": "stdout",
     "output_type": "stream",
     "text": [
      "Firsts 4413 4363\n",
      "Others 4735 4675\n"
     ]
    }
   ],
   "source": [
    "first_wgt = firsts.totalwgt_lb\n",
    "first_wgt_dropna = first_wgt.dropna()\n",
    "print('Firsts', len(first_wgt), len(first_wgt_dropna))\n",
    " \n",
    "other_wgt = others.totalwgt_lb\n",
    "other_wgt_dropna = other_wgt.dropna()\n",
    "print('Others', len(other_wgt), len(other_wgt_dropna))\n",
    "\n",
    "first_pmf = thinkstats2.Pmf(first_wgt_dropna, label='first')\n",
    "other_pmf = thinkstats2.Pmf(other_wgt_dropna, label='other')"
   ]
  },
  {
   "cell_type": "code",
   "execution_count": 5,
   "id": "b5c7d4a6",
   "metadata": {},
   "outputs": [
    {
     "data": {
      "image/png": "[encoded data removed]",
      "text/plain": [
       "<Figure size 640x480 with 1 Axes>"
      ]
     },
     "metadata": {},
     "output_type": "display_data"
    }
   ],
   "source": [
    "width = 0.4 / 16\n",
    "\n",
    "# plot PMFs of birth weights for first babies and others\n",
    "thinkplot.PrePlot(2)\n",
    "thinkplot.Hist(first_pmf, align='right', width=width)\n",
    "thinkplot.Hist(other_pmf, align='left', width=width)\n",
    "thinkplot.Config(xlabel='Weight (pounds)', ylabel='PMF')"
   ]
  },
  {
   "cell_type": "markdown",
   "id": "f195bde7",
   "metadata": {},
   "source": [
    "Overall, these distributions resemble the bell shape of a normal\n",
    "distribution, with many values near the mean and a few values much\n",
    "higher and lower.\n",
    "\n",
    "But parts of this figure are hard to interpret. There are many spikes\n",
    "and valleys, and some apparent differences between the distributions. It\n",
    "is hard to tell which of these features are meaningful. Also, it is hard\n",
    "to see overall patterns; for example, which distribution do you think\n",
    "has the higher mean?\n",
    "\n",
    "These problems can be mitigated by binning the data; that is, dividing\n",
    "the range of values into non-overlapping intervals and counting the\n",
    "number of values in each bin. Binning can be useful, but it is tricky to\n",
    "get the size of the bins right. If they are big enough to smooth out\n",
    "noise, they might also smooth out useful information.\n",
    "\n",
    "An alternative that avoids these problems is the cumulative distribution\n",
    "function (CDF), which is the subject of this chapter. But before I can\n",
    "explain CDFs, I have to explain percentiles."
   ]
  },
  {
   "cell_type": "markdown",
   "id": "d4138e00",
   "metadata": {},
   "source": [
    "## Percentiles\n",
    "\n",
    "If you have taken a standardized test, you probably got your results in\n",
    "the form of a raw score and a **percentile rank**. In this context, the\n",
    "percentile rank is the fraction of people who scored lower than you (or\n",
    "the same). So if you are \"in the 90th percentile,\" you did as well as or\n",
    "better than 90% of the people who took the exam.\n",
    "\n",
    "Here's how you could compute the percentile rank of a value,\n",
    "`your_score`, relative to the values in the sequence `scores`:"
   ]
  },
  {
   "cell_type": "code",
   "execution_count": 6,
   "id": "2faaf708",
   "metadata": {},
   "outputs": [],
   "source": [
    "def PercentileRank(scores, your_score):\n",
    "    count = 0\n",
    "    for score in scores:\n",
    "        if score <= your_score:\n",
    "            count += 1\n",
    "\n",
    "    percentile_rank = 100.0 * count / len(scores)\n",
    "    return percentile_rank"
   ]
  },
  {
   "cell_type": "markdown",
   "id": "4aa342d4",
   "metadata": {},
   "source": [
    "As an example, if the scores in the sequence were 55, 66, 77, 88 and 99,\n",
    "and you got the 88, then your percentile rank would be `100 * 4 / 5`\n",
    "which is 80."
   ]
  },
  {
   "cell_type": "code",
   "execution_count": 8,
   "id": "df39c7f3",
   "metadata": {},
   "outputs": [],
   "source": [
    "t = [55, 66, 77, 88, 99]"
   ]
  },
  {
   "cell_type": "code",
   "execution_count": 9,
   "id": "029d94b7",
   "metadata": {},
   "outputs": [
    {
     "data": {
      "text/plain": [
       "80.0"
      ]
     },
     "execution_count": 9,
     "metadata": {},
     "output_type": "execute_result"
    }
   ],
   "source": [
    "PercentileRank(t, 88)"
   ]
  },
  {
   "cell_type": "markdown",
   "id": "a026ec4d",
   "metadata": {},
   "source": [
    "If you are given a value, it is easy to find its percentile rank; going\n",
    "the other way is slightly harder. If you are given a percentile rank and\n",
    "you want to find the corresponding value, one option is to sort the\n",
    "values and search for the one you want:"
   ]
  },
  {
   "cell_type": "code",
   "execution_count": 7,
   "id": "1e68542e",
   "metadata": {},
   "outputs": [],
   "source": [
    "def Percentile(scores, percentile_rank):\n",
    "    scores.sort()\n",
    "    for score in scores:\n",
    "        if PercentileRank(scores, score) >= percentile_rank:\n",
    "            return score"
   ]
  },
  {
   "cell_type": "markdown",
   "id": "0058a9a8",
   "metadata": {},
   "source": [
    "The result of this calculation is a **percentile**. For example, the\n",
    "50th percentile is the value with percentile rank 50. In the\n",
    "distribution of exam scores, the 50th percentile is 77."
   ]
  },
  {
   "cell_type": "code",
   "execution_count": 10,
   "id": "83261d15",
   "metadata": {},
   "outputs": [
    {
     "data": {
      "text/plain": [
       "77"
      ]
     },
     "execution_count": 10,
     "metadata": {},
     "output_type": "execute_result"
    }
   ],
   "source": [
    "Percentile(t, 50)"
   ]
  },
  {
   "cell_type": "markdown",
   "id": "fa7f2ef7",
   "metadata": {},
   "source": [
    "This implementation of `Percentile` is not efficient. A better approach\n",
    "is to use the percentile rank to compute the index of the corresponding\n",
    "percentile:"
   ]
  },
  {
   "cell_type": "code",
   "execution_count": 11,
   "id": "2e0a763d",
   "metadata": {},
   "outputs": [],
   "source": [
    "def Percentile2(scores, percentile_rank):\n",
    "    scores.sort()\n",
    "    index = percentile_rank * (len(scores)-1) // 100\n",
    "    return scores[index]"
   ]
  },
  {
   "cell_type": "code",
   "execution_count": 13,
   "id": "fc15e580",
   "metadata": {},
   "outputs": [
    {
     "data": {
      "text/plain": [
       "77"
      ]
     },
     "execution_count": 13,
     "metadata": {},
     "output_type": "execute_result"
    }
   ],
   "source": [
    "Percentile2(t, 50)"
   ]
  },
  {
   "cell_type": "markdown",
   "id": "68fd4190",
   "metadata": {},
   "source": [
    "The difference between \"percentile\" and \"percentile rank\" can be\n",
    "confusing, and people do not always use the terms precisely. To\n",
    "summarize, `PercentileRank` takes a value and computes its percentile\n",
    "rank in a set of values; `Percentile` takes a percentile rank and\n",
    "computes the corresponding value."
   ]
  },
  {
   "cell_type": "markdown",
   "id": "243f1bc9",
   "metadata": {},
   "source": [
    "## CDFs\n",
    "\n",
    "Now that we understand percentiles and percentile ranks, we are ready to\n",
    "tackle the **cumulative distribution function** (CDF). The CDF is the\n",
    "function that maps from a value to its percentile rank.\n",
    "\n",
    "The CDF is a function of $x$, where $x$ is any value that might appear\n",
    "in the distribution. To evaluate $CDF(x)$ for a particular value of\n",
    "$x$, we compute the fraction of values in the distribution less than or\n",
    "equal to $x$.\n",
    "\n",
    "Here's what that looks like as a function that takes a sequence,\n",
    "`sample`, and a value, `x`:"
   ]
  },
  {
   "cell_type": "code",
   "execution_count": 14,
   "id": "ddfab968",
   "metadata": {},
   "outputs": [],
   "source": [
    "def EvalCdf(sample, x):\n",
    "    count = 0.0\n",
    "    for value in sample:\n",
    "        if value <= x:\n",
    "            count += 1\n",
    "\n",
    "    prob = count / len(sample)\n",
    "    return prob"
   ]
  },
  {
   "cell_type": "markdown",
   "id": "34527e0d",
   "metadata": {},
   "source": [
    "This function is almost identical to `PercentileRank`, except that the\n",
    "result is a probability in the range 0--1 rather than a percentile rank\n",
    "in the range 0--100.\n",
    "\n",
    "As an example, suppose we collect a sample with the values\n",
    "`[1, 2, 2, 3, 5]`. Here are some values from its CDF: $$CDF(0) = 0$$\n",
    "$$CDF(1) = 0.2$$ $$CDF(2) = 0.6$$ $$CDF(3) = 0.8$$ $$CDF(4) = 0.8$$\n",
    "$$CDF(5) = 1$$ We can evaluate the CDF for any value of $x$, not just\n",
    "values that appear in the sample. If $x$ is less than the smallest value\n",
    "in the sample, $CDF(x)$ is 0. If $x$ is greater than the largest value,\n",
    "$CDF(x)$ is 1.\n"
   ]
  },
  {
   "cell_type": "code",
   "execution_count": 15,
   "id": "a092f3ac",
   "metadata": {},
   "outputs": [
    {
     "data": {
      "text/plain": [
       "(0.0, 0.2, 0.6, 0.8, 0.8, 1.0)"
      ]
     },
     "execution_count": 15,
     "metadata": {},
     "output_type": "execute_result"
    }
   ],
   "source": [
    "t = [1, 2, 2, 3, 5]\n",
    "\n",
    "EvalCdf(t, 0), EvalCdf(t, 1), EvalCdf(t, 2), EvalCdf(t, 3), EvalCdf(t, 4), EvalCdf(t, 5)"
   ]
  },
  {
   "cell_type": "markdown",
   "id": "a5849114",
   "metadata": {},
   "source": [
    "Figure [\\[example_cdf\\]](#example_cdf){reference-type=\"ref\"\n",
    "reference=\"example_cdf\"} is a graphical representation of this CDF. The\n",
    "CDF of a sample is a step function."
   ]
  },
  {
   "cell_type": "code",
   "execution_count": 17,
   "id": "c6d6ca75",
   "metadata": {},
   "outputs": [
    {
     "data": {
      "image/png": "[encoded data removed]",
      "text/plain": [
       "<Figure size 640x480 with 1 Axes>"
      ]
     },
     "metadata": {},
     "output_type": "display_data"
    }
   ],
   "source": [
    "cdf = thinkstats2.Cdf(t)\n",
    "thinkplot.Cdf(cdf)\n",
    "thinkplot.Config(xlabel='x', ylabel='CDF', loc='upper left')"
   ]
  },
  {
   "cell_type": "markdown",
   "id": "9dd502d1",
   "metadata": {},
   "source": [
    "## Representing CDFs\n",
    "\n",
    "`thinkstats2` provides a class named Cdf that represents CDFs. The\n",
    "fundamental methods Cdf provides are:\n",
    "\n",
    "-   `Prob(x)`: Given a value `x`, computes the probability\n",
    "    $p = CDF(x)$. The bracket operator is equivalent to `Prob`.\n",
    "\n",
    "-   `Value(p)`: Given a probability `p`, computes the corresponding\n",
    "    value, `x`; that is, the **inverse CDF** of `p`."
   ]
  },
  {
   "cell_type": "markdown",
   "id": "e8e5b681",
   "metadata": {},
   "source": [
    "The Cdf constructor can take as an argument a list of values, a pandas\n",
    "Series, a Hist, Pmf, or another Cdf. The following code makes a Cdf for\n",
    "the distribution of pregnancy lengths in the NSFG:"
   ]
  },
  {
   "cell_type": "code",
   "execution_count": 31,
   "id": "053b138d",
   "metadata": {},
   "outputs": [],
   "source": [
    "cdf = thinkstats2.Cdf(live.prglngth, label='prglngth')"
   ]
  },
  {
   "cell_type": "markdown",
   "id": "edecadc5",
   "metadata": {},
   "source": [
    "`thinkplot` provides a function named `Cdf` that plots Cdfs as lines:"
   ]
  },
  {
   "cell_type": "code",
   "execution_count": 32,
   "id": "cae85939",
   "metadata": {},
   "outputs": [
    {
     "data": {
      "image/png": "[encoded data removed]",
      "text/plain": [
       "<Figure size 640x480 with 1 Axes>"
      ]
     },
     "metadata": {},
     "output_type": "display_data"
    },
    {
     "data": {
      "text/plain": [
       "<Figure size 800x600 with 0 Axes>"
      ]
     },
     "metadata": {},
     "output_type": "display_data"
    }
   ],
   "source": [
    "thinkplot.Cdf(cdf)\n",
    "thinkplot.Show(xlabel='weeks', ylabel='CDF')"
   ]
  },
  {
   "cell_type": "markdown",
   "id": "47787fe6",
   "metadata": {},
   "source": [
    "Figure [\\[cumulative_prglngth_cdf\\]](#cumulative_prglngth_cdf){reference-type=\"ref\"\n",
    "reference=\"cumulative_prglngth_cdf\"} shows the result. One way to read a\n",
    "CDF is to look up percentiles. For example, it looks like about 10% of\n",
    "pregnancies are shorter than 36 weeks, and about 90% are shorter than 41\n",
    "weeks. The CDF also provides a visual representation of the shape of the\n",
    "distribution. Common values appear as steep or vertical sections of the\n",
    "CDF; in this example, the mode at 39 weeks is apparent. There are few\n",
    "values below 30 weeks, so the CDF in this range is flat.\n",
    "\n",
    "It takes some time to get used to CDFs, but once you do, I think you\n",
    "will find that they show more information, more clearly, than PMFs."
   ]
  },
  {
   "cell_type": "markdown",
   "id": "a8d7e7e9",
   "metadata": {},
   "source": [
    "`Cdf` provides `Prob`, which evaluates the CDF; that is, it computes the fraction of values less than or equal to the given value.  For example, 94% of pregnancy lengths are less than or equal to 41."
   ]
  },
  {
   "cell_type": "code",
   "execution_count": 33,
   "id": "a8e71ba9",
   "metadata": {},
   "outputs": [
    {
     "data": {
      "text/plain": [
       "0.9406427634455619"
      ]
     },
     "execution_count": 33,
     "metadata": {},
     "output_type": "execute_result"
    }
   ],
   "source": [
    "cdf.Prob(41)"
   ]
  },
  {
   "cell_type": "markdown",
   "id": "40719965",
   "metadata": {},
   "source": [
    "`Value` evaluates the inverse CDF; given a fraction, it computes the corresponding value.  For example, the median is the value that corresponds to 0.5."
   ]
  },
  {
   "cell_type": "code",
   "execution_count": 34,
   "id": "1900d744",
   "metadata": {},
   "outputs": [
    {
     "data": {
      "text/plain": [
       "39"
      ]
     },
     "execution_count": 34,
     "metadata": {},
     "output_type": "execute_result"
    }
   ],
   "source": [
    "cdf.Value(0.5)"
   ]
  },
  {
   "cell_type": "markdown",
   "id": "3bed54d9",
   "metadata": {},
   "source": [
    "## Comparing CDFs\n",
    "\n",
    "CDFs are especially useful for comparing distributions. For example,\n",
    "here is the code that plots the CDF of birth weight for first babies and\n",
    "others."
   ]
  },
  {
   "cell_type": "code",
   "execution_count": 22,
   "id": "4089ef39",
   "metadata": {},
   "outputs": [
    {
     "data": {
      "image/png": "[encoded data removed]",
      "text/plain": [
       "<Figure size 640x480 with 1 Axes>"
      ]
     },
     "metadata": {},
     "output_type": "display_data"
    },
    {
     "data": {
      "text/plain": [
       "<Figure size 800x600 with 0 Axes>"
      ]
     },
     "metadata": {},
     "output_type": "display_data"
    }
   ],
   "source": [
    "first_cdf = thinkstats2.Cdf(firsts.totalwgt_lb, label='first')\n",
    "other_cdf = thinkstats2.Cdf(others.totalwgt_lb, label='other')\n",
    "\n",
    "thinkplot.PrePlot(2)\n",
    "thinkplot.Cdfs([first_cdf, other_cdf])\n",
    "thinkplot.Show(xlabel='weight (pounds)', ylabel='CDF')"
   ]
  },
  {
   "cell_type": "markdown",
   "id": "397bbdae",
   "metadata": {},
   "source": [
    "Compared to\n",
    "Figure [\\[nsfg_birthwgt_pmf\\]](#nsfg_birthwgt_pmf){reference-type=\"ref\"\n",
    "reference=\"nsfg_birthwgt_pmf\"}, this figure makes the shape of the\n",
    "distributions, and the differences between them, much clearer. We can\n",
    "see that first babies are slightly lighter throughout the distribution,\n",
    "with a larger discrepancy above the mean."
   ]
  },
  {
   "cell_type": "markdown",
   "id": "70b009a7",
   "metadata": {},
   "source": [
    "## Percentile-based statistics\n",
    "\n",
    "Once you have computed a CDF, it is easy to compute percentiles and\n",
    "percentile ranks. The Cdf class provides these two methods:\n",
    "\n",
    "-   `PercentileRank(x)`: Given a value `x`, computes its percentile\n",
    "    rank, $100 \\cdot CDF(x)$.\n",
    "\n",
    "-   `Percentile(p)`: Given a percentile rank `p`, computes the\n",
    "    corresponding value, `x`. Equivalent to `Value(p/100)`.\n",
    "\n",
    "`Percentile` can be used to compute percentile-based summary statistics.\n",
    "For example, the 50th percentile is the value that divides the\n",
    "distribution in half, also known as the **median**. Like the mean, the\n",
    "median is a measure of the central tendency of a distribution."
   ]
  },
  {
   "cell_type": "code",
   "execution_count": 36,
   "id": "a32716e7",
   "metadata": {},
   "outputs": [],
   "source": [
    "weights = live.totalwgt_lb\n",
    "live_cdf = thinkstats2.Cdf(weights, label='live')"
   ]
  },
  {
   "cell_type": "code",
   "execution_count": 37,
   "id": "7357bb4f",
   "metadata": {},
   "outputs": [
    {
     "data": {
      "text/plain": [
       "7.375"
      ]
     },
     "execution_count": 37,
     "metadata": {},
     "output_type": "execute_result"
    }
   ],
   "source": [
    "median = live_cdf.Percentile(50)\n",
    "median"
   ]
  },
  {
   "cell_type": "markdown",
   "id": "1bcc5a0a",
   "metadata": {},
   "source": [
    "Actually, there are several definitions of \"median,\" each with different\n",
    "properties. But `Percentile(50)` is simple and efficient to compute."
   ]
  },
  {
   "cell_type": "markdown",
   "id": "ae3de011",
   "metadata": {},
   "source": [
    "Another percentile-based statistic is the **interquartile range** (IQR),\n",
    "which is a measure of the spread of a distribution. The IQR is the\n",
    "difference between the 75th and 25th percentiles."
   ]
  },
  {
   "cell_type": "code",
   "execution_count": 38,
   "id": "f84e5df3",
   "metadata": {},
   "outputs": [
    {
     "data": {
      "text/plain": [
       "(6.5, 8.125)"
      ]
     },
     "execution_count": 38,
     "metadata": {},
     "output_type": "execute_result"
    }
   ],
   "source": [
    "iqr = (live_cdf.Percentile(25), live_cdf.Percentile(75))\n",
    "iqr"
   ]
  },
  {
   "cell_type": "markdown",
   "id": "bad0090a",
   "metadata": {},
   "source": [
    "More generally, percentiles are often used to summarize the shape of a\n",
    "distribution. For example, the distribution of income is often reported\n",
    "in \"quintiles\"; that is, it is split at the 20th, 40th, 60th and 80th\n",
    "percentiles. Other distributions are divided into ten \"deciles\".\n",
    "Statistics like these that represent equally-spaced points in a CDF are\n",
    "called **quantiles**. For more, see\n",
    "<https://en.wikipedia.org/wiki/Quantile>."
   ]
  },
  {
   "cell_type": "markdown",
   "id": "5279c66b",
   "metadata": {},
   "source": [
    "## Random numbers\n",
    "\n",
    "Suppose we choose a random sample from the population of live births and\n",
    "look up the percentile rank of their birth weights. Now suppose we\n",
    "compute the CDF of the percentile ranks. What do you think the\n",
    "distribution will look like?\n",
    "\n",
    "Here's how we can compute it. First, we make the Cdf of birth weights:"
   ]
  },
  {
   "cell_type": "code",
   "execution_count": 23,
   "id": "1e469506",
   "metadata": {},
   "outputs": [],
   "source": [
    "weights = live.totalwgt_lb\n",
    "cdf = thinkstats2.Cdf(weights, label='totalwgt_lb')"
   ]
  },
  {
   "cell_type": "markdown",
   "id": "65942fac",
   "metadata": {},
   "source": [
    "Then we generate a sample and compute the percentile rank of each value\n",
    "in the sample."
   ]
  },
  {
   "cell_type": "code",
   "execution_count": 25,
   "id": "154d9999",
   "metadata": {},
   "outputs": [],
   "source": [
    "import numpy as np\n",
    "\n",
    "sample = np.random.choice(weights, 100, replace=True)\n",
    "ranks = [cdf.PercentileRank(x) for x in sample]"
   ]
  },
  {
   "cell_type": "markdown",
   "id": "a687ada3",
   "metadata": {},
   "source": [
    "`sample` is a random sample of 100 birth weights, chosen with\n",
    "**replacement**; that is, the same value could be chosen more than once.\n",
    "`ranks` is a list of percentile ranks.\n",
    "\n",
    "Finally we make and plot the Cdf of the percentile ranks."
   ]
  },
  {
   "cell_type": "code",
   "execution_count": 26,
   "id": "271a5cc3",
   "metadata": {},
   "outputs": [
    {
     "data": {
      "image/png": "[encoded data removed]",
      "text/plain": [
       "<Figure size 640x480 with 1 Axes>"
      ]
     },
     "metadata": {},
     "output_type": "display_data"
    },
    {
     "data": {
      "text/plain": [
       "<Figure size 800x600 with 0 Axes>"
      ]
     },
     "metadata": {},
     "output_type": "display_data"
    }
   ],
   "source": [
    "rank_cdf = thinkstats2.Cdf(ranks)\n",
    "thinkplot.Cdf(rank_cdf)\n",
    "thinkplot.Show(xlabel='percentile rank', ylabel='CDF')"
   ]
  },
  {
   "cell_type": "markdown",
   "id": "2e9acd5d",
   "metadata": {},
   "source": [
    "This figure shows the result. The CDF is\n",
    "approximately a straight line, which means that the distribution is\n",
    "uniform.\n",
    "\n",
    "That outcome might be non-obvious, but it is a consequence of the way\n",
    "the CDF is defined. What this figure shows is that 10% of the sample is\n",
    "below the 10th percentile, 20% is below the 20th percentile, and so on,\n",
    "exactly as we should expect."
   ]
  },
  {
   "cell_type": "markdown",
   "id": "365491b7",
   "metadata": {},
   "source": [
    "So, regardless of the shape of the CDF, the distribution of percentile\n",
    "ranks is uniform. This property is useful, because it is the basis of a\n",
    "simple and efficient algorithm for generating random numbers with a\n",
    "given CDF. Here's how:\n",
    "\n",
    "-   Choose a percentile rank uniformly from the range 0--100.\n",
    "\n",
    "-   Use `Cdf.Percentile` to find the value in the distribution that\n",
    "    corresponds to the percentile rank you chose.\n",
    "\n",
    "Cdf provides an implementation of this algorithm, called `Random`:"
   ]
  },
  {
   "cell_type": "code",
   "execution_count": 28,
   "id": "a9d31255",
   "metadata": {},
   "outputs": [],
   "source": [
    "def Random(self):\n",
    "    return self.Percentile(random.uniform(0, 100))"
   ]
  },
  {
   "cell_type": "markdown",
   "id": "a4c9d399",
   "metadata": {},
   "source": [
    "Cdf also provides `Sample`, which takes an integer, `n`, and returns a\n",
    "list of `n` values chosen at random from the Cdf."
   ]
  },
  {
   "cell_type": "markdown",
   "id": "15c9cf4f",
   "metadata": {},
   "source": [
    "## Comparing percentile ranks\n",
    "\n",
    "Percentile ranks are useful for comparing measurements across different\n",
    "groups. For example, people who compete in foot races are usually\n",
    "grouped by age and gender. To compare people in different age groups,\n",
    "you can convert race times to percentile ranks.\n",
    "\n",
    "A few years ago I ran the James Joyce Ramble 10K in Dedham MA; I\n",
    "finished in 42:44, which was 97th in a field of 1633. I beat or tied\n",
    "1537 runners out of 1633, so my percentile rank in the field is 94%.\n",
    "\n",
    "More generally, given position and field size, we can compute percentile\n",
    "rank:"
   ]
  },
  {
   "cell_type": "code",
   "execution_count": 39,
   "id": "a80ccc89",
   "metadata": {},
   "outputs": [],
   "source": [
    "def PositionToPercentile(position, field_size):\n",
    "    beat = field_size - position + 1\n",
    "    percentile = 100.0 * beat / field_size\n",
    "    return percentile"
   ]
  },
  {
   "cell_type": "markdown",
   "id": "eedfdc96",
   "metadata": {},
   "source": [
    "In my age group, denoted M4049 for \"male between 40 and 49 years of\n",
    "age\", I came in 26th out of 256. So my percentile rank in my age group\n",
    "was 90%.\n",
    "\n",
    "If I am still running in 10 years (and I hope I am), I will be in the\n",
    "M5059 division. Assuming that my percentile rank in my division is the\n",
    "same, how much slower should I expect to be?\n",
    "\n",
    "I can answer that question by converting my percentile rank in M4049 to\n",
    "a position in M5059. Here's the code:"
   ]
  },
  {
   "cell_type": "code",
   "execution_count": 40,
   "id": "463b71a3",
   "metadata": {},
   "outputs": [],
   "source": [
    "def PercentileToPosition(percentile, field_size):\n",
    "    beat = percentile * field_size / 100.0\n",
    "    position = field_size - beat + 1\n",
    "    return position"
   ]
  },
  {
   "cell_type": "markdown",
   "id": "39cbb101",
   "metadata": {},
   "source": [
    "There were 171 people in M5059, so I would have to come in between 17th\n",
    "and 18th place to have the same percentile rank. The finishing time of\n",
    "the 17th runner in M5059 was 46:05, so that's the time I will have to\n",
    "beat to maintain my percentile rank."
   ]
  },
  {
   "cell_type": "markdown",
   "id": "327f0a79",
   "metadata": {},
   "source": [
    "## Glossary\n",
    "\n",
    "-   **percentile rank**: The percentage of values in a distribution that\n",
    "    are less than or equal to a given value.\n",
    "\n",
    "-   **percentile**: The value associated with a given percentile rank.\n",
    "\n",
    "-   **cumulative distribution function (CDF)**: A function that maps\n",
    "    from values to their cumulative probabilities. $CDF(x)$ is the\n",
    "    fraction of the sample less than or equal to $x$.\n",
    "\n",
    "-   **inverse CDF**: A function that maps from a cumulative probability,\n",
    "    $p$, to the corresponding value.\n",
    "\n",
    "-   **median**: The 50th percentile, often used as a measure of central\n",
    "    tendency.\n",
    "\n",
    "-   **interquartile range**: The difference between the 75th and 25th\n",
    "    percentiles, used as a measure of spread.\n",
    "\n",
    "-   **quantile**: A sequence of values that correspond to equally spaced\n",
    "    percentile ranks; for example, the quartiles of a distribution are\n",
    "    the 25th, 50th and 75th percentiles.\n",
    "\n",
    "-   **replacement**: A property of a sampling process. \"With\n",
    "    replacement\" means that the same value can be chosen more than once;\n",
    "    \"without replacement\" means that once a value is chosen, it is\n",
    "    removed from the population."
   ]
  },
  {
   "cell_type": "markdown",
   "id": "37ae0af7",
   "metadata": {
    "collapsed": true
   },
   "source": [
    "## Exercises"
   ]
  },
  {
   "cell_type": "markdown",
   "id": "ce30c7e3",
   "metadata": {
    "collapsed": true
   },
   "source": [
    "**Exercise:** How much did you weigh at birth? If you don’t know, call your mother or someone else who knows. Using the NSFG data (all live births), compute the distribution of birth weights and use it to find your percentile rank. If you were a first baby, find your percentile rank in the distribution for first babies. Otherwise use the distribution for others. If you are in the 90th percentile or higher, call your mother back and apologize."
   ]
  },
  {
   "cell_type": "code",
   "execution_count": 41,
   "id": "65835159",
   "metadata": {},
   "outputs": [
    {
     "data": {
      "text/plain": [
       "85.90419436167774"
      ]
     },
     "execution_count": 41,
     "metadata": {},
     "output_type": "execute_result"
    }
   ],
   "source": [
    "# Solution\n",
    "\n",
    "first_cdf.PercentileRank(8.5)"
   ]
  },
  {
   "cell_type": "code",
   "execution_count": 42,
   "id": "f1bf49cf",
   "metadata": {},
   "outputs": [
    {
     "data": {
      "text/plain": [
       "82.35294117647058"
      ]
     },
     "execution_count": 42,
     "metadata": {},
     "output_type": "execute_result"
    }
   ],
   "source": [
    "# Solution\n",
    "\n",
    "other_cdf.PercentileRank(8.5)"
   ]
  },
  {
   "cell_type": "markdown",
   "id": "c69d3eec",
   "metadata": {
    "collapsed": true
   },
   "source": [
    "**Exercise:** The numbers generated by `numpy.random.random` are supposed to be uniform between 0 and 1; that is, every value in the range should have the same probability.\n",
    "\n",
    "Generate 1000 numbers from `numpy.random.random` and plot their PMF.  What goes wrong?\n",
    "\n",
    "Now plot the CDF. Is the distribution uniform?"
   ]
  },
  {
   "cell_type": "code",
   "execution_count": 43,
   "id": "bfaded3b",
   "metadata": {},
   "outputs": [],
   "source": [
    "# Solution\n",
    "\n",
    "t = np.random.random(1000)"
   ]
  },
  {
   "cell_type": "code",
   "execution_count": 44,
   "id": "8122cccd",
   "metadata": {},
   "outputs": [
    {
     "data": {
      "image/png": "[encoded data removed]",
      "text/plain": [
       "<Figure size 640x480 with 1 Axes>"
      ]
     },
     "metadata": {},
     "output_type": "display_data"
    }
   ],
   "source": [
    "# Solution\n",
    "\n",
    "pmf = thinkstats2.Pmf(t)\n",
    "thinkplot.Pmf(pmf, linewidth=0.1)\n",
    "thinkplot.Config(xlabel='Random variate', ylabel='PMF')"
   ]
  },
  {
   "cell_type": "code",
   "execution_count": 45,
   "id": "2624762e",
   "metadata": {},
   "outputs": [
    {
     "data": {
      "image/png": "[encoded data removed]",
      "text/plain": [
       "<Figure size 640x480 with 1 Axes>"
      ]
     },
     "metadata": {},
     "output_type": "display_data"
    }
   ],
   "source": [
    "# Solution\n",
    "\n",
    "cdf = thinkstats2.Cdf(t)\n",
    "thinkplot.Cdf(cdf)\n",
    "thinkplot.Config(xlabel='Random variate', ylabel='CDF')"
   ]
  },
  {
   "cell_type": "code",
   "execution_count": null,
   "id": "9ebec91a",
   "metadata": {},
   "outputs": [],
   "source": []
  },
  {
   "cell_type": "code",
   "execution_count": null,
   "id": "6b80680d",
   "metadata": {},
   "outputs": [],
   "source": []
  }
 ],
 "metadata": {
  "kernelspec": {
   "display_name": "Python 3 (ipykernel)",
   "language": "python",
   "name": "python3"
  },
  "language_info": {
   "codemirror_mode": {
    "name": "ipython",
    "version": 3
   },
   "file_extension": ".py",
   "mimetype": "text/x-python",
   "name": "python",
   "nbconvert_exporter": "python",
   "pygments_lexer": "ipython3",
   "version": "3.10.14"
  }
 },
 "nbformat": 4,
 "nbformat_minor": 5
}
