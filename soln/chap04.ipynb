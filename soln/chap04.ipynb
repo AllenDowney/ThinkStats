{
 "cells": [
  {
   "cell_type": "markdown",
   "id": "2148ec88",
   "metadata": {},
   "source": [
    "# Cumulative distribution functions"
   ]
  },
  {
   "cell_type": "code",
   "execution_count": 1,
   "id": "a68b8b8c",
   "metadata": {},
   "outputs": [
    {
     "data": {
      "application/javascript": [
       "\n",
       "            setTimeout(function() {\n",
       "                var nbb_cell_id = 1;\n",
       "                var nbb_unformatted_code = \"%load_ext nb_black\\n%load_ext autoreload\\n%autoreload 2\";\n",
       "                var nbb_formatted_code = \"%load_ext nb_black\\n%load_ext autoreload\\n%autoreload 2\";\n",
       "                var nbb_cells = Jupyter.notebook.get_cells();\n",
       "                for (var i = 0; i < nbb_cells.length; ++i) {\n",
       "                    if (nbb_cells[i].input_prompt_number == nbb_cell_id) {\n",
       "                        if (nbb_cells[i].get_text() == nbb_unformatted_code) {\n",
       "                             nbb_cells[i].set_text(nbb_formatted_code);\n",
       "                        }\n",
       "                        break;\n",
       "                    }\n",
       "                }\n",
       "            }, 500);\n",
       "            "
      ],
      "text/plain": [
       "<IPython.core.display.Javascript object>"
      ]
     },
     "metadata": {},
     "output_type": "display_data"
    }
   ],
   "source": [
    "%load_ext nb_black\n",
    "%load_ext autoreload\n",
    "%autoreload 2\n"
   ]
  },
  {
   "cell_type": "code",
   "execution_count": 2,
   "id": "b3d48912",
   "metadata": {},
   "outputs": [
    {
     "data": {
      "application/javascript": [
       "\n",
       "            setTimeout(function() {\n",
       "                var nbb_cell_id = 2;\n",
       "                var nbb_unformatted_code = \"from os.path import basename, exists\\n\\n\\ndef download(url):\\n    filename = basename(url)\\n    if not exists(filename):\\n        from urllib.request import urlretrieve\\n\\n        local, _ = urlretrieve(url, filename)\\n        print(\\\"Downloaded \\\" + local)\\n\\n\\ndownload(\\\"https://github.com/AllenDowney/ThinkStats/raw/v3/nb/thinkstats.py\\\")\";\n",
       "                var nbb_formatted_code = \"from os.path import basename, exists\\n\\n\\ndef download(url):\\n    filename = basename(url)\\n    if not exists(filename):\\n        from urllib.request import urlretrieve\\n\\n        local, _ = urlretrieve(url, filename)\\n        print(\\\"Downloaded \\\" + local)\\n\\n\\ndownload(\\\"https://github.com/AllenDowney/ThinkStats/raw/v3/nb/thinkstats.py\\\")\";\n",
       "                var nbb_cells = Jupyter.notebook.get_cells();\n",
       "                for (var i = 0; i < nbb_cells.length; ++i) {\n",
       "                    if (nbb_cells[i].input_prompt_number == nbb_cell_id) {\n",
       "                        if (nbb_cells[i].get_text() == nbb_unformatted_code) {\n",
       "                             nbb_cells[i].set_text(nbb_formatted_code);\n",
       "                        }\n",
       "                        break;\n",
       "                    }\n",
       "                }\n",
       "            }, 500);\n",
       "            "
      ],
      "text/plain": [
       "<IPython.core.display.Javascript object>"
      ]
     },
     "metadata": {},
     "output_type": "display_data"
    }
   ],
   "source": [
    "from os.path import basename, exists\n",
    "\n",
    "\n",
    "def download(url):\n",
    "    filename = basename(url)\n",
    "    if not exists(filename):\n",
    "        from urllib.request import urlretrieve\n",
    "\n",
    "        local, _ = urlretrieve(url, filename)\n",
    "        print(\"Downloaded \" + local)\n",
    "\n",
    "\n",
    "download(\"https://github.com/AllenDowney/ThinkStats/raw/v3/nb/thinkstats.py\")"
   ]
  },
  {
   "cell_type": "code",
   "execution_count": 3,
   "id": "162b32f7",
   "metadata": {},
   "outputs": [
    {
     "data": {
      "application/javascript": [
       "\n",
       "            setTimeout(function() {\n",
       "                var nbb_cell_id = 3;\n",
       "                var nbb_unformatted_code = \"import numpy as np\\nimport pandas as pd\\nimport matplotlib.pyplot as plt\\n\\nfrom thinkstats import decorate\";\n",
       "                var nbb_formatted_code = \"import numpy as np\\nimport pandas as pd\\nimport matplotlib.pyplot as plt\\n\\nfrom thinkstats import decorate\";\n",
       "                var nbb_cells = Jupyter.notebook.get_cells();\n",
       "                for (var i = 0; i < nbb_cells.length; ++i) {\n",
       "                    if (nbb_cells[i].input_prompt_number == nbb_cell_id) {\n",
       "                        if (nbb_cells[i].get_text() == nbb_unformatted_code) {\n",
       "                             nbb_cells[i].set_text(nbb_formatted_code);\n",
       "                        }\n",
       "                        break;\n",
       "                    }\n",
       "                }\n",
       "            }, 500);\n",
       "            "
      ],
      "text/plain": [
       "<IPython.core.display.Javascript object>"
      ]
     },
     "metadata": {},
     "output_type": "display_data"
    }
   ],
   "source": [
    "import numpy as np\n",
    "import pandas as pd\n",
    "import matplotlib.pyplot as plt\n",
    "\n",
    "from thinkstats import decorate"
   ]
  },
  {
   "cell_type": "markdown",
   "id": "3e5f2250",
   "metadata": {},
   "source": [
    "## The limits of PMFs\n",
    "\n",
    "PMFs work well if the number of quantities is small.\n",
    "But as the number of quantities increases, the probability associated with each quantity gets smaller and the effect of random noise increases.\n",
    "\n",
    "For example, we might be interested in the distribution of birth weights.\n",
    "In the NSFG data, the variable `totalwgt_lb` records weight at birth in pounds.\n",
    "The following figure shows the PMF of these quantities for first babies and others."
   ]
  },
  {
   "cell_type": "code",
   "execution_count": 4,
   "id": "f67909ea",
   "metadata": {},
   "outputs": [
    {
     "data": {
      "application/javascript": [
       "\n",
       "            setTimeout(function() {\n",
       "                var nbb_cell_id = 4;\n",
       "                var nbb_unformatted_code = \"download(\\\"https://github.com/AllenDowney/ThinkStats/raw/v3/nb/nsfg.py\\\")\\ndownload(\\\"https://github.com/AllenDowney/ThinkStats/raw/v3/data/2002FemPreg.dct\\\")\\ndownload(\\\"https://github.com/AllenDowney/ThinkStats/raw/v3/data/2002FemPreg.dat.gz\\\")\";\n",
       "                var nbb_formatted_code = \"download(\\\"https://github.com/AllenDowney/ThinkStats/raw/v3/nb/nsfg.py\\\")\\ndownload(\\\"https://github.com/AllenDowney/ThinkStats/raw/v3/data/2002FemPreg.dct\\\")\\ndownload(\\\"https://github.com/AllenDowney/ThinkStats/raw/v3/data/2002FemPreg.dat.gz\\\")\";\n",
       "                var nbb_cells = Jupyter.notebook.get_cells();\n",
       "                for (var i = 0; i < nbb_cells.length; ++i) {\n",
       "                    if (nbb_cells[i].input_prompt_number == nbb_cell_id) {\n",
       "                        if (nbb_cells[i].get_text() == nbb_unformatted_code) {\n",
       "                             nbb_cells[i].set_text(nbb_formatted_code);\n",
       "                        }\n",
       "                        break;\n",
       "                    }\n",
       "                }\n",
       "            }, 500);\n",
       "            "
      ],
      "text/plain": [
       "<IPython.core.display.Javascript object>"
      ]
     },
     "metadata": {},
     "output_type": "display_data"
    }
   ],
   "source": [
    "download(\"https://github.com/AllenDowney/ThinkStats/raw/v3/nb/nsfg.py\")\n",
    "download(\"https://github.com/AllenDowney/ThinkStats/raw/v3/data/2002FemPreg.dct\")\n",
    "download(\"https://github.com/AllenDowney/ThinkStats/raw/v3/data/2002FemPreg.dat.gz\")"
   ]
  },
  {
   "cell_type": "code",
   "execution_count": 5,
   "id": "d9dd00be",
   "metadata": {},
   "outputs": [
    {
     "data": {
      "application/javascript": [
       "\n",
       "            setTimeout(function() {\n",
       "                var nbb_cell_id = 5;\n",
       "                var nbb_unformatted_code = \"import nsfg\\n\\nlive, firsts, others = nsfg.make_frames()\";\n",
       "                var nbb_formatted_code = \"import nsfg\\n\\nlive, firsts, others = nsfg.make_frames()\";\n",
       "                var nbb_cells = Jupyter.notebook.get_cells();\n",
       "                for (var i = 0; i < nbb_cells.length; ++i) {\n",
       "                    if (nbb_cells[i].input_prompt_number == nbb_cell_id) {\n",
       "                        if (nbb_cells[i].get_text() == nbb_unformatted_code) {\n",
       "                             nbb_cells[i].set_text(nbb_formatted_code);\n",
       "                        }\n",
       "                        break;\n",
       "                    }\n",
       "                }\n",
       "            }, 500);\n",
       "            "
      ],
      "text/plain": [
       "<IPython.core.display.Javascript object>"
      ]
     },
     "metadata": {},
     "output_type": "display_data"
    }
   ],
   "source": [
    "import nsfg\n",
    "\n",
    "live, firsts, others = nsfg.make_frames()"
   ]
  },
  {
   "cell_type": "code",
   "execution_count": 6,
   "id": "b78b5455",
   "metadata": {},
   "outputs": [
    {
     "name": "stdout",
     "output_type": "stream",
     "text": [
      "Firsts 4413 4363\n"
     ]
    },
    {
     "data": {
      "application/javascript": [
       "\n",
       "            setTimeout(function() {\n",
       "                var nbb_cell_id = 6;\n",
       "                var nbb_unformatted_code = \"first_wgt = firsts.totalwgt_lb\\nfirst_wgt_dropna = first_wgt.dropna()\\nprint(\\\"Firsts\\\", len(first_wgt), len(first_wgt_dropna))\";\n",
       "                var nbb_formatted_code = \"first_wgt = firsts.totalwgt_lb\\nfirst_wgt_dropna = first_wgt.dropna()\\nprint(\\\"Firsts\\\", len(first_wgt), len(first_wgt_dropna))\";\n",
       "                var nbb_cells = Jupyter.notebook.get_cells();\n",
       "                for (var i = 0; i < nbb_cells.length; ++i) {\n",
       "                    if (nbb_cells[i].input_prompt_number == nbb_cell_id) {\n",
       "                        if (nbb_cells[i].get_text() == nbb_unformatted_code) {\n",
       "                             nbb_cells[i].set_text(nbb_formatted_code);\n",
       "                        }\n",
       "                        break;\n",
       "                    }\n",
       "                }\n",
       "            }, 500);\n",
       "            "
      ],
      "text/plain": [
       "<IPython.core.display.Javascript object>"
      ]
     },
     "metadata": {},
     "output_type": "display_data"
    }
   ],
   "source": [
    "first_wgt = firsts.totalwgt_lb\n",
    "first_wgt_dropna = first_wgt.dropna()\n",
    "print(\"Firsts\", len(first_wgt), len(first_wgt_dropna))"
   ]
  },
  {
   "cell_type": "code",
   "execution_count": 7,
   "id": "f4cb0e55",
   "metadata": {},
   "outputs": [
    {
     "name": "stdout",
     "output_type": "stream",
     "text": [
      "Others 4735 4675\n"
     ]
    },
    {
     "data": {
      "application/javascript": [
       "\n",
       "            setTimeout(function() {\n",
       "                var nbb_cell_id = 7;\n",
       "                var nbb_unformatted_code = \"other_wgt = others.totalwgt_lb\\nother_wgt_dropna = other_wgt.dropna()\\nprint(\\\"Others\\\", len(other_wgt), len(other_wgt_dropna))\";\n",
       "                var nbb_formatted_code = \"other_wgt = others.totalwgt_lb\\nother_wgt_dropna = other_wgt.dropna()\\nprint(\\\"Others\\\", len(other_wgt), len(other_wgt_dropna))\";\n",
       "                var nbb_cells = Jupyter.notebook.get_cells();\n",
       "                for (var i = 0; i < nbb_cells.length; ++i) {\n",
       "                    if (nbb_cells[i].input_prompt_number == nbb_cell_id) {\n",
       "                        if (nbb_cells[i].get_text() == nbb_unformatted_code) {\n",
       "                             nbb_cells[i].set_text(nbb_formatted_code);\n",
       "                        }\n",
       "                        break;\n",
       "                    }\n",
       "                }\n",
       "            }, 500);\n",
       "            "
      ],
      "text/plain": [
       "<IPython.core.display.Javascript object>"
      ]
     },
     "metadata": {},
     "output_type": "display_data"
    }
   ],
   "source": [
    "other_wgt = others.totalwgt_lb\n",
    "other_wgt_dropna = other_wgt.dropna()\n",
    "print(\"Others\", len(other_wgt), len(other_wgt_dropna))"
   ]
  },
  {
   "cell_type": "code",
   "execution_count": 8,
   "id": "cec7492a",
   "metadata": {},
   "outputs": [
    {
     "data": {
      "application/javascript": [
       "\n",
       "            setTimeout(function() {\n",
       "                var nbb_cell_id = 8;\n",
       "                var nbb_unformatted_code = \"from empiricaldist import Pmf\\n\\nfirst_pmf = Pmf.from_seq(first_wgt_dropna, name=\\\"first\\\")\\nother_pmf = Pmf.from_seq(other_wgt_dropna, name=\\\"other\\\")\";\n",
       "                var nbb_formatted_code = \"from empiricaldist import Pmf\\n\\nfirst_pmf = Pmf.from_seq(first_wgt_dropna, name=\\\"first\\\")\\nother_pmf = Pmf.from_seq(other_wgt_dropna, name=\\\"other\\\")\";\n",
       "                var nbb_cells = Jupyter.notebook.get_cells();\n",
       "                for (var i = 0; i < nbb_cells.length; ++i) {\n",
       "                    if (nbb_cells[i].input_prompt_number == nbb_cell_id) {\n",
       "                        if (nbb_cells[i].get_text() == nbb_unformatted_code) {\n",
       "                             nbb_cells[i].set_text(nbb_formatted_code);\n",
       "                        }\n",
       "                        break;\n",
       "                    }\n",
       "                }\n",
       "            }, 500);\n",
       "            "
      ],
      "text/plain": [
       "<IPython.core.display.Javascript object>"
      ]
     },
     "metadata": {},
     "output_type": "display_data"
    }
   ],
   "source": [
    "from empiricaldist import Pmf\n",
    "\n",
    "first_pmf = Pmf.from_seq(first_wgt_dropna, name=\"first\")\n",
    "other_pmf = Pmf.from_seq(other_wgt_dropna, name=\"other\")"
   ]
  },
  {
   "cell_type": "code",
   "execution_count": 10,
   "id": "b5c7d4a6",
   "metadata": {},
   "outputs": [
    {
     "data": {
      "image/png": "[encoded data removed]",
      "text/plain": [
       "<Figure size 640x480 with 1 Axes>"
      ]
     },
     "metadata": {},
     "output_type": "display_data"
    },
    {
     "data": {
      "application/javascript": [
       "\n",
       "            setTimeout(function() {\n",
       "                var nbb_cell_id = 10;\n",
       "                var nbb_unformatted_code = \"from thinkstats import two_bar_plots\\n\\ntwo_bar_plots(first_pmf, other_pmf, width=0.01)\\ndecorate(xlabel=\\\"Weight (pounds)\\\", ylabel=\\\"PMF\\\")\";\n",
       "                var nbb_formatted_code = \"from thinkstats import two_bar_plots\\n\\ntwo_bar_plots(first_pmf, other_pmf, width=0.01)\\ndecorate(xlabel=\\\"Weight (pounds)\\\", ylabel=\\\"PMF\\\")\";\n",
       "                var nbb_cells = Jupyter.notebook.get_cells();\n",
       "                for (var i = 0; i < nbb_cells.length; ++i) {\n",
       "                    if (nbb_cells[i].input_prompt_number == nbb_cell_id) {\n",
       "                        if (nbb_cells[i].get_text() == nbb_unformatted_code) {\n",
       "                             nbb_cells[i].set_text(nbb_formatted_code);\n",
       "                        }\n",
       "                        break;\n",
       "                    }\n",
       "                }\n",
       "            }, 500);\n",
       "            "
      ],
      "text/plain": [
       "<IPython.core.display.Javascript object>"
      ]
     },
     "metadata": {},
     "output_type": "display_data"
    }
   ],
   "source": [
    "from thinkstats import two_bar_plots\n",
    "\n",
    "two_bar_plots(first_pmf, other_pmf, width=0.01)\n",
    "decorate(xlabel=\"Weight (pounds)\", ylabel=\"PMF\")"
   ]
  },
  {
   "cell_type": "markdown",
   "id": "f195bde7",
   "metadata": {},
   "source": [
    "Overall, these distributions resemble the bell shape of a normal distribution, with many quantities near the mean and a few quantities much higher and lower.\n",
    "\n",
    "But parts of this figure are hard to interpret.\n",
    "There are many spikes and valleys, and some apparent differences between the distributions.\n",
    "It is hard to tell which of these features are meaningful.\n",
    "Also, it is hard to see overall patterns; for example, which distribution do you think has the higher mean?\n",
    "\n",
    "These problems can be mitigated by binning the data; that is, dividing the range of quantities into non-overlapping intervals and counting the number of quantities in each bin.\n",
    "Binning can be useful, but it is tricky to get the size of the bins right.\n",
    "If they are big enough to smooth out noise, they might also smooth out useful information.\n",
    "\n",
    "An alternative that avoids these problems is the cumulative distribution function (CDF), which is the subject of this chapter.\n",
    "But before I can explain CDFs, I have to explain percentiles."
   ]
  },
  {
   "cell_type": "markdown",
   "id": "d4138e00",
   "metadata": {},
   "source": [
    "## Percentiles\n",
    "\n",
    "If you have taken a standardized test, you probably got your results in the form of a raw score and a **percentile rank**.\n",
    "In this context, the percentile rank is the fraction of people who scored lower than you (or the same).\n",
    "So if you are \"in the 90th percentile,\" you did as well as or better than 90% of the people who took the exam.\n",
    "\n",
    "Here's how you could compute the percentile rank of a quantity, `your_score`, relative to the quantities in the sequence `scores`:"
   ]
  },
  {
   "cell_type": "code",
   "execution_count": null,
   "id": "2faaf708",
   "metadata": {},
   "outputs": [],
   "source": [
    "def percentile_rank(scores, your_score):\n",
    "    count = 0\n",
    "    for score in scores:\n",
    "        if score <= your_score:\n",
    "            count += 1\n",
    "    percentile_rank = 100.0 * count / len(scores)\n",
    "    return percentile_rank"
   ]
  },
  {
   "cell_type": "markdown",
   "id": "4aa342d4",
   "metadata": {},
   "source": [
    "As an example, if the scores in the sequence were 55, 66, 77, 88 and 99, and you got the 88, then your percentile rank would be `100 * 4 / 5` which is 80."
   ]
  },
  {
   "cell_type": "code",
   "execution_count": null,
   "id": "df39c7f3",
   "metadata": {},
   "outputs": [],
   "source": [
    "t = [55, 66, 77, 88, 99]"
   ]
  },
  {
   "cell_type": "code",
   "execution_count": null,
   "id": "029d94b7",
   "metadata": {},
   "outputs": [],
   "source": [
    "percentile_rank(t, 88)"
   ]
  },
  {
   "cell_type": "markdown",
   "id": "a026ec4d",
   "metadata": {},
   "source": [
    "If you are given a quantity, it is easy to find its percentile rank; going the other way is slightly harder.\n",
    "If you are given a percentile rank and you want to find the corresponding quantity, one option is to sort the quantities and search for the one you want:"
   ]
  },
  {
   "cell_type": "code",
   "execution_count": null,
   "id": "1e68542e",
   "metadata": {},
   "outputs": [],
   "source": [
    "def percentile(scores, pr):\n",
    "    scores.sort()\n",
    "    for score in scores:\n",
    "        if percentile_rank(scores, score) >= pr:\n",
    "            return score"
   ]
  },
  {
   "cell_type": "markdown",
   "id": "0058a9a8",
   "metadata": {},
   "source": [
    "The result of this calculation is a **percentile**.\n",
    "For example, the 50th percentile is the quantity with percentile rank 50. In the distribution of exam scores, the 50th percentile is 77."
   ]
  },
  {
   "cell_type": "code",
   "execution_count": null,
   "id": "83261d15",
   "metadata": {},
   "outputs": [],
   "source": [
    "percentile(t, 50)"
   ]
  },
  {
   "cell_type": "markdown",
   "id": "fa7f2ef7",
   "metadata": {},
   "source": [
    "This implementation of `Percentile` is not efficient.\n",
    "A better approach is to use the percentile rank to compute the index of the corresponding percentile:"
   ]
  },
  {
   "cell_type": "code",
   "execution_count": null,
   "id": "2e0a763d",
   "metadata": {},
   "outputs": [],
   "source": [
    "def percentile2(scores, percentile_rank):\n",
    "    scores.sort()\n",
    "    index = percentile_rank * (len(scores) - 1) // 100\n",
    "    return scores[index]"
   ]
  },
  {
   "cell_type": "code",
   "execution_count": null,
   "id": "fc15e580",
   "metadata": {},
   "outputs": [],
   "source": [
    "percentile2(t, 50)"
   ]
  },
  {
   "cell_type": "markdown",
   "id": "68fd4190",
   "metadata": {},
   "source": [
    "The difference between \"percentile\" and \"percentile rank\" can be confusing, and people do not always use the terms precisely.\n",
    "To summarize, `PercentileRank` takes a quantity and computes its percentile rank in a set of quantities; `Percentile` takes a percentile rank and computes the corresponding quantity."
   ]
  },
  {
   "cell_type": "markdown",
   "id": "243f1bc9",
   "metadata": {},
   "source": [
    "## CDFs\n",
    "\n",
    "Now that we understand percentiles and percentile ranks, we are ready to tackle the **cumulative distribution function** (CDF).\n",
    "The CDF is the function that maps from a quantity to its percentile rank.\n",
    "\n",
    "The CDF is a function of $x$, where $x$ is any quantity that might appear in the distribution.\n",
    "To evaluate $CDF(x)$ for a particular quantity of $x$, we compute the fraction of quantities in the distribution less than or equal to $x$.\n",
    "\n",
    "Here's what that looks like as a function that takes a sequence, `sample`, and a quantity, `x`:"
   ]
  },
  {
   "cell_type": "code",
   "execution_count": null,
   "id": "ddfab968",
   "metadata": {},
   "outputs": [],
   "source": [
    "def eval_cdf(sample, x):\n",
    "    count = 0.0\n",
    "    for quantity in sample:\n",
    "        if quantity <= x:\n",
    "            count += 1\n",
    "    prob = count / len(sample)\n",
    "    return prob"
   ]
  },
  {
   "cell_type": "markdown",
   "id": "34527e0d",
   "metadata": {},
   "source": [
    "This function is almost identical to `PercentileRank`, except that the result is a probability in the range 0--1 rather than a percentile rank in the range 0--100.\n",
    "\n",
    "As an example, suppose we collect a sample with the quantities `[1, 2, 2, 3, 5]`.\n",
    "Here are some quantities from its CDF: $$CDF(0) = 0$$ $$CDF(1) = 0.2$$ $$CDF(2) = 0.6$$ $$CDF(3) = 0.8$$ $$CDF(4) = 0.8$$ $$CDF(5) = 1$$ We can evaluate the CDF for any quantity of $x$, not just quantities that appear in the sample.\n",
    "If $x$ is less than the smallest quantity in the sample, $CDF(x)$ is 0. If $x$ is greater than the largest quantity, $CDF(x)$ is 1. "
   ]
  },
  {
   "cell_type": "code",
   "execution_count": null,
   "id": "a092f3ac",
   "metadata": {},
   "outputs": [],
   "source": [
    "t = [1, 2, 2, 3, 5]\n",
    "\n",
    "for x in range(6):\n",
    "    print(f\"CDF({x}) = {eval_cdf(t, x)}\")"
   ]
  },
  {
   "cell_type": "markdown",
   "id": "700829f8",
   "metadata": {},
   "source": [
    "## Representing CDFs\n",
    "\n",
    "`thinkstats2` provides a class named `Cdf` that represents CDFs.\n"
   ]
  },
  {
   "cell_type": "code",
   "execution_count": null,
   "id": "e9707cde",
   "metadata": {},
   "outputs": [],
   "source": [
    "from empiricaldist import Cdf\n",
    "\n",
    "cdf = Cdf.from_seq(t)"
   ]
  },
  {
   "cell_type": "markdown",
   "id": "5655c54c",
   "metadata": {},
   "source": [
    "The following figure is a graphical representation of this CDF.\n",
    "The CDF of a sample is a step function."
   ]
  },
  {
   "cell_type": "code",
   "execution_count": null,
   "id": "a7bcf6ac",
   "metadata": {},
   "outputs": [],
   "source": [
    "cdf.step()\n",
    "decorate(xlabel=\"x\", ylabel=\"CDF\", loc=\"upper left\")"
   ]
  },
  {
   "cell_type": "markdown",
   "id": "9dd502d1",
   "metadata": {},
   "source": [
    "The fundamental methods `Cdf` provides are:\n",
    "\n",
    "-   `prob(x)`: Given a quantity `x`, computes the probability $p = CDF(x)$.\n",
    "The bracket operator is equivalent to `Prob`.\n",
    "\n",
    "-   `quantity(p)`: Given a probability `p`, computes the corresponding quantity, `x`; that is, the **inverse CDF** of `p`."
   ]
  },
  {
   "cell_type": "markdown",
   "id": "e8e5b681",
   "metadata": {},
   "source": [
    "The `Cdf` constructor can take as an argument a list of quantities, a Pandas `Series`, a `Hist`, `Pmf`, or another `Cdf`.\n",
    "The following code makes a `Cdf` for the distribution of pregnancy lengths in the NSFG:"
   ]
  },
  {
   "cell_type": "code",
   "execution_count": null,
   "id": "053b138d",
   "metadata": {},
   "outputs": [],
   "source": [
    "cdf = Cdf.from_seq(live.prglngth, name=\"prglngth\")"
   ]
  },
  {
   "cell_type": "markdown",
   "id": "edecadc5",
   "metadata": {},
   "source": [
    "`Cdf` provides a `plot` method a `Cdf` as a line:"
   ]
  },
  {
   "cell_type": "code",
   "execution_count": null,
   "id": "cae85939",
   "metadata": {},
   "outputs": [],
   "source": [
    "cdf.plot()\n",
    "decorate(xlabel=\"weeks\", ylabel=\"CDF\")"
   ]
  },
  {
   "cell_type": "markdown",
   "id": "47787fe6",
   "metadata": {},
   "source": [
    "The following figure shows the result.\n",
    "One way to read a CDF is to look up percentiles.\n",
    "For example, it looks like about 10% of pregnancies are shorter than 36 weeks, and about 90% are shorter than 41 weeks.\n",
    "The CDF also provides a visual representation of the shape of the distribution.\n",
    "Common quantities appear as steep or vertical sections of the CDF; in this example, the mode at 39 weeks is apparent.\n",
    "There are few quantities below 30 weeks, so the CDF in this range is flat.\n",
    "\n",
    "It takes some time to get used to CDFs, but once you do, I think you will find that they show more information, more clearly, than PMFs."
   ]
  },
  {
   "cell_type": "markdown",
   "id": "a8d7e7e9",
   "metadata": {},
   "source": [
    "`Cdf` provides `prob`, which evaluates the CDF; that is, it computes the fraction of quantities less than or equal to the given quantity.\n",
    "For example, 94% of pregnancy lengths are less than or equal to 41."
   ]
  },
  {
   "cell_type": "code",
   "execution_count": null,
   "id": "a8e71ba9",
   "metadata": {},
   "outputs": [],
   "source": [
    "cdf(41)"
   ]
  },
  {
   "cell_type": "markdown",
   "id": "40719965",
   "metadata": {},
   "source": [
    "`quantity` evaluates the inverse CDF; given a fraction, it computes the corresponding quantity.\n",
    "For example, the median is the quantity that corresponds to 0.5."
   ]
  },
  {
   "cell_type": "code",
   "execution_count": null,
   "id": "1900d744",
   "metadata": {},
   "outputs": [],
   "source": [
    "cdf.inverse(0.5)"
   ]
  },
  {
   "cell_type": "markdown",
   "id": "3bed54d9",
   "metadata": {},
   "source": [
    "## Comparing CDFs\n",
    "\n",
    "CDFs are especially useful for comparing distributions.\n",
    "For example, here is the code that plots the CDF of birth weight for first babies and others."
   ]
  },
  {
   "cell_type": "code",
   "execution_count": null,
   "id": "4089ef39",
   "metadata": {},
   "outputs": [],
   "source": [
    "first_cdf = Cdf.from_seq(firsts.totalwgt_lb, name=\"first\")\n",
    "other_cdf = Cdf.from_seq(others.totalwgt_lb, name=\"other\")\n",
    "\n",
    "first_cdf.plot()\n",
    "other_cdf.plot()\n",
    "decorate(xlabel=\"weight (pounds)\", ylabel=\"CDF\")"
   ]
  },
  {
   "cell_type": "markdown",
   "id": "397bbdae",
   "metadata": {},
   "source": [
    "This figure makes the shape of the distributions, and the differences between them, much clearer.\n",
    "We can see that first babies are slightly lighter throughout the distribution, with a larger discrepancy above the mean."
   ]
  },
  {
   "cell_type": "markdown",
   "id": "70b009a7",
   "metadata": {},
   "source": [
    "## Percentile-based statistics\n",
    "\n",
    "Once you have computed a CDF, it is easy to compute percentiles and percentile ranks.\n",
    "The `Cdf` class provides these two methods:\n",
    "\n",
    "-   `percentile_rank(x)`: Given a quantity `x`, computes its percentile rank, $100 \\cdot CDF(x)$.\n",
    "\n",
    "-   `percentile(p)`: Given a percentile rank `p`, computes the corresponding quantity, `x`.\n",
    "Equivalent to `quantity(p/100)`.\n",
    "\n",
    "`percentile` can be used to compute percentile-based summary statistics.\n",
    "For example, the 50th percentile is the quantity that divides the distribution in half, also known as the **median**.\n",
    "Like the mean, the median is a measure of the central tendency of a distribution."
   ]
  },
  {
   "cell_type": "code",
   "execution_count": null,
   "id": "a32716e7",
   "metadata": {},
   "outputs": [],
   "source": [
    "weights = live.totalwgt_lb\n",
    "live_cdf = Cdf.from_seq(weights, name=\"live\")"
   ]
  },
  {
   "cell_type": "code",
   "execution_count": null,
   "id": "7357bb4f",
   "metadata": {},
   "outputs": [],
   "source": [
    "median = live_cdf.inverse(0.5)\n",
    "median"
   ]
  },
  {
   "cell_type": "markdown",
   "id": "1bcc5a0a",
   "metadata": {},
   "source": [
    "Actually, there are several definitions of \"median,\" each with different properties.\n",
    "But `Percentile(50)` is simple and efficient to compute."
   ]
  },
  {
   "cell_type": "markdown",
   "id": "ae3de011",
   "metadata": {},
   "source": [
    "Another percentile-based statistic is the **interquartile range** (IQR), which is a measure of the spread of a distribution.\n",
    "The IQR is the difference between the 75th and 25th percentiles."
   ]
  },
  {
   "cell_type": "code",
   "execution_count": null,
   "id": "f84e5df3",
   "metadata": {},
   "outputs": [],
   "source": [
    "iqr = live_cdf.inverse([0.25, 0.75])\n",
    "iqr"
   ]
  },
  {
   "cell_type": "markdown",
   "id": "bad0090a",
   "metadata": {},
   "source": [
    "More generally, percentiles are often used to summarize the shape of a distribution.\n",
    "For example, the distribution of income is often reported in \"quintiles\"; that is, it is split at the 20th, 40th, 60th and 80th percentiles.\n",
    "Other distributions are divided into ten \"deciles\".\n",
    "Statistics like these that represent equally-spaced points in a CDF are called **quantiles**.\n",
    "For more, see <https://en.wikipedia.org/wiki/Quantile>."
   ]
  },
  {
   "cell_type": "markdown",
   "id": "5279c66b",
   "metadata": {},
   "source": [
    "## Random numbers\n",
    "\n",
    "Suppose we choose a random sample from the population of live births and look up the percentile rank of their birth weights.\n",
    "Now suppose we compute the CDF of the percentile ranks.\n",
    "What do you think the distribution will look like?\n",
    "\n",
    "Here's how we can compute it. First, we make the `Cdf` of birth weights:"
   ]
  },
  {
   "cell_type": "code",
   "execution_count": null,
   "id": "1e469506",
   "metadata": {},
   "outputs": [],
   "source": [
    "weights = live.totalwgt_lb\n",
    "cdf = Cdf.from_seq(weights, name=\"totalwgt_lb\")"
   ]
  },
  {
   "cell_type": "markdown",
   "id": "65942fac",
   "metadata": {},
   "source": [
    "Then we generate a sample and compute the percentile rank of each quantity in the sample."
   ]
  },
  {
   "cell_type": "code",
   "execution_count": null,
   "id": "154d9999",
   "metadata": {},
   "outputs": [],
   "source": [
    "import numpy as np\n",
    "\n",
    "sample = np.random.choice(weights, 100, replace=True)\n",
    "ranks = [cdf(x) * 100 for x in sample]"
   ]
  },
  {
   "cell_type": "markdown",
   "id": "a687ada3",
   "metadata": {},
   "source": [
    "`sample` is a random sample of 100 birth weights, chosen with **replacement**; that is, the same quantity could be chosen more than once.\n",
    "`ranks` is a list of percentile ranks.\n",
    "\n",
    "Finally we make and plot the `Cdf` of the percentile ranks."
   ]
  },
  {
   "cell_type": "code",
   "execution_count": null,
   "id": "271a5cc3",
   "metadata": {},
   "outputs": [],
   "source": [
    "rank_cdf = Cdf.from_seq(ranks, name=\"ranks\")\n",
    "rank_cdf.plot()\n",
    "decorate(xlabel=\"percentile rank\", ylabel=\"CDF\")"
   ]
  },
  {
   "cell_type": "markdown",
   "id": "2e9acd5d",
   "metadata": {},
   "source": [
    "This figure shows the result.\n",
    "The CDF is approximately a straight line, which means that the distribution is uniform.\n",
    "\n",
    "That outcome might be non-obvious, but it is a consequence of the way the CDF is defined.\n",
    "What this figure shows is that 10% of the sample is below the 10th percentile, 20% is below the 20th percentile, and so on, exactly as we should expect."
   ]
  },
  {
   "cell_type": "markdown",
   "id": "365491b7",
   "metadata": {},
   "source": [
    "So, regardless of the shape of the CDF, the distribution of percentile ranks is uniform.\n",
    "This property is useful, because it is the basis of a simple and efficient algorithm for generating random numbers with a given CDF.\n",
    "Here's how:\n",
    "\n",
    "-   Choose a cumulative probability uniformly from the range 0--1.\n",
    "\n",
    "-   Use `inverse` to find the quantity in the distribution that corresponds to the chosen probability.\n",
    "\n",
    "`Cdf` provides an implementation of this algorithm, called `sample`:"
   ]
  },
  {
   "cell_type": "code",
   "execution_count": null,
   "id": "a9d31255",
   "metadata": {},
   "outputs": [],
   "source": [
    "def sample(self, n=1):\n",
    "    \"\"\"Samples with replacement using probabilities as weights.\n",
    "\n",
    "    n: number of values to generate\n",
    "\n",
    "    returns: NumPy array\n",
    "    \"\"\"\n",
    "    ps = np.random.random(n)\n",
    "    return self.inverse(ps)"
   ]
  },
  {
   "cell_type": "markdown",
   "id": "a4c9d399",
   "metadata": {},
   "source": []
  },
  {
   "cell_type": "markdown",
   "id": "15c9cf4f",
   "metadata": {},
   "source": [
    "## Comparing percentile ranks\n",
    "\n",
    "Percentile ranks are useful for comparing measurements across different groups.\n",
    "For example, people who compete in foot races are usually grouped by age and gender.\n",
    "To compare people in different age groups, you can convert race times to percentile ranks.\n",
    "\n",
    "A few years ago I ran the James Joyce Ramble 10K in Dedham MA; I finished in 42:44, which was 97th in a field of 1633.\n",
    "I beat or tied 1537 runners out of 1633, so my percentile rank in the field is 94%.\n",
    "\n",
    "More generally, given position and field size, we can compute percentile rank:"
   ]
  },
  {
   "cell_type": "code",
   "execution_count": null,
   "id": "a80ccc89",
   "metadata": {},
   "outputs": [],
   "source": [
    "def position_to_percentile(position, field_size):\n",
    "    beat = field_size - position + 1\n",
    "    percentile = 100.0 * beat / field_size\n",
    "    return percentile"
   ]
  },
  {
   "cell_type": "markdown",
   "id": "eedfdc96",
   "metadata": {},
   "source": [
    "In my age group, denoted M4049 for \"male between 40 and 49 years of age\", I came in 26th out of 256.\n",
    "So my percentile rank in my age group was 90%.\n",
    "\n",
    "If I am still running in 10 years (and I hope I am), I will be in the M5059 division.\n",
    "Assuming that my percentile rank in my division is the same, how much slower should I expect to be?\n",
    "\n",
    "I can answer that question by converting my percentile rank in M4049 to a position in M5059.\n",
    "Here's the code:"
   ]
  },
  {
   "cell_type": "code",
   "execution_count": null,
   "id": "463b71a3",
   "metadata": {},
   "outputs": [],
   "source": [
    "def percentile_to_position(percentile, field_size):\n",
    "    beat = percentile * field_size / 100.0\n",
    "    position = field_size - beat + 1\n",
    "    return position"
   ]
  },
  {
   "cell_type": "markdown",
   "id": "39cbb101",
   "metadata": {},
   "source": [
    "There were 171 people in M5059, so I would have to come in between 17th and 18th place to have the same percentile rank.\n",
    "The finishing time of the 17th runner in M5059 was 46:05, so that's the time I will have to beat to maintain my percentile rank."
   ]
  },
  {
   "cell_type": "markdown",
   "id": "327f0a79",
   "metadata": {},
   "source": [
    "## Glossary\n",
    "\n",
    "-   **percentile rank**: The percentage of quantities in a distribution that are less than or equal to a given quantity.\n",
    "\n",
    "-   **percentile**: The quantity associated with a given percentile rank.\n",
    "\n",
    "-   **cumulative distribution function (CDF)**: A function that maps from quantities to their cumulative probabilities.\n",
    "$CDF(x)$ is the fraction of the sample less than or equal to $x$.\n",
    "\n",
    "-   **inverse CDF**: A function that maps from a cumulative probability, $p$, to the corresponding quantity.\n",
    "\n",
    "-   **median**: The 50th percentile, often used as a measure of central tendency.\n",
    "\n",
    "-   **interquartile range**: The difference between the 75th and 25th percentiles, used as a measure of spread.\n",
    "\n",
    "-   **quantile**: A sequence of quantities that correspond to equally spaced percentile ranks; for example, the quartiles of a distribution are the 25th, 50th and 75th percentiles.\n",
    "\n",
    "-   **replacement**: A property of a sampling process.\n",
    "\"With replacement\" means that the same quantity can be chosen more than once; \"without replacement\" means that once a quantity is chosen, it is removed from the population."
   ]
  },
  {
   "cell_type": "markdown",
   "id": "37ae0af7",
   "metadata": {
    "collapsed": true
   },
   "source": [
    "## Exercises"
   ]
  },
  {
   "cell_type": "markdown",
   "id": "ce30c7e3",
   "metadata": {
    "collapsed": true
   },
   "source": [
    "### Exercise \n",
    "\n",
    "How much did you weigh at birth? If you don’t know, call your mother or someone else who knows.\n",
    "Using the NSFG data (all live births), compute the distribution of birth weights and use it to find your percentile rank.\n",
    "If you were a first baby, find your percentile rank in the distribution for first babies.\n",
    "Otherwise use the distribution for others.\n",
    "If you are in the 90th percentile or higher, call your mother back and apologize."
   ]
  },
  {
   "cell_type": "code",
   "execution_count": null,
   "id": "65835159",
   "metadata": {},
   "outputs": [],
   "source": [
    "first_cdf(8.5) * 100"
   ]
  },
  {
   "cell_type": "code",
   "execution_count": null,
   "id": "f1bf49cf",
   "metadata": {},
   "outputs": [],
   "source": [
    "other_cdf(8.5) * 100"
   ]
  },
  {
   "cell_type": "markdown",
   "id": "950e5c54",
   "metadata": {
    "collapsed": true
   },
   "source": [
    "### Exercise \n",
    "\n",
    "The numbers generated by `numpy.random.random` are supposed to be uniform between 0 and 1; that is, every quantity in the range should have the same probability.\n",
    "\n",
    "Suppose we generate 1000 numbers between 0 and 1. "
   ]
  },
  {
   "cell_type": "code",
   "execution_count": null,
   "id": "bfaded3b",
   "metadata": {},
   "outputs": [],
   "source": [
    "t = np.random.random(1000)"
   ]
  },
  {
   "cell_type": "markdown",
   "id": "c69d3eec",
   "metadata": {
    "collapsed": true
   },
   "source": [
    "Plot their PMF.\n",
    "What goes wrong? Now plot the CDF.\n",
    "Is the distribution uniform?"
   ]
  },
  {
   "cell_type": "code",
   "execution_count": null,
   "id": "8122cccd",
   "metadata": {},
   "outputs": [],
   "source": [
    "# Solution\n",
    "\n",
    "pmf = Pmf.from_seq(t, name=\"random\")\n",
    "pmf.plot()\n",
    "decorate(xlabel=\"Random variate\", ylabel=\"PMF\")"
   ]
  },
  {
   "cell_type": "code",
   "execution_count": null,
   "id": "2624762e",
   "metadata": {},
   "outputs": [],
   "source": [
    "# Solution\n",
    "\n",
    "cdf = Cdf.from_seq(t, name=\"random\")\n",
    "cdf.plot()\n",
    "decorate(xlabel=\"Random variate\", ylabel=\"CDF\")"
   ]
  },
  {
   "cell_type": "code",
   "execution_count": null,
   "id": "6b80680d",
   "metadata": {},
   "outputs": [],
   "source": []
  }
 ],
 "metadata": {
  "kernelspec": {
   "display_name": "Python 3 (ipykernel)",
   "language": "python",
   "name": "python3"
  },
  "language_info": {
   "codemirror_mode": {
    "name": "ipython",
    "version": 3
   },
   "file_extension": ".py",
   "mimetype": "text/x-python",
   "name": "python",
   "nbconvert_exporter": "python",
   "pygments_lexer": "ipython3",
   "version": "3.10.14"
  }
 },
 "nbformat": 4,
 "nbformat_minor": 5
}
