{
 "cells": [
  {
   "cell_type": "markdown",
   "id": "2148ec88",
   "metadata": {},
   "source": [
    "# Cumulative distribution functions"
   ]
  },
  {
   "cell_type": "code",
   "execution_count": 1,
   "id": "a68b8b8c",
   "metadata": {},
   "outputs": [
    {
     "data": {
      "application/javascript": [
       "\n",
       "            setTimeout(function() {\n",
       "                var nbb_cell_id = 1;\n",
       "                var nbb_unformatted_code = \"%load_ext nb_black\";\n",
       "                var nbb_formatted_code = \"%load_ext nb_black\";\n",
       "                var nbb_cells = Jupyter.notebook.get_cells();\n",
       "                for (var i = 0; i < nbb_cells.length; ++i) {\n",
       "                    if (nbb_cells[i].input_prompt_number == nbb_cell_id) {\n",
       "                        if (nbb_cells[i].get_text() == nbb_unformatted_code) {\n",
       "                             nbb_cells[i].set_text(nbb_formatted_code);\n",
       "                        }\n",
       "                        break;\n",
       "                    }\n",
       "                }\n",
       "            }, 500);\n",
       "            "
      ],
      "text/plain": [
       "<IPython.core.display.Javascript object>"
      ]
     },
     "metadata": {},
     "output_type": "display_data"
    }
   ],
   "source": [
    "%load_ext nb_black\n"
   ]
  },
  {
   "cell_type": "code",
   "execution_count": 2,
   "id": "b3d48912",
   "metadata": {},
   "outputs": [
    {
     "data": {
      "application/javascript": [
       "\n",
       "            setTimeout(function() {\n",
       "                var nbb_cell_id = 2;\n",
       "                var nbb_unformatted_code = \"from os.path import basename, exists\\n\\n\\ndef download(url):\\n    filename = basename(url)\\n    if not exists(filename):\\n        from urllib.request import urlretrieve\\n        local, _ = urlretrieve(url, filename)\\n        print('Downloaded ' + local)\\n\\n\\ndownload(\\n    'https://github.com/AllenDowney/ThinkStats2/raw/master/code/thinkstats2.py'\\n    )\\ndownload(\\n    'https://github.com/AllenDowney/ThinkStats2/raw/master/code/thinkplot.py')\\ndownload('https://github.com/AllenDowney/ThinkStats2/raw/master/code/nsfg.py')\";\n",
       "                var nbb_formatted_code = \"from os.path import basename, exists\\n\\n\\ndef download(url):\\n    filename = basename(url)\\n    if not exists(filename):\\n        from urllib.request import urlretrieve\\n\\n        local, _ = urlretrieve(url, filename)\\n        print(\\\"Downloaded \\\" + local)\\n\\n\\ndownload(\\\"https://github.com/AllenDowney/ThinkStats2/raw/master/code/thinkstats2.py\\\")\\ndownload(\\\"https://github.com/AllenDowney/ThinkStats2/raw/master/code/thinkplot.py\\\")\\ndownload(\\\"https://github.com/AllenDowney/ThinkStats2/raw/master/code/nsfg.py\\\")\";\n",
       "                var nbb_cells = Jupyter.notebook.get_cells();\n",
       "                for (var i = 0; i < nbb_cells.length; ++i) {\n",
       "                    if (nbb_cells[i].input_prompt_number == nbb_cell_id) {\n",
       "                        if (nbb_cells[i].get_text() == nbb_unformatted_code) {\n",
       "                             nbb_cells[i].set_text(nbb_formatted_code);\n",
       "                        }\n",
       "                        break;\n",
       "                    }\n",
       "                }\n",
       "            }, 500);\n",
       "            "
      ],
      "text/plain": [
       "<IPython.core.display.Javascript object>"
      ]
     },
     "metadata": {},
     "output_type": "display_data"
    }
   ],
   "source": [
    "from os.path import basename, exists\n",
    "\n",
    "\n",
    "def download(url):\n",
    "    filename = basename(url)\n",
    "    if not exists(filename):\n",
    "        from urllib.request import urlretrieve\n",
    "\n",
    "        local, _ = urlretrieve(url, filename)\n",
    "        print(\"Downloaded \" + local)\n",
    "\n",
    "\n",
    "download(\"https://github.com/AllenDowney/ThinkStats2/raw/master/code/thinkstats2.py\")\n",
    "download(\"https://github.com/AllenDowney/ThinkStats2/raw/master/code/thinkplot.py\")\n",
    "download(\"https://github.com/AllenDowney/ThinkStats2/raw/master/code/nsfg.py\")"
   ]
  },
  {
   "cell_type": "code",
   "execution_count": 3,
   "id": "7ad70082",
   "metadata": {},
   "outputs": [
    {
     "data": {
      "application/javascript": [
       "\n",
       "            setTimeout(function() {\n",
       "                var nbb_cell_id = 3;\n",
       "                var nbb_unformatted_code = \"download(\\n    'https://github.com/AllenDowney/ThinkStats2/raw/master/code/2002FemPreg.dct'\\n    )\\ndownload(\\n    'https://github.com/AllenDowney/ThinkStats2/raw/master/code/2002FemPreg.dat.gz'\\n    )\";\n",
       "                var nbb_formatted_code = \"download(\\\"https://github.com/AllenDowney/ThinkStats2/raw/master/code/2002FemPreg.dct\\\")\\ndownload(\\n    \\\"https://github.com/AllenDowney/ThinkStats2/raw/master/code/2002FemPreg.dat.gz\\\"\\n)\";\n",
       "                var nbb_cells = Jupyter.notebook.get_cells();\n",
       "                for (var i = 0; i < nbb_cells.length; ++i) {\n",
       "                    if (nbb_cells[i].input_prompt_number == nbb_cell_id) {\n",
       "                        if (nbb_cells[i].get_text() == nbb_unformatted_code) {\n",
       "                             nbb_cells[i].set_text(nbb_formatted_code);\n",
       "                        }\n",
       "                        break;\n",
       "                    }\n",
       "                }\n",
       "            }, 500);\n",
       "            "
      ],
      "text/plain": [
       "<IPython.core.display.Javascript object>"
      ]
     },
     "metadata": {},
     "output_type": "display_data"
    }
   ],
   "source": [
    "download(\"https://github.com/AllenDowney/ThinkStats2/raw/master/code/2002FemPreg.dct\")\n",
    "download(\n",
    "    \"https://github.com/AllenDowney/ThinkStats2/raw/master/code/2002FemPreg.dat.gz\"\n",
    ")"
   ]
  },
  {
   "cell_type": "code",
   "execution_count": 4,
   "id": "162b32f7",
   "metadata": {},
   "outputs": [
    {
     "data": {
      "application/javascript": [
       "\n",
       "            setTimeout(function() {\n",
       "                var nbb_cell_id = 4;\n",
       "                var nbb_unformatted_code = \"import thinkstats2\\nimport thinkplot\";\n",
       "                var nbb_formatted_code = \"import thinkstats2\\nimport thinkplot\";\n",
       "                var nbb_cells = Jupyter.notebook.get_cells();\n",
       "                for (var i = 0; i < nbb_cells.length; ++i) {\n",
       "                    if (nbb_cells[i].input_prompt_number == nbb_cell_id) {\n",
       "                        if (nbb_cells[i].get_text() == nbb_unformatted_code) {\n",
       "                             nbb_cells[i].set_text(nbb_formatted_code);\n",
       "                        }\n",
       "                        break;\n",
       "                    }\n",
       "                }\n",
       "            }, 500);\n",
       "            "
      ],
      "text/plain": [
       "<IPython.core.display.Javascript object>"
      ]
     },
     "metadata": {},
     "output_type": "display_data"
    }
   ],
   "source": [
    "import thinkstats2\n",
    "import thinkplot"
   ]
  },
  {
   "cell_type": "markdown",
   "id": "3e5f2250",
   "metadata": {},
   "source": [
    "## The limits of PMFs\n",
    "\n",
    "PMFs work well if the number of values is small. But as the number of\n",
    "values increases, the probability associated with each value gets\n",
    "smaller and the effect of random noise increases.\n",
    "\n",
    "For example, we might be interested in the distribution of birth\n",
    "weights. In the NSFG data, the variable `totalwgt_lb` records weight at\n",
    "birth in pounds.\n",
    "Figure [\\[nsfg_birthwgt_pmf\\]](#nsfg_birthwgt_pmf){reference-type=\"ref\"\n",
    "reference=\"nsfg_birthwgt_pmf\"} shows the PMF of these values for first\n",
    "babies and others."
   ]
  },
  {
   "cell_type": "code",
   "execution_count": 5,
   "id": "d9dd00be",
   "metadata": {},
   "outputs": [
    {
     "data": {
      "application/javascript": [
       "\n",
       "            setTimeout(function() {\n",
       "                var nbb_cell_id = 5;\n",
       "                var nbb_unformatted_code = \"import nsfg\\nlive, firsts, others = nsfg.make_frames()\";\n",
       "                var nbb_formatted_code = \"import nsfg\\n\\nlive, firsts, others = nsfg.make_frames()\";\n",
       "                var nbb_cells = Jupyter.notebook.get_cells();\n",
       "                for (var i = 0; i < nbb_cells.length; ++i) {\n",
       "                    if (nbb_cells[i].input_prompt_number == nbb_cell_id) {\n",
       "                        if (nbb_cells[i].get_text() == nbb_unformatted_code) {\n",
       "                             nbb_cells[i].set_text(nbb_formatted_code);\n",
       "                        }\n",
       "                        break;\n",
       "                    }\n",
       "                }\n",
       "            }, 500);\n",
       "            "
      ],
      "text/plain": [
       "<IPython.core.display.Javascript object>"
      ]
     },
     "metadata": {},
     "output_type": "display_data"
    }
   ],
   "source": [
    "import nsfg\n",
    "\n",
    "live, firsts, others = nsfg.make_frames()"
   ]
  },
  {
   "cell_type": "code",
   "execution_count": 6,
   "id": "cec7492a",
   "metadata": {},
   "outputs": [
    {
     "name": "stdout",
     "output_type": "stream",
     "text": [
      "Firsts 4413 4363\n",
      "Others 4735 4675\n"
     ]
    },
    {
     "data": {
      "application/javascript": [
       "\n",
       "            setTimeout(function() {\n",
       "                var nbb_cell_id = 6;\n",
       "                var nbb_unformatted_code = \"first_wgt = firsts.totalwgt_lb\\nfirst_wgt_dropna = first_wgt.dropna()\\nprint('Firsts', len(first_wgt), len(first_wgt_dropna))\\nother_wgt = others.totalwgt_lb\\nother_wgt_dropna = other_wgt.dropna()\\nprint('Others', len(other_wgt), len(other_wgt_dropna))\\nfirst_pmf = thinkstats2.Pmf(first_wgt_dropna, label='first')\\nother_pmf = thinkstats2.Pmf(other_wgt_dropna, label='other')\";\n",
       "                var nbb_formatted_code = \"first_wgt = firsts.totalwgt_lb\\nfirst_wgt_dropna = first_wgt.dropna()\\nprint(\\\"Firsts\\\", len(first_wgt), len(first_wgt_dropna))\\nother_wgt = others.totalwgt_lb\\nother_wgt_dropna = other_wgt.dropna()\\nprint(\\\"Others\\\", len(other_wgt), len(other_wgt_dropna))\\nfirst_pmf = thinkstats2.Pmf(first_wgt_dropna, label=\\\"first\\\")\\nother_pmf = thinkstats2.Pmf(other_wgt_dropna, label=\\\"other\\\")\";\n",
       "                var nbb_cells = Jupyter.notebook.get_cells();\n",
       "                for (var i = 0; i < nbb_cells.length; ++i) {\n",
       "                    if (nbb_cells[i].input_prompt_number == nbb_cell_id) {\n",
       "                        if (nbb_cells[i].get_text() == nbb_unformatted_code) {\n",
       "                             nbb_cells[i].set_text(nbb_formatted_code);\n",
       "                        }\n",
       "                        break;\n",
       "                    }\n",
       "                }\n",
       "            }, 500);\n",
       "            "
      ],
      "text/plain": [
       "<IPython.core.display.Javascript object>"
      ]
     },
     "metadata": {},
     "output_type": "display_data"
    }
   ],
   "source": [
    "first_wgt = firsts.totalwgt_lb\n",
    "first_wgt_dropna = first_wgt.dropna()\n",
    "print(\"Firsts\", len(first_wgt), len(first_wgt_dropna))\n",
    "other_wgt = others.totalwgt_lb\n",
    "other_wgt_dropna = other_wgt.dropna()\n",
    "print(\"Others\", len(other_wgt), len(other_wgt_dropna))\n",
    "first_pmf = thinkstats2.Pmf(first_wgt_dropna, label=\"first\")\n",
    "other_pmf = thinkstats2.Pmf(other_wgt_dropna, label=\"other\")"
   ]
  },
  {
   "cell_type": "code",
   "execution_count": 7,
   "id": "b5c7d4a6",
   "metadata": {},
   "outputs": [
    {
     "data": {
      "image/png": "[encoded data removed]",
      "text/plain": [
       "<Figure size 640x480 with 1 Axes>"
      ]
     },
     "metadata": {},
     "output_type": "display_data"
    },
    {
     "data": {
      "application/javascript": [
       "\n",
       "            setTimeout(function() {\n",
       "                var nbb_cell_id = 7;\n",
       "                var nbb_unformatted_code = \"width = 0.4 / 16\\nthinkplot.pre_plot(2)\\nthinkplot.hist(first_pmf, align='right', width=width)\\nthinkplot.hist(other_pmf, align='left', width=width)\\nthinkplot.config(xlabel='Weight (pounds)', ylabel='PMF')\";\n",
       "                var nbb_formatted_code = \"width = 0.4 / 16\\nthinkplot.pre_plot(2)\\nthinkplot.hist(first_pmf, align=\\\"right\\\", width=width)\\nthinkplot.hist(other_pmf, align=\\\"left\\\", width=width)\\nthinkplot.config(xlabel=\\\"Weight (pounds)\\\", ylabel=\\\"PMF\\\")\";\n",
       "                var nbb_cells = Jupyter.notebook.get_cells();\n",
       "                for (var i = 0; i < nbb_cells.length; ++i) {\n",
       "                    if (nbb_cells[i].input_prompt_number == nbb_cell_id) {\n",
       "                        if (nbb_cells[i].get_text() == nbb_unformatted_code) {\n",
       "                             nbb_cells[i].set_text(nbb_formatted_code);\n",
       "                        }\n",
       "                        break;\n",
       "                    }\n",
       "                }\n",
       "            }, 500);\n",
       "            "
      ],
      "text/plain": [
       "<IPython.core.display.Javascript object>"
      ]
     },
     "metadata": {},
     "output_type": "display_data"
    }
   ],
   "source": [
    "width = 0.4 / 16\n",
    "thinkplot.pre_plot(2)\n",
    "thinkplot.hist(first_pmf, align=\"right\", width=width)\n",
    "thinkplot.hist(other_pmf, align=\"left\", width=width)\n",
    "thinkplot.config(xlabel=\"Weight (pounds)\", ylabel=\"PMF\")"
   ]
  },
  {
   "cell_type": "markdown",
   "id": "f195bde7",
   "metadata": {},
   "source": [
    "Overall, these distributions resemble the bell shape of a normal\n",
    "distribution, with many values near the mean and a few values much\n",
    "higher and lower.\n",
    "\n",
    "But parts of this figure are hard to interpret. There are many spikes\n",
    "and valleys, and some apparent differences between the distributions. It\n",
    "is hard to tell which of these features are meaningful. Also, it is hard\n",
    "to see overall patterns; for example, which distribution do you think\n",
    "has the higher mean?\n",
    "\n",
    "These problems can be mitigated by binning the data; that is, dividing\n",
    "the range of values into non-overlapping intervals and counting the\n",
    "number of values in each bin. Binning can be useful, but it is tricky to\n",
    "get the size of the bins right. If they are big enough to smooth out\n",
    "noise, they might also smooth out useful information.\n",
    "\n",
    "An alternative that avoids these problems is the cumulative distribution\n",
    "function (CDF), which is the subject of this chapter. But before I can\n",
    "explain CDFs, I have to explain percentiles."
   ]
  },
  {
   "cell_type": "markdown",
   "id": "d4138e00",
   "metadata": {},
   "source": [
    "## Percentiles\n",
    "\n",
    "If you have taken a standardized test, you probably got your results in\n",
    "the form of a raw score and a **percentile rank**. In this context, the\n",
    "percentile rank is the fraction of people who scored lower than you (or\n",
    "the same). So if you are \"in the 90th percentile,\" you did as well as or\n",
    "better than 90% of the people who took the exam.\n",
    "\n",
    "Here's how you could compute the percentile rank of a value,\n",
    "`your_score`, relative to the values in the sequence `scores`:"
   ]
  },
  {
   "cell_type": "code",
   "execution_count": 8,
   "id": "2faaf708",
   "metadata": {},
   "outputs": [
    {
     "data": {
      "application/javascript": [
       "\n",
       "            setTimeout(function() {\n",
       "                var nbb_cell_id = 8;\n",
       "                var nbb_unformatted_code = \"def percentile_rank(scores, your_score):\\n    count = 0\\n    for score in scores:\\n        if score <= your_score:\\n            count += 1\\n    percentile_rank = 100.0 * count / len(scores)\\n    return percentile_rank\";\n",
       "                var nbb_formatted_code = \"def percentile_rank(scores, your_score):\\n    count = 0\\n    for score in scores:\\n        if score <= your_score:\\n            count += 1\\n    percentile_rank = 100.0 * count / len(scores)\\n    return percentile_rank\";\n",
       "                var nbb_cells = Jupyter.notebook.get_cells();\n",
       "                for (var i = 0; i < nbb_cells.length; ++i) {\n",
       "                    if (nbb_cells[i].input_prompt_number == nbb_cell_id) {\n",
       "                        if (nbb_cells[i].get_text() == nbb_unformatted_code) {\n",
       "                             nbb_cells[i].set_text(nbb_formatted_code);\n",
       "                        }\n",
       "                        break;\n",
       "                    }\n",
       "                }\n",
       "            }, 500);\n",
       "            "
      ],
      "text/plain": [
       "<IPython.core.display.Javascript object>"
      ]
     },
     "metadata": {},
     "output_type": "display_data"
    }
   ],
   "source": [
    "def percentile_rank(scores, your_score):\n",
    "    count = 0\n",
    "    for score in scores:\n",
    "        if score <= your_score:\n",
    "            count += 1\n",
    "    percentile_rank = 100.0 * count / len(scores)\n",
    "    return percentile_rank"
   ]
  },
  {
   "cell_type": "markdown",
   "id": "4aa342d4",
   "metadata": {},
   "source": [
    "As an example, if the scores in the sequence were 55, 66, 77, 88 and 99,\n",
    "and you got the 88, then your percentile rank would be `100 * 4 / 5`\n",
    "which is 80."
   ]
  },
  {
   "cell_type": "code",
   "execution_count": 9,
   "id": "df39c7f3",
   "metadata": {},
   "outputs": [
    {
     "data": {
      "application/javascript": [
       "\n",
       "            setTimeout(function() {\n",
       "                var nbb_cell_id = 9;\n",
       "                var nbb_unformatted_code = \"t = [55, 66, 77, 88, 99]\";\n",
       "                var nbb_formatted_code = \"t = [55, 66, 77, 88, 99]\";\n",
       "                var nbb_cells = Jupyter.notebook.get_cells();\n",
       "                for (var i = 0; i < nbb_cells.length; ++i) {\n",
       "                    if (nbb_cells[i].input_prompt_number == nbb_cell_id) {\n",
       "                        if (nbb_cells[i].get_text() == nbb_unformatted_code) {\n",
       "                             nbb_cells[i].set_text(nbb_formatted_code);\n",
       "                        }\n",
       "                        break;\n",
       "                    }\n",
       "                }\n",
       "            }, 500);\n",
       "            "
      ],
      "text/plain": [
       "<IPython.core.display.Javascript object>"
      ]
     },
     "metadata": {},
     "output_type": "display_data"
    }
   ],
   "source": [
    "t = [55, 66, 77, 88, 99]"
   ]
  },
  {
   "cell_type": "code",
   "execution_count": 10,
   "id": "029d94b7",
   "metadata": {},
   "outputs": [
    {
     "data": {
      "text/plain": [
       "80.0"
      ]
     },
     "execution_count": 10,
     "metadata": {},
     "output_type": "execute_result"
    },
    {
     "data": {
      "application/javascript": [
       "\n",
       "            setTimeout(function() {\n",
       "                var nbb_cell_id = 10;\n",
       "                var nbb_unformatted_code = \"percentile_rank(t, 88)\";\n",
       "                var nbb_formatted_code = \"percentile_rank(t, 88)\";\n",
       "                var nbb_cells = Jupyter.notebook.get_cells();\n",
       "                for (var i = 0; i < nbb_cells.length; ++i) {\n",
       "                    if (nbb_cells[i].input_prompt_number == nbb_cell_id) {\n",
       "                        if (nbb_cells[i].get_text() == nbb_unformatted_code) {\n",
       "                             nbb_cells[i].set_text(nbb_formatted_code);\n",
       "                        }\n",
       "                        break;\n",
       "                    }\n",
       "                }\n",
       "            }, 500);\n",
       "            "
      ],
      "text/plain": [
       "<IPython.core.display.Javascript object>"
      ]
     },
     "metadata": {},
     "output_type": "display_data"
    }
   ],
   "source": [
    "percentile_rank(t, 88)"
   ]
  },
  {
   "cell_type": "markdown",
   "id": "a026ec4d",
   "metadata": {},
   "source": [
    "If you are given a value, it is easy to find its percentile rank; going\n",
    "the other way is slightly harder. If you are given a percentile rank and\n",
    "you want to find the corresponding value, one option is to sort the\n",
    "values and search for the one you want:"
   ]
  },
  {
   "cell_type": "code",
   "execution_count": 13,
   "id": "1e68542e",
   "metadata": {},
   "outputs": [
    {
     "data": {
      "application/javascript": [
       "\n",
       "            setTimeout(function() {\n",
       "                var nbb_cell_id = 13;\n",
       "                var nbb_unformatted_code = \"def percentile(scores, pr):\\n    scores.sort()\\n    for score in scores:\\n        if percentile_rank(scores, score) >= pr:\\n            return score\";\n",
       "                var nbb_formatted_code = \"def percentile(scores, pr):\\n    scores.sort()\\n    for score in scores:\\n        if percentile_rank(scores, score) >= pr:\\n            return score\";\n",
       "                var nbb_cells = Jupyter.notebook.get_cells();\n",
       "                for (var i = 0; i < nbb_cells.length; ++i) {\n",
       "                    if (nbb_cells[i].input_prompt_number == nbb_cell_id) {\n",
       "                        if (nbb_cells[i].get_text() == nbb_unformatted_code) {\n",
       "                             nbb_cells[i].set_text(nbb_formatted_code);\n",
       "                        }\n",
       "                        break;\n",
       "                    }\n",
       "                }\n",
       "            }, 500);\n",
       "            "
      ],
      "text/plain": [
       "<IPython.core.display.Javascript object>"
      ]
     },
     "metadata": {},
     "output_type": "display_data"
    }
   ],
   "source": [
    "def percentile(scores, pr):\n",
    "    scores.sort()\n",
    "    for score in scores:\n",
    "        if percentile_rank(scores, score) >= pr:\n",
    "            return score"
   ]
  },
  {
   "cell_type": "markdown",
   "id": "0058a9a8",
   "metadata": {},
   "source": [
    "The result of this calculation is a **percentile**. For example, the\n",
    "50th percentile is the value with percentile rank 50. In the\n",
    "distribution of exam scores, the 50th percentile is 77."
   ]
  },
  {
   "cell_type": "code",
   "execution_count": 14,
   "id": "83261d15",
   "metadata": {},
   "outputs": [
    {
     "data": {
      "text/plain": [
       "77"
      ]
     },
     "execution_count": 14,
     "metadata": {},
     "output_type": "execute_result"
    },
    {
     "data": {
      "application/javascript": [
       "\n",
       "            setTimeout(function() {\n",
       "                var nbb_cell_id = 14;\n",
       "                var nbb_unformatted_code = \"percentile(t, 50)\";\n",
       "                var nbb_formatted_code = \"percentile(t, 50)\";\n",
       "                var nbb_cells = Jupyter.notebook.get_cells();\n",
       "                for (var i = 0; i < nbb_cells.length; ++i) {\n",
       "                    if (nbb_cells[i].input_prompt_number == nbb_cell_id) {\n",
       "                        if (nbb_cells[i].get_text() == nbb_unformatted_code) {\n",
       "                             nbb_cells[i].set_text(nbb_formatted_code);\n",
       "                        }\n",
       "                        break;\n",
       "                    }\n",
       "                }\n",
       "            }, 500);\n",
       "            "
      ],
      "text/plain": [
       "<IPython.core.display.Javascript object>"
      ]
     },
     "metadata": {},
     "output_type": "display_data"
    }
   ],
   "source": [
    "percentile(t, 50)"
   ]
  },
  {
   "cell_type": "markdown",
   "id": "fa7f2ef7",
   "metadata": {},
   "source": [
    "This implementation of `Percentile` is not efficient. A better approach\n",
    "is to use the percentile rank to compute the index of the corresponding\n",
    "percentile:"
   ]
  },
  {
   "cell_type": "code",
   "execution_count": 15,
   "id": "2e0a763d",
   "metadata": {},
   "outputs": [
    {
     "data": {
      "application/javascript": [
       "\n",
       "            setTimeout(function() {\n",
       "                var nbb_cell_id = 15;\n",
       "                var nbb_unformatted_code = \"def percentile2(scores, percentile_rank):\\n    scores.sort()\\n    index = percentile_rank * (len(scores) - 1) // 100\\n    return scores[index]\";\n",
       "                var nbb_formatted_code = \"def percentile2(scores, percentile_rank):\\n    scores.sort()\\n    index = percentile_rank * (len(scores) - 1) // 100\\n    return scores[index]\";\n",
       "                var nbb_cells = Jupyter.notebook.get_cells();\n",
       "                for (var i = 0; i < nbb_cells.length; ++i) {\n",
       "                    if (nbb_cells[i].input_prompt_number == nbb_cell_id) {\n",
       "                        if (nbb_cells[i].get_text() == nbb_unformatted_code) {\n",
       "                             nbb_cells[i].set_text(nbb_formatted_code);\n",
       "                        }\n",
       "                        break;\n",
       "                    }\n",
       "                }\n",
       "            }, 500);\n",
       "            "
      ],
      "text/plain": [
       "<IPython.core.display.Javascript object>"
      ]
     },
     "metadata": {},
     "output_type": "display_data"
    }
   ],
   "source": [
    "def percentile2(scores, percentile_rank):\n",
    "    scores.sort()\n",
    "    index = percentile_rank * (len(scores) - 1) // 100\n",
    "    return scores[index]"
   ]
  },
  {
   "cell_type": "code",
   "execution_count": 16,
   "id": "fc15e580",
   "metadata": {},
   "outputs": [
    {
     "data": {
      "text/plain": [
       "77"
      ]
     },
     "execution_count": 16,
     "metadata": {},
     "output_type": "execute_result"
    },
    {
     "data": {
      "application/javascript": [
       "\n",
       "            setTimeout(function() {\n",
       "                var nbb_cell_id = 16;\n",
       "                var nbb_unformatted_code = \"percentile2(t, 50)\";\n",
       "                var nbb_formatted_code = \"percentile2(t, 50)\";\n",
       "                var nbb_cells = Jupyter.notebook.get_cells();\n",
       "                for (var i = 0; i < nbb_cells.length; ++i) {\n",
       "                    if (nbb_cells[i].input_prompt_number == nbb_cell_id) {\n",
       "                        if (nbb_cells[i].get_text() == nbb_unformatted_code) {\n",
       "                             nbb_cells[i].set_text(nbb_formatted_code);\n",
       "                        }\n",
       "                        break;\n",
       "                    }\n",
       "                }\n",
       "            }, 500);\n",
       "            "
      ],
      "text/plain": [
       "<IPython.core.display.Javascript object>"
      ]
     },
     "metadata": {},
     "output_type": "display_data"
    }
   ],
   "source": [
    "percentile2(t, 50)"
   ]
  },
  {
   "cell_type": "markdown",
   "id": "68fd4190",
   "metadata": {},
   "source": [
    "The difference between \"percentile\" and \"percentile rank\" can be\n",
    "confusing, and people do not always use the terms precisely. To\n",
    "summarize, `PercentileRank` takes a value and computes its percentile\n",
    "rank in a set of values; `Percentile` takes a percentile rank and\n",
    "computes the corresponding value."
   ]
  },
  {
   "cell_type": "markdown",
   "id": "243f1bc9",
   "metadata": {},
   "source": [
    "## CDFs\n",
    "\n",
    "Now that we understand percentiles and percentile ranks, we are ready to\n",
    "tackle the **cumulative distribution function** (CDF). The CDF is the\n",
    "function that maps from a value to its percentile rank.\n",
    "\n",
    "The CDF is a function of $x$, where $x$ is any value that might appear\n",
    "in the distribution. To evaluate $CDF(x)$ for a particular value of\n",
    "$x$, we compute the fraction of values in the distribution less than or\n",
    "equal to $x$.\n",
    "\n",
    "Here's what that looks like as a function that takes a sequence,\n",
    "`sample`, and a value, `x`:"
   ]
  },
  {
   "cell_type": "code",
   "execution_count": 17,
   "id": "ddfab968",
   "metadata": {},
   "outputs": [
    {
     "data": {
      "application/javascript": [
       "\n",
       "            setTimeout(function() {\n",
       "                var nbb_cell_id = 17;\n",
       "                var nbb_unformatted_code = \"def eval_cdf(sample, x):\\n    count = 0.0\\n    for value in sample:\\n        if value <= x:\\n            count += 1\\n    prob = count / len(sample)\\n    return prob\";\n",
       "                var nbb_formatted_code = \"def eval_cdf(sample, x):\\n    count = 0.0\\n    for value in sample:\\n        if value <= x:\\n            count += 1\\n    prob = count / len(sample)\\n    return prob\";\n",
       "                var nbb_cells = Jupyter.notebook.get_cells();\n",
       "                for (var i = 0; i < nbb_cells.length; ++i) {\n",
       "                    if (nbb_cells[i].input_prompt_number == nbb_cell_id) {\n",
       "                        if (nbb_cells[i].get_text() == nbb_unformatted_code) {\n",
       "                             nbb_cells[i].set_text(nbb_formatted_code);\n",
       "                        }\n",
       "                        break;\n",
       "                    }\n",
       "                }\n",
       "            }, 500);\n",
       "            "
      ],
      "text/plain": [
       "<IPython.core.display.Javascript object>"
      ]
     },
     "metadata": {},
     "output_type": "display_data"
    }
   ],
   "source": [
    "def eval_cdf(sample, x):\n",
    "    count = 0.0\n",
    "    for value in sample:\n",
    "        if value <= x:\n",
    "            count += 1\n",
    "    prob = count / len(sample)\n",
    "    return prob"
   ]
  },
  {
   "cell_type": "markdown",
   "id": "34527e0d",
   "metadata": {},
   "source": [
    "This function is almost identical to `PercentileRank`, except that the\n",
    "result is a probability in the range 0--1 rather than a percentile rank\n",
    "in the range 0--100.\n",
    "\n",
    "As an example, suppose we collect a sample with the values\n",
    "`[1, 2, 2, 3, 5]`. Here are some values from its CDF: $$CDF(0) = 0$$\n",
    "$$CDF(1) = 0.2$$ $$CDF(2) = 0.6$$ $$CDF(3) = 0.8$$ $$CDF(4) = 0.8$$\n",
    "$$CDF(5) = 1$$ We can evaluate the CDF for any value of $x$, not just\n",
    "values that appear in the sample. If $x$ is less than the smallest value\n",
    "in the sample, $CDF(x)$ is 0. If $x$ is greater than the largest value,\n",
    "$CDF(x)$ is 1.\n"
   ]
  },
  {
   "cell_type": "code",
   "execution_count": 18,
   "id": "a092f3ac",
   "metadata": {},
   "outputs": [
    {
     "data": {
      "text/plain": [
       "(0.0, 0.2, 0.6, 0.8, 0.8, 1.0)"
      ]
     },
     "execution_count": 18,
     "metadata": {},
     "output_type": "execute_result"
    },
    {
     "data": {
      "application/javascript": [
       "\n",
       "            setTimeout(function() {\n",
       "                var nbb_cell_id = 18;\n",
       "                var nbb_unformatted_code = \"t = [1, 2, 2, 3, 5]\\neval_cdf(t, 0), eval_cdf(t, 1), eval_cdf(t, 2), eval_cdf(t, 3), eval_cdf(t, 4\\n    ), eval_cdf(t, 5)\";\n",
       "                var nbb_formatted_code = \"t = [1, 2, 2, 3, 5]\\neval_cdf(t, 0), eval_cdf(t, 1), eval_cdf(t, 2), eval_cdf(t, 3), eval_cdf(\\n    t, 4\\n), eval_cdf(t, 5)\";\n",
       "                var nbb_cells = Jupyter.notebook.get_cells();\n",
       "                for (var i = 0; i < nbb_cells.length; ++i) {\n",
       "                    if (nbb_cells[i].input_prompt_number == nbb_cell_id) {\n",
       "                        if (nbb_cells[i].get_text() == nbb_unformatted_code) {\n",
       "                             nbb_cells[i].set_text(nbb_formatted_code);\n",
       "                        }\n",
       "                        break;\n",
       "                    }\n",
       "                }\n",
       "            }, 500);\n",
       "            "
      ],
      "text/plain": [
       "<IPython.core.display.Javascript object>"
      ]
     },
     "metadata": {},
     "output_type": "display_data"
    }
   ],
   "source": [
    "t = [1, 2, 2, 3, 5]\n",
    "eval_cdf(t, 0), eval_cdf(t, 1), eval_cdf(t, 2), eval_cdf(t, 3), eval_cdf(\n",
    "    t, 4\n",
    "), eval_cdf(t, 5)"
   ]
  },
  {
   "cell_type": "markdown",
   "id": "a5849114",
   "metadata": {},
   "source": [
    "Figure [\\[example_cdf\\]](#example_cdf){reference-type=\"ref\"\n",
    "reference=\"example_cdf\"} is a graphical representation of this CDF. The\n",
    "CDF of a sample is a step function."
   ]
  },
  {
   "cell_type": "code",
   "execution_count": 19,
   "id": "c6d6ca75",
   "metadata": {},
   "outputs": [
    {
     "data": {
      "image/png": "[encoded data removed]",
      "text/plain": [
       "<Figure size 640x480 with 1 Axes>"
      ]
     },
     "metadata": {},
     "output_type": "display_data"
    },
    {
     "data": {
      "application/javascript": [
       "\n",
       "            setTimeout(function() {\n",
       "                var nbb_cell_id = 19;\n",
       "                var nbb_unformatted_code = \"cdf = thinkstats2.Cdf(t)\\nthinkplot.cdf(cdf)\\nthinkplot.config(xlabel='x', ylabel='CDF', loc='upper left')\";\n",
       "                var nbb_formatted_code = \"cdf = thinkstats2.Cdf(t)\\nthinkplot.cdf(cdf)\\nthinkplot.config(xlabel=\\\"x\\\", ylabel=\\\"CDF\\\", loc=\\\"upper left\\\")\";\n",
       "                var nbb_cells = Jupyter.notebook.get_cells();\n",
       "                for (var i = 0; i < nbb_cells.length; ++i) {\n",
       "                    if (nbb_cells[i].input_prompt_number == nbb_cell_id) {\n",
       "                        if (nbb_cells[i].get_text() == nbb_unformatted_code) {\n",
       "                             nbb_cells[i].set_text(nbb_formatted_code);\n",
       "                        }\n",
       "                        break;\n",
       "                    }\n",
       "                }\n",
       "            }, 500);\n",
       "            "
      ],
      "text/plain": [
       "<IPython.core.display.Javascript object>"
      ]
     },
     "metadata": {},
     "output_type": "display_data"
    }
   ],
   "source": [
    "cdf = thinkstats2.Cdf(t)\n",
    "thinkplot.cdf(cdf)\n",
    "thinkplot.config(xlabel=\"x\", ylabel=\"CDF\", loc=\"upper left\")"
   ]
  },
  {
   "cell_type": "markdown",
   "id": "9dd502d1",
   "metadata": {},
   "source": [
    "## Representing CDFs\n",
    "\n",
    "`thinkstats2` provides a class named Cdf that represents CDFs. The\n",
    "fundamental methods Cdf provides are:\n",
    "\n",
    "-   `Prob(x)`: Given a value `x`, computes the probability\n",
    "    $p = CDF(x)$. The bracket operator is equivalent to `Prob`.\n",
    "\n",
    "-   `Value(p)`: Given a probability `p`, computes the corresponding\n",
    "    value, `x`; that is, the **inverse CDF** of `p`."
   ]
  },
  {
   "cell_type": "markdown",
   "id": "e8e5b681",
   "metadata": {},
   "source": [
    "The Cdf constructor can take as an argument a list of values, a pandas\n",
    "Series, a Hist, Pmf, or another Cdf. The following code makes a Cdf for\n",
    "the distribution of pregnancy lengths in the NSFG:"
   ]
  },
  {
   "cell_type": "code",
   "execution_count": 20,
   "id": "053b138d",
   "metadata": {},
   "outputs": [
    {
     "data": {
      "application/javascript": [
       "\n",
       "            setTimeout(function() {\n",
       "                var nbb_cell_id = 20;\n",
       "                var nbb_unformatted_code = \"cdf = thinkstats2.Cdf(live.prglngth, label='prglngth')\";\n",
       "                var nbb_formatted_code = \"cdf = thinkstats2.Cdf(live.prglngth, label=\\\"prglngth\\\")\";\n",
       "                var nbb_cells = Jupyter.notebook.get_cells();\n",
       "                for (var i = 0; i < nbb_cells.length; ++i) {\n",
       "                    if (nbb_cells[i].input_prompt_number == nbb_cell_id) {\n",
       "                        if (nbb_cells[i].get_text() == nbb_unformatted_code) {\n",
       "                             nbb_cells[i].set_text(nbb_formatted_code);\n",
       "                        }\n",
       "                        break;\n",
       "                    }\n",
       "                }\n",
       "            }, 500);\n",
       "            "
      ],
      "text/plain": [
       "<IPython.core.display.Javascript object>"
      ]
     },
     "metadata": {},
     "output_type": "display_data"
    }
   ],
   "source": [
    "cdf = thinkstats2.Cdf(live.prglngth, label=\"prglngth\")"
   ]
  },
  {
   "cell_type": "markdown",
   "id": "edecadc5",
   "metadata": {},
   "source": [
    "`thinkplot` provides a function named `Cdf` that plots Cdfs as lines:"
   ]
  },
  {
   "cell_type": "code",
   "execution_count": 21,
   "id": "cae85939",
   "metadata": {},
   "outputs": [
    {
     "data": {
      "image/png": "[encoded data removed]",
      "text/plain": [
       "<Figure size 640x480 with 1 Axes>"
      ]
     },
     "metadata": {},
     "output_type": "display_data"
    },
    {
     "data": {
      "text/plain": [
       "<Figure size 800x600 with 0 Axes>"
      ]
     },
     "metadata": {},
     "output_type": "display_data"
    },
    {
     "data": {
      "application/javascript": [
       "\n",
       "            setTimeout(function() {\n",
       "                var nbb_cell_id = 21;\n",
       "                var nbb_unformatted_code = \"thinkplot.cdf(cdf)\\nthinkplot.show(xlabel='weeks', ylabel='CDF')\";\n",
       "                var nbb_formatted_code = \"thinkplot.cdf(cdf)\\nthinkplot.show(xlabel=\\\"weeks\\\", ylabel=\\\"CDF\\\")\";\n",
       "                var nbb_cells = Jupyter.notebook.get_cells();\n",
       "                for (var i = 0; i < nbb_cells.length; ++i) {\n",
       "                    if (nbb_cells[i].input_prompt_number == nbb_cell_id) {\n",
       "                        if (nbb_cells[i].get_text() == nbb_unformatted_code) {\n",
       "                             nbb_cells[i].set_text(nbb_formatted_code);\n",
       "                        }\n",
       "                        break;\n",
       "                    }\n",
       "                }\n",
       "            }, 500);\n",
       "            "
      ],
      "text/plain": [
       "<IPython.core.display.Javascript object>"
      ]
     },
     "metadata": {},
     "output_type": "display_data"
    }
   ],
   "source": [
    "thinkplot.cdf(cdf)\n",
    "thinkplot.show(xlabel=\"weeks\", ylabel=\"CDF\")"
   ]
  },
  {
   "cell_type": "markdown",
   "id": "47787fe6",
   "metadata": {},
   "source": [
    "Figure [\\[cumulative_prglngth_cdf\\]](#cumulative_prglngth_cdf){reference-type=\"ref\"\n",
    "reference=\"cumulative_prglngth_cdf\"} shows the result. One way to read a\n",
    "CDF is to look up percentiles. For example, it looks like about 10% of\n",
    "pregnancies are shorter than 36 weeks, and about 90% are shorter than 41\n",
    "weeks. The CDF also provides a visual representation of the shape of the\n",
    "distribution. Common values appear as steep or vertical sections of the\n",
    "CDF; in this example, the mode at 39 weeks is apparent. There are few\n",
    "values below 30 weeks, so the CDF in this range is flat.\n",
    "\n",
    "It takes some time to get used to CDFs, but once you do, I think you\n",
    "will find that they show more information, more clearly, than PMFs."
   ]
  },
  {
   "cell_type": "markdown",
   "id": "a8d7e7e9",
   "metadata": {},
   "source": [
    "`Cdf` provides `Prob`, which evaluates the CDF; that is, it computes the fraction of values less than or equal to the given value.  For example, 94% of pregnancy lengths are less than or equal to 41."
   ]
  },
  {
   "cell_type": "code",
   "execution_count": 22,
   "id": "a8e71ba9",
   "metadata": {},
   "outputs": [
    {
     "data": {
      "text/plain": [
       "0.9406427634455619"
      ]
     },
     "execution_count": 22,
     "metadata": {},
     "output_type": "execute_result"
    },
    {
     "data": {
      "application/javascript": [
       "\n",
       "            setTimeout(function() {\n",
       "                var nbb_cell_id = 22;\n",
       "                var nbb_unformatted_code = \"cdf.prob(41)\";\n",
       "                var nbb_formatted_code = \"cdf.prob(41)\";\n",
       "                var nbb_cells = Jupyter.notebook.get_cells();\n",
       "                for (var i = 0; i < nbb_cells.length; ++i) {\n",
       "                    if (nbb_cells[i].input_prompt_number == nbb_cell_id) {\n",
       "                        if (nbb_cells[i].get_text() == nbb_unformatted_code) {\n",
       "                             nbb_cells[i].set_text(nbb_formatted_code);\n",
       "                        }\n",
       "                        break;\n",
       "                    }\n",
       "                }\n",
       "            }, 500);\n",
       "            "
      ],
      "text/plain": [
       "<IPython.core.display.Javascript object>"
      ]
     },
     "metadata": {},
     "output_type": "display_data"
    }
   ],
   "source": [
    "cdf.prob(41)"
   ]
  },
  {
   "cell_type": "markdown",
   "id": "40719965",
   "metadata": {},
   "source": [
    "`Value` evaluates the inverse CDF; given a fraction, it computes the corresponding value.  For example, the median is the value that corresponds to 0.5."
   ]
  },
  {
   "cell_type": "code",
   "execution_count": 23,
   "id": "1900d744",
   "metadata": {},
   "outputs": [
    {
     "data": {
      "text/plain": [
       "39"
      ]
     },
     "execution_count": 23,
     "metadata": {},
     "output_type": "execute_result"
    },
    {
     "data": {
      "application/javascript": [
       "\n",
       "            setTimeout(function() {\n",
       "                var nbb_cell_id = 23;\n",
       "                var nbb_unformatted_code = \"cdf.value(0.5)\";\n",
       "                var nbb_formatted_code = \"cdf.value(0.5)\";\n",
       "                var nbb_cells = Jupyter.notebook.get_cells();\n",
       "                for (var i = 0; i < nbb_cells.length; ++i) {\n",
       "                    if (nbb_cells[i].input_prompt_number == nbb_cell_id) {\n",
       "                        if (nbb_cells[i].get_text() == nbb_unformatted_code) {\n",
       "                             nbb_cells[i].set_text(nbb_formatted_code);\n",
       "                        }\n",
       "                        break;\n",
       "                    }\n",
       "                }\n",
       "            }, 500);\n",
       "            "
      ],
      "text/plain": [
       "<IPython.core.display.Javascript object>"
      ]
     },
     "metadata": {},
     "output_type": "display_data"
    }
   ],
   "source": [
    "cdf.value(0.5)"
   ]
  },
  {
   "cell_type": "markdown",
   "id": "3bed54d9",
   "metadata": {},
   "source": [
    "## Comparing CDFs\n",
    "\n",
    "CDFs are especially useful for comparing distributions. For example,\n",
    "here is the code that plots the CDF of birth weight for first babies and\n",
    "others."
   ]
  },
  {
   "cell_type": "code",
   "execution_count": 24,
   "id": "4089ef39",
   "metadata": {},
   "outputs": [
    {
     "ename": "TypeError",
     "evalue": "'Cdf' object is not callable",
     "output_type": "error",
     "traceback": [
      "\u001b[0;31m---------------------------------------------------------------------------\u001b[0m",
      "\u001b[0;31mTypeError\u001b[0m                                 Traceback (most recent call last)",
      "Cell \u001b[0;32mIn[24], line 4\u001b[0m\n\u001b[1;32m      2\u001b[0m other_cdf \u001b[38;5;241m=\u001b[39m thinkstats2\u001b[38;5;241m.\u001b[39mCdf(others\u001b[38;5;241m.\u001b[39mtotalwgt_lb, label\u001b[38;5;241m=\u001b[39m\u001b[38;5;124m'\u001b[39m\u001b[38;5;124mother\u001b[39m\u001b[38;5;124m'\u001b[39m)\n\u001b[1;32m      3\u001b[0m thinkplot\u001b[38;5;241m.\u001b[39mpre_plot(\u001b[38;5;241m2\u001b[39m)\n\u001b[0;32m----> 4\u001b[0m \u001b[43mthinkplot\u001b[49m\u001b[38;5;241;43m.\u001b[39;49m\u001b[43mcdfs\u001b[49m\u001b[43m(\u001b[49m\u001b[43m[\u001b[49m\u001b[43mfirst_cdf\u001b[49m\u001b[43m,\u001b[49m\u001b[43m \u001b[49m\u001b[43mother_cdf\u001b[49m\u001b[43m]\u001b[49m\u001b[43m)\u001b[49m\n\u001b[1;32m      5\u001b[0m thinkplot\u001b[38;5;241m.\u001b[39mshow(xlabel\u001b[38;5;241m=\u001b[39m\u001b[38;5;124m'\u001b[39m\u001b[38;5;124mweight (pounds)\u001b[39m\u001b[38;5;124m'\u001b[39m, ylabel\u001b[38;5;241m=\u001b[39m\u001b[38;5;124m'\u001b[39m\u001b[38;5;124mCDF\u001b[39m\u001b[38;5;124m'\u001b[39m)\n",
      "File \u001b[0;32m~/ThinkStats/soln/thinkplot.py:526\u001b[0m, in \u001b[0;36mcdfs\u001b[0;34m(cdfs, complement, transform, **options)\u001b[0m\n\u001b[1;32m    518\u001b[0m \u001b[38;5;250m\u001b[39m\u001b[38;5;124;03m\"\"\"Plots a sequence of CDFs.\u001b[39;00m\n\u001b[1;32m    519\u001b[0m \n\u001b[1;32m    520\u001b[0m \u001b[38;5;124;03mcdfs: sequence of CDF objects\u001b[39;00m\n\u001b[0;32m   (...)\u001b[0m\n\u001b[1;32m    523\u001b[0m \u001b[38;5;124;03moptions: keyword args passed to plt.plot\u001b[39;00m\n\u001b[1;32m    524\u001b[0m \u001b[38;5;124;03m\"\"\"\u001b[39;00m\n\u001b[1;32m    525\u001b[0m \u001b[38;5;28;01mfor\u001b[39;00m cdf \u001b[38;5;129;01min\u001b[39;00m cdfs:\n\u001b[0;32m--> 526\u001b[0m     \u001b[43mcdf\u001b[49m\u001b[43m(\u001b[49m\u001b[43mcdf\u001b[49m\u001b[43m,\u001b[49m\u001b[43m \u001b[49m\u001b[43mcomplement\u001b[49m\u001b[43m,\u001b[49m\u001b[43m \u001b[49m\u001b[43mtransform\u001b[49m\u001b[43m,\u001b[49m\u001b[43m \u001b[49m\u001b[38;5;241;43m*\u001b[39;49m\u001b[38;5;241;43m*\u001b[39;49m\u001b[43moptions\u001b[49m\u001b[43m)\u001b[49m\n",
      "\u001b[0;31mTypeError\u001b[0m: 'Cdf' object is not callable"
     ]
    },
    {
     "data": {
      "text/plain": [
       "<Figure size 640x480 with 0 Axes>"
      ]
     },
     "metadata": {},
     "output_type": "display_data"
    },
    {
     "data": {
      "application/javascript": [
       "\n",
       "            setTimeout(function() {\n",
       "                var nbb_cell_id = 24;\n",
       "                var nbb_unformatted_code = \"first_cdf = thinkstats2.Cdf(firsts.totalwgt_lb, label='first')\\nother_cdf = thinkstats2.Cdf(others.totalwgt_lb, label='other')\\nthinkplot.pre_plot(2)\\nthinkplot.cdfs([first_cdf, other_cdf])\\nthinkplot.show(xlabel='weight (pounds)', ylabel='CDF')\";\n",
       "                var nbb_formatted_code = \"first_cdf = thinkstats2.Cdf(firsts.totalwgt_lb, label=\\\"first\\\")\\nother_cdf = thinkstats2.Cdf(others.totalwgt_lb, label=\\\"other\\\")\\nthinkplot.pre_plot(2)\\nthinkplot.cdfs([first_cdf, other_cdf])\\nthinkplot.show(xlabel=\\\"weight (pounds)\\\", ylabel=\\\"CDF\\\")\";\n",
       "                var nbb_cells = Jupyter.notebook.get_cells();\n",
       "                for (var i = 0; i < nbb_cells.length; ++i) {\n",
       "                    if (nbb_cells[i].input_prompt_number == nbb_cell_id) {\n",
       "                        if (nbb_cells[i].get_text() == nbb_unformatted_code) {\n",
       "                             nbb_cells[i].set_text(nbb_formatted_code);\n",
       "                        }\n",
       "                        break;\n",
       "                    }\n",
       "                }\n",
       "            }, 500);\n",
       "            "
      ],
      "text/plain": [
       "<IPython.core.display.Javascript object>"
      ]
     },
     "metadata": {},
     "output_type": "display_data"
    }
   ],
   "source": [
    "first_cdf = thinkstats2.Cdf(firsts.totalwgt_lb, label=\"first\")\n",
    "other_cdf = thinkstats2.Cdf(others.totalwgt_lb, label=\"other\")\n",
    "thinkplot.pre_plot(2)\n",
    "thinkplot.cdfs([first_cdf, other_cdf])\n",
    "thinkplot.show(xlabel=\"weight (pounds)\", ylabel=\"CDF\")"
   ]
  },
  {
   "cell_type": "markdown",
   "id": "397bbdae",
   "metadata": {},
   "source": [
    "Compared to\n",
    "Figure [\\[nsfg_birthwgt_pmf\\]](#nsfg_birthwgt_pmf){reference-type=\"ref\"\n",
    "reference=\"nsfg_birthwgt_pmf\"}, this figure makes the shape of the\n",
    "distributions, and the differences between them, much clearer. We can\n",
    "see that first babies are slightly lighter throughout the distribution,\n",
    "with a larger discrepancy above the mean."
   ]
  },
  {
   "cell_type": "markdown",
   "id": "70b009a7",
   "metadata": {},
   "source": [
    "## Percentile-based statistics\n",
    "\n",
    "Once you have computed a CDF, it is easy to compute percentiles and\n",
    "percentile ranks. The Cdf class provides these two methods:\n",
    "\n",
    "-   `PercentileRank(x)`: Given a value `x`, computes its percentile\n",
    "    rank, $100 \\cdot CDF(x)$.\n",
    "\n",
    "-   `Percentile(p)`: Given a percentile rank `p`, computes the\n",
    "    corresponding value, `x`. Equivalent to `Value(p/100)`.\n",
    "\n",
    "`Percentile` can be used to compute percentile-based summary statistics.\n",
    "For example, the 50th percentile is the value that divides the\n",
    "distribution in half, also known as the **median**. Like the mean, the\n",
    "median is a measure of the central tendency of a distribution."
   ]
  },
  {
   "cell_type": "code",
   "execution_count": null,
   "id": "a32716e7",
   "metadata": {},
   "outputs": [],
   "source": [
    "weights = live.totalwgt_lb\n",
    "live_cdf = thinkstats2.Cdf(weights, label='live')"
   ]
  },
  {
   "cell_type": "code",
   "execution_count": null,
   "id": "7357bb4f",
   "metadata": {},
   "outputs": [],
   "source": [
    "median = live_cdf.percentile(50)\n",
    "median"
   ]
  },
  {
   "cell_type": "markdown",
   "id": "1bcc5a0a",
   "metadata": {},
   "source": [
    "Actually, there are several definitions of \"median,\" each with different\n",
    "properties. But `Percentile(50)` is simple and efficient to compute."
   ]
  },
  {
   "cell_type": "markdown",
   "id": "ae3de011",
   "metadata": {},
   "source": [
    "Another percentile-based statistic is the **interquartile range** (IQR),\n",
    "which is a measure of the spread of a distribution. The IQR is the\n",
    "difference between the 75th and 25th percentiles."
   ]
  },
  {
   "cell_type": "code",
   "execution_count": null,
   "id": "f84e5df3",
   "metadata": {},
   "outputs": [],
   "source": [
    "iqr = live_cdf.percentile(25), live_cdf.percentile(75)\n",
    "iqr"
   ]
  },
  {
   "cell_type": "markdown",
   "id": "bad0090a",
   "metadata": {},
   "source": [
    "More generally, percentiles are often used to summarize the shape of a\n",
    "distribution. For example, the distribution of income is often reported\n",
    "in \"quintiles\"; that is, it is split at the 20th, 40th, 60th and 80th\n",
    "percentiles. Other distributions are divided into ten \"deciles\".\n",
    "Statistics like these that represent equally-spaced points in a CDF are\n",
    "called **quantiles**. For more, see\n",
    "<https://en.wikipedia.org/wiki/Quantile>."
   ]
  },
  {
   "cell_type": "markdown",
   "id": "5279c66b",
   "metadata": {},
   "source": [
    "## Random numbers\n",
    "\n",
    "Suppose we choose a random sample from the population of live births and\n",
    "look up the percentile rank of their birth weights. Now suppose we\n",
    "compute the CDF of the percentile ranks. What do you think the\n",
    "distribution will look like?\n",
    "\n",
    "Here's how we can compute it. First, we make the Cdf of birth weights:"
   ]
  },
  {
   "cell_type": "code",
   "execution_count": null,
   "id": "1e469506",
   "metadata": {},
   "outputs": [],
   "source": [
    "weights = live.totalwgt_lb\n",
    "cdf = thinkstats2.Cdf(weights, label='totalwgt_lb')"
   ]
  },
  {
   "cell_type": "markdown",
   "id": "65942fac",
   "metadata": {},
   "source": [
    "Then we generate a sample and compute the percentile rank of each value\n",
    "in the sample."
   ]
  },
  {
   "cell_type": "code",
   "execution_count": null,
   "id": "154d9999",
   "metadata": {},
   "outputs": [],
   "source": [
    "import numpy as np\n",
    "sample = np.random.choice(weights, 100, replace=True)\n",
    "ranks = [cdf.percentile_rank(x) for x in sample]"
   ]
  },
  {
   "cell_type": "markdown",
   "id": "a687ada3",
   "metadata": {},
   "source": [
    "`sample` is a random sample of 100 birth weights, chosen with\n",
    "**replacement**; that is, the same value could be chosen more than once.\n",
    "`ranks` is a list of percentile ranks.\n",
    "\n",
    "Finally we make and plot the Cdf of the percentile ranks."
   ]
  },
  {
   "cell_type": "code",
   "execution_count": null,
   "id": "271a5cc3",
   "metadata": {},
   "outputs": [],
   "source": [
    "rank_cdf = thinkstats2.Cdf(ranks)\n",
    "thinkplot.cdf(rank_cdf)\n",
    "thinkplot.show(xlabel='percentile rank', ylabel='CDF')"
   ]
  },
  {
   "cell_type": "markdown",
   "id": "2e9acd5d",
   "metadata": {},
   "source": [
    "This figure shows the result. The CDF is\n",
    "approximately a straight line, which means that the distribution is\n",
    "uniform.\n",
    "\n",
    "That outcome might be non-obvious, but it is a consequence of the way\n",
    "the CDF is defined. What this figure shows is that 10% of the sample is\n",
    "below the 10th percentile, 20% is below the 20th percentile, and so on,\n",
    "exactly as we should expect."
   ]
  },
  {
   "cell_type": "markdown",
   "id": "365491b7",
   "metadata": {},
   "source": [
    "So, regardless of the shape of the CDF, the distribution of percentile\n",
    "ranks is uniform. This property is useful, because it is the basis of a\n",
    "simple and efficient algorithm for generating random numbers with a\n",
    "given CDF. Here's how:\n",
    "\n",
    "-   Choose a percentile rank uniformly from the range 0--100.\n",
    "\n",
    "-   Use `Cdf.Percentile` to find the value in the distribution that\n",
    "    corresponds to the percentile rank you chose.\n",
    "\n",
    "Cdf provides an implementation of this algorithm, called `Random`:"
   ]
  },
  {
   "cell_type": "code",
   "execution_count": null,
   "id": "a9d31255",
   "metadata": {},
   "outputs": [],
   "source": [
    "def random(self):\n",
    "    return self.percentile(random.uniform(0, 100))"
   ]
  },
  {
   "cell_type": "markdown",
   "id": "a4c9d399",
   "metadata": {},
   "source": [
    "Cdf also provides `Sample`, which takes an integer, `n`, and returns a\n",
    "list of `n` values chosen at random from the Cdf."
   ]
  },
  {
   "cell_type": "markdown",
   "id": "15c9cf4f",
   "metadata": {},
   "source": [
    "## Comparing percentile ranks\n",
    "\n",
    "Percentile ranks are useful for comparing measurements across different\n",
    "groups. For example, people who compete in foot races are usually\n",
    "grouped by age and gender. To compare people in different age groups,\n",
    "you can convert race times to percentile ranks.\n",
    "\n",
    "A few years ago I ran the James Joyce Ramble 10K in Dedham MA; I\n",
    "finished in 42:44, which was 97th in a field of 1633. I beat or tied\n",
    "1537 runners out of 1633, so my percentile rank in the field is 94%.\n",
    "\n",
    "More generally, given position and field size, we can compute percentile\n",
    "rank:"
   ]
  },
  {
   "cell_type": "code",
   "execution_count": null,
   "id": "a80ccc89",
   "metadata": {},
   "outputs": [],
   "source": [
    "def position_to_percentile(position, field_size):\n",
    "    beat = field_size - position + 1\n",
    "    percentile = 100.0 * beat / field_size\n",
    "    return percentile"
   ]
  },
  {
   "cell_type": "markdown",
   "id": "eedfdc96",
   "metadata": {},
   "source": [
    "In my age group, denoted M4049 for \"male between 40 and 49 years of\n",
    "age\", I came in 26th out of 256. So my percentile rank in my age group\n",
    "was 90%.\n",
    "\n",
    "If I am still running in 10 years (and I hope I am), I will be in the\n",
    "M5059 division. Assuming that my percentile rank in my division is the\n",
    "same, how much slower should I expect to be?\n",
    "\n",
    "I can answer that question by converting my percentile rank in M4049 to\n",
    "a position in M5059. Here's the code:"
   ]
  },
  {
   "cell_type": "code",
   "execution_count": null,
   "id": "463b71a3",
   "metadata": {},
   "outputs": [],
   "source": [
    "def percentile_to_position(percentile, field_size):\n",
    "    beat = percentile * field_size / 100.0\n",
    "    position = field_size - beat + 1\n",
    "    return position"
   ]
  },
  {
   "cell_type": "markdown",
   "id": "39cbb101",
   "metadata": {},
   "source": [
    "There were 171 people in M5059, so I would have to come in between 17th\n",
    "and 18th place to have the same percentile rank. The finishing time of\n",
    "the 17th runner in M5059 was 46:05, so that's the time I will have to\n",
    "beat to maintain my percentile rank."
   ]
  },
  {
   "cell_type": "markdown",
   "id": "327f0a79",
   "metadata": {},
   "source": [
    "## Glossary\n",
    "\n",
    "-   **percentile rank**: The percentage of values in a distribution that\n",
    "    are less than or equal to a given value.\n",
    "\n",
    "-   **percentile**: The value associated with a given percentile rank.\n",
    "\n",
    "-   **cumulative distribution function (CDF)**: A function that maps\n",
    "    from values to their cumulative probabilities. $CDF(x)$ is the\n",
    "    fraction of the sample less than or equal to $x$.\n",
    "\n",
    "-   **inverse CDF**: A function that maps from a cumulative probability,\n",
    "    $p$, to the corresponding value.\n",
    "\n",
    "-   **median**: The 50th percentile, often used as a measure of central\n",
    "    tendency.\n",
    "\n",
    "-   **interquartile range**: The difference between the 75th and 25th\n",
    "    percentiles, used as a measure of spread.\n",
    "\n",
    "-   **quantile**: A sequence of values that correspond to equally spaced\n",
    "    percentile ranks; for example, the quartiles of a distribution are\n",
    "    the 25th, 50th and 75th percentiles.\n",
    "\n",
    "-   **replacement**: A property of a sampling process. \"With\n",
    "    replacement\" means that the same value can be chosen more than once;\n",
    "    \"without replacement\" means that once a value is chosen, it is\n",
    "    removed from the population."
   ]
  },
  {
   "cell_type": "markdown",
   "id": "37ae0af7",
   "metadata": {
    "collapsed": true
   },
   "source": [
    "## Exercises"
   ]
  },
  {
   "cell_type": "markdown",
   "id": "ce30c7e3",
   "metadata": {
    "collapsed": true
   },
   "source": [
    "**Exercise:** How much did you weigh at birth? If you don’t know, call your mother or someone else who knows. Using the NSFG data (all live births), compute the distribution of birth weights and use it to find your percentile rank. If you were a first baby, find your percentile rank in the distribution for first babies. Otherwise use the distribution for others. If you are in the 90th percentile or higher, call your mother back and apologize."
   ]
  },
  {
   "cell_type": "code",
   "execution_count": null,
   "id": "65835159",
   "metadata": {},
   "outputs": [],
   "source": [
    "first_cdf.percentile_rank(8.5)"
   ]
  },
  {
   "cell_type": "code",
   "execution_count": null,
   "id": "f1bf49cf",
   "metadata": {},
   "outputs": [],
   "source": [
    "other_cdf.percentile_rank(8.5)"
   ]
  },
  {
   "cell_type": "markdown",
   "id": "c69d3eec",
   "metadata": {
    "collapsed": true
   },
   "source": [
    "**Exercise:** The numbers generated by `numpy.random.random` are supposed to be uniform between 0 and 1; that is, every value in the range should have the same probability.\n",
    "\n",
    "Generate 1000 numbers from `numpy.random.random` and plot their PMF.  What goes wrong?\n",
    "\n",
    "Now plot the CDF. Is the distribution uniform?"
   ]
  },
  {
   "cell_type": "code",
   "execution_count": null,
   "id": "bfaded3b",
   "metadata": {},
   "outputs": [],
   "source": [
    "t = np.random.random(1000)"
   ]
  },
  {
   "cell_type": "code",
   "execution_count": null,
   "id": "8122cccd",
   "metadata": {},
   "outputs": [],
   "source": [
    "pmf = thinkstats2.Pmf(t)\n",
    "thinkplot.pmf(pmf, linewidth=0.1)\n",
    "thinkplot.config(xlabel='Random variate', ylabel='PMF')"
   ]
  },
  {
   "cell_type": "code",
   "execution_count": null,
   "id": "2624762e",
   "metadata": {},
   "outputs": [],
   "source": [
    "cdf = thinkstats2.Cdf(t)\n",
    "thinkplot.cdf(cdf)\n",
    "thinkplot.config(xlabel='Random variate', ylabel='CDF')"
   ]
  },
  {
   "cell_type": "code",
   "execution_count": null,
   "id": "9ebec91a",
   "metadata": {},
   "outputs": [],
   "source": []
  },
  {
   "cell_type": "code",
   "execution_count": null,
   "id": "6b80680d",
   "metadata": {},
   "outputs": [],
   "source": []
  }
 ],
 "metadata": {
  "kernelspec": {
   "display_name": "Python 3 (ipykernel)",
   "language": "python",
   "name": "python3"
  },
  "language_info": {
   "codemirror_mode": {
    "name": "ipython",
    "version": 3
   },
   "file_extension": ".py",
   "mimetype": "text/x-python",
   "name": "python",
   "nbconvert_exporter": "python",
   "pygments_lexer": "ipython3",
   "version": "3.10.14"
  }
 },
 "nbformat": 4,
 "nbformat_minor": 5
}
