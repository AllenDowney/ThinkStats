{
 "cells": [
  {
   "cell_type": "markdown",
   "id": "2148ec88",
   "metadata": {},
   "source": [
    "# Cumulative Distribution Functions"
   ]
  },
  {
   "cell_type": "code",
   "execution_count": 1,
   "id": "a68b8b8c",
   "metadata": {},
   "outputs": [
    {
     "data": {
      "application/javascript": [
       "\n",
       "            setTimeout(function() {\n",
       "                var nbb_cell_id = 1;\n",
       "                var nbb_unformatted_code = \"%load_ext nb_black\\n%load_ext autoreload\\n%autoreload 2\";\n",
       "                var nbb_formatted_code = \"%load_ext nb_black\\n%load_ext autoreload\\n%autoreload 2\";\n",
       "                var nbb_cells = Jupyter.notebook.get_cells();\n",
       "                for (var i = 0; i < nbb_cells.length; ++i) {\n",
       "                    if (nbb_cells[i].input_prompt_number == nbb_cell_id) {\n",
       "                        if (nbb_cells[i].get_text() == nbb_unformatted_code) {\n",
       "                             nbb_cells[i].set_text(nbb_formatted_code);\n",
       "                        }\n",
       "                        break;\n",
       "                    }\n",
       "                }\n",
       "            }, 500);\n",
       "            "
      ],
      "text/plain": [
       "<IPython.core.display.Javascript object>"
      ]
     },
     "metadata": {},
     "output_type": "display_data"
    }
   ],
   "source": [
    "%load_ext nb_black\n",
    "%load_ext autoreload\n",
    "%autoreload 2\n"
   ]
  },
  {
   "cell_type": "code",
   "execution_count": 2,
   "id": "b3d48912",
   "metadata": {},
   "outputs": [
    {
     "data": {
      "application/javascript": [
       "\n",
       "            setTimeout(function() {\n",
       "                var nbb_cell_id = 2;\n",
       "                var nbb_unformatted_code = \"from os.path import basename, exists\\n\\n\\ndef download(url):\\n    filename = basename(url)\\n    if not exists(filename):\\n        from urllib.request import urlretrieve\\n\\n        local, _ = urlretrieve(url, filename)\\n        print(\\\"Downloaded \\\" + local)\\n\\n\\ndownload(\\\"https://github.com/AllenDowney/ThinkStats/raw/v3/nb/thinkstats.py\\\")\";\n",
       "                var nbb_formatted_code = \"from os.path import basename, exists\\n\\n\\ndef download(url):\\n    filename = basename(url)\\n    if not exists(filename):\\n        from urllib.request import urlretrieve\\n\\n        local, _ = urlretrieve(url, filename)\\n        print(\\\"Downloaded \\\" + local)\\n\\n\\ndownload(\\\"https://github.com/AllenDowney/ThinkStats/raw/v3/nb/thinkstats.py\\\")\";\n",
       "                var nbb_cells = Jupyter.notebook.get_cells();\n",
       "                for (var i = 0; i < nbb_cells.length; ++i) {\n",
       "                    if (nbb_cells[i].input_prompt_number == nbb_cell_id) {\n",
       "                        if (nbb_cells[i].get_text() == nbb_unformatted_code) {\n",
       "                             nbb_cells[i].set_text(nbb_formatted_code);\n",
       "                        }\n",
       "                        break;\n",
       "                    }\n",
       "                }\n",
       "            }, 500);\n",
       "            "
      ],
      "text/plain": [
       "<IPython.core.display.Javascript object>"
      ]
     },
     "metadata": {},
     "output_type": "display_data"
    }
   ],
   "source": [
    "from os.path import basename, exists\n",
    "\n",
    "\n",
    "def download(url):\n",
    "    filename = basename(url)\n",
    "    if not exists(filename):\n",
    "        from urllib.request import urlretrieve\n",
    "\n",
    "        local, _ = urlretrieve(url, filename)\n",
    "        print(\"Downloaded \" + local)\n",
    "\n",
    "\n",
    "download(\"https://github.com/AllenDowney/ThinkStats/raw/v3/nb/thinkstats.py\")"
   ]
  },
  {
   "cell_type": "code",
   "execution_count": 3,
   "id": "162b32f7",
   "metadata": {},
   "outputs": [
    {
     "data": {
      "application/javascript": [
       "\n",
       "            setTimeout(function() {\n",
       "                var nbb_cell_id = 3;\n",
       "                var nbb_unformatted_code = \"import numpy as np\\nimport pandas as pd\\nimport matplotlib.pyplot as plt\\n\\nfrom thinkstats import decorate\";\n",
       "                var nbb_formatted_code = \"import numpy as np\\nimport pandas as pd\\nimport matplotlib.pyplot as plt\\n\\nfrom thinkstats import decorate\";\n",
       "                var nbb_cells = Jupyter.notebook.get_cells();\n",
       "                for (var i = 0; i < nbb_cells.length; ++i) {\n",
       "                    if (nbb_cells[i].input_prompt_number == nbb_cell_id) {\n",
       "                        if (nbb_cells[i].get_text() == nbb_unformatted_code) {\n",
       "                             nbb_cells[i].set_text(nbb_formatted_code);\n",
       "                        }\n",
       "                        break;\n",
       "                    }\n",
       "                }\n",
       "            }, 500);\n",
       "            "
      ],
      "text/plain": [
       "<IPython.core.display.Javascript object>"
      ]
     },
     "metadata": {},
     "output_type": "display_data"
    }
   ],
   "source": [
    "import numpy as np\n",
    "import pandas as pd\n",
    "import matplotlib.pyplot as plt\n",
    "\n",
    "from thinkstats import decorate"
   ]
  },
  {
   "cell_type": "markdown",
   "id": "68e60e56",
   "metadata": {},
   "source": [
    "## Percentiles and Percentile Ranks\n",
    "\n",
    "If you have taken a standardized test, you probably got your results in the form of a raw score and a **percentile rank**.\n",
    "In this context, the percentile rank is the percentage of people who got the same score as you or lower.\n",
    "So if you are \"in the 90th percentile,\" you did as well as or better than 90% of the people who took the exam.\n",
    "\n",
    "To understand percentiles and percentile ranks, let's consider an example based on running speeds.\n",
    "Some years ago I ran the James Joyce Ramble, which is a 10 kilometer road race in Massachusetts.\n",
    "After the race, I downloaded the results so to see how my time compared to other runners.\n",
    "The `relay.py` module provides a function that reads the results and returns a Pandas `DataFrame`."
   ]
  },
  {
   "cell_type": "code",
   "execution_count": 20,
   "id": "65e6a2a4",
   "metadata": {},
   "outputs": [
    {
     "data": {
      "application/javascript": [
       "\n",
       "            setTimeout(function() {\n",
       "                var nbb_cell_id = 20;\n",
       "                var nbb_unformatted_code = \"download(\\\"https://github.com/AllenDowney/ThinkStats/raw/v3/nb/relay.py\\\")\\ndownload(\\\"https://github.com/AllenDowney/ThinkStats/raw/v3/data/Apr25_27thAn_set1.shtml\\\")\";\n",
       "                var nbb_formatted_code = \"download(\\\"https://github.com/AllenDowney/ThinkStats/raw/v3/nb/relay.py\\\")\\ndownload(\\n    \\\"https://github.com/AllenDowney/ThinkStats/raw/v3/data/Apr25_27thAn_set1.shtml\\\"\\n)\";\n",
       "                var nbb_cells = Jupyter.notebook.get_cells();\n",
       "                for (var i = 0; i < nbb_cells.length; ++i) {\n",
       "                    if (nbb_cells[i].input_prompt_number == nbb_cell_id) {\n",
       "                        if (nbb_cells[i].get_text() == nbb_unformatted_code) {\n",
       "                             nbb_cells[i].set_text(nbb_formatted_code);\n",
       "                        }\n",
       "                        break;\n",
       "                    }\n",
       "                }\n",
       "            }, 500);\n",
       "            "
      ],
      "text/plain": [
       "<IPython.core.display.Javascript object>"
      ]
     },
     "metadata": {},
     "output_type": "display_data"
    }
   ],
   "source": [
    "download(\"https://github.com/AllenDowney/ThinkStats/raw/v3/nb/relay.py\")\n",
    "download(\n",
    "    \"https://github.com/AllenDowney/ThinkStats/raw/v3/data/Apr25_27thAn_set1.shtml\"\n",
    ")"
   ]
  },
  {
   "cell_type": "code",
   "execution_count": 138,
   "id": "909d3b27",
   "metadata": {},
   "outputs": [
    {
     "data": {
      "text/html": [
       "<div>\n",
       "<style scoped>\n",
       "    .dataframe tbody tr th:only-of-type {\n",
       "        vertical-align: middle;\n",
       "    }\n",
       "\n",
       "    .dataframe tbody tr th {\n",
       "        vertical-align: top;\n",
       "    }\n",
       "\n",
       "    .dataframe thead th {\n",
       "        text-align: right;\n",
       "    }\n",
       "</style>\n",
       "<table border=\"1\" class=\"dataframe\">\n",
       "  <thead>\n",
       "    <tr style=\"text-align: right;\">\n",
       "      <th></th>\n",
       "      <th>Place</th>\n",
       "      <th>Div/Tot</th>\n",
       "      <th>Division</th>\n",
       "      <th>Guntime</th>\n",
       "      <th>Nettime</th>\n",
       "      <th>Min/Mile</th>\n",
       "      <th>MPH</th>\n",
       "    </tr>\n",
       "  </thead>\n",
       "  <tbody>\n",
       "    <tr>\n",
       "      <th>0</th>\n",
       "      <td>1</td>\n",
       "      <td>1/362</td>\n",
       "      <td>M2039</td>\n",
       "      <td>30:43</td>\n",
       "      <td>30:42</td>\n",
       "      <td>4:57</td>\n",
       "      <td>12.121212</td>\n",
       "    </tr>\n",
       "    <tr>\n",
       "      <th>1</th>\n",
       "      <td>2</td>\n",
       "      <td>2/362</td>\n",
       "      <td>M2039</td>\n",
       "      <td>31:36</td>\n",
       "      <td>31:36</td>\n",
       "      <td>5:06</td>\n",
       "      <td>11.764706</td>\n",
       "    </tr>\n",
       "    <tr>\n",
       "      <th>2</th>\n",
       "      <td>3</td>\n",
       "      <td>3/362</td>\n",
       "      <td>M2039</td>\n",
       "      <td>31:42</td>\n",
       "      <td>31:42</td>\n",
       "      <td>5:07</td>\n",
       "      <td>11.726384</td>\n",
       "    </tr>\n",
       "    <tr>\n",
       "      <th>3</th>\n",
       "      <td>4</td>\n",
       "      <td>4/362</td>\n",
       "      <td>M2039</td>\n",
       "      <td>32:28</td>\n",
       "      <td>32:27</td>\n",
       "      <td>5:14</td>\n",
       "      <td>11.464968</td>\n",
       "    </tr>\n",
       "    <tr>\n",
       "      <th>4</th>\n",
       "      <td>5</td>\n",
       "      <td>5/362</td>\n",
       "      <td>M2039</td>\n",
       "      <td>32:52</td>\n",
       "      <td>32:52</td>\n",
       "      <td>5:18</td>\n",
       "      <td>11.320755</td>\n",
       "    </tr>\n",
       "  </tbody>\n",
       "</table>\n",
       "</div>"
      ],
      "text/plain": [
       "   Place Div/Tot Division Guntime Nettime Min/Mile        MPH\n",
       "0      1   1/362    M2039   30:43   30:42     4:57  12.121212\n",
       "1      2   2/362    M2039   31:36   31:36     5:06  11.764706\n",
       "2      3   3/362    M2039   31:42   31:42     5:07  11.726384\n",
       "3      4   4/362    M2039   32:28   32:27     5:14  11.464968\n",
       "4      5   5/362    M2039   32:52   32:52     5:18  11.320755"
      ]
     },
     "execution_count": 138,
     "metadata": {},
     "output_type": "execute_result"
    },
    {
     "data": {
      "application/javascript": [
       "\n",
       "            setTimeout(function() {\n",
       "                var nbb_cell_id = 138;\n",
       "                var nbb_unformatted_code = \"from relay import read_results\\n\\nresults = read_results()\\nresults.head()\";\n",
       "                var nbb_formatted_code = \"from relay import read_results\\n\\nresults = read_results()\\nresults.head()\";\n",
       "                var nbb_cells = Jupyter.notebook.get_cells();\n",
       "                for (var i = 0; i < nbb_cells.length; ++i) {\n",
       "                    if (nbb_cells[i].input_prompt_number == nbb_cell_id) {\n",
       "                        if (nbb_cells[i].get_text() == nbb_unformatted_code) {\n",
       "                             nbb_cells[i].set_text(nbb_formatted_code);\n",
       "                        }\n",
       "                        break;\n",
       "                    }\n",
       "                }\n",
       "            }, 500);\n",
       "            "
      ],
      "text/plain": [
       "<IPython.core.display.Javascript object>"
      ]
     },
     "metadata": {},
     "output_type": "display_data"
    }
   ],
   "source": [
    "from relay import read_results\n",
    "\n",
    "results = read_results()\n",
    "results.head()"
   ]
  },
  {
   "cell_type": "markdown",
   "id": "637bb60c",
   "metadata": {},
   "source": [
    "`results` contains one row for each of 1633 runners who finished the race.\n",
    "The column we'll use to quantify performance is `MPH`, which contains each runner's average speed in miles per hour.\n",
    "We'll select this column and use `values` to extract the speeds as a NumPy array."
   ]
  },
  {
   "cell_type": "code",
   "execution_count": 158,
   "id": "baa0dead",
   "metadata": {},
   "outputs": [
    {
     "data": {
      "application/javascript": [
       "\n",
       "            setTimeout(function() {\n",
       "                var nbb_cell_id = 158;\n",
       "                var nbb_unformatted_code = \"speeds = results[\\\"MPH\\\"].values\";\n",
       "                var nbb_formatted_code = \"speeds = results[\\\"MPH\\\"].values\";\n",
       "                var nbb_cells = Jupyter.notebook.get_cells();\n",
       "                for (var i = 0; i < nbb_cells.length; ++i) {\n",
       "                    if (nbb_cells[i].input_prompt_number == nbb_cell_id) {\n",
       "                        if (nbb_cells[i].get_text() == nbb_unformatted_code) {\n",
       "                             nbb_cells[i].set_text(nbb_formatted_code);\n",
       "                        }\n",
       "                        break;\n",
       "                    }\n",
       "                }\n",
       "            }, 500);\n",
       "            "
      ],
      "text/plain": [
       "<IPython.core.display.Javascript object>"
      ]
     },
     "metadata": {},
     "output_type": "display_data"
    }
   ],
   "source": [
    "speeds = results[\"MPH\"].values"
   ]
  },
  {
   "cell_type": "markdown",
   "id": "dddc7eac",
   "metadata": {},
   "source": [
    "I finished in 42:44, so we can find my row like this."
   ]
  },
  {
   "cell_type": "code",
   "execution_count": 159,
   "id": "3e9d1421",
   "metadata": {},
   "outputs": [
    {
     "data": {
      "text/html": [
       "<div>\n",
       "<style scoped>\n",
       "    .dataframe tbody tr th:only-of-type {\n",
       "        vertical-align: middle;\n",
       "    }\n",
       "\n",
       "    .dataframe tbody tr th {\n",
       "        vertical-align: top;\n",
       "    }\n",
       "\n",
       "    .dataframe thead th {\n",
       "        text-align: right;\n",
       "    }\n",
       "</style>\n",
       "<table border=\"1\" class=\"dataframe\">\n",
       "  <thead>\n",
       "    <tr style=\"text-align: right;\">\n",
       "      <th></th>\n",
       "      <th>Place</th>\n",
       "      <th>Div/Tot</th>\n",
       "      <th>Division</th>\n",
       "      <th>Guntime</th>\n",
       "      <th>Nettime</th>\n",
       "      <th>Min/Mile</th>\n",
       "      <th>MPH</th>\n",
       "    </tr>\n",
       "  </thead>\n",
       "  <tbody>\n",
       "    <tr>\n",
       "      <th>96</th>\n",
       "      <td>97</td>\n",
       "      <td>26/256</td>\n",
       "      <td>M4049</td>\n",
       "      <td>42:48</td>\n",
       "      <td>42:44</td>\n",
       "      <td>6:53</td>\n",
       "      <td>8.716707</td>\n",
       "    </tr>\n",
       "  </tbody>\n",
       "</table>\n",
       "</div>"
      ],
      "text/plain": [
       "    Place Div/Tot Division Guntime Nettime Min/Mile       MPH\n",
       "96     97  26/256    M4049   42:48   42:44     6:53  8.716707"
      ]
     },
     "execution_count": 159,
     "metadata": {},
     "output_type": "execute_result"
    },
    {
     "data": {
      "application/javascript": [
       "\n",
       "            setTimeout(function() {\n",
       "                var nbb_cell_id = 159;\n",
       "                var nbb_unformatted_code = \"my_result = results.query(\\\"Nettime == '42:44'\\\")\\nmy_result\";\n",
       "                var nbb_formatted_code = \"my_result = results.query(\\\"Nettime == '42:44'\\\")\\nmy_result\";\n",
       "                var nbb_cells = Jupyter.notebook.get_cells();\n",
       "                for (var i = 0; i < nbb_cells.length; ++i) {\n",
       "                    if (nbb_cells[i].input_prompt_number == nbb_cell_id) {\n",
       "                        if (nbb_cells[i].get_text() == nbb_unformatted_code) {\n",
       "                             nbb_cells[i].set_text(nbb_formatted_code);\n",
       "                        }\n",
       "                        break;\n",
       "                    }\n",
       "                }\n",
       "            }, 500);\n",
       "            "
      ],
      "text/plain": [
       "<IPython.core.display.Javascript object>"
      ]
     },
     "metadata": {},
     "output_type": "display_data"
    }
   ],
   "source": [
    "my_result = results.query(\"Nettime == '42:44'\")\n",
    "my_result"
   ]
  },
  {
   "cell_type": "markdown",
   "id": "bca670fc",
   "metadata": {},
   "source": [
    "The index of my row is 96, so we can extract my speed like this."
   ]
  },
  {
   "cell_type": "code",
   "execution_count": 160,
   "id": "017ef765",
   "metadata": {},
   "outputs": [
    {
     "data": {
      "application/javascript": [
       "\n",
       "            setTimeout(function() {\n",
       "                var nbb_cell_id = 160;\n",
       "                var nbb_unformatted_code = \"my_speed = speeds[96]\";\n",
       "                var nbb_formatted_code = \"my_speed = speeds[96]\";\n",
       "                var nbb_cells = Jupyter.notebook.get_cells();\n",
       "                for (var i = 0; i < nbb_cells.length; ++i) {\n",
       "                    if (nbb_cells[i].input_prompt_number == nbb_cell_id) {\n",
       "                        if (nbb_cells[i].get_text() == nbb_unformatted_code) {\n",
       "                             nbb_cells[i].set_text(nbb_formatted_code);\n",
       "                        }\n",
       "                        break;\n",
       "                    }\n",
       "                }\n",
       "            }, 500);\n",
       "            "
      ],
      "text/plain": [
       "<IPython.core.display.Javascript object>"
      ]
     },
     "metadata": {},
     "output_type": "display_data"
    }
   ],
   "source": [
    "my_speed = speeds[96]"
   ]
  },
  {
   "cell_type": "markdown",
   "id": "ca544c3d",
   "metadata": {},
   "source": [
    "We can use `sum` to count the number of runners at my speed or slower."
   ]
  },
  {
   "cell_type": "code",
   "execution_count": 161,
   "id": "dc321353",
   "metadata": {},
   "outputs": [
    {
     "data": {
      "text/plain": [
       "1537"
      ]
     },
     "execution_count": 161,
     "metadata": {},
     "output_type": "execute_result"
    },
    {
     "data": {
      "application/javascript": [
       "\n",
       "            setTimeout(function() {\n",
       "                var nbb_cell_id = 161;\n",
       "                var nbb_unformatted_code = \"(speeds <= my_speed).sum()\";\n",
       "                var nbb_formatted_code = \"(speeds <= my_speed).sum()\";\n",
       "                var nbb_cells = Jupyter.notebook.get_cells();\n",
       "                for (var i = 0; i < nbb_cells.length; ++i) {\n",
       "                    if (nbb_cells[i].input_prompt_number == nbb_cell_id) {\n",
       "                        if (nbb_cells[i].get_text() == nbb_unformatted_code) {\n",
       "                             nbb_cells[i].set_text(nbb_formatted_code);\n",
       "                        }\n",
       "                        break;\n",
       "                    }\n",
       "                }\n",
       "            }, 500);\n",
       "            "
      ],
      "text/plain": [
       "<IPython.core.display.Javascript object>"
      ]
     },
     "metadata": {},
     "output_type": "display_data"
    }
   ],
   "source": [
    "(speeds <= my_speed).sum()"
   ]
  },
  {
   "cell_type": "markdown",
   "id": "b8b19c0b",
   "metadata": {},
   "source": [
    "And we can use `mean` to compute the percentage of runners at my speed or slower."
   ]
  },
  {
   "cell_type": "code",
   "execution_count": 191,
   "id": "854e4f69",
   "metadata": {},
   "outputs": [
    {
     "data": {
      "text/plain": [
       "94.12124923453766"
      ]
     },
     "execution_count": 191,
     "metadata": {},
     "output_type": "execute_result"
    },
    {
     "data": {
      "application/javascript": [
       "\n",
       "            setTimeout(function() {\n",
       "                var nbb_cell_id = 191;\n",
       "                var nbb_unformatted_code = \"(speeds <= my_speed).mean() * 100\";\n",
       "                var nbb_formatted_code = \"(speeds <= my_speed).mean() * 100\";\n",
       "                var nbb_cells = Jupyter.notebook.get_cells();\n",
       "                for (var i = 0; i < nbb_cells.length; ++i) {\n",
       "                    if (nbb_cells[i].input_prompt_number == nbb_cell_id) {\n",
       "                        if (nbb_cells[i].get_text() == nbb_unformatted_code) {\n",
       "                             nbb_cells[i].set_text(nbb_formatted_code);\n",
       "                        }\n",
       "                        break;\n",
       "                    }\n",
       "                }\n",
       "            }, 500);\n",
       "            "
      ],
      "text/plain": [
       "<IPython.core.display.Javascript object>"
      ]
     },
     "metadata": {},
     "output_type": "display_data"
    }
   ],
   "source": [
    "(speeds <= my_speed).mean() * 100"
   ]
  },
  {
   "cell_type": "markdown",
   "id": "872f1011",
   "metadata": {},
   "source": [
    "The result is my percentile rank in the field, which was about 94%.\n",
    "\n",
    "More generally, the following functions computes the percentile rank of a particular value in a sequence of values."
   ]
  },
  {
   "cell_type": "code",
   "execution_count": 192,
   "id": "3341b73f",
   "metadata": {},
   "outputs": [
    {
     "data": {
      "application/javascript": [
       "\n",
       "            setTimeout(function() {\n",
       "                var nbb_cell_id = 192;\n",
       "                var nbb_unformatted_code = \"def percentile_rank(x, seq):\\n    \\\"\\\"\\\"Percentile rank of x.\\n\\n    x: value\\n    seq: sequence of values\\n\\n    returns: percentile rank 0-100\\n    \\\"\\\"\\\"\\n    return (seq <= x).mean() * 100\";\n",
       "                var nbb_formatted_code = \"def percentile_rank(x, seq):\\n    \\\"\\\"\\\"Percentile rank of x.\\n\\n    x: value\\n    seq: sequence of values\\n\\n    returns: percentile rank 0-100\\n    \\\"\\\"\\\"\\n    return (seq <= x).mean() * 100\";\n",
       "                var nbb_cells = Jupyter.notebook.get_cells();\n",
       "                for (var i = 0; i < nbb_cells.length; ++i) {\n",
       "                    if (nbb_cells[i].input_prompt_number == nbb_cell_id) {\n",
       "                        if (nbb_cells[i].get_text() == nbb_unformatted_code) {\n",
       "                             nbb_cells[i].set_text(nbb_formatted_code);\n",
       "                        }\n",
       "                        break;\n",
       "                    }\n",
       "                }\n",
       "            }, 500);\n",
       "            "
      ],
      "text/plain": [
       "<IPython.core.display.Javascript object>"
      ]
     },
     "metadata": {},
     "output_type": "display_data"
    }
   ],
   "source": [
    "def percentile_rank(x, seq):\n",
    "    \"\"\"Percentile rank of x.\n",
    "\n",
    "    x: value\n",
    "    seq: sequence of values\n",
    "\n",
    "    returns: percentile rank 0-100\n",
    "    \"\"\"\n",
    "    return (seq <= x).mean() * 100"
   ]
  },
  {
   "cell_type": "markdown",
   "id": "facb4819",
   "metadata": {},
   "source": [
    "In `results`, the `Division` column indicates the division each runner was in, identified by gender and age range -- for example, I was in the M4040 division, which includes male runners aged 40 to 49.\n",
    "We can use the `query` method to select the rows for people in my division and extract their speeds."
   ]
  },
  {
   "cell_type": "code",
   "execution_count": null,
   "id": "32633522",
   "metadata": {},
   "outputs": [],
   "source": [
    "my_division = results.query(\"Division == 'M4049'\")\n",
    "my_division_speeds = my_division[\"MPH\"].values"
   ]
  },
  {
   "cell_type": "markdown",
   "id": "c4544572",
   "metadata": {},
   "source": [
    "Now we can use `percentile_rank` to compute my percentile rank in my division."
   ]
  },
  {
   "cell_type": "code",
   "execution_count": 193,
   "id": "ad01bcfb",
   "metadata": {},
   "outputs": [
    {
     "data": {
      "text/plain": [
       "90.234375"
      ]
     },
     "execution_count": 193,
     "metadata": {},
     "output_type": "execute_result"
    },
    {
     "data": {
      "application/javascript": [
       "\n",
       "            setTimeout(function() {\n",
       "                var nbb_cell_id = 193;\n",
       "                var nbb_unformatted_code = \"my_division = results.query(\\\"Division == 'M4049'\\\")\\nmy_division_speeds = my_division[\\\"MPH\\\"].values\\n\\npercentile_rank(my_speed, my_division_speeds)\";\n",
       "                var nbb_formatted_code = \"my_division = results.query(\\\"Division == 'M4049'\\\")\\nmy_division_speeds = my_division[\\\"MPH\\\"].values\\n\\npercentile_rank(my_speed, my_division_speeds)\";\n",
       "                var nbb_cells = Jupyter.notebook.get_cells();\n",
       "                for (var i = 0; i < nbb_cells.length; ++i) {\n",
       "                    if (nbb_cells[i].input_prompt_number == nbb_cell_id) {\n",
       "                        if (nbb_cells[i].get_text() == nbb_unformatted_code) {\n",
       "                             nbb_cells[i].set_text(nbb_formatted_code);\n",
       "                        }\n",
       "                        break;\n",
       "                    }\n",
       "                }\n",
       "            }, 500);\n",
       "            "
      ],
      "text/plain": [
       "<IPython.core.display.Javascript object>"
      ]
     },
     "metadata": {},
     "output_type": "display_data"
    }
   ],
   "source": [
    "percentile_rank(my_speed, my_division_speeds)"
   ]
  },
  {
   "cell_type": "markdown",
   "id": "6c442d84",
   "metadata": {},
   "source": [
    "Going in the other direction, if we are given a percentile rank, the following function finds the corresponding value in a sequence."
   ]
  },
  {
   "cell_type": "code",
   "execution_count": 199,
   "id": "9f45b897",
   "metadata": {},
   "outputs": [
    {
     "data": {
      "application/javascript": [
       "\n",
       "            setTimeout(function() {\n",
       "                var nbb_cell_id = 199;\n",
       "                var nbb_unformatted_code = \"def percentile(p, seq):\\n    n = len(seq)\\n    i = (1 - p / 100) * (n + 1)\\n    return seq[round(i)]\";\n",
       "                var nbb_formatted_code = \"def percentile(p, seq):\\n    n = len(seq)\\n    i = (1 - p / 100) * (n + 1)\\n    return seq[round(i)]\";\n",
       "                var nbb_cells = Jupyter.notebook.get_cells();\n",
       "                for (var i = 0; i < nbb_cells.length; ++i) {\n",
       "                    if (nbb_cells[i].input_prompt_number == nbb_cell_id) {\n",
       "                        if (nbb_cells[i].get_text() == nbb_unformatted_code) {\n",
       "                             nbb_cells[i].set_text(nbb_formatted_code);\n",
       "                        }\n",
       "                        break;\n",
       "                    }\n",
       "                }\n",
       "            }, 500);\n",
       "            "
      ],
      "text/plain": [
       "<IPython.core.display.Javascript object>"
      ]
     },
     "metadata": {},
     "output_type": "display_data"
    }
   ],
   "source": [
    "def percentile(p, seq):\n",
    "    n = len(seq)\n",
    "    i = (1 - p / 100) * (n + 1)\n",
    "    return seq[round(i)]"
   ]
  },
  {
   "cell_type": "markdown",
   "id": "b5a14555",
   "metadata": {},
   "source": [
    "`n` is the number of elements in the sequence; `i` is the index of the element with the given percentile rank.\n",
    "\n",
    "When we look up a percentile rank, the corresponding value is called a **percentile**."
   ]
  },
  {
   "cell_type": "code",
   "execution_count": 222,
   "id": "85c1454f",
   "metadata": {},
   "outputs": [
    {
     "data": {
      "text/plain": [
       "8.591885441527447"
      ]
     },
     "execution_count": 222,
     "metadata": {},
     "output_type": "execute_result"
    },
    {
     "data": {
      "application/javascript": [
       "\n",
       "            setTimeout(function() {\n",
       "                var nbb_cell_id = 222;\n",
       "                var nbb_unformatted_code = \"percentile(90, my_division_speeds)\";\n",
       "                var nbb_formatted_code = \"percentile(90, my_division_speeds)\";\n",
       "                var nbb_cells = Jupyter.notebook.get_cells();\n",
       "                for (var i = 0; i < nbb_cells.length; ++i) {\n",
       "                    if (nbb_cells[i].input_prompt_number == nbb_cell_id) {\n",
       "                        if (nbb_cells[i].get_text() == nbb_unformatted_code) {\n",
       "                             nbb_cells[i].set_text(nbb_formatted_code);\n",
       "                        }\n",
       "                        break;\n",
       "                    }\n",
       "                }\n",
       "            }, 500);\n",
       "            "
      ],
      "text/plain": [
       "<IPython.core.display.Javascript object>"
      ]
     },
     "metadata": {},
     "output_type": "display_data"
    }
   ],
   "source": [
    "percentile(90, my_division_speeds)"
   ]
  },
  {
   "cell_type": "markdown",
   "id": "205368e8",
   "metadata": {},
   "source": [
    "In my division, the 90th percentile was about 8.5 mph.\n",
    "\n",
    "If I am still running in 10 years (and I hope I am), I will be in the `M5059` division.\n",
    "[NOTE FOR THE THIRD EDITION: I am.]\n",
    "Assuming that my percentile rank in my division is the same, how much slower should I expect to be?\n",
    "We can answer that question by converting my percentile rank in the `M4049` division, which is about 90.2%, to a speed in the `M5059` division."
   ]
  },
  {
   "cell_type": "code",
   "execution_count": 201,
   "id": "53712a8d",
   "metadata": {},
   "outputs": [
    {
     "data": {
      "text/plain": [
       "8.017817371937639"
      ]
     },
     "execution_count": 201,
     "metadata": {},
     "output_type": "execute_result"
    },
    {
     "data": {
      "application/javascript": [
       "\n",
       "            setTimeout(function() {\n",
       "                var nbb_cell_id = 201;\n",
       "                var nbb_unformatted_code = \"next_division = results.query(\\\"Division == 'M5059'\\\")\\nnext_division_speeds = next_division[\\\"MPH\\\"].values\\n\\npercentile(90.2, next_division_speeds)\";\n",
       "                var nbb_formatted_code = \"next_division = results.query(\\\"Division == 'M5059'\\\")\\nnext_division_speeds = next_division[\\\"MPH\\\"].values\\n\\npercentile(90.2, next_division_speeds)\";\n",
       "                var nbb_cells = Jupyter.notebook.get_cells();\n",
       "                for (var i = 0; i < nbb_cells.length; ++i) {\n",
       "                    if (nbb_cells[i].input_prompt_number == nbb_cell_id) {\n",
       "                        if (nbb_cells[i].get_text() == nbb_unformatted_code) {\n",
       "                             nbb_cells[i].set_text(nbb_formatted_code);\n",
       "                        }\n",
       "                        break;\n",
       "                    }\n",
       "                }\n",
       "            }, 500);\n",
       "            "
      ],
      "text/plain": [
       "<IPython.core.display.Javascript object>"
      ]
     },
     "metadata": {},
     "output_type": "display_data"
    }
   ],
   "source": [
    "next_division = results.query(\"Division == 'M5059'\")\n",
    "next_division_speeds = next_division[\"MPH\"].values\n",
    "\n",
    "percentile(90.2, next_division_speeds)"
   ]
  },
  {
   "cell_type": "markdown",
   "id": "f7568f74",
   "metadata": {},
   "source": [
    "The person in the `M5059` division with the same percentile rank as me ran just over 8 mph.\n",
    "We can use `query` to find him."
   ]
  },
  {
   "cell_type": "code",
   "execution_count": 198,
   "id": "d8ca85d6",
   "metadata": {},
   "outputs": [
    {
     "data": {
      "text/html": [
       "<div>\n",
       "<style scoped>\n",
       "    .dataframe tbody tr th:only-of-type {\n",
       "        vertical-align: middle;\n",
       "    }\n",
       "\n",
       "    .dataframe tbody tr th {\n",
       "        vertical-align: top;\n",
       "    }\n",
       "\n",
       "    .dataframe thead th {\n",
       "        text-align: right;\n",
       "    }\n",
       "</style>\n",
       "<table border=\"1\" class=\"dataframe\">\n",
       "  <thead>\n",
       "    <tr style=\"text-align: right;\">\n",
       "      <th></th>\n",
       "      <th>Place</th>\n",
       "      <th>Div/Tot</th>\n",
       "      <th>Division</th>\n",
       "      <th>Guntime</th>\n",
       "      <th>Nettime</th>\n",
       "      <th>Min/Mile</th>\n",
       "      <th>MPH</th>\n",
       "    </tr>\n",
       "  </thead>\n",
       "  <tbody>\n",
       "    <tr>\n",
       "      <th>222</th>\n",
       "      <td>223</td>\n",
       "      <td>18/171</td>\n",
       "      <td>M5059</td>\n",
       "      <td>46:30</td>\n",
       "      <td>46:25</td>\n",
       "      <td>7:29</td>\n",
       "      <td>8.017817</td>\n",
       "    </tr>\n",
       "  </tbody>\n",
       "</table>\n",
       "</div>"
      ],
      "text/plain": [
       "     Place Div/Tot Division Guntime Nettime Min/Mile       MPH\n",
       "222    223  18/171    M5059   46:30   46:25     7:29  8.017817"
      ]
     },
     "execution_count": 198,
     "metadata": {},
     "output_type": "execute_result"
    },
    {
     "data": {
      "application/javascript": [
       "\n",
       "            setTimeout(function() {\n",
       "                var nbb_cell_id = 198;\n",
       "                var nbb_unformatted_code = \"next_division.query(\\\"MPH > 8.01\\\").tail(1)\";\n",
       "                var nbb_formatted_code = \"next_division.query(\\\"MPH > 8.01\\\").tail(1)\";\n",
       "                var nbb_cells = Jupyter.notebook.get_cells();\n",
       "                for (var i = 0; i < nbb_cells.length; ++i) {\n",
       "                    if (nbb_cells[i].input_prompt_number == nbb_cell_id) {\n",
       "                        if (nbb_cells[i].get_text() == nbb_unformatted_code) {\n",
       "                             nbb_cells[i].set_text(nbb_formatted_code);\n",
       "                        }\n",
       "                        break;\n",
       "                    }\n",
       "                }\n",
       "            }, 500);\n",
       "            "
      ],
      "text/plain": [
       "<IPython.core.display.Javascript object>"
      ]
     },
     "metadata": {},
     "output_type": "display_data"
    }
   ],
   "source": [
    "next_division.query(\"MPH > 8.01\").tail(1)"
   ]
  },
  {
   "cell_type": "markdown",
   "id": "8296a0a9",
   "metadata": {},
   "source": [
    "He finished in 46:25 and came in 18th out of 171 people in his division.\n",
    "\n",
    "The goal of these examples is to introduce percentile ranks and percentiles, which are the key to understanding cumulative distribution functions."
   ]
  },
  {
   "cell_type": "markdown",
   "id": "243f1bc9",
   "metadata": {},
   "source": [
    "## CDFs\n",
    "\n",
    "A **cumulative distribution function**, or CDF, is a way to describe the distribution of a set of values.\n",
    "Given a value `x`, the CDF computes the fraction of values less than or equal to `x`.\n",
    "As an example, we'll start with a short sequence."
   ]
  },
  {
   "cell_type": "code",
   "execution_count": 202,
   "id": "a092f3ac",
   "metadata": {},
   "outputs": [
    {
     "data": {
      "application/javascript": [
       "\n",
       "            setTimeout(function() {\n",
       "                var nbb_cell_id = 202;\n",
       "                var nbb_unformatted_code = \"t = [1, 2, 2, 3, 5]\";\n",
       "                var nbb_formatted_code = \"t = [1, 2, 2, 3, 5]\";\n",
       "                var nbb_cells = Jupyter.notebook.get_cells();\n",
       "                for (var i = 0; i < nbb_cells.length; ++i) {\n",
       "                    if (nbb_cells[i].input_prompt_number == nbb_cell_id) {\n",
       "                        if (nbb_cells[i].get_text() == nbb_unformatted_code) {\n",
       "                             nbb_cells[i].set_text(nbb_formatted_code);\n",
       "                        }\n",
       "                        break;\n",
       "                    }\n",
       "                }\n",
       "            }, 500);\n",
       "            "
      ],
      "text/plain": [
       "<IPython.core.display.Javascript object>"
      ]
     },
     "metadata": {},
     "output_type": "display_data"
    }
   ],
   "source": [
    "t = [1, 2, 2, 3, 5]"
   ]
  },
  {
   "cell_type": "markdown",
   "id": "d38c77c5",
   "metadata": {},
   "source": [
    "One way to compute a CDF is to start with a PMF.\n",
    "Here is a `Pmf` object that represents the distribution of values in `t`."
   ]
  },
  {
   "cell_type": "code",
   "execution_count": 228,
   "id": "fd9f1139",
   "metadata": {},
   "outputs": [
    {
     "data": {
      "text/html": [
       "<div>\n",
       "<style scoped>\n",
       "    .dataframe tbody tr th:only-of-type {\n",
       "        vertical-align: middle;\n",
       "    }\n",
       "\n",
       "    .dataframe tbody tr th {\n",
       "        vertical-align: top;\n",
       "    }\n",
       "\n",
       "    .dataframe thead th {\n",
       "        text-align: right;\n",
       "    }\n",
       "</style>\n",
       "<table border=\"1\" class=\"dataframe\">\n",
       "  <thead>\n",
       "    <tr style=\"text-align: right;\">\n",
       "      <th></th>\n",
       "      <th>probs</th>\n",
       "    </tr>\n",
       "  </thead>\n",
       "  <tbody>\n",
       "    <tr>\n",
       "      <th>1</th>\n",
       "      <td>0.2</td>\n",
       "    </tr>\n",
       "    <tr>\n",
       "      <th>2</th>\n",
       "      <td>0.4</td>\n",
       "    </tr>\n",
       "    <tr>\n",
       "      <th>3</th>\n",
       "      <td>0.2</td>\n",
       "    </tr>\n",
       "    <tr>\n",
       "      <th>5</th>\n",
       "      <td>0.2</td>\n",
       "    </tr>\n",
       "  </tbody>\n",
       "</table>\n",
       "</div>"
      ],
      "text/plain": [
       "1    0.2\n",
       "2    0.4\n",
       "3    0.2\n",
       "5    0.2\n",
       "Name: , dtype: float64"
      ]
     },
     "execution_count": 228,
     "metadata": {},
     "output_type": "execute_result"
    },
    {
     "data": {
      "application/javascript": [
       "\n",
       "            setTimeout(function() {\n",
       "                var nbb_cell_id = 228;\n",
       "                var nbb_unformatted_code = \"from empiricaldist import Pmf\\n\\npmf = Pmf.from_seq(t)\\npmf\";\n",
       "                var nbb_formatted_code = \"from empiricaldist import Pmf\\n\\npmf = Pmf.from_seq(t)\\npmf\";\n",
       "                var nbb_cells = Jupyter.notebook.get_cells();\n",
       "                for (var i = 0; i < nbb_cells.length; ++i) {\n",
       "                    if (nbb_cells[i].input_prompt_number == nbb_cell_id) {\n",
       "                        if (nbb_cells[i].get_text() == nbb_unformatted_code) {\n",
       "                             nbb_cells[i].set_text(nbb_formatted_code);\n",
       "                        }\n",
       "                        break;\n",
       "                    }\n",
       "                }\n",
       "            }, 500);\n",
       "            "
      ],
      "text/plain": [
       "<IPython.core.display.Javascript object>"
      ]
     },
     "metadata": {},
     "output_type": "display_data"
    }
   ],
   "source": [
    "from empiricaldist import Pmf\n",
    "\n",
    "pmf = Pmf.from_seq(t)\n",
    "pmf"
   ]
  },
  {
   "cell_type": "markdown",
   "id": "5e3d4d35",
   "metadata": {},
   "source": [
    "We can use the bracket operator to look up a value in a `Pmf`."
   ]
  },
  {
   "cell_type": "code",
   "execution_count": 230,
   "id": "69a98cf6",
   "metadata": {},
   "outputs": [
    {
     "data": {
      "text/plain": [
       "0.4"
      ]
     },
     "execution_count": 230,
     "metadata": {},
     "output_type": "execute_result"
    },
    {
     "data": {
      "application/javascript": [
       "\n",
       "            setTimeout(function() {\n",
       "                var nbb_cell_id = 230;\n",
       "                var nbb_unformatted_code = \"pmf[2]\";\n",
       "                var nbb_formatted_code = \"pmf[2]\";\n",
       "                var nbb_cells = Jupyter.notebook.get_cells();\n",
       "                for (var i = 0; i < nbb_cells.length; ++i) {\n",
       "                    if (nbb_cells[i].input_prompt_number == nbb_cell_id) {\n",
       "                        if (nbb_cells[i].get_text() == nbb_unformatted_code) {\n",
       "                             nbb_cells[i].set_text(nbb_formatted_code);\n",
       "                        }\n",
       "                        break;\n",
       "                    }\n",
       "                }\n",
       "            }, 500);\n",
       "            "
      ],
      "text/plain": [
       "<IPython.core.display.Javascript object>"
      ]
     },
     "metadata": {},
     "output_type": "display_data"
    }
   ],
   "source": [
    "pmf[2]"
   ]
  },
  {
   "cell_type": "markdown",
   "id": "d66c3383",
   "metadata": {},
   "source": [
    "The result is the proportion of values in the sequence equal to the given value.\n",
    "In this example, two out of five values are equal to `2`, so the result is 0.4, which is two fifths.\n",
    "We can also think of this proportion as the probability that a randomly chosen value from the sequence equals `2`.\n",
    "\n",
    "`Pmf` has a `make_cdf` method that computes the cumulative sum of the probabilities in the `Pmf`."
   ]
  },
  {
   "cell_type": "code",
   "execution_count": 233,
   "id": "0d211f25",
   "metadata": {},
   "outputs": [
    {
     "data": {
      "text/html": [
       "<div>\n",
       "<style scoped>\n",
       "    .dataframe tbody tr th:only-of-type {\n",
       "        vertical-align: middle;\n",
       "    }\n",
       "\n",
       "    .dataframe tbody tr th {\n",
       "        vertical-align: top;\n",
       "    }\n",
       "\n",
       "    .dataframe thead th {\n",
       "        text-align: right;\n",
       "    }\n",
       "</style>\n",
       "<table border=\"1\" class=\"dataframe\">\n",
       "  <thead>\n",
       "    <tr style=\"text-align: right;\">\n",
       "      <th></th>\n",
       "      <th>probs</th>\n",
       "    </tr>\n",
       "  </thead>\n",
       "  <tbody>\n",
       "    <tr>\n",
       "      <th>1</th>\n",
       "      <td>0.2</td>\n",
       "    </tr>\n",
       "    <tr>\n",
       "      <th>2</th>\n",
       "      <td>0.6</td>\n",
       "    </tr>\n",
       "    <tr>\n",
       "      <th>3</th>\n",
       "      <td>0.8</td>\n",
       "    </tr>\n",
       "    <tr>\n",
       "      <th>5</th>\n",
       "      <td>1.0</td>\n",
       "    </tr>\n",
       "  </tbody>\n",
       "</table>\n",
       "</div>"
      ],
      "text/plain": [
       "1    0.2\n",
       "2    0.6\n",
       "3    0.8\n",
       "5    1.0\n",
       "Name: , dtype: float64"
      ]
     },
     "execution_count": 233,
     "metadata": {},
     "output_type": "execute_result"
    },
    {
     "data": {
      "application/javascript": [
       "\n",
       "            setTimeout(function() {\n",
       "                var nbb_cell_id = 233;\n",
       "                var nbb_unformatted_code = \"cdf = pmf.make_cdf()\\ncdf\";\n",
       "                var nbb_formatted_code = \"cdf = pmf.make_cdf()\\ncdf\";\n",
       "                var nbb_cells = Jupyter.notebook.get_cells();\n",
       "                for (var i = 0; i < nbb_cells.length; ++i) {\n",
       "                    if (nbb_cells[i].input_prompt_number == nbb_cell_id) {\n",
       "                        if (nbb_cells[i].get_text() == nbb_unformatted_code) {\n",
       "                             nbb_cells[i].set_text(nbb_formatted_code);\n",
       "                        }\n",
       "                        break;\n",
       "                    }\n",
       "                }\n",
       "            }, 500);\n",
       "            "
      ],
      "text/plain": [
       "<IPython.core.display.Javascript object>"
      ]
     },
     "metadata": {},
     "output_type": "display_data"
    }
   ],
   "source": [
    "cdf = pmf.make_cdf()\n",
    "cdf"
   ]
  },
  {
   "cell_type": "markdown",
   "id": "930f1764",
   "metadata": {},
   "source": [
    "The result is a `Cdf` object, which is a kind of Pandas `Series`.\n",
    "We can use the bracket operator to look up a value."
   ]
  },
  {
   "cell_type": "code",
   "execution_count": 231,
   "id": "0040ec4c",
   "metadata": {},
   "outputs": [
    {
     "data": {
      "text/plain": [
       "0.6000000000000001"
      ]
     },
     "execution_count": 231,
     "metadata": {},
     "output_type": "execute_result"
    },
    {
     "data": {
      "application/javascript": [
       "\n",
       "            setTimeout(function() {\n",
       "                var nbb_cell_id = 231;\n",
       "                var nbb_unformatted_code = \"cdf[2]\";\n",
       "                var nbb_formatted_code = \"cdf[2]\";\n",
       "                var nbb_cells = Jupyter.notebook.get_cells();\n",
       "                for (var i = 0; i < nbb_cells.length; ++i) {\n",
       "                    if (nbb_cells[i].input_prompt_number == nbb_cell_id) {\n",
       "                        if (nbb_cells[i].get_text() == nbb_unformatted_code) {\n",
       "                             nbb_cells[i].set_text(nbb_formatted_code);\n",
       "                        }\n",
       "                        break;\n",
       "                    }\n",
       "                }\n",
       "            }, 500);\n",
       "            "
      ],
      "text/plain": [
       "<IPython.core.display.Javascript object>"
      ]
     },
     "metadata": {},
     "output_type": "display_data"
    }
   ],
   "source": [
    "cdf[2]"
   ]
  },
  {
   "cell_type": "markdown",
   "id": "33994391",
   "metadata": {},
   "source": [
    "The result is the proportion of values in the sequence less than or equal to the given value. In this example, three out of five of the values in the sequence are less than or equal to `2`, so the result is 0.6, which is three fifths.\n",
    "We can also think of this proportion as the probability that a randomly chosen value from the sequence is less than or equal to `2`.\n",
    "\n",
    "We can also use parentheses to call the `Cdf` object like a function."
   ]
  },
  {
   "cell_type": "code",
   "execution_count": 206,
   "id": "047f5500",
   "metadata": {},
   "outputs": [
    {
     "data": {
      "text/plain": [
       "array(0.8)"
      ]
     },
     "execution_count": 206,
     "metadata": {},
     "output_type": "execute_result"
    },
    {
     "data": {
      "application/javascript": [
       "\n",
       "            setTimeout(function() {\n",
       "                var nbb_cell_id = 206;\n",
       "                var nbb_unformatted_code = \"cdf(3)\";\n",
       "                var nbb_formatted_code = \"cdf(3)\";\n",
       "                var nbb_cells = Jupyter.notebook.get_cells();\n",
       "                for (var i = 0; i < nbb_cells.length; ++i) {\n",
       "                    if (nbb_cells[i].input_prompt_number == nbb_cell_id) {\n",
       "                        if (nbb_cells[i].get_text() == nbb_unformatted_code) {\n",
       "                             nbb_cells[i].set_text(nbb_formatted_code);\n",
       "                        }\n",
       "                        break;\n",
       "                    }\n",
       "                }\n",
       "            }, 500);\n",
       "            "
      ],
      "text/plain": [
       "<IPython.core.display.Javascript object>"
      ]
     },
     "metadata": {},
     "output_type": "display_data"
    }
   ],
   "source": [
    "cdf(3)"
   ]
  },
  {
   "cell_type": "markdown",
   "id": "07cfb95f",
   "metadata": {},
   "source": [
    "The cumulative distribution function is defined for all numbers, not just the ones that appear in the sequence."
   ]
  },
  {
   "cell_type": "code",
   "execution_count": 207,
   "id": "678d627d",
   "metadata": {},
   "outputs": [
    {
     "data": {
      "text/plain": [
       "array(0.8)"
      ]
     },
     "execution_count": 207,
     "metadata": {},
     "output_type": "execute_result"
    },
    {
     "data": {
      "application/javascript": [
       "\n",
       "            setTimeout(function() {\n",
       "                var nbb_cell_id = 207;\n",
       "                var nbb_unformatted_code = \"cdf(4)\";\n",
       "                var nbb_formatted_code = \"cdf(4)\";\n",
       "                var nbb_cells = Jupyter.notebook.get_cells();\n",
       "                for (var i = 0; i < nbb_cells.length; ++i) {\n",
       "                    if (nbb_cells[i].input_prompt_number == nbb_cell_id) {\n",
       "                        if (nbb_cells[i].get_text() == nbb_unformatted_code) {\n",
       "                             nbb_cells[i].set_text(nbb_formatted_code);\n",
       "                        }\n",
       "                        break;\n",
       "                    }\n",
       "                }\n",
       "            }, 500);\n",
       "            "
      ],
      "text/plain": [
       "<IPython.core.display.Javascript object>"
      ]
     },
     "metadata": {},
     "output_type": "display_data"
    }
   ],
   "source": [
    "cdf(4)"
   ]
  },
  {
   "cell_type": "markdown",
   "id": "5655c54c",
   "metadata": {},
   "source": [
    "To visualize the `Cdf`, we can use the `step` method, which plots the `Cdf` as a step function."
   ]
  },
  {
   "cell_type": "code",
   "execution_count": 211,
   "id": "a7bcf6ac",
   "metadata": {},
   "outputs": [
    {
     "data": {
      "image/png": "[encoded data removed]",
      "text/plain": [
       "<Figure size 640x480 with 1 Axes>"
      ]
     },
     "metadata": {},
     "output_type": "display_data"
    },
    {
     "data": {
      "application/javascript": [
       "\n",
       "            setTimeout(function() {\n",
       "                var nbb_cell_id = 211;\n",
       "                var nbb_unformatted_code = \"cdf.step()\\ndecorate(xlabel=\\\"x\\\", ylabel=\\\"CDF\\\")\";\n",
       "                var nbb_formatted_code = \"cdf.step()\\ndecorate(xlabel=\\\"x\\\", ylabel=\\\"CDF\\\")\";\n",
       "                var nbb_cells = Jupyter.notebook.get_cells();\n",
       "                for (var i = 0; i < nbb_cells.length; ++i) {\n",
       "                    if (nbb_cells[i].input_prompt_number == nbb_cell_id) {\n",
       "                        if (nbb_cells[i].get_text() == nbb_unformatted_code) {\n",
       "                             nbb_cells[i].set_text(nbb_formatted_code);\n",
       "                        }\n",
       "                        break;\n",
       "                    }\n",
       "                }\n",
       "            }, 500);\n",
       "            "
      ],
      "text/plain": [
       "<IPython.core.display.Javascript object>"
      ]
     },
     "metadata": {},
     "output_type": "display_data"
    }
   ],
   "source": [
    "cdf.step()\n",
    "decorate(xlabel=\"x\", ylabel=\"CDF\")"
   ]
  },
  {
   "cell_type": "markdown",
   "id": "7c3e26c6",
   "metadata": {},
   "source": [
    "As a second example, let's make a `Cdf` that represents the distribution of running speeds from the previous section.\n",
    "The `Cdf` class that provides a `from_seq` function we can use to create a `Cdf` object from a sequence, without making a `Pmf` first."
   ]
  },
  {
   "cell_type": "code",
   "execution_count": 212,
   "id": "aca0071e",
   "metadata": {},
   "outputs": [
    {
     "data": {
      "application/javascript": [
       "\n",
       "            setTimeout(function() {\n",
       "                var nbb_cell_id = 212;\n",
       "                var nbb_unformatted_code = \"cdf_speeds = Cdf.from_seq(speeds)\";\n",
       "                var nbb_formatted_code = \"cdf_speeds = Cdf.from_seq(speeds)\";\n",
       "                var nbb_cells = Jupyter.notebook.get_cells();\n",
       "                for (var i = 0; i < nbb_cells.length; ++i) {\n",
       "                    if (nbb_cells[i].input_prompt_number == nbb_cell_id) {\n",
       "                        if (nbb_cells[i].get_text() == nbb_unformatted_code) {\n",
       "                             nbb_cells[i].set_text(nbb_formatted_code);\n",
       "                        }\n",
       "                        break;\n",
       "                    }\n",
       "                }\n",
       "            }, 500);\n",
       "            "
      ],
      "text/plain": [
       "<IPython.core.display.Javascript object>"
      ]
     },
     "metadata": {},
     "output_type": "display_data"
    }
   ],
   "source": [
    "cdf_speeds = Cdf.from_seq(speeds)"
   ]
  },
  {
   "cell_type": "markdown",
   "id": "8e26481d",
   "metadata": {},
   "source": [
    "And here's what it looks like."
   ]
  },
  {
   "cell_type": "code",
   "execution_count": 213,
   "id": "b647b551",
   "metadata": {},
   "outputs": [
    {
     "data": {
      "image/png": "[encoded data removed]",
      "text/plain": [
       "<Figure size 640x480 with 1 Axes>"
      ]
     },
     "metadata": {},
     "output_type": "display_data"
    },
    {
     "data": {
      "application/javascript": [
       "\n",
       "            setTimeout(function() {\n",
       "                var nbb_cell_id = 213;\n",
       "                var nbb_unformatted_code = \"cdf_speeds.step()\\ndecorate(xlabel=\\\"Speed (mph)\\\", ylabel=\\\"CDF\\\")\";\n",
       "                var nbb_formatted_code = \"cdf_speeds.step()\\ndecorate(xlabel=\\\"Speed (mph)\\\", ylabel=\\\"CDF\\\")\";\n",
       "                var nbb_cells = Jupyter.notebook.get_cells();\n",
       "                for (var i = 0; i < nbb_cells.length; ++i) {\n",
       "                    if (nbb_cells[i].input_prompt_number == nbb_cell_id) {\n",
       "                        if (nbb_cells[i].get_text() == nbb_unformatted_code) {\n",
       "                             nbb_cells[i].set_text(nbb_formatted_code);\n",
       "                        }\n",
       "                        break;\n",
       "                    }\n",
       "                }\n",
       "            }, 500);\n",
       "            "
      ],
      "text/plain": [
       "<IPython.core.display.Javascript object>"
      ]
     },
     "metadata": {},
     "output_type": "display_data"
    }
   ],
   "source": [
    "cdf_speeds.step()\n",
    "decorate(xlabel=\"Speed (mph)\", ylabel=\"CDF\")"
   ]
  },
  {
   "cell_type": "markdown",
   "id": "99c45793",
   "metadata": {},
   "source": [
    "If we look up my speed, the result is the fraction of runners at my speed or slower.\n",
    "If we multiply by 100, we get my percentile rank."
   ]
  },
  {
   "cell_type": "code",
   "execution_count": 220,
   "id": "356e4321",
   "metadata": {},
   "outputs": [
    {
     "data": {
      "text/plain": [
       "94.12124923453766"
      ]
     },
     "execution_count": 220,
     "metadata": {},
     "output_type": "execute_result"
    },
    {
     "data": {
      "application/javascript": [
       "\n",
       "            setTimeout(function() {\n",
       "                var nbb_cell_id = 220;\n",
       "                var nbb_unformatted_code = \"cdf_speeds(my_speed) * 100\";\n",
       "                var nbb_formatted_code = \"cdf_speeds(my_speed) * 100\";\n",
       "                var nbb_cells = Jupyter.notebook.get_cells();\n",
       "                for (var i = 0; i < nbb_cells.length; ++i) {\n",
       "                    if (nbb_cells[i].input_prompt_number == nbb_cell_id) {\n",
       "                        if (nbb_cells[i].get_text() == nbb_unformatted_code) {\n",
       "                             nbb_cells[i].set_text(nbb_formatted_code);\n",
       "                        }\n",
       "                        break;\n",
       "                    }\n",
       "                }\n",
       "            }, 500);\n",
       "            "
      ],
      "text/plain": [
       "<IPython.core.display.Javascript object>"
      ]
     },
     "metadata": {},
     "output_type": "display_data"
    }
   ],
   "source": [
    "cdf_speeds(my_speed) * 100"
   ]
  },
  {
   "cell_type": "markdown",
   "id": "a7b291b0",
   "metadata": {},
   "source": [
    "So that's one way to think about the `Cdf` -- given a value, it computes something like a percentile rank, except that it's a proportion between 0 and 1 rather than a percentage between 0 and 100.\n",
    "\n",
    "`Cdf` provides an `inverse` method that computes the inverse of the cumulative distribution function -- given a proportion between 0 and 1, it finds the corresponding value.\n",
    "\n",
    "For example, if someone says they ran as fast or faster than 50% of the field, we can find their speed like this."
   ]
  },
  {
   "cell_type": "code",
   "execution_count": 221,
   "id": "1b78eb6a",
   "metadata": {},
   "outputs": [
    {
     "data": {
      "text/plain": [
       "array(6.70391061)"
      ]
     },
     "execution_count": 221,
     "metadata": {},
     "output_type": "execute_result"
    },
    {
     "data": {
      "application/javascript": [
       "\n",
       "            setTimeout(function() {\n",
       "                var nbb_cell_id = 221;\n",
       "                var nbb_unformatted_code = \"cdf_speeds.inverse(0.5)\";\n",
       "                var nbb_formatted_code = \"cdf_speeds.inverse(0.5)\";\n",
       "                var nbb_cells = Jupyter.notebook.get_cells();\n",
       "                for (var i = 0; i < nbb_cells.length; ++i) {\n",
       "                    if (nbb_cells[i].input_prompt_number == nbb_cell_id) {\n",
       "                        if (nbb_cells[i].get_text() == nbb_unformatted_code) {\n",
       "                             nbb_cells[i].set_text(nbb_formatted_code);\n",
       "                        }\n",
       "                        break;\n",
       "                    }\n",
       "                }\n",
       "            }, 500);\n",
       "            "
      ],
      "text/plain": [
       "<IPython.core.display.Javascript object>"
      ]
     },
     "metadata": {},
     "output_type": "display_data"
    }
   ],
   "source": [
    "cdf_speeds.inverse(0.5)"
   ]
  },
  {
   "cell_type": "markdown",
   "id": "98533954",
   "metadata": {},
   "source": [
    "If you have a proportion and you use the inverse CDF to find the corresponding value, the result is called a **quantile** -- so the inverse CDF is sometimes called the quantile function.\n",
    "\n",
    "If have have a quantile and you use the CDF to find the corresponding proportion, the result doesn't really have a name, strangely.\n",
    "To be consistent with percentile and percentile rank\", it could be called a \"quantile rank\", but as far as I can tell, no one calls it that.\n",
    "Most often, it is called a **cumulative probability**."
   ]
  },
  {
   "cell_type": "markdown",
   "id": "3bed54d9",
   "metadata": {},
   "source": [
    "## Comparing CDFs\n",
    "\n",
    "CDFs are especially useful for comparing distributions.\n",
    "As an example, let's compare the distribution of birth weights for first babies and others.\n",
    "We'll load the NSFG dataset again, and divide it into three `DataFrames`: all live births, first babies, and others."
   ]
  },
  {
   "cell_type": "code",
   "execution_count": 234,
   "id": "d2dfe8e8",
   "metadata": {},
   "outputs": [
    {
     "data": {
      "application/javascript": [
       "\n",
       "            setTimeout(function() {\n",
       "                var nbb_cell_id = 234;\n",
       "                var nbb_unformatted_code = \"download(\\\"https://github.com/AllenDowney/ThinkStats/raw/v3/nb/nsfg.py\\\")\\ndownload(\\\"https://github.com/AllenDowney/ThinkStats/raw/v3/data/2002FemPreg.dct\\\")\\ndownload(\\\"https://github.com/AllenDowney/ThinkStats/raw/v3/data/2002FemPreg.dat.gz\\\")\";\n",
       "                var nbb_formatted_code = \"download(\\\"https://github.com/AllenDowney/ThinkStats/raw/v3/nb/nsfg.py\\\")\\ndownload(\\\"https://github.com/AllenDowney/ThinkStats/raw/v3/data/2002FemPreg.dct\\\")\\ndownload(\\\"https://github.com/AllenDowney/ThinkStats/raw/v3/data/2002FemPreg.dat.gz\\\")\";\n",
       "                var nbb_cells = Jupyter.notebook.get_cells();\n",
       "                for (var i = 0; i < nbb_cells.length; ++i) {\n",
       "                    if (nbb_cells[i].input_prompt_number == nbb_cell_id) {\n",
       "                        if (nbb_cells[i].get_text() == nbb_unformatted_code) {\n",
       "                             nbb_cells[i].set_text(nbb_formatted_code);\n",
       "                        }\n",
       "                        break;\n",
       "                    }\n",
       "                }\n",
       "            }, 500);\n",
       "            "
      ],
      "text/plain": [
       "<IPython.core.display.Javascript object>"
      ]
     },
     "metadata": {},
     "output_type": "display_data"
    }
   ],
   "source": [
    "download(\"https://github.com/AllenDowney/ThinkStats/raw/v3/nb/nsfg.py\")\n",
    "download(\"https://github.com/AllenDowney/ThinkStats/raw/v3/data/2002FemPreg.dct\")\n",
    "download(\"https://github.com/AllenDowney/ThinkStats/raw/v3/data/2002FemPreg.dat.gz\")"
   ]
  },
  {
   "cell_type": "code",
   "execution_count": 235,
   "id": "7edf9827",
   "metadata": {},
   "outputs": [
    {
     "data": {
      "application/javascript": [
       "\n",
       "            setTimeout(function() {\n",
       "                var nbb_cell_id = 235;\n",
       "                var nbb_unformatted_code = \"from nsfg import get_nsfg_groups\\n\\nlive, firsts, others = get_nsfg_groups()\";\n",
       "                var nbb_formatted_code = \"from nsfg import get_nsfg_groups\\n\\nlive, firsts, others = get_nsfg_groups()\";\n",
       "                var nbb_cells = Jupyter.notebook.get_cells();\n",
       "                for (var i = 0; i < nbb_cells.length; ++i) {\n",
       "                    if (nbb_cells[i].input_prompt_number == nbb_cell_id) {\n",
       "                        if (nbb_cells[i].get_text() == nbb_unformatted_code) {\n",
       "                             nbb_cells[i].set_text(nbb_formatted_code);\n",
       "                        }\n",
       "                        break;\n",
       "                    }\n",
       "                }\n",
       "            }, 500);\n",
       "            "
      ],
      "text/plain": [
       "<IPython.core.display.Javascript object>"
      ]
     },
     "metadata": {},
     "output_type": "display_data"
    }
   ],
   "source": [
    "from nsfg import get_nsfg_groups\n",
    "\n",
    "live, firsts, others = get_nsfg_groups()"
   ]
  },
  {
   "cell_type": "markdown",
   "id": "70c1e6ec",
   "metadata": {},
   "source": [
    "From `firsts` and `others` we'll select total birth weights in pounds, using `dropna` to remove values that are `nan`."
   ]
  },
  {
   "cell_type": "code",
   "execution_count": 259,
   "id": "71dcbc39",
   "metadata": {},
   "outputs": [
    {
     "data": {
      "text/plain": [
       "7.201094430437772"
      ]
     },
     "execution_count": 259,
     "metadata": {},
     "output_type": "execute_result"
    },
    {
     "data": {
      "application/javascript": [
       "\n",
       "            setTimeout(function() {\n",
       "                var nbb_cell_id = 259;\n",
       "                var nbb_unformatted_code = \"first_weights = firsts[\\\"totalwgt_lb\\\"].dropna()\\nfirst_weights.mean()\";\n",
       "                var nbb_formatted_code = \"first_weights = firsts[\\\"totalwgt_lb\\\"].dropna()\\nfirst_weights.mean()\";\n",
       "                var nbb_cells = Jupyter.notebook.get_cells();\n",
       "                for (var i = 0; i < nbb_cells.length; ++i) {\n",
       "                    if (nbb_cells[i].input_prompt_number == nbb_cell_id) {\n",
       "                        if (nbb_cells[i].get_text() == nbb_unformatted_code) {\n",
       "                             nbb_cells[i].set_text(nbb_formatted_code);\n",
       "                        }\n",
       "                        break;\n",
       "                    }\n",
       "                }\n",
       "            }, 500);\n",
       "            "
      ],
      "text/plain": [
       "<IPython.core.display.Javascript object>"
      ]
     },
     "metadata": {},
     "output_type": "display_data"
    }
   ],
   "source": [
    "first_weights = firsts[\"totalwgt_lb\"].dropna()\n",
    "first_weights.mean()"
   ]
  },
  {
   "cell_type": "code",
   "execution_count": 260,
   "id": "af2f0434",
   "metadata": {},
   "outputs": [
    {
     "data": {
      "text/plain": [
       "7.325855614973262"
      ]
     },
     "execution_count": 260,
     "metadata": {},
     "output_type": "execute_result"
    },
    {
     "data": {
      "application/javascript": [
       "\n",
       "            setTimeout(function() {\n",
       "                var nbb_cell_id = 260;\n",
       "                var nbb_unformatted_code = \"other_weights = others[\\\"totalwgt_lb\\\"].dropna()\\nother_weights.mean()\";\n",
       "                var nbb_formatted_code = \"other_weights = others[\\\"totalwgt_lb\\\"].dropna()\\nother_weights.mean()\";\n",
       "                var nbb_cells = Jupyter.notebook.get_cells();\n",
       "                for (var i = 0; i < nbb_cells.length; ++i) {\n",
       "                    if (nbb_cells[i].input_prompt_number == nbb_cell_id) {\n",
       "                        if (nbb_cells[i].get_text() == nbb_unformatted_code) {\n",
       "                             nbb_cells[i].set_text(nbb_formatted_code);\n",
       "                        }\n",
       "                        break;\n",
       "                    }\n",
       "                }\n",
       "            }, 500);\n",
       "            "
      ],
      "text/plain": [
       "<IPython.core.display.Javascript object>"
      ]
     },
     "metadata": {},
     "output_type": "display_data"
    }
   ],
   "source": [
    "other_weights = others[\"totalwgt_lb\"].dropna()\n",
    "other_weights.mean()"
   ]
  },
  {
   "cell_type": "markdown",
   "id": "2eeaee10",
   "metadata": {},
   "source": [
    "As we saw in Section xxx, first babies are a little lighter on average.\n",
    "But there are several ways a difference like that could happen -- for example, there might be a small number of first babies who are especially light, or a small number of other babies who are especially heavy, but the result of the distribution might look the same.\n",
    "In those cases, the distributions would have different shapes.\n",
    "As another possibility, the distributions might have the same shape, but different locations.\n",
    "\n",
    "To compare the distributions, we can try plotting the PMFs."
   ]
  },
  {
   "cell_type": "code",
   "execution_count": 244,
   "id": "5fcc9ad3",
   "metadata": {},
   "outputs": [
    {
     "data": {
      "application/javascript": [
       "\n",
       "            setTimeout(function() {\n",
       "                var nbb_cell_id = 244;\n",
       "                var nbb_unformatted_code = \"from empiricaldist import Pmf\\n\\nfirst_pmf = Pmf.from_seq(first_weights, name=\\\"first\\\")\\nother_pmf = Pmf.from_seq(other_weights, name=\\\"other\\\")\";\n",
       "                var nbb_formatted_code = \"from empiricaldist import Pmf\\n\\nfirst_pmf = Pmf.from_seq(first_weights, name=\\\"first\\\")\\nother_pmf = Pmf.from_seq(other_weights, name=\\\"other\\\")\";\n",
       "                var nbb_cells = Jupyter.notebook.get_cells();\n",
       "                for (var i = 0; i < nbb_cells.length; ++i) {\n",
       "                    if (nbb_cells[i].input_prompt_number == nbb_cell_id) {\n",
       "                        if (nbb_cells[i].get_text() == nbb_unformatted_code) {\n",
       "                             nbb_cells[i].set_text(nbb_formatted_code);\n",
       "                        }\n",
       "                        break;\n",
       "                    }\n",
       "                }\n",
       "            }, 500);\n",
       "            "
      ],
      "text/plain": [
       "<IPython.core.display.Javascript object>"
      ]
     },
     "metadata": {},
     "output_type": "display_data"
    }
   ],
   "source": [
    "from empiricaldist import Pmf\n",
    "\n",
    "first_pmf = Pmf.from_seq(first_weights, name=\"first\")\n",
    "other_pmf = Pmf.from_seq(other_weights, name=\"other\")"
   ]
  },
  {
   "cell_type": "markdown",
   "id": "1148b768",
   "metadata": {},
   "source": [
    "But it doesn't work very well."
   ]
  },
  {
   "cell_type": "code",
   "execution_count": 258,
   "id": "87e7a30b",
   "metadata": {},
   "outputs": [
    {
     "data": {
      "image/png": "[encoded data removed]",
      "text/plain": [
       "<Figure size 640x480 with 1 Axes>"
      ]
     },
     "metadata": {},
     "output_type": "display_data"
    },
    {
     "data": {
      "application/javascript": [
       "\n",
       "            setTimeout(function() {\n",
       "                var nbb_cell_id = 258;\n",
       "                var nbb_unformatted_code = \"from thinkstats import two_bar_plots\\n\\ntwo_bar_plots(first_pmf, other_pmf, width=0.06, alpha=0.5)\\ndecorate(xlabel=\\\"Weight (pounds)\\\", ylabel=\\\"PMF\\\")\";\n",
       "                var nbb_formatted_code = \"from thinkstats import two_bar_plots\\n\\ntwo_bar_plots(first_pmf, other_pmf, width=0.06, alpha=0.5)\\ndecorate(xlabel=\\\"Weight (pounds)\\\", ylabel=\\\"PMF\\\")\";\n",
       "                var nbb_cells = Jupyter.notebook.get_cells();\n",
       "                for (var i = 0; i < nbb_cells.length; ++i) {\n",
       "                    if (nbb_cells[i].input_prompt_number == nbb_cell_id) {\n",
       "                        if (nbb_cells[i].get_text() == nbb_unformatted_code) {\n",
       "                             nbb_cells[i].set_text(nbb_formatted_code);\n",
       "                        }\n",
       "                        break;\n",
       "                    }\n",
       "                }\n",
       "            }, 500);\n",
       "            "
      ],
      "text/plain": [
       "<IPython.core.display.Javascript object>"
      ]
     },
     "metadata": {},
     "output_type": "display_data"
    }
   ],
   "source": [
    "from thinkstats import two_bar_plots\n",
    "\n",
    "two_bar_plots(first_pmf, other_pmf, width=0.06, alpha=0.5)\n",
    "decorate(xlabel=\"Weight (pounds)\", ylabel=\"PMF\")"
   ]
  },
  {
   "cell_type": "markdown",
   "id": "76886060",
   "metadata": {},
   "source": [
    "I adjusted the width and transparency of the bars to show the distributions as clearly as possible, but it is hard to compare them.\n",
    "There are many peaks and valleys, and some apparent differences, but it is hard to tell which of these features are meaningful.\n",
    "Also, it is hard to see overall patterns -- for example, it is not visually apparent which distribution has the higher mean.\n",
    "\n",
    "These problems can be mitigated by binning the data -- that is, dividing the range of quantities into non-overlapping intervals and counting the number of quantities in each bin.\n",
    "Binning can be useful, but it is tricky to get the size of the bins right.\n",
    "If they are big enough to smooth out noise, they might also smooth out useful information.\n",
    "\n",
    "A good alternative is to plot the CDFs."
   ]
  },
  {
   "cell_type": "code",
   "execution_count": 261,
   "id": "912dbd10",
   "metadata": {},
   "outputs": [
    {
     "data": {
      "application/javascript": [
       "\n",
       "            setTimeout(function() {\n",
       "                var nbb_cell_id = 261;\n",
       "                var nbb_unformatted_code = \"first_cdf = first_pmf.make_cdf()\\nother_cdf = other_pmf.make_cdf()\";\n",
       "                var nbb_formatted_code = \"first_cdf = first_pmf.make_cdf()\\nother_cdf = other_pmf.make_cdf()\";\n",
       "                var nbb_cells = Jupyter.notebook.get_cells();\n",
       "                for (var i = 0; i < nbb_cells.length; ++i) {\n",
       "                    if (nbb_cells[i].input_prompt_number == nbb_cell_id) {\n",
       "                        if (nbb_cells[i].get_text() == nbb_unformatted_code) {\n",
       "                             nbb_cells[i].set_text(nbb_formatted_code);\n",
       "                        }\n",
       "                        break;\n",
       "                    }\n",
       "                }\n",
       "            }, 500);\n",
       "            "
      ],
      "text/plain": [
       "<IPython.core.display.Javascript object>"
      ]
     },
     "metadata": {},
     "output_type": "display_data"
    }
   ],
   "source": [
    "first_cdf = first_pmf.make_cdf()\n",
    "other_cdf = other_pmf.make_cdf()"
   ]
  },
  {
   "cell_type": "markdown",
   "id": "da592fae",
   "metadata": {},
   "source": [
    "Here's what they look like."
   ]
  },
  {
   "cell_type": "code",
   "execution_count": 262,
   "id": "4089ef39",
   "metadata": {},
   "outputs": [
    {
     "data": {
      "image/png": "[encoded data removed]",
      "text/plain": [
       "<Figure size 640x480 with 1 Axes>"
      ]
     },
     "metadata": {},
     "output_type": "display_data"
    },
    {
     "data": {
      "application/javascript": [
       "\n",
       "            setTimeout(function() {\n",
       "                var nbb_cell_id = 262;\n",
       "                var nbb_unformatted_code = \"first_cdf.plot()\\nother_cdf.plot()\\ndecorate(xlabel=\\\"weight (pounds)\\\", ylabel=\\\"CDF\\\")\";\n",
       "                var nbb_formatted_code = \"first_cdf.plot()\\nother_cdf.plot()\\ndecorate(xlabel=\\\"weight (pounds)\\\", ylabel=\\\"CDF\\\")\";\n",
       "                var nbb_cells = Jupyter.notebook.get_cells();\n",
       "                for (var i = 0; i < nbb_cells.length; ++i) {\n",
       "                    if (nbb_cells[i].input_prompt_number == nbb_cell_id) {\n",
       "                        if (nbb_cells[i].get_text() == nbb_unformatted_code) {\n",
       "                             nbb_cells[i].set_text(nbb_formatted_code);\n",
       "                        }\n",
       "                        break;\n",
       "                    }\n",
       "                }\n",
       "            }, 500);\n",
       "            "
      ],
      "text/plain": [
       "<IPython.core.display.Javascript object>"
      ]
     },
     "metadata": {},
     "output_type": "display_data"
    }
   ],
   "source": [
    "first_cdf.plot()\n",
    "other_cdf.plot()\n",
    "decorate(xlabel=\"Weight (pounds)\", ylabel=\"CDF\")"
   ]
  },
  {
   "cell_type": "markdown",
   "id": "397bbdae",
   "metadata": {},
   "source": [
    "This figure makes the shape of the distributions, and the differences between them, much clearer.\n",
    "We can see that first babies are slightly lighter throughout the distribution, with a larger discrepancy above the midpoint."
   ]
  },
  {
   "cell_type": "markdown",
   "id": "fb7b5cb5",
   "metadata": {},
   "source": [
    "## Percentile-Based Statistics\n",
    "\n",
    "In Section xxx we computed the arithmetic mean, which identifies a central point in a distribution, and the standard deviations, which quantifies how spread out the distribution is.\n",
    "And in Section xxx we computed Pearson's skewness, which indicates whether a distribution is skewed left or right.\n",
    "One drawback of all of these statistics is that they are sensitive to outliers.\n",
    "A single extreme value in a dataset can have a large effect on mean, standard deviation, and skewness.\n",
    "\n",
    "An alternative is to use statistics that are based on percentiles of the distribution, which tend to be more **robust**, which means that they are less sensitive to outliers.\n",
    "\n",
    "To demonstrate, let's load the NSFG data again without doing any data cleaning."
   ]
  },
  {
   "cell_type": "code",
   "execution_count": 299,
   "id": "9e53ef96",
   "metadata": {},
   "outputs": [
    {
     "data": {
      "application/javascript": [
       "\n",
       "            setTimeout(function() {\n",
       "                var nbb_cell_id = 299;\n",
       "                var nbb_unformatted_code = \"from thinkstats import read_stata\\n\\ndct_file = \\\"2002FemPreg.dct\\\"\\ndat_file = \\\"2002FemPreg.dat.gz\\\"\\n\\npreg = read_stata(dct_file, dat_file)\";\n",
       "                var nbb_formatted_code = \"from thinkstats import read_stata\\n\\ndct_file = \\\"2002FemPreg.dct\\\"\\ndat_file = \\\"2002FemPreg.dat.gz\\\"\\n\\npreg = read_stata(dct_file, dat_file)\";\n",
       "                var nbb_cells = Jupyter.notebook.get_cells();\n",
       "                for (var i = 0; i < nbb_cells.length; ++i) {\n",
       "                    if (nbb_cells[i].input_prompt_number == nbb_cell_id) {\n",
       "                        if (nbb_cells[i].get_text() == nbb_unformatted_code) {\n",
       "                             nbb_cells[i].set_text(nbb_formatted_code);\n",
       "                        }\n",
       "                        break;\n",
       "                    }\n",
       "                }\n",
       "            }, 500);\n",
       "            "
      ],
      "text/plain": [
       "<IPython.core.display.Javascript object>"
      ]
     },
     "metadata": {},
     "output_type": "display_data"
    }
   ],
   "source": [
    "from thinkstats import read_stata\n",
    "\n",
    "dct_file = \"2002FemPreg.dct\"\n",
    "dat_file = \"2002FemPreg.dat.gz\"\n",
    "\n",
    "preg = read_stata(dct_file, dat_file)"
   ]
  },
  {
   "cell_type": "code",
   "execution_count": 300,
   "id": "92d7c323",
   "metadata": {},
   "outputs": [
    {
     "data": {
      "application/javascript": [
       "\n",
       "            setTimeout(function() {\n",
       "                var nbb_cell_id = 300;\n",
       "                var nbb_unformatted_code = \"birthwgt_lb = preg[\\\"birthwgt_lb\\\"]\\nbirthwgt_oz = preg[\\\"birthwgt_oz\\\"]\";\n",
       "                var nbb_formatted_code = \"birthwgt_lb = preg[\\\"birthwgt_lb\\\"]\\nbirthwgt_oz = preg[\\\"birthwgt_oz\\\"]\";\n",
       "                var nbb_cells = Jupyter.notebook.get_cells();\n",
       "                for (var i = 0; i < nbb_cells.length; ++i) {\n",
       "                    if (nbb_cells[i].input_prompt_number == nbb_cell_id) {\n",
       "                        if (nbb_cells[i].get_text() == nbb_unformatted_code) {\n",
       "                             nbb_cells[i].set_text(nbb_formatted_code);\n",
       "                        }\n",
       "                        break;\n",
       "                    }\n",
       "                }\n",
       "            }, 500);\n",
       "            "
      ],
      "text/plain": [
       "<IPython.core.display.Javascript object>"
      ]
     },
     "metadata": {},
     "output_type": "display_data"
    }
   ],
   "source": [
    "birthwgt_lb = preg[\"birthwgt_lb\"]\n",
    "birthwgt_oz = preg[\"birthwgt_oz\"]"
   ]
  },
  {
   "cell_type": "code",
   "execution_count": 301,
   "id": "d71d7344",
   "metadata": {},
   "outputs": [
    {
     "data": {
      "text/html": [
       "<div>\n",
       "<style scoped>\n",
       "    .dataframe tbody tr th:only-of-type {\n",
       "        vertical-align: middle;\n",
       "    }\n",
       "\n",
       "    .dataframe tbody tr th {\n",
       "        vertical-align: top;\n",
       "    }\n",
       "\n",
       "    .dataframe thead th {\n",
       "        text-align: right;\n",
       "    }\n",
       "</style>\n",
       "<table border=\"1\" class=\"dataframe\">\n",
       "  <thead>\n",
       "    <tr style=\"text-align: right;\">\n",
       "      <th></th>\n",
       "      <th>freqs</th>\n",
       "    </tr>\n",
       "    <tr>\n",
       "      <th>birthwgt_lb</th>\n",
       "      <th></th>\n",
       "    </tr>\n",
       "  </thead>\n",
       "  <tbody>\n",
       "    <tr>\n",
       "      <th>15.0</th>\n",
       "      <td>1</td>\n",
       "    </tr>\n",
       "    <tr>\n",
       "      <th>51.0</th>\n",
       "      <td>1</td>\n",
       "    </tr>\n",
       "    <tr>\n",
       "      <th>97.0</th>\n",
       "      <td>1</td>\n",
       "    </tr>\n",
       "    <tr>\n",
       "      <th>98.0</th>\n",
       "      <td>1</td>\n",
       "    </tr>\n",
       "    <tr>\n",
       "      <th>99.0</th>\n",
       "      <td>57</td>\n",
       "    </tr>\n",
       "  </tbody>\n",
       "</table>\n",
       "</div>"
      ],
      "text/plain": [
       "birthwgt_lb\n",
       "15.0     1\n",
       "51.0     1\n",
       "97.0     1\n",
       "98.0     1\n",
       "99.0    57\n",
       "Name: , dtype: int64"
      ]
     },
     "execution_count": 301,
     "metadata": {},
     "output_type": "execute_result"
    },
    {
     "data": {
      "application/javascript": [
       "\n",
       "            setTimeout(function() {\n",
       "                var nbb_cell_id = 301;\n",
       "                var nbb_unformatted_code = \"from empiricaldist import Hist\\n\\nHist.from_seq(birthwgt_lb).tail(5)\";\n",
       "                var nbb_formatted_code = \"from empiricaldist import Hist\\n\\nHist.from_seq(birthwgt_lb).tail(5)\";\n",
       "                var nbb_cells = Jupyter.notebook.get_cells();\n",
       "                for (var i = 0; i < nbb_cells.length; ++i) {\n",
       "                    if (nbb_cells[i].input_prompt_number == nbb_cell_id) {\n",
       "                        if (nbb_cells[i].get_text() == nbb_unformatted_code) {\n",
       "                             nbb_cells[i].set_text(nbb_formatted_code);\n",
       "                        }\n",
       "                        break;\n",
       "                    }\n",
       "                }\n",
       "            }, 500);\n",
       "            "
      ],
      "text/plain": [
       "<IPython.core.display.Javascript object>"
      ]
     },
     "metadata": {},
     "output_type": "display_data"
    }
   ],
   "source": [
    "from empiricaldist import Hist\n",
    "\n",
    "Hist.from_seq(birthwgt_lb).tail(5)"
   ]
  },
  {
   "cell_type": "code",
   "execution_count": 302,
   "id": "87a3586c",
   "metadata": {},
   "outputs": [
    {
     "data": {
      "text/html": [
       "<div>\n",
       "<style scoped>\n",
       "    .dataframe tbody tr th:only-of-type {\n",
       "        vertical-align: middle;\n",
       "    }\n",
       "\n",
       "    .dataframe tbody tr th {\n",
       "        vertical-align: top;\n",
       "    }\n",
       "\n",
       "    .dataframe thead th {\n",
       "        text-align: right;\n",
       "    }\n",
       "</style>\n",
       "<table border=\"1\" class=\"dataframe\">\n",
       "  <thead>\n",
       "    <tr style=\"text-align: right;\">\n",
       "      <th></th>\n",
       "      <th>freqs</th>\n",
       "    </tr>\n",
       "    <tr>\n",
       "      <th>birthwgt_oz</th>\n",
       "      <th></th>\n",
       "    </tr>\n",
       "  </thead>\n",
       "  <tbody>\n",
       "    <tr>\n",
       "      <th>14.0</th>\n",
       "      <td>475</td>\n",
       "    </tr>\n",
       "    <tr>\n",
       "      <th>15.0</th>\n",
       "      <td>378</td>\n",
       "    </tr>\n",
       "    <tr>\n",
       "      <th>97.0</th>\n",
       "      <td>1</td>\n",
       "    </tr>\n",
       "    <tr>\n",
       "      <th>98.0</th>\n",
       "      <td>1</td>\n",
       "    </tr>\n",
       "    <tr>\n",
       "      <th>99.0</th>\n",
       "      <td>46</td>\n",
       "    </tr>\n",
       "  </tbody>\n",
       "</table>\n",
       "</div>"
      ],
      "text/plain": [
       "birthwgt_oz\n",
       "14.0    475\n",
       "15.0    378\n",
       "97.0      1\n",
       "98.0      1\n",
       "99.0     46\n",
       "Name: , dtype: int64"
      ]
     },
     "execution_count": 302,
     "metadata": {},
     "output_type": "execute_result"
    },
    {
     "data": {
      "application/javascript": [
       "\n",
       "            setTimeout(function() {\n",
       "                var nbb_cell_id = 302;\n",
       "                var nbb_unformatted_code = \"Hist.from_seq(birthwgt_oz).tail(5)\";\n",
       "                var nbb_formatted_code = \"Hist.from_seq(birthwgt_oz).tail(5)\";\n",
       "                var nbb_cells = Jupyter.notebook.get_cells();\n",
       "                for (var i = 0; i < nbb_cells.length; ++i) {\n",
       "                    if (nbb_cells[i].input_prompt_number == nbb_cell_id) {\n",
       "                        if (nbb_cells[i].get_text() == nbb_unformatted_code) {\n",
       "                             nbb_cells[i].set_text(nbb_formatted_code);\n",
       "                        }\n",
       "                        break;\n",
       "                    }\n",
       "                }\n",
       "            }, 500);\n",
       "            "
      ],
      "text/plain": [
       "<IPython.core.display.Javascript object>"
      ]
     },
     "metadata": {},
     "output_type": "display_data"
    }
   ],
   "source": [
    "Hist.from_seq(birthwgt_oz).tail(5)"
   ]
  },
  {
   "cell_type": "code",
   "execution_count": 303,
   "id": "af97d4c2",
   "metadata": {},
   "outputs": [
    {
     "data": {
      "application/javascript": [
       "\n",
       "            setTimeout(function() {\n",
       "                var nbb_cell_id = 303;\n",
       "                var nbb_unformatted_code = \"total_weight_bogus = birthwgt_lb + birthwgt_oz / 16\";\n",
       "                var nbb_formatted_code = \"total_weight_bogus = birthwgt_lb + birthwgt_oz / 16\";\n",
       "                var nbb_cells = Jupyter.notebook.get_cells();\n",
       "                for (var i = 0; i < nbb_cells.length; ++i) {\n",
       "                    if (nbb_cells[i].input_prompt_number == nbb_cell_id) {\n",
       "                        if (nbb_cells[i].get_text() == nbb_unformatted_code) {\n",
       "                             nbb_cells[i].set_text(nbb_formatted_code);\n",
       "                        }\n",
       "                        break;\n",
       "                    }\n",
       "                }\n",
       "            }, 500);\n",
       "            "
      ],
      "text/plain": [
       "<IPython.core.display.Javascript object>"
      ]
     },
     "metadata": {},
     "output_type": "display_data"
    }
   ],
   "source": [
    "total_weight_bogus = birthwgt_lb + birthwgt_oz / 16"
   ]
  },
  {
   "cell_type": "code",
   "execution_count": 304,
   "id": "0fd9b1eb",
   "metadata": {},
   "outputs": [
    {
     "data": {
      "application/javascript": [
       "\n",
       "            setTimeout(function() {\n",
       "                var nbb_cell_id = 304;\n",
       "                var nbb_unformatted_code = \"birthwgt_lb_clean = birthwgt_lb.replace([51, 97, 98, 99], np.nan)\\nbirthwgt_oz_clean = birthwgt_oz.replace([97, 98, 99], np.nan)\\n\\ntotal_weight_clean = birthwgt_lb_clean + birthwgt_oz_clean / 16\";\n",
       "                var nbb_formatted_code = \"birthwgt_lb_clean = birthwgt_lb.replace([51, 97, 98, 99], np.nan)\\nbirthwgt_oz_clean = birthwgt_oz.replace([97, 98, 99], np.nan)\\n\\ntotal_weight_clean = birthwgt_lb_clean + birthwgt_oz_clean / 16\";\n",
       "                var nbb_cells = Jupyter.notebook.get_cells();\n",
       "                for (var i = 0; i < nbb_cells.length; ++i) {\n",
       "                    if (nbb_cells[i].input_prompt_number == nbb_cell_id) {\n",
       "                        if (nbb_cells[i].get_text() == nbb_unformatted_code) {\n",
       "                             nbb_cells[i].set_text(nbb_formatted_code);\n",
       "                        }\n",
       "                        break;\n",
       "                    }\n",
       "                }\n",
       "            }, 500);\n",
       "            "
      ],
      "text/plain": [
       "<IPython.core.display.Javascript object>"
      ]
     },
     "metadata": {},
     "output_type": "display_data"
    }
   ],
   "source": [
    "birthwgt_lb_clean = birthwgt_lb.replace([51, 97, 98, 99], np.nan)\n",
    "birthwgt_oz_clean = birthwgt_oz.replace([97, 98, 99], np.nan)\n",
    "\n",
    "total_weight_clean = birthwgt_lb_clean + birthwgt_oz_clean / 16"
   ]
  },
  {
   "cell_type": "code",
   "execution_count": 305,
   "id": "62814a8d",
   "metadata": {},
   "outputs": [
    {
     "data": {
      "text/plain": [
       "(7.319680587652691, 7.265628457623368)"
      ]
     },
     "execution_count": 305,
     "metadata": {},
     "output_type": "execute_result"
    },
    {
     "data": {
      "application/javascript": [
       "\n",
       "            setTimeout(function() {\n",
       "                var nbb_cell_id = 305;\n",
       "                var nbb_unformatted_code = \"total_weight_bogus.mean(), total_weight_clean.mean()\";\n",
       "                var nbb_formatted_code = \"total_weight_bogus.mean(), total_weight_clean.mean()\";\n",
       "                var nbb_cells = Jupyter.notebook.get_cells();\n",
       "                for (var i = 0; i < nbb_cells.length; ++i) {\n",
       "                    if (nbb_cells[i].input_prompt_number == nbb_cell_id) {\n",
       "                        if (nbb_cells[i].get_text() == nbb_unformatted_code) {\n",
       "                             nbb_cells[i].set_text(nbb_formatted_code);\n",
       "                        }\n",
       "                        break;\n",
       "                    }\n",
       "                }\n",
       "            }, 500);\n",
       "            "
      ],
      "text/plain": [
       "<IPython.core.display.Javascript object>"
      ]
     },
     "metadata": {},
     "output_type": "display_data"
    }
   ],
   "source": [
    "total_weight_bogus.mean(), total_weight_clean.mean()"
   ]
  },
  {
   "cell_type": "code",
   "execution_count": 306,
   "id": "2c8fcb1e",
   "metadata": {},
   "outputs": [
    {
     "data": {
      "text/plain": [
       "(2.096001779161835, 1.4082934455690173)"
      ]
     },
     "execution_count": 306,
     "metadata": {},
     "output_type": "execute_result"
    },
    {
     "data": {
      "application/javascript": [
       "\n",
       "            setTimeout(function() {\n",
       "                var nbb_cell_id = 306;\n",
       "                var nbb_unformatted_code = \"total_weight_bogus.std(), total_weight_clean.std()\";\n",
       "                var nbb_formatted_code = \"total_weight_bogus.std(), total_weight_clean.std()\";\n",
       "                var nbb_cells = Jupyter.notebook.get_cells();\n",
       "                for (var i = 0; i < nbb_cells.length; ++i) {\n",
       "                    if (nbb_cells[i].input_prompt_number == nbb_cell_id) {\n",
       "                        if (nbb_cells[i].get_text() == nbb_unformatted_code) {\n",
       "                             nbb_cells[i].set_text(nbb_formatted_code);\n",
       "                        }\n",
       "                        break;\n",
       "                    }\n",
       "                }\n",
       "            }, 500);\n",
       "            "
      ],
      "text/plain": [
       "<IPython.core.display.Javascript object>"
      ]
     },
     "metadata": {},
     "output_type": "display_data"
    }
   ],
   "source": [
    "total_weight_bogus.std(), total_weight_clean.std()"
   ]
  },
  {
   "cell_type": "code",
   "execution_count": 307,
   "id": "41700da5",
   "metadata": {},
   "outputs": [
    {
     "data": {
      "application/javascript": [
       "\n",
       "            setTimeout(function() {\n",
       "                var nbb_cell_id = 307;\n",
       "                var nbb_unformatted_code = \"def skewness(seq):\\n    deviations = seq - seq.mean()\\n    return np.mean(deviations**3) / seq.std(ddof=0) ** 3\";\n",
       "                var nbb_formatted_code = \"def skewness(seq):\\n    deviations = seq - seq.mean()\\n    return np.mean(deviations**3) / seq.std(ddof=0) ** 3\";\n",
       "                var nbb_cells = Jupyter.notebook.get_cells();\n",
       "                for (var i = 0; i < nbb_cells.length; ++i) {\n",
       "                    if (nbb_cells[i].input_prompt_number == nbb_cell_id) {\n",
       "                        if (nbb_cells[i].get_text() == nbb_unformatted_code) {\n",
       "                             nbb_cells[i].set_text(nbb_formatted_code);\n",
       "                        }\n",
       "                        break;\n",
       "                    }\n",
       "                }\n",
       "            }, 500);\n",
       "            "
      ],
      "text/plain": [
       "<IPython.core.display.Javascript object>"
      ]
     },
     "metadata": {},
     "output_type": "display_data"
    }
   ],
   "source": [
    "def skewness(seq):\n",
    "    deviations = seq - seq.mean()\n",
    "    return np.mean(deviations**3) / seq.std(ddof=0) ** 3"
   ]
  },
  {
   "cell_type": "code",
   "execution_count": 308,
   "id": "790afa09",
   "metadata": {},
   "outputs": [
    {
     "data": {
      "text/plain": [
       "(22.251846195422484, -0.5895062687577697)"
      ]
     },
     "execution_count": 308,
     "metadata": {},
     "output_type": "execute_result"
    },
    {
     "data": {
      "application/javascript": [
       "\n",
       "            setTimeout(function() {\n",
       "                var nbb_cell_id = 308;\n",
       "                var nbb_unformatted_code = \"skewness(total_weight_bogus), skewness(total_weight_clean)\";\n",
       "                var nbb_formatted_code = \"skewness(total_weight_bogus), skewness(total_weight_clean)\";\n",
       "                var nbb_cells = Jupyter.notebook.get_cells();\n",
       "                for (var i = 0; i < nbb_cells.length; ++i) {\n",
       "                    if (nbb_cells[i].input_prompt_number == nbb_cell_id) {\n",
       "                        if (nbb_cells[i].get_text() == nbb_unformatted_code) {\n",
       "                             nbb_cells[i].set_text(nbb_formatted_code);\n",
       "                        }\n",
       "                        break;\n",
       "                    }\n",
       "                }\n",
       "            }, 500);\n",
       "            "
      ],
      "text/plain": [
       "<IPython.core.display.Javascript object>"
      ]
     },
     "metadata": {},
     "output_type": "display_data"
    }
   ],
   "source": [
    "skewness(total_weight_bogus), skewness(total_weight_clean)"
   ]
  },
  {
   "cell_type": "markdown",
   "id": "d144baab",
   "metadata": {},
   "source": [
    "Once you have computed a CDF, it is easy to compute percentiles and percentile ranks.\n",
    "To demonstrate, let's compute a `Cdf` that represent the distribution of birth weights."
   ]
  },
  {
   "cell_type": "code",
   "execution_count": 331,
   "id": "90b90105",
   "metadata": {},
   "outputs": [
    {
     "data": {
      "application/javascript": [
       "\n",
       "            setTimeout(function() {\n",
       "                var nbb_cell_id = 331;\n",
       "                var nbb_unformatted_code = \"def median(cdf):\\n    m = cdf.inverse(0.5)\\n    return m\";\n",
       "                var nbb_formatted_code = \"def median(cdf):\\n    m = cdf.inverse(0.5)\\n    return m\";\n",
       "                var nbb_cells = Jupyter.notebook.get_cells();\n",
       "                for (var i = 0; i < nbb_cells.length; ++i) {\n",
       "                    if (nbb_cells[i].input_prompt_number == nbb_cell_id) {\n",
       "                        if (nbb_cells[i].get_text() == nbb_unformatted_code) {\n",
       "                             nbb_cells[i].set_text(nbb_formatted_code);\n",
       "                        }\n",
       "                        break;\n",
       "                    }\n",
       "                }\n",
       "            }, 500);\n",
       "            "
      ],
      "text/plain": [
       "<IPython.core.display.Javascript object>"
      ]
     },
     "metadata": {},
     "output_type": "display_data"
    }
   ],
   "source": [
    "def median(cdf):\n",
    "    m = cdf.inverse(0.5)\n",
    "    return m"
   ]
  },
  {
   "cell_type": "code",
   "execution_count": 332,
   "id": "a32716e7",
   "metadata": {},
   "outputs": [
    {
     "data": {
      "application/javascript": [
       "\n",
       "            setTimeout(function() {\n",
       "                var nbb_cell_id = 332;\n",
       "                var nbb_unformatted_code = \"cdf_total_weight_bogus = Cdf.from_seq(total_weight_bogus)\\ncdf_total_weight_clean = Cdf.from_seq(total_weight_clean)\";\n",
       "                var nbb_formatted_code = \"cdf_total_weight_bogus = Cdf.from_seq(total_weight_bogus)\\ncdf_total_weight_clean = Cdf.from_seq(total_weight_clean)\";\n",
       "                var nbb_cells = Jupyter.notebook.get_cells();\n",
       "                for (var i = 0; i < nbb_cells.length; ++i) {\n",
       "                    if (nbb_cells[i].input_prompt_number == nbb_cell_id) {\n",
       "                        if (nbb_cells[i].get_text() == nbb_unformatted_code) {\n",
       "                             nbb_cells[i].set_text(nbb_formatted_code);\n",
       "                        }\n",
       "                        break;\n",
       "                    }\n",
       "                }\n",
       "            }, 500);\n",
       "            "
      ],
      "text/plain": [
       "<IPython.core.display.Javascript object>"
      ]
     },
     "metadata": {},
     "output_type": "display_data"
    }
   ],
   "source": [
    "cdf_total_weight_bogus = Cdf.from_seq(total_weight_bogus)\n",
    "cdf_total_weight_clean = Cdf.from_seq(total_weight_clean)"
   ]
  },
  {
   "cell_type": "code",
   "execution_count": 333,
   "id": "eb2801c5",
   "metadata": {},
   "outputs": [
    {
     "data": {
      "text/plain": [
       "(array(7.375), array(7.375))"
      ]
     },
     "execution_count": 333,
     "metadata": {},
     "output_type": "execute_result"
    },
    {
     "data": {
      "application/javascript": [
       "\n",
       "            setTimeout(function() {\n",
       "                var nbb_cell_id = 333;\n",
       "                var nbb_unformatted_code = \"median(cdf_total_weight_bogus), median(cdf_total_weight_clean)\";\n",
       "                var nbb_formatted_code = \"median(cdf_total_weight_bogus), median(cdf_total_weight_clean)\";\n",
       "                var nbb_cells = Jupyter.notebook.get_cells();\n",
       "                for (var i = 0; i < nbb_cells.length; ++i) {\n",
       "                    if (nbb_cells[i].input_prompt_number == nbb_cell_id) {\n",
       "                        if (nbb_cells[i].get_text() == nbb_unformatted_code) {\n",
       "                             nbb_cells[i].set_text(nbb_formatted_code);\n",
       "                        }\n",
       "                        break;\n",
       "                    }\n",
       "                }\n",
       "            }, 500);\n",
       "            "
      ],
      "text/plain": [
       "<IPython.core.display.Javascript object>"
      ]
     },
     "metadata": {},
     "output_type": "display_data"
    }
   ],
   "source": [
    "median(cdf_total_weight_bogus), median(cdf_total_weight_clean)"
   ]
  },
  {
   "cell_type": "markdown",
   "id": "ae3de011",
   "metadata": {},
   "source": [
    "Another percentile-based statistic is the **interquartile range** (IQR), which is a measure of the spread of a distribution.\n",
    "The IQR is the difference between the 75th and 25th percentiles."
   ]
  },
  {
   "cell_type": "code",
   "execution_count": 325,
   "id": "6c0b1e91",
   "metadata": {},
   "outputs": [
    {
     "data": {
      "application/javascript": [
       "\n",
       "            setTimeout(function() {\n",
       "                var nbb_cell_id = 325;\n",
       "                var nbb_unformatted_code = \"def iqr(cdf):\\n    low, high = cdf.inverse([0.25, 0.75])\\n    return high - low\";\n",
       "                var nbb_formatted_code = \"def iqr(cdf):\\n    low, high = cdf.inverse([0.25, 0.75])\\n    return high - low\";\n",
       "                var nbb_cells = Jupyter.notebook.get_cells();\n",
       "                for (var i = 0; i < nbb_cells.length; ++i) {\n",
       "                    if (nbb_cells[i].input_prompt_number == nbb_cell_id) {\n",
       "                        if (nbb_cells[i].get_text() == nbb_unformatted_code) {\n",
       "                             nbb_cells[i].set_text(nbb_formatted_code);\n",
       "                        }\n",
       "                        break;\n",
       "                    }\n",
       "                }\n",
       "            }, 500);\n",
       "            "
      ],
      "text/plain": [
       "<IPython.core.display.Javascript object>"
      ]
     },
     "metadata": {},
     "output_type": "display_data"
    }
   ],
   "source": [
    "def iqr(cdf):\n",
    "    low, high = cdf.inverse([0.25, 0.75])\n",
    "    return high - low"
   ]
  },
  {
   "cell_type": "code",
   "execution_count": 326,
   "id": "9426569c",
   "metadata": {},
   "outputs": [
    {
     "data": {
      "text/plain": [
       "(1.625, 1.625)"
      ]
     },
     "execution_count": 326,
     "metadata": {},
     "output_type": "execute_result"
    },
    {
     "data": {
      "application/javascript": [
       "\n",
       "            setTimeout(function() {\n",
       "                var nbb_cell_id = 326;\n",
       "                var nbb_unformatted_code = \"iqr(cdf_total_weight_bogus), iqr(cdf_total_weight_clean)\";\n",
       "                var nbb_formatted_code = \"iqr(cdf_total_weight_bogus), iqr(cdf_total_weight_clean)\";\n",
       "                var nbb_cells = Jupyter.notebook.get_cells();\n",
       "                for (var i = 0; i < nbb_cells.length; ++i) {\n",
       "                    if (nbb_cells[i].input_prompt_number == nbb_cell_id) {\n",
       "                        if (nbb_cells[i].get_text() == nbb_unformatted_code) {\n",
       "                             nbb_cells[i].set_text(nbb_formatted_code);\n",
       "                        }\n",
       "                        break;\n",
       "                    }\n",
       "                }\n",
       "            }, 500);\n",
       "            "
      ],
      "text/plain": [
       "<IPython.core.display.Javascript object>"
      ]
     },
     "metadata": {},
     "output_type": "display_data"
    }
   ],
   "source": [
    "iqr(cdf_total_weight_bogus), iqr(cdf_total_weight_clean)"
   ]
  },
  {
   "cell_type": "markdown",
   "id": "66f02ff8",
   "metadata": {},
   "source": [
    "Quartile skewness"
   ]
  },
  {
   "cell_type": "code",
   "execution_count": 334,
   "id": "f84e5df3",
   "metadata": {},
   "outputs": [
    {
     "data": {
      "application/javascript": [
       "\n",
       "            setTimeout(function() {\n",
       "                var nbb_cell_id = 334;\n",
       "                var nbb_unformatted_code = \"def quartile_skewness(cdf):\\n    low, median, high = cdf.inverse([0.25, 0.5, 0.75])\\n    midpoint = (high + low) / 2\\n    semi_iqr = (high - low) / 2\\n    return (midpoint - median) / semi_iqr\";\n",
       "                var nbb_formatted_code = \"def quartile_skewness(cdf):\\n    low, median, high = cdf.inverse([0.25, 0.5, 0.75])\\n    midpoint = (high + low) / 2\\n    semi_iqr = (high - low) / 2\\n    return (midpoint - median) / semi_iqr\";\n",
       "                var nbb_cells = Jupyter.notebook.get_cells();\n",
       "                for (var i = 0; i < nbb_cells.length; ++i) {\n",
       "                    if (nbb_cells[i].input_prompt_number == nbb_cell_id) {\n",
       "                        if (nbb_cells[i].get_text() == nbb_unformatted_code) {\n",
       "                             nbb_cells[i].set_text(nbb_formatted_code);\n",
       "                        }\n",
       "                        break;\n",
       "                    }\n",
       "                }\n",
       "            }, 500);\n",
       "            "
      ],
      "text/plain": [
       "<IPython.core.display.Javascript object>"
      ]
     },
     "metadata": {},
     "output_type": "display_data"
    }
   ],
   "source": [
    "def quartile_skewness(cdf):\n",
    "    low, median, high = cdf.inverse([0.25, 0.5, 0.75])\n",
    "    midpoint = (high + low) / 2\n",
    "    semi_iqr = (high - low) / 2\n",
    "    return (midpoint - median) / semi_iqr"
   ]
  },
  {
   "cell_type": "code",
   "execution_count": 335,
   "id": "c21f8174",
   "metadata": {},
   "outputs": [
    {
     "data": {
      "text/plain": [
       "(-0.07692307692307693, -0.07692307692307693)"
      ]
     },
     "execution_count": 335,
     "metadata": {},
     "output_type": "execute_result"
    },
    {
     "data": {
      "application/javascript": [
       "\n",
       "            setTimeout(function() {\n",
       "                var nbb_cell_id = 335;\n",
       "                var nbb_unformatted_code = \"(quartile_skewness(cdf_total_weight_bogus), quartile_skewness(cdf_total_weight_clean))\";\n",
       "                var nbb_formatted_code = \"(quartile_skewness(cdf_total_weight_bogus), quartile_skewness(cdf_total_weight_clean))\";\n",
       "                var nbb_cells = Jupyter.notebook.get_cells();\n",
       "                for (var i = 0; i < nbb_cells.length; ++i) {\n",
       "                    if (nbb_cells[i].input_prompt_number == nbb_cell_id) {\n",
       "                        if (nbb_cells[i].get_text() == nbb_unformatted_code) {\n",
       "                             nbb_cells[i].set_text(nbb_formatted_code);\n",
       "                        }\n",
       "                        break;\n",
       "                    }\n",
       "                }\n",
       "            }, 500);\n",
       "            "
      ],
      "text/plain": [
       "<IPython.core.display.Javascript object>"
      ]
     },
     "metadata": {},
     "output_type": "display_data"
    }
   ],
   "source": [
    "(quartile_skewness(cdf_total_weight_bogus), quartile_skewness(cdf_total_weight_clean))"
   ]
  },
  {
   "cell_type": "markdown",
   "id": "bad0090a",
   "metadata": {},
   "source": [
    "More generally, percentiles are often used to summarize the shape of a distribution.\n",
    "For example, the distribution of income is often reported in \"quintiles\"; that is, it is split at the 20th, 40th, 60th and 80th percentiles.\n",
    "Other distributions are divided into ten \"deciles\".\n",
    "Statistics like these that represent equally-spaced points in a CDF are called **quantiles**.\n",
    "For more, see <https://en.wikipedia.org/wiki/Quantile>."
   ]
  },
  {
   "cell_type": "markdown",
   "id": "5279c66b",
   "metadata": {},
   "source": [
    "## Random numbers\n",
    "\n",
    "Suppose we choose a random sample from the population of live births and look up the percentile rank of their birth weights.\n",
    "Now suppose we compute the CDF of the percentile ranks.\n",
    "What do you think the distribution will look like?\n",
    "\n",
    "Here's how we can compute it. First, we make the `Cdf` of birth weights:"
   ]
  },
  {
   "cell_type": "code",
   "execution_count": null,
   "id": "1e469506",
   "metadata": {},
   "outputs": [],
   "source": [
    "weights = live.totalwgt_lb\n",
    "cdf = Cdf.from_seq(weights, name=\"totalwgt_lb\")"
   ]
  },
  {
   "cell_type": "markdown",
   "id": "65942fac",
   "metadata": {},
   "source": [
    "Then we generate a sample and compute the percentile rank of each quantity in the sample."
   ]
  },
  {
   "cell_type": "code",
   "execution_count": null,
   "id": "154d9999",
   "metadata": {},
   "outputs": [],
   "source": [
    "import numpy as np\n",
    "\n",
    "sample = np.random.choice(weights, 100, replace=True)\n",
    "ranks = [cdf(x) * 100 for x in sample]"
   ]
  },
  {
   "cell_type": "markdown",
   "id": "a687ada3",
   "metadata": {},
   "source": [
    "`sample` is a random sample of 100 birth weights, chosen with **replacement**; that is, the same quantity could be chosen more than once.\n",
    "`ranks` is a list of percentile ranks.\n",
    "\n",
    "Finally we make and plot the `Cdf` of the percentile ranks."
   ]
  },
  {
   "cell_type": "code",
   "execution_count": null,
   "id": "271a5cc3",
   "metadata": {},
   "outputs": [],
   "source": [
    "rank_cdf = Cdf.from_seq(ranks, name=\"ranks\")\n",
    "rank_cdf.plot()\n",
    "decorate(xlabel=\"percentile rank\", ylabel=\"CDF\")"
   ]
  },
  {
   "cell_type": "markdown",
   "id": "2e9acd5d",
   "metadata": {},
   "source": [
    "This figure shows the result.\n",
    "The CDF is approximately a straight line, which means that the distribution is uniform.\n",
    "\n",
    "That outcome might be non-obvious, but it is a consequence of the way the CDF is defined.\n",
    "What this figure shows is that 10% of the sample is below the 10th percentile, 20% is below the 20th percentile, and so on, exactly as we should expect."
   ]
  },
  {
   "cell_type": "markdown",
   "id": "365491b7",
   "metadata": {},
   "source": [
    "So, regardless of the shape of the CDF, the distribution of percentile ranks is uniform.\n",
    "This property is useful, because it is the basis of a simple and efficient algorithm for generating random numbers with a given CDF.\n",
    "Here's how:\n",
    "\n",
    "-   Choose a cumulative probability uniformly from the range 0--1.\n",
    "\n",
    "-   Use `inverse` to find the quantity in the distribution that corresponds to the chosen probability.\n",
    "\n",
    "`Cdf` provides an implementation of this algorithm, called `sample`:"
   ]
  },
  {
   "cell_type": "code",
   "execution_count": null,
   "id": "a9d31255",
   "metadata": {},
   "outputs": [],
   "source": [
    "def sample(self, n=1):\n",
    "    \"\"\"Samples with replacement using probabilities as weights.\n",
    "\n",
    "    n: number of values to generate\n",
    "\n",
    "    returns: NumPy array\n",
    "    \"\"\"\n",
    "    ps = np.random.random(n)\n",
    "    return self.inverse(ps)"
   ]
  },
  {
   "cell_type": "markdown",
   "id": "a4c9d399",
   "metadata": {},
   "source": []
  },
  {
   "cell_type": "markdown",
   "id": "327f0a79",
   "metadata": {},
   "source": [
    "## Glossary\n",
    "\n",
    "-   **percentile rank**: The percentage of quantities in a distribution that are less than or equal to a given quantity.\n",
    "\n",
    "-   **percentile**: The quantity associated with a given percentile rank.\n",
    "\n",
    "-   **cumulative distribution function (CDF)**: A function that maps from quantities to their cumulative probabilities.\n",
    "$CDF(x)$ is the fraction of the sample less than or equal to $x$.\n",
    "\n",
    "-   **inverse CDF**: A function that maps from a cumulative probability, $p$, to the corresponding quantity.\n",
    "\n",
    "-   **median**: The 50th percentile, often used as a measure of central tendency.\n",
    "\n",
    "-   **interquartile range**: The difference between the 75th and 25th percentiles, used as a measure of spread.\n",
    "\n",
    "-   **quantile**: A sequence of quantities that correspond to equally spaced percentile ranks; for example, the quartiles of a distribution are the 25th, 50th and 75th percentiles.\n",
    "\n",
    "-   **replacement**: A property of a sampling process.\n",
    "\"With replacement\" means that the same quantity can be chosen more than once; \"without replacement\" means that once a quantity is chosen, it is removed from the population."
   ]
  },
  {
   "cell_type": "markdown",
   "id": "37ae0af7",
   "metadata": {
    "collapsed": true
   },
   "source": [
    "## Exercises"
   ]
  },
  {
   "cell_type": "markdown",
   "id": "ce30c7e3",
   "metadata": {
    "collapsed": true
   },
   "source": [
    "### Exercise \n",
    "\n",
    "How much did you weigh at birth? If you don’t know, call your mother or someone else who knows.\n",
    "Using the NSFG data (all live births), compute the distribution of birth weights and use it to find your percentile rank.\n",
    "If you were a first baby, find your percentile rank in the distribution for first babies.\n",
    "Otherwise use the distribution for others.\n",
    "If you are in the 90th percentile or higher, call your mother back and apologize."
   ]
  },
  {
   "cell_type": "code",
   "execution_count": null,
   "id": "65835159",
   "metadata": {},
   "outputs": [],
   "source": [
    "first_cdf(8.5) * 100"
   ]
  },
  {
   "cell_type": "code",
   "execution_count": null,
   "id": "f1bf49cf",
   "metadata": {},
   "outputs": [],
   "source": [
    "other_cdf(8.5) * 100"
   ]
  },
  {
   "cell_type": "markdown",
   "id": "fd2489dd",
   "metadata": {},
   "source": [
    "### Exercise\n",
    "\n"
   ]
  },
  {
   "cell_type": "code",
   "execution_count": null,
   "id": "5834fd4c",
   "metadata": {},
   "outputs": [],
   "source": []
  },
  {
   "cell_type": "code",
   "execution_count": null,
   "id": "988569df",
   "metadata": {},
   "outputs": [],
   "source": []
  },
  {
   "cell_type": "code",
   "execution_count": null,
   "id": "0e66dcd3",
   "metadata": {},
   "outputs": [],
   "source": []
  },
  {
   "cell_type": "markdown",
   "id": "950e5c54",
   "metadata": {
    "collapsed": true
   },
   "source": [
    "### Exercise \n",
    "\n",
    "The numbers generated by `numpy.random.random` are supposed to be uniform between 0 and 1; that is, every quantity in the range should have the same probability.\n",
    "\n",
    "Suppose we generate 1000 numbers between 0 and 1. "
   ]
  },
  {
   "cell_type": "code",
   "execution_count": null,
   "id": "bfaded3b",
   "metadata": {},
   "outputs": [],
   "source": [
    "t = np.random.random(1000)"
   ]
  },
  {
   "cell_type": "markdown",
   "id": "c69d3eec",
   "metadata": {
    "collapsed": true
   },
   "source": [
    "Plot their PMF.\n",
    "What goes wrong? Now plot the CDF.\n",
    "Is the distribution uniform?"
   ]
  },
  {
   "cell_type": "code",
   "execution_count": null,
   "id": "8122cccd",
   "metadata": {},
   "outputs": [],
   "source": [
    "# Solution\n",
    "\n",
    "pmf = Pmf.from_seq(t, name=\"random\")\n",
    "pmf.plot()\n",
    "decorate(xlabel=\"Random variate\", ylabel=\"PMF\")"
   ]
  },
  {
   "cell_type": "code",
   "execution_count": null,
   "id": "2624762e",
   "metadata": {},
   "outputs": [],
   "source": [
    "# Solution\n",
    "\n",
    "cdf = Cdf.from_seq(t, name=\"random\")\n",
    "cdf.plot()\n",
    "decorate(xlabel=\"Random variate\", ylabel=\"CDF\")"
   ]
  },
  {
   "cell_type": "code",
   "execution_count": null,
   "id": "6b80680d",
   "metadata": {},
   "outputs": [],
   "source": []
  }
 ],
 "metadata": {
  "kernelspec": {
   "display_name": "Python 3 (ipykernel)",
   "language": "python",
   "name": "python3"
  },
  "language_info": {
   "codemirror_mode": {
    "name": "ipython",
    "version": 3
   },
   "file_extension": ".py",
   "mimetype": "text/x-python",
   "name": "python",
   "nbconvert_exporter": "python",
   "pygments_lexer": "ipython3",
   "version": "3.10.14"
  }
 },
 "nbformat": 4,
 "nbformat_minor": 5
}
