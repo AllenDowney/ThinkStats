{
 "cells": [
  {
   "cell_type": "markdown",
   "id": "79cfee17",
   "metadata": {},
   "source": [
    "# The Variability Hypothesis\n",
    "\n",
    "The [variability hypothesis](https://en.wikipedia.org/wiki/Variability_hypothesis) is the theory that males are generally more variable than females in both physical and psychological traits.\n",
    "It is a controversial claim, to put it mildly.\n",
    "\n",
    "As a quick exploration of the topic -- and a demonstration of bootstrap resampling -- let's see whether men are more variable than women in height.\n",
    "We'll use the 2022 dataset from the Behavioral Risk Factor Surveillance System (BRFSS), which  includes self-reported heights and weights for more than 400,000 respondents."
   ]
  },
  {
   "cell_type": "code",
   "execution_count": 1,
   "id": "7f41c5c5",
   "metadata": {},
   "outputs": [],
   "source": [
    "try:\n",
    "    import empiricaldist\n",
    "except ImportError:\n",
    "    !pip install empiricaldist"
   ]
  },
  {
   "cell_type": "code",
   "execution_count": 2,
   "id": "c826e189",
   "metadata": {},
   "outputs": [],
   "source": [
    "import numpy as np\n",
    "import pandas as pd\n",
    "import matplotlib.pyplot as plt\n",
    "\n",
    "np.random.seed(42)\n",
    "plt.rcParams[\"figure.dpi\"] = 75\n",
    "plt.rcParams[\"figure.figsize\"] = [6, 3.5]"
   ]
  },
  {
   "cell_type": "markdown",
   "id": "f963284a",
   "metadata": {},
   "source": [
    "## Data\n",
    "\n",
    "The following function reads the data in an SAS export format, downloaded from the [BRFSS website](https://www.cdc.gov/brfss/annual_data/annual_2022.html) on August 1, 2024.\n",
    "It selects the columns we'll use and writes the much smaller excerpt to an HDF file."
   ]
  },
  {
   "cell_type": "code",
   "execution_count": 3,
   "id": "951bfee7",
   "metadata": {},
   "outputs": [],
   "source": [
    "def write_hdf():\n",
    "    \"\"\"Read the SAS export file and write an HDF file.\"\"\"\n",
    "    brfss = pd.read_sas(\"LLCP2022.XPT.gz\")\n",
    "    columns = [\"_SEX\", \"HTM4\", \"WTKG3\", \"_LLCPWT\"]\n",
    "    brfss[columns].to_hdf(\"LLCP2022.hdf5\", key=\"brfss\", complevel=6)"
   ]
  },
  {
   "cell_type": "markdown",
   "id": "063ab19a",
   "metadata": {},
   "source": [
    "Rather than download the whole dataset, we can get just the excerpt."
   ]
  },
  {
   "cell_type": "code",
   "execution_count": 4,
   "id": "d079e1cc",
   "metadata": {},
   "outputs": [],
   "source": [
    "from os.path import basename, exists\n",
    "\n",
    "\n",
    "def download(url):\n",
    "    filename = basename(url)\n",
    "    if not exists(filename):\n",
    "        from urllib.request import urlretrieve\n",
    "\n",
    "        local, _ = urlretrieve(url, filename)\n",
    "        print(\"Downloaded \" + local)\n",
    "\n",
    "\n",
    "download(\"https://github.com/AllenDowney/ThinkStats/raw/v3/data/LLCP2022.hdf5\")"
   ]
  },
  {
   "cell_type": "markdown",
   "id": "61e48c92",
   "metadata": {},
   "source": [
    "Here are the first few rows."
   ]
  },
  {
   "cell_type": "code",
   "execution_count": 5,
   "id": "5604c77c",
   "metadata": {},
   "outputs": [
    {
     "data": {
      "text/html": [
       "<div>\n",
       "<style scoped>\n",
       "    .dataframe tbody tr th:only-of-type {\n",
       "        vertical-align: middle;\n",
       "    }\n",
       "\n",
       "    .dataframe tbody tr th {\n",
       "        vertical-align: top;\n",
       "    }\n",
       "\n",
       "    .dataframe thead th {\n",
       "        text-align: right;\n",
       "    }\n",
       "</style>\n",
       "<table border=\"1\" class=\"dataframe\">\n",
       "  <thead>\n",
       "    <tr style=\"text-align: right;\">\n",
       "      <th></th>\n",
       "      <th>_SEX</th>\n",
       "      <th>HTM4</th>\n",
       "      <th>WTKG3</th>\n",
       "      <th>_LLCPWT</th>\n",
       "    </tr>\n",
       "  </thead>\n",
       "  <tbody>\n",
       "    <tr>\n",
       "      <th>count</th>\n",
       "      <td>445132.000000</td>\n",
       "      <td>416480.000000</td>\n",
       "      <td>403054.000000</td>\n",
       "      <td>445132.000000</td>\n",
       "    </tr>\n",
       "    <tr>\n",
       "      <th>mean</th>\n",
       "      <td>1.529942</td>\n",
       "      <td>170.269057</td>\n",
       "      <td>8307.447039</td>\n",
       "      <td>594.856344</td>\n",
       "    </tr>\n",
       "    <tr>\n",
       "      <th>std</th>\n",
       "      <td>0.499103</td>\n",
       "      <td>10.717750</td>\n",
       "      <td>2144.817270</td>\n",
       "      <td>1134.837415</td>\n",
       "    </tr>\n",
       "    <tr>\n",
       "      <th>min</th>\n",
       "      <td>1.000000</td>\n",
       "      <td>91.000000</td>\n",
       "      <td>2268.000000</td>\n",
       "      <td>0.020464</td>\n",
       "    </tr>\n",
       "    <tr>\n",
       "      <th>25%</th>\n",
       "      <td>1.000000</td>\n",
       "      <td>163.000000</td>\n",
       "      <td>6804.000000</td>\n",
       "      <td>115.885991</td>\n",
       "    </tr>\n",
       "    <tr>\n",
       "      <th>50%</th>\n",
       "      <td>2.000000</td>\n",
       "      <td>170.000000</td>\n",
       "      <td>8074.000000</td>\n",
       "      <td>274.632388</td>\n",
       "    </tr>\n",
       "    <tr>\n",
       "      <th>75%</th>\n",
       "      <td>2.000000</td>\n",
       "      <td>178.000000</td>\n",
       "      <td>9525.000000</td>\n",
       "      <td>627.913694</td>\n",
       "    </tr>\n",
       "    <tr>\n",
       "      <th>max</th>\n",
       "      <td>2.000000</td>\n",
       "      <td>241.000000</td>\n",
       "      <td>29257.000000</td>\n",
       "      <td>54390.520926</td>\n",
       "    </tr>\n",
       "  </tbody>\n",
       "</table>\n",
       "</div>"
      ],
      "text/plain": [
       "                _SEX           HTM4          WTKG3        _LLCPWT\n",
       "count  445132.000000  416480.000000  403054.000000  445132.000000\n",
       "mean        1.529942     170.269057    8307.447039     594.856344\n",
       "std         0.499103      10.717750    2144.817270    1134.837415\n",
       "min         1.000000      91.000000    2268.000000       0.020464\n",
       "25%         1.000000     163.000000    6804.000000     115.885991\n",
       "50%         2.000000     170.000000    8074.000000     274.632388\n",
       "75%         2.000000     178.000000    9525.000000     627.913694\n",
       "max         2.000000     241.000000   29257.000000   54390.520926"
      ]
     },
     "execution_count": 5,
     "metadata": {},
     "output_type": "execute_result"
    }
   ],
   "source": [
    "brfss = pd.read_hdf(\"LLCP2022.hdf5\", key=\"brfss\")\n",
    "brfss.describe()"
   ]
  },
  {
   "cell_type": "markdown",
   "id": "fc6704e0",
   "metadata": {},
   "source": [
    "The dataset includes self-reported heights for almost 200,000 mean and almost 220,000 women.\n",
    "Here are numbers of males and females with the shortest recorded heights."
   ]
  },
  {
   "cell_type": "code",
   "execution_count": 6,
   "id": "ddd5c8ea",
   "metadata": {},
   "outputs": [
    {
     "data": {
      "text/html": [
       "<div>\n",
       "<style scoped>\n",
       "    .dataframe tbody tr th:only-of-type {\n",
       "        vertical-align: middle;\n",
       "    }\n",
       "\n",
       "    .dataframe tbody tr th {\n",
       "        vertical-align: top;\n",
       "    }\n",
       "\n",
       "    .dataframe thead th {\n",
       "        text-align: right;\n",
       "    }\n",
       "</style>\n",
       "<table border=\"1\" class=\"dataframe\">\n",
       "  <thead>\n",
       "    <tr style=\"text-align: right;\">\n",
       "      <th></th>\n",
       "      <th>Male</th>\n",
       "      <th>Female</th>\n",
       "    </tr>\n",
       "    <tr>\n",
       "      <th>HTM4</th>\n",
       "      <th></th>\n",
       "      <th></th>\n",
       "    </tr>\n",
       "  </thead>\n",
       "  <tbody>\n",
       "    <tr>\n",
       "      <th>91.0</th>\n",
       "      <td>7</td>\n",
       "      <td>17</td>\n",
       "    </tr>\n",
       "    <tr>\n",
       "      <th>92.0</th>\n",
       "      <td>0</td>\n",
       "      <td>1</td>\n",
       "    </tr>\n",
       "    <tr>\n",
       "      <th>95.0</th>\n",
       "      <td>1</td>\n",
       "      <td>0</td>\n",
       "    </tr>\n",
       "    <tr>\n",
       "      <th>97.0</th>\n",
       "      <td>1</td>\n",
       "      <td>3</td>\n",
       "    </tr>\n",
       "    <tr>\n",
       "      <th>99.0</th>\n",
       "      <td>1</td>\n",
       "      <td>0</td>\n",
       "    </tr>\n",
       "  </tbody>\n",
       "</table>\n",
       "</div>"
      ],
      "text/plain": [
       "      Male  Female\n",
       "HTM4              \n",
       "91.0     7      17\n",
       "92.0     0       1\n",
       "95.0     1       0\n",
       "97.0     1       3\n",
       "99.0     1       0"
      ]
     },
     "execution_count": 6,
     "metadata": {},
     "output_type": "execute_result"
    }
   ],
   "source": [
    "xtab = pd.crosstab(brfss[\"HTM4\"], brfss[\"_SEX\"])\n",
    "xtab.columns = [\"Male\", \"Female\"]\n",
    "xtab.head()"
   ]
  },
  {
   "cell_type": "markdown",
   "id": "22e1be0d",
   "metadata": {},
   "source": [
    "And the tallest recorded heights."
   ]
  },
  {
   "cell_type": "code",
   "execution_count": 7,
   "id": "d1f6676d",
   "metadata": {},
   "outputs": [
    {
     "data": {
      "text/html": [
       "<div>\n",
       "<style scoped>\n",
       "    .dataframe tbody tr th:only-of-type {\n",
       "        vertical-align: middle;\n",
       "    }\n",
       "\n",
       "    .dataframe tbody tr th {\n",
       "        vertical-align: top;\n",
       "    }\n",
       "\n",
       "    .dataframe thead th {\n",
       "        text-align: right;\n",
       "    }\n",
       "</style>\n",
       "<table border=\"1\" class=\"dataframe\">\n",
       "  <thead>\n",
       "    <tr style=\"text-align: right;\">\n",
       "      <th></th>\n",
       "      <th>Male</th>\n",
       "      <th>Female</th>\n",
       "    </tr>\n",
       "    <tr>\n",
       "      <th>HTM4</th>\n",
       "      <th></th>\n",
       "      <th></th>\n",
       "    </tr>\n",
       "  </thead>\n",
       "  <tbody>\n",
       "    <tr>\n",
       "      <th>226.0</th>\n",
       "      <td>9</td>\n",
       "      <td>2</td>\n",
       "    </tr>\n",
       "    <tr>\n",
       "      <th>229.0</th>\n",
       "      <td>4</td>\n",
       "      <td>1</td>\n",
       "    </tr>\n",
       "    <tr>\n",
       "      <th>234.0</th>\n",
       "      <td>4</td>\n",
       "      <td>0</td>\n",
       "    </tr>\n",
       "    <tr>\n",
       "      <th>236.0</th>\n",
       "      <td>1</td>\n",
       "      <td>0</td>\n",
       "    </tr>\n",
       "    <tr>\n",
       "      <th>241.0</th>\n",
       "      <td>4</td>\n",
       "      <td>1</td>\n",
       "    </tr>\n",
       "  </tbody>\n",
       "</table>\n",
       "</div>"
      ],
      "text/plain": [
       "       Male  Female\n",
       "HTM4               \n",
       "226.0     9       2\n",
       "229.0     4       1\n",
       "234.0     4       0\n",
       "236.0     1       0\n",
       "241.0     4       1"
      ]
     },
     "execution_count": 7,
     "metadata": {},
     "output_type": "execute_result"
    }
   ],
   "source": [
    "xtab.tail()"
   ]
  },
  {
   "cell_type": "markdown",
   "id": "e9085262",
   "metadata": {},
   "source": [
    "According to the [codebook](https://www.cdc.gov/brfss/annual_data/2022/pdf/2022-calculated-variables-version4-508.pdf), heights below 91 cm are set to 91 cm, and heights above 241 cm are set to 241 cm.\n",
    "Even so, some of the remaining values are likely to be errors.\n",
    "For example, the current tallest woman in the world is 234 cm, so the largest female height in the dataset, 241 cm, was probably reported or recorded incorrectly."
   ]
  },
  {
   "cell_type": "markdown",
   "id": "525ce5d5",
   "metadata": {},
   "source": [
    "To draw a bootstrap sample from this `DataFrame`, we'll use the following function."
   ]
  },
  {
   "cell_type": "code",
   "execution_count": 8,
   "id": "8918c1ea",
   "metadata": {},
   "outputs": [],
   "source": [
    "def resample(df):\n",
    "    \"\"\"Draw a bootstrap sample.\n",
    "\n",
    "    df: DataFrame\n",
    "\n",
    "    returns: DataFrame\n",
    "    \"\"\"\n",
    "    n = len(df)\n",
    "    return df.sample(n, replace=True, weights=\"_LLCPWT\")"
   ]
  },
  {
   "cell_type": "markdown",
   "id": "3bf18cf4",
   "metadata": {},
   "source": [
    "Here's a single sample we'll use for testing."
   ]
  },
  {
   "cell_type": "code",
   "execution_count": 9,
   "id": "29731aff",
   "metadata": {},
   "outputs": [],
   "source": [
    "sample = resample(brfss)"
   ]
  },
  {
   "cell_type": "markdown",
   "id": "211755b1",
   "metadata": {},
   "source": [
    "## Difference in means\n",
    "\n",
    "Before we test whether men are more variable than women, let's warm up by confirming that men are taller than women, on average.\n",
    "We'll use bootstrap resampling to estimate the sampling distribution of the difference in means.\n",
    "The following is a utility function that computes the difference between the first two elements of a sequence."
   ]
  },
  {
   "cell_type": "code",
   "execution_count": 10,
   "id": "30222baf",
   "metadata": {},
   "outputs": [],
   "source": [
    "def diff(seq):\n",
    "    \"\"\"Difference between the first two elements of a sequence.\n",
    "\n",
    "    seq: sequence\n",
    "\n",
    "    returns: float\n",
    "    \"\"\"\n",
    "    return np.diff(seq)[0]"
   ]
  },
  {
   "cell_type": "markdown",
   "id": "04b2819e",
   "metadata": {},
   "source": [
    "We'll use it to compute the difference in means in a sample, which is the \"test statistic\".\n"
   ]
  },
  {
   "cell_type": "code",
   "execution_count": 11,
   "id": "113a01af",
   "metadata": {},
   "outputs": [],
   "source": [
    "def diff_means(sample):\n",
    "    \"\"\"Difference in average height (M minus F).\n",
    "\n",
    "    sample: DataFrame with _SEX and HTM4 columns\n",
    "\n",
    "    returns: float\n",
    "    \"\"\"\n",
    "    grouped_heights = sample.groupby(\"_SEX\")[\"HTM4\"]\n",
    "    return -diff(grouped_heights.mean())"
   ]
  },
  {
   "cell_type": "markdown",
   "id": "eaf2184c",
   "metadata": {},
   "source": [
    "The difference is defined so a positive value indicates that men are taller.\n",
    "Here an example using the bootstrapped sample."
   ]
  },
  {
   "cell_type": "code",
   "execution_count": 12,
   "id": "7c63d1ca",
   "metadata": {},
   "outputs": [
    {
     "data": {
      "text/plain": [
       "14.455796580284954"
      ]
     },
     "execution_count": 12,
     "metadata": {},
     "output_type": "execute_result"
    }
   ],
   "source": [
    "diff_means(sample)"
   ]
  },
  {
   "cell_type": "markdown",
   "id": "598962c5",
   "metadata": {},
   "source": [
    "Men are about 14 cm taller than women, on average.\n",
    "\n",
    "The following function takes a `DataFrame` and a function that computes a test statistic.\n",
    "It runs resample many times, computes the test statistic for each sample, and returns a list of test statistics."
   ]
  },
  {
   "cell_type": "code",
   "execution_count": 13,
   "id": "7bdf5b7f",
   "metadata": {},
   "outputs": [],
   "source": [
    "def sampling_dist(df, test_stat, iters=201):\n",
    "    \"\"\"Generate bootstrap samples and compute test statistic.\n",
    "\n",
    "    df: DataFrame\n",
    "    test_stat: function that takes a DataFrame\n",
    "    iters: number of samples\n",
    "\n",
    "    returns: list of float\n",
    "    \"\"\"\n",
    "    return [test_stat(resample(df)) for i in range(iters)]"
   ]
  },
  {
   "cell_type": "markdown",
   "id": "96039351",
   "metadata": {},
   "source": [
    "Here's how we call it.\n",
    "The result is a sample from the sampling distribution of differences in means."
   ]
  },
  {
   "cell_type": "code",
   "execution_count": 14,
   "id": "cd1e0754",
   "metadata": {},
   "outputs": [
    {
     "data": {
      "text/plain": [
       "14.433755828000592"
      ]
     },
     "execution_count": 14,
     "metadata": {},
     "output_type": "execute_result"
    }
   ],
   "source": [
    "t1 = sampling_dist(brfss, diff_means)\n",
    "np.mean(t1)"
   ]
  },
  {
   "cell_type": "markdown",
   "id": "e1f567c5",
   "metadata": {},
   "source": [
    "The following function uses KDE to estimate the density of the sampling distribution, uses the estimated density to compute a confidence interval, and generates a plot that shows the sampling distribution, the mean, and the 95% CI."
   ]
  },
  {
   "cell_type": "code",
   "execution_count": 15,
   "id": "f5ddfd23",
   "metadata": {},
   "outputs": [],
   "source": [
    "from scipy.stats import gaussian_kde\n",
    "from empiricaldist import Pmf\n",
    "\n",
    "\n",
    "def plot_sampling_distribution(data, format_str=\".2f\", **options):\n",
    "    \"\"\"Plot the sampling distribution, mean and CI\n",
    "\n",
    "    data: sample from the sampling distribution\n",
    "    format_str: used to format the values\n",
    "    options: passed to plt.plot\n",
    "    \"\"\"\n",
    "    # compute the mean and CI\n",
    "    m, s = np.mean(data), np.std(data)\n",
    "    qs = np.linspace(m - 4 * s, m + 4 * s, 501)\n",
    "    ps = gaussian_kde(data)(qs)\n",
    "    pmf = Pmf(ps, qs)\n",
    "    pmf.normalize()\n",
    "    low, high = pmf.make_cdf().inverse([0.025, 0.975])\n",
    "\n",
    "    # plot the density\n",
    "    pmf.plot(**options)\n",
    "    inside = pmf[(pmf.qs >= low) & (pmf.qs <= high)]\n",
    "    plt.fill_between(inside.index, inside, color=\"gray\", alpha=0.2)\n",
    "\n",
    "    y = pmf.max()\n",
    "    ax = plt.gca()\n",
    "\n",
    "    # add text and lines\n",
    "    plt.text(m, 0.4 * y, \"mean\", fontsize=14, ha=\"center\")\n",
    "    plt.text(m, 0.05 * y, f\"95% CI\", fontsize=14, ha=\"center\")\n",
    "    plt.plot([m, m], [0, y], ls=\":\", color=\"gray\")\n",
    "    plt.plot([low, high], [0, 0], ls=\"-\", color=\"gray\")\n",
    "\n",
    "    # adjust xticks\n",
    "    ticks = [low, m, high]\n",
    "    labels = [format(tick, format_str) for tick in ticks]\n",
    "    ax.tick_params(axis=\"x\", labelsize=14)\n",
    "    plt.xticks(ticks, labels)\n",
    "    plt.yticks([])\n",
    "\n",
    "    # remove spines\n",
    "    for spine in ax.spines.values():\n",
    "        spine.set_visible(False)"
   ]
  },
  {
   "cell_type": "markdown",
   "id": "3d497319",
   "metadata": {},
   "source": [
    "Here are the results for the sampling distribution of the difference in means."
   ]
  },
  {
   "cell_type": "code",
   "execution_count": 16,
   "id": "c832e649",
   "metadata": {},
   "outputs": [
    {
     "data": {
      "image/png": "[encoded data removed]",
      "text/plain": [
       "<Figure size 450x262.5 with 1 Axes>"
      ]
     },
     "metadata": {},
     "output_type": "display_data"
    }
   ],
   "source": [
    "plot_sampling_distribution(t1)\n",
    "plt.title(\"Difference in means (cm)\", fontsize=14)\n",
    "plt.tight_layout()\n",
    "plt.savefig(\"variability1.png\", dpi=300)"
   ]
  },
  {
   "cell_type": "markdown",
   "id": "c945c831",
   "metadata": {},
   "source": [
    "The difference in means is about 14.4 cm.\n",
    "If we simulate the data collection process and compute the difference in means many times, it varies a little, but it is never close to zero.\n",
    "\n",
    "The following function estimates the probability that a value from this distribution exceeds 0, which is the p-value for the hypothesis that men are taller than women on average."
   ]
  },
  {
   "cell_type": "code",
   "execution_count": 17,
   "id": "5a6ac8a9",
   "metadata": {},
   "outputs": [],
   "source": [
    "from scipy.stats import norm\n",
    "\n",
    "\n",
    "def p_value(t):\n",
    "    m, s = np.mean(t), np.std(t)\n",
    "    if m > 0:\n",
    "        return norm.cdf(0, m, s)\n",
    "    else:\n",
    "        return norm.sf(0, m, s)"
   ]
  },
  {
   "cell_type": "markdown",
   "id": "444ba3ca",
   "metadata": {},
   "source": [
    "The p-value is so close to zero we can't compute it with floating-point arithmetic, which means it is truly negligible."
   ]
  },
  {
   "cell_type": "code",
   "execution_count": 18,
   "id": "8297e5ac",
   "metadata": {},
   "outputs": [
    {
     "data": {
      "text/plain": [
       "0.0"
      ]
     },
     "execution_count": 18,
     "metadata": {},
     "output_type": "execute_result"
    }
   ],
   "source": [
    "p_value(t1)"
   ]
  },
  {
   "cell_type": "markdown",
   "id": "5d954799",
   "metadata": {},
   "source": [
    "This result means that if we collect another sample this size from the same population, it is practically impossible that the women in the sample would be taller, on average.\n",
    "\n",
    "To go a step farther, we can reasonably conclude that the difference we see in the sample is very unlikely to have occurred by chance.\n",
    "Some people who interpret hypothesis tests very formally don't like that conclusion, but [I stand by it](https://allendowney.blogspot.com/2015/05/hypothesis-testing-is-only-mostly.html)."
   ]
  },
  {
   "cell_type": "markdown",
   "id": "eb1e7e20",
   "metadata": {},
   "source": [
    "## Difference in standard deviations\n",
    "\n",
    "OK, now let's get serious.\n",
    "If men are more variable than women, we expect the standard deviation of their heights to be higher.\n",
    "To see if it is, all we have to do is provide a function that takes a sample and computes the difference in standard deviations."
   ]
  },
  {
   "cell_type": "code",
   "execution_count": 19,
   "id": "3edd6560",
   "metadata": {},
   "outputs": [],
   "source": [
    "def diff_stds(sample):\n",
    "    \"\"\"Difference in standard deviation (M minus female)\n",
    "\n",
    "    sample: DataFrame with `_SEX` and `HTM4` columns\n",
    "\n",
    "    returns: float\n",
    "    \"\"\"\n",
    "    grouped_heights = sample.groupby(\"_SEX\")[\"HTM4\"]\n",
    "    return -diff(grouped_heights.std())"
   ]
  },
  {
   "cell_type": "markdown",
   "id": "8e90938c",
   "metadata": {},
   "source": [
    "Based on a single resampling, is looks like the standard deviation of heights is higher for men."
   ]
  },
  {
   "cell_type": "code",
   "execution_count": 20,
   "id": "2f486817",
   "metadata": {},
   "outputs": [
    {
     "data": {
      "text/plain": [
       "0.7755433526023632"
      ]
     },
     "execution_count": 20,
     "metadata": {},
     "output_type": "execute_result"
    }
   ],
   "source": [
    "diff_stds(sample)"
   ]
  },
  {
   "cell_type": "markdown",
   "id": "928463eb",
   "metadata": {},
   "source": [
    "We can use `sampling_dist` again with a different test statistic."
   ]
  },
  {
   "cell_type": "code",
   "execution_count": null,
   "id": "205f4c52",
   "metadata": {},
   "outputs": [],
   "source": [
    "t2 = sampling_dist(brfss, diff_stds)\n",
    "np.mean(t2)"
   ]
  },
  {
   "cell_type": "markdown",
   "id": "6602acb1",
   "metadata": {},
   "source": [
    "Here's the sampling distribution with its mean and 95% CI."
   ]
  },
  {
   "cell_type": "code",
   "execution_count": null,
   "id": "dda1d695",
   "metadata": {},
   "outputs": [],
   "source": [
    "plot_sampling_distribution(t2)\n",
    "plt.title(\"Difference in standard deviation (cm)\", fontsize=14)\n",
    "plt.tight_layout()\n",
    "plt.savefig(\"variability2.png\", dpi=300)"
   ]
  },
  {
   "cell_type": "markdown",
   "id": "224b0b0a",
   "metadata": {},
   "source": [
    "The 95% CI does not contain zero, which indicates that the difference is significant at the 5% level.\n",
    "Assuming that the tails of the distribution drop off like the tails of a normal distribution, we can estimate the p-value like this."
   ]
  },
  {
   "cell_type": "code",
   "execution_count": null,
   "id": "6ee81655",
   "metadata": {},
   "outputs": [],
   "source": [
    "p_value(t2)"
   ]
  },
  {
   "cell_type": "markdown",
   "id": "e3fcbb8c",
   "metadata": {},
   "source": [
    "This p-value is just barely big enough to compute, but still so small we can conclude that the apparent difference is very unlikely to be due to chance.\n",
    "\n",
    "However, comparing standard deviations might not be a sensible way to assess whether men are more variable.\n",
    "Men are taller, on average, so if their heights vary more in absolute terms, that's doesn't necessarily means that they vary more in relative terms.\n",
    "If we think that variation relative to the mean is more relevant to the variability hypothesis, another test statistic to consider is the coefficient of variation."
   ]
  },
  {
   "cell_type": "markdown",
   "id": "6c60a1b1",
   "metadata": {},
   "source": [
    "## Difference in coefficient of variation\n",
    "\n",
    "The coefficient of variation is the ratio of the standard deviation to the mean, so it quantifies variability in relative terms.\n",
    "Here's a function that takes a sample and computes the difference in coefficients of variation for men and women."
   ]
  },
  {
   "cell_type": "code",
   "execution_count": null,
   "id": "a6c75317",
   "metadata": {},
   "outputs": [],
   "source": [
    "def diff_cvs(sample):\n",
    "    \"\"\"Difference in CV (M minus female)\n",
    "\n",
    "    sample: DataFrame with `_SEX` and `HTM4` columns\n",
    "\n",
    "    returns: float\n",
    "    \"\"\"\n",
    "    grouped_heights = sample.groupby(\"_SEX\")[\"HTM4\"]\n",
    "    means = grouped_heights.mean()\n",
    "    stds = grouped_heights.std()\n",
    "    return -diff(stds / means)"
   ]
  },
  {
   "cell_type": "markdown",
   "id": "057b4718",
   "metadata": {},
   "source": [
    "And here's a sample from the sampling distribution of the differences."
   ]
  },
  {
   "cell_type": "code",
   "execution_count": null,
   "id": "0dd1b2c3",
   "metadata": {},
   "outputs": [],
   "source": [
    "t3 = sampling_dist(brfss, diff_cvs)\n",
    "np.mean(t3)"
   ]
  },
  {
   "cell_type": "markdown",
   "id": "ea53c8c0",
   "metadata": {},
   "source": [
    "Here's the sampling distribution and a 95% CI."
   ]
  },
  {
   "cell_type": "code",
   "execution_count": null,
   "id": "c1b6b572",
   "metadata": {},
   "outputs": [],
   "source": [
    "plot_sampling_distribution(t3, format_str=\"0.4f\")\n",
    "plt.title(\"Difference in coefficient of variation\", fontsize=14)\n",
    "plt.tight_layout()\n",
    "plt.savefig(\"variability3.png\", dpi=300)"
   ]
  },
  {
   "cell_type": "markdown",
   "id": "b2cb0e51",
   "metadata": {},
   "source": [
    "The CI does not contain zero, so the difference is statistically significant.\n",
    "And the p-value is small."
   ]
  },
  {
   "cell_type": "code",
   "execution_count": null,
   "id": "65482d34",
   "metadata": {},
   "outputs": [],
   "source": [
    "p_value(t3)"
   ]
  },
  {
   "cell_type": "markdown",
   "id": "3a63cdb2",
   "metadata": {},
   "source": [
    "But in practical terms, the difference is very small.\n",
    "The coefficients of variations are about 0.048."
   ]
  },
  {
   "cell_type": "code",
   "execution_count": null,
   "id": "931933ec",
   "metadata": {},
   "outputs": [],
   "source": [
    "grouped_heights = sample.groupby(\"_SEX\")[\"HTM4\"]\n",
    "means = grouped_heights.mean()\n",
    "stds = grouped_heights.std()\n",
    "CVs = stds / means\n",
    "CVs"
   ]
  },
  {
   "cell_type": "markdown",
   "id": "1aa99f62",
   "metadata": {},
   "source": [
    "If we express the difference in CVs and a percentage of the CVs, it is only about 1.4%."
   ]
  },
  {
   "cell_type": "code",
   "execution_count": null,
   "id": "c04a9ab9",
   "metadata": {},
   "outputs": [],
   "source": [
    "np.mean(t3) / CVs * 100"
   ]
  },
  {
   "cell_type": "markdown",
   "id": "3f95fd28",
   "metadata": {},
   "source": [
    "By this measure of variability, men's heights are slightly more variable than women's, but the difference is so small, it is unlikely to have any practical consequences.\n",
    "\n",
    "Also, both standard deviation and coefficient of variation are affected by outliers, and we have seen that there are extreme values in this dataset that are probably not correct.\n",
    "It's possible that the apparent difference in variability, by these test statistics, is the result of data errors.\n",
    "\n",
    "So let's try again with a more robust statistic."
   ]
  },
  {
   "cell_type": "markdown",
   "id": "b8d006a3",
   "metadata": {},
   "source": [
    "## Difference in robust CV\n",
    "\n",
    "As an alternative to the coefficient of variation, we can use a more robust measure of variability.\n",
    "One option is the ratio of the median absolute deviation (MAD) to the median.\n",
    "Here's a function that computes it."
   ]
  },
  {
   "cell_type": "code",
   "execution_count": null,
   "id": "57f2ae02",
   "metadata": {},
   "outputs": [],
   "source": [
    "def robust_cv(series):\n",
    "    \"\"\"Median absolute deviation.\n",
    "\n",
    "    series: Series of numbers\n",
    "\n",
    "    returns: float\n",
    "    \"\"\"\n",
    "    m = series.median()\n",
    "    deviations = series - m\n",
    "    return deviations.abs().median() / m"
   ]
  },
  {
   "cell_type": "markdown",
   "id": "9d631311",
   "metadata": {},
   "source": [
    "The following function computes the difference in robust CVs.\n",
    "The first line jitters the data -- otherwise we would get the same results from every resampling."
   ]
  },
  {
   "cell_type": "code",
   "execution_count": null,
   "id": "3bacac95",
   "metadata": {},
   "outputs": [],
   "source": [
    "def diff_robust_cv(sample):\n",
    "    \"\"\"Difference in robust CV (M minus female)\n",
    "\n",
    "    sample: DataFrame with `_SEX` and `HTM4` columns\n",
    "\n",
    "    returns: float\n",
    "    \"\"\"\n",
    "    sample[\"HTM4\"] += np.random.normal(0, 1, size=len(sample))\n",
    "    grouped_heights = sample.groupby(\"_SEX\")[\"HTM4\"]\n",
    "    rcvs = grouped_heights.apply(robust_cv)\n",
    "    return -diff(rcvs)"
   ]
  },
  {
   "cell_type": "markdown",
   "id": "97da99d8",
   "metadata": {},
   "source": [
    "The robust CV of the sample is negative, which suggests that women's heights are more variable."
   ]
  },
  {
   "cell_type": "code",
   "execution_count": null,
   "id": "a86e4487",
   "metadata": {},
   "outputs": [],
   "source": [
    "diff_robust_cv(sample)"
   ]
  },
  {
   "cell_type": "markdown",
   "id": "7412f107",
   "metadata": {},
   "source": [
    "Here's the sampling distribution."
   ]
  },
  {
   "cell_type": "code",
   "execution_count": null,
   "id": "6549a7da",
   "metadata": {},
   "outputs": [],
   "source": [
    "t4 = sampling_dist(brfss, diff_robust_cv)\n",
    "np.mean(t4)"
   ]
  },
  {
   "cell_type": "code",
   "execution_count": null,
   "id": "3899312b",
   "metadata": {},
   "outputs": [],
   "source": [
    "plot_sampling_distribution(t4, format_str=\"0.4f\")\n",
    "plt.title(\"Difference in robust CV\", fontsize=14)\n",
    "plt.tight_layout()\n",
    "plt.savefig(\"variability4.png\", dpi=300)"
   ]
  },
  {
   "cell_type": "markdown",
   "id": "e9c86da0",
   "metadata": {},
   "source": [
    "And the p-value."
   ]
  },
  {
   "cell_type": "code",
   "execution_count": null,
   "id": "01b5126c",
   "metadata": {},
   "outputs": [],
   "source": [
    "p_value(t4)"
   ]
  },
  {
   "cell_type": "markdown",
   "id": "382b79e6",
   "metadata": {},
   "source": [
    "According to the robust CV, women are more variable, but again the difference is so small it has no practical consequences."
   ]
  },
  {
   "cell_type": "markdown",
   "id": "549a064e",
   "metadata": {},
   "source": [
    "## Discussion\n",
    "\n",
    "This example demonstrates a strength of bootstrap resampling -- it is easy to explore multiple test statistics and consider which is most relevant to the hypothesis in question.\n",
    "\n",
    "* If we compare standard deviations of height, men are more variable, but that's not too surprising -- men are taller, and almost any process that makes bigger things probably makes more variable things, too.\n",
    "\n",
    "* Coefficient of variation might be a better way to compare things with different sizes. By that standard, men are still slightly more variable, but the difference is so small, it's hard to imagine it has any practical consequences.\n",
    "\n",
    "* And it might be an artifact of errors in the data. If we use a robust alternative to the coefficient of variation -- MAD divided by median -- women are more variable. But again, it is probably not a difference that makes a difference.\n",
    "\n",
    "In conclusion, the distribution of human height doesn't provide much support for the variability hypothesis."
   ]
  },
  {
   "cell_type": "markdown",
   "id": "3d1a680a",
   "metadata": {},
   "source": [
    "## Difference in IQR / median\n",
    "\n",
    "Here's one more robust measure of variability."
   ]
  },
  {
   "cell_type": "code",
   "execution_count": null,
   "id": "7833485c",
   "metadata": {},
   "outputs": [],
   "source": [
    "def diff_relative_iqr(sample):\n",
    "    \"\"\"Difference in IQR / median (M minus female)\n",
    "\n",
    "    sample: DataFrame with `_SEX` and `HTM4` columns\n",
    "\n",
    "    returns: float\n",
    "    \"\"\"\n",
    "    sample[\"HTM4\"] += np.random.normal(0, 1, size=len(sample))\n",
    "    grouped_heights = sample.groupby(\"_SEX\")[\"HTM4\"]\n",
    "    medians = grouped_heights.median()\n",
    "    \n",
    "    # the results depend on which quantiles we use\n",
    "    iqrs = grouped_heights.quantile(0.75) - grouped_heights.quantile(0.25)\n",
    "    #iqrs = grouped_heights.quantile(0.95) - grouped_heights.quantile(0.05)\n",
    "    \n",
    "    return -diff(iqrs / medians)"
   ]
  },
  {
   "cell_type": "code",
   "execution_count": null,
   "id": "c5382c76",
   "metadata": {},
   "outputs": [],
   "source": [
    "diff_relative_iqr(sample)"
   ]
  },
  {
   "cell_type": "code",
   "execution_count": null,
   "id": "1567804a",
   "metadata": {},
   "outputs": [],
   "source": [
    "t5 = sampling_dist(brfss, diff_relative_iqr)\n",
    "np.mean(t5)"
   ]
  },
  {
   "cell_type": "code",
   "execution_count": null,
   "id": "0262f6d2",
   "metadata": {},
   "outputs": [],
   "source": [
    "plot_sampling_distribution(t5, format_str=\"0.4f\")\n",
    "plt.title(\"Difference in IQR / median\", fontsize=14)\n",
    "plt.tight_layout()\n",
    "plt.savefig(\"variability5.png\", dpi=300)"
   ]
  },
  {
   "cell_type": "code",
   "execution_count": null,
   "id": "5879543e",
   "metadata": {},
   "outputs": [],
   "source": [
    "p_value(t5)"
   ]
  }
 ],
 "metadata": {
  "celltoolbar": "Tags",
  "kernelspec": {
   "display_name": "Python 3 (ipykernel)",
   "language": "python",
   "name": "python3"
  },
  "language_info": {
   "codemirror_mode": {
    "name": "ipython",
    "version": 3
   },
   "file_extension": ".py",
   "mimetype": "text/x-python",
   "name": "python",
   "nbconvert_exporter": "python",
   "pygments_lexer": "ipython3",
   "version": "3.10.14"
  }
 },
 "nbformat": 4,
 "nbformat_minor": 5
}
