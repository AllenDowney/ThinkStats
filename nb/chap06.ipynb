{
 "cells": [
  {
   "cell_type": "markdown",
   "id": "83a7c13a",
   "metadata": {},
   "source": [
    "# Probability Density Functions\n",
    "\n",
    "In the previous chapter, we modeled data with theoretical distributions including the binomial, Poisson, exponential, and normal distributions.\n",
    "\n",
    "The binomial and Poisson distributions are **discrete**, which means that the outcomes have to be distinct or separate elements, like an integer number of hits and misses, or goals scored.\n",
    "In a discrete distribution, each outcome is associated with a probability mass.\n",
    "\n",
    "The exponential and normal distribution are **continuous**, which means the outcomes can be locations on a spectrum -- like a wavelength -- or ratios -- like height and weight, which are ratios relative to their units of measure.\n",
    "In a discrete distribution, each outcome is associated with a **probability density**.\n",
    "Probability density is an abstract idea, and many people find it difficult at first, but we'll take it one step at a time.\n",
    "As a first step, let's think again about comparing distributions."
   ]
  },
  {
   "cell_type": "markdown",
   "id": "b2c77a2e",
   "metadata": {
    "tags": []
   },
   "source": [
    "[Click here to run this notebook on Colab](https://colab.research.google.com/github/AllenDowney/ThinkStats/blob/v3/nb/chap06.ipynb)."
   ]
  },
  {
   "cell_type": "code",
   "execution_count": 2,
   "id": "79f64f53",
   "metadata": {
    "tags": []
   },
   "outputs": [],
   "source": [
    "from os.path import basename, exists\n",
    "\n",
    "\n",
    "def download(url):\n",
    "    filename = basename(url)\n",
    "    if not exists(filename):\n",
    "        from urllib.request import urlretrieve\n",
    "\n",
    "        local, _ = urlretrieve(url, filename)\n",
    "        print(\"Downloaded \" + local)\n",
    "\n",
    "\n",
    "download(\"https://github.com/AllenDowney/ThinkStats/raw/v3/nb/thinkstats.py\")"
   ]
  },
  {
   "cell_type": "code",
   "execution_count": 3,
   "id": "3b3d4912",
   "metadata": {
    "tags": []
   },
   "outputs": [],
   "source": [
    "try:\n",
    "    import empiricaldist\n",
    "except ImportError:\n",
    "    !pip install empiricaldist"
   ]
  },
  {
   "cell_type": "code",
   "execution_count": 4,
   "id": "955f8f40",
   "metadata": {
    "tags": []
   },
   "outputs": [],
   "source": [
    "import numpy as np\n",
    "import pandas as pd\n",
    "import matplotlib.pyplot as plt\n",
    "\n",
    "from thinkstats import decorate"
   ]
  },
  {
   "cell_type": "markdown",
   "id": "6f90e9d5",
   "metadata": {},
   "source": [
    "## Comparing Distributions\n",
    "\n",
    "In the previous chapter, when we compared discrete distributions, we used a bar plot to show their probability mass functions (PMFs).\n",
    "When we compared continuous distributions, we used a line plot to show their cumulative distribution functions (CDFs).\n",
    "\n",
    "For the discrete distributions, we could also have used CDFs.\n",
    "For example, here's the PMF of a Poisson distribution with parameter `lam=2.2`, which is a good model for the distribution of household size in the NSFG data."
   ]
  },
  {
   "cell_type": "markdown",
   "id": "b74d4646",
   "metadata": {
    "tags": []
   },
   "source": [
    "The following cells download the data files and install `statadict`, which we need to read the data."
   ]
  },
  {
   "cell_type": "code",
   "execution_count": 5,
   "id": "54c3271b",
   "metadata": {
    "tags": []
   },
   "outputs": [],
   "source": [
    "download(\"https://github.com/AllenDowney/ThinkStats/raw/v3/nb/nsfg.py\")\n",
    "download(\"https://github.com/AllenDowney/ThinkStats/raw/v3/data/2002FemResp.dct\")\n",
    "download(\"https://github.com/AllenDowney/ThinkStats/raw/v3/data/2002FemResp.dat.gz\")"
   ]
  },
  {
   "cell_type": "code",
   "execution_count": 6,
   "id": "366f036d",
   "metadata": {
    "tags": []
   },
   "outputs": [],
   "source": [
    "try:\n",
    "    import statadict\n",
    "except ImportError:\n",
    "    !pip install statadict"
   ]
  },
  {
   "cell_type": "markdown",
   "id": "d668f128",
   "metadata": {},
   "source": [
    "We can use `read_fem_resp` to read the respondent data file."
   ]
  },
  {
   "cell_type": "code",
   "execution_count": 7,
   "id": "06c181f9",
   "metadata": {},
   "outputs": [],
   "source": [
    "from nsfg import read_fem_resp\n",
    "\n",
    "resp = read_fem_resp()"
   ]
  },
  {
   "cell_type": "markdown",
   "id": "3124a1df",
   "metadata": {},
   "source": [
    "Next we'll select household sizes for people 25 and older."
   ]
  },
  {
   "cell_type": "code",
   "execution_count": 8,
   "id": "605099ec",
   "metadata": {},
   "outputs": [],
   "source": [
    "older = resp.query(\"age >= 25\")\n",
    "num_family = older[\"numfmhh\"]"
   ]
  },
  {
   "cell_type": "markdown",
   "id": "1f1c1d7e",
   "metadata": {},
   "source": [
    "And make a `Pmf` that represents the distribution of responses."
   ]
  },
  {
   "cell_type": "code",
   "execution_count": 9,
   "id": "763da396",
   "metadata": {},
   "outputs": [],
   "source": [
    "from empiricaldist import Pmf\n",
    "\n",
    "pmf_family = Pmf.from_seq(num_family, name=\"data\")"
   ]
  },
  {
   "cell_type": "markdown",
   "id": "d9e8c8ad",
   "metadata": {},
   "source": [
    "Here's another `Pmf` that represents a Poisson distribution with the same mean."
   ]
  },
  {
   "cell_type": "code",
   "execution_count": 10,
   "id": "4a4d6062",
   "metadata": {},
   "outputs": [],
   "source": [
    "from thinkstats import poisson_pmf\n",
    "\n",
    "lam = 2.2\n",
    "ks = np.arange(11)\n",
    "ps = poisson_pmf(ks, lam)\n",
    "\n",
    "pmf_poisson = Pmf(ps, ks, name=\"Poisson model\")"
   ]
  },
  {
   "cell_type": "markdown",
   "id": "f4639ed8",
   "metadata": {},
   "source": [
    "And here's how the distribution of the data compares to the Poisson model."
   ]
  },
  {
   "cell_type": "code",
   "execution_count": 11,
   "id": "f70ae409",
   "metadata": {},
   "outputs": [],
   "source": [
    "from thinkstats import two_bar_plots\n",
    "\n",
    "two_bar_plots(pmf_family, pmf_poisson)\n",
    "decorate(xlabel=\"Number of family members\")"
   ]
  },
  {
   "cell_type": "markdown",
   "id": "6bc92687",
   "metadata": {},
   "source": [
    "Comparing the PMFs, we can see that the model fits the data well, but with some deviations.\n",
    "\n",
    "To get a sense of how substantial those deviations are, it can be helpful to compare CDFs.\n",
    "We can use `make_cdf` to compute the CDFs of the data and the model."
   ]
  },
  {
   "cell_type": "code",
   "execution_count": 12,
   "id": "54e8e079",
   "metadata": {},
   "outputs": [],
   "source": [
    "cdf_family = pmf_family.make_cdf()\n",
    "cdf_poisson = pmf_poisson.make_cdf()"
   ]
  },
  {
   "cell_type": "markdown",
   "id": "2fb7ecb4",
   "metadata": {},
   "source": [
    "Here's what they look like."
   ]
  },
  {
   "cell_type": "code",
   "execution_count": 13,
   "id": "001fc097",
   "metadata": {},
   "outputs": [],
   "source": [
    "from thinkstats import two_cdf_plots\n",
    "\n",
    "two_cdf_plots(cdf_poisson, cdf_family)\n",
    "decorate(xlabel=\"Number of family members\")"
   ]
  },
  {
   "cell_type": "markdown",
   "id": "ef2b2a89",
   "metadata": {},
   "source": [
    "When we compare CDFs, the deviations are less prominent, but we can see where and how the distributions differ.\n",
    "PMFs tend to emphasize small differences -- sometimes CDFs provide a better sense of the big picture.\n",
    "\n",
    "CDFs also work well with continuous data. As an example, let's look at the distribution of birth weights again, which is in the NSFG pregnancy file."
   ]
  },
  {
   "cell_type": "code",
   "execution_count": 14,
   "id": "fcbe6cab",
   "metadata": {
    "tags": []
   },
   "outputs": [],
   "source": [
    "download(\"https://github.com/AllenDowney/ThinkStats/raw/v3/data/2002FemPreg.dct\")\n",
    "download(\"https://github.com/AllenDowney/ThinkStats/raw/v3/data/2002FemPreg.dat.gz\")"
   ]
  },
  {
   "cell_type": "code",
   "execution_count": 15,
   "id": "0d674fef",
   "metadata": {},
   "outputs": [],
   "source": [
    "from nsfg import read_fem_preg\n",
    "\n",
    "preg = read_fem_preg()\n",
    "birth_weights = preg[\"totalwgt_lb\"].dropna()"
   ]
  },
  {
   "cell_type": "markdown",
   "id": "f125fee8",
   "metadata": {},
   "source": [
    "Here is the code we used in the previous chapter to fit a normal model to the data."
   ]
  },
  {
   "cell_type": "code",
   "execution_count": 16,
   "id": "1a0bd573",
   "metadata": {},
   "outputs": [],
   "source": [
    "from scipy.stats import trimboth\n",
    "from thinkstats import make_normal_model\n",
    "\n",
    "trimmed = trimboth(birth_weights, 0.01)\n",
    "cdf_model = make_normal_model(trimmed)"
   ]
  },
  {
   "cell_type": "markdown",
   "id": "16ecb36a",
   "metadata": {},
   "source": [
    "And here's the distribution of the data compared to the normal model."
   ]
  },
  {
   "cell_type": "code",
   "execution_count": 17,
   "id": "89dc754a",
   "metadata": {},
   "outputs": [],
   "source": [
    "from empiricaldist import Cdf\n",
    "\n",
    "cdf_birth_weight = Cdf.from_seq(birth_weights, name=\"sample\")\n",
    "two_cdf_plots(cdf_model, cdf_birth_weight, xlabel=\"Birth weight (pounds)\")"
   ]
  },
  {
   "cell_type": "markdown",
   "id": "a1757253",
   "metadata": {},
   "source": [
    "As we saw in the previous chapter, the normal model fits the data well except in the range of the lightest babies.\n",
    "\n",
    "In my opinion, CDFs are usually the best way to compare data to a model.\n",
    "But for audiences that are not familiar with CDFs, there is one more option: probability density functions."
   ]
  },
  {
   "cell_type": "markdown",
   "id": "b47cc69d",
   "metadata": {},
   "source": [
    "## Probability Density\n",
    "\n",
    "We'll start with the probability density function (PDF) of the normal distribution, which we can compute like this."
   ]
  },
  {
   "cell_type": "code",
   "execution_count": 18,
   "id": "73a75926",
   "metadata": {},
   "outputs": [],
   "source": [
    "def normal_pdf(xs, mu, sigma):\n",
    "    \"\"\"Evaluates the normal probability density function.\n",
    "\n",
    "    xs: float or sequence of floats\n",
    "    mu: mean of the distribution\n",
    "    sigma: standard deviation of the distribution\n",
    "\n",
    "    returns: float or NumPy array of probability density\n",
    "    \"\"\"\n",
    "    z = (xs - mu) / sigma\n",
    "    return np.exp(-(z**2) / 2) / sigma / np.sqrt(2 * np.pi)"
   ]
  },
  {
   "cell_type": "markdown",
   "id": "b78cee48",
   "metadata": {},
   "source": [
    "For the parameters `mu` and `sigma`, we'll use the mean and standard deviation of the trimmed birth weights. "
   ]
  },
  {
   "cell_type": "code",
   "execution_count": 19,
   "id": "65c2db0c",
   "metadata": {},
   "outputs": [],
   "source": [
    "m, s = np.mean(trimmed), np.std(trimmed)"
   ]
  },
  {
   "cell_type": "markdown",
   "id": "8d75407e",
   "metadata": {},
   "source": [
    "Now we'll evaluate `normal_pdf` for a range of weights."
   ]
  },
  {
   "cell_type": "code",
   "execution_count": 20,
   "id": "cfb6935c",
   "metadata": {},
   "outputs": [],
   "source": [
    "low = m - 4 * s\n",
    "high = m + 4 * s\n",
    "qs = np.linspace(low, high, 201)\n",
    "ps = normal_pdf(qs, m, s)"
   ]
  },
  {
   "cell_type": "markdown",
   "id": "6cc1c3d7",
   "metadata": {},
   "source": [
    "The result looks like a bell curve, which is characteristic of the normal distribution."
   ]
  },
  {
   "cell_type": "code",
   "execution_count": 21,
   "id": "c8080871",
   "metadata": {},
   "outputs": [],
   "source": [
    "plt.plot(qs, ps, label=\"normal model\")\n",
    "decorate(xlabel=\"Birth weight (pounds)\", ylabel=\"Density\")"
   ]
  },
  {
   "cell_type": "markdown",
   "id": "06ca6794",
   "metadata": {},
   "source": [
    "When we evaluate `normal_pdf`, the result is a probability density.\n",
    "For example, here's the density function evaluated at the mean, which is where the density is highest."
   ]
  },
  {
   "cell_type": "code",
   "execution_count": 22,
   "id": "ecee46bb",
   "metadata": {},
   "outputs": [],
   "source": [
    "normal_pdf(m, m, s)"
   ]
  },
  {
   "cell_type": "markdown",
   "id": "89451488",
   "metadata": {},
   "source": [
    "By itself, a probability density doesn't mean much -- most importantly, it is *not* a probability.\n",
    "It would be incorrect to say that the probability is 32% that a randomly-chosen birth weight equals `m`.\n",
    "In fact, the probability that a birth weight is truly, exactly, and precisely equal to `m` -- or any other specific value -- is effectively zero.\n",
    "\n",
    "However, we can use these probability densities to compute the probability that a birth weight falls in an interval between two values, by computing the area under the curve."
   ]
  },
  {
   "cell_type": "markdown",
   "id": "06f675cb",
   "metadata": {},
   "source": [
    "We can do that with the `normal_pdf` function, but it will be more convenient to use a `NormalPdf` object, which is defined in the `thinkstats` module.\n",
    "Here's how we can use it to create a `NormalPdf` with the same mean and standard deviation as the birth weights in the NSFG dataset."
   ]
  },
  {
   "cell_type": "code",
   "execution_count": 23,
   "id": "d67c7406",
   "metadata": {},
   "outputs": [],
   "source": [
    "from thinkstats import NormalPdf\n",
    "\n",
    "pdf_model = NormalPdf(m, s, name=\"normal model\")\n",
    "pdf_model"
   ]
  },
  {
   "cell_type": "markdown",
   "id": "11cb9399",
   "metadata": {},
   "source": [
    "If we call this object like a function, it evaluates the normal PDF."
   ]
  },
  {
   "cell_type": "code",
   "execution_count": 24,
   "id": "40ee0737",
   "metadata": {},
   "outputs": [],
   "source": [
    "pdf_model(m)"
   ]
  },
  {
   "cell_type": "markdown",
   "id": "7f400a25",
   "metadata": {},
   "source": [
    "Now, to compute the area under the PDF, we can use the following function, which takes a `NormalPdf` object and the bounds of an interval, `low` and `high`.\n",
    "It evaluates the normal PDF at equally-spaced quantities between `low` and `high`, and uses Simpson's method to estimate the area under the curve."
   ]
  },
  {
   "cell_type": "code",
   "execution_count": 25,
   "id": "2186dbe1",
   "metadata": {},
   "outputs": [],
   "source": [
    "from scipy.integrate import simpson\n",
    "\n",
    "\n",
    "def area_under(pdf, low, high):\n",
    "    \"\"\"Find the area under a PDF.\n",
    "\n",
    "    pdf: Pdf object\n",
    "    low: low end of the interval\n",
    "    high: high end of the interval\n",
    "    \"\"\"\n",
    "    qs = np.linspace(low, high, 501)\n",
    "    ps = pdf(qs)\n",
    "    return simpson(y=ps, x=qs)"
   ]
  },
  {
   "cell_type": "markdown",
   "id": "3890ad65",
   "metadata": {},
   "source": [
    "If we compute the area under the curve from the lowest to the highest point in the graph, the result is close to 1."
   ]
  },
  {
   "cell_type": "code",
   "execution_count": 26,
   "id": "631bade0",
   "metadata": {},
   "outputs": [],
   "source": [
    "area_under(pdf_model, 2, 12)"
   ]
  },
  {
   "cell_type": "markdown",
   "id": "87c0dc81",
   "metadata": {},
   "source": [
    "If we extend the interval from negative infinity to positive infinity, the total area is exactly 1.\n",
    "\n",
    "If we start from 0 -- or any value far below the mean -- we can compute the fraction of birth weights less than or equal to 8.5 pounds."
   ]
  },
  {
   "cell_type": "code",
   "execution_count": 27,
   "id": "dc85a2dd",
   "metadata": {},
   "outputs": [],
   "source": [
    "area_under(pdf_model, 0, 8.5)"
   ]
  },
  {
   "cell_type": "markdown",
   "id": "a3ccedba",
   "metadata": {},
   "source": [
    "You might recall that the \"fraction less than or equal to a given value\" is the definition of the CDF.\n",
    "So we could compute the same result using the CDF of the normal distribution."
   ]
  },
  {
   "cell_type": "code",
   "execution_count": 28,
   "id": "45841eca",
   "metadata": {},
   "outputs": [],
   "source": [
    "from scipy.stats import norm\n",
    "\n",
    "norm.cdf(8.5, m, s)"
   ]
  },
  {
   "cell_type": "markdown",
   "id": "27850ccf",
   "metadata": {},
   "source": [
    "Similarly, we can use the area under the density curve to compute the fraction of birth weights between 6 and 8 pounds."
   ]
  },
  {
   "cell_type": "code",
   "execution_count": 29,
   "id": "53737676",
   "metadata": {},
   "outputs": [],
   "source": [
    "area_under(pdf_model, 6, 8)"
   ]
  },
  {
   "cell_type": "markdown",
   "id": "d3402340",
   "metadata": {},
   "source": [
    "Or we can get the same result using the CDF to compute the fraction less than 8 and then subtracting off the fraction less than 6. "
   ]
  },
  {
   "cell_type": "code",
   "execution_count": 30,
   "id": "143933f5",
   "metadata": {},
   "outputs": [],
   "source": [
    "norm.cdf(8, m, s) - norm.cdf(6, m, s)"
   ]
  },
  {
   "cell_type": "markdown",
   "id": "da31401d",
   "metadata": {},
   "source": [
    "So the CDF is the area under the curve of the PDF.\n",
    "If you know calculus, another way to say the same thing is that the CDF is the integral of the PDF.\n",
    "And conversely, the PDF is the derivative of the CDF."
   ]
  },
  {
   "cell_type": "markdown",
   "id": "98b83653",
   "metadata": {},
   "source": [
    "## The Exponential PDF\n",
    "\n",
    "To get your head around probability density, it might help to see another example.\n",
    "In the previous chapter, we used an exponential distribution to model the time until the first goal in a hockey game.\n",
    "We used the following function to compute the exponential CDF, where `lam` is the rate parameter in goals per unit of time."
   ]
  },
  {
   "cell_type": "code",
   "execution_count": 31,
   "id": "18fb5032",
   "metadata": {},
   "outputs": [],
   "source": [
    "def exponential_cdf(x, lam):\n",
    "    \"\"\"Compute the exponential CDF.\n",
    "\n",
    "    x: float or sequence of floats\n",
    "    lam: rate parameter\n",
    "\n",
    "    returns: float or NumPy array of cumulative probability\n",
    "    \"\"\"\n",
    "    return 1 - np.exp(-lam * x)"
   ]
  },
  {
   "cell_type": "markdown",
   "id": "2cbcc93a",
   "metadata": {},
   "source": [
    "We can compute the PDF of the exponential distribution like this."
   ]
  },
  {
   "cell_type": "code",
   "execution_count": 32,
   "id": "37368771",
   "metadata": {},
   "outputs": [],
   "source": [
    "def exponential_pdf(x, lam):\n",
    "    \"\"\"Evaluates the exponential PDF.\n",
    "\n",
    "    x: float or sequence of floats\n",
    "    lam: rate parameter\n",
    "\n",
    "    returns: float or NumPy array of probability density\n",
    "    \"\"\"\n",
    "    return lam * np.exp(-lam * x)"
   ]
  },
  {
   "cell_type": "markdown",
   "id": "4891494d",
   "metadata": {},
   "source": [
    "`thinkstats` provides an `ExponentialPdf` object that uses this function to compute the exponential PDF.\n",
    "We can use one to represent an exponential distribution with rate parameter 6 goals per game."
   ]
  },
  {
   "cell_type": "code",
   "execution_count": 33,
   "id": "5f77d24b",
   "metadata": {},
   "outputs": [],
   "source": [
    "from thinkstats import ExponentialPdf\n",
    "\n",
    "lam = 6\n",
    "pdf_expo = ExponentialPdf(lam, name=\"model\")\n",
    "pdf_expo"
   ]
  },
  {
   "cell_type": "markdown",
   "id": "7095c57f",
   "metadata": {},
   "source": [
    "`ExponentialPdf` provides a `plot` function we can use to plot the PDF -- notice that the unit of time is games here, rather than seconds as in the previous chapter."
   ]
  },
  {
   "cell_type": "code",
   "execution_count": 34,
   "id": "6d999a2f",
   "metadata": {},
   "outputs": [],
   "source": [
    "qs = np.linspace(0, 1.5, 201)\n",
    "pdf_expo.plot(qs)\n",
    "decorate(xlabel=\"Time (games)\", ylabel=\"Density\")"
   ]
  },
  {
   "cell_type": "markdown",
   "id": "a89be81f",
   "metadata": {},
   "source": [
    "Looking at the y-axis, you might notice that some of these densities are greater than 1, which is a reminder that a probability density is not a probability.\n",
    "But the area under a density curve is a probability, so it should never be greater than 1.\n",
    "\n",
    "If we compute the area under this curve from 0 to 1.5 games, we can confirm that the result is close to 1."
   ]
  },
  {
   "cell_type": "code",
   "execution_count": 35,
   "id": "c0dfefb4",
   "metadata": {},
   "outputs": [],
   "source": [
    "area_under(pdf_expo, 0, 1.5)"
   ]
  },
  {
   "cell_type": "markdown",
   "id": "fb0e98cd",
   "metadata": {},
   "source": [
    "If we extend the interval much farther, the result is slightly greater than 1, but that's because we're approximating the area numerically.\n",
    "Mathematically, it is exactly 1, as we can confirm using the exponential CDF."
   ]
  },
  {
   "cell_type": "code",
   "execution_count": 36,
   "id": "57963394",
   "metadata": {},
   "outputs": [],
   "source": [
    "from thinkstats import exponential_cdf\n",
    "\n",
    "exponential_cdf(7, lam)"
   ]
  },
  {
   "cell_type": "markdown",
   "id": "6eec9cff",
   "metadata": {},
   "source": [
    "We can use the area under the density curve to compute the probability of a goal during any interval.\n",
    "For example, here is the probability of a goal during the first minute of a 60-minute game."
   ]
  },
  {
   "cell_type": "code",
   "execution_count": 37,
   "id": "418d568c",
   "metadata": {},
   "outputs": [],
   "source": [
    "area_under(pdf_expo, 0, 1 / 60)"
   ]
  },
  {
   "cell_type": "markdown",
   "id": "650d6f29",
   "metadata": {},
   "source": [
    "We can compute the same result using the exponential CDF."
   ]
  },
  {
   "cell_type": "code",
   "execution_count": 38,
   "id": "f6a4f81b",
   "metadata": {},
   "outputs": [],
   "source": [
    "exponential_cdf(1 / 60, lam)"
   ]
  },
  {
   "cell_type": "markdown",
   "id": "b5afe4fb",
   "metadata": {},
   "source": [
    "In summary, if we evaluate a PDF, the result is a probability density -- which is not a probability.\n",
    "However, if we compute the area under the PDF, the result is the probability that a quantity falls in an interval.\n",
    "Or we can find the same probability by evaluating the CDF at the beginning and end of the interval and computing the difference."
   ]
  },
  {
   "cell_type": "markdown",
   "id": "f7687b0f",
   "metadata": {},
   "source": [
    "## Comparing PMFs and PDFs\n",
    "\n",
    "It is a common error to compare the PMF of a sample with the PDF of a theoretical model.\n",
    "For example, suppose we want to compare the distribution of birth weights to a normal model.\n",
    "Here's a `Pmf` that represents the distribution of the data."
   ]
  },
  {
   "cell_type": "code",
   "execution_count": 39,
   "id": "284649e4",
   "metadata": {},
   "outputs": [],
   "source": [
    "pmf_birth_weight = Pmf.from_seq(birth_weights, name=\"data\")"
   ]
  },
  {
   "cell_type": "markdown",
   "id": "2d898d5f",
   "metadata": {},
   "source": [
    "And we already have `pdf_model`, which represents the PDF of the normal distribution with the same mean and standard deviation.\n",
    "Here's what happens if we plot them on the same axis."
   ]
  },
  {
   "cell_type": "code",
   "execution_count": 40,
   "id": "55f3831b",
   "metadata": {},
   "outputs": [],
   "source": [
    "pmf_birth_weight.plot()\n",
    "pdf_model.plot(color=\"gray\")\n",
    "\n",
    "decorate(xlabel=\"Birth weight (pounds)\", ylabel=\"PMF? Density?\")"
   ]
  },
  {
   "cell_type": "markdown",
   "id": "27604636",
   "metadata": {},
   "source": [
    "It doesn't work very well.\n",
    "One reason is that they are not in the same units.\n",
    "A PMF contains probability masses and a PDF contains probability densities, so we can't compare them, and we shouldn't plot them on the same axes.\n",
    "\n",
    "As a first attempt to solve the problem, we can make a `Pmf` that approximates the normal distribution by evaluating the PDF at a discrete set of points.\n",
    "`NormalPdf` provides a `make_pmf` method that does that."
   ]
  },
  {
   "cell_type": "code",
   "execution_count": 41,
   "id": "f829f686",
   "metadata": {},
   "outputs": [],
   "source": [
    "pmf_model = pdf_model.make_pmf()"
   ]
  },
  {
   "cell_type": "markdown",
   "id": "e0e4d5e7",
   "metadata": {},
   "source": [
    "The result contain probability masses, so we can at least plot it on the same axes as the PMF of the data."
   ]
  },
  {
   "cell_type": "code",
   "execution_count": 42,
   "id": "36507db8",
   "metadata": {},
   "outputs": [],
   "source": [
    "pmf_model.plot(color=\"gray\")\n",
    "pmf_birth_weight.plot()\n",
    "\n",
    "decorate(xlabel=\"Birth weight (pounds)\", ylabel=\"PMF\")"
   ]
  },
  {
   "cell_type": "markdown",
   "id": "b8aac9e9",
   "metadata": {},
   "source": [
    "But this is still not a good way to compare distributions.\n",
    "One problem is that the two `Pmf` objects contains different numbers of quantities, and the quantities in `pmf_birth_weight` are not equally spaced, so the probability masses are not really comparable."
   ]
  },
  {
   "cell_type": "code",
   "execution_count": 43,
   "id": "e6a44c0e",
   "metadata": {},
   "outputs": [],
   "source": [
    "len(pmf_model), len(pmf_birth_weight)"
   ]
  },
  {
   "cell_type": "markdown",
   "id": "5cf1cf84",
   "metadata": {},
   "source": [
    "The other problem is that the `Pmf` of the data is noisy.\n",
    "So let's try something else."
   ]
  },
  {
   "cell_type": "markdown",
   "id": "7d7a5b57",
   "metadata": {},
   "source": [
    "## Kernel Density Estimation\n",
    "\n",
    "Instead of converting the model to a PMF, we can convert the distribution of the data to a PDF.\n",
    "To show how that works, I'll start with a small sample of the data."
   ]
  },
  {
   "cell_type": "code",
   "execution_count": 44,
   "id": "e6d0fb6f",
   "metadata": {
    "tags": []
   },
   "outputs": [],
   "source": [
    "# Set the random seed so we get the same results every time\n",
    "np.random.seed(3)"
   ]
  },
  {
   "cell_type": "code",
   "execution_count": 45,
   "id": "6c83c956",
   "metadata": {},
   "outputs": [],
   "source": [
    "n = 10\n",
    "sample = birth_weights.sample(n)"
   ]
  },
  {
   "cell_type": "markdown",
   "id": "8f5356cf",
   "metadata": {},
   "source": [
    "The `Pmf` of this sample looks like this."
   ]
  },
  {
   "cell_type": "code",
   "execution_count": 46,
   "id": "e44b1ecd",
   "metadata": {},
   "outputs": [],
   "source": [
    "for weight in sample:\n",
    "    pmf = Pmf.from_seq([weight]) / n\n",
    "    pmf.bar(width=0.08, alpha=0.5)\n",
    "\n",
    "xlim = [1.5, 12.5]\n",
    "decorate(xlabel=\"Birth weight (pounds)\", ylabel=\"PMF\", xlim=xlim)"
   ]
  },
  {
   "cell_type": "markdown",
   "id": "70d7c7e0",
   "metadata": {},
   "source": [
    "This way of representing the distribution treats the data as if it is discrete, so each probability mass is stacked up on a single point.\n",
    "But birth weight is actually continuous, so the quantities between the measurements are also possible.\n",
    "We can represent that possibility by replacing each discrete probability mass with a continuous probability density, like this."
   ]
  },
  {
   "cell_type": "code",
   "execution_count": 47,
   "id": "2bd8fe67",
   "metadata": {},
   "outputs": [],
   "source": [
    "qs = np.linspace(2, 12, 201)\n",
    "\n",
    "for weight in sample:\n",
    "    ps = NormalPdf(weight, 0.75)(qs) / n\n",
    "    plt.plot(qs, ps, alpha=0.5)\n",
    "\n",
    "decorate(xlabel=\"Birth weight (pounds)\", ylabel=\"PDF\", xlim=xlim)"
   ]
  },
  {
   "cell_type": "markdown",
   "id": "bf0aeeb4",
   "metadata": {},
   "source": [
    "For each weight in the sample, we create a `NormalPdf` with the observed weight as the mean -- now let's add them up."
   ]
  },
  {
   "cell_type": "code",
   "execution_count": 48,
   "id": "065680cb",
   "metadata": {},
   "outputs": [],
   "source": [
    "low_ps = np.zeros_like(qs)\n",
    "\n",
    "for weight in sample:\n",
    "    ps = NormalPdf(weight, 0.75)(qs) / n\n",
    "    high_ps = low_ps + ps\n",
    "    plt.fill_between(qs, low_ps, high_ps, alpha=0.5, lw=0)\n",
    "    low_ps = high_ps\n",
    "\n",
    "decorate(xlabel=\"Birth weight (pounds)\", ylabel=\"PDF\", xlim=xlim)"
   ]
  },
  {
   "cell_type": "markdown",
   "id": "594b5d14",
   "metadata": {},
   "source": [
    "When we add up the probability densities for each data point, the result is an estimate of the probability density for the whole sample.\n",
    "This process is called **kernel density estimation** or KDE.\n",
    "In this context, a \"kernel\" is one of the small density functions we added up.\n",
    "Because the kernels we used are normal distributions -- also known as Gaussians -- we could say more specifically that we computed a Gaussian KDE.\n",
    "\n",
    "SciPy provides a function called `gaussian_kde` that implements this algorithm.\n",
    "Here's how we can use it to estimate the distribution of birth weights."
   ]
  },
  {
   "cell_type": "code",
   "execution_count": 49,
   "id": "c3dba7b9",
   "metadata": {},
   "outputs": [],
   "source": [
    "from scipy.stats import gaussian_kde\n",
    "\n",
    "kde = gaussian_kde(birth_weights)"
   ]
  },
  {
   "cell_type": "markdown",
   "id": "eaaa1528",
   "metadata": {},
   "source": [
    "The result is an object that represents the estimated PDF, which we can evaluate by calling it like  a function."
   ]
  },
  {
   "cell_type": "code",
   "execution_count": 50,
   "id": "10685681",
   "metadata": {},
   "outputs": [],
   "source": [
    "ps = kde(qs)"
   ]
  },
  {
   "cell_type": "markdown",
   "id": "be22fbe4",
   "metadata": {},
   "source": [
    "Here's what the result looks like."
   ]
  },
  {
   "cell_type": "code",
   "execution_count": 51,
   "id": "b5a6b73f",
   "metadata": {},
   "outputs": [],
   "source": [
    "plt.plot(qs, ps)\n",
    "\n",
    "decorate(xlabel=\"Birth weight (pounds)\", ylabel=\"Density\")"
   ]
  },
  {
   "cell_type": "markdown",
   "id": "1a3283fa",
   "metadata": {},
   "source": [
    "`thinkstats` provides a `Pdf` object that takes the result from `gaussian_kde`, and a domain that indicates where the density should be evaluated.\n",
    "Here's how we make one."
   ]
  },
  {
   "cell_type": "code",
   "execution_count": 52,
   "id": "b0774e65",
   "metadata": {},
   "outputs": [],
   "source": [
    "from thinkstats import Pdf\n",
    "\n",
    "domain = np.min(birth_weights), np.max(birth_weights)\n",
    "kde_birth_weights = Pdf(kde, domain, name=\"data\")"
   ]
  },
  {
   "cell_type": "markdown",
   "id": "e0023131",
   "metadata": {},
   "source": [
    "`Pdf` provides a `plot` method we can use to compare the estimated PDF of the sample to the PDF of a normal distribution."
   ]
  },
  {
   "cell_type": "code",
   "execution_count": 53,
   "id": "4d79028e",
   "metadata": {},
   "outputs": [],
   "source": [
    "kde_birth_weights.plot()\n",
    "pdf_model.plot(color=\"gray\")\n",
    "\n",
    "decorate(xlabel=\"Birth weight (pounds)\", ylabel=\"Density\")"
   ]
  },
  {
   "cell_type": "markdown",
   "id": "2eaf2160",
   "metadata": {},
   "source": [
    "Kernel density estimation makes it possible to compare the distribution of a dataset to a theoretical model, and for some audiences, this is a good way to visualize the comparison.\n",
    "But for audiences that are familiar with CDFs, I think comparing CDFs are usually better."
   ]
  },
  {
   "cell_type": "markdown",
   "id": "9890ea3b",
   "metadata": {},
   "source": [
    "## The Distribution Framework\n",
    "\n",
    "At this point we have a complete set of ways to represent distributions: PMFs, CDFs, and PDFs\n",
    "The following figure shows these representations and the transitions from one to another.\n",
    "For example, if we have a `Pmf`, we can use the `cumsum` function to compute the cumulative sum of the probabilities and get a `Cdf` that represents the same distribution.\n",
    "\n",
    "<img width=\"400\" src=\"https://github.com/AllenDowney/ThinkStats/raw/v3/figs/distribution_framework.png\">\n",
    "\n",
    "To demonstrate these transitions, we'll use a new dataset that \"contains the time of birth, sex, and birth weight for each of 44 babies born in one 24-hour period at a Brisbane, Australia, hospital.\"\n",
    "Instructions for downloading the data are in the notebook for this chapter.\n"
   ]
  },
  {
   "cell_type": "markdown",
   "id": "460e5444",
   "metadata": {
    "tags": []
   },
   "source": [
    "According to the information in the file\n",
    "\n",
    "> Source: Steele, S. (December 21, 1997), \"Babies by the Dozen for Christmas:\n",
    "24-Hour Baby Boom,\" _The Sunday Mail_ (Brisbane), p. 7.\n",
    ">\n",
    "> STORY BEHIND THE DATA:\n",
    "Forty-four babies -- a new record -- were born in one 24-hour period at\n",
    "the Mater Mothers' Hospital in Brisbane, Queensland, Australia, on\n",
    "December 18, 1997.  For each of the 44 babies, _The Sunday Mail_\n",
    "recorded the time of birth, the sex of the child, and the birth weight\n",
    "in grams.\n",
    ">\n",
    "> Additional information about this dataset can be found in the \"Datasets\n",
    "and Stories\" article \"A Simple Dataset for Demonstrating Common\n",
    "Distributions\" in the _Journal of Statistics Education_ (Dunn 1999).\n",
    ">\n",
    "> Downloaded from <https://jse.amstat.org/datasets/babyboom.txt>"
   ]
  },
  {
   "cell_type": "code",
   "execution_count": 54,
   "id": "209b7e67",
   "metadata": {
    "tags": []
   },
   "outputs": [],
   "source": [
    "download(\"https://github.com/AllenDowney/ThinkStats/raw/v3/data/babyboom.dat\")"
   ]
  },
  {
   "cell_type": "markdown",
   "id": "7c3517d0",
   "metadata": {},
   "source": [
    "We can read the data like this."
   ]
  },
  {
   "cell_type": "code",
   "execution_count": 55,
   "id": "1d4c6176",
   "metadata": {},
   "outputs": [],
   "source": [
    "from thinkstats import read_baby_boom\n",
    "\n",
    "boom = read_baby_boom()\n",
    "boom.head()"
   ]
  },
  {
   "cell_type": "markdown",
   "id": "e9cc296d",
   "metadata": {},
   "source": [
    "The `minutes` column records \"the number of minutes since midnight for each birth\".\n",
    "So can use the `diff` method to compute the interval between each successive birth."
   ]
  },
  {
   "cell_type": "code",
   "execution_count": 56,
   "id": "942f38eb",
   "metadata": {},
   "outputs": [],
   "source": [
    "diffs = boom[\"minutes\"].diff().dropna()"
   ]
  },
  {
   "cell_type": "markdown",
   "id": "fab56d42",
   "metadata": {},
   "source": [
    "If births happen with equal probability during any minute of the day, we expect these intervals to follow an exponential distribution.\n",
    "In reality, that assumption is not precisely true, but the exponential distribution might still be a good model for the data.\n",
    "\n",
    "To find out, we'll start by making a `Pmf` that represents the distribution of intervals."
   ]
  },
  {
   "cell_type": "code",
   "execution_count": 57,
   "id": "ee30688b",
   "metadata": {},
   "outputs": [],
   "source": [
    "pmf_diffs = Pmf.from_seq(diffs, name=\"data\")\n",
    "pmf_diffs.bar(width=1)\n",
    "\n",
    "decorate(xlabel=\"Interval (minutes)\", ylabel=\"PMF\")"
   ]
  },
  {
   "cell_type": "markdown",
   "id": "cdcd639f",
   "metadata": {},
   "source": [
    "Then we can use `make_cdf` to compute the cumulative probabilities and store them in a `Cdf` object."
   ]
  },
  {
   "cell_type": "code",
   "execution_count": 58,
   "id": "4466e8cc",
   "metadata": {},
   "outputs": [],
   "source": [
    "cdf_diffs = pmf_diffs.make_cdf()\n",
    "cdf_diffs.step(color=\"C1\")\n",
    "\n",
    "decorate(xlabel=\"Interval (minutes)\", ylabel=\"CDF\")"
   ]
  },
  {
   "cell_type": "markdown",
   "id": "8960e286",
   "metadata": {},
   "source": [
    "The `Pmf` and `Cdf` are equivalent in the sense that if we are given either one, we can compute the other.\n",
    "To demonstrate, we'll use the `make_pmf` method, which computes the differences between successive probabilities in a `Cdf` and returns a `Pmf`."
   ]
  },
  {
   "cell_type": "code",
   "execution_count": 59,
   "id": "9367a75f",
   "metadata": {},
   "outputs": [],
   "source": [
    "pmf_diffs2 = cdf_diffs.make_pmf()"
   ]
  },
  {
   "cell_type": "markdown",
   "id": "db091dd4",
   "metadata": {},
   "source": [
    "The result should be identical to the original `Pmf`, but there might be small floating-point errors.\n",
    "We can use `allclose` to check that the result is close to the original `Pmf`."
   ]
  },
  {
   "cell_type": "code",
   "execution_count": 60,
   "id": "57be0167",
   "metadata": {},
   "outputs": [],
   "source": [
    "np.allclose(pmf_diffs, pmf_diffs2)"
   ]
  },
  {
   "cell_type": "markdown",
   "id": "dfc925f4",
   "metadata": {},
   "source": [
    "And it is.\n",
    "\n",
    "From a `Pmf`, we can estimate a density function by calling `gaussian_kde` with the probabilities from the `Pmf` as weights."
   ]
  },
  {
   "cell_type": "code",
   "execution_count": 61,
   "id": "fcb28634",
   "metadata": {},
   "outputs": [],
   "source": [
    "kde = gaussian_kde(pmf_diffs.qs, weights=pmf_diffs.ps)"
   ]
  },
  {
   "cell_type": "markdown",
   "id": "2f60a7db",
   "metadata": {},
   "source": [
    "To plot the results, we can use `kde` to make `Pdf` object, and call the `plot` method."
   ]
  },
  {
   "cell_type": "code",
   "execution_count": 62,
   "id": "a8a9a473",
   "metadata": {},
   "outputs": [],
   "source": [
    "domain = np.min(pmf_diffs.qs), np.max(pmf_diffs.qs)\n",
    "kde_diffs = Pdf(kde, domain=domain, name=\"estimated density\")\n",
    "\n",
    "kde_diffs.plot()\n",
    "decorate(xlabel=\"Interval (minutes)\", ylabel=\"Density\")"
   ]
  },
  {
   "cell_type": "markdown",
   "id": "8ff7e136",
   "metadata": {},
   "source": [
    "To see whether the estimated density follows an exponential model, we can make an `ExponentialPdf` with the same mean as the data."
   ]
  },
  {
   "cell_type": "code",
   "execution_count": 63,
   "id": "e277f839",
   "metadata": {},
   "outputs": [],
   "source": [
    "m = diffs.mean()\n",
    "lam = 1 / m\n",
    "pdf_model = ExponentialPdf(lam, name=\"exponential PDF\")"
   ]
  },
  {
   "cell_type": "markdown",
   "id": "21a50afc",
   "metadata": {},
   "source": [
    "Here's what it looks like compared to the estimated density."
   ]
  },
  {
   "cell_type": "code",
   "execution_count": 64,
   "id": "7daa6d23",
   "metadata": {},
   "outputs": [],
   "source": [
    "pdf_model.plot(color=\"gray\")\n",
    "kde_diffs.plot()\n",
    "decorate(xlabel=\"Interval (minutes)\", ylabel=\"Density\")"
   ]
  },
  {
   "cell_type": "markdown",
   "id": "d752b804",
   "metadata": {},
   "source": [
    "Comparing the estimated density to an exponential PDF, it doesn't seem like the model fits the data well.\n",
    "But that might be misleading -- again, I think comparing CDFs provides the clearer picture.\n",
    "\n",
    "Here's the CDF of an exponential distribution compared to the CDF of the data."
   ]
  },
  {
   "cell_type": "code",
   "execution_count": 65,
   "id": "fe493a82",
   "metadata": {},
   "outputs": [],
   "source": [
    "from thinkstats import ExponentialCdf\n",
    "\n",
    "cdf_model = ExponentialCdf(lam, name=\"exponential CDF\")\n",
    "cdf_model.plot(color=\"gray\")\n",
    "cdf_diffs.step(color=\"C1\")\n",
    "\n",
    "decorate(xlabel=\"Interval (minutes)\", ylabel=\"CDF\")"
   ]
  },
  {
   "cell_type": "markdown",
   "id": "323b1e1b",
   "metadata": {},
   "source": [
    "The exponential model fits the CDF of the data well.\n",
    "\n",
    "Given an `ExponentialPdf`, we can use `make_pmf` to **discretize** the PDF -- that is, to make a discrete approximation by evaluating the PDF at a sequence of equally spaced quantities."
   ]
  },
  {
   "cell_type": "code",
   "execution_count": 66,
   "id": "7b8aa512",
   "metadata": {},
   "outputs": [],
   "source": [
    "qs = np.linspace(0, 175, 31)\n",
    "pmf_model = pdf_model.make_pmf(qs)\n",
    "pmf_model.bar(width=2)\n",
    "\n",
    "decorate(xlabel=\"Interval (minutes)\", ylabel=\"PMF\")"
   ]
  },
  {
   "cell_type": "markdown",
   "id": "51583008",
   "metadata": {},
   "source": [
    "And given an `ExponentialCdf`, we can use `make_cdf` to make a discrete approximation of the exponential CDF."
   ]
  },
  {
   "cell_type": "code",
   "execution_count": 67,
   "id": "6993364d",
   "metadata": {},
   "outputs": [],
   "source": [
    "discrete_cdf_model = cdf_model.make_cdf(qs)\n",
    "discrete_cdf_model.step()\n",
    "\n",
    "decorate(xlabel=\"Interval (minutes)\", ylabel=\"CDF\")"
   ]
  },
  {
   "cell_type": "markdown",
   "id": "ed63815d",
   "metadata": {},
   "source": [
    "Finally, to get from a discrete CDF to a continuous CDF, we can interpolate between the steps, which is what we see if we use the `plot` method instead of the `step` method."
   ]
  },
  {
   "cell_type": "code",
   "execution_count": 68,
   "id": "bf96cbce",
   "metadata": {},
   "outputs": [],
   "source": [
    "discrete_cdf_model.plot()\n",
    "\n",
    "decorate(xlabel=\"Interval (minutes)\", ylabel=\"CDF\")"
   ]
  },
  {
   "cell_type": "markdown",
   "id": "bdb6bc7c",
   "metadata": {},
   "source": [
    "Finally, a PDF is the derivative of a continuous CDF, and a CDF is the integral of a PDF."
   ]
  },
  {
   "cell_type": "markdown",
   "id": "f4e5603e",
   "metadata": {
    "tags": []
   },
   "source": [
    "To demonstrate, we can use SymPy to define the CDF of an exponential distribution and compute its derivative."
   ]
  },
  {
   "cell_type": "code",
   "execution_count": 69,
   "id": "54e749a9",
   "metadata": {
    "tags": []
   },
   "outputs": [],
   "source": [
    "import sympy as sp\n",
    "\n",
    "x = sp.Symbol(\"x\", real=True, positive=True)\n",
    "λ = sp.Symbol(\"λ\", real=True, positive=True)\n",
    "\n",
    "cdf = 1 - sp.exp(-λ * x)\n",
    "cdf"
   ]
  },
  {
   "cell_type": "code",
   "execution_count": 70,
   "id": "7c302237",
   "metadata": {
    "tags": []
   },
   "outputs": [],
   "source": [
    "pdf = sp.diff(cdf, x)\n",
    "pdf"
   ]
  },
  {
   "cell_type": "markdown",
   "id": "c2f9e807",
   "metadata": {
    "tags": []
   },
   "source": [
    "And if we integrate the result, we get the CDF back -- although we lose the constant of integration in the process."
   ]
  },
  {
   "cell_type": "code",
   "execution_count": 71,
   "id": "f08aa791",
   "metadata": {
    "tags": []
   },
   "outputs": [],
   "source": [
    "sp.integrate(pdf, x)"
   ]
  },
  {
   "cell_type": "markdown",
   "id": "b16b7bad",
   "metadata": {},
   "source": [
    "This example shows how we use `Pmf`, `Cdf`, and `Pdf` object to represent PMFs, CDFs, and PDFs, and demonstrates the process for converting from each to the others."
   ]
  },
  {
   "cell_type": "markdown",
   "id": "83d0b0db",
   "metadata": {},
   "source": [
    "## Glossary\n",
    "\n",
    "-   **Probability density function (PDF)**: The derivative of a continuous CDF, a function that maps a value to its probability density.\n",
    "\n",
    "-   **Probability density**: A quantity that can be integrated over a range of values to yield a probability. If the values are in units of cm, for example, probability density is in units of probability per cm.\n",
    "\n",
    "-   **Kernel density estimation (KDE)**: An algorithm that estimates a PDF based on a sample.\n",
    "\n",
    "-   **discretize**: To approximate a continuous function or distribution with a discrete function. The opposite of smoothing."
   ]
  },
  {
   "cell_type": "markdown",
   "id": "a21248f4",
   "metadata": {},
   "source": [
    "## Exercises"
   ]
  },
  {
   "cell_type": "markdown",
   "id": "16858dd0",
   "metadata": {},
   "source": [
    "### Exercise\n",
    "\n",
    "In World Cup soccer (football), suppose the time until the first goal is well modeled by an exponential distribution with rate parameter `lam=2.5` goals per game.\n",
    "Make an `ExponentialPdf` to represent this distribution and use `area_under` to compute the probability a goal is scored in the first half of a game.\n",
    "Then use an `ExponentialCdf` to compute the same probability and check that the results are consistent."
   ]
  },
  {
   "cell_type": "code",
   "execution_count": 72,
   "id": "80d4de90",
   "metadata": {},
   "outputs": [],
   "source": [
    "# Solution goes here"
   ]
  },
  {
   "cell_type": "code",
   "execution_count": 73,
   "id": "d08933d1",
   "metadata": {},
   "outputs": [],
   "source": [
    "# Solution goes here"
   ]
  },
  {
   "cell_type": "code",
   "execution_count": 74,
   "id": "7ae9e038",
   "metadata": {},
   "outputs": [],
   "source": [
    "# Solution goes here"
   ]
  },
  {
   "cell_type": "markdown",
   "id": "d3029643",
   "metadata": {},
   "source": [
    "Use `ExponentialPdf` to compute the probability the first goal is scored in the second half of the game.\n",
    "Then use an `ExponentialCdf` to compute the same probability and check that the results are consistent."
   ]
  },
  {
   "cell_type": "code",
   "execution_count": 75,
   "id": "9890bed0",
   "metadata": {},
   "outputs": [],
   "source": [
    "# Solution goes here"
   ]
  },
  {
   "cell_type": "code",
   "execution_count": 76,
   "id": "50d82610",
   "metadata": {},
   "outputs": [],
   "source": [
    "# Solution goes here"
   ]
  },
  {
   "cell_type": "markdown",
   "id": "a4c52fe0",
   "metadata": {},
   "source": [
    "### Exercise\n",
    "\n",
    "In order to join Blue Man Group, you have to be male between 5’10” and 6’1”, which is roughly 178 to 185 centimeters.\n",
    "Let's see what fraction of the male adult population in the United States meets this requirement.\n",
    "\n",
    "The heights of male participants in the BRFSS are well modeled by a normal distribution with mean 178 cm and standard deviation 7 cm."
   ]
  },
  {
   "cell_type": "code",
   "execution_count": 77,
   "id": "7cb2c493",
   "metadata": {
    "tags": []
   },
   "outputs": [],
   "source": [
    "download(\"https://github.com/AllenDowney/ThinkStats/raw/v3/data/CDBRFS08.ASC.gz\")"
   ]
  },
  {
   "cell_type": "code",
   "execution_count": 78,
   "id": "6431e26c",
   "metadata": {},
   "outputs": [],
   "source": [
    "from thinkstats import read_brfss\n",
    "\n",
    "brfss = read_brfss()\n",
    "male = brfss.query(\"sex == 1\")\n",
    "heights = male[\"htm3\"].dropna()"
   ]
  },
  {
   "cell_type": "code",
   "execution_count": 79,
   "id": "ed41b925",
   "metadata": {},
   "outputs": [],
   "source": [
    "from scipy.stats import trimboth\n",
    "\n",
    "trimmed = trimboth(heights, 0.01)\n",
    "m, s = np.mean(trimmed), np.std(trimmed)\n",
    "m, s"
   ]
  },
  {
   "cell_type": "markdown",
   "id": "edd36059",
   "metadata": {},
   "source": [
    "Here's a `NormalCdf` object that represents a normal distribution with the same mean and standard deviation as the trimmed data."
   ]
  },
  {
   "cell_type": "code",
   "execution_count": 80,
   "id": "fe3533b0",
   "metadata": {},
   "outputs": [],
   "source": [
    "from thinkstats import NormalCdf\n",
    "\n",
    "cdf_normal_model = NormalCdf(m, s)"
   ]
  },
  {
   "cell_type": "markdown",
   "id": "6b01929f",
   "metadata": {},
   "source": [
    "And here's how it compares to the CDF of the data."
   ]
  },
  {
   "cell_type": "code",
   "execution_count": 81,
   "id": "76ca42c9",
   "metadata": {},
   "outputs": [],
   "source": [
    "cdf_height = Cdf.from_seq(heights, name=\"data\")\n",
    "cdf_normal_model.plot(color=\"gray\")\n",
    "cdf_height.step()\n",
    "\n",
    "xlim = [140, 210]\n",
    "decorate(xlabel=\"Height (cm)\", ylabel=\"CDF\", xlim=xlim)"
   ]
  },
  {
   "cell_type": "markdown",
   "id": "4e013acb",
   "metadata": {},
   "source": [
    "Use `gaussian_kde` to make an `Pdf` to represent the PDF of male height.\n",
    "Hint: Investigate the `bw_method` argument, which can be used to control the smoothness of the estimated density.\n",
    "Plot the estimated density and compare it to a `NormalPdf` with mean `m` and standard deviation `s`."
   ]
  },
  {
   "cell_type": "code",
   "execution_count": 82,
   "id": "66d3eeac",
   "metadata": {},
   "outputs": [],
   "source": [
    "# Solution goes here"
   ]
  },
  {
   "cell_type": "code",
   "execution_count": 83,
   "id": "dec3f886",
   "metadata": {},
   "outputs": [],
   "source": [
    "# Solution goes here"
   ]
  },
  {
   "cell_type": "code",
   "execution_count": 84,
   "id": "80c814eb",
   "metadata": {},
   "outputs": [],
   "source": [
    "# Solution goes here"
   ]
  },
  {
   "cell_type": "code",
   "execution_count": 85,
   "id": "d61eaec6",
   "metadata": {},
   "outputs": [],
   "source": [
    "# Solution goes here"
   ]
  },
  {
   "cell_type": "markdown",
   "id": "53604a1a",
   "metadata": {},
   "source": [
    "Use a `NormalPdf` and `area_under` to compute the fraction of people in the normal model that are between 178 and 185 centimeters.\n",
    "Use a `NormalCdf` to compute the same fraction, and check that the results are consistent.\n",
    "Finally, use the empirical `Cdf` of the data to see what fraction of people in the dataset are in the same range."
   ]
  },
  {
   "cell_type": "code",
   "execution_count": 86,
   "id": "e0485114",
   "metadata": {},
   "outputs": [],
   "source": [
    "# Solution goes here"
   ]
  },
  {
   "cell_type": "code",
   "execution_count": 87,
   "id": "18db45b3",
   "metadata": {},
   "outputs": [],
   "source": [
    "# Solution goes here"
   ]
  },
  {
   "cell_type": "code",
   "execution_count": 88,
   "id": "5e0ad75b",
   "metadata": {},
   "outputs": [],
   "source": [
    "# Solution goes here"
   ]
  },
  {
   "cell_type": "markdown",
   "id": "e27da3a4",
   "metadata": {
    "tags": []
   },
   "source": [
    "[Think Stats: Exploratory Data Analysis in Python, 3rd Edition](https://allendowney.github.io/ThinkStats/index.html)\n",
    "\n",
    "Copyright 2024 [Allen B. Downey](https://allendowney.com)\n",
    "\n",
    "Code license: [MIT License](https://mit-license.org/)\n",
    "\n",
    "Text license: [Creative Commons Attribution-NonCommercial-ShareAlike 4.0 International](https://creativecommons.org/licenses/by-nc-sa/4.0/)"
   ]
  }
 ],
 "metadata": {
  "celltoolbar": "Tags",
  "kernelspec": {
   "display_name": "Python 3 (ipykernel)",
   "language": "python",
   "name": "python3"
  },
  "language_info": {
   "codemirror_mode": {
    "name": "ipython",
    "version": 3
   },
   "file_extension": ".py",
   "mimetype": "text/x-python",
   "name": "python",
   "nbconvert_exporter": "python",
   "pygments_lexer": "ipython3",
   "version": "3.10.14"
  }
 },
 "nbformat": 4,
 "nbformat_minor": 5
}
