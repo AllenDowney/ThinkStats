{
 "cells": [
  {
   "cell_type": "markdown",
   "id": "85c30bdb",
   "metadata": {},
   "source": [
    "# Exploratory data analysis"
   ]
  },
  {
   "cell_type": "code",
   "execution_count": 1,
   "id": "3bb1c675",
   "metadata": {},
   "outputs": [],
   "source": [
    "%load_ext nb_black\n",
    "%load_ext autoreload\n",
    "%autoreload 2\n"
   ]
  },
  {
   "cell_type": "code",
   "execution_count": 2,
   "id": "02d400cf",
   "metadata": {},
   "outputs": [],
   "source": [
    "from os.path import basename, exists\n",
    "\n",
    "\n",
    "def download(url):\n",
    "    filename = basename(url)\n",
    "    if not exists(filename):\n",
    "        from urllib.request import urlretrieve\n",
    "\n",
    "        local, _ = urlretrieve(url, filename)\n",
    "        print(\"Downloaded \" + local)\n",
    "\n",
    "\n",
    "download(\"https://github.com/AllenDowney/ThinkStats/raw/v3/nb/thinkstats2.py\")\n",
    "download(\"https://github.com/AllenDowney/ThinkStats/raw/v3/nb/thinkplot.py\")"
   ]
  },
  {
   "cell_type": "code",
   "execution_count": 3,
   "id": "6ee58aea",
   "metadata": {},
   "outputs": [],
   "source": [
    "download(\"https://github.com/AllenDowney/ThinkStats/raw/v3/nb/nsfg.py\")\n",
    "download(\"https://github.com/AllenDowney/ThinkStats/raw/v3/nb/2002FemPreg.dct\")\n",
    "download(\n",
    "    \"https://github.com/AllenDowney/ThinkStats/raw/v3/nb/2002FemPreg.dat.gz\"\n",
    ")"
   ]
  },
  {
   "cell_type": "markdown",
   "id": "9ebc865a",
   "metadata": {},
   "source": [
    "The thesis of this book is that data combined with practical methods can\n",
    "answer questions and guide decisions under uncertainty.\n",
    "\n",
    "As an example, I present a case study motivated by a question I heard\n",
    "when my wife and I were expecting our first child: do first babies tend\n",
    "to arrive late?\n",
    "\n",
    "If you Google this question, you will find plenty of discussion. Some\n",
    "people claim it's true, others say it's a myth, and some people say it's\n",
    "the other way around: first babies come early.\n",
    "\n",
    "In many of these discussions, people provide data to support their\n",
    "claims. I found many examples like these:\n",
    "\n",
    "> \"My two friends that have given birth recently to their first babies,\n",
    "> BOTH went almost 2 weeks overdue before going into labour or being\n",
    "> induced.\"\n",
    ">\n",
    "> \"My first one came 2 weeks late and now I think the second one is\n",
    "> going to come out two weeks early!!\"\n",
    ">\n",
    "> \"I don't think that can be true because my sister was my mother's\n",
    "> first and she was early, as with many of my cousins.\""
   ]
  },
  {
   "cell_type": "markdown",
   "id": "69f30de7",
   "metadata": {},
   "source": [
    "Reports like these are called **anecdotal evidence** because they are\n",
    "based on data that is unpublished and usually personal. In casual\n",
    "conversation, there is nothing wrong with anecdotes, so I don't mean to\n",
    "pick on the people I quoted.\n",
    "\n",
    "But we might want evidence that is more persuasive and an answer that is\n",
    "more reliable. By those standards, anecdotal evidence usually fails,\n",
    "because:\n",
    "\n",
    "-   Small number of observations: If pregnancy length is longer for\n",
    "    first babies, the difference is probably small compared to natural\n",
    "    variation. In that case, we might have to compare a large number of\n",
    "    pregnancies to be sure that a difference exists.\n",
    "\n",
    "-   Selection bias: People who join a discussion of this question might\n",
    "    be interested because their first babies were late. In that case the\n",
    "    process of selecting data would bias the results.\n",
    "\n",
    "-   Confirmation bias: People who believe the claim might be more likely\n",
    "    to contribute examples that confirm it. People who doubt the claim\n",
    "    are more likely to cite counterexamples.\n",
    "\n",
    "-   Inaccuracy: Anecdotes are often personal stories, and often\n",
    "    misremembered, misrepresented, repeated inaccurately, etc.\n",
    "\n",
    "So how can we do better?"
   ]
  },
  {
   "cell_type": "markdown",
   "id": "136480d4",
   "metadata": {},
   "source": [
    "## A statistical approach\n",
    "\n",
    "To address the limitations of anecdotes, we will use the tools of\n",
    "statistics, which include:\n",
    "\n",
    "-   Data collection: We will use data from a large national survey that\n",
    "    was designed explicitly with the goal of generating statistically\n",
    "    valid inferences about the U.S. population.\n",
    "\n",
    "-   Descriptive statistics: We will generate statistics that summarize\n",
    "    the data concisely, and evaluate different ways to visualize data.\n",
    "\n",
    "-   Exploratory data analysis: We will look for patterns, differences,\n",
    "    and other features that address the questions we are interested in.\n",
    "    At the same time we will check for inconsistencies and identify\n",
    "    limitations.\n",
    "\n",
    "-   Estimation: We will use data from a sample to estimate\n",
    "    characteristics of the general population.\n",
    "\n",
    "-   Hypothesis testing: Where we see apparent effects, like a difference\n",
    "    between two groups, we will evaluate whether the effect might have\n",
    "    happened by chance.\n",
    "\n",
    "By performing these steps with care to avoid pitfalls, we can reach\n",
    "conclusions that are more justifiable and more likely to be correct."
   ]
  },
  {
   "cell_type": "markdown",
   "id": "41d329e0",
   "metadata": {},
   "source": [
    "## The National Survey of Family Growth\n",
    "\n",
    "Since 1973 the U.S. Centers for Disease Control and Prevention (CDC)\n",
    "have conducted the National Survey of Family Growth (NSFG), which is\n",
    "intended to gather \"information on family life, marriage and divorce,\n",
    "pregnancy, infertility, use of contraception, and men's and women's\n",
    "health. The survey results are used...to plan health services and health\n",
    "education programs, and to do statistical studies of families,\n",
    "fertility, and health.\" See <http://cdc.gov/nchs/nsfg.htm>.\n",
    "\n",
    "We will use data collected by this survey to investigate whether first\n",
    "babies tend to come late, and other questions. In order to use this data\n",
    "effectively, we have to understand the design of the study.\n",
    "\n",
    "The NSFG is a **cross-sectional** study, which means that it captures a\n",
    "snapshot of a group at a point in time. The most common alternative is a\n",
    "**longitudinal** study, which observes a group repeatedly over a period\n",
    "of time.\n",
    "\n",
    "The NSFG has been conducted seven times; each deployment is called a\n",
    "**cycle**. We will use data from Cycle 6, which was conducted from\n",
    "January 2002 to March 2003."
   ]
  },
  {
   "cell_type": "markdown",
   "id": "11a17e85",
   "metadata": {},
   "source": [
    "The goal of the survey is to draw conclusions about a **population**;\n",
    "the target population of the NSFG is people in the United States aged\n",
    "15-44. Ideally surveys would collect data from every member of the\n",
    "population, but that's seldom possible. Instead we collect data from a\n",
    "subset of the population called a **sample**. The people who participate\n",
    "in a survey are called **respondents**.\n",
    "\n",
    "In general, cross-sectional studies are meant to be **representative**,\n",
    "which means that every member of the target population has an equal\n",
    "chance of participating. That ideal is hard to achieve in practice, but\n",
    "people who conduct surveys come as close as they can.\n",
    "\n",
    "The NSFG is not representative; instead it is deliberately\n",
    "**oversampled**. The designers of the study recruited three\n",
    "groups---Hispanics, African-Americans and teenagers---at rates higher\n",
    "than their representation in the U.S. population, in order to make sure\n",
    "that the number of respondents in each of these groups is large enough\n",
    "to draw valid statistical inferences.\n",
    "\n",
    "Of course, the drawback of oversampling is that it is not as easy to\n",
    "draw conclusions about the general population based on statistics from\n",
    "the survey. We will come back to this point later."
   ]
  },
  {
   "cell_type": "markdown",
   "id": "5908f497",
   "metadata": {},
   "source": [
    "When working with this kind of data, it is important to be familiar with\n",
    "the **codebook**, which documents the design of the study, the survey\n",
    "questions, and the encoding of the responses. The codebook and user's\n",
    "guide for the NSFG data are available from\n",
    "<http://www.cdc.gov/nchs/nsfg/nsfg_cycle6.htm>"
   ]
  },
  {
   "cell_type": "markdown",
   "id": "da1298b1",
   "metadata": {},
   "source": [
    "## Importing the data\n",
    "\n",
    "The code and data used in this book are available from\n",
    "<https://github.com/AllenDowney/ThinkStats2>. For information about\n",
    "downloading and working with this code, see\n",
    "Section [\\[code\\]](#code){reference-type=\"ref\" reference=\"code\"}.\n",
    "\n",
    "Once you download the code, you should have a file called\n",
    "`ThinkStats2/code/nsfg.py`. If you run it, it should read a data file,\n",
    "run some tests, and print a message like, \"All tests passed.\"\n",
    "\n",
    "Let's see what it does. Pregnancy data from Cycle 6 of the NSFG is in a\n",
    "file called `2002FemPreg.dat.gz`; it is a gzip-compressed data file in\n",
    "plain text (ASCII), with fixed width columns. Each line in the file is a\n",
    "**record** that contains data about one pregnancy.\n",
    "\n",
    "The format of the file is documented in `2002FemPreg.dct`, which is a\n",
    "Stata dictionary file. Stata is a statistical software system; a\n",
    "\"dictionary\" in this context is a list of variable names, types, and\n",
    "indices that identify where in each line to find each variable.\n",
    "\n",
    "For example, here are a few lines from `2002FemPreg.dct`:\n",
    "\n",
    "```\n",
    "infile dictionary {\n",
    "  _column(1)  str12  caseid    %12s  \"RESPONDENT ID NUMBER\"\n",
    "  _column(13) byte   pregordr   %2f  \"PREGNANCY ORDER (NUMBER)\"\n",
    "}\n",
    "```"
   ]
  },
  {
   "cell_type": "markdown",
   "id": "13928833",
   "metadata": {},
   "source": [
    "This dictionary describes two variables: `caseid` is a 12-character\n",
    "string that represents the respondent ID; `pregordr` is a one-byte\n",
    "integer that indicates which pregnancy this record describes for this\n",
    "respondent.\n",
    "\n",
    "The code you downloaded includes `thinkstats2.py`, which is a Python\n",
    "module that contains many classes and functions used in this book,\n",
    "including functions that read the Stata dictionary and the NSFG data\n",
    "file. Here's how they are used in `nsfg.py`:"
   ]
  },
  {
   "cell_type": "code",
   "execution_count": 4,
   "id": "8ec05bc6",
   "metadata": {},
   "outputs": [],
   "source": [
    "from thinkstats2 import read_stata_dct\n",
    "\n",
    "\n",
    "def read_fem_preg(dct_file=\"2002FemPreg.dct\", dat_file=\"2002FemPreg.dat.gz\"):\n",
    "    dct = read_stata_dct(dct_file)\n",
    "    df = dct.read_fixed_width(dat_file, compression=\"gzip\")\n",
    "    clean_fem_preg(df)\n",
    "    return df"
   ]
  },
  {
   "cell_type": "markdown",
   "id": "623703bf",
   "metadata": {},
   "source": [
    "`ReadStataDct` takes the name of the dictionary file and returns `dct`,\n",
    "a `FixedWidthVariables` object that contains the information from the\n",
    "dictionary file. `dct` provides `ReadFixedWidth`, which reads the data\n",
    "file."
   ]
  },
  {
   "cell_type": "markdown",
   "id": "8f164c4b",
   "metadata": {},
   "source": [
    "## DataFrames\n",
    "\n",
    "The result of `ReadFixedWidth` is a DataFrame, which is the fundamental\n",
    "data structure provided by pandas, which is a Python data and statistics\n",
    "package we'll use throughout this book. A DataFrame contains a row for\n",
    "each record, in this case one row per pregnancy, and a column for each\n",
    "variable.\n",
    "\n",
    "In addition to the data, a DataFrame also contains the variable names\n",
    "and their types, and it provides methods for accessing and modifying the\n",
    "data.\n",
    "\n",
    "If you print `preg` you get a truncated view of the rows and columns, and\n",
    "the shape of the DataFrame, which is 13593 rows/records and 244\n",
    "columns/variables."
   ]
  },
  {
   "cell_type": "code",
   "execution_count": 5,
   "id": "87e0bfbc",
   "metadata": {},
   "outputs": [],
   "source": [
    "import nsfg\n",
    "\n",
    "preg = nsfg.read_fem_preg()\n",
    "preg"
   ]
  },
  {
   "cell_type": "markdown",
   "id": "91e89750",
   "metadata": {},
   "source": [
    "The DataFrame is too big to display, so the output is truncated. The\n",
    "last line reports the number of rows and columns.\n",
    "\n",
    "The attribute `columns` returns a sequence of column names as Unicode\n",
    "strings:"
   ]
  },
  {
   "cell_type": "code",
   "execution_count": 6,
   "id": "b3e50782",
   "metadata": {},
   "outputs": [],
   "source": [
    "preg.columns"
   ]
  },
  {
   "cell_type": "markdown",
   "id": "4a396756",
   "metadata": {},
   "source": [
    "The result is an Index, which is another pandas data structure. We'll\n",
    "learn more about Index later, but for now we'll treat it like a list:"
   ]
  },
  {
   "cell_type": "code",
   "execution_count": 7,
   "id": "3ca1b9a6",
   "metadata": {},
   "outputs": [],
   "source": [
    "preg.columns[1]"
   ]
  },
  {
   "cell_type": "markdown",
   "id": "e82ef6e6",
   "metadata": {},
   "source": [
    "To access a column from a DataFrame, you can use the column name as a\n",
    "key:"
   ]
  },
  {
   "cell_type": "code",
   "execution_count": 8,
   "id": "e7dbfce1",
   "metadata": {},
   "outputs": [],
   "source": [
    "pregordr = preg[\"pregordr\"]\n",
    "type(pregordr)"
   ]
  },
  {
   "cell_type": "markdown",
   "id": "aad9af2d",
   "metadata": {},
   "source": [
    "The result is a Series, yet another pandas data structure. A Series is\n",
    "like a Python list with some additional features. When you print a\n",
    "Series, you get the indices and the corresponding values:"
   ]
  },
  {
   "cell_type": "code",
   "execution_count": 9,
   "id": "189b4869",
   "metadata": {},
   "outputs": [],
   "source": [
    "pregordr"
   ]
  },
  {
   "cell_type": "markdown",
   "id": "1862cdfe",
   "metadata": {},
   "source": [
    "In this example the indices are integers from 0 to 13592, but in general\n",
    "they can be any sortable type. The elements are also integers, but they\n",
    "can be any type.\n",
    "\n",
    "The last line includes the variable name, Series length, and data type;\n",
    "`int64` is one of the types provided by NumPy. If you run this example\n",
    "on a 32-bit machine you might see `int32`.\n",
    "\n",
    "You can access the elements of a Series using integer indices and\n",
    "slices:"
   ]
  },
  {
   "cell_type": "code",
   "execution_count": 10,
   "id": "b2b489c3",
   "metadata": {},
   "outputs": [],
   "source": [
    "pregordr[0]"
   ]
  },
  {
   "cell_type": "code",
   "execution_count": 11,
   "id": "480195c8",
   "metadata": {},
   "outputs": [],
   "source": [
    "pregordr[2:5]"
   ]
  },
  {
   "cell_type": "markdown",
   "id": "60f4cf6e",
   "metadata": {},
   "source": [
    "The result of the index operator is an `int64`; the result of the slice\n",
    "is another Series.\n",
    "\n",
    "You can also access the columns of a DataFrame using dot notation:"
   ]
  },
  {
   "cell_type": "code",
   "execution_count": 12,
   "id": "30be7d51",
   "metadata": {},
   "outputs": [],
   "source": [
    "pregordr = preg.pregordr"
   ]
  },
  {
   "cell_type": "markdown",
   "id": "004fc389",
   "metadata": {},
   "source": [
    "This notation only works if the column name is a valid Python\n",
    "identifier, so it has to begin with a letter, can't contain spaces, etc."
   ]
  },
  {
   "cell_type": "markdown",
   "id": "01847dd9",
   "metadata": {},
   "source": [
    "## Variables\n",
    "\n",
    "We have already seen two variables in the NSFG dataset, `caseid` and\n",
    "`pregordr`, and we have seen that there are 244 variables in total. For\n",
    "the explorations in this book, I use the following variables:\n",
    "\n",
    "-   `caseid` is the integer ID of the respondent.\n",
    "\n",
    "-   `prglngth` is the integer duration of the pregnancy in weeks.\n",
    "\n",
    "-   `outcome` is an integer code for the outcome of the pregnancy. The\n",
    "    code 1 indicates a live birth.\n",
    "\n",
    "-   `pregordr` is a pregnancy serial number; for example, the code for a\n",
    "    respondent's first pregnancy is 1, for the second pregnancy is 2,\n",
    "    and so on.\n",
    "\n",
    "-   `birthord` is a serial number for live births; the code for a\n",
    "    respondent's first child is 1, and so on. For outcomes other than\n",
    "    live birth, this field is blank.\n",
    "\n",
    "-   `birthwgt_lb` and `birthwgt_oz` contain the pounds and ounces parts\n",
    "    of the birth weight of the baby.\n",
    "\n",
    "-   `agepreg` is the mother's age at the end of the pregnancy.\n",
    "\n",
    "-   `finalwgt` is the statistical weight associated with the respondent.\n",
    "    It is a floating-point value that indicates the number of people in\n",
    "    the U.S. population this respondent represents."
   ]
  },
  {
   "cell_type": "markdown",
   "id": "37c86aa9",
   "metadata": {},
   "source": [
    "If you read the codebook carefully, you will see that many of the\n",
    "variables are **recodes**, which means that they are not part of the\n",
    "**raw data** collected by the survey; they are calculated using the raw\n",
    "data.\n",
    "\n",
    "For example, `prglngth` for live births is equal to the raw variable\n",
    "`wksgest` (weeks of gestation) if it is available; otherwise it is\n",
    "estimated using `mosgest * 4.33` (months of gestation times the average\n",
    "number of weeks in a month).\n",
    "\n",
    "Recodes are often based on logic that checks the consistency and\n",
    "accuracy of the data. In general it is a good idea to use recodes when\n",
    "they are available, unless there is a compelling reason to process the\n",
    "raw data yourself."
   ]
  },
  {
   "cell_type": "markdown",
   "id": "fdf027c2",
   "metadata": {},
   "source": [
    "## Transformation\n",
    "\n",
    "When you import data like this, you often have to check for errors, deal\n",
    "with special values, convert data into different formats, and perform\n",
    "calculations. These operations are called **data cleaning**.\n",
    "\n",
    "`nsfg.py` includes `CleanFemPreg`, a function that cleans the variables\n",
    "I am planning to use."
   ]
  },
  {
   "cell_type": "code",
   "execution_count": 13,
   "id": "9f3c9f8f",
   "metadata": {},
   "outputs": [],
   "source": [
    "def clean_fem_preg(df):\n",
    "    df.agepreg /= 100.0\n",
    "    na_vals = [97, 98, 99]\n",
    "    df[\"birthwgt_lb\"] = df.birthwgt_lb.replace(na_vals, np.nan)\n",
    "    df[\"birthwgt_oz\"] = df.birthwgt_oz.replace(na_vals, np.nan)\n",
    "    df[\"totalwgt_lb\"] = df.birthwgt_lb + df.birthwgt_oz / 16.0"
   ]
  },
  {
   "cell_type": "markdown",
   "id": "bdeeec8f",
   "metadata": {},
   "source": [
    "`agepreg` contains the mother's age at the end of the pregnancy. In the\n",
    "data file, `agepreg` is encoded as an integer number of centiyears. So\n",
    "the first line divides each element of `agepreg` by 100, yielding a\n",
    "floating-point value in years.\n",
    "\n",
    "`birthwgt_lb` and `birthwgt_oz` contain the weight of the baby, in\n",
    "pounds and ounces, for pregnancies that end in live birth. In addition\n",
    "it uses several special codes:"
   ]
  },
  {
   "cell_type": "raw",
   "id": "a5ba7cc4",
   "metadata": {},
   "source": [
    "97      NOT ASCERTAINED\n",
    "98      REFUSED\n",
    "99      DON'T KNOW"
   ]
  },
  {
   "cell_type": "markdown",
   "id": "b7fedf29",
   "metadata": {},
   "source": [
    "Special values encoded as numbers are *dangerous* because if they are\n",
    "not handled properly, they can generate bogus results, like a 99-pound\n",
    "baby. The `replace` method replaces these values with `np.nan`, a\n",
    "special floating-point value that represents \"not a number.\"\n",
    "\n",
    "As part of the IEEE floating-point standard, all mathematical operations\n",
    "return `nan` if either argument is `nan`:"
   ]
  },
  {
   "cell_type": "code",
   "execution_count": 14,
   "id": "017961a5",
   "metadata": {},
   "outputs": [],
   "source": [
    "import numpy as np\n",
    "\n",
    "np.nan / 100.0"
   ]
  },
  {
   "cell_type": "markdown",
   "id": "a3f5f97b",
   "metadata": {},
   "source": [
    "So computations with `nan` tend to do the right thing, and most pandas\n",
    "functions handle `nan` appropriately. But dealing with missing data will\n",
    "be a recurring issue.\n",
    "\n",
    "The last line of `CleanFemPreg` creates a new column `totalwgt_lb` that\n",
    "combines pounds and ounces into a single quantity, in pounds.\n",
    "\n",
    "One important note: when you add a new column to a DataFrame, you must\n",
    "use dictionary syntax, like this"
   ]
  },
  {
   "cell_type": "code",
   "execution_count": 15,
   "id": "6376386f",
   "metadata": {},
   "outputs": [],
   "source": [
    "preg[\"totalwgt_lb\"] = preg.birthwgt_lb + preg.birthwgt_oz / 16.0"
   ]
  },
  {
   "cell_type": "markdown",
   "id": "3f37b46a",
   "metadata": {},
   "source": [
    "Not dot notation, like this:"
   ]
  },
  {
   "cell_type": "raw",
   "id": "ee7b53a0",
   "metadata": {},
   "source": [
    "# WRONG!\n",
    "preg.totalwgt_lb = preg.birthwgt_lb + preg.birthwgt_oz / 16.0 "
   ]
  },
  {
   "cell_type": "markdown",
   "id": "1466aba3",
   "metadata": {},
   "source": [
    "The version with dot notation adds an attribute to the DataFrame object,\n",
    "but that attribute is not treated as a new column."
   ]
  },
  {
   "cell_type": "markdown",
   "id": "ca667a83",
   "metadata": {},
   "source": [
    "## Validation\n",
    "\n",
    "When data is exported from one software environment and imported into\n",
    "another, errors might be introduced. And when you are getting familiar\n",
    "with a new dataset, you might interpret data incorrectly or introduce\n",
    "other misunderstandings. If you take time to validate the data, you can\n",
    "save time later and avoid errors.\n",
    "\n",
    "One way to validate data is to compute basic statistics and compare them\n",
    "with published results. For example, the NSFG codebook includes tables\n",
    "that summarize each variable. Here is the table for `outcome`, which\n",
    "encodes the outcome of each pregnancy:"
   ]
  },
  {
   "cell_type": "raw",
   "id": "ea478208",
   "metadata": {},
   "source": [
    "value   label                  Total\n",
    "1       LIVE BIRTH              9148\n",
    "2       INDUCED ABORTION        1862\n",
    "3       STILLBIRTH               120\n",
    "4       MISCARRIAGE             1921\n",
    "5       ECTOPIC PREGNANCY        190\n",
    "6       CURRENT PREGNANCY        352"
   ]
  },
  {
   "cell_type": "markdown",
   "id": "cb9d01a0",
   "metadata": {},
   "source": [
    "The Series class provides a method, `value_counts`, that counts the\n",
    "number of times each value appears. If we select the `outcome` Series\n",
    "from the DataFrame, we can use `value_counts` to compare with the\n",
    "published data:"
   ]
  },
  {
   "cell_type": "code",
   "execution_count": 16,
   "id": "61fc2a3d",
   "metadata": {},
   "outputs": [],
   "source": [
    "preg.outcome.value_counts().sort_index()"
   ]
  },
  {
   "cell_type": "markdown",
   "id": "d57f49ea",
   "metadata": {},
   "source": [
    "The result of `value_counts` is a Series; `sort_index()` sorts the\n",
    "Series by index, so the values appear in order.\n",
    "\n",
    "Comparing the results with the published table, it looks like the values\n",
    "in `outcome` are correct. Similarly, here is the published table for\n",
    "`birthwgt_lb`"
   ]
  },
  {
   "cell_type": "raw",
   "id": "a6771a9d",
   "metadata": {},
   "source": [
    "value   label                  Total\n",
    ".       INAPPLICABLE            4449\n",
    "0-5     UNDER 6 POUNDS          1125\n",
    "6       6 POUNDS                2223\n",
    "7       7 POUNDS                3049\n",
    "8       8 POUNDS                1889\n",
    "9-95    9 POUNDS OR MORE         799"
   ]
  },
  {
   "cell_type": "markdown",
   "id": "afccd71b",
   "metadata": {},
   "source": [
    "And here are the value counts:"
   ]
  },
  {
   "cell_type": "code",
   "execution_count": 17,
   "id": "c2cdb474",
   "metadata": {},
   "outputs": [],
   "source": [
    "preg.birthwgt_lb.value_counts().sort_index()"
   ]
  },
  {
   "cell_type": "markdown",
   "id": "ca21655d",
   "metadata": {},
   "source": [
    "The counts for 6, 7, and 8 pounds check out, and if you add up the\n",
    "counts for 0-5 and 9-95, they check out, too. But if you look more\n",
    "closely, you will notice one value that has to be an error, a 51 pound\n",
    "baby!\n",
    "\n",
    "To deal with this error, I added a line to `CleanFemPreg`:"
   ]
  },
  {
   "cell_type": "code",
   "execution_count": 18,
   "id": "bc5c2351",
   "metadata": {},
   "outputs": [],
   "source": [
    "preg.loc[preg.birthwgt_lb > 20, \"birthwgt_lb\"] = np.nan"
   ]
  },
  {
   "cell_type": "markdown",
   "id": "cab151e6",
   "metadata": {},
   "source": [
    "This statement replaces invalid values with `np.nan`. The attribute\n",
    "`loc` provides several ways to select rows and columns from a DataFrame.\n",
    "In this example, the first expression in brackets is the row indexer;\n",
    "the second expression selects the column.\n",
    "\n",
    "The expression `preg.birthwgt_lb > 20` yields a Series of type `bool`,\n",
    "where True indicates that the condition is true. When a boolean Series\n",
    "is used as an index, it selects only the elements that satisfy the\n",
    "condition."
   ]
  },
  {
   "cell_type": "markdown",
   "id": "4234e27e",
   "metadata": {},
   "source": [
    "## Interpretation\n",
    "\n",
    "To work with data effectively, you have to think on two levels at the\n",
    "same time: the level of statistics and the level of context.\n",
    "\n",
    "As an example, let's look at the sequence of outcomes for a few\n",
    "respondents. Because of the way the data files are organized, we have to\n",
    "do some processing to collect the pregnancy data for each respondent.\n",
    "Here's a function that does that:"
   ]
  },
  {
   "cell_type": "code",
   "execution_count": 19,
   "id": "aa1a58ee",
   "metadata": {},
   "outputs": [],
   "source": [
    "def make_preg_map(df):\n",
    "    d = defaultdict(list)\n",
    "    for index, caseid in df.caseid.iteritems():\n",
    "        d[caseid].append(index)\n",
    "    return d"
   ]
  },
  {
   "cell_type": "markdown",
   "id": "3c77c46f",
   "metadata": {},
   "source": [
    "`df` is the DataFrame with pregnancy data. The `iteritems` method\n",
    "enumerates the index (row number) and `caseid` for each pregnancy.\n",
    "\n",
    "`d` is a dictionary that maps from each case ID to a list of indices. If\n",
    "you are not familiar with `defaultdict`, it is in the Python\n",
    "`collections` module. Using `d`, we can look up a respondent and get the\n",
    "indices of that respondent's pregnancies.\n",
    "\n",
    "This example looks up one respondent and prints a list of outcomes for\n",
    "her pregnancies:"
   ]
  },
  {
   "cell_type": "code",
   "execution_count": 20,
   "id": "e4d4907d",
   "metadata": {},
   "outputs": [],
   "source": [
    "caseid = 10229\n",
    "preg_map = nsfg.make_preg_map(preg)\n",
    "indices = preg_map[caseid]\n",
    "preg.outcome[indices].values"
   ]
  },
  {
   "cell_type": "markdown",
   "id": "0c5ef31b",
   "metadata": {},
   "source": [
    "`indices` is the list of indices for pregnancies corresponding to\n",
    "respondent `10229`.\n",
    "\n",
    "Using this list as an index into `df.outcome` selects the indicated rows\n",
    "and yields a Series. Instead of printing the whole Series, I selected\n",
    "the `values` attribute, which is a NumPy array.\n",
    "\n",
    "The outcome code `1` indicates a live birth. Code `4` indicates a\n",
    "miscarriage; that is, a pregnancy that ended spontaneously, usually with\n",
    "no known medical cause.\n",
    "\n",
    "Statistically this respondent is not unusual. Miscarriages are common\n",
    "and there are other respondents who reported as many or more.\n",
    "\n",
    "But remembering the context, this data tells the story of a woman who\n",
    "was pregnant six times, each time ending in miscarriage. Her seventh and\n",
    "most recent pregnancy ended in a live birth. If we consider this data\n",
    "with empathy, it is natural to be moved by the story it tells.\n",
    "\n",
    "Each record in the NSFG dataset represents a person who provided honest\n",
    "answers to many personal and difficult questions. We can use this data\n",
    "to answer statistical questions about family life, reproduction, and\n",
    "health. At the same time, we have an obligation to consider the people\n",
    "represented by the data, and to afford them respect and gratitude."
   ]
  },
  {
   "cell_type": "markdown",
   "id": "3b3f8c2a",
   "metadata": {
    "collapsed": true
   },
   "source": [
    "## Exercises"
   ]
  },
  {
   "cell_type": "markdown",
   "id": "bd7b7186",
   "metadata": {},
   "source": [
    "Select the `birthord` column, print the value counts, and compare to results published in the [codebook](https://ftp.cdc.gov/pub/Health_Statistics/NCHS/Dataset_Documentation/NSFG/Cycle6Codebook-Pregnancy.pdf)"
   ]
  },
  {
   "cell_type": "code",
   "execution_count": 21,
   "id": "56d89965",
   "metadata": {},
   "outputs": [],
   "source": [
    "preg.birthord.value_counts().sort_index()"
   ]
  },
  {
   "cell_type": "markdown",
   "id": "e99e51a6",
   "metadata": {},
   "source": [
    "We can also use `isnull` to count the number of nans."
   ]
  },
  {
   "cell_type": "code",
   "execution_count": 22,
   "id": "d5c78cde",
   "metadata": {},
   "outputs": [],
   "source": [
    "preg.birthord.isnull().sum()"
   ]
  },
  {
   "cell_type": "markdown",
   "id": "90fd57dd",
   "metadata": {},
   "source": [
    "Select the `prglngth` column, print the value counts, and compare to results published in the [codebook](https://ftp.cdc.gov/pub/Health_Statistics/NCHS/Dataset_Documentation/NSFG/Cycle6Codebook-Pregnancy.pdf)"
   ]
  },
  {
   "cell_type": "code",
   "execution_count": 23,
   "id": "31e19635",
   "metadata": {},
   "outputs": [],
   "source": [
    "preg.prglngth.value_counts().sort_index()"
   ]
  },
  {
   "cell_type": "markdown",
   "id": "4deb5975",
   "metadata": {},
   "source": [
    "To compute the mean of a column, you can invoke the `mean` method on a Series.  For example, here is the mean birthweight in pounds:"
   ]
  },
  {
   "cell_type": "code",
   "execution_count": 24,
   "id": "e455ff63",
   "metadata": {},
   "outputs": [],
   "source": [
    "preg.totalwgt_lb.mean()"
   ]
  },
  {
   "cell_type": "markdown",
   "id": "4a6aabaa",
   "metadata": {},
   "source": [
    "Create a new column named <tt>totalwgt_kg</tt> that contains birth weight in kilograms.  Compute its mean.  Remember that when you create a new column, you have to use dictionary syntax, not dot notation."
   ]
  },
  {
   "cell_type": "code",
   "execution_count": 25,
   "id": "009d0f95",
   "metadata": {},
   "outputs": [],
   "source": [
    "preg[\"totalwgt_kg\"] = preg.totalwgt_lb / 2.2\n",
    "preg.totalwgt_kg.mean()"
   ]
  },
  {
   "cell_type": "markdown",
   "id": "55f290fa",
   "metadata": {},
   "source": [
    "`nsfg.py` also provides `ReadFemResp`, which reads the female respondents file and returns a `DataFrame`:"
   ]
  },
  {
   "cell_type": "code",
   "execution_count": 26,
   "id": "7a6efd3f",
   "metadata": {},
   "outputs": [],
   "source": [
    "download(\"https://github.com/AllenDowney/ThinkStats/raw/v3/nb/2002FemResp.dct\")\n",
    "download(\n",
    "    \"https://github.com/AllenDowney/ThinkStats/raw/v3/nb/2002FemResp.dat.gz\"\n",
    ")"
   ]
  },
  {
   "cell_type": "code",
   "execution_count": 27,
   "id": "1998580f",
   "metadata": {},
   "outputs": [],
   "source": [
    "resp = nsfg.read_fem_resp()"
   ]
  },
  {
   "cell_type": "markdown",
   "id": "3d02885c",
   "metadata": {},
   "source": [
    "`DataFrame` provides a method `head` that displays the first five rows:"
   ]
  },
  {
   "cell_type": "code",
   "execution_count": 28,
   "id": "9c9929b4",
   "metadata": {},
   "outputs": [],
   "source": [
    "resp.head()"
   ]
  },
  {
   "cell_type": "markdown",
   "id": "f3cf1ff0",
   "metadata": {},
   "source": [
    "Select the `age_r` column from `resp` and print the value counts.  How old are the youngest and oldest respondents?"
   ]
  },
  {
   "cell_type": "code",
   "execution_count": 29,
   "id": "13b80162",
   "metadata": {},
   "outputs": [],
   "source": [
    "resp.age_r.value_counts().sort_index()"
   ]
  },
  {
   "cell_type": "markdown",
   "id": "ee9bc52d",
   "metadata": {},
   "source": [
    "We can use the `caseid` to match up rows from `resp` and `preg`.  For example, we can select the row from `resp` for `caseid` 2298 like this:"
   ]
  },
  {
   "cell_type": "code",
   "execution_count": 30,
   "id": "f67bfd31",
   "metadata": {},
   "outputs": [],
   "source": [
    "resp[resp.caseid == 2298]"
   ]
  },
  {
   "cell_type": "markdown",
   "id": "0164c24c",
   "metadata": {},
   "source": [
    "And we can get the corresponding rows from `preg` like this:"
   ]
  },
  {
   "cell_type": "code",
   "execution_count": 31,
   "id": "69de50aa",
   "metadata": {},
   "outputs": [],
   "source": [
    "preg[preg.caseid == 2298]"
   ]
  },
  {
   "cell_type": "markdown",
   "id": "315fbb82",
   "metadata": {},
   "source": [
    "How old is the respondent with `caseid` 1?"
   ]
  },
  {
   "cell_type": "code",
   "execution_count": 32,
   "id": "d7dafb41",
   "metadata": {},
   "outputs": [],
   "source": [
    "resp[resp.caseid == 1].age_r"
   ]
  },
  {
   "cell_type": "markdown",
   "id": "1d7c82ef",
   "metadata": {},
   "source": [
    "What are the pregnancy lengths for the respondent with `caseid` 2298?"
   ]
  },
  {
   "cell_type": "code",
   "execution_count": 33,
   "id": "5c0a6ab2",
   "metadata": {},
   "outputs": [],
   "source": [
    "preg[preg.caseid == 2298].prglngth"
   ]
  },
  {
   "cell_type": "markdown",
   "id": "a205c407",
   "metadata": {},
   "source": [
    "What was the birthweight of the first baby born to the respondent with `caseid` 5013?"
   ]
  },
  {
   "cell_type": "code",
   "execution_count": 34,
   "id": "5ae4cc07",
   "metadata": {},
   "outputs": [],
   "source": [
    "preg[preg.caseid == 5013].birthwgt_lb"
   ]
  },
  {
   "cell_type": "code",
   "execution_count": 35,
   "id": "976b0dbd",
   "metadata": {},
   "outputs": [],
   "source": [
    "preg[(preg.caseid == 5013) & (preg.pregordr == 1)].birthwgt_lb"
   ]
  },
  {
   "cell_type": "markdown",
   "id": "0dc5d50f",
   "metadata": {},
   "source": [
    "Examples and Exercises from Think Stats, 2nd Edition\n",
    "\n",
    "http://thinkstats2.com\n",
    "\n",
    "Copyright 2016 Allen B. Downey\n",
    "\n",
    "MIT License: https://opensource.org/licenses/MIT"
   ]
  },
  {
   "cell_type": "code",
   "execution_count": null,
   "id": "c2fdd906",
   "metadata": {},
   "outputs": [],
   "source": []
  }
 ],
 "metadata": {
  "kernelspec": {
   "display_name": "Python 3 (ipykernel)",
   "language": "python",
   "name": "python3"
  },
  "language_info": {
   "codemirror_mode": {
    "name": "ipython",
    "version": 3
   },
   "file_extension": ".py",
   "mimetype": "text/x-python",
   "name": "python",
   "nbconvert_exporter": "python",
   "pygments_lexer": "ipython3",
   "version": "3.10.14"
  }
 },
 "nbformat": 4,
 "nbformat_minor": 5
}
