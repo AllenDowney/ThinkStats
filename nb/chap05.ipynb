{
 "cells": [
  {
   "cell_type": "markdown",
   "id": "129937c8",
   "metadata": {},
   "source": [
    "# Modeling distributions\n",
    "\n",
    "The distributions we have used so far are called **empirical\n",
    "distributions** because they are based on empirical observations, which\n",
    "are necessarily finite samples.\n",
    "\n",
    "The alternative is an **analytic distribution**, which is characterized\n",
    "by a CDF that is a mathematical function. Analytic distributions can be\n",
    "used to model empirical distributions. In this context, a **model** is a\n",
    "simplification that leaves out unneeded details. This chapter presents\n",
    "common analytic distributions and uses them to model data from a variety\n",
    "of sources."
   ]
  },
  {
   "cell_type": "code",
   "execution_count": 1,
   "id": "904b3e96",
   "metadata": {},
   "outputs": [],
   "source": [
    "%load_ext nb_black\n",
    "%load_ext autoreload\n",
    "%autoreload 2\n"
   ]
  },
  {
   "cell_type": "code",
   "execution_count": 2,
   "id": "41ffa5f5",
   "metadata": {},
   "outputs": [],
   "source": [
    "from os.path import basename, exists\n",
    "\n",
    "\n",
    "def download(url):\n",
    "    filename = basename(url)\n",
    "    if not exists(filename):\n",
    "        from urllib.request import urlretrieve\n",
    "\n",
    "        local, _ = urlretrieve(url, filename)\n",
    "        print(\"Downloaded \" + local)\n",
    "\n",
    "\n",
    "download(\"https://github.com/AllenDowney/ThinkStats2/raw/master/code/thinkstats2.py\")\n",
    "download(\"https://github.com/AllenDowney/ThinkStats2/raw/master/code/thinkplot.py\")"
   ]
  },
  {
   "cell_type": "code",
   "execution_count": 3,
   "id": "9fb94810",
   "metadata": {},
   "outputs": [],
   "source": [
    "import numpy as np\n",
    "import thinkstats2\n",
    "import thinkplot"
   ]
  },
  {
   "cell_type": "markdown",
   "id": "50b350db",
   "metadata": {},
   "source": [
    "## The exponential distribution"
   ]
  },
  {
   "cell_type": "markdown",
   "id": "aa0bab15",
   "metadata": {},
   "source": [
    "I'll start with the **exponential distribution** because it is\n",
    "relatively simple. The CDF of the exponential distribution is\n",
    "$$CDF(x) = 1 - e^{-\\lambda x}$$ The parameter, $\\lambda$, determines\n",
    "the shape of the distribution.\n",
    "\n",
    "The following figure shows what this CDF looks like with $\\lambda =$ 0.5, 1, and 2."
   ]
  },
  {
   "cell_type": "code",
   "execution_count": 4,
   "id": "571e2b78",
   "metadata": {},
   "outputs": [],
   "source": [
    "thinkplot.pre_plot(3)\n",
    "for lam in [2.0, 1, 0.5]:\n",
    "    xs, ps = thinkstats2.render_expo_cdf(lam, 0, 3.0, 50)\n",
    "    label = \"$\\\\lambda=%g$\" % lam\n",
    "    thinkplot.plot(xs, ps, label=label)\n",
    "thinkplot.config(title=\"Exponential CDF\", xlabel=\"x\", ylabel=\"CDF\", loc=\"lower right\")"
   ]
  },
  {
   "cell_type": "markdown",
   "id": "585cdd49",
   "metadata": {},
   "source": [
    "In the real world, exponential distributions come up when we look at a\n",
    "series of events and measure the times between events, called\n",
    "**interarrival times**. If the events are equally likely to occur at any\n",
    "time, the distribution of interarrival times tends to look like an\n",
    "exponential distribution.\n",
    "\n",
    "As an example, we will look at the interarrival time of births. On\n",
    "December 18, 1997, 44 babies were born in a hospital in Brisbane,\n",
    "Australia.[^1] The time of birth for all 44 babies was reported in the\n",
    "local paper; the complete dataset is in a file called `babyboom.dat`, in\n",
    "the `ThinkStats2` repository."
   ]
  },
  {
   "cell_type": "code",
   "execution_count": 5,
   "id": "ad843bd3",
   "metadata": {},
   "outputs": [],
   "source": [
    "download(\"https://github.com/AllenDowney/ThinkStats2/raw/master/code/babyboom.dat\")"
   ]
  },
  {
   "cell_type": "code",
   "execution_count": 6,
   "id": "50298fb3",
   "metadata": {},
   "outputs": [],
   "source": [
    "df = thinkstats2.read_baby_boom()\n",
    "diffs = df.minutes.diff()\n",
    "cdf = thinkstats2.Cdf(diffs, label=\"actual\")\n",
    "thinkplot.cdf(cdf)\n",
    "thinkplot.show(xlabel=\"minutes\", ylabel=\"CDF\")"
   ]
  },
  {
   "cell_type": "markdown",
   "id": "5bd6ac6e",
   "metadata": {},
   "source": [
    "`ReadBabyBoom` reads the data file and returns a DataFrame with columns\n",
    "`time`, `sex`, `weight_g`, and `minutes`, where `minutes` is time of\n",
    "birth converted to minutes since midnight.\n",
    "\n",
    "\n",
    "`diffs` is the difference between consecutive birth times, and `cdf` is\n",
    "the distribution of these interarrival times.\n",
    "Figure [\\[analytic_interarrival_cdf\\]](#analytic_interarrival_cdf){reference-type=\"ref\"\n",
    "reference=\"analytic_interarrival_cdf\"} (left) shows the CDF. It seems to\n",
    "have the general shape of an exponential distribution, but how can we\n",
    "tell?\n",
    "\n",
    "One way is to plot the **complementary CDF**, which is $1 - CDF(x)$, on\n",
    "a log-y scale. For data from an exponential distribution, the result is\n",
    "a straight line. Let's see why that works.\n",
    "\n",
    "If you plot the complementary CDF (CCDF) of a dataset that you think is\n",
    "exponential, you expect to see a function like:\n",
    "$$y \\approx e^{-\\lambda x}$$ Taking the log of both sides yields:\n",
    "$$\\log y \\approx -\\lambda x$$ So on a log-y scale the CCDF is a straight\n",
    "line with slope $-\\lambda$. Here's how we can generate a plot like that:"
   ]
  },
  {
   "cell_type": "code",
   "execution_count": 7,
   "id": "aaaf89d3",
   "metadata": {},
   "outputs": [],
   "source": [
    "thinkplot.cdf(cdf, complement=True)\n",
    "thinkplot.show(xlabel=\"minutes\", ylabel=\"CCDF\", yscale=\"log\")"
   ]
  },
  {
   "cell_type": "markdown",
   "id": "0bf0334d",
   "metadata": {},
   "source": [
    "With the argument `complement=True`, `thinkplot.Cdf` computes the\n",
    "complementary CDF before plotting. And with `yscale='log'`,\n",
    "`thinkplot.Show` sets the `y` axis to a logarithmic scale.\n",
    "\n",
    "Figure [\\[analytic_interarrival_cdf\\]](#analytic_interarrival_cdf){reference-type=\"ref\"\n",
    "reference=\"analytic_interarrival_cdf\"} (right) shows the result. It is\n",
    "not exactly straight, which indicates that the exponential distribution\n",
    "is not a perfect model for this data. Most likely the underlying\n",
    "assumption---that a birth is equally likely at any time of day---is not\n",
    "exactly true. Nevertheless, it might be reasonable to model this dataset\n",
    "with an exponential distribution. With that simplification, we can\n",
    "summarize the distribution with a single parameter.\n",
    "\n",
    "The parameter, $\\lambda$, can be interpreted as a rate; that is, the\n",
    "number of events that occur, on average, in a unit of time. In this\n",
    "example, 44 babies are born in 24 hours, so the rate is $\\lambda =\n",
    "0.0306$ births per minute. The mean of an exponential distribution is\n",
    "$1/\\lambda$, so the mean time between births is 32.7 minutes."
   ]
  },
  {
   "cell_type": "markdown",
   "id": "85734123",
   "metadata": {},
   "source": [
    "## The normal distribution\n",
    "\n",
    "The **normal distribution**, also called Gaussian, is commonly used\n",
    "because it describes many phenomena, at least approximately. It turns\n",
    "out that there is a good reason for its ubiquity, which we will get to\n",
    "in Section [\\[CLT\\]](#CLT){reference-type=\"ref\" reference=\"CLT\"}."
   ]
  },
  {
   "cell_type": "markdown",
   "id": "26118498",
   "metadata": {},
   "source": [
    "The normal distribution is characterized by two parameters: the mean,\n",
    "$\\mu$, and standard deviation $\\sigma$. The normal distribution with\n",
    "$\\mu=0$ and $\\sigma=1$ is called the **standard normal distribution**.\n",
    "Its CDF is defined by an integral that does not have a closed form\n",
    "solution, but there are algorithms that evaluate it efficiently. One of\n",
    "them is provided by SciPy: `scipy.stats.norm` is an object that\n",
    "represents a normal distribution; it provides a method, `cdf`, that\n",
    "evaluates the standard normal CDF:"
   ]
  },
  {
   "cell_type": "code",
   "execution_count": 8,
   "id": "90141e7b",
   "metadata": {},
   "outputs": [],
   "source": [
    "import scipy.stats\n",
    "\n",
    "scipy.stats.norm.cdf(0)\n",
    "0.5"
   ]
  },
  {
   "cell_type": "markdown",
   "id": "49cce37a",
   "metadata": {},
   "source": [
    "This result is correct: the median of the standard normal distribution\n",
    "is 0 (the same as the mean), and half of the values fall below the\n",
    "median, so $CDF(0)$ is 0.5.\n",
    "\n",
    "`norm.cdf` takes optional parameters: `loc`, which specifies the mean,\n",
    "and `scale`, which specifies the standard deviation.\n",
    "\n",
    "`thinkstats2` makes this function a little easier to use by providing\n",
    "`EvalNormalCdf`, which takes parameters `mu` and `sigma` and evaluates\n",
    "the CDF at `x`:"
   ]
  },
  {
   "cell_type": "code",
   "execution_count": 9,
   "id": "f8b589a5",
   "metadata": {},
   "outputs": [],
   "source": [
    "def eval_normal_cdf(x, mu=0, sigma=1):\n",
    "    return scipy.stats.norm.cdf(x, loc=mu, scale=sigma)"
   ]
  },
  {
   "cell_type": "markdown",
   "id": "f4819e11",
   "metadata": {},
   "source": [
    "Figure [\\[analytic_gaussian_cdf\\]](#analytic_gaussian_cdf){reference-type=\"ref\"\n",
    "reference=\"analytic_gaussian_cdf\"} shows CDFs for normal distributions\n",
    "with a range of parameters. The sigmoid shape of these curves is a\n",
    "recognizable characteristic of a normal distribution."
   ]
  },
  {
   "cell_type": "code",
   "execution_count": 10,
   "id": "6fc8adae",
   "metadata": {},
   "outputs": [],
   "source": [
    "thinkplot.pre_plot(3)\n",
    "mus = [1.0, 2.0, 3.0]\n",
    "sigmas = [0.5, 0.4, 0.3]\n",
    "for mu, sigma in zip(mus, sigmas):\n",
    "    xs, ps = thinkstats2.render_normal_cdf(mu=mu, sigma=sigma, low=-1.0, high=4.0)\n",
    "    label = \"$\\\\mu=%g$, $\\\\sigma=%g$\" % (mu, sigma)\n",
    "    thinkplot.plot(xs, ps, label=label)\n",
    "thinkplot.config(title=\"Normal CDF\", xlabel=\"x\", ylabel=\"CDF\", loc=\"upper left\")"
   ]
  },
  {
   "cell_type": "markdown",
   "id": "a5e0586f",
   "metadata": {},
   "source": [
    "In the previous chapter we looked at the distribution of birth weights\n",
    "in the NSFG.\n",
    "Figure [\\[analytic_birthwgt_model\\]](#analytic_birthwgt_model){reference-type=\"ref\"\n",
    "reference=\"analytic_birthwgt_model\"} shows the empirical CDF of weights\n",
    "for all live births and the CDF of a normal distribution with the same\n",
    "mean and variance."
   ]
  },
  {
   "cell_type": "code",
   "execution_count": 11,
   "id": "5486a05a",
   "metadata": {},
   "outputs": [],
   "source": [
    "download(\"https://github.com/AllenDowney/ThinkStats2/raw/master/code/nsfg.py\")\n",
    "download(\"https://github.com/AllenDowney/ThinkStats2/raw/master/code/2002FemPreg.dct\")\n",
    "download(\n",
    "    \"https://github.com/AllenDowney/ThinkStats2/raw/master/code/2002FemPreg.dat.gz\"\n",
    ")"
   ]
  },
  {
   "cell_type": "code",
   "execution_count": 12,
   "id": "8a65ba55",
   "metadata": {},
   "outputs": [],
   "source": [
    "import nsfg\n",
    "\n",
    "preg = nsfg.read_fem_preg()\n",
    "weights = preg.totalwgt_lb.dropna()"
   ]
  },
  {
   "cell_type": "code",
   "execution_count": 13,
   "id": "6b1ecbb0",
   "metadata": {},
   "outputs": [],
   "source": [
    "mu, var = thinkstats2.trimmed_mean_var(weights, p=0.01)\n",
    "print(\"Mean, Var\", mu, var)\n",
    "sigma = np.sqrt(var)\n",
    "print(\"Sigma\", sigma)\n",
    "xs, ps = thinkstats2.render_normal_cdf(mu, sigma, low=0, high=12.5)\n",
    "thinkplot.plot(xs, ps, label=\"model\", color=\"0.6\")\n",
    "cdf = thinkstats2.Cdf(weights, label=\"data\")\n",
    "thinkplot.pre_plot(1)\n",
    "thinkplot.cdf(cdf)\n",
    "thinkplot.config(title=\"Birth weights\", xlabel=\"Birth weight (pounds)\", ylabel=\"CDF\")"
   ]
  },
  {
   "cell_type": "markdown",
   "id": "d61e00da",
   "metadata": {},
   "source": [
    "The normal distribution is a good model for this dataset, so if we\n",
    "summarize the distribution with the parameters $\\mu = 7.28$ and\n",
    "$\\sigma = 1.24$, the resulting error (difference between the model and\n",
    "the data) is small.\n",
    "\n",
    "Below the 10th percentile there is a discrepancy between the data and\n",
    "the model; there are more light babies than we would expect in a normal\n",
    "distribution. If we are specifically interested in preterm babies, it\n",
    "would be important to get this part of the distribution right, so it\n",
    "might not be appropriate to use the normal model."
   ]
  },
  {
   "cell_type": "markdown",
   "id": "0847a969",
   "metadata": {},
   "source": [
    "## Normal probability plot\n",
    "\n",
    "For the exponential distribution, and a few others, there are simple\n",
    "transformations we can use to test whether an analytic distribution is a\n",
    "good model for a dataset.\n",
    "\n",
    "For the normal distribution there is no such transformation, but there\n",
    "is an alternative called a **normal probability plot**. There are two\n",
    "ways to generate a normal probability plot: the hard way and the easy\n",
    "way. If you are interested in the hard way, you can read about it at\n",
    "<https://en.wikipedia.org/wiki/Normal_probability_plot>. Here's the easy\n",
    "way:\n",
    "\n",
    "1.  Sort the values in the sample.\n",
    "\n",
    "2.  From a standard normal distribution ($\\mu=0$ and $\\sigma=1$),\n",
    "    generate a random sample with the same size as the sample, and sort\n",
    "    it.\n",
    "\n",
    "3.  Plot the sorted values from the sample versus the random values.\n",
    "\n",
    "If the distribution of the sample is approximately normal, the result is\n",
    "a straight line with intercept `mu` and slope `sigma`. `thinkstats2`\n",
    "provides `NormalProbability`, which takes a sample and returns two NumPy\n",
    "arrays:"
   ]
  },
  {
   "cell_type": "raw",
   "id": "1f07d815",
   "metadata": {},
   "source": [
    "xs, ys = thinkstats2.NormalProbability(sample)"
   ]
  },
  {
   "cell_type": "markdown",
   "id": "b092cc6c",
   "metadata": {},
   "source": [
    "`ys` contains the sorted values from `sample`; `xs` contains the random\n",
    "values from the standard normal distribution.\n",
    "\n",
    "To test `NormalProbability` I generated some fake samples that were\n",
    "actually drawn from normal distributions with various parameters.\n",
    "Figure [\\[analytic_normal_prob_example\\]](#analytic_normal_prob_example){reference-type=\"ref\"\n",
    "reference=\"analytic_normal_prob_example\"} shows the results. The lines\n",
    "are approximately straight, with values in the tails deviating more than\n",
    "values near the mean."
   ]
  },
  {
   "cell_type": "code",
   "execution_count": 14,
   "id": "cdbf53bf",
   "metadata": {},
   "outputs": [],
   "source": [
    "n = 1000\n",
    "thinkplot.pre_plot(3)\n",
    "mus = [0, 1, 5]\n",
    "sigmas = [1, 1, 2]\n",
    "for mu, sigma in zip(mus, sigmas):\n",
    "    sample = np.random.normal(mu, sigma, n)\n",
    "    xs, ys = thinkstats2.normal_probability(sample)\n",
    "    label = \"$\\\\mu=%d$, $\\\\sigma=%d$\" % (mu, sigma)\n",
    "    thinkplot.plot(xs, ys, label=label)\n",
    "thinkplot.config(\n",
    "    title=\"Normal probability plot\",\n",
    "    xlabel=\"standard normal sample\",\n",
    "    ylabel=\"sample values\",\n",
    ")"
   ]
  },
  {
   "cell_type": "markdown",
   "id": "5d5bdbfb",
   "metadata": {},
   "source": [
    "Now let's try it with real data. Here's code to generate a normal\n",
    "probability plot for the birth weight data from the previous section. It\n",
    "plots a gray line that represents the model and a blue line that\n",
    "represents the data."
   ]
  },
  {
   "cell_type": "code",
   "execution_count": 15,
   "id": "37d261a1",
   "metadata": {},
   "outputs": [],
   "source": [
    "def make_normal_plot(weights):\n",
    "    mean = weights.mean()\n",
    "    std = weights.std()\n",
    "    xs = [-4, 4]\n",
    "    fxs, fys = thinkstats2.fit_line(xs, inter=mean, slope=std)\n",
    "    thinkplot.plot(fxs, fys, color=\"gray\", label=\"model\")\n",
    "    xs, ys = thinkstats2.normal_probability(weights)\n",
    "    thinkplot.plot(xs, ys, label=\"birth weights\")"
   ]
  },
  {
   "cell_type": "markdown",
   "id": "f8695eca",
   "metadata": {},
   "source": [
    "`weights` is a pandas Series of birth weights; `mean` and `std` are the\n",
    "mean and standard deviation.\n",
    "\n",
    "`FitLine` takes a sequence of `xs`, an intercept, and a slope; it\n",
    "returns `xs` and `ys` that represent a line with the given parameters,\n",
    "evaluated at the values in `xs`.\n",
    "\n",
    "`NormalProbability` returns `xs` and `ys` that contain values from the\n",
    "standard normal distribution and values from `weights`. If the\n",
    "distribution of weights is normal, the data should match the model."
   ]
  },
  {
   "cell_type": "code",
   "execution_count": 16,
   "id": "3799bae7",
   "metadata": {},
   "outputs": [],
   "source": [
    "mean, var = thinkstats2.trimmed_mean_var(weights, p=0.01)\n",
    "std = np.sqrt(var)\n",
    "xs = [-4, 4]\n",
    "fxs, fys = thinkstats2.fit_line(xs, mean, std)\n",
    "thinkplot.plot(fxs, fys, linewidth=4, color=\"0.8\")\n",
    "xs, ys = thinkstats2.normal_probability(weights)\n",
    "thinkplot.plot(xs, ys, label=\"all live\")\n",
    "thinkplot.config(\n",
    "    title=\"Normal probability plot\",\n",
    "    xlabel=\"Standard deviations from mean\",\n",
    "    ylabel=\"Birth weight (lbs)\",\n",
    ")"
   ]
  },
  {
   "cell_type": "markdown",
   "id": "721d5bc0",
   "metadata": {},
   "source": [
    "Figure [\\[analytic_birthwgt_normal\\]](#analytic_birthwgt_normal){reference-type=\"ref\"\n",
    "reference=\"analytic_birthwgt_normal\"} shows the results for all live\n",
    "births, and also for full term births (pregnancy length greater than 36\n",
    "weeks). Both curves match the model near the mean and deviate in the\n",
    "tails. The heaviest babies are heavier than what the model expects, and\n",
    "the lightest babies are lighter.\n",
    "\n",
    "When we select only full term births, we remove some of the lightest\n",
    "weights, which reduces the discrepancy in the lower tail of the\n",
    "distribution.\n",
    "\n",
    "This plot suggests that the normal model describes the distribution well\n",
    "within a few standard deviations from the mean, but not in the tails.\n",
    "Whether it is good enough for practical purposes depends on the\n",
    "purposes."
   ]
  },
  {
   "cell_type": "markdown",
   "id": "0690e053",
   "metadata": {},
   "source": [
    "## The lognormal distribution\n",
    "\n",
    "If the logarithms of a set of values have a normal distribution, the\n",
    "values have a **lognormal distribution**. The CDF of the lognormal\n",
    "distribution is the same as the CDF of the normal distribution, with\n",
    "$\\log x$ substituted for $x$.\n",
    "$$CDF_{lognormal}(x) = CDF_{normal}(\\log x)$$ The parameters of the\n",
    "lognormal distribution are usually denoted $\\mu$ and $\\sigma$. But\n",
    "remember that these parameters are *not* the mean and standard\n",
    "deviation; the mean of a lognormal distribution is\n",
    "$\\exp(\\mu +\\sigma^2/2)$ and the standard deviation is ugly (see\n",
    "<http://wikipedia.org/wiki/Log-normal_distribution>)."
   ]
  },
  {
   "cell_type": "markdown",
   "id": "5b92b002",
   "metadata": {},
   "source": [
    "If a sample is approximately lognormal and you plot its CDF on a log-x\n",
    "scale, it will have the characteristic shape of a normal distribution.\n",
    "To test how well the sample fits a lognormal model, you can make a\n",
    "normal probability plot using the log of the values in the sample.\n",
    "\n",
    "As an example, let's look at the distribution of adult weights, which is\n",
    "approximately lognormal.[^2]\n",
    "\n",
    "The National Center for Chronic Disease Prevention and Health Promotion\n",
    "conducts an annual survey as part of the Behavioral Risk Factor\n",
    "Surveillance System (BRFSS).[^3] In 2008, they interviewed 414,509\n",
    "respondents and asked about their demographics, health, and health\n",
    "risks. Among the data they collected are the weights in kilograms of\n",
    "398,484 respondents.\n",
    "\n",
    "The repository for this book contains `CDBRFS08.ASC.gz`, a fixed-width\n",
    "ASCII file that contains data from the BRFSS, and `brfss.py`, which\n",
    "reads the file and analyzes the data."
   ]
  },
  {
   "cell_type": "code",
   "execution_count": 17,
   "id": "d80d103c",
   "metadata": {},
   "outputs": [],
   "source": [
    "download(\"https://github.com/AllenDowney/ThinkStats2/raw/master/code/brfss.py\")\n",
    "download(\"https://github.com/AllenDowney/ThinkStats2/raw/master/code/CDBRFS08.ASC.gz\")"
   ]
  },
  {
   "cell_type": "code",
   "execution_count": 18,
   "id": "7ea83cdd",
   "metadata": {},
   "outputs": [],
   "source": [
    "import brfss\n",
    "\n",
    "df = brfss.read_brfss()\n",
    "weights = df.wtkg2.dropna()"
   ]
  },
  {
   "cell_type": "code",
   "execution_count": 19,
   "id": "c606acc8",
   "metadata": {},
   "outputs": [],
   "source": [
    "def make_normal_model(weights):\n",
    "    \"\"\"Plots a CDF with a Normal model.\n",
    "\n",
    "    weights: sequence\n",
    "    \"\"\"\n",
    "    cdf = thinkstats2.Cdf(weights, label=\"weights\")\n",
    "    mean, var = thinkstats2.trimmed_mean_var(weights)\n",
    "    std = np.sqrt(var)\n",
    "    print(\"n, mean, std\", len(weights), mean, std)\n",
    "    xmin = mean - 4 * std\n",
    "    xmax = mean + 4 * std\n",
    "    xs, ps = thinkstats2.render_normal_cdf(mean, std, xmin, xmax)\n",
    "    thinkplot.plot(xs, ps, label=\"model\", linewidth=4, color=\"0.8\")\n",
    "    thinkplot.cdf(cdf)"
   ]
  },
  {
   "cell_type": "code",
   "execution_count": 20,
   "id": "d6c83844",
   "metadata": {},
   "outputs": [],
   "source": [
    "make_normal_model(weights)\n",
    "thinkplot.config(\n",
    "    title=\"Adult weight, linear scale\",\n",
    "    xlabel=\"Weight (kg)\",\n",
    "    ylabel=\"CDF\",\n",
    "    loc=\"upper right\",\n",
    ")"
   ]
  },
  {
   "cell_type": "code",
   "execution_count": 21,
   "id": "2059a4bf",
   "metadata": {},
   "outputs": [],
   "source": [
    "log_weights = np.log10(weights)\n",
    "make_normal_model(log_weights)\n",
    "thinkplot.config(\n",
    "    title=\"Adult weight, log scale\",\n",
    "    xlabel=\"Weight (log10 kg)\",\n",
    "    ylabel=\"CDF\",\n",
    "    loc=\"upper right\",\n",
    ")"
   ]
  },
  {
   "cell_type": "markdown",
   "id": "ec523cbc",
   "metadata": {},
   "source": [
    "Figure [\\[brfss_weight\\]](#brfss_weight){reference-type=\"ref\"\n",
    "reference=\"brfss_weight\"} (left) shows the distribution of adult weights\n",
    "on a linear scale with a normal model.\n",
    "Figure [\\[brfss_weight\\]](#brfss_weight){reference-type=\"ref\"\n",
    "reference=\"brfss_weight\"} (right) shows the same distribution on a log\n",
    "scale with a lognormal model. The lognormal model is a better fit, but\n",
    "this representation of the data does not make the difference\n",
    "particularly dramatic.\n",
    "\n",
    "Figure [\\[brfss_weight_normal\\]](#brfss_weight_normal){reference-type=\"ref\"\n",
    "reference=\"brfss_weight_normal\"} shows normal probability plots for\n",
    "adult weights, $w$, and for their logarithms, $\\log_{10} w$. Now it is\n",
    "apparent that the data deviate substantially from the normal model. On\n",
    "the other hand, the lognormal model is a good match for the data."
   ]
  },
  {
   "cell_type": "markdown",
   "id": "ecaa5709",
   "metadata": {},
   "source": [
    "## The Pareto distribution\n",
    "\n",
    "The **Pareto distribution** is named after the economist Vilfredo\n",
    "Pareto, who used it to describe the distribution of wealth (see\n",
    "<http://wikipedia.org/wiki/Pareto_distribution>). Since then, it has\n",
    "been used to describe phenomena in the natural and social sciences\n",
    "including sizes of cities and towns, sand particles and meteorites,\n",
    "forest fires and earthquakes.\n",
    "\n",
    "The CDF of the Pareto distribution is:\n",
    "$$CDF(x) = 1 - \\left( \\frac{x}{x_m} \\right) ^{-\\alpha}$$ The parameters\n",
    "$x_{m}$ and $\\alpha$ determine the location and shape of the\n",
    "distribution. $x_{m}$ is the minimum possible value.\n",
    "Figure [\\[analytic_pareto_cdf\\]](#analytic_pareto_cdf){reference-type=\"ref\"\n",
    "reference=\"analytic_pareto_cdf\"} shows CDFs of Pareto distributions with\n",
    "$x_{m} = 0.5$ and different values of $\\alpha$."
   ]
  },
  {
   "cell_type": "code",
   "execution_count": 22,
   "id": "e559282f",
   "metadata": {},
   "outputs": [],
   "source": [
    "xmin = 0.5\n",
    "thinkplot.pre_plot(3)\n",
    "for alpha in [2.0, 1.0, 0.5]:\n",
    "    xs, ps = thinkstats2.render_pareto_cdf(xmin, alpha, 0, 10.0, n=100)\n",
    "    thinkplot.plot(xs, ps, label=\"$\\\\alpha=%g$\" % alpha)\n",
    "thinkplot.config(title=\"Pareto CDF\", xlabel=\"x\", ylabel=\"CDF\", loc=\"lower right\")"
   ]
  },
  {
   "cell_type": "markdown",
   "id": "a4360eee",
   "metadata": {},
   "source": [
    "There is a simple visual test that indicates whether an empirical\n",
    "distribution fits a Pareto distribution: on a log-log scale, the CCDF\n",
    "looks like a straight line. Let's see why that works.\n",
    "\n",
    "If you plot the CCDF of a sample from a Pareto distribution on a linear\n",
    "scale, you expect to see a function like:\n",
    "$$y \\approx \\left( \\frac{x}{x_m} \\right) ^{-\\alpha}$$ Taking the log of\n",
    "both sides yields: $$\\log y \\approx -\\alpha (\\log x - \\log x_{m})$$ So\n",
    "if you plot $\\log y$ versus $\\log x$, it should look like a straight\n",
    "line with slope $-\\alpha$ and intercept $\\alpha \\log x_{m}$.\n",
    "\n",
    "As an example, let's look at the sizes of cities and towns. The\n",
    "U.S. Census Bureau publishes the population of every incorporated city\n",
    "and town in the United States."
   ]
  },
  {
   "cell_type": "code",
   "execution_count": 23,
   "id": "9f1ede9d",
   "metadata": {},
   "outputs": [],
   "source": [
    "download(\"https://github.com/AllenDowney/ThinkStats2/raw/master/code/populations.py\")\n",
    "download(\n",
    "    \"https://github.com/AllenDowney/ThinkStats2/raw/master/code/PEP_2012_PEPANNRES_with_ann.csv\"\n",
    ")"
   ]
  },
  {
   "cell_type": "code",
   "execution_count": 24,
   "id": "18929b3d",
   "metadata": {},
   "outputs": [],
   "source": [
    "import populations\n",
    "\n",
    "pops = populations.read_data()\n",
    "print(\"Number of cities/towns\", len(pops))"
   ]
  },
  {
   "cell_type": "markdown",
   "id": "07f5b5e7",
   "metadata": {},
   "source": [
    "I downloaded their data from\n",
    "<http://www.census.gov/popest/data/cities/totals/2012/SUB-EST2012-3.html>;\n",
    "it is in the repository for this book in a file named\n",
    "`PEP_2012_PEPANNRES_with_ann.csv`. The repository also contains\n",
    "`populations.py`, which reads the file and plots the distribution of\n",
    "populations.\n",
    "\n",
    "Figure [\\[populations_pareto\\]](#populations_pareto){reference-type=\"ref\"\n",
    "reference=\"populations_pareto\"} shows the CCDF of populations on a\n",
    "log-log scale. The largest 1% of cities and towns, below $10^{-2}$, fall\n",
    "along a straight line. So we could conclude, as some researchers have,\n",
    "that the tail of this distribution fits a Pareto model.\n",
    "\n",
    "On the other hand, a lognormal distribution also models the data well.\n",
    "Figure [\\[populations_normal\\]](#populations_normal){reference-type=\"ref\"\n",
    "reference=\"populations_normal\"} shows the CDF of populations and a\n",
    "lognormal model (left), and a normal probability plot (right). Both\n",
    "plots show good agreement between the data and the model.\n",
    "\n",
    "Neither model is perfect. The Pareto model only applies to the largest\n",
    "1% of cities, but it is a better fit for that part of the distribution.\n",
    "The lognormal model is a better fit for the other 99%. Which model is\n",
    "appropriate depends on which part of the distribution is relevant."
   ]
  },
  {
   "cell_type": "code",
   "execution_count": 25,
   "id": "ad635d57",
   "metadata": {},
   "outputs": [],
   "source": [
    "log_pops = np.log10(pops)\n",
    "cdf = thinkstats2.Cdf(pops, label=\"data\")\n",
    "cdf_log = thinkstats2.Cdf(log_pops, label=\"data\")\n",
    "xs, ys = thinkstats2.render_pareto_cdf(xmin=5000, alpha=1.4, low=0, high=10000000.0)\n",
    "thinkplot.plot(np.log10(xs), 1 - ys, label=\"model\", color=\"0.8\")\n",
    "thinkplot.cdf(cdf_log, complement=True)\n",
    "thinkplot.config(\n",
    "    xlabel=\"log10 population\", ylabel=\"CCDF\", yscale=\"log\", loc=\"lower left\"\n",
    ")"
   ]
  },
  {
   "cell_type": "code",
   "execution_count": 26,
   "id": "6df10305",
   "metadata": {},
   "outputs": [],
   "source": [
    "thinkplot.pre_plot(cols=2)\n",
    "mu, sigma = log_pops.mean(), log_pops.std()\n",
    "xs, ps = thinkstats2.render_normal_cdf(mu, sigma, low=0, high=8)\n",
    "thinkplot.plot(xs, ps, label=\"model\", color=\"0.8\")\n",
    "thinkplot.cdf(cdf_log)\n",
    "thinkplot.config(xlabel=\"log10 population\", ylabel=\"CDF\", loc=\"lower right\")"
   ]
  },
  {
   "cell_type": "markdown",
   "id": "8be0f092",
   "metadata": {},
   "source": [
    "## Generating random numbers\n",
    "\n",
    "Analytic CDFs can be used to generate random numbers with a given\n",
    "distribution function, $p = CDF(x)$. If there is an efficient way to\n",
    "compute the inverse CDF, we can generate random values with the\n",
    "appropriate distribution by choosing $p$ from a uniform distribution\n",
    "between 0 and 1, then choosing $x = ICDF(p)$.\n",
    "\n",
    "For example, the CDF of the exponential distribution is\n",
    "$$p = 1 - e^{-\\lambda x}$$ Solving for $x$ yields:\n",
    "$$x = -\\log (1 - p) / \\lambda$$ So in Python we can write"
   ]
  },
  {
   "cell_type": "code",
   "execution_count": 27,
   "id": "3295e3ad",
   "metadata": {},
   "outputs": [],
   "source": [
    "import random\n",
    "\n",
    "\n",
    "def expovariate(lam):\n",
    "    p = random.random()\n",
    "    x = -np.log(1 - p) / lam\n",
    "    return x"
   ]
  },
  {
   "cell_type": "markdown",
   "id": "0bbbce62",
   "metadata": {},
   "source": [
    "`expovariate` takes `lam` and returns a random value chosen from the\n",
    "exponential distribution with parameter `lam`.\n",
    "\n",
    "Two notes about this implementation: I called the parameter `lam`\n",
    "because `lambda` is a Python keyword. Also, since $\\log 0$ is undefined,\n",
    "we have to be a little careful. The implementation of `random.random`\n",
    "can return 0 but not 1, so $1 - p$ can be 1 but not 0, so `log(1-p)` is\n",
    "always defined."
   ]
  },
  {
   "cell_type": "code",
   "execution_count": 28,
   "id": "b823e8ed",
   "metadata": {},
   "outputs": [],
   "source": [
    "t = [expovariate(lam=2) for _ in range(1000)]"
   ]
  },
  {
   "cell_type": "code",
   "execution_count": 29,
   "id": "2b671e3d",
   "metadata": {},
   "outputs": [],
   "source": [
    "cdf = thinkstats2.Cdf(t)\n",
    "thinkplot.cdf(cdf, complement=True)\n",
    "thinkplot.config(xlabel=\"Exponential variate\", ylabel=\"CCDF\", yscale=\"log\")"
   ]
  },
  {
   "cell_type": "code",
   "execution_count": null,
   "id": "710eb305",
   "metadata": {},
   "outputs": [],
   "source": []
  },
  {
   "cell_type": "markdown",
   "id": "0f46ee83",
   "metadata": {},
   "source": [
    "## Why model?\n",
    "\n",
    "At the beginning of this chapter, I said that many real world phenomena\n",
    "can be modeled with analytic distributions. \"So,\" you might ask, \"what?\"\n",
    "\n",
    "Like all models, analytic distributions are abstractions, which means\n",
    "they leave out details that are considered irrelevant. For example, an\n",
    "observed distribution might have measurement errors or quirks that are\n",
    "specific to the sample; analytic models smooth out these idiosyncrasies.\n",
    "\n",
    "Analytic models are also a form of data compression. When a model fits a\n",
    "dataset well, a small set of parameters can summarize a large amount of\n",
    "data.\n",
    "\n",
    "It is sometimes surprising when data from a natural phenomenon fit an\n",
    "analytic distribution, but these observations can provide insight into\n",
    "physical systems. Sometimes we can explain why an observed distribution\n",
    "has a particular form. For example, Pareto distributions are often the\n",
    "result of generative processes with positive feedback (so-called\n",
    "preferential attachment processes: see\n",
    "<http://wikipedia.org/wiki/Preferential_attachment>.)."
   ]
  },
  {
   "cell_type": "markdown",
   "id": "439331ea",
   "metadata": {},
   "source": [
    "Also, analytic distributions lend themselves to mathematical analysis,\n",
    "as we will see in Chapter [\\[analysis\\]](#analysis){reference-type=\"ref\"\n",
    "reference=\"analysis\"}.\n",
    "\n",
    "But it is important to remember that all models are imperfect. Data from\n",
    "the real world never fit an analytic distribution perfectly. People\n",
    "sometimes talk as if data are generated by models; for example, they\n",
    "might say that the distribution of human heights is normal, or the\n",
    "distribution of income is lognormal. Taken literally, these claims\n",
    "cannot be true; there are always differences between the real world and\n",
    "mathematical models.\n",
    "\n",
    "Models are useful if they capture the relevant aspects of the real world\n",
    "and leave out unneeded details. But what is \"relevant\" or \"unneeded\"\n",
    "depends on what you are planning to use the model for."
   ]
  },
  {
   "cell_type": "markdown",
   "id": "51b53d8c",
   "metadata": {},
   "source": [
    "A straight line is consistent with an exponential distribution."
   ]
  },
  {
   "cell_type": "markdown",
   "id": "70f3aa6e",
   "metadata": {
    "collapsed": true
   },
   "source": [
    "## Exercises"
   ]
  },
  {
   "cell_type": "markdown",
   "id": "61517a44",
   "metadata": {
    "collapsed": true
   },
   "source": [
    "**Exercise:** Write a function that generates a Pareto variate. Generate a sample and plot its complementary CDF on a log-log scale. Does it look like a straight line?"
   ]
  },
  {
   "cell_type": "code",
   "execution_count": 30,
   "id": "beedf20a",
   "metadata": {},
   "outputs": [],
   "source": [
    "def sample_pareto(alpha, x_m, size):\n",
    "    u = np.random.random(size)\n",
    "    return x_m * pow(1 - u, -1 / alpha)"
   ]
  },
  {
   "cell_type": "code",
   "execution_count": 31,
   "id": "804a0e61",
   "metadata": {},
   "outputs": [],
   "source": [
    "sample = sample_pareto(1, 2, 1000)\n",
    "cdf = thinkstats2.Cdf(sample)\n",
    "thinkplot.cdf(cdf, complement=True)\n",
    "thinkplot.config(xlabel=\"Random values\", ylabel=\"CCDF\", xscale=\"log\", yscale=\"log\")"
   ]
  },
  {
   "cell_type": "markdown",
   "id": "b94c27ad",
   "metadata": {},
   "source": [
    "**Exercise:** In the BRFSS (see Section 5.4), the distribution of heights is roughly normal with parameters µ = 178 cm and σ = 7.7 cm for men, and µ = 163 cm and σ = 7.3 cm for women.\n",
    "\n",
    "In order to join Blue Man Group, you have to be male between 5’10” and 6’1” (see http://bluemancasting.com). What percentage of the U.S. male population is in this range? Hint: use `scipy.stats.norm.cdf`."
   ]
  },
  {
   "cell_type": "markdown",
   "id": "bcbf98a7",
   "metadata": {},
   "source": [
    "`scipy.stats` contains objects that represent analytic distributions"
   ]
  },
  {
   "cell_type": "code",
   "execution_count": 32,
   "id": "fb20ec1c",
   "metadata": {},
   "outputs": [],
   "source": [
    "import scipy.stats"
   ]
  },
  {
   "cell_type": "markdown",
   "id": "7427bcf9",
   "metadata": {},
   "source": [
    "For example <tt>scipy.stats.norm</tt> represents a normal distribution."
   ]
  },
  {
   "cell_type": "code",
   "execution_count": 33,
   "id": "5822d6bf",
   "metadata": {},
   "outputs": [],
   "source": [
    "mu = 178\n",
    "sigma = 7.7\n",
    "dist = scipy.stats.norm(loc=mu, scale=sigma)\n",
    "type(dist)"
   ]
  },
  {
   "cell_type": "markdown",
   "id": "a08ac2c9",
   "metadata": {},
   "source": [
    "A \"frozen random variable\" can compute its mean and standard deviation."
   ]
  },
  {
   "cell_type": "code",
   "execution_count": 34,
   "id": "004a9632",
   "metadata": {},
   "outputs": [],
   "source": [
    "dist.mean(), dist.std()"
   ]
  },
  {
   "cell_type": "markdown",
   "id": "c2184747",
   "metadata": {},
   "source": [
    "It can also evaluate its CDF.  How many people are below the mean by more than one standard deviation?  About 16%"
   ]
  },
  {
   "cell_type": "code",
   "execution_count": 35,
   "id": "23061ba2",
   "metadata": {},
   "outputs": [],
   "source": [
    "dist.cdf(mu - sigma)"
   ]
  },
  {
   "cell_type": "markdown",
   "id": "563681fa",
   "metadata": {},
   "source": [
    "How many people are between 5'10\" and 6'1\"?"
   ]
  },
  {
   "cell_type": "code",
   "execution_count": 36,
   "id": "f295ffc8",
   "metadata": {},
   "outputs": [],
   "source": [
    "low = dist.cdf(177.8)\n",
    "high = dist.cdf(185.4)\n",
    "low, high, high - low"
   ]
  },
  {
   "cell_type": "markdown",
   "id": "c8d839c1",
   "metadata": {},
   "source": [
    "**Exercise:** To get a feel for the Pareto distribution, let’s see how different the world would be if the distribution of human height were Pareto. With the parameters xm = 1 m and α = 1.7, we get a distribution with a reasonable minimum, 1 m, and median, 1.5 m.\n",
    "\n",
    "Plot this distribution. What is the mean human height in Pareto world? What fraction of the population is shorter than the mean? If there are 7 billion people in Pareto world, how many do we expect to be taller than 1 km? How tall do we expect the tallest person to be?\n",
    "\n",
    "`scipy.stats.pareto` represents a pareto distribution.  In Pareto world, the distribution of human heights has parameters alpha=1.7 and xmin=1 meter.  So the shortest person is 100 cm and the median is 150."
   ]
  },
  {
   "cell_type": "code",
   "execution_count": 37,
   "id": "b7f180dd",
   "metadata": {},
   "outputs": [],
   "source": [
    "alpha = 1.7\n",
    "xmin = 1\n",
    "dist = scipy.stats.pareto(b=alpha, scale=xmin)\n",
    "dist.median()"
   ]
  },
  {
   "cell_type": "markdown",
   "id": "b2cd55ea",
   "metadata": {},
   "source": [
    "What is the mean height in Pareto world?"
   ]
  },
  {
   "cell_type": "code",
   "execution_count": 38,
   "id": "4d6c3f98",
   "metadata": {},
   "outputs": [],
   "source": [
    "dist.mean()"
   ]
  },
  {
   "cell_type": "markdown",
   "id": "59cb3e1d",
   "metadata": {},
   "source": [
    "What fraction of people are shorter than the mean?"
   ]
  },
  {
   "cell_type": "code",
   "execution_count": 39,
   "id": "96491bae",
   "metadata": {},
   "outputs": [],
   "source": [
    "dist.cdf(dist.mean())"
   ]
  },
  {
   "cell_type": "markdown",
   "id": "1baadb33",
   "metadata": {},
   "source": [
    "Out of 7 billion people, how many do we expect to be taller than 1 km?  You could use <tt>dist.cdf</tt> or <tt>dist.sf</tt>."
   ]
  },
  {
   "cell_type": "code",
   "execution_count": 40,
   "id": "689b2a73",
   "metadata": {},
   "outputs": [],
   "source": [
    "(1 - dist.cdf(1000)) * 7000000000.0, dist.sf(1000) * 7000000000.0"
   ]
  },
  {
   "cell_type": "markdown",
   "id": "2a15aa58",
   "metadata": {},
   "source": [
    "How tall do we expect the tallest person to be?"
   ]
  },
  {
   "cell_type": "code",
   "execution_count": 41,
   "id": "d4c41e5a",
   "metadata": {},
   "outputs": [],
   "source": [
    "dist.sf(600000) * 7000000000.0"
   ]
  },
  {
   "cell_type": "code",
   "execution_count": 42,
   "id": "e8f4c5fb",
   "metadata": {},
   "outputs": [],
   "source": [
    "dist.ppf(1 - 1 / 7000000000.0)"
   ]
  },
  {
   "cell_type": "markdown",
   "id": "235c3943",
   "metadata": {},
   "source": [
    "**Exercise:** The Weibull distribution is a generalization of the exponential distribution that comes up in failure analysis (see http://wikipedia.org/wiki/Weibull_distribution). Its CDF is\n",
    "\n",
    "$\\mathrm{CDF}(x) = 1 − \\exp[−(x / λ)^k]$ \n",
    "\n",
    "Can you find a transformation that makes a Weibull distribution look like a straight line? What do the slope and intercept of the line indicate?\n",
    "\n",
    "Use `random.weibullvariate` to generate a sample from a Weibull distribution and use it to test your transformation.\n",
    "\n",
    "Generate a sample from a Weibull distribution and plot it using a transform that makes a Weibull distribution look like a straight line."
   ]
  },
  {
   "cell_type": "markdown",
   "id": "eb527fb9",
   "metadata": {},
   "source": [
    "If you are stuck, you can get a hint from `thinkplot.Cdf`, which provides a transform that makes the CDF of a Weibull distribution look like a straight line.  Here's an example that shows how it's used."
   ]
  },
  {
   "cell_type": "code",
   "execution_count": 43,
   "id": "9e2083fc",
   "metadata": {},
   "outputs": [],
   "source": [
    "sample = [random.weibullvariate(2, 1) for _ in range(1000)]\n",
    "cdf = thinkstats2.Cdf(sample)\n",
    "thinkplot.cdf(cdf, transform=\"weibull\")\n",
    "thinkplot.config(xlabel=\"Weibull variate\", ylabel=\"CCDF\", xscale=\"log\", yscale=\"log\")"
   ]
  },
  {
   "cell_type": "markdown",
   "id": "4cdfaaec",
   "metadata": {},
   "source": [
    "**Exercise:** For small values of `n`, we don’t expect an empirical distribution to fit an analytic distribution exactly. One way to evaluate the quality of fit is to generate a sample from an analytic distribution and see how well it matches the data.\n",
    "\n",
    "For example, in Section 5.1 we plotted the distribution of time between births and saw that it is approximately exponential. But the distribution is based on only 44 data points. To see whether the data might have come from an exponential distribution, generate 44 values from an exponential distribution with the same mean as the data, about 33 minutes between births.\n",
    "\n",
    "Plot the distribution of the random values and compare it to the actual distribution. You can use random.expovariate to generate the values."
   ]
  },
  {
   "cell_type": "code",
   "execution_count": 44,
   "id": "9955fd76",
   "metadata": {},
   "outputs": [],
   "source": [
    "df = thinkstats2.read_baby_boom()\n",
    "diffs = df.minutes.diff()\n",
    "cdf = thinkstats2.Cdf(diffs, label=\"actual\")\n",
    "n = len(diffs)\n",
    "lam = 44.0 / 24 / 60\n",
    "sample = [random.expovariate(lam) for _ in range(n)]\n",
    "1 / lam, np.mean(sample)"
   ]
  },
  {
   "cell_type": "code",
   "execution_count": 45,
   "id": "9dacaba8",
   "metadata": {},
   "outputs": [],
   "source": [
    "model = thinkstats2.Cdf(sample, label=\"model\")\n",
    "thinkplot.pre_plot(2)\n",
    "thinkplot.cdfs([cdf, model], complement=True)\n",
    "thinkplot.config(xlabel=\"Time between births (minutes)\", ylabel=\"CCDF\", yscale=\"log\")"
   ]
  },
  {
   "cell_type": "code",
   "execution_count": 46,
   "id": "48885ea5",
   "metadata": {},
   "outputs": [],
   "source": [
    "for i in range(100):\n",
    "    sample = [random.expovariate(lam) for _ in range(n)]\n",
    "    thinkplot.cdf(thinkstats2.Cdf(sample), complement=True, color=\"0.9\")\n",
    "thinkplot.cdf(cdf, complement=True)\n",
    "thinkplot.config(xlabel=\"Time between births (minutes)\", ylabel=\"CCDF\", yscale=\"log\")"
   ]
  },
  {
   "cell_type": "markdown",
   "id": "0e6d2633",
   "metadata": {},
   "source": [
    "**Bonus Example:** The distributions of wealth and income are sometimes modeled using lognormal and Pareto distributions. To see which is better, let’s look at some data.\n",
    "\n",
    "The Current Population Survey (CPS) is a joint effort of the Bureau of Labor Statistics and the Census Bureau to study income and related variables. Data collected in 2013 is available from http://www.census.gov/hhes/www/cpstables/032013/hhinc/toc.htm. I downloaded `hinc06.xls`, which is an Excel spreadsheet with information about household income, and converted it to `hinc06.csv`, a CSV file you will find in the repository for this book. You will also find `hinc.py`, which reads this file.\n",
    "\n",
    "Extract the distribution of incomes from this dataset. Are any of the analytic distributions in this chapter a good model of the data?"
   ]
  },
  {
   "cell_type": "code",
   "execution_count": 47,
   "id": "ad2e597a",
   "metadata": {},
   "outputs": [],
   "source": [
    "download(\"https://github.com/AllenDowney/ThinkStats2/raw/master/code/hinc.py\")\n",
    "download(\"https://github.com/AllenDowney/ThinkStats2/raw/master/code/hinc06.csv\")"
   ]
  },
  {
   "cell_type": "code",
   "execution_count": 48,
   "id": "6461d780",
   "metadata": {},
   "outputs": [],
   "source": [
    "import hinc\n",
    "\n",
    "df = hinc.read_data()\n",
    "df"
   ]
  },
  {
   "cell_type": "markdown",
   "id": "1cb2fd41",
   "metadata": {},
   "source": [
    "Here's what the CDF looks like on a linear scale."
   ]
  },
  {
   "cell_type": "code",
   "execution_count": 49,
   "id": "76bfde61",
   "metadata": {},
   "outputs": [],
   "source": [
    "xs, ps = df.income.values, df.ps.values\n",
    "cdf = thinkstats2.Cdf(xs, ps, label=\"data\")\n",
    "cdf_log = thinkstats2.Cdf(np.log10(xs), ps, label=\"data\")\n",
    "thinkplot.cdf(cdf)\n",
    "thinkplot.config(xlabel=\"household income\", ylabel=\"CDF\")"
   ]
  },
  {
   "cell_type": "markdown",
   "id": "f29e5454",
   "metadata": {},
   "source": [
    "To check whether a Pareto model describes the data well, I plot the CCDF on a log-log scale.\n",
    "\n",
    "I found parameters for the Pareto model that match the tail of the distribution."
   ]
  },
  {
   "cell_type": "code",
   "execution_count": 50,
   "id": "aa01a710",
   "metadata": {},
   "outputs": [],
   "source": [
    "xs, ys = thinkstats2.render_pareto_cdf(xmin=55000, alpha=2.5, low=0, high=250000)\n",
    "thinkplot.plot(xs, 1 - ys, label=\"model\", color=\"0.8\")\n",
    "thinkplot.cdf(cdf, complement=True)\n",
    "thinkplot.config(\n",
    "    xlabel=\"log10 household income\",\n",
    "    ylabel=\"CCDF\",\n",
    "    xscale=\"log\",\n",
    "    yscale=\"log\",\n",
    "    loc=\"lower left\",\n",
    ")"
   ]
  },
  {
   "cell_type": "markdown",
   "id": "557a7734",
   "metadata": {},
   "source": [
    "For the lognormal model I estimate mu and sigma using percentile-based statistics (median and IQR)."
   ]
  },
  {
   "cell_type": "code",
   "execution_count": 51,
   "id": "b5ca3485",
   "metadata": {},
   "outputs": [],
   "source": [
    "median = cdf_log.percentile(50)\n",
    "iqr = cdf_log.percentile(75) - cdf_log.percentile(25)\n",
    "std = iqr / 1.349\n",
    "std = 0.35\n",
    "print(median, std)"
   ]
  },
  {
   "cell_type": "markdown",
   "id": "fcaaaba7",
   "metadata": {},
   "source": [
    "Here's what the distribution, and fitted model, look like on a log-x scale."
   ]
  },
  {
   "cell_type": "code",
   "execution_count": 52,
   "id": "f54aafa8",
   "metadata": {},
   "outputs": [],
   "source": [
    "xs, ps = thinkstats2.render_normal_cdf(median, std, low=3.5, high=5.5)\n",
    "thinkplot.plot(xs, ps, label=\"model\", color=\"0.8\")\n",
    "thinkplot.cdf(cdf_log)\n",
    "thinkplot.config(xlabel=\"log10 household income\", ylabel=\"CDF\")"
   ]
  },
  {
   "cell_type": "markdown",
   "id": "85a83604",
   "metadata": {},
   "source": [
    "My conclusions based on these figures are:\n",
    "\n",
    "1) The Pareto model might be a reasonable choice for the top\n",
    "   10-20% of incomes.\n",
    "\n",
    "2) The lognormal model captures the shape of the distribution better,\n",
    "   with some deviation in the left tail.  With different\n",
    "   choices for sigma, you could match the upper or lower tail, but not\n",
    "   both at the same time.\n",
    " \n",
    "In summary I would say that neither model captures the whole distribution,\n",
    "so you might have to \n",
    "\n",
    "1) look for another analytic model, \n",
    "\n",
    "2) choose one that captures the part of the distribution that is most \n",
    "   relevent, or \n",
    "\n",
    "3) avoid using an analytic model altogether."
   ]
  },
  {
   "cell_type": "code",
   "execution_count": null,
   "id": "0bb5d2ca",
   "metadata": {},
   "outputs": [],
   "source": []
  }
 ],
 "metadata": {
  "kernelspec": {
   "display_name": "Python 3 (ipykernel)",
   "language": "python",
   "name": "python3"
  },
  "language_info": {
   "codemirror_mode": {
    "name": "ipython",
    "version": 3
   },
   "file_extension": ".py",
   "mimetype": "text/x-python",
   "name": "python",
   "nbconvert_exporter": "python",
   "pygments_lexer": "ipython3",
   "version": "3.10.14"
  }
 },
 "nbformat": 4,
 "nbformat_minor": 5
}
