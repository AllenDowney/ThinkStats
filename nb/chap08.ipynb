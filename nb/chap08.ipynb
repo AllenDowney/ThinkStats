{
 "cells": [
  {
   "cell_type": "markdown",
   "id": "b8bba8eb",
   "metadata": {},
   "source": [
    "# Estimation"
   ]
  },
  {
   "cell_type": "code",
   "execution_count": 2,
   "id": "cddf1967",
   "metadata": {},
   "outputs": [],
   "source": [
    "from os.path import basename, exists\n",
    "\n",
    "\n",
    "def download(url):\n",
    "    filename = basename(url)\n",
    "    if not exists(filename):\n",
    "        from urllib.request import urlretrieve\n",
    "\n",
    "        local, _ = urlretrieve(url, filename)\n",
    "        print(\"Downloaded \" + local)\n",
    "\n",
    "\n",
    "download(\"https://github.com/AllenDowney/ThinkStats/raw/v3/nb/thinkstats.py\")"
   ]
  },
  {
   "cell_type": "code",
   "execution_count": 3,
   "id": "bb3a6450",
   "metadata": {},
   "outputs": [],
   "source": [
    "import numpy as np\n",
    "import pandas as pd\n",
    "import matplotlib.pyplot as plt\n",
    "\n",
    "from thinkstats import decorate"
   ]
  },
  {
   "cell_type": "markdown",
   "id": "7dacf078",
   "metadata": {},
   "source": [
    "## The estimation game\n",
    "\n",
    "Let's play a game.\n",
    "I think of a distribution, and you have to guess what it is. I'll give you two hints: it's a normal distribution, and here's a random sample drawn from it:\n",
    "\n",
    "`[-0.441, 1.774, -0.101, -1.138, 2.975, -2.138]`\n",
    "\n",
    "What do you think is the mean parameter, $\\mu$, of this distribution?\n",
    "\n",
    "One choice is to use the sample mean, $\\bar{x}$, as an estimate of $\\mu$.\n",
    "In this example, $\\bar{x}$ is 0.155, so it would be reasonable to guess $\\mu$ = 0.155.\n",
    "This process is called **estimation**, and the statistic we used (the sample mean) is called an **estimator**.\n",
    "\n",
    "Using the sample mean to estimate $\\mu$ is so obvious that it is hard to imagine a reasonable alternative.\n",
    "But suppose we change the game by introducing outliers."
   ]
  },
  {
   "cell_type": "markdown",
   "id": "5f2a7144",
   "metadata": {},
   "source": [
    "*I'm thinking of a distribution.* It's a normal distribution, and here's a sample that was collected by an unreliable surveyor who occasionally puts the decimal point in the wrong place.\n",
    "\n",
    "`[-0.441, 1.774, -0.101, -1.138, 2.975, -213.8]`\n",
    "\n",
    "Now what's your estimate of $\\mu$? If you use the sample mean, your guess is -35.12. Is that the best choice? What are the alternatives?\n",
    "\n",
    "One option is to identify and discard outliers, then compute the sample mean of the rest.\n",
    "Another option is to use the median as an estimator.\n",
    "\n",
    "Which estimator is best depends on the circumstances (for example, whether there are outliers) and on what the goal is. Are you trying to minimize errors, or maximize your chance of getting the right answer?"
   ]
  },
  {
   "cell_type": "markdown",
   "id": "44e3ceca",
   "metadata": {},
   "source": [
    "If there are no outliers, the sample mean minimizes the **mean squared error** (MSE).\n",
    "That is, if we play the game many times, and each time compute the error $\\bar{x} - \\mu$, the sample mean minimizes\n",
    "\n",
    "$$MSE = \\frac{1}{m} \\sum (\\bar{x} - \\mu)^2$$\n",
    "\n",
    "Where $m$ is the number of times you play the estimation game, not to be confused with $n$, which is the size of the sample used to compute $\\bar{x}$."
   ]
  },
  {
   "cell_type": "markdown",
   "id": "ae7fa33d",
   "metadata": {},
   "source": [
    "The following function takes a sequence of estimates and the actual value, and returns the square root of the mean squared error (RMSE)."
   ]
  },
  {
   "cell_type": "code",
   "execution_count": 4,
   "id": "c6ae3ee6",
   "metadata": {},
   "outputs": [],
   "source": [
    "def rmse(estimates, actual):\n",
    "    \"\"\"Computes the root mean squared error of a sequence of estimates.\n",
    "\n",
    "    estimate: sequence of numbers\n",
    "    actual: actual value\n",
    "\n",
    "    returns: float RMSE\n",
    "    \"\"\"\n",
    "    e2 = [((estimate - actual) ** 2) for estimate in estimates]\n",
    "    mse = np.mean(e2)\n",
    "    return np.sqrt(mse)"
   ]
  },
  {
   "cell_type": "markdown",
   "id": "5f619e94",
   "metadata": {},
   "source": [
    "Now here is a function that simulates the estimation game.\n",
    "Each time through the loop, it generates a random sample, computes the sample mean and median, and collects them in lists.\n",
    "The it computes the RMSE of the estimates.\n",
    "\n",
    "In practice, of course, we don't know `actual`.\n",
    "If we did, we wouldn't have to estimate it. The purpose of this experiment is to compare the performance of the two estimators."
   ]
  },
  {
   "cell_type": "code",
   "execution_count": 5,
   "id": "feebf620",
   "metadata": {},
   "outputs": [],
   "source": [
    "np.random.seed(17)"
   ]
  },
  {
   "cell_type": "code",
   "execution_count": 6,
   "id": "7c03dd73",
   "metadata": {},
   "outputs": [],
   "source": [
    "import random\n",
    "\n",
    "n = 10\n",
    "iters = 1001\n",
    "\n",
    "mu = 0\n",
    "sigma = 1\n",
    "means = []\n",
    "medians = []\n",
    "for _ in range(iters):\n",
    "    xs = [random.gauss(mu, sigma) for i in range(n)]\n",
    "    xbar = np.mean(xs)\n",
    "    m = np.median(xs)\n",
    "    means.append(xbar)\n",
    "    medians.append(m)\n",
    "\n",
    "print(\"rmse xbar\", rmse(means, mu))\n",
    "print(\"rmse m\", rmse(medians, mu))"
   ]
  },
  {
   "cell_type": "markdown",
   "id": "9700bb61",
   "metadata": {},
   "source": [
    "Again, `n` is the size of the sample, and `m` is the number of times we play the game."
   ]
  },
  {
   "cell_type": "markdown",
   "id": "cf65739b",
   "metadata": {},
   "source": [
    "The results depend on random numbers, so they vary from one run to the next.\n",
    "But most often we expect the sample mean to yield a lower RMSE than the sample median.\n",
    "\n",
    "Minimizing MSE is a nice property, but it's not always the best strategy.\n",
    "For example, suppose we are estimating the distribution of wind speeds at a building site.\n",
    "If the estimate is too high, we might overbuild the structure, increasing its cost.\n",
    "But if it's too low, the building might collapse.\n",
    "Because cost as a function of error is not symmetric, minimizing MSE is not the best strategy."
   ]
  },
  {
   "cell_type": "markdown",
   "id": "3d994ac2",
   "metadata": {},
   "source": [
    "As another example, suppose I roll three six-sided dice and ask you to predict the total.\n",
    "If you get it exactly right, you get a prize; otherwise you get nothing.\n",
    "In this case the value that minimizes MSE is 10.5, but that would be a bad guess, because the total of three dice is never 10.5. For this game, you want an estimator that has the highest chance of being right, which is a **maximum likelihood estimator** (MLE).\n",
    "If you pick 10 or 11, your chance of winning is 1 in 8, and that's the best you can do."
   ]
  },
  {
   "cell_type": "markdown",
   "id": "981535aa",
   "metadata": {},
   "source": [
    "## Guess the variance\n",
    "\n",
    "*I'm thinking of a distribution.* It's a normal distribution, and here's a (familiar) sample:\n",
    "\n",
    "`[-0.441, 1.774, -0.101, -1.138, 2.975, -2.138]`\n",
    "\n",
    "What do you think is the variance, $\\sigma^2$, of my distribution? Again, the obvious choice is to use the sample variance, $S^2$, as an estimator.\n",
    "\n",
    "\n",
    "$$S^2 = \\frac{1}{n} \\sum (x_i - \\bar{x})^2$$ \n",
    "\n",
    "For large samples, $S^2$ is an adequate estimator, but for small samples it tends to be too low.\n",
    "Because of this unfortunate property, it is called a **biased** estimator.\n",
    "An estimator is **unbiased** if the expected total (or mean) error, after many iterations of the estimation game, is 0.\n",
    "\n",
    "Fortunately, there is another simple statistic that is an unbiased estimator of $\\sigma^2$:\n",
    "\n",
    "$$S_{n-1}^2 = \\frac{1}{n-1} \\sum (x_i - \\bar{x})^2$$\n",
    "\n",
    "For an explanation of why $S^2$ is biased, and a proof that $S_{n-1}^2$ is unbiased, see <http://wikipedia.org/wiki/Bias_of_an_estimator>."
   ]
  },
  {
   "cell_type": "code",
   "execution_count": 7,
   "id": "1323320b",
   "metadata": {},
   "outputs": [],
   "source": [
    "def var(xs, correction=0):\n",
    "    \"\"\"Computes variance.\n",
    "\n",
    "    xs: sequence of values\n",
    "    ddof: delta degrees of freedom\n",
    "\n",
    "    returns: float\n",
    "    \"\"\"\n",
    "    xs = np.asarray(xs)\n",
    "    mu = xs.mean()\n",
    "    ds = xs - mu\n",
    "    n = len(xs)\n",
    "    return np.sum(ds**2) / (n - correction)"
   ]
  },
  {
   "cell_type": "code",
   "execution_count": 8,
   "id": "52e55f32",
   "metadata": {},
   "outputs": [],
   "source": [
    "# TODO: Test RMSE and then check for bias"
   ]
  },
  {
   "cell_type": "markdown",
   "id": "27caa4cd",
   "metadata": {},
   "source": [
    "`mean_error` computes the mean difference between the estimates and the actual value:"
   ]
  },
  {
   "cell_type": "code",
   "execution_count": 9,
   "id": "48642d63",
   "metadata": {},
   "outputs": [],
   "source": [
    "def mean_error(estimates, actual):\n",
    "    \"\"\"Computes the mean error of a sequence of estimates.\n",
    "\n",
    "    estimate: sequence of numbers\n",
    "    actual: actual value\n",
    "\n",
    "    returns: float mean error\n",
    "    \"\"\"\n",
    "    errors = [(estimate - actual) for estimate in estimates]\n",
    "    return np.mean(errors)"
   ]
  },
  {
   "cell_type": "markdown",
   "id": "17f227d8",
   "metadata": {},
   "source": [
    "Here is a function that simulates the estimation game and tests the performance of $S^2$ and $S_{n-1}^2$:"
   ]
  },
  {
   "cell_type": "code",
   "execution_count": 10,
   "id": "09615c49",
   "metadata": {},
   "outputs": [],
   "source": [
    "mu = 0\n",
    "sigma = 1\n",
    "estimates1 = []\n",
    "estimates2 = []\n",
    "for _ in range(iters):\n",
    "    xs = [random.gauss(mu, sigma) for i in range(n)]\n",
    "    biased = var(xs)\n",
    "    unbiased = var(xs, correction=1)\n",
    "    estimates1.append(biased)\n",
    "    estimates2.append(unbiased)\n",
    "\n",
    "print(\"mean error biased\", mean_error(estimates1, sigma**2))\n",
    "print(\"mean error unbiased\", mean_error(estimates2, sigma**2))"
   ]
  },
  {
   "cell_type": "markdown",
   "id": "fa4fe027",
   "metadata": {},
   "source": [
    "Again, `n` is the sample size and `m` is the number of times we play the game.\n"
   ]
  },
  {
   "cell_type": "markdown",
   "id": "b56aab89",
   "metadata": {},
   "source": [
    "When I ran this code, the mean error for $S^2$ was -0.13. As expected, this biased estimator tends to be too low.\n",
    "For $S_{n-1}^2$, the mean error was 0.014, about 10 times smaller.\n",
    "As `m` increases, we expect the mean error for $S_{n-1}^2$ to approach 0.\n",
    "\n",
    "Properties like MSE and bias are long-term expectations based on many iterations of the estimation game.\n",
    "By running simulations like the ones in this chapter, we can compare estimators and check whether they have desired properties.\n",
    "\n",
    "But when you apply an estimator to real data, you just get one estimate.\n",
    "It would not be meaningful to say that the estimate is unbiased; being unbiased is a property of the estimator, not the estimate.\n",
    "\n",
    "After you choose an estimator with appropriate properties, and use it to generate an estimate, the next step is to characterize the uncertainty of the estimate, which is the topic of the next section."
   ]
  },
  {
   "cell_type": "markdown",
   "id": "8ae4b7f1",
   "metadata": {},
   "source": [
    "## Sampling distributions\n",
    "\n",
    "Suppose you are a scientist studying gorillas in a wildlife preserve.\n",
    "You want to know the average weight of the adult female gorillas in the preserve.\n",
    "To weigh them, you have to tranquilize them, which is dangerous, expensive, and possibly harmful to the gorillas.\n",
    "But if it is important to obtain this information, it might be acceptable to weigh a sample of 9 gorillas.\n",
    "Let's assume that the population of the preserve is well known, so we can choose a representative sample of adult females.\n",
    "We could use the sample mean, $\\bar{x}$, to estimate the unknown population mean, $\\mu$.\n",
    "\n",
    "Having weighed 9 female gorillas, you might find $\\bar{x}=90$ kg and sample standard deviation, $S=7.5$ kg. The sample mean is an unbiased estimator of $\\mu$, and in the long run it minimizes MSE.\n",
    "So if you report a single estimate that summarizes the results, you would report 90 kg.\n",
    "\n",
    "But how confident should you be in this estimate? If you only weigh $n=9$ gorillas out of a much larger population, you might be unlucky and choose the 9 heaviest gorillas (or the 9 lightest ones) just by chance.\n",
    "Variation in the estimate caused by random selection is called **sampling error**."
   ]
  },
  {
   "cell_type": "markdown",
   "id": "24339e36",
   "metadata": {},
   "source": [
    "To quantify sampling error, we can simulate the sampling process with hypothetical values of $\\mu$ and $\\sigma$, and see how much $\\bar{x}$ varies.\n",
    "\n",
    "Since we don't know the actual values of $\\mu$ and $\\sigma$ in the population, we'll use the estimates $\\bar{x}$ and $S$.\n",
    "So the question we answer is: \"If the actual values of $\\mu$ and $\\sigma$ were 90 kg and 7.5 kg, and we ran the same experiment many times, how much would the estimated mean, $\\bar{x}$, vary?\"\n",
    "\n",
    "The following function answers that question:"
   ]
  },
  {
   "cell_type": "code",
   "execution_count": 11,
   "id": "8f35a3ec",
   "metadata": {},
   "outputs": [],
   "source": [
    "def simulate_sample(mu=90, sigma=7.5, n=9, iters=1000):\n",
    "    xbars = []\n",
    "    for j in range(iters):\n",
    "        xs = np.random.normal(mu, sigma, n)\n",
    "        xbar = np.mean(xs)\n",
    "        xbars.append(xbar)\n",
    "    return xbars"
   ]
  },
  {
   "cell_type": "markdown",
   "id": "c43ec017",
   "metadata": {},
   "source": [
    "`mu` and `sigma` are the *hypothetical* values of the parameters.\n",
    "`n` is the sample size, the number of gorillas we measured.\n",
    "`m` is the number of times we run the simulation."
   ]
  },
  {
   "cell_type": "code",
   "execution_count": 12,
   "id": "2a26d949",
   "metadata": {},
   "outputs": [],
   "source": [
    "from empiricaldist import Cdf\n",
    "\n",
    "xbars = simulate_sample()\n",
    "cdf = Cdf.from_seq(xbars)\n",
    "cdf.plot()\n",
    "decorate(xlabel=\"Sample mean\", ylabel=\"CDF\")"
   ]
  },
  {
   "cell_type": "markdown",
   "id": "0d0a0dc3",
   "metadata": {},
   "source": [
    "In each iteration, we choose `n` values from a normal distribution with the given parameters, and compute the sample mean, `xbar`.\n",
    "We run 1000 simulations and then compute the distribution, `cdf`, of the estimates.\n",
    "The result is shown in Figure [\\[estimation1\\]](#estimation1){reference-type=\"ref\" reference=\"estimation1\"}.\n",
    "This distribution is called the **sampling distribution** of the estimator.\n",
    "It shows how much the estimates would vary if we ran the experiment over and over.\n",
    "\n",
    "The mean of the sampling distribution is pretty close to the hypothetical value of $\\mu$, which means that the experiment yields the right answer, on average.\n",
    "After 1000 tries, the lowest result is 82 kg, and the highest is 98 kg. This range suggests that the estimate might be off by as much as 8 kg."
   ]
  },
  {
   "cell_type": "code",
   "execution_count": 13,
   "id": "e4c223b2",
   "metadata": {},
   "outputs": [],
   "source": [
    "np.mean(xbars)"
   ]
  },
  {
   "cell_type": "code",
   "execution_count": 14,
   "id": "931496f2",
   "metadata": {},
   "outputs": [],
   "source": [
    "# TODO: make this a function\n",
    "\n",
    "ci = cdf.inverse([0.05, 0.95])\n",
    "ci"
   ]
  },
  {
   "cell_type": "code",
   "execution_count": 15,
   "id": "4299ce1b",
   "metadata": {},
   "outputs": [],
   "source": [
    "stderr = rmse(xbars, 90)\n",
    "stderr"
   ]
  },
  {
   "cell_type": "markdown",
   "id": "c103ec8f",
   "metadata": {},
   "source": [
    "There are two common ways to summarize the sampling distribution:\n",
    "\n",
    "-   **Standard error** (SE) is a measure of how far we expect the estimate to be off, on average.\n",
    "For each simulated experiment, we compute the error, $\\bar{x} - \\mu$, and then compute the root mean squared error (RMSE).\n",
    "In this example, it is roughly 2.5 kg.\n",
    "\n",
    "-   A **confidence interval** (CI) is a range that includes a given fraction of the sampling distribution.\n",
    "For example, the 90% confidence interval is the range from the 5th to the 95th percentile.\n",
    "In this example, the 90% CI is $(86, 94)$ kg."
   ]
  },
  {
   "cell_type": "markdown",
   "id": "7deaf510",
   "metadata": {},
   "source": [
    "Standard errors and confidence intervals are the source of much confusion:\n",
    "\n",
    "-   People often confuse standard error and standard deviation.\n",
    "Remember that standard deviation describes variability in a measured quantity; in this example, the standard deviation of gorilla weight is 7.5 kg. Standard error describes variability in an estimate.\n",
    "In this example, the standard error of the mean, based on a sample of 9 measurements, is 2.5 kg."
   ]
  },
  {
   "cell_type": "markdown",
   "id": "64cf014b",
   "metadata": {},
   "source": [
    "One way to remember the difference is that, as sample size increases, standard error gets smaller; standard deviation does not.\n",
    "\n",
    "-   People often think that there is a 90% probability that the actual parameter, $\\mu$, falls in the 90% confidence interval.\n",
    "Sadly, that is not true.\n",
    "If you want to make a claim like that, you have to use Bayesian methods (see my book, *Think Bayes*)."
   ]
  },
  {
   "cell_type": "markdown",
   "id": "9812c4f0",
   "metadata": {},
   "source": [
    "The sampling distribution answers a different question: it gives you a sense of how reliable an estimate is by telling you how much it would vary if you ran the experiment again."
   ]
  },
  {
   "cell_type": "markdown",
   "id": "c7b6560b",
   "metadata": {},
   "source": [
    "It is important to remember that confidence intervals and standard errors only quantify sampling error; that is, error due to measuring only part of the population.\n",
    "The sampling distribution does not account for other sources of error, notably sampling bias and measurement error, which are the topics of the next section."
   ]
  },
  {
   "cell_type": "markdown",
   "id": "c9185ef3",
   "metadata": {},
   "source": [
    "## Sampling bias\n",
    "\n",
    "Suppose that instead of the weight of gorillas in a nature preserve, you want to know the average weight of women in the city where you live.\n",
    "It is unlikely that you would be allowed to choose a representative sample of women and weigh them.\n",
    "\n",
    "A simple alternative would be \"telephone sampling;\" that is, you could choose random numbers from the phone book, call and ask to speak to an adult woman, and ask how much she weighs.\n",
    "\n",
    "Telephone sampling has obvious limitations.\n",
    "For example, the sample is limited to people whose telephone numbers are listed, so it eliminates people without phones (who might be poorer than average) and people with unlisted numbers (who might be richer).\n",
    "Also, if you call home telephones during the day, you are less likely to sample people with jobs.\n",
    "And if you only sample the person who answers the phone, you are less likely to sample people who share a phone line."
   ]
  },
  {
   "cell_type": "markdown",
   "id": "29713752",
   "metadata": {},
   "source": [
    "If factors like income, employment, and household size are related to weight---and it is plausible that they are---the results of your survey would be affected one way or another.\n",
    "This problem is called **sampling bias** because it is a property of the sampling process.\n",
    "\n",
    "This sampling process is also vulnerable to self-selection, which is a kind of sampling bias.\n",
    "Some people will refuse to answer the question, and if the tendency to refuse is related to weight, that would affect the results.\n",
    "\n",
    "Finally, if you ask people how much they weigh, rather than weighing them, the results might not be accurate.\n",
    "Even helpful respondents might round up or down if they are uncomfortable with their actual weight.\n",
    "And not all respondents are helpful.\n",
    "These inaccuracies are examples of **measurement error**."
   ]
  },
  {
   "cell_type": "markdown",
   "id": "5a97787d",
   "metadata": {},
   "source": [
    "When you report an estimated quantity, it is useful to report standard error, or a confidence interval, or both, in order to quantify sampling error.\n",
    "But it is also important to remember that sampling error is only one source of error, and often it is not the biggest."
   ]
  },
  {
   "cell_type": "markdown",
   "id": "c8fee736",
   "metadata": {},
   "source": [
    "## Exponential distributions\n",
    "\n",
    "Let's play one more round of the estimation game.\n",
    "*I'm thinking of a distribution.* It's an exponential distribution, and here's a sample:\n",
    "\n",
    "`[5.384, 4.493, 19.198, 2.790, 6.122, 12.844]`\n",
    "\n",
    "What do you think is the parameter, $\\lambda$, of this distribution?\n",
    "\n",
    "In general, the mean of an exponential distribution is $1/\\lambda$, so working backwards, we might choose \n",
    "\n",
    "$$L= 1 / \\bar{x}$$\n",
    "\n",
    "$L$ is an estimator of $\\lambda$.\n",
    "And not just any estimator; it is also the maximum likelihood estimator (see <http://wikipedia.org/wiki/Exponential_distribution#Maximum_likelihood>).\n",
    "So if you want to maximize your chance of guessing $\\lambda$ exactly, $L$ is the way to go.\n",
    "\n",
    "But we know that $\\bar{x}$ is not robust in the presence of outliers, so we expect $L$ to have the same problem."
   ]
  },
  {
   "cell_type": "markdown",
   "id": "92c023db",
   "metadata": {},
   "source": [
    "We can choose an alternative based on the sample median.\n",
    "The median of an exponential distribution is $\\ln(2) / \\lambda$, so working backwards again, we can define an estimator $$L_m= \\ln(2) / m$$ where $m$ is the sample median.\n",
    "\n",
    "To test the performance of these estimators, we can simulate the sampling process:"
   ]
  },
  {
   "cell_type": "code",
   "execution_count": 16,
   "id": "c9791e47",
   "metadata": {},
   "outputs": [],
   "source": [
    "def median(seq):\n",
    "    n = len(seq)\n",
    "    t = sorted(seq)\n",
    "    i = (n - 1) // 2\n",
    "    return t[i]"
   ]
  },
  {
   "cell_type": "code",
   "execution_count": 17,
   "id": "699a569e",
   "metadata": {},
   "outputs": [],
   "source": [
    "lam = 2\n",
    "ls = []\n",
    "lms = []\n",
    "\n",
    "for _ in range(iters):\n",
    "    xs = np.random.exponential(1.0 / lam, n)\n",
    "    L = 1 / np.mean(xs)\n",
    "    Lm = np.log(2) / median(xs)\n",
    "    ls.append(L)\n",
    "    lms.append(Lm)"
   ]
  },
  {
   "cell_type": "code",
   "execution_count": 18,
   "id": "5b4e4ddf",
   "metadata": {},
   "outputs": [],
   "source": [
    "print(\"rmse L\", rmse(ls, lam))\n",
    "print(\"rmse Lm\", rmse(lms, lam))"
   ]
  },
  {
   "cell_type": "markdown",
   "id": "3a550684",
   "metadata": {},
   "source": [
    "When I run this experiment with $\\lambda=2$, the RMSE of $L$ is 1.1. For the median-based estimator $L_m$, RMSE is 1.8. We can't tell from this experiment whether $L$ minimizes MSE, but at least it seems better than $L_m$."
   ]
  },
  {
   "cell_type": "code",
   "execution_count": 19,
   "id": "9d6dbd28",
   "metadata": {},
   "outputs": [],
   "source": [
    "print(\"mean error L\", mean_error(ls, lam))\n",
    "print(\"mean error Lm\", mean_error(lms, lam))"
   ]
  },
  {
   "cell_type": "markdown",
   "id": "8a7e05a2",
   "metadata": {},
   "source": [
    "Sadly, it seems that both estimators are biased.\n",
    "For $L$ the mean error is 0.33; for $L_m$ it is 0.45. And neither converges to 0 as `m` increases.\n",
    "\n",
    "It turns out that $\\bar{x}$ is an unbiased estimator of the mean of the distribution, but $L$ is not an unbiased estimator of $\\lambda$."
   ]
  },
  {
   "cell_type": "markdown",
   "id": "5a72892f",
   "metadata": {},
   "source": [
    "## Glossary\n",
    "\n",
    "-   **estimation**: The process of inferring the parameters of a distribution from a sample.\n",
    "\n",
    "-   **estimator**: A statistic used to estimate a parameter.\n",
    "\n",
    "-   **mean squared error (MSE)**: A measure of estimation error.\n",
    "\n",
    "-   **root mean squared error (RMSE)**: The square root of MSE, a more meaningful representation of typical error magnitude.\n",
    "\n",
    "-   **maximum likelihood estimator (MLE)**: An estimator that computes the point estimate most likely to be correct.\n",
    "\n",
    "-   **bias (of an estimator)**: The tendency of an estimator to be above or below the actual value of the parameter, when averaged over repeated experiments.\n",
    "\n",
    "-   **sampling error**: Error in an estimate due to the limited size of the sample and variation due to chance.\n",
    "\n",
    "-   **sampling bias**: Error in an estimate due to a sampling process that is not representative of the population.\n",
    "\n",
    "-   **measurement error**: Error in an estimate due to inaccuracy collecting or recording data.\n",
    "\n",
    "-   **sampling distribution**: The distribution of a statistic if an experiment is repeated many times.\n",
    "\n",
    "-   **standard error**: The RMSE of an estimate, which quantifies variability due to sampling error (but not other sources of error).\n",
    "\n",
    "-   **confidence interval**: An interval that represents the expected range of an estimator if an experiment is repeated many times."
   ]
  },
  {
   "cell_type": "markdown",
   "id": "697621aa",
   "metadata": {},
   "source": [
    "## Exercises"
   ]
  },
  {
   "cell_type": "markdown",
   "id": "700f4df0",
   "metadata": {},
   "source": [
    "**Exercise:** Suppose you draw a sample with size n=10 from an exponential distribution with λ=2.\n",
    "Simulate this experiment 1000 times and plot the sampling distribution of the estimate L. Compute the standard error of the estimate and the 90% confidence interval.\n",
    "\n",
    "Repeat the experiment with a few different values of `n` and make a plot of standard error versus `n`.\n",
    "\n"
   ]
  },
  {
   "cell_type": "code",
   "execution_count": 20,
   "id": "41dfd70d",
   "metadata": {},
   "outputs": [],
   "source": [
    "# Solution goes here"
   ]
  },
  {
   "cell_type": "code",
   "execution_count": 21,
   "id": "b4bb502a",
   "metadata": {},
   "outputs": [],
   "source": [
    "# Solution goes here"
   ]
  },
  {
   "cell_type": "code",
   "execution_count": 22,
   "id": "53a58369",
   "metadata": {},
   "outputs": [],
   "source": [
    "# Solution goes here"
   ]
  },
  {
   "cell_type": "code",
   "execution_count": 23,
   "id": "71beaf3d",
   "metadata": {},
   "outputs": [],
   "source": [
    "# Solution goes here"
   ]
  },
  {
   "cell_type": "markdown",
   "id": "c8d4dc5c",
   "metadata": {},
   "source": [
    "**Exercise:** In games like hockey and soccer, the time between goals is roughly exponential.\n",
    "So you could estimate a team's goal-scoring rate by observing the number of goals they score in a game.\n",
    "This estimation process is a little different from sampling the time between goals, so let's see how it works.\n",
    "\n",
    "Write a function that takes a goal-scoring rate, `lam`, in goals per game, and simulates a game by generating the time between goals until the total time exceeds 1 game, then returns the number of goals scored.\n",
    "\n",
    "Write another function that simulates many games, stores the estimates of `lam`, then computes their mean error and RMSE.\n",
    "\n",
    "Is this way of making an estimate biased?"
   ]
  },
  {
   "cell_type": "code",
   "execution_count": 24,
   "id": "9dcfda77",
   "metadata": {},
   "outputs": [],
   "source": [
    "def simulate_game(lam):\n",
    "    \"\"\"Simulates a game and returns the estimated goal-scoring rate.\n",
    "\n",
    "    lam: actual goal scoring rate in goals per game\n",
    "    \"\"\"\n",
    "    goals = 0\n",
    "    t = 0\n",
    "    while True:\n",
    "        time_between_goals = random.expovariate(lam)\n",
    "        t += time_between_goals\n",
    "        if t > 1:\n",
    "            break\n",
    "        goals += 1\n",
    "    L = goals\n",
    "    return L"
   ]
  },
  {
   "cell_type": "code",
   "execution_count": 25,
   "id": "645285a7",
   "metadata": {},
   "outputs": [],
   "source": [
    "# Solution goes here"
   ]
  },
  {
   "cell_type": "code",
   "execution_count": 26,
   "id": "2a7a3a99",
   "metadata": {},
   "outputs": [],
   "source": [
    "# Solution goes here"
   ]
  },
  {
   "cell_type": "markdown",
   "id": "3f4fbe65",
   "metadata": {},
   "source": [
    "**Exercise:**  In this chapter we used $\\bar{x}$ and median to estimate µ, and found that $\\bar{x}$ yields lower MSE.\n",
    "Also, we used $S^2$ and $S_{n-1}^2$ to estimate σ, and found that $S^2$ is biased and $S_{n-1}^2$ unbiased.\n",
    "Run similar experiments to see if $\\bar{x}$ and median are biased estimates of µ. Also check whether $S^2$ or $S_{n-1}^2$ yields a lower MSE."
   ]
  },
  {
   "cell_type": "code",
   "execution_count": 27,
   "id": "52ac2dbc",
   "metadata": {},
   "outputs": [],
   "source": [
    "n = 7\n",
    "iters = 1001\n",
    "\n",
    "mu = 0\n",
    "sigma = 1\n",
    "means = []\n",
    "medians = []\n",
    "for _ in range(iters):\n",
    "    xs = [random.gauss(mu, sigma) for i in range(n)]\n",
    "    xbar = np.mean(xs)\n",
    "    median = np.median(xs)\n",
    "    means.append(xbar)\n",
    "    medians.append(median)\n",
    "\n",
    "print(\"mean error xbar\", mean_error(means, mu))\n",
    "print(\"mean error median\", mean_error(medians, mu))"
   ]
  },
  {
   "cell_type": "code",
   "execution_count": 28,
   "id": "bbffceac",
   "metadata": {},
   "outputs": [],
   "source": [
    "n = 7\n",
    "iters = 1001\n",
    "\n",
    "mu = 0\n",
    "sigma = 1\n",
    "estimates1 = []\n",
    "estimates2 = []\n",
    "for _ in range(iters):\n",
    "    xs = [random.gauss(mu, sigma) for i in range(n)]\n",
    "    biased = np.var(xs)\n",
    "    unbiased = np.var(xs, ddof=1)\n",
    "    estimates1.append(biased)\n",
    "    estimates2.append(unbiased)\n",
    "print(\"RMSE biased\", rmse(estimates1, sigma**2))\n",
    "print(\"RMSE unbiased\", rmse(estimates2, sigma**2))"
   ]
  },
  {
   "cell_type": "code",
   "execution_count": null,
   "id": "bac4114e",
   "metadata": {},
   "outputs": [],
   "source": []
  }
 ],
 "metadata": {
  "kernelspec": {
   "display_name": "Python 3 (ipykernel)",
   "language": "python",
   "name": "python3"
  },
  "language_info": {
   "codemirror_mode": {
    "name": "ipython",
    "version": 3
   },
   "file_extension": ".py",
   "mimetype": "text/x-python",
   "name": "python",
   "nbconvert_exporter": "python",
   "pygments_lexer": "ipython3",
   "version": "3.10.14"
  }
 },
 "nbformat": 4,
 "nbformat_minor": 5
}
