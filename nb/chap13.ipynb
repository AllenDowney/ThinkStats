{
 "cells": [
  {
   "cell_type": "markdown",
   "id": "210938a1",
   "metadata": {},
   "source": [
    "# Survival analysis"
   ]
  },
  {
   "cell_type": "code",
   "execution_count": 1,
   "id": "75384c1c",
   "metadata": {},
   "outputs": [],
   "source": [
    "%load_ext nb_black\n",
    "%load_ext autoreload\n",
    "%autoreload 2\n"
   ]
  },
  {
   "cell_type": "code",
   "execution_count": 2,
   "id": "ef31aaeb",
   "metadata": {},
   "outputs": [],
   "source": [
    "from os.path import basename, exists\n",
    "\n",
    "\n",
    "def download(url):\n",
    "    filename = basename(url)\n",
    "    if not exists(filename):\n",
    "        from urllib.request import urlretrieve\n",
    "\n",
    "        local, _ = urlretrieve(url, filename)\n",
    "        print(\"Downloaded \" + local)\n",
    "\n",
    "\n",
    "download(\"https://github.com/AllenDowney/ThinkStats2/raw/master/code/thinkstats2.py\")\n",
    "download(\"https://github.com/AllenDowney/ThinkStats2/raw/master/code/thinkplot.py\")"
   ]
  },
  {
   "cell_type": "code",
   "execution_count": 3,
   "id": "babb4f14",
   "metadata": {},
   "outputs": [],
   "source": [
    "import thinkstats2\n",
    "import thinkplot"
   ]
  },
  {
   "cell_type": "code",
   "execution_count": 4,
   "id": "557c52e3",
   "metadata": {},
   "outputs": [],
   "source": [
    "import numpy as np\n",
    "import pandas as pd"
   ]
  },
  {
   "cell_type": "markdown",
   "id": "5b04b823",
   "metadata": {},
   "source": [
    "**Survival analysis** is a way to describe how long things last. It is\n",
    "often used to study human lifetimes, but it also applies to \"survival\"\n",
    "of mechanical and electronic components, or more generally to intervals\n",
    "in time before an event.\n",
    "\n",
    "If someone you know has been diagnosed with a life-threatening disease,\n",
    "you might have seen a \"5-year survival rate,\" which is the probability\n",
    "of surviving five years after diagnosis. That estimate and related\n",
    "statistics are the result of survival analysis."
   ]
  },
  {
   "cell_type": "markdown",
   "id": "6d47eaa6",
   "metadata": {},
   "source": [
    "## Survival curves\n",
    "\n",
    "The fundamental concept in survival analysis is the **survival curve**,\n",
    "$S(t)$, which is a function that maps from a duration, $t$, to the\n",
    "probability of surviving longer than $t$. If you know the distribution\n",
    "of durations, or \"lifetimes\", finding the survival curve is easy; it's\n",
    "just the complement of the CDF: $$S(t) = 1 - CDF(t)$$ where $CDF(t)$ is\n",
    "the probability of a lifetime less than or equal to $t$.\n",
    "\n",
    "For example, in the NSFG dataset, we know the duration of 11189 complete\n",
    "pregnancies. We can read this data and compute the CDF:"
   ]
  },
  {
   "cell_type": "code",
   "execution_count": 5,
   "id": "c26c557c",
   "metadata": {},
   "outputs": [],
   "source": [
    "download(\"https://github.com/AllenDowney/ThinkStats2/raw/master/code/nsfg.py\")\n",
    "download(\"https://github.com/AllenDowney/ThinkStats2/raw/master/code/2002FemPreg.dct\")\n",
    "download(\n",
    "    \"https://github.com/AllenDowney/ThinkStats2/raw/master/code/2002FemPreg.dat.gz\"\n",
    ")"
   ]
  },
  {
   "cell_type": "code",
   "execution_count": 6,
   "id": "3ae9e0a8",
   "metadata": {},
   "outputs": [],
   "source": [
    "import nsfg\n",
    "\n",
    "preg = nsfg.read_fem_preg()\n",
    "complete = preg.query(\"outcome in [1, 3, 4]\").prglngth\n",
    "cdf = thinkstats2.Cdf(complete, label=\"cdf\")"
   ]
  },
  {
   "cell_type": "markdown",
   "id": "8728bbaa",
   "metadata": {},
   "source": [
    "The outcome codes `1, 3, 4` indicate live birth, stillbirth, and\n",
    "miscarriage. For this analysis I am excluding induced abortions, ectopic\n",
    "pregnancies, and pregnancies that were in progress when the respondent\n",
    "was interviewed.\n",
    "\n",
    "The DataFrame method `query` takes a boolean expression and evaluates it\n",
    "for each row, selecting the rows that yield True."
   ]
  },
  {
   "cell_type": "markdown",
   "id": "4ea49cf6",
   "metadata": {},
   "source": [
    "Figure [\\[survival1\\]](#survival1){reference-type=\"ref\"\n",
    "reference=\"survival1\"} (top) shows the CDF of pregnancy length and its\n",
    "complement, the survival curve. To represent the survival curve, I\n",
    "define an object that wraps a Cdf and adapts the interface:"
   ]
  },
  {
   "cell_type": "raw",
   "id": "6e232b5a",
   "metadata": {},
   "source": [
    "class SurvivalFunction(object):\n",
    "    def __init__(self, cdf, label=''):\n",
    "        self.cdf = cdf\n",
    "        self.label = label or cdf.label\n",
    "\n",
    "    @property\n",
    "    def ts(self):\n",
    "        return self.cdf.xs\n",
    "\n",
    "    @property\n",
    "    def ss(self):\n",
    "        return 1 - self.cdf.ps\n",
    "    \n",
    "    def __getitem__(self, t):\n",
    "        return self.Prob(t)\n",
    "\n",
    "    def Prob(self, t):\n",
    "        return 1 - self.cdf.Prob(t)"
   ]
  },
  {
   "cell_type": "markdown",
   "id": "f138bf4d",
   "metadata": {},
   "source": [
    "`SurvivalFunction` provides two properties: `ts`, which is the sequence\n",
    "of lifetimes, and `ss`, which is the survival curve. In Python, a\n",
    "\"property\" is a method that can be invoked as if it were a variable.\n",
    "\n",
    "We can instantiate a `SurvivalFunction` by passing the CDF of lifetimes:"
   ]
  },
  {
   "cell_type": "code",
   "execution_count": 7,
   "id": "198a5780",
   "metadata": {},
   "outputs": [],
   "source": [
    "from thinkstats2 import SurvivalFunction\n",
    "\n",
    "\n",
    "def make_survival_from_cdf(cdf, label=\"\"):\n",
    "    \"\"\"Makes a survival function based on a CDF.\n",
    "\n",
    "    cdf: Cdf\n",
    "\n",
    "    returns: SurvivalFunction\n",
    "    \"\"\"\n",
    "    ts = cdf.xs\n",
    "    ss = 1 - cdf.ps\n",
    "    return SurvivalFunction(ts, ss, label)"
   ]
  },
  {
   "cell_type": "code",
   "execution_count": 8,
   "id": "aa85496a",
   "metadata": {},
   "outputs": [],
   "source": [
    "sf = make_survival_from_cdf(cdf, label=\"survival\")"
   ]
  },
  {
   "cell_type": "markdown",
   "id": "b285c880",
   "metadata": {},
   "source": [
    "`SurvivalFunction` also provides `__getitem__` and `Prob`, which\n",
    "evaluates the survival curve:"
   ]
  },
  {
   "cell_type": "markdown",
   "id": "778a2b7e",
   "metadata": {},
   "source": [
    "For example, `sf[13]` is the fraction of pregnancies that proceed past\n",
    "the first trimester:"
   ]
  },
  {
   "cell_type": "code",
   "execution_count": 9,
   "id": "e200b9be",
   "metadata": {},
   "outputs": [],
   "source": [
    "sf[13]"
   ]
  },
  {
   "cell_type": "code",
   "execution_count": 10,
   "id": "b9716109",
   "metadata": {},
   "outputs": [],
   "source": [
    "cdf[13]"
   ]
  },
  {
   "cell_type": "markdown",
   "id": "ecc71b04",
   "metadata": {},
   "source": [
    "About 86% of pregnancies proceed past the first trimester; about 14% do\n",
    "not.\n",
    "\n",
    "`SurvivalFunction` provides `Render`, so we can plot `sf` using the\n",
    "functions in `thinkplot`:"
   ]
  },
  {
   "cell_type": "code",
   "execution_count": 11,
   "id": "19b0c659",
   "metadata": {},
   "outputs": [],
   "source": [
    "thinkplot.plot(sf)\n",
    "thinkplot.cdf(cdf, alpha=0.2)\n",
    "thinkplot.config(loc=\"center left\")"
   ]
  },
  {
   "cell_type": "markdown",
   "id": "5bd21a16",
   "metadata": {},
   "source": [
    "Figure [\\[survival1\\]](#survival1){reference-type=\"ref\"\n",
    "reference=\"survival1\"} (top) shows the result. The curve is nearly flat\n",
    "between 13 and 26 weeks, which shows that few pregnancies end in the\n",
    "second trimester. And the curve is steepest around 39 weeks, which is\n",
    "the most common pregnancy length."
   ]
  },
  {
   "cell_type": "markdown",
   "id": "28a794f9",
   "metadata": {},
   "source": [
    "## Hazard function\n",
    "\n",
    "From the survival curve we can derive the **hazard function**; for\n",
    "pregnancy lengths, the hazard function maps from a time, $t$, to the\n",
    "fraction of pregnancies that continue until $t$ and then end at $t$. To\n",
    "be more precise: $$\\lambda(t) = \\frac{S(t) - S(t+1)}{S(t)}$$ The\n",
    "numerator is the fraction of lifetimes that end at $t$, which is also\n",
    "$\\PMF(t)$.\n",
    "\n",
    "`SurvivalFunction` provides `MakeHazard`, which calculates the hazard\n",
    "function:"
   ]
  },
  {
   "cell_type": "raw",
   "id": "e3794cc3",
   "metadata": {},
   "source": [
    "# class SurvivalFunction\n",
    "\n",
    "    def MakeHazard(self, label=''):\n",
    "        ss = self.ss\n",
    "        lams = {}\n",
    "        for i, t in enumerate(self.ts[:-1]):\n",
    "            hazard = (ss[i] - ss[i+1]) / ss[i]\n",
    "            lams[t] = hazard\n",
    "\n",
    "        return HazardFunction(lams, label=label)"
   ]
  },
  {
   "cell_type": "markdown",
   "id": "207a5f48",
   "metadata": {},
   "source": [
    "The `HazardFunction` object is a wrapper for a pandas Series:"
   ]
  },
  {
   "cell_type": "raw",
   "id": "3dcfba19",
   "metadata": {},
   "source": [
    "class HazardFunction(object):\n",
    "\n",
    "    def __init__(self, d, label=''):\n",
    "        self.series = pd.Series(d)\n",
    "        self.label = label"
   ]
  },
  {
   "cell_type": "markdown",
   "id": "8b378da2",
   "metadata": {},
   "source": [
    "`d` can be a dictionary or any other type that can initialize a Series,\n",
    "including another Series. `label` is a string used to identify the\n",
    "HazardFunction when plotted.\n",
    "\n",
    "`HazardFunction` provides `__getitem__`, so we can evaluate it like\n",
    "this:"
   ]
  },
  {
   "cell_type": "code",
   "execution_count": null,
   "id": "e79b4dea",
   "metadata": {},
   "outputs": [],
   "source": [
    "hf = sf.make_hazard_function(label='hazard')\n",
    "hf[39]"
   ]
  },
  {
   "cell_type": "markdown",
   "id": "7ff26d3d",
   "metadata": {},
   "source": [
    "So of all pregnancies that proceed until week 39, about 50% end in week\n",
    "39.\n",
    "\n",
    "Figure [\\[survival1\\]](#survival1){reference-type=\"ref\"\n",
    "reference=\"survival1\"} (bottom) shows the hazard function for pregnancy\n",
    "lengths. For times after week 42, the hazard function is erratic because\n",
    "it is based on a small number of cases. Other than that the shape of the\n",
    "curve is as expected: it is highest around 39 weeks, and a little higher\n",
    "in the first trimester than in the second.\n",
    "\n",
    "The hazard function is useful in its own right, but it is also an\n",
    "important tool for estimating survival curves, as we'll see in the next\n",
    "section."
   ]
  },
  {
   "cell_type": "markdown",
   "id": "e76885a6",
   "metadata": {},
   "source": [
    "## Inferring survival curves\n",
    "\n",
    "If someone gives you the CDF of lifetimes, it is easy to compute the\n",
    "survival and hazard functions. But in many real-world scenarios, we\n",
    "can't measure the distribution of lifetimes directly. We have to infer\n",
    "it.\n",
    "\n",
    "For example, suppose you are following a group of patients to see how\n",
    "long they survive after diagnosis. Not all patients are diagnosed on the\n",
    "same day, so at any point in time, some patients have survived longer\n",
    "than others. If some patients have died, we know their survival times.\n",
    "For patients who are still alive, we don't know survival times, but we\n",
    "have a lower bound.\n",
    "\n",
    "If we wait until all patients are dead, we can compute the survival\n",
    "curve, but if we are evaluating the effectiveness of a new treatment, we\n",
    "can't wait that long! We need a way to estimate survival curves using\n",
    "incomplete information."
   ]
  },
  {
   "cell_type": "markdown",
   "id": "116f50ba",
   "metadata": {},
   "source": [
    "As a more cheerful example, I will use NSFG data to quantify how long\n",
    "respondents \"survive\" until they get married for the first time. The\n",
    "range of respondents' ages is 14 to 44 years, so the dataset provides a\n",
    "snapshot of women at different stages in their lives.\n",
    "\n",
    "For women who have been married, the dataset includes the date of their\n",
    "first marriage and their age at the time. For women who have not been\n",
    "married, we know their age when interviewed, but have no way of knowing\n",
    "when or if they will get married.\n",
    "\n",
    "Since we know the age at first marriage for *some* women, it might be\n",
    "tempting to exclude the rest and compute the CDF of the known data. That\n",
    "is a bad idea. The result would be doubly misleading: (1) older women\n",
    "would be overrepresented, because they are more likely to be married\n",
    "when interviewed, and (2) married women would be overrepresented! In\n",
    "fact, this analysis would lead to the conclusion that all women get\n",
    "married, which is obviously incorrect."
   ]
  },
  {
   "cell_type": "markdown",
   "id": "1c458c8d",
   "metadata": {},
   "source": [
    "## Kaplan-Meier estimation\n",
    "\n",
    "In this example it is not only desirable but necessary to include\n",
    "observations of unmarried women, which brings us to one of the central\n",
    "algorithms in survival analysis, **Kaplan-Meier estimation**.\n",
    "\n",
    "The general idea is that we can use the data to estimate the hazard\n",
    "function, then convert the hazard function to a survival curve. To\n",
    "estimate the hazard function, we consider, for each age, (1) the number\n",
    "of women who got married at that age and (2) the number of women \"at\n",
    "risk\" of getting married, which includes all women who were not married\n",
    "at an earlier age.\n",
    "\n",
    "Here's the code:"
   ]
  },
  {
   "cell_type": "code",
   "execution_count": null,
   "id": "5d357255",
   "metadata": {},
   "outputs": [],
   "source": [
    "from collections import Counter\n",
    "from thinkstats2 import HazardFunction\n",
    "\n",
    "\n",
    "def estimate_hazard_function(complete, ongoing, label='', verbose=False):\n",
    "    \"\"\"Estimates the hazard function by Kaplan-Meier.\n",
    "\n",
    "    http://en.wikipedia.org/wiki/Kaplan%E2%80%93Meier_estimator\n",
    "\n",
    "    complete: list of complete lifetimes\n",
    "    ongoing: list of ongoing lifetimes\n",
    "    label: string\n",
    "    verbose: whether to display intermediate results\n",
    "    \"\"\"\n",
    "    if np.sum(np.isnan(complete)):\n",
    "        raise ValueError('complete contains NaNs')\n",
    "    if np.sum(np.isnan(ongoing)):\n",
    "        raise ValueError('ongoing contains NaNs')\n",
    "    hist_complete = Counter(complete)\n",
    "    hist_ongoing = Counter(ongoing)\n",
    "    ts = list(hist_complete | hist_ongoing)\n",
    "    ts.sort()\n",
    "    at_risk = len(complete) + len(ongoing)\n",
    "    lams = pd.Series(index=ts, dtype=float)\n",
    "    for t in ts:\n",
    "        ended = hist_complete[t]\n",
    "        censored = hist_ongoing[t]\n",
    "        lams[t] = ended / at_risk\n",
    "        if verbose:\n",
    "            print(t, at_risk, ended, censored, lams[t])\n",
    "        at_risk -= ended + censored\n",
    "    return HazardFunction(lams, label=label)"
   ]
  },
  {
   "cell_type": "markdown",
   "id": "73405755",
   "metadata": {},
   "source": [
    "`complete` is the set of complete observations; in this case, the ages\n",
    "when respondents got married. `ongoing` is the set of incomplete\n",
    "observations; that is, the ages of unmarried women when they were\n",
    "interviewed.\n",
    "\n",
    "First, we precompute `hist_complete`, which is a Counter that maps from\n",
    "each age to the number of women married at that age, and `hist_ongoing`\n",
    "which maps from each age to the number of unmarried women interviewed at\n",
    "that age.\n",
    "\n",
    "`ts` is the union of ages when respondents got married and ages when\n",
    "unmarried women were interviewed, sorted in increasing order.\n",
    "\n",
    "`at_risk` keeps track of the number of respondents considered \"at risk\"\n",
    "at each age; initially, it is the total number of respondents.\n",
    "\n",
    "The result is stored in a Pandas `Series` that maps from each age to the\n",
    "estimated hazard function at that age."
   ]
  },
  {
   "cell_type": "markdown",
   "id": "928bd259",
   "metadata": {},
   "source": [
    "Each time through the loop, we consider one age, `t`, and compute the\n",
    "number of events that end at `t` (that is, the number of respondents\n",
    "married at that age) and the number of events censored at `t` (that is,\n",
    "the number of women interviewed at `t` whose future marriage dates are\n",
    "censored). In this context, \"censored\" means that the data are\n",
    "unavailable because of the data collection process.\n",
    "\n",
    "The estimated hazard function is the fraction of the cases at risk that\n",
    "end at `t`.\n",
    "\n",
    "At the end of the loop, we subtract from `at_risk` the number of cases\n",
    "that ended or were censored at `t`.\n",
    "\n",
    "Finally, we pass `lams` to the `HazardFunction` constructor and return\n",
    "the result."
   ]
  },
  {
   "cell_type": "markdown",
   "id": "f625fb00",
   "metadata": {},
   "source": [
    "## The marriage curve\n",
    "\n",
    "To test this function, we have to do some data cleaning and\n",
    "transformation. The NSFG variables we need are:\n",
    "\n",
    "-   `cmbirth`: The respondent's date of birth, known for all\n",
    "    respondents.\n",
    "\n",
    "-   `cmintvw`: The date the respondent was interviewed, known for all\n",
    "    respondents.\n",
    "\n",
    "-   `cmmarrhx`: The date the respondent was first married, if applicable\n",
    "    and known.\n",
    "\n",
    "-   `evrmarry`: 1 if the respondent had been married prior to the date\n",
    "    of interview, 0 otherwise.\n",
    "\n",
    "The first three variables are encoded in \"century-months\"; that is, the\n",
    "integer number of months since December 1899. So century-month 1 is\n",
    "January 1900.\n",
    "\n",
    "First, we read the respondent file and replace invalid values of\n",
    "`cmmarrhx`:"
   ]
  },
  {
   "cell_type": "code",
   "execution_count": null,
   "id": "e3950e7b",
   "metadata": {},
   "outputs": [],
   "source": [
    "import nsfg\n",
    "resp = nsfg.read_fem_resp()\n",
    "resp['cmmarrhx'] = resp.cmmarrhx.replace([9997, 9998, 9999], np.nan)"
   ]
  },
  {
   "cell_type": "markdown",
   "id": "fa2a445c",
   "metadata": {},
   "source": [
    "Then we compute each respondent's age when married and age when\n",
    "interviewed:"
   ]
  },
  {
   "cell_type": "code",
   "execution_count": null,
   "id": "9c98df13",
   "metadata": {},
   "outputs": [],
   "source": [
    "resp['agemarry'] = (resp.cmmarrhx - resp.cmbirth) / 12.0\n",
    "resp['age'] = (resp.cmintvw - resp.cmbirth) / 12.0"
   ]
  },
  {
   "cell_type": "markdown",
   "id": "5a32f7e7",
   "metadata": {},
   "source": [
    "Next we extract `complete`, which is the age at marriage for women who\n",
    "have been married, and `ongoing`, which is the age at interview for\n",
    "women who have not:"
   ]
  },
  {
   "cell_type": "code",
   "execution_count": null,
   "id": "d82682c3",
   "metadata": {},
   "outputs": [],
   "source": [
    "complete = resp[resp.evrmarry == 1].agemarry.dropna()\n",
    "ongoing = resp[resp.evrmarry == 0].age"
   ]
  },
  {
   "cell_type": "markdown",
   "id": "acc25994",
   "metadata": {},
   "source": [
    "Finally we compute the hazard function."
   ]
  },
  {
   "cell_type": "code",
   "execution_count": null,
   "id": "62d602ae",
   "metadata": {},
   "outputs": [],
   "source": [
    "hf = estimate_hazard_function(complete, ongoing)\n",
    "thinkplot.plot(hf)\n",
    "thinkplot.config(xlabel='Age (years)', ylabel='Hazard')"
   ]
  },
  {
   "cell_type": "markdown",
   "id": "642dcbc4",
   "metadata": {},
   "source": [
    "Figure [\\[survival2\\]](#survival2){reference-type=\"ref\"\n",
    "reference=\"survival2\"} (top) shows the estimated hazard function; it is\n",
    "low in the teens, higher in the 20s, and declining in the 30s. It\n",
    "increases again in the 40s, but that is an artifact of the estimation\n",
    "process; as the number of respondents \"at risk\" decreases, a small\n",
    "number of women getting married yields a large estimated hazard. The\n",
    "survival curve will smooth out this noise."
   ]
  },
  {
   "cell_type": "markdown",
   "id": "cc71430f",
   "metadata": {},
   "source": [
    "## Estimating the survival curve\n",
    "\n",
    "Once we have the hazard function, we can estimate the survival curve.\n",
    "The chance of surviving past time `t` is the chance of surviving all\n",
    "times up through `t`, which is the cumulative product of the\n",
    "complementary hazard function:\n",
    "$$[1-\\lambda(0)] [1-\\lambda(1)] \\ldots [1-\\lambda(t)]$$ The\n",
    "`HazardFunction` class provides `MakeSurvival`, which computes this\n",
    "product:"
   ]
  },
  {
   "cell_type": "raw",
   "id": "58618134",
   "metadata": {},
   "source": [
    "# class HazardFunction:\n",
    "\n",
    "    def MakeSurvival(self):\n",
    "        ts = self.series.index\n",
    "        ss = (1 - self.series).cumprod()\n",
    "        cdf = thinkstats2.Cdf(ts, 1-ss)\n",
    "        sf = SurvivalFunction(cdf)\n",
    "        return sf"
   ]
  },
  {
   "cell_type": "markdown",
   "id": "09661376",
   "metadata": {},
   "source": [
    "`ts` is the sequence of times where the hazard function is estimated.\n",
    "`ss` is the cumulative product of the complementary hazard function, so\n",
    "it is the survival curve.\n",
    "\n",
    "Because of the way `SurvivalFunction` is implemented, we have to compute\n",
    "the complement of `ss`, make a Cdf, and then instantiate a\n",
    "SurvivalFunction object."
   ]
  },
  {
   "cell_type": "code",
   "execution_count": null,
   "id": "eebdb32c",
   "metadata": {},
   "outputs": [],
   "source": [
    "sf = hf.make_survival()\n",
    "thinkplot.plot(sf)\n",
    "thinkplot.config(xlabel='Age (years)', ylabel='Prob unmarried', ylim=[0, 1])"
   ]
  },
  {
   "cell_type": "markdown",
   "id": "9b69d128",
   "metadata": {},
   "source": [
    "Figure [\\[survival2\\]](#survival2){reference-type=\"ref\"\n",
    "reference=\"survival2\"} (bottom) shows the result. The survival curve is\n",
    "steepest between 25 and 35, when most women get married. Between 35 and\n",
    "45, the curve is nearly flat, indicating that women who do not marry\n",
    "before age 35 are unlikely to get married.\n",
    "\n",
    "A curve like this was the basis of a famous magazine article in 1986;\n",
    "*Newsweek* reported that a 40-year old unmarried woman was \"more likely\n",
    "to be killed by a terrorist\" than get married. These statistics were\n",
    "widely reported and became part of popular culture, but they were wrong\n",
    "then (because they were based on faulty analysis) and turned out to be\n",
    "even more wrong (because of cultural changes that were already in\n",
    "progress and continued). In 2006, *Newsweek* ran an another article\n",
    "admitting that they were wrong.\n",
    "\n",
    "I encourage you to read more about this article, the statistics it was\n",
    "based on, and the reaction. It should remind you of the ethical\n",
    "obligation to perform statistical analysis with care, interpret the\n",
    "results with appropriate skepticism, and present them to the public\n",
    "accurately and honestly."
   ]
  },
  {
   "cell_type": "markdown",
   "id": "67f540f8",
   "metadata": {},
   "source": [
    "## Confidence intervals\n",
    "\n",
    "Kaplan-Meier analysis yields a single estimate of the survival curve,\n",
    "but it is also important to quantify the uncertainty of the estimate. As\n",
    "usual, there are three possible sources of error: measurement error,\n",
    "sampling error, and modeling error.\n",
    "\n",
    "In this example, measurement error is probably small. People generally\n",
    "know when they were born, whether they've been married, and when. And\n",
    "they can be expected to report this information accurately.\n",
    "\n",
    "We can quantify sampling error by resampling. Here's the code:"
   ]
  },
  {
   "cell_type": "code",
   "execution_count": null,
   "id": "56f6f09b",
   "metadata": {},
   "outputs": [],
   "source": [
    "def estimate_marriage_survival(resp):\n",
    "    \"\"\"Estimates the survival curve.\n",
    "\n",
    "    resp: DataFrame of respondents\n",
    "\n",
    "    returns: pair of HazardFunction, SurvivalFunction\n",
    "    \"\"\"\n",
    "    complete = resp[resp.evrmarry == 1].agemarry.dropna()\n",
    "    ongoing = resp[resp.evrmarry == 0].age\n",
    "    hf = estimate_hazard_function(complete, ongoing)\n",
    "    sf = hf.make_survival()\n",
    "    return hf, sf"
   ]
  },
  {
   "cell_type": "code",
   "execution_count": null,
   "id": "7dc3a578",
   "metadata": {},
   "outputs": [],
   "source": [
    "def resample_survival(resp, iters=101):\n",
    "    \"\"\"Resamples respondents and estimates the survival function.\n",
    "\n",
    "    resp: DataFrame of respondents\n",
    "    iters: number of resamples\n",
    "    \"\"\"\n",
    "    _, sf = estimate_marriage_survival(resp)\n",
    "    thinkplot.plot(sf)\n",
    "    low, high = resp.agemarry.min(), resp.agemarry.max()\n",
    "    ts = np.arange(low, high, 1 / 12.0)\n",
    "    ss_seq = []\n",
    "    for _ in range(iters):\n",
    "        sample = thinkstats2.resample_rows_weighted(resp)\n",
    "        _, sf = estimate_marriage_survival(sample)\n",
    "        ss_seq.append(sf.probs(ts))\n",
    "    low, high = thinkstats2.percentile_rows(ss_seq, [5, 95])\n",
    "    thinkplot.fill_between(ts, low, high, color='gray', label='90% CI')"
   ]
  },
  {
   "cell_type": "markdown",
   "id": "e4ecc60c",
   "metadata": {},
   "source": [
    "`ResampleSurvival` takes `resp`, a DataFrame of respondents, and\n",
    "`iters`, the number of times to resample. It computes `ts`, which is the\n",
    "sequence of ages where we will evaluate the survival curves.\n",
    "\n",
    "Inside the loop, `ResampleSurvival`:\n",
    "\n",
    "-   Resamples the respondents using `ResampleRowsWeighted`, which we saw\n",
    "    in Section [\\[weighted\\]](#weighted){reference-type=\"ref\"\n",
    "    reference=\"weighted\"}.\n",
    "\n",
    "-   Calls `EstimateSurvival`, which uses the process in the previous\n",
    "    sections to estimate the hazard and survival curves, and\n",
    "\n",
    "-   Evaluates the survival curve at each age in `ts`.\n",
    "\n",
    "`ss_seq` is a sequence of evaluated survival curves. `PercentileRows`\n",
    "takes this sequence and computes the 5th and 95th percentiles, returning\n",
    "a 90% confidence interval for the survival curve."
   ]
  },
  {
   "cell_type": "code",
   "execution_count": null,
   "id": "72c40c1b",
   "metadata": {},
   "outputs": [],
   "source": [
    "resample_survival(resp)\n",
    "thinkplot.config(xlabel='Age (years)', ylabel='Prob unmarried', xlim=[12, \n",
    "    46], ylim=[0, 1], loc='upper right')"
   ]
  },
  {
   "cell_type": "markdown",
   "id": "9fadd6e6",
   "metadata": {},
   "source": [
    "Figure [\\[survival3\\]](#survival3){reference-type=\"ref\"\n",
    "reference=\"survival3\"} shows the result along with the survival curve we\n",
    "estimated in the previous section. The confidence interval takes into\n",
    "account the sampling weights, unlike the estimated curve. The\n",
    "discrepancy between them indicates that the sampling weights have a\n",
    "substantial effect on the estimate---we will have to keep that in mind."
   ]
  },
  {
   "cell_type": "markdown",
   "id": "343cbdef",
   "metadata": {},
   "source": [
    "## Cohort effects\n",
    "\n",
    "One of the challenges of survival analysis is that different parts of\n",
    "the estimated curve are based on different groups of respondents. The\n",
    "part of the curve at time `t` is based on respondents whose age was at\n",
    "least `t` when they were interviewed. So the leftmost part of the curve\n",
    "includes data from all respondents, but the rightmost part includes only\n",
    "the oldest respondents.\n",
    "\n",
    "If the relevant characteristics of the respondents are not changing over\n",
    "time, that's fine, but in this case it seems likely that marriage\n",
    "patterns are different for women born in different generations. We can\n",
    "investigate this effect by grouping respondents according to their\n",
    "decade of birth. Groups like this, defined by date of birth or similar\n",
    "events, are called **cohorts**, and differences between the groups are\n",
    "called **cohort effects**.\n",
    "\n",
    "To investigate cohort effects in the NSFG marriage data, I gathered the\n",
    "Cycle 6 data from 2002 used throughout this book; the Cycle 7 data from\n",
    "2006--2010 used in\n",
    "Section [\\[replication\\]](#replication){reference-type=\"ref\"\n",
    "reference=\"replication\"}; and the Cycle 5 data from 1995. In total these\n",
    "datasets include 30,769 respondents."
   ]
  },
  {
   "cell_type": "code",
   "execution_count": null,
   "id": "8181550b",
   "metadata": {},
   "outputs": [],
   "source": [
    "download(\n",
    "    'https://github.com/AllenDowney/ThinkStats2/raw/master/code/1995FemRespData.dat.gz'\n",
    "    )\n",
    "download(\n",
    "    'https://github.com/AllenDowney/ThinkStats2/raw/master/code/2006_2010_FemRespSetup.dct'\n",
    "    )\n",
    "download(\n",
    "    'https://github.com/AllenDowney/ThinkStats2/raw/master/code/2006_2010_FemResp.dat.gz'\n",
    "    )"
   ]
  },
  {
   "cell_type": "code",
   "execution_count": null,
   "id": "baf6dc1b",
   "metadata": {},
   "outputs": [],
   "source": [
    "resp5 = nsfg.read_fem_resp1995()\n",
    "resp6 = nsfg.read_fem_resp2002()\n",
    "resp7 = nsfg.read_fem_resp2010()\n",
    "resps = [resp5, resp6, resp7]"
   ]
  },
  {
   "cell_type": "markdown",
   "id": "c2a76bef",
   "metadata": {},
   "source": [
    "For each DataFrame, `resp`, I use `cmbirth` to compute the decade of\n",
    "birth for each respondent:"
   ]
  },
  {
   "cell_type": "code",
   "execution_count": null,
   "id": "99d32da6",
   "metadata": {},
   "outputs": [],
   "source": [
    "month0 = pd.to_datetime('1899-12-15')\n",
    "dates = [(month0 + pd.DateOffset(months=cm)) for cm in resp.cmbirth]\n",
    "resp['decade'] = (pd.DatetimeIndex(dates).year - 1900) // 10"
   ]
  },
  {
   "cell_type": "code",
   "execution_count": null,
   "id": "b4d57e75",
   "metadata": {},
   "outputs": [],
   "source": [
    "def add_labels_by_decade(groups, **options):\n",
    "    \"\"\"Draws fake points in order to add labels to the legend.\n",
    "\n",
    "    groups: GroupBy object\n",
    "    \"\"\"\n",
    "    thinkplot.pre_plot(len(groups))\n",
    "    for name, _ in groups:\n",
    "        label = '%d0s' % name\n",
    "        thinkplot.plot([15], [1], label=label, **options)"
   ]
  },
  {
   "cell_type": "code",
   "execution_count": null,
   "id": "d9527759",
   "metadata": {},
   "outputs": [],
   "source": [
    "def estimate_marriage_survival_by_decade(groups, **options):\n",
    "    \"\"\"Groups respondents by decade and plots survival curves.\n",
    "\n",
    "    groups: GroupBy object\n",
    "    \"\"\"\n",
    "    thinkplot.pre_plot(len(groups))\n",
    "    for _, group in groups:\n",
    "        _, sf = estimate_marriage_survival(group)\n",
    "        thinkplot.plot(sf, **options)"
   ]
  },
  {
   "cell_type": "code",
   "execution_count": null,
   "id": "6a4c47d3",
   "metadata": {},
   "outputs": [],
   "source": [
    "def plot_resampled_by_decade(resps, iters=11, predict_flag=False, omit=None):\n",
    "    \"\"\"Plots survival curves for resampled data.\n",
    "\n",
    "    resps: list of DataFrames\n",
    "    iters: number of resamples to plot\n",
    "    predict_flag: whether to also plot predictions\n",
    "    \"\"\"\n",
    "    for i in range(iters):\n",
    "        samples = [thinkstats2.resample_rows_weighted(resp) for resp in resps]\n",
    "        sample = pd.concat(samples, ignore_index=True)\n",
    "        groups = sample.groupby('decade')\n",
    "        if omit:\n",
    "            groups = [(name, group) for name, group in groups if name not in\n",
    "                omit]\n",
    "        if i == 0:\n",
    "            add_labels_by_decade(groups, alpha=0.7)\n",
    "        if predict_flag:\n",
    "            plot_predictions_by_decade(groups, alpha=0.1)\n",
    "            estimate_marriage_survival_by_decade(groups, alpha=0.1)\n",
    "        else:\n",
    "            estimate_marriage_survival_by_decade(groups, alpha=0.2)"
   ]
  },
  {
   "cell_type": "markdown",
   "id": "29fe0afe",
   "metadata": {},
   "source": [
    "`cmbirth` is encoded as the integer number of months since December\n",
    "1899; `month0` represents that date as a Timestamp object. For each\n",
    "birth date, we instantiate a `DateOffset` that contains the\n",
    "century-month and add it to `month0`; the result is a sequence of\n",
    "Timestamps, which is converted to a `DateTimeIndex`. Finally, we extract\n",
    "`year` and compute decades.\n",
    "\n",
    "To take into account the sampling weights, and also to show variability\n",
    "due to sampling error, I resample the data, group respondents by decade,\n",
    "and plot survival curves:"
   ]
  },
  {
   "cell_type": "code",
   "execution_count": null,
   "id": "09ab5200",
   "metadata": {},
   "outputs": [],
   "source": [
    "plot_resampled_by_decade(resps)\n",
    "thinkplot.config(xlabel='Age (years)', ylabel='Prob unmarried', xlim=[13, \n",
    "    45], ylim=[0, 1])"
   ]
  },
  {
   "cell_type": "markdown",
   "id": "4943c6c3",
   "metadata": {},
   "source": [
    "Data from the three NSFG cycles use different sampling weights, so I\n",
    "resample them separately and then use `concat` to merge them into a\n",
    "single DataFrame. The parameter `ignore_index` tells `concat` not to\n",
    "match up respondents by index; instead it creates a new index from 0 to\n",
    "30768.\n",
    "\n",
    "`EstimateSurvivalByDecade` plots survival curves for each cohort:"
   ]
  },
  {
   "cell_type": "markdown",
   "id": "b4d12c58",
   "metadata": {},
   "source": [
    "\n",
    "\n",
    "Figure [\\[survival4\\]](#survival4){reference-type=\"ref\"\n",
    "reference=\"survival4\"} shows the results. Several patterns are visible:\n",
    "\n",
    "-   Women born in the 50s married earliest, with successive cohorts\n",
    "    marrying later and later, at least until age 30 or so.\n",
    "\n",
    "-   Women born in the 60s follow a surprising pattern. Prior to age 25,\n",
    "    they were marrying at slower rates than their predecessors. After\n",
    "    age 25, they were marrying faster. By age 32 they had overtaken the\n",
    "    50s cohort, and at age 44 they are substantially more likely to have\n",
    "    married."
   ]
  },
  {
   "cell_type": "markdown",
   "id": "90fa5b2b",
   "metadata": {},
   "source": [
    "Women born in the 60s turned 25 between 1985 and 1995. Remembering\n",
    "that the *Newsweek* article I mentioned was published in 1986, it is\n",
    "tempting to imagine that the article triggered a marriage boom. That\n",
    "explanation would be too pat, but it is possible that the article\n",
    "and the reaction to it were indicative of a mood that affected the\n",
    "behavior of this cohort."
   ]
  },
  {
   "cell_type": "markdown",
   "id": "61a802ba",
   "metadata": {},
   "source": [
    "-   The pattern of the 70s cohort is similar. They are less likely than\n",
    "    their predecessors to be married before age 25, but at age 35 they\n",
    "    have caught up with both of the previous cohorts.\n",
    "\n",
    "-   Women born in the 80s are even less likely to marry before age 25.\n",
    "    What happens after that is not clear; for more data, we have to wait\n",
    "    for the next cycle of the NSFG.\n",
    "\n",
    "In the meantime we can make some predictions."
   ]
  },
  {
   "cell_type": "markdown",
   "id": "d5b2e830",
   "metadata": {},
   "source": [
    "## Extrapolation\n",
    "\n",
    "The survival curve for the 70s cohort ends at about age 38; for the 80s\n",
    "cohort it ends at age 28, and for the 90s cohort we hardly have any data\n",
    "at all.\n",
    "\n",
    "We can extrapolate these curves by \"borrowing\" data from the previous\n",
    "cohort. HazardFunction provides a method, `Extend`, that copies the tail\n",
    "from another longer HazardFunction:"
   ]
  },
  {
   "cell_type": "raw",
   "id": "049bf558",
   "metadata": {},
   "source": [
    "# class HazardFunction\n",
    "\n",
    "    def Extend(self, other):\n",
    "        last = self.series.index[-1]\n",
    "        more = other.series[other.series.index > last]\n",
    "        self.series = pd.concat([self.series, more])"
   ]
  },
  {
   "cell_type": "markdown",
   "id": "a437f50c",
   "metadata": {},
   "source": [
    "As we saw in Section [\\[hazard\\]](#hazard){reference-type=\"ref\"\n",
    "reference=\"hazard\"}, the HazardFunction contains a Series that maps from\n",
    "$t$ to $\\lambda(t)$. `Extend` finds `last`, which is the last index in\n",
    "`self.series`, selects values from `other` that come later than `last`,\n",
    "and appends them onto `self.series`.\n",
    "\n",
    "Now we can extend the HazardFunction for each cohort, using values from\n",
    "the predecessor:"
   ]
  },
  {
   "cell_type": "code",
   "execution_count": null,
   "id": "03e8833a",
   "metadata": {},
   "outputs": [],
   "source": [
    "def plot_predictions_by_decade(groups, **options):\n",
    "    \"\"\"Groups respondents by decade and plots survival curves.\n",
    "\n",
    "    groups: GroupBy object\n",
    "    \"\"\"\n",
    "    hfs = []\n",
    "    for _, group in groups:\n",
    "        hf, sf = estimate_marriage_survival(group)\n",
    "        hfs.append(hf)\n",
    "    thinkplot.pre_plot(len(hfs))\n",
    "    for i, hf in enumerate(hfs):\n",
    "        if i > 0:\n",
    "            hf.extend(hfs[i - 1])\n",
    "        sf = hf.make_survival()\n",
    "        thinkplot.plot(sf, **options)"
   ]
  },
  {
   "cell_type": "code",
   "execution_count": null,
   "id": "2b52f7d5",
   "metadata": {},
   "outputs": [],
   "source": [
    "plot_resampled_by_decade(resps, predict_flag=True)\n",
    "thinkplot.config(xlabel='Age (years)', ylabel='Prob unmarried', xlim=[13, \n",
    "    45], ylim=[0, 1])"
   ]
  },
  {
   "cell_type": "markdown",
   "id": "585d7f6b",
   "metadata": {},
   "source": [
    "`groups` is a GroupBy object with respondents grouped by decade of\n",
    "birth. The first loop computes the HazardFunction for each group.\n",
    "\n",
    "The second loop extends each HazardFunction with values from its\n",
    "predecessor, which might contain values from the previous group, and so\n",
    "on. Then it converts each HazardFunction to a SurvivalFunction and plots\n",
    "it."
   ]
  },
  {
   "cell_type": "markdown",
   "id": "544a405d",
   "metadata": {},
   "source": [
    "Figure [\\[survival5\\]](#survival5){reference-type=\"ref\"\n",
    "reference=\"survival5\"} shows the results; I've removed the 50s cohort to\n",
    "make the predictions more visible. These results suggest that by age 40,\n",
    "the most recent cohorts will converge with the 60s cohort, with fewer\n",
    "than 20% never married."
   ]
  },
  {
   "cell_type": "markdown",
   "id": "8516df63",
   "metadata": {},
   "source": [
    "## Expected remaining lifetime\n",
    "\n",
    "Given a survival curve, we can compute the expected remaining lifetime\n",
    "as a function of current age. For example, given the survival curve of\n",
    "pregnancy length from\n",
    "Section [\\[survival\\]](#survival){reference-type=\"ref\"\n",
    "reference=\"survival\"}, we can compute the expected time until delivery.\n",
    "\n",
    "The first step is to extract the PMF of lifetimes. `SurvivalFunction`\n",
    "provides a method that does that:"
   ]
  },
  {
   "cell_type": "raw",
   "id": "2da7a5b3",
   "metadata": {},
   "source": [
    "# class SurvivalFunction\n",
    "\n",
    "    def MakePmf(self, filler=None):\n",
    "        pmf = thinkstats2.Pmf()\n",
    "        for val, prob in self.cdf.Items():\n",
    "            pmf.Set(val, prob)\n",
    "\n",
    "        cutoff = self.cdf.ps[-1]\n",
    "        if filler is not None:\n",
    "            pmf[filler] = 1-cutoff\n",
    "\n",
    "        return pmf"
   ]
  },
  {
   "cell_type": "markdown",
   "id": "ff0798af",
   "metadata": {},
   "source": [
    "Remember that the SurvivalFunction contains the Cdf of lifetimes. The\n",
    "loop copies the values and probabilities from the Cdf into a Pmf.\n",
    "\n",
    "`cutoff` is the highest probability in the Cdf, which is 1 if the Cdf is\n",
    "complete, and otherwise less than 1. If the Cdf is incomplete, we plug\n",
    "in the provided value, `filler`, to cap it off.\n",
    "\n",
    "The Cdf of pregnancy lengths is complete, so we don't have to worry\n",
    "about this detail yet.\n",
    "\n",
    "The next step is to compute the expected remaining lifetime, where\n",
    "\"expected\" means average. `SurvivalFunction` provides a method that does\n",
    "that, too:"
   ]
  },
  {
   "cell_type": "raw",
   "id": "cb95f045",
   "metadata": {},
   "source": [
    "# class SurvivalFunction\n",
    "\n",
    "    def RemainingLifetime(self, filler=None, func=thinkstats2.Pmf.Mean):\n",
    "        pmf = self.MakePmf(filler=filler)\n",
    "        d = {}\n",
    "        for t in sorted(pmf.Values())[:-1]:\n",
    "            pmf[t] = 0\n",
    "            pmf.Normalize()\n",
    "            d[t] = func(pmf) - t\n",
    "\n",
    "        return pd.Series(d)"
   ]
  },
  {
   "cell_type": "markdown",
   "id": "f673e5e2",
   "metadata": {},
   "source": [
    "`RemainingLifetime` takes `filler`, which is passed along to `MakePmf`,\n",
    "and `func` which is the function used to summarize the distribution of\n",
    "remaining lifetimes.\n",
    "\n",
    "`pmf` is the Pmf of lifetimes extracted from the SurvivalFunction. `d`\n",
    "is a dictionary that contains the results, a map from current age, `t`,\n",
    "to expected remaining lifetime.\n",
    "\n",
    "The loop iterates through the values in the Pmf. For each value of `t`\n",
    "it computes the conditional distribution of lifetimes, given that the\n",
    "lifetime exceeds `t`. It does that by removing values from the Pmf one\n",
    "at a time and renormalizing the remaining values.\n",
    "\n",
    "Then it uses `func` to summarize the conditional distribution. In this\n",
    "example the result is the mean pregnancy length, given that the length\n",
    "exceeds `t`. By subtracting `t` we get the mean remaining pregnancy\n",
    "length."
   ]
  },
  {
   "cell_type": "code",
   "execution_count": null,
   "id": "c5cfed1d",
   "metadata": {},
   "outputs": [],
   "source": [
    "preg = nsfg.read_fem_preg()\n",
    "complete = preg.query('outcome in [1, 3, 4]').prglngth\n",
    "print('Number of complete pregnancies', len(complete))\n",
    "ongoing = preg[preg.outcome == 6].prglngth\n",
    "print('Number of ongoing pregnancies', len(ongoing))\n",
    "hf = estimate_hazard_function(complete, ongoing)\n",
    "sf1 = hf.make_survival()"
   ]
  },
  {
   "cell_type": "code",
   "execution_count": null,
   "id": "dc9dabdc",
   "metadata": {},
   "outputs": [],
   "source": [
    "rem_life1 = sf1.remaining_lifetime()\n",
    "thinkplot.plot(rem_life1)\n",
    "thinkplot.config(title='Remaining pregnancy length', xlabel='Weeks', ylabel\n",
    "    ='Mean remaining weeks')"
   ]
  },
  {
   "cell_type": "markdown",
   "id": "c6ff9bb9",
   "metadata": {},
   "source": [
    "Figure [\\[survival6\\]](#survival6){reference-type=\"ref\"\n",
    "reference=\"survival6\"} (left) shows the expected remaining pregnancy\n",
    "length as a function of the current duration. For example, during Week\n",
    "0, the expected remaining duration is about 34 weeks. That's less than\n",
    "full term (39 weeks) because terminations of pregnancy in the first\n",
    "trimester bring the average down.\n",
    "\n",
    "The curve drops slowly during the first trimester. After 13 weeks, the\n",
    "expected remaining lifetime has dropped by only 9 weeks, to 25. After\n",
    "that the curve drops faster, by about a week per week.\n",
    "\n",
    "Between Week 37 and 42, the curve levels off between 1 and 2 weeks. At\n",
    "any time during this period, the expected remaining lifetime is the\n",
    "same; with each week that passes, the destination gets no closer.\n",
    "Processes with this property are called **memoryless** because the past\n",
    "has no effect on the predictions. This behavior is the mathematical\n",
    "basis of the infuriating mantra of obstetrics nurses: \"any day now.\""
   ]
  },
  {
   "cell_type": "markdown",
   "id": "c066c2df",
   "metadata": {},
   "source": [
    "Figure [\\[survival6\\]](#survival6){reference-type=\"ref\"\n",
    "reference=\"survival6\"} (right) shows the median remaining time until\n",
    "first marriage, as a function of age. For an 11 year-old girl, the\n",
    "median time until first marriage is about 14 years. The curve decreases\n",
    "until age 22 when the median remaining time is about 7 years. After that\n",
    "it increases again: by age 30 it is back where it started, at 14 years.\n",
    "\n",
    "Based on this data, young women have decreasing remaining \"lifetimes\".\n",
    "Mechanical components with this property are called **NBUE** for \"new\n",
    "better than used in expectation,\" meaning that a new part is expected to\n",
    "last longer.\n",
    "\n",
    "Women older than 22 have increasing remaining time until first marriage.\n",
    "Components with this property are called **UBNE** for \"used better than\n",
    "new in expectation.\" That is, the older the part, the longer it is\n",
    "expected to last. Newborns and cancer patients are also UBNE; their life\n",
    "expectancy increases the longer they live."
   ]
  },
  {
   "cell_type": "markdown",
   "id": "2fb9ce15",
   "metadata": {},
   "source": [
    "For this example I computed median, rather than mean, because the Cdf is\n",
    "incomplete; the survival curve projects that about 20% of respondents\n",
    "will not marry before age 44. The age of first marriage for these women\n",
    "is unknown, and might be non-existent, so we can't compute a mean.\n",
    "\n",
    "I deal with these unknown values by replacing them with `np.inf`, a\n",
    "special value that represents infinity. That makes the mean infinity for\n",
    "all ages, but the median is well-defined as long as more than 50% of the\n",
    "remaining lifetimes are finite, which is true until age 30. After that\n",
    "it is hard to define a meaningful expected remaining lifetime.\n",
    "\n",
    "Here's the code that computes and plots these functions:"
   ]
  },
  {
   "cell_type": "code",
   "execution_count": null,
   "id": "bedfc062",
   "metadata": {},
   "outputs": [],
   "source": [
    "hf, sf2 = estimate_marriage_survival(resp6)"
   ]
  },
  {
   "cell_type": "code",
   "execution_count": null,
   "id": "2f1453fa",
   "metadata": {},
   "outputs": [],
   "source": [
    "func = lambda pmf: pmf.percentile(50)\n",
    "rem_life2 = sf2.remaining_lifetime(filler=np.inf, func=func)\n",
    "thinkplot.plot(rem_life2)\n",
    "thinkplot.config(title='Years until first marriage', ylim=[0, 15], xlim=[11,\n",
    "    31], xlabel='Age (years)', ylabel='Median remaining years')"
   ]
  },
  {
   "cell_type": "markdown",
   "id": "b235c331",
   "metadata": {},
   "source": [
    "`sf1` is the survival curve for pregnancy length; in this case we can\n",
    "use the default values for `RemainingLifetime`.\n",
    "\n",
    "`sf2` is the survival curve for age at first marriage; `func` is a\n",
    "function that takes a Pmf and computes its median (50th percentile)."
   ]
  },
  {
   "cell_type": "markdown",
   "id": "36c47cb8",
   "metadata": {},
   "source": [
    "## Glossary\n",
    "\n",
    "-   **survival analysis**: A set of methods for describing and\n",
    "    predicting lifetimes, or more generally time until an event occurs.\n",
    "\n",
    "-   **survival curve**: A function that maps from a time, $t$, to the\n",
    "    probability of surviving past $t$.\n",
    "\n",
    "-   **hazard function**: A function that maps from $t$ to the fraction\n",
    "    of people alive until $t$ who die at $t$.\n",
    "\n",
    "-   **Kaplan-Meier estimation**: An algorithm for estimating hazard and\n",
    "    survival functions.\n",
    "\n",
    "-   **cohort**: a group of subjects defined by an event, like date of\n",
    "    birth, in a particular interval of time.\n",
    "\n",
    "-   **cohort effect**: a difference between cohorts.\n",
    "\n",
    "-   **NBUE**: A property of expected remaining lifetime, \"New better\n",
    "    than used in expectation.\"\n",
    "\n",
    "-   **UBNE**: A property of expected remaining lifetime, \"Used better\n",
    "    than new in expectation.\""
   ]
  },
  {
   "cell_type": "markdown",
   "id": "2976a19b",
   "metadata": {
    "collapsed": true
   },
   "source": [
    "## Exercises"
   ]
  },
  {
   "cell_type": "markdown",
   "id": "b1c1fe48",
   "metadata": {
    "collapsed": true
   },
   "source": [
    "**Exercise:**    In NSFG Cycles 6 and 7, the variable `cmdivorcx` contains the date of divorce for the respondent’s first marriage, if applicable, encoded in century-months.\n",
    "\n",
    "Compute the duration of marriages that have ended in divorce, and the duration, so far, of marriages that are ongoing. Estimate the hazard and survival curve for the duration of marriage.\n",
    "\n",
    "Use resampling to take into account sampling weights, and plot data from several resamples to visualize sampling error.\n",
    "\n",
    "Consider dividing the respondents into groups by decade of birth, and possibly by age at first marriage."
   ]
  },
  {
   "cell_type": "code",
   "execution_count": null,
   "id": "2391998e",
   "metadata": {},
   "outputs": [],
   "source": [
    "def clean_data(resp):\n",
    "    \"\"\"Cleans respondent data.\n",
    "\n",
    "    resp: DataFrame\n",
    "    \"\"\"\n",
    "    resp['cmdivorcx'] = resp.cmdivorcx.replace([9998, 9999], np.nan)\n",
    "    resp['notdivorced'] = resp.cmdivorcx.isnull().astype(int)\n",
    "    resp['duration'] = (resp.cmdivorcx - resp.cmmarrhx) / 12.0\n",
    "    resp['durationsofar'] = (resp.cmintvw - resp.cmmarrhx) / 12.0\n",
    "    month0 = pd.to_datetime('1899-12-15')\n",
    "    dates = [(month0 + pd.DateOffset(months=cm)) for cm in resp.cmbirth]\n",
    "    resp['decade'] = (pd.DatetimeIndex(dates).year - 1900) // 10"
   ]
  },
  {
   "cell_type": "code",
   "execution_count": null,
   "id": "4812f4ac",
   "metadata": {},
   "outputs": [],
   "source": [
    "clean_data(resp6)\n",
    "married6 = resp6[resp6.evrmarry == 1]\n",
    "clean_data(resp7)\n",
    "married7 = resp7[resp7.evrmarry == 1]"
   ]
  },
  {
   "cell_type": "code",
   "execution_count": null,
   "id": "e878a5e8",
   "metadata": {},
   "outputs": [],
   "source": [
    "from thinkstats2 import add_labels_by_decade\n",
    "\n",
    "\n",
    "def resample_divorce_curve_by_decade(resps):\n",
    "    \"\"\"Plots divorce curves for each birth cohort.\n",
    "\n",
    "    resps: list of respondent DataFrames\n",
    "    \"\"\"\n",
    "    for i in range(41):\n",
    "        samples = [thinkstats2.resample_rows_weighted(resp) for resp in resps]\n",
    "        sample = pd.concat(samples, ignore_index=True)\n",
    "        groups = sample.groupby('decade')\n",
    "        if i == 0:\n",
    "            add_labels_by_decade(groups, alpha=0.7)\n",
    "        estimate_survival_by_decade(groups, alpha=0.1)\n",
    "    thinkplot.config(xlabel='Years', ylabel='Fraction undivorced', axis=[0,\n",
    "        28, 0, 1])"
   ]
  },
  {
   "cell_type": "code",
   "execution_count": null,
   "id": "c3c0fcd2",
   "metadata": {},
   "outputs": [],
   "source": [
    "def estimate_survival_by_decade(groups, **options):\n",
    "    \"\"\"Groups respondents by decade and plots survival curves.\n",
    "\n",
    "    groups: GroupBy object\n",
    "    \"\"\"\n",
    "    thinkplot.pre_plot(len(groups))\n",
    "    for name, group in groups:\n",
    "        _, sf = estimate_survival(group)\n",
    "        thinkplot.plot(sf, **options)"
   ]
  },
  {
   "cell_type": "code",
   "execution_count": null,
   "id": "a1470df4",
   "metadata": {},
   "outputs": [],
   "source": [
    "def estimate_survival(resp):\n",
    "    \"\"\"Estimates the survival curve.\n",
    "\n",
    "    resp: DataFrame of respondents\n",
    "\n",
    "    returns: pair of HazardFunction, SurvivalFunction\n",
    "    \"\"\"\n",
    "    complete = resp[resp.notdivorced == 0].duration.dropna()\n",
    "    ongoing = resp[resp.notdivorced == 1].durationsofar.dropna()\n",
    "    hf = estimate_hazard_function(complete, ongoing)\n",
    "    sf = hf.make_survival()\n",
    "    return hf, sf"
   ]
  },
  {
   "cell_type": "code",
   "execution_count": null,
   "id": "8ba1f3b9",
   "metadata": {},
   "outputs": [],
   "source": [
    "resample_divorce_curve_by_decade([married6, married7])"
   ]
  },
  {
   "cell_type": "code",
   "execution_count": null,
   "id": "a59ce5d0",
   "metadata": {},
   "outputs": [],
   "source": []
  }
 ],
 "metadata": {
  "kernelspec": {
   "display_name": "Python 3 (ipykernel)",
   "language": "python",
   "name": "python3"
  },
  "language_info": {
   "codemirror_mode": {
    "name": "ipython",
    "version": 3
   },
   "file_extension": ".py",
   "mimetype": "text/x-python",
   "name": "python",
   "nbconvert_exporter": "python",
   "pygments_lexer": "ipython3",
   "version": "3.10.14"
  }
 },
 "nbformat": 4,
 "nbformat_minor": 5
}
