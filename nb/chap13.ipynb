{
 "cells": [
  {
   "cell_type": "markdown",
   "id": "210938a1",
   "metadata": {},
   "source": [
    "# Survival analysis"
   ]
  },
  {
   "cell_type": "code",
   "execution_count": 2,
   "id": "ef31aaeb",
   "metadata": {},
   "outputs": [],
   "source": [
    "from os.path import basename, exists\n",
    "\n",
    "\n",
    "def download(url):\n",
    "    filename = basename(url)\n",
    "    if not exists(filename):\n",
    "        from urllib.request import urlretrieve\n",
    "\n",
    "        local, _ = urlretrieve(url, filename)\n",
    "        print(\"Downloaded \" + local)\n",
    "\n",
    "\n",
    "download(\"https://github.com/AllenDowney/ThinkStats/raw/v3/nb/thinkstats.py\")"
   ]
  },
  {
   "cell_type": "code",
   "execution_count": 3,
   "id": "babb4f14",
   "metadata": {},
   "outputs": [],
   "source": [
    "import numpy as np\n",
    "import pandas as pd\n",
    "import matplotlib.pyplot as plt\n",
    "\n",
    "from thinkstats import decorate"
   ]
  },
  {
   "cell_type": "markdown",
   "id": "5b04b823",
   "metadata": {},
   "source": [
    "**Survival analysis** is a way to describe how long things last.\n",
    "It is often used to study human lifetimes, but it also applies to \"survival\" of mechanical and electronic components, or more generally to intervals in time before an event.\n",
    "\n",
    "If someone you know has been diagnosed with a life-threatening disease, you might have seen a \"5-year survival rate,\" which is the probability of surviving five years after diagnosis.\n",
    "That estimate and related statistics are the result of survival analysis."
   ]
  },
  {
   "cell_type": "markdown",
   "id": "6d47eaa6",
   "metadata": {},
   "source": [
    "## Survival curves\n",
    "\n",
    "The fundamental concept in survival analysis is the **survival curve**, $S(t)$, which is a function that maps from a duration, $t$, to the probability of surviving longer than $t$.\n",
    "If you know the distribution of durations, or \"lifetimes\", finding the survival curve is easy; it's just the complement of the CDF: \n",
    "\n",
    "$$S(t) = 1 - CDF(t)$$ \n",
    "\n",
    "where $CDF(t)$ is the probability of a lifetime less than or equal to $t$.\n",
    "\n",
    "For example, in the NSFG dataset, we know the duration of 11,189 complete pregnancies.\n",
    "We can read this data and compute the CDF:"
   ]
  },
  {
   "cell_type": "code",
   "execution_count": 4,
   "id": "c26c557c",
   "metadata": {},
   "outputs": [],
   "source": [
    "download(\"https://github.com/AllenDowney/ThinkStats/raw/v3/nb/nsfg.py\")\n",
    "download(\"https://github.com/AllenDowney/ThinkStats/raw/v3/data/2002FemPreg.dct\")\n",
    "download(\"https://github.com/AllenDowney/ThinkStats/raw/v3/data/2002FemPreg.dat.gz\")"
   ]
  },
  {
   "cell_type": "code",
   "execution_count": 5,
   "id": "8c404800",
   "metadata": {},
   "outputs": [],
   "source": [
    "import nsfg\n",
    "\n",
    "preg = nsfg.read_fem_preg()\n",
    "preg.prglngth.count()"
   ]
  },
  {
   "cell_type": "code",
   "execution_count": 6,
   "id": "caf7862f",
   "metadata": {},
   "outputs": [],
   "source": [
    "complete = preg.query(\"outcome in [1, 3, 4]\").prglngth\n",
    "complete.count()"
   ]
  },
  {
   "cell_type": "code",
   "execution_count": 7,
   "id": "3ae9e0a8",
   "metadata": {},
   "outputs": [],
   "source": [
    "from empiricaldist import Cdf\n",
    "\n",
    "cdf = Cdf.from_seq(complete, name=\"cdf\")"
   ]
  },
  {
   "cell_type": "markdown",
   "id": "8728bbaa",
   "metadata": {},
   "source": [
    "The outcome codes `1, 3, 4` indicate live birth, stillbirth, and miscarriage.\n",
    "For this analysis I am excluding induced abortions, ectopic pregnancies, and pregnancies that were in progress when the respondent was interviewed.\n",
    "\n",
    "The `DataFrame` method `query` takes a boolean expression and evaluates it for each row, selecting the rows that yield True."
   ]
  },
  {
   "cell_type": "markdown",
   "id": "7024099e",
   "metadata": {},
   "source": [
    "`SurvivalFunction` provides two properties: `ts`, which is the sequence of lifetimes, and `ss`, which is the survival curve.\n",
    "In Python, a \"property\" is a method that can be invoked as if it were a variable."
   ]
  },
  {
   "cell_type": "markdown",
   "id": "f138bf4d",
   "metadata": {},
   "source": [
    "We can instantiate a `SurvivalFunction` by passing the CDF of lifetimes:"
   ]
  },
  {
   "cell_type": "code",
   "execution_count": 8,
   "id": "198a5780",
   "metadata": {},
   "outputs": [],
   "source": [
    "from empiricaldist import Surv\n",
    "\n",
    "\n",
    "def make_surv_from_cdf(cdf, name=\"\"):\n",
    "    \"\"\"Makes a survival function based on a CDF.\n",
    "\n",
    "    cdf: Cdf\n",
    "\n",
    "    returns: SurvivalFunction\n",
    "    \"\"\"\n",
    "    ts = cdf.qs\n",
    "    ss = 1 - cdf.ps\n",
    "    return Surv(ss, ts, name=name)"
   ]
  },
  {
   "cell_type": "code",
   "execution_count": 9,
   "id": "aa85496a",
   "metadata": {},
   "outputs": [],
   "source": [
    "sf = make_surv_from_cdf(cdf, name=\"survival\")"
   ]
  },
  {
   "cell_type": "markdown",
   "id": "b285c880",
   "metadata": {},
   "source": [
    "`SurvivalFunction` also provides `__getitem__` and `Prob`, which evaluates the survival curve:"
   ]
  },
  {
   "cell_type": "markdown",
   "id": "778a2b7e",
   "metadata": {},
   "source": [
    "For example, `sf[13]` is the fraction of pregnancies that proceed past the first trimester:"
   ]
  },
  {
   "cell_type": "code",
   "execution_count": 10,
   "id": "e200b9be",
   "metadata": {},
   "outputs": [],
   "source": [
    "sf(13)"
   ]
  },
  {
   "cell_type": "code",
   "execution_count": 11,
   "id": "b9716109",
   "metadata": {},
   "outputs": [],
   "source": [
    "cdf(13)"
   ]
  },
  {
   "cell_type": "markdown",
   "id": "ecc71b04",
   "metadata": {},
   "source": [
    "About 86% of pregnancies proceed past the first trimester; about 14% do not."
   ]
  },
  {
   "cell_type": "markdown",
   "id": "4ea49cf6",
   "metadata": {},
   "source": [
    "The following figure shows the CDF of pregnancy length and its complement, the survival curve.\n",
    "To represent the survival curve, I define an object that wraps a `Cdf` and adapts the interface:"
   ]
  },
  {
   "cell_type": "code",
   "execution_count": 12,
   "id": "19b0c659",
   "metadata": {},
   "outputs": [],
   "source": [
    "sf.plot()\n",
    "cdf.plot(alpha=0.4)\n",
    "decorate(xlabel=\"Duration (weeks)\", ylabel=\"Probability\")"
   ]
  },
  {
   "cell_type": "markdown",
   "id": "5bd21a16",
   "metadata": {},
   "source": [
    "The curve is nearly flat between 13 and 26 weeks, which shows that few pregnancies end in the second trimester.\n",
    "And the curve is steepest around 39 weeks, which is the most common pregnancy length."
   ]
  },
  {
   "cell_type": "markdown",
   "id": "28a794f9",
   "metadata": {},
   "source": [
    "## Hazard function\n",
    "\n",
    "From the survival curve we can derive the **hazard function**; for pregnancy lengths, the hazard function maps from a time, $t$, to the fraction of pregnancies that continue until $t$ and then end at $t$.\n",
    "To be more precise: \n",
    "\n",
    "$$\\lambda(t) = \\frac{S(t) - S(t+1)}{S(t)}$$ \n",
    "\n",
    "The numerator is the fraction of lifetimes that end at $t$, which is also $PMF(t)$.\n",
    "\n",
    "`SurvivalFunction` provides `make_hazard_function`, which calculates the hazard function:"
   ]
  },
  {
   "cell_type": "code",
   "execution_count": 13,
   "id": "d5d8fc09",
   "metadata": {},
   "outputs": [],
   "source": [
    "hf = sf.make_hazard()\n",
    "hf.name = \"hazard\""
   ]
  },
  {
   "cell_type": "code",
   "execution_count": null,
   "id": "427d0fa6",
   "metadata": {},
   "outputs": [],
   "source": []
  },
  {
   "cell_type": "markdown",
   "id": "8b378da2",
   "metadata": {},
   "source": [
    "The result is a ``Hazard`` object, whichwe can evaluate it like this:"
   ]
  },
  {
   "cell_type": "code",
   "execution_count": 14,
   "id": "e79b4dea",
   "metadata": {},
   "outputs": [],
   "source": [
    "hf[39]"
   ]
  },
  {
   "cell_type": "markdown",
   "id": "5cb7599a",
   "metadata": {},
   "source": [
    "So of all pregnancies that proceed until week 39, about 50% end in week 39.\n",
    "\n",
    "The following figure shows the hazard function for pregnancy lengths.\n",
    "For times after week 42, the hazard function is erratic because it is based on a small number of cases.\n",
    "Other than that the shape of the curve is as expected: it is highest around 39 weeks, and a little higher in the first trimester than in the second."
   ]
  },
  {
   "cell_type": "code",
   "execution_count": 15,
   "id": "0a12a766",
   "metadata": {},
   "outputs": [],
   "source": [
    "hf.plot()\n",
    "decorate(xlabel=\"Duration (weeks)\", ylabel=\"Hazard rate\")"
   ]
  },
  {
   "cell_type": "markdown",
   "id": "7ff26d3d",
   "metadata": {},
   "source": [
    "The hazard function is useful in its own right, but it is also an important tool for estimating survival curves, as we'll see in the next section."
   ]
  },
  {
   "cell_type": "markdown",
   "id": "e76885a6",
   "metadata": {},
   "source": [
    "## Inferring survival curves\n",
    "\n",
    "If someone gives you the CDF of lifetimes, it is easy to compute the survival and hazard functions.\n",
    "But in many real-world scenarios, we can't measure the distribution of lifetimes directly.\n",
    "We have to infer it.\n",
    "\n",
    "For example, suppose you are following a group of patients to see how long they survive after diagnosis.\n",
    "Not all patients are diagnosed on the same day, so at any point in time, some patients have survived longer than others.\n",
    "If some patients have died, we know their survival times.\n",
    "For patients who are still alive, we don't know survival times, but we have a lower bound.\n",
    "\n",
    "If we wait until all patients are dead, we can compute the survival curve, but if we are evaluating the effectiveness of a new treatment, we can't wait that long! We need a way to estimate survival curves using incomplete information."
   ]
  },
  {
   "cell_type": "markdown",
   "id": "116f50ba",
   "metadata": {},
   "source": [
    "As a more cheerful example, I will use NSFG data to quantify how long respondents \"survive\" until they get married for the first time.\n",
    "The range of respondents' ages is 14 to 44 years, so the dataset provides a snapshot of women at different stages in their lives.\n",
    "\n",
    "For women who have been married, the dataset includes the date of their first marriage and their age at the time.\n",
    "For women who have not been married, we know their age when interviewed, but have no way of knowing when or if they will get married.\n",
    "\n",
    "Since we know the age at first marriage for *some* women, it might be tempting to exclude the rest and compute the CDF of the known data.\n",
    "That is a bad idea.\n",
    "The result would be doubly misleading: (1) older women would be overrepresented, because they are more likely to be married when interviewed, and (2) married women would be overrepresented! In fact, this analysis would lead to the conclusion that all women get married, which is obviously incorrect."
   ]
  },
  {
   "cell_type": "markdown",
   "id": "1c458c8d",
   "metadata": {},
   "source": [
    "## Kaplan-Meier estimation\n",
    "\n",
    "In this example it is not only desirable but necessary to include observations of unmarried women, which brings us to one of the central algorithms in survival analysis, **Kaplan-Meier estimation**.\n",
    "\n",
    "The general idea is that we can use the data to estimate the hazard function, then convert the hazard function to a survival curve.\n",
    "To estimate the hazard function, we consider, for each age, (1) the number of women who got married at that age and (2) the number of women \"at risk\" of getting married, which includes all women who were not married at an earlier age.\n",
    "\n",
    "Here's the code:"
   ]
  },
  {
   "cell_type": "code",
   "execution_count": 16,
   "id": "5d357255",
   "metadata": {},
   "outputs": [],
   "source": [
    "import pandas as pd\n",
    "from collections import Counter\n",
    "from empiricaldist import Hazard\n",
    "\n",
    "\n",
    "def estimate_hazard_function(complete, ongoing, name=\"\", verbose=False):\n",
    "    \"\"\"Estimates the hazard function by Kaplan-Meier.\n",
    "\n",
    "    http://en.wikipedia.org/wiki/Kaplan%E2%80%93Meier_estimator\n",
    "\n",
    "    complete: list of complete lifetimes\n",
    "    ongoing: list of ongoing lifetimes\n",
    "    label: string\n",
    "    verbose: whether to display intermediate results\n",
    "    \"\"\"\n",
    "    if np.sum(np.isnan(complete)):\n",
    "        raise ValueError(\"complete contains NaNs\")\n",
    "    if np.sum(np.isnan(ongoing)):\n",
    "        raise ValueError(\"ongoing contains NaNs\")\n",
    "\n",
    "    hist_complete = Counter(complete)\n",
    "    hist_ongoing = Counter(ongoing)\n",
    "\n",
    "    ts = list(hist_complete | hist_ongoing)\n",
    "    ts.sort()\n",
    "    at_risk = len(complete) + len(ongoing)\n",
    "\n",
    "    lams = pd.Series(index=ts, dtype=float)\n",
    "    for t in ts:\n",
    "        ended = hist_complete[t]\n",
    "        censored = hist_ongoing[t]\n",
    "        lams[t] = ended / at_risk\n",
    "        if verbose:\n",
    "            print(t, at_risk, ended, censored, lams[t])\n",
    "        at_risk -= ended + censored\n",
    "\n",
    "    return Hazard(lams, ts)"
   ]
  },
  {
   "cell_type": "markdown",
   "id": "73405755",
   "metadata": {},
   "source": [
    "`complete` is the set of complete observations; in this case, the ages when respondents got married.\n",
    "`ongoing` is the set of incomplete observations; that is, the ages of unmarried women when they were interviewed.\n",
    "\n",
    "First, we precompute `hist_complete`, which is a Counter that maps from each age to the number of women married at that age, and `hist_ongoing` which maps from each age to the number of unmarried women interviewed at that age.\n",
    "\n",
    "`ts` is the union of ages when respondents got married and ages when unmarried women were interviewed, sorted in increasing order.\n",
    "\n",
    "`at_risk` keeps track of the number of respondents considered \"at risk\" at each age; initially, it is the total number of respondents.\n",
    "\n",
    "The result is stored in a Pandas `Series` that maps from each age to the estimated hazard function at that age."
   ]
  },
  {
   "cell_type": "markdown",
   "id": "928bd259",
   "metadata": {},
   "source": [
    "Each time through the loop, we consider one age, `t`, and compute the number of events that end at `t` (that is, the number of respondents married at that age) and the number of events censored at `t` (that is, the number of women interviewed at `t` whose future marriage dates are censored).\n",
    "In this context, \"censored\" means that the data are unavailable because of the data collection process.\n",
    "\n",
    "The estimated hazard function is the fraction of the cases at risk that end at `t`.\n",
    "\n",
    "At the end of the loop, we subtract from `at_risk` the number of cases that ended or were censored at `t`.\n",
    "\n",
    "Finally, we pass `lams` to the ``Hazard`` constructor and return the result."
   ]
  },
  {
   "cell_type": "markdown",
   "id": "f625fb00",
   "metadata": {},
   "source": [
    "## The marriage curve\n",
    "\n",
    "To test this function, we have to do some data cleaning and transformation.\n",
    "The NSFG variables we need are:\n",
    "\n",
    "-   `cmbirth`: The respondent's date of birth, known for all respondents.\n",
    "\n",
    "-   `cmintvw`: The date the respondent was interviewed, known for all respondents.\n",
    "\n",
    "-   `cmmarrhx`: The date the respondent was first married, if applicable and known.\n",
    "\n",
    "-   `evrmarry`: 1 if the respondent had been married prior to the date of interview, 0 otherwise.\n",
    "\n",
    "The first three variables are encoded in \"century-months\"; that is, the integer number of months since December 1899.\n",
    "So century-month 1 is January 1900.\n",
    "\n",
    "First, we read the respondent file and replace invalid values of `cmmarrhx`:"
   ]
  },
  {
   "cell_type": "code",
   "execution_count": 17,
   "id": "298b3145",
   "metadata": {},
   "outputs": [],
   "source": [
    "import nsfg\n",
    "\n",
    "resp = nsfg.read_fem_resp()"
   ]
  },
  {
   "cell_type": "code",
   "execution_count": 18,
   "id": "e3950e7b",
   "metadata": {},
   "outputs": [],
   "source": [
    "resp[\"cmmarrhx\"] = resp.cmmarrhx.replace([9997, 9998, 9999], np.nan)"
   ]
  },
  {
   "cell_type": "markdown",
   "id": "fa2a445c",
   "metadata": {},
   "source": [
    "Then we compute each respondent's age when married and age when interviewed:"
   ]
  },
  {
   "cell_type": "code",
   "execution_count": 19,
   "id": "9c98df13",
   "metadata": {},
   "outputs": [],
   "source": [
    "resp[\"agemarry\"] = (resp.cmmarrhx - resp.cmbirth) / 12.0\n",
    "resp[\"age\"] = (resp.cmintvw - resp.cmbirth) / 12.0"
   ]
  },
  {
   "cell_type": "markdown",
   "id": "5a32f7e7",
   "metadata": {},
   "source": [
    "Next we extract `complete`, which is the age at marriage for women who have been married, and `ongoing`, which is the age at interview for women who have not:"
   ]
  },
  {
   "cell_type": "code",
   "execution_count": 20,
   "id": "d82682c3",
   "metadata": {},
   "outputs": [],
   "source": [
    "complete = resp[resp.evrmarry == 1].agemarry.dropna()\n",
    "ongoing = resp[resp.evrmarry == 0].age"
   ]
  },
  {
   "cell_type": "markdown",
   "id": "acc25994",
   "metadata": {},
   "source": [
    "Finally we compute the hazard function."
   ]
  },
  {
   "cell_type": "code",
   "execution_count": 21,
   "id": "e08f77ae",
   "metadata": {},
   "outputs": [],
   "source": [
    "hf = estimate_hazard_function(complete, ongoing)"
   ]
  },
  {
   "cell_type": "markdown",
   "id": "642dcbc4",
   "metadata": {},
   "source": [
    "The following figure shows the estimated hazard function; it is low in the teens, higher in the 20s, and declining in the 30s.\n",
    "It increases again in the 40s, but that is an artifact of the estimation process; as the number of respondents \"at risk\" decreases, a small number of women getting married yields a large estimated hazard.\n",
    "The survival curve will smooth out this noise."
   ]
  },
  {
   "cell_type": "code",
   "execution_count": 22,
   "id": "62d602ae",
   "metadata": {},
   "outputs": [],
   "source": [
    "hf.plot()\n",
    "decorate(xlabel=\"Age (years)\", ylabel=\"Hazard\")"
   ]
  },
  {
   "cell_type": "markdown",
   "id": "cc71430f",
   "metadata": {},
   "source": [
    "## Estimating the survival curve\n",
    "\n",
    "Once we have the hazard function, we can estimate the survival curve.\n",
    "The chance of surviving past time `t` is the chance of surviving all times up through `t`, which is the cumulative product of the complementary hazard function:\n",
    "\n",
    "$$[1-\\lambda(0)] [1-\\lambda(1)] \\ldots [1-\\lambda(t)]$$\n",
    "\n",
    "The ``Hazard`` class provides `make_surv`, which computes this product:"
   ]
  },
  {
   "cell_type": "raw",
   "id": "ba810116",
   "metadata": {},
   "source": [
    "# class `Hazard`:\n",
    "\n",
    "    def make_surv(self, label=\"\"):\n",
    "        \"\"\"Makes the survival function.\n",
    "\n",
    "        returns: SurvivalFunction\n",
    "        \"\"\"\n",
    "        ts = self.series.index\n",
    "        ss = (1 - self.series).cumprod()\n",
    "        sf = SurvivalFunction(ts, ss, label=label)\n",
    "        return sf"
   ]
  },
  {
   "cell_type": "markdown",
   "id": "09661376",
   "metadata": {},
   "source": [
    "`ts` is the sequence of times where the hazard function is estimated.\n",
    "`ss` is the cumulative product of the complementary hazard function, so it is the survival curve."
   ]
  },
  {
   "cell_type": "code",
   "execution_count": 23,
   "id": "c2686859",
   "metadata": {},
   "outputs": [],
   "source": [
    "sf = hf.make_surv()"
   ]
  },
  {
   "cell_type": "markdown",
   "id": "47ddc68d",
   "metadata": {},
   "source": [
    "The following figure shows the result.\n",
    "The survival curve is steepest between 25 and 35, when most women get married.\n",
    "Between 35 and 45, the curve is nearly flat, indicating that women who do not marry before age 35 are unlikely to get married."
   ]
  },
  {
   "cell_type": "code",
   "execution_count": 24,
   "id": "eebdb32c",
   "metadata": {},
   "outputs": [],
   "source": [
    "sf.plot()\n",
    "decorate(xlabel=\"Age (years)\", ylabel=\"Prob unmarried\", ylim=[0, 1])"
   ]
  },
  {
   "cell_type": "markdown",
   "id": "9b69d128",
   "metadata": {},
   "source": [
    "A curve like this was the basis of a famous magazine article in 1986; *Newsweek* reported that a 40-year old unmarried woman was \"more likely to be killed by a terrorist\" than get married.\n",
    "These statistics were widely reported and became part of popular culture, but they were wrong then (because they were based on faulty analysis) and turned out to be even more wrong (because of cultural changes that were already in progress and continued).\n",
    "In 2006, *Newsweek* ran an another article admitting that they were wrong.\n",
    "\n",
    "I encourage you to read more about this article, the statistics it was based on, and the reaction.\n",
    "It should remind you of the ethical obligation to perform statistical analysis with care, interpret the results with appropriate skepticism, and present them to the public accurately and honestly."
   ]
  },
  {
   "cell_type": "markdown",
   "id": "67f540f8",
   "metadata": {},
   "source": [
    "## Confidence intervals\n",
    "\n",
    "Kaplan-Meier analysis yields a single estimate of the survival curve, but it is also important to quantify the uncertainty of the estimate.\n",
    "As usual, there are three possible sources of error: measurement error, sampling error, and modeling error.\n",
    "\n",
    "In this example, measurement error is probably small.\n",
    "People generally know when they were born, whether they've been married, and when.\n",
    "And they can be expected to report this information accurately.\n",
    "\n",
    "We can quantify sampling error by resampling.\n",
    "Here's the code:"
   ]
  },
  {
   "cell_type": "code",
   "execution_count": 27,
   "id": "56f6f09b",
   "metadata": {},
   "outputs": [],
   "source": [
    "def estimate_marriage_survival(resp):\n",
    "    \"\"\"Estimates the survival curve.\n",
    "\n",
    "    resp: DataFrame of respondents\n",
    "\n",
    "    returns: pair of `Hazard`, SurvivalFunction\n",
    "    \"\"\"\n",
    "    complete = resp[resp.evrmarry == 1].agemarry.dropna()\n",
    "    ongoing = resp[resp.evrmarry == 0].age\n",
    "    hf = estimate_hazard_function(complete, ongoing)\n",
    "    sf = hf.make_surv()\n",
    "    return hf, sf"
   ]
  },
  {
   "cell_type": "code",
   "execution_count": 28,
   "id": "7dc3a578",
   "metadata": {},
   "outputs": [],
   "source": [
    "from thinkstats import resample_rows_weighted\n",
    "from thinkstats import percentile_rows\n",
    "\n",
    "\n",
    "def resample_survival(resp, iters=101):\n",
    "    \"\"\"Resamples respondents and estimates the survival function.\n",
    "\n",
    "    resp: DataFrame of respondents\n",
    "    iters: number of resamples\n",
    "    \"\"\"\n",
    "    _, sf = estimate_marriage_survival(resp)\n",
    "    plt.plot(sf)\n",
    "    low, high = resp.agemarry.min(), resp.agemarry.max()\n",
    "    ts = np.arange(low, high, 1 / 12.0)\n",
    "    ss_seq = []\n",
    "\n",
    "    for _ in range(iters):\n",
    "        sample = resample_rows_weighted(resp)\n",
    "        _, sf = estimate_marriage_survival(sample)\n",
    "        ss_seq.append(sf(ts))\n",
    "\n",
    "    low, high = percentile_rows(ss_seq, [5, 95])\n",
    "    plt.fill_between(ts, low, high, color=\"gray\", label=\"90% CI\")"
   ]
  },
  {
   "cell_type": "markdown",
   "id": "e4ecc60c",
   "metadata": {},
   "source": [
    "`resample_survival` takes `resp`, a `DataFrame` of respondents, and `iters`, the number of times to resample.\n",
    "It computes `ts`, which is the sequence of ages where we will evaluate the survival curves.\n",
    "\n",
    "Inside the loop, `resample_survival`:\n",
    "\n",
    "-   Resamples the respondents using `resample_rows_weighted`, which ...\n",
    "\n",
    "-   Calls `estimate_marriage_survival`, which uses the process in the previous sections to estimate the hazard and survival curves, and\n",
    "\n",
    "-   Evaluates the survival curve at each age in `ts`.\n",
    "\n",
    "`ss_seq` is a sequence of evaluated survival curves.\n",
    "`percentile_rows` takes this sequence and computes the 5th and 95th percentiles, returning a 90% confidence interval for the survival curve.\n",
    "\n",
    "The following figure shows the result along with the survival curve we estimated in the previous section."
   ]
  },
  {
   "cell_type": "code",
   "execution_count": 29,
   "id": "72c40c1b",
   "metadata": {},
   "outputs": [],
   "source": [
    "resample_survival(resp)\n",
    "\n",
    "decorate(\n",
    "    xlabel=\"Age (years)\",\n",
    "    ylabel=\"Prob unmarried\",\n",
    ")"
   ]
  },
  {
   "cell_type": "markdown",
   "id": "9fadd6e6",
   "metadata": {},
   "source": [
    "The confidence interval takes into account the sampling weights, unlike the estimated curve.\n",
    "The discrepancy between them indicates that the sampling weights have a substantial effect on the estimate -- we will have to keep that in mind."
   ]
  },
  {
   "cell_type": "markdown",
   "id": "68275a28",
   "metadata": {},
   "source": [
    "## Cohort effects\n",
    "\n",
    "One of the challenges of survival analysis is that different parts of the estimated curve are based on different groups of respondents.\n",
    "The part of the curve at time `t` is based on respondents whose age was at least `t` when they were interviewed.\n",
    "So the leftmost part of the curve includes data from all respondents, but the rightmost part includes only the oldest respondents.\n",
    "\n",
    "If the relevant characteristics of the respondents are not changing over time, that's fine, but in this case it seems likely that marriage patterns are different for women born in different generations.\n",
    "We can investigate this effect by grouping respondents according to their decade of birth.\n",
    "Groups like this, defined by date of birth or similar events, are called **cohorts**, and differences between the groups are called **cohort effects**.\n",
    "\n",
    "To investigate cohort effects in the NSFG marriage data, I gathered the Cycle 6 data from 2002 used throughout this book, the Cycle 7 data from 2006--2010, and the Cycle 5 data from 1995."
   ]
  },
  {
   "cell_type": "code",
   "execution_count": 30,
   "id": "8181550b",
   "metadata": {},
   "outputs": [],
   "source": [
    "download(\"https://github.com/AllenDowney/ThinkStats/raw/v3/data/1995FemRespData.dat.gz\")\n",
    "download(\n",
    "    \"https://github.com/AllenDowney/ThinkStats/raw/v3/data/2006_2010_FemRespSetup.dct\"\n",
    ")\n",
    "download(\n",
    "    \"https://github.com/AllenDowney/ThinkStats/raw/v3/data/2006_2010_FemResp.dat.gz\"\n",
    ")"
   ]
  },
  {
   "cell_type": "code",
   "execution_count": 31,
   "id": "baf6dc1b",
   "metadata": {},
   "outputs": [],
   "source": [
    "resp5 = nsfg.read_fem_resp1995()\n",
    "resp6 = nsfg.read_fem_resp2002()\n",
    "resp7 = nsfg.read_fem_resp2010()\n",
    "resps = [resp5, resp6, resp7]"
   ]
  },
  {
   "cell_type": "markdown",
   "id": "c2a76bef",
   "metadata": {},
   "source": [
    "For each `DataFrame` we can use `cmbirth` to compute the decade of birth for each respondent:"
   ]
  },
  {
   "cell_type": "code",
   "execution_count": 32,
   "id": "99d32da6",
   "metadata": {},
   "outputs": [],
   "source": [
    "for resp in resps:\n",
    "    month0 = pd.to_datetime(\"1899-12-15\")\n",
    "    dates = [(month0 + pd.DateOffset(months=cm)) for cm in resp.cmbirth]\n",
    "    resp[\"decade\"] = (pd.DatetimeIndex(dates).year - 1900) // 10"
   ]
  },
  {
   "cell_type": "markdown",
   "id": "d77fdb0a",
   "metadata": {},
   "source": [
    "`cmbirth` is encoded as the integer number of months since December 1899; `month0` represents that date as a Timestamp object.\n",
    "For each birth date, we instantiate a `DateOffset` that contains the century-month and add it to `month0`; the result is a sequence of Timestamps, which is converted to a `DateTimeIndex`.\n",
    "Finally, we extract `year` and compute decades."
   ]
  },
  {
   "cell_type": "markdown",
   "id": "f5597d71",
   "metadata": {},
   "source": [
    "Intro..."
   ]
  },
  {
   "cell_type": "code",
   "execution_count": 33,
   "id": "b4d57e75",
   "metadata": {},
   "outputs": [],
   "source": [
    "def add_labels_by_decade(groups, **options):\n",
    "    \"\"\"Draws fake points in order to add labels to the legend.\n",
    "\n",
    "    groups: GroupBy object\n",
    "    \"\"\"\n",
    "    for name, _ in groups:\n",
    "        label = \"%d0s\" % name\n",
    "        plt.plot([15], [1], label=label, **options)"
   ]
  },
  {
   "cell_type": "code",
   "execution_count": 34,
   "id": "d9527759",
   "metadata": {},
   "outputs": [],
   "source": [
    "def estimate_marriage_survival_by_decade(groups, **options):\n",
    "    \"\"\"Groups respondents by decade and plots survival curves.\n",
    "\n",
    "    groups: GroupBy object\n",
    "    \"\"\"\n",
    "    for _, group in groups:\n",
    "        _, sf = estimate_marriage_survival(group)\n",
    "        plt.plot(sf, **options)"
   ]
  },
  {
   "cell_type": "markdown",
   "id": "29fe0afe",
   "metadata": {},
   "source": [
    "To take into account the sampling weights, and also to show variability due to sampling error, I resample the data, group respondents by decade, and plot survival curves:"
   ]
  },
  {
   "cell_type": "code",
   "execution_count": 35,
   "id": "6a4c47d3",
   "metadata": {},
   "outputs": [],
   "source": [
    "def plot_resampled_by_decade(resps, iters=11, predict_flag=False, omit=None):\n",
    "    \"\"\"Plots survival curves for resampled data.\n",
    "\n",
    "    resps: list of DataFrames\n",
    "    iters: number of resamples to plot\n",
    "    predict_flag: whether to also plot predictions\n",
    "    \"\"\"\n",
    "    for i in range(iters):\n",
    "        samples = [resample_rows_weighted(resp) for resp in resps]\n",
    "        sample = pd.concat(samples, ignore_index=True)\n",
    "        groups = sample.groupby(\"decade\")\n",
    "        if omit:\n",
    "            groups = [(name, group) for name, group in groups if name not in omit]\n",
    "        if i == 0:\n",
    "            add_labels_by_decade(groups, alpha=0.7)\n",
    "        if predict_flag:\n",
    "            plot_predictions_by_decade(groups, alpha=0.1)\n",
    "            estimate_marriage_survival_by_decade(groups, alpha=0.1)\n",
    "        else:\n",
    "            estimate_marriage_survival_by_decade(groups, alpha=0.2)"
   ]
  },
  {
   "cell_type": "markdown",
   "id": "22188097",
   "metadata": {},
   "source": [
    "Data from the three NSFG cycles use different sampling weights, so I resample them separately and then use `concat` to merge them into a single `DataFrame`.\n",
    "The parameter `ignore_index` tells `concat` not to match up respondents by index; instead it creates a new index from 0 to 30768."
   ]
  },
  {
   "cell_type": "markdown",
   "id": "4943c6c3",
   "metadata": {},
   "source": [
    "`estimate_marriage_survival_by_decade` plots survival curves for each cohort:"
   ]
  },
  {
   "cell_type": "code",
   "execution_count": 36,
   "id": "09ab5200",
   "metadata": {},
   "outputs": [],
   "source": [
    "plot_resampled_by_decade(resps)\n",
    "decorate(xlabel=\"Age (years)\", ylabel=\"Prob unmarried\", xlim=[13, 45], ylim=[0, 1])"
   ]
  },
  {
   "cell_type": "markdown",
   "id": "b4d12c58",
   "metadata": {},
   "source": [
    "Several patterns are visible:\n",
    "\n",
    "-   Women born in the 50s married earliest, with successive cohorts marrying later and later, at least until age 30 or so.\n",
    "\n",
    "-   Women born in the 60s follow a surprising pattern.\n",
    "Prior to age 25, they were marrying at slower rates than their predecessors.\n",
    "After age 25, they were marrying faster.\n",
    "By age 32 they had overtaken the 50s cohort, and at age 44 they are substantially more likely to have married."
   ]
  },
  {
   "cell_type": "markdown",
   "id": "90fa5b2b",
   "metadata": {},
   "source": [
    "Women born in the 60s turned 25 between 1985 and 1995.\n",
    "Remembering that the *Newsweek* article I mentioned was published in 1986, it is tempting to imagine that the article triggered a marriage boom.\n",
    "That explanation would be too pat, but it is possible that the article and the reaction to it were indicative of a mood that affected the behavior of this cohort."
   ]
  },
  {
   "cell_type": "markdown",
   "id": "61a802ba",
   "metadata": {},
   "source": [
    "-   The pattern of the 70s cohort is similar.\n",
    "They are less likely than their predecessors to be married before age 25, but at age 35 they have caught up with both of the previous cohorts.\n",
    "\n",
    "-   Women born in the 80s are even less likely to marry before age 25. What happens after that is not clear; for more data, we have to wait for the next cycle of the NSFG.\n",
    "\n",
    "In the meantime we can make some predictions."
   ]
  },
  {
   "cell_type": "markdown",
   "id": "d5b2e830",
   "metadata": {},
   "source": [
    "## Extrapolation\n",
    "\n",
    "The survival curve for the 70s cohort ends at about age 38; for the 80s cohort it ends at age 28, and for the 90s cohort we hardly have any data at all.\n",
    "\n",
    "We can extrapolate these curves by \"borrowing\" data from the previous cohort.\n",
    "`Hazard` provides a method, `Extend`, that copies the tail from another longer `Hazard`:"
   ]
  },
  {
   "cell_type": "code",
   "execution_count": 37,
   "id": "ffa2d8c3",
   "metadata": {},
   "outputs": [],
   "source": [
    "def extend(haz1, haz2):\n",
    "    last = haz1.index[-1]\n",
    "    more = haz2[haz2.index > last]\n",
    "    extended = pd.concat([haz1, more])\n",
    "    return Hazard(extended)"
   ]
  },
  {
   "cell_type": "markdown",
   "id": "a437f50c",
   "metadata": {},
   "source": [
    "The ``Hazard`` contains a `Series` that maps from $t$ to $\\lambda(t)$.\n",
    "`Extend` finds `last`, which is the last index in `self.series`, selects values from `other` that come later than `last`, and appends them onto `self.series`.\n",
    "\n",
    "Now we can extend the ``Hazard`` for each cohort, using values from the predecessor:"
   ]
  },
  {
   "cell_type": "code",
   "execution_count": 38,
   "id": "03e8833a",
   "metadata": {},
   "outputs": [],
   "source": [
    "def plot_predictions_by_decade(groups, **options):\n",
    "    \"\"\"Groups respondents by decade and plots survival curves.\n",
    "\n",
    "    groups: GroupBy object\n",
    "    \"\"\"\n",
    "    hfs = []\n",
    "    for _, group in groups:\n",
    "        hf, sf = estimate_marriage_survival(group)\n",
    "        hfs.append(hf)\n",
    "\n",
    "    for i, hf in enumerate(hfs):\n",
    "        if i > 0:\n",
    "            hf = extend(hf, hfs[i - 1])\n",
    "            hfs[i] = hf\n",
    "        sf = hf.make_surv()\n",
    "        plt.plot(sf, **options)"
   ]
  },
  {
   "cell_type": "markdown",
   "id": "585d7f6b",
   "metadata": {},
   "source": [
    "`groups` is a GroupBy object with respondents grouped by decade of birth.\n",
    "The first loop computes the `Hazard` for each group.\n",
    "\n",
    "The second loop extends each `Hazard` with values from its predecessor, which might contain values from the previous group, and so on. Then it converts each `Hazard` to a SurvivalFunction and plots it."
   ]
  },
  {
   "cell_type": "code",
   "execution_count": 39,
   "id": "2b52f7d5",
   "metadata": {},
   "outputs": [],
   "source": [
    "plot_resampled_by_decade(resps, predict_flag=True)\n",
    "decorate(xlabel=\"Age (years)\", ylabel=\"Prob unmarried\", xlim=[13, 45], ylim=[0, 1])"
   ]
  },
  {
   "cell_type": "markdown",
   "id": "544a405d",
   "metadata": {},
   "source": [
    "I've removed the 50s cohort to make the predictions more visible.\n",
    "These results suggest that by age 40, the most recent cohorts will converge with the 60s cohort, with fewer than 20% never married."
   ]
  },
  {
   "cell_type": "markdown",
   "id": "8516df63",
   "metadata": {},
   "source": [
    "## Expected remaining lifetime\n",
    "\n",
    "Given a survival curve, we can compute the expected remaining lifetime as a function of current age.\n",
    "For example, given the survival curve of pregnancy length, we can compute the expected time until delivery.\n",
    "\n",
    "The first step is to extract the PMF of lifetimes.\n",
    "`SurvivalFunction` provides a method that does that:"
   ]
  },
  {
   "cell_type": "raw",
   "id": "2da7a5b3",
   "metadata": {},
   "source": [
    "# class SurvivalFunction\n",
    "\n",
    "    def make_pmf(self, filler=None):\n",
    "        cdf = Cdf(self.ts, 1 - self.ss)\n",
    "        pmf = Pmf()\n",
    "        for val, prob in cdf.items():\n",
    "            pmf.set(val, prob)\n",
    "        cutoff = cdf.ps[-1]\n",
    "        if filler is not None:\n",
    "            pmf[filler] = 1 - cutoff\n",
    "        return pmf"
   ]
  },
  {
   "cell_type": "markdown",
   "id": "ff0798af",
   "metadata": {},
   "source": [
    "Remember that the SurvivalFunction contains the `Cdf` of lifetimes.\n",
    "The loop copies the values and probabilities from the `Cdf` into a `Pmf`.\n",
    "\n",
    "`cutoff` is the highest probability in the `Cdf`, which is 1 if the `Cdf` is complete, and otherwise less than 1. If the `Cdf` is incomplete, we plug in the provided value, `filler`, to cap it off.\n",
    "\n",
    "The `Cdf` of pregnancy lengths is complete, so we don't have to worry about this detail yet.\n",
    "\n",
    "The next step is to compute the expected remaining lifetime, where \"expected\" means average.\n",
    "`SurvivalFunction` provides a method that does that, too:"
   ]
  },
  {
   "cell_type": "raw",
   "id": "cb95f045",
   "metadata": {},
   "source": [
    "# class SurvivalFunction\n",
    "\n",
    "    def RemainingLifetime(self, filler=None, func=thinkstats2.Pmf.Mean):\n",
    "        pmf = self.make_pmf(filler=filler)\n",
    "        d = {}\n",
    "        for t in sorted(pmf.values())[:-1]:\n",
    "            pmf[t] = 0\n",
    "            pmf.normalize()\n",
    "            d[t] = func(pmf) - t\n",
    "        return pd.Series(d)"
   ]
  },
  {
   "cell_type": "markdown",
   "id": "f673e5e2",
   "metadata": {},
   "source": [
    "`RemainingLifetime` takes `filler`, which is passed along to `MakePmf`, and `func` which is the function used to summarize the distribution of remaining lifetimes.\n",
    "\n",
    "`pmf` is the `Pmf` of lifetimes extracted from the SurvivalFunction.\n",
    "`d` is a dictionary that contains the results, a map from current age, `t`, to expected remaining lifetime.\n",
    "\n",
    "The loop iterates through the values in the `Pmf`.\n",
    "For each value of `t` it computes the conditional distribution of lifetimes, given that the lifetime exceeds `t`.\n",
    "It does that by removing values from the `Pmf` one at a time and renormalizing the remaining values.\n",
    "\n",
    "Then it uses `func` to summarize the conditional distribution.\n",
    "In this example the result is the mean pregnancy length, given that the length exceeds `t`.\n",
    "By subtracting `t` we get the mean remaining pregnancy length."
   ]
  },
  {
   "cell_type": "code",
   "execution_count": 40,
   "id": "3e235265",
   "metadata": {},
   "outputs": [],
   "source": [
    "preg = nsfg.read_fem_preg()\n",
    "complete = preg.query(\"outcome in [1, 3, 4]\").prglngth\n",
    "print(\"Number of complete pregnancies\", len(complete))"
   ]
  },
  {
   "cell_type": "code",
   "execution_count": 41,
   "id": "84e5a25e",
   "metadata": {},
   "outputs": [],
   "source": [
    "ongoing = preg[preg.outcome == 6].prglngth\n",
    "print(\"Number of ongoing pregnancies\", len(ongoing))"
   ]
  },
  {
   "cell_type": "code",
   "execution_count": 42,
   "id": "c5cfed1d",
   "metadata": {},
   "outputs": [],
   "source": [
    "hf = estimate_hazard_function(complete, ongoing)\n",
    "sf1 = hf.make_surv()"
   ]
  },
  {
   "cell_type": "code",
   "execution_count": 43,
   "id": "abedc640",
   "metadata": {},
   "outputs": [],
   "source": [
    "from empiricaldist import Pmf\n",
    "\n",
    "\n",
    "def remaining_lifetime(surv, func=Pmf.mean):\n",
    "    \"\"\"Computes remaining lifetime as a function of age.\n",
    "\n",
    "    func: function from conditional Pmf to remaining lifetime\n",
    "\n",
    "    returns: Series that maps from age to remaining lifetime\n",
    "    \"\"\"\n",
    "    pmf = surv.make_pmf()\n",
    "    d = {}\n",
    "    for t in pmf.qs[:-1]:\n",
    "        pmf[t] = 0\n",
    "        pmf.normalize()\n",
    "        d[t] = func(pmf) - t\n",
    "    return pd.Series(d)"
   ]
  },
  {
   "cell_type": "markdown",
   "id": "27fc52b4",
   "metadata": {},
   "source": [
    "Here's expected remaining pregnancy length as a function of the current duration."
   ]
  },
  {
   "cell_type": "code",
   "execution_count": 44,
   "id": "dc9dabdc",
   "metadata": {},
   "outputs": [],
   "source": [
    "rem_life1 = remaining_lifetime(sf1)\n",
    "plt.plot(rem_life1)\n",
    "decorate(\n",
    "    title=\"Remaining pregnancy length\", xlabel=\"Weeks\", ylabel=\"Mean remaining weeks\"\n",
    ")"
   ]
  },
  {
   "cell_type": "markdown",
   "id": "c6ff9bb9",
   "metadata": {},
   "source": [
    "For example, during Week 0, the expected remaining duration is about 34 weeks.\n",
    "That's less than full term (39 weeks) because terminations of pregnancy in the first trimester bring the average down.\n",
    "\n",
    "The curve drops slowly during the first trimester.\n",
    "After 13 weeks, the expected remaining lifetime has dropped by only 9 weeks, to 25. After that the curve drops faster, by about a week per week.\n",
    "\n",
    "Between Week 37 and 42, the curve levels off between 1 and 2 weeks.\n",
    "At any time during this period, the expected remaining lifetime is the same; with each week that passes, the destination gets no closer.\n",
    "Processes with this property are called **memoryless** because the past has no effect on the predictions.\n",
    "This behavior is the mathematical basis of the infuriating mantra of obstetrics nurses: \"Any day now.\""
   ]
  },
  {
   "cell_type": "code",
   "execution_count": 45,
   "id": "37562a95",
   "metadata": {},
   "outputs": [],
   "source": [
    "hf, sf2 = estimate_marriage_survival(resp6)\n",
    "sf2.plot()\n",
    "decorate()"
   ]
  },
  {
   "cell_type": "markdown",
   "id": "0b7ab0b8",
   "metadata": {},
   "source": [
    "TODO: Explain why we need these adjustments"
   ]
  },
  {
   "cell_type": "code",
   "execution_count": 46,
   "id": "0db646df",
   "metadata": {},
   "outputs": [],
   "source": [
    "sf2[np.inf] = 0\n",
    "\n",
    "func = lambda pmf: pmf.make_cdf().inverse(0.5)"
   ]
  },
  {
   "cell_type": "markdown",
   "id": "f92b1fad",
   "metadata": {},
   "source": [
    "The following figure shows the median remaining time until first marriage, as a function of age.\n",
    "For an 11 year-old girl, the median time until first marriage is about 14 years.\n",
    "The curve decreases until age 22 when the median remaining time is about 7 years.\n",
    "After that it increases again: by age 30 it is back where it started, at 14 years."
   ]
  },
  {
   "cell_type": "code",
   "execution_count": 47,
   "id": "372a6c9b",
   "metadata": {},
   "outputs": [],
   "source": [
    "rem_life2 = remaining_lifetime(sf2, func=func)\n",
    "plt.plot(rem_life2)\n",
    "\n",
    "decorate(\n",
    "    title=\"Years until first marriage\",\n",
    "    ylim=[0, 15],\n",
    "    xlim=[11, 31],\n",
    "    xlabel=\"Age (years)\",\n",
    "    ylabel=\"Median remaining years\",\n",
    ")"
   ]
  },
  {
   "cell_type": "markdown",
   "id": "c066c2df",
   "metadata": {},
   "source": [
    "Based on this data, young women have decreasing remaining \"lifetimes\".\n",
    "Mechanical components with this property are called **NBUE** for \"new better than used in expectation,\" meaning that a new part is expected to last longer.\n",
    "\n",
    "Women older than 22 have increasing remaining time until first marriage.\n",
    "Components with this property are called **UBNE** for \"used better than new in expectation.\" That is, the older the part, the longer it is expected to last.\n",
    "Newborns and cancer patients are also UBNE; their life expectancy increases the longer they live."
   ]
  },
  {
   "cell_type": "markdown",
   "id": "2fb9ce15",
   "metadata": {},
   "source": [
    "For this example I computed median, rather than mean, because the `Cdf` is incomplete; the survival curve projects that about 20% of respondents will not marry before age 44. The age of first marriage for these women is unknown, and might be non-existent, so we can't compute a mean.\n",
    "\n",
    "I deal with these unknown values by replacing them with `np.inf`, a special value that represents infinity.\n",
    "That makes the mean infinity for all ages, but the median is well-defined as long as more than 50% of the remaining lifetimes are finite, which is true until age 30. After that it is hard to define a meaningful expected remaining lifetime.\n",
    "\n"
   ]
  },
  {
   "cell_type": "markdown",
   "id": "36c47cb8",
   "metadata": {},
   "source": [
    "## Glossary\n",
    "\n",
    "-   **survival analysis**: A set of methods for describing and predicting lifetimes, or more generally time until an event occurs.\n",
    "\n",
    "-   **survival curve**: A function that maps from a time, $t$, to the probability of surviving past $t$.\n",
    "\n",
    "-   **hazard function**: A function that maps from $t$ to the fraction of people alive until $t$ who die at $t$.\n",
    "\n",
    "-   **Kaplan-Meier estimation**: An algorithm for estimating hazard and survival functions.\n",
    "\n",
    "-   **cohort**: a group of subjects defined by an event, like date of birth, in a particular interval of time.\n",
    "\n",
    "-   **cohort effect**: a difference between cohorts.\n",
    "\n",
    "-   **NBUE**: A property of expected remaining lifetime, \"New better than used in expectation.\"\n",
    "\n",
    "-   **UBNE**: A property of expected remaining lifetime, \"Used better than new in expectation.\""
   ]
  },
  {
   "cell_type": "markdown",
   "id": "2976a19b",
   "metadata": {
    "collapsed": true
   },
   "source": [
    "## Exercises"
   ]
  },
  {
   "cell_type": "markdown",
   "id": "b1c1fe48",
   "metadata": {
    "collapsed": true
   },
   "source": [
    "**Exercise:**    In NSFG Cycles 6 and 7, the variable `cmdivorcx` contains the date of divorce for the respondent’s first marriage, if applicable, encoded in century-months.\n",
    "\n",
    "Compute the duration of marriages that have ended in divorce, and the duration, so far, of marriages that are ongoing.\n",
    "Estimate the hazard and survival curve for the duration of marriage.\n",
    "\n",
    "Use resampling to take into account sampling weights, and plot data from several resamples to visualize sampling error.\n",
    "\n",
    "Consider dividing the respondents into groups by decade of birth, and possibly by age at first marriage."
   ]
  },
  {
   "cell_type": "code",
   "execution_count": 48,
   "id": "2391998e",
   "metadata": {},
   "outputs": [],
   "source": [
    "def clean_data(resp):\n",
    "    \"\"\"Cleans respondent data.\n",
    "\n",
    "    resp: DataFrame\n",
    "    \"\"\"\n",
    "    resp[\"cmdivorcx\"] = resp.cmdivorcx.replace([9998, 9999], np.nan)\n",
    "    resp[\"notdivorced\"] = resp.cmdivorcx.isnull().astype(int)\n",
    "    resp[\"duration\"] = (resp.cmdivorcx - resp.cmmarrhx) / 12.0\n",
    "    resp[\"durationsofar\"] = (resp.cmintvw - resp.cmmarrhx) / 12.0\n",
    "    month0 = pd.to_datetime(\"1899-12-15\")\n",
    "    dates = [(month0 + pd.DateOffset(months=cm)) for cm in resp.cmbirth]\n",
    "    resp[\"decade\"] = (pd.DatetimeIndex(dates).year - 1900) // 10"
   ]
  },
  {
   "cell_type": "code",
   "execution_count": 49,
   "id": "4812f4ac",
   "metadata": {},
   "outputs": [],
   "source": [
    "clean_data(resp6)\n",
    "married6 = resp6[resp6.evrmarry == 1]\n",
    "clean_data(resp7)\n",
    "married7 = resp7[resp7.evrmarry == 1]"
   ]
  },
  {
   "cell_type": "code",
   "execution_count": 50,
   "id": "e878a5e8",
   "metadata": {},
   "outputs": [],
   "source": [
    "# Solution goes here"
   ]
  },
  {
   "cell_type": "code",
   "execution_count": 51,
   "id": "c3c0fcd2",
   "metadata": {},
   "outputs": [],
   "source": [
    "# Solution goes here"
   ]
  },
  {
   "cell_type": "code",
   "execution_count": 52,
   "id": "a1470df4",
   "metadata": {},
   "outputs": [],
   "source": [
    "# Solution goes here"
   ]
  },
  {
   "cell_type": "code",
   "execution_count": 53,
   "id": "8ba1f3b9",
   "metadata": {},
   "outputs": [],
   "source": [
    "# Solution goes here"
   ]
  },
  {
   "cell_type": "code",
   "execution_count": null,
   "id": "a59ce5d0",
   "metadata": {},
   "outputs": [],
   "source": []
  },
  {
   "cell_type": "markdown",
   "id": "74046561",
   "metadata": {
    "tags": []
   },
   "source": [
    "[Think Stats: Exploratory Data Analysis in Python, 3rd Edition](https://allendowney.github.io/ThinkStats/index.html)\n",
    "\n",
    "Copyright 2024 [Allen B. Downey](https://allendowney.com)\n",
    "\n",
    "Code license: [MIT License](https://mit-license.org/)\n",
    "\n",
    "Text license: [Creative Commons Attribution-NonCommercial-ShareAlike 4.0 International](https://creativecommons.org/licenses/by-nc-sa/4.0/)\n",
    "Copyright 2024 Allen Downey "
   ]
  }
 ],
 "metadata": {
  "kernelspec": {
   "display_name": "Python 3 (ipykernel)",
   "language": "python",
   "name": "python3"
  },
  "language_info": {
   "codemirror_mode": {
    "name": "ipython",
    "version": 3
   },
   "file_extension": ".py",
   "mimetype": "text/x-python",
   "name": "python",
   "nbconvert_exporter": "python",
   "pygments_lexer": "ipython3",
   "version": "3.10.14"
  }
 },
 "nbformat": 4,
 "nbformat_minor": 5
}
