{
 "cells": [
  {
   "cell_type": "markdown",
   "id": "3e9baa5d",
   "metadata": {},
   "source": [
    "# Regression"
   ]
  },
  {
   "cell_type": "code",
   "execution_count": 1,
   "id": "7222b4d2",
   "metadata": {},
   "outputs": [],
   "source": [
    "%load_ext nb_black\n",
    "%load_ext autoreload\n",
    "%autoreload 2\n"
   ]
  },
  {
   "cell_type": "code",
   "execution_count": 2,
   "id": "08579655",
   "metadata": {},
   "outputs": [],
   "source": [
    "from os.path import basename, exists\n",
    "\n",
    "\n",
    "def download(url):\n",
    "    filename = basename(url)\n",
    "    if not exists(filename):\n",
    "        from urllib.request import urlretrieve\n",
    "\n",
    "        local, _ = urlretrieve(url, filename)\n",
    "        print(\"Downloaded \" + local)\n",
    "\n",
    "\n",
    "download(\"https://github.com/AllenDowney/ThinkStats/raw/v3/nb/thinkstats2.py\")\n",
    "download(\"https://github.com/AllenDowney/ThinkStats/raw/v3/nb/thinkplot.py\")"
   ]
  },
  {
   "cell_type": "code",
   "execution_count": 3,
   "id": "f2dfc492",
   "metadata": {},
   "outputs": [],
   "source": [
    "import numpy as np\n",
    "import pandas as pd\n",
    "import thinkstats2\n",
    "import thinkplot"
   ]
  },
  {
   "cell_type": "markdown",
   "id": "88201a93",
   "metadata": {},
   "source": [
    "The linear least squares fit in the previous chapter is an example of\n",
    "**regression**, which is the more general problem of fitting any kind of\n",
    "model to any kind of data. This use of the term \"regression\" is a\n",
    "historical accident; it is only indirectly related to the original\n",
    "meaning of the word.\n",
    "\n",
    "The goal of regression analysis is to describe the relationship between\n",
    "one set of variables, called the **dependent variables**, and another\n",
    "set of variables, called independent or **explanatory variables**.\n",
    "\n",
    "In the previous chapter we used mother's age as an explanatory variable\n",
    "to predict birth weight as a dependent variable. When there is only one\n",
    "dependent and one explanatory variable, that's **simple regression**. In\n",
    "this chapter, we move on to **multiple regression**, with more than one\n",
    "explanatory variable. If there is more than one dependent variable,\n",
    "that's multivariate regression."
   ]
  },
  {
   "cell_type": "markdown",
   "id": "17fd9d5c",
   "metadata": {},
   "source": [
    "If the relationship between the dependent and explanatory variable is\n",
    "linear, that's **linear regression**. For example, if the dependent\n",
    "variable is $y$ and the explanatory variables are $x_1$ and $x_2$, we\n",
    "would write the following linear regression model:\n",
    "\n",
    "$$y = \\beta_0 + \\beta_1 x_1 + \\beta_2 x_2 + \\epsilon$$ \n",
    "\n",
    "where $\\beta_0$ is\n",
    "the intercept, $\\beta_1$ is the parameter associated with $x_1$,\n",
    "$\\beta_2$ is the parameter associated with $x_2$, and $\\epsilon$ is the\n",
    "residual due to random variation or other unknown factors.\n",
    "\n",
    "Given a sequence of values for $y$ and sequences for $x_1$ and $x_2$, we\n",
    "can find the parameters, $\\beta_0$, $\\beta_1$, and $\\beta_2$, that\n",
    "minimize the sum of $\\epsilon^2$. This process is called **ordinary least\n",
    "squares**. The computation is similar to `thinkstats2.LeastSquare`, but\n",
    "generalized to deal with more than one explanatory variable. You can\n",
    "find the details at\n",
    "<https://en.wikipedia.org/wiki/Ordinary_least_squares>"
   ]
  },
  {
   "cell_type": "markdown",
   "id": "a46dbacf",
   "metadata": {},
   "source": [
    "## StatsModels\n",
    "\n",
    "In the previous chapter I presented `thinkstats2.LeastSquares`, an\n",
    "implementation of simple linear regression intended to be easy to read.\n",
    "For multiple regression we'll switch to StatsModels, a Python package\n",
    "that provides several forms of regression and other analyses. If you are\n",
    "using Anaconda, you already have StatsModels; otherwise you might have\n",
    "to install it.\n",
    "\n",
    "As an example, I'll run the model from the previous chapter with\n",
    "StatsModels:"
   ]
  },
  {
   "cell_type": "code",
   "execution_count": 4,
   "id": "d7f0275f",
   "metadata": {},
   "outputs": [],
   "source": [
    "download(\"https://github.com/AllenDowney/ThinkStats/raw/v3/nb/nsfg.py\")\n",
    "download(\"https://github.com/AllenDowney/ThinkStats/raw/v3/nb/2002FemPreg.dct\")\n",
    "download(\n",
    "    \"https://github.com/AllenDowney/ThinkStats/raw/v3/nb/2002FemPreg.dat.gz\"\n",
    ")"
   ]
  },
  {
   "cell_type": "code",
   "execution_count": 5,
   "id": "bf9e310e",
   "metadata": {},
   "outputs": [],
   "source": [
    "import nsfg\n",
    "\n",
    "live, firsts, others = nsfg.make_frames()"
   ]
  },
  {
   "cell_type": "code",
   "execution_count": 6,
   "id": "9cc0b70e",
   "metadata": {},
   "outputs": [],
   "source": [
    "import statsmodels.formula.api as smf\n",
    "\n",
    "formula = \"totalwgt_lb ~ agepreg\"\n",
    "model = smf.ols(formula, data=live)\n",
    "results = model.fit()"
   ]
  },
  {
   "cell_type": "markdown",
   "id": "940a840e",
   "metadata": {},
   "source": [
    "`statsmodels` provides two interfaces (APIs); the \"formula\" API uses\n",
    "strings to identify the dependent and explanatory variables. It uses a\n",
    "syntax called `patsy`; in this example, the `~` operator separates the\n",
    "dependent variable on the left from the explanatory variables on the\n",
    "right.\n",
    "\n",
    "`smf.ols` takes the formula string and the DataFrame, `live`, and\n",
    "returns an OLS object that represents the model. The name `ols` stands\n",
    "for \"ordinary least squares.\"\n",
    "\n",
    "The `fit` method fits the model to the data and returns a\n",
    "RegressionResults object that contains the results.\n",
    "\n",
    "The results are also available as attributes. `params` is a Series that\n",
    "maps from variable names to their parameters, so we can get the\n",
    "intercept and slope like this:"
   ]
  },
  {
   "cell_type": "code",
   "execution_count": 7,
   "id": "e710ef24",
   "metadata": {},
   "outputs": [],
   "source": [
    "inter = results.params[\"Intercept\"]\n",
    "slope = results.params[\"agepreg\"]\n",
    "inter, slope"
   ]
  },
  {
   "cell_type": "markdown",
   "id": "d1c3e040",
   "metadata": {},
   "source": [
    "The estimated parameters are 6.83 and 0.0175, the same as from\n",
    "`LeastSquares`.\n",
    "\n",
    "`pvalues` is a Series that maps from variable names to the associated\n",
    "p-values, so we can check whether the estimated slope is statistically\n",
    "significant:"
   ]
  },
  {
   "cell_type": "code",
   "execution_count": 8,
   "id": "f19f93b0",
   "metadata": {},
   "outputs": [],
   "source": [
    "slope_pvalue = results.pvalues[\"agepreg\"]\n",
    "slope_pvalue"
   ]
  },
  {
   "cell_type": "code",
   "execution_count": 9,
   "id": "42d0778e",
   "metadata": {},
   "outputs": [],
   "source": [
    "results.rsquared"
   ]
  },
  {
   "cell_type": "markdown",
   "id": "22791bc7",
   "metadata": {},
   "source": [
    "The p-value associated with `agepreg` is `5.7e-11`, which is less than\n",
    "$0.001$, as expected.\n",
    "\n",
    "`results.rsquared` contains $R^2$, which is $0.0047$. `results` also\n",
    "provides `f_pvalue`, which is the p-value associated with the model as a\n",
    "whole, similar to testing whether $R^2$ is statistically significant.\n",
    "\n",
    "And `results` provides `resid`, a sequence of residuals, and\n",
    "`fittedvalues`, a sequence of fitted values corresponding to `agepreg`.\n",
    "\n",
    "The results object provides `summary()`, which represents the results in\n",
    "a readable format."
   ]
  },
  {
   "cell_type": "code",
   "execution_count": 10,
   "id": "2e2c19be",
   "metadata": {},
   "outputs": [],
   "source": [
    "results.summary()"
   ]
  },
  {
   "cell_type": "markdown",
   "id": "c694792b",
   "metadata": {},
   "source": [
    "But it prints a lot of information that is not relevant (yet), so I use\n",
    "a simpler function called `SummarizeResults`. "
   ]
  },
  {
   "cell_type": "code",
   "execution_count": 12,
   "id": "950ce10d",
   "metadata": {},
   "outputs": [],
   "source": [
    "from thinkstats2 import summarize_results\n",
    "\n",
    "summarize_results(results)"
   ]
  },
  {
   "cell_type": "markdown",
   "id": "58114b68",
   "metadata": {},
   "source": [
    "`Std(ys)` is the standard deviation of the dependent variable, which is\n",
    "the RMSE if you have to guess birth weights without the benefit of any\n",
    "explanatory variables. `Std(res)` is the standard deviation of the\n",
    "residuals, which is the RMSE if your guesses are informed by the\n",
    "mother's age. As we have already seen, knowing the mother's age provides\n",
    "no substantial improvement to the predictions."
   ]
  },
  {
   "cell_type": "markdown",
   "id": "f53611b4",
   "metadata": {},
   "source": [
    "## Multiple regression\n",
    "\n",
    "In Section [\\[birth_weights\\]](#birth_weights){reference-type=\"ref\"\n",
    "reference=\"birth_weights\"} we saw that first babies tend to be lighter\n",
    "than others, and this effect is statistically significant. But it is a\n",
    "strange result because there is no obvious mechanism that would cause\n",
    "first babies to be lighter. So we might wonder whether this relationship\n",
    "is **spurious**.\n",
    "\n",
    "In fact, there is a possible explanation for this effect. We have seen\n",
    "that birth weight depends on mother's age, and we might expect that\n",
    "mothers of first babies are younger than others.\n",
    "\n",
    "With a few calculations we can check whether this explanation is\n",
    "plausible. Then we'll use multiple regression to investigate more\n",
    "carefully. First, let's see how big the difference in weight is:"
   ]
  },
  {
   "cell_type": "code",
   "execution_count": 13,
   "id": "3e62d320",
   "metadata": {},
   "outputs": [],
   "source": [
    "diff_weight = firsts.totalwgt_lb.mean() - others.totalwgt_lb.mean()\n",
    "diff_weight"
   ]
  },
  {
   "cell_type": "markdown",
   "id": "ba94643e",
   "metadata": {},
   "source": [
    "First babies are 0.125 lbs lighter, or 2 ounces. And the difference in\n",
    "ages:"
   ]
  },
  {
   "cell_type": "code",
   "execution_count": 14,
   "id": "e65be931",
   "metadata": {},
   "outputs": [],
   "source": [
    "diff_age = firsts.agepreg.mean() - others.agepreg.mean()\n",
    "diff_age"
   ]
  },
  {
   "cell_type": "markdown",
   "id": "86311655",
   "metadata": {},
   "source": [
    "The mothers of first babies are 3.59 years younger. Running the linear\n",
    "model again, we get the change in birth weight as a function of age:"
   ]
  },
  {
   "cell_type": "code",
   "execution_count": 15,
   "id": "e5dfbe3c",
   "metadata": {},
   "outputs": [],
   "source": [
    "results = smf.ols(\"totalwgt_lb ~ agepreg\", data=live).fit()\n",
    "slope = results.params[\"agepreg\"]\n",
    "slope"
   ]
  },
  {
   "cell_type": "markdown",
   "id": "ad61e908",
   "metadata": {},
   "source": [
    "The slope is 0.0175 pounds per year. If we multiply the slope by the\n",
    "difference in ages, we get the expected difference in birth weight for\n",
    "first babies and others, due to mother's age:"
   ]
  },
  {
   "cell_type": "code",
   "execution_count": 16,
   "id": "5c87490d",
   "metadata": {},
   "outputs": [],
   "source": [
    "slope * diff_age"
   ]
  },
  {
   "cell_type": "markdown",
   "id": "4eee213c",
   "metadata": {},
   "source": [
    "The result is 0.063, just about half of the observed difference. So we\n",
    "conclude, tentatively, that the observed difference in birth weight can\n",
    "be partly explained by the difference in mother's age.\n",
    "\n",
    "Using multiple regression, we can explore these relationships more\n",
    "systematically."
   ]
  },
  {
   "cell_type": "code",
   "execution_count": 17,
   "id": "33340364",
   "metadata": {},
   "outputs": [],
   "source": [
    "live[\"isfirst\"] = live.birthord == 1\n",
    "formula = \"totalwgt_lb ~ isfirst\"\n",
    "results = smf.ols(formula, data=live).fit()"
   ]
  },
  {
   "cell_type": "markdown",
   "id": "fa2113bf",
   "metadata": {},
   "source": [
    "The first line creates a new column named `isfirst` that is True for\n",
    "first babies and false otherwise. Then we fit a model using `isfirst` as\n",
    "an explanatory variable.\n",
    "\n",
    "Here are the results:"
   ]
  },
  {
   "cell_type": "code",
   "execution_count": 18,
   "id": "deef5d4c",
   "metadata": {},
   "outputs": [],
   "source": [
    "summarize_results(results)"
   ]
  },
  {
   "cell_type": "markdown",
   "id": "685135dd",
   "metadata": {},
   "source": [
    "Because `isfirst` is a boolean, `ols` treats it as a **categorical\n",
    "variable**, which means that the values fall into categories, like True\n",
    "and False, and should not be treated as numbers. The estimated parameter\n",
    "is the effect on birth weight when `isfirst` is true, so the result,\n",
    "-0.125 lbs, is the difference in birth weight between first babies and\n",
    "others.\n",
    "\n",
    "The slope and the intercept are statistically significant, which means\n",
    "that they were unlikely to occur by chance, but the the $R^2$ value for\n",
    "this model is small, which means that `isfirst` doesn't account for a\n",
    "substantial part of the variation in birth weight.\n",
    "\n",
    "The results are similar with `agepreg`:"
   ]
  },
  {
   "cell_type": "code",
   "execution_count": 19,
   "id": "94342965",
   "metadata": {},
   "outputs": [],
   "source": [
    "formula = \"totalwgt_lb ~ agepreg\"\n",
    "results = smf.ols(formula, data=live).fit()\n",
    "summarize_results(results)"
   ]
  },
  {
   "cell_type": "markdown",
   "id": "c8f8338b",
   "metadata": {},
   "source": [
    "Again, the parameters are statistically significant, but $R^2$ is low.\n",
    "\n",
    "These models confirm results we have already seen. But now we can fit a\n",
    "single model that includes both variables. With the formula\n",
    "`totalwgt_lb ~ isfirst + agepreg`, we get:"
   ]
  },
  {
   "cell_type": "code",
   "execution_count": 20,
   "id": "84a9be8b",
   "metadata": {},
   "outputs": [],
   "source": [
    "formula = \"totalwgt_lb ~ isfirst + agepreg\"\n",
    "results = smf.ols(formula, data=live).fit()\n",
    "summarize_results(results)"
   ]
  },
  {
   "cell_type": "markdown",
   "id": "fff711b6",
   "metadata": {},
   "source": [
    "In the combined model, the parameter for `isfirst` is smaller by about\n",
    "half, which means that part of the apparent effect of `isfirst` is\n",
    "actually accounted for by `agepreg`. And the p-value for `isfirst` is\n",
    "about 2.5%, which is on the border of statistical significance.\n",
    "\n",
    "$R^2$ for this model is a little higher, which indicates that the two\n",
    "variables together account for more variation in birth weight than\n",
    "either alone (but not by much)."
   ]
  },
  {
   "cell_type": "markdown",
   "id": "aa7fd6f7",
   "metadata": {},
   "source": [
    "## Nonlinear relationships\n",
    "\n",
    "Remembering that the contribution of `agepreg` might be nonlinear, we\n",
    "might consider adding a variable to capture more of this relationship.\n",
    "One option is to create a column, `agepreg2`, that contains the squares\n",
    "of the ages:"
   ]
  },
  {
   "cell_type": "code",
   "execution_count": 21,
   "id": "7fe0861a",
   "metadata": {},
   "outputs": [],
   "source": [
    "live[\"agepreg2\"] = live.agepreg**2\n",
    "formula = \"totalwgt_lb ~ isfirst + agepreg + agepreg2\"\n",
    "results = smf.ols(formula, data=live).fit()"
   ]
  },
  {
   "cell_type": "markdown",
   "id": "49cd90c0",
   "metadata": {},
   "source": [
    "Now by estimating parameters for `agepreg` and `agepreg2`, we are\n",
    "effectively fitting a parabola:"
   ]
  },
  {
   "cell_type": "code",
   "execution_count": 22,
   "id": "e31ed85c",
   "metadata": {},
   "outputs": [],
   "source": [
    "summarize_results(results)"
   ]
  },
  {
   "cell_type": "markdown",
   "id": "938c9f8b",
   "metadata": {},
   "source": [
    "The parameter of `agepreg2` is negative, so the parabola curves\n",
    "downward, which is consistent with the shape of the lines in\n",
    "Figure [\\[linear2\\]](#linear2){reference-type=\"ref\"\n",
    "reference=\"linear2\"}.\n",
    "\n",
    "The quadratic model of `agepreg` accounts for more of the variability in\n",
    "birth weight; the parameter for `isfirst` is smaller in this model, and\n",
    "no longer statistically significant.\n",
    "\n",
    "Using computed variables like `agepreg2` is a common way to fit\n",
    "polynomials and other functions to data. This process is still\n",
    "considered linear regression, because the dependent variable is a linear\n",
    "function of the explanatory variables, regardless of whether some\n",
    "variables are nonlinear functions of others.\n",
    "\n",
    "The following table summarizes the results of these regressions:\n",
    "\n",
    " center\n",
    "                 isfirst        agepreg     agepreg2     $R^2$\n",
    "  --------- ----------------- ----------- ------------- --------\n",
    "  Model 1       -0.125 \\*         --           --        0.002\n",
    "  Model 2          --          0.0175 \\*       --        0.0047\n",
    "  Model 3    -0.0698 (0.025)   0.0154 \\*       --        0.0053\n",
    "  Model 4    -0.0504 (0.11)    0.112 \\*    -0.00185 \\*   0.0075\n",
    "\n",
    "\n",
    "The columns in this table are the explanatory variables and the\n",
    "coefficient of determination, $R^2$. Each entry is an estimated\n",
    "parameter and either a p-value in parentheses or an asterisk to indicate\n",
    "a p-value less that 0.001.\n",
    "\n",
    "We conclude that the apparent difference in birth weight is explained,\n",
    "at least in part, by the difference in mother's age. When we include\n",
    "mother's age in the model, the effect of `isfirst` gets smaller, and the\n",
    "remaining effect might be due to chance.\n",
    "\n",
    "In this example, mother's age acts as a **control variable**; including\n",
    "`agepreg` in the model \"controls for\" the difference in age between\n",
    "first-time mothers and others, making it possible to isolate the effect\n",
    "(if any) of `isfirst`."
   ]
  },
  {
   "cell_type": "markdown",
   "id": "c3e615b9",
   "metadata": {},
   "source": [
    "## Data mining\n",
    "\n",
    "So far we have used regression models for explanation; for example, in\n",
    "the previous section we discovered that an apparent difference in birth\n",
    "weight is actually due to a difference in mother's age. But the $R^2$\n",
    "values of those models is very low, which means that they have little\n",
    "predictive power. In this section we'll try to do better.\n",
    "\n",
    "Suppose one of your co-workers is expecting a baby and there is an\n",
    "office pool to guess the baby's birth weight (if you are not familiar\n",
    "with betting pools, see <https://en.wikipedia.org/wiki/Betting_pool>).\n",
    "\n",
    "Now suppose that you *really* want to win the pool. What could you do to\n",
    "improve your chances? Well, the NSFG dataset includes 244 variables\n",
    "about each pregnancy and another 3087 variables about each respondent.\n",
    "Maybe some of those variables have predictive power. To find out which\n",
    "ones are most useful, why not try them all?\n",
    "\n",
    "Testing the variables in the pregnancy table is easy, but in order to\n",
    "use the variables in the respondent table, we have to match up each\n",
    "pregnancy with a respondent. In theory we could iterate through the rows\n",
    "of the pregnancy table, use the `caseid` to find the corresponding\n",
    "respondent, and copy the values from the correspondent table into the\n",
    "pregnancy table. But that would be slow.\n",
    "\n",
    "A better option is to recognize this process as a **join** operation as\n",
    "defined in SQL and other relational database languages (see\n",
    "<https://en.wikipedia.org/wiki/Join_(SQL)>). Join is implemented as a\n",
    "DataFrame method, so we can perform the operation like this:"
   ]
  },
  {
   "cell_type": "code",
   "execution_count": 23,
   "id": "8111dfde",
   "metadata": {},
   "outputs": [],
   "source": [
    "download(\"https://github.com/AllenDowney/ThinkStats/raw/v3/nb/2002FemResp.dct\")\n",
    "download(\n",
    "    \"https://github.com/AllenDowney/ThinkStats/raw/v3/nb/2002FemResp.dat.gz\"\n",
    ")"
   ]
  },
  {
   "cell_type": "code",
   "execution_count": 24,
   "id": "b351e6ac",
   "metadata": {},
   "outputs": [],
   "source": [
    "import nsfg\n",
    "\n",
    "live = live[live.prglngth > 30]\n",
    "resp = nsfg.read_fem_resp()\n",
    "resp.index = resp.caseid\n",
    "join = live.join(resp, on=\"caseid\", rsuffix=\"_r\")"
   ]
  },
  {
   "cell_type": "markdown",
   "id": "54979cf1",
   "metadata": {},
   "source": [
    "The first line selects records for pregnancies longer than 30 weeks,\n",
    "assuming that the office pool is formed several weeks before the due\n",
    "date.\n",
    "\n",
    "The next line reads the respondent file. The result is a DataFrame with\n",
    "integer indices; in order to look up respondents efficiently, I replace\n",
    "`resp.index` with `resp.caseid`.\n",
    "\n",
    "The `join` method is invoked on `live`, which is considered the \"left\"\n",
    "table, and passed `resp`, which is the \"right\" table. The keyword\n",
    "argument `on` indicates the variable used to match up rows from the two\n",
    "tables.\n",
    "\n",
    "In this example some column names appear in both tables, so we have to\n",
    "provide `rsuffix`, which is a string that will be appended to the names\n",
    "of overlapping columns from the right table. For example, both tables\n",
    "have a column named `race` that encodes the race of the respondent. The\n",
    "result of the join contains two columns named `race` and `race_r`.\n",
    "\n",
    "The Pandas implementation is fast. Joining the NSFG tables takes less\n",
    "than a second on an ordinary desktop computer. Now we can start testing\n",
    "variables."
   ]
  },
  {
   "cell_type": "code",
   "execution_count": 25,
   "id": "956efb90",
   "metadata": {},
   "outputs": [],
   "source": [
    "t = []\n",
    "for name in join.columns:\n",
    "    try:\n",
    "        if join[name].var() < 1e-07:\n",
    "            continue\n",
    "        formula = \"totalwgt_lb ~ agepreg + \" + name\n",
    "        model = smf.ols(formula, data=join)\n",
    "        if model.nobs < len(join) / 2:\n",
    "            continue\n",
    "        results = model.fit()\n",
    "    except (ValueError, TypeError):\n",
    "        continue\n",
    "    t.append((results.rsquared, name))"
   ]
  },
  {
   "cell_type": "code",
   "execution_count": 26,
   "id": "5b31aea4",
   "metadata": {},
   "outputs": [],
   "source": [
    "columns = [\"$R^2$\", \"column\"]\n",
    "pd.DataFrame(t, columns=columns).sort_values(by=\"$R^2$\", ascending=False).head(10)"
   ]
  },
  {
   "cell_type": "markdown",
   "id": "3f4c3ce4",
   "metadata": {},
   "source": [
    "For each variable we construct a model, compute $R^2$, and append the\n",
    "results to a list. The models all include `agepreg`, since we already\n",
    "know that it has some predictive power.\n",
    "\n",
    "I check that each explanatory variable has some variability; otherwise\n",
    "the results of the regression are unreliable. I also check the number of\n",
    "observations for each model. Variables that contain a large number of\n",
    "`nan`s are not good candidates for prediction.\n",
    "\n",
    "For most of these variables, we haven't done any cleaning. Some of them\n",
    "are encoded in ways that don't work very well for linear regression. As\n",
    "a result, we might overlook some variables that would be useful if they\n",
    "were cleaned properly. But maybe we will find some good candidates."
   ]
  },
  {
   "cell_type": "markdown",
   "id": "77fb18b7",
   "metadata": {},
   "source": [
    "## Prediction\n",
    "\n",
    "The next step is to sort the results and select the variables that yield\n",
    "the highest values of $R^2$."
   ]
  },
  {
   "cell_type": "code",
   "execution_count": 27,
   "id": "5751b1cc",
   "metadata": {},
   "outputs": [],
   "source": [
    "import re\n",
    "\n",
    "\n",
    "def read_variables():\n",
    "    \"\"\"Reads Stata dictionary files for NSFG data.\n",
    "\n",
    "    returns: DataFrame that maps variables names to descriptions\n",
    "    \"\"\"\n",
    "    vars1 = thinkstats2.read_stata_dct(\"2002FemPreg.dct\").variables\n",
    "    vars2 = thinkstats2.read_stata_dct(\"2002FemResp.dct\").variables\n",
    "    all_vars = pd.concat([vars1, vars2])\n",
    "    all_vars.index = all_vars.name\n",
    "    return all_vars\n",
    "\n",
    "\n",
    "def mining_report(variables, n=30):\n",
    "    \"\"\"Prints variables with the highest R^2.\n",
    "\n",
    "    t: list of (R^2, variable name) pairs\n",
    "    n: number of pairs to print\n",
    "    \"\"\"\n",
    "    all_vars = read_variables()\n",
    "    variables.sort(reverse=True)\n",
    "    for r2, name in variables[:n]:\n",
    "        key = re.sub(\"_r$\", \"\", name)\n",
    "        try:\n",
    "            desc = all_vars.loc[key].desc\n",
    "            if isinstance(desc, pd.Series):\n",
    "                desc = desc[0]\n",
    "            print(name, r2, desc)\n",
    "        except (KeyError, IndexError):\n",
    "            print(name, r2)"
   ]
  },
  {
   "cell_type": "code",
   "execution_count": 28,
   "id": "5d08068c",
   "metadata": {},
   "outputs": [],
   "source": [
    "mining_report(t)"
   ]
  },
  {
   "cell_type": "markdown",
   "id": "7dcaaf4a",
   "metadata": {},
   "source": [
    "The first variable on the list is `totalwgt_lb`, followed by\n",
    "`birthwgt_lb`. Obviously, we can't use birth weight to predict birth\n",
    "weight.\n",
    "\n",
    "Similarly `prglngth` has useful predictive power, but for the office\n",
    "pool we assume pregnancy length (and the related variables) are not\n",
    "known yet.\n",
    "\n",
    "The first useful predictive variable is `babysex` which indicates\n",
    "whether the baby is male or female. In the NSFG dataset, boys are about\n",
    "0.3 lbs heavier. So, assuming that the sex of the baby is known, we can\n",
    "use it for prediction.\n",
    "\n",
    "Next is `race`, which indicates whether the respondent is white, black,\n",
    "or other. As an explanatory variable, race can be problematic. In\n",
    "datasets like the NSFG, race is correlated with many other variables,\n",
    "including income and other socioeconomic factors. In a regression model,\n",
    "race acts as a **proxy variable**, so apparent correlations with race\n",
    "are often caused, at least in part, by other factors."
   ]
  },
  {
   "cell_type": "markdown",
   "id": "67b97744",
   "metadata": {},
   "source": [
    "The next variable on the list is `nbrnaliv`, which indicates whether the\n",
    "pregnancy yielded multiple births. Twins and triplets tend to be smaller\n",
    "than other babies, so if we know whether our hypothetical co-worker is\n",
    "expecting twins, that would help.\n",
    "\n",
    "Next on the list is `paydu`, which indicates whether the respondent owns\n",
    "her home. It is one of several income-related variables that turn out to\n",
    "be predictive. In datasets like the NSFG, income and wealth are\n",
    "correlated with just about everything. In this example, income is\n",
    "related to diet, health, health care, and other factors likely to affect\n",
    "birth weight.\n",
    "\n",
    "Some of the other variables on the list are things that would not be\n",
    "known until later, like `bfeedwks`, the number of weeks the baby was\n",
    "breast fed. We can't use these variables for prediction, but you might\n",
    "want to speculate on reasons `bfeedwks` might be correlated with birth\n",
    "weight."
   ]
  },
  {
   "cell_type": "markdown",
   "id": "9a4de56a",
   "metadata": {},
   "source": [
    "Sometimes you start with a theory and use data to test it. Other times\n",
    "you start with data and go looking for possible theories. The second\n",
    "approach, which this section demonstrates, is called **data mining**. An\n",
    "advantage of data mining is that it can discover unexpected patterns. A\n",
    "hazard is that many of the patterns it discovers are either random or\n",
    "spurious.\n",
    "\n",
    "Having identified potential explanatory variables, I tested a few models\n",
    "and settled on this one:"
   ]
  },
  {
   "cell_type": "code",
   "execution_count": 29,
   "id": "c5d4fc32",
   "metadata": {},
   "outputs": [],
   "source": [
    "formula = (\n",
    "    \"totalwgt_lb ~ agepreg + C(race) + babysex==1 + nbrnaliv>1 + paydu==1 + totincr\"\n",
    ")\n",
    "results = smf.ols(formula, data=join).fit()"
   ]
  },
  {
   "cell_type": "markdown",
   "id": "8ed528d6",
   "metadata": {},
   "source": [
    "This formula uses some syntax we have not seen yet: `C(race)` tells the\n",
    "formula parser (Patsy) to treat race as a categorical variable, even\n",
    "though it is encoded numerically.\n",
    "\n",
    "The encoding for `babysex` is 1 for male, 2 for female; writing\n",
    "`babysex==1` converts it to boolean, True for male and false for female.\n",
    "\n",
    "Similarly `nbrnaliv>1` is True for multiple births and `paydu==1` is\n",
    "True for respondents who own their houses.\n",
    "\n",
    "`totincr` is encoded numerically from 1-14, with each increment\n",
    "representing about \\$5000 in annual income.\n",
    "\n",
    "So we can treat these values as numerical, expressed in units of \\$5000.\n",
    "\n",
    "Here are the results of the model:"
   ]
  },
  {
   "cell_type": "code",
   "execution_count": 30,
   "id": "3e76ab37",
   "metadata": {},
   "outputs": [],
   "source": [
    "summarize_results(results)"
   ]
  },
  {
   "cell_type": "markdown",
   "id": "c51b33cf",
   "metadata": {},
   "source": [
    "The estimated parameters for race are larger than I expected, especially\n",
    "since we control for income. The encoding is 1 for black, 2 for white,\n",
    "and 3 for other. Babies of black mothers are lighter than babies of\n",
    "other races by 0.27--0.36 lbs.\n",
    "\n",
    "As we've already seen, boys are heavier by about 0.3 lbs; twins and\n",
    "other multiplets are lighter by 1.4 lbs.\n",
    "\n",
    "People who own their homes have heavier babies by about 0.12 lbs, even\n",
    "when we control for income. The parameter for mother's age is smaller\n",
    "than what we saw in\n",
    "Section [\\[multiple\\]](#multiple){reference-type=\"ref\"\n",
    "reference=\"multiple\"}, which suggests that some of the other variables\n",
    "are correlated with age, probably including `paydu` and `totincr`."
   ]
  },
  {
   "cell_type": "markdown",
   "id": "d8f9b307",
   "metadata": {},
   "source": [
    "All of these variables are statistically significant, some with very low\n",
    "p-values, but $R^2$ is only 0.06, still quite small. RMSE without using\n",
    "the model is 1.27 lbs; with the model it drops to 1.23. So your chance\n",
    "of winning the pool is not substantially improved. Sorry!"
   ]
  },
  {
   "cell_type": "markdown",
   "id": "7e3a27da",
   "metadata": {},
   "source": [
    "## Logistic regression\n",
    "\n",
    "In the previous examples, some of the explanatory variables were\n",
    "numerical and some categorical (including boolean). But the dependent\n",
    "variable was always numerical.\n",
    "\n",
    "Linear regression can be generalized to handle other kinds of dependent\n",
    "variables. If the dependent variable is boolean, the generalized model\n",
    "is called **logistic regression**. If the dependent variable is an\n",
    "integer count, it's called **Poisson regression**.\n",
    "\n",
    "As an example of logistic regression, let's consider a variation on the\n",
    "office pool scenario. Suppose a friend of yours is pregnant and you want\n",
    "to predict whether the baby is a boy or a girl. You could use data from\n",
    "the NSFG to find factors that affect the \"sex ratio\", which is\n",
    "conventionally defined to be the probability of having a boy.\n",
    "\n",
    "If you encode the dependent variable numerically, for example 0 for a\n",
    "girl and 1 for a boy, you could apply ordinary least squares, but there\n",
    "would be problems. The linear model might be something like this:\n",
    "$$y = \\beta_0 + \\beta_1 x_1 + \\beta_2 x_2 + \\eps$$ Where $y$ is the\n",
    "dependent variable, and $x_1$ and $x_2$ are explanatory variables. Then\n",
    "we could find the parameters that minimize the residuals.\n",
    "\n",
    "The problem with this approach is that it produces predictions that are\n",
    "hard to interpret. Given estimated parameters and values for $x_1$ and\n",
    "$x_2$, the model might predict $y=0.5$, but the only meaningful values\n",
    "of $y$ are 0 and 1.\n",
    "\n",
    "It is tempting to interpret a result like that as a probability; for\n",
    "example, we might say that a respondent with particular values of $x_1$\n",
    "and $x_2$ has a 50% chance of having a boy. But it is also possible for\n",
    "this model to predict $y=1.1$ or $y=-0.1$, and those are not valid\n",
    "probabilities."
   ]
  },
  {
   "cell_type": "markdown",
   "id": "546b65f1",
   "metadata": {},
   "source": [
    "Logistic regression avoids this problem by expressing predictions in\n",
    "terms of **odds** rather than probabilities. If you are not familiar\n",
    "with odds, \"odds in favor\" of an event is the ratio of the probability\n",
    "it will occur to the probability that it will not.\n",
    "\n",
    "So if I think my team has a 75% chance of winning, I would say that the\n",
    "odds in their favor are three to one, because the chance of winning is\n",
    "three times the chance of losing.\n",
    "\n",
    "Odds and probabilities are different representations of the same\n",
    "information. Given a probability, you can compute the odds like this:"
   ]
  },
  {
   "cell_type": "code",
   "execution_count": 31,
   "id": "24aeac58",
   "metadata": {},
   "outputs": [],
   "source": [
    "p = 0.75\n",
    "o = p / (1 - p)\n",
    "o"
   ]
  },
  {
   "cell_type": "markdown",
   "id": "4b974b95",
   "metadata": {},
   "source": [
    "Given odds in favor, you can convert to probability like this:"
   ]
  },
  {
   "cell_type": "code",
   "execution_count": 32,
   "id": "d3feb5fd",
   "metadata": {},
   "outputs": [],
   "source": [
    "p = o / (o + 1)\n",
    "p"
   ]
  },
  {
   "cell_type": "markdown",
   "id": "a60864fb",
   "metadata": {},
   "source": [
    "Logistic regression is based on the following model:\n",
    "$$\\log o = \\beta_0 + \\beta_1 x_1 + \\beta_2 x_2 + \\epsilon$$ Where $o$ is the\n",
    "odds in favor of a particular outcome; in the example, $o$ would be the\n",
    "odds of having a boy.\n",
    "\n",
    "Suppose we have estimated the parameters $\\beta_0$, $\\beta_1$, and\n",
    "$\\beta_2$ (I'll explain how in a minute). And suppose we are given\n",
    "values for $x_1$ and $x_2$. We can compute the predicted value of\n",
    "$\\log o$, and then convert to a probability:"
   ]
  },
  {
   "cell_type": "code",
   "execution_count": 33,
   "id": "d0ef6360",
   "metadata": {},
   "outputs": [],
   "source": [
    "log_o = np.log(o)\n",
    "o = np.exp(log_o)\n",
    "p = o / (o + 1)\n",
    "p"
   ]
  },
  {
   "cell_type": "markdown",
   "id": "fe956fa2",
   "metadata": {},
   "source": [
    "So in the office pool scenario we could compute the predictive\n",
    "probability of having a boy. But how do we estimate the parameters?"
   ]
  },
  {
   "cell_type": "markdown",
   "id": "5ddd8097",
   "metadata": {},
   "source": [
    "## Estimating parameters\n",
    "\n",
    "Unlike linear regression, logistic regression does not have a closed\n",
    "form solution, so it is solved by guessing an initial solution and\n",
    "improving it iteratively.\n",
    "\n",
    "The usual goal is to find the maximum-likelihood estimate (MLE), which\n",
    "is the set of parameters that maximizes the likelihood of the data. For\n",
    "example, suppose we have the following data:"
   ]
  },
  {
   "cell_type": "code",
   "execution_count": 34,
   "id": "b8c30564",
   "metadata": {},
   "outputs": [],
   "source": [
    "y = np.array([0, 1, 0, 1])\n",
    "x1 = np.array([0, 0, 0, 1])\n",
    "x2 = np.array([0, 1, 1, 1])"
   ]
  },
  {
   "cell_type": "markdown",
   "id": "573c6bec",
   "metadata": {},
   "source": [
    "And we start with the initial guesses $\\beta_0=-1.5$, $\\beta_1=2.8$, and\n",
    "$\\beta_2=1.1$:"
   ]
  },
  {
   "cell_type": "code",
   "execution_count": 35,
   "id": "a1371c94",
   "metadata": {},
   "outputs": [],
   "source": [
    "beta = [-1.5, 2.8, 1.1]"
   ]
  },
  {
   "cell_type": "markdown",
   "id": "ce45ddb7",
   "metadata": {},
   "source": [
    "Then for each row we can compute `log_o`:"
   ]
  },
  {
   "cell_type": "code",
   "execution_count": 36,
   "id": "17255ecc",
   "metadata": {},
   "outputs": [],
   "source": [
    "log_o = beta[0] + beta[1] * x1 + beta[2] * x2\n",
    "log_o"
   ]
  },
  {
   "cell_type": "markdown",
   "id": "595bb451",
   "metadata": {},
   "source": [
    "And convert from log odds to probabilities:"
   ]
  },
  {
   "cell_type": "code",
   "execution_count": 37,
   "id": "75642e08",
   "metadata": {},
   "outputs": [],
   "source": [
    "o = np.exp(log_o)"
   ]
  },
  {
   "cell_type": "code",
   "execution_count": 38,
   "id": "ed010cba",
   "metadata": {},
   "outputs": [],
   "source": [
    "p = o / (o + 1)"
   ]
  },
  {
   "cell_type": "markdown",
   "id": "c7ef1a31",
   "metadata": {},
   "source": [
    "Notice that when `log_o` is greater than 0, `o` is greater than 1 and\n",
    "`p` is greater than 0.5.\n",
    "\n",
    "The likelihood of an outcome is `p` when `y==1` and `1-p` when `y==0`.\n",
    "For example, if we think the probability of a boy is 0.8 and the outcome\n",
    "is a boy, the likelihood is 0.8; if the outcome is a girl, the\n",
    "likelihood is 0.2. We can compute that like this:"
   ]
  },
  {
   "cell_type": "code",
   "execution_count": 39,
   "id": "e7c7357f",
   "metadata": {},
   "outputs": [],
   "source": [
    "likes = y * p + (1 - y) * (1 - p)"
   ]
  },
  {
   "cell_type": "markdown",
   "id": "6cd83085",
   "metadata": {},
   "source": [
    "The overall likelihood of the data is the product of `likes`:"
   ]
  },
  {
   "cell_type": "code",
   "execution_count": 40,
   "id": "b05e93f1",
   "metadata": {},
   "outputs": [],
   "source": [
    "like = np.prod(likes)\n",
    "like"
   ]
  },
  {
   "cell_type": "markdown",
   "id": "459ec91b",
   "metadata": {},
   "source": [
    "For these values of `beta`, the likelihood of the data is 0.18. The goal\n",
    "of logistic regression is to find parameters that maximize this\n",
    "likelihood. To do that, most statistics packages use an iterative solver\n",
    "like Newton's method (see\n",
    "<https://en.wikipedia.org/wiki/Logistic_regression#Model_fitting>)."
   ]
  },
  {
   "cell_type": "markdown",
   "id": "279304ea",
   "metadata": {},
   "source": [
    "## Implementation\n",
    "\n",
    "StatsModels provides an implementation of logistic regression called\n",
    "`logit`, named for the function that converts from probability to log\n",
    "odds. To demonstrate its use, I'll look for variables that affect the\n",
    "sex ratio.\n",
    "\n",
    "Again, I load the NSFG data and select pregnancies longer than 30 weeks:"
   ]
  },
  {
   "cell_type": "code",
   "execution_count": 41,
   "id": "785b5340",
   "metadata": {},
   "outputs": [],
   "source": [
    "live = live[live.prglngth > 30]"
   ]
  },
  {
   "cell_type": "markdown",
   "id": "1861b45d",
   "metadata": {},
   "source": [
    "`logit` requires the dependent variable to be binary (rather than\n",
    "boolean), so I create a new column named `boy`, using `astype(int)` to\n",
    "convert to binary integers:"
   ]
  },
  {
   "cell_type": "code",
   "execution_count": 42,
   "id": "7f27f727",
   "metadata": {},
   "outputs": [],
   "source": [
    "live[\"boy\"] = (live.babysex == 1).astype(int)\n",
    "live.shape"
   ]
  },
  {
   "cell_type": "markdown",
   "id": "6b4b72aa",
   "metadata": {},
   "source": [
    "Factors that have been found to affect sex ratio include parents' age,\n",
    "birth order, race, and social status. We can use logistic regression to\n",
    "see if these effects appear in the NSFG data. I'll start with the\n",
    "mother's age:"
   ]
  },
  {
   "cell_type": "code",
   "execution_count": 43,
   "id": "f89cfc31",
   "metadata": {},
   "outputs": [],
   "source": [
    "import statsmodels.formula.api as smf\n",
    "\n",
    "model = smf.logit(\"boy ~ agepreg\", data=live)\n",
    "results = model.fit()"
   ]
  },
  {
   "cell_type": "markdown",
   "id": "1f1b1af6",
   "metadata": {},
   "source": [
    "`logit` takes the same arguments as `ols`, a formula in Patsy syntax and\n",
    "a DataFrame. The result is a Logit object that represents the model."
   ]
  },
  {
   "cell_type": "markdown",
   "id": "097eada9",
   "metadata": {},
   "source": [
    "The result of `model.fit` is a BinaryResults object, which is similar to\n",
    "the RegressionResults object we got from `ols`. Here is a summary of the\n",
    "results:"
   ]
  },
  {
   "cell_type": "code",
   "execution_count": 44,
   "id": "c5b0d5d3",
   "metadata": {},
   "outputs": [],
   "source": [
    "summarize_results(results)"
   ]
  },
  {
   "cell_type": "markdown",
   "id": "4b0f5a06",
   "metadata": {},
   "source": [
    "The parameter of `agepreg` is positive, which suggests that older\n",
    "mothers are more likely to have boys, but the p-value is 0.783, which\n",
    "means that the apparent effect could easily be due to chance.\n",
    "\n",
    "The coefficient of determination, $R^2$, does not apply to logistic\n",
    "regression, but there are several alternatives that are used as \"pseudo\n",
    "$R^2$ values.\" These values can be useful for comparing models. For\n",
    "example, here's a model that includes several factors believed to be\n",
    "associated with sex ratio:"
   ]
  },
  {
   "cell_type": "code",
   "execution_count": 45,
   "id": "399c5393",
   "metadata": {},
   "outputs": [],
   "source": [
    "formula = \"boy ~ agepreg + hpagelb + birthord + C(race)\"\n",
    "model = smf.logit(formula, data=live)\n",
    "results = model.fit()"
   ]
  },
  {
   "cell_type": "markdown",
   "id": "b8dfa627",
   "metadata": {},
   "source": [
    "Along with mother's age, this model includes father's age at birth\n",
    "(`hpagelb`), birth order (`birthord`), and race as a categorical\n",
    "variable. Here are the results:"
   ]
  },
  {
   "cell_type": "code",
   "execution_count": 46,
   "id": "b29faac2",
   "metadata": {},
   "outputs": [],
   "source": [
    "summarize_results(results)"
   ]
  },
  {
   "cell_type": "markdown",
   "id": "2c5116e1",
   "metadata": {},
   "source": [
    "None of the estimated parameters are statistically significant. The\n",
    "pseudo-$R^2$ value is a little higher, but that could be due to chance."
   ]
  },
  {
   "cell_type": "markdown",
   "id": "b5e69215",
   "metadata": {},
   "source": [
    "## Accuracy\n",
    "\n",
    "In the office pool scenario, we are most interested in the accuracy of\n",
    "the model: the number of successful predictions, compared with what we\n",
    "would expect by chance.\n",
    "\n",
    "In the NSFG data, there are more boys than girls, so the baseline\n",
    "strategy is to guess \"boy\" every time."
   ]
  },
  {
   "cell_type": "markdown",
   "id": "7ddb47d3",
   "metadata": {},
   "source": [
    "The model contains attributes called `endog` and `exog` that contain the\n",
    "**endogenous variable**, another name for the dependent variable, and\n",
    "the **exogenous variables**, another name for the explanatory variables.\n",
    "Since they are NumPy arrays, it is sometimes convenient to convert them\n",
    "to DataFrames:"
   ]
  },
  {
   "cell_type": "code",
   "execution_count": 47,
   "id": "f8210b20",
   "metadata": {},
   "outputs": [],
   "source": [
    "import pandas as pd\n",
    "\n",
    "endog = pd.DataFrame(model.endog, columns=[model.endog_names])\n",
    "exog = pd.DataFrame(model.exog, columns=model.exog_names)"
   ]
  },
  {
   "cell_type": "markdown",
   "id": "1ef8ce69",
   "metadata": {},
   "source": [
    "The accuracy of this strategy is\n",
    "just the fraction of boys:"
   ]
  },
  {
   "cell_type": "code",
   "execution_count": 48,
   "id": "80148060",
   "metadata": {},
   "outputs": [],
   "source": [
    "actual = endog[\"boy\"]\n",
    "actual.shape"
   ]
  },
  {
   "cell_type": "code",
   "execution_count": 49,
   "id": "7cb8dc3f",
   "metadata": {},
   "outputs": [],
   "source": [
    "baseline = actual.mean()\n",
    "baseline"
   ]
  },
  {
   "cell_type": "markdown",
   "id": "72d583cb",
   "metadata": {},
   "source": [
    "Since `actual` is encoded in binary integers, the mean is the fraction\n",
    "of boys, which is 0.507.\n",
    "\n",
    "Here's how we compute the accuracy of the model:"
   ]
  },
  {
   "cell_type": "code",
   "execution_count": 50,
   "id": "59dd28ea",
   "metadata": {},
   "outputs": [],
   "source": [
    "predict = results.predict() >= 0.5"
   ]
  },
  {
   "cell_type": "code",
   "execution_count": 51,
   "id": "0b6b5343",
   "metadata": {},
   "outputs": [],
   "source": [
    "true_pos = predict * actual\n",
    "true_pos.sum()"
   ]
  },
  {
   "cell_type": "code",
   "execution_count": 52,
   "id": "a1d2e9a3",
   "metadata": {},
   "outputs": [],
   "source": [
    "true_neg = (1 - predict) * (1 - actual)\n",
    "true_neg.sum()"
   ]
  },
  {
   "cell_type": "markdown",
   "id": "22de46d8",
   "metadata": {},
   "source": [
    "`results.predict` returns a NumPy array of probabilities, which we round\n",
    "off to 0 or 1. Multiplying by `actual` yields 1 if we predict a boy and\n",
    "get it right, 0 otherwise. So, `true_pos` indicates \"true positives\".\n",
    "\n",
    "Similarly, `true_neg` indicates the cases where we guess \"girl\" and get\n",
    "it right. Accuracy is the fraction of correct guesses:"
   ]
  },
  {
   "cell_type": "code",
   "execution_count": 53,
   "id": "5ccd35a7",
   "metadata": {},
   "outputs": [],
   "source": [
    "acc = (sum(true_pos) + sum(true_neg)) / len(actual)\n",
    "acc"
   ]
  },
  {
   "cell_type": "markdown",
   "id": "b6a5b8d0",
   "metadata": {},
   "source": [
    "The result is 0.512, slightly better than the baseline, 0.507. But, you\n",
    "should not take this result too seriously. We used the same data to\n",
    "build and test the model, so the model may not have predictive power on\n",
    "new data.\n",
    "\n",
    "Nevertheless, let's use the model to make a prediction for the office\n",
    "pool. Suppose your friend is 35 years old and white, her husband is 39,\n",
    "and they are expecting their third child:"
   ]
  },
  {
   "cell_type": "code",
   "execution_count": 54,
   "id": "08f93a7d",
   "metadata": {},
   "outputs": [],
   "source": [
    "columns = [\"agepreg\", \"hpagelb\", \"birthord\", \"race\"]\n",
    "new = pd.DataFrame([[35, 39, 3, 2]], columns=columns)\n",
    "y = results.predict(new)\n",
    "y.mean()"
   ]
  },
  {
   "cell_type": "markdown",
   "id": "eca4ddc3",
   "metadata": {},
   "source": [
    "To invoke `results.predict` for a new case, you have to construct a\n",
    "DataFrame with a column for each variable in the model. The result in\n",
    "this case is 0.52, so you should guess \"boy.\" But if the model improves\n",
    "your chances of winning, the difference is very small."
   ]
  },
  {
   "cell_type": "markdown",
   "id": "e0a3487c",
   "metadata": {},
   "source": [
    "## Glossary\n",
    "\n",
    "-   **regression**: One of several related processes for estimating\n",
    "    parameters that fit a model to data.\n",
    "\n",
    "-   **dependent variables**: The variables in a regression model we\n",
    "    would like to predict. Also known as endogenous variables.\n",
    "\n",
    "-   **explanatory variables**: The variables used to predict or explain\n",
    "    the dependent variables. Also known as independent, or exogenous,\n",
    "    variables.\n",
    "\n",
    "-   **simple regression**: A regression with only one dependent and one\n",
    "    explanatory variable.\n",
    "\n",
    "-   **multiple regression**: A regression with multiple explanatory\n",
    "    variables, but only one dependent variable.\n",
    "\n",
    "-   **linear regression**: A regression based on a linear model.\n",
    "\n",
    "-   **ordinary least squares**: A linear regression that estimates\n",
    "    parameters by minimizing the squared error of the residuals.\n",
    "\n",
    "-   **spurious relationship**: A relationship between two variables that\n",
    "    is caused by a statistical artifact or a factor, not included in the\n",
    "    model, that is related to both variables.\n",
    "\n",
    "-   **control variable**: A variable included in a regression to\n",
    "    eliminate or \"control for\" a spurious relationship.\n",
    "\n",
    "-   **proxy variable**: A variable that contributes information to a\n",
    "    regression model indirectly because of a relationship with another\n",
    "    factor, so it acts as a proxy for that factor.\n",
    "\n",
    "-   **categorical variable**: A variable that can have one of a discrete\n",
    "    set of unordered values.\n",
    "\n",
    "-   **join**: An operation that combines data from two DataFrames using\n",
    "    a key to match up rows in the two frames.\n",
    "\n",
    "-   **data mining**: An approach to finding relationships between\n",
    "    variables by testing a large number of models.\n",
    "\n",
    "-   **logistic regression**: A form of regression used when the\n",
    "    dependent variable is boolean.\n",
    "\n",
    "-   **Poisson regression**: A form of regression used when the dependent\n",
    "    variable is a non-negative integer, usually a count.\n",
    "\n",
    "-   **odds**: An alternative way of representing a probability, $p$, as\n",
    "    the ratio of the probability and its complement, $p / (1-p)$."
   ]
  },
  {
   "cell_type": "markdown",
   "id": "5e334137",
   "metadata": {
    "collapsed": true
   },
   "source": [
    "## Exercises"
   ]
  },
  {
   "cell_type": "markdown",
   "id": "0fe41625",
   "metadata": {
    "collapsed": true
   },
   "source": [
    "**Exercise:** Suppose one of your co-workers is expecting a baby and you are participating in an office pool to predict the date of birth. Assuming that bets are placed during the 30th week of pregnancy, what variables could you use to make the best prediction? You should limit yourself to variables that are known before the birth, and likely to be available to the people in the pool."
   ]
  },
  {
   "cell_type": "code",
   "execution_count": 55,
   "id": "36e5ea85",
   "metadata": {},
   "outputs": [],
   "source": [
    "import nsfg\n",
    "\n",
    "live, firsts, others = nsfg.make_frames()\n",
    "live = live[live.prglngth > 30]"
   ]
  },
  {
   "cell_type": "code",
   "execution_count": 56,
   "id": "363434ec",
   "metadata": {},
   "outputs": [],
   "source": [
    "import statsmodels.formula.api as smf\n",
    "\n",
    "model = smf.ols(\"prglngth ~ birthord==1 + race==2 + nbrnaliv>1\", data=live)\n",
    "results = model.fit()\n",
    "results.summary()"
   ]
  },
  {
   "cell_type": "markdown",
   "id": "ea22658b",
   "metadata": {},
   "source": [
    "**Exercise:** The Trivers-Willard hypothesis suggests that for many mammals the sex ratio depends on “maternal condition”; that is, factors like the mother’s age, size, health, and social status. See https://en.wikipedia.org/wiki/Trivers-Willard_hypothesis\n",
    "\n",
    "Some studies have shown this effect among humans, but results are mixed. In this chapter we tested some variables related to these factors, but didn’t find any with a statistically significant effect on sex ratio.\n",
    "\n",
    "As an exercise, use a data mining approach to test the other variables in the pregnancy and respondent files. Can you find any factors with a substantial effect?"
   ]
  },
  {
   "cell_type": "code",
   "execution_count": 57,
   "id": "ca0a00d4",
   "metadata": {},
   "outputs": [],
   "source": [
    "def go_mining(df):\n",
    "    \"\"\"Searches for variables that predict birth weight.\n",
    "\n",
    "    df: DataFrame of pregnancy records\n",
    "\n",
    "    returns: list of (rsquared, variable name) pairs\n",
    "    \"\"\"\n",
    "    df[\"boy\"] = (df.babysex == 1).astype(int)\n",
    "    variables = []\n",
    "    for name in df.columns:\n",
    "        try:\n",
    "            if df[name].var() < 1e-07:\n",
    "                continue\n",
    "            formula = \"boy ~ agepreg + \" + name\n",
    "            model = smf.logit(formula, data=df)\n",
    "            nobs = len(model.endog)\n",
    "            if nobs < len(df) / 2:\n",
    "                continue\n",
    "            results = model.fit()\n",
    "        except:\n",
    "            continue\n",
    "        variables.append((results.prsquared, name))\n",
    "    return variables\n",
    "\n",
    "\n",
    "variables = go_mining(join)"
   ]
  },
  {
   "cell_type": "code",
   "execution_count": 58,
   "id": "44f0eef3",
   "metadata": {},
   "outputs": [],
   "source": [
    "mining_report(variables)"
   ]
  },
  {
   "cell_type": "code",
   "execution_count": 59,
   "id": "6d2ed94e",
   "metadata": {},
   "outputs": [],
   "source": [
    "formula = \"boy ~ agepreg + fmarout5==5 + infever==1\"\n",
    "model = smf.logit(formula, data=join)\n",
    "results = model.fit()\n",
    "results.summary()"
   ]
  },
  {
   "cell_type": "markdown",
   "id": "b22696a2",
   "metadata": {},
   "source": [
    "**Exercise:** If the quantity you want to predict is a count, you can use Poisson regression, which is implemented in StatsModels with a function called `poisson`. It works the same way as `ols` and `logit`. As an exercise, let’s use it to predict how many children a woman has born; in the NSFG dataset, this variable is called `numbabes`.\n",
    "\n",
    "Suppose you meet a woman who is 35 years old, black, and a college graduate whose annual household income exceeds $75,000. How many children would you predict she has born?"
   ]
  },
  {
   "cell_type": "code",
   "execution_count": 60,
   "id": "19bd5c7a",
   "metadata": {},
   "outputs": [],
   "source": [
    "join[\"numbabes\"] = join.numbabes.replace([97], np.nan)\n",
    "join[\"age2\"] = join.age_r**2"
   ]
  },
  {
   "cell_type": "code",
   "execution_count": 61,
   "id": "185c20fb",
   "metadata": {},
   "outputs": [],
   "source": [
    "formula = \"numbabes ~ age_r + age2 + age3 + C(race) + totincr + educat\"\n",
    "formula = \"numbabes ~ age_r + age2 + C(race) + totincr + educat\"\n",
    "model = smf.poisson(formula, data=join)\n",
    "results = model.fit()\n",
    "results.summary()"
   ]
  },
  {
   "cell_type": "markdown",
   "id": "e39e2e87",
   "metadata": {},
   "source": [
    "Now we can predict the number of children for a woman who is 35 years old, black, and a college\n",
    "graduate whose annual household income exceeds $75,000"
   ]
  },
  {
   "cell_type": "code",
   "execution_count": 62,
   "id": "c593fb4a",
   "metadata": {},
   "outputs": [],
   "source": [
    "columns = [\"age_r\", \"age2\", \"age3\", \"race\", \"totincr\", \"educat\"]\n",
    "new = pd.DataFrame([[35, 35**2, 35**3, 1, 14, 16]], columns=columns)\n",
    "results.predict(new)"
   ]
  },
  {
   "cell_type": "markdown",
   "id": "4e34d2bb",
   "metadata": {},
   "source": [
    "**Exercise:** If the quantity you want to predict is categorical, you can use multinomial logistic regression, which is implemented in StatsModels with a function called `mnlogit`. As an exercise, let’s use it to guess whether a woman is married, cohabitating, widowed, divorced, separated, or never married; in the NSFG dataset, marital status is encoded in a variable called `rmarital`.\n",
    "\n",
    "Suppose you meet a woman who is 25 years old, white, and a high school graduate whose annual household income is about $45,000. What is the probability that she is married, cohabitating, etc?"
   ]
  },
  {
   "cell_type": "code",
   "execution_count": 63,
   "id": "77e41e64",
   "metadata": {},
   "outputs": [],
   "source": [
    "formula = \"rmarital ~ age_r + age2 + C(race) + totincr + educat\"\n",
    "model = smf.mnlogit(formula, data=join)\n",
    "results = model.fit()\n",
    "results.summary()"
   ]
  },
  {
   "cell_type": "markdown",
   "id": "d5bb8163",
   "metadata": {},
   "source": [
    "Make a prediction for a woman who is 25 years old, white, and a high\n",
    "school graduate whose annual household income is about $45,000."
   ]
  },
  {
   "cell_type": "code",
   "execution_count": 64,
   "id": "4bb62cc7",
   "metadata": {},
   "outputs": [],
   "source": [
    "columns = [\"age_r\", \"age2\", \"race\", \"totincr\", \"educat\"]\n",
    "new = pd.DataFrame([[25, 25**2, 2, 11, 12]], columns=columns)\n",
    "results.predict(new)"
   ]
  },
  {
   "cell_type": "code",
   "execution_count": null,
   "id": "23da96b4",
   "metadata": {},
   "outputs": [],
   "source": []
  }
 ],
 "metadata": {
  "kernelspec": {
   "display_name": "Python 3 (ipykernel)",
   "language": "python",
   "name": "python3"
  },
  "language_info": {
   "codemirror_mode": {
    "name": "ipython",
    "version": 3
   },
   "file_extension": ".py",
   "mimetype": "text/x-python",
   "name": "python",
   "nbconvert_exporter": "python",
   "pygments_lexer": "ipython3",
   "version": "3.10.14"
  }
 },
 "nbformat": 4,
 "nbformat_minor": 5
}
