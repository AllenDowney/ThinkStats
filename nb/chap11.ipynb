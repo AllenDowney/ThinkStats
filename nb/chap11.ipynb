{
 "cells": [
  {
   "cell_type": "markdown",
   "id": "3e9baa5d",
   "metadata": {},
   "source": [
    "# Regression"
   ]
  },
  {
   "cell_type": "code",
   "execution_count": 2,
   "id": "08579655",
   "metadata": {},
   "outputs": [],
   "source": [
    "from os.path import basename, exists\n",
    "\n",
    "\n",
    "def download(url):\n",
    "    filename = basename(url)\n",
    "    if not exists(filename):\n",
    "        from urllib.request import urlretrieve\n",
    "\n",
    "        local, _ = urlretrieve(url, filename)\n",
    "        print(\"Downloaded \" + local)\n",
    "\n",
    "\n",
    "download(\"https://github.com/AllenDowney/ThinkStats/raw/v3/nb/thinkstats.py\")"
   ]
  },
  {
   "cell_type": "code",
   "execution_count": 3,
   "id": "f2dfc492",
   "metadata": {},
   "outputs": [],
   "source": [
    "import numpy as np\n",
    "import pandas as pd\n",
    "import matplotlib.pyplot as plt\n",
    "\n",
    "from thinkstats import decorate"
   ]
  },
  {
   "cell_type": "markdown",
   "id": "88201a93",
   "metadata": {},
   "source": [
    "The linear least squares fit in the previous chapter is an example of **regression**, which is the more general problem of fitting any kind of model to any kind of data.\n",
    "This use of the term \"regression\" is a historical accident; it is only indirectly related to the original meaning of the word.\n",
    "\n",
    "TODO: Define model!\n",
    "\n",
    "The goal of regression analysis is to describe the relationship between one set of variables, called the **dependent variables**, and another set of variables, called independent or **explanatory variables**.\n",
    "\n",
    "In the previous chapter we used mother's age as an explanatory variable to predict birth weight as a dependent variable.\n",
    "When there is only one dependent and one explanatory variable, that's **simple regression**.\n",
    "In this chapter, we move on to **multiple regression**, with more than one explanatory variable.\n",
    "If there is more than one dependent variable, that's multivariate regression."
   ]
  },
  {
   "cell_type": "markdown",
   "id": "17fd9d5c",
   "metadata": {},
   "source": [
    "If the relationship between the dependent and explanatory variable is linear, that's **linear regression**.\n",
    "For example, if the dependent variable is $y$ and the explanatory variables are $x_1$ and $x_2$, we would write the following linear regression model:\n",
    "\n",
    "$$y = \\beta_0 + \\beta_1 x_1 + \\beta_2 x_2 + \\epsilon$$ \n",
    "\n",
    "where $\\beta_0$ is the intercept, $\\beta_1$ is the parameter associated with $x_1$, $\\beta_2$ is the parameter associated with $x_2$, and $\\epsilon$ is the residual due to random variation or other unknown factors.\n",
    "\n",
    "Given a sequence of values for $y$ and sequences for $x_1$ and $x_2$, we can find the parameters, $\\beta_0$, $\\beta_1$, and $\\beta_2$, that minimize the sum of $\\epsilon^2$.\n",
    "This process is called **ordinary least squares**.\n",
    "The computation is similar to `thinkstats2.LeastSquare`, but generalized to deal with more than one explanatory variable.\n",
    "You can find the details at <https://en.wikipedia.org/wiki/Ordinary_least_squares>"
   ]
  },
  {
   "cell_type": "markdown",
   "id": "a46dbacf",
   "metadata": {},
   "source": [
    "## StatsModels\n",
    "\n",
    "In the previous chapter I presented `thinkstats2.LeastSquares`, an implementation of simple linear regression intended to be easy to read.\n",
    "For multiple regression we'll switch to StatsModels, a Python package that provides several forms of regression and other analyses.\n",
    "If you are using Anaconda, you already have StatsModels; otherwise you might have to install it.\n",
    "\n",
    "As an example, I'll run the model from the previous chapter with StatsModels:"
   ]
  },
  {
   "cell_type": "code",
   "execution_count": null,
   "id": "c6328caf",
   "metadata": {},
   "outputs": [],
   "source": [
    "try:\n",
    "    import statadict\n",
    "except ImportError:\n",
    "    !pip install statadict"
   ]
  },
  {
   "cell_type": "code",
   "execution_count": 4,
   "id": "d7f0275f",
   "metadata": {},
   "outputs": [],
   "source": [
    "download(\"https://github.com/AllenDowney/ThinkStats/raw/v3/nb/nsfg.py\")\n",
    "download(\"https://github.com/AllenDowney/ThinkStats/raw/v3/data/2002FemPreg.dct\")\n",
    "download(\"https://github.com/AllenDowney/ThinkStats/raw/v3/data/2002FemPreg.dat.gz\")"
   ]
  },
  {
   "cell_type": "code",
   "execution_count": 5,
   "id": "bf9e310e",
   "metadata": {},
   "outputs": [],
   "source": [
    "import nsfg\n",
    "\n",
    "live, firsts, others = nsfg.make_frames()"
   ]
  },
  {
   "cell_type": "code",
   "execution_count": 6,
   "id": "9cc0b70e",
   "metadata": {},
   "outputs": [],
   "source": [
    "import statsmodels.formula.api as smf\n",
    "\n",
    "formula = \"totalwgt_lb ~ agepreg\"\n",
    "model = smf.ols(formula, data=live)\n",
    "results = model.fit()"
   ]
  },
  {
   "cell_type": "markdown",
   "id": "940a840e",
   "metadata": {},
   "source": [
    "`statsmodels` provides two interfaces (APIs); the \"formula\" API uses strings to identify the dependent and explanatory variables.\n",
    "It uses a syntax called `patsy`.\n",
    "In this example, the `~` operator separates the dependent variable on the left from the explanatory variables on the right.\n",
    "\n",
    "`smf.ols` takes the formula string and the `DataFrame`, `live`, and returns an OLS object that represents the model.\n",
    "The name `ols` stands for \"ordinary least squares.\"\n",
    "\n",
    "The `fit` method fits the model to the data and returns a RegressionResults object that contains the results.\n",
    "\n",
    "`results` contains a `Series` called `params` that maps from variable names to their parameters, so we can get the intercept and slope like this:"
   ]
  },
  {
   "cell_type": "code",
   "execution_count": 7,
   "id": "e710ef24",
   "metadata": {},
   "outputs": [],
   "source": [
    "inter = results.params[\"Intercept\"]\n",
    "slope = results.params[\"agepreg\"]\n",
    "inter, slope"
   ]
  },
  {
   "cell_type": "markdown",
   "id": "d1c3e040",
   "metadata": {},
   "source": [
    "The estimated parameters are the same as what we got from `least_squares`.\n",
    "\n",
    "`results` contains another `Series` called `pvalues` that maps from variable names to the associated p-values, so we can check whether the estimated slope is statistically significant:"
   ]
  },
  {
   "cell_type": "code",
   "execution_count": 8,
   "id": "f19f93b0",
   "metadata": {},
   "outputs": [],
   "source": [
    "slope_pvalue = results.pvalues[\"agepreg\"]\n",
    "slope_pvalue"
   ]
  },
  {
   "cell_type": "markdown",
   "id": "6fb542c4",
   "metadata": {},
   "source": [
    "The p-value associated with `agepreg` is `5.7e-11`, which is much less than 0.05, so the slope is statistically significant.\n",
    "\n",
    "`results.rsquared` contains $R^2$, which is 0.0047.\n"
   ]
  },
  {
   "cell_type": "code",
   "execution_count": 9,
   "id": "42d0778e",
   "metadata": {},
   "outputs": [],
   "source": [
    "results.rsquared"
   ]
  },
  {
   "cell_type": "markdown",
   "id": "22791bc7",
   "metadata": {},
   "source": [
    "`results` also provides `resid`, a sequence of residuals, and `fittedvalues`, a sequence of fitted values corresponding to `agepreg`.\n",
    "\n",
    "The results object provides `summary()`, which represents the results in a readable format."
   ]
  },
  {
   "cell_type": "code",
   "execution_count": 10,
   "id": "2e2c19be",
   "metadata": {},
   "outputs": [],
   "source": [
    "results.summary()"
   ]
  },
  {
   "cell_type": "markdown",
   "id": "c694792b",
   "metadata": {},
   "source": [
    "But it prints a lot of information that is not relevant (yet), so I use a simpler function called `summarize_results`.\n"
   ]
  },
  {
   "cell_type": "code",
   "execution_count": 11,
   "id": "950ce10d",
   "metadata": {},
   "outputs": [],
   "source": [
    "from thinkstats import summarize_results\n",
    "\n",
    "summarize_results(results)"
   ]
  },
  {
   "cell_type": "markdown",
   "id": "58114b68",
   "metadata": {},
   "source": [
    "`Std(ys)` is the standard deviation of the dependent variable, which is the RMSE if you have to guess birth weights without the benefit of any explanatory variables.\n",
    "`Std(res)` is the standard deviation of the residuals, which is the RMSE if your guesses are informed by the mother's age.\n",
    "As we have already seen, knowing the mother's age provides no substantial improvement to the predictions."
   ]
  },
  {
   "cell_type": "markdown",
   "id": "f53611b4",
   "metadata": {},
   "source": [
    "## Multiple regression\n",
    "\n",
    "We've seen that first babies tend to be lighter than others, and this effect is statistically significant.\n",
    "But it is a strange result because there is no obvious mechanism that would cause first babies to be lighter.\n",
    "So we might wonder whether this relationship is **spurious**.\n",
    "\n",
    "In fact, there is a possible explanation for this effect.\n",
    "We have seen that birth weight depends on mother's age, and we might expect that mothers of first babies are younger than others.\n",
    "\n",
    "With a few calculations we can check whether this explanation is plausible.\n",
    "Then we'll use multiple regression to investigate more carefully.\n",
    "First, let's see how big the difference in weight is:"
   ]
  },
  {
   "cell_type": "code",
   "execution_count": 12,
   "id": "3e62d320",
   "metadata": {},
   "outputs": [],
   "source": [
    "diff_weight = firsts.totalwgt_lb.mean() - others.totalwgt_lb.mean()\n",
    "diff_weight"
   ]
  },
  {
   "cell_type": "markdown",
   "id": "ba94643e",
   "metadata": {},
   "source": [
    "First babies are 0.125 lbs lighter, or 2 ounces.\n",
    "And the difference in ages:"
   ]
  },
  {
   "cell_type": "code",
   "execution_count": 13,
   "id": "e65be931",
   "metadata": {},
   "outputs": [],
   "source": [
    "diff_age = firsts.agepreg.mean() - others.agepreg.mean()\n",
    "diff_age"
   ]
  },
  {
   "cell_type": "markdown",
   "id": "86311655",
   "metadata": {},
   "source": [
    "The mothers of first babies are 3.59 years younger, on average.\n",
    "Running the linear model again, we get the change in birth weight as a function of age:"
   ]
  },
  {
   "cell_type": "code",
   "execution_count": 14,
   "id": "e5dfbe3c",
   "metadata": {},
   "outputs": [],
   "source": [
    "results = smf.ols(\"totalwgt_lb ~ agepreg\", data=live).fit()\n",
    "slope = results.params[\"agepreg\"]\n",
    "slope"
   ]
  },
  {
   "cell_type": "markdown",
   "id": "ad61e908",
   "metadata": {},
   "source": [
    "The slope is 0.0175 pounds per year.\n",
    "If we multiply the slope by the difference in ages, we get the expected difference in birth weight for first babies and others, due to mother's age:"
   ]
  },
  {
   "cell_type": "code",
   "execution_count": 15,
   "id": "5c87490d",
   "metadata": {},
   "outputs": [],
   "source": [
    "slope * diff_age"
   ]
  },
  {
   "cell_type": "markdown",
   "id": "4eee213c",
   "metadata": {},
   "source": [
    "The result is 0.063, just about half of the observed difference.\n",
    "So we conclude, tentatively, that the observed difference in birth weight can be partly explained by the difference in mother's age.\n",
    "\n",
    "Using multiple regression, we can explore these relationships more systematically."
   ]
  },
  {
   "cell_type": "code",
   "execution_count": 16,
   "id": "33340364",
   "metadata": {},
   "outputs": [],
   "source": [
    "live[\"isfirst\"] = live.birthord == 1\n",
    "formula = \"totalwgt_lb ~ isfirst\"\n",
    "results = smf.ols(formula, data=live).fit()"
   ]
  },
  {
   "cell_type": "markdown",
   "id": "fa2113bf",
   "metadata": {},
   "source": [
    "The first line creates a new column named `isfirst` that is True for first babies and false otherwise.\n",
    "Then we fit a model using `isfirst` as an explanatory variable.\n",
    "\n",
    "Here are the results:"
   ]
  },
  {
   "cell_type": "code",
   "execution_count": 17,
   "id": "deef5d4c",
   "metadata": {},
   "outputs": [],
   "source": [
    "summarize_results(results)"
   ]
  },
  {
   "cell_type": "markdown",
   "id": "685135dd",
   "metadata": {},
   "source": [
    "Because `isfirst` is a boolean, `ols` treats it as a **categorical variable**, which means that the values fall into categories, like True and False, and should not be treated as numbers.\n",
    "The estimated parameter is the effect on birth weight when `isfirst` is true, so the result, -0.125 lbs, is the difference in birth weight between first babies and others.\n",
    "\n",
    "The slope and the intercept are statistically significant, which means that they were unlikely to occur by chance, but the the $R^2$ value for this model is small, which means that `isfirst` doesn't account for a substantial part of the variation in birth weight.\n",
    "\n",
    "The results are similar with `agepreg`:"
   ]
  },
  {
   "cell_type": "code",
   "execution_count": 18,
   "id": "94342965",
   "metadata": {},
   "outputs": [],
   "source": [
    "formula = \"totalwgt_lb ~ agepreg\"\n",
    "results = smf.ols(formula, data=live).fit()\n",
    "summarize_results(results)"
   ]
  },
  {
   "cell_type": "markdown",
   "id": "c8f8338b",
   "metadata": {},
   "source": [
    "Again, the parameters are statistically significant, but $R^2$ is low.\n",
    "\n",
    "These models confirm results we have already seen.\n",
    "But now we can fit a single model that includes both variables.\n",
    "With the formula `totalwgt_lb ~ isfirst + agepreg`, we get:"
   ]
  },
  {
   "cell_type": "code",
   "execution_count": 19,
   "id": "84a9be8b",
   "metadata": {},
   "outputs": [],
   "source": [
    "formula = \"totalwgt_lb ~ isfirst + agepreg\"\n",
    "results = smf.ols(formula, data=live).fit()\n",
    "summarize_results(results)"
   ]
  },
  {
   "cell_type": "markdown",
   "id": "fff711b6",
   "metadata": {},
   "source": [
    "In the combined model, the parameter for `isfirst` is smaller by about half, which means that part of the apparent effect of `isfirst` is actually accounted for by `agepreg`.\n",
    "And the p-value for `isfirst` is about 2.5%, which is on the border of statistical significance.\n",
    "\n",
    "$R^2$ for this model is a little higher, which indicates that the two variables together account for more variation in birth weight than either alone (but not by much)."
   ]
  },
  {
   "cell_type": "markdown",
   "id": "aa7fd6f7",
   "metadata": {},
   "source": [
    "## Nonlinear relationships\n",
    "\n",
    "Remembering that the contribution of `agepreg` might be nonlinear, we might consider adding a variable to capture more of this relationship.\n",
    "One option is to create a column, `agepreg2`, that contains the squares of the ages:"
   ]
  },
  {
   "cell_type": "code",
   "execution_count": 20,
   "id": "7fe0861a",
   "metadata": {},
   "outputs": [],
   "source": [
    "live[\"agepreg2\"] = live.agepreg**2\n",
    "formula = \"totalwgt_lb ~ isfirst + agepreg + agepreg2\"\n",
    "results = smf.ols(formula, data=live).fit()"
   ]
  },
  {
   "cell_type": "markdown",
   "id": "49cd90c0",
   "metadata": {},
   "source": [
    "Now by estimating parameters for `agepreg` and `agepreg2`, we are effectively fitting a parabola:"
   ]
  },
  {
   "cell_type": "code",
   "execution_count": 21,
   "id": "e31ed85c",
   "metadata": {},
   "outputs": [],
   "source": [
    "summarize_results(results)"
   ]
  },
  {
   "cell_type": "markdown",
   "id": "938c9f8b",
   "metadata": {},
   "source": [
    "The parameter of `agepreg2` is negative, so the parabola curves downward, which is consistent with the shape of the lines in Figure [\\[linear2\\]](#linear2){reference-type=\"ref\" reference=\"linear2\"}.\n",
    "\n",
    "The quadratic model of `agepreg` accounts for more of the variability in birth weight; the parameter for `isfirst` is smaller in this model, and no longer statistically significant.\n",
    "\n",
    "Using computed variables like `agepreg2` is a common way to fit polynomials and other functions to data.\n",
    "This process is still considered linear regression, because the dependent variable is a linear function of the explanatory variables, regardless of whether some variables are nonlinear functions of others.\n",
    "\n",
    "The following table summarizes the results of these regressions:\n",
    "\n",
    " center      isfirst    agepreg agepreg2 $R^2$   --------- ----------------- ----------- ------------- --------   Model 1   -0.125 \\*     --   --    0.002   Model 2  --  0.0175 \\*   --    0.0047   Model 3    -0.0698 (0.025)   0.0154 \\*   --    0.0053   Model 4    -0.0504 (0.11)    0.112 \\*    -0.00185 \\*   0.0075\n",
    "\n",
    "\n",
    "The columns in this table are the explanatory variables and the coefficient of determination, $R^2$.\n",
    "Each entry is an estimated parameter and either a p-value in parentheses or an asterisk to indicate a p-value less that 0.001.\n",
    "\n",
    "We conclude that the apparent difference in birth weight is explained, at least in part, by the difference in mother's age.\n",
    "When we include mother's age in the model, the effect of `isfirst` gets smaller, and the remaining effect might be due to chance.\n",
    "\n",
    "In this example, mother's age acts as a **control variable**; including `agepreg` in the model \"controls for\" the difference in age between first-time mothers and others, making it possible to isolate the effect (if any) of `isfirst`."
   ]
  },
  {
   "cell_type": "markdown",
   "id": "c3e615b9",
   "metadata": {},
   "source": [
    "## Data mining\n",
    "\n",
    "So far we have used regression models for explanation; for example, in the previous section we discovered that an apparent difference in birth weight is actually due to a difference in mother's age.\n",
    "But the $R^2$ values of those models is very low, which means that they have little predictive power.\n",
    "In this section we'll try to do better.\n",
    "\n",
    "Suppose one of your co-workers is expecting a baby and there is an office pool to guess the baby's birth weight (if you are not familiar with betting pools, see <https://en.wikipedia.org/wiki/Betting_pool>).\n",
    "\n",
    "Now suppose that you *really* want to win the pool.\n",
    "What could you do to improve your chances? Well, the NSFG dataset includes 244 variables about each pregnancy and another 3087 variables about each respondent.\n",
    "Maybe some of those variables have predictive power.\n",
    "To find out which ones are most useful, why not try them all?\n",
    "\n",
    "Testing the variables in the pregnancy table is easy, but in order to use the variables in the respondent table, we have to match up each pregnancy with a respondent.\n",
    "In theory we could iterate through the rows of the pregnancy table, use the `caseid` to find the corresponding respondent, and copy the values from the correspondent table into the pregnancy table.\n",
    "But that would be slow.\n",
    "\n",
    "A better option is to recognize this process as a **join** operation as defined in SQL and other relational database languages (see <https://en.wikipedia.org/wiki/Join_(SQL)>).\n",
    "Join is implemented as a `DataFrame` method, so we can perform the operation like this:"
   ]
  },
  {
   "cell_type": "code",
   "execution_count": 22,
   "id": "8111dfde",
   "metadata": {},
   "outputs": [],
   "source": [
    "download(\"https://github.com/AllenDowney/ThinkStats/raw/v3/data/2002FemResp.dct\")\n",
    "download(\"https://github.com/AllenDowney/ThinkStats/raw/v3/data/2002FemResp.dat.gz\")"
   ]
  },
  {
   "cell_type": "code",
   "execution_count": 23,
   "id": "b574ccab",
   "metadata": {},
   "outputs": [],
   "source": [
    "import nsfg\n",
    "\n",
    "live = live[live.prglngth > 30]\n",
    "resp = nsfg.read_fem_resp()"
   ]
  },
  {
   "cell_type": "code",
   "execution_count": 24,
   "id": "b351e6ac",
   "metadata": {},
   "outputs": [],
   "source": [
    "resp.index = resp.caseid\n",
    "join = live.join(resp, on=\"caseid\", rsuffix=\"_r\")"
   ]
  },
  {
   "cell_type": "markdown",
   "id": "54979cf1",
   "metadata": {},
   "source": [
    "The first line selects records for pregnancies longer than 30 weeks, assuming that the office pool is formed several weeks before the due date.\n",
    "\n",
    "The next line reads the respondent file.\n",
    "The result is a `DataFrame` with integer indices; in order to look up respondents efficiently, I replace `resp.index` with `resp.caseid`.\n",
    "\n",
    "The `join` method is invoked on `live`, which is considered the \"left\" table, and passed `resp`, which is the \"right\" table.\n",
    "The keyword argument `on` indicates the variable used to match up rows from the two tables.\n",
    "\n",
    "In this example some column names appear in both tables, so we have to provide `rsuffix`, which is a string that will be appended to the names of overlapping columns from the right table.\n",
    "For example, both tables have a column named `race` that encodes the race of the respondent.\n",
    "The result of the join contains two columns named `race` and `race_r`.\n",
    "\n",
    "The Pandas implementation is fast.\n",
    "Joining the NSFG tables takes less than a second on an ordinary desktop computer.\n",
    "Now we can start testing variables."
   ]
  },
  {
   "cell_type": "code",
   "execution_count": 25,
   "id": "956efb90",
   "metadata": {},
   "outputs": [],
   "source": [
    "t = []\n",
    "for name in join.columns:\n",
    "    try:\n",
    "        if join[name].var() < 1e-07:\n",
    "            continue\n",
    "        formula = \"totalwgt_lb ~ agepreg + \" + name\n",
    "        model = smf.ols(formula, data=join)\n",
    "        if model.nobs < len(join) / 2:\n",
    "            continue\n",
    "        results = model.fit()\n",
    "    except (ValueError, TypeError):\n",
    "        continue\n",
    "    t.append((results.rsquared, name))"
   ]
  },
  {
   "cell_type": "code",
   "execution_count": 26,
   "id": "5b31aea4",
   "metadata": {},
   "outputs": [],
   "source": [
    "import pandas as pd\n",
    "\n",
    "columns = [\"$R^2$\", \"column\"]\n",
    "df = pd.DataFrame(t, columns=columns)\n",
    "df.sort_values(by=\"$R^2$\", ascending=False).head(10)"
   ]
  },
  {
   "cell_type": "markdown",
   "id": "3f4c3ce4",
   "metadata": {},
   "source": [
    "For each variable we construct a model, compute $R^2$, and append the results to a list.\n",
    "The models all include `agepreg`, since we already know that it has some predictive power.\n",
    "\n",
    "I check that each explanatory variable has some variability; otherwise the results of the regression are unreliable.\n",
    "I also check the number of observations for each model.\n",
    "Variables that contain a large number of `nan`s are not good candidates for prediction.\n",
    "\n",
    "For most of these variables, we haven't done any cleaning.\n",
    "Some of them are encoded in ways that don't work very well for linear regression.\n",
    "As a result, we might overlook some variables that would be useful if they were cleaned properly.\n",
    "But maybe we will find some good candidates."
   ]
  },
  {
   "cell_type": "markdown",
   "id": "77fb18b7",
   "metadata": {},
   "source": [
    "## Prediction\n",
    "\n",
    "The next step is to sort the results and select the variables that yield the highest values of $R^2$."
   ]
  },
  {
   "cell_type": "code",
   "execution_count": 27,
   "id": "2a5d7894",
   "metadata": {},
   "outputs": [],
   "source": [
    "from thinkstats import read_stata_dct\n",
    "\n",
    "\n",
    "def read_variables():\n",
    "    \"\"\"Reads Stata dictionary files for NSFG data.\n",
    "\n",
    "    returns: DataFrame that maps variables names to descriptions\n",
    "    \"\"\"\n",
    "    vars1 = read_stata_dct(\"2002FemPreg.dct\").variables\n",
    "    vars2 = read_stata_dct(\"2002FemResp.dct\").variables\n",
    "    all_vars = pd.concat([vars1, vars2])\n",
    "    all_vars.index = all_vars.name\n",
    "    return all_vars"
   ]
  },
  {
   "cell_type": "code",
   "execution_count": 28,
   "id": "5751b1cc",
   "metadata": {},
   "outputs": [],
   "source": [
    "import re\n",
    "\n",
    "\n",
    "def mining_report(variables, n=10):\n",
    "    \"\"\"Prints variables with the highest R^2.\n",
    "\n",
    "    t: list of (R^2, variable name) pairs\n",
    "    n: number of pairs to print\n",
    "    \"\"\"\n",
    "    all_vars = read_variables()\n",
    "    variables.sort(reverse=True)\n",
    "\n",
    "    for r2, name in variables[:n]:\n",
    "        key = re.sub(\"_r$\", \"\", name)\n",
    "        try:\n",
    "            desc = all_vars.loc[key].desc\n",
    "            if isinstance(desc, pd.Series):\n",
    "                desc = desc.iloc[0]\n",
    "        except (KeyError, IndexError):\n",
    "            desc = ''\n",
    "        print(f'{r2:.3}\\t{name:10}\\t{desc}')\n"
   ]
  },
  {
   "cell_type": "code",
   "execution_count": 29,
   "id": "5d08068c",
   "metadata": {},
   "outputs": [],
   "source": [
    "mining_report(t, 20)"
   ]
  },
  {
   "cell_type": "markdown",
   "id": "7dcaaf4a",
   "metadata": {},
   "source": [
    "The first variable on the list is `totalwgt_lb`, followed by `birthwgt_lb`.\n",
    "Obviously, we can't use birth weight to predict birth weight.\n",
    "\n",
    "Similarly `prglngth` has useful predictive power, but for the office pool we assume pregnancy length (and the related variables) are not known yet.\n",
    "\n",
    "The first useful predictive variable is `babysex` which indicates whether the baby is male or female.\n",
    "In the NSFG dataset, boys are about 0.3 lbs heavier.\n",
    "So, assuming that the sex of the baby is known, we can use it for prediction.\n",
    "\n",
    "Next is `race`, which indicates whether the respondent is white, black, or other.\n",
    "As an explanatory variable, race can be problematic.\n",
    "In datasets like the NSFG, race is correlated with many other variables, including income and other socioeconomic factors.\n",
    "In a regression model, race acts as a **proxy variable**, so apparent correlations with race are often caused, at least in part, by other factors."
   ]
  },
  {
   "cell_type": "markdown",
   "id": "67b97744",
   "metadata": {},
   "source": [
    "The next variable on the list is `nbrnaliv`, which indicates whether the pregnancy yielded multiple births.\n",
    "Twins and triplets tend to be smaller than other babies, so if we know whether our hypothetical co-worker is expecting twins, that would help.\n",
    "\n",
    "Next on the list is `paydu`, which indicates whether the respondent owns her home.\n",
    "It is one of several income-related variables that turn out to be predictive.\n",
    "In datasets like the NSFG, income and wealth are correlated with just about everything.\n",
    "In this example, income is related to diet, health, health care, and other factors likely to affect birth weight.\n",
    "\n",
    "Some of the other variables on the list are things that would not be known until later, like `bfeedwks`, the number of weeks the baby was breast fed.\n",
    "We can't use these variables for prediction, but you might want to speculate on reasons `bfeedwks` might be correlated with birth weight."
   ]
  },
  {
   "cell_type": "markdown",
   "id": "9a4de56a",
   "metadata": {},
   "source": [
    "Sometimes you start with a theory and use data to test it. Other times you start with data and go looking for possible theories.\n",
    "The second approach, which this section demonstrates, is called **data mining**.\n",
    "An advantage of data mining is that it can discover unexpected patterns.\n",
    "A hazard is that many of the patterns it discovers are either random or spurious.\n",
    "\n",
    "Having identified potential explanatory variables, I tested a few models and settled on this one:"
   ]
  },
  {
   "cell_type": "code",
   "execution_count": 30,
   "id": "c5d4fc32",
   "metadata": {},
   "outputs": [],
   "source": [
    "formula = (\n",
    "    \"totalwgt_lb ~ agepreg + C(race) + babysex==1 + nbrnaliv>1 + paydu==1 + totincr\"\n",
    ")\n",
    "results = smf.ols(formula, data=join).fit()"
   ]
  },
  {
   "cell_type": "markdown",
   "id": "8ed528d6",
   "metadata": {},
   "source": [
    "This formula uses some syntax we have not seen yet: `C(race)` tells the formula parser (Patsy) to treat race as a categorical variable, even though it is encoded numerically.\n",
    "\n",
    "The encoding for `babysex` is 1 for male, 2 for female; writing `babysex==1` converts it to boolean, True for male and false for female.\n",
    "\n",
    "Similarly `nbrnaliv>1` is True for multiple births and `paydu==1` is True for respondents who own their houses.\n",
    "\n",
    "`totincr` is encoded numerically from 1-14, with each increment representing about \\$5000 in annual income.\n",
    "\n",
    "So we can treat these values as numerical, expressed in units of \\$5000.\n",
    "\n",
    "Here are the results of the model:"
   ]
  },
  {
   "cell_type": "code",
   "execution_count": 31,
   "id": "3e76ab37",
   "metadata": {},
   "outputs": [],
   "source": [
    "summarize_results(results)"
   ]
  },
  {
   "cell_type": "markdown",
   "id": "c51b33cf",
   "metadata": {},
   "source": [
    "The estimated parameters for race are larger than I expected, especially since we control for income.\n",
    "The encoding is 1 for black, 2 for white, and 3 for other.\n",
    "Babies of black mothers are lighter than babies of other races by 0.27--0.36 lbs.\n",
    "\n",
    "As we've already seen, boys are heavier by about 0.3 lbs; twins and other multiplets are lighter by 1.4 lbs.\n",
    "\n",
    "People who own their homes have heavier babies by about 0.12 lbs, even when we control for income.\n",
    "The parameter for mother's age is smaller than what we saw in Section [\\[multiple\\]](#multiple){reference-type=\"ref\" reference=\"multiple\"}, which suggests that some of the other variables are correlated with age, probably including `paydu` and `totincr`."
   ]
  },
  {
   "cell_type": "markdown",
   "id": "d8f9b307",
   "metadata": {},
   "source": [
    "All of these variables are statistically significant, some with very low p-values, but $R^2$ is only 0.06, still quite small.\n",
    "RMSE without using the model is 1.27 lbs; with the model it drops to 1.23. So your chance of winning the pool is not substantially improved.\n",
    "Sorry!"
   ]
  },
  {
   "cell_type": "markdown",
   "id": "7e3a27da",
   "metadata": {},
   "source": [
    "## Logistic regression\n",
    "\n",
    "In the previous examples, some of the explanatory variables were numerical and some categorical (including boolean).\n",
    "But the dependent variable was always numerical.\n",
    "\n",
    "Linear regression can be generalized to handle other kinds of dependent variables.\n",
    "If the dependent variable is boolean, the generalized model is called **logistic regression**.\n",
    "If the dependent variable is an integer count, it's called **Poisson regression**.\n",
    "\n",
    "As an example of logistic regression, let's consider a variation on the office pool scenario.\n",
    "Suppose a friend of yours is pregnant and you want to predict whether the baby is a boy or a girl.\n",
    "You could use data from the NSFG to find factors that affect the \"sex ratio\", which is conventionally defined to be the probability of having a boy.\n",
    "\n",
    "If you encode the dependent variable numerically, for example 0 for a girl and 1 for a boy, you could apply ordinary least squares, but there would be problems.\n",
    "The linear model might be something like this: $$y = \\beta_0 + \\beta_1 x_1 + \\beta_2 x_2 + \\eps$$ Where $y$ is the dependent variable, and $x_1$ and $x_2$ are explanatory variables.\n",
    "Then we could find the parameters that minimize the residuals.\n",
    "\n",
    "The problem with this approach is that it produces predictions that are hard to interpret.\n",
    "Given estimated parameters and values for $x_1$ and $x_2$, the model might predict $y=0.5$, but the only meaningful values of $y$ are 0 and 1.\n",
    "\n",
    "It is tempting to interpret a result like that as a probability; for example, we might say that a respondent with particular values of $x_1$ and $x_2$ has a 50% chance of having a boy.\n",
    "But it is also possible for this model to predict $y=1.1$ or $y=-0.1$, and those are not valid probabilities."
   ]
  },
  {
   "cell_type": "markdown",
   "id": "546b65f1",
   "metadata": {},
   "source": [
    "Logistic regression avoids this problem by expressing predictions in terms of **odds** rather than probabilities.\n",
    "If you are not familiar with odds, \"odds in favor\" of an event is the ratio of the probability it will occur to the probability that it will not.\n",
    "\n",
    "So if I think my team has a 75% chance of winning, I would say that the odds in their favor are three to one, because the chance of winning is three times the chance of losing.\n",
    "\n",
    "Odds and probabilities are different representations of the same information.\n",
    "Given a probability, you can compute the odds like this:"
   ]
  },
  {
   "cell_type": "code",
   "execution_count": 32,
   "id": "24aeac58",
   "metadata": {},
   "outputs": [],
   "source": [
    "p = 0.75\n",
    "o = p / (1 - p)\n",
    "o"
   ]
  },
  {
   "cell_type": "markdown",
   "id": "4b974b95",
   "metadata": {},
   "source": [
    "Given odds in favor, you can convert to probability like this:"
   ]
  },
  {
   "cell_type": "code",
   "execution_count": 33,
   "id": "d3feb5fd",
   "metadata": {},
   "outputs": [],
   "source": [
    "p = o / (o + 1)\n",
    "p"
   ]
  },
  {
   "cell_type": "markdown",
   "id": "a60864fb",
   "metadata": {},
   "source": [
    "Logistic regression is based on the following model: $$\\log o = \\beta_0 + \\beta_1 x_1 + \\beta_2 x_2 + \\epsilon$$ Where $o$ is the odds in favor of a particular outcome; in the example, $o$ would be the odds of having a boy.\n",
    "\n",
    "Suppose we have estimated the parameters $\\beta_0$, $\\beta_1$, and $\\beta_2$ (I'll explain how in a minute).\n",
    "And suppose we are given values for $x_1$ and $x_2$.\n",
    "We can compute the predicted value of $\\log o$, and then convert to a probability:"
   ]
  },
  {
   "cell_type": "code",
   "execution_count": 34,
   "id": "d0ef6360",
   "metadata": {},
   "outputs": [],
   "source": [
    "log_o = np.log(o)\n",
    "o = np.exp(log_o)\n",
    "p = o / (o + 1)\n",
    "p"
   ]
  },
  {
   "cell_type": "markdown",
   "id": "fe956fa2",
   "metadata": {},
   "source": [
    "So in the office pool scenario we could compute the predictive probability of having a boy.\n",
    "But how do we estimate the parameters?"
   ]
  },
  {
   "cell_type": "markdown",
   "id": "5ddd8097",
   "metadata": {},
   "source": [
    "## Estimating parameters\n",
    "\n",
    "Unlike linear regression, logistic regression does not have a closed form solution, so it is solved by guessing an initial solution and improving it iteratively.\n",
    "\n",
    "The usual goal is to find the maximum-likelihood estimate (MLE), which is the set of parameters that maximizes the likelihood of the data.\n",
    "For example, suppose we have the following data:"
   ]
  },
  {
   "cell_type": "code",
   "execution_count": 35,
   "id": "b8c30564",
   "metadata": {},
   "outputs": [],
   "source": [
    "y = np.array([0, 1, 0, 1])\n",
    "x1 = np.array([0, 0, 0, 1])\n",
    "x2 = np.array([0, 1, 1, 1])"
   ]
  },
  {
   "cell_type": "markdown",
   "id": "573c6bec",
   "metadata": {},
   "source": [
    "And we start with the initial guesses $\\beta_0=-1.5$, $\\beta_1=2.8$, and $\\beta_2=1.1$:"
   ]
  },
  {
   "cell_type": "code",
   "execution_count": 36,
   "id": "a1371c94",
   "metadata": {},
   "outputs": [],
   "source": [
    "beta = [-1.5, 2.8, 1.1]"
   ]
  },
  {
   "cell_type": "markdown",
   "id": "ce45ddb7",
   "metadata": {},
   "source": [
    "Then for each row we can compute `log_o`:"
   ]
  },
  {
   "cell_type": "code",
   "execution_count": 37,
   "id": "17255ecc",
   "metadata": {},
   "outputs": [],
   "source": [
    "log_o = beta[0] + beta[1] * x1 + beta[2] * x2\n",
    "log_o"
   ]
  },
  {
   "cell_type": "markdown",
   "id": "595bb451",
   "metadata": {},
   "source": [
    "And convert from log odds to probabilities:"
   ]
  },
  {
   "cell_type": "code",
   "execution_count": 38,
   "id": "75642e08",
   "metadata": {},
   "outputs": [],
   "source": [
    "o = np.exp(log_o)"
   ]
  },
  {
   "cell_type": "code",
   "execution_count": 39,
   "id": "ed010cba",
   "metadata": {},
   "outputs": [],
   "source": [
    "p = o / (o + 1)"
   ]
  },
  {
   "cell_type": "markdown",
   "id": "c7ef1a31",
   "metadata": {},
   "source": [
    "Notice that when `log_o` is greater than 0, `o` is greater than 1 and `p` is greater than 0.5.\n",
    "\n",
    "The likelihood of an outcome is `p` when `y==1` and `1-p` when `y==0`.\n",
    "For example, if we think the probability of a boy is 0.8 and the outcome is a boy, the likelihood is 0.8; if the outcome is a girl, the likelihood is 0.2. We can compute that like this:"
   ]
  },
  {
   "cell_type": "code",
   "execution_count": 40,
   "id": "e7c7357f",
   "metadata": {},
   "outputs": [],
   "source": [
    "likes = y * p + (1 - y) * (1 - p)"
   ]
  },
  {
   "cell_type": "markdown",
   "id": "6cd83085",
   "metadata": {},
   "source": [
    "The overall likelihood of the data is the product of `likes`:"
   ]
  },
  {
   "cell_type": "code",
   "execution_count": 41,
   "id": "b05e93f1",
   "metadata": {},
   "outputs": [],
   "source": [
    "like = np.prod(likes)\n",
    "like"
   ]
  },
  {
   "cell_type": "markdown",
   "id": "459ec91b",
   "metadata": {},
   "source": [
    "For these values of `beta`, the likelihood of the data is 0.18. The goal of logistic regression is to find parameters that maximize this likelihood.\n",
    "To do that, most statistics packages use an iterative solver like Newton's method (see <https://en.wikipedia.org/wiki/Logistic_regression#Model_fitting>)."
   ]
  },
  {
   "cell_type": "markdown",
   "id": "279304ea",
   "metadata": {},
   "source": [
    "## Implementation\n",
    "\n",
    "StatsModels provides an implementation of logistic regression called `logit`, named for the function that converts from probability to log odds.\n",
    "To demonstrate its use, I'll look for variables that affect the sex ratio.\n",
    "\n",
    "Again, I load the NSFG data and select pregnancies longer than 30 weeks:"
   ]
  },
  {
   "cell_type": "code",
   "execution_count": 42,
   "id": "785b5340",
   "metadata": {},
   "outputs": [],
   "source": [
    "live = live[live.prglngth > 30]"
   ]
  },
  {
   "cell_type": "markdown",
   "id": "1861b45d",
   "metadata": {},
   "source": [
    "`logit` requires the dependent variable to be binary (rather than boolean), so I create a new column named `boy`, using `astype(int)` to convert to binary integers:"
   ]
  },
  {
   "cell_type": "code",
   "execution_count": 43,
   "id": "7f27f727",
   "metadata": {},
   "outputs": [],
   "source": [
    "live[\"boy\"] = (live.babysex == 1).astype(int)\n",
    "live.shape"
   ]
  },
  {
   "cell_type": "markdown",
   "id": "6b4b72aa",
   "metadata": {},
   "source": [
    "Factors that have been found to affect sex ratio include parents' age, birth order, race, and social status.\n",
    "We can use logistic regression to see if these effects appear in the NSFG data.\n",
    "I'll start with the mother's age:"
   ]
  },
  {
   "cell_type": "code",
   "execution_count": 44,
   "id": "f89cfc31",
   "metadata": {},
   "outputs": [],
   "source": [
    "model = smf.logit(\"boy ~ agepreg\", data=live)\n",
    "results = model.fit()"
   ]
  },
  {
   "cell_type": "markdown",
   "id": "1f1b1af6",
   "metadata": {},
   "source": [
    "`logit` takes the same arguments as `ols`, a formula in Patsy syntax and a `DataFrame`.\n",
    "The result is a Logit object that represents the model."
   ]
  },
  {
   "cell_type": "markdown",
   "id": "097eada9",
   "metadata": {},
   "source": [
    "The result of `model.fit` is a BinaryResults object, which is similar to the RegressionResults object we got from `ols`.\n",
    "Here is a summary of the results:"
   ]
  },
  {
   "cell_type": "code",
   "execution_count": 45,
   "id": "c5b0d5d3",
   "metadata": {},
   "outputs": [],
   "source": [
    "summarize_results(results)"
   ]
  },
  {
   "cell_type": "markdown",
   "id": "4b0f5a06",
   "metadata": {},
   "source": [
    "The parameter of `agepreg` is positive, which suggests that older mothers are more likely to have boys, but the p-value is 0.783, which means that the apparent effect could easily be due to chance.\n",
    "\n",
    "The coefficient of determination, $R^2$, does not apply to logistic regression, but there are several alternatives that are used as \"pseudo $R^2$ values.\" These values can be useful for comparing models.\n",
    "For example, here's a model that includes several factors believed to be associated with sex ratio:"
   ]
  },
  {
   "cell_type": "code",
   "execution_count": 46,
   "id": "399c5393",
   "metadata": {},
   "outputs": [],
   "source": [
    "formula = \"boy ~ agepreg + hpagelb + birthord + C(race)\"\n",
    "model = smf.logit(formula, data=live)\n",
    "results = model.fit()"
   ]
  },
  {
   "cell_type": "markdown",
   "id": "b8dfa627",
   "metadata": {},
   "source": [
    "Along with mother's age, this model includes father's age at birth (`hpagelb`), birth order (`birthord`), and race as a categorical variable.\n",
    "Here are the results:"
   ]
  },
  {
   "cell_type": "code",
   "execution_count": 47,
   "id": "b29faac2",
   "metadata": {},
   "outputs": [],
   "source": [
    "summarize_results(results)"
   ]
  },
  {
   "cell_type": "markdown",
   "id": "2c5116e1",
   "metadata": {},
   "source": [
    "None of the estimated parameters are statistically significant.\n",
    "The pseudo-$R^2$ value is a little higher, but that could be due to chance."
   ]
  },
  {
   "cell_type": "markdown",
   "id": "b5e69215",
   "metadata": {},
   "source": [
    "## Accuracy\n",
    "\n",
    "In the office pool scenario, we are most interested in the accuracy of the model: the number of successful predictions, compared with what we would expect by chance.\n",
    "\n",
    "In the NSFG data, there are more boys than girls, so the baseline strategy is to guess \"boy\" every time."
   ]
  },
  {
   "cell_type": "markdown",
   "id": "7ddb47d3",
   "metadata": {},
   "source": [
    "The model contains attributes called `endog` and `exog` that contain the **endogenous variable**, another name for the dependent variable, and the **exogenous variables**, another name for the explanatory variables.\n",
    "Since they are NumPy arrays, it is sometimes convenient to convert them to `DataFrame`s:"
   ]
  },
  {
   "cell_type": "code",
   "execution_count": 48,
   "id": "f8210b20",
   "metadata": {},
   "outputs": [],
   "source": [
    "endog = pd.DataFrame(model.endog, columns=[model.endog_names])\n",
    "exog = pd.DataFrame(model.exog, columns=model.exog_names)"
   ]
  },
  {
   "cell_type": "markdown",
   "id": "1ef8ce69",
   "metadata": {},
   "source": [
    "The accuracy of this strategy is just the fraction of boys:"
   ]
  },
  {
   "cell_type": "code",
   "execution_count": 49,
   "id": "80148060",
   "metadata": {},
   "outputs": [],
   "source": [
    "actual = endog[\"boy\"]\n",
    "actual.shape"
   ]
  },
  {
   "cell_type": "code",
   "execution_count": 50,
   "id": "7cb8dc3f",
   "metadata": {},
   "outputs": [],
   "source": [
    "baseline = actual.mean()\n",
    "baseline"
   ]
  },
  {
   "cell_type": "markdown",
   "id": "72d583cb",
   "metadata": {},
   "source": [
    "Since `actual` is encoded in binary integers, the mean is the fraction of boys, which is 0.507.\n",
    "\n",
    "Here's how we compute the accuracy of the model:"
   ]
  },
  {
   "cell_type": "code",
   "execution_count": 51,
   "id": "59dd28ea",
   "metadata": {},
   "outputs": [],
   "source": [
    "predict = results.predict() >= 0.5"
   ]
  },
  {
   "cell_type": "code",
   "execution_count": 52,
   "id": "0b6b5343",
   "metadata": {},
   "outputs": [],
   "source": [
    "true_pos = predict * actual\n",
    "true_pos.sum()"
   ]
  },
  {
   "cell_type": "code",
   "execution_count": 53,
   "id": "a1d2e9a3",
   "metadata": {},
   "outputs": [],
   "source": [
    "true_neg = (1 - predict) * (1 - actual)\n",
    "true_neg.sum()"
   ]
  },
  {
   "cell_type": "markdown",
   "id": "22de46d8",
   "metadata": {},
   "source": [
    "`results.predict` returns a NumPy array of probabilities, which we round off to 0 or 1. Multiplying by `actual` yields 1 if we predict a boy and get it right, 0 otherwise.\n",
    "So, `true_pos` indicates \"true positives\".\n",
    "\n",
    "Similarly, `true_neg` indicates the cases where we guess \"girl\" and get it right.\n",
    "Accuracy is the fraction of correct guesses:"
   ]
  },
  {
   "cell_type": "code",
   "execution_count": 54,
   "id": "5ccd35a7",
   "metadata": {},
   "outputs": [],
   "source": [
    "acc = (sum(true_pos) + sum(true_neg)) / len(actual)\n",
    "acc"
   ]
  },
  {
   "cell_type": "markdown",
   "id": "b6a5b8d0",
   "metadata": {},
   "source": [
    "The result is 0.512, slightly better than the baseline, 0.507.\n",
    "But, you should not take this result too seriously.\n",
    "We used the same data to build and test the model, so the model may not have predictive power on new data.\n",
    "\n",
    "Nevertheless, let's use the model to make a prediction for the office pool.\n",
    "Suppose your friend is 35 years old and white, her husband is 39, and they are expecting their third child:"
   ]
  },
  {
   "cell_type": "code",
   "execution_count": 55,
   "id": "08f93a7d",
   "metadata": {},
   "outputs": [],
   "source": [
    "columns = [\"agepreg\", \"hpagelb\", \"birthord\", \"race\"]\n",
    "new = pd.DataFrame([[35, 39, 3, 2]], columns=columns)\n",
    "y = results.predict(new)\n",
    "y.mean()"
   ]
  },
  {
   "cell_type": "markdown",
   "id": "eca4ddc3",
   "metadata": {},
   "source": [
    "To invoke `results.predict` for a new case, you have to construct a `DataFrame` with a column for each variable in the model.\n",
    "The result in this case is 0.52, so you should guess \"boy.\" But if the model improves your chances of winning, the difference is very small."
   ]
  },
  {
   "cell_type": "markdown",
   "id": "e0a3487c",
   "metadata": {},
   "source": [
    "## Glossary\n",
    "\n",
    "-   **regression**: One of several related processes for estimating parameters that fit a model to data.\n",
    "\n",
    "-   **dependent variables**: The variables in a regression model we would like to predict.\n",
    "Also known as endogenous variables.\n",
    "\n",
    "-   **explanatory variables**: The variables used to predict or explain the dependent variables.\n",
    "Also known as independent, or exogenous, variables.\n",
    "\n",
    "-   **simple regression**: A regression with only one dependent and one explanatory variable.\n",
    "\n",
    "-   **multiple regression**: A regression with multiple explanatory variables, but only one dependent variable.\n",
    "\n",
    "-   **linear regression**: A regression based on a linear model.\n",
    "\n",
    "-   **ordinary least squares**: A linear regression that estimates parameters by minimizing the squared error of the residuals.\n",
    "\n",
    "-   **spurious relationship**: A relationship between two variables that is caused by a statistical artifact or a factor, not included in the model, that is related to both variables.\n",
    "\n",
    "-   **control variable**: A variable included in a regression to eliminate or \"control for\" a spurious relationship.\n",
    "\n",
    "-   **proxy variable**: A variable that contributes information to a regression model indirectly because of a relationship with another factor, so it acts as a proxy for that factor.\n",
    "\n",
    "-   **categorical variable**: A variable that can have one of a discrete set of unordered values.\n",
    "\n",
    "-   **join**: An operation that combines data from two `DataFrame`s using a key to match up rows in the two frames.\n",
    "\n",
    "-   **data mining**: An approach to finding relationships between variables by testing a large number of models.\n",
    "\n",
    "-   **logistic regression**: A form of regression used when the dependent variable is boolean.\n",
    "\n",
    "-   **Poisson regression**: A form of regression used when the dependent variable is a non-negative integer, usually a count.\n",
    "\n",
    "-   **odds**: An alternative way of representing a probability, $p$, as the ratio of the probability and its complement, $p / (1-p)$."
   ]
  },
  {
   "cell_type": "markdown",
   "id": "5e334137",
   "metadata": {
    "collapsed": true
   },
   "source": [
    "## Exercises"
   ]
  },
  {
   "cell_type": "markdown",
   "id": "0fe41625",
   "metadata": {
    "collapsed": true
   },
   "source": [
    "**Exercise:** Suppose one of your co-workers is expecting a baby and you are participating in an office pool to predict the date of birth.\n",
    "Assuming that bets are placed during the 30th week of pregnancy, what variables could you use to make the best prediction? You should limit yourself to variables that are known before the birth, and likely to be available to the people in the pool."
   ]
  },
  {
   "cell_type": "code",
   "execution_count": 56,
   "id": "36e5ea85",
   "metadata": {},
   "outputs": [],
   "source": [
    "import nsfg\n",
    "\n",
    "live, firsts, others = nsfg.make_frames()\n",
    "live = live[live.prglngth > 30]"
   ]
  },
  {
   "cell_type": "code",
   "execution_count": 57,
   "id": "363434ec",
   "metadata": {},
   "outputs": [],
   "source": [
    "# Solution goes here"
   ]
  },
  {
   "cell_type": "markdown",
   "id": "ea22658b",
   "metadata": {},
   "source": [
    "**Exercise:** The Trivers-Willard hypothesis suggests that for many mammals the sex ratio depends on “maternal condition”; that is, factors like the mother’s age, size, health, and social status.\n",
    "See https://en.wikipedia.org/wiki/Trivers-Willard_hypothesis\n",
    "\n",
    "Some studies have shown this effect among humans, but results are mixed.\n",
    "In this chapter we tested some variables related to these factors, but didn’t find any with a statistically significant effect on sex ratio.\n",
    "\n",
    "As an exercise, use a data mining approach to test the other variables in the pregnancy and respondent files.\n",
    "Can you find any factors with a substantial effect?"
   ]
  },
  {
   "cell_type": "code",
   "execution_count": 58,
   "id": "ca0a00d4",
   "metadata": {},
   "outputs": [],
   "source": [
    "# Solution goes here"
   ]
  },
  {
   "cell_type": "code",
   "execution_count": 59,
   "id": "44f0eef3",
   "metadata": {},
   "outputs": [],
   "source": [
    "mining_report(variables)"
   ]
  },
  {
   "cell_type": "code",
   "execution_count": 60,
   "id": "6d2ed94e",
   "metadata": {},
   "outputs": [],
   "source": [
    "# Solution goes here"
   ]
  },
  {
   "cell_type": "markdown",
   "id": "b22696a2",
   "metadata": {},
   "source": [
    "**Exercise:** If the quantity you want to predict is a count, you can use Poisson regression, which is implemented in StatsModels with a function called `poisson`.\n",
    "It works the same way as `ols` and `logit`.\n",
    "As an exercise, let’s use it to predict how many children a woman has born; in the NSFG dataset, this variable is called `numbabes`.\n",
    "\n",
    "Suppose you meet a woman who is 35 years old, black, and a college graduate whose annual household income exceeds $75,000.\n",
    "How many children would you predict she has born?"
   ]
  },
  {
   "cell_type": "code",
   "execution_count": 61,
   "id": "19bd5c7a",
   "metadata": {},
   "outputs": [],
   "source": [
    "# Solution goes here"
   ]
  },
  {
   "cell_type": "code",
   "execution_count": 62,
   "id": "185c20fb",
   "metadata": {},
   "outputs": [],
   "source": [
    "# Solution goes here"
   ]
  },
  {
   "cell_type": "markdown",
   "id": "e39e2e87",
   "metadata": {},
   "source": [
    "Now we can predict the number of children for a woman who is 35 years old, black, and a college graduate whose annual household income exceeds $75,000"
   ]
  },
  {
   "cell_type": "code",
   "execution_count": 63,
   "id": "c593fb4a",
   "metadata": {},
   "outputs": [],
   "source": [
    "# Solution goes here"
   ]
  },
  {
   "cell_type": "markdown",
   "id": "4e34d2bb",
   "metadata": {},
   "source": [
    "**Exercise:** If the quantity you want to predict is categorical, you can use multinomial logistic regression, which is implemented in StatsModels with a function called `mnlogit`.\n",
    "As an exercise, let’s use it to guess whether a woman is married, cohabitating, widowed, divorced, separated, or never married; in the NSFG dataset, marital status is encoded in a variable called `rmarital`.\n",
    "\n",
    "Suppose you meet a woman who is 25 years old, white, and a high school graduate whose annual household income is about $45,000.\n",
    "What is the probability that she is married, cohabitating, etc?"
   ]
  },
  {
   "cell_type": "code",
   "execution_count": 64,
   "id": "77e41e64",
   "metadata": {},
   "outputs": [],
   "source": [
    "# Solution goes here"
   ]
  },
  {
   "cell_type": "markdown",
   "id": "d5bb8163",
   "metadata": {},
   "source": [
    "Make a prediction for a woman who is 25 years old, white, and a high school graduate whose annual household income is about $45,000."
   ]
  },
  {
   "cell_type": "code",
   "execution_count": 65,
   "id": "4bb62cc7",
   "metadata": {},
   "outputs": [],
   "source": [
    "# Solution goes here"
   ]
  },
  {
   "cell_type": "code",
   "execution_count": null,
   "id": "23da96b4",
   "metadata": {},
   "outputs": [],
   "source": []
  }
 ],
 "metadata": {
  "kernelspec": {
   "display_name": "Python 3 (ipykernel)",
   "language": "python",
   "name": "python3"
  },
  "language_info": {
   "codemirror_mode": {
    "name": "ipython",
    "version": 3
   },
   "file_extension": ".py",
   "mimetype": "text/x-python",
   "name": "python",
   "nbconvert_exporter": "python",
   "pygments_lexer": "ipython3",
   "version": "3.10.14"
  }
 },
 "nbformat": 4,
 "nbformat_minor": 5
}
