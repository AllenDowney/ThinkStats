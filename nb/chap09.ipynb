{
 "cells": [
  {
   "cell_type": "markdown",
   "id": "d8c1d5d2",
   "metadata": {},
   "source": [
    "# Hypothesis testing"
   ]
  },
  {
   "cell_type": "code",
   "execution_count": 2,
   "id": "30615f97",
   "metadata": {},
   "outputs": [],
   "source": [
    "from os.path import basename, exists\n",
    "\n",
    "\n",
    "def download(url):\n",
    "    filename = basename(url)\n",
    "    if not exists(filename):\n",
    "        from urllib.request import urlretrieve\n",
    "\n",
    "        local, _ = urlretrieve(url, filename)\n",
    "        print(\"Downloaded \" + local)\n",
    "\n",
    "\n",
    "download(\"https://github.com/AllenDowney/ThinkStats/raw/v3/nb/thinkstats.py\")"
   ]
  },
  {
   "cell_type": "code",
   "execution_count": 16,
   "id": "684b56bd",
   "metadata": {},
   "outputs": [],
   "source": [
    "import numpy as np\n",
    "import pandas as pd\n",
    "import matplotlib.pyplot as plt\n",
    "\n",
    "from thinkstats import decorate"
   ]
  },
  {
   "cell_type": "markdown",
   "id": "2f4bbe46",
   "metadata": {},
   "source": [
    "## Classical hypothesis testing\n",
    "\n",
    "Exploring the data from the NSFG, we saw several \"apparent effects,\" including differences between first babies and others.\n",
    "So far we have taken these effects at face value; in this chapter, we put them to the test.\n",
    "\n",
    "The fundamental question we want to address is whether the effects we see in a sample are likely to appear in the larger population.\n",
    "For example, in the NSFG sample we see a difference in mean pregnancy length for first babies and others.\n",
    "We would like to know if that effect reflects a real difference for women in the U.S., or if it might appear in the sample by chance.\n",
    "\n",
    "There are several ways we could formulate this question, including Fisher null hypothesis testing, Neyman-Pearson decision theory, and Bayesian inference.\n",
    "What I present here is a subset of all three that makes up most of what people use in practice, which I will call **classical hypothesis testing**."
   ]
  },
  {
   "cell_type": "markdown",
   "id": "ef77dd2f",
   "metadata": {},
   "source": [
    "The goal of classical hypothesis testing is to answer the question, \"Given a sample and an apparent effect, what is the probability of seeing such an effect by chance?\" Here's how we answer that question:\n",
    "\n",
    "-   The first step is to quantify the size of the apparent effect by choosing a **test statistic**.\n",
    "In the NSFG example, the apparent effect is a difference in pregnancy length between first babies and others, so a natural choice for the test statistic is the difference in means between the two groups.\n",
    "\n",
    "-   The second step is to define a **null hypothesis**, which is a model of the system based on the assumption that the apparent effect is not real.\n",
    "In the NSFG example the null hypothesis is that there is no difference between first babies and others; that is, that pregnancy lengths for both groups have the same distribution.\n",
    "\n",
    "-   The third step is to compute a **p-value**, which is the probability of seeing the apparent effect if the null hypothesis is true.\n",
    "In the NSFG example, we would compute the actual difference in means, then compute the probability of seeing a difference as big, or bigger, under the null hypothesis.\n",
    "\n",
    "-   The last step is to interpret the result.\n",
    "If the p-value is low, the effect is said to be **statistically significant**, which means that it is unlikely to have occurred by chance.\n",
    "In that case we infer that the effect is more likely to appear in the larger population."
   ]
  },
  {
   "cell_type": "markdown",
   "id": "f95af12c",
   "metadata": {},
   "source": [
    "The logic of this process is similar to a proof by contradiction.\n",
    "To prove a mathematical statement, A, you assume temporarily that A is false.\n",
    "If that assumption leads to a contradiction, you conclude that A must actually be true.\n",
    "\n",
    "Similarly, to test a hypothesis like, \"This effect is real,\" we assume, temporarily, that it is not.\n",
    "That's the null hypothesis.\n",
    "Based on that assumption, we compute the probability of the apparent effect.\n",
    "That's the p-value.\n",
    "If the p-value is low, we conclude that the null hypothesis is unlikely to be true."
   ]
  },
  {
   "cell_type": "markdown",
   "id": "8bc51b88",
   "metadata": {},
   "source": [
    "## `HypothesisTest`\n",
    "\n",
    "`HypothesisTest` is a class that represents the structure of a classical hypothesis test.\n",
    "Here is the definition:"
   ]
  },
  {
   "cell_type": "code",
   "execution_count": 4,
   "id": "b2b0cc98",
   "metadata": {},
   "outputs": [],
   "source": [
    "class HypothesisTest(object):\n",
    "\n",
    "    def __init__(self, data):\n",
    "        self.data = data\n",
    "        self.make_model()\n",
    "        self.actual = self.test_statistic(data)\n",
    "\n",
    "    def p_value(self, iters=1000):\n",
    "        self.test_stats = [self.test_statistic(self.run_model()) for _ in range(iters)]\n",
    "        count = sum(1 for x in self.test_stats if x >= self.actual)\n",
    "        return count / iters\n",
    "\n",
    "    def test_statistic(self, data):\n",
    "        raise NotImplementedError()\n",
    "\n",
    "    def make_model(self):\n",
    "        pass\n",
    "\n",
    "    def run_model(self):\n",
    "        raise NotImplementedError()"
   ]
  },
  {
   "cell_type": "markdown",
   "id": "ff3a1e1a",
   "metadata": {},
   "source": [
    "`HypothesisTest` is an abstract parent class that provides complete definitions for some methods and place-keepers for others.\n",
    "Child classes based on `HypothesisTest` inherit `__init__` and `p_value` and provide `test_statistic`, `run_model`, and optionally `make_model`.\n",
    "\n",
    "`__init__` takes the data in whatever form is appropriate.\n",
    "It calls `make_model`, which builds a representation of the null hypothesis, then passes the data to `test_statistic`, which computes the size of the effect in the sample.\n",
    "\n",
    "`p_value` computes the probability of the apparent effect under the null hypothesis.\n",
    "It takes as a parameter `iters`, which is the number of simulations to run.\n",
    "The first line generates simulated data, computes test statistics, and stores them in `test_stats`.\n",
    "The result is the fraction of elements in `test_stats` that exceed or equal the observed test statistic, `self.actual`."
   ]
  },
  {
   "cell_type": "markdown",
   "id": "a4e2164a",
   "metadata": {},
   "source": [
    "As a simple example, suppose we toss a coin 250 times and see 140 heads and 110 tails.\n",
    "Based on this result, we might suspect that the coin is biased; that is, more likely to land heads.\n",
    "To test this hypothesis, we compute the probability of seeing such a difference if the coin is actually fair:"
   ]
  },
  {
   "cell_type": "code",
   "execution_count": 5,
   "id": "3a8cc565",
   "metadata": {},
   "outputs": [],
   "source": [
    "import random\n",
    "from thinkstats2 import Hist\n",
    "\n",
    "\n",
    "class CoinTest(HypothesisTest):\n",
    "\n",
    "    def test_statistic(self, data):\n",
    "        heads, tails = data\n",
    "        test_stat = abs(heads - tails)\n",
    "        return test_stat\n",
    "\n",
    "    def run_model(self):\n",
    "        heads, tails = self.data\n",
    "        n = heads + tails\n",
    "        sample = [random.choice(\"HT\") for _ in range(n)]\n",
    "        hist = Hist(sample)\n",
    "        data = hist[\"H\"], hist[\"T\"]\n",
    "        return data"
   ]
  },
  {
   "cell_type": "markdown",
   "id": "2ca35d3f",
   "metadata": {},
   "source": [
    "The parameter, `data`, is a pair of integers: the number of heads and tails.\n",
    "The test statistic is the absolute difference between them, so `self.actual` is 30.\n",
    "\n",
    "`run_model` simulates coin tosses assuming that the coin is actually fair.\n",
    "It generates a sample of 250 tosses, uses Hist to count the number of heads and tails, and returns a pair of integers.\n",
    "\n",
    "Now all we have to do is instantiate `CoinTest` and call `p_value`:"
   ]
  },
  {
   "cell_type": "code",
   "execution_count": 6,
   "id": "2b20d326",
   "metadata": {},
   "outputs": [],
   "source": [
    "ct = CoinTest(data=(140, 110))\n",
    "p_value = ct.p_value()\n",
    "p_value"
   ]
  },
  {
   "cell_type": "markdown",
   "id": "97387824",
   "metadata": {},
   "source": [
    "The result is about 0.07, which means that if the coin is fair, we expect to see a difference as big as 30 about 7% of the time.\n",
    "\n",
    "How should we interpret this result? By convention, 5% is the threshold of statistical significance.\n",
    "If the p-value is less than 5%, the effect is considered significant; otherwise it is not.\n",
    "\n",
    "But the choice of 5% is arbitrary, and (as we will see later) the p-value depends on the choice of the test statistics and the model of the null hypothesis.\n",
    "So p-values should not be considered precise measurements."
   ]
  },
  {
   "cell_type": "markdown",
   "id": "f702fc14",
   "metadata": {},
   "source": [
    "I recommend interpreting p-values according to their order of magnitude: if the p-value is less than 1%, the effect is unlikely to be due to chance; if it is greater than 10%, the effect can plausibly be explained by chance.\n",
    "P-values between 1% and 10% should be considered borderline.\n",
    "So in this example I conclude that the data do not provide strong evidence that the coin is biased or not."
   ]
  },
  {
   "cell_type": "markdown",
   "id": "d0cd3e27",
   "metadata": {},
   "source": [
    "## Testing a difference in means\n",
    "\n",
    "One of the most common effects to test is a difference in mean between two groups.\n",
    "In the NSFG data, we saw that the mean pregnancy length for first babies is slightly longer, and the mean birth weight is slightly smaller.\n",
    "Now we will see if those effects are statistically significant.\n",
    "\n",
    "For these examples, the null hypothesis is that the distributions for the two groups are the same.\n",
    "One way to model the null hypothesis is by **permutation**; that is, we can take values for first babies and others and shuffle them, treating the two groups as one big group:"
   ]
  },
  {
   "cell_type": "code",
   "execution_count": 7,
   "id": "fa95626f",
   "metadata": {},
   "outputs": [],
   "source": [
    "class DiffMeansPermute(HypothesisTest):\n",
    "\n",
    "    def test_statistic(self, data):\n",
    "        group1, group2 = data\n",
    "        test_stat = abs(group1.mean() - group2.mean())\n",
    "        return test_stat\n",
    "\n",
    "    def make_model(self):\n",
    "        group1, group2 = self.data\n",
    "        self.n, self.m = len(group1), len(group2)\n",
    "        self.pool = np.hstack((group1, group2))\n",
    "\n",
    "    def run_model(self):\n",
    "        np.random.shuffle(self.pool)\n",
    "        data = self.pool[: self.n], self.pool[self.n :]\n",
    "        return data"
   ]
  },
  {
   "cell_type": "markdown",
   "id": "78c725f1",
   "metadata": {},
   "source": [
    "`data` is a pair of sequences, one for each group.\n",
    "The test statistic is the absolute difference in the means.\n",
    "\n",
    "`make_model` records the sizes of the groups, `n` and `m`, and combines the groups into one NumPy array, `self.pool`.\n",
    "\n",
    "`run_model` simulates the null hypothesis by shuffling the pooled values and splitting them into two groups with sizes `n` and `m`.\n",
    "As always, the return value from `run_model` has the same format as the observed data.\n",
    "\n",
    "To test the difference in pregnancy length, we run:"
   ]
  },
  {
   "cell_type": "code",
   "execution_count": 8,
   "id": "aca382ad",
   "metadata": {},
   "outputs": [],
   "source": [
    "download(\"https://github.com/AllenDowney/ThinkStats/raw/v3/nb/nsfg.py\")\n",
    "download(\"https://github.com/AllenDowney/ThinkStats/raw/v3/data/2002FemPreg.dct\")\n",
    "download(\"https://github.com/AllenDowney/ThinkStats/raw/v3/data/2002FemPreg.dat.gz\")"
   ]
  },
  {
   "cell_type": "code",
   "execution_count": 9,
   "id": "f8038bfb",
   "metadata": {},
   "outputs": [],
   "source": [
    "import nsfg\n",
    "\n",
    "live, firsts, others = nsfg.make_frames()\n",
    "data = firsts.prglngth.values, others.prglngth.values"
   ]
  },
  {
   "cell_type": "code",
   "execution_count": 10,
   "id": "29e7d525",
   "metadata": {},
   "outputs": [],
   "source": [
    "ht = DiffMeansPermute(data)\n",
    "p_value = ht.p_value()\n",
    "p_value"
   ]
  },
  {
   "cell_type": "markdown",
   "id": "707fcc69",
   "metadata": {},
   "source": [
    "`MakeFrames` reads the NSFG data and returns `DataFrame`s representing all live births, first babies, and others.\n",
    "We extract pregnancy lengths as NumPy arrays, pass them as data to `DiffMeansPermute`, and compute the p-value.\n",
    "The result is about 0.17, which means that we expect to see a difference as big as the observed effect about 17% of the time.\n",
    "So this effect is not statistically significant."
   ]
  },
  {
   "cell_type": "markdown",
   "id": "53e27b27",
   "metadata": {},
   "source": [
    "`HypothesisTest` provides `PlotCdf`, which plots the distribution of the test statistic and a gray line indicating the observed effect size:"
   ]
  },
  {
   "cell_type": "code",
   "execution_count": 23,
   "id": "1e915941",
   "metadata": {},
   "outputs": [],
   "source": [
    "from empiricaldist import Cdf\n",
    "\n",
    "\n",
    "def plot_ht_cdf(ht, label=None):\n",
    "    \"\"\"Draws a Cdf with vertical lines at the observed test stat.\"\"\"\n",
    "\n",
    "    def vert_line(x):\n",
    "        \"\"\"Draws a vertical line at x.\"\"\"\n",
    "        plt.plot([x, x], [0, 1], color=\"0.8\")\n",
    "\n",
    "    vert_line(ht.actual)\n",
    "    cdf = Cdf.from_seq(ht.test_stats)\n",
    "    cdf.plot(label=label)"
   ]
  },
  {
   "cell_type": "code",
   "execution_count": 24,
   "id": "9927271d",
   "metadata": {},
   "outputs": [],
   "source": [
    "plot_ht_cdf(ht)\n",
    "decorate(xlabel=\"test statistic\", ylabel=\"CDF\")"
   ]
  },
  {
   "cell_type": "markdown",
   "id": "eb53d0c2",
   "metadata": {},
   "source": [
    "The CDF intersects the observed difference at 0.83, which is the complement of the p-value, 0.17.\n",
    "\n",
    "If we run the same analysis with birth weight, the computed p-value is 0 -- that is, after 1000 attempts, the simulation never yields an effect as big as the observed difference, 0.12 lbs.\n",
    "So we would report $p < 0.001$, and conclude that the difference in birth weight is statistically significant."
   ]
  },
  {
   "cell_type": "markdown",
   "id": "546e010e",
   "metadata": {},
   "source": [
    "## Other test statistics\n",
    "\n",
    "Choosing the best test statistic depends on what question you are trying to address.\n",
    "For example, if the relevant question is whether pregnancy lengths are different for first babies, then it makes sense to test the absolute difference in means, as we did in the previous section.\n",
    "\n",
    "If we had some reason to think that first babies are likely to be late, then we would not take the absolute value of the difference; instead we would use this test statistic:"
   ]
  },
  {
   "cell_type": "code",
   "execution_count": 25,
   "id": "d05b7efa",
   "metadata": {},
   "outputs": [],
   "source": [
    "class DiffMeansOneSided(DiffMeansPermute):\n",
    "\n",
    "    def test_statistic(self, data):\n",
    "        group1, group2 = data\n",
    "        test_stat = group1.mean() - group2.mean()\n",
    "        return test_stat"
   ]
  },
  {
   "cell_type": "markdown",
   "id": "360460b0",
   "metadata": {},
   "source": [
    "`DiffMeansOneSided` inherits `make_model` and `run_model` from `DiffMeansPermute`; the only difference is that `TestStatistic` does not take the absolute value of the difference.\n",
    "This kind of test is called **one-sided** because it only counts one side of the distribution of differences.\n",
    "The previous test, using both sides, is **two-sided**.\n",
    "\n",
    "For this version of the test, the p-value is 0.09. In general the p-value for a one-sided test is about half the p-value for a two-sided test, depending on the shape of the distribution.\n",
    "\n",
    "The one-sided hypothesis, that first babies are born late, is more specific than the two-sided hypothesis, so the p-value is smaller.\n",
    "But even for the stronger hypothesis, the difference is not statistically significant."
   ]
  },
  {
   "cell_type": "markdown",
   "id": "b5cf8235",
   "metadata": {},
   "source": [
    "We can use the same framework to test for a difference in standard deviation.\n",
    "In Section [\\[visualization\\]](#visualization){reference-type=\"ref\" reference=\"visualization\"}, we saw some evidence that first babies are more likely to be early or late, and less likely to be on time.\n",
    "So we might hypothesize that the standard deviation is higher.\n",
    "Here's how we can test that:"
   ]
  },
  {
   "cell_type": "code",
   "execution_count": 26,
   "id": "c66134af",
   "metadata": {},
   "outputs": [],
   "source": [
    "class DiffStdPermute(DiffMeansPermute):\n",
    "\n",
    "    def test_statistic(self, data):\n",
    "        group1, group2 = data\n",
    "        test_stat = group1.std() - group2.std()\n",
    "        return test_stat"
   ]
  },
  {
   "cell_type": "markdown",
   "id": "8112432b",
   "metadata": {},
   "source": [
    "This is a one-sided test because the hypothesis is that the standard deviation for first babies is higher, not just different.\n",
    "The p-value is 0.09, which is not statistically significant."
   ]
  },
  {
   "cell_type": "markdown",
   "id": "7efb6d21",
   "metadata": {},
   "source": [
    "## Testing a correlation\n",
    "\n",
    "This framework can also test correlations.\n",
    "For example, in the NSFG data set, the correlation between birth weight and mother's age is about 0.07. It seems like older mothers have heavier babies.\n",
    "But could this effect be due to chance?\n",
    "\n",
    "For the test statistic, I use Pearson's correlation, but Spearman's would work as well.\n",
    "If we had reason to expect positive correlation, we would do a one-sided test.\n",
    "But since we have no such reason, I'll do a two-sided test using the absolute value of correlation.\n",
    "\n",
    "The null hypothesis is that there is no correlation between mother's age and birth weight.\n",
    "By shuffling the observed values, we can simulate a world where the distributions of age and birth weight are the same, but where the variables are unrelated:"
   ]
  },
  {
   "cell_type": "code",
   "execution_count": 27,
   "id": "e34d9386",
   "metadata": {},
   "outputs": [],
   "source": [
    "from thinkstats import corr\n",
    "\n",
    "\n",
    "class CorrelationPermute(HypothesisTest):\n",
    "\n",
    "    def test_statistic(self, data):\n",
    "        xs, ys = data\n",
    "        test_stat = abs(corr(xs, ys))\n",
    "        return test_stat\n",
    "\n",
    "    def run_model(self):\n",
    "        xs, ys = self.data\n",
    "        xs = np.random.permutation(xs)\n",
    "        return xs, ys"
   ]
  },
  {
   "cell_type": "markdown",
   "id": "dc1c7f94",
   "metadata": {},
   "source": [
    "`data` is a pair of sequences.\n",
    "`TestStatistic` computes the absolute value of Pearson's correlation.\n",
    "`run_model` shuffles the `xs` and returns simulated data.\n",
    "\n",
    "Here's the code that reads the data and runs the test:"
   ]
  },
  {
   "cell_type": "code",
   "execution_count": 28,
   "id": "c71d702a",
   "metadata": {},
   "outputs": [],
   "source": [
    "live = live.dropna(subset=[\"agepreg\", \"totalwgt_lb\"])\n",
    "data = live.agepreg.values, live.totalwgt_lb.values"
   ]
  },
  {
   "cell_type": "code",
   "execution_count": 29,
   "id": "782a7885",
   "metadata": {},
   "outputs": [],
   "source": [
    "ht = CorrelationPermute(data)\n",
    "p_value = ht.p_value()\n",
    "p_value"
   ]
  },
  {
   "cell_type": "markdown",
   "id": "fb204285",
   "metadata": {},
   "source": [
    "I use `dropna` with the `subset` argument to drop rows that are missing either of the variables we need.\n",
    "\n",
    "The actual correlation is 0.07. The computed p-value is 0; after 1000 iterations the largest simulated correlation is 0.04. So although the observed correlation is small, it is statistically significant.\n",
    "\n",
    "This example is a reminder that \"statistically significant\" does not always mean that an effect is important, or significant in practice.\n",
    "It only means that it is unlikely to have occurred by chance."
   ]
  },
  {
   "cell_type": "markdown",
   "id": "fd1b7cdf",
   "metadata": {},
   "source": [
    "## Testing proportions\n",
    "\n",
    "Suppose you run a casino and you suspect that a customer is using a crooked die; that is, one that has been modified to make one of the faces more likely than the others.\n",
    "You apprehend the alleged cheater and confiscate the die, but now you have to prove that it is crooked.\n",
    "You roll the die 60 times and get the following results:\n",
    "\n",
    "```  center   Value    1   2   3    4   5   6   ----------- --- --- ---- --- --- ----   Frequency    8   9   19   5   8   11 ```\n",
    "\n",
    "On average you expect each value to appear 10 times.\n",
    "In this dataset, the value 3 appears more often than expected, and the value 4 appears less often.\n",
    "But are these differences statistically significant?\n",
    "\n",
    "To test this hypothesis, we can compute the expected frequency for each value, the difference between the expected and observed frequencies, and the total absolute difference.\n",
    "In this example, we expect each side to come up 10 times out of 60; the deviations from this expectation are -2, -1, 9, -5, -2, and 1; so the total absolute difference is 20. How often would we see such a difference by chance?\n",
    "\n",
    "Here's a version of `HypothesisTest` that answers that question:"
   ]
  },
  {
   "cell_type": "code",
   "execution_count": 30,
   "id": "9a530baf",
   "metadata": {},
   "outputs": [],
   "source": [
    "class DiceTest(HypothesisTest):\n",
    "\n",
    "    def test_statistic(self, data):\n",
    "        observed = data\n",
    "        n = sum(observed)\n",
    "        expected = np.ones(6) * n / 6\n",
    "        test_stat = sum(abs(observed - expected))\n",
    "        return test_stat\n",
    "\n",
    "    def run_model(self):\n",
    "        n = sum(self.data)\n",
    "        values = [1, 2, 3, 4, 5, 6]\n",
    "        rolls = np.random.choice(values, n, replace=True)\n",
    "        hist = Hist(rolls)\n",
    "        freqs = hist.freqs(values)\n",
    "        return freqs"
   ]
  },
  {
   "cell_type": "markdown",
   "id": "c4cc2f12",
   "metadata": {},
   "source": [
    "The data are represented as a list of frequencies: the observed values are `[8, 9, 19, 5, 8, 11]`; the expected frequencies are all 10. The test statistic is the sum of the absolute differences.\n",
    "\n",
    "The null hypothesis is that the die is fair, so we simulate that by drawing random samples from `values`.\n",
    "`run_model` uses `Hist` to compute and return the list of frequencies."
   ]
  },
  {
   "cell_type": "code",
   "execution_count": 31,
   "id": "dcaef547",
   "metadata": {},
   "outputs": [],
   "source": [
    "data = [8, 9, 19, 5, 8, 11]\n",
    "ht = DiceTest(data)"
   ]
  },
  {
   "cell_type": "code",
   "execution_count": 32,
   "id": "23e5c8b6",
   "metadata": {},
   "outputs": [],
   "source": [
    "p_value = ht.p_value()\n",
    "p_value"
   ]
  },
  {
   "cell_type": "markdown",
   "id": "fa590a55",
   "metadata": {},
   "source": [
    "The p-value for this data is 0.13, which means that if the die is fair we expect to see the observed total deviation, or more, about 13% of the time.\n",
    "So the apparent effect is not statistically significant."
   ]
  },
  {
   "cell_type": "markdown",
   "id": "544584d8",
   "metadata": {},
   "source": [
    "## Chi-squared tests\n",
    "\n",
    "In the previous section we used total deviation as the test statistic.\n",
    "But for testing proportions it is more common to use the chi-squared statistic: $$\\chi^2 = \\sum_i \\frac{(O_i - E_i)^2}{E_i}$$ Where $O_i$ are the observed frequencies and $E_i$ are the expected frequencies.\n",
    "Here's the Python code:"
   ]
  },
  {
   "cell_type": "code",
   "execution_count": 33,
   "id": "398ea4cf",
   "metadata": {},
   "outputs": [],
   "source": [
    "class DiceChiTest(DiceTest):\n",
    "\n",
    "    def test_statistic(self, data):\n",
    "        observed = data\n",
    "        n = sum(observed)\n",
    "        expected = np.ones(6) * n / 6\n",
    "        test_stat = sum((observed - expected) ** 2 / expected)\n",
    "        return test_stat"
   ]
  },
  {
   "cell_type": "markdown",
   "id": "612fb722",
   "metadata": {},
   "source": [
    "Squaring the deviations (rather than taking absolute values) gives more weight to large deviations.\n",
    "Dividing through by `expected` standardizes the deviations, although in this case it has no effect because the expected frequencies are all equal."
   ]
  },
  {
   "cell_type": "code",
   "execution_count": 34,
   "id": "a6bb82ba",
   "metadata": {},
   "outputs": [],
   "source": [
    "dct = DiceChiTest(data)\n",
    "dct.p_value()"
   ]
  },
  {
   "cell_type": "markdown",
   "id": "cc8c586e",
   "metadata": {},
   "source": [
    "The p-value using the chi-squared statistic is 0.037, substantially smaller than what we got using total deviation, 0.13. If we take the 5% threshold seriously, we would consider this effect statistically significant.\n",
    "But considering the two tests together, I would say that the results are borderline.\n",
    "I would not rule out the possibility that the die is crooked, but I would not convict the accused cheater.\n",
    "\n",
    "This example demonstrates an important point: the p-value depends on the choice of test statistic and the model of the null hypothesis, and sometimes these choices determine whether an effect is statistically significant or not."
   ]
  },
  {
   "cell_type": "markdown",
   "id": "a41e6d28",
   "metadata": {},
   "source": [
    "## First babies again\n",
    "\n",
    "Earlier in this chapter we looked at pregnancy lengths for first babies and others, and concluded that the apparent differences in mean and standard deviation are not statistically significant.\n",
    "But in Section [\\[visualization\\]](#visualization){reference-type=\"ref\" reference=\"visualization\"}, we saw several apparent differences in the distribution of pregnancy length, especially in the range from 35 to 43 weeks.\n",
    "To see whether those differences are statistically significant, we can use a test based on a chi-squared statistic.\n",
    "\n",
    "The code combines elements from previous examples:"
   ]
  },
  {
   "cell_type": "code",
   "execution_count": 38,
   "id": "890dc8a9",
   "metadata": {},
   "outputs": [],
   "source": [
    "from empiricaldist import Pmf\n",
    "\n",
    "\n",
    "class PregLengthTest(HypothesisTest):\n",
    "\n",
    "    def make_model(self):\n",
    "        firsts, others = self.data\n",
    "        self.n = len(firsts)\n",
    "        self.pool = np.hstack((firsts, others))\n",
    "        pmf = Pmf.from_seq(self.pool)\n",
    "        self.values = range(35, 44)\n",
    "        self.expected_probs = pmf(self.values)\n",
    "\n",
    "    def run_model(self):\n",
    "        np.random.shuffle(self.pool)\n",
    "        data = self.pool[: self.n], self.pool[self.n :]\n",
    "        return data\n",
    "\n",
    "    def test_statistic(self, data):\n",
    "        firsts, others = data\n",
    "        stat = self.chi_squared(firsts) + self.chi_squared(others)\n",
    "        return stat\n",
    "\n",
    "    def chi_squared(self, lengths):\n",
    "        hist = Hist(lengths)\n",
    "        observed = np.array(hist.freqs(self.values))\n",
    "        expected = self.expected_probs * len(lengths)\n",
    "        stat = sum((observed - expected) ** 2 / expected)\n",
    "        return stat"
   ]
  },
  {
   "cell_type": "markdown",
   "id": "dcc044ef",
   "metadata": {},
   "source": [
    "The data are represented as two lists of pregnancy lengths.\n",
    "The null hypothesis is that both samples are drawn from the same distribution.\n",
    "`make_model` models that distribution by pooling the two samples using `hstack`.\n",
    "Then `run_model` generates simulated data by shuffling the pooled sample and splitting it into two parts.\n",
    "\n",
    "`make_model` also defines `values`, which is the range of weeks we'll use, and `expected_probs`, which is the probability of each value in the pooled distribution.\n",
    "\n",
    "Here's the code that computes the test statistic:"
   ]
  },
  {
   "cell_type": "code",
   "execution_count": 39,
   "id": "fb9ccd0b",
   "metadata": {},
   "outputs": [],
   "source": [
    "data = firsts.prglngth.values, others.prglngth.values"
   ]
  },
  {
   "cell_type": "code",
   "execution_count": 40,
   "id": "a9d180e8",
   "metadata": {},
   "outputs": [],
   "source": [
    "ht = PregLengthTest(data)\n",
    "p_value = ht.p_value()\n",
    "print(\"p-value =\", p_value)\n",
    "print(\"actual =\", ht.actual)\n",
    "print(\"ts max =\", np.max(ht.test_stats))"
   ]
  },
  {
   "cell_type": "markdown",
   "id": "eb3ba9dc",
   "metadata": {},
   "source": [
    "`TestStatistic` computes the chi-squared statistic for first babies and others, and adds them.\n",
    "\n",
    "`ChiSquared` takes a sequence of pregnancy lengths, computes its histogram, and computes `observed`, which is a list of frequencies corresponding to `self.values`.\n",
    "To compute the list of expected frequencies, it multiplies the pre-computed probabilities, `expected_probs`, by the sample size.\n",
    "It returns the chi-squared statistic, `stat`.\n",
    "\n",
    "For the NSFG data the total chi-squared statistic is 102, which doesn't mean much by itself.\n",
    "But after 1000 iterations, the largest test statistic generated under the null hypothesis is 32. We conclude that the observed chi-squared statistic is unlikely under the null hypothesis, so the apparent effect is statistically significant.\n",
    "\n",
    "This example demonstrates a limitation of chi-squared tests: they indicate that there is a difference between the two groups, but they don't say anything specific about what the difference is."
   ]
  },
  {
   "cell_type": "markdown",
   "id": "ec5893c6",
   "metadata": {},
   "source": [
    "## Errors\n",
    "\n",
    "In classical hypothesis testing, an effect is considered statistically significant if the p-value is below some threshold, commonly 5%. This procedure raises two questions:\n",
    "\n",
    "-   If the effect is actually due to chance, what is the probability that we will wrongly consider it significant? This probability is the **false positive rate**.\n",
    "\n",
    "-   If the effect is real, what is the chance that the hypothesis test will fail? This probability is the **false negative rate**.\n",
    "\n",
    "The false positive rate is relatively easy to compute: if the threshold is 5%, the false positive rate is 5%. Here's why:\n",
    "\n",
    "-   If there is no real effect, the null hypothesis is true, so we can compute the distribution of the test statistic by simulating the null hypothesis.\n",
    "Call this distribution $CDF_T$.\n",
    "\n",
    "-   Each time we run an experiment, we get a test statistic, $t$, which is drawn from $CDF_T$.\n",
    "Then we compute a p-value, which is the probability that a random value from $CDF_T$ exceeds `t`, so that's $1 - CDF_T(t)$.\n",
    "\n",
    "-   The p-value is less than 5% if $CDF_T(t)$ is greater than 95%; that is, if $t$ exceeds the 95th percentile.\n",
    "And how often does a value chosen from $CDF_T$ exceed the 95th percentile? 5% of the time.\n",
    "\n",
    "So if you perform one hypothesis test with a 5% threshold, you expect a false positive 1 time in 20."
   ]
  },
  {
   "cell_type": "markdown",
   "id": "c8789189",
   "metadata": {},
   "source": [
    "## Power\n",
    "\n",
    "The false negative rate is harder to compute because it depends on the actual effect size, and normally we don't know that.\n",
    "One option is to compute a rate conditioned on a hypothetical effect size.\n",
    "\n",
    "For example, if we assume that the observed difference between groups is accurate, we can use the observed samples as a model of the population and run hypothesis tests with simulated data:"
   ]
  },
  {
   "cell_type": "code",
   "execution_count": 41,
   "id": "6692e494",
   "metadata": {},
   "outputs": [],
   "source": [
    "def false_neg_rate(data, num_runs=100):\n",
    "    group1, group2 = data\n",
    "    count = 0\n",
    "    for i in range(num_runs):\n",
    "        sample1 = resample(group1)\n",
    "        sample2 = resample(group2)\n",
    "        ht = DiffMeansPermute((sample1, sample2))\n",
    "        p_value = ht.p_value(iters=101)\n",
    "        if p_value > 0.05:\n",
    "            count += 1\n",
    "    return count / num_runs"
   ]
  },
  {
   "cell_type": "markdown",
   "id": "e20ffd80",
   "metadata": {},
   "source": [
    "`FalseNegRate` takes data in the form of two sequences, one for each group.\n",
    "Each time through the loop, it simulates an experiment by drawing a random sample from each group and running a hypothesis test.\n",
    "Then it checks the result and counts the number of false negatives.\n",
    "\n",
    "`Resample` takes a sequence and draws a sample with the same length, with replacement:"
   ]
  },
  {
   "cell_type": "code",
   "execution_count": 42,
   "id": "29d63681",
   "metadata": {},
   "outputs": [],
   "source": [
    "def resample(xs):\n",
    "    return np.random.choice(xs, len(xs), replace=True)"
   ]
  },
  {
   "cell_type": "markdown",
   "id": "4fc4a5e8",
   "metadata": {},
   "source": [
    "Here's the code that tests pregnancy lengths:"
   ]
  },
  {
   "cell_type": "code",
   "execution_count": 43,
   "id": "4ff48293",
   "metadata": {},
   "outputs": [],
   "source": [
    "live, firsts, others = nsfg.make_frames()\n",
    "data = firsts.prglngth.values, others.prglngth.values\n",
    "neg_rate = false_neg_rate(data)\n",
    "neg_rate"
   ]
  },
  {
   "cell_type": "markdown",
   "id": "7dade836",
   "metadata": {},
   "source": [
    "The result is about 70%, which means that if the actual difference in mean pregnancy length is 0.078 weeks, we expect an experiment with this sample size to yield a negative test 70% of the time.\n",
    "\n",
    "This result is often presented the other way around: if the actual difference is 0.078 weeks, we should expect a positive test only 30% of the time.\n",
    "This \"correct positive rate\" is called the **power** of the test, or sometimes \"sensitivity\".\n",
    "It reflects the ability of the test to detect an effect of a given size.\n",
    "\n",
    "In this example, the test had only a 30% chance of yielding a positive result (again, assuming that the difference is 0.078 weeks).\n",
    "As a rule of thumb, a power of 80% is considered acceptable, so we would say that this test was \"underpowered.\"\n",
    "\n",
    "In general, a negative hypothesis test does not imply that there is no difference between the groups; instead, it suggests that if there is a difference, it is too small to detect with this sample size."
   ]
  },
  {
   "cell_type": "markdown",
   "id": "89c935af",
   "metadata": {},
   "source": [
    "## Replication\n",
    "\n",
    "The hypothesis testing process I demonstrated in this chapter is not, strictly speaking, good practice.\n",
    "\n",
    "First, I performed multiple tests.\n",
    "If you run one hypothesis test, the chance of a false positive is about 1 in 20, which might be acceptable.\n",
    "But if you run 20 tests, you should expect at least one false positive, most of the time.\n",
    "\n",
    "Second, I used the same dataset for exploration and testing.\n",
    "If you explore a large dataset, find a surprising effect, and then test whether it is significant, you have a good chance of generating a false positive.\n",
    "\n",
    "To compensate for multiple tests, you can adjust the p-value threshold (see <https://en.wikipedia.org/wiki/Holm-Bonferroni_method>).\n",
    "Or you can address both problems by partitioning the data, using one set for exploration and the other for testing."
   ]
  },
  {
   "cell_type": "markdown",
   "id": "729695dc",
   "metadata": {},
   "source": [
    "In some fields these practices are required or at least encouraged.\n",
    "But it is also common to address these problems implicitly by replicating published results.\n",
    "Typically the first paper to report a new result is considered exploratory.\n",
    "Subsequent papers that replicate the result with new data are considered confirmatory.\n",
    "\n",
    "As it happens, we have an opportunity to replicate the results in this chapter.\n",
    "The first edition of this book is based on Cycle 6 of the NSFG, which was released in 2002.\n",
    "In October 2011, the CDC released additional data based on interviews conducted from 2006--2010.\n",
    "`nsfg.py` contains code to read and clean this data.\n",
    "In the new dataset:\n",
    "\n",
    "-   The difference in mean pregnancy length is 0.16 weeks and statistically significant with $p < 0.001$ (compared to 0.078 weeks in the original dataset).\n",
    "\n",
    "-   The difference in birth weight is 0.17 pounds with $p < 0.001$ (compared to 0.12 lbs in the original dataset).\n",
    "\n",
    "-   The correlation between birth weight and mother's age is 0.08 with $p < 0.001$ (compared to 0.07).\n",
    "\n",
    "-   The chi-squared test is statistically significant with $p < 0.001$ (as it was in the original).\n",
    "\n",
    "In summary, all of the effects that were statistically significant in the original dataset were replicated in the new dataset, and the difference in pregnancy length, which was not significant in the original, is bigger in the new dataset and significant."
   ]
  },
  {
   "cell_type": "markdown",
   "id": "6f1ff960",
   "metadata": {},
   "source": [
    "## Glossary\n",
    "\n",
    "-   **hypothesis testing**: The process of determining whether an apparent effect is statistically significant.\n",
    "\n",
    "-   **test statistic**: A statistic used to quantify an effect size.\n",
    "\n",
    "-   **null hypothesis**: A model of a system based on the assumption that an apparent effect is due to chance.\n",
    "\n",
    "-   **p-value**: The probability that an effect could occur by chance.\n",
    "\n",
    "-   **statistically significant**: An effect is statistically significant if it is unlikely to occur by chance.\n",
    "\n",
    "-   **permutation test**: A way to compute p-values by generating permutations of an observed dataset.\n",
    "\n",
    "-   **resampling test**: A way to compute p-values by generating samples, with replacement, from an observed dataset.\n",
    "\n",
    "-   **two-sided test**: A test that asks, \"What is the chance of an effect as big as the observed effect, positive or negative?\"\n",
    "\n",
    "-   **one-sided test**: A test that asks, \"What is the chance of an effect as big as the observed effect, and with the same sign?\"\n",
    "\n",
    "-   **chi-squared test**: A test that uses the chi-squared statistic as the test statistic.\n",
    "\n",
    "-   **false positive**: The conclusion that an effect is real when it is not.\n",
    "\n",
    "-   **false negative**: The conclusion that an effect is due to chance when it is not.\n",
    "\n",
    "-   **power**: The probability of a positive test if the null hypothesis is false."
   ]
  },
  {
   "cell_type": "markdown",
   "id": "940c93d6",
   "metadata": {},
   "source": [
    "## Exercises"
   ]
  },
  {
   "cell_type": "markdown",
   "id": "40894391",
   "metadata": {},
   "source": [
    "**Exercise:** As sample size increases, the power of a hypothesis test increases, which means it is more likely detect an effect if there is one.\n",
    "\n",
    "To investigate this behavior, run the tests in this chapter with different subsets of the NSFG data."
   ]
  },
  {
   "cell_type": "markdown",
   "id": "5e2051c2",
   "metadata": {},
   "source": [
    "To choose a random subset of the data, you can use the `DataFrame` method `sample` like this:"
   ]
  },
  {
   "cell_type": "code",
   "execution_count": 44,
   "id": "d355ee08",
   "metadata": {},
   "outputs": [],
   "source": [
    "n = 100\n",
    "sample = live.sample(n)"
   ]
  },
  {
   "cell_type": "markdown",
   "id": "c31607e8",
   "metadata": {},
   "source": [
    "What happens to the p-values of these tests as sample size decreases? What is the smallest sample size that yields a positive test?"
   ]
  },
  {
   "cell_type": "code",
   "execution_count": 45,
   "id": "070d2b33",
   "metadata": {},
   "outputs": [],
   "source": [
    "# Solution goes here"
   ]
  },
  {
   "cell_type": "code",
   "execution_count": 46,
   "id": "7ab7fb0c",
   "metadata": {},
   "outputs": [],
   "source": [
    "# Solution goes here"
   ]
  },
  {
   "cell_type": "markdown",
   "id": "91f4df49",
   "metadata": {},
   "source": [
    "**Exercise:** In Section 9.3, we simulated the null hypothesis by permutation; that is, we treated the observed values as if they represented the entire population, and randomly assigned the members of the population to the two groups.\n",
    "\n",
    "An alternative is to use the sample to estimate the distribution for the population, then draw a random sample from that distribution.\n",
    "This process is called resampling.\n",
    "There are several ways to implement resampling, but one of the simplest is to draw a sample with replacement from the observed values, as in Section 9.10.\n",
    "\n",
    "Write a class named `DiffMeansResample` that inherits from `DiffMeansPermute` and overrides `run_model` to implement resampling, rather than permutation.\n",
    "\n",
    "Use this model to test the differences in pregnancy length and birth weight.\n",
    "How much does the model affect the results?"
   ]
  },
  {
   "cell_type": "code",
   "execution_count": 47,
   "id": "aac7aaab",
   "metadata": {},
   "outputs": [],
   "source": [
    "# Solution goes here"
   ]
  },
  {
   "cell_type": "code",
   "execution_count": 48,
   "id": "ebaed2e2",
   "metadata": {},
   "outputs": [],
   "source": [
    "# Solution goes here"
   ]
  },
  {
   "cell_type": "code",
   "execution_count": 49,
   "id": "241fe939",
   "metadata": {},
   "outputs": [],
   "source": [
    "# Solution goes here"
   ]
  },
  {
   "cell_type": "code",
   "execution_count": null,
   "id": "08891d42",
   "metadata": {},
   "outputs": [],
   "source": []
  }
 ],
 "metadata": {
  "kernelspec": {
   "display_name": "Python 3 (ipykernel)",
   "language": "python",
   "name": "python3"
  },
  "language_info": {
   "codemirror_mode": {
    "name": "ipython",
    "version": 3
   },
   "file_extension": ".py",
   "mimetype": "text/x-python",
   "name": "python",
   "nbconvert_exporter": "python",
   "pygments_lexer": "ipython3",
   "version": "3.10.14"
  }
 },
 "nbformat": 4,
 "nbformat_minor": 5
}
