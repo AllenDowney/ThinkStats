{
 "cells": [
  {
   "cell_type": "markdown",
   "id": "259c89bc",
   "metadata": {},
   "source": [
    "# Probability Mass Functions\n",
    "\n",
    "In the previous chapter we represented distributions using a `Hist` object, which contains a set of quantities and their frequencies -- that is, the number of times each one appears.\n",
    "In this chapter we'll introduce another way to represent a distribution: a `Pmf` object, which contains a set of quantities and their probabilities.\n",
    "\n",
    "And we'll use `Pmf` objects to compute the mean and variance of a distribution, and the skewness, which indicates whether it is skewed to the left or right.\n",
    "Finally, we will explore how a phenomenon called the \"inspection paradox\" can cause a sample to give a biased view of a distribution."
   ]
  },
  {
   "cell_type": "markdown",
   "id": "11b3a5ef",
   "metadata": {},
   "source": [
    "[Click here to run this notebook on Colab](https://colab.research.google.com/github/AllenDowney/ThinkStats/blob/v3/nb/chap03.ipynb)."
   ]
  },
  {
   "cell_type": "code",
   "execution_count": 1,
   "id": "c4578587",
   "metadata": {},
   "outputs": [],
   "source": [
    "from os.path import basename, exists\n",
    "\n",
    "\n",
    "def download(url):\n",
    "    filename = basename(url)\n",
    "    if not exists(filename):\n",
    "        from urllib.request import urlretrieve\n",
    "\n",
    "        local, _ = urlretrieve(url, filename)\n",
    "        print(\"Downloaded \" + local)\n",
    "\n",
    "\n",
    "download(\"https://github.com/AllenDowney/ThinkStats/raw/v3/nb/thinkstats.py\")"
   ]
  },
  {
   "cell_type": "code",
   "execution_count": 2,
   "id": "f66668e0",
   "metadata": {},
   "outputs": [],
   "source": [
    "try:\n",
    "    import empiricaldist\n",
    "except ImportError:\n",
    "    !pip install empiricaldist"
   ]
  },
  {
   "cell_type": "code",
   "execution_count": 3,
   "id": "526c4c90",
   "metadata": {},
   "outputs": [],
   "source": [
    "try:\n",
    "    import statadict\n",
    "except ImportError:\n",
    "    !pip install statadict"
   ]
  },
  {
   "cell_type": "code",
   "execution_count": 4,
   "id": "e47f1afd",
   "metadata": {},
   "outputs": [],
   "source": [
    "import numpy as np\n",
    "import pandas as pd\n",
    "import matplotlib.pyplot as plt\n",
    "\n",
    "from thinkstats import decorate"
   ]
  },
  {
   "cell_type": "markdown",
   "id": "5f56b6a7",
   "metadata": {},
   "source": [
    "## PMFs\n",
    "\n",
    "A `Pmf` object is like a `Hist` that contains probabilities instead of frequencies.\n",
    "So one way to make a `Pmf` is to start with a `Hist`.\n",
    "For example, here's a `Hist` that represents the distribution of values in a short sequence."
   ]
  },
  {
   "cell_type": "code",
   "execution_count": 5,
   "id": "8f418fed",
   "metadata": {},
   "outputs": [],
   "source": [
    "from empiricaldist import Hist\n",
    "\n",
    "hist = Hist.from_seq([1, 2, 2, 3, 5])\n",
    "hist"
   ]
  },
  {
   "cell_type": "markdown",
   "id": "f70e8df4",
   "metadata": {},
   "source": [
    "The sum of the frequencies is the size of the original sequence."
   ]
  },
  {
   "cell_type": "code",
   "execution_count": 6,
   "id": "8e1ee1ca",
   "metadata": {},
   "outputs": [],
   "source": [
    "n = hist.sum()\n",
    "n"
   ]
  },
  {
   "cell_type": "markdown",
   "id": "eeed5af8",
   "metadata": {},
   "source": [
    "If we divide the frequencies by `n`, they represent proportions, rather than counts."
   ]
  },
  {
   "cell_type": "code",
   "execution_count": 7,
   "id": "07dab3d2",
   "metadata": {},
   "outputs": [],
   "source": [
    "pmf = hist / n\n",
    "pmf"
   ]
  },
  {
   "cell_type": "markdown",
   "id": "1e0a7d3c",
   "metadata": {},
   "source": [
    "This result indicates that 20% of the values in the sequence are 1, 40% are 2, and so on.\n",
    "\n",
    "We can also think of these proportions as probabilities in the following sense: if we choose a random value from the original sequence, the probability we choose the value 1 is 0.2, the probability we choose the value 2 is 0.4, and so on.\n",
    "\n",
    "Because we divided through by `n`, the sum of the probabilities is 1, which means that this distribution is **normalized**."
   ]
  },
  {
   "cell_type": "code",
   "execution_count": 8,
   "id": "af296dc9",
   "metadata": {},
   "outputs": [],
   "source": [
    "pmf.sum()"
   ]
  },
  {
   "cell_type": "markdown",
   "id": "c81d485a",
   "metadata": {},
   "source": [
    "A normalized `Hist` object represents a **probability mass function** (PMF), so-called because probabilities associated with discrete quantities are also called \"probability masses\".\n",
    "\n",
    "The `empiricaldist` library provides a `Pmf` object that represents a probability mass function, so instead of creating a `Hist` object and then normalizing it, we can create a `Pmf` object directly."
   ]
  },
  {
   "cell_type": "code",
   "execution_count": 9,
   "id": "3fff30ec",
   "metadata": {},
   "outputs": [],
   "source": [
    "from empiricaldist import Pmf\n",
    "\n",
    "pmf = Pmf.from_seq([1, 2, 2, 3, 5])\n",
    "pmf"
   ]
  },
  {
   "cell_type": "markdown",
   "id": "d8428fe8",
   "metadata": {},
   "source": [
    "The `Pmf` is normalized so the total probability is 1."
   ]
  },
  {
   "cell_type": "code",
   "execution_count": 10,
   "id": "5e01b656",
   "metadata": {},
   "outputs": [],
   "source": [
    "pmf.sum()"
   ]
  },
  {
   "cell_type": "markdown",
   "id": "4cc44f90",
   "metadata": {},
   "source": [
    "`Pmf` and `Hist` objects are similar in many ways.\n",
    "To look up the probability associated with a value, we can use the bracket operator."
   ]
  },
  {
   "cell_type": "code",
   "execution_count": 11,
   "id": "41280992",
   "metadata": {},
   "outputs": [],
   "source": [
    "pmf[2]"
   ]
  },
  {
   "cell_type": "markdown",
   "id": "ff05014f",
   "metadata": {},
   "source": [
    "Or use parentheses to call the `Pmf` like a function."
   ]
  },
  {
   "cell_type": "code",
   "execution_count": 12,
   "id": "2ac2919b",
   "metadata": {},
   "outputs": [],
   "source": [
    "pmf(2)"
   ]
  },
  {
   "cell_type": "markdown",
   "id": "98af6144",
   "metadata": {},
   "source": [
    "To assign a probability to a quantity, you have to use the bracket operator."
   ]
  },
  {
   "cell_type": "code",
   "execution_count": 13,
   "id": "b53f5742",
   "metadata": {},
   "outputs": [],
   "source": [
    "pmf[2] = 0.2\n",
    "pmf(2)"
   ]
  },
  {
   "cell_type": "markdown",
   "id": "69db5cfb",
   "metadata": {},
   "source": [
    "You can modify an existing `Pmf` by incrementing the probability associated with a value:"
   ]
  },
  {
   "cell_type": "code",
   "execution_count": 14,
   "id": "25ecc3b0",
   "metadata": {},
   "outputs": [],
   "source": [
    "pmf[2] += 0.3\n",
    "pmf[2]"
   ]
  },
  {
   "cell_type": "markdown",
   "id": "b4de74dd",
   "metadata": {},
   "source": [
    "Or you can multiply a probability by a factor:"
   ]
  },
  {
   "cell_type": "code",
   "execution_count": 15,
   "id": "df663bda",
   "metadata": {},
   "outputs": [],
   "source": [
    "pmf[2] *= 0.5\n",
    "pmf[2]"
   ]
  },
  {
   "cell_type": "markdown",
   "id": "3abe8d9e",
   "metadata": {},
   "source": [
    "If you modify a `Pmf`, the result may not be normalized -- that is, the probabilities may no longer add up to 1."
   ]
  },
  {
   "cell_type": "code",
   "execution_count": 16,
   "id": "864a09be",
   "metadata": {},
   "outputs": [],
   "source": [
    "pmf.sum()"
   ]
  },
  {
   "cell_type": "markdown",
   "id": "bce848f1",
   "metadata": {},
   "source": [
    "The `normalize` method renormalizes the `Pmf` by dividing through by the sum -- and returning the sum. "
   ]
  },
  {
   "cell_type": "code",
   "execution_count": 17,
   "id": "a06845d8",
   "metadata": {},
   "outputs": [],
   "source": [
    "pmf.normalize()"
   ]
  },
  {
   "cell_type": "markdown",
   "id": "4ae297e6",
   "metadata": {},
   "source": [
    "`Pmf` objects provide a `copy` method so you can make and modify a copy without affecting the original."
   ]
  },
  {
   "cell_type": "code",
   "execution_count": 18,
   "id": "7738244e",
   "metadata": {},
   "outputs": [],
   "source": [
    "pmf.copy()"
   ]
  },
  {
   "cell_type": "markdown",
   "id": "94f5f531",
   "metadata": {},
   "source": [
    "Like a `Hist` object, a `Pmf` object has a `qs` attribute that accesses the quantities and a `ps` attribute that accesses the probabilities.\n",
    "\n",
    "It also has a `bar` method that plots the `Pmf` as a bar graph and a `plot` method that plots it as a line graph."
   ]
  },
  {
   "cell_type": "markdown",
   "id": "3e77da45",
   "metadata": {},
   "source": [
    "## Summary Statistics\n",
    "\n",
    "In Section XXX we computed the mean of a sample by adding up the elements and dividing by `n`.\n",
    "Here's a simple example."
   ]
  },
  {
   "cell_type": "code",
   "execution_count": 19,
   "id": "07579612",
   "metadata": {},
   "outputs": [],
   "source": [
    "seq = [1, 2, 2, 3, 5]\n",
    "\n",
    "mean = np.sum(seq) / len(seq)\n",
    "mean"
   ]
  },
  {
   "cell_type": "markdown",
   "id": "7ca46b48",
   "metadata": {},
   "source": [
    "Now suppose we compute the PMF of the values in the sequence."
   ]
  },
  {
   "cell_type": "code",
   "execution_count": 20,
   "id": "fa1ca2c9",
   "metadata": {},
   "outputs": [],
   "source": [
    "pmf = Pmf.from_seq(seq)"
   ]
  },
  {
   "cell_type": "markdown",
   "id": "ea4a034d",
   "metadata": {},
   "source": [
    "Given the `Pmf`, we can still compute the mean, but the process is different -- we have to multiply the probabilities and quantities and add up the products."
   ]
  },
  {
   "cell_type": "code",
   "execution_count": 21,
   "id": "f73de148",
   "metadata": {},
   "outputs": [],
   "source": [
    "mean = np.sum(pmf.ps * pmf.qs)\n",
    "mean"
   ]
  },
  {
   "cell_type": "markdown",
   "id": "b7913b14",
   "metadata": {},
   "source": [
    "The `mean` method does the same thing."
   ]
  },
  {
   "cell_type": "code",
   "execution_count": 22,
   "id": "b7a352d8",
   "metadata": {},
   "outputs": [],
   "source": [
    "pmf.mean()"
   ]
  },
  {
   "cell_type": "markdown",
   "id": "444f74bd",
   "metadata": {},
   "source": [
    "Notice that we *don't* have to divide by `n`, because we already did that when we normalized the `Pmf`.\n",
    "\n",
    "Give a `Pmf`, we can compute the variance by computing the deviation of each quantity from the mean."
   ]
  },
  {
   "cell_type": "code",
   "execution_count": 23,
   "id": "06ecd356",
   "metadata": {},
   "outputs": [],
   "source": [
    "deviations = pmf.qs - mean"
   ]
  },
  {
   "cell_type": "markdown",
   "id": "b4a01857",
   "metadata": {},
   "source": [
    "Then we multiply the squared deviations by the probabilities and add up the products."
   ]
  },
  {
   "cell_type": "code",
   "execution_count": 24,
   "id": "bd600815",
   "metadata": {},
   "outputs": [],
   "source": [
    "var = np.sum(pmf.ps * deviations**2)\n",
    "var"
   ]
  },
  {
   "cell_type": "markdown",
   "id": "f8a9a9b6",
   "metadata": {},
   "source": [
    "The `var` method does the same thing."
   ]
  },
  {
   "cell_type": "code",
   "execution_count": 25,
   "id": "a220d0e6",
   "metadata": {},
   "outputs": [],
   "source": [
    "pmf.var()"
   ]
  },
  {
   "cell_type": "markdown",
   "id": "9a1c2c57",
   "metadata": {},
   "source": [
    "From the variance, we can compute the standard deviation in the usual way."
   ]
  },
  {
   "cell_type": "code",
   "execution_count": 26,
   "id": "5e152cda",
   "metadata": {},
   "outputs": [],
   "source": [
    "np.sqrt(var)"
   ]
  },
  {
   "cell_type": "markdown",
   "id": "f2accd22",
   "metadata": {},
   "source": [
    "Or the `std` method does the same thing."
   ]
  },
  {
   "cell_type": "code",
   "execution_count": 27,
   "id": "e7557612",
   "metadata": {},
   "outputs": [],
   "source": [
    "pmf.std()"
   ]
  },
  {
   "cell_type": "markdown",
   "id": "6645531f",
   "metadata": {},
   "source": [
    "`Pmf` also provides a `mode` method that finds the value with the highest probability."
   ]
  },
  {
   "cell_type": "code",
   "execution_count": 28,
   "id": "19405109",
   "metadata": {},
   "outputs": [],
   "source": [
    "pmf.mode()"
   ]
  },
  {
   "cell_type": "markdown",
   "id": "51fc69ca",
   "metadata": {},
   "source": [
    "## The Class Size Paradox\n",
    "\n",
    "As an example of what we can do with `Pmf` objects, let's consider a phenomenon I call \"the class size paradox.\"\n",
    "\n",
    "At many American colleges and universities, the student-to-faculty ratio is about 10:1.\n",
    "But students are often surprised to discover that their average class size is bigger than 10. There are two reasons for the discrepancy:\n",
    "\n",
    "-   Students typically take 4 or 5 classes per semester, but professors often teach 1 or 2.\n",
    "\n",
    "-   The number of students who enjoy a small class is small, but the number of students in a large class is large.\n",
    "\n",
    "The first effect is obvious, at least once it is pointed out; the second is more subtle.\n",
    "Let's look at an example.\n",
    "Suppose that a college offers 65 classes in a given semester, and we are given the number of classes in each of the following size ranges."
   ]
  },
  {
   "cell_type": "code",
   "execution_count": 29,
   "id": "36fa48bc",
   "metadata": {},
   "outputs": [],
   "source": [
    "ranges = pd.interval_range(start=5, end=50, freq=5, closed=\"left\")\n",
    "ranges.name = \"class size\"\n",
    "\n",
    "data = pd.DataFrame(index=ranges)\n",
    "data[\"count\"] = [8, 8, 14, 4, 6, 12, 8, 3, 2]\n",
    "data"
   ]
  },
  {
   "cell_type": "markdown",
   "id": "2e43baa6",
   "metadata": {},
   "source": [
    "Since we don't know the sizes of the classes in each range, let's assume that all sizes are at the midpoint of the range."
   ]
  },
  {
   "cell_type": "code",
   "execution_count": 30,
   "id": "36f208f9",
   "metadata": {},
   "outputs": [],
   "source": [
    "sizes = ranges.left + 2\n",
    "sizes"
   ]
  },
  {
   "cell_type": "markdown",
   "id": "7551d814",
   "metadata": {},
   "source": [
    "Now let's make a `Pmf` that represents the distribution of class sizes.\n",
    "Because we already know the frequency of each size, we don't have to use `from_seq`; instead, we can create a `Pmf` directly, passing as arguments the counts, sizes, and name.\n",
    "When we normalize the new `Pmf`, the result is the sum of the counts."
   ]
  },
  {
   "cell_type": "code",
   "execution_count": 31,
   "id": "c1db28bc",
   "metadata": {},
   "outputs": [],
   "source": [
    "counts = data[\"count\"]\n",
    "actual_pmf = Pmf(counts, sizes, name=\"actual\")\n",
    "actual_pmf.normalize()"
   ]
  },
  {
   "cell_type": "markdown",
   "id": "ca39aa3a",
   "metadata": {},
   "source": [
    "If you ask the college for the average class size, they report the mean of this distribution, which is 23.7."
   ]
  },
  {
   "cell_type": "code",
   "execution_count": 32,
   "id": "6f8eb2c2",
   "metadata": {},
   "outputs": [],
   "source": [
    "print(\"mean\", actual_pmf.mean())"
   ]
  },
  {
   "cell_type": "markdown",
   "id": "0d22bd69",
   "metadata": {},
   "source": [
    "But if you survey a group of students, ask them how many students are in their classes, and compute the mean, the average is bigger.\n",
    "Let's see how much bigger.\n",
    "\n",
    "The following function takes the actual `Pmf` of class sizes and makes a new `Pmf` that represents the class sizes as seen by students.\n",
    "The quantities in the two distributions are the same, but the probabilities in the distribution are multiplied by the quantities, because in a class with size `x`, there are `x` students who observe that class.\n",
    "So the probability of observing a class is proportional to its size."
   ]
  },
  {
   "cell_type": "code",
   "execution_count": 33,
   "id": "3cef6126",
   "metadata": {},
   "outputs": [],
   "source": [
    "def bias(pmf, name):\n",
    "    qs = pmf.qs\n",
    "    ps = pmf.ps * pmf.qs\n",
    "\n",
    "    new_pmf = Pmf(ps, pmf.qs, name=name)\n",
    "    new_pmf.normalize()\n",
    "    return new_pmf"
   ]
  },
  {
   "cell_type": "markdown",
   "id": "f1449478",
   "metadata": {},
   "source": [
    "Now we can compute the biased `Pmf` as observed by students."
   ]
  },
  {
   "cell_type": "code",
   "execution_count": 34,
   "id": "6df3cccb",
   "metadata": {},
   "outputs": [],
   "source": [
    "observed_pmf = bias(actual_pmf, name=\"observed\")"
   ]
  },
  {
   "cell_type": "markdown",
   "id": "e96df61b",
   "metadata": {},
   "source": [
    "Here's what the two distributions look like."
   ]
  },
  {
   "cell_type": "code",
   "execution_count": 35,
   "id": "1c2b81d9",
   "metadata": {},
   "outputs": [],
   "source": [
    "from thinkstats import two_bar_plots\n",
    "\n",
    "two_bar_plots(actual_pmf, observed_pmf, width=2)\n",
    "decorate(xlabel=\"Class size\", ylabel=\"PMF\")"
   ]
  },
  {
   "cell_type": "markdown",
   "id": "2842ea59",
   "metadata": {},
   "source": [
    "In the observed distribution there are fewer small classes and more large ones.\n",
    "And the mean is 29.1, almost 25% higher than the actual mean."
   ]
  },
  {
   "cell_type": "code",
   "execution_count": 36,
   "id": "61623eb5",
   "metadata": {},
   "outputs": [],
   "source": [
    "observed_pmf.mean()"
   ]
  },
  {
   "cell_type": "markdown",
   "id": "d6820e00",
   "metadata": {},
   "source": [
    "It is also possible to invert this operation.\n",
    "Suppose you want to find the distribution of class sizes at a college, but you can't get reliable data.\n",
    "One option is to choose a random sample of students and ask how many students are in their classes.\n",
    "\n",
    "The result would be biased for the reasons we've just seen, but you can use it to estimate the actual distribution.\n",
    "Here's the function that unbiases a `Pmf` by dividing the probabilities by the sizes."
   ]
  },
  {
   "cell_type": "code",
   "execution_count": 37,
   "id": "4c52202b",
   "metadata": {},
   "outputs": [],
   "source": [
    "def unbias(pmf, name):\n",
    "    qs = pmf.qs\n",
    "    ps = pmf.ps / pmf.qs\n",
    "\n",
    "    new_pmf = Pmf(ps, pmf.qs, name=name)\n",
    "    new_pmf.normalize()\n",
    "    return new_pmf"
   ]
  },
  {
   "cell_type": "markdown",
   "id": "9728cc41",
   "metadata": {},
   "source": [
    "And here's the result."
   ]
  },
  {
   "cell_type": "code",
   "execution_count": 38,
   "id": "e69c6e88",
   "metadata": {},
   "outputs": [],
   "source": [
    "debiased_pmf = unbias(observed_pmf, \"debiased\")\n",
    "debiased_pmf.mean()"
   ]
  },
  {
   "cell_type": "markdown",
   "id": "d9b23744",
   "metadata": {},
   "source": [
    "The mean of the debiased `Pmf` is the same as the mean of the actual distribution we started with.\n",
    "If you think this example is interesting, you might like Chapter 2 of *Probably Overthinking It*, which includes this and several other examples of what's called the \"inspection paradox\"."
   ]
  },
  {
   "cell_type": "markdown",
   "id": "089ffa11",
   "metadata": {},
   "source": [
    "## NSFG Data\n",
    "\n",
    "In the previous chapter, we plotting histograms for the distributions of pregnancy lengths for first babies and others.\n",
    "But the sizes of the groups are not the same, so we can't compare the histograms directly.\n",
    "Because PMFs are normalized so they add up to 1, we can compare them.\n",
    "\n",
    "TODO: Intro NSFG data\n",
    "Instructions for downloading the data are in the notebook for this chapter."
   ]
  },
  {
   "cell_type": "markdown",
   "id": "ead45565",
   "metadata": {
    "tags": []
   },
   "source": [
    "The following cells download the data files and install `statadict`, which we need to read the data."
   ]
  },
  {
   "cell_type": "code",
   "execution_count": 39,
   "id": "31216ce5",
   "metadata": {
    "tags": []
   },
   "outputs": [],
   "source": [
    "try:\n",
    "    import statadict\n",
    "except ImportError:\n",
    "    !pip install statadict"
   ]
  },
  {
   "cell_type": "code",
   "execution_count": 40,
   "id": "7deaf238",
   "metadata": {
    "tags": []
   },
   "outputs": [],
   "source": [
    "download(\"https://github.com/AllenDowney/ThinkStats/raw/v3/nb/nsfg.py\")\n",
    "download(\"https://github.com/AllenDowney/ThinkStats/raw/v3/data/2002FemPreg.dct\")\n",
    "download(\"https://github.com/AllenDowney/ThinkStats/raw/v3/data/2002FemPreg.dat.gz\")"
   ]
  },
  {
   "cell_type": "markdown",
   "id": "550534f3",
   "metadata": {},
   "source": [
    "Again, we can use `read_fem_preg` to read the pregnancy file and use the `query` method to select live births."
   ]
  },
  {
   "cell_type": "markdown",
   "id": "1b94e467",
   "metadata": {},
   "source": [
    "We can use `birthord` to separate first babies and others into two groups."
   ]
  },
  {
   "cell_type": "code",
   "execution_count": 41,
   "id": "945aea2d",
   "metadata": {},
   "outputs": [],
   "source": [
    "from nsfg import read_fem_preg\n",
    "\n",
    "\n",
    "def get_nsfg_groups():\n",
    "    \"\"\"Read the NSFG pregnancy file and split into groups.\n",
    "    \n",
    "    returns: all live births, first babies, other babies\n",
    "    \"\"\"\n",
    "    preg = read_fem_preg()\n",
    "    live = preg.query(\"outcome == 1\")\n",
    "    firsts = live.query(\"birthord == 1\")\n",
    "    others = live.query(\"birthord != 1\")\n",
    "    return live, firsts, others"
   ]
  },
  {
   "cell_type": "code",
   "execution_count": 42,
   "id": "4424061e",
   "metadata": {},
   "outputs": [],
   "source": [
    "live, firsts, others = get_nsfg_groups()"
   ]
  },
  {
   "cell_type": "markdown",
   "id": "db6ed39a",
   "metadata": {},
   "source": [
    "And make a `Pmf` for the pregnancy lengths in each group."
   ]
  },
  {
   "cell_type": "code",
   "execution_count": 43,
   "id": "900062cf",
   "metadata": {},
   "outputs": [],
   "source": [
    "first_pmf = Pmf.from_seq(firsts[\"prglngth\"], name=\"firsts\")\n",
    "other_pmf = Pmf.from_seq(others[\"prglngth\"], name=\"others\")"
   ]
  },
  {
   "cell_type": "markdown",
   "id": "26d3185a",
   "metadata": {},
   "source": [
    "Here are the PMFs of pregnancy length for first babies and others, plotted as bar graphs."
   ]
  },
  {
   "cell_type": "code",
   "execution_count": 44,
   "id": "62c91cfa",
   "metadata": {},
   "outputs": [],
   "source": [
    "two_bar_plots(first_pmf, other_pmf)\n",
    "decorate(xlabel=\"weeks\", ylabel=\"probability\", xlim=[20, 50])"
   ]
  },
  {
   "cell_type": "markdown",
   "id": "cc505018",
   "metadata": {},
   "source": [
    "By plotting the PMF instead of the histogram, we can compare the two distributions without being misled by the difference in sample size.\n",
    "Based on this figure, first babies seem to be less likely than others to arrive on time (week 39) and more likely to be late (weeks 41 and 42)."
   ]
  },
  {
   "cell_type": "markdown",
   "id": "8f2e5b2f",
   "metadata": {},
   "source": [
    "## Other Visualizations\n",
    "\n",
    "Histograms and PMFs are useful while you are exploring data and trying to identify patterns and relationships.\n",
    "Once you have an idea what is going on, a good next step is to design a visualization that makes the patterns you have identified as clear as possible.\n",
    "\n",
    "In the NSFG data, the biggest differences in the distributions are near the mode.\n",
    "So it makes sense to zoom in on that part of the graph, and select data from weeks 35 to 46.\n",
    "\n",
    "When we call a `Pmf` object like a function, we can look up a sequence of quantities and get a sequence of probabilities."
   ]
  },
  {
   "cell_type": "code",
   "execution_count": 45,
   "id": "9f134fc5",
   "metadata": {},
   "outputs": [],
   "source": [
    "weeks = range(35, 46)\n",
    "first_pmf(weeks)"
   ]
  },
  {
   "cell_type": "code",
   "execution_count": 46,
   "id": "e185339f",
   "metadata": {},
   "outputs": [],
   "source": [
    "other_pmf(weeks)"
   ]
  },
  {
   "cell_type": "markdown",
   "id": "332a7946",
   "metadata": {},
   "source": [
    "So we can compute the differences in the probabilities like this."
   ]
  },
  {
   "cell_type": "code",
   "execution_count": 47,
   "id": "36d0ba81",
   "metadata": {},
   "outputs": [],
   "source": [
    "diffs = first_pmf(weeks) - other_pmf(weeks)\n",
    "diffs"
   ]
  },
  {
   "cell_type": "markdown",
   "id": "cdad3427",
   "metadata": {},
   "source": [
    "Here's what they look like, multiplied by 100 to express the differences in percentage points."
   ]
  },
  {
   "cell_type": "code",
   "execution_count": 48,
   "id": "3f40b276",
   "metadata": {},
   "outputs": [],
   "source": [
    "plt.bar(weeks, diffs * 100)\n",
    "decorate(xlabel=\"Weeks\", ylabel=\"Difference (percentage points)\")"
   ]
  },
  {
   "cell_type": "markdown",
   "id": "11615bb9",
   "metadata": {},
   "source": [
    "This figure makes the pattern clearer: first babies are less likely to be born in week 39, and somewhat more likely to be born in weeks 41 and 42.\n",
    "\n",
    "For now we can't be sure this effect is real -- it might be due to random variation.\n",
    "We'll revisit that question in Chapter xxx."
   ]
  },
  {
   "cell_type": "markdown",
   "id": "93d2684e",
   "metadata": {},
   "source": [
    "## Glossary\n",
    "\n",
    "-   **Probability mass function (PMF)**: a representation of a distribution as a function that maps from values to probabilities.\n",
    "\n",
    "-   **probability**: A frequency expressed as a fraction of the sample size.\n",
    "\n",
    "-   **normalization**: The process of dividing a frequency by a sample size to get a probability.\n",
    "\n",
    "-   **index**: In a Pandas `DataFrame`, the index is a special column that contains the row labels."
   ]
  },
  {
   "cell_type": "markdown",
   "id": "e818cde9",
   "metadata": {
    "collapsed": true
   },
   "source": [
    "## Exercises\n",
    "\n",
    "For the exercises in this chapter, we'll use the NSFG respondent file, which contains one row for each respondent."
   ]
  },
  {
   "cell_type": "code",
   "execution_count": 49,
   "id": "461a9ed7",
   "metadata": {
    "tags": []
   },
   "outputs": [],
   "source": [
    "download(\"https://github.com/AllenDowney/ThinkStats/raw/v3/data/2002FemResp.dct\")\n",
    "download(\"https://github.com/AllenDowney/ThinkStats/raw/v3/data/2002FemResp.dat.gz\")"
   ]
  },
  {
   "cell_type": "markdown",
   "id": "7c7ce2b7",
   "metadata": {
    "tags": []
   },
   "source": [
    "The codebook for this dataset is at <https://ftp.cdc.gov/pub/Health_Statistics/NCHS/Dataset_Documentation/NSFG/Cycle6Codebook-Female.pdf>."
   ]
  },
  {
   "cell_type": "markdown",
   "id": "1b40d801",
   "metadata": {},
   "source": [
    "The `nsfg.py` module provides a function that reads the respondent file and returns a `DataFrame`."
   ]
  },
  {
   "cell_type": "code",
   "execution_count": 50,
   "id": "861e38b1",
   "metadata": {},
   "outputs": [],
   "source": [
    "from nsfg import read_fem_resp\n",
    "\n",
    "resp = read_fem_resp()\n",
    "resp.shape"
   ]
  },
  {
   "cell_type": "markdown",
   "id": "5495601a",
   "metadata": {},
   "source": [
    "This `DataFrame` contains 7643 rows and 3092 columns."
   ]
  },
  {
   "cell_type": "markdown",
   "id": "8e509710",
   "metadata": {},
   "source": [
    "### Exercise\n",
    "\n",
    "Select the column `numbabes`, which records the \"number of babies born alive\" to the respondent.\n",
    "Make a `Hist` object and display the frequencies of the values in this column.\n",
    "Check that they are consistent with the frequencies in the code book.\n",
    "Are there any special values that should be replaced with `nan`?\n",
    "\n",
    "Then make a `Pmf` object and plot it as a bar graph. Is the distribution symmetric, skewed to the left, or skewed to the right?"
   ]
  },
  {
   "cell_type": "code",
   "execution_count": 51,
   "id": "e4933509",
   "metadata": {},
   "outputs": [],
   "source": [
    "# Solution goes here"
   ]
  },
  {
   "cell_type": "code",
   "execution_count": 52,
   "id": "92d10a12",
   "metadata": {},
   "outputs": [],
   "source": [
    "# Solution goes here"
   ]
  },
  {
   "cell_type": "code",
   "execution_count": 53,
   "id": "9f96f3d4",
   "metadata": {},
   "outputs": [],
   "source": [
    "pmf.bar()\n",
    "decorate(xlabel=\"Number of babies\", ylabel=\"PMF\")"
   ]
  },
  {
   "cell_type": "code",
   "execution_count": 54,
   "id": "64937b8c",
   "metadata": {},
   "outputs": [],
   "source": [
    "# Solution goes here"
   ]
  },
  {
   "cell_type": "markdown",
   "id": "071ae7e7",
   "metadata": {},
   "source": [
    "### Exercise\n",
    "\n",
    "In the same way that the mean identifies a central point in a distribution, and variance quantifies its spread, there is another statistic, called **skewness**, that is intended to indicate whether a distribution is skewed to the left or right.\n",
    "\n",
    "Given a sample, we can compute the skewness by computing the sum of the cubed deviations and dividing by the standard deviation cubed.\n",
    "For example, here's how we compute the skewness of `numbabes`.\n"
   ]
  },
  {
   "cell_type": "code",
   "execution_count": 55,
   "id": "f67d55f5",
   "metadata": {},
   "outputs": [],
   "source": [
    "numbabes = resp[\"numbabes\"].replace(97, np.nan)"
   ]
  },
  {
   "cell_type": "code",
   "execution_count": 56,
   "id": "7e1b1e04",
   "metadata": {},
   "outputs": [],
   "source": [
    "deviations = numbabes - numbabes.mean()\n",
    "skewness = np.mean(deviations**3) / numbabes.std(ddof=0) ** 3\n",
    "skewness"
   ]
  },
  {
   "cell_type": "markdown",
   "id": "79f68b36",
   "metadata": {},
   "source": [
    "In general, a positive value indicates that a distribution is skewed to the right, and a negative value indicates that it is skewed to the left.\n",
    "\n",
    "If you are given a `Pmf`, rather than a sequence of values, you can compute skewness like this:\n",
    "\n",
    "1. Compute the deviation of each quantity in the `Pmf` from the mean.\n",
    "\n",
    "2. Cube the deviations, multiply by the probabilities in the `Pmf`, and add up the products.\n",
    "\n",
    "3. Divide the sum by the standard deviation cubed.\n",
    "\n",
    "Write a function called `pmf_skewness` that takes a `Pmf` object and returns its skewness."
   ]
  },
  {
   "cell_type": "code",
   "execution_count": 57,
   "id": "95e9d102",
   "metadata": {},
   "outputs": [],
   "source": [
    "# Solution goes here"
   ]
  },
  {
   "cell_type": "markdown",
   "id": "bbd5e64f",
   "metadata": {},
   "source": [
    "Use your function and the `Pmf` of `numbabes` to compute skewness, and confirm you get the same result."
   ]
  },
  {
   "cell_type": "code",
   "execution_count": 58,
   "id": "4e442b4b",
   "metadata": {},
   "outputs": [],
   "source": [
    "# Solution goes here"
   ]
  },
  {
   "cell_type": "markdown",
   "id": "81e26051",
   "metadata": {},
   "source": [
    "**Exercise:** Something like the class size paradox appears if you survey children and ask how many children are in their family.\n",
    "Families with many children are more likely to appear in your sample, and families with no children have no chance to be in the sample.\n",
    "\n",
    "From `resp`, select `numkdhh`, which records the number of children under 18 in each respondent's household.\n",
    "Make a `Pmf` of the values in this column.\n",
    "\n",
    "Use the `bias` function to compute the distribution we would see if we surveyed the children and asked them how many children under 18 (including themselves) are in their household.\n",
    "\n",
    "Plot the actual and biased distributions, and compute their means."
   ]
  },
  {
   "cell_type": "code",
   "execution_count": 59,
   "id": "8a263d8e",
   "metadata": {},
   "outputs": [],
   "source": [
    "# Solution goes here"
   ]
  },
  {
   "cell_type": "code",
   "execution_count": 60,
   "id": "019396ef",
   "metadata": {},
   "outputs": [],
   "source": [
    "# Solution goes here"
   ]
  },
  {
   "cell_type": "code",
   "execution_count": 61,
   "id": "064c0161",
   "metadata": {},
   "outputs": [],
   "source": [
    "# Solution goes here"
   ]
  },
  {
   "cell_type": "code",
   "execution_count": 62,
   "id": "e0c4082f",
   "metadata": {},
   "outputs": [],
   "source": [
    "# Solution goes here"
   ]
  },
  {
   "cell_type": "code",
   "execution_count": null,
   "id": "8c0f582a",
   "metadata": {},
   "outputs": [],
   "source": []
  }
 ],
 "metadata": {
  "celltoolbar": "Tags",
  "kernelspec": {
   "display_name": "Python 3 (ipykernel)",
   "language": "python",
   "name": "python3"
  },
  "language_info": {
   "codemirror_mode": {
    "name": "ipython",
    "version": 3
   },
   "file_extension": ".py",
   "mimetype": "text/x-python",
   "name": "python",
   "nbconvert_exporter": "python",
   "pygments_lexer": "ipython3",
   "version": "3.10.14"
  }
 },
 "nbformat": 4,
 "nbformat_minor": 5
}
