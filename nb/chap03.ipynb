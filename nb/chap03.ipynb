{
 "cells": [
  {
   "cell_type": "markdown",
   "id": "259c89bc",
   "metadata": {},
   "source": [
    "# Probability mass functions\n"
   ]
  },
  {
   "cell_type": "code",
   "execution_count": 1,
   "id": "11dd3ca1",
   "metadata": {},
   "outputs": [],
   "source": [
    "%load_ext nb_black\n",
    "%load_ext autoreload\n",
    "%autoreload 2\n"
   ]
  },
  {
   "cell_type": "code",
   "execution_count": 2,
   "id": "c74d6411",
   "metadata": {},
   "outputs": [],
   "source": [
    "from os.path import basename, exists\n",
    "\n",
    "\n",
    "def download(url):\n",
    "    filename = basename(url)\n",
    "    if not exists(filename):\n",
    "        from urllib.request import urlretrieve\n",
    "\n",
    "        local, _ = urlretrieve(url, filename)\n",
    "        print(\"Downloaded \" + local)\n",
    "\n",
    "\n",
    "download(\"https://github.com/AllenDowney/ThinkStats/raw/v3/nb/thinkstats2.py\")\n",
    "download(\"https://github.com/AllenDowney/ThinkStats/raw/v3/nb/thinkplot.py\")\n",
    "download(\"https://github.com/AllenDowney/ThinkStats/raw/v3/nb/nsfg.py\")"
   ]
  },
  {
   "cell_type": "code",
   "execution_count": 3,
   "id": "705e03ad",
   "metadata": {},
   "outputs": [],
   "source": [
    "download(\"https://github.com/AllenDowney/ThinkStats/raw/v3/nb/2002FemPreg.dct\")\n",
    "download(\n",
    "    \"https://github.com/AllenDowney/ThinkStats/raw/v3/nb/2002FemPreg.dat.gz\"\n",
    ")"
   ]
  },
  {
   "cell_type": "markdown",
   "id": "eeed5af8",
   "metadata": {},
   "source": [
    "## Pmfs\n",
    "\n",
    "Another way to represent a distribution is a **probability mass\n",
    "function** (PMF), which maps from each value to its probability. A\n",
    "**probability** is a frequency expressed as a fraction of the sample\n",
    "size, `n`. To get from frequencies to probabilities, we divide through\n",
    "by `n`, which is called **normalization**.\n",
    "\n",
    "Given a Hist, we can make a dictionary that maps from each value to its\n",
    "probability:"
   ]
  },
  {
   "cell_type": "raw",
   "id": "4a269216",
   "metadata": {},
   "source": [
    "n = hist.Total()\n",
    "d = {}\n",
    "for x, freq in hist.Items():\n",
    "    d[x] = freq / n"
   ]
  },
  {
   "cell_type": "markdown",
   "id": "b631fb0a",
   "metadata": {},
   "source": [
    "Or we can use the Pmf class provided by `thinkstats2`. Like Hist, the\n",
    "Pmf constructor can take a list, pandas Series, dictionary, Hist, or\n",
    "another Pmf object. Here's an example with a simple list:"
   ]
  },
  {
   "cell_type": "code",
   "execution_count": 4,
   "id": "3fff30ec",
   "metadata": {},
   "outputs": [],
   "source": [
    "import thinkstats2\n",
    "\n",
    "pmf = thinkstats2.Pmf([1, 2, 2, 3, 5])\n",
    "pmf"
   ]
  },
  {
   "cell_type": "markdown",
   "id": "ff05014f",
   "metadata": {},
   "source": [
    "The Pmf is normalized so total probability is 1.\n",
    "\n",
    "Pmf and Hist objects are similar in many ways; in fact, they inherit\n",
    "many of their methods from a common parent class. For example, the\n",
    "methods `Values` and `Items` work the same way for both. The biggest\n",
    "difference is that a Hist maps from values to integer counters; a Pmf\n",
    "maps from values to floating-point probabilities.\n",
    "\n",
    "To look up the probability associated with a value, use `Prob`:"
   ]
  },
  {
   "cell_type": "code",
   "execution_count": 5,
   "id": "2ac2919b",
   "metadata": {},
   "outputs": [],
   "source": [
    "pmf.prob(2)"
   ]
  },
  {
   "cell_type": "markdown",
   "id": "1350ecaa",
   "metadata": {},
   "source": [
    "The bracket operator is equivalent:"
   ]
  },
  {
   "cell_type": "code",
   "execution_count": 6,
   "id": "66c782c4",
   "metadata": {},
   "outputs": [],
   "source": [
    "pmf[2]"
   ]
  },
  {
   "cell_type": "markdown",
   "id": "98af6144",
   "metadata": {},
   "source": [
    "You can modify an existing Pmf by incrementing the probability\n",
    "associated with a value:"
   ]
  },
  {
   "cell_type": "code",
   "execution_count": 7,
   "id": "b53f5742",
   "metadata": {},
   "outputs": [],
   "source": [
    "pmf.incr(2, 0.2)\n",
    "pmf.prob(2)"
   ]
  },
  {
   "cell_type": "markdown",
   "id": "b4de74dd",
   "metadata": {},
   "source": [
    "Or you can multiply a probability by a factor:"
   ]
  },
  {
   "cell_type": "code",
   "execution_count": 8,
   "id": "df663bda",
   "metadata": {},
   "outputs": [],
   "source": [
    "pmf.mult(2, 0.5)\n",
    "pmf.prob(2)"
   ]
  },
  {
   "cell_type": "markdown",
   "id": "3abe8d9e",
   "metadata": {},
   "source": [
    "If you modify a Pmf, the result may not be normalized; that is, the\n",
    "probabilities may no longer add up to 1. To check, you can call `Total`,\n",
    "which returns the sum of the probabilities:"
   ]
  },
  {
   "cell_type": "code",
   "execution_count": 9,
   "id": "864a09be",
   "metadata": {},
   "outputs": [],
   "source": [
    "pmf.total()"
   ]
  },
  {
   "cell_type": "markdown",
   "id": "bce848f1",
   "metadata": {},
   "source": [
    "To renormalize, call `Normalize`:"
   ]
  },
  {
   "cell_type": "code",
   "execution_count": 10,
   "id": "a06845d8",
   "metadata": {},
   "outputs": [],
   "source": [
    "pmf.normalize()\n",
    "pmf.total()"
   ]
  },
  {
   "cell_type": "markdown",
   "id": "94f5f531",
   "metadata": {},
   "source": [
    "Pmf objects provide a `Copy` method so you can make and modify a copy\n",
    "without affecting the original.\n",
    "\n",
    "My notation in this section might seem inconsistent, but there is a\n",
    "system: I use Pmf for the name of the class, `pmf` for an instance of\n",
    "the class, and PMF for the mathematical concept of a probability mass\n",
    "function."
   ]
  },
  {
   "cell_type": "markdown",
   "id": "4133bcf7",
   "metadata": {},
   "source": [
    "## Plotting PMFs\n",
    "\n",
    "`thinkplot` provides two ways to plot Pmfs:\n",
    "\n",
    "-   To plot a Pmf as a bar graph, you can use `thinkplot.Hist`. Bar\n",
    "    graphs are most useful if the number of values in the Pmf is small.\n",
    "\n",
    "-   To plot a Pmf as a step function, you can use `thinkplot.Pmf`. This\n",
    "    option is most useful if there are a large number of values and the\n",
    "    Pmf is smooth. This function also works with Hist objects.\n",
    "\n",
    "In addition, `pyplot` provides a function called `hist` that takes a\n",
    "sequence of values, computes a histogram, and plots it. Since I use Hist\n",
    "objects, I usually don't use `pyplot.hist`.\n",
    "\n",
    "![PMF of pregnancy lengths for first babies and others, using bar graphs\n",
    "and step functions.](figs/probability_nsfg_pmf.pdf){height=\"3.0in\"}\n",
    "\n",
    "Figure [\\[probability_nsfg_pmf\\]](#probability_nsfg_pmf){reference-type=\"ref\"\n",
    "reference=\"probability_nsfg_pmf\"} shows PMFs of pregnancy length for\n",
    "first babies and others using bar graphs (left) and step functions\n",
    "(right).\n",
    "\n",
    "By plotting the PMF instead of the histogram, we can compare the two\n",
    "distributions without being mislead by the difference in sample size.\n",
    "Based on this figure, first babies seem to be less likely than others to\n",
    "arrive on time (week 39) and more likely to be a late (weeks 41 and 42).\n",
    "\n",
    "Here's the code that generates\n",
    "Figure [\\[probability_nsfg_pmf\\]](#probability_nsfg_pmf){reference-type=\"ref\"\n",
    "reference=\"probability_nsfg_pmf\"}:"
   ]
  },
  {
   "cell_type": "code",
   "execution_count": 11,
   "id": "907e310f",
   "metadata": {},
   "outputs": [],
   "source": [
    "import nsfg\n",
    "\n",
    "live, firsts, others = nsfg.make_frames()"
   ]
  },
  {
   "cell_type": "code",
   "execution_count": 12,
   "id": "cdb7a2c7",
   "metadata": {},
   "outputs": [],
   "source": [
    "first_pmf = thinkstats2.Pmf(firsts.prglngth, label=\"firsts\")\n",
    "other_pmf = thinkstats2.Pmf(others.prglngth, label=\"others\")"
   ]
  },
  {
   "cell_type": "code",
   "execution_count": 13,
   "id": "9600cf18",
   "metadata": {},
   "outputs": [],
   "source": [
    "import thinkplot\n",
    "\n",
    "width = 0.45\n",
    "axis = [27, 46, 0, 0.6]\n",
    "thinkplot.pre_plot(2, cols=2)\n",
    "thinkplot.hist(first_pmf, align=\"right\", width=width)\n",
    "thinkplot.hist(other_pmf, align=\"left\", width=width)\n",
    "thinkplot.config(xlabel=\"weeks\", ylabel=\"probability\", axis=axis)\n",
    "thinkplot.pre_plot(2)\n",
    "thinkplot.sub_plot(2)\n",
    "thinkplot.pmfs([first_pmf, other_pmf])\n",
    "thinkplot.show(xlabel=\"weeks\", axis=axis)"
   ]
  },
  {
   "cell_type": "markdown",
   "id": "d57e2b30",
   "metadata": {},
   "source": [
    "`PrePlot` takes optional parameters `rows` and `cols` to make a grid of\n",
    "figures, in this case one row of two figures. The first figure (on the\n",
    "left) displays the Pmfs using `thinkplot.Hist`, as we have seen before.\n",
    "\n",
    "The second call to `PrePlot` resets the color generator. Then `SubPlot`\n",
    "switches to the second figure (on the right) and displays the Pmfs using\n",
    "`thinkplot.Pmfs`. I used the `axis` option to ensure that the two\n",
    "figures are on the same axes, which is generally a good idea if you\n",
    "intend to compare two figures."
   ]
  },
  {
   "cell_type": "markdown",
   "id": "eb0948b1",
   "metadata": {},
   "source": [
    "## Other visualizations\n",
    "\n",
    "Histograms and PMFs are useful while you are exploring data and trying\n",
    "to identify patterns and relationships. Once you have an idea what is\n",
    "going on, a good next step is to design a visualization that makes the\n",
    "patterns you have identified as clear as possible.\n",
    "\n",
    "In the NSFG data, the biggest differences in the distributions are near\n",
    "the mode. So it makes sense to zoom in on that part of the graph, and to\n",
    "transform the data to emphasize differences:"
   ]
  },
  {
   "cell_type": "code",
   "execution_count": 14,
   "id": "59ed702f",
   "metadata": {},
   "outputs": [],
   "source": [
    "weeks = range(35, 46)\n",
    "diffs = []\n",
    "for week in weeks:\n",
    "    p1 = first_pmf.prob(week)\n",
    "    p2 = other_pmf.prob(week)\n",
    "    diff = 100 * (p1 - p2)\n",
    "    diffs.append(diff)\n",
    "thinkplot.bar(weeks, diffs)"
   ]
  },
  {
   "cell_type": "markdown",
   "id": "17576d2e",
   "metadata": {},
   "source": [
    "In this code, `weeks` is the range of weeks; `diffs` is the difference\n",
    "between the two PMFs in percentage points.\n",
    "Figure [\\[probability_nsfg_diffs\\]](#probability_nsfg_diffs){reference-type=\"ref\"\n",
    "reference=\"probability_nsfg_diffs\"} shows the result as a bar chart.\n",
    "This figure makes the pattern clearer: first babies are less likely to\n",
    "be born in week 39, and somewhat more likely to be born in weeks 41 and\n",
    "42.\n",
    "\n",
    "![Difference, in percentage points, by\n",
    "week.](figs/probability_nsfg_diffs.pdf){height=\"2.5in\"}\n",
    "\n",
    "For now we should hold this conclusion only tentatively. We used the\n",
    "same dataset to identify an apparent difference and then chose a\n",
    "visualization that makes the difference apparent. We can't be sure this\n",
    "effect is real; it might be due to random variation. We'll address this\n",
    "concern later."
   ]
  },
  {
   "cell_type": "markdown",
   "id": "51fc69ca",
   "metadata": {},
   "source": [
    "## The class size paradox\n",
    "\n",
    "Before we go on, I want to demonstrate one kind of computation you can\n",
    "do with Pmf objects; I call this example the \"class size paradox.\"\n",
    "\n",
    "At many American colleges and universities, the student-to-faculty ratio\n",
    "is about 10:1. But students are often surprised to discover that their\n",
    "average class size is bigger than 10. There are two reasons for the\n",
    "discrepancy:\n",
    "\n",
    "-   Students typically take 4--5 classes per semester, but professors\n",
    "    often teach 1 or 2.\n",
    "\n",
    "-   The number of students who enjoy a small class is small, but the\n",
    "    number of students in a large class is (ahem!) large.\n",
    "\n",
    "The first effect is obvious, at least once it is pointed out; the second\n",
    "is more subtle. Let's look at an example. Suppose that a college offers\n",
    "65 classes in a given semester, with the following distribution of\n",
    "sizes:"
   ]
  },
  {
   "cell_type": "raw",
   "id": "d14e5f73",
   "metadata": {},
   "source": [
    "size      count\n",
    "     5- 9          8\n",
    "    10-14          8\n",
    "    15-19         14\n",
    "    20-24          4\n",
    "    25-29          6\n",
    "    30-34         12\n",
    "    35-39          8\n",
    "    40-44          3\n",
    "    45-49          2"
   ]
  },
  {
   "cell_type": "markdown",
   "id": "7551d814",
   "metadata": {},
   "source": [
    "If you ask the Dean for the average class size, he would construct a\n",
    "PMF, compute the mean, and report that the average class size is 23.7.\n",
    "Here's the code:"
   ]
  },
  {
   "cell_type": "code",
   "execution_count": 15,
   "id": "6f8eb2c2",
   "metadata": {},
   "outputs": [],
   "source": [
    "d = {(7): 8, (12): 8, (17): 14, (22): 4, (27): 6, (32): 12, (37): 8, (42): 3, (47): 2}\n",
    "pmf = thinkstats2.Pmf(d, label=\"actual\")\n",
    "print(\"mean\", pmf.mean())"
   ]
  },
  {
   "cell_type": "markdown",
   "id": "0d22bd69",
   "metadata": {},
   "source": [
    "But if you survey a group of students, ask them how many students are in\n",
    "their classes, and compute the mean, you would think the average class\n",
    "was bigger. Let's see how much bigger.\n",
    "\n",
    "First, I compute the distribution as observed by students, where the\n",
    "probability associated with each class size is \"biased\" by the number of\n",
    "students in the class."
   ]
  },
  {
   "cell_type": "code",
   "execution_count": 16,
   "id": "3cef6126",
   "metadata": {},
   "outputs": [],
   "source": [
    "def bias_pmf(pmf, label):\n",
    "    new_pmf = pmf.copy(label=label)\n",
    "    for x, p in pmf.items():\n",
    "        new_pmf.mult(x, x)\n",
    "    new_pmf.normalize()\n",
    "    return new_pmf"
   ]
  },
  {
   "cell_type": "markdown",
   "id": "f1449478",
   "metadata": {},
   "source": [
    "For each class size, `x`, we multiply the probability by `x`, the number\n",
    "of students who observe that class size. The result is a new Pmf that\n",
    "represents the biased distribution.\n",
    "\n",
    "Now we can plot the actual and observed distributions:"
   ]
  },
  {
   "cell_type": "code",
   "execution_count": 17,
   "id": "1c2b81d9",
   "metadata": {},
   "outputs": [],
   "source": [
    "biased_pmf = bias_pmf(pmf, label=\"observed\")\n",
    "thinkplot.pre_plot(2)\n",
    "thinkplot.pmfs([pmf, biased_pmf])\n",
    "thinkplot.show(xlabel=\"class size\", ylabel=\"PMF\")"
   ]
  },
  {
   "cell_type": "markdown",
   "id": "d6820e00",
   "metadata": {},
   "source": [
    "![Distribution of class sizes, actual and as observed by\n",
    "students.](figs/class_size1.pdf){height=\"3.0in\"}\n",
    "\n",
    "Figure [\\[class_size1\\]](#class_size1){reference-type=\"ref\"\n",
    "reference=\"class_size1\"} shows the result. In the biased distribution\n",
    "there are fewer small classes and more large ones. The mean of the\n",
    "biased distribution is 29.1, almost 25% higher than the actual mean.\n",
    "\n",
    "It is also possible to invert this operation. Suppose you want to find\n",
    "the distribution of class sizes at a college, but you can't get reliable\n",
    "data from the Dean. An alternative is to choose a random sample of\n",
    "students and ask how many students are in their classes.\n",
    "\n",
    "The result would be biased for the reasons we've just seen, but you can\n",
    "use it to estimate the actual distribution. Here's the function that\n",
    "unbiases a Pmf:"
   ]
  },
  {
   "cell_type": "code",
   "execution_count": 18,
   "id": "4c52202b",
   "metadata": {},
   "outputs": [],
   "source": [
    "def unbias_pmf(pmf, label):\n",
    "    new_pmf = pmf.copy(label=label)\n",
    "    for x, p in pmf.items():\n",
    "        new_pmf.mult(x, 1.0 / x)\n",
    "    new_pmf.normalize()\n",
    "    return new_pmf"
   ]
  },
  {
   "cell_type": "markdown",
   "id": "9728cc41",
   "metadata": {},
   "source": [
    "It's similar to `BiasPmf`; the only difference is that it divides each\n",
    "probability by `x` instead of multiplying."
   ]
  },
  {
   "cell_type": "markdown",
   "id": "2e13ab03",
   "metadata": {},
   "source": [
    "## DataFrame indexing\n",
    "\n",
    "In Section [\\[dataframe\\]](#dataframe){reference-type=\"ref\"\n",
    "reference=\"dataframe\"} we read a pandas DataFrame and used it to select\n",
    "and modify data columns. Now let's look at row selection. To start, I\n",
    "create a NumPy array of random numbers and use it to initialize a\n",
    "DataFrame:"
   ]
  },
  {
   "cell_type": "code",
   "execution_count": 19,
   "id": "2d4ef2b8",
   "metadata": {},
   "outputs": [],
   "source": [
    "import numpy as np\n",
    "import pandas\n",
    "\n",
    "array = np.random.randn(4, 2)\n",
    "df = pandas.DataFrame(array)\n",
    "df"
   ]
  },
  {
   "cell_type": "markdown",
   "id": "6d45137a",
   "metadata": {},
   "source": [
    "By default, the rows and columns are numbered starting at zero, but you\n",
    "can provide column names:"
   ]
  },
  {
   "cell_type": "code",
   "execution_count": 20,
   "id": "0976de54",
   "metadata": {},
   "outputs": [],
   "source": [
    "columns = [\"A\", \"B\"]\n",
    "df = pandas.DataFrame(array, columns=columns)\n",
    "df"
   ]
  },
  {
   "cell_type": "markdown",
   "id": "14cbc3ab",
   "metadata": {},
   "source": [
    "You can also provide row names. The set of row names is called the\n",
    "**index**; the row names themselves are called **labels**."
   ]
  },
  {
   "cell_type": "code",
   "execution_count": 21,
   "id": "0f27395f",
   "metadata": {},
   "outputs": [],
   "source": [
    "index = [\"a\", \"b\", \"c\", \"d\"]\n",
    "df = pandas.DataFrame(array, columns=columns, index=index)\n",
    "df"
   ]
  },
  {
   "cell_type": "markdown",
   "id": "d8e6ab1f",
   "metadata": {},
   "source": [
    "As we saw in the previous chapter, simple indexing selects a column,\n",
    "returning a Series:"
   ]
  },
  {
   "cell_type": "code",
   "execution_count": 22,
   "id": "cbdfb26d",
   "metadata": {},
   "outputs": [],
   "source": [
    "df[\"A\"]"
   ]
  },
  {
   "cell_type": "markdown",
   "id": "ada6edd9",
   "metadata": {},
   "source": [
    "To select a row by label, you can use the `loc` attribute, which returns\n",
    "a Series:"
   ]
  },
  {
   "cell_type": "code",
   "execution_count": 23,
   "id": "8a56eb2c",
   "metadata": {},
   "outputs": [],
   "source": [
    "df.loc[\"a\"]"
   ]
  },
  {
   "cell_type": "markdown",
   "id": "0d2bdfc2",
   "metadata": {},
   "source": [
    "If you know the integer position of a row, rather than its label, you\n",
    "can use the `iloc` attribute, which also returns a Series."
   ]
  },
  {
   "cell_type": "code",
   "execution_count": 24,
   "id": "a542ac35",
   "metadata": {},
   "outputs": [],
   "source": [
    "df.iloc[0]"
   ]
  },
  {
   "cell_type": "markdown",
   "id": "65fe785e",
   "metadata": {},
   "source": [
    "`loc` can also take a list of labels; in that case, the result is a\n",
    "DataFrame."
   ]
  },
  {
   "cell_type": "code",
   "execution_count": 25,
   "id": "f3c26591",
   "metadata": {},
   "outputs": [],
   "source": [
    "indices = [\"a\", \"c\"]\n",
    "df.loc[indices]"
   ]
  },
  {
   "cell_type": "markdown",
   "id": "84f4d2f1",
   "metadata": {},
   "source": [
    "Finally, you can use a slice to select a range of rows by label:"
   ]
  },
  {
   "cell_type": "code",
   "execution_count": 26,
   "id": "7b9ad87c",
   "metadata": {},
   "outputs": [],
   "source": [
    "df[\"a\":\"c\"]"
   ]
  },
  {
   "cell_type": "markdown",
   "id": "644ffd7a",
   "metadata": {},
   "source": [
    "Or by integer position:"
   ]
  },
  {
   "cell_type": "code",
   "execution_count": 27,
   "id": "76eaf08a",
   "metadata": {},
   "outputs": [],
   "source": [
    "df[0:2]"
   ]
  },
  {
   "cell_type": "markdown",
   "id": "0009a9a5",
   "metadata": {},
   "source": [
    "The result in either case is a DataFrame, but notice that the first\n",
    "result includes the end of the slice; the second doesn't.\n",
    "\n",
    "My advice: if your rows have labels that are not simple integers, use\n",
    "the labels consistently and avoid using integer positions."
   ]
  },
  {
   "cell_type": "markdown",
   "id": "ee9e9b68",
   "metadata": {},
   "source": [
    "## Exercises\n",
    "\n",
    "Solutions to these exercises are in `chap03soln.ipynb` and\n",
    "`chap03soln.py`\n",
    "\n",
    "### Exercise\n",
    "Something like the class size paradox appears if you survey children and\n",
    "ask how many children are in their family. Families with many children\n",
    "are more likely to appear in your sample, and families with no children\n",
    "have no chance to be in the sample.\n",
    "\n",
    "Use the NSFG respondent variable `NUMKDHH` to construct the actual\n",
    "distribution for the number of children under 18 in the household.\n",
    "\n",
    "Now compute the biased distribution we would see if we surveyed the\n",
    "children and asked them how many children under 18 (including\n",
    "themselves) are in their household.\n",
    "\n",
    "Plot the actual and biased distributions, and compute their means. As a\n",
    "starting place, you can use `chap03ex.ipynb`.\n",
    "\n",
    "\n",
    "### Exercise\n",
    "In Section [\\[mean\\]](#mean){reference-type=\"ref\" reference=\"mean\"} we\n",
    "computed the mean of a sample by adding up the elements and dividing by\n",
    "n. If you are given a PMF, you can still compute the mean, but the\n",
    "process is slightly different: $$\\xbar = \\sum_i p_i~x_i$$ where the\n",
    "$x_i$ are the unique values in the PMF and $p_i=PMF(x_i)$. Similarly,\n",
    "you can compute variance like this: $$S^2 = \\sum_i p_i~(x_i - \\xbar)^2$$\n",
    "Write functions called `PmfMean` and `PmfVar` that take a Pmf object and\n",
    "compute the mean and variance. To test these methods, check that they\n",
    "are consistent with the methods `Mean` and `Var` provided by Pmf.\n",
    "\n",
    "\n",
    "### Exercise\n",
    "I started with the question, \"Are first babies more likely to be late?\"\n",
    "To address it, I computed the difference in means between groups of\n",
    "babies, but I ignored the possibility that there might be a difference\n",
    "between first babies and others *for the same woman*.\n",
    "\n",
    "To address this version of the question, select respondents who have at\n",
    "least two babies and compute pairwise differences. Does this formulation\n",
    "of the question yield a different result?\n",
    "\n",
    "Hint: use `nsfg.MakePregMap`."
   ]
  },
  {
   "cell_type": "markdown",
   "id": "5ea357ae",
   "metadata": {},
   "source": [
    "### Exercise\n",
    "In most foot races, everyone starts at the same time. If you are a fast\n",
    "runner, you usually pass a lot of people at the beginning of the race,\n",
    "but after a few miles everyone around you is going at the same speed.\n",
    "\n",
    "When I ran a long-distance (209 miles) relay race for the first time, I\n",
    "noticed an odd phenomenon: when I overtook another runner, I was usually\n",
    "much faster, and when another runner overtook me, he was usually much\n",
    "faster.\n",
    "\n",
    "At first I thought that the distribution of speeds might be bimodal;\n",
    "that is, there were many slow runners and many fast runners, but few at\n",
    "my speed.\n",
    "\n",
    "Then I realized that I was the victim of a bias similar to the effect of\n",
    "class size. The race was unusual in two ways: it used a staggered start,\n",
    "so teams started at different times; also, many teams included runners\n",
    "at different levels of ability.\n",
    "\n",
    "As a result, runners were spread out along the course with little\n",
    "relationship between speed and location. When I joined the race, the\n",
    "runners near me were (pretty much) a random sample of the runners in the\n",
    "race.\n",
    "\n",
    "So where does the bias come from? During my time on the course, the\n",
    "chance of overtaking a runner, or being overtaken, is proportional to\n",
    "the difference in our speeds. I am more likely to catch a slow runner,\n",
    "and more likely to be caught by a fast runner. But runners at the same\n",
    "speed are unlikely to see each other.\n",
    "\n",
    "Write a function called `ObservedPmf` that takes a Pmf representing the\n",
    "actual distribution of runners' speeds, and the speed of a running\n",
    "observer, and returns a new Pmf representing the distribution of\n",
    "runners' speeds as seen by the observer.\n",
    "\n",
    "To test your function, you can use `relay.py`, which reads the results\n",
    "from the James Joyce Ramble 10K in Dedham MA and converts the pace of\n",
    "each runner to mph.\n",
    "\n",
    "Compute the distribution of speeds you would observe if you ran a relay\n",
    "race at 7.5 mph with this group of runners. A solution to this exercise\n",
    "is in `relay_soln.py`.\n",
    "\n",
    "\n",
    "## Glossary\n",
    "\n",
    "-   **Probability mass function (PMF)**: a representation of a\n",
    "    distribution as a function that maps from values to probabilities.\n",
    "\n",
    "-   **probability**: A frequency expressed as a fraction of the sample\n",
    "    size.\n",
    "\n",
    "-   **normalization**: The process of dividing a frequency by a sample\n",
    "    size to get a probability.\n",
    "\n",
    "-   **index**: In a pandas DataFrame, the index is a special column that\n",
    "    contains the row labels."
   ]
  },
  {
   "cell_type": "markdown",
   "id": "e818cde9",
   "metadata": {
    "collapsed": true
   },
   "source": [
    "## Exercises"
   ]
  },
  {
   "cell_type": "markdown",
   "id": "5656a301",
   "metadata": {},
   "source": [
    "**Exercise:** In Chapter 3 we computed the mean of a sample by adding up\n",
    "the elements and dividing by n.  If you are given a PMF, you can\n",
    "still compute the mean, but the process is slightly different:\n",
    "%\n",
    "$$ \\bar x = \\sum_i p_i~x_i $$\n",
    "%\n",
    "where the $x_i$ are the unique values in the PMF and $p_i=PMF(x_i)$.\n",
    "Similarly, you can compute variance like this:\n",
    "%\n",
    "$$ S^2 = \\sum_i p_i~(x_i - \\bar x)^2 $$\n",
    "% \n",
    "Write functions called `PmfMean` and `PmfVar` that take a\n",
    "Pmf object and compute the mean and variance.  To test these methods,\n",
    "check that they are consistent with the methods `Mean` and `Var`\n",
    "provided by `Pmf`."
   ]
  },
  {
   "cell_type": "code",
   "execution_count": 28,
   "id": "c055d849",
   "metadata": {},
   "outputs": [],
   "source": [
    "def pmf_mean(pmf):\n",
    "    \"\"\"Computes the mean of a PMF.\n",
    "    Returns:\n",
    "        float mean\n",
    "    \"\"\"\n",
    "    return sum(p * x for x, p in pmf.items())"
   ]
  },
  {
   "cell_type": "code",
   "execution_count": 29,
   "id": "2a809c50",
   "metadata": {},
   "outputs": [],
   "source": [
    "def pmf_var(pmf, mu=None):\n",
    "    \"\"\"Computes the variance of a PMF.\n",
    "    mu: the point around which the variance is computed;\n",
    "            if omitted, computes the mean\n",
    "    returns: float variance\n",
    "    \"\"\"\n",
    "    if mu is None:\n",
    "        mu = pmf_mean(pmf)\n",
    "    return sum(p * (x - mu) ** 2 for x, p in pmf.items())"
   ]
  },
  {
   "cell_type": "markdown",
   "id": "81e26051",
   "metadata": {},
   "source": [
    "**Exercise:** Something like the class size paradox appears if you survey children and ask how many children are in their family. Families with many children are more likely to appear in your sample, and families with no children have no chance to be in the sample.\n",
    "\n",
    "Use the NSFG respondent variable `numkdhh` to construct the actual distribution for the number of children under 18 in the respondents' households.\n",
    "\n",
    "Now compute the biased distribution we would see if we surveyed the children and asked them how many children under 18 (including themselves) are in their household.\n",
    "\n",
    "Plot the actual and biased distributions, and compute their means."
   ]
  },
  {
   "cell_type": "code",
   "execution_count": 30,
   "id": "685c5754",
   "metadata": {},
   "outputs": [],
   "source": [
    "download(\"https://github.com/AllenDowney/ThinkStats/raw/v3/nb/2002FemResp.dct\")\n",
    "download(\n",
    "    \"https://github.com/AllenDowney/ThinkStats/raw/v3/nb/2002FemResp.dat.gz\"\n",
    ")"
   ]
  },
  {
   "cell_type": "code",
   "execution_count": 31,
   "id": "002091b6",
   "metadata": {},
   "outputs": [],
   "source": [
    "resp = nsfg.read_fem_resp()"
   ]
  },
  {
   "cell_type": "code",
   "execution_count": 32,
   "id": "994926af",
   "metadata": {},
   "outputs": [],
   "source": [
    "pmf = thinkstats2.Pmf(resp.numkdhh, label=\"numkdhh\")"
   ]
  },
  {
   "cell_type": "code",
   "execution_count": 33,
   "id": "6d8cf8f3",
   "metadata": {},
   "outputs": [],
   "source": [
    "thinkplot.pmf(pmf)\n",
    "thinkplot.config(xlabel=\"Number of children\", ylabel=\"PMF\")"
   ]
  },
  {
   "cell_type": "code",
   "execution_count": 34,
   "id": "019396ef",
   "metadata": {},
   "outputs": [],
   "source": [
    "biased = bias_pmf(pmf, label=\"biased\")"
   ]
  },
  {
   "cell_type": "code",
   "execution_count": 35,
   "id": "064c0161",
   "metadata": {},
   "outputs": [],
   "source": [
    "thinkplot.pre_plot(2)\n",
    "thinkplot.pmfs([pmf, biased])\n",
    "thinkplot.config(xlabel=\"Number of children\", ylabel=\"PMF\")"
   ]
  },
  {
   "cell_type": "code",
   "execution_count": 36,
   "id": "e0c4082f",
   "metadata": {},
   "outputs": [],
   "source": [
    "pmf.mean()"
   ]
  },
  {
   "cell_type": "code",
   "execution_count": 37,
   "id": "ea9bec5b",
   "metadata": {},
   "outputs": [],
   "source": [
    "biased.mean()"
   ]
  },
  {
   "cell_type": "markdown",
   "id": "9adb917d",
   "metadata": {},
   "source": [
    "**Exercise:** I started this book with the question, \"Are first babies more likely to be late?\" To address it, I computed the difference in means between groups of babies, but I ignored the possibility that there might be a difference between first babies and others for the same woman.\n",
    "\n",
    "To address this version of the question, select respondents who have at least two live births and compute pairwise differences. Does this formulation of the question yield a different result?\n",
    "\n",
    "Hint: use `nsfg.MakePregMap`:"
   ]
  },
  {
   "cell_type": "code",
   "execution_count": 38,
   "id": "13875390",
   "metadata": {},
   "outputs": [],
   "source": [
    "live, firsts, others = nsfg.make_frames()"
   ]
  },
  {
   "cell_type": "code",
   "execution_count": 39,
   "id": "d9cf58d3",
   "metadata": {},
   "outputs": [],
   "source": [
    "preg_map = nsfg.make_preg_map(live)"
   ]
  },
  {
   "cell_type": "code",
   "execution_count": 40,
   "id": "b0759fdc",
   "metadata": {},
   "outputs": [],
   "source": [
    "hist = thinkstats2.Hist()\n",
    "for caseid, indices in preg_map.items():\n",
    "    if len(indices) >= 2:\n",
    "        pair = live.loc[indices[0:2]].prglngth\n",
    "        diff = np.diff(pair)[0]\n",
    "        hist[diff] += 1"
   ]
  },
  {
   "cell_type": "code",
   "execution_count": 41,
   "id": "efbf4a29",
   "metadata": {},
   "outputs": [],
   "source": [
    "thinkplot.hist(hist)"
   ]
  },
  {
   "cell_type": "code",
   "execution_count": 42,
   "id": "01d0c9e8",
   "metadata": {},
   "outputs": [],
   "source": [
    "pmf = thinkstats2.Pmf(hist)\n",
    "pmf.mean()"
   ]
  },
  {
   "cell_type": "markdown",
   "id": "208fa6e7",
   "metadata": {},
   "source": [
    "**Exercise:** In most foot races, everyone starts at the same time. If you are a fast runner, you usually pass a lot of people at the beginning of the race, but after a few miles everyone around you is going at the same speed.\n",
    "When I ran a long-distance (209 miles) relay race for the first time, I noticed an odd phenomenon: when I overtook another runner, I was usually much faster, and when another runner overtook me, he was usually much faster.\n",
    "\n",
    "At first I thought that the distribution of speeds might be bimodal; that is, there were many slow runners and many fast runners, but few at my speed.\n",
    "\n",
    "Then I realized that I was the victim of a bias similar to the effect of class size. The race was unusual in two ways: it used a staggered start, so teams started at different times; also, many teams included runners at different levels of ability.\n",
    "\n",
    "As a result, runners were spread out along the course with little relationship between speed and location. When I joined the race, the runners near me were (pretty much) a random sample of the runners in the race.\n",
    "\n",
    "So where does the bias come from? During my time on the course, the chance of overtaking a runner, or being overtaken, is proportional to the difference in our speeds. I am more likely to catch a slow runner, and more likely to be caught by a fast runner. But runners at the same speed are unlikely to see each other.\n",
    "\n",
    "Write a function called `ObservedPmf` that takes a `Pmf` representing the actual distribution of runners’ speeds, and the speed of a running observer, and returns a new `Pmf` representing the distribution of runners’ speeds as seen by the observer.\n",
    "\n",
    "To test your function, you can use `relay.py`, which reads the results from the James Joyce Ramble 10K in Dedham MA and converts the pace of each runner to mph.\n",
    "\n",
    "Compute the distribution of speeds you would observe if you ran a relay race at 7 mph with this group of runners."
   ]
  },
  {
   "cell_type": "code",
   "execution_count": 43,
   "id": "7382158b",
   "metadata": {},
   "outputs": [],
   "source": [
    "download(\"https://github.com/AllenDowney/ThinkStats/raw/v3/nb/relay.py\")\n",
    "download(\n",
    "    \"https://github.com/AllenDowney/ThinkStats/raw/v3/nb/Apr25_27thAn_set1.shtml\"\n",
    ")"
   ]
  },
  {
   "cell_type": "code",
   "execution_count": 44,
   "id": "d6ef0e81",
   "metadata": {},
   "outputs": [],
   "source": [
    "import relay\n",
    "\n",
    "results = relay.read_results()\n",
    "speeds = relay.get_speeds(results)\n",
    "speeds = relay.bin_data(speeds, 3, 12, 100)"
   ]
  },
  {
   "cell_type": "code",
   "execution_count": 45,
   "id": "93c82191",
   "metadata": {},
   "outputs": [],
   "source": [
    "pmf = thinkstats2.Pmf(speeds, \"actual speeds\")\n",
    "thinkplot.pmf(pmf)\n",
    "thinkplot.config(xlabel=\"Speed (mph)\", ylabel=\"PMF\")"
   ]
  },
  {
   "cell_type": "code",
   "execution_count": 46,
   "id": "1af42d5b",
   "metadata": {},
   "outputs": [],
   "source": [
    "def observed_pmf(pmf, speed, label=None):\n",
    "    \"\"\"Returns a new Pmf representing speeds observed at a given speed.\n",
    "\n",
    "    The chance of observing a runner is proportional to the difference\n",
    "    in speed.\n",
    "\n",
    "    Args:\n",
    "        pmf: distribution of actual speeds\n",
    "        speed: speed of the observing runner\n",
    "        label: string label for the new dist\n",
    "\n",
    "    Returns:\n",
    "        Pmf object\n",
    "    \"\"\"\n",
    "    new = pmf.copy(label=label)\n",
    "    for val in new.values():\n",
    "        diff = abs(val - speed)\n",
    "        new[val] *= diff\n",
    "    new.normalize()\n",
    "    return new"
   ]
  },
  {
   "cell_type": "code",
   "execution_count": 47,
   "id": "534b6e85",
   "metadata": {},
   "outputs": [],
   "source": [
    "biased = observed_pmf(pmf, 7, label=\"observed speeds\")\n",
    "thinkplot.pmf(biased)\n",
    "thinkplot.config(xlabel=\"Speed (mph)\", ylabel=\"PMF\")"
   ]
  },
  {
   "cell_type": "code",
   "execution_count": null,
   "id": "46da1c8f",
   "metadata": {},
   "outputs": [],
   "source": []
  }
 ],
 "metadata": {
  "kernelspec": {
   "display_name": "Python 3 (ipykernel)",
   "language": "python",
   "name": "python3"
  },
  "language_info": {
   "codemirror_mode": {
    "name": "ipython",
    "version": 3
   },
   "file_extension": ".py",
   "mimetype": "text/x-python",
   "name": "python",
   "nbconvert_exporter": "python",
   "pygments_lexer": "ipython3",
   "version": "3.10.14"
  }
 },
 "nbformat": 4,
 "nbformat_minor": 5
}
