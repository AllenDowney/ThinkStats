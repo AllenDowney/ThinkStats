{
 "cells": [
  {
   "cell_type": "markdown",
   "id": "259c89bc",
   "metadata": {},
   "source": [
    "# Probability mass functions\n"
   ]
  },
  {
   "cell_type": "code",
   "execution_count": 66,
   "id": "c4578587",
   "metadata": {},
   "outputs": [],
   "source": [
    "from os.path import basename, exists\n",
    "\n",
    "\n",
    "def download(url):\n",
    "    filename = basename(url)\n",
    "    if not exists(filename):\n",
    "        from urllib.request import urlretrieve\n",
    "\n",
    "        local, _ = urlretrieve(url, filename)\n",
    "        print(\"Downloaded \" + local)\n",
    "\n",
    "\n",
    "download(\"https://github.com/AllenDowney/ThinkStats/raw/v3/nb/thinkstats2.py\")\n",
    "download(\"https://github.com/AllenDowney/ThinkStats/raw/v3/nb/thinkplot.py\")"
   ]
  },
  {
   "cell_type": "markdown",
   "id": "eeed5af8",
   "metadata": {},
   "source": [
    "## `Pmf`s\n",
    "\n",
    "Another way to represent a distribution is a **probability mass\n",
    "function** (PMF), which maps from each value to its probability. A\n",
    "**probability** is a frequency expressed as a fraction of the sample\n",
    "size, `n`. To get from frequencies to probabilities, we divide through\n",
    "by `n`, which is called **normalization**.\n",
    "\n",
    "Given a Hist, we can make a dictionary that maps from each value to its\n",
    "probability:"
   ]
  },
  {
   "cell_type": "code",
   "execution_count": 67,
   "id": "f2a4fe22",
   "metadata": {},
   "outputs": [],
   "source": [
    "from thinkstats2 import Hist\n",
    "\n",
    "hist = Hist([1, 2, 2, 3, 5])\n",
    "hist"
   ]
  },
  {
   "cell_type": "code",
   "execution_count": 68,
   "id": "8e1ee1ca",
   "metadata": {},
   "outputs": [],
   "source": [
    "n = hist.total()\n",
    "d = {}\n",
    "for x, freq in hist.items():\n",
    "    d[x] = freq / n\n",
    "\n",
    "d"
   ]
  },
  {
   "cell_type": "markdown",
   "id": "b631fb0a",
   "metadata": {},
   "source": [
    "Or we can use the `Pmf` class provided by `thinkstats2`. Like Hist, the\n",
    "`Pmf` constructor can take a list, pandas `Series`, dictionary, Hist, or\n",
    "another `Pmf` object. Here's an example with a simple list:"
   ]
  },
  {
   "cell_type": "code",
   "execution_count": 94,
   "id": "3fff30ec",
   "metadata": {},
   "outputs": [],
   "source": [
    "from empiricaldist import Pmf\n",
    "\n",
    "pmf = Pmf.from_seq([1, 2, 2, 3, 5])\n",
    "pmf"
   ]
  },
  {
   "cell_type": "markdown",
   "id": "ff05014f",
   "metadata": {},
   "source": [
    "The `Pmf` is normalized so total probability is 1.\n",
    "\n",
    "`Pmf` and `Hist` objects are similar in many ways; in fact, they inherit\n",
    "many of their methods from a common parent class. For example, the\n",
    "methods `values` and `items` work the same way for both. The biggest\n",
    "difference is that a Hist maps from values to integer counters; a `Pmf`\n",
    "maps from values to floating-point probabilities.\n",
    "\n",
    "To look up the probability associated with a value, use parentheses to call the `Pmf` like a function."
   ]
  },
  {
   "cell_type": "code",
   "execution_count": 95,
   "id": "2ac2919b",
   "metadata": {},
   "outputs": [],
   "source": [
    "pmf(2)"
   ]
  },
  {
   "cell_type": "markdown",
   "id": "98af6144",
   "metadata": {},
   "source": [
    "To assign a probability to a quantity, you have to use the bracket operator."
   ]
  },
  {
   "cell_type": "code",
   "execution_count": 96,
   "id": "b53f5742",
   "metadata": {},
   "outputs": [],
   "source": [
    "pmf[2] = 0.2\n",
    "pmf(2)"
   ]
  },
  {
   "cell_type": "markdown",
   "id": "69db5cfb",
   "metadata": {},
   "source": [
    "You can modify an existing `Pmf` by incrementing the probability\n",
    "associated with a value:"
   ]
  },
  {
   "cell_type": "code",
   "execution_count": 97,
   "id": "25ecc3b0",
   "metadata": {},
   "outputs": [],
   "source": [
    "pmf[2] += 0.3\n",
    "pmf(2)"
   ]
  },
  {
   "cell_type": "markdown",
   "id": "b4de74dd",
   "metadata": {},
   "source": [
    "Or you can multiply a probability by a factor:"
   ]
  },
  {
   "cell_type": "code",
   "execution_count": 98,
   "id": "df663bda",
   "metadata": {},
   "outputs": [],
   "source": [
    "pmf[2] *= 0.5\n",
    "pmf(2)"
   ]
  },
  {
   "cell_type": "markdown",
   "id": "3abe8d9e",
   "metadata": {},
   "source": [
    "If you modify a `Pmf`, the result may not be normalized; that is, the\n",
    "probabilities may no longer add up to 1. To check, you can call `sum`,\n",
    "which returns the sum of the probabilities:"
   ]
  },
  {
   "cell_type": "code",
   "execution_count": 101,
   "id": "864a09be",
   "metadata": {},
   "outputs": [],
   "source": [
    "pmf.sum()"
   ]
  },
  {
   "cell_type": "markdown",
   "id": "bce848f1",
   "metadata": {},
   "source": [
    "To renormalize, call `normalize`:"
   ]
  },
  {
   "cell_type": "code",
   "execution_count": 102,
   "id": "a06845d8",
   "metadata": {},
   "outputs": [],
   "source": [
    "pmf.normalize()\n",
    "pmf.sum()"
   ]
  },
  {
   "cell_type": "markdown",
   "id": "4ae297e6",
   "metadata": {},
   "source": [
    "`Pmf` objects provide a `copy` method so you can make and modify a copy\n",
    "without affecting the original."
   ]
  },
  {
   "cell_type": "code",
   "execution_count": 103,
   "id": "7738244e",
   "metadata": {},
   "outputs": [],
   "source": [
    "pmf.copy()"
   ]
  },
  {
   "cell_type": "markdown",
   "id": "94f5f531",
   "metadata": {},
   "source": [
    "A note on notation: I use `Pmf` for the name of the class, `pmf` for an instance of\n",
    "the class, and PMF for the mathematical concept of a probability mass\n",
    "function."
   ]
  },
  {
   "cell_type": "markdown",
   "id": "e1270142",
   "metadata": {},
   "source": [
    "## Plotting PMFs\n",
    "\n",
    "`thinkplot` provides two ways to plot a `pmf`:\n",
    "\n",
    "-   To plot a `Pmf` as a bar graph, you can use `thinkplot.hist`. Bar\n",
    "    graphs are most useful if the number of values in the `Pmf` is small.\n",
    "\n",
    "-   To plot a `Pmf` as a step function, you can use `thinkplot.pmf`. This\n",
    "    option is most useful if there are a large number of values and the\n",
    "    `Pmf` is smooth. This function also works with `Hist` objects."
   ]
  },
  {
   "cell_type": "markdown",
   "id": "f322f122",
   "metadata": {},
   "source": [
    "The following figure shows PMFs of pregnancy length for first babies and others using bar graphs."
   ]
  },
  {
   "cell_type": "code",
   "execution_count": 104,
   "id": "86b2b6bf",
   "metadata": {},
   "outputs": [],
   "source": [
    "download(\"https://github.com/AllenDowney/ThinkStats/raw/v3/nb/nsfg.py\")\n",
    "download(\"https://github.com/AllenDowney/ThinkStats/raw/v3/data/2002FemPreg.dct\")\n",
    "download(\"https://github.com/AllenDowney/ThinkStats/raw/v3/data/2002FemPreg.dat.gz\")"
   ]
  },
  {
   "cell_type": "code",
   "execution_count": 105,
   "id": "907e310f",
   "metadata": {},
   "outputs": [],
   "source": [
    "import nsfg\n",
    "\n",
    "live, firsts, others = nsfg.make_frames()"
   ]
  },
  {
   "cell_type": "code",
   "execution_count": 107,
   "id": "cdb7a2c7",
   "metadata": {},
   "outputs": [],
   "source": [
    "first_pmf = Pmf.from_seq(firsts.prglngth, name=\"firsts\")\n",
    "other_pmf = Pmf.from_seq(others.prglngth, name=\"others\")"
   ]
  },
  {
   "cell_type": "code",
   "execution_count": 121,
   "id": "be38a831",
   "metadata": {},
   "outputs": [],
   "source": [
    "def pmf_bar_plots(pmf1, pmf2, width=0.45, **options):\n",
    "    pmf1.bar(align=\"edge\", width=-width, **options)\n",
    "    pmf2.bar(align=\"edge\", width=width, **options)"
   ]
  },
  {
   "cell_type": "code",
   "execution_count": 129,
   "id": "623f3021",
   "metadata": {},
   "outputs": [],
   "source": [
    "import thinkplot\n",
    "\n",
    "width = 0.45\n",
    "pmf_bar_plots(first_pmf, other_pmf)\n",
    "thinkplot.config(xlabel=\"weeks\", ylabel=\"probability\", xlim=[24, 46])"
   ]
  },
  {
   "cell_type": "markdown",
   "id": "a551e8a0",
   "metadata": {},
   "source": [
    "The following figure shows the same PMFs as step functions."
   ]
  },
  {
   "cell_type": "code",
   "execution_count": 130,
   "id": "9600cf18",
   "metadata": {},
   "outputs": [],
   "source": [
    "first_pmf.plot()\n",
    "other_pmf.plot()\n",
    "thinkplot.config(xlabel=\"weeks\", ylabel=\"probability\", xlim=[24, 46])"
   ]
  },
  {
   "cell_type": "markdown",
   "id": "4133bcf7",
   "metadata": {},
   "source": [
    "By plotting the PMF instead of the histogram, we can compare the two\n",
    "distributions without being mislead by the difference in sample size.\n",
    "Based on this figure, first babies seem to be less likely than others to\n",
    "arrive on time (week 39) and more likely to be late (weeks 41 and 42)."
   ]
  },
  {
   "cell_type": "markdown",
   "id": "eb0948b1",
   "metadata": {},
   "source": [
    "## Other visualizations\n",
    "\n",
    "Histograms and PMFs are useful while you are exploring data and trying\n",
    "to identify patterns and relationships. Once you have an idea what is\n",
    "going on, a good next step is to design a visualization that makes the\n",
    "patterns you have identified as clear as possible.\n",
    "\n",
    "In the NSFG data, the biggest differences in the distributions are near\n",
    "the mode. So it makes sense to zoom in on that part of the graph, and to\n",
    "transform the data to emphasize differences:"
   ]
  },
  {
   "cell_type": "code",
   "execution_count": 112,
   "id": "59ed702f",
   "metadata": {},
   "outputs": [],
   "source": [
    "weeks = range(35, 46)\n",
    "diffs = []\n",
    "for week in weeks:\n",
    "    p1 = first_pmf(week)\n",
    "    p2 = other_pmf(week)\n",
    "    diff = 100 * (p1 - p2)\n",
    "    diffs.append(diff)\n",
    "thinkplot.bar(weeks, diffs)\n",
    "thinkplot.config(xlabel=\"Weeks\", ylabel=\"Difference (percentage points)\")"
   ]
  },
  {
   "cell_type": "markdown",
   "id": "b2033ad5",
   "metadata": {},
   "source": [
    "In this code, `weeks` is the range of weeks; `diffs` is the difference\n",
    "between the two PMFs in percentage points.\n",
    "The following figure shows the result as a bar chart.\n",
    "This figure makes the pattern clearer: first babies are less likely to\n",
    "be born in week 39, and somewhat more likely to be born in weeks 41 and\n",
    "42.\n",
    "\n",
    "For now we should hold this conclusion only tentatively. We used the\n",
    "same dataset to identify an apparent difference and then chose a\n",
    "visualization that makes the difference apparent. We can't be sure this\n",
    "effect is real; it might be due to random variation. We'll address this\n",
    "concern later."
   ]
  },
  {
   "cell_type": "markdown",
   "id": "51fc69ca",
   "metadata": {},
   "source": [
    "## The class size paradox\n",
    "\n",
    "Before we go on, I want to demonstrate one kind of computation you can\n",
    "do with `Pmf` objects; I call this example the \"class size paradox.\"\n",
    "\n",
    "At many American colleges and universities, the student-to-faculty ratio\n",
    "is about 10:1. But students are often surprised to discover that their\n",
    "average class size is bigger than 10. There are two reasons for the\n",
    "discrepancy:\n",
    "\n",
    "-   Students typically take 4--5 classes per semester, but professors\n",
    "    often teach 1 or 2.\n",
    "\n",
    "-   The number of students who enjoy a small class is small, but the\n",
    "    number of students in a large class is (ahem!) large.\n",
    "\n",
    "The first effect is obvious, at least once it is pointed out; the second\n",
    "is more subtle. Let's look at an example. Suppose that a college offers\n",
    "65 classes in a given semester, with the following distribution of\n",
    "sizes:"
   ]
  },
  {
   "cell_type": "raw",
   "id": "d14e5f73",
   "metadata": {},
   "source": [
    "```\n",
    "     size      count\n",
    "     5- 9          8\n",
    "    10-14          8\n",
    "    15-19         14\n",
    "    20-24          4\n",
    "    25-29          6\n",
    "    30-34         12\n",
    "    35-39          8\n",
    "    40-44          3\n",
    "    45-49          2\n",
    "```"
   ]
  },
  {
   "cell_type": "markdown",
   "id": "7551d814",
   "metadata": {},
   "source": [
    "If you ask the Dean for the average class size, he would construct a\n",
    "PMF, compute the mean, and report that the average class size is 23.7.\n",
    "Here's the code:"
   ]
  },
  {
   "cell_type": "code",
   "execution_count": 113,
   "id": "6f8eb2c2",
   "metadata": {},
   "outputs": [],
   "source": [
    "d = {7: 8, 12: 8, 17: 14, 22: 4, 27: 6, 32: 12, 37: 8, 42: 3, 47: 2}\n",
    "\n",
    "pmf = Pmf.from_seq(d, name=\"actual\")\n",
    "print(\"mean\", pmf.mean())"
   ]
  },
  {
   "cell_type": "markdown",
   "id": "0d22bd69",
   "metadata": {},
   "source": [
    "But if you survey a group of students, ask them how many students are in\n",
    "their classes, and compute the mean, you would think the average class\n",
    "was bigger. Let's see how much bigger.\n",
    "\n",
    "First, I compute the distribution as observed by students, where the\n",
    "probability associated with each class size is \"biased\" by the number of\n",
    "students in the class."
   ]
  },
  {
   "cell_type": "code",
   "execution_count": 117,
   "id": "3cef6126",
   "metadata": {},
   "outputs": [],
   "source": [
    "def bias_pmf(pmf, name):\n",
    "    new_pmf = pmf.copy()\n",
    "    new_pmf.name = name\n",
    "\n",
    "    for x, p in pmf.items():\n",
    "        new_pmf[x] *= x\n",
    "    new_pmf.normalize()\n",
    "    return new_pmf"
   ]
  },
  {
   "cell_type": "markdown",
   "id": "f1449478",
   "metadata": {},
   "source": [
    "For each class size, `x`, we multiply the probability by `x`, the number\n",
    "of students who observe that class size. The result is a new `Pmf` that\n",
    "represents the biased distribution.\n",
    "\n",
    "Now we can plot the actual and observed distributions:"
   ]
  },
  {
   "cell_type": "code",
   "execution_count": 118,
   "id": "6df3cccb",
   "metadata": {},
   "outputs": [],
   "source": [
    "biased_pmf = bias_pmf(pmf, name=\"observed\")"
   ]
  },
  {
   "cell_type": "code",
   "execution_count": 131,
   "id": "1c2b81d9",
   "metadata": {},
   "outputs": [],
   "source": [
    "pmf_bar_plots(pmf, biased_pmf)\n",
    "thinkplot.config(xlabel=\"class size\", ylabel=\"PMF\")"
   ]
  },
  {
   "cell_type": "markdown",
   "id": "d6820e00",
   "metadata": {},
   "source": [
    "The following figure shows the result. In the biased distribution\n",
    "there are fewer small classes and more large ones. The mean of the\n",
    "biased distribution is 29.1, almost 25% higher than the actual mean.\n",
    "\n",
    "It is also possible to invert this operation. Suppose you want to find\n",
    "the distribution of class sizes at a college, but you can't get reliable\n",
    "data from the Dean. An alternative is to choose a random sample of\n",
    "students and ask how many students are in their classes.\n",
    "\n",
    "The result would be biased for the reasons we've just seen, but you can\n",
    "use it to estimate the actual distribution. Here's the function that\n",
    "unbiases a `Pmf`:"
   ]
  },
  {
   "cell_type": "code",
   "execution_count": 132,
   "id": "4c52202b",
   "metadata": {},
   "outputs": [],
   "source": [
    "def unbias_pmf(pmf, name):\n",
    "    new_pmf = pmf.copy()\n",
    "    new_pmf.name = name\n",
    "\n",
    "    for x, p in pmf.items():\n",
    "        new_pmf[x] /= x\n",
    "\n",
    "    new_pmf.normalize()\n",
    "    return new_pmf"
   ]
  },
  {
   "cell_type": "markdown",
   "id": "9728cc41",
   "metadata": {},
   "source": [
    "It's similar to `unbias_pmf`; the only difference is that it divides each\n",
    "probability by `x` instead of multiplying."
   ]
  },
  {
   "cell_type": "markdown",
   "id": "2e13ab03",
   "metadata": {},
   "source": [
    "## `DataFrame` indexing\n",
    "\n",
    "In Chapter 2 we read a Pandas `DataFrame` and used it to select\n",
    "and modify data columns. Now let's look at row selection. To start, I\n",
    "create a NumPy array of random numbers and use it to initialize a\n",
    "`DataFrame`:"
   ]
  },
  {
   "cell_type": "code",
   "execution_count": 134,
   "id": "2d4ef2b8",
   "metadata": {},
   "outputs": [],
   "source": [
    "import numpy as np\n",
    "import pandas as pd\n",
    "\n",
    "array = np.random.random((4, 2))\n",
    "df = pd.DataFrame(array)\n",
    "df"
   ]
  },
  {
   "cell_type": "markdown",
   "id": "6d45137a",
   "metadata": {},
   "source": [
    "By default, the rows and columns are numbered starting at zero, but you\n",
    "can provide column names:"
   ]
  },
  {
   "cell_type": "code",
   "execution_count": 135,
   "id": "0976de54",
   "metadata": {},
   "outputs": [],
   "source": [
    "columns = [\"A\", \"B\"]\n",
    "df = pd.DataFrame(array, columns=columns)\n",
    "df"
   ]
  },
  {
   "cell_type": "markdown",
   "id": "14cbc3ab",
   "metadata": {},
   "source": [
    "You can also provide row names. The set of row names is called the\n",
    "**index**; the row names themselves are called **labels**."
   ]
  },
  {
   "cell_type": "code",
   "execution_count": 136,
   "id": "0f27395f",
   "metadata": {},
   "outputs": [],
   "source": [
    "index = [\"a\", \"b\", \"c\", \"d\"]\n",
    "df = pd.DataFrame(array, columns=columns, index=index)\n",
    "df"
   ]
  },
  {
   "cell_type": "markdown",
   "id": "d8e6ab1f",
   "metadata": {},
   "source": [
    "As we saw in the previous chapter, simple indexing selects a column,\n",
    "returning a `Series`:"
   ]
  },
  {
   "cell_type": "code",
   "execution_count": 137,
   "id": "cbdfb26d",
   "metadata": {},
   "outputs": [],
   "source": [
    "df[\"A\"]"
   ]
  },
  {
   "cell_type": "markdown",
   "id": "ada6edd9",
   "metadata": {},
   "source": [
    "To select a row by label, you can use the `loc` attribute, which returns\n",
    "a `Series`:"
   ]
  },
  {
   "cell_type": "code",
   "execution_count": 138,
   "id": "8a56eb2c",
   "metadata": {},
   "outputs": [],
   "source": [
    "df.loc[\"a\"]"
   ]
  },
  {
   "cell_type": "markdown",
   "id": "0d2bdfc2",
   "metadata": {},
   "source": [
    "If you know the integer position of a row, rather than its label, you\n",
    "can use the `iloc` attribute, which also returns a `Series`."
   ]
  },
  {
   "cell_type": "code",
   "execution_count": 140,
   "id": "a542ac35",
   "metadata": {},
   "outputs": [],
   "source": [
    "df.iloc[0]"
   ]
  },
  {
   "cell_type": "markdown",
   "id": "65fe785e",
   "metadata": {},
   "source": [
    "`loc` can also take a list of labels; in that case, the result is a\n",
    "`DataFrame`."
   ]
  },
  {
   "cell_type": "code",
   "execution_count": 141,
   "id": "f3c26591",
   "metadata": {},
   "outputs": [],
   "source": [
    "indices = [\"a\", \"c\"]\n",
    "df.loc[indices]"
   ]
  },
  {
   "cell_type": "markdown",
   "id": "84f4d2f1",
   "metadata": {},
   "source": [
    "Finally, you can use a slice to select a range of rows by label:"
   ]
  },
  {
   "cell_type": "code",
   "execution_count": 142,
   "id": "7b9ad87c",
   "metadata": {},
   "outputs": [],
   "source": [
    "df[\"a\":\"c\"]"
   ]
  },
  {
   "cell_type": "markdown",
   "id": "644ffd7a",
   "metadata": {},
   "source": [
    "Or by integer position:"
   ]
  },
  {
   "cell_type": "code",
   "execution_count": 143,
   "id": "76eaf08a",
   "metadata": {},
   "outputs": [],
   "source": [
    "df[0:2]"
   ]
  },
  {
   "cell_type": "markdown",
   "id": "0009a9a5",
   "metadata": {},
   "source": [
    "The result in either case is a `DataFrame`, but notice that the first\n",
    "result includes the end of the slice; the second doesn't.\n",
    "\n",
    "My advice: if your rows have labels that are not simple integers, use\n",
    "the labels consistently and avoid using integer positions."
   ]
  },
  {
   "cell_type": "markdown",
   "id": "93d2684e",
   "metadata": {},
   "source": [
    "## Glossary\n",
    "\n",
    "-   **Probability mass function (PMF)**: a representation of a\n",
    "    distribution as a function that maps from values to probabilities.\n",
    "\n",
    "-   **probability**: A frequency expressed as a fraction of the sample\n",
    "    size.\n",
    "\n",
    "-   **normalization**: The process of dividing a frequency by a sample\n",
    "    size to get a probability.\n",
    "\n",
    "-   **index**: In a Pandas `DataFrame`, the index is a special column that\n",
    "    contains the row labels."
   ]
  },
  {
   "cell_type": "markdown",
   "id": "e818cde9",
   "metadata": {
    "collapsed": true
   },
   "source": [
    "## Exercises"
   ]
  },
  {
   "cell_type": "markdown",
   "id": "5656a301",
   "metadata": {},
   "source": [
    "**Exercise:** In Section XXX we computed the mean of a sample by adding up\n",
    "the elements and dividing by n.  If you are given a PMF, you can\n",
    "still compute the mean, but the process is slightly different:\n",
    "\n",
    "$$ \\bar x = \\sum_i p_i~x_i $$\n",
    "\n",
    "where the $x_i$ are the unique values in the PMF and $p_i=PMF(x_i)$.\n",
    "Similarly, you can compute variance like this:\n",
    "\n",
    "$$ S^2 = \\sum_i p_i~(x_i - \\bar x)^2 $$\n",
    " \n",
    "Write functions called `pmf_mean` and `pmf_var` that take a\n",
    "`Pmf` object and compute the mean and variance.  To test these methods,\n",
    "check that they are consistent with the methods `mean` and `var`\n",
    "provided by `Pmf`."
   ]
  },
  {
   "cell_type": "code",
   "execution_count": 150,
   "id": "856fdbad",
   "metadata": {},
   "outputs": [],
   "source": [
    "pmf = Pmf.from_seq([1, 2, 2, 3, 5])\n",
    "pmf.mean(), pmf.var()"
   ]
  },
  {
   "cell_type": "code",
   "execution_count": 151,
   "id": "c055d849",
   "metadata": {},
   "outputs": [],
   "source": [
    "# Solution goes here"
   ]
  },
  {
   "cell_type": "code",
   "execution_count": 152,
   "id": "2a809c50",
   "metadata": {},
   "outputs": [],
   "source": [
    "# Solution goes here"
   ]
  },
  {
   "cell_type": "markdown",
   "id": "81e26051",
   "metadata": {},
   "source": [
    "**Exercise:** Something like the class size paradox appears if you survey children and ask how many children are in their family. Families with many children are more likely to appear in your sample, and families with no children have no chance to be in the sample.\n",
    "\n",
    "Use the NSFG respondent variable `numkdhh` to construct the actual distribution for the number of children under 18 in the respondents' households.\n",
    "\n",
    "Now compute the biased distribution we would see if we surveyed the children and asked them how many children under 18 (including themselves) are in their household.\n",
    "\n",
    "Plot the actual and biased distributions, and compute their means."
   ]
  },
  {
   "cell_type": "code",
   "execution_count": 153,
   "id": "685c5754",
   "metadata": {},
   "outputs": [],
   "source": [
    "download(\"https://github.com/AllenDowney/ThinkStats/raw/v3/data/2002FemResp.dct\")\n",
    "download(\"https://github.com/AllenDowney/ThinkStats/raw/v3/data/2002FemResp.dat.gz\")"
   ]
  },
  {
   "cell_type": "code",
   "execution_count": 154,
   "id": "002091b6",
   "metadata": {},
   "outputs": [],
   "source": [
    "resp = nsfg.read_fem_resp()"
   ]
  },
  {
   "cell_type": "code",
   "execution_count": 156,
   "id": "994926af",
   "metadata": {},
   "outputs": [],
   "source": [
    "# Solution goes here"
   ]
  },
  {
   "cell_type": "code",
   "execution_count": 157,
   "id": "6d8cf8f3",
   "metadata": {},
   "outputs": [],
   "source": [
    "# Solution goes here"
   ]
  },
  {
   "cell_type": "code",
   "execution_count": 159,
   "id": "019396ef",
   "metadata": {},
   "outputs": [],
   "source": [
    "# Solution goes here"
   ]
  },
  {
   "cell_type": "code",
   "execution_count": 160,
   "id": "064c0161",
   "metadata": {},
   "outputs": [],
   "source": [
    "# Solution goes here"
   ]
  },
  {
   "cell_type": "code",
   "execution_count": 161,
   "id": "e0c4082f",
   "metadata": {},
   "outputs": [],
   "source": [
    "# Solution goes here"
   ]
  },
  {
   "cell_type": "code",
   "execution_count": 162,
   "id": "ea9bec5b",
   "metadata": {},
   "outputs": [],
   "source": [
    "# Solution goes here"
   ]
  },
  {
   "cell_type": "markdown",
   "id": "9adb917d",
   "metadata": {},
   "source": [
    "**Exercise:** I started this book with the question, \"Are first babies more likely to be late?\" To address it, I computed the difference in means between groups of babies, but I ignored the possibility that there might be a difference between first babies and others for the same woman.\n",
    "\n",
    "To address this version of the question, select respondents who have at least two live births and compute pairwise differences. Does this formulation of the question yield a different result?"
   ]
  },
  {
   "cell_type": "code",
   "execution_count": 163,
   "id": "13875390",
   "metadata": {},
   "outputs": [],
   "source": [
    "live, firsts, others = nsfg.make_frames()"
   ]
  },
  {
   "cell_type": "code",
   "execution_count": 164,
   "id": "d9cf58d3",
   "metadata": {},
   "outputs": [],
   "source": [
    "preg_map = nsfg.make_preg_map(live)"
   ]
  },
  {
   "cell_type": "code",
   "execution_count": 165,
   "id": "b0759fdc",
   "metadata": {},
   "outputs": [],
   "source": [
    "# Solution goes here"
   ]
  },
  {
   "cell_type": "code",
   "execution_count": 166,
   "id": "efbf4a29",
   "metadata": {},
   "outputs": [],
   "source": [
    "# Solution goes here"
   ]
  },
  {
   "cell_type": "code",
   "execution_count": 167,
   "id": "01d0c9e8",
   "metadata": {},
   "outputs": [],
   "source": [
    "# Solution goes here"
   ]
  },
  {
   "cell_type": "markdown",
   "id": "208fa6e7",
   "metadata": {},
   "source": [
    "**Exercise:** In most foot races, everyone starts at the same time. If you are a fast runner, you usually pass a lot of people at the beginning of the race, but after a few miles everyone around you is going at the same speed.\n",
    "When I ran a long-distance (209 miles) relay race for the first time, I noticed an odd phenomenon: when I overtook another runner, I was usually much faster, and when another runner overtook me, he was usually much faster.\n",
    "\n",
    "At first I thought that the distribution of speeds might be bimodal; that is, there were many slow runners and many fast runners, but few at my speed.\n",
    "\n",
    "Then I realized that I was the victim of a bias similar to the effect of class size. The race was unusual in two ways: it used a staggered start, so teams started at different times; also, many teams included runners at different levels of ability.\n",
    "\n",
    "As a result, runners were spread out along the course with little relationship between speed and location. When I joined the race, the runners near me were (pretty much) a random sample of the runners in the race.\n",
    "\n",
    "So where does the bias come from? During my time on the course, the chance of overtaking a runner, or being overtaken, is proportional to the difference in our speeds. I am more likely to catch a slow runner, and more likely to be caught by a fast runner. But runners at the same speed are unlikely to see each other.\n",
    "\n",
    "Write a function called `ObservedPmf` that takes a `Pmf` representing the actual distribution of runners' speeds, and the speed of a running observer, and returns a new `Pmf` representing the distribution of runners' speeds as seen by the observer.\n",
    "\n",
    "To test your function, you can use `relay.py`, which reads the results from the James Joyce Ramble 10K in Dedham, Massachusetts and converts the pace of each runner to mph.\n",
    "\n",
    "Compute the distribution of speeds you would observe if you ran a relay race at 7 mph with this group of runners."
   ]
  },
  {
   "cell_type": "code",
   "execution_count": 168,
   "id": "7382158b",
   "metadata": {},
   "outputs": [],
   "source": [
    "download(\"https://github.com/AllenDowney/ThinkStats/raw/v3/nb/relay.py\")\n",
    "download(\n",
    "    \"https://github.com/AllenDowney/ThinkStats/raw/v3/data/Apr25_27thAn_set1.shtml\"\n",
    ")"
   ]
  },
  {
   "cell_type": "code",
   "execution_count": 169,
   "id": "d6ef0e81",
   "metadata": {},
   "outputs": [],
   "source": [
    "import relay\n",
    "\n",
    "results = relay.read_results()\n",
    "speeds = relay.get_speeds(results)\n",
    "speeds = relay.bin_data(speeds, 3, 12, 100)"
   ]
  },
  {
   "cell_type": "code",
   "execution_count": 172,
   "id": "93c82191",
   "metadata": {},
   "outputs": [],
   "source": [
    "# Solution goes here"
   ]
  },
  {
   "cell_type": "code",
   "execution_count": 177,
   "id": "1af42d5b",
   "metadata": {},
   "outputs": [],
   "source": [
    "# Solution goes here"
   ]
  },
  {
   "cell_type": "code",
   "execution_count": 178,
   "id": "534b6e85",
   "metadata": {},
   "outputs": [],
   "source": [
    "# Solution goes here"
   ]
  },
  {
   "cell_type": "code",
   "execution_count": null,
   "id": "46da1c8f",
   "metadata": {},
   "outputs": [],
   "source": []
  },
  {
   "cell_type": "code",
   "execution_count": null,
   "id": "8c0f582a",
   "metadata": {},
   "outputs": [],
   "source": []
  }
 ],
 "metadata": {
  "kernelspec": {
   "display_name": "Python 3 (ipykernel)",
   "language": "python",
   "name": "python3"
  },
  "language_info": {
   "codemirror_mode": {
    "name": "ipython",
    "version": 3
   },
   "file_extension": ".py",
   "mimetype": "text/x-python",
   "name": "python",
   "nbconvert_exporter": "python",
   "pygments_lexer": "ipython3",
   "version": "3.10.14"
  }
 },
 "nbformat": 4,
 "nbformat_minor": 5
}
